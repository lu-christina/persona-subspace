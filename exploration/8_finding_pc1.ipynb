{
 "cells": [
  {
   "cell_type": "markdown",
   "id": "4ac740f8",
   "metadata": {},
   "source": [
    "# Finding other methods for getting role PC1"
   ]
  },
  {
   "cell_type": "code",
   "execution_count": 1,
   "id": "a09aec05",
   "metadata": {},
   "outputs": [],
   "source": [
    "# let's compare role PC1 to some of the vectors similar to it\n",
    "\n",
    "import os\n",
    "import sys\n",
    "import torch\n",
    "import numpy as np\n",
    "import pandas as pd\n",
    "import torch.nn.functional as F\n",
    "\n",
    "sys.path.append('.')\n",
    "sys.path.append('..')\n"
   ]
  },
  {
   "cell_type": "code",
   "execution_count": 2,
   "id": "e1bd4dfc",
   "metadata": {},
   "outputs": [],
   "source": [
    "# Configuration \n",
    "model_name = \"gemma-2-27b\"\n",
    "layer = 22\n",
    "\n",
    "base_dir = f\"/workspace/{model_name}\"\n",
    "type = \"roles_240\"\n",
    "dir = f\"{base_dir}/{type}\""
   ]
  },
  {
   "cell_type": "code",
   "execution_count": 3,
   "id": "135beda8",
   "metadata": {},
   "outputs": [],
   "source": [
    "pca_results = torch.load(f\"{dir}/pca/layer{layer}_pos23.pt\", weights_only=False)"
   ]
  },
  {
   "cell_type": "code",
   "execution_count": 4,
   "id": "9a02dc0c",
   "metadata": {},
   "outputs": [],
   "source": [
    "pc1 = pca_results['pca'].components_[0]\n",
    "pca_transformed = pca_results['pca_transformed']"
   ]
  },
  {
   "cell_type": "code",
   "execution_count": 5,
   "id": "b88dac16",
   "metadata": {},
   "outputs": [
    {
     "name": "stdout",
     "output_type": "stream",
     "text": [
      "448\n"
     ]
    }
   ],
   "source": [
    "def get_role_labels(pca_results):\n",
    "    labels = []\n",
    "    if 'pos_2' in pca_results['roles'].keys():\n",
    "        labels.extend(pca_results['roles']['pos_2'])\n",
    "    if 'pos_3' in pca_results['roles'].keys():\n",
    "        labels.extend(pca_results['roles']['pos_3'])\n",
    "    return labels\n",
    "\n",
    "def get_trait_labels(pca_results):\n",
    "    labels = []\n",
    "    if 'pos_neg' in pca_results['traits'].keys():\n",
    "        labels.extend(pca_results['traits']['pos_neg'])\n",
    "    if 'pos_neg_50' in pca_results['traits'].keys():\n",
    "        labels.extend(pca_results['traits']['pos_neg_50'])\n",
    "    return labels\n",
    "\n",
    "labels = get_role_labels(pca_results)\n",
    "print(len(labels))"
   ]
  },
  {
   "cell_type": "code",
   "execution_count": 31,
   "id": "03a51bec",
   "metadata": {},
   "outputs": [],
   "source": [
    "def sorted_by_pc(pc_index):\n",
    "    df = pd.DataFrame({\n",
    "        \"label\": labels,\n",
    "        \"projection\": pca_transformed[:, pc_index],\n",
    "        \"score\": [\"pos_2\"] * len(pca_results['roles']['pos_2']) + [\"pos_3\"] * len(pca_results['roles']['pos_3']) \n",
    "    })\n",
    "    df_sorted = df.sort_values(by=\"projection\", ascending=True)\n",
    "    return df_sorted"
   ]
  },
  {
   "cell_type": "code",
   "execution_count": 32,
   "id": "1a5b1797",
   "metadata": {},
   "outputs": [
    {
     "name": "stdout",
     "output_type": "stream",
     "text": [
      "['caveman', 'eldritch', 'leviathan', 'void', 'aberration']\n"
     ]
    }
   ],
   "source": [
    "pc_df = sorted_by_pc(0)\n",
    "top_roles = pc_df['label'].head(5).tolist()\n",
    "\n",
    "print(top_roles)"
   ]
  },
  {
   "cell_type": "code",
   "execution_count": 37,
   "id": "edbb23df",
   "metadata": {},
   "outputs": [],
   "source": [
    "top_role_activations = []\n",
    "for role in top_roles:\n",
    "    # load in the activations\n",
    "    obj = torch.load(f\"{dir}/vectors/{role}.pt\", weights_only=False)\n",
    "    top_role_activations.append(obj['pos_3'])\n",
    "\n",
    "# get the average activation of the top roles\n",
    "top_role_activations = torch.stack(top_role_activations) # roles, layers, hidden dim\n",
    "avg_top_role_activations = torch.mean(top_role_activations, dim=0) # layers, hidden dim\n"
   ]
  },
  {
   "cell_type": "code",
   "execution_count": 39,
   "id": "23423d0e",
   "metadata": {},
   "outputs": [
    {
     "name": "stdout",
     "output_type": "stream",
     "text": [
      "tensor([-0.0131, -0.0100, -0.0101, -0.0065, -0.0060], dtype=torch.float64) tensor(-0.0091, dtype=torch.float64)\n"
     ]
    }
   ],
   "source": [
    "# get cosine similarity with pc1\n",
    "pc1_torch = torch.tensor(pc1)\n",
    "top_role_sims = F.cosine_similarity(top_role_activations[:, layer, :], pc1_torch, dim=1)\n",
    "avg_top_role_sims = F.cosine_similarity(avg_top_role_activations[layer, :], pc1_torch, dim=0)\n",
    "\n",
    "print(top_role_sims, avg_top_role_sims)"
   ]
  },
  {
   "cell_type": "code",
   "execution_count": 48,
   "id": "6f626232",
   "metadata": {},
   "outputs": [],
   "source": [
    "# subtract the default assistant activation from the top role activations\n",
    "default_acts = torch.load(f\"{dir}/default_vectors.pt\", weights_only=False)\n",
    "default_acts = default_acts['activations']['default_1']"
   ]
  },
  {
   "cell_type": "code",
   "execution_count": 49,
   "id": "f3976727",
   "metadata": {},
   "outputs": [],
   "source": [
    "contrast_top_role_activations = top_role_activations - default_acts\n",
    "contrast_avg_top_role_activations = avg_top_role_activations - default_acts"
   ]
  },
  {
   "cell_type": "code",
   "execution_count": 51,
   "id": "7120de74",
   "metadata": {},
   "outputs": [
    {
     "name": "stdout",
     "output_type": "stream",
     "text": [
      "tensor([-0.3795, -0.4868, -0.4699, -0.4968, -0.4903], dtype=torch.float64) tensor(-0.5014, dtype=torch.float64)\n"
     ]
    }
   ],
   "source": [
    "top_role_sims = F.cosine_similarity(contrast_top_role_activations[:, layer, :], pc1_torch, dim=1)\n",
    "avg_top_role_sims = F.cosine_similarity(contrast_avg_top_role_activations[layer, :], pc1_torch, dim=0)\n",
    "\n",
    "print(top_role_sims, avg_top_role_sims)"
   ]
  },
  {
   "cell_type": "code",
   "execution_count": null,
   "id": "d6c80458",
   "metadata": {},
   "outputs": [],
   "source": []
  }
 ],
 "metadata": {
  "kernelspec": {
   "display_name": ".venv",
   "language": "python",
   "name": "python3"
  },
  "language_info": {
   "codemirror_mode": {
    "name": "ipython",
    "version": 3
   },
   "file_extension": ".py",
   "mimetype": "text/x-python",
   "name": "python",
   "nbconvert_exporter": "python",
   "pygments_lexer": "ipython3",
   "version": "3.13.5"
  }
 },
 "nbformat": 4,
 "nbformat_minor": 5
}
