{
 "cells": [
  {
   "cell_type": "markdown",
   "id": "9a9c9514",
   "metadata": {},
   "source": [
    "## Between Class Scatter (LDA)"
   ]
  },
  {
   "cell_type": "code",
   "execution_count": null,
   "id": "3d5277cc",
   "metadata": {},
   "outputs": [],
   "source": [
    "import os\n",
    "import sys\n",
    "import json\n",
    "import torch\n",
    "import numpy as np\n",
    "import pandas as pd\n",
    "\n",
    "sys.path.append('.')\n",
    "sys.path.append('..')\n",
    "\n",
    "from utils.pca_utils import L2MeanScaler, MeanScaler, compute_pca\n",
    "from plots import plot_pc"
   ]
  },
  {
   "cell_type": "markdown",
   "id": "81cb8efa",
   "metadata": {},
   "source": [
    "## Configuration"
   ]
  },
  {
   "cell_type": "code",
   "execution_count": 3,
   "id": "e0430319",
   "metadata": {},
   "outputs": [],
   "source": [
    "# Configuration - Change these parameters for different models/datasets\n",
    "base_dir = \"/workspace/gemma-2-27b\"\n",
    "type = \"roles_240\"\n",
    "dir = f\"{base_dir}/{type}\"\n",
    "model_name = \"Gemma-2-27B\"\n",
    "layer = 22"
   ]
  },
  {
   "cell_type": "code",
   "execution_count": 6,
   "id": "1d74ed24",
   "metadata": {},
   "outputs": [],
   "source": [
    "lda_results = torch.load(f\"{dir}/lda/layer{layer}_mean_pos23.pt\", weights_only=False)"
   ]
  },
  {
   "cell_type": "code",
   "execution_count": 11,
   "id": "f8bd61f0",
   "metadata": {},
   "outputs": [
    {
     "name": "stdout",
     "output_type": "stream",
     "text": [
      "448\n"
     ]
    }
   ],
   "source": [
    "def get_role_labels(pca_results):\n",
    "    labels = []\n",
    "    if 'pos_2' in pca_results['roles'].keys():\n",
    "        pos_2_roles = [role.replace('_', ' ').title() for role in pca_results['roles']['pos_2']]\n",
    "        pos_2_roles = [f\"{role} (Somewhat RP)\" for role in pos_2_roles]\n",
    "        labels.extend(pos_2_roles)\n",
    "    if 'pos_3' in pca_results['roles'].keys():\n",
    "        pos_3_roles = [role.replace('_', ' ').title() for role in pca_results['roles']['pos_3']]\n",
    "        pos_3_roles = [f\"{role} (Fully RP)\" for role in pos_3_roles]\n",
    "        labels.extend(pos_3_roles)\n",
    "    return labels\n",
    "\n",
    "role_labels = get_role_labels(lda_results)\n",
    "print(len(role_labels))\n"
   ]
  },
  {
   "cell_type": "code",
   "id": "h28b50iqb0p",
   "source": "# Load PCA results to get original vectors\npca_results = torch.load(f\"{dir}/pca/layer{layer}_pos23.pt\", weights_only=False)\n\n# Create a simple object to hold the components\nclass LDAComponents:\n    def __init__(self, components):\n        self.components_ = components\n\n# Combine LDA results with original vectors for plotting\nlda_results_for_plot = {\n    'pca_transformed': lda_results['mean_vectors_projected'],\n    'variance_explained': lda_results['variance_explained'],\n    'pca': LDAComponents(lda_results['projection_matrix'].T),\n    'scaler': lda_results['scaler'],\n    'roles': lda_results['roles'],\n    'vectors': {\n        'pos_2': pca_results['vectors']['pos_2'],  # Get from PCA\n        'pos_3': pca_results['vectors']['pos_3']   # Get from PCA\n    }\n}\n\nprint(f\"LDA results prepared for plotting\")\nprint(f\"  Projected shape: {lda_results_for_plot['pca_transformed'].shape}\")\nprint(f\"  Components shape: {lda_results_for_plot['pca'].components_.shape}\")\nprint(f\"  Variance explained: {len(lda_results_for_plot['variance_explained'])} components\")",
   "metadata": {},
   "execution_count": null,
   "outputs": []
  },
  {
   "cell_type": "code",
   "execution_count": null,
   "id": "pfv6w7n8n08",
   "metadata": {},
   "outputs": [],
   "source": "# Plot the LDA components using plot_pc\n# Similar to the PCA notebook, we'll plot the first few components\n\nsubtitle = f\"{model_name}, Layer {layer} - LDA Between-Class Scatter (MeanScaler)\"\n\nfor i in range(min(6, len(lda_results['variance_explained']))):  # Plot up to 6 components\n    fig = plot_pc(\n        pca_results=lda_results_for_plot,  # Use the combined structure\n        role_labels=role_labels,\n        layer=layer,\n        pc_component=i,\n        assistant_activation=None,  # Optional: add if you have default vectors\n        assistant_projection=None,  # Optional: add if you have default vectors\n        title=f\"LDA Component {i+1} - Role-Playing Vectors\",\n        subtitle=subtitle,\n        scaled=False  # We already scaled when creating the LDA projection\n    )\n    fig.show()"
  },
  {
   "cell_type": "code",
   "execution_count": null,
   "id": "91aa2702",
   "metadata": {},
   "outputs": [],
   "source": []
  }
 ],
 "metadata": {
  "kernelspec": {
   "display_name": ".venv",
   "language": "python",
   "name": "python3"
  },
  "language_info": {
   "codemirror_mode": {
    "name": "ipython",
    "version": 3
   },
   "file_extension": ".py",
   "mimetype": "text/x-python",
   "name": "python",
   "nbconvert_exporter": "python",
   "pygments_lexer": "ipython3",
   "version": "3.13.5"
  }
 },
 "nbformat": 4,
 "nbformat_minor": 5
}