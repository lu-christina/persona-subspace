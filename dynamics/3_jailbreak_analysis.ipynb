{
 "cells": [
  {
   "cell_type": "markdown",
   "id": "15db8810",
   "metadata": {},
   "source": [
    "# Analyzing scores and plotting them"
   ]
  },
  {
   "cell_type": "code",
   "execution_count": 2,
   "id": "aae4abb9",
   "metadata": {},
   "outputs": [],
   "source": [
    "import json\n",
    "import os\n",
    "import pandas as pd\n",
    "import numpy as np\n",
    "\n",
    "import plotly.graph_objects as go"
   ]
  },
  {
   "cell_type": "code",
   "execution_count": 3,
   "id": "7be2fb9a",
   "metadata": {},
   "outputs": [],
   "source": [
    "model = \"qwen-3-32b\"\n",
    "subtitle = f\"{model.replace('-', ' ').title()}\"\n",
    "base_dir = f\"/workspace/evals/jailbreak/{model}\"\n",
    "out_dir = f\"/root/git/plots/{model}/evals\"\n",
    "\n",
    "os.makedirs(out_dir, exist_ok=True)\n"
   ]
  },
  {
   "cell_type": "code",
   "execution_count": 4,
   "id": "b955093a",
   "metadata": {},
   "outputs": [],
   "source": [
    "# load scores from roles_20 as pandas dataframe\n",
    "\n",
    "prefill_path = f\"{base_dir}/jailbreak_spiral_turns1_scores.jsonl\"\n",
    "unsteered_default_path = f\"{base_dir}/unsteered/unsteered_default_scores.jsonl\"\n",
    "\n"
   ]
  },
  {
   "cell_type": "code",
   "execution_count": 5,
   "id": "0056634a",
   "metadata": {},
   "outputs": [
    {
     "name": "stdout",
     "output_type": "stream",
     "text": [
      "Loaded 4400 unsteered default scores\n",
      "Loaded 4400 prefill scores\n"
     ]
    }
   ],
   "source": [
    "\n",
    "    \n",
    "with open(unsteered_default_path, \"r\") as f:\n",
    "    unsteered_default_scores = [json.loads(line) for line in f]\n",
    "    \n",
    "with open(prefill_path, \"r\") as f:\n",
    "    prefill_scores = [json.loads(line) for line in f]\n",
    "\n",
    "\n",
    "\n",
    "\n",
    "# Convert to pandas DataFrames\n",
    "prefill_df = pd.DataFrame(prefill_scores)\n",
    "unsteered_default_df = pd.DataFrame(unsteered_default_scores)\n",
    "\n",
    "print(f\"Loaded {len(unsteered_default_df)} unsteered default scores\")   \n",
    "print(f\"Loaded {len(prefill_df)} prefill scores\")   "
   ]
  },
  {
   "cell_type": "markdown",
   "id": "4b325cbd",
   "metadata": {},
   "source": [
    "## Inspect scores\n"
   ]
  },
  {
   "cell_type": "code",
   "execution_count": 6,
   "id": "2ebef7af",
   "metadata": {},
   "outputs": [],
   "source": [
    "def pct_overall(df, name):\n",
    "    total = len(df)\n",
    "\n",
    "    # Raw counts of each label\n",
    "    counts = df[\"score\"].value_counts().sort_index()\n",
    "\n",
    "    # Percentages of each label\n",
    "    percentages = (counts / total * 100).round(1)\n",
    "\n",
    "    # Special targets\n",
    "    n_enough = counts.get(\"enough_info\", 0)\n",
    "    n_enough_perfect = counts.get(\"enough_info_and_follow_perfectly\", 0)\n",
    "    n_either = n_enough + n_enough_perfect\n",
    "\n",
    "    pct_enough = 100 * n_enough / total\n",
    "    pct_enough_perfect = 100 * n_enough_perfect / total\n",
    "    pct_either = 100 * n_either / total\n",
    "\n",
    "    print(f\"=== Overall Score Distribution: {name} ===\")\n",
    "    print(f\"Total samples: {total}\\n\")\n",
    "\n",
    "    # Print table of counts + percentages for each label\n",
    "    print(\"Per-label counts and percentages:\")\n",
    "    for label in counts.index:\n",
    "        print(f\"- {label}: {counts[label]} ({percentages[label]}%)\")\n",
    "\n",
    "    print(\"\\nTarget categories:\")\n",
    "    print(f\"- enough_info: {n_enough} ({pct_enough:.1f}%)\")\n",
    "    print(f\"- enough_info_and_follow_perfectly: {n_enough_perfect} ({pct_enough_perfect:.1f}%)\")\n",
    "    print(f\"- either: {n_either} ({pct_either:.1f}%)\")\n",
    "    print()\n"
   ]
  },
  {
   "cell_type": "code",
   "execution_count": 7,
   "id": "9ee16a3d",
   "metadata": {},
   "outputs": [
    {
     "name": "stdout",
     "output_type": "stream",
     "text": [
      "=== Overall Score Distribution: Prefill ===\n",
      "Total samples: 4400\n",
      "\n",
      "Per-label counts and percentages:\n",
      "- almost_enough_info: 24 (0.5%)\n",
      "- enough_info: 210 (4.8%)\n",
      "- out_of_context: 240 (5.5%)\n",
      "- refusal: 99 (2.2%)\n",
      "- refusal_and_justification: 277 (6.3%)\n",
      "- related_but_no_info: 3550 (80.7%)\n",
      "\n",
      "Target categories:\n",
      "- enough_info: 210 (4.8%)\n",
      "- enough_info_and_follow_perfectly: 0 (0.0%)\n",
      "- either: 210 (4.8%)\n",
      "\n"
     ]
    }
   ],
   "source": [
    "\n",
    "pct_overall(prefill_df, \"Prefill\")\n"
   ]
  },
  {
   "cell_type": "code",
   "execution_count": 8,
   "id": "23a07638",
   "metadata": {},
   "outputs": [
    {
     "name": "stdout",
     "output_type": "stream",
     "text": [
      "=== Overall Score Distribution: Unsteered + No Jailbreak ===\n",
      "Total samples: 4400\n",
      "\n",
      "Per-label counts and percentages:\n",
      "- almost_enough_info: 6 (0.1%)\n",
      "- enough_info: 51 (1.2%)\n",
      "- other: 1 (0.0%)\n",
      "- out_of_context: 137 (3.1%)\n",
      "- refusal: 416 (9.5%)\n",
      "- refusal_and_justification: 325 (7.4%)\n",
      "- related_but_no_info: 3463 (78.7%)\n",
      "- related_but_no_info.: 1 (0.0%)\n",
      "\n",
      "Target categories:\n",
      "- enough_info: 51 (1.2%)\n",
      "- enough_info_and_follow_perfectly: 0 (0.0%)\n",
      "- either: 51 (1.2%)\n",
      "\n"
     ]
    }
   ],
   "source": [
    "pct_overall(unsteered_default_df, \"Unsteered + No Jailbreak\")\n"
   ]
  },
  {
   "cell_type": "code",
   "execution_count": null,
   "id": "4e7a1876",
   "metadata": {},
   "outputs": [
    {
     "name": "stdout",
     "output_type": "stream",
     "text": [
      "Index(['id', 'role', 'prompt_id', 'question_id', 'prompt', 'question',\n",
      "       'harm_category', 'persona', 'response', 'magnitude', 'score',\n",
      "       'analysis'],\n",
      "      dtype='object')\n"
     ]
    }
   ],
   "source": [
    "print(unsteered_default_df.keys())"
   ]
  },
  {
   "cell_type": "markdown",
   "id": "b0611827",
   "metadata": {},
   "source": [
    "## Plot Response Distribution"
   ]
  },
  {
   "cell_type": "code",
   "execution_count": 10,
   "id": "d9cdvlx4lsk",
   "metadata": {},
   "outputs": [
    {
     "name": "stdout",
     "output_type": "stream",
     "text": [
      "Default Response percentages:\n",
      "  Harmful Info in Response: 1.2% (51/4400)\n",
      "  Almost Harmful: 0.1% (6/4400)\n",
      "  Related: 78.7% (3463/4400)\n",
      "  Refusal: 9.5% (416/4400)\n",
      "  Refusal & Justification: 7.4% (325/4400)\n",
      "  Out of Context: 3.1% (137/4400)\n",
      "  Other: 0.0% (1/4400)\n",
      "\n",
      "Prefilled Response percentages:\n",
      "  Harmful Info in Response: 4.8% (210/4400)\n",
      "  Almost Harmful: 0.5% (24/4400)\n",
      "  Related: 80.7% (3550/4400)\n",
      "  Refusal: 2.2% (99/4400)\n",
      "  Refusal & Justification: 6.3% (277/4400)\n",
      "  Out of Context: 5.5% (240/4400)\n"
     ]
    }
   ],
   "source": [
    "# Define all response categories and their colors\n",
    "ALL_LABELS = [\n",
    "    \"enough_info\",\n",
    "    \"enough_info_and_follow_perfectly\", \n",
    "    \"almost_enough_info\",\n",
    "    \"related_but_no_info\",\n",
    "    \"refusal\",\n",
    "    \"refusal_and_justification\",\n",
    "    \"out_of_context\",\n",
    "    \"other\"\n",
    "]\n",
    "\n",
    "COLORS = {\n",
    "    \"enough_info_and_follow_perfectly\": \"#e41a1c\",  # red\n",
    "    \"enough_info\": \"#ff7f00\",                      # orange\n",
    "    \"almost_enough_info\": \"#ffff33\",               # yellow\n",
    "    \"related_but_no_info\": \"#1f78b4\",              # cyan/blueish\n",
    "    \"refusal\": \"#b2df8a\",                          # lime green\n",
    "    \"refusal_and_justification\": \"#33a02c\",        # green\n",
    "    \"out_of_context\": \"#6a3d9a\",                   # purple\n",
    "    \"other\": \"#999999\",                            # grey\n",
    "}\n",
    "\n",
    "LABEL_MAP = {\n",
    "    \"enough_info\": \"Harmful Info in Response\",\n",
    "    \"enough_info_and_follow_perfectly\": \"Harmful Info & Perfectly Following Request\",\n",
    "    \"refusal\": \"Refusal\",\n",
    "    \"refusal_and_justification\": \"Refusal & Justification\",\n",
    "    \"out_of_context\": \"Out of Context\",\n",
    "    \"related_but_no_info\": \"Related\",\n",
    "    \"almost_enough_info\": \"Almost Harmful\",\n",
    "    \"other\": \"Other\",\n",
    "}\n",
    "\n",
    "def calculate_percentages(df, name):\n",
    "    \"\"\"Calculate percentages for all response categories\"\"\"\n",
    "    total = len(df)\n",
    "    counts = df[\"score\"].value_counts()\n",
    "    \n",
    "    # Ensure all labels are present\n",
    "    percentages = {}\n",
    "    actual_counts = {}\n",
    "    for label in ALL_LABELS:\n",
    "        count = counts.get(label, 0)\n",
    "        actual_counts[label] = count\n",
    "        percentages[label] = (count / total * 100) if total > 0 else 0\n",
    "    \n",
    "    return percentages, actual_counts, total\n",
    "\n",
    "# Calculate data for both conditions\n",
    "default_pct, default_counts, default_total = calculate_percentages(unsteered_default_df, \"Default\")\n",
    "prefill_pct, prefill_counts, prefill_total = calculate_percentages(prefill_df, \"Prefill\")\n",
    "\n",
    "print(\"Default Response percentages:\")\n",
    "for label in ALL_LABELS:\n",
    "    if default_counts[label] > 0:\n",
    "        print(f\"  {LABEL_MAP[label]}: {default_pct[label]:.1f}% ({default_counts[label]}/{default_total})\")\n",
    "\n",
    "print(\"\\nPrefilled Response percentages:\")\n",
    "for label in ALL_LABELS:\n",
    "    if prefill_counts[label] > 0:\n",
    "        print(f\"  {LABEL_MAP[label]}: {prefill_pct[label]:.1f}% ({prefill_counts[label]}/{prefill_total})\")"
   ]
  },
  {
   "cell_type": "code",
   "execution_count": 22,
   "id": "kghfz8f6avc",
   "metadata": {},
   "outputs": [
    {
     "data": {
      "application/vnd.plotly.v1+json": {
       "config": {
        "plotlyServerURL": "https://plot.ly"
       },
       "data": [
        {
         "customdata": [
          [
           51,
           4400,
           "Default Response"
          ],
          [
           210,
           4400,
           "Prefilled Responses"
          ]
         ],
         "hovertemplate": "%{fullData.name}<br>Condition: %{customdata[2]}<br>Percentage: %{y:.1f}%<br>Count: %{customdata[0]} / %{customdata[1]}<extra></extra>",
         "marker": {
          "color": "#ff7f00"
         },
         "name": "Harmful Info in Response",
         "text": [
          "",
          "4.8%"
         ],
         "textposition": "inside",
         "type": "bar",
         "width": 0.4,
         "x": [
          0,
          1
         ],
         "y": [
          1.1590909090909092,
          4.772727272727273
         ]
        },
        {
         "customdata": [
          [
           6,
           4400,
           "Default Response"
          ],
          [
           24,
           4400,
           "Prefilled Responses"
          ]
         ],
         "hovertemplate": "%{fullData.name}<br>Condition: %{customdata[2]}<br>Percentage: %{y:.1f}%<br>Count: %{customdata[0]} / %{customdata[1]}<extra></extra>",
         "marker": {
          "color": "#ffff33"
         },
         "name": "Almost Harmful",
         "text": [
          "",
          ""
         ],
         "textposition": "inside",
         "type": "bar",
         "width": 0.4,
         "x": [
          0,
          1
         ],
         "y": [
          0.13636363636363638,
          0.5454545454545455
         ]
        },
        {
         "customdata": [
          [
           3463,
           4400,
           "Default Response"
          ],
          [
           3550,
           4400,
           "Prefilled Responses"
          ]
         ],
         "hovertemplate": "%{fullData.name}<br>Condition: %{customdata[2]}<br>Percentage: %{y:.1f}%<br>Count: %{customdata[0]} / %{customdata[1]}<extra></extra>",
         "marker": {
          "color": "#1f78b4"
         },
         "name": "Related",
         "text": [
          "78.7%",
          "80.7%"
         ],
         "textposition": "inside",
         "type": "bar",
         "width": 0.4,
         "x": [
          0,
          1
         ],
         "y": [
          78.70454545454545,
          80.68181818181817
         ]
        },
        {
         "customdata": [
          [
           416,
           4400,
           "Default Response"
          ],
          [
           99,
           4400,
           "Prefilled Responses"
          ]
         ],
         "hovertemplate": "%{fullData.name}<br>Condition: %{customdata[2]}<br>Percentage: %{y:.1f}%<br>Count: %{customdata[0]} / %{customdata[1]}<extra></extra>",
         "marker": {
          "color": "#b2df8a"
         },
         "name": "Refusal",
         "text": [
          "9.5%",
          ""
         ],
         "textposition": "inside",
         "type": "bar",
         "width": 0.4,
         "x": [
          0,
          1
         ],
         "y": [
          9.454545454545455,
          2.25
         ]
        },
        {
         "customdata": [
          [
           325,
           4400,
           "Default Response"
          ],
          [
           277,
           4400,
           "Prefilled Responses"
          ]
         ],
         "hovertemplate": "%{fullData.name}<br>Condition: %{customdata[2]}<br>Percentage: %{y:.1f}%<br>Count: %{customdata[0]} / %{customdata[1]}<extra></extra>",
         "marker": {
          "color": "#33a02c"
         },
         "name": "Refusal & Justification",
         "text": [
          "7.4%",
          "6.3%"
         ],
         "textposition": "inside",
         "type": "bar",
         "width": 0.4,
         "x": [
          0,
          1
         ],
         "y": [
          7.386363636363637,
          6.295454545454546
         ]
        },
        {
         "customdata": [
          [
           137,
           4400,
           "Default Response"
          ],
          [
           240,
           4400,
           "Prefilled Responses"
          ]
         ],
         "hovertemplate": "%{fullData.name}<br>Condition: %{customdata[2]}<br>Percentage: %{y:.1f}%<br>Count: %{customdata[0]} / %{customdata[1]}<extra></extra>",
         "marker": {
          "color": "#6a3d9a"
         },
         "name": "Out of Context",
         "text": [
          "",
          "5.5%"
         ],
         "textposition": "inside",
         "type": "bar",
         "width": 0.4,
         "x": [
          0,
          1
         ],
         "y": [
          3.1136363636363638,
          5.454545454545454
         ]
        },
        {
         "customdata": [
          [
           1,
           4400,
           "Default Response"
          ],
          [
           0,
           4400,
           "Prefilled Responses"
          ]
         ],
         "hovertemplate": "%{fullData.name}<br>Condition: %{customdata[2]}<br>Percentage: %{y:.1f}%<br>Count: %{customdata[0]} / %{customdata[1]}<extra></extra>",
         "marker": {
          "color": "#999999"
         },
         "name": "Other",
         "text": [
          "",
          ""
         ],
         "textposition": "inside",
         "type": "bar",
         "width": 0.4,
         "x": [
          0,
          1
         ],
         "y": [
          0.022727272727272728,
          0
         ]
        }
       ],
       "layout": {
        "bargap": 0.4,
        "barmode": "stack",
        "height": 700,
        "legend": {
         "orientation": "v",
         "x": 1.02,
         "xanchor": "left",
         "y": 1,
         "yanchor": "top"
        },
        "template": {
         "data": {
          "bar": [
           {
            "error_x": {
             "color": "#2a3f5f"
            },
            "error_y": {
             "color": "#2a3f5f"
            },
            "marker": {
             "line": {
              "color": "#E5ECF6",
              "width": 0.5
             },
             "pattern": {
              "fillmode": "overlay",
              "size": 10,
              "solidity": 0.2
             }
            },
            "type": "bar"
           }
          ],
          "barpolar": [
           {
            "marker": {
             "line": {
              "color": "#E5ECF6",
              "width": 0.5
             },
             "pattern": {
              "fillmode": "overlay",
              "size": 10,
              "solidity": 0.2
             }
            },
            "type": "barpolar"
           }
          ],
          "carpet": [
           {
            "aaxis": {
             "endlinecolor": "#2a3f5f",
             "gridcolor": "white",
             "linecolor": "white",
             "minorgridcolor": "white",
             "startlinecolor": "#2a3f5f"
            },
            "baxis": {
             "endlinecolor": "#2a3f5f",
             "gridcolor": "white",
             "linecolor": "white",
             "minorgridcolor": "white",
             "startlinecolor": "#2a3f5f"
            },
            "type": "carpet"
           }
          ],
          "choropleth": [
           {
            "colorbar": {
             "outlinewidth": 0,
             "ticks": ""
            },
            "type": "choropleth"
           }
          ],
          "contour": [
           {
            "colorbar": {
             "outlinewidth": 0,
             "ticks": ""
            },
            "colorscale": [
             [
              0,
              "#0d0887"
             ],
             [
              0.1111111111111111,
              "#46039f"
             ],
             [
              0.2222222222222222,
              "#7201a8"
             ],
             [
              0.3333333333333333,
              "#9c179e"
             ],
             [
              0.4444444444444444,
              "#bd3786"
             ],
             [
              0.5555555555555556,
              "#d8576b"
             ],
             [
              0.6666666666666666,
              "#ed7953"
             ],
             [
              0.7777777777777778,
              "#fb9f3a"
             ],
             [
              0.8888888888888888,
              "#fdca26"
             ],
             [
              1,
              "#f0f921"
             ]
            ],
            "type": "contour"
           }
          ],
          "contourcarpet": [
           {
            "colorbar": {
             "outlinewidth": 0,
             "ticks": ""
            },
            "type": "contourcarpet"
           }
          ],
          "heatmap": [
           {
            "colorbar": {
             "outlinewidth": 0,
             "ticks": ""
            },
            "colorscale": [
             [
              0,
              "#0d0887"
             ],
             [
              0.1111111111111111,
              "#46039f"
             ],
             [
              0.2222222222222222,
              "#7201a8"
             ],
             [
              0.3333333333333333,
              "#9c179e"
             ],
             [
              0.4444444444444444,
              "#bd3786"
             ],
             [
              0.5555555555555556,
              "#d8576b"
             ],
             [
              0.6666666666666666,
              "#ed7953"
             ],
             [
              0.7777777777777778,
              "#fb9f3a"
             ],
             [
              0.8888888888888888,
              "#fdca26"
             ],
             [
              1,
              "#f0f921"
             ]
            ],
            "type": "heatmap"
           }
          ],
          "heatmapgl": [
           {
            "colorbar": {
             "outlinewidth": 0,
             "ticks": ""
            },
            "colorscale": [
             [
              0,
              "#0d0887"
             ],
             [
              0.1111111111111111,
              "#46039f"
             ],
             [
              0.2222222222222222,
              "#7201a8"
             ],
             [
              0.3333333333333333,
              "#9c179e"
             ],
             [
              0.4444444444444444,
              "#bd3786"
             ],
             [
              0.5555555555555556,
              "#d8576b"
             ],
             [
              0.6666666666666666,
              "#ed7953"
             ],
             [
              0.7777777777777778,
              "#fb9f3a"
             ],
             [
              0.8888888888888888,
              "#fdca26"
             ],
             [
              1,
              "#f0f921"
             ]
            ],
            "type": "heatmapgl"
           }
          ],
          "histogram": [
           {
            "marker": {
             "pattern": {
              "fillmode": "overlay",
              "size": 10,
              "solidity": 0.2
             }
            },
            "type": "histogram"
           }
          ],
          "histogram2d": [
           {
            "colorbar": {
             "outlinewidth": 0,
             "ticks": ""
            },
            "colorscale": [
             [
              0,
              "#0d0887"
             ],
             [
              0.1111111111111111,
              "#46039f"
             ],
             [
              0.2222222222222222,
              "#7201a8"
             ],
             [
              0.3333333333333333,
              "#9c179e"
             ],
             [
              0.4444444444444444,
              "#bd3786"
             ],
             [
              0.5555555555555556,
              "#d8576b"
             ],
             [
              0.6666666666666666,
              "#ed7953"
             ],
             [
              0.7777777777777778,
              "#fb9f3a"
             ],
             [
              0.8888888888888888,
              "#fdca26"
             ],
             [
              1,
              "#f0f921"
             ]
            ],
            "type": "histogram2d"
           }
          ],
          "histogram2dcontour": [
           {
            "colorbar": {
             "outlinewidth": 0,
             "ticks": ""
            },
            "colorscale": [
             [
              0,
              "#0d0887"
             ],
             [
              0.1111111111111111,
              "#46039f"
             ],
             [
              0.2222222222222222,
              "#7201a8"
             ],
             [
              0.3333333333333333,
              "#9c179e"
             ],
             [
              0.4444444444444444,
              "#bd3786"
             ],
             [
              0.5555555555555556,
              "#d8576b"
             ],
             [
              0.6666666666666666,
              "#ed7953"
             ],
             [
              0.7777777777777778,
              "#fb9f3a"
             ],
             [
              0.8888888888888888,
              "#fdca26"
             ],
             [
              1,
              "#f0f921"
             ]
            ],
            "type": "histogram2dcontour"
           }
          ],
          "mesh3d": [
           {
            "colorbar": {
             "outlinewidth": 0,
             "ticks": ""
            },
            "type": "mesh3d"
           }
          ],
          "parcoords": [
           {
            "line": {
             "colorbar": {
              "outlinewidth": 0,
              "ticks": ""
             }
            },
            "type": "parcoords"
           }
          ],
          "pie": [
           {
            "automargin": true,
            "type": "pie"
           }
          ],
          "scatter": [
           {
            "fillpattern": {
             "fillmode": "overlay",
             "size": 10,
             "solidity": 0.2
            },
            "type": "scatter"
           }
          ],
          "scatter3d": [
           {
            "line": {
             "colorbar": {
              "outlinewidth": 0,
              "ticks": ""
             }
            },
            "marker": {
             "colorbar": {
              "outlinewidth": 0,
              "ticks": ""
             }
            },
            "type": "scatter3d"
           }
          ],
          "scattercarpet": [
           {
            "marker": {
             "colorbar": {
              "outlinewidth": 0,
              "ticks": ""
             }
            },
            "type": "scattercarpet"
           }
          ],
          "scattergeo": [
           {
            "marker": {
             "colorbar": {
              "outlinewidth": 0,
              "ticks": ""
             }
            },
            "type": "scattergeo"
           }
          ],
          "scattergl": [
           {
            "marker": {
             "colorbar": {
              "outlinewidth": 0,
              "ticks": ""
             }
            },
            "type": "scattergl"
           }
          ],
          "scattermapbox": [
           {
            "marker": {
             "colorbar": {
              "outlinewidth": 0,
              "ticks": ""
             }
            },
            "type": "scattermapbox"
           }
          ],
          "scatterpolar": [
           {
            "marker": {
             "colorbar": {
              "outlinewidth": 0,
              "ticks": ""
             }
            },
            "type": "scatterpolar"
           }
          ],
          "scatterpolargl": [
           {
            "marker": {
             "colorbar": {
              "outlinewidth": 0,
              "ticks": ""
             }
            },
            "type": "scatterpolargl"
           }
          ],
          "scatterternary": [
           {
            "marker": {
             "colorbar": {
              "outlinewidth": 0,
              "ticks": ""
             }
            },
            "type": "scatterternary"
           }
          ],
          "surface": [
           {
            "colorbar": {
             "outlinewidth": 0,
             "ticks": ""
            },
            "colorscale": [
             [
              0,
              "#0d0887"
             ],
             [
              0.1111111111111111,
              "#46039f"
             ],
             [
              0.2222222222222222,
              "#7201a8"
             ],
             [
              0.3333333333333333,
              "#9c179e"
             ],
             [
              0.4444444444444444,
              "#bd3786"
             ],
             [
              0.5555555555555556,
              "#d8576b"
             ],
             [
              0.6666666666666666,
              "#ed7953"
             ],
             [
              0.7777777777777778,
              "#fb9f3a"
             ],
             [
              0.8888888888888888,
              "#fdca26"
             ],
             [
              1,
              "#f0f921"
             ]
            ],
            "type": "surface"
           }
          ],
          "table": [
           {
            "cells": {
             "fill": {
              "color": "#EBF0F8"
             },
             "line": {
              "color": "white"
             }
            },
            "header": {
             "fill": {
              "color": "#C8D4E3"
             },
             "line": {
              "color": "white"
             }
            },
            "type": "table"
           }
          ]
         },
         "layout": {
          "annotationdefaults": {
           "arrowcolor": "#2a3f5f",
           "arrowhead": 0,
           "arrowwidth": 1
          },
          "autotypenumbers": "strict",
          "coloraxis": {
           "colorbar": {
            "outlinewidth": 0,
            "ticks": ""
           }
          },
          "colorscale": {
           "diverging": [
            [
             0,
             "#8e0152"
            ],
            [
             0.1,
             "#c51b7d"
            ],
            [
             0.2,
             "#de77ae"
            ],
            [
             0.3,
             "#f1b6da"
            ],
            [
             0.4,
             "#fde0ef"
            ],
            [
             0.5,
             "#f7f7f7"
            ],
            [
             0.6,
             "#e6f5d0"
            ],
            [
             0.7,
             "#b8e186"
            ],
            [
             0.8,
             "#7fbc41"
            ],
            [
             0.9,
             "#4d9221"
            ],
            [
             1,
             "#276419"
            ]
           ],
           "sequential": [
            [
             0,
             "#0d0887"
            ],
            [
             0.1111111111111111,
             "#46039f"
            ],
            [
             0.2222222222222222,
             "#7201a8"
            ],
            [
             0.3333333333333333,
             "#9c179e"
            ],
            [
             0.4444444444444444,
             "#bd3786"
            ],
            [
             0.5555555555555556,
             "#d8576b"
            ],
            [
             0.6666666666666666,
             "#ed7953"
            ],
            [
             0.7777777777777778,
             "#fb9f3a"
            ],
            [
             0.8888888888888888,
             "#fdca26"
            ],
            [
             1,
             "#f0f921"
            ]
           ],
           "sequentialminus": [
            [
             0,
             "#0d0887"
            ],
            [
             0.1111111111111111,
             "#46039f"
            ],
            [
             0.2222222222222222,
             "#7201a8"
            ],
            [
             0.3333333333333333,
             "#9c179e"
            ],
            [
             0.4444444444444444,
             "#bd3786"
            ],
            [
             0.5555555555555556,
             "#d8576b"
            ],
            [
             0.6666666666666666,
             "#ed7953"
            ],
            [
             0.7777777777777778,
             "#fb9f3a"
            ],
            [
             0.8888888888888888,
             "#fdca26"
            ],
            [
             1,
             "#f0f921"
            ]
           ]
          },
          "colorway": [
           "#636efa",
           "#EF553B",
           "#00cc96",
           "#ab63fa",
           "#FFA15A",
           "#19d3f3",
           "#FF6692",
           "#B6E880",
           "#FF97FF",
           "#FECB52"
          ],
          "font": {
           "color": "#2a3f5f"
          },
          "geo": {
           "bgcolor": "white",
           "lakecolor": "white",
           "landcolor": "#E5ECF6",
           "showlakes": true,
           "showland": true,
           "subunitcolor": "white"
          },
          "hoverlabel": {
           "align": "left"
          },
          "hovermode": "closest",
          "mapbox": {
           "style": "light"
          },
          "paper_bgcolor": "white",
          "plot_bgcolor": "#E5ECF6",
          "polar": {
           "angularaxis": {
            "gridcolor": "white",
            "linecolor": "white",
            "ticks": ""
           },
           "bgcolor": "#E5ECF6",
           "radialaxis": {
            "gridcolor": "white",
            "linecolor": "white",
            "ticks": ""
           }
          },
          "scene": {
           "xaxis": {
            "backgroundcolor": "#E5ECF6",
            "gridcolor": "white",
            "gridwidth": 2,
            "linecolor": "white",
            "showbackground": true,
            "ticks": "",
            "zerolinecolor": "white"
           },
           "yaxis": {
            "backgroundcolor": "#E5ECF6",
            "gridcolor": "white",
            "gridwidth": 2,
            "linecolor": "white",
            "showbackground": true,
            "ticks": "",
            "zerolinecolor": "white"
           },
           "zaxis": {
            "backgroundcolor": "#E5ECF6",
            "gridcolor": "white",
            "gridwidth": 2,
            "linecolor": "white",
            "showbackground": true,
            "ticks": "",
            "zerolinecolor": "white"
           }
          },
          "shapedefaults": {
           "line": {
            "color": "#2a3f5f"
           }
          },
          "ternary": {
           "aaxis": {
            "gridcolor": "white",
            "linecolor": "white",
            "ticks": ""
           },
           "baxis": {
            "gridcolor": "white",
            "linecolor": "white",
            "ticks": ""
           },
           "bgcolor": "#E5ECF6",
           "caxis": {
            "gridcolor": "white",
            "linecolor": "white",
            "ticks": ""
           }
          },
          "title": {
           "x": 0.05
          },
          "xaxis": {
           "automargin": true,
           "gridcolor": "white",
           "linecolor": "white",
           "ticks": "",
           "title": {
            "standoff": 15
           },
           "zerolinecolor": "white",
           "zerolinewidth": 2
          },
          "yaxis": {
           "automargin": true,
           "gridcolor": "white",
           "linecolor": "white",
           "ticks": "",
           "title": {
            "standoff": 15
           },
           "zerolinecolor": "white",
           "zerolinewidth": 2
          }
         }
        },
        "title": {
         "subtitle": {
          "text": "Qwen 3 32B, Prefilled with 1 Turn from Spiral Transcript"
         },
         "text": "Responses to Harmful Questions with High Projection on Role PC1"
        },
        "width": 800,
        "xaxis": {
         "gridcolor": "lightgray",
         "showgrid": true,
         "tickmode": "array",
         "ticktext": [
          "Baseline",
          "1 Role-Playing Turn"
         ],
         "tickvals": [
          0,
          1
         ],
         "title": {
          "text": "Condition"
         }
        },
        "yaxis": {
         "gridcolor": "lightgray",
         "range": [
          0,
          105
         ],
         "showgrid": true,
         "title": {
          "text": "Percentage of Responses"
         }
        }
       }
      },
      "text/html": [
       "<div>                            <div id=\"c46626c0-2e85-4332-af4f-58a6f697c40b\" class=\"plotly-graph-div\" style=\"height:700px; width:800px;\"></div>            <script type=\"text/javascript\">                require([\"plotly\"], function(Plotly) {                    window.PLOTLYENV=window.PLOTLYENV || {};                                    if (document.getElementById(\"c46626c0-2e85-4332-af4f-58a6f697c40b\")) {                    Plotly.newPlot(                        \"c46626c0-2e85-4332-af4f-58a6f697c40b\",                        [{\"customdata\":[[51,4400,\"Default Response\"],[210,4400,\"Prefilled Responses\"]],\"hovertemplate\":\"%{fullData.name}\\u003cbr\\u003eCondition: %{customdata[2]}\\u003cbr\\u003ePercentage: %{y:.1f}%\\u003cbr\\u003eCount: %{customdata[0]} \\u002f %{customdata[1]}\\u003cextra\\u003e\\u003c\\u002fextra\\u003e\",\"marker\":{\"color\":\"#ff7f00\"},\"name\":\"Harmful Info in Response\",\"text\":[\"\",\"4.8%\"],\"textposition\":\"inside\",\"width\":0.4,\"x\":[0,1],\"y\":[1.1590909090909092,4.772727272727273],\"type\":\"bar\"},{\"customdata\":[[6,4400,\"Default Response\"],[24,4400,\"Prefilled Responses\"]],\"hovertemplate\":\"%{fullData.name}\\u003cbr\\u003eCondition: %{customdata[2]}\\u003cbr\\u003ePercentage: %{y:.1f}%\\u003cbr\\u003eCount: %{customdata[0]} \\u002f %{customdata[1]}\\u003cextra\\u003e\\u003c\\u002fextra\\u003e\",\"marker\":{\"color\":\"#ffff33\"},\"name\":\"Almost Harmful\",\"text\":[\"\",\"\"],\"textposition\":\"inside\",\"width\":0.4,\"x\":[0,1],\"y\":[0.13636363636363638,0.5454545454545455],\"type\":\"bar\"},{\"customdata\":[[3463,4400,\"Default Response\"],[3550,4400,\"Prefilled Responses\"]],\"hovertemplate\":\"%{fullData.name}\\u003cbr\\u003eCondition: %{customdata[2]}\\u003cbr\\u003ePercentage: %{y:.1f}%\\u003cbr\\u003eCount: %{customdata[0]} \\u002f %{customdata[1]}\\u003cextra\\u003e\\u003c\\u002fextra\\u003e\",\"marker\":{\"color\":\"#1f78b4\"},\"name\":\"Related\",\"text\":[\"78.7%\",\"80.7%\"],\"textposition\":\"inside\",\"width\":0.4,\"x\":[0,1],\"y\":[78.70454545454545,80.68181818181817],\"type\":\"bar\"},{\"customdata\":[[416,4400,\"Default Response\"],[99,4400,\"Prefilled Responses\"]],\"hovertemplate\":\"%{fullData.name}\\u003cbr\\u003eCondition: %{customdata[2]}\\u003cbr\\u003ePercentage: %{y:.1f}%\\u003cbr\\u003eCount: %{customdata[0]} \\u002f %{customdata[1]}\\u003cextra\\u003e\\u003c\\u002fextra\\u003e\",\"marker\":{\"color\":\"#b2df8a\"},\"name\":\"Refusal\",\"text\":[\"9.5%\",\"\"],\"textposition\":\"inside\",\"width\":0.4,\"x\":[0,1],\"y\":[9.454545454545455,2.25],\"type\":\"bar\"},{\"customdata\":[[325,4400,\"Default Response\"],[277,4400,\"Prefilled Responses\"]],\"hovertemplate\":\"%{fullData.name}\\u003cbr\\u003eCondition: %{customdata[2]}\\u003cbr\\u003ePercentage: %{y:.1f}%\\u003cbr\\u003eCount: %{customdata[0]} \\u002f %{customdata[1]}\\u003cextra\\u003e\\u003c\\u002fextra\\u003e\",\"marker\":{\"color\":\"#33a02c\"},\"name\":\"Refusal & Justification\",\"text\":[\"7.4%\",\"6.3%\"],\"textposition\":\"inside\",\"width\":0.4,\"x\":[0,1],\"y\":[7.386363636363637,6.295454545454546],\"type\":\"bar\"},{\"customdata\":[[137,4400,\"Default Response\"],[240,4400,\"Prefilled Responses\"]],\"hovertemplate\":\"%{fullData.name}\\u003cbr\\u003eCondition: %{customdata[2]}\\u003cbr\\u003ePercentage: %{y:.1f}%\\u003cbr\\u003eCount: %{customdata[0]} \\u002f %{customdata[1]}\\u003cextra\\u003e\\u003c\\u002fextra\\u003e\",\"marker\":{\"color\":\"#6a3d9a\"},\"name\":\"Out of Context\",\"text\":[\"\",\"5.5%\"],\"textposition\":\"inside\",\"width\":0.4,\"x\":[0,1],\"y\":[3.1136363636363638,5.454545454545454],\"type\":\"bar\"},{\"customdata\":[[1,4400,\"Default Response\"],[0,4400,\"Prefilled Responses\"]],\"hovertemplate\":\"%{fullData.name}\\u003cbr\\u003eCondition: %{customdata[2]}\\u003cbr\\u003ePercentage: %{y:.1f}%\\u003cbr\\u003eCount: %{customdata[0]} \\u002f %{customdata[1]}\\u003cextra\\u003e\\u003c\\u002fextra\\u003e\",\"marker\":{\"color\":\"#999999\"},\"name\":\"Other\",\"text\":[\"\",\"\"],\"textposition\":\"inside\",\"width\":0.4,\"x\":[0,1],\"y\":[0.022727272727272728,0.0],\"type\":\"bar\"}],                        {\"template\":{\"data\":{\"histogram2dcontour\":[{\"type\":\"histogram2dcontour\",\"colorbar\":{\"outlinewidth\":0,\"ticks\":\"\"},\"colorscale\":[[0.0,\"#0d0887\"],[0.1111111111111111,\"#46039f\"],[0.2222222222222222,\"#7201a8\"],[0.3333333333333333,\"#9c179e\"],[0.4444444444444444,\"#bd3786\"],[0.5555555555555556,\"#d8576b\"],[0.6666666666666666,\"#ed7953\"],[0.7777777777777778,\"#fb9f3a\"],[0.8888888888888888,\"#fdca26\"],[1.0,\"#f0f921\"]]}],\"choropleth\":[{\"type\":\"choropleth\",\"colorbar\":{\"outlinewidth\":0,\"ticks\":\"\"}}],\"histogram2d\":[{\"type\":\"histogram2d\",\"colorbar\":{\"outlinewidth\":0,\"ticks\":\"\"},\"colorscale\":[[0.0,\"#0d0887\"],[0.1111111111111111,\"#46039f\"],[0.2222222222222222,\"#7201a8\"],[0.3333333333333333,\"#9c179e\"],[0.4444444444444444,\"#bd3786\"],[0.5555555555555556,\"#d8576b\"],[0.6666666666666666,\"#ed7953\"],[0.7777777777777778,\"#fb9f3a\"],[0.8888888888888888,\"#fdca26\"],[1.0,\"#f0f921\"]]}],\"heatmap\":[{\"type\":\"heatmap\",\"colorbar\":{\"outlinewidth\":0,\"ticks\":\"\"},\"colorscale\":[[0.0,\"#0d0887\"],[0.1111111111111111,\"#46039f\"],[0.2222222222222222,\"#7201a8\"],[0.3333333333333333,\"#9c179e\"],[0.4444444444444444,\"#bd3786\"],[0.5555555555555556,\"#d8576b\"],[0.6666666666666666,\"#ed7953\"],[0.7777777777777778,\"#fb9f3a\"],[0.8888888888888888,\"#fdca26\"],[1.0,\"#f0f921\"]]}],\"heatmapgl\":[{\"type\":\"heatmapgl\",\"colorbar\":{\"outlinewidth\":0,\"ticks\":\"\"},\"colorscale\":[[0.0,\"#0d0887\"],[0.1111111111111111,\"#46039f\"],[0.2222222222222222,\"#7201a8\"],[0.3333333333333333,\"#9c179e\"],[0.4444444444444444,\"#bd3786\"],[0.5555555555555556,\"#d8576b\"],[0.6666666666666666,\"#ed7953\"],[0.7777777777777778,\"#fb9f3a\"],[0.8888888888888888,\"#fdca26\"],[1.0,\"#f0f921\"]]}],\"contourcarpet\":[{\"type\":\"contourcarpet\",\"colorbar\":{\"outlinewidth\":0,\"ticks\":\"\"}}],\"contour\":[{\"type\":\"contour\",\"colorbar\":{\"outlinewidth\":0,\"ticks\":\"\"},\"colorscale\":[[0.0,\"#0d0887\"],[0.1111111111111111,\"#46039f\"],[0.2222222222222222,\"#7201a8\"],[0.3333333333333333,\"#9c179e\"],[0.4444444444444444,\"#bd3786\"],[0.5555555555555556,\"#d8576b\"],[0.6666666666666666,\"#ed7953\"],[0.7777777777777778,\"#fb9f3a\"],[0.8888888888888888,\"#fdca26\"],[1.0,\"#f0f921\"]]}],\"surface\":[{\"type\":\"surface\",\"colorbar\":{\"outlinewidth\":0,\"ticks\":\"\"},\"colorscale\":[[0.0,\"#0d0887\"],[0.1111111111111111,\"#46039f\"],[0.2222222222222222,\"#7201a8\"],[0.3333333333333333,\"#9c179e\"],[0.4444444444444444,\"#bd3786\"],[0.5555555555555556,\"#d8576b\"],[0.6666666666666666,\"#ed7953\"],[0.7777777777777778,\"#fb9f3a\"],[0.8888888888888888,\"#fdca26\"],[1.0,\"#f0f921\"]]}],\"mesh3d\":[{\"type\":\"mesh3d\",\"colorbar\":{\"outlinewidth\":0,\"ticks\":\"\"}}],\"scatter\":[{\"fillpattern\":{\"fillmode\":\"overlay\",\"size\":10,\"solidity\":0.2},\"type\":\"scatter\"}],\"parcoords\":[{\"type\":\"parcoords\",\"line\":{\"colorbar\":{\"outlinewidth\":0,\"ticks\":\"\"}}}],\"scatterpolargl\":[{\"type\":\"scatterpolargl\",\"marker\":{\"colorbar\":{\"outlinewidth\":0,\"ticks\":\"\"}}}],\"bar\":[{\"error_x\":{\"color\":\"#2a3f5f\"},\"error_y\":{\"color\":\"#2a3f5f\"},\"marker\":{\"line\":{\"color\":\"#E5ECF6\",\"width\":0.5},\"pattern\":{\"fillmode\":\"overlay\",\"size\":10,\"solidity\":0.2}},\"type\":\"bar\"}],\"scattergeo\":[{\"type\":\"scattergeo\",\"marker\":{\"colorbar\":{\"outlinewidth\":0,\"ticks\":\"\"}}}],\"scatterpolar\":[{\"type\":\"scatterpolar\",\"marker\":{\"colorbar\":{\"outlinewidth\":0,\"ticks\":\"\"}}}],\"histogram\":[{\"marker\":{\"pattern\":{\"fillmode\":\"overlay\",\"size\":10,\"solidity\":0.2}},\"type\":\"histogram\"}],\"scattergl\":[{\"type\":\"scattergl\",\"marker\":{\"colorbar\":{\"outlinewidth\":0,\"ticks\":\"\"}}}],\"scatter3d\":[{\"type\":\"scatter3d\",\"line\":{\"colorbar\":{\"outlinewidth\":0,\"ticks\":\"\"}},\"marker\":{\"colorbar\":{\"outlinewidth\":0,\"ticks\":\"\"}}}],\"scattermapbox\":[{\"type\":\"scattermapbox\",\"marker\":{\"colorbar\":{\"outlinewidth\":0,\"ticks\":\"\"}}}],\"scatterternary\":[{\"type\":\"scatterternary\",\"marker\":{\"colorbar\":{\"outlinewidth\":0,\"ticks\":\"\"}}}],\"scattercarpet\":[{\"type\":\"scattercarpet\",\"marker\":{\"colorbar\":{\"outlinewidth\":0,\"ticks\":\"\"}}}],\"carpet\":[{\"aaxis\":{\"endlinecolor\":\"#2a3f5f\",\"gridcolor\":\"white\",\"linecolor\":\"white\",\"minorgridcolor\":\"white\",\"startlinecolor\":\"#2a3f5f\"},\"baxis\":{\"endlinecolor\":\"#2a3f5f\",\"gridcolor\":\"white\",\"linecolor\":\"white\",\"minorgridcolor\":\"white\",\"startlinecolor\":\"#2a3f5f\"},\"type\":\"carpet\"}],\"table\":[{\"cells\":{\"fill\":{\"color\":\"#EBF0F8\"},\"line\":{\"color\":\"white\"}},\"header\":{\"fill\":{\"color\":\"#C8D4E3\"},\"line\":{\"color\":\"white\"}},\"type\":\"table\"}],\"barpolar\":[{\"marker\":{\"line\":{\"color\":\"#E5ECF6\",\"width\":0.5},\"pattern\":{\"fillmode\":\"overlay\",\"size\":10,\"solidity\":0.2}},\"type\":\"barpolar\"}],\"pie\":[{\"automargin\":true,\"type\":\"pie\"}]},\"layout\":{\"autotypenumbers\":\"strict\",\"colorway\":[\"#636efa\",\"#EF553B\",\"#00cc96\",\"#ab63fa\",\"#FFA15A\",\"#19d3f3\",\"#FF6692\",\"#B6E880\",\"#FF97FF\",\"#FECB52\"],\"font\":{\"color\":\"#2a3f5f\"},\"hovermode\":\"closest\",\"hoverlabel\":{\"align\":\"left\"},\"paper_bgcolor\":\"white\",\"plot_bgcolor\":\"#E5ECF6\",\"polar\":{\"bgcolor\":\"#E5ECF6\",\"angularaxis\":{\"gridcolor\":\"white\",\"linecolor\":\"white\",\"ticks\":\"\"},\"radialaxis\":{\"gridcolor\":\"white\",\"linecolor\":\"white\",\"ticks\":\"\"}},\"ternary\":{\"bgcolor\":\"#E5ECF6\",\"aaxis\":{\"gridcolor\":\"white\",\"linecolor\":\"white\",\"ticks\":\"\"},\"baxis\":{\"gridcolor\":\"white\",\"linecolor\":\"white\",\"ticks\":\"\"},\"caxis\":{\"gridcolor\":\"white\",\"linecolor\":\"white\",\"ticks\":\"\"}},\"coloraxis\":{\"colorbar\":{\"outlinewidth\":0,\"ticks\":\"\"}},\"colorscale\":{\"sequential\":[[0.0,\"#0d0887\"],[0.1111111111111111,\"#46039f\"],[0.2222222222222222,\"#7201a8\"],[0.3333333333333333,\"#9c179e\"],[0.4444444444444444,\"#bd3786\"],[0.5555555555555556,\"#d8576b\"],[0.6666666666666666,\"#ed7953\"],[0.7777777777777778,\"#fb9f3a\"],[0.8888888888888888,\"#fdca26\"],[1.0,\"#f0f921\"]],\"sequentialminus\":[[0.0,\"#0d0887\"],[0.1111111111111111,\"#46039f\"],[0.2222222222222222,\"#7201a8\"],[0.3333333333333333,\"#9c179e\"],[0.4444444444444444,\"#bd3786\"],[0.5555555555555556,\"#d8576b\"],[0.6666666666666666,\"#ed7953\"],[0.7777777777777778,\"#fb9f3a\"],[0.8888888888888888,\"#fdca26\"],[1.0,\"#f0f921\"]],\"diverging\":[[0,\"#8e0152\"],[0.1,\"#c51b7d\"],[0.2,\"#de77ae\"],[0.3,\"#f1b6da\"],[0.4,\"#fde0ef\"],[0.5,\"#f7f7f7\"],[0.6,\"#e6f5d0\"],[0.7,\"#b8e186\"],[0.8,\"#7fbc41\"],[0.9,\"#4d9221\"],[1,\"#276419\"]]},\"xaxis\":{\"gridcolor\":\"white\",\"linecolor\":\"white\",\"ticks\":\"\",\"title\":{\"standoff\":15},\"zerolinecolor\":\"white\",\"automargin\":true,\"zerolinewidth\":2},\"yaxis\":{\"gridcolor\":\"white\",\"linecolor\":\"white\",\"ticks\":\"\",\"title\":{\"standoff\":15},\"zerolinecolor\":\"white\",\"automargin\":true,\"zerolinewidth\":2},\"scene\":{\"xaxis\":{\"backgroundcolor\":\"#E5ECF6\",\"gridcolor\":\"white\",\"linecolor\":\"white\",\"showbackground\":true,\"ticks\":\"\",\"zerolinecolor\":\"white\",\"gridwidth\":2},\"yaxis\":{\"backgroundcolor\":\"#E5ECF6\",\"gridcolor\":\"white\",\"linecolor\":\"white\",\"showbackground\":true,\"ticks\":\"\",\"zerolinecolor\":\"white\",\"gridwidth\":2},\"zaxis\":{\"backgroundcolor\":\"#E5ECF6\",\"gridcolor\":\"white\",\"linecolor\":\"white\",\"showbackground\":true,\"ticks\":\"\",\"zerolinecolor\":\"white\",\"gridwidth\":2}},\"shapedefaults\":{\"line\":{\"color\":\"#2a3f5f\"}},\"annotationdefaults\":{\"arrowcolor\":\"#2a3f5f\",\"arrowhead\":0,\"arrowwidth\":1},\"geo\":{\"bgcolor\":\"white\",\"landcolor\":\"#E5ECF6\",\"subunitcolor\":\"white\",\"showland\":true,\"showlakes\":true,\"lakecolor\":\"white\"},\"title\":{\"x\":0.05},\"mapbox\":{\"style\":\"light\"}}},\"title\":{\"subtitle\":{\"text\":\"Qwen 3 32B, Prefilled with 1 Turn from Spiral Transcript\"},\"text\":\"Responses to Harmful Questions with High Projection on Role PC1\"},\"xaxis\":{\"title\":{\"text\":\"Condition\"},\"tickmode\":\"array\",\"tickvals\":[0,1],\"ticktext\":[\"Baseline\",\"1 Role-Playing Turn\"],\"showgrid\":true,\"gridcolor\":\"lightgray\"},\"yaxis\":{\"title\":{\"text\":\"Percentage of Responses\"},\"range\":[0,105],\"showgrid\":true,\"gridcolor\":\"lightgray\"},\"legend\":{\"orientation\":\"v\",\"yanchor\":\"top\",\"y\":1.0,\"xanchor\":\"left\",\"x\":1.02},\"barmode\":\"stack\",\"width\":800,\"height\":700,\"bargap\":0.4},                        {\"responsive\": true}                    ).then(function(){\n",
       "                            \n",
       "var gd = document.getElementById('c46626c0-2e85-4332-af4f-58a6f697c40b');\n",
       "var x = new MutationObserver(function (mutations, observer) {{\n",
       "        var display = window.getComputedStyle(gd).display;\n",
       "        if (!display || display === 'none') {{\n",
       "            console.log([gd, 'removed!']);\n",
       "            Plotly.purge(gd);\n",
       "            observer.disconnect();\n",
       "        }}\n",
       "}});\n",
       "\n",
       "// Listen for the removal of the full notebook cells\n",
       "var notebookContainer = gd.closest('#notebook-container');\n",
       "if (notebookContainer) {{\n",
       "    x.observe(notebookContainer, {childList: true});\n",
       "}}\n",
       "\n",
       "// Listen for the clearing of the current output cell\n",
       "var outputEl = gd.closest('.output');\n",
       "if (outputEl) {{\n",
       "    x.observe(outputEl, {childList: true});\n",
       "}}\n",
       "\n",
       "                        })                };                });            </script>        </div>"
      ]
     },
     "metadata": {},
     "output_type": "display_data"
    }
   ],
   "source": [
    "# Create the unified stacked bar plot\n",
    "fig = go.Figure()\n",
    "\n",
    "# X positions for the two bars\n",
    "x_positions = [0, 1]  # Default, Prefill\n",
    "x_labels = [\"Baseline\", \"1 Role-Playing Turn\"]\n",
    "bar_width = 0.4\n",
    "\n",
    "# Add stacked bars for each response type\n",
    "for label in ALL_LABELS:\n",
    "    # Only add traces for labels that have data in at least one condition\n",
    "    if default_counts[label] > 0 or prefill_counts[label] > 0:\n",
    "        fig.add_trace(go.Bar(\n",
    "            x=x_positions,\n",
    "            y=[default_pct[label], prefill_pct[label]],\n",
    "            name=LABEL_MAP[label],\n",
    "            marker_color=COLORS[label],\n",
    "            width=bar_width,\n",
    "            text=[f\"{default_pct[label]:.1f}%\" if default_pct[label] >= 4.0 else \"\", \n",
    "                  f\"{prefill_pct[label]:.1f}%\" if prefill_pct[label] >= 4.0 else \"\"],\n",
    "            textposition=\"inside\",\n",
    "            hovertemplate=(\n",
    "                \"%{fullData.name}<br>\"\n",
    "                \"Condition: %{customdata[2]}<br>\"\n",
    "                \"Percentage: %{y:.1f}%<br>\"\n",
    "                \"Count: %{customdata[0]} / %{customdata[1]}\"\n",
    "                \"<extra></extra>\"\n",
    "            ),\n",
    "            customdata=[\n",
    "                [default_counts[label], default_total, \"Default Response\"],\n",
    "                [prefill_counts[label], prefill_total, \"Prefilled Responses\"]\n",
    "            ]\n",
    "        ))\n",
    "\n",
    "# Update layout\n",
    "fig.update_layout(\n",
    "    barmode=\"stack\",\n",
    "    width=800,\n",
    "    height=700,\n",
    "    title={\n",
    "        \"text\": \"Responses to Harmful Questions with High Projection on Role PC1\",\n",
    "        \"subtitle\": {\n",
    "            \"text\": subtitle + \", Prefilled with 1 Turn from Spiral Transcript\",\n",
    "        }\n",
    "    },\n",
    "    xaxis=dict(\n",
    "        title=\"Condition\",\n",
    "        tickmode=\"array\",\n",
    "        tickvals=x_positions,\n",
    "        ticktext=x_labels,\n",
    "        showgrid=True,\n",
    "        gridcolor=\"lightgray\",\n",
    "    ),\n",
    "    yaxis=dict(\n",
    "        title=\"Percentage of Responses\",\n",
    "        range=[0, 105],\n",
    "        showgrid=True,\n",
    "        gridcolor=\"lightgray\"\n",
    "    ),\n",
    "    legend=dict(\n",
    "        orientation=\"v\",\n",
    "        yanchor=\"top\",\n",
    "        y=1.0,\n",
    "        xanchor=\"left\",\n",
    "        x=1.02\n",
    "    ),\n",
    "    bargap=0.4,\n",
    ")\n",
    "\n",
    "fig.show()\n",
    "fig.write_html(f\"{out_dir}/jailbreak_spiral_turn1.html\")"
   ]
  },
  {
   "cell_type": "code",
   "execution_count": null,
   "id": "b6c119b0",
   "metadata": {},
   "outputs": [],
   "source": []
  }
 ],
 "metadata": {
  "kernelspec": {
   "display_name": ".venv",
   "language": "python",
   "name": "python3"
  },
  "language_info": {
   "codemirror_mode": {
    "name": "ipython",
    "version": 3
   },
   "file_extension": ".py",
   "mimetype": "text/x-python",
   "name": "python",
   "nbconvert_exporter": "python",
   "pygments_lexer": "ipython3",
   "version": "3.13.5"
  }
 },
 "nbformat": 4,
 "nbformat_minor": 5
}
