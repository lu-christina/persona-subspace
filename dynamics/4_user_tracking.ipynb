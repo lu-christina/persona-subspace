{
 "cells": [
  {
   "cell_type": "markdown",
   "id": "dccf43db",
   "metadata": {},
   "source": [
    "# See which PCs the Assistant tracks the user the most"
   ]
  },
  {
   "cell_type": "code",
   "execution_count": 1,
   "id": "12a77722",
   "metadata": {},
   "outputs": [],
   "source": [
    "import os\n",
    "import torch\n",
    "import numpy as np\n",
    "import pandas as pd"
   ]
  },
  {
   "cell_type": "code",
   "execution_count": 2,
   "id": "f4b4a71d",
   "metadata": {},
   "outputs": [],
   "source": [
    "CHAT_MODEL_NAME = \"Qwen/Qwen3-32B\"\n",
    "model_readable = \"Qwen 3 32B\"\n",
    "model_short = \"qwen-3-32b\"\n",
    "layer = 32"
   ]
  },
  {
   "cell_type": "code",
   "execution_count": 14,
   "id": "23d061f2",
   "metadata": {},
   "outputs": [],
   "source": [
    "components = 6"
   ]
  },
  {
   "cell_type": "code",
   "execution_count": 4,
   "id": "04053975",
   "metadata": {},
   "outputs": [],
   "source": [
    "acts_input_dir = f\"/workspace/{model_short}/dynamics/default_projected\"\n",
    "plot_output_dir = f\"/root/git/plots/{model_short}/trajectory/user_tracking\"\n",
    "os.makedirs(plot_output_dir, exist_ok=True)"
   ]
  },
  {
   "cell_type": "code",
   "execution_count": 12,
   "id": "148d8103",
   "metadata": {},
   "outputs": [],
   "source": [
    "# load in activations\n",
    "role_results = torch.load(f\"/workspace/{model_short}/roles_240/pca/layer{layer}_pos23.pt\", weights_only=False)\n",
    "trait_results = torch.load(f\"/workspace/{model_short}/traits_240/pca/layer{layer}_pos-neg50.pt\", weights_only=False)\n",
    "combined_results = torch.load(f\"/workspace/{model_short}/roles_traits/pca/layer{layer}_roles_pos23_traits_pos40-100.pt\", weights_only=False)\n"
   ]
  },
  {
   "cell_type": "code",
   "execution_count": 10,
   "id": "9ce2fb1c",
   "metadata": {},
   "outputs": [],
   "source": [
    "def pc_cosine_similarity(mean_acts_per_turn, pca_results, n_pcs=None):\n",
    "    if isinstance(mean_acts_per_turn, list):\n",
    "        stacked_acts = torch.stack(mean_acts_per_turn)\n",
    "    else:\n",
    "        stacked_acts = mean_acts_per_turn\n",
    "    normalized_acts = F.normalize(stacked_acts, dim=1)\n",
    "    normalized_pcs = pca_results['pca'].components_[:n_pcs] / np.linalg.norm(pca_results['pca'].components_[:n_pcs], axis=1, keepdims=True)\n",
    "    cosine_sims = normalized_acts.float().numpy() @ normalized_pcs.T\n",
    "    return cosine_sims\n",
    "\n",
    "def pc_projection(mean_acts_per_turn, pca_results, n_pcs=None):\n",
    "    if isinstance(mean_acts_per_turn, list):\n",
    "        stacked_acts = torch.stack(mean_acts_per_turn)\n",
    "    else:\n",
    "        stacked_acts = mean_acts_per_turn\n",
    "    stacked_acts = stacked_acts.float().numpy()\n",
    "    scaled_acts = pca_results['scaler'].transform(stacked_acts)\n",
    "    projected_acts = pca_results['pca'].transform(scaled_acts)\n",
    "    return projected_acts[:, :n_pcs]\n",
    "    \n",
    "    "
   ]
  },
  {
   "cell_type": "code",
   "execution_count": 7,
   "id": "6ed215cf",
   "metadata": {},
   "outputs": [
    {
     "name": "stdout",
     "output_type": "stream",
     "text": [
      "dict_keys(['model', 'auditor_model', 'domain', 'persona_id', 'persona', 'topic_id', 'topic', 'turns', 'conversation', 'activations', 'role_sims', 'trait_sims', 'role_projs', 'trait_projs'])\n"
     ]
    }
   ],
   "source": [
    "obj = torch.load(f\"{acts_input_dir}/coding_persona0_topic0.pt\", weights_only=False)\n",
    "print(obj.keys())"
   ]
  },
  {
   "cell_type": "code",
   "execution_count": 13,
   "id": "4beff9ef",
   "metadata": {},
   "outputs": [
    {
     "name": "stdout",
     "output_type": "stream",
     "text": [
      "torch.Size([28, 64, 5120])\n",
      "(28, 796)\n"
     ]
    }
   ],
   "source": [
    "print(obj['activations'].shape)\n",
    "proj = pc_projection(obj['activations'][:, layer, :], combined_results)\n",
    "print(proj.shape)"
   ]
  },
  {
   "cell_type": "code",
   "execution_count": 16,
   "id": "c7d8b59d",
   "metadata": {},
   "outputs": [],
   "source": [
    "def concat_pc_spaces(role_projs, trait_projs, combined_projs, labels=(\"role\",\"trait\",\"combined\")):\n",
    "    \"\"\"\n",
    "    Concatenate PC spaces along columns with a MultiIndex for (space, pc_idx).\n",
    "    Each input is shape (T, K) where K is #PCs per space (e.g., 6).\n",
    "    Returns: projs (T, K_total), cols MultiIndex\n",
    "    \"\"\"\n",
    "    mats = [role_projs, trait_projs, combined_projs]\n",
    "    Ks = [m.shape[1] for m in mats]\n",
    "    arrays = []\n",
    "    for name, K in zip(labels, Ks):\n",
    "        arrays += [(name, f\"pc{i+1}\") for i in range(K)]\n",
    "    cols = pd.MultiIndex.from_tuples(arrays, names=[\"space\", \"pc\"])\n",
    "    projs = np.concatenate(mats, axis=1)\n",
    "    return projs, cols\n",
    "\n",
    "def per_pc_deltas_from_matrix(projs):\n",
    "    \"\"\"\n",
    "    projs: (T, P) where even rows are user turns, odd rows assistant turns.\n",
    "    Returns:\n",
    "      dU: (T_user-1, P) deltas across user turns only\n",
    "      dA: (T_asst-1, P) deltas across assistant turns only\n",
    "    \"\"\"\n",
    "    U = projs[0::2, :]  # user rows\n",
    "    A = projs[1::2, :]  # assistant rows\n",
    "    dU = np.diff(U, axis=0)\n",
    "    dA = np.diff(A, axis=0)\n",
    "    # Align lengths (if one side has fewer steps by 1 due to odd/even count)\n",
    "    m = min(dU.shape[0], dA.shape[0])\n",
    "    return dU[:m], dA[:m]\n",
    "\n",
    "def safe_metrics(dU, dA, eps=1e-12):\n",
    "    \"\"\"\n",
    "    Vectorized per-PC metrics.\n",
    "    dU, dA: (N, P)\n",
    "    Returns a dict of arrays length P.\n",
    "    \"\"\"\n",
    "    # Centered versions for correlation / regression with intercept\n",
    "    Uc = dU - dU.mean(axis=0, keepdims=True)\n",
    "    Ac = dA - dA.mean(axis=0, keepdims=True)\n",
    "\n",
    "    # Pearson correlation per column\n",
    "    cov = (Uc * Ac).sum(axis=0)\n",
    "    varU = (Uc ** 2).sum(axis=0)\n",
    "    varA = (Ac ** 2).sum(axis=0)\n",
    "    corr = cov / (np.sqrt(varU * varA) + eps)\n",
    "\n",
    "    # R^2 with intercept\n",
    "    R2 = corr**2\n",
    "\n",
    "    # OLS slope (with intercept): beta = cov/varU, alpha = meanA - beta*meanU\n",
    "    beta = cov / (varU + eps)\n",
    "\n",
    "    # Cosine similarity (directional, scale-invariant w.r.t. each step)\n",
    "    num = (dU * dA).sum(axis=0)\n",
    "    den = np.linalg.norm(dU, axis=0) * np.linalg.norm(dA, axis=0) + eps\n",
    "    cos = num / den\n",
    "\n",
    "    # Sign agreement\n",
    "    sign_agree = (np.sign(dU) == np.sign(dA)).mean(axis=0)\n",
    "\n",
    "    return dict(pearson=corr, r2=R2, beta=beta, cosine=cos, sign_agree=sign_agree)\n"
   ]
  },
  {
   "cell_type": "code",
   "execution_count": 17,
   "id": "a908c0ee",
   "metadata": {},
   "outputs": [],
   "source": [
    "all_rows = []\n",
    "\n",
    "for file in os.listdir(acts_input_dir):\n",
    "    if not file.endswith(\".pt\"):\n",
    "        continue\n",
    "    obj = torch.load(f\"{acts_input_dir}/{file}\", weights_only=False)\n",
    "    A = obj['activations'][:, layer, :]  # (T, hidden)\n",
    "\n",
    "    # Your projections (each: T x K)\n",
    "    role_projs   = pc_projection(A, role_results, components)\n",
    "    trait_projs  = pc_projection(A, trait_results, components)\n",
    "    comb_projs   = pc_projection(A, combined_results, components)\n",
    "\n",
    "    # Concatenate and compute per-speaker deltas\n",
    "    projs, cols = concat_pc_spaces(role_projs, trait_projs, comb_projs)\n",
    "    dU, dA = per_pc_deltas_from_matrix(projs)\n",
    "\n",
    "    # Need at least 2 steps to get stable stats\n",
    "    if dU.shape[0] < 2 or dA.shape[0] < 2:\n",
    "        continue\n",
    "\n",
    "    met = safe_metrics(dU, dA)  # each value is length P\n",
    "    # Build a tidy DataFrame row per PC\n",
    "    df_conv = pd.DataFrame({\n",
    "        \"space\": [c[0] for c in cols],\n",
    "        \"pc\":    [c[1] for c in cols],\n",
    "        \"file\":  file,\n",
    "        \"domain\": obj.get(\"domain\"),\n",
    "        \"persona_id\": obj.get(\"persona_id\"),\n",
    "        \"pearson\": met[\"pearson\"],\n",
    "        \"r2\":      met[\"r2\"],\n",
    "        \"beta\":    met[\"beta\"],\n",
    "        \"cosine\":  met[\"cosine\"],\n",
    "        \"sign_agree\": met[\"sign_agree\"],\n",
    "    })\n",
    "    all_rows.append(df_conv)\n",
    "\n",
    "results_df = pd.concat(all_rows, ignore_index=True)\n"
   ]
  },
  {
   "cell_type": "code",
   "execution_count": 19,
   "id": "bbea6920",
   "metadata": {},
   "outputs": [],
   "source": [
    "results_df.to_parquet(f\"/workspace/{model_short}/dynamics/user_tracking/metrics_by_pc.parquet\")"
   ]
  },
  {
   "cell_type": "code",
   "execution_count": 20,
   "id": "ae7ea7d5",
   "metadata": {},
   "outputs": [],
   "source": [
    "\n",
    "# Example: PC-level summary across all conversations\n",
    "summary = (results_df\n",
    "           .groupby([\"space\", \"pc\"])\n",
    "           .agg(r2_mean=(\"r2\",\"mean\"),\n",
    "                pearson_mean=(\"pearson\",\"mean\"),\n",
    "                beta_mean=(\"beta\",\"mean\"),\n",
    "                cosine_mean=(\"cosine\",\"mean\"),\n",
    "                sign_agree_mean=(\"sign_agree\",\"mean\"),\n",
    "                n=(\"file\",\"count\"))\n",
    "           .sort_values(\"r2_mean\", ascending=False))\n"
   ]
  },
  {
   "cell_type": "code",
   "execution_count": 22,
   "id": "39badd40",
   "metadata": {},
   "outputs": [
    {
     "name": "stdout",
     "output_type": "stream",
     "text": [
      "               r2_mean  pearson_mean  beta_mean  cosine_mean  sign_agree_mean  \\\n",
      "space    pc                                                                     \n",
      "combined pc4  0.266012      0.384393   0.318466     0.393122         0.641189   \n",
      "trait    pc3  0.262307      0.368846   0.399371     0.370750         0.627759   \n",
      "combined pc3  0.259859      0.379815   0.473093     0.379337         0.627656   \n",
      "role     pc4  0.257244      0.376337   0.340154     0.377318         0.625546   \n",
      "trait    pc1  0.255761      0.382612   0.380270     0.392109         0.623295   \n",
      "         pc5  0.249249      0.373335   0.284688     0.378367         0.638731   \n",
      "role     pc3  0.245542      0.357841   0.411037     0.357783         0.612265   \n",
      "combined pc1  0.244543      0.367436   0.439242     0.381532         0.629923   \n",
      "         pc5  0.236926      0.349935   0.419885     0.344723         0.613249   \n",
      "role     pc1  0.236204      0.345183   0.433314     0.358543         0.621448   \n",
      "         pc2  0.234393      0.347426   0.326200     0.352367         0.622728   \n",
      "combined pc2  0.222546      0.317371   0.305390     0.321034         0.606492   \n",
      "role     pc5  0.215994      0.297945   0.241634     0.299282         0.607767   \n",
      "combined pc6  0.213380      0.301149   0.203747     0.306535         0.602992   \n",
      "trait    pc2  0.212911      0.287101   0.296508     0.297210         0.614562   \n",
      "         pc4  0.208284      0.303519   0.391698     0.305676         0.601853   \n",
      "role     pc6  0.203150      0.300427   0.262162     0.306664         0.605434   \n",
      "trait    pc6  0.201419      0.298356   0.273293     0.299435         0.610790   \n",
      "\n",
      "                n  \n",
      "space    pc        \n",
      "combined pc4  400  \n",
      "trait    pc3  400  \n",
      "combined pc3  400  \n",
      "role     pc4  400  \n",
      "trait    pc1  400  \n",
      "         pc5  400  \n",
      "role     pc3  400  \n",
      "combined pc1  400  \n",
      "         pc5  400  \n",
      "role     pc1  400  \n",
      "         pc2  400  \n",
      "combined pc2  400  \n",
      "role     pc5  400  \n",
      "combined pc6  400  \n",
      "trait    pc2  400  \n",
      "         pc4  400  \n",
      "role     pc6  400  \n",
      "trait    pc6  400  \n"
     ]
    }
   ],
   "source": [
    "print(summary)"
   ]
  },
  {
   "cell_type": "code",
   "execution_count": null,
   "id": "12f80b7f",
   "metadata": {},
   "outputs": [],
   "source": []
  }
 ],
 "metadata": {
  "kernelspec": {
   "display_name": ".venv",
   "language": "python",
   "name": "python3"
  },
  "language_info": {
   "codemirror_mode": {
    "name": "ipython",
    "version": 3
   },
   "file_extension": ".py",
   "mimetype": "text/x-python",
   "name": "python",
   "nbconvert_exporter": "python",
   "pygments_lexer": "ipython3",
   "version": "3.13.5"
  }
 },
 "nbformat": 4,
 "nbformat_minor": 5
}
