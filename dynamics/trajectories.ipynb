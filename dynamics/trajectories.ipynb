{
 "cells": [
  {
   "cell_type": "markdown",
   "id": "6083d828",
   "metadata": {},
   "source": [
    "# Trajectories of role + trait space"
   ]
  },
  {
   "cell_type": "code",
   "execution_count": 1,
   "id": "29e91b67",
   "metadata": {},
   "outputs": [
    {
     "name": "stdout",
     "output_type": "stream",
     "text": [
      "INFO 09-17 14:19:10 [__init__.py:216] Automatically detected platform cuda.\n"
     ]
    }
   ],
   "source": [
    "import json\n",
    "import os\n",
    "import sys\n",
    "import torch\n",
    "import numpy as np\n",
    "import pandas as pd\n",
    "import plotly.graph_objects as go\n",
    "import plotly.subplots as sp\n",
    "import torch.nn.functional as F\n",
    "import re\n",
    "\n",
    "sys.path.append('.')\n",
    "sys.path.append('..')\n",
    "\n",
    "from utils.inference_utils import *\n",
    "from utils.probing_utils import *\n"
   ]
  },
  {
   "cell_type": "code",
   "execution_count": 2,
   "id": "47f9319b",
   "metadata": {},
   "outputs": [],
   "source": [
    "# load in PCA results\n",
    "CHAT_MODEL_NAME = \"Qwen/Qwen3-32B\"\n",
    "model_readable = \"Qwen 3 32B\"\n",
    "model_short = model_readable.replace(\" \", \"-\").lower()\n",
    "layer = 32\n"
   ]
  },
  {
   "cell_type": "code",
   "execution_count": 3,
   "id": "b5738412",
   "metadata": {},
   "outputs": [],
   "source": [
    "# filename = \"auto40\"\n",
    "components = 6"
   ]
  },
  {
   "cell_type": "code",
   "execution_count": 4,
   "id": "13489329",
   "metadata": {},
   "outputs": [],
   "source": [
    "role_dir = \"roles_240\" \n",
    "trait_dir = \"traits_240\"\n",
    "\n",
    "acts_output_dir = f\"/workspace/{model_short}/conversations\"\n",
    "acts_input_dir = f\"/workspace/{model_short}/dynamics\"\n",
    "plot_output_dir = f\"/root/git/plots/{model_short}/trajectory\"\n",
    "os.makedirs(acts_output_dir, exist_ok=True)\n",
    "os.makedirs(plot_output_dir, exist_ok=True)"
   ]
  },
  {
   "cell_type": "code",
   "execution_count": 53,
   "id": "17d176b2",
   "metadata": {},
   "outputs": [],
   "source": [
    "conversation_file = f\"/root/git/persona-subspace/dynamics/results/{model_short}/auto/{filename}.json\"\n",
    "conversation_obj = json.load(open(conversation_file))\n",
    "conversation = conversation_obj['conversation']"
   ]
  },
  {
   "cell_type": "markdown",
   "id": "0a2dee2c",
   "metadata": {},
   "source": [
    "## IF NEEDED: Get conversation activations"
   ]
  },
  {
   "cell_type": "code",
   "execution_count": 6,
   "id": "5aa8c97b",
   "metadata": {},
   "outputs": [
    {
     "data": {
      "application/vnd.jupyter.widget-view+json": {
       "model_id": "33218e9ee66f40f19b327d6d6c90c060",
       "version_major": 2,
       "version_minor": 0
      },
      "text/plain": [
       "Loading checkpoint shards:   0%|          | 0/17 [00:00<?, ?it/s]"
      ]
     },
     "metadata": {},
     "output_type": "display_data"
    }
   ],
   "source": [
    "model, tokenizer = load_model(CHAT_MODEL_NAME)"
   ]
  },
  {
   "cell_type": "code",
   "execution_count": 7,
   "id": "dd082ccf",
   "metadata": {},
   "outputs": [],
   "source": [
    "chat_kwargs = {}\n",
    "if model_short == \"qwen-3-32b\":    \n",
    "    chat_kwargs['enable_thinking'] = False\n"
   ]
  },
  {
   "cell_type": "code",
   "execution_count": 43,
   "id": "b909c811",
   "metadata": {},
   "outputs": [],
   "source": [
    "activations = extract_full_activations(model, tokenizer, conversation, layer=layer)\n",
    "mean_acts_per_turn = mean_response_activation_per_turn(activations, conversation, tokenizer, CHAT_MODEL_NAME, **chat_kwargs)"
   ]
  },
  {
   "cell_type": "code",
   "execution_count": 44,
   "id": "00d43940",
   "metadata": {},
   "outputs": [
    {
     "name": "stdout",
     "output_type": "stream",
     "text": [
      "23\n",
      "torch.Size([5120])\n"
     ]
    }
   ],
   "source": [
    "print(len(mean_acts_per_turn))\n",
    "mean_acts_per_turn = [act.squeeze(0) for act in mean_acts_per_turn]\n",
    "print(mean_acts_per_turn[0].shape)"
   ]
  },
  {
   "cell_type": "code",
   "execution_count": 45,
   "id": "6a82aaa4",
   "metadata": {},
   "outputs": [],
   "source": [
    "# save activations \n",
    "result = {}\n",
    "result['object'] = conversation_obj\n",
    "result['activations'] = mean_acts_per_turn\n",
    "torch.save(result, f\"{acts_output_dir}/{filename}.pt\")"
   ]
  },
  {
   "cell_type": "markdown",
   "id": "f37b9a77",
   "metadata": {},
   "source": [
    "## OR: Load activations and mean them"
   ]
  },
  {
   "cell_type": "code",
   "execution_count": 13,
   "id": "05c09da8",
   "metadata": {},
   "outputs": [],
   "source": [
    "# load every activation file in the directory if the name matches a regex\n",
    "\n",
    "def mean_auto_activations(regex_pattern, layer):\n",
    "    # Extract (turns, hidden) slice for each file matching the regex pattern\n",
    "\n",
    "    slices = []\n",
    "    max_turns = 28\n",
    "    H = None\n",
    "\n",
    "    for file in os.listdir(acts_input_dir):\n",
    "        if re.match(regex_pattern, file):\n",
    "            A = torch.load(f\"{acts_input_dir}/{file}\", weights_only=False, map_location=\"cpu\")['activations']\n",
    "            T, _, H_cur = A.shape\n",
    "\n",
    "            T_eff = T - (T % 2)     # drop last turn if odd (user ended conversation)\n",
    "            if T_eff == 0:\n",
    "                continue   \n",
    "\n",
    "            sl = A[:T_eff, layer, :]  # (T_eff, H_cur)\n",
    "            slices.append(sl)\n",
    "\n",
    "            if H is None:\n",
    "                H = H_cur\n",
    "            else:\n",
    "                assert H == H_cur\n",
    "\n",
    "    if len(slices) == 0:\n",
    "        raise ValueError(\"No usable activations after dropping odd last turns.\")\n",
    "\n",
    "    # pad slices with shorter turns with NaN to (N, max_turns, H)\n",
    "    N = len(slices)\n",
    "    print(f\"Padding {N} activations found to (N, {max_turns}, {H})\")\n",
    "    padded = torch.full((N, max_turns, H), float('nan'))\n",
    "    for i, sl in enumerate(slices):\n",
    "        T_eff = sl.shape[0]\n",
    "        padded[i, :T_eff, :] = sl\n",
    "\n",
    "    # mean over the first two dimensions\n",
    "    mean_acts = torch.nanmean(padded, dim=0)\n",
    "    return mean_acts"
   ]
  },
  {
   "cell_type": "code",
   "execution_count": 45,
   "id": "a7b0a567",
   "metadata": {},
   "outputs": [
    {
     "name": "stdout",
     "output_type": "stream",
     "text": [
      "Padding 100 activations found to (N, 28, 5120)\n"
     ]
    }
   ],
   "source": [
    "mean_acts_per_turn = mean_auto_activations(r'^philosophy', layer)"
   ]
  },
  {
   "cell_type": "code",
   "execution_count": 46,
   "id": "999f3c51",
   "metadata": {},
   "outputs": [
    {
     "name": "stdout",
     "output_type": "stream",
     "text": [
      "torch.Size([14, 5120])\n"
     ]
    }
   ],
   "source": [
    "# get rid of even index turns\n",
    "mean_acts_per_turn = mean_acts_per_turn[::2]\n",
    "print(mean_acts_per_turn.shape)\n"
   ]
  },
  {
   "cell_type": "code",
   "execution_count": null,
   "id": "3334ee1d",
   "metadata": {},
   "outputs": [],
   "source": [
    "# look at individual conversations with high variance between turns\n",
    "# measure variance across turns number for all conversations "
   ]
  },
  {
   "cell_type": "markdown",
   "id": "3b5a92d4",
   "metadata": {},
   "source": [
    "## Cosine similarity with trait and role PCs"
   ]
  },
  {
   "cell_type": "code",
   "execution_count": 16,
   "id": "b0ea9345",
   "metadata": {},
   "outputs": [],
   "source": [
    "# load in activations\n",
    "role_results = torch.load(f\"/workspace/{model_short}/{role_dir}/pca/layer{layer}_pos23.pt\", weights_only=False)\n",
    "trait_results = torch.load(f\"/workspace/{model_short}/{trait_dir}/pca/layer{layer}_pos-neg50.pt\", weights_only=False)\n"
   ]
  },
  {
   "cell_type": "code",
   "execution_count": null,
   "id": "538d61ef",
   "metadata": {},
   "outputs": [],
   "source": [
    "# activations_obj = torch.load(f\"/workspace/{model_short}/conversations/{filename}.pt\", weights_only=False)\n",
    "# mean_acts_per_turn = activations_obj['activations']"
   ]
  },
  {
   "cell_type": "code",
   "execution_count": 19,
   "id": "065c40ac",
   "metadata": {},
   "outputs": [],
   "source": [
    "def pc_cosine_similarity(mean_acts_per_turn, pca_results, n_pcs=8):\n",
    "    if isinstance(mean_acts_per_turn, list):\n",
    "        stacked_acts = torch.stack(mean_acts_per_turn)\n",
    "    else:\n",
    "        stacked_acts = mean_acts_per_turn\n",
    "    normalized_acts = F.normalize(stacked_acts, dim=1)\n",
    "    normalized_pcs = pca_results['pca'].components_[:n_pcs] / np.linalg.norm(pca_results['pca'].components_[:n_pcs], axis=1, keepdims=True)\n",
    "    cosine_sims = normalized_acts.float().numpy() @ normalized_pcs.T\n",
    "    return cosine_sims\n",
    "\n",
    "def pc_projection(mean_acts_per_turn, pca_results, n_pcs=8):\n",
    "    if isinstance(mean_acts_per_turn, list):\n",
    "        stacked_acts = torch.stack(mean_acts_per_turn)\n",
    "    else:\n",
    "        stacked_acts = mean_acts_per_turn\n",
    "    stacked_acts = stacked_acts.float().numpy()\n",
    "    scaled_acts = pca_results['scaler'].transform(stacked_acts)\n",
    "    projected_acts = pca_results['pca'].transform(scaled_acts)\n",
    "    return projected_acts[:, :n_pcs]\n",
    "    \n",
    "    "
   ]
  },
  {
   "cell_type": "code",
   "execution_count": 47,
   "id": "4dfee379",
   "metadata": {},
   "outputs": [
    {
     "name": "stdout",
     "output_type": "stream",
     "text": [
      "(14, 6)\n"
     ]
    }
   ],
   "source": [
    "role_sims = pc_cosine_similarity(mean_acts_per_turn, role_results, components)\n",
    "trait_sims = pc_cosine_similarity(mean_acts_per_turn, trait_results, components)\n",
    "print(role_sims.shape)"
   ]
  },
  {
   "cell_type": "code",
   "execution_count": 48,
   "id": "27f5ad79",
   "metadata": {},
   "outputs": [
    {
     "name": "stdout",
     "output_type": "stream",
     "text": [
      "(14, 6)\n"
     ]
    }
   ],
   "source": [
    "role_projs = pc_projection(mean_acts_per_turn, role_results, components)\n",
    "trait_projs = pc_projection(mean_acts_per_turn, trait_results, components)\n",
    "print(role_projs.shape)\n"
   ]
  },
  {
   "cell_type": "markdown",
   "id": "8387c10f",
   "metadata": {},
   "source": [
    "## Plot trajectory"
   ]
  },
  {
   "cell_type": "code",
   "execution_count": 22,
   "id": "536422d7",
   "metadata": {},
   "outputs": [],
   "source": [
    "def plot_mean_response_trajectory(similarity_matrix, conversation=None, title=None, pc_titles=None, projection=False):\n",
    "    \"\"\"\n",
    "    Create a single line plot showing mean response per turn.\n",
    "    \n",
    "    Parameters:\n",
    "    - similarity_matrix: Numpy matrix of shape (n_turns, n_pcs)\n",
    "    - conversation: Optional conversation data for turn context\n",
    "    - title: Optional custom title\n",
    "    - pc_titles: Optional list of PC titles\n",
    "    \n",
    "    Returns:\n",
    "    - Plotly figure object\n",
    "    \"\"\"\n",
    "    \n",
    "    print(\"Creating mean response trajectory plot...\")\n",
    "    \n",
    "    # Get dimensions\n",
    "    n_turns, n_pcs = similarity_matrix.shape\n",
    "    turn_indices = np.arange(n_turns)\n",
    "    \n",
    "    # Create default PC titles if not provided\n",
    "    if pc_titles is None:\n",
    "        pc_titles = [f\"PC{i+1}\" for i in range(n_pcs)]\n",
    "    \n",
    "    # Define color palette for PCs\n",
    "    pc_colors = [\n",
    "        '#1f77b4', '#ff7f0e', '#2ca02c', '#d62728', \n",
    "        '#9467bd', '#8c564b', '#e377c2', '#7f7f7f',\n",
    "        '#bcbd22', '#17becf', '#aec7e8', '#ffbb78'\n",
    "    ]\n",
    "    \n",
    "    # Helper function to wrap text for hover display\n",
    "    def wrap_text(text, max_chars_per_line=70):\n",
    "        \"\"\"Wrap text to specified line length with HTML breaks.\"\"\"\n",
    "        if len(text) <= max_chars_per_line:\n",
    "            return text\n",
    "        \n",
    "        words = text.split()\n",
    "        lines = []\n",
    "        current_line = []\n",
    "        current_length = 0\n",
    "        \n",
    "        for word in words:\n",
    "            if current_length + len(word) + len(current_line) > max_chars_per_line:\n",
    "                if current_line:  # Don't add empty lines\n",
    "                    lines.append(' '.join(current_line))\n",
    "                current_line = [word]\n",
    "                current_length = len(word)\n",
    "            else:\n",
    "                current_line.append(word)\n",
    "                current_length += len(word)\n",
    "        \n",
    "        if current_line:  # Add the last line\n",
    "            lines.append(' '.join(current_line))\n",
    "        \n",
    "        return '<br>'.join(lines)\n",
    "    \n",
    "    # Create enhanced turn context for hover text\n",
    "    turn_contexts = []\n",
    "    if conversation is not None:\n",
    "        assistant_turns = [i for i, turn in enumerate(conversation) if turn['role'] == 'assistant']\n",
    "        for turn_idx in range(n_turns):\n",
    "            if turn_idx < len(assistant_turns):\n",
    "                conv_turn_idx = assistant_turns[turn_idx]\n",
    "                if conv_turn_idx < len(conversation):\n",
    "                    # Get assistant response\n",
    "                    assistant_content = conversation[conv_turn_idx]['content']\n",
    "                    \n",
    "                    # Get preceding user question (if exists)\n",
    "                    user_content = \"\"\n",
    "                    if conv_turn_idx > 0 and conversation[conv_turn_idx - 1]['role'] == 'user':\n",
    "                        user_content = conversation[conv_turn_idx - 1]['content']\n",
    "                    \n",
    "                    # Format hover text with both user question and assistant response\n",
    "                    hover_parts = [f\"<b>Turn {turn_idx}</b>\"]\n",
    "                    \n",
    "                    if user_content:\n",
    "                        # Truncate user content to reasonable length and wrap\n",
    "                        user_truncated = user_content[:200] + \"...\" if len(user_content) > 200 else user_content\n",
    "                        user_wrapped = wrap_text(user_truncated, 70)\n",
    "                        hover_parts.append(f\"<b>User:</b> {user_wrapped}\")\n",
    "                    \n",
    "                    # Show more of the assistant response (150-200 chars) and wrap\n",
    "                    assistant_truncated = assistant_content[:300] + \"...\" if len(assistant_content) > 180 else assistant_content\n",
    "                    assistant_wrapped = wrap_text(assistant_truncated, 70)\n",
    "                    hover_parts.append(f\"<b>Assistant:</b> {assistant_wrapped}\")\n",
    "                    \n",
    "                    turn_contexts.append('<br>'.join(hover_parts))\n",
    "                else:\n",
    "                    turn_contexts.append(f\"<b>Turn {turn_idx}</b>\")\n",
    "            else:\n",
    "                turn_contexts.append(f\"<b>Turn {turn_idx}</b>\")\n",
    "    else:\n",
    "        turn_contexts = [f\"<b>Turn {turn_idx}</b>\" for turn_idx in range(n_turns)]\n",
    "    \n",
    "    # Create Plotly figure\n",
    "    fig = go.Figure()\n",
    "    \n",
    "    # Add line traces for each PC with markers\n",
    "    for pc_idx in range(n_pcs):\n",
    "        pc_name = pc_titles[pc_idx]\n",
    "        similarities = similarity_matrix[:, pc_idx]\n",
    "        color = pc_colors[pc_idx % len(pc_colors)]\n",
    "        \n",
    "        fig.add_trace(go.Scatter(\n",
    "            x=turn_indices,\n",
    "            y=similarities,\n",
    "            mode='lines+markers',\n",
    "            name=pc_name,\n",
    "            line=dict(color=color, width=2),\n",
    "            marker=dict(color=color, size=4, opacity=0.8),\n",
    "            hovertemplate='<b>%{fullData.name}</b><br>' +\n",
    "                         '%{text}<br>' +\n",
    "                         '<b>Cosine Similarity:</b> %{y:.3f}<br>' +\n",
    "                         '<extra></extra>',\n",
    "            text=turn_contexts\n",
    "        ))\n",
    "    \n",
    "    # Update layout\n",
    "    default_title = f\"Mean Response PC Trajectory\"\n",
    "    if projection:\n",
    "        yaxis_title = \"PC Projection\"\n",
    "    else:\n",
    "        yaxis_title = \"Cosine Similarity with PC\"\n",
    "    \n",
    "    fig.update_layout(\n",
    "        title=dict(\n",
    "            text=title if title else default_title,\n",
    "            x=0.5,\n",
    "            font=dict(size=16),\n",
    "            subtitle={\"text\": f\"{model_readable}, Layer {layer}\"}\n",
    "        ),\n",
    "        xaxis_title=\"Conversation Turn\",\n",
    "        yaxis_title=yaxis_title,\n",
    "        width=1400,\n",
    "        height=600,\n",
    "        hovermode='closest',\n",
    "        legend=dict(\n",
    "            yanchor=\"middle\",\n",
    "            y=0.5,\n",
    "            xanchor=\"left\",\n",
    "            x=1.02,\n",
    "            bgcolor=\"rgba(255,255,255,0.8)\"\n",
    "        )\n",
    "    )\n",
    "    \n",
    "    # Add grid for easier reading\n",
    "    fig.update_xaxes(\n",
    "        showgrid=True, \n",
    "        gridwidth=1, \n",
    "        gridcolor='lightgray',\n",
    "        zeroline=True,\n",
    "        tick0=0,\n",
    "        dtick=1  # Show every turn\n",
    "    )\n",
    "    fig.update_yaxes(showgrid=True, gridwidth=1, gridcolor='lightgray', zeroline=True)\n",
    "    \n",
    "    # Add light vertical lines between turns for clarity\n",
    "    for turn_idx in range(1, n_turns):\n",
    "        fig.add_vline(\n",
    "            x=turn_idx - 0.5,\n",
    "            line_dash=\"dot\",\n",
    "            line_color=\"lightgray\",\n",
    "            line_width=1,\n",
    "            opacity=0.3\n",
    "        )\n",
    "    \n",
    "    print(f\"Created trajectory plot with {n_pcs} PC lines across {n_turns} turns\")\n",
    "    \n",
    "    return fig"
   ]
  },
  {
   "cell_type": "code",
   "execution_count": 23,
   "id": "t33zwajz7ei",
   "metadata": {},
   "outputs": [],
   "source": [
    "# Create role PC titles\n",
    "if model_short == \"qwen-3-32b\":\n",
    "    role_pc_titles = ['Assistant-like ↔ role-playing', \"inhuman ↔ human\", \"compassionate ↔ calculating\", \"hospitable ↔ rebellious\", \"thinking ↔ doing\", \"fluid ↔ rigid\"]\n",
    "elif model_short == \"gemma-2-27b\":\n",
    "    role_pc_titles = ['Assistant-like ↔ role-playing', \"inhuman ↔ human\", \"independent ↔ dependent\", \"nurturing ↔ adversarial\", \"social ↔ technical\", \"structured ↔ liminal\"]\n",
    "\n",
    "# # Plot role trajectory\n",
    "# role_fig = plot_mean_response_trajectory(\n",
    "#     role_sims, \n",
    "#     conversation=conversation, \n",
    "#     title=f\"Conversation Trajectory in Role PC Space: {filename.capitalize()}\", \n",
    "#     pc_titles=role_pc_titles\n",
    "# )\n",
    "# role_fig.show()\n",
    "# role_fig.write_html(f\"{plot_output_dir}/{filename}_role_cossim.html\")\n",
    "\n",
    "# role_fig = plot_mean_response_trajectory(\n",
    "#     role_projs, \n",
    "#     conversation=conversation, \n",
    "#     title=f\"Conversation Trajectory in Role PC Space: {filename.capitalize()}\", \n",
    "#     pc_titles=role_pc_titles,\n",
    "#     projection=True\n",
    "# )\n",
    "# role_fig.show()\n",
    "# role_fig.write_html(f\"{plot_output_dir}/{filename}_role_proj.html\")"
   ]
  },
  {
   "cell_type": "code",
   "execution_count": 24,
   "id": "hnqktqubkub",
   "metadata": {},
   "outputs": [],
   "source": [
    "# Create trait PC titles\n",
    "if model_short == \"qwen-3-32b\":\n",
    "    trait_pc_titles = [\"antagonistic ↔ agreeable\", \"analytical ↔ emotional\", \"accessible ↔ esoteric\", \"exploratory ↔ intuitive\", \"skeptical ↔ prescriptive\", \"assertive ↔ diplomatic\"]\n",
    "elif model_short == \"gemma-2-27b\":\n",
    "    trait_pc_titles = [\"benevolent ↔ evil\", \"analytical ↔ emotional\", \"accommodating ↔ confrontational\", \"grounded ↔ mystical\", \"thoughtful ↔ decisive\", \"conformist ↔ defiant\"]\n",
    "\n",
    "# Plot trait trajectory\n",
    "# trait_fig = plot_mean_response_trajectory(\n",
    "#     trait_sims, \n",
    "#     conversation=conversation, \n",
    "#     title=f\"Conversation Trajectory in Trait PC Space: {filename.capitalize()}\", \n",
    "#     pc_titles=trait_pc_titles\n",
    "# )\n",
    "# trait_fig.show()\n",
    "# trait_fig.write_html(f\"{plot_output_dir}/{filename}_trait_cossim.html\")\n",
    "\n",
    "# trait_fig = plot_mean_response_trajectory(\n",
    "#     trait_projs, \n",
    "#     conversation=conversation, \n",
    "#     title=f\"Conversation Trajectory in Trait PC Space: {filename.capitalize()}\", \n",
    "#     pc_titles=trait_pc_titles,\n",
    "#     projection=True\n",
    "# )\n",
    "\n",
    "# trait_fig.show()\n",
    "# trait_fig.write_html(f\"{plot_output_dir}/{filename}_trait_proj.html\")"
   ]
  },
  {
   "cell_type": "code",
   "execution_count": 49,
   "id": "kbhzrwz949",
   "metadata": {},
   "outputs": [
    {
     "name": "stdout",
     "output_type": "stream",
     "text": [
      "Creating mean response trajectory plot...\n",
      "Created trajectory plot with 6 PC lines across 14 turns\n",
      "Creating mean response trajectory plot...\n",
      "Created trajectory plot with 6 PC lines across 14 turns\n"
     ]
    },
    {
     "data": {
      "application/vnd.plotly.v1+json": {
       "config": {
        "plotlyServerURL": "https://plot.ly"
       },
       "data": [
        {
         "hovertemplate": "<b>%{fullData.name}</b><br>%{text}<br><b>Cosine Similarity:</b> %{y:.3f}<br><extra></extra>",
         "legendgroup": "role",
         "legendgrouptitle": {
          "text": "Role PCs"
         },
         "line": {
          "color": "#1f77b4",
          "width": 2
         },
         "marker": {
          "color": "#1f77b4",
          "opacity": 0.8,
          "size": 4
         },
         "mode": "lines+markers",
         "name": "Assistant-like ↔ role-playing",
         "showlegend": true,
         "text": [
          "<b>Turn 0</b>",
          "<b>Turn 1</b>",
          "<b>Turn 2</b>",
          "<b>Turn 3</b>",
          "<b>Turn 4</b>",
          "<b>Turn 5</b>",
          "<b>Turn 6</b>",
          "<b>Turn 7</b>",
          "<b>Turn 8</b>",
          "<b>Turn 9</b>",
          "<b>Turn 10</b>",
          "<b>Turn 11</b>",
          "<b>Turn 12</b>",
          "<b>Turn 13</b>"
         ],
         "type": "scatter",
         "x": [
          0,
          1,
          2,
          3,
          4,
          5,
          6,
          7,
          8,
          9,
          10,
          11,
          12,
          13
         ],
         "xaxis": "x",
         "y": [
          5.591052615345847,
          16.98458737338111,
          16.197777097768377,
          15.31598142621934,
          13.950052455457964,
          12.955769364409583,
          12.617393465164268,
          12.575590187384536,
          12.170208517943795,
          12.525879135995948,
          13.75647968345864,
          14.144315091748457,
          16.298805369611223,
          15.126179891087386
         ],
         "yaxis": "y"
        },
        {
         "hovertemplate": "<b>%{fullData.name}</b><br>%{text}<br><b>Cosine Similarity:</b> %{y:.3f}<br><extra></extra>",
         "legendgroup": "role",
         "legendgrouptitle": {
          "text": "Role PCs"
         },
         "line": {
          "color": "#ff7f0e",
          "width": 2
         },
         "marker": {
          "color": "#ff7f0e",
          "opacity": 0.8,
          "size": 4
         },
         "mode": "lines+markers",
         "name": "inhuman ↔ human",
         "showlegend": true,
         "text": [
          "<b>Turn 0</b>",
          "<b>Turn 1</b>",
          "<b>Turn 2</b>",
          "<b>Turn 3</b>",
          "<b>Turn 4</b>",
          "<b>Turn 5</b>",
          "<b>Turn 6</b>",
          "<b>Turn 7</b>",
          "<b>Turn 8</b>",
          "<b>Turn 9</b>",
          "<b>Turn 10</b>",
          "<b>Turn 11</b>",
          "<b>Turn 12</b>",
          "<b>Turn 13</b>"
         ],
         "type": "scatter",
         "x": [
          0,
          1,
          2,
          3,
          4,
          5,
          6,
          7,
          8,
          9,
          10,
          11,
          12,
          13
         ],
         "xaxis": "x",
         "y": [
          13.77935992169892,
          16.57486847589916,
          17.463086133920083,
          18.688632961213198,
          19.369272757305243,
          17.31543646385702,
          17.854656553405544,
          17.403172097828964,
          17.380605179525954,
          17.117265684524206,
          16.72413048391331,
          15.48425123323182,
          15.982891967851913,
          16.08058182931949
         ],
         "yaxis": "y"
        },
        {
         "hovertemplate": "<b>%{fullData.name}</b><br>%{text}<br><b>Cosine Similarity:</b> %{y:.3f}<br><extra></extra>",
         "legendgroup": "role",
         "legendgrouptitle": {
          "text": "Role PCs"
         },
         "line": {
          "color": "#2ca02c",
          "width": 2
         },
         "marker": {
          "color": "#2ca02c",
          "opacity": 0.8,
          "size": 4
         },
         "mode": "lines+markers",
         "name": "compassionate ↔ calculating",
         "showlegend": true,
         "text": [
          "<b>Turn 0</b>",
          "<b>Turn 1</b>",
          "<b>Turn 2</b>",
          "<b>Turn 3</b>",
          "<b>Turn 4</b>",
          "<b>Turn 5</b>",
          "<b>Turn 6</b>",
          "<b>Turn 7</b>",
          "<b>Turn 8</b>",
          "<b>Turn 9</b>",
          "<b>Turn 10</b>",
          "<b>Turn 11</b>",
          "<b>Turn 12</b>",
          "<b>Turn 13</b>"
         ],
         "type": "scatter",
         "x": [
          0,
          1,
          2,
          3,
          4,
          5,
          6,
          7,
          8,
          9,
          10,
          11,
          12,
          13
         ],
         "xaxis": "x",
         "y": [
          44.49480464230157,
          45.06255859787582,
          47.81895256826305,
          47.04772515528462,
          46.407536358851374,
          46.77199331462523,
          46.32078451785096,
          46.09959957047006,
          45.43085234187228,
          44.88277388539441,
          44.74701188192251,
          43.51443985842242,
          43.04050474858933,
          42.27567540474766
         ],
         "yaxis": "y"
        },
        {
         "hovertemplate": "<b>%{fullData.name}</b><br>%{text}<br><b>Cosine Similarity:</b> %{y:.3f}<br><extra></extra>",
         "legendgroup": "role",
         "legendgrouptitle": {
          "text": "Role PCs"
         },
         "line": {
          "color": "#d62728",
          "width": 2
         },
         "marker": {
          "color": "#d62728",
          "opacity": 0.8,
          "size": 4
         },
         "mode": "lines+markers",
         "name": "hospitable ↔ rebellious",
         "showlegend": true,
         "text": [
          "<b>Turn 0</b>",
          "<b>Turn 1</b>",
          "<b>Turn 2</b>",
          "<b>Turn 3</b>",
          "<b>Turn 4</b>",
          "<b>Turn 5</b>",
          "<b>Turn 6</b>",
          "<b>Turn 7</b>",
          "<b>Turn 8</b>",
          "<b>Turn 9</b>",
          "<b>Turn 10</b>",
          "<b>Turn 11</b>",
          "<b>Turn 12</b>",
          "<b>Turn 13</b>"
         ],
         "type": "scatter",
         "x": [
          0,
          1,
          2,
          3,
          4,
          5,
          6,
          7,
          8,
          9,
          10,
          11,
          12,
          13
         ],
         "xaxis": "x",
         "y": [
          -2.382497103581818,
          6.925093378236949,
          6.687546686522908,
          5.572129289161647,
          4.252481680483058,
          3.1707854520457595,
          2.2379575213905794,
          2.123638506898713,
          1.0900721120357004,
          -0.6160199162985073,
          0.5056271799812966,
          0.34343715392025875,
          0.053529486553897644,
          -1.1204747903430141
         ],
         "yaxis": "y"
        },
        {
         "hovertemplate": "<b>%{fullData.name}</b><br>%{text}<br><b>Cosine Similarity:</b> %{y:.3f}<br><extra></extra>",
         "legendgroup": "role",
         "legendgrouptitle": {
          "text": "Role PCs"
         },
         "line": {
          "color": "#9467bd",
          "width": 2
         },
         "marker": {
          "color": "#9467bd",
          "opacity": 0.8,
          "size": 4
         },
         "mode": "lines+markers",
         "name": "thinking ↔ doing",
         "showlegend": true,
         "text": [
          "<b>Turn 0</b>",
          "<b>Turn 1</b>",
          "<b>Turn 2</b>",
          "<b>Turn 3</b>",
          "<b>Turn 4</b>",
          "<b>Turn 5</b>",
          "<b>Turn 6</b>",
          "<b>Turn 7</b>",
          "<b>Turn 8</b>",
          "<b>Turn 9</b>",
          "<b>Turn 10</b>",
          "<b>Turn 11</b>",
          "<b>Turn 12</b>",
          "<b>Turn 13</b>"
         ],
         "type": "scatter",
         "x": [
          0,
          1,
          2,
          3,
          4,
          5,
          6,
          7,
          8,
          9,
          10,
          11,
          12,
          13
         ],
         "xaxis": "x",
         "y": [
          -34.863916223999155,
          -26.176692747776126,
          -22.741192108041773,
          -23.0459538363643,
          -21.480137045502094,
          -21.394342749245588,
          -20.245982899348427,
          -20.065548234876857,
          -20.236924215122635,
          -19.84607156187475,
          -20.34447958191072,
          -20.74327235737537,
          -22.079025661658644,
          -20.676834778068404
         ],
         "yaxis": "y"
        },
        {
         "hovertemplate": "<b>%{fullData.name}</b><br>%{text}<br><b>Cosine Similarity:</b> %{y:.3f}<br><extra></extra>",
         "legendgroup": "role",
         "legendgrouptitle": {
          "text": "Role PCs"
         },
         "line": {
          "color": "#8c564b",
          "width": 2
         },
         "marker": {
          "color": "#8c564b",
          "opacity": 0.8,
          "size": 4
         },
         "mode": "lines+markers",
         "name": "fluid ↔ rigid",
         "showlegend": true,
         "text": [
          "<b>Turn 0</b>",
          "<b>Turn 1</b>",
          "<b>Turn 2</b>",
          "<b>Turn 3</b>",
          "<b>Turn 4</b>",
          "<b>Turn 5</b>",
          "<b>Turn 6</b>",
          "<b>Turn 7</b>",
          "<b>Turn 8</b>",
          "<b>Turn 9</b>",
          "<b>Turn 10</b>",
          "<b>Turn 11</b>",
          "<b>Turn 12</b>",
          "<b>Turn 13</b>"
         ],
         "type": "scatter",
         "x": [
          0,
          1,
          2,
          3,
          4,
          5,
          6,
          7,
          8,
          9,
          10,
          11,
          12,
          13
         ],
         "xaxis": "x",
         "y": [
          8.79842906175046,
          -0.46213060294986075,
          -0.25881112777445686,
          -0.9865836307443673,
          -0.6946690177110063,
          -0.6403010552998594,
          -0.5077739237157053,
          -0.611955808713898,
          -0.4378893310429781,
          -1.443328480702409,
          -1.3926688992647323,
          -1.7006239905473102,
          -1.5692493492903767,
          -2.0808458800726344
         ],
         "yaxis": "y"
        },
        {
         "hovertemplate": "<b>%{fullData.name}</b><br>%{text}<br><b>Cosine Similarity:</b> %{y:.3f}<br><extra></extra>",
         "legendgroup": "trait",
         "legendgrouptitle": {
          "text": "Trait PCs"
         },
         "line": {
          "color": "#1f77b4",
          "width": 2
         },
         "marker": {
          "color": "#1f77b4",
          "opacity": 0.8,
          "size": 4
         },
         "mode": "lines+markers",
         "name": "antagonistic ↔ agreeable",
         "showlegend": true,
         "text": [
          "<b>Turn 0</b>",
          "<b>Turn 1</b>",
          "<b>Turn 2</b>",
          "<b>Turn 3</b>",
          "<b>Turn 4</b>",
          "<b>Turn 5</b>",
          "<b>Turn 6</b>",
          "<b>Turn 7</b>",
          "<b>Turn 8</b>",
          "<b>Turn 9</b>",
          "<b>Turn 10</b>",
          "<b>Turn 11</b>",
          "<b>Turn 12</b>",
          "<b>Turn 13</b>"
         ],
         "type": "scatter",
         "x": [
          0,
          1,
          2,
          3,
          4,
          5,
          6,
          7,
          8,
          9,
          10,
          11,
          12,
          13
         ],
         "xaxis": "x2",
         "y": [
          0.7828956777037471,
          -7.8358005089407605,
          -7.9888783738706115,
          -7.641377594897809,
          -7.161041147645086,
          -6.027817196269484,
          -5.753209491928593,
          -5.511910504748772,
          -5.029921935452198,
          -4.81393413211744,
          -5.421562669417999,
          -5.136713681894188,
          -6.185452508135826,
          -5.374478508248046
         ],
         "yaxis": "y2"
        },
        {
         "hovertemplate": "<b>%{fullData.name}</b><br>%{text}<br><b>Cosine Similarity:</b> %{y:.3f}<br><extra></extra>",
         "legendgroup": "trait",
         "legendgrouptitle": {
          "text": "Trait PCs"
         },
         "line": {
          "color": "#ff7f0e",
          "width": 2
         },
         "marker": {
          "color": "#ff7f0e",
          "opacity": 0.8,
          "size": 4
         },
         "mode": "lines+markers",
         "name": "analytical ↔ emotional",
         "showlegend": true,
         "text": [
          "<b>Turn 0</b>",
          "<b>Turn 1</b>",
          "<b>Turn 2</b>",
          "<b>Turn 3</b>",
          "<b>Turn 4</b>",
          "<b>Turn 5</b>",
          "<b>Turn 6</b>",
          "<b>Turn 7</b>",
          "<b>Turn 8</b>",
          "<b>Turn 9</b>",
          "<b>Turn 10</b>",
          "<b>Turn 11</b>",
          "<b>Turn 12</b>",
          "<b>Turn 13</b>"
         ],
         "type": "scatter",
         "x": [
          0,
          1,
          2,
          3,
          4,
          5,
          6,
          7,
          8,
          9,
          10,
          11,
          12,
          13
         ],
         "xaxis": "x2",
         "y": [
          -11.28661435396916,
          -2.591802144753358,
          -3.8014211077754028,
          -3.4100408479666924,
          -3.9347963580515573,
          -3.7816076053715864,
          -3.3777633337526347,
          -3.025231013829688,
          -2.682981730739775,
          -1.8024650576958956,
          -1.150913480494115,
          -0.17290226836319028,
          -0.19110771248055458,
          0.5682345755712632
         ],
         "yaxis": "y2"
        },
        {
         "hovertemplate": "<b>%{fullData.name}</b><br>%{text}<br><b>Cosine Similarity:</b> %{y:.3f}<br><extra></extra>",
         "legendgroup": "trait",
         "legendgrouptitle": {
          "text": "Trait PCs"
         },
         "line": {
          "color": "#2ca02c",
          "width": 2
         },
         "marker": {
          "color": "#2ca02c",
          "opacity": 0.8,
          "size": 4
         },
         "mode": "lines+markers",
         "name": "accessible ↔ esoteric",
         "showlegend": true,
         "text": [
          "<b>Turn 0</b>",
          "<b>Turn 1</b>",
          "<b>Turn 2</b>",
          "<b>Turn 3</b>",
          "<b>Turn 4</b>",
          "<b>Turn 5</b>",
          "<b>Turn 6</b>",
          "<b>Turn 7</b>",
          "<b>Turn 8</b>",
          "<b>Turn 9</b>",
          "<b>Turn 10</b>",
          "<b>Turn 11</b>",
          "<b>Turn 12</b>",
          "<b>Turn 13</b>"
         ],
         "type": "scatter",
         "x": [
          0,
          1,
          2,
          3,
          4,
          5,
          6,
          7,
          8,
          9,
          10,
          11,
          12,
          13
         ],
         "xaxis": "x2",
         "y": [
          -2.0630046191051625,
          2.6999447621563224,
          2.18154062542523,
          1.2595301861853,
          0.3754745990160689,
          1.3004021596999469,
          0.7592173300682432,
          0.753504793321881,
          0.4616960537826146,
          -0.10110111851939378,
          0.6230331778503403,
          1.1903742790417229,
          1.5286034735144116,
          1.144864986932809
         ],
         "yaxis": "y2"
        },
        {
         "hovertemplate": "<b>%{fullData.name}</b><br>%{text}<br><b>Cosine Similarity:</b> %{y:.3f}<br><extra></extra>",
         "legendgroup": "trait",
         "legendgrouptitle": {
          "text": "Trait PCs"
         },
         "line": {
          "color": "#d62728",
          "width": 2
         },
         "marker": {
          "color": "#d62728",
          "opacity": 0.8,
          "size": 4
         },
         "mode": "lines+markers",
         "name": "exploratory ↔ intuitive",
         "showlegend": true,
         "text": [
          "<b>Turn 0</b>",
          "<b>Turn 1</b>",
          "<b>Turn 2</b>",
          "<b>Turn 3</b>",
          "<b>Turn 4</b>",
          "<b>Turn 5</b>",
          "<b>Turn 6</b>",
          "<b>Turn 7</b>",
          "<b>Turn 8</b>",
          "<b>Turn 9</b>",
          "<b>Turn 10</b>",
          "<b>Turn 11</b>",
          "<b>Turn 12</b>",
          "<b>Turn 13</b>"
         ],
         "type": "scatter",
         "x": [
          0,
          1,
          2,
          3,
          4,
          5,
          6,
          7,
          8,
          9,
          10,
          11,
          12,
          13
         ],
         "xaxis": "x2",
         "y": [
          17.26509497165437,
          8.588541839785238,
          5.470075052108067,
          4.911486465989115,
          3.9084401723691022,
          4.077918848625408,
          3.1662851010226656,
          3.188239843510973,
          3.2541945856360197,
          3.6271418589103193,
          3.831408926994702,
          4.516090376943941,
          5.346668273749483,
          4.679279475187263
         ],
         "yaxis": "y2"
        },
        {
         "hovertemplate": "<b>%{fullData.name}</b><br>%{text}<br><b>Cosine Similarity:</b> %{y:.3f}<br><extra></extra>",
         "legendgroup": "trait",
         "legendgrouptitle": {
          "text": "Trait PCs"
         },
         "line": {
          "color": "#9467bd",
          "width": 2
         },
         "marker": {
          "color": "#9467bd",
          "opacity": 0.8,
          "size": 4
         },
         "mode": "lines+markers",
         "name": "skeptical ↔ prescriptive",
         "showlegend": true,
         "text": [
          "<b>Turn 0</b>",
          "<b>Turn 1</b>",
          "<b>Turn 2</b>",
          "<b>Turn 3</b>",
          "<b>Turn 4</b>",
          "<b>Turn 5</b>",
          "<b>Turn 6</b>",
          "<b>Turn 7</b>",
          "<b>Turn 8</b>",
          "<b>Turn 9</b>",
          "<b>Turn 10</b>",
          "<b>Turn 11</b>",
          "<b>Turn 12</b>",
          "<b>Turn 13</b>"
         ],
         "type": "scatter",
         "x": [
          0,
          1,
          2,
          3,
          4,
          5,
          6,
          7,
          8,
          9,
          10,
          11,
          12,
          13
         ],
         "xaxis": "x2",
         "y": [
          -16.021321556288285,
          -21.150984604611715,
          -18.78824672060258,
          -17.53221536957432,
          -15.389370657355023,
          -15.081708370720863,
          -13.975309313212568,
          -13.504064348840764,
          -12.792842766466748,
          -11.844778583435083,
          -12.467659088487558,
          -13.041380099531452,
          -12.47771206207754,
          -11.2425061247852
         ],
         "yaxis": "y2"
        },
        {
         "hovertemplate": "<b>%{fullData.name}</b><br>%{text}<br><b>Cosine Similarity:</b> %{y:.3f}<br><extra></extra>",
         "legendgroup": "trait",
         "legendgrouptitle": {
          "text": "Trait PCs"
         },
         "line": {
          "color": "#8c564b",
          "width": 2
         },
         "marker": {
          "color": "#8c564b",
          "opacity": 0.8,
          "size": 4
         },
         "mode": "lines+markers",
         "name": "assertive ↔ diplomatic",
         "showlegend": true,
         "text": [
          "<b>Turn 0</b>",
          "<b>Turn 1</b>",
          "<b>Turn 2</b>",
          "<b>Turn 3</b>",
          "<b>Turn 4</b>",
          "<b>Turn 5</b>",
          "<b>Turn 6</b>",
          "<b>Turn 7</b>",
          "<b>Turn 8</b>",
          "<b>Turn 9</b>",
          "<b>Turn 10</b>",
          "<b>Turn 11</b>",
          "<b>Turn 12</b>",
          "<b>Turn 13</b>"
         ],
         "type": "scatter",
         "x": [
          0,
          1,
          2,
          3,
          4,
          5,
          6,
          7,
          8,
          9,
          10,
          11,
          12,
          13
         ],
         "xaxis": "x2",
         "y": [
          4.216657524028437,
          6.719755022607142,
          9.10764107301785,
          8.692356070554338,
          9.941393597629474,
          9.965974280298635,
          10.736351999236076,
          11.160726070976771,
          10.945864212103112,
          10.406416340440982,
          10.213788407575315,
          10.352925713932736,
          9.84881453123399,
          9.11370234945639
         ],
         "yaxis": "y2"
        }
       ],
       "layout": {
        "annotations": [
         {
          "font": {
           "size": 16
          },
          "showarrow": false,
          "text": "Trajectory in Role PC Space",
          "x": 0.5,
          "xanchor": "center",
          "xref": "paper",
          "y": 1,
          "yanchor": "bottom",
          "yref": "paper"
         },
         {
          "font": {
           "size": 16
          },
          "showarrow": false,
          "text": "Trajectory in Trait PC Space",
          "x": 0.5,
          "xanchor": "center",
          "xref": "paper",
          "y": 0.45,
          "yanchor": "bottom",
          "yref": "paper"
         }
        ],
        "height": 800,
        "legend": {
         "groupclick": "toggleitem",
         "tracegroupgap": 12,
         "traceorder": "grouped",
         "x": 1.02,
         "xanchor": "left",
         "y": 1,
         "yanchor": "top"
        },
        "showlegend": true,
        "template": {
         "data": {
          "bar": [
           {
            "error_x": {
             "color": "#2a3f5f"
            },
            "error_y": {
             "color": "#2a3f5f"
            },
            "marker": {
             "line": {
              "color": "#E5ECF6",
              "width": 0.5
             },
             "pattern": {
              "fillmode": "overlay",
              "size": 10,
              "solidity": 0.2
             }
            },
            "type": "bar"
           }
          ],
          "barpolar": [
           {
            "marker": {
             "line": {
              "color": "#E5ECF6",
              "width": 0.5
             },
             "pattern": {
              "fillmode": "overlay",
              "size": 10,
              "solidity": 0.2
             }
            },
            "type": "barpolar"
           }
          ],
          "carpet": [
           {
            "aaxis": {
             "endlinecolor": "#2a3f5f",
             "gridcolor": "white",
             "linecolor": "white",
             "minorgridcolor": "white",
             "startlinecolor": "#2a3f5f"
            },
            "baxis": {
             "endlinecolor": "#2a3f5f",
             "gridcolor": "white",
             "linecolor": "white",
             "minorgridcolor": "white",
             "startlinecolor": "#2a3f5f"
            },
            "type": "carpet"
           }
          ],
          "choropleth": [
           {
            "colorbar": {
             "outlinewidth": 0,
             "ticks": ""
            },
            "type": "choropleth"
           }
          ],
          "contour": [
           {
            "colorbar": {
             "outlinewidth": 0,
             "ticks": ""
            },
            "colorscale": [
             [
              0,
              "#0d0887"
             ],
             [
              0.1111111111111111,
              "#46039f"
             ],
             [
              0.2222222222222222,
              "#7201a8"
             ],
             [
              0.3333333333333333,
              "#9c179e"
             ],
             [
              0.4444444444444444,
              "#bd3786"
             ],
             [
              0.5555555555555556,
              "#d8576b"
             ],
             [
              0.6666666666666666,
              "#ed7953"
             ],
             [
              0.7777777777777778,
              "#fb9f3a"
             ],
             [
              0.8888888888888888,
              "#fdca26"
             ],
             [
              1,
              "#f0f921"
             ]
            ],
            "type": "contour"
           }
          ],
          "contourcarpet": [
           {
            "colorbar": {
             "outlinewidth": 0,
             "ticks": ""
            },
            "type": "contourcarpet"
           }
          ],
          "heatmap": [
           {
            "colorbar": {
             "outlinewidth": 0,
             "ticks": ""
            },
            "colorscale": [
             [
              0,
              "#0d0887"
             ],
             [
              0.1111111111111111,
              "#46039f"
             ],
             [
              0.2222222222222222,
              "#7201a8"
             ],
             [
              0.3333333333333333,
              "#9c179e"
             ],
             [
              0.4444444444444444,
              "#bd3786"
             ],
             [
              0.5555555555555556,
              "#d8576b"
             ],
             [
              0.6666666666666666,
              "#ed7953"
             ],
             [
              0.7777777777777778,
              "#fb9f3a"
             ],
             [
              0.8888888888888888,
              "#fdca26"
             ],
             [
              1,
              "#f0f921"
             ]
            ],
            "type": "heatmap"
           }
          ],
          "heatmapgl": [
           {
            "colorbar": {
             "outlinewidth": 0,
             "ticks": ""
            },
            "colorscale": [
             [
              0,
              "#0d0887"
             ],
             [
              0.1111111111111111,
              "#46039f"
             ],
             [
              0.2222222222222222,
              "#7201a8"
             ],
             [
              0.3333333333333333,
              "#9c179e"
             ],
             [
              0.4444444444444444,
              "#bd3786"
             ],
             [
              0.5555555555555556,
              "#d8576b"
             ],
             [
              0.6666666666666666,
              "#ed7953"
             ],
             [
              0.7777777777777778,
              "#fb9f3a"
             ],
             [
              0.8888888888888888,
              "#fdca26"
             ],
             [
              1,
              "#f0f921"
             ]
            ],
            "type": "heatmapgl"
           }
          ],
          "histogram": [
           {
            "marker": {
             "pattern": {
              "fillmode": "overlay",
              "size": 10,
              "solidity": 0.2
             }
            },
            "type": "histogram"
           }
          ],
          "histogram2d": [
           {
            "colorbar": {
             "outlinewidth": 0,
             "ticks": ""
            },
            "colorscale": [
             [
              0,
              "#0d0887"
             ],
             [
              0.1111111111111111,
              "#46039f"
             ],
             [
              0.2222222222222222,
              "#7201a8"
             ],
             [
              0.3333333333333333,
              "#9c179e"
             ],
             [
              0.4444444444444444,
              "#bd3786"
             ],
             [
              0.5555555555555556,
              "#d8576b"
             ],
             [
              0.6666666666666666,
              "#ed7953"
             ],
             [
              0.7777777777777778,
              "#fb9f3a"
             ],
             [
              0.8888888888888888,
              "#fdca26"
             ],
             [
              1,
              "#f0f921"
             ]
            ],
            "type": "histogram2d"
           }
          ],
          "histogram2dcontour": [
           {
            "colorbar": {
             "outlinewidth": 0,
             "ticks": ""
            },
            "colorscale": [
             [
              0,
              "#0d0887"
             ],
             [
              0.1111111111111111,
              "#46039f"
             ],
             [
              0.2222222222222222,
              "#7201a8"
             ],
             [
              0.3333333333333333,
              "#9c179e"
             ],
             [
              0.4444444444444444,
              "#bd3786"
             ],
             [
              0.5555555555555556,
              "#d8576b"
             ],
             [
              0.6666666666666666,
              "#ed7953"
             ],
             [
              0.7777777777777778,
              "#fb9f3a"
             ],
             [
              0.8888888888888888,
              "#fdca26"
             ],
             [
              1,
              "#f0f921"
             ]
            ],
            "type": "histogram2dcontour"
           }
          ],
          "mesh3d": [
           {
            "colorbar": {
             "outlinewidth": 0,
             "ticks": ""
            },
            "type": "mesh3d"
           }
          ],
          "parcoords": [
           {
            "line": {
             "colorbar": {
              "outlinewidth": 0,
              "ticks": ""
             }
            },
            "type": "parcoords"
           }
          ],
          "pie": [
           {
            "automargin": true,
            "type": "pie"
           }
          ],
          "scatter": [
           {
            "fillpattern": {
             "fillmode": "overlay",
             "size": 10,
             "solidity": 0.2
            },
            "type": "scatter"
           }
          ],
          "scatter3d": [
           {
            "line": {
             "colorbar": {
              "outlinewidth": 0,
              "ticks": ""
             }
            },
            "marker": {
             "colorbar": {
              "outlinewidth": 0,
              "ticks": ""
             }
            },
            "type": "scatter3d"
           }
          ],
          "scattercarpet": [
           {
            "marker": {
             "colorbar": {
              "outlinewidth": 0,
              "ticks": ""
             }
            },
            "type": "scattercarpet"
           }
          ],
          "scattergeo": [
           {
            "marker": {
             "colorbar": {
              "outlinewidth": 0,
              "ticks": ""
             }
            },
            "type": "scattergeo"
           }
          ],
          "scattergl": [
           {
            "marker": {
             "colorbar": {
              "outlinewidth": 0,
              "ticks": ""
             }
            },
            "type": "scattergl"
           }
          ],
          "scattermapbox": [
           {
            "marker": {
             "colorbar": {
              "outlinewidth": 0,
              "ticks": ""
             }
            },
            "type": "scattermapbox"
           }
          ],
          "scatterpolar": [
           {
            "marker": {
             "colorbar": {
              "outlinewidth": 0,
              "ticks": ""
             }
            },
            "type": "scatterpolar"
           }
          ],
          "scatterpolargl": [
           {
            "marker": {
             "colorbar": {
              "outlinewidth": 0,
              "ticks": ""
             }
            },
            "type": "scatterpolargl"
           }
          ],
          "scatterternary": [
           {
            "marker": {
             "colorbar": {
              "outlinewidth": 0,
              "ticks": ""
             }
            },
            "type": "scatterternary"
           }
          ],
          "surface": [
           {
            "colorbar": {
             "outlinewidth": 0,
             "ticks": ""
            },
            "colorscale": [
             [
              0,
              "#0d0887"
             ],
             [
              0.1111111111111111,
              "#46039f"
             ],
             [
              0.2222222222222222,
              "#7201a8"
             ],
             [
              0.3333333333333333,
              "#9c179e"
             ],
             [
              0.4444444444444444,
              "#bd3786"
             ],
             [
              0.5555555555555556,
              "#d8576b"
             ],
             [
              0.6666666666666666,
              "#ed7953"
             ],
             [
              0.7777777777777778,
              "#fb9f3a"
             ],
             [
              0.8888888888888888,
              "#fdca26"
             ],
             [
              1,
              "#f0f921"
             ]
            ],
            "type": "surface"
           }
          ],
          "table": [
           {
            "cells": {
             "fill": {
              "color": "#EBF0F8"
             },
             "line": {
              "color": "white"
             }
            },
            "header": {
             "fill": {
              "color": "#C8D4E3"
             },
             "line": {
              "color": "white"
             }
            },
            "type": "table"
           }
          ]
         },
         "layout": {
          "annotationdefaults": {
           "arrowcolor": "#2a3f5f",
           "arrowhead": 0,
           "arrowwidth": 1
          },
          "autotypenumbers": "strict",
          "coloraxis": {
           "colorbar": {
            "outlinewidth": 0,
            "ticks": ""
           }
          },
          "colorscale": {
           "diverging": [
            [
             0,
             "#8e0152"
            ],
            [
             0.1,
             "#c51b7d"
            ],
            [
             0.2,
             "#de77ae"
            ],
            [
             0.3,
             "#f1b6da"
            ],
            [
             0.4,
             "#fde0ef"
            ],
            [
             0.5,
             "#f7f7f7"
            ],
            [
             0.6,
             "#e6f5d0"
            ],
            [
             0.7,
             "#b8e186"
            ],
            [
             0.8,
             "#7fbc41"
            ],
            [
             0.9,
             "#4d9221"
            ],
            [
             1,
             "#276419"
            ]
           ],
           "sequential": [
            [
             0,
             "#0d0887"
            ],
            [
             0.1111111111111111,
             "#46039f"
            ],
            [
             0.2222222222222222,
             "#7201a8"
            ],
            [
             0.3333333333333333,
             "#9c179e"
            ],
            [
             0.4444444444444444,
             "#bd3786"
            ],
            [
             0.5555555555555556,
             "#d8576b"
            ],
            [
             0.6666666666666666,
             "#ed7953"
            ],
            [
             0.7777777777777778,
             "#fb9f3a"
            ],
            [
             0.8888888888888888,
             "#fdca26"
            ],
            [
             1,
             "#f0f921"
            ]
           ],
           "sequentialminus": [
            [
             0,
             "#0d0887"
            ],
            [
             0.1111111111111111,
             "#46039f"
            ],
            [
             0.2222222222222222,
             "#7201a8"
            ],
            [
             0.3333333333333333,
             "#9c179e"
            ],
            [
             0.4444444444444444,
             "#bd3786"
            ],
            [
             0.5555555555555556,
             "#d8576b"
            ],
            [
             0.6666666666666666,
             "#ed7953"
            ],
            [
             0.7777777777777778,
             "#fb9f3a"
            ],
            [
             0.8888888888888888,
             "#fdca26"
            ],
            [
             1,
             "#f0f921"
            ]
           ]
          },
          "colorway": [
           "#636efa",
           "#EF553B",
           "#00cc96",
           "#ab63fa",
           "#FFA15A",
           "#19d3f3",
           "#FF6692",
           "#B6E880",
           "#FF97FF",
           "#FECB52"
          ],
          "font": {
           "color": "#2a3f5f"
          },
          "geo": {
           "bgcolor": "white",
           "lakecolor": "white",
           "landcolor": "#E5ECF6",
           "showlakes": true,
           "showland": true,
           "subunitcolor": "white"
          },
          "hoverlabel": {
           "align": "left"
          },
          "hovermode": "closest",
          "mapbox": {
           "style": "light"
          },
          "paper_bgcolor": "white",
          "plot_bgcolor": "#E5ECF6",
          "polar": {
           "angularaxis": {
            "gridcolor": "white",
            "linecolor": "white",
            "ticks": ""
           },
           "bgcolor": "#E5ECF6",
           "radialaxis": {
            "gridcolor": "white",
            "linecolor": "white",
            "ticks": ""
           }
          },
          "scene": {
           "xaxis": {
            "backgroundcolor": "#E5ECF6",
            "gridcolor": "white",
            "gridwidth": 2,
            "linecolor": "white",
            "showbackground": true,
            "ticks": "",
            "zerolinecolor": "white"
           },
           "yaxis": {
            "backgroundcolor": "#E5ECF6",
            "gridcolor": "white",
            "gridwidth": 2,
            "linecolor": "white",
            "showbackground": true,
            "ticks": "",
            "zerolinecolor": "white"
           },
           "zaxis": {
            "backgroundcolor": "#E5ECF6",
            "gridcolor": "white",
            "gridwidth": 2,
            "linecolor": "white",
            "showbackground": true,
            "ticks": "",
            "zerolinecolor": "white"
           }
          },
          "shapedefaults": {
           "line": {
            "color": "#2a3f5f"
           }
          },
          "ternary": {
           "aaxis": {
            "gridcolor": "white",
            "linecolor": "white",
            "ticks": ""
           },
           "baxis": {
            "gridcolor": "white",
            "linecolor": "white",
            "ticks": ""
           },
           "bgcolor": "#E5ECF6",
           "caxis": {
            "gridcolor": "white",
            "linecolor": "white",
            "ticks": ""
           }
          },
          "title": {
           "x": 0.05
          },
          "xaxis": {
           "automargin": true,
           "gridcolor": "white",
           "linecolor": "white",
           "ticks": "",
           "title": {
            "standoff": 15
           },
           "zerolinecolor": "white",
           "zerolinewidth": 2
          },
          "yaxis": {
           "automargin": true,
           "gridcolor": "white",
           "linecolor": "white",
           "ticks": "",
           "title": {
            "standoff": 15
           },
           "zerolinecolor": "white",
           "zerolinewidth": 2
          }
         }
        },
        "title": {
         "subtitle": {
          "text": "Qwen 3 32B, Layer 32"
         },
         "text": "Conversation Trajectories in Persona Subspace: 100 Philosophy Conversations"
        },
        "width": 1200,
        "xaxis": {
         "anchor": "y",
         "domain": [
          0,
          1
         ]
        },
        "xaxis2": {
         "anchor": "y2",
         "domain": [
          0,
          1
         ],
         "title": {
          "text": "Conversation Turn"
         }
        },
        "yaxis": {
         "anchor": "x",
         "domain": [
          0.55,
          1
         ],
         "title": {
          "text": "PC Projection"
         }
        },
        "yaxis2": {
         "anchor": "x2",
         "domain": [
          0,
          0.45
         ],
         "title": {
          "text": "PC Projection"
         }
        }
       }
      },
      "text/html": [
       "<div>                            <div id=\"129557ef-485d-4ee0-b95d-4972cb5a39d9\" class=\"plotly-graph-div\" style=\"height:800px; width:1200px;\"></div>            <script type=\"text/javascript\">                require([\"plotly\"], function(Plotly) {                    window.PLOTLYENV=window.PLOTLYENV || {};                                    if (document.getElementById(\"129557ef-485d-4ee0-b95d-4972cb5a39d9\")) {                    Plotly.newPlot(                        \"129557ef-485d-4ee0-b95d-4972cb5a39d9\",                        [{\"hovertemplate\":\"\\u003cb\\u003e%{fullData.name}\\u003c\\u002fb\\u003e\\u003cbr\\u003e%{text}\\u003cbr\\u003e\\u003cb\\u003eCosine Similarity:\\u003c\\u002fb\\u003e %{y:.3f}\\u003cbr\\u003e\\u003cextra\\u003e\\u003c\\u002fextra\\u003e\",\"legendgroup\":\"role\",\"legendgrouptitle\":{\"text\":\"Role PCs\"},\"line\":{\"color\":\"#1f77b4\",\"width\":2},\"marker\":{\"color\":\"#1f77b4\",\"opacity\":0.8,\"size\":4},\"mode\":\"lines+markers\",\"name\":\"Assistant-like \\u2194 role-playing\",\"showlegend\":true,\"text\":[\"\\u003cb\\u003eTurn 0\\u003c\\u002fb\\u003e\",\"\\u003cb\\u003eTurn 1\\u003c\\u002fb\\u003e\",\"\\u003cb\\u003eTurn 2\\u003c\\u002fb\\u003e\",\"\\u003cb\\u003eTurn 3\\u003c\\u002fb\\u003e\",\"\\u003cb\\u003eTurn 4\\u003c\\u002fb\\u003e\",\"\\u003cb\\u003eTurn 5\\u003c\\u002fb\\u003e\",\"\\u003cb\\u003eTurn 6\\u003c\\u002fb\\u003e\",\"\\u003cb\\u003eTurn 7\\u003c\\u002fb\\u003e\",\"\\u003cb\\u003eTurn 8\\u003c\\u002fb\\u003e\",\"\\u003cb\\u003eTurn 9\\u003c\\u002fb\\u003e\",\"\\u003cb\\u003eTurn 10\\u003c\\u002fb\\u003e\",\"\\u003cb\\u003eTurn 11\\u003c\\u002fb\\u003e\",\"\\u003cb\\u003eTurn 12\\u003c\\u002fb\\u003e\",\"\\u003cb\\u003eTurn 13\\u003c\\u002fb\\u003e\"],\"x\":[0,1,2,3,4,5,6,7,8,9,10,11,12,13],\"y\":[5.591052615345847,16.98458737338111,16.197777097768377,15.31598142621934,13.950052455457964,12.955769364409583,12.617393465164268,12.575590187384536,12.170208517943795,12.525879135995948,13.75647968345864,14.144315091748457,16.298805369611223,15.126179891087386],\"type\":\"scatter\",\"xaxis\":\"x\",\"yaxis\":\"y\"},{\"hovertemplate\":\"\\u003cb\\u003e%{fullData.name}\\u003c\\u002fb\\u003e\\u003cbr\\u003e%{text}\\u003cbr\\u003e\\u003cb\\u003eCosine Similarity:\\u003c\\u002fb\\u003e %{y:.3f}\\u003cbr\\u003e\\u003cextra\\u003e\\u003c\\u002fextra\\u003e\",\"legendgroup\":\"role\",\"legendgrouptitle\":{\"text\":\"Role PCs\"},\"line\":{\"color\":\"#ff7f0e\",\"width\":2},\"marker\":{\"color\":\"#ff7f0e\",\"opacity\":0.8,\"size\":4},\"mode\":\"lines+markers\",\"name\":\"inhuman \\u2194 human\",\"showlegend\":true,\"text\":[\"\\u003cb\\u003eTurn 0\\u003c\\u002fb\\u003e\",\"\\u003cb\\u003eTurn 1\\u003c\\u002fb\\u003e\",\"\\u003cb\\u003eTurn 2\\u003c\\u002fb\\u003e\",\"\\u003cb\\u003eTurn 3\\u003c\\u002fb\\u003e\",\"\\u003cb\\u003eTurn 4\\u003c\\u002fb\\u003e\",\"\\u003cb\\u003eTurn 5\\u003c\\u002fb\\u003e\",\"\\u003cb\\u003eTurn 6\\u003c\\u002fb\\u003e\",\"\\u003cb\\u003eTurn 7\\u003c\\u002fb\\u003e\",\"\\u003cb\\u003eTurn 8\\u003c\\u002fb\\u003e\",\"\\u003cb\\u003eTurn 9\\u003c\\u002fb\\u003e\",\"\\u003cb\\u003eTurn 10\\u003c\\u002fb\\u003e\",\"\\u003cb\\u003eTurn 11\\u003c\\u002fb\\u003e\",\"\\u003cb\\u003eTurn 12\\u003c\\u002fb\\u003e\",\"\\u003cb\\u003eTurn 13\\u003c\\u002fb\\u003e\"],\"x\":[0,1,2,3,4,5,6,7,8,9,10,11,12,13],\"y\":[13.77935992169892,16.57486847589916,17.463086133920083,18.688632961213198,19.369272757305243,17.31543646385702,17.854656553405544,17.403172097828964,17.380605179525954,17.117265684524206,16.72413048391331,15.48425123323182,15.982891967851913,16.08058182931949],\"type\":\"scatter\",\"xaxis\":\"x\",\"yaxis\":\"y\"},{\"hovertemplate\":\"\\u003cb\\u003e%{fullData.name}\\u003c\\u002fb\\u003e\\u003cbr\\u003e%{text}\\u003cbr\\u003e\\u003cb\\u003eCosine Similarity:\\u003c\\u002fb\\u003e %{y:.3f}\\u003cbr\\u003e\\u003cextra\\u003e\\u003c\\u002fextra\\u003e\",\"legendgroup\":\"role\",\"legendgrouptitle\":{\"text\":\"Role PCs\"},\"line\":{\"color\":\"#2ca02c\",\"width\":2},\"marker\":{\"color\":\"#2ca02c\",\"opacity\":0.8,\"size\":4},\"mode\":\"lines+markers\",\"name\":\"compassionate \\u2194 calculating\",\"showlegend\":true,\"text\":[\"\\u003cb\\u003eTurn 0\\u003c\\u002fb\\u003e\",\"\\u003cb\\u003eTurn 1\\u003c\\u002fb\\u003e\",\"\\u003cb\\u003eTurn 2\\u003c\\u002fb\\u003e\",\"\\u003cb\\u003eTurn 3\\u003c\\u002fb\\u003e\",\"\\u003cb\\u003eTurn 4\\u003c\\u002fb\\u003e\",\"\\u003cb\\u003eTurn 5\\u003c\\u002fb\\u003e\",\"\\u003cb\\u003eTurn 6\\u003c\\u002fb\\u003e\",\"\\u003cb\\u003eTurn 7\\u003c\\u002fb\\u003e\",\"\\u003cb\\u003eTurn 8\\u003c\\u002fb\\u003e\",\"\\u003cb\\u003eTurn 9\\u003c\\u002fb\\u003e\",\"\\u003cb\\u003eTurn 10\\u003c\\u002fb\\u003e\",\"\\u003cb\\u003eTurn 11\\u003c\\u002fb\\u003e\",\"\\u003cb\\u003eTurn 12\\u003c\\u002fb\\u003e\",\"\\u003cb\\u003eTurn 13\\u003c\\u002fb\\u003e\"],\"x\":[0,1,2,3,4,5,6,7,8,9,10,11,12,13],\"y\":[44.49480464230157,45.06255859787582,47.81895256826305,47.04772515528462,46.407536358851374,46.77199331462523,46.32078451785096,46.09959957047006,45.43085234187228,44.88277388539441,44.74701188192251,43.51443985842242,43.04050474858933,42.27567540474766],\"type\":\"scatter\",\"xaxis\":\"x\",\"yaxis\":\"y\"},{\"hovertemplate\":\"\\u003cb\\u003e%{fullData.name}\\u003c\\u002fb\\u003e\\u003cbr\\u003e%{text}\\u003cbr\\u003e\\u003cb\\u003eCosine Similarity:\\u003c\\u002fb\\u003e %{y:.3f}\\u003cbr\\u003e\\u003cextra\\u003e\\u003c\\u002fextra\\u003e\",\"legendgroup\":\"role\",\"legendgrouptitle\":{\"text\":\"Role PCs\"},\"line\":{\"color\":\"#d62728\",\"width\":2},\"marker\":{\"color\":\"#d62728\",\"opacity\":0.8,\"size\":4},\"mode\":\"lines+markers\",\"name\":\"hospitable \\u2194 rebellious\",\"showlegend\":true,\"text\":[\"\\u003cb\\u003eTurn 0\\u003c\\u002fb\\u003e\",\"\\u003cb\\u003eTurn 1\\u003c\\u002fb\\u003e\",\"\\u003cb\\u003eTurn 2\\u003c\\u002fb\\u003e\",\"\\u003cb\\u003eTurn 3\\u003c\\u002fb\\u003e\",\"\\u003cb\\u003eTurn 4\\u003c\\u002fb\\u003e\",\"\\u003cb\\u003eTurn 5\\u003c\\u002fb\\u003e\",\"\\u003cb\\u003eTurn 6\\u003c\\u002fb\\u003e\",\"\\u003cb\\u003eTurn 7\\u003c\\u002fb\\u003e\",\"\\u003cb\\u003eTurn 8\\u003c\\u002fb\\u003e\",\"\\u003cb\\u003eTurn 9\\u003c\\u002fb\\u003e\",\"\\u003cb\\u003eTurn 10\\u003c\\u002fb\\u003e\",\"\\u003cb\\u003eTurn 11\\u003c\\u002fb\\u003e\",\"\\u003cb\\u003eTurn 12\\u003c\\u002fb\\u003e\",\"\\u003cb\\u003eTurn 13\\u003c\\u002fb\\u003e\"],\"x\":[0,1,2,3,4,5,6,7,8,9,10,11,12,13],\"y\":[-2.382497103581818,6.925093378236949,6.687546686522908,5.572129289161647,4.252481680483058,3.1707854520457595,2.2379575213905794,2.123638506898713,1.0900721120357004,-0.6160199162985073,0.5056271799812966,0.34343715392025875,0.053529486553897644,-1.1204747903430141],\"type\":\"scatter\",\"xaxis\":\"x\",\"yaxis\":\"y\"},{\"hovertemplate\":\"\\u003cb\\u003e%{fullData.name}\\u003c\\u002fb\\u003e\\u003cbr\\u003e%{text}\\u003cbr\\u003e\\u003cb\\u003eCosine Similarity:\\u003c\\u002fb\\u003e %{y:.3f}\\u003cbr\\u003e\\u003cextra\\u003e\\u003c\\u002fextra\\u003e\",\"legendgroup\":\"role\",\"legendgrouptitle\":{\"text\":\"Role PCs\"},\"line\":{\"color\":\"#9467bd\",\"width\":2},\"marker\":{\"color\":\"#9467bd\",\"opacity\":0.8,\"size\":4},\"mode\":\"lines+markers\",\"name\":\"thinking \\u2194 doing\",\"showlegend\":true,\"text\":[\"\\u003cb\\u003eTurn 0\\u003c\\u002fb\\u003e\",\"\\u003cb\\u003eTurn 1\\u003c\\u002fb\\u003e\",\"\\u003cb\\u003eTurn 2\\u003c\\u002fb\\u003e\",\"\\u003cb\\u003eTurn 3\\u003c\\u002fb\\u003e\",\"\\u003cb\\u003eTurn 4\\u003c\\u002fb\\u003e\",\"\\u003cb\\u003eTurn 5\\u003c\\u002fb\\u003e\",\"\\u003cb\\u003eTurn 6\\u003c\\u002fb\\u003e\",\"\\u003cb\\u003eTurn 7\\u003c\\u002fb\\u003e\",\"\\u003cb\\u003eTurn 8\\u003c\\u002fb\\u003e\",\"\\u003cb\\u003eTurn 9\\u003c\\u002fb\\u003e\",\"\\u003cb\\u003eTurn 10\\u003c\\u002fb\\u003e\",\"\\u003cb\\u003eTurn 11\\u003c\\u002fb\\u003e\",\"\\u003cb\\u003eTurn 12\\u003c\\u002fb\\u003e\",\"\\u003cb\\u003eTurn 13\\u003c\\u002fb\\u003e\"],\"x\":[0,1,2,3,4,5,6,7,8,9,10,11,12,13],\"y\":[-34.863916223999155,-26.176692747776126,-22.741192108041773,-23.0459538363643,-21.480137045502094,-21.394342749245588,-20.245982899348427,-20.065548234876857,-20.236924215122635,-19.84607156187475,-20.34447958191072,-20.74327235737537,-22.079025661658644,-20.676834778068404],\"type\":\"scatter\",\"xaxis\":\"x\",\"yaxis\":\"y\"},{\"hovertemplate\":\"\\u003cb\\u003e%{fullData.name}\\u003c\\u002fb\\u003e\\u003cbr\\u003e%{text}\\u003cbr\\u003e\\u003cb\\u003eCosine Similarity:\\u003c\\u002fb\\u003e %{y:.3f}\\u003cbr\\u003e\\u003cextra\\u003e\\u003c\\u002fextra\\u003e\",\"legendgroup\":\"role\",\"legendgrouptitle\":{\"text\":\"Role PCs\"},\"line\":{\"color\":\"#8c564b\",\"width\":2},\"marker\":{\"color\":\"#8c564b\",\"opacity\":0.8,\"size\":4},\"mode\":\"lines+markers\",\"name\":\"fluid \\u2194 rigid\",\"showlegend\":true,\"text\":[\"\\u003cb\\u003eTurn 0\\u003c\\u002fb\\u003e\",\"\\u003cb\\u003eTurn 1\\u003c\\u002fb\\u003e\",\"\\u003cb\\u003eTurn 2\\u003c\\u002fb\\u003e\",\"\\u003cb\\u003eTurn 3\\u003c\\u002fb\\u003e\",\"\\u003cb\\u003eTurn 4\\u003c\\u002fb\\u003e\",\"\\u003cb\\u003eTurn 5\\u003c\\u002fb\\u003e\",\"\\u003cb\\u003eTurn 6\\u003c\\u002fb\\u003e\",\"\\u003cb\\u003eTurn 7\\u003c\\u002fb\\u003e\",\"\\u003cb\\u003eTurn 8\\u003c\\u002fb\\u003e\",\"\\u003cb\\u003eTurn 9\\u003c\\u002fb\\u003e\",\"\\u003cb\\u003eTurn 10\\u003c\\u002fb\\u003e\",\"\\u003cb\\u003eTurn 11\\u003c\\u002fb\\u003e\",\"\\u003cb\\u003eTurn 12\\u003c\\u002fb\\u003e\",\"\\u003cb\\u003eTurn 13\\u003c\\u002fb\\u003e\"],\"x\":[0,1,2,3,4,5,6,7,8,9,10,11,12,13],\"y\":[8.79842906175046,-0.46213060294986075,-0.25881112777445686,-0.9865836307443673,-0.6946690177110063,-0.6403010552998594,-0.5077739237157053,-0.611955808713898,-0.4378893310429781,-1.443328480702409,-1.3926688992647323,-1.7006239905473102,-1.5692493492903767,-2.0808458800726344],\"type\":\"scatter\",\"xaxis\":\"x\",\"yaxis\":\"y\"},{\"hovertemplate\":\"\\u003cb\\u003e%{fullData.name}\\u003c\\u002fb\\u003e\\u003cbr\\u003e%{text}\\u003cbr\\u003e\\u003cb\\u003eCosine Similarity:\\u003c\\u002fb\\u003e %{y:.3f}\\u003cbr\\u003e\\u003cextra\\u003e\\u003c\\u002fextra\\u003e\",\"legendgroup\":\"trait\",\"legendgrouptitle\":{\"text\":\"Trait PCs\"},\"line\":{\"color\":\"#1f77b4\",\"width\":2},\"marker\":{\"color\":\"#1f77b4\",\"opacity\":0.8,\"size\":4},\"mode\":\"lines+markers\",\"name\":\"antagonistic \\u2194 agreeable\",\"showlegend\":true,\"text\":[\"\\u003cb\\u003eTurn 0\\u003c\\u002fb\\u003e\",\"\\u003cb\\u003eTurn 1\\u003c\\u002fb\\u003e\",\"\\u003cb\\u003eTurn 2\\u003c\\u002fb\\u003e\",\"\\u003cb\\u003eTurn 3\\u003c\\u002fb\\u003e\",\"\\u003cb\\u003eTurn 4\\u003c\\u002fb\\u003e\",\"\\u003cb\\u003eTurn 5\\u003c\\u002fb\\u003e\",\"\\u003cb\\u003eTurn 6\\u003c\\u002fb\\u003e\",\"\\u003cb\\u003eTurn 7\\u003c\\u002fb\\u003e\",\"\\u003cb\\u003eTurn 8\\u003c\\u002fb\\u003e\",\"\\u003cb\\u003eTurn 9\\u003c\\u002fb\\u003e\",\"\\u003cb\\u003eTurn 10\\u003c\\u002fb\\u003e\",\"\\u003cb\\u003eTurn 11\\u003c\\u002fb\\u003e\",\"\\u003cb\\u003eTurn 12\\u003c\\u002fb\\u003e\",\"\\u003cb\\u003eTurn 13\\u003c\\u002fb\\u003e\"],\"x\":[0,1,2,3,4,5,6,7,8,9,10,11,12,13],\"y\":[0.7828956777037471,-7.8358005089407605,-7.9888783738706115,-7.641377594897809,-7.161041147645086,-6.027817196269484,-5.753209491928593,-5.511910504748772,-5.029921935452198,-4.81393413211744,-5.421562669417999,-5.136713681894188,-6.185452508135826,-5.374478508248046],\"type\":\"scatter\",\"xaxis\":\"x2\",\"yaxis\":\"y2\"},{\"hovertemplate\":\"\\u003cb\\u003e%{fullData.name}\\u003c\\u002fb\\u003e\\u003cbr\\u003e%{text}\\u003cbr\\u003e\\u003cb\\u003eCosine Similarity:\\u003c\\u002fb\\u003e %{y:.3f}\\u003cbr\\u003e\\u003cextra\\u003e\\u003c\\u002fextra\\u003e\",\"legendgroup\":\"trait\",\"legendgrouptitle\":{\"text\":\"Trait PCs\"},\"line\":{\"color\":\"#ff7f0e\",\"width\":2},\"marker\":{\"color\":\"#ff7f0e\",\"opacity\":0.8,\"size\":4},\"mode\":\"lines+markers\",\"name\":\"analytical \\u2194 emotional\",\"showlegend\":true,\"text\":[\"\\u003cb\\u003eTurn 0\\u003c\\u002fb\\u003e\",\"\\u003cb\\u003eTurn 1\\u003c\\u002fb\\u003e\",\"\\u003cb\\u003eTurn 2\\u003c\\u002fb\\u003e\",\"\\u003cb\\u003eTurn 3\\u003c\\u002fb\\u003e\",\"\\u003cb\\u003eTurn 4\\u003c\\u002fb\\u003e\",\"\\u003cb\\u003eTurn 5\\u003c\\u002fb\\u003e\",\"\\u003cb\\u003eTurn 6\\u003c\\u002fb\\u003e\",\"\\u003cb\\u003eTurn 7\\u003c\\u002fb\\u003e\",\"\\u003cb\\u003eTurn 8\\u003c\\u002fb\\u003e\",\"\\u003cb\\u003eTurn 9\\u003c\\u002fb\\u003e\",\"\\u003cb\\u003eTurn 10\\u003c\\u002fb\\u003e\",\"\\u003cb\\u003eTurn 11\\u003c\\u002fb\\u003e\",\"\\u003cb\\u003eTurn 12\\u003c\\u002fb\\u003e\",\"\\u003cb\\u003eTurn 13\\u003c\\u002fb\\u003e\"],\"x\":[0,1,2,3,4,5,6,7,8,9,10,11,12,13],\"y\":[-11.28661435396916,-2.591802144753358,-3.8014211077754028,-3.4100408479666924,-3.9347963580515573,-3.7816076053715864,-3.3777633337526347,-3.025231013829688,-2.682981730739775,-1.8024650576958956,-1.150913480494115,-0.17290226836319028,-0.19110771248055458,0.5682345755712632],\"type\":\"scatter\",\"xaxis\":\"x2\",\"yaxis\":\"y2\"},{\"hovertemplate\":\"\\u003cb\\u003e%{fullData.name}\\u003c\\u002fb\\u003e\\u003cbr\\u003e%{text}\\u003cbr\\u003e\\u003cb\\u003eCosine Similarity:\\u003c\\u002fb\\u003e %{y:.3f}\\u003cbr\\u003e\\u003cextra\\u003e\\u003c\\u002fextra\\u003e\",\"legendgroup\":\"trait\",\"legendgrouptitle\":{\"text\":\"Trait PCs\"},\"line\":{\"color\":\"#2ca02c\",\"width\":2},\"marker\":{\"color\":\"#2ca02c\",\"opacity\":0.8,\"size\":4},\"mode\":\"lines+markers\",\"name\":\"accessible \\u2194 esoteric\",\"showlegend\":true,\"text\":[\"\\u003cb\\u003eTurn 0\\u003c\\u002fb\\u003e\",\"\\u003cb\\u003eTurn 1\\u003c\\u002fb\\u003e\",\"\\u003cb\\u003eTurn 2\\u003c\\u002fb\\u003e\",\"\\u003cb\\u003eTurn 3\\u003c\\u002fb\\u003e\",\"\\u003cb\\u003eTurn 4\\u003c\\u002fb\\u003e\",\"\\u003cb\\u003eTurn 5\\u003c\\u002fb\\u003e\",\"\\u003cb\\u003eTurn 6\\u003c\\u002fb\\u003e\",\"\\u003cb\\u003eTurn 7\\u003c\\u002fb\\u003e\",\"\\u003cb\\u003eTurn 8\\u003c\\u002fb\\u003e\",\"\\u003cb\\u003eTurn 9\\u003c\\u002fb\\u003e\",\"\\u003cb\\u003eTurn 10\\u003c\\u002fb\\u003e\",\"\\u003cb\\u003eTurn 11\\u003c\\u002fb\\u003e\",\"\\u003cb\\u003eTurn 12\\u003c\\u002fb\\u003e\",\"\\u003cb\\u003eTurn 13\\u003c\\u002fb\\u003e\"],\"x\":[0,1,2,3,4,5,6,7,8,9,10,11,12,13],\"y\":[-2.0630046191051625,2.6999447621563224,2.18154062542523,1.2595301861853,0.3754745990160689,1.3004021596999469,0.7592173300682432,0.753504793321881,0.4616960537826146,-0.10110111851939378,0.6230331778503403,1.1903742790417229,1.5286034735144116,1.144864986932809],\"type\":\"scatter\",\"xaxis\":\"x2\",\"yaxis\":\"y2\"},{\"hovertemplate\":\"\\u003cb\\u003e%{fullData.name}\\u003c\\u002fb\\u003e\\u003cbr\\u003e%{text}\\u003cbr\\u003e\\u003cb\\u003eCosine Similarity:\\u003c\\u002fb\\u003e %{y:.3f}\\u003cbr\\u003e\\u003cextra\\u003e\\u003c\\u002fextra\\u003e\",\"legendgroup\":\"trait\",\"legendgrouptitle\":{\"text\":\"Trait PCs\"},\"line\":{\"color\":\"#d62728\",\"width\":2},\"marker\":{\"color\":\"#d62728\",\"opacity\":0.8,\"size\":4},\"mode\":\"lines+markers\",\"name\":\"exploratory \\u2194 intuitive\",\"showlegend\":true,\"text\":[\"\\u003cb\\u003eTurn 0\\u003c\\u002fb\\u003e\",\"\\u003cb\\u003eTurn 1\\u003c\\u002fb\\u003e\",\"\\u003cb\\u003eTurn 2\\u003c\\u002fb\\u003e\",\"\\u003cb\\u003eTurn 3\\u003c\\u002fb\\u003e\",\"\\u003cb\\u003eTurn 4\\u003c\\u002fb\\u003e\",\"\\u003cb\\u003eTurn 5\\u003c\\u002fb\\u003e\",\"\\u003cb\\u003eTurn 6\\u003c\\u002fb\\u003e\",\"\\u003cb\\u003eTurn 7\\u003c\\u002fb\\u003e\",\"\\u003cb\\u003eTurn 8\\u003c\\u002fb\\u003e\",\"\\u003cb\\u003eTurn 9\\u003c\\u002fb\\u003e\",\"\\u003cb\\u003eTurn 10\\u003c\\u002fb\\u003e\",\"\\u003cb\\u003eTurn 11\\u003c\\u002fb\\u003e\",\"\\u003cb\\u003eTurn 12\\u003c\\u002fb\\u003e\",\"\\u003cb\\u003eTurn 13\\u003c\\u002fb\\u003e\"],\"x\":[0,1,2,3,4,5,6,7,8,9,10,11,12,13],\"y\":[17.26509497165437,8.588541839785238,5.470075052108067,4.911486465989115,3.9084401723691022,4.077918848625408,3.1662851010226656,3.188239843510973,3.2541945856360197,3.6271418589103193,3.831408926994702,4.516090376943941,5.346668273749483,4.679279475187263],\"type\":\"scatter\",\"xaxis\":\"x2\",\"yaxis\":\"y2\"},{\"hovertemplate\":\"\\u003cb\\u003e%{fullData.name}\\u003c\\u002fb\\u003e\\u003cbr\\u003e%{text}\\u003cbr\\u003e\\u003cb\\u003eCosine Similarity:\\u003c\\u002fb\\u003e %{y:.3f}\\u003cbr\\u003e\\u003cextra\\u003e\\u003c\\u002fextra\\u003e\",\"legendgroup\":\"trait\",\"legendgrouptitle\":{\"text\":\"Trait PCs\"},\"line\":{\"color\":\"#9467bd\",\"width\":2},\"marker\":{\"color\":\"#9467bd\",\"opacity\":0.8,\"size\":4},\"mode\":\"lines+markers\",\"name\":\"skeptical \\u2194 prescriptive\",\"showlegend\":true,\"text\":[\"\\u003cb\\u003eTurn 0\\u003c\\u002fb\\u003e\",\"\\u003cb\\u003eTurn 1\\u003c\\u002fb\\u003e\",\"\\u003cb\\u003eTurn 2\\u003c\\u002fb\\u003e\",\"\\u003cb\\u003eTurn 3\\u003c\\u002fb\\u003e\",\"\\u003cb\\u003eTurn 4\\u003c\\u002fb\\u003e\",\"\\u003cb\\u003eTurn 5\\u003c\\u002fb\\u003e\",\"\\u003cb\\u003eTurn 6\\u003c\\u002fb\\u003e\",\"\\u003cb\\u003eTurn 7\\u003c\\u002fb\\u003e\",\"\\u003cb\\u003eTurn 8\\u003c\\u002fb\\u003e\",\"\\u003cb\\u003eTurn 9\\u003c\\u002fb\\u003e\",\"\\u003cb\\u003eTurn 10\\u003c\\u002fb\\u003e\",\"\\u003cb\\u003eTurn 11\\u003c\\u002fb\\u003e\",\"\\u003cb\\u003eTurn 12\\u003c\\u002fb\\u003e\",\"\\u003cb\\u003eTurn 13\\u003c\\u002fb\\u003e\"],\"x\":[0,1,2,3,4,5,6,7,8,9,10,11,12,13],\"y\":[-16.021321556288285,-21.150984604611715,-18.78824672060258,-17.53221536957432,-15.389370657355023,-15.081708370720863,-13.975309313212568,-13.504064348840764,-12.792842766466748,-11.844778583435083,-12.467659088487558,-13.041380099531452,-12.47771206207754,-11.2425061247852],\"type\":\"scatter\",\"xaxis\":\"x2\",\"yaxis\":\"y2\"},{\"hovertemplate\":\"\\u003cb\\u003e%{fullData.name}\\u003c\\u002fb\\u003e\\u003cbr\\u003e%{text}\\u003cbr\\u003e\\u003cb\\u003eCosine Similarity:\\u003c\\u002fb\\u003e %{y:.3f}\\u003cbr\\u003e\\u003cextra\\u003e\\u003c\\u002fextra\\u003e\",\"legendgroup\":\"trait\",\"legendgrouptitle\":{\"text\":\"Trait PCs\"},\"line\":{\"color\":\"#8c564b\",\"width\":2},\"marker\":{\"color\":\"#8c564b\",\"opacity\":0.8,\"size\":4},\"mode\":\"lines+markers\",\"name\":\"assertive \\u2194 diplomatic\",\"showlegend\":true,\"text\":[\"\\u003cb\\u003eTurn 0\\u003c\\u002fb\\u003e\",\"\\u003cb\\u003eTurn 1\\u003c\\u002fb\\u003e\",\"\\u003cb\\u003eTurn 2\\u003c\\u002fb\\u003e\",\"\\u003cb\\u003eTurn 3\\u003c\\u002fb\\u003e\",\"\\u003cb\\u003eTurn 4\\u003c\\u002fb\\u003e\",\"\\u003cb\\u003eTurn 5\\u003c\\u002fb\\u003e\",\"\\u003cb\\u003eTurn 6\\u003c\\u002fb\\u003e\",\"\\u003cb\\u003eTurn 7\\u003c\\u002fb\\u003e\",\"\\u003cb\\u003eTurn 8\\u003c\\u002fb\\u003e\",\"\\u003cb\\u003eTurn 9\\u003c\\u002fb\\u003e\",\"\\u003cb\\u003eTurn 10\\u003c\\u002fb\\u003e\",\"\\u003cb\\u003eTurn 11\\u003c\\u002fb\\u003e\",\"\\u003cb\\u003eTurn 12\\u003c\\u002fb\\u003e\",\"\\u003cb\\u003eTurn 13\\u003c\\u002fb\\u003e\"],\"x\":[0,1,2,3,4,5,6,7,8,9,10,11,12,13],\"y\":[4.216657524028437,6.719755022607142,9.10764107301785,8.692356070554338,9.941393597629474,9.965974280298635,10.736351999236076,11.160726070976771,10.945864212103112,10.406416340440982,10.213788407575315,10.352925713932736,9.84881453123399,9.11370234945639],\"type\":\"scatter\",\"xaxis\":\"x2\",\"yaxis\":\"y2\"}],                        {\"template\":{\"data\":{\"histogram2dcontour\":[{\"type\":\"histogram2dcontour\",\"colorbar\":{\"outlinewidth\":0,\"ticks\":\"\"},\"colorscale\":[[0.0,\"#0d0887\"],[0.1111111111111111,\"#46039f\"],[0.2222222222222222,\"#7201a8\"],[0.3333333333333333,\"#9c179e\"],[0.4444444444444444,\"#bd3786\"],[0.5555555555555556,\"#d8576b\"],[0.6666666666666666,\"#ed7953\"],[0.7777777777777778,\"#fb9f3a\"],[0.8888888888888888,\"#fdca26\"],[1.0,\"#f0f921\"]]}],\"choropleth\":[{\"type\":\"choropleth\",\"colorbar\":{\"outlinewidth\":0,\"ticks\":\"\"}}],\"histogram2d\":[{\"type\":\"histogram2d\",\"colorbar\":{\"outlinewidth\":0,\"ticks\":\"\"},\"colorscale\":[[0.0,\"#0d0887\"],[0.1111111111111111,\"#46039f\"],[0.2222222222222222,\"#7201a8\"],[0.3333333333333333,\"#9c179e\"],[0.4444444444444444,\"#bd3786\"],[0.5555555555555556,\"#d8576b\"],[0.6666666666666666,\"#ed7953\"],[0.7777777777777778,\"#fb9f3a\"],[0.8888888888888888,\"#fdca26\"],[1.0,\"#f0f921\"]]}],\"heatmap\":[{\"type\":\"heatmap\",\"colorbar\":{\"outlinewidth\":0,\"ticks\":\"\"},\"colorscale\":[[0.0,\"#0d0887\"],[0.1111111111111111,\"#46039f\"],[0.2222222222222222,\"#7201a8\"],[0.3333333333333333,\"#9c179e\"],[0.4444444444444444,\"#bd3786\"],[0.5555555555555556,\"#d8576b\"],[0.6666666666666666,\"#ed7953\"],[0.7777777777777778,\"#fb9f3a\"],[0.8888888888888888,\"#fdca26\"],[1.0,\"#f0f921\"]]}],\"heatmapgl\":[{\"type\":\"heatmapgl\",\"colorbar\":{\"outlinewidth\":0,\"ticks\":\"\"},\"colorscale\":[[0.0,\"#0d0887\"],[0.1111111111111111,\"#46039f\"],[0.2222222222222222,\"#7201a8\"],[0.3333333333333333,\"#9c179e\"],[0.4444444444444444,\"#bd3786\"],[0.5555555555555556,\"#d8576b\"],[0.6666666666666666,\"#ed7953\"],[0.7777777777777778,\"#fb9f3a\"],[0.8888888888888888,\"#fdca26\"],[1.0,\"#f0f921\"]]}],\"contourcarpet\":[{\"type\":\"contourcarpet\",\"colorbar\":{\"outlinewidth\":0,\"ticks\":\"\"}}],\"contour\":[{\"type\":\"contour\",\"colorbar\":{\"outlinewidth\":0,\"ticks\":\"\"},\"colorscale\":[[0.0,\"#0d0887\"],[0.1111111111111111,\"#46039f\"],[0.2222222222222222,\"#7201a8\"],[0.3333333333333333,\"#9c179e\"],[0.4444444444444444,\"#bd3786\"],[0.5555555555555556,\"#d8576b\"],[0.6666666666666666,\"#ed7953\"],[0.7777777777777778,\"#fb9f3a\"],[0.8888888888888888,\"#fdca26\"],[1.0,\"#f0f921\"]]}],\"surface\":[{\"type\":\"surface\",\"colorbar\":{\"outlinewidth\":0,\"ticks\":\"\"},\"colorscale\":[[0.0,\"#0d0887\"],[0.1111111111111111,\"#46039f\"],[0.2222222222222222,\"#7201a8\"],[0.3333333333333333,\"#9c179e\"],[0.4444444444444444,\"#bd3786\"],[0.5555555555555556,\"#d8576b\"],[0.6666666666666666,\"#ed7953\"],[0.7777777777777778,\"#fb9f3a\"],[0.8888888888888888,\"#fdca26\"],[1.0,\"#f0f921\"]]}],\"mesh3d\":[{\"type\":\"mesh3d\",\"colorbar\":{\"outlinewidth\":0,\"ticks\":\"\"}}],\"scatter\":[{\"fillpattern\":{\"fillmode\":\"overlay\",\"size\":10,\"solidity\":0.2},\"type\":\"scatter\"}],\"parcoords\":[{\"type\":\"parcoords\",\"line\":{\"colorbar\":{\"outlinewidth\":0,\"ticks\":\"\"}}}],\"scatterpolargl\":[{\"type\":\"scatterpolargl\",\"marker\":{\"colorbar\":{\"outlinewidth\":0,\"ticks\":\"\"}}}],\"bar\":[{\"error_x\":{\"color\":\"#2a3f5f\"},\"error_y\":{\"color\":\"#2a3f5f\"},\"marker\":{\"line\":{\"color\":\"#E5ECF6\",\"width\":0.5},\"pattern\":{\"fillmode\":\"overlay\",\"size\":10,\"solidity\":0.2}},\"type\":\"bar\"}],\"scattergeo\":[{\"type\":\"scattergeo\",\"marker\":{\"colorbar\":{\"outlinewidth\":0,\"ticks\":\"\"}}}],\"scatterpolar\":[{\"type\":\"scatterpolar\",\"marker\":{\"colorbar\":{\"outlinewidth\":0,\"ticks\":\"\"}}}],\"histogram\":[{\"marker\":{\"pattern\":{\"fillmode\":\"overlay\",\"size\":10,\"solidity\":0.2}},\"type\":\"histogram\"}],\"scattergl\":[{\"type\":\"scattergl\",\"marker\":{\"colorbar\":{\"outlinewidth\":0,\"ticks\":\"\"}}}],\"scatter3d\":[{\"type\":\"scatter3d\",\"line\":{\"colorbar\":{\"outlinewidth\":0,\"ticks\":\"\"}},\"marker\":{\"colorbar\":{\"outlinewidth\":0,\"ticks\":\"\"}}}],\"scattermapbox\":[{\"type\":\"scattermapbox\",\"marker\":{\"colorbar\":{\"outlinewidth\":0,\"ticks\":\"\"}}}],\"scatterternary\":[{\"type\":\"scatterternary\",\"marker\":{\"colorbar\":{\"outlinewidth\":0,\"ticks\":\"\"}}}],\"scattercarpet\":[{\"type\":\"scattercarpet\",\"marker\":{\"colorbar\":{\"outlinewidth\":0,\"ticks\":\"\"}}}],\"carpet\":[{\"aaxis\":{\"endlinecolor\":\"#2a3f5f\",\"gridcolor\":\"white\",\"linecolor\":\"white\",\"minorgridcolor\":\"white\",\"startlinecolor\":\"#2a3f5f\"},\"baxis\":{\"endlinecolor\":\"#2a3f5f\",\"gridcolor\":\"white\",\"linecolor\":\"white\",\"minorgridcolor\":\"white\",\"startlinecolor\":\"#2a3f5f\"},\"type\":\"carpet\"}],\"table\":[{\"cells\":{\"fill\":{\"color\":\"#EBF0F8\"},\"line\":{\"color\":\"white\"}},\"header\":{\"fill\":{\"color\":\"#C8D4E3\"},\"line\":{\"color\":\"white\"}},\"type\":\"table\"}],\"barpolar\":[{\"marker\":{\"line\":{\"color\":\"#E5ECF6\",\"width\":0.5},\"pattern\":{\"fillmode\":\"overlay\",\"size\":10,\"solidity\":0.2}},\"type\":\"barpolar\"}],\"pie\":[{\"automargin\":true,\"type\":\"pie\"}]},\"layout\":{\"autotypenumbers\":\"strict\",\"colorway\":[\"#636efa\",\"#EF553B\",\"#00cc96\",\"#ab63fa\",\"#FFA15A\",\"#19d3f3\",\"#FF6692\",\"#B6E880\",\"#FF97FF\",\"#FECB52\"],\"font\":{\"color\":\"#2a3f5f\"},\"hovermode\":\"closest\",\"hoverlabel\":{\"align\":\"left\"},\"paper_bgcolor\":\"white\",\"plot_bgcolor\":\"#E5ECF6\",\"polar\":{\"bgcolor\":\"#E5ECF6\",\"angularaxis\":{\"gridcolor\":\"white\",\"linecolor\":\"white\",\"ticks\":\"\"},\"radialaxis\":{\"gridcolor\":\"white\",\"linecolor\":\"white\",\"ticks\":\"\"}},\"ternary\":{\"bgcolor\":\"#E5ECF6\",\"aaxis\":{\"gridcolor\":\"white\",\"linecolor\":\"white\",\"ticks\":\"\"},\"baxis\":{\"gridcolor\":\"white\",\"linecolor\":\"white\",\"ticks\":\"\"},\"caxis\":{\"gridcolor\":\"white\",\"linecolor\":\"white\",\"ticks\":\"\"}},\"coloraxis\":{\"colorbar\":{\"outlinewidth\":0,\"ticks\":\"\"}},\"colorscale\":{\"sequential\":[[0.0,\"#0d0887\"],[0.1111111111111111,\"#46039f\"],[0.2222222222222222,\"#7201a8\"],[0.3333333333333333,\"#9c179e\"],[0.4444444444444444,\"#bd3786\"],[0.5555555555555556,\"#d8576b\"],[0.6666666666666666,\"#ed7953\"],[0.7777777777777778,\"#fb9f3a\"],[0.8888888888888888,\"#fdca26\"],[1.0,\"#f0f921\"]],\"sequentialminus\":[[0.0,\"#0d0887\"],[0.1111111111111111,\"#46039f\"],[0.2222222222222222,\"#7201a8\"],[0.3333333333333333,\"#9c179e\"],[0.4444444444444444,\"#bd3786\"],[0.5555555555555556,\"#d8576b\"],[0.6666666666666666,\"#ed7953\"],[0.7777777777777778,\"#fb9f3a\"],[0.8888888888888888,\"#fdca26\"],[1.0,\"#f0f921\"]],\"diverging\":[[0,\"#8e0152\"],[0.1,\"#c51b7d\"],[0.2,\"#de77ae\"],[0.3,\"#f1b6da\"],[0.4,\"#fde0ef\"],[0.5,\"#f7f7f7\"],[0.6,\"#e6f5d0\"],[0.7,\"#b8e186\"],[0.8,\"#7fbc41\"],[0.9,\"#4d9221\"],[1,\"#276419\"]]},\"xaxis\":{\"gridcolor\":\"white\",\"linecolor\":\"white\",\"ticks\":\"\",\"title\":{\"standoff\":15},\"zerolinecolor\":\"white\",\"automargin\":true,\"zerolinewidth\":2},\"yaxis\":{\"gridcolor\":\"white\",\"linecolor\":\"white\",\"ticks\":\"\",\"title\":{\"standoff\":15},\"zerolinecolor\":\"white\",\"automargin\":true,\"zerolinewidth\":2},\"scene\":{\"xaxis\":{\"backgroundcolor\":\"#E5ECF6\",\"gridcolor\":\"white\",\"linecolor\":\"white\",\"showbackground\":true,\"ticks\":\"\",\"zerolinecolor\":\"white\",\"gridwidth\":2},\"yaxis\":{\"backgroundcolor\":\"#E5ECF6\",\"gridcolor\":\"white\",\"linecolor\":\"white\",\"showbackground\":true,\"ticks\":\"\",\"zerolinecolor\":\"white\",\"gridwidth\":2},\"zaxis\":{\"backgroundcolor\":\"#E5ECF6\",\"gridcolor\":\"white\",\"linecolor\":\"white\",\"showbackground\":true,\"ticks\":\"\",\"zerolinecolor\":\"white\",\"gridwidth\":2}},\"shapedefaults\":{\"line\":{\"color\":\"#2a3f5f\"}},\"annotationdefaults\":{\"arrowcolor\":\"#2a3f5f\",\"arrowhead\":0,\"arrowwidth\":1},\"geo\":{\"bgcolor\":\"white\",\"landcolor\":\"#E5ECF6\",\"subunitcolor\":\"white\",\"showland\":true,\"showlakes\":true,\"lakecolor\":\"white\"},\"title\":{\"x\":0.05},\"mapbox\":{\"style\":\"light\"}}},\"xaxis\":{\"anchor\":\"y\",\"domain\":[0.0,1.0]},\"yaxis\":{\"anchor\":\"x\",\"domain\":[0.55,1.0],\"title\":{\"text\":\"PC Projection\"}},\"xaxis2\":{\"anchor\":\"y2\",\"domain\":[0.0,1.0],\"title\":{\"text\":\"Conversation Turn\"}},\"yaxis2\":{\"anchor\":\"x2\",\"domain\":[0.0,0.45],\"title\":{\"text\":\"PC Projection\"}},\"annotations\":[{\"font\":{\"size\":16},\"showarrow\":false,\"text\":\"Trajectory in Role PC Space\",\"x\":0.5,\"xanchor\":\"center\",\"xref\":\"paper\",\"y\":1.0,\"yanchor\":\"bottom\",\"yref\":\"paper\"},{\"font\":{\"size\":16},\"showarrow\":false,\"text\":\"Trajectory in Trait PC Space\",\"x\":0.5,\"xanchor\":\"center\",\"xref\":\"paper\",\"y\":0.45,\"yanchor\":\"bottom\",\"yref\":\"paper\"}],\"title\":{\"subtitle\":{\"text\":\"Qwen 3 32B, Layer 32\"},\"text\":\"Conversation Trajectories in Persona Subspace: 100 Philosophy Conversations\"},\"legend\":{\"traceorder\":\"grouped\",\"groupclick\":\"toggleitem\",\"x\":1.02,\"xanchor\":\"left\",\"y\":1,\"yanchor\":\"top\",\"tracegroupgap\":12},\"height\":800,\"width\":1200,\"showlegend\":true},                        {\"responsive\": true}                    ).then(function(){\n",
       "                            \n",
       "var gd = document.getElementById('129557ef-485d-4ee0-b95d-4972cb5a39d9');\n",
       "var x = new MutationObserver(function (mutations, observer) {{\n",
       "        var display = window.getComputedStyle(gd).display;\n",
       "        if (!display || display === 'none') {{\n",
       "            console.log([gd, 'removed!']);\n",
       "            Plotly.purge(gd);\n",
       "            observer.disconnect();\n",
       "        }}\n",
       "}});\n",
       "\n",
       "// Listen for the removal of the full notebook cells\n",
       "var notebookContainer = gd.closest('#notebook-container');\n",
       "if (notebookContainer) {{\n",
       "    x.observe(notebookContainer, {childList: true});\n",
       "}}\n",
       "\n",
       "// Listen for the clearing of the current output cell\n",
       "var outputEl = gd.closest('.output');\n",
       "if (outputEl) {{\n",
       "    x.observe(outputEl, {childList: true});\n",
       "}}\n",
       "\n",
       "                        })                };                });            </script>        </div>"
      ]
     },
     "metadata": {},
     "output_type": "display_data"
    }
   ],
   "source": [
    "# Create a combined plot showing both role and trait trajectories\n",
    "filename = \"auto_philosophy\"\n",
    "import plotly.subplots as sp\n",
    "\n",
    "# Create subplot figure\n",
    "combined_fig = sp.make_subplots(\n",
    "    rows=2, cols=1,\n",
    "    subplot_titles=(\"Trajectory in Role PC Space\", \"Trajectory in Trait PC Space\"),\n",
    "    vertical_spacing=0.1\n",
    ")\n",
    "\n",
    "for tr in plot_mean_response_trajectory(\n",
    "        role_projs, conversation=None, title=\"<b>Role PCs</b>\", pc_titles=role_pc_titles, projection=True\n",
    "    ).data:\n",
    "    tr.update(\n",
    "        showlegend=True,\n",
    "        legendgroup=\"role\",\n",
    "        legendgrouptitle_text=\"Role PCs\"\n",
    "    )\n",
    "    combined_fig.add_trace(tr, row=1, col=1)\n",
    "\n",
    "# Add trait traces to second subplot\n",
    "for tr in plot_mean_response_trajectory(\n",
    "        trait_projs, conversation=None, title=\"<b>Trait PCs</b>\", pc_titles=trait_pc_titles, projection=True\n",
    "    ).data:\n",
    "    tr.update(\n",
    "        showlegend=True,\n",
    "        legendgroup=\"trait\",\n",
    "        legendgrouptitle_text=\"Trait PCs\"\n",
    "    )\n",
    "    combined_fig.add_trace(tr, row=2, col=1)\n",
    "\n",
    "combined_fig.update_layout(\n",
    "    height=800,\n",
    "    width=1200,\n",
    "    title={\n",
    "        \"text\": f\"Conversation Trajectories in Persona Subspace: 100 Philosophy Conversations\",\n",
    "        \"subtitle\": {\"text\": f\"{model_readable}, Layer {layer}\"}\n",
    "    },\n",
    "    showlegend=True,\n",
    "    legend=dict(\n",
    "        traceorder=\"grouped\",     # keeps groups together\n",
    "        groupclick=\"toggleitem\",\n",
    "        x=1.02, xanchor=\"left\",   # place legend outside on the right\n",
    "        y=1, yanchor=\"top\"\n",
    "    ),\n",
    "    legend_tracegroupgap=12       # space between groups\n",
    ")\n",
    "# Bottom x-axis label only\n",
    "combined_fig.update_xaxes(title_text=\"Conversation Turn\", row=2, col=1)\n",
    "\n",
    "# Y-axis labels for both subplots\n",
    "combined_fig.update_yaxes(title_text=\"PC Projection\", row=1, col=1)\n",
    "combined_fig.update_yaxes(title_text=\"PC Projection\", row=2, col=1)\n",
    "\n",
    "combined_fig.show()\n",
    "combined_fig.write_html(f\"{plot_output_dir}/{filename}.html\")"
   ]
  },
  {
   "cell_type": "code",
   "execution_count": null,
   "id": "9aec5a51",
   "metadata": {},
   "outputs": [],
   "source": []
  }
 ],
 "metadata": {
  "kernelspec": {
   "display_name": ".venv",
   "language": "python",
   "name": "python3"
  },
  "language_info": {
   "codemirror_mode": {
    "name": "ipython",
    "version": 3
   },
   "file_extension": ".py",
   "mimetype": "text/x-python",
   "name": "python",
   "nbconvert_exporter": "python",
   "pygments_lexer": "ipython3",
   "version": "3.13.5"
  }
 },
 "nbformat": 4,
 "nbformat_minor": 5
}
