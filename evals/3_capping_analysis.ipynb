{
 "cells": [
  {
   "cell_type": "markdown",
   "id": "15db8810",
   "metadata": {},
   "source": [
    "# Analyzing scores and plotting them"
   ]
  },
  {
   "cell_type": "code",
   "execution_count": 2,
   "id": "aae4abb9",
   "metadata": {},
   "outputs": [],
   "source": [
    "import json\n",
    "import os\n",
    "import pandas as pd\n",
    "import numpy as np\n",
    "\n",
    "import plotly.graph_objects as go"
   ]
  },
  {
   "cell_type": "code",
   "execution_count": 3,
   "id": "7be2fb9a",
   "metadata": {},
   "outputs": [],
   "source": [
    "model = \"llama-3.3-70b\"\n",
    "layer = 40\n",
    "subtitle = f\"{model.replace('-', ' ').title()}, Layer {layer}\"\n",
    "base_dir = f\"/workspace/{model}/evals/capped\"\n",
    "out_dir = f\"/root/git/plots/{model}/evals/capped\"\n",
    "\n",
    "os.makedirs(out_dir, exist_ok=True)\n"
   ]
  },
  {
   "cell_type": "code",
   "execution_count": 4,
   "id": "b955093a",
   "metadata": {},
   "outputs": [],
   "source": [
    "# load scores from roles_20 as pandas dataframe\n",
    "scores_path = f\"{base_dir}/jailbreak_1100_scores.jsonl\""
   ]
  },
  {
   "cell_type": "code",
   "execution_count": 5,
   "id": "0056634a",
   "metadata": {},
   "outputs": [
    {
     "name": "stdout",
     "output_type": "stream",
     "text": [
      "Loaded 42900 unsteered scores\n"
     ]
    }
   ],
   "source": [
    "# load into df\n",
    "with open(scores_path, \"r\") as f:\n",
    "    scores = [json.loads(line) for line in f]\n",
    "# Convert to pandas DataFrames\n",
    "scores_df = pd.DataFrame(scores)\n",
    "\n",
    "print(f\"Loaded {len(scores_df)} unsteered scores\")\n",
    "\n"
   ]
  },
  {
   "cell_type": "code",
   "execution_count": 6,
   "id": "o2iuyyz8fm",
   "metadata": {},
   "outputs": [
    {
     "name": "stdout",
     "output_type": "stream",
     "text": [
      "unique caps: [-7.8958131790161135, -3.1057137966156008, -2.465933084487915, -2.249591040611267, -2.0544705390930176, -1.598510980606079, -1.2180844783782958, -1.1925222873687744, -0.9959418714046478, -0.7132623374462128, -0.6563078761100769, -0.6473154664039612, -0.5519672632217407, -0.3025110960006714, -0.3012879878282547, -0.24469350278377533, -0.23144103288650514, -0.22996053099632263, -0.1866045594215393, -0.1426221549510956, -0.04278280623257161, -0.005076746782287957, 0.03156141079962253, 0.033820394426584244, 0.056258976459503174, 0.07795130461454391, 0.11101919412612915, 0.11779586970806122, 0.15121924132108688, 0.1804627925157547, 0.30135229229927063, 0.33397746086120605, 0.6233591437339783, 0.6713424921035767, 1.0828052759170532, 5.431234836578369, 14.39401388168335, 15.660805702209473, 27.02989101409912]\n"
     ]
    }
   ],
   "source": [
    "# caps\n",
    "print(f\"unique caps: {sorted(scores_df['cap'].unique())}\")\n",
    "\n"
   ]
  },
  {
   "cell_type": "markdown",
   "id": "4b325cbd",
   "metadata": {},
   "source": [
    "## Inspect scores\n"
   ]
  },
  {
   "cell_type": "code",
   "execution_count": 7,
   "id": "2ebef7af",
   "metadata": {},
   "outputs": [],
   "source": [
    "def pct_overall(df, name):\n",
    "    total = len(df)\n",
    "\n",
    "    # Raw counts of each label\n",
    "    counts = df[\"score\"].value_counts().sort_index()\n",
    "\n",
    "    # Percentages of each label\n",
    "    percentages = (counts / total * 100).round(1)\n",
    "\n",
    "    # Special targets\n",
    "    n_enough = counts.get(\"enough_info\", 0)\n",
    "    n_enough_perfect = counts.get(\"enough_info_and_follow_perfectly\", 0)\n",
    "    n_either = n_enough + n_enough_perfect\n",
    "\n",
    "    pct_enough = 100 * n_enough / total\n",
    "    pct_enough_perfect = 100 * n_enough_perfect / total\n",
    "    pct_either = 100 * n_either / total\n",
    "\n",
    "    print(f\"=== Overall Score Distribution: {name} ===\")\n",
    "    print(f\"Total samples: {total}\\n\")\n",
    "\n",
    "    # Print table of counts + percentages for each label\n",
    "    print(\"Per-label counts and percentages:\")\n",
    "    for label in counts.index:\n",
    "        print(f\"- {label}: {counts[label]} ({percentages[label]}%)\")\n",
    "\n",
    "    print(\"\\nTarget categories:\")\n",
    "    print(f\"- enough_info: {n_enough} ({pct_enough:.1f}%)\")\n",
    "    print(f\"- enough_info_and_follow_perfectly: {n_enough_perfect} ({pct_enough_perfect:.1f}%)\")\n",
    "    print(f\"- either: {n_either} ({pct_either:.1f}%)\")\n",
    "    print()\n"
   ]
  },
  {
   "cell_type": "code",
   "execution_count": 8,
   "id": "9ee16a3d",
   "metadata": {},
   "outputs": [
    {
     "name": "stdout",
     "output_type": "stream",
     "text": [
      "=== Overall Score Distribution: ALL ===\n",
      "Total samples: 42900\n",
      "\n",
      "Per-label counts and percentages:\n",
      "- almost_enough_info: 213 (0.5%)\n",
      "- enough_info: 17588 (41.0%)\n",
      "- enough_info_and_follow_perfectly: 8401 (19.6%)\n",
      "- out_of_context: 42 (0.1%)\n",
      "- refusal: 9774 (22.8%)\n",
      "- refusal_and_justification: 220 (0.5%)\n",
      "- related_but_no_info: 6662 (15.5%)\n",
      "\n",
      "Target categories:\n",
      "- enough_info: 17588 (41.0%)\n",
      "- enough_info_and_follow_perfectly: 8401 (19.6%)\n",
      "- either: 25989 (60.6%)\n",
      "\n"
     ]
    }
   ],
   "source": [
    "\n",
    "pct_overall(scores_df, \"ALL\")\n"
   ]
  },
  {
   "cell_type": "code",
   "execution_count": 88,
   "id": "f1a06989",
   "metadata": {},
   "outputs": [],
   "source": [
    "def pct_per_magnitude(df, name):\n",
    "    total = len(df)\n",
    "    print(f\"=== Score Distribution by Magnitude: {name} ===\")\n",
    "    print(f\"Total samples: {total}\\n\")\n",
    "\n",
    "    for mag, group in df.groupby(\"magnitude\"):\n",
    "        n = len(group)\n",
    "        counts = group[\"score\"].value_counts().sort_index()\n",
    "        percentages = (counts / n * 100).round(1)\n",
    "\n",
    "        # Special targets\n",
    "        n_enough = counts.get(\"enough_info\", 0)\n",
    "        n_enough_perfect = counts.get(\"enough_info_and_follow_perfectly\", 0)\n",
    "        n_either = n_enough + n_enough_perfect\n",
    "\n",
    "        pct_enough = 100 * n_enough / n\n",
    "        pct_enough_perfect = 100 * n_enough_perfect / n\n",
    "        pct_either = 100 * n_either / n\n",
    "\n",
    "        print(f\"Magnitude: {mag}\")\n",
    "        print(f\"Samples: {n}\")\n",
    "\n",
    "        print(\"Per-label counts and percentages:\")\n",
    "        for label in counts.index:\n",
    "            print(f\"- {label}: {counts[label]} ({percentages[label]}%)\")\n",
    "\n",
    "        print(\"Target categories:\")\n",
    "        print(f\"- enough_info: {n_enough} ({pct_enough:.1f}%)\")\n",
    "        print(f\"- enough_info_and_follow_perfectly: {n_enough_perfect} ({pct_enough_perfect:.1f}%)\")\n",
    "        print(f\"- either: {n_either} ({pct_either:.1f}%)\")\n",
    "        print()\n"
   ]
  },
  {
   "cell_type": "code",
   "execution_count": 91,
   "id": "4e7a1876",
   "metadata": {},
   "outputs": [
    {
     "name": "stdout",
     "output_type": "stream",
     "text": [
      "Index(['id', 'role', 'prompt_id', 'question_id', 'prompt', 'question',\n",
      "       'harm_category', 'persona', 'magnitude', 'response', 'score',\n",
      "       'analysis'],\n",
      "      dtype='object')\n"
     ]
    }
   ],
   "source": [
    "print(steered_jailbreak_df.keys())"
   ]
  },
  {
   "cell_type": "markdown",
   "id": "b0611827",
   "metadata": {},
   "source": [
    "## Plot Harmful Responses"
   ]
  },
  {
   "cell_type": "code",
   "execution_count": 58,
   "id": "a0b707dd",
   "metadata": {},
   "outputs": [],
   "source": [
    "\n",
    "# --- 1) Helper: summarize one dataframe into counts/percentages for target labels ---\n",
    "TARGETS = [\"enough_info\", \"enough_info_and_follow_perfectly\"]\n",
    "\n",
    "def summarize_df(df, jailbreak_label, magnitude_override=None):\n",
    "    \"\"\"\n",
    "    Returns tidy rows with counts and percentages for the two target labels,\n",
    "    grouped by magnitude (float). If magnitude_override is provided, use that\n",
    "    value for every row (e.g., unsteered -> 0.0).\n",
    "    \"\"\"\n",
    "    work = df.copy()\n",
    "    if magnitude_override is not None:\n",
    "        work[\"magnitude\"] = magnitude_override\n",
    "\n",
    "    # group totals per magnitude\n",
    "    totals = work.groupby(\"magnitude\").size().rename(\"n_total\")\n",
    "\n",
    "    # counts per label\n",
    "    counts = (\n",
    "        work[[\"magnitude\", \"score\"]]\n",
    "        .value_counts()\n",
    "        .rename(\"n\")\n",
    "        .reset_index()\n",
    "    )\n",
    "\n",
    "    # keep only the two target labels, but we’ll also compute n_either\n",
    "    target_counts = counts[counts[\"score\"].isin(TARGETS)].copy()\n",
    "\n",
    "    # pivot to get columns for each target label count\n",
    "    pivot = target_counts.pivot_table(\n",
    "        index=\"magnitude\",\n",
    "        columns=\"score\",\n",
    "        values=\"n\",\n",
    "        aggfunc=\"sum\",\n",
    "        fill_value=0\n",
    "    )\n",
    "\n",
    "    # ensure both columns present\n",
    "    for t in TARGETS:\n",
    "        if t not in pivot.columns:\n",
    "            pivot[t] = 0\n",
    "\n",
    "    # combine with totals\n",
    "    df_sum = pivot.join(totals, how=\"right\").fillna(0)\n",
    "    df_sum[\"n_either\"] = df_sum[\"enough_info\"] + df_sum[\"enough_info_and_follow_perfectly\"]\n",
    "\n",
    "    # percentages\n",
    "    for col in [\"enough_info\", \"enough_info_and_follow_perfectly\", \"n_either\"]:\n",
    "        df_sum[f\"pct_{col}\"] = (df_sum[col] / df_sum[\"n_total\"] * 100).round(1)\n",
    "\n",
    "    # tidy long rows for stacked plotting (two rows per magnitude: one per target label)\n",
    "    long_rows = []\n",
    "    for mag, row in df_sum.reset_index().iterrows():\n",
    "        for label in TARGETS:\n",
    "            long_rows.append({\n",
    "                \"magnitude\": float(row[\"magnitude\"]),\n",
    "                \"jailbreak\": jailbreak_label,                 # \"No Jailbreak\" or \"Jailbreak\"\n",
    "                \"score_label\": label,                         # which of the two targets\n",
    "                \"count\": int(row[label]),\n",
    "                \"total\": int(row[\"n_total\"]),\n",
    "                \"pct\": float(row[f\"pct_{label}\"]),\n",
    "                \"pct_either\": float(row[\"pct_n_either\"]),     # same for both labels\n",
    "            })\n",
    "    return pd.DataFrame(long_rows)\n"
   ]
  },
  {
   "cell_type": "code",
   "execution_count": 59,
   "id": "748b37a3",
   "metadata": {},
   "outputs": [],
   "source": [
    "\n",
    "# --- 2) Build the tidy dataset from your four inputs ---\n",
    "# Unsteered frames are magnitude 0.0\n",
    "unsteered_default_tidy   = summarize_df(unsteered_default_df,   \"No Jailbreak\", 0.0)\n",
    "unsteered_jailbreak_tidy = summarize_df(unsteered_jailbreak_df, \"Jailbreak\",    0.0)\n",
    "\n",
    "# Steered frames keep their own magnitude values\n",
    "steered_default_tidy     = summarize_df(steered_default_df,     \"No Jailbreak\")\n",
    "steered_jailbreak_tidy   = summarize_df(steered_jailbreak_df,   \"Jailbreak\")\n",
    "\n",
    "tidy = pd.concat(\n",
    "    [unsteered_default_tidy, unsteered_jailbreak_tidy,\n",
    "     steered_default_tidy,   steered_jailbreak_tidy],\n",
    "    ignore_index=True\n",
    ")"
   ]
  },
  {
   "cell_type": "code",
   "execution_count": 60,
   "id": "4693a2da",
   "metadata": {},
   "outputs": [
    {
     "data": {
      "application/vnd.plotly.v1+json": {
       "config": {
        "plotlyServerURL": "https://plot.ly"
       },
       "data": [
        {
         "cliponaxis": false,
         "customdata": [
          [
           18,
           1100,
           50
          ],
          [
           8,
           1100,
           25
          ],
          [
           51,
           4400,
           0
          ],
          [
           13,
           1100,
           -25
          ],
          [
           5,
           1100,
           -50
          ],
          [
           10,
           1100,
           -75
          ],
          [
           9,
           1100,
           -100
          ],
          [
           10,
           1100,
           -125
          ],
          [
           4,
           1100,
           -150
          ],
          [
           6,
           1100,
           -175
          ],
          [
           3,
           1100,
           -200
          ]
         ],
         "hovertemplate": "Magnitude: %{customdata[2]}<br>No Jailbreak — Harmful Info in Response<br>Pct: %{y:.1f}%<br>Count: %{customdata[0]} / %{customdata[1]}<extra></extra>",
         "legendgroup": "Harmful Info in Response",
         "marker": {
          "color": "#ff7f00"
         },
         "name": "Harmful Info in Response",
         "type": "bar",
         "width": 0.34,
         "x": [
          -0.18,
          0.8200000000000001,
          1.82,
          2.82,
          3.82,
          4.82,
          5.82,
          6.82,
          7.82,
          8.82,
          9.82
         ],
         "y": [
          1.6,
          0.7,
          1.2,
          1.2,
          0.5,
          0.9,
          0.8,
          0.9,
          0.4,
          0.5,
          0.3
         ]
        },
        {
         "cliponaxis": false,
         "customdata": [
          [
           0,
           1100,
           50
          ],
          [
           0,
           1100,
           25
          ],
          [
           0,
           4400,
           0
          ],
          [
           0,
           1100,
           -25
          ],
          [
           0,
           1100,
           -50
          ],
          [
           0,
           1100,
           -75
          ],
          [
           0,
           1100,
           -100
          ],
          [
           0,
           1100,
           -125
          ],
          [
           0,
           1100,
           -150
          ],
          [
           0,
           1100,
           -175
          ],
          [
           0,
           1100,
           -200
          ]
         ],
         "hovertemplate": "Magnitude: %{customdata[2]}<br>No Jailbreak — Harmful Info & Perfectly Following Request<br>Pct: %{y:.1f}%<br>Count: %{customdata[0]} / %{customdata[1]}<extra></extra>",
         "legendgroup": "Harmful Info & Perfectly Following Request",
         "marker": {
          "color": "#e41a1c"
         },
         "name": "Harmful Info & Perfectly Following Request",
         "type": "bar",
         "width": 0.34,
         "x": [
          -0.18,
          0.8200000000000001,
          1.82,
          2.82,
          3.82,
          4.82,
          5.82,
          6.82,
          7.82,
          8.82,
          9.82
         ],
         "y": [
          0,
          0,
          0,
          0,
          0,
          0,
          0,
          0,
          0,
          0,
          0
         ]
        },
        {
         "cliponaxis": false,
         "customdata": [
          [
           667,
           1100,
           50
          ],
          [
           651,
           1100,
           25
          ],
          [
           2570,
           4400,
           0
          ],
          [
           596,
           1100,
           -25
          ],
          [
           533,
           1100,
           -50
          ],
          [
           524,
           1100,
           -75
          ],
          [
           512,
           1100,
           -100
          ],
          [
           501,
           1100,
           -125
          ],
          [
           468,
           1100,
           -150
          ],
          [
           396,
           1100,
           -175
          ],
          [
           261,
           1100,
           -200
          ]
         ],
         "hovertemplate": "Magnitude: %{customdata[2]}<br>Jailbreak — Harmful Info in Response<br>Pct: %{y:.1f}%<br>Count: %{customdata[0]} / %{customdata[1]}<extra></extra>",
         "legendgroup": "Harmful Info in Response",
         "marker": {
          "color": "#ff7f00"
         },
         "showlegend": false,
         "type": "bar",
         "width": 0.34,
         "x": [
          0.18,
          1.18,
          2.18,
          3.18,
          4.18,
          5.18,
          6.18,
          7.18,
          8.18,
          9.18,
          10.18
         ],
         "y": [
          60.6,
          59.2,
          58.4,
          54.2,
          48.5,
          47.6,
          46.5,
          45.5,
          42.5,
          36,
          23.7
         ]
        },
        {
         "cliponaxis": false,
         "customdata": [
          [
           260,
           1100,
           50
          ],
          [
           267,
           1100,
           25
          ],
          [
           1093,
           4400,
           0
          ],
          [
           259,
           1100,
           -25
          ],
          [
           251,
           1100,
           -50
          ],
          [
           231,
           1100,
           -75
          ],
          [
           221,
           1100,
           -100
          ],
          [
           189,
           1100,
           -125
          ],
          [
           145,
           1100,
           -150
          ],
          [
           74,
           1100,
           -175
          ],
          [
           39,
           1100,
           -200
          ]
         ],
         "hovertemplate": "Magnitude: %{customdata[2]}<br>Jailbreak — Harmful Info & Perfectly Following Request<br>Pct: %{y:.1f}%<br>Count: %{customdata[0]} / %{customdata[1]}<extra></extra>",
         "legendgroup": "Harmful Info & Perfectly Following Request",
         "marker": {
          "color": "#e41a1c"
         },
         "showlegend": false,
         "type": "bar",
         "width": 0.34,
         "x": [
          0.18,
          1.18,
          2.18,
          3.18,
          4.18,
          5.18,
          6.18,
          7.18,
          8.18,
          9.18,
          10.18
         ],
         "y": [
          23.6,
          24.3,
          24.8,
          23.5,
          22.8,
          21,
          20.1,
          17.2,
          13.2,
          6.7,
          3.5
         ]
        }
       ],
       "layout": {
        "annotations": [
         {
          "font": {
           "size": 9
          },
          "showarrow": false,
          "text": "1.6%",
          "x": -0.18,
          "y": 4.6
         },
         {
          "font": {
           "size": 10
          },
          "showarrow": false,
          "text": "<b>Default</b>",
          "textangle": -90,
          "x": -0.18,
          "y": 13.6
         },
         {
          "font": {
           "size": 9
          },
          "showarrow": false,
          "text": "84.2%",
          "x": 0.18,
          "y": 87.2
         },
         {
          "font": {
           "size": 10
          },
          "showarrow": false,
          "text": "<b>Jailbreak</b>",
          "textangle": -90,
          "x": 0.18,
          "y": 97.2
         },
         {
          "font": {
           "size": 9
          },
          "showarrow": false,
          "text": "0.7%",
          "x": 0.8200000000000001,
          "y": 3.7
         },
         {
          "font": {
           "size": 10
          },
          "showarrow": false,
          "text": "<b>Default</b>",
          "textangle": -90,
          "x": 0.8200000000000001,
          "y": 12.7
         },
         {
          "font": {
           "size": 9
          },
          "showarrow": false,
          "text": "83.5%",
          "x": 1.18,
          "y": 86.5
         },
         {
          "font": {
           "size": 10
          },
          "showarrow": false,
          "text": "<b>Jailbreak</b>",
          "textangle": -90,
          "x": 1.18,
          "y": 96.5
         },
         {
          "font": {
           "size": 9
          },
          "showarrow": false,
          "text": "1.2%",
          "x": 1.82,
          "y": 4.2
         },
         {
          "font": {
           "size": 10
          },
          "showarrow": false,
          "text": "<b>Default</b>",
          "textangle": -90,
          "x": 1.82,
          "y": 13.2
         },
         {
          "font": {
           "size": 9
          },
          "showarrow": false,
          "text": "83.2%",
          "x": 2.18,
          "y": 86.2
         },
         {
          "font": {
           "size": 10
          },
          "showarrow": false,
          "text": "<b>Jailbreak</b>",
          "textangle": -90,
          "x": 2.18,
          "y": 96.2
         },
         {
          "font": {
           "size": 9
          },
          "showarrow": false,
          "text": "1.2%",
          "x": 2.82,
          "y": 4.2
         },
         {
          "font": {
           "size": 10
          },
          "showarrow": false,
          "text": "<b>Default</b>",
          "textangle": -90,
          "x": 2.82,
          "y": 13.2
         },
         {
          "font": {
           "size": 9
          },
          "showarrow": false,
          "text": "77.7%",
          "x": 3.18,
          "y": 80.7
         },
         {
          "font": {
           "size": 10
          },
          "showarrow": false,
          "text": "<b>Jailbreak</b>",
          "textangle": -90,
          "x": 3.18,
          "y": 90.7
         },
         {
          "font": {
           "size": 9
          },
          "showarrow": false,
          "text": "0.5%",
          "x": 3.82,
          "y": 3.5
         },
         {
          "font": {
           "size": 10
          },
          "showarrow": false,
          "text": "<b>Default</b>",
          "textangle": -90,
          "x": 3.82,
          "y": 12.5
         },
         {
          "font": {
           "size": 9
          },
          "showarrow": false,
          "text": "71.3%",
          "x": 4.18,
          "y": 74.3
         },
         {
          "font": {
           "size": 10
          },
          "showarrow": false,
          "text": "<b>Jailbreak</b>",
          "textangle": -90,
          "x": 4.18,
          "y": 84.3
         },
         {
          "font": {
           "size": 9
          },
          "showarrow": false,
          "text": "0.9%",
          "x": 4.82,
          "y": 3.9
         },
         {
          "font": {
           "size": 10
          },
          "showarrow": false,
          "text": "<b>Default</b>",
          "textangle": -90,
          "x": 4.82,
          "y": 12.9
         },
         {
          "font": {
           "size": 9
          },
          "showarrow": false,
          "text": "68.6%",
          "x": 5.18,
          "y": 71.6
         },
         {
          "font": {
           "size": 10
          },
          "showarrow": false,
          "text": "<b>Jailbreak</b>",
          "textangle": -90,
          "x": 5.18,
          "y": 81.6
         },
         {
          "font": {
           "size": 9
          },
          "showarrow": false,
          "text": "0.8%",
          "x": 5.82,
          "y": 3.8
         },
         {
          "font": {
           "size": 10
          },
          "showarrow": false,
          "text": "<b>Default</b>",
          "textangle": -90,
          "x": 5.82,
          "y": 12.8
         },
         {
          "font": {
           "size": 9
          },
          "showarrow": false,
          "text": "66.6%",
          "x": 6.18,
          "y": 69.6
         },
         {
          "font": {
           "size": 10
          },
          "showarrow": false,
          "text": "<b>Jailbreak</b>",
          "textangle": -90,
          "x": 6.18,
          "y": 79.6
         },
         {
          "font": {
           "size": 9
          },
          "showarrow": false,
          "text": "0.9%",
          "x": 6.82,
          "y": 3.9
         },
         {
          "font": {
           "size": 10
          },
          "showarrow": false,
          "text": "<b>Default</b>",
          "textangle": -90,
          "x": 6.82,
          "y": 12.9
         },
         {
          "font": {
           "size": 9
          },
          "showarrow": false,
          "text": "62.7%",
          "x": 7.18,
          "y": 65.7
         },
         {
          "font": {
           "size": 10
          },
          "showarrow": false,
          "text": "<b>Jailbreak</b>",
          "textangle": -90,
          "x": 7.18,
          "y": 75.7
         },
         {
          "font": {
           "size": 9
          },
          "showarrow": false,
          "text": "0.4%",
          "x": 7.82,
          "y": 3.4
         },
         {
          "font": {
           "size": 10
          },
          "showarrow": false,
          "text": "<b>Default</b>",
          "textangle": -90,
          "x": 7.82,
          "y": 12.4
         },
         {
          "font": {
           "size": 9
          },
          "showarrow": false,
          "text": "55.7%",
          "x": 8.18,
          "y": 58.7
         },
         {
          "font": {
           "size": 10
          },
          "showarrow": false,
          "text": "<b>Jailbreak</b>",
          "textangle": -90,
          "x": 8.18,
          "y": 68.7
         },
         {
          "font": {
           "size": 9
          },
          "showarrow": false,
          "text": "0.5%",
          "x": 8.82,
          "y": 3.5
         },
         {
          "font": {
           "size": 10
          },
          "showarrow": false,
          "text": "<b>Default</b>",
          "textangle": -90,
          "x": 8.82,
          "y": 12.5
         },
         {
          "font": {
           "size": 9
          },
          "showarrow": false,
          "text": "42.7%",
          "x": 9.18,
          "y": 45.7
         },
         {
          "font": {
           "size": 10
          },
          "showarrow": false,
          "text": "<b>Jailbreak</b>",
          "textangle": -90,
          "x": 9.18,
          "y": 55.7
         },
         {
          "font": {
           "size": 9
          },
          "showarrow": false,
          "text": "0.3%",
          "x": 9.82,
          "y": 3.3
         },
         {
          "font": {
           "size": 10
          },
          "showarrow": false,
          "text": "<b>Default</b>",
          "textangle": -90,
          "x": 9.82,
          "y": 12.3
         },
         {
          "font": {
           "size": 9
          },
          "showarrow": false,
          "text": "27.2%",
          "x": 10.18,
          "y": 30.2
         },
         {
          "font": {
           "size": 10
          },
          "showarrow": false,
          "text": "<b>Jailbreak</b>",
          "textangle": -90,
          "x": 10.18,
          "y": 40.2
         }
        ],
        "bargap": 0.2,
        "barmode": "stack",
        "height": 600,
        "legend": {
         "orientation": "h",
         "x": 1,
         "xanchor": "right",
         "y": 1.02,
         "yanchor": "bottom"
        },
        "template": {
         "data": {
          "bar": [
           {
            "error_x": {
             "color": "#2a3f5f"
            },
            "error_y": {
             "color": "#2a3f5f"
            },
            "marker": {
             "line": {
              "color": "#E5ECF6",
              "width": 0.5
             },
             "pattern": {
              "fillmode": "overlay",
              "size": 10,
              "solidity": 0.2
             }
            },
            "type": "bar"
           }
          ],
          "barpolar": [
           {
            "marker": {
             "line": {
              "color": "#E5ECF6",
              "width": 0.5
             },
             "pattern": {
              "fillmode": "overlay",
              "size": 10,
              "solidity": 0.2
             }
            },
            "type": "barpolar"
           }
          ],
          "carpet": [
           {
            "aaxis": {
             "endlinecolor": "#2a3f5f",
             "gridcolor": "white",
             "linecolor": "white",
             "minorgridcolor": "white",
             "startlinecolor": "#2a3f5f"
            },
            "baxis": {
             "endlinecolor": "#2a3f5f",
             "gridcolor": "white",
             "linecolor": "white",
             "minorgridcolor": "white",
             "startlinecolor": "#2a3f5f"
            },
            "type": "carpet"
           }
          ],
          "choropleth": [
           {
            "colorbar": {
             "outlinewidth": 0,
             "ticks": ""
            },
            "type": "choropleth"
           }
          ],
          "contour": [
           {
            "colorbar": {
             "outlinewidth": 0,
             "ticks": ""
            },
            "colorscale": [
             [
              0,
              "#0d0887"
             ],
             [
              0.1111111111111111,
              "#46039f"
             ],
             [
              0.2222222222222222,
              "#7201a8"
             ],
             [
              0.3333333333333333,
              "#9c179e"
             ],
             [
              0.4444444444444444,
              "#bd3786"
             ],
             [
              0.5555555555555556,
              "#d8576b"
             ],
             [
              0.6666666666666666,
              "#ed7953"
             ],
             [
              0.7777777777777778,
              "#fb9f3a"
             ],
             [
              0.8888888888888888,
              "#fdca26"
             ],
             [
              1,
              "#f0f921"
             ]
            ],
            "type": "contour"
           }
          ],
          "contourcarpet": [
           {
            "colorbar": {
             "outlinewidth": 0,
             "ticks": ""
            },
            "type": "contourcarpet"
           }
          ],
          "heatmap": [
           {
            "colorbar": {
             "outlinewidth": 0,
             "ticks": ""
            },
            "colorscale": [
             [
              0,
              "#0d0887"
             ],
             [
              0.1111111111111111,
              "#46039f"
             ],
             [
              0.2222222222222222,
              "#7201a8"
             ],
             [
              0.3333333333333333,
              "#9c179e"
             ],
             [
              0.4444444444444444,
              "#bd3786"
             ],
             [
              0.5555555555555556,
              "#d8576b"
             ],
             [
              0.6666666666666666,
              "#ed7953"
             ],
             [
              0.7777777777777778,
              "#fb9f3a"
             ],
             [
              0.8888888888888888,
              "#fdca26"
             ],
             [
              1,
              "#f0f921"
             ]
            ],
            "type": "heatmap"
           }
          ],
          "heatmapgl": [
           {
            "colorbar": {
             "outlinewidth": 0,
             "ticks": ""
            },
            "colorscale": [
             [
              0,
              "#0d0887"
             ],
             [
              0.1111111111111111,
              "#46039f"
             ],
             [
              0.2222222222222222,
              "#7201a8"
             ],
             [
              0.3333333333333333,
              "#9c179e"
             ],
             [
              0.4444444444444444,
              "#bd3786"
             ],
             [
              0.5555555555555556,
              "#d8576b"
             ],
             [
              0.6666666666666666,
              "#ed7953"
             ],
             [
              0.7777777777777778,
              "#fb9f3a"
             ],
             [
              0.8888888888888888,
              "#fdca26"
             ],
             [
              1,
              "#f0f921"
             ]
            ],
            "type": "heatmapgl"
           }
          ],
          "histogram": [
           {
            "marker": {
             "pattern": {
              "fillmode": "overlay",
              "size": 10,
              "solidity": 0.2
             }
            },
            "type": "histogram"
           }
          ],
          "histogram2d": [
           {
            "colorbar": {
             "outlinewidth": 0,
             "ticks": ""
            },
            "colorscale": [
             [
              0,
              "#0d0887"
             ],
             [
              0.1111111111111111,
              "#46039f"
             ],
             [
              0.2222222222222222,
              "#7201a8"
             ],
             [
              0.3333333333333333,
              "#9c179e"
             ],
             [
              0.4444444444444444,
              "#bd3786"
             ],
             [
              0.5555555555555556,
              "#d8576b"
             ],
             [
              0.6666666666666666,
              "#ed7953"
             ],
             [
              0.7777777777777778,
              "#fb9f3a"
             ],
             [
              0.8888888888888888,
              "#fdca26"
             ],
             [
              1,
              "#f0f921"
             ]
            ],
            "type": "histogram2d"
           }
          ],
          "histogram2dcontour": [
           {
            "colorbar": {
             "outlinewidth": 0,
             "ticks": ""
            },
            "colorscale": [
             [
              0,
              "#0d0887"
             ],
             [
              0.1111111111111111,
              "#46039f"
             ],
             [
              0.2222222222222222,
              "#7201a8"
             ],
             [
              0.3333333333333333,
              "#9c179e"
             ],
             [
              0.4444444444444444,
              "#bd3786"
             ],
             [
              0.5555555555555556,
              "#d8576b"
             ],
             [
              0.6666666666666666,
              "#ed7953"
             ],
             [
              0.7777777777777778,
              "#fb9f3a"
             ],
             [
              0.8888888888888888,
              "#fdca26"
             ],
             [
              1,
              "#f0f921"
             ]
            ],
            "type": "histogram2dcontour"
           }
          ],
          "mesh3d": [
           {
            "colorbar": {
             "outlinewidth": 0,
             "ticks": ""
            },
            "type": "mesh3d"
           }
          ],
          "parcoords": [
           {
            "line": {
             "colorbar": {
              "outlinewidth": 0,
              "ticks": ""
             }
            },
            "type": "parcoords"
           }
          ],
          "pie": [
           {
            "automargin": true,
            "type": "pie"
           }
          ],
          "scatter": [
           {
            "fillpattern": {
             "fillmode": "overlay",
             "size": 10,
             "solidity": 0.2
            },
            "type": "scatter"
           }
          ],
          "scatter3d": [
           {
            "line": {
             "colorbar": {
              "outlinewidth": 0,
              "ticks": ""
             }
            },
            "marker": {
             "colorbar": {
              "outlinewidth": 0,
              "ticks": ""
             }
            },
            "type": "scatter3d"
           }
          ],
          "scattercarpet": [
           {
            "marker": {
             "colorbar": {
              "outlinewidth": 0,
              "ticks": ""
             }
            },
            "type": "scattercarpet"
           }
          ],
          "scattergeo": [
           {
            "marker": {
             "colorbar": {
              "outlinewidth": 0,
              "ticks": ""
             }
            },
            "type": "scattergeo"
           }
          ],
          "scattergl": [
           {
            "marker": {
             "colorbar": {
              "outlinewidth": 0,
              "ticks": ""
             }
            },
            "type": "scattergl"
           }
          ],
          "scattermapbox": [
           {
            "marker": {
             "colorbar": {
              "outlinewidth": 0,
              "ticks": ""
             }
            },
            "type": "scattermapbox"
           }
          ],
          "scatterpolar": [
           {
            "marker": {
             "colorbar": {
              "outlinewidth": 0,
              "ticks": ""
             }
            },
            "type": "scatterpolar"
           }
          ],
          "scatterpolargl": [
           {
            "marker": {
             "colorbar": {
              "outlinewidth": 0,
              "ticks": ""
             }
            },
            "type": "scatterpolargl"
           }
          ],
          "scatterternary": [
           {
            "marker": {
             "colorbar": {
              "outlinewidth": 0,
              "ticks": ""
             }
            },
            "type": "scatterternary"
           }
          ],
          "surface": [
           {
            "colorbar": {
             "outlinewidth": 0,
             "ticks": ""
            },
            "colorscale": [
             [
              0,
              "#0d0887"
             ],
             [
              0.1111111111111111,
              "#46039f"
             ],
             [
              0.2222222222222222,
              "#7201a8"
             ],
             [
              0.3333333333333333,
              "#9c179e"
             ],
             [
              0.4444444444444444,
              "#bd3786"
             ],
             [
              0.5555555555555556,
              "#d8576b"
             ],
             [
              0.6666666666666666,
              "#ed7953"
             ],
             [
              0.7777777777777778,
              "#fb9f3a"
             ],
             [
              0.8888888888888888,
              "#fdca26"
             ],
             [
              1,
              "#f0f921"
             ]
            ],
            "type": "surface"
           }
          ],
          "table": [
           {
            "cells": {
             "fill": {
              "color": "#EBF0F8"
             },
             "line": {
              "color": "white"
             }
            },
            "header": {
             "fill": {
              "color": "#C8D4E3"
             },
             "line": {
              "color": "white"
             }
            },
            "type": "table"
           }
          ]
         },
         "layout": {
          "annotationdefaults": {
           "arrowcolor": "#2a3f5f",
           "arrowhead": 0,
           "arrowwidth": 1
          },
          "autotypenumbers": "strict",
          "coloraxis": {
           "colorbar": {
            "outlinewidth": 0,
            "ticks": ""
           }
          },
          "colorscale": {
           "diverging": [
            [
             0,
             "#8e0152"
            ],
            [
             0.1,
             "#c51b7d"
            ],
            [
             0.2,
             "#de77ae"
            ],
            [
             0.3,
             "#f1b6da"
            ],
            [
             0.4,
             "#fde0ef"
            ],
            [
             0.5,
             "#f7f7f7"
            ],
            [
             0.6,
             "#e6f5d0"
            ],
            [
             0.7,
             "#b8e186"
            ],
            [
             0.8,
             "#7fbc41"
            ],
            [
             0.9,
             "#4d9221"
            ],
            [
             1,
             "#276419"
            ]
           ],
           "sequential": [
            [
             0,
             "#0d0887"
            ],
            [
             0.1111111111111111,
             "#46039f"
            ],
            [
             0.2222222222222222,
             "#7201a8"
            ],
            [
             0.3333333333333333,
             "#9c179e"
            ],
            [
             0.4444444444444444,
             "#bd3786"
            ],
            [
             0.5555555555555556,
             "#d8576b"
            ],
            [
             0.6666666666666666,
             "#ed7953"
            ],
            [
             0.7777777777777778,
             "#fb9f3a"
            ],
            [
             0.8888888888888888,
             "#fdca26"
            ],
            [
             1,
             "#f0f921"
            ]
           ],
           "sequentialminus": [
            [
             0,
             "#0d0887"
            ],
            [
             0.1111111111111111,
             "#46039f"
            ],
            [
             0.2222222222222222,
             "#7201a8"
            ],
            [
             0.3333333333333333,
             "#9c179e"
            ],
            [
             0.4444444444444444,
             "#bd3786"
            ],
            [
             0.5555555555555556,
             "#d8576b"
            ],
            [
             0.6666666666666666,
             "#ed7953"
            ],
            [
             0.7777777777777778,
             "#fb9f3a"
            ],
            [
             0.8888888888888888,
             "#fdca26"
            ],
            [
             1,
             "#f0f921"
            ]
           ]
          },
          "colorway": [
           "#636efa",
           "#EF553B",
           "#00cc96",
           "#ab63fa",
           "#FFA15A",
           "#19d3f3",
           "#FF6692",
           "#B6E880",
           "#FF97FF",
           "#FECB52"
          ],
          "font": {
           "color": "#2a3f5f"
          },
          "geo": {
           "bgcolor": "white",
           "lakecolor": "white",
           "landcolor": "#E5ECF6",
           "showlakes": true,
           "showland": true,
           "subunitcolor": "white"
          },
          "hoverlabel": {
           "align": "left"
          },
          "hovermode": "closest",
          "mapbox": {
           "style": "light"
          },
          "paper_bgcolor": "white",
          "plot_bgcolor": "#E5ECF6",
          "polar": {
           "angularaxis": {
            "gridcolor": "white",
            "linecolor": "white",
            "ticks": ""
           },
           "bgcolor": "#E5ECF6",
           "radialaxis": {
            "gridcolor": "white",
            "linecolor": "white",
            "ticks": ""
           }
          },
          "scene": {
           "xaxis": {
            "backgroundcolor": "#E5ECF6",
            "gridcolor": "white",
            "gridwidth": 2,
            "linecolor": "white",
            "showbackground": true,
            "ticks": "",
            "zerolinecolor": "white"
           },
           "yaxis": {
            "backgroundcolor": "#E5ECF6",
            "gridcolor": "white",
            "gridwidth": 2,
            "linecolor": "white",
            "showbackground": true,
            "ticks": "",
            "zerolinecolor": "white"
           },
           "zaxis": {
            "backgroundcolor": "#E5ECF6",
            "gridcolor": "white",
            "gridwidth": 2,
            "linecolor": "white",
            "showbackground": true,
            "ticks": "",
            "zerolinecolor": "white"
           }
          },
          "shapedefaults": {
           "line": {
            "color": "#2a3f5f"
           }
          },
          "ternary": {
           "aaxis": {
            "gridcolor": "white",
            "linecolor": "white",
            "ticks": ""
           },
           "baxis": {
            "gridcolor": "white",
            "linecolor": "white",
            "ticks": ""
           },
           "bgcolor": "#E5ECF6",
           "caxis": {
            "gridcolor": "white",
            "linecolor": "white",
            "ticks": ""
           }
          },
          "title": {
           "x": 0.05
          },
          "xaxis": {
           "automargin": true,
           "gridcolor": "white",
           "linecolor": "white",
           "ticks": "",
           "title": {
            "standoff": 15
           },
           "zerolinecolor": "white",
           "zerolinewidth": 2
          },
          "yaxis": {
           "automargin": true,
           "gridcolor": "white",
           "linecolor": "white",
           "ticks": "",
           "title": {
            "standoff": 15
           },
           "zerolinecolor": "white",
           "zerolinewidth": 2
          }
         }
        },
        "title": {
         "subtitle": {
          "text": "Qwen 3 32B, Layer 32"
         },
         "text": "Harmful Responses with Persona-based Jailbreaks when Steered Towards the Assistant"
        },
        "width": 1400,
        "xaxis": {
         "gridcolor": "lightgray",
         "range": [
          -0.8,
          10.8
         ],
         "showgrid": true,
         "tickmode": "array",
         "ticktext": [
          "50.0",
          "25.0",
          "Unsteered",
          "-25.0",
          "-50.0",
          "-75.0",
          "-100.0",
          "-125.0",
          "-150.0",
          "-175.0",
          "-200.0"
         ],
         "tickvals": [
          0,
          1,
          2,
          3,
          4,
          5,
          6,
          7,
          8,
          9,
          10
         ],
         "title": {
          "text": "Role-playing PC1 Steering Coefficient"
         }
        },
        "yaxis": {
         "gridcolor": "lightgray",
         "range": [
          0,
          119
         ],
         "showgrid": true,
         "title": {
          "text": "Percentage of Harmful Responses"
         }
        }
       }
      },
      "text/html": [
       "<div>                            <div id=\"90614e8e-7aa9-44f0-b85c-644dfd8b44a7\" class=\"plotly-graph-div\" style=\"height:600px; width:1400px;\"></div>            <script type=\"text/javascript\">                require([\"plotly\"], function(Plotly) {                    window.PLOTLYENV=window.PLOTLYENV || {};                                    if (document.getElementById(\"90614e8e-7aa9-44f0-b85c-644dfd8b44a7\")) {                    Plotly.newPlot(                        \"90614e8e-7aa9-44f0-b85c-644dfd8b44a7\",                        [{\"cliponaxis\":false,\"customdata\":[[18.0,1100.0,50.0],[8.0,1100.0,25.0],[51.0,4400.0,0.0],[13.0,1100.0,-25.0],[5.0,1100.0,-50.0],[10.0,1100.0,-75.0],[9.0,1100.0,-100.0],[10.0,1100.0,-125.0],[4.0,1100.0,-150.0],[6.0,1100.0,-175.0],[3.0,1100.0,-200.0]],\"hovertemplate\":\"Magnitude: %{customdata[2]}\\u003cbr\\u003eNo Jailbreak \\u2014 Harmful Info in Response\\u003cbr\\u003ePct: %{y:.1f}%\\u003cbr\\u003eCount: %{customdata[0]} \\u002f %{customdata[1]}\\u003cextra\\u003e\\u003c\\u002fextra\\u003e\",\"legendgroup\":\"Harmful Info in Response\",\"marker\":{\"color\":\"#ff7f00\"},\"name\":\"Harmful Info in Response\",\"width\":0.34,\"x\":[-0.18,0.8200000000000001,1.82,2.82,3.82,4.82,5.82,6.82,7.82,8.82,9.82],\"y\":[1.6,0.7,1.2,1.2,0.5,0.9,0.8,0.9,0.4,0.5,0.3],\"type\":\"bar\"},{\"cliponaxis\":false,\"customdata\":[[0.0,1100.0,50.0],[0.0,1100.0,25.0],[0.0,4400.0,0.0],[0.0,1100.0,-25.0],[0.0,1100.0,-50.0],[0.0,1100.0,-75.0],[0.0,1100.0,-100.0],[0.0,1100.0,-125.0],[0.0,1100.0,-150.0],[0.0,1100.0,-175.0],[0.0,1100.0,-200.0]],\"hovertemplate\":\"Magnitude: %{customdata[2]}\\u003cbr\\u003eNo Jailbreak \\u2014 Harmful Info & Perfectly Following Request\\u003cbr\\u003ePct: %{y:.1f}%\\u003cbr\\u003eCount: %{customdata[0]} \\u002f %{customdata[1]}\\u003cextra\\u003e\\u003c\\u002fextra\\u003e\",\"legendgroup\":\"Harmful Info & Perfectly Following Request\",\"marker\":{\"color\":\"#e41a1c\"},\"name\":\"Harmful Info & Perfectly Following Request\",\"width\":0.34,\"x\":[-0.18,0.8200000000000001,1.82,2.82,3.82,4.82,5.82,6.82,7.82,8.82,9.82],\"y\":[0.0,0.0,0.0,0.0,0.0,0.0,0.0,0.0,0.0,0.0,0.0],\"type\":\"bar\"},{\"cliponaxis\":false,\"customdata\":[[667.0,1100.0,50.0],[651.0,1100.0,25.0],[2570.0,4400.0,0.0],[596.0,1100.0,-25.0],[533.0,1100.0,-50.0],[524.0,1100.0,-75.0],[512.0,1100.0,-100.0],[501.0,1100.0,-125.0],[468.0,1100.0,-150.0],[396.0,1100.0,-175.0],[261.0,1100.0,-200.0]],\"hovertemplate\":\"Magnitude: %{customdata[2]}\\u003cbr\\u003eJailbreak \\u2014 Harmful Info in Response\\u003cbr\\u003ePct: %{y:.1f}%\\u003cbr\\u003eCount: %{customdata[0]} \\u002f %{customdata[1]}\\u003cextra\\u003e\\u003c\\u002fextra\\u003e\",\"legendgroup\":\"Harmful Info in Response\",\"marker\":{\"color\":\"#ff7f00\"},\"showlegend\":false,\"width\":0.34,\"x\":[0.18,1.18,2.18,3.18,4.18,5.18,6.18,7.18,8.18,9.18,10.18],\"y\":[60.6,59.2,58.4,54.2,48.5,47.6,46.5,45.5,42.5,36.0,23.7],\"type\":\"bar\"},{\"cliponaxis\":false,\"customdata\":[[260.0,1100.0,50.0],[267.0,1100.0,25.0],[1093.0,4400.0,0.0],[259.0,1100.0,-25.0],[251.0,1100.0,-50.0],[231.0,1100.0,-75.0],[221.0,1100.0,-100.0],[189.0,1100.0,-125.0],[145.0,1100.0,-150.0],[74.0,1100.0,-175.0],[39.0,1100.0,-200.0]],\"hovertemplate\":\"Magnitude: %{customdata[2]}\\u003cbr\\u003eJailbreak \\u2014 Harmful Info & Perfectly Following Request\\u003cbr\\u003ePct: %{y:.1f}%\\u003cbr\\u003eCount: %{customdata[0]} \\u002f %{customdata[1]}\\u003cextra\\u003e\\u003c\\u002fextra\\u003e\",\"legendgroup\":\"Harmful Info & Perfectly Following Request\",\"marker\":{\"color\":\"#e41a1c\"},\"showlegend\":false,\"width\":0.34,\"x\":[0.18,1.18,2.18,3.18,4.18,5.18,6.18,7.18,8.18,9.18,10.18],\"y\":[23.6,24.3,24.8,23.5,22.8,21.0,20.1,17.2,13.2,6.7,3.5],\"type\":\"bar\"}],                        {\"template\":{\"data\":{\"histogram2dcontour\":[{\"type\":\"histogram2dcontour\",\"colorbar\":{\"outlinewidth\":0,\"ticks\":\"\"},\"colorscale\":[[0.0,\"#0d0887\"],[0.1111111111111111,\"#46039f\"],[0.2222222222222222,\"#7201a8\"],[0.3333333333333333,\"#9c179e\"],[0.4444444444444444,\"#bd3786\"],[0.5555555555555556,\"#d8576b\"],[0.6666666666666666,\"#ed7953\"],[0.7777777777777778,\"#fb9f3a\"],[0.8888888888888888,\"#fdca26\"],[1.0,\"#f0f921\"]]}],\"choropleth\":[{\"type\":\"choropleth\",\"colorbar\":{\"outlinewidth\":0,\"ticks\":\"\"}}],\"histogram2d\":[{\"type\":\"histogram2d\",\"colorbar\":{\"outlinewidth\":0,\"ticks\":\"\"},\"colorscale\":[[0.0,\"#0d0887\"],[0.1111111111111111,\"#46039f\"],[0.2222222222222222,\"#7201a8\"],[0.3333333333333333,\"#9c179e\"],[0.4444444444444444,\"#bd3786\"],[0.5555555555555556,\"#d8576b\"],[0.6666666666666666,\"#ed7953\"],[0.7777777777777778,\"#fb9f3a\"],[0.8888888888888888,\"#fdca26\"],[1.0,\"#f0f921\"]]}],\"heatmap\":[{\"type\":\"heatmap\",\"colorbar\":{\"outlinewidth\":0,\"ticks\":\"\"},\"colorscale\":[[0.0,\"#0d0887\"],[0.1111111111111111,\"#46039f\"],[0.2222222222222222,\"#7201a8\"],[0.3333333333333333,\"#9c179e\"],[0.4444444444444444,\"#bd3786\"],[0.5555555555555556,\"#d8576b\"],[0.6666666666666666,\"#ed7953\"],[0.7777777777777778,\"#fb9f3a\"],[0.8888888888888888,\"#fdca26\"],[1.0,\"#f0f921\"]]}],\"heatmapgl\":[{\"type\":\"heatmapgl\",\"colorbar\":{\"outlinewidth\":0,\"ticks\":\"\"},\"colorscale\":[[0.0,\"#0d0887\"],[0.1111111111111111,\"#46039f\"],[0.2222222222222222,\"#7201a8\"],[0.3333333333333333,\"#9c179e\"],[0.4444444444444444,\"#bd3786\"],[0.5555555555555556,\"#d8576b\"],[0.6666666666666666,\"#ed7953\"],[0.7777777777777778,\"#fb9f3a\"],[0.8888888888888888,\"#fdca26\"],[1.0,\"#f0f921\"]]}],\"contourcarpet\":[{\"type\":\"contourcarpet\",\"colorbar\":{\"outlinewidth\":0,\"ticks\":\"\"}}],\"contour\":[{\"type\":\"contour\",\"colorbar\":{\"outlinewidth\":0,\"ticks\":\"\"},\"colorscale\":[[0.0,\"#0d0887\"],[0.1111111111111111,\"#46039f\"],[0.2222222222222222,\"#7201a8\"],[0.3333333333333333,\"#9c179e\"],[0.4444444444444444,\"#bd3786\"],[0.5555555555555556,\"#d8576b\"],[0.6666666666666666,\"#ed7953\"],[0.7777777777777778,\"#fb9f3a\"],[0.8888888888888888,\"#fdca26\"],[1.0,\"#f0f921\"]]}],\"surface\":[{\"type\":\"surface\",\"colorbar\":{\"outlinewidth\":0,\"ticks\":\"\"},\"colorscale\":[[0.0,\"#0d0887\"],[0.1111111111111111,\"#46039f\"],[0.2222222222222222,\"#7201a8\"],[0.3333333333333333,\"#9c179e\"],[0.4444444444444444,\"#bd3786\"],[0.5555555555555556,\"#d8576b\"],[0.6666666666666666,\"#ed7953\"],[0.7777777777777778,\"#fb9f3a\"],[0.8888888888888888,\"#fdca26\"],[1.0,\"#f0f921\"]]}],\"mesh3d\":[{\"type\":\"mesh3d\",\"colorbar\":{\"outlinewidth\":0,\"ticks\":\"\"}}],\"scatter\":[{\"fillpattern\":{\"fillmode\":\"overlay\",\"size\":10,\"solidity\":0.2},\"type\":\"scatter\"}],\"parcoords\":[{\"type\":\"parcoords\",\"line\":{\"colorbar\":{\"outlinewidth\":0,\"ticks\":\"\"}}}],\"scatterpolargl\":[{\"type\":\"scatterpolargl\",\"marker\":{\"colorbar\":{\"outlinewidth\":0,\"ticks\":\"\"}}}],\"bar\":[{\"error_x\":{\"color\":\"#2a3f5f\"},\"error_y\":{\"color\":\"#2a3f5f\"},\"marker\":{\"line\":{\"color\":\"#E5ECF6\",\"width\":0.5},\"pattern\":{\"fillmode\":\"overlay\",\"size\":10,\"solidity\":0.2}},\"type\":\"bar\"}],\"scattergeo\":[{\"type\":\"scattergeo\",\"marker\":{\"colorbar\":{\"outlinewidth\":0,\"ticks\":\"\"}}}],\"scatterpolar\":[{\"type\":\"scatterpolar\",\"marker\":{\"colorbar\":{\"outlinewidth\":0,\"ticks\":\"\"}}}],\"histogram\":[{\"marker\":{\"pattern\":{\"fillmode\":\"overlay\",\"size\":10,\"solidity\":0.2}},\"type\":\"histogram\"}],\"scattergl\":[{\"type\":\"scattergl\",\"marker\":{\"colorbar\":{\"outlinewidth\":0,\"ticks\":\"\"}}}],\"scatter3d\":[{\"type\":\"scatter3d\",\"line\":{\"colorbar\":{\"outlinewidth\":0,\"ticks\":\"\"}},\"marker\":{\"colorbar\":{\"outlinewidth\":0,\"ticks\":\"\"}}}],\"scattermapbox\":[{\"type\":\"scattermapbox\",\"marker\":{\"colorbar\":{\"outlinewidth\":0,\"ticks\":\"\"}}}],\"scatterternary\":[{\"type\":\"scatterternary\",\"marker\":{\"colorbar\":{\"outlinewidth\":0,\"ticks\":\"\"}}}],\"scattercarpet\":[{\"type\":\"scattercarpet\",\"marker\":{\"colorbar\":{\"outlinewidth\":0,\"ticks\":\"\"}}}],\"carpet\":[{\"aaxis\":{\"endlinecolor\":\"#2a3f5f\",\"gridcolor\":\"white\",\"linecolor\":\"white\",\"minorgridcolor\":\"white\",\"startlinecolor\":\"#2a3f5f\"},\"baxis\":{\"endlinecolor\":\"#2a3f5f\",\"gridcolor\":\"white\",\"linecolor\":\"white\",\"minorgridcolor\":\"white\",\"startlinecolor\":\"#2a3f5f\"},\"type\":\"carpet\"}],\"table\":[{\"cells\":{\"fill\":{\"color\":\"#EBF0F8\"},\"line\":{\"color\":\"white\"}},\"header\":{\"fill\":{\"color\":\"#C8D4E3\"},\"line\":{\"color\":\"white\"}},\"type\":\"table\"}],\"barpolar\":[{\"marker\":{\"line\":{\"color\":\"#E5ECF6\",\"width\":0.5},\"pattern\":{\"fillmode\":\"overlay\",\"size\":10,\"solidity\":0.2}},\"type\":\"barpolar\"}],\"pie\":[{\"automargin\":true,\"type\":\"pie\"}]},\"layout\":{\"autotypenumbers\":\"strict\",\"colorway\":[\"#636efa\",\"#EF553B\",\"#00cc96\",\"#ab63fa\",\"#FFA15A\",\"#19d3f3\",\"#FF6692\",\"#B6E880\",\"#FF97FF\",\"#FECB52\"],\"font\":{\"color\":\"#2a3f5f\"},\"hovermode\":\"closest\",\"hoverlabel\":{\"align\":\"left\"},\"paper_bgcolor\":\"white\",\"plot_bgcolor\":\"#E5ECF6\",\"polar\":{\"bgcolor\":\"#E5ECF6\",\"angularaxis\":{\"gridcolor\":\"white\",\"linecolor\":\"white\",\"ticks\":\"\"},\"radialaxis\":{\"gridcolor\":\"white\",\"linecolor\":\"white\",\"ticks\":\"\"}},\"ternary\":{\"bgcolor\":\"#E5ECF6\",\"aaxis\":{\"gridcolor\":\"white\",\"linecolor\":\"white\",\"ticks\":\"\"},\"baxis\":{\"gridcolor\":\"white\",\"linecolor\":\"white\",\"ticks\":\"\"},\"caxis\":{\"gridcolor\":\"white\",\"linecolor\":\"white\",\"ticks\":\"\"}},\"coloraxis\":{\"colorbar\":{\"outlinewidth\":0,\"ticks\":\"\"}},\"colorscale\":{\"sequential\":[[0.0,\"#0d0887\"],[0.1111111111111111,\"#46039f\"],[0.2222222222222222,\"#7201a8\"],[0.3333333333333333,\"#9c179e\"],[0.4444444444444444,\"#bd3786\"],[0.5555555555555556,\"#d8576b\"],[0.6666666666666666,\"#ed7953\"],[0.7777777777777778,\"#fb9f3a\"],[0.8888888888888888,\"#fdca26\"],[1.0,\"#f0f921\"]],\"sequentialminus\":[[0.0,\"#0d0887\"],[0.1111111111111111,\"#46039f\"],[0.2222222222222222,\"#7201a8\"],[0.3333333333333333,\"#9c179e\"],[0.4444444444444444,\"#bd3786\"],[0.5555555555555556,\"#d8576b\"],[0.6666666666666666,\"#ed7953\"],[0.7777777777777778,\"#fb9f3a\"],[0.8888888888888888,\"#fdca26\"],[1.0,\"#f0f921\"]],\"diverging\":[[0,\"#8e0152\"],[0.1,\"#c51b7d\"],[0.2,\"#de77ae\"],[0.3,\"#f1b6da\"],[0.4,\"#fde0ef\"],[0.5,\"#f7f7f7\"],[0.6,\"#e6f5d0\"],[0.7,\"#b8e186\"],[0.8,\"#7fbc41\"],[0.9,\"#4d9221\"],[1,\"#276419\"]]},\"xaxis\":{\"gridcolor\":\"white\",\"linecolor\":\"white\",\"ticks\":\"\",\"title\":{\"standoff\":15},\"zerolinecolor\":\"white\",\"automargin\":true,\"zerolinewidth\":2},\"yaxis\":{\"gridcolor\":\"white\",\"linecolor\":\"white\",\"ticks\":\"\",\"title\":{\"standoff\":15},\"zerolinecolor\":\"white\",\"automargin\":true,\"zerolinewidth\":2},\"scene\":{\"xaxis\":{\"backgroundcolor\":\"#E5ECF6\",\"gridcolor\":\"white\",\"linecolor\":\"white\",\"showbackground\":true,\"ticks\":\"\",\"zerolinecolor\":\"white\",\"gridwidth\":2},\"yaxis\":{\"backgroundcolor\":\"#E5ECF6\",\"gridcolor\":\"white\",\"linecolor\":\"white\",\"showbackground\":true,\"ticks\":\"\",\"zerolinecolor\":\"white\",\"gridwidth\":2},\"zaxis\":{\"backgroundcolor\":\"#E5ECF6\",\"gridcolor\":\"white\",\"linecolor\":\"white\",\"showbackground\":true,\"ticks\":\"\",\"zerolinecolor\":\"white\",\"gridwidth\":2}},\"shapedefaults\":{\"line\":{\"color\":\"#2a3f5f\"}},\"annotationdefaults\":{\"arrowcolor\":\"#2a3f5f\",\"arrowhead\":0,\"arrowwidth\":1},\"geo\":{\"bgcolor\":\"white\",\"landcolor\":\"#E5ECF6\",\"subunitcolor\":\"white\",\"showland\":true,\"showlakes\":true,\"lakecolor\":\"white\"},\"title\":{\"x\":0.05},\"mapbox\":{\"style\":\"light\"}}},\"annotations\":[{\"font\":{\"size\":9},\"showarrow\":false,\"text\":\"1.6%\",\"x\":-0.18,\"y\":4.6},{\"font\":{\"size\":10},\"showarrow\":false,\"text\":\"\\u003cb\\u003eDefault\\u003c\\u002fb\\u003e\",\"textangle\":-90,\"x\":-0.18,\"y\":13.6},{\"font\":{\"size\":9},\"showarrow\":false,\"text\":\"84.2%\",\"x\":0.18,\"y\":87.2},{\"font\":{\"size\":10},\"showarrow\":false,\"text\":\"\\u003cb\\u003eJailbreak\\u003c\\u002fb\\u003e\",\"textangle\":-90,\"x\":0.18,\"y\":97.2},{\"font\":{\"size\":9},\"showarrow\":false,\"text\":\"0.7%\",\"x\":0.8200000000000001,\"y\":3.7},{\"font\":{\"size\":10},\"showarrow\":false,\"text\":\"\\u003cb\\u003eDefault\\u003c\\u002fb\\u003e\",\"textangle\":-90,\"x\":0.8200000000000001,\"y\":12.7},{\"font\":{\"size\":9},\"showarrow\":false,\"text\":\"83.5%\",\"x\":1.18,\"y\":86.5},{\"font\":{\"size\":10},\"showarrow\":false,\"text\":\"\\u003cb\\u003eJailbreak\\u003c\\u002fb\\u003e\",\"textangle\":-90,\"x\":1.18,\"y\":96.5},{\"font\":{\"size\":9},\"showarrow\":false,\"text\":\"1.2%\",\"x\":1.82,\"y\":4.2},{\"font\":{\"size\":10},\"showarrow\":false,\"text\":\"\\u003cb\\u003eDefault\\u003c\\u002fb\\u003e\",\"textangle\":-90,\"x\":1.82,\"y\":13.2},{\"font\":{\"size\":9},\"showarrow\":false,\"text\":\"83.2%\",\"x\":2.18,\"y\":86.2},{\"font\":{\"size\":10},\"showarrow\":false,\"text\":\"\\u003cb\\u003eJailbreak\\u003c\\u002fb\\u003e\",\"textangle\":-90,\"x\":2.18,\"y\":96.2},{\"font\":{\"size\":9},\"showarrow\":false,\"text\":\"1.2%\",\"x\":2.82,\"y\":4.2},{\"font\":{\"size\":10},\"showarrow\":false,\"text\":\"\\u003cb\\u003eDefault\\u003c\\u002fb\\u003e\",\"textangle\":-90,\"x\":2.82,\"y\":13.2},{\"font\":{\"size\":9},\"showarrow\":false,\"text\":\"77.7%\",\"x\":3.18,\"y\":80.7},{\"font\":{\"size\":10},\"showarrow\":false,\"text\":\"\\u003cb\\u003eJailbreak\\u003c\\u002fb\\u003e\",\"textangle\":-90,\"x\":3.18,\"y\":90.7},{\"font\":{\"size\":9},\"showarrow\":false,\"text\":\"0.5%\",\"x\":3.82,\"y\":3.5},{\"font\":{\"size\":10},\"showarrow\":false,\"text\":\"\\u003cb\\u003eDefault\\u003c\\u002fb\\u003e\",\"textangle\":-90,\"x\":3.82,\"y\":12.5},{\"font\":{\"size\":9},\"showarrow\":false,\"text\":\"71.3%\",\"x\":4.18,\"y\":74.3},{\"font\":{\"size\":10},\"showarrow\":false,\"text\":\"\\u003cb\\u003eJailbreak\\u003c\\u002fb\\u003e\",\"textangle\":-90,\"x\":4.18,\"y\":84.3},{\"font\":{\"size\":9},\"showarrow\":false,\"text\":\"0.9%\",\"x\":4.82,\"y\":3.9},{\"font\":{\"size\":10},\"showarrow\":false,\"text\":\"\\u003cb\\u003eDefault\\u003c\\u002fb\\u003e\",\"textangle\":-90,\"x\":4.82,\"y\":12.9},{\"font\":{\"size\":9},\"showarrow\":false,\"text\":\"68.6%\",\"x\":5.18,\"y\":71.6},{\"font\":{\"size\":10},\"showarrow\":false,\"text\":\"\\u003cb\\u003eJailbreak\\u003c\\u002fb\\u003e\",\"textangle\":-90,\"x\":5.18,\"y\":81.6},{\"font\":{\"size\":9},\"showarrow\":false,\"text\":\"0.8%\",\"x\":5.82,\"y\":3.8},{\"font\":{\"size\":10},\"showarrow\":false,\"text\":\"\\u003cb\\u003eDefault\\u003c\\u002fb\\u003e\",\"textangle\":-90,\"x\":5.82,\"y\":12.8},{\"font\":{\"size\":9},\"showarrow\":false,\"text\":\"66.6%\",\"x\":6.18,\"y\":69.6},{\"font\":{\"size\":10},\"showarrow\":false,\"text\":\"\\u003cb\\u003eJailbreak\\u003c\\u002fb\\u003e\",\"textangle\":-90,\"x\":6.18,\"y\":79.6},{\"font\":{\"size\":9},\"showarrow\":false,\"text\":\"0.9%\",\"x\":6.82,\"y\":3.9},{\"font\":{\"size\":10},\"showarrow\":false,\"text\":\"\\u003cb\\u003eDefault\\u003c\\u002fb\\u003e\",\"textangle\":-90,\"x\":6.82,\"y\":12.9},{\"font\":{\"size\":9},\"showarrow\":false,\"text\":\"62.7%\",\"x\":7.18,\"y\":65.7},{\"font\":{\"size\":10},\"showarrow\":false,\"text\":\"\\u003cb\\u003eJailbreak\\u003c\\u002fb\\u003e\",\"textangle\":-90,\"x\":7.18,\"y\":75.7},{\"font\":{\"size\":9},\"showarrow\":false,\"text\":\"0.4%\",\"x\":7.82,\"y\":3.4},{\"font\":{\"size\":10},\"showarrow\":false,\"text\":\"\\u003cb\\u003eDefault\\u003c\\u002fb\\u003e\",\"textangle\":-90,\"x\":7.82,\"y\":12.4},{\"font\":{\"size\":9},\"showarrow\":false,\"text\":\"55.7%\",\"x\":8.18,\"y\":58.7},{\"font\":{\"size\":10},\"showarrow\":false,\"text\":\"\\u003cb\\u003eJailbreak\\u003c\\u002fb\\u003e\",\"textangle\":-90,\"x\":8.18,\"y\":68.7},{\"font\":{\"size\":9},\"showarrow\":false,\"text\":\"0.5%\",\"x\":8.82,\"y\":3.5},{\"font\":{\"size\":10},\"showarrow\":false,\"text\":\"\\u003cb\\u003eDefault\\u003c\\u002fb\\u003e\",\"textangle\":-90,\"x\":8.82,\"y\":12.5},{\"font\":{\"size\":9},\"showarrow\":false,\"text\":\"42.7%\",\"x\":9.18,\"y\":45.7},{\"font\":{\"size\":10},\"showarrow\":false,\"text\":\"\\u003cb\\u003eJailbreak\\u003c\\u002fb\\u003e\",\"textangle\":-90,\"x\":9.18,\"y\":55.7},{\"font\":{\"size\":9},\"showarrow\":false,\"text\":\"0.3%\",\"x\":9.82,\"y\":3.3},{\"font\":{\"size\":10},\"showarrow\":false,\"text\":\"\\u003cb\\u003eDefault\\u003c\\u002fb\\u003e\",\"textangle\":-90,\"x\":9.82,\"y\":12.3},{\"font\":{\"size\":9},\"showarrow\":false,\"text\":\"27.2%\",\"x\":10.18,\"y\":30.2},{\"font\":{\"size\":10},\"showarrow\":false,\"text\":\"\\u003cb\\u003eJailbreak\\u003c\\u002fb\\u003e\",\"textangle\":-90,\"x\":10.18,\"y\":40.2}],\"title\":{\"subtitle\":{\"text\":\"Qwen 3 32B, Layer 32\"},\"text\":\"Harmful Responses with Persona-based Jailbreaks when Steered Towards the Assistant\"},\"xaxis\":{\"title\":{\"text\":\"Role-playing PC1 Steering Coefficient\"},\"tickmode\":\"array\",\"tickvals\":[0,1,2,3,4,5,6,7,8,9,10],\"ticktext\":[\"50.0\",\"25.0\",\"Unsteered\",\"-25.0\",\"-50.0\",\"-75.0\",\"-100.0\",\"-125.0\",\"-150.0\",\"-175.0\",\"-200.0\"],\"showgrid\":true,\"gridcolor\":\"lightgray\",\"range\":[-0.8,10.8]},\"yaxis\":{\"title\":{\"text\":\"Percentage of Harmful Responses\"},\"range\":[0,119],\"showgrid\":true,\"gridcolor\":\"lightgray\"},\"legend\":{\"orientation\":\"h\",\"yanchor\":\"bottom\",\"y\":1.02,\"xanchor\":\"right\",\"x\":1.0},\"barmode\":\"stack\",\"width\":1400,\"height\":600,\"bargap\":0.2},                        {\"responsive\": true}                    ).then(function(){\n",
       "                            \n",
       "var gd = document.getElementById('90614e8e-7aa9-44f0-b85c-644dfd8b44a7');\n",
       "var x = new MutationObserver(function (mutations, observer) {{\n",
       "        var display = window.getComputedStyle(gd).display;\n",
       "        if (!display || display === 'none') {{\n",
       "            console.log([gd, 'removed!']);\n",
       "            Plotly.purge(gd);\n",
       "            observer.disconnect();\n",
       "        }}\n",
       "}});\n",
       "\n",
       "// Listen for the removal of the full notebook cells\n",
       "var notebookContainer = gd.closest('#notebook-container');\n",
       "if (notebookContainer) {{\n",
       "    x.observe(notebookContainer, {childList: true});\n",
       "}}\n",
       "\n",
       "// Listen for the clearing of the current output cell\n",
       "var outputEl = gd.closest('.output');\n",
       "if (outputEl) {{\n",
       "    x.observe(outputEl, {childList: true});\n",
       "}}\n",
       "\n",
       "                        })                };                });            </script>        </div>"
      ]
     },
     "metadata": {},
     "output_type": "display_data"
    }
   ],
   "source": [
    "# ----- CONFIG -----\n",
    "TARGETS   = [\"enough_info\", \"enough_info_and_follow_perfectly\"]\n",
    "JB_ORDER  = [\"No Jailbreak\", \"Jailbreak\"]   # left, right\n",
    "COLORS = {\n",
    "    \"enough_info_and_follow_perfectly\": \"#e41a1c\",  # red\n",
    "    \"enough_info\": \"#ff7f00\",                      # orange\n",
    "}\n",
    "\n",
    "label_map = {\n",
    "    \"enough_info\": \"Harmful Info in Response\",\n",
    "    \"enough_info_and_follow_perfectly\": \"Harmful Info & Perfectly Following Request\"\n",
    "}\n",
    "\n",
    "# Order magnitudes the way you want them on the x-axis\n",
    "\n",
    "\n",
    "# ----- BUILD PIVOTS (robust, fills missing combos with 0) -----\n",
    "def pivot_pct(df, label):\n",
    "    # returns a (len(magnitudes) x len(JB_ORDER)) array of percentages\n",
    "    tbl = (df[df[\"score_label\"]==label]\n",
    "           .pivot_table(index=\"magnitude\", columns=\"jailbreak\",\n",
    "                        values=\"pct\", aggfunc=\"first\", fill_value=0.0))\n",
    "    # enforce full order and fill any missing JB columns\n",
    "    tbl = tbl.reindex(index=magnitudes, columns=JB_ORDER, fill_value=0.0)\n",
    "    return tbl.values  # rows=mags, cols=JB_ORDER\n",
    "\n",
    "def pivot_counts(df, label):\n",
    "    # (counts, totals) arrays for hover\n",
    "    ct = (df[df[\"score_label\"]==label]\n",
    "          .pivot_table(index=\"magnitude\", columns=\"jailbreak\",\n",
    "                       values=\"count\", aggfunc=\"first\", fill_value=0))\n",
    "    tt = (df[df[\"score_label\"]==label]\n",
    "          .pivot_table(index=\"magnitude\", columns=\"jailbreak\",\n",
    "                       values=\"total\", aggfunc=\"first\", fill_value=0))\n",
    "    ct = ct.reindex(index=magnitudes, columns=JB_ORDER, fill_value=0)\n",
    "    tt = tt.reindex(index=magnitudes, columns=JB_ORDER, fill_value=0)\n",
    "    return ct.values, tt.values\n",
    "\n",
    "Y1 = pivot_pct(tidy, \"enough_info\")\n",
    "Y2 = pivot_pct(tidy, \"enough_info_and_follow_perfectly\")\n",
    "C1, T1 = pivot_counts(tidy, \"enough_info\")\n",
    "C2, T2 = pivot_counts(tidy, \"enough_info_and_follow_perfectly\")\n",
    "\n",
    "# ----- X POSITIONS: numeric centers with small offsets -----\n",
    "centers = np.arange(len(magnitudes))        # 0,1,2,...\n",
    "dx = 0.18\n",
    "x_nojb = centers - dx\n",
    "x_jb   = centers + dx\n",
    "BAR_WIDTH = 0.34\n",
    "\n",
    "# ----- BUILD FIGURE -----\n",
    "fig = go.Figure()\n",
    "\n",
    "# Left bar of each group (No Jailbreak): stack Y1 + Y2 at x_nojb\n",
    "for label, Y, C, T in [\n",
    "    (\"enough_info\", Y1, C1, T1),\n",
    "    (\"enough_info_and_follow_perfectly\", Y2, C2, T2),\n",
    "]:\n",
    "    fig.add_trace(go.Bar(\n",
    "        x=x_nojb,\n",
    "        y=Y[:, 0],\n",
    "        name=label_map[label], legendgroup=label_map[label],  # <-- mapped\n",
    "        marker_color=COLORS[label],\n",
    "        width=BAR_WIDTH,\n",
    "        # text=[f\"{v:.1f}%\" if v >= 7.0 else \"\" for v in Y[:, 0]],\n",
    "        # textposition=\"inside\",\n",
    "        cliponaxis=False,\n",
    "        hovertemplate=(\"Magnitude: %{customdata[2]}<br>\"\n",
    "                       \"No Jailbreak — \"+label_map[label]+\"<br>\"   # <-- mapped\n",
    "                       \"Pct: %{y:.1f}%<br>\"\n",
    "                       \"Count: %{customdata[0]} / %{customdata[1]}<extra></extra>\"),\n",
    "        customdata=np.column_stack([C[:, 0], T[:, 0], magnitudes]),\n",
    "    ))\n",
    "\n",
    "# Right bar of each group (Jailbreak): stack Y1 + Y2 at x_jb\n",
    "for label, Y, C, T in [\n",
    "    (\"enough_info\", Y1, C1, T1),\n",
    "    (\"enough_info_and_follow_perfectly\", Y2, C2, T2),\n",
    "]:\n",
    "    fig.add_trace(go.Bar(\n",
    "        x=x_jb,\n",
    "        y=Y[:, 1],\n",
    "        name=None, showlegend=False, legendgroup=label_map[label],  # <-- mapped\n",
    "        marker_color=COLORS[label],\n",
    "        width=BAR_WIDTH,\n",
    "        # text=[f\"{v:.1f}%\" if v >= 7.0 else \"\" for v in Y[:, 1]],\n",
    "        # textposition=\"inside\",\n",
    "        cliponaxis=False,\n",
    "        hovertemplate=(\"Magnitude: %{customdata[2]}<br>\"\n",
    "                       \"Jailbreak — \"+label_map[label]+\"<br>\"      # <-- mapped\n",
    "                       \"Pct: %{y:.1f}%<br>\"\n",
    "                       \"Count: %{customdata[0]} / %{customdata[1]}<extra></extra>\"),\n",
    "        customdata=np.column_stack([C[:, 1], T[:, 1], magnitudes]),\n",
    "    ))\n",
    "\n",
    "\n",
    "# Annotations with sum percentages above each stacked pair\n",
    "tops_nojb = (Y1[:, 0] + Y2[:, 0])\n",
    "tops_jb   = (Y1[:, 1] + Y2[:, 1])\n",
    "for i in range(len(magnitudes)):\n",
    "    if tops_nojb[i] > 0:\n",
    "        fig.add_annotation(x=x_nojb[i], y=tops_nojb[i] + 3,\n",
    "                           text=f\"{tops_nojb[i]:.1f}%\", showarrow=False, font=dict(size=9))\n",
    "        fig.add_annotation(x=x_nojb[i], y=tops_nojb[i] + 12,\n",
    "                           text=\"<b>Default</b>\", showarrow=False, font=dict(size=10), textangle=270)\n",
    "    if tops_jb[i] > 0:\n",
    "        fig.add_annotation(x=x_jb[i], y=tops_jb[i] + 3,\n",
    "                           text=f\"{tops_jb[i]:.1f}%\", showarrow=False, font=dict(size=9))\n",
    "        fig.add_annotation(x=x_jb[i], y=tops_jb[i] + 13,\n",
    "                           text=\"<b>Jailbreak</b>\", showarrow=False, font=dict(size=10), textangle=270)\n",
    "\n",
    "# ----- LAYOUT -----\n",
    "fig.update_layout(\n",
    "    barmode=\"stack\",  # stacks within each bar; grouping via numeric offsets\n",
    "    width=1400, height=600,\n",
    "    title={\n",
    "        \"text\": \"Harmful Responses with Persona-based Jailbreaks when Steered Towards the Assistant\",\n",
    "        \"subtitle\": {\n",
    "            \"text\": subtitle,\n",
    "        }\n",
    "    },\n",
    "    xaxis=dict(\n",
    "        title=\"Role-playing PC1 Steering Coefficient\",\n",
    "        tickmode=\"array\",\n",
    "        tickvals=centers,\n",
    "        ticktext=magnitudes_tick,\n",
    "        showgrid=True, gridcolor=\"lightgray\",\n",
    "        range=[centers.min()-0.8, centers.max()+0.8],\n",
    "    ),\n",
    "    yaxis=dict(\n",
    "        title=\"Percentage of Harmful Responses\",\n",
    "        range=[0, 119],\n",
    "        showgrid=True, gridcolor=\"lightgray\"\n",
    "    ),\n",
    "    legend=dict(\n",
    "        orientation=\"h\", yanchor=\"bottom\", y=1.02, xanchor=\"right\", x=1.0\n",
    "    ),\n",
    "    bargap=0.2,\n",
    ")\n",
    "\n",
    "fig.show()\n",
    "fig.write_html(f\"{out_dir}/jailbreak_harmful.html\")"
   ]
  },
  {
   "cell_type": "markdown",
   "id": "c2078d48",
   "metadata": {},
   "source": [
    "## Plot Other Responses"
   ]
  },
  {
   "cell_type": "code",
   "execution_count": 61,
   "id": "9e97a836",
   "metadata": {},
   "outputs": [],
   "source": [
    "# --- Define categories you want to stack (exclude your two targets)\n",
    "# Ordered category list for plotting (matches desired color gradient)\n",
    "OTHER_LABELS = [\n",
    "    \"almost_enough_info\",        # yellow\n",
    "    \"related_but_no_info\",       # cyan\n",
    "    \"refusal\",                   # lime green\n",
    "    \"refusal_and_justification\", # green\n",
    "    \"out_of_context\",            # purple\n",
    "    \"nonsensical\",               # pink\n",
    "    #\"other\",                     # grey\n",
    "]\n",
    "\n",
    "other_colors = {\n",
    "    \"almost_enough_info\": \"#ffff33\",        # yellow\n",
    "    \"related_but_no_info\": \"#1f78b4\",       # cyan/blueish\n",
    "    \"refusal\": \"#b2df8a\",                   # lime green\n",
    "    \"refusal_and_justification\": \"#33a02c\", # green\n",
    "    \"out_of_context\": \"#6a3d9a\",            # purple\n",
    "    \"nonsensical\": \"#fb9a99\",               # pink\n",
    "    #\"other\": \"#999999\",                     # grey\n",
    "}\n",
    "\n",
    "\n",
    "other_label_map = {\n",
    "    \"refusal\": \"Refusal\",\n",
    "    \"refusal_and_justification\": \"Refusal & Justification\",\n",
    "    \"nonsensical\": \"Nonsensical\",\n",
    "    \"out_of_context\": \"Out of Context\",\n",
    "    \"related_but_no_info\": \"Related\",\n",
    "    \"almost_enough_info\": \"Almost Harmful\",\n",
    "    #\"other\": \"Other\",\n",
    "}\n",
    "\n",
    "\n",
    "def summarize_df_multi(df, jailbreak_label, labels, magnitude_override=None):\n",
    "    \"\"\"Return tidy rows for *labels* with counts & % per magnitude.\"\"\"\n",
    "    work = df.copy()\n",
    "    if magnitude_override is not None:\n",
    "        work[\"magnitude\"] = magnitude_override\n",
    "\n",
    "    totals = work.groupby(\"magnitude\").size().rename(\"n_total\")\n",
    "\n",
    "    counts = (\n",
    "        work[[\"magnitude\", \"score\"]]\n",
    "        .value_counts()\n",
    "        .rename(\"n\")\n",
    "        .reset_index()\n",
    "    )\n",
    "\n",
    "    # keep only requested labels\n",
    "    counts = counts[counts[\"score\"].isin(labels)].copy()\n",
    "\n",
    "    pivot = counts.pivot_table(\n",
    "        index=\"magnitude\", columns=\"score\", values=\"n\", aggfunc=\"sum\", fill_value=0\n",
    "    )\n",
    "\n",
    "    # ensure all label columns exist\n",
    "    for lab in labels:\n",
    "        if lab not in pivot.columns:\n",
    "            pivot[lab] = 0\n",
    "\n",
    "    df_sum = pivot.join(totals, how=\"right\").fillna(0)\n",
    "\n",
    "    # percentages\n",
    "    for lab in labels:\n",
    "        df_sum[f\"pct_{lab}\"] = (df_sum[lab] / df_sum[\"n_total\"] * 100).round(1)\n",
    "\n",
    "    # long rows\n",
    "    long = []\n",
    "    for _, row in df_sum.reset_index().iterrows():\n",
    "        for lab in labels:\n",
    "            long.append({\n",
    "                \"magnitude\": float(row[\"magnitude\"]),\n",
    "                \"jailbreak\": jailbreak_label,      # \"No Jailbreak\" / \"Jailbreak\"\n",
    "                \"score_label\": lab,\n",
    "                \"count\": int(row[lab]),\n",
    "                \"total\": int(row[\"n_total\"]),\n",
    "                \"pct\": float(row[f\"pct_{lab}\"]),\n",
    "            })\n",
    "    return pd.DataFrame(long)\n",
    "\n",
    "# Build tidy for the OTHER categories from your 4 input frames\n",
    "unsteered_default_other   = summarize_df_multi(unsteered_default_df,   \"No Jailbreak\", OTHER_LABELS, 0.0)\n",
    "unsteered_jailbreak_other = summarize_df_multi(unsteered_jailbreak_df, \"Jailbreak\",    OTHER_LABELS, 0.0)\n",
    "steered_default_other     = summarize_df_multi(steered_default_df,     \"No Jailbreak\", OTHER_LABELS)\n",
    "steered_jailbreak_other   = summarize_df_multi(steered_jailbreak_df,   \"Jailbreak\",    OTHER_LABELS)\n",
    "\n",
    "tidy_other = pd.concat(\n",
    "    [unsteered_default_other, unsteered_jailbreak_other,\n",
    "     steered_default_other,   steered_jailbreak_other],\n",
    "    ignore_index=True\n",
    ")\n"
   ]
  },
  {
   "cell_type": "code",
   "execution_count": 62,
   "id": "cf1ba099",
   "metadata": {},
   "outputs": [
    {
     "data": {
      "application/vnd.plotly.v1+json": {
       "config": {
        "plotlyServerURL": "https://plot.ly"
       },
       "data": [
        {
         "cliponaxis": false,
         "customdata": [
          [
           3,
           1100,
           50
          ],
          [
           0,
           1100,
           25
          ],
          [
           6,
           4400,
           0
          ],
          [
           0,
           1100,
           -25
          ],
          [
           0,
           1100,
           -50
          ],
          [
           2,
           1100,
           -75
          ],
          [
           1,
           1100,
           -100
          ],
          [
           1,
           1100,
           -125
          ],
          [
           2,
           1100,
           -150
          ],
          [
           1,
           1100,
           -175
          ],
          [
           0,
           1100,
           -200
          ]
         ],
         "hovertemplate": "Magnitude: %{customdata[2]}<br>No Jailbreak — Almost Harmful<br>Pct: %{y:.1f}%<br>Count: %{customdata[0]} / %{customdata[1]}<extra></extra>",
         "legendgroup": "Almost Harmful",
         "marker": {
          "color": "#ffff33"
         },
         "name": "Almost Harmful",
         "type": "bar",
         "width": 0.34,
         "x": [
          -0.18,
          0.8200000000000001,
          1.82,
          2.82,
          3.82,
          4.82,
          5.82,
          6.82,
          7.82,
          8.82,
          9.82
         ],
         "y": [
          0.3,
          0,
          0.1,
          0,
          0,
          0.2,
          0.1,
          0.1,
          0.2,
          0.1,
          0
         ]
        },
        {
         "cliponaxis": false,
         "customdata": [
          [
           872,
           1100,
           50
          ],
          [
           891,
           1100,
           25
          ],
          [
           3463,
           4400,
           0
          ],
          [
           912,
           1100,
           -25
          ],
          [
           920,
           1100,
           -50
          ],
          [
           920,
           1100,
           -75
          ],
          [
           920,
           1100,
           -100
          ],
          [
           953,
           1100,
           -125
          ],
          [
           966,
           1100,
           -150
          ],
          [
           985,
           1100,
           -175
          ],
          [
           1000,
           1100,
           -200
          ]
         ],
         "hovertemplate": "Magnitude: %{customdata[2]}<br>No Jailbreak — Related<br>Pct: %{y:.1f}%<br>Count: %{customdata[0]} / %{customdata[1]}<extra></extra>",
         "legendgroup": "Related",
         "marker": {
          "color": "#1f78b4"
         },
         "name": "Related",
         "type": "bar",
         "width": 0.34,
         "x": [
          -0.18,
          0.8200000000000001,
          1.82,
          2.82,
          3.82,
          4.82,
          5.82,
          6.82,
          7.82,
          8.82,
          9.82
         ],
         "y": [
          79.3,
          81,
          78.7,
          82.9,
          83.6,
          83.6,
          83.6,
          86.6,
          87.8,
          89.5,
          90.9
         ]
        },
        {
         "cliponaxis": false,
         "customdata": [
          [
           102,
           1100,
           50
          ],
          [
           92,
           1100,
           25
          ],
          [
           416,
           4400,
           0
          ],
          [
           82,
           1100,
           -25
          ],
          [
           75,
           1100,
           -50
          ],
          [
           63,
           1100,
           -75
          ],
          [
           45,
           1100,
           -100
          ],
          [
           26,
           1100,
           -125
          ],
          [
           14,
           1100,
           -150
          ],
          [
           14,
           1100,
           -175
          ],
          [
           4,
           1100,
           -200
          ]
         ],
         "hovertemplate": "Magnitude: %{customdata[2]}<br>No Jailbreak — Refusal<br>Pct: %{y:.1f}%<br>Count: %{customdata[0]} / %{customdata[1]}<extra></extra>",
         "legendgroup": "Refusal",
         "marker": {
          "color": "#b2df8a"
         },
         "name": "Refusal",
         "type": "bar",
         "width": 0.34,
         "x": [
          -0.18,
          0.8200000000000001,
          1.82,
          2.82,
          3.82,
          4.82,
          5.82,
          6.82,
          7.82,
          8.82,
          9.82
         ],
         "y": [
          9.3,
          8.4,
          9.5,
          7.5,
          6.8,
          5.7,
          4.1,
          2.4,
          1.3,
          1.3,
          0.4
         ]
        },
        {
         "cliponaxis": false,
         "customdata": [
          [
           67,
           1100,
           50
          ],
          [
           78,
           1100,
           25
          ],
          [
           325,
           4400,
           0
          ],
          [
           66,
           1100,
           -25
          ],
          [
           72,
           1100,
           -50
          ],
          [
           77,
           1100,
           -75
          ],
          [
           85,
           1100,
           -100
          ],
          [
           79,
           1100,
           -125
          ],
          [
           82,
           1100,
           -150
          ],
          [
           58,
           1100,
           -175
          ],
          [
           64,
           1100,
           -200
          ]
         ],
         "hovertemplate": "Magnitude: %{customdata[2]}<br>No Jailbreak — Refusal & Justification<br>Pct: %{y:.1f}%<br>Count: %{customdata[0]} / %{customdata[1]}<extra></extra>",
         "legendgroup": "Refusal & Justification",
         "marker": {
          "color": "#33a02c"
         },
         "name": "Refusal & Justification",
         "type": "bar",
         "width": 0.34,
         "x": [
          -0.18,
          0.8200000000000001,
          1.82,
          2.82,
          3.82,
          4.82,
          5.82,
          6.82,
          7.82,
          8.82,
          9.82
         ],
         "y": [
          6.1,
          7.1,
          7.4,
          6,
          6.5,
          7,
          7.7,
          7.2,
          7.5,
          5.3,
          5.8
         ]
        },
        {
         "cliponaxis": false,
         "customdata": [
          [
           38,
           1100,
           50
          ],
          [
           31,
           1100,
           25
          ],
          [
           137,
           4400,
           0
          ],
          [
           27,
           1100,
           -25
          ],
          [
           28,
           1100,
           -50
          ],
          [
           28,
           1100,
           -75
          ],
          [
           40,
           1100,
           -100
          ],
          [
           31,
           1100,
           -125
          ],
          [
           32,
           1100,
           -150
          ],
          [
           36,
           1100,
           -175
          ],
          [
           29,
           1100,
           -200
          ]
         ],
         "hovertemplate": "Magnitude: %{customdata[2]}<br>No Jailbreak — Out of Context<br>Pct: %{y:.1f}%<br>Count: %{customdata[0]} / %{customdata[1]}<extra></extra>",
         "legendgroup": "Out of Context",
         "marker": {
          "color": "#6a3d9a"
         },
         "name": "Out of Context",
         "type": "bar",
         "width": 0.34,
         "x": [
          -0.18,
          0.8200000000000001,
          1.82,
          2.82,
          3.82,
          4.82,
          5.82,
          6.82,
          7.82,
          8.82,
          9.82
         ],
         "y": [
          3.5,
          2.8,
          3.1,
          2.5,
          2.5,
          2.5,
          3.6,
          2.8,
          2.9,
          3.3,
          2.6
         ]
        },
        {
         "cliponaxis": false,
         "customdata": [
          [
           0,
           1100,
           50
          ],
          [
           0,
           1100,
           25
          ],
          [
           0,
           4400,
           0
          ],
          [
           0,
           1100,
           -25
          ],
          [
           0,
           1100,
           -50
          ],
          [
           0,
           1100,
           -75
          ],
          [
           0,
           1100,
           -100
          ],
          [
           0,
           1100,
           -125
          ],
          [
           0,
           1100,
           -150
          ],
          [
           0,
           1100,
           -175
          ],
          [
           0,
           1100,
           -200
          ]
         ],
         "hovertemplate": "Magnitude: %{customdata[2]}<br>No Jailbreak — Nonsensical<br>Pct: %{y:.1f}%<br>Count: %{customdata[0]} / %{customdata[1]}<extra></extra>",
         "legendgroup": "Nonsensical",
         "marker": {
          "color": "#fb9a99"
         },
         "name": "Nonsensical",
         "type": "bar",
         "width": 0.34,
         "x": [
          -0.18,
          0.8200000000000001,
          1.82,
          2.82,
          3.82,
          4.82,
          5.82,
          6.82,
          7.82,
          8.82,
          9.82
         ],
         "y": [
          0,
          0,
          0,
          0,
          0,
          0,
          0,
          0,
          0,
          0,
          0
         ]
        },
        {
         "cliponaxis": false,
         "customdata": [
          [
           7,
           1100,
           50
          ],
          [
           3,
           1100,
           25
          ],
          [
           16,
           4400,
           0
          ],
          [
           3,
           1100,
           -25
          ],
          [
           5,
           1100,
           -50
          ],
          [
           6,
           1100,
           -75
          ],
          [
           3,
           1100,
           -100
          ],
          [
           6,
           1100,
           -125
          ],
          [
           10,
           1100,
           -150
          ],
          [
           20,
           1100,
           -175
          ],
          [
           14,
           1100,
           -200
          ]
         ],
         "hovertemplate": "Magnitude: %{customdata[2]}<br>Jailbreak — Almost Harmful<br>Pct: %{y:.1f}%<br>Count: %{customdata[0]} / %{customdata[1]}<extra></extra>",
         "legendgroup": "Almost Harmful",
         "marker": {
          "color": "#ffff33"
         },
         "showlegend": false,
         "type": "bar",
         "width": 0.34,
         "x": [
          0.18,
          1.18,
          2.18,
          3.18,
          4.18,
          5.18,
          6.18,
          7.18,
          8.18,
          9.18,
          10.18
         ],
         "y": [
          0.6,
          0.3,
          0.4,
          0.3,
          0.5,
          0.5,
          0.3,
          0.5,
          0.9,
          1.8,
          1.3
         ]
        },
        {
         "cliponaxis": false,
         "customdata": [
          [
           144,
           1100,
           50
          ],
          [
           128,
           1100,
           25
          ],
          [
           454,
           4400,
           0
          ],
          [
           136,
           1100,
           -25
          ],
          [
           169,
           1100,
           -50
          ],
          [
           212,
           1100,
           -75
          ],
          [
           262,
           1100,
           -100
          ],
          [
           349,
           1100,
           -125
          ],
          [
           450,
           1100,
           -150
          ],
          [
           566,
           1100,
           -175
          ],
          [
           697,
           1100,
           -200
          ]
         ],
         "hovertemplate": "Magnitude: %{customdata[2]}<br>Jailbreak — Related<br>Pct: %{y:.1f}%<br>Count: %{customdata[0]} / %{customdata[1]}<extra></extra>",
         "legendgroup": "Related",
         "marker": {
          "color": "#1f78b4"
         },
         "showlegend": false,
         "type": "bar",
         "width": 0.34,
         "x": [
          0.18,
          1.18,
          2.18,
          3.18,
          4.18,
          5.18,
          6.18,
          7.18,
          8.18,
          9.18,
          10.18
         ],
         "y": [
          13.1,
          11.6,
          10.3,
          12.4,
          15.4,
          19.3,
          23.8,
          31.7,
          40.9,
          51.5,
          63.4
         ]
        },
        {
         "cliponaxis": false,
         "customdata": [
          [
           16,
           1100,
           50
          ],
          [
           36,
           1100,
           25
          ],
          [
           176,
           4400,
           0
          ],
          [
           76,
           1100,
           -25
          ],
          [
           98,
           1100,
           -50
          ],
          [
           78,
           1100,
           -75
          ],
          [
           59,
           1100,
           -100
          ],
          [
           24,
           1100,
           -125
          ],
          [
           7,
           1100,
           -150
          ],
          [
           8,
           1100,
           -175
          ],
          [
           18,
           1100,
           -200
          ]
         ],
         "hovertemplate": "Magnitude: %{customdata[2]}<br>Jailbreak — Refusal<br>Pct: %{y:.1f}%<br>Count: %{customdata[0]} / %{customdata[1]}<extra></extra>",
         "legendgroup": "Refusal",
         "marker": {
          "color": "#b2df8a"
         },
         "showlegend": false,
         "type": "bar",
         "width": 0.34,
         "x": [
          0.18,
          1.18,
          2.18,
          3.18,
          4.18,
          5.18,
          6.18,
          7.18,
          8.18,
          9.18,
          10.18
         ],
         "y": [
          1.5,
          3.3,
          4,
          6.9,
          8.9,
          7.1,
          5.4,
          2.2,
          0.6,
          0.7,
          1.6
         ]
        },
        {
         "cliponaxis": false,
         "customdata": [
          [
           3,
           1100,
           50
          ],
          [
           10,
           1100,
           25
          ],
          [
           67,
           4400,
           0
          ],
          [
           23,
           1100,
           -25
          ],
          [
           24,
           1100,
           -50
          ],
          [
           35,
           1100,
           -75
          ],
          [
           25,
           1100,
           -100
          ],
          [
           14,
           1100,
           -125
          ],
          [
           3,
           1100,
           -150
          ],
          [
           6,
           1100,
           -175
          ],
          [
           10,
           1100,
           -200
          ]
         ],
         "hovertemplate": "Magnitude: %{customdata[2]}<br>Jailbreak — Refusal & Justification<br>Pct: %{y:.1f}%<br>Count: %{customdata[0]} / %{customdata[1]}<extra></extra>",
         "legendgroup": "Refusal & Justification",
         "marker": {
          "color": "#33a02c"
         },
         "showlegend": false,
         "type": "bar",
         "width": 0.34,
         "x": [
          0.18,
          1.18,
          2.18,
          3.18,
          4.18,
          5.18,
          6.18,
          7.18,
          8.18,
          9.18,
          10.18
         ],
         "y": [
          0.3,
          0.9,
          1.5,
          2.1,
          2.2,
          3.2,
          2.3,
          1.3,
          0.3,
          0.5,
          0.9
         ]
        },
        {
         "cliponaxis": false,
         "customdata": [
          [
           3,
           1100,
           50
          ],
          [
           5,
           1100,
           25
          ],
          [
           24,
           4400,
           0
          ],
          [
           7,
           1100,
           -25
          ],
          [
           20,
           1100,
           -50
          ],
          [
           14,
           1100,
           -75
          ],
          [
           18,
           1100,
           -100
          ],
          [
           17,
           1100,
           -125
          ],
          [
           17,
           1100,
           -150
          ],
          [
           30,
           1100,
           -175
          ],
          [
           61,
           1100,
           -200
          ]
         ],
         "hovertemplate": "Magnitude: %{customdata[2]}<br>Jailbreak — Out of Context<br>Pct: %{y:.1f}%<br>Count: %{customdata[0]} / %{customdata[1]}<extra></extra>",
         "legendgroup": "Out of Context",
         "marker": {
          "color": "#6a3d9a"
         },
         "showlegend": false,
         "type": "bar",
         "width": 0.34,
         "x": [
          0.18,
          1.18,
          2.18,
          3.18,
          4.18,
          5.18,
          6.18,
          7.18,
          8.18,
          9.18,
          10.18
         ],
         "y": [
          0.3,
          0.5,
          0.5,
          0.6,
          1.8,
          1.3,
          1.6,
          1.5,
          1.5,
          2.7,
          5.5
         ]
        },
        {
         "cliponaxis": false,
         "customdata": [
          [
           0,
           1100,
           50
          ],
          [
           0,
           1100,
           25
          ],
          [
           0,
           4400,
           0
          ],
          [
           0,
           1100,
           -25
          ],
          [
           0,
           1100,
           -50
          ],
          [
           0,
           1100,
           -75
          ],
          [
           0,
           1100,
           -100
          ],
          [
           0,
           1100,
           -125
          ],
          [
           0,
           1100,
           -150
          ],
          [
           0,
           1100,
           -175
          ],
          [
           0,
           1100,
           -200
          ]
         ],
         "hovertemplate": "Magnitude: %{customdata[2]}<br>Jailbreak — Nonsensical<br>Pct: %{y:.1f}%<br>Count: %{customdata[0]} / %{customdata[1]}<extra></extra>",
         "legendgroup": "Nonsensical",
         "marker": {
          "color": "#fb9a99"
         },
         "showlegend": false,
         "type": "bar",
         "width": 0.34,
         "x": [
          0.18,
          1.18,
          2.18,
          3.18,
          4.18,
          5.18,
          6.18,
          7.18,
          8.18,
          9.18,
          10.18
         ],
         "y": [
          0,
          0,
          0,
          0,
          0,
          0,
          0,
          0,
          0,
          0,
          0
         ]
        }
       ],
       "layout": {
        "annotations": [
         {
          "font": {
           "size": 9
          },
          "showarrow": false,
          "text": "98.5%",
          "x": -0.18,
          "y": 101.49999999999999
         },
         {
          "font": {
           "size": 10
          },
          "showarrow": false,
          "text": "<b>Default</b>",
          "textangle": -90,
          "x": -0.18,
          "y": 110.49999999999999
         },
         {
          "font": {
           "size": 9
          },
          "showarrow": false,
          "text": "15.8%",
          "x": 0.18,
          "y": 18.8
         },
         {
          "font": {
           "size": 10
          },
          "showarrow": false,
          "text": "<b>Jailbreak</b>",
          "textangle": -90,
          "x": 0.18,
          "y": 28.8
         },
         {
          "font": {
           "size": 9
          },
          "showarrow": false,
          "text": "99.3%",
          "x": 0.8200000000000001,
          "y": 102.3
         },
         {
          "font": {
           "size": 10
          },
          "showarrow": false,
          "text": "<b>Default</b>",
          "textangle": -90,
          "x": 0.8200000000000001,
          "y": 111.3
         },
         {
          "font": {
           "size": 9
          },
          "showarrow": false,
          "text": "16.6%",
          "x": 1.18,
          "y": 19.599999999999998
         },
         {
          "font": {
           "size": 10
          },
          "showarrow": false,
          "text": "<b>Jailbreak</b>",
          "textangle": -90,
          "x": 1.18,
          "y": 29.599999999999998
         },
         {
          "font": {
           "size": 9
          },
          "showarrow": false,
          "text": "98.8%",
          "x": 1.82,
          "y": 101.8
         },
         {
          "font": {
           "size": 10
          },
          "showarrow": false,
          "text": "<b>Default</b>",
          "textangle": -90,
          "x": 1.82,
          "y": 110.8
         },
         {
          "font": {
           "size": 9
          },
          "showarrow": false,
          "text": "16.7%",
          "x": 2.18,
          "y": 19.700000000000003
         },
         {
          "font": {
           "size": 10
          },
          "showarrow": false,
          "text": "<b>Jailbreak</b>",
          "textangle": -90,
          "x": 2.18,
          "y": 29.700000000000003
         },
         {
          "font": {
           "size": 9
          },
          "showarrow": false,
          "text": "98.9%",
          "x": 2.82,
          "y": 101.9
         },
         {
          "font": {
           "size": 10
          },
          "showarrow": false,
          "text": "<b>Default</b>",
          "textangle": -90,
          "x": 2.82,
          "y": 110.9
         },
         {
          "font": {
           "size": 9
          },
          "showarrow": false,
          "text": "22.3%",
          "x": 3.18,
          "y": 25.300000000000004
         },
         {
          "font": {
           "size": 10
          },
          "showarrow": false,
          "text": "<b>Jailbreak</b>",
          "textangle": -90,
          "x": 3.18,
          "y": 35.300000000000004
         },
         {
          "font": {
           "size": 9
          },
          "showarrow": false,
          "text": "99.4%",
          "x": 3.82,
          "y": 102.39999999999999
         },
         {
          "font": {
           "size": 10
          },
          "showarrow": false,
          "text": "<b>Default</b>",
          "textangle": -90,
          "x": 3.82,
          "y": 111.39999999999999
         },
         {
          "font": {
           "size": 9
          },
          "showarrow": false,
          "text": "28.8%",
          "x": 4.18,
          "y": 31.8
         },
         {
          "font": {
           "size": 10
          },
          "showarrow": false,
          "text": "<b>Jailbreak</b>",
          "textangle": -90,
          "x": 4.18,
          "y": 41.8
         },
         {
          "font": {
           "size": 9
          },
          "showarrow": false,
          "text": "99.0%",
          "x": 4.82,
          "y": 102
         },
         {
          "font": {
           "size": 10
          },
          "showarrow": false,
          "text": "<b>Default</b>",
          "textangle": -90,
          "x": 4.82,
          "y": 111
         },
         {
          "font": {
           "size": 9
          },
          "showarrow": false,
          "text": "31.4%",
          "x": 5.18,
          "y": 34.4
         },
         {
          "font": {
           "size": 10
          },
          "showarrow": false,
          "text": "<b>Jailbreak</b>",
          "textangle": -90,
          "x": 5.18,
          "y": 44.4
         },
         {
          "font": {
           "size": 9
          },
          "showarrow": false,
          "text": "99.1%",
          "x": 5.82,
          "y": 102.09999999999998
         },
         {
          "font": {
           "size": 10
          },
          "showarrow": false,
          "text": "<b>Default</b>",
          "textangle": -90,
          "x": 5.82,
          "y": 111.09999999999998
         },
         {
          "font": {
           "size": 9
          },
          "showarrow": false,
          "text": "33.4%",
          "x": 6.18,
          "y": 36.4
         },
         {
          "font": {
           "size": 10
          },
          "showarrow": false,
          "text": "<b>Jailbreak</b>",
          "textangle": -90,
          "x": 6.18,
          "y": 46.4
         },
         {
          "font": {
           "size": 9
          },
          "showarrow": false,
          "text": "99.1%",
          "x": 6.82,
          "y": 102.1
         },
         {
          "font": {
           "size": 10
          },
          "showarrow": false,
          "text": "<b>Default</b>",
          "textangle": -90,
          "x": 6.82,
          "y": 111.1
         },
         {
          "font": {
           "size": 9
          },
          "showarrow": false,
          "text": "37.2%",
          "x": 7.18,
          "y": 40.2
         },
         {
          "font": {
           "size": 10
          },
          "showarrow": false,
          "text": "<b>Jailbreak</b>",
          "textangle": -90,
          "x": 7.18,
          "y": 50.2
         },
         {
          "font": {
           "size": 9
          },
          "showarrow": false,
          "text": "99.7%",
          "x": 7.82,
          "y": 102.7
         },
         {
          "font": {
           "size": 10
          },
          "showarrow": false,
          "text": "<b>Default</b>",
          "textangle": -90,
          "x": 7.82,
          "y": 111.7
         },
         {
          "font": {
           "size": 9
          },
          "showarrow": false,
          "text": "44.2%",
          "x": 8.18,
          "y": 47.199999999999996
         },
         {
          "font": {
           "size": 10
          },
          "showarrow": false,
          "text": "<b>Jailbreak</b>",
          "textangle": -90,
          "x": 8.18,
          "y": 57.199999999999996
         },
         {
          "font": {
           "size": 9
          },
          "showarrow": false,
          "text": "99.5%",
          "x": 8.82,
          "y": 102.49999999999999
         },
         {
          "font": {
           "size": 10
          },
          "showarrow": false,
          "text": "<b>Default</b>",
          "textangle": -90,
          "x": 8.82,
          "y": 111.49999999999999
         },
         {
          "font": {
           "size": 9
          },
          "showarrow": false,
          "text": "57.2%",
          "x": 9.18,
          "y": 60.2
         },
         {
          "font": {
           "size": 10
          },
          "showarrow": false,
          "text": "<b>Jailbreak</b>",
          "textangle": -90,
          "x": 9.18,
          "y": 70.2
         },
         {
          "font": {
           "size": 9
          },
          "showarrow": false,
          "text": "99.7%",
          "x": 9.82,
          "y": 102.7
         },
         {
          "font": {
           "size": 10
          },
          "showarrow": false,
          "text": "<b>Default</b>",
          "textangle": -90,
          "x": 9.82,
          "y": 111.7
         },
         {
          "font": {
           "size": 9
          },
          "showarrow": false,
          "text": "72.7%",
          "x": 10.18,
          "y": 75.7
         },
         {
          "font": {
           "size": 10
          },
          "showarrow": false,
          "text": "<b>Jailbreak</b>",
          "textangle": -90,
          "x": 10.18,
          "y": 85.7
         }
        ],
        "bargap": 0.25,
        "barmode": "stack",
        "height": 600,
        "legend": {
         "orientation": "h",
         "x": 1,
         "xanchor": "right",
         "y": 1.02,
         "yanchor": "bottom"
        },
        "template": {
         "data": {
          "bar": [
           {
            "error_x": {
             "color": "#2a3f5f"
            },
            "error_y": {
             "color": "#2a3f5f"
            },
            "marker": {
             "line": {
              "color": "#E5ECF6",
              "width": 0.5
             },
             "pattern": {
              "fillmode": "overlay",
              "size": 10,
              "solidity": 0.2
             }
            },
            "type": "bar"
           }
          ],
          "barpolar": [
           {
            "marker": {
             "line": {
              "color": "#E5ECF6",
              "width": 0.5
             },
             "pattern": {
              "fillmode": "overlay",
              "size": 10,
              "solidity": 0.2
             }
            },
            "type": "barpolar"
           }
          ],
          "carpet": [
           {
            "aaxis": {
             "endlinecolor": "#2a3f5f",
             "gridcolor": "white",
             "linecolor": "white",
             "minorgridcolor": "white",
             "startlinecolor": "#2a3f5f"
            },
            "baxis": {
             "endlinecolor": "#2a3f5f",
             "gridcolor": "white",
             "linecolor": "white",
             "minorgridcolor": "white",
             "startlinecolor": "#2a3f5f"
            },
            "type": "carpet"
           }
          ],
          "choropleth": [
           {
            "colorbar": {
             "outlinewidth": 0,
             "ticks": ""
            },
            "type": "choropleth"
           }
          ],
          "contour": [
           {
            "colorbar": {
             "outlinewidth": 0,
             "ticks": ""
            },
            "colorscale": [
             [
              0,
              "#0d0887"
             ],
             [
              0.1111111111111111,
              "#46039f"
             ],
             [
              0.2222222222222222,
              "#7201a8"
             ],
             [
              0.3333333333333333,
              "#9c179e"
             ],
             [
              0.4444444444444444,
              "#bd3786"
             ],
             [
              0.5555555555555556,
              "#d8576b"
             ],
             [
              0.6666666666666666,
              "#ed7953"
             ],
             [
              0.7777777777777778,
              "#fb9f3a"
             ],
             [
              0.8888888888888888,
              "#fdca26"
             ],
             [
              1,
              "#f0f921"
             ]
            ],
            "type": "contour"
           }
          ],
          "contourcarpet": [
           {
            "colorbar": {
             "outlinewidth": 0,
             "ticks": ""
            },
            "type": "contourcarpet"
           }
          ],
          "heatmap": [
           {
            "colorbar": {
             "outlinewidth": 0,
             "ticks": ""
            },
            "colorscale": [
             [
              0,
              "#0d0887"
             ],
             [
              0.1111111111111111,
              "#46039f"
             ],
             [
              0.2222222222222222,
              "#7201a8"
             ],
             [
              0.3333333333333333,
              "#9c179e"
             ],
             [
              0.4444444444444444,
              "#bd3786"
             ],
             [
              0.5555555555555556,
              "#d8576b"
             ],
             [
              0.6666666666666666,
              "#ed7953"
             ],
             [
              0.7777777777777778,
              "#fb9f3a"
             ],
             [
              0.8888888888888888,
              "#fdca26"
             ],
             [
              1,
              "#f0f921"
             ]
            ],
            "type": "heatmap"
           }
          ],
          "heatmapgl": [
           {
            "colorbar": {
             "outlinewidth": 0,
             "ticks": ""
            },
            "colorscale": [
             [
              0,
              "#0d0887"
             ],
             [
              0.1111111111111111,
              "#46039f"
             ],
             [
              0.2222222222222222,
              "#7201a8"
             ],
             [
              0.3333333333333333,
              "#9c179e"
             ],
             [
              0.4444444444444444,
              "#bd3786"
             ],
             [
              0.5555555555555556,
              "#d8576b"
             ],
             [
              0.6666666666666666,
              "#ed7953"
             ],
             [
              0.7777777777777778,
              "#fb9f3a"
             ],
             [
              0.8888888888888888,
              "#fdca26"
             ],
             [
              1,
              "#f0f921"
             ]
            ],
            "type": "heatmapgl"
           }
          ],
          "histogram": [
           {
            "marker": {
             "pattern": {
              "fillmode": "overlay",
              "size": 10,
              "solidity": 0.2
             }
            },
            "type": "histogram"
           }
          ],
          "histogram2d": [
           {
            "colorbar": {
             "outlinewidth": 0,
             "ticks": ""
            },
            "colorscale": [
             [
              0,
              "#0d0887"
             ],
             [
              0.1111111111111111,
              "#46039f"
             ],
             [
              0.2222222222222222,
              "#7201a8"
             ],
             [
              0.3333333333333333,
              "#9c179e"
             ],
             [
              0.4444444444444444,
              "#bd3786"
             ],
             [
              0.5555555555555556,
              "#d8576b"
             ],
             [
              0.6666666666666666,
              "#ed7953"
             ],
             [
              0.7777777777777778,
              "#fb9f3a"
             ],
             [
              0.8888888888888888,
              "#fdca26"
             ],
             [
              1,
              "#f0f921"
             ]
            ],
            "type": "histogram2d"
           }
          ],
          "histogram2dcontour": [
           {
            "colorbar": {
             "outlinewidth": 0,
             "ticks": ""
            },
            "colorscale": [
             [
              0,
              "#0d0887"
             ],
             [
              0.1111111111111111,
              "#46039f"
             ],
             [
              0.2222222222222222,
              "#7201a8"
             ],
             [
              0.3333333333333333,
              "#9c179e"
             ],
             [
              0.4444444444444444,
              "#bd3786"
             ],
             [
              0.5555555555555556,
              "#d8576b"
             ],
             [
              0.6666666666666666,
              "#ed7953"
             ],
             [
              0.7777777777777778,
              "#fb9f3a"
             ],
             [
              0.8888888888888888,
              "#fdca26"
             ],
             [
              1,
              "#f0f921"
             ]
            ],
            "type": "histogram2dcontour"
           }
          ],
          "mesh3d": [
           {
            "colorbar": {
             "outlinewidth": 0,
             "ticks": ""
            },
            "type": "mesh3d"
           }
          ],
          "parcoords": [
           {
            "line": {
             "colorbar": {
              "outlinewidth": 0,
              "ticks": ""
             }
            },
            "type": "parcoords"
           }
          ],
          "pie": [
           {
            "automargin": true,
            "type": "pie"
           }
          ],
          "scatter": [
           {
            "fillpattern": {
             "fillmode": "overlay",
             "size": 10,
             "solidity": 0.2
            },
            "type": "scatter"
           }
          ],
          "scatter3d": [
           {
            "line": {
             "colorbar": {
              "outlinewidth": 0,
              "ticks": ""
             }
            },
            "marker": {
             "colorbar": {
              "outlinewidth": 0,
              "ticks": ""
             }
            },
            "type": "scatter3d"
           }
          ],
          "scattercarpet": [
           {
            "marker": {
             "colorbar": {
              "outlinewidth": 0,
              "ticks": ""
             }
            },
            "type": "scattercarpet"
           }
          ],
          "scattergeo": [
           {
            "marker": {
             "colorbar": {
              "outlinewidth": 0,
              "ticks": ""
             }
            },
            "type": "scattergeo"
           }
          ],
          "scattergl": [
           {
            "marker": {
             "colorbar": {
              "outlinewidth": 0,
              "ticks": ""
             }
            },
            "type": "scattergl"
           }
          ],
          "scattermapbox": [
           {
            "marker": {
             "colorbar": {
              "outlinewidth": 0,
              "ticks": ""
             }
            },
            "type": "scattermapbox"
           }
          ],
          "scatterpolar": [
           {
            "marker": {
             "colorbar": {
              "outlinewidth": 0,
              "ticks": ""
             }
            },
            "type": "scatterpolar"
           }
          ],
          "scatterpolargl": [
           {
            "marker": {
             "colorbar": {
              "outlinewidth": 0,
              "ticks": ""
             }
            },
            "type": "scatterpolargl"
           }
          ],
          "scatterternary": [
           {
            "marker": {
             "colorbar": {
              "outlinewidth": 0,
              "ticks": ""
             }
            },
            "type": "scatterternary"
           }
          ],
          "surface": [
           {
            "colorbar": {
             "outlinewidth": 0,
             "ticks": ""
            },
            "colorscale": [
             [
              0,
              "#0d0887"
             ],
             [
              0.1111111111111111,
              "#46039f"
             ],
             [
              0.2222222222222222,
              "#7201a8"
             ],
             [
              0.3333333333333333,
              "#9c179e"
             ],
             [
              0.4444444444444444,
              "#bd3786"
             ],
             [
              0.5555555555555556,
              "#d8576b"
             ],
             [
              0.6666666666666666,
              "#ed7953"
             ],
             [
              0.7777777777777778,
              "#fb9f3a"
             ],
             [
              0.8888888888888888,
              "#fdca26"
             ],
             [
              1,
              "#f0f921"
             ]
            ],
            "type": "surface"
           }
          ],
          "table": [
           {
            "cells": {
             "fill": {
              "color": "#EBF0F8"
             },
             "line": {
              "color": "white"
             }
            },
            "header": {
             "fill": {
              "color": "#C8D4E3"
             },
             "line": {
              "color": "white"
             }
            },
            "type": "table"
           }
          ]
         },
         "layout": {
          "annotationdefaults": {
           "arrowcolor": "#2a3f5f",
           "arrowhead": 0,
           "arrowwidth": 1
          },
          "autotypenumbers": "strict",
          "coloraxis": {
           "colorbar": {
            "outlinewidth": 0,
            "ticks": ""
           }
          },
          "colorscale": {
           "diverging": [
            [
             0,
             "#8e0152"
            ],
            [
             0.1,
             "#c51b7d"
            ],
            [
             0.2,
             "#de77ae"
            ],
            [
             0.3,
             "#f1b6da"
            ],
            [
             0.4,
             "#fde0ef"
            ],
            [
             0.5,
             "#f7f7f7"
            ],
            [
             0.6,
             "#e6f5d0"
            ],
            [
             0.7,
             "#b8e186"
            ],
            [
             0.8,
             "#7fbc41"
            ],
            [
             0.9,
             "#4d9221"
            ],
            [
             1,
             "#276419"
            ]
           ],
           "sequential": [
            [
             0,
             "#0d0887"
            ],
            [
             0.1111111111111111,
             "#46039f"
            ],
            [
             0.2222222222222222,
             "#7201a8"
            ],
            [
             0.3333333333333333,
             "#9c179e"
            ],
            [
             0.4444444444444444,
             "#bd3786"
            ],
            [
             0.5555555555555556,
             "#d8576b"
            ],
            [
             0.6666666666666666,
             "#ed7953"
            ],
            [
             0.7777777777777778,
             "#fb9f3a"
            ],
            [
             0.8888888888888888,
             "#fdca26"
            ],
            [
             1,
             "#f0f921"
            ]
           ],
           "sequentialminus": [
            [
             0,
             "#0d0887"
            ],
            [
             0.1111111111111111,
             "#46039f"
            ],
            [
             0.2222222222222222,
             "#7201a8"
            ],
            [
             0.3333333333333333,
             "#9c179e"
            ],
            [
             0.4444444444444444,
             "#bd3786"
            ],
            [
             0.5555555555555556,
             "#d8576b"
            ],
            [
             0.6666666666666666,
             "#ed7953"
            ],
            [
             0.7777777777777778,
             "#fb9f3a"
            ],
            [
             0.8888888888888888,
             "#fdca26"
            ],
            [
             1,
             "#f0f921"
            ]
           ]
          },
          "colorway": [
           "#636efa",
           "#EF553B",
           "#00cc96",
           "#ab63fa",
           "#FFA15A",
           "#19d3f3",
           "#FF6692",
           "#B6E880",
           "#FF97FF",
           "#FECB52"
          ],
          "font": {
           "color": "#2a3f5f"
          },
          "geo": {
           "bgcolor": "white",
           "lakecolor": "white",
           "landcolor": "#E5ECF6",
           "showlakes": true,
           "showland": true,
           "subunitcolor": "white"
          },
          "hoverlabel": {
           "align": "left"
          },
          "hovermode": "closest",
          "mapbox": {
           "style": "light"
          },
          "paper_bgcolor": "white",
          "plot_bgcolor": "#E5ECF6",
          "polar": {
           "angularaxis": {
            "gridcolor": "white",
            "linecolor": "white",
            "ticks": ""
           },
           "bgcolor": "#E5ECF6",
           "radialaxis": {
            "gridcolor": "white",
            "linecolor": "white",
            "ticks": ""
           }
          },
          "scene": {
           "xaxis": {
            "backgroundcolor": "#E5ECF6",
            "gridcolor": "white",
            "gridwidth": 2,
            "linecolor": "white",
            "showbackground": true,
            "ticks": "",
            "zerolinecolor": "white"
           },
           "yaxis": {
            "backgroundcolor": "#E5ECF6",
            "gridcolor": "white",
            "gridwidth": 2,
            "linecolor": "white",
            "showbackground": true,
            "ticks": "",
            "zerolinecolor": "white"
           },
           "zaxis": {
            "backgroundcolor": "#E5ECF6",
            "gridcolor": "white",
            "gridwidth": 2,
            "linecolor": "white",
            "showbackground": true,
            "ticks": "",
            "zerolinecolor": "white"
           }
          },
          "shapedefaults": {
           "line": {
            "color": "#2a3f5f"
           }
          },
          "ternary": {
           "aaxis": {
            "gridcolor": "white",
            "linecolor": "white",
            "ticks": ""
           },
           "baxis": {
            "gridcolor": "white",
            "linecolor": "white",
            "ticks": ""
           },
           "bgcolor": "#E5ECF6",
           "caxis": {
            "gridcolor": "white",
            "linecolor": "white",
            "ticks": ""
           }
          },
          "title": {
           "x": 0.05
          },
          "xaxis": {
           "automargin": true,
           "gridcolor": "white",
           "linecolor": "white",
           "ticks": "",
           "title": {
            "standoff": 15
           },
           "zerolinecolor": "white",
           "zerolinewidth": 2
          },
          "yaxis": {
           "automargin": true,
           "gridcolor": "white",
           "linecolor": "white",
           "ticks": "",
           "title": {
            "standoff": 15
           },
           "zerolinecolor": "white",
           "zerolinewidth": 2
          }
         }
        },
        "title": {
         "subtitle": {
          "text": "Qwen 3 32B, Layer 32"
         },
         "text": "Other Responses with Persona-based Jailbreaks when Steered Towards the Assistant"
        },
        "width": 1400,
        "xaxis": {
         "gridcolor": "lightgray",
         "range": [
          -0.8,
          10.8
         ],
         "showgrid": true,
         "tickmode": "array",
         "ticktext": [
          "50.0",
          "25.0",
          "Unsteered",
          "-25.0",
          "-50.0",
          "-75.0",
          "-100.0",
          "-125.0",
          "-150.0",
          "-175.0",
          "-200.0"
         ],
         "tickvals": [
          0,
          1,
          2,
          3,
          4,
          5,
          6,
          7,
          8,
          9,
          10
         ],
         "title": {
          "text": "Role-playing PC1 Steering Coefficient"
         }
        },
        "yaxis": {
         "gridcolor": "lightgray",
         "range": [
          0,
          119
         ],
         "showgrid": true,
         "title": {
          "text": "Percentage of Responses"
         }
        }
       }
      },
      "text/html": [
       "<div>                            <div id=\"8f9d4607-29ee-4fa1-a3f2-a64798842ed6\" class=\"plotly-graph-div\" style=\"height:600px; width:1400px;\"></div>            <script type=\"text/javascript\">                require([\"plotly\"], function(Plotly) {                    window.PLOTLYENV=window.PLOTLYENV || {};                                    if (document.getElementById(\"8f9d4607-29ee-4fa1-a3f2-a64798842ed6\")) {                    Plotly.newPlot(                        \"8f9d4607-29ee-4fa1-a3f2-a64798842ed6\",                        [{\"cliponaxis\":false,\"customdata\":[[3.0,1100.0,50.0],[0.0,1100.0,25.0],[6.0,4400.0,0.0],[0.0,1100.0,-25.0],[0.0,1100.0,-50.0],[2.0,1100.0,-75.0],[1.0,1100.0,-100.0],[1.0,1100.0,-125.0],[2.0,1100.0,-150.0],[1.0,1100.0,-175.0],[0.0,1100.0,-200.0]],\"hovertemplate\":\"Magnitude: %{customdata[2]}\\u003cbr\\u003eNo Jailbreak \\u2014 Almost Harmful\\u003cbr\\u003ePct: %{y:.1f}%\\u003cbr\\u003eCount: %{customdata[0]} \\u002f %{customdata[1]}\\u003cextra\\u003e\\u003c\\u002fextra\\u003e\",\"legendgroup\":\"Almost Harmful\",\"marker\":{\"color\":\"#ffff33\"},\"name\":\"Almost Harmful\",\"width\":0.34,\"x\":[-0.18,0.8200000000000001,1.82,2.82,3.82,4.82,5.82,6.82,7.82,8.82,9.82],\"y\":[0.3,0.0,0.1,0.0,0.0,0.2,0.1,0.1,0.2,0.1,0.0],\"type\":\"bar\"},{\"cliponaxis\":false,\"customdata\":[[872.0,1100.0,50.0],[891.0,1100.0,25.0],[3463.0,4400.0,0.0],[912.0,1100.0,-25.0],[920.0,1100.0,-50.0],[920.0,1100.0,-75.0],[920.0,1100.0,-100.0],[953.0,1100.0,-125.0],[966.0,1100.0,-150.0],[985.0,1100.0,-175.0],[1000.0,1100.0,-200.0]],\"hovertemplate\":\"Magnitude: %{customdata[2]}\\u003cbr\\u003eNo Jailbreak \\u2014 Related\\u003cbr\\u003ePct: %{y:.1f}%\\u003cbr\\u003eCount: %{customdata[0]} \\u002f %{customdata[1]}\\u003cextra\\u003e\\u003c\\u002fextra\\u003e\",\"legendgroup\":\"Related\",\"marker\":{\"color\":\"#1f78b4\"},\"name\":\"Related\",\"width\":0.34,\"x\":[-0.18,0.8200000000000001,1.82,2.82,3.82,4.82,5.82,6.82,7.82,8.82,9.82],\"y\":[79.3,81.0,78.7,82.9,83.6,83.6,83.6,86.6,87.8,89.5,90.9],\"type\":\"bar\"},{\"cliponaxis\":false,\"customdata\":[[102.0,1100.0,50.0],[92.0,1100.0,25.0],[416.0,4400.0,0.0],[82.0,1100.0,-25.0],[75.0,1100.0,-50.0],[63.0,1100.0,-75.0],[45.0,1100.0,-100.0],[26.0,1100.0,-125.0],[14.0,1100.0,-150.0],[14.0,1100.0,-175.0],[4.0,1100.0,-200.0]],\"hovertemplate\":\"Magnitude: %{customdata[2]}\\u003cbr\\u003eNo Jailbreak \\u2014 Refusal\\u003cbr\\u003ePct: %{y:.1f}%\\u003cbr\\u003eCount: %{customdata[0]} \\u002f %{customdata[1]}\\u003cextra\\u003e\\u003c\\u002fextra\\u003e\",\"legendgroup\":\"Refusal\",\"marker\":{\"color\":\"#b2df8a\"},\"name\":\"Refusal\",\"width\":0.34,\"x\":[-0.18,0.8200000000000001,1.82,2.82,3.82,4.82,5.82,6.82,7.82,8.82,9.82],\"y\":[9.3,8.4,9.5,7.5,6.8,5.7,4.1,2.4,1.3,1.3,0.4],\"type\":\"bar\"},{\"cliponaxis\":false,\"customdata\":[[67.0,1100.0,50.0],[78.0,1100.0,25.0],[325.0,4400.0,0.0],[66.0,1100.0,-25.0],[72.0,1100.0,-50.0],[77.0,1100.0,-75.0],[85.0,1100.0,-100.0],[79.0,1100.0,-125.0],[82.0,1100.0,-150.0],[58.0,1100.0,-175.0],[64.0,1100.0,-200.0]],\"hovertemplate\":\"Magnitude: %{customdata[2]}\\u003cbr\\u003eNo Jailbreak \\u2014 Refusal & Justification\\u003cbr\\u003ePct: %{y:.1f}%\\u003cbr\\u003eCount: %{customdata[0]} \\u002f %{customdata[1]}\\u003cextra\\u003e\\u003c\\u002fextra\\u003e\",\"legendgroup\":\"Refusal & Justification\",\"marker\":{\"color\":\"#33a02c\"},\"name\":\"Refusal & Justification\",\"width\":0.34,\"x\":[-0.18,0.8200000000000001,1.82,2.82,3.82,4.82,5.82,6.82,7.82,8.82,9.82],\"y\":[6.1,7.1,7.4,6.0,6.5,7.0,7.7,7.2,7.5,5.3,5.8],\"type\":\"bar\"},{\"cliponaxis\":false,\"customdata\":[[38.0,1100.0,50.0],[31.0,1100.0,25.0],[137.0,4400.0,0.0],[27.0,1100.0,-25.0],[28.0,1100.0,-50.0],[28.0,1100.0,-75.0],[40.0,1100.0,-100.0],[31.0,1100.0,-125.0],[32.0,1100.0,-150.0],[36.0,1100.0,-175.0],[29.0,1100.0,-200.0]],\"hovertemplate\":\"Magnitude: %{customdata[2]}\\u003cbr\\u003eNo Jailbreak \\u2014 Out of Context\\u003cbr\\u003ePct: %{y:.1f}%\\u003cbr\\u003eCount: %{customdata[0]} \\u002f %{customdata[1]}\\u003cextra\\u003e\\u003c\\u002fextra\\u003e\",\"legendgroup\":\"Out of Context\",\"marker\":{\"color\":\"#6a3d9a\"},\"name\":\"Out of Context\",\"width\":0.34,\"x\":[-0.18,0.8200000000000001,1.82,2.82,3.82,4.82,5.82,6.82,7.82,8.82,9.82],\"y\":[3.5,2.8,3.1,2.5,2.5,2.5,3.6,2.8,2.9,3.3,2.6],\"type\":\"bar\"},{\"cliponaxis\":false,\"customdata\":[[0.0,1100.0,50.0],[0.0,1100.0,25.0],[0.0,4400.0,0.0],[0.0,1100.0,-25.0],[0.0,1100.0,-50.0],[0.0,1100.0,-75.0],[0.0,1100.0,-100.0],[0.0,1100.0,-125.0],[0.0,1100.0,-150.0],[0.0,1100.0,-175.0],[0.0,1100.0,-200.0]],\"hovertemplate\":\"Magnitude: %{customdata[2]}\\u003cbr\\u003eNo Jailbreak \\u2014 Nonsensical\\u003cbr\\u003ePct: %{y:.1f}%\\u003cbr\\u003eCount: %{customdata[0]} \\u002f %{customdata[1]}\\u003cextra\\u003e\\u003c\\u002fextra\\u003e\",\"legendgroup\":\"Nonsensical\",\"marker\":{\"color\":\"#fb9a99\"},\"name\":\"Nonsensical\",\"width\":0.34,\"x\":[-0.18,0.8200000000000001,1.82,2.82,3.82,4.82,5.82,6.82,7.82,8.82,9.82],\"y\":[0.0,0.0,0.0,0.0,0.0,0.0,0.0,0.0,0.0,0.0,0.0],\"type\":\"bar\"},{\"cliponaxis\":false,\"customdata\":[[7.0,1100.0,50.0],[3.0,1100.0,25.0],[16.0,4400.0,0.0],[3.0,1100.0,-25.0],[5.0,1100.0,-50.0],[6.0,1100.0,-75.0],[3.0,1100.0,-100.0],[6.0,1100.0,-125.0],[10.0,1100.0,-150.0],[20.0,1100.0,-175.0],[14.0,1100.0,-200.0]],\"hovertemplate\":\"Magnitude: %{customdata[2]}\\u003cbr\\u003eJailbreak \\u2014 Almost Harmful\\u003cbr\\u003ePct: %{y:.1f}%\\u003cbr\\u003eCount: %{customdata[0]} \\u002f %{customdata[1]}\\u003cextra\\u003e\\u003c\\u002fextra\\u003e\",\"legendgroup\":\"Almost Harmful\",\"marker\":{\"color\":\"#ffff33\"},\"showlegend\":false,\"width\":0.34,\"x\":[0.18,1.18,2.18,3.18,4.18,5.18,6.18,7.18,8.18,9.18,10.18],\"y\":[0.6,0.3,0.4,0.3,0.5,0.5,0.3,0.5,0.9,1.8,1.3],\"type\":\"bar\"},{\"cliponaxis\":false,\"customdata\":[[144.0,1100.0,50.0],[128.0,1100.0,25.0],[454.0,4400.0,0.0],[136.0,1100.0,-25.0],[169.0,1100.0,-50.0],[212.0,1100.0,-75.0],[262.0,1100.0,-100.0],[349.0,1100.0,-125.0],[450.0,1100.0,-150.0],[566.0,1100.0,-175.0],[697.0,1100.0,-200.0]],\"hovertemplate\":\"Magnitude: %{customdata[2]}\\u003cbr\\u003eJailbreak \\u2014 Related\\u003cbr\\u003ePct: %{y:.1f}%\\u003cbr\\u003eCount: %{customdata[0]} \\u002f %{customdata[1]}\\u003cextra\\u003e\\u003c\\u002fextra\\u003e\",\"legendgroup\":\"Related\",\"marker\":{\"color\":\"#1f78b4\"},\"showlegend\":false,\"width\":0.34,\"x\":[0.18,1.18,2.18,3.18,4.18,5.18,6.18,7.18,8.18,9.18,10.18],\"y\":[13.1,11.6,10.3,12.4,15.4,19.3,23.8,31.7,40.9,51.5,63.4],\"type\":\"bar\"},{\"cliponaxis\":false,\"customdata\":[[16.0,1100.0,50.0],[36.0,1100.0,25.0],[176.0,4400.0,0.0],[76.0,1100.0,-25.0],[98.0,1100.0,-50.0],[78.0,1100.0,-75.0],[59.0,1100.0,-100.0],[24.0,1100.0,-125.0],[7.0,1100.0,-150.0],[8.0,1100.0,-175.0],[18.0,1100.0,-200.0]],\"hovertemplate\":\"Magnitude: %{customdata[2]}\\u003cbr\\u003eJailbreak \\u2014 Refusal\\u003cbr\\u003ePct: %{y:.1f}%\\u003cbr\\u003eCount: %{customdata[0]} \\u002f %{customdata[1]}\\u003cextra\\u003e\\u003c\\u002fextra\\u003e\",\"legendgroup\":\"Refusal\",\"marker\":{\"color\":\"#b2df8a\"},\"showlegend\":false,\"width\":0.34,\"x\":[0.18,1.18,2.18,3.18,4.18,5.18,6.18,7.18,8.18,9.18,10.18],\"y\":[1.5,3.3,4.0,6.9,8.9,7.1,5.4,2.2,0.6,0.7,1.6],\"type\":\"bar\"},{\"cliponaxis\":false,\"customdata\":[[3.0,1100.0,50.0],[10.0,1100.0,25.0],[67.0,4400.0,0.0],[23.0,1100.0,-25.0],[24.0,1100.0,-50.0],[35.0,1100.0,-75.0],[25.0,1100.0,-100.0],[14.0,1100.0,-125.0],[3.0,1100.0,-150.0],[6.0,1100.0,-175.0],[10.0,1100.0,-200.0]],\"hovertemplate\":\"Magnitude: %{customdata[2]}\\u003cbr\\u003eJailbreak \\u2014 Refusal & Justification\\u003cbr\\u003ePct: %{y:.1f}%\\u003cbr\\u003eCount: %{customdata[0]} \\u002f %{customdata[1]}\\u003cextra\\u003e\\u003c\\u002fextra\\u003e\",\"legendgroup\":\"Refusal & Justification\",\"marker\":{\"color\":\"#33a02c\"},\"showlegend\":false,\"width\":0.34,\"x\":[0.18,1.18,2.18,3.18,4.18,5.18,6.18,7.18,8.18,9.18,10.18],\"y\":[0.3,0.9,1.5,2.1,2.2,3.2,2.3,1.3,0.3,0.5,0.9],\"type\":\"bar\"},{\"cliponaxis\":false,\"customdata\":[[3.0,1100.0,50.0],[5.0,1100.0,25.0],[24.0,4400.0,0.0],[7.0,1100.0,-25.0],[20.0,1100.0,-50.0],[14.0,1100.0,-75.0],[18.0,1100.0,-100.0],[17.0,1100.0,-125.0],[17.0,1100.0,-150.0],[30.0,1100.0,-175.0],[61.0,1100.0,-200.0]],\"hovertemplate\":\"Magnitude: %{customdata[2]}\\u003cbr\\u003eJailbreak \\u2014 Out of Context\\u003cbr\\u003ePct: %{y:.1f}%\\u003cbr\\u003eCount: %{customdata[0]} \\u002f %{customdata[1]}\\u003cextra\\u003e\\u003c\\u002fextra\\u003e\",\"legendgroup\":\"Out of Context\",\"marker\":{\"color\":\"#6a3d9a\"},\"showlegend\":false,\"width\":0.34,\"x\":[0.18,1.18,2.18,3.18,4.18,5.18,6.18,7.18,8.18,9.18,10.18],\"y\":[0.3,0.5,0.5,0.6,1.8,1.3,1.6,1.5,1.5,2.7,5.5],\"type\":\"bar\"},{\"cliponaxis\":false,\"customdata\":[[0.0,1100.0,50.0],[0.0,1100.0,25.0],[0.0,4400.0,0.0],[0.0,1100.0,-25.0],[0.0,1100.0,-50.0],[0.0,1100.0,-75.0],[0.0,1100.0,-100.0],[0.0,1100.0,-125.0],[0.0,1100.0,-150.0],[0.0,1100.0,-175.0],[0.0,1100.0,-200.0]],\"hovertemplate\":\"Magnitude: %{customdata[2]}\\u003cbr\\u003eJailbreak \\u2014 Nonsensical\\u003cbr\\u003ePct: %{y:.1f}%\\u003cbr\\u003eCount: %{customdata[0]} \\u002f %{customdata[1]}\\u003cextra\\u003e\\u003c\\u002fextra\\u003e\",\"legendgroup\":\"Nonsensical\",\"marker\":{\"color\":\"#fb9a99\"},\"showlegend\":false,\"width\":0.34,\"x\":[0.18,1.18,2.18,3.18,4.18,5.18,6.18,7.18,8.18,9.18,10.18],\"y\":[0.0,0.0,0.0,0.0,0.0,0.0,0.0,0.0,0.0,0.0,0.0],\"type\":\"bar\"}],                        {\"template\":{\"data\":{\"histogram2dcontour\":[{\"type\":\"histogram2dcontour\",\"colorbar\":{\"outlinewidth\":0,\"ticks\":\"\"},\"colorscale\":[[0.0,\"#0d0887\"],[0.1111111111111111,\"#46039f\"],[0.2222222222222222,\"#7201a8\"],[0.3333333333333333,\"#9c179e\"],[0.4444444444444444,\"#bd3786\"],[0.5555555555555556,\"#d8576b\"],[0.6666666666666666,\"#ed7953\"],[0.7777777777777778,\"#fb9f3a\"],[0.8888888888888888,\"#fdca26\"],[1.0,\"#f0f921\"]]}],\"choropleth\":[{\"type\":\"choropleth\",\"colorbar\":{\"outlinewidth\":0,\"ticks\":\"\"}}],\"histogram2d\":[{\"type\":\"histogram2d\",\"colorbar\":{\"outlinewidth\":0,\"ticks\":\"\"},\"colorscale\":[[0.0,\"#0d0887\"],[0.1111111111111111,\"#46039f\"],[0.2222222222222222,\"#7201a8\"],[0.3333333333333333,\"#9c179e\"],[0.4444444444444444,\"#bd3786\"],[0.5555555555555556,\"#d8576b\"],[0.6666666666666666,\"#ed7953\"],[0.7777777777777778,\"#fb9f3a\"],[0.8888888888888888,\"#fdca26\"],[1.0,\"#f0f921\"]]}],\"heatmap\":[{\"type\":\"heatmap\",\"colorbar\":{\"outlinewidth\":0,\"ticks\":\"\"},\"colorscale\":[[0.0,\"#0d0887\"],[0.1111111111111111,\"#46039f\"],[0.2222222222222222,\"#7201a8\"],[0.3333333333333333,\"#9c179e\"],[0.4444444444444444,\"#bd3786\"],[0.5555555555555556,\"#d8576b\"],[0.6666666666666666,\"#ed7953\"],[0.7777777777777778,\"#fb9f3a\"],[0.8888888888888888,\"#fdca26\"],[1.0,\"#f0f921\"]]}],\"heatmapgl\":[{\"type\":\"heatmapgl\",\"colorbar\":{\"outlinewidth\":0,\"ticks\":\"\"},\"colorscale\":[[0.0,\"#0d0887\"],[0.1111111111111111,\"#46039f\"],[0.2222222222222222,\"#7201a8\"],[0.3333333333333333,\"#9c179e\"],[0.4444444444444444,\"#bd3786\"],[0.5555555555555556,\"#d8576b\"],[0.6666666666666666,\"#ed7953\"],[0.7777777777777778,\"#fb9f3a\"],[0.8888888888888888,\"#fdca26\"],[1.0,\"#f0f921\"]]}],\"contourcarpet\":[{\"type\":\"contourcarpet\",\"colorbar\":{\"outlinewidth\":0,\"ticks\":\"\"}}],\"contour\":[{\"type\":\"contour\",\"colorbar\":{\"outlinewidth\":0,\"ticks\":\"\"},\"colorscale\":[[0.0,\"#0d0887\"],[0.1111111111111111,\"#46039f\"],[0.2222222222222222,\"#7201a8\"],[0.3333333333333333,\"#9c179e\"],[0.4444444444444444,\"#bd3786\"],[0.5555555555555556,\"#d8576b\"],[0.6666666666666666,\"#ed7953\"],[0.7777777777777778,\"#fb9f3a\"],[0.8888888888888888,\"#fdca26\"],[1.0,\"#f0f921\"]]}],\"surface\":[{\"type\":\"surface\",\"colorbar\":{\"outlinewidth\":0,\"ticks\":\"\"},\"colorscale\":[[0.0,\"#0d0887\"],[0.1111111111111111,\"#46039f\"],[0.2222222222222222,\"#7201a8\"],[0.3333333333333333,\"#9c179e\"],[0.4444444444444444,\"#bd3786\"],[0.5555555555555556,\"#d8576b\"],[0.6666666666666666,\"#ed7953\"],[0.7777777777777778,\"#fb9f3a\"],[0.8888888888888888,\"#fdca26\"],[1.0,\"#f0f921\"]]}],\"mesh3d\":[{\"type\":\"mesh3d\",\"colorbar\":{\"outlinewidth\":0,\"ticks\":\"\"}}],\"scatter\":[{\"fillpattern\":{\"fillmode\":\"overlay\",\"size\":10,\"solidity\":0.2},\"type\":\"scatter\"}],\"parcoords\":[{\"type\":\"parcoords\",\"line\":{\"colorbar\":{\"outlinewidth\":0,\"ticks\":\"\"}}}],\"scatterpolargl\":[{\"type\":\"scatterpolargl\",\"marker\":{\"colorbar\":{\"outlinewidth\":0,\"ticks\":\"\"}}}],\"bar\":[{\"error_x\":{\"color\":\"#2a3f5f\"},\"error_y\":{\"color\":\"#2a3f5f\"},\"marker\":{\"line\":{\"color\":\"#E5ECF6\",\"width\":0.5},\"pattern\":{\"fillmode\":\"overlay\",\"size\":10,\"solidity\":0.2}},\"type\":\"bar\"}],\"scattergeo\":[{\"type\":\"scattergeo\",\"marker\":{\"colorbar\":{\"outlinewidth\":0,\"ticks\":\"\"}}}],\"scatterpolar\":[{\"type\":\"scatterpolar\",\"marker\":{\"colorbar\":{\"outlinewidth\":0,\"ticks\":\"\"}}}],\"histogram\":[{\"marker\":{\"pattern\":{\"fillmode\":\"overlay\",\"size\":10,\"solidity\":0.2}},\"type\":\"histogram\"}],\"scattergl\":[{\"type\":\"scattergl\",\"marker\":{\"colorbar\":{\"outlinewidth\":0,\"ticks\":\"\"}}}],\"scatter3d\":[{\"type\":\"scatter3d\",\"line\":{\"colorbar\":{\"outlinewidth\":0,\"ticks\":\"\"}},\"marker\":{\"colorbar\":{\"outlinewidth\":0,\"ticks\":\"\"}}}],\"scattermapbox\":[{\"type\":\"scattermapbox\",\"marker\":{\"colorbar\":{\"outlinewidth\":0,\"ticks\":\"\"}}}],\"scatterternary\":[{\"type\":\"scatterternary\",\"marker\":{\"colorbar\":{\"outlinewidth\":0,\"ticks\":\"\"}}}],\"scattercarpet\":[{\"type\":\"scattercarpet\",\"marker\":{\"colorbar\":{\"outlinewidth\":0,\"ticks\":\"\"}}}],\"carpet\":[{\"aaxis\":{\"endlinecolor\":\"#2a3f5f\",\"gridcolor\":\"white\",\"linecolor\":\"white\",\"minorgridcolor\":\"white\",\"startlinecolor\":\"#2a3f5f\"},\"baxis\":{\"endlinecolor\":\"#2a3f5f\",\"gridcolor\":\"white\",\"linecolor\":\"white\",\"minorgridcolor\":\"white\",\"startlinecolor\":\"#2a3f5f\"},\"type\":\"carpet\"}],\"table\":[{\"cells\":{\"fill\":{\"color\":\"#EBF0F8\"},\"line\":{\"color\":\"white\"}},\"header\":{\"fill\":{\"color\":\"#C8D4E3\"},\"line\":{\"color\":\"white\"}},\"type\":\"table\"}],\"barpolar\":[{\"marker\":{\"line\":{\"color\":\"#E5ECF6\",\"width\":0.5},\"pattern\":{\"fillmode\":\"overlay\",\"size\":10,\"solidity\":0.2}},\"type\":\"barpolar\"}],\"pie\":[{\"automargin\":true,\"type\":\"pie\"}]},\"layout\":{\"autotypenumbers\":\"strict\",\"colorway\":[\"#636efa\",\"#EF553B\",\"#00cc96\",\"#ab63fa\",\"#FFA15A\",\"#19d3f3\",\"#FF6692\",\"#B6E880\",\"#FF97FF\",\"#FECB52\"],\"font\":{\"color\":\"#2a3f5f\"},\"hovermode\":\"closest\",\"hoverlabel\":{\"align\":\"left\"},\"paper_bgcolor\":\"white\",\"plot_bgcolor\":\"#E5ECF6\",\"polar\":{\"bgcolor\":\"#E5ECF6\",\"angularaxis\":{\"gridcolor\":\"white\",\"linecolor\":\"white\",\"ticks\":\"\"},\"radialaxis\":{\"gridcolor\":\"white\",\"linecolor\":\"white\",\"ticks\":\"\"}},\"ternary\":{\"bgcolor\":\"#E5ECF6\",\"aaxis\":{\"gridcolor\":\"white\",\"linecolor\":\"white\",\"ticks\":\"\"},\"baxis\":{\"gridcolor\":\"white\",\"linecolor\":\"white\",\"ticks\":\"\"},\"caxis\":{\"gridcolor\":\"white\",\"linecolor\":\"white\",\"ticks\":\"\"}},\"coloraxis\":{\"colorbar\":{\"outlinewidth\":0,\"ticks\":\"\"}},\"colorscale\":{\"sequential\":[[0.0,\"#0d0887\"],[0.1111111111111111,\"#46039f\"],[0.2222222222222222,\"#7201a8\"],[0.3333333333333333,\"#9c179e\"],[0.4444444444444444,\"#bd3786\"],[0.5555555555555556,\"#d8576b\"],[0.6666666666666666,\"#ed7953\"],[0.7777777777777778,\"#fb9f3a\"],[0.8888888888888888,\"#fdca26\"],[1.0,\"#f0f921\"]],\"sequentialminus\":[[0.0,\"#0d0887\"],[0.1111111111111111,\"#46039f\"],[0.2222222222222222,\"#7201a8\"],[0.3333333333333333,\"#9c179e\"],[0.4444444444444444,\"#bd3786\"],[0.5555555555555556,\"#d8576b\"],[0.6666666666666666,\"#ed7953\"],[0.7777777777777778,\"#fb9f3a\"],[0.8888888888888888,\"#fdca26\"],[1.0,\"#f0f921\"]],\"diverging\":[[0,\"#8e0152\"],[0.1,\"#c51b7d\"],[0.2,\"#de77ae\"],[0.3,\"#f1b6da\"],[0.4,\"#fde0ef\"],[0.5,\"#f7f7f7\"],[0.6,\"#e6f5d0\"],[0.7,\"#b8e186\"],[0.8,\"#7fbc41\"],[0.9,\"#4d9221\"],[1,\"#276419\"]]},\"xaxis\":{\"gridcolor\":\"white\",\"linecolor\":\"white\",\"ticks\":\"\",\"title\":{\"standoff\":15},\"zerolinecolor\":\"white\",\"automargin\":true,\"zerolinewidth\":2},\"yaxis\":{\"gridcolor\":\"white\",\"linecolor\":\"white\",\"ticks\":\"\",\"title\":{\"standoff\":15},\"zerolinecolor\":\"white\",\"automargin\":true,\"zerolinewidth\":2},\"scene\":{\"xaxis\":{\"backgroundcolor\":\"#E5ECF6\",\"gridcolor\":\"white\",\"linecolor\":\"white\",\"showbackground\":true,\"ticks\":\"\",\"zerolinecolor\":\"white\",\"gridwidth\":2},\"yaxis\":{\"backgroundcolor\":\"#E5ECF6\",\"gridcolor\":\"white\",\"linecolor\":\"white\",\"showbackground\":true,\"ticks\":\"\",\"zerolinecolor\":\"white\",\"gridwidth\":2},\"zaxis\":{\"backgroundcolor\":\"#E5ECF6\",\"gridcolor\":\"white\",\"linecolor\":\"white\",\"showbackground\":true,\"ticks\":\"\",\"zerolinecolor\":\"white\",\"gridwidth\":2}},\"shapedefaults\":{\"line\":{\"color\":\"#2a3f5f\"}},\"annotationdefaults\":{\"arrowcolor\":\"#2a3f5f\",\"arrowhead\":0,\"arrowwidth\":1},\"geo\":{\"bgcolor\":\"white\",\"landcolor\":\"#E5ECF6\",\"subunitcolor\":\"white\",\"showland\":true,\"showlakes\":true,\"lakecolor\":\"white\"},\"title\":{\"x\":0.05},\"mapbox\":{\"style\":\"light\"}}},\"annotations\":[{\"font\":{\"size\":9},\"showarrow\":false,\"text\":\"98.5%\",\"x\":-0.18,\"y\":101.49999999999999},{\"font\":{\"size\":10},\"showarrow\":false,\"text\":\"\\u003cb\\u003eDefault\\u003c\\u002fb\\u003e\",\"textangle\":-90,\"x\":-0.18,\"y\":110.49999999999999},{\"font\":{\"size\":9},\"showarrow\":false,\"text\":\"15.8%\",\"x\":0.18,\"y\":18.8},{\"font\":{\"size\":10},\"showarrow\":false,\"text\":\"\\u003cb\\u003eJailbreak\\u003c\\u002fb\\u003e\",\"textangle\":-90,\"x\":0.18,\"y\":28.8},{\"font\":{\"size\":9},\"showarrow\":false,\"text\":\"99.3%\",\"x\":0.8200000000000001,\"y\":102.3},{\"font\":{\"size\":10},\"showarrow\":false,\"text\":\"\\u003cb\\u003eDefault\\u003c\\u002fb\\u003e\",\"textangle\":-90,\"x\":0.8200000000000001,\"y\":111.3},{\"font\":{\"size\":9},\"showarrow\":false,\"text\":\"16.6%\",\"x\":1.18,\"y\":19.599999999999998},{\"font\":{\"size\":10},\"showarrow\":false,\"text\":\"\\u003cb\\u003eJailbreak\\u003c\\u002fb\\u003e\",\"textangle\":-90,\"x\":1.18,\"y\":29.599999999999998},{\"font\":{\"size\":9},\"showarrow\":false,\"text\":\"98.8%\",\"x\":1.82,\"y\":101.8},{\"font\":{\"size\":10},\"showarrow\":false,\"text\":\"\\u003cb\\u003eDefault\\u003c\\u002fb\\u003e\",\"textangle\":-90,\"x\":1.82,\"y\":110.8},{\"font\":{\"size\":9},\"showarrow\":false,\"text\":\"16.7%\",\"x\":2.18,\"y\":19.700000000000003},{\"font\":{\"size\":10},\"showarrow\":false,\"text\":\"\\u003cb\\u003eJailbreak\\u003c\\u002fb\\u003e\",\"textangle\":-90,\"x\":2.18,\"y\":29.700000000000003},{\"font\":{\"size\":9},\"showarrow\":false,\"text\":\"98.9%\",\"x\":2.82,\"y\":101.9},{\"font\":{\"size\":10},\"showarrow\":false,\"text\":\"\\u003cb\\u003eDefault\\u003c\\u002fb\\u003e\",\"textangle\":-90,\"x\":2.82,\"y\":110.9},{\"font\":{\"size\":9},\"showarrow\":false,\"text\":\"22.3%\",\"x\":3.18,\"y\":25.300000000000004},{\"font\":{\"size\":10},\"showarrow\":false,\"text\":\"\\u003cb\\u003eJailbreak\\u003c\\u002fb\\u003e\",\"textangle\":-90,\"x\":3.18,\"y\":35.300000000000004},{\"font\":{\"size\":9},\"showarrow\":false,\"text\":\"99.4%\",\"x\":3.82,\"y\":102.39999999999999},{\"font\":{\"size\":10},\"showarrow\":false,\"text\":\"\\u003cb\\u003eDefault\\u003c\\u002fb\\u003e\",\"textangle\":-90,\"x\":3.82,\"y\":111.39999999999999},{\"font\":{\"size\":9},\"showarrow\":false,\"text\":\"28.8%\",\"x\":4.18,\"y\":31.8},{\"font\":{\"size\":10},\"showarrow\":false,\"text\":\"\\u003cb\\u003eJailbreak\\u003c\\u002fb\\u003e\",\"textangle\":-90,\"x\":4.18,\"y\":41.8},{\"font\":{\"size\":9},\"showarrow\":false,\"text\":\"99.0%\",\"x\":4.82,\"y\":102.0},{\"font\":{\"size\":10},\"showarrow\":false,\"text\":\"\\u003cb\\u003eDefault\\u003c\\u002fb\\u003e\",\"textangle\":-90,\"x\":4.82,\"y\":111.0},{\"font\":{\"size\":9},\"showarrow\":false,\"text\":\"31.4%\",\"x\":5.18,\"y\":34.4},{\"font\":{\"size\":10},\"showarrow\":false,\"text\":\"\\u003cb\\u003eJailbreak\\u003c\\u002fb\\u003e\",\"textangle\":-90,\"x\":5.18,\"y\":44.4},{\"font\":{\"size\":9},\"showarrow\":false,\"text\":\"99.1%\",\"x\":5.82,\"y\":102.09999999999998},{\"font\":{\"size\":10},\"showarrow\":false,\"text\":\"\\u003cb\\u003eDefault\\u003c\\u002fb\\u003e\",\"textangle\":-90,\"x\":5.82,\"y\":111.09999999999998},{\"font\":{\"size\":9},\"showarrow\":false,\"text\":\"33.4%\",\"x\":6.18,\"y\":36.4},{\"font\":{\"size\":10},\"showarrow\":false,\"text\":\"\\u003cb\\u003eJailbreak\\u003c\\u002fb\\u003e\",\"textangle\":-90,\"x\":6.18,\"y\":46.4},{\"font\":{\"size\":9},\"showarrow\":false,\"text\":\"99.1%\",\"x\":6.82,\"y\":102.1},{\"font\":{\"size\":10},\"showarrow\":false,\"text\":\"\\u003cb\\u003eDefault\\u003c\\u002fb\\u003e\",\"textangle\":-90,\"x\":6.82,\"y\":111.1},{\"font\":{\"size\":9},\"showarrow\":false,\"text\":\"37.2%\",\"x\":7.18,\"y\":40.2},{\"font\":{\"size\":10},\"showarrow\":false,\"text\":\"\\u003cb\\u003eJailbreak\\u003c\\u002fb\\u003e\",\"textangle\":-90,\"x\":7.18,\"y\":50.2},{\"font\":{\"size\":9},\"showarrow\":false,\"text\":\"99.7%\",\"x\":7.82,\"y\":102.7},{\"font\":{\"size\":10},\"showarrow\":false,\"text\":\"\\u003cb\\u003eDefault\\u003c\\u002fb\\u003e\",\"textangle\":-90,\"x\":7.82,\"y\":111.7},{\"font\":{\"size\":9},\"showarrow\":false,\"text\":\"44.2%\",\"x\":8.18,\"y\":47.199999999999996},{\"font\":{\"size\":10},\"showarrow\":false,\"text\":\"\\u003cb\\u003eJailbreak\\u003c\\u002fb\\u003e\",\"textangle\":-90,\"x\":8.18,\"y\":57.199999999999996},{\"font\":{\"size\":9},\"showarrow\":false,\"text\":\"99.5%\",\"x\":8.82,\"y\":102.49999999999999},{\"font\":{\"size\":10},\"showarrow\":false,\"text\":\"\\u003cb\\u003eDefault\\u003c\\u002fb\\u003e\",\"textangle\":-90,\"x\":8.82,\"y\":111.49999999999999},{\"font\":{\"size\":9},\"showarrow\":false,\"text\":\"57.2%\",\"x\":9.18,\"y\":60.2},{\"font\":{\"size\":10},\"showarrow\":false,\"text\":\"\\u003cb\\u003eJailbreak\\u003c\\u002fb\\u003e\",\"textangle\":-90,\"x\":9.18,\"y\":70.2},{\"font\":{\"size\":9},\"showarrow\":false,\"text\":\"99.7%\",\"x\":9.82,\"y\":102.7},{\"font\":{\"size\":10},\"showarrow\":false,\"text\":\"\\u003cb\\u003eDefault\\u003c\\u002fb\\u003e\",\"textangle\":-90,\"x\":9.82,\"y\":111.7},{\"font\":{\"size\":9},\"showarrow\":false,\"text\":\"72.7%\",\"x\":10.18,\"y\":75.7},{\"font\":{\"size\":10},\"showarrow\":false,\"text\":\"\\u003cb\\u003eJailbreak\\u003c\\u002fb\\u003e\",\"textangle\":-90,\"x\":10.18,\"y\":85.7}],\"title\":{\"subtitle\":{\"text\":\"Qwen 3 32B, Layer 32\"},\"text\":\"Other Responses with Persona-based Jailbreaks when Steered Towards the Assistant\"},\"xaxis\":{\"title\":{\"text\":\"Role-playing PC1 Steering Coefficient\"},\"tickmode\":\"array\",\"tickvals\":[0,1,2,3,4,5,6,7,8,9,10],\"ticktext\":[\"50.0\",\"25.0\",\"Unsteered\",\"-25.0\",\"-50.0\",\"-75.0\",\"-100.0\",\"-125.0\",\"-150.0\",\"-175.0\",\"-200.0\"],\"showgrid\":true,\"gridcolor\":\"lightgray\",\"range\":[-0.8,10.8]},\"yaxis\":{\"title\":{\"text\":\"Percentage of Responses\"},\"range\":[0,119],\"showgrid\":true,\"gridcolor\":\"lightgray\"},\"legend\":{\"orientation\":\"h\",\"y\":1.02,\"x\":1.0,\"xanchor\":\"right\",\"yanchor\":\"bottom\"},\"barmode\":\"stack\",\"width\":1400,\"height\":600,\"bargap\":0.25},                        {\"responsive\": true}                    ).then(function(){\n",
       "                            \n",
       "var gd = document.getElementById('8f9d4607-29ee-4fa1-a3f2-a64798842ed6');\n",
       "var x = new MutationObserver(function (mutations, observer) {{\n",
       "        var display = window.getComputedStyle(gd).display;\n",
       "        if (!display || display === 'none') {{\n",
       "            console.log([gd, 'removed!']);\n",
       "            Plotly.purge(gd);\n",
       "            observer.disconnect();\n",
       "        }}\n",
       "}});\n",
       "\n",
       "// Listen for the removal of the full notebook cells\n",
       "var notebookContainer = gd.closest('#notebook-container');\n",
       "if (notebookContainer) {{\n",
       "    x.observe(notebookContainer, {childList: true});\n",
       "}}\n",
       "\n",
       "// Listen for the clearing of the current output cell\n",
       "var outputEl = gd.closest('.output');\n",
       "if (outputEl) {{\n",
       "    x.observe(outputEl, {childList: true});\n",
       "}}\n",
       "\n",
       "                        })                };                });            </script>        </div>"
      ]
     },
     "metadata": {},
     "output_type": "display_data"
    }
   ],
   "source": [
    "# order & positions\n",
    "centers = np.arange(len(magnitudes))\n",
    "dx = 0.18\n",
    "x_nojb = centers - dx\n",
    "x_jb   = centers + dx\n",
    "BAR_WIDTH = 0.34\n",
    "\n",
    "# Helper: pivot arrays (rows=magnitudes, cols=[No JB, JB]) for a given label\n",
    "def pivot_pct_other(df, label):\n",
    "    tbl = (df[df[\"score_label\"]==label]\n",
    "           .pivot_table(index=\"magnitude\", columns=\"jailbreak\",\n",
    "                        values=\"pct\", aggfunc=\"first\", fill_value=0.0)\n",
    "           .reindex(index=magnitudes, columns=[\"No Jailbreak\",\"Jailbreak\"], fill_value=0.0))\n",
    "    return tbl.values\n",
    "\n",
    "def pivot_counts_other(df, label, which=\"count\"):\n",
    "    tbl = (df[df[\"score_label\"]==label]\n",
    "           .pivot_table(index=\"magnitude\", columns=\"jailbreak\",\n",
    "                        values=which, aggfunc=\"first\", fill_value=0)\n",
    "           .reindex(index=magnitudes, columns=[\"No Jailbreak\",\"Jailbreak\"], fill_value=0))\n",
    "    return tbl.values\n",
    "\n",
    "# Build arrays for every \"other\" label\n",
    "Y_map, C_map, T_map = {}, {}, {}\n",
    "for lab in OTHER_LABELS:\n",
    "    Y_map[lab] = pivot_pct_other(tidy_other, lab)\n",
    "    C_map[lab] = pivot_counts_other(tidy_other, lab, \"count\")\n",
    "    T_map[lab] = pivot_counts_other(tidy_other, lab, \"total\")\n",
    "\n",
    "fig_other = go.Figure()\n",
    "\n",
    "# Left bar (No JB): stack all OTHER_LABELS\n",
    "for lab in OTHER_LABELS:\n",
    "    Y = Y_map[lab]\n",
    "    C = C_map[lab]\n",
    "    T = T_map[lab]\n",
    "    fig_other.add_trace(go.Bar(\n",
    "        x=x_nojb, y=Y[:, 0],\n",
    "        name=other_label_map[lab],\n",
    "        legendgroup=other_label_map[lab],\n",
    "        marker_color=other_colors[lab],\n",
    "        width=BAR_WIDTH,\n",
    "        # text=[f\"{v:.1f}%\" if v >= 7.0 else \"\" for v in Y[:, 0]],\n",
    "        # textposition=\"inside\",\n",
    "        cliponaxis=False,\n",
    "        hovertemplate=(\"Magnitude: %{customdata[2]}<br>\"\n",
    "                       \"No Jailbreak — \"+other_label_map[lab]+\"<br>\"\n",
    "                       \"Pct: %{y:.1f}%<br>\"\n",
    "                       \"Count: %{customdata[0]} / %{customdata[1]}<extra></extra>\"),\n",
    "        customdata=np.column_stack([C[:, 0], T[:, 0], magnitudes]),\n",
    "    ))\n",
    "\n",
    "# Right bar (JB): stack all OTHER_LABELS (hide duplicate legend items)\n",
    "for lab in OTHER_LABELS:\n",
    "    Y = Y_map[lab]\n",
    "    C = C_map[lab]\n",
    "    T = T_map[lab]\n",
    "    fig_other.add_trace(go.Bar(\n",
    "        x=x_jb, y=Y[:, 1],\n",
    "        name=None, showlegend=False, legendgroup=other_label_map[lab],\n",
    "        marker_color=other_colors[lab],\n",
    "        width=BAR_WIDTH,\n",
    "        # text=[f\"{v:.1f}%\" if v >= 7.0 else \"\" for v in Y[:, 1]],\n",
    "        # textposition=\"inside\",\n",
    "        cliponaxis=False,\n",
    "        hovertemplate=(\"Magnitude: %{customdata[2]}<br>\"\n",
    "                       \"Jailbreak — \"+other_label_map[lab]+\"<br>\"\n",
    "                       \"Pct: %{y:.1f}%<br>\"\n",
    "                       \"Count: %{customdata[0]} / %{customdata[1]}<extra></extra>\"),\n",
    "        customdata=np.column_stack([C[:, 1], T[:, 1], magnitudes]),\n",
    "    ))\n",
    "\n",
    "# Annotations with sum percentages above each stacked pair\n",
    "tops_nojb = sum(Y_map[lab][:, 0] for lab in OTHER_LABELS)\n",
    "tops_jb   = sum(Y_map[lab][:, 1] for lab in OTHER_LABELS)\n",
    "for i in range(len(magnitudes)):\n",
    "    if tops_nojb[i] > 0:\n",
    "        fig_other.add_annotation(x=x_nojb[i], y=tops_nojb[i] + 3,\n",
    "                                 text=f\"{tops_nojb[i]:.1f}%\", showarrow=False, font=dict(size=9))\n",
    "        fig_other.add_annotation(x=x_nojb[i], y=tops_nojb[i] + 12,\n",
    "                                 text=\"<b>Default</b>\", showarrow=False, font=dict(size=10), textangle=270)\n",
    "    if tops_jb[i] > 0:\n",
    "        fig_other.add_annotation(x=x_jb[i], y=tops_jb[i] + 3,\n",
    "                                 text=f\"{tops_jb[i]:.1f}%\", showarrow=False, font=dict(size=9))\n",
    "        fig_other.add_annotation(x=x_jb[i], y=tops_jb[i] + 13,\n",
    "                                 text=\"<b>Jailbreak</b>\", showarrow=False, font=dict(size=10), textangle=270)\n",
    "\n",
    "fig_other.update_layout(\n",
    "    barmode=\"stack\",\n",
    "    width=1400, height=600,\n",
    "    title={\n",
    "        \"text\": \"Other Responses with Persona-based Jailbreaks when Steered Towards the Assistant\",\n",
    "        \"subtitle\": {\n",
    "            \"text\": subtitle,\n",
    "        }\n",
    "    },\n",
    "    xaxis=dict(\n",
    "        title=\"Role-playing PC1 Steering Coefficient\",\n",
    "        tickmode=\"array\",\n",
    "        tickvals=centers,\n",
    "        ticktext=magnitudes_tick,\n",
    "        showgrid=True, gridcolor=\"lightgray\",\n",
    "        range=[centers.min()-0.8, centers.max()+0.8],\n",
    "    ),\n",
    "    yaxis=dict(\n",
    "        title=\"Percentage of Responses\",\n",
    "        range=[0, 119],\n",
    "        showgrid=True, gridcolor=\"lightgray\"\n",
    "    ),\n",
    "    legend=dict(\n",
    "        orientation=\"h\", y=1.02, x=1.0, xanchor=\"right\", yanchor=\"bottom\"\n",
    "    ),\n",
    "    bargap=0.25,\n",
    ")\n",
    "\n",
    "fig_other.show()\n",
    "fig_other.write_html(f\"{out_dir}/jailbreak_other.html\")"
   ]
  },
  {
   "cell_type": "code",
   "execution_count": null,
   "id": "b6c119b0",
   "metadata": {},
   "outputs": [],
   "source": []
  }
 ],
 "metadata": {
  "kernelspec": {
   "display_name": ".venv",
   "language": "python",
   "name": "python3"
  },
  "language_info": {
   "codemirror_mode": {
    "name": "ipython",
    "version": 3
   },
   "file_extension": ".py",
   "mimetype": "text/x-python",
   "name": "python",
   "nbconvert_exporter": "python",
   "pygments_lexer": "ipython3",
   "version": "3.13.5"
  }
 },
 "nbformat": 4,
 "nbformat_minor": 5
}
