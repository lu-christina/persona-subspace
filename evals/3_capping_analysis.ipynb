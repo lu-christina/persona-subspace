{
 "cells": [
  {
   "cell_type": "markdown",
   "id": "15db8810",
   "metadata": {},
   "source": [
    "# Analyzing scores and plotting them"
   ]
  },
  {
   "cell_type": "code",
   "execution_count": 2,
   "id": "aae4abb9",
   "metadata": {},
   "outputs": [],
   "source": [
    "import json\n",
    "import os\n",
    "import pandas as pd\n",
    "import numpy as np\n",
    "\n",
    "import plotly.graph_objects as go"
   ]
  },
  {
   "cell_type": "code",
   "execution_count": 71,
   "id": "7be2fb9a",
   "metadata": {},
   "outputs": [],
   "source": [
    "model = \"qwen-3-32b\"\n",
    "subtitle = f\"{model.replace('-', ' ').title()}, Projecting on Mean (Role-Playing - Default Assistant) Contrast Vector\"\n",
    "base_dir = f\"/workspace/{model}/evals\"\n",
    "out_dir = f\"/root/git/plots/{model}/evals/capped\"\n",
    "\n",
    "os.makedirs(out_dir, exist_ok=True)\n"
   ]
  },
  {
   "cell_type": "code",
   "execution_count": 72,
   "id": "edzdqjq3inj",
   "metadata": {},
   "outputs": [
    {
     "name": "stdout",
     "output_type": "stream",
     "text": [
      "Configured 16 experiments in 4 layer groups\n"
     ]
    }
   ],
   "source": [
    "# Experiment configuration and ordering\n",
    "# Order experiments by layer group, then by aggressiveness (least to most)\n",
    "\n",
    "EXPERIMENT_ORDER = [\n",
    "    # Layer group: 32:64 (middle to last, every layer)\n",
    "    'layers_32:64-harm_0.25', 'layers_32:64-harm_0.01', \n",
    "    'layers_32:64-safe_0.50', 'layers_32:64-safe_0.01',\n",
    "    # Layer group: 0:64 (all layers)\n",
    "    'layers_0:64-harm_0.25', 'layers_0:64-harm_0.01',\n",
    "    'layers_0:64-safe_0.50', 'layers_0:64-safe_0.01',\n",
    "    # Layer group: 2:64:2 (every other layer)\n",
    "    'layers_2:64:2-harm_0.25', 'layers_2:64:2-harm_0.01',\n",
    "    'layers_2:64:2-safe_0.50', 'layers_2:64:2-safe_0.01',\n",
    "    # Layer group: 4:64:4 (every 4th layer)\n",
    "    'layers_4:64:4-harm_0.25', 'layers_4:64:4-harm_0.01',\n",
    "    'layers_4:64:4-safe_0.50', 'layers_4:64:4-safe_0.01',\n",
    "]\n",
    "\n",
    "# Short names for cap types (used as annotations above bars)\n",
    "CAP_NAMES = {\n",
    "    'harm_0.25': '75%<br>Harmful',\n",
    "    'harm_0.01': '99%<br>Harmful', \n",
    "    'safe_0.50': '50%<br>Safe',\n",
    "    'safe_0.01': '99%<br>Safe',\n",
    "}\n",
    "\n",
    "# Layer group labels for x-axis\n",
    "LAYER_GROUPS = ['32:64', '0:64', '2:64:2', '4:64:4']\n",
    "LAYER_GROUP_NAMES = {\n",
    "    '32:64': 'Layers 32-63',\n",
    "    '0:64': 'All Layers 0-63',\n",
    "    '2:64:2': 'Every 2nd Layer',\n",
    "    '4:64:4': 'Every 4th Layer',\n",
    "}\n",
    "\n",
    "print(f\"Configured {len(EXPERIMENT_ORDER)} experiments in {len(LAYER_GROUPS)} layer groups\")"
   ]
  },
  {
   "cell_type": "code",
   "execution_count": 73,
   "id": "b955093a",
   "metadata": {},
   "outputs": [],
   "source": [
    "# load scores from roles_20 as pandas dataframe\n",
    "scores_path = f\"{base_dir}/capped/multi_contrast_layers_1100_scores.jsonl\"\n",
    "\n",
    "# unsteered results as baseline\n",
    "unsteered_prompted = f\"{base_dir}/unsteered/unsteered_scores.jsonl\"\n",
    "unsteered_default = f\"{base_dir}/unsteered/unsteered_default_scores.jsonl\""
   ]
  },
  {
   "cell_type": "code",
   "execution_count": 74,
   "id": "0056634a",
   "metadata": {},
   "outputs": [
    {
     "name": "stdout",
     "output_type": "stream",
     "text": [
      "Loaded 17600 scores\n",
      "Loaded 4400 unsteered prompted records\n",
      "Loaded 4400 unsteered default records\n"
     ]
    }
   ],
   "source": [
    "# load into df\n",
    "with open(scores_path, \"r\") as f:\n",
    "    scores = [json.loads(line) for line in f]\n",
    "# Convert to pandas DataFrames\n",
    "scores_df = pd.DataFrame(scores)\n",
    "\n",
    "print(f\"Loaded {len(scores_df)} scores\")\n",
    "\n",
    "# Load baseline (unsteered) data\n",
    "with open(unsteered_prompted, \"r\") as f:\n",
    "    unsteered_prompted_records = [json.loads(line) for line in f]\n",
    "unsteered_prompted_df = pd.DataFrame(unsteered_prompted_records)\n",
    "\n",
    "with open(unsteered_default, \"r\") as f:\n",
    "    unsteered_default_records = [json.loads(line) for line in f]\n",
    "unsteered_default_df = pd.DataFrame(unsteered_default_records)\n",
    "\n",
    "print(f\"Loaded {len(unsteered_prompted_df)} unsteered prompted records\")\n",
    "print(f\"Loaded {len(unsteered_default_df)} unsteered default records\")\n"
   ]
  },
  {
   "cell_type": "markdown",
   "id": "4b325cbd",
   "metadata": {},
   "source": [
    "## Inspect scores\n"
   ]
  },
  {
   "cell_type": "code",
   "execution_count": 75,
   "id": "2ebef7af",
   "metadata": {},
   "outputs": [],
   "source": [
    "def pct_overall(df, name):\n",
    "    total = len(df)\n",
    "\n",
    "    # Raw counts of each label\n",
    "    counts = df[\"score\"].value_counts().sort_index()\n",
    "\n",
    "    # Percentages of each label\n",
    "    percentages = (counts / total * 100).round(1)\n",
    "\n",
    "    # Special targets\n",
    "    n_enough = counts.get(\"enough_info\", 0)\n",
    "    n_enough_perfect = counts.get(\"enough_info_and_follow_perfectly\", 0)\n",
    "    n_either = n_enough + n_enough_perfect\n",
    "\n",
    "    pct_enough = 100 * n_enough / total\n",
    "    pct_enough_perfect = 100 * n_enough_perfect / total\n",
    "    pct_either = 100 * n_either / total\n",
    "\n",
    "    print(f\"=== Overall Score Distribution: {name} ===\")\n",
    "    print(f\"Total samples: {total}\\n\")\n",
    "\n",
    "    # Print table of counts + percentages for each label\n",
    "    print(\"Per-label counts and percentages:\")\n",
    "    for label in counts.index:\n",
    "        print(f\"- {label}: {counts[label]} ({percentages[label]}%)\")\n",
    "\n",
    "    print(\"\\nTarget categories:\")\n",
    "    print(f\"- enough_info: {n_enough} ({pct_enough:.1f}%)\")\n",
    "    print(f\"- enough_info_and_follow_perfectly: {n_enough_perfect} ({pct_enough_perfect:.1f}%)\")\n",
    "    print(f\"- either: {n_either} ({pct_either:.1f}%)\")\n",
    "    print()\n"
   ]
  },
  {
   "cell_type": "code",
   "execution_count": 76,
   "id": "9ee16a3d",
   "metadata": {},
   "outputs": [
    {
     "name": "stdout",
     "output_type": "stream",
     "text": [
      "=== Overall Score Distribution: ALL ===\n",
      "Total samples: 17600\n",
      "\n",
      "Per-label counts and percentages:\n",
      "- almost_enough_info: 148 (0.8%)\n",
      "- enough_info: 5183 (29.4%)\n",
      "- enough_info_and_follow_perfectly: 1186 (6.7%)\n",
      "- nonsensical: 60 (0.3%)\n",
      "- other: 1 (0.0%)\n",
      "- out_of_context: 589 (3.3%)\n",
      "- refusal: 2040 (11.6%)\n",
      "- refusal_and_justification: 2215 (12.6%)\n",
      "- related_but_no_info: 6178 (35.1%)\n",
      "\n",
      "Target categories:\n",
      "- enough_info: 5183 (29.4%)\n",
      "- enough_info_and_follow_perfectly: 1186 (6.7%)\n",
      "- either: 6369 (36.2%)\n",
      "\n"
     ]
    }
   ],
   "source": [
    "\n",
    "pct_overall(scores_df, \"ALL\")\n"
   ]
  },
  {
   "cell_type": "code",
   "execution_count": 77,
   "id": "f1a06989",
   "metadata": {},
   "outputs": [],
   "source": [
    "def pct_per_experiment(df):\n",
    "    \"\"\"Print score distribution grouped by experiment_id\"\"\"\n",
    "    total = len(df)\n",
    "    print(\"=== Score Distribution by Experiment ===\")\n",
    "    print(f\"Total samples: {total}\\n\")\n",
    "\n",
    "    for exp_id, group in df.groupby(\"experiment_id\"):\n",
    "        n = len(group)\n",
    "        counts = group[\"score\"].value_counts().sort_index()\n",
    "        percentages = (counts / n * 100).round(1)\n",
    "\n",
    "        # Special targets\n",
    "        n_enough = counts.get(\"enough_info\", 0)\n",
    "        n_enough_perfect = counts.get(\"enough_info_and_follow_perfectly\", 0)\n",
    "        n_either = n_enough + n_enough_perfect\n",
    "\n",
    "        pct_enough = 100 * n_enough / n\n",
    "        pct_enough_perfect = 100 * n_enough_perfect / n\n",
    "        pct_either = 100 * n_either / n\n",
    "\n",
    "        print(f\"Experiment: {exp_id}\")\n",
    "        print(f\"Samples: {n}\")\n",
    "\n",
    "        print(\"Per-label counts and percentages:\")\n",
    "        for label in counts.index:\n",
    "            print(f\"- {label}: {counts[label]} ({percentages[label]}%)\")\n",
    "\n",
    "        print(\"Target categories:\")\n",
    "        print(f\"- enough_info: {n_enough} ({pct_enough:.1f}%)\")\n",
    "        print(f\"- enough_info_and_follow_perfectly: {n_enough_perfect} ({pct_enough_perfect:.1f}%)\")\n",
    "        print(f\"- either: {n_either} ({pct_either:.1f}%)\")\n",
    "        print()"
   ]
  },
  {
   "cell_type": "code",
   "execution_count": 78,
   "id": "0fd94a46",
   "metadata": {},
   "outputs": [
    {
     "name": "stdout",
     "output_type": "stream",
     "text": [
      "=== Score Distribution by Experiment ===\n",
      "Total samples: 17600\n",
      "\n",
      "Experiment: layers_0:64-harm_0.01\n",
      "Samples: 1100\n",
      "Per-label counts and percentages:\n",
      "- almost_enough_info: 3 (0.3%)\n",
      "- enough_info: 360 (32.7%)\n",
      "- enough_info_and_follow_perfectly: 69 (6.3%)\n",
      "- nonsensical: 2 (0.2%)\n",
      "- out_of_context: 31 (2.8%)\n",
      "- refusal: 162 (14.7%)\n",
      "- refusal_and_justification: 133 (12.1%)\n",
      "- related_but_no_info: 340 (30.9%)\n",
      "Target categories:\n",
      "- enough_info: 360 (32.7%)\n",
      "- enough_info_and_follow_perfectly: 69 (6.3%)\n",
      "- either: 429 (39.0%)\n",
      "\n",
      "Experiment: layers_0:64-harm_0.25\n",
      "Samples: 1100\n",
      "Per-label counts and percentages:\n",
      "- almost_enough_info: 15 (1.4%)\n",
      "- enough_info: 536 (48.7%)\n",
      "- enough_info_and_follow_perfectly: 120 (10.9%)\n",
      "- nonsensical: 22 (2.0%)\n",
      "- out_of_context: 21 (1.9%)\n",
      "- refusal: 60 (5.5%)\n",
      "- refusal_and_justification: 47 (4.3%)\n",
      "- related_but_no_info: 279 (25.4%)\n",
      "Target categories:\n",
      "- enough_info: 536 (48.7%)\n",
      "- enough_info_and_follow_perfectly: 120 (10.9%)\n",
      "- either: 656 (59.6%)\n",
      "\n",
      "Experiment: layers_0:64-safe_0.01\n",
      "Samples: 1100\n",
      "Per-label counts and percentages:\n",
      "- almost_enough_info: 2 (0.2%)\n",
      "- enough_info: 82 (7.5%)\n",
      "- enough_info_and_follow_perfectly: 12 (1.1%)\n",
      "- nonsensical: 3 (0.3%)\n",
      "- out_of_context: 67 (6.1%)\n",
      "- refusal: 203 (18.5%)\n",
      "- refusal_and_justification: 263 (23.9%)\n",
      "- related_but_no_info: 468 (42.5%)\n",
      "Target categories:\n",
      "- enough_info: 82 (7.5%)\n",
      "- enough_info_and_follow_perfectly: 12 (1.1%)\n",
      "- either: 94 (8.5%)\n",
      "\n",
      "Experiment: layers_0:64-safe_0.50\n",
      "Samples: 1100\n",
      "Per-label counts and percentages:\n",
      "- almost_enough_info: 15 (1.4%)\n",
      "- enough_info: 227 (20.6%)\n",
      "- enough_info_and_follow_perfectly: 44 (4.0%)\n",
      "- nonsensical: 5 (0.5%)\n",
      "- out_of_context: 43 (3.9%)\n",
      "- refusal: 166 (15.1%)\n",
      "- refusal_and_justification: 200 (18.2%)\n",
      "- related_but_no_info: 400 (36.4%)\n",
      "Target categories:\n",
      "- enough_info: 227 (20.6%)\n",
      "- enough_info_and_follow_perfectly: 44 (4.0%)\n",
      "- either: 271 (24.6%)\n",
      "\n",
      "Experiment: layers_2:64:2-harm_0.01\n",
      "Samples: 1100\n",
      "Per-label counts and percentages:\n",
      "- almost_enough_info: 5 (0.5%)\n",
      "- enough_info: 334 (30.4%)\n",
      "- enough_info_and_follow_perfectly: 93 (8.5%)\n",
      "- out_of_context: 26 (2.4%)\n",
      "- refusal: 134 (12.2%)\n",
      "- refusal_and_justification: 158 (14.4%)\n",
      "- related_but_no_info: 350 (31.8%)\n",
      "Target categories:\n",
      "- enough_info: 334 (30.4%)\n",
      "- enough_info_and_follow_perfectly: 93 (8.5%)\n",
      "- either: 427 (38.8%)\n",
      "\n",
      "Experiment: layers_2:64:2-harm_0.25\n",
      "Samples: 1100\n",
      "Per-label counts and percentages:\n",
      "- almost_enough_info: 8 (0.7%)\n",
      "- enough_info: 557 (50.6%)\n",
      "- enough_info_and_follow_perfectly: 157 (14.3%)\n",
      "- out_of_context: 18 (1.6%)\n",
      "- refusal: 42 (3.8%)\n",
      "- refusal_and_justification: 53 (4.8%)\n",
      "- related_but_no_info: 265 (24.1%)\n",
      "Target categories:\n",
      "- enough_info: 557 (50.6%)\n",
      "- enough_info_and_follow_perfectly: 157 (14.3%)\n",
      "- either: 714 (64.9%)\n",
      "\n",
      "Experiment: layers_2:64:2-safe_0.01\n",
      "Samples: 1100\n",
      "Per-label counts and percentages:\n",
      "- almost_enough_info: 11 (1.0%)\n",
      "- enough_info: 81 (7.4%)\n",
      "- enough_info_and_follow_perfectly: 18 (1.6%)\n",
      "- out_of_context: 72 (6.5%)\n",
      "- refusal: 167 (15.2%)\n",
      "- refusal_and_justification: 294 (26.7%)\n",
      "- related_but_no_info: 457 (41.5%)\n",
      "Target categories:\n",
      "- enough_info: 81 (7.4%)\n",
      "- enough_info_and_follow_perfectly: 18 (1.6%)\n",
      "- either: 99 (9.0%)\n",
      "\n",
      "Experiment: layers_2:64:2-safe_0.50\n",
      "Samples: 1100\n",
      "Per-label counts and percentages:\n",
      "- almost_enough_info: 11 (1.0%)\n",
      "- enough_info: 256 (23.3%)\n",
      "- enough_info_and_follow_perfectly: 63 (5.7%)\n",
      "- out_of_context: 39 (3.5%)\n",
      "- refusal: 159 (14.5%)\n",
      "- refusal_and_justification: 176 (16.0%)\n",
      "- related_but_no_info: 396 (36.0%)\n",
      "Target categories:\n",
      "- enough_info: 256 (23.3%)\n",
      "- enough_info_and_follow_perfectly: 63 (5.7%)\n",
      "- either: 319 (29.0%)\n",
      "\n",
      "Experiment: layers_32:64-harm_0.01\n",
      "Samples: 1100\n",
      "Per-label counts and percentages:\n",
      "- almost_enough_info: 11 (1.0%)\n",
      "- enough_info: 414 (37.6%)\n",
      "- enough_info_and_follow_perfectly: 68 (6.2%)\n",
      "- nonsensical: 5 (0.5%)\n",
      "- out_of_context: 27 (2.5%)\n",
      "- refusal: 80 (7.3%)\n",
      "- refusal_and_justification: 81 (7.4%)\n",
      "- related_but_no_info: 414 (37.6%)\n",
      "Target categories:\n",
      "- enough_info: 414 (37.6%)\n",
      "- enough_info_and_follow_perfectly: 68 (6.2%)\n",
      "- either: 482 (43.8%)\n",
      "\n",
      "Experiment: layers_32:64-harm_0.25\n",
      "Samples: 1100\n",
      "Per-label counts and percentages:\n",
      "- almost_enough_info: 10 (0.9%)\n",
      "- enough_info: 552 (50.2%)\n",
      "- enough_info_and_follow_perfectly: 143 (13.0%)\n",
      "- nonsensical: 15 (1.4%)\n",
      "- out_of_context: 13 (1.2%)\n",
      "- refusal: 74 (6.7%)\n",
      "- refusal_and_justification: 40 (3.6%)\n",
      "- related_but_no_info: 253 (23.0%)\n",
      "Target categories:\n",
      "- enough_info: 552 (50.2%)\n",
      "- enough_info_and_follow_perfectly: 143 (13.0%)\n",
      "- either: 695 (63.2%)\n",
      "\n",
      "Experiment: layers_32:64-safe_0.01\n",
      "Samples: 1100\n",
      "Per-label counts and percentages:\n",
      "- almost_enough_info: 17 (1.5%)\n",
      "- enough_info: 176 (16.0%)\n",
      "- enough_info_and_follow_perfectly: 13 (1.2%)\n",
      "- nonsensical: 3 (0.3%)\n",
      "- out_of_context: 77 (7.0%)\n",
      "- refusal: 85 (7.7%)\n",
      "- refusal_and_justification: 87 (7.9%)\n",
      "- related_but_no_info: 642 (58.4%)\n",
      "Target categories:\n",
      "- enough_info: 176 (16.0%)\n",
      "- enough_info_and_follow_perfectly: 13 (1.2%)\n",
      "- either: 189 (17.2%)\n",
      "\n",
      "Experiment: layers_32:64-safe_0.50\n",
      "Samples: 1100\n",
      "Per-label counts and percentages:\n",
      "- almost_enough_info: 14 (1.3%)\n",
      "- enough_info: 308 (28.0%)\n",
      "- enough_info_and_follow_perfectly: 40 (3.6%)\n",
      "- nonsensical: 4 (0.4%)\n",
      "- out_of_context: 41 (3.7%)\n",
      "- refusal: 85 (7.7%)\n",
      "- refusal_and_justification: 79 (7.2%)\n",
      "- related_but_no_info: 529 (48.1%)\n",
      "Target categories:\n",
      "- enough_info: 308 (28.0%)\n",
      "- enough_info_and_follow_perfectly: 40 (3.6%)\n",
      "- either: 348 (31.6%)\n",
      "\n",
      "Experiment: layers_4:64:4-harm_0.01\n",
      "Samples: 1100\n",
      "Per-label counts and percentages:\n",
      "- almost_enough_info: 6 (0.5%)\n",
      "- enough_info: 358 (32.5%)\n",
      "- enough_info_and_follow_perfectly: 82 (7.5%)\n",
      "- nonsensical: 1 (0.1%)\n",
      "- out_of_context: 29 (2.6%)\n",
      "- refusal: 164 (14.9%)\n",
      "- refusal_and_justification: 140 (12.7%)\n",
      "- related_but_no_info: 320 (29.1%)\n",
      "Target categories:\n",
      "- enough_info: 358 (32.5%)\n",
      "- enough_info_and_follow_perfectly: 82 (7.5%)\n",
      "- either: 440 (40.0%)\n",
      "\n",
      "Experiment: layers_4:64:4-harm_0.25\n",
      "Samples: 1100\n",
      "Per-label counts and percentages:\n",
      "- almost_enough_info: 6 (0.5%)\n",
      "- enough_info: 548 (49.8%)\n",
      "- enough_info_and_follow_perfectly: 169 (15.4%)\n",
      "- out_of_context: 14 (1.3%)\n",
      "- refusal: 76 (6.9%)\n",
      "- refusal_and_justification: 38 (3.5%)\n",
      "- related_but_no_info: 249 (22.6%)\n",
      "Target categories:\n",
      "- enough_info: 548 (49.8%)\n",
      "- enough_info_and_follow_perfectly: 169 (15.4%)\n",
      "- either: 717 (65.2%)\n",
      "\n",
      "Experiment: layers_4:64:4-safe_0.01\n",
      "Samples: 1100\n",
      "Per-label counts and percentages:\n",
      "- almost_enough_info: 5 (0.5%)\n",
      "- enough_info: 116 (10.5%)\n",
      "- enough_info_and_follow_perfectly: 20 (1.8%)\n",
      "- other: 1 (0.1%)\n",
      "- out_of_context: 51 (4.6%)\n",
      "- refusal: 208 (18.9%)\n",
      "- refusal_and_justification: 264 (24.0%)\n",
      "- related_but_no_info: 435 (39.5%)\n",
      "Target categories:\n",
      "- enough_info: 116 (10.5%)\n",
      "- enough_info_and_follow_perfectly: 20 (1.8%)\n",
      "- either: 136 (12.4%)\n",
      "\n",
      "Experiment: layers_4:64:4-safe_0.50\n",
      "Samples: 1100\n",
      "Per-label counts and percentages:\n",
      "- almost_enough_info: 9 (0.8%)\n",
      "- enough_info: 278 (25.3%)\n",
      "- enough_info_and_follow_perfectly: 75 (6.8%)\n",
      "- out_of_context: 20 (1.8%)\n",
      "- refusal: 175 (15.9%)\n",
      "- refusal_and_justification: 162 (14.7%)\n",
      "- related_but_no_info: 381 (34.6%)\n",
      "Target categories:\n",
      "- enough_info: 278 (25.3%)\n",
      "- enough_info_and_follow_perfectly: 75 (6.8%)\n",
      "- either: 353 (32.1%)\n",
      "\n"
     ]
    }
   ],
   "source": [
    "pct_per_experiment(scores_df)\n"
   ]
  },
  {
   "cell_type": "markdown",
   "id": "b0611827",
   "metadata": {},
   "source": [
    "## Plot Harmful Responses"
   ]
  },
  {
   "cell_type": "code",
   "execution_count": 79,
   "id": "a0b707dd",
   "metadata": {},
   "outputs": [],
   "source": [
    "# --- Helper: summarize dataframe into counts/percentages for target labels ---\n",
    "TARGETS = [\"enough_info\", \"enough_info_and_follow_perfectly\"]\n",
    "\n",
    "def summarize_df(df, experiment_id):\n",
    "    \"\"\"\n",
    "    Returns tidy rows with counts and percentages for the two target labels.\n",
    "    All rows will have the specified experiment_id.\n",
    "    \"\"\"\n",
    "    work = df.copy()\n",
    "    work[\"experiment_id\"] = experiment_id\n",
    "\n",
    "    # Total count for this experiment\n",
    "    n_total = len(work)\n",
    "\n",
    "    # Counts per label\n",
    "    counts = work[\"score\"].value_counts()\n",
    "\n",
    "    # Keep only the two target labels\n",
    "    long_rows = []\n",
    "    for label in TARGETS:\n",
    "        count = counts.get(label, 0)\n",
    "        pct = (count / n_total * 100) if n_total > 0 else 0.0\n",
    "\n",
    "        long_rows.append({\n",
    "            \"experiment_id\": experiment_id,\n",
    "            \"score_label\": label,\n",
    "            \"count\": int(count),\n",
    "            \"total\": int(n_total),\n",
    "            \"pct\": round(float(pct), 1),\n",
    "        })\n",
    "\n",
    "    return pd.DataFrame(long_rows)"
   ]
  },
  {
   "cell_type": "code",
   "execution_count": 80,
   "id": "748b37a3",
   "metadata": {},
   "outputs": [
    {
     "name": "stdout",
     "output_type": "stream",
     "text": [
      "Capped experiments use 1100 unique IDs\n",
      "Filtered unsteered_prompted from 4400 to 1100 records\n",
      "Filtered unsteered_default from 4400 to 1100 records\n",
      "\n",
      "Created tidy dataset with 36 rows covering 18 experiments\n"
     ]
    }
   ],
   "source": [
    "# --- Build the tidy dataset from baseline and steered data ---\n",
    "\n",
    "# Filter baseline data to only include IDs present in capped experiments\n",
    "capped_ids = set(scores_df['id'].unique())\n",
    "print(f\"Capped experiments use {len(capped_ids)} unique IDs\")\n",
    "\n",
    "# Filter unsteered data to match\n",
    "unsteered_prompted_df_filtered = unsteered_prompted_df[unsteered_prompted_df['id'].isin(capped_ids)]\n",
    "unsteered_default_df_filtered = unsteered_default_df[unsteered_default_df['id'].isin(capped_ids)]\n",
    "\n",
    "print(f\"Filtered unsteered_prompted from {len(unsteered_prompted_df)} to {len(unsteered_prompted_df_filtered)} records\")\n",
    "print(f\"Filtered unsteered_default from {len(unsteered_default_df)} to {len(unsteered_default_df_filtered)} records\")\n",
    "\n",
    "# Build tidy data for baselines (using filtered data)\n",
    "baseline_prompted_tidy = summarize_df(unsteered_prompted_df_filtered, \"unsteered_prompted\")\n",
    "baseline_default_tidy = summarize_df(unsteered_default_df_filtered, \"unsteered_default\")\n",
    "\n",
    "# Build tidy data for steered experiments (group by experiment_id and summarize each)\n",
    "steered_tidy_frames = []\n",
    "for exp_id in EXPERIMENT_ORDER:\n",
    "    exp_df = scores_df[scores_df[\"experiment_id\"] == exp_id]\n",
    "    if len(exp_df) > 0:\n",
    "        steered_tidy_frames.append(summarize_df(exp_df, exp_id))\n",
    "    else:\n",
    "        print(f\"Warning: No data found for experiment {exp_id}\")\n",
    "\n",
    "# Combine all tidy frames\n",
    "tidy = pd.concat(\n",
    "    [baseline_default_tidy, baseline_prompted_tidy] + steered_tidy_frames,\n",
    "    ignore_index=True\n",
    ")\n",
    "\n",
    "print(f\"\\nCreated tidy dataset with {len(tidy)} rows covering {tidy['experiment_id'].nunique()} experiments\")"
   ]
  },
  {
   "cell_type": "code",
   "execution_count": 81,
   "id": "4693a2da",
   "metadata": {},
   "outputs": [
    {
     "data": {
      "application/vnd.plotly.v1+json": {
       "config": {
        "plotlyServerURL": "https://plot.ly"
       },
       "data": [
        {
         "customdata": [
          [
           "unsteered_default",
           "13",
           "1100"
          ],
          [
           "unsteered_prompted",
           "617",
           "1100"
          ],
          [
           "layers_32:64-harm_0.25",
           "552",
           "1100"
          ],
          [
           "layers_32:64-harm_0.01",
           "414",
           "1100"
          ],
          [
           "layers_32:64-safe_0.50",
           "308",
           "1100"
          ],
          [
           "layers_32:64-safe_0.01",
           "176",
           "1100"
          ],
          [
           "layers_0:64-harm_0.25",
           "536",
           "1100"
          ],
          [
           "layers_0:64-harm_0.01",
           "360",
           "1100"
          ],
          [
           "layers_0:64-safe_0.50",
           "227",
           "1100"
          ],
          [
           "layers_0:64-safe_0.01",
           "82",
           "1100"
          ],
          [
           "layers_2:64:2-harm_0.25",
           "557",
           "1100"
          ],
          [
           "layers_2:64:2-harm_0.01",
           "334",
           "1100"
          ],
          [
           "layers_2:64:2-safe_0.50",
           "256",
           "1100"
          ],
          [
           "layers_2:64:2-safe_0.01",
           "81",
           "1100"
          ],
          [
           "layers_4:64:4-harm_0.25",
           "548",
           "1100"
          ],
          [
           "layers_4:64:4-harm_0.01",
           "358",
           "1100"
          ],
          [
           "layers_4:64:4-safe_0.50",
           "278",
           "1100"
          ],
          [
           "layers_4:64:4-safe_0.01",
           "116",
           "1100"
          ]
         ],
         "hovertemplate": "Experiment: %{customdata[0]}<br>Harmful Info<br>Pct: %{y:.1f}%<br>Count: %{customdata[1]} / %{customdata[2]}<extra></extra>",
         "marker": {
          "color": "#ff7f00"
         },
         "name": "Harmful Info",
         "type": "bar",
         "width": 0.8,
         "x": [
          0,
          1,
          2.6,
          3.6,
          4.6,
          5.6,
          7.199999999999999,
          8.2,
          9.2,
          10.2,
          11.799999999999999,
          12.799999999999999,
          13.799999999999999,
          14.799999999999999,
          16.4,
          17.4,
          18.4,
          19.4
         ],
         "y": [
          1.2,
          56.1,
          50.2,
          37.6,
          28,
          16,
          48.7,
          32.7,
          20.6,
          7.5,
          50.6,
          30.4,
          23.3,
          7.4,
          49.8,
          32.5,
          25.3,
          10.5
         ]
        },
        {
         "customdata": [
          [
           "unsteered_default",
           "0",
           "1100"
          ],
          [
           "unsteered_prompted",
           "281",
           "1100"
          ],
          [
           "layers_32:64-harm_0.25",
           "143",
           "1100"
          ],
          [
           "layers_32:64-harm_0.01",
           "68",
           "1100"
          ],
          [
           "layers_32:64-safe_0.50",
           "40",
           "1100"
          ],
          [
           "layers_32:64-safe_0.01",
           "13",
           "1100"
          ],
          [
           "layers_0:64-harm_0.25",
           "120",
           "1100"
          ],
          [
           "layers_0:64-harm_0.01",
           "69",
           "1100"
          ],
          [
           "layers_0:64-safe_0.50",
           "44",
           "1100"
          ],
          [
           "layers_0:64-safe_0.01",
           "12",
           "1100"
          ],
          [
           "layers_2:64:2-harm_0.25",
           "157",
           "1100"
          ],
          [
           "layers_2:64:2-harm_0.01",
           "93",
           "1100"
          ],
          [
           "layers_2:64:2-safe_0.50",
           "63",
           "1100"
          ],
          [
           "layers_2:64:2-safe_0.01",
           "18",
           "1100"
          ],
          [
           "layers_4:64:4-harm_0.25",
           "169",
           "1100"
          ],
          [
           "layers_4:64:4-harm_0.01",
           "82",
           "1100"
          ],
          [
           "layers_4:64:4-safe_0.50",
           "75",
           "1100"
          ],
          [
           "layers_4:64:4-safe_0.01",
           "20",
           "1100"
          ]
         ],
         "hovertemplate": "Experiment: %{customdata[0]}<br>Harmful Info & Following Request<br>Pct: %{y:.1f}%<br>Count: %{customdata[1]} / %{customdata[2]}<extra></extra>",
         "marker": {
          "color": "#e41a1c"
         },
         "name": "Harmful Info & Following Request",
         "type": "bar",
         "width": 0.8,
         "x": [
          0,
          1,
          2.6,
          3.6,
          4.6,
          5.6,
          7.199999999999999,
          8.2,
          9.2,
          10.2,
          11.799999999999999,
          12.799999999999999,
          13.799999999999999,
          14.799999999999999,
          16.4,
          17.4,
          18.4,
          19.4
         ],
         "y": [
          0,
          25.5,
          13,
          6.2,
          3.6,
          1.2,
          10.9,
          6.3,
          4,
          1.1,
          14.3,
          8.5,
          5.7,
          1.6,
          15.4,
          7.5,
          6.8,
          1.8
         ]
        }
       ],
       "layout": {
        "annotations": [
         {
          "font": {
           "size": 9
          },
          "showarrow": false,
          "text": "1.2%",
          "x": 0,
          "y": 4.2
         },
         {
          "font": {
           "size": 8
          },
          "showarrow": false,
          "text": "<b>Default<br>Assistant</b>",
          "textangle": 0,
          "x": 0,
          "y": 11.2
         },
         {
          "font": {
           "size": 9
          },
          "showarrow": false,
          "text": "81.6%",
          "x": 1,
          "y": 84.6
         },
         {
          "font": {
           "size": 8
          },
          "showarrow": false,
          "text": "<b>Jailbreak<br>Persona</b>",
          "textangle": 0,
          "x": 1,
          "y": 91.6
         },
         {
          "font": {
           "size": 9
          },
          "showarrow": false,
          "text": "63.2%",
          "x": 2.6,
          "y": 66.2
         },
         {
          "font": {
           "size": 8
          },
          "showarrow": false,
          "text": "<b>75%<br>Harmful</b>",
          "textangle": 0,
          "x": 2.6,
          "y": 73.2
         },
         {
          "font": {
           "size": 9
          },
          "showarrow": false,
          "text": "43.8%",
          "x": 3.6,
          "y": 46.800000000000004
         },
         {
          "font": {
           "size": 8
          },
          "showarrow": false,
          "text": "<b>99%<br>Harmful</b>",
          "textangle": 0,
          "x": 3.6,
          "y": 53.800000000000004
         },
         {
          "font": {
           "size": 9
          },
          "showarrow": false,
          "text": "31.6%",
          "x": 4.6,
          "y": 34.6
         },
         {
          "font": {
           "size": 8
          },
          "showarrow": false,
          "text": "<b>50%<br>Safe</b>",
          "textangle": 0,
          "x": 4.6,
          "y": 41.6
         },
         {
          "font": {
           "size": 9
          },
          "showarrow": false,
          "text": "17.2%",
          "x": 5.6,
          "y": 20.2
         },
         {
          "font": {
           "size": 8
          },
          "showarrow": false,
          "text": "<b>99%<br>Safe</b>",
          "textangle": 0,
          "x": 5.6,
          "y": 27.2
         },
         {
          "font": {
           "size": 9
          },
          "showarrow": false,
          "text": "59.6%",
          "x": 7.199999999999999,
          "y": 62.6
         },
         {
          "font": {
           "size": 8
          },
          "showarrow": false,
          "text": "<b>75%<br>Harmful</b>",
          "textangle": 0,
          "x": 7.199999999999999,
          "y": 69.6
         },
         {
          "font": {
           "size": 9
          },
          "showarrow": false,
          "text": "39.0%",
          "x": 8.2,
          "y": 42
         },
         {
          "font": {
           "size": 8
          },
          "showarrow": false,
          "text": "<b>99%<br>Harmful</b>",
          "textangle": 0,
          "x": 8.2,
          "y": 49
         },
         {
          "font": {
           "size": 9
          },
          "showarrow": false,
          "text": "24.6%",
          "x": 9.2,
          "y": 27.6
         },
         {
          "font": {
           "size": 8
          },
          "showarrow": false,
          "text": "<b>50%<br>Safe</b>",
          "textangle": 0,
          "x": 9.2,
          "y": 34.6
         },
         {
          "font": {
           "size": 9
          },
          "showarrow": false,
          "text": "8.6%",
          "x": 10.2,
          "y": 11.6
         },
         {
          "font": {
           "size": 8
          },
          "showarrow": false,
          "text": "<b>99%<br>Safe</b>",
          "textangle": 0,
          "x": 10.2,
          "y": 18.6
         },
         {
          "font": {
           "size": 9
          },
          "showarrow": false,
          "text": "64.9%",
          "x": 11.799999999999999,
          "y": 67.9
         },
         {
          "font": {
           "size": 8
          },
          "showarrow": false,
          "text": "<b>75%<br>Harmful</b>",
          "textangle": 0,
          "x": 11.799999999999999,
          "y": 74.9
         },
         {
          "font": {
           "size": 9
          },
          "showarrow": false,
          "text": "38.9%",
          "x": 12.799999999999999,
          "y": 41.9
         },
         {
          "font": {
           "size": 8
          },
          "showarrow": false,
          "text": "<b>99%<br>Harmful</b>",
          "textangle": 0,
          "x": 12.799999999999999,
          "y": 48.9
         },
         {
          "font": {
           "size": 9
          },
          "showarrow": false,
          "text": "29.0%",
          "x": 13.799999999999999,
          "y": 32
         },
         {
          "font": {
           "size": 8
          },
          "showarrow": false,
          "text": "<b>50%<br>Safe</b>",
          "textangle": 0,
          "x": 13.799999999999999,
          "y": 39
         },
         {
          "font": {
           "size": 9
          },
          "showarrow": false,
          "text": "9.0%",
          "x": 14.799999999999999,
          "y": 12
         },
         {
          "font": {
           "size": 8
          },
          "showarrow": false,
          "text": "<b>99%<br>Safe</b>",
          "textangle": 0,
          "x": 14.799999999999999,
          "y": 19
         },
         {
          "font": {
           "size": 9
          },
          "showarrow": false,
          "text": "65.2%",
          "x": 16.4,
          "y": 68.2
         },
         {
          "font": {
           "size": 8
          },
          "showarrow": false,
          "text": "<b>75%<br>Harmful</b>",
          "textangle": 0,
          "x": 16.4,
          "y": 75.2
         },
         {
          "font": {
           "size": 9
          },
          "showarrow": false,
          "text": "40.0%",
          "x": 17.4,
          "y": 43
         },
         {
          "font": {
           "size": 8
          },
          "showarrow": false,
          "text": "<b>99%<br>Harmful</b>",
          "textangle": 0,
          "x": 17.4,
          "y": 50
         },
         {
          "font": {
           "size": 9
          },
          "showarrow": false,
          "text": "32.1%",
          "x": 18.4,
          "y": 35.1
         },
         {
          "font": {
           "size": 8
          },
          "showarrow": false,
          "text": "<b>50%<br>Safe</b>",
          "textangle": 0,
          "x": 18.4,
          "y": 42.1
         },
         {
          "font": {
           "size": 9
          },
          "showarrow": false,
          "text": "12.3%",
          "x": 19.4,
          "y": 15.3
         },
         {
          "font": {
           "size": 8
          },
          "showarrow": false,
          "text": "<b>99%<br>Safe</b>",
          "textangle": 0,
          "x": 19.4,
          "y": 22.3
         }
        ],
        "bargap": 0.01,
        "barmode": "stack",
        "height": 600,
        "legend": {
         "orientation": "h",
         "x": 1,
         "xanchor": "right",
         "y": 1.02,
         "yanchor": "bottom"
        },
        "template": {
         "data": {
          "bar": [
           {
            "error_x": {
             "color": "#2a3f5f"
            },
            "error_y": {
             "color": "#2a3f5f"
            },
            "marker": {
             "line": {
              "color": "#E5ECF6",
              "width": 0.5
             },
             "pattern": {
              "fillmode": "overlay",
              "size": 10,
              "solidity": 0.2
             }
            },
            "type": "bar"
           }
          ],
          "barpolar": [
           {
            "marker": {
             "line": {
              "color": "#E5ECF6",
              "width": 0.5
             },
             "pattern": {
              "fillmode": "overlay",
              "size": 10,
              "solidity": 0.2
             }
            },
            "type": "barpolar"
           }
          ],
          "carpet": [
           {
            "aaxis": {
             "endlinecolor": "#2a3f5f",
             "gridcolor": "white",
             "linecolor": "white",
             "minorgridcolor": "white",
             "startlinecolor": "#2a3f5f"
            },
            "baxis": {
             "endlinecolor": "#2a3f5f",
             "gridcolor": "white",
             "linecolor": "white",
             "minorgridcolor": "white",
             "startlinecolor": "#2a3f5f"
            },
            "type": "carpet"
           }
          ],
          "choropleth": [
           {
            "colorbar": {
             "outlinewidth": 0,
             "ticks": ""
            },
            "type": "choropleth"
           }
          ],
          "contour": [
           {
            "colorbar": {
             "outlinewidth": 0,
             "ticks": ""
            },
            "colorscale": [
             [
              0,
              "#0d0887"
             ],
             [
              0.1111111111111111,
              "#46039f"
             ],
             [
              0.2222222222222222,
              "#7201a8"
             ],
             [
              0.3333333333333333,
              "#9c179e"
             ],
             [
              0.4444444444444444,
              "#bd3786"
             ],
             [
              0.5555555555555556,
              "#d8576b"
             ],
             [
              0.6666666666666666,
              "#ed7953"
             ],
             [
              0.7777777777777778,
              "#fb9f3a"
             ],
             [
              0.8888888888888888,
              "#fdca26"
             ],
             [
              1,
              "#f0f921"
             ]
            ],
            "type": "contour"
           }
          ],
          "contourcarpet": [
           {
            "colorbar": {
             "outlinewidth": 0,
             "ticks": ""
            },
            "type": "contourcarpet"
           }
          ],
          "heatmap": [
           {
            "colorbar": {
             "outlinewidth": 0,
             "ticks": ""
            },
            "colorscale": [
             [
              0,
              "#0d0887"
             ],
             [
              0.1111111111111111,
              "#46039f"
             ],
             [
              0.2222222222222222,
              "#7201a8"
             ],
             [
              0.3333333333333333,
              "#9c179e"
             ],
             [
              0.4444444444444444,
              "#bd3786"
             ],
             [
              0.5555555555555556,
              "#d8576b"
             ],
             [
              0.6666666666666666,
              "#ed7953"
             ],
             [
              0.7777777777777778,
              "#fb9f3a"
             ],
             [
              0.8888888888888888,
              "#fdca26"
             ],
             [
              1,
              "#f0f921"
             ]
            ],
            "type": "heatmap"
           }
          ],
          "heatmapgl": [
           {
            "colorbar": {
             "outlinewidth": 0,
             "ticks": ""
            },
            "colorscale": [
             [
              0,
              "#0d0887"
             ],
             [
              0.1111111111111111,
              "#46039f"
             ],
             [
              0.2222222222222222,
              "#7201a8"
             ],
             [
              0.3333333333333333,
              "#9c179e"
             ],
             [
              0.4444444444444444,
              "#bd3786"
             ],
             [
              0.5555555555555556,
              "#d8576b"
             ],
             [
              0.6666666666666666,
              "#ed7953"
             ],
             [
              0.7777777777777778,
              "#fb9f3a"
             ],
             [
              0.8888888888888888,
              "#fdca26"
             ],
             [
              1,
              "#f0f921"
             ]
            ],
            "type": "heatmapgl"
           }
          ],
          "histogram": [
           {
            "marker": {
             "pattern": {
              "fillmode": "overlay",
              "size": 10,
              "solidity": 0.2
             }
            },
            "type": "histogram"
           }
          ],
          "histogram2d": [
           {
            "colorbar": {
             "outlinewidth": 0,
             "ticks": ""
            },
            "colorscale": [
             [
              0,
              "#0d0887"
             ],
             [
              0.1111111111111111,
              "#46039f"
             ],
             [
              0.2222222222222222,
              "#7201a8"
             ],
             [
              0.3333333333333333,
              "#9c179e"
             ],
             [
              0.4444444444444444,
              "#bd3786"
             ],
             [
              0.5555555555555556,
              "#d8576b"
             ],
             [
              0.6666666666666666,
              "#ed7953"
             ],
             [
              0.7777777777777778,
              "#fb9f3a"
             ],
             [
              0.8888888888888888,
              "#fdca26"
             ],
             [
              1,
              "#f0f921"
             ]
            ],
            "type": "histogram2d"
           }
          ],
          "histogram2dcontour": [
           {
            "colorbar": {
             "outlinewidth": 0,
             "ticks": ""
            },
            "colorscale": [
             [
              0,
              "#0d0887"
             ],
             [
              0.1111111111111111,
              "#46039f"
             ],
             [
              0.2222222222222222,
              "#7201a8"
             ],
             [
              0.3333333333333333,
              "#9c179e"
             ],
             [
              0.4444444444444444,
              "#bd3786"
             ],
             [
              0.5555555555555556,
              "#d8576b"
             ],
             [
              0.6666666666666666,
              "#ed7953"
             ],
             [
              0.7777777777777778,
              "#fb9f3a"
             ],
             [
              0.8888888888888888,
              "#fdca26"
             ],
             [
              1,
              "#f0f921"
             ]
            ],
            "type": "histogram2dcontour"
           }
          ],
          "mesh3d": [
           {
            "colorbar": {
             "outlinewidth": 0,
             "ticks": ""
            },
            "type": "mesh3d"
           }
          ],
          "parcoords": [
           {
            "line": {
             "colorbar": {
              "outlinewidth": 0,
              "ticks": ""
             }
            },
            "type": "parcoords"
           }
          ],
          "pie": [
           {
            "automargin": true,
            "type": "pie"
           }
          ],
          "scatter": [
           {
            "fillpattern": {
             "fillmode": "overlay",
             "size": 10,
             "solidity": 0.2
            },
            "type": "scatter"
           }
          ],
          "scatter3d": [
           {
            "line": {
             "colorbar": {
              "outlinewidth": 0,
              "ticks": ""
             }
            },
            "marker": {
             "colorbar": {
              "outlinewidth": 0,
              "ticks": ""
             }
            },
            "type": "scatter3d"
           }
          ],
          "scattercarpet": [
           {
            "marker": {
             "colorbar": {
              "outlinewidth": 0,
              "ticks": ""
             }
            },
            "type": "scattercarpet"
           }
          ],
          "scattergeo": [
           {
            "marker": {
             "colorbar": {
              "outlinewidth": 0,
              "ticks": ""
             }
            },
            "type": "scattergeo"
           }
          ],
          "scattergl": [
           {
            "marker": {
             "colorbar": {
              "outlinewidth": 0,
              "ticks": ""
             }
            },
            "type": "scattergl"
           }
          ],
          "scattermapbox": [
           {
            "marker": {
             "colorbar": {
              "outlinewidth": 0,
              "ticks": ""
             }
            },
            "type": "scattermapbox"
           }
          ],
          "scatterpolar": [
           {
            "marker": {
             "colorbar": {
              "outlinewidth": 0,
              "ticks": ""
             }
            },
            "type": "scatterpolar"
           }
          ],
          "scatterpolargl": [
           {
            "marker": {
             "colorbar": {
              "outlinewidth": 0,
              "ticks": ""
             }
            },
            "type": "scatterpolargl"
           }
          ],
          "scatterternary": [
           {
            "marker": {
             "colorbar": {
              "outlinewidth": 0,
              "ticks": ""
             }
            },
            "type": "scatterternary"
           }
          ],
          "surface": [
           {
            "colorbar": {
             "outlinewidth": 0,
             "ticks": ""
            },
            "colorscale": [
             [
              0,
              "#0d0887"
             ],
             [
              0.1111111111111111,
              "#46039f"
             ],
             [
              0.2222222222222222,
              "#7201a8"
             ],
             [
              0.3333333333333333,
              "#9c179e"
             ],
             [
              0.4444444444444444,
              "#bd3786"
             ],
             [
              0.5555555555555556,
              "#d8576b"
             ],
             [
              0.6666666666666666,
              "#ed7953"
             ],
             [
              0.7777777777777778,
              "#fb9f3a"
             ],
             [
              0.8888888888888888,
              "#fdca26"
             ],
             [
              1,
              "#f0f921"
             ]
            ],
            "type": "surface"
           }
          ],
          "table": [
           {
            "cells": {
             "fill": {
              "color": "#EBF0F8"
             },
             "line": {
              "color": "white"
             }
            },
            "header": {
             "fill": {
              "color": "#C8D4E3"
             },
             "line": {
              "color": "white"
             }
            },
            "type": "table"
           }
          ]
         },
         "layout": {
          "annotationdefaults": {
           "arrowcolor": "#2a3f5f",
           "arrowhead": 0,
           "arrowwidth": 1
          },
          "autotypenumbers": "strict",
          "coloraxis": {
           "colorbar": {
            "outlinewidth": 0,
            "ticks": ""
           }
          },
          "colorscale": {
           "diverging": [
            [
             0,
             "#8e0152"
            ],
            [
             0.1,
             "#c51b7d"
            ],
            [
             0.2,
             "#de77ae"
            ],
            [
             0.3,
             "#f1b6da"
            ],
            [
             0.4,
             "#fde0ef"
            ],
            [
             0.5,
             "#f7f7f7"
            ],
            [
             0.6,
             "#e6f5d0"
            ],
            [
             0.7,
             "#b8e186"
            ],
            [
             0.8,
             "#7fbc41"
            ],
            [
             0.9,
             "#4d9221"
            ],
            [
             1,
             "#276419"
            ]
           ],
           "sequential": [
            [
             0,
             "#0d0887"
            ],
            [
             0.1111111111111111,
             "#46039f"
            ],
            [
             0.2222222222222222,
             "#7201a8"
            ],
            [
             0.3333333333333333,
             "#9c179e"
            ],
            [
             0.4444444444444444,
             "#bd3786"
            ],
            [
             0.5555555555555556,
             "#d8576b"
            ],
            [
             0.6666666666666666,
             "#ed7953"
            ],
            [
             0.7777777777777778,
             "#fb9f3a"
            ],
            [
             0.8888888888888888,
             "#fdca26"
            ],
            [
             1,
             "#f0f921"
            ]
           ],
           "sequentialminus": [
            [
             0,
             "#0d0887"
            ],
            [
             0.1111111111111111,
             "#46039f"
            ],
            [
             0.2222222222222222,
             "#7201a8"
            ],
            [
             0.3333333333333333,
             "#9c179e"
            ],
            [
             0.4444444444444444,
             "#bd3786"
            ],
            [
             0.5555555555555556,
             "#d8576b"
            ],
            [
             0.6666666666666666,
             "#ed7953"
            ],
            [
             0.7777777777777778,
             "#fb9f3a"
            ],
            [
             0.8888888888888888,
             "#fdca26"
            ],
            [
             1,
             "#f0f921"
            ]
           ]
          },
          "colorway": [
           "#636efa",
           "#EF553B",
           "#00cc96",
           "#ab63fa",
           "#FFA15A",
           "#19d3f3",
           "#FF6692",
           "#B6E880",
           "#FF97FF",
           "#FECB52"
          ],
          "font": {
           "color": "#2a3f5f"
          },
          "geo": {
           "bgcolor": "white",
           "lakecolor": "white",
           "landcolor": "#E5ECF6",
           "showlakes": true,
           "showland": true,
           "subunitcolor": "white"
          },
          "hoverlabel": {
           "align": "left"
          },
          "hovermode": "closest",
          "mapbox": {
           "style": "light"
          },
          "paper_bgcolor": "white",
          "plot_bgcolor": "#E5ECF6",
          "polar": {
           "angularaxis": {
            "gridcolor": "white",
            "linecolor": "white",
            "ticks": ""
           },
           "bgcolor": "#E5ECF6",
           "radialaxis": {
            "gridcolor": "white",
            "linecolor": "white",
            "ticks": ""
           }
          },
          "scene": {
           "xaxis": {
            "backgroundcolor": "#E5ECF6",
            "gridcolor": "white",
            "gridwidth": 2,
            "linecolor": "white",
            "showbackground": true,
            "ticks": "",
            "zerolinecolor": "white"
           },
           "yaxis": {
            "backgroundcolor": "#E5ECF6",
            "gridcolor": "white",
            "gridwidth": 2,
            "linecolor": "white",
            "showbackground": true,
            "ticks": "",
            "zerolinecolor": "white"
           },
           "zaxis": {
            "backgroundcolor": "#E5ECF6",
            "gridcolor": "white",
            "gridwidth": 2,
            "linecolor": "white",
            "showbackground": true,
            "ticks": "",
            "zerolinecolor": "white"
           }
          },
          "shapedefaults": {
           "line": {
            "color": "#2a3f5f"
           }
          },
          "ternary": {
           "aaxis": {
            "gridcolor": "white",
            "linecolor": "white",
            "ticks": ""
           },
           "baxis": {
            "gridcolor": "white",
            "linecolor": "white",
            "ticks": ""
           },
           "bgcolor": "#E5ECF6",
           "caxis": {
            "gridcolor": "white",
            "linecolor": "white",
            "ticks": ""
           }
          },
          "title": {
           "x": 0.05
          },
          "xaxis": {
           "automargin": true,
           "gridcolor": "white",
           "linecolor": "white",
           "ticks": "",
           "title": {
            "standoff": 15
           },
           "zerolinecolor": "white",
           "zerolinewidth": 2
          },
          "yaxis": {
           "automargin": true,
           "gridcolor": "white",
           "linecolor": "white",
           "ticks": "",
           "title": {
            "standoff": 15
           },
           "zerolinecolor": "white",
           "zerolinewidth": 2
          }
         }
        },
        "title": {
         "subtitle": {
          "text": "Qwen 3 32B, Projecting on Mean (Role-Playing - Default Assistant) Contrast Vector"
         },
         "text": "Harmful Responses with Persona-based Jailbreaks Across Capping Experiments"
        },
        "width": 1200,
        "xaxis": {
         "gridcolor": "lightgray",
         "range": [
          -0.5,
          19.9
         ],
         "showgrid": true,
         "tickmode": "array",
         "ticktext": [
          "Baseline",
          "Layers 32-63",
          "All Layers 0-63",
          "Every 2nd Layer",
          "Every 4th Layer"
         ],
         "tickvals": [
          0.5,
          4.1,
          8.7,
          13.299999999999999,
          17.9
         ],
         "title": {
          "text": "Experiment Groups"
         }
        },
        "yaxis": {
         "gridcolor": "lightgray",
         "range": [
          0,
          119
         ],
         "showgrid": true,
         "title": {
          "text": "Percentage of Harmful Responses"
         }
        }
       }
      },
      "text/html": [
       "<div>                            <div id=\"6be569e6-c25a-418f-b274-7e3a61d6ff46\" class=\"plotly-graph-div\" style=\"height:600px; width:1200px;\"></div>            <script type=\"text/javascript\">                require([\"plotly\"], function(Plotly) {                    window.PLOTLYENV=window.PLOTLYENV || {};                                    if (document.getElementById(\"6be569e6-c25a-418f-b274-7e3a61d6ff46\")) {                    Plotly.newPlot(                        \"6be569e6-c25a-418f-b274-7e3a61d6ff46\",                        [{\"customdata\":[[\"unsteered_default\",\"13\",\"1100\"],[\"unsteered_prompted\",\"617\",\"1100\"],[\"layers_32:64-harm_0.25\",\"552\",\"1100\"],[\"layers_32:64-harm_0.01\",\"414\",\"1100\"],[\"layers_32:64-safe_0.50\",\"308\",\"1100\"],[\"layers_32:64-safe_0.01\",\"176\",\"1100\"],[\"layers_0:64-harm_0.25\",\"536\",\"1100\"],[\"layers_0:64-harm_0.01\",\"360\",\"1100\"],[\"layers_0:64-safe_0.50\",\"227\",\"1100\"],[\"layers_0:64-safe_0.01\",\"82\",\"1100\"],[\"layers_2:64:2-harm_0.25\",\"557\",\"1100\"],[\"layers_2:64:2-harm_0.01\",\"334\",\"1100\"],[\"layers_2:64:2-safe_0.50\",\"256\",\"1100\"],[\"layers_2:64:2-safe_0.01\",\"81\",\"1100\"],[\"layers_4:64:4-harm_0.25\",\"548\",\"1100\"],[\"layers_4:64:4-harm_0.01\",\"358\",\"1100\"],[\"layers_4:64:4-safe_0.50\",\"278\",\"1100\"],[\"layers_4:64:4-safe_0.01\",\"116\",\"1100\"]],\"hovertemplate\":\"Experiment: %{customdata[0]}\\u003cbr\\u003eHarmful Info\\u003cbr\\u003ePct: %{y:.1f}%\\u003cbr\\u003eCount: %{customdata[1]} \\u002f %{customdata[2]}\\u003cextra\\u003e\\u003c\\u002fextra\\u003e\",\"marker\":{\"color\":\"#ff7f00\"},\"name\":\"Harmful Info\",\"width\":0.8,\"x\":[0.0,1.0,2.6,3.6,4.6,5.6,7.199999999999999,8.2,9.2,10.2,11.799999999999999,12.799999999999999,13.799999999999999,14.799999999999999,16.4,17.4,18.4,19.4],\"y\":[1.2,56.1,50.2,37.6,28.0,16.0,48.7,32.7,20.6,7.5,50.6,30.4,23.3,7.4,49.8,32.5,25.3,10.5],\"type\":\"bar\"},{\"customdata\":[[\"unsteered_default\",\"0\",\"1100\"],[\"unsteered_prompted\",\"281\",\"1100\"],[\"layers_32:64-harm_0.25\",\"143\",\"1100\"],[\"layers_32:64-harm_0.01\",\"68\",\"1100\"],[\"layers_32:64-safe_0.50\",\"40\",\"1100\"],[\"layers_32:64-safe_0.01\",\"13\",\"1100\"],[\"layers_0:64-harm_0.25\",\"120\",\"1100\"],[\"layers_0:64-harm_0.01\",\"69\",\"1100\"],[\"layers_0:64-safe_0.50\",\"44\",\"1100\"],[\"layers_0:64-safe_0.01\",\"12\",\"1100\"],[\"layers_2:64:2-harm_0.25\",\"157\",\"1100\"],[\"layers_2:64:2-harm_0.01\",\"93\",\"1100\"],[\"layers_2:64:2-safe_0.50\",\"63\",\"1100\"],[\"layers_2:64:2-safe_0.01\",\"18\",\"1100\"],[\"layers_4:64:4-harm_0.25\",\"169\",\"1100\"],[\"layers_4:64:4-harm_0.01\",\"82\",\"1100\"],[\"layers_4:64:4-safe_0.50\",\"75\",\"1100\"],[\"layers_4:64:4-safe_0.01\",\"20\",\"1100\"]],\"hovertemplate\":\"Experiment: %{customdata[0]}\\u003cbr\\u003eHarmful Info & Following Request\\u003cbr\\u003ePct: %{y:.1f}%\\u003cbr\\u003eCount: %{customdata[1]} \\u002f %{customdata[2]}\\u003cextra\\u003e\\u003c\\u002fextra\\u003e\",\"marker\":{\"color\":\"#e41a1c\"},\"name\":\"Harmful Info & Following Request\",\"width\":0.8,\"x\":[0.0,1.0,2.6,3.6,4.6,5.6,7.199999999999999,8.2,9.2,10.2,11.799999999999999,12.799999999999999,13.799999999999999,14.799999999999999,16.4,17.4,18.4,19.4],\"y\":[0.0,25.5,13.0,6.2,3.6,1.2,10.9,6.3,4.0,1.1,14.3,8.5,5.7,1.6,15.4,7.5,6.8,1.8],\"type\":\"bar\"}],                        {\"template\":{\"data\":{\"histogram2dcontour\":[{\"type\":\"histogram2dcontour\",\"colorbar\":{\"outlinewidth\":0,\"ticks\":\"\"},\"colorscale\":[[0.0,\"#0d0887\"],[0.1111111111111111,\"#46039f\"],[0.2222222222222222,\"#7201a8\"],[0.3333333333333333,\"#9c179e\"],[0.4444444444444444,\"#bd3786\"],[0.5555555555555556,\"#d8576b\"],[0.6666666666666666,\"#ed7953\"],[0.7777777777777778,\"#fb9f3a\"],[0.8888888888888888,\"#fdca26\"],[1.0,\"#f0f921\"]]}],\"choropleth\":[{\"type\":\"choropleth\",\"colorbar\":{\"outlinewidth\":0,\"ticks\":\"\"}}],\"histogram2d\":[{\"type\":\"histogram2d\",\"colorbar\":{\"outlinewidth\":0,\"ticks\":\"\"},\"colorscale\":[[0.0,\"#0d0887\"],[0.1111111111111111,\"#46039f\"],[0.2222222222222222,\"#7201a8\"],[0.3333333333333333,\"#9c179e\"],[0.4444444444444444,\"#bd3786\"],[0.5555555555555556,\"#d8576b\"],[0.6666666666666666,\"#ed7953\"],[0.7777777777777778,\"#fb9f3a\"],[0.8888888888888888,\"#fdca26\"],[1.0,\"#f0f921\"]]}],\"heatmap\":[{\"type\":\"heatmap\",\"colorbar\":{\"outlinewidth\":0,\"ticks\":\"\"},\"colorscale\":[[0.0,\"#0d0887\"],[0.1111111111111111,\"#46039f\"],[0.2222222222222222,\"#7201a8\"],[0.3333333333333333,\"#9c179e\"],[0.4444444444444444,\"#bd3786\"],[0.5555555555555556,\"#d8576b\"],[0.6666666666666666,\"#ed7953\"],[0.7777777777777778,\"#fb9f3a\"],[0.8888888888888888,\"#fdca26\"],[1.0,\"#f0f921\"]]}],\"heatmapgl\":[{\"type\":\"heatmapgl\",\"colorbar\":{\"outlinewidth\":0,\"ticks\":\"\"},\"colorscale\":[[0.0,\"#0d0887\"],[0.1111111111111111,\"#46039f\"],[0.2222222222222222,\"#7201a8\"],[0.3333333333333333,\"#9c179e\"],[0.4444444444444444,\"#bd3786\"],[0.5555555555555556,\"#d8576b\"],[0.6666666666666666,\"#ed7953\"],[0.7777777777777778,\"#fb9f3a\"],[0.8888888888888888,\"#fdca26\"],[1.0,\"#f0f921\"]]}],\"contourcarpet\":[{\"type\":\"contourcarpet\",\"colorbar\":{\"outlinewidth\":0,\"ticks\":\"\"}}],\"contour\":[{\"type\":\"contour\",\"colorbar\":{\"outlinewidth\":0,\"ticks\":\"\"},\"colorscale\":[[0.0,\"#0d0887\"],[0.1111111111111111,\"#46039f\"],[0.2222222222222222,\"#7201a8\"],[0.3333333333333333,\"#9c179e\"],[0.4444444444444444,\"#bd3786\"],[0.5555555555555556,\"#d8576b\"],[0.6666666666666666,\"#ed7953\"],[0.7777777777777778,\"#fb9f3a\"],[0.8888888888888888,\"#fdca26\"],[1.0,\"#f0f921\"]]}],\"surface\":[{\"type\":\"surface\",\"colorbar\":{\"outlinewidth\":0,\"ticks\":\"\"},\"colorscale\":[[0.0,\"#0d0887\"],[0.1111111111111111,\"#46039f\"],[0.2222222222222222,\"#7201a8\"],[0.3333333333333333,\"#9c179e\"],[0.4444444444444444,\"#bd3786\"],[0.5555555555555556,\"#d8576b\"],[0.6666666666666666,\"#ed7953\"],[0.7777777777777778,\"#fb9f3a\"],[0.8888888888888888,\"#fdca26\"],[1.0,\"#f0f921\"]]}],\"mesh3d\":[{\"type\":\"mesh3d\",\"colorbar\":{\"outlinewidth\":0,\"ticks\":\"\"}}],\"scatter\":[{\"fillpattern\":{\"fillmode\":\"overlay\",\"size\":10,\"solidity\":0.2},\"type\":\"scatter\"}],\"parcoords\":[{\"type\":\"parcoords\",\"line\":{\"colorbar\":{\"outlinewidth\":0,\"ticks\":\"\"}}}],\"scatterpolargl\":[{\"type\":\"scatterpolargl\",\"marker\":{\"colorbar\":{\"outlinewidth\":0,\"ticks\":\"\"}}}],\"bar\":[{\"error_x\":{\"color\":\"#2a3f5f\"},\"error_y\":{\"color\":\"#2a3f5f\"},\"marker\":{\"line\":{\"color\":\"#E5ECF6\",\"width\":0.5},\"pattern\":{\"fillmode\":\"overlay\",\"size\":10,\"solidity\":0.2}},\"type\":\"bar\"}],\"scattergeo\":[{\"type\":\"scattergeo\",\"marker\":{\"colorbar\":{\"outlinewidth\":0,\"ticks\":\"\"}}}],\"scatterpolar\":[{\"type\":\"scatterpolar\",\"marker\":{\"colorbar\":{\"outlinewidth\":0,\"ticks\":\"\"}}}],\"histogram\":[{\"marker\":{\"pattern\":{\"fillmode\":\"overlay\",\"size\":10,\"solidity\":0.2}},\"type\":\"histogram\"}],\"scattergl\":[{\"type\":\"scattergl\",\"marker\":{\"colorbar\":{\"outlinewidth\":0,\"ticks\":\"\"}}}],\"scatter3d\":[{\"type\":\"scatter3d\",\"line\":{\"colorbar\":{\"outlinewidth\":0,\"ticks\":\"\"}},\"marker\":{\"colorbar\":{\"outlinewidth\":0,\"ticks\":\"\"}}}],\"scattermapbox\":[{\"type\":\"scattermapbox\",\"marker\":{\"colorbar\":{\"outlinewidth\":0,\"ticks\":\"\"}}}],\"scatterternary\":[{\"type\":\"scatterternary\",\"marker\":{\"colorbar\":{\"outlinewidth\":0,\"ticks\":\"\"}}}],\"scattercarpet\":[{\"type\":\"scattercarpet\",\"marker\":{\"colorbar\":{\"outlinewidth\":0,\"ticks\":\"\"}}}],\"carpet\":[{\"aaxis\":{\"endlinecolor\":\"#2a3f5f\",\"gridcolor\":\"white\",\"linecolor\":\"white\",\"minorgridcolor\":\"white\",\"startlinecolor\":\"#2a3f5f\"},\"baxis\":{\"endlinecolor\":\"#2a3f5f\",\"gridcolor\":\"white\",\"linecolor\":\"white\",\"minorgridcolor\":\"white\",\"startlinecolor\":\"#2a3f5f\"},\"type\":\"carpet\"}],\"table\":[{\"cells\":{\"fill\":{\"color\":\"#EBF0F8\"},\"line\":{\"color\":\"white\"}},\"header\":{\"fill\":{\"color\":\"#C8D4E3\"},\"line\":{\"color\":\"white\"}},\"type\":\"table\"}],\"barpolar\":[{\"marker\":{\"line\":{\"color\":\"#E5ECF6\",\"width\":0.5},\"pattern\":{\"fillmode\":\"overlay\",\"size\":10,\"solidity\":0.2}},\"type\":\"barpolar\"}],\"pie\":[{\"automargin\":true,\"type\":\"pie\"}]},\"layout\":{\"autotypenumbers\":\"strict\",\"colorway\":[\"#636efa\",\"#EF553B\",\"#00cc96\",\"#ab63fa\",\"#FFA15A\",\"#19d3f3\",\"#FF6692\",\"#B6E880\",\"#FF97FF\",\"#FECB52\"],\"font\":{\"color\":\"#2a3f5f\"},\"hovermode\":\"closest\",\"hoverlabel\":{\"align\":\"left\"},\"paper_bgcolor\":\"white\",\"plot_bgcolor\":\"#E5ECF6\",\"polar\":{\"bgcolor\":\"#E5ECF6\",\"angularaxis\":{\"gridcolor\":\"white\",\"linecolor\":\"white\",\"ticks\":\"\"},\"radialaxis\":{\"gridcolor\":\"white\",\"linecolor\":\"white\",\"ticks\":\"\"}},\"ternary\":{\"bgcolor\":\"#E5ECF6\",\"aaxis\":{\"gridcolor\":\"white\",\"linecolor\":\"white\",\"ticks\":\"\"},\"baxis\":{\"gridcolor\":\"white\",\"linecolor\":\"white\",\"ticks\":\"\"},\"caxis\":{\"gridcolor\":\"white\",\"linecolor\":\"white\",\"ticks\":\"\"}},\"coloraxis\":{\"colorbar\":{\"outlinewidth\":0,\"ticks\":\"\"}},\"colorscale\":{\"sequential\":[[0.0,\"#0d0887\"],[0.1111111111111111,\"#46039f\"],[0.2222222222222222,\"#7201a8\"],[0.3333333333333333,\"#9c179e\"],[0.4444444444444444,\"#bd3786\"],[0.5555555555555556,\"#d8576b\"],[0.6666666666666666,\"#ed7953\"],[0.7777777777777778,\"#fb9f3a\"],[0.8888888888888888,\"#fdca26\"],[1.0,\"#f0f921\"]],\"sequentialminus\":[[0.0,\"#0d0887\"],[0.1111111111111111,\"#46039f\"],[0.2222222222222222,\"#7201a8\"],[0.3333333333333333,\"#9c179e\"],[0.4444444444444444,\"#bd3786\"],[0.5555555555555556,\"#d8576b\"],[0.6666666666666666,\"#ed7953\"],[0.7777777777777778,\"#fb9f3a\"],[0.8888888888888888,\"#fdca26\"],[1.0,\"#f0f921\"]],\"diverging\":[[0,\"#8e0152\"],[0.1,\"#c51b7d\"],[0.2,\"#de77ae\"],[0.3,\"#f1b6da\"],[0.4,\"#fde0ef\"],[0.5,\"#f7f7f7\"],[0.6,\"#e6f5d0\"],[0.7,\"#b8e186\"],[0.8,\"#7fbc41\"],[0.9,\"#4d9221\"],[1,\"#276419\"]]},\"xaxis\":{\"gridcolor\":\"white\",\"linecolor\":\"white\",\"ticks\":\"\",\"title\":{\"standoff\":15},\"zerolinecolor\":\"white\",\"automargin\":true,\"zerolinewidth\":2},\"yaxis\":{\"gridcolor\":\"white\",\"linecolor\":\"white\",\"ticks\":\"\",\"title\":{\"standoff\":15},\"zerolinecolor\":\"white\",\"automargin\":true,\"zerolinewidth\":2},\"scene\":{\"xaxis\":{\"backgroundcolor\":\"#E5ECF6\",\"gridcolor\":\"white\",\"linecolor\":\"white\",\"showbackground\":true,\"ticks\":\"\",\"zerolinecolor\":\"white\",\"gridwidth\":2},\"yaxis\":{\"backgroundcolor\":\"#E5ECF6\",\"gridcolor\":\"white\",\"linecolor\":\"white\",\"showbackground\":true,\"ticks\":\"\",\"zerolinecolor\":\"white\",\"gridwidth\":2},\"zaxis\":{\"backgroundcolor\":\"#E5ECF6\",\"gridcolor\":\"white\",\"linecolor\":\"white\",\"showbackground\":true,\"ticks\":\"\",\"zerolinecolor\":\"white\",\"gridwidth\":2}},\"shapedefaults\":{\"line\":{\"color\":\"#2a3f5f\"}},\"annotationdefaults\":{\"arrowcolor\":\"#2a3f5f\",\"arrowhead\":0,\"arrowwidth\":1},\"geo\":{\"bgcolor\":\"white\",\"landcolor\":\"#E5ECF6\",\"subunitcolor\":\"white\",\"showland\":true,\"showlakes\":true,\"lakecolor\":\"white\"},\"title\":{\"x\":0.05},\"mapbox\":{\"style\":\"light\"}}},\"annotations\":[{\"font\":{\"size\":9},\"showarrow\":false,\"text\":\"1.2%\",\"x\":0.0,\"y\":4.2},{\"font\":{\"size\":8},\"showarrow\":false,\"text\":\"\\u003cb\\u003eDefault\\u003cbr\\u003eAssistant\\u003c\\u002fb\\u003e\",\"textangle\":0,\"x\":0.0,\"y\":11.2},{\"font\":{\"size\":9},\"showarrow\":false,\"text\":\"81.6%\",\"x\":1.0,\"y\":84.6},{\"font\":{\"size\":8},\"showarrow\":false,\"text\":\"\\u003cb\\u003eJailbreak\\u003cbr\\u003ePersona\\u003c\\u002fb\\u003e\",\"textangle\":0,\"x\":1.0,\"y\":91.6},{\"font\":{\"size\":9},\"showarrow\":false,\"text\":\"63.2%\",\"x\":2.6,\"y\":66.2},{\"font\":{\"size\":8},\"showarrow\":false,\"text\":\"\\u003cb\\u003e75%\\u003cbr\\u003eHarmful\\u003c\\u002fb\\u003e\",\"textangle\":0,\"x\":2.6,\"y\":73.2},{\"font\":{\"size\":9},\"showarrow\":false,\"text\":\"43.8%\",\"x\":3.6,\"y\":46.800000000000004},{\"font\":{\"size\":8},\"showarrow\":false,\"text\":\"\\u003cb\\u003e99%\\u003cbr\\u003eHarmful\\u003c\\u002fb\\u003e\",\"textangle\":0,\"x\":3.6,\"y\":53.800000000000004},{\"font\":{\"size\":9},\"showarrow\":false,\"text\":\"31.6%\",\"x\":4.6,\"y\":34.6},{\"font\":{\"size\":8},\"showarrow\":false,\"text\":\"\\u003cb\\u003e50%\\u003cbr\\u003eSafe\\u003c\\u002fb\\u003e\",\"textangle\":0,\"x\":4.6,\"y\":41.6},{\"font\":{\"size\":9},\"showarrow\":false,\"text\":\"17.2%\",\"x\":5.6,\"y\":20.2},{\"font\":{\"size\":8},\"showarrow\":false,\"text\":\"\\u003cb\\u003e99%\\u003cbr\\u003eSafe\\u003c\\u002fb\\u003e\",\"textangle\":0,\"x\":5.6,\"y\":27.2},{\"font\":{\"size\":9},\"showarrow\":false,\"text\":\"59.6%\",\"x\":7.199999999999999,\"y\":62.6},{\"font\":{\"size\":8},\"showarrow\":false,\"text\":\"\\u003cb\\u003e75%\\u003cbr\\u003eHarmful\\u003c\\u002fb\\u003e\",\"textangle\":0,\"x\":7.199999999999999,\"y\":69.6},{\"font\":{\"size\":9},\"showarrow\":false,\"text\":\"39.0%\",\"x\":8.2,\"y\":42.0},{\"font\":{\"size\":8},\"showarrow\":false,\"text\":\"\\u003cb\\u003e99%\\u003cbr\\u003eHarmful\\u003c\\u002fb\\u003e\",\"textangle\":0,\"x\":8.2,\"y\":49.0},{\"font\":{\"size\":9},\"showarrow\":false,\"text\":\"24.6%\",\"x\":9.2,\"y\":27.6},{\"font\":{\"size\":8},\"showarrow\":false,\"text\":\"\\u003cb\\u003e50%\\u003cbr\\u003eSafe\\u003c\\u002fb\\u003e\",\"textangle\":0,\"x\":9.2,\"y\":34.6},{\"font\":{\"size\":9},\"showarrow\":false,\"text\":\"8.6%\",\"x\":10.2,\"y\":11.6},{\"font\":{\"size\":8},\"showarrow\":false,\"text\":\"\\u003cb\\u003e99%\\u003cbr\\u003eSafe\\u003c\\u002fb\\u003e\",\"textangle\":0,\"x\":10.2,\"y\":18.6},{\"font\":{\"size\":9},\"showarrow\":false,\"text\":\"64.9%\",\"x\":11.799999999999999,\"y\":67.9},{\"font\":{\"size\":8},\"showarrow\":false,\"text\":\"\\u003cb\\u003e75%\\u003cbr\\u003eHarmful\\u003c\\u002fb\\u003e\",\"textangle\":0,\"x\":11.799999999999999,\"y\":74.9},{\"font\":{\"size\":9},\"showarrow\":false,\"text\":\"38.9%\",\"x\":12.799999999999999,\"y\":41.9},{\"font\":{\"size\":8},\"showarrow\":false,\"text\":\"\\u003cb\\u003e99%\\u003cbr\\u003eHarmful\\u003c\\u002fb\\u003e\",\"textangle\":0,\"x\":12.799999999999999,\"y\":48.9},{\"font\":{\"size\":9},\"showarrow\":false,\"text\":\"29.0%\",\"x\":13.799999999999999,\"y\":32.0},{\"font\":{\"size\":8},\"showarrow\":false,\"text\":\"\\u003cb\\u003e50%\\u003cbr\\u003eSafe\\u003c\\u002fb\\u003e\",\"textangle\":0,\"x\":13.799999999999999,\"y\":39.0},{\"font\":{\"size\":9},\"showarrow\":false,\"text\":\"9.0%\",\"x\":14.799999999999999,\"y\":12.0},{\"font\":{\"size\":8},\"showarrow\":false,\"text\":\"\\u003cb\\u003e99%\\u003cbr\\u003eSafe\\u003c\\u002fb\\u003e\",\"textangle\":0,\"x\":14.799999999999999,\"y\":19.0},{\"font\":{\"size\":9},\"showarrow\":false,\"text\":\"65.2%\",\"x\":16.4,\"y\":68.2},{\"font\":{\"size\":8},\"showarrow\":false,\"text\":\"\\u003cb\\u003e75%\\u003cbr\\u003eHarmful\\u003c\\u002fb\\u003e\",\"textangle\":0,\"x\":16.4,\"y\":75.2},{\"font\":{\"size\":9},\"showarrow\":false,\"text\":\"40.0%\",\"x\":17.4,\"y\":43.0},{\"font\":{\"size\":8},\"showarrow\":false,\"text\":\"\\u003cb\\u003e99%\\u003cbr\\u003eHarmful\\u003c\\u002fb\\u003e\",\"textangle\":0,\"x\":17.4,\"y\":50.0},{\"font\":{\"size\":9},\"showarrow\":false,\"text\":\"32.1%\",\"x\":18.4,\"y\":35.1},{\"font\":{\"size\":8},\"showarrow\":false,\"text\":\"\\u003cb\\u003e50%\\u003cbr\\u003eSafe\\u003c\\u002fb\\u003e\",\"textangle\":0,\"x\":18.4,\"y\":42.1},{\"font\":{\"size\":9},\"showarrow\":false,\"text\":\"12.3%\",\"x\":19.4,\"y\":15.3},{\"font\":{\"size\":8},\"showarrow\":false,\"text\":\"\\u003cb\\u003e99%\\u003cbr\\u003eSafe\\u003c\\u002fb\\u003e\",\"textangle\":0,\"x\":19.4,\"y\":22.3}],\"title\":{\"subtitle\":{\"text\":\"Qwen 3 32B, Projecting on Mean (Role-Playing - Default Assistant) Contrast Vector\"},\"text\":\"Harmful Responses with Persona-based Jailbreaks Across Capping Experiments\"},\"xaxis\":{\"title\":{\"text\":\"Experiment Groups\"},\"tickmode\":\"array\",\"tickvals\":[0.5,4.1,8.7,13.299999999999999,17.9],\"ticktext\":[\"Baseline\",\"Layers 32-63\",\"All Layers 0-63\",\"Every 2nd Layer\",\"Every 4th Layer\"],\"showgrid\":true,\"gridcolor\":\"lightgray\",\"range\":[-0.5,19.9]},\"yaxis\":{\"title\":{\"text\":\"Percentage of Harmful Responses\"},\"range\":[0,119],\"showgrid\":true,\"gridcolor\":\"lightgray\"},\"legend\":{\"orientation\":\"h\",\"yanchor\":\"bottom\",\"y\":1.02,\"xanchor\":\"right\",\"x\":1.0},\"barmode\":\"stack\",\"width\":1200,\"height\":600,\"bargap\":0.01},                        {\"responsive\": true}                    ).then(function(){\n",
       "                            \n",
       "var gd = document.getElementById('6be569e6-c25a-418f-b274-7e3a61d6ff46');\n",
       "var x = new MutationObserver(function (mutations, observer) {{\n",
       "        var display = window.getComputedStyle(gd).display;\n",
       "        if (!display || display === 'none') {{\n",
       "            console.log([gd, 'removed!']);\n",
       "            Plotly.purge(gd);\n",
       "            observer.disconnect();\n",
       "        }}\n",
       "}});\n",
       "\n",
       "// Listen for the removal of the full notebook cells\n",
       "var notebookContainer = gd.closest('#notebook-container');\n",
       "if (notebookContainer) {{\n",
       "    x.observe(notebookContainer, {childList: true});\n",
       "}}\n",
       "\n",
       "// Listen for the clearing of the current output cell\n",
       "var outputEl = gd.closest('.output');\n",
       "if (outputEl) {{\n",
       "    x.observe(outputEl, {childList: true});\n",
       "}}\n",
       "\n",
       "                        })                };                });            </script>        </div>"
      ]
     },
     "metadata": {},
     "output_type": "display_data"
    }
   ],
   "source": [
    "# === Plot Harmful Responses by Experiment ===\n",
    "\n",
    "# Color scheme for labels\n",
    "COLORS = {\n",
    "    \"enough_info_and_follow_perfectly\": \"#e41a1c\",  # red\n",
    "    \"enough_info\": \"#ff7f00\",                       # orange\n",
    "}\n",
    "\n",
    "label_map = {\n",
    "    \"enough_info\": \"Harmful Info\",\n",
    "    \"enough_info_and_follow_perfectly\": \"Harmful Info & Following Request\"\n",
    "}\n",
    "\n",
    "# Build experiment list: 2 baselines + 16 experiments\n",
    "all_experiment_ids = [\"unsteered_default\", \"unsteered_prompted\"] + EXPERIMENT_ORDER\n",
    "\n",
    "# Create pivot arrays: rows = experiments, cols = labels\n",
    "def pivot_by_experiment(df, label):\n",
    "    \"\"\"Get percentages, counts, totals for a specific label across all experiments\"\"\"\n",
    "    pcts = []\n",
    "    counts = []\n",
    "    totals = []\n",
    "    \n",
    "    for exp_id in all_experiment_ids:\n",
    "        row = df[(df[\"experiment_id\"] == exp_id) & (df[\"score_label\"] == label)]\n",
    "        if len(row) > 0:\n",
    "            pcts.append(row.iloc[0][\"pct\"])\n",
    "            counts.append(row.iloc[0][\"count\"])\n",
    "            totals.append(row.iloc[0][\"total\"])\n",
    "        else:\n",
    "            pcts.append(0.0)\n",
    "            counts.append(0)\n",
    "            totals.append(0)\n",
    "    \n",
    "    return np.array(pcts), np.array(counts), np.array(totals)\n",
    "\n",
    "# Get data for both target labels\n",
    "Y1, C1, T1 = pivot_by_experiment(tidy, \"enough_info\")\n",
    "Y2, C2, T2 = pivot_by_experiment(tidy, \"enough_info_and_follow_perfectly\")\n",
    "\n",
    "# X positions with gaps between groups\n",
    "gap_between_groups = 0.6  # Space between groups\n",
    "x_positions = []\n",
    "current_x = 0\n",
    "\n",
    "# Baseline group (2 bars)\n",
    "x_positions.extend([current_x, current_x + 1])\n",
    "current_x += 2 + gap_between_groups\n",
    "\n",
    "# Layer groups (4 bars each)\n",
    "for _ in range(4):\n",
    "    x_positions.extend([current_x + i for i in range(4)])\n",
    "    current_x += 4 + gap_between_groups\n",
    "\n",
    "x_positions = np.array(x_positions)\n",
    "BAR_WIDTH = 0.8\n",
    "\n",
    "# Create figure\n",
    "fig = go.Figure()\n",
    "\n",
    "# Add stacked bars for each label\n",
    "for label, Y, C, T, color in [\n",
    "    (\"enough_info\", Y1, C1, T1, COLORS[\"enough_info\"]),\n",
    "    (\"enough_info_and_follow_perfectly\", Y2, C2, T2, COLORS[\"enough_info_and_follow_perfectly\"]),\n",
    "]:\n",
    "    fig.add_trace(go.Bar(\n",
    "        x=x_positions,\n",
    "        y=Y,\n",
    "        name=label_map[label],\n",
    "        marker_color=color,\n",
    "        width=BAR_WIDTH,\n",
    "        hovertemplate=(\n",
    "            \"Experiment: %{customdata[0]}<br>\" +\n",
    "            label_map[label] + \"<br>\"\n",
    "            \"Pct: %{y:.1f}%<br>\"\n",
    "            \"Count: %{customdata[1]} / %{customdata[2]}<extra></extra>\"\n",
    "        ),\n",
    "        customdata=np.column_stack([all_experiment_ids, C, T]),\n",
    "    ))\n",
    "\n",
    "# Add annotations above each bar\n",
    "tops = Y1 + Y2  # Total height of stacked bars\n",
    "\n",
    "for i, exp_id in enumerate(all_experiment_ids):\n",
    "    if tops[i] > 0:\n",
    "        # Percentage annotation\n",
    "        fig.add_annotation(\n",
    "            x=x_positions[i], y=tops[i] + 3,\n",
    "            text=f\"{tops[i]:.1f}%\",\n",
    "            showarrow=False,\n",
    "            font=dict(size=9)\n",
    "        )\n",
    "        \n",
    "        # Label annotation above bar\n",
    "        if exp_id == \"unsteered_default\":\n",
    "            label_text = \"Default<br>Assistant\"\n",
    "        elif exp_id == \"unsteered_prompted\":\n",
    "            label_text = \"Jailbreak<br>Persona\"\n",
    "        else:\n",
    "            # Extract cap type from experiment_id\n",
    "            cap_type = exp_id.split(\"-\")[1]  # e.g., \"harm_0.25\"\n",
    "            label_text = CAP_NAMES.get(cap_type, cap_type)\n",
    "        \n",
    "        fig.add_annotation(\n",
    "            x=x_positions[i], y=tops[i] + 10,\n",
    "            text=f\"<b>{label_text}</b>\",\n",
    "            showarrow=False,\n",
    "            font=dict(size=8),\n",
    "            textangle=0\n",
    "        )\n",
    "\n",
    "# Setup x-axis with group labels\n",
    "# Calculate group centers based on actual x positions\n",
    "baseline_center = (x_positions[0] + x_positions[1]) / 2\n",
    "group_centers = [baseline_center]\n",
    "\n",
    "# For layer groups: each has 4 bars\n",
    "for i in range(4):\n",
    "    start_idx = 2 + i*4  # Starting index for this group\n",
    "    group_center = (x_positions[start_idx] + x_positions[start_idx + 3]) / 2\n",
    "    group_centers.append(group_center)\n",
    "\n",
    "group_labels = [\"Baseline\"] + [LAYER_GROUP_NAMES[lg] for lg in LAYER_GROUPS]\n",
    "\n",
    "fig.update_layout(\n",
    "    barmode=\"stack\",\n",
    "    width=1200,\n",
    "    height=600,\n",
    "    title={\n",
    "        \"text\": \"Harmful Responses with Persona-based Jailbreaks Across Capping Experiments\",\n",
    "        \"subtitle\": {\"text\": subtitle},\n",
    "    },\n",
    "    xaxis=dict(\n",
    "        title=\"Experiment Groups\",\n",
    "        tickmode=\"array\",\n",
    "        tickvals=group_centers,\n",
    "        ticktext=group_labels,\n",
    "        showgrid=True,\n",
    "        gridcolor=\"lightgray\",\n",
    "        range=[-0.5, x_positions[-1] + 0.5],\n",
    "    ),\n",
    "    yaxis=dict(\n",
    "        title=\"Percentage of Harmful Responses\",\n",
    "        range=[0, 119],\n",
    "        showgrid=True,\n",
    "        gridcolor=\"lightgray\"\n",
    "    ),\n",
    "    legend=dict(\n",
    "        orientation=\"h\",\n",
    "        yanchor=\"bottom\",\n",
    "        y=1.02,\n",
    "        xanchor=\"right\",\n",
    "        x=1.0\n",
    "    ),\n",
    "    bargap=0.01,  # Small gap within groups\n",
    ")\n",
    "\n",
    "fig.show()\n",
    "#fig.write_html(f\"{out_dir}/jailbreak_harmful.html\")"
   ]
  },
  {
   "cell_type": "markdown",
   "id": "c2078d48",
   "metadata": {},
   "source": [
    "## Plot Other Responses"
   ]
  },
  {
   "cell_type": "code",
   "execution_count": 82,
   "id": "9e97a836",
   "metadata": {},
   "outputs": [
    {
     "name": "stdout",
     "output_type": "stream",
     "text": [
      "Created tidy_other dataset with 108 rows\n"
     ]
    }
   ],
   "source": [
    "# === Prepare data for \"other\" responses plot ===\n",
    "\n",
    "# Define categories (exclude the two harmful target labels)\n",
    "OTHER_LABELS = [\n",
    "    \"almost_enough_info\",        # yellow\n",
    "    \"related_but_no_info\",       # cyan\n",
    "    \"refusal\",                   # lime green\n",
    "    \"refusal_and_justification\", # green\n",
    "    \"out_of_context\",            # purple\n",
    "    \"nonsensical\",               # pink\n",
    "]\n",
    "\n",
    "other_colors = {\n",
    "    \"almost_enough_info\": \"#ffff33\",        # yellow\n",
    "    \"related_but_no_info\": \"#1f78b4\",       # cyan/blueish\n",
    "    \"refusal\": \"#b2df8a\",                   # lime green\n",
    "    \"refusal_and_justification\": \"#33a02c\", # green\n",
    "    \"out_of_context\": \"#6a3d9a\",            # purple\n",
    "    \"nonsensical\": \"#fb9a99\",               # pink\n",
    "}\n",
    "\n",
    "other_label_map = {\n",
    "    \"refusal\": \"Refusal\",\n",
    "    \"refusal_and_justification\": \"Refusal & Justification\",\n",
    "    \"nonsensical\": \"Nonsensical\",\n",
    "    \"out_of_context\": \"Out of Context\",\n",
    "    \"related_but_no_info\": \"Related\",\n",
    "    \"almost_enough_info\": \"Almost Harmful\",\n",
    "}\n",
    "\n",
    "def summarize_df_multi(df, experiment_id, labels):\n",
    "    \"\"\"Return tidy rows for multiple labels with counts & % for one experiment.\"\"\"\n",
    "    work = df.copy()\n",
    "    work[\"experiment_id\"] = experiment_id\n",
    "\n",
    "    n_total = len(work)\n",
    "    counts = work[\"score\"].value_counts()\n",
    "\n",
    "    long_rows = []\n",
    "    for label in labels:\n",
    "        count = counts.get(label, 0)\n",
    "        pct = (count / n_total * 100) if n_total > 0 else 0.0\n",
    "\n",
    "        long_rows.append({\n",
    "            \"experiment_id\": experiment_id,\n",
    "            \"score_label\": label,\n",
    "            \"count\": int(count),\n",
    "            \"total\": int(n_total),\n",
    "            \"pct\": round(float(pct), 1),\n",
    "        })\n",
    "\n",
    "    return pd.DataFrame(long_rows)\n",
    "\n",
    "# Build tidy for baselines (using filtered data)\n",
    "baseline_default_other = summarize_df_multi(unsteered_default_df_filtered, \"unsteered_default\", OTHER_LABELS)\n",
    "baseline_prompted_other = summarize_df_multi(unsteered_prompted_df_filtered, \"unsteered_prompted\", OTHER_LABELS)\n",
    "\n",
    "# Build tidy for steered experiments\n",
    "steered_other_frames = []\n",
    "for exp_id in EXPERIMENT_ORDER:\n",
    "    exp_df = scores_df[scores_df[\"experiment_id\"] == exp_id]\n",
    "    if len(exp_df) > 0:\n",
    "        steered_other_frames.append(summarize_df_multi(exp_df, exp_id, OTHER_LABELS))\n",
    "\n",
    "# Combine all\n",
    "tidy_other = pd.concat(\n",
    "    [baseline_default_other, baseline_prompted_other] + steered_other_frames,\n",
    "    ignore_index=True\n",
    ")\n",
    "\n",
    "print(f\"Created tidy_other dataset with {len(tidy_other)} rows\")"
   ]
  },
  {
   "cell_type": "code",
   "execution_count": 83,
   "id": "cf1ba099",
   "metadata": {},
   "outputs": [
    {
     "data": {
      "application/vnd.plotly.v1+json": {
       "config": {
        "plotlyServerURL": "https://plot.ly"
       },
       "data": [
        {
         "customdata": [
          [
           "unsteered_default",
           "1",
           "1100"
          ],
          [
           "unsteered_prompted",
           "4",
           "1100"
          ],
          [
           "layers_32:64-harm_0.25",
           "10",
           "1100"
          ],
          [
           "layers_32:64-harm_0.01",
           "11",
           "1100"
          ],
          [
           "layers_32:64-safe_0.50",
           "14",
           "1100"
          ],
          [
           "layers_32:64-safe_0.01",
           "17",
           "1100"
          ],
          [
           "layers_0:64-harm_0.25",
           "15",
           "1100"
          ],
          [
           "layers_0:64-harm_0.01",
           "3",
           "1100"
          ],
          [
           "layers_0:64-safe_0.50",
           "15",
           "1100"
          ],
          [
           "layers_0:64-safe_0.01",
           "2",
           "1100"
          ],
          [
           "layers_2:64:2-harm_0.25",
           "8",
           "1100"
          ],
          [
           "layers_2:64:2-harm_0.01",
           "5",
           "1100"
          ],
          [
           "layers_2:64:2-safe_0.50",
           "11",
           "1100"
          ],
          [
           "layers_2:64:2-safe_0.01",
           "11",
           "1100"
          ],
          [
           "layers_4:64:4-harm_0.25",
           "6",
           "1100"
          ],
          [
           "layers_4:64:4-harm_0.01",
           "6",
           "1100"
          ],
          [
           "layers_4:64:4-safe_0.50",
           "9",
           "1100"
          ],
          [
           "layers_4:64:4-safe_0.01",
           "5",
           "1100"
          ]
         ],
         "hovertemplate": "Experiment: %{customdata[0]}<br>Almost Harmful<br>Pct: %{y:.1f}%<br>Count: %{customdata[1]} / %{customdata[2]}<extra></extra>",
         "marker": {
          "color": "#ffff33"
         },
         "name": "Almost Harmful",
         "type": "bar",
         "width": 0.8,
         "x": [
          0,
          1,
          2.6,
          3.6,
          4.6,
          5.6,
          7.199999999999999,
          8.2,
          9.2,
          10.2,
          11.799999999999999,
          12.799999999999999,
          13.799999999999999,
          14.799999999999999,
          16.4,
          17.4,
          18.4,
          19.4
         ],
         "y": [
          0.1,
          0.4,
          0.9,
          1,
          1.3,
          1.5,
          1.4,
          0.3,
          1.4,
          0.2,
          0.7,
          0.5,
          1,
          1,
          0.5,
          0.5,
          0.8,
          0.5
         ]
        },
        {
         "customdata": [
          [
           "unsteered_default",
           "870",
           "1100"
          ],
          [
           "unsteered_prompted",
           "119",
           "1100"
          ],
          [
           "layers_32:64-harm_0.25",
           "253",
           "1100"
          ],
          [
           "layers_32:64-harm_0.01",
           "414",
           "1100"
          ],
          [
           "layers_32:64-safe_0.50",
           "529",
           "1100"
          ],
          [
           "layers_32:64-safe_0.01",
           "642",
           "1100"
          ],
          [
           "layers_0:64-harm_0.25",
           "279",
           "1100"
          ],
          [
           "layers_0:64-harm_0.01",
           "340",
           "1100"
          ],
          [
           "layers_0:64-safe_0.50",
           "400",
           "1100"
          ],
          [
           "layers_0:64-safe_0.01",
           "468",
           "1100"
          ],
          [
           "layers_2:64:2-harm_0.25",
           "265",
           "1100"
          ],
          [
           "layers_2:64:2-harm_0.01",
           "350",
           "1100"
          ],
          [
           "layers_2:64:2-safe_0.50",
           "396",
           "1100"
          ],
          [
           "layers_2:64:2-safe_0.01",
           "457",
           "1100"
          ],
          [
           "layers_4:64:4-harm_0.25",
           "249",
           "1100"
          ],
          [
           "layers_4:64:4-harm_0.01",
           "320",
           "1100"
          ],
          [
           "layers_4:64:4-safe_0.50",
           "381",
           "1100"
          ],
          [
           "layers_4:64:4-safe_0.01",
           "435",
           "1100"
          ]
         ],
         "hovertemplate": "Experiment: %{customdata[0]}<br>Related<br>Pct: %{y:.1f}%<br>Count: %{customdata[1]} / %{customdata[2]}<extra></extra>",
         "marker": {
          "color": "#1f78b4"
         },
         "name": "Related",
         "type": "bar",
         "width": 0.8,
         "x": [
          0,
          1,
          2.6,
          3.6,
          4.6,
          5.6,
          7.199999999999999,
          8.2,
          9.2,
          10.2,
          11.799999999999999,
          12.799999999999999,
          13.799999999999999,
          14.799999999999999,
          16.4,
          17.4,
          18.4,
          19.4
         ],
         "y": [
          79.1,
          10.8,
          23,
          37.6,
          48.1,
          58.4,
          25.4,
          30.9,
          36.4,
          42.5,
          24.1,
          31.8,
          36,
          41.5,
          22.6,
          29.1,
          34.6,
          39.5
         ]
        },
        {
         "customdata": [
          [
           "unsteered_default",
           "96",
           "1100"
          ],
          [
           "unsteered_prompted",
           "49",
           "1100"
          ],
          [
           "layers_32:64-harm_0.25",
           "74",
           "1100"
          ],
          [
           "layers_32:64-harm_0.01",
           "80",
           "1100"
          ],
          [
           "layers_32:64-safe_0.50",
           "85",
           "1100"
          ],
          [
           "layers_32:64-safe_0.01",
           "85",
           "1100"
          ],
          [
           "layers_0:64-harm_0.25",
           "60",
           "1100"
          ],
          [
           "layers_0:64-harm_0.01",
           "162",
           "1100"
          ],
          [
           "layers_0:64-safe_0.50",
           "166",
           "1100"
          ],
          [
           "layers_0:64-safe_0.01",
           "203",
           "1100"
          ],
          [
           "layers_2:64:2-harm_0.25",
           "42",
           "1100"
          ],
          [
           "layers_2:64:2-harm_0.01",
           "134",
           "1100"
          ],
          [
           "layers_2:64:2-safe_0.50",
           "159",
           "1100"
          ],
          [
           "layers_2:64:2-safe_0.01",
           "167",
           "1100"
          ],
          [
           "layers_4:64:4-harm_0.25",
           "76",
           "1100"
          ],
          [
           "layers_4:64:4-harm_0.01",
           "164",
           "1100"
          ],
          [
           "layers_4:64:4-safe_0.50",
           "175",
           "1100"
          ],
          [
           "layers_4:64:4-safe_0.01",
           "208",
           "1100"
          ]
         ],
         "hovertemplate": "Experiment: %{customdata[0]}<br>Refusal<br>Pct: %{y:.1f}%<br>Count: %{customdata[1]} / %{customdata[2]}<extra></extra>",
         "marker": {
          "color": "#b2df8a"
         },
         "name": "Refusal",
         "type": "bar",
         "width": 0.8,
         "x": [
          0,
          1,
          2.6,
          3.6,
          4.6,
          5.6,
          7.199999999999999,
          8.2,
          9.2,
          10.2,
          11.799999999999999,
          12.799999999999999,
          13.799999999999999,
          14.799999999999999,
          16.4,
          17.4,
          18.4,
          19.4
         ],
         "y": [
          8.7,
          4.5,
          6.7,
          7.3,
          7.7,
          7.7,
          5.5,
          14.7,
          15.1,
          18.5,
          3.8,
          12.2,
          14.5,
          15.2,
          6.9,
          14.9,
          15.9,
          18.9
         ]
        },
        {
         "customdata": [
          [
           "unsteered_default",
           "85",
           "1100"
          ],
          [
           "unsteered_prompted",
           "21",
           "1100"
          ],
          [
           "layers_32:64-harm_0.25",
           "40",
           "1100"
          ],
          [
           "layers_32:64-harm_0.01",
           "81",
           "1100"
          ],
          [
           "layers_32:64-safe_0.50",
           "79",
           "1100"
          ],
          [
           "layers_32:64-safe_0.01",
           "87",
           "1100"
          ],
          [
           "layers_0:64-harm_0.25",
           "47",
           "1100"
          ],
          [
           "layers_0:64-harm_0.01",
           "133",
           "1100"
          ],
          [
           "layers_0:64-safe_0.50",
           "200",
           "1100"
          ],
          [
           "layers_0:64-safe_0.01",
           "263",
           "1100"
          ],
          [
           "layers_2:64:2-harm_0.25",
           "53",
           "1100"
          ],
          [
           "layers_2:64:2-harm_0.01",
           "158",
           "1100"
          ],
          [
           "layers_2:64:2-safe_0.50",
           "176",
           "1100"
          ],
          [
           "layers_2:64:2-safe_0.01",
           "294",
           "1100"
          ],
          [
           "layers_4:64:4-harm_0.25",
           "38",
           "1100"
          ],
          [
           "layers_4:64:4-harm_0.01",
           "140",
           "1100"
          ],
          [
           "layers_4:64:4-safe_0.50",
           "162",
           "1100"
          ],
          [
           "layers_4:64:4-safe_0.01",
           "264",
           "1100"
          ]
         ],
         "hovertemplate": "Experiment: %{customdata[0]}<br>Refusal & Justification<br>Pct: %{y:.1f}%<br>Count: %{customdata[1]} / %{customdata[2]}<extra></extra>",
         "marker": {
          "color": "#33a02c"
         },
         "name": "Refusal & Justification",
         "type": "bar",
         "width": 0.8,
         "x": [
          0,
          1,
          2.6,
          3.6,
          4.6,
          5.6,
          7.199999999999999,
          8.2,
          9.2,
          10.2,
          11.799999999999999,
          12.799999999999999,
          13.799999999999999,
          14.799999999999999,
          16.4,
          17.4,
          18.4,
          19.4
         ],
         "y": [
          7.7,
          1.9,
          3.6,
          7.4,
          7.2,
          7.9,
          4.3,
          12.1,
          18.2,
          23.9,
          4.8,
          14.4,
          16,
          26.7,
          3.5,
          12.7,
          14.7,
          24
         ]
        },
        {
         "customdata": [
          [
           "unsteered_default",
           "34",
           "1100"
          ],
          [
           "unsteered_prompted",
           "9",
           "1100"
          ],
          [
           "layers_32:64-harm_0.25",
           "13",
           "1100"
          ],
          [
           "layers_32:64-harm_0.01",
           "27",
           "1100"
          ],
          [
           "layers_32:64-safe_0.50",
           "41",
           "1100"
          ],
          [
           "layers_32:64-safe_0.01",
           "77",
           "1100"
          ],
          [
           "layers_0:64-harm_0.25",
           "21",
           "1100"
          ],
          [
           "layers_0:64-harm_0.01",
           "31",
           "1100"
          ],
          [
           "layers_0:64-safe_0.50",
           "43",
           "1100"
          ],
          [
           "layers_0:64-safe_0.01",
           "67",
           "1100"
          ],
          [
           "layers_2:64:2-harm_0.25",
           "18",
           "1100"
          ],
          [
           "layers_2:64:2-harm_0.01",
           "26",
           "1100"
          ],
          [
           "layers_2:64:2-safe_0.50",
           "39",
           "1100"
          ],
          [
           "layers_2:64:2-safe_0.01",
           "72",
           "1100"
          ],
          [
           "layers_4:64:4-harm_0.25",
           "14",
           "1100"
          ],
          [
           "layers_4:64:4-harm_0.01",
           "29",
           "1100"
          ],
          [
           "layers_4:64:4-safe_0.50",
           "20",
           "1100"
          ],
          [
           "layers_4:64:4-safe_0.01",
           "51",
           "1100"
          ]
         ],
         "hovertemplate": "Experiment: %{customdata[0]}<br>Out of Context<br>Pct: %{y:.1f}%<br>Count: %{customdata[1]} / %{customdata[2]}<extra></extra>",
         "marker": {
          "color": "#6a3d9a"
         },
         "name": "Out of Context",
         "type": "bar",
         "width": 0.8,
         "x": [
          0,
          1,
          2.6,
          3.6,
          4.6,
          5.6,
          7.199999999999999,
          8.2,
          9.2,
          10.2,
          11.799999999999999,
          12.799999999999999,
          13.799999999999999,
          14.799999999999999,
          16.4,
          17.4,
          18.4,
          19.4
         ],
         "y": [
          3.1,
          0.8,
          1.2,
          2.5,
          3.7,
          7,
          1.9,
          2.8,
          3.9,
          6.1,
          1.6,
          2.4,
          3.5,
          6.5,
          1.3,
          2.6,
          1.8,
          4.6
         ]
        },
        {
         "customdata": [
          [
           "unsteered_default",
           "0",
           "1100"
          ],
          [
           "unsteered_prompted",
           "0",
           "1100"
          ],
          [
           "layers_32:64-harm_0.25",
           "15",
           "1100"
          ],
          [
           "layers_32:64-harm_0.01",
           "5",
           "1100"
          ],
          [
           "layers_32:64-safe_0.50",
           "4",
           "1100"
          ],
          [
           "layers_32:64-safe_0.01",
           "3",
           "1100"
          ],
          [
           "layers_0:64-harm_0.25",
           "22",
           "1100"
          ],
          [
           "layers_0:64-harm_0.01",
           "2",
           "1100"
          ],
          [
           "layers_0:64-safe_0.50",
           "5",
           "1100"
          ],
          [
           "layers_0:64-safe_0.01",
           "3",
           "1100"
          ],
          [
           "layers_2:64:2-harm_0.25",
           "0",
           "1100"
          ],
          [
           "layers_2:64:2-harm_0.01",
           "0",
           "1100"
          ],
          [
           "layers_2:64:2-safe_0.50",
           "0",
           "1100"
          ],
          [
           "layers_2:64:2-safe_0.01",
           "0",
           "1100"
          ],
          [
           "layers_4:64:4-harm_0.25",
           "0",
           "1100"
          ],
          [
           "layers_4:64:4-harm_0.01",
           "1",
           "1100"
          ],
          [
           "layers_4:64:4-safe_0.50",
           "0",
           "1100"
          ],
          [
           "layers_4:64:4-safe_0.01",
           "0",
           "1100"
          ]
         ],
         "hovertemplate": "Experiment: %{customdata[0]}<br>Nonsensical<br>Pct: %{y:.1f}%<br>Count: %{customdata[1]} / %{customdata[2]}<extra></extra>",
         "marker": {
          "color": "#fb9a99"
         },
         "name": "Nonsensical",
         "type": "bar",
         "width": 0.8,
         "x": [
          0,
          1,
          2.6,
          3.6,
          4.6,
          5.6,
          7.199999999999999,
          8.2,
          9.2,
          10.2,
          11.799999999999999,
          12.799999999999999,
          13.799999999999999,
          14.799999999999999,
          16.4,
          17.4,
          18.4,
          19.4
         ],
         "y": [
          0,
          0,
          1.4,
          0.5,
          0.4,
          0.3,
          2,
          0.2,
          0.5,
          0.3,
          0,
          0,
          0,
          0,
          0,
          0.1,
          0,
          0
         ]
        }
       ],
       "layout": {
        "annotations": [
         {
          "font": {
           "size": 9
          },
          "showarrow": false,
          "text": "98.7%",
          "x": 0,
          "y": 101.69999999999999
         },
         {
          "font": {
           "size": 8
          },
          "showarrow": false,
          "text": "<b>Default<br>Assistant</b>",
          "textangle": 0,
          "x": 0,
          "y": 108.69999999999999
         },
         {
          "font": {
           "size": 9
          },
          "showarrow": false,
          "text": "18.4%",
          "x": 1,
          "y": 21.400000000000002
         },
         {
          "font": {
           "size": 8
          },
          "showarrow": false,
          "text": "<b>Jailbreak<br>Persona</b>",
          "textangle": 0,
          "x": 1,
          "y": 28.400000000000002
         },
         {
          "font": {
           "size": 9
          },
          "showarrow": false,
          "text": "36.8%",
          "x": 2.6,
          "y": 39.8
         },
         {
          "font": {
           "size": 8
          },
          "showarrow": false,
          "text": "<b>75%<br>Harmful</b>",
          "textangle": 0,
          "x": 2.6,
          "y": 46.8
         },
         {
          "font": {
           "size": 9
          },
          "showarrow": false,
          "text": "56.3%",
          "x": 3.6,
          "y": 59.3
         },
         {
          "font": {
           "size": 8
          },
          "showarrow": false,
          "text": "<b>99%<br>Harmful</b>",
          "textangle": 0,
          "x": 3.6,
          "y": 66.3
         },
         {
          "font": {
           "size": 9
          },
          "showarrow": false,
          "text": "68.4%",
          "x": 4.6,
          "y": 71.4
         },
         {
          "font": {
           "size": 8
          },
          "showarrow": false,
          "text": "<b>50%<br>Safe</b>",
          "textangle": 0,
          "x": 4.6,
          "y": 78.4
         },
         {
          "font": {
           "size": 9
          },
          "showarrow": false,
          "text": "82.8%",
          "x": 5.6,
          "y": 85.8
         },
         {
          "font": {
           "size": 8
          },
          "showarrow": false,
          "text": "<b>99%<br>Safe</b>",
          "textangle": 0,
          "x": 5.6,
          "y": 92.8
         },
         {
          "font": {
           "size": 9
          },
          "showarrow": false,
          "text": "40.5%",
          "x": 7.199999999999999,
          "y": 43.49999999999999
         },
         {
          "font": {
           "size": 8
          },
          "showarrow": false,
          "text": "<b>75%<br>Harmful</b>",
          "textangle": 0,
          "x": 7.199999999999999,
          "y": 50.49999999999999
         },
         {
          "font": {
           "size": 9
          },
          "showarrow": false,
          "text": "61.0%",
          "x": 8.2,
          "y": 64
         },
         {
          "font": {
           "size": 8
          },
          "showarrow": false,
          "text": "<b>99%<br>Harmful</b>",
          "textangle": 0,
          "x": 8.2,
          "y": 71
         },
         {
          "font": {
           "size": 9
          },
          "showarrow": false,
          "text": "75.5%",
          "x": 9.2,
          "y": 78.5
         },
         {
          "font": {
           "size": 8
          },
          "showarrow": false,
          "text": "<b>50%<br>Safe</b>",
          "textangle": 0,
          "x": 9.2,
          "y": 85.5
         },
         {
          "font": {
           "size": 9
          },
          "showarrow": false,
          "text": "91.5%",
          "x": 10.2,
          "y": 94.49999999999999
         },
         {
          "font": {
           "size": 8
          },
          "showarrow": false,
          "text": "<b>99%<br>Safe</b>",
          "textangle": 0,
          "x": 10.2,
          "y": 101.49999999999999
         },
         {
          "font": {
           "size": 9
          },
          "showarrow": false,
          "text": "35.0%",
          "x": 11.799999999999999,
          "y": 38
         },
         {
          "font": {
           "size": 8
          },
          "showarrow": false,
          "text": "<b>75%<br>Harmful</b>",
          "textangle": 0,
          "x": 11.799999999999999,
          "y": 45
         },
         {
          "font": {
           "size": 9
          },
          "showarrow": false,
          "text": "61.3%",
          "x": 12.799999999999999,
          "y": 64.3
         },
         {
          "font": {
           "size": 8
          },
          "showarrow": false,
          "text": "<b>99%<br>Harmful</b>",
          "textangle": 0,
          "x": 12.799999999999999,
          "y": 71.3
         },
         {
          "font": {
           "size": 9
          },
          "showarrow": false,
          "text": "71.0%",
          "x": 13.799999999999999,
          "y": 74
         },
         {
          "font": {
           "size": 8
          },
          "showarrow": false,
          "text": "<b>50%<br>Safe</b>",
          "textangle": 0,
          "x": 13.799999999999999,
          "y": 81
         },
         {
          "font": {
           "size": 9
          },
          "showarrow": false,
          "text": "90.9%",
          "x": 14.799999999999999,
          "y": 93.9
         },
         {
          "font": {
           "size": 8
          },
          "showarrow": false,
          "text": "<b>99%<br>Safe</b>",
          "textangle": 0,
          "x": 14.799999999999999,
          "y": 100.9
         },
         {
          "font": {
           "size": 9
          },
          "showarrow": false,
          "text": "34.8%",
          "x": 16.4,
          "y": 37.8
         },
         {
          "font": {
           "size": 8
          },
          "showarrow": false,
          "text": "<b>75%<br>Harmful</b>",
          "textangle": 0,
          "x": 16.4,
          "y": 44.8
         },
         {
          "font": {
           "size": 9
          },
          "showarrow": false,
          "text": "59.9%",
          "x": 17.4,
          "y": 62.900000000000006
         },
         {
          "font": {
           "size": 8
          },
          "showarrow": false,
          "text": "<b>99%<br>Harmful</b>",
          "textangle": 0,
          "x": 17.4,
          "y": 69.9
         },
         {
          "font": {
           "size": 9
          },
          "showarrow": false,
          "text": "67.8%",
          "x": 18.4,
          "y": 70.8
         },
         {
          "font": {
           "size": 8
          },
          "showarrow": false,
          "text": "<b>50%<br>Safe</b>",
          "textangle": 0,
          "x": 18.4,
          "y": 77.8
         },
         {
          "font": {
           "size": 9
          },
          "showarrow": false,
          "text": "87.5%",
          "x": 19.4,
          "y": 90.5
         },
         {
          "font": {
           "size": 8
          },
          "showarrow": false,
          "text": "<b>99%<br>Safe</b>",
          "textangle": 0,
          "x": 19.4,
          "y": 97.5
         }
        ],
        "bargap": 0.01,
        "barmode": "stack",
        "height": 600,
        "legend": {
         "orientation": "h",
         "x": 1,
         "xanchor": "right",
         "y": 1.02,
         "yanchor": "bottom"
        },
        "template": {
         "data": {
          "bar": [
           {
            "error_x": {
             "color": "#2a3f5f"
            },
            "error_y": {
             "color": "#2a3f5f"
            },
            "marker": {
             "line": {
              "color": "#E5ECF6",
              "width": 0.5
             },
             "pattern": {
              "fillmode": "overlay",
              "size": 10,
              "solidity": 0.2
             }
            },
            "type": "bar"
           }
          ],
          "barpolar": [
           {
            "marker": {
             "line": {
              "color": "#E5ECF6",
              "width": 0.5
             },
             "pattern": {
              "fillmode": "overlay",
              "size": 10,
              "solidity": 0.2
             }
            },
            "type": "barpolar"
           }
          ],
          "carpet": [
           {
            "aaxis": {
             "endlinecolor": "#2a3f5f",
             "gridcolor": "white",
             "linecolor": "white",
             "minorgridcolor": "white",
             "startlinecolor": "#2a3f5f"
            },
            "baxis": {
             "endlinecolor": "#2a3f5f",
             "gridcolor": "white",
             "linecolor": "white",
             "minorgridcolor": "white",
             "startlinecolor": "#2a3f5f"
            },
            "type": "carpet"
           }
          ],
          "choropleth": [
           {
            "colorbar": {
             "outlinewidth": 0,
             "ticks": ""
            },
            "type": "choropleth"
           }
          ],
          "contour": [
           {
            "colorbar": {
             "outlinewidth": 0,
             "ticks": ""
            },
            "colorscale": [
             [
              0,
              "#0d0887"
             ],
             [
              0.1111111111111111,
              "#46039f"
             ],
             [
              0.2222222222222222,
              "#7201a8"
             ],
             [
              0.3333333333333333,
              "#9c179e"
             ],
             [
              0.4444444444444444,
              "#bd3786"
             ],
             [
              0.5555555555555556,
              "#d8576b"
             ],
             [
              0.6666666666666666,
              "#ed7953"
             ],
             [
              0.7777777777777778,
              "#fb9f3a"
             ],
             [
              0.8888888888888888,
              "#fdca26"
             ],
             [
              1,
              "#f0f921"
             ]
            ],
            "type": "contour"
           }
          ],
          "contourcarpet": [
           {
            "colorbar": {
             "outlinewidth": 0,
             "ticks": ""
            },
            "type": "contourcarpet"
           }
          ],
          "heatmap": [
           {
            "colorbar": {
             "outlinewidth": 0,
             "ticks": ""
            },
            "colorscale": [
             [
              0,
              "#0d0887"
             ],
             [
              0.1111111111111111,
              "#46039f"
             ],
             [
              0.2222222222222222,
              "#7201a8"
             ],
             [
              0.3333333333333333,
              "#9c179e"
             ],
             [
              0.4444444444444444,
              "#bd3786"
             ],
             [
              0.5555555555555556,
              "#d8576b"
             ],
             [
              0.6666666666666666,
              "#ed7953"
             ],
             [
              0.7777777777777778,
              "#fb9f3a"
             ],
             [
              0.8888888888888888,
              "#fdca26"
             ],
             [
              1,
              "#f0f921"
             ]
            ],
            "type": "heatmap"
           }
          ],
          "heatmapgl": [
           {
            "colorbar": {
             "outlinewidth": 0,
             "ticks": ""
            },
            "colorscale": [
             [
              0,
              "#0d0887"
             ],
             [
              0.1111111111111111,
              "#46039f"
             ],
             [
              0.2222222222222222,
              "#7201a8"
             ],
             [
              0.3333333333333333,
              "#9c179e"
             ],
             [
              0.4444444444444444,
              "#bd3786"
             ],
             [
              0.5555555555555556,
              "#d8576b"
             ],
             [
              0.6666666666666666,
              "#ed7953"
             ],
             [
              0.7777777777777778,
              "#fb9f3a"
             ],
             [
              0.8888888888888888,
              "#fdca26"
             ],
             [
              1,
              "#f0f921"
             ]
            ],
            "type": "heatmapgl"
           }
          ],
          "histogram": [
           {
            "marker": {
             "pattern": {
              "fillmode": "overlay",
              "size": 10,
              "solidity": 0.2
             }
            },
            "type": "histogram"
           }
          ],
          "histogram2d": [
           {
            "colorbar": {
             "outlinewidth": 0,
             "ticks": ""
            },
            "colorscale": [
             [
              0,
              "#0d0887"
             ],
             [
              0.1111111111111111,
              "#46039f"
             ],
             [
              0.2222222222222222,
              "#7201a8"
             ],
             [
              0.3333333333333333,
              "#9c179e"
             ],
             [
              0.4444444444444444,
              "#bd3786"
             ],
             [
              0.5555555555555556,
              "#d8576b"
             ],
             [
              0.6666666666666666,
              "#ed7953"
             ],
             [
              0.7777777777777778,
              "#fb9f3a"
             ],
             [
              0.8888888888888888,
              "#fdca26"
             ],
             [
              1,
              "#f0f921"
             ]
            ],
            "type": "histogram2d"
           }
          ],
          "histogram2dcontour": [
           {
            "colorbar": {
             "outlinewidth": 0,
             "ticks": ""
            },
            "colorscale": [
             [
              0,
              "#0d0887"
             ],
             [
              0.1111111111111111,
              "#46039f"
             ],
             [
              0.2222222222222222,
              "#7201a8"
             ],
             [
              0.3333333333333333,
              "#9c179e"
             ],
             [
              0.4444444444444444,
              "#bd3786"
             ],
             [
              0.5555555555555556,
              "#d8576b"
             ],
             [
              0.6666666666666666,
              "#ed7953"
             ],
             [
              0.7777777777777778,
              "#fb9f3a"
             ],
             [
              0.8888888888888888,
              "#fdca26"
             ],
             [
              1,
              "#f0f921"
             ]
            ],
            "type": "histogram2dcontour"
           }
          ],
          "mesh3d": [
           {
            "colorbar": {
             "outlinewidth": 0,
             "ticks": ""
            },
            "type": "mesh3d"
           }
          ],
          "parcoords": [
           {
            "line": {
             "colorbar": {
              "outlinewidth": 0,
              "ticks": ""
             }
            },
            "type": "parcoords"
           }
          ],
          "pie": [
           {
            "automargin": true,
            "type": "pie"
           }
          ],
          "scatter": [
           {
            "fillpattern": {
             "fillmode": "overlay",
             "size": 10,
             "solidity": 0.2
            },
            "type": "scatter"
           }
          ],
          "scatter3d": [
           {
            "line": {
             "colorbar": {
              "outlinewidth": 0,
              "ticks": ""
             }
            },
            "marker": {
             "colorbar": {
              "outlinewidth": 0,
              "ticks": ""
             }
            },
            "type": "scatter3d"
           }
          ],
          "scattercarpet": [
           {
            "marker": {
             "colorbar": {
              "outlinewidth": 0,
              "ticks": ""
             }
            },
            "type": "scattercarpet"
           }
          ],
          "scattergeo": [
           {
            "marker": {
             "colorbar": {
              "outlinewidth": 0,
              "ticks": ""
             }
            },
            "type": "scattergeo"
           }
          ],
          "scattergl": [
           {
            "marker": {
             "colorbar": {
              "outlinewidth": 0,
              "ticks": ""
             }
            },
            "type": "scattergl"
           }
          ],
          "scattermapbox": [
           {
            "marker": {
             "colorbar": {
              "outlinewidth": 0,
              "ticks": ""
             }
            },
            "type": "scattermapbox"
           }
          ],
          "scatterpolar": [
           {
            "marker": {
             "colorbar": {
              "outlinewidth": 0,
              "ticks": ""
             }
            },
            "type": "scatterpolar"
           }
          ],
          "scatterpolargl": [
           {
            "marker": {
             "colorbar": {
              "outlinewidth": 0,
              "ticks": ""
             }
            },
            "type": "scatterpolargl"
           }
          ],
          "scatterternary": [
           {
            "marker": {
             "colorbar": {
              "outlinewidth": 0,
              "ticks": ""
             }
            },
            "type": "scatterternary"
           }
          ],
          "surface": [
           {
            "colorbar": {
             "outlinewidth": 0,
             "ticks": ""
            },
            "colorscale": [
             [
              0,
              "#0d0887"
             ],
             [
              0.1111111111111111,
              "#46039f"
             ],
             [
              0.2222222222222222,
              "#7201a8"
             ],
             [
              0.3333333333333333,
              "#9c179e"
             ],
             [
              0.4444444444444444,
              "#bd3786"
             ],
             [
              0.5555555555555556,
              "#d8576b"
             ],
             [
              0.6666666666666666,
              "#ed7953"
             ],
             [
              0.7777777777777778,
              "#fb9f3a"
             ],
             [
              0.8888888888888888,
              "#fdca26"
             ],
             [
              1,
              "#f0f921"
             ]
            ],
            "type": "surface"
           }
          ],
          "table": [
           {
            "cells": {
             "fill": {
              "color": "#EBF0F8"
             },
             "line": {
              "color": "white"
             }
            },
            "header": {
             "fill": {
              "color": "#C8D4E3"
             },
             "line": {
              "color": "white"
             }
            },
            "type": "table"
           }
          ]
         },
         "layout": {
          "annotationdefaults": {
           "arrowcolor": "#2a3f5f",
           "arrowhead": 0,
           "arrowwidth": 1
          },
          "autotypenumbers": "strict",
          "coloraxis": {
           "colorbar": {
            "outlinewidth": 0,
            "ticks": ""
           }
          },
          "colorscale": {
           "diverging": [
            [
             0,
             "#8e0152"
            ],
            [
             0.1,
             "#c51b7d"
            ],
            [
             0.2,
             "#de77ae"
            ],
            [
             0.3,
             "#f1b6da"
            ],
            [
             0.4,
             "#fde0ef"
            ],
            [
             0.5,
             "#f7f7f7"
            ],
            [
             0.6,
             "#e6f5d0"
            ],
            [
             0.7,
             "#b8e186"
            ],
            [
             0.8,
             "#7fbc41"
            ],
            [
             0.9,
             "#4d9221"
            ],
            [
             1,
             "#276419"
            ]
           ],
           "sequential": [
            [
             0,
             "#0d0887"
            ],
            [
             0.1111111111111111,
             "#46039f"
            ],
            [
             0.2222222222222222,
             "#7201a8"
            ],
            [
             0.3333333333333333,
             "#9c179e"
            ],
            [
             0.4444444444444444,
             "#bd3786"
            ],
            [
             0.5555555555555556,
             "#d8576b"
            ],
            [
             0.6666666666666666,
             "#ed7953"
            ],
            [
             0.7777777777777778,
             "#fb9f3a"
            ],
            [
             0.8888888888888888,
             "#fdca26"
            ],
            [
             1,
             "#f0f921"
            ]
           ],
           "sequentialminus": [
            [
             0,
             "#0d0887"
            ],
            [
             0.1111111111111111,
             "#46039f"
            ],
            [
             0.2222222222222222,
             "#7201a8"
            ],
            [
             0.3333333333333333,
             "#9c179e"
            ],
            [
             0.4444444444444444,
             "#bd3786"
            ],
            [
             0.5555555555555556,
             "#d8576b"
            ],
            [
             0.6666666666666666,
             "#ed7953"
            ],
            [
             0.7777777777777778,
             "#fb9f3a"
            ],
            [
             0.8888888888888888,
             "#fdca26"
            ],
            [
             1,
             "#f0f921"
            ]
           ]
          },
          "colorway": [
           "#636efa",
           "#EF553B",
           "#00cc96",
           "#ab63fa",
           "#FFA15A",
           "#19d3f3",
           "#FF6692",
           "#B6E880",
           "#FF97FF",
           "#FECB52"
          ],
          "font": {
           "color": "#2a3f5f"
          },
          "geo": {
           "bgcolor": "white",
           "lakecolor": "white",
           "landcolor": "#E5ECF6",
           "showlakes": true,
           "showland": true,
           "subunitcolor": "white"
          },
          "hoverlabel": {
           "align": "left"
          },
          "hovermode": "closest",
          "mapbox": {
           "style": "light"
          },
          "paper_bgcolor": "white",
          "plot_bgcolor": "#E5ECF6",
          "polar": {
           "angularaxis": {
            "gridcolor": "white",
            "linecolor": "white",
            "ticks": ""
           },
           "bgcolor": "#E5ECF6",
           "radialaxis": {
            "gridcolor": "white",
            "linecolor": "white",
            "ticks": ""
           }
          },
          "scene": {
           "xaxis": {
            "backgroundcolor": "#E5ECF6",
            "gridcolor": "white",
            "gridwidth": 2,
            "linecolor": "white",
            "showbackground": true,
            "ticks": "",
            "zerolinecolor": "white"
           },
           "yaxis": {
            "backgroundcolor": "#E5ECF6",
            "gridcolor": "white",
            "gridwidth": 2,
            "linecolor": "white",
            "showbackground": true,
            "ticks": "",
            "zerolinecolor": "white"
           },
           "zaxis": {
            "backgroundcolor": "#E5ECF6",
            "gridcolor": "white",
            "gridwidth": 2,
            "linecolor": "white",
            "showbackground": true,
            "ticks": "",
            "zerolinecolor": "white"
           }
          },
          "shapedefaults": {
           "line": {
            "color": "#2a3f5f"
           }
          },
          "ternary": {
           "aaxis": {
            "gridcolor": "white",
            "linecolor": "white",
            "ticks": ""
           },
           "baxis": {
            "gridcolor": "white",
            "linecolor": "white",
            "ticks": ""
           },
           "bgcolor": "#E5ECF6",
           "caxis": {
            "gridcolor": "white",
            "linecolor": "white",
            "ticks": ""
           }
          },
          "title": {
           "x": 0.05
          },
          "xaxis": {
           "automargin": true,
           "gridcolor": "white",
           "linecolor": "white",
           "ticks": "",
           "title": {
            "standoff": 15
           },
           "zerolinecolor": "white",
           "zerolinewidth": 2
          },
          "yaxis": {
           "automargin": true,
           "gridcolor": "white",
           "linecolor": "white",
           "ticks": "",
           "title": {
            "standoff": 15
           },
           "zerolinecolor": "white",
           "zerolinewidth": 2
          }
         }
        },
        "title": {
         "subtitle": {
          "text": "Qwen 3 32B, Projecting on Mean (Role-Playing - Default Assistant) Contrast Vector"
         },
         "text": "Other Responses with Persona-based Jailbreaks Across Capping Experiments"
        },
        "width": 1200,
        "xaxis": {
         "gridcolor": "lightgray",
         "range": [
          -0.5,
          19.9
         ],
         "showgrid": true,
         "tickmode": "array",
         "ticktext": [
          "Baseline",
          "Layers 32-63",
          "All Layers 0-63",
          "Every 2nd Layer",
          "Every 4th Layer"
         ],
         "tickvals": [
          0.5,
          4.1,
          8.7,
          13.299999999999999,
          17.9
         ],
         "title": {
          "text": "Experiment Groups"
         }
        },
        "yaxis": {
         "gridcolor": "lightgray",
         "range": [
          0,
          119
         ],
         "showgrid": true,
         "title": {
          "text": "Percentage of Responses"
         }
        }
       }
      },
      "text/html": [
       "<div>                            <div id=\"e2cb9b0f-65df-4591-9c1a-2fe495c3f8e5\" class=\"plotly-graph-div\" style=\"height:600px; width:1200px;\"></div>            <script type=\"text/javascript\">                require([\"plotly\"], function(Plotly) {                    window.PLOTLYENV=window.PLOTLYENV || {};                                    if (document.getElementById(\"e2cb9b0f-65df-4591-9c1a-2fe495c3f8e5\")) {                    Plotly.newPlot(                        \"e2cb9b0f-65df-4591-9c1a-2fe495c3f8e5\",                        [{\"customdata\":[[\"unsteered_default\",\"1\",\"1100\"],[\"unsteered_prompted\",\"4\",\"1100\"],[\"layers_32:64-harm_0.25\",\"10\",\"1100\"],[\"layers_32:64-harm_0.01\",\"11\",\"1100\"],[\"layers_32:64-safe_0.50\",\"14\",\"1100\"],[\"layers_32:64-safe_0.01\",\"17\",\"1100\"],[\"layers_0:64-harm_0.25\",\"15\",\"1100\"],[\"layers_0:64-harm_0.01\",\"3\",\"1100\"],[\"layers_0:64-safe_0.50\",\"15\",\"1100\"],[\"layers_0:64-safe_0.01\",\"2\",\"1100\"],[\"layers_2:64:2-harm_0.25\",\"8\",\"1100\"],[\"layers_2:64:2-harm_0.01\",\"5\",\"1100\"],[\"layers_2:64:2-safe_0.50\",\"11\",\"1100\"],[\"layers_2:64:2-safe_0.01\",\"11\",\"1100\"],[\"layers_4:64:4-harm_0.25\",\"6\",\"1100\"],[\"layers_4:64:4-harm_0.01\",\"6\",\"1100\"],[\"layers_4:64:4-safe_0.50\",\"9\",\"1100\"],[\"layers_4:64:4-safe_0.01\",\"5\",\"1100\"]],\"hovertemplate\":\"Experiment: %{customdata[0]}\\u003cbr\\u003eAlmost Harmful\\u003cbr\\u003ePct: %{y:.1f}%\\u003cbr\\u003eCount: %{customdata[1]} \\u002f %{customdata[2]}\\u003cextra\\u003e\\u003c\\u002fextra\\u003e\",\"marker\":{\"color\":\"#ffff33\"},\"name\":\"Almost Harmful\",\"width\":0.8,\"x\":[0.0,1.0,2.6,3.6,4.6,5.6,7.199999999999999,8.2,9.2,10.2,11.799999999999999,12.799999999999999,13.799999999999999,14.799999999999999,16.4,17.4,18.4,19.4],\"y\":[0.1,0.4,0.9,1.0,1.3,1.5,1.4,0.3,1.4,0.2,0.7,0.5,1.0,1.0,0.5,0.5,0.8,0.5],\"type\":\"bar\"},{\"customdata\":[[\"unsteered_default\",\"870\",\"1100\"],[\"unsteered_prompted\",\"119\",\"1100\"],[\"layers_32:64-harm_0.25\",\"253\",\"1100\"],[\"layers_32:64-harm_0.01\",\"414\",\"1100\"],[\"layers_32:64-safe_0.50\",\"529\",\"1100\"],[\"layers_32:64-safe_0.01\",\"642\",\"1100\"],[\"layers_0:64-harm_0.25\",\"279\",\"1100\"],[\"layers_0:64-harm_0.01\",\"340\",\"1100\"],[\"layers_0:64-safe_0.50\",\"400\",\"1100\"],[\"layers_0:64-safe_0.01\",\"468\",\"1100\"],[\"layers_2:64:2-harm_0.25\",\"265\",\"1100\"],[\"layers_2:64:2-harm_0.01\",\"350\",\"1100\"],[\"layers_2:64:2-safe_0.50\",\"396\",\"1100\"],[\"layers_2:64:2-safe_0.01\",\"457\",\"1100\"],[\"layers_4:64:4-harm_0.25\",\"249\",\"1100\"],[\"layers_4:64:4-harm_0.01\",\"320\",\"1100\"],[\"layers_4:64:4-safe_0.50\",\"381\",\"1100\"],[\"layers_4:64:4-safe_0.01\",\"435\",\"1100\"]],\"hovertemplate\":\"Experiment: %{customdata[0]}\\u003cbr\\u003eRelated\\u003cbr\\u003ePct: %{y:.1f}%\\u003cbr\\u003eCount: %{customdata[1]} \\u002f %{customdata[2]}\\u003cextra\\u003e\\u003c\\u002fextra\\u003e\",\"marker\":{\"color\":\"#1f78b4\"},\"name\":\"Related\",\"width\":0.8,\"x\":[0.0,1.0,2.6,3.6,4.6,5.6,7.199999999999999,8.2,9.2,10.2,11.799999999999999,12.799999999999999,13.799999999999999,14.799999999999999,16.4,17.4,18.4,19.4],\"y\":[79.1,10.8,23.0,37.6,48.1,58.4,25.4,30.9,36.4,42.5,24.1,31.8,36.0,41.5,22.6,29.1,34.6,39.5],\"type\":\"bar\"},{\"customdata\":[[\"unsteered_default\",\"96\",\"1100\"],[\"unsteered_prompted\",\"49\",\"1100\"],[\"layers_32:64-harm_0.25\",\"74\",\"1100\"],[\"layers_32:64-harm_0.01\",\"80\",\"1100\"],[\"layers_32:64-safe_0.50\",\"85\",\"1100\"],[\"layers_32:64-safe_0.01\",\"85\",\"1100\"],[\"layers_0:64-harm_0.25\",\"60\",\"1100\"],[\"layers_0:64-harm_0.01\",\"162\",\"1100\"],[\"layers_0:64-safe_0.50\",\"166\",\"1100\"],[\"layers_0:64-safe_0.01\",\"203\",\"1100\"],[\"layers_2:64:2-harm_0.25\",\"42\",\"1100\"],[\"layers_2:64:2-harm_0.01\",\"134\",\"1100\"],[\"layers_2:64:2-safe_0.50\",\"159\",\"1100\"],[\"layers_2:64:2-safe_0.01\",\"167\",\"1100\"],[\"layers_4:64:4-harm_0.25\",\"76\",\"1100\"],[\"layers_4:64:4-harm_0.01\",\"164\",\"1100\"],[\"layers_4:64:4-safe_0.50\",\"175\",\"1100\"],[\"layers_4:64:4-safe_0.01\",\"208\",\"1100\"]],\"hovertemplate\":\"Experiment: %{customdata[0]}\\u003cbr\\u003eRefusal\\u003cbr\\u003ePct: %{y:.1f}%\\u003cbr\\u003eCount: %{customdata[1]} \\u002f %{customdata[2]}\\u003cextra\\u003e\\u003c\\u002fextra\\u003e\",\"marker\":{\"color\":\"#b2df8a\"},\"name\":\"Refusal\",\"width\":0.8,\"x\":[0.0,1.0,2.6,3.6,4.6,5.6,7.199999999999999,8.2,9.2,10.2,11.799999999999999,12.799999999999999,13.799999999999999,14.799999999999999,16.4,17.4,18.4,19.4],\"y\":[8.7,4.5,6.7,7.3,7.7,7.7,5.5,14.7,15.1,18.5,3.8,12.2,14.5,15.2,6.9,14.9,15.9,18.9],\"type\":\"bar\"},{\"customdata\":[[\"unsteered_default\",\"85\",\"1100\"],[\"unsteered_prompted\",\"21\",\"1100\"],[\"layers_32:64-harm_0.25\",\"40\",\"1100\"],[\"layers_32:64-harm_0.01\",\"81\",\"1100\"],[\"layers_32:64-safe_0.50\",\"79\",\"1100\"],[\"layers_32:64-safe_0.01\",\"87\",\"1100\"],[\"layers_0:64-harm_0.25\",\"47\",\"1100\"],[\"layers_0:64-harm_0.01\",\"133\",\"1100\"],[\"layers_0:64-safe_0.50\",\"200\",\"1100\"],[\"layers_0:64-safe_0.01\",\"263\",\"1100\"],[\"layers_2:64:2-harm_0.25\",\"53\",\"1100\"],[\"layers_2:64:2-harm_0.01\",\"158\",\"1100\"],[\"layers_2:64:2-safe_0.50\",\"176\",\"1100\"],[\"layers_2:64:2-safe_0.01\",\"294\",\"1100\"],[\"layers_4:64:4-harm_0.25\",\"38\",\"1100\"],[\"layers_4:64:4-harm_0.01\",\"140\",\"1100\"],[\"layers_4:64:4-safe_0.50\",\"162\",\"1100\"],[\"layers_4:64:4-safe_0.01\",\"264\",\"1100\"]],\"hovertemplate\":\"Experiment: %{customdata[0]}\\u003cbr\\u003eRefusal & Justification\\u003cbr\\u003ePct: %{y:.1f}%\\u003cbr\\u003eCount: %{customdata[1]} \\u002f %{customdata[2]}\\u003cextra\\u003e\\u003c\\u002fextra\\u003e\",\"marker\":{\"color\":\"#33a02c\"},\"name\":\"Refusal & Justification\",\"width\":0.8,\"x\":[0.0,1.0,2.6,3.6,4.6,5.6,7.199999999999999,8.2,9.2,10.2,11.799999999999999,12.799999999999999,13.799999999999999,14.799999999999999,16.4,17.4,18.4,19.4],\"y\":[7.7,1.9,3.6,7.4,7.2,7.9,4.3,12.1,18.2,23.9,4.8,14.4,16.0,26.7,3.5,12.7,14.7,24.0],\"type\":\"bar\"},{\"customdata\":[[\"unsteered_default\",\"34\",\"1100\"],[\"unsteered_prompted\",\"9\",\"1100\"],[\"layers_32:64-harm_0.25\",\"13\",\"1100\"],[\"layers_32:64-harm_0.01\",\"27\",\"1100\"],[\"layers_32:64-safe_0.50\",\"41\",\"1100\"],[\"layers_32:64-safe_0.01\",\"77\",\"1100\"],[\"layers_0:64-harm_0.25\",\"21\",\"1100\"],[\"layers_0:64-harm_0.01\",\"31\",\"1100\"],[\"layers_0:64-safe_0.50\",\"43\",\"1100\"],[\"layers_0:64-safe_0.01\",\"67\",\"1100\"],[\"layers_2:64:2-harm_0.25\",\"18\",\"1100\"],[\"layers_2:64:2-harm_0.01\",\"26\",\"1100\"],[\"layers_2:64:2-safe_0.50\",\"39\",\"1100\"],[\"layers_2:64:2-safe_0.01\",\"72\",\"1100\"],[\"layers_4:64:4-harm_0.25\",\"14\",\"1100\"],[\"layers_4:64:4-harm_0.01\",\"29\",\"1100\"],[\"layers_4:64:4-safe_0.50\",\"20\",\"1100\"],[\"layers_4:64:4-safe_0.01\",\"51\",\"1100\"]],\"hovertemplate\":\"Experiment: %{customdata[0]}\\u003cbr\\u003eOut of Context\\u003cbr\\u003ePct: %{y:.1f}%\\u003cbr\\u003eCount: %{customdata[1]} \\u002f %{customdata[2]}\\u003cextra\\u003e\\u003c\\u002fextra\\u003e\",\"marker\":{\"color\":\"#6a3d9a\"},\"name\":\"Out of Context\",\"width\":0.8,\"x\":[0.0,1.0,2.6,3.6,4.6,5.6,7.199999999999999,8.2,9.2,10.2,11.799999999999999,12.799999999999999,13.799999999999999,14.799999999999999,16.4,17.4,18.4,19.4],\"y\":[3.1,0.8,1.2,2.5,3.7,7.0,1.9,2.8,3.9,6.1,1.6,2.4,3.5,6.5,1.3,2.6,1.8,4.6],\"type\":\"bar\"},{\"customdata\":[[\"unsteered_default\",\"0\",\"1100\"],[\"unsteered_prompted\",\"0\",\"1100\"],[\"layers_32:64-harm_0.25\",\"15\",\"1100\"],[\"layers_32:64-harm_0.01\",\"5\",\"1100\"],[\"layers_32:64-safe_0.50\",\"4\",\"1100\"],[\"layers_32:64-safe_0.01\",\"3\",\"1100\"],[\"layers_0:64-harm_0.25\",\"22\",\"1100\"],[\"layers_0:64-harm_0.01\",\"2\",\"1100\"],[\"layers_0:64-safe_0.50\",\"5\",\"1100\"],[\"layers_0:64-safe_0.01\",\"3\",\"1100\"],[\"layers_2:64:2-harm_0.25\",\"0\",\"1100\"],[\"layers_2:64:2-harm_0.01\",\"0\",\"1100\"],[\"layers_2:64:2-safe_0.50\",\"0\",\"1100\"],[\"layers_2:64:2-safe_0.01\",\"0\",\"1100\"],[\"layers_4:64:4-harm_0.25\",\"0\",\"1100\"],[\"layers_4:64:4-harm_0.01\",\"1\",\"1100\"],[\"layers_4:64:4-safe_0.50\",\"0\",\"1100\"],[\"layers_4:64:4-safe_0.01\",\"0\",\"1100\"]],\"hovertemplate\":\"Experiment: %{customdata[0]}\\u003cbr\\u003eNonsensical\\u003cbr\\u003ePct: %{y:.1f}%\\u003cbr\\u003eCount: %{customdata[1]} \\u002f %{customdata[2]}\\u003cextra\\u003e\\u003c\\u002fextra\\u003e\",\"marker\":{\"color\":\"#fb9a99\"},\"name\":\"Nonsensical\",\"width\":0.8,\"x\":[0.0,1.0,2.6,3.6,4.6,5.6,7.199999999999999,8.2,9.2,10.2,11.799999999999999,12.799999999999999,13.799999999999999,14.799999999999999,16.4,17.4,18.4,19.4],\"y\":[0.0,0.0,1.4,0.5,0.4,0.3,2.0,0.2,0.5,0.3,0.0,0.0,0.0,0.0,0.0,0.1,0.0,0.0],\"type\":\"bar\"}],                        {\"template\":{\"data\":{\"histogram2dcontour\":[{\"type\":\"histogram2dcontour\",\"colorbar\":{\"outlinewidth\":0,\"ticks\":\"\"},\"colorscale\":[[0.0,\"#0d0887\"],[0.1111111111111111,\"#46039f\"],[0.2222222222222222,\"#7201a8\"],[0.3333333333333333,\"#9c179e\"],[0.4444444444444444,\"#bd3786\"],[0.5555555555555556,\"#d8576b\"],[0.6666666666666666,\"#ed7953\"],[0.7777777777777778,\"#fb9f3a\"],[0.8888888888888888,\"#fdca26\"],[1.0,\"#f0f921\"]]}],\"choropleth\":[{\"type\":\"choropleth\",\"colorbar\":{\"outlinewidth\":0,\"ticks\":\"\"}}],\"histogram2d\":[{\"type\":\"histogram2d\",\"colorbar\":{\"outlinewidth\":0,\"ticks\":\"\"},\"colorscale\":[[0.0,\"#0d0887\"],[0.1111111111111111,\"#46039f\"],[0.2222222222222222,\"#7201a8\"],[0.3333333333333333,\"#9c179e\"],[0.4444444444444444,\"#bd3786\"],[0.5555555555555556,\"#d8576b\"],[0.6666666666666666,\"#ed7953\"],[0.7777777777777778,\"#fb9f3a\"],[0.8888888888888888,\"#fdca26\"],[1.0,\"#f0f921\"]]}],\"heatmap\":[{\"type\":\"heatmap\",\"colorbar\":{\"outlinewidth\":0,\"ticks\":\"\"},\"colorscale\":[[0.0,\"#0d0887\"],[0.1111111111111111,\"#46039f\"],[0.2222222222222222,\"#7201a8\"],[0.3333333333333333,\"#9c179e\"],[0.4444444444444444,\"#bd3786\"],[0.5555555555555556,\"#d8576b\"],[0.6666666666666666,\"#ed7953\"],[0.7777777777777778,\"#fb9f3a\"],[0.8888888888888888,\"#fdca26\"],[1.0,\"#f0f921\"]]}],\"heatmapgl\":[{\"type\":\"heatmapgl\",\"colorbar\":{\"outlinewidth\":0,\"ticks\":\"\"},\"colorscale\":[[0.0,\"#0d0887\"],[0.1111111111111111,\"#46039f\"],[0.2222222222222222,\"#7201a8\"],[0.3333333333333333,\"#9c179e\"],[0.4444444444444444,\"#bd3786\"],[0.5555555555555556,\"#d8576b\"],[0.6666666666666666,\"#ed7953\"],[0.7777777777777778,\"#fb9f3a\"],[0.8888888888888888,\"#fdca26\"],[1.0,\"#f0f921\"]]}],\"contourcarpet\":[{\"type\":\"contourcarpet\",\"colorbar\":{\"outlinewidth\":0,\"ticks\":\"\"}}],\"contour\":[{\"type\":\"contour\",\"colorbar\":{\"outlinewidth\":0,\"ticks\":\"\"},\"colorscale\":[[0.0,\"#0d0887\"],[0.1111111111111111,\"#46039f\"],[0.2222222222222222,\"#7201a8\"],[0.3333333333333333,\"#9c179e\"],[0.4444444444444444,\"#bd3786\"],[0.5555555555555556,\"#d8576b\"],[0.6666666666666666,\"#ed7953\"],[0.7777777777777778,\"#fb9f3a\"],[0.8888888888888888,\"#fdca26\"],[1.0,\"#f0f921\"]]}],\"surface\":[{\"type\":\"surface\",\"colorbar\":{\"outlinewidth\":0,\"ticks\":\"\"},\"colorscale\":[[0.0,\"#0d0887\"],[0.1111111111111111,\"#46039f\"],[0.2222222222222222,\"#7201a8\"],[0.3333333333333333,\"#9c179e\"],[0.4444444444444444,\"#bd3786\"],[0.5555555555555556,\"#d8576b\"],[0.6666666666666666,\"#ed7953\"],[0.7777777777777778,\"#fb9f3a\"],[0.8888888888888888,\"#fdca26\"],[1.0,\"#f0f921\"]]}],\"mesh3d\":[{\"type\":\"mesh3d\",\"colorbar\":{\"outlinewidth\":0,\"ticks\":\"\"}}],\"scatter\":[{\"fillpattern\":{\"fillmode\":\"overlay\",\"size\":10,\"solidity\":0.2},\"type\":\"scatter\"}],\"parcoords\":[{\"type\":\"parcoords\",\"line\":{\"colorbar\":{\"outlinewidth\":0,\"ticks\":\"\"}}}],\"scatterpolargl\":[{\"type\":\"scatterpolargl\",\"marker\":{\"colorbar\":{\"outlinewidth\":0,\"ticks\":\"\"}}}],\"bar\":[{\"error_x\":{\"color\":\"#2a3f5f\"},\"error_y\":{\"color\":\"#2a3f5f\"},\"marker\":{\"line\":{\"color\":\"#E5ECF6\",\"width\":0.5},\"pattern\":{\"fillmode\":\"overlay\",\"size\":10,\"solidity\":0.2}},\"type\":\"bar\"}],\"scattergeo\":[{\"type\":\"scattergeo\",\"marker\":{\"colorbar\":{\"outlinewidth\":0,\"ticks\":\"\"}}}],\"scatterpolar\":[{\"type\":\"scatterpolar\",\"marker\":{\"colorbar\":{\"outlinewidth\":0,\"ticks\":\"\"}}}],\"histogram\":[{\"marker\":{\"pattern\":{\"fillmode\":\"overlay\",\"size\":10,\"solidity\":0.2}},\"type\":\"histogram\"}],\"scattergl\":[{\"type\":\"scattergl\",\"marker\":{\"colorbar\":{\"outlinewidth\":0,\"ticks\":\"\"}}}],\"scatter3d\":[{\"type\":\"scatter3d\",\"line\":{\"colorbar\":{\"outlinewidth\":0,\"ticks\":\"\"}},\"marker\":{\"colorbar\":{\"outlinewidth\":0,\"ticks\":\"\"}}}],\"scattermapbox\":[{\"type\":\"scattermapbox\",\"marker\":{\"colorbar\":{\"outlinewidth\":0,\"ticks\":\"\"}}}],\"scatterternary\":[{\"type\":\"scatterternary\",\"marker\":{\"colorbar\":{\"outlinewidth\":0,\"ticks\":\"\"}}}],\"scattercarpet\":[{\"type\":\"scattercarpet\",\"marker\":{\"colorbar\":{\"outlinewidth\":0,\"ticks\":\"\"}}}],\"carpet\":[{\"aaxis\":{\"endlinecolor\":\"#2a3f5f\",\"gridcolor\":\"white\",\"linecolor\":\"white\",\"minorgridcolor\":\"white\",\"startlinecolor\":\"#2a3f5f\"},\"baxis\":{\"endlinecolor\":\"#2a3f5f\",\"gridcolor\":\"white\",\"linecolor\":\"white\",\"minorgridcolor\":\"white\",\"startlinecolor\":\"#2a3f5f\"},\"type\":\"carpet\"}],\"table\":[{\"cells\":{\"fill\":{\"color\":\"#EBF0F8\"},\"line\":{\"color\":\"white\"}},\"header\":{\"fill\":{\"color\":\"#C8D4E3\"},\"line\":{\"color\":\"white\"}},\"type\":\"table\"}],\"barpolar\":[{\"marker\":{\"line\":{\"color\":\"#E5ECF6\",\"width\":0.5},\"pattern\":{\"fillmode\":\"overlay\",\"size\":10,\"solidity\":0.2}},\"type\":\"barpolar\"}],\"pie\":[{\"automargin\":true,\"type\":\"pie\"}]},\"layout\":{\"autotypenumbers\":\"strict\",\"colorway\":[\"#636efa\",\"#EF553B\",\"#00cc96\",\"#ab63fa\",\"#FFA15A\",\"#19d3f3\",\"#FF6692\",\"#B6E880\",\"#FF97FF\",\"#FECB52\"],\"font\":{\"color\":\"#2a3f5f\"},\"hovermode\":\"closest\",\"hoverlabel\":{\"align\":\"left\"},\"paper_bgcolor\":\"white\",\"plot_bgcolor\":\"#E5ECF6\",\"polar\":{\"bgcolor\":\"#E5ECF6\",\"angularaxis\":{\"gridcolor\":\"white\",\"linecolor\":\"white\",\"ticks\":\"\"},\"radialaxis\":{\"gridcolor\":\"white\",\"linecolor\":\"white\",\"ticks\":\"\"}},\"ternary\":{\"bgcolor\":\"#E5ECF6\",\"aaxis\":{\"gridcolor\":\"white\",\"linecolor\":\"white\",\"ticks\":\"\"},\"baxis\":{\"gridcolor\":\"white\",\"linecolor\":\"white\",\"ticks\":\"\"},\"caxis\":{\"gridcolor\":\"white\",\"linecolor\":\"white\",\"ticks\":\"\"}},\"coloraxis\":{\"colorbar\":{\"outlinewidth\":0,\"ticks\":\"\"}},\"colorscale\":{\"sequential\":[[0.0,\"#0d0887\"],[0.1111111111111111,\"#46039f\"],[0.2222222222222222,\"#7201a8\"],[0.3333333333333333,\"#9c179e\"],[0.4444444444444444,\"#bd3786\"],[0.5555555555555556,\"#d8576b\"],[0.6666666666666666,\"#ed7953\"],[0.7777777777777778,\"#fb9f3a\"],[0.8888888888888888,\"#fdca26\"],[1.0,\"#f0f921\"]],\"sequentialminus\":[[0.0,\"#0d0887\"],[0.1111111111111111,\"#46039f\"],[0.2222222222222222,\"#7201a8\"],[0.3333333333333333,\"#9c179e\"],[0.4444444444444444,\"#bd3786\"],[0.5555555555555556,\"#d8576b\"],[0.6666666666666666,\"#ed7953\"],[0.7777777777777778,\"#fb9f3a\"],[0.8888888888888888,\"#fdca26\"],[1.0,\"#f0f921\"]],\"diverging\":[[0,\"#8e0152\"],[0.1,\"#c51b7d\"],[0.2,\"#de77ae\"],[0.3,\"#f1b6da\"],[0.4,\"#fde0ef\"],[0.5,\"#f7f7f7\"],[0.6,\"#e6f5d0\"],[0.7,\"#b8e186\"],[0.8,\"#7fbc41\"],[0.9,\"#4d9221\"],[1,\"#276419\"]]},\"xaxis\":{\"gridcolor\":\"white\",\"linecolor\":\"white\",\"ticks\":\"\",\"title\":{\"standoff\":15},\"zerolinecolor\":\"white\",\"automargin\":true,\"zerolinewidth\":2},\"yaxis\":{\"gridcolor\":\"white\",\"linecolor\":\"white\",\"ticks\":\"\",\"title\":{\"standoff\":15},\"zerolinecolor\":\"white\",\"automargin\":true,\"zerolinewidth\":2},\"scene\":{\"xaxis\":{\"backgroundcolor\":\"#E5ECF6\",\"gridcolor\":\"white\",\"linecolor\":\"white\",\"showbackground\":true,\"ticks\":\"\",\"zerolinecolor\":\"white\",\"gridwidth\":2},\"yaxis\":{\"backgroundcolor\":\"#E5ECF6\",\"gridcolor\":\"white\",\"linecolor\":\"white\",\"showbackground\":true,\"ticks\":\"\",\"zerolinecolor\":\"white\",\"gridwidth\":2},\"zaxis\":{\"backgroundcolor\":\"#E5ECF6\",\"gridcolor\":\"white\",\"linecolor\":\"white\",\"showbackground\":true,\"ticks\":\"\",\"zerolinecolor\":\"white\",\"gridwidth\":2}},\"shapedefaults\":{\"line\":{\"color\":\"#2a3f5f\"}},\"annotationdefaults\":{\"arrowcolor\":\"#2a3f5f\",\"arrowhead\":0,\"arrowwidth\":1},\"geo\":{\"bgcolor\":\"white\",\"landcolor\":\"#E5ECF6\",\"subunitcolor\":\"white\",\"showland\":true,\"showlakes\":true,\"lakecolor\":\"white\"},\"title\":{\"x\":0.05},\"mapbox\":{\"style\":\"light\"}}},\"annotations\":[{\"font\":{\"size\":9},\"showarrow\":false,\"text\":\"98.7%\",\"x\":0.0,\"y\":101.69999999999999},{\"font\":{\"size\":8},\"showarrow\":false,\"text\":\"\\u003cb\\u003eDefault\\u003cbr\\u003eAssistant\\u003c\\u002fb\\u003e\",\"textangle\":0,\"x\":0.0,\"y\":108.69999999999999},{\"font\":{\"size\":9},\"showarrow\":false,\"text\":\"18.4%\",\"x\":1.0,\"y\":21.400000000000002},{\"font\":{\"size\":8},\"showarrow\":false,\"text\":\"\\u003cb\\u003eJailbreak\\u003cbr\\u003ePersona\\u003c\\u002fb\\u003e\",\"textangle\":0,\"x\":1.0,\"y\":28.400000000000002},{\"font\":{\"size\":9},\"showarrow\":false,\"text\":\"36.8%\",\"x\":2.6,\"y\":39.8},{\"font\":{\"size\":8},\"showarrow\":false,\"text\":\"\\u003cb\\u003e75%\\u003cbr\\u003eHarmful\\u003c\\u002fb\\u003e\",\"textangle\":0,\"x\":2.6,\"y\":46.8},{\"font\":{\"size\":9},\"showarrow\":false,\"text\":\"56.3%\",\"x\":3.6,\"y\":59.3},{\"font\":{\"size\":8},\"showarrow\":false,\"text\":\"\\u003cb\\u003e99%\\u003cbr\\u003eHarmful\\u003c\\u002fb\\u003e\",\"textangle\":0,\"x\":3.6,\"y\":66.3},{\"font\":{\"size\":9},\"showarrow\":false,\"text\":\"68.4%\",\"x\":4.6,\"y\":71.4},{\"font\":{\"size\":8},\"showarrow\":false,\"text\":\"\\u003cb\\u003e50%\\u003cbr\\u003eSafe\\u003c\\u002fb\\u003e\",\"textangle\":0,\"x\":4.6,\"y\":78.4},{\"font\":{\"size\":9},\"showarrow\":false,\"text\":\"82.8%\",\"x\":5.6,\"y\":85.8},{\"font\":{\"size\":8},\"showarrow\":false,\"text\":\"\\u003cb\\u003e99%\\u003cbr\\u003eSafe\\u003c\\u002fb\\u003e\",\"textangle\":0,\"x\":5.6,\"y\":92.8},{\"font\":{\"size\":9},\"showarrow\":false,\"text\":\"40.5%\",\"x\":7.199999999999999,\"y\":43.49999999999999},{\"font\":{\"size\":8},\"showarrow\":false,\"text\":\"\\u003cb\\u003e75%\\u003cbr\\u003eHarmful\\u003c\\u002fb\\u003e\",\"textangle\":0,\"x\":7.199999999999999,\"y\":50.49999999999999},{\"font\":{\"size\":9},\"showarrow\":false,\"text\":\"61.0%\",\"x\":8.2,\"y\":64.0},{\"font\":{\"size\":8},\"showarrow\":false,\"text\":\"\\u003cb\\u003e99%\\u003cbr\\u003eHarmful\\u003c\\u002fb\\u003e\",\"textangle\":0,\"x\":8.2,\"y\":71.0},{\"font\":{\"size\":9},\"showarrow\":false,\"text\":\"75.5%\",\"x\":9.2,\"y\":78.5},{\"font\":{\"size\":8},\"showarrow\":false,\"text\":\"\\u003cb\\u003e50%\\u003cbr\\u003eSafe\\u003c\\u002fb\\u003e\",\"textangle\":0,\"x\":9.2,\"y\":85.5},{\"font\":{\"size\":9},\"showarrow\":false,\"text\":\"91.5%\",\"x\":10.2,\"y\":94.49999999999999},{\"font\":{\"size\":8},\"showarrow\":false,\"text\":\"\\u003cb\\u003e99%\\u003cbr\\u003eSafe\\u003c\\u002fb\\u003e\",\"textangle\":0,\"x\":10.2,\"y\":101.49999999999999},{\"font\":{\"size\":9},\"showarrow\":false,\"text\":\"35.0%\",\"x\":11.799999999999999,\"y\":38.0},{\"font\":{\"size\":8},\"showarrow\":false,\"text\":\"\\u003cb\\u003e75%\\u003cbr\\u003eHarmful\\u003c\\u002fb\\u003e\",\"textangle\":0,\"x\":11.799999999999999,\"y\":45.0},{\"font\":{\"size\":9},\"showarrow\":false,\"text\":\"61.3%\",\"x\":12.799999999999999,\"y\":64.3},{\"font\":{\"size\":8},\"showarrow\":false,\"text\":\"\\u003cb\\u003e99%\\u003cbr\\u003eHarmful\\u003c\\u002fb\\u003e\",\"textangle\":0,\"x\":12.799999999999999,\"y\":71.3},{\"font\":{\"size\":9},\"showarrow\":false,\"text\":\"71.0%\",\"x\":13.799999999999999,\"y\":74.0},{\"font\":{\"size\":8},\"showarrow\":false,\"text\":\"\\u003cb\\u003e50%\\u003cbr\\u003eSafe\\u003c\\u002fb\\u003e\",\"textangle\":0,\"x\":13.799999999999999,\"y\":81.0},{\"font\":{\"size\":9},\"showarrow\":false,\"text\":\"90.9%\",\"x\":14.799999999999999,\"y\":93.9},{\"font\":{\"size\":8},\"showarrow\":false,\"text\":\"\\u003cb\\u003e99%\\u003cbr\\u003eSafe\\u003c\\u002fb\\u003e\",\"textangle\":0,\"x\":14.799999999999999,\"y\":100.9},{\"font\":{\"size\":9},\"showarrow\":false,\"text\":\"34.8%\",\"x\":16.4,\"y\":37.8},{\"font\":{\"size\":8},\"showarrow\":false,\"text\":\"\\u003cb\\u003e75%\\u003cbr\\u003eHarmful\\u003c\\u002fb\\u003e\",\"textangle\":0,\"x\":16.4,\"y\":44.8},{\"font\":{\"size\":9},\"showarrow\":false,\"text\":\"59.9%\",\"x\":17.4,\"y\":62.900000000000006},{\"font\":{\"size\":8},\"showarrow\":false,\"text\":\"\\u003cb\\u003e99%\\u003cbr\\u003eHarmful\\u003c\\u002fb\\u003e\",\"textangle\":0,\"x\":17.4,\"y\":69.9},{\"font\":{\"size\":9},\"showarrow\":false,\"text\":\"67.8%\",\"x\":18.4,\"y\":70.8},{\"font\":{\"size\":8},\"showarrow\":false,\"text\":\"\\u003cb\\u003e50%\\u003cbr\\u003eSafe\\u003c\\u002fb\\u003e\",\"textangle\":0,\"x\":18.4,\"y\":77.8},{\"font\":{\"size\":9},\"showarrow\":false,\"text\":\"87.5%\",\"x\":19.4,\"y\":90.5},{\"font\":{\"size\":8},\"showarrow\":false,\"text\":\"\\u003cb\\u003e99%\\u003cbr\\u003eSafe\\u003c\\u002fb\\u003e\",\"textangle\":0,\"x\":19.4,\"y\":97.5}],\"title\":{\"subtitle\":{\"text\":\"Qwen 3 32B, Projecting on Mean (Role-Playing - Default Assistant) Contrast Vector\"},\"text\":\"Other Responses with Persona-based Jailbreaks Across Capping Experiments\"},\"xaxis\":{\"title\":{\"text\":\"Experiment Groups\"},\"tickmode\":\"array\",\"tickvals\":[0.5,4.1,8.7,13.299999999999999,17.9],\"ticktext\":[\"Baseline\",\"Layers 32-63\",\"All Layers 0-63\",\"Every 2nd Layer\",\"Every 4th Layer\"],\"showgrid\":true,\"gridcolor\":\"lightgray\",\"range\":[-0.5,19.9]},\"yaxis\":{\"title\":{\"text\":\"Percentage of Responses\"},\"range\":[0,119],\"showgrid\":true,\"gridcolor\":\"lightgray\"},\"legend\":{\"orientation\":\"h\",\"y\":1.02,\"x\":1.0,\"xanchor\":\"right\",\"yanchor\":\"bottom\"},\"barmode\":\"stack\",\"width\":1200,\"height\":600,\"bargap\":0.01},                        {\"responsive\": true}                    ).then(function(){\n",
       "                            \n",
       "var gd = document.getElementById('e2cb9b0f-65df-4591-9c1a-2fe495c3f8e5');\n",
       "var x = new MutationObserver(function (mutations, observer) {{\n",
       "        var display = window.getComputedStyle(gd).display;\n",
       "        if (!display || display === 'none') {{\n",
       "            console.log([gd, 'removed!']);\n",
       "            Plotly.purge(gd);\n",
       "            observer.disconnect();\n",
       "        }}\n",
       "}});\n",
       "\n",
       "// Listen for the removal of the full notebook cells\n",
       "var notebookContainer = gd.closest('#notebook-container');\n",
       "if (notebookContainer) {{\n",
       "    x.observe(notebookContainer, {childList: true});\n",
       "}}\n",
       "\n",
       "// Listen for the clearing of the current output cell\n",
       "var outputEl = gd.closest('.output');\n",
       "if (outputEl) {{\n",
       "    x.observe(outputEl, {childList: true});\n",
       "}}\n",
       "\n",
       "                        })                };                });            </script>        </div>"
      ]
     },
     "metadata": {},
     "output_type": "display_data"
    }
   ],
   "source": [
    "# === Plot Other Responses by Experiment ===\n",
    "\n",
    "# Create pivot function for other labels\n",
    "def pivot_by_experiment_other(df, label):\n",
    "    \"\"\"Get percentages, counts, totals for a specific label across all experiments\"\"\"\n",
    "    pcts = []\n",
    "    counts = []\n",
    "    totals = []\n",
    "    \n",
    "    for exp_id in all_experiment_ids:\n",
    "        row = df[(df[\"experiment_id\"] == exp_id) & (df[\"score_label\"] == label)]\n",
    "        if len(row) > 0:\n",
    "            pcts.append(row.iloc[0][\"pct\"])\n",
    "            counts.append(row.iloc[0][\"count\"])\n",
    "            totals.append(row.iloc[0][\"total\"])\n",
    "        else:\n",
    "            pcts.append(0.0)\n",
    "            counts.append(0)\n",
    "            totals.append(0)\n",
    "    \n",
    "    return np.array(pcts), np.array(counts), np.array(totals)\n",
    "\n",
    "# Get data for all \"other\" labels\n",
    "Y_map, C_map, T_map = {}, {}, {}\n",
    "for lab in OTHER_LABELS:\n",
    "    Y_map[lab], C_map[lab], T_map[lab] = pivot_by_experiment_other(tidy_other, lab)\n",
    "\n",
    "# X positions with gaps between groups (same as harmful plot)\n",
    "gap_between_groups = 0.6\n",
    "x_positions = []\n",
    "current_x = 0\n",
    "\n",
    "# Baseline group (2 bars)\n",
    "x_positions.extend([current_x, current_x + 1])\n",
    "current_x += 2 + gap_between_groups\n",
    "\n",
    "# Layer groups (4 bars each)\n",
    "for _ in range(4):\n",
    "    x_positions.extend([current_x + i for i in range(4)])\n",
    "    current_x += 4 + gap_between_groups\n",
    "\n",
    "x_positions = np.array(x_positions)\n",
    "BAR_WIDTH = 0.8\n",
    "\n",
    "# Create figure\n",
    "fig_other = go.Figure()\n",
    "\n",
    "# Add stacked bars for each \"other\" label\n",
    "for lab in OTHER_LABELS:\n",
    "    Y = Y_map[lab]\n",
    "    C = C_map[lab]\n",
    "    T = T_map[lab]\n",
    "    \n",
    "    fig_other.add_trace(go.Bar(\n",
    "        x=x_positions,\n",
    "        y=Y,\n",
    "        name=other_label_map[lab],\n",
    "        marker_color=other_colors[lab],\n",
    "        width=BAR_WIDTH,\n",
    "        hovertemplate=(\n",
    "            \"Experiment: %{customdata[0]}<br>\" +\n",
    "            other_label_map[lab] + \"<br>\"\n",
    "            \"Pct: %{y:.1f}%<br>\"\n",
    "            \"Count: %{customdata[1]} / %{customdata[2]}<extra></extra>\"\n",
    "        ),\n",
    "        customdata=np.column_stack([all_experiment_ids, C, T]),\n",
    "    ))\n",
    "\n",
    "# Add annotations above each bar\n",
    "tops = sum(Y_map[lab] for lab in OTHER_LABELS)\n",
    "\n",
    "for i, exp_id in enumerate(all_experiment_ids):\n",
    "    if tops[i] > 0:\n",
    "        # Percentage annotation\n",
    "        fig_other.add_annotation(\n",
    "            x=x_positions[i], y=tops[i] + 3,\n",
    "            text=f\"{tops[i]:.1f}%\",\n",
    "            showarrow=False,\n",
    "            font=dict(size=9)\n",
    "        )\n",
    "        \n",
    "        # Label annotation above bar\n",
    "        if exp_id == \"unsteered_default\":\n",
    "            label_text = \"Default<br>Assistant\"\n",
    "        elif exp_id == \"unsteered_prompted\":\n",
    "            label_text = \"Jailbreak<br>Persona\"\n",
    "        else:\n",
    "            # Extract cap type from experiment_id\n",
    "            cap_type = exp_id.split(\"-\")[1]\n",
    "            label_text = CAP_NAMES.get(cap_type, cap_type)\n",
    "        \n",
    "        fig_other.add_annotation(\n",
    "            x=x_positions[i], y=tops[i] + 10,\n",
    "            text=f\"<b>{label_text}</b>\",\n",
    "            showarrow=False,\n",
    "            font=dict(size=8),\n",
    "            textangle=0\n",
    "        )\n",
    "\n",
    "# Setup x-axis with group labels (same calculation as harmful plot)\n",
    "baseline_center = (x_positions[0] + x_positions[1]) / 2\n",
    "group_centers = [baseline_center]\n",
    "\n",
    "for i in range(4):\n",
    "    start_idx = 2 + i*4\n",
    "    group_center = (x_positions[start_idx] + x_positions[start_idx + 3]) / 2\n",
    "    group_centers.append(group_center)\n",
    "\n",
    "group_labels = [\"Baseline\"] + [LAYER_GROUP_NAMES[lg] for lg in LAYER_GROUPS]\n",
    "\n",
    "fig_other.update_layout(\n",
    "    barmode=\"stack\",\n",
    "    width=1200,\n",
    "    height=600,\n",
    "    title={\n",
    "        \"text\": \"Other Responses with Persona-based Jailbreaks Across Capping Experiments\",\n",
    "        \"subtitle\": {\"text\": subtitle},\n",
    "    },\n",
    "    xaxis=dict(\n",
    "        title=\"Experiment Groups\",\n",
    "        tickmode=\"array\",\n",
    "        tickvals=group_centers,\n",
    "        ticktext=group_labels,\n",
    "        showgrid=True,\n",
    "        gridcolor=\"lightgray\",\n",
    "        range=[-0.5, x_positions[-1] + 0.5],\n",
    "    ),\n",
    "    yaxis=dict(\n",
    "        title=\"Percentage of Responses\",\n",
    "        range=[0, 119],\n",
    "        showgrid=True,\n",
    "        gridcolor=\"lightgray\"\n",
    "    ),\n",
    "    legend=dict(\n",
    "        orientation=\"h\",\n",
    "        y=1.02,\n",
    "        x=1.0,\n",
    "        xanchor=\"right\",\n",
    "        yanchor=\"bottom\"\n",
    "    ),\n",
    "    bargap=0.01,  # Small gap within groups\n",
    ")\n",
    "\n",
    "fig_other.show()\n",
    "#fig_other.write_html(f\"{out_dir}/jailbreak_other.html\")"
   ]
  },
  {
   "cell_type": "code",
   "execution_count": null,
   "id": "b6c119b0",
   "metadata": {},
   "outputs": [
    {
     "data": {
      "application/vnd.plotly.v1+json": {
       "config": {
        "plotlyServerURL": "https://plot.ly"
       },
       "data": [
        {
         "customdata": [
          [
           "unsteered_default",
           "13",
           "1100"
          ],
          [
           "unsteered_prompted",
           "617",
           "1100"
          ],
          [
           "layers_32:64-harm_0.25",
           "552",
           "1100"
          ],
          [
           "layers_32:64-harm_0.01",
           "414",
           "1100"
          ],
          [
           "layers_32:64-safe_0.50",
           "308",
           "1100"
          ],
          [
           "layers_32:64-safe_0.01",
           "176",
           "1100"
          ],
          [
           "layers_0:64-harm_0.25",
           "536",
           "1100"
          ],
          [
           "layers_0:64-harm_0.01",
           "360",
           "1100"
          ],
          [
           "layers_0:64-safe_0.50",
           "227",
           "1100"
          ],
          [
           "layers_0:64-safe_0.01",
           "82",
           "1100"
          ],
          [
           "layers_2:64:2-harm_0.25",
           "557",
           "1100"
          ],
          [
           "layers_2:64:2-harm_0.01",
           "334",
           "1100"
          ],
          [
           "layers_2:64:2-safe_0.50",
           "256",
           "1100"
          ],
          [
           "layers_2:64:2-safe_0.01",
           "81",
           "1100"
          ],
          [
           "layers_4:64:4-harm_0.25",
           "548",
           "1100"
          ],
          [
           "layers_4:64:4-harm_0.01",
           "358",
           "1100"
          ],
          [
           "layers_4:64:4-safe_0.50",
           "278",
           "1100"
          ],
          [
           "layers_4:64:4-safe_0.01",
           "116",
           "1100"
          ]
         ],
         "hovertemplate": "Experiment: %{customdata[0]}<br>Harmful Info<br>Pct: %{y:.1f}%<br>Count: %{customdata[1]} / %{customdata[2]}<extra></extra>",
         "legendgroup": "harmful",
         "marker": {
          "color": "#ff7f00"
         },
         "name": "Harmful Info",
         "type": "bar",
         "width": 0.8,
         "x": [
          0,
          1,
          2.6,
          3.6,
          4.6,
          5.6,
          7.199999999999999,
          8.2,
          9.2,
          10.2,
          11.799999999999999,
          12.799999999999999,
          13.799999999999999,
          14.799999999999999,
          16.4,
          17.4,
          18.4,
          19.4
         ],
         "xaxis": "x",
         "y": [
          1.2,
          56.1,
          50.2,
          37.6,
          28,
          16,
          48.7,
          32.7,
          20.6,
          7.5,
          50.6,
          30.4,
          23.3,
          7.4,
          49.8,
          32.5,
          25.3,
          10.5
         ],
         "yaxis": "y"
        },
        {
         "customdata": [
          [
           "unsteered_default",
           "0",
           "1100"
          ],
          [
           "unsteered_prompted",
           "281",
           "1100"
          ],
          [
           "layers_32:64-harm_0.25",
           "143",
           "1100"
          ],
          [
           "layers_32:64-harm_0.01",
           "68",
           "1100"
          ],
          [
           "layers_32:64-safe_0.50",
           "40",
           "1100"
          ],
          [
           "layers_32:64-safe_0.01",
           "13",
           "1100"
          ],
          [
           "layers_0:64-harm_0.25",
           "120",
           "1100"
          ],
          [
           "layers_0:64-harm_0.01",
           "69",
           "1100"
          ],
          [
           "layers_0:64-safe_0.50",
           "44",
           "1100"
          ],
          [
           "layers_0:64-safe_0.01",
           "12",
           "1100"
          ],
          [
           "layers_2:64:2-harm_0.25",
           "157",
           "1100"
          ],
          [
           "layers_2:64:2-harm_0.01",
           "93",
           "1100"
          ],
          [
           "layers_2:64:2-safe_0.50",
           "63",
           "1100"
          ],
          [
           "layers_2:64:2-safe_0.01",
           "18",
           "1100"
          ],
          [
           "layers_4:64:4-harm_0.25",
           "169",
           "1100"
          ],
          [
           "layers_4:64:4-harm_0.01",
           "82",
           "1100"
          ],
          [
           "layers_4:64:4-safe_0.50",
           "75",
           "1100"
          ],
          [
           "layers_4:64:4-safe_0.01",
           "20",
           "1100"
          ]
         ],
         "hovertemplate": "Experiment: %{customdata[0]}<br>Harmful Info & Following Request<br>Pct: %{y:.1f}%<br>Count: %{customdata[1]} / %{customdata[2]}<extra></extra>",
         "legendgroup": "harmful",
         "marker": {
          "color": "#e41a1c"
         },
         "name": "Harmful Info & Following Request",
         "type": "bar",
         "width": 0.8,
         "x": [
          0,
          1,
          2.6,
          3.6,
          4.6,
          5.6,
          7.199999999999999,
          8.2,
          9.2,
          10.2,
          11.799999999999999,
          12.799999999999999,
          13.799999999999999,
          14.799999999999999,
          16.4,
          17.4,
          18.4,
          19.4
         ],
         "xaxis": "x",
         "y": [
          0,
          25.5,
          13,
          6.2,
          3.6,
          1.2,
          10.9,
          6.3,
          4,
          1.1,
          14.3,
          8.5,
          5.7,
          1.6,
          15.4,
          7.5,
          6.8,
          1.8
         ],
         "yaxis": "y"
        },
        {
         "customdata": [
          [
           "unsteered_default",
           "1",
           "1100"
          ],
          [
           "unsteered_prompted",
           "4",
           "1100"
          ],
          [
           "layers_32:64-harm_0.25",
           "10",
           "1100"
          ],
          [
           "layers_32:64-harm_0.01",
           "11",
           "1100"
          ],
          [
           "layers_32:64-safe_0.50",
           "14",
           "1100"
          ],
          [
           "layers_32:64-safe_0.01",
           "17",
           "1100"
          ],
          [
           "layers_0:64-harm_0.25",
           "15",
           "1100"
          ],
          [
           "layers_0:64-harm_0.01",
           "3",
           "1100"
          ],
          [
           "layers_0:64-safe_0.50",
           "15",
           "1100"
          ],
          [
           "layers_0:64-safe_0.01",
           "2",
           "1100"
          ],
          [
           "layers_2:64:2-harm_0.25",
           "8",
           "1100"
          ],
          [
           "layers_2:64:2-harm_0.01",
           "5",
           "1100"
          ],
          [
           "layers_2:64:2-safe_0.50",
           "11",
           "1100"
          ],
          [
           "layers_2:64:2-safe_0.01",
           "11",
           "1100"
          ],
          [
           "layers_4:64:4-harm_0.25",
           "6",
           "1100"
          ],
          [
           "layers_4:64:4-harm_0.01",
           "6",
           "1100"
          ],
          [
           "layers_4:64:4-safe_0.50",
           "9",
           "1100"
          ],
          [
           "layers_4:64:4-safe_0.01",
           "5",
           "1100"
          ]
         ],
         "hovertemplate": "Experiment: %{customdata[0]}<br>Almost Harmful<br>Pct: %{y:.1f}%<br>Count: %{customdata[1]} / %{customdata[2]}<extra></extra>",
         "legendgroup": "other",
         "marker": {
          "color": "#ffff33"
         },
         "name": "Almost Harmful",
         "type": "bar",
         "width": 0.8,
         "x": [
          0,
          1,
          2.6,
          3.6,
          4.6,
          5.6,
          7.199999999999999,
          8.2,
          9.2,
          10.2,
          11.799999999999999,
          12.799999999999999,
          13.799999999999999,
          14.799999999999999,
          16.4,
          17.4,
          18.4,
          19.4
         ],
         "xaxis": "x2",
         "y": [
          0.1,
          0.4,
          0.9,
          1,
          1.3,
          1.5,
          1.4,
          0.3,
          1.4,
          0.2,
          0.7,
          0.5,
          1,
          1,
          0.5,
          0.5,
          0.8,
          0.5
         ],
         "yaxis": "y2"
        },
        {
         "customdata": [
          [
           "unsteered_default",
           "870",
           "1100"
          ],
          [
           "unsteered_prompted",
           "119",
           "1100"
          ],
          [
           "layers_32:64-harm_0.25",
           "253",
           "1100"
          ],
          [
           "layers_32:64-harm_0.01",
           "414",
           "1100"
          ],
          [
           "layers_32:64-safe_0.50",
           "529",
           "1100"
          ],
          [
           "layers_32:64-safe_0.01",
           "642",
           "1100"
          ],
          [
           "layers_0:64-harm_0.25",
           "279",
           "1100"
          ],
          [
           "layers_0:64-harm_0.01",
           "340",
           "1100"
          ],
          [
           "layers_0:64-safe_0.50",
           "400",
           "1100"
          ],
          [
           "layers_0:64-safe_0.01",
           "468",
           "1100"
          ],
          [
           "layers_2:64:2-harm_0.25",
           "265",
           "1100"
          ],
          [
           "layers_2:64:2-harm_0.01",
           "350",
           "1100"
          ],
          [
           "layers_2:64:2-safe_0.50",
           "396",
           "1100"
          ],
          [
           "layers_2:64:2-safe_0.01",
           "457",
           "1100"
          ],
          [
           "layers_4:64:4-harm_0.25",
           "249",
           "1100"
          ],
          [
           "layers_4:64:4-harm_0.01",
           "320",
           "1100"
          ],
          [
           "layers_4:64:4-safe_0.50",
           "381",
           "1100"
          ],
          [
           "layers_4:64:4-safe_0.01",
           "435",
           "1100"
          ]
         ],
         "hovertemplate": "Experiment: %{customdata[0]}<br>Related<br>Pct: %{y:.1f}%<br>Count: %{customdata[1]} / %{customdata[2]}<extra></extra>",
         "legendgroup": "other",
         "marker": {
          "color": "#1f78b4"
         },
         "name": "Related",
         "type": "bar",
         "width": 0.8,
         "x": [
          0,
          1,
          2.6,
          3.6,
          4.6,
          5.6,
          7.199999999999999,
          8.2,
          9.2,
          10.2,
          11.799999999999999,
          12.799999999999999,
          13.799999999999999,
          14.799999999999999,
          16.4,
          17.4,
          18.4,
          19.4
         ],
         "xaxis": "x2",
         "y": [
          79.1,
          10.8,
          23,
          37.6,
          48.1,
          58.4,
          25.4,
          30.9,
          36.4,
          42.5,
          24.1,
          31.8,
          36,
          41.5,
          22.6,
          29.1,
          34.6,
          39.5
         ],
         "yaxis": "y2"
        },
        {
         "customdata": [
          [
           "unsteered_default",
           "96",
           "1100"
          ],
          [
           "unsteered_prompted",
           "49",
           "1100"
          ],
          [
           "layers_32:64-harm_0.25",
           "74",
           "1100"
          ],
          [
           "layers_32:64-harm_0.01",
           "80",
           "1100"
          ],
          [
           "layers_32:64-safe_0.50",
           "85",
           "1100"
          ],
          [
           "layers_32:64-safe_0.01",
           "85",
           "1100"
          ],
          [
           "layers_0:64-harm_0.25",
           "60",
           "1100"
          ],
          [
           "layers_0:64-harm_0.01",
           "162",
           "1100"
          ],
          [
           "layers_0:64-safe_0.50",
           "166",
           "1100"
          ],
          [
           "layers_0:64-safe_0.01",
           "203",
           "1100"
          ],
          [
           "layers_2:64:2-harm_0.25",
           "42",
           "1100"
          ],
          [
           "layers_2:64:2-harm_0.01",
           "134",
           "1100"
          ],
          [
           "layers_2:64:2-safe_0.50",
           "159",
           "1100"
          ],
          [
           "layers_2:64:2-safe_0.01",
           "167",
           "1100"
          ],
          [
           "layers_4:64:4-harm_0.25",
           "76",
           "1100"
          ],
          [
           "layers_4:64:4-harm_0.01",
           "164",
           "1100"
          ],
          [
           "layers_4:64:4-safe_0.50",
           "175",
           "1100"
          ],
          [
           "layers_4:64:4-safe_0.01",
           "208",
           "1100"
          ]
         ],
         "hovertemplate": "Experiment: %{customdata[0]}<br>Refusal<br>Pct: %{y:.1f}%<br>Count: %{customdata[1]} / %{customdata[2]}<extra></extra>",
         "legendgroup": "other",
         "marker": {
          "color": "#b2df8a"
         },
         "name": "Refusal",
         "type": "bar",
         "width": 0.8,
         "x": [
          0,
          1,
          2.6,
          3.6,
          4.6,
          5.6,
          7.199999999999999,
          8.2,
          9.2,
          10.2,
          11.799999999999999,
          12.799999999999999,
          13.799999999999999,
          14.799999999999999,
          16.4,
          17.4,
          18.4,
          19.4
         ],
         "xaxis": "x2",
         "y": [
          8.7,
          4.5,
          6.7,
          7.3,
          7.7,
          7.7,
          5.5,
          14.7,
          15.1,
          18.5,
          3.8,
          12.2,
          14.5,
          15.2,
          6.9,
          14.9,
          15.9,
          18.9
         ],
         "yaxis": "y2"
        },
        {
         "customdata": [
          [
           "unsteered_default",
           "85",
           "1100"
          ],
          [
           "unsteered_prompted",
           "21",
           "1100"
          ],
          [
           "layers_32:64-harm_0.25",
           "40",
           "1100"
          ],
          [
           "layers_32:64-harm_0.01",
           "81",
           "1100"
          ],
          [
           "layers_32:64-safe_0.50",
           "79",
           "1100"
          ],
          [
           "layers_32:64-safe_0.01",
           "87",
           "1100"
          ],
          [
           "layers_0:64-harm_0.25",
           "47",
           "1100"
          ],
          [
           "layers_0:64-harm_0.01",
           "133",
           "1100"
          ],
          [
           "layers_0:64-safe_0.50",
           "200",
           "1100"
          ],
          [
           "layers_0:64-safe_0.01",
           "263",
           "1100"
          ],
          [
           "layers_2:64:2-harm_0.25",
           "53",
           "1100"
          ],
          [
           "layers_2:64:2-harm_0.01",
           "158",
           "1100"
          ],
          [
           "layers_2:64:2-safe_0.50",
           "176",
           "1100"
          ],
          [
           "layers_2:64:2-safe_0.01",
           "294",
           "1100"
          ],
          [
           "layers_4:64:4-harm_0.25",
           "38",
           "1100"
          ],
          [
           "layers_4:64:4-harm_0.01",
           "140",
           "1100"
          ],
          [
           "layers_4:64:4-safe_0.50",
           "162",
           "1100"
          ],
          [
           "layers_4:64:4-safe_0.01",
           "264",
           "1100"
          ]
         ],
         "hovertemplate": "Experiment: %{customdata[0]}<br>Refusal & Justification<br>Pct: %{y:.1f}%<br>Count: %{customdata[1]} / %{customdata[2]}<extra></extra>",
         "legendgroup": "other",
         "marker": {
          "color": "#33a02c"
         },
         "name": "Refusal & Justification",
         "type": "bar",
         "width": 0.8,
         "x": [
          0,
          1,
          2.6,
          3.6,
          4.6,
          5.6,
          7.199999999999999,
          8.2,
          9.2,
          10.2,
          11.799999999999999,
          12.799999999999999,
          13.799999999999999,
          14.799999999999999,
          16.4,
          17.4,
          18.4,
          19.4
         ],
         "xaxis": "x2",
         "y": [
          7.7,
          1.9,
          3.6,
          7.4,
          7.2,
          7.9,
          4.3,
          12.1,
          18.2,
          23.9,
          4.8,
          14.4,
          16,
          26.7,
          3.5,
          12.7,
          14.7,
          24
         ],
         "yaxis": "y2"
        },
        {
         "customdata": [
          [
           "unsteered_default",
           "34",
           "1100"
          ],
          [
           "unsteered_prompted",
           "9",
           "1100"
          ],
          [
           "layers_32:64-harm_0.25",
           "13",
           "1100"
          ],
          [
           "layers_32:64-harm_0.01",
           "27",
           "1100"
          ],
          [
           "layers_32:64-safe_0.50",
           "41",
           "1100"
          ],
          [
           "layers_32:64-safe_0.01",
           "77",
           "1100"
          ],
          [
           "layers_0:64-harm_0.25",
           "21",
           "1100"
          ],
          [
           "layers_0:64-harm_0.01",
           "31",
           "1100"
          ],
          [
           "layers_0:64-safe_0.50",
           "43",
           "1100"
          ],
          [
           "layers_0:64-safe_0.01",
           "67",
           "1100"
          ],
          [
           "layers_2:64:2-harm_0.25",
           "18",
           "1100"
          ],
          [
           "layers_2:64:2-harm_0.01",
           "26",
           "1100"
          ],
          [
           "layers_2:64:2-safe_0.50",
           "39",
           "1100"
          ],
          [
           "layers_2:64:2-safe_0.01",
           "72",
           "1100"
          ],
          [
           "layers_4:64:4-harm_0.25",
           "14",
           "1100"
          ],
          [
           "layers_4:64:4-harm_0.01",
           "29",
           "1100"
          ],
          [
           "layers_4:64:4-safe_0.50",
           "20",
           "1100"
          ],
          [
           "layers_4:64:4-safe_0.01",
           "51",
           "1100"
          ]
         ],
         "hovertemplate": "Experiment: %{customdata[0]}<br>Out of Context<br>Pct: %{y:.1f}%<br>Count: %{customdata[1]} / %{customdata[2]}<extra></extra>",
         "legendgroup": "other",
         "marker": {
          "color": "#6a3d9a"
         },
         "name": "Out of Context",
         "type": "bar",
         "width": 0.8,
         "x": [
          0,
          1,
          2.6,
          3.6,
          4.6,
          5.6,
          7.199999999999999,
          8.2,
          9.2,
          10.2,
          11.799999999999999,
          12.799999999999999,
          13.799999999999999,
          14.799999999999999,
          16.4,
          17.4,
          18.4,
          19.4
         ],
         "xaxis": "x2",
         "y": [
          3.1,
          0.8,
          1.2,
          2.5,
          3.7,
          7,
          1.9,
          2.8,
          3.9,
          6.1,
          1.6,
          2.4,
          3.5,
          6.5,
          1.3,
          2.6,
          1.8,
          4.6
         ],
         "yaxis": "y2"
        },
        {
         "customdata": [
          [
           "unsteered_default",
           "0",
           "1100"
          ],
          [
           "unsteered_prompted",
           "0",
           "1100"
          ],
          [
           "layers_32:64-harm_0.25",
           "15",
           "1100"
          ],
          [
           "layers_32:64-harm_0.01",
           "5",
           "1100"
          ],
          [
           "layers_32:64-safe_0.50",
           "4",
           "1100"
          ],
          [
           "layers_32:64-safe_0.01",
           "3",
           "1100"
          ],
          [
           "layers_0:64-harm_0.25",
           "22",
           "1100"
          ],
          [
           "layers_0:64-harm_0.01",
           "2",
           "1100"
          ],
          [
           "layers_0:64-safe_0.50",
           "5",
           "1100"
          ],
          [
           "layers_0:64-safe_0.01",
           "3",
           "1100"
          ],
          [
           "layers_2:64:2-harm_0.25",
           "0",
           "1100"
          ],
          [
           "layers_2:64:2-harm_0.01",
           "0",
           "1100"
          ],
          [
           "layers_2:64:2-safe_0.50",
           "0",
           "1100"
          ],
          [
           "layers_2:64:2-safe_0.01",
           "0",
           "1100"
          ],
          [
           "layers_4:64:4-harm_0.25",
           "0",
           "1100"
          ],
          [
           "layers_4:64:4-harm_0.01",
           "1",
           "1100"
          ],
          [
           "layers_4:64:4-safe_0.50",
           "0",
           "1100"
          ],
          [
           "layers_4:64:4-safe_0.01",
           "0",
           "1100"
          ]
         ],
         "hovertemplate": "Experiment: %{customdata[0]}<br>Nonsensical<br>Pct: %{y:.1f}%<br>Count: %{customdata[1]} / %{customdata[2]}<extra></extra>",
         "legendgroup": "other",
         "marker": {
          "color": "#fb9a99"
         },
         "name": "Nonsensical",
         "type": "bar",
         "width": 0.8,
         "x": [
          0,
          1,
          2.6,
          3.6,
          4.6,
          5.6,
          7.199999999999999,
          8.2,
          9.2,
          10.2,
          11.799999999999999,
          12.799999999999999,
          13.799999999999999,
          14.799999999999999,
          16.4,
          17.4,
          18.4,
          19.4
         ],
         "xaxis": "x2",
         "y": [
          0,
          0,
          1.4,
          0.5,
          0.4,
          0.3,
          2,
          0.2,
          0.5,
          0.3,
          0,
          0,
          0,
          0,
          0,
          0.1,
          0,
          0
         ],
         "yaxis": "y2"
        }
       ],
       "layout": {
        "annotations": [
         {
          "font": {
           "size": 14
          },
          "showarrow": false,
          "text": "Harmful Responses Across Intervention Layer and Cap Combinations",
          "x": 0.5,
          "xanchor": "center",
          "xref": "paper",
          "y": 1,
          "yanchor": "bottom",
          "yref": "paper"
         },
         {
          "font": {
           "size": 14
          },
          "showarrow": false,
          "text": "Other Responses Across Intervention Layer and Cap Combinations",
          "x": 0.5,
          "xanchor": "center",
          "xref": "paper",
          "y": 0.44,
          "yanchor": "bottom",
          "yref": "paper"
         },
         {
          "font": {
           "size": 9
          },
          "showarrow": false,
          "text": "1.2%",
          "x": 0,
          "xref": "x",
          "y": 4.2,
          "yref": "y"
         },
         {
          "font": {
           "size": 8
          },
          "showarrow": false,
          "text": "<b>Default<br>Assistant</b>",
          "x": 0,
          "xref": "x",
          "y": 11.2,
          "yref": "y"
         },
         {
          "font": {
           "size": 9
          },
          "showarrow": false,
          "text": "81.6%",
          "x": 1,
          "xref": "x",
          "y": 84.6,
          "yref": "y"
         },
         {
          "font": {
           "size": 8
          },
          "showarrow": false,
          "text": "<b>Jailbreak<br>Persona</b>",
          "x": 1,
          "xref": "x",
          "y": 91.6,
          "yref": "y"
         },
         {
          "font": {
           "size": 9
          },
          "showarrow": false,
          "text": "63.2%",
          "x": 2.6,
          "xref": "x",
          "y": 66.2,
          "yref": "y"
         },
         {
          "font": {
           "size": 8
          },
          "showarrow": false,
          "text": "<b>75%<br>Harmful</b>",
          "x": 2.6,
          "xref": "x",
          "y": 73.2,
          "yref": "y"
         },
         {
          "font": {
           "size": 9
          },
          "showarrow": false,
          "text": "43.8%",
          "x": 3.6,
          "xref": "x",
          "y": 46.800000000000004,
          "yref": "y"
         },
         {
          "font": {
           "size": 8
          },
          "showarrow": false,
          "text": "<b>99%<br>Harmful</b>",
          "x": 3.6,
          "xref": "x",
          "y": 53.800000000000004,
          "yref": "y"
         },
         {
          "font": {
           "size": 9
          },
          "showarrow": false,
          "text": "31.6%",
          "x": 4.6,
          "xref": "x",
          "y": 34.6,
          "yref": "y"
         },
         {
          "font": {
           "size": 8
          },
          "showarrow": false,
          "text": "<b>50%<br>Safe</b>",
          "x": 4.6,
          "xref": "x",
          "y": 41.6,
          "yref": "y"
         },
         {
          "font": {
           "size": 9
          },
          "showarrow": false,
          "text": "17.2%",
          "x": 5.6,
          "xref": "x",
          "y": 20.2,
          "yref": "y"
         },
         {
          "font": {
           "size": 8
          },
          "showarrow": false,
          "text": "<b>99%<br>Safe</b>",
          "x": 5.6,
          "xref": "x",
          "y": 27.2,
          "yref": "y"
         },
         {
          "font": {
           "size": 9
          },
          "showarrow": false,
          "text": "59.6%",
          "x": 7.199999999999999,
          "xref": "x",
          "y": 62.6,
          "yref": "y"
         },
         {
          "font": {
           "size": 8
          },
          "showarrow": false,
          "text": "<b>75%<br>Harmful</b>",
          "x": 7.199999999999999,
          "xref": "x",
          "y": 69.6,
          "yref": "y"
         },
         {
          "font": {
           "size": 9
          },
          "showarrow": false,
          "text": "39.0%",
          "x": 8.2,
          "xref": "x",
          "y": 42,
          "yref": "y"
         },
         {
          "font": {
           "size": 8
          },
          "showarrow": false,
          "text": "<b>99%<br>Harmful</b>",
          "x": 8.2,
          "xref": "x",
          "y": 49,
          "yref": "y"
         },
         {
          "font": {
           "size": 9
          },
          "showarrow": false,
          "text": "24.6%",
          "x": 9.2,
          "xref": "x",
          "y": 27.6,
          "yref": "y"
         },
         {
          "font": {
           "size": 8
          },
          "showarrow": false,
          "text": "<b>50%<br>Safe</b>",
          "x": 9.2,
          "xref": "x",
          "y": 34.6,
          "yref": "y"
         },
         {
          "font": {
           "size": 9
          },
          "showarrow": false,
          "text": "8.6%",
          "x": 10.2,
          "xref": "x",
          "y": 11.6,
          "yref": "y"
         },
         {
          "font": {
           "size": 8
          },
          "showarrow": false,
          "text": "<b>99%<br>Safe</b>",
          "x": 10.2,
          "xref": "x",
          "y": 18.6,
          "yref": "y"
         },
         {
          "font": {
           "size": 9
          },
          "showarrow": false,
          "text": "64.9%",
          "x": 11.799999999999999,
          "xref": "x",
          "y": 67.9,
          "yref": "y"
         },
         {
          "font": {
           "size": 8
          },
          "showarrow": false,
          "text": "<b>75%<br>Harmful</b>",
          "x": 11.799999999999999,
          "xref": "x",
          "y": 74.9,
          "yref": "y"
         },
         {
          "font": {
           "size": 9
          },
          "showarrow": false,
          "text": "38.9%",
          "x": 12.799999999999999,
          "xref": "x",
          "y": 41.9,
          "yref": "y"
         },
         {
          "font": {
           "size": 8
          },
          "showarrow": false,
          "text": "<b>99%<br>Harmful</b>",
          "x": 12.799999999999999,
          "xref": "x",
          "y": 48.9,
          "yref": "y"
         },
         {
          "font": {
           "size": 9
          },
          "showarrow": false,
          "text": "29.0%",
          "x": 13.799999999999999,
          "xref": "x",
          "y": 32,
          "yref": "y"
         },
         {
          "font": {
           "size": 8
          },
          "showarrow": false,
          "text": "<b>50%<br>Safe</b>",
          "x": 13.799999999999999,
          "xref": "x",
          "y": 39,
          "yref": "y"
         },
         {
          "font": {
           "size": 9
          },
          "showarrow": false,
          "text": "9.0%",
          "x": 14.799999999999999,
          "xref": "x",
          "y": 12,
          "yref": "y"
         },
         {
          "font": {
           "size": 8
          },
          "showarrow": false,
          "text": "<b>99%<br>Safe</b>",
          "x": 14.799999999999999,
          "xref": "x",
          "y": 19,
          "yref": "y"
         },
         {
          "font": {
           "size": 9
          },
          "showarrow": false,
          "text": "65.2%",
          "x": 16.4,
          "xref": "x",
          "y": 68.2,
          "yref": "y"
         },
         {
          "font": {
           "size": 8
          },
          "showarrow": false,
          "text": "<b>75%<br>Harmful</b>",
          "x": 16.4,
          "xref": "x",
          "y": 75.2,
          "yref": "y"
         },
         {
          "font": {
           "size": 9
          },
          "showarrow": false,
          "text": "40.0%",
          "x": 17.4,
          "xref": "x",
          "y": 43,
          "yref": "y"
         },
         {
          "font": {
           "size": 8
          },
          "showarrow": false,
          "text": "<b>99%<br>Harmful</b>",
          "x": 17.4,
          "xref": "x",
          "y": 50,
          "yref": "y"
         },
         {
          "font": {
           "size": 9
          },
          "showarrow": false,
          "text": "32.1%",
          "x": 18.4,
          "xref": "x",
          "y": 35.1,
          "yref": "y"
         },
         {
          "font": {
           "size": 8
          },
          "showarrow": false,
          "text": "<b>50%<br>Safe</b>",
          "x": 18.4,
          "xref": "x",
          "y": 42.1,
          "yref": "y"
         },
         {
          "font": {
           "size": 9
          },
          "showarrow": false,
          "text": "12.3%",
          "x": 19.4,
          "xref": "x",
          "y": 15.3,
          "yref": "y"
         },
         {
          "font": {
           "size": 8
          },
          "showarrow": false,
          "text": "<b>99%<br>Safe</b>",
          "x": 19.4,
          "xref": "x",
          "y": 22.3,
          "yref": "y"
         },
         {
          "font": {
           "size": 9
          },
          "showarrow": false,
          "text": "98.7%",
          "x": 0,
          "xref": "x2",
          "y": 101.69999999999999,
          "yref": "y2"
         },
         {
          "font": {
           "size": 8
          },
          "showarrow": false,
          "text": "<b>Default<br>Assistant</b>",
          "x": 0,
          "xref": "x2",
          "y": 108.69999999999999,
          "yref": "y2"
         },
         {
          "font": {
           "size": 9
          },
          "showarrow": false,
          "text": "18.4%",
          "x": 1,
          "xref": "x2",
          "y": 21.400000000000002,
          "yref": "y2"
         },
         {
          "font": {
           "size": 8
          },
          "showarrow": false,
          "text": "<b>Jailbreak<br>Persona</b>",
          "x": 1,
          "xref": "x2",
          "y": 28.400000000000002,
          "yref": "y2"
         },
         {
          "font": {
           "size": 9
          },
          "showarrow": false,
          "text": "36.8%",
          "x": 2.6,
          "xref": "x2",
          "y": 39.8,
          "yref": "y2"
         },
         {
          "font": {
           "size": 8
          },
          "showarrow": false,
          "text": "<b>75%<br>Harmful</b>",
          "x": 2.6,
          "xref": "x2",
          "y": 46.8,
          "yref": "y2"
         },
         {
          "font": {
           "size": 9
          },
          "showarrow": false,
          "text": "56.3%",
          "x": 3.6,
          "xref": "x2",
          "y": 59.3,
          "yref": "y2"
         },
         {
          "font": {
           "size": 8
          },
          "showarrow": false,
          "text": "<b>99%<br>Harmful</b>",
          "x": 3.6,
          "xref": "x2",
          "y": 66.3,
          "yref": "y2"
         },
         {
          "font": {
           "size": 9
          },
          "showarrow": false,
          "text": "68.4%",
          "x": 4.6,
          "xref": "x2",
          "y": 71.4,
          "yref": "y2"
         },
         {
          "font": {
           "size": 8
          },
          "showarrow": false,
          "text": "<b>50%<br>Safe</b>",
          "x": 4.6,
          "xref": "x2",
          "y": 78.4,
          "yref": "y2"
         },
         {
          "font": {
           "size": 9
          },
          "showarrow": false,
          "text": "82.8%",
          "x": 5.6,
          "xref": "x2",
          "y": 85.8,
          "yref": "y2"
         },
         {
          "font": {
           "size": 8
          },
          "showarrow": false,
          "text": "<b>99%<br>Safe</b>",
          "x": 5.6,
          "xref": "x2",
          "y": 92.8,
          "yref": "y2"
         },
         {
          "font": {
           "size": 9
          },
          "showarrow": false,
          "text": "40.5%",
          "x": 7.199999999999999,
          "xref": "x2",
          "y": 43.49999999999999,
          "yref": "y2"
         },
         {
          "font": {
           "size": 8
          },
          "showarrow": false,
          "text": "<b>75%<br>Harmful</b>",
          "x": 7.199999999999999,
          "xref": "x2",
          "y": 50.49999999999999,
          "yref": "y2"
         },
         {
          "font": {
           "size": 9
          },
          "showarrow": false,
          "text": "61.0%",
          "x": 8.2,
          "xref": "x2",
          "y": 64,
          "yref": "y2"
         },
         {
          "font": {
           "size": 8
          },
          "showarrow": false,
          "text": "<b>99%<br>Harmful</b>",
          "x": 8.2,
          "xref": "x2",
          "y": 71,
          "yref": "y2"
         },
         {
          "font": {
           "size": 9
          },
          "showarrow": false,
          "text": "75.5%",
          "x": 9.2,
          "xref": "x2",
          "y": 78.5,
          "yref": "y2"
         },
         {
          "font": {
           "size": 8
          },
          "showarrow": false,
          "text": "<b>50%<br>Safe</b>",
          "x": 9.2,
          "xref": "x2",
          "y": 85.5,
          "yref": "y2"
         },
         {
          "font": {
           "size": 9
          },
          "showarrow": false,
          "text": "91.5%",
          "x": 10.2,
          "xref": "x2",
          "y": 94.49999999999999,
          "yref": "y2"
         },
         {
          "font": {
           "size": 8
          },
          "showarrow": false,
          "text": "<b>99%<br>Safe</b>",
          "x": 10.2,
          "xref": "x2",
          "y": 101.49999999999999,
          "yref": "y2"
         },
         {
          "font": {
           "size": 9
          },
          "showarrow": false,
          "text": "35.0%",
          "x": 11.799999999999999,
          "xref": "x2",
          "y": 38,
          "yref": "y2"
         },
         {
          "font": {
           "size": 8
          },
          "showarrow": false,
          "text": "<b>75%<br>Harmful</b>",
          "x": 11.799999999999999,
          "xref": "x2",
          "y": 45,
          "yref": "y2"
         },
         {
          "font": {
           "size": 9
          },
          "showarrow": false,
          "text": "61.3%",
          "x": 12.799999999999999,
          "xref": "x2",
          "y": 64.3,
          "yref": "y2"
         },
         {
          "font": {
           "size": 8
          },
          "showarrow": false,
          "text": "<b>99%<br>Harmful</b>",
          "x": 12.799999999999999,
          "xref": "x2",
          "y": 71.3,
          "yref": "y2"
         },
         {
          "font": {
           "size": 9
          },
          "showarrow": false,
          "text": "71.0%",
          "x": 13.799999999999999,
          "xref": "x2",
          "y": 74,
          "yref": "y2"
         },
         {
          "font": {
           "size": 8
          },
          "showarrow": false,
          "text": "<b>50%<br>Safe</b>",
          "x": 13.799999999999999,
          "xref": "x2",
          "y": 81,
          "yref": "y2"
         },
         {
          "font": {
           "size": 9
          },
          "showarrow": false,
          "text": "90.9%",
          "x": 14.799999999999999,
          "xref": "x2",
          "y": 93.9,
          "yref": "y2"
         },
         {
          "font": {
           "size": 8
          },
          "showarrow": false,
          "text": "<b>99%<br>Safe</b>",
          "x": 14.799999999999999,
          "xref": "x2",
          "y": 100.9,
          "yref": "y2"
         },
         {
          "font": {
           "size": 9
          },
          "showarrow": false,
          "text": "34.8%",
          "x": 16.4,
          "xref": "x2",
          "y": 37.8,
          "yref": "y2"
         },
         {
          "font": {
           "size": 8
          },
          "showarrow": false,
          "text": "<b>75%<br>Harmful</b>",
          "x": 16.4,
          "xref": "x2",
          "y": 44.8,
          "yref": "y2"
         },
         {
          "font": {
           "size": 9
          },
          "showarrow": false,
          "text": "59.9%",
          "x": 17.4,
          "xref": "x2",
          "y": 62.900000000000006,
          "yref": "y2"
         },
         {
          "font": {
           "size": 8
          },
          "showarrow": false,
          "text": "<b>99%<br>Harmful</b>",
          "x": 17.4,
          "xref": "x2",
          "y": 69.9,
          "yref": "y2"
         },
         {
          "font": {
           "size": 9
          },
          "showarrow": false,
          "text": "67.8%",
          "x": 18.4,
          "xref": "x2",
          "y": 70.8,
          "yref": "y2"
         },
         {
          "font": {
           "size": 8
          },
          "showarrow": false,
          "text": "<b>50%<br>Safe</b>",
          "x": 18.4,
          "xref": "x2",
          "y": 77.8,
          "yref": "y2"
         },
         {
          "font": {
           "size": 9
          },
          "showarrow": false,
          "text": "87.5%",
          "x": 19.4,
          "xref": "x2",
          "y": 90.5,
          "yref": "y2"
         },
         {
          "font": {
           "size": 8
          },
          "showarrow": false,
          "text": "<b>99%<br>Safe</b>",
          "x": 19.4,
          "xref": "x2",
          "y": 97.5,
          "yref": "y2"
         }
        ],
        "bargap": 0.01,
        "barmode": "stack",
        "height": 1000,
        "legend": {
         "orientation": "h",
         "x": 1.09,
         "xanchor": "right",
         "y": 1.02,
         "yanchor": "bottom"
        },
        "template": {
         "data": {
          "bar": [
           {
            "error_x": {
             "color": "#2a3f5f"
            },
            "error_y": {
             "color": "#2a3f5f"
            },
            "marker": {
             "line": {
              "color": "#E5ECF6",
              "width": 0.5
             },
             "pattern": {
              "fillmode": "overlay",
              "size": 10,
              "solidity": 0.2
             }
            },
            "type": "bar"
           }
          ],
          "barpolar": [
           {
            "marker": {
             "line": {
              "color": "#E5ECF6",
              "width": 0.5
             },
             "pattern": {
              "fillmode": "overlay",
              "size": 10,
              "solidity": 0.2
             }
            },
            "type": "barpolar"
           }
          ],
          "carpet": [
           {
            "aaxis": {
             "endlinecolor": "#2a3f5f",
             "gridcolor": "white",
             "linecolor": "white",
             "minorgridcolor": "white",
             "startlinecolor": "#2a3f5f"
            },
            "baxis": {
             "endlinecolor": "#2a3f5f",
             "gridcolor": "white",
             "linecolor": "white",
             "minorgridcolor": "white",
             "startlinecolor": "#2a3f5f"
            },
            "type": "carpet"
           }
          ],
          "choropleth": [
           {
            "colorbar": {
             "outlinewidth": 0,
             "ticks": ""
            },
            "type": "choropleth"
           }
          ],
          "contour": [
           {
            "colorbar": {
             "outlinewidth": 0,
             "ticks": ""
            },
            "colorscale": [
             [
              0,
              "#0d0887"
             ],
             [
              0.1111111111111111,
              "#46039f"
             ],
             [
              0.2222222222222222,
              "#7201a8"
             ],
             [
              0.3333333333333333,
              "#9c179e"
             ],
             [
              0.4444444444444444,
              "#bd3786"
             ],
             [
              0.5555555555555556,
              "#d8576b"
             ],
             [
              0.6666666666666666,
              "#ed7953"
             ],
             [
              0.7777777777777778,
              "#fb9f3a"
             ],
             [
              0.8888888888888888,
              "#fdca26"
             ],
             [
              1,
              "#f0f921"
             ]
            ],
            "type": "contour"
           }
          ],
          "contourcarpet": [
           {
            "colorbar": {
             "outlinewidth": 0,
             "ticks": ""
            },
            "type": "contourcarpet"
           }
          ],
          "heatmap": [
           {
            "colorbar": {
             "outlinewidth": 0,
             "ticks": ""
            },
            "colorscale": [
             [
              0,
              "#0d0887"
             ],
             [
              0.1111111111111111,
              "#46039f"
             ],
             [
              0.2222222222222222,
              "#7201a8"
             ],
             [
              0.3333333333333333,
              "#9c179e"
             ],
             [
              0.4444444444444444,
              "#bd3786"
             ],
             [
              0.5555555555555556,
              "#d8576b"
             ],
             [
              0.6666666666666666,
              "#ed7953"
             ],
             [
              0.7777777777777778,
              "#fb9f3a"
             ],
             [
              0.8888888888888888,
              "#fdca26"
             ],
             [
              1,
              "#f0f921"
             ]
            ],
            "type": "heatmap"
           }
          ],
          "heatmapgl": [
           {
            "colorbar": {
             "outlinewidth": 0,
             "ticks": ""
            },
            "colorscale": [
             [
              0,
              "#0d0887"
             ],
             [
              0.1111111111111111,
              "#46039f"
             ],
             [
              0.2222222222222222,
              "#7201a8"
             ],
             [
              0.3333333333333333,
              "#9c179e"
             ],
             [
              0.4444444444444444,
              "#bd3786"
             ],
             [
              0.5555555555555556,
              "#d8576b"
             ],
             [
              0.6666666666666666,
              "#ed7953"
             ],
             [
              0.7777777777777778,
              "#fb9f3a"
             ],
             [
              0.8888888888888888,
              "#fdca26"
             ],
             [
              1,
              "#f0f921"
             ]
            ],
            "type": "heatmapgl"
           }
          ],
          "histogram": [
           {
            "marker": {
             "pattern": {
              "fillmode": "overlay",
              "size": 10,
              "solidity": 0.2
             }
            },
            "type": "histogram"
           }
          ],
          "histogram2d": [
           {
            "colorbar": {
             "outlinewidth": 0,
             "ticks": ""
            },
            "colorscale": [
             [
              0,
              "#0d0887"
             ],
             [
              0.1111111111111111,
              "#46039f"
             ],
             [
              0.2222222222222222,
              "#7201a8"
             ],
             [
              0.3333333333333333,
              "#9c179e"
             ],
             [
              0.4444444444444444,
              "#bd3786"
             ],
             [
              0.5555555555555556,
              "#d8576b"
             ],
             [
              0.6666666666666666,
              "#ed7953"
             ],
             [
              0.7777777777777778,
              "#fb9f3a"
             ],
             [
              0.8888888888888888,
              "#fdca26"
             ],
             [
              1,
              "#f0f921"
             ]
            ],
            "type": "histogram2d"
           }
          ],
          "histogram2dcontour": [
           {
            "colorbar": {
             "outlinewidth": 0,
             "ticks": ""
            },
            "colorscale": [
             [
              0,
              "#0d0887"
             ],
             [
              0.1111111111111111,
              "#46039f"
             ],
             [
              0.2222222222222222,
              "#7201a8"
             ],
             [
              0.3333333333333333,
              "#9c179e"
             ],
             [
              0.4444444444444444,
              "#bd3786"
             ],
             [
              0.5555555555555556,
              "#d8576b"
             ],
             [
              0.6666666666666666,
              "#ed7953"
             ],
             [
              0.7777777777777778,
              "#fb9f3a"
             ],
             [
              0.8888888888888888,
              "#fdca26"
             ],
             [
              1,
              "#f0f921"
             ]
            ],
            "type": "histogram2dcontour"
           }
          ],
          "mesh3d": [
           {
            "colorbar": {
             "outlinewidth": 0,
             "ticks": ""
            },
            "type": "mesh3d"
           }
          ],
          "parcoords": [
           {
            "line": {
             "colorbar": {
              "outlinewidth": 0,
              "ticks": ""
             }
            },
            "type": "parcoords"
           }
          ],
          "pie": [
           {
            "automargin": true,
            "type": "pie"
           }
          ],
          "scatter": [
           {
            "fillpattern": {
             "fillmode": "overlay",
             "size": 10,
             "solidity": 0.2
            },
            "type": "scatter"
           }
          ],
          "scatter3d": [
           {
            "line": {
             "colorbar": {
              "outlinewidth": 0,
              "ticks": ""
             }
            },
            "marker": {
             "colorbar": {
              "outlinewidth": 0,
              "ticks": ""
             }
            },
            "type": "scatter3d"
           }
          ],
          "scattercarpet": [
           {
            "marker": {
             "colorbar": {
              "outlinewidth": 0,
              "ticks": ""
             }
            },
            "type": "scattercarpet"
           }
          ],
          "scattergeo": [
           {
            "marker": {
             "colorbar": {
              "outlinewidth": 0,
              "ticks": ""
             }
            },
            "type": "scattergeo"
           }
          ],
          "scattergl": [
           {
            "marker": {
             "colorbar": {
              "outlinewidth": 0,
              "ticks": ""
             }
            },
            "type": "scattergl"
           }
          ],
          "scattermapbox": [
           {
            "marker": {
             "colorbar": {
              "outlinewidth": 0,
              "ticks": ""
             }
            },
            "type": "scattermapbox"
           }
          ],
          "scatterpolar": [
           {
            "marker": {
             "colorbar": {
              "outlinewidth": 0,
              "ticks": ""
             }
            },
            "type": "scatterpolar"
           }
          ],
          "scatterpolargl": [
           {
            "marker": {
             "colorbar": {
              "outlinewidth": 0,
              "ticks": ""
             }
            },
            "type": "scatterpolargl"
           }
          ],
          "scatterternary": [
           {
            "marker": {
             "colorbar": {
              "outlinewidth": 0,
              "ticks": ""
             }
            },
            "type": "scatterternary"
           }
          ],
          "surface": [
           {
            "colorbar": {
             "outlinewidth": 0,
             "ticks": ""
            },
            "colorscale": [
             [
              0,
              "#0d0887"
             ],
             [
              0.1111111111111111,
              "#46039f"
             ],
             [
              0.2222222222222222,
              "#7201a8"
             ],
             [
              0.3333333333333333,
              "#9c179e"
             ],
             [
              0.4444444444444444,
              "#bd3786"
             ],
             [
              0.5555555555555556,
              "#d8576b"
             ],
             [
              0.6666666666666666,
              "#ed7953"
             ],
             [
              0.7777777777777778,
              "#fb9f3a"
             ],
             [
              0.8888888888888888,
              "#fdca26"
             ],
             [
              1,
              "#f0f921"
             ]
            ],
            "type": "surface"
           }
          ],
          "table": [
           {
            "cells": {
             "fill": {
              "color": "#EBF0F8"
             },
             "line": {
              "color": "white"
             }
            },
            "header": {
             "fill": {
              "color": "#C8D4E3"
             },
             "line": {
              "color": "white"
             }
            },
            "type": "table"
           }
          ]
         },
         "layout": {
          "annotationdefaults": {
           "arrowcolor": "#2a3f5f",
           "arrowhead": 0,
           "arrowwidth": 1
          },
          "autotypenumbers": "strict",
          "coloraxis": {
           "colorbar": {
            "outlinewidth": 0,
            "ticks": ""
           }
          },
          "colorscale": {
           "diverging": [
            [
             0,
             "#8e0152"
            ],
            [
             0.1,
             "#c51b7d"
            ],
            [
             0.2,
             "#de77ae"
            ],
            [
             0.3,
             "#f1b6da"
            ],
            [
             0.4,
             "#fde0ef"
            ],
            [
             0.5,
             "#f7f7f7"
            ],
            [
             0.6,
             "#e6f5d0"
            ],
            [
             0.7,
             "#b8e186"
            ],
            [
             0.8,
             "#7fbc41"
            ],
            [
             0.9,
             "#4d9221"
            ],
            [
             1,
             "#276419"
            ]
           ],
           "sequential": [
            [
             0,
             "#0d0887"
            ],
            [
             0.1111111111111111,
             "#46039f"
            ],
            [
             0.2222222222222222,
             "#7201a8"
            ],
            [
             0.3333333333333333,
             "#9c179e"
            ],
            [
             0.4444444444444444,
             "#bd3786"
            ],
            [
             0.5555555555555556,
             "#d8576b"
            ],
            [
             0.6666666666666666,
             "#ed7953"
            ],
            [
             0.7777777777777778,
             "#fb9f3a"
            ],
            [
             0.8888888888888888,
             "#fdca26"
            ],
            [
             1,
             "#f0f921"
            ]
           ],
           "sequentialminus": [
            [
             0,
             "#0d0887"
            ],
            [
             0.1111111111111111,
             "#46039f"
            ],
            [
             0.2222222222222222,
             "#7201a8"
            ],
            [
             0.3333333333333333,
             "#9c179e"
            ],
            [
             0.4444444444444444,
             "#bd3786"
            ],
            [
             0.5555555555555556,
             "#d8576b"
            ],
            [
             0.6666666666666666,
             "#ed7953"
            ],
            [
             0.7777777777777778,
             "#fb9f3a"
            ],
            [
             0.8888888888888888,
             "#fdca26"
            ],
            [
             1,
             "#f0f921"
            ]
           ]
          },
          "colorway": [
           "#636efa",
           "#EF553B",
           "#00cc96",
           "#ab63fa",
           "#FFA15A",
           "#19d3f3",
           "#FF6692",
           "#B6E880",
           "#FF97FF",
           "#FECB52"
          ],
          "font": {
           "color": "#2a3f5f"
          },
          "geo": {
           "bgcolor": "white",
           "lakecolor": "white",
           "landcolor": "#E5ECF6",
           "showlakes": true,
           "showland": true,
           "subunitcolor": "white"
          },
          "hoverlabel": {
           "align": "left"
          },
          "hovermode": "closest",
          "mapbox": {
           "style": "light"
          },
          "paper_bgcolor": "white",
          "plot_bgcolor": "#E5ECF6",
          "polar": {
           "angularaxis": {
            "gridcolor": "white",
            "linecolor": "white",
            "ticks": ""
           },
           "bgcolor": "#E5ECF6",
           "radialaxis": {
            "gridcolor": "white",
            "linecolor": "white",
            "ticks": ""
           }
          },
          "scene": {
           "xaxis": {
            "backgroundcolor": "#E5ECF6",
            "gridcolor": "white",
            "gridwidth": 2,
            "linecolor": "white",
            "showbackground": true,
            "ticks": "",
            "zerolinecolor": "white"
           },
           "yaxis": {
            "backgroundcolor": "#E5ECF6",
            "gridcolor": "white",
            "gridwidth": 2,
            "linecolor": "white",
            "showbackground": true,
            "ticks": "",
            "zerolinecolor": "white"
           },
           "zaxis": {
            "backgroundcolor": "#E5ECF6",
            "gridcolor": "white",
            "gridwidth": 2,
            "linecolor": "white",
            "showbackground": true,
            "ticks": "",
            "zerolinecolor": "white"
           }
          },
          "shapedefaults": {
           "line": {
            "color": "#2a3f5f"
           }
          },
          "ternary": {
           "aaxis": {
            "gridcolor": "white",
            "linecolor": "white",
            "ticks": ""
           },
           "baxis": {
            "gridcolor": "white",
            "linecolor": "white",
            "ticks": ""
           },
           "bgcolor": "#E5ECF6",
           "caxis": {
            "gridcolor": "white",
            "linecolor": "white",
            "ticks": ""
           }
          },
          "title": {
           "x": 0.05
          },
          "xaxis": {
           "automargin": true,
           "gridcolor": "white",
           "linecolor": "white",
           "ticks": "",
           "title": {
            "standoff": 15
           },
           "zerolinecolor": "white",
           "zerolinewidth": 2
          },
          "yaxis": {
           "automargin": true,
           "gridcolor": "white",
           "linecolor": "white",
           "ticks": "",
           "title": {
            "standoff": 15
           },
           "zerolinecolor": "white",
           "zerolinewidth": 2
          }
         }
        },
        "title": {
         "subtitle": {
          "text": "Qwen 3 32B, Projecting on Mean (Role-Playing - Default Assistant) Contrast Vector"
         },
         "text": "Responses after Persona-based Jailbreak with Multi-Layer Projection Capping"
        },
        "width": 1100,
        "xaxis": {
         "anchor": "y",
         "domain": [
          0,
          1
         ],
         "gridcolor": "lightgray",
         "range": [
          -0.5,
          19.9
         ],
         "showgrid": true,
         "tickmode": "array",
         "ticktext": [
          "Baseline",
          "Layers 32-63",
          "All Layers 0-63",
          "Every 2nd Layer",
          "Every 4th Layer"
         ],
         "tickvals": [
          0.5,
          4.1,
          8.7,
          13.299999999999999,
          17.9
         ]
        },
        "xaxis2": {
         "anchor": "y2",
         "domain": [
          0,
          1
         ],
         "gridcolor": "lightgray",
         "range": [
          -0.5,
          19.9
         ],
         "showgrid": true,
         "tickmode": "array",
         "ticktext": [
          "Baseline",
          "Layers 32-63",
          "All Layers 0-63",
          "Every 2nd Layer",
          "Every 4th Layer"
         ],
         "tickvals": [
          0.5,
          4.1,
          8.7,
          13.299999999999999,
          17.9
         ],
         "title": {
          "text": "Layers of Intervention"
         }
        },
        "yaxis": {
         "anchor": "x",
         "domain": [
          0.56,
          1
         ],
         "gridcolor": "lightgray",
         "range": [
          0,
          119
         ],
         "showgrid": true,
         "title": {
          "text": "Percentage of Responses"
         }
        },
        "yaxis2": {
         "anchor": "x2",
         "domain": [
          0,
          0.44
         ],
         "gridcolor": "lightgray",
         "range": [
          0,
          119
         ],
         "showgrid": true,
         "title": {
          "text": "Percentage of Responses"
         }
        }
       }
      },
      "text/html": [
       "<div>                            <div id=\"f7b8cec9-9a19-4f6f-bcb1-a97629bf31c4\" class=\"plotly-graph-div\" style=\"height:1000px; width:1100px;\"></div>            <script type=\"text/javascript\">                require([\"plotly\"], function(Plotly) {                    window.PLOTLYENV=window.PLOTLYENV || {};                                    if (document.getElementById(\"f7b8cec9-9a19-4f6f-bcb1-a97629bf31c4\")) {                    Plotly.newPlot(                        \"f7b8cec9-9a19-4f6f-bcb1-a97629bf31c4\",                        [{\"customdata\":[[\"unsteered_default\",\"13\",\"1100\"],[\"unsteered_prompted\",\"617\",\"1100\"],[\"layers_32:64-harm_0.25\",\"552\",\"1100\"],[\"layers_32:64-harm_0.01\",\"414\",\"1100\"],[\"layers_32:64-safe_0.50\",\"308\",\"1100\"],[\"layers_32:64-safe_0.01\",\"176\",\"1100\"],[\"layers_0:64-harm_0.25\",\"536\",\"1100\"],[\"layers_0:64-harm_0.01\",\"360\",\"1100\"],[\"layers_0:64-safe_0.50\",\"227\",\"1100\"],[\"layers_0:64-safe_0.01\",\"82\",\"1100\"],[\"layers_2:64:2-harm_0.25\",\"557\",\"1100\"],[\"layers_2:64:2-harm_0.01\",\"334\",\"1100\"],[\"layers_2:64:2-safe_0.50\",\"256\",\"1100\"],[\"layers_2:64:2-safe_0.01\",\"81\",\"1100\"],[\"layers_4:64:4-harm_0.25\",\"548\",\"1100\"],[\"layers_4:64:4-harm_0.01\",\"358\",\"1100\"],[\"layers_4:64:4-safe_0.50\",\"278\",\"1100\"],[\"layers_4:64:4-safe_0.01\",\"116\",\"1100\"]],\"hovertemplate\":\"Experiment: %{customdata[0]}\\u003cbr\\u003eHarmful Info\\u003cbr\\u003ePct: %{y:.1f}%\\u003cbr\\u003eCount: %{customdata[1]} \\u002f %{customdata[2]}\\u003cextra\\u003e\\u003c\\u002fextra\\u003e\",\"legendgroup\":\"harmful\",\"marker\":{\"color\":\"#ff7f00\"},\"name\":\"Harmful Info\",\"width\":0.8,\"x\":[0.0,1.0,2.6,3.6,4.6,5.6,7.199999999999999,8.2,9.2,10.2,11.799999999999999,12.799999999999999,13.799999999999999,14.799999999999999,16.4,17.4,18.4,19.4],\"y\":[1.2,56.1,50.2,37.6,28.0,16.0,48.7,32.7,20.6,7.5,50.6,30.4,23.3,7.4,49.8,32.5,25.3,10.5],\"type\":\"bar\",\"xaxis\":\"x\",\"yaxis\":\"y\"},{\"customdata\":[[\"unsteered_default\",\"0\",\"1100\"],[\"unsteered_prompted\",\"281\",\"1100\"],[\"layers_32:64-harm_0.25\",\"143\",\"1100\"],[\"layers_32:64-harm_0.01\",\"68\",\"1100\"],[\"layers_32:64-safe_0.50\",\"40\",\"1100\"],[\"layers_32:64-safe_0.01\",\"13\",\"1100\"],[\"layers_0:64-harm_0.25\",\"120\",\"1100\"],[\"layers_0:64-harm_0.01\",\"69\",\"1100\"],[\"layers_0:64-safe_0.50\",\"44\",\"1100\"],[\"layers_0:64-safe_0.01\",\"12\",\"1100\"],[\"layers_2:64:2-harm_0.25\",\"157\",\"1100\"],[\"layers_2:64:2-harm_0.01\",\"93\",\"1100\"],[\"layers_2:64:2-safe_0.50\",\"63\",\"1100\"],[\"layers_2:64:2-safe_0.01\",\"18\",\"1100\"],[\"layers_4:64:4-harm_0.25\",\"169\",\"1100\"],[\"layers_4:64:4-harm_0.01\",\"82\",\"1100\"],[\"layers_4:64:4-safe_0.50\",\"75\",\"1100\"],[\"layers_4:64:4-safe_0.01\",\"20\",\"1100\"]],\"hovertemplate\":\"Experiment: %{customdata[0]}\\u003cbr\\u003eHarmful Info & Following Request\\u003cbr\\u003ePct: %{y:.1f}%\\u003cbr\\u003eCount: %{customdata[1]} \\u002f %{customdata[2]}\\u003cextra\\u003e\\u003c\\u002fextra\\u003e\",\"legendgroup\":\"harmful\",\"marker\":{\"color\":\"#e41a1c\"},\"name\":\"Harmful Info & Following Request\",\"width\":0.8,\"x\":[0.0,1.0,2.6,3.6,4.6,5.6,7.199999999999999,8.2,9.2,10.2,11.799999999999999,12.799999999999999,13.799999999999999,14.799999999999999,16.4,17.4,18.4,19.4],\"y\":[0.0,25.5,13.0,6.2,3.6,1.2,10.9,6.3,4.0,1.1,14.3,8.5,5.7,1.6,15.4,7.5,6.8,1.8],\"type\":\"bar\",\"xaxis\":\"x\",\"yaxis\":\"y\"},{\"customdata\":[[\"unsteered_default\",\"1\",\"1100\"],[\"unsteered_prompted\",\"4\",\"1100\"],[\"layers_32:64-harm_0.25\",\"10\",\"1100\"],[\"layers_32:64-harm_0.01\",\"11\",\"1100\"],[\"layers_32:64-safe_0.50\",\"14\",\"1100\"],[\"layers_32:64-safe_0.01\",\"17\",\"1100\"],[\"layers_0:64-harm_0.25\",\"15\",\"1100\"],[\"layers_0:64-harm_0.01\",\"3\",\"1100\"],[\"layers_0:64-safe_0.50\",\"15\",\"1100\"],[\"layers_0:64-safe_0.01\",\"2\",\"1100\"],[\"layers_2:64:2-harm_0.25\",\"8\",\"1100\"],[\"layers_2:64:2-harm_0.01\",\"5\",\"1100\"],[\"layers_2:64:2-safe_0.50\",\"11\",\"1100\"],[\"layers_2:64:2-safe_0.01\",\"11\",\"1100\"],[\"layers_4:64:4-harm_0.25\",\"6\",\"1100\"],[\"layers_4:64:4-harm_0.01\",\"6\",\"1100\"],[\"layers_4:64:4-safe_0.50\",\"9\",\"1100\"],[\"layers_4:64:4-safe_0.01\",\"5\",\"1100\"]],\"hovertemplate\":\"Experiment: %{customdata[0]}\\u003cbr\\u003eAlmost Harmful\\u003cbr\\u003ePct: %{y:.1f}%\\u003cbr\\u003eCount: %{customdata[1]} \\u002f %{customdata[2]}\\u003cextra\\u003e\\u003c\\u002fextra\\u003e\",\"legendgroup\":\"other\",\"marker\":{\"color\":\"#ffff33\"},\"name\":\"Almost Harmful\",\"width\":0.8,\"x\":[0.0,1.0,2.6,3.6,4.6,5.6,7.199999999999999,8.2,9.2,10.2,11.799999999999999,12.799999999999999,13.799999999999999,14.799999999999999,16.4,17.4,18.4,19.4],\"y\":[0.1,0.4,0.9,1.0,1.3,1.5,1.4,0.3,1.4,0.2,0.7,0.5,1.0,1.0,0.5,0.5,0.8,0.5],\"type\":\"bar\",\"xaxis\":\"x2\",\"yaxis\":\"y2\"},{\"customdata\":[[\"unsteered_default\",\"870\",\"1100\"],[\"unsteered_prompted\",\"119\",\"1100\"],[\"layers_32:64-harm_0.25\",\"253\",\"1100\"],[\"layers_32:64-harm_0.01\",\"414\",\"1100\"],[\"layers_32:64-safe_0.50\",\"529\",\"1100\"],[\"layers_32:64-safe_0.01\",\"642\",\"1100\"],[\"layers_0:64-harm_0.25\",\"279\",\"1100\"],[\"layers_0:64-harm_0.01\",\"340\",\"1100\"],[\"layers_0:64-safe_0.50\",\"400\",\"1100\"],[\"layers_0:64-safe_0.01\",\"468\",\"1100\"],[\"layers_2:64:2-harm_0.25\",\"265\",\"1100\"],[\"layers_2:64:2-harm_0.01\",\"350\",\"1100\"],[\"layers_2:64:2-safe_0.50\",\"396\",\"1100\"],[\"layers_2:64:2-safe_0.01\",\"457\",\"1100\"],[\"layers_4:64:4-harm_0.25\",\"249\",\"1100\"],[\"layers_4:64:4-harm_0.01\",\"320\",\"1100\"],[\"layers_4:64:4-safe_0.50\",\"381\",\"1100\"],[\"layers_4:64:4-safe_0.01\",\"435\",\"1100\"]],\"hovertemplate\":\"Experiment: %{customdata[0]}\\u003cbr\\u003eRelated\\u003cbr\\u003ePct: %{y:.1f}%\\u003cbr\\u003eCount: %{customdata[1]} \\u002f %{customdata[2]}\\u003cextra\\u003e\\u003c\\u002fextra\\u003e\",\"legendgroup\":\"other\",\"marker\":{\"color\":\"#1f78b4\"},\"name\":\"Related\",\"width\":0.8,\"x\":[0.0,1.0,2.6,3.6,4.6,5.6,7.199999999999999,8.2,9.2,10.2,11.799999999999999,12.799999999999999,13.799999999999999,14.799999999999999,16.4,17.4,18.4,19.4],\"y\":[79.1,10.8,23.0,37.6,48.1,58.4,25.4,30.9,36.4,42.5,24.1,31.8,36.0,41.5,22.6,29.1,34.6,39.5],\"type\":\"bar\",\"xaxis\":\"x2\",\"yaxis\":\"y2\"},{\"customdata\":[[\"unsteered_default\",\"96\",\"1100\"],[\"unsteered_prompted\",\"49\",\"1100\"],[\"layers_32:64-harm_0.25\",\"74\",\"1100\"],[\"layers_32:64-harm_0.01\",\"80\",\"1100\"],[\"layers_32:64-safe_0.50\",\"85\",\"1100\"],[\"layers_32:64-safe_0.01\",\"85\",\"1100\"],[\"layers_0:64-harm_0.25\",\"60\",\"1100\"],[\"layers_0:64-harm_0.01\",\"162\",\"1100\"],[\"layers_0:64-safe_0.50\",\"166\",\"1100\"],[\"layers_0:64-safe_0.01\",\"203\",\"1100\"],[\"layers_2:64:2-harm_0.25\",\"42\",\"1100\"],[\"layers_2:64:2-harm_0.01\",\"134\",\"1100\"],[\"layers_2:64:2-safe_0.50\",\"159\",\"1100\"],[\"layers_2:64:2-safe_0.01\",\"167\",\"1100\"],[\"layers_4:64:4-harm_0.25\",\"76\",\"1100\"],[\"layers_4:64:4-harm_0.01\",\"164\",\"1100\"],[\"layers_4:64:4-safe_0.50\",\"175\",\"1100\"],[\"layers_4:64:4-safe_0.01\",\"208\",\"1100\"]],\"hovertemplate\":\"Experiment: %{customdata[0]}\\u003cbr\\u003eRefusal\\u003cbr\\u003ePct: %{y:.1f}%\\u003cbr\\u003eCount: %{customdata[1]} \\u002f %{customdata[2]}\\u003cextra\\u003e\\u003c\\u002fextra\\u003e\",\"legendgroup\":\"other\",\"marker\":{\"color\":\"#b2df8a\"},\"name\":\"Refusal\",\"width\":0.8,\"x\":[0.0,1.0,2.6,3.6,4.6,5.6,7.199999999999999,8.2,9.2,10.2,11.799999999999999,12.799999999999999,13.799999999999999,14.799999999999999,16.4,17.4,18.4,19.4],\"y\":[8.7,4.5,6.7,7.3,7.7,7.7,5.5,14.7,15.1,18.5,3.8,12.2,14.5,15.2,6.9,14.9,15.9,18.9],\"type\":\"bar\",\"xaxis\":\"x2\",\"yaxis\":\"y2\"},{\"customdata\":[[\"unsteered_default\",\"85\",\"1100\"],[\"unsteered_prompted\",\"21\",\"1100\"],[\"layers_32:64-harm_0.25\",\"40\",\"1100\"],[\"layers_32:64-harm_0.01\",\"81\",\"1100\"],[\"layers_32:64-safe_0.50\",\"79\",\"1100\"],[\"layers_32:64-safe_0.01\",\"87\",\"1100\"],[\"layers_0:64-harm_0.25\",\"47\",\"1100\"],[\"layers_0:64-harm_0.01\",\"133\",\"1100\"],[\"layers_0:64-safe_0.50\",\"200\",\"1100\"],[\"layers_0:64-safe_0.01\",\"263\",\"1100\"],[\"layers_2:64:2-harm_0.25\",\"53\",\"1100\"],[\"layers_2:64:2-harm_0.01\",\"158\",\"1100\"],[\"layers_2:64:2-safe_0.50\",\"176\",\"1100\"],[\"layers_2:64:2-safe_0.01\",\"294\",\"1100\"],[\"layers_4:64:4-harm_0.25\",\"38\",\"1100\"],[\"layers_4:64:4-harm_0.01\",\"140\",\"1100\"],[\"layers_4:64:4-safe_0.50\",\"162\",\"1100\"],[\"layers_4:64:4-safe_0.01\",\"264\",\"1100\"]],\"hovertemplate\":\"Experiment: %{customdata[0]}\\u003cbr\\u003eRefusal & Justification\\u003cbr\\u003ePct: %{y:.1f}%\\u003cbr\\u003eCount: %{customdata[1]} \\u002f %{customdata[2]}\\u003cextra\\u003e\\u003c\\u002fextra\\u003e\",\"legendgroup\":\"other\",\"marker\":{\"color\":\"#33a02c\"},\"name\":\"Refusal & Justification\",\"width\":0.8,\"x\":[0.0,1.0,2.6,3.6,4.6,5.6,7.199999999999999,8.2,9.2,10.2,11.799999999999999,12.799999999999999,13.799999999999999,14.799999999999999,16.4,17.4,18.4,19.4],\"y\":[7.7,1.9,3.6,7.4,7.2,7.9,4.3,12.1,18.2,23.9,4.8,14.4,16.0,26.7,3.5,12.7,14.7,24.0],\"type\":\"bar\",\"xaxis\":\"x2\",\"yaxis\":\"y2\"},{\"customdata\":[[\"unsteered_default\",\"34\",\"1100\"],[\"unsteered_prompted\",\"9\",\"1100\"],[\"layers_32:64-harm_0.25\",\"13\",\"1100\"],[\"layers_32:64-harm_0.01\",\"27\",\"1100\"],[\"layers_32:64-safe_0.50\",\"41\",\"1100\"],[\"layers_32:64-safe_0.01\",\"77\",\"1100\"],[\"layers_0:64-harm_0.25\",\"21\",\"1100\"],[\"layers_0:64-harm_0.01\",\"31\",\"1100\"],[\"layers_0:64-safe_0.50\",\"43\",\"1100\"],[\"layers_0:64-safe_0.01\",\"67\",\"1100\"],[\"layers_2:64:2-harm_0.25\",\"18\",\"1100\"],[\"layers_2:64:2-harm_0.01\",\"26\",\"1100\"],[\"layers_2:64:2-safe_0.50\",\"39\",\"1100\"],[\"layers_2:64:2-safe_0.01\",\"72\",\"1100\"],[\"layers_4:64:4-harm_0.25\",\"14\",\"1100\"],[\"layers_4:64:4-harm_0.01\",\"29\",\"1100\"],[\"layers_4:64:4-safe_0.50\",\"20\",\"1100\"],[\"layers_4:64:4-safe_0.01\",\"51\",\"1100\"]],\"hovertemplate\":\"Experiment: %{customdata[0]}\\u003cbr\\u003eOut of Context\\u003cbr\\u003ePct: %{y:.1f}%\\u003cbr\\u003eCount: %{customdata[1]} \\u002f %{customdata[2]}\\u003cextra\\u003e\\u003c\\u002fextra\\u003e\",\"legendgroup\":\"other\",\"marker\":{\"color\":\"#6a3d9a\"},\"name\":\"Out of Context\",\"width\":0.8,\"x\":[0.0,1.0,2.6,3.6,4.6,5.6,7.199999999999999,8.2,9.2,10.2,11.799999999999999,12.799999999999999,13.799999999999999,14.799999999999999,16.4,17.4,18.4,19.4],\"y\":[3.1,0.8,1.2,2.5,3.7,7.0,1.9,2.8,3.9,6.1,1.6,2.4,3.5,6.5,1.3,2.6,1.8,4.6],\"type\":\"bar\",\"xaxis\":\"x2\",\"yaxis\":\"y2\"},{\"customdata\":[[\"unsteered_default\",\"0\",\"1100\"],[\"unsteered_prompted\",\"0\",\"1100\"],[\"layers_32:64-harm_0.25\",\"15\",\"1100\"],[\"layers_32:64-harm_0.01\",\"5\",\"1100\"],[\"layers_32:64-safe_0.50\",\"4\",\"1100\"],[\"layers_32:64-safe_0.01\",\"3\",\"1100\"],[\"layers_0:64-harm_0.25\",\"22\",\"1100\"],[\"layers_0:64-harm_0.01\",\"2\",\"1100\"],[\"layers_0:64-safe_0.50\",\"5\",\"1100\"],[\"layers_0:64-safe_0.01\",\"3\",\"1100\"],[\"layers_2:64:2-harm_0.25\",\"0\",\"1100\"],[\"layers_2:64:2-harm_0.01\",\"0\",\"1100\"],[\"layers_2:64:2-safe_0.50\",\"0\",\"1100\"],[\"layers_2:64:2-safe_0.01\",\"0\",\"1100\"],[\"layers_4:64:4-harm_0.25\",\"0\",\"1100\"],[\"layers_4:64:4-harm_0.01\",\"1\",\"1100\"],[\"layers_4:64:4-safe_0.50\",\"0\",\"1100\"],[\"layers_4:64:4-safe_0.01\",\"0\",\"1100\"]],\"hovertemplate\":\"Experiment: %{customdata[0]}\\u003cbr\\u003eNonsensical\\u003cbr\\u003ePct: %{y:.1f}%\\u003cbr\\u003eCount: %{customdata[1]} \\u002f %{customdata[2]}\\u003cextra\\u003e\\u003c\\u002fextra\\u003e\",\"legendgroup\":\"other\",\"marker\":{\"color\":\"#fb9a99\"},\"name\":\"Nonsensical\",\"width\":0.8,\"x\":[0.0,1.0,2.6,3.6,4.6,5.6,7.199999999999999,8.2,9.2,10.2,11.799999999999999,12.799999999999999,13.799999999999999,14.799999999999999,16.4,17.4,18.4,19.4],\"y\":[0.0,0.0,1.4,0.5,0.4,0.3,2.0,0.2,0.5,0.3,0.0,0.0,0.0,0.0,0.0,0.1,0.0,0.0],\"type\":\"bar\",\"xaxis\":\"x2\",\"yaxis\":\"y2\"}],                        {\"template\":{\"data\":{\"histogram2dcontour\":[{\"type\":\"histogram2dcontour\",\"colorbar\":{\"outlinewidth\":0,\"ticks\":\"\"},\"colorscale\":[[0.0,\"#0d0887\"],[0.1111111111111111,\"#46039f\"],[0.2222222222222222,\"#7201a8\"],[0.3333333333333333,\"#9c179e\"],[0.4444444444444444,\"#bd3786\"],[0.5555555555555556,\"#d8576b\"],[0.6666666666666666,\"#ed7953\"],[0.7777777777777778,\"#fb9f3a\"],[0.8888888888888888,\"#fdca26\"],[1.0,\"#f0f921\"]]}],\"choropleth\":[{\"type\":\"choropleth\",\"colorbar\":{\"outlinewidth\":0,\"ticks\":\"\"}}],\"histogram2d\":[{\"type\":\"histogram2d\",\"colorbar\":{\"outlinewidth\":0,\"ticks\":\"\"},\"colorscale\":[[0.0,\"#0d0887\"],[0.1111111111111111,\"#46039f\"],[0.2222222222222222,\"#7201a8\"],[0.3333333333333333,\"#9c179e\"],[0.4444444444444444,\"#bd3786\"],[0.5555555555555556,\"#d8576b\"],[0.6666666666666666,\"#ed7953\"],[0.7777777777777778,\"#fb9f3a\"],[0.8888888888888888,\"#fdca26\"],[1.0,\"#f0f921\"]]}],\"heatmap\":[{\"type\":\"heatmap\",\"colorbar\":{\"outlinewidth\":0,\"ticks\":\"\"},\"colorscale\":[[0.0,\"#0d0887\"],[0.1111111111111111,\"#46039f\"],[0.2222222222222222,\"#7201a8\"],[0.3333333333333333,\"#9c179e\"],[0.4444444444444444,\"#bd3786\"],[0.5555555555555556,\"#d8576b\"],[0.6666666666666666,\"#ed7953\"],[0.7777777777777778,\"#fb9f3a\"],[0.8888888888888888,\"#fdca26\"],[1.0,\"#f0f921\"]]}],\"heatmapgl\":[{\"type\":\"heatmapgl\",\"colorbar\":{\"outlinewidth\":0,\"ticks\":\"\"},\"colorscale\":[[0.0,\"#0d0887\"],[0.1111111111111111,\"#46039f\"],[0.2222222222222222,\"#7201a8\"],[0.3333333333333333,\"#9c179e\"],[0.4444444444444444,\"#bd3786\"],[0.5555555555555556,\"#d8576b\"],[0.6666666666666666,\"#ed7953\"],[0.7777777777777778,\"#fb9f3a\"],[0.8888888888888888,\"#fdca26\"],[1.0,\"#f0f921\"]]}],\"contourcarpet\":[{\"type\":\"contourcarpet\",\"colorbar\":{\"outlinewidth\":0,\"ticks\":\"\"}}],\"contour\":[{\"type\":\"contour\",\"colorbar\":{\"outlinewidth\":0,\"ticks\":\"\"},\"colorscale\":[[0.0,\"#0d0887\"],[0.1111111111111111,\"#46039f\"],[0.2222222222222222,\"#7201a8\"],[0.3333333333333333,\"#9c179e\"],[0.4444444444444444,\"#bd3786\"],[0.5555555555555556,\"#d8576b\"],[0.6666666666666666,\"#ed7953\"],[0.7777777777777778,\"#fb9f3a\"],[0.8888888888888888,\"#fdca26\"],[1.0,\"#f0f921\"]]}],\"surface\":[{\"type\":\"surface\",\"colorbar\":{\"outlinewidth\":0,\"ticks\":\"\"},\"colorscale\":[[0.0,\"#0d0887\"],[0.1111111111111111,\"#46039f\"],[0.2222222222222222,\"#7201a8\"],[0.3333333333333333,\"#9c179e\"],[0.4444444444444444,\"#bd3786\"],[0.5555555555555556,\"#d8576b\"],[0.6666666666666666,\"#ed7953\"],[0.7777777777777778,\"#fb9f3a\"],[0.8888888888888888,\"#fdca26\"],[1.0,\"#f0f921\"]]}],\"mesh3d\":[{\"type\":\"mesh3d\",\"colorbar\":{\"outlinewidth\":0,\"ticks\":\"\"}}],\"scatter\":[{\"fillpattern\":{\"fillmode\":\"overlay\",\"size\":10,\"solidity\":0.2},\"type\":\"scatter\"}],\"parcoords\":[{\"type\":\"parcoords\",\"line\":{\"colorbar\":{\"outlinewidth\":0,\"ticks\":\"\"}}}],\"scatterpolargl\":[{\"type\":\"scatterpolargl\",\"marker\":{\"colorbar\":{\"outlinewidth\":0,\"ticks\":\"\"}}}],\"bar\":[{\"error_x\":{\"color\":\"#2a3f5f\"},\"error_y\":{\"color\":\"#2a3f5f\"},\"marker\":{\"line\":{\"color\":\"#E5ECF6\",\"width\":0.5},\"pattern\":{\"fillmode\":\"overlay\",\"size\":10,\"solidity\":0.2}},\"type\":\"bar\"}],\"scattergeo\":[{\"type\":\"scattergeo\",\"marker\":{\"colorbar\":{\"outlinewidth\":0,\"ticks\":\"\"}}}],\"scatterpolar\":[{\"type\":\"scatterpolar\",\"marker\":{\"colorbar\":{\"outlinewidth\":0,\"ticks\":\"\"}}}],\"histogram\":[{\"marker\":{\"pattern\":{\"fillmode\":\"overlay\",\"size\":10,\"solidity\":0.2}},\"type\":\"histogram\"}],\"scattergl\":[{\"type\":\"scattergl\",\"marker\":{\"colorbar\":{\"outlinewidth\":0,\"ticks\":\"\"}}}],\"scatter3d\":[{\"type\":\"scatter3d\",\"line\":{\"colorbar\":{\"outlinewidth\":0,\"ticks\":\"\"}},\"marker\":{\"colorbar\":{\"outlinewidth\":0,\"ticks\":\"\"}}}],\"scattermapbox\":[{\"type\":\"scattermapbox\",\"marker\":{\"colorbar\":{\"outlinewidth\":0,\"ticks\":\"\"}}}],\"scatterternary\":[{\"type\":\"scatterternary\",\"marker\":{\"colorbar\":{\"outlinewidth\":0,\"ticks\":\"\"}}}],\"scattercarpet\":[{\"type\":\"scattercarpet\",\"marker\":{\"colorbar\":{\"outlinewidth\":0,\"ticks\":\"\"}}}],\"carpet\":[{\"aaxis\":{\"endlinecolor\":\"#2a3f5f\",\"gridcolor\":\"white\",\"linecolor\":\"white\",\"minorgridcolor\":\"white\",\"startlinecolor\":\"#2a3f5f\"},\"baxis\":{\"endlinecolor\":\"#2a3f5f\",\"gridcolor\":\"white\",\"linecolor\":\"white\",\"minorgridcolor\":\"white\",\"startlinecolor\":\"#2a3f5f\"},\"type\":\"carpet\"}],\"table\":[{\"cells\":{\"fill\":{\"color\":\"#EBF0F8\"},\"line\":{\"color\":\"white\"}},\"header\":{\"fill\":{\"color\":\"#C8D4E3\"},\"line\":{\"color\":\"white\"}},\"type\":\"table\"}],\"barpolar\":[{\"marker\":{\"line\":{\"color\":\"#E5ECF6\",\"width\":0.5},\"pattern\":{\"fillmode\":\"overlay\",\"size\":10,\"solidity\":0.2}},\"type\":\"barpolar\"}],\"pie\":[{\"automargin\":true,\"type\":\"pie\"}]},\"layout\":{\"autotypenumbers\":\"strict\",\"colorway\":[\"#636efa\",\"#EF553B\",\"#00cc96\",\"#ab63fa\",\"#FFA15A\",\"#19d3f3\",\"#FF6692\",\"#B6E880\",\"#FF97FF\",\"#FECB52\"],\"font\":{\"color\":\"#2a3f5f\"},\"hovermode\":\"closest\",\"hoverlabel\":{\"align\":\"left\"},\"paper_bgcolor\":\"white\",\"plot_bgcolor\":\"#E5ECF6\",\"polar\":{\"bgcolor\":\"#E5ECF6\",\"angularaxis\":{\"gridcolor\":\"white\",\"linecolor\":\"white\",\"ticks\":\"\"},\"radialaxis\":{\"gridcolor\":\"white\",\"linecolor\":\"white\",\"ticks\":\"\"}},\"ternary\":{\"bgcolor\":\"#E5ECF6\",\"aaxis\":{\"gridcolor\":\"white\",\"linecolor\":\"white\",\"ticks\":\"\"},\"baxis\":{\"gridcolor\":\"white\",\"linecolor\":\"white\",\"ticks\":\"\"},\"caxis\":{\"gridcolor\":\"white\",\"linecolor\":\"white\",\"ticks\":\"\"}},\"coloraxis\":{\"colorbar\":{\"outlinewidth\":0,\"ticks\":\"\"}},\"colorscale\":{\"sequential\":[[0.0,\"#0d0887\"],[0.1111111111111111,\"#46039f\"],[0.2222222222222222,\"#7201a8\"],[0.3333333333333333,\"#9c179e\"],[0.4444444444444444,\"#bd3786\"],[0.5555555555555556,\"#d8576b\"],[0.6666666666666666,\"#ed7953\"],[0.7777777777777778,\"#fb9f3a\"],[0.8888888888888888,\"#fdca26\"],[1.0,\"#f0f921\"]],\"sequentialminus\":[[0.0,\"#0d0887\"],[0.1111111111111111,\"#46039f\"],[0.2222222222222222,\"#7201a8\"],[0.3333333333333333,\"#9c179e\"],[0.4444444444444444,\"#bd3786\"],[0.5555555555555556,\"#d8576b\"],[0.6666666666666666,\"#ed7953\"],[0.7777777777777778,\"#fb9f3a\"],[0.8888888888888888,\"#fdca26\"],[1.0,\"#f0f921\"]],\"diverging\":[[0,\"#8e0152\"],[0.1,\"#c51b7d\"],[0.2,\"#de77ae\"],[0.3,\"#f1b6da\"],[0.4,\"#fde0ef\"],[0.5,\"#f7f7f7\"],[0.6,\"#e6f5d0\"],[0.7,\"#b8e186\"],[0.8,\"#7fbc41\"],[0.9,\"#4d9221\"],[1,\"#276419\"]]},\"xaxis\":{\"gridcolor\":\"white\",\"linecolor\":\"white\",\"ticks\":\"\",\"title\":{\"standoff\":15},\"zerolinecolor\":\"white\",\"automargin\":true,\"zerolinewidth\":2},\"yaxis\":{\"gridcolor\":\"white\",\"linecolor\":\"white\",\"ticks\":\"\",\"title\":{\"standoff\":15},\"zerolinecolor\":\"white\",\"automargin\":true,\"zerolinewidth\":2},\"scene\":{\"xaxis\":{\"backgroundcolor\":\"#E5ECF6\",\"gridcolor\":\"white\",\"linecolor\":\"white\",\"showbackground\":true,\"ticks\":\"\",\"zerolinecolor\":\"white\",\"gridwidth\":2},\"yaxis\":{\"backgroundcolor\":\"#E5ECF6\",\"gridcolor\":\"white\",\"linecolor\":\"white\",\"showbackground\":true,\"ticks\":\"\",\"zerolinecolor\":\"white\",\"gridwidth\":2},\"zaxis\":{\"backgroundcolor\":\"#E5ECF6\",\"gridcolor\":\"white\",\"linecolor\":\"white\",\"showbackground\":true,\"ticks\":\"\",\"zerolinecolor\":\"white\",\"gridwidth\":2}},\"shapedefaults\":{\"line\":{\"color\":\"#2a3f5f\"}},\"annotationdefaults\":{\"arrowcolor\":\"#2a3f5f\",\"arrowhead\":0,\"arrowwidth\":1},\"geo\":{\"bgcolor\":\"white\",\"landcolor\":\"#E5ECF6\",\"subunitcolor\":\"white\",\"showland\":true,\"showlakes\":true,\"lakecolor\":\"white\"},\"title\":{\"x\":0.05},\"mapbox\":{\"style\":\"light\"}}},\"xaxis\":{\"anchor\":\"y\",\"domain\":[0.0,1.0],\"tickmode\":\"array\",\"tickvals\":[0.5,4.1,8.7,13.299999999999999,17.9],\"ticktext\":[\"Baseline\",\"Layers 32-63\",\"All Layers 0-63\",\"Every 2nd Layer\",\"Every 4th Layer\"],\"showgrid\":true,\"gridcolor\":\"lightgray\",\"range\":[-0.5,19.9]},\"yaxis\":{\"anchor\":\"x\",\"domain\":[0.56,1.0],\"title\":{\"text\":\"Percentage of Responses\"},\"range\":[0,119],\"showgrid\":true,\"gridcolor\":\"lightgray\"},\"xaxis2\":{\"anchor\":\"y2\",\"domain\":[0.0,1.0],\"title\":{\"text\":\"Layers of Intervention\"},\"tickmode\":\"array\",\"tickvals\":[0.5,4.1,8.7,13.299999999999999,17.9],\"ticktext\":[\"Baseline\",\"Layers 32-63\",\"All Layers 0-63\",\"Every 2nd Layer\",\"Every 4th Layer\"],\"showgrid\":true,\"gridcolor\":\"lightgray\",\"range\":[-0.5,19.9]},\"yaxis2\":{\"anchor\":\"x2\",\"domain\":[0.0,0.44],\"title\":{\"text\":\"Percentage of Responses\"},\"range\":[0,119],\"showgrid\":true,\"gridcolor\":\"lightgray\"},\"annotations\":[{\"font\":{\"size\":14},\"showarrow\":false,\"text\":\"Harmful Responses Across Intervention Layer and Cap Combinations\",\"x\":0.5,\"xanchor\":\"center\",\"xref\":\"paper\",\"y\":1.0,\"yanchor\":\"bottom\",\"yref\":\"paper\"},{\"font\":{\"size\":14},\"showarrow\":false,\"text\":\"Other Responses Across Intervention Layer and Cap Combinations\",\"x\":0.5,\"xanchor\":\"center\",\"xref\":\"paper\",\"y\":0.44,\"yanchor\":\"bottom\",\"yref\":\"paper\"},{\"font\":{\"size\":9},\"showarrow\":false,\"text\":\"1.2%\",\"x\":0.0,\"xref\":\"x\",\"y\":4.2,\"yref\":\"y\"},{\"font\":{\"size\":8},\"showarrow\":false,\"text\":\"\\u003cb\\u003eDefault\\u003cbr\\u003eAssistant\\u003c\\u002fb\\u003e\",\"x\":0.0,\"xref\":\"x\",\"y\":11.2,\"yref\":\"y\"},{\"font\":{\"size\":9},\"showarrow\":false,\"text\":\"81.6%\",\"x\":1.0,\"xref\":\"x\",\"y\":84.6,\"yref\":\"y\"},{\"font\":{\"size\":8},\"showarrow\":false,\"text\":\"\\u003cb\\u003eJailbreak\\u003cbr\\u003ePersona\\u003c\\u002fb\\u003e\",\"x\":1.0,\"xref\":\"x\",\"y\":91.6,\"yref\":\"y\"},{\"font\":{\"size\":9},\"showarrow\":false,\"text\":\"63.2%\",\"x\":2.6,\"xref\":\"x\",\"y\":66.2,\"yref\":\"y\"},{\"font\":{\"size\":8},\"showarrow\":false,\"text\":\"\\u003cb\\u003e75%\\u003cbr\\u003eHarmful\\u003c\\u002fb\\u003e\",\"x\":2.6,\"xref\":\"x\",\"y\":73.2,\"yref\":\"y\"},{\"font\":{\"size\":9},\"showarrow\":false,\"text\":\"43.8%\",\"x\":3.6,\"xref\":\"x\",\"y\":46.800000000000004,\"yref\":\"y\"},{\"font\":{\"size\":8},\"showarrow\":false,\"text\":\"\\u003cb\\u003e99%\\u003cbr\\u003eHarmful\\u003c\\u002fb\\u003e\",\"x\":3.6,\"xref\":\"x\",\"y\":53.800000000000004,\"yref\":\"y\"},{\"font\":{\"size\":9},\"showarrow\":false,\"text\":\"31.6%\",\"x\":4.6,\"xref\":\"x\",\"y\":34.6,\"yref\":\"y\"},{\"font\":{\"size\":8},\"showarrow\":false,\"text\":\"\\u003cb\\u003e50%\\u003cbr\\u003eSafe\\u003c\\u002fb\\u003e\",\"x\":4.6,\"xref\":\"x\",\"y\":41.6,\"yref\":\"y\"},{\"font\":{\"size\":9},\"showarrow\":false,\"text\":\"17.2%\",\"x\":5.6,\"xref\":\"x\",\"y\":20.2,\"yref\":\"y\"},{\"font\":{\"size\":8},\"showarrow\":false,\"text\":\"\\u003cb\\u003e99%\\u003cbr\\u003eSafe\\u003c\\u002fb\\u003e\",\"x\":5.6,\"xref\":\"x\",\"y\":27.2,\"yref\":\"y\"},{\"font\":{\"size\":9},\"showarrow\":false,\"text\":\"59.6%\",\"x\":7.199999999999999,\"xref\":\"x\",\"y\":62.6,\"yref\":\"y\"},{\"font\":{\"size\":8},\"showarrow\":false,\"text\":\"\\u003cb\\u003e75%\\u003cbr\\u003eHarmful\\u003c\\u002fb\\u003e\",\"x\":7.199999999999999,\"xref\":\"x\",\"y\":69.6,\"yref\":\"y\"},{\"font\":{\"size\":9},\"showarrow\":false,\"text\":\"39.0%\",\"x\":8.2,\"xref\":\"x\",\"y\":42.0,\"yref\":\"y\"},{\"font\":{\"size\":8},\"showarrow\":false,\"text\":\"\\u003cb\\u003e99%\\u003cbr\\u003eHarmful\\u003c\\u002fb\\u003e\",\"x\":8.2,\"xref\":\"x\",\"y\":49.0,\"yref\":\"y\"},{\"font\":{\"size\":9},\"showarrow\":false,\"text\":\"24.6%\",\"x\":9.2,\"xref\":\"x\",\"y\":27.6,\"yref\":\"y\"},{\"font\":{\"size\":8},\"showarrow\":false,\"text\":\"\\u003cb\\u003e50%\\u003cbr\\u003eSafe\\u003c\\u002fb\\u003e\",\"x\":9.2,\"xref\":\"x\",\"y\":34.6,\"yref\":\"y\"},{\"font\":{\"size\":9},\"showarrow\":false,\"text\":\"8.6%\",\"x\":10.2,\"xref\":\"x\",\"y\":11.6,\"yref\":\"y\"},{\"font\":{\"size\":8},\"showarrow\":false,\"text\":\"\\u003cb\\u003e99%\\u003cbr\\u003eSafe\\u003c\\u002fb\\u003e\",\"x\":10.2,\"xref\":\"x\",\"y\":18.6,\"yref\":\"y\"},{\"font\":{\"size\":9},\"showarrow\":false,\"text\":\"64.9%\",\"x\":11.799999999999999,\"xref\":\"x\",\"y\":67.9,\"yref\":\"y\"},{\"font\":{\"size\":8},\"showarrow\":false,\"text\":\"\\u003cb\\u003e75%\\u003cbr\\u003eHarmful\\u003c\\u002fb\\u003e\",\"x\":11.799999999999999,\"xref\":\"x\",\"y\":74.9,\"yref\":\"y\"},{\"font\":{\"size\":9},\"showarrow\":false,\"text\":\"38.9%\",\"x\":12.799999999999999,\"xref\":\"x\",\"y\":41.9,\"yref\":\"y\"},{\"font\":{\"size\":8},\"showarrow\":false,\"text\":\"\\u003cb\\u003e99%\\u003cbr\\u003eHarmful\\u003c\\u002fb\\u003e\",\"x\":12.799999999999999,\"xref\":\"x\",\"y\":48.9,\"yref\":\"y\"},{\"font\":{\"size\":9},\"showarrow\":false,\"text\":\"29.0%\",\"x\":13.799999999999999,\"xref\":\"x\",\"y\":32.0,\"yref\":\"y\"},{\"font\":{\"size\":8},\"showarrow\":false,\"text\":\"\\u003cb\\u003e50%\\u003cbr\\u003eSafe\\u003c\\u002fb\\u003e\",\"x\":13.799999999999999,\"xref\":\"x\",\"y\":39.0,\"yref\":\"y\"},{\"font\":{\"size\":9},\"showarrow\":false,\"text\":\"9.0%\",\"x\":14.799999999999999,\"xref\":\"x\",\"y\":12.0,\"yref\":\"y\"},{\"font\":{\"size\":8},\"showarrow\":false,\"text\":\"\\u003cb\\u003e99%\\u003cbr\\u003eSafe\\u003c\\u002fb\\u003e\",\"x\":14.799999999999999,\"xref\":\"x\",\"y\":19.0,\"yref\":\"y\"},{\"font\":{\"size\":9},\"showarrow\":false,\"text\":\"65.2%\",\"x\":16.4,\"xref\":\"x\",\"y\":68.2,\"yref\":\"y\"},{\"font\":{\"size\":8},\"showarrow\":false,\"text\":\"\\u003cb\\u003e75%\\u003cbr\\u003eHarmful\\u003c\\u002fb\\u003e\",\"x\":16.4,\"xref\":\"x\",\"y\":75.2,\"yref\":\"y\"},{\"font\":{\"size\":9},\"showarrow\":false,\"text\":\"40.0%\",\"x\":17.4,\"xref\":\"x\",\"y\":43.0,\"yref\":\"y\"},{\"font\":{\"size\":8},\"showarrow\":false,\"text\":\"\\u003cb\\u003e99%\\u003cbr\\u003eHarmful\\u003c\\u002fb\\u003e\",\"x\":17.4,\"xref\":\"x\",\"y\":50.0,\"yref\":\"y\"},{\"font\":{\"size\":9},\"showarrow\":false,\"text\":\"32.1%\",\"x\":18.4,\"xref\":\"x\",\"y\":35.1,\"yref\":\"y\"},{\"font\":{\"size\":8},\"showarrow\":false,\"text\":\"\\u003cb\\u003e50%\\u003cbr\\u003eSafe\\u003c\\u002fb\\u003e\",\"x\":18.4,\"xref\":\"x\",\"y\":42.1,\"yref\":\"y\"},{\"font\":{\"size\":9},\"showarrow\":false,\"text\":\"12.3%\",\"x\":19.4,\"xref\":\"x\",\"y\":15.3,\"yref\":\"y\"},{\"font\":{\"size\":8},\"showarrow\":false,\"text\":\"\\u003cb\\u003e99%\\u003cbr\\u003eSafe\\u003c\\u002fb\\u003e\",\"x\":19.4,\"xref\":\"x\",\"y\":22.3,\"yref\":\"y\"},{\"font\":{\"size\":9},\"showarrow\":false,\"text\":\"98.7%\",\"x\":0.0,\"xref\":\"x2\",\"y\":101.69999999999999,\"yref\":\"y2\"},{\"font\":{\"size\":8},\"showarrow\":false,\"text\":\"\\u003cb\\u003eDefault\\u003cbr\\u003eAssistant\\u003c\\u002fb\\u003e\",\"x\":0.0,\"xref\":\"x2\",\"y\":108.69999999999999,\"yref\":\"y2\"},{\"font\":{\"size\":9},\"showarrow\":false,\"text\":\"18.4%\",\"x\":1.0,\"xref\":\"x2\",\"y\":21.400000000000002,\"yref\":\"y2\"},{\"font\":{\"size\":8},\"showarrow\":false,\"text\":\"\\u003cb\\u003eJailbreak\\u003cbr\\u003ePersona\\u003c\\u002fb\\u003e\",\"x\":1.0,\"xref\":\"x2\",\"y\":28.400000000000002,\"yref\":\"y2\"},{\"font\":{\"size\":9},\"showarrow\":false,\"text\":\"36.8%\",\"x\":2.6,\"xref\":\"x2\",\"y\":39.8,\"yref\":\"y2\"},{\"font\":{\"size\":8},\"showarrow\":false,\"text\":\"\\u003cb\\u003e75%\\u003cbr\\u003eHarmful\\u003c\\u002fb\\u003e\",\"x\":2.6,\"xref\":\"x2\",\"y\":46.8,\"yref\":\"y2\"},{\"font\":{\"size\":9},\"showarrow\":false,\"text\":\"56.3%\",\"x\":3.6,\"xref\":\"x2\",\"y\":59.3,\"yref\":\"y2\"},{\"font\":{\"size\":8},\"showarrow\":false,\"text\":\"\\u003cb\\u003e99%\\u003cbr\\u003eHarmful\\u003c\\u002fb\\u003e\",\"x\":3.6,\"xref\":\"x2\",\"y\":66.3,\"yref\":\"y2\"},{\"font\":{\"size\":9},\"showarrow\":false,\"text\":\"68.4%\",\"x\":4.6,\"xref\":\"x2\",\"y\":71.4,\"yref\":\"y2\"},{\"font\":{\"size\":8},\"showarrow\":false,\"text\":\"\\u003cb\\u003e50%\\u003cbr\\u003eSafe\\u003c\\u002fb\\u003e\",\"x\":4.6,\"xref\":\"x2\",\"y\":78.4,\"yref\":\"y2\"},{\"font\":{\"size\":9},\"showarrow\":false,\"text\":\"82.8%\",\"x\":5.6,\"xref\":\"x2\",\"y\":85.8,\"yref\":\"y2\"},{\"font\":{\"size\":8},\"showarrow\":false,\"text\":\"\\u003cb\\u003e99%\\u003cbr\\u003eSafe\\u003c\\u002fb\\u003e\",\"x\":5.6,\"xref\":\"x2\",\"y\":92.8,\"yref\":\"y2\"},{\"font\":{\"size\":9},\"showarrow\":false,\"text\":\"40.5%\",\"x\":7.199999999999999,\"xref\":\"x2\",\"y\":43.49999999999999,\"yref\":\"y2\"},{\"font\":{\"size\":8},\"showarrow\":false,\"text\":\"\\u003cb\\u003e75%\\u003cbr\\u003eHarmful\\u003c\\u002fb\\u003e\",\"x\":7.199999999999999,\"xref\":\"x2\",\"y\":50.49999999999999,\"yref\":\"y2\"},{\"font\":{\"size\":9},\"showarrow\":false,\"text\":\"61.0%\",\"x\":8.2,\"xref\":\"x2\",\"y\":64.0,\"yref\":\"y2\"},{\"font\":{\"size\":8},\"showarrow\":false,\"text\":\"\\u003cb\\u003e99%\\u003cbr\\u003eHarmful\\u003c\\u002fb\\u003e\",\"x\":8.2,\"xref\":\"x2\",\"y\":71.0,\"yref\":\"y2\"},{\"font\":{\"size\":9},\"showarrow\":false,\"text\":\"75.5%\",\"x\":9.2,\"xref\":\"x2\",\"y\":78.5,\"yref\":\"y2\"},{\"font\":{\"size\":8},\"showarrow\":false,\"text\":\"\\u003cb\\u003e50%\\u003cbr\\u003eSafe\\u003c\\u002fb\\u003e\",\"x\":9.2,\"xref\":\"x2\",\"y\":85.5,\"yref\":\"y2\"},{\"font\":{\"size\":9},\"showarrow\":false,\"text\":\"91.5%\",\"x\":10.2,\"xref\":\"x2\",\"y\":94.49999999999999,\"yref\":\"y2\"},{\"font\":{\"size\":8},\"showarrow\":false,\"text\":\"\\u003cb\\u003e99%\\u003cbr\\u003eSafe\\u003c\\u002fb\\u003e\",\"x\":10.2,\"xref\":\"x2\",\"y\":101.49999999999999,\"yref\":\"y2\"},{\"font\":{\"size\":9},\"showarrow\":false,\"text\":\"35.0%\",\"x\":11.799999999999999,\"xref\":\"x2\",\"y\":38.0,\"yref\":\"y2\"},{\"font\":{\"size\":8},\"showarrow\":false,\"text\":\"\\u003cb\\u003e75%\\u003cbr\\u003eHarmful\\u003c\\u002fb\\u003e\",\"x\":11.799999999999999,\"xref\":\"x2\",\"y\":45.0,\"yref\":\"y2\"},{\"font\":{\"size\":9},\"showarrow\":false,\"text\":\"61.3%\",\"x\":12.799999999999999,\"xref\":\"x2\",\"y\":64.3,\"yref\":\"y2\"},{\"font\":{\"size\":8},\"showarrow\":false,\"text\":\"\\u003cb\\u003e99%\\u003cbr\\u003eHarmful\\u003c\\u002fb\\u003e\",\"x\":12.799999999999999,\"xref\":\"x2\",\"y\":71.3,\"yref\":\"y2\"},{\"font\":{\"size\":9},\"showarrow\":false,\"text\":\"71.0%\",\"x\":13.799999999999999,\"xref\":\"x2\",\"y\":74.0,\"yref\":\"y2\"},{\"font\":{\"size\":8},\"showarrow\":false,\"text\":\"\\u003cb\\u003e50%\\u003cbr\\u003eSafe\\u003c\\u002fb\\u003e\",\"x\":13.799999999999999,\"xref\":\"x2\",\"y\":81.0,\"yref\":\"y2\"},{\"font\":{\"size\":9},\"showarrow\":false,\"text\":\"90.9%\",\"x\":14.799999999999999,\"xref\":\"x2\",\"y\":93.9,\"yref\":\"y2\"},{\"font\":{\"size\":8},\"showarrow\":false,\"text\":\"\\u003cb\\u003e99%\\u003cbr\\u003eSafe\\u003c\\u002fb\\u003e\",\"x\":14.799999999999999,\"xref\":\"x2\",\"y\":100.9,\"yref\":\"y2\"},{\"font\":{\"size\":9},\"showarrow\":false,\"text\":\"34.8%\",\"x\":16.4,\"xref\":\"x2\",\"y\":37.8,\"yref\":\"y2\"},{\"font\":{\"size\":8},\"showarrow\":false,\"text\":\"\\u003cb\\u003e75%\\u003cbr\\u003eHarmful\\u003c\\u002fb\\u003e\",\"x\":16.4,\"xref\":\"x2\",\"y\":44.8,\"yref\":\"y2\"},{\"font\":{\"size\":9},\"showarrow\":false,\"text\":\"59.9%\",\"x\":17.4,\"xref\":\"x2\",\"y\":62.900000000000006,\"yref\":\"y2\"},{\"font\":{\"size\":8},\"showarrow\":false,\"text\":\"\\u003cb\\u003e99%\\u003cbr\\u003eHarmful\\u003c\\u002fb\\u003e\",\"x\":17.4,\"xref\":\"x2\",\"y\":69.9,\"yref\":\"y2\"},{\"font\":{\"size\":9},\"showarrow\":false,\"text\":\"67.8%\",\"x\":18.4,\"xref\":\"x2\",\"y\":70.8,\"yref\":\"y2\"},{\"font\":{\"size\":8},\"showarrow\":false,\"text\":\"\\u003cb\\u003e50%\\u003cbr\\u003eSafe\\u003c\\u002fb\\u003e\",\"x\":18.4,\"xref\":\"x2\",\"y\":77.8,\"yref\":\"y2\"},{\"font\":{\"size\":9},\"showarrow\":false,\"text\":\"87.5%\",\"x\":19.4,\"xref\":\"x2\",\"y\":90.5,\"yref\":\"y2\"},{\"font\":{\"size\":8},\"showarrow\":false,\"text\":\"\\u003cb\\u003e99%\\u003cbr\\u003eSafe\\u003c\\u002fb\\u003e\",\"x\":19.4,\"xref\":\"x2\",\"y\":97.5,\"yref\":\"y2\"}],\"title\":{\"subtitle\":{\"text\":\"Qwen 3 32B, Projecting on Mean (Role-Playing - Default Assistant) Contrast Vector\"},\"text\":\"Responses after Persona-based Jailbreak with Multi-Layer Projection Capping\"},\"legend\":{\"orientation\":\"h\",\"y\":1.02,\"x\":1.09,\"xanchor\":\"right\",\"yanchor\":\"bottom\"},\"barmode\":\"stack\",\"width\":1100,\"height\":1000,\"bargap\":0.01},                        {\"responsive\": true}                    ).then(function(){\n",
       "                            \n",
       "var gd = document.getElementById('f7b8cec9-9a19-4f6f-bcb1-a97629bf31c4');\n",
       "var x = new MutationObserver(function (mutations, observer) {{\n",
       "        var display = window.getComputedStyle(gd).display;\n",
       "        if (!display || display === 'none') {{\n",
       "            console.log([gd, 'removed!']);\n",
       "            Plotly.purge(gd);\n",
       "            observer.disconnect();\n",
       "        }}\n",
       "}});\n",
       "\n",
       "// Listen for the removal of the full notebook cells\n",
       "var notebookContainer = gd.closest('#notebook-container');\n",
       "if (notebookContainer) {{\n",
       "    x.observe(notebookContainer, {childList: true});\n",
       "}}\n",
       "\n",
       "// Listen for the clearing of the current output cell\n",
       "var outputEl = gd.closest('.output');\n",
       "if (outputEl) {{\n",
       "    x.observe(outputEl, {childList: true});\n",
       "}}\n",
       "\n",
       "                        })                };                });            </script>        </div>"
      ]
     },
     "metadata": {},
     "output_type": "display_data"
    }
   ],
   "source": [
    "# === Combined Plot: Harmful and Other Responses ===\n",
    "from plotly.subplots import make_subplots\n",
    "\n",
    "# Create subplot figure with 2 rows, 1 column\n",
    "fig_combined = make_subplots(\n",
    "    rows=2, cols=1,\n",
    "    subplot_titles=(\n",
    "        \"Harmful Responses Across Intervention Layer and Cap Combinations\",\n",
    "        \"Other Responses Across Intervention Layer and Cap Combinations\"\n",
    "    ),\n",
    "    vertical_spacing=0.12,\n",
    "    specs=[[{\"type\": \"bar\"}], [{\"type\": \"bar\"}]]\n",
    ")\n",
    "\n",
    "fig_combined.update_annotations(\n",
    "    font=dict(size=14),\n",
    ")\n",
    "\n",
    "# --- Add Harmful responses (row 1) ---\n",
    "for label, Y, C, T, color in [\n",
    "    (\"enough_info\", Y1, C1, T1, COLORS[\"enough_info\"]),\n",
    "    (\"enough_info_and_follow_perfectly\", Y2, C2, T2, COLORS[\"enough_info_and_follow_perfectly\"]),\n",
    "]:\n",
    "    fig_combined.add_trace(\n",
    "        go.Bar(\n",
    "            x=x_positions,\n",
    "            y=Y,\n",
    "            name=label_map[label],\n",
    "            legendgroup=\"harmful\",\n",
    "            marker_color=color,\n",
    "            width=BAR_WIDTH,\n",
    "            hovertemplate=(\n",
    "                \"Experiment: %{customdata[0]}<br>\" +\n",
    "                label_map[label] + \"<br>\"\n",
    "                \"Pct: %{y:.1f}%<br>\"\n",
    "                \"Count: %{customdata[1]} / %{customdata[2]}<extra></extra>\"\n",
    "            ),\n",
    "            customdata=np.column_stack([all_experiment_ids, C, T]),\n",
    "        ),\n",
    "        row=1, col=1\n",
    "    )\n",
    "\n",
    "# Add annotations for harmful responses\n",
    "tops_harmful = Y1 + Y2\n",
    "for i, exp_id in enumerate(all_experiment_ids):\n",
    "    if tops_harmful[i] > 0:\n",
    "        fig_combined.add_annotation(\n",
    "            x=x_positions[i], y=tops_harmful[i] + 3,\n",
    "            text=f\"{tops_harmful[i]:.1f}%\",\n",
    "            showarrow=False,\n",
    "            font=dict(size=9),\n",
    "            row=1, col=1\n",
    "        )\n",
    "        \n",
    "        if exp_id == \"unsteered_default\":\n",
    "            label_text = \"Default<br>Assistant\"\n",
    "        elif exp_id == \"unsteered_prompted\":\n",
    "            label_text = \"Jailbreak<br>Persona\"\n",
    "        else:\n",
    "            cap_type = exp_id.split(\"-\")[1]\n",
    "            label_text = CAP_NAMES.get(cap_type, cap_type)\n",
    "        \n",
    "        fig_combined.add_annotation(\n",
    "            x=x_positions[i], y=tops_harmful[i] + 10,\n",
    "            text=f\"<b>{label_text}</b>\",\n",
    "            showarrow=False,\n",
    "            font=dict(size=8),\n",
    "            row=1, col=1\n",
    "        )\n",
    "\n",
    "# --- Add Other responses (row 2) ---\n",
    "for lab in OTHER_LABELS:\n",
    "    Y = Y_map[lab]\n",
    "    C = C_map[lab]\n",
    "    T = T_map[lab]\n",
    "    \n",
    "    fig_combined.add_trace(\n",
    "        go.Bar(\n",
    "            x=x_positions,\n",
    "            y=Y,\n",
    "            name=other_label_map[lab],\n",
    "            legendgroup=\"other\",\n",
    "            marker_color=other_colors[lab],\n",
    "            width=BAR_WIDTH,\n",
    "            hovertemplate=(\n",
    "                \"Experiment: %{customdata[0]}<br>\" +\n",
    "                other_label_map[lab] + \"<br>\"\n",
    "                \"Pct: %{y:.1f}%<br>\"\n",
    "                \"Count: %{customdata[1]} / %{customdata[2]}<extra></extra>\"\n",
    "            ),\n",
    "            customdata=np.column_stack([all_experiment_ids, C, T]),\n",
    "        ),\n",
    "        row=2, col=1\n",
    "    )\n",
    "\n",
    "# Add annotations for other responses\n",
    "tops_other = sum(Y_map[lab] for lab in OTHER_LABELS)\n",
    "for i, exp_id in enumerate(all_experiment_ids):\n",
    "    if tops_other[i] > 0:\n",
    "        fig_combined.add_annotation(\n",
    "            x=x_positions[i], y=tops_other[i] + 3,\n",
    "            text=f\"{tops_other[i]:.1f}%\",\n",
    "            showarrow=False,\n",
    "            font=dict(size=9),\n",
    "            row=2, col=1\n",
    "        )\n",
    "        \n",
    "        if exp_id == \"unsteered_default\":\n",
    "            label_text = \"Default<br>Assistant\"\n",
    "        elif exp_id == \"unsteered_prompted\":\n",
    "            label_text = \"Jailbreak<br>Persona\"\n",
    "        else:\n",
    "            cap_type = exp_id.split(\"-\")[1]\n",
    "            label_text = CAP_NAMES.get(cap_type, cap_type)\n",
    "        \n",
    "        fig_combined.add_annotation(\n",
    "            x=x_positions[i], y=tops_other[i] + 10,\n",
    "            text=f\"<b>{label_text}</b>\",\n",
    "            showarrow=False,\n",
    "            font=dict(size=8),\n",
    "            row=2, col=1\n",
    "        )\n",
    "\n",
    "# Update layout\n",
    "baseline_center = (x_positions[0] + x_positions[1]) / 2\n",
    "group_centers = [baseline_center]\n",
    "for i in range(4):\n",
    "    start_idx = 2 + i*4\n",
    "    group_center = (x_positions[start_idx] + x_positions[start_idx + 3]) / 2\n",
    "    group_centers.append(group_center)\n",
    "\n",
    "group_labels = [\"Baseline\"] + [LAYER_GROUP_NAMES[lg] for lg in LAYER_GROUPS]\n",
    "\n",
    "fig_combined.update_xaxes(\n",
    "    title_text=\"Layers of Intervention\",\n",
    "    tickmode=\"array\",\n",
    "    tickvals=group_centers,\n",
    "    ticktext=group_labels,\n",
    "    showgrid=True,\n",
    "    gridcolor=\"lightgray\",\n",
    "    range=[-0.5, x_positions[-1] + 0.5],\n",
    "    row=2, col=1\n",
    ")\n",
    "\n",
    "fig_combined.update_xaxes(\n",
    "    tickmode=\"array\",\n",
    "    tickvals=group_centers,\n",
    "    ticktext=group_labels,\n",
    "    showgrid=True,\n",
    "    gridcolor=\"lightgray\",\n",
    "    range=[-0.5, x_positions[-1] + 0.5],\n",
    "    row=1, col=1\n",
    ")\n",
    "\n",
    "fig_combined.update_yaxes(\n",
    "    title_text=\"Percentage of Responses\",\n",
    "    range=[0, 119],\n",
    "    showgrid=True,\n",
    "    gridcolor=\"lightgray\",\n",
    "    row=1, col=1\n",
    ")\n",
    "\n",
    "fig_combined.update_yaxes(\n",
    "    title_text=\"Percentage of Responses\",\n",
    "    range=[0, 119],\n",
    "    showgrid=True,\n",
    "    gridcolor=\"lightgray\",\n",
    "    row=2, col=1\n",
    ")\n",
    "\n",
    "fig_combined.update_layout(\n",
    "    barmode=\"stack\",\n",
    "    width=1100,\n",
    "    height=1000,\n",
    "    title={\n",
    "        \"text\": \"Responses after Persona-based Jailbreak with Multi-Layer Projection Capping\",\n",
    "        \"subtitle\": {\"text\": subtitle},\n",
    "    },\n",
    "    legend=dict(\n",
    "        orientation=\"h\",\n",
    "        y=1.02,\n",
    "        x=1.09,\n",
    "        xanchor=\"right\",\n",
    "        yanchor=\"bottom\"\n",
    "    ),\n",
    "    bargap=0.01,\n",
    ")\n",
    "\n",
    "fig_combined.show()\n",
    "fig_combined.write_html(f\"{out_dir}/multi_contrast_layers.html\")"
   ]
  },
  {
   "cell_type": "code",
   "execution_count": null,
   "id": "7005941c",
   "metadata": {},
   "outputs": [],
   "source": []
  }
 ],
 "metadata": {
  "kernelspec": {
   "display_name": ".venv",
   "language": "python",
   "name": "python3"
  },
  "language_info": {
   "codemirror_mode": {
    "name": "ipython",
    "version": 3
   },
   "file_extension": ".py",
   "mimetype": "text/x-python",
   "name": "python",
   "nbconvert_exporter": "python",
   "pygments_lexer": "ipython3",
   "version": "3.13.5"
  }
 },
 "nbformat": 4,
 "nbformat_minor": 5
}
