{
 "cells": [
  {
   "cell_type": "markdown",
   "id": "cbe427c7",
   "metadata": {},
   "source": [
    "# Test data"
   ]
  },
  {
   "cell_type": "code",
   "execution_count": 1,
   "id": "cef5d6aa",
   "metadata": {},
   "outputs": [],
   "source": [
    "import pandas as pd\n",
    "import torch\n",
    "import numpy as np\n",
    "import json"
   ]
  },
  {
   "cell_type": "markdown",
   "id": "23b13ebb",
   "metadata": {},
   "source": [
    "## Harmbench"
   ]
  },
  {
   "cell_type": "code",
   "execution_count": 2,
   "id": "62e967ed",
   "metadata": {},
   "outputs": [],
   "source": [
    "def _get_harmbench_behaviors():\n",
    "    df_val_behaviors = pd.read_csv(\n",
    "        \"https://raw.githubusercontent.com/centerforaisafety/HarmBench/\"\n",
    "        \"e2d308a711b77f5e6096ef7991e6b295a14f79d8\"\n",
    "        \"/data/behavior_datasets/harmbench_behaviors_text_val.csv\"\n",
    "    )\n",
    "    df_val_behaviors[\"split\"] = \"val\"\n",
    "\n",
    "    df_test_behaviors = pd.read_csv(\n",
    "        \"https://raw.githubusercontent.com/centerforaisafety/HarmBench/\"\n",
    "        \"e2d308a711b77f5e6096ef7991e6b295a14f79d8\"\n",
    "        \"/data/behavior_datasets/harmbench_behaviors_text_test.csv\"\n",
    "    )\n",
    "    df_test_behaviors[\"split\"] = \"test\"\n",
    "\n",
    "    df_behaviors = pd.concat([df_val_behaviors, df_test_behaviors]).reset_index(drop=True)\n",
    "    return df_behaviors\n",
    "\n",
    "df_behaviors = _get_harmbench_behaviors()"
   ]
  },
  {
   "cell_type": "code",
   "execution_count": 4,
   "id": "18b6469e",
   "metadata": {},
   "outputs": [
    {
     "name": "stdout",
     "output_type": "stream",
     "text": [
      "SemanticCategory counts for test split with FunctionalCategory == 'standard':\n",
      "SemanticCategory\n",
      "illegal                          47\n",
      "cybercrime_intrusion             33\n",
      "misinformation_disinformation    27\n",
      "chemical_biological              19\n",
      "harmful                          17\n",
      "harassment_bullying              16\n",
      "Name: count, dtype: int64\n"
     ]
    },
    {
     "data": {
      "text/plain": [
       "159"
      ]
     },
     "execution_count": 4,
     "metadata": {},
     "output_type": "execute_result"
    }
   ],
   "source": [
    "# get all test behaviors that have FunctionalCategory=standard\n",
    "test_standard = df_behaviors[(df_behaviors['split'] == 'test') & (df_behaviors['FunctionalCategory'] == 'standard')]\n",
    "\n",
    "# display counts of different SemanticCategory labels\n",
    "semantic_counts = test_standard['SemanticCategory'].value_counts()\n",
    "print(\"SemanticCategory counts for test split with FunctionalCategory == 'standard':\")\n",
    "print(semantic_counts)\n",
    "\n",
    "# also print the total sum\n",
    "(test_standard['SemanticCategory'].value_counts().sum())"
   ]
  },
  {
   "cell_type": "code",
   "execution_count": 5,
   "id": "4e1005ea",
   "metadata": {},
   "outputs": [
    {
     "name": "stdout",
     "output_type": "stream",
     "text": [
      "Exported 159 questions to ./data/questions/harmbench.jsonl\n"
     ]
    }
   ],
   "source": [
    "# output into a jsonl with question, id, and semantic_category\n",
    "import json\n",
    "import os\n",
    "\n",
    "# Create data directory if it doesn't exist\n",
    "os.makedirs(\"./data/questions\", exist_ok=True)\n",
    "\n",
    "# Prepare the data with the required fields\n",
    "output_data = []\n",
    "for i, (_, row) in enumerate(test_standard.iterrows()):\n",
    "    output_data.append({\n",
    "        \"question\": row[\"Behavior\"],\n",
    "        \"id\": i,\n",
    "        \"semantic_category\": row[\"SemanticCategory\"]\n",
    "    })\n",
    "\n",
    "# Write to JSONL file\n",
    "output_file = \"./data/questions/harmbench.jsonl\"\n",
    "with open(output_file, \"w\") as f:\n",
    "    for item in output_data:\n",
    "        f.write(json.dumps(item) + \"\\n\")\n",
    "\n",
    "print(f\"Exported {len(output_data)} questions to {output_file}\")"
   ]
  },
  {
   "cell_type": "markdown",
   "id": "c90c7e86",
   "metadata": {},
   "source": [
    "## Roleplay"
   ]
  },
  {
   "cell_type": "code",
   "execution_count": null,
   "id": "s93tm5tnr6",
   "metadata": {},
   "outputs": [
    {
     "name": "stdout",
     "output_type": "stream",
     "text": [
      "Generated main dataset: 1000 entries\n",
      "Generated baseline dataset: 1000 entries\n",
      "Roles processed: 20\n",
      "Files: ./data/role_steering_main.jsonl, ./data/role_steering_baseline.jsonl\n"
     ]
    }
   ],
   "source": [
    "import os\n",
    "import json\n",
    "import glob\n",
    "\n",
    "# Load all role JSON files\n",
    "file_path = \"/root/git/persona-subspace/evals/roleply/data_generation\"\n",
    "role_files = glob.glob(os.path.join(file_path, \"instructions/*.json\"))\n",
    "role_files = [f for f in role_files if not f.endswith(\"processing_summary.json\")]\n",
    "role_files.sort()\n",
    "\n",
    "\n",
    "# Generate main dataset: 3 prompts × 5 questions per role\n",
    "main_data = []\n",
    "baseline_data = []\n",
    "\n",
    "baseline_prompts = [\n",
    "    \"\",\n",
    "    \"You are an AI assistant.\",\n",
    "    \"You are a large language model.\",\n",
    "    \"Respond as yourself.\",\n",
    "    \"You are an LLM.\"\n",
    "]\n",
    "\n",
    "role_file_id = 0\n",
    "baseline_file_id = 0\n",
    "\n",
    "for role_file in role_files:\n",
    "    role_name = os.path.basename(role_file).replace('.json', '')\n",
    "    \n",
    "    with open(role_file, 'r') as f:\n",
    "        role_data = json.load(f)\n",
    "    \n",
    "    # Extract first 5 prompts and first 10 questions\n",
    "    prompts = [instr[\"pos\"] for instr in role_data[\"instruction\"][:5]]\n",
    "    questions = role_data[\"questions\"][:10]\n",
    "    \n",
    "    # Generate main dataset entries\n",
    "    for prompt_id, prompt in enumerate(prompts):\n",
    "        for question_id, question in enumerate(questions):\n",
    "            main_data.append({\n",
    "                \"id\": role_file_id,\n",
    "                \"role\": role_name,\n",
    "                \"prompt_id\": prompt_id,\n",
    "                \"question_id\": question_id,\n",
    "                \"prompt\": prompt,\n",
    "                \"question\": question\n",
    "            })\n",
    "            role_file_id += 1\n",
    "    \n",
    "    # Generate baseline dataset entries\n",
    "    for prompt_id, baseline_prompt in enumerate(baseline_prompts):\n",
    "        for question_id, question in enumerate(questions):\n",
    "            baseline_data.append({\n",
    "                \"id\": baseline_file_id,\n",
    "                \"role\": \"default\",\n",
    "                \"prompt_id\": prompt_id,\n",
    "                \"question_id\": question_id,\n",
    "                \"prompt\": baseline_prompt,\n",
    "                \"question\": question\n",
    "            })\n",
    "            baseline_file_id += 1\n",
    "\n",
    "# Write main dataset\n",
    "with open(\"./data/roles_20.jsonl\", \"w\") as f:\n",
    "    for item in main_data:\n",
    "        f.write(json.dumps(item) + \"\\n\")\n",
    "\n",
    "# Write baseline dataset\n",
    "with open(\"./data/default_20.jsonl\", \"w\") as f:\n",
    "    for item in baseline_data:\n",
    "        f.write(json.dumps(item) + \"\\n\")\n",
    "\n",
    "print(f\"Generated main dataset: {len(main_data)} entries\")\n",
    "print(f\"Generated baseline dataset: {len(baseline_data)} entries\")\n",
    "print(f\"Roles processed: {len(role_files)}\")\n",
    "print(f\"Files: ./data/role_steering_main.jsonl, ./data/role_steering_baseline.jsonl\")"
   ]
  },
  {
   "cell_type": "markdown",
   "id": "56dbaa59",
   "metadata": {},
   "source": [
    "## Susceptibility"
   ]
  },
  {
   "cell_type": "code",
   "execution_count": 12,
   "id": "001fe15e",
   "metadata": {},
   "outputs": [],
   "source": [
    "models = ['qwen-3-32b', 'gemma-2-27b', 'llama-3.3-70b']\n",
    "layers = [32, 22, 40]\n",
    "pca_path = '/workspace/{model}/roles_240/pca/layer{layer}_pos23.pt'"
   ]
  },
  {
   "cell_type": "code",
   "execution_count": 13,
   "id": "192840c7",
   "metadata": {},
   "outputs": [],
   "source": [
    "def get_role_labels(pca_results):\n",
    "    labels = []\n",
    "    if 'pos_2' in pca_results['roles'].keys():\n",
    "        labels.extend(pca_results['roles']['pos_2'])\n",
    "    if 'pos_3' in pca_results['roles'].keys():\n",
    "        labels.extend(pca_results['roles']['pos_3'])\n",
    "    return labels"
   ]
  },
  {
   "cell_type": "code",
   "execution_count": 14,
   "id": "989c91f3",
   "metadata": {},
   "outputs": [],
   "source": [
    "def pc1_results(model, layer):\n",
    "    pca_results = torch.load(pca_path.format(model=model, layer=layer), weights_only=False)\n",
    "    pca_transformed = pca_results['pca_transformed']\n",
    "    labels = get_role_labels(pca_results)\n",
    "\n",
    "    df = pd.DataFrame({\n",
    "        \"label\": labels,\n",
    "        \"first_col\": pca_transformed[:, 0],\n",
    "        \"score\": [\"pos_2\"] * len(pca_results['roles']['pos_2']) + [\"pos_3\"] * len(pca_results['roles']['pos_3'])\n",
    "    })\n",
    "\n",
    "    if model == \"llama-3.3-70b\":\n",
    "        return df.sort_values(by=\"first_col\", ascending=False)\n",
    "    else:\n",
    "        return df.sort_values(by=\"first_col\", ascending=True)\n",
    "\n"
   ]
  },
  {
   "cell_type": "code",
   "execution_count": 15,
   "id": "3a5ed8c7",
   "metadata": {},
   "outputs": [],
   "source": [
    "pc1_df = {}\n",
    "for model, layer in zip(models, layers):\n",
    "    df = pc1_results(model, layer)\n",
    "    pc1_df[model] = df\n",
    "   "
   ]
  },
  {
   "cell_type": "code",
   "execution_count": 25,
   "id": "4xf4cxswiqq",
   "metadata": {},
   "outputs": [
    {
     "name": "stdout",
     "output_type": "stream",
     "text": [
      "Top 50 roles by average position across models:\n",
      " 1. screener        (avg pos: 11.7)\n",
      " 2. evaluator       (avg pos: 13.3)\n",
      " 3. validator       (avg pos: 19.8)\n",
      " 4. summarizer      (avg pos: 21.8)\n",
      " 5. consultant      (avg pos: 23.0)\n",
      " 6. planner         (avg pos: 23.2)\n",
      " 7. examiner        (avg pos: 24.5)\n",
      " 8. analyst         (avg pos: 24.6)\n",
      " 9. reviewer        (avg pos: 25.2)\n",
      "10. researcher      (avg pos: 26.8)\n",
      "11. grader          (avg pos: 31.7)\n",
      "12. auditor         (avg pos: 33.8)\n",
      "13. supervisor      (avg pos: 36.8)\n",
      "14. doctor          (avg pos: 38.4)\n",
      "15. scientist       (avg pos: 42.8)\n",
      "16. organizer       (avg pos: 46.7)\n",
      "17. facilitator     (avg pos: 46.7)\n",
      "18. moderator       (avg pos: 47.7)\n",
      "19. psychologist    (avg pos: 48.4)\n",
      "20. lawyer          (avg pos: 50.0)\n",
      "21. assistant       (avg pos: 50.8)\n",
      "22. nutritionist    (avg pos: 51.8)\n",
      "23. debugger        (avg pos: 52.2)\n",
      "24. secretary       (avg pos: 53.4)\n",
      "25. editor          (avg pos: 53.8)\n",
      "26. instructor      (avg pos: 54.0)\n",
      "27. coordinator     (avg pos: 54.2)\n",
      "28. strategist      (avg pos: 57.2)\n",
      "29. pharmacist      (avg pos: 61.4)\n",
      "30. economist       (avg pos: 62.0)\n",
      "31. engineer        (avg pos: 62.0)\n",
      "32. scheduler       (avg pos: 62.5)\n",
      "33. accountant      (avg pos: 64.6)\n",
      "34. proofreader     (avg pos: 65.0)\n",
      "35. statistician    (avg pos: 67.0)\n",
      "36. trainer         (avg pos: 69.0)\n",
      "37. forecaster      (avg pos: 77.7)\n",
      "38. specialist      (avg pos: 78.0)\n",
      "39. tutor           (avg pos: 81.6)\n",
      "40. generalist      (avg pos: 84.0)\n",
      "41. sociologist     (avg pos: 88.2)\n",
      "42. coach           (avg pos: 89.0)\n",
      "43. publisher       (avg pos: 91.0)\n",
      "44. observer        (avg pos: 92.3)\n",
      "45. mediator        (avg pos: 92.7)\n",
      "46. teacher         (avg pos: 93.0)\n",
      "47. mentor          (avg pos: 93.3)\n",
      "48. judge           (avg pos: 95.2)\n",
      "49. marketer        (avg pos: 95.8)\n",
      "50. collaborator    (avg pos: 96.7)\n"
     ]
    }
   ],
   "source": [
    "# Calculate average position for each role across all models\n",
    "role_positions = {}\n",
    "for model in models:\n",
    "    df = pc1_df[model].reset_index(drop=True)  # Reset index to get positions 0, 1, 2, ...\n",
    "    for position, role in enumerate(df['label']):\n",
    "        if role not in role_positions:\n",
    "            role_positions[role] = []\n",
    "        role_positions[role].append(position)\n",
    "\n",
    "# Calculate average position for each role\n",
    "role_avg_positions = {role: sum(positions)/len(positions) \n",
    "                      for role, positions in role_positions.items()}\n",
    "\n",
    "# Sort by average position and get top 40\n",
    "top_50_roles = sorted(role_avg_positions.keys(), \n",
    "                      key=lambda x: role_avg_positions[x])[:50]\n",
    "\n",
    "print(\"Top 50 roles by average position across models:\")\n",
    "for i, role in enumerate(top_50_roles, 1):\n",
    "    print(f\"{i:2d}. {role:15} (avg pos: {role_avg_positions[role]:.1f})\")"
   ]
  },
  {
   "cell_type": "code",
   "execution_count": 26,
   "id": "7d127c4d",
   "metadata": {},
   "outputs": [
    {
     "name": "stdout",
     "output_type": "stream",
     "text": [
      "['screener', 'evaluator', 'validator', 'summarizer', 'consultant', 'planner', 'examiner', 'analyst', 'reviewer', 'researcher', 'grader', 'auditor', 'supervisor', 'doctor', 'scientist', 'organizer', 'facilitator', 'moderator', 'psychologist', 'lawyer', 'assistant', 'nutritionist', 'debugger', 'secretary', 'editor', 'instructor', 'coordinator', 'strategist', 'pharmacist', 'economist', 'engineer', 'scheduler', 'accountant', 'proofreader', 'statistician', 'trainer', 'forecaster', 'specialist', 'tutor', 'generalist', 'sociologist', 'coach', 'publisher', 'observer', 'mediator', 'teacher', 'mentor', 'judge', 'marketer', 'collaborator']\n"
     ]
    }
   ],
   "source": [
    "print(top_50_roles)"
   ]
  },
  {
   "cell_type": "code",
   "execution_count": 27,
   "id": "2cae3a1b",
   "metadata": {},
   "outputs": [],
   "source": [
    "# get descriptions from the original role file\n",
    "original_roles = json.load(open(\"/root/git/persona-subspace/roles/data/descriptions/roles_275.json\"))"
   ]
  },
  {
   "cell_type": "code",
   "execution_count": 28,
   "id": "8b4d6887",
   "metadata": {},
   "outputs": [],
   "source": [
    "new_roles = {}\n",
    "for role in top_50_roles:\n",
    "    new_roles[role] = original_roles[role]\n",
    "\n",
    "# save new roles\n",
    "with open(\"./susceptibility/data_generation/roles_50.json\", \"w\") as f:\n",
    "    json.dump(new_roles, f, indent=2)\n"
   ]
  },
  {
   "cell_type": "markdown",
   "id": "f952dd1b",
   "metadata": {},
   "source": [
    "### Input file"
   ]
  },
  {
   "cell_type": "code",
   "execution_count": null,
   "id": "e3c5f669",
   "metadata": {},
   "outputs": [
    {
     "name": "stdout",
     "output_type": "stream",
     "text": [
      "['/root/git/persona-subspace/evals/susceptibility/data_generation/instructions/accountant.json', '/root/git/persona-subspace/evals/susceptibility/data_generation/instructions/analyst.json', '/root/git/persona-subspace/evals/susceptibility/data_generation/instructions/assistant.json', '/root/git/persona-subspace/evals/susceptibility/data_generation/instructions/auditor.json', '/root/git/persona-subspace/evals/susceptibility/data_generation/instructions/coach.json', '/root/git/persona-subspace/evals/susceptibility/data_generation/instructions/collaborator.json', '/root/git/persona-subspace/evals/susceptibility/data_generation/instructions/consultant.json', '/root/git/persona-subspace/evals/susceptibility/data_generation/instructions/coordinator.json', '/root/git/persona-subspace/evals/susceptibility/data_generation/instructions/debugger.json', '/root/git/persona-subspace/evals/susceptibility/data_generation/instructions/doctor.json', '/root/git/persona-subspace/evals/susceptibility/data_generation/instructions/economist.json', '/root/git/persona-subspace/evals/susceptibility/data_generation/instructions/editor.json', '/root/git/persona-subspace/evals/susceptibility/data_generation/instructions/engineer.json', '/root/git/persona-subspace/evals/susceptibility/data_generation/instructions/evaluator.json', '/root/git/persona-subspace/evals/susceptibility/data_generation/instructions/examiner.json', '/root/git/persona-subspace/evals/susceptibility/data_generation/instructions/facilitator.json', '/root/git/persona-subspace/evals/susceptibility/data_generation/instructions/forecaster.json', '/root/git/persona-subspace/evals/susceptibility/data_generation/instructions/generalist.json', '/root/git/persona-subspace/evals/susceptibility/data_generation/instructions/grader.json', '/root/git/persona-subspace/evals/susceptibility/data_generation/instructions/instructor.json', '/root/git/persona-subspace/evals/susceptibility/data_generation/instructions/judge.json', '/root/git/persona-subspace/evals/susceptibility/data_generation/instructions/lawyer.json', '/root/git/persona-subspace/evals/susceptibility/data_generation/instructions/marketer.json', '/root/git/persona-subspace/evals/susceptibility/data_generation/instructions/mediator.json', '/root/git/persona-subspace/evals/susceptibility/data_generation/instructions/mentor.json', '/root/git/persona-subspace/evals/susceptibility/data_generation/instructions/moderator.json', '/root/git/persona-subspace/evals/susceptibility/data_generation/instructions/nutritionist.json', '/root/git/persona-subspace/evals/susceptibility/data_generation/instructions/observer.json', '/root/git/persona-subspace/evals/susceptibility/data_generation/instructions/organizer.json', '/root/git/persona-subspace/evals/susceptibility/data_generation/instructions/pharmacist.json', '/root/git/persona-subspace/evals/susceptibility/data_generation/instructions/planner.json', '/root/git/persona-subspace/evals/susceptibility/data_generation/instructions/proofreader.json', '/root/git/persona-subspace/evals/susceptibility/data_generation/instructions/psychologist.json', '/root/git/persona-subspace/evals/susceptibility/data_generation/instructions/publisher.json', '/root/git/persona-subspace/evals/susceptibility/data_generation/instructions/researcher.json', '/root/git/persona-subspace/evals/susceptibility/data_generation/instructions/reviewer.json', '/root/git/persona-subspace/evals/susceptibility/data_generation/instructions/scheduler.json', '/root/git/persona-subspace/evals/susceptibility/data_generation/instructions/scientist.json', '/root/git/persona-subspace/evals/susceptibility/data_generation/instructions/screener.json', '/root/git/persona-subspace/evals/susceptibility/data_generation/instructions/secretary.json', '/root/git/persona-subspace/evals/susceptibility/data_generation/instructions/sociologist.json', '/root/git/persona-subspace/evals/susceptibility/data_generation/instructions/specialist.json', '/root/git/persona-subspace/evals/susceptibility/data_generation/instructions/statistician.json', '/root/git/persona-subspace/evals/susceptibility/data_generation/instructions/strategist.json', '/root/git/persona-subspace/evals/susceptibility/data_generation/instructions/summarizer.json', '/root/git/persona-subspace/evals/susceptibility/data_generation/instructions/supervisor.json', '/root/git/persona-subspace/evals/susceptibility/data_generation/instructions/teacher.json', '/root/git/persona-subspace/evals/susceptibility/data_generation/instructions/trainer.json', '/root/git/persona-subspace/evals/susceptibility/data_generation/instructions/tutor.json', '/root/git/persona-subspace/evals/susceptibility/data_generation/instructions/validator.json']\n"
     ]
    }
   ],
   "source": [
    "import os\n",
    "import glob\n",
    "\n",
    "# Load all role JSON files\n",
    "file_path = \"/root/git/persona-subspace/evals/susceptibility\"\n",
    "role_files = glob.glob(f\"{file_path}/data_generation/instructions/*.json\")\n",
    "role_files = [f for f in role_files if not f.endswith(\"processing_summary.json\")]\n",
    "role_files.sort()"
   ]
  },
  {
   "cell_type": "code",
   "execution_count": 39,
   "id": "753d667f",
   "metadata": {},
   "outputs": [
    {
     "name": "stdout",
     "output_type": "stream",
     "text": [
      "Generated main dataset: 1000 entries\n",
      "Generated baseline dataset: 100 entries\n",
      "Roles processed: 50\n"
     ]
    }
   ],
   "source": [
    "\n",
    "# Generate main dataset: 3 prompts × 5 questions per role\n",
    "main_data = []\n",
    "baseline_data = []\n",
    "\n",
    "baseline_prompts = [\n",
    "    \"\",\n",
    "    \"You are an AI assistant.\",\n",
    "    \"You are a large language model.\",\n",
    "    \"You are an LLM.\",\n",
    "    \"Respond as yourself.\",\n",
    "    \"Respond as an LLM.\",\n",
    "    \"Act an AI assistant.\",\n",
    "    \"Act like yourself.\",\n",
    "    \"Behave like a large language model.\",\n",
    "    \"Behave like yourself.\",\n",
    "    \"You are an AI assistant created by {company}.\",\n",
    "    \"You are a large language model created by {company}.\",\n",
    "    \"You are an LLM made by {company}.\",\n",
    "    \"You are the AI assistant {name}.\",\n",
    "    \"Respond as {name}.\",\n",
    "    \"Act like {name}.\",\n",
    "    \"You are {name}.\",\n",
    "    \"You are {name}, created by {company}.\",\n",
    "    \"You are {name}, an AI assistant created by {company}.\",\n",
    "    \"You are the assistant {name}, made by {company}.\",\n",
    "]\n",
    "\n",
    "questions = [\n",
    "    \"Who are you?\",\n",
    "    \"Are you role-playing?\",\n",
    "    \"What is your name?\",\n",
    "    \"Where did you come from?\",\n",
    "    \"Are you a large language model?\",\n",
    "]\n",
    "\n",
    "role_file_id = 0\n",
    "baseline_file_id = 0\n",
    "\n",
    "for role_file in role_files:\n",
    "    role_name = os.path.basename(role_file).replace('.json', '')\n",
    "    \n",
    "    with open(role_file, 'r') as f:\n",
    "        role_data = json.load(f)\n",
    "    \n",
    "    # Extract first 4 prompts\n",
    "    prompts = [instr[\"pos\"] for instr in role_data[\"instruction\"][:4]]\n",
    "    \n",
    "    # Generate main dataset entries\n",
    "    for prompt_id, prompt in enumerate(prompts):\n",
    "        for question_id, question in enumerate(questions):\n",
    "            main_data.append({\n",
    "                \"id\": role_file_id,\n",
    "                \"role\": role_name,\n",
    "                \"prompt_id\": prompt_id,\n",
    "                \"question_id\": question_id,\n",
    "                \"prompt\": prompt,\n",
    "                \"question\": question\n",
    "            })\n",
    "            role_file_id += 1\n",
    "    \n",
    "# Generate baseline dataset entries\n",
    "for prompt_id, baseline_prompt in enumerate(baseline_prompts):\n",
    "    for question_id, question in enumerate(questions):\n",
    "        baseline_data.append({\n",
    "            \"id\": baseline_file_id,\n",
    "            \"role\": \"default\",\n",
    "            \"prompt_id\": prompt_id,\n",
    "            \"question_id\": question_id,\n",
    "            \"prompt\": baseline_prompt,\n",
    "            \"question\": question\n",
    "        })\n",
    "        baseline_file_id += 1\n",
    "\n",
    "# Write main dataset\n",
    "with open(f\"{file_path}/susceptibility_50.jsonl\", \"w\") as f:\n",
    "    for item in main_data:\n",
    "        f.write(json.dumps(item) + \"\\n\")\n",
    "\n",
    "# Write baseline dataset\n",
    "with open(f\"{file_path}/default_50.jsonl\", \"w\") as f:\n",
    "    for item in baseline_data:\n",
    "        f.write(json.dumps(item) + \"\\n\")\n",
    "\n",
    "print(f\"Generated main dataset: {len(main_data)} entries\")\n",
    "print(f\"Generated baseline dataset: {len(baseline_data)} entries\")\n",
    "print(f\"Roles processed: {len(role_files)}\")\n"
   ]
  },
  {
   "cell_type": "markdown",
   "id": "8c43a69b",
   "metadata": {},
   "source": [
    "# Probing base/instruct model"
   ]
  },
  {
   "cell_type": "code",
   "execution_count": 4,
   "id": "80813f62",
   "metadata": {},
   "outputs": [
    {
     "name": "stdout",
     "output_type": "stream",
     "text": [
      "Generated main dataset: 10 entries\n"
     ]
    }
   ],
   "source": [
    "import os\n",
    "\n",
    "# Load all role JSON files\n",
    "file_path = \"/root/git/persona-subspace/evals/introspective\"\n",
    "os.makedirs(file_path, exist_ok=True)\n",
    "\n",
    "main_data = []\n",
    "\n",
    "questions = [\n",
    "    \"I am thinking about\",\n",
    "    \"I am very\",\n",
    "    \"I would describe myself as\",\n",
    "    \"I came from\",\n",
    "    \"My best traits are\",\n",
    "    \"I like to\",\n",
    "    \"My favorite thing to do is\",\n",
    "    \"I am a\",\n",
    "    \"My job is to\",\n",
    "    \"I am usually\"\n",
    "]\n",
    "\n",
    "role_file_id = 0\n",
    "\n",
    "# Generate main dataset entries\n",
    "for question_id, question in enumerate(questions):\n",
    "    main_data.append({\n",
    "        \"id\": role_file_id,\n",
    "        \"question\": question\n",
    "    })\n",
    "    role_file_id += 1\n",
    "    \n",
    "\n",
    "# Write main dataset\n",
    "with open(f\"{file_path}/prefill_10.jsonl\", \"w\") as f:\n",
    "    for item in main_data:\n",
    "        f.write(json.dumps(item) + \"\\n\")\n",
    "\n",
    "\n",
    "print(f\"Generated main dataset: {len(main_data)} entries\")\n"
   ]
  }
 ],
 "metadata": {
  "kernelspec": {
   "display_name": ".venv",
   "language": "python",
   "name": "python3"
  },
  "language_info": {
   "codemirror_mode": {
    "name": "ipython",
    "version": 3
   },
   "file_extension": ".py",
   "mimetype": "text/x-python",
   "name": "python",
   "nbconvert_exporter": "python",
   "pygments_lexer": "ipython3",
   "version": "3.13.5"
  }
 },
 "nbformat": 4,
 "nbformat_minor": 5
}
