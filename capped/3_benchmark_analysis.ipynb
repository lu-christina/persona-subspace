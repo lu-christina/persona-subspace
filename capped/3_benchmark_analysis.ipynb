{
 "cells": [
  {
   "cell_type": "markdown",
   "id": "3f397123",
   "metadata": {},
   "source": [
    "# Benchmark analysis"
   ]
  },
  {
   "cell_type": "code",
   "execution_count": 2,
   "id": "e7632800",
   "metadata": {},
   "outputs": [],
   "source": [
    "import json\n",
    "import os\n",
    "import pandas as pd\n",
    "import numpy as np\n",
    "from collections import defaultdict\n",
    "\n",
    "import plotly.graph_objects as go\n",
    "\n",
    "# Import shared plotting utilities\n",
    "from plots import (\n",
    "    parse_experiment_id, parse_layer_sort_key, cap_sort_key,\n",
    "    format_layer_range, format_cap_label,\n",
    "    CONFIG_COLORS, CONFIG_DISPLAY_NAMES, CONFIG_ORDER\n",
    ")"
   ]
  },
  {
   "cell_type": "code",
   "execution_count": 3,
   "id": "7f0a753a",
   "metadata": {},
   "outputs": [
    {
     "name": "stdout",
     "output_type": "stream",
     "text": [
      "Configuration loaded\n"
     ]
    }
   ],
   "source": [
    "model = \"llama-3.3-70b\"\n",
    "total_layers = 80\n",
    "subtitle = f\"{model.replace('-', ' ').title()}, Single-Shot & No Thinking\"\n",
    "base_dir = f\"/workspace/{model}/capped\"\n",
    "out_dir = f\"/root/git/plots/{model}/capped/results/benchmarks\"\n",
    "\n",
    "os.makedirs(out_dir, exist_ok=True)\n",
    "\n",
    "config_names = [\"baseline\", \"role_trait\", \"jailbreak\", \"lmsys_10000\"]\n",
    "\n",
    "# Eval-specific configurations\n",
    "EVAL_CONFIGS = {\n",
    "    'ifeval': {\n",
    "        'metrics': [\n",
    "            {\n",
    "                'name': 'prompt_level_strict_acc,none',\n",
    "                'label': 'Prompt-level Accuracy',\n",
    "                'stderr': 'prompt_level_strict_acc_stderr,none'\n",
    "            },\n",
    "            {\n",
    "                'name': 'inst_level_strict_acc,none',\n",
    "                'label': 'Instruction-level Accuracy',\n",
    "                'stderr': None\n",
    "            }\n",
    "        ],\n",
    "        'y_range': [0, 0.8]\n",
    "    },\n",
    "    'mmlu_pro': {\n",
    "        'metrics': [\n",
    "            {\n",
    "                'name': 'exact_match,custom-extract',\n",
    "                'label': 'Multiple Choice Exact Match Accuracy',\n",
    "                'stderr': 'exact_match_stderr,custom-extract'\n",
    "            }\n",
    "        ],\n",
    "        'y_range': [0, 0.8]\n",
    "    },\n",
    "    'eq_bench': {\n",
    "        'metrics': [\n",
    "            {\n",
    "                'name': 'eqbench,none',\n",
    "                'label': 'EQ-Bench Score (Higher is Better)',\n",
    "                'stderr': 'eqbench_stderr,none'\n",
    "            }\n",
    "        ],\n",
    "        'y_range': [0, 100]\n",
    "    },\n",
    "    'gsm8k': {\n",
    "        'metrics': [\n",
    "            {\n",
    "                'name': 'exact_match,flexible-extract',\n",
    "                'label': 'GSM8K Exact Match Accuracy',\n",
    "                'stderr': 'exact_match_stderr,flexible-extract'\n",
    "            }\n",
    "        ],\n",
    "        'y_range': [0, 1]\n",
    "    }\n",
    "}\n",
    "\n",
    "print(\"Configuration loaded\")"
   ]
  },
  {
   "cell_type": "code",
   "execution_count": 4,
   "id": "as7hr1682a",
   "metadata": {},
   "outputs": [
    {
     "name": "stdout",
     "output_type": "stream",
     "text": [
      "Data loading function defined\n"
     ]
    }
   ],
   "source": [
    "def load_experiment_data(tasks, config_names, base_dir):\n",
    "    \"\"\"\n",
    "    Load experiment data for specified tasks and configs.\n",
    "\n",
    "    Args:\n",
    "        tasks: List of task names (e.g., ['ifeval', 'mmlu_pro', 'eq_bench'])\n",
    "        config_names: List of config names (e.g., ['baseline', 'role_trait', 'jailbreak'])\n",
    "        base_dir: Base directory containing benchmarks folder\n",
    "\n",
    "    Returns:\n",
    "        DataFrame with columns: task_name, config_name, experiment_id, run_dir,\n",
    "                               thinking, apply_chat_template, and all metrics from results\n",
    "    \"\"\"\n",
    "    all_rows = []\n",
    "    bench_dir = f\"{base_dir}/benchmarks\"\n",
    "\n",
    "    for task in tasks:\n",
    "        task_dir = f\"{bench_dir}/{task}\"\n",
    "\n",
    "        if not os.path.exists(task_dir):\n",
    "            print(f\"Warning: Task directory not found: {task_dir}\")\n",
    "            continue\n",
    "\n",
    "        for config_name in config_names:\n",
    "            config_dir = f\"{task_dir}/{config_name}\"\n",
    "\n",
    "            if not os.path.exists(config_dir):\n",
    "                print(f\"Warning: Config directory not found: {config_dir}\")\n",
    "                continue\n",
    "\n",
    "            if config_name == \"baseline\":\n",
    "                # Baseline: iterate through all timestamped runs directly\n",
    "                run_dirs = [d for d in os.listdir(config_dir) if d.startswith(\"2025-\")]\n",
    "\n",
    "                for run_dir in sorted(run_dirs):\n",
    "                    results_path = os.path.join(config_dir, run_dir, \"results.json\")\n",
    "                    manifest_path = os.path.join(config_dir, run_dir, \"manifest.json\")\n",
    "\n",
    "                    if os.path.exists(results_path):\n",
    "                        with open(results_path, \"r\") as f:\n",
    "                            data = json.load(f)\n",
    "\n",
    "                        # Load manifest for thinking and apply_chat_template\n",
    "                        thinking = False\n",
    "                        apply_chat_template = False\n",
    "                        vllm = False\n",
    "                        max_gen_toks = None\n",
    "                        dtype = None\n",
    "                        if os.path.exists(manifest_path):\n",
    "                            with open(manifest_path, \"r\") as f:\n",
    "                                manifest = json.load(f)\n",
    "                                thinking = manifest.get(\"thinking\", None)\n",
    "                                if thinking is None:\n",
    "                                    thinking = False\n",
    "                                apply_chat_template = manifest.get(\"apply_chat_template\", False)\n",
    "                                vllm = manifest.get(\"vllm\", False)\n",
    "                                max_gen_toks = manifest.get(\"max_gen_toks\", None)\n",
    "                                dtype = manifest.get(\"dtype\", None)\n",
    "                                if dtype is None:\n",
    "                                    dtype = manifest.get(\"torch_dtype\", None)\n",
    "                        # Get the task results\n",
    "                        if \"results\" in data and task in data[\"results\"]:\n",
    "                            row = {\n",
    "                                \"task_name\": task,\n",
    "                                \"config_name\": config_name,\n",
    "                                \"experiment_id\": \"baseline\",\n",
    "                                \"run_dir\": run_dir,\n",
    "                                \"thinking\": thinking,\n",
    "                                \"apply_chat_template\": apply_chat_template,\n",
    "                                \"vllm\": vllm,\n",
    "                                \"max_gen_toks\": max_gen_toks,\n",
    "                                \"dtype\": dtype\n",
    "                            }\n",
    "                            # Add all metrics from the task results\n",
    "                            row.update(data[\"results\"][task])\n",
    "                            \n",
    "                            # Drop alias field if present\n",
    "                            row.pop(\"alias\", None)\n",
    "\n",
    "                            # For MMLU Pro, also add category-level metrics\n",
    "                            if task == \"mmlu_pro\":\n",
    "                                for key, val in data[\"results\"].items():\n",
    "                                    if key.startswith(\"mmlu_pro_\") and isinstance(val, dict):\n",
    "                                        category = key.replace(\"mmlu_pro_\", \"\")\n",
    "                                        row[f\"{category}_acc\"] = val.get(\"exact_match,custom-extract\", None)\n",
    "                                        row[f\"{category}_stderr\"] = val.get(\"exact_match_stderr,custom-extract\", None)\n",
    "\n",
    "                            all_rows.append(row)\n",
    "            else:\n",
    "                # Other configs: iterate through experiment_id directories\n",
    "                for experiment_id in os.listdir(config_dir):\n",
    "                    exp_dir = os.path.join(config_dir, experiment_id)\n",
    "\n",
    "                    if not os.path.isdir(exp_dir):\n",
    "                        continue\n",
    "\n",
    "                    # Load all timestamped runs for this experiment\n",
    "                    run_dirs = [d for d in os.listdir(exp_dir) if d.startswith(\"2025-\")]\n",
    "\n",
    "                    for run_dir in sorted(run_dirs):\n",
    "                        results_path = os.path.join(exp_dir, run_dir, \"results.json\")\n",
    "                        manifest_path = os.path.join(exp_dir, run_dir, \"manifest.json\")\n",
    "\n",
    "                        if os.path.exists(results_path):\n",
    "                            with open(results_path, \"r\") as f:\n",
    "                                data = json.load(f)\n",
    "\n",
    "                            # Load manifest for thinking and apply_chat_template\n",
    "                            thinking = False\n",
    "                            apply_chat_template = False\n",
    "                            vllm = False\n",
    "                            max_gen_toks = None\n",
    "                            dtype = None\n",
    "                            if os.path.exists(manifest_path):\n",
    "                                with open(manifest_path, \"r\") as f:\n",
    "                                    manifest = json.load(f)\n",
    "                                    thinking = manifest.get(\"thinking\", None)\n",
    "                                    if thinking is None:\n",
    "                                        thinking = False\n",
    "                                    apply_chat_template = manifest.get(\"apply_chat_template\", False)\n",
    "                                    vllm = manifest.get(\"vllm\", False)\n",
    "                                    max_gen_toks = manifest.get(\"max_gen_toks\", None)\n",
    "\n",
    "                                    # check for either dtype or torch_dtype\n",
    "                                    dtype = manifest.get(\"dtype\", None)\n",
    "                                    if dtype is None:\n",
    "                                        dtype = manifest.get(\"torch_dtype\", None)\n",
    "\n",
    "                            # Get the task results\n",
    "                            if \"results\" in data and task in data[\"results\"]:\n",
    "                                row = {\n",
    "                                    \"task_name\": task,\n",
    "                                    \"config_name\": config_name,\n",
    "                                    \"experiment_id\": experiment_id,\n",
    "                                    \"run_dir\": run_dir,\n",
    "                                    \"thinking\": thinking,\n",
    "                                    \"apply_chat_template\": apply_chat_template,\n",
    "                                    \"vllm\": vllm,\n",
    "                                    \"max_gen_toks\": max_gen_toks,\n",
    "                                    \"dtype\": dtype\n",
    "                                }\n",
    "                                # Add all metrics from the task results\n",
    "                                row.update(data[\"results\"][task])\n",
    "                                \n",
    "                                # Drop alias field if present\n",
    "                                row.pop(\"alias\", None)\n",
    "\n",
    "                                # For MMLU Pro, also add category-level metrics\n",
    "                                if task == \"mmlu_pro\":\n",
    "                                    for key, val in data[\"results\"].items():\n",
    "                                        if key.startswith(\"mmlu_pro_\") and isinstance(val, dict):\n",
    "                                            category = key.replace(\"mmlu_pro_\", \"\")\n",
    "                                            row[f\"{category}_acc\"] = val.get(\"exact_match,custom-extract\", None)\n",
    "                                            row[f\"{category}_stderr\"] = val.get(\"exact_match_stderr,custom-extract\", None)\n",
    "\n",
    "                                all_rows.append(row)\n",
    "\n",
    "    df = pd.DataFrame(all_rows)\n",
    "    return df\n",
    "\n",
    "print(\"Data loading function defined\")"
   ]
  },
  {
   "cell_type": "code",
   "execution_count": 5,
   "id": "d91e3b72",
   "metadata": {},
   "outputs": [],
   "source": [
    "def plot_benchmark_results(df, eval_name, title, subtitle, total_layers=64):\n",
    "    \"\"\"\n",
    "    Generic benchmark plotting function that works for any eval.\n",
    "    \n",
    "    Args:\n",
    "        df: DataFrame with experiment results (should have only one baseline row)\n",
    "        eval_name: Name of eval ('ifeval', 'mmlu_pro', 'eq_bench')\n",
    "        title: Plot title\n",
    "        subtitle: Plot subtitle  \n",
    "        total_layers: Total number of layers in the model (default: 64)\n",
    "    \n",
    "    Returns:\n",
    "        Plotly figure object\n",
    "    \"\"\"\n",
    "    import numpy as np\n",
    "    import plotly.graph_objects as go\n",
    "    from plotly.subplots import make_subplots\n",
    "    \n",
    "    # Get eval-specific configuration\n",
    "    eval_config = EVAL_CONFIGS[eval_name]\n",
    "    metrics = eval_config['metrics']\n",
    "    y_range = eval_config['y_range']\n",
    "    \n",
    "    # Parse experiment IDs and add metadata columns\n",
    "    df_sorted = df.copy()\n",
    "    \n",
    "    # Parse each experiment_id\n",
    "    parsed = df_sorted['experiment_id'].apply(parse_experiment_id)\n",
    "    df_sorted['layer_spec'] = parsed.apply(lambda x: x[0])\n",
    "    df_sorted['cap_type'] = parsed.apply(lambda x: x[1])\n",
    "    df_sorted['cap_value'] = parsed.apply(lambda x: x[2])\n",
    "    \n",
    "    # Add human-readable labels\n",
    "    df_sorted['layer_label'] = df_sorted['layer_spec'].apply(\n",
    "        lambda x: format_layer_range(x, total_layers)\n",
    "    )\n",
    "    df_sorted['cap_label'] = df_sorted['cap_value'].apply(format_cap_label)\n",
    "    df_sorted['display_name'] = df_sorted.apply(\n",
    "        lambda row: f\"{row['layer_label']}, {row['cap_label']}\" \n",
    "                    if row['experiment_id'] != 'baseline' \n",
    "                    else \"Baseline\",\n",
    "        axis=1\n",
    "    )\n",
    "    \n",
    "    # Create sort key for ordering (baseline first, then by config)\n",
    "    config_order = {cfg: i for i, cfg in enumerate(['baseline', 'jailbreak', 'role_trait', 'lmsys_10000'])}\n",
    "    df_sorted['sort_key'] = df_sorted['config_name'].map(config_order)\n",
    "    \n",
    "    # Sort by config, then layer_spec, then cap_value\n",
    "    # Create layer sort keys for consistent ordering\n",
    "    df_sorted['layer_sort_key'] = df_sorted['layer_spec'].apply(\n",
    "        lambda x: parse_layer_sort_key(x, total_layers)\n",
    "    )\n",
    "    \n",
    "    # Use imported cap_sort_key function\n",
    "    df_sorted['cap_sort_key'] = df_sorted['cap_value'].apply(cap_sort_key)\n",
    "    \n",
    "    df_sorted = df_sorted.sort_values(\n",
    "        ['sort_key', 'layer_sort_key', 'cap_sort_key'], \n",
    "        na_position='first'\n",
    "    ).reset_index(drop=True)\n",
    "    \n",
    "    # Create a unique layer_group_id for position calculation\n",
    "    # Baseline gets its own unique ID to prevent overlap with first non-baseline group\n",
    "    df_sorted['layer_group_id'] = df_sorted.apply(\n",
    "        lambda row: 'baseline' if row['experiment_id'] == 'baseline' \n",
    "                   else f\"{row['config_name']}_{row['layer_spec']}\", \n",
    "        axis=1\n",
    "    )\n",
    "    \n",
    "    # Calculate x positions with gaps between layer groups\n",
    "    x_positions = []\n",
    "    current_x = 0\n",
    "    prev_group_id = None\n",
    "    \n",
    "    bar_width = 0.35\n",
    "    gap_within_group = 0.05\n",
    "    gap_between_layers = 0.15\n",
    "    \n",
    "    for _, row in df_sorted.iterrows():\n",
    "        if prev_group_id is not None and row['layer_group_id'] != prev_group_id:\n",
    "            current_x += bar_width + gap_between_layers\n",
    "        elif prev_group_id is not None:\n",
    "            current_x += bar_width + gap_within_group\n",
    "        x_positions.append(current_x)\n",
    "        prev_group_id = row['layer_group_id']\n",
    "    x_positions = np.array(x_positions)\n",
    "    \n",
    "    # Get colors for each bar\n",
    "    colors = [CONFIG_COLORS.get(row['config_name'], '#636EFA') \n",
    "              for _, row in df_sorted.iterrows()]\n",
    "    \n",
    "    # Create subplots (one row per metric)\n",
    "    num_metrics = len(metrics)\n",
    "    subplot_titles = [m['label'] for m in metrics]\n",
    "    \n",
    "    fig = make_subplots(\n",
    "        rows=num_metrics, cols=1,\n",
    "        subplot_titles=subplot_titles,\n",
    "        vertical_spacing=0.12 if num_metrics > 1 else 0\n",
    "    )\n",
    "    \n",
    "    # Add traces for each metric\n",
    "    for metric_idx, metric in enumerate(metrics, start=1):\n",
    "        metric_name = metric['name']\n",
    "        stderr_name = metric['stderr']\n",
    "        \n",
    "        # Get stderr values if available\n",
    "        error_y = None\n",
    "        if stderr_name and stderr_name in df_sorted.columns:\n",
    "            stderr_vals = df_sorted[stderr_name].apply(\n",
    "                lambda x: float(x) if x != 'N/A' and pd.notna(x) else None\n",
    "            )\n",
    "            error_y = dict(type='data', array=stderr_vals, visible=True, thickness=0.5)\n",
    "        \n",
    "        # Add bar trace\n",
    "        fig.add_trace(\n",
    "            go.Bar(\n",
    "                name=metric['label'],\n",
    "                x=x_positions,\n",
    "                y=df_sorted[metric_name],\n",
    "                error_y=error_y,\n",
    "                marker_color=colors,\n",
    "                opacity=0.8,\n",
    "                width=bar_width,\n",
    "                showlegend=False,\n",
    "                hovertemplate=\"%{customdata[0]}<br>Config: %{customdata[1]}<br>Value: %{y:.1%}<extra></extra>\",\n",
    "                customdata=np.column_stack([df_sorted['display_name'], df_sorted['config_name']]),\n",
    "            ),\n",
    "            row=metric_idx, col=1\n",
    "        )\n",
    "\n",
    "    baseline_row = df_sorted[df_sorted['experiment_id'] == 'baseline']\n",
    "    if len(baseline_row) > 0:\n",
    "        for metric_idx, metric in enumerate(metrics, start=1):\n",
    "            metric_name = metric['name']\n",
    "            baseline_value = baseline_row[metric_name].iloc[0]\n",
    "\n",
    "            fig.add_hline(\n",
    "                y=baseline_value,\n",
    "                line_dash=\"dot\",\n",
    "                line_color=\"green\",\n",
    "                line_width=1,\n",
    "                opacity=0.8,\n",
    "                row=metric_idx,\n",
    "                col=1\n",
    "            )\n",
    "    \n",
    "    # Add legend entries for configs (only once, attached to first subplot)\n",
    "    present_configs = [c for c in config_order.keys() if c in df_sorted['config_name'].values]\n",
    "    for config in present_configs:\n",
    "        fig.add_trace(\n",
    "            go.Scatter(\n",
    "                x=[None], y=[None], mode='markers',\n",
    "                marker=dict(size=10, color=CONFIG_COLORS[config]),\n",
    "                name=CONFIG_DISPLAY_NAMES[config],\n",
    "                showlegend=True\n",
    "            ),\n",
    "            row=1, col=1\n",
    "        )\n",
    "    \n",
    "    # Place legend in top-right\n",
    "    fig.update_layout(\n",
    "        legend=dict(\n",
    "            x=1.0, y=1.08, xanchor='right', yanchor='bottom',\n",
    "            orientation='h',\n",
    "        )\n",
    "    )\n",
    "    \n",
    "    # Add single centered annotation about cap ordering\n",
    "    fig.add_annotation(\n",
    "        x=1, y=1,\n",
    "        text=\"<span style='font-size:10px'>Projection caps in each bar group<br>(L-R) strict to relaxed</span>\",\n",
    "        showarrow=False, xref='paper', yref='paper',\n",
    "        xanchor='right', yanchor='top'\n",
    "    )\n",
    "    \n",
    "    # Calculate layer group centers for x-axis labels\n",
    "    # Use layer_group_id to properly detect group boundaries\n",
    "    layer_centers, layer_labels = [], []\n",
    "    prev_group_id = None\n",
    "    group_start = 0\n",
    "    \n",
    "    for i, (_, row) in enumerate(df_sorted.iterrows()):\n",
    "        if prev_group_id is not None and row['layer_group_id'] != prev_group_id:\n",
    "            group_center = (x_positions[group_start] + x_positions[i-1]) / 2\n",
    "            layer_centers.append(group_center)\n",
    "            layer_labels.append(df_sorted.iloc[group_start]['layer_label'])\n",
    "            group_start = i\n",
    "        prev_group_id = row['layer_group_id']\n",
    "    \n",
    "    # Add last group\n",
    "    if len(df_sorted) > 0:\n",
    "        group_center = (x_positions[group_start] + x_positions[-1]) / 2\n",
    "        layer_centers.append(group_center)\n",
    "        layer_labels.append(df_sorted.iloc[group_start]['layer_label'])\n",
    "    \n",
    "    # Update layout and axes\n",
    "    fig.update_layout(\n",
    "        title=dict(text=f\"{title}\", subtitle=dict(text=subtitle)),\n",
    "        height=350 * num_metrics + 200, \n",
    "        width=1000, \n",
    "        margin=dict(b=100, t=150)\n",
    "    )\n",
    "    \n",
    "    # Update axes for all subplots\n",
    "    for metric_idx in range(1, num_metrics + 1):\n",
    "        # Y-axis\n",
    "        fig.update_yaxes(\n",
    "            title_text=\"Score\", \n",
    "            range=y_range, \n",
    "            row=metric_idx, col=1, \n",
    "            tickfont=dict(size=10)\n",
    "        )\n",
    "        \n",
    "        # X-axis (only label bottom subplot)\n",
    "        if metric_idx == num_metrics:\n",
    "            fig.update_xaxes(title_text=\"Intervention Layers\", row=metric_idx, col=1)\n",
    "        \n",
    "        # Set x-axis ticks\n",
    "        fig.update_xaxes(\n",
    "            tickmode='array', \n",
    "            tickvals=layer_centers, \n",
    "            ticktext=layer_labels,\n",
    "            range=[x_positions[0] - 0.5, x_positions[-1] + 0.5], \n",
    "            row=metric_idx, col=1, \n",
    "            tickfont=dict(size=10)\n",
    "        )\n",
    "    \n",
    "    return fig"
   ]
  },
  {
   "cell_type": "markdown",
   "id": "09467a88",
   "metadata": {},
   "source": [
    "## IFEval"
   ]
  },
  {
   "cell_type": "code",
   "execution_count": 4,
   "id": "bf33c6fb",
   "metadata": {},
   "outputs": [
    {
     "name": "stdout",
     "output_type": "stream",
     "text": [
      "Loaded 89 IFEval experiment runs\n",
      "\n",
      "Config breakdown:\n",
      "  baseline: 1 unique experiments\n",
      "    - baseline (1 run)\n",
      "  role_trait: 36 unique experiments\n",
      "    - layers_0:16-p0.01 (1 run)\n",
      "    - layers_0:16-p0.25 (1 run)\n",
      "    - layers_0:16-p0.5 (1 run)\n",
      "    - layers_0:16-p0.75 (1 run)\n",
      "    - layers_0:64-p0.01 (1 run)\n",
      "    - layers_0:64-p0.25 (1 run)\n",
      "    - layers_0:64-p0.5 (1 run)\n",
      "    - layers_0:64-p0.75 (1 run)\n",
      "    - layers_16:24-p0.01 (1 run)\n",
      "    - layers_16:24-p0.25 (1 run)\n",
      "    - layers_16:24-p0.5 (1 run)\n",
      "    - layers_16:24-p0.75 (1 run)\n",
      "    - layers_24:32-p0.01 (1 run)\n",
      "    - layers_24:32-p0.25 (1 run)\n",
      "    - layers_24:32-p0.5 (1 run)\n",
      "    - layers_24:32-p0.75 (1 run)\n",
      "    - layers_32:40-p0.01 (1 run)\n",
      "    - layers_32:40-p0.25 (1 run)\n",
      "    - layers_32:40-p0.5 (1 run)\n",
      "    - layers_32:40-p0.75 (1 run)\n",
      "    - layers_40:48-p0.01 (1 run)\n",
      "    - layers_40:48-p0.25 (1 run)\n",
      "    - layers_40:48-p0.5 (1 run)\n",
      "    - layers_40:48-p0.75 (1 run)\n",
      "    - layers_48:56-p0.01 (1 run)\n",
      "    - layers_48:56-p0.25 (1 run)\n",
      "    - layers_48:56-p0.5 (1 run)\n",
      "    - layers_48:56-p0.75 (1 run)\n",
      "    - layers_56:64-p0.01 (1 run)\n",
      "    - layers_56:64-p0.25 (1 run)\n",
      "    - layers_56:64-p0.5 (1 run)\n",
      "    - layers_56:64-p0.75 (1 run)\n",
      "    - layers_8:16-p0.01 (1 run)\n",
      "    - layers_8:16-p0.25 (1 run)\n",
      "    - layers_8:16-p0.5 (1 run)\n",
      "    - layers_8:16-p0.75 (1 run)\n",
      "  jailbreak: 16 unique experiments\n",
      "    - layers_0:64-harm_0.01 (1 run)\n",
      "    - layers_0:64-harm_0.25 (1 run)\n",
      "    - layers_0:64-safe_0.01 (1 run)\n",
      "    - layers_0:64-safe_0.50 (1 run)\n",
      "    - layers_2:64:2-harm_0.01 (1 run)\n",
      "    - layers_2:64:2-harm_0.25 (1 run)\n",
      "    - layers_2:64:2-safe_0.01 (1 run)\n",
      "    - layers_2:64:2-safe_0.50 (1 run)\n",
      "    - layers_32:64-harm_0.01 (1 run)\n",
      "    - layers_32:64-harm_0.25 (1 run)\n",
      "    - layers_32:64-safe_0.01 (1 run)\n",
      "    - layers_32:64-safe_0.50 (1 run)\n",
      "    - layers_4:64:4-harm_0.01 (1 run)\n",
      "    - layers_4:64:4-harm_0.25 (1 run)\n",
      "    - layers_4:64:4-safe_0.01 (1 run)\n",
      "    - layers_4:64:4-safe_0.50 (1 run)\n",
      "  lmsys_10000: 36 unique experiments\n",
      "    - layers_0:16-p0.01 (1 run)\n",
      "    - layers_0:16-p0.25 (1 run)\n",
      "    - layers_0:16-p0.5 (1 run)\n",
      "    - layers_0:16-p0.75 (1 run)\n",
      "    - layers_0:64-p0.01 (1 run)\n",
      "    - layers_0:64-p0.25 (1 run)\n",
      "    - layers_0:64-p0.5 (1 run)\n",
      "    - layers_0:64-p0.75 (1 run)\n",
      "    - layers_16:24-p0.01 (1 run)\n",
      "    - layers_16:24-p0.25 (1 run)\n",
      "    - layers_16:24-p0.5 (1 run)\n",
      "    - layers_16:24-p0.75 (1 run)\n",
      "    - layers_24:32-p0.01 (1 run)\n",
      "    - layers_24:32-p0.25 (1 run)\n",
      "    - layers_24:32-p0.5 (1 run)\n",
      "    - layers_24:32-p0.75 (1 run)\n",
      "    - layers_32:40-p0.01 (1 run)\n",
      "    - layers_32:40-p0.25 (1 run)\n",
      "    - layers_32:40-p0.5 (1 run)\n",
      "    - layers_32:40-p0.75 (1 run)\n",
      "    - layers_40:48-p0.01 (1 run)\n",
      "    - layers_40:48-p0.25 (1 run)\n",
      "    - layers_40:48-p0.5 (1 run)\n",
      "    - layers_40:48-p0.75 (1 run)\n",
      "    - layers_48:56-p0.01 (1 run)\n",
      "    - layers_48:56-p0.25 (1 run)\n",
      "    - layers_48:56-p0.5 (1 run)\n",
      "    - layers_48:56-p0.75 (1 run)\n",
      "    - layers_56:64-p0.01 (1 run)\n",
      "    - layers_56:64-p0.25 (1 run)\n",
      "    - layers_56:64-p0.5 (1 run)\n",
      "    - layers_56:64-p0.75 (1 run)\n",
      "    - layers_8:16-p0.01 (1 run)\n",
      "    - layers_8:16-p0.25 (1 run)\n",
      "    - layers_8:16-p0.5 (1 run)\n",
      "    - layers_8:16-p0.75 (1 run)\n"
     ]
    }
   ],
   "source": [
    "# Load IFEval data\n",
    "df = load_experiment_data([\"ifeval\"], config_names, base_dir)\n",
    "print(f\"Loaded {len(df)} IFEval experiment runs\")\n",
    "print(f\"\\nConfig breakdown:\")\n",
    "for config in df['config_name'].unique():\n",
    "    config_df = df[df['config_name'] == config]\n",
    "    unique_exps = config_df['experiment_id'].unique()\n",
    "    print(f\"  {config}: {len(unique_exps)} unique experiments\")\n",
    "    for exp in sorted(unique_exps):\n",
    "        exp_count = len(config_df[config_df['experiment_id'] == exp])\n",
    "        print(f\"    - {exp} ({exp_count} run{'s' if exp_count > 1 else ''})\")"
   ]
  },
  {
   "cell_type": "code",
   "execution_count": 86,
   "id": "87c95dca",
   "metadata": {},
   "outputs": [
    {
     "data": {
      "text/html": [
       "<div>\n",
       "<style scoped>\n",
       "    .dataframe tbody tr th:only-of-type {\n",
       "        vertical-align: middle;\n",
       "    }\n",
       "\n",
       "    .dataframe tbody tr th {\n",
       "        vertical-align: top;\n",
       "    }\n",
       "\n",
       "    .dataframe thead th {\n",
       "        text-align: right;\n",
       "    }\n",
       "</style>\n",
       "<table border=\"1\" class=\"dataframe\">\n",
       "  <thead>\n",
       "    <tr style=\"text-align: right;\">\n",
       "      <th></th>\n",
       "      <th>config_name</th>\n",
       "      <th>experiment_id</th>\n",
       "      <th>thinking</th>\n",
       "      <th>apply_chat_template</th>\n",
       "      <th>prompt_level_strict_acc,none</th>\n",
       "      <th>inst_level_strict_acc,none</th>\n",
       "    </tr>\n",
       "  </thead>\n",
       "  <tbody>\n",
       "    <tr>\n",
       "      <th>0</th>\n",
       "      <td>baseline</td>\n",
       "      <td>baseline</td>\n",
       "      <td>False</td>\n",
       "      <td>False</td>\n",
       "      <td>0.468</td>\n",
       "      <td>0.601552</td>\n",
       "    </tr>\n",
       "    <tr>\n",
       "      <th>1</th>\n",
       "      <td>role_trait</td>\n",
       "      <td>layers_56:64-p0.75</td>\n",
       "      <td>False</td>\n",
       "      <td>True</td>\n",
       "      <td>0.510</td>\n",
       "      <td>0.635188</td>\n",
       "    </tr>\n",
       "    <tr>\n",
       "      <th>2</th>\n",
       "      <td>role_trait</td>\n",
       "      <td>layers_56:64-p0.5</td>\n",
       "      <td>False</td>\n",
       "      <td>True</td>\n",
       "      <td>0.506</td>\n",
       "      <td>0.632600</td>\n",
       "    </tr>\n",
       "    <tr>\n",
       "      <th>3</th>\n",
       "      <td>role_trait</td>\n",
       "      <td>layers_56:64-p0.25</td>\n",
       "      <td>False</td>\n",
       "      <td>True</td>\n",
       "      <td>0.494</td>\n",
       "      <td>0.624838</td>\n",
       "    </tr>\n",
       "    <tr>\n",
       "      <th>4</th>\n",
       "      <td>role_trait</td>\n",
       "      <td>layers_56:64-p0.01</td>\n",
       "      <td>False</td>\n",
       "      <td>True</td>\n",
       "      <td>0.470</td>\n",
       "      <td>0.609314</td>\n",
       "    </tr>\n",
       "  </tbody>\n",
       "</table>\n",
       "</div>"
      ],
      "text/plain": [
       "  config_name       experiment_id  thinking  apply_chat_template  \\\n",
       "0    baseline            baseline     False                False   \n",
       "1  role_trait  layers_56:64-p0.75     False                 True   \n",
       "2  role_trait   layers_56:64-p0.5     False                 True   \n",
       "3  role_trait  layers_56:64-p0.25     False                 True   \n",
       "4  role_trait  layers_56:64-p0.01     False                 True   \n",
       "\n",
       "   prompt_level_strict_acc,none  inst_level_strict_acc,none  \n",
       "0                         0.468                    0.601552  \n",
       "1                         0.510                    0.635188  \n",
       "2                         0.506                    0.632600  \n",
       "3                         0.494                    0.624838  \n",
       "4                         0.470                    0.609314  "
      ]
     },
     "execution_count": 86,
     "metadata": {},
     "output_type": "execute_result"
    }
   ],
   "source": [
    "df[['config_name', 'experiment_id', 'thinking', 'apply_chat_template', 'prompt_level_strict_acc,none', 'inst_level_strict_acc,none']].head(5)\n"
   ]
  },
  {
   "cell_type": "code",
   "execution_count": 87,
   "id": "muulexwd2",
   "metadata": {},
   "outputs": [
    {
     "data": {
      "application/vnd.plotly.v1+json": {
       "config": {
        "plotlyServerURL": "https://plot.ly"
       },
       "data": [
        {
         "customdata": [
          [
           "Baseline",
           "baseline"
          ],
          [
           "All Layers (0-63), Safe 99th",
           "jailbreak"
          ],
          [
           "All Layers (0-63), Safe 50th",
           "jailbreak"
          ],
          [
           "All Layers (0-63), Harm 99th",
           "jailbreak"
          ],
          [
           "All Layers (0-63), Harm 75th",
           "jailbreak"
          ],
          [
           "Every 2nd Layer, Safe 99th",
           "jailbreak"
          ],
          [
           "Every 2nd Layer, Safe 50th",
           "jailbreak"
          ],
          [
           "Every 2nd Layer, Harm 99th",
           "jailbreak"
          ],
          [
           "Every 2nd Layer, Harm 75th",
           "jailbreak"
          ],
          [
           "Every 4th Layer, Safe 99th",
           "jailbreak"
          ],
          [
           "Every 4th Layer, Safe 50th",
           "jailbreak"
          ],
          [
           "Every 4th Layer, Harm 99th",
           "jailbreak"
          ],
          [
           "Every 4th Layer, Harm 75th",
           "jailbreak"
          ],
          [
           "Layers 32-63, Safe 99th",
           "jailbreak"
          ],
          [
           "Layers 32-63, Safe 50th",
           "jailbreak"
          ],
          [
           "Layers 32-63, Harm 99th",
           "jailbreak"
          ],
          [
           "Layers 32-63, Harm 75th",
           "jailbreak"
          ],
          [
           "All Layers (0-63), 1st",
           "role_trait"
          ],
          [
           "All Layers (0-63), 25th",
           "role_trait"
          ],
          [
           "All Layers (0-63), 50th",
           "role_trait"
          ],
          [
           "All Layers (0-63), 75th",
           "role_trait"
          ],
          [
           "Layers 0-15, 1st",
           "role_trait"
          ],
          [
           "Layers 0-15, 25th",
           "role_trait"
          ],
          [
           "Layers 0-15, 50th",
           "role_trait"
          ],
          [
           "Layers 0-15, 75th",
           "role_trait"
          ],
          [
           "Layers 8-15, 1st",
           "role_trait"
          ],
          [
           "Layers 8-15, 25th",
           "role_trait"
          ],
          [
           "Layers 8-15, 50th",
           "role_trait"
          ],
          [
           "Layers 8-15, 75th",
           "role_trait"
          ],
          [
           "Layers 16-23, 1st",
           "role_trait"
          ],
          [
           "Layers 16-23, 25th",
           "role_trait"
          ],
          [
           "Layers 16-23, 50th",
           "role_trait"
          ],
          [
           "Layers 16-23, 75th",
           "role_trait"
          ],
          [
           "Layers 24-31, 1st",
           "role_trait"
          ],
          [
           "Layers 24-31, 25th",
           "role_trait"
          ],
          [
           "Layers 24-31, 50th",
           "role_trait"
          ],
          [
           "Layers 24-31, 75th",
           "role_trait"
          ],
          [
           "Layers 32-39, 1st",
           "role_trait"
          ],
          [
           "Layers 32-39, 25th",
           "role_trait"
          ],
          [
           "Layers 32-39, 50th",
           "role_trait"
          ],
          [
           "Layers 32-39, 75th",
           "role_trait"
          ],
          [
           "Layers 40-47, 1st",
           "role_trait"
          ],
          [
           "Layers 40-47, 25th",
           "role_trait"
          ],
          [
           "Layers 40-47, 50th",
           "role_trait"
          ],
          [
           "Layers 40-47, 75th",
           "role_trait"
          ],
          [
           "Layers 48-55, 1st",
           "role_trait"
          ],
          [
           "Layers 48-55, 25th",
           "role_trait"
          ],
          [
           "Layers 48-55, 50th",
           "role_trait"
          ],
          [
           "Layers 48-55, 75th",
           "role_trait"
          ],
          [
           "Layers 56-63, 1st",
           "role_trait"
          ],
          [
           "Layers 56-63, 25th",
           "role_trait"
          ],
          [
           "Layers 56-63, 50th",
           "role_trait"
          ],
          [
           "Layers 56-63, 75th",
           "role_trait"
          ],
          [
           "All Layers (0-63), 1st",
           "lmsys_10000"
          ],
          [
           "All Layers (0-63), 25th",
           "lmsys_10000"
          ],
          [
           "All Layers (0-63), 50th",
           "lmsys_10000"
          ],
          [
           "All Layers (0-63), 75th",
           "lmsys_10000"
          ],
          [
           "Layers 0-15, 1st",
           "lmsys_10000"
          ],
          [
           "Layers 0-15, 25th",
           "lmsys_10000"
          ],
          [
           "Layers 0-15, 50th",
           "lmsys_10000"
          ],
          [
           "Layers 0-15, 75th",
           "lmsys_10000"
          ],
          [
           "Layers 8-15, 1st",
           "lmsys_10000"
          ],
          [
           "Layers 8-15, 25th",
           "lmsys_10000"
          ],
          [
           "Layers 8-15, 50th",
           "lmsys_10000"
          ],
          [
           "Layers 8-15, 75th",
           "lmsys_10000"
          ],
          [
           "Layers 16-23, 1st",
           "lmsys_10000"
          ],
          [
           "Layers 16-23, 25th",
           "lmsys_10000"
          ],
          [
           "Layers 16-23, 50th",
           "lmsys_10000"
          ],
          [
           "Layers 16-23, 75th",
           "lmsys_10000"
          ],
          [
           "Layers 24-31, 1st",
           "lmsys_10000"
          ],
          [
           "Layers 24-31, 25th",
           "lmsys_10000"
          ],
          [
           "Layers 24-31, 50th",
           "lmsys_10000"
          ],
          [
           "Layers 24-31, 75th",
           "lmsys_10000"
          ],
          [
           "Layers 32-39, 1st",
           "lmsys_10000"
          ],
          [
           "Layers 32-39, 25th",
           "lmsys_10000"
          ],
          [
           "Layers 32-39, 50th",
           "lmsys_10000"
          ],
          [
           "Layers 32-39, 75th",
           "lmsys_10000"
          ],
          [
           "Layers 40-47, 1st",
           "lmsys_10000"
          ],
          [
           "Layers 40-47, 25th",
           "lmsys_10000"
          ],
          [
           "Layers 40-47, 50th",
           "lmsys_10000"
          ],
          [
           "Layers 40-47, 75th",
           "lmsys_10000"
          ],
          [
           "Layers 48-55, 1st",
           "lmsys_10000"
          ],
          [
           "Layers 48-55, 25th",
           "lmsys_10000"
          ],
          [
           "Layers 48-55, 50th",
           "lmsys_10000"
          ],
          [
           "Layers 48-55, 75th",
           "lmsys_10000"
          ],
          [
           "Layers 56-63, 1st",
           "lmsys_10000"
          ],
          [
           "Layers 56-63, 25th",
           "lmsys_10000"
          ],
          [
           "Layers 56-63, 50th",
           "lmsys_10000"
          ],
          [
           "Layers 56-63, 75th",
           "lmsys_10000"
          ]
         ],
         "error_y": {
          "array": [
           0.022337186479044296,
           0.02187429930168918,
           0.02209471322976179,
           0.02206494331392886,
           0.022149790663861947,
           0.022374298166353144,
           0.022383074051792257,
           0.022382894986483586,
           0.022380208834928014,
           0.022380208834928014,
           0.022382894986483586,
           0.022382357781962105,
           0.022382357781962105,
           0.02216263442665287,
           0.022198954641476896,
           0.021966635293832883,
           0.02201748257812769,
           0.022331264423258324,
           0.022382894986483586,
           0.022376626797927058,
           0.022382357781962105,
           0.022352791650914174,
           0.02236139673920787,
           0.022318338119870523,
           0.022352791650914174,
           0.022357273881016475,
           0.022371610982580396,
           0.022371610982580396,
           0.022347949832668024,
           0.022352791650914174,
           0.022374298166353144,
           0.022374298166353144,
           0.02236139673920787,
           0.02236139673920787,
           0.022374298166353144,
           0.022371610982580396,
           0.022374298166353144,
           0.022378596989230864,
           0.022382357781962105,
           0.022382357781962105,
           0.022382894986483586,
           0.022371610982580396,
           0.022371610982580396,
           0.022368565117387874,
           0.022347949832668024,
           0.022374298166353144,
           0.022347949832668024,
           0.022352791650914174,
           0.022378596989230864,
           0.0223427481925028,
           0.022381462412439424,
           0.022381462412439424,
           0.022378596989230864,
           0.02104961216613478,
           0.021660710347204473,
           0.021893529941665716,
           0.022136577335085575,
           0.022357273881016475,
           0.022337186479044296,
           0.022324981738385333,
           0.022352791650914174,
           0.022374298166353144,
           0.022378596989230864,
           0.022347949832668024,
           0.022368565117387874,
           0.022368565117387874,
           0.022357273881016475,
           0.022318338119870523,
           0.022337186479044296,
           0.022382357781962105,
           0.022380208834928014,
           0.022371610982580396,
           0.022374298166353144,
           0.022374298166353144,
           0.022383074051792257,
           0.022378596989230864,
           0.022376626797927058,
           0.022380208834928014,
           0.022382894986483586,
           0.022365160424231326,
           0.022380208834928014,
           0.022357273881016475,
           0.022352791650914174,
           0.022347949832668024,
           0.022352791650914174,
           0.021948929609938706,
           0.022242244375731048,
           0.022261697292270087,
           0.022261697292270087
          ],
          "thickness": 0.5,
          "type": "data",
          "visible": true
         },
         "hovertemplate": "%{customdata[0]}<br>Config: %{customdata[1]}<br>Value: %{y:.1%}<extra></extra>",
         "marker": {
          "color": [
           "#2ca02c",
           "#d62728",
           "#d62728",
           "#d62728",
           "#d62728",
           "#d62728",
           "#d62728",
           "#d62728",
           "#d62728",
           "#d62728",
           "#d62728",
           "#d62728",
           "#d62728",
           "#d62728",
           "#d62728",
           "#d62728",
           "#d62728",
           "#ff7f0e",
           "#ff7f0e",
           "#ff7f0e",
           "#ff7f0e",
           "#ff7f0e",
           "#ff7f0e",
           "#ff7f0e",
           "#ff7f0e",
           "#ff7f0e",
           "#ff7f0e",
           "#ff7f0e",
           "#ff7f0e",
           "#ff7f0e",
           "#ff7f0e",
           "#ff7f0e",
           "#ff7f0e",
           "#ff7f0e",
           "#ff7f0e",
           "#ff7f0e",
           "#ff7f0e",
           "#ff7f0e",
           "#ff7f0e",
           "#ff7f0e",
           "#ff7f0e",
           "#ff7f0e",
           "#ff7f0e",
           "#ff7f0e",
           "#ff7f0e",
           "#ff7f0e",
           "#ff7f0e",
           "#ff7f0e",
           "#ff7f0e",
           "#ff7f0e",
           "#ff7f0e",
           "#ff7f0e",
           "#ff7f0e",
           "#9467bd",
           "#9467bd",
           "#9467bd",
           "#9467bd",
           "#9467bd",
           "#9467bd",
           "#9467bd",
           "#9467bd",
           "#9467bd",
           "#9467bd",
           "#9467bd",
           "#9467bd",
           "#9467bd",
           "#9467bd",
           "#9467bd",
           "#9467bd",
           "#9467bd",
           "#9467bd",
           "#9467bd",
           "#9467bd",
           "#9467bd",
           "#9467bd",
           "#9467bd",
           "#9467bd",
           "#9467bd",
           "#9467bd",
           "#9467bd",
           "#9467bd",
           "#9467bd",
           "#9467bd",
           "#9467bd",
           "#9467bd",
           "#9467bd",
           "#9467bd",
           "#9467bd",
           "#9467bd"
          ]
         },
         "name": "Prompt-level Accuracy",
         "opacity": 0.8,
         "showlegend": false,
         "type": "bar",
         "width": 0.35,
         "x": [
          0,
          0.5,
          0.8999999999999999,
          1.2999999999999998,
          1.6999999999999997,
          2.1999999999999997,
          2.5999999999999996,
          2.9999999999999996,
          3.3999999999999995,
          3.8999999999999995,
          4.3,
          4.7,
          5.1000000000000005,
          5.6000000000000005,
          6.000000000000001,
          6.400000000000001,
          6.800000000000002,
          7.300000000000002,
          7.700000000000002,
          8.100000000000001,
          8.500000000000002,
          9.000000000000002,
          9.400000000000002,
          9.800000000000002,
          10.200000000000003,
          10.700000000000003,
          11.100000000000003,
          11.500000000000004,
          11.900000000000004,
          12.400000000000004,
          12.800000000000004,
          13.200000000000005,
          13.600000000000005,
          14.100000000000005,
          14.500000000000005,
          14.900000000000006,
          15.300000000000006,
          15.800000000000006,
          16.200000000000006,
          16.600000000000005,
          17.000000000000004,
          17.500000000000004,
          17.900000000000002,
          18.3,
          18.7,
          19.2,
          19.599999999999998,
          19.999999999999996,
          20.399999999999995,
          20.899999999999995,
          21.299999999999994,
          21.699999999999992,
          22.09999999999999,
          22.59999999999999,
          22.99999999999999,
          23.399999999999988,
          23.799999999999986,
          24.299999999999986,
          24.699999999999985,
          25.099999999999984,
          25.499999999999982,
          25.999999999999982,
          26.39999999999998,
          26.79999999999998,
          27.199999999999978,
          27.699999999999978,
          28.099999999999977,
          28.499999999999975,
          28.899999999999974,
          29.399999999999974,
          29.799999999999972,
          30.19999999999997,
          30.59999999999997,
          31.09999999999997,
          31.499999999999968,
          31.899999999999967,
          32.29999999999997,
          32.79999999999997,
          33.19999999999997,
          33.599999999999966,
          33.999999999999964,
          34.499999999999964,
          34.89999999999996,
          35.29999999999996,
          35.69999999999996,
          36.19999999999996,
          36.59999999999996,
          36.99999999999996,
          37.399999999999956
         ],
         "xaxis": "x",
         "y": [
          0.468,
          0.394,
          0.42,
          0.416,
          0.428,
          0.486,
          0.5,
          0.502,
          0.508,
          0.492,
          0.502,
          0.496,
          0.504,
          0.43,
          0.436,
          0.404,
          0.41,
          0.466,
          0.502,
          0.512,
          0.504,
          0.474,
          0.478,
          0.462,
          0.474,
          0.476,
          0.484,
          0.484,
          0.472,
          0.474,
          0.486,
          0.486,
          0.478,
          0.478,
          0.486,
          0.484,
          0.486,
          0.49,
          0.496,
          0.504,
          0.498,
          0.484,
          0.484,
          0.482,
          0.472,
          0.486,
          0.472,
          0.474,
          0.49,
          0.47,
          0.494,
          0.506,
          0.51,
          0.33,
          0.374,
          0.396,
          0.426,
          0.476,
          0.468,
          0.464,
          0.474,
          0.486,
          0.49,
          0.472,
          0.482,
          0.482,
          0.476,
          0.462,
          0.468,
          0.496,
          0.492,
          0.484,
          0.486,
          0.486,
          0.5,
          0.49,
          0.488,
          0.492,
          0.498,
          0.48,
          0.492,
          0.476,
          0.474,
          0.472,
          0.474,
          0.402,
          0.444,
          0.448,
          0.448
         ],
         "yaxis": "y"
        },
        {
         "customdata": [
          [
           "Baseline",
           "baseline"
          ],
          [
           "All Layers (0-63), Safe 99th",
           "jailbreak"
          ],
          [
           "All Layers (0-63), Safe 50th",
           "jailbreak"
          ],
          [
           "All Layers (0-63), Harm 99th",
           "jailbreak"
          ],
          [
           "All Layers (0-63), Harm 75th",
           "jailbreak"
          ],
          [
           "Every 2nd Layer, Safe 99th",
           "jailbreak"
          ],
          [
           "Every 2nd Layer, Safe 50th",
           "jailbreak"
          ],
          [
           "Every 2nd Layer, Harm 99th",
           "jailbreak"
          ],
          [
           "Every 2nd Layer, Harm 75th",
           "jailbreak"
          ],
          [
           "Every 4th Layer, Safe 99th",
           "jailbreak"
          ],
          [
           "Every 4th Layer, Safe 50th",
           "jailbreak"
          ],
          [
           "Every 4th Layer, Harm 99th",
           "jailbreak"
          ],
          [
           "Every 4th Layer, Harm 75th",
           "jailbreak"
          ],
          [
           "Layers 32-63, Safe 99th",
           "jailbreak"
          ],
          [
           "Layers 32-63, Safe 50th",
           "jailbreak"
          ],
          [
           "Layers 32-63, Harm 99th",
           "jailbreak"
          ],
          [
           "Layers 32-63, Harm 75th",
           "jailbreak"
          ],
          [
           "All Layers (0-63), 1st",
           "role_trait"
          ],
          [
           "All Layers (0-63), 25th",
           "role_trait"
          ],
          [
           "All Layers (0-63), 50th",
           "role_trait"
          ],
          [
           "All Layers (0-63), 75th",
           "role_trait"
          ],
          [
           "Layers 0-15, 1st",
           "role_trait"
          ],
          [
           "Layers 0-15, 25th",
           "role_trait"
          ],
          [
           "Layers 0-15, 50th",
           "role_trait"
          ],
          [
           "Layers 0-15, 75th",
           "role_trait"
          ],
          [
           "Layers 8-15, 1st",
           "role_trait"
          ],
          [
           "Layers 8-15, 25th",
           "role_trait"
          ],
          [
           "Layers 8-15, 50th",
           "role_trait"
          ],
          [
           "Layers 8-15, 75th",
           "role_trait"
          ],
          [
           "Layers 16-23, 1st",
           "role_trait"
          ],
          [
           "Layers 16-23, 25th",
           "role_trait"
          ],
          [
           "Layers 16-23, 50th",
           "role_trait"
          ],
          [
           "Layers 16-23, 75th",
           "role_trait"
          ],
          [
           "Layers 24-31, 1st",
           "role_trait"
          ],
          [
           "Layers 24-31, 25th",
           "role_trait"
          ],
          [
           "Layers 24-31, 50th",
           "role_trait"
          ],
          [
           "Layers 24-31, 75th",
           "role_trait"
          ],
          [
           "Layers 32-39, 1st",
           "role_trait"
          ],
          [
           "Layers 32-39, 25th",
           "role_trait"
          ],
          [
           "Layers 32-39, 50th",
           "role_trait"
          ],
          [
           "Layers 32-39, 75th",
           "role_trait"
          ],
          [
           "Layers 40-47, 1st",
           "role_trait"
          ],
          [
           "Layers 40-47, 25th",
           "role_trait"
          ],
          [
           "Layers 40-47, 50th",
           "role_trait"
          ],
          [
           "Layers 40-47, 75th",
           "role_trait"
          ],
          [
           "Layers 48-55, 1st",
           "role_trait"
          ],
          [
           "Layers 48-55, 25th",
           "role_trait"
          ],
          [
           "Layers 48-55, 50th",
           "role_trait"
          ],
          [
           "Layers 48-55, 75th",
           "role_trait"
          ],
          [
           "Layers 56-63, 1st",
           "role_trait"
          ],
          [
           "Layers 56-63, 25th",
           "role_trait"
          ],
          [
           "Layers 56-63, 50th",
           "role_trait"
          ],
          [
           "Layers 56-63, 75th",
           "role_trait"
          ],
          [
           "All Layers (0-63), 1st",
           "lmsys_10000"
          ],
          [
           "All Layers (0-63), 25th",
           "lmsys_10000"
          ],
          [
           "All Layers (0-63), 50th",
           "lmsys_10000"
          ],
          [
           "All Layers (0-63), 75th",
           "lmsys_10000"
          ],
          [
           "Layers 0-15, 1st",
           "lmsys_10000"
          ],
          [
           "Layers 0-15, 25th",
           "lmsys_10000"
          ],
          [
           "Layers 0-15, 50th",
           "lmsys_10000"
          ],
          [
           "Layers 0-15, 75th",
           "lmsys_10000"
          ],
          [
           "Layers 8-15, 1st",
           "lmsys_10000"
          ],
          [
           "Layers 8-15, 25th",
           "lmsys_10000"
          ],
          [
           "Layers 8-15, 50th",
           "lmsys_10000"
          ],
          [
           "Layers 8-15, 75th",
           "lmsys_10000"
          ],
          [
           "Layers 16-23, 1st",
           "lmsys_10000"
          ],
          [
           "Layers 16-23, 25th",
           "lmsys_10000"
          ],
          [
           "Layers 16-23, 50th",
           "lmsys_10000"
          ],
          [
           "Layers 16-23, 75th",
           "lmsys_10000"
          ],
          [
           "Layers 24-31, 1st",
           "lmsys_10000"
          ],
          [
           "Layers 24-31, 25th",
           "lmsys_10000"
          ],
          [
           "Layers 24-31, 50th",
           "lmsys_10000"
          ],
          [
           "Layers 24-31, 75th",
           "lmsys_10000"
          ],
          [
           "Layers 32-39, 1st",
           "lmsys_10000"
          ],
          [
           "Layers 32-39, 25th",
           "lmsys_10000"
          ],
          [
           "Layers 32-39, 50th",
           "lmsys_10000"
          ],
          [
           "Layers 32-39, 75th",
           "lmsys_10000"
          ],
          [
           "Layers 40-47, 1st",
           "lmsys_10000"
          ],
          [
           "Layers 40-47, 25th",
           "lmsys_10000"
          ],
          [
           "Layers 40-47, 50th",
           "lmsys_10000"
          ],
          [
           "Layers 40-47, 75th",
           "lmsys_10000"
          ],
          [
           "Layers 48-55, 1st",
           "lmsys_10000"
          ],
          [
           "Layers 48-55, 25th",
           "lmsys_10000"
          ],
          [
           "Layers 48-55, 50th",
           "lmsys_10000"
          ],
          [
           "Layers 48-55, 75th",
           "lmsys_10000"
          ],
          [
           "Layers 56-63, 1st",
           "lmsys_10000"
          ],
          [
           "Layers 56-63, 25th",
           "lmsys_10000"
          ],
          [
           "Layers 56-63, 50th",
           "lmsys_10000"
          ],
          [
           "Layers 56-63, 75th",
           "lmsys_10000"
          ]
         ],
         "hovertemplate": "%{customdata[0]}<br>Config: %{customdata[1]}<br>Value: %{y:.1%}<extra></extra>",
         "marker": {
          "color": [
           "#2ca02c",
           "#d62728",
           "#d62728",
           "#d62728",
           "#d62728",
           "#d62728",
           "#d62728",
           "#d62728",
           "#d62728",
           "#d62728",
           "#d62728",
           "#d62728",
           "#d62728",
           "#d62728",
           "#d62728",
           "#d62728",
           "#d62728",
           "#ff7f0e",
           "#ff7f0e",
           "#ff7f0e",
           "#ff7f0e",
           "#ff7f0e",
           "#ff7f0e",
           "#ff7f0e",
           "#ff7f0e",
           "#ff7f0e",
           "#ff7f0e",
           "#ff7f0e",
           "#ff7f0e",
           "#ff7f0e",
           "#ff7f0e",
           "#ff7f0e",
           "#ff7f0e",
           "#ff7f0e",
           "#ff7f0e",
           "#ff7f0e",
           "#ff7f0e",
           "#ff7f0e",
           "#ff7f0e",
           "#ff7f0e",
           "#ff7f0e",
           "#ff7f0e",
           "#ff7f0e",
           "#ff7f0e",
           "#ff7f0e",
           "#ff7f0e",
           "#ff7f0e",
           "#ff7f0e",
           "#ff7f0e",
           "#ff7f0e",
           "#ff7f0e",
           "#ff7f0e",
           "#ff7f0e",
           "#9467bd",
           "#9467bd",
           "#9467bd",
           "#9467bd",
           "#9467bd",
           "#9467bd",
           "#9467bd",
           "#9467bd",
           "#9467bd",
           "#9467bd",
           "#9467bd",
           "#9467bd",
           "#9467bd",
           "#9467bd",
           "#9467bd",
           "#9467bd",
           "#9467bd",
           "#9467bd",
           "#9467bd",
           "#9467bd",
           "#9467bd",
           "#9467bd",
           "#9467bd",
           "#9467bd",
           "#9467bd",
           "#9467bd",
           "#9467bd",
           "#9467bd",
           "#9467bd",
           "#9467bd",
           "#9467bd",
           "#9467bd",
           "#9467bd",
           "#9467bd",
           "#9467bd",
           "#9467bd"
          ]
         },
         "name": "Instruction-level Accuracy",
         "opacity": 0.8,
         "showlegend": false,
         "type": "bar",
         "width": 0.35,
         "x": [
          0,
          0.5,
          0.8999999999999999,
          1.2999999999999998,
          1.6999999999999997,
          2.1999999999999997,
          2.5999999999999996,
          2.9999999999999996,
          3.3999999999999995,
          3.8999999999999995,
          4.3,
          4.7,
          5.1000000000000005,
          5.6000000000000005,
          6.000000000000001,
          6.400000000000001,
          6.800000000000002,
          7.300000000000002,
          7.700000000000002,
          8.100000000000001,
          8.500000000000002,
          9.000000000000002,
          9.400000000000002,
          9.800000000000002,
          10.200000000000003,
          10.700000000000003,
          11.100000000000003,
          11.500000000000004,
          11.900000000000004,
          12.400000000000004,
          12.800000000000004,
          13.200000000000005,
          13.600000000000005,
          14.100000000000005,
          14.500000000000005,
          14.900000000000006,
          15.300000000000006,
          15.800000000000006,
          16.200000000000006,
          16.600000000000005,
          17.000000000000004,
          17.500000000000004,
          17.900000000000002,
          18.3,
          18.7,
          19.2,
          19.599999999999998,
          19.999999999999996,
          20.399999999999995,
          20.899999999999995,
          21.299999999999994,
          21.699999999999992,
          22.09999999999999,
          22.59999999999999,
          22.99999999999999,
          23.399999999999988,
          23.799999999999986,
          24.299999999999986,
          24.699999999999985,
          25.099999999999984,
          25.499999999999982,
          25.999999999999982,
          26.39999999999998,
          26.79999999999998,
          27.199999999999978,
          27.699999999999978,
          28.099999999999977,
          28.499999999999975,
          28.899999999999974,
          29.399999999999974,
          29.799999999999972,
          30.19999999999997,
          30.59999999999997,
          31.09999999999997,
          31.499999999999968,
          31.899999999999967,
          32.29999999999997,
          32.79999999999997,
          33.19999999999997,
          33.599999999999966,
          33.999999999999964,
          34.499999999999964,
          34.89999999999996,
          35.29999999999996,
          35.69999999999996,
          36.19999999999996,
          36.59999999999996,
          36.99999999999996,
          37.399999999999956
         ],
         "xaxis": "x2",
         "y": [
          0.6015523932729625,
          0.536869340232859,
          0.5614489003880984,
          0.5575679172056921,
          0.5549805950840879,
          0.6222509702457956,
          0.6274256144890039,
          0.6313065976714101,
          0.6326002587322122,
          0.6170763260025873,
          0.6222509702457956,
          0.6222509702457956,
          0.6209573091849935,
          0.5692108667529108,
          0.5679172056921087,
          0.5498059508408797,
          0.5549805950840879,
          0.5989650711513583,
          0.6274256144890039,
          0.6313065976714101,
          0.628719275549806,
          0.5976714100905562,
          0.6054333764553687,
          0.5950840879689522,
          0.5989650711513583,
          0.6067270375161707,
          0.610608020698577,
          0.6144890038809832,
          0.5989650711513583,
          0.6015523932729625,
          0.610608020698577,
          0.6131953428201811,
          0.6080206985769728,
          0.6131953428201811,
          0.6157826649417852,
          0.6093143596377749,
          0.6144890038809832,
          0.6157826649417852,
          0.6170763260025873,
          0.6222509702457956,
          0.6235446313065977,
          0.6041397153945667,
          0.6144890038809832,
          0.610608020698577,
          0.5989650711513583,
          0.6144890038809832,
          0.6028460543337646,
          0.6002587322121604,
          0.6157826649417852,
          0.6093143596377749,
          0.6248382923673997,
          0.6326002587322122,
          0.6351875808538163,
          0.47089262613195343,
          0.5252263906856404,
          0.5342820181112549,
          0.5601552393272963,
          0.6028460543337646,
          0.6041397153945667,
          0.5976714100905562,
          0.6015523932729625,
          0.6131953428201811,
          0.6131953428201811,
          0.6054333764553687,
          0.610608020698577,
          0.6054333764553687,
          0.6054333764553687,
          0.5989650711513583,
          0.6015523932729625,
          0.6209573091849935,
          0.6196636481241915,
          0.6119016817593791,
          0.6183699870633894,
          0.6131953428201811,
          0.6209573091849935,
          0.610608020698577,
          0.610608020698577,
          0.6131953428201811,
          0.6248382923673997,
          0.6093143596377749,
          0.6131953428201811,
          0.6002587322121604,
          0.6002587322121604,
          0.6002587322121604,
          0.6067270375161707,
          0.5510996119016818,
          0.5769728331177232,
          0.5899094437257438,
          0.5847347994825356
         ],
         "yaxis": "y2"
        },
        {
         "marker": {
          "color": "#2ca02c",
          "size": 10
         },
         "mode": "markers",
         "name": "Baseline",
         "showlegend": true,
         "type": "scatter",
         "x": [
          null
         ],
         "xaxis": "x",
         "y": [
          null
         ],
         "yaxis": "y"
        },
        {
         "marker": {
          "color": "#d62728",
          "size": 10
         },
         "mode": "markers",
         "name": "Jailbreak Rollouts",
         "showlegend": true,
         "type": "scatter",
         "x": [
          null
         ],
         "xaxis": "x",
         "y": [
          null
         ],
         "yaxis": "y"
        },
        {
         "marker": {
          "color": "#ff7f0e",
          "size": 10
         },
         "mode": "markers",
         "name": "Role/Trait Rollouts",
         "showlegend": true,
         "type": "scatter",
         "x": [
          null
         ],
         "xaxis": "x",
         "y": [
          null
         ],
         "yaxis": "y"
        },
        {
         "marker": {
          "color": "#9467bd",
          "size": 10
         },
         "mode": "markers",
         "name": "LMSYS-10K Rollouts",
         "showlegend": true,
         "type": "scatter",
         "x": [
          null
         ],
         "xaxis": "x",
         "y": [
          null
         ],
         "yaxis": "y"
        }
       ],
       "layout": {
        "annotations": [
         {
          "font": {
           "size": 16
          },
          "showarrow": false,
          "text": "Prompt-level Accuracy",
          "x": 0.5,
          "xanchor": "center",
          "xref": "paper",
          "y": 1,
          "yanchor": "bottom",
          "yref": "paper"
         },
         {
          "font": {
           "size": 16
          },
          "showarrow": false,
          "text": "Instruction-level Accuracy",
          "x": 0.5,
          "xanchor": "center",
          "xref": "paper",
          "y": 0.44,
          "yanchor": "bottom",
          "yref": "paper"
         },
         {
          "showarrow": false,
          "text": "<span style='font-size:10px'>Projection caps in each bar group<br>(L-R) strict to relaxed</span>",
          "x": 1,
          "xanchor": "right",
          "xref": "paper",
          "y": 1,
          "yanchor": "top",
          "yref": "paper"
         }
        ],
        "height": 900,
        "legend": {
         "orientation": "h",
         "x": 1,
         "xanchor": "right",
         "y": 1.08,
         "yanchor": "bottom"
        },
        "margin": {
         "b": 100,
         "t": 150
        },
        "shapes": [
         {
          "line": {
           "color": "green",
           "dash": "dot",
           "width": 1
          },
          "opacity": 0.8,
          "type": "line",
          "x0": 0,
          "x1": 1,
          "xref": "x domain",
          "y0": 0.468,
          "y1": 0.468,
          "yref": "y"
         },
         {
          "line": {
           "color": "green",
           "dash": "dot",
           "width": 1
          },
          "opacity": 0.8,
          "type": "line",
          "x0": 0,
          "x1": 1,
          "xref": "x2 domain",
          "y0": 0.6015523932729625,
          "y1": 0.6015523932729625,
          "yref": "y2"
         }
        ],
        "template": {
         "data": {
          "bar": [
           {
            "error_x": {
             "color": "#2a3f5f"
            },
            "error_y": {
             "color": "#2a3f5f"
            },
            "marker": {
             "line": {
              "color": "#E5ECF6",
              "width": 0.5
             },
             "pattern": {
              "fillmode": "overlay",
              "size": 10,
              "solidity": 0.2
             }
            },
            "type": "bar"
           }
          ],
          "barpolar": [
           {
            "marker": {
             "line": {
              "color": "#E5ECF6",
              "width": 0.5
             },
             "pattern": {
              "fillmode": "overlay",
              "size": 10,
              "solidity": 0.2
             }
            },
            "type": "barpolar"
           }
          ],
          "carpet": [
           {
            "aaxis": {
             "endlinecolor": "#2a3f5f",
             "gridcolor": "white",
             "linecolor": "white",
             "minorgridcolor": "white",
             "startlinecolor": "#2a3f5f"
            },
            "baxis": {
             "endlinecolor": "#2a3f5f",
             "gridcolor": "white",
             "linecolor": "white",
             "minorgridcolor": "white",
             "startlinecolor": "#2a3f5f"
            },
            "type": "carpet"
           }
          ],
          "choropleth": [
           {
            "colorbar": {
             "outlinewidth": 0,
             "ticks": ""
            },
            "type": "choropleth"
           }
          ],
          "contour": [
           {
            "colorbar": {
             "outlinewidth": 0,
             "ticks": ""
            },
            "colorscale": [
             [
              0,
              "#0d0887"
             ],
             [
              0.1111111111111111,
              "#46039f"
             ],
             [
              0.2222222222222222,
              "#7201a8"
             ],
             [
              0.3333333333333333,
              "#9c179e"
             ],
             [
              0.4444444444444444,
              "#bd3786"
             ],
             [
              0.5555555555555556,
              "#d8576b"
             ],
             [
              0.6666666666666666,
              "#ed7953"
             ],
             [
              0.7777777777777778,
              "#fb9f3a"
             ],
             [
              0.8888888888888888,
              "#fdca26"
             ],
             [
              1,
              "#f0f921"
             ]
            ],
            "type": "contour"
           }
          ],
          "contourcarpet": [
           {
            "colorbar": {
             "outlinewidth": 0,
             "ticks": ""
            },
            "type": "contourcarpet"
           }
          ],
          "heatmap": [
           {
            "colorbar": {
             "outlinewidth": 0,
             "ticks": ""
            },
            "colorscale": [
             [
              0,
              "#0d0887"
             ],
             [
              0.1111111111111111,
              "#46039f"
             ],
             [
              0.2222222222222222,
              "#7201a8"
             ],
             [
              0.3333333333333333,
              "#9c179e"
             ],
             [
              0.4444444444444444,
              "#bd3786"
             ],
             [
              0.5555555555555556,
              "#d8576b"
             ],
             [
              0.6666666666666666,
              "#ed7953"
             ],
             [
              0.7777777777777778,
              "#fb9f3a"
             ],
             [
              0.8888888888888888,
              "#fdca26"
             ],
             [
              1,
              "#f0f921"
             ]
            ],
            "type": "heatmap"
           }
          ],
          "heatmapgl": [
           {
            "colorbar": {
             "outlinewidth": 0,
             "ticks": ""
            },
            "colorscale": [
             [
              0,
              "#0d0887"
             ],
             [
              0.1111111111111111,
              "#46039f"
             ],
             [
              0.2222222222222222,
              "#7201a8"
             ],
             [
              0.3333333333333333,
              "#9c179e"
             ],
             [
              0.4444444444444444,
              "#bd3786"
             ],
             [
              0.5555555555555556,
              "#d8576b"
             ],
             [
              0.6666666666666666,
              "#ed7953"
             ],
             [
              0.7777777777777778,
              "#fb9f3a"
             ],
             [
              0.8888888888888888,
              "#fdca26"
             ],
             [
              1,
              "#f0f921"
             ]
            ],
            "type": "heatmapgl"
           }
          ],
          "histogram": [
           {
            "marker": {
             "pattern": {
              "fillmode": "overlay",
              "size": 10,
              "solidity": 0.2
             }
            },
            "type": "histogram"
           }
          ],
          "histogram2d": [
           {
            "colorbar": {
             "outlinewidth": 0,
             "ticks": ""
            },
            "colorscale": [
             [
              0,
              "#0d0887"
             ],
             [
              0.1111111111111111,
              "#46039f"
             ],
             [
              0.2222222222222222,
              "#7201a8"
             ],
             [
              0.3333333333333333,
              "#9c179e"
             ],
             [
              0.4444444444444444,
              "#bd3786"
             ],
             [
              0.5555555555555556,
              "#d8576b"
             ],
             [
              0.6666666666666666,
              "#ed7953"
             ],
             [
              0.7777777777777778,
              "#fb9f3a"
             ],
             [
              0.8888888888888888,
              "#fdca26"
             ],
             [
              1,
              "#f0f921"
             ]
            ],
            "type": "histogram2d"
           }
          ],
          "histogram2dcontour": [
           {
            "colorbar": {
             "outlinewidth": 0,
             "ticks": ""
            },
            "colorscale": [
             [
              0,
              "#0d0887"
             ],
             [
              0.1111111111111111,
              "#46039f"
             ],
             [
              0.2222222222222222,
              "#7201a8"
             ],
             [
              0.3333333333333333,
              "#9c179e"
             ],
             [
              0.4444444444444444,
              "#bd3786"
             ],
             [
              0.5555555555555556,
              "#d8576b"
             ],
             [
              0.6666666666666666,
              "#ed7953"
             ],
             [
              0.7777777777777778,
              "#fb9f3a"
             ],
             [
              0.8888888888888888,
              "#fdca26"
             ],
             [
              1,
              "#f0f921"
             ]
            ],
            "type": "histogram2dcontour"
           }
          ],
          "mesh3d": [
           {
            "colorbar": {
             "outlinewidth": 0,
             "ticks": ""
            },
            "type": "mesh3d"
           }
          ],
          "parcoords": [
           {
            "line": {
             "colorbar": {
              "outlinewidth": 0,
              "ticks": ""
             }
            },
            "type": "parcoords"
           }
          ],
          "pie": [
           {
            "automargin": true,
            "type": "pie"
           }
          ],
          "scatter": [
           {
            "fillpattern": {
             "fillmode": "overlay",
             "size": 10,
             "solidity": 0.2
            },
            "type": "scatter"
           }
          ],
          "scatter3d": [
           {
            "line": {
             "colorbar": {
              "outlinewidth": 0,
              "ticks": ""
             }
            },
            "marker": {
             "colorbar": {
              "outlinewidth": 0,
              "ticks": ""
             }
            },
            "type": "scatter3d"
           }
          ],
          "scattercarpet": [
           {
            "marker": {
             "colorbar": {
              "outlinewidth": 0,
              "ticks": ""
             }
            },
            "type": "scattercarpet"
           }
          ],
          "scattergeo": [
           {
            "marker": {
             "colorbar": {
              "outlinewidth": 0,
              "ticks": ""
             }
            },
            "type": "scattergeo"
           }
          ],
          "scattergl": [
           {
            "marker": {
             "colorbar": {
              "outlinewidth": 0,
              "ticks": ""
             }
            },
            "type": "scattergl"
           }
          ],
          "scattermapbox": [
           {
            "marker": {
             "colorbar": {
              "outlinewidth": 0,
              "ticks": ""
             }
            },
            "type": "scattermapbox"
           }
          ],
          "scatterpolar": [
           {
            "marker": {
             "colorbar": {
              "outlinewidth": 0,
              "ticks": ""
             }
            },
            "type": "scatterpolar"
           }
          ],
          "scatterpolargl": [
           {
            "marker": {
             "colorbar": {
              "outlinewidth": 0,
              "ticks": ""
             }
            },
            "type": "scatterpolargl"
           }
          ],
          "scatterternary": [
           {
            "marker": {
             "colorbar": {
              "outlinewidth": 0,
              "ticks": ""
             }
            },
            "type": "scatterternary"
           }
          ],
          "surface": [
           {
            "colorbar": {
             "outlinewidth": 0,
             "ticks": ""
            },
            "colorscale": [
             [
              0,
              "#0d0887"
             ],
             [
              0.1111111111111111,
              "#46039f"
             ],
             [
              0.2222222222222222,
              "#7201a8"
             ],
             [
              0.3333333333333333,
              "#9c179e"
             ],
             [
              0.4444444444444444,
              "#bd3786"
             ],
             [
              0.5555555555555556,
              "#d8576b"
             ],
             [
              0.6666666666666666,
              "#ed7953"
             ],
             [
              0.7777777777777778,
              "#fb9f3a"
             ],
             [
              0.8888888888888888,
              "#fdca26"
             ],
             [
              1,
              "#f0f921"
             ]
            ],
            "type": "surface"
           }
          ],
          "table": [
           {
            "cells": {
             "fill": {
              "color": "#EBF0F8"
             },
             "line": {
              "color": "white"
             }
            },
            "header": {
             "fill": {
              "color": "#C8D4E3"
             },
             "line": {
              "color": "white"
             }
            },
            "type": "table"
           }
          ]
         },
         "layout": {
          "annotationdefaults": {
           "arrowcolor": "#2a3f5f",
           "arrowhead": 0,
           "arrowwidth": 1
          },
          "autotypenumbers": "strict",
          "coloraxis": {
           "colorbar": {
            "outlinewidth": 0,
            "ticks": ""
           }
          },
          "colorscale": {
           "diverging": [
            [
             0,
             "#8e0152"
            ],
            [
             0.1,
             "#c51b7d"
            ],
            [
             0.2,
             "#de77ae"
            ],
            [
             0.3,
             "#f1b6da"
            ],
            [
             0.4,
             "#fde0ef"
            ],
            [
             0.5,
             "#f7f7f7"
            ],
            [
             0.6,
             "#e6f5d0"
            ],
            [
             0.7,
             "#b8e186"
            ],
            [
             0.8,
             "#7fbc41"
            ],
            [
             0.9,
             "#4d9221"
            ],
            [
             1,
             "#276419"
            ]
           ],
           "sequential": [
            [
             0,
             "#0d0887"
            ],
            [
             0.1111111111111111,
             "#46039f"
            ],
            [
             0.2222222222222222,
             "#7201a8"
            ],
            [
             0.3333333333333333,
             "#9c179e"
            ],
            [
             0.4444444444444444,
             "#bd3786"
            ],
            [
             0.5555555555555556,
             "#d8576b"
            ],
            [
             0.6666666666666666,
             "#ed7953"
            ],
            [
             0.7777777777777778,
             "#fb9f3a"
            ],
            [
             0.8888888888888888,
             "#fdca26"
            ],
            [
             1,
             "#f0f921"
            ]
           ],
           "sequentialminus": [
            [
             0,
             "#0d0887"
            ],
            [
             0.1111111111111111,
             "#46039f"
            ],
            [
             0.2222222222222222,
             "#7201a8"
            ],
            [
             0.3333333333333333,
             "#9c179e"
            ],
            [
             0.4444444444444444,
             "#bd3786"
            ],
            [
             0.5555555555555556,
             "#d8576b"
            ],
            [
             0.6666666666666666,
             "#ed7953"
            ],
            [
             0.7777777777777778,
             "#fb9f3a"
            ],
            [
             0.8888888888888888,
             "#fdca26"
            ],
            [
             1,
             "#f0f921"
            ]
           ]
          },
          "colorway": [
           "#636efa",
           "#EF553B",
           "#00cc96",
           "#ab63fa",
           "#FFA15A",
           "#19d3f3",
           "#FF6692",
           "#B6E880",
           "#FF97FF",
           "#FECB52"
          ],
          "font": {
           "color": "#2a3f5f"
          },
          "geo": {
           "bgcolor": "white",
           "lakecolor": "white",
           "landcolor": "#E5ECF6",
           "showlakes": true,
           "showland": true,
           "subunitcolor": "white"
          },
          "hoverlabel": {
           "align": "left"
          },
          "hovermode": "closest",
          "mapbox": {
           "style": "light"
          },
          "paper_bgcolor": "white",
          "plot_bgcolor": "#E5ECF6",
          "polar": {
           "angularaxis": {
            "gridcolor": "white",
            "linecolor": "white",
            "ticks": ""
           },
           "bgcolor": "#E5ECF6",
           "radialaxis": {
            "gridcolor": "white",
            "linecolor": "white",
            "ticks": ""
           }
          },
          "scene": {
           "xaxis": {
            "backgroundcolor": "#E5ECF6",
            "gridcolor": "white",
            "gridwidth": 2,
            "linecolor": "white",
            "showbackground": true,
            "ticks": "",
            "zerolinecolor": "white"
           },
           "yaxis": {
            "backgroundcolor": "#E5ECF6",
            "gridcolor": "white",
            "gridwidth": 2,
            "linecolor": "white",
            "showbackground": true,
            "ticks": "",
            "zerolinecolor": "white"
           },
           "zaxis": {
            "backgroundcolor": "#E5ECF6",
            "gridcolor": "white",
            "gridwidth": 2,
            "linecolor": "white",
            "showbackground": true,
            "ticks": "",
            "zerolinecolor": "white"
           }
          },
          "shapedefaults": {
           "line": {
            "color": "#2a3f5f"
           }
          },
          "ternary": {
           "aaxis": {
            "gridcolor": "white",
            "linecolor": "white",
            "ticks": ""
           },
           "baxis": {
            "gridcolor": "white",
            "linecolor": "white",
            "ticks": ""
           },
           "bgcolor": "#E5ECF6",
           "caxis": {
            "gridcolor": "white",
            "linecolor": "white",
            "ticks": ""
           }
          },
          "title": {
           "x": 0.05
          },
          "xaxis": {
           "automargin": true,
           "gridcolor": "white",
           "linecolor": "white",
           "ticks": "",
           "title": {
            "standoff": 15
           },
           "zerolinecolor": "white",
           "zerolinewidth": 2
          },
          "yaxis": {
           "automargin": true,
           "gridcolor": "white",
           "linecolor": "white",
           "ticks": "",
           "title": {
            "standoff": 15
           },
           "zerolinecolor": "white",
           "zerolinewidth": 2
          }
         }
        },
        "title": {
         "subtitle": {
          "text": "Qwen 3 32B, Single-Shot & No Thinking"
         },
         "text": "IFEval with Projection Capping"
        },
        "width": 1000,
        "xaxis": {
         "anchor": "y",
         "domain": [
          0,
          1
         ],
         "range": [
          -0.5,
          37.899999999999956
         ],
         "tickfont": {
          "size": 10
         },
         "tickmode": "array",
         "ticktext": [
          "Baseline",
          "All Layers (0-63)",
          "Every 2nd Layer",
          "Every 4th Layer",
          "Layers 32-63",
          "All Layers (0-63)",
          "Layers 0-15",
          "Layers 8-15",
          "Layers 16-23",
          "Layers 24-31",
          "Layers 32-39",
          "Layers 40-47",
          "Layers 48-55",
          "Layers 56-63",
          "All Layers (0-63)",
          "Layers 0-15",
          "Layers 8-15",
          "Layers 16-23",
          "Layers 24-31",
          "Layers 32-39",
          "Layers 40-47",
          "Layers 48-55",
          "Layers 56-63"
         ],
         "tickvals": [
          0,
          1.0999999999999999,
          2.8,
          4.5,
          6.200000000000001,
          7.900000000000002,
          9.600000000000001,
          11.300000000000004,
          13.000000000000004,
          14.700000000000006,
          16.400000000000006,
          18.1,
          19.799999999999997,
          21.499999999999993,
          23.19999999999999,
          24.899999999999984,
          26.59999999999998,
          28.299999999999976,
          29.99999999999997,
          31.699999999999967,
          33.39999999999996,
          35.099999999999966,
          36.799999999999955
         ]
        },
        "xaxis2": {
         "anchor": "y2",
         "domain": [
          0,
          1
         ],
         "range": [
          -0.5,
          37.899999999999956
         ],
         "tickfont": {
          "size": 10
         },
         "tickmode": "array",
         "ticktext": [
          "Baseline",
          "All Layers (0-63)",
          "Every 2nd Layer",
          "Every 4th Layer",
          "Layers 32-63",
          "All Layers (0-63)",
          "Layers 0-15",
          "Layers 8-15",
          "Layers 16-23",
          "Layers 24-31",
          "Layers 32-39",
          "Layers 40-47",
          "Layers 48-55",
          "Layers 56-63",
          "All Layers (0-63)",
          "Layers 0-15",
          "Layers 8-15",
          "Layers 16-23",
          "Layers 24-31",
          "Layers 32-39",
          "Layers 40-47",
          "Layers 48-55",
          "Layers 56-63"
         ],
         "tickvals": [
          0,
          1.0999999999999999,
          2.8,
          4.5,
          6.200000000000001,
          7.900000000000002,
          9.600000000000001,
          11.300000000000004,
          13.000000000000004,
          14.700000000000006,
          16.400000000000006,
          18.1,
          19.799999999999997,
          21.499999999999993,
          23.19999999999999,
          24.899999999999984,
          26.59999999999998,
          28.299999999999976,
          29.99999999999997,
          31.699999999999967,
          33.39999999999996,
          35.099999999999966,
          36.799999999999955
         ],
         "title": {
          "text": "Intervention Layers"
         }
        },
        "yaxis": {
         "anchor": "x",
         "domain": [
          0.56,
          1
         ],
         "range": [
          0,
          0.8
         ],
         "tickfont": {
          "size": 10
         },
         "title": {
          "text": "Score"
         }
        },
        "yaxis2": {
         "anchor": "x2",
         "domain": [
          0,
          0.44
         ],
         "range": [
          0,
          0.8
         ],
         "tickfont": {
          "size": 10
         },
         "title": {
          "text": "Score"
         }
        }
       }
      },
      "text/html": [
       "<div>                            <div id=\"f6bd7756-6148-40cc-9902-b8d8e320ea61\" class=\"plotly-graph-div\" style=\"height:900px; width:1000px;\"></div>            <script type=\"text/javascript\">                require([\"plotly\"], function(Plotly) {                    window.PLOTLYENV=window.PLOTLYENV || {};                                    if (document.getElementById(\"f6bd7756-6148-40cc-9902-b8d8e320ea61\")) {                    Plotly.newPlot(                        \"f6bd7756-6148-40cc-9902-b8d8e320ea61\",                        [{\"customdata\":[[\"Baseline\",\"baseline\"],[\"All Layers (0-63), Safe 99th\",\"jailbreak\"],[\"All Layers (0-63), Safe 50th\",\"jailbreak\"],[\"All Layers (0-63), Harm 99th\",\"jailbreak\"],[\"All Layers (0-63), Harm 75th\",\"jailbreak\"],[\"Every 2nd Layer, Safe 99th\",\"jailbreak\"],[\"Every 2nd Layer, Safe 50th\",\"jailbreak\"],[\"Every 2nd Layer, Harm 99th\",\"jailbreak\"],[\"Every 2nd Layer, Harm 75th\",\"jailbreak\"],[\"Every 4th Layer, Safe 99th\",\"jailbreak\"],[\"Every 4th Layer, Safe 50th\",\"jailbreak\"],[\"Every 4th Layer, Harm 99th\",\"jailbreak\"],[\"Every 4th Layer, Harm 75th\",\"jailbreak\"],[\"Layers 32-63, Safe 99th\",\"jailbreak\"],[\"Layers 32-63, Safe 50th\",\"jailbreak\"],[\"Layers 32-63, Harm 99th\",\"jailbreak\"],[\"Layers 32-63, Harm 75th\",\"jailbreak\"],[\"All Layers (0-63), 1st\",\"role_trait\"],[\"All Layers (0-63), 25th\",\"role_trait\"],[\"All Layers (0-63), 50th\",\"role_trait\"],[\"All Layers (0-63), 75th\",\"role_trait\"],[\"Layers 0-15, 1st\",\"role_trait\"],[\"Layers 0-15, 25th\",\"role_trait\"],[\"Layers 0-15, 50th\",\"role_trait\"],[\"Layers 0-15, 75th\",\"role_trait\"],[\"Layers 8-15, 1st\",\"role_trait\"],[\"Layers 8-15, 25th\",\"role_trait\"],[\"Layers 8-15, 50th\",\"role_trait\"],[\"Layers 8-15, 75th\",\"role_trait\"],[\"Layers 16-23, 1st\",\"role_trait\"],[\"Layers 16-23, 25th\",\"role_trait\"],[\"Layers 16-23, 50th\",\"role_trait\"],[\"Layers 16-23, 75th\",\"role_trait\"],[\"Layers 24-31, 1st\",\"role_trait\"],[\"Layers 24-31, 25th\",\"role_trait\"],[\"Layers 24-31, 50th\",\"role_trait\"],[\"Layers 24-31, 75th\",\"role_trait\"],[\"Layers 32-39, 1st\",\"role_trait\"],[\"Layers 32-39, 25th\",\"role_trait\"],[\"Layers 32-39, 50th\",\"role_trait\"],[\"Layers 32-39, 75th\",\"role_trait\"],[\"Layers 40-47, 1st\",\"role_trait\"],[\"Layers 40-47, 25th\",\"role_trait\"],[\"Layers 40-47, 50th\",\"role_trait\"],[\"Layers 40-47, 75th\",\"role_trait\"],[\"Layers 48-55, 1st\",\"role_trait\"],[\"Layers 48-55, 25th\",\"role_trait\"],[\"Layers 48-55, 50th\",\"role_trait\"],[\"Layers 48-55, 75th\",\"role_trait\"],[\"Layers 56-63, 1st\",\"role_trait\"],[\"Layers 56-63, 25th\",\"role_trait\"],[\"Layers 56-63, 50th\",\"role_trait\"],[\"Layers 56-63, 75th\",\"role_trait\"],[\"All Layers (0-63), 1st\",\"lmsys_10000\"],[\"All Layers (0-63), 25th\",\"lmsys_10000\"],[\"All Layers (0-63), 50th\",\"lmsys_10000\"],[\"All Layers (0-63), 75th\",\"lmsys_10000\"],[\"Layers 0-15, 1st\",\"lmsys_10000\"],[\"Layers 0-15, 25th\",\"lmsys_10000\"],[\"Layers 0-15, 50th\",\"lmsys_10000\"],[\"Layers 0-15, 75th\",\"lmsys_10000\"],[\"Layers 8-15, 1st\",\"lmsys_10000\"],[\"Layers 8-15, 25th\",\"lmsys_10000\"],[\"Layers 8-15, 50th\",\"lmsys_10000\"],[\"Layers 8-15, 75th\",\"lmsys_10000\"],[\"Layers 16-23, 1st\",\"lmsys_10000\"],[\"Layers 16-23, 25th\",\"lmsys_10000\"],[\"Layers 16-23, 50th\",\"lmsys_10000\"],[\"Layers 16-23, 75th\",\"lmsys_10000\"],[\"Layers 24-31, 1st\",\"lmsys_10000\"],[\"Layers 24-31, 25th\",\"lmsys_10000\"],[\"Layers 24-31, 50th\",\"lmsys_10000\"],[\"Layers 24-31, 75th\",\"lmsys_10000\"],[\"Layers 32-39, 1st\",\"lmsys_10000\"],[\"Layers 32-39, 25th\",\"lmsys_10000\"],[\"Layers 32-39, 50th\",\"lmsys_10000\"],[\"Layers 32-39, 75th\",\"lmsys_10000\"],[\"Layers 40-47, 1st\",\"lmsys_10000\"],[\"Layers 40-47, 25th\",\"lmsys_10000\"],[\"Layers 40-47, 50th\",\"lmsys_10000\"],[\"Layers 40-47, 75th\",\"lmsys_10000\"],[\"Layers 48-55, 1st\",\"lmsys_10000\"],[\"Layers 48-55, 25th\",\"lmsys_10000\"],[\"Layers 48-55, 50th\",\"lmsys_10000\"],[\"Layers 48-55, 75th\",\"lmsys_10000\"],[\"Layers 56-63, 1st\",\"lmsys_10000\"],[\"Layers 56-63, 25th\",\"lmsys_10000\"],[\"Layers 56-63, 50th\",\"lmsys_10000\"],[\"Layers 56-63, 75th\",\"lmsys_10000\"]],\"error_y\":{\"array\":[0.022337186479044296,0.02187429930168918,0.02209471322976179,0.02206494331392886,0.022149790663861947,0.022374298166353144,0.022383074051792257,0.022382894986483586,0.022380208834928014,0.022380208834928014,0.022382894986483586,0.022382357781962105,0.022382357781962105,0.02216263442665287,0.022198954641476896,0.021966635293832883,0.02201748257812769,0.022331264423258324,0.022382894986483586,0.022376626797927058,0.022382357781962105,0.022352791650914174,0.02236139673920787,0.022318338119870523,0.022352791650914174,0.022357273881016475,0.022371610982580396,0.022371610982580396,0.022347949832668024,0.022352791650914174,0.022374298166353144,0.022374298166353144,0.02236139673920787,0.02236139673920787,0.022374298166353144,0.022371610982580396,0.022374298166353144,0.022378596989230864,0.022382357781962105,0.022382357781962105,0.022382894986483586,0.022371610982580396,0.022371610982580396,0.022368565117387874,0.022347949832668024,0.022374298166353144,0.022347949832668024,0.022352791650914174,0.022378596989230864,0.0223427481925028,0.022381462412439424,0.022381462412439424,0.022378596989230864,0.02104961216613478,0.021660710347204473,0.021893529941665716,0.022136577335085575,0.022357273881016475,0.022337186479044296,0.022324981738385333,0.022352791650914174,0.022374298166353144,0.022378596989230864,0.022347949832668024,0.022368565117387874,0.022368565117387874,0.022357273881016475,0.022318338119870523,0.022337186479044296,0.022382357781962105,0.022380208834928014,0.022371610982580396,0.022374298166353144,0.022374298166353144,0.022383074051792257,0.022378596989230864,0.022376626797927058,0.022380208834928014,0.022382894986483586,0.022365160424231326,0.022380208834928014,0.022357273881016475,0.022352791650914174,0.022347949832668024,0.022352791650914174,0.021948929609938706,0.022242244375731048,0.022261697292270087,0.022261697292270087],\"thickness\":0.5,\"type\":\"data\",\"visible\":true},\"hovertemplate\":\"%{customdata[0]}\\u003cbr\\u003eConfig: %{customdata[1]}\\u003cbr\\u003eValue: %{y:.1%}\\u003cextra\\u003e\\u003c\\u002fextra\\u003e\",\"marker\":{\"color\":[\"#2ca02c\",\"#d62728\",\"#d62728\",\"#d62728\",\"#d62728\",\"#d62728\",\"#d62728\",\"#d62728\",\"#d62728\",\"#d62728\",\"#d62728\",\"#d62728\",\"#d62728\",\"#d62728\",\"#d62728\",\"#d62728\",\"#d62728\",\"#ff7f0e\",\"#ff7f0e\",\"#ff7f0e\",\"#ff7f0e\",\"#ff7f0e\",\"#ff7f0e\",\"#ff7f0e\",\"#ff7f0e\",\"#ff7f0e\",\"#ff7f0e\",\"#ff7f0e\",\"#ff7f0e\",\"#ff7f0e\",\"#ff7f0e\",\"#ff7f0e\",\"#ff7f0e\",\"#ff7f0e\",\"#ff7f0e\",\"#ff7f0e\",\"#ff7f0e\",\"#ff7f0e\",\"#ff7f0e\",\"#ff7f0e\",\"#ff7f0e\",\"#ff7f0e\",\"#ff7f0e\",\"#ff7f0e\",\"#ff7f0e\",\"#ff7f0e\",\"#ff7f0e\",\"#ff7f0e\",\"#ff7f0e\",\"#ff7f0e\",\"#ff7f0e\",\"#ff7f0e\",\"#ff7f0e\",\"#9467bd\",\"#9467bd\",\"#9467bd\",\"#9467bd\",\"#9467bd\",\"#9467bd\",\"#9467bd\",\"#9467bd\",\"#9467bd\",\"#9467bd\",\"#9467bd\",\"#9467bd\",\"#9467bd\",\"#9467bd\",\"#9467bd\",\"#9467bd\",\"#9467bd\",\"#9467bd\",\"#9467bd\",\"#9467bd\",\"#9467bd\",\"#9467bd\",\"#9467bd\",\"#9467bd\",\"#9467bd\",\"#9467bd\",\"#9467bd\",\"#9467bd\",\"#9467bd\",\"#9467bd\",\"#9467bd\",\"#9467bd\",\"#9467bd\",\"#9467bd\",\"#9467bd\",\"#9467bd\"]},\"name\":\"Prompt-level Accuracy\",\"opacity\":0.8,\"showlegend\":false,\"width\":0.35,\"x\":[0.0,0.5,0.8999999999999999,1.2999999999999998,1.6999999999999997,2.1999999999999997,2.5999999999999996,2.9999999999999996,3.3999999999999995,3.8999999999999995,4.3,4.7,5.1000000000000005,5.6000000000000005,6.000000000000001,6.400000000000001,6.800000000000002,7.300000000000002,7.700000000000002,8.100000000000001,8.500000000000002,9.000000000000002,9.400000000000002,9.800000000000002,10.200000000000003,10.700000000000003,11.100000000000003,11.500000000000004,11.900000000000004,12.400000000000004,12.800000000000004,13.200000000000005,13.600000000000005,14.100000000000005,14.500000000000005,14.900000000000006,15.300000000000006,15.800000000000006,16.200000000000006,16.600000000000005,17.000000000000004,17.500000000000004,17.900000000000002,18.3,18.7,19.2,19.599999999999998,19.999999999999996,20.399999999999995,20.899999999999995,21.299999999999994,21.699999999999992,22.09999999999999,22.59999999999999,22.99999999999999,23.399999999999988,23.799999999999986,24.299999999999986,24.699999999999985,25.099999999999984,25.499999999999982,25.999999999999982,26.39999999999998,26.79999999999998,27.199999999999978,27.699999999999978,28.099999999999977,28.499999999999975,28.899999999999974,29.399999999999974,29.799999999999972,30.19999999999997,30.59999999999997,31.09999999999997,31.499999999999968,31.899999999999967,32.29999999999997,32.79999999999997,33.19999999999997,33.599999999999966,33.999999999999964,34.499999999999964,34.89999999999996,35.29999999999996,35.69999999999996,36.19999999999996,36.59999999999996,36.99999999999996,37.399999999999956],\"y\":[0.468,0.394,0.42,0.416,0.428,0.486,0.5,0.502,0.508,0.492,0.502,0.496,0.504,0.43,0.436,0.404,0.41,0.466,0.502,0.512,0.504,0.474,0.478,0.462,0.474,0.476,0.484,0.484,0.472,0.474,0.486,0.486,0.478,0.478,0.486,0.484,0.486,0.49,0.496,0.504,0.498,0.484,0.484,0.482,0.472,0.486,0.472,0.474,0.49,0.47,0.494,0.506,0.51,0.33,0.374,0.396,0.426,0.476,0.468,0.464,0.474,0.486,0.49,0.472,0.482,0.482,0.476,0.462,0.468,0.496,0.492,0.484,0.486,0.486,0.5,0.49,0.488,0.492,0.498,0.48,0.492,0.476,0.474,0.472,0.474,0.402,0.444,0.448,0.448],\"type\":\"bar\",\"xaxis\":\"x\",\"yaxis\":\"y\"},{\"customdata\":[[\"Baseline\",\"baseline\"],[\"All Layers (0-63), Safe 99th\",\"jailbreak\"],[\"All Layers (0-63), Safe 50th\",\"jailbreak\"],[\"All Layers (0-63), Harm 99th\",\"jailbreak\"],[\"All Layers (0-63), Harm 75th\",\"jailbreak\"],[\"Every 2nd Layer, Safe 99th\",\"jailbreak\"],[\"Every 2nd Layer, Safe 50th\",\"jailbreak\"],[\"Every 2nd Layer, Harm 99th\",\"jailbreak\"],[\"Every 2nd Layer, Harm 75th\",\"jailbreak\"],[\"Every 4th Layer, Safe 99th\",\"jailbreak\"],[\"Every 4th Layer, Safe 50th\",\"jailbreak\"],[\"Every 4th Layer, Harm 99th\",\"jailbreak\"],[\"Every 4th Layer, Harm 75th\",\"jailbreak\"],[\"Layers 32-63, Safe 99th\",\"jailbreak\"],[\"Layers 32-63, Safe 50th\",\"jailbreak\"],[\"Layers 32-63, Harm 99th\",\"jailbreak\"],[\"Layers 32-63, Harm 75th\",\"jailbreak\"],[\"All Layers (0-63), 1st\",\"role_trait\"],[\"All Layers (0-63), 25th\",\"role_trait\"],[\"All Layers (0-63), 50th\",\"role_trait\"],[\"All Layers (0-63), 75th\",\"role_trait\"],[\"Layers 0-15, 1st\",\"role_trait\"],[\"Layers 0-15, 25th\",\"role_trait\"],[\"Layers 0-15, 50th\",\"role_trait\"],[\"Layers 0-15, 75th\",\"role_trait\"],[\"Layers 8-15, 1st\",\"role_trait\"],[\"Layers 8-15, 25th\",\"role_trait\"],[\"Layers 8-15, 50th\",\"role_trait\"],[\"Layers 8-15, 75th\",\"role_trait\"],[\"Layers 16-23, 1st\",\"role_trait\"],[\"Layers 16-23, 25th\",\"role_trait\"],[\"Layers 16-23, 50th\",\"role_trait\"],[\"Layers 16-23, 75th\",\"role_trait\"],[\"Layers 24-31, 1st\",\"role_trait\"],[\"Layers 24-31, 25th\",\"role_trait\"],[\"Layers 24-31, 50th\",\"role_trait\"],[\"Layers 24-31, 75th\",\"role_trait\"],[\"Layers 32-39, 1st\",\"role_trait\"],[\"Layers 32-39, 25th\",\"role_trait\"],[\"Layers 32-39, 50th\",\"role_trait\"],[\"Layers 32-39, 75th\",\"role_trait\"],[\"Layers 40-47, 1st\",\"role_trait\"],[\"Layers 40-47, 25th\",\"role_trait\"],[\"Layers 40-47, 50th\",\"role_trait\"],[\"Layers 40-47, 75th\",\"role_trait\"],[\"Layers 48-55, 1st\",\"role_trait\"],[\"Layers 48-55, 25th\",\"role_trait\"],[\"Layers 48-55, 50th\",\"role_trait\"],[\"Layers 48-55, 75th\",\"role_trait\"],[\"Layers 56-63, 1st\",\"role_trait\"],[\"Layers 56-63, 25th\",\"role_trait\"],[\"Layers 56-63, 50th\",\"role_trait\"],[\"Layers 56-63, 75th\",\"role_trait\"],[\"All Layers (0-63), 1st\",\"lmsys_10000\"],[\"All Layers (0-63), 25th\",\"lmsys_10000\"],[\"All Layers (0-63), 50th\",\"lmsys_10000\"],[\"All Layers (0-63), 75th\",\"lmsys_10000\"],[\"Layers 0-15, 1st\",\"lmsys_10000\"],[\"Layers 0-15, 25th\",\"lmsys_10000\"],[\"Layers 0-15, 50th\",\"lmsys_10000\"],[\"Layers 0-15, 75th\",\"lmsys_10000\"],[\"Layers 8-15, 1st\",\"lmsys_10000\"],[\"Layers 8-15, 25th\",\"lmsys_10000\"],[\"Layers 8-15, 50th\",\"lmsys_10000\"],[\"Layers 8-15, 75th\",\"lmsys_10000\"],[\"Layers 16-23, 1st\",\"lmsys_10000\"],[\"Layers 16-23, 25th\",\"lmsys_10000\"],[\"Layers 16-23, 50th\",\"lmsys_10000\"],[\"Layers 16-23, 75th\",\"lmsys_10000\"],[\"Layers 24-31, 1st\",\"lmsys_10000\"],[\"Layers 24-31, 25th\",\"lmsys_10000\"],[\"Layers 24-31, 50th\",\"lmsys_10000\"],[\"Layers 24-31, 75th\",\"lmsys_10000\"],[\"Layers 32-39, 1st\",\"lmsys_10000\"],[\"Layers 32-39, 25th\",\"lmsys_10000\"],[\"Layers 32-39, 50th\",\"lmsys_10000\"],[\"Layers 32-39, 75th\",\"lmsys_10000\"],[\"Layers 40-47, 1st\",\"lmsys_10000\"],[\"Layers 40-47, 25th\",\"lmsys_10000\"],[\"Layers 40-47, 50th\",\"lmsys_10000\"],[\"Layers 40-47, 75th\",\"lmsys_10000\"],[\"Layers 48-55, 1st\",\"lmsys_10000\"],[\"Layers 48-55, 25th\",\"lmsys_10000\"],[\"Layers 48-55, 50th\",\"lmsys_10000\"],[\"Layers 48-55, 75th\",\"lmsys_10000\"],[\"Layers 56-63, 1st\",\"lmsys_10000\"],[\"Layers 56-63, 25th\",\"lmsys_10000\"],[\"Layers 56-63, 50th\",\"lmsys_10000\"],[\"Layers 56-63, 75th\",\"lmsys_10000\"]],\"hovertemplate\":\"%{customdata[0]}\\u003cbr\\u003eConfig: %{customdata[1]}\\u003cbr\\u003eValue: %{y:.1%}\\u003cextra\\u003e\\u003c\\u002fextra\\u003e\",\"marker\":{\"color\":[\"#2ca02c\",\"#d62728\",\"#d62728\",\"#d62728\",\"#d62728\",\"#d62728\",\"#d62728\",\"#d62728\",\"#d62728\",\"#d62728\",\"#d62728\",\"#d62728\",\"#d62728\",\"#d62728\",\"#d62728\",\"#d62728\",\"#d62728\",\"#ff7f0e\",\"#ff7f0e\",\"#ff7f0e\",\"#ff7f0e\",\"#ff7f0e\",\"#ff7f0e\",\"#ff7f0e\",\"#ff7f0e\",\"#ff7f0e\",\"#ff7f0e\",\"#ff7f0e\",\"#ff7f0e\",\"#ff7f0e\",\"#ff7f0e\",\"#ff7f0e\",\"#ff7f0e\",\"#ff7f0e\",\"#ff7f0e\",\"#ff7f0e\",\"#ff7f0e\",\"#ff7f0e\",\"#ff7f0e\",\"#ff7f0e\",\"#ff7f0e\",\"#ff7f0e\",\"#ff7f0e\",\"#ff7f0e\",\"#ff7f0e\",\"#ff7f0e\",\"#ff7f0e\",\"#ff7f0e\",\"#ff7f0e\",\"#ff7f0e\",\"#ff7f0e\",\"#ff7f0e\",\"#ff7f0e\",\"#9467bd\",\"#9467bd\",\"#9467bd\",\"#9467bd\",\"#9467bd\",\"#9467bd\",\"#9467bd\",\"#9467bd\",\"#9467bd\",\"#9467bd\",\"#9467bd\",\"#9467bd\",\"#9467bd\",\"#9467bd\",\"#9467bd\",\"#9467bd\",\"#9467bd\",\"#9467bd\",\"#9467bd\",\"#9467bd\",\"#9467bd\",\"#9467bd\",\"#9467bd\",\"#9467bd\",\"#9467bd\",\"#9467bd\",\"#9467bd\",\"#9467bd\",\"#9467bd\",\"#9467bd\",\"#9467bd\",\"#9467bd\",\"#9467bd\",\"#9467bd\",\"#9467bd\",\"#9467bd\"]},\"name\":\"Instruction-level Accuracy\",\"opacity\":0.8,\"showlegend\":false,\"width\":0.35,\"x\":[0.0,0.5,0.8999999999999999,1.2999999999999998,1.6999999999999997,2.1999999999999997,2.5999999999999996,2.9999999999999996,3.3999999999999995,3.8999999999999995,4.3,4.7,5.1000000000000005,5.6000000000000005,6.000000000000001,6.400000000000001,6.800000000000002,7.300000000000002,7.700000000000002,8.100000000000001,8.500000000000002,9.000000000000002,9.400000000000002,9.800000000000002,10.200000000000003,10.700000000000003,11.100000000000003,11.500000000000004,11.900000000000004,12.400000000000004,12.800000000000004,13.200000000000005,13.600000000000005,14.100000000000005,14.500000000000005,14.900000000000006,15.300000000000006,15.800000000000006,16.200000000000006,16.600000000000005,17.000000000000004,17.500000000000004,17.900000000000002,18.3,18.7,19.2,19.599999999999998,19.999999999999996,20.399999999999995,20.899999999999995,21.299999999999994,21.699999999999992,22.09999999999999,22.59999999999999,22.99999999999999,23.399999999999988,23.799999999999986,24.299999999999986,24.699999999999985,25.099999999999984,25.499999999999982,25.999999999999982,26.39999999999998,26.79999999999998,27.199999999999978,27.699999999999978,28.099999999999977,28.499999999999975,28.899999999999974,29.399999999999974,29.799999999999972,30.19999999999997,30.59999999999997,31.09999999999997,31.499999999999968,31.899999999999967,32.29999999999997,32.79999999999997,33.19999999999997,33.599999999999966,33.999999999999964,34.499999999999964,34.89999999999996,35.29999999999996,35.69999999999996,36.19999999999996,36.59999999999996,36.99999999999996,37.399999999999956],\"y\":[0.6015523932729625,0.536869340232859,0.5614489003880984,0.5575679172056921,0.5549805950840879,0.6222509702457956,0.6274256144890039,0.6313065976714101,0.6326002587322122,0.6170763260025873,0.6222509702457956,0.6222509702457956,0.6209573091849935,0.5692108667529108,0.5679172056921087,0.5498059508408797,0.5549805950840879,0.5989650711513583,0.6274256144890039,0.6313065976714101,0.628719275549806,0.5976714100905562,0.6054333764553687,0.5950840879689522,0.5989650711513583,0.6067270375161707,0.610608020698577,0.6144890038809832,0.5989650711513583,0.6015523932729625,0.610608020698577,0.6131953428201811,0.6080206985769728,0.6131953428201811,0.6157826649417852,0.6093143596377749,0.6144890038809832,0.6157826649417852,0.6170763260025873,0.6222509702457956,0.6235446313065977,0.6041397153945667,0.6144890038809832,0.610608020698577,0.5989650711513583,0.6144890038809832,0.6028460543337646,0.6002587322121604,0.6157826649417852,0.6093143596377749,0.6248382923673997,0.6326002587322122,0.6351875808538163,0.47089262613195343,0.5252263906856404,0.5342820181112549,0.5601552393272963,0.6028460543337646,0.6041397153945667,0.5976714100905562,0.6015523932729625,0.6131953428201811,0.6131953428201811,0.6054333764553687,0.610608020698577,0.6054333764553687,0.6054333764553687,0.5989650711513583,0.6015523932729625,0.6209573091849935,0.6196636481241915,0.6119016817593791,0.6183699870633894,0.6131953428201811,0.6209573091849935,0.610608020698577,0.610608020698577,0.6131953428201811,0.6248382923673997,0.6093143596377749,0.6131953428201811,0.6002587322121604,0.6002587322121604,0.6002587322121604,0.6067270375161707,0.5510996119016818,0.5769728331177232,0.5899094437257438,0.5847347994825356],\"type\":\"bar\",\"xaxis\":\"x2\",\"yaxis\":\"y2\"},{\"marker\":{\"color\":\"#2ca02c\",\"size\":10},\"mode\":\"markers\",\"name\":\"Baseline\",\"showlegend\":true,\"x\":[null],\"y\":[null],\"type\":\"scatter\",\"xaxis\":\"x\",\"yaxis\":\"y\"},{\"marker\":{\"color\":\"#d62728\",\"size\":10},\"mode\":\"markers\",\"name\":\"Jailbreak Rollouts\",\"showlegend\":true,\"x\":[null],\"y\":[null],\"type\":\"scatter\",\"xaxis\":\"x\",\"yaxis\":\"y\"},{\"marker\":{\"color\":\"#ff7f0e\",\"size\":10},\"mode\":\"markers\",\"name\":\"Role\\u002fTrait Rollouts\",\"showlegend\":true,\"x\":[null],\"y\":[null],\"type\":\"scatter\",\"xaxis\":\"x\",\"yaxis\":\"y\"},{\"marker\":{\"color\":\"#9467bd\",\"size\":10},\"mode\":\"markers\",\"name\":\"LMSYS-10K Rollouts\",\"showlegend\":true,\"x\":[null],\"y\":[null],\"type\":\"scatter\",\"xaxis\":\"x\",\"yaxis\":\"y\"}],                        {\"template\":{\"data\":{\"histogram2dcontour\":[{\"type\":\"histogram2dcontour\",\"colorbar\":{\"outlinewidth\":0,\"ticks\":\"\"},\"colorscale\":[[0.0,\"#0d0887\"],[0.1111111111111111,\"#46039f\"],[0.2222222222222222,\"#7201a8\"],[0.3333333333333333,\"#9c179e\"],[0.4444444444444444,\"#bd3786\"],[0.5555555555555556,\"#d8576b\"],[0.6666666666666666,\"#ed7953\"],[0.7777777777777778,\"#fb9f3a\"],[0.8888888888888888,\"#fdca26\"],[1.0,\"#f0f921\"]]}],\"choropleth\":[{\"type\":\"choropleth\",\"colorbar\":{\"outlinewidth\":0,\"ticks\":\"\"}}],\"histogram2d\":[{\"type\":\"histogram2d\",\"colorbar\":{\"outlinewidth\":0,\"ticks\":\"\"},\"colorscale\":[[0.0,\"#0d0887\"],[0.1111111111111111,\"#46039f\"],[0.2222222222222222,\"#7201a8\"],[0.3333333333333333,\"#9c179e\"],[0.4444444444444444,\"#bd3786\"],[0.5555555555555556,\"#d8576b\"],[0.6666666666666666,\"#ed7953\"],[0.7777777777777778,\"#fb9f3a\"],[0.8888888888888888,\"#fdca26\"],[1.0,\"#f0f921\"]]}],\"heatmap\":[{\"type\":\"heatmap\",\"colorbar\":{\"outlinewidth\":0,\"ticks\":\"\"},\"colorscale\":[[0.0,\"#0d0887\"],[0.1111111111111111,\"#46039f\"],[0.2222222222222222,\"#7201a8\"],[0.3333333333333333,\"#9c179e\"],[0.4444444444444444,\"#bd3786\"],[0.5555555555555556,\"#d8576b\"],[0.6666666666666666,\"#ed7953\"],[0.7777777777777778,\"#fb9f3a\"],[0.8888888888888888,\"#fdca26\"],[1.0,\"#f0f921\"]]}],\"heatmapgl\":[{\"type\":\"heatmapgl\",\"colorbar\":{\"outlinewidth\":0,\"ticks\":\"\"},\"colorscale\":[[0.0,\"#0d0887\"],[0.1111111111111111,\"#46039f\"],[0.2222222222222222,\"#7201a8\"],[0.3333333333333333,\"#9c179e\"],[0.4444444444444444,\"#bd3786\"],[0.5555555555555556,\"#d8576b\"],[0.6666666666666666,\"#ed7953\"],[0.7777777777777778,\"#fb9f3a\"],[0.8888888888888888,\"#fdca26\"],[1.0,\"#f0f921\"]]}],\"contourcarpet\":[{\"type\":\"contourcarpet\",\"colorbar\":{\"outlinewidth\":0,\"ticks\":\"\"}}],\"contour\":[{\"type\":\"contour\",\"colorbar\":{\"outlinewidth\":0,\"ticks\":\"\"},\"colorscale\":[[0.0,\"#0d0887\"],[0.1111111111111111,\"#46039f\"],[0.2222222222222222,\"#7201a8\"],[0.3333333333333333,\"#9c179e\"],[0.4444444444444444,\"#bd3786\"],[0.5555555555555556,\"#d8576b\"],[0.6666666666666666,\"#ed7953\"],[0.7777777777777778,\"#fb9f3a\"],[0.8888888888888888,\"#fdca26\"],[1.0,\"#f0f921\"]]}],\"surface\":[{\"type\":\"surface\",\"colorbar\":{\"outlinewidth\":0,\"ticks\":\"\"},\"colorscale\":[[0.0,\"#0d0887\"],[0.1111111111111111,\"#46039f\"],[0.2222222222222222,\"#7201a8\"],[0.3333333333333333,\"#9c179e\"],[0.4444444444444444,\"#bd3786\"],[0.5555555555555556,\"#d8576b\"],[0.6666666666666666,\"#ed7953\"],[0.7777777777777778,\"#fb9f3a\"],[0.8888888888888888,\"#fdca26\"],[1.0,\"#f0f921\"]]}],\"mesh3d\":[{\"type\":\"mesh3d\",\"colorbar\":{\"outlinewidth\":0,\"ticks\":\"\"}}],\"scatter\":[{\"fillpattern\":{\"fillmode\":\"overlay\",\"size\":10,\"solidity\":0.2},\"type\":\"scatter\"}],\"parcoords\":[{\"type\":\"parcoords\",\"line\":{\"colorbar\":{\"outlinewidth\":0,\"ticks\":\"\"}}}],\"scatterpolargl\":[{\"type\":\"scatterpolargl\",\"marker\":{\"colorbar\":{\"outlinewidth\":0,\"ticks\":\"\"}}}],\"bar\":[{\"error_x\":{\"color\":\"#2a3f5f\"},\"error_y\":{\"color\":\"#2a3f5f\"},\"marker\":{\"line\":{\"color\":\"#E5ECF6\",\"width\":0.5},\"pattern\":{\"fillmode\":\"overlay\",\"size\":10,\"solidity\":0.2}},\"type\":\"bar\"}],\"scattergeo\":[{\"type\":\"scattergeo\",\"marker\":{\"colorbar\":{\"outlinewidth\":0,\"ticks\":\"\"}}}],\"scatterpolar\":[{\"type\":\"scatterpolar\",\"marker\":{\"colorbar\":{\"outlinewidth\":0,\"ticks\":\"\"}}}],\"histogram\":[{\"marker\":{\"pattern\":{\"fillmode\":\"overlay\",\"size\":10,\"solidity\":0.2}},\"type\":\"histogram\"}],\"scattergl\":[{\"type\":\"scattergl\",\"marker\":{\"colorbar\":{\"outlinewidth\":0,\"ticks\":\"\"}}}],\"scatter3d\":[{\"type\":\"scatter3d\",\"line\":{\"colorbar\":{\"outlinewidth\":0,\"ticks\":\"\"}},\"marker\":{\"colorbar\":{\"outlinewidth\":0,\"ticks\":\"\"}}}],\"scattermapbox\":[{\"type\":\"scattermapbox\",\"marker\":{\"colorbar\":{\"outlinewidth\":0,\"ticks\":\"\"}}}],\"scatterternary\":[{\"type\":\"scatterternary\",\"marker\":{\"colorbar\":{\"outlinewidth\":0,\"ticks\":\"\"}}}],\"scattercarpet\":[{\"type\":\"scattercarpet\",\"marker\":{\"colorbar\":{\"outlinewidth\":0,\"ticks\":\"\"}}}],\"carpet\":[{\"aaxis\":{\"endlinecolor\":\"#2a3f5f\",\"gridcolor\":\"white\",\"linecolor\":\"white\",\"minorgridcolor\":\"white\",\"startlinecolor\":\"#2a3f5f\"},\"baxis\":{\"endlinecolor\":\"#2a3f5f\",\"gridcolor\":\"white\",\"linecolor\":\"white\",\"minorgridcolor\":\"white\",\"startlinecolor\":\"#2a3f5f\"},\"type\":\"carpet\"}],\"table\":[{\"cells\":{\"fill\":{\"color\":\"#EBF0F8\"},\"line\":{\"color\":\"white\"}},\"header\":{\"fill\":{\"color\":\"#C8D4E3\"},\"line\":{\"color\":\"white\"}},\"type\":\"table\"}],\"barpolar\":[{\"marker\":{\"line\":{\"color\":\"#E5ECF6\",\"width\":0.5},\"pattern\":{\"fillmode\":\"overlay\",\"size\":10,\"solidity\":0.2}},\"type\":\"barpolar\"}],\"pie\":[{\"automargin\":true,\"type\":\"pie\"}]},\"layout\":{\"autotypenumbers\":\"strict\",\"colorway\":[\"#636efa\",\"#EF553B\",\"#00cc96\",\"#ab63fa\",\"#FFA15A\",\"#19d3f3\",\"#FF6692\",\"#B6E880\",\"#FF97FF\",\"#FECB52\"],\"font\":{\"color\":\"#2a3f5f\"},\"hovermode\":\"closest\",\"hoverlabel\":{\"align\":\"left\"},\"paper_bgcolor\":\"white\",\"plot_bgcolor\":\"#E5ECF6\",\"polar\":{\"bgcolor\":\"#E5ECF6\",\"angularaxis\":{\"gridcolor\":\"white\",\"linecolor\":\"white\",\"ticks\":\"\"},\"radialaxis\":{\"gridcolor\":\"white\",\"linecolor\":\"white\",\"ticks\":\"\"}},\"ternary\":{\"bgcolor\":\"#E5ECF6\",\"aaxis\":{\"gridcolor\":\"white\",\"linecolor\":\"white\",\"ticks\":\"\"},\"baxis\":{\"gridcolor\":\"white\",\"linecolor\":\"white\",\"ticks\":\"\"},\"caxis\":{\"gridcolor\":\"white\",\"linecolor\":\"white\",\"ticks\":\"\"}},\"coloraxis\":{\"colorbar\":{\"outlinewidth\":0,\"ticks\":\"\"}},\"colorscale\":{\"sequential\":[[0.0,\"#0d0887\"],[0.1111111111111111,\"#46039f\"],[0.2222222222222222,\"#7201a8\"],[0.3333333333333333,\"#9c179e\"],[0.4444444444444444,\"#bd3786\"],[0.5555555555555556,\"#d8576b\"],[0.6666666666666666,\"#ed7953\"],[0.7777777777777778,\"#fb9f3a\"],[0.8888888888888888,\"#fdca26\"],[1.0,\"#f0f921\"]],\"sequentialminus\":[[0.0,\"#0d0887\"],[0.1111111111111111,\"#46039f\"],[0.2222222222222222,\"#7201a8\"],[0.3333333333333333,\"#9c179e\"],[0.4444444444444444,\"#bd3786\"],[0.5555555555555556,\"#d8576b\"],[0.6666666666666666,\"#ed7953\"],[0.7777777777777778,\"#fb9f3a\"],[0.8888888888888888,\"#fdca26\"],[1.0,\"#f0f921\"]],\"diverging\":[[0,\"#8e0152\"],[0.1,\"#c51b7d\"],[0.2,\"#de77ae\"],[0.3,\"#f1b6da\"],[0.4,\"#fde0ef\"],[0.5,\"#f7f7f7\"],[0.6,\"#e6f5d0\"],[0.7,\"#b8e186\"],[0.8,\"#7fbc41\"],[0.9,\"#4d9221\"],[1,\"#276419\"]]},\"xaxis\":{\"gridcolor\":\"white\",\"linecolor\":\"white\",\"ticks\":\"\",\"title\":{\"standoff\":15},\"zerolinecolor\":\"white\",\"automargin\":true,\"zerolinewidth\":2},\"yaxis\":{\"gridcolor\":\"white\",\"linecolor\":\"white\",\"ticks\":\"\",\"title\":{\"standoff\":15},\"zerolinecolor\":\"white\",\"automargin\":true,\"zerolinewidth\":2},\"scene\":{\"xaxis\":{\"backgroundcolor\":\"#E5ECF6\",\"gridcolor\":\"white\",\"linecolor\":\"white\",\"showbackground\":true,\"ticks\":\"\",\"zerolinecolor\":\"white\",\"gridwidth\":2},\"yaxis\":{\"backgroundcolor\":\"#E5ECF6\",\"gridcolor\":\"white\",\"linecolor\":\"white\",\"showbackground\":true,\"ticks\":\"\",\"zerolinecolor\":\"white\",\"gridwidth\":2},\"zaxis\":{\"backgroundcolor\":\"#E5ECF6\",\"gridcolor\":\"white\",\"linecolor\":\"white\",\"showbackground\":true,\"ticks\":\"\",\"zerolinecolor\":\"white\",\"gridwidth\":2}},\"shapedefaults\":{\"line\":{\"color\":\"#2a3f5f\"}},\"annotationdefaults\":{\"arrowcolor\":\"#2a3f5f\",\"arrowhead\":0,\"arrowwidth\":1},\"geo\":{\"bgcolor\":\"white\",\"landcolor\":\"#E5ECF6\",\"subunitcolor\":\"white\",\"showland\":true,\"showlakes\":true,\"lakecolor\":\"white\"},\"title\":{\"x\":0.05},\"mapbox\":{\"style\":\"light\"}}},\"xaxis\":{\"anchor\":\"y\",\"domain\":[0.0,1.0],\"tickfont\":{\"size\":10},\"tickmode\":\"array\",\"tickvals\":[0.0,1.0999999999999999,2.8,4.5,6.200000000000001,7.900000000000002,9.600000000000001,11.300000000000004,13.000000000000004,14.700000000000006,16.400000000000006,18.1,19.799999999999997,21.499999999999993,23.19999999999999,24.899999999999984,26.59999999999998,28.299999999999976,29.99999999999997,31.699999999999967,33.39999999999996,35.099999999999966,36.799999999999955],\"ticktext\":[\"Baseline\",\"All Layers (0-63)\",\"Every 2nd Layer\",\"Every 4th Layer\",\"Layers 32-63\",\"All Layers (0-63)\",\"Layers 0-15\",\"Layers 8-15\",\"Layers 16-23\",\"Layers 24-31\",\"Layers 32-39\",\"Layers 40-47\",\"Layers 48-55\",\"Layers 56-63\",\"All Layers (0-63)\",\"Layers 0-15\",\"Layers 8-15\",\"Layers 16-23\",\"Layers 24-31\",\"Layers 32-39\",\"Layers 40-47\",\"Layers 48-55\",\"Layers 56-63\"],\"range\":[-0.5,37.899999999999956]},\"yaxis\":{\"anchor\":\"x\",\"domain\":[0.56,1.0],\"title\":{\"text\":\"Score\"},\"tickfont\":{\"size\":10},\"range\":[0,0.8]},\"xaxis2\":{\"anchor\":\"y2\",\"domain\":[0.0,1.0],\"title\":{\"text\":\"Intervention Layers\"},\"tickfont\":{\"size\":10},\"tickmode\":\"array\",\"tickvals\":[0.0,1.0999999999999999,2.8,4.5,6.200000000000001,7.900000000000002,9.600000000000001,11.300000000000004,13.000000000000004,14.700000000000006,16.400000000000006,18.1,19.799999999999997,21.499999999999993,23.19999999999999,24.899999999999984,26.59999999999998,28.299999999999976,29.99999999999997,31.699999999999967,33.39999999999996,35.099999999999966,36.799999999999955],\"ticktext\":[\"Baseline\",\"All Layers (0-63)\",\"Every 2nd Layer\",\"Every 4th Layer\",\"Layers 32-63\",\"All Layers (0-63)\",\"Layers 0-15\",\"Layers 8-15\",\"Layers 16-23\",\"Layers 24-31\",\"Layers 32-39\",\"Layers 40-47\",\"Layers 48-55\",\"Layers 56-63\",\"All Layers (0-63)\",\"Layers 0-15\",\"Layers 8-15\",\"Layers 16-23\",\"Layers 24-31\",\"Layers 32-39\",\"Layers 40-47\",\"Layers 48-55\",\"Layers 56-63\"],\"range\":[-0.5,37.899999999999956]},\"yaxis2\":{\"anchor\":\"x2\",\"domain\":[0.0,0.44],\"title\":{\"text\":\"Score\"},\"tickfont\":{\"size\":10},\"range\":[0,0.8]},\"annotations\":[{\"font\":{\"size\":16},\"showarrow\":false,\"text\":\"Prompt-level Accuracy\",\"x\":0.5,\"xanchor\":\"center\",\"xref\":\"paper\",\"y\":1.0,\"yanchor\":\"bottom\",\"yref\":\"paper\"},{\"font\":{\"size\":16},\"showarrow\":false,\"text\":\"Instruction-level Accuracy\",\"x\":0.5,\"xanchor\":\"center\",\"xref\":\"paper\",\"y\":0.44,\"yanchor\":\"bottom\",\"yref\":\"paper\"},{\"showarrow\":false,\"text\":\"\\u003cspan style='font-size:10px'\\u003eProjection caps in each bar group\\u003cbr\\u003e(L-R) strict to relaxed\\u003c\\u002fspan\\u003e\",\"x\":1,\"xanchor\":\"right\",\"xref\":\"paper\",\"y\":1,\"yanchor\":\"top\",\"yref\":\"paper\"}],\"shapes\":[{\"line\":{\"color\":\"green\",\"dash\":\"dot\",\"width\":1},\"opacity\":0.8,\"type\":\"line\",\"x0\":0,\"x1\":1,\"xref\":\"x domain\",\"y0\":0.468,\"y1\":0.468,\"yref\":\"y\"},{\"line\":{\"color\":\"green\",\"dash\":\"dot\",\"width\":1},\"opacity\":0.8,\"type\":\"line\",\"x0\":0,\"x1\":1,\"xref\":\"x2 domain\",\"y0\":0.6015523932729625,\"y1\":0.6015523932729625,\"yref\":\"y2\"}],\"legend\":{\"x\":1.0,\"y\":1.08,\"xanchor\":\"right\",\"yanchor\":\"bottom\",\"orientation\":\"h\"},\"title\":{\"subtitle\":{\"text\":\"Qwen 3 32B, Single-Shot & No Thinking\"},\"text\":\"IFEval with Projection Capping\"},\"margin\":{\"b\":100,\"t\":150},\"height\":900,\"width\":1000},                        {\"responsive\": true}                    ).then(function(){\n",
       "                            \n",
       "var gd = document.getElementById('f6bd7756-6148-40cc-9902-b8d8e320ea61');\n",
       "var x = new MutationObserver(function (mutations, observer) {{\n",
       "        var display = window.getComputedStyle(gd).display;\n",
       "        if (!display || display === 'none') {{\n",
       "            console.log([gd, 'removed!']);\n",
       "            Plotly.purge(gd);\n",
       "            observer.disconnect();\n",
       "        }}\n",
       "}});\n",
       "\n",
       "// Listen for the removal of the full notebook cells\n",
       "var notebookContainer = gd.closest('#notebook-container');\n",
       "if (notebookContainer) {{\n",
       "    x.observe(notebookContainer, {childList: true});\n",
       "}}\n",
       "\n",
       "// Listen for the clearing of the current output cell\n",
       "var outputEl = gd.closest('.output');\n",
       "if (outputEl) {{\n",
       "    x.observe(outputEl, {childList: true});\n",
       "}}\n",
       "\n",
       "                        })                };                });            </script>        </div>"
      ]
     },
     "metadata": {},
     "output_type": "display_data"
    }
   ],
   "source": [
    "# Filter to single baseline (keeping the one without thinking)\n",
    "\n",
    "# Plot using modular function\n",
    "fig = plot_benchmark_results(df, 'ifeval', \n",
    "                             title=\"IFEval with Projection Capping\", \n",
    "                             subtitle=subtitle,\n",
    "                             total_layers=total_layers)\n",
    "fig.show()\n",
    "#fig.write_html(f\"{out_dir}/ifeval.html\")"
   ]
  },
  {
   "cell_type": "markdown",
   "id": "1mi3p3gbyaj",
   "metadata": {},
   "source": [
    "## MMLU Pro"
   ]
  },
  {
   "cell_type": "code",
   "execution_count": null,
   "id": "tpgy091ejrg",
   "metadata": {},
   "outputs": [
    {
     "name": "stdout",
     "output_type": "stream",
     "text": [
      "Loaded 145 MMLU Pro experiment runs\n",
      "\n",
      "Config breakdown:\n",
      "  baseline: 1 unique experiments\n",
      "    - baseline (5 runs)\n",
      "  role_trait: 36 unique experiments\n",
      "    - layers_0:16-p0.01 (2 runs)\n",
      "    - layers_0:16-p0.25 (2 runs)\n",
      "    - layers_0:16-p0.5 (2 runs)\n",
      "    - layers_0:16-p0.75 (2 runs)\n",
      "    - layers_0:64-p0.01 (3 runs)\n",
      "    - layers_0:64-p0.25 (3 runs)\n",
      "    - layers_0:64-p0.5 (3 runs)\n",
      "    - layers_0:64-p0.75 (3 runs)\n",
      "    - layers_16:24-p0.01 (2 runs)\n",
      "    - layers_16:24-p0.25 (2 runs)\n",
      "    - layers_16:24-p0.5 (2 runs)\n",
      "    - layers_16:24-p0.75 (2 runs)\n",
      "    - layers_24:32-p0.01 (2 runs)\n",
      "    - layers_24:32-p0.25 (2 runs)\n",
      "    - layers_24:32-p0.5 (2 runs)\n",
      "    - layers_24:32-p0.75 (2 runs)\n",
      "    - layers_32:40-p0.01 (2 runs)\n",
      "    - layers_32:40-p0.25 (2 runs)\n",
      "    - layers_32:40-p0.5 (2 runs)\n",
      "    - layers_32:40-p0.75 (2 runs)\n",
      "    - layers_40:48-p0.01 (2 runs)\n",
      "    - layers_40:48-p0.25 (2 runs)\n",
      "    - layers_40:48-p0.5 (2 runs)\n",
      "    - layers_40:48-p0.75 (2 runs)\n",
      "    - layers_48:56-p0.01 (3 runs)\n",
      "    - layers_48:56-p0.25 (3 runs)\n",
      "    - layers_48:56-p0.5 (3 runs)\n",
      "    - layers_48:56-p0.75 (3 runs)\n",
      "    - layers_56:64-p0.01 (2 runs)\n",
      "    - layers_56:64-p0.25 (2 runs)\n",
      "    - layers_56:64-p0.5 (2 runs)\n",
      "    - layers_56:64-p0.75 (2 runs)\n",
      "    - layers_8:16-p0.01 (2 runs)\n",
      "    - layers_8:16-p0.25 (2 runs)\n",
      "    - layers_8:16-p0.5 (2 runs)\n",
      "    - layers_8:16-p0.75 (2 runs)\n",
      "  jailbreak: 16 unique experiments\n",
      "    - layers_0:64-harm_0.01 (1 run)\n",
      "    - layers_0:64-harm_0.25 (1 run)\n",
      "    - layers_0:64-safe_0.01 (1 run)\n",
      "    - layers_0:64-safe_0.50 (1 run)\n",
      "    - layers_2:64:2-harm_0.01 (1 run)\n",
      "    - layers_2:64:2-harm_0.25 (1 run)\n",
      "    - layers_2:64:2-safe_0.01 (1 run)\n",
      "    - layers_2:64:2-safe_0.50 (1 run)\n",
      "    - layers_32:64-harm_0.01 (1 run)\n",
      "    - layers_32:64-harm_0.25 (1 run)\n",
      "    - layers_32:64-safe_0.01 (1 run)\n",
      "    - layers_32:64-safe_0.50 (1 run)\n",
      "    - layers_4:64:4-harm_0.01 (1 run)\n",
      "    - layers_4:64:4-harm_0.25 (1 run)\n",
      "    - layers_4:64:4-safe_0.01 (1 run)\n",
      "    - layers_4:64:4-safe_0.50 (1 run)\n",
      "  lmsys_10000: 36 unique experiments\n",
      "    - layers_0:16-p0.01 (1 run)\n",
      "    - layers_0:16-p0.25 (1 run)\n",
      "    - layers_0:16-p0.5 (1 run)\n",
      "    - layers_0:16-p0.75 (1 run)\n",
      "    - layers_0:64-p0.01 (2 runs)\n",
      "    - layers_0:64-p0.25 (2 runs)\n",
      "    - layers_0:64-p0.5 (2 runs)\n",
      "    - layers_0:64-p0.75 (2 runs)\n",
      "    - layers_16:24-p0.01 (2 runs)\n",
      "    - layers_16:24-p0.25 (2 runs)\n",
      "    - layers_16:24-p0.5 (2 runs)\n",
      "    - layers_16:24-p0.75 (2 runs)\n",
      "    - layers_24:32-p0.01 (1 run)\n",
      "    - layers_24:32-p0.25 (1 run)\n",
      "    - layers_24:32-p0.5 (1 run)\n",
      "    - layers_24:32-p0.75 (1 run)\n",
      "    - layers_32:40-p0.01 (1 run)\n",
      "    - layers_32:40-p0.25 (1 run)\n",
      "    - layers_32:40-p0.5 (1 run)\n",
      "    - layers_32:40-p0.75 (1 run)\n",
      "    - layers_40:48-p0.01 (1 run)\n",
      "    - layers_40:48-p0.25 (1 run)\n",
      "    - layers_40:48-p0.5 (1 run)\n",
      "    - layers_40:48-p0.75 (1 run)\n",
      "    - layers_48:56-p0.01 (1 run)\n",
      "    - layers_48:56-p0.25 (1 run)\n",
      "    - layers_48:56-p0.5 (1 run)\n",
      "    - layers_48:56-p0.75 (1 run)\n",
      "    - layers_56:64-p0.01 (1 run)\n",
      "    - layers_56:64-p0.25 (1 run)\n",
      "    - layers_56:64-p0.5 (1 run)\n",
      "    - layers_56:64-p0.75 (1 run)\n",
      "    - layers_8:16-p0.01 (1 run)\n",
      "    - layers_8:16-p0.25 (1 run)\n",
      "    - layers_8:16-p0.5 (1 run)\n",
      "    - layers_8:16-p0.75 (1 run)\n"
     ]
    }
   ],
   "source": [
    "# Load MMLU Pro data\n",
    "df_mmlu = load_experiment_data([\"mmlu_pro\"], config_names, base_dir)\n",
    "print(f\"Loaded {len(df_mmlu)} MMLU Pro experiment runs\")\n",
    "print(f\"\\nConfig breakdown:\")\n",
    "for config in df_mmlu['config_name'].unique():\n",
    "    config_df = df_mmlu[df_mmlu['config_name'] == config]\n",
    "    unique_exps = config_df['experiment_id'].unique()\n",
    "    print(f\"  {config}: {len(unique_exps)} unique experiments\")\n",
    "    for exp in sorted(unique_exps):\n",
    "        exp_count = len(config_df[config_df['experiment_id'] == exp])\n",
    "        print(f\"    - {exp} ({exp_count} run{'s' if exp_count > 1 else ''})\")\n"
   ]
  },
  {
   "cell_type": "code",
   "execution_count": 29,
   "id": "a4de66fc",
   "metadata": {},
   "outputs": [
    {
     "data": {
      "text/html": [
       "<div>\n",
       "<style scoped>\n",
       "    .dataframe tbody tr th:only-of-type {\n",
       "        vertical-align: middle;\n",
       "    }\n",
       "\n",
       "    .dataframe tbody tr th {\n",
       "        vertical-align: top;\n",
       "    }\n",
       "\n",
       "    .dataframe thead th {\n",
       "        text-align: right;\n",
       "    }\n",
       "</style>\n",
       "<table border=\"1\" class=\"dataframe\">\n",
       "  <thead>\n",
       "    <tr style=\"text-align: right;\">\n",
       "      <th></th>\n",
       "      <th>experiment_id</th>\n",
       "      <th>config_name</th>\n",
       "      <th>thinking</th>\n",
       "      <th>apply_chat_template</th>\n",
       "      <th>vllm</th>\n",
       "      <th>max_gen_toks</th>\n",
       "      <th>dtype</th>\n",
       "      <th>exact_match,custom-extract</th>\n",
       "    </tr>\n",
       "  </thead>\n",
       "  <tbody>\n",
       "    <tr>\n",
       "      <th>65</th>\n",
       "      <td>layers_0:64-p0.75</td>\n",
       "      <td>role_trait</td>\n",
       "      <td>False</td>\n",
       "      <td>True</td>\n",
       "      <td>False</td>\n",
       "      <td>2048.0</td>\n",
       "      <td>bfloat16</td>\n",
       "      <td>0.665000</td>\n",
       "    </tr>\n",
       "    <tr>\n",
       "      <th>66</th>\n",
       "      <td>layers_0:64-p0.75</td>\n",
       "      <td>role_trait</td>\n",
       "      <td>False</td>\n",
       "      <td>True</td>\n",
       "      <td>True</td>\n",
       "      <td>512.0</td>\n",
       "      <td>bfloat16</td>\n",
       "      <td>0.486429</td>\n",
       "    </tr>\n",
       "    <tr>\n",
       "      <th>67</th>\n",
       "      <td>layers_0:64-p0.75</td>\n",
       "      <td>role_trait</td>\n",
       "      <td>False</td>\n",
       "      <td>True</td>\n",
       "      <td>True</td>\n",
       "      <td>NaN</td>\n",
       "      <td>float16</td>\n",
       "      <td>0.648571</td>\n",
       "    </tr>\n",
       "    <tr>\n",
       "      <th>68</th>\n",
       "      <td>layers_0:64-p0.5</td>\n",
       "      <td>role_trait</td>\n",
       "      <td>False</td>\n",
       "      <td>True</td>\n",
       "      <td>False</td>\n",
       "      <td>2048.0</td>\n",
       "      <td>bfloat16</td>\n",
       "      <td>0.643571</td>\n",
       "    </tr>\n",
       "    <tr>\n",
       "      <th>69</th>\n",
       "      <td>layers_0:64-p0.5</td>\n",
       "      <td>role_trait</td>\n",
       "      <td>False</td>\n",
       "      <td>True</td>\n",
       "      <td>True</td>\n",
       "      <td>512.0</td>\n",
       "      <td>bfloat16</td>\n",
       "      <td>0.487143</td>\n",
       "    </tr>\n",
       "    <tr>\n",
       "      <th>70</th>\n",
       "      <td>layers_0:64-p0.5</td>\n",
       "      <td>role_trait</td>\n",
       "      <td>False</td>\n",
       "      <td>True</td>\n",
       "      <td>True</td>\n",
       "      <td>NaN</td>\n",
       "      <td>float16</td>\n",
       "      <td>0.645000</td>\n",
       "    </tr>\n",
       "    <tr>\n",
       "      <th>71</th>\n",
       "      <td>layers_0:64-p0.25</td>\n",
       "      <td>role_trait</td>\n",
       "      <td>False</td>\n",
       "      <td>True</td>\n",
       "      <td>False</td>\n",
       "      <td>2048.0</td>\n",
       "      <td>bfloat16</td>\n",
       "      <td>0.640714</td>\n",
       "    </tr>\n",
       "    <tr>\n",
       "      <th>72</th>\n",
       "      <td>layers_0:64-p0.25</td>\n",
       "      <td>role_trait</td>\n",
       "      <td>False</td>\n",
       "      <td>True</td>\n",
       "      <td>True</td>\n",
       "      <td>512.0</td>\n",
       "      <td>bfloat16</td>\n",
       "      <td>0.485714</td>\n",
       "    </tr>\n",
       "    <tr>\n",
       "      <th>73</th>\n",
       "      <td>layers_0:64-p0.25</td>\n",
       "      <td>role_trait</td>\n",
       "      <td>False</td>\n",
       "      <td>True</td>\n",
       "      <td>True</td>\n",
       "      <td>NaN</td>\n",
       "      <td>float16</td>\n",
       "      <td>0.622143</td>\n",
       "    </tr>\n",
       "    <tr>\n",
       "      <th>74</th>\n",
       "      <td>layers_0:64-p0.01</td>\n",
       "      <td>role_trait</td>\n",
       "      <td>False</td>\n",
       "      <td>True</td>\n",
       "      <td>False</td>\n",
       "      <td>2048.0</td>\n",
       "      <td>bfloat16</td>\n",
       "      <td>0.580000</td>\n",
       "    </tr>\n",
       "    <tr>\n",
       "      <th>75</th>\n",
       "      <td>layers_0:64-p0.01</td>\n",
       "      <td>role_trait</td>\n",
       "      <td>False</td>\n",
       "      <td>True</td>\n",
       "      <td>True</td>\n",
       "      <td>512.0</td>\n",
       "      <td>bfloat16</td>\n",
       "      <td>0.460714</td>\n",
       "    </tr>\n",
       "    <tr>\n",
       "      <th>76</th>\n",
       "      <td>layers_0:64-p0.01</td>\n",
       "      <td>role_trait</td>\n",
       "      <td>False</td>\n",
       "      <td>True</td>\n",
       "      <td>True</td>\n",
       "      <td>NaN</td>\n",
       "      <td>float16</td>\n",
       "      <td>0.572857</td>\n",
       "    </tr>\n",
       "    <tr>\n",
       "      <th>97</th>\n",
       "      <td>layers_0:64-safe_0.50</td>\n",
       "      <td>jailbreak</td>\n",
       "      <td>False</td>\n",
       "      <td>True</td>\n",
       "      <td>False</td>\n",
       "      <td>NaN</td>\n",
       "      <td>bfloat16</td>\n",
       "      <td>0.635714</td>\n",
       "    </tr>\n",
       "    <tr>\n",
       "      <th>98</th>\n",
       "      <td>layers_0:64-safe_0.01</td>\n",
       "      <td>jailbreak</td>\n",
       "      <td>False</td>\n",
       "      <td>True</td>\n",
       "      <td>False</td>\n",
       "      <td>NaN</td>\n",
       "      <td>bfloat16</td>\n",
       "      <td>0.590000</td>\n",
       "    </tr>\n",
       "    <tr>\n",
       "      <th>99</th>\n",
       "      <td>layers_0:64-harm_0.25</td>\n",
       "      <td>jailbreak</td>\n",
       "      <td>False</td>\n",
       "      <td>True</td>\n",
       "      <td>False</td>\n",
       "      <td>NaN</td>\n",
       "      <td>bfloat16</td>\n",
       "      <td>0.660000</td>\n",
       "    </tr>\n",
       "    <tr>\n",
       "      <th>100</th>\n",
       "      <td>layers_0:64-harm_0.01</td>\n",
       "      <td>jailbreak</td>\n",
       "      <td>False</td>\n",
       "      <td>True</td>\n",
       "      <td>False</td>\n",
       "      <td>NaN</td>\n",
       "      <td>bfloat16</td>\n",
       "      <td>0.651429</td>\n",
       "    </tr>\n",
       "    <tr>\n",
       "      <th>137</th>\n",
       "      <td>layers_0:64-p0.75</td>\n",
       "      <td>lmsys_10000</td>\n",
       "      <td>False</td>\n",
       "      <td>True</td>\n",
       "      <td>False</td>\n",
       "      <td>NaN</td>\n",
       "      <td>bfloat16</td>\n",
       "      <td>0.660714</td>\n",
       "    </tr>\n",
       "    <tr>\n",
       "      <th>138</th>\n",
       "      <td>layers_0:64-p0.75</td>\n",
       "      <td>lmsys_10000</td>\n",
       "      <td>False</td>\n",
       "      <td>True</td>\n",
       "      <td>True</td>\n",
       "      <td>512.0</td>\n",
       "      <td>bfloat16</td>\n",
       "      <td>0.462143</td>\n",
       "    </tr>\n",
       "    <tr>\n",
       "      <th>139</th>\n",
       "      <td>layers_0:64-p0.5</td>\n",
       "      <td>lmsys_10000</td>\n",
       "      <td>False</td>\n",
       "      <td>True</td>\n",
       "      <td>False</td>\n",
       "      <td>NaN</td>\n",
       "      <td>bfloat16</td>\n",
       "      <td>0.647143</td>\n",
       "    </tr>\n",
       "    <tr>\n",
       "      <th>140</th>\n",
       "      <td>layers_0:64-p0.5</td>\n",
       "      <td>lmsys_10000</td>\n",
       "      <td>False</td>\n",
       "      <td>True</td>\n",
       "      <td>True</td>\n",
       "      <td>512.0</td>\n",
       "      <td>bfloat16</td>\n",
       "      <td>0.437143</td>\n",
       "    </tr>\n",
       "  </tbody>\n",
       "</table>\n",
       "</div>"
      ],
      "text/plain": [
       "             experiment_id  config_name  thinking  apply_chat_template   vllm  \\\n",
       "65       layers_0:64-p0.75   role_trait     False                 True  False   \n",
       "66       layers_0:64-p0.75   role_trait     False                 True   True   \n",
       "67       layers_0:64-p0.75   role_trait     False                 True   True   \n",
       "68        layers_0:64-p0.5   role_trait     False                 True  False   \n",
       "69        layers_0:64-p0.5   role_trait     False                 True   True   \n",
       "70        layers_0:64-p0.5   role_trait     False                 True   True   \n",
       "71       layers_0:64-p0.25   role_trait     False                 True  False   \n",
       "72       layers_0:64-p0.25   role_trait     False                 True   True   \n",
       "73       layers_0:64-p0.25   role_trait     False                 True   True   \n",
       "74       layers_0:64-p0.01   role_trait     False                 True  False   \n",
       "75       layers_0:64-p0.01   role_trait     False                 True   True   \n",
       "76       layers_0:64-p0.01   role_trait     False                 True   True   \n",
       "97   layers_0:64-safe_0.50    jailbreak     False                 True  False   \n",
       "98   layers_0:64-safe_0.01    jailbreak     False                 True  False   \n",
       "99   layers_0:64-harm_0.25    jailbreak     False                 True  False   \n",
       "100  layers_0:64-harm_0.01    jailbreak     False                 True  False   \n",
       "137      layers_0:64-p0.75  lmsys_10000     False                 True  False   \n",
       "138      layers_0:64-p0.75  lmsys_10000     False                 True   True   \n",
       "139       layers_0:64-p0.5  lmsys_10000     False                 True  False   \n",
       "140       layers_0:64-p0.5  lmsys_10000     False                 True   True   \n",
       "\n",
       "     max_gen_toks     dtype  exact_match,custom-extract  \n",
       "65         2048.0  bfloat16                    0.665000  \n",
       "66          512.0  bfloat16                    0.486429  \n",
       "67            NaN   float16                    0.648571  \n",
       "68         2048.0  bfloat16                    0.643571  \n",
       "69          512.0  bfloat16                    0.487143  \n",
       "70            NaN   float16                    0.645000  \n",
       "71         2048.0  bfloat16                    0.640714  \n",
       "72          512.0  bfloat16                    0.485714  \n",
       "73            NaN   float16                    0.622143  \n",
       "74         2048.0  bfloat16                    0.580000  \n",
       "75          512.0  bfloat16                    0.460714  \n",
       "76            NaN   float16                    0.572857  \n",
       "97            NaN  bfloat16                    0.635714  \n",
       "98            NaN  bfloat16                    0.590000  \n",
       "99            NaN  bfloat16                    0.660000  \n",
       "100           NaN  bfloat16                    0.651429  \n",
       "137           NaN  bfloat16                    0.660714  \n",
       "138         512.0  bfloat16                    0.462143  \n",
       "139           NaN  bfloat16                    0.647143  \n",
       "140         512.0  bfloat16                    0.437143  "
      ]
     },
     "execution_count": 29,
     "metadata": {},
     "output_type": "execute_result"
    }
   ],
   "source": [
    "# Filter for specific experiment_id and print the results\n",
    "filtered_df = df_mmlu[(df_mmlu['experiment_id'].str.startswith('layers_0:64'))]\n",
    "filtered_df[['experiment_id', 'config_name', 'thinking', 'apply_chat_template', 'vllm', 'max_gen_toks', 'dtype', 'exact_match,custom-extract']].head(20)"
   ]
  },
  {
   "cell_type": "code",
   "execution_count": null,
   "id": "f8d5bb0a",
   "metadata": {},
   "outputs": [
    {
     "data": {
      "application/vnd.plotly.v1+json": {
       "config": {
        "plotlyServerURL": "https://plot.ly"
       },
       "data": [
        {
         "customdata": [
          [
           "Baseline",
           "baseline"
          ],
          [
           "All Layers (0-63), Safe 99th",
           "jailbreak"
          ],
          [
           "All Layers (0-63), Safe 50th",
           "jailbreak"
          ],
          [
           "All Layers (0-63), Harm 99th",
           "jailbreak"
          ],
          [
           "All Layers (0-63), Harm 75th",
           "jailbreak"
          ],
          [
           "Every 2nd Layer, Safe 99th",
           "jailbreak"
          ],
          [
           "Every 2nd Layer, Safe 50th",
           "jailbreak"
          ],
          [
           "Every 2nd Layer, Harm 99th",
           "jailbreak"
          ],
          [
           "Every 2nd Layer, Harm 75th",
           "jailbreak"
          ],
          [
           "Every 4th Layer, Safe 99th",
           "jailbreak"
          ],
          [
           "Every 4th Layer, Safe 50th",
           "jailbreak"
          ],
          [
           "Every 4th Layer, Harm 99th",
           "jailbreak"
          ],
          [
           "Every 4th Layer, Harm 75th",
           "jailbreak"
          ],
          [
           "Layers 32-63, Safe 99th",
           "jailbreak"
          ],
          [
           "Layers 32-63, Safe 50th",
           "jailbreak"
          ],
          [
           "Layers 32-63, Harm 99th",
           "jailbreak"
          ],
          [
           "Layers 32-63, Harm 75th",
           "jailbreak"
          ],
          [
           "All Layers (0-63), 1st",
           "role_trait"
          ],
          [
           "All Layers (0-63), 25th",
           "role_trait"
          ],
          [
           "All Layers (0-63), 50th",
           "role_trait"
          ],
          [
           "All Layers (0-63), 75th",
           "role_trait"
          ],
          [
           "Layers 0-15, 1st",
           "role_trait"
          ],
          [
           "Layers 0-15, 25th",
           "role_trait"
          ],
          [
           "Layers 0-15, 50th",
           "role_trait"
          ],
          [
           "Layers 0-15, 75th",
           "role_trait"
          ],
          [
           "Layers 8-15, 1st",
           "role_trait"
          ],
          [
           "Layers 8-15, 25th",
           "role_trait"
          ],
          [
           "Layers 8-15, 50th",
           "role_trait"
          ],
          [
           "Layers 8-15, 75th",
           "role_trait"
          ],
          [
           "Layers 16-23, 1st",
           "role_trait"
          ],
          [
           "Layers 16-23, 25th",
           "role_trait"
          ],
          [
           "Layers 16-23, 50th",
           "role_trait"
          ],
          [
           "Layers 16-23, 75th",
           "role_trait"
          ],
          [
           "All Layers (0-63), 1st",
           "lmsys_10000"
          ],
          [
           "All Layers (0-63), 25th",
           "lmsys_10000"
          ],
          [
           "All Layers (0-63), 50th",
           "lmsys_10000"
          ],
          [
           "All Layers (0-63), 75th",
           "lmsys_10000"
          ],
          [
           "Layers 16-23, 1st",
           "lmsys_10000"
          ],
          [
           "Layers 16-23, 25th",
           "lmsys_10000"
          ],
          [
           "Layers 16-23, 50th",
           "lmsys_10000"
          ],
          [
           "Layers 16-23, 75th",
           "lmsys_10000"
          ]
         ],
         "error_y": {
          "array": [
           0.012284631986959975,
           0.012981600603786881,
           0.012556612678355426,
           0.012473017672635766,
           0.012270150213867473,
           0.012836282580421644,
           0.012505204029071224,
           0.012424996583292318,
           0.012213106362310525,
           0.012798084658800628,
           0.012514267264938594,
           0.012301191633538183,
           0.012223229470686254,
           0.012643731473668336,
           0.012424581801479739,
           0.01229071343640891,
           0.012216692589199682,
           0.01293307703333572,
           0.012709388294259685,
           0.012618230799341991,
           0.012352406318918438,
           0.012658803665643537,
           0.012497371399561493,
           0.012279386940742869,
           0.012287987641609774,
           0.012596770338635897,
           0.012265319156446058,
           0.012393017764095031,
           0.01224302964513992,
           0.01273652739471293,
           0.012489121219497055,
           0.012278337662630706,
           0.01222681272838304,
           0.012907948361410699,
           0.012683206985426361,
           0.012390522441858096,
           0.01234030122913908,
           0.012676907294806623,
           0.01255907500070057,
           0.012377621929680031,
           0.012319402451729418
          ],
          "thickness": 0.5,
          "type": "data",
          "visible": true
         },
         "hovertemplate": "%{customdata[0]}<br>Config: %{customdata[1]}<br>Value: %{y:.1%}<extra></extra>",
         "marker": {
          "color": [
           "#2ca02c",
           "#d62728",
           "#d62728",
           "#d62728",
           "#d62728",
           "#d62728",
           "#d62728",
           "#d62728",
           "#d62728",
           "#d62728",
           "#d62728",
           "#d62728",
           "#d62728",
           "#d62728",
           "#d62728",
           "#d62728",
           "#d62728",
           "#ff7f0e",
           "#ff7f0e",
           "#ff7f0e",
           "#ff7f0e",
           "#ff7f0e",
           "#ff7f0e",
           "#ff7f0e",
           "#ff7f0e",
           "#ff7f0e",
           "#ff7f0e",
           "#ff7f0e",
           "#ff7f0e",
           "#ff7f0e",
           "#ff7f0e",
           "#ff7f0e",
           "#ff7f0e",
           "#9467bd",
           "#9467bd",
           "#9467bd",
           "#9467bd",
           "#9467bd",
           "#9467bd",
           "#9467bd",
           "#9467bd"
          ]
         },
         "name": "Multiple Choice Exact Match Accuracy",
         "opacity": 0.8,
         "showlegend": false,
         "type": "bar",
         "width": 0.35,
         "x": [
          0,
          0.5,
          0.8999999999999999,
          1.2999999999999998,
          1.6999999999999997,
          2.1999999999999997,
          2.5999999999999996,
          2.9999999999999996,
          3.3999999999999995,
          3.8999999999999995,
          4.3,
          4.7,
          5.1000000000000005,
          5.6000000000000005,
          6.000000000000001,
          6.400000000000001,
          6.800000000000002,
          7.300000000000002,
          7.700000000000002,
          8.100000000000001,
          8.500000000000002,
          9.000000000000002,
          9.400000000000002,
          9.800000000000002,
          10.200000000000003,
          10.700000000000003,
          11.100000000000003,
          11.500000000000004,
          11.900000000000004,
          12.400000000000004,
          12.800000000000004,
          13.200000000000005,
          13.600000000000005,
          14.100000000000005,
          14.500000000000005,
          14.900000000000006,
          15.300000000000006,
          15.800000000000006,
          16.200000000000006,
          16.600000000000005,
          17.000000000000004
         ],
         "xaxis": "x",
         "y": [
          0.675,
          0.59,
          0.6357142857142857,
          0.6514285714285715,
          0.66,
          0.6114285714285714,
          0.65,
          0.6657142857142857,
          0.6807142857142857,
          0.6142857142857143,
          0.6542857142857142,
          0.67,
          0.6835714285714286,
          0.6257142857142857,
          0.6414285714285715,
          0.6614285714285715,
          0.6742857142857143,
          0.58,
          0.6407142857142857,
          0.6435714285714286,
          0.665,
          0.6271428571428571,
          0.6514285714285715,
          0.6728571428571428,
          0.6721428571428572,
          0.6428571428571429,
          0.6707142857142857,
          0.6657142857142857,
          0.6792857142857143,
          0.6221428571428571,
          0.6471428571428571,
          0.6721428571428572,
          0.6771428571428572,
          0.5857142857142857,
          0.6314285714285715,
          0.6471428571428571,
          0.6607142857142857,
          0.635,
          0.6457142857142857,
          0.6685714285714286,
          0.6721428571428572
         ],
         "yaxis": "y"
        },
        {
         "marker": {
          "color": "#2ca02c",
          "size": 10
         },
         "mode": "markers",
         "name": "Baseline",
         "showlegend": true,
         "type": "scatter",
         "x": [
          null
         ],
         "xaxis": "x",
         "y": [
          null
         ],
         "yaxis": "y"
        },
        {
         "marker": {
          "color": "#d62728",
          "size": 10
         },
         "mode": "markers",
         "name": "Jailbreak Rollouts",
         "showlegend": true,
         "type": "scatter",
         "x": [
          null
         ],
         "xaxis": "x",
         "y": [
          null
         ],
         "yaxis": "y"
        },
        {
         "marker": {
          "color": "#ff7f0e",
          "size": 10
         },
         "mode": "markers",
         "name": "Role/Trait Rollouts",
         "showlegend": true,
         "type": "scatter",
         "x": [
          null
         ],
         "xaxis": "x",
         "y": [
          null
         ],
         "yaxis": "y"
        },
        {
         "marker": {
          "color": "#9467bd",
          "size": 10
         },
         "mode": "markers",
         "name": "LMSYS-10K Rollouts",
         "showlegend": true,
         "type": "scatter",
         "x": [
          null
         ],
         "xaxis": "x",
         "y": [
          null
         ],
         "yaxis": "y"
        }
       ],
       "layout": {
        "annotations": [
         {
          "font": {
           "size": 16
          },
          "showarrow": false,
          "text": "Multiple Choice Exact Match Accuracy",
          "x": 0.5,
          "xanchor": "center",
          "xref": "paper",
          "y": 1,
          "yanchor": "bottom",
          "yref": "paper"
         },
         {
          "showarrow": false,
          "text": "<span style='font-size:10px'>Projection caps in each bar group<br>(L-R) strict to relaxed</span>",
          "x": 1,
          "xanchor": "right",
          "xref": "paper",
          "y": 1,
          "yanchor": "top",
          "yref": "paper"
         }
        ],
        "height": 550,
        "legend": {
         "orientation": "h",
         "x": 1,
         "xanchor": "right",
         "y": 1.08,
         "yanchor": "bottom"
        },
        "margin": {
         "b": 100,
         "t": 150
        },
        "shapes": [
         {
          "line": {
           "color": "green",
           "dash": "dot",
           "width": 1
          },
          "opacity": 0.8,
          "type": "line",
          "x0": 0,
          "x1": 1,
          "xref": "x domain",
          "y0": 0.675,
          "y1": 0.675,
          "yref": "y"
         }
        ],
        "template": {
         "data": {
          "bar": [
           {
            "error_x": {
             "color": "#2a3f5f"
            },
            "error_y": {
             "color": "#2a3f5f"
            },
            "marker": {
             "line": {
              "color": "#E5ECF6",
              "width": 0.5
             },
             "pattern": {
              "fillmode": "overlay",
              "size": 10,
              "solidity": 0.2
             }
            },
            "type": "bar"
           }
          ],
          "barpolar": [
           {
            "marker": {
             "line": {
              "color": "#E5ECF6",
              "width": 0.5
             },
             "pattern": {
              "fillmode": "overlay",
              "size": 10,
              "solidity": 0.2
             }
            },
            "type": "barpolar"
           }
          ],
          "carpet": [
           {
            "aaxis": {
             "endlinecolor": "#2a3f5f",
             "gridcolor": "white",
             "linecolor": "white",
             "minorgridcolor": "white",
             "startlinecolor": "#2a3f5f"
            },
            "baxis": {
             "endlinecolor": "#2a3f5f",
             "gridcolor": "white",
             "linecolor": "white",
             "minorgridcolor": "white",
             "startlinecolor": "#2a3f5f"
            },
            "type": "carpet"
           }
          ],
          "choropleth": [
           {
            "colorbar": {
             "outlinewidth": 0,
             "ticks": ""
            },
            "type": "choropleth"
           }
          ],
          "contour": [
           {
            "colorbar": {
             "outlinewidth": 0,
             "ticks": ""
            },
            "colorscale": [
             [
              0,
              "#0d0887"
             ],
             [
              0.1111111111111111,
              "#46039f"
             ],
             [
              0.2222222222222222,
              "#7201a8"
             ],
             [
              0.3333333333333333,
              "#9c179e"
             ],
             [
              0.4444444444444444,
              "#bd3786"
             ],
             [
              0.5555555555555556,
              "#d8576b"
             ],
             [
              0.6666666666666666,
              "#ed7953"
             ],
             [
              0.7777777777777778,
              "#fb9f3a"
             ],
             [
              0.8888888888888888,
              "#fdca26"
             ],
             [
              1,
              "#f0f921"
             ]
            ],
            "type": "contour"
           }
          ],
          "contourcarpet": [
           {
            "colorbar": {
             "outlinewidth": 0,
             "ticks": ""
            },
            "type": "contourcarpet"
           }
          ],
          "heatmap": [
           {
            "colorbar": {
             "outlinewidth": 0,
             "ticks": ""
            },
            "colorscale": [
             [
              0,
              "#0d0887"
             ],
             [
              0.1111111111111111,
              "#46039f"
             ],
             [
              0.2222222222222222,
              "#7201a8"
             ],
             [
              0.3333333333333333,
              "#9c179e"
             ],
             [
              0.4444444444444444,
              "#bd3786"
             ],
             [
              0.5555555555555556,
              "#d8576b"
             ],
             [
              0.6666666666666666,
              "#ed7953"
             ],
             [
              0.7777777777777778,
              "#fb9f3a"
             ],
             [
              0.8888888888888888,
              "#fdca26"
             ],
             [
              1,
              "#f0f921"
             ]
            ],
            "type": "heatmap"
           }
          ],
          "heatmapgl": [
           {
            "colorbar": {
             "outlinewidth": 0,
             "ticks": ""
            },
            "colorscale": [
             [
              0,
              "#0d0887"
             ],
             [
              0.1111111111111111,
              "#46039f"
             ],
             [
              0.2222222222222222,
              "#7201a8"
             ],
             [
              0.3333333333333333,
              "#9c179e"
             ],
             [
              0.4444444444444444,
              "#bd3786"
             ],
             [
              0.5555555555555556,
              "#d8576b"
             ],
             [
              0.6666666666666666,
              "#ed7953"
             ],
             [
              0.7777777777777778,
              "#fb9f3a"
             ],
             [
              0.8888888888888888,
              "#fdca26"
             ],
             [
              1,
              "#f0f921"
             ]
            ],
            "type": "heatmapgl"
           }
          ],
          "histogram": [
           {
            "marker": {
             "pattern": {
              "fillmode": "overlay",
              "size": 10,
              "solidity": 0.2
             }
            },
            "type": "histogram"
           }
          ],
          "histogram2d": [
           {
            "colorbar": {
             "outlinewidth": 0,
             "ticks": ""
            },
            "colorscale": [
             [
              0,
              "#0d0887"
             ],
             [
              0.1111111111111111,
              "#46039f"
             ],
             [
              0.2222222222222222,
              "#7201a8"
             ],
             [
              0.3333333333333333,
              "#9c179e"
             ],
             [
              0.4444444444444444,
              "#bd3786"
             ],
             [
              0.5555555555555556,
              "#d8576b"
             ],
             [
              0.6666666666666666,
              "#ed7953"
             ],
             [
              0.7777777777777778,
              "#fb9f3a"
             ],
             [
              0.8888888888888888,
              "#fdca26"
             ],
             [
              1,
              "#f0f921"
             ]
            ],
            "type": "histogram2d"
           }
          ],
          "histogram2dcontour": [
           {
            "colorbar": {
             "outlinewidth": 0,
             "ticks": ""
            },
            "colorscale": [
             [
              0,
              "#0d0887"
             ],
             [
              0.1111111111111111,
              "#46039f"
             ],
             [
              0.2222222222222222,
              "#7201a8"
             ],
             [
              0.3333333333333333,
              "#9c179e"
             ],
             [
              0.4444444444444444,
              "#bd3786"
             ],
             [
              0.5555555555555556,
              "#d8576b"
             ],
             [
              0.6666666666666666,
              "#ed7953"
             ],
             [
              0.7777777777777778,
              "#fb9f3a"
             ],
             [
              0.8888888888888888,
              "#fdca26"
             ],
             [
              1,
              "#f0f921"
             ]
            ],
            "type": "histogram2dcontour"
           }
          ],
          "mesh3d": [
           {
            "colorbar": {
             "outlinewidth": 0,
             "ticks": ""
            },
            "type": "mesh3d"
           }
          ],
          "parcoords": [
           {
            "line": {
             "colorbar": {
              "outlinewidth": 0,
              "ticks": ""
             }
            },
            "type": "parcoords"
           }
          ],
          "pie": [
           {
            "automargin": true,
            "type": "pie"
           }
          ],
          "scatter": [
           {
            "fillpattern": {
             "fillmode": "overlay",
             "size": 10,
             "solidity": 0.2
            },
            "type": "scatter"
           }
          ],
          "scatter3d": [
           {
            "line": {
             "colorbar": {
              "outlinewidth": 0,
              "ticks": ""
             }
            },
            "marker": {
             "colorbar": {
              "outlinewidth": 0,
              "ticks": ""
             }
            },
            "type": "scatter3d"
           }
          ],
          "scattercarpet": [
           {
            "marker": {
             "colorbar": {
              "outlinewidth": 0,
              "ticks": ""
             }
            },
            "type": "scattercarpet"
           }
          ],
          "scattergeo": [
           {
            "marker": {
             "colorbar": {
              "outlinewidth": 0,
              "ticks": ""
             }
            },
            "type": "scattergeo"
           }
          ],
          "scattergl": [
           {
            "marker": {
             "colorbar": {
              "outlinewidth": 0,
              "ticks": ""
             }
            },
            "type": "scattergl"
           }
          ],
          "scattermapbox": [
           {
            "marker": {
             "colorbar": {
              "outlinewidth": 0,
              "ticks": ""
             }
            },
            "type": "scattermapbox"
           }
          ],
          "scatterpolar": [
           {
            "marker": {
             "colorbar": {
              "outlinewidth": 0,
              "ticks": ""
             }
            },
            "type": "scatterpolar"
           }
          ],
          "scatterpolargl": [
           {
            "marker": {
             "colorbar": {
              "outlinewidth": 0,
              "ticks": ""
             }
            },
            "type": "scatterpolargl"
           }
          ],
          "scatterternary": [
           {
            "marker": {
             "colorbar": {
              "outlinewidth": 0,
              "ticks": ""
             }
            },
            "type": "scatterternary"
           }
          ],
          "surface": [
           {
            "colorbar": {
             "outlinewidth": 0,
             "ticks": ""
            },
            "colorscale": [
             [
              0,
              "#0d0887"
             ],
             [
              0.1111111111111111,
              "#46039f"
             ],
             [
              0.2222222222222222,
              "#7201a8"
             ],
             [
              0.3333333333333333,
              "#9c179e"
             ],
             [
              0.4444444444444444,
              "#bd3786"
             ],
             [
              0.5555555555555556,
              "#d8576b"
             ],
             [
              0.6666666666666666,
              "#ed7953"
             ],
             [
              0.7777777777777778,
              "#fb9f3a"
             ],
             [
              0.8888888888888888,
              "#fdca26"
             ],
             [
              1,
              "#f0f921"
             ]
            ],
            "type": "surface"
           }
          ],
          "table": [
           {
            "cells": {
             "fill": {
              "color": "#EBF0F8"
             },
             "line": {
              "color": "white"
             }
            },
            "header": {
             "fill": {
              "color": "#C8D4E3"
             },
             "line": {
              "color": "white"
             }
            },
            "type": "table"
           }
          ]
         },
         "layout": {
          "annotationdefaults": {
           "arrowcolor": "#2a3f5f",
           "arrowhead": 0,
           "arrowwidth": 1
          },
          "autotypenumbers": "strict",
          "coloraxis": {
           "colorbar": {
            "outlinewidth": 0,
            "ticks": ""
           }
          },
          "colorscale": {
           "diverging": [
            [
             0,
             "#8e0152"
            ],
            [
             0.1,
             "#c51b7d"
            ],
            [
             0.2,
             "#de77ae"
            ],
            [
             0.3,
             "#f1b6da"
            ],
            [
             0.4,
             "#fde0ef"
            ],
            [
             0.5,
             "#f7f7f7"
            ],
            [
             0.6,
             "#e6f5d0"
            ],
            [
             0.7,
             "#b8e186"
            ],
            [
             0.8,
             "#7fbc41"
            ],
            [
             0.9,
             "#4d9221"
            ],
            [
             1,
             "#276419"
            ]
           ],
           "sequential": [
            [
             0,
             "#0d0887"
            ],
            [
             0.1111111111111111,
             "#46039f"
            ],
            [
             0.2222222222222222,
             "#7201a8"
            ],
            [
             0.3333333333333333,
             "#9c179e"
            ],
            [
             0.4444444444444444,
             "#bd3786"
            ],
            [
             0.5555555555555556,
             "#d8576b"
            ],
            [
             0.6666666666666666,
             "#ed7953"
            ],
            [
             0.7777777777777778,
             "#fb9f3a"
            ],
            [
             0.8888888888888888,
             "#fdca26"
            ],
            [
             1,
             "#f0f921"
            ]
           ],
           "sequentialminus": [
            [
             0,
             "#0d0887"
            ],
            [
             0.1111111111111111,
             "#46039f"
            ],
            [
             0.2222222222222222,
             "#7201a8"
            ],
            [
             0.3333333333333333,
             "#9c179e"
            ],
            [
             0.4444444444444444,
             "#bd3786"
            ],
            [
             0.5555555555555556,
             "#d8576b"
            ],
            [
             0.6666666666666666,
             "#ed7953"
            ],
            [
             0.7777777777777778,
             "#fb9f3a"
            ],
            [
             0.8888888888888888,
             "#fdca26"
            ],
            [
             1,
             "#f0f921"
            ]
           ]
          },
          "colorway": [
           "#636efa",
           "#EF553B",
           "#00cc96",
           "#ab63fa",
           "#FFA15A",
           "#19d3f3",
           "#FF6692",
           "#B6E880",
           "#FF97FF",
           "#FECB52"
          ],
          "font": {
           "color": "#2a3f5f"
          },
          "geo": {
           "bgcolor": "white",
           "lakecolor": "white",
           "landcolor": "#E5ECF6",
           "showlakes": true,
           "showland": true,
           "subunitcolor": "white"
          },
          "hoverlabel": {
           "align": "left"
          },
          "hovermode": "closest",
          "mapbox": {
           "style": "light"
          },
          "paper_bgcolor": "white",
          "plot_bgcolor": "#E5ECF6",
          "polar": {
           "angularaxis": {
            "gridcolor": "white",
            "linecolor": "white",
            "ticks": ""
           },
           "bgcolor": "#E5ECF6",
           "radialaxis": {
            "gridcolor": "white",
            "linecolor": "white",
            "ticks": ""
           }
          },
          "scene": {
           "xaxis": {
            "backgroundcolor": "#E5ECF6",
            "gridcolor": "white",
            "gridwidth": 2,
            "linecolor": "white",
            "showbackground": true,
            "ticks": "",
            "zerolinecolor": "white"
           },
           "yaxis": {
            "backgroundcolor": "#E5ECF6",
            "gridcolor": "white",
            "gridwidth": 2,
            "linecolor": "white",
            "showbackground": true,
            "ticks": "",
            "zerolinecolor": "white"
           },
           "zaxis": {
            "backgroundcolor": "#E5ECF6",
            "gridcolor": "white",
            "gridwidth": 2,
            "linecolor": "white",
            "showbackground": true,
            "ticks": "",
            "zerolinecolor": "white"
           }
          },
          "shapedefaults": {
           "line": {
            "color": "#2a3f5f"
           }
          },
          "ternary": {
           "aaxis": {
            "gridcolor": "white",
            "linecolor": "white",
            "ticks": ""
           },
           "baxis": {
            "gridcolor": "white",
            "linecolor": "white",
            "ticks": ""
           },
           "bgcolor": "#E5ECF6",
           "caxis": {
            "gridcolor": "white",
            "linecolor": "white",
            "ticks": ""
           }
          },
          "title": {
           "x": 0.05
          },
          "xaxis": {
           "automargin": true,
           "gridcolor": "white",
           "linecolor": "white",
           "ticks": "",
           "title": {
            "standoff": 15
           },
           "zerolinecolor": "white",
           "zerolinewidth": 2
          },
          "yaxis": {
           "automargin": true,
           "gridcolor": "white",
           "linecolor": "white",
           "ticks": "",
           "title": {
            "standoff": 15
           },
           "zerolinecolor": "white",
           "zerolinewidth": 2
          }
         }
        },
        "title": {
         "subtitle": {
          "text": "Qwen 3 32B, Single-Shot & No Thinking"
         },
         "text": "MMLU Pro with Projection Capping"
        },
        "width": 1000,
        "xaxis": {
         "anchor": "y",
         "domain": [
          0,
          1
         ],
         "range": [
          -0.5,
          17.500000000000004
         ],
         "tickfont": {
          "size": 10
         },
         "tickmode": "array",
         "ticktext": [
          "Baseline",
          "All Layers (0-63)",
          "Every 2nd Layer",
          "Every 4th Layer",
          "Layers 32-63",
          "All Layers (0-63)",
          "Layers 0-15",
          "Layers 8-15",
          "Layers 16-23",
          "All Layers (0-63)",
          "Layers 16-23"
         ],
         "tickvals": [
          0,
          1.0999999999999999,
          2.8,
          4.5,
          6.200000000000001,
          7.900000000000002,
          9.600000000000001,
          11.300000000000004,
          13.000000000000004,
          14.700000000000006,
          16.400000000000006
         ],
         "title": {
          "text": "Intervention Layers"
         }
        },
        "yaxis": {
         "anchor": "x",
         "domain": [
          0,
          1
         ],
         "range": [
          0,
          0.8
         ],
         "tickfont": {
          "size": 10
         },
         "title": {
          "text": "Score"
         }
        }
       }
      },
      "text/html": [
       "<div>                            <div id=\"92e62b5f-38d2-48c2-b501-00147ac37186\" class=\"plotly-graph-div\" style=\"height:550px; width:1000px;\"></div>            <script type=\"text/javascript\">                require([\"plotly\"], function(Plotly) {                    window.PLOTLYENV=window.PLOTLYENV || {};                                    if (document.getElementById(\"92e62b5f-38d2-48c2-b501-00147ac37186\")) {                    Plotly.newPlot(                        \"92e62b5f-38d2-48c2-b501-00147ac37186\",                        [{\"customdata\":[[\"Baseline\",\"baseline\"],[\"All Layers (0-63), Safe 99th\",\"jailbreak\"],[\"All Layers (0-63), Safe 50th\",\"jailbreak\"],[\"All Layers (0-63), Harm 99th\",\"jailbreak\"],[\"All Layers (0-63), Harm 75th\",\"jailbreak\"],[\"Every 2nd Layer, Safe 99th\",\"jailbreak\"],[\"Every 2nd Layer, Safe 50th\",\"jailbreak\"],[\"Every 2nd Layer, Harm 99th\",\"jailbreak\"],[\"Every 2nd Layer, Harm 75th\",\"jailbreak\"],[\"Every 4th Layer, Safe 99th\",\"jailbreak\"],[\"Every 4th Layer, Safe 50th\",\"jailbreak\"],[\"Every 4th Layer, Harm 99th\",\"jailbreak\"],[\"Every 4th Layer, Harm 75th\",\"jailbreak\"],[\"Layers 32-63, Safe 99th\",\"jailbreak\"],[\"Layers 32-63, Safe 50th\",\"jailbreak\"],[\"Layers 32-63, Harm 99th\",\"jailbreak\"],[\"Layers 32-63, Harm 75th\",\"jailbreak\"],[\"All Layers (0-63), 1st\",\"role_trait\"],[\"All Layers (0-63), 25th\",\"role_trait\"],[\"All Layers (0-63), 50th\",\"role_trait\"],[\"All Layers (0-63), 75th\",\"role_trait\"],[\"Layers 0-15, 1st\",\"role_trait\"],[\"Layers 0-15, 25th\",\"role_trait\"],[\"Layers 0-15, 50th\",\"role_trait\"],[\"Layers 0-15, 75th\",\"role_trait\"],[\"Layers 8-15, 1st\",\"role_trait\"],[\"Layers 8-15, 25th\",\"role_trait\"],[\"Layers 8-15, 50th\",\"role_trait\"],[\"Layers 8-15, 75th\",\"role_trait\"],[\"Layers 16-23, 1st\",\"role_trait\"],[\"Layers 16-23, 25th\",\"role_trait\"],[\"Layers 16-23, 50th\",\"role_trait\"],[\"Layers 16-23, 75th\",\"role_trait\"],[\"All Layers (0-63), 1st\",\"lmsys_10000\"],[\"All Layers (0-63), 25th\",\"lmsys_10000\"],[\"All Layers (0-63), 50th\",\"lmsys_10000\"],[\"All Layers (0-63), 75th\",\"lmsys_10000\"],[\"Layers 16-23, 1st\",\"lmsys_10000\"],[\"Layers 16-23, 25th\",\"lmsys_10000\"],[\"Layers 16-23, 50th\",\"lmsys_10000\"],[\"Layers 16-23, 75th\",\"lmsys_10000\"]],\"error_y\":{\"array\":[0.012284631986959975,0.012981600603786881,0.012556612678355426,0.012473017672635766,0.012270150213867473,0.012836282580421644,0.012505204029071224,0.012424996583292318,0.012213106362310525,0.012798084658800628,0.012514267264938594,0.012301191633538183,0.012223229470686254,0.012643731473668336,0.012424581801479739,0.01229071343640891,0.012216692589199682,0.01293307703333572,0.012709388294259685,0.012618230799341991,0.012352406318918438,0.012658803665643537,0.012497371399561493,0.012279386940742869,0.012287987641609774,0.012596770338635897,0.012265319156446058,0.012393017764095031,0.01224302964513992,0.01273652739471293,0.012489121219497055,0.012278337662630706,0.01222681272838304,0.012907948361410699,0.012683206985426361,0.012390522441858096,0.01234030122913908,0.012676907294806623,0.01255907500070057,0.012377621929680031,0.012319402451729418],\"thickness\":0.5,\"type\":\"data\",\"visible\":true},\"hovertemplate\":\"%{customdata[0]}\\u003cbr\\u003eConfig: %{customdata[1]}\\u003cbr\\u003eValue: %{y:.1%}\\u003cextra\\u003e\\u003c\\u002fextra\\u003e\",\"marker\":{\"color\":[\"#2ca02c\",\"#d62728\",\"#d62728\",\"#d62728\",\"#d62728\",\"#d62728\",\"#d62728\",\"#d62728\",\"#d62728\",\"#d62728\",\"#d62728\",\"#d62728\",\"#d62728\",\"#d62728\",\"#d62728\",\"#d62728\",\"#d62728\",\"#ff7f0e\",\"#ff7f0e\",\"#ff7f0e\",\"#ff7f0e\",\"#ff7f0e\",\"#ff7f0e\",\"#ff7f0e\",\"#ff7f0e\",\"#ff7f0e\",\"#ff7f0e\",\"#ff7f0e\",\"#ff7f0e\",\"#ff7f0e\",\"#ff7f0e\",\"#ff7f0e\",\"#ff7f0e\",\"#9467bd\",\"#9467bd\",\"#9467bd\",\"#9467bd\",\"#9467bd\",\"#9467bd\",\"#9467bd\",\"#9467bd\"]},\"name\":\"Multiple Choice Exact Match Accuracy\",\"opacity\":0.8,\"showlegend\":false,\"width\":0.35,\"x\":[0.0,0.5,0.8999999999999999,1.2999999999999998,1.6999999999999997,2.1999999999999997,2.5999999999999996,2.9999999999999996,3.3999999999999995,3.8999999999999995,4.3,4.7,5.1000000000000005,5.6000000000000005,6.000000000000001,6.400000000000001,6.800000000000002,7.300000000000002,7.700000000000002,8.100000000000001,8.500000000000002,9.000000000000002,9.400000000000002,9.800000000000002,10.200000000000003,10.700000000000003,11.100000000000003,11.500000000000004,11.900000000000004,12.400000000000004,12.800000000000004,13.200000000000005,13.600000000000005,14.100000000000005,14.500000000000005,14.900000000000006,15.300000000000006,15.800000000000006,16.200000000000006,16.600000000000005,17.000000000000004],\"y\":[0.675,0.59,0.6357142857142857,0.6514285714285715,0.66,0.6114285714285714,0.65,0.6657142857142857,0.6807142857142857,0.6142857142857143,0.6542857142857142,0.67,0.6835714285714286,0.6257142857142857,0.6414285714285715,0.6614285714285715,0.6742857142857143,0.58,0.6407142857142857,0.6435714285714286,0.665,0.6271428571428571,0.6514285714285715,0.6728571428571428,0.6721428571428572,0.6428571428571429,0.6707142857142857,0.6657142857142857,0.6792857142857143,0.6221428571428571,0.6471428571428571,0.6721428571428572,0.6771428571428572,0.5857142857142857,0.6314285714285715,0.6471428571428571,0.6607142857142857,0.635,0.6457142857142857,0.6685714285714286,0.6721428571428572],\"type\":\"bar\",\"xaxis\":\"x\",\"yaxis\":\"y\"},{\"marker\":{\"color\":\"#2ca02c\",\"size\":10},\"mode\":\"markers\",\"name\":\"Baseline\",\"showlegend\":true,\"x\":[null],\"y\":[null],\"type\":\"scatter\",\"xaxis\":\"x\",\"yaxis\":\"y\"},{\"marker\":{\"color\":\"#d62728\",\"size\":10},\"mode\":\"markers\",\"name\":\"Jailbreak Rollouts\",\"showlegend\":true,\"x\":[null],\"y\":[null],\"type\":\"scatter\",\"xaxis\":\"x\",\"yaxis\":\"y\"},{\"marker\":{\"color\":\"#ff7f0e\",\"size\":10},\"mode\":\"markers\",\"name\":\"Role\\u002fTrait Rollouts\",\"showlegend\":true,\"x\":[null],\"y\":[null],\"type\":\"scatter\",\"xaxis\":\"x\",\"yaxis\":\"y\"},{\"marker\":{\"color\":\"#9467bd\",\"size\":10},\"mode\":\"markers\",\"name\":\"LMSYS-10K Rollouts\",\"showlegend\":true,\"x\":[null],\"y\":[null],\"type\":\"scatter\",\"xaxis\":\"x\",\"yaxis\":\"y\"}],                        {\"template\":{\"data\":{\"histogram2dcontour\":[{\"type\":\"histogram2dcontour\",\"colorbar\":{\"outlinewidth\":0,\"ticks\":\"\"},\"colorscale\":[[0.0,\"#0d0887\"],[0.1111111111111111,\"#46039f\"],[0.2222222222222222,\"#7201a8\"],[0.3333333333333333,\"#9c179e\"],[0.4444444444444444,\"#bd3786\"],[0.5555555555555556,\"#d8576b\"],[0.6666666666666666,\"#ed7953\"],[0.7777777777777778,\"#fb9f3a\"],[0.8888888888888888,\"#fdca26\"],[1.0,\"#f0f921\"]]}],\"choropleth\":[{\"type\":\"choropleth\",\"colorbar\":{\"outlinewidth\":0,\"ticks\":\"\"}}],\"histogram2d\":[{\"type\":\"histogram2d\",\"colorbar\":{\"outlinewidth\":0,\"ticks\":\"\"},\"colorscale\":[[0.0,\"#0d0887\"],[0.1111111111111111,\"#46039f\"],[0.2222222222222222,\"#7201a8\"],[0.3333333333333333,\"#9c179e\"],[0.4444444444444444,\"#bd3786\"],[0.5555555555555556,\"#d8576b\"],[0.6666666666666666,\"#ed7953\"],[0.7777777777777778,\"#fb9f3a\"],[0.8888888888888888,\"#fdca26\"],[1.0,\"#f0f921\"]]}],\"heatmap\":[{\"type\":\"heatmap\",\"colorbar\":{\"outlinewidth\":0,\"ticks\":\"\"},\"colorscale\":[[0.0,\"#0d0887\"],[0.1111111111111111,\"#46039f\"],[0.2222222222222222,\"#7201a8\"],[0.3333333333333333,\"#9c179e\"],[0.4444444444444444,\"#bd3786\"],[0.5555555555555556,\"#d8576b\"],[0.6666666666666666,\"#ed7953\"],[0.7777777777777778,\"#fb9f3a\"],[0.8888888888888888,\"#fdca26\"],[1.0,\"#f0f921\"]]}],\"heatmapgl\":[{\"type\":\"heatmapgl\",\"colorbar\":{\"outlinewidth\":0,\"ticks\":\"\"},\"colorscale\":[[0.0,\"#0d0887\"],[0.1111111111111111,\"#46039f\"],[0.2222222222222222,\"#7201a8\"],[0.3333333333333333,\"#9c179e\"],[0.4444444444444444,\"#bd3786\"],[0.5555555555555556,\"#d8576b\"],[0.6666666666666666,\"#ed7953\"],[0.7777777777777778,\"#fb9f3a\"],[0.8888888888888888,\"#fdca26\"],[1.0,\"#f0f921\"]]}],\"contourcarpet\":[{\"type\":\"contourcarpet\",\"colorbar\":{\"outlinewidth\":0,\"ticks\":\"\"}}],\"contour\":[{\"type\":\"contour\",\"colorbar\":{\"outlinewidth\":0,\"ticks\":\"\"},\"colorscale\":[[0.0,\"#0d0887\"],[0.1111111111111111,\"#46039f\"],[0.2222222222222222,\"#7201a8\"],[0.3333333333333333,\"#9c179e\"],[0.4444444444444444,\"#bd3786\"],[0.5555555555555556,\"#d8576b\"],[0.6666666666666666,\"#ed7953\"],[0.7777777777777778,\"#fb9f3a\"],[0.8888888888888888,\"#fdca26\"],[1.0,\"#f0f921\"]]}],\"surface\":[{\"type\":\"surface\",\"colorbar\":{\"outlinewidth\":0,\"ticks\":\"\"},\"colorscale\":[[0.0,\"#0d0887\"],[0.1111111111111111,\"#46039f\"],[0.2222222222222222,\"#7201a8\"],[0.3333333333333333,\"#9c179e\"],[0.4444444444444444,\"#bd3786\"],[0.5555555555555556,\"#d8576b\"],[0.6666666666666666,\"#ed7953\"],[0.7777777777777778,\"#fb9f3a\"],[0.8888888888888888,\"#fdca26\"],[1.0,\"#f0f921\"]]}],\"mesh3d\":[{\"type\":\"mesh3d\",\"colorbar\":{\"outlinewidth\":0,\"ticks\":\"\"}}],\"scatter\":[{\"fillpattern\":{\"fillmode\":\"overlay\",\"size\":10,\"solidity\":0.2},\"type\":\"scatter\"}],\"parcoords\":[{\"type\":\"parcoords\",\"line\":{\"colorbar\":{\"outlinewidth\":0,\"ticks\":\"\"}}}],\"scatterpolargl\":[{\"type\":\"scatterpolargl\",\"marker\":{\"colorbar\":{\"outlinewidth\":0,\"ticks\":\"\"}}}],\"bar\":[{\"error_x\":{\"color\":\"#2a3f5f\"},\"error_y\":{\"color\":\"#2a3f5f\"},\"marker\":{\"line\":{\"color\":\"#E5ECF6\",\"width\":0.5},\"pattern\":{\"fillmode\":\"overlay\",\"size\":10,\"solidity\":0.2}},\"type\":\"bar\"}],\"scattergeo\":[{\"type\":\"scattergeo\",\"marker\":{\"colorbar\":{\"outlinewidth\":0,\"ticks\":\"\"}}}],\"scatterpolar\":[{\"type\":\"scatterpolar\",\"marker\":{\"colorbar\":{\"outlinewidth\":0,\"ticks\":\"\"}}}],\"histogram\":[{\"marker\":{\"pattern\":{\"fillmode\":\"overlay\",\"size\":10,\"solidity\":0.2}},\"type\":\"histogram\"}],\"scattergl\":[{\"type\":\"scattergl\",\"marker\":{\"colorbar\":{\"outlinewidth\":0,\"ticks\":\"\"}}}],\"scatter3d\":[{\"type\":\"scatter3d\",\"line\":{\"colorbar\":{\"outlinewidth\":0,\"ticks\":\"\"}},\"marker\":{\"colorbar\":{\"outlinewidth\":0,\"ticks\":\"\"}}}],\"scattermapbox\":[{\"type\":\"scattermapbox\",\"marker\":{\"colorbar\":{\"outlinewidth\":0,\"ticks\":\"\"}}}],\"scatterternary\":[{\"type\":\"scatterternary\",\"marker\":{\"colorbar\":{\"outlinewidth\":0,\"ticks\":\"\"}}}],\"scattercarpet\":[{\"type\":\"scattercarpet\",\"marker\":{\"colorbar\":{\"outlinewidth\":0,\"ticks\":\"\"}}}],\"carpet\":[{\"aaxis\":{\"endlinecolor\":\"#2a3f5f\",\"gridcolor\":\"white\",\"linecolor\":\"white\",\"minorgridcolor\":\"white\",\"startlinecolor\":\"#2a3f5f\"},\"baxis\":{\"endlinecolor\":\"#2a3f5f\",\"gridcolor\":\"white\",\"linecolor\":\"white\",\"minorgridcolor\":\"white\",\"startlinecolor\":\"#2a3f5f\"},\"type\":\"carpet\"}],\"table\":[{\"cells\":{\"fill\":{\"color\":\"#EBF0F8\"},\"line\":{\"color\":\"white\"}},\"header\":{\"fill\":{\"color\":\"#C8D4E3\"},\"line\":{\"color\":\"white\"}},\"type\":\"table\"}],\"barpolar\":[{\"marker\":{\"line\":{\"color\":\"#E5ECF6\",\"width\":0.5},\"pattern\":{\"fillmode\":\"overlay\",\"size\":10,\"solidity\":0.2}},\"type\":\"barpolar\"}],\"pie\":[{\"automargin\":true,\"type\":\"pie\"}]},\"layout\":{\"autotypenumbers\":\"strict\",\"colorway\":[\"#636efa\",\"#EF553B\",\"#00cc96\",\"#ab63fa\",\"#FFA15A\",\"#19d3f3\",\"#FF6692\",\"#B6E880\",\"#FF97FF\",\"#FECB52\"],\"font\":{\"color\":\"#2a3f5f\"},\"hovermode\":\"closest\",\"hoverlabel\":{\"align\":\"left\"},\"paper_bgcolor\":\"white\",\"plot_bgcolor\":\"#E5ECF6\",\"polar\":{\"bgcolor\":\"#E5ECF6\",\"angularaxis\":{\"gridcolor\":\"white\",\"linecolor\":\"white\",\"ticks\":\"\"},\"radialaxis\":{\"gridcolor\":\"white\",\"linecolor\":\"white\",\"ticks\":\"\"}},\"ternary\":{\"bgcolor\":\"#E5ECF6\",\"aaxis\":{\"gridcolor\":\"white\",\"linecolor\":\"white\",\"ticks\":\"\"},\"baxis\":{\"gridcolor\":\"white\",\"linecolor\":\"white\",\"ticks\":\"\"},\"caxis\":{\"gridcolor\":\"white\",\"linecolor\":\"white\",\"ticks\":\"\"}},\"coloraxis\":{\"colorbar\":{\"outlinewidth\":0,\"ticks\":\"\"}},\"colorscale\":{\"sequential\":[[0.0,\"#0d0887\"],[0.1111111111111111,\"#46039f\"],[0.2222222222222222,\"#7201a8\"],[0.3333333333333333,\"#9c179e\"],[0.4444444444444444,\"#bd3786\"],[0.5555555555555556,\"#d8576b\"],[0.6666666666666666,\"#ed7953\"],[0.7777777777777778,\"#fb9f3a\"],[0.8888888888888888,\"#fdca26\"],[1.0,\"#f0f921\"]],\"sequentialminus\":[[0.0,\"#0d0887\"],[0.1111111111111111,\"#46039f\"],[0.2222222222222222,\"#7201a8\"],[0.3333333333333333,\"#9c179e\"],[0.4444444444444444,\"#bd3786\"],[0.5555555555555556,\"#d8576b\"],[0.6666666666666666,\"#ed7953\"],[0.7777777777777778,\"#fb9f3a\"],[0.8888888888888888,\"#fdca26\"],[1.0,\"#f0f921\"]],\"diverging\":[[0,\"#8e0152\"],[0.1,\"#c51b7d\"],[0.2,\"#de77ae\"],[0.3,\"#f1b6da\"],[0.4,\"#fde0ef\"],[0.5,\"#f7f7f7\"],[0.6,\"#e6f5d0\"],[0.7,\"#b8e186\"],[0.8,\"#7fbc41\"],[0.9,\"#4d9221\"],[1,\"#276419\"]]},\"xaxis\":{\"gridcolor\":\"white\",\"linecolor\":\"white\",\"ticks\":\"\",\"title\":{\"standoff\":15},\"zerolinecolor\":\"white\",\"automargin\":true,\"zerolinewidth\":2},\"yaxis\":{\"gridcolor\":\"white\",\"linecolor\":\"white\",\"ticks\":\"\",\"title\":{\"standoff\":15},\"zerolinecolor\":\"white\",\"automargin\":true,\"zerolinewidth\":2},\"scene\":{\"xaxis\":{\"backgroundcolor\":\"#E5ECF6\",\"gridcolor\":\"white\",\"linecolor\":\"white\",\"showbackground\":true,\"ticks\":\"\",\"zerolinecolor\":\"white\",\"gridwidth\":2},\"yaxis\":{\"backgroundcolor\":\"#E5ECF6\",\"gridcolor\":\"white\",\"linecolor\":\"white\",\"showbackground\":true,\"ticks\":\"\",\"zerolinecolor\":\"white\",\"gridwidth\":2},\"zaxis\":{\"backgroundcolor\":\"#E5ECF6\",\"gridcolor\":\"white\",\"linecolor\":\"white\",\"showbackground\":true,\"ticks\":\"\",\"zerolinecolor\":\"white\",\"gridwidth\":2}},\"shapedefaults\":{\"line\":{\"color\":\"#2a3f5f\"}},\"annotationdefaults\":{\"arrowcolor\":\"#2a3f5f\",\"arrowhead\":0,\"arrowwidth\":1},\"geo\":{\"bgcolor\":\"white\",\"landcolor\":\"#E5ECF6\",\"subunitcolor\":\"white\",\"showland\":true,\"showlakes\":true,\"lakecolor\":\"white\"},\"title\":{\"x\":0.05},\"mapbox\":{\"style\":\"light\"}}},\"xaxis\":{\"anchor\":\"y\",\"domain\":[0.0,1.0],\"title\":{\"text\":\"Intervention Layers\"},\"tickfont\":{\"size\":10},\"tickmode\":\"array\",\"tickvals\":[0.0,1.0999999999999999,2.8,4.5,6.200000000000001,7.900000000000002,9.600000000000001,11.300000000000004,13.000000000000004,14.700000000000006,16.400000000000006],\"ticktext\":[\"Baseline\",\"All Layers (0-63)\",\"Every 2nd Layer\",\"Every 4th Layer\",\"Layers 32-63\",\"All Layers (0-63)\",\"Layers 0-15\",\"Layers 8-15\",\"Layers 16-23\",\"All Layers (0-63)\",\"Layers 16-23\"],\"range\":[-0.5,17.500000000000004]},\"yaxis\":{\"anchor\":\"x\",\"domain\":[0.0,1.0],\"title\":{\"text\":\"Score\"},\"tickfont\":{\"size\":10},\"range\":[0,0.8]},\"annotations\":[{\"font\":{\"size\":16},\"showarrow\":false,\"text\":\"Multiple Choice Exact Match Accuracy\",\"x\":0.5,\"xanchor\":\"center\",\"xref\":\"paper\",\"y\":1.0,\"yanchor\":\"bottom\",\"yref\":\"paper\"},{\"showarrow\":false,\"text\":\"\\u003cspan style='font-size:10px'\\u003eProjection caps in each bar group\\u003cbr\\u003e(L-R) strict to relaxed\\u003c\\u002fspan\\u003e\",\"x\":1,\"xanchor\":\"right\",\"xref\":\"paper\",\"y\":1,\"yanchor\":\"top\",\"yref\":\"paper\"}],\"shapes\":[{\"line\":{\"color\":\"green\",\"dash\":\"dot\",\"width\":1},\"opacity\":0.8,\"type\":\"line\",\"x0\":0,\"x1\":1,\"xref\":\"x domain\",\"y0\":0.675,\"y1\":0.675,\"yref\":\"y\"}],\"legend\":{\"x\":1.0,\"y\":1.08,\"xanchor\":\"right\",\"yanchor\":\"bottom\",\"orientation\":\"h\"},\"title\":{\"subtitle\":{\"text\":\"Qwen 3 32B, Single-Shot & No Thinking\"},\"text\":\"MMLU Pro with Projection Capping\"},\"margin\":{\"b\":100,\"t\":150},\"height\":550,\"width\":1000},                        {\"responsive\": true}                    ).then(function(){\n",
       "                            \n",
       "var gd = document.getElementById('92e62b5f-38d2-48c2-b501-00147ac37186');\n",
       "var x = new MutationObserver(function (mutations, observer) {{\n",
       "        var display = window.getComputedStyle(gd).display;\n",
       "        if (!display || display === 'none') {{\n",
       "            console.log([gd, 'removed!']);\n",
       "            Plotly.purge(gd);\n",
       "            observer.disconnect();\n",
       "        }}\n",
       "}});\n",
       "\n",
       "// Listen for the removal of the full notebook cells\n",
       "var notebookContainer = gd.closest('#notebook-container');\n",
       "if (notebookContainer) {{\n",
       "    x.observe(notebookContainer, {childList: true});\n",
       "}}\n",
       "\n",
       "// Listen for the clearing of the current output cell\n",
       "var outputEl = gd.closest('.output');\n",
       "if (outputEl) {{\n",
       "    x.observe(outputEl, {childList: true});\n",
       "}}\n",
       "\n",
       "                        })                };                });            </script>        </div>"
      ]
     },
     "metadata": {},
     "output_type": "display_data"
    }
   ],
   "source": [
    "df_mmlu_plot = df_mmlu[~((df_mmlu['config_name'] == 'baseline') & (df_mmlu['thinking'] == True)) & ~((df_mmlu['config_name'] == 'baseline') & (df_mmlu['apply_chat_template'] == False))]\n",
    "\n",
    "fig_mmlu = plot_benchmark_results(df_mmlu_plot, 'mmlu_pro', \n",
    "                                  title=\"MMLU Pro with Projection Capping\", \n",
    "                                  subtitle=subtitle,\n",
    "                                  total_layers=total_layers)\n",
    "fig_mmlu.show()\n",
    "#fig_mmlu.write_html(f\"{out_dir}/mmlu_pro.html\")"
   ]
  },
  {
   "cell_type": "markdown",
   "id": "scbp71dwecc",
   "metadata": {},
   "source": [
    "## EQ-Bench"
   ]
  },
  {
   "cell_type": "code",
   "execution_count": 10,
   "id": "0mre6lbmciw",
   "metadata": {},
   "outputs": [
    {
     "name": "stdout",
     "output_type": "stream",
     "text": [
      "Warning: Config directory not found: /workspace/llama-3.3-70b/capped/benchmarks/eq_bench/jailbreak\n",
      "Warning: Config directory not found: /workspace/llama-3.3-70b/capped/benchmarks/eq_bench/lmsys_10000\n",
      "Loaded 261 EQ-Bench experiment runs\n",
      "\n",
      "Config breakdown:\n",
      "  baseline: 1 unique experiments\n",
      "    - baseline (1 run)\n",
      "  role_trait: 132 unique experiments\n",
      "    - layers_0:20-p0.01 (1 run)\n",
      "    - layers_0:20-p0.25 (1 run)\n",
      "    - layers_0:20-p0.5 (1 run)\n",
      "    - layers_0:20-p0.75 (1 run)\n",
      "    - layers_0:40-p0.01 (2 runs)\n",
      "    - layers_0:40-p0.25 (2 runs)\n",
      "    - layers_0:40-p0.5 (2 runs)\n",
      "    - layers_0:40-p0.75 (2 runs)\n",
      "    - layers_0:80-p0.01 (3 runs)\n",
      "    - layers_0:80-p0.25 (3 runs)\n",
      "    - layers_0:80-p0.5 (3 runs)\n",
      "    - layers_0:80-p0.75 (3 runs)\n",
      "    - layers_10:20-p0.01 (1 run)\n",
      "    - layers_10:20-p0.25 (1 run)\n",
      "    - layers_10:20-p0.5 (1 run)\n",
      "    - layers_10:20-p0.75 (1 run)\n",
      "    - layers_20:30-p0.01 (1 run)\n",
      "    - layers_20:30-p0.25 (1 run)\n",
      "    - layers_20:30-p0.5 (1 run)\n",
      "    - layers_20:30-p0.75 (1 run)\n",
      "    - layers_32:40-p0.01 (2 runs)\n",
      "    - layers_32:40-p0.25 (2 runs)\n",
      "    - layers_32:40-p0.5 (2 runs)\n",
      "    - layers_32:40-p0.75 (2 runs)\n",
      "    - layers_32:48-p0.01 (2 runs)\n",
      "    - layers_32:48-p0.25 (2 runs)\n",
      "    - layers_32:48-p0.5 (2 runs)\n",
      "    - layers_32:48-p0.75 (2 runs)\n",
      "    - layers_32:56-p0.01 (2 runs)\n",
      "    - layers_32:56-p0.25 (2 runs)\n",
      "    - layers_32:56-p0.5 (2 runs)\n",
      "    - layers_32:56-p0.75 (2 runs)\n",
      "    - layers_36:44-p0.01 (2 runs)\n",
      "    - layers_36:44-p0.25 (2 runs)\n",
      "    - layers_36:44-p0.5 (2 runs)\n",
      "    - layers_36:44-p0.75 (2 runs)\n",
      "    - layers_36:52-p0.01 (2 runs)\n",
      "    - layers_36:52-p0.25 (2 runs)\n",
      "    - layers_36:52-p0.5 (2 runs)\n",
      "    - layers_36:52-p0.75 (2 runs)\n",
      "    - layers_36:60-p0.01 (2 runs)\n",
      "    - layers_36:60-p0.25 (2 runs)\n",
      "    - layers_36:60-p0.5 (2 runs)\n",
      "    - layers_36:60-p0.75 (2 runs)\n",
      "    - layers_40:48-p0.01 (2 runs)\n",
      "    - layers_40:48-p0.25 (2 runs)\n",
      "    - layers_40:48-p0.5 (2 runs)\n",
      "    - layers_40:48-p0.75 (2 runs)\n",
      "    - layers_40:56-p0.01 (2 runs)\n",
      "    - layers_40:56-p0.25 (2 runs)\n",
      "    - layers_40:56-p0.5 (2 runs)\n",
      "    - layers_40:56-p0.75 (2 runs)\n",
      "    - layers_40:64-p0.01 (2 runs)\n",
      "    - layers_40:64-p0.25 (2 runs)\n",
      "    - layers_40:64-p0.5 (2 runs)\n",
      "    - layers_40:64-p0.75 (2 runs)\n",
      "    - layers_40:80-p0.01 (2 runs)\n",
      "    - layers_40:80-p0.25 (2 runs)\n",
      "    - layers_40:80-p0.5 (2 runs)\n",
      "    - layers_40:80-p0.75 (2 runs)\n",
      "    - layers_44:52-p0.01 (2 runs)\n",
      "    - layers_44:52-p0.25 (2 runs)\n",
      "    - layers_44:52-p0.5 (2 runs)\n",
      "    - layers_44:52-p0.75 (2 runs)\n",
      "    - layers_44:60-p0.01 (2 runs)\n",
      "    - layers_44:60-p0.25 (2 runs)\n",
      "    - layers_44:60-p0.5 (2 runs)\n",
      "    - layers_44:60-p0.75 (2 runs)\n",
      "    - layers_44:68-p0.01 (2 runs)\n",
      "    - layers_44:68-p0.25 (2 runs)\n",
      "    - layers_44:68-p0.5 (2 runs)\n",
      "    - layers_44:68-p0.75 (2 runs)\n",
      "    - layers_48:56-p0.01 (2 runs)\n",
      "    - layers_48:56-p0.25 (2 runs)\n",
      "    - layers_48:56-p0.5 (2 runs)\n",
      "    - layers_48:56-p0.75 (2 runs)\n",
      "    - layers_48:64-p0.01 (2 runs)\n",
      "    - layers_48:64-p0.25 (2 runs)\n",
      "    - layers_48:64-p0.5 (2 runs)\n",
      "    - layers_48:64-p0.75 (2 runs)\n",
      "    - layers_48:72-p0.01 (2 runs)\n",
      "    - layers_48:72-p0.25 (2 runs)\n",
      "    - layers_48:72-p0.5 (2 runs)\n",
      "    - layers_48:72-p0.75 (2 runs)\n",
      "    - layers_52:60-p0.01 (2 runs)\n",
      "    - layers_52:60-p0.25 (2 runs)\n",
      "    - layers_52:60-p0.5 (2 runs)\n",
      "    - layers_52:60-p0.75 (2 runs)\n",
      "    - layers_52:68-p0.01 (2 runs)\n",
      "    - layers_52:68-p0.25 (2 runs)\n",
      "    - layers_52:68-p0.5 (2 runs)\n",
      "    - layers_52:68-p0.75 (2 runs)\n",
      "    - layers_52:76-p0.01 (2 runs)\n",
      "    - layers_52:76-p0.25 (2 runs)\n",
      "    - layers_52:76-p0.5 (2 runs)\n",
      "    - layers_52:76-p0.75 (2 runs)\n",
      "    - layers_56:64-p0.01 (2 runs)\n",
      "    - layers_56:64-p0.25 (2 runs)\n",
      "    - layers_56:64-p0.5 (2 runs)\n",
      "    - layers_56:64-p0.75 (2 runs)\n",
      "    - layers_56:72-p0.01 (2 runs)\n",
      "    - layers_56:72-p0.25 (2 runs)\n",
      "    - layers_56:72-p0.5 (2 runs)\n",
      "    - layers_56:72-p0.75 (2 runs)\n",
      "    - layers_56:80-p0.01 (2 runs)\n",
      "    - layers_56:80-p0.25 (2 runs)\n",
      "    - layers_56:80-p0.5 (2 runs)\n",
      "    - layers_56:80-p0.75 (2 runs)\n",
      "    - layers_60:68-p0.01 (2 runs)\n",
      "    - layers_60:68-p0.25 (3 runs)\n",
      "    - layers_60:68-p0.5 (2 runs)\n",
      "    - layers_60:68-p0.75 (2 runs)\n",
      "    - layers_60:76-p0.01 (2 runs)\n",
      "    - layers_60:76-p0.25 (2 runs)\n",
      "    - layers_60:76-p0.5 (2 runs)\n",
      "    - layers_60:76-p0.75 (2 runs)\n",
      "    - layers_64:72-p0.01 (2 runs)\n",
      "    - layers_64:72-p0.25 (3 runs)\n",
      "    - layers_64:72-p0.5 (2 runs)\n",
      "    - layers_64:72-p0.75 (2 runs)\n",
      "    - layers_64:80-p0.01 (3 runs)\n",
      "    - layers_64:80-p0.25 (2 runs)\n",
      "    - layers_64:80-p0.5 (2 runs)\n",
      "    - layers_64:80-p0.75 (2 runs)\n",
      "    - layers_68:76-p0.01 (2 runs)\n",
      "    - layers_68:76-p0.25 (3 runs)\n",
      "    - layers_68:76-p0.5 (2 runs)\n",
      "    - layers_68:76-p0.75 (2 runs)\n",
      "    - layers_72:80-p0.01 (2 runs)\n",
      "    - layers_72:80-p0.25 (2 runs)\n",
      "    - layers_72:80-p0.5 (2 runs)\n",
      "    - layers_72:80-p0.75 (2 runs)\n"
     ]
    }
   ],
   "source": [
    "# Load EQ-Bench data\n",
    "df_eq = load_experiment_data([\"eq_bench\"], config_names, base_dir)\n",
    "print(f\"Loaded {len(df_eq)} EQ-Bench experiment runs\")\n",
    "print(f\"\\nConfig breakdown:\")\n",
    "for config in df_eq['config_name'].unique():\n",
    "    config_df = df_eq[df_eq['config_name'] == config]\n",
    "    unique_exps = config_df['experiment_id'].unique()\n",
    "    print(f\"  {config}: {len(unique_exps)} unique experiments\")\n",
    "    for exp in sorted(unique_exps):\n",
    "        exp_count = len(config_df[config_df['experiment_id'] == exp])\n",
    "        print(f\"    - {exp} ({exp_count} run{'s' if exp_count > 1 else ''})\")"
   ]
  },
  {
   "cell_type": "code",
   "execution_count": 11,
   "id": "a5050c83",
   "metadata": {},
   "outputs": [
    {
     "data": {
      "text/html": [
       "<div>\n",
       "<style scoped>\n",
       "    .dataframe tbody tr th:only-of-type {\n",
       "        vertical-align: middle;\n",
       "    }\n",
       "\n",
       "    .dataframe tbody tr th {\n",
       "        vertical-align: top;\n",
       "    }\n",
       "\n",
       "    .dataframe thead th {\n",
       "        text-align: right;\n",
       "    }\n",
       "</style>\n",
       "<table border=\"1\" class=\"dataframe\">\n",
       "  <thead>\n",
       "    <tr style=\"text-align: right;\">\n",
       "      <th></th>\n",
       "      <th>experiment_id</th>\n",
       "      <th>config_name</th>\n",
       "      <th>thinking</th>\n",
       "      <th>apply_chat_template</th>\n",
       "      <th>eqbench,none</th>\n",
       "    </tr>\n",
       "  </thead>\n",
       "  <tbody>\n",
       "    <tr>\n",
       "      <th>0</th>\n",
       "      <td>baseline</td>\n",
       "      <td>baseline</td>\n",
       "      <td>False</td>\n",
       "      <td>True</td>\n",
       "      <td>83.823657</td>\n",
       "    </tr>\n",
       "    <tr>\n",
       "      <th>1</th>\n",
       "      <td>layers_72:80-p0.75</td>\n",
       "      <td>role_trait</td>\n",
       "      <td>False</td>\n",
       "      <td>True</td>\n",
       "      <td>82.342677</td>\n",
       "    </tr>\n",
       "    <tr>\n",
       "      <th>2</th>\n",
       "      <td>layers_72:80-p0.75</td>\n",
       "      <td>role_trait</td>\n",
       "      <td>False</td>\n",
       "      <td>True</td>\n",
       "      <td>83.064309</td>\n",
       "    </tr>\n",
       "    <tr>\n",
       "      <th>3</th>\n",
       "      <td>layers_72:80-p0.5</td>\n",
       "      <td>role_trait</td>\n",
       "      <td>False</td>\n",
       "      <td>True</td>\n",
       "      <td>82.335118</td>\n",
       "    </tr>\n",
       "    <tr>\n",
       "      <th>4</th>\n",
       "      <td>layers_72:80-p0.5</td>\n",
       "      <td>role_trait</td>\n",
       "      <td>False</td>\n",
       "      <td>True</td>\n",
       "      <td>82.764016</td>\n",
       "    </tr>\n",
       "  </tbody>\n",
       "</table>\n",
       "</div>"
      ],
      "text/plain": [
       "        experiment_id config_name  thinking  apply_chat_template  eqbench,none\n",
       "0            baseline    baseline     False                 True     83.823657\n",
       "1  layers_72:80-p0.75  role_trait     False                 True     82.342677\n",
       "2  layers_72:80-p0.75  role_trait     False                 True     83.064309\n",
       "3   layers_72:80-p0.5  role_trait     False                 True     82.335118\n",
       "4   layers_72:80-p0.5  role_trait     False                 True     82.764016"
      ]
     },
     "execution_count": 11,
     "metadata": {},
     "output_type": "execute_result"
    }
   ],
   "source": [
    "df_eq[['experiment_id', 'config_name', 'thinking', 'apply_chat_template', 'eqbench,none']].head(5)"
   ]
  },
  {
   "cell_type": "code",
   "execution_count": null,
   "id": "d83b0c85",
   "metadata": {},
   "outputs": [
    {
     "data": {
      "application/vnd.plotly.v1+json": {
       "config": {
        "plotlyServerURL": "https://plot.ly"
       },
       "data": [
        {
         "customdata": [
          [
           "Baseline",
           "baseline"
          ],
          [
           "All Layers (0-63), Safe 99th",
           "jailbreak"
          ],
          [
           "All Layers (0-63), Safe 50th",
           "jailbreak"
          ],
          [
           "All Layers (0-63), Harm 99th",
           "jailbreak"
          ],
          [
           "All Layers (0-63), Harm 75th",
           "jailbreak"
          ],
          [
           "Every 2nd Layer, Safe 99th",
           "jailbreak"
          ],
          [
           "Every 2nd Layer, Safe 50th",
           "jailbreak"
          ],
          [
           "Every 2nd Layer, Harm 99th",
           "jailbreak"
          ],
          [
           "Every 2nd Layer, Harm 75th",
           "jailbreak"
          ],
          [
           "Every 4th Layer, Safe 99th",
           "jailbreak"
          ],
          [
           "Every 4th Layer, Safe 50th",
           "jailbreak"
          ],
          [
           "Every 4th Layer, Harm 99th",
           "jailbreak"
          ],
          [
           "Every 4th Layer, Harm 75th",
           "jailbreak"
          ],
          [
           "Layers 32-63, Safe 99th",
           "jailbreak"
          ],
          [
           "Layers 32-63, Safe 50th",
           "jailbreak"
          ],
          [
           "Layers 32-63, Harm 99th",
           "jailbreak"
          ],
          [
           "Layers 32-63, Harm 75th",
           "jailbreak"
          ],
          [
           "All Layers (0-63), 1st",
           "role_trait"
          ],
          [
           "All Layers (0-63), 25th",
           "role_trait"
          ],
          [
           "All Layers (0-63), 50th",
           "role_trait"
          ],
          [
           "All Layers (0-63), 75th",
           "role_trait"
          ],
          [
           "Layers 0-15, 1st",
           "role_trait"
          ],
          [
           "Layers 0-15, 25th",
           "role_trait"
          ],
          [
           "Layers 0-15, 50th",
           "role_trait"
          ],
          [
           "Layers 0-15, 75th",
           "role_trait"
          ],
          [
           "Layers 8-15, 1st",
           "role_trait"
          ],
          [
           "Layers 8-15, 25th",
           "role_trait"
          ],
          [
           "Layers 8-15, 50th",
           "role_trait"
          ],
          [
           "Layers 8-15, 75th",
           "role_trait"
          ],
          [
           "Layers 16-23, 1st",
           "role_trait"
          ],
          [
           "Layers 16-23, 25th",
           "role_trait"
          ],
          [
           "Layers 16-23, 50th",
           "role_trait"
          ],
          [
           "Layers 16-23, 75th",
           "role_trait"
          ],
          [
           "Layers 24-31, 1st",
           "role_trait"
          ],
          [
           "Layers 24-31, 25th",
           "role_trait"
          ],
          [
           "Layers 24-31, 50th",
           "role_trait"
          ],
          [
           "Layers 24-31, 75th",
           "role_trait"
          ],
          [
           "Layers 32-39, 1st",
           "role_trait"
          ],
          [
           "Layers 32-39, 25th",
           "role_trait"
          ],
          [
           "Layers 32-39, 50th",
           "role_trait"
          ],
          [
           "Layers 32-39, 75th",
           "role_trait"
          ],
          [
           "Layers 40-47, 1st",
           "role_trait"
          ],
          [
           "Layers 40-47, 25th",
           "role_trait"
          ],
          [
           "Layers 40-47, 50th",
           "role_trait"
          ],
          [
           "Layers 40-47, 75th",
           "role_trait"
          ],
          [
           "Layers 48-55, 1st",
           "role_trait"
          ],
          [
           "Layers 48-55, 25th",
           "role_trait"
          ],
          [
           "Layers 48-55, 50th",
           "role_trait"
          ],
          [
           "Layers 48-55, 75th",
           "role_trait"
          ],
          [
           "Layers 56-63, 1st",
           "role_trait"
          ],
          [
           "Layers 56-63, 25th",
           "role_trait"
          ],
          [
           "Layers 56-63, 50th",
           "role_trait"
          ],
          [
           "Layers 56-63, 75th",
           "role_trait"
          ],
          [
           "All Layers (0-63), 1st",
           "lmsys_10000"
          ],
          [
           "All Layers (0-63), 25th",
           "lmsys_10000"
          ],
          [
           "All Layers (0-63), 50th",
           "lmsys_10000"
          ],
          [
           "All Layers (0-63), 75th",
           "lmsys_10000"
          ],
          [
           "Layers 0-15, 1st",
           "lmsys_10000"
          ],
          [
           "Layers 0-15, 25th",
           "lmsys_10000"
          ],
          [
           "Layers 0-15, 50th",
           "lmsys_10000"
          ],
          [
           "Layers 0-15, 75th",
           "lmsys_10000"
          ],
          [
           "Layers 8-15, 1st",
           "lmsys_10000"
          ],
          [
           "Layers 8-15, 25th",
           "lmsys_10000"
          ],
          [
           "Layers 8-15, 50th",
           "lmsys_10000"
          ],
          [
           "Layers 8-15, 75th",
           "lmsys_10000"
          ],
          [
           "Layers 16-23, 1st",
           "lmsys_10000"
          ],
          [
           "Layers 16-23, 25th",
           "lmsys_10000"
          ],
          [
           "Layers 16-23, 50th",
           "lmsys_10000"
          ],
          [
           "Layers 16-23, 75th",
           "lmsys_10000"
          ],
          [
           "Layers 24-31, 1st",
           "lmsys_10000"
          ],
          [
           "Layers 24-31, 25th",
           "lmsys_10000"
          ],
          [
           "Layers 24-31, 50th",
           "lmsys_10000"
          ],
          [
           "Layers 24-31, 75th",
           "lmsys_10000"
          ],
          [
           "Layers 32-39, 1st",
           "lmsys_10000"
          ],
          [
           "Layers 32-39, 25th",
           "lmsys_10000"
          ],
          [
           "Layers 32-39, 50th",
           "lmsys_10000"
          ],
          [
           "Layers 32-39, 75th",
           "lmsys_10000"
          ],
          [
           "Layers 40-47, 1st",
           "lmsys_10000"
          ],
          [
           "Layers 40-47, 25th",
           "lmsys_10000"
          ],
          [
           "Layers 40-47, 50th",
           "lmsys_10000"
          ],
          [
           "Layers 40-47, 75th",
           "lmsys_10000"
          ],
          [
           "Layers 48-55, 1st",
           "lmsys_10000"
          ],
          [
           "Layers 48-55, 25th",
           "lmsys_10000"
          ],
          [
           "Layers 48-55, 50th",
           "lmsys_10000"
          ],
          [
           "Layers 48-55, 75th",
           "lmsys_10000"
          ],
          [
           "Layers 56-63, 1st",
           "lmsys_10000"
          ],
          [
           "Layers 56-63, 25th",
           "lmsys_10000"
          ],
          [
           "Layers 56-63, 50th",
           "lmsys_10000"
          ],
          [
           "Layers 56-63, 75th",
           "lmsys_10000"
          ]
         ],
         "error_y": {
          "array": [
           1.3132425024008552,
           1.7786270569182492,
           1.474145547932549,
           1.3361889155124886,
           1.384719552430742,
           1.5210209227490439,
           1.4005479658927786,
           1.4086300142359727,
           1.3507447187577237,
           1.5465676701665176,
           1.5145435123180446,
           1.4137065028355609,
           1.3091398605457347,
           2.3389848661563564,
           1.5827659454809353,
           1.4883548093442671,
           1.4308113790984387,
           1.6245652978872507,
           1.4813933837759643,
           1.3177450338100434,
           1.315776723208385,
           1.4278312696882047,
           1.416610479747719,
           1.3287444257380803,
           1.3250761287879016,
           1.4017702657248952,
           1.4141435828246438,
           1.3840910156778228,
           1.31084820081718,
           1.355889223473992,
           1.391186300163241,
           1.32110358850417,
           1.3263234795093894,
           1.4179225063999217,
           1.338427421112702,
           1.2704319234600625,
           1.296355934493633,
           1.5116046305054394,
           1.3699398295311376,
           1.3884283566358822,
           1.3583751795399903,
           1.548375853534399,
           1.4120583706212972,
           1.2918911206554347,
           1.3200625504897567,
           1.2732013581009878,
           1.252535898723424,
           1.2851296433342005,
           1.2911408893386305,
           1.289691269343878,
           1.3097309412889628,
           1.30804631241347,
           1.3144616001879397,
           2.342314762893232,
           1.4198148609278476,
           1.3133705798834767,
           1.3018640508436596,
           1.4025092754156125,
           1.442077621396517,
           1.2984231025646327,
           1.3279222463925038,
           1.3675283721025522,
           1.4201399024780295,
           1.3883778551073624,
           1.3309164008843002,
           1.3578295341417044,
           1.346230133834582,
           1.3253332335542418,
           1.3324550921341618,
           1.5158044643179487,
           1.3118280125539472,
           1.2753704597468776,
           1.2983584241114425,
           1.4638192787858215,
           1.3710791281658659,
           1.3804010772770439,
           1.360914632745081,
           1.5250415888815219,
           1.3514469664367057,
           1.3163086174384266,
           1.3090549244164373,
           1.2685999002104063,
           1.283851594109796,
           1.2879850578766867,
           1.2931329691251263,
           3.2474328556384986,
           2.307929905152533,
           1.5606410778161397,
           1.3170641582127127
          ],
          "thickness": 0.5,
          "type": "data",
          "visible": true
         },
         "hovertemplate": "%{customdata[0]}<br>Config: %{customdata[1]}<br>Value: %{y:.1%}<extra></extra>",
         "marker": {
          "color": [
           "#2ca02c",
           "#d62728",
           "#d62728",
           "#d62728",
           "#d62728",
           "#d62728",
           "#d62728",
           "#d62728",
           "#d62728",
           "#d62728",
           "#d62728",
           "#d62728",
           "#d62728",
           "#d62728",
           "#d62728",
           "#d62728",
           "#d62728",
           "#ff7f0e",
           "#ff7f0e",
           "#ff7f0e",
           "#ff7f0e",
           "#ff7f0e",
           "#ff7f0e",
           "#ff7f0e",
           "#ff7f0e",
           "#ff7f0e",
           "#ff7f0e",
           "#ff7f0e",
           "#ff7f0e",
           "#ff7f0e",
           "#ff7f0e",
           "#ff7f0e",
           "#ff7f0e",
           "#ff7f0e",
           "#ff7f0e",
           "#ff7f0e",
           "#ff7f0e",
           "#ff7f0e",
           "#ff7f0e",
           "#ff7f0e",
           "#ff7f0e",
           "#ff7f0e",
           "#ff7f0e",
           "#ff7f0e",
           "#ff7f0e",
           "#ff7f0e",
           "#ff7f0e",
           "#ff7f0e",
           "#ff7f0e",
           "#ff7f0e",
           "#ff7f0e",
           "#ff7f0e",
           "#ff7f0e",
           "#9467bd",
           "#9467bd",
           "#9467bd",
           "#9467bd",
           "#9467bd",
           "#9467bd",
           "#9467bd",
           "#9467bd",
           "#9467bd",
           "#9467bd",
           "#9467bd",
           "#9467bd",
           "#9467bd",
           "#9467bd",
           "#9467bd",
           "#9467bd",
           "#9467bd",
           "#9467bd",
           "#9467bd",
           "#9467bd",
           "#9467bd",
           "#9467bd",
           "#9467bd",
           "#9467bd",
           "#9467bd",
           "#9467bd",
           "#9467bd",
           "#9467bd",
           "#9467bd",
           "#9467bd",
           "#9467bd",
           "#9467bd",
           "#9467bd",
           "#9467bd",
           "#9467bd",
           "#9467bd"
          ]
         },
         "name": "EQ-Bench Score (Higher is Better)",
         "opacity": 0.8,
         "showlegend": false,
         "type": "bar",
         "width": 0.35,
         "x": [
          0,
          0.5,
          0.8999999999999999,
          1.2999999999999998,
          1.6999999999999997,
          2.1999999999999997,
          2.5999999999999996,
          2.9999999999999996,
          3.3999999999999995,
          3.8999999999999995,
          4.3,
          4.7,
          5.1000000000000005,
          5.6000000000000005,
          6.000000000000001,
          6.400000000000001,
          6.800000000000002,
          7.300000000000002,
          7.700000000000002,
          8.100000000000001,
          8.500000000000002,
          9.000000000000002,
          9.400000000000002,
          9.800000000000002,
          10.200000000000003,
          10.700000000000003,
          11.100000000000003,
          11.500000000000004,
          11.900000000000004,
          12.400000000000004,
          12.800000000000004,
          13.200000000000005,
          13.600000000000005,
          14.100000000000005,
          14.500000000000005,
          14.900000000000006,
          15.300000000000006,
          15.800000000000006,
          16.200000000000006,
          16.600000000000005,
          17.000000000000004,
          17.500000000000004,
          17.900000000000002,
          18.3,
          18.7,
          19.2,
          19.599999999999998,
          19.999999999999996,
          20.399999999999995,
          20.899999999999995,
          21.299999999999994,
          21.699999999999992,
          22.09999999999999,
          22.59999999999999,
          22.99999999999999,
          23.399999999999988,
          23.799999999999986,
          24.299999999999986,
          24.699999999999985,
          25.099999999999984,
          25.499999999999982,
          25.999999999999982,
          26.39999999999998,
          26.79999999999998,
          27.199999999999978,
          27.699999999999978,
          28.099999999999977,
          28.499999999999975,
          28.899999999999974,
          29.399999999999974,
          29.799999999999972,
          30.19999999999997,
          30.59999999999997,
          31.09999999999997,
          31.499999999999968,
          31.899999999999967,
          32.29999999999997,
          32.79999999999997,
          33.19999999999997,
          33.599999999999966,
          33.999999999999964,
          34.499999999999964,
          34.89999999999996,
          35.29999999999996,
          35.69999999999996,
          36.19999999999996,
          36.59999999999996,
          36.99999999999996,
          37.399999999999956
         ],
         "xaxis": "x",
         "y": [
          82.29415213753882,
          74.40152836380196,
          79.18481249405076,
          80.04465905867298,
          80.25801129281389,
          77.28190264766056,
          79.7795625304569,
          80.16045408576262,
          80.7747346807587,
          77.18687286995501,
          79.14166638116286,
          80.22347798374751,
          81.46886794920924,
          67.95379879903726,
          78.32583491736395,
          79.65843482063235,
          80.43713286580483,
          74.90834310756283,
          78.93380669896236,
          80.00615495366041,
          80.88791605313888,
          80.73146996329811,
          81.28449975980585,
          81.7849685309516,
          82.00141673472315,
          81.12979155869981,
          81.35028812974478,
          81.56411225446931,
          81.91777416322059,
          81.36771725703004,
          81.42107151712588,
          82.3051105409963,
          82.03621405960763,
          79.90183284888407,
          81.04776370384951,
          81.3739463363955,
          81.34750254140879,
          78.52233827871342,
          80.73128979211951,
          80.88629005776308,
          81.3497045289241,
          75.71101191928216,
          79.17993350983942,
          81.49752782609114,
          81.83912980937292,
          81.55565970199352,
          82.35046375250688,
          82.5783069302039,
          82.45108364466489,
          82.55543020973394,
          82.54960036171386,
          82.53394234926245,
          82.58805144846086,
          67.68626498450195,
          79.40006456170072,
          80.42983855577846,
          80.47714114240682,
          80.55988209681765,
          81.01215846317216,
          82.15846151784847,
          82.02094325405768,
          81.2194521345896,
          81.43359651261144,
          81.56473919493838,
          81.5816618972219,
          81.40672604323996,
          81.82809385358912,
          82.11545068676017,
          82.2351734066146,
          79.41110699588891,
          81.11316943439671,
          81.55850879135738,
          81.10499896510201,
          79.6008006782466,
          80.50668818083652,
          80.92331160147829,
          80.95605244286186,
          77.44001049874181,
          80.48097592178493,
          81.58385473437441,
          81.97619588197752,
          81.71858049649268,
          82.48697563664959,
          82.44247591760654,
          82.3932355373232,
          53.994436592430624,
          74.12732965475172,
          80.85984258710118,
          82.49418345050098
         ],
         "yaxis": "y"
        },
        {
         "marker": {
          "color": "#2ca02c",
          "size": 10
         },
         "mode": "markers",
         "name": "Baseline",
         "showlegend": true,
         "type": "scatter",
         "x": [
          null
         ],
         "xaxis": "x",
         "y": [
          null
         ],
         "yaxis": "y"
        },
        {
         "marker": {
          "color": "#d62728",
          "size": 10
         },
         "mode": "markers",
         "name": "Jailbreak Rollouts",
         "showlegend": true,
         "type": "scatter",
         "x": [
          null
         ],
         "xaxis": "x",
         "y": [
          null
         ],
         "yaxis": "y"
        },
        {
         "marker": {
          "color": "#ff7f0e",
          "size": 10
         },
         "mode": "markers",
         "name": "Role/Trait Rollouts",
         "showlegend": true,
         "type": "scatter",
         "x": [
          null
         ],
         "xaxis": "x",
         "y": [
          null
         ],
         "yaxis": "y"
        },
        {
         "marker": {
          "color": "#9467bd",
          "size": 10
         },
         "mode": "markers",
         "name": "LMSYS-10K Rollouts",
         "showlegend": true,
         "type": "scatter",
         "x": [
          null
         ],
         "xaxis": "x",
         "y": [
          null
         ],
         "yaxis": "y"
        }
       ],
       "layout": {
        "annotations": [
         {
          "font": {
           "size": 16
          },
          "showarrow": false,
          "text": "EQ-Bench Score (Higher is Better)",
          "x": 0.5,
          "xanchor": "center",
          "xref": "paper",
          "y": 1,
          "yanchor": "bottom",
          "yref": "paper"
         },
         {
          "showarrow": false,
          "text": "<span style='font-size:10px'>Projection caps in each bar group<br>(L-R) strict to relaxed</span>",
          "x": 1,
          "xanchor": "right",
          "xref": "paper",
          "y": 1,
          "yanchor": "top",
          "yref": "paper"
         }
        ],
        "height": 550,
        "legend": {
         "orientation": "h",
         "x": 1,
         "xanchor": "right",
         "y": 1.08,
         "yanchor": "bottom"
        },
        "margin": {
         "b": 100,
         "t": 150
        },
        "shapes": [
         {
          "line": {
           "color": "green",
           "dash": "dot",
           "width": 1
          },
          "opacity": 0.8,
          "type": "line",
          "x0": 0,
          "x1": 1,
          "xref": "x domain",
          "y0": 82.29415213753882,
          "y1": 82.29415213753882,
          "yref": "y"
         }
        ],
        "template": {
         "data": {
          "bar": [
           {
            "error_x": {
             "color": "#2a3f5f"
            },
            "error_y": {
             "color": "#2a3f5f"
            },
            "marker": {
             "line": {
              "color": "#E5ECF6",
              "width": 0.5
             },
             "pattern": {
              "fillmode": "overlay",
              "size": 10,
              "solidity": 0.2
             }
            },
            "type": "bar"
           }
          ],
          "barpolar": [
           {
            "marker": {
             "line": {
              "color": "#E5ECF6",
              "width": 0.5
             },
             "pattern": {
              "fillmode": "overlay",
              "size": 10,
              "solidity": 0.2
             }
            },
            "type": "barpolar"
           }
          ],
          "carpet": [
           {
            "aaxis": {
             "endlinecolor": "#2a3f5f",
             "gridcolor": "white",
             "linecolor": "white",
             "minorgridcolor": "white",
             "startlinecolor": "#2a3f5f"
            },
            "baxis": {
             "endlinecolor": "#2a3f5f",
             "gridcolor": "white",
             "linecolor": "white",
             "minorgridcolor": "white",
             "startlinecolor": "#2a3f5f"
            },
            "type": "carpet"
           }
          ],
          "choropleth": [
           {
            "colorbar": {
             "outlinewidth": 0,
             "ticks": ""
            },
            "type": "choropleth"
           }
          ],
          "contour": [
           {
            "colorbar": {
             "outlinewidth": 0,
             "ticks": ""
            },
            "colorscale": [
             [
              0,
              "#0d0887"
             ],
             [
              0.1111111111111111,
              "#46039f"
             ],
             [
              0.2222222222222222,
              "#7201a8"
             ],
             [
              0.3333333333333333,
              "#9c179e"
             ],
             [
              0.4444444444444444,
              "#bd3786"
             ],
             [
              0.5555555555555556,
              "#d8576b"
             ],
             [
              0.6666666666666666,
              "#ed7953"
             ],
             [
              0.7777777777777778,
              "#fb9f3a"
             ],
             [
              0.8888888888888888,
              "#fdca26"
             ],
             [
              1,
              "#f0f921"
             ]
            ],
            "type": "contour"
           }
          ],
          "contourcarpet": [
           {
            "colorbar": {
             "outlinewidth": 0,
             "ticks": ""
            },
            "type": "contourcarpet"
           }
          ],
          "heatmap": [
           {
            "colorbar": {
             "outlinewidth": 0,
             "ticks": ""
            },
            "colorscale": [
             [
              0,
              "#0d0887"
             ],
             [
              0.1111111111111111,
              "#46039f"
             ],
             [
              0.2222222222222222,
              "#7201a8"
             ],
             [
              0.3333333333333333,
              "#9c179e"
             ],
             [
              0.4444444444444444,
              "#bd3786"
             ],
             [
              0.5555555555555556,
              "#d8576b"
             ],
             [
              0.6666666666666666,
              "#ed7953"
             ],
             [
              0.7777777777777778,
              "#fb9f3a"
             ],
             [
              0.8888888888888888,
              "#fdca26"
             ],
             [
              1,
              "#f0f921"
             ]
            ],
            "type": "heatmap"
           }
          ],
          "heatmapgl": [
           {
            "colorbar": {
             "outlinewidth": 0,
             "ticks": ""
            },
            "colorscale": [
             [
              0,
              "#0d0887"
             ],
             [
              0.1111111111111111,
              "#46039f"
             ],
             [
              0.2222222222222222,
              "#7201a8"
             ],
             [
              0.3333333333333333,
              "#9c179e"
             ],
             [
              0.4444444444444444,
              "#bd3786"
             ],
             [
              0.5555555555555556,
              "#d8576b"
             ],
             [
              0.6666666666666666,
              "#ed7953"
             ],
             [
              0.7777777777777778,
              "#fb9f3a"
             ],
             [
              0.8888888888888888,
              "#fdca26"
             ],
             [
              1,
              "#f0f921"
             ]
            ],
            "type": "heatmapgl"
           }
          ],
          "histogram": [
           {
            "marker": {
             "pattern": {
              "fillmode": "overlay",
              "size": 10,
              "solidity": 0.2
             }
            },
            "type": "histogram"
           }
          ],
          "histogram2d": [
           {
            "colorbar": {
             "outlinewidth": 0,
             "ticks": ""
            },
            "colorscale": [
             [
              0,
              "#0d0887"
             ],
             [
              0.1111111111111111,
              "#46039f"
             ],
             [
              0.2222222222222222,
              "#7201a8"
             ],
             [
              0.3333333333333333,
              "#9c179e"
             ],
             [
              0.4444444444444444,
              "#bd3786"
             ],
             [
              0.5555555555555556,
              "#d8576b"
             ],
             [
              0.6666666666666666,
              "#ed7953"
             ],
             [
              0.7777777777777778,
              "#fb9f3a"
             ],
             [
              0.8888888888888888,
              "#fdca26"
             ],
             [
              1,
              "#f0f921"
             ]
            ],
            "type": "histogram2d"
           }
          ],
          "histogram2dcontour": [
           {
            "colorbar": {
             "outlinewidth": 0,
             "ticks": ""
            },
            "colorscale": [
             [
              0,
              "#0d0887"
             ],
             [
              0.1111111111111111,
              "#46039f"
             ],
             [
              0.2222222222222222,
              "#7201a8"
             ],
             [
              0.3333333333333333,
              "#9c179e"
             ],
             [
              0.4444444444444444,
              "#bd3786"
             ],
             [
              0.5555555555555556,
              "#d8576b"
             ],
             [
              0.6666666666666666,
              "#ed7953"
             ],
             [
              0.7777777777777778,
              "#fb9f3a"
             ],
             [
              0.8888888888888888,
              "#fdca26"
             ],
             [
              1,
              "#f0f921"
             ]
            ],
            "type": "histogram2dcontour"
           }
          ],
          "mesh3d": [
           {
            "colorbar": {
             "outlinewidth": 0,
             "ticks": ""
            },
            "type": "mesh3d"
           }
          ],
          "parcoords": [
           {
            "line": {
             "colorbar": {
              "outlinewidth": 0,
              "ticks": ""
             }
            },
            "type": "parcoords"
           }
          ],
          "pie": [
           {
            "automargin": true,
            "type": "pie"
           }
          ],
          "scatter": [
           {
            "fillpattern": {
             "fillmode": "overlay",
             "size": 10,
             "solidity": 0.2
            },
            "type": "scatter"
           }
          ],
          "scatter3d": [
           {
            "line": {
             "colorbar": {
              "outlinewidth": 0,
              "ticks": ""
             }
            },
            "marker": {
             "colorbar": {
              "outlinewidth": 0,
              "ticks": ""
             }
            },
            "type": "scatter3d"
           }
          ],
          "scattercarpet": [
           {
            "marker": {
             "colorbar": {
              "outlinewidth": 0,
              "ticks": ""
             }
            },
            "type": "scattercarpet"
           }
          ],
          "scattergeo": [
           {
            "marker": {
             "colorbar": {
              "outlinewidth": 0,
              "ticks": ""
             }
            },
            "type": "scattergeo"
           }
          ],
          "scattergl": [
           {
            "marker": {
             "colorbar": {
              "outlinewidth": 0,
              "ticks": ""
             }
            },
            "type": "scattergl"
           }
          ],
          "scattermapbox": [
           {
            "marker": {
             "colorbar": {
              "outlinewidth": 0,
              "ticks": ""
             }
            },
            "type": "scattermapbox"
           }
          ],
          "scatterpolar": [
           {
            "marker": {
             "colorbar": {
              "outlinewidth": 0,
              "ticks": ""
             }
            },
            "type": "scatterpolar"
           }
          ],
          "scatterpolargl": [
           {
            "marker": {
             "colorbar": {
              "outlinewidth": 0,
              "ticks": ""
             }
            },
            "type": "scatterpolargl"
           }
          ],
          "scatterternary": [
           {
            "marker": {
             "colorbar": {
              "outlinewidth": 0,
              "ticks": ""
             }
            },
            "type": "scatterternary"
           }
          ],
          "surface": [
           {
            "colorbar": {
             "outlinewidth": 0,
             "ticks": ""
            },
            "colorscale": [
             [
              0,
              "#0d0887"
             ],
             [
              0.1111111111111111,
              "#46039f"
             ],
             [
              0.2222222222222222,
              "#7201a8"
             ],
             [
              0.3333333333333333,
              "#9c179e"
             ],
             [
              0.4444444444444444,
              "#bd3786"
             ],
             [
              0.5555555555555556,
              "#d8576b"
             ],
             [
              0.6666666666666666,
              "#ed7953"
             ],
             [
              0.7777777777777778,
              "#fb9f3a"
             ],
             [
              0.8888888888888888,
              "#fdca26"
             ],
             [
              1,
              "#f0f921"
             ]
            ],
            "type": "surface"
           }
          ],
          "table": [
           {
            "cells": {
             "fill": {
              "color": "#EBF0F8"
             },
             "line": {
              "color": "white"
             }
            },
            "header": {
             "fill": {
              "color": "#C8D4E3"
             },
             "line": {
              "color": "white"
             }
            },
            "type": "table"
           }
          ]
         },
         "layout": {
          "annotationdefaults": {
           "arrowcolor": "#2a3f5f",
           "arrowhead": 0,
           "arrowwidth": 1
          },
          "autotypenumbers": "strict",
          "coloraxis": {
           "colorbar": {
            "outlinewidth": 0,
            "ticks": ""
           }
          },
          "colorscale": {
           "diverging": [
            [
             0,
             "#8e0152"
            ],
            [
             0.1,
             "#c51b7d"
            ],
            [
             0.2,
             "#de77ae"
            ],
            [
             0.3,
             "#f1b6da"
            ],
            [
             0.4,
             "#fde0ef"
            ],
            [
             0.5,
             "#f7f7f7"
            ],
            [
             0.6,
             "#e6f5d0"
            ],
            [
             0.7,
             "#b8e186"
            ],
            [
             0.8,
             "#7fbc41"
            ],
            [
             0.9,
             "#4d9221"
            ],
            [
             1,
             "#276419"
            ]
           ],
           "sequential": [
            [
             0,
             "#0d0887"
            ],
            [
             0.1111111111111111,
             "#46039f"
            ],
            [
             0.2222222222222222,
             "#7201a8"
            ],
            [
             0.3333333333333333,
             "#9c179e"
            ],
            [
             0.4444444444444444,
             "#bd3786"
            ],
            [
             0.5555555555555556,
             "#d8576b"
            ],
            [
             0.6666666666666666,
             "#ed7953"
            ],
            [
             0.7777777777777778,
             "#fb9f3a"
            ],
            [
             0.8888888888888888,
             "#fdca26"
            ],
            [
             1,
             "#f0f921"
            ]
           ],
           "sequentialminus": [
            [
             0,
             "#0d0887"
            ],
            [
             0.1111111111111111,
             "#46039f"
            ],
            [
             0.2222222222222222,
             "#7201a8"
            ],
            [
             0.3333333333333333,
             "#9c179e"
            ],
            [
             0.4444444444444444,
             "#bd3786"
            ],
            [
             0.5555555555555556,
             "#d8576b"
            ],
            [
             0.6666666666666666,
             "#ed7953"
            ],
            [
             0.7777777777777778,
             "#fb9f3a"
            ],
            [
             0.8888888888888888,
             "#fdca26"
            ],
            [
             1,
             "#f0f921"
            ]
           ]
          },
          "colorway": [
           "#636efa",
           "#EF553B",
           "#00cc96",
           "#ab63fa",
           "#FFA15A",
           "#19d3f3",
           "#FF6692",
           "#B6E880",
           "#FF97FF",
           "#FECB52"
          ],
          "font": {
           "color": "#2a3f5f"
          },
          "geo": {
           "bgcolor": "white",
           "lakecolor": "white",
           "landcolor": "#E5ECF6",
           "showlakes": true,
           "showland": true,
           "subunitcolor": "white"
          },
          "hoverlabel": {
           "align": "left"
          },
          "hovermode": "closest",
          "mapbox": {
           "style": "light"
          },
          "paper_bgcolor": "white",
          "plot_bgcolor": "#E5ECF6",
          "polar": {
           "angularaxis": {
            "gridcolor": "white",
            "linecolor": "white",
            "ticks": ""
           },
           "bgcolor": "#E5ECF6",
           "radialaxis": {
            "gridcolor": "white",
            "linecolor": "white",
            "ticks": ""
           }
          },
          "scene": {
           "xaxis": {
            "backgroundcolor": "#E5ECF6",
            "gridcolor": "white",
            "gridwidth": 2,
            "linecolor": "white",
            "showbackground": true,
            "ticks": "",
            "zerolinecolor": "white"
           },
           "yaxis": {
            "backgroundcolor": "#E5ECF6",
            "gridcolor": "white",
            "gridwidth": 2,
            "linecolor": "white",
            "showbackground": true,
            "ticks": "",
            "zerolinecolor": "white"
           },
           "zaxis": {
            "backgroundcolor": "#E5ECF6",
            "gridcolor": "white",
            "gridwidth": 2,
            "linecolor": "white",
            "showbackground": true,
            "ticks": "",
            "zerolinecolor": "white"
           }
          },
          "shapedefaults": {
           "line": {
            "color": "#2a3f5f"
           }
          },
          "ternary": {
           "aaxis": {
            "gridcolor": "white",
            "linecolor": "white",
            "ticks": ""
           },
           "baxis": {
            "gridcolor": "white",
            "linecolor": "white",
            "ticks": ""
           },
           "bgcolor": "#E5ECF6",
           "caxis": {
            "gridcolor": "white",
            "linecolor": "white",
            "ticks": ""
           }
          },
          "title": {
           "x": 0.05
          },
          "xaxis": {
           "automargin": true,
           "gridcolor": "white",
           "linecolor": "white",
           "ticks": "",
           "title": {
            "standoff": 15
           },
           "zerolinecolor": "white",
           "zerolinewidth": 2
          },
          "yaxis": {
           "automargin": true,
           "gridcolor": "white",
           "linecolor": "white",
           "ticks": "",
           "title": {
            "standoff": 15
           },
           "zerolinecolor": "white",
           "zerolinewidth": 2
          }
         }
        },
        "title": {
         "subtitle": {
          "text": "Qwen 3 32B, Single-Shot & No Thinking"
         },
         "text": "EQ-Bench with Projection Capping"
        },
        "width": 1000,
        "xaxis": {
         "anchor": "y",
         "domain": [
          0,
          1
         ],
         "range": [
          -0.5,
          37.899999999999956
         ],
         "tickfont": {
          "size": 10
         },
         "tickmode": "array",
         "ticktext": [
          "Baseline",
          "All Layers (0-63)",
          "Every 2nd Layer",
          "Every 4th Layer",
          "Layers 32-63",
          "All Layers (0-63)",
          "Layers 0-15",
          "Layers 8-15",
          "Layers 16-23",
          "Layers 24-31",
          "Layers 32-39",
          "Layers 40-47",
          "Layers 48-55",
          "Layers 56-63",
          "All Layers (0-63)",
          "Layers 0-15",
          "Layers 8-15",
          "Layers 16-23",
          "Layers 24-31",
          "Layers 32-39",
          "Layers 40-47",
          "Layers 48-55",
          "Layers 56-63"
         ],
         "tickvals": [
          0,
          1.0999999999999999,
          2.8,
          4.5,
          6.200000000000001,
          7.900000000000002,
          9.600000000000001,
          11.300000000000004,
          13.000000000000004,
          14.700000000000006,
          16.400000000000006,
          18.1,
          19.799999999999997,
          21.499999999999993,
          23.19999999999999,
          24.899999999999984,
          26.59999999999998,
          28.299999999999976,
          29.99999999999997,
          31.699999999999967,
          33.39999999999996,
          35.099999999999966,
          36.799999999999955
         ],
         "title": {
          "text": "Intervention Layers"
         }
        },
        "yaxis": {
         "anchor": "x",
         "domain": [
          0,
          1
         ],
         "range": [
          0,
          100
         ],
         "tickfont": {
          "size": 10
         },
         "title": {
          "text": "Score"
         }
        }
       }
      },
      "text/html": [
       "<div>                            <div id=\"931d4c31-409e-4532-b911-ea3c24658127\" class=\"plotly-graph-div\" style=\"height:550px; width:1000px;\"></div>            <script type=\"text/javascript\">                require([\"plotly\"], function(Plotly) {                    window.PLOTLYENV=window.PLOTLYENV || {};                                    if (document.getElementById(\"931d4c31-409e-4532-b911-ea3c24658127\")) {                    Plotly.newPlot(                        \"931d4c31-409e-4532-b911-ea3c24658127\",                        [{\"customdata\":[[\"Baseline\",\"baseline\"],[\"All Layers (0-63), Safe 99th\",\"jailbreak\"],[\"All Layers (0-63), Safe 50th\",\"jailbreak\"],[\"All Layers (0-63), Harm 99th\",\"jailbreak\"],[\"All Layers (0-63), Harm 75th\",\"jailbreak\"],[\"Every 2nd Layer, Safe 99th\",\"jailbreak\"],[\"Every 2nd Layer, Safe 50th\",\"jailbreak\"],[\"Every 2nd Layer, Harm 99th\",\"jailbreak\"],[\"Every 2nd Layer, Harm 75th\",\"jailbreak\"],[\"Every 4th Layer, Safe 99th\",\"jailbreak\"],[\"Every 4th Layer, Safe 50th\",\"jailbreak\"],[\"Every 4th Layer, Harm 99th\",\"jailbreak\"],[\"Every 4th Layer, Harm 75th\",\"jailbreak\"],[\"Layers 32-63, Safe 99th\",\"jailbreak\"],[\"Layers 32-63, Safe 50th\",\"jailbreak\"],[\"Layers 32-63, Harm 99th\",\"jailbreak\"],[\"Layers 32-63, Harm 75th\",\"jailbreak\"],[\"All Layers (0-63), 1st\",\"role_trait\"],[\"All Layers (0-63), 25th\",\"role_trait\"],[\"All Layers (0-63), 50th\",\"role_trait\"],[\"All Layers (0-63), 75th\",\"role_trait\"],[\"Layers 0-15, 1st\",\"role_trait\"],[\"Layers 0-15, 25th\",\"role_trait\"],[\"Layers 0-15, 50th\",\"role_trait\"],[\"Layers 0-15, 75th\",\"role_trait\"],[\"Layers 8-15, 1st\",\"role_trait\"],[\"Layers 8-15, 25th\",\"role_trait\"],[\"Layers 8-15, 50th\",\"role_trait\"],[\"Layers 8-15, 75th\",\"role_trait\"],[\"Layers 16-23, 1st\",\"role_trait\"],[\"Layers 16-23, 25th\",\"role_trait\"],[\"Layers 16-23, 50th\",\"role_trait\"],[\"Layers 16-23, 75th\",\"role_trait\"],[\"Layers 24-31, 1st\",\"role_trait\"],[\"Layers 24-31, 25th\",\"role_trait\"],[\"Layers 24-31, 50th\",\"role_trait\"],[\"Layers 24-31, 75th\",\"role_trait\"],[\"Layers 32-39, 1st\",\"role_trait\"],[\"Layers 32-39, 25th\",\"role_trait\"],[\"Layers 32-39, 50th\",\"role_trait\"],[\"Layers 32-39, 75th\",\"role_trait\"],[\"Layers 40-47, 1st\",\"role_trait\"],[\"Layers 40-47, 25th\",\"role_trait\"],[\"Layers 40-47, 50th\",\"role_trait\"],[\"Layers 40-47, 75th\",\"role_trait\"],[\"Layers 48-55, 1st\",\"role_trait\"],[\"Layers 48-55, 25th\",\"role_trait\"],[\"Layers 48-55, 50th\",\"role_trait\"],[\"Layers 48-55, 75th\",\"role_trait\"],[\"Layers 56-63, 1st\",\"role_trait\"],[\"Layers 56-63, 25th\",\"role_trait\"],[\"Layers 56-63, 50th\",\"role_trait\"],[\"Layers 56-63, 75th\",\"role_trait\"],[\"All Layers (0-63), 1st\",\"lmsys_10000\"],[\"All Layers (0-63), 25th\",\"lmsys_10000\"],[\"All Layers (0-63), 50th\",\"lmsys_10000\"],[\"All Layers (0-63), 75th\",\"lmsys_10000\"],[\"Layers 0-15, 1st\",\"lmsys_10000\"],[\"Layers 0-15, 25th\",\"lmsys_10000\"],[\"Layers 0-15, 50th\",\"lmsys_10000\"],[\"Layers 0-15, 75th\",\"lmsys_10000\"],[\"Layers 8-15, 1st\",\"lmsys_10000\"],[\"Layers 8-15, 25th\",\"lmsys_10000\"],[\"Layers 8-15, 50th\",\"lmsys_10000\"],[\"Layers 8-15, 75th\",\"lmsys_10000\"],[\"Layers 16-23, 1st\",\"lmsys_10000\"],[\"Layers 16-23, 25th\",\"lmsys_10000\"],[\"Layers 16-23, 50th\",\"lmsys_10000\"],[\"Layers 16-23, 75th\",\"lmsys_10000\"],[\"Layers 24-31, 1st\",\"lmsys_10000\"],[\"Layers 24-31, 25th\",\"lmsys_10000\"],[\"Layers 24-31, 50th\",\"lmsys_10000\"],[\"Layers 24-31, 75th\",\"lmsys_10000\"],[\"Layers 32-39, 1st\",\"lmsys_10000\"],[\"Layers 32-39, 25th\",\"lmsys_10000\"],[\"Layers 32-39, 50th\",\"lmsys_10000\"],[\"Layers 32-39, 75th\",\"lmsys_10000\"],[\"Layers 40-47, 1st\",\"lmsys_10000\"],[\"Layers 40-47, 25th\",\"lmsys_10000\"],[\"Layers 40-47, 50th\",\"lmsys_10000\"],[\"Layers 40-47, 75th\",\"lmsys_10000\"],[\"Layers 48-55, 1st\",\"lmsys_10000\"],[\"Layers 48-55, 25th\",\"lmsys_10000\"],[\"Layers 48-55, 50th\",\"lmsys_10000\"],[\"Layers 48-55, 75th\",\"lmsys_10000\"],[\"Layers 56-63, 1st\",\"lmsys_10000\"],[\"Layers 56-63, 25th\",\"lmsys_10000\"],[\"Layers 56-63, 50th\",\"lmsys_10000\"],[\"Layers 56-63, 75th\",\"lmsys_10000\"]],\"error_y\":{\"array\":[1.3132425024008552,1.7786270569182492,1.474145547932549,1.3361889155124886,1.384719552430742,1.5210209227490439,1.4005479658927786,1.4086300142359727,1.3507447187577237,1.5465676701665176,1.5145435123180446,1.4137065028355609,1.3091398605457347,2.3389848661563564,1.5827659454809353,1.4883548093442671,1.4308113790984387,1.6245652978872507,1.4813933837759643,1.3177450338100434,1.315776723208385,1.4278312696882047,1.416610479747719,1.3287444257380803,1.3250761287879016,1.4017702657248952,1.4141435828246438,1.3840910156778228,1.31084820081718,1.355889223473992,1.391186300163241,1.32110358850417,1.3263234795093894,1.4179225063999217,1.338427421112702,1.2704319234600625,1.296355934493633,1.5116046305054394,1.3699398295311376,1.3884283566358822,1.3583751795399903,1.548375853534399,1.4120583706212972,1.2918911206554347,1.3200625504897567,1.2732013581009878,1.252535898723424,1.2851296433342005,1.2911408893386305,1.289691269343878,1.3097309412889628,1.30804631241347,1.3144616001879397,2.342314762893232,1.4198148609278476,1.3133705798834767,1.3018640508436596,1.4025092754156125,1.442077621396517,1.2984231025646327,1.3279222463925038,1.3675283721025522,1.4201399024780295,1.3883778551073624,1.3309164008843002,1.3578295341417044,1.346230133834582,1.3253332335542418,1.3324550921341618,1.5158044643179487,1.3118280125539472,1.2753704597468776,1.2983584241114425,1.4638192787858215,1.3710791281658659,1.3804010772770439,1.360914632745081,1.5250415888815219,1.3514469664367057,1.3163086174384266,1.3090549244164373,1.2685999002104063,1.283851594109796,1.2879850578766867,1.2931329691251263,3.2474328556384986,2.307929905152533,1.5606410778161397,1.3170641582127127],\"thickness\":0.5,\"type\":\"data\",\"visible\":true},\"hovertemplate\":\"%{customdata[0]}\\u003cbr\\u003eConfig: %{customdata[1]}\\u003cbr\\u003eValue: %{y:.1%}\\u003cextra\\u003e\\u003c\\u002fextra\\u003e\",\"marker\":{\"color\":[\"#2ca02c\",\"#d62728\",\"#d62728\",\"#d62728\",\"#d62728\",\"#d62728\",\"#d62728\",\"#d62728\",\"#d62728\",\"#d62728\",\"#d62728\",\"#d62728\",\"#d62728\",\"#d62728\",\"#d62728\",\"#d62728\",\"#d62728\",\"#ff7f0e\",\"#ff7f0e\",\"#ff7f0e\",\"#ff7f0e\",\"#ff7f0e\",\"#ff7f0e\",\"#ff7f0e\",\"#ff7f0e\",\"#ff7f0e\",\"#ff7f0e\",\"#ff7f0e\",\"#ff7f0e\",\"#ff7f0e\",\"#ff7f0e\",\"#ff7f0e\",\"#ff7f0e\",\"#ff7f0e\",\"#ff7f0e\",\"#ff7f0e\",\"#ff7f0e\",\"#ff7f0e\",\"#ff7f0e\",\"#ff7f0e\",\"#ff7f0e\",\"#ff7f0e\",\"#ff7f0e\",\"#ff7f0e\",\"#ff7f0e\",\"#ff7f0e\",\"#ff7f0e\",\"#ff7f0e\",\"#ff7f0e\",\"#ff7f0e\",\"#ff7f0e\",\"#ff7f0e\",\"#ff7f0e\",\"#9467bd\",\"#9467bd\",\"#9467bd\",\"#9467bd\",\"#9467bd\",\"#9467bd\",\"#9467bd\",\"#9467bd\",\"#9467bd\",\"#9467bd\",\"#9467bd\",\"#9467bd\",\"#9467bd\",\"#9467bd\",\"#9467bd\",\"#9467bd\",\"#9467bd\",\"#9467bd\",\"#9467bd\",\"#9467bd\",\"#9467bd\",\"#9467bd\",\"#9467bd\",\"#9467bd\",\"#9467bd\",\"#9467bd\",\"#9467bd\",\"#9467bd\",\"#9467bd\",\"#9467bd\",\"#9467bd\",\"#9467bd\",\"#9467bd\",\"#9467bd\",\"#9467bd\",\"#9467bd\"]},\"name\":\"EQ-Bench Score (Higher is Better)\",\"opacity\":0.8,\"showlegend\":false,\"width\":0.35,\"x\":[0.0,0.5,0.8999999999999999,1.2999999999999998,1.6999999999999997,2.1999999999999997,2.5999999999999996,2.9999999999999996,3.3999999999999995,3.8999999999999995,4.3,4.7,5.1000000000000005,5.6000000000000005,6.000000000000001,6.400000000000001,6.800000000000002,7.300000000000002,7.700000000000002,8.100000000000001,8.500000000000002,9.000000000000002,9.400000000000002,9.800000000000002,10.200000000000003,10.700000000000003,11.100000000000003,11.500000000000004,11.900000000000004,12.400000000000004,12.800000000000004,13.200000000000005,13.600000000000005,14.100000000000005,14.500000000000005,14.900000000000006,15.300000000000006,15.800000000000006,16.200000000000006,16.600000000000005,17.000000000000004,17.500000000000004,17.900000000000002,18.3,18.7,19.2,19.599999999999998,19.999999999999996,20.399999999999995,20.899999999999995,21.299999999999994,21.699999999999992,22.09999999999999,22.59999999999999,22.99999999999999,23.399999999999988,23.799999999999986,24.299999999999986,24.699999999999985,25.099999999999984,25.499999999999982,25.999999999999982,26.39999999999998,26.79999999999998,27.199999999999978,27.699999999999978,28.099999999999977,28.499999999999975,28.899999999999974,29.399999999999974,29.799999999999972,30.19999999999997,30.59999999999997,31.09999999999997,31.499999999999968,31.899999999999967,32.29999999999997,32.79999999999997,33.19999999999997,33.599999999999966,33.999999999999964,34.499999999999964,34.89999999999996,35.29999999999996,35.69999999999996,36.19999999999996,36.59999999999996,36.99999999999996,37.399999999999956],\"y\":[82.29415213753882,74.40152836380196,79.18481249405076,80.04465905867298,80.25801129281389,77.28190264766056,79.7795625304569,80.16045408576262,80.7747346807587,77.18687286995501,79.14166638116286,80.22347798374751,81.46886794920924,67.95379879903726,78.32583491736395,79.65843482063235,80.43713286580483,74.90834310756283,78.93380669896236,80.00615495366041,80.88791605313888,80.73146996329811,81.28449975980585,81.7849685309516,82.00141673472315,81.12979155869981,81.35028812974478,81.56411225446931,81.91777416322059,81.36771725703004,81.42107151712588,82.3051105409963,82.03621405960763,79.90183284888407,81.04776370384951,81.3739463363955,81.34750254140879,78.52233827871342,80.73128979211951,80.88629005776308,81.3497045289241,75.71101191928216,79.17993350983942,81.49752782609114,81.83912980937292,81.55565970199352,82.35046375250688,82.5783069302039,82.45108364466489,82.55543020973394,82.54960036171386,82.53394234926245,82.58805144846086,67.68626498450195,79.40006456170072,80.42983855577846,80.47714114240682,80.55988209681765,81.01215846317216,82.15846151784847,82.02094325405768,81.2194521345896,81.43359651261144,81.56473919493838,81.5816618972219,81.40672604323996,81.82809385358912,82.11545068676017,82.2351734066146,79.41110699588891,81.11316943439671,81.55850879135738,81.10499896510201,79.6008006782466,80.50668818083652,80.92331160147829,80.95605244286186,77.44001049874181,80.48097592178493,81.58385473437441,81.97619588197752,81.71858049649268,82.48697563664959,82.44247591760654,82.3932355373232,53.994436592430624,74.12732965475172,80.85984258710118,82.49418345050098],\"type\":\"bar\",\"xaxis\":\"x\",\"yaxis\":\"y\"},{\"marker\":{\"color\":\"#2ca02c\",\"size\":10},\"mode\":\"markers\",\"name\":\"Baseline\",\"showlegend\":true,\"x\":[null],\"y\":[null],\"type\":\"scatter\",\"xaxis\":\"x\",\"yaxis\":\"y\"},{\"marker\":{\"color\":\"#d62728\",\"size\":10},\"mode\":\"markers\",\"name\":\"Jailbreak Rollouts\",\"showlegend\":true,\"x\":[null],\"y\":[null],\"type\":\"scatter\",\"xaxis\":\"x\",\"yaxis\":\"y\"},{\"marker\":{\"color\":\"#ff7f0e\",\"size\":10},\"mode\":\"markers\",\"name\":\"Role\\u002fTrait Rollouts\",\"showlegend\":true,\"x\":[null],\"y\":[null],\"type\":\"scatter\",\"xaxis\":\"x\",\"yaxis\":\"y\"},{\"marker\":{\"color\":\"#9467bd\",\"size\":10},\"mode\":\"markers\",\"name\":\"LMSYS-10K Rollouts\",\"showlegend\":true,\"x\":[null],\"y\":[null],\"type\":\"scatter\",\"xaxis\":\"x\",\"yaxis\":\"y\"}],                        {\"template\":{\"data\":{\"histogram2dcontour\":[{\"type\":\"histogram2dcontour\",\"colorbar\":{\"outlinewidth\":0,\"ticks\":\"\"},\"colorscale\":[[0.0,\"#0d0887\"],[0.1111111111111111,\"#46039f\"],[0.2222222222222222,\"#7201a8\"],[0.3333333333333333,\"#9c179e\"],[0.4444444444444444,\"#bd3786\"],[0.5555555555555556,\"#d8576b\"],[0.6666666666666666,\"#ed7953\"],[0.7777777777777778,\"#fb9f3a\"],[0.8888888888888888,\"#fdca26\"],[1.0,\"#f0f921\"]]}],\"choropleth\":[{\"type\":\"choropleth\",\"colorbar\":{\"outlinewidth\":0,\"ticks\":\"\"}}],\"histogram2d\":[{\"type\":\"histogram2d\",\"colorbar\":{\"outlinewidth\":0,\"ticks\":\"\"},\"colorscale\":[[0.0,\"#0d0887\"],[0.1111111111111111,\"#46039f\"],[0.2222222222222222,\"#7201a8\"],[0.3333333333333333,\"#9c179e\"],[0.4444444444444444,\"#bd3786\"],[0.5555555555555556,\"#d8576b\"],[0.6666666666666666,\"#ed7953\"],[0.7777777777777778,\"#fb9f3a\"],[0.8888888888888888,\"#fdca26\"],[1.0,\"#f0f921\"]]}],\"heatmap\":[{\"type\":\"heatmap\",\"colorbar\":{\"outlinewidth\":0,\"ticks\":\"\"},\"colorscale\":[[0.0,\"#0d0887\"],[0.1111111111111111,\"#46039f\"],[0.2222222222222222,\"#7201a8\"],[0.3333333333333333,\"#9c179e\"],[0.4444444444444444,\"#bd3786\"],[0.5555555555555556,\"#d8576b\"],[0.6666666666666666,\"#ed7953\"],[0.7777777777777778,\"#fb9f3a\"],[0.8888888888888888,\"#fdca26\"],[1.0,\"#f0f921\"]]}],\"heatmapgl\":[{\"type\":\"heatmapgl\",\"colorbar\":{\"outlinewidth\":0,\"ticks\":\"\"},\"colorscale\":[[0.0,\"#0d0887\"],[0.1111111111111111,\"#46039f\"],[0.2222222222222222,\"#7201a8\"],[0.3333333333333333,\"#9c179e\"],[0.4444444444444444,\"#bd3786\"],[0.5555555555555556,\"#d8576b\"],[0.6666666666666666,\"#ed7953\"],[0.7777777777777778,\"#fb9f3a\"],[0.8888888888888888,\"#fdca26\"],[1.0,\"#f0f921\"]]}],\"contourcarpet\":[{\"type\":\"contourcarpet\",\"colorbar\":{\"outlinewidth\":0,\"ticks\":\"\"}}],\"contour\":[{\"type\":\"contour\",\"colorbar\":{\"outlinewidth\":0,\"ticks\":\"\"},\"colorscale\":[[0.0,\"#0d0887\"],[0.1111111111111111,\"#46039f\"],[0.2222222222222222,\"#7201a8\"],[0.3333333333333333,\"#9c179e\"],[0.4444444444444444,\"#bd3786\"],[0.5555555555555556,\"#d8576b\"],[0.6666666666666666,\"#ed7953\"],[0.7777777777777778,\"#fb9f3a\"],[0.8888888888888888,\"#fdca26\"],[1.0,\"#f0f921\"]]}],\"surface\":[{\"type\":\"surface\",\"colorbar\":{\"outlinewidth\":0,\"ticks\":\"\"},\"colorscale\":[[0.0,\"#0d0887\"],[0.1111111111111111,\"#46039f\"],[0.2222222222222222,\"#7201a8\"],[0.3333333333333333,\"#9c179e\"],[0.4444444444444444,\"#bd3786\"],[0.5555555555555556,\"#d8576b\"],[0.6666666666666666,\"#ed7953\"],[0.7777777777777778,\"#fb9f3a\"],[0.8888888888888888,\"#fdca26\"],[1.0,\"#f0f921\"]]}],\"mesh3d\":[{\"type\":\"mesh3d\",\"colorbar\":{\"outlinewidth\":0,\"ticks\":\"\"}}],\"scatter\":[{\"fillpattern\":{\"fillmode\":\"overlay\",\"size\":10,\"solidity\":0.2},\"type\":\"scatter\"}],\"parcoords\":[{\"type\":\"parcoords\",\"line\":{\"colorbar\":{\"outlinewidth\":0,\"ticks\":\"\"}}}],\"scatterpolargl\":[{\"type\":\"scatterpolargl\",\"marker\":{\"colorbar\":{\"outlinewidth\":0,\"ticks\":\"\"}}}],\"bar\":[{\"error_x\":{\"color\":\"#2a3f5f\"},\"error_y\":{\"color\":\"#2a3f5f\"},\"marker\":{\"line\":{\"color\":\"#E5ECF6\",\"width\":0.5},\"pattern\":{\"fillmode\":\"overlay\",\"size\":10,\"solidity\":0.2}},\"type\":\"bar\"}],\"scattergeo\":[{\"type\":\"scattergeo\",\"marker\":{\"colorbar\":{\"outlinewidth\":0,\"ticks\":\"\"}}}],\"scatterpolar\":[{\"type\":\"scatterpolar\",\"marker\":{\"colorbar\":{\"outlinewidth\":0,\"ticks\":\"\"}}}],\"histogram\":[{\"marker\":{\"pattern\":{\"fillmode\":\"overlay\",\"size\":10,\"solidity\":0.2}},\"type\":\"histogram\"}],\"scattergl\":[{\"type\":\"scattergl\",\"marker\":{\"colorbar\":{\"outlinewidth\":0,\"ticks\":\"\"}}}],\"scatter3d\":[{\"type\":\"scatter3d\",\"line\":{\"colorbar\":{\"outlinewidth\":0,\"ticks\":\"\"}},\"marker\":{\"colorbar\":{\"outlinewidth\":0,\"ticks\":\"\"}}}],\"scattermapbox\":[{\"type\":\"scattermapbox\",\"marker\":{\"colorbar\":{\"outlinewidth\":0,\"ticks\":\"\"}}}],\"scatterternary\":[{\"type\":\"scatterternary\",\"marker\":{\"colorbar\":{\"outlinewidth\":0,\"ticks\":\"\"}}}],\"scattercarpet\":[{\"type\":\"scattercarpet\",\"marker\":{\"colorbar\":{\"outlinewidth\":0,\"ticks\":\"\"}}}],\"carpet\":[{\"aaxis\":{\"endlinecolor\":\"#2a3f5f\",\"gridcolor\":\"white\",\"linecolor\":\"white\",\"minorgridcolor\":\"white\",\"startlinecolor\":\"#2a3f5f\"},\"baxis\":{\"endlinecolor\":\"#2a3f5f\",\"gridcolor\":\"white\",\"linecolor\":\"white\",\"minorgridcolor\":\"white\",\"startlinecolor\":\"#2a3f5f\"},\"type\":\"carpet\"}],\"table\":[{\"cells\":{\"fill\":{\"color\":\"#EBF0F8\"},\"line\":{\"color\":\"white\"}},\"header\":{\"fill\":{\"color\":\"#C8D4E3\"},\"line\":{\"color\":\"white\"}},\"type\":\"table\"}],\"barpolar\":[{\"marker\":{\"line\":{\"color\":\"#E5ECF6\",\"width\":0.5},\"pattern\":{\"fillmode\":\"overlay\",\"size\":10,\"solidity\":0.2}},\"type\":\"barpolar\"}],\"pie\":[{\"automargin\":true,\"type\":\"pie\"}]},\"layout\":{\"autotypenumbers\":\"strict\",\"colorway\":[\"#636efa\",\"#EF553B\",\"#00cc96\",\"#ab63fa\",\"#FFA15A\",\"#19d3f3\",\"#FF6692\",\"#B6E880\",\"#FF97FF\",\"#FECB52\"],\"font\":{\"color\":\"#2a3f5f\"},\"hovermode\":\"closest\",\"hoverlabel\":{\"align\":\"left\"},\"paper_bgcolor\":\"white\",\"plot_bgcolor\":\"#E5ECF6\",\"polar\":{\"bgcolor\":\"#E5ECF6\",\"angularaxis\":{\"gridcolor\":\"white\",\"linecolor\":\"white\",\"ticks\":\"\"},\"radialaxis\":{\"gridcolor\":\"white\",\"linecolor\":\"white\",\"ticks\":\"\"}},\"ternary\":{\"bgcolor\":\"#E5ECF6\",\"aaxis\":{\"gridcolor\":\"white\",\"linecolor\":\"white\",\"ticks\":\"\"},\"baxis\":{\"gridcolor\":\"white\",\"linecolor\":\"white\",\"ticks\":\"\"},\"caxis\":{\"gridcolor\":\"white\",\"linecolor\":\"white\",\"ticks\":\"\"}},\"coloraxis\":{\"colorbar\":{\"outlinewidth\":0,\"ticks\":\"\"}},\"colorscale\":{\"sequential\":[[0.0,\"#0d0887\"],[0.1111111111111111,\"#46039f\"],[0.2222222222222222,\"#7201a8\"],[0.3333333333333333,\"#9c179e\"],[0.4444444444444444,\"#bd3786\"],[0.5555555555555556,\"#d8576b\"],[0.6666666666666666,\"#ed7953\"],[0.7777777777777778,\"#fb9f3a\"],[0.8888888888888888,\"#fdca26\"],[1.0,\"#f0f921\"]],\"sequentialminus\":[[0.0,\"#0d0887\"],[0.1111111111111111,\"#46039f\"],[0.2222222222222222,\"#7201a8\"],[0.3333333333333333,\"#9c179e\"],[0.4444444444444444,\"#bd3786\"],[0.5555555555555556,\"#d8576b\"],[0.6666666666666666,\"#ed7953\"],[0.7777777777777778,\"#fb9f3a\"],[0.8888888888888888,\"#fdca26\"],[1.0,\"#f0f921\"]],\"diverging\":[[0,\"#8e0152\"],[0.1,\"#c51b7d\"],[0.2,\"#de77ae\"],[0.3,\"#f1b6da\"],[0.4,\"#fde0ef\"],[0.5,\"#f7f7f7\"],[0.6,\"#e6f5d0\"],[0.7,\"#b8e186\"],[0.8,\"#7fbc41\"],[0.9,\"#4d9221\"],[1,\"#276419\"]]},\"xaxis\":{\"gridcolor\":\"white\",\"linecolor\":\"white\",\"ticks\":\"\",\"title\":{\"standoff\":15},\"zerolinecolor\":\"white\",\"automargin\":true,\"zerolinewidth\":2},\"yaxis\":{\"gridcolor\":\"white\",\"linecolor\":\"white\",\"ticks\":\"\",\"title\":{\"standoff\":15},\"zerolinecolor\":\"white\",\"automargin\":true,\"zerolinewidth\":2},\"scene\":{\"xaxis\":{\"backgroundcolor\":\"#E5ECF6\",\"gridcolor\":\"white\",\"linecolor\":\"white\",\"showbackground\":true,\"ticks\":\"\",\"zerolinecolor\":\"white\",\"gridwidth\":2},\"yaxis\":{\"backgroundcolor\":\"#E5ECF6\",\"gridcolor\":\"white\",\"linecolor\":\"white\",\"showbackground\":true,\"ticks\":\"\",\"zerolinecolor\":\"white\",\"gridwidth\":2},\"zaxis\":{\"backgroundcolor\":\"#E5ECF6\",\"gridcolor\":\"white\",\"linecolor\":\"white\",\"showbackground\":true,\"ticks\":\"\",\"zerolinecolor\":\"white\",\"gridwidth\":2}},\"shapedefaults\":{\"line\":{\"color\":\"#2a3f5f\"}},\"annotationdefaults\":{\"arrowcolor\":\"#2a3f5f\",\"arrowhead\":0,\"arrowwidth\":1},\"geo\":{\"bgcolor\":\"white\",\"landcolor\":\"#E5ECF6\",\"subunitcolor\":\"white\",\"showland\":true,\"showlakes\":true,\"lakecolor\":\"white\"},\"title\":{\"x\":0.05},\"mapbox\":{\"style\":\"light\"}}},\"xaxis\":{\"anchor\":\"y\",\"domain\":[0.0,1.0],\"title\":{\"text\":\"Intervention Layers\"},\"tickfont\":{\"size\":10},\"tickmode\":\"array\",\"tickvals\":[0.0,1.0999999999999999,2.8,4.5,6.200000000000001,7.900000000000002,9.600000000000001,11.300000000000004,13.000000000000004,14.700000000000006,16.400000000000006,18.1,19.799999999999997,21.499999999999993,23.19999999999999,24.899999999999984,26.59999999999998,28.299999999999976,29.99999999999997,31.699999999999967,33.39999999999996,35.099999999999966,36.799999999999955],\"ticktext\":[\"Baseline\",\"All Layers (0-63)\",\"Every 2nd Layer\",\"Every 4th Layer\",\"Layers 32-63\",\"All Layers (0-63)\",\"Layers 0-15\",\"Layers 8-15\",\"Layers 16-23\",\"Layers 24-31\",\"Layers 32-39\",\"Layers 40-47\",\"Layers 48-55\",\"Layers 56-63\",\"All Layers (0-63)\",\"Layers 0-15\",\"Layers 8-15\",\"Layers 16-23\",\"Layers 24-31\",\"Layers 32-39\",\"Layers 40-47\",\"Layers 48-55\",\"Layers 56-63\"],\"range\":[-0.5,37.899999999999956]},\"yaxis\":{\"anchor\":\"x\",\"domain\":[0.0,1.0],\"title\":{\"text\":\"Score\"},\"tickfont\":{\"size\":10},\"range\":[0,100]},\"annotations\":[{\"font\":{\"size\":16},\"showarrow\":false,\"text\":\"EQ-Bench Score (Higher is Better)\",\"x\":0.5,\"xanchor\":\"center\",\"xref\":\"paper\",\"y\":1.0,\"yanchor\":\"bottom\",\"yref\":\"paper\"},{\"showarrow\":false,\"text\":\"\\u003cspan style='font-size:10px'\\u003eProjection caps in each bar group\\u003cbr\\u003e(L-R) strict to relaxed\\u003c\\u002fspan\\u003e\",\"x\":1,\"xanchor\":\"right\",\"xref\":\"paper\",\"y\":1,\"yanchor\":\"top\",\"yref\":\"paper\"}],\"shapes\":[{\"line\":{\"color\":\"green\",\"dash\":\"dot\",\"width\":1},\"opacity\":0.8,\"type\":\"line\",\"x0\":0,\"x1\":1,\"xref\":\"x domain\",\"y0\":82.29415213753882,\"y1\":82.29415213753882,\"yref\":\"y\"}],\"legend\":{\"x\":1.0,\"y\":1.08,\"xanchor\":\"right\",\"yanchor\":\"bottom\",\"orientation\":\"h\"},\"title\":{\"subtitle\":{\"text\":\"Qwen 3 32B, Single-Shot & No Thinking\"},\"text\":\"EQ-Bench with Projection Capping\"},\"margin\":{\"b\":100,\"t\":150},\"height\":550,\"width\":1000},                        {\"responsive\": true}                    ).then(function(){\n",
       "                            \n",
       "var gd = document.getElementById('931d4c31-409e-4532-b911-ea3c24658127');\n",
       "var x = new MutationObserver(function (mutations, observer) {{\n",
       "        var display = window.getComputedStyle(gd).display;\n",
       "        if (!display || display === 'none') {{\n",
       "            console.log([gd, 'removed!']);\n",
       "            Plotly.purge(gd);\n",
       "            observer.disconnect();\n",
       "        }}\n",
       "}});\n",
       "\n",
       "// Listen for the removal of the full notebook cells\n",
       "var notebookContainer = gd.closest('#notebook-container');\n",
       "if (notebookContainer) {{\n",
       "    x.observe(notebookContainer, {childList: true});\n",
       "}}\n",
       "\n",
       "// Listen for the clearing of the current output cell\n",
       "var outputEl = gd.closest('.output');\n",
       "if (outputEl) {{\n",
       "    x.observe(outputEl, {childList: true});\n",
       "}}\n",
       "\n",
       "                        })                };                });            </script>        </div>"
      ]
     },
     "metadata": {},
     "output_type": "display_data"
    }
   ],
   "source": [
    "fig_eq = plot_benchmark_results(df_eq, 'eq_bench', \n",
    "                                  title=\"EQ-Bench with Projection Capping\", \n",
    "                                  subtitle=subtitle,\n",
    "                                  total_layers=total_layers)\n",
    "fig_eq.show()\n",
    "#fig_eq.write_html(f\"{out_dir}/eq_bench.html\")"
   ]
  },
  {
   "cell_type": "markdown",
   "id": "746d50ba",
   "metadata": {},
   "source": [
    "## GSM8K"
   ]
  },
  {
   "cell_type": "code",
   "execution_count": 6,
   "id": "09bcd20e",
   "metadata": {},
   "outputs": [
    {
     "name": "stdout",
     "output_type": "stream",
     "text": [
      "Warning: Config directory not found: /workspace/llama-3.3-70b/capped/benchmarks/gsm8k/jailbreak\n",
      "Warning: Config directory not found: /workspace/llama-3.3-70b/capped/benchmarks/gsm8k/lmsys_10000\n",
      "Loaded 241 GSM8K experiment runs\n",
      "\n",
      "Config breakdown:\n",
      "  baseline: 1 unique experiments\n",
      "    - baseline (1 run)\n",
      "  role_trait: 120 unique experiments\n",
      "    - layers_0:40-p0.01 (2 runs)\n",
      "    - layers_0:40-p0.25 (2 runs)\n",
      "    - layers_0:40-p0.5 (2 runs)\n",
      "    - layers_0:40-p0.75 (2 runs)\n",
      "    - layers_0:80-p0.01 (2 runs)\n",
      "    - layers_0:80-p0.25 (2 runs)\n",
      "    - layers_0:80-p0.5 (2 runs)\n",
      "    - layers_0:80-p0.75 (2 runs)\n",
      "    - layers_32:40-p0.01 (2 runs)\n",
      "    - layers_32:40-p0.25 (2 runs)\n",
      "    - layers_32:40-p0.5 (2 runs)\n",
      "    - layers_32:40-p0.75 (2 runs)\n",
      "    - layers_32:48-p0.01 (2 runs)\n",
      "    - layers_32:48-p0.25 (2 runs)\n",
      "    - layers_32:48-p0.5 (2 runs)\n",
      "    - layers_32:48-p0.75 (2 runs)\n",
      "    - layers_32:56-p0.01 (2 runs)\n",
      "    - layers_32:56-p0.25 (2 runs)\n",
      "    - layers_32:56-p0.5 (2 runs)\n",
      "    - layers_32:56-p0.75 (2 runs)\n",
      "    - layers_36:44-p0.01 (2 runs)\n",
      "    - layers_36:44-p0.25 (2 runs)\n",
      "    - layers_36:44-p0.5 (2 runs)\n",
      "    - layers_36:44-p0.75 (2 runs)\n",
      "    - layers_36:52-p0.01 (2 runs)\n",
      "    - layers_36:52-p0.25 (2 runs)\n",
      "    - layers_36:52-p0.5 (2 runs)\n",
      "    - layers_36:52-p0.75 (2 runs)\n",
      "    - layers_36:60-p0.01 (2 runs)\n",
      "    - layers_36:60-p0.25 (2 runs)\n",
      "    - layers_36:60-p0.5 (2 runs)\n",
      "    - layers_36:60-p0.75 (2 runs)\n",
      "    - layers_40:48-p0.01 (2 runs)\n",
      "    - layers_40:48-p0.25 (2 runs)\n",
      "    - layers_40:48-p0.5 (2 runs)\n",
      "    - layers_40:48-p0.75 (2 runs)\n",
      "    - layers_40:56-p0.01 (2 runs)\n",
      "    - layers_40:56-p0.25 (2 runs)\n",
      "    - layers_40:56-p0.5 (2 runs)\n",
      "    - layers_40:56-p0.75 (2 runs)\n",
      "    - layers_40:64-p0.01 (2 runs)\n",
      "    - layers_40:64-p0.25 (2 runs)\n",
      "    - layers_40:64-p0.5 (2 runs)\n",
      "    - layers_40:64-p0.75 (2 runs)\n",
      "    - layers_40:80-p0.01 (2 runs)\n",
      "    - layers_40:80-p0.25 (2 runs)\n",
      "    - layers_40:80-p0.5 (2 runs)\n",
      "    - layers_40:80-p0.75 (2 runs)\n",
      "    - layers_44:52-p0.01 (2 runs)\n",
      "    - layers_44:52-p0.25 (2 runs)\n",
      "    - layers_44:52-p0.5 (2 runs)\n",
      "    - layers_44:52-p0.75 (2 runs)\n",
      "    - layers_44:60-p0.01 (2 runs)\n",
      "    - layers_44:60-p0.25 (2 runs)\n",
      "    - layers_44:60-p0.5 (2 runs)\n",
      "    - layers_44:60-p0.75 (2 runs)\n",
      "    - layers_44:68-p0.01 (2 runs)\n",
      "    - layers_44:68-p0.25 (2 runs)\n",
      "    - layers_44:68-p0.5 (2 runs)\n",
      "    - layers_44:68-p0.75 (2 runs)\n",
      "    - layers_48:56-p0.01 (2 runs)\n",
      "    - layers_48:56-p0.25 (2 runs)\n",
      "    - layers_48:56-p0.5 (2 runs)\n",
      "    - layers_48:56-p0.75 (2 runs)\n",
      "    - layers_48:64-p0.01 (2 runs)\n",
      "    - layers_48:64-p0.25 (2 runs)\n",
      "    - layers_48:64-p0.5 (2 runs)\n",
      "    - layers_48:64-p0.75 (2 runs)\n",
      "    - layers_48:72-p0.01 (2 runs)\n",
      "    - layers_48:72-p0.25 (2 runs)\n",
      "    - layers_48:72-p0.5 (2 runs)\n",
      "    - layers_48:72-p0.75 (2 runs)\n",
      "    - layers_52:60-p0.01 (2 runs)\n",
      "    - layers_52:60-p0.25 (2 runs)\n",
      "    - layers_52:60-p0.5 (2 runs)\n",
      "    - layers_52:60-p0.75 (2 runs)\n",
      "    - layers_52:68-p0.01 (2 runs)\n",
      "    - layers_52:68-p0.25 (2 runs)\n",
      "    - layers_52:68-p0.5 (2 runs)\n",
      "    - layers_52:68-p0.75 (2 runs)\n",
      "    - layers_52:76-p0.01 (2 runs)\n",
      "    - layers_52:76-p0.25 (2 runs)\n",
      "    - layers_52:76-p0.5 (2 runs)\n",
      "    - layers_52:76-p0.75 (2 runs)\n",
      "    - layers_56:64-p0.01 (2 runs)\n",
      "    - layers_56:64-p0.25 (2 runs)\n",
      "    - layers_56:64-p0.5 (2 runs)\n",
      "    - layers_56:64-p0.75 (2 runs)\n",
      "    - layers_56:72-p0.01 (2 runs)\n",
      "    - layers_56:72-p0.25 (2 runs)\n",
      "    - layers_56:72-p0.5 (2 runs)\n",
      "    - layers_56:72-p0.75 (2 runs)\n",
      "    - layers_56:80-p0.01 (2 runs)\n",
      "    - layers_56:80-p0.25 (2 runs)\n",
      "    - layers_56:80-p0.5 (2 runs)\n",
      "    - layers_56:80-p0.75 (2 runs)\n",
      "    - layers_60:68-p0.01 (2 runs)\n",
      "    - layers_60:68-p0.25 (2 runs)\n",
      "    - layers_60:68-p0.5 (2 runs)\n",
      "    - layers_60:68-p0.75 (2 runs)\n",
      "    - layers_60:76-p0.01 (2 runs)\n",
      "    - layers_60:76-p0.25 (2 runs)\n",
      "    - layers_60:76-p0.5 (2 runs)\n",
      "    - layers_60:76-p0.75 (2 runs)\n",
      "    - layers_64:72-p0.01 (2 runs)\n",
      "    - layers_64:72-p0.25 (2 runs)\n",
      "    - layers_64:72-p0.5 (2 runs)\n",
      "    - layers_64:72-p0.75 (2 runs)\n",
      "    - layers_64:80-p0.01 (2 runs)\n",
      "    - layers_64:80-p0.25 (2 runs)\n",
      "    - layers_64:80-p0.5 (2 runs)\n",
      "    - layers_64:80-p0.75 (2 runs)\n",
      "    - layers_68:76-p0.01 (2 runs)\n",
      "    - layers_68:76-p0.25 (2 runs)\n",
      "    - layers_68:76-p0.5 (2 runs)\n",
      "    - layers_68:76-p0.75 (2 runs)\n",
      "    - layers_72:80-p0.01 (2 runs)\n",
      "    - layers_72:80-p0.25 (2 runs)\n",
      "    - layers_72:80-p0.5 (2 runs)\n",
      "    - layers_72:80-p0.75 (2 runs)\n"
     ]
    }
   ],
   "source": [
    "df_gsm8k = load_experiment_data([\"gsm8k\"], config_names, base_dir)\n",
    "print(f\"Loaded {len(df_gsm8k)} GSM8K experiment runs\")\n",
    "print(f\"\\nConfig breakdown:\")\n",
    "for config in df_gsm8k['config_name'].unique():\n",
    "    config_df = df_gsm8k[df_gsm8k['config_name'] == config]\n",
    "    unique_exps = config_df['experiment_id'].unique()\n",
    "    print(f\"  {config}: {len(unique_exps)} unique experiments\")\n",
    "    for exp in sorted(unique_exps):\n",
    "        exp_count = len(config_df[config_df['experiment_id'] == exp])\n",
    "        print(f\"    - {exp} ({exp_count} run{'s' if exp_count > 1 else ''})\")"
   ]
  },
  {
   "cell_type": "code",
   "execution_count": 18,
   "id": "f9db3c92",
   "metadata": {},
   "outputs": [
    {
     "data": {
      "text/html": [
       "<div>\n",
       "<style scoped>\n",
       "    .dataframe tbody tr th:only-of-type {\n",
       "        vertical-align: middle;\n",
       "    }\n",
       "\n",
       "    .dataframe tbody tr th {\n",
       "        vertical-align: top;\n",
       "    }\n",
       "\n",
       "    .dataframe thead th {\n",
       "        text-align: right;\n",
       "    }\n",
       "</style>\n",
       "<table border=\"1\" class=\"dataframe\">\n",
       "  <thead>\n",
       "    <tr style=\"text-align: right;\">\n",
       "      <th></th>\n",
       "      <th>experiment_id</th>\n",
       "      <th>config_name</th>\n",
       "      <th>thinking</th>\n",
       "      <th>apply_chat_template</th>\n",
       "      <th>vllm</th>\n",
       "      <th>max_gen_toks</th>\n",
       "      <th>dtype</th>\n",
       "      <th>exact_match,flexible-extract</th>\n",
       "    </tr>\n",
       "  </thead>\n",
       "  <tbody>\n",
       "    <tr>\n",
       "      <th>0</th>\n",
       "      <td>baseline</td>\n",
       "      <td>baseline</td>\n",
       "      <td>False</td>\n",
       "      <td>True</td>\n",
       "      <td>True</td>\n",
       "      <td>NaN</td>\n",
       "      <td>float16</td>\n",
       "      <td>0.891</td>\n",
       "    </tr>\n",
       "    <tr>\n",
       "      <th>1</th>\n",
       "      <td>layers_72:80-p0.75</td>\n",
       "      <td>role_trait</td>\n",
       "      <td>False</td>\n",
       "      <td>True</td>\n",
       "      <td>True</td>\n",
       "      <td>NaN</td>\n",
       "      <td>float16</td>\n",
       "      <td>0.870</td>\n",
       "    </tr>\n",
       "    <tr>\n",
       "      <th>2</th>\n",
       "      <td>layers_72:80-p0.75</td>\n",
       "      <td>role_trait</td>\n",
       "      <td>False</td>\n",
       "      <td>True</td>\n",
       "      <td>False</td>\n",
       "      <td>2048.0</td>\n",
       "      <td>bfloat16</td>\n",
       "      <td>0.884</td>\n",
       "    </tr>\n",
       "    <tr>\n",
       "      <th>3</th>\n",
       "      <td>layers_72:80-p0.5</td>\n",
       "      <td>role_trait</td>\n",
       "      <td>False</td>\n",
       "      <td>True</td>\n",
       "      <td>True</td>\n",
       "      <td>NaN</td>\n",
       "      <td>float16</td>\n",
       "      <td>0.865</td>\n",
       "    </tr>\n",
       "    <tr>\n",
       "      <th>4</th>\n",
       "      <td>layers_72:80-p0.5</td>\n",
       "      <td>role_trait</td>\n",
       "      <td>False</td>\n",
       "      <td>True</td>\n",
       "      <td>False</td>\n",
       "      <td>2048.0</td>\n",
       "      <td>bfloat16</td>\n",
       "      <td>0.881</td>\n",
       "    </tr>\n",
       "    <tr>\n",
       "      <th>5</th>\n",
       "      <td>layers_72:80-p0.25</td>\n",
       "      <td>role_trait</td>\n",
       "      <td>False</td>\n",
       "      <td>True</td>\n",
       "      <td>True</td>\n",
       "      <td>NaN</td>\n",
       "      <td>float16</td>\n",
       "      <td>0.864</td>\n",
       "    </tr>\n",
       "    <tr>\n",
       "      <th>6</th>\n",
       "      <td>layers_72:80-p0.25</td>\n",
       "      <td>role_trait</td>\n",
       "      <td>False</td>\n",
       "      <td>True</td>\n",
       "      <td>False</td>\n",
       "      <td>2048.0</td>\n",
       "      <td>bfloat16</td>\n",
       "      <td>0.887</td>\n",
       "    </tr>\n",
       "    <tr>\n",
       "      <th>7</th>\n",
       "      <td>layers_72:80-p0.01</td>\n",
       "      <td>role_trait</td>\n",
       "      <td>False</td>\n",
       "      <td>True</td>\n",
       "      <td>True</td>\n",
       "      <td>NaN</td>\n",
       "      <td>float16</td>\n",
       "      <td>0.866</td>\n",
       "    </tr>\n",
       "    <tr>\n",
       "      <th>8</th>\n",
       "      <td>layers_72:80-p0.01</td>\n",
       "      <td>role_trait</td>\n",
       "      <td>False</td>\n",
       "      <td>True</td>\n",
       "      <td>False</td>\n",
       "      <td>2048.0</td>\n",
       "      <td>bfloat16</td>\n",
       "      <td>0.884</td>\n",
       "    </tr>\n",
       "    <tr>\n",
       "      <th>9</th>\n",
       "      <td>layers_68:76-p0.75</td>\n",
       "      <td>role_trait</td>\n",
       "      <td>False</td>\n",
       "      <td>True</td>\n",
       "      <td>True</td>\n",
       "      <td>NaN</td>\n",
       "      <td>float16</td>\n",
       "      <td>0.871</td>\n",
       "    </tr>\n",
       "    <tr>\n",
       "      <th>10</th>\n",
       "      <td>layers_68:76-p0.75</td>\n",
       "      <td>role_trait</td>\n",
       "      <td>False</td>\n",
       "      <td>True</td>\n",
       "      <td>False</td>\n",
       "      <td>2048.0</td>\n",
       "      <td>bfloat16</td>\n",
       "      <td>0.887</td>\n",
       "    </tr>\n",
       "    <tr>\n",
       "      <th>11</th>\n",
       "      <td>layers_68:76-p0.5</td>\n",
       "      <td>role_trait</td>\n",
       "      <td>False</td>\n",
       "      <td>True</td>\n",
       "      <td>True</td>\n",
       "      <td>NaN</td>\n",
       "      <td>float16</td>\n",
       "      <td>0.871</td>\n",
       "    </tr>\n",
       "    <tr>\n",
       "      <th>12</th>\n",
       "      <td>layers_68:76-p0.5</td>\n",
       "      <td>role_trait</td>\n",
       "      <td>False</td>\n",
       "      <td>True</td>\n",
       "      <td>False</td>\n",
       "      <td>2048.0</td>\n",
       "      <td>bfloat16</td>\n",
       "      <td>0.887</td>\n",
       "    </tr>\n",
       "    <tr>\n",
       "      <th>13</th>\n",
       "      <td>layers_68:76-p0.25</td>\n",
       "      <td>role_trait</td>\n",
       "      <td>False</td>\n",
       "      <td>True</td>\n",
       "      <td>True</td>\n",
       "      <td>NaN</td>\n",
       "      <td>float16</td>\n",
       "      <td>0.873</td>\n",
       "    </tr>\n",
       "    <tr>\n",
       "      <th>14</th>\n",
       "      <td>layers_68:76-p0.25</td>\n",
       "      <td>role_trait</td>\n",
       "      <td>False</td>\n",
       "      <td>True</td>\n",
       "      <td>False</td>\n",
       "      <td>2048.0</td>\n",
       "      <td>bfloat16</td>\n",
       "      <td>0.891</td>\n",
       "    </tr>\n",
       "    <tr>\n",
       "      <th>15</th>\n",
       "      <td>layers_68:76-p0.01</td>\n",
       "      <td>role_trait</td>\n",
       "      <td>False</td>\n",
       "      <td>True</td>\n",
       "      <td>True</td>\n",
       "      <td>NaN</td>\n",
       "      <td>float16</td>\n",
       "      <td>0.869</td>\n",
       "    </tr>\n",
       "    <tr>\n",
       "      <th>16</th>\n",
       "      <td>layers_68:76-p0.01</td>\n",
       "      <td>role_trait</td>\n",
       "      <td>False</td>\n",
       "      <td>True</td>\n",
       "      <td>False</td>\n",
       "      <td>2048.0</td>\n",
       "      <td>bfloat16</td>\n",
       "      <td>0.897</td>\n",
       "    </tr>\n",
       "    <tr>\n",
       "      <th>17</th>\n",
       "      <td>layers_64:72-p0.75</td>\n",
       "      <td>role_trait</td>\n",
       "      <td>False</td>\n",
       "      <td>True</td>\n",
       "      <td>True</td>\n",
       "      <td>NaN</td>\n",
       "      <td>float16</td>\n",
       "      <td>0.872</td>\n",
       "    </tr>\n",
       "    <tr>\n",
       "      <th>18</th>\n",
       "      <td>layers_64:72-p0.75</td>\n",
       "      <td>role_trait</td>\n",
       "      <td>False</td>\n",
       "      <td>True</td>\n",
       "      <td>False</td>\n",
       "      <td>2048.0</td>\n",
       "      <td>bfloat16</td>\n",
       "      <td>0.891</td>\n",
       "    </tr>\n",
       "    <tr>\n",
       "      <th>19</th>\n",
       "      <td>layers_64:72-p0.5</td>\n",
       "      <td>role_trait</td>\n",
       "      <td>False</td>\n",
       "      <td>True</td>\n",
       "      <td>True</td>\n",
       "      <td>NaN</td>\n",
       "      <td>float16</td>\n",
       "      <td>0.875</td>\n",
       "    </tr>\n",
       "  </tbody>\n",
       "</table>\n",
       "</div>"
      ],
      "text/plain": [
       "         experiment_id config_name  thinking  apply_chat_template   vllm  \\\n",
       "0             baseline    baseline     False                 True   True   \n",
       "1   layers_72:80-p0.75  role_trait     False                 True   True   \n",
       "2   layers_72:80-p0.75  role_trait     False                 True  False   \n",
       "3    layers_72:80-p0.5  role_trait     False                 True   True   \n",
       "4    layers_72:80-p0.5  role_trait     False                 True  False   \n",
       "5   layers_72:80-p0.25  role_trait     False                 True   True   \n",
       "6   layers_72:80-p0.25  role_trait     False                 True  False   \n",
       "7   layers_72:80-p0.01  role_trait     False                 True   True   \n",
       "8   layers_72:80-p0.01  role_trait     False                 True  False   \n",
       "9   layers_68:76-p0.75  role_trait     False                 True   True   \n",
       "10  layers_68:76-p0.75  role_trait     False                 True  False   \n",
       "11   layers_68:76-p0.5  role_trait     False                 True   True   \n",
       "12   layers_68:76-p0.5  role_trait     False                 True  False   \n",
       "13  layers_68:76-p0.25  role_trait     False                 True   True   \n",
       "14  layers_68:76-p0.25  role_trait     False                 True  False   \n",
       "15  layers_68:76-p0.01  role_trait     False                 True   True   \n",
       "16  layers_68:76-p0.01  role_trait     False                 True  False   \n",
       "17  layers_64:72-p0.75  role_trait     False                 True   True   \n",
       "18  layers_64:72-p0.75  role_trait     False                 True  False   \n",
       "19   layers_64:72-p0.5  role_trait     False                 True   True   \n",
       "\n",
       "    max_gen_toks     dtype  exact_match,flexible-extract  \n",
       "0            NaN   float16                         0.891  \n",
       "1            NaN   float16                         0.870  \n",
       "2         2048.0  bfloat16                         0.884  \n",
       "3            NaN   float16                         0.865  \n",
       "4         2048.0  bfloat16                         0.881  \n",
       "5            NaN   float16                         0.864  \n",
       "6         2048.0  bfloat16                         0.887  \n",
       "7            NaN   float16                         0.866  \n",
       "8         2048.0  bfloat16                         0.884  \n",
       "9            NaN   float16                         0.871  \n",
       "10        2048.0  bfloat16                         0.887  \n",
       "11           NaN   float16                         0.871  \n",
       "12        2048.0  bfloat16                         0.887  \n",
       "13           NaN   float16                         0.873  \n",
       "14        2048.0  bfloat16                         0.891  \n",
       "15           NaN   float16                         0.869  \n",
       "16        2048.0  bfloat16                         0.897  \n",
       "17           NaN   float16                         0.872  \n",
       "18        2048.0  bfloat16                         0.891  \n",
       "19           NaN   float16                         0.875  "
      ]
     },
     "execution_count": 18,
     "metadata": {},
     "output_type": "execute_result"
    }
   ],
   "source": [
    "df_gsm8k[['experiment_id', 'config_name', 'thinking', 'apply_chat_template', 'vllm', 'max_gen_toks', 'dtype', 'exact_match,flexible-extract']].head(20)"
   ]
  },
  {
   "cell_type": "code",
   "execution_count": 33,
   "id": "67e9e954",
   "metadata": {},
   "outputs": [
    {
     "name": "stdout",
     "output_type": "stream",
     "text": [
      "Number of rows in df_gsm8k_plot: 89\n"
     ]
    }
   ],
   "source": [
    "df_gsm8k_plot = df_gsm8k[~(df_gsm8k['vllm'])]\n",
    "df_gsm8k_plot[['experiment_id', 'config_name', 'thinking', 'apply_chat_template', 'vllm', 'max_gen_toks', 'dtype', 'exact_match,flexible-extract']].head(20)\n",
    "\n",
    "# print number of rows in df_gsm8k_plot\n",
    "print(f\"Number of rows in df_gsm8k_plot: {len(df_gsm8k_plot)}\")\n"
   ]
  },
  {
   "cell_type": "code",
   "execution_count": 45,
   "id": "0bc4a713",
   "metadata": {},
   "outputs": [
    {
     "data": {
      "application/vnd.plotly.v1+json": {
       "config": {
        "plotlyServerURL": "https://plot.ly"
       },
       "data": [
        {
         "customdata": [
          [
           "Baseline",
           "baseline"
          ],
          [
           "All Layers (0-63), Safe 99th",
           "jailbreak"
          ],
          [
           "All Layers (0-63), Safe 50th",
           "jailbreak"
          ],
          [
           "All Layers (0-63), Harm 99th",
           "jailbreak"
          ],
          [
           "All Layers (0-63), Harm 75th",
           "jailbreak"
          ],
          [
           "Every 2nd Layer, Safe 99th",
           "jailbreak"
          ],
          [
           "Every 2nd Layer, Safe 50th",
           "jailbreak"
          ],
          [
           "Every 2nd Layer, Harm 99th",
           "jailbreak"
          ],
          [
           "Every 2nd Layer, Harm 75th",
           "jailbreak"
          ],
          [
           "Every 4th Layer, Safe 99th",
           "jailbreak"
          ],
          [
           "Every 4th Layer, Safe 50th",
           "jailbreak"
          ],
          [
           "Every 4th Layer, Harm 99th",
           "jailbreak"
          ],
          [
           "Every 4th Layer, Harm 75th",
           "jailbreak"
          ],
          [
           "Layers 32-63, Safe 99th",
           "jailbreak"
          ],
          [
           "Layers 32-63, Safe 50th",
           "jailbreak"
          ],
          [
           "Layers 32-63, Harm 99th",
           "jailbreak"
          ],
          [
           "Layers 32-63, Harm 75th",
           "jailbreak"
          ],
          [
           "All Layers (0-63), 1st",
           "role_trait"
          ],
          [
           "All Layers (0-63), 25th",
           "role_trait"
          ],
          [
           "All Layers (0-63), 50th",
           "role_trait"
          ],
          [
           "All Layers (0-63), 75th",
           "role_trait"
          ],
          [
           "Layers 0-15, 1st",
           "role_trait"
          ],
          [
           "Layers 0-15, 25th",
           "role_trait"
          ],
          [
           "Layers 0-15, 50th",
           "role_trait"
          ],
          [
           "Layers 0-15, 75th",
           "role_trait"
          ],
          [
           "Layers 8-15, 1st",
           "role_trait"
          ],
          [
           "Layers 8-15, 25th",
           "role_trait"
          ],
          [
           "Layers 8-15, 50th",
           "role_trait"
          ],
          [
           "Layers 8-15, 75th",
           "role_trait"
          ],
          [
           "Layers 16-23, 1st",
           "role_trait"
          ],
          [
           "Layers 16-23, 25th",
           "role_trait"
          ],
          [
           "Layers 16-23, 50th",
           "role_trait"
          ],
          [
           "Layers 16-23, 75th",
           "role_trait"
          ],
          [
           "Layers 24-31, 1st",
           "role_trait"
          ],
          [
           "Layers 24-31, 25th",
           "role_trait"
          ],
          [
           "Layers 24-31, 50th",
           "role_trait"
          ],
          [
           "Layers 24-31, 75th",
           "role_trait"
          ],
          [
           "Layers 32-39, 1st",
           "role_trait"
          ],
          [
           "Layers 32-39, 25th",
           "role_trait"
          ],
          [
           "Layers 32-39, 50th",
           "role_trait"
          ],
          [
           "Layers 32-39, 75th",
           "role_trait"
          ],
          [
           "Layers 40-47, 1st",
           "role_trait"
          ],
          [
           "Layers 40-47, 25th",
           "role_trait"
          ],
          [
           "Layers 40-47, 50th",
           "role_trait"
          ],
          [
           "Layers 40-47, 75th",
           "role_trait"
          ],
          [
           "Layers 48-55, 1st",
           "role_trait"
          ],
          [
           "Layers 48-55, 25th",
           "role_trait"
          ],
          [
           "Layers 48-55, 50th",
           "role_trait"
          ],
          [
           "Layers 48-55, 75th",
           "role_trait"
          ],
          [
           "Layers 56-63, 1st",
           "role_trait"
          ],
          [
           "Layers 56-63, 25th",
           "role_trait"
          ],
          [
           "Layers 56-63, 50th",
           "role_trait"
          ],
          [
           "Layers 56-63, 75th",
           "role_trait"
          ],
          [
           "All Layers (0-63), 1st",
           "lmsys_10000"
          ],
          [
           "All Layers (0-63), 25th",
           "lmsys_10000"
          ],
          [
           "All Layers (0-63), 50th",
           "lmsys_10000"
          ],
          [
           "All Layers (0-63), 75th",
           "lmsys_10000"
          ],
          [
           "Layers 0-15, 1st",
           "lmsys_10000"
          ],
          [
           "Layers 0-15, 25th",
           "lmsys_10000"
          ],
          [
           "Layers 0-15, 50th",
           "lmsys_10000"
          ],
          [
           "Layers 0-15, 75th",
           "lmsys_10000"
          ],
          [
           "Layers 8-15, 1st",
           "lmsys_10000"
          ],
          [
           "Layers 8-15, 25th",
           "lmsys_10000"
          ],
          [
           "Layers 8-15, 50th",
           "lmsys_10000"
          ],
          [
           "Layers 8-15, 75th",
           "lmsys_10000"
          ],
          [
           "Layers 16-23, 1st",
           "lmsys_10000"
          ],
          [
           "Layers 16-23, 25th",
           "lmsys_10000"
          ],
          [
           "Layers 16-23, 50th",
           "lmsys_10000"
          ],
          [
           "Layers 16-23, 75th",
           "lmsys_10000"
          ],
          [
           "Layers 24-31, 1st",
           "lmsys_10000"
          ],
          [
           "Layers 24-31, 25th",
           "lmsys_10000"
          ],
          [
           "Layers 24-31, 50th",
           "lmsys_10000"
          ],
          [
           "Layers 24-31, 75th",
           "lmsys_10000"
          ],
          [
           "Layers 32-39, 1st",
           "lmsys_10000"
          ],
          [
           "Layers 32-39, 25th",
           "lmsys_10000"
          ],
          [
           "Layers 32-39, 50th",
           "lmsys_10000"
          ],
          [
           "Layers 32-39, 75th",
           "lmsys_10000"
          ],
          [
           "Layers 40-47, 1st",
           "lmsys_10000"
          ],
          [
           "Layers 40-47, 25th",
           "lmsys_10000"
          ],
          [
           "Layers 40-47, 50th",
           "lmsys_10000"
          ],
          [
           "Layers 40-47, 75th",
           "lmsys_10000"
          ],
          [
           "Layers 48-55, 1st",
           "lmsys_10000"
          ],
          [
           "Layers 48-55, 25th",
           "lmsys_10000"
          ],
          [
           "Layers 48-55, 50th",
           "lmsys_10000"
          ],
          [
           "Layers 48-55, 75th",
           "lmsys_10000"
          ],
          [
           "Layers 56-63, 1st",
           "lmsys_10000"
          ],
          [
           "Layers 56-63, 25th",
           "lmsys_10000"
          ],
          [
           "Layers 56-63, 50th",
           "lmsys_10000"
          ],
          [
           "Layers 56-63, 75th",
           "lmsys_10000"
          ]
         ],
         "error_y": {
          "array": [
           0.01251081614126435,
           0.013963164754809954,
           0.0130631790405953,
           0.013019735539307803,
           0.012679107214617328,
           0.012655439943366653,
           0.012021627157731958,
           0.012259457340938577,
           0.012128730605719087,
           0.012259457340938579,
           0.012155153135511975,
           0.012128730605719092,
           0.012259457340938579,
           0.014267009061031307,
           0.013473586661967218,
           0.013106173040661773,
           0.012486268734370138,
           0.012997843819031817,
           0.012285191326386679,
           0.012361586015103775,
           0.012436787112179491,
           0.013190830072364481,
           0.012607733934175303,
           0.012411851354816312,
           0.012631649083099172,
           0.012726073744598283,
           0.012631649083099172,
           0.012583693787968123,
           0.012336254828074104,
           0.012702651587655144,
           0.012510816141264355,
           0.012583693787968128,
           0.01258369378796813,
           0.011686212712746856,
           0.011994493230973425,
           0.012155153135511973,
           0.012075463420375061,
           0.012285191326386667,
           0.011939788882495323,
           0.012075463420375061,
           0.012102167676183589,
           0.012461592646659992,
           0.012336254828074109,
           0.011939788882495321,
           0.012155153135511973,
           0.011912216456264607,
           0.012102167676183589,
           0.012155153135511973,
           0.012233587399477823,
           0.01343445140243869,
           0.013190830072364474,
           0.013374972519220063,
           0.01327374070080447,
           0.015090650341444233,
           0.013718133516888914,
           0.01333479721693644,
           0.012702651587655139,
           0.012953717566737242,
           0.012607733934175303,
           0.012535235623319317,
           0.012486268734370145,
           0.012772554096113128,
           0.012702651587655133,
           0.012559527926707378,
           0.012559527926707377,
           0.012818553557843967,
           0.012655439943366648,
           0.012436787112179496,
           0.012361586015103778,
           0.01210216767618357,
           0.012021627157731975,
           0.012048616898597523,
           0.012075463420375061,
           0.012021627157731965,
           0.011967214137559965,
           0.0119122164562646,
           0.011994493230973437,
           0.012102167676183589,
           0.012535235623319317,
           0.012048616898597526,
           0.012285191326386677,
           0.011939788882495321,
           0.012075463420375061,
           0.01212873060571909,
           0.012259457340938572,
           0.013512312258920838,
           0.01304151375727071,
           0.012818553557843981,
           0.01270265158765515
          ],
          "thickness": 0.5,
          "type": "data",
          "visible": true
         },
         "hovertemplate": "%{customdata[0]}<br>Config: %{customdata[1]}<br>Value: %{y:.1%}<extra></extra>",
         "marker": {
          "color": [
           "#2ca02c",
           "#d62728",
           "#d62728",
           "#d62728",
           "#d62728",
           "#d62728",
           "#d62728",
           "#d62728",
           "#d62728",
           "#d62728",
           "#d62728",
           "#d62728",
           "#d62728",
           "#d62728",
           "#d62728",
           "#d62728",
           "#d62728",
           "#ff7f0e",
           "#ff7f0e",
           "#ff7f0e",
           "#ff7f0e",
           "#ff7f0e",
           "#ff7f0e",
           "#ff7f0e",
           "#ff7f0e",
           "#ff7f0e",
           "#ff7f0e",
           "#ff7f0e",
           "#ff7f0e",
           "#ff7f0e",
           "#ff7f0e",
           "#ff7f0e",
           "#ff7f0e",
           "#ff7f0e",
           "#ff7f0e",
           "#ff7f0e",
           "#ff7f0e",
           "#ff7f0e",
           "#ff7f0e",
           "#ff7f0e",
           "#ff7f0e",
           "#ff7f0e",
           "#ff7f0e",
           "#ff7f0e",
           "#ff7f0e",
           "#ff7f0e",
           "#ff7f0e",
           "#ff7f0e",
           "#ff7f0e",
           "#ff7f0e",
           "#ff7f0e",
           "#ff7f0e",
           "#ff7f0e",
           "#9467bd",
           "#9467bd",
           "#9467bd",
           "#9467bd",
           "#9467bd",
           "#9467bd",
           "#9467bd",
           "#9467bd",
           "#9467bd",
           "#9467bd",
           "#9467bd",
           "#9467bd",
           "#9467bd",
           "#9467bd",
           "#9467bd",
           "#9467bd",
           "#9467bd",
           "#9467bd",
           "#9467bd",
           "#9467bd",
           "#9467bd",
           "#9467bd",
           "#9467bd",
           "#9467bd",
           "#9467bd",
           "#9467bd",
           "#9467bd",
           "#9467bd",
           "#9467bd",
           "#9467bd",
           "#9467bd",
           "#9467bd",
           "#9467bd",
           "#9467bd",
           "#9467bd",
           "#9467bd"
          ]
         },
         "name": "GSM8K Exact Match Accuracy",
         "opacity": 0.8,
         "showlegend": false,
         "type": "bar",
         "width": 0.35,
         "x": [
          0,
          0.5,
          0.8999999999999999,
          1.2999999999999998,
          1.6999999999999997,
          2.1999999999999997,
          2.5999999999999996,
          2.9999999999999996,
          3.3999999999999995,
          3.8999999999999995,
          4.3,
          4.7,
          5.1000000000000005,
          5.6000000000000005,
          6.000000000000001,
          6.400000000000001,
          6.800000000000002,
          7.300000000000002,
          7.700000000000002,
          8.100000000000001,
          8.500000000000002,
          9.000000000000002,
          9.400000000000002,
          9.800000000000002,
          10.200000000000003,
          10.700000000000003,
          11.100000000000003,
          11.500000000000004,
          11.900000000000004,
          12.400000000000004,
          12.800000000000004,
          13.200000000000005,
          13.600000000000005,
          14.100000000000005,
          14.500000000000005,
          14.900000000000006,
          15.300000000000006,
          15.800000000000006,
          16.200000000000006,
          16.600000000000005,
          17.000000000000004,
          17.500000000000004,
          17.900000000000002,
          18.3,
          18.7,
          19.2,
          19.599999999999998,
          19.999999999999996,
          20.399999999999995,
          20.899999999999995,
          21.299999999999994,
          21.699999999999992,
          22.09999999999999,
          22.59999999999999,
          22.99999999999999,
          23.399999999999988,
          23.799999999999986,
          24.299999999999986,
          24.699999999999985,
          25.099999999999984,
          25.499999999999982,
          25.999999999999982,
          26.39999999999998,
          26.79999999999998,
          27.199999999999978,
          27.699999999999978,
          28.099999999999977,
          28.499999999999975,
          28.899999999999974,
          29.399999999999974,
          29.799999999999972,
          30.19999999999997,
          30.59999999999997,
          31.09999999999997,
          31.499999999999968,
          31.899999999999967,
          32.29999999999997,
          32.79999999999997,
          33.19999999999997,
          33.599999999999966,
          33.999999999999964,
          34.499999999999964,
          34.89999999999996,
          35.29999999999996,
          35.69999999999996,
          36.19999999999996,
          36.59999999999996,
          36.99999999999996,
          37.399999999999956
         ],
         "xaxis": "x",
         "y": [
          0.806,
          0.735,
          0.782,
          0.784,
          0.799,
          0.8,
          0.825,
          0.816,
          0.821,
          0.816,
          0.82,
          0.821,
          0.816,
          0.716,
          0.762,
          0.78,
          0.807,
          0.785,
          0.815,
          0.812,
          0.809,
          0.776,
          0.802,
          0.81,
          0.801,
          0.797,
          0.801,
          0.803,
          0.813,
          0.798,
          0.806,
          0.803,
          0.803,
          0.837,
          0.826,
          0.82,
          0.823,
          0.815,
          0.828,
          0.823,
          0.822,
          0.808,
          0.813,
          0.828,
          0.82,
          0.829,
          0.822,
          0.82,
          0.817,
          0.764,
          0.776,
          0.767,
          0.772,
          0.65,
          0.749,
          0.769,
          0.798,
          0.787,
          0.802,
          0.805,
          0.807,
          0.795,
          0.798,
          0.804,
          0.804,
          0.793,
          0.8,
          0.809,
          0.812,
          0.822,
          0.825,
          0.824,
          0.823,
          0.825,
          0.827,
          0.829,
          0.826,
          0.822,
          0.805,
          0.824,
          0.815,
          0.828,
          0.823,
          0.821,
          0.816,
          0.76,
          0.783,
          0.793,
          0.798
         ],
         "yaxis": "y"
        },
        {
         "marker": {
          "color": "#2ca02c",
          "size": 10
         },
         "mode": "markers",
         "name": "Baseline",
         "showlegend": true,
         "type": "scatter",
         "x": [
          null
         ],
         "xaxis": "x",
         "y": [
          null
         ],
         "yaxis": "y"
        },
        {
         "marker": {
          "color": "#d62728",
          "size": 10
         },
         "mode": "markers",
         "name": "Jailbreak Rollouts",
         "showlegend": true,
         "type": "scatter",
         "x": [
          null
         ],
         "xaxis": "x",
         "y": [
          null
         ],
         "yaxis": "y"
        },
        {
         "marker": {
          "color": "#ff7f0e",
          "size": 10
         },
         "mode": "markers",
         "name": "Role/Trait Rollouts",
         "showlegend": true,
         "type": "scatter",
         "x": [
          null
         ],
         "xaxis": "x",
         "y": [
          null
         ],
         "yaxis": "y"
        },
        {
         "marker": {
          "color": "#9467bd",
          "size": 10
         },
         "mode": "markers",
         "name": "LMSYS-10K Rollouts",
         "showlegend": true,
         "type": "scatter",
         "x": [
          null
         ],
         "xaxis": "x",
         "y": [
          null
         ],
         "yaxis": "y"
        }
       ],
       "layout": {
        "annotations": [
         {
          "font": {
           "size": 16
          },
          "showarrow": false,
          "text": "GSM8K Exact Match Accuracy",
          "x": 0.5,
          "xanchor": "center",
          "xref": "paper",
          "y": 1,
          "yanchor": "bottom",
          "yref": "paper"
         },
         {
          "showarrow": false,
          "text": "<span style='font-size:10px'>Projection caps in each bar group<br>(L-R) strict to relaxed</span>",
          "x": 1,
          "xanchor": "right",
          "xref": "paper",
          "y": 1,
          "yanchor": "top",
          "yref": "paper"
         }
        ],
        "height": 550,
        "legend": {
         "orientation": "h",
         "x": 1,
         "xanchor": "right",
         "y": 1.08,
         "yanchor": "bottom"
        },
        "margin": {
         "b": 100,
         "t": 150
        },
        "shapes": [
         {
          "line": {
           "color": "green",
           "dash": "dot",
           "width": 1
          },
          "opacity": 0.8,
          "type": "line",
          "x0": 0,
          "x1": 1,
          "xref": "x domain",
          "y0": 0.806,
          "y1": 0.806,
          "yref": "y"
         }
        ],
        "template": {
         "data": {
          "bar": [
           {
            "error_x": {
             "color": "#2a3f5f"
            },
            "error_y": {
             "color": "#2a3f5f"
            },
            "marker": {
             "line": {
              "color": "#E5ECF6",
              "width": 0.5
             },
             "pattern": {
              "fillmode": "overlay",
              "size": 10,
              "solidity": 0.2
             }
            },
            "type": "bar"
           }
          ],
          "barpolar": [
           {
            "marker": {
             "line": {
              "color": "#E5ECF6",
              "width": 0.5
             },
             "pattern": {
              "fillmode": "overlay",
              "size": 10,
              "solidity": 0.2
             }
            },
            "type": "barpolar"
           }
          ],
          "carpet": [
           {
            "aaxis": {
             "endlinecolor": "#2a3f5f",
             "gridcolor": "white",
             "linecolor": "white",
             "minorgridcolor": "white",
             "startlinecolor": "#2a3f5f"
            },
            "baxis": {
             "endlinecolor": "#2a3f5f",
             "gridcolor": "white",
             "linecolor": "white",
             "minorgridcolor": "white",
             "startlinecolor": "#2a3f5f"
            },
            "type": "carpet"
           }
          ],
          "choropleth": [
           {
            "colorbar": {
             "outlinewidth": 0,
             "ticks": ""
            },
            "type": "choropleth"
           }
          ],
          "contour": [
           {
            "colorbar": {
             "outlinewidth": 0,
             "ticks": ""
            },
            "colorscale": [
             [
              0,
              "#0d0887"
             ],
             [
              0.1111111111111111,
              "#46039f"
             ],
             [
              0.2222222222222222,
              "#7201a8"
             ],
             [
              0.3333333333333333,
              "#9c179e"
             ],
             [
              0.4444444444444444,
              "#bd3786"
             ],
             [
              0.5555555555555556,
              "#d8576b"
             ],
             [
              0.6666666666666666,
              "#ed7953"
             ],
             [
              0.7777777777777778,
              "#fb9f3a"
             ],
             [
              0.8888888888888888,
              "#fdca26"
             ],
             [
              1,
              "#f0f921"
             ]
            ],
            "type": "contour"
           }
          ],
          "contourcarpet": [
           {
            "colorbar": {
             "outlinewidth": 0,
             "ticks": ""
            },
            "type": "contourcarpet"
           }
          ],
          "heatmap": [
           {
            "colorbar": {
             "outlinewidth": 0,
             "ticks": ""
            },
            "colorscale": [
             [
              0,
              "#0d0887"
             ],
             [
              0.1111111111111111,
              "#46039f"
             ],
             [
              0.2222222222222222,
              "#7201a8"
             ],
             [
              0.3333333333333333,
              "#9c179e"
             ],
             [
              0.4444444444444444,
              "#bd3786"
             ],
             [
              0.5555555555555556,
              "#d8576b"
             ],
             [
              0.6666666666666666,
              "#ed7953"
             ],
             [
              0.7777777777777778,
              "#fb9f3a"
             ],
             [
              0.8888888888888888,
              "#fdca26"
             ],
             [
              1,
              "#f0f921"
             ]
            ],
            "type": "heatmap"
           }
          ],
          "heatmapgl": [
           {
            "colorbar": {
             "outlinewidth": 0,
             "ticks": ""
            },
            "colorscale": [
             [
              0,
              "#0d0887"
             ],
             [
              0.1111111111111111,
              "#46039f"
             ],
             [
              0.2222222222222222,
              "#7201a8"
             ],
             [
              0.3333333333333333,
              "#9c179e"
             ],
             [
              0.4444444444444444,
              "#bd3786"
             ],
             [
              0.5555555555555556,
              "#d8576b"
             ],
             [
              0.6666666666666666,
              "#ed7953"
             ],
             [
              0.7777777777777778,
              "#fb9f3a"
             ],
             [
              0.8888888888888888,
              "#fdca26"
             ],
             [
              1,
              "#f0f921"
             ]
            ],
            "type": "heatmapgl"
           }
          ],
          "histogram": [
           {
            "marker": {
             "pattern": {
              "fillmode": "overlay",
              "size": 10,
              "solidity": 0.2
             }
            },
            "type": "histogram"
           }
          ],
          "histogram2d": [
           {
            "colorbar": {
             "outlinewidth": 0,
             "ticks": ""
            },
            "colorscale": [
             [
              0,
              "#0d0887"
             ],
             [
              0.1111111111111111,
              "#46039f"
             ],
             [
              0.2222222222222222,
              "#7201a8"
             ],
             [
              0.3333333333333333,
              "#9c179e"
             ],
             [
              0.4444444444444444,
              "#bd3786"
             ],
             [
              0.5555555555555556,
              "#d8576b"
             ],
             [
              0.6666666666666666,
              "#ed7953"
             ],
             [
              0.7777777777777778,
              "#fb9f3a"
             ],
             [
              0.8888888888888888,
              "#fdca26"
             ],
             [
              1,
              "#f0f921"
             ]
            ],
            "type": "histogram2d"
           }
          ],
          "histogram2dcontour": [
           {
            "colorbar": {
             "outlinewidth": 0,
             "ticks": ""
            },
            "colorscale": [
             [
              0,
              "#0d0887"
             ],
             [
              0.1111111111111111,
              "#46039f"
             ],
             [
              0.2222222222222222,
              "#7201a8"
             ],
             [
              0.3333333333333333,
              "#9c179e"
             ],
             [
              0.4444444444444444,
              "#bd3786"
             ],
             [
              0.5555555555555556,
              "#d8576b"
             ],
             [
              0.6666666666666666,
              "#ed7953"
             ],
             [
              0.7777777777777778,
              "#fb9f3a"
             ],
             [
              0.8888888888888888,
              "#fdca26"
             ],
             [
              1,
              "#f0f921"
             ]
            ],
            "type": "histogram2dcontour"
           }
          ],
          "mesh3d": [
           {
            "colorbar": {
             "outlinewidth": 0,
             "ticks": ""
            },
            "type": "mesh3d"
           }
          ],
          "parcoords": [
           {
            "line": {
             "colorbar": {
              "outlinewidth": 0,
              "ticks": ""
             }
            },
            "type": "parcoords"
           }
          ],
          "pie": [
           {
            "automargin": true,
            "type": "pie"
           }
          ],
          "scatter": [
           {
            "fillpattern": {
             "fillmode": "overlay",
             "size": 10,
             "solidity": 0.2
            },
            "type": "scatter"
           }
          ],
          "scatter3d": [
           {
            "line": {
             "colorbar": {
              "outlinewidth": 0,
              "ticks": ""
             }
            },
            "marker": {
             "colorbar": {
              "outlinewidth": 0,
              "ticks": ""
             }
            },
            "type": "scatter3d"
           }
          ],
          "scattercarpet": [
           {
            "marker": {
             "colorbar": {
              "outlinewidth": 0,
              "ticks": ""
             }
            },
            "type": "scattercarpet"
           }
          ],
          "scattergeo": [
           {
            "marker": {
             "colorbar": {
              "outlinewidth": 0,
              "ticks": ""
             }
            },
            "type": "scattergeo"
           }
          ],
          "scattergl": [
           {
            "marker": {
             "colorbar": {
              "outlinewidth": 0,
              "ticks": ""
             }
            },
            "type": "scattergl"
           }
          ],
          "scattermapbox": [
           {
            "marker": {
             "colorbar": {
              "outlinewidth": 0,
              "ticks": ""
             }
            },
            "type": "scattermapbox"
           }
          ],
          "scatterpolar": [
           {
            "marker": {
             "colorbar": {
              "outlinewidth": 0,
              "ticks": ""
             }
            },
            "type": "scatterpolar"
           }
          ],
          "scatterpolargl": [
           {
            "marker": {
             "colorbar": {
              "outlinewidth": 0,
              "ticks": ""
             }
            },
            "type": "scatterpolargl"
           }
          ],
          "scatterternary": [
           {
            "marker": {
             "colorbar": {
              "outlinewidth": 0,
              "ticks": ""
             }
            },
            "type": "scatterternary"
           }
          ],
          "surface": [
           {
            "colorbar": {
             "outlinewidth": 0,
             "ticks": ""
            },
            "colorscale": [
             [
              0,
              "#0d0887"
             ],
             [
              0.1111111111111111,
              "#46039f"
             ],
             [
              0.2222222222222222,
              "#7201a8"
             ],
             [
              0.3333333333333333,
              "#9c179e"
             ],
             [
              0.4444444444444444,
              "#bd3786"
             ],
             [
              0.5555555555555556,
              "#d8576b"
             ],
             [
              0.6666666666666666,
              "#ed7953"
             ],
             [
              0.7777777777777778,
              "#fb9f3a"
             ],
             [
              0.8888888888888888,
              "#fdca26"
             ],
             [
              1,
              "#f0f921"
             ]
            ],
            "type": "surface"
           }
          ],
          "table": [
           {
            "cells": {
             "fill": {
              "color": "#EBF0F8"
             },
             "line": {
              "color": "white"
             }
            },
            "header": {
             "fill": {
              "color": "#C8D4E3"
             },
             "line": {
              "color": "white"
             }
            },
            "type": "table"
           }
          ]
         },
         "layout": {
          "annotationdefaults": {
           "arrowcolor": "#2a3f5f",
           "arrowhead": 0,
           "arrowwidth": 1
          },
          "autotypenumbers": "strict",
          "coloraxis": {
           "colorbar": {
            "outlinewidth": 0,
            "ticks": ""
           }
          },
          "colorscale": {
           "diverging": [
            [
             0,
             "#8e0152"
            ],
            [
             0.1,
             "#c51b7d"
            ],
            [
             0.2,
             "#de77ae"
            ],
            [
             0.3,
             "#f1b6da"
            ],
            [
             0.4,
             "#fde0ef"
            ],
            [
             0.5,
             "#f7f7f7"
            ],
            [
             0.6,
             "#e6f5d0"
            ],
            [
             0.7,
             "#b8e186"
            ],
            [
             0.8,
             "#7fbc41"
            ],
            [
             0.9,
             "#4d9221"
            ],
            [
             1,
             "#276419"
            ]
           ],
           "sequential": [
            [
             0,
             "#0d0887"
            ],
            [
             0.1111111111111111,
             "#46039f"
            ],
            [
             0.2222222222222222,
             "#7201a8"
            ],
            [
             0.3333333333333333,
             "#9c179e"
            ],
            [
             0.4444444444444444,
             "#bd3786"
            ],
            [
             0.5555555555555556,
             "#d8576b"
            ],
            [
             0.6666666666666666,
             "#ed7953"
            ],
            [
             0.7777777777777778,
             "#fb9f3a"
            ],
            [
             0.8888888888888888,
             "#fdca26"
            ],
            [
             1,
             "#f0f921"
            ]
           ],
           "sequentialminus": [
            [
             0,
             "#0d0887"
            ],
            [
             0.1111111111111111,
             "#46039f"
            ],
            [
             0.2222222222222222,
             "#7201a8"
            ],
            [
             0.3333333333333333,
             "#9c179e"
            ],
            [
             0.4444444444444444,
             "#bd3786"
            ],
            [
             0.5555555555555556,
             "#d8576b"
            ],
            [
             0.6666666666666666,
             "#ed7953"
            ],
            [
             0.7777777777777778,
             "#fb9f3a"
            ],
            [
             0.8888888888888888,
             "#fdca26"
            ],
            [
             1,
             "#f0f921"
            ]
           ]
          },
          "colorway": [
           "#636efa",
           "#EF553B",
           "#00cc96",
           "#ab63fa",
           "#FFA15A",
           "#19d3f3",
           "#FF6692",
           "#B6E880",
           "#FF97FF",
           "#FECB52"
          ],
          "font": {
           "color": "#2a3f5f"
          },
          "geo": {
           "bgcolor": "white",
           "lakecolor": "white",
           "landcolor": "#E5ECF6",
           "showlakes": true,
           "showland": true,
           "subunitcolor": "white"
          },
          "hoverlabel": {
           "align": "left"
          },
          "hovermode": "closest",
          "mapbox": {
           "style": "light"
          },
          "paper_bgcolor": "white",
          "plot_bgcolor": "#E5ECF6",
          "polar": {
           "angularaxis": {
            "gridcolor": "white",
            "linecolor": "white",
            "ticks": ""
           },
           "bgcolor": "#E5ECF6",
           "radialaxis": {
            "gridcolor": "white",
            "linecolor": "white",
            "ticks": ""
           }
          },
          "scene": {
           "xaxis": {
            "backgroundcolor": "#E5ECF6",
            "gridcolor": "white",
            "gridwidth": 2,
            "linecolor": "white",
            "showbackground": true,
            "ticks": "",
            "zerolinecolor": "white"
           },
           "yaxis": {
            "backgroundcolor": "#E5ECF6",
            "gridcolor": "white",
            "gridwidth": 2,
            "linecolor": "white",
            "showbackground": true,
            "ticks": "",
            "zerolinecolor": "white"
           },
           "zaxis": {
            "backgroundcolor": "#E5ECF6",
            "gridcolor": "white",
            "gridwidth": 2,
            "linecolor": "white",
            "showbackground": true,
            "ticks": "",
            "zerolinecolor": "white"
           }
          },
          "shapedefaults": {
           "line": {
            "color": "#2a3f5f"
           }
          },
          "ternary": {
           "aaxis": {
            "gridcolor": "white",
            "linecolor": "white",
            "ticks": ""
           },
           "baxis": {
            "gridcolor": "white",
            "linecolor": "white",
            "ticks": ""
           },
           "bgcolor": "#E5ECF6",
           "caxis": {
            "gridcolor": "white",
            "linecolor": "white",
            "ticks": ""
           }
          },
          "title": {
           "x": 0.05
          },
          "xaxis": {
           "automargin": true,
           "gridcolor": "white",
           "linecolor": "white",
           "ticks": "",
           "title": {
            "standoff": 15
           },
           "zerolinecolor": "white",
           "zerolinewidth": 2
          },
          "yaxis": {
           "automargin": true,
           "gridcolor": "white",
           "linecolor": "white",
           "ticks": "",
           "title": {
            "standoff": 15
           },
           "zerolinecolor": "white",
           "zerolinewidth": 2
          }
         }
        },
        "title": {
         "subtitle": {
          "text": "Qwen 3 32B, Single-Shot & No Thinking"
         },
         "text": "GSM8K with Projection Capping"
        },
        "width": 1000,
        "xaxis": {
         "anchor": "y",
         "domain": [
          0,
          1
         ],
         "range": [
          -0.5,
          37.899999999999956
         ],
         "tickfont": {
          "size": 10
         },
         "tickmode": "array",
         "ticktext": [
          "Baseline",
          "All Layers (0-63)",
          "Every 2nd Layer",
          "Every 4th Layer",
          "Layers 32-63",
          "All Layers (0-63)",
          "Layers 0-15",
          "Layers 8-15",
          "Layers 16-23",
          "Layers 24-31",
          "Layers 32-39",
          "Layers 40-47",
          "Layers 48-55",
          "Layers 56-63",
          "All Layers (0-63)",
          "Layers 0-15",
          "Layers 8-15",
          "Layers 16-23",
          "Layers 24-31",
          "Layers 32-39",
          "Layers 40-47",
          "Layers 48-55",
          "Layers 56-63"
         ],
         "tickvals": [
          0,
          1.0999999999999999,
          2.8,
          4.5,
          6.200000000000001,
          7.900000000000002,
          9.600000000000001,
          11.300000000000004,
          13.000000000000004,
          14.700000000000006,
          16.400000000000006,
          18.1,
          19.799999999999997,
          21.499999999999993,
          23.19999999999999,
          24.899999999999984,
          26.59999999999998,
          28.299999999999976,
          29.99999999999997,
          31.699999999999967,
          33.39999999999996,
          35.099999999999966,
          36.799999999999955
         ],
         "title": {
          "text": "Intervention Layers"
         }
        },
        "yaxis": {
         "anchor": "x",
         "domain": [
          0,
          1
         ],
         "range": [
          0,
          1
         ],
         "tickfont": {
          "size": 10
         },
         "title": {
          "text": "Score"
         }
        }
       }
      },
      "text/html": [
       "<div>                            <div id=\"74f70b57-8920-42e3-84d0-df942289e592\" class=\"plotly-graph-div\" style=\"height:550px; width:1000px;\"></div>            <script type=\"text/javascript\">                require([\"plotly\"], function(Plotly) {                    window.PLOTLYENV=window.PLOTLYENV || {};                                    if (document.getElementById(\"74f70b57-8920-42e3-84d0-df942289e592\")) {                    Plotly.newPlot(                        \"74f70b57-8920-42e3-84d0-df942289e592\",                        [{\"customdata\":[[\"Baseline\",\"baseline\"],[\"All Layers (0-63), Safe 99th\",\"jailbreak\"],[\"All Layers (0-63), Safe 50th\",\"jailbreak\"],[\"All Layers (0-63), Harm 99th\",\"jailbreak\"],[\"All Layers (0-63), Harm 75th\",\"jailbreak\"],[\"Every 2nd Layer, Safe 99th\",\"jailbreak\"],[\"Every 2nd Layer, Safe 50th\",\"jailbreak\"],[\"Every 2nd Layer, Harm 99th\",\"jailbreak\"],[\"Every 2nd Layer, Harm 75th\",\"jailbreak\"],[\"Every 4th Layer, Safe 99th\",\"jailbreak\"],[\"Every 4th Layer, Safe 50th\",\"jailbreak\"],[\"Every 4th Layer, Harm 99th\",\"jailbreak\"],[\"Every 4th Layer, Harm 75th\",\"jailbreak\"],[\"Layers 32-63, Safe 99th\",\"jailbreak\"],[\"Layers 32-63, Safe 50th\",\"jailbreak\"],[\"Layers 32-63, Harm 99th\",\"jailbreak\"],[\"Layers 32-63, Harm 75th\",\"jailbreak\"],[\"All Layers (0-63), 1st\",\"role_trait\"],[\"All Layers (0-63), 25th\",\"role_trait\"],[\"All Layers (0-63), 50th\",\"role_trait\"],[\"All Layers (0-63), 75th\",\"role_trait\"],[\"Layers 0-15, 1st\",\"role_trait\"],[\"Layers 0-15, 25th\",\"role_trait\"],[\"Layers 0-15, 50th\",\"role_trait\"],[\"Layers 0-15, 75th\",\"role_trait\"],[\"Layers 8-15, 1st\",\"role_trait\"],[\"Layers 8-15, 25th\",\"role_trait\"],[\"Layers 8-15, 50th\",\"role_trait\"],[\"Layers 8-15, 75th\",\"role_trait\"],[\"Layers 16-23, 1st\",\"role_trait\"],[\"Layers 16-23, 25th\",\"role_trait\"],[\"Layers 16-23, 50th\",\"role_trait\"],[\"Layers 16-23, 75th\",\"role_trait\"],[\"Layers 24-31, 1st\",\"role_trait\"],[\"Layers 24-31, 25th\",\"role_trait\"],[\"Layers 24-31, 50th\",\"role_trait\"],[\"Layers 24-31, 75th\",\"role_trait\"],[\"Layers 32-39, 1st\",\"role_trait\"],[\"Layers 32-39, 25th\",\"role_trait\"],[\"Layers 32-39, 50th\",\"role_trait\"],[\"Layers 32-39, 75th\",\"role_trait\"],[\"Layers 40-47, 1st\",\"role_trait\"],[\"Layers 40-47, 25th\",\"role_trait\"],[\"Layers 40-47, 50th\",\"role_trait\"],[\"Layers 40-47, 75th\",\"role_trait\"],[\"Layers 48-55, 1st\",\"role_trait\"],[\"Layers 48-55, 25th\",\"role_trait\"],[\"Layers 48-55, 50th\",\"role_trait\"],[\"Layers 48-55, 75th\",\"role_trait\"],[\"Layers 56-63, 1st\",\"role_trait\"],[\"Layers 56-63, 25th\",\"role_trait\"],[\"Layers 56-63, 50th\",\"role_trait\"],[\"Layers 56-63, 75th\",\"role_trait\"],[\"All Layers (0-63), 1st\",\"lmsys_10000\"],[\"All Layers (0-63), 25th\",\"lmsys_10000\"],[\"All Layers (0-63), 50th\",\"lmsys_10000\"],[\"All Layers (0-63), 75th\",\"lmsys_10000\"],[\"Layers 0-15, 1st\",\"lmsys_10000\"],[\"Layers 0-15, 25th\",\"lmsys_10000\"],[\"Layers 0-15, 50th\",\"lmsys_10000\"],[\"Layers 0-15, 75th\",\"lmsys_10000\"],[\"Layers 8-15, 1st\",\"lmsys_10000\"],[\"Layers 8-15, 25th\",\"lmsys_10000\"],[\"Layers 8-15, 50th\",\"lmsys_10000\"],[\"Layers 8-15, 75th\",\"lmsys_10000\"],[\"Layers 16-23, 1st\",\"lmsys_10000\"],[\"Layers 16-23, 25th\",\"lmsys_10000\"],[\"Layers 16-23, 50th\",\"lmsys_10000\"],[\"Layers 16-23, 75th\",\"lmsys_10000\"],[\"Layers 24-31, 1st\",\"lmsys_10000\"],[\"Layers 24-31, 25th\",\"lmsys_10000\"],[\"Layers 24-31, 50th\",\"lmsys_10000\"],[\"Layers 24-31, 75th\",\"lmsys_10000\"],[\"Layers 32-39, 1st\",\"lmsys_10000\"],[\"Layers 32-39, 25th\",\"lmsys_10000\"],[\"Layers 32-39, 50th\",\"lmsys_10000\"],[\"Layers 32-39, 75th\",\"lmsys_10000\"],[\"Layers 40-47, 1st\",\"lmsys_10000\"],[\"Layers 40-47, 25th\",\"lmsys_10000\"],[\"Layers 40-47, 50th\",\"lmsys_10000\"],[\"Layers 40-47, 75th\",\"lmsys_10000\"],[\"Layers 48-55, 1st\",\"lmsys_10000\"],[\"Layers 48-55, 25th\",\"lmsys_10000\"],[\"Layers 48-55, 50th\",\"lmsys_10000\"],[\"Layers 48-55, 75th\",\"lmsys_10000\"],[\"Layers 56-63, 1st\",\"lmsys_10000\"],[\"Layers 56-63, 25th\",\"lmsys_10000\"],[\"Layers 56-63, 50th\",\"lmsys_10000\"],[\"Layers 56-63, 75th\",\"lmsys_10000\"]],\"error_y\":{\"array\":[0.01251081614126435,0.013963164754809954,0.0130631790405953,0.013019735539307803,0.012679107214617328,0.012655439943366653,0.012021627157731958,0.012259457340938577,0.012128730605719087,0.012259457340938579,0.012155153135511975,0.012128730605719092,0.012259457340938579,0.014267009061031307,0.013473586661967218,0.013106173040661773,0.012486268734370138,0.012997843819031817,0.012285191326386679,0.012361586015103775,0.012436787112179491,0.013190830072364481,0.012607733934175303,0.012411851354816312,0.012631649083099172,0.012726073744598283,0.012631649083099172,0.012583693787968123,0.012336254828074104,0.012702651587655144,0.012510816141264355,0.012583693787968128,0.01258369378796813,0.011686212712746856,0.011994493230973425,0.012155153135511973,0.012075463420375061,0.012285191326386667,0.011939788882495323,0.012075463420375061,0.012102167676183589,0.012461592646659992,0.012336254828074109,0.011939788882495321,0.012155153135511973,0.011912216456264607,0.012102167676183589,0.012155153135511973,0.012233587399477823,0.01343445140243869,0.013190830072364474,0.013374972519220063,0.01327374070080447,0.015090650341444233,0.013718133516888914,0.01333479721693644,0.012702651587655139,0.012953717566737242,0.012607733934175303,0.012535235623319317,0.012486268734370145,0.012772554096113128,0.012702651587655133,0.012559527926707378,0.012559527926707377,0.012818553557843967,0.012655439943366648,0.012436787112179496,0.012361586015103778,0.01210216767618357,0.012021627157731975,0.012048616898597523,0.012075463420375061,0.012021627157731965,0.011967214137559965,0.0119122164562646,0.011994493230973437,0.012102167676183589,0.012535235623319317,0.012048616898597526,0.012285191326386677,0.011939788882495321,0.012075463420375061,0.01212873060571909,0.012259457340938572,0.013512312258920838,0.01304151375727071,0.012818553557843981,0.01270265158765515],\"thickness\":0.5,\"type\":\"data\",\"visible\":true},\"hovertemplate\":\"%{customdata[0]}\\u003cbr\\u003eConfig: %{customdata[1]}\\u003cbr\\u003eValue: %{y:.1%}\\u003cextra\\u003e\\u003c\\u002fextra\\u003e\",\"marker\":{\"color\":[\"#2ca02c\",\"#d62728\",\"#d62728\",\"#d62728\",\"#d62728\",\"#d62728\",\"#d62728\",\"#d62728\",\"#d62728\",\"#d62728\",\"#d62728\",\"#d62728\",\"#d62728\",\"#d62728\",\"#d62728\",\"#d62728\",\"#d62728\",\"#ff7f0e\",\"#ff7f0e\",\"#ff7f0e\",\"#ff7f0e\",\"#ff7f0e\",\"#ff7f0e\",\"#ff7f0e\",\"#ff7f0e\",\"#ff7f0e\",\"#ff7f0e\",\"#ff7f0e\",\"#ff7f0e\",\"#ff7f0e\",\"#ff7f0e\",\"#ff7f0e\",\"#ff7f0e\",\"#ff7f0e\",\"#ff7f0e\",\"#ff7f0e\",\"#ff7f0e\",\"#ff7f0e\",\"#ff7f0e\",\"#ff7f0e\",\"#ff7f0e\",\"#ff7f0e\",\"#ff7f0e\",\"#ff7f0e\",\"#ff7f0e\",\"#ff7f0e\",\"#ff7f0e\",\"#ff7f0e\",\"#ff7f0e\",\"#ff7f0e\",\"#ff7f0e\",\"#ff7f0e\",\"#ff7f0e\",\"#9467bd\",\"#9467bd\",\"#9467bd\",\"#9467bd\",\"#9467bd\",\"#9467bd\",\"#9467bd\",\"#9467bd\",\"#9467bd\",\"#9467bd\",\"#9467bd\",\"#9467bd\",\"#9467bd\",\"#9467bd\",\"#9467bd\",\"#9467bd\",\"#9467bd\",\"#9467bd\",\"#9467bd\",\"#9467bd\",\"#9467bd\",\"#9467bd\",\"#9467bd\",\"#9467bd\",\"#9467bd\",\"#9467bd\",\"#9467bd\",\"#9467bd\",\"#9467bd\",\"#9467bd\",\"#9467bd\",\"#9467bd\",\"#9467bd\",\"#9467bd\",\"#9467bd\",\"#9467bd\"]},\"name\":\"GSM8K Exact Match Accuracy\",\"opacity\":0.8,\"showlegend\":false,\"width\":0.35,\"x\":[0.0,0.5,0.8999999999999999,1.2999999999999998,1.6999999999999997,2.1999999999999997,2.5999999999999996,2.9999999999999996,3.3999999999999995,3.8999999999999995,4.3,4.7,5.1000000000000005,5.6000000000000005,6.000000000000001,6.400000000000001,6.800000000000002,7.300000000000002,7.700000000000002,8.100000000000001,8.500000000000002,9.000000000000002,9.400000000000002,9.800000000000002,10.200000000000003,10.700000000000003,11.100000000000003,11.500000000000004,11.900000000000004,12.400000000000004,12.800000000000004,13.200000000000005,13.600000000000005,14.100000000000005,14.500000000000005,14.900000000000006,15.300000000000006,15.800000000000006,16.200000000000006,16.600000000000005,17.000000000000004,17.500000000000004,17.900000000000002,18.3,18.7,19.2,19.599999999999998,19.999999999999996,20.399999999999995,20.899999999999995,21.299999999999994,21.699999999999992,22.09999999999999,22.59999999999999,22.99999999999999,23.399999999999988,23.799999999999986,24.299999999999986,24.699999999999985,25.099999999999984,25.499999999999982,25.999999999999982,26.39999999999998,26.79999999999998,27.199999999999978,27.699999999999978,28.099999999999977,28.499999999999975,28.899999999999974,29.399999999999974,29.799999999999972,30.19999999999997,30.59999999999997,31.09999999999997,31.499999999999968,31.899999999999967,32.29999999999997,32.79999999999997,33.19999999999997,33.599999999999966,33.999999999999964,34.499999999999964,34.89999999999996,35.29999999999996,35.69999999999996,36.19999999999996,36.59999999999996,36.99999999999996,37.399999999999956],\"y\":[0.806,0.735,0.782,0.784,0.799,0.8,0.825,0.816,0.821,0.816,0.82,0.821,0.816,0.716,0.762,0.78,0.807,0.785,0.815,0.812,0.809,0.776,0.802,0.81,0.801,0.797,0.801,0.803,0.813,0.798,0.806,0.803,0.803,0.837,0.826,0.82,0.823,0.815,0.828,0.823,0.822,0.808,0.813,0.828,0.82,0.829,0.822,0.82,0.817,0.764,0.776,0.767,0.772,0.65,0.749,0.769,0.798,0.787,0.802,0.805,0.807,0.795,0.798,0.804,0.804,0.793,0.8,0.809,0.812,0.822,0.825,0.824,0.823,0.825,0.827,0.829,0.826,0.822,0.805,0.824,0.815,0.828,0.823,0.821,0.816,0.76,0.783,0.793,0.798],\"type\":\"bar\",\"xaxis\":\"x\",\"yaxis\":\"y\"},{\"marker\":{\"color\":\"#2ca02c\",\"size\":10},\"mode\":\"markers\",\"name\":\"Baseline\",\"showlegend\":true,\"x\":[null],\"y\":[null],\"type\":\"scatter\",\"xaxis\":\"x\",\"yaxis\":\"y\"},{\"marker\":{\"color\":\"#d62728\",\"size\":10},\"mode\":\"markers\",\"name\":\"Jailbreak Rollouts\",\"showlegend\":true,\"x\":[null],\"y\":[null],\"type\":\"scatter\",\"xaxis\":\"x\",\"yaxis\":\"y\"},{\"marker\":{\"color\":\"#ff7f0e\",\"size\":10},\"mode\":\"markers\",\"name\":\"Role\\u002fTrait Rollouts\",\"showlegend\":true,\"x\":[null],\"y\":[null],\"type\":\"scatter\",\"xaxis\":\"x\",\"yaxis\":\"y\"},{\"marker\":{\"color\":\"#9467bd\",\"size\":10},\"mode\":\"markers\",\"name\":\"LMSYS-10K Rollouts\",\"showlegend\":true,\"x\":[null],\"y\":[null],\"type\":\"scatter\",\"xaxis\":\"x\",\"yaxis\":\"y\"}],                        {\"template\":{\"data\":{\"histogram2dcontour\":[{\"type\":\"histogram2dcontour\",\"colorbar\":{\"outlinewidth\":0,\"ticks\":\"\"},\"colorscale\":[[0.0,\"#0d0887\"],[0.1111111111111111,\"#46039f\"],[0.2222222222222222,\"#7201a8\"],[0.3333333333333333,\"#9c179e\"],[0.4444444444444444,\"#bd3786\"],[0.5555555555555556,\"#d8576b\"],[0.6666666666666666,\"#ed7953\"],[0.7777777777777778,\"#fb9f3a\"],[0.8888888888888888,\"#fdca26\"],[1.0,\"#f0f921\"]]}],\"choropleth\":[{\"type\":\"choropleth\",\"colorbar\":{\"outlinewidth\":0,\"ticks\":\"\"}}],\"histogram2d\":[{\"type\":\"histogram2d\",\"colorbar\":{\"outlinewidth\":0,\"ticks\":\"\"},\"colorscale\":[[0.0,\"#0d0887\"],[0.1111111111111111,\"#46039f\"],[0.2222222222222222,\"#7201a8\"],[0.3333333333333333,\"#9c179e\"],[0.4444444444444444,\"#bd3786\"],[0.5555555555555556,\"#d8576b\"],[0.6666666666666666,\"#ed7953\"],[0.7777777777777778,\"#fb9f3a\"],[0.8888888888888888,\"#fdca26\"],[1.0,\"#f0f921\"]]}],\"heatmap\":[{\"type\":\"heatmap\",\"colorbar\":{\"outlinewidth\":0,\"ticks\":\"\"},\"colorscale\":[[0.0,\"#0d0887\"],[0.1111111111111111,\"#46039f\"],[0.2222222222222222,\"#7201a8\"],[0.3333333333333333,\"#9c179e\"],[0.4444444444444444,\"#bd3786\"],[0.5555555555555556,\"#d8576b\"],[0.6666666666666666,\"#ed7953\"],[0.7777777777777778,\"#fb9f3a\"],[0.8888888888888888,\"#fdca26\"],[1.0,\"#f0f921\"]]}],\"heatmapgl\":[{\"type\":\"heatmapgl\",\"colorbar\":{\"outlinewidth\":0,\"ticks\":\"\"},\"colorscale\":[[0.0,\"#0d0887\"],[0.1111111111111111,\"#46039f\"],[0.2222222222222222,\"#7201a8\"],[0.3333333333333333,\"#9c179e\"],[0.4444444444444444,\"#bd3786\"],[0.5555555555555556,\"#d8576b\"],[0.6666666666666666,\"#ed7953\"],[0.7777777777777778,\"#fb9f3a\"],[0.8888888888888888,\"#fdca26\"],[1.0,\"#f0f921\"]]}],\"contourcarpet\":[{\"type\":\"contourcarpet\",\"colorbar\":{\"outlinewidth\":0,\"ticks\":\"\"}}],\"contour\":[{\"type\":\"contour\",\"colorbar\":{\"outlinewidth\":0,\"ticks\":\"\"},\"colorscale\":[[0.0,\"#0d0887\"],[0.1111111111111111,\"#46039f\"],[0.2222222222222222,\"#7201a8\"],[0.3333333333333333,\"#9c179e\"],[0.4444444444444444,\"#bd3786\"],[0.5555555555555556,\"#d8576b\"],[0.6666666666666666,\"#ed7953\"],[0.7777777777777778,\"#fb9f3a\"],[0.8888888888888888,\"#fdca26\"],[1.0,\"#f0f921\"]]}],\"surface\":[{\"type\":\"surface\",\"colorbar\":{\"outlinewidth\":0,\"ticks\":\"\"},\"colorscale\":[[0.0,\"#0d0887\"],[0.1111111111111111,\"#46039f\"],[0.2222222222222222,\"#7201a8\"],[0.3333333333333333,\"#9c179e\"],[0.4444444444444444,\"#bd3786\"],[0.5555555555555556,\"#d8576b\"],[0.6666666666666666,\"#ed7953\"],[0.7777777777777778,\"#fb9f3a\"],[0.8888888888888888,\"#fdca26\"],[1.0,\"#f0f921\"]]}],\"mesh3d\":[{\"type\":\"mesh3d\",\"colorbar\":{\"outlinewidth\":0,\"ticks\":\"\"}}],\"scatter\":[{\"fillpattern\":{\"fillmode\":\"overlay\",\"size\":10,\"solidity\":0.2},\"type\":\"scatter\"}],\"parcoords\":[{\"type\":\"parcoords\",\"line\":{\"colorbar\":{\"outlinewidth\":0,\"ticks\":\"\"}}}],\"scatterpolargl\":[{\"type\":\"scatterpolargl\",\"marker\":{\"colorbar\":{\"outlinewidth\":0,\"ticks\":\"\"}}}],\"bar\":[{\"error_x\":{\"color\":\"#2a3f5f\"},\"error_y\":{\"color\":\"#2a3f5f\"},\"marker\":{\"line\":{\"color\":\"#E5ECF6\",\"width\":0.5},\"pattern\":{\"fillmode\":\"overlay\",\"size\":10,\"solidity\":0.2}},\"type\":\"bar\"}],\"scattergeo\":[{\"type\":\"scattergeo\",\"marker\":{\"colorbar\":{\"outlinewidth\":0,\"ticks\":\"\"}}}],\"scatterpolar\":[{\"type\":\"scatterpolar\",\"marker\":{\"colorbar\":{\"outlinewidth\":0,\"ticks\":\"\"}}}],\"histogram\":[{\"marker\":{\"pattern\":{\"fillmode\":\"overlay\",\"size\":10,\"solidity\":0.2}},\"type\":\"histogram\"}],\"scattergl\":[{\"type\":\"scattergl\",\"marker\":{\"colorbar\":{\"outlinewidth\":0,\"ticks\":\"\"}}}],\"scatter3d\":[{\"type\":\"scatter3d\",\"line\":{\"colorbar\":{\"outlinewidth\":0,\"ticks\":\"\"}},\"marker\":{\"colorbar\":{\"outlinewidth\":0,\"ticks\":\"\"}}}],\"scattermapbox\":[{\"type\":\"scattermapbox\",\"marker\":{\"colorbar\":{\"outlinewidth\":0,\"ticks\":\"\"}}}],\"scatterternary\":[{\"type\":\"scatterternary\",\"marker\":{\"colorbar\":{\"outlinewidth\":0,\"ticks\":\"\"}}}],\"scattercarpet\":[{\"type\":\"scattercarpet\",\"marker\":{\"colorbar\":{\"outlinewidth\":0,\"ticks\":\"\"}}}],\"carpet\":[{\"aaxis\":{\"endlinecolor\":\"#2a3f5f\",\"gridcolor\":\"white\",\"linecolor\":\"white\",\"minorgridcolor\":\"white\",\"startlinecolor\":\"#2a3f5f\"},\"baxis\":{\"endlinecolor\":\"#2a3f5f\",\"gridcolor\":\"white\",\"linecolor\":\"white\",\"minorgridcolor\":\"white\",\"startlinecolor\":\"#2a3f5f\"},\"type\":\"carpet\"}],\"table\":[{\"cells\":{\"fill\":{\"color\":\"#EBF0F8\"},\"line\":{\"color\":\"white\"}},\"header\":{\"fill\":{\"color\":\"#C8D4E3\"},\"line\":{\"color\":\"white\"}},\"type\":\"table\"}],\"barpolar\":[{\"marker\":{\"line\":{\"color\":\"#E5ECF6\",\"width\":0.5},\"pattern\":{\"fillmode\":\"overlay\",\"size\":10,\"solidity\":0.2}},\"type\":\"barpolar\"}],\"pie\":[{\"automargin\":true,\"type\":\"pie\"}]},\"layout\":{\"autotypenumbers\":\"strict\",\"colorway\":[\"#636efa\",\"#EF553B\",\"#00cc96\",\"#ab63fa\",\"#FFA15A\",\"#19d3f3\",\"#FF6692\",\"#B6E880\",\"#FF97FF\",\"#FECB52\"],\"font\":{\"color\":\"#2a3f5f\"},\"hovermode\":\"closest\",\"hoverlabel\":{\"align\":\"left\"},\"paper_bgcolor\":\"white\",\"plot_bgcolor\":\"#E5ECF6\",\"polar\":{\"bgcolor\":\"#E5ECF6\",\"angularaxis\":{\"gridcolor\":\"white\",\"linecolor\":\"white\",\"ticks\":\"\"},\"radialaxis\":{\"gridcolor\":\"white\",\"linecolor\":\"white\",\"ticks\":\"\"}},\"ternary\":{\"bgcolor\":\"#E5ECF6\",\"aaxis\":{\"gridcolor\":\"white\",\"linecolor\":\"white\",\"ticks\":\"\"},\"baxis\":{\"gridcolor\":\"white\",\"linecolor\":\"white\",\"ticks\":\"\"},\"caxis\":{\"gridcolor\":\"white\",\"linecolor\":\"white\",\"ticks\":\"\"}},\"coloraxis\":{\"colorbar\":{\"outlinewidth\":0,\"ticks\":\"\"}},\"colorscale\":{\"sequential\":[[0.0,\"#0d0887\"],[0.1111111111111111,\"#46039f\"],[0.2222222222222222,\"#7201a8\"],[0.3333333333333333,\"#9c179e\"],[0.4444444444444444,\"#bd3786\"],[0.5555555555555556,\"#d8576b\"],[0.6666666666666666,\"#ed7953\"],[0.7777777777777778,\"#fb9f3a\"],[0.8888888888888888,\"#fdca26\"],[1.0,\"#f0f921\"]],\"sequentialminus\":[[0.0,\"#0d0887\"],[0.1111111111111111,\"#46039f\"],[0.2222222222222222,\"#7201a8\"],[0.3333333333333333,\"#9c179e\"],[0.4444444444444444,\"#bd3786\"],[0.5555555555555556,\"#d8576b\"],[0.6666666666666666,\"#ed7953\"],[0.7777777777777778,\"#fb9f3a\"],[0.8888888888888888,\"#fdca26\"],[1.0,\"#f0f921\"]],\"diverging\":[[0,\"#8e0152\"],[0.1,\"#c51b7d\"],[0.2,\"#de77ae\"],[0.3,\"#f1b6da\"],[0.4,\"#fde0ef\"],[0.5,\"#f7f7f7\"],[0.6,\"#e6f5d0\"],[0.7,\"#b8e186\"],[0.8,\"#7fbc41\"],[0.9,\"#4d9221\"],[1,\"#276419\"]]},\"xaxis\":{\"gridcolor\":\"white\",\"linecolor\":\"white\",\"ticks\":\"\",\"title\":{\"standoff\":15},\"zerolinecolor\":\"white\",\"automargin\":true,\"zerolinewidth\":2},\"yaxis\":{\"gridcolor\":\"white\",\"linecolor\":\"white\",\"ticks\":\"\",\"title\":{\"standoff\":15},\"zerolinecolor\":\"white\",\"automargin\":true,\"zerolinewidth\":2},\"scene\":{\"xaxis\":{\"backgroundcolor\":\"#E5ECF6\",\"gridcolor\":\"white\",\"linecolor\":\"white\",\"showbackground\":true,\"ticks\":\"\",\"zerolinecolor\":\"white\",\"gridwidth\":2},\"yaxis\":{\"backgroundcolor\":\"#E5ECF6\",\"gridcolor\":\"white\",\"linecolor\":\"white\",\"showbackground\":true,\"ticks\":\"\",\"zerolinecolor\":\"white\",\"gridwidth\":2},\"zaxis\":{\"backgroundcolor\":\"#E5ECF6\",\"gridcolor\":\"white\",\"linecolor\":\"white\",\"showbackground\":true,\"ticks\":\"\",\"zerolinecolor\":\"white\",\"gridwidth\":2}},\"shapedefaults\":{\"line\":{\"color\":\"#2a3f5f\"}},\"annotationdefaults\":{\"arrowcolor\":\"#2a3f5f\",\"arrowhead\":0,\"arrowwidth\":1},\"geo\":{\"bgcolor\":\"white\",\"landcolor\":\"#E5ECF6\",\"subunitcolor\":\"white\",\"showland\":true,\"showlakes\":true,\"lakecolor\":\"white\"},\"title\":{\"x\":0.05},\"mapbox\":{\"style\":\"light\"}}},\"xaxis\":{\"anchor\":\"y\",\"domain\":[0.0,1.0],\"title\":{\"text\":\"Intervention Layers\"},\"tickfont\":{\"size\":10},\"tickmode\":\"array\",\"tickvals\":[0.0,1.0999999999999999,2.8,4.5,6.200000000000001,7.900000000000002,9.600000000000001,11.300000000000004,13.000000000000004,14.700000000000006,16.400000000000006,18.1,19.799999999999997,21.499999999999993,23.19999999999999,24.899999999999984,26.59999999999998,28.299999999999976,29.99999999999997,31.699999999999967,33.39999999999996,35.099999999999966,36.799999999999955],\"ticktext\":[\"Baseline\",\"All Layers (0-63)\",\"Every 2nd Layer\",\"Every 4th Layer\",\"Layers 32-63\",\"All Layers (0-63)\",\"Layers 0-15\",\"Layers 8-15\",\"Layers 16-23\",\"Layers 24-31\",\"Layers 32-39\",\"Layers 40-47\",\"Layers 48-55\",\"Layers 56-63\",\"All Layers (0-63)\",\"Layers 0-15\",\"Layers 8-15\",\"Layers 16-23\",\"Layers 24-31\",\"Layers 32-39\",\"Layers 40-47\",\"Layers 48-55\",\"Layers 56-63\"],\"range\":[-0.5,37.899999999999956]},\"yaxis\":{\"anchor\":\"x\",\"domain\":[0.0,1.0],\"title\":{\"text\":\"Score\"},\"tickfont\":{\"size\":10},\"range\":[0,1]},\"annotations\":[{\"font\":{\"size\":16},\"showarrow\":false,\"text\":\"GSM8K Exact Match Accuracy\",\"x\":0.5,\"xanchor\":\"center\",\"xref\":\"paper\",\"y\":1.0,\"yanchor\":\"bottom\",\"yref\":\"paper\"},{\"showarrow\":false,\"text\":\"\\u003cspan style='font-size:10px'\\u003eProjection caps in each bar group\\u003cbr\\u003e(L-R) strict to relaxed\\u003c\\u002fspan\\u003e\",\"x\":1,\"xanchor\":\"right\",\"xref\":\"paper\",\"y\":1,\"yanchor\":\"top\",\"yref\":\"paper\"}],\"shapes\":[{\"line\":{\"color\":\"green\",\"dash\":\"dot\",\"width\":1},\"opacity\":0.8,\"type\":\"line\",\"x0\":0,\"x1\":1,\"xref\":\"x domain\",\"y0\":0.806,\"y1\":0.806,\"yref\":\"y\"}],\"legend\":{\"x\":1.0,\"y\":1.08,\"xanchor\":\"right\",\"yanchor\":\"bottom\",\"orientation\":\"h\"},\"title\":{\"subtitle\":{\"text\":\"Qwen 3 32B, Single-Shot & No Thinking\"},\"text\":\"GSM8K with Projection Capping\"},\"margin\":{\"b\":100,\"t\":150},\"height\":550,\"width\":1000},                        {\"responsive\": true}                    ).then(function(){\n",
       "                            \n",
       "var gd = document.getElementById('74f70b57-8920-42e3-84d0-df942289e592');\n",
       "var x = new MutationObserver(function (mutations, observer) {{\n",
       "        var display = window.getComputedStyle(gd).display;\n",
       "        if (!display || display === 'none') {{\n",
       "            console.log([gd, 'removed!']);\n",
       "            Plotly.purge(gd);\n",
       "            observer.disconnect();\n",
       "        }}\n",
       "}});\n",
       "\n",
       "// Listen for the removal of the full notebook cells\n",
       "var notebookContainer = gd.closest('#notebook-container');\n",
       "if (notebookContainer) {{\n",
       "    x.observe(notebookContainer, {childList: true});\n",
       "}}\n",
       "\n",
       "// Listen for the clearing of the current output cell\n",
       "var outputEl = gd.closest('.output');\n",
       "if (outputEl) {{\n",
       "    x.observe(outputEl, {childList: true});\n",
       "}}\n",
       "\n",
       "                        })                };                });            </script>        </div>"
      ]
     },
     "metadata": {},
     "output_type": "display_data"
    },
    {
     "name": "stdout",
     "output_type": "stream",
     "text": [
      "saved to /root/git/plots/qwen-3-32b/capped/results/benchmarks/gsm8k.html\n"
     ]
    }
   ],
   "source": [
    "fig_gsm8k = plot_benchmark_results(df_gsm8k_plot, 'gsm8k', \n",
    "                                  title=\"GSM8K with Projection Capping\", \n",
    "                                  subtitle=subtitle,\n",
    "                                  total_layers=total_layers)\n",
    "fig_gsm8k.show()\n",
    "fig_gsm8k.write_html(f\"{out_dir}/gsm8k.html\")\n",
    "print(f\"saved to {out_dir}/gsm8k.html\")"
   ]
  },
  {
   "cell_type": "markdown",
   "id": "34e5246b",
   "metadata": {},
   "source": [
    "## Comparing VLLM with HF"
   ]
  },
  {
   "cell_type": "code",
   "execution_count": 15,
   "id": "e870c3f5",
   "metadata": {},
   "outputs": [
    {
     "name": "stdout",
     "output_type": "stream",
     "text": [
      "MMLU Data Overview:\n",
      "Total experiments: 261\n",
      "Unique vllm values: [ True False]\n",
      "Unique max_gen_toks values: [  nan 2048.]\n",
      "Unique thinking values: [False]\n",
      "Unique apply_chat_template values: [ True]\n",
      "\n",
      "Sample data:\n",
      "        experiment_id config_name  thinking  apply_chat_template   vllm  \\\n",
      "0            baseline    baseline     False                 True   True   \n",
      "1  layers_72:80-p0.75  role_trait     False                 True   True   \n",
      "2  layers_72:80-p0.75  role_trait     False                 True  False   \n",
      "3   layers_72:80-p0.5  role_trait     False                 True   True   \n",
      "4   layers_72:80-p0.5  role_trait     False                 True  False   \n",
      "5  layers_72:80-p0.25  role_trait     False                 True   True   \n",
      "6  layers_72:80-p0.25  role_trait     False                 True  False   \n",
      "7  layers_72:80-p0.01  role_trait     False                 True   True   \n",
      "8  layers_72:80-p0.01  role_trait     False                 True  False   \n",
      "9  layers_68:76-p0.75  role_trait     False                 True   True   \n",
      "\n",
      "   max_gen_toks     dtype  eqbench,none  \n",
      "0           NaN   float16     83.823657  \n",
      "1           NaN   float16     82.342677  \n",
      "2        2048.0  bfloat16     83.064309  \n",
      "3           NaN   float16     82.335118  \n",
      "4        2048.0  bfloat16     82.764016  \n",
      "5           NaN   float16     82.342677  \n",
      "6        2048.0  bfloat16     83.024591  \n",
      "7           NaN   float16     82.335118  \n",
      "8        2048.0  bfloat16     83.731786  \n",
      "9           NaN   float16     82.335118  \n"
     ]
    }
   ],
   "source": [
    "# VLLM vs Non-VLLM Comparison Analysis\n",
    "# Compare experiment pairs that match on specified criteria but differ in vllm setting\n",
    "filtered_df = df_eq\n",
    "target_metric = EVAL_CONFIGS['eq_bench']['metrics'][0]['name']\n",
    "\n",
    "# First, let's examine the data structure to understand what we're working with\n",
    "print(\"MMLU Data Overview:\")\n",
    "print(f\"Total experiments: {len(filtered_df)}\")\n",
    "print(f\"Unique vllm values: {filtered_df['vllm'].unique()}\")\n",
    "print(f\"Unique max_gen_toks values: {filtered_df['max_gen_toks'].unique()}\")\n",
    "print(f\"Unique thinking values: {filtered_df['thinking'].unique()}\")\n",
    "print(f\"Unique apply_chat_template values: {filtered_df['apply_chat_template'].unique()}\")\n",
    "\n",
    "# Show sample of the data\n",
    "print(\"\\nSample data:\")\n",
    "print(filtered_df[['experiment_id', 'config_name', 'thinking', 'apply_chat_template', 'vllm', 'max_gen_toks', 'dtype', target_metric]].head(10))\n"
   ]
  },
  {
   "cell_type": "code",
   "execution_count": 16,
   "id": "897a33f0",
   "metadata": {},
   "outputs": [
    {
     "name": "stdout",
     "output_type": "stream",
     "text": [
      "Found 120 experiment pairs with both vllm=True and vllm=False\n",
      "Total groups: 133\n",
      "\n",
      "Example pairs:\n",
      "\n",
      "Pair 1: layers_0:40-p0.01|role_trait|False|True\n",
      "    experiment_id config_name  thinking  apply_chat_template  vllm  max_gen_toks  eqbench,none\n",
      "layers_0:40-p0.01  role_trait     False                 True  True           NaN     78.157594\n",
      "layers_0:40-p0.01  role_trait     False                 True False           NaN     78.920256\n",
      "\n",
      "Pair 2: layers_0:40-p0.25|role_trait|False|True\n",
      "    experiment_id config_name  thinking  apply_chat_template  vllm  max_gen_toks  eqbench,none\n",
      "layers_0:40-p0.25  role_trait     False                 True  True           NaN     80.888162\n",
      "layers_0:40-p0.25  role_trait     False                 True False           NaN     81.495005\n",
      "\n",
      "Pair 3: layers_0:40-p0.5|role_trait|False|True\n",
      "   experiment_id config_name  thinking  apply_chat_template  vllm  max_gen_toks  eqbench,none\n",
      "layers_0:40-p0.5  role_trait     False                 True  True           NaN     82.271560\n",
      "layers_0:40-p0.5  role_trait     False                 True False           NaN     82.531722\n"
     ]
    }
   ],
   "source": [
    "# Group experiments by matching criteria and find pairs\n",
    "# Create a grouping key based on the matching criteria\n",
    "filtered_df['group_key'] = filtered_df.apply(\n",
    "    lambda row: f\"{row['experiment_id']}|{row['config_name']}|{row['thinking']}|{row['apply_chat_template']}\", \n",
    "    axis=1\n",
    ")\n",
    "\n",
    "# Group by the key and check for pairs\n",
    "grouped = filtered_df.groupby('group_key')\n",
    "\n",
    "# Find groups that have both vllm=True and vllm=False\n",
    "pairs_found = []\n",
    "for group_key, group in grouped:\n",
    "    vllm_values = group['vllm'].unique()\n",
    "    if len(vllm_values) == 2 and True in vllm_values and False in vllm_values:\n",
    "        pairs_found.append(group_key)\n",
    "\n",
    "print(f\"Found {len(pairs_found)} experiment pairs with both vllm=True and vllm=False\")\n",
    "print(f\"Total groups: {len(grouped)}\")\n",
    "\n",
    "# Show some examples of the pairs\n",
    "if pairs_found:\n",
    "    print(\"\\nExample pairs:\")\n",
    "    for i, pair_key in enumerate(pairs_found[:3]):  # Show first 3 pairs\n",
    "        pair_data = grouped.get_group(pair_key)\n",
    "        print(f\"\\nPair {i+1}: {pair_key}\")\n",
    "        print(pair_data[['experiment_id', 'config_name', 'thinking', 'apply_chat_template', 'vllm', 'max_gen_toks', target_metric]].to_string(index=False))\n"
   ]
  },
  {
   "cell_type": "code",
   "execution_count": 17,
   "id": "cbc16932",
   "metadata": {},
   "outputs": [
    {
     "name": "stdout",
     "output_type": "stream",
     "text": [
      "Comparison Results Summary:\n",
      "Total pairs analyzed: 120\n",
      "Average delta (vllm=True - vllm=False): -1.3070\n",
      "Median delta: -1.2681\n",
      "Standard deviation of deltas: 0.5085\n",
      "\n",
      "Detailed comparison results:\n",
      "     experiment_id config_name  thinking  apply_chat_template  max_gen_toks  vllm_true_score  vllm_false_score     delta  vllm_true_runs  vllm_false_runs\n",
      " layers_0:40-p0.01  role_trait     False                 True           NaN        78.157594         78.920256 -0.762662               1                1\n",
      " layers_0:40-p0.25  role_trait     False                 True           NaN        80.888162         81.495005 -0.606844               1                1\n",
      "  layers_0:40-p0.5  role_trait     False                 True           NaN        82.271560         82.531722 -0.260161               1                1\n",
      " layers_0:40-p0.75  role_trait     False                 True           NaN        82.455596         83.574727 -1.119132               1                1\n",
      " layers_0:80-p0.01  role_trait     False                 True           NaN        78.454916         79.644072 -1.189156               2                1\n",
      " layers_0:80-p0.25  role_trait     False                 True           NaN        80.798935         81.449577 -0.650642               2                1\n",
      "  layers_0:80-p0.5  role_trait     False                 True           NaN        82.271560         82.450541 -0.178981               2                1\n",
      " layers_0:80-p0.75  role_trait     False                 True           NaN        82.455596         83.734542 -1.278946               2                1\n",
      "layers_32:40-p0.01  role_trait     False                 True           NaN        82.446663         83.503079 -1.056415               1                1\n",
      "layers_32:40-p0.25  role_trait     False                 True           NaN        82.075526         83.670980 -1.595453               1                1\n",
      " layers_32:40-p0.5  role_trait     False                 True           NaN        82.088467         83.576425 -1.487957               1                1\n",
      "layers_32:40-p0.75  role_trait     False                 True           NaN        82.342677         82.961921 -0.619244               1                1\n",
      "layers_32:48-p0.01  role_trait     False                 True           NaN        82.420974         83.346234 -0.925260               1                1\n",
      "layers_32:48-p0.25  role_trait     False                 True           NaN        82.213860         83.471065 -1.257206               1                1\n",
      " layers_32:48-p0.5  role_trait     False                 True           NaN        82.133588         83.552786 -1.419198               1                1\n",
      "layers_32:48-p0.75  role_trait     False                 True           NaN        82.335118         82.978001 -0.642882               1                1\n",
      "layers_32:56-p0.01  role_trait     False                 True           NaN        82.173361         83.399729 -1.226368               1                1\n",
      "layers_32:56-p0.25  role_trait     False                 True           NaN        82.151845         83.659213 -1.507368               1                1\n",
      " layers_32:56-p0.5  role_trait     False                 True           NaN        82.133588         83.015268 -0.881680               1                1\n",
      "layers_32:56-p0.75  role_trait     False                 True           NaN        82.335118         83.162257 -0.827139               1                1\n",
      "layers_36:44-p0.01  role_trait     False                 True           NaN        82.367512         83.017112 -0.649600               1                1\n",
      "layers_36:44-p0.25  role_trait     False                 True           NaN        81.946594         82.887444 -0.940850               1                1\n",
      " layers_36:44-p0.5  role_trait     False                 True           NaN        81.977218         82.968138 -0.990920               1                1\n",
      "layers_36:44-p0.75  role_trait     False                 True           NaN        82.342677         83.062332 -0.719655               1                1\n",
      "layers_36:52-p0.01  role_trait     False                 True           NaN        82.085963         83.146258 -1.060294               1                1\n",
      "layers_36:52-p0.25  role_trait     False                 True           NaN        81.990520         82.718093 -0.727574               1                1\n",
      " layers_36:52-p0.5  role_trait     False                 True           NaN        81.977218         82.749259 -0.772040               1                1\n",
      "layers_36:52-p0.75  role_trait     False                 True           NaN        82.342677         83.167839 -0.825162               1                1\n",
      "layers_36:60-p0.01  role_trait     False                 True           NaN        82.207550         83.188407 -0.980858               1                1\n",
      "layers_36:60-p0.25  role_trait     False                 True           NaN        81.990520         82.654282 -0.663762               1                1\n",
      " layers_36:60-p0.5  role_trait     False                 True           NaN        81.977218         82.805511 -0.828293               1                1\n",
      "layers_36:60-p0.75  role_trait     False                 True           NaN        82.342677         83.459198 -1.116521               1                1\n",
      "layers_40:48-p0.01  role_trait     False                 True           NaN        82.103860         82.778879 -0.675020               1                1\n",
      "layers_40:48-p0.25  role_trait     False                 True           NaN        81.953579         83.028289 -1.074710               1                1\n",
      " layers_40:48-p0.5  role_trait     False                 True           NaN        82.069616         83.225233 -1.155617               1                1\n",
      "layers_40:48-p0.75  role_trait     False                 True           NaN        82.342677         83.293866 -0.951189               1                1\n",
      "layers_40:56-p0.01  role_trait     False                 True           NaN        82.185728         82.786439 -0.600711               1                1\n",
      "layers_40:56-p0.25  role_trait     False                 True           NaN        81.953579         83.075567 -1.121988               1                1\n",
      " layers_40:56-p0.5  role_trait     False                 True           NaN        82.145934         83.059487 -0.913553               1                1\n",
      "layers_40:56-p0.75  role_trait     False                 True           NaN        82.342677         83.286307 -0.943630               1                1\n",
      "layers_40:64-p0.01  role_trait     False                 True           NaN        82.185728         83.258549 -1.072821               1                1\n",
      "layers_40:64-p0.25  role_trait     False                 True           NaN        81.929941         83.595663 -1.665722               1                1\n",
      " layers_40:64-p0.5  role_trait     False                 True           NaN        82.145934         83.875669 -1.729735               1                1\n",
      "layers_40:64-p0.75  role_trait     False                 True           NaN        82.342677         83.946046 -1.603369               1                1\n",
      "layers_40:80-p0.01  role_trait     False                 True           NaN        82.051180         83.284546 -1.233366               1                1\n",
      "layers_40:80-p0.25  role_trait     False                 True           NaN        81.973866         83.630253 -1.656387               1                1\n",
      " layers_40:80-p0.5  role_trait     False                 True           NaN        82.145934         83.866915 -1.720981               1                1\n",
      "layers_40:80-p0.75  role_trait     False                 True           NaN        82.342677         84.251126 -1.908449               1                1\n",
      "layers_44:52-p0.01  role_trait     False                 True           NaN        82.241526         82.802518 -0.560993               1                1\n",
      "layers_44:52-p0.25  role_trait     False                 True           NaN        82.194248         82.901895 -0.707647               1                1\n",
      " layers_44:52-p0.5  role_trait     False                 True           NaN        82.335118         83.107420 -0.772302               1                1\n",
      "layers_44:52-p0.75  role_trait     False                 True           NaN        82.335118         83.062300 -0.727182               1                1\n",
      "layers_44:60-p0.01  role_trait     False                 True           NaN        82.241526         82.755622 -0.514096               1                1\n",
      "layers_44:60-p0.25  role_trait     False                 True           NaN        82.194248         82.981786 -0.787538               1                1\n",
      " layers_44:60-p0.5  role_trait     False                 True           NaN        82.342677         82.914643 -0.571966               1                1\n",
      "layers_44:60-p0.75  role_trait     False                 True           NaN        82.335118         83.117169 -0.782051               1                1\n",
      "layers_44:68-p0.01  role_trait     False                 True           NaN        82.241526         83.204134 -0.962608               1                1\n",
      "layers_44:68-p0.25  role_trait     False                 True           NaN        82.194248         83.935674 -1.741426               1                1\n",
      " layers_44:68-p0.5  role_trait     False                 True           NaN        82.335118         84.251126 -1.916008               1                1\n",
      "layers_44:68-p0.75  role_trait     False                 True           NaN        82.335118         84.393233 -2.058115               1                1\n",
      "layers_48:56-p0.01  role_trait     False                 True           NaN        82.221058         83.382567 -1.161508               1                1\n",
      "layers_48:56-p0.25  role_trait     False                 True           NaN        82.268790         83.192293 -0.923503               1                1\n",
      " layers_48:56-p0.5  role_trait     False                 True           NaN        82.335118         83.186350 -0.851232               1                1\n",
      "layers_48:56-p0.75  role_trait     False                 True           NaN        82.335118         83.085971 -0.750853               1                1\n",
      "layers_48:64-p0.01  role_trait     False                 True           NaN        82.221058         83.548766 -1.327708               1                1\n",
      "layers_48:64-p0.25  role_trait     False                 True           NaN        82.268790         83.901919 -1.633129               1                1\n",
      " layers_48:64-p0.5  role_trait     False                 True           NaN        82.335118         83.366379 -1.031260               1                1\n",
      "layers_48:64-p0.75  role_trait     False                 True           NaN        82.342677         83.424608 -1.081930               1                1\n",
      "layers_48:72-p0.01  role_trait     False                 True           NaN        82.221058         83.707954 -1.486896               1                1\n",
      "layers_48:72-p0.25  role_trait     False                 True           NaN        82.268790         84.059692 -1.790902               1                1\n",
      " layers_48:72-p0.5  role_trait     False                 True           NaN        82.342677         84.105627 -1.762950               1                1\n",
      "layers_48:72-p0.75  role_trait     False                 True           NaN        82.342677         84.396204 -2.053527               1                1\n",
      "layers_52:60-p0.01  role_trait     False                 True           NaN        81.997505         83.074606 -1.077101               1                1\n",
      "layers_52:60-p0.25  role_trait     False                 True           NaN        82.337549         83.382912 -1.045363               1                1\n",
      " layers_52:60-p0.5  role_trait     False                 True           NaN        82.335118         83.062332 -0.727214               1                1\n",
      "layers_52:60-p0.75  role_trait     False                 True           NaN        82.342677         83.175398 -0.832721               1                1\n",
      "layers_52:68-p0.01  role_trait     False                 True           NaN        82.021144         84.125099 -2.103955               1                1\n",
      "layers_52:68-p0.25  role_trait     False                 True           NaN        82.261231         84.041181 -1.779950               1                1\n",
      " layers_52:68-p0.5  role_trait     False                 True           NaN        82.335118         83.987159 -1.652041               1                1\n",
      "layers_52:68-p0.75  role_trait     False                 True           NaN        82.335118         84.147777 -1.812659               1                1\n",
      "layers_52:76-p0.01  role_trait     False                 True           NaN        82.021144         84.179936 -2.158792               1                1\n",
      "layers_52:76-p0.25  role_trait     False                 True           NaN        82.261231         84.332753 -2.071522               1                1\n",
      " layers_52:76-p0.5  role_trait     False                 True           NaN        82.335118         84.200456 -1.865338               1                1\n",
      "layers_52:76-p0.75  role_trait     False                 True           NaN        82.335118         84.290845 -1.955727               1                1\n",
      "layers_56:64-p0.01  role_trait     False                 True           NaN        82.353629         84.365567 -2.011938               1                1\n",
      "layers_56:64-p0.25  role_trait     False                 True           NaN        82.522345         84.275560 -1.753215               1                1\n",
      " layers_56:64-p0.5  role_trait     False                 True           NaN        82.335118         83.622006 -1.286887               1                1\n",
      "layers_56:64-p0.75  role_trait     False                 True           NaN        82.335118         83.519437 -1.184319               1                1\n",
      "layers_56:72-p0.01  role_trait     False                 True           NaN        82.150322         84.367344 -2.217021               1                1\n",
      "layers_56:72-p0.25  role_trait     False                 True           NaN        82.545984         84.141593 -1.595609               1                1\n",
      " layers_56:72-p0.5  role_trait     False                 True           NaN        82.335118         84.192897 -1.857779               1                1\n",
      "layers_56:72-p0.75  role_trait     False                 True           NaN        82.335118         84.251126 -1.916008               1                1\n",
      "layers_56:80-p0.01  role_trait     False                 True           NaN        82.353629         84.039204 -1.685575               1                1\n",
      "layers_56:80-p0.25  role_trait     False                 True           NaN        82.564495         84.269396 -1.704901               1                1\n",
      " layers_56:80-p0.5  role_trait     False                 True           NaN        82.342677         84.192897 -1.850220               1                1\n",
      "layers_56:80-p0.75  role_trait     False                 True           NaN        82.335118         84.298404 -1.963286               1                1\n",
      "layers_60:68-p0.01  role_trait     False                 True           NaN        82.308087         83.866915 -1.558828               1                1\n",
      "layers_60:68-p0.25  role_trait     False                 True           NaN        82.335118         84.262946 -1.927828               1                2\n",
      " layers_60:68-p0.5  role_trait     False                 True           NaN        82.335118         84.251126 -1.916008               1                1\n",
      "layers_60:68-p0.75  role_trait     False                 True           NaN        82.342677         84.258686 -1.916008               1                1\n",
      "layers_60:76-p0.01  role_trait     False                 True           NaN        82.308087         83.866915 -1.558828               1                1\n",
      "layers_60:76-p0.25  role_trait     False                 True           NaN        82.342677         84.393233 -2.050556               1                1\n",
      " layers_60:76-p0.5  role_trait     False                 True           NaN        82.342677         84.182367 -1.839690               1                1\n",
      "layers_60:76-p0.75  role_trait     False                 True           NaN        82.335118         84.251126 -1.916008               1                1\n",
      "layers_64:72-p0.01  role_trait     False                 True           NaN        82.545984         84.327445 -1.781461               1                1\n",
      "layers_64:72-p0.25  role_trait     False                 True           NaN        82.342677         84.135223 -1.792545               1                2\n",
      " layers_64:72-p0.5  role_trait     False                 True           NaN        82.342677         84.232616 -1.889938               1                1\n",
      "layers_64:72-p0.75  role_trait     False                 True           NaN        82.335118         84.029309 -1.694191               1                1\n",
      "layers_64:80-p0.01  role_trait     False                 True           NaN        82.545984         84.241390 -1.695406               1                2\n",
      "layers_64:80-p0.25  role_trait     False                 True           NaN        82.335118         84.132658 -1.797540               1                1\n",
      " layers_64:80-p0.5  role_trait     False                 True           NaN        82.342677         84.232616 -1.889938               1                1\n",
      "layers_64:80-p0.75  role_trait     False                 True           NaN        82.335118         84.029309 -1.694191               1                1\n",
      "layers_68:76-p0.01  role_trait     False                 True           NaN        82.342677         84.052133 -1.709455               1                1\n",
      "layers_68:76-p0.25  role_trait     False                 True           NaN        82.342677         84.055718 -1.713041               1                2\n",
      " layers_68:76-p0.5  role_trait     False                 True           NaN        82.335118         84.033655 -1.698537               1                1\n",
      "layers_68:76-p0.75  role_trait     False                 True           NaN        82.335118         84.041214 -1.706096               1                1\n",
      "layers_72:80-p0.01  role_trait     False                 True           NaN        82.335118         83.731786 -1.396668               1                1\n",
      "layers_72:80-p0.25  role_trait     False                 True           NaN        82.342677         83.024591 -0.681914               1                1\n",
      " layers_72:80-p0.5  role_trait     False                 True           NaN        82.335118         82.764016 -0.428898               1                1\n",
      "layers_72:80-p0.75  role_trait     False                 True           NaN        82.342677         83.064309 -0.721632               1                1\n"
     ]
    }
   ],
   "source": [
    "# Calculate deltas for all pairs\n",
    "comparison_results = []\n",
    "\n",
    "for pair_key in pairs_found:\n",
    "    pair_data = grouped.get_group(pair_key)\n",
    "    \n",
    "    # Get vllm=True and vllm=False rows\n",
    "    vllm_true = pair_data[pair_data['vllm'] == True]\n",
    "    vllm_false = pair_data[pair_data['vllm'] == False]\n",
    "    \n",
    "    # Calculate average scores for each group (in case there are multiple runs)\n",
    "    vllm_true_score = vllm_true[target_metric].mean()\n",
    "    vllm_false_score = vllm_false[target_metric].mean()\n",
    "    \n",
    "    # Calculate delta (vllm=True - vllm=False)\n",
    "    delta = vllm_true_score - vllm_false_score\n",
    "    \n",
    "    # Get the common attributes\n",
    "    common_attrs = {\n",
    "        'experiment_id': pair_data['experiment_id'].iloc[0],\n",
    "        'config_name': pair_data['config_name'].iloc[0],\n",
    "        'thinking': pair_data['thinking'].iloc[0],\n",
    "        'apply_chat_template': pair_data['apply_chat_template'].iloc[0],\n",
    "        'max_gen_toks': pair_data['max_gen_toks'].iloc[0],\n",
    "        'vllm_true_score': vllm_true_score,\n",
    "        'vllm_false_score': vllm_false_score,\n",
    "        'delta': delta,\n",
    "        'vllm_true_runs': len(vllm_true),\n",
    "        'vllm_false_runs': len(vllm_false)\n",
    "    }\n",
    "    \n",
    "    comparison_results.append(common_attrs)\n",
    "\n",
    "# Convert to DataFrame for easier analysis\n",
    "comparison_df = pd.DataFrame(comparison_results)\n",
    "\n",
    "print(f\"Comparison Results Summary:\")\n",
    "print(f\"Total pairs analyzed: {len(comparison_df)}\")\n",
    "print(f\"Average delta (vllm=True - vllm=False): {comparison_df['delta'].mean():.4f}\")\n",
    "print(f\"Median delta: {comparison_df['delta'].median():.4f}\")\n",
    "print(f\"Standard deviation of deltas: {comparison_df['delta'].std():.4f}\")\n",
    "\n",
    "# Show the results\n",
    "print(\"\\nDetailed comparison results:\")\n",
    "print(comparison_df[['experiment_id', 'config_name', 'thinking', 'apply_chat_template', 'max_gen_toks', \n",
    "                     'vllm_true_score', 'vllm_false_score', 'delta', 'vllm_true_runs', 'vllm_false_runs']].to_string(index=False))\n"
   ]
  },
  {
   "cell_type": "code",
   "execution_count": null,
   "id": "1839ec4f",
   "metadata": {},
   "outputs": [],
   "source": []
  }
 ],
 "metadata": {
  "kernelspec": {
   "display_name": ".venv",
   "language": "python",
   "name": "python3"
  },
  "language_info": {
   "codemirror_mode": {
    "name": "ipython",
    "version": 3
   },
   "file_extension": ".py",
   "mimetype": "text/x-python",
   "name": "python",
   "nbconvert_exporter": "python",
   "pygments_lexer": "ipython3",
   "version": "3.13.5"
  }
 },
 "nbformat": 4,
 "nbformat_minor": 5
}
