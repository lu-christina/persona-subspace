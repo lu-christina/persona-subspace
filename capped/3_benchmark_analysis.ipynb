{
 "cells": [
  {
   "cell_type": "markdown",
   "id": "3f397123",
   "metadata": {},
   "source": [
    "# Benchmark analysis"
   ]
  },
  {
   "cell_type": "code",
   "execution_count": 1,
   "id": "e7632800",
   "metadata": {},
   "outputs": [],
   "source": [
    "import json\n",
    "import os\n",
    "import pandas as pd\n",
    "import numpy as np\n",
    "from collections import defaultdict\n",
    "\n",
    "import plotly.graph_objects as go"
   ]
  },
  {
   "cell_type": "code",
   "execution_count": 70,
   "id": "7f0a753a",
   "metadata": {},
   "outputs": [
    {
     "name": "stdout",
     "output_type": "stream",
     "text": [
      "Configuration and parsing infrastructure defined\n"
     ]
    }
   ],
   "source": [
    "model = \"qwen-3-32b\"\n",
    "total_layers = 64\n",
    "subtitle = f\"{model.replace('-', ' ').title()}, Single-Shot & No Thinking\"\n",
    "base_dir = f\"/workspace/{model}/capped\"\n",
    "out_dir = f\"/root/git/plots/{model}/capped/results/benchmarks\"\n",
    "\n",
    "os.makedirs(out_dir, exist_ok=True)\n",
    "\n",
    "config_names = [\"baseline\", \"role_trait\", \"jailbreak\", \"lmsys_10000\"]\n",
    "\n",
    "# ============================================================================\n",
    "# Centralized Configuration & Parsing Infrastructure\n",
    "# ============================================================================\n",
    "\n",
    "def parse_experiment_id(experiment_id):\n",
    "    \"\"\"\n",
    "    Parse experiment_id into layers and cap components.\n",
    "    \n",
    "    Args:\n",
    "        experiment_id: String like \"layers_0:64-p0.01\" or \"layers_32:64-harm_0.25\"\n",
    "    \n",
    "    Returns:\n",
    "        tuple: (layer_spec, cap_type, cap_value)\n",
    "        - layer_spec: str like \"0:64\" or \"2:64:2\"\n",
    "        - cap_type: str like \"percentile\", \"harm\", or \"safe\"\n",
    "        - cap_value: str like \"p0.01\", \"harm_0.25\", or \"safe_0.01\"\n",
    "    \n",
    "    Examples:\n",
    "        \"layers_0:64-p0.01\" → (\"0:64\", \"percentile\", \"p0.01\")\n",
    "        \"layers_32:64-harm_0.25\" → (\"32:64\", \"harm\", \"harm_0.25\")\n",
    "        \"layers_2:64:2-safe_0.01\" → (\"2:64:2\", \"safe\", \"safe_0.01\")\n",
    "        \"baseline\" → (None, None, None)\n",
    "    \"\"\"\n",
    "    if experiment_id == \"baseline\":\n",
    "        return (None, None, None)\n",
    "    \n",
    "    parts = experiment_id.split('-')\n",
    "    if len(parts) != 2:\n",
    "        return (None, None, None)\n",
    "    \n",
    "    layer_part, cap_part = parts\n",
    "    layer_spec = layer_part.replace('layers_', '')\n",
    "    \n",
    "    # Determine cap type\n",
    "    if cap_part.startswith('p'):\n",
    "        cap_type = \"percentile\"\n",
    "    elif cap_part.startswith('harm'):\n",
    "        cap_type = \"harm\"\n",
    "    elif cap_part.startswith('safe'):\n",
    "        cap_type = \"safe\"\n",
    "    else:\n",
    "        cap_type = \"unknown\"\n",
    "    \n",
    "    return (layer_spec, cap_type, cap_part)\n",
    "\n",
    "\n",
    "def parse_layer_sort_key(layer_spec, total_layers=64):\n",
    "    \"\"\"\n",
    "    Parse layer_spec to create sort key for consistent ordering:\n",
    "    1. All layers (0:64) comes first\n",
    "    2. Interval layers (2:64:2, 4:64:4) by increasing interval\n",
    "    3. Range layers (8:16, 16:24, etc.) by start then end\n",
    "    \n",
    "    Returns: (category, interval_or_start, end)\n",
    "    \"\"\"\n",
    "    if layer_spec is None:\n",
    "        return (-1, 0, 0)  # Baseline comes first\n",
    "    \n",
    "    parts = layer_spec.split(':')\n",
    "    \n",
    "    if len(parts) == 3:\n",
    "        # Interval layer (e.g., \"2:64:2\")\n",
    "        start, end, interval = map(int, parts)\n",
    "        return (1, int(interval), end)  # Category 1 = interval layers\n",
    "    elif len(parts) == 2:\n",
    "        start, end = map(int, parts)\n",
    "        if start == 0 and end == total_layers:\n",
    "            # All layers (0:64)\n",
    "            return (0, 0, total_layers)  # Category 0 = all layers\n",
    "        else:\n",
    "            # Range layers (8:16, 16:24, etc.)\n",
    "            return (2, start, end)  # Category 2 = range layers\n",
    "    \n",
    "    return (999, 0, 0)  # Unknown, sort to end\n",
    "\n",
    "\n",
    "def format_layer_range(layer_spec, total_layers=64):\n",
    "    \"\"\"\n",
    "    Convert layer_spec to human-readable string.\n",
    "    \n",
    "    Args:\n",
    "        layer_spec: String like \"0:64\", \"16:24\", \"2:64:2\"\n",
    "        total_layers: Total number of layers in the model\n",
    "    \n",
    "    Returns:\n",
    "        str: Human-readable layer description\n",
    "    \n",
    "    Examples:\n",
    "        \"0:64\" → \"All Layers (0-63)\"\n",
    "        \"16:24\" → \"Layers 16-23\"\n",
    "        \"2:64:2\" → \"Every 2nd Layer\"\n",
    "        \"4:64:4\" → \"Every 4th Layer\"\n",
    "    \"\"\"\n",
    "    if layer_spec is None:\n",
    "        return \"Baseline\"\n",
    "    \n",
    "    parts = layer_spec.split(':')\n",
    "    \n",
    "    if len(parts) == 3:\n",
    "        # Has interval (e.g., \"2:64:2\")\n",
    "        start, end, interval = map(int, parts)\n",
    "        if int(interval) == 2:\n",
    "            return \"Every 2nd Layer\"\n",
    "        else:\n",
    "            return f\"Every {interval}th Layer\"\n",
    "    elif len(parts) == 2:\n",
    "        # Range without interval\n",
    "        start, end = map(int, parts)\n",
    "        if start == 0 and end == total_layers:\n",
    "            return f\"All Layers (0-{total_layers-1})\"\n",
    "        elif start == total_layers // 2:\n",
    "            return f\"Layers {start}-{end-1}\"\n",
    "        else:\n",
    "            return f\"Layers {start}-{end-1}\"\n",
    "    \n",
    "    return layer_spec\n",
    "\n",
    "\n",
    "def format_cap_label(cap_value):\n",
    "    \"\"\"\n",
    "    Convert cap value to human-readable label.\n",
    "    \n",
    "    Args:\n",
    "        cap_value: String like \"p0.01\", \"harm_0.25\", \"safe_0.01\"\n",
    "    \n",
    "    Returns:\n",
    "        str: Human-readable label\n",
    "    \n",
    "    Examples:\n",
    "        \"p0.01\" → \"1st\"\n",
    "        \"p0.25\" → \"25th\"\n",
    "        \"p0.5\" → \"50th\"\n",
    "        \"p0.75\" → \"75th\"\n",
    "        \"harm_0.01\" → \"Harm 99th\"\n",
    "        \"harm_0.25\" → \"Harm 75th\"\n",
    "        \"safe_0.01\" → \"Safe 99th\"\n",
    "        \"safe_0.50\" → \"Safe 50th\"\n",
    "    \"\"\"\n",
    "    if cap_value is None:\n",
    "        return \"Baseline\"\n",
    "    \n",
    "    # Percentile-based (role_trait, lmsys_10000)\n",
    "    if cap_value.startswith('p'):\n",
    "        percentile = float(cap_value[1:])\n",
    "        if percentile == 0.01:\n",
    "            return \"1st\"\n",
    "        elif percentile == 0.25:\n",
    "            return \"25th\"\n",
    "        elif percentile == 0.5:\n",
    "            return \"50th\"\n",
    "        elif percentile == 0.75:\n",
    "            return \"75th\"\n",
    "        else:\n",
    "            return cap_value\n",
    "    \n",
    "    # Harm/Safe-based (jailbreak)\n",
    "    elif cap_value.startswith('harm_') or cap_value.startswith('safe_'):\n",
    "        prefix, value = cap_value.split('_')\n",
    "        percentile = float(value)\n",
    "        \n",
    "        # Convert to percentile rank (lower value = higher rank)\n",
    "        if percentile == 0.01:\n",
    "            rank = \"99th\"\n",
    "        elif percentile == 0.25:\n",
    "            rank = \"75th\"\n",
    "        elif percentile == 0.50:\n",
    "            rank = \"50th\"\n",
    "        else:\n",
    "            rank = value\n",
    "        \n",
    "        return f\"{prefix.capitalize()} {rank}\"\n",
    "    \n",
    "    return cap_value\n",
    "\n",
    "\n",
    "# Eval-specific configurations\n",
    "EVAL_CONFIGS = {\n",
    "    'ifeval': {\n",
    "        'metrics': [\n",
    "            {\n",
    "                'name': 'prompt_level_strict_acc,none',\n",
    "                'label': 'Prompt-level Accuracy',\n",
    "                'stderr': 'prompt_level_strict_acc_stderr,none'\n",
    "            },\n",
    "            {\n",
    "                'name': 'inst_level_strict_acc,none',\n",
    "                'label': 'Instruction-level Accuracy',\n",
    "                'stderr': None\n",
    "            }\n",
    "        ],\n",
    "        'y_range': [0, 0.8]\n",
    "    },\n",
    "    'mmlu_pro': {\n",
    "        'metrics': [\n",
    "            {\n",
    "                'name': 'exact_match,custom-extract',\n",
    "                'label': 'Multiple Choice Exact Match Accuracy',\n",
    "                'stderr': 'exact_match_stderr,custom-extract'\n",
    "            }\n",
    "        ],\n",
    "        'y_range': [0, 0.8]\n",
    "    },\n",
    "    'eq_bench': {\n",
    "        'metrics': [\n",
    "            {\n",
    "                'name': 'eqbench,none',\n",
    "                'label': 'EQ-Bench Score (Higher is Better)',\n",
    "                'stderr': 'eqbench_stderr,none'\n",
    "            }\n",
    "        ],\n",
    "        'y_range': [0, 100]\n",
    "    }\n",
    "}\n",
    "\n",
    "# Config visualization settings\n",
    "CONFIG_COLORS = {\n",
    "    'baseline': '#2ca02c',      # green\n",
    "    'role_trait': '#ff7f0e',    # orange\n",
    "    'jailbreak': '#d62728',     # red\n",
    "    'lmsys_10000': '#9467bd'    # purple\n",
    "}\n",
    "\n",
    "CONFIG_DISPLAY_NAMES = {\n",
    "    'baseline': 'Baseline',\n",
    "    'role_trait': 'Role/Trait Rollouts',\n",
    "    'jailbreak': 'Jailbreak Rollouts',\n",
    "    'lmsys_10000': 'LMSYS-10K Rollouts'\n",
    "}\n",
    "\n",
    "print(\"Configuration and parsing infrastructure defined\")"
   ]
  },
  {
   "cell_type": "code",
   "execution_count": 35,
   "id": "as7hr1682a",
   "metadata": {},
   "outputs": [
    {
     "name": "stdout",
     "output_type": "stream",
     "text": [
      "Data loading function defined\n"
     ]
    }
   ],
   "source": [
    "def load_experiment_data(tasks, config_names, base_dir):\n",
    "    \"\"\"\n",
    "    Load experiment data for specified tasks and configs.\n",
    "\n",
    "    Args:\n",
    "        tasks: List of task names (e.g., ['ifeval', 'mmlu_pro', 'eq_bench'])\n",
    "        config_names: List of config names (e.g., ['baseline', 'role_trait', 'jailbreak'])\n",
    "        base_dir: Base directory containing benchmarks folder\n",
    "\n",
    "    Returns:\n",
    "        DataFrame with columns: task_name, config_name, experiment_id, run_dir,\n",
    "                               thinking, apply_chat_template, and all metrics from results\n",
    "    \"\"\"\n",
    "    all_rows = []\n",
    "    bench_dir = f\"{base_dir}/benchmarks\"\n",
    "\n",
    "    for task in tasks:\n",
    "        task_dir = f\"{bench_dir}/{task}\"\n",
    "\n",
    "        if not os.path.exists(task_dir):\n",
    "            print(f\"Warning: Task directory not found: {task_dir}\")\n",
    "            continue\n",
    "\n",
    "        for config_name in config_names:\n",
    "            config_dir = f\"{task_dir}/{config_name}\"\n",
    "\n",
    "            if not os.path.exists(config_dir):\n",
    "                print(f\"Warning: Config directory not found: {config_dir}\")\n",
    "                continue\n",
    "\n",
    "            if config_name == \"baseline\":\n",
    "                # Baseline: iterate through all timestamped runs directly\n",
    "                run_dirs = [d for d in os.listdir(config_dir) if d.startswith(\"2025-\")]\n",
    "\n",
    "                for run_dir in sorted(run_dirs):\n",
    "                    results_path = os.path.join(config_dir, run_dir, \"results.json\")\n",
    "                    manifest_path = os.path.join(config_dir, run_dir, \"manifest.json\")\n",
    "\n",
    "                    if os.path.exists(results_path):\n",
    "                        with open(results_path, \"r\") as f:\n",
    "                            data = json.load(f)\n",
    "\n",
    "                        # Load manifest for thinking and apply_chat_template\n",
    "                        thinking = False\n",
    "                        apply_chat_template = False\n",
    "                        if os.path.exists(manifest_path):\n",
    "                            with open(manifest_path, \"r\") as f:\n",
    "                                manifest = json.load(f)\n",
    "                                thinking = manifest.get(\"thinking\", None)\n",
    "                                if thinking is None:\n",
    "                                    thinking = False\n",
    "                                apply_chat_template = manifest.get(\"apply_chat_template\", False)\n",
    "\n",
    "                        # Get the task results\n",
    "                        if \"results\" in data and task in data[\"results\"]:\n",
    "                            row = {\n",
    "                                \"task_name\": task,\n",
    "                                \"config_name\": config_name,\n",
    "                                \"experiment_id\": \"baseline\",\n",
    "                                \"run_dir\": run_dir,\n",
    "                                \"thinking\": thinking,\n",
    "                                \"apply_chat_template\": apply_chat_template\n",
    "                            }\n",
    "                            # Add all metrics from the task results\n",
    "                            row.update(data[\"results\"][task])\n",
    "                            \n",
    "                            # Drop alias field if present\n",
    "                            row.pop(\"alias\", None)\n",
    "\n",
    "                            # For MMLU Pro, also add category-level metrics\n",
    "                            if task == \"mmlu_pro\":\n",
    "                                for key, val in data[\"results\"].items():\n",
    "                                    if key.startswith(\"mmlu_pro_\") and isinstance(val, dict):\n",
    "                                        category = key.replace(\"mmlu_pro_\", \"\")\n",
    "                                        row[f\"{category}_acc\"] = val.get(\"exact_match,custom-extract\", None)\n",
    "                                        row[f\"{category}_stderr\"] = val.get(\"exact_match_stderr,custom-extract\", None)\n",
    "\n",
    "                            all_rows.append(row)\n",
    "            else:\n",
    "                # Other configs: iterate through experiment_id directories\n",
    "                for experiment_id in os.listdir(config_dir):\n",
    "                    exp_dir = os.path.join(config_dir, experiment_id)\n",
    "\n",
    "                    if not os.path.isdir(exp_dir):\n",
    "                        continue\n",
    "\n",
    "                    # Load all timestamped runs for this experiment\n",
    "                    run_dirs = [d for d in os.listdir(exp_dir) if d.startswith(\"2025-\")]\n",
    "\n",
    "                    for run_dir in sorted(run_dirs):\n",
    "                        results_path = os.path.join(exp_dir, run_dir, \"results.json\")\n",
    "                        manifest_path = os.path.join(exp_dir, run_dir, \"manifest.json\")\n",
    "\n",
    "                        if os.path.exists(results_path):\n",
    "                            with open(results_path, \"r\") as f:\n",
    "                                data = json.load(f)\n",
    "\n",
    "                            # Load manifest for thinking and apply_chat_template\n",
    "                            thinking = False\n",
    "                            apply_chat_template = False\n",
    "                            if os.path.exists(manifest_path):\n",
    "                                with open(manifest_path, \"r\") as f:\n",
    "                                    manifest = json.load(f)\n",
    "                                    thinking = manifest.get(\"thinking\", None)\n",
    "                                    if thinking is None:\n",
    "                                        thinking = False\n",
    "                                    apply_chat_template = manifest.get(\"apply_chat_template\", False)\n",
    "\n",
    "                            # Get the task results\n",
    "                            if \"results\" in data and task in data[\"results\"]:\n",
    "                                row = {\n",
    "                                    \"task_name\": task,\n",
    "                                    \"config_name\": config_name,\n",
    "                                    \"experiment_id\": experiment_id,\n",
    "                                    \"run_dir\": run_dir,\n",
    "                                    \"thinking\": thinking,\n",
    "                                    \"apply_chat_template\": apply_chat_template\n",
    "                                }\n",
    "                                # Add all metrics from the task results\n",
    "                                row.update(data[\"results\"][task])\n",
    "                                \n",
    "                                # Drop alias field if present\n",
    "                                row.pop(\"alias\", None)\n",
    "\n",
    "                                # For MMLU Pro, also add category-level metrics\n",
    "                                if task == \"mmlu_pro\":\n",
    "                                    for key, val in data[\"results\"].items():\n",
    "                                        if key.startswith(\"mmlu_pro_\") and isinstance(val, dict):\n",
    "                                            category = key.replace(\"mmlu_pro_\", \"\")\n",
    "                                            row[f\"{category}_acc\"] = val.get(\"exact_match,custom-extract\", None)\n",
    "                                            row[f\"{category}_stderr\"] = val.get(\"exact_match_stderr,custom-extract\", None)\n",
    "\n",
    "                                all_rows.append(row)\n",
    "\n",
    "    df = pd.DataFrame(all_rows)\n",
    "    return df\n",
    "\n",
    "print(\"Data loading function defined\")"
   ]
  },
  {
   "cell_type": "code",
   "execution_count": 61,
   "id": "d91e3b72",
   "metadata": {},
   "outputs": [],
   "source": [
    "def plot_benchmark_results(df, eval_name, title, subtitle, total_layers=64):\n",
    "    \"\"\"\n",
    "    Generic benchmark plotting function that works for any eval.\n",
    "    \n",
    "    Args:\n",
    "        df: DataFrame with experiment results (should have only one baseline row)\n",
    "        eval_name: Name of eval ('ifeval', 'mmlu_pro', 'eq_bench')\n",
    "        title: Plot title\n",
    "        subtitle: Plot subtitle  \n",
    "        total_layers: Total number of layers in the model (default: 64)\n",
    "    \n",
    "    Returns:\n",
    "        Plotly figure object\n",
    "    \"\"\"\n",
    "    import numpy as np\n",
    "    import plotly.graph_objects as go\n",
    "    from plotly.subplots import make_subplots\n",
    "    \n",
    "    # Get eval-specific configuration\n",
    "    eval_config = EVAL_CONFIGS[eval_name]\n",
    "    metrics = eval_config['metrics']\n",
    "    y_range = eval_config['y_range']\n",
    "    \n",
    "    # Parse experiment IDs and add metadata columns\n",
    "    df_sorted = df.copy()\n",
    "    \n",
    "    # Parse each experiment_id\n",
    "    parsed = df_sorted['experiment_id'].apply(parse_experiment_id)\n",
    "    df_sorted['layer_spec'] = parsed.apply(lambda x: x[0])\n",
    "    df_sorted['cap_type'] = parsed.apply(lambda x: x[1])\n",
    "    df_sorted['cap_value'] = parsed.apply(lambda x: x[2])\n",
    "    \n",
    "    # Add human-readable labels\n",
    "    df_sorted['layer_label'] = df_sorted['layer_spec'].apply(\n",
    "        lambda x: format_layer_range(x, total_layers)\n",
    "    )\n",
    "    df_sorted['cap_label'] = df_sorted['cap_value'].apply(format_cap_label)\n",
    "    df_sorted['display_name'] = df_sorted.apply(\n",
    "        lambda row: f\"{row['layer_label']}, {row['cap_label']}\" \n",
    "                    if row['experiment_id'] != 'baseline' \n",
    "                    else \"Baseline\",\n",
    "        axis=1\n",
    "    )\n",
    "    \n",
    "    # Create sort key for ordering (baseline first, then by config)\n",
    "    config_order = {cfg: i for i, cfg in enumerate(['baseline', 'jailbreak', 'role_trait', 'lmsys_10000'])}\n",
    "    df_sorted['sort_key'] = df_sorted['config_name'].map(config_order)\n",
    "    \n",
    "    # Sort by config, then layer_spec, then cap_value\n",
    "    # Create layer sort keys for consistent ordering\n",
    "    df_sorted['layer_sort_key'] = df_sorted['layer_spec'].apply(\n",
    "        lambda x: parse_layer_sort_key(x, total_layers)\n",
    "    )\n",
    "    \n",
    "    \n",
    "    # Create cap sort keys (safe before harm, smaller percentiles first)\n",
    "    def cap_sort_key(cap_value):\n",
    "        if cap_value is None:\n",
    "            return (0, 0.0)  # Baseline first\n",
    "        if cap_value.startswith('safe_'):\n",
    "            return (0, float(cap_value.split('_')[1]))  # Safe first, then by value\n",
    "        elif cap_value.startswith('harm_'):\n",
    "            return (1, float(cap_value.split('_')[1]))  # Harm second, then by value\n",
    "        elif cap_value.startswith('p'):\n",
    "            return (0, float(cap_value[1:]))  # Regular percentiles\n",
    "        return (999, 0.0)  # Unknown\n",
    "    \n",
    "    df_sorted['cap_sort_key'] = df_sorted['cap_value'].apply(cap_sort_key)\n",
    "    \n",
    "    df_sorted = df_sorted.sort_values(\n",
    "        ['sort_key', 'layer_sort_key', 'cap_sort_key'], \n",
    "        na_position='first'\n",
    "    ).reset_index(drop=True)\n",
    "    \n",
    "    # Create a unique layer_group_id for position calculation\n",
    "    # Baseline gets its own unique ID to prevent overlap with first non-baseline group\n",
    "    df_sorted['layer_group_id'] = df_sorted.apply(\n",
    "        lambda row: 'baseline' if row['experiment_id'] == 'baseline' \n",
    "                   else f\"{row['config_name']}_{row['layer_spec']}\", \n",
    "        axis=1\n",
    "    )\n",
    "    \n",
    "    # Calculate x positions with gaps between layer groups\n",
    "    x_positions = []\n",
    "    current_x = 0\n",
    "    prev_group_id = None\n",
    "    \n",
    "    bar_width = 0.35\n",
    "    gap_within_group = 0.05\n",
    "    gap_between_layers = 0.15\n",
    "    \n",
    "    for _, row in df_sorted.iterrows():\n",
    "        if prev_group_id is not None and row['layer_group_id'] != prev_group_id:\n",
    "            current_x += bar_width + gap_between_layers\n",
    "        elif prev_group_id is not None:\n",
    "            current_x += bar_width + gap_within_group\n",
    "        x_positions.append(current_x)\n",
    "        prev_group_id = row['layer_group_id']\n",
    "    x_positions = np.array(x_positions)\n",
    "    \n",
    "    # Get colors for each bar\n",
    "    colors = [CONFIG_COLORS.get(row['config_name'], '#636EFA') \n",
    "              for _, row in df_sorted.iterrows()]\n",
    "    \n",
    "    # Create subplots (one row per metric)\n",
    "    num_metrics = len(metrics)\n",
    "    subplot_titles = [m['label'] for m in metrics]\n",
    "    \n",
    "    fig = make_subplots(\n",
    "        rows=num_metrics, cols=1,\n",
    "        subplot_titles=subplot_titles,\n",
    "        vertical_spacing=0.12 if num_metrics > 1 else 0\n",
    "    )\n",
    "    \n",
    "    # Add traces for each metric\n",
    "    for metric_idx, metric in enumerate(metrics, start=1):\n",
    "        metric_name = metric['name']\n",
    "        stderr_name = metric['stderr']\n",
    "        \n",
    "        # Get stderr values if available\n",
    "        error_y = None\n",
    "        if stderr_name and stderr_name in df_sorted.columns:\n",
    "            stderr_vals = df_sorted[stderr_name].apply(\n",
    "                lambda x: float(x) if x != 'N/A' and pd.notna(x) else None\n",
    "            )\n",
    "            error_y = dict(type='data', array=stderr_vals, visible=True, thickness=0.5)\n",
    "        \n",
    "        # Add bar trace\n",
    "        fig.add_trace(\n",
    "            go.Bar(\n",
    "                name=metric['label'],\n",
    "                x=x_positions,\n",
    "                y=df_sorted[metric_name],\n",
    "                error_y=error_y,\n",
    "                marker_color=colors,\n",
    "                opacity=0.8,\n",
    "                width=bar_width,\n",
    "                showlegend=False,\n",
    "                hovertemplate=\"%{customdata[0]}<br>Config: %{customdata[1]}<br>Value: %{y:.1%}<extra></extra>\",\n",
    "                customdata=np.column_stack([df_sorted['display_name'], df_sorted['config_name']]),\n",
    "            ),\n",
    "            row=metric_idx, col=1\n",
    "        )\n",
    "\n",
    "    baseline_row = df_sorted[df_sorted['experiment_id'] == 'baseline']\n",
    "    if len(baseline_row) > 0:\n",
    "        for metric_idx, metric in enumerate(metrics, start=1):\n",
    "            metric_name = metric['name']\n",
    "            baseline_value = baseline_row[metric_name].iloc[0]\n",
    "\n",
    "            fig.add_hline(\n",
    "                y=baseline_value,\n",
    "                line_dash=\"dot\",\n",
    "                line_color=\"green\",\n",
    "                line_width=1,\n",
    "                opacity=0.8,\n",
    "                row=metric_idx,\n",
    "                col=1\n",
    "            )\n",
    "    \n",
    "    # Add legend entries for configs (only once, attached to first subplot)\n",
    "    present_configs = [c for c in config_order.keys() if c in df_sorted['config_name'].values]\n",
    "    for config in present_configs:\n",
    "        fig.add_trace(\n",
    "            go.Scatter(\n",
    "                x=[None], y=[None], mode='markers',\n",
    "                marker=dict(size=10, color=CONFIG_COLORS[config]),\n",
    "                name=CONFIG_DISPLAY_NAMES[config],\n",
    "                showlegend=True\n",
    "            ),\n",
    "            row=1, col=1\n",
    "        )\n",
    "    \n",
    "    # Place legend in top-right\n",
    "    fig.update_layout(\n",
    "        legend=dict(\n",
    "            x=1.0, y=1.08, xanchor='right', yanchor='bottom',\n",
    "            orientation='h',\n",
    "        )\n",
    "    )\n",
    "    \n",
    "    # Add single centered annotation about cap ordering\n",
    "    fig.add_annotation(\n",
    "        x=1, y=1,\n",
    "        text=\"<span style='font-size:10px'>Projection caps in each bar group<br>(L-R) strict to relaxed</span>\",\n",
    "        showarrow=False, xref='paper', yref='paper',\n",
    "        xanchor='right', yanchor='top'\n",
    "    )\n",
    "    \n",
    "    # Calculate layer group centers for x-axis labels\n",
    "    # Use layer_group_id to properly detect group boundaries\n",
    "    layer_centers, layer_labels = [], []\n",
    "    prev_group_id = None\n",
    "    group_start = 0\n",
    "    \n",
    "    for i, (_, row) in enumerate(df_sorted.iterrows()):\n",
    "        if prev_group_id is not None and row['layer_group_id'] != prev_group_id:\n",
    "            group_center = (x_positions[group_start] + x_positions[i-1]) / 2\n",
    "            layer_centers.append(group_center)\n",
    "            layer_labels.append(df_sorted.iloc[group_start]['layer_label'])\n",
    "            group_start = i\n",
    "        prev_group_id = row['layer_group_id']\n",
    "    \n",
    "    # Add last group\n",
    "    if len(df_sorted) > 0:\n",
    "        group_center = (x_positions[group_start] + x_positions[-1]) / 2\n",
    "        layer_centers.append(group_center)\n",
    "        layer_labels.append(df_sorted.iloc[group_start]['layer_label'])\n",
    "    \n",
    "    # Update layout and axes\n",
    "    fig.update_layout(\n",
    "        title=dict(text=f\"{title}\", subtitle=dict(text=subtitle)),\n",
    "        height=350 * num_metrics + 200, \n",
    "        width=1000, \n",
    "        margin=dict(b=100, t=150)\n",
    "    )\n",
    "    \n",
    "    # Update axes for all subplots\n",
    "    for metric_idx in range(1, num_metrics + 1):\n",
    "        # Y-axis\n",
    "        fig.update_yaxes(\n",
    "            title_text=\"Score\", \n",
    "            range=y_range, \n",
    "            row=metric_idx, col=1, \n",
    "            tickfont=dict(size=10)\n",
    "        )\n",
    "        \n",
    "        # X-axis (only label bottom subplot)\n",
    "        if metric_idx == num_metrics:\n",
    "            fig.update_xaxes(title_text=\"Intervention Layers\", row=metric_idx, col=1)\n",
    "        \n",
    "        # Set x-axis ticks\n",
    "        fig.update_xaxes(\n",
    "            tickmode='array', \n",
    "            tickvals=layer_centers, \n",
    "            ticktext=layer_labels,\n",
    "            range=[x_positions[0] - 0.5, x_positions[-1] + 0.5], \n",
    "            row=metric_idx, col=1, \n",
    "            tickfont=dict(size=10)\n",
    "        )\n",
    "    \n",
    "    return fig"
   ]
  },
  {
   "cell_type": "markdown",
   "id": "09467a88",
   "metadata": {},
   "source": [
    "## IFEval"
   ]
  },
  {
   "cell_type": "code",
   "execution_count": 39,
   "id": "bf33c6fb",
   "metadata": {},
   "outputs": [
    {
     "name": "stdout",
     "output_type": "stream",
     "text": [
      "Loaded 89 IFEval experiment runs\n",
      "\n",
      "Config breakdown:\n",
      "  baseline: 1 unique experiments\n",
      "    - baseline (1 run)\n",
      "  role_trait: 36 unique experiments\n",
      "    - layers_0:16-p0.01 (1 run)\n",
      "    - layers_0:16-p0.25 (1 run)\n",
      "    - layers_0:16-p0.5 (1 run)\n",
      "    - layers_0:16-p0.75 (1 run)\n",
      "    - layers_0:64-p0.01 (1 run)\n",
      "    - layers_0:64-p0.25 (1 run)\n",
      "    - layers_0:64-p0.5 (1 run)\n",
      "    - layers_0:64-p0.75 (1 run)\n",
      "    - layers_16:24-p0.01 (1 run)\n",
      "    - layers_16:24-p0.25 (1 run)\n",
      "    - layers_16:24-p0.5 (1 run)\n",
      "    - layers_16:24-p0.75 (1 run)\n",
      "    - layers_24:32-p0.01 (1 run)\n",
      "    - layers_24:32-p0.25 (1 run)\n",
      "    - layers_24:32-p0.5 (1 run)\n",
      "    - layers_24:32-p0.75 (1 run)\n",
      "    - layers_32:40-p0.01 (1 run)\n",
      "    - layers_32:40-p0.25 (1 run)\n",
      "    - layers_32:40-p0.5 (1 run)\n",
      "    - layers_32:40-p0.75 (1 run)\n",
      "    - layers_40:48-p0.01 (1 run)\n",
      "    - layers_40:48-p0.25 (1 run)\n",
      "    - layers_40:48-p0.5 (1 run)\n",
      "    - layers_40:48-p0.75 (1 run)\n",
      "    - layers_48:56-p0.01 (1 run)\n",
      "    - layers_48:56-p0.25 (1 run)\n",
      "    - layers_48:56-p0.5 (1 run)\n",
      "    - layers_48:56-p0.75 (1 run)\n",
      "    - layers_56:64-p0.01 (1 run)\n",
      "    - layers_56:64-p0.25 (1 run)\n",
      "    - layers_56:64-p0.5 (1 run)\n",
      "    - layers_56:64-p0.75 (1 run)\n",
      "    - layers_8:16-p0.01 (1 run)\n",
      "    - layers_8:16-p0.25 (1 run)\n",
      "    - layers_8:16-p0.5 (1 run)\n",
      "    - layers_8:16-p0.75 (1 run)\n",
      "  jailbreak: 16 unique experiments\n",
      "    - layers_0:64-harm_0.01 (1 run)\n",
      "    - layers_0:64-harm_0.25 (1 run)\n",
      "    - layers_0:64-safe_0.01 (1 run)\n",
      "    - layers_0:64-safe_0.50 (1 run)\n",
      "    - layers_2:64:2-harm_0.01 (1 run)\n",
      "    - layers_2:64:2-harm_0.25 (1 run)\n",
      "    - layers_2:64:2-safe_0.01 (1 run)\n",
      "    - layers_2:64:2-safe_0.50 (1 run)\n",
      "    - layers_32:64-harm_0.01 (1 run)\n",
      "    - layers_32:64-harm_0.25 (1 run)\n",
      "    - layers_32:64-safe_0.01 (1 run)\n",
      "    - layers_32:64-safe_0.50 (1 run)\n",
      "    - layers_4:64:4-harm_0.01 (1 run)\n",
      "    - layers_4:64:4-harm_0.25 (1 run)\n",
      "    - layers_4:64:4-safe_0.01 (1 run)\n",
      "    - layers_4:64:4-safe_0.50 (1 run)\n",
      "  lmsys_10000: 36 unique experiments\n",
      "    - layers_0:16-p0.01 (1 run)\n",
      "    - layers_0:16-p0.25 (1 run)\n",
      "    - layers_0:16-p0.5 (1 run)\n",
      "    - layers_0:16-p0.75 (1 run)\n",
      "    - layers_0:64-p0.01 (1 run)\n",
      "    - layers_0:64-p0.25 (1 run)\n",
      "    - layers_0:64-p0.5 (1 run)\n",
      "    - layers_0:64-p0.75 (1 run)\n",
      "    - layers_16:24-p0.01 (1 run)\n",
      "    - layers_16:24-p0.25 (1 run)\n",
      "    - layers_16:24-p0.5 (1 run)\n",
      "    - layers_16:24-p0.75 (1 run)\n",
      "    - layers_24:32-p0.01 (1 run)\n",
      "    - layers_24:32-p0.25 (1 run)\n",
      "    - layers_24:32-p0.5 (1 run)\n",
      "    - layers_24:32-p0.75 (1 run)\n",
      "    - layers_32:40-p0.01 (1 run)\n",
      "    - layers_32:40-p0.25 (1 run)\n",
      "    - layers_32:40-p0.5 (1 run)\n",
      "    - layers_32:40-p0.75 (1 run)\n",
      "    - layers_40:48-p0.01 (1 run)\n",
      "    - layers_40:48-p0.25 (1 run)\n",
      "    - layers_40:48-p0.5 (1 run)\n",
      "    - layers_40:48-p0.75 (1 run)\n",
      "    - layers_48:56-p0.01 (1 run)\n",
      "    - layers_48:56-p0.25 (1 run)\n",
      "    - layers_48:56-p0.5 (1 run)\n",
      "    - layers_48:56-p0.75 (1 run)\n",
      "    - layers_56:64-p0.01 (1 run)\n",
      "    - layers_56:64-p0.25 (1 run)\n",
      "    - layers_56:64-p0.5 (1 run)\n",
      "    - layers_56:64-p0.75 (1 run)\n",
      "    - layers_8:16-p0.01 (1 run)\n",
      "    - layers_8:16-p0.25 (1 run)\n",
      "    - layers_8:16-p0.5 (1 run)\n",
      "    - layers_8:16-p0.75 (1 run)\n"
     ]
    }
   ],
   "source": [
    "# Load IFEval data\n",
    "df = load_experiment_data([\"ifeval\"], config_names, base_dir)\n",
    "print(f\"Loaded {len(df)} IFEval experiment runs\")\n",
    "print(f\"\\nConfig breakdown:\")\n",
    "for config in df['config_name'].unique():\n",
    "    config_df = df[df['config_name'] == config]\n",
    "    unique_exps = config_df['experiment_id'].unique()\n",
    "    print(f\"  {config}: {len(unique_exps)} unique experiments\")\n",
    "    for exp in sorted(unique_exps):\n",
    "        exp_count = len(config_df[config_df['experiment_id'] == exp])\n",
    "        print(f\"    - {exp} ({exp_count} run{'s' if exp_count > 1 else ''})\")"
   ]
  },
  {
   "cell_type": "code",
   "execution_count": 5,
   "id": "87c95dca",
   "metadata": {},
   "outputs": [
    {
     "data": {
      "text/html": [
       "<div>\n",
       "<style scoped>\n",
       "    .dataframe tbody tr th:only-of-type {\n",
       "        vertical-align: middle;\n",
       "    }\n",
       "\n",
       "    .dataframe tbody tr th {\n",
       "        vertical-align: top;\n",
       "    }\n",
       "\n",
       "    .dataframe thead th {\n",
       "        text-align: right;\n",
       "    }\n",
       "</style>\n",
       "<table border=\"1\" class=\"dataframe\">\n",
       "  <thead>\n",
       "    <tr style=\"text-align: right;\">\n",
       "      <th></th>\n",
       "      <th>config_name</th>\n",
       "      <th>experiment_id</th>\n",
       "      <th>thinking</th>\n",
       "      <th>apply_chat_template</th>\n",
       "      <th>prompt_level_strict_acc,none</th>\n",
       "      <th>inst_level_strict_acc,none</th>\n",
       "    </tr>\n",
       "  </thead>\n",
       "  <tbody>\n",
       "    <tr>\n",
       "      <th>0</th>\n",
       "      <td>baseline</td>\n",
       "      <td>baseline</td>\n",
       "      <td>False</td>\n",
       "      <td>False</td>\n",
       "      <td>0.468</td>\n",
       "      <td>0.601552</td>\n",
       "    </tr>\n",
       "    <tr>\n",
       "      <th>1</th>\n",
       "      <td>role_trait</td>\n",
       "      <td>layers_56:64-p0.75</td>\n",
       "      <td>False</td>\n",
       "      <td>True</td>\n",
       "      <td>0.510</td>\n",
       "      <td>0.635188</td>\n",
       "    </tr>\n",
       "    <tr>\n",
       "      <th>2</th>\n",
       "      <td>role_trait</td>\n",
       "      <td>layers_56:64-p0.5</td>\n",
       "      <td>False</td>\n",
       "      <td>True</td>\n",
       "      <td>0.506</td>\n",
       "      <td>0.632600</td>\n",
       "    </tr>\n",
       "    <tr>\n",
       "      <th>3</th>\n",
       "      <td>role_trait</td>\n",
       "      <td>layers_56:64-p0.25</td>\n",
       "      <td>False</td>\n",
       "      <td>True</td>\n",
       "      <td>0.494</td>\n",
       "      <td>0.624838</td>\n",
       "    </tr>\n",
       "    <tr>\n",
       "      <th>4</th>\n",
       "      <td>role_trait</td>\n",
       "      <td>layers_56:64-p0.01</td>\n",
       "      <td>False</td>\n",
       "      <td>True</td>\n",
       "      <td>0.470</td>\n",
       "      <td>0.609314</td>\n",
       "    </tr>\n",
       "    <tr>\n",
       "      <th>5</th>\n",
       "      <td>role_trait</td>\n",
       "      <td>layers_48:56-p0.75</td>\n",
       "      <td>False</td>\n",
       "      <td>True</td>\n",
       "      <td>0.490</td>\n",
       "      <td>0.615783</td>\n",
       "    </tr>\n",
       "    <tr>\n",
       "      <th>6</th>\n",
       "      <td>role_trait</td>\n",
       "      <td>layers_48:56-p0.5</td>\n",
       "      <td>False</td>\n",
       "      <td>True</td>\n",
       "      <td>0.474</td>\n",
       "      <td>0.600259</td>\n",
       "    </tr>\n",
       "    <tr>\n",
       "      <th>7</th>\n",
       "      <td>role_trait</td>\n",
       "      <td>layers_48:56-p0.25</td>\n",
       "      <td>False</td>\n",
       "      <td>True</td>\n",
       "      <td>0.472</td>\n",
       "      <td>0.602846</td>\n",
       "    </tr>\n",
       "    <tr>\n",
       "      <th>8</th>\n",
       "      <td>role_trait</td>\n",
       "      <td>layers_48:56-p0.01</td>\n",
       "      <td>False</td>\n",
       "      <td>True</td>\n",
       "      <td>0.486</td>\n",
       "      <td>0.614489</td>\n",
       "    </tr>\n",
       "    <tr>\n",
       "      <th>9</th>\n",
       "      <td>role_trait</td>\n",
       "      <td>layers_40:48-p0.75</td>\n",
       "      <td>False</td>\n",
       "      <td>True</td>\n",
       "      <td>0.472</td>\n",
       "      <td>0.598965</td>\n",
       "    </tr>\n",
       "    <tr>\n",
       "      <th>10</th>\n",
       "      <td>role_trait</td>\n",
       "      <td>layers_40:48-p0.5</td>\n",
       "      <td>False</td>\n",
       "      <td>True</td>\n",
       "      <td>0.482</td>\n",
       "      <td>0.610608</td>\n",
       "    </tr>\n",
       "    <tr>\n",
       "      <th>11</th>\n",
       "      <td>role_trait</td>\n",
       "      <td>layers_40:48-p0.25</td>\n",
       "      <td>False</td>\n",
       "      <td>True</td>\n",
       "      <td>0.484</td>\n",
       "      <td>0.614489</td>\n",
       "    </tr>\n",
       "    <tr>\n",
       "      <th>12</th>\n",
       "      <td>role_trait</td>\n",
       "      <td>layers_40:48-p0.01</td>\n",
       "      <td>False</td>\n",
       "      <td>True</td>\n",
       "      <td>0.484</td>\n",
       "      <td>0.604140</td>\n",
       "    </tr>\n",
       "    <tr>\n",
       "      <th>13</th>\n",
       "      <td>role_trait</td>\n",
       "      <td>layers_32:40-p0.75</td>\n",
       "      <td>False</td>\n",
       "      <td>True</td>\n",
       "      <td>0.498</td>\n",
       "      <td>0.623545</td>\n",
       "    </tr>\n",
       "    <tr>\n",
       "      <th>14</th>\n",
       "      <td>role_trait</td>\n",
       "      <td>layers_32:40-p0.5</td>\n",
       "      <td>False</td>\n",
       "      <td>True</td>\n",
       "      <td>0.504</td>\n",
       "      <td>0.622251</td>\n",
       "    </tr>\n",
       "    <tr>\n",
       "      <th>15</th>\n",
       "      <td>role_trait</td>\n",
       "      <td>layers_32:40-p0.25</td>\n",
       "      <td>False</td>\n",
       "      <td>True</td>\n",
       "      <td>0.496</td>\n",
       "      <td>0.617076</td>\n",
       "    </tr>\n",
       "    <tr>\n",
       "      <th>16</th>\n",
       "      <td>role_trait</td>\n",
       "      <td>layers_32:40-p0.01</td>\n",
       "      <td>False</td>\n",
       "      <td>True</td>\n",
       "      <td>0.490</td>\n",
       "      <td>0.615783</td>\n",
       "    </tr>\n",
       "    <tr>\n",
       "      <th>17</th>\n",
       "      <td>role_trait</td>\n",
       "      <td>layers_24:32-p0.75</td>\n",
       "      <td>False</td>\n",
       "      <td>True</td>\n",
       "      <td>0.486</td>\n",
       "      <td>0.614489</td>\n",
       "    </tr>\n",
       "    <tr>\n",
       "      <th>18</th>\n",
       "      <td>role_trait</td>\n",
       "      <td>layers_24:32-p0.5</td>\n",
       "      <td>False</td>\n",
       "      <td>True</td>\n",
       "      <td>0.484</td>\n",
       "      <td>0.609314</td>\n",
       "    </tr>\n",
       "    <tr>\n",
       "      <th>19</th>\n",
       "      <td>role_trait</td>\n",
       "      <td>layers_24:32-p0.25</td>\n",
       "      <td>False</td>\n",
       "      <td>True</td>\n",
       "      <td>0.486</td>\n",
       "      <td>0.615783</td>\n",
       "    </tr>\n",
       "  </tbody>\n",
       "</table>\n",
       "</div>"
      ],
      "text/plain": [
       "   config_name       experiment_id  thinking  apply_chat_template  \\\n",
       "0     baseline            baseline     False                False   \n",
       "1   role_trait  layers_56:64-p0.75     False                 True   \n",
       "2   role_trait   layers_56:64-p0.5     False                 True   \n",
       "3   role_trait  layers_56:64-p0.25     False                 True   \n",
       "4   role_trait  layers_56:64-p0.01     False                 True   \n",
       "5   role_trait  layers_48:56-p0.75     False                 True   \n",
       "6   role_trait   layers_48:56-p0.5     False                 True   \n",
       "7   role_trait  layers_48:56-p0.25     False                 True   \n",
       "8   role_trait  layers_48:56-p0.01     False                 True   \n",
       "9   role_trait  layers_40:48-p0.75     False                 True   \n",
       "10  role_trait   layers_40:48-p0.5     False                 True   \n",
       "11  role_trait  layers_40:48-p0.25     False                 True   \n",
       "12  role_trait  layers_40:48-p0.01     False                 True   \n",
       "13  role_trait  layers_32:40-p0.75     False                 True   \n",
       "14  role_trait   layers_32:40-p0.5     False                 True   \n",
       "15  role_trait  layers_32:40-p0.25     False                 True   \n",
       "16  role_trait  layers_32:40-p0.01     False                 True   \n",
       "17  role_trait  layers_24:32-p0.75     False                 True   \n",
       "18  role_trait   layers_24:32-p0.5     False                 True   \n",
       "19  role_trait  layers_24:32-p0.25     False                 True   \n",
       "\n",
       "    prompt_level_strict_acc,none  inst_level_strict_acc,none  \n",
       "0                          0.468                    0.601552  \n",
       "1                          0.510                    0.635188  \n",
       "2                          0.506                    0.632600  \n",
       "3                          0.494                    0.624838  \n",
       "4                          0.470                    0.609314  \n",
       "5                          0.490                    0.615783  \n",
       "6                          0.474                    0.600259  \n",
       "7                          0.472                    0.602846  \n",
       "8                          0.486                    0.614489  \n",
       "9                          0.472                    0.598965  \n",
       "10                         0.482                    0.610608  \n",
       "11                         0.484                    0.614489  \n",
       "12                         0.484                    0.604140  \n",
       "13                         0.498                    0.623545  \n",
       "14                         0.504                    0.622251  \n",
       "15                         0.496                    0.617076  \n",
       "16                         0.490                    0.615783  \n",
       "17                         0.486                    0.614489  \n",
       "18                         0.484                    0.609314  \n",
       "19                         0.486                    0.615783  "
      ]
     },
     "execution_count": 5,
     "metadata": {},
     "output_type": "execute_result"
    }
   ],
   "source": [
    "df[['config_name', 'experiment_id', 'thinking', 'apply_chat_template', 'prompt_level_strict_acc,none', 'inst_level_strict_acc,none']].head(20)\n"
   ]
  },
  {
   "cell_type": "code",
   "execution_count": 62,
   "id": "muulexwd2",
   "metadata": {},
   "outputs": [
    {
     "data": {
      "application/vnd.plotly.v1+json": {
       "config": {
        "plotlyServerURL": "https://plot.ly"
       },
       "data": [
        {
         "customdata": [
          [
           "Baseline",
           "baseline"
          ],
          [
           "All Layers (0-63), Safe 99th",
           "jailbreak"
          ],
          [
           "All Layers (0-63), Safe 50th",
           "jailbreak"
          ],
          [
           "All Layers (0-63), Harm 99th",
           "jailbreak"
          ],
          [
           "All Layers (0-63), Harm 75th",
           "jailbreak"
          ],
          [
           "Every 2nd Layer, Safe 99th",
           "jailbreak"
          ],
          [
           "Every 2nd Layer, Safe 50th",
           "jailbreak"
          ],
          [
           "Every 2nd Layer, Harm 99th",
           "jailbreak"
          ],
          [
           "Every 2nd Layer, Harm 75th",
           "jailbreak"
          ],
          [
           "Every 4th Layer, Safe 99th",
           "jailbreak"
          ],
          [
           "Every 4th Layer, Safe 50th",
           "jailbreak"
          ],
          [
           "Every 4th Layer, Harm 99th",
           "jailbreak"
          ],
          [
           "Every 4th Layer, Harm 75th",
           "jailbreak"
          ],
          [
           "Layers 32-63, Safe 99th",
           "jailbreak"
          ],
          [
           "Layers 32-63, Safe 50th",
           "jailbreak"
          ],
          [
           "Layers 32-63, Harm 99th",
           "jailbreak"
          ],
          [
           "Layers 32-63, Harm 75th",
           "jailbreak"
          ],
          [
           "All Layers (0-63), 1st",
           "role_trait"
          ],
          [
           "All Layers (0-63), 25th",
           "role_trait"
          ],
          [
           "All Layers (0-63), 50th",
           "role_trait"
          ],
          [
           "All Layers (0-63), 75th",
           "role_trait"
          ],
          [
           "Layers 0-15, 1st",
           "role_trait"
          ],
          [
           "Layers 0-15, 25th",
           "role_trait"
          ],
          [
           "Layers 0-15, 50th",
           "role_trait"
          ],
          [
           "Layers 0-15, 75th",
           "role_trait"
          ],
          [
           "Layers 8-15, 1st",
           "role_trait"
          ],
          [
           "Layers 8-15, 25th",
           "role_trait"
          ],
          [
           "Layers 8-15, 50th",
           "role_trait"
          ],
          [
           "Layers 8-15, 75th",
           "role_trait"
          ],
          [
           "Layers 16-23, 1st",
           "role_trait"
          ],
          [
           "Layers 16-23, 25th",
           "role_trait"
          ],
          [
           "Layers 16-23, 50th",
           "role_trait"
          ],
          [
           "Layers 16-23, 75th",
           "role_trait"
          ],
          [
           "Layers 24-31, 1st",
           "role_trait"
          ],
          [
           "Layers 24-31, 25th",
           "role_trait"
          ],
          [
           "Layers 24-31, 50th",
           "role_trait"
          ],
          [
           "Layers 24-31, 75th",
           "role_trait"
          ],
          [
           "Layers 32-39, 1st",
           "role_trait"
          ],
          [
           "Layers 32-39, 25th",
           "role_trait"
          ],
          [
           "Layers 32-39, 50th",
           "role_trait"
          ],
          [
           "Layers 32-39, 75th",
           "role_trait"
          ],
          [
           "Layers 40-47, 1st",
           "role_trait"
          ],
          [
           "Layers 40-47, 25th",
           "role_trait"
          ],
          [
           "Layers 40-47, 50th",
           "role_trait"
          ],
          [
           "Layers 40-47, 75th",
           "role_trait"
          ],
          [
           "Layers 48-55, 1st",
           "role_trait"
          ],
          [
           "Layers 48-55, 25th",
           "role_trait"
          ],
          [
           "Layers 48-55, 50th",
           "role_trait"
          ],
          [
           "Layers 48-55, 75th",
           "role_trait"
          ],
          [
           "Layers 56-63, 1st",
           "role_trait"
          ],
          [
           "Layers 56-63, 25th",
           "role_trait"
          ],
          [
           "Layers 56-63, 50th",
           "role_trait"
          ],
          [
           "Layers 56-63, 75th",
           "role_trait"
          ],
          [
           "All Layers (0-63), 1st",
           "lmsys_10000"
          ],
          [
           "All Layers (0-63), 25th",
           "lmsys_10000"
          ],
          [
           "All Layers (0-63), 50th",
           "lmsys_10000"
          ],
          [
           "All Layers (0-63), 75th",
           "lmsys_10000"
          ],
          [
           "Layers 0-15, 1st",
           "lmsys_10000"
          ],
          [
           "Layers 0-15, 25th",
           "lmsys_10000"
          ],
          [
           "Layers 0-15, 50th",
           "lmsys_10000"
          ],
          [
           "Layers 0-15, 75th",
           "lmsys_10000"
          ],
          [
           "Layers 8-15, 1st",
           "lmsys_10000"
          ],
          [
           "Layers 8-15, 25th",
           "lmsys_10000"
          ],
          [
           "Layers 8-15, 50th",
           "lmsys_10000"
          ],
          [
           "Layers 8-15, 75th",
           "lmsys_10000"
          ],
          [
           "Layers 16-23, 1st",
           "lmsys_10000"
          ],
          [
           "Layers 16-23, 25th",
           "lmsys_10000"
          ],
          [
           "Layers 16-23, 50th",
           "lmsys_10000"
          ],
          [
           "Layers 16-23, 75th",
           "lmsys_10000"
          ],
          [
           "Layers 24-31, 1st",
           "lmsys_10000"
          ],
          [
           "Layers 24-31, 25th",
           "lmsys_10000"
          ],
          [
           "Layers 24-31, 50th",
           "lmsys_10000"
          ],
          [
           "Layers 24-31, 75th",
           "lmsys_10000"
          ],
          [
           "Layers 32-39, 1st",
           "lmsys_10000"
          ],
          [
           "Layers 32-39, 25th",
           "lmsys_10000"
          ],
          [
           "Layers 32-39, 50th",
           "lmsys_10000"
          ],
          [
           "Layers 32-39, 75th",
           "lmsys_10000"
          ],
          [
           "Layers 40-47, 1st",
           "lmsys_10000"
          ],
          [
           "Layers 40-47, 25th",
           "lmsys_10000"
          ],
          [
           "Layers 40-47, 50th",
           "lmsys_10000"
          ],
          [
           "Layers 40-47, 75th",
           "lmsys_10000"
          ],
          [
           "Layers 48-55, 1st",
           "lmsys_10000"
          ],
          [
           "Layers 48-55, 25th",
           "lmsys_10000"
          ],
          [
           "Layers 48-55, 50th",
           "lmsys_10000"
          ],
          [
           "Layers 48-55, 75th",
           "lmsys_10000"
          ],
          [
           "Layers 56-63, 1st",
           "lmsys_10000"
          ],
          [
           "Layers 56-63, 25th",
           "lmsys_10000"
          ],
          [
           "Layers 56-63, 50th",
           "lmsys_10000"
          ],
          [
           "Layers 56-63, 75th",
           "lmsys_10000"
          ]
         ],
         "error_y": {
          "array": [
           0.022337186479044296,
           0.02187429930168918,
           0.02209471322976179,
           0.02206494331392886,
           0.022149790663861947,
           0.022374298166353144,
           0.022383074051792257,
           0.022382894986483586,
           0.022380208834928014,
           0.022380208834928014,
           0.022382894986483586,
           0.022382357781962105,
           0.022382357781962105,
           0.02216263442665287,
           0.022198954641476896,
           0.021966635293832883,
           0.02201748257812769,
           0.022331264423258324,
           0.022382894986483586,
           0.022376626797927058,
           0.022382357781962105,
           0.022352791650914174,
           0.02236139673920787,
           0.022318338119870523,
           0.022352791650914174,
           0.022357273881016475,
           0.022371610982580396,
           0.022371610982580396,
           0.022347949832668024,
           0.022352791650914174,
           0.022374298166353144,
           0.022374298166353144,
           0.02236139673920787,
           0.02236139673920787,
           0.022374298166353144,
           0.022371610982580396,
           0.022374298166353144,
           0.022378596989230864,
           0.022382357781962105,
           0.022382357781962105,
           0.022382894986483586,
           0.022371610982580396,
           0.022371610982580396,
           0.022368565117387874,
           0.022347949832668024,
           0.022374298166353144,
           0.022347949832668024,
           0.022352791650914174,
           0.022378596989230864,
           0.0223427481925028,
           0.022381462412439424,
           0.022381462412439424,
           0.022378596989230864,
           0.02104961216613478,
           0.021660710347204473,
           0.021893529941665716,
           0.022136577335085575,
           0.022357273881016475,
           0.022337186479044296,
           0.022324981738385333,
           0.022352791650914174,
           0.022374298166353144,
           0.022378596989230864,
           0.022347949832668024,
           0.022368565117387874,
           0.022368565117387874,
           0.022357273881016475,
           0.022318338119870523,
           0.022337186479044296,
           0.022382357781962105,
           0.022380208834928014,
           0.022371610982580396,
           0.022374298166353144,
           0.022374298166353144,
           0.022383074051792257,
           0.022378596989230864,
           0.022376626797927058,
           0.022380208834928014,
           0.022382894986483586,
           0.022365160424231326,
           0.022380208834928014,
           0.022357273881016475,
           0.022352791650914174,
           0.022347949832668024,
           0.022352791650914174,
           0.021948929609938706,
           0.022242244375731048,
           0.022261697292270087,
           0.022261697292270087
          ],
          "thickness": 0.5,
          "type": "data",
          "visible": true
         },
         "hovertemplate": "%{customdata[0]}<br>Config: %{customdata[1]}<br>Value: %{y:.1%}<extra></extra>",
         "marker": {
          "color": [
           "#2ca02c",
           "#d62728",
           "#d62728",
           "#d62728",
           "#d62728",
           "#d62728",
           "#d62728",
           "#d62728",
           "#d62728",
           "#d62728",
           "#d62728",
           "#d62728",
           "#d62728",
           "#d62728",
           "#d62728",
           "#d62728",
           "#d62728",
           "#ff7f0e",
           "#ff7f0e",
           "#ff7f0e",
           "#ff7f0e",
           "#ff7f0e",
           "#ff7f0e",
           "#ff7f0e",
           "#ff7f0e",
           "#ff7f0e",
           "#ff7f0e",
           "#ff7f0e",
           "#ff7f0e",
           "#ff7f0e",
           "#ff7f0e",
           "#ff7f0e",
           "#ff7f0e",
           "#ff7f0e",
           "#ff7f0e",
           "#ff7f0e",
           "#ff7f0e",
           "#ff7f0e",
           "#ff7f0e",
           "#ff7f0e",
           "#ff7f0e",
           "#ff7f0e",
           "#ff7f0e",
           "#ff7f0e",
           "#ff7f0e",
           "#ff7f0e",
           "#ff7f0e",
           "#ff7f0e",
           "#ff7f0e",
           "#ff7f0e",
           "#ff7f0e",
           "#ff7f0e",
           "#ff7f0e",
           "#9467bd",
           "#9467bd",
           "#9467bd",
           "#9467bd",
           "#9467bd",
           "#9467bd",
           "#9467bd",
           "#9467bd",
           "#9467bd",
           "#9467bd",
           "#9467bd",
           "#9467bd",
           "#9467bd",
           "#9467bd",
           "#9467bd",
           "#9467bd",
           "#9467bd",
           "#9467bd",
           "#9467bd",
           "#9467bd",
           "#9467bd",
           "#9467bd",
           "#9467bd",
           "#9467bd",
           "#9467bd",
           "#9467bd",
           "#9467bd",
           "#9467bd",
           "#9467bd",
           "#9467bd",
           "#9467bd",
           "#9467bd",
           "#9467bd",
           "#9467bd",
           "#9467bd",
           "#9467bd"
          ]
         },
         "name": "Prompt-level Accuracy",
         "opacity": 0.8,
         "showlegend": false,
         "type": "bar",
         "width": 0.35,
         "x": [
          0,
          0.5,
          0.8999999999999999,
          1.2999999999999998,
          1.6999999999999997,
          2.1999999999999997,
          2.5999999999999996,
          2.9999999999999996,
          3.3999999999999995,
          3.8999999999999995,
          4.3,
          4.7,
          5.1000000000000005,
          5.6000000000000005,
          6.000000000000001,
          6.400000000000001,
          6.800000000000002,
          7.300000000000002,
          7.700000000000002,
          8.100000000000001,
          8.500000000000002,
          9.000000000000002,
          9.400000000000002,
          9.800000000000002,
          10.200000000000003,
          10.700000000000003,
          11.100000000000003,
          11.500000000000004,
          11.900000000000004,
          12.400000000000004,
          12.800000000000004,
          13.200000000000005,
          13.600000000000005,
          14.100000000000005,
          14.500000000000005,
          14.900000000000006,
          15.300000000000006,
          15.800000000000006,
          16.200000000000006,
          16.600000000000005,
          17.000000000000004,
          17.500000000000004,
          17.900000000000002,
          18.3,
          18.7,
          19.2,
          19.599999999999998,
          19.999999999999996,
          20.399999999999995,
          20.899999999999995,
          21.299999999999994,
          21.699999999999992,
          22.09999999999999,
          22.59999999999999,
          22.99999999999999,
          23.399999999999988,
          23.799999999999986,
          24.299999999999986,
          24.699999999999985,
          25.099999999999984,
          25.499999999999982,
          25.999999999999982,
          26.39999999999998,
          26.79999999999998,
          27.199999999999978,
          27.699999999999978,
          28.099999999999977,
          28.499999999999975,
          28.899999999999974,
          29.399999999999974,
          29.799999999999972,
          30.19999999999997,
          30.59999999999997,
          31.09999999999997,
          31.499999999999968,
          31.899999999999967,
          32.29999999999997,
          32.79999999999997,
          33.19999999999997,
          33.599999999999966,
          33.999999999999964,
          34.499999999999964,
          34.89999999999996,
          35.29999999999996,
          35.69999999999996,
          36.19999999999996,
          36.59999999999996,
          36.99999999999996,
          37.399999999999956
         ],
         "xaxis": "x",
         "y": [
          0.468,
          0.394,
          0.42,
          0.416,
          0.428,
          0.486,
          0.5,
          0.502,
          0.508,
          0.492,
          0.502,
          0.496,
          0.504,
          0.43,
          0.436,
          0.404,
          0.41,
          0.466,
          0.502,
          0.512,
          0.504,
          0.474,
          0.478,
          0.462,
          0.474,
          0.476,
          0.484,
          0.484,
          0.472,
          0.474,
          0.486,
          0.486,
          0.478,
          0.478,
          0.486,
          0.484,
          0.486,
          0.49,
          0.496,
          0.504,
          0.498,
          0.484,
          0.484,
          0.482,
          0.472,
          0.486,
          0.472,
          0.474,
          0.49,
          0.47,
          0.494,
          0.506,
          0.51,
          0.33,
          0.374,
          0.396,
          0.426,
          0.476,
          0.468,
          0.464,
          0.474,
          0.486,
          0.49,
          0.472,
          0.482,
          0.482,
          0.476,
          0.462,
          0.468,
          0.496,
          0.492,
          0.484,
          0.486,
          0.486,
          0.5,
          0.49,
          0.488,
          0.492,
          0.498,
          0.48,
          0.492,
          0.476,
          0.474,
          0.472,
          0.474,
          0.402,
          0.444,
          0.448,
          0.448
         ],
         "yaxis": "y"
        },
        {
         "customdata": [
          [
           "Baseline",
           "baseline"
          ],
          [
           "All Layers (0-63), Safe 99th",
           "jailbreak"
          ],
          [
           "All Layers (0-63), Safe 50th",
           "jailbreak"
          ],
          [
           "All Layers (0-63), Harm 99th",
           "jailbreak"
          ],
          [
           "All Layers (0-63), Harm 75th",
           "jailbreak"
          ],
          [
           "Every 2nd Layer, Safe 99th",
           "jailbreak"
          ],
          [
           "Every 2nd Layer, Safe 50th",
           "jailbreak"
          ],
          [
           "Every 2nd Layer, Harm 99th",
           "jailbreak"
          ],
          [
           "Every 2nd Layer, Harm 75th",
           "jailbreak"
          ],
          [
           "Every 4th Layer, Safe 99th",
           "jailbreak"
          ],
          [
           "Every 4th Layer, Safe 50th",
           "jailbreak"
          ],
          [
           "Every 4th Layer, Harm 99th",
           "jailbreak"
          ],
          [
           "Every 4th Layer, Harm 75th",
           "jailbreak"
          ],
          [
           "Layers 32-63, Safe 99th",
           "jailbreak"
          ],
          [
           "Layers 32-63, Safe 50th",
           "jailbreak"
          ],
          [
           "Layers 32-63, Harm 99th",
           "jailbreak"
          ],
          [
           "Layers 32-63, Harm 75th",
           "jailbreak"
          ],
          [
           "All Layers (0-63), 1st",
           "role_trait"
          ],
          [
           "All Layers (0-63), 25th",
           "role_trait"
          ],
          [
           "All Layers (0-63), 50th",
           "role_trait"
          ],
          [
           "All Layers (0-63), 75th",
           "role_trait"
          ],
          [
           "Layers 0-15, 1st",
           "role_trait"
          ],
          [
           "Layers 0-15, 25th",
           "role_trait"
          ],
          [
           "Layers 0-15, 50th",
           "role_trait"
          ],
          [
           "Layers 0-15, 75th",
           "role_trait"
          ],
          [
           "Layers 8-15, 1st",
           "role_trait"
          ],
          [
           "Layers 8-15, 25th",
           "role_trait"
          ],
          [
           "Layers 8-15, 50th",
           "role_trait"
          ],
          [
           "Layers 8-15, 75th",
           "role_trait"
          ],
          [
           "Layers 16-23, 1st",
           "role_trait"
          ],
          [
           "Layers 16-23, 25th",
           "role_trait"
          ],
          [
           "Layers 16-23, 50th",
           "role_trait"
          ],
          [
           "Layers 16-23, 75th",
           "role_trait"
          ],
          [
           "Layers 24-31, 1st",
           "role_trait"
          ],
          [
           "Layers 24-31, 25th",
           "role_trait"
          ],
          [
           "Layers 24-31, 50th",
           "role_trait"
          ],
          [
           "Layers 24-31, 75th",
           "role_trait"
          ],
          [
           "Layers 32-39, 1st",
           "role_trait"
          ],
          [
           "Layers 32-39, 25th",
           "role_trait"
          ],
          [
           "Layers 32-39, 50th",
           "role_trait"
          ],
          [
           "Layers 32-39, 75th",
           "role_trait"
          ],
          [
           "Layers 40-47, 1st",
           "role_trait"
          ],
          [
           "Layers 40-47, 25th",
           "role_trait"
          ],
          [
           "Layers 40-47, 50th",
           "role_trait"
          ],
          [
           "Layers 40-47, 75th",
           "role_trait"
          ],
          [
           "Layers 48-55, 1st",
           "role_trait"
          ],
          [
           "Layers 48-55, 25th",
           "role_trait"
          ],
          [
           "Layers 48-55, 50th",
           "role_trait"
          ],
          [
           "Layers 48-55, 75th",
           "role_trait"
          ],
          [
           "Layers 56-63, 1st",
           "role_trait"
          ],
          [
           "Layers 56-63, 25th",
           "role_trait"
          ],
          [
           "Layers 56-63, 50th",
           "role_trait"
          ],
          [
           "Layers 56-63, 75th",
           "role_trait"
          ],
          [
           "All Layers (0-63), 1st",
           "lmsys_10000"
          ],
          [
           "All Layers (0-63), 25th",
           "lmsys_10000"
          ],
          [
           "All Layers (0-63), 50th",
           "lmsys_10000"
          ],
          [
           "All Layers (0-63), 75th",
           "lmsys_10000"
          ],
          [
           "Layers 0-15, 1st",
           "lmsys_10000"
          ],
          [
           "Layers 0-15, 25th",
           "lmsys_10000"
          ],
          [
           "Layers 0-15, 50th",
           "lmsys_10000"
          ],
          [
           "Layers 0-15, 75th",
           "lmsys_10000"
          ],
          [
           "Layers 8-15, 1st",
           "lmsys_10000"
          ],
          [
           "Layers 8-15, 25th",
           "lmsys_10000"
          ],
          [
           "Layers 8-15, 50th",
           "lmsys_10000"
          ],
          [
           "Layers 8-15, 75th",
           "lmsys_10000"
          ],
          [
           "Layers 16-23, 1st",
           "lmsys_10000"
          ],
          [
           "Layers 16-23, 25th",
           "lmsys_10000"
          ],
          [
           "Layers 16-23, 50th",
           "lmsys_10000"
          ],
          [
           "Layers 16-23, 75th",
           "lmsys_10000"
          ],
          [
           "Layers 24-31, 1st",
           "lmsys_10000"
          ],
          [
           "Layers 24-31, 25th",
           "lmsys_10000"
          ],
          [
           "Layers 24-31, 50th",
           "lmsys_10000"
          ],
          [
           "Layers 24-31, 75th",
           "lmsys_10000"
          ],
          [
           "Layers 32-39, 1st",
           "lmsys_10000"
          ],
          [
           "Layers 32-39, 25th",
           "lmsys_10000"
          ],
          [
           "Layers 32-39, 50th",
           "lmsys_10000"
          ],
          [
           "Layers 32-39, 75th",
           "lmsys_10000"
          ],
          [
           "Layers 40-47, 1st",
           "lmsys_10000"
          ],
          [
           "Layers 40-47, 25th",
           "lmsys_10000"
          ],
          [
           "Layers 40-47, 50th",
           "lmsys_10000"
          ],
          [
           "Layers 40-47, 75th",
           "lmsys_10000"
          ],
          [
           "Layers 48-55, 1st",
           "lmsys_10000"
          ],
          [
           "Layers 48-55, 25th",
           "lmsys_10000"
          ],
          [
           "Layers 48-55, 50th",
           "lmsys_10000"
          ],
          [
           "Layers 48-55, 75th",
           "lmsys_10000"
          ],
          [
           "Layers 56-63, 1st",
           "lmsys_10000"
          ],
          [
           "Layers 56-63, 25th",
           "lmsys_10000"
          ],
          [
           "Layers 56-63, 50th",
           "lmsys_10000"
          ],
          [
           "Layers 56-63, 75th",
           "lmsys_10000"
          ]
         ],
         "hovertemplate": "%{customdata[0]}<br>Config: %{customdata[1]}<br>Value: %{y:.1%}<extra></extra>",
         "marker": {
          "color": [
           "#2ca02c",
           "#d62728",
           "#d62728",
           "#d62728",
           "#d62728",
           "#d62728",
           "#d62728",
           "#d62728",
           "#d62728",
           "#d62728",
           "#d62728",
           "#d62728",
           "#d62728",
           "#d62728",
           "#d62728",
           "#d62728",
           "#d62728",
           "#ff7f0e",
           "#ff7f0e",
           "#ff7f0e",
           "#ff7f0e",
           "#ff7f0e",
           "#ff7f0e",
           "#ff7f0e",
           "#ff7f0e",
           "#ff7f0e",
           "#ff7f0e",
           "#ff7f0e",
           "#ff7f0e",
           "#ff7f0e",
           "#ff7f0e",
           "#ff7f0e",
           "#ff7f0e",
           "#ff7f0e",
           "#ff7f0e",
           "#ff7f0e",
           "#ff7f0e",
           "#ff7f0e",
           "#ff7f0e",
           "#ff7f0e",
           "#ff7f0e",
           "#ff7f0e",
           "#ff7f0e",
           "#ff7f0e",
           "#ff7f0e",
           "#ff7f0e",
           "#ff7f0e",
           "#ff7f0e",
           "#ff7f0e",
           "#ff7f0e",
           "#ff7f0e",
           "#ff7f0e",
           "#ff7f0e",
           "#9467bd",
           "#9467bd",
           "#9467bd",
           "#9467bd",
           "#9467bd",
           "#9467bd",
           "#9467bd",
           "#9467bd",
           "#9467bd",
           "#9467bd",
           "#9467bd",
           "#9467bd",
           "#9467bd",
           "#9467bd",
           "#9467bd",
           "#9467bd",
           "#9467bd",
           "#9467bd",
           "#9467bd",
           "#9467bd",
           "#9467bd",
           "#9467bd",
           "#9467bd",
           "#9467bd",
           "#9467bd",
           "#9467bd",
           "#9467bd",
           "#9467bd",
           "#9467bd",
           "#9467bd",
           "#9467bd",
           "#9467bd",
           "#9467bd",
           "#9467bd",
           "#9467bd",
           "#9467bd"
          ]
         },
         "name": "Instruction-level Accuracy",
         "opacity": 0.8,
         "showlegend": false,
         "type": "bar",
         "width": 0.35,
         "x": [
          0,
          0.5,
          0.8999999999999999,
          1.2999999999999998,
          1.6999999999999997,
          2.1999999999999997,
          2.5999999999999996,
          2.9999999999999996,
          3.3999999999999995,
          3.8999999999999995,
          4.3,
          4.7,
          5.1000000000000005,
          5.6000000000000005,
          6.000000000000001,
          6.400000000000001,
          6.800000000000002,
          7.300000000000002,
          7.700000000000002,
          8.100000000000001,
          8.500000000000002,
          9.000000000000002,
          9.400000000000002,
          9.800000000000002,
          10.200000000000003,
          10.700000000000003,
          11.100000000000003,
          11.500000000000004,
          11.900000000000004,
          12.400000000000004,
          12.800000000000004,
          13.200000000000005,
          13.600000000000005,
          14.100000000000005,
          14.500000000000005,
          14.900000000000006,
          15.300000000000006,
          15.800000000000006,
          16.200000000000006,
          16.600000000000005,
          17.000000000000004,
          17.500000000000004,
          17.900000000000002,
          18.3,
          18.7,
          19.2,
          19.599999999999998,
          19.999999999999996,
          20.399999999999995,
          20.899999999999995,
          21.299999999999994,
          21.699999999999992,
          22.09999999999999,
          22.59999999999999,
          22.99999999999999,
          23.399999999999988,
          23.799999999999986,
          24.299999999999986,
          24.699999999999985,
          25.099999999999984,
          25.499999999999982,
          25.999999999999982,
          26.39999999999998,
          26.79999999999998,
          27.199999999999978,
          27.699999999999978,
          28.099999999999977,
          28.499999999999975,
          28.899999999999974,
          29.399999999999974,
          29.799999999999972,
          30.19999999999997,
          30.59999999999997,
          31.09999999999997,
          31.499999999999968,
          31.899999999999967,
          32.29999999999997,
          32.79999999999997,
          33.19999999999997,
          33.599999999999966,
          33.999999999999964,
          34.499999999999964,
          34.89999999999996,
          35.29999999999996,
          35.69999999999996,
          36.19999999999996,
          36.59999999999996,
          36.99999999999996,
          37.399999999999956
         ],
         "xaxis": "x2",
         "y": [
          0.6015523932729625,
          0.536869340232859,
          0.5614489003880984,
          0.5575679172056921,
          0.5549805950840879,
          0.6222509702457956,
          0.6274256144890039,
          0.6313065976714101,
          0.6326002587322122,
          0.6170763260025873,
          0.6222509702457956,
          0.6222509702457956,
          0.6209573091849935,
          0.5692108667529108,
          0.5679172056921087,
          0.5498059508408797,
          0.5549805950840879,
          0.5989650711513583,
          0.6274256144890039,
          0.6313065976714101,
          0.628719275549806,
          0.5976714100905562,
          0.6054333764553687,
          0.5950840879689522,
          0.5989650711513583,
          0.6067270375161707,
          0.610608020698577,
          0.6144890038809832,
          0.5989650711513583,
          0.6015523932729625,
          0.610608020698577,
          0.6131953428201811,
          0.6080206985769728,
          0.6131953428201811,
          0.6157826649417852,
          0.6093143596377749,
          0.6144890038809832,
          0.6157826649417852,
          0.6170763260025873,
          0.6222509702457956,
          0.6235446313065977,
          0.6041397153945667,
          0.6144890038809832,
          0.610608020698577,
          0.5989650711513583,
          0.6144890038809832,
          0.6028460543337646,
          0.6002587322121604,
          0.6157826649417852,
          0.6093143596377749,
          0.6248382923673997,
          0.6326002587322122,
          0.6351875808538163,
          0.47089262613195343,
          0.5252263906856404,
          0.5342820181112549,
          0.5601552393272963,
          0.6028460543337646,
          0.6041397153945667,
          0.5976714100905562,
          0.6015523932729625,
          0.6131953428201811,
          0.6131953428201811,
          0.6054333764553687,
          0.610608020698577,
          0.6054333764553687,
          0.6054333764553687,
          0.5989650711513583,
          0.6015523932729625,
          0.6209573091849935,
          0.6196636481241915,
          0.6119016817593791,
          0.6183699870633894,
          0.6131953428201811,
          0.6209573091849935,
          0.610608020698577,
          0.610608020698577,
          0.6131953428201811,
          0.6248382923673997,
          0.6093143596377749,
          0.6131953428201811,
          0.6002587322121604,
          0.6002587322121604,
          0.6002587322121604,
          0.6067270375161707,
          0.5510996119016818,
          0.5769728331177232,
          0.5899094437257438,
          0.5847347994825356
         ],
         "yaxis": "y2"
        },
        {
         "marker": {
          "color": "#2ca02c",
          "size": 10
         },
         "mode": "markers",
         "name": "Baseline",
         "showlegend": true,
         "type": "scatter",
         "x": [
          null
         ],
         "xaxis": "x",
         "y": [
          null
         ],
         "yaxis": "y"
        },
        {
         "marker": {
          "color": "#d62728",
          "size": 10
         },
         "mode": "markers",
         "name": "Jailbreak Rollouts",
         "showlegend": true,
         "type": "scatter",
         "x": [
          null
         ],
         "xaxis": "x",
         "y": [
          null
         ],
         "yaxis": "y"
        },
        {
         "marker": {
          "color": "#ff7f0e",
          "size": 10
         },
         "mode": "markers",
         "name": "Role/Trait Rollouts",
         "showlegend": true,
         "type": "scatter",
         "x": [
          null
         ],
         "xaxis": "x",
         "y": [
          null
         ],
         "yaxis": "y"
        },
        {
         "marker": {
          "color": "#9467bd",
          "size": 10
         },
         "mode": "markers",
         "name": "LMSYS-10K Rollouts",
         "showlegend": true,
         "type": "scatter",
         "x": [
          null
         ],
         "xaxis": "x",
         "y": [
          null
         ],
         "yaxis": "y"
        }
       ],
       "layout": {
        "annotations": [
         {
          "font": {
           "size": 16
          },
          "showarrow": false,
          "text": "Prompt-level Accuracy",
          "x": 0.5,
          "xanchor": "center",
          "xref": "paper",
          "y": 1,
          "yanchor": "bottom",
          "yref": "paper"
         },
         {
          "font": {
           "size": 16
          },
          "showarrow": false,
          "text": "Instruction-level Accuracy",
          "x": 0.5,
          "xanchor": "center",
          "xref": "paper",
          "y": 0.44,
          "yanchor": "bottom",
          "yref": "paper"
         },
         {
          "showarrow": false,
          "text": "<span style='font-size:10px'>Projection caps in each bar group<br>(L-R) strict to relaxed</span>",
          "x": 1,
          "xanchor": "right",
          "xref": "paper",
          "y": 1,
          "yanchor": "top",
          "yref": "paper"
         }
        ],
        "height": 900,
        "legend": {
         "orientation": "h",
         "x": 1,
         "xanchor": "right",
         "y": 1.08,
         "yanchor": "bottom"
        },
        "margin": {
         "b": 100,
         "t": 150
        },
        "shapes": [
         {
          "line": {
           "color": "green",
           "dash": "dot",
           "width": 1
          },
          "opacity": 0.8,
          "type": "line",
          "x0": 0,
          "x1": 1,
          "xref": "x domain",
          "y0": 0.468,
          "y1": 0.468,
          "yref": "y"
         },
         {
          "line": {
           "color": "green",
           "dash": "dot",
           "width": 1
          },
          "opacity": 0.8,
          "type": "line",
          "x0": 0,
          "x1": 1,
          "xref": "x2 domain",
          "y0": 0.6015523932729625,
          "y1": 0.6015523932729625,
          "yref": "y2"
         }
        ],
        "template": {
         "data": {
          "bar": [
           {
            "error_x": {
             "color": "#2a3f5f"
            },
            "error_y": {
             "color": "#2a3f5f"
            },
            "marker": {
             "line": {
              "color": "#E5ECF6",
              "width": 0.5
             },
             "pattern": {
              "fillmode": "overlay",
              "size": 10,
              "solidity": 0.2
             }
            },
            "type": "bar"
           }
          ],
          "barpolar": [
           {
            "marker": {
             "line": {
              "color": "#E5ECF6",
              "width": 0.5
             },
             "pattern": {
              "fillmode": "overlay",
              "size": 10,
              "solidity": 0.2
             }
            },
            "type": "barpolar"
           }
          ],
          "carpet": [
           {
            "aaxis": {
             "endlinecolor": "#2a3f5f",
             "gridcolor": "white",
             "linecolor": "white",
             "minorgridcolor": "white",
             "startlinecolor": "#2a3f5f"
            },
            "baxis": {
             "endlinecolor": "#2a3f5f",
             "gridcolor": "white",
             "linecolor": "white",
             "minorgridcolor": "white",
             "startlinecolor": "#2a3f5f"
            },
            "type": "carpet"
           }
          ],
          "choropleth": [
           {
            "colorbar": {
             "outlinewidth": 0,
             "ticks": ""
            },
            "type": "choropleth"
           }
          ],
          "contour": [
           {
            "colorbar": {
             "outlinewidth": 0,
             "ticks": ""
            },
            "colorscale": [
             [
              0,
              "#0d0887"
             ],
             [
              0.1111111111111111,
              "#46039f"
             ],
             [
              0.2222222222222222,
              "#7201a8"
             ],
             [
              0.3333333333333333,
              "#9c179e"
             ],
             [
              0.4444444444444444,
              "#bd3786"
             ],
             [
              0.5555555555555556,
              "#d8576b"
             ],
             [
              0.6666666666666666,
              "#ed7953"
             ],
             [
              0.7777777777777778,
              "#fb9f3a"
             ],
             [
              0.8888888888888888,
              "#fdca26"
             ],
             [
              1,
              "#f0f921"
             ]
            ],
            "type": "contour"
           }
          ],
          "contourcarpet": [
           {
            "colorbar": {
             "outlinewidth": 0,
             "ticks": ""
            },
            "type": "contourcarpet"
           }
          ],
          "heatmap": [
           {
            "colorbar": {
             "outlinewidth": 0,
             "ticks": ""
            },
            "colorscale": [
             [
              0,
              "#0d0887"
             ],
             [
              0.1111111111111111,
              "#46039f"
             ],
             [
              0.2222222222222222,
              "#7201a8"
             ],
             [
              0.3333333333333333,
              "#9c179e"
             ],
             [
              0.4444444444444444,
              "#bd3786"
             ],
             [
              0.5555555555555556,
              "#d8576b"
             ],
             [
              0.6666666666666666,
              "#ed7953"
             ],
             [
              0.7777777777777778,
              "#fb9f3a"
             ],
             [
              0.8888888888888888,
              "#fdca26"
             ],
             [
              1,
              "#f0f921"
             ]
            ],
            "type": "heatmap"
           }
          ],
          "heatmapgl": [
           {
            "colorbar": {
             "outlinewidth": 0,
             "ticks": ""
            },
            "colorscale": [
             [
              0,
              "#0d0887"
             ],
             [
              0.1111111111111111,
              "#46039f"
             ],
             [
              0.2222222222222222,
              "#7201a8"
             ],
             [
              0.3333333333333333,
              "#9c179e"
             ],
             [
              0.4444444444444444,
              "#bd3786"
             ],
             [
              0.5555555555555556,
              "#d8576b"
             ],
             [
              0.6666666666666666,
              "#ed7953"
             ],
             [
              0.7777777777777778,
              "#fb9f3a"
             ],
             [
              0.8888888888888888,
              "#fdca26"
             ],
             [
              1,
              "#f0f921"
             ]
            ],
            "type": "heatmapgl"
           }
          ],
          "histogram": [
           {
            "marker": {
             "pattern": {
              "fillmode": "overlay",
              "size": 10,
              "solidity": 0.2
             }
            },
            "type": "histogram"
           }
          ],
          "histogram2d": [
           {
            "colorbar": {
             "outlinewidth": 0,
             "ticks": ""
            },
            "colorscale": [
             [
              0,
              "#0d0887"
             ],
             [
              0.1111111111111111,
              "#46039f"
             ],
             [
              0.2222222222222222,
              "#7201a8"
             ],
             [
              0.3333333333333333,
              "#9c179e"
             ],
             [
              0.4444444444444444,
              "#bd3786"
             ],
             [
              0.5555555555555556,
              "#d8576b"
             ],
             [
              0.6666666666666666,
              "#ed7953"
             ],
             [
              0.7777777777777778,
              "#fb9f3a"
             ],
             [
              0.8888888888888888,
              "#fdca26"
             ],
             [
              1,
              "#f0f921"
             ]
            ],
            "type": "histogram2d"
           }
          ],
          "histogram2dcontour": [
           {
            "colorbar": {
             "outlinewidth": 0,
             "ticks": ""
            },
            "colorscale": [
             [
              0,
              "#0d0887"
             ],
             [
              0.1111111111111111,
              "#46039f"
             ],
             [
              0.2222222222222222,
              "#7201a8"
             ],
             [
              0.3333333333333333,
              "#9c179e"
             ],
             [
              0.4444444444444444,
              "#bd3786"
             ],
             [
              0.5555555555555556,
              "#d8576b"
             ],
             [
              0.6666666666666666,
              "#ed7953"
             ],
             [
              0.7777777777777778,
              "#fb9f3a"
             ],
             [
              0.8888888888888888,
              "#fdca26"
             ],
             [
              1,
              "#f0f921"
             ]
            ],
            "type": "histogram2dcontour"
           }
          ],
          "mesh3d": [
           {
            "colorbar": {
             "outlinewidth": 0,
             "ticks": ""
            },
            "type": "mesh3d"
           }
          ],
          "parcoords": [
           {
            "line": {
             "colorbar": {
              "outlinewidth": 0,
              "ticks": ""
             }
            },
            "type": "parcoords"
           }
          ],
          "pie": [
           {
            "automargin": true,
            "type": "pie"
           }
          ],
          "scatter": [
           {
            "fillpattern": {
             "fillmode": "overlay",
             "size": 10,
             "solidity": 0.2
            },
            "type": "scatter"
           }
          ],
          "scatter3d": [
           {
            "line": {
             "colorbar": {
              "outlinewidth": 0,
              "ticks": ""
             }
            },
            "marker": {
             "colorbar": {
              "outlinewidth": 0,
              "ticks": ""
             }
            },
            "type": "scatter3d"
           }
          ],
          "scattercarpet": [
           {
            "marker": {
             "colorbar": {
              "outlinewidth": 0,
              "ticks": ""
             }
            },
            "type": "scattercarpet"
           }
          ],
          "scattergeo": [
           {
            "marker": {
             "colorbar": {
              "outlinewidth": 0,
              "ticks": ""
             }
            },
            "type": "scattergeo"
           }
          ],
          "scattergl": [
           {
            "marker": {
             "colorbar": {
              "outlinewidth": 0,
              "ticks": ""
             }
            },
            "type": "scattergl"
           }
          ],
          "scattermapbox": [
           {
            "marker": {
             "colorbar": {
              "outlinewidth": 0,
              "ticks": ""
             }
            },
            "type": "scattermapbox"
           }
          ],
          "scatterpolar": [
           {
            "marker": {
             "colorbar": {
              "outlinewidth": 0,
              "ticks": ""
             }
            },
            "type": "scatterpolar"
           }
          ],
          "scatterpolargl": [
           {
            "marker": {
             "colorbar": {
              "outlinewidth": 0,
              "ticks": ""
             }
            },
            "type": "scatterpolargl"
           }
          ],
          "scatterternary": [
           {
            "marker": {
             "colorbar": {
              "outlinewidth": 0,
              "ticks": ""
             }
            },
            "type": "scatterternary"
           }
          ],
          "surface": [
           {
            "colorbar": {
             "outlinewidth": 0,
             "ticks": ""
            },
            "colorscale": [
             [
              0,
              "#0d0887"
             ],
             [
              0.1111111111111111,
              "#46039f"
             ],
             [
              0.2222222222222222,
              "#7201a8"
             ],
             [
              0.3333333333333333,
              "#9c179e"
             ],
             [
              0.4444444444444444,
              "#bd3786"
             ],
             [
              0.5555555555555556,
              "#d8576b"
             ],
             [
              0.6666666666666666,
              "#ed7953"
             ],
             [
              0.7777777777777778,
              "#fb9f3a"
             ],
             [
              0.8888888888888888,
              "#fdca26"
             ],
             [
              1,
              "#f0f921"
             ]
            ],
            "type": "surface"
           }
          ],
          "table": [
           {
            "cells": {
             "fill": {
              "color": "#EBF0F8"
             },
             "line": {
              "color": "white"
             }
            },
            "header": {
             "fill": {
              "color": "#C8D4E3"
             },
             "line": {
              "color": "white"
             }
            },
            "type": "table"
           }
          ]
         },
         "layout": {
          "annotationdefaults": {
           "arrowcolor": "#2a3f5f",
           "arrowhead": 0,
           "arrowwidth": 1
          },
          "autotypenumbers": "strict",
          "coloraxis": {
           "colorbar": {
            "outlinewidth": 0,
            "ticks": ""
           }
          },
          "colorscale": {
           "diverging": [
            [
             0,
             "#8e0152"
            ],
            [
             0.1,
             "#c51b7d"
            ],
            [
             0.2,
             "#de77ae"
            ],
            [
             0.3,
             "#f1b6da"
            ],
            [
             0.4,
             "#fde0ef"
            ],
            [
             0.5,
             "#f7f7f7"
            ],
            [
             0.6,
             "#e6f5d0"
            ],
            [
             0.7,
             "#b8e186"
            ],
            [
             0.8,
             "#7fbc41"
            ],
            [
             0.9,
             "#4d9221"
            ],
            [
             1,
             "#276419"
            ]
           ],
           "sequential": [
            [
             0,
             "#0d0887"
            ],
            [
             0.1111111111111111,
             "#46039f"
            ],
            [
             0.2222222222222222,
             "#7201a8"
            ],
            [
             0.3333333333333333,
             "#9c179e"
            ],
            [
             0.4444444444444444,
             "#bd3786"
            ],
            [
             0.5555555555555556,
             "#d8576b"
            ],
            [
             0.6666666666666666,
             "#ed7953"
            ],
            [
             0.7777777777777778,
             "#fb9f3a"
            ],
            [
             0.8888888888888888,
             "#fdca26"
            ],
            [
             1,
             "#f0f921"
            ]
           ],
           "sequentialminus": [
            [
             0,
             "#0d0887"
            ],
            [
             0.1111111111111111,
             "#46039f"
            ],
            [
             0.2222222222222222,
             "#7201a8"
            ],
            [
             0.3333333333333333,
             "#9c179e"
            ],
            [
             0.4444444444444444,
             "#bd3786"
            ],
            [
             0.5555555555555556,
             "#d8576b"
            ],
            [
             0.6666666666666666,
             "#ed7953"
            ],
            [
             0.7777777777777778,
             "#fb9f3a"
            ],
            [
             0.8888888888888888,
             "#fdca26"
            ],
            [
             1,
             "#f0f921"
            ]
           ]
          },
          "colorway": [
           "#636efa",
           "#EF553B",
           "#00cc96",
           "#ab63fa",
           "#FFA15A",
           "#19d3f3",
           "#FF6692",
           "#B6E880",
           "#FF97FF",
           "#FECB52"
          ],
          "font": {
           "color": "#2a3f5f"
          },
          "geo": {
           "bgcolor": "white",
           "lakecolor": "white",
           "landcolor": "#E5ECF6",
           "showlakes": true,
           "showland": true,
           "subunitcolor": "white"
          },
          "hoverlabel": {
           "align": "left"
          },
          "hovermode": "closest",
          "mapbox": {
           "style": "light"
          },
          "paper_bgcolor": "white",
          "plot_bgcolor": "#E5ECF6",
          "polar": {
           "angularaxis": {
            "gridcolor": "white",
            "linecolor": "white",
            "ticks": ""
           },
           "bgcolor": "#E5ECF6",
           "radialaxis": {
            "gridcolor": "white",
            "linecolor": "white",
            "ticks": ""
           }
          },
          "scene": {
           "xaxis": {
            "backgroundcolor": "#E5ECF6",
            "gridcolor": "white",
            "gridwidth": 2,
            "linecolor": "white",
            "showbackground": true,
            "ticks": "",
            "zerolinecolor": "white"
           },
           "yaxis": {
            "backgroundcolor": "#E5ECF6",
            "gridcolor": "white",
            "gridwidth": 2,
            "linecolor": "white",
            "showbackground": true,
            "ticks": "",
            "zerolinecolor": "white"
           },
           "zaxis": {
            "backgroundcolor": "#E5ECF6",
            "gridcolor": "white",
            "gridwidth": 2,
            "linecolor": "white",
            "showbackground": true,
            "ticks": "",
            "zerolinecolor": "white"
           }
          },
          "shapedefaults": {
           "line": {
            "color": "#2a3f5f"
           }
          },
          "ternary": {
           "aaxis": {
            "gridcolor": "white",
            "linecolor": "white",
            "ticks": ""
           },
           "baxis": {
            "gridcolor": "white",
            "linecolor": "white",
            "ticks": ""
           },
           "bgcolor": "#E5ECF6",
           "caxis": {
            "gridcolor": "white",
            "linecolor": "white",
            "ticks": ""
           }
          },
          "title": {
           "x": 0.05
          },
          "xaxis": {
           "automargin": true,
           "gridcolor": "white",
           "linecolor": "white",
           "ticks": "",
           "title": {
            "standoff": 15
           },
           "zerolinecolor": "white",
           "zerolinewidth": 2
          },
          "yaxis": {
           "automargin": true,
           "gridcolor": "white",
           "linecolor": "white",
           "ticks": "",
           "title": {
            "standoff": 15
           },
           "zerolinecolor": "white",
           "zerolinewidth": 2
          }
         }
        },
        "title": {
         "subtitle": {
          "text": "Qwen 3 32B, Single-Shot & No Thinking"
         },
         "text": "IFEval with Projection Capping"
        },
        "width": 1000,
        "xaxis": {
         "anchor": "y",
         "domain": [
          0,
          1
         ],
         "range": [
          -0.5,
          37.899999999999956
         ],
         "tickfont": {
          "size": 10
         },
         "tickmode": "array",
         "ticktext": [
          "Baseline",
          "All Layers (0-63)",
          "Every 2nd Layer",
          "Every 4th Layer",
          "Layers 32-63",
          "All Layers (0-63)",
          "Layers 0-15",
          "Layers 8-15",
          "Layers 16-23",
          "Layers 24-31",
          "Layers 32-39",
          "Layers 40-47",
          "Layers 48-55",
          "Layers 56-63",
          "All Layers (0-63)",
          "Layers 0-15",
          "Layers 8-15",
          "Layers 16-23",
          "Layers 24-31",
          "Layers 32-39",
          "Layers 40-47",
          "Layers 48-55",
          "Layers 56-63"
         ],
         "tickvals": [
          0,
          1.0999999999999999,
          2.8,
          4.5,
          6.200000000000001,
          7.900000000000002,
          9.600000000000001,
          11.300000000000004,
          13.000000000000004,
          14.700000000000006,
          16.400000000000006,
          18.1,
          19.799999999999997,
          21.499999999999993,
          23.19999999999999,
          24.899999999999984,
          26.59999999999998,
          28.299999999999976,
          29.99999999999997,
          31.699999999999967,
          33.39999999999996,
          35.099999999999966,
          36.799999999999955
         ]
        },
        "xaxis2": {
         "anchor": "y2",
         "domain": [
          0,
          1
         ],
         "range": [
          -0.5,
          37.899999999999956
         ],
         "tickfont": {
          "size": 10
         },
         "tickmode": "array",
         "ticktext": [
          "Baseline",
          "All Layers (0-63)",
          "Every 2nd Layer",
          "Every 4th Layer",
          "Layers 32-63",
          "All Layers (0-63)",
          "Layers 0-15",
          "Layers 8-15",
          "Layers 16-23",
          "Layers 24-31",
          "Layers 32-39",
          "Layers 40-47",
          "Layers 48-55",
          "Layers 56-63",
          "All Layers (0-63)",
          "Layers 0-15",
          "Layers 8-15",
          "Layers 16-23",
          "Layers 24-31",
          "Layers 32-39",
          "Layers 40-47",
          "Layers 48-55",
          "Layers 56-63"
         ],
         "tickvals": [
          0,
          1.0999999999999999,
          2.8,
          4.5,
          6.200000000000001,
          7.900000000000002,
          9.600000000000001,
          11.300000000000004,
          13.000000000000004,
          14.700000000000006,
          16.400000000000006,
          18.1,
          19.799999999999997,
          21.499999999999993,
          23.19999999999999,
          24.899999999999984,
          26.59999999999998,
          28.299999999999976,
          29.99999999999997,
          31.699999999999967,
          33.39999999999996,
          35.099999999999966,
          36.799999999999955
         ],
         "title": {
          "text": "Intervention Layers"
         }
        },
        "yaxis": {
         "anchor": "x",
         "domain": [
          0.56,
          1
         ],
         "range": [
          0,
          0.8
         ],
         "tickfont": {
          "size": 10
         },
         "title": {
          "text": "Score"
         }
        },
        "yaxis2": {
         "anchor": "x2",
         "domain": [
          0,
          0.44
         ],
         "range": [
          0,
          0.8
         ],
         "tickfont": {
          "size": 10
         },
         "title": {
          "text": "Score"
         }
        }
       }
      },
      "text/html": [
       "<div>                            <div id=\"24f1c91d-39f6-4a10-b11d-2667a687a83c\" class=\"plotly-graph-div\" style=\"height:900px; width:1000px;\"></div>            <script type=\"text/javascript\">                require([\"plotly\"], function(Plotly) {                    window.PLOTLYENV=window.PLOTLYENV || {};                                    if (document.getElementById(\"24f1c91d-39f6-4a10-b11d-2667a687a83c\")) {                    Plotly.newPlot(                        \"24f1c91d-39f6-4a10-b11d-2667a687a83c\",                        [{\"customdata\":[[\"Baseline\",\"baseline\"],[\"All Layers (0-63), Safe 99th\",\"jailbreak\"],[\"All Layers (0-63), Safe 50th\",\"jailbreak\"],[\"All Layers (0-63), Harm 99th\",\"jailbreak\"],[\"All Layers (0-63), Harm 75th\",\"jailbreak\"],[\"Every 2nd Layer, Safe 99th\",\"jailbreak\"],[\"Every 2nd Layer, Safe 50th\",\"jailbreak\"],[\"Every 2nd Layer, Harm 99th\",\"jailbreak\"],[\"Every 2nd Layer, Harm 75th\",\"jailbreak\"],[\"Every 4th Layer, Safe 99th\",\"jailbreak\"],[\"Every 4th Layer, Safe 50th\",\"jailbreak\"],[\"Every 4th Layer, Harm 99th\",\"jailbreak\"],[\"Every 4th Layer, Harm 75th\",\"jailbreak\"],[\"Layers 32-63, Safe 99th\",\"jailbreak\"],[\"Layers 32-63, Safe 50th\",\"jailbreak\"],[\"Layers 32-63, Harm 99th\",\"jailbreak\"],[\"Layers 32-63, Harm 75th\",\"jailbreak\"],[\"All Layers (0-63), 1st\",\"role_trait\"],[\"All Layers (0-63), 25th\",\"role_trait\"],[\"All Layers (0-63), 50th\",\"role_trait\"],[\"All Layers (0-63), 75th\",\"role_trait\"],[\"Layers 0-15, 1st\",\"role_trait\"],[\"Layers 0-15, 25th\",\"role_trait\"],[\"Layers 0-15, 50th\",\"role_trait\"],[\"Layers 0-15, 75th\",\"role_trait\"],[\"Layers 8-15, 1st\",\"role_trait\"],[\"Layers 8-15, 25th\",\"role_trait\"],[\"Layers 8-15, 50th\",\"role_trait\"],[\"Layers 8-15, 75th\",\"role_trait\"],[\"Layers 16-23, 1st\",\"role_trait\"],[\"Layers 16-23, 25th\",\"role_trait\"],[\"Layers 16-23, 50th\",\"role_trait\"],[\"Layers 16-23, 75th\",\"role_trait\"],[\"Layers 24-31, 1st\",\"role_trait\"],[\"Layers 24-31, 25th\",\"role_trait\"],[\"Layers 24-31, 50th\",\"role_trait\"],[\"Layers 24-31, 75th\",\"role_trait\"],[\"Layers 32-39, 1st\",\"role_trait\"],[\"Layers 32-39, 25th\",\"role_trait\"],[\"Layers 32-39, 50th\",\"role_trait\"],[\"Layers 32-39, 75th\",\"role_trait\"],[\"Layers 40-47, 1st\",\"role_trait\"],[\"Layers 40-47, 25th\",\"role_trait\"],[\"Layers 40-47, 50th\",\"role_trait\"],[\"Layers 40-47, 75th\",\"role_trait\"],[\"Layers 48-55, 1st\",\"role_trait\"],[\"Layers 48-55, 25th\",\"role_trait\"],[\"Layers 48-55, 50th\",\"role_trait\"],[\"Layers 48-55, 75th\",\"role_trait\"],[\"Layers 56-63, 1st\",\"role_trait\"],[\"Layers 56-63, 25th\",\"role_trait\"],[\"Layers 56-63, 50th\",\"role_trait\"],[\"Layers 56-63, 75th\",\"role_trait\"],[\"All Layers (0-63), 1st\",\"lmsys_10000\"],[\"All Layers (0-63), 25th\",\"lmsys_10000\"],[\"All Layers (0-63), 50th\",\"lmsys_10000\"],[\"All Layers (0-63), 75th\",\"lmsys_10000\"],[\"Layers 0-15, 1st\",\"lmsys_10000\"],[\"Layers 0-15, 25th\",\"lmsys_10000\"],[\"Layers 0-15, 50th\",\"lmsys_10000\"],[\"Layers 0-15, 75th\",\"lmsys_10000\"],[\"Layers 8-15, 1st\",\"lmsys_10000\"],[\"Layers 8-15, 25th\",\"lmsys_10000\"],[\"Layers 8-15, 50th\",\"lmsys_10000\"],[\"Layers 8-15, 75th\",\"lmsys_10000\"],[\"Layers 16-23, 1st\",\"lmsys_10000\"],[\"Layers 16-23, 25th\",\"lmsys_10000\"],[\"Layers 16-23, 50th\",\"lmsys_10000\"],[\"Layers 16-23, 75th\",\"lmsys_10000\"],[\"Layers 24-31, 1st\",\"lmsys_10000\"],[\"Layers 24-31, 25th\",\"lmsys_10000\"],[\"Layers 24-31, 50th\",\"lmsys_10000\"],[\"Layers 24-31, 75th\",\"lmsys_10000\"],[\"Layers 32-39, 1st\",\"lmsys_10000\"],[\"Layers 32-39, 25th\",\"lmsys_10000\"],[\"Layers 32-39, 50th\",\"lmsys_10000\"],[\"Layers 32-39, 75th\",\"lmsys_10000\"],[\"Layers 40-47, 1st\",\"lmsys_10000\"],[\"Layers 40-47, 25th\",\"lmsys_10000\"],[\"Layers 40-47, 50th\",\"lmsys_10000\"],[\"Layers 40-47, 75th\",\"lmsys_10000\"],[\"Layers 48-55, 1st\",\"lmsys_10000\"],[\"Layers 48-55, 25th\",\"lmsys_10000\"],[\"Layers 48-55, 50th\",\"lmsys_10000\"],[\"Layers 48-55, 75th\",\"lmsys_10000\"],[\"Layers 56-63, 1st\",\"lmsys_10000\"],[\"Layers 56-63, 25th\",\"lmsys_10000\"],[\"Layers 56-63, 50th\",\"lmsys_10000\"],[\"Layers 56-63, 75th\",\"lmsys_10000\"]],\"error_y\":{\"array\":[0.022337186479044296,0.02187429930168918,0.02209471322976179,0.02206494331392886,0.022149790663861947,0.022374298166353144,0.022383074051792257,0.022382894986483586,0.022380208834928014,0.022380208834928014,0.022382894986483586,0.022382357781962105,0.022382357781962105,0.02216263442665287,0.022198954641476896,0.021966635293832883,0.02201748257812769,0.022331264423258324,0.022382894986483586,0.022376626797927058,0.022382357781962105,0.022352791650914174,0.02236139673920787,0.022318338119870523,0.022352791650914174,0.022357273881016475,0.022371610982580396,0.022371610982580396,0.022347949832668024,0.022352791650914174,0.022374298166353144,0.022374298166353144,0.02236139673920787,0.02236139673920787,0.022374298166353144,0.022371610982580396,0.022374298166353144,0.022378596989230864,0.022382357781962105,0.022382357781962105,0.022382894986483586,0.022371610982580396,0.022371610982580396,0.022368565117387874,0.022347949832668024,0.022374298166353144,0.022347949832668024,0.022352791650914174,0.022378596989230864,0.0223427481925028,0.022381462412439424,0.022381462412439424,0.022378596989230864,0.02104961216613478,0.021660710347204473,0.021893529941665716,0.022136577335085575,0.022357273881016475,0.022337186479044296,0.022324981738385333,0.022352791650914174,0.022374298166353144,0.022378596989230864,0.022347949832668024,0.022368565117387874,0.022368565117387874,0.022357273881016475,0.022318338119870523,0.022337186479044296,0.022382357781962105,0.022380208834928014,0.022371610982580396,0.022374298166353144,0.022374298166353144,0.022383074051792257,0.022378596989230864,0.022376626797927058,0.022380208834928014,0.022382894986483586,0.022365160424231326,0.022380208834928014,0.022357273881016475,0.022352791650914174,0.022347949832668024,0.022352791650914174,0.021948929609938706,0.022242244375731048,0.022261697292270087,0.022261697292270087],\"thickness\":0.5,\"type\":\"data\",\"visible\":true},\"hovertemplate\":\"%{customdata[0]}\\u003cbr\\u003eConfig: %{customdata[1]}\\u003cbr\\u003eValue: %{y:.1%}\\u003cextra\\u003e\\u003c\\u002fextra\\u003e\",\"marker\":{\"color\":[\"#2ca02c\",\"#d62728\",\"#d62728\",\"#d62728\",\"#d62728\",\"#d62728\",\"#d62728\",\"#d62728\",\"#d62728\",\"#d62728\",\"#d62728\",\"#d62728\",\"#d62728\",\"#d62728\",\"#d62728\",\"#d62728\",\"#d62728\",\"#ff7f0e\",\"#ff7f0e\",\"#ff7f0e\",\"#ff7f0e\",\"#ff7f0e\",\"#ff7f0e\",\"#ff7f0e\",\"#ff7f0e\",\"#ff7f0e\",\"#ff7f0e\",\"#ff7f0e\",\"#ff7f0e\",\"#ff7f0e\",\"#ff7f0e\",\"#ff7f0e\",\"#ff7f0e\",\"#ff7f0e\",\"#ff7f0e\",\"#ff7f0e\",\"#ff7f0e\",\"#ff7f0e\",\"#ff7f0e\",\"#ff7f0e\",\"#ff7f0e\",\"#ff7f0e\",\"#ff7f0e\",\"#ff7f0e\",\"#ff7f0e\",\"#ff7f0e\",\"#ff7f0e\",\"#ff7f0e\",\"#ff7f0e\",\"#ff7f0e\",\"#ff7f0e\",\"#ff7f0e\",\"#ff7f0e\",\"#9467bd\",\"#9467bd\",\"#9467bd\",\"#9467bd\",\"#9467bd\",\"#9467bd\",\"#9467bd\",\"#9467bd\",\"#9467bd\",\"#9467bd\",\"#9467bd\",\"#9467bd\",\"#9467bd\",\"#9467bd\",\"#9467bd\",\"#9467bd\",\"#9467bd\",\"#9467bd\",\"#9467bd\",\"#9467bd\",\"#9467bd\",\"#9467bd\",\"#9467bd\",\"#9467bd\",\"#9467bd\",\"#9467bd\",\"#9467bd\",\"#9467bd\",\"#9467bd\",\"#9467bd\",\"#9467bd\",\"#9467bd\",\"#9467bd\",\"#9467bd\",\"#9467bd\",\"#9467bd\"]},\"name\":\"Prompt-level Accuracy\",\"opacity\":0.8,\"showlegend\":false,\"width\":0.35,\"x\":[0.0,0.5,0.8999999999999999,1.2999999999999998,1.6999999999999997,2.1999999999999997,2.5999999999999996,2.9999999999999996,3.3999999999999995,3.8999999999999995,4.3,4.7,5.1000000000000005,5.6000000000000005,6.000000000000001,6.400000000000001,6.800000000000002,7.300000000000002,7.700000000000002,8.100000000000001,8.500000000000002,9.000000000000002,9.400000000000002,9.800000000000002,10.200000000000003,10.700000000000003,11.100000000000003,11.500000000000004,11.900000000000004,12.400000000000004,12.800000000000004,13.200000000000005,13.600000000000005,14.100000000000005,14.500000000000005,14.900000000000006,15.300000000000006,15.800000000000006,16.200000000000006,16.600000000000005,17.000000000000004,17.500000000000004,17.900000000000002,18.3,18.7,19.2,19.599999999999998,19.999999999999996,20.399999999999995,20.899999999999995,21.299999999999994,21.699999999999992,22.09999999999999,22.59999999999999,22.99999999999999,23.399999999999988,23.799999999999986,24.299999999999986,24.699999999999985,25.099999999999984,25.499999999999982,25.999999999999982,26.39999999999998,26.79999999999998,27.199999999999978,27.699999999999978,28.099999999999977,28.499999999999975,28.899999999999974,29.399999999999974,29.799999999999972,30.19999999999997,30.59999999999997,31.09999999999997,31.499999999999968,31.899999999999967,32.29999999999997,32.79999999999997,33.19999999999997,33.599999999999966,33.999999999999964,34.499999999999964,34.89999999999996,35.29999999999996,35.69999999999996,36.19999999999996,36.59999999999996,36.99999999999996,37.399999999999956],\"y\":[0.468,0.394,0.42,0.416,0.428,0.486,0.5,0.502,0.508,0.492,0.502,0.496,0.504,0.43,0.436,0.404,0.41,0.466,0.502,0.512,0.504,0.474,0.478,0.462,0.474,0.476,0.484,0.484,0.472,0.474,0.486,0.486,0.478,0.478,0.486,0.484,0.486,0.49,0.496,0.504,0.498,0.484,0.484,0.482,0.472,0.486,0.472,0.474,0.49,0.47,0.494,0.506,0.51,0.33,0.374,0.396,0.426,0.476,0.468,0.464,0.474,0.486,0.49,0.472,0.482,0.482,0.476,0.462,0.468,0.496,0.492,0.484,0.486,0.486,0.5,0.49,0.488,0.492,0.498,0.48,0.492,0.476,0.474,0.472,0.474,0.402,0.444,0.448,0.448],\"type\":\"bar\",\"xaxis\":\"x\",\"yaxis\":\"y\"},{\"customdata\":[[\"Baseline\",\"baseline\"],[\"All Layers (0-63), Safe 99th\",\"jailbreak\"],[\"All Layers (0-63), Safe 50th\",\"jailbreak\"],[\"All Layers (0-63), Harm 99th\",\"jailbreak\"],[\"All Layers (0-63), Harm 75th\",\"jailbreak\"],[\"Every 2nd Layer, Safe 99th\",\"jailbreak\"],[\"Every 2nd Layer, Safe 50th\",\"jailbreak\"],[\"Every 2nd Layer, Harm 99th\",\"jailbreak\"],[\"Every 2nd Layer, Harm 75th\",\"jailbreak\"],[\"Every 4th Layer, Safe 99th\",\"jailbreak\"],[\"Every 4th Layer, Safe 50th\",\"jailbreak\"],[\"Every 4th Layer, Harm 99th\",\"jailbreak\"],[\"Every 4th Layer, Harm 75th\",\"jailbreak\"],[\"Layers 32-63, Safe 99th\",\"jailbreak\"],[\"Layers 32-63, Safe 50th\",\"jailbreak\"],[\"Layers 32-63, Harm 99th\",\"jailbreak\"],[\"Layers 32-63, Harm 75th\",\"jailbreak\"],[\"All Layers (0-63), 1st\",\"role_trait\"],[\"All Layers (0-63), 25th\",\"role_trait\"],[\"All Layers (0-63), 50th\",\"role_trait\"],[\"All Layers (0-63), 75th\",\"role_trait\"],[\"Layers 0-15, 1st\",\"role_trait\"],[\"Layers 0-15, 25th\",\"role_trait\"],[\"Layers 0-15, 50th\",\"role_trait\"],[\"Layers 0-15, 75th\",\"role_trait\"],[\"Layers 8-15, 1st\",\"role_trait\"],[\"Layers 8-15, 25th\",\"role_trait\"],[\"Layers 8-15, 50th\",\"role_trait\"],[\"Layers 8-15, 75th\",\"role_trait\"],[\"Layers 16-23, 1st\",\"role_trait\"],[\"Layers 16-23, 25th\",\"role_trait\"],[\"Layers 16-23, 50th\",\"role_trait\"],[\"Layers 16-23, 75th\",\"role_trait\"],[\"Layers 24-31, 1st\",\"role_trait\"],[\"Layers 24-31, 25th\",\"role_trait\"],[\"Layers 24-31, 50th\",\"role_trait\"],[\"Layers 24-31, 75th\",\"role_trait\"],[\"Layers 32-39, 1st\",\"role_trait\"],[\"Layers 32-39, 25th\",\"role_trait\"],[\"Layers 32-39, 50th\",\"role_trait\"],[\"Layers 32-39, 75th\",\"role_trait\"],[\"Layers 40-47, 1st\",\"role_trait\"],[\"Layers 40-47, 25th\",\"role_trait\"],[\"Layers 40-47, 50th\",\"role_trait\"],[\"Layers 40-47, 75th\",\"role_trait\"],[\"Layers 48-55, 1st\",\"role_trait\"],[\"Layers 48-55, 25th\",\"role_trait\"],[\"Layers 48-55, 50th\",\"role_trait\"],[\"Layers 48-55, 75th\",\"role_trait\"],[\"Layers 56-63, 1st\",\"role_trait\"],[\"Layers 56-63, 25th\",\"role_trait\"],[\"Layers 56-63, 50th\",\"role_trait\"],[\"Layers 56-63, 75th\",\"role_trait\"],[\"All Layers (0-63), 1st\",\"lmsys_10000\"],[\"All Layers (0-63), 25th\",\"lmsys_10000\"],[\"All Layers (0-63), 50th\",\"lmsys_10000\"],[\"All Layers (0-63), 75th\",\"lmsys_10000\"],[\"Layers 0-15, 1st\",\"lmsys_10000\"],[\"Layers 0-15, 25th\",\"lmsys_10000\"],[\"Layers 0-15, 50th\",\"lmsys_10000\"],[\"Layers 0-15, 75th\",\"lmsys_10000\"],[\"Layers 8-15, 1st\",\"lmsys_10000\"],[\"Layers 8-15, 25th\",\"lmsys_10000\"],[\"Layers 8-15, 50th\",\"lmsys_10000\"],[\"Layers 8-15, 75th\",\"lmsys_10000\"],[\"Layers 16-23, 1st\",\"lmsys_10000\"],[\"Layers 16-23, 25th\",\"lmsys_10000\"],[\"Layers 16-23, 50th\",\"lmsys_10000\"],[\"Layers 16-23, 75th\",\"lmsys_10000\"],[\"Layers 24-31, 1st\",\"lmsys_10000\"],[\"Layers 24-31, 25th\",\"lmsys_10000\"],[\"Layers 24-31, 50th\",\"lmsys_10000\"],[\"Layers 24-31, 75th\",\"lmsys_10000\"],[\"Layers 32-39, 1st\",\"lmsys_10000\"],[\"Layers 32-39, 25th\",\"lmsys_10000\"],[\"Layers 32-39, 50th\",\"lmsys_10000\"],[\"Layers 32-39, 75th\",\"lmsys_10000\"],[\"Layers 40-47, 1st\",\"lmsys_10000\"],[\"Layers 40-47, 25th\",\"lmsys_10000\"],[\"Layers 40-47, 50th\",\"lmsys_10000\"],[\"Layers 40-47, 75th\",\"lmsys_10000\"],[\"Layers 48-55, 1st\",\"lmsys_10000\"],[\"Layers 48-55, 25th\",\"lmsys_10000\"],[\"Layers 48-55, 50th\",\"lmsys_10000\"],[\"Layers 48-55, 75th\",\"lmsys_10000\"],[\"Layers 56-63, 1st\",\"lmsys_10000\"],[\"Layers 56-63, 25th\",\"lmsys_10000\"],[\"Layers 56-63, 50th\",\"lmsys_10000\"],[\"Layers 56-63, 75th\",\"lmsys_10000\"]],\"hovertemplate\":\"%{customdata[0]}\\u003cbr\\u003eConfig: %{customdata[1]}\\u003cbr\\u003eValue: %{y:.1%}\\u003cextra\\u003e\\u003c\\u002fextra\\u003e\",\"marker\":{\"color\":[\"#2ca02c\",\"#d62728\",\"#d62728\",\"#d62728\",\"#d62728\",\"#d62728\",\"#d62728\",\"#d62728\",\"#d62728\",\"#d62728\",\"#d62728\",\"#d62728\",\"#d62728\",\"#d62728\",\"#d62728\",\"#d62728\",\"#d62728\",\"#ff7f0e\",\"#ff7f0e\",\"#ff7f0e\",\"#ff7f0e\",\"#ff7f0e\",\"#ff7f0e\",\"#ff7f0e\",\"#ff7f0e\",\"#ff7f0e\",\"#ff7f0e\",\"#ff7f0e\",\"#ff7f0e\",\"#ff7f0e\",\"#ff7f0e\",\"#ff7f0e\",\"#ff7f0e\",\"#ff7f0e\",\"#ff7f0e\",\"#ff7f0e\",\"#ff7f0e\",\"#ff7f0e\",\"#ff7f0e\",\"#ff7f0e\",\"#ff7f0e\",\"#ff7f0e\",\"#ff7f0e\",\"#ff7f0e\",\"#ff7f0e\",\"#ff7f0e\",\"#ff7f0e\",\"#ff7f0e\",\"#ff7f0e\",\"#ff7f0e\",\"#ff7f0e\",\"#ff7f0e\",\"#ff7f0e\",\"#9467bd\",\"#9467bd\",\"#9467bd\",\"#9467bd\",\"#9467bd\",\"#9467bd\",\"#9467bd\",\"#9467bd\",\"#9467bd\",\"#9467bd\",\"#9467bd\",\"#9467bd\",\"#9467bd\",\"#9467bd\",\"#9467bd\",\"#9467bd\",\"#9467bd\",\"#9467bd\",\"#9467bd\",\"#9467bd\",\"#9467bd\",\"#9467bd\",\"#9467bd\",\"#9467bd\",\"#9467bd\",\"#9467bd\",\"#9467bd\",\"#9467bd\",\"#9467bd\",\"#9467bd\",\"#9467bd\",\"#9467bd\",\"#9467bd\",\"#9467bd\",\"#9467bd\",\"#9467bd\"]},\"name\":\"Instruction-level Accuracy\",\"opacity\":0.8,\"showlegend\":false,\"width\":0.35,\"x\":[0.0,0.5,0.8999999999999999,1.2999999999999998,1.6999999999999997,2.1999999999999997,2.5999999999999996,2.9999999999999996,3.3999999999999995,3.8999999999999995,4.3,4.7,5.1000000000000005,5.6000000000000005,6.000000000000001,6.400000000000001,6.800000000000002,7.300000000000002,7.700000000000002,8.100000000000001,8.500000000000002,9.000000000000002,9.400000000000002,9.800000000000002,10.200000000000003,10.700000000000003,11.100000000000003,11.500000000000004,11.900000000000004,12.400000000000004,12.800000000000004,13.200000000000005,13.600000000000005,14.100000000000005,14.500000000000005,14.900000000000006,15.300000000000006,15.800000000000006,16.200000000000006,16.600000000000005,17.000000000000004,17.500000000000004,17.900000000000002,18.3,18.7,19.2,19.599999999999998,19.999999999999996,20.399999999999995,20.899999999999995,21.299999999999994,21.699999999999992,22.09999999999999,22.59999999999999,22.99999999999999,23.399999999999988,23.799999999999986,24.299999999999986,24.699999999999985,25.099999999999984,25.499999999999982,25.999999999999982,26.39999999999998,26.79999999999998,27.199999999999978,27.699999999999978,28.099999999999977,28.499999999999975,28.899999999999974,29.399999999999974,29.799999999999972,30.19999999999997,30.59999999999997,31.09999999999997,31.499999999999968,31.899999999999967,32.29999999999997,32.79999999999997,33.19999999999997,33.599999999999966,33.999999999999964,34.499999999999964,34.89999999999996,35.29999999999996,35.69999999999996,36.19999999999996,36.59999999999996,36.99999999999996,37.399999999999956],\"y\":[0.6015523932729625,0.536869340232859,0.5614489003880984,0.5575679172056921,0.5549805950840879,0.6222509702457956,0.6274256144890039,0.6313065976714101,0.6326002587322122,0.6170763260025873,0.6222509702457956,0.6222509702457956,0.6209573091849935,0.5692108667529108,0.5679172056921087,0.5498059508408797,0.5549805950840879,0.5989650711513583,0.6274256144890039,0.6313065976714101,0.628719275549806,0.5976714100905562,0.6054333764553687,0.5950840879689522,0.5989650711513583,0.6067270375161707,0.610608020698577,0.6144890038809832,0.5989650711513583,0.6015523932729625,0.610608020698577,0.6131953428201811,0.6080206985769728,0.6131953428201811,0.6157826649417852,0.6093143596377749,0.6144890038809832,0.6157826649417852,0.6170763260025873,0.6222509702457956,0.6235446313065977,0.6041397153945667,0.6144890038809832,0.610608020698577,0.5989650711513583,0.6144890038809832,0.6028460543337646,0.6002587322121604,0.6157826649417852,0.6093143596377749,0.6248382923673997,0.6326002587322122,0.6351875808538163,0.47089262613195343,0.5252263906856404,0.5342820181112549,0.5601552393272963,0.6028460543337646,0.6041397153945667,0.5976714100905562,0.6015523932729625,0.6131953428201811,0.6131953428201811,0.6054333764553687,0.610608020698577,0.6054333764553687,0.6054333764553687,0.5989650711513583,0.6015523932729625,0.6209573091849935,0.6196636481241915,0.6119016817593791,0.6183699870633894,0.6131953428201811,0.6209573091849935,0.610608020698577,0.610608020698577,0.6131953428201811,0.6248382923673997,0.6093143596377749,0.6131953428201811,0.6002587322121604,0.6002587322121604,0.6002587322121604,0.6067270375161707,0.5510996119016818,0.5769728331177232,0.5899094437257438,0.5847347994825356],\"type\":\"bar\",\"xaxis\":\"x2\",\"yaxis\":\"y2\"},{\"marker\":{\"color\":\"#2ca02c\",\"size\":10},\"mode\":\"markers\",\"name\":\"Baseline\",\"showlegend\":true,\"x\":[null],\"y\":[null],\"type\":\"scatter\",\"xaxis\":\"x\",\"yaxis\":\"y\"},{\"marker\":{\"color\":\"#d62728\",\"size\":10},\"mode\":\"markers\",\"name\":\"Jailbreak Rollouts\",\"showlegend\":true,\"x\":[null],\"y\":[null],\"type\":\"scatter\",\"xaxis\":\"x\",\"yaxis\":\"y\"},{\"marker\":{\"color\":\"#ff7f0e\",\"size\":10},\"mode\":\"markers\",\"name\":\"Role\\u002fTrait Rollouts\",\"showlegend\":true,\"x\":[null],\"y\":[null],\"type\":\"scatter\",\"xaxis\":\"x\",\"yaxis\":\"y\"},{\"marker\":{\"color\":\"#9467bd\",\"size\":10},\"mode\":\"markers\",\"name\":\"LMSYS-10K Rollouts\",\"showlegend\":true,\"x\":[null],\"y\":[null],\"type\":\"scatter\",\"xaxis\":\"x\",\"yaxis\":\"y\"}],                        {\"template\":{\"data\":{\"histogram2dcontour\":[{\"type\":\"histogram2dcontour\",\"colorbar\":{\"outlinewidth\":0,\"ticks\":\"\"},\"colorscale\":[[0.0,\"#0d0887\"],[0.1111111111111111,\"#46039f\"],[0.2222222222222222,\"#7201a8\"],[0.3333333333333333,\"#9c179e\"],[0.4444444444444444,\"#bd3786\"],[0.5555555555555556,\"#d8576b\"],[0.6666666666666666,\"#ed7953\"],[0.7777777777777778,\"#fb9f3a\"],[0.8888888888888888,\"#fdca26\"],[1.0,\"#f0f921\"]]}],\"choropleth\":[{\"type\":\"choropleth\",\"colorbar\":{\"outlinewidth\":0,\"ticks\":\"\"}}],\"histogram2d\":[{\"type\":\"histogram2d\",\"colorbar\":{\"outlinewidth\":0,\"ticks\":\"\"},\"colorscale\":[[0.0,\"#0d0887\"],[0.1111111111111111,\"#46039f\"],[0.2222222222222222,\"#7201a8\"],[0.3333333333333333,\"#9c179e\"],[0.4444444444444444,\"#bd3786\"],[0.5555555555555556,\"#d8576b\"],[0.6666666666666666,\"#ed7953\"],[0.7777777777777778,\"#fb9f3a\"],[0.8888888888888888,\"#fdca26\"],[1.0,\"#f0f921\"]]}],\"heatmap\":[{\"type\":\"heatmap\",\"colorbar\":{\"outlinewidth\":0,\"ticks\":\"\"},\"colorscale\":[[0.0,\"#0d0887\"],[0.1111111111111111,\"#46039f\"],[0.2222222222222222,\"#7201a8\"],[0.3333333333333333,\"#9c179e\"],[0.4444444444444444,\"#bd3786\"],[0.5555555555555556,\"#d8576b\"],[0.6666666666666666,\"#ed7953\"],[0.7777777777777778,\"#fb9f3a\"],[0.8888888888888888,\"#fdca26\"],[1.0,\"#f0f921\"]]}],\"heatmapgl\":[{\"type\":\"heatmapgl\",\"colorbar\":{\"outlinewidth\":0,\"ticks\":\"\"},\"colorscale\":[[0.0,\"#0d0887\"],[0.1111111111111111,\"#46039f\"],[0.2222222222222222,\"#7201a8\"],[0.3333333333333333,\"#9c179e\"],[0.4444444444444444,\"#bd3786\"],[0.5555555555555556,\"#d8576b\"],[0.6666666666666666,\"#ed7953\"],[0.7777777777777778,\"#fb9f3a\"],[0.8888888888888888,\"#fdca26\"],[1.0,\"#f0f921\"]]}],\"contourcarpet\":[{\"type\":\"contourcarpet\",\"colorbar\":{\"outlinewidth\":0,\"ticks\":\"\"}}],\"contour\":[{\"type\":\"contour\",\"colorbar\":{\"outlinewidth\":0,\"ticks\":\"\"},\"colorscale\":[[0.0,\"#0d0887\"],[0.1111111111111111,\"#46039f\"],[0.2222222222222222,\"#7201a8\"],[0.3333333333333333,\"#9c179e\"],[0.4444444444444444,\"#bd3786\"],[0.5555555555555556,\"#d8576b\"],[0.6666666666666666,\"#ed7953\"],[0.7777777777777778,\"#fb9f3a\"],[0.8888888888888888,\"#fdca26\"],[1.0,\"#f0f921\"]]}],\"surface\":[{\"type\":\"surface\",\"colorbar\":{\"outlinewidth\":0,\"ticks\":\"\"},\"colorscale\":[[0.0,\"#0d0887\"],[0.1111111111111111,\"#46039f\"],[0.2222222222222222,\"#7201a8\"],[0.3333333333333333,\"#9c179e\"],[0.4444444444444444,\"#bd3786\"],[0.5555555555555556,\"#d8576b\"],[0.6666666666666666,\"#ed7953\"],[0.7777777777777778,\"#fb9f3a\"],[0.8888888888888888,\"#fdca26\"],[1.0,\"#f0f921\"]]}],\"mesh3d\":[{\"type\":\"mesh3d\",\"colorbar\":{\"outlinewidth\":0,\"ticks\":\"\"}}],\"scatter\":[{\"fillpattern\":{\"fillmode\":\"overlay\",\"size\":10,\"solidity\":0.2},\"type\":\"scatter\"}],\"parcoords\":[{\"type\":\"parcoords\",\"line\":{\"colorbar\":{\"outlinewidth\":0,\"ticks\":\"\"}}}],\"scatterpolargl\":[{\"type\":\"scatterpolargl\",\"marker\":{\"colorbar\":{\"outlinewidth\":0,\"ticks\":\"\"}}}],\"bar\":[{\"error_x\":{\"color\":\"#2a3f5f\"},\"error_y\":{\"color\":\"#2a3f5f\"},\"marker\":{\"line\":{\"color\":\"#E5ECF6\",\"width\":0.5},\"pattern\":{\"fillmode\":\"overlay\",\"size\":10,\"solidity\":0.2}},\"type\":\"bar\"}],\"scattergeo\":[{\"type\":\"scattergeo\",\"marker\":{\"colorbar\":{\"outlinewidth\":0,\"ticks\":\"\"}}}],\"scatterpolar\":[{\"type\":\"scatterpolar\",\"marker\":{\"colorbar\":{\"outlinewidth\":0,\"ticks\":\"\"}}}],\"histogram\":[{\"marker\":{\"pattern\":{\"fillmode\":\"overlay\",\"size\":10,\"solidity\":0.2}},\"type\":\"histogram\"}],\"scattergl\":[{\"type\":\"scattergl\",\"marker\":{\"colorbar\":{\"outlinewidth\":0,\"ticks\":\"\"}}}],\"scatter3d\":[{\"type\":\"scatter3d\",\"line\":{\"colorbar\":{\"outlinewidth\":0,\"ticks\":\"\"}},\"marker\":{\"colorbar\":{\"outlinewidth\":0,\"ticks\":\"\"}}}],\"scattermapbox\":[{\"type\":\"scattermapbox\",\"marker\":{\"colorbar\":{\"outlinewidth\":0,\"ticks\":\"\"}}}],\"scatterternary\":[{\"type\":\"scatterternary\",\"marker\":{\"colorbar\":{\"outlinewidth\":0,\"ticks\":\"\"}}}],\"scattercarpet\":[{\"type\":\"scattercarpet\",\"marker\":{\"colorbar\":{\"outlinewidth\":0,\"ticks\":\"\"}}}],\"carpet\":[{\"aaxis\":{\"endlinecolor\":\"#2a3f5f\",\"gridcolor\":\"white\",\"linecolor\":\"white\",\"minorgridcolor\":\"white\",\"startlinecolor\":\"#2a3f5f\"},\"baxis\":{\"endlinecolor\":\"#2a3f5f\",\"gridcolor\":\"white\",\"linecolor\":\"white\",\"minorgridcolor\":\"white\",\"startlinecolor\":\"#2a3f5f\"},\"type\":\"carpet\"}],\"table\":[{\"cells\":{\"fill\":{\"color\":\"#EBF0F8\"},\"line\":{\"color\":\"white\"}},\"header\":{\"fill\":{\"color\":\"#C8D4E3\"},\"line\":{\"color\":\"white\"}},\"type\":\"table\"}],\"barpolar\":[{\"marker\":{\"line\":{\"color\":\"#E5ECF6\",\"width\":0.5},\"pattern\":{\"fillmode\":\"overlay\",\"size\":10,\"solidity\":0.2}},\"type\":\"barpolar\"}],\"pie\":[{\"automargin\":true,\"type\":\"pie\"}]},\"layout\":{\"autotypenumbers\":\"strict\",\"colorway\":[\"#636efa\",\"#EF553B\",\"#00cc96\",\"#ab63fa\",\"#FFA15A\",\"#19d3f3\",\"#FF6692\",\"#B6E880\",\"#FF97FF\",\"#FECB52\"],\"font\":{\"color\":\"#2a3f5f\"},\"hovermode\":\"closest\",\"hoverlabel\":{\"align\":\"left\"},\"paper_bgcolor\":\"white\",\"plot_bgcolor\":\"#E5ECF6\",\"polar\":{\"bgcolor\":\"#E5ECF6\",\"angularaxis\":{\"gridcolor\":\"white\",\"linecolor\":\"white\",\"ticks\":\"\"},\"radialaxis\":{\"gridcolor\":\"white\",\"linecolor\":\"white\",\"ticks\":\"\"}},\"ternary\":{\"bgcolor\":\"#E5ECF6\",\"aaxis\":{\"gridcolor\":\"white\",\"linecolor\":\"white\",\"ticks\":\"\"},\"baxis\":{\"gridcolor\":\"white\",\"linecolor\":\"white\",\"ticks\":\"\"},\"caxis\":{\"gridcolor\":\"white\",\"linecolor\":\"white\",\"ticks\":\"\"}},\"coloraxis\":{\"colorbar\":{\"outlinewidth\":0,\"ticks\":\"\"}},\"colorscale\":{\"sequential\":[[0.0,\"#0d0887\"],[0.1111111111111111,\"#46039f\"],[0.2222222222222222,\"#7201a8\"],[0.3333333333333333,\"#9c179e\"],[0.4444444444444444,\"#bd3786\"],[0.5555555555555556,\"#d8576b\"],[0.6666666666666666,\"#ed7953\"],[0.7777777777777778,\"#fb9f3a\"],[0.8888888888888888,\"#fdca26\"],[1.0,\"#f0f921\"]],\"sequentialminus\":[[0.0,\"#0d0887\"],[0.1111111111111111,\"#46039f\"],[0.2222222222222222,\"#7201a8\"],[0.3333333333333333,\"#9c179e\"],[0.4444444444444444,\"#bd3786\"],[0.5555555555555556,\"#d8576b\"],[0.6666666666666666,\"#ed7953\"],[0.7777777777777778,\"#fb9f3a\"],[0.8888888888888888,\"#fdca26\"],[1.0,\"#f0f921\"]],\"diverging\":[[0,\"#8e0152\"],[0.1,\"#c51b7d\"],[0.2,\"#de77ae\"],[0.3,\"#f1b6da\"],[0.4,\"#fde0ef\"],[0.5,\"#f7f7f7\"],[0.6,\"#e6f5d0\"],[0.7,\"#b8e186\"],[0.8,\"#7fbc41\"],[0.9,\"#4d9221\"],[1,\"#276419\"]]},\"xaxis\":{\"gridcolor\":\"white\",\"linecolor\":\"white\",\"ticks\":\"\",\"title\":{\"standoff\":15},\"zerolinecolor\":\"white\",\"automargin\":true,\"zerolinewidth\":2},\"yaxis\":{\"gridcolor\":\"white\",\"linecolor\":\"white\",\"ticks\":\"\",\"title\":{\"standoff\":15},\"zerolinecolor\":\"white\",\"automargin\":true,\"zerolinewidth\":2},\"scene\":{\"xaxis\":{\"backgroundcolor\":\"#E5ECF6\",\"gridcolor\":\"white\",\"linecolor\":\"white\",\"showbackground\":true,\"ticks\":\"\",\"zerolinecolor\":\"white\",\"gridwidth\":2},\"yaxis\":{\"backgroundcolor\":\"#E5ECF6\",\"gridcolor\":\"white\",\"linecolor\":\"white\",\"showbackground\":true,\"ticks\":\"\",\"zerolinecolor\":\"white\",\"gridwidth\":2},\"zaxis\":{\"backgroundcolor\":\"#E5ECF6\",\"gridcolor\":\"white\",\"linecolor\":\"white\",\"showbackground\":true,\"ticks\":\"\",\"zerolinecolor\":\"white\",\"gridwidth\":2}},\"shapedefaults\":{\"line\":{\"color\":\"#2a3f5f\"}},\"annotationdefaults\":{\"arrowcolor\":\"#2a3f5f\",\"arrowhead\":0,\"arrowwidth\":1},\"geo\":{\"bgcolor\":\"white\",\"landcolor\":\"#E5ECF6\",\"subunitcolor\":\"white\",\"showland\":true,\"showlakes\":true,\"lakecolor\":\"white\"},\"title\":{\"x\":0.05},\"mapbox\":{\"style\":\"light\"}}},\"xaxis\":{\"anchor\":\"y\",\"domain\":[0.0,1.0],\"tickfont\":{\"size\":10},\"tickmode\":\"array\",\"tickvals\":[0.0,1.0999999999999999,2.8,4.5,6.200000000000001,7.900000000000002,9.600000000000001,11.300000000000004,13.000000000000004,14.700000000000006,16.400000000000006,18.1,19.799999999999997,21.499999999999993,23.19999999999999,24.899999999999984,26.59999999999998,28.299999999999976,29.99999999999997,31.699999999999967,33.39999999999996,35.099999999999966,36.799999999999955],\"ticktext\":[\"Baseline\",\"All Layers (0-63)\",\"Every 2nd Layer\",\"Every 4th Layer\",\"Layers 32-63\",\"All Layers (0-63)\",\"Layers 0-15\",\"Layers 8-15\",\"Layers 16-23\",\"Layers 24-31\",\"Layers 32-39\",\"Layers 40-47\",\"Layers 48-55\",\"Layers 56-63\",\"All Layers (0-63)\",\"Layers 0-15\",\"Layers 8-15\",\"Layers 16-23\",\"Layers 24-31\",\"Layers 32-39\",\"Layers 40-47\",\"Layers 48-55\",\"Layers 56-63\"],\"range\":[-0.5,37.899999999999956]},\"yaxis\":{\"anchor\":\"x\",\"domain\":[0.56,1.0],\"title\":{\"text\":\"Score\"},\"tickfont\":{\"size\":10},\"range\":[0,0.8]},\"xaxis2\":{\"anchor\":\"y2\",\"domain\":[0.0,1.0],\"title\":{\"text\":\"Intervention Layers\"},\"tickfont\":{\"size\":10},\"tickmode\":\"array\",\"tickvals\":[0.0,1.0999999999999999,2.8,4.5,6.200000000000001,7.900000000000002,9.600000000000001,11.300000000000004,13.000000000000004,14.700000000000006,16.400000000000006,18.1,19.799999999999997,21.499999999999993,23.19999999999999,24.899999999999984,26.59999999999998,28.299999999999976,29.99999999999997,31.699999999999967,33.39999999999996,35.099999999999966,36.799999999999955],\"ticktext\":[\"Baseline\",\"All Layers (0-63)\",\"Every 2nd Layer\",\"Every 4th Layer\",\"Layers 32-63\",\"All Layers (0-63)\",\"Layers 0-15\",\"Layers 8-15\",\"Layers 16-23\",\"Layers 24-31\",\"Layers 32-39\",\"Layers 40-47\",\"Layers 48-55\",\"Layers 56-63\",\"All Layers (0-63)\",\"Layers 0-15\",\"Layers 8-15\",\"Layers 16-23\",\"Layers 24-31\",\"Layers 32-39\",\"Layers 40-47\",\"Layers 48-55\",\"Layers 56-63\"],\"range\":[-0.5,37.899999999999956]},\"yaxis2\":{\"anchor\":\"x2\",\"domain\":[0.0,0.44],\"title\":{\"text\":\"Score\"},\"tickfont\":{\"size\":10},\"range\":[0,0.8]},\"annotations\":[{\"font\":{\"size\":16},\"showarrow\":false,\"text\":\"Prompt-level Accuracy\",\"x\":0.5,\"xanchor\":\"center\",\"xref\":\"paper\",\"y\":1.0,\"yanchor\":\"bottom\",\"yref\":\"paper\"},{\"font\":{\"size\":16},\"showarrow\":false,\"text\":\"Instruction-level Accuracy\",\"x\":0.5,\"xanchor\":\"center\",\"xref\":\"paper\",\"y\":0.44,\"yanchor\":\"bottom\",\"yref\":\"paper\"},{\"showarrow\":false,\"text\":\"\\u003cspan style='font-size:10px'\\u003eProjection caps in each bar group\\u003cbr\\u003e(L-R) strict to relaxed\\u003c\\u002fspan\\u003e\",\"x\":1,\"xanchor\":\"right\",\"xref\":\"paper\",\"y\":1,\"yanchor\":\"top\",\"yref\":\"paper\"}],\"shapes\":[{\"line\":{\"color\":\"green\",\"dash\":\"dot\",\"width\":1},\"opacity\":0.8,\"type\":\"line\",\"x0\":0,\"x1\":1,\"xref\":\"x domain\",\"y0\":0.468,\"y1\":0.468,\"yref\":\"y\"},{\"line\":{\"color\":\"green\",\"dash\":\"dot\",\"width\":1},\"opacity\":0.8,\"type\":\"line\",\"x0\":0,\"x1\":1,\"xref\":\"x2 domain\",\"y0\":0.6015523932729625,\"y1\":0.6015523932729625,\"yref\":\"y2\"}],\"legend\":{\"x\":1.0,\"y\":1.08,\"xanchor\":\"right\",\"yanchor\":\"bottom\",\"orientation\":\"h\"},\"title\":{\"subtitle\":{\"text\":\"Qwen 3 32B, Single-Shot & No Thinking\"},\"text\":\"IFEval with Projection Capping\"},\"margin\":{\"b\":100,\"t\":150},\"height\":900,\"width\":1000},                        {\"responsive\": true}                    ).then(function(){\n",
       "                            \n",
       "var gd = document.getElementById('24f1c91d-39f6-4a10-b11d-2667a687a83c');\n",
       "var x = new MutationObserver(function (mutations, observer) {{\n",
       "        var display = window.getComputedStyle(gd).display;\n",
       "        if (!display || display === 'none') {{\n",
       "            console.log([gd, 'removed!']);\n",
       "            Plotly.purge(gd);\n",
       "            observer.disconnect();\n",
       "        }}\n",
       "}});\n",
       "\n",
       "// Listen for the removal of the full notebook cells\n",
       "var notebookContainer = gd.closest('#notebook-container');\n",
       "if (notebookContainer) {{\n",
       "    x.observe(notebookContainer, {childList: true});\n",
       "}}\n",
       "\n",
       "// Listen for the clearing of the current output cell\n",
       "var outputEl = gd.closest('.output');\n",
       "if (outputEl) {{\n",
       "    x.observe(outputEl, {childList: true});\n",
       "}}\n",
       "\n",
       "                        })                };                });            </script>        </div>"
      ]
     },
     "metadata": {},
     "output_type": "display_data"
    }
   ],
   "source": [
    "# Filter to single baseline (keeping the one without thinking)\n",
    "\n",
    "# Plot using modular function\n",
    "fig = plot_benchmark_results(df, 'ifeval', \n",
    "                             title=\"IFEval with Projection Capping\", \n",
    "                             subtitle=subtitle,\n",
    "                             total_layers=total_layers)\n",
    "fig.show()\n",
    "fig.write_html(f\"{out_dir}/ifeval.html\")"
   ]
  },
  {
   "cell_type": "markdown",
   "id": "1mi3p3gbyaj",
   "metadata": {},
   "source": [
    "## MMLU Pro"
   ]
  },
  {
   "cell_type": "code",
   "execution_count": 10,
   "id": "tpgy091ejrg",
   "metadata": {},
   "outputs": [
    {
     "name": "stdout",
     "output_type": "stream",
     "text": [
      "Loaded 44 MMLU Pro experiment runs\n",
      "\n",
      "Config breakdown:\n",
      "  baseline: 1 unique experiments\n",
      "    - baseline (4 runs)\n",
      "  role_trait: 16 unique experiments\n",
      "    - layers_0:16-p0.01 (1 run)\n",
      "    - layers_0:16-p0.25 (1 run)\n",
      "    - layers_0:16-p0.5 (1 run)\n",
      "    - layers_0:16-p0.75 (1 run)\n",
      "    - layers_0:64-p0.01 (1 run)\n",
      "    - layers_0:64-p0.25 (1 run)\n",
      "    - layers_0:64-p0.5 (1 run)\n",
      "    - layers_0:64-p0.75 (1 run)\n",
      "    - layers_16:24-p0.01 (1 run)\n",
      "    - layers_16:24-p0.25 (1 run)\n",
      "    - layers_16:24-p0.5 (1 run)\n",
      "    - layers_16:24-p0.75 (1 run)\n",
      "    - layers_8:16-p0.01 (1 run)\n",
      "    - layers_8:16-p0.25 (1 run)\n",
      "    - layers_8:16-p0.5 (1 run)\n",
      "    - layers_8:16-p0.75 (1 run)\n",
      "  jailbreak: 16 unique experiments\n",
      "    - layers_0:64-harm_0.01 (1 run)\n",
      "    - layers_0:64-harm_0.25 (1 run)\n",
      "    - layers_0:64-safe_0.01 (1 run)\n",
      "    - layers_0:64-safe_0.50 (1 run)\n",
      "    - layers_2:64:2-harm_0.01 (1 run)\n",
      "    - layers_2:64:2-harm_0.25 (1 run)\n",
      "    - layers_2:64:2-safe_0.01 (1 run)\n",
      "    - layers_2:64:2-safe_0.50 (1 run)\n",
      "    - layers_32:64-harm_0.01 (1 run)\n",
      "    - layers_32:64-harm_0.25 (1 run)\n",
      "    - layers_32:64-safe_0.01 (1 run)\n",
      "    - layers_32:64-safe_0.50 (1 run)\n",
      "    - layers_4:64:4-harm_0.01 (1 run)\n",
      "    - layers_4:64:4-harm_0.25 (1 run)\n",
      "    - layers_4:64:4-safe_0.01 (1 run)\n",
      "    - layers_4:64:4-safe_0.50 (1 run)\n",
      "  lmsys_10000: 8 unique experiments\n",
      "    - layers_0:64-p0.01 (1 run)\n",
      "    - layers_0:64-p0.25 (1 run)\n",
      "    - layers_0:64-p0.5 (1 run)\n",
      "    - layers_0:64-p0.75 (1 run)\n",
      "    - layers_16:24-p0.01 (1 run)\n",
      "    - layers_16:24-p0.25 (1 run)\n",
      "    - layers_16:24-p0.5 (1 run)\n",
      "    - layers_16:24-p0.75 (1 run)\n"
     ]
    }
   ],
   "source": [
    "# Load MMLU Pro data\n",
    "df_mmlu = load_experiment_data([\"mmlu_pro\"], config_names, base_dir)\n",
    "print(f\"Loaded {len(df_mmlu)} MMLU Pro experiment runs\")\n",
    "print(f\"\\nConfig breakdown:\")\n",
    "for config in df_mmlu['config_name'].unique():\n",
    "    config_df = df_mmlu[df_mmlu['config_name'] == config]\n",
    "    unique_exps = config_df['experiment_id'].unique()\n",
    "    print(f\"  {config}: {len(unique_exps)} unique experiments\")\n",
    "    for exp in sorted(unique_exps):\n",
    "        exp_count = len(config_df[config_df['experiment_id'] == exp])\n",
    "        print(f\"    - {exp} ({exp_count} run{'s' if exp_count > 1 else ''})\")\n"
   ]
  },
  {
   "cell_type": "code",
   "execution_count": 28,
   "id": "a4de66fc",
   "metadata": {},
   "outputs": [
    {
     "data": {
      "text/html": [
       "<div>\n",
       "<style scoped>\n",
       "    .dataframe tbody tr th:only-of-type {\n",
       "        vertical-align: middle;\n",
       "    }\n",
       "\n",
       "    .dataframe tbody tr th {\n",
       "        vertical-align: top;\n",
       "    }\n",
       "\n",
       "    .dataframe thead th {\n",
       "        text-align: right;\n",
       "    }\n",
       "</style>\n",
       "<table border=\"1\" class=\"dataframe\">\n",
       "  <thead>\n",
       "    <tr style=\"text-align: right;\">\n",
       "      <th></th>\n",
       "      <th>experiment_id</th>\n",
       "      <th>config_name</th>\n",
       "      <th>thinking</th>\n",
       "      <th>apply_chat_template</th>\n",
       "      <th>exact_match,custom-extract</th>\n",
       "    </tr>\n",
       "  </thead>\n",
       "  <tbody>\n",
       "    <tr>\n",
       "      <th>0</th>\n",
       "      <td>baseline</td>\n",
       "      <td>baseline</td>\n",
       "      <td>True</td>\n",
       "      <td>True</td>\n",
       "      <td>0.640000</td>\n",
       "    </tr>\n",
       "    <tr>\n",
       "      <th>1</th>\n",
       "      <td>baseline</td>\n",
       "      <td>baseline</td>\n",
       "      <td>False</td>\n",
       "      <td>True</td>\n",
       "      <td>0.675000</td>\n",
       "    </tr>\n",
       "    <tr>\n",
       "      <th>2</th>\n",
       "      <td>baseline</td>\n",
       "      <td>baseline</td>\n",
       "      <td>False</td>\n",
       "      <td>False</td>\n",
       "      <td>0.702143</td>\n",
       "    </tr>\n",
       "    <tr>\n",
       "      <th>3</th>\n",
       "      <td>baseline</td>\n",
       "      <td>baseline</td>\n",
       "      <td>True</td>\n",
       "      <td>False</td>\n",
       "      <td>0.714286</td>\n",
       "    </tr>\n",
       "    <tr>\n",
       "      <th>4</th>\n",
       "      <td>layers_8:16-p0.75</td>\n",
       "      <td>role_trait</td>\n",
       "      <td>False</td>\n",
       "      <td>True</td>\n",
       "      <td>0.679286</td>\n",
       "    </tr>\n",
       "    <tr>\n",
       "      <th>5</th>\n",
       "      <td>layers_8:16-p0.5</td>\n",
       "      <td>role_trait</td>\n",
       "      <td>False</td>\n",
       "      <td>True</td>\n",
       "      <td>0.665714</td>\n",
       "    </tr>\n",
       "    <tr>\n",
       "      <th>6</th>\n",
       "      <td>layers_8:16-p0.25</td>\n",
       "      <td>role_trait</td>\n",
       "      <td>False</td>\n",
       "      <td>True</td>\n",
       "      <td>0.670714</td>\n",
       "    </tr>\n",
       "    <tr>\n",
       "      <th>7</th>\n",
       "      <td>layers_8:16-p0.01</td>\n",
       "      <td>role_trait</td>\n",
       "      <td>False</td>\n",
       "      <td>True</td>\n",
       "      <td>0.642857</td>\n",
       "    </tr>\n",
       "    <tr>\n",
       "      <th>8</th>\n",
       "      <td>layers_16:24-p0.75</td>\n",
       "      <td>role_trait</td>\n",
       "      <td>False</td>\n",
       "      <td>True</td>\n",
       "      <td>0.677143</td>\n",
       "    </tr>\n",
       "    <tr>\n",
       "      <th>9</th>\n",
       "      <td>layers_16:24-p0.5</td>\n",
       "      <td>role_trait</td>\n",
       "      <td>False</td>\n",
       "      <td>True</td>\n",
       "      <td>0.672143</td>\n",
       "    </tr>\n",
       "    <tr>\n",
       "      <th>10</th>\n",
       "      <td>layers_16:24-p0.25</td>\n",
       "      <td>role_trait</td>\n",
       "      <td>False</td>\n",
       "      <td>True</td>\n",
       "      <td>0.647143</td>\n",
       "    </tr>\n",
       "    <tr>\n",
       "      <th>11</th>\n",
       "      <td>layers_16:24-p0.01</td>\n",
       "      <td>role_trait</td>\n",
       "      <td>False</td>\n",
       "      <td>True</td>\n",
       "      <td>0.622143</td>\n",
       "    </tr>\n",
       "    <tr>\n",
       "      <th>12</th>\n",
       "      <td>layers_0:64-p0.75</td>\n",
       "      <td>role_trait</td>\n",
       "      <td>False</td>\n",
       "      <td>True</td>\n",
       "      <td>0.665000</td>\n",
       "    </tr>\n",
       "    <tr>\n",
       "      <th>13</th>\n",
       "      <td>layers_0:64-p0.5</td>\n",
       "      <td>role_trait</td>\n",
       "      <td>False</td>\n",
       "      <td>True</td>\n",
       "      <td>0.643571</td>\n",
       "    </tr>\n",
       "    <tr>\n",
       "      <th>14</th>\n",
       "      <td>layers_0:64-p0.25</td>\n",
       "      <td>role_trait</td>\n",
       "      <td>False</td>\n",
       "      <td>True</td>\n",
       "      <td>0.640714</td>\n",
       "    </tr>\n",
       "    <tr>\n",
       "      <th>15</th>\n",
       "      <td>layers_0:64-p0.01</td>\n",
       "      <td>role_trait</td>\n",
       "      <td>False</td>\n",
       "      <td>True</td>\n",
       "      <td>0.580000</td>\n",
       "    </tr>\n",
       "    <tr>\n",
       "      <th>16</th>\n",
       "      <td>layers_0:16-p0.75</td>\n",
       "      <td>role_trait</td>\n",
       "      <td>False</td>\n",
       "      <td>True</td>\n",
       "      <td>0.672143</td>\n",
       "    </tr>\n",
       "    <tr>\n",
       "      <th>17</th>\n",
       "      <td>layers_0:16-p0.5</td>\n",
       "      <td>role_trait</td>\n",
       "      <td>False</td>\n",
       "      <td>True</td>\n",
       "      <td>0.672857</td>\n",
       "    </tr>\n",
       "    <tr>\n",
       "      <th>18</th>\n",
       "      <td>layers_0:16-p0.25</td>\n",
       "      <td>role_trait</td>\n",
       "      <td>False</td>\n",
       "      <td>True</td>\n",
       "      <td>0.651429</td>\n",
       "    </tr>\n",
       "    <tr>\n",
       "      <th>19</th>\n",
       "      <td>layers_0:16-p0.01</td>\n",
       "      <td>role_trait</td>\n",
       "      <td>False</td>\n",
       "      <td>True</td>\n",
       "      <td>0.627143</td>\n",
       "    </tr>\n",
       "  </tbody>\n",
       "</table>\n",
       "</div>"
      ],
      "text/plain": [
       "         experiment_id config_name  thinking  apply_chat_template  \\\n",
       "0             baseline    baseline      True                 True   \n",
       "1             baseline    baseline     False                 True   \n",
       "2             baseline    baseline     False                False   \n",
       "3             baseline    baseline      True                False   \n",
       "4    layers_8:16-p0.75  role_trait     False                 True   \n",
       "5     layers_8:16-p0.5  role_trait     False                 True   \n",
       "6    layers_8:16-p0.25  role_trait     False                 True   \n",
       "7    layers_8:16-p0.01  role_trait     False                 True   \n",
       "8   layers_16:24-p0.75  role_trait     False                 True   \n",
       "9    layers_16:24-p0.5  role_trait     False                 True   \n",
       "10  layers_16:24-p0.25  role_trait     False                 True   \n",
       "11  layers_16:24-p0.01  role_trait     False                 True   \n",
       "12   layers_0:64-p0.75  role_trait     False                 True   \n",
       "13    layers_0:64-p0.5  role_trait     False                 True   \n",
       "14   layers_0:64-p0.25  role_trait     False                 True   \n",
       "15   layers_0:64-p0.01  role_trait     False                 True   \n",
       "16   layers_0:16-p0.75  role_trait     False                 True   \n",
       "17    layers_0:16-p0.5  role_trait     False                 True   \n",
       "18   layers_0:16-p0.25  role_trait     False                 True   \n",
       "19   layers_0:16-p0.01  role_trait     False                 True   \n",
       "\n",
       "    exact_match,custom-extract  \n",
       "0                     0.640000  \n",
       "1                     0.675000  \n",
       "2                     0.702143  \n",
       "3                     0.714286  \n",
       "4                     0.679286  \n",
       "5                     0.665714  \n",
       "6                     0.670714  \n",
       "7                     0.642857  \n",
       "8                     0.677143  \n",
       "9                     0.672143  \n",
       "10                    0.647143  \n",
       "11                    0.622143  \n",
       "12                    0.665000  \n",
       "13                    0.643571  \n",
       "14                    0.640714  \n",
       "15                    0.580000  \n",
       "16                    0.672143  \n",
       "17                    0.672857  \n",
       "18                    0.651429  \n",
       "19                    0.627143  "
      ]
     },
     "execution_count": 28,
     "metadata": {},
     "output_type": "execute_result"
    }
   ],
   "source": [
    "df_mmlu[['experiment_id', 'config_name', 'thinking', 'apply_chat_template', 'exact_match,custom-extract']].head(20)"
   ]
  },
  {
   "cell_type": "code",
   "execution_count": 63,
   "id": "f8d5bb0a",
   "metadata": {},
   "outputs": [
    {
     "data": {
      "application/vnd.plotly.v1+json": {
       "config": {
        "plotlyServerURL": "https://plot.ly"
       },
       "data": [
        {
         "customdata": [
          [
           "Baseline",
           "baseline"
          ],
          [
           "All Layers (0-63), Safe 99th",
           "jailbreak"
          ],
          [
           "All Layers (0-63), Safe 50th",
           "jailbreak"
          ],
          [
           "All Layers (0-63), Harm 99th",
           "jailbreak"
          ],
          [
           "All Layers (0-63), Harm 75th",
           "jailbreak"
          ],
          [
           "Every 2nd Layer, Safe 99th",
           "jailbreak"
          ],
          [
           "Every 2nd Layer, Safe 50th",
           "jailbreak"
          ],
          [
           "Every 2nd Layer, Harm 99th",
           "jailbreak"
          ],
          [
           "Every 2nd Layer, Harm 75th",
           "jailbreak"
          ],
          [
           "Every 4th Layer, Safe 99th",
           "jailbreak"
          ],
          [
           "Every 4th Layer, Safe 50th",
           "jailbreak"
          ],
          [
           "Every 4th Layer, Harm 99th",
           "jailbreak"
          ],
          [
           "Every 4th Layer, Harm 75th",
           "jailbreak"
          ],
          [
           "Layers 32-63, Safe 99th",
           "jailbreak"
          ],
          [
           "Layers 32-63, Safe 50th",
           "jailbreak"
          ],
          [
           "Layers 32-63, Harm 99th",
           "jailbreak"
          ],
          [
           "Layers 32-63, Harm 75th",
           "jailbreak"
          ],
          [
           "All Layers (0-63), 1st",
           "role_trait"
          ],
          [
           "All Layers (0-63), 25th",
           "role_trait"
          ],
          [
           "All Layers (0-63), 50th",
           "role_trait"
          ],
          [
           "All Layers (0-63), 75th",
           "role_trait"
          ],
          [
           "Layers 0-15, 1st",
           "role_trait"
          ],
          [
           "Layers 0-15, 25th",
           "role_trait"
          ],
          [
           "Layers 0-15, 50th",
           "role_trait"
          ],
          [
           "Layers 0-15, 75th",
           "role_trait"
          ],
          [
           "Layers 8-15, 1st",
           "role_trait"
          ],
          [
           "Layers 8-15, 25th",
           "role_trait"
          ],
          [
           "Layers 8-15, 50th",
           "role_trait"
          ],
          [
           "Layers 8-15, 75th",
           "role_trait"
          ],
          [
           "Layers 16-23, 1st",
           "role_trait"
          ],
          [
           "Layers 16-23, 25th",
           "role_trait"
          ],
          [
           "Layers 16-23, 50th",
           "role_trait"
          ],
          [
           "Layers 16-23, 75th",
           "role_trait"
          ],
          [
           "All Layers (0-63), 1st",
           "lmsys_10000"
          ],
          [
           "All Layers (0-63), 25th",
           "lmsys_10000"
          ],
          [
           "All Layers (0-63), 50th",
           "lmsys_10000"
          ],
          [
           "All Layers (0-63), 75th",
           "lmsys_10000"
          ],
          [
           "Layers 16-23, 1st",
           "lmsys_10000"
          ],
          [
           "Layers 16-23, 25th",
           "lmsys_10000"
          ],
          [
           "Layers 16-23, 50th",
           "lmsys_10000"
          ],
          [
           "Layers 16-23, 75th",
           "lmsys_10000"
          ]
         ],
         "error_y": {
          "array": [
           0.012284631986959975,
           0.012981600603786881,
           0.012556612678355426,
           0.012473017672635766,
           0.012270150213867473,
           0.012836282580421644,
           0.012505204029071224,
           0.012424996583292318,
           0.012213106362310525,
           0.012798084658800628,
           0.012514267264938594,
           0.012301191633538183,
           0.012223229470686254,
           0.012643731473668336,
           0.012424581801479739,
           0.01229071343640891,
           0.012216692589199682,
           0.01293307703333572,
           0.012709388294259685,
           0.012618230799341991,
           0.012352406318918438,
           0.012658803665643537,
           0.012497371399561493,
           0.012279386940742869,
           0.012287987641609774,
           0.012596770338635897,
           0.012265319156446058,
           0.012393017764095031,
           0.01224302964513992,
           0.01273652739471293,
           0.012489121219497055,
           0.012278337662630706,
           0.01222681272838304,
           0.012907948361410699,
           0.012683206985426361,
           0.012390522441858096,
           0.01234030122913908,
           0.012676907294806623,
           0.01255907500070057,
           0.012377621929680031,
           0.012319402451729418
          ],
          "thickness": 0.5,
          "type": "data",
          "visible": true
         },
         "hovertemplate": "%{customdata[0]}<br>Config: %{customdata[1]}<br>Value: %{y:.1%}<extra></extra>",
         "marker": {
          "color": [
           "#2ca02c",
           "#d62728",
           "#d62728",
           "#d62728",
           "#d62728",
           "#d62728",
           "#d62728",
           "#d62728",
           "#d62728",
           "#d62728",
           "#d62728",
           "#d62728",
           "#d62728",
           "#d62728",
           "#d62728",
           "#d62728",
           "#d62728",
           "#ff7f0e",
           "#ff7f0e",
           "#ff7f0e",
           "#ff7f0e",
           "#ff7f0e",
           "#ff7f0e",
           "#ff7f0e",
           "#ff7f0e",
           "#ff7f0e",
           "#ff7f0e",
           "#ff7f0e",
           "#ff7f0e",
           "#ff7f0e",
           "#ff7f0e",
           "#ff7f0e",
           "#ff7f0e",
           "#9467bd",
           "#9467bd",
           "#9467bd",
           "#9467bd",
           "#9467bd",
           "#9467bd",
           "#9467bd",
           "#9467bd"
          ]
         },
         "name": "Multiple Choice Exact Match Accuracy",
         "opacity": 0.8,
         "showlegend": false,
         "type": "bar",
         "width": 0.35,
         "x": [
          0,
          0.5,
          0.8999999999999999,
          1.2999999999999998,
          1.6999999999999997,
          2.1999999999999997,
          2.5999999999999996,
          2.9999999999999996,
          3.3999999999999995,
          3.8999999999999995,
          4.3,
          4.7,
          5.1000000000000005,
          5.6000000000000005,
          6.000000000000001,
          6.400000000000001,
          6.800000000000002,
          7.300000000000002,
          7.700000000000002,
          8.100000000000001,
          8.500000000000002,
          9.000000000000002,
          9.400000000000002,
          9.800000000000002,
          10.200000000000003,
          10.700000000000003,
          11.100000000000003,
          11.500000000000004,
          11.900000000000004,
          12.400000000000004,
          12.800000000000004,
          13.200000000000005,
          13.600000000000005,
          14.100000000000005,
          14.500000000000005,
          14.900000000000006,
          15.300000000000006,
          15.800000000000006,
          16.200000000000006,
          16.600000000000005,
          17.000000000000004
         ],
         "xaxis": "x",
         "y": [
          0.675,
          0.59,
          0.6357142857142857,
          0.6514285714285715,
          0.66,
          0.6114285714285714,
          0.65,
          0.6657142857142857,
          0.6807142857142857,
          0.6142857142857143,
          0.6542857142857142,
          0.67,
          0.6835714285714286,
          0.6257142857142857,
          0.6414285714285715,
          0.6614285714285715,
          0.6742857142857143,
          0.58,
          0.6407142857142857,
          0.6435714285714286,
          0.665,
          0.6271428571428571,
          0.6514285714285715,
          0.6728571428571428,
          0.6721428571428572,
          0.6428571428571429,
          0.6707142857142857,
          0.6657142857142857,
          0.6792857142857143,
          0.6221428571428571,
          0.6471428571428571,
          0.6721428571428572,
          0.6771428571428572,
          0.5857142857142857,
          0.6314285714285715,
          0.6471428571428571,
          0.6607142857142857,
          0.635,
          0.6457142857142857,
          0.6685714285714286,
          0.6721428571428572
         ],
         "yaxis": "y"
        },
        {
         "marker": {
          "color": "#2ca02c",
          "size": 10
         },
         "mode": "markers",
         "name": "Baseline",
         "showlegend": true,
         "type": "scatter",
         "x": [
          null
         ],
         "xaxis": "x",
         "y": [
          null
         ],
         "yaxis": "y"
        },
        {
         "marker": {
          "color": "#d62728",
          "size": 10
         },
         "mode": "markers",
         "name": "Jailbreak Rollouts",
         "showlegend": true,
         "type": "scatter",
         "x": [
          null
         ],
         "xaxis": "x",
         "y": [
          null
         ],
         "yaxis": "y"
        },
        {
         "marker": {
          "color": "#ff7f0e",
          "size": 10
         },
         "mode": "markers",
         "name": "Role/Trait Rollouts",
         "showlegend": true,
         "type": "scatter",
         "x": [
          null
         ],
         "xaxis": "x",
         "y": [
          null
         ],
         "yaxis": "y"
        },
        {
         "marker": {
          "color": "#9467bd",
          "size": 10
         },
         "mode": "markers",
         "name": "LMSYS-10K Rollouts",
         "showlegend": true,
         "type": "scatter",
         "x": [
          null
         ],
         "xaxis": "x",
         "y": [
          null
         ],
         "yaxis": "y"
        }
       ],
       "layout": {
        "annotations": [
         {
          "font": {
           "size": 16
          },
          "showarrow": false,
          "text": "Multiple Choice Exact Match Accuracy",
          "x": 0.5,
          "xanchor": "center",
          "xref": "paper",
          "y": 1,
          "yanchor": "bottom",
          "yref": "paper"
         },
         {
          "showarrow": false,
          "text": "<span style='font-size:10px'>Projection caps in each bar group<br>(L-R) strict to relaxed</span>",
          "x": 1,
          "xanchor": "right",
          "xref": "paper",
          "y": 1,
          "yanchor": "top",
          "yref": "paper"
         }
        ],
        "height": 550,
        "legend": {
         "orientation": "h",
         "x": 1,
         "xanchor": "right",
         "y": 1.08,
         "yanchor": "bottom"
        },
        "margin": {
         "b": 100,
         "t": 150
        },
        "shapes": [
         {
          "line": {
           "color": "green",
           "dash": "dot",
           "width": 1
          },
          "opacity": 0.8,
          "type": "line",
          "x0": 0,
          "x1": 1,
          "xref": "x domain",
          "y0": 0.675,
          "y1": 0.675,
          "yref": "y"
         }
        ],
        "template": {
         "data": {
          "bar": [
           {
            "error_x": {
             "color": "#2a3f5f"
            },
            "error_y": {
             "color": "#2a3f5f"
            },
            "marker": {
             "line": {
              "color": "#E5ECF6",
              "width": 0.5
             },
             "pattern": {
              "fillmode": "overlay",
              "size": 10,
              "solidity": 0.2
             }
            },
            "type": "bar"
           }
          ],
          "barpolar": [
           {
            "marker": {
             "line": {
              "color": "#E5ECF6",
              "width": 0.5
             },
             "pattern": {
              "fillmode": "overlay",
              "size": 10,
              "solidity": 0.2
             }
            },
            "type": "barpolar"
           }
          ],
          "carpet": [
           {
            "aaxis": {
             "endlinecolor": "#2a3f5f",
             "gridcolor": "white",
             "linecolor": "white",
             "minorgridcolor": "white",
             "startlinecolor": "#2a3f5f"
            },
            "baxis": {
             "endlinecolor": "#2a3f5f",
             "gridcolor": "white",
             "linecolor": "white",
             "minorgridcolor": "white",
             "startlinecolor": "#2a3f5f"
            },
            "type": "carpet"
           }
          ],
          "choropleth": [
           {
            "colorbar": {
             "outlinewidth": 0,
             "ticks": ""
            },
            "type": "choropleth"
           }
          ],
          "contour": [
           {
            "colorbar": {
             "outlinewidth": 0,
             "ticks": ""
            },
            "colorscale": [
             [
              0,
              "#0d0887"
             ],
             [
              0.1111111111111111,
              "#46039f"
             ],
             [
              0.2222222222222222,
              "#7201a8"
             ],
             [
              0.3333333333333333,
              "#9c179e"
             ],
             [
              0.4444444444444444,
              "#bd3786"
             ],
             [
              0.5555555555555556,
              "#d8576b"
             ],
             [
              0.6666666666666666,
              "#ed7953"
             ],
             [
              0.7777777777777778,
              "#fb9f3a"
             ],
             [
              0.8888888888888888,
              "#fdca26"
             ],
             [
              1,
              "#f0f921"
             ]
            ],
            "type": "contour"
           }
          ],
          "contourcarpet": [
           {
            "colorbar": {
             "outlinewidth": 0,
             "ticks": ""
            },
            "type": "contourcarpet"
           }
          ],
          "heatmap": [
           {
            "colorbar": {
             "outlinewidth": 0,
             "ticks": ""
            },
            "colorscale": [
             [
              0,
              "#0d0887"
             ],
             [
              0.1111111111111111,
              "#46039f"
             ],
             [
              0.2222222222222222,
              "#7201a8"
             ],
             [
              0.3333333333333333,
              "#9c179e"
             ],
             [
              0.4444444444444444,
              "#bd3786"
             ],
             [
              0.5555555555555556,
              "#d8576b"
             ],
             [
              0.6666666666666666,
              "#ed7953"
             ],
             [
              0.7777777777777778,
              "#fb9f3a"
             ],
             [
              0.8888888888888888,
              "#fdca26"
             ],
             [
              1,
              "#f0f921"
             ]
            ],
            "type": "heatmap"
           }
          ],
          "heatmapgl": [
           {
            "colorbar": {
             "outlinewidth": 0,
             "ticks": ""
            },
            "colorscale": [
             [
              0,
              "#0d0887"
             ],
             [
              0.1111111111111111,
              "#46039f"
             ],
             [
              0.2222222222222222,
              "#7201a8"
             ],
             [
              0.3333333333333333,
              "#9c179e"
             ],
             [
              0.4444444444444444,
              "#bd3786"
             ],
             [
              0.5555555555555556,
              "#d8576b"
             ],
             [
              0.6666666666666666,
              "#ed7953"
             ],
             [
              0.7777777777777778,
              "#fb9f3a"
             ],
             [
              0.8888888888888888,
              "#fdca26"
             ],
             [
              1,
              "#f0f921"
             ]
            ],
            "type": "heatmapgl"
           }
          ],
          "histogram": [
           {
            "marker": {
             "pattern": {
              "fillmode": "overlay",
              "size": 10,
              "solidity": 0.2
             }
            },
            "type": "histogram"
           }
          ],
          "histogram2d": [
           {
            "colorbar": {
             "outlinewidth": 0,
             "ticks": ""
            },
            "colorscale": [
             [
              0,
              "#0d0887"
             ],
             [
              0.1111111111111111,
              "#46039f"
             ],
             [
              0.2222222222222222,
              "#7201a8"
             ],
             [
              0.3333333333333333,
              "#9c179e"
             ],
             [
              0.4444444444444444,
              "#bd3786"
             ],
             [
              0.5555555555555556,
              "#d8576b"
             ],
             [
              0.6666666666666666,
              "#ed7953"
             ],
             [
              0.7777777777777778,
              "#fb9f3a"
             ],
             [
              0.8888888888888888,
              "#fdca26"
             ],
             [
              1,
              "#f0f921"
             ]
            ],
            "type": "histogram2d"
           }
          ],
          "histogram2dcontour": [
           {
            "colorbar": {
             "outlinewidth": 0,
             "ticks": ""
            },
            "colorscale": [
             [
              0,
              "#0d0887"
             ],
             [
              0.1111111111111111,
              "#46039f"
             ],
             [
              0.2222222222222222,
              "#7201a8"
             ],
             [
              0.3333333333333333,
              "#9c179e"
             ],
             [
              0.4444444444444444,
              "#bd3786"
             ],
             [
              0.5555555555555556,
              "#d8576b"
             ],
             [
              0.6666666666666666,
              "#ed7953"
             ],
             [
              0.7777777777777778,
              "#fb9f3a"
             ],
             [
              0.8888888888888888,
              "#fdca26"
             ],
             [
              1,
              "#f0f921"
             ]
            ],
            "type": "histogram2dcontour"
           }
          ],
          "mesh3d": [
           {
            "colorbar": {
             "outlinewidth": 0,
             "ticks": ""
            },
            "type": "mesh3d"
           }
          ],
          "parcoords": [
           {
            "line": {
             "colorbar": {
              "outlinewidth": 0,
              "ticks": ""
             }
            },
            "type": "parcoords"
           }
          ],
          "pie": [
           {
            "automargin": true,
            "type": "pie"
           }
          ],
          "scatter": [
           {
            "fillpattern": {
             "fillmode": "overlay",
             "size": 10,
             "solidity": 0.2
            },
            "type": "scatter"
           }
          ],
          "scatter3d": [
           {
            "line": {
             "colorbar": {
              "outlinewidth": 0,
              "ticks": ""
             }
            },
            "marker": {
             "colorbar": {
              "outlinewidth": 0,
              "ticks": ""
             }
            },
            "type": "scatter3d"
           }
          ],
          "scattercarpet": [
           {
            "marker": {
             "colorbar": {
              "outlinewidth": 0,
              "ticks": ""
             }
            },
            "type": "scattercarpet"
           }
          ],
          "scattergeo": [
           {
            "marker": {
             "colorbar": {
              "outlinewidth": 0,
              "ticks": ""
             }
            },
            "type": "scattergeo"
           }
          ],
          "scattergl": [
           {
            "marker": {
             "colorbar": {
              "outlinewidth": 0,
              "ticks": ""
             }
            },
            "type": "scattergl"
           }
          ],
          "scattermapbox": [
           {
            "marker": {
             "colorbar": {
              "outlinewidth": 0,
              "ticks": ""
             }
            },
            "type": "scattermapbox"
           }
          ],
          "scatterpolar": [
           {
            "marker": {
             "colorbar": {
              "outlinewidth": 0,
              "ticks": ""
             }
            },
            "type": "scatterpolar"
           }
          ],
          "scatterpolargl": [
           {
            "marker": {
             "colorbar": {
              "outlinewidth": 0,
              "ticks": ""
             }
            },
            "type": "scatterpolargl"
           }
          ],
          "scatterternary": [
           {
            "marker": {
             "colorbar": {
              "outlinewidth": 0,
              "ticks": ""
             }
            },
            "type": "scatterternary"
           }
          ],
          "surface": [
           {
            "colorbar": {
             "outlinewidth": 0,
             "ticks": ""
            },
            "colorscale": [
             [
              0,
              "#0d0887"
             ],
             [
              0.1111111111111111,
              "#46039f"
             ],
             [
              0.2222222222222222,
              "#7201a8"
             ],
             [
              0.3333333333333333,
              "#9c179e"
             ],
             [
              0.4444444444444444,
              "#bd3786"
             ],
             [
              0.5555555555555556,
              "#d8576b"
             ],
             [
              0.6666666666666666,
              "#ed7953"
             ],
             [
              0.7777777777777778,
              "#fb9f3a"
             ],
             [
              0.8888888888888888,
              "#fdca26"
             ],
             [
              1,
              "#f0f921"
             ]
            ],
            "type": "surface"
           }
          ],
          "table": [
           {
            "cells": {
             "fill": {
              "color": "#EBF0F8"
             },
             "line": {
              "color": "white"
             }
            },
            "header": {
             "fill": {
              "color": "#C8D4E3"
             },
             "line": {
              "color": "white"
             }
            },
            "type": "table"
           }
          ]
         },
         "layout": {
          "annotationdefaults": {
           "arrowcolor": "#2a3f5f",
           "arrowhead": 0,
           "arrowwidth": 1
          },
          "autotypenumbers": "strict",
          "coloraxis": {
           "colorbar": {
            "outlinewidth": 0,
            "ticks": ""
           }
          },
          "colorscale": {
           "diverging": [
            [
             0,
             "#8e0152"
            ],
            [
             0.1,
             "#c51b7d"
            ],
            [
             0.2,
             "#de77ae"
            ],
            [
             0.3,
             "#f1b6da"
            ],
            [
             0.4,
             "#fde0ef"
            ],
            [
             0.5,
             "#f7f7f7"
            ],
            [
             0.6,
             "#e6f5d0"
            ],
            [
             0.7,
             "#b8e186"
            ],
            [
             0.8,
             "#7fbc41"
            ],
            [
             0.9,
             "#4d9221"
            ],
            [
             1,
             "#276419"
            ]
           ],
           "sequential": [
            [
             0,
             "#0d0887"
            ],
            [
             0.1111111111111111,
             "#46039f"
            ],
            [
             0.2222222222222222,
             "#7201a8"
            ],
            [
             0.3333333333333333,
             "#9c179e"
            ],
            [
             0.4444444444444444,
             "#bd3786"
            ],
            [
             0.5555555555555556,
             "#d8576b"
            ],
            [
             0.6666666666666666,
             "#ed7953"
            ],
            [
             0.7777777777777778,
             "#fb9f3a"
            ],
            [
             0.8888888888888888,
             "#fdca26"
            ],
            [
             1,
             "#f0f921"
            ]
           ],
           "sequentialminus": [
            [
             0,
             "#0d0887"
            ],
            [
             0.1111111111111111,
             "#46039f"
            ],
            [
             0.2222222222222222,
             "#7201a8"
            ],
            [
             0.3333333333333333,
             "#9c179e"
            ],
            [
             0.4444444444444444,
             "#bd3786"
            ],
            [
             0.5555555555555556,
             "#d8576b"
            ],
            [
             0.6666666666666666,
             "#ed7953"
            ],
            [
             0.7777777777777778,
             "#fb9f3a"
            ],
            [
             0.8888888888888888,
             "#fdca26"
            ],
            [
             1,
             "#f0f921"
            ]
           ]
          },
          "colorway": [
           "#636efa",
           "#EF553B",
           "#00cc96",
           "#ab63fa",
           "#FFA15A",
           "#19d3f3",
           "#FF6692",
           "#B6E880",
           "#FF97FF",
           "#FECB52"
          ],
          "font": {
           "color": "#2a3f5f"
          },
          "geo": {
           "bgcolor": "white",
           "lakecolor": "white",
           "landcolor": "#E5ECF6",
           "showlakes": true,
           "showland": true,
           "subunitcolor": "white"
          },
          "hoverlabel": {
           "align": "left"
          },
          "hovermode": "closest",
          "mapbox": {
           "style": "light"
          },
          "paper_bgcolor": "white",
          "plot_bgcolor": "#E5ECF6",
          "polar": {
           "angularaxis": {
            "gridcolor": "white",
            "linecolor": "white",
            "ticks": ""
           },
           "bgcolor": "#E5ECF6",
           "radialaxis": {
            "gridcolor": "white",
            "linecolor": "white",
            "ticks": ""
           }
          },
          "scene": {
           "xaxis": {
            "backgroundcolor": "#E5ECF6",
            "gridcolor": "white",
            "gridwidth": 2,
            "linecolor": "white",
            "showbackground": true,
            "ticks": "",
            "zerolinecolor": "white"
           },
           "yaxis": {
            "backgroundcolor": "#E5ECF6",
            "gridcolor": "white",
            "gridwidth": 2,
            "linecolor": "white",
            "showbackground": true,
            "ticks": "",
            "zerolinecolor": "white"
           },
           "zaxis": {
            "backgroundcolor": "#E5ECF6",
            "gridcolor": "white",
            "gridwidth": 2,
            "linecolor": "white",
            "showbackground": true,
            "ticks": "",
            "zerolinecolor": "white"
           }
          },
          "shapedefaults": {
           "line": {
            "color": "#2a3f5f"
           }
          },
          "ternary": {
           "aaxis": {
            "gridcolor": "white",
            "linecolor": "white",
            "ticks": ""
           },
           "baxis": {
            "gridcolor": "white",
            "linecolor": "white",
            "ticks": ""
           },
           "bgcolor": "#E5ECF6",
           "caxis": {
            "gridcolor": "white",
            "linecolor": "white",
            "ticks": ""
           }
          },
          "title": {
           "x": 0.05
          },
          "xaxis": {
           "automargin": true,
           "gridcolor": "white",
           "linecolor": "white",
           "ticks": "",
           "title": {
            "standoff": 15
           },
           "zerolinecolor": "white",
           "zerolinewidth": 2
          },
          "yaxis": {
           "automargin": true,
           "gridcolor": "white",
           "linecolor": "white",
           "ticks": "",
           "title": {
            "standoff": 15
           },
           "zerolinecolor": "white",
           "zerolinewidth": 2
          }
         }
        },
        "title": {
         "subtitle": {
          "text": "Qwen 3 32B, Single-Shot & No Thinking"
         },
         "text": "MMLU Pro with Projection Capping"
        },
        "width": 1000,
        "xaxis": {
         "anchor": "y",
         "domain": [
          0,
          1
         ],
         "range": [
          -0.5,
          17.500000000000004
         ],
         "tickfont": {
          "size": 10
         },
         "tickmode": "array",
         "ticktext": [
          "Baseline",
          "All Layers (0-63)",
          "Every 2nd Layer",
          "Every 4th Layer",
          "Layers 32-63",
          "All Layers (0-63)",
          "Layers 0-15",
          "Layers 8-15",
          "Layers 16-23",
          "All Layers (0-63)",
          "Layers 16-23"
         ],
         "tickvals": [
          0,
          1.0999999999999999,
          2.8,
          4.5,
          6.200000000000001,
          7.900000000000002,
          9.600000000000001,
          11.300000000000004,
          13.000000000000004,
          14.700000000000006,
          16.400000000000006
         ],
         "title": {
          "text": "Intervention Layers"
         }
        },
        "yaxis": {
         "anchor": "x",
         "domain": [
          0,
          1
         ],
         "range": [
          0,
          0.8
         ],
         "tickfont": {
          "size": 10
         },
         "title": {
          "text": "Score"
         }
        }
       }
      },
      "text/html": [
       "<div>                            <div id=\"02b263e2-ba22-406f-be20-35b0a82f4c95\" class=\"plotly-graph-div\" style=\"height:550px; width:1000px;\"></div>            <script type=\"text/javascript\">                require([\"plotly\"], function(Plotly) {                    window.PLOTLYENV=window.PLOTLYENV || {};                                    if (document.getElementById(\"02b263e2-ba22-406f-be20-35b0a82f4c95\")) {                    Plotly.newPlot(                        \"02b263e2-ba22-406f-be20-35b0a82f4c95\",                        [{\"customdata\":[[\"Baseline\",\"baseline\"],[\"All Layers (0-63), Safe 99th\",\"jailbreak\"],[\"All Layers (0-63), Safe 50th\",\"jailbreak\"],[\"All Layers (0-63), Harm 99th\",\"jailbreak\"],[\"All Layers (0-63), Harm 75th\",\"jailbreak\"],[\"Every 2nd Layer, Safe 99th\",\"jailbreak\"],[\"Every 2nd Layer, Safe 50th\",\"jailbreak\"],[\"Every 2nd Layer, Harm 99th\",\"jailbreak\"],[\"Every 2nd Layer, Harm 75th\",\"jailbreak\"],[\"Every 4th Layer, Safe 99th\",\"jailbreak\"],[\"Every 4th Layer, Safe 50th\",\"jailbreak\"],[\"Every 4th Layer, Harm 99th\",\"jailbreak\"],[\"Every 4th Layer, Harm 75th\",\"jailbreak\"],[\"Layers 32-63, Safe 99th\",\"jailbreak\"],[\"Layers 32-63, Safe 50th\",\"jailbreak\"],[\"Layers 32-63, Harm 99th\",\"jailbreak\"],[\"Layers 32-63, Harm 75th\",\"jailbreak\"],[\"All Layers (0-63), 1st\",\"role_trait\"],[\"All Layers (0-63), 25th\",\"role_trait\"],[\"All Layers (0-63), 50th\",\"role_trait\"],[\"All Layers (0-63), 75th\",\"role_trait\"],[\"Layers 0-15, 1st\",\"role_trait\"],[\"Layers 0-15, 25th\",\"role_trait\"],[\"Layers 0-15, 50th\",\"role_trait\"],[\"Layers 0-15, 75th\",\"role_trait\"],[\"Layers 8-15, 1st\",\"role_trait\"],[\"Layers 8-15, 25th\",\"role_trait\"],[\"Layers 8-15, 50th\",\"role_trait\"],[\"Layers 8-15, 75th\",\"role_trait\"],[\"Layers 16-23, 1st\",\"role_trait\"],[\"Layers 16-23, 25th\",\"role_trait\"],[\"Layers 16-23, 50th\",\"role_trait\"],[\"Layers 16-23, 75th\",\"role_trait\"],[\"All Layers (0-63), 1st\",\"lmsys_10000\"],[\"All Layers (0-63), 25th\",\"lmsys_10000\"],[\"All Layers (0-63), 50th\",\"lmsys_10000\"],[\"All Layers (0-63), 75th\",\"lmsys_10000\"],[\"Layers 16-23, 1st\",\"lmsys_10000\"],[\"Layers 16-23, 25th\",\"lmsys_10000\"],[\"Layers 16-23, 50th\",\"lmsys_10000\"],[\"Layers 16-23, 75th\",\"lmsys_10000\"]],\"error_y\":{\"array\":[0.012284631986959975,0.012981600603786881,0.012556612678355426,0.012473017672635766,0.012270150213867473,0.012836282580421644,0.012505204029071224,0.012424996583292318,0.012213106362310525,0.012798084658800628,0.012514267264938594,0.012301191633538183,0.012223229470686254,0.012643731473668336,0.012424581801479739,0.01229071343640891,0.012216692589199682,0.01293307703333572,0.012709388294259685,0.012618230799341991,0.012352406318918438,0.012658803665643537,0.012497371399561493,0.012279386940742869,0.012287987641609774,0.012596770338635897,0.012265319156446058,0.012393017764095031,0.01224302964513992,0.01273652739471293,0.012489121219497055,0.012278337662630706,0.01222681272838304,0.012907948361410699,0.012683206985426361,0.012390522441858096,0.01234030122913908,0.012676907294806623,0.01255907500070057,0.012377621929680031,0.012319402451729418],\"thickness\":0.5,\"type\":\"data\",\"visible\":true},\"hovertemplate\":\"%{customdata[0]}\\u003cbr\\u003eConfig: %{customdata[1]}\\u003cbr\\u003eValue: %{y:.1%}\\u003cextra\\u003e\\u003c\\u002fextra\\u003e\",\"marker\":{\"color\":[\"#2ca02c\",\"#d62728\",\"#d62728\",\"#d62728\",\"#d62728\",\"#d62728\",\"#d62728\",\"#d62728\",\"#d62728\",\"#d62728\",\"#d62728\",\"#d62728\",\"#d62728\",\"#d62728\",\"#d62728\",\"#d62728\",\"#d62728\",\"#ff7f0e\",\"#ff7f0e\",\"#ff7f0e\",\"#ff7f0e\",\"#ff7f0e\",\"#ff7f0e\",\"#ff7f0e\",\"#ff7f0e\",\"#ff7f0e\",\"#ff7f0e\",\"#ff7f0e\",\"#ff7f0e\",\"#ff7f0e\",\"#ff7f0e\",\"#ff7f0e\",\"#ff7f0e\",\"#9467bd\",\"#9467bd\",\"#9467bd\",\"#9467bd\",\"#9467bd\",\"#9467bd\",\"#9467bd\",\"#9467bd\"]},\"name\":\"Multiple Choice Exact Match Accuracy\",\"opacity\":0.8,\"showlegend\":false,\"width\":0.35,\"x\":[0.0,0.5,0.8999999999999999,1.2999999999999998,1.6999999999999997,2.1999999999999997,2.5999999999999996,2.9999999999999996,3.3999999999999995,3.8999999999999995,4.3,4.7,5.1000000000000005,5.6000000000000005,6.000000000000001,6.400000000000001,6.800000000000002,7.300000000000002,7.700000000000002,8.100000000000001,8.500000000000002,9.000000000000002,9.400000000000002,9.800000000000002,10.200000000000003,10.700000000000003,11.100000000000003,11.500000000000004,11.900000000000004,12.400000000000004,12.800000000000004,13.200000000000005,13.600000000000005,14.100000000000005,14.500000000000005,14.900000000000006,15.300000000000006,15.800000000000006,16.200000000000006,16.600000000000005,17.000000000000004],\"y\":[0.675,0.59,0.6357142857142857,0.6514285714285715,0.66,0.6114285714285714,0.65,0.6657142857142857,0.6807142857142857,0.6142857142857143,0.6542857142857142,0.67,0.6835714285714286,0.6257142857142857,0.6414285714285715,0.6614285714285715,0.6742857142857143,0.58,0.6407142857142857,0.6435714285714286,0.665,0.6271428571428571,0.6514285714285715,0.6728571428571428,0.6721428571428572,0.6428571428571429,0.6707142857142857,0.6657142857142857,0.6792857142857143,0.6221428571428571,0.6471428571428571,0.6721428571428572,0.6771428571428572,0.5857142857142857,0.6314285714285715,0.6471428571428571,0.6607142857142857,0.635,0.6457142857142857,0.6685714285714286,0.6721428571428572],\"type\":\"bar\",\"xaxis\":\"x\",\"yaxis\":\"y\"},{\"marker\":{\"color\":\"#2ca02c\",\"size\":10},\"mode\":\"markers\",\"name\":\"Baseline\",\"showlegend\":true,\"x\":[null],\"y\":[null],\"type\":\"scatter\",\"xaxis\":\"x\",\"yaxis\":\"y\"},{\"marker\":{\"color\":\"#d62728\",\"size\":10},\"mode\":\"markers\",\"name\":\"Jailbreak Rollouts\",\"showlegend\":true,\"x\":[null],\"y\":[null],\"type\":\"scatter\",\"xaxis\":\"x\",\"yaxis\":\"y\"},{\"marker\":{\"color\":\"#ff7f0e\",\"size\":10},\"mode\":\"markers\",\"name\":\"Role\\u002fTrait Rollouts\",\"showlegend\":true,\"x\":[null],\"y\":[null],\"type\":\"scatter\",\"xaxis\":\"x\",\"yaxis\":\"y\"},{\"marker\":{\"color\":\"#9467bd\",\"size\":10},\"mode\":\"markers\",\"name\":\"LMSYS-10K Rollouts\",\"showlegend\":true,\"x\":[null],\"y\":[null],\"type\":\"scatter\",\"xaxis\":\"x\",\"yaxis\":\"y\"}],                        {\"template\":{\"data\":{\"histogram2dcontour\":[{\"type\":\"histogram2dcontour\",\"colorbar\":{\"outlinewidth\":0,\"ticks\":\"\"},\"colorscale\":[[0.0,\"#0d0887\"],[0.1111111111111111,\"#46039f\"],[0.2222222222222222,\"#7201a8\"],[0.3333333333333333,\"#9c179e\"],[0.4444444444444444,\"#bd3786\"],[0.5555555555555556,\"#d8576b\"],[0.6666666666666666,\"#ed7953\"],[0.7777777777777778,\"#fb9f3a\"],[0.8888888888888888,\"#fdca26\"],[1.0,\"#f0f921\"]]}],\"choropleth\":[{\"type\":\"choropleth\",\"colorbar\":{\"outlinewidth\":0,\"ticks\":\"\"}}],\"histogram2d\":[{\"type\":\"histogram2d\",\"colorbar\":{\"outlinewidth\":0,\"ticks\":\"\"},\"colorscale\":[[0.0,\"#0d0887\"],[0.1111111111111111,\"#46039f\"],[0.2222222222222222,\"#7201a8\"],[0.3333333333333333,\"#9c179e\"],[0.4444444444444444,\"#bd3786\"],[0.5555555555555556,\"#d8576b\"],[0.6666666666666666,\"#ed7953\"],[0.7777777777777778,\"#fb9f3a\"],[0.8888888888888888,\"#fdca26\"],[1.0,\"#f0f921\"]]}],\"heatmap\":[{\"type\":\"heatmap\",\"colorbar\":{\"outlinewidth\":0,\"ticks\":\"\"},\"colorscale\":[[0.0,\"#0d0887\"],[0.1111111111111111,\"#46039f\"],[0.2222222222222222,\"#7201a8\"],[0.3333333333333333,\"#9c179e\"],[0.4444444444444444,\"#bd3786\"],[0.5555555555555556,\"#d8576b\"],[0.6666666666666666,\"#ed7953\"],[0.7777777777777778,\"#fb9f3a\"],[0.8888888888888888,\"#fdca26\"],[1.0,\"#f0f921\"]]}],\"heatmapgl\":[{\"type\":\"heatmapgl\",\"colorbar\":{\"outlinewidth\":0,\"ticks\":\"\"},\"colorscale\":[[0.0,\"#0d0887\"],[0.1111111111111111,\"#46039f\"],[0.2222222222222222,\"#7201a8\"],[0.3333333333333333,\"#9c179e\"],[0.4444444444444444,\"#bd3786\"],[0.5555555555555556,\"#d8576b\"],[0.6666666666666666,\"#ed7953\"],[0.7777777777777778,\"#fb9f3a\"],[0.8888888888888888,\"#fdca26\"],[1.0,\"#f0f921\"]]}],\"contourcarpet\":[{\"type\":\"contourcarpet\",\"colorbar\":{\"outlinewidth\":0,\"ticks\":\"\"}}],\"contour\":[{\"type\":\"contour\",\"colorbar\":{\"outlinewidth\":0,\"ticks\":\"\"},\"colorscale\":[[0.0,\"#0d0887\"],[0.1111111111111111,\"#46039f\"],[0.2222222222222222,\"#7201a8\"],[0.3333333333333333,\"#9c179e\"],[0.4444444444444444,\"#bd3786\"],[0.5555555555555556,\"#d8576b\"],[0.6666666666666666,\"#ed7953\"],[0.7777777777777778,\"#fb9f3a\"],[0.8888888888888888,\"#fdca26\"],[1.0,\"#f0f921\"]]}],\"surface\":[{\"type\":\"surface\",\"colorbar\":{\"outlinewidth\":0,\"ticks\":\"\"},\"colorscale\":[[0.0,\"#0d0887\"],[0.1111111111111111,\"#46039f\"],[0.2222222222222222,\"#7201a8\"],[0.3333333333333333,\"#9c179e\"],[0.4444444444444444,\"#bd3786\"],[0.5555555555555556,\"#d8576b\"],[0.6666666666666666,\"#ed7953\"],[0.7777777777777778,\"#fb9f3a\"],[0.8888888888888888,\"#fdca26\"],[1.0,\"#f0f921\"]]}],\"mesh3d\":[{\"type\":\"mesh3d\",\"colorbar\":{\"outlinewidth\":0,\"ticks\":\"\"}}],\"scatter\":[{\"fillpattern\":{\"fillmode\":\"overlay\",\"size\":10,\"solidity\":0.2},\"type\":\"scatter\"}],\"parcoords\":[{\"type\":\"parcoords\",\"line\":{\"colorbar\":{\"outlinewidth\":0,\"ticks\":\"\"}}}],\"scatterpolargl\":[{\"type\":\"scatterpolargl\",\"marker\":{\"colorbar\":{\"outlinewidth\":0,\"ticks\":\"\"}}}],\"bar\":[{\"error_x\":{\"color\":\"#2a3f5f\"},\"error_y\":{\"color\":\"#2a3f5f\"},\"marker\":{\"line\":{\"color\":\"#E5ECF6\",\"width\":0.5},\"pattern\":{\"fillmode\":\"overlay\",\"size\":10,\"solidity\":0.2}},\"type\":\"bar\"}],\"scattergeo\":[{\"type\":\"scattergeo\",\"marker\":{\"colorbar\":{\"outlinewidth\":0,\"ticks\":\"\"}}}],\"scatterpolar\":[{\"type\":\"scatterpolar\",\"marker\":{\"colorbar\":{\"outlinewidth\":0,\"ticks\":\"\"}}}],\"histogram\":[{\"marker\":{\"pattern\":{\"fillmode\":\"overlay\",\"size\":10,\"solidity\":0.2}},\"type\":\"histogram\"}],\"scattergl\":[{\"type\":\"scattergl\",\"marker\":{\"colorbar\":{\"outlinewidth\":0,\"ticks\":\"\"}}}],\"scatter3d\":[{\"type\":\"scatter3d\",\"line\":{\"colorbar\":{\"outlinewidth\":0,\"ticks\":\"\"}},\"marker\":{\"colorbar\":{\"outlinewidth\":0,\"ticks\":\"\"}}}],\"scattermapbox\":[{\"type\":\"scattermapbox\",\"marker\":{\"colorbar\":{\"outlinewidth\":0,\"ticks\":\"\"}}}],\"scatterternary\":[{\"type\":\"scatterternary\",\"marker\":{\"colorbar\":{\"outlinewidth\":0,\"ticks\":\"\"}}}],\"scattercarpet\":[{\"type\":\"scattercarpet\",\"marker\":{\"colorbar\":{\"outlinewidth\":0,\"ticks\":\"\"}}}],\"carpet\":[{\"aaxis\":{\"endlinecolor\":\"#2a3f5f\",\"gridcolor\":\"white\",\"linecolor\":\"white\",\"minorgridcolor\":\"white\",\"startlinecolor\":\"#2a3f5f\"},\"baxis\":{\"endlinecolor\":\"#2a3f5f\",\"gridcolor\":\"white\",\"linecolor\":\"white\",\"minorgridcolor\":\"white\",\"startlinecolor\":\"#2a3f5f\"},\"type\":\"carpet\"}],\"table\":[{\"cells\":{\"fill\":{\"color\":\"#EBF0F8\"},\"line\":{\"color\":\"white\"}},\"header\":{\"fill\":{\"color\":\"#C8D4E3\"},\"line\":{\"color\":\"white\"}},\"type\":\"table\"}],\"barpolar\":[{\"marker\":{\"line\":{\"color\":\"#E5ECF6\",\"width\":0.5},\"pattern\":{\"fillmode\":\"overlay\",\"size\":10,\"solidity\":0.2}},\"type\":\"barpolar\"}],\"pie\":[{\"automargin\":true,\"type\":\"pie\"}]},\"layout\":{\"autotypenumbers\":\"strict\",\"colorway\":[\"#636efa\",\"#EF553B\",\"#00cc96\",\"#ab63fa\",\"#FFA15A\",\"#19d3f3\",\"#FF6692\",\"#B6E880\",\"#FF97FF\",\"#FECB52\"],\"font\":{\"color\":\"#2a3f5f\"},\"hovermode\":\"closest\",\"hoverlabel\":{\"align\":\"left\"},\"paper_bgcolor\":\"white\",\"plot_bgcolor\":\"#E5ECF6\",\"polar\":{\"bgcolor\":\"#E5ECF6\",\"angularaxis\":{\"gridcolor\":\"white\",\"linecolor\":\"white\",\"ticks\":\"\"},\"radialaxis\":{\"gridcolor\":\"white\",\"linecolor\":\"white\",\"ticks\":\"\"}},\"ternary\":{\"bgcolor\":\"#E5ECF6\",\"aaxis\":{\"gridcolor\":\"white\",\"linecolor\":\"white\",\"ticks\":\"\"},\"baxis\":{\"gridcolor\":\"white\",\"linecolor\":\"white\",\"ticks\":\"\"},\"caxis\":{\"gridcolor\":\"white\",\"linecolor\":\"white\",\"ticks\":\"\"}},\"coloraxis\":{\"colorbar\":{\"outlinewidth\":0,\"ticks\":\"\"}},\"colorscale\":{\"sequential\":[[0.0,\"#0d0887\"],[0.1111111111111111,\"#46039f\"],[0.2222222222222222,\"#7201a8\"],[0.3333333333333333,\"#9c179e\"],[0.4444444444444444,\"#bd3786\"],[0.5555555555555556,\"#d8576b\"],[0.6666666666666666,\"#ed7953\"],[0.7777777777777778,\"#fb9f3a\"],[0.8888888888888888,\"#fdca26\"],[1.0,\"#f0f921\"]],\"sequentialminus\":[[0.0,\"#0d0887\"],[0.1111111111111111,\"#46039f\"],[0.2222222222222222,\"#7201a8\"],[0.3333333333333333,\"#9c179e\"],[0.4444444444444444,\"#bd3786\"],[0.5555555555555556,\"#d8576b\"],[0.6666666666666666,\"#ed7953\"],[0.7777777777777778,\"#fb9f3a\"],[0.8888888888888888,\"#fdca26\"],[1.0,\"#f0f921\"]],\"diverging\":[[0,\"#8e0152\"],[0.1,\"#c51b7d\"],[0.2,\"#de77ae\"],[0.3,\"#f1b6da\"],[0.4,\"#fde0ef\"],[0.5,\"#f7f7f7\"],[0.6,\"#e6f5d0\"],[0.7,\"#b8e186\"],[0.8,\"#7fbc41\"],[0.9,\"#4d9221\"],[1,\"#276419\"]]},\"xaxis\":{\"gridcolor\":\"white\",\"linecolor\":\"white\",\"ticks\":\"\",\"title\":{\"standoff\":15},\"zerolinecolor\":\"white\",\"automargin\":true,\"zerolinewidth\":2},\"yaxis\":{\"gridcolor\":\"white\",\"linecolor\":\"white\",\"ticks\":\"\",\"title\":{\"standoff\":15},\"zerolinecolor\":\"white\",\"automargin\":true,\"zerolinewidth\":2},\"scene\":{\"xaxis\":{\"backgroundcolor\":\"#E5ECF6\",\"gridcolor\":\"white\",\"linecolor\":\"white\",\"showbackground\":true,\"ticks\":\"\",\"zerolinecolor\":\"white\",\"gridwidth\":2},\"yaxis\":{\"backgroundcolor\":\"#E5ECF6\",\"gridcolor\":\"white\",\"linecolor\":\"white\",\"showbackground\":true,\"ticks\":\"\",\"zerolinecolor\":\"white\",\"gridwidth\":2},\"zaxis\":{\"backgroundcolor\":\"#E5ECF6\",\"gridcolor\":\"white\",\"linecolor\":\"white\",\"showbackground\":true,\"ticks\":\"\",\"zerolinecolor\":\"white\",\"gridwidth\":2}},\"shapedefaults\":{\"line\":{\"color\":\"#2a3f5f\"}},\"annotationdefaults\":{\"arrowcolor\":\"#2a3f5f\",\"arrowhead\":0,\"arrowwidth\":1},\"geo\":{\"bgcolor\":\"white\",\"landcolor\":\"#E5ECF6\",\"subunitcolor\":\"white\",\"showland\":true,\"showlakes\":true,\"lakecolor\":\"white\"},\"title\":{\"x\":0.05},\"mapbox\":{\"style\":\"light\"}}},\"xaxis\":{\"anchor\":\"y\",\"domain\":[0.0,1.0],\"title\":{\"text\":\"Intervention Layers\"},\"tickfont\":{\"size\":10},\"tickmode\":\"array\",\"tickvals\":[0.0,1.0999999999999999,2.8,4.5,6.200000000000001,7.900000000000002,9.600000000000001,11.300000000000004,13.000000000000004,14.700000000000006,16.400000000000006],\"ticktext\":[\"Baseline\",\"All Layers (0-63)\",\"Every 2nd Layer\",\"Every 4th Layer\",\"Layers 32-63\",\"All Layers (0-63)\",\"Layers 0-15\",\"Layers 8-15\",\"Layers 16-23\",\"All Layers (0-63)\",\"Layers 16-23\"],\"range\":[-0.5,17.500000000000004]},\"yaxis\":{\"anchor\":\"x\",\"domain\":[0.0,1.0],\"title\":{\"text\":\"Score\"},\"tickfont\":{\"size\":10},\"range\":[0,0.8]},\"annotations\":[{\"font\":{\"size\":16},\"showarrow\":false,\"text\":\"Multiple Choice Exact Match Accuracy\",\"x\":0.5,\"xanchor\":\"center\",\"xref\":\"paper\",\"y\":1.0,\"yanchor\":\"bottom\",\"yref\":\"paper\"},{\"showarrow\":false,\"text\":\"\\u003cspan style='font-size:10px'\\u003eProjection caps in each bar group\\u003cbr\\u003e(L-R) strict to relaxed\\u003c\\u002fspan\\u003e\",\"x\":1,\"xanchor\":\"right\",\"xref\":\"paper\",\"y\":1,\"yanchor\":\"top\",\"yref\":\"paper\"}],\"shapes\":[{\"line\":{\"color\":\"green\",\"dash\":\"dot\",\"width\":1},\"opacity\":0.8,\"type\":\"line\",\"x0\":0,\"x1\":1,\"xref\":\"x domain\",\"y0\":0.675,\"y1\":0.675,\"yref\":\"y\"}],\"legend\":{\"x\":1.0,\"y\":1.08,\"xanchor\":\"right\",\"yanchor\":\"bottom\",\"orientation\":\"h\"},\"title\":{\"subtitle\":{\"text\":\"Qwen 3 32B, Single-Shot & No Thinking\"},\"text\":\"MMLU Pro with Projection Capping\"},\"margin\":{\"b\":100,\"t\":150},\"height\":550,\"width\":1000},                        {\"responsive\": true}                    ).then(function(){\n",
       "                            \n",
       "var gd = document.getElementById('02b263e2-ba22-406f-be20-35b0a82f4c95');\n",
       "var x = new MutationObserver(function (mutations, observer) {{\n",
       "        var display = window.getComputedStyle(gd).display;\n",
       "        if (!display || display === 'none') {{\n",
       "            console.log([gd, 'removed!']);\n",
       "            Plotly.purge(gd);\n",
       "            observer.disconnect();\n",
       "        }}\n",
       "}});\n",
       "\n",
       "// Listen for the removal of the full notebook cells\n",
       "var notebookContainer = gd.closest('#notebook-container');\n",
       "if (notebookContainer) {{\n",
       "    x.observe(notebookContainer, {childList: true});\n",
       "}}\n",
       "\n",
       "// Listen for the clearing of the current output cell\n",
       "var outputEl = gd.closest('.output');\n",
       "if (outputEl) {{\n",
       "    x.observe(outputEl, {childList: true});\n",
       "}}\n",
       "\n",
       "                        })                };                });            </script>        </div>"
      ]
     },
     "metadata": {},
     "output_type": "display_data"
    }
   ],
   "source": [
    "df_mmlu_plot = df_mmlu[~((df_mmlu['config_name'] == 'baseline') & (df_mmlu['thinking'] == True)) & ~((df_mmlu['config_name'] == 'baseline') & (df_mmlu['apply_chat_template'] == False))]\n",
    "\n",
    "fig_mmlu = plot_benchmark_results(df_mmlu_plot, 'mmlu_pro', \n",
    "                                  title=\"MMLU Pro with Projection Capping\", \n",
    "                                  subtitle=subtitle,\n",
    "                                  total_layers=total_layers)\n",
    "fig_mmlu.show()"
   ]
  },
  {
   "cell_type": "markdown",
   "id": "scbp71dwecc",
   "metadata": {},
   "source": [
    "## EQ-Bench"
   ]
  },
  {
   "cell_type": "code",
   "execution_count": 65,
   "id": "0mre6lbmciw",
   "metadata": {},
   "outputs": [
    {
     "name": "stdout",
     "output_type": "stream",
     "text": [
      "Loaded 89 EQ-Bench experiment runs\n",
      "\n",
      "Config breakdown:\n",
      "  baseline: 1 unique experiments\n",
      "    - baseline (1 run)\n",
      "  role_trait: 36 unique experiments\n",
      "    - layers_0:16-p0.01 (1 run)\n",
      "    - layers_0:16-p0.25 (1 run)\n",
      "    - layers_0:16-p0.5 (1 run)\n",
      "    - layers_0:16-p0.75 (1 run)\n",
      "    - layers_0:64-p0.01 (1 run)\n",
      "    - layers_0:64-p0.25 (1 run)\n",
      "    - layers_0:64-p0.5 (1 run)\n",
      "    - layers_0:64-p0.75 (1 run)\n",
      "    - layers_16:24-p0.01 (1 run)\n",
      "    - layers_16:24-p0.25 (1 run)\n",
      "    - layers_16:24-p0.5 (1 run)\n",
      "    - layers_16:24-p0.75 (1 run)\n",
      "    - layers_24:32-p0.01 (1 run)\n",
      "    - layers_24:32-p0.25 (1 run)\n",
      "    - layers_24:32-p0.5 (1 run)\n",
      "    - layers_24:32-p0.75 (1 run)\n",
      "    - layers_32:40-p0.01 (1 run)\n",
      "    - layers_32:40-p0.25 (1 run)\n",
      "    - layers_32:40-p0.5 (1 run)\n",
      "    - layers_32:40-p0.75 (1 run)\n",
      "    - layers_40:48-p0.01 (1 run)\n",
      "    - layers_40:48-p0.25 (1 run)\n",
      "    - layers_40:48-p0.5 (1 run)\n",
      "    - layers_40:48-p0.75 (1 run)\n",
      "    - layers_48:56-p0.01 (1 run)\n",
      "    - layers_48:56-p0.25 (1 run)\n",
      "    - layers_48:56-p0.5 (1 run)\n",
      "    - layers_48:56-p0.75 (1 run)\n",
      "    - layers_56:64-p0.01 (1 run)\n",
      "    - layers_56:64-p0.25 (1 run)\n",
      "    - layers_56:64-p0.5 (1 run)\n",
      "    - layers_56:64-p0.75 (1 run)\n",
      "    - layers_8:16-p0.01 (1 run)\n",
      "    - layers_8:16-p0.25 (1 run)\n",
      "    - layers_8:16-p0.5 (1 run)\n",
      "    - layers_8:16-p0.75 (1 run)\n",
      "  jailbreak: 16 unique experiments\n",
      "    - layers_0:64-harm_0.01 (1 run)\n",
      "    - layers_0:64-harm_0.25 (1 run)\n",
      "    - layers_0:64-safe_0.01 (1 run)\n",
      "    - layers_0:64-safe_0.50 (1 run)\n",
      "    - layers_2:64:2-harm_0.01 (1 run)\n",
      "    - layers_2:64:2-harm_0.25 (1 run)\n",
      "    - layers_2:64:2-safe_0.01 (1 run)\n",
      "    - layers_2:64:2-safe_0.50 (1 run)\n",
      "    - layers_32:64-harm_0.01 (1 run)\n",
      "    - layers_32:64-harm_0.25 (1 run)\n",
      "    - layers_32:64-safe_0.01 (1 run)\n",
      "    - layers_32:64-safe_0.50 (1 run)\n",
      "    - layers_4:64:4-harm_0.01 (1 run)\n",
      "    - layers_4:64:4-harm_0.25 (1 run)\n",
      "    - layers_4:64:4-safe_0.01 (1 run)\n",
      "    - layers_4:64:4-safe_0.50 (1 run)\n",
      "  lmsys_10000: 36 unique experiments\n",
      "    - layers_0:16-p0.01 (1 run)\n",
      "    - layers_0:16-p0.25 (1 run)\n",
      "    - layers_0:16-p0.5 (1 run)\n",
      "    - layers_0:16-p0.75 (1 run)\n",
      "    - layers_0:64-p0.01 (1 run)\n",
      "    - layers_0:64-p0.25 (1 run)\n",
      "    - layers_0:64-p0.5 (1 run)\n",
      "    - layers_0:64-p0.75 (1 run)\n",
      "    - layers_16:24-p0.01 (1 run)\n",
      "    - layers_16:24-p0.25 (1 run)\n",
      "    - layers_16:24-p0.5 (1 run)\n",
      "    - layers_16:24-p0.75 (1 run)\n",
      "    - layers_24:32-p0.01 (1 run)\n",
      "    - layers_24:32-p0.25 (1 run)\n",
      "    - layers_24:32-p0.5 (1 run)\n",
      "    - layers_24:32-p0.75 (1 run)\n",
      "    - layers_32:40-p0.01 (1 run)\n",
      "    - layers_32:40-p0.25 (1 run)\n",
      "    - layers_32:40-p0.5 (1 run)\n",
      "    - layers_32:40-p0.75 (1 run)\n",
      "    - layers_40:48-p0.01 (1 run)\n",
      "    - layers_40:48-p0.25 (1 run)\n",
      "    - layers_40:48-p0.5 (1 run)\n",
      "    - layers_40:48-p0.75 (1 run)\n",
      "    - layers_48:56-p0.01 (1 run)\n",
      "    - layers_48:56-p0.25 (1 run)\n",
      "    - layers_48:56-p0.5 (1 run)\n",
      "    - layers_48:56-p0.75 (1 run)\n",
      "    - layers_56:64-p0.01 (1 run)\n",
      "    - layers_56:64-p0.25 (1 run)\n",
      "    - layers_56:64-p0.5 (1 run)\n",
      "    - layers_56:64-p0.75 (1 run)\n",
      "    - layers_8:16-p0.01 (1 run)\n",
      "    - layers_8:16-p0.25 (1 run)\n",
      "    - layers_8:16-p0.5 (1 run)\n",
      "    - layers_8:16-p0.75 (1 run)\n"
     ]
    }
   ],
   "source": [
    "# Load EQ-Bench data\n",
    "df_eq = load_experiment_data([\"eq_bench\"], config_names, base_dir)\n",
    "print(f\"Loaded {len(df_eq)} EQ-Bench experiment runs\")\n",
    "print(f\"\\nConfig breakdown:\")\n",
    "for config in df_eq['config_name'].unique():\n",
    "    config_df = df_eq[df_eq['config_name'] == config]\n",
    "    unique_exps = config_df['experiment_id'].unique()\n",
    "    print(f\"  {config}: {len(unique_exps)} unique experiments\")\n",
    "    for exp in sorted(unique_exps):\n",
    "        exp_count = len(config_df[config_df['experiment_id'] == exp])\n",
    "        print(f\"    - {exp} ({exp_count} run{'s' if exp_count > 1 else ''})\")"
   ]
  },
  {
   "cell_type": "code",
   "execution_count": 66,
   "id": "a5050c83",
   "metadata": {},
   "outputs": [
    {
     "data": {
      "text/html": [
       "<div>\n",
       "<style scoped>\n",
       "    .dataframe tbody tr th:only-of-type {\n",
       "        vertical-align: middle;\n",
       "    }\n",
       "\n",
       "    .dataframe tbody tr th {\n",
       "        vertical-align: top;\n",
       "    }\n",
       "\n",
       "    .dataframe thead th {\n",
       "        text-align: right;\n",
       "    }\n",
       "</style>\n",
       "<table border=\"1\" class=\"dataframe\">\n",
       "  <thead>\n",
       "    <tr style=\"text-align: right;\">\n",
       "      <th></th>\n",
       "      <th>experiment_id</th>\n",
       "      <th>config_name</th>\n",
       "      <th>thinking</th>\n",
       "      <th>apply_chat_template</th>\n",
       "      <th>eqbench,none</th>\n",
       "    </tr>\n",
       "  </thead>\n",
       "  <tbody>\n",
       "    <tr>\n",
       "      <th>0</th>\n",
       "      <td>baseline</td>\n",
       "      <td>baseline</td>\n",
       "      <td>False</td>\n",
       "      <td>True</td>\n",
       "      <td>82.294152</td>\n",
       "    </tr>\n",
       "    <tr>\n",
       "      <th>1</th>\n",
       "      <td>layers_56:64-p0.75</td>\n",
       "      <td>role_trait</td>\n",
       "      <td>False</td>\n",
       "      <td>True</td>\n",
       "      <td>82.588051</td>\n",
       "    </tr>\n",
       "    <tr>\n",
       "      <th>2</th>\n",
       "      <td>layers_56:64-p0.5</td>\n",
       "      <td>role_trait</td>\n",
       "      <td>False</td>\n",
       "      <td>True</td>\n",
       "      <td>82.533942</td>\n",
       "    </tr>\n",
       "    <tr>\n",
       "      <th>3</th>\n",
       "      <td>layers_56:64-p0.25</td>\n",
       "      <td>role_trait</td>\n",
       "      <td>False</td>\n",
       "      <td>True</td>\n",
       "      <td>82.549600</td>\n",
       "    </tr>\n",
       "    <tr>\n",
       "      <th>4</th>\n",
       "      <td>layers_56:64-p0.01</td>\n",
       "      <td>role_trait</td>\n",
       "      <td>False</td>\n",
       "      <td>True</td>\n",
       "      <td>82.555430</td>\n",
       "    </tr>\n",
       "  </tbody>\n",
       "</table>\n",
       "</div>"
      ],
      "text/plain": [
       "        experiment_id config_name  thinking  apply_chat_template  eqbench,none\n",
       "0            baseline    baseline     False                 True     82.294152\n",
       "1  layers_56:64-p0.75  role_trait     False                 True     82.588051\n",
       "2   layers_56:64-p0.5  role_trait     False                 True     82.533942\n",
       "3  layers_56:64-p0.25  role_trait     False                 True     82.549600\n",
       "4  layers_56:64-p0.01  role_trait     False                 True     82.555430"
      ]
     },
     "execution_count": 66,
     "metadata": {},
     "output_type": "execute_result"
    }
   ],
   "source": [
    "df_eq[['experiment_id', 'config_name', 'thinking', 'apply_chat_template', 'eqbench,none']].head(5)"
   ]
  },
  {
   "cell_type": "code",
   "execution_count": 71,
   "id": "d83b0c85",
   "metadata": {},
   "outputs": [
    {
     "data": {
      "application/vnd.plotly.v1+json": {
       "config": {
        "plotlyServerURL": "https://plot.ly"
       },
       "data": [
        {
         "customdata": [
          [
           "Baseline",
           "baseline"
          ],
          [
           "All Layers (0-63), Safe 99th",
           "jailbreak"
          ],
          [
           "All Layers (0-63), Safe 50th",
           "jailbreak"
          ],
          [
           "All Layers (0-63), Harm 99th",
           "jailbreak"
          ],
          [
           "All Layers (0-63), Harm 75th",
           "jailbreak"
          ],
          [
           "Every 2nd Layer, Safe 99th",
           "jailbreak"
          ],
          [
           "Every 2nd Layer, Safe 50th",
           "jailbreak"
          ],
          [
           "Every 2nd Layer, Harm 99th",
           "jailbreak"
          ],
          [
           "Every 2nd Layer, Harm 75th",
           "jailbreak"
          ],
          [
           "Every 4th Layer, Safe 99th",
           "jailbreak"
          ],
          [
           "Every 4th Layer, Safe 50th",
           "jailbreak"
          ],
          [
           "Every 4th Layer, Harm 99th",
           "jailbreak"
          ],
          [
           "Every 4th Layer, Harm 75th",
           "jailbreak"
          ],
          [
           "Layers 32-63, Safe 99th",
           "jailbreak"
          ],
          [
           "Layers 32-63, Safe 50th",
           "jailbreak"
          ],
          [
           "Layers 32-63, Harm 99th",
           "jailbreak"
          ],
          [
           "Layers 32-63, Harm 75th",
           "jailbreak"
          ],
          [
           "All Layers (0-63), 1st",
           "role_trait"
          ],
          [
           "All Layers (0-63), 25th",
           "role_trait"
          ],
          [
           "All Layers (0-63), 50th",
           "role_trait"
          ],
          [
           "All Layers (0-63), 75th",
           "role_trait"
          ],
          [
           "Layers 0-15, 1st",
           "role_trait"
          ],
          [
           "Layers 0-15, 25th",
           "role_trait"
          ],
          [
           "Layers 0-15, 50th",
           "role_trait"
          ],
          [
           "Layers 0-15, 75th",
           "role_trait"
          ],
          [
           "Layers 8-15, 1st",
           "role_trait"
          ],
          [
           "Layers 8-15, 25th",
           "role_trait"
          ],
          [
           "Layers 8-15, 50th",
           "role_trait"
          ],
          [
           "Layers 8-15, 75th",
           "role_trait"
          ],
          [
           "Layers 16-23, 1st",
           "role_trait"
          ],
          [
           "Layers 16-23, 25th",
           "role_trait"
          ],
          [
           "Layers 16-23, 50th",
           "role_trait"
          ],
          [
           "Layers 16-23, 75th",
           "role_trait"
          ],
          [
           "Layers 24-31, 1st",
           "role_trait"
          ],
          [
           "Layers 24-31, 25th",
           "role_trait"
          ],
          [
           "Layers 24-31, 50th",
           "role_trait"
          ],
          [
           "Layers 24-31, 75th",
           "role_trait"
          ],
          [
           "Layers 32-39, 1st",
           "role_trait"
          ],
          [
           "Layers 32-39, 25th",
           "role_trait"
          ],
          [
           "Layers 32-39, 50th",
           "role_trait"
          ],
          [
           "Layers 32-39, 75th",
           "role_trait"
          ],
          [
           "Layers 40-47, 1st",
           "role_trait"
          ],
          [
           "Layers 40-47, 25th",
           "role_trait"
          ],
          [
           "Layers 40-47, 50th",
           "role_trait"
          ],
          [
           "Layers 40-47, 75th",
           "role_trait"
          ],
          [
           "Layers 48-55, 1st",
           "role_trait"
          ],
          [
           "Layers 48-55, 25th",
           "role_trait"
          ],
          [
           "Layers 48-55, 50th",
           "role_trait"
          ],
          [
           "Layers 48-55, 75th",
           "role_trait"
          ],
          [
           "Layers 56-63, 1st",
           "role_trait"
          ],
          [
           "Layers 56-63, 25th",
           "role_trait"
          ],
          [
           "Layers 56-63, 50th",
           "role_trait"
          ],
          [
           "Layers 56-63, 75th",
           "role_trait"
          ],
          [
           "All Layers (0-63), 1st",
           "lmsys_10000"
          ],
          [
           "All Layers (0-63), 25th",
           "lmsys_10000"
          ],
          [
           "All Layers (0-63), 50th",
           "lmsys_10000"
          ],
          [
           "All Layers (0-63), 75th",
           "lmsys_10000"
          ],
          [
           "Layers 0-15, 1st",
           "lmsys_10000"
          ],
          [
           "Layers 0-15, 25th",
           "lmsys_10000"
          ],
          [
           "Layers 0-15, 50th",
           "lmsys_10000"
          ],
          [
           "Layers 0-15, 75th",
           "lmsys_10000"
          ],
          [
           "Layers 8-15, 1st",
           "lmsys_10000"
          ],
          [
           "Layers 8-15, 25th",
           "lmsys_10000"
          ],
          [
           "Layers 8-15, 50th",
           "lmsys_10000"
          ],
          [
           "Layers 8-15, 75th",
           "lmsys_10000"
          ],
          [
           "Layers 16-23, 1st",
           "lmsys_10000"
          ],
          [
           "Layers 16-23, 25th",
           "lmsys_10000"
          ],
          [
           "Layers 16-23, 50th",
           "lmsys_10000"
          ],
          [
           "Layers 16-23, 75th",
           "lmsys_10000"
          ],
          [
           "Layers 24-31, 1st",
           "lmsys_10000"
          ],
          [
           "Layers 24-31, 25th",
           "lmsys_10000"
          ],
          [
           "Layers 24-31, 50th",
           "lmsys_10000"
          ],
          [
           "Layers 24-31, 75th",
           "lmsys_10000"
          ],
          [
           "Layers 32-39, 1st",
           "lmsys_10000"
          ],
          [
           "Layers 32-39, 25th",
           "lmsys_10000"
          ],
          [
           "Layers 32-39, 50th",
           "lmsys_10000"
          ],
          [
           "Layers 32-39, 75th",
           "lmsys_10000"
          ],
          [
           "Layers 40-47, 1st",
           "lmsys_10000"
          ],
          [
           "Layers 40-47, 25th",
           "lmsys_10000"
          ],
          [
           "Layers 40-47, 50th",
           "lmsys_10000"
          ],
          [
           "Layers 40-47, 75th",
           "lmsys_10000"
          ],
          [
           "Layers 48-55, 1st",
           "lmsys_10000"
          ],
          [
           "Layers 48-55, 25th",
           "lmsys_10000"
          ],
          [
           "Layers 48-55, 50th",
           "lmsys_10000"
          ],
          [
           "Layers 48-55, 75th",
           "lmsys_10000"
          ],
          [
           "Layers 56-63, 1st",
           "lmsys_10000"
          ],
          [
           "Layers 56-63, 25th",
           "lmsys_10000"
          ],
          [
           "Layers 56-63, 50th",
           "lmsys_10000"
          ],
          [
           "Layers 56-63, 75th",
           "lmsys_10000"
          ]
         ],
         "error_y": {
          "array": [
           1.3132425024008552,
           1.7786270569182492,
           1.474145547932549,
           1.3361889155124886,
           1.384719552430742,
           1.5210209227490439,
           1.4005479658927786,
           1.4086300142359727,
           1.3507447187577237,
           1.5465676701665176,
           1.5145435123180446,
           1.4137065028355609,
           1.3091398605457347,
           2.3389848661563564,
           1.5827659454809353,
           1.4883548093442671,
           1.4308113790984387,
           1.6245652978872507,
           1.4813933837759643,
           1.3177450338100434,
           1.315776723208385,
           1.4278312696882047,
           1.416610479747719,
           1.3287444257380803,
           1.3250761287879016,
           1.4017702657248952,
           1.4141435828246438,
           1.3840910156778228,
           1.31084820081718,
           1.355889223473992,
           1.391186300163241,
           1.32110358850417,
           1.3263234795093894,
           1.4179225063999217,
           1.338427421112702,
           1.2704319234600625,
           1.296355934493633,
           1.5116046305054394,
           1.3699398295311376,
           1.3884283566358822,
           1.3583751795399903,
           1.548375853534399,
           1.4120583706212972,
           1.2918911206554347,
           1.3200625504897567,
           1.2732013581009878,
           1.252535898723424,
           1.2851296433342005,
           1.2911408893386305,
           1.289691269343878,
           1.3097309412889628,
           1.30804631241347,
           1.3144616001879397,
           2.342314762893232,
           1.4198148609278476,
           1.3133705798834767,
           1.3018640508436596,
           1.4025092754156125,
           1.442077621396517,
           1.2984231025646327,
           1.3279222463925038,
           1.3675283721025522,
           1.4201399024780295,
           1.3883778551073624,
           1.3309164008843002,
           1.3578295341417044,
           1.346230133834582,
           1.3253332335542418,
           1.3324550921341618,
           1.5158044643179487,
           1.3118280125539472,
           1.2753704597468776,
           1.2983584241114425,
           1.4638192787858215,
           1.3710791281658659,
           1.3804010772770439,
           1.360914632745081,
           1.5250415888815219,
           1.3514469664367057,
           1.3163086174384266,
           1.3090549244164373,
           1.2685999002104063,
           1.283851594109796,
           1.2879850578766867,
           1.2931329691251263,
           3.2474328556384986,
           2.307929905152533,
           1.5606410778161397,
           1.3170641582127127
          ],
          "thickness": 0.5,
          "type": "data",
          "visible": true
         },
         "hovertemplate": "%{customdata[0]}<br>Config: %{customdata[1]}<br>Value: %{y:.1%}<extra></extra>",
         "marker": {
          "color": [
           "#2ca02c",
           "#d62728",
           "#d62728",
           "#d62728",
           "#d62728",
           "#d62728",
           "#d62728",
           "#d62728",
           "#d62728",
           "#d62728",
           "#d62728",
           "#d62728",
           "#d62728",
           "#d62728",
           "#d62728",
           "#d62728",
           "#d62728",
           "#ff7f0e",
           "#ff7f0e",
           "#ff7f0e",
           "#ff7f0e",
           "#ff7f0e",
           "#ff7f0e",
           "#ff7f0e",
           "#ff7f0e",
           "#ff7f0e",
           "#ff7f0e",
           "#ff7f0e",
           "#ff7f0e",
           "#ff7f0e",
           "#ff7f0e",
           "#ff7f0e",
           "#ff7f0e",
           "#ff7f0e",
           "#ff7f0e",
           "#ff7f0e",
           "#ff7f0e",
           "#ff7f0e",
           "#ff7f0e",
           "#ff7f0e",
           "#ff7f0e",
           "#ff7f0e",
           "#ff7f0e",
           "#ff7f0e",
           "#ff7f0e",
           "#ff7f0e",
           "#ff7f0e",
           "#ff7f0e",
           "#ff7f0e",
           "#ff7f0e",
           "#ff7f0e",
           "#ff7f0e",
           "#ff7f0e",
           "#9467bd",
           "#9467bd",
           "#9467bd",
           "#9467bd",
           "#9467bd",
           "#9467bd",
           "#9467bd",
           "#9467bd",
           "#9467bd",
           "#9467bd",
           "#9467bd",
           "#9467bd",
           "#9467bd",
           "#9467bd",
           "#9467bd",
           "#9467bd",
           "#9467bd",
           "#9467bd",
           "#9467bd",
           "#9467bd",
           "#9467bd",
           "#9467bd",
           "#9467bd",
           "#9467bd",
           "#9467bd",
           "#9467bd",
           "#9467bd",
           "#9467bd",
           "#9467bd",
           "#9467bd",
           "#9467bd",
           "#9467bd",
           "#9467bd",
           "#9467bd",
           "#9467bd",
           "#9467bd"
          ]
         },
         "name": "EQ-Bench Score (Higher is Better)",
         "opacity": 0.8,
         "showlegend": false,
         "type": "bar",
         "width": 0.35,
         "x": [
          0,
          0.5,
          0.8999999999999999,
          1.2999999999999998,
          1.6999999999999997,
          2.1999999999999997,
          2.5999999999999996,
          2.9999999999999996,
          3.3999999999999995,
          3.8999999999999995,
          4.3,
          4.7,
          5.1000000000000005,
          5.6000000000000005,
          6.000000000000001,
          6.400000000000001,
          6.800000000000002,
          7.300000000000002,
          7.700000000000002,
          8.100000000000001,
          8.500000000000002,
          9.000000000000002,
          9.400000000000002,
          9.800000000000002,
          10.200000000000003,
          10.700000000000003,
          11.100000000000003,
          11.500000000000004,
          11.900000000000004,
          12.400000000000004,
          12.800000000000004,
          13.200000000000005,
          13.600000000000005,
          14.100000000000005,
          14.500000000000005,
          14.900000000000006,
          15.300000000000006,
          15.800000000000006,
          16.200000000000006,
          16.600000000000005,
          17.000000000000004,
          17.500000000000004,
          17.900000000000002,
          18.3,
          18.7,
          19.2,
          19.599999999999998,
          19.999999999999996,
          20.399999999999995,
          20.899999999999995,
          21.299999999999994,
          21.699999999999992,
          22.09999999999999,
          22.59999999999999,
          22.99999999999999,
          23.399999999999988,
          23.799999999999986,
          24.299999999999986,
          24.699999999999985,
          25.099999999999984,
          25.499999999999982,
          25.999999999999982,
          26.39999999999998,
          26.79999999999998,
          27.199999999999978,
          27.699999999999978,
          28.099999999999977,
          28.499999999999975,
          28.899999999999974,
          29.399999999999974,
          29.799999999999972,
          30.19999999999997,
          30.59999999999997,
          31.09999999999997,
          31.499999999999968,
          31.899999999999967,
          32.29999999999997,
          32.79999999999997,
          33.19999999999997,
          33.599999999999966,
          33.999999999999964,
          34.499999999999964,
          34.89999999999996,
          35.29999999999996,
          35.69999999999996,
          36.19999999999996,
          36.59999999999996,
          36.99999999999996,
          37.399999999999956
         ],
         "xaxis": "x",
         "y": [
          82.29415213753882,
          74.40152836380196,
          79.18481249405076,
          80.04465905867298,
          80.25801129281389,
          77.28190264766056,
          79.7795625304569,
          80.16045408576262,
          80.7747346807587,
          77.18687286995501,
          79.14166638116286,
          80.22347798374751,
          81.46886794920924,
          67.95379879903726,
          78.32583491736395,
          79.65843482063235,
          80.43713286580483,
          74.90834310756283,
          78.93380669896236,
          80.00615495366041,
          80.88791605313888,
          80.73146996329811,
          81.28449975980585,
          81.7849685309516,
          82.00141673472315,
          81.12979155869981,
          81.35028812974478,
          81.56411225446931,
          81.91777416322059,
          81.36771725703004,
          81.42107151712588,
          82.3051105409963,
          82.03621405960763,
          79.90183284888407,
          81.04776370384951,
          81.3739463363955,
          81.34750254140879,
          78.52233827871342,
          80.73128979211951,
          80.88629005776308,
          81.3497045289241,
          75.71101191928216,
          79.17993350983942,
          81.49752782609114,
          81.83912980937292,
          81.55565970199352,
          82.35046375250688,
          82.5783069302039,
          82.45108364466489,
          82.55543020973394,
          82.54960036171386,
          82.53394234926245,
          82.58805144846086,
          67.68626498450195,
          79.40006456170072,
          80.42983855577846,
          80.47714114240682,
          80.55988209681765,
          81.01215846317216,
          82.15846151784847,
          82.02094325405768,
          81.2194521345896,
          81.43359651261144,
          81.56473919493838,
          81.5816618972219,
          81.40672604323996,
          81.82809385358912,
          82.11545068676017,
          82.2351734066146,
          79.41110699588891,
          81.11316943439671,
          81.55850879135738,
          81.10499896510201,
          79.6008006782466,
          80.50668818083652,
          80.92331160147829,
          80.95605244286186,
          77.44001049874181,
          80.48097592178493,
          81.58385473437441,
          81.97619588197752,
          81.71858049649268,
          82.48697563664959,
          82.44247591760654,
          82.3932355373232,
          53.994436592430624,
          74.12732965475172,
          80.85984258710118,
          82.49418345050098
         ],
         "yaxis": "y"
        },
        {
         "marker": {
          "color": "#2ca02c",
          "size": 10
         },
         "mode": "markers",
         "name": "Baseline",
         "showlegend": true,
         "type": "scatter",
         "x": [
          null
         ],
         "xaxis": "x",
         "y": [
          null
         ],
         "yaxis": "y"
        },
        {
         "marker": {
          "color": "#d62728",
          "size": 10
         },
         "mode": "markers",
         "name": "Jailbreak Rollouts",
         "showlegend": true,
         "type": "scatter",
         "x": [
          null
         ],
         "xaxis": "x",
         "y": [
          null
         ],
         "yaxis": "y"
        },
        {
         "marker": {
          "color": "#ff7f0e",
          "size": 10
         },
         "mode": "markers",
         "name": "Role/Trait Rollouts",
         "showlegend": true,
         "type": "scatter",
         "x": [
          null
         ],
         "xaxis": "x",
         "y": [
          null
         ],
         "yaxis": "y"
        },
        {
         "marker": {
          "color": "#9467bd",
          "size": 10
         },
         "mode": "markers",
         "name": "LMSYS-10K Rollouts",
         "showlegend": true,
         "type": "scatter",
         "x": [
          null
         ],
         "xaxis": "x",
         "y": [
          null
         ],
         "yaxis": "y"
        }
       ],
       "layout": {
        "annotations": [
         {
          "font": {
           "size": 16
          },
          "showarrow": false,
          "text": "EQ-Bench Score (Higher is Better)",
          "x": 0.5,
          "xanchor": "center",
          "xref": "paper",
          "y": 1,
          "yanchor": "bottom",
          "yref": "paper"
         },
         {
          "showarrow": false,
          "text": "<span style='font-size:10px'>Projection caps in each bar group<br>(L-R) strict to relaxed</span>",
          "x": 1,
          "xanchor": "right",
          "xref": "paper",
          "y": 1,
          "yanchor": "top",
          "yref": "paper"
         }
        ],
        "height": 550,
        "legend": {
         "orientation": "h",
         "x": 1,
         "xanchor": "right",
         "y": 1.08,
         "yanchor": "bottom"
        },
        "margin": {
         "b": 100,
         "t": 150
        },
        "shapes": [
         {
          "line": {
           "color": "green",
           "dash": "dot",
           "width": 1
          },
          "opacity": 0.8,
          "type": "line",
          "x0": 0,
          "x1": 1,
          "xref": "x domain",
          "y0": 82.29415213753882,
          "y1": 82.29415213753882,
          "yref": "y"
         }
        ],
        "template": {
         "data": {
          "bar": [
           {
            "error_x": {
             "color": "#2a3f5f"
            },
            "error_y": {
             "color": "#2a3f5f"
            },
            "marker": {
             "line": {
              "color": "#E5ECF6",
              "width": 0.5
             },
             "pattern": {
              "fillmode": "overlay",
              "size": 10,
              "solidity": 0.2
             }
            },
            "type": "bar"
           }
          ],
          "barpolar": [
           {
            "marker": {
             "line": {
              "color": "#E5ECF6",
              "width": 0.5
             },
             "pattern": {
              "fillmode": "overlay",
              "size": 10,
              "solidity": 0.2
             }
            },
            "type": "barpolar"
           }
          ],
          "carpet": [
           {
            "aaxis": {
             "endlinecolor": "#2a3f5f",
             "gridcolor": "white",
             "linecolor": "white",
             "minorgridcolor": "white",
             "startlinecolor": "#2a3f5f"
            },
            "baxis": {
             "endlinecolor": "#2a3f5f",
             "gridcolor": "white",
             "linecolor": "white",
             "minorgridcolor": "white",
             "startlinecolor": "#2a3f5f"
            },
            "type": "carpet"
           }
          ],
          "choropleth": [
           {
            "colorbar": {
             "outlinewidth": 0,
             "ticks": ""
            },
            "type": "choropleth"
           }
          ],
          "contour": [
           {
            "colorbar": {
             "outlinewidth": 0,
             "ticks": ""
            },
            "colorscale": [
             [
              0,
              "#0d0887"
             ],
             [
              0.1111111111111111,
              "#46039f"
             ],
             [
              0.2222222222222222,
              "#7201a8"
             ],
             [
              0.3333333333333333,
              "#9c179e"
             ],
             [
              0.4444444444444444,
              "#bd3786"
             ],
             [
              0.5555555555555556,
              "#d8576b"
             ],
             [
              0.6666666666666666,
              "#ed7953"
             ],
             [
              0.7777777777777778,
              "#fb9f3a"
             ],
             [
              0.8888888888888888,
              "#fdca26"
             ],
             [
              1,
              "#f0f921"
             ]
            ],
            "type": "contour"
           }
          ],
          "contourcarpet": [
           {
            "colorbar": {
             "outlinewidth": 0,
             "ticks": ""
            },
            "type": "contourcarpet"
           }
          ],
          "heatmap": [
           {
            "colorbar": {
             "outlinewidth": 0,
             "ticks": ""
            },
            "colorscale": [
             [
              0,
              "#0d0887"
             ],
             [
              0.1111111111111111,
              "#46039f"
             ],
             [
              0.2222222222222222,
              "#7201a8"
             ],
             [
              0.3333333333333333,
              "#9c179e"
             ],
             [
              0.4444444444444444,
              "#bd3786"
             ],
             [
              0.5555555555555556,
              "#d8576b"
             ],
             [
              0.6666666666666666,
              "#ed7953"
             ],
             [
              0.7777777777777778,
              "#fb9f3a"
             ],
             [
              0.8888888888888888,
              "#fdca26"
             ],
             [
              1,
              "#f0f921"
             ]
            ],
            "type": "heatmap"
           }
          ],
          "heatmapgl": [
           {
            "colorbar": {
             "outlinewidth": 0,
             "ticks": ""
            },
            "colorscale": [
             [
              0,
              "#0d0887"
             ],
             [
              0.1111111111111111,
              "#46039f"
             ],
             [
              0.2222222222222222,
              "#7201a8"
             ],
             [
              0.3333333333333333,
              "#9c179e"
             ],
             [
              0.4444444444444444,
              "#bd3786"
             ],
             [
              0.5555555555555556,
              "#d8576b"
             ],
             [
              0.6666666666666666,
              "#ed7953"
             ],
             [
              0.7777777777777778,
              "#fb9f3a"
             ],
             [
              0.8888888888888888,
              "#fdca26"
             ],
             [
              1,
              "#f0f921"
             ]
            ],
            "type": "heatmapgl"
           }
          ],
          "histogram": [
           {
            "marker": {
             "pattern": {
              "fillmode": "overlay",
              "size": 10,
              "solidity": 0.2
             }
            },
            "type": "histogram"
           }
          ],
          "histogram2d": [
           {
            "colorbar": {
             "outlinewidth": 0,
             "ticks": ""
            },
            "colorscale": [
             [
              0,
              "#0d0887"
             ],
             [
              0.1111111111111111,
              "#46039f"
             ],
             [
              0.2222222222222222,
              "#7201a8"
             ],
             [
              0.3333333333333333,
              "#9c179e"
             ],
             [
              0.4444444444444444,
              "#bd3786"
             ],
             [
              0.5555555555555556,
              "#d8576b"
             ],
             [
              0.6666666666666666,
              "#ed7953"
             ],
             [
              0.7777777777777778,
              "#fb9f3a"
             ],
             [
              0.8888888888888888,
              "#fdca26"
             ],
             [
              1,
              "#f0f921"
             ]
            ],
            "type": "histogram2d"
           }
          ],
          "histogram2dcontour": [
           {
            "colorbar": {
             "outlinewidth": 0,
             "ticks": ""
            },
            "colorscale": [
             [
              0,
              "#0d0887"
             ],
             [
              0.1111111111111111,
              "#46039f"
             ],
             [
              0.2222222222222222,
              "#7201a8"
             ],
             [
              0.3333333333333333,
              "#9c179e"
             ],
             [
              0.4444444444444444,
              "#bd3786"
             ],
             [
              0.5555555555555556,
              "#d8576b"
             ],
             [
              0.6666666666666666,
              "#ed7953"
             ],
             [
              0.7777777777777778,
              "#fb9f3a"
             ],
             [
              0.8888888888888888,
              "#fdca26"
             ],
             [
              1,
              "#f0f921"
             ]
            ],
            "type": "histogram2dcontour"
           }
          ],
          "mesh3d": [
           {
            "colorbar": {
             "outlinewidth": 0,
             "ticks": ""
            },
            "type": "mesh3d"
           }
          ],
          "parcoords": [
           {
            "line": {
             "colorbar": {
              "outlinewidth": 0,
              "ticks": ""
             }
            },
            "type": "parcoords"
           }
          ],
          "pie": [
           {
            "automargin": true,
            "type": "pie"
           }
          ],
          "scatter": [
           {
            "fillpattern": {
             "fillmode": "overlay",
             "size": 10,
             "solidity": 0.2
            },
            "type": "scatter"
           }
          ],
          "scatter3d": [
           {
            "line": {
             "colorbar": {
              "outlinewidth": 0,
              "ticks": ""
             }
            },
            "marker": {
             "colorbar": {
              "outlinewidth": 0,
              "ticks": ""
             }
            },
            "type": "scatter3d"
           }
          ],
          "scattercarpet": [
           {
            "marker": {
             "colorbar": {
              "outlinewidth": 0,
              "ticks": ""
             }
            },
            "type": "scattercarpet"
           }
          ],
          "scattergeo": [
           {
            "marker": {
             "colorbar": {
              "outlinewidth": 0,
              "ticks": ""
             }
            },
            "type": "scattergeo"
           }
          ],
          "scattergl": [
           {
            "marker": {
             "colorbar": {
              "outlinewidth": 0,
              "ticks": ""
             }
            },
            "type": "scattergl"
           }
          ],
          "scattermapbox": [
           {
            "marker": {
             "colorbar": {
              "outlinewidth": 0,
              "ticks": ""
             }
            },
            "type": "scattermapbox"
           }
          ],
          "scatterpolar": [
           {
            "marker": {
             "colorbar": {
              "outlinewidth": 0,
              "ticks": ""
             }
            },
            "type": "scatterpolar"
           }
          ],
          "scatterpolargl": [
           {
            "marker": {
             "colorbar": {
              "outlinewidth": 0,
              "ticks": ""
             }
            },
            "type": "scatterpolargl"
           }
          ],
          "scatterternary": [
           {
            "marker": {
             "colorbar": {
              "outlinewidth": 0,
              "ticks": ""
             }
            },
            "type": "scatterternary"
           }
          ],
          "surface": [
           {
            "colorbar": {
             "outlinewidth": 0,
             "ticks": ""
            },
            "colorscale": [
             [
              0,
              "#0d0887"
             ],
             [
              0.1111111111111111,
              "#46039f"
             ],
             [
              0.2222222222222222,
              "#7201a8"
             ],
             [
              0.3333333333333333,
              "#9c179e"
             ],
             [
              0.4444444444444444,
              "#bd3786"
             ],
             [
              0.5555555555555556,
              "#d8576b"
             ],
             [
              0.6666666666666666,
              "#ed7953"
             ],
             [
              0.7777777777777778,
              "#fb9f3a"
             ],
             [
              0.8888888888888888,
              "#fdca26"
             ],
             [
              1,
              "#f0f921"
             ]
            ],
            "type": "surface"
           }
          ],
          "table": [
           {
            "cells": {
             "fill": {
              "color": "#EBF0F8"
             },
             "line": {
              "color": "white"
             }
            },
            "header": {
             "fill": {
              "color": "#C8D4E3"
             },
             "line": {
              "color": "white"
             }
            },
            "type": "table"
           }
          ]
         },
         "layout": {
          "annotationdefaults": {
           "arrowcolor": "#2a3f5f",
           "arrowhead": 0,
           "arrowwidth": 1
          },
          "autotypenumbers": "strict",
          "coloraxis": {
           "colorbar": {
            "outlinewidth": 0,
            "ticks": ""
           }
          },
          "colorscale": {
           "diverging": [
            [
             0,
             "#8e0152"
            ],
            [
             0.1,
             "#c51b7d"
            ],
            [
             0.2,
             "#de77ae"
            ],
            [
             0.3,
             "#f1b6da"
            ],
            [
             0.4,
             "#fde0ef"
            ],
            [
             0.5,
             "#f7f7f7"
            ],
            [
             0.6,
             "#e6f5d0"
            ],
            [
             0.7,
             "#b8e186"
            ],
            [
             0.8,
             "#7fbc41"
            ],
            [
             0.9,
             "#4d9221"
            ],
            [
             1,
             "#276419"
            ]
           ],
           "sequential": [
            [
             0,
             "#0d0887"
            ],
            [
             0.1111111111111111,
             "#46039f"
            ],
            [
             0.2222222222222222,
             "#7201a8"
            ],
            [
             0.3333333333333333,
             "#9c179e"
            ],
            [
             0.4444444444444444,
             "#bd3786"
            ],
            [
             0.5555555555555556,
             "#d8576b"
            ],
            [
             0.6666666666666666,
             "#ed7953"
            ],
            [
             0.7777777777777778,
             "#fb9f3a"
            ],
            [
             0.8888888888888888,
             "#fdca26"
            ],
            [
             1,
             "#f0f921"
            ]
           ],
           "sequentialminus": [
            [
             0,
             "#0d0887"
            ],
            [
             0.1111111111111111,
             "#46039f"
            ],
            [
             0.2222222222222222,
             "#7201a8"
            ],
            [
             0.3333333333333333,
             "#9c179e"
            ],
            [
             0.4444444444444444,
             "#bd3786"
            ],
            [
             0.5555555555555556,
             "#d8576b"
            ],
            [
             0.6666666666666666,
             "#ed7953"
            ],
            [
             0.7777777777777778,
             "#fb9f3a"
            ],
            [
             0.8888888888888888,
             "#fdca26"
            ],
            [
             1,
             "#f0f921"
            ]
           ]
          },
          "colorway": [
           "#636efa",
           "#EF553B",
           "#00cc96",
           "#ab63fa",
           "#FFA15A",
           "#19d3f3",
           "#FF6692",
           "#B6E880",
           "#FF97FF",
           "#FECB52"
          ],
          "font": {
           "color": "#2a3f5f"
          },
          "geo": {
           "bgcolor": "white",
           "lakecolor": "white",
           "landcolor": "#E5ECF6",
           "showlakes": true,
           "showland": true,
           "subunitcolor": "white"
          },
          "hoverlabel": {
           "align": "left"
          },
          "hovermode": "closest",
          "mapbox": {
           "style": "light"
          },
          "paper_bgcolor": "white",
          "plot_bgcolor": "#E5ECF6",
          "polar": {
           "angularaxis": {
            "gridcolor": "white",
            "linecolor": "white",
            "ticks": ""
           },
           "bgcolor": "#E5ECF6",
           "radialaxis": {
            "gridcolor": "white",
            "linecolor": "white",
            "ticks": ""
           }
          },
          "scene": {
           "xaxis": {
            "backgroundcolor": "#E5ECF6",
            "gridcolor": "white",
            "gridwidth": 2,
            "linecolor": "white",
            "showbackground": true,
            "ticks": "",
            "zerolinecolor": "white"
           },
           "yaxis": {
            "backgroundcolor": "#E5ECF6",
            "gridcolor": "white",
            "gridwidth": 2,
            "linecolor": "white",
            "showbackground": true,
            "ticks": "",
            "zerolinecolor": "white"
           },
           "zaxis": {
            "backgroundcolor": "#E5ECF6",
            "gridcolor": "white",
            "gridwidth": 2,
            "linecolor": "white",
            "showbackground": true,
            "ticks": "",
            "zerolinecolor": "white"
           }
          },
          "shapedefaults": {
           "line": {
            "color": "#2a3f5f"
           }
          },
          "ternary": {
           "aaxis": {
            "gridcolor": "white",
            "linecolor": "white",
            "ticks": ""
           },
           "baxis": {
            "gridcolor": "white",
            "linecolor": "white",
            "ticks": ""
           },
           "bgcolor": "#E5ECF6",
           "caxis": {
            "gridcolor": "white",
            "linecolor": "white",
            "ticks": ""
           }
          },
          "title": {
           "x": 0.05
          },
          "xaxis": {
           "automargin": true,
           "gridcolor": "white",
           "linecolor": "white",
           "ticks": "",
           "title": {
            "standoff": 15
           },
           "zerolinecolor": "white",
           "zerolinewidth": 2
          },
          "yaxis": {
           "automargin": true,
           "gridcolor": "white",
           "linecolor": "white",
           "ticks": "",
           "title": {
            "standoff": 15
           },
           "zerolinecolor": "white",
           "zerolinewidth": 2
          }
         }
        },
        "title": {
         "subtitle": {
          "text": "Qwen 3 32B, Single-Shot & No Thinking"
         },
         "text": "EQ-Bench with Projection Capping"
        },
        "width": 1000,
        "xaxis": {
         "anchor": "y",
         "domain": [
          0,
          1
         ],
         "range": [
          -0.5,
          37.899999999999956
         ],
         "tickfont": {
          "size": 10
         },
         "tickmode": "array",
         "ticktext": [
          "Baseline",
          "All Layers (0-63)",
          "Every 2nd Layer",
          "Every 4th Layer",
          "Layers 32-63",
          "All Layers (0-63)",
          "Layers 0-15",
          "Layers 8-15",
          "Layers 16-23",
          "Layers 24-31",
          "Layers 32-39",
          "Layers 40-47",
          "Layers 48-55",
          "Layers 56-63",
          "All Layers (0-63)",
          "Layers 0-15",
          "Layers 8-15",
          "Layers 16-23",
          "Layers 24-31",
          "Layers 32-39",
          "Layers 40-47",
          "Layers 48-55",
          "Layers 56-63"
         ],
         "tickvals": [
          0,
          1.0999999999999999,
          2.8,
          4.5,
          6.200000000000001,
          7.900000000000002,
          9.600000000000001,
          11.300000000000004,
          13.000000000000004,
          14.700000000000006,
          16.400000000000006,
          18.1,
          19.799999999999997,
          21.499999999999993,
          23.19999999999999,
          24.899999999999984,
          26.59999999999998,
          28.299999999999976,
          29.99999999999997,
          31.699999999999967,
          33.39999999999996,
          35.099999999999966,
          36.799999999999955
         ],
         "title": {
          "text": "Intervention Layers"
         }
        },
        "yaxis": {
         "anchor": "x",
         "domain": [
          0,
          1
         ],
         "range": [
          0,
          100
         ],
         "tickfont": {
          "size": 10
         },
         "title": {
          "text": "Score"
         }
        }
       }
      },
      "text/html": [
       "<div>                            <div id=\"9b1235e1-1f9c-4ca4-8573-f9509905091d\" class=\"plotly-graph-div\" style=\"height:550px; width:1000px;\"></div>            <script type=\"text/javascript\">                require([\"plotly\"], function(Plotly) {                    window.PLOTLYENV=window.PLOTLYENV || {};                                    if (document.getElementById(\"9b1235e1-1f9c-4ca4-8573-f9509905091d\")) {                    Plotly.newPlot(                        \"9b1235e1-1f9c-4ca4-8573-f9509905091d\",                        [{\"customdata\":[[\"Baseline\",\"baseline\"],[\"All Layers (0-63), Safe 99th\",\"jailbreak\"],[\"All Layers (0-63), Safe 50th\",\"jailbreak\"],[\"All Layers (0-63), Harm 99th\",\"jailbreak\"],[\"All Layers (0-63), Harm 75th\",\"jailbreak\"],[\"Every 2nd Layer, Safe 99th\",\"jailbreak\"],[\"Every 2nd Layer, Safe 50th\",\"jailbreak\"],[\"Every 2nd Layer, Harm 99th\",\"jailbreak\"],[\"Every 2nd Layer, Harm 75th\",\"jailbreak\"],[\"Every 4th Layer, Safe 99th\",\"jailbreak\"],[\"Every 4th Layer, Safe 50th\",\"jailbreak\"],[\"Every 4th Layer, Harm 99th\",\"jailbreak\"],[\"Every 4th Layer, Harm 75th\",\"jailbreak\"],[\"Layers 32-63, Safe 99th\",\"jailbreak\"],[\"Layers 32-63, Safe 50th\",\"jailbreak\"],[\"Layers 32-63, Harm 99th\",\"jailbreak\"],[\"Layers 32-63, Harm 75th\",\"jailbreak\"],[\"All Layers (0-63), 1st\",\"role_trait\"],[\"All Layers (0-63), 25th\",\"role_trait\"],[\"All Layers (0-63), 50th\",\"role_trait\"],[\"All Layers (0-63), 75th\",\"role_trait\"],[\"Layers 0-15, 1st\",\"role_trait\"],[\"Layers 0-15, 25th\",\"role_trait\"],[\"Layers 0-15, 50th\",\"role_trait\"],[\"Layers 0-15, 75th\",\"role_trait\"],[\"Layers 8-15, 1st\",\"role_trait\"],[\"Layers 8-15, 25th\",\"role_trait\"],[\"Layers 8-15, 50th\",\"role_trait\"],[\"Layers 8-15, 75th\",\"role_trait\"],[\"Layers 16-23, 1st\",\"role_trait\"],[\"Layers 16-23, 25th\",\"role_trait\"],[\"Layers 16-23, 50th\",\"role_trait\"],[\"Layers 16-23, 75th\",\"role_trait\"],[\"Layers 24-31, 1st\",\"role_trait\"],[\"Layers 24-31, 25th\",\"role_trait\"],[\"Layers 24-31, 50th\",\"role_trait\"],[\"Layers 24-31, 75th\",\"role_trait\"],[\"Layers 32-39, 1st\",\"role_trait\"],[\"Layers 32-39, 25th\",\"role_trait\"],[\"Layers 32-39, 50th\",\"role_trait\"],[\"Layers 32-39, 75th\",\"role_trait\"],[\"Layers 40-47, 1st\",\"role_trait\"],[\"Layers 40-47, 25th\",\"role_trait\"],[\"Layers 40-47, 50th\",\"role_trait\"],[\"Layers 40-47, 75th\",\"role_trait\"],[\"Layers 48-55, 1st\",\"role_trait\"],[\"Layers 48-55, 25th\",\"role_trait\"],[\"Layers 48-55, 50th\",\"role_trait\"],[\"Layers 48-55, 75th\",\"role_trait\"],[\"Layers 56-63, 1st\",\"role_trait\"],[\"Layers 56-63, 25th\",\"role_trait\"],[\"Layers 56-63, 50th\",\"role_trait\"],[\"Layers 56-63, 75th\",\"role_trait\"],[\"All Layers (0-63), 1st\",\"lmsys_10000\"],[\"All Layers (0-63), 25th\",\"lmsys_10000\"],[\"All Layers (0-63), 50th\",\"lmsys_10000\"],[\"All Layers (0-63), 75th\",\"lmsys_10000\"],[\"Layers 0-15, 1st\",\"lmsys_10000\"],[\"Layers 0-15, 25th\",\"lmsys_10000\"],[\"Layers 0-15, 50th\",\"lmsys_10000\"],[\"Layers 0-15, 75th\",\"lmsys_10000\"],[\"Layers 8-15, 1st\",\"lmsys_10000\"],[\"Layers 8-15, 25th\",\"lmsys_10000\"],[\"Layers 8-15, 50th\",\"lmsys_10000\"],[\"Layers 8-15, 75th\",\"lmsys_10000\"],[\"Layers 16-23, 1st\",\"lmsys_10000\"],[\"Layers 16-23, 25th\",\"lmsys_10000\"],[\"Layers 16-23, 50th\",\"lmsys_10000\"],[\"Layers 16-23, 75th\",\"lmsys_10000\"],[\"Layers 24-31, 1st\",\"lmsys_10000\"],[\"Layers 24-31, 25th\",\"lmsys_10000\"],[\"Layers 24-31, 50th\",\"lmsys_10000\"],[\"Layers 24-31, 75th\",\"lmsys_10000\"],[\"Layers 32-39, 1st\",\"lmsys_10000\"],[\"Layers 32-39, 25th\",\"lmsys_10000\"],[\"Layers 32-39, 50th\",\"lmsys_10000\"],[\"Layers 32-39, 75th\",\"lmsys_10000\"],[\"Layers 40-47, 1st\",\"lmsys_10000\"],[\"Layers 40-47, 25th\",\"lmsys_10000\"],[\"Layers 40-47, 50th\",\"lmsys_10000\"],[\"Layers 40-47, 75th\",\"lmsys_10000\"],[\"Layers 48-55, 1st\",\"lmsys_10000\"],[\"Layers 48-55, 25th\",\"lmsys_10000\"],[\"Layers 48-55, 50th\",\"lmsys_10000\"],[\"Layers 48-55, 75th\",\"lmsys_10000\"],[\"Layers 56-63, 1st\",\"lmsys_10000\"],[\"Layers 56-63, 25th\",\"lmsys_10000\"],[\"Layers 56-63, 50th\",\"lmsys_10000\"],[\"Layers 56-63, 75th\",\"lmsys_10000\"]],\"error_y\":{\"array\":[1.3132425024008552,1.7786270569182492,1.474145547932549,1.3361889155124886,1.384719552430742,1.5210209227490439,1.4005479658927786,1.4086300142359727,1.3507447187577237,1.5465676701665176,1.5145435123180446,1.4137065028355609,1.3091398605457347,2.3389848661563564,1.5827659454809353,1.4883548093442671,1.4308113790984387,1.6245652978872507,1.4813933837759643,1.3177450338100434,1.315776723208385,1.4278312696882047,1.416610479747719,1.3287444257380803,1.3250761287879016,1.4017702657248952,1.4141435828246438,1.3840910156778228,1.31084820081718,1.355889223473992,1.391186300163241,1.32110358850417,1.3263234795093894,1.4179225063999217,1.338427421112702,1.2704319234600625,1.296355934493633,1.5116046305054394,1.3699398295311376,1.3884283566358822,1.3583751795399903,1.548375853534399,1.4120583706212972,1.2918911206554347,1.3200625504897567,1.2732013581009878,1.252535898723424,1.2851296433342005,1.2911408893386305,1.289691269343878,1.3097309412889628,1.30804631241347,1.3144616001879397,2.342314762893232,1.4198148609278476,1.3133705798834767,1.3018640508436596,1.4025092754156125,1.442077621396517,1.2984231025646327,1.3279222463925038,1.3675283721025522,1.4201399024780295,1.3883778551073624,1.3309164008843002,1.3578295341417044,1.346230133834582,1.3253332335542418,1.3324550921341618,1.5158044643179487,1.3118280125539472,1.2753704597468776,1.2983584241114425,1.4638192787858215,1.3710791281658659,1.3804010772770439,1.360914632745081,1.5250415888815219,1.3514469664367057,1.3163086174384266,1.3090549244164373,1.2685999002104063,1.283851594109796,1.2879850578766867,1.2931329691251263,3.2474328556384986,2.307929905152533,1.5606410778161397,1.3170641582127127],\"thickness\":0.5,\"type\":\"data\",\"visible\":true},\"hovertemplate\":\"%{customdata[0]}\\u003cbr\\u003eConfig: %{customdata[1]}\\u003cbr\\u003eValue: %{y:.1%}\\u003cextra\\u003e\\u003c\\u002fextra\\u003e\",\"marker\":{\"color\":[\"#2ca02c\",\"#d62728\",\"#d62728\",\"#d62728\",\"#d62728\",\"#d62728\",\"#d62728\",\"#d62728\",\"#d62728\",\"#d62728\",\"#d62728\",\"#d62728\",\"#d62728\",\"#d62728\",\"#d62728\",\"#d62728\",\"#d62728\",\"#ff7f0e\",\"#ff7f0e\",\"#ff7f0e\",\"#ff7f0e\",\"#ff7f0e\",\"#ff7f0e\",\"#ff7f0e\",\"#ff7f0e\",\"#ff7f0e\",\"#ff7f0e\",\"#ff7f0e\",\"#ff7f0e\",\"#ff7f0e\",\"#ff7f0e\",\"#ff7f0e\",\"#ff7f0e\",\"#ff7f0e\",\"#ff7f0e\",\"#ff7f0e\",\"#ff7f0e\",\"#ff7f0e\",\"#ff7f0e\",\"#ff7f0e\",\"#ff7f0e\",\"#ff7f0e\",\"#ff7f0e\",\"#ff7f0e\",\"#ff7f0e\",\"#ff7f0e\",\"#ff7f0e\",\"#ff7f0e\",\"#ff7f0e\",\"#ff7f0e\",\"#ff7f0e\",\"#ff7f0e\",\"#ff7f0e\",\"#9467bd\",\"#9467bd\",\"#9467bd\",\"#9467bd\",\"#9467bd\",\"#9467bd\",\"#9467bd\",\"#9467bd\",\"#9467bd\",\"#9467bd\",\"#9467bd\",\"#9467bd\",\"#9467bd\",\"#9467bd\",\"#9467bd\",\"#9467bd\",\"#9467bd\",\"#9467bd\",\"#9467bd\",\"#9467bd\",\"#9467bd\",\"#9467bd\",\"#9467bd\",\"#9467bd\",\"#9467bd\",\"#9467bd\",\"#9467bd\",\"#9467bd\",\"#9467bd\",\"#9467bd\",\"#9467bd\",\"#9467bd\",\"#9467bd\",\"#9467bd\",\"#9467bd\",\"#9467bd\"]},\"name\":\"EQ-Bench Score (Higher is Better)\",\"opacity\":0.8,\"showlegend\":false,\"width\":0.35,\"x\":[0.0,0.5,0.8999999999999999,1.2999999999999998,1.6999999999999997,2.1999999999999997,2.5999999999999996,2.9999999999999996,3.3999999999999995,3.8999999999999995,4.3,4.7,5.1000000000000005,5.6000000000000005,6.000000000000001,6.400000000000001,6.800000000000002,7.300000000000002,7.700000000000002,8.100000000000001,8.500000000000002,9.000000000000002,9.400000000000002,9.800000000000002,10.200000000000003,10.700000000000003,11.100000000000003,11.500000000000004,11.900000000000004,12.400000000000004,12.800000000000004,13.200000000000005,13.600000000000005,14.100000000000005,14.500000000000005,14.900000000000006,15.300000000000006,15.800000000000006,16.200000000000006,16.600000000000005,17.000000000000004,17.500000000000004,17.900000000000002,18.3,18.7,19.2,19.599999999999998,19.999999999999996,20.399999999999995,20.899999999999995,21.299999999999994,21.699999999999992,22.09999999999999,22.59999999999999,22.99999999999999,23.399999999999988,23.799999999999986,24.299999999999986,24.699999999999985,25.099999999999984,25.499999999999982,25.999999999999982,26.39999999999998,26.79999999999998,27.199999999999978,27.699999999999978,28.099999999999977,28.499999999999975,28.899999999999974,29.399999999999974,29.799999999999972,30.19999999999997,30.59999999999997,31.09999999999997,31.499999999999968,31.899999999999967,32.29999999999997,32.79999999999997,33.19999999999997,33.599999999999966,33.999999999999964,34.499999999999964,34.89999999999996,35.29999999999996,35.69999999999996,36.19999999999996,36.59999999999996,36.99999999999996,37.399999999999956],\"y\":[82.29415213753882,74.40152836380196,79.18481249405076,80.04465905867298,80.25801129281389,77.28190264766056,79.7795625304569,80.16045408576262,80.7747346807587,77.18687286995501,79.14166638116286,80.22347798374751,81.46886794920924,67.95379879903726,78.32583491736395,79.65843482063235,80.43713286580483,74.90834310756283,78.93380669896236,80.00615495366041,80.88791605313888,80.73146996329811,81.28449975980585,81.7849685309516,82.00141673472315,81.12979155869981,81.35028812974478,81.56411225446931,81.91777416322059,81.36771725703004,81.42107151712588,82.3051105409963,82.03621405960763,79.90183284888407,81.04776370384951,81.3739463363955,81.34750254140879,78.52233827871342,80.73128979211951,80.88629005776308,81.3497045289241,75.71101191928216,79.17993350983942,81.49752782609114,81.83912980937292,81.55565970199352,82.35046375250688,82.5783069302039,82.45108364466489,82.55543020973394,82.54960036171386,82.53394234926245,82.58805144846086,67.68626498450195,79.40006456170072,80.42983855577846,80.47714114240682,80.55988209681765,81.01215846317216,82.15846151784847,82.02094325405768,81.2194521345896,81.43359651261144,81.56473919493838,81.5816618972219,81.40672604323996,81.82809385358912,82.11545068676017,82.2351734066146,79.41110699588891,81.11316943439671,81.55850879135738,81.10499896510201,79.6008006782466,80.50668818083652,80.92331160147829,80.95605244286186,77.44001049874181,80.48097592178493,81.58385473437441,81.97619588197752,81.71858049649268,82.48697563664959,82.44247591760654,82.3932355373232,53.994436592430624,74.12732965475172,80.85984258710118,82.49418345050098],\"type\":\"bar\",\"xaxis\":\"x\",\"yaxis\":\"y\"},{\"marker\":{\"color\":\"#2ca02c\",\"size\":10},\"mode\":\"markers\",\"name\":\"Baseline\",\"showlegend\":true,\"x\":[null],\"y\":[null],\"type\":\"scatter\",\"xaxis\":\"x\",\"yaxis\":\"y\"},{\"marker\":{\"color\":\"#d62728\",\"size\":10},\"mode\":\"markers\",\"name\":\"Jailbreak Rollouts\",\"showlegend\":true,\"x\":[null],\"y\":[null],\"type\":\"scatter\",\"xaxis\":\"x\",\"yaxis\":\"y\"},{\"marker\":{\"color\":\"#ff7f0e\",\"size\":10},\"mode\":\"markers\",\"name\":\"Role\\u002fTrait Rollouts\",\"showlegend\":true,\"x\":[null],\"y\":[null],\"type\":\"scatter\",\"xaxis\":\"x\",\"yaxis\":\"y\"},{\"marker\":{\"color\":\"#9467bd\",\"size\":10},\"mode\":\"markers\",\"name\":\"LMSYS-10K Rollouts\",\"showlegend\":true,\"x\":[null],\"y\":[null],\"type\":\"scatter\",\"xaxis\":\"x\",\"yaxis\":\"y\"}],                        {\"template\":{\"data\":{\"histogram2dcontour\":[{\"type\":\"histogram2dcontour\",\"colorbar\":{\"outlinewidth\":0,\"ticks\":\"\"},\"colorscale\":[[0.0,\"#0d0887\"],[0.1111111111111111,\"#46039f\"],[0.2222222222222222,\"#7201a8\"],[0.3333333333333333,\"#9c179e\"],[0.4444444444444444,\"#bd3786\"],[0.5555555555555556,\"#d8576b\"],[0.6666666666666666,\"#ed7953\"],[0.7777777777777778,\"#fb9f3a\"],[0.8888888888888888,\"#fdca26\"],[1.0,\"#f0f921\"]]}],\"choropleth\":[{\"type\":\"choropleth\",\"colorbar\":{\"outlinewidth\":0,\"ticks\":\"\"}}],\"histogram2d\":[{\"type\":\"histogram2d\",\"colorbar\":{\"outlinewidth\":0,\"ticks\":\"\"},\"colorscale\":[[0.0,\"#0d0887\"],[0.1111111111111111,\"#46039f\"],[0.2222222222222222,\"#7201a8\"],[0.3333333333333333,\"#9c179e\"],[0.4444444444444444,\"#bd3786\"],[0.5555555555555556,\"#d8576b\"],[0.6666666666666666,\"#ed7953\"],[0.7777777777777778,\"#fb9f3a\"],[0.8888888888888888,\"#fdca26\"],[1.0,\"#f0f921\"]]}],\"heatmap\":[{\"type\":\"heatmap\",\"colorbar\":{\"outlinewidth\":0,\"ticks\":\"\"},\"colorscale\":[[0.0,\"#0d0887\"],[0.1111111111111111,\"#46039f\"],[0.2222222222222222,\"#7201a8\"],[0.3333333333333333,\"#9c179e\"],[0.4444444444444444,\"#bd3786\"],[0.5555555555555556,\"#d8576b\"],[0.6666666666666666,\"#ed7953\"],[0.7777777777777778,\"#fb9f3a\"],[0.8888888888888888,\"#fdca26\"],[1.0,\"#f0f921\"]]}],\"heatmapgl\":[{\"type\":\"heatmapgl\",\"colorbar\":{\"outlinewidth\":0,\"ticks\":\"\"},\"colorscale\":[[0.0,\"#0d0887\"],[0.1111111111111111,\"#46039f\"],[0.2222222222222222,\"#7201a8\"],[0.3333333333333333,\"#9c179e\"],[0.4444444444444444,\"#bd3786\"],[0.5555555555555556,\"#d8576b\"],[0.6666666666666666,\"#ed7953\"],[0.7777777777777778,\"#fb9f3a\"],[0.8888888888888888,\"#fdca26\"],[1.0,\"#f0f921\"]]}],\"contourcarpet\":[{\"type\":\"contourcarpet\",\"colorbar\":{\"outlinewidth\":0,\"ticks\":\"\"}}],\"contour\":[{\"type\":\"contour\",\"colorbar\":{\"outlinewidth\":0,\"ticks\":\"\"},\"colorscale\":[[0.0,\"#0d0887\"],[0.1111111111111111,\"#46039f\"],[0.2222222222222222,\"#7201a8\"],[0.3333333333333333,\"#9c179e\"],[0.4444444444444444,\"#bd3786\"],[0.5555555555555556,\"#d8576b\"],[0.6666666666666666,\"#ed7953\"],[0.7777777777777778,\"#fb9f3a\"],[0.8888888888888888,\"#fdca26\"],[1.0,\"#f0f921\"]]}],\"surface\":[{\"type\":\"surface\",\"colorbar\":{\"outlinewidth\":0,\"ticks\":\"\"},\"colorscale\":[[0.0,\"#0d0887\"],[0.1111111111111111,\"#46039f\"],[0.2222222222222222,\"#7201a8\"],[0.3333333333333333,\"#9c179e\"],[0.4444444444444444,\"#bd3786\"],[0.5555555555555556,\"#d8576b\"],[0.6666666666666666,\"#ed7953\"],[0.7777777777777778,\"#fb9f3a\"],[0.8888888888888888,\"#fdca26\"],[1.0,\"#f0f921\"]]}],\"mesh3d\":[{\"type\":\"mesh3d\",\"colorbar\":{\"outlinewidth\":0,\"ticks\":\"\"}}],\"scatter\":[{\"fillpattern\":{\"fillmode\":\"overlay\",\"size\":10,\"solidity\":0.2},\"type\":\"scatter\"}],\"parcoords\":[{\"type\":\"parcoords\",\"line\":{\"colorbar\":{\"outlinewidth\":0,\"ticks\":\"\"}}}],\"scatterpolargl\":[{\"type\":\"scatterpolargl\",\"marker\":{\"colorbar\":{\"outlinewidth\":0,\"ticks\":\"\"}}}],\"bar\":[{\"error_x\":{\"color\":\"#2a3f5f\"},\"error_y\":{\"color\":\"#2a3f5f\"},\"marker\":{\"line\":{\"color\":\"#E5ECF6\",\"width\":0.5},\"pattern\":{\"fillmode\":\"overlay\",\"size\":10,\"solidity\":0.2}},\"type\":\"bar\"}],\"scattergeo\":[{\"type\":\"scattergeo\",\"marker\":{\"colorbar\":{\"outlinewidth\":0,\"ticks\":\"\"}}}],\"scatterpolar\":[{\"type\":\"scatterpolar\",\"marker\":{\"colorbar\":{\"outlinewidth\":0,\"ticks\":\"\"}}}],\"histogram\":[{\"marker\":{\"pattern\":{\"fillmode\":\"overlay\",\"size\":10,\"solidity\":0.2}},\"type\":\"histogram\"}],\"scattergl\":[{\"type\":\"scattergl\",\"marker\":{\"colorbar\":{\"outlinewidth\":0,\"ticks\":\"\"}}}],\"scatter3d\":[{\"type\":\"scatter3d\",\"line\":{\"colorbar\":{\"outlinewidth\":0,\"ticks\":\"\"}},\"marker\":{\"colorbar\":{\"outlinewidth\":0,\"ticks\":\"\"}}}],\"scattermapbox\":[{\"type\":\"scattermapbox\",\"marker\":{\"colorbar\":{\"outlinewidth\":0,\"ticks\":\"\"}}}],\"scatterternary\":[{\"type\":\"scatterternary\",\"marker\":{\"colorbar\":{\"outlinewidth\":0,\"ticks\":\"\"}}}],\"scattercarpet\":[{\"type\":\"scattercarpet\",\"marker\":{\"colorbar\":{\"outlinewidth\":0,\"ticks\":\"\"}}}],\"carpet\":[{\"aaxis\":{\"endlinecolor\":\"#2a3f5f\",\"gridcolor\":\"white\",\"linecolor\":\"white\",\"minorgridcolor\":\"white\",\"startlinecolor\":\"#2a3f5f\"},\"baxis\":{\"endlinecolor\":\"#2a3f5f\",\"gridcolor\":\"white\",\"linecolor\":\"white\",\"minorgridcolor\":\"white\",\"startlinecolor\":\"#2a3f5f\"},\"type\":\"carpet\"}],\"table\":[{\"cells\":{\"fill\":{\"color\":\"#EBF0F8\"},\"line\":{\"color\":\"white\"}},\"header\":{\"fill\":{\"color\":\"#C8D4E3\"},\"line\":{\"color\":\"white\"}},\"type\":\"table\"}],\"barpolar\":[{\"marker\":{\"line\":{\"color\":\"#E5ECF6\",\"width\":0.5},\"pattern\":{\"fillmode\":\"overlay\",\"size\":10,\"solidity\":0.2}},\"type\":\"barpolar\"}],\"pie\":[{\"automargin\":true,\"type\":\"pie\"}]},\"layout\":{\"autotypenumbers\":\"strict\",\"colorway\":[\"#636efa\",\"#EF553B\",\"#00cc96\",\"#ab63fa\",\"#FFA15A\",\"#19d3f3\",\"#FF6692\",\"#B6E880\",\"#FF97FF\",\"#FECB52\"],\"font\":{\"color\":\"#2a3f5f\"},\"hovermode\":\"closest\",\"hoverlabel\":{\"align\":\"left\"},\"paper_bgcolor\":\"white\",\"plot_bgcolor\":\"#E5ECF6\",\"polar\":{\"bgcolor\":\"#E5ECF6\",\"angularaxis\":{\"gridcolor\":\"white\",\"linecolor\":\"white\",\"ticks\":\"\"},\"radialaxis\":{\"gridcolor\":\"white\",\"linecolor\":\"white\",\"ticks\":\"\"}},\"ternary\":{\"bgcolor\":\"#E5ECF6\",\"aaxis\":{\"gridcolor\":\"white\",\"linecolor\":\"white\",\"ticks\":\"\"},\"baxis\":{\"gridcolor\":\"white\",\"linecolor\":\"white\",\"ticks\":\"\"},\"caxis\":{\"gridcolor\":\"white\",\"linecolor\":\"white\",\"ticks\":\"\"}},\"coloraxis\":{\"colorbar\":{\"outlinewidth\":0,\"ticks\":\"\"}},\"colorscale\":{\"sequential\":[[0.0,\"#0d0887\"],[0.1111111111111111,\"#46039f\"],[0.2222222222222222,\"#7201a8\"],[0.3333333333333333,\"#9c179e\"],[0.4444444444444444,\"#bd3786\"],[0.5555555555555556,\"#d8576b\"],[0.6666666666666666,\"#ed7953\"],[0.7777777777777778,\"#fb9f3a\"],[0.8888888888888888,\"#fdca26\"],[1.0,\"#f0f921\"]],\"sequentialminus\":[[0.0,\"#0d0887\"],[0.1111111111111111,\"#46039f\"],[0.2222222222222222,\"#7201a8\"],[0.3333333333333333,\"#9c179e\"],[0.4444444444444444,\"#bd3786\"],[0.5555555555555556,\"#d8576b\"],[0.6666666666666666,\"#ed7953\"],[0.7777777777777778,\"#fb9f3a\"],[0.8888888888888888,\"#fdca26\"],[1.0,\"#f0f921\"]],\"diverging\":[[0,\"#8e0152\"],[0.1,\"#c51b7d\"],[0.2,\"#de77ae\"],[0.3,\"#f1b6da\"],[0.4,\"#fde0ef\"],[0.5,\"#f7f7f7\"],[0.6,\"#e6f5d0\"],[0.7,\"#b8e186\"],[0.8,\"#7fbc41\"],[0.9,\"#4d9221\"],[1,\"#276419\"]]},\"xaxis\":{\"gridcolor\":\"white\",\"linecolor\":\"white\",\"ticks\":\"\",\"title\":{\"standoff\":15},\"zerolinecolor\":\"white\",\"automargin\":true,\"zerolinewidth\":2},\"yaxis\":{\"gridcolor\":\"white\",\"linecolor\":\"white\",\"ticks\":\"\",\"title\":{\"standoff\":15},\"zerolinecolor\":\"white\",\"automargin\":true,\"zerolinewidth\":2},\"scene\":{\"xaxis\":{\"backgroundcolor\":\"#E5ECF6\",\"gridcolor\":\"white\",\"linecolor\":\"white\",\"showbackground\":true,\"ticks\":\"\",\"zerolinecolor\":\"white\",\"gridwidth\":2},\"yaxis\":{\"backgroundcolor\":\"#E5ECF6\",\"gridcolor\":\"white\",\"linecolor\":\"white\",\"showbackground\":true,\"ticks\":\"\",\"zerolinecolor\":\"white\",\"gridwidth\":2},\"zaxis\":{\"backgroundcolor\":\"#E5ECF6\",\"gridcolor\":\"white\",\"linecolor\":\"white\",\"showbackground\":true,\"ticks\":\"\",\"zerolinecolor\":\"white\",\"gridwidth\":2}},\"shapedefaults\":{\"line\":{\"color\":\"#2a3f5f\"}},\"annotationdefaults\":{\"arrowcolor\":\"#2a3f5f\",\"arrowhead\":0,\"arrowwidth\":1},\"geo\":{\"bgcolor\":\"white\",\"landcolor\":\"#E5ECF6\",\"subunitcolor\":\"white\",\"showland\":true,\"showlakes\":true,\"lakecolor\":\"white\"},\"title\":{\"x\":0.05},\"mapbox\":{\"style\":\"light\"}}},\"xaxis\":{\"anchor\":\"y\",\"domain\":[0.0,1.0],\"title\":{\"text\":\"Intervention Layers\"},\"tickfont\":{\"size\":10},\"tickmode\":\"array\",\"tickvals\":[0.0,1.0999999999999999,2.8,4.5,6.200000000000001,7.900000000000002,9.600000000000001,11.300000000000004,13.000000000000004,14.700000000000006,16.400000000000006,18.1,19.799999999999997,21.499999999999993,23.19999999999999,24.899999999999984,26.59999999999998,28.299999999999976,29.99999999999997,31.699999999999967,33.39999999999996,35.099999999999966,36.799999999999955],\"ticktext\":[\"Baseline\",\"All Layers (0-63)\",\"Every 2nd Layer\",\"Every 4th Layer\",\"Layers 32-63\",\"All Layers (0-63)\",\"Layers 0-15\",\"Layers 8-15\",\"Layers 16-23\",\"Layers 24-31\",\"Layers 32-39\",\"Layers 40-47\",\"Layers 48-55\",\"Layers 56-63\",\"All Layers (0-63)\",\"Layers 0-15\",\"Layers 8-15\",\"Layers 16-23\",\"Layers 24-31\",\"Layers 32-39\",\"Layers 40-47\",\"Layers 48-55\",\"Layers 56-63\"],\"range\":[-0.5,37.899999999999956]},\"yaxis\":{\"anchor\":\"x\",\"domain\":[0.0,1.0],\"title\":{\"text\":\"Score\"},\"tickfont\":{\"size\":10},\"range\":[0,100]},\"annotations\":[{\"font\":{\"size\":16},\"showarrow\":false,\"text\":\"EQ-Bench Score (Higher is Better)\",\"x\":0.5,\"xanchor\":\"center\",\"xref\":\"paper\",\"y\":1.0,\"yanchor\":\"bottom\",\"yref\":\"paper\"},{\"showarrow\":false,\"text\":\"\\u003cspan style='font-size:10px'\\u003eProjection caps in each bar group\\u003cbr\\u003e(L-R) strict to relaxed\\u003c\\u002fspan\\u003e\",\"x\":1,\"xanchor\":\"right\",\"xref\":\"paper\",\"y\":1,\"yanchor\":\"top\",\"yref\":\"paper\"}],\"shapes\":[{\"line\":{\"color\":\"green\",\"dash\":\"dot\",\"width\":1},\"opacity\":0.8,\"type\":\"line\",\"x0\":0,\"x1\":1,\"xref\":\"x domain\",\"y0\":82.29415213753882,\"y1\":82.29415213753882,\"yref\":\"y\"}],\"legend\":{\"x\":1.0,\"y\":1.08,\"xanchor\":\"right\",\"yanchor\":\"bottom\",\"orientation\":\"h\"},\"title\":{\"subtitle\":{\"text\":\"Qwen 3 32B, Single-Shot & No Thinking\"},\"text\":\"EQ-Bench with Projection Capping\"},\"margin\":{\"b\":100,\"t\":150},\"height\":550,\"width\":1000},                        {\"responsive\": true}                    ).then(function(){\n",
       "                            \n",
       "var gd = document.getElementById('9b1235e1-1f9c-4ca4-8573-f9509905091d');\n",
       "var x = new MutationObserver(function (mutations, observer) {{\n",
       "        var display = window.getComputedStyle(gd).display;\n",
       "        if (!display || display === 'none') {{\n",
       "            console.log([gd, 'removed!']);\n",
       "            Plotly.purge(gd);\n",
       "            observer.disconnect();\n",
       "        }}\n",
       "}});\n",
       "\n",
       "// Listen for the removal of the full notebook cells\n",
       "var notebookContainer = gd.closest('#notebook-container');\n",
       "if (notebookContainer) {{\n",
       "    x.observe(notebookContainer, {childList: true});\n",
       "}}\n",
       "\n",
       "// Listen for the clearing of the current output cell\n",
       "var outputEl = gd.closest('.output');\n",
       "if (outputEl) {{\n",
       "    x.observe(outputEl, {childList: true});\n",
       "}}\n",
       "\n",
       "                        })                };                });            </script>        </div>"
      ]
     },
     "metadata": {},
     "output_type": "display_data"
    }
   ],
   "source": [
    "fig_eq = plot_benchmark_results(df_eq, 'eq_bench', \n",
    "                                  title=\"EQ-Bench with Projection Capping\", \n",
    "                                  subtitle=subtitle,\n",
    "                                  total_layers=total_layers)\n",
    "fig_eq.show()"
   ]
  },
  {
   "cell_type": "code",
   "execution_count": null,
   "id": "1839ec4f",
   "metadata": {},
   "outputs": [],
   "source": []
  }
 ],
 "metadata": {
  "kernelspec": {
   "display_name": ".venv",
   "language": "python",
   "name": "python3"
  },
  "language_info": {
   "codemirror_mode": {
    "name": "ipython",
    "version": 3
   },
   "file_extension": ".py",
   "mimetype": "text/x-python",
   "name": "python",
   "nbconvert_exporter": "python",
   "pygments_lexer": "ipython3",
   "version": "3.13.5"
  }
 },
 "nbformat": 4,
 "nbformat_minor": 5
}
