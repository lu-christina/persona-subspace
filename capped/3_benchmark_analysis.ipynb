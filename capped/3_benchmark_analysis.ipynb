{
 "cells": [
  {
   "cell_type": "markdown",
   "id": "3f397123",
   "metadata": {},
   "source": [
    "# Benchmark analysis"
   ]
  },
  {
   "cell_type": "code",
   "execution_count": 1,
   "id": "e7632800",
   "metadata": {},
   "outputs": [],
   "source": [
    "import json\n",
    "import os\n",
    "import pandas as pd\n",
    "import numpy as np\n",
    "from collections import defaultdict\n",
    "\n",
    "import plotly.graph_objects as go"
   ]
  },
  {
   "cell_type": "code",
   "execution_count": 2,
   "id": "7f0a753a",
   "metadata": {},
   "outputs": [],
   "source": [
    "model = \"qwen-3-32b\"\n",
    "total_layers = 64\n",
    "subtitle = f\"{model.replace('-', ' ').title()}, Single-Shot & No Thinking\"\n",
    "base_dir = f\"/workspace/{model}/capped\"\n",
    "out_dir = f\"/root/git/plots/{model}/capped/results/benchmarks\"\n",
    "\n",
    "os.makedirs(out_dir, exist_ok=True)\n",
    "\n",
    "config_names = [\"baseline\", \"role_trait\", \"jailbreak\"]"
   ]
  },
  {
   "cell_type": "code",
   "execution_count": 3,
   "id": "as7hr1682a",
   "metadata": {},
   "outputs": [
    {
     "name": "stdout",
     "output_type": "stream",
     "text": [
      "Config setup complete\n"
     ]
    }
   ],
   "source": [
    "# Configure experiment naming based on config type\n",
    "\n",
    "# Jailbreak config (harm/safe pattern)\n",
    "JAILBREAK_CAP_NAMES = {\n",
    "    'harm_0.25': 'Harm 75th',\n",
    "    'harm_0.01': 'Harm 99th', \n",
    "    'safe_0.50': 'Safe 50th',\n",
    "    'safe_0.01': 'Safe 99th',\n",
    "}\n",
    "\n",
    "JAILBREAK_LAYER_GROUPS = {\n",
    "    f'{total_layers//2}:{total_layers}': f'Layers {total_layers//2}-{total_layers-1}',\n",
    "    f'0:{total_layers}': f'All Layers (0-{total_layers-1})',\n",
    "    f'2:{total_layers}:2': 'Every 2nd Layer',\n",
    "    f'4:{total_layers}:4': 'Every 4th Layer',\n",
    "}\n",
    "\n",
    "# Role/trait config (percentile pattern)\n",
    "ROLE_TRAIT_CAP_NAMES = {\n",
    "    'p0.01': '1st',\n",
    "    'p0.25': '25th',\n",
    "    'p0.5': '50th',\n",
    "    'p0.75': '75th',\n",
    "}\n",
    "\n",
    "ROLE_TRAIT_LAYER_GROUPS = {\n",
    "    f'0:{total_layers}': f\"All Layers (0-{total_layers-1})\",\n",
    "    f'0:{total_layers//4}': f\"Layers 0-{total_layers//4-1}\",\n",
    "    f'{total_layers//8}:{total_layers//8 + total_layers//8}': f\"Layers {total_layers//8}-{total_layers//4-1}\",\n",
    "    f'{total_layers//4}:{total_layers//4 + total_layers//8}': f\"Layers {total_layers//4}-{total_layers//4 + total_layers//8-1}\",\n",
    "}\n",
    "\n",
    "def parse_experiment_name(exp_id, config_name):\n",
    "    \"\"\"Parse experiment ID into human-readable name\"\"\"\n",
    "    if exp_id == \"baseline\":\n",
    "        return \"Baseline\"\n",
    "    \n",
    "    # Select appropriate mappings based on config\n",
    "    if config_name == \"jailbreak\":\n",
    "        cap_names = JAILBREAK_CAP_NAMES\n",
    "        layer_groups = JAILBREAK_LAYER_GROUPS\n",
    "    else:  # role_trait\n",
    "        cap_names = ROLE_TRAIT_CAP_NAMES\n",
    "        layer_groups = ROLE_TRAIT_LAYER_GROUPS\n",
    "    \n",
    "    # Parse format: layers_X:Y-cap or layers_X:Y:Z-cap\n",
    "    parts = exp_id.split('-')\n",
    "    if len(parts) != 2:\n",
    "        return exp_id\n",
    "    \n",
    "    layer_part, cap_part = parts\n",
    "    \n",
    "    # Extract layer range\n",
    "    layer_spec = layer_part.replace('layers_', '')\n",
    "    layer_name = layer_groups.get(layer_spec, layer_spec)\n",
    "    \n",
    "    # Extract cap name\n",
    "    cap_name = cap_names.get(cap_part, cap_part)\n",
    "    \n",
    "    return f\"{layer_name}, {cap_name}\"\n",
    "\n",
    "print(\"Config setup complete\")"
   ]
  },
  {
   "cell_type": "markdown",
   "id": "09467a88",
   "metadata": {},
   "source": [
    "## IFEval"
   ]
  },
  {
   "cell_type": "code",
   "execution_count": null,
   "id": "bf33c6fb",
   "metadata": {},
   "outputs": [
    {
     "name": "stdout",
     "output_type": "stream",
     "text": [
      "Loaded 33 experiments\n",
      "Config breakdown: {'role_trait': 16, 'jailbreak': 16, 'baseline': 1}\n"
     ]
    },
    {
     "data": {
      "text/html": [
       "<div>\n",
       "<style scoped>\n",
       "    .dataframe tbody tr th:only-of-type {\n",
       "        vertical-align: middle;\n",
       "    }\n",
       "\n",
       "    .dataframe tbody tr th {\n",
       "        vertical-align: top;\n",
       "    }\n",
       "\n",
       "    .dataframe thead th {\n",
       "        text-align: right;\n",
       "    }\n",
       "</style>\n",
       "<table border=\"1\" class=\"dataframe\">\n",
       "  <thead>\n",
       "    <tr style=\"text-align: right;\">\n",
       "      <th></th>\n",
       "      <th>config_name</th>\n",
       "      <th>experiment_id</th>\n",
       "      <th>alias</th>\n",
       "      <th>prompt_level_strict_acc,none</th>\n",
       "      <th>prompt_level_strict_acc_stderr,none</th>\n",
       "      <th>inst_level_strict_acc,none</th>\n",
       "      <th>inst_level_strict_acc_stderr,none</th>\n",
       "      <th>prompt_level_loose_acc,none</th>\n",
       "      <th>prompt_level_loose_acc_stderr,none</th>\n",
       "      <th>inst_level_loose_acc,none</th>\n",
       "      <th>inst_level_loose_acc_stderr,none</th>\n",
       "    </tr>\n",
       "  </thead>\n",
       "  <tbody>\n",
       "    <tr>\n",
       "      <th>0</th>\n",
       "      <td>baseline</td>\n",
       "      <td>baseline</td>\n",
       "      <td>ifeval</td>\n",
       "      <td>0.468</td>\n",
       "      <td>0.022337</td>\n",
       "      <td>0.601552</td>\n",
       "      <td>N/A</td>\n",
       "      <td>0.486</td>\n",
       "      <td>0.022374</td>\n",
       "      <td>0.615783</td>\n",
       "      <td>N/A</td>\n",
       "    </tr>\n",
       "    <tr>\n",
       "      <th>1</th>\n",
       "      <td>role_trait</td>\n",
       "      <td>layers_16:24-p0.75</td>\n",
       "      <td>ifeval</td>\n",
       "      <td>0.478</td>\n",
       "      <td>0.022361</td>\n",
       "      <td>0.608021</td>\n",
       "      <td>N/A</td>\n",
       "      <td>0.490</td>\n",
       "      <td>0.022379</td>\n",
       "      <td>0.619664</td>\n",
       "      <td>N/A</td>\n",
       "    </tr>\n",
       "    <tr>\n",
       "      <th>2</th>\n",
       "      <td>role_trait</td>\n",
       "      <td>layers_8:16-p0.75</td>\n",
       "      <td>ifeval</td>\n",
       "      <td>0.472</td>\n",
       "      <td>0.022348</td>\n",
       "      <td>0.598965</td>\n",
       "      <td>N/A</td>\n",
       "      <td>0.484</td>\n",
       "      <td>0.022372</td>\n",
       "      <td>0.610608</td>\n",
       "      <td>N/A</td>\n",
       "    </tr>\n",
       "    <tr>\n",
       "      <th>3</th>\n",
       "      <td>role_trait</td>\n",
       "      <td>layers_8:16-p0.01</td>\n",
       "      <td>ifeval</td>\n",
       "      <td>0.476</td>\n",
       "      <td>0.022357</td>\n",
       "      <td>0.606727</td>\n",
       "      <td>N/A</td>\n",
       "      <td>0.488</td>\n",
       "      <td>0.022377</td>\n",
       "      <td>0.619664</td>\n",
       "      <td>N/A</td>\n",
       "    </tr>\n",
       "    <tr>\n",
       "      <th>4</th>\n",
       "      <td>role_trait</td>\n",
       "      <td>layers_8:16-p0.25</td>\n",
       "      <td>ifeval</td>\n",
       "      <td>0.484</td>\n",
       "      <td>0.022372</td>\n",
       "      <td>0.610608</td>\n",
       "      <td>N/A</td>\n",
       "      <td>0.500</td>\n",
       "      <td>0.022383</td>\n",
       "      <td>0.624838</td>\n",
       "      <td>N/A</td>\n",
       "    </tr>\n",
       "  </tbody>\n",
       "</table>\n",
       "</div>"
      ],
      "text/plain": [
       "  config_name       experiment_id   alias  prompt_level_strict_acc,none  \\\n",
       "0    baseline            baseline  ifeval                         0.468   \n",
       "1  role_trait  layers_16:24-p0.75  ifeval                         0.478   \n",
       "2  role_trait   layers_8:16-p0.75  ifeval                         0.472   \n",
       "3  role_trait   layers_8:16-p0.01  ifeval                         0.476   \n",
       "4  role_trait   layers_8:16-p0.25  ifeval                         0.484   \n",
       "\n",
       "   prompt_level_strict_acc_stderr,none  inst_level_strict_acc,none  \\\n",
       "0                             0.022337                    0.601552   \n",
       "1                             0.022361                    0.608021   \n",
       "2                             0.022348                    0.598965   \n",
       "3                             0.022357                    0.606727   \n",
       "4                             0.022372                    0.610608   \n",
       "\n",
       "  inst_level_strict_acc_stderr,none  prompt_level_loose_acc,none  \\\n",
       "0                               N/A                        0.486   \n",
       "1                               N/A                        0.490   \n",
       "2                               N/A                        0.484   \n",
       "3                               N/A                        0.488   \n",
       "4                               N/A                        0.500   \n",
       "\n",
       "   prompt_level_loose_acc_stderr,none  inst_level_loose_acc,none  \\\n",
       "0                            0.022374                   0.615783   \n",
       "1                            0.022379                   0.619664   \n",
       "2                            0.022372                   0.610608   \n",
       "3                            0.022377                   0.619664   \n",
       "4                            0.022383                   0.624838   \n",
       "\n",
       "  inst_level_loose_acc_stderr,none  \n",
       "0                              N/A  \n",
       "1                              N/A  \n",
       "2                              N/A  \n",
       "3                              N/A  \n",
       "4                              N/A  "
      ]
     },
     "execution_count": 34,
     "metadata": {},
     "output_type": "execute_result"
    }
   ],
   "source": [
    "task = \"ifeval\"\n",
    "\n",
    "# load results from subdirs into a DataFrame\n",
    "bench_dir = f\"{base_dir}/benchmarks\"\n",
    "\n",
    "data_rows = []\n",
    "\n",
    "for cfg in config_names:\n",
    "    if cfg == \"baseline\":\n",
    "        # Baseline is in a different location\n",
    "        results_path = f\"{bench_dir}/baseline/{task}/latest/results.json\"\n",
    "        if os.path.exists(results_path):\n",
    "            with open(results_path, \"r\") as f:\n",
    "                data = json.load(f)\n",
    "\n",
    "            if \"results\" in data and \"ifeval\" in data[\"results\"]:\n",
    "                row = {\n",
    "                    \"config_name\": cfg,\n",
    "                    \"experiment_id\": \"baseline\"\n",
    "                }\n",
    "                row.update(data[\"results\"][\"ifeval\"])\n",
    "                data_rows.append(row)\n",
    "        else:\n",
    "            print(f\"Warning: Baseline not found at {results_path}\")\n",
    "    else:\n",
    "        # Other configs have multiple experiments\n",
    "        results_dir = f\"{bench_dir}/{cfg}\"\n",
    "\n",
    "        if not os.path.exists(results_dir):\n",
    "            print(f\"Warning: Config directory not found: {results_dir}\")\n",
    "            continue\n",
    "\n",
    "        for exp_id in os.listdir(results_dir):\n",
    "            results_path = f\"{results_dir}/{exp_id}/{task}/latest/results.json\"\n",
    "            if os.path.exists(results_path):\n",
    "                with open(results_path, \"r\") as f:\n",
    "                    data = json.load(f)\n",
    "\n",
    "                # Extract the ifeval results\n",
    "                if \"results\" in data and \"ifeval\" in data[\"results\"]:\n",
    "                    row = {\n",
    "                        \"config_name\": cfg,\n",
    "                        \"experiment_id\": exp_id\n",
    "                    }\n",
    "                    # Add all the metrics from results\n",
    "                    row.update(data[\"results\"][\"ifeval\"])\n",
    "                    data_rows.append(row)\n",
    "\n",
    "# Create DataFrame\n",
    "df = pd.DataFrame(data_rows)\n",
    "print(f\"Loaded {len(df)} experiments\")\n",
    "print(f\"Config breakdown: {df['config_name'].value_counts().to_dict()}\")\n",
    "df.head()"
   ]
  },
  {
   "cell_type": "code",
   "execution_count": 126,
   "id": "d91e3b72",
   "metadata": {},
   "outputs": [],
   "source": [
    "def plot_ifeval_results(df, title, subtitle):\n",
    "    \"\"\"\n",
    "    Plot IFEval results with 2 subplots (prompt-level and instruction-level accuracy).\n",
    "    Shows all experiments grouped by layer type within each config.\n",
    "    Baseline appears on the far left.\n",
    "    \"\"\"\n",
    "    import numpy as np\n",
    "    import plotly.graph_objects as go\n",
    "    from plotly.subplots import make_subplots\n",
    "\n",
    "    # Sort: baseline first, then by config_name and experiment_id\n",
    "    df_sorted = df.copy()\n",
    "    df_sorted['sort_key'] = df_sorted['config_name'].map({\n",
    "        'baseline': 0,\n",
    "        'role_trait': 1,\n",
    "        'jailbreak': 2\n",
    "    })\n",
    "\n",
    "    # Extract layer and cap info for better grouping\n",
    "    def extract_layer_cap(row):\n",
    "        exp_id = row['experiment_id']\n",
    "        if exp_id == 'baseline':\n",
    "            return ('baseline', 'baseline', 'baseline')\n",
    "        parts = exp_id.split('-')\n",
    "        if len(parts) == 2:\n",
    "            layer_part = parts[0].replace('layers_', '')\n",
    "            cap_part = parts[1]\n",
    "            return (layer_part, cap_part, exp_id)\n",
    "        return ('unknown', 'unknown', exp_id)\n",
    "\n",
    "    df_sorted[['layer_group', 'cap_type', 'full_id']] = df_sorted.apply(\n",
    "        extract_layer_cap, axis=1, result_type='expand'\n",
    "    )\n",
    "\n",
    "    # Sort by config, then layer group, then cap type\n",
    "    df_sorted = df_sorted.sort_values(['sort_key', 'layer_group', 'cap_type']).reset_index(drop=True)\n",
    "\n",
    "    # Parse experiment names\n",
    "    df_sorted['display_name'] = df_sorted.apply(\n",
    "        lambda row: parse_experiment_name(row['experiment_id'], row['config_name']),\n",
    "        axis=1\n",
    "    )\n",
    "\n",
    "    # Short cap label\n",
    "    def get_cap_label(row):\n",
    "        exp_id = row['experiment_id']\n",
    "        config = row['config_name']\n",
    "        if exp_id == 'baseline':\n",
    "            return 'Baseline'\n",
    "        cap_names = JAILBREAK_CAP_NAMES if config == 'jailbreak' else ROLE_TRAIT_CAP_NAMES\n",
    "        cap_part = exp_id.split('-')[1] if '-' in exp_id else exp_id\n",
    "        return cap_names.get(cap_part, cap_part)\n",
    "\n",
    "    df_sorted['cap_label'] = df_sorted.apply(get_cap_label, axis=1)\n",
    "\n",
    "    # Layer label\n",
    "    def get_layer_label(row):\n",
    "        exp_id = row['experiment_id']\n",
    "        config = row['config_name']\n",
    "        if exp_id == 'baseline':\n",
    "            return 'Baseline'\n",
    "        layer_groups = JAILBREAK_LAYER_GROUPS if config == 'jailbreak' else ROLE_TRAIT_LAYER_GROUPS\n",
    "        layer_part = exp_id.split('-')[0].replace('layers_', '') if '-' in exp_id else ''\n",
    "        return layer_groups.get(layer_part, layer_part)\n",
    "\n",
    "    df_sorted['layer_label'] = df_sorted.apply(get_layer_label, axis=1)\n",
    "\n",
    "    # Extract stderr values, convert 'N/A' to None\n",
    "    def get_stderr(series):\n",
    "        return [float(v) if v != 'N/A' else None for v in series]\n",
    "    prompt_stderr = get_stderr(df_sorted['prompt_level_strict_acc_stderr,none'])\n",
    "\n",
    "    # Calculate x positions - small gap within groups, larger gap between layer groups\n",
    "    x_positions = []\n",
    "    current_x = 0\n",
    "    prev_layer = None\n",
    "\n",
    "    bar_width = 0.35\n",
    "    gap_within_group = 0.05\n",
    "    gap_between_layers = 0.15\n",
    "\n",
    "    for _, row in df_sorted.iterrows():\n",
    "        if prev_layer is not None and row['layer_group'] != prev_layer:\n",
    "            current_x += bar_width + gap_between_layers\n",
    "        elif prev_layer is not None:\n",
    "            current_x += bar_width + gap_within_group\n",
    "        x_positions.append(current_x)\n",
    "        prev_layer = row['layer_group']\n",
    "    x_positions = np.array(x_positions)\n",
    "\n",
    "    # Create subplots\n",
    "    fig = make_subplots(\n",
    "        rows=2, cols=1,\n",
    "        subplot_titles=('Prompt-level Accuracy', 'Instruction-level Accuracy'),\n",
    "        vertical_spacing=0.12\n",
    "    )\n",
    "\n",
    "    # Colors\n",
    "    config_colors = {\n",
    "        'baseline': '#2ca02c',   # green\n",
    "        'role_trait': '#ff7f0e',  # orange\n",
    "        'jailbreak': '#d62728'    # red\n",
    "    }\n",
    "    colors = [config_colors.get(row['config_name'], '#636EFA') for _, row in df_sorted.iterrows()]\n",
    "\n",
    "    # Top subplot: Prompt-level\n",
    "    fig.add_trace(\n",
    "        go.Bar(\n",
    "            name='Prompt-level',\n",
    "            x=x_positions,\n",
    "            y=df_sorted['prompt_level_strict_acc,none'],\n",
    "            error_y=dict(type='data', array=prompt_stderr, visible=True),\n",
    "            marker_color=colors,\n",
    "            opacity=0.8,\n",
    "            width=bar_width,\n",
    "            showlegend=False,\n",
    "            hovertemplate=\"%{customdata[0]}<br>Config: %{customdata[1]}<br>Accuracy: %{y:.1%}<extra></extra>\",\n",
    "            customdata=np.column_stack([df_sorted['display_name'], df_sorted['config_name']]),\n",
    "        ),\n",
    "        row=1, col=1\n",
    "    )\n",
    "\n",
    "    # Bottom subplot: Instruction-level\n",
    "    fig.add_trace(\n",
    "        go.Bar(\n",
    "            name='Instruction-level',\n",
    "            x=x_positions,\n",
    "            y=df_sorted['inst_level_strict_acc,none'],\n",
    "            marker_color=colors,\n",
    "            width=bar_width,\n",
    "            opacity=0.8,\n",
    "            showlegend=False,\n",
    "            hovertemplate=\"%{customdata[0]}<br>Config: %{customdata[1]}<br>Accuracy: %{y:.1%}<extra></extra>\",\n",
    "            customdata=np.column_stack([df_sorted['display_name'], df_sorted['config_name']]),\n",
    "        ),\n",
    "        row=2, col=1\n",
    "    )\n",
    "\n",
    "    # Legend-only traces (so we get color legend without duplicating bars)\n",
    "    legend_names = {\n",
    "        'baseline': 'Baseline',\n",
    "        'role_trait': 'Role/Trait Rollouts',\n",
    "        'jailbreak': 'Jailbreak Rollouts'\n",
    "    }\n",
    "    present_configs = [c for c in ['baseline', 'role_trait', 'jailbreak']\n",
    "                    if c in df_sorted['config_name'].values]\n",
    "\n",
    "    for c in present_configs:\n",
    "        fig.add_trace(\n",
    "            go.Scatter(\n",
    "                x=[None], y=[None], mode='markers',\n",
    "                marker=dict(size=10, color=config_colors[c]),\n",
    "                name=legend_names[c],\n",
    "                showlegend=True\n",
    "            ),\n",
    "            row=1, col=1  # attach to top subplot; legend is global\n",
    "        )\n",
    "\n",
    "    # Place legend in top-right\n",
    "    fig.update_layout(\n",
    "        legend=dict(\n",
    "            x=1.0, y=1.06, xanchor='right', yanchor='bottom',\n",
    "            orientation='h',\n",
    "        )\n",
    "    )\n",
    "\n",
    "    # Calculate config group boundaries for annotations\n",
    "    config_ranges = {}\n",
    "    for config in ['baseline', 'role_trait', 'jailbreak']:\n",
    "        config_df = df_sorted[df_sorted['config_name'] == config]\n",
    "        if len(config_df) > 0:\n",
    "            indices = config_df.index\n",
    "            config_ranges[config] = (x_positions[indices[0]], x_positions[indices[-1]])\n",
    "\n",
    "    # Add a single \"(L-R) …\" legend line under each rollout heading\n",
    "    def lr_caption_for(config_name):\n",
    "        cfg = df_sorted[df_sorted['config_name'] == config_name].copy()\n",
    "        if cfg.empty:\n",
    "            return \"\"\n",
    "        # Keep the left-to-right order shown in the chart\n",
    "        cfg = cfg.iloc[np.argsort(x_positions[cfg.index])]\n",
    "        # Skip baseline bars inside a config, if any\n",
    "        labels = [lbl for lbl in cfg['cap_label'].tolist() if lbl.lower() != 'baseline']\n",
    "        return \"(L-R in each bar group)<br>\" + \", \".join(labels[:4]) if labels else \"\"\n",
    "\n",
    "    for config in ['role_trait', 'jailbreak']:\n",
    "        if config in config_ranges:\n",
    "            x_start, x_end = config_ranges[config]\n",
    "            x_center = (x_start + x_end) / 2\n",
    "            caption = lr_caption_for(config)\n",
    "            if caption:\n",
    "                fig.add_annotation(\n",
    "                x=x_center, y=0.75,                 # adjust as you like\n",
    "                text=f\"<span style='font-size:10px'>{caption}</span>\",\n",
    "                showarrow=False, xref='x', yref='paper',\n",
    "                yanchor='top', row=1, col=1         # <-- top subplot only\n",
    "            )\n",
    "\n",
    "    # Calculate layer group centers for x-axis labels\n",
    "    layer_centers, layer_labels = [], []\n",
    "    prev_layer = None\n",
    "    group_start = 0\n",
    "    for i, (_, row) in enumerate(df_sorted.iterrows()):\n",
    "        if prev_layer is not None and row['layer_group'] != prev_layer:\n",
    "            group_center = (x_positions[group_start] + x_positions[i-1]) / 2\n",
    "            layer_centers.append(group_center)\n",
    "            layer_labels.append(df_sorted.iloc[group_start]['layer_label'])\n",
    "            group_start = i\n",
    "        prev_layer = row['layer_group']\n",
    "    if len(df_sorted) > 0:\n",
    "        group_center = (x_positions[group_start] + x_positions[-1]) / 2\n",
    "        layer_centers.append(group_center)\n",
    "        layer_labels.append(df_sorted.iloc[group_start]['layer_label'])\n",
    "\n",
    "    # Layout & axes\n",
    "    fig.update_layout(\n",
    "        title=dict(text=f\"{title}\", subtitle=dict(text=subtitle)),\n",
    "        height=900, width=1000, margin=dict(b=100, t=150)\n",
    "    )\n",
    "    fig.update_yaxes(title_text=\"Accuracy\", range=[0, 0.8], row=1, col=1, tickfont=dict(size=10))\n",
    "    fig.update_yaxes(title_text=\"Accuracy\", range=[0, 0.8], row=2, col=1, tickfont=dict(size=10))\n",
    "    fig.update_xaxes(title_text=\"Intervention Layers\", row=2, col=1)\n",
    "\n",
    "    fig.update_xaxes(\n",
    "        tickmode='array', tickvals=layer_centers, ticktext=layer_labels,\n",
    "        range=[x_positions[0] - 0.5, x_positions[-1] + 0.5], row=1, col=1, tickfont=dict(size=10)\n",
    "    )\n",
    "    fig.update_xaxes(\n",
    "        tickmode='array', tickvals=layer_centers, ticktext=layer_labels,\n",
    "        range=[x_positions[0] - 0.5, x_positions[-1] + 0.5], row=2, col=1, tickfont=dict(size=10)\n",
    "    )\n",
    "\n",
    "    return fig\n"
   ]
  },
  {
   "cell_type": "code",
   "execution_count": 127,
   "id": "muulexwd2",
   "metadata": {},
   "outputs": [
    {
     "data": {
      "application/vnd.plotly.v1+json": {
       "config": {
        "plotlyServerURL": "https://plot.ly"
       },
       "data": [
        {
         "customdata": [
          [
           "Baseline",
           "baseline"
          ],
          [
           "Layers 0-15, 1st",
           "role_trait"
          ],
          [
           "Layers 0-15, 25th",
           "role_trait"
          ],
          [
           "Layers 0-15, 50th",
           "role_trait"
          ],
          [
           "Layers 0-15, 75th",
           "role_trait"
          ],
          [
           "All Layers (0-63), 1st",
           "role_trait"
          ],
          [
           "All Layers (0-63), 25th",
           "role_trait"
          ],
          [
           "All Layers (0-63), 50th",
           "role_trait"
          ],
          [
           "All Layers (0-63), 75th",
           "role_trait"
          ],
          [
           "Layers 16-23, 1st",
           "role_trait"
          ],
          [
           "Layers 16-23, 25th",
           "role_trait"
          ],
          [
           "Layers 16-23, 50th",
           "role_trait"
          ],
          [
           "Layers 16-23, 75th",
           "role_trait"
          ],
          [
           "Layers 8-15, 1st",
           "role_trait"
          ],
          [
           "Layers 8-15, 25th",
           "role_trait"
          ],
          [
           "Layers 8-15, 50th",
           "role_trait"
          ],
          [
           "Layers 8-15, 75th",
           "role_trait"
          ],
          [
           "All Layers (0-63), Harm 99th",
           "jailbreak"
          ],
          [
           "All Layers (0-63), Harm 75th",
           "jailbreak"
          ],
          [
           "All Layers (0-63), Safe 99th",
           "jailbreak"
          ],
          [
           "All Layers (0-63), Safe 50th",
           "jailbreak"
          ],
          [
           "Every 2nd Layer, Harm 99th",
           "jailbreak"
          ],
          [
           "Every 2nd Layer, Harm 75th",
           "jailbreak"
          ],
          [
           "Every 2nd Layer, Safe 99th",
           "jailbreak"
          ],
          [
           "Every 2nd Layer, Safe 50th",
           "jailbreak"
          ],
          [
           "Layers 32-63, Harm 99th",
           "jailbreak"
          ],
          [
           "Layers 32-63, Harm 75th",
           "jailbreak"
          ],
          [
           "Layers 32-63, Safe 99th",
           "jailbreak"
          ],
          [
           "Layers 32-63, Safe 50th",
           "jailbreak"
          ],
          [
           "Every 4th Layer, Harm 99th",
           "jailbreak"
          ],
          [
           "Every 4th Layer, Harm 75th",
           "jailbreak"
          ],
          [
           "Every 4th Layer, Safe 99th",
           "jailbreak"
          ],
          [
           "Every 4th Layer, Safe 50th",
           "jailbreak"
          ]
         ],
         "error_y": {
          "array": [
           0.022337186479044296,
           0.022352791650914174,
           0.02236139673920787,
           0.022318338119870523,
           0.022352791650914174,
           0.022331264423258324,
           0.022382894986483586,
           0.022376626797927058,
           0.022382357781962105,
           0.022352791650914174,
           0.022374298166353144,
           0.022374298166353144,
           0.02236139673920787,
           0.022357273881016475,
           0.022371610982580396,
           0.022371610982580396,
           0.022347949832668024,
           0.02206494331392886,
           0.022149790663861947,
           0.02187429930168918,
           0.02209471322976179,
           0.022382894986483586,
           0.022380208834928014,
           0.022374298166353144,
           0.022383074051792257,
           0.021966635293832883,
           0.02201748257812769,
           0.02216263442665287,
           0.022198954641476896,
           0.022382357781962105,
           0.022382357781962105,
           0.022380208834928014,
           0.022382894986483586
          ],
          "type": "data",
          "visible": true
         },
         "hovertemplate": "%{customdata[0]}<br>Config: %{customdata[1]}<br>Accuracy: %{y:.1%}<extra></extra>",
         "marker": {
          "color": [
           "#2ca02c",
           "#ff7f0e",
           "#ff7f0e",
           "#ff7f0e",
           "#ff7f0e",
           "#ff7f0e",
           "#ff7f0e",
           "#ff7f0e",
           "#ff7f0e",
           "#ff7f0e",
           "#ff7f0e",
           "#ff7f0e",
           "#ff7f0e",
           "#ff7f0e",
           "#ff7f0e",
           "#ff7f0e",
           "#ff7f0e",
           "#d62728",
           "#d62728",
           "#d62728",
           "#d62728",
           "#d62728",
           "#d62728",
           "#d62728",
           "#d62728",
           "#d62728",
           "#d62728",
           "#d62728",
           "#d62728",
           "#d62728",
           "#d62728",
           "#d62728",
           "#d62728"
          ]
         },
         "name": "Prompt-level",
         "opacity": 0.8,
         "showlegend": false,
         "type": "bar",
         "width": 0.35,
         "x": [
          0,
          0.5,
          0.8999999999999999,
          1.2999999999999998,
          1.6999999999999997,
          2.1999999999999997,
          2.5999999999999996,
          2.9999999999999996,
          3.3999999999999995,
          3.8999999999999995,
          4.3,
          4.7,
          5.1000000000000005,
          5.6000000000000005,
          6.000000000000001,
          6.400000000000001,
          6.800000000000002,
          7.300000000000002,
          7.700000000000002,
          8.100000000000001,
          8.500000000000002,
          9.000000000000002,
          9.400000000000002,
          9.800000000000002,
          10.200000000000003,
          10.700000000000003,
          11.100000000000003,
          11.500000000000004,
          11.900000000000004,
          12.400000000000004,
          12.800000000000004,
          13.200000000000005,
          13.600000000000005
         ],
         "xaxis": "x",
         "y": [
          0.468,
          0.474,
          0.478,
          0.462,
          0.474,
          0.466,
          0.502,
          0.512,
          0.504,
          0.474,
          0.486,
          0.486,
          0.478,
          0.476,
          0.484,
          0.484,
          0.472,
          0.416,
          0.428,
          0.394,
          0.42,
          0.502,
          0.508,
          0.486,
          0.5,
          0.404,
          0.41,
          0.43,
          0.436,
          0.496,
          0.504,
          0.492,
          0.502
         ],
         "yaxis": "y"
        },
        {
         "customdata": [
          [
           "Baseline",
           "baseline"
          ],
          [
           "Layers 0-15, 1st",
           "role_trait"
          ],
          [
           "Layers 0-15, 25th",
           "role_trait"
          ],
          [
           "Layers 0-15, 50th",
           "role_trait"
          ],
          [
           "Layers 0-15, 75th",
           "role_trait"
          ],
          [
           "All Layers (0-63), 1st",
           "role_trait"
          ],
          [
           "All Layers (0-63), 25th",
           "role_trait"
          ],
          [
           "All Layers (0-63), 50th",
           "role_trait"
          ],
          [
           "All Layers (0-63), 75th",
           "role_trait"
          ],
          [
           "Layers 16-23, 1st",
           "role_trait"
          ],
          [
           "Layers 16-23, 25th",
           "role_trait"
          ],
          [
           "Layers 16-23, 50th",
           "role_trait"
          ],
          [
           "Layers 16-23, 75th",
           "role_trait"
          ],
          [
           "Layers 8-15, 1st",
           "role_trait"
          ],
          [
           "Layers 8-15, 25th",
           "role_trait"
          ],
          [
           "Layers 8-15, 50th",
           "role_trait"
          ],
          [
           "Layers 8-15, 75th",
           "role_trait"
          ],
          [
           "All Layers (0-63), Harm 99th",
           "jailbreak"
          ],
          [
           "All Layers (0-63), Harm 75th",
           "jailbreak"
          ],
          [
           "All Layers (0-63), Safe 99th",
           "jailbreak"
          ],
          [
           "All Layers (0-63), Safe 50th",
           "jailbreak"
          ],
          [
           "Every 2nd Layer, Harm 99th",
           "jailbreak"
          ],
          [
           "Every 2nd Layer, Harm 75th",
           "jailbreak"
          ],
          [
           "Every 2nd Layer, Safe 99th",
           "jailbreak"
          ],
          [
           "Every 2nd Layer, Safe 50th",
           "jailbreak"
          ],
          [
           "Layers 32-63, Harm 99th",
           "jailbreak"
          ],
          [
           "Layers 32-63, Harm 75th",
           "jailbreak"
          ],
          [
           "Layers 32-63, Safe 99th",
           "jailbreak"
          ],
          [
           "Layers 32-63, Safe 50th",
           "jailbreak"
          ],
          [
           "Every 4th Layer, Harm 99th",
           "jailbreak"
          ],
          [
           "Every 4th Layer, Harm 75th",
           "jailbreak"
          ],
          [
           "Every 4th Layer, Safe 99th",
           "jailbreak"
          ],
          [
           "Every 4th Layer, Safe 50th",
           "jailbreak"
          ]
         ],
         "hovertemplate": "%{customdata[0]}<br>Config: %{customdata[1]}<br>Accuracy: %{y:.1%}<extra></extra>",
         "marker": {
          "color": [
           "#2ca02c",
           "#ff7f0e",
           "#ff7f0e",
           "#ff7f0e",
           "#ff7f0e",
           "#ff7f0e",
           "#ff7f0e",
           "#ff7f0e",
           "#ff7f0e",
           "#ff7f0e",
           "#ff7f0e",
           "#ff7f0e",
           "#ff7f0e",
           "#ff7f0e",
           "#ff7f0e",
           "#ff7f0e",
           "#ff7f0e",
           "#d62728",
           "#d62728",
           "#d62728",
           "#d62728",
           "#d62728",
           "#d62728",
           "#d62728",
           "#d62728",
           "#d62728",
           "#d62728",
           "#d62728",
           "#d62728",
           "#d62728",
           "#d62728",
           "#d62728",
           "#d62728"
          ]
         },
         "name": "Instruction-level",
         "opacity": 0.8,
         "showlegend": false,
         "type": "bar",
         "width": 0.35,
         "x": [
          0,
          0.5,
          0.8999999999999999,
          1.2999999999999998,
          1.6999999999999997,
          2.1999999999999997,
          2.5999999999999996,
          2.9999999999999996,
          3.3999999999999995,
          3.8999999999999995,
          4.3,
          4.7,
          5.1000000000000005,
          5.6000000000000005,
          6.000000000000001,
          6.400000000000001,
          6.800000000000002,
          7.300000000000002,
          7.700000000000002,
          8.100000000000001,
          8.500000000000002,
          9.000000000000002,
          9.400000000000002,
          9.800000000000002,
          10.200000000000003,
          10.700000000000003,
          11.100000000000003,
          11.500000000000004,
          11.900000000000004,
          12.400000000000004,
          12.800000000000004,
          13.200000000000005,
          13.600000000000005
         ],
         "xaxis": "x2",
         "y": [
          0.6015523932729625,
          0.5976714100905562,
          0.6054333764553687,
          0.5950840879689522,
          0.5989650711513583,
          0.5989650711513583,
          0.6274256144890039,
          0.6313065976714101,
          0.628719275549806,
          0.6015523932729625,
          0.610608020698577,
          0.6131953428201811,
          0.6080206985769728,
          0.6067270375161707,
          0.610608020698577,
          0.6144890038809832,
          0.5989650711513583,
          0.5575679172056921,
          0.5549805950840879,
          0.536869340232859,
          0.5614489003880984,
          0.6313065976714101,
          0.6326002587322122,
          0.6222509702457956,
          0.6274256144890039,
          0.5498059508408797,
          0.5549805950840879,
          0.5692108667529108,
          0.5679172056921087,
          0.6222509702457956,
          0.6209573091849935,
          0.6170763260025873,
          0.6222509702457956
         ],
         "yaxis": "y2"
        },
        {
         "marker": {
          "color": "#2ca02c",
          "size": 10
         },
         "mode": "markers",
         "name": "Baseline",
         "showlegend": true,
         "type": "scatter",
         "x": [
          null
         ],
         "xaxis": "x",
         "y": [
          null
         ],
         "yaxis": "y"
        },
        {
         "marker": {
          "color": "#ff7f0e",
          "size": 10
         },
         "mode": "markers",
         "name": "Role/Trait Rollouts",
         "showlegend": true,
         "type": "scatter",
         "x": [
          null
         ],
         "xaxis": "x",
         "y": [
          null
         ],
         "yaxis": "y"
        },
        {
         "marker": {
          "color": "#d62728",
          "size": 10
         },
         "mode": "markers",
         "name": "Jailbreak Rollouts",
         "showlegend": true,
         "type": "scatter",
         "x": [
          null
         ],
         "xaxis": "x",
         "y": [
          null
         ],
         "yaxis": "y"
        }
       ],
       "layout": {
        "annotations": [
         {
          "font": {
           "size": 16
          },
          "showarrow": false,
          "text": "Prompt-level Accuracy",
          "x": 0.5,
          "xanchor": "center",
          "xref": "paper",
          "y": 1,
          "yanchor": "bottom",
          "yref": "paper"
         },
         {
          "font": {
           "size": 16
          },
          "showarrow": false,
          "text": "Instruction-level Accuracy",
          "x": 0.5,
          "xanchor": "center",
          "xref": "paper",
          "y": 0.44,
          "yanchor": "bottom",
          "yref": "paper"
         },
         {
          "showarrow": false,
          "text": "<span style='font-size:10px'>(L-R in each bar group)<br>1st, 25th, 50th, 75th</span>",
          "x": 3.650000000000001,
          "xref": "x",
          "y": 0.75,
          "yanchor": "top",
          "yref": "y"
         },
         {
          "showarrow": false,
          "text": "<span style='font-size:10px'>(L-R in each bar group)<br>Harm 99th, Harm 75th, Safe 99th, Safe 50th</span>",
          "x": 10.450000000000003,
          "xref": "x",
          "y": 0.75,
          "yanchor": "top",
          "yref": "y"
         }
        ],
        "height": 900,
        "legend": {
         "orientation": "h",
         "x": 1,
         "xanchor": "right",
         "y": 1.06,
         "yanchor": "bottom"
        },
        "margin": {
         "b": 100,
         "t": 150
        },
        "template": {
         "data": {
          "bar": [
           {
            "error_x": {
             "color": "#2a3f5f"
            },
            "error_y": {
             "color": "#2a3f5f"
            },
            "marker": {
             "line": {
              "color": "#E5ECF6",
              "width": 0.5
             },
             "pattern": {
              "fillmode": "overlay",
              "size": 10,
              "solidity": 0.2
             }
            },
            "type": "bar"
           }
          ],
          "barpolar": [
           {
            "marker": {
             "line": {
              "color": "#E5ECF6",
              "width": 0.5
             },
             "pattern": {
              "fillmode": "overlay",
              "size": 10,
              "solidity": 0.2
             }
            },
            "type": "barpolar"
           }
          ],
          "carpet": [
           {
            "aaxis": {
             "endlinecolor": "#2a3f5f",
             "gridcolor": "white",
             "linecolor": "white",
             "minorgridcolor": "white",
             "startlinecolor": "#2a3f5f"
            },
            "baxis": {
             "endlinecolor": "#2a3f5f",
             "gridcolor": "white",
             "linecolor": "white",
             "minorgridcolor": "white",
             "startlinecolor": "#2a3f5f"
            },
            "type": "carpet"
           }
          ],
          "choropleth": [
           {
            "colorbar": {
             "outlinewidth": 0,
             "ticks": ""
            },
            "type": "choropleth"
           }
          ],
          "contour": [
           {
            "colorbar": {
             "outlinewidth": 0,
             "ticks": ""
            },
            "colorscale": [
             [
              0,
              "#0d0887"
             ],
             [
              0.1111111111111111,
              "#46039f"
             ],
             [
              0.2222222222222222,
              "#7201a8"
             ],
             [
              0.3333333333333333,
              "#9c179e"
             ],
             [
              0.4444444444444444,
              "#bd3786"
             ],
             [
              0.5555555555555556,
              "#d8576b"
             ],
             [
              0.6666666666666666,
              "#ed7953"
             ],
             [
              0.7777777777777778,
              "#fb9f3a"
             ],
             [
              0.8888888888888888,
              "#fdca26"
             ],
             [
              1,
              "#f0f921"
             ]
            ],
            "type": "contour"
           }
          ],
          "contourcarpet": [
           {
            "colorbar": {
             "outlinewidth": 0,
             "ticks": ""
            },
            "type": "contourcarpet"
           }
          ],
          "heatmap": [
           {
            "colorbar": {
             "outlinewidth": 0,
             "ticks": ""
            },
            "colorscale": [
             [
              0,
              "#0d0887"
             ],
             [
              0.1111111111111111,
              "#46039f"
             ],
             [
              0.2222222222222222,
              "#7201a8"
             ],
             [
              0.3333333333333333,
              "#9c179e"
             ],
             [
              0.4444444444444444,
              "#bd3786"
             ],
             [
              0.5555555555555556,
              "#d8576b"
             ],
             [
              0.6666666666666666,
              "#ed7953"
             ],
             [
              0.7777777777777778,
              "#fb9f3a"
             ],
             [
              0.8888888888888888,
              "#fdca26"
             ],
             [
              1,
              "#f0f921"
             ]
            ],
            "type": "heatmap"
           }
          ],
          "heatmapgl": [
           {
            "colorbar": {
             "outlinewidth": 0,
             "ticks": ""
            },
            "colorscale": [
             [
              0,
              "#0d0887"
             ],
             [
              0.1111111111111111,
              "#46039f"
             ],
             [
              0.2222222222222222,
              "#7201a8"
             ],
             [
              0.3333333333333333,
              "#9c179e"
             ],
             [
              0.4444444444444444,
              "#bd3786"
             ],
             [
              0.5555555555555556,
              "#d8576b"
             ],
             [
              0.6666666666666666,
              "#ed7953"
             ],
             [
              0.7777777777777778,
              "#fb9f3a"
             ],
             [
              0.8888888888888888,
              "#fdca26"
             ],
             [
              1,
              "#f0f921"
             ]
            ],
            "type": "heatmapgl"
           }
          ],
          "histogram": [
           {
            "marker": {
             "pattern": {
              "fillmode": "overlay",
              "size": 10,
              "solidity": 0.2
             }
            },
            "type": "histogram"
           }
          ],
          "histogram2d": [
           {
            "colorbar": {
             "outlinewidth": 0,
             "ticks": ""
            },
            "colorscale": [
             [
              0,
              "#0d0887"
             ],
             [
              0.1111111111111111,
              "#46039f"
             ],
             [
              0.2222222222222222,
              "#7201a8"
             ],
             [
              0.3333333333333333,
              "#9c179e"
             ],
             [
              0.4444444444444444,
              "#bd3786"
             ],
             [
              0.5555555555555556,
              "#d8576b"
             ],
             [
              0.6666666666666666,
              "#ed7953"
             ],
             [
              0.7777777777777778,
              "#fb9f3a"
             ],
             [
              0.8888888888888888,
              "#fdca26"
             ],
             [
              1,
              "#f0f921"
             ]
            ],
            "type": "histogram2d"
           }
          ],
          "histogram2dcontour": [
           {
            "colorbar": {
             "outlinewidth": 0,
             "ticks": ""
            },
            "colorscale": [
             [
              0,
              "#0d0887"
             ],
             [
              0.1111111111111111,
              "#46039f"
             ],
             [
              0.2222222222222222,
              "#7201a8"
             ],
             [
              0.3333333333333333,
              "#9c179e"
             ],
             [
              0.4444444444444444,
              "#bd3786"
             ],
             [
              0.5555555555555556,
              "#d8576b"
             ],
             [
              0.6666666666666666,
              "#ed7953"
             ],
             [
              0.7777777777777778,
              "#fb9f3a"
             ],
             [
              0.8888888888888888,
              "#fdca26"
             ],
             [
              1,
              "#f0f921"
             ]
            ],
            "type": "histogram2dcontour"
           }
          ],
          "mesh3d": [
           {
            "colorbar": {
             "outlinewidth": 0,
             "ticks": ""
            },
            "type": "mesh3d"
           }
          ],
          "parcoords": [
           {
            "line": {
             "colorbar": {
              "outlinewidth": 0,
              "ticks": ""
             }
            },
            "type": "parcoords"
           }
          ],
          "pie": [
           {
            "automargin": true,
            "type": "pie"
           }
          ],
          "scatter": [
           {
            "fillpattern": {
             "fillmode": "overlay",
             "size": 10,
             "solidity": 0.2
            },
            "type": "scatter"
           }
          ],
          "scatter3d": [
           {
            "line": {
             "colorbar": {
              "outlinewidth": 0,
              "ticks": ""
             }
            },
            "marker": {
             "colorbar": {
              "outlinewidth": 0,
              "ticks": ""
             }
            },
            "type": "scatter3d"
           }
          ],
          "scattercarpet": [
           {
            "marker": {
             "colorbar": {
              "outlinewidth": 0,
              "ticks": ""
             }
            },
            "type": "scattercarpet"
           }
          ],
          "scattergeo": [
           {
            "marker": {
             "colorbar": {
              "outlinewidth": 0,
              "ticks": ""
             }
            },
            "type": "scattergeo"
           }
          ],
          "scattergl": [
           {
            "marker": {
             "colorbar": {
              "outlinewidth": 0,
              "ticks": ""
             }
            },
            "type": "scattergl"
           }
          ],
          "scattermapbox": [
           {
            "marker": {
             "colorbar": {
              "outlinewidth": 0,
              "ticks": ""
             }
            },
            "type": "scattermapbox"
           }
          ],
          "scatterpolar": [
           {
            "marker": {
             "colorbar": {
              "outlinewidth": 0,
              "ticks": ""
             }
            },
            "type": "scatterpolar"
           }
          ],
          "scatterpolargl": [
           {
            "marker": {
             "colorbar": {
              "outlinewidth": 0,
              "ticks": ""
             }
            },
            "type": "scatterpolargl"
           }
          ],
          "scatterternary": [
           {
            "marker": {
             "colorbar": {
              "outlinewidth": 0,
              "ticks": ""
             }
            },
            "type": "scatterternary"
           }
          ],
          "surface": [
           {
            "colorbar": {
             "outlinewidth": 0,
             "ticks": ""
            },
            "colorscale": [
             [
              0,
              "#0d0887"
             ],
             [
              0.1111111111111111,
              "#46039f"
             ],
             [
              0.2222222222222222,
              "#7201a8"
             ],
             [
              0.3333333333333333,
              "#9c179e"
             ],
             [
              0.4444444444444444,
              "#bd3786"
             ],
             [
              0.5555555555555556,
              "#d8576b"
             ],
             [
              0.6666666666666666,
              "#ed7953"
             ],
             [
              0.7777777777777778,
              "#fb9f3a"
             ],
             [
              0.8888888888888888,
              "#fdca26"
             ],
             [
              1,
              "#f0f921"
             ]
            ],
            "type": "surface"
           }
          ],
          "table": [
           {
            "cells": {
             "fill": {
              "color": "#EBF0F8"
             },
             "line": {
              "color": "white"
             }
            },
            "header": {
             "fill": {
              "color": "#C8D4E3"
             },
             "line": {
              "color": "white"
             }
            },
            "type": "table"
           }
          ]
         },
         "layout": {
          "annotationdefaults": {
           "arrowcolor": "#2a3f5f",
           "arrowhead": 0,
           "arrowwidth": 1
          },
          "autotypenumbers": "strict",
          "coloraxis": {
           "colorbar": {
            "outlinewidth": 0,
            "ticks": ""
           }
          },
          "colorscale": {
           "diverging": [
            [
             0,
             "#8e0152"
            ],
            [
             0.1,
             "#c51b7d"
            ],
            [
             0.2,
             "#de77ae"
            ],
            [
             0.3,
             "#f1b6da"
            ],
            [
             0.4,
             "#fde0ef"
            ],
            [
             0.5,
             "#f7f7f7"
            ],
            [
             0.6,
             "#e6f5d0"
            ],
            [
             0.7,
             "#b8e186"
            ],
            [
             0.8,
             "#7fbc41"
            ],
            [
             0.9,
             "#4d9221"
            ],
            [
             1,
             "#276419"
            ]
           ],
           "sequential": [
            [
             0,
             "#0d0887"
            ],
            [
             0.1111111111111111,
             "#46039f"
            ],
            [
             0.2222222222222222,
             "#7201a8"
            ],
            [
             0.3333333333333333,
             "#9c179e"
            ],
            [
             0.4444444444444444,
             "#bd3786"
            ],
            [
             0.5555555555555556,
             "#d8576b"
            ],
            [
             0.6666666666666666,
             "#ed7953"
            ],
            [
             0.7777777777777778,
             "#fb9f3a"
            ],
            [
             0.8888888888888888,
             "#fdca26"
            ],
            [
             1,
             "#f0f921"
            ]
           ],
           "sequentialminus": [
            [
             0,
             "#0d0887"
            ],
            [
             0.1111111111111111,
             "#46039f"
            ],
            [
             0.2222222222222222,
             "#7201a8"
            ],
            [
             0.3333333333333333,
             "#9c179e"
            ],
            [
             0.4444444444444444,
             "#bd3786"
            ],
            [
             0.5555555555555556,
             "#d8576b"
            ],
            [
             0.6666666666666666,
             "#ed7953"
            ],
            [
             0.7777777777777778,
             "#fb9f3a"
            ],
            [
             0.8888888888888888,
             "#fdca26"
            ],
            [
             1,
             "#f0f921"
            ]
           ]
          },
          "colorway": [
           "#636efa",
           "#EF553B",
           "#00cc96",
           "#ab63fa",
           "#FFA15A",
           "#19d3f3",
           "#FF6692",
           "#B6E880",
           "#FF97FF",
           "#FECB52"
          ],
          "font": {
           "color": "#2a3f5f"
          },
          "geo": {
           "bgcolor": "white",
           "lakecolor": "white",
           "landcolor": "#E5ECF6",
           "showlakes": true,
           "showland": true,
           "subunitcolor": "white"
          },
          "hoverlabel": {
           "align": "left"
          },
          "hovermode": "closest",
          "mapbox": {
           "style": "light"
          },
          "paper_bgcolor": "white",
          "plot_bgcolor": "#E5ECF6",
          "polar": {
           "angularaxis": {
            "gridcolor": "white",
            "linecolor": "white",
            "ticks": ""
           },
           "bgcolor": "#E5ECF6",
           "radialaxis": {
            "gridcolor": "white",
            "linecolor": "white",
            "ticks": ""
           }
          },
          "scene": {
           "xaxis": {
            "backgroundcolor": "#E5ECF6",
            "gridcolor": "white",
            "gridwidth": 2,
            "linecolor": "white",
            "showbackground": true,
            "ticks": "",
            "zerolinecolor": "white"
           },
           "yaxis": {
            "backgroundcolor": "#E5ECF6",
            "gridcolor": "white",
            "gridwidth": 2,
            "linecolor": "white",
            "showbackground": true,
            "ticks": "",
            "zerolinecolor": "white"
           },
           "zaxis": {
            "backgroundcolor": "#E5ECF6",
            "gridcolor": "white",
            "gridwidth": 2,
            "linecolor": "white",
            "showbackground": true,
            "ticks": "",
            "zerolinecolor": "white"
           }
          },
          "shapedefaults": {
           "line": {
            "color": "#2a3f5f"
           }
          },
          "ternary": {
           "aaxis": {
            "gridcolor": "white",
            "linecolor": "white",
            "ticks": ""
           },
           "baxis": {
            "gridcolor": "white",
            "linecolor": "white",
            "ticks": ""
           },
           "bgcolor": "#E5ECF6",
           "caxis": {
            "gridcolor": "white",
            "linecolor": "white",
            "ticks": ""
           }
          },
          "title": {
           "x": 0.05
          },
          "xaxis": {
           "automargin": true,
           "gridcolor": "white",
           "linecolor": "white",
           "ticks": "",
           "title": {
            "standoff": 15
           },
           "zerolinecolor": "white",
           "zerolinewidth": 2
          },
          "yaxis": {
           "automargin": true,
           "gridcolor": "white",
           "linecolor": "white",
           "ticks": "",
           "title": {
            "standoff": 15
           },
           "zerolinecolor": "white",
           "zerolinewidth": 2
          }
         }
        },
        "title": {
         "subtitle": {
          "text": "Qwen 3 32B, Single-Shot & No Thinking"
         },
         "text": "IFEval with Projection Capping"
        },
        "width": 1000,
        "xaxis": {
         "anchor": "y",
         "domain": [
          0,
          1
         ],
         "range": [
          -0.5,
          14.100000000000005
         ],
         "tickfont": {
          "size": 10
         },
         "tickmode": "array",
         "ticktext": [
          "Baseline",
          "Layers 0-15",
          "All Layers (0-63)",
          "Layers 16-23",
          "Layers 8-15",
          "All Layers (0-63)",
          "Every 2nd Layer",
          "Layers 32-63",
          "Every 4th Layer"
         ],
         "tickvals": [
          0,
          1.0999999999999999,
          2.8,
          4.5,
          6.200000000000001,
          7.900000000000002,
          9.600000000000001,
          11.300000000000004,
          13.000000000000004
         ]
        },
        "xaxis2": {
         "anchor": "y2",
         "domain": [
          0,
          1
         ],
         "range": [
          -0.5,
          14.100000000000005
         ],
         "tickfont": {
          "size": 10
         },
         "tickmode": "array",
         "ticktext": [
          "Baseline",
          "Layers 0-15",
          "All Layers (0-63)",
          "Layers 16-23",
          "Layers 8-15",
          "All Layers (0-63)",
          "Every 2nd Layer",
          "Layers 32-63",
          "Every 4th Layer"
         ],
         "tickvals": [
          0,
          1.0999999999999999,
          2.8,
          4.5,
          6.200000000000001,
          7.900000000000002,
          9.600000000000001,
          11.300000000000004,
          13.000000000000004
         ],
         "title": {
          "text": "Intervention Layers"
         }
        },
        "yaxis": {
         "anchor": "x",
         "domain": [
          0.56,
          1
         ],
         "range": [
          0,
          0.8
         ],
         "tickfont": {
          "size": 10
         },
         "title": {
          "text": "Accuracy"
         }
        },
        "yaxis2": {
         "anchor": "x2",
         "domain": [
          0,
          0.44
         ],
         "range": [
          0,
          0.8
         ],
         "tickfont": {
          "size": 10
         },
         "title": {
          "text": "Accuracy"
         }
        }
       }
      },
      "text/html": [
       "<div>                            <div id=\"a95c90db-cfd6-42c7-a4ff-61fb7a0b82b2\" class=\"plotly-graph-div\" style=\"height:900px; width:1000px;\"></div>            <script type=\"text/javascript\">                require([\"plotly\"], function(Plotly) {                    window.PLOTLYENV=window.PLOTLYENV || {};                                    if (document.getElementById(\"a95c90db-cfd6-42c7-a4ff-61fb7a0b82b2\")) {                    Plotly.newPlot(                        \"a95c90db-cfd6-42c7-a4ff-61fb7a0b82b2\",                        [{\"customdata\":[[\"Baseline\",\"baseline\"],[\"Layers 0-15, 1st\",\"role_trait\"],[\"Layers 0-15, 25th\",\"role_trait\"],[\"Layers 0-15, 50th\",\"role_trait\"],[\"Layers 0-15, 75th\",\"role_trait\"],[\"All Layers (0-63), 1st\",\"role_trait\"],[\"All Layers (0-63), 25th\",\"role_trait\"],[\"All Layers (0-63), 50th\",\"role_trait\"],[\"All Layers (0-63), 75th\",\"role_trait\"],[\"Layers 16-23, 1st\",\"role_trait\"],[\"Layers 16-23, 25th\",\"role_trait\"],[\"Layers 16-23, 50th\",\"role_trait\"],[\"Layers 16-23, 75th\",\"role_trait\"],[\"Layers 8-15, 1st\",\"role_trait\"],[\"Layers 8-15, 25th\",\"role_trait\"],[\"Layers 8-15, 50th\",\"role_trait\"],[\"Layers 8-15, 75th\",\"role_trait\"],[\"All Layers (0-63), Harm 99th\",\"jailbreak\"],[\"All Layers (0-63), Harm 75th\",\"jailbreak\"],[\"All Layers (0-63), Safe 99th\",\"jailbreak\"],[\"All Layers (0-63), Safe 50th\",\"jailbreak\"],[\"Every 2nd Layer, Harm 99th\",\"jailbreak\"],[\"Every 2nd Layer, Harm 75th\",\"jailbreak\"],[\"Every 2nd Layer, Safe 99th\",\"jailbreak\"],[\"Every 2nd Layer, Safe 50th\",\"jailbreak\"],[\"Layers 32-63, Harm 99th\",\"jailbreak\"],[\"Layers 32-63, Harm 75th\",\"jailbreak\"],[\"Layers 32-63, Safe 99th\",\"jailbreak\"],[\"Layers 32-63, Safe 50th\",\"jailbreak\"],[\"Every 4th Layer, Harm 99th\",\"jailbreak\"],[\"Every 4th Layer, Harm 75th\",\"jailbreak\"],[\"Every 4th Layer, Safe 99th\",\"jailbreak\"],[\"Every 4th Layer, Safe 50th\",\"jailbreak\"]],\"error_y\":{\"array\":[0.022337186479044296,0.022352791650914174,0.02236139673920787,0.022318338119870523,0.022352791650914174,0.022331264423258324,0.022382894986483586,0.022376626797927058,0.022382357781962105,0.022352791650914174,0.022374298166353144,0.022374298166353144,0.02236139673920787,0.022357273881016475,0.022371610982580396,0.022371610982580396,0.022347949832668024,0.02206494331392886,0.022149790663861947,0.02187429930168918,0.02209471322976179,0.022382894986483586,0.022380208834928014,0.022374298166353144,0.022383074051792257,0.021966635293832883,0.02201748257812769,0.02216263442665287,0.022198954641476896,0.022382357781962105,0.022382357781962105,0.022380208834928014,0.022382894986483586],\"type\":\"data\",\"visible\":true},\"hovertemplate\":\"%{customdata[0]}\\u003cbr\\u003eConfig: %{customdata[1]}\\u003cbr\\u003eAccuracy: %{y:.1%}\\u003cextra\\u003e\\u003c\\u002fextra\\u003e\",\"marker\":{\"color\":[\"#2ca02c\",\"#ff7f0e\",\"#ff7f0e\",\"#ff7f0e\",\"#ff7f0e\",\"#ff7f0e\",\"#ff7f0e\",\"#ff7f0e\",\"#ff7f0e\",\"#ff7f0e\",\"#ff7f0e\",\"#ff7f0e\",\"#ff7f0e\",\"#ff7f0e\",\"#ff7f0e\",\"#ff7f0e\",\"#ff7f0e\",\"#d62728\",\"#d62728\",\"#d62728\",\"#d62728\",\"#d62728\",\"#d62728\",\"#d62728\",\"#d62728\",\"#d62728\",\"#d62728\",\"#d62728\",\"#d62728\",\"#d62728\",\"#d62728\",\"#d62728\",\"#d62728\"]},\"name\":\"Prompt-level\",\"opacity\":0.8,\"showlegend\":false,\"width\":0.35,\"x\":[0.0,0.5,0.8999999999999999,1.2999999999999998,1.6999999999999997,2.1999999999999997,2.5999999999999996,2.9999999999999996,3.3999999999999995,3.8999999999999995,4.3,4.7,5.1000000000000005,5.6000000000000005,6.000000000000001,6.400000000000001,6.800000000000002,7.300000000000002,7.700000000000002,8.100000000000001,8.500000000000002,9.000000000000002,9.400000000000002,9.800000000000002,10.200000000000003,10.700000000000003,11.100000000000003,11.500000000000004,11.900000000000004,12.400000000000004,12.800000000000004,13.200000000000005,13.600000000000005],\"y\":[0.468,0.474,0.478,0.462,0.474,0.466,0.502,0.512,0.504,0.474,0.486,0.486,0.478,0.476,0.484,0.484,0.472,0.416,0.428,0.394,0.42,0.502,0.508,0.486,0.5,0.404,0.41,0.43,0.436,0.496,0.504,0.492,0.502],\"type\":\"bar\",\"xaxis\":\"x\",\"yaxis\":\"y\"},{\"customdata\":[[\"Baseline\",\"baseline\"],[\"Layers 0-15, 1st\",\"role_trait\"],[\"Layers 0-15, 25th\",\"role_trait\"],[\"Layers 0-15, 50th\",\"role_trait\"],[\"Layers 0-15, 75th\",\"role_trait\"],[\"All Layers (0-63), 1st\",\"role_trait\"],[\"All Layers (0-63), 25th\",\"role_trait\"],[\"All Layers (0-63), 50th\",\"role_trait\"],[\"All Layers (0-63), 75th\",\"role_trait\"],[\"Layers 16-23, 1st\",\"role_trait\"],[\"Layers 16-23, 25th\",\"role_trait\"],[\"Layers 16-23, 50th\",\"role_trait\"],[\"Layers 16-23, 75th\",\"role_trait\"],[\"Layers 8-15, 1st\",\"role_trait\"],[\"Layers 8-15, 25th\",\"role_trait\"],[\"Layers 8-15, 50th\",\"role_trait\"],[\"Layers 8-15, 75th\",\"role_trait\"],[\"All Layers (0-63), Harm 99th\",\"jailbreak\"],[\"All Layers (0-63), Harm 75th\",\"jailbreak\"],[\"All Layers (0-63), Safe 99th\",\"jailbreak\"],[\"All Layers (0-63), Safe 50th\",\"jailbreak\"],[\"Every 2nd Layer, Harm 99th\",\"jailbreak\"],[\"Every 2nd Layer, Harm 75th\",\"jailbreak\"],[\"Every 2nd Layer, Safe 99th\",\"jailbreak\"],[\"Every 2nd Layer, Safe 50th\",\"jailbreak\"],[\"Layers 32-63, Harm 99th\",\"jailbreak\"],[\"Layers 32-63, Harm 75th\",\"jailbreak\"],[\"Layers 32-63, Safe 99th\",\"jailbreak\"],[\"Layers 32-63, Safe 50th\",\"jailbreak\"],[\"Every 4th Layer, Harm 99th\",\"jailbreak\"],[\"Every 4th Layer, Harm 75th\",\"jailbreak\"],[\"Every 4th Layer, Safe 99th\",\"jailbreak\"],[\"Every 4th Layer, Safe 50th\",\"jailbreak\"]],\"hovertemplate\":\"%{customdata[0]}\\u003cbr\\u003eConfig: %{customdata[1]}\\u003cbr\\u003eAccuracy: %{y:.1%}\\u003cextra\\u003e\\u003c\\u002fextra\\u003e\",\"marker\":{\"color\":[\"#2ca02c\",\"#ff7f0e\",\"#ff7f0e\",\"#ff7f0e\",\"#ff7f0e\",\"#ff7f0e\",\"#ff7f0e\",\"#ff7f0e\",\"#ff7f0e\",\"#ff7f0e\",\"#ff7f0e\",\"#ff7f0e\",\"#ff7f0e\",\"#ff7f0e\",\"#ff7f0e\",\"#ff7f0e\",\"#ff7f0e\",\"#d62728\",\"#d62728\",\"#d62728\",\"#d62728\",\"#d62728\",\"#d62728\",\"#d62728\",\"#d62728\",\"#d62728\",\"#d62728\",\"#d62728\",\"#d62728\",\"#d62728\",\"#d62728\",\"#d62728\",\"#d62728\"]},\"name\":\"Instruction-level\",\"opacity\":0.8,\"showlegend\":false,\"width\":0.35,\"x\":[0.0,0.5,0.8999999999999999,1.2999999999999998,1.6999999999999997,2.1999999999999997,2.5999999999999996,2.9999999999999996,3.3999999999999995,3.8999999999999995,4.3,4.7,5.1000000000000005,5.6000000000000005,6.000000000000001,6.400000000000001,6.800000000000002,7.300000000000002,7.700000000000002,8.100000000000001,8.500000000000002,9.000000000000002,9.400000000000002,9.800000000000002,10.200000000000003,10.700000000000003,11.100000000000003,11.500000000000004,11.900000000000004,12.400000000000004,12.800000000000004,13.200000000000005,13.600000000000005],\"y\":[0.6015523932729625,0.5976714100905562,0.6054333764553687,0.5950840879689522,0.5989650711513583,0.5989650711513583,0.6274256144890039,0.6313065976714101,0.628719275549806,0.6015523932729625,0.610608020698577,0.6131953428201811,0.6080206985769728,0.6067270375161707,0.610608020698577,0.6144890038809832,0.5989650711513583,0.5575679172056921,0.5549805950840879,0.536869340232859,0.5614489003880984,0.6313065976714101,0.6326002587322122,0.6222509702457956,0.6274256144890039,0.5498059508408797,0.5549805950840879,0.5692108667529108,0.5679172056921087,0.6222509702457956,0.6209573091849935,0.6170763260025873,0.6222509702457956],\"type\":\"bar\",\"xaxis\":\"x2\",\"yaxis\":\"y2\"},{\"marker\":{\"color\":\"#2ca02c\",\"size\":10},\"mode\":\"markers\",\"name\":\"Baseline\",\"showlegend\":true,\"x\":[null],\"y\":[null],\"type\":\"scatter\",\"xaxis\":\"x\",\"yaxis\":\"y\"},{\"marker\":{\"color\":\"#ff7f0e\",\"size\":10},\"mode\":\"markers\",\"name\":\"Role\\u002fTrait Rollouts\",\"showlegend\":true,\"x\":[null],\"y\":[null],\"type\":\"scatter\",\"xaxis\":\"x\",\"yaxis\":\"y\"},{\"marker\":{\"color\":\"#d62728\",\"size\":10},\"mode\":\"markers\",\"name\":\"Jailbreak Rollouts\",\"showlegend\":true,\"x\":[null],\"y\":[null],\"type\":\"scatter\",\"xaxis\":\"x\",\"yaxis\":\"y\"}],                        {\"template\":{\"data\":{\"histogram2dcontour\":[{\"type\":\"histogram2dcontour\",\"colorbar\":{\"outlinewidth\":0,\"ticks\":\"\"},\"colorscale\":[[0.0,\"#0d0887\"],[0.1111111111111111,\"#46039f\"],[0.2222222222222222,\"#7201a8\"],[0.3333333333333333,\"#9c179e\"],[0.4444444444444444,\"#bd3786\"],[0.5555555555555556,\"#d8576b\"],[0.6666666666666666,\"#ed7953\"],[0.7777777777777778,\"#fb9f3a\"],[0.8888888888888888,\"#fdca26\"],[1.0,\"#f0f921\"]]}],\"choropleth\":[{\"type\":\"choropleth\",\"colorbar\":{\"outlinewidth\":0,\"ticks\":\"\"}}],\"histogram2d\":[{\"type\":\"histogram2d\",\"colorbar\":{\"outlinewidth\":0,\"ticks\":\"\"},\"colorscale\":[[0.0,\"#0d0887\"],[0.1111111111111111,\"#46039f\"],[0.2222222222222222,\"#7201a8\"],[0.3333333333333333,\"#9c179e\"],[0.4444444444444444,\"#bd3786\"],[0.5555555555555556,\"#d8576b\"],[0.6666666666666666,\"#ed7953\"],[0.7777777777777778,\"#fb9f3a\"],[0.8888888888888888,\"#fdca26\"],[1.0,\"#f0f921\"]]}],\"heatmap\":[{\"type\":\"heatmap\",\"colorbar\":{\"outlinewidth\":0,\"ticks\":\"\"},\"colorscale\":[[0.0,\"#0d0887\"],[0.1111111111111111,\"#46039f\"],[0.2222222222222222,\"#7201a8\"],[0.3333333333333333,\"#9c179e\"],[0.4444444444444444,\"#bd3786\"],[0.5555555555555556,\"#d8576b\"],[0.6666666666666666,\"#ed7953\"],[0.7777777777777778,\"#fb9f3a\"],[0.8888888888888888,\"#fdca26\"],[1.0,\"#f0f921\"]]}],\"heatmapgl\":[{\"type\":\"heatmapgl\",\"colorbar\":{\"outlinewidth\":0,\"ticks\":\"\"},\"colorscale\":[[0.0,\"#0d0887\"],[0.1111111111111111,\"#46039f\"],[0.2222222222222222,\"#7201a8\"],[0.3333333333333333,\"#9c179e\"],[0.4444444444444444,\"#bd3786\"],[0.5555555555555556,\"#d8576b\"],[0.6666666666666666,\"#ed7953\"],[0.7777777777777778,\"#fb9f3a\"],[0.8888888888888888,\"#fdca26\"],[1.0,\"#f0f921\"]]}],\"contourcarpet\":[{\"type\":\"contourcarpet\",\"colorbar\":{\"outlinewidth\":0,\"ticks\":\"\"}}],\"contour\":[{\"type\":\"contour\",\"colorbar\":{\"outlinewidth\":0,\"ticks\":\"\"},\"colorscale\":[[0.0,\"#0d0887\"],[0.1111111111111111,\"#46039f\"],[0.2222222222222222,\"#7201a8\"],[0.3333333333333333,\"#9c179e\"],[0.4444444444444444,\"#bd3786\"],[0.5555555555555556,\"#d8576b\"],[0.6666666666666666,\"#ed7953\"],[0.7777777777777778,\"#fb9f3a\"],[0.8888888888888888,\"#fdca26\"],[1.0,\"#f0f921\"]]}],\"surface\":[{\"type\":\"surface\",\"colorbar\":{\"outlinewidth\":0,\"ticks\":\"\"},\"colorscale\":[[0.0,\"#0d0887\"],[0.1111111111111111,\"#46039f\"],[0.2222222222222222,\"#7201a8\"],[0.3333333333333333,\"#9c179e\"],[0.4444444444444444,\"#bd3786\"],[0.5555555555555556,\"#d8576b\"],[0.6666666666666666,\"#ed7953\"],[0.7777777777777778,\"#fb9f3a\"],[0.8888888888888888,\"#fdca26\"],[1.0,\"#f0f921\"]]}],\"mesh3d\":[{\"type\":\"mesh3d\",\"colorbar\":{\"outlinewidth\":0,\"ticks\":\"\"}}],\"scatter\":[{\"fillpattern\":{\"fillmode\":\"overlay\",\"size\":10,\"solidity\":0.2},\"type\":\"scatter\"}],\"parcoords\":[{\"type\":\"parcoords\",\"line\":{\"colorbar\":{\"outlinewidth\":0,\"ticks\":\"\"}}}],\"scatterpolargl\":[{\"type\":\"scatterpolargl\",\"marker\":{\"colorbar\":{\"outlinewidth\":0,\"ticks\":\"\"}}}],\"bar\":[{\"error_x\":{\"color\":\"#2a3f5f\"},\"error_y\":{\"color\":\"#2a3f5f\"},\"marker\":{\"line\":{\"color\":\"#E5ECF6\",\"width\":0.5},\"pattern\":{\"fillmode\":\"overlay\",\"size\":10,\"solidity\":0.2}},\"type\":\"bar\"}],\"scattergeo\":[{\"type\":\"scattergeo\",\"marker\":{\"colorbar\":{\"outlinewidth\":0,\"ticks\":\"\"}}}],\"scatterpolar\":[{\"type\":\"scatterpolar\",\"marker\":{\"colorbar\":{\"outlinewidth\":0,\"ticks\":\"\"}}}],\"histogram\":[{\"marker\":{\"pattern\":{\"fillmode\":\"overlay\",\"size\":10,\"solidity\":0.2}},\"type\":\"histogram\"}],\"scattergl\":[{\"type\":\"scattergl\",\"marker\":{\"colorbar\":{\"outlinewidth\":0,\"ticks\":\"\"}}}],\"scatter3d\":[{\"type\":\"scatter3d\",\"line\":{\"colorbar\":{\"outlinewidth\":0,\"ticks\":\"\"}},\"marker\":{\"colorbar\":{\"outlinewidth\":0,\"ticks\":\"\"}}}],\"scattermapbox\":[{\"type\":\"scattermapbox\",\"marker\":{\"colorbar\":{\"outlinewidth\":0,\"ticks\":\"\"}}}],\"scatterternary\":[{\"type\":\"scatterternary\",\"marker\":{\"colorbar\":{\"outlinewidth\":0,\"ticks\":\"\"}}}],\"scattercarpet\":[{\"type\":\"scattercarpet\",\"marker\":{\"colorbar\":{\"outlinewidth\":0,\"ticks\":\"\"}}}],\"carpet\":[{\"aaxis\":{\"endlinecolor\":\"#2a3f5f\",\"gridcolor\":\"white\",\"linecolor\":\"white\",\"minorgridcolor\":\"white\",\"startlinecolor\":\"#2a3f5f\"},\"baxis\":{\"endlinecolor\":\"#2a3f5f\",\"gridcolor\":\"white\",\"linecolor\":\"white\",\"minorgridcolor\":\"white\",\"startlinecolor\":\"#2a3f5f\"},\"type\":\"carpet\"}],\"table\":[{\"cells\":{\"fill\":{\"color\":\"#EBF0F8\"},\"line\":{\"color\":\"white\"}},\"header\":{\"fill\":{\"color\":\"#C8D4E3\"},\"line\":{\"color\":\"white\"}},\"type\":\"table\"}],\"barpolar\":[{\"marker\":{\"line\":{\"color\":\"#E5ECF6\",\"width\":0.5},\"pattern\":{\"fillmode\":\"overlay\",\"size\":10,\"solidity\":0.2}},\"type\":\"barpolar\"}],\"pie\":[{\"automargin\":true,\"type\":\"pie\"}]},\"layout\":{\"autotypenumbers\":\"strict\",\"colorway\":[\"#636efa\",\"#EF553B\",\"#00cc96\",\"#ab63fa\",\"#FFA15A\",\"#19d3f3\",\"#FF6692\",\"#B6E880\",\"#FF97FF\",\"#FECB52\"],\"font\":{\"color\":\"#2a3f5f\"},\"hovermode\":\"closest\",\"hoverlabel\":{\"align\":\"left\"},\"paper_bgcolor\":\"white\",\"plot_bgcolor\":\"#E5ECF6\",\"polar\":{\"bgcolor\":\"#E5ECF6\",\"angularaxis\":{\"gridcolor\":\"white\",\"linecolor\":\"white\",\"ticks\":\"\"},\"radialaxis\":{\"gridcolor\":\"white\",\"linecolor\":\"white\",\"ticks\":\"\"}},\"ternary\":{\"bgcolor\":\"#E5ECF6\",\"aaxis\":{\"gridcolor\":\"white\",\"linecolor\":\"white\",\"ticks\":\"\"},\"baxis\":{\"gridcolor\":\"white\",\"linecolor\":\"white\",\"ticks\":\"\"},\"caxis\":{\"gridcolor\":\"white\",\"linecolor\":\"white\",\"ticks\":\"\"}},\"coloraxis\":{\"colorbar\":{\"outlinewidth\":0,\"ticks\":\"\"}},\"colorscale\":{\"sequential\":[[0.0,\"#0d0887\"],[0.1111111111111111,\"#46039f\"],[0.2222222222222222,\"#7201a8\"],[0.3333333333333333,\"#9c179e\"],[0.4444444444444444,\"#bd3786\"],[0.5555555555555556,\"#d8576b\"],[0.6666666666666666,\"#ed7953\"],[0.7777777777777778,\"#fb9f3a\"],[0.8888888888888888,\"#fdca26\"],[1.0,\"#f0f921\"]],\"sequentialminus\":[[0.0,\"#0d0887\"],[0.1111111111111111,\"#46039f\"],[0.2222222222222222,\"#7201a8\"],[0.3333333333333333,\"#9c179e\"],[0.4444444444444444,\"#bd3786\"],[0.5555555555555556,\"#d8576b\"],[0.6666666666666666,\"#ed7953\"],[0.7777777777777778,\"#fb9f3a\"],[0.8888888888888888,\"#fdca26\"],[1.0,\"#f0f921\"]],\"diverging\":[[0,\"#8e0152\"],[0.1,\"#c51b7d\"],[0.2,\"#de77ae\"],[0.3,\"#f1b6da\"],[0.4,\"#fde0ef\"],[0.5,\"#f7f7f7\"],[0.6,\"#e6f5d0\"],[0.7,\"#b8e186\"],[0.8,\"#7fbc41\"],[0.9,\"#4d9221\"],[1,\"#276419\"]]},\"xaxis\":{\"gridcolor\":\"white\",\"linecolor\":\"white\",\"ticks\":\"\",\"title\":{\"standoff\":15},\"zerolinecolor\":\"white\",\"automargin\":true,\"zerolinewidth\":2},\"yaxis\":{\"gridcolor\":\"white\",\"linecolor\":\"white\",\"ticks\":\"\",\"title\":{\"standoff\":15},\"zerolinecolor\":\"white\",\"automargin\":true,\"zerolinewidth\":2},\"scene\":{\"xaxis\":{\"backgroundcolor\":\"#E5ECF6\",\"gridcolor\":\"white\",\"linecolor\":\"white\",\"showbackground\":true,\"ticks\":\"\",\"zerolinecolor\":\"white\",\"gridwidth\":2},\"yaxis\":{\"backgroundcolor\":\"#E5ECF6\",\"gridcolor\":\"white\",\"linecolor\":\"white\",\"showbackground\":true,\"ticks\":\"\",\"zerolinecolor\":\"white\",\"gridwidth\":2},\"zaxis\":{\"backgroundcolor\":\"#E5ECF6\",\"gridcolor\":\"white\",\"linecolor\":\"white\",\"showbackground\":true,\"ticks\":\"\",\"zerolinecolor\":\"white\",\"gridwidth\":2}},\"shapedefaults\":{\"line\":{\"color\":\"#2a3f5f\"}},\"annotationdefaults\":{\"arrowcolor\":\"#2a3f5f\",\"arrowhead\":0,\"arrowwidth\":1},\"geo\":{\"bgcolor\":\"white\",\"landcolor\":\"#E5ECF6\",\"subunitcolor\":\"white\",\"showland\":true,\"showlakes\":true,\"lakecolor\":\"white\"},\"title\":{\"x\":0.05},\"mapbox\":{\"style\":\"light\"}}},\"xaxis\":{\"anchor\":\"y\",\"domain\":[0.0,1.0],\"tickfont\":{\"size\":10},\"tickmode\":\"array\",\"tickvals\":[0.0,1.0999999999999999,2.8,4.5,6.200000000000001,7.900000000000002,9.600000000000001,11.300000000000004,13.000000000000004],\"ticktext\":[\"Baseline\",\"Layers 0-15\",\"All Layers (0-63)\",\"Layers 16-23\",\"Layers 8-15\",\"All Layers (0-63)\",\"Every 2nd Layer\",\"Layers 32-63\",\"Every 4th Layer\"],\"range\":[-0.5,14.100000000000005]},\"yaxis\":{\"anchor\":\"x\",\"domain\":[0.56,1.0],\"title\":{\"text\":\"Accuracy\"},\"tickfont\":{\"size\":10},\"range\":[0,0.8]},\"xaxis2\":{\"anchor\":\"y2\",\"domain\":[0.0,1.0],\"title\":{\"text\":\"Intervention Layers\"},\"tickfont\":{\"size\":10},\"tickmode\":\"array\",\"tickvals\":[0.0,1.0999999999999999,2.8,4.5,6.200000000000001,7.900000000000002,9.600000000000001,11.300000000000004,13.000000000000004],\"ticktext\":[\"Baseline\",\"Layers 0-15\",\"All Layers (0-63)\",\"Layers 16-23\",\"Layers 8-15\",\"All Layers (0-63)\",\"Every 2nd Layer\",\"Layers 32-63\",\"Every 4th Layer\"],\"range\":[-0.5,14.100000000000005]},\"yaxis2\":{\"anchor\":\"x2\",\"domain\":[0.0,0.44],\"title\":{\"text\":\"Accuracy\"},\"tickfont\":{\"size\":10},\"range\":[0,0.8]},\"annotations\":[{\"font\":{\"size\":16},\"showarrow\":false,\"text\":\"Prompt-level Accuracy\",\"x\":0.5,\"xanchor\":\"center\",\"xref\":\"paper\",\"y\":1.0,\"yanchor\":\"bottom\",\"yref\":\"paper\"},{\"font\":{\"size\":16},\"showarrow\":false,\"text\":\"Instruction-level Accuracy\",\"x\":0.5,\"xanchor\":\"center\",\"xref\":\"paper\",\"y\":0.44,\"yanchor\":\"bottom\",\"yref\":\"paper\"},{\"showarrow\":false,\"text\":\"\\u003cspan style='font-size:10px'\\u003e(L-R in each bar group)\\u003cbr\\u003e1st, 25th, 50th, 75th\\u003c\\u002fspan\\u003e\",\"x\":3.650000000000001,\"xref\":\"x\",\"y\":0.75,\"yanchor\":\"top\",\"yref\":\"y\"},{\"showarrow\":false,\"text\":\"\\u003cspan style='font-size:10px'\\u003e(L-R in each bar group)\\u003cbr\\u003eHarm 99th, Harm 75th, Safe 99th, Safe 50th\\u003c\\u002fspan\\u003e\",\"x\":10.450000000000003,\"xref\":\"x\",\"y\":0.75,\"yanchor\":\"top\",\"yref\":\"y\"}],\"legend\":{\"x\":1.0,\"y\":1.06,\"xanchor\":\"right\",\"yanchor\":\"bottom\",\"orientation\":\"h\"},\"title\":{\"subtitle\":{\"text\":\"Qwen 3 32B, Single-Shot & No Thinking\"},\"text\":\"IFEval with Projection Capping\"},\"margin\":{\"b\":100,\"t\":150},\"height\":900,\"width\":1000},                        {\"responsive\": true}                    ).then(function(){\n",
       "                            \n",
       "var gd = document.getElementById('a95c90db-cfd6-42c7-a4ff-61fb7a0b82b2');\n",
       "var x = new MutationObserver(function (mutations, observer) {{\n",
       "        var display = window.getComputedStyle(gd).display;\n",
       "        if (!display || display === 'none') {{\n",
       "            console.log([gd, 'removed!']);\n",
       "            Plotly.purge(gd);\n",
       "            observer.disconnect();\n",
       "        }}\n",
       "}});\n",
       "\n",
       "// Listen for the removal of the full notebook cells\n",
       "var notebookContainer = gd.closest('#notebook-container');\n",
       "if (notebookContainer) {{\n",
       "    x.observe(notebookContainer, {childList: true});\n",
       "}}\n",
       "\n",
       "// Listen for the clearing of the current output cell\n",
       "var outputEl = gd.closest('.output');\n",
       "if (outputEl) {{\n",
       "    x.observe(outputEl, {childList: true});\n",
       "}}\n",
       "\n",
       "                        })                };                });            </script>        </div>"
      ]
     },
     "metadata": {},
     "output_type": "display_data"
    }
   ],
   "source": [
    "# Example usage\n",
    "fig = plot_ifeval_results(df, title=\"IFEval with Projection Capping\", subtitle=subtitle)\n",
    "fig.show()\n",
    "fig.write_html(f\"{out_dir}/ifeval.html\")"
   ]
  },
  {
   "cell_type": "markdown",
   "id": "1mi3p3gbyaj",
   "metadata": {},
   "source": [
    "## MMLU Pro"
   ]
  },
  {
   "cell_type": "code",
   "execution_count": 4,
   "id": "tpgy091ejrg",
   "metadata": {},
   "outputs": [
    {
     "name": "stdout",
     "output_type": "stream",
     "text": [
      "Loaded 21 MMLU Pro experiments\n",
      "Config breakdown: {'role_trait': 16, 'jailbreak': 4, 'baseline': 1}\n"
     ]
    },
    {
     "data": {
      "text/html": [
       "<div>\n",
       "<style scoped>\n",
       "    .dataframe tbody tr th:only-of-type {\n",
       "        vertical-align: middle;\n",
       "    }\n",
       "\n",
       "    .dataframe tbody tr th {\n",
       "        vertical-align: top;\n",
       "    }\n",
       "\n",
       "    .dataframe thead th {\n",
       "        text-align: right;\n",
       "    }\n",
       "</style>\n",
       "<table border=\"1\" class=\"dataframe\">\n",
       "  <thead>\n",
       "    <tr style=\"text-align: right;\">\n",
       "      <th></th>\n",
       "      <th>experiment_id</th>\n",
       "      <th>thinking</th>\n",
       "      <th>apply_chat_template</th>\n",
       "      <th>exact_match,custom-extract</th>\n",
       "    </tr>\n",
       "  </thead>\n",
       "  <tbody>\n",
       "    <tr>\n",
       "      <th>0</th>\n",
       "      <td>baseline</td>\n",
       "      <td>False</td>\n",
       "      <td>False</td>\n",
       "      <td>0.702143</td>\n",
       "    </tr>\n",
       "    <tr>\n",
       "      <th>1</th>\n",
       "      <td>layers_16:24-p0.75</td>\n",
       "      <td>False</td>\n",
       "      <td>True</td>\n",
       "      <td>0.000000</td>\n",
       "    </tr>\n",
       "    <tr>\n",
       "      <th>2</th>\n",
       "      <td>layers_8:16-p0.75</td>\n",
       "      <td>False</td>\n",
       "      <td>True</td>\n",
       "      <td>0.000000</td>\n",
       "    </tr>\n",
       "    <tr>\n",
       "      <th>3</th>\n",
       "      <td>layers_8:16-p0.01</td>\n",
       "      <td>False</td>\n",
       "      <td>True</td>\n",
       "      <td>0.000000</td>\n",
       "    </tr>\n",
       "    <tr>\n",
       "      <th>4</th>\n",
       "      <td>layers_8:16-p0.25</td>\n",
       "      <td>False</td>\n",
       "      <td>True</td>\n",
       "      <td>0.000000</td>\n",
       "    </tr>\n",
       "  </tbody>\n",
       "</table>\n",
       "</div>"
      ],
      "text/plain": [
       "        experiment_id  thinking  apply_chat_template  \\\n",
       "0            baseline     False                False   \n",
       "1  layers_16:24-p0.75     False                 True   \n",
       "2   layers_8:16-p0.75     False                 True   \n",
       "3   layers_8:16-p0.01     False                 True   \n",
       "4   layers_8:16-p0.25     False                 True   \n",
       "\n",
       "   exact_match,custom-extract  \n",
       "0                    0.702143  \n",
       "1                    0.000000  \n",
       "2                    0.000000  \n",
       "3                    0.000000  \n",
       "4                    0.000000  "
      ]
     },
     "execution_count": 4,
     "metadata": {},
     "output_type": "execute_result"
    }
   ],
   "source": [
    "task = \"mmlu_pro\"\n",
    "\n",
    "# load results from subdirs into a DataFrame\n",
    "bench_dir = f\"{base_dir}/benchmarks\"\n",
    "\n",
    "mmlu_data_rows = []\n",
    "\n",
    "for cfg in config_names:\n",
    "    if cfg == \"baseline\":\n",
    "        # Baseline is in a different location - use latest only\n",
    "        results_path = f\"{bench_dir}/baseline/{task}/latest/results.json\"\n",
    "        manifest_path = f\"{bench_dir}/baseline/{task}/latest/manifest.json\"\n",
    "        \n",
    "        if os.path.exists(results_path):\n",
    "            with open(results_path, \"r\") as f:\n",
    "                data = json.load(f)\n",
    "            \n",
    "            # Load manifest for thinking and apply_chat_template\n",
    "            thinking = False\n",
    "            apply_chat_template = False\n",
    "            if os.path.exists(manifest_path):\n",
    "                with open(manifest_path, \"r\") as f:\n",
    "                    manifest = json.load(f)\n",
    "                    thinking = manifest.get(\"thinking\", None)\n",
    "                    if thinking is None:\n",
    "                        thinking = False\n",
    "                    apply_chat_template = manifest.get(\"apply_chat_template\", False)\n",
    "\n",
    "            if \"results\" in data and \"mmlu_pro\" in data[\"results\"]:\n",
    "                row = {\n",
    "                    \"config_name\": cfg,\n",
    "                    \"experiment_id\": \"baseline\",\n",
    "                    \"thinking\": thinking,\n",
    "                    \"apply_chat_template\": apply_chat_template\n",
    "                }\n",
    "                # Add overall mmlu_pro metrics\n",
    "                row.update(data[\"results\"][\"mmlu_pro\"])\n",
    "                \n",
    "                # Add category metrics\n",
    "                for key, val in data[\"results\"].items():\n",
    "                    if key.startswith(\"mmlu_pro_\") and isinstance(val, dict):\n",
    "                        category = key.replace(\"mmlu_pro_\", \"\")\n",
    "                        row[f\"{category}_acc\"] = val.get(\"exact_match,custom-extract\", None)\n",
    "                        row[f\"{category}_stderr\"] = val.get(\"exact_match_stderr,custom-extract\", None)\n",
    "                \n",
    "                mmlu_data_rows.append(row)\n",
    "        else:\n",
    "            print(f\"Warning: MMLU Pro baseline not found at {results_path}\")\n",
    "    else:\n",
    "        # Other configs have multiple experiments\n",
    "        results_dir = f\"{bench_dir}/{cfg}\"\n",
    "\n",
    "        if not os.path.exists(results_dir):\n",
    "            print(f\"Warning: Config directory not found: {results_dir}\")\n",
    "            continue\n",
    "\n",
    "        for exp_id in os.listdir(results_dir):\n",
    "            results_path = f\"{results_dir}/{exp_id}/{task}/latest/results.json\"\n",
    "            manifest_path = f\"{results_dir}/{exp_id}/{task}/latest/manifest.json\"\n",
    "            \n",
    "            if os.path.exists(results_path):\n",
    "                with open(results_path, \"r\") as f:\n",
    "                    data = json.load(f)\n",
    "                \n",
    "                # Load manifest for thinking and apply_chat_template\n",
    "                thinking = False\n",
    "                apply_chat_template = False\n",
    "                if os.path.exists(manifest_path):\n",
    "                    with open(manifest_path, \"r\") as f:\n",
    "                        manifest = json.load(f)\n",
    "                        thinking = manifest.get(\"thinking\", None)\n",
    "                        if thinking is None:\n",
    "                            thinking = False\n",
    "                        apply_chat_template = manifest.get(\"apply_chat_template\", False)\n",
    "\n",
    "                # Extract the mmlu_pro results\n",
    "                if \"results\" in data and \"mmlu_pro\" in data[\"results\"]:\n",
    "                    row = {\n",
    "                        \"config_name\": cfg,\n",
    "                        \"experiment_id\": exp_id,\n",
    "                        \"thinking\": thinking,\n",
    "                        \"apply_chat_template\": apply_chat_template\n",
    "                    }\n",
    "                    # Add overall mmlu_pro metrics\n",
    "                    row.update(data[\"results\"][\"mmlu_pro\"])\n",
    "                    \n",
    "                    # Add category metrics\n",
    "                    for key, val in data[\"results\"].items():\n",
    "                        if key.startswith(\"mmlu_pro_\") and isinstance(val, dict):\n",
    "                            category = key.replace(\"mmlu_pro_\", \"\")\n",
    "                            row[f\"{category}_acc\"] = val.get(\"exact_match,custom-extract\", None)\n",
    "                            row[f\"{category}_stderr\"] = val.get(\"exact_match_stderr,custom-extract\", None)\n",
    "                    \n",
    "                    mmlu_data_rows.append(row)\n",
    "\n",
    "# Create DataFrame\n",
    "df_mmlu = pd.DataFrame(mmlu_data_rows)\n",
    "print(f\"Loaded {len(df_mmlu)} MMLU Pro experiments\")\n",
    "print(f\"Config breakdown: {df_mmlu['config_name'].value_counts().to_dict()}\")\n",
    "df_mmlu[['experiment_id', 'thinking', 'apply_chat_template', 'exact_match,custom-extract']].head()"
   ]
  },
  {
   "cell_type": "code",
   "execution_count": 5,
   "id": "onpfmb64i5r",
   "metadata": {},
   "outputs": [
    {
     "name": "stdout",
     "output_type": "stream",
     "text": [
      "Loaded 4 baseline MMLU Pro runs\n"
     ]
    },
    {
     "data": {
      "text/html": [
       "<div>\n",
       "<style scoped>\n",
       "    .dataframe tbody tr th:only-of-type {\n",
       "        vertical-align: middle;\n",
       "    }\n",
       "\n",
       "    .dataframe tbody tr th {\n",
       "        vertical-align: top;\n",
       "    }\n",
       "\n",
       "    .dataframe thead th {\n",
       "        text-align: right;\n",
       "    }\n",
       "</style>\n",
       "<table border=\"1\" class=\"dataframe\">\n",
       "  <thead>\n",
       "    <tr style=\"text-align: right;\">\n",
       "      <th></th>\n",
       "      <th>experiment_id</th>\n",
       "      <th>thinking</th>\n",
       "      <th>apply_chat_template</th>\n",
       "      <th>exact_match,custom-extract</th>\n",
       "      <th>exact_match_stderr,custom-extract</th>\n",
       "    </tr>\n",
       "  </thead>\n",
       "  <tbody>\n",
       "    <tr>\n",
       "      <th>0</th>\n",
       "      <td>baseline_run1</td>\n",
       "      <td>True</td>\n",
       "      <td>True</td>\n",
       "      <td>0.640000</td>\n",
       "      <td>0.012570</td>\n",
       "    </tr>\n",
       "    <tr>\n",
       "      <th>1</th>\n",
       "      <td>baseline_run2</td>\n",
       "      <td>False</td>\n",
       "      <td>True</td>\n",
       "      <td>0.675000</td>\n",
       "      <td>0.012285</td>\n",
       "    </tr>\n",
       "    <tr>\n",
       "      <th>2</th>\n",
       "      <td>baseline_run3</td>\n",
       "      <td>False</td>\n",
       "      <td>False</td>\n",
       "      <td>0.702143</td>\n",
       "      <td>0.011878</td>\n",
       "    </tr>\n",
       "    <tr>\n",
       "      <th>3</th>\n",
       "      <td>baseline_run4</td>\n",
       "      <td>True</td>\n",
       "      <td>False</td>\n",
       "      <td>0.714286</td>\n",
       "      <td>0.011793</td>\n",
       "    </tr>\n",
       "  </tbody>\n",
       "</table>\n",
       "</div>"
      ],
      "text/plain": [
       "   experiment_id  thinking  apply_chat_template  exact_match,custom-extract  \\\n",
       "0  baseline_run1      True                 True                    0.640000   \n",
       "1  baseline_run2     False                 True                    0.675000   \n",
       "2  baseline_run3     False                False                    0.702143   \n",
       "3  baseline_run4      True                False                    0.714286   \n",
       "\n",
       "   exact_match_stderr,custom-extract  \n",
       "0                           0.012570  \n",
       "1                           0.012285  \n",
       "2                           0.011878  \n",
       "3                           0.011793  "
      ]
     },
     "execution_count": 5,
     "metadata": {},
     "output_type": "execute_result"
    }
   ],
   "source": [
    "# Load all 4 baseline MMLU Pro results\n",
    "baseline_mmlu_path = f\"{base_dir}/benchmarks/baseline/mmlu_pro\"\n",
    "baseline_dirs = [d for d in os.listdir(baseline_mmlu_path) if d.startswith(\"2025-\")]\n",
    "\n",
    "baseline_rows = []\n",
    "for i, dirname in enumerate(sorted(baseline_dirs), 1):\n",
    "    results_path = os.path.join(baseline_mmlu_path, dirname, \"results.json\")\n",
    "    manifest_path = os.path.join(baseline_mmlu_path, dirname, \"manifest.json\")\n",
    "    \n",
    "    if os.path.exists(results_path):\n",
    "        with open(results_path, \"r\") as f:\n",
    "            data = json.load(f)\n",
    "        \n",
    "        # Load manifest for thinking and apply_chat_template\n",
    "        thinking = False\n",
    "        apply_chat_template = False\n",
    "        if os.path.exists(manifest_path):\n",
    "            with open(manifest_path, \"r\") as f:\n",
    "                manifest = json.load(f)\n",
    "                thinking = manifest.get(\"thinking\", None)\n",
    "                if thinking is None:\n",
    "                    thinking = False\n",
    "                apply_chat_template = manifest.get(\"apply_chat_template\", False)\n",
    "        \n",
    "        if \"results\" in data and \"mmlu_pro\" in data[\"results\"]:\n",
    "            row = {\n",
    "                \"config_name\": \"baseline\",\n",
    "                \"experiment_id\": f\"baseline_run{i}\",\n",
    "                \"run_dir\": dirname,\n",
    "                \"thinking\": thinking,\n",
    "                \"apply_chat_template\": apply_chat_template\n",
    "            }\n",
    "            # Add overall mmlu_pro metrics\n",
    "            row.update(data[\"results\"][\"mmlu_pro\"])\n",
    "            \n",
    "            # Add category metrics\n",
    "            for key, val in data[\"results\"].items():\n",
    "                if key.startswith(\"mmlu_pro_\") and isinstance(val, dict):\n",
    "                    category = key.replace(\"mmlu_pro_\", \"\")\n",
    "                    row[f\"{category}_acc\"] = val.get(\"exact_match,custom-extract\", None)\n",
    "                    row[f\"{category}_stderr\"] = val.get(\"exact_match_stderr,custom-extract\", None)\n",
    "            \n",
    "            baseline_rows.append(row)\n",
    "\n",
    "df_baseline_mmlu = pd.DataFrame(baseline_rows)\n",
    "print(f\"Loaded {len(df_baseline_mmlu)} baseline MMLU Pro runs\")\n",
    "df_baseline_mmlu[['experiment_id', 'thinking', 'apply_chat_template', 'exact_match,custom-extract', 'exact_match_stderr,custom-extract']].head()"
   ]
  },
  {
   "cell_type": "code",
   "execution_count": null,
   "id": "4219a6f9",
   "metadata": {},
   "outputs": [],
   "source": []
  }
 ],
 "metadata": {
  "kernelspec": {
   "display_name": ".venv",
   "language": "python",
   "name": "python3"
  },
  "language_info": {
   "codemirror_mode": {
    "name": "ipython",
    "version": 3
   },
   "file_extension": ".py",
   "mimetype": "text/x-python",
   "name": "python",
   "nbconvert_exporter": "python",
   "pygments_lexer": "ipython3",
   "version": "3.13.5"
  }
 },
 "nbformat": 4,
 "nbformat_minor": 5
}
