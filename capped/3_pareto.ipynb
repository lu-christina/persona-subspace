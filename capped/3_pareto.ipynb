{
 "cells": [
  {
   "cell_type": "markdown",
   "id": "pareto-title",
   "metadata": {},
   "source": [
    "# Pareto Frontier Analysis: Eval Performance vs Jailbreak Harm Reduction"
   ]
  },
  {
   "cell_type": "markdown",
   "id": "pareto-desc",
   "metadata": {},
   "source": [
    "This notebook analyzes the tradeoff between:\n",
    "- **Eval Performance**: Percentage change in benchmark scores (MMLU, IFEval, EQ-Bench)\n",
    "- **Harm Reduction**: Percentage change in jailbreak harmful response rate\n",
    "\n",
    "The Pareto frontier identifies configurations that achieve optimal tradeoffs between these objectives."
   ]
  },
  {
   "cell_type": "code",
   "execution_count": 1,
   "id": "imports",
   "metadata": {},
   "outputs": [],
   "source": [
    "import json\n",
    "import os\n",
    "import pandas as pd\n",
    "import numpy as np\n",
    "import plotly.graph_objects as go\n",
    "from plotly.subplots import make_subplots\n",
    "\n",
    "# Import shared plotting utilities\n",
    "from plots import (\n",
    "    parse_experiment_id, parse_layer_sort_key, cap_sort_key,\n",
    "    format_layer_range, format_cap_label,\n",
    "    CONFIG_COLORS, CONFIG_DISPLAY_NAMES, CONFIG_ORDER\n",
    ")"
   ]
  },
  {
   "cell_type": "code",
   "execution_count": 13,
   "id": "config",
   "metadata": {},
   "outputs": [
    {
     "name": "stdout",
     "output_type": "stream",
     "text": [
      "Configuration loaded\n"
     ]
    }
   ],
   "source": [
    "# ============================================================================\n",
    "# Configuration\n",
    "# ============================================================================\n",
    "\n",
    "model = \"qwen-3-32b\"\n",
    "total_layers = 64\n",
    "subtitle = f\"{model.replace('-', ' ').title()}, Single-Shot & No Thinking\"\n",
    "base_dir = f\"/workspace/{model}\"\n",
    "out_dir = f\"/root/git/plots/{model}/capped/results\"\n",
    "\n",
    "os.makedirs(out_dir, exist_ok=True)\n",
    "\n",
    "# Configs to analyze\n",
    "config_names = [\"baseline\", \"role_trait\", \"jailbreak\", \"lmsys_10000\"]\n",
    "\n",
    "# Eval-specific metric mappings\n",
    "EVAL_METRICS = {\n",
    "    'ifeval': {\n",
    "        'metric': 'inst_level_strict_acc,none',\n",
    "        'display_name': 'IFEval Instruction-level Accuracy',\n",
    "        'higher_is_better': True\n",
    "    },\n",
    "    'mmlu_pro': {\n",
    "        'metric': 'exact_match,custom-extract',\n",
    "        'display_name': 'MMLU Pro Exact Match Accuracy',\n",
    "        'higher_is_better': True\n",
    "    },\n",
    "    'eq_bench': {\n",
    "        'metric': 'eqbench,none',\n",
    "        'display_name': 'EQ-Bench Score',\n",
    "        'higher_is_better': True\n",
    "    }\n",
    "}\n",
    "\n",
    "print(\"Configuration loaded\")"
   ]
  },
  {
   "cell_type": "markdown",
   "id": "data-loading",
   "metadata": {},
   "source": [
    "## Data Loading Functions"
   ]
  },
  {
   "cell_type": "code",
   "execution_count": 3,
   "id": "load-benchmarks",
   "metadata": {},
   "outputs": [
    {
     "name": "stdout",
     "output_type": "stream",
     "text": [
      "Benchmark loading function defined\n"
     ]
    }
   ],
   "source": [
    "def load_experiment_data(tasks, config_names, base_dir):\n",
    "    \"\"\"\n",
    "    Load experiment data for specified tasks and configs.\n",
    "\n",
    "    Args:\n",
    "        tasks: List of task names (e.g., ['ifeval', 'mmlu_pro', 'eq_bench'])\n",
    "        config_names: List of config names (e.g., ['baseline', 'role_trait', 'jailbreak'])\n",
    "        base_dir: Base directory containing benchmarks folder\n",
    "\n",
    "    Returns:\n",
    "        DataFrame with columns: task_name, config_name, experiment_id, run_dir,\n",
    "                               thinking, apply_chat_template, and all metrics from results\n",
    "    \"\"\"\n",
    "    all_rows = []\n",
    "    bench_dir = f\"{base_dir}/capped/benchmarks\"\n",
    "\n",
    "    for task in tasks:\n",
    "        task_dir = f\"{bench_dir}/{task}\"\n",
    "\n",
    "        if not os.path.exists(task_dir):\n",
    "            print(f\"Warning: Task directory not found: {task_dir}\")\n",
    "            continue\n",
    "\n",
    "        for config_name in config_names:\n",
    "            config_dir = f\"{task_dir}/{config_name}\"\n",
    "\n",
    "            if not os.path.exists(config_dir):\n",
    "                print(f\"Warning: Config directory not found: {config_dir}\")\n",
    "                continue\n",
    "\n",
    "            if config_name == \"baseline\":\n",
    "                # Baseline: iterate through all timestamped runs directly\n",
    "                run_dirs = [d for d in os.listdir(config_dir) if d.startswith(\"2025-\")]\n",
    "\n",
    "                for run_dir in sorted(run_dirs):\n",
    "                    results_path = os.path.join(config_dir, run_dir, \"results.json\")\n",
    "                    manifest_path = os.path.join(config_dir, run_dir, \"manifest.json\")\n",
    "\n",
    "                    if os.path.exists(results_path):\n",
    "                        with open(results_path, \"r\") as f:\n",
    "                            data = json.load(f)\n",
    "\n",
    "                        # Load manifest for thinking and apply_chat_template\n",
    "                        thinking = False\n",
    "                        apply_chat_template = False\n",
    "                        vllm = False\n",
    "                        if os.path.exists(manifest_path):\n",
    "                            with open(manifest_path, \"r\") as f:\n",
    "                                manifest = json.load(f)\n",
    "                                thinking = manifest.get(\"thinking\", None)\n",
    "                                if thinking is None:\n",
    "                                    thinking = False\n",
    "                                apply_chat_template = manifest.get(\"apply_chat_template\", False)\n",
    "                                vllm = manifest.get(\"vllm\", False)\n",
    "\n",
    "                        # Get the task results\n",
    "                        if \"results\" in data and task in data[\"results\"]:\n",
    "                            row = {\n",
    "                                \"task_name\": task,\n",
    "                                \"config_name\": config_name,\n",
    "                                \"experiment_id\": \"baseline\",\n",
    "                                \"run_dir\": run_dir,\n",
    "                                \"thinking\": thinking,\n",
    "                                \"apply_chat_template\": apply_chat_template,\n",
    "                                \"vllm\": vllm\n",
    "                            }\n",
    "                            # Add all metrics from the task results\n",
    "                            row.update(data[\"results\"][task])\n",
    "                            \n",
    "                            # Drop alias field if present\n",
    "                            row.pop(\"alias\", None)\n",
    "\n",
    "                            all_rows.append(row)\n",
    "            else:\n",
    "                # Other configs: iterate through experiment_id directories\n",
    "                for experiment_id in os.listdir(config_dir):\n",
    "                    exp_dir = os.path.join(config_dir, experiment_id)\n",
    "\n",
    "                    if not os.path.isdir(exp_dir):\n",
    "                        continue\n",
    "\n",
    "                    # Load all timestamped runs for this experiment\n",
    "                    run_dirs = [d for d in os.listdir(exp_dir) if d.startswith(\"2025-\")]\n",
    "\n",
    "                    for run_dir in sorted(run_dirs):\n",
    "                        results_path = os.path.join(exp_dir, run_dir, \"results.json\")\n",
    "                        manifest_path = os.path.join(exp_dir, run_dir, \"manifest.json\")\n",
    "\n",
    "                        if os.path.exists(results_path):\n",
    "                            with open(results_path, \"r\") as f:\n",
    "                                data = json.load(f)\n",
    "\n",
    "                            # Load manifest for thinking and apply_chat_template\n",
    "                            thinking = False\n",
    "                            apply_chat_template = False\n",
    "                            vllm = False\n",
    "                            if os.path.exists(manifest_path):\n",
    "                                with open(manifest_path, \"r\") as f:\n",
    "                                    manifest = json.load(f)\n",
    "                                    thinking = manifest.get(\"thinking\", None)\n",
    "                                    if thinking is None:\n",
    "                                        thinking = False\n",
    "                                    apply_chat_template = manifest.get(\"apply_chat_template\", False)\n",
    "                                    vllm = manifest.get(\"vllm\", False)\n",
    "\n",
    "                            # Get the task results\n",
    "                            if \"results\" in data and task in data[\"results\"]:\n",
    "                                row = {\n",
    "                                    \"task_name\": task,\n",
    "                                    \"config_name\": config_name,\n",
    "                                    \"experiment_id\": experiment_id,\n",
    "                                    \"run_dir\": run_dir,\n",
    "                                    \"thinking\": thinking,\n",
    "                                    \"apply_chat_template\": apply_chat_template,\n",
    "                                    \"vllm\": vllm\n",
    "                                }\n",
    "                                # Add all metrics from the task results\n",
    "                                row.update(data[\"results\"][task])\n",
    "                                \n",
    "                                # Drop alias field if present\n",
    "                                row.pop(\"alias\", None)\n",
    "\n",
    "                                all_rows.append(row)\n",
    "\n",
    "    df = pd.DataFrame(all_rows)\n",
    "    return df\n",
    "\n",
    "print(\"Benchmark loading function defined\")"
   ]
  },
  {
   "cell_type": "code",
   "execution_count": 4,
   "id": "load-jailbreak",
   "metadata": {},
   "outputs": [
    {
     "name": "stdout",
     "output_type": "stream",
     "text": [
      "Jailbreak loading functions defined\n"
     ]
    }
   ],
   "source": [
    "def load_jailbreak_scores(config_name, base_dir):\n",
    "    \"\"\"\n",
    "    Load jailbreak scores and calculate combined harm rate.\n",
    "    \n",
    "    Args:\n",
    "        config_name: Name of config (e.g., 'jailbreak', 'lmsys_10000')\n",
    "        base_dir: Base directory containing results folder\n",
    "    \n",
    "    Returns:\n",
    "        DataFrame with columns: experiment_id, harm_rate (percentage)\n",
    "    \"\"\"\n",
    "    scores_path = f\"{base_dir}/capped/results/{config_name}_jailbreak_1100_scores.jsonl\"\n",
    "    \n",
    "    if not os.path.exists(scores_path):\n",
    "        print(f\"Warning: Jailbreak scores not found: {scores_path}\")\n",
    "        return pd.DataFrame()\n",
    "    \n",
    "    # Load scores\n",
    "    with open(scores_path, \"r\") as f:\n",
    "        scores = [json.loads(line) for line in f]\n",
    "    df = pd.DataFrame(scores)\n",
    "    \n",
    "    # Calculate harm rate per experiment\n",
    "    harm_labels = [\"enough_info\", \"enough_info_and_follow_perfectly\"]\n",
    "    \n",
    "    results = []\n",
    "    for exp_id, group in df.groupby(\"experiment_id\"):\n",
    "        n_total = len(group)\n",
    "        n_harmful = len(group[group[\"score\"].isin(harm_labels)])\n",
    "        harm_rate = (n_harmful / n_total * 100) if n_total > 0 else 0.0\n",
    "        \n",
    "        results.append({\n",
    "            \"experiment_id\": exp_id,\n",
    "            \"config_name\": config_name,\n",
    "            \"harm_rate\": harm_rate,\n",
    "            \"n_harmful\": n_harmful,\n",
    "            \"n_total\": n_total\n",
    "        })\n",
    "    \n",
    "    return pd.DataFrame(results)\n",
    "\n",
    "def load_baseline_jailbreak(base_dir, baseline_type=\"prompted\"):\n",
    "    \"\"\"\n",
    "    Load baseline (unsteered) jailbreak scores.\n",
    "    \n",
    "    Args:\n",
    "        base_dir: Base directory\n",
    "        baseline_type: 'prompted' or 'default'\n",
    "    \n",
    "    Returns:\n",
    "        Harm rate as percentage\n",
    "    \"\"\"\n",
    "    if baseline_type == \"prompted\":\n",
    "        scores_path = f\"{base_dir}/evals/unsteered/unsteered_scores.jsonl\"\n",
    "    else:\n",
    "        scores_path = f\"{base_dir}/evals/unsteered/unsteered_default_scores.jsonl\"\n",
    "    \n",
    "    if not os.path.exists(scores_path):\n",
    "        print(f\"Warning: Baseline scores not found: {scores_path}\")\n",
    "        return None\n",
    "    \n",
    "    with open(scores_path, \"r\") as f:\n",
    "        scores = [json.loads(line) for line in f]\n",
    "    df = pd.DataFrame(scores)\n",
    "    \n",
    "    harm_labels = [\"enough_info\", \"enough_info_and_follow_perfectly\"]\n",
    "    n_total = len(df)\n",
    "    n_harmful = len(df[df[\"score\"].isin(harm_labels)])\n",
    "    harm_rate = (n_harmful / n_total * 100) if n_total > 0 else 0.0\n",
    "    \n",
    "    return harm_rate\n",
    "\n",
    "print(\"Jailbreak loading functions defined\")"
   ]
  },
  {
   "cell_type": "markdown",
   "id": "pareto-calc",
   "metadata": {},
   "source": [
    "## Pareto Frontier Calculation"
   ]
  },
  {
   "cell_type": "code",
   "execution_count": 5,
   "id": "pareto-func",
   "metadata": {},
   "outputs": [
    {
     "name": "stdout",
     "output_type": "stream",
     "text": [
      "Pareto calculation function defined\n"
     ]
    }
   ],
   "source": [
    "def calculate_pareto_frontier(df, x_col='eval_pct_change', y_col='harm_pct_change'):\n",
    "    \"\"\"\n",
    "    Identify Pareto-optimal points.\n",
    "    \n",
    "    For our case:\n",
    "    - X-axis (eval_pct_change): Higher is better (less performance degradation)\n",
    "    - Y-axis (harm_pct_change): Lower is better (more harm reduction, i.e., more negative)\n",
    "    \n",
    "    A point is Pareto-optimal if no other point has both:\n",
    "    - x >= x_i (better or equal eval performance)\n",
    "    - y <= y_i (better or equal harm reduction)\n",
    "    with at least one strict inequality.\n",
    "    \n",
    "    Args:\n",
    "        df: DataFrame with x_col and y_col columns\n",
    "        x_col: Column name for x-axis (eval percentage change)\n",
    "        y_col: Column name for y-axis (harm percentage change)\n",
    "    \n",
    "    Returns:\n",
    "        DataFrame with additional 'is_pareto' boolean column\n",
    "    \"\"\"\n",
    "    df = df.copy()\n",
    "    df['is_pareto'] = False\n",
    "    \n",
    "    points = df[[x_col, y_col]].values\n",
    "    \n",
    "    for i in range(len(points)):\n",
    "        is_dominated = False\n",
    "        \n",
    "        for j in range(len(points)):\n",
    "            if i == j:\n",
    "                continue\n",
    "            \n",
    "            # Check if point j dominates point i\n",
    "            # j dominates i if: j.x >= i.x AND j.y <= i.y (with at least one strict)\n",
    "            x_better_or_equal = points[j][0] >= points[i][0]\n",
    "            y_better_or_equal = points[j][1] <= points[i][1]\n",
    "            strictly_better = (points[j][0] > points[i][0]) or (points[j][1] < points[i][1])\n",
    "            \n",
    "            if x_better_or_equal and y_better_or_equal and strictly_better:\n",
    "                is_dominated = True\n",
    "                break\n",
    "        \n",
    "        if not is_dominated:\n",
    "            df.loc[df.index[i], 'is_pareto'] = True\n",
    "    \n",
    "    return df\n",
    "\n",
    "print(\"Pareto calculation function defined\")"
   ]
  },
  {
   "cell_type": "markdown",
   "id": "plotting",
   "metadata": {},
   "source": [
    "## Plotting Function"
   ]
  },
  {
   "cell_type": "code",
   "execution_count": 6,
   "id": "plot-func",
   "metadata": {},
   "outputs": [
    {
     "name": "stdout",
     "output_type": "stream",
     "text": [
      "Plotting function defined\n"
     ]
    }
   ],
   "source": [
    "def plot_pareto_frontier(df, eval_name, eval_display_name, title_suffix=\"\", subtitle=\"\"):\n",
    "    \"\"\"\n",
    "    Plot Pareto frontier for eval performance vs jailbreak harm reduction.\n",
    "    \n",
    "    Args:\n",
    "        df: DataFrame with columns: config_name, experiment_id, eval_pct_change, \n",
    "            harm_pct_change, is_pareto, display_name\n",
    "        eval_name: Short eval name (e.g., 'ifeval')\n",
    "        eval_display_name: Display name for eval (e.g., 'IFEval Prompt-level Accuracy')\n",
    "        title_suffix: Additional text for title\n",
    "        subtitle: Subtitle text\n",
    "    \n",
    "    Returns:\n",
    "        Plotly figure object\n",
    "    \"\"\"\n",
    "    fig = go.Figure()\n",
    "    \n",
    "    # Plot all points by config (both Pareto and non-Pareto with same style)\n",
    "    for config in ['baseline', 'jailbreak', 'role_trait', 'lmsys_10000']:\n",
    "        if config not in df['config_name'].values:\n",
    "            continue\n",
    "        \n",
    "        config_df = df[df['config_name'] == config]\n",
    "        \n",
    "        # Plot all points for this config\n",
    "        fig.add_trace(go.Scatter(\n",
    "            x=config_df['eval_pct_change'],\n",
    "            y=config_df['harm_pct_change'],\n",
    "            mode='markers',\n",
    "            name=CONFIG_DISPLAY_NAMES[config],\n",
    "            marker=dict(\n",
    "                size=8,\n",
    "                color=CONFIG_COLORS[config],\n",
    "                opacity=0.6\n",
    "            ),\n",
    "            hovertemplate=(\n",
    "                \"<b>%{customdata[0]}</b><br>\"\n",
    "                \"Config: %{customdata[1]}<br>\"\n",
    "                \"Eval Change: %{x:.1f}%<br>\"\n",
    "                \"Harm Change: %{y:.1f}%<br>\"\n",
    "                \"%{customdata[2]}\"\n",
    "                \"<extra></extra>\"\n",
    "            ),\n",
    "            customdata=np.column_stack([\n",
    "                config_df['display_name'],\n",
    "                config_df['config_name'],\n",
    "                config_df['is_pareto'].apply(lambda x: '<b>PARETO OPTIMAL</b>' if x else '')\n",
    "            ]),\n",
    "            legendgroup=config,\n",
    "            showlegend=True\n",
    "        ))\n",
    "    \n",
    "    # Add text labels for Pareto-optimal points using parsed experiment info\n",
    "    pareto_points = df[df['is_pareto']]\n",
    "    for _, row in pareto_points.iterrows():\n",
    "        # Parse experiment_id to get layer and cap info\n",
    "        layer_spec, _, cap_value = parse_experiment_id(row['experiment_id'])\n",
    "        \n",
    "        # Format the label\n",
    "        layer_label = format_layer_range(layer_spec)\n",
    "        cap_label = format_cap_label(cap_value)\n",
    "        label_text = f\"{layer_label}, {cap_label} %ile\"\n",
    "        \n",
    "        # Get the color for this config\n",
    "        point_color = CONFIG_COLORS[row['config_name']]\n",
    "        \n",
    "        fig.add_annotation(\n",
    "            x=row['eval_pct_change'],\n",
    "            y=row['harm_pct_change'],\n",
    "            text=label_text,\n",
    "            showarrow=False,\n",
    "            xshift=10,  # Position label to the right of the point\n",
    "            font=dict(size=9, color=point_color),\n",
    "            xanchor='left',\n",
    "            yanchor='middle',\n",
    "            align='left'\n",
    "        )\n",
    "    \n",
    "    # Draw Pareto frontier line\n",
    "    pareto_sorted = pareto_points.sort_values('eval_pct_change')\n",
    "    if len(pareto_sorted) > 1:\n",
    "        fig.add_trace(go.Scatter(\n",
    "            x=pareto_sorted['eval_pct_change'],\n",
    "            y=pareto_sorted['harm_pct_change'],\n",
    "            mode='lines',\n",
    "            name='Pareto Frontier',\n",
    "            line=dict(color='grey', width=1, dash='dash'),\n",
    "            showlegend=True,\n",
    "            hoverinfo='skip'\n",
    "        ))\n",
    "    \n",
    "    # Add reference lines at origin\n",
    "    fig.add_hline(y=0, line_dash=\"dot\", line_color=\"gray\", line_width=1, opacity=0.5)\n",
    "    fig.add_vline(x=0, line_dash=\"dot\", line_color=\"gray\", line_width=1, opacity=0.5)\n",
    "    \n",
    "    # Add quadrant annotations\n",
    "    max_x = df['eval_pct_change'].max()\n",
    "    min_x = df['eval_pct_change'].min()\n",
    "    max_y = df['harm_pct_change'].max()\n",
    "    min_y = df['harm_pct_change'].min()\n",
    "    \n",
    "    # Top-right quadrant (ideal: better eval, reduced harm)\n",
    "    fig.add_annotation(\n",
    "        x=max_x * 0.9, y=min_y * 0.9,\n",
    "        text=\"<b>Ideal</b><br>Unchanged eval<br>Reduced harm\",\n",
    "        showarrow=False,\n",
    "        font=dict(size=10, color=\"green\")\n",
    "    )\n",
    "    \n",
    "    # Bottom-left quadrant (worst: worse eval, increased harm)\n",
    "    fig.add_annotation(\n",
    "        x=min_x * 0.9, y=max_y * 0.9,\n",
    "        text=\"<b>Worst</b><br>Worse eval<br>Unchanged harm\",\n",
    "        showarrow=False,\n",
    "        font=dict(size=10, color=\"red\")\n",
    "    )\n",
    "    \n",
    "    fig.update_layout(\n",
    "        title=dict(\n",
    "            text=f\"Pareto Frontier: {eval_display_name} vs. Harmful Response Rate{title_suffix}\",\n",
    "            subtitle=dict(text=subtitle)\n",
    "        ),\n",
    "        xaxis=dict(\n",
    "            title=\"Eval Performance Change (%)\",\n",
    "            zeroline=True,\n",
    "            showgrid=True,\n",
    "            gridcolor='lightgray'\n",
    "        ),\n",
    "        yaxis=dict(\n",
    "            title=\"Harmful Response Rate Reduced (%)\",\n",
    "            zeroline=True,\n",
    "            showgrid=True,\n",
    "            gridcolor='lightgray'\n",
    "        ),\n",
    "        width=1000,\n",
    "        height=700,\n",
    "        legend=dict(\n",
    "            orientation=\"v\",\n",
    "            yanchor=\"top\",\n",
    "            y=1,\n",
    "            xanchor=\"left\",\n",
    "            x=1.02\n",
    "        ),\n",
    "        hovermode='closest'\n",
    "    )\n",
    "    \n",
    "    return fig\n",
    "\n",
    "print(\"Plotting function defined\")"
   ]
  },
  {
   "cell_type": "markdown",
   "id": "analysis",
   "metadata": {},
   "source": [
    "## Analysis: Generate Pareto Frontiers\n",
    "\n",
    "For each eval, we'll:\n",
    "1. Load benchmark and jailbreak data\n",
    "2. Calculate percentage changes from baseline\n",
    "3. Identify Pareto frontier\n",
    "4. Visualize the tradeoff"
   ]
  },
  {
   "cell_type": "markdown",
   "id": "kvmuyohccpd",
   "metadata": {},
   "source": [
    "## Load Jailbreak Data\n",
    "\n",
    "Load jailbreak harm rates for all configs once."
   ]
  },
  {
   "cell_type": "code",
   "execution_count": 7,
   "id": "tiqs4qj8igb",
   "metadata": {},
   "outputs": [
    {
     "name": "stdout",
     "output_type": "stream",
     "text": [
      "Baseline jailbreak harm rate: 83.25%\n",
      "Loaded 36 experiments for role_trait\n",
      "Loaded 16 experiments for jailbreak\n",
      "Loaded 36 experiments for lmsys_10000\n",
      "\n",
      "Loaded jailbreak data for 3 configs\n"
     ]
    }
   ],
   "source": [
    "# Get baseline harm rate (using prompted baseline)\n",
    "baseline_harm = load_baseline_jailbreak(base_dir, baseline_type=\"prompted\")\n",
    "print(f\"Baseline jailbreak harm rate: {baseline_harm:.2f}%\")\n",
    "\n",
    "# Load jailbreak data for each config\n",
    "jailbreak_data = {}\n",
    "for config_name in config_names:\n",
    "    if config_name == 'baseline':\n",
    "        continue\n",
    "    \n",
    "    df_jb = load_jailbreak_scores(config_name, base_dir)\n",
    "    if len(df_jb) > 0:\n",
    "        jailbreak_data[config_name] = df_jb\n",
    "        print(f\"Loaded {len(df_jb)} experiments for {config_name}\")\n",
    "    else:\n",
    "        print(f\"Warning: No jailbreak data found for {config_name}\")\n",
    "\n",
    "print(f\"\\nLoaded jailbreak data for {len(jailbreak_data)} configs\")"
   ]
  },
  {
   "cell_type": "code",
   "execution_count": 8,
   "id": "pareto-helper",
   "metadata": {},
   "outputs": [
    {
     "name": "stdout",
     "output_type": "stream",
     "text": [
      "Data preparation helper defined\n"
     ]
    }
   ],
   "source": [
    "def prepare_pareto_data(df_eval, df_jailbreak_dict, eval_name, baseline_eval_value, baseline_harm_rate):\n",
    "    \"\"\"\n",
    "    Prepare data for Pareto analysis by combining eval and jailbreak metrics.\n",
    "\n",
    "    Args:\n",
    "        df_eval: Pre-loaded eval DataFrame (filtered as desired)\n",
    "        df_jailbreak_dict: Dict mapping config_name to jailbreak DataFrames\n",
    "        eval_name: Name of eval task (for metric lookup)\n",
    "        baseline_eval_value: Baseline eval metric value\n",
    "        baseline_harm_rate: Baseline jailbreak harm rate (percentage)\n",
    "\n",
    "    Returns:\n",
    "        DataFrame ready for Pareto analysis with Pareto frontier calculated\n",
    "    \"\"\"\n",
    "    eval_config = EVAL_METRICS[eval_name]\n",
    "    metric_col = eval_config['metric']\n",
    "\n",
    "    print(f\"\\n{eval_name.upper()}:\")\n",
    "    print(f\"Baseline eval value: {baseline_eval_value:.4f}\")\n",
    "    print(f\"Baseline harm rate: {baseline_harm_rate:.2f}%\")\n",
    "\n",
    "    # Combine eval and jailbreak data for each config\n",
    "    all_data = []\n",
    "\n",
    "    for config_name, df_jailbreak in df_jailbreak_dict.items():\n",
    "        if config_name == 'baseline':\n",
    "            continue\n",
    "\n",
    "        # Get eval data for this config\n",
    "        config_eval = df_eval[df_eval['config_name'] == config_name]\n",
    "\n",
    "        if len(config_eval) == 0:\n",
    "            print(f\"Skipping {config_name}: no eval data\")\n",
    "            continue\n",
    "\n",
    "        # Merge eval and jailbreak data\n",
    "        merged = config_eval.merge(\n",
    "            df_jailbreak[['experiment_id', 'harm_rate']],\n",
    "            on='experiment_id',\n",
    "            how='inner'\n",
    "        )\n",
    "\n",
    "        if len(merged) == 0:\n",
    "            print(f\"Skipping {config_name}: no matching experiments\")\n",
    "            continue\n",
    "\n",
    "        # Calculate percentage changes\n",
    "        merged['eval_value'] = merged[metric_col]\n",
    "        merged['eval_pct_change'] = ((merged['eval_value'] - baseline_eval_value) / baseline_eval_value * 100)\n",
    "        merged['harm_pct_change'] = ((merged['harm_rate'] - baseline_harm_rate) / baseline_harm_rate * 100)\n",
    "\n",
    "        # Add parsed columns for display\n",
    "        parsed = merged['experiment_id'].apply(parse_experiment_id)\n",
    "        merged['layer_spec'] = parsed.apply(lambda x: x[0])\n",
    "        merged['cap_value'] = parsed.apply(lambda x: x[2])\n",
    "        merged['layer_label'] = merged['layer_spec'].apply(format_layer_range)\n",
    "        merged['cap_label'] = merged['cap_value'].apply(format_cap_label)\n",
    "        merged['display_name'] = merged.apply(\n",
    "            lambda row: f\"{row['layer_label']}, {row['cap_label']}\",\n",
    "            axis=1\n",
    "        )\n",
    "\n",
    "        all_data.append(merged)\n",
    "        print(f\"Loaded {len(merged)} experiments for {config_name}\")\n",
    "\n",
    "    if len(all_data) == 0:\n",
    "        print(\"No data available for Pareto analysis\")\n",
    "        return pd.DataFrame()\n",
    "\n",
    "    # Combine all configs\n",
    "    df_combined = pd.concat(all_data, ignore_index=True)\n",
    "\n",
    "    # Calculate Pareto frontier\n",
    "    df_combined = calculate_pareto_frontier(df_combined)\n",
    "\n",
    "    print(f\"\\nTotal experiments: {len(df_combined)}\")\n",
    "    print(f\"Pareto-optimal points: {df_combined['is_pareto'].sum()}\")\n",
    "\n",
    "    return df_combined\n",
    "\n",
    "print(\"Data preparation helper defined\")"
   ]
  },
  {
   "cell_type": "markdown",
   "id": "ifeval-section",
   "metadata": {},
   "source": [
    "### IFEval vs Jailbreak Harm"
   ]
  },
  {
   "cell_type": "code",
   "execution_count": 9,
   "id": "ifeval-pareto",
   "metadata": {},
   "outputs": [
    {
     "name": "stdout",
     "output_type": "stream",
     "text": [
      "Loaded 89 IFEval experiment runs\n",
      "\n",
      "Config breakdown:\n",
      "  baseline: 1 runs\n",
      "  role_trait: 36 runs\n",
      "  jailbreak: 16 runs\n",
      "  lmsys_10000: 36 runs\n"
     ]
    }
   ],
   "source": [
    "# Load IFEval data\n",
    "df_ifeval = load_experiment_data(['ifeval'], config_names, base_dir)\n",
    "print(f\"Loaded {len(df_ifeval)} IFEval experiment runs\")\n",
    "print(f\"\\nConfig breakdown:\")\n",
    "for config in df_ifeval['config_name'].unique():\n",
    "    print(f\"  {config}: {len(df_ifeval[df_ifeval['config_name'] == config])} runs\")"
   ]
  },
  {
   "cell_type": "code",
   "execution_count": 10,
   "id": "4i8hxi8nsly",
   "metadata": {},
   "outputs": [
    {
     "name": "stdout",
     "output_type": "stream",
     "text": [
      "After filtering: 89 runs\n",
      "Baseline IFEval value: 0.6016\n"
     ]
    }
   ],
   "source": [
    "# Filter IFEval data\n",
    "# Filter to no thinking, with chat template\n",
    "df_ifeval_filtered = df_ifeval\n",
    "\n",
    "print(f\"After filtering: {len(df_ifeval_filtered)} runs\")\n",
    "\n",
    "# Get baseline value for percentage calculation\n",
    "metric_col = EVAL_METRICS['ifeval']['metric']\n",
    "baseline_ifeval = df_ifeval_filtered[df_ifeval_filtered['config_name'] == 'baseline']\n",
    "if len(baseline_ifeval) > 0:\n",
    "    baseline_ifeval_value = baseline_ifeval[metric_col].iloc[0]\n",
    "    print(f\"Baseline IFEval value: {baseline_ifeval_value:.4f}\")\n",
    "else:\n",
    "    print(\"Warning: No baseline found!\")\n",
    "    baseline_ifeval_value = None"
   ]
  },
  {
   "cell_type": "code",
   "execution_count": 11,
   "id": "ctya30z4ha",
   "metadata": {},
   "outputs": [
    {
     "name": "stdout",
     "output_type": "stream",
     "text": [
      "\n",
      "IFEVAL:\n",
      "Baseline eval value: 0.6016\n",
      "Baseline harm rate: 83.25%\n",
      "Loaded 36 experiments for role_trait\n",
      "Loaded 16 experiments for jailbreak\n",
      "Loaded 36 experiments for lmsys_10000\n",
      "\n",
      "Total experiments: 88\n",
      "Pareto-optimal points: 6\n"
     ]
    }
   ],
   "source": [
    "# Prepare Pareto data for IFEval\n",
    "if baseline_ifeval_value is not None:\n",
    "    df_ifeval_pareto = prepare_pareto_data(\n",
    "        df_ifeval_filtered,\n",
    "        jailbreak_data,\n",
    "        'ifeval',\n",
    "        baseline_ifeval_value,\n",
    "        baseline_harm\n",
    "    )\n",
    "else:\n",
    "    df_ifeval_pareto = pd.DataFrame()\n",
    "    print(\"Skipping Pareto analysis due to missing baseline\")"
   ]
  },
  {
   "cell_type": "code",
   "execution_count": 14,
   "id": "kty4jmadofh",
   "metadata": {},
   "outputs": [
    {
     "data": {
      "application/vnd.plotly.v1+json": {
       "config": {
        "plotlyServerURL": "https://plot.ly"
       },
       "data": [
        {
         "customdata": [
          [
           "Every 4th Layer, Safe 50th",
           "jailbreak",
           ""
          ],
          [
           "Every 4th Layer, Safe 99th",
           "jailbreak",
           ""
          ],
          [
           "Every 4th Layer, Harm 75th",
           "jailbreak",
           ""
          ],
          [
           "Every 4th Layer, Harm 99th",
           "jailbreak",
           ""
          ],
          [
           "Layers 32-63, Safe 50th",
           "jailbreak",
           ""
          ],
          [
           "Layers 32-63, Safe 99th",
           "jailbreak",
           ""
          ],
          [
           "Layers 32-63, Harm 75th",
           "jailbreak",
           ""
          ],
          [
           "Layers 32-63, Harm 99th",
           "jailbreak",
           ""
          ],
          [
           "Every 2nd Layer, Safe 50th",
           "jailbreak",
           ""
          ],
          [
           "Every 2nd Layer, Safe 99th",
           "jailbreak",
           "<b>PARETO OPTIMAL</b>"
          ],
          [
           "Every 2nd Layer, Harm 75th",
           "jailbreak",
           "<b>PARETO OPTIMAL</b>"
          ],
          [
           "Every 2nd Layer, Harm 99th",
           "jailbreak",
           "<b>PARETO OPTIMAL</b>"
          ],
          [
           "All Layers (0-63), Safe 50th",
           "jailbreak",
           ""
          ],
          [
           "All Layers (0-63), Safe 99th",
           "jailbreak",
           ""
          ],
          [
           "All Layers (0-63), Harm 75th",
           "jailbreak",
           ""
          ],
          [
           "All Layers (0-63), Harm 99th",
           "jailbreak",
           ""
          ]
         ],
         "hovertemplate": "<b>%{customdata[0]}</b><br>Config: %{customdata[1]}<br>Eval Change: %{x:.1f}%<br>Harm Change: %{y:.1f}%<br>%{customdata[2]}<extra></extra>",
         "legendgroup": "jailbreak",
         "marker": {
          "color": "#d62728",
          "opacity": 0.6,
          "size": 8
         },
         "mode": "markers",
         "name": "Jailbreak Rollouts",
         "showlegend": true,
         "type": "scatter",
         "x": [
          3.4408602150537537,
          2.58064516129032,
          3.2258064516128906,
          3.4408602150537537,
          -5.591397849462366,
          -5.376344086021502,
          -7.741935483870978,
          -8.602150537634412,
          4.301075268817206,
          3.4408602150537537,
          5.16129032258064,
          4.946236559139776,
          -6.6666666666666625,
          -10.752688172043005,
          -7.741935483870978,
          -7.3118279569892515
         ],
         "y": [
          -61.45236145236145,
          -85.14878514878515,
          -21.703521703521698,
          -51.95195195195195,
          -61.99836199836201,
          -79.36117936117935,
          -24.1059241059241,
          -47.365547365547364,
          -65.16516516516516,
          -89.1891891891892,
          -22.031122031122035,
          -53.37155337155337,
          -70.4067704067704,
          -89.73518973518973,
          -28.36472836472837,
          -53.153153153153156
         ]
        },
        {
         "customdata": [
          [
           "Layers 56-63, 75th",
           "role_trait",
           "<b>PARETO OPTIMAL</b>"
          ],
          [
           "Layers 56-63, 50th",
           "role_trait",
           ""
          ],
          [
           "Layers 56-63, 25th",
           "role_trait",
           ""
          ],
          [
           "Layers 56-63, 1st",
           "role_trait",
           ""
          ],
          [
           "Layers 48-55, 75th",
           "role_trait",
           ""
          ],
          [
           "Layers 48-55, 50th",
           "role_trait",
           ""
          ],
          [
           "Layers 48-55, 25th",
           "role_trait",
           ""
          ],
          [
           "Layers 48-55, 1st",
           "role_trait",
           ""
          ],
          [
           "Layers 40-47, 75th",
           "role_trait",
           ""
          ],
          [
           "Layers 40-47, 50th",
           "role_trait",
           ""
          ],
          [
           "Layers 40-47, 25th",
           "role_trait",
           ""
          ],
          [
           "Layers 40-47, 1st",
           "role_trait",
           ""
          ],
          [
           "Layers 32-39, 75th",
           "role_trait",
           ""
          ],
          [
           "Layers 32-39, 50th",
           "role_trait",
           ""
          ],
          [
           "Layers 32-39, 25th",
           "role_trait",
           ""
          ],
          [
           "Layers 32-39, 1st",
           "role_trait",
           ""
          ],
          [
           "Layers 24-31, 75th",
           "role_trait",
           ""
          ],
          [
           "Layers 24-31, 50th",
           "role_trait",
           ""
          ],
          [
           "Layers 24-31, 25th",
           "role_trait",
           ""
          ],
          [
           "Layers 24-31, 1st",
           "role_trait",
           ""
          ],
          [
           "Layers 8-15, 75th",
           "role_trait",
           ""
          ],
          [
           "Layers 8-15, 50th",
           "role_trait",
           ""
          ],
          [
           "Layers 8-15, 25th",
           "role_trait",
           ""
          ],
          [
           "Layers 8-15, 1st",
           "role_trait",
           ""
          ],
          [
           "Layers 16-23, 75th",
           "role_trait",
           ""
          ],
          [
           "Layers 16-23, 50th",
           "role_trait",
           ""
          ],
          [
           "Layers 16-23, 25th",
           "role_trait",
           ""
          ],
          [
           "Layers 16-23, 1st",
           "role_trait",
           ""
          ],
          [
           "All Layers (0-63), 75th",
           "role_trait",
           ""
          ],
          [
           "All Layers (0-63), 50th",
           "role_trait",
           ""
          ],
          [
           "All Layers (0-63), 25th",
           "role_trait",
           "<b>PARETO OPTIMAL</b>"
          ],
          [
           "All Layers (0-63), 1st",
           "role_trait",
           "<b>PARETO OPTIMAL</b>"
          ],
          [
           "Layers 0-15, 75th",
           "role_trait",
           ""
          ],
          [
           "Layers 0-15, 50th",
           "role_trait",
           ""
          ],
          [
           "Layers 0-15, 25th",
           "role_trait",
           ""
          ],
          [
           "Layers 0-15, 1st",
           "role_trait",
           ""
          ]
         ],
         "hovertemplate": "<b>%{customdata[0]}</b><br>Config: %{customdata[1]}<br>Eval Change: %{x:.1f}%<br>Harm Change: %{y:.1f}%<br>%{customdata[2]}<extra></extra>",
         "legendgroup": "role_trait",
         "marker": {
          "color": "#ff7f0e",
          "opacity": 0.6,
          "size": 8
         },
         "mode": "markers",
         "name": "Role/Trait Rollouts",
         "showlegend": true,
         "type": "scatter",
         "x": [
          5.591397849462366,
          5.16129032258064,
          3.87096774193548,
          1.29032258064516,
          2.3655913978494567,
          -0.21505376344086308,
          0.21505376344086308,
          2.1505376344085936,
          -0.43010752688172615,
          1.505376344086023,
          2.1505376344085936,
          0.43010752688172615,
          3.655913978494617,
          3.4408602150537537,
          2.58064516129032,
          2.3655913978494567,
          2.1505376344085936,
          1.29032258064516,
          2.3655913978494567,
          1.9354838709677307,
          -0.43010752688172615,
          2.1505376344085936,
          1.505376344086023,
          0.8602150537634339,
          1.0752688172042968,
          1.9354838709677307,
          1.505376344086023,
          0,
          4.516129032258069,
          4.946236559139776,
          4.301075268817206,
          -0.43010752688172615,
          -0.43010752688172615,
          -1.0752688172042968,
          0.6451612903225707,
          -0.6451612903225892
         ],
         "y": [
          -4.1223041223041115,
          -5.2143052143052175,
          -4.340704340704336,
          -5.978705978705986,
          -6.087906087906082,
          -21.048321048321057,
          -33.38793338793339,
          -52.27955227955228,
          -21.594321594321602,
          -38.3019383019383,
          -48.45754845754846,
          -70.2975702975703,
          -17.117117117117118,
          -26.83592683592683,
          -36.663936663936674,
          -55.99235599235599,
          -15.806715806715804,
          -24.1059241059241,
          -32.514332514332516,
          -44.417144417144414,
          -3.576303576303567,
          -5.541905541905537,
          -12.749112749112761,
          -23.34152334152334,
          -5.869505869505857,
          -17.881517881517887,
          -28.255528255528255,
          -48.894348894348894,
          -21.48512148512147,
          -47.037947037947035,
          -67.02156702156702,
          -91.15479115479116,
          -3.6855036855036967,
          -8.27190827190826,
          -13.076713076713082,
          -24.97952497952498
         ]
        },
        {
         "customdata": [
          [
           "Layers 56-63, 75th",
           "lmsys_10000",
           ""
          ],
          [
           "Layers 56-63, 50th",
           "lmsys_10000",
           ""
          ],
          [
           "Layers 56-63, 25th",
           "lmsys_10000",
           ""
          ],
          [
           "Layers 56-63, 1st",
           "lmsys_10000",
           ""
          ],
          [
           "Layers 48-55, 75th",
           "lmsys_10000",
           ""
          ],
          [
           "Layers 48-55, 50th",
           "lmsys_10000",
           ""
          ],
          [
           "Layers 48-55, 25th",
           "lmsys_10000",
           ""
          ],
          [
           "Layers 48-55, 1st",
           "lmsys_10000",
           ""
          ],
          [
           "Layers 40-47, 75th",
           "lmsys_10000",
           ""
          ],
          [
           "Layers 40-47, 50th",
           "lmsys_10000",
           ""
          ],
          [
           "Layers 40-47, 25th",
           "lmsys_10000",
           ""
          ],
          [
           "Layers 40-47, 1st",
           "lmsys_10000",
           ""
          ],
          [
           "Layers 32-39, 75th",
           "lmsys_10000",
           ""
          ],
          [
           "Layers 32-39, 50th",
           "lmsys_10000",
           ""
          ],
          [
           "Layers 32-39, 25th",
           "lmsys_10000",
           ""
          ],
          [
           "Layers 32-39, 1st",
           "lmsys_10000",
           ""
          ],
          [
           "Layers 24-31, 75th",
           "lmsys_10000",
           ""
          ],
          [
           "Layers 24-31, 50th",
           "lmsys_10000",
           ""
          ],
          [
           "Layers 24-31, 25th",
           "lmsys_10000",
           ""
          ],
          [
           "Layers 24-31, 1st",
           "lmsys_10000",
           ""
          ],
          [
           "Layers 8-15, 75th",
           "lmsys_10000",
           ""
          ],
          [
           "Layers 8-15, 50th",
           "lmsys_10000",
           ""
          ],
          [
           "Layers 8-15, 25th",
           "lmsys_10000",
           ""
          ],
          [
           "Layers 8-15, 1st",
           "lmsys_10000",
           ""
          ],
          [
           "Layers 16-23, 75th",
           "lmsys_10000",
           ""
          ],
          [
           "Layers 16-23, 50th",
           "lmsys_10000",
           ""
          ],
          [
           "Layers 16-23, 25th",
           "lmsys_10000",
           ""
          ],
          [
           "Layers 16-23, 1st",
           "lmsys_10000",
           ""
          ],
          [
           "All Layers (0-63), 75th",
           "lmsys_10000",
           ""
          ],
          [
           "All Layers (0-63), 50th",
           "lmsys_10000",
           ""
          ],
          [
           "All Layers (0-63), 25th",
           "lmsys_10000",
           ""
          ],
          [
           "All Layers (0-63), 1st",
           "lmsys_10000",
           ""
          ],
          [
           "Layers 0-15, 75th",
           "lmsys_10000",
           ""
          ],
          [
           "Layers 0-15, 50th",
           "lmsys_10000",
           ""
          ],
          [
           "Layers 0-15, 25th",
           "lmsys_10000",
           ""
          ],
          [
           "Layers 0-15, 1st",
           "lmsys_10000",
           ""
          ]
         ],
         "hovertemplate": "<b>%{customdata[0]}</b><br>Config: %{customdata[1]}<br>Eval Change: %{x:.1f}%<br>Harm Change: %{y:.1f}%<br>%{customdata[2]}<extra></extra>",
         "legendgroup": "lmsys_10000",
         "marker": {
          "color": "#9467bd",
          "opacity": 0.6,
          "size": 8
         },
         "mode": "markers",
         "name": "LMSYS-10K Rollouts",
         "showlegend": true,
         "type": "scatter",
         "x": [
          -2.795698924731183,
          -1.9354838709677493,
          -4.086021505376343,
          -8.38709677419355,
          0.8602150537634339,
          -0.21505376344086308,
          -0.21505376344086308,
          -0.21505376344086308,
          1.9354838709677307,
          1.29032258064516,
          3.87096774193548,
          1.9354838709677307,
          1.505376344086023,
          1.505376344086023,
          3.2258064516128906,
          1.9354838709677307,
          2.795698924731183,
          1.7204301075268862,
          3.010752688172046,
          3.2258064516128906,
          1.505376344086023,
          0.6451612903225707,
          1.9354838709677307,
          1.9354838709677307,
          0,
          -0.43010752688172615,
          0.6451612903225707,
          0.6451612903225707,
          -6.881720430107525,
          -11.182795698924732,
          -12.688172043010756,
          -21.720430107526884,
          0,
          -0.6451612903225892,
          0.43010752688172615,
          0.21505376344086308
         ],
         "y": [
          -8.490308490308484,
          -9.28143794385833,
          -11.11111111111111,
          -11.001911001911,
          -19.628719628719633,
          -26.332155631518688,
          -30.876330876330876,
          -44.85394485394485,
          -30.111930111930114,
          -33.715533715533724,
          -42.23314223314224,
          -63.308763308763304,
          -21.048321048321057,
          -25.962325962325966,
          -30.15763716400659,
          -49.877149877149876,
          -19.956319956319952,
          -25.088725088725084,
          -30.548730548730557,
          -41.46874146874147,
          -4.88670488670488,
          -9.90990990990991,
          -17.881517881517887,
          -26.83592683592683,
          -12.749112749112761,
          -19.51951951951952,
          -33.16953316953317,
          -47.474747474747474,
          -41.031941031941024,
          -54.57275457275457,
          -68.87796887796888,
          -88.86158886158884,
          -5.105105105105105,
          -9.691509691509685,
          -13.4043134043134,
          -26.289926289926285
         ]
        },
        {
         "hoverinfo": "skip",
         "line": {
          "color": "grey",
          "dash": "dash",
          "width": 1
         },
         "mode": "lines",
         "name": "Pareto Frontier",
         "showlegend": true,
         "type": "scatter",
         "x": [
          -0.43010752688172615,
          3.4408602150537537,
          4.301075268817206,
          4.946236559139776,
          5.16129032258064,
          5.591397849462366
         ],
         "y": [
          -91.15479115479116,
          -89.1891891891892,
          -67.02156702156702,
          -53.37155337155337,
          -22.031122031122035,
          -4.1223041223041115
         ]
        }
       ],
       "layout": {
        "annotations": [
         {
          "align": "left",
          "font": {
           "color": "#ff7f0e",
           "size": 9
          },
          "showarrow": false,
          "text": "Layers 56-63, 75th %ile",
          "x": 5.591397849462366,
          "xanchor": "left",
          "xshift": 10,
          "y": -4.1223041223041115,
          "yanchor": "middle"
         },
         {
          "align": "left",
          "font": {
           "color": "#ff7f0e",
           "size": 9
          },
          "showarrow": false,
          "text": "All Layers (0-63), 25th %ile",
          "x": 4.301075268817206,
          "xanchor": "left",
          "xshift": 10,
          "y": -67.02156702156702,
          "yanchor": "middle"
         },
         {
          "align": "left",
          "font": {
           "color": "#ff7f0e",
           "size": 9
          },
          "showarrow": false,
          "text": "All Layers (0-63), 1st %ile",
          "x": -0.43010752688172615,
          "xanchor": "left",
          "xshift": 10,
          "y": -91.15479115479116,
          "yanchor": "middle"
         },
         {
          "align": "left",
          "font": {
           "color": "#d62728",
           "size": 9
          },
          "showarrow": false,
          "text": "Every 2nd Layer, Safe 99th %ile",
          "x": 3.4408602150537537,
          "xanchor": "left",
          "xshift": 10,
          "y": -89.1891891891892,
          "yanchor": "middle"
         },
         {
          "align": "left",
          "font": {
           "color": "#d62728",
           "size": 9
          },
          "showarrow": false,
          "text": "Every 2nd Layer, Harm 75th %ile",
          "x": 5.16129032258064,
          "xanchor": "left",
          "xshift": 10,
          "y": -22.031122031122035,
          "yanchor": "middle"
         },
         {
          "align": "left",
          "font": {
           "color": "#d62728",
           "size": 9
          },
          "showarrow": false,
          "text": "Every 2nd Layer, Harm 99th %ile",
          "x": 4.946236559139776,
          "xanchor": "left",
          "xshift": 10,
          "y": -53.37155337155337,
          "yanchor": "middle"
         },
         {
          "font": {
           "color": "green",
           "size": 10
          },
          "showarrow": false,
          "text": "<b>Ideal</b><br>Unchanged eval<br>Reduced harm",
          "x": 5.03225806451613,
          "y": -82.03931203931204
         },
         {
          "font": {
           "color": "red",
           "size": 10
          },
          "showarrow": false,
          "text": "<b>Worst</b><br>Worse eval<br>Unchanged harm",
          "x": -19.548387096774196,
          "y": -3.21867321867321
         }
        ],
        "height": 700,
        "hovermode": "closest",
        "legend": {
         "orientation": "v",
         "x": 1.02,
         "xanchor": "left",
         "y": 1,
         "yanchor": "top"
        },
        "shapes": [
         {
          "line": {
           "color": "gray",
           "dash": "dot",
           "width": 1
          },
          "opacity": 0.5,
          "type": "line",
          "x0": 0,
          "x1": 1,
          "xref": "x domain",
          "y0": 0,
          "y1": 0,
          "yref": "y"
         },
         {
          "line": {
           "color": "gray",
           "dash": "dot",
           "width": 1
          },
          "opacity": 0.5,
          "type": "line",
          "x0": 0,
          "x1": 0,
          "xref": "x",
          "y0": 0,
          "y1": 1,
          "yref": "y domain"
         }
        ],
        "template": {
         "data": {
          "bar": [
           {
            "error_x": {
             "color": "#2a3f5f"
            },
            "error_y": {
             "color": "#2a3f5f"
            },
            "marker": {
             "line": {
              "color": "#E5ECF6",
              "width": 0.5
             },
             "pattern": {
              "fillmode": "overlay",
              "size": 10,
              "solidity": 0.2
             }
            },
            "type": "bar"
           }
          ],
          "barpolar": [
           {
            "marker": {
             "line": {
              "color": "#E5ECF6",
              "width": 0.5
             },
             "pattern": {
              "fillmode": "overlay",
              "size": 10,
              "solidity": 0.2
             }
            },
            "type": "barpolar"
           }
          ],
          "carpet": [
           {
            "aaxis": {
             "endlinecolor": "#2a3f5f",
             "gridcolor": "white",
             "linecolor": "white",
             "minorgridcolor": "white",
             "startlinecolor": "#2a3f5f"
            },
            "baxis": {
             "endlinecolor": "#2a3f5f",
             "gridcolor": "white",
             "linecolor": "white",
             "minorgridcolor": "white",
             "startlinecolor": "#2a3f5f"
            },
            "type": "carpet"
           }
          ],
          "choropleth": [
           {
            "colorbar": {
             "outlinewidth": 0,
             "ticks": ""
            },
            "type": "choropleth"
           }
          ],
          "contour": [
           {
            "colorbar": {
             "outlinewidth": 0,
             "ticks": ""
            },
            "colorscale": [
             [
              0,
              "#0d0887"
             ],
             [
              0.1111111111111111,
              "#46039f"
             ],
             [
              0.2222222222222222,
              "#7201a8"
             ],
             [
              0.3333333333333333,
              "#9c179e"
             ],
             [
              0.4444444444444444,
              "#bd3786"
             ],
             [
              0.5555555555555556,
              "#d8576b"
             ],
             [
              0.6666666666666666,
              "#ed7953"
             ],
             [
              0.7777777777777778,
              "#fb9f3a"
             ],
             [
              0.8888888888888888,
              "#fdca26"
             ],
             [
              1,
              "#f0f921"
             ]
            ],
            "type": "contour"
           }
          ],
          "contourcarpet": [
           {
            "colorbar": {
             "outlinewidth": 0,
             "ticks": ""
            },
            "type": "contourcarpet"
           }
          ],
          "heatmap": [
           {
            "colorbar": {
             "outlinewidth": 0,
             "ticks": ""
            },
            "colorscale": [
             [
              0,
              "#0d0887"
             ],
             [
              0.1111111111111111,
              "#46039f"
             ],
             [
              0.2222222222222222,
              "#7201a8"
             ],
             [
              0.3333333333333333,
              "#9c179e"
             ],
             [
              0.4444444444444444,
              "#bd3786"
             ],
             [
              0.5555555555555556,
              "#d8576b"
             ],
             [
              0.6666666666666666,
              "#ed7953"
             ],
             [
              0.7777777777777778,
              "#fb9f3a"
             ],
             [
              0.8888888888888888,
              "#fdca26"
             ],
             [
              1,
              "#f0f921"
             ]
            ],
            "type": "heatmap"
           }
          ],
          "heatmapgl": [
           {
            "colorbar": {
             "outlinewidth": 0,
             "ticks": ""
            },
            "colorscale": [
             [
              0,
              "#0d0887"
             ],
             [
              0.1111111111111111,
              "#46039f"
             ],
             [
              0.2222222222222222,
              "#7201a8"
             ],
             [
              0.3333333333333333,
              "#9c179e"
             ],
             [
              0.4444444444444444,
              "#bd3786"
             ],
             [
              0.5555555555555556,
              "#d8576b"
             ],
             [
              0.6666666666666666,
              "#ed7953"
             ],
             [
              0.7777777777777778,
              "#fb9f3a"
             ],
             [
              0.8888888888888888,
              "#fdca26"
             ],
             [
              1,
              "#f0f921"
             ]
            ],
            "type": "heatmapgl"
           }
          ],
          "histogram": [
           {
            "marker": {
             "pattern": {
              "fillmode": "overlay",
              "size": 10,
              "solidity": 0.2
             }
            },
            "type": "histogram"
           }
          ],
          "histogram2d": [
           {
            "colorbar": {
             "outlinewidth": 0,
             "ticks": ""
            },
            "colorscale": [
             [
              0,
              "#0d0887"
             ],
             [
              0.1111111111111111,
              "#46039f"
             ],
             [
              0.2222222222222222,
              "#7201a8"
             ],
             [
              0.3333333333333333,
              "#9c179e"
             ],
             [
              0.4444444444444444,
              "#bd3786"
             ],
             [
              0.5555555555555556,
              "#d8576b"
             ],
             [
              0.6666666666666666,
              "#ed7953"
             ],
             [
              0.7777777777777778,
              "#fb9f3a"
             ],
             [
              0.8888888888888888,
              "#fdca26"
             ],
             [
              1,
              "#f0f921"
             ]
            ],
            "type": "histogram2d"
           }
          ],
          "histogram2dcontour": [
           {
            "colorbar": {
             "outlinewidth": 0,
             "ticks": ""
            },
            "colorscale": [
             [
              0,
              "#0d0887"
             ],
             [
              0.1111111111111111,
              "#46039f"
             ],
             [
              0.2222222222222222,
              "#7201a8"
             ],
             [
              0.3333333333333333,
              "#9c179e"
             ],
             [
              0.4444444444444444,
              "#bd3786"
             ],
             [
              0.5555555555555556,
              "#d8576b"
             ],
             [
              0.6666666666666666,
              "#ed7953"
             ],
             [
              0.7777777777777778,
              "#fb9f3a"
             ],
             [
              0.8888888888888888,
              "#fdca26"
             ],
             [
              1,
              "#f0f921"
             ]
            ],
            "type": "histogram2dcontour"
           }
          ],
          "mesh3d": [
           {
            "colorbar": {
             "outlinewidth": 0,
             "ticks": ""
            },
            "type": "mesh3d"
           }
          ],
          "parcoords": [
           {
            "line": {
             "colorbar": {
              "outlinewidth": 0,
              "ticks": ""
             }
            },
            "type": "parcoords"
           }
          ],
          "pie": [
           {
            "automargin": true,
            "type": "pie"
           }
          ],
          "scatter": [
           {
            "fillpattern": {
             "fillmode": "overlay",
             "size": 10,
             "solidity": 0.2
            },
            "type": "scatter"
           }
          ],
          "scatter3d": [
           {
            "line": {
             "colorbar": {
              "outlinewidth": 0,
              "ticks": ""
             }
            },
            "marker": {
             "colorbar": {
              "outlinewidth": 0,
              "ticks": ""
             }
            },
            "type": "scatter3d"
           }
          ],
          "scattercarpet": [
           {
            "marker": {
             "colorbar": {
              "outlinewidth": 0,
              "ticks": ""
             }
            },
            "type": "scattercarpet"
           }
          ],
          "scattergeo": [
           {
            "marker": {
             "colorbar": {
              "outlinewidth": 0,
              "ticks": ""
             }
            },
            "type": "scattergeo"
           }
          ],
          "scattergl": [
           {
            "marker": {
             "colorbar": {
              "outlinewidth": 0,
              "ticks": ""
             }
            },
            "type": "scattergl"
           }
          ],
          "scattermapbox": [
           {
            "marker": {
             "colorbar": {
              "outlinewidth": 0,
              "ticks": ""
             }
            },
            "type": "scattermapbox"
           }
          ],
          "scatterpolar": [
           {
            "marker": {
             "colorbar": {
              "outlinewidth": 0,
              "ticks": ""
             }
            },
            "type": "scatterpolar"
           }
          ],
          "scatterpolargl": [
           {
            "marker": {
             "colorbar": {
              "outlinewidth": 0,
              "ticks": ""
             }
            },
            "type": "scatterpolargl"
           }
          ],
          "scatterternary": [
           {
            "marker": {
             "colorbar": {
              "outlinewidth": 0,
              "ticks": ""
             }
            },
            "type": "scatterternary"
           }
          ],
          "surface": [
           {
            "colorbar": {
             "outlinewidth": 0,
             "ticks": ""
            },
            "colorscale": [
             [
              0,
              "#0d0887"
             ],
             [
              0.1111111111111111,
              "#46039f"
             ],
             [
              0.2222222222222222,
              "#7201a8"
             ],
             [
              0.3333333333333333,
              "#9c179e"
             ],
             [
              0.4444444444444444,
              "#bd3786"
             ],
             [
              0.5555555555555556,
              "#d8576b"
             ],
             [
              0.6666666666666666,
              "#ed7953"
             ],
             [
              0.7777777777777778,
              "#fb9f3a"
             ],
             [
              0.8888888888888888,
              "#fdca26"
             ],
             [
              1,
              "#f0f921"
             ]
            ],
            "type": "surface"
           }
          ],
          "table": [
           {
            "cells": {
             "fill": {
              "color": "#EBF0F8"
             },
             "line": {
              "color": "white"
             }
            },
            "header": {
             "fill": {
              "color": "#C8D4E3"
             },
             "line": {
              "color": "white"
             }
            },
            "type": "table"
           }
          ]
         },
         "layout": {
          "annotationdefaults": {
           "arrowcolor": "#2a3f5f",
           "arrowhead": 0,
           "arrowwidth": 1
          },
          "autotypenumbers": "strict",
          "coloraxis": {
           "colorbar": {
            "outlinewidth": 0,
            "ticks": ""
           }
          },
          "colorscale": {
           "diverging": [
            [
             0,
             "#8e0152"
            ],
            [
             0.1,
             "#c51b7d"
            ],
            [
             0.2,
             "#de77ae"
            ],
            [
             0.3,
             "#f1b6da"
            ],
            [
             0.4,
             "#fde0ef"
            ],
            [
             0.5,
             "#f7f7f7"
            ],
            [
             0.6,
             "#e6f5d0"
            ],
            [
             0.7,
             "#b8e186"
            ],
            [
             0.8,
             "#7fbc41"
            ],
            [
             0.9,
             "#4d9221"
            ],
            [
             1,
             "#276419"
            ]
           ],
           "sequential": [
            [
             0,
             "#0d0887"
            ],
            [
             0.1111111111111111,
             "#46039f"
            ],
            [
             0.2222222222222222,
             "#7201a8"
            ],
            [
             0.3333333333333333,
             "#9c179e"
            ],
            [
             0.4444444444444444,
             "#bd3786"
            ],
            [
             0.5555555555555556,
             "#d8576b"
            ],
            [
             0.6666666666666666,
             "#ed7953"
            ],
            [
             0.7777777777777778,
             "#fb9f3a"
            ],
            [
             0.8888888888888888,
             "#fdca26"
            ],
            [
             1,
             "#f0f921"
            ]
           ],
           "sequentialminus": [
            [
             0,
             "#0d0887"
            ],
            [
             0.1111111111111111,
             "#46039f"
            ],
            [
             0.2222222222222222,
             "#7201a8"
            ],
            [
             0.3333333333333333,
             "#9c179e"
            ],
            [
             0.4444444444444444,
             "#bd3786"
            ],
            [
             0.5555555555555556,
             "#d8576b"
            ],
            [
             0.6666666666666666,
             "#ed7953"
            ],
            [
             0.7777777777777778,
             "#fb9f3a"
            ],
            [
             0.8888888888888888,
             "#fdca26"
            ],
            [
             1,
             "#f0f921"
            ]
           ]
          },
          "colorway": [
           "#636efa",
           "#EF553B",
           "#00cc96",
           "#ab63fa",
           "#FFA15A",
           "#19d3f3",
           "#FF6692",
           "#B6E880",
           "#FF97FF",
           "#FECB52"
          ],
          "font": {
           "color": "#2a3f5f"
          },
          "geo": {
           "bgcolor": "white",
           "lakecolor": "white",
           "landcolor": "#E5ECF6",
           "showlakes": true,
           "showland": true,
           "subunitcolor": "white"
          },
          "hoverlabel": {
           "align": "left"
          },
          "hovermode": "closest",
          "mapbox": {
           "style": "light"
          },
          "paper_bgcolor": "white",
          "plot_bgcolor": "#E5ECF6",
          "polar": {
           "angularaxis": {
            "gridcolor": "white",
            "linecolor": "white",
            "ticks": ""
           },
           "bgcolor": "#E5ECF6",
           "radialaxis": {
            "gridcolor": "white",
            "linecolor": "white",
            "ticks": ""
           }
          },
          "scene": {
           "xaxis": {
            "backgroundcolor": "#E5ECF6",
            "gridcolor": "white",
            "gridwidth": 2,
            "linecolor": "white",
            "showbackground": true,
            "ticks": "",
            "zerolinecolor": "white"
           },
           "yaxis": {
            "backgroundcolor": "#E5ECF6",
            "gridcolor": "white",
            "gridwidth": 2,
            "linecolor": "white",
            "showbackground": true,
            "ticks": "",
            "zerolinecolor": "white"
           },
           "zaxis": {
            "backgroundcolor": "#E5ECF6",
            "gridcolor": "white",
            "gridwidth": 2,
            "linecolor": "white",
            "showbackground": true,
            "ticks": "",
            "zerolinecolor": "white"
           }
          },
          "shapedefaults": {
           "line": {
            "color": "#2a3f5f"
           }
          },
          "ternary": {
           "aaxis": {
            "gridcolor": "white",
            "linecolor": "white",
            "ticks": ""
           },
           "baxis": {
            "gridcolor": "white",
            "linecolor": "white",
            "ticks": ""
           },
           "bgcolor": "#E5ECF6",
           "caxis": {
            "gridcolor": "white",
            "linecolor": "white",
            "ticks": ""
           }
          },
          "title": {
           "x": 0.05
          },
          "xaxis": {
           "automargin": true,
           "gridcolor": "white",
           "linecolor": "white",
           "ticks": "",
           "title": {
            "standoff": 15
           },
           "zerolinecolor": "white",
           "zerolinewidth": 2
          },
          "yaxis": {
           "automargin": true,
           "gridcolor": "white",
           "linecolor": "white",
           "ticks": "",
           "title": {
            "standoff": 15
           },
           "zerolinecolor": "white",
           "zerolinewidth": 2
          }
         }
        },
        "title": {
         "subtitle": {
          "text": "Qwen 3 32B, Single-Shot & No Thinking"
         },
         "text": "Pareto Frontier: IFEval Instruction-level Accuracy vs. Harmful Response Rate"
        },
        "width": 1000,
        "xaxis": {
         "gridcolor": "lightgray",
         "showgrid": true,
         "title": {
          "text": "Eval Performance Change (%)"
         },
         "zeroline": true
        },
        "yaxis": {
         "gridcolor": "lightgray",
         "showgrid": true,
         "title": {
          "text": "Harmful Response Rate Reduced (%)"
         },
         "zeroline": true
        }
       }
      },
      "text/html": [
       "<div>                            <div id=\"41a8ceaa-1bf8-4539-8f87-469f8aa97e7a\" class=\"plotly-graph-div\" style=\"height:700px; width:1000px;\"></div>            <script type=\"text/javascript\">                require([\"plotly\"], function(Plotly) {                    window.PLOTLYENV=window.PLOTLYENV || {};                                    if (document.getElementById(\"41a8ceaa-1bf8-4539-8f87-469f8aa97e7a\")) {                    Plotly.newPlot(                        \"41a8ceaa-1bf8-4539-8f87-469f8aa97e7a\",                        [{\"customdata\":[[\"Every 4th Layer, Safe 50th\",\"jailbreak\",\"\"],[\"Every 4th Layer, Safe 99th\",\"jailbreak\",\"\"],[\"Every 4th Layer, Harm 75th\",\"jailbreak\",\"\"],[\"Every 4th Layer, Harm 99th\",\"jailbreak\",\"\"],[\"Layers 32-63, Safe 50th\",\"jailbreak\",\"\"],[\"Layers 32-63, Safe 99th\",\"jailbreak\",\"\"],[\"Layers 32-63, Harm 75th\",\"jailbreak\",\"\"],[\"Layers 32-63, Harm 99th\",\"jailbreak\",\"\"],[\"Every 2nd Layer, Safe 50th\",\"jailbreak\",\"\"],[\"Every 2nd Layer, Safe 99th\",\"jailbreak\",\"\\u003cb\\u003ePARETO OPTIMAL\\u003c\\u002fb\\u003e\"],[\"Every 2nd Layer, Harm 75th\",\"jailbreak\",\"\\u003cb\\u003ePARETO OPTIMAL\\u003c\\u002fb\\u003e\"],[\"Every 2nd Layer, Harm 99th\",\"jailbreak\",\"\\u003cb\\u003ePARETO OPTIMAL\\u003c\\u002fb\\u003e\"],[\"All Layers (0-63), Safe 50th\",\"jailbreak\",\"\"],[\"All Layers (0-63), Safe 99th\",\"jailbreak\",\"\"],[\"All Layers (0-63), Harm 75th\",\"jailbreak\",\"\"],[\"All Layers (0-63), Harm 99th\",\"jailbreak\",\"\"]],\"hovertemplate\":\"\\u003cb\\u003e%{customdata[0]}\\u003c\\u002fb\\u003e\\u003cbr\\u003eConfig: %{customdata[1]}\\u003cbr\\u003eEval Change: %{x:.1f}%\\u003cbr\\u003eHarm Change: %{y:.1f}%\\u003cbr\\u003e%{customdata[2]}\\u003cextra\\u003e\\u003c\\u002fextra\\u003e\",\"legendgroup\":\"jailbreak\",\"marker\":{\"color\":\"#d62728\",\"opacity\":0.6,\"size\":8},\"mode\":\"markers\",\"name\":\"Jailbreak Rollouts\",\"showlegend\":true,\"x\":[3.4408602150537537,2.58064516129032,3.2258064516128906,3.4408602150537537,-5.591397849462366,-5.376344086021502,-7.741935483870978,-8.602150537634412,4.301075268817206,3.4408602150537537,5.16129032258064,4.946236559139776,-6.6666666666666625,-10.752688172043005,-7.741935483870978,-7.3118279569892515],\"y\":[-61.45236145236145,-85.14878514878515,-21.703521703521698,-51.95195195195195,-61.99836199836201,-79.36117936117935,-24.1059241059241,-47.365547365547364,-65.16516516516516,-89.1891891891892,-22.031122031122035,-53.37155337155337,-70.4067704067704,-89.73518973518973,-28.36472836472837,-53.153153153153156],\"type\":\"scatter\"},{\"customdata\":[[\"Layers 56-63, 75th\",\"role_trait\",\"\\u003cb\\u003ePARETO OPTIMAL\\u003c\\u002fb\\u003e\"],[\"Layers 56-63, 50th\",\"role_trait\",\"\"],[\"Layers 56-63, 25th\",\"role_trait\",\"\"],[\"Layers 56-63, 1st\",\"role_trait\",\"\"],[\"Layers 48-55, 75th\",\"role_trait\",\"\"],[\"Layers 48-55, 50th\",\"role_trait\",\"\"],[\"Layers 48-55, 25th\",\"role_trait\",\"\"],[\"Layers 48-55, 1st\",\"role_trait\",\"\"],[\"Layers 40-47, 75th\",\"role_trait\",\"\"],[\"Layers 40-47, 50th\",\"role_trait\",\"\"],[\"Layers 40-47, 25th\",\"role_trait\",\"\"],[\"Layers 40-47, 1st\",\"role_trait\",\"\"],[\"Layers 32-39, 75th\",\"role_trait\",\"\"],[\"Layers 32-39, 50th\",\"role_trait\",\"\"],[\"Layers 32-39, 25th\",\"role_trait\",\"\"],[\"Layers 32-39, 1st\",\"role_trait\",\"\"],[\"Layers 24-31, 75th\",\"role_trait\",\"\"],[\"Layers 24-31, 50th\",\"role_trait\",\"\"],[\"Layers 24-31, 25th\",\"role_trait\",\"\"],[\"Layers 24-31, 1st\",\"role_trait\",\"\"],[\"Layers 8-15, 75th\",\"role_trait\",\"\"],[\"Layers 8-15, 50th\",\"role_trait\",\"\"],[\"Layers 8-15, 25th\",\"role_trait\",\"\"],[\"Layers 8-15, 1st\",\"role_trait\",\"\"],[\"Layers 16-23, 75th\",\"role_trait\",\"\"],[\"Layers 16-23, 50th\",\"role_trait\",\"\"],[\"Layers 16-23, 25th\",\"role_trait\",\"\"],[\"Layers 16-23, 1st\",\"role_trait\",\"\"],[\"All Layers (0-63), 75th\",\"role_trait\",\"\"],[\"All Layers (0-63), 50th\",\"role_trait\",\"\"],[\"All Layers (0-63), 25th\",\"role_trait\",\"\\u003cb\\u003ePARETO OPTIMAL\\u003c\\u002fb\\u003e\"],[\"All Layers (0-63), 1st\",\"role_trait\",\"\\u003cb\\u003ePARETO OPTIMAL\\u003c\\u002fb\\u003e\"],[\"Layers 0-15, 75th\",\"role_trait\",\"\"],[\"Layers 0-15, 50th\",\"role_trait\",\"\"],[\"Layers 0-15, 25th\",\"role_trait\",\"\"],[\"Layers 0-15, 1st\",\"role_trait\",\"\"]],\"hovertemplate\":\"\\u003cb\\u003e%{customdata[0]}\\u003c\\u002fb\\u003e\\u003cbr\\u003eConfig: %{customdata[1]}\\u003cbr\\u003eEval Change: %{x:.1f}%\\u003cbr\\u003eHarm Change: %{y:.1f}%\\u003cbr\\u003e%{customdata[2]}\\u003cextra\\u003e\\u003c\\u002fextra\\u003e\",\"legendgroup\":\"role_trait\",\"marker\":{\"color\":\"#ff7f0e\",\"opacity\":0.6,\"size\":8},\"mode\":\"markers\",\"name\":\"Role\\u002fTrait Rollouts\",\"showlegend\":true,\"x\":[5.591397849462366,5.16129032258064,3.87096774193548,1.29032258064516,2.3655913978494567,-0.21505376344086308,0.21505376344086308,2.1505376344085936,-0.43010752688172615,1.505376344086023,2.1505376344085936,0.43010752688172615,3.655913978494617,3.4408602150537537,2.58064516129032,2.3655913978494567,2.1505376344085936,1.29032258064516,2.3655913978494567,1.9354838709677307,-0.43010752688172615,2.1505376344085936,1.505376344086023,0.8602150537634339,1.0752688172042968,1.9354838709677307,1.505376344086023,0.0,4.516129032258069,4.946236559139776,4.301075268817206,-0.43010752688172615,-0.43010752688172615,-1.0752688172042968,0.6451612903225707,-0.6451612903225892],\"y\":[-4.1223041223041115,-5.2143052143052175,-4.340704340704336,-5.978705978705986,-6.087906087906082,-21.048321048321057,-33.38793338793339,-52.27955227955228,-21.594321594321602,-38.3019383019383,-48.45754845754846,-70.2975702975703,-17.117117117117118,-26.83592683592683,-36.663936663936674,-55.99235599235599,-15.806715806715804,-24.1059241059241,-32.514332514332516,-44.417144417144414,-3.576303576303567,-5.541905541905537,-12.749112749112761,-23.34152334152334,-5.869505869505857,-17.881517881517887,-28.255528255528255,-48.894348894348894,-21.48512148512147,-47.037947037947035,-67.02156702156702,-91.15479115479116,-3.6855036855036967,-8.27190827190826,-13.076713076713082,-24.97952497952498],\"type\":\"scatter\"},{\"customdata\":[[\"Layers 56-63, 75th\",\"lmsys_10000\",\"\"],[\"Layers 56-63, 50th\",\"lmsys_10000\",\"\"],[\"Layers 56-63, 25th\",\"lmsys_10000\",\"\"],[\"Layers 56-63, 1st\",\"lmsys_10000\",\"\"],[\"Layers 48-55, 75th\",\"lmsys_10000\",\"\"],[\"Layers 48-55, 50th\",\"lmsys_10000\",\"\"],[\"Layers 48-55, 25th\",\"lmsys_10000\",\"\"],[\"Layers 48-55, 1st\",\"lmsys_10000\",\"\"],[\"Layers 40-47, 75th\",\"lmsys_10000\",\"\"],[\"Layers 40-47, 50th\",\"lmsys_10000\",\"\"],[\"Layers 40-47, 25th\",\"lmsys_10000\",\"\"],[\"Layers 40-47, 1st\",\"lmsys_10000\",\"\"],[\"Layers 32-39, 75th\",\"lmsys_10000\",\"\"],[\"Layers 32-39, 50th\",\"lmsys_10000\",\"\"],[\"Layers 32-39, 25th\",\"lmsys_10000\",\"\"],[\"Layers 32-39, 1st\",\"lmsys_10000\",\"\"],[\"Layers 24-31, 75th\",\"lmsys_10000\",\"\"],[\"Layers 24-31, 50th\",\"lmsys_10000\",\"\"],[\"Layers 24-31, 25th\",\"lmsys_10000\",\"\"],[\"Layers 24-31, 1st\",\"lmsys_10000\",\"\"],[\"Layers 8-15, 75th\",\"lmsys_10000\",\"\"],[\"Layers 8-15, 50th\",\"lmsys_10000\",\"\"],[\"Layers 8-15, 25th\",\"lmsys_10000\",\"\"],[\"Layers 8-15, 1st\",\"lmsys_10000\",\"\"],[\"Layers 16-23, 75th\",\"lmsys_10000\",\"\"],[\"Layers 16-23, 50th\",\"lmsys_10000\",\"\"],[\"Layers 16-23, 25th\",\"lmsys_10000\",\"\"],[\"Layers 16-23, 1st\",\"lmsys_10000\",\"\"],[\"All Layers (0-63), 75th\",\"lmsys_10000\",\"\"],[\"All Layers (0-63), 50th\",\"lmsys_10000\",\"\"],[\"All Layers (0-63), 25th\",\"lmsys_10000\",\"\"],[\"All Layers (0-63), 1st\",\"lmsys_10000\",\"\"],[\"Layers 0-15, 75th\",\"lmsys_10000\",\"\"],[\"Layers 0-15, 50th\",\"lmsys_10000\",\"\"],[\"Layers 0-15, 25th\",\"lmsys_10000\",\"\"],[\"Layers 0-15, 1st\",\"lmsys_10000\",\"\"]],\"hovertemplate\":\"\\u003cb\\u003e%{customdata[0]}\\u003c\\u002fb\\u003e\\u003cbr\\u003eConfig: %{customdata[1]}\\u003cbr\\u003eEval Change: %{x:.1f}%\\u003cbr\\u003eHarm Change: %{y:.1f}%\\u003cbr\\u003e%{customdata[2]}\\u003cextra\\u003e\\u003c\\u002fextra\\u003e\",\"legendgroup\":\"lmsys_10000\",\"marker\":{\"color\":\"#9467bd\",\"opacity\":0.6,\"size\":8},\"mode\":\"markers\",\"name\":\"LMSYS-10K Rollouts\",\"showlegend\":true,\"x\":[-2.795698924731183,-1.9354838709677493,-4.086021505376343,-8.38709677419355,0.8602150537634339,-0.21505376344086308,-0.21505376344086308,-0.21505376344086308,1.9354838709677307,1.29032258064516,3.87096774193548,1.9354838709677307,1.505376344086023,1.505376344086023,3.2258064516128906,1.9354838709677307,2.795698924731183,1.7204301075268862,3.010752688172046,3.2258064516128906,1.505376344086023,0.6451612903225707,1.9354838709677307,1.9354838709677307,0.0,-0.43010752688172615,0.6451612903225707,0.6451612903225707,-6.881720430107525,-11.182795698924732,-12.688172043010756,-21.720430107526884,0.0,-0.6451612903225892,0.43010752688172615,0.21505376344086308],\"y\":[-8.490308490308484,-9.28143794385833,-11.11111111111111,-11.001911001911,-19.628719628719633,-26.332155631518688,-30.876330876330876,-44.85394485394485,-30.111930111930114,-33.715533715533724,-42.23314223314224,-63.308763308763304,-21.048321048321057,-25.962325962325966,-30.15763716400659,-49.877149877149876,-19.956319956319952,-25.088725088725084,-30.548730548730557,-41.46874146874147,-4.88670488670488,-9.90990990990991,-17.881517881517887,-26.83592683592683,-12.749112749112761,-19.51951951951952,-33.16953316953317,-47.474747474747474,-41.031941031941024,-54.57275457275457,-68.87796887796888,-88.86158886158884,-5.105105105105105,-9.691509691509685,-13.4043134043134,-26.289926289926285],\"type\":\"scatter\"},{\"hoverinfo\":\"skip\",\"line\":{\"color\":\"grey\",\"dash\":\"dash\",\"width\":1},\"mode\":\"lines\",\"name\":\"Pareto Frontier\",\"showlegend\":true,\"x\":[-0.43010752688172615,3.4408602150537537,4.301075268817206,4.946236559139776,5.16129032258064,5.591397849462366],\"y\":[-91.15479115479116,-89.1891891891892,-67.02156702156702,-53.37155337155337,-22.031122031122035,-4.1223041223041115],\"type\":\"scatter\"}],                        {\"template\":{\"data\":{\"histogram2dcontour\":[{\"type\":\"histogram2dcontour\",\"colorbar\":{\"outlinewidth\":0,\"ticks\":\"\"},\"colorscale\":[[0.0,\"#0d0887\"],[0.1111111111111111,\"#46039f\"],[0.2222222222222222,\"#7201a8\"],[0.3333333333333333,\"#9c179e\"],[0.4444444444444444,\"#bd3786\"],[0.5555555555555556,\"#d8576b\"],[0.6666666666666666,\"#ed7953\"],[0.7777777777777778,\"#fb9f3a\"],[0.8888888888888888,\"#fdca26\"],[1.0,\"#f0f921\"]]}],\"choropleth\":[{\"type\":\"choropleth\",\"colorbar\":{\"outlinewidth\":0,\"ticks\":\"\"}}],\"histogram2d\":[{\"type\":\"histogram2d\",\"colorbar\":{\"outlinewidth\":0,\"ticks\":\"\"},\"colorscale\":[[0.0,\"#0d0887\"],[0.1111111111111111,\"#46039f\"],[0.2222222222222222,\"#7201a8\"],[0.3333333333333333,\"#9c179e\"],[0.4444444444444444,\"#bd3786\"],[0.5555555555555556,\"#d8576b\"],[0.6666666666666666,\"#ed7953\"],[0.7777777777777778,\"#fb9f3a\"],[0.8888888888888888,\"#fdca26\"],[1.0,\"#f0f921\"]]}],\"heatmap\":[{\"type\":\"heatmap\",\"colorbar\":{\"outlinewidth\":0,\"ticks\":\"\"},\"colorscale\":[[0.0,\"#0d0887\"],[0.1111111111111111,\"#46039f\"],[0.2222222222222222,\"#7201a8\"],[0.3333333333333333,\"#9c179e\"],[0.4444444444444444,\"#bd3786\"],[0.5555555555555556,\"#d8576b\"],[0.6666666666666666,\"#ed7953\"],[0.7777777777777778,\"#fb9f3a\"],[0.8888888888888888,\"#fdca26\"],[1.0,\"#f0f921\"]]}],\"heatmapgl\":[{\"type\":\"heatmapgl\",\"colorbar\":{\"outlinewidth\":0,\"ticks\":\"\"},\"colorscale\":[[0.0,\"#0d0887\"],[0.1111111111111111,\"#46039f\"],[0.2222222222222222,\"#7201a8\"],[0.3333333333333333,\"#9c179e\"],[0.4444444444444444,\"#bd3786\"],[0.5555555555555556,\"#d8576b\"],[0.6666666666666666,\"#ed7953\"],[0.7777777777777778,\"#fb9f3a\"],[0.8888888888888888,\"#fdca26\"],[1.0,\"#f0f921\"]]}],\"contourcarpet\":[{\"type\":\"contourcarpet\",\"colorbar\":{\"outlinewidth\":0,\"ticks\":\"\"}}],\"contour\":[{\"type\":\"contour\",\"colorbar\":{\"outlinewidth\":0,\"ticks\":\"\"},\"colorscale\":[[0.0,\"#0d0887\"],[0.1111111111111111,\"#46039f\"],[0.2222222222222222,\"#7201a8\"],[0.3333333333333333,\"#9c179e\"],[0.4444444444444444,\"#bd3786\"],[0.5555555555555556,\"#d8576b\"],[0.6666666666666666,\"#ed7953\"],[0.7777777777777778,\"#fb9f3a\"],[0.8888888888888888,\"#fdca26\"],[1.0,\"#f0f921\"]]}],\"surface\":[{\"type\":\"surface\",\"colorbar\":{\"outlinewidth\":0,\"ticks\":\"\"},\"colorscale\":[[0.0,\"#0d0887\"],[0.1111111111111111,\"#46039f\"],[0.2222222222222222,\"#7201a8\"],[0.3333333333333333,\"#9c179e\"],[0.4444444444444444,\"#bd3786\"],[0.5555555555555556,\"#d8576b\"],[0.6666666666666666,\"#ed7953\"],[0.7777777777777778,\"#fb9f3a\"],[0.8888888888888888,\"#fdca26\"],[1.0,\"#f0f921\"]]}],\"mesh3d\":[{\"type\":\"mesh3d\",\"colorbar\":{\"outlinewidth\":0,\"ticks\":\"\"}}],\"scatter\":[{\"fillpattern\":{\"fillmode\":\"overlay\",\"size\":10,\"solidity\":0.2},\"type\":\"scatter\"}],\"parcoords\":[{\"type\":\"parcoords\",\"line\":{\"colorbar\":{\"outlinewidth\":0,\"ticks\":\"\"}}}],\"scatterpolargl\":[{\"type\":\"scatterpolargl\",\"marker\":{\"colorbar\":{\"outlinewidth\":0,\"ticks\":\"\"}}}],\"bar\":[{\"error_x\":{\"color\":\"#2a3f5f\"},\"error_y\":{\"color\":\"#2a3f5f\"},\"marker\":{\"line\":{\"color\":\"#E5ECF6\",\"width\":0.5},\"pattern\":{\"fillmode\":\"overlay\",\"size\":10,\"solidity\":0.2}},\"type\":\"bar\"}],\"scattergeo\":[{\"type\":\"scattergeo\",\"marker\":{\"colorbar\":{\"outlinewidth\":0,\"ticks\":\"\"}}}],\"scatterpolar\":[{\"type\":\"scatterpolar\",\"marker\":{\"colorbar\":{\"outlinewidth\":0,\"ticks\":\"\"}}}],\"histogram\":[{\"marker\":{\"pattern\":{\"fillmode\":\"overlay\",\"size\":10,\"solidity\":0.2}},\"type\":\"histogram\"}],\"scattergl\":[{\"type\":\"scattergl\",\"marker\":{\"colorbar\":{\"outlinewidth\":0,\"ticks\":\"\"}}}],\"scatter3d\":[{\"type\":\"scatter3d\",\"line\":{\"colorbar\":{\"outlinewidth\":0,\"ticks\":\"\"}},\"marker\":{\"colorbar\":{\"outlinewidth\":0,\"ticks\":\"\"}}}],\"scattermapbox\":[{\"type\":\"scattermapbox\",\"marker\":{\"colorbar\":{\"outlinewidth\":0,\"ticks\":\"\"}}}],\"scatterternary\":[{\"type\":\"scatterternary\",\"marker\":{\"colorbar\":{\"outlinewidth\":0,\"ticks\":\"\"}}}],\"scattercarpet\":[{\"type\":\"scattercarpet\",\"marker\":{\"colorbar\":{\"outlinewidth\":0,\"ticks\":\"\"}}}],\"carpet\":[{\"aaxis\":{\"endlinecolor\":\"#2a3f5f\",\"gridcolor\":\"white\",\"linecolor\":\"white\",\"minorgridcolor\":\"white\",\"startlinecolor\":\"#2a3f5f\"},\"baxis\":{\"endlinecolor\":\"#2a3f5f\",\"gridcolor\":\"white\",\"linecolor\":\"white\",\"minorgridcolor\":\"white\",\"startlinecolor\":\"#2a3f5f\"},\"type\":\"carpet\"}],\"table\":[{\"cells\":{\"fill\":{\"color\":\"#EBF0F8\"},\"line\":{\"color\":\"white\"}},\"header\":{\"fill\":{\"color\":\"#C8D4E3\"},\"line\":{\"color\":\"white\"}},\"type\":\"table\"}],\"barpolar\":[{\"marker\":{\"line\":{\"color\":\"#E5ECF6\",\"width\":0.5},\"pattern\":{\"fillmode\":\"overlay\",\"size\":10,\"solidity\":0.2}},\"type\":\"barpolar\"}],\"pie\":[{\"automargin\":true,\"type\":\"pie\"}]},\"layout\":{\"autotypenumbers\":\"strict\",\"colorway\":[\"#636efa\",\"#EF553B\",\"#00cc96\",\"#ab63fa\",\"#FFA15A\",\"#19d3f3\",\"#FF6692\",\"#B6E880\",\"#FF97FF\",\"#FECB52\"],\"font\":{\"color\":\"#2a3f5f\"},\"hovermode\":\"closest\",\"hoverlabel\":{\"align\":\"left\"},\"paper_bgcolor\":\"white\",\"plot_bgcolor\":\"#E5ECF6\",\"polar\":{\"bgcolor\":\"#E5ECF6\",\"angularaxis\":{\"gridcolor\":\"white\",\"linecolor\":\"white\",\"ticks\":\"\"},\"radialaxis\":{\"gridcolor\":\"white\",\"linecolor\":\"white\",\"ticks\":\"\"}},\"ternary\":{\"bgcolor\":\"#E5ECF6\",\"aaxis\":{\"gridcolor\":\"white\",\"linecolor\":\"white\",\"ticks\":\"\"},\"baxis\":{\"gridcolor\":\"white\",\"linecolor\":\"white\",\"ticks\":\"\"},\"caxis\":{\"gridcolor\":\"white\",\"linecolor\":\"white\",\"ticks\":\"\"}},\"coloraxis\":{\"colorbar\":{\"outlinewidth\":0,\"ticks\":\"\"}},\"colorscale\":{\"sequential\":[[0.0,\"#0d0887\"],[0.1111111111111111,\"#46039f\"],[0.2222222222222222,\"#7201a8\"],[0.3333333333333333,\"#9c179e\"],[0.4444444444444444,\"#bd3786\"],[0.5555555555555556,\"#d8576b\"],[0.6666666666666666,\"#ed7953\"],[0.7777777777777778,\"#fb9f3a\"],[0.8888888888888888,\"#fdca26\"],[1.0,\"#f0f921\"]],\"sequentialminus\":[[0.0,\"#0d0887\"],[0.1111111111111111,\"#46039f\"],[0.2222222222222222,\"#7201a8\"],[0.3333333333333333,\"#9c179e\"],[0.4444444444444444,\"#bd3786\"],[0.5555555555555556,\"#d8576b\"],[0.6666666666666666,\"#ed7953\"],[0.7777777777777778,\"#fb9f3a\"],[0.8888888888888888,\"#fdca26\"],[1.0,\"#f0f921\"]],\"diverging\":[[0,\"#8e0152\"],[0.1,\"#c51b7d\"],[0.2,\"#de77ae\"],[0.3,\"#f1b6da\"],[0.4,\"#fde0ef\"],[0.5,\"#f7f7f7\"],[0.6,\"#e6f5d0\"],[0.7,\"#b8e186\"],[0.8,\"#7fbc41\"],[0.9,\"#4d9221\"],[1,\"#276419\"]]},\"xaxis\":{\"gridcolor\":\"white\",\"linecolor\":\"white\",\"ticks\":\"\",\"title\":{\"standoff\":15},\"zerolinecolor\":\"white\",\"automargin\":true,\"zerolinewidth\":2},\"yaxis\":{\"gridcolor\":\"white\",\"linecolor\":\"white\",\"ticks\":\"\",\"title\":{\"standoff\":15},\"zerolinecolor\":\"white\",\"automargin\":true,\"zerolinewidth\":2},\"scene\":{\"xaxis\":{\"backgroundcolor\":\"#E5ECF6\",\"gridcolor\":\"white\",\"linecolor\":\"white\",\"showbackground\":true,\"ticks\":\"\",\"zerolinecolor\":\"white\",\"gridwidth\":2},\"yaxis\":{\"backgroundcolor\":\"#E5ECF6\",\"gridcolor\":\"white\",\"linecolor\":\"white\",\"showbackground\":true,\"ticks\":\"\",\"zerolinecolor\":\"white\",\"gridwidth\":2},\"zaxis\":{\"backgroundcolor\":\"#E5ECF6\",\"gridcolor\":\"white\",\"linecolor\":\"white\",\"showbackground\":true,\"ticks\":\"\",\"zerolinecolor\":\"white\",\"gridwidth\":2}},\"shapedefaults\":{\"line\":{\"color\":\"#2a3f5f\"}},\"annotationdefaults\":{\"arrowcolor\":\"#2a3f5f\",\"arrowhead\":0,\"arrowwidth\":1},\"geo\":{\"bgcolor\":\"white\",\"landcolor\":\"#E5ECF6\",\"subunitcolor\":\"white\",\"showland\":true,\"showlakes\":true,\"lakecolor\":\"white\"},\"title\":{\"x\":0.05},\"mapbox\":{\"style\":\"light\"}}},\"annotations\":[{\"align\":\"left\",\"font\":{\"color\":\"#ff7f0e\",\"size\":9},\"showarrow\":false,\"text\":\"Layers 56-63, 75th %ile\",\"x\":5.591397849462366,\"xanchor\":\"left\",\"xshift\":10,\"y\":-4.1223041223041115,\"yanchor\":\"middle\"},{\"align\":\"left\",\"font\":{\"color\":\"#ff7f0e\",\"size\":9},\"showarrow\":false,\"text\":\"All Layers (0-63), 25th %ile\",\"x\":4.301075268817206,\"xanchor\":\"left\",\"xshift\":10,\"y\":-67.02156702156702,\"yanchor\":\"middle\"},{\"align\":\"left\",\"font\":{\"color\":\"#ff7f0e\",\"size\":9},\"showarrow\":false,\"text\":\"All Layers (0-63), 1st %ile\",\"x\":-0.43010752688172615,\"xanchor\":\"left\",\"xshift\":10,\"y\":-91.15479115479116,\"yanchor\":\"middle\"},{\"align\":\"left\",\"font\":{\"color\":\"#d62728\",\"size\":9},\"showarrow\":false,\"text\":\"Every 2nd Layer, Safe 99th %ile\",\"x\":3.4408602150537537,\"xanchor\":\"left\",\"xshift\":10,\"y\":-89.1891891891892,\"yanchor\":\"middle\"},{\"align\":\"left\",\"font\":{\"color\":\"#d62728\",\"size\":9},\"showarrow\":false,\"text\":\"Every 2nd Layer, Harm 75th %ile\",\"x\":5.16129032258064,\"xanchor\":\"left\",\"xshift\":10,\"y\":-22.031122031122035,\"yanchor\":\"middle\"},{\"align\":\"left\",\"font\":{\"color\":\"#d62728\",\"size\":9},\"showarrow\":false,\"text\":\"Every 2nd Layer, Harm 99th %ile\",\"x\":4.946236559139776,\"xanchor\":\"left\",\"xshift\":10,\"y\":-53.37155337155337,\"yanchor\":\"middle\"},{\"font\":{\"color\":\"green\",\"size\":10},\"showarrow\":false,\"text\":\"\\u003cb\\u003eIdeal\\u003c\\u002fb\\u003e\\u003cbr\\u003eUnchanged eval\\u003cbr\\u003eReduced harm\",\"x\":5.03225806451613,\"y\":-82.03931203931204},{\"font\":{\"color\":\"red\",\"size\":10},\"showarrow\":false,\"text\":\"\\u003cb\\u003eWorst\\u003c\\u002fb\\u003e\\u003cbr\\u003eWorse eval\\u003cbr\\u003eUnchanged harm\",\"x\":-19.548387096774196,\"y\":-3.21867321867321}],\"shapes\":[{\"line\":{\"color\":\"gray\",\"dash\":\"dot\",\"width\":1},\"opacity\":0.5,\"type\":\"line\",\"x0\":0,\"x1\":1,\"xref\":\"x domain\",\"y0\":0,\"y1\":0,\"yref\":\"y\"},{\"line\":{\"color\":\"gray\",\"dash\":\"dot\",\"width\":1},\"opacity\":0.5,\"type\":\"line\",\"x0\":0,\"x1\":0,\"xref\":\"x\",\"y0\":0,\"y1\":1,\"yref\":\"y domain\"}],\"title\":{\"subtitle\":{\"text\":\"Qwen 3 32B, Single-Shot & No Thinking\"},\"text\":\"Pareto Frontier: IFEval Instruction-level Accuracy vs. Harmful Response Rate\"},\"xaxis\":{\"title\":{\"text\":\"Eval Performance Change (%)\"},\"zeroline\":true,\"showgrid\":true,\"gridcolor\":\"lightgray\"},\"yaxis\":{\"title\":{\"text\":\"Harmful Response Rate Reduced (%)\"},\"zeroline\":true,\"showgrid\":true,\"gridcolor\":\"lightgray\"},\"legend\":{\"orientation\":\"v\",\"yanchor\":\"top\",\"y\":1,\"xanchor\":\"left\",\"x\":1.02},\"width\":1000,\"height\":700,\"hovermode\":\"closest\"},                        {\"responsive\": true}                    ).then(function(){\n",
       "                            \n",
       "var gd = document.getElementById('41a8ceaa-1bf8-4539-8f87-469f8aa97e7a');\n",
       "var x = new MutationObserver(function (mutations, observer) {{\n",
       "        var display = window.getComputedStyle(gd).display;\n",
       "        if (!display || display === 'none') {{\n",
       "            console.log([gd, 'removed!']);\n",
       "            Plotly.purge(gd);\n",
       "            observer.disconnect();\n",
       "        }}\n",
       "}});\n",
       "\n",
       "// Listen for the removal of the full notebook cells\n",
       "var notebookContainer = gd.closest('#notebook-container');\n",
       "if (notebookContainer) {{\n",
       "    x.observe(notebookContainer, {childList: true});\n",
       "}}\n",
       "\n",
       "// Listen for the clearing of the current output cell\n",
       "var outputEl = gd.closest('.output');\n",
       "if (outputEl) {{\n",
       "    x.observe(outputEl, {childList: true});\n",
       "}}\n",
       "\n",
       "                        })                };                });            </script>        </div>"
      ]
     },
     "metadata": {},
     "output_type": "display_data"
    }
   ],
   "source": [
    "# Plot IFEval Pareto frontier\n",
    "if len(df_ifeval_pareto) > 0:\n",
    "    fig_ifeval = plot_pareto_frontier(\n",
    "        df_ifeval_pareto,\n",
    "        'ifeval',\n",
    "        EVAL_METRICS['ifeval']['display_name'],\n",
    "        subtitle=subtitle\n",
    "    )\n",
    "    fig_ifeval.show()\n",
    "    fig_ifeval.write_html(f\"{out_dir}/ifeval.html\")\n",
    "else:\n",
    "    print(\"No data available for IFEval Pareto plot\")"
   ]
  },
  {
   "cell_type": "markdown",
   "id": "mmlu-section",
   "metadata": {},
   "source": [
    "### MMLU Pro vs Jailbreak Harm"
   ]
  },
  {
   "cell_type": "code",
   "execution_count": 20,
   "id": "mmlu-pareto",
   "metadata": {},
   "outputs": [
    {
     "name": "stdout",
     "output_type": "stream",
     "text": [
      "Loaded 137 MMLU Pro experiment runs\n",
      "\n",
      "Config breakdown:\n",
      "  baseline: 5 runs\n",
      "  role_trait: 72 runs\n",
      "  jailbreak: 16 runs\n",
      "  lmsys_10000: 44 runs\n"
     ]
    }
   ],
   "source": [
    "# Load MMLU Pro data\n",
    "df_mmlu = load_experiment_data(['mmlu_pro'], config_names, base_dir)\n",
    "print(f\"Loaded {len(df_mmlu)} MMLU Pro experiment runs\")\n",
    "print(f\"\\nConfig breakdown:\")\n",
    "for config in df_mmlu['config_name'].unique():\n",
    "    print(f\"  {config}: {len(df_mmlu[df_mmlu['config_name'] == config])} runs\")"
   ]
  },
  {
   "cell_type": "code",
   "execution_count": 21,
   "id": "ups7tt95m0j",
   "metadata": {},
   "outputs": [
    {
     "name": "stdout",
     "output_type": "stream",
     "text": [
      "After filtering: 61 runs\n",
      "  baseline: 1 runs\n",
      "  role_trait: 36 runs\n",
      "  jailbreak: 16 runs\n",
      "  lmsys_10000: 8 runs\n",
      "Baseline MMLU Pro value: 0.6750\n"
     ]
    }
   ],
   "source": [
    "# Filter MMLU Pro data\n",
    "df_mmlu_filtered = df_mmlu[\n",
    "    ((df_mmlu['config_name'] == 'baseline') & \n",
    "     (~df_mmlu['thinking']) & \n",
    "     (df_mmlu['apply_chat_template']) & (~df_mmlu['vllm'])) |\n",
    "    ((df_mmlu['config_name'] != 'baseline') & \n",
    "     (~df_mmlu['thinking']) & \n",
    "     (df_mmlu['apply_chat_template']) & (~df_mmlu['vllm']))\n",
    "]\n",
    "\n",
    "print(f\"After filtering: {len(df_mmlu_filtered)} runs\")\n",
    "for config in df_mmlu['config_name'].unique():\n",
    "    print(f\"  {config}: {len(df_mmlu_filtered[df_mmlu_filtered['config_name'] == config])} runs\")\n",
    "\n",
    "# Get baseline value\n",
    "metric_col = EVAL_METRICS['mmlu_pro']['metric']\n",
    "baseline_mmlu = df_mmlu_filtered[df_mmlu_filtered['config_name'] == 'baseline']\n",
    "if len(baseline_mmlu) > 0:\n",
    "    baseline_mmlu_value = baseline_mmlu[metric_col].iloc[0]\n",
    "    print(f\"Baseline MMLU Pro value: {baseline_mmlu_value:.4f}\")\n",
    "else:\n",
    "    print(\"Warning: No baseline found!\")\n",
    "    baseline_mmlu_value = None"
   ]
  },
  {
   "cell_type": "code",
   "execution_count": 22,
   "id": "f96n2wqulst",
   "metadata": {},
   "outputs": [
    {
     "name": "stdout",
     "output_type": "stream",
     "text": [
      "\n",
      "MMLU_PRO:\n",
      "Baseline eval value: 0.6750\n",
      "Baseline harm rate: 83.25%\n",
      "Loaded 36 experiments for role_trait\n",
      "Loaded 16 experiments for jailbreak\n",
      "Loaded 8 experiments for lmsys_10000\n",
      "\n",
      "Total experiments: 60\n",
      "Pareto-optimal points: 12\n"
     ]
    }
   ],
   "source": [
    "# Prepare Pareto data for MMLU Pro\n",
    "if baseline_mmlu_value is not None:\n",
    "    df_mmlu_pareto = prepare_pareto_data(\n",
    "        df_mmlu_filtered,\n",
    "        jailbreak_data,\n",
    "        'mmlu_pro',\n",
    "        baseline_mmlu_value,\n",
    "        baseline_harm\n",
    "    )\n",
    "else:\n",
    "    df_mmlu_pareto = pd.DataFrame()\n",
    "    print(\"Skipping Pareto analysis due to missing baseline\")"
   ]
  },
  {
   "cell_type": "code",
   "execution_count": 23,
   "id": "w5d09z972nh",
   "metadata": {},
   "outputs": [
    {
     "data": {
      "application/vnd.plotly.v1+json": {
       "config": {
        "plotlyServerURL": "https://plot.ly"
       },
       "data": [
        {
         "customdata": [
          [
           "Every 4th Layer, Safe 50th",
           "jailbreak",
           "<b>PARETO OPTIMAL</b>"
          ],
          [
           "Every 4th Layer, Safe 99th",
           "jailbreak",
           "<b>PARETO OPTIMAL</b>"
          ],
          [
           "Every 4th Layer, Harm 75th",
           "jailbreak",
           ""
          ],
          [
           "Every 4th Layer, Harm 99th",
           "jailbreak",
           ""
          ],
          [
           "Layers 32-63, Safe 50th",
           "jailbreak",
           ""
          ],
          [
           "Layers 32-63, Safe 99th",
           "jailbreak",
           "<b>PARETO OPTIMAL</b>"
          ],
          [
           "Layers 32-63, Harm 75th",
           "jailbreak",
           ""
          ],
          [
           "Layers 32-63, Harm 99th",
           "jailbreak",
           ""
          ],
          [
           "Every 2nd Layer, Safe 50th",
           "jailbreak",
           "<b>PARETO OPTIMAL</b>"
          ],
          [
           "Every 2nd Layer, Safe 99th",
           "jailbreak",
           "<b>PARETO OPTIMAL</b>"
          ],
          [
           "Every 2nd Layer, Harm 75th",
           "jailbreak",
           ""
          ],
          [
           "Every 2nd Layer, Harm 99th",
           "jailbreak",
           "<b>PARETO OPTIMAL</b>"
          ],
          [
           "All Layers (0-63), Safe 50th",
           "jailbreak",
           "<b>PARETO OPTIMAL</b>"
          ],
          [
           "All Layers (0-63), Safe 99th",
           "jailbreak",
           "<b>PARETO OPTIMAL</b>"
          ],
          [
           "All Layers (0-63), Harm 75th",
           "jailbreak",
           ""
          ],
          [
           "All Layers (0-63), Harm 99th",
           "jailbreak",
           ""
          ]
         ],
         "hovertemplate": "<b>%{customdata[0]}</b><br>Config: %{customdata[1]}<br>Eval Change: %{x:.1f}%<br>Harm Change: %{y:.1f}%<br>%{customdata[2]}<extra></extra>",
         "legendgroup": "jailbreak",
         "marker": {
          "color": "#d62728",
          "opacity": 0.6,
          "size": 8
         },
         "mode": "markers",
         "name": "Jailbreak Rollouts",
         "showlegend": true,
         "type": "scatter",
         "x": [
          -3.0687830687830804,
          -8.994708994708995,
          1.2698412698412684,
          -0.7407407407407414,
          -4.973544973544975,
          -7.301587301587315,
          -0.1058201058201153,
          -2.01058201058201,
          -3.703703703703707,
          -9.417989417989423,
          0.8465608465608402,
          -1.3756613756613838,
          -5.820105820105832,
          -12.592592592592602,
          -2.222222222222224,
          -3.492063492063493
         ],
         "y": [
          -61.45236145236145,
          -85.14878514878515,
          -21.703521703521698,
          -51.95195195195195,
          -61.99836199836201,
          -79.36117936117935,
          -24.1059241059241,
          -47.365547365547364,
          -65.16516516516516,
          -89.1891891891892,
          -22.031122031122035,
          -53.37155337155337,
          -70.4067704067704,
          -89.73518973518973,
          -28.36472836472837,
          -53.153153153153156
         ]
        },
        {
         "customdata": [
          [
           "Layers 56-63, 75th",
           "role_trait",
           ""
          ],
          [
           "Layers 56-63, 50th",
           "role_trait",
           ""
          ],
          [
           "Layers 56-63, 25th",
           "role_trait",
           ""
          ],
          [
           "Layers 56-63, 1st",
           "role_trait",
           ""
          ],
          [
           "Layers 48-55, 75th",
           "role_trait",
           ""
          ],
          [
           "Layers 48-55, 50th",
           "role_trait",
           ""
          ],
          [
           "Layers 48-55, 25th",
           "role_trait",
           ""
          ],
          [
           "Layers 48-55, 1st",
           "role_trait",
           "<b>PARETO OPTIMAL</b>"
          ],
          [
           "Layers 32-39, 75th",
           "role_trait",
           ""
          ],
          [
           "Layers 32-39, 50th",
           "role_trait",
           ""
          ],
          [
           "Layers 32-39, 25th",
           "role_trait",
           ""
          ],
          [
           "Layers 32-39, 1st",
           "role_trait",
           "<b>PARETO OPTIMAL</b>"
          ],
          [
           "Layers 24-31, 75th",
           "role_trait",
           ""
          ],
          [
           "Layers 24-31, 50th",
           "role_trait",
           ""
          ],
          [
           "Layers 24-31, 25th",
           "role_trait",
           ""
          ],
          [
           "Layers 24-31, 1st",
           "role_trait",
           ""
          ],
          [
           "Layers 40-47, 75th",
           "role_trait",
           ""
          ],
          [
           "Layers 40-47, 50th",
           "role_trait",
           ""
          ],
          [
           "Layers 40-47, 25th",
           "role_trait",
           ""
          ],
          [
           "Layers 40-47, 1st",
           "role_trait",
           ""
          ],
          [
           "Layers 8-15, 75th",
           "role_trait",
           ""
          ],
          [
           "Layers 8-15, 50th",
           "role_trait",
           ""
          ],
          [
           "Layers 8-15, 25th",
           "role_trait",
           ""
          ],
          [
           "Layers 8-15, 1st",
           "role_trait",
           ""
          ],
          [
           "Layers 16-23, 75th",
           "role_trait",
           ""
          ],
          [
           "Layers 16-23, 50th",
           "role_trait",
           ""
          ],
          [
           "Layers 16-23, 25th",
           "role_trait",
           ""
          ],
          [
           "Layers 16-23, 1st",
           "role_trait",
           ""
          ],
          [
           "All Layers (0-63), 75th",
           "role_trait",
           ""
          ],
          [
           "All Layers (0-63), 50th",
           "role_trait",
           ""
          ],
          [
           "All Layers (0-63), 25th",
           "role_trait",
           "<b>PARETO OPTIMAL</b>"
          ],
          [
           "All Layers (0-63), 1st",
           "role_trait",
           "<b>PARETO OPTIMAL</b>"
          ],
          [
           "Layers 0-15, 75th",
           "role_trait",
           ""
          ],
          [
           "Layers 0-15, 50th",
           "role_trait",
           ""
          ],
          [
           "Layers 0-15, 25th",
           "role_trait",
           ""
          ],
          [
           "Layers 0-15, 1st",
           "role_trait",
           ""
          ]
         ],
         "hovertemplate": "<b>%{customdata[0]}</b><br>Config: %{customdata[1]}<br>Eval Change: %{x:.1f}%<br>Harm Change: %{y:.1f}%<br>%{customdata[2]}<extra></extra>",
         "legendgroup": "role_trait",
         "marker": {
          "color": "#ff7f0e",
          "opacity": 0.6,
          "size": 8
         },
         "mode": "markers",
         "name": "Role/Trait Rollouts",
         "showlegend": true,
         "type": "scatter",
         "x": [
          0.21164021164019772,
          -0.9523809523809555,
          0.7407407407407414,
          -1.5873015873015979,
          -0.6349206349206424,
          -3.0687830687830804,
          -1.2698412698412684,
          1.4814814814814827,
          -1.2698412698412684,
          0.21164021164019772,
          0.9523809523809391,
          -2.751322751322751,
          -2.751322751322751,
          -3.0687830687830804,
          -4.02116402116402,
          -2.9629629629629655,
          -0.7407407407407414,
          -2.8571428571428665,
          -2.222222222222224,
          -7.1957671957672,
          0.6349206349206261,
          -1.3756613756613838,
          -0.6349206349206424,
          -4.761904761904761,
          0.31746031746031306,
          -0.42328042328042836,
          -4.126984126984135,
          -7.830687830687842,
          -1.4814814814814827,
          -4.656084656084662,
          -5.079365079365091,
          -14.074074074074087,
          -0.42328042328042836,
          -0.3174603174603295,
          -3.492063492063493,
          -7.0899470899471
         ],
         "y": [
          -4.1223041223041115,
          -5.2143052143052175,
          -4.340704340704336,
          -5.978705978705986,
          -6.087906087906082,
          -21.048321048321057,
          -33.38793338793339,
          -52.27955227955228,
          -17.117117117117118,
          -26.83592683592683,
          -36.663936663936674,
          -55.99235599235599,
          -15.806715806715804,
          -24.1059241059241,
          -32.514332514332516,
          -44.417144417144414,
          -21.594321594321602,
          -38.3019383019383,
          -48.45754845754846,
          -70.2975702975703,
          -3.576303576303567,
          -5.541905541905537,
          -12.749112749112761,
          -23.34152334152334,
          -5.869505869505857,
          -17.881517881517887,
          -28.255528255528255,
          -48.894348894348894,
          -21.48512148512147,
          -47.037947037947035,
          -67.02156702156702,
          -91.15479115479116,
          -3.6855036855036967,
          -8.27190827190826,
          -13.076713076713082,
          -24.97952497952498
         ]
        },
        {
         "customdata": [
          [
           "Layers 16-23, 75th",
           "lmsys_10000",
           ""
          ],
          [
           "Layers 16-23, 50th",
           "lmsys_10000",
           ""
          ],
          [
           "Layers 16-23, 25th",
           "lmsys_10000",
           ""
          ],
          [
           "Layers 16-23, 1st",
           "lmsys_10000",
           ""
          ],
          [
           "All Layers (0-63), 75th",
           "lmsys_10000",
           ""
          ],
          [
           "All Layers (0-63), 50th",
           "lmsys_10000",
           ""
          ],
          [
           "All Layers (0-63), 25th",
           "lmsys_10000",
           ""
          ],
          [
           "All Layers (0-63), 1st",
           "lmsys_10000",
           ""
          ]
         ],
         "hovertemplate": "<b>%{customdata[0]}</b><br>Config: %{customdata[1]}<br>Eval Change: %{x:.1f}%<br>Harm Change: %{y:.1f}%<br>%{customdata[2]}<extra></extra>",
         "legendgroup": "lmsys_10000",
         "marker": {
          "color": "#9467bd",
          "opacity": 0.6,
          "size": 8
         },
         "mode": "markers",
         "name": "LMSYS-10K Rollouts",
         "showlegend": true,
         "type": "scatter",
         "x": [
          -0.42328042328042836,
          -0.9523809523809555,
          -4.338624338624349,
          -5.925925925925931,
          -2.116402116402125,
          -4.126984126984135,
          -6.4550264550264576,
          -13.22751322751323
         ],
         "y": [
          -12.749112749112761,
          -19.51951951951952,
          -33.16953316953317,
          -47.474747474747474,
          -41.031941031941024,
          -54.57275457275457,
          -68.87796887796888,
          -88.86158886158884
         ]
        },
        {
         "hoverinfo": "skip",
         "line": {
          "color": "grey",
          "dash": "dash",
          "width": 1
         },
         "mode": "lines",
         "name": "Pareto Frontier",
         "showlegend": true,
         "type": "scatter",
         "x": [
          -14.074074074074087,
          -12.592592592592602,
          -9.417989417989423,
          -8.994708994708995,
          -7.301587301587315,
          -5.820105820105832,
          -5.079365079365091,
          -3.703703703703707,
          -3.0687830687830804,
          -2.751322751322751,
          -1.3756613756613838,
          1.4814814814814827
         ],
         "y": [
          -91.15479115479116,
          -89.73518973518973,
          -89.1891891891892,
          -85.14878514878515,
          -79.36117936117935,
          -70.4067704067704,
          -67.02156702156702,
          -65.16516516516516,
          -61.45236145236145,
          -55.99235599235599,
          -53.37155337155337,
          -52.27955227955228
         ]
        }
       ],
       "layout": {
        "annotations": [
         {
          "align": "left",
          "font": {
           "color": "#ff7f0e",
           "size": 9
          },
          "showarrow": false,
          "text": "Layers 48-55, 1st %ile",
          "x": 1.4814814814814827,
          "xanchor": "left",
          "xshift": 10,
          "y": -52.27955227955228,
          "yanchor": "middle"
         },
         {
          "align": "left",
          "font": {
           "color": "#ff7f0e",
           "size": 9
          },
          "showarrow": false,
          "text": "Layers 32-39, 1st %ile",
          "x": -2.751322751322751,
          "xanchor": "left",
          "xshift": 10,
          "y": -55.99235599235599,
          "yanchor": "middle"
         },
         {
          "align": "left",
          "font": {
           "color": "#ff7f0e",
           "size": 9
          },
          "showarrow": false,
          "text": "All Layers (0-63), 25th %ile",
          "x": -5.079365079365091,
          "xanchor": "left",
          "xshift": 10,
          "y": -67.02156702156702,
          "yanchor": "middle"
         },
         {
          "align": "left",
          "font": {
           "color": "#ff7f0e",
           "size": 9
          },
          "showarrow": false,
          "text": "All Layers (0-63), 1st %ile",
          "x": -14.074074074074087,
          "xanchor": "left",
          "xshift": 10,
          "y": -91.15479115479116,
          "yanchor": "middle"
         },
         {
          "align": "left",
          "font": {
           "color": "#d62728",
           "size": 9
          },
          "showarrow": false,
          "text": "Every 4th Layer, Safe 50th %ile",
          "x": -3.0687830687830804,
          "xanchor": "left",
          "xshift": 10,
          "y": -61.45236145236145,
          "yanchor": "middle"
         },
         {
          "align": "left",
          "font": {
           "color": "#d62728",
           "size": 9
          },
          "showarrow": false,
          "text": "Every 4th Layer, Safe 99th %ile",
          "x": -8.994708994708995,
          "xanchor": "left",
          "xshift": 10,
          "y": -85.14878514878515,
          "yanchor": "middle"
         },
         {
          "align": "left",
          "font": {
           "color": "#d62728",
           "size": 9
          },
          "showarrow": false,
          "text": "Layers 32-63, Safe 99th %ile",
          "x": -7.301587301587315,
          "xanchor": "left",
          "xshift": 10,
          "y": -79.36117936117935,
          "yanchor": "middle"
         },
         {
          "align": "left",
          "font": {
           "color": "#d62728",
           "size": 9
          },
          "showarrow": false,
          "text": "Every 2nd Layer, Safe 50th %ile",
          "x": -3.703703703703707,
          "xanchor": "left",
          "xshift": 10,
          "y": -65.16516516516516,
          "yanchor": "middle"
         },
         {
          "align": "left",
          "font": {
           "color": "#d62728",
           "size": 9
          },
          "showarrow": false,
          "text": "Every 2nd Layer, Safe 99th %ile",
          "x": -9.417989417989423,
          "xanchor": "left",
          "xshift": 10,
          "y": -89.1891891891892,
          "yanchor": "middle"
         },
         {
          "align": "left",
          "font": {
           "color": "#d62728",
           "size": 9
          },
          "showarrow": false,
          "text": "Every 2nd Layer, Harm 99th %ile",
          "x": -1.3756613756613838,
          "xanchor": "left",
          "xshift": 10,
          "y": -53.37155337155337,
          "yanchor": "middle"
         },
         {
          "align": "left",
          "font": {
           "color": "#d62728",
           "size": 9
          },
          "showarrow": false,
          "text": "All Layers (0-63), Safe 50th %ile",
          "x": -5.820105820105832,
          "xanchor": "left",
          "xshift": 10,
          "y": -70.4067704067704,
          "yanchor": "middle"
         },
         {
          "align": "left",
          "font": {
           "color": "#d62728",
           "size": 9
          },
          "showarrow": false,
          "text": "All Layers (0-63), Safe 99th %ile",
          "x": -12.592592592592602,
          "xanchor": "left",
          "xshift": 10,
          "y": -89.73518973518973,
          "yanchor": "middle"
         },
         {
          "font": {
           "color": "green",
           "size": 10
          },
          "showarrow": false,
          "text": "<b>Ideal</b><br>Unchanged eval<br>Reduced harm",
          "x": 1.3333333333333346,
          "y": -82.03931203931204
         },
         {
          "font": {
           "color": "red",
           "size": 10
          },
          "showarrow": false,
          "text": "<b>Worst</b><br>Worse eval<br>Unchanged harm",
          "x": -12.666666666666679,
          "y": -3.21867321867321
         }
        ],
        "height": 700,
        "hovermode": "closest",
        "legend": {
         "orientation": "v",
         "x": 1.02,
         "xanchor": "left",
         "y": 1,
         "yanchor": "top"
        },
        "shapes": [
         {
          "line": {
           "color": "gray",
           "dash": "dot",
           "width": 1
          },
          "opacity": 0.5,
          "type": "line",
          "x0": 0,
          "x1": 1,
          "xref": "x domain",
          "y0": 0,
          "y1": 0,
          "yref": "y"
         },
         {
          "line": {
           "color": "gray",
           "dash": "dot",
           "width": 1
          },
          "opacity": 0.5,
          "type": "line",
          "x0": 0,
          "x1": 0,
          "xref": "x",
          "y0": 0,
          "y1": 1,
          "yref": "y domain"
         }
        ],
        "template": {
         "data": {
          "bar": [
           {
            "error_x": {
             "color": "#2a3f5f"
            },
            "error_y": {
             "color": "#2a3f5f"
            },
            "marker": {
             "line": {
              "color": "#E5ECF6",
              "width": 0.5
             },
             "pattern": {
              "fillmode": "overlay",
              "size": 10,
              "solidity": 0.2
             }
            },
            "type": "bar"
           }
          ],
          "barpolar": [
           {
            "marker": {
             "line": {
              "color": "#E5ECF6",
              "width": 0.5
             },
             "pattern": {
              "fillmode": "overlay",
              "size": 10,
              "solidity": 0.2
             }
            },
            "type": "barpolar"
           }
          ],
          "carpet": [
           {
            "aaxis": {
             "endlinecolor": "#2a3f5f",
             "gridcolor": "white",
             "linecolor": "white",
             "minorgridcolor": "white",
             "startlinecolor": "#2a3f5f"
            },
            "baxis": {
             "endlinecolor": "#2a3f5f",
             "gridcolor": "white",
             "linecolor": "white",
             "minorgridcolor": "white",
             "startlinecolor": "#2a3f5f"
            },
            "type": "carpet"
           }
          ],
          "choropleth": [
           {
            "colorbar": {
             "outlinewidth": 0,
             "ticks": ""
            },
            "type": "choropleth"
           }
          ],
          "contour": [
           {
            "colorbar": {
             "outlinewidth": 0,
             "ticks": ""
            },
            "colorscale": [
             [
              0,
              "#0d0887"
             ],
             [
              0.1111111111111111,
              "#46039f"
             ],
             [
              0.2222222222222222,
              "#7201a8"
             ],
             [
              0.3333333333333333,
              "#9c179e"
             ],
             [
              0.4444444444444444,
              "#bd3786"
             ],
             [
              0.5555555555555556,
              "#d8576b"
             ],
             [
              0.6666666666666666,
              "#ed7953"
             ],
             [
              0.7777777777777778,
              "#fb9f3a"
             ],
             [
              0.8888888888888888,
              "#fdca26"
             ],
             [
              1,
              "#f0f921"
             ]
            ],
            "type": "contour"
           }
          ],
          "contourcarpet": [
           {
            "colorbar": {
             "outlinewidth": 0,
             "ticks": ""
            },
            "type": "contourcarpet"
           }
          ],
          "heatmap": [
           {
            "colorbar": {
             "outlinewidth": 0,
             "ticks": ""
            },
            "colorscale": [
             [
              0,
              "#0d0887"
             ],
             [
              0.1111111111111111,
              "#46039f"
             ],
             [
              0.2222222222222222,
              "#7201a8"
             ],
             [
              0.3333333333333333,
              "#9c179e"
             ],
             [
              0.4444444444444444,
              "#bd3786"
             ],
             [
              0.5555555555555556,
              "#d8576b"
             ],
             [
              0.6666666666666666,
              "#ed7953"
             ],
             [
              0.7777777777777778,
              "#fb9f3a"
             ],
             [
              0.8888888888888888,
              "#fdca26"
             ],
             [
              1,
              "#f0f921"
             ]
            ],
            "type": "heatmap"
           }
          ],
          "heatmapgl": [
           {
            "colorbar": {
             "outlinewidth": 0,
             "ticks": ""
            },
            "colorscale": [
             [
              0,
              "#0d0887"
             ],
             [
              0.1111111111111111,
              "#46039f"
             ],
             [
              0.2222222222222222,
              "#7201a8"
             ],
             [
              0.3333333333333333,
              "#9c179e"
             ],
             [
              0.4444444444444444,
              "#bd3786"
             ],
             [
              0.5555555555555556,
              "#d8576b"
             ],
             [
              0.6666666666666666,
              "#ed7953"
             ],
             [
              0.7777777777777778,
              "#fb9f3a"
             ],
             [
              0.8888888888888888,
              "#fdca26"
             ],
             [
              1,
              "#f0f921"
             ]
            ],
            "type": "heatmapgl"
           }
          ],
          "histogram": [
           {
            "marker": {
             "pattern": {
              "fillmode": "overlay",
              "size": 10,
              "solidity": 0.2
             }
            },
            "type": "histogram"
           }
          ],
          "histogram2d": [
           {
            "colorbar": {
             "outlinewidth": 0,
             "ticks": ""
            },
            "colorscale": [
             [
              0,
              "#0d0887"
             ],
             [
              0.1111111111111111,
              "#46039f"
             ],
             [
              0.2222222222222222,
              "#7201a8"
             ],
             [
              0.3333333333333333,
              "#9c179e"
             ],
             [
              0.4444444444444444,
              "#bd3786"
             ],
             [
              0.5555555555555556,
              "#d8576b"
             ],
             [
              0.6666666666666666,
              "#ed7953"
             ],
             [
              0.7777777777777778,
              "#fb9f3a"
             ],
             [
              0.8888888888888888,
              "#fdca26"
             ],
             [
              1,
              "#f0f921"
             ]
            ],
            "type": "histogram2d"
           }
          ],
          "histogram2dcontour": [
           {
            "colorbar": {
             "outlinewidth": 0,
             "ticks": ""
            },
            "colorscale": [
             [
              0,
              "#0d0887"
             ],
             [
              0.1111111111111111,
              "#46039f"
             ],
             [
              0.2222222222222222,
              "#7201a8"
             ],
             [
              0.3333333333333333,
              "#9c179e"
             ],
             [
              0.4444444444444444,
              "#bd3786"
             ],
             [
              0.5555555555555556,
              "#d8576b"
             ],
             [
              0.6666666666666666,
              "#ed7953"
             ],
             [
              0.7777777777777778,
              "#fb9f3a"
             ],
             [
              0.8888888888888888,
              "#fdca26"
             ],
             [
              1,
              "#f0f921"
             ]
            ],
            "type": "histogram2dcontour"
           }
          ],
          "mesh3d": [
           {
            "colorbar": {
             "outlinewidth": 0,
             "ticks": ""
            },
            "type": "mesh3d"
           }
          ],
          "parcoords": [
           {
            "line": {
             "colorbar": {
              "outlinewidth": 0,
              "ticks": ""
             }
            },
            "type": "parcoords"
           }
          ],
          "pie": [
           {
            "automargin": true,
            "type": "pie"
           }
          ],
          "scatter": [
           {
            "fillpattern": {
             "fillmode": "overlay",
             "size": 10,
             "solidity": 0.2
            },
            "type": "scatter"
           }
          ],
          "scatter3d": [
           {
            "line": {
             "colorbar": {
              "outlinewidth": 0,
              "ticks": ""
             }
            },
            "marker": {
             "colorbar": {
              "outlinewidth": 0,
              "ticks": ""
             }
            },
            "type": "scatter3d"
           }
          ],
          "scattercarpet": [
           {
            "marker": {
             "colorbar": {
              "outlinewidth": 0,
              "ticks": ""
             }
            },
            "type": "scattercarpet"
           }
          ],
          "scattergeo": [
           {
            "marker": {
             "colorbar": {
              "outlinewidth": 0,
              "ticks": ""
             }
            },
            "type": "scattergeo"
           }
          ],
          "scattergl": [
           {
            "marker": {
             "colorbar": {
              "outlinewidth": 0,
              "ticks": ""
             }
            },
            "type": "scattergl"
           }
          ],
          "scattermapbox": [
           {
            "marker": {
             "colorbar": {
              "outlinewidth": 0,
              "ticks": ""
             }
            },
            "type": "scattermapbox"
           }
          ],
          "scatterpolar": [
           {
            "marker": {
             "colorbar": {
              "outlinewidth": 0,
              "ticks": ""
             }
            },
            "type": "scatterpolar"
           }
          ],
          "scatterpolargl": [
           {
            "marker": {
             "colorbar": {
              "outlinewidth": 0,
              "ticks": ""
             }
            },
            "type": "scatterpolargl"
           }
          ],
          "scatterternary": [
           {
            "marker": {
             "colorbar": {
              "outlinewidth": 0,
              "ticks": ""
             }
            },
            "type": "scatterternary"
           }
          ],
          "surface": [
           {
            "colorbar": {
             "outlinewidth": 0,
             "ticks": ""
            },
            "colorscale": [
             [
              0,
              "#0d0887"
             ],
             [
              0.1111111111111111,
              "#46039f"
             ],
             [
              0.2222222222222222,
              "#7201a8"
             ],
             [
              0.3333333333333333,
              "#9c179e"
             ],
             [
              0.4444444444444444,
              "#bd3786"
             ],
             [
              0.5555555555555556,
              "#d8576b"
             ],
             [
              0.6666666666666666,
              "#ed7953"
             ],
             [
              0.7777777777777778,
              "#fb9f3a"
             ],
             [
              0.8888888888888888,
              "#fdca26"
             ],
             [
              1,
              "#f0f921"
             ]
            ],
            "type": "surface"
           }
          ],
          "table": [
           {
            "cells": {
             "fill": {
              "color": "#EBF0F8"
             },
             "line": {
              "color": "white"
             }
            },
            "header": {
             "fill": {
              "color": "#C8D4E3"
             },
             "line": {
              "color": "white"
             }
            },
            "type": "table"
           }
          ]
         },
         "layout": {
          "annotationdefaults": {
           "arrowcolor": "#2a3f5f",
           "arrowhead": 0,
           "arrowwidth": 1
          },
          "autotypenumbers": "strict",
          "coloraxis": {
           "colorbar": {
            "outlinewidth": 0,
            "ticks": ""
           }
          },
          "colorscale": {
           "diverging": [
            [
             0,
             "#8e0152"
            ],
            [
             0.1,
             "#c51b7d"
            ],
            [
             0.2,
             "#de77ae"
            ],
            [
             0.3,
             "#f1b6da"
            ],
            [
             0.4,
             "#fde0ef"
            ],
            [
             0.5,
             "#f7f7f7"
            ],
            [
             0.6,
             "#e6f5d0"
            ],
            [
             0.7,
             "#b8e186"
            ],
            [
             0.8,
             "#7fbc41"
            ],
            [
             0.9,
             "#4d9221"
            ],
            [
             1,
             "#276419"
            ]
           ],
           "sequential": [
            [
             0,
             "#0d0887"
            ],
            [
             0.1111111111111111,
             "#46039f"
            ],
            [
             0.2222222222222222,
             "#7201a8"
            ],
            [
             0.3333333333333333,
             "#9c179e"
            ],
            [
             0.4444444444444444,
             "#bd3786"
            ],
            [
             0.5555555555555556,
             "#d8576b"
            ],
            [
             0.6666666666666666,
             "#ed7953"
            ],
            [
             0.7777777777777778,
             "#fb9f3a"
            ],
            [
             0.8888888888888888,
             "#fdca26"
            ],
            [
             1,
             "#f0f921"
            ]
           ],
           "sequentialminus": [
            [
             0,
             "#0d0887"
            ],
            [
             0.1111111111111111,
             "#46039f"
            ],
            [
             0.2222222222222222,
             "#7201a8"
            ],
            [
             0.3333333333333333,
             "#9c179e"
            ],
            [
             0.4444444444444444,
             "#bd3786"
            ],
            [
             0.5555555555555556,
             "#d8576b"
            ],
            [
             0.6666666666666666,
             "#ed7953"
            ],
            [
             0.7777777777777778,
             "#fb9f3a"
            ],
            [
             0.8888888888888888,
             "#fdca26"
            ],
            [
             1,
             "#f0f921"
            ]
           ]
          },
          "colorway": [
           "#636efa",
           "#EF553B",
           "#00cc96",
           "#ab63fa",
           "#FFA15A",
           "#19d3f3",
           "#FF6692",
           "#B6E880",
           "#FF97FF",
           "#FECB52"
          ],
          "font": {
           "color": "#2a3f5f"
          },
          "geo": {
           "bgcolor": "white",
           "lakecolor": "white",
           "landcolor": "#E5ECF6",
           "showlakes": true,
           "showland": true,
           "subunitcolor": "white"
          },
          "hoverlabel": {
           "align": "left"
          },
          "hovermode": "closest",
          "mapbox": {
           "style": "light"
          },
          "paper_bgcolor": "white",
          "plot_bgcolor": "#E5ECF6",
          "polar": {
           "angularaxis": {
            "gridcolor": "white",
            "linecolor": "white",
            "ticks": ""
           },
           "bgcolor": "#E5ECF6",
           "radialaxis": {
            "gridcolor": "white",
            "linecolor": "white",
            "ticks": ""
           }
          },
          "scene": {
           "xaxis": {
            "backgroundcolor": "#E5ECF6",
            "gridcolor": "white",
            "gridwidth": 2,
            "linecolor": "white",
            "showbackground": true,
            "ticks": "",
            "zerolinecolor": "white"
           },
           "yaxis": {
            "backgroundcolor": "#E5ECF6",
            "gridcolor": "white",
            "gridwidth": 2,
            "linecolor": "white",
            "showbackground": true,
            "ticks": "",
            "zerolinecolor": "white"
           },
           "zaxis": {
            "backgroundcolor": "#E5ECF6",
            "gridcolor": "white",
            "gridwidth": 2,
            "linecolor": "white",
            "showbackground": true,
            "ticks": "",
            "zerolinecolor": "white"
           }
          },
          "shapedefaults": {
           "line": {
            "color": "#2a3f5f"
           }
          },
          "ternary": {
           "aaxis": {
            "gridcolor": "white",
            "linecolor": "white",
            "ticks": ""
           },
           "baxis": {
            "gridcolor": "white",
            "linecolor": "white",
            "ticks": ""
           },
           "bgcolor": "#E5ECF6",
           "caxis": {
            "gridcolor": "white",
            "linecolor": "white",
            "ticks": ""
           }
          },
          "title": {
           "x": 0.05
          },
          "xaxis": {
           "automargin": true,
           "gridcolor": "white",
           "linecolor": "white",
           "ticks": "",
           "title": {
            "standoff": 15
           },
           "zerolinecolor": "white",
           "zerolinewidth": 2
          },
          "yaxis": {
           "automargin": true,
           "gridcolor": "white",
           "linecolor": "white",
           "ticks": "",
           "title": {
            "standoff": 15
           },
           "zerolinecolor": "white",
           "zerolinewidth": 2
          }
         }
        },
        "title": {
         "subtitle": {
          "text": "Qwen 3 32B, Single-Shot & No Thinking"
         },
         "text": "Pareto Frontier: MMLU Pro Exact Match Accuracy vs. Harmful Response Rate"
        },
        "width": 1000,
        "xaxis": {
         "gridcolor": "lightgray",
         "showgrid": true,
         "title": {
          "text": "Eval Performance Change (%)"
         },
         "zeroline": true
        },
        "yaxis": {
         "gridcolor": "lightgray",
         "showgrid": true,
         "title": {
          "text": "Harmful Response Rate Reduced (%)"
         },
         "zeroline": true
        }
       }
      },
      "text/html": [
       "<div>                            <div id=\"2a8d4229-4184-4bed-8901-05e32ddbd37f\" class=\"plotly-graph-div\" style=\"height:700px; width:1000px;\"></div>            <script type=\"text/javascript\">                require([\"plotly\"], function(Plotly) {                    window.PLOTLYENV=window.PLOTLYENV || {};                                    if (document.getElementById(\"2a8d4229-4184-4bed-8901-05e32ddbd37f\")) {                    Plotly.newPlot(                        \"2a8d4229-4184-4bed-8901-05e32ddbd37f\",                        [{\"customdata\":[[\"Every 4th Layer, Safe 50th\",\"jailbreak\",\"\\u003cb\\u003ePARETO OPTIMAL\\u003c\\u002fb\\u003e\"],[\"Every 4th Layer, Safe 99th\",\"jailbreak\",\"\\u003cb\\u003ePARETO OPTIMAL\\u003c\\u002fb\\u003e\"],[\"Every 4th Layer, Harm 75th\",\"jailbreak\",\"\"],[\"Every 4th Layer, Harm 99th\",\"jailbreak\",\"\"],[\"Layers 32-63, Safe 50th\",\"jailbreak\",\"\"],[\"Layers 32-63, Safe 99th\",\"jailbreak\",\"\\u003cb\\u003ePARETO OPTIMAL\\u003c\\u002fb\\u003e\"],[\"Layers 32-63, Harm 75th\",\"jailbreak\",\"\"],[\"Layers 32-63, Harm 99th\",\"jailbreak\",\"\"],[\"Every 2nd Layer, Safe 50th\",\"jailbreak\",\"\\u003cb\\u003ePARETO OPTIMAL\\u003c\\u002fb\\u003e\"],[\"Every 2nd Layer, Safe 99th\",\"jailbreak\",\"\\u003cb\\u003ePARETO OPTIMAL\\u003c\\u002fb\\u003e\"],[\"Every 2nd Layer, Harm 75th\",\"jailbreak\",\"\"],[\"Every 2nd Layer, Harm 99th\",\"jailbreak\",\"\\u003cb\\u003ePARETO OPTIMAL\\u003c\\u002fb\\u003e\"],[\"All Layers (0-63), Safe 50th\",\"jailbreak\",\"\\u003cb\\u003ePARETO OPTIMAL\\u003c\\u002fb\\u003e\"],[\"All Layers (0-63), Safe 99th\",\"jailbreak\",\"\\u003cb\\u003ePARETO OPTIMAL\\u003c\\u002fb\\u003e\"],[\"All Layers (0-63), Harm 75th\",\"jailbreak\",\"\"],[\"All Layers (0-63), Harm 99th\",\"jailbreak\",\"\"]],\"hovertemplate\":\"\\u003cb\\u003e%{customdata[0]}\\u003c\\u002fb\\u003e\\u003cbr\\u003eConfig: %{customdata[1]}\\u003cbr\\u003eEval Change: %{x:.1f}%\\u003cbr\\u003eHarm Change: %{y:.1f}%\\u003cbr\\u003e%{customdata[2]}\\u003cextra\\u003e\\u003c\\u002fextra\\u003e\",\"legendgroup\":\"jailbreak\",\"marker\":{\"color\":\"#d62728\",\"opacity\":0.6,\"size\":8},\"mode\":\"markers\",\"name\":\"Jailbreak Rollouts\",\"showlegend\":true,\"x\":[-3.0687830687830804,-8.994708994708995,1.2698412698412684,-0.7407407407407414,-4.973544973544975,-7.301587301587315,-0.1058201058201153,-2.01058201058201,-3.703703703703707,-9.417989417989423,0.8465608465608402,-1.3756613756613838,-5.820105820105832,-12.592592592592602,-2.222222222222224,-3.492063492063493],\"y\":[-61.45236145236145,-85.14878514878515,-21.703521703521698,-51.95195195195195,-61.99836199836201,-79.36117936117935,-24.1059241059241,-47.365547365547364,-65.16516516516516,-89.1891891891892,-22.031122031122035,-53.37155337155337,-70.4067704067704,-89.73518973518973,-28.36472836472837,-53.153153153153156],\"type\":\"scatter\"},{\"customdata\":[[\"Layers 56-63, 75th\",\"role_trait\",\"\"],[\"Layers 56-63, 50th\",\"role_trait\",\"\"],[\"Layers 56-63, 25th\",\"role_trait\",\"\"],[\"Layers 56-63, 1st\",\"role_trait\",\"\"],[\"Layers 48-55, 75th\",\"role_trait\",\"\"],[\"Layers 48-55, 50th\",\"role_trait\",\"\"],[\"Layers 48-55, 25th\",\"role_trait\",\"\"],[\"Layers 48-55, 1st\",\"role_trait\",\"\\u003cb\\u003ePARETO OPTIMAL\\u003c\\u002fb\\u003e\"],[\"Layers 32-39, 75th\",\"role_trait\",\"\"],[\"Layers 32-39, 50th\",\"role_trait\",\"\"],[\"Layers 32-39, 25th\",\"role_trait\",\"\"],[\"Layers 32-39, 1st\",\"role_trait\",\"\\u003cb\\u003ePARETO OPTIMAL\\u003c\\u002fb\\u003e\"],[\"Layers 24-31, 75th\",\"role_trait\",\"\"],[\"Layers 24-31, 50th\",\"role_trait\",\"\"],[\"Layers 24-31, 25th\",\"role_trait\",\"\"],[\"Layers 24-31, 1st\",\"role_trait\",\"\"],[\"Layers 40-47, 75th\",\"role_trait\",\"\"],[\"Layers 40-47, 50th\",\"role_trait\",\"\"],[\"Layers 40-47, 25th\",\"role_trait\",\"\"],[\"Layers 40-47, 1st\",\"role_trait\",\"\"],[\"Layers 8-15, 75th\",\"role_trait\",\"\"],[\"Layers 8-15, 50th\",\"role_trait\",\"\"],[\"Layers 8-15, 25th\",\"role_trait\",\"\"],[\"Layers 8-15, 1st\",\"role_trait\",\"\"],[\"Layers 16-23, 75th\",\"role_trait\",\"\"],[\"Layers 16-23, 50th\",\"role_trait\",\"\"],[\"Layers 16-23, 25th\",\"role_trait\",\"\"],[\"Layers 16-23, 1st\",\"role_trait\",\"\"],[\"All Layers (0-63), 75th\",\"role_trait\",\"\"],[\"All Layers (0-63), 50th\",\"role_trait\",\"\"],[\"All Layers (0-63), 25th\",\"role_trait\",\"\\u003cb\\u003ePARETO OPTIMAL\\u003c\\u002fb\\u003e\"],[\"All Layers (0-63), 1st\",\"role_trait\",\"\\u003cb\\u003ePARETO OPTIMAL\\u003c\\u002fb\\u003e\"],[\"Layers 0-15, 75th\",\"role_trait\",\"\"],[\"Layers 0-15, 50th\",\"role_trait\",\"\"],[\"Layers 0-15, 25th\",\"role_trait\",\"\"],[\"Layers 0-15, 1st\",\"role_trait\",\"\"]],\"hovertemplate\":\"\\u003cb\\u003e%{customdata[0]}\\u003c\\u002fb\\u003e\\u003cbr\\u003eConfig: %{customdata[1]}\\u003cbr\\u003eEval Change: %{x:.1f}%\\u003cbr\\u003eHarm Change: %{y:.1f}%\\u003cbr\\u003e%{customdata[2]}\\u003cextra\\u003e\\u003c\\u002fextra\\u003e\",\"legendgroup\":\"role_trait\",\"marker\":{\"color\":\"#ff7f0e\",\"opacity\":0.6,\"size\":8},\"mode\":\"markers\",\"name\":\"Role\\u002fTrait Rollouts\",\"showlegend\":true,\"x\":[0.21164021164019772,-0.9523809523809555,0.7407407407407414,-1.5873015873015979,-0.6349206349206424,-3.0687830687830804,-1.2698412698412684,1.4814814814814827,-1.2698412698412684,0.21164021164019772,0.9523809523809391,-2.751322751322751,-2.751322751322751,-3.0687830687830804,-4.02116402116402,-2.9629629629629655,-0.7407407407407414,-2.8571428571428665,-2.222222222222224,-7.1957671957672,0.6349206349206261,-1.3756613756613838,-0.6349206349206424,-4.761904761904761,0.31746031746031306,-0.42328042328042836,-4.126984126984135,-7.830687830687842,-1.4814814814814827,-4.656084656084662,-5.079365079365091,-14.074074074074087,-0.42328042328042836,-0.3174603174603295,-3.492063492063493,-7.0899470899471],\"y\":[-4.1223041223041115,-5.2143052143052175,-4.340704340704336,-5.978705978705986,-6.087906087906082,-21.048321048321057,-33.38793338793339,-52.27955227955228,-17.117117117117118,-26.83592683592683,-36.663936663936674,-55.99235599235599,-15.806715806715804,-24.1059241059241,-32.514332514332516,-44.417144417144414,-21.594321594321602,-38.3019383019383,-48.45754845754846,-70.2975702975703,-3.576303576303567,-5.541905541905537,-12.749112749112761,-23.34152334152334,-5.869505869505857,-17.881517881517887,-28.255528255528255,-48.894348894348894,-21.48512148512147,-47.037947037947035,-67.02156702156702,-91.15479115479116,-3.6855036855036967,-8.27190827190826,-13.076713076713082,-24.97952497952498],\"type\":\"scatter\"},{\"customdata\":[[\"Layers 16-23, 75th\",\"lmsys_10000\",\"\"],[\"Layers 16-23, 50th\",\"lmsys_10000\",\"\"],[\"Layers 16-23, 25th\",\"lmsys_10000\",\"\"],[\"Layers 16-23, 1st\",\"lmsys_10000\",\"\"],[\"All Layers (0-63), 75th\",\"lmsys_10000\",\"\"],[\"All Layers (0-63), 50th\",\"lmsys_10000\",\"\"],[\"All Layers (0-63), 25th\",\"lmsys_10000\",\"\"],[\"All Layers (0-63), 1st\",\"lmsys_10000\",\"\"]],\"hovertemplate\":\"\\u003cb\\u003e%{customdata[0]}\\u003c\\u002fb\\u003e\\u003cbr\\u003eConfig: %{customdata[1]}\\u003cbr\\u003eEval Change: %{x:.1f}%\\u003cbr\\u003eHarm Change: %{y:.1f}%\\u003cbr\\u003e%{customdata[2]}\\u003cextra\\u003e\\u003c\\u002fextra\\u003e\",\"legendgroup\":\"lmsys_10000\",\"marker\":{\"color\":\"#9467bd\",\"opacity\":0.6,\"size\":8},\"mode\":\"markers\",\"name\":\"LMSYS-10K Rollouts\",\"showlegend\":true,\"x\":[-0.42328042328042836,-0.9523809523809555,-4.338624338624349,-5.925925925925931,-2.116402116402125,-4.126984126984135,-6.4550264550264576,-13.22751322751323],\"y\":[-12.749112749112761,-19.51951951951952,-33.16953316953317,-47.474747474747474,-41.031941031941024,-54.57275457275457,-68.87796887796888,-88.86158886158884],\"type\":\"scatter\"},{\"hoverinfo\":\"skip\",\"line\":{\"color\":\"grey\",\"dash\":\"dash\",\"width\":1},\"mode\":\"lines\",\"name\":\"Pareto Frontier\",\"showlegend\":true,\"x\":[-14.074074074074087,-12.592592592592602,-9.417989417989423,-8.994708994708995,-7.301587301587315,-5.820105820105832,-5.079365079365091,-3.703703703703707,-3.0687830687830804,-2.751322751322751,-1.3756613756613838,1.4814814814814827],\"y\":[-91.15479115479116,-89.73518973518973,-89.1891891891892,-85.14878514878515,-79.36117936117935,-70.4067704067704,-67.02156702156702,-65.16516516516516,-61.45236145236145,-55.99235599235599,-53.37155337155337,-52.27955227955228],\"type\":\"scatter\"}],                        {\"template\":{\"data\":{\"histogram2dcontour\":[{\"type\":\"histogram2dcontour\",\"colorbar\":{\"outlinewidth\":0,\"ticks\":\"\"},\"colorscale\":[[0.0,\"#0d0887\"],[0.1111111111111111,\"#46039f\"],[0.2222222222222222,\"#7201a8\"],[0.3333333333333333,\"#9c179e\"],[0.4444444444444444,\"#bd3786\"],[0.5555555555555556,\"#d8576b\"],[0.6666666666666666,\"#ed7953\"],[0.7777777777777778,\"#fb9f3a\"],[0.8888888888888888,\"#fdca26\"],[1.0,\"#f0f921\"]]}],\"choropleth\":[{\"type\":\"choropleth\",\"colorbar\":{\"outlinewidth\":0,\"ticks\":\"\"}}],\"histogram2d\":[{\"type\":\"histogram2d\",\"colorbar\":{\"outlinewidth\":0,\"ticks\":\"\"},\"colorscale\":[[0.0,\"#0d0887\"],[0.1111111111111111,\"#46039f\"],[0.2222222222222222,\"#7201a8\"],[0.3333333333333333,\"#9c179e\"],[0.4444444444444444,\"#bd3786\"],[0.5555555555555556,\"#d8576b\"],[0.6666666666666666,\"#ed7953\"],[0.7777777777777778,\"#fb9f3a\"],[0.8888888888888888,\"#fdca26\"],[1.0,\"#f0f921\"]]}],\"heatmap\":[{\"type\":\"heatmap\",\"colorbar\":{\"outlinewidth\":0,\"ticks\":\"\"},\"colorscale\":[[0.0,\"#0d0887\"],[0.1111111111111111,\"#46039f\"],[0.2222222222222222,\"#7201a8\"],[0.3333333333333333,\"#9c179e\"],[0.4444444444444444,\"#bd3786\"],[0.5555555555555556,\"#d8576b\"],[0.6666666666666666,\"#ed7953\"],[0.7777777777777778,\"#fb9f3a\"],[0.8888888888888888,\"#fdca26\"],[1.0,\"#f0f921\"]]}],\"heatmapgl\":[{\"type\":\"heatmapgl\",\"colorbar\":{\"outlinewidth\":0,\"ticks\":\"\"},\"colorscale\":[[0.0,\"#0d0887\"],[0.1111111111111111,\"#46039f\"],[0.2222222222222222,\"#7201a8\"],[0.3333333333333333,\"#9c179e\"],[0.4444444444444444,\"#bd3786\"],[0.5555555555555556,\"#d8576b\"],[0.6666666666666666,\"#ed7953\"],[0.7777777777777778,\"#fb9f3a\"],[0.8888888888888888,\"#fdca26\"],[1.0,\"#f0f921\"]]}],\"contourcarpet\":[{\"type\":\"contourcarpet\",\"colorbar\":{\"outlinewidth\":0,\"ticks\":\"\"}}],\"contour\":[{\"type\":\"contour\",\"colorbar\":{\"outlinewidth\":0,\"ticks\":\"\"},\"colorscale\":[[0.0,\"#0d0887\"],[0.1111111111111111,\"#46039f\"],[0.2222222222222222,\"#7201a8\"],[0.3333333333333333,\"#9c179e\"],[0.4444444444444444,\"#bd3786\"],[0.5555555555555556,\"#d8576b\"],[0.6666666666666666,\"#ed7953\"],[0.7777777777777778,\"#fb9f3a\"],[0.8888888888888888,\"#fdca26\"],[1.0,\"#f0f921\"]]}],\"surface\":[{\"type\":\"surface\",\"colorbar\":{\"outlinewidth\":0,\"ticks\":\"\"},\"colorscale\":[[0.0,\"#0d0887\"],[0.1111111111111111,\"#46039f\"],[0.2222222222222222,\"#7201a8\"],[0.3333333333333333,\"#9c179e\"],[0.4444444444444444,\"#bd3786\"],[0.5555555555555556,\"#d8576b\"],[0.6666666666666666,\"#ed7953\"],[0.7777777777777778,\"#fb9f3a\"],[0.8888888888888888,\"#fdca26\"],[1.0,\"#f0f921\"]]}],\"mesh3d\":[{\"type\":\"mesh3d\",\"colorbar\":{\"outlinewidth\":0,\"ticks\":\"\"}}],\"scatter\":[{\"fillpattern\":{\"fillmode\":\"overlay\",\"size\":10,\"solidity\":0.2},\"type\":\"scatter\"}],\"parcoords\":[{\"type\":\"parcoords\",\"line\":{\"colorbar\":{\"outlinewidth\":0,\"ticks\":\"\"}}}],\"scatterpolargl\":[{\"type\":\"scatterpolargl\",\"marker\":{\"colorbar\":{\"outlinewidth\":0,\"ticks\":\"\"}}}],\"bar\":[{\"error_x\":{\"color\":\"#2a3f5f\"},\"error_y\":{\"color\":\"#2a3f5f\"},\"marker\":{\"line\":{\"color\":\"#E5ECF6\",\"width\":0.5},\"pattern\":{\"fillmode\":\"overlay\",\"size\":10,\"solidity\":0.2}},\"type\":\"bar\"}],\"scattergeo\":[{\"type\":\"scattergeo\",\"marker\":{\"colorbar\":{\"outlinewidth\":0,\"ticks\":\"\"}}}],\"scatterpolar\":[{\"type\":\"scatterpolar\",\"marker\":{\"colorbar\":{\"outlinewidth\":0,\"ticks\":\"\"}}}],\"histogram\":[{\"marker\":{\"pattern\":{\"fillmode\":\"overlay\",\"size\":10,\"solidity\":0.2}},\"type\":\"histogram\"}],\"scattergl\":[{\"type\":\"scattergl\",\"marker\":{\"colorbar\":{\"outlinewidth\":0,\"ticks\":\"\"}}}],\"scatter3d\":[{\"type\":\"scatter3d\",\"line\":{\"colorbar\":{\"outlinewidth\":0,\"ticks\":\"\"}},\"marker\":{\"colorbar\":{\"outlinewidth\":0,\"ticks\":\"\"}}}],\"scattermapbox\":[{\"type\":\"scattermapbox\",\"marker\":{\"colorbar\":{\"outlinewidth\":0,\"ticks\":\"\"}}}],\"scatterternary\":[{\"type\":\"scatterternary\",\"marker\":{\"colorbar\":{\"outlinewidth\":0,\"ticks\":\"\"}}}],\"scattercarpet\":[{\"type\":\"scattercarpet\",\"marker\":{\"colorbar\":{\"outlinewidth\":0,\"ticks\":\"\"}}}],\"carpet\":[{\"aaxis\":{\"endlinecolor\":\"#2a3f5f\",\"gridcolor\":\"white\",\"linecolor\":\"white\",\"minorgridcolor\":\"white\",\"startlinecolor\":\"#2a3f5f\"},\"baxis\":{\"endlinecolor\":\"#2a3f5f\",\"gridcolor\":\"white\",\"linecolor\":\"white\",\"minorgridcolor\":\"white\",\"startlinecolor\":\"#2a3f5f\"},\"type\":\"carpet\"}],\"table\":[{\"cells\":{\"fill\":{\"color\":\"#EBF0F8\"},\"line\":{\"color\":\"white\"}},\"header\":{\"fill\":{\"color\":\"#C8D4E3\"},\"line\":{\"color\":\"white\"}},\"type\":\"table\"}],\"barpolar\":[{\"marker\":{\"line\":{\"color\":\"#E5ECF6\",\"width\":0.5},\"pattern\":{\"fillmode\":\"overlay\",\"size\":10,\"solidity\":0.2}},\"type\":\"barpolar\"}],\"pie\":[{\"automargin\":true,\"type\":\"pie\"}]},\"layout\":{\"autotypenumbers\":\"strict\",\"colorway\":[\"#636efa\",\"#EF553B\",\"#00cc96\",\"#ab63fa\",\"#FFA15A\",\"#19d3f3\",\"#FF6692\",\"#B6E880\",\"#FF97FF\",\"#FECB52\"],\"font\":{\"color\":\"#2a3f5f\"},\"hovermode\":\"closest\",\"hoverlabel\":{\"align\":\"left\"},\"paper_bgcolor\":\"white\",\"plot_bgcolor\":\"#E5ECF6\",\"polar\":{\"bgcolor\":\"#E5ECF6\",\"angularaxis\":{\"gridcolor\":\"white\",\"linecolor\":\"white\",\"ticks\":\"\"},\"radialaxis\":{\"gridcolor\":\"white\",\"linecolor\":\"white\",\"ticks\":\"\"}},\"ternary\":{\"bgcolor\":\"#E5ECF6\",\"aaxis\":{\"gridcolor\":\"white\",\"linecolor\":\"white\",\"ticks\":\"\"},\"baxis\":{\"gridcolor\":\"white\",\"linecolor\":\"white\",\"ticks\":\"\"},\"caxis\":{\"gridcolor\":\"white\",\"linecolor\":\"white\",\"ticks\":\"\"}},\"coloraxis\":{\"colorbar\":{\"outlinewidth\":0,\"ticks\":\"\"}},\"colorscale\":{\"sequential\":[[0.0,\"#0d0887\"],[0.1111111111111111,\"#46039f\"],[0.2222222222222222,\"#7201a8\"],[0.3333333333333333,\"#9c179e\"],[0.4444444444444444,\"#bd3786\"],[0.5555555555555556,\"#d8576b\"],[0.6666666666666666,\"#ed7953\"],[0.7777777777777778,\"#fb9f3a\"],[0.8888888888888888,\"#fdca26\"],[1.0,\"#f0f921\"]],\"sequentialminus\":[[0.0,\"#0d0887\"],[0.1111111111111111,\"#46039f\"],[0.2222222222222222,\"#7201a8\"],[0.3333333333333333,\"#9c179e\"],[0.4444444444444444,\"#bd3786\"],[0.5555555555555556,\"#d8576b\"],[0.6666666666666666,\"#ed7953\"],[0.7777777777777778,\"#fb9f3a\"],[0.8888888888888888,\"#fdca26\"],[1.0,\"#f0f921\"]],\"diverging\":[[0,\"#8e0152\"],[0.1,\"#c51b7d\"],[0.2,\"#de77ae\"],[0.3,\"#f1b6da\"],[0.4,\"#fde0ef\"],[0.5,\"#f7f7f7\"],[0.6,\"#e6f5d0\"],[0.7,\"#b8e186\"],[0.8,\"#7fbc41\"],[0.9,\"#4d9221\"],[1,\"#276419\"]]},\"xaxis\":{\"gridcolor\":\"white\",\"linecolor\":\"white\",\"ticks\":\"\",\"title\":{\"standoff\":15},\"zerolinecolor\":\"white\",\"automargin\":true,\"zerolinewidth\":2},\"yaxis\":{\"gridcolor\":\"white\",\"linecolor\":\"white\",\"ticks\":\"\",\"title\":{\"standoff\":15},\"zerolinecolor\":\"white\",\"automargin\":true,\"zerolinewidth\":2},\"scene\":{\"xaxis\":{\"backgroundcolor\":\"#E5ECF6\",\"gridcolor\":\"white\",\"linecolor\":\"white\",\"showbackground\":true,\"ticks\":\"\",\"zerolinecolor\":\"white\",\"gridwidth\":2},\"yaxis\":{\"backgroundcolor\":\"#E5ECF6\",\"gridcolor\":\"white\",\"linecolor\":\"white\",\"showbackground\":true,\"ticks\":\"\",\"zerolinecolor\":\"white\",\"gridwidth\":2},\"zaxis\":{\"backgroundcolor\":\"#E5ECF6\",\"gridcolor\":\"white\",\"linecolor\":\"white\",\"showbackground\":true,\"ticks\":\"\",\"zerolinecolor\":\"white\",\"gridwidth\":2}},\"shapedefaults\":{\"line\":{\"color\":\"#2a3f5f\"}},\"annotationdefaults\":{\"arrowcolor\":\"#2a3f5f\",\"arrowhead\":0,\"arrowwidth\":1},\"geo\":{\"bgcolor\":\"white\",\"landcolor\":\"#E5ECF6\",\"subunitcolor\":\"white\",\"showland\":true,\"showlakes\":true,\"lakecolor\":\"white\"},\"title\":{\"x\":0.05},\"mapbox\":{\"style\":\"light\"}}},\"annotations\":[{\"align\":\"left\",\"font\":{\"color\":\"#ff7f0e\",\"size\":9},\"showarrow\":false,\"text\":\"Layers 48-55, 1st %ile\",\"x\":1.4814814814814827,\"xanchor\":\"left\",\"xshift\":10,\"y\":-52.27955227955228,\"yanchor\":\"middle\"},{\"align\":\"left\",\"font\":{\"color\":\"#ff7f0e\",\"size\":9},\"showarrow\":false,\"text\":\"Layers 32-39, 1st %ile\",\"x\":-2.751322751322751,\"xanchor\":\"left\",\"xshift\":10,\"y\":-55.99235599235599,\"yanchor\":\"middle\"},{\"align\":\"left\",\"font\":{\"color\":\"#ff7f0e\",\"size\":9},\"showarrow\":false,\"text\":\"All Layers (0-63), 25th %ile\",\"x\":-5.079365079365091,\"xanchor\":\"left\",\"xshift\":10,\"y\":-67.02156702156702,\"yanchor\":\"middle\"},{\"align\":\"left\",\"font\":{\"color\":\"#ff7f0e\",\"size\":9},\"showarrow\":false,\"text\":\"All Layers (0-63), 1st %ile\",\"x\":-14.074074074074087,\"xanchor\":\"left\",\"xshift\":10,\"y\":-91.15479115479116,\"yanchor\":\"middle\"},{\"align\":\"left\",\"font\":{\"color\":\"#d62728\",\"size\":9},\"showarrow\":false,\"text\":\"Every 4th Layer, Safe 50th %ile\",\"x\":-3.0687830687830804,\"xanchor\":\"left\",\"xshift\":10,\"y\":-61.45236145236145,\"yanchor\":\"middle\"},{\"align\":\"left\",\"font\":{\"color\":\"#d62728\",\"size\":9},\"showarrow\":false,\"text\":\"Every 4th Layer, Safe 99th %ile\",\"x\":-8.994708994708995,\"xanchor\":\"left\",\"xshift\":10,\"y\":-85.14878514878515,\"yanchor\":\"middle\"},{\"align\":\"left\",\"font\":{\"color\":\"#d62728\",\"size\":9},\"showarrow\":false,\"text\":\"Layers 32-63, Safe 99th %ile\",\"x\":-7.301587301587315,\"xanchor\":\"left\",\"xshift\":10,\"y\":-79.36117936117935,\"yanchor\":\"middle\"},{\"align\":\"left\",\"font\":{\"color\":\"#d62728\",\"size\":9},\"showarrow\":false,\"text\":\"Every 2nd Layer, Safe 50th %ile\",\"x\":-3.703703703703707,\"xanchor\":\"left\",\"xshift\":10,\"y\":-65.16516516516516,\"yanchor\":\"middle\"},{\"align\":\"left\",\"font\":{\"color\":\"#d62728\",\"size\":9},\"showarrow\":false,\"text\":\"Every 2nd Layer, Safe 99th %ile\",\"x\":-9.417989417989423,\"xanchor\":\"left\",\"xshift\":10,\"y\":-89.1891891891892,\"yanchor\":\"middle\"},{\"align\":\"left\",\"font\":{\"color\":\"#d62728\",\"size\":9},\"showarrow\":false,\"text\":\"Every 2nd Layer, Harm 99th %ile\",\"x\":-1.3756613756613838,\"xanchor\":\"left\",\"xshift\":10,\"y\":-53.37155337155337,\"yanchor\":\"middle\"},{\"align\":\"left\",\"font\":{\"color\":\"#d62728\",\"size\":9},\"showarrow\":false,\"text\":\"All Layers (0-63), Safe 50th %ile\",\"x\":-5.820105820105832,\"xanchor\":\"left\",\"xshift\":10,\"y\":-70.4067704067704,\"yanchor\":\"middle\"},{\"align\":\"left\",\"font\":{\"color\":\"#d62728\",\"size\":9},\"showarrow\":false,\"text\":\"All Layers (0-63), Safe 99th %ile\",\"x\":-12.592592592592602,\"xanchor\":\"left\",\"xshift\":10,\"y\":-89.73518973518973,\"yanchor\":\"middle\"},{\"font\":{\"color\":\"green\",\"size\":10},\"showarrow\":false,\"text\":\"\\u003cb\\u003eIdeal\\u003c\\u002fb\\u003e\\u003cbr\\u003eUnchanged eval\\u003cbr\\u003eReduced harm\",\"x\":1.3333333333333346,\"y\":-82.03931203931204},{\"font\":{\"color\":\"red\",\"size\":10},\"showarrow\":false,\"text\":\"\\u003cb\\u003eWorst\\u003c\\u002fb\\u003e\\u003cbr\\u003eWorse eval\\u003cbr\\u003eUnchanged harm\",\"x\":-12.666666666666679,\"y\":-3.21867321867321}],\"shapes\":[{\"line\":{\"color\":\"gray\",\"dash\":\"dot\",\"width\":1},\"opacity\":0.5,\"type\":\"line\",\"x0\":0,\"x1\":1,\"xref\":\"x domain\",\"y0\":0,\"y1\":0,\"yref\":\"y\"},{\"line\":{\"color\":\"gray\",\"dash\":\"dot\",\"width\":1},\"opacity\":0.5,\"type\":\"line\",\"x0\":0,\"x1\":0,\"xref\":\"x\",\"y0\":0,\"y1\":1,\"yref\":\"y domain\"}],\"title\":{\"subtitle\":{\"text\":\"Qwen 3 32B, Single-Shot & No Thinking\"},\"text\":\"Pareto Frontier: MMLU Pro Exact Match Accuracy vs. Harmful Response Rate\"},\"xaxis\":{\"title\":{\"text\":\"Eval Performance Change (%)\"},\"zeroline\":true,\"showgrid\":true,\"gridcolor\":\"lightgray\"},\"yaxis\":{\"title\":{\"text\":\"Harmful Response Rate Reduced (%)\"},\"zeroline\":true,\"showgrid\":true,\"gridcolor\":\"lightgray\"},\"legend\":{\"orientation\":\"v\",\"yanchor\":\"top\",\"y\":1,\"xanchor\":\"left\",\"x\":1.02},\"width\":1000,\"height\":700,\"hovermode\":\"closest\"},                        {\"responsive\": true}                    ).then(function(){\n",
       "                            \n",
       "var gd = document.getElementById('2a8d4229-4184-4bed-8901-05e32ddbd37f');\n",
       "var x = new MutationObserver(function (mutations, observer) {{\n",
       "        var display = window.getComputedStyle(gd).display;\n",
       "        if (!display || display === 'none') {{\n",
       "            console.log([gd, 'removed!']);\n",
       "            Plotly.purge(gd);\n",
       "            observer.disconnect();\n",
       "        }}\n",
       "}});\n",
       "\n",
       "// Listen for the removal of the full notebook cells\n",
       "var notebookContainer = gd.closest('#notebook-container');\n",
       "if (notebookContainer) {{\n",
       "    x.observe(notebookContainer, {childList: true});\n",
       "}}\n",
       "\n",
       "// Listen for the clearing of the current output cell\n",
       "var outputEl = gd.closest('.output');\n",
       "if (outputEl) {{\n",
       "    x.observe(outputEl, {childList: true});\n",
       "}}\n",
       "\n",
       "                        })                };                });            </script>        </div>"
      ]
     },
     "metadata": {},
     "output_type": "display_data"
    }
   ],
   "source": [
    "# Plot MMLU Pro Pareto frontier\n",
    "if len(df_mmlu_pareto) > 0:\n",
    "    fig_mmlu = plot_pareto_frontier(\n",
    "        df_mmlu_pareto,\n",
    "        'mmlu_pro',\n",
    "        EVAL_METRICS['mmlu_pro']['display_name'],\n",
    "        subtitle=subtitle\n",
    "    )\n",
    "    fig_mmlu.show()\n",
    "    fig_mmlu.write_html(f\"{out_dir}/mmlu_pro.html\")\n",
    "else:\n",
    "    print(\"No data available for MMLU Pro Pareto plot\")"
   ]
  },
  {
   "cell_type": "markdown",
   "id": "eq-section",
   "metadata": {},
   "source": [
    "### EQ-Bench vs Jailbreak Harm"
   ]
  },
  {
   "cell_type": "code",
   "execution_count": 25,
   "id": "eq-pareto",
   "metadata": {},
   "outputs": [
    {
     "name": "stdout",
     "output_type": "stream",
     "text": [
      "Loaded 89 EQ-Bench experiment runs\n",
      "\n",
      "Config breakdown:\n",
      "  baseline: 1 runs\n",
      "  role_trait: 36 runs\n",
      "  jailbreak: 16 runs\n",
      "  lmsys_10000: 36 runs\n"
     ]
    }
   ],
   "source": [
    "# Load EQ-Bench data\n",
    "df_eq = load_experiment_data(['eq_bench'], config_names, base_dir)\n",
    "print(f\"Loaded {len(df_eq)} EQ-Bench experiment runs\")\n",
    "print(f\"\\nConfig breakdown:\")\n",
    "for config in df_eq['config_name'].unique():\n",
    "    print(f\"  {config}: {len(df_eq[df_eq['config_name'] == config])} runs\")"
   ]
  },
  {
   "cell_type": "code",
   "execution_count": 26,
   "id": "dep60c3ep16",
   "metadata": {},
   "outputs": [
    {
     "name": "stdout",
     "output_type": "stream",
     "text": [
      "After filtering: 89 runs\n",
      "Baseline EQ-Bench value: 82.2942\n"
     ]
    }
   ],
   "source": [
    "# Filter EQ-Bench data\n",
    "df_eq_filtered = df_eq\n",
    "\n",
    "print(f\"After filtering: {len(df_eq_filtered)} runs\")\n",
    "\n",
    "# Get baseline value\n",
    "metric_col = EVAL_METRICS['eq_bench']['metric']\n",
    "baseline_eq = df_eq_filtered[df_eq_filtered['config_name'] == 'baseline']\n",
    "if len(baseline_eq) > 0:\n",
    "    baseline_eq_value = baseline_eq[metric_col].iloc[0]\n",
    "    print(f\"Baseline EQ-Bench value: {baseline_eq_value:.4f}\")\n",
    "else:\n",
    "    print(\"Warning: No baseline found!\")\n",
    "    baseline_eq_value = None"
   ]
  },
  {
   "cell_type": "code",
   "execution_count": 27,
   "id": "051izjvuug6w",
   "metadata": {},
   "outputs": [
    {
     "name": "stdout",
     "output_type": "stream",
     "text": [
      "\n",
      "EQ_BENCH:\n",
      "Baseline eval value: 82.2942\n",
      "Baseline harm rate: 83.25%\n",
      "Loaded 36 experiments for role_trait\n",
      "Loaded 16 experiments for jailbreak\n",
      "Loaded 36 experiments for lmsys_10000\n",
      "\n",
      "Total experiments: 88\n",
      "Pareto-optimal points: 12\n"
     ]
    }
   ],
   "source": [
    "# Prepare Pareto data for EQ-Bench\n",
    "if baseline_eq_value is not None:\n",
    "    df_eq_pareto = prepare_pareto_data(\n",
    "        df_eq_filtered,\n",
    "        jailbreak_data,\n",
    "        'eq_bench',\n",
    "        baseline_eq_value,\n",
    "        baseline_harm\n",
    "    )\n",
    "else:\n",
    "    df_eq_pareto = pd.DataFrame()\n",
    "    print(\"Skipping Pareto analysis due to missing baseline\")"
   ]
  },
  {
   "cell_type": "code",
   "execution_count": 28,
   "id": "32khgsg5tpu",
   "metadata": {},
   "outputs": [
    {
     "data": {
      "application/vnd.plotly.v1+json": {
       "config": {
        "plotlyServerURL": "https://plot.ly"
       },
       "data": [
        {
         "customdata": [
          [
           "Layers 32-63, Harm 99th",
           "jailbreak",
           ""
          ],
          [
           "Layers 32-63, Harm 75th",
           "jailbreak",
           ""
          ],
          [
           "Layers 32-63, Safe 99th",
           "jailbreak",
           ""
          ],
          [
           "Layers 32-63, Safe 50th",
           "jailbreak",
           ""
          ],
          [
           "All Layers (0-63), Harm 99th",
           "jailbreak",
           ""
          ],
          [
           "All Layers (0-63), Harm 75th",
           "jailbreak",
           ""
          ],
          [
           "All Layers (0-63), Safe 99th",
           "jailbreak",
           ""
          ],
          [
           "All Layers (0-63), Safe 50th",
           "jailbreak",
           "<b>PARETO OPTIMAL</b>"
          ],
          [
           "Every 2nd Layer, Harm 75th",
           "jailbreak",
           ""
          ],
          [
           "Every 2nd Layer, Harm 99th",
           "jailbreak",
           ""
          ],
          [
           "Every 2nd Layer, Safe 50th",
           "jailbreak",
           "<b>PARETO OPTIMAL</b>"
          ],
          [
           "Every 2nd Layer, Safe 99th",
           "jailbreak",
           "<b>PARETO OPTIMAL</b>"
          ],
          [
           "Every 4th Layer, Harm 75th",
           "jailbreak",
           ""
          ],
          [
           "Every 4th Layer, Harm 99th",
           "jailbreak",
           ""
          ],
          [
           "Every 4th Layer, Safe 99th",
           "jailbreak",
           ""
          ],
          [
           "Every 4th Layer, Safe 50th",
           "jailbreak",
           ""
          ]
         ],
         "hovertemplate": "<b>%{customdata[0]}</b><br>Config: %{customdata[1]}<br>Eval Change: %{x:.1f}%<br>Harm Change: %{y:.1f}%<br>%{customdata[2]}<extra></extra>",
         "legendgroup": "jailbreak",
         "marker": {
          "color": "#d62728",
          "opacity": 0.6,
          "size": 8
         },
         "mode": "markers",
         "name": "Jailbreak Rollouts",
         "showlegend": true,
         "type": "scatter",
         "x": [
          -3.2028002579106367,
          -2.256562858355159,
          -17.425725845664488,
          -4.822113257261087,
          -2.73347864998505,
          -2.4742230059335313,
          -9.590746813389435,
          -3.7783239303461,
          -1.8463249420696441,
          -2.592769955525063,
          -3.055611537110516,
          -6.090650866055766,
          -1.0028466991801221,
          -2.5161862659822645,
          -6.206126601861057,
          -3.830753066277638
         ],
         "y": [
          -47.365547365547364,
          -24.1059241059241,
          -79.36117936117935,
          -61.99836199836201,
          -53.153153153153156,
          -28.36472836472837,
          -89.73518973518973,
          -70.4067704067704,
          -22.031122031122035,
          -53.37155337155337,
          -65.16516516516516,
          -89.1891891891892,
          -21.703521703521698,
          -51.95195195195195,
          -85.14878514878515,
          -61.45236145236145
         ]
        },
        {
         "customdata": [
          [
           "Layers 56-63, 75th",
           "role_trait",
           "<b>PARETO OPTIMAL</b>"
          ],
          [
           "Layers 56-63, 50th",
           "role_trait",
           ""
          ],
          [
           "Layers 56-63, 25th",
           "role_trait",
           ""
          ],
          [
           "Layers 56-63, 1st",
           "role_trait",
           ""
          ],
          [
           "Layers 48-55, 75th",
           "role_trait",
           ""
          ],
          [
           "Layers 48-55, 50th",
           "role_trait",
           "<b>PARETO OPTIMAL</b>"
          ],
          [
           "Layers 48-55, 25th",
           "role_trait",
           "<b>PARETO OPTIMAL</b>"
          ],
          [
           "Layers 48-55, 1st",
           "role_trait",
           "<b>PARETO OPTIMAL</b>"
          ],
          [
           "Layers 40-47, 75th",
           "role_trait",
           ""
          ],
          [
           "Layers 40-47, 50th",
           "role_trait",
           ""
          ],
          [
           "Layers 40-47, 25th",
           "role_trait",
           ""
          ],
          [
           "Layers 40-47, 1st",
           "role_trait",
           ""
          ],
          [
           "Layers 32-39, 75th",
           "role_trait",
           ""
          ],
          [
           "Layers 32-39, 50th",
           "role_trait",
           ""
          ],
          [
           "Layers 32-39, 25th",
           "role_trait",
           ""
          ],
          [
           "Layers 32-39, 1st",
           "role_trait",
           ""
          ],
          [
           "Layers 24-31, 75th",
           "role_trait",
           ""
          ],
          [
           "Layers 24-31, 50th",
           "role_trait",
           ""
          ],
          [
           "Layers 24-31, 25th",
           "role_trait",
           ""
          ],
          [
           "Layers 24-31, 1st",
           "role_trait",
           ""
          ],
          [
           "All Layers (0-63), 25th",
           "role_trait",
           ""
          ],
          [
           "All Layers (0-63), 1st",
           "role_trait",
           "<b>PARETO OPTIMAL</b>"
          ],
          [
           "All Layers (0-63), 50th",
           "role_trait",
           ""
          ],
          [
           "All Layers (0-63), 75th",
           "role_trait",
           ""
          ],
          [
           "Layers 0-15, 1st",
           "role_trait",
           ""
          ],
          [
           "Layers 0-15, 25th",
           "role_trait",
           ""
          ],
          [
           "Layers 0-15, 50th",
           "role_trait",
           ""
          ],
          [
           "Layers 0-15, 75th",
           "role_trait",
           ""
          ],
          [
           "Layers 16-23, 1st",
           "role_trait",
           ""
          ],
          [
           "Layers 16-23, 25th",
           "role_trait",
           ""
          ],
          [
           "Layers 16-23, 50th",
           "role_trait",
           ""
          ],
          [
           "Layers 16-23, 75th",
           "role_trait",
           ""
          ],
          [
           "Layers 8-15, 1st",
           "role_trait",
           ""
          ],
          [
           "Layers 8-15, 25th",
           "role_trait",
           ""
          ],
          [
           "Layers 8-15, 50th",
           "role_trait",
           ""
          ],
          [
           "Layers 8-15, 75th",
           "role_trait",
           ""
          ]
         ],
         "hovertemplate": "<b>%{customdata[0]}</b><br>Config: %{customdata[1]}<br>Eval Change: %{x:.1f}%<br>Harm Change: %{y:.1f}%<br>%{customdata[2]}<extra></extra>",
         "legendgroup": "role_trait",
         "marker": {
          "color": "#ff7f0e",
          "opacity": 0.6,
          "size": 8
         },
         "mode": "markers",
         "name": "Role/Trait Rollouts",
         "showlegend": true,
         "type": "scatter",
         "x": [
          0.35713267989060427,
          0.29138183637017945,
          0.31040871986639845,
          0.3174928781797878,
          0.19069581865767796,
          0.345291597621867,
          0.0684272375441121,
          -0.8973814254882276,
          -0.5529218253630145,
          -0.968020558880379,
          -3.7842526434862402,
          -7.999523717376915,
          -1.1476485073158798,
          -1.7107680718585803,
          -1.8991171363030528,
          -4.583331574425284,
          -1.150324259429622,
          -1.118190998074036,
          -1.5145528586359411,
          -2.907034371842663,
          -4.083334418416864,
          -8.974889269935039,
          -2.780267035322822,
          -1.708792238420153,
          -1.8988982007238908,
          -1.2268822893339042,
          -0.6187360746316605,
          -0.35571835326332163,
          -1.1257602836230962,
          -1.0609266852324442,
          0.013316138720482337,
          -0.3134342735557836,
          -1.4148764506292073,
          -1.1469393429274861,
          -0.8871102795364947,
          -0.4573568893318057
         ],
         "y": [
          -4.1223041223041115,
          -5.2143052143052175,
          -4.340704340704336,
          -5.978705978705986,
          -6.087906087906082,
          -21.048321048321057,
          -33.38793338793339,
          -52.27955227955228,
          -21.594321594321602,
          -38.3019383019383,
          -48.45754845754846,
          -70.2975702975703,
          -17.117117117117118,
          -26.83592683592683,
          -36.663936663936674,
          -55.99235599235599,
          -15.806715806715804,
          -24.1059241059241,
          -32.514332514332516,
          -44.417144417144414,
          -67.02156702156702,
          -91.15479115479116,
          -47.037947037947035,
          -21.48512148512147,
          -24.97952497952498,
          -13.076713076713082,
          -8.27190827190826,
          -3.6855036855036967,
          -48.894348894348894,
          -28.255528255528255,
          -17.881517881517887,
          -5.869505869505857,
          -23.34152334152334,
          -12.749112749112761,
          -5.541905541905537,
          -3.576303576303567
         ]
        },
        {
         "customdata": [
          [
           "Layers 56-63, 75th",
           "lmsys_10000",
           ""
          ],
          [
           "Layers 56-63, 50th",
           "lmsys_10000",
           ""
          ],
          [
           "Layers 56-63, 25th",
           "lmsys_10000",
           ""
          ],
          [
           "Layers 56-63, 1st",
           "lmsys_10000",
           ""
          ],
          [
           "Layers 48-55, 75th",
           "lmsys_10000",
           ""
          ],
          [
           "Layers 48-55, 50th",
           "lmsys_10000",
           ""
          ],
          [
           "Layers 48-55, 25th",
           "lmsys_10000",
           "<b>PARETO OPTIMAL</b>"
          ],
          [
           "Layers 48-55, 1st",
           "lmsys_10000",
           "<b>PARETO OPTIMAL</b>"
          ],
          [
           "Layers 40-47, 75th",
           "lmsys_10000",
           ""
          ],
          [
           "Layers 40-47, 50th",
           "lmsys_10000",
           ""
          ],
          [
           "Layers 40-47, 25th",
           "lmsys_10000",
           ""
          ],
          [
           "Layers 40-47, 1st",
           "lmsys_10000",
           ""
          ],
          [
           "Layers 32-39, 75th",
           "lmsys_10000",
           ""
          ],
          [
           "Layers 32-39, 50th",
           "lmsys_10000",
           ""
          ],
          [
           "Layers 32-39, 25th",
           "lmsys_10000",
           ""
          ],
          [
           "Layers 32-39, 1st",
           "lmsys_10000",
           ""
          ],
          [
           "Layers 24-31, 75th",
           "lmsys_10000",
           ""
          ],
          [
           "Layers 24-31, 50th",
           "lmsys_10000",
           ""
          ],
          [
           "Layers 24-31, 25th",
           "lmsys_10000",
           ""
          ],
          [
           "Layers 24-31, 1st",
           "lmsys_10000",
           ""
          ],
          [
           "All Layers (0-63), 1st",
           "lmsys_10000",
           ""
          ],
          [
           "All Layers (0-63), 25th",
           "lmsys_10000",
           "<b>PARETO OPTIMAL</b>"
          ],
          [
           "All Layers (0-63), 50th",
           "lmsys_10000",
           "<b>PARETO OPTIMAL</b>"
          ],
          [
           "All Layers (0-63), 75th",
           "lmsys_10000",
           ""
          ],
          [
           "Layers 0-15, 1st",
           "lmsys_10000",
           ""
          ],
          [
           "Layers 0-15, 25th",
           "lmsys_10000",
           ""
          ],
          [
           "Layers 0-15, 50th",
           "lmsys_10000",
           ""
          ],
          [
           "Layers 0-15, 75th",
           "lmsys_10000",
           ""
          ],
          [
           "Layers 16-23, 1st",
           "lmsys_10000",
           ""
          ],
          [
           "Layers 16-23, 25th",
           "lmsys_10000",
           ""
          ],
          [
           "Layers 16-23, 50th",
           "lmsys_10000",
           ""
          ],
          [
           "Layers 16-23, 75th",
           "lmsys_10000",
           ""
          ],
          [
           "Layers 8-15, 1st",
           "lmsys_10000",
           ""
          ],
          [
           "Layers 8-15, 25th",
           "lmsys_10000",
           ""
          ],
          [
           "Layers 8-15, 50th",
           "lmsys_10000",
           ""
          ],
          [
           "Layers 8-15, 75th",
           "lmsys_10000",
           ""
          ]
         ],
         "hovertemplate": "<b>%{customdata[0]}</b><br>Config: %{customdata[1]}<br>Eval Change: %{x:.1f}%<br>Harm Change: %{y:.1f}%<br>%{customdata[2]}<extra></extra>",
         "legendgroup": "lmsys_10000",
         "marker": {
          "color": "#9467bd",
          "opacity": 0.6,
          "size": 8
         },
         "mode": "markers",
         "name": "LMSYS-10K Rollouts",
         "showlegend": true,
         "type": "scatter",
         "x": [
          0.24306868442833407,
          -1.7429057997225126,
          -9.923940244426879,
          -34.38848910893531,
          0.12040150753214143,
          0.18023611181974714,
          0.23431008656423796,
          -0.6994077052816363,
          -0.3863655524755833,
          -0.8631201424583348,
          -2.2032868298144805,
          -5.898525609309687,
          -1.6259960883254254,
          -1.6657812255838436,
          -2.172042496670839,
          -3.2728345688412936,
          -1.445003249379571,
          -0.8939193455106594,
          -1.4350748777000844,
          -3.5033414486505037,
          -17.75082040899164,
          -3.516759697579957,
          -2.265426562320632,
          -2.2079466741393854,
          -2.1074037409397848,
          -1.557818679781833,
          -0.16488488691586517,
          -0.3319906413575003,
          -1.0783586333275519,
          -0.5663322020388106,
          -0.21714963473951537,
          -0.07166819195808496,
          -1.305925117440982,
          -1.0457068972399386,
          -0.8863484508368954,
          -0.8657847754796965
         ],
         "y": [
          -8.490308490308484,
          -9.28143794385833,
          -11.11111111111111,
          -11.001911001911,
          -19.628719628719633,
          -26.332155631518688,
          -30.876330876330876,
          -44.85394485394485,
          -30.111930111930114,
          -33.715533715533724,
          -42.23314223314224,
          -63.308763308763304,
          -21.048321048321057,
          -25.962325962325966,
          -30.15763716400659,
          -49.877149877149876,
          -19.956319956319952,
          -25.088725088725084,
          -30.548730548730557,
          -41.46874146874147,
          -88.86158886158884,
          -68.87796887796888,
          -54.57275457275457,
          -41.031941031941024,
          -26.289926289926285,
          -13.4043134043134,
          -9.691509691509685,
          -5.105105105105105,
          -47.474747474747474,
          -33.16953316953317,
          -19.51951951951952,
          -12.749112749112761,
          -26.83592683592683,
          -17.881517881517887,
          -9.90990990990991,
          -4.88670488670488
         ]
        },
        {
         "hoverinfo": "skip",
         "line": {
          "color": "grey",
          "dash": "dash",
          "width": 1
         },
         "mode": "lines",
         "name": "Pareto Frontier",
         "showlegend": true,
         "type": "scatter",
         "x": [
          -8.974889269935039,
          -6.090650866055766,
          -3.7783239303461,
          -3.516759697579957,
          -3.055611537110516,
          -2.265426562320632,
          -0.8973814254882276,
          -0.6994077052816363,
          0.0684272375441121,
          0.23431008656423796,
          0.345291597621867,
          0.35713267989060427
         ],
         "y": [
          -91.15479115479116,
          -89.1891891891892,
          -70.4067704067704,
          -68.87796887796888,
          -65.16516516516516,
          -54.57275457275457,
          -52.27955227955228,
          -44.85394485394485,
          -33.38793338793339,
          -30.876330876330876,
          -21.048321048321057,
          -4.1223041223041115
         ]
        }
       ],
       "layout": {
        "annotations": [
         {
          "align": "left",
          "font": {
           "color": "#ff7f0e",
           "size": 9
          },
          "showarrow": false,
          "text": "Layers 56-63, 75th %ile",
          "x": 0.35713267989060427,
          "xanchor": "left",
          "xshift": 10,
          "y": -4.1223041223041115,
          "yanchor": "middle"
         },
         {
          "align": "left",
          "font": {
           "color": "#ff7f0e",
           "size": 9
          },
          "showarrow": false,
          "text": "Layers 48-55, 50th %ile",
          "x": 0.345291597621867,
          "xanchor": "left",
          "xshift": 10,
          "y": -21.048321048321057,
          "yanchor": "middle"
         },
         {
          "align": "left",
          "font": {
           "color": "#ff7f0e",
           "size": 9
          },
          "showarrow": false,
          "text": "Layers 48-55, 25th %ile",
          "x": 0.0684272375441121,
          "xanchor": "left",
          "xshift": 10,
          "y": -33.38793338793339,
          "yanchor": "middle"
         },
         {
          "align": "left",
          "font": {
           "color": "#ff7f0e",
           "size": 9
          },
          "showarrow": false,
          "text": "Layers 48-55, 1st %ile",
          "x": -0.8973814254882276,
          "xanchor": "left",
          "xshift": 10,
          "y": -52.27955227955228,
          "yanchor": "middle"
         },
         {
          "align": "left",
          "font": {
           "color": "#ff7f0e",
           "size": 9
          },
          "showarrow": false,
          "text": "All Layers (0-63), 1st %ile",
          "x": -8.974889269935039,
          "xanchor": "left",
          "xshift": 10,
          "y": -91.15479115479116,
          "yanchor": "middle"
         },
         {
          "align": "left",
          "font": {
           "color": "#d62728",
           "size": 9
          },
          "showarrow": false,
          "text": "All Layers (0-63), Safe 50th %ile",
          "x": -3.7783239303461,
          "xanchor": "left",
          "xshift": 10,
          "y": -70.4067704067704,
          "yanchor": "middle"
         },
         {
          "align": "left",
          "font": {
           "color": "#d62728",
           "size": 9
          },
          "showarrow": false,
          "text": "Every 2nd Layer, Safe 50th %ile",
          "x": -3.055611537110516,
          "xanchor": "left",
          "xshift": 10,
          "y": -65.16516516516516,
          "yanchor": "middle"
         },
         {
          "align": "left",
          "font": {
           "color": "#d62728",
           "size": 9
          },
          "showarrow": false,
          "text": "Every 2nd Layer, Safe 99th %ile",
          "x": -6.090650866055766,
          "xanchor": "left",
          "xshift": 10,
          "y": -89.1891891891892,
          "yanchor": "middle"
         },
         {
          "align": "left",
          "font": {
           "color": "#9467bd",
           "size": 9
          },
          "showarrow": false,
          "text": "Layers 48-55, 25th %ile",
          "x": 0.23431008656423796,
          "xanchor": "left",
          "xshift": 10,
          "y": -30.876330876330876,
          "yanchor": "middle"
         },
         {
          "align": "left",
          "font": {
           "color": "#9467bd",
           "size": 9
          },
          "showarrow": false,
          "text": "Layers 48-55, 1st %ile",
          "x": -0.6994077052816363,
          "xanchor": "left",
          "xshift": 10,
          "y": -44.85394485394485,
          "yanchor": "middle"
         },
         {
          "align": "left",
          "font": {
           "color": "#9467bd",
           "size": 9
          },
          "showarrow": false,
          "text": "All Layers (0-63), 25th %ile",
          "x": -3.516759697579957,
          "xanchor": "left",
          "xshift": 10,
          "y": -68.87796887796888,
          "yanchor": "middle"
         },
         {
          "align": "left",
          "font": {
           "color": "#9467bd",
           "size": 9
          },
          "showarrow": false,
          "text": "All Layers (0-63), 50th %ile",
          "x": -2.265426562320632,
          "xanchor": "left",
          "xshift": 10,
          "y": -54.57275457275457,
          "yanchor": "middle"
         },
         {
          "font": {
           "color": "green",
           "size": 10
          },
          "showarrow": false,
          "text": "<b>Ideal</b><br>Unchanged eval<br>Reduced harm",
          "x": 0.32141941190154383,
          "y": -82.03931203931204
         },
         {
          "font": {
           "color": "red",
           "size": 10
          },
          "showarrow": false,
          "text": "<b>Worst</b><br>Worse eval<br>Unchanged harm",
          "x": -30.94964019804178,
          "y": -3.21867321867321
         }
        ],
        "height": 700,
        "hovermode": "closest",
        "legend": {
         "orientation": "v",
         "x": 1.02,
         "xanchor": "left",
         "y": 1,
         "yanchor": "top"
        },
        "shapes": [
         {
          "line": {
           "color": "gray",
           "dash": "dot",
           "width": 1
          },
          "opacity": 0.5,
          "type": "line",
          "x0": 0,
          "x1": 1,
          "xref": "x domain",
          "y0": 0,
          "y1": 0,
          "yref": "y"
         },
         {
          "line": {
           "color": "gray",
           "dash": "dot",
           "width": 1
          },
          "opacity": 0.5,
          "type": "line",
          "x0": 0,
          "x1": 0,
          "xref": "x",
          "y0": 0,
          "y1": 1,
          "yref": "y domain"
         }
        ],
        "template": {
         "data": {
          "bar": [
           {
            "error_x": {
             "color": "#2a3f5f"
            },
            "error_y": {
             "color": "#2a3f5f"
            },
            "marker": {
             "line": {
              "color": "#E5ECF6",
              "width": 0.5
             },
             "pattern": {
              "fillmode": "overlay",
              "size": 10,
              "solidity": 0.2
             }
            },
            "type": "bar"
           }
          ],
          "barpolar": [
           {
            "marker": {
             "line": {
              "color": "#E5ECF6",
              "width": 0.5
             },
             "pattern": {
              "fillmode": "overlay",
              "size": 10,
              "solidity": 0.2
             }
            },
            "type": "barpolar"
           }
          ],
          "carpet": [
           {
            "aaxis": {
             "endlinecolor": "#2a3f5f",
             "gridcolor": "white",
             "linecolor": "white",
             "minorgridcolor": "white",
             "startlinecolor": "#2a3f5f"
            },
            "baxis": {
             "endlinecolor": "#2a3f5f",
             "gridcolor": "white",
             "linecolor": "white",
             "minorgridcolor": "white",
             "startlinecolor": "#2a3f5f"
            },
            "type": "carpet"
           }
          ],
          "choropleth": [
           {
            "colorbar": {
             "outlinewidth": 0,
             "ticks": ""
            },
            "type": "choropleth"
           }
          ],
          "contour": [
           {
            "colorbar": {
             "outlinewidth": 0,
             "ticks": ""
            },
            "colorscale": [
             [
              0,
              "#0d0887"
             ],
             [
              0.1111111111111111,
              "#46039f"
             ],
             [
              0.2222222222222222,
              "#7201a8"
             ],
             [
              0.3333333333333333,
              "#9c179e"
             ],
             [
              0.4444444444444444,
              "#bd3786"
             ],
             [
              0.5555555555555556,
              "#d8576b"
             ],
             [
              0.6666666666666666,
              "#ed7953"
             ],
             [
              0.7777777777777778,
              "#fb9f3a"
             ],
             [
              0.8888888888888888,
              "#fdca26"
             ],
             [
              1,
              "#f0f921"
             ]
            ],
            "type": "contour"
           }
          ],
          "contourcarpet": [
           {
            "colorbar": {
             "outlinewidth": 0,
             "ticks": ""
            },
            "type": "contourcarpet"
           }
          ],
          "heatmap": [
           {
            "colorbar": {
             "outlinewidth": 0,
             "ticks": ""
            },
            "colorscale": [
             [
              0,
              "#0d0887"
             ],
             [
              0.1111111111111111,
              "#46039f"
             ],
             [
              0.2222222222222222,
              "#7201a8"
             ],
             [
              0.3333333333333333,
              "#9c179e"
             ],
             [
              0.4444444444444444,
              "#bd3786"
             ],
             [
              0.5555555555555556,
              "#d8576b"
             ],
             [
              0.6666666666666666,
              "#ed7953"
             ],
             [
              0.7777777777777778,
              "#fb9f3a"
             ],
             [
              0.8888888888888888,
              "#fdca26"
             ],
             [
              1,
              "#f0f921"
             ]
            ],
            "type": "heatmap"
           }
          ],
          "heatmapgl": [
           {
            "colorbar": {
             "outlinewidth": 0,
             "ticks": ""
            },
            "colorscale": [
             [
              0,
              "#0d0887"
             ],
             [
              0.1111111111111111,
              "#46039f"
             ],
             [
              0.2222222222222222,
              "#7201a8"
             ],
             [
              0.3333333333333333,
              "#9c179e"
             ],
             [
              0.4444444444444444,
              "#bd3786"
             ],
             [
              0.5555555555555556,
              "#d8576b"
             ],
             [
              0.6666666666666666,
              "#ed7953"
             ],
             [
              0.7777777777777778,
              "#fb9f3a"
             ],
             [
              0.8888888888888888,
              "#fdca26"
             ],
             [
              1,
              "#f0f921"
             ]
            ],
            "type": "heatmapgl"
           }
          ],
          "histogram": [
           {
            "marker": {
             "pattern": {
              "fillmode": "overlay",
              "size": 10,
              "solidity": 0.2
             }
            },
            "type": "histogram"
           }
          ],
          "histogram2d": [
           {
            "colorbar": {
             "outlinewidth": 0,
             "ticks": ""
            },
            "colorscale": [
             [
              0,
              "#0d0887"
             ],
             [
              0.1111111111111111,
              "#46039f"
             ],
             [
              0.2222222222222222,
              "#7201a8"
             ],
             [
              0.3333333333333333,
              "#9c179e"
             ],
             [
              0.4444444444444444,
              "#bd3786"
             ],
             [
              0.5555555555555556,
              "#d8576b"
             ],
             [
              0.6666666666666666,
              "#ed7953"
             ],
             [
              0.7777777777777778,
              "#fb9f3a"
             ],
             [
              0.8888888888888888,
              "#fdca26"
             ],
             [
              1,
              "#f0f921"
             ]
            ],
            "type": "histogram2d"
           }
          ],
          "histogram2dcontour": [
           {
            "colorbar": {
             "outlinewidth": 0,
             "ticks": ""
            },
            "colorscale": [
             [
              0,
              "#0d0887"
             ],
             [
              0.1111111111111111,
              "#46039f"
             ],
             [
              0.2222222222222222,
              "#7201a8"
             ],
             [
              0.3333333333333333,
              "#9c179e"
             ],
             [
              0.4444444444444444,
              "#bd3786"
             ],
             [
              0.5555555555555556,
              "#d8576b"
             ],
             [
              0.6666666666666666,
              "#ed7953"
             ],
             [
              0.7777777777777778,
              "#fb9f3a"
             ],
             [
              0.8888888888888888,
              "#fdca26"
             ],
             [
              1,
              "#f0f921"
             ]
            ],
            "type": "histogram2dcontour"
           }
          ],
          "mesh3d": [
           {
            "colorbar": {
             "outlinewidth": 0,
             "ticks": ""
            },
            "type": "mesh3d"
           }
          ],
          "parcoords": [
           {
            "line": {
             "colorbar": {
              "outlinewidth": 0,
              "ticks": ""
             }
            },
            "type": "parcoords"
           }
          ],
          "pie": [
           {
            "automargin": true,
            "type": "pie"
           }
          ],
          "scatter": [
           {
            "fillpattern": {
             "fillmode": "overlay",
             "size": 10,
             "solidity": 0.2
            },
            "type": "scatter"
           }
          ],
          "scatter3d": [
           {
            "line": {
             "colorbar": {
              "outlinewidth": 0,
              "ticks": ""
             }
            },
            "marker": {
             "colorbar": {
              "outlinewidth": 0,
              "ticks": ""
             }
            },
            "type": "scatter3d"
           }
          ],
          "scattercarpet": [
           {
            "marker": {
             "colorbar": {
              "outlinewidth": 0,
              "ticks": ""
             }
            },
            "type": "scattercarpet"
           }
          ],
          "scattergeo": [
           {
            "marker": {
             "colorbar": {
              "outlinewidth": 0,
              "ticks": ""
             }
            },
            "type": "scattergeo"
           }
          ],
          "scattergl": [
           {
            "marker": {
             "colorbar": {
              "outlinewidth": 0,
              "ticks": ""
             }
            },
            "type": "scattergl"
           }
          ],
          "scattermapbox": [
           {
            "marker": {
             "colorbar": {
              "outlinewidth": 0,
              "ticks": ""
             }
            },
            "type": "scattermapbox"
           }
          ],
          "scatterpolar": [
           {
            "marker": {
             "colorbar": {
              "outlinewidth": 0,
              "ticks": ""
             }
            },
            "type": "scatterpolar"
           }
          ],
          "scatterpolargl": [
           {
            "marker": {
             "colorbar": {
              "outlinewidth": 0,
              "ticks": ""
             }
            },
            "type": "scatterpolargl"
           }
          ],
          "scatterternary": [
           {
            "marker": {
             "colorbar": {
              "outlinewidth": 0,
              "ticks": ""
             }
            },
            "type": "scatterternary"
           }
          ],
          "surface": [
           {
            "colorbar": {
             "outlinewidth": 0,
             "ticks": ""
            },
            "colorscale": [
             [
              0,
              "#0d0887"
             ],
             [
              0.1111111111111111,
              "#46039f"
             ],
             [
              0.2222222222222222,
              "#7201a8"
             ],
             [
              0.3333333333333333,
              "#9c179e"
             ],
             [
              0.4444444444444444,
              "#bd3786"
             ],
             [
              0.5555555555555556,
              "#d8576b"
             ],
             [
              0.6666666666666666,
              "#ed7953"
             ],
             [
              0.7777777777777778,
              "#fb9f3a"
             ],
             [
              0.8888888888888888,
              "#fdca26"
             ],
             [
              1,
              "#f0f921"
             ]
            ],
            "type": "surface"
           }
          ],
          "table": [
           {
            "cells": {
             "fill": {
              "color": "#EBF0F8"
             },
             "line": {
              "color": "white"
             }
            },
            "header": {
             "fill": {
              "color": "#C8D4E3"
             },
             "line": {
              "color": "white"
             }
            },
            "type": "table"
           }
          ]
         },
         "layout": {
          "annotationdefaults": {
           "arrowcolor": "#2a3f5f",
           "arrowhead": 0,
           "arrowwidth": 1
          },
          "autotypenumbers": "strict",
          "coloraxis": {
           "colorbar": {
            "outlinewidth": 0,
            "ticks": ""
           }
          },
          "colorscale": {
           "diverging": [
            [
             0,
             "#8e0152"
            ],
            [
             0.1,
             "#c51b7d"
            ],
            [
             0.2,
             "#de77ae"
            ],
            [
             0.3,
             "#f1b6da"
            ],
            [
             0.4,
             "#fde0ef"
            ],
            [
             0.5,
             "#f7f7f7"
            ],
            [
             0.6,
             "#e6f5d0"
            ],
            [
             0.7,
             "#b8e186"
            ],
            [
             0.8,
             "#7fbc41"
            ],
            [
             0.9,
             "#4d9221"
            ],
            [
             1,
             "#276419"
            ]
           ],
           "sequential": [
            [
             0,
             "#0d0887"
            ],
            [
             0.1111111111111111,
             "#46039f"
            ],
            [
             0.2222222222222222,
             "#7201a8"
            ],
            [
             0.3333333333333333,
             "#9c179e"
            ],
            [
             0.4444444444444444,
             "#bd3786"
            ],
            [
             0.5555555555555556,
             "#d8576b"
            ],
            [
             0.6666666666666666,
             "#ed7953"
            ],
            [
             0.7777777777777778,
             "#fb9f3a"
            ],
            [
             0.8888888888888888,
             "#fdca26"
            ],
            [
             1,
             "#f0f921"
            ]
           ],
           "sequentialminus": [
            [
             0,
             "#0d0887"
            ],
            [
             0.1111111111111111,
             "#46039f"
            ],
            [
             0.2222222222222222,
             "#7201a8"
            ],
            [
             0.3333333333333333,
             "#9c179e"
            ],
            [
             0.4444444444444444,
             "#bd3786"
            ],
            [
             0.5555555555555556,
             "#d8576b"
            ],
            [
             0.6666666666666666,
             "#ed7953"
            ],
            [
             0.7777777777777778,
             "#fb9f3a"
            ],
            [
             0.8888888888888888,
             "#fdca26"
            ],
            [
             1,
             "#f0f921"
            ]
           ]
          },
          "colorway": [
           "#636efa",
           "#EF553B",
           "#00cc96",
           "#ab63fa",
           "#FFA15A",
           "#19d3f3",
           "#FF6692",
           "#B6E880",
           "#FF97FF",
           "#FECB52"
          ],
          "font": {
           "color": "#2a3f5f"
          },
          "geo": {
           "bgcolor": "white",
           "lakecolor": "white",
           "landcolor": "#E5ECF6",
           "showlakes": true,
           "showland": true,
           "subunitcolor": "white"
          },
          "hoverlabel": {
           "align": "left"
          },
          "hovermode": "closest",
          "mapbox": {
           "style": "light"
          },
          "paper_bgcolor": "white",
          "plot_bgcolor": "#E5ECF6",
          "polar": {
           "angularaxis": {
            "gridcolor": "white",
            "linecolor": "white",
            "ticks": ""
           },
           "bgcolor": "#E5ECF6",
           "radialaxis": {
            "gridcolor": "white",
            "linecolor": "white",
            "ticks": ""
           }
          },
          "scene": {
           "xaxis": {
            "backgroundcolor": "#E5ECF6",
            "gridcolor": "white",
            "gridwidth": 2,
            "linecolor": "white",
            "showbackground": true,
            "ticks": "",
            "zerolinecolor": "white"
           },
           "yaxis": {
            "backgroundcolor": "#E5ECF6",
            "gridcolor": "white",
            "gridwidth": 2,
            "linecolor": "white",
            "showbackground": true,
            "ticks": "",
            "zerolinecolor": "white"
           },
           "zaxis": {
            "backgroundcolor": "#E5ECF6",
            "gridcolor": "white",
            "gridwidth": 2,
            "linecolor": "white",
            "showbackground": true,
            "ticks": "",
            "zerolinecolor": "white"
           }
          },
          "shapedefaults": {
           "line": {
            "color": "#2a3f5f"
           }
          },
          "ternary": {
           "aaxis": {
            "gridcolor": "white",
            "linecolor": "white",
            "ticks": ""
           },
           "baxis": {
            "gridcolor": "white",
            "linecolor": "white",
            "ticks": ""
           },
           "bgcolor": "#E5ECF6",
           "caxis": {
            "gridcolor": "white",
            "linecolor": "white",
            "ticks": ""
           }
          },
          "title": {
           "x": 0.05
          },
          "xaxis": {
           "automargin": true,
           "gridcolor": "white",
           "linecolor": "white",
           "ticks": "",
           "title": {
            "standoff": 15
           },
           "zerolinecolor": "white",
           "zerolinewidth": 2
          },
          "yaxis": {
           "automargin": true,
           "gridcolor": "white",
           "linecolor": "white",
           "ticks": "",
           "title": {
            "standoff": 15
           },
           "zerolinecolor": "white",
           "zerolinewidth": 2
          }
         }
        },
        "title": {
         "subtitle": {
          "text": "Qwen 3 32B, Single-Shot & No Thinking"
         },
         "text": "Pareto Frontier: EQ-Bench Score vs. Harmful Response Rate"
        },
        "width": 1000,
        "xaxis": {
         "gridcolor": "lightgray",
         "showgrid": true,
         "title": {
          "text": "Eval Performance Change (%)"
         },
         "zeroline": true
        },
        "yaxis": {
         "gridcolor": "lightgray",
         "showgrid": true,
         "title": {
          "text": "Harmful Response Rate Reduced (%)"
         },
         "zeroline": true
        }
       }
      },
      "text/html": [
       "<div>                            <div id=\"49d0940c-d4d3-49bb-8a66-06a6a73e67c4\" class=\"plotly-graph-div\" style=\"height:700px; width:1000px;\"></div>            <script type=\"text/javascript\">                require([\"plotly\"], function(Plotly) {                    window.PLOTLYENV=window.PLOTLYENV || {};                                    if (document.getElementById(\"49d0940c-d4d3-49bb-8a66-06a6a73e67c4\")) {                    Plotly.newPlot(                        \"49d0940c-d4d3-49bb-8a66-06a6a73e67c4\",                        [{\"customdata\":[[\"Layers 32-63, Harm 99th\",\"jailbreak\",\"\"],[\"Layers 32-63, Harm 75th\",\"jailbreak\",\"\"],[\"Layers 32-63, Safe 99th\",\"jailbreak\",\"\"],[\"Layers 32-63, Safe 50th\",\"jailbreak\",\"\"],[\"All Layers (0-63), Harm 99th\",\"jailbreak\",\"\"],[\"All Layers (0-63), Harm 75th\",\"jailbreak\",\"\"],[\"All Layers (0-63), Safe 99th\",\"jailbreak\",\"\"],[\"All Layers (0-63), Safe 50th\",\"jailbreak\",\"\\u003cb\\u003ePARETO OPTIMAL\\u003c\\u002fb\\u003e\"],[\"Every 2nd Layer, Harm 75th\",\"jailbreak\",\"\"],[\"Every 2nd Layer, Harm 99th\",\"jailbreak\",\"\"],[\"Every 2nd Layer, Safe 50th\",\"jailbreak\",\"\\u003cb\\u003ePARETO OPTIMAL\\u003c\\u002fb\\u003e\"],[\"Every 2nd Layer, Safe 99th\",\"jailbreak\",\"\\u003cb\\u003ePARETO OPTIMAL\\u003c\\u002fb\\u003e\"],[\"Every 4th Layer, Harm 75th\",\"jailbreak\",\"\"],[\"Every 4th Layer, Harm 99th\",\"jailbreak\",\"\"],[\"Every 4th Layer, Safe 99th\",\"jailbreak\",\"\"],[\"Every 4th Layer, Safe 50th\",\"jailbreak\",\"\"]],\"hovertemplate\":\"\\u003cb\\u003e%{customdata[0]}\\u003c\\u002fb\\u003e\\u003cbr\\u003eConfig: %{customdata[1]}\\u003cbr\\u003eEval Change: %{x:.1f}%\\u003cbr\\u003eHarm Change: %{y:.1f}%\\u003cbr\\u003e%{customdata[2]}\\u003cextra\\u003e\\u003c\\u002fextra\\u003e\",\"legendgroup\":\"jailbreak\",\"marker\":{\"color\":\"#d62728\",\"opacity\":0.6,\"size\":8},\"mode\":\"markers\",\"name\":\"Jailbreak Rollouts\",\"showlegend\":true,\"x\":[-3.2028002579106367,-2.256562858355159,-17.425725845664488,-4.822113257261087,-2.73347864998505,-2.4742230059335313,-9.590746813389435,-3.7783239303461,-1.8463249420696441,-2.592769955525063,-3.055611537110516,-6.090650866055766,-1.0028466991801221,-2.5161862659822645,-6.206126601861057,-3.830753066277638],\"y\":[-47.365547365547364,-24.1059241059241,-79.36117936117935,-61.99836199836201,-53.153153153153156,-28.36472836472837,-89.73518973518973,-70.4067704067704,-22.031122031122035,-53.37155337155337,-65.16516516516516,-89.1891891891892,-21.703521703521698,-51.95195195195195,-85.14878514878515,-61.45236145236145],\"type\":\"scatter\"},{\"customdata\":[[\"Layers 56-63, 75th\",\"role_trait\",\"\\u003cb\\u003ePARETO OPTIMAL\\u003c\\u002fb\\u003e\"],[\"Layers 56-63, 50th\",\"role_trait\",\"\"],[\"Layers 56-63, 25th\",\"role_trait\",\"\"],[\"Layers 56-63, 1st\",\"role_trait\",\"\"],[\"Layers 48-55, 75th\",\"role_trait\",\"\"],[\"Layers 48-55, 50th\",\"role_trait\",\"\\u003cb\\u003ePARETO OPTIMAL\\u003c\\u002fb\\u003e\"],[\"Layers 48-55, 25th\",\"role_trait\",\"\\u003cb\\u003ePARETO OPTIMAL\\u003c\\u002fb\\u003e\"],[\"Layers 48-55, 1st\",\"role_trait\",\"\\u003cb\\u003ePARETO OPTIMAL\\u003c\\u002fb\\u003e\"],[\"Layers 40-47, 75th\",\"role_trait\",\"\"],[\"Layers 40-47, 50th\",\"role_trait\",\"\"],[\"Layers 40-47, 25th\",\"role_trait\",\"\"],[\"Layers 40-47, 1st\",\"role_trait\",\"\"],[\"Layers 32-39, 75th\",\"role_trait\",\"\"],[\"Layers 32-39, 50th\",\"role_trait\",\"\"],[\"Layers 32-39, 25th\",\"role_trait\",\"\"],[\"Layers 32-39, 1st\",\"role_trait\",\"\"],[\"Layers 24-31, 75th\",\"role_trait\",\"\"],[\"Layers 24-31, 50th\",\"role_trait\",\"\"],[\"Layers 24-31, 25th\",\"role_trait\",\"\"],[\"Layers 24-31, 1st\",\"role_trait\",\"\"],[\"All Layers (0-63), 25th\",\"role_trait\",\"\"],[\"All Layers (0-63), 1st\",\"role_trait\",\"\\u003cb\\u003ePARETO OPTIMAL\\u003c\\u002fb\\u003e\"],[\"All Layers (0-63), 50th\",\"role_trait\",\"\"],[\"All Layers (0-63), 75th\",\"role_trait\",\"\"],[\"Layers 0-15, 1st\",\"role_trait\",\"\"],[\"Layers 0-15, 25th\",\"role_trait\",\"\"],[\"Layers 0-15, 50th\",\"role_trait\",\"\"],[\"Layers 0-15, 75th\",\"role_trait\",\"\"],[\"Layers 16-23, 1st\",\"role_trait\",\"\"],[\"Layers 16-23, 25th\",\"role_trait\",\"\"],[\"Layers 16-23, 50th\",\"role_trait\",\"\"],[\"Layers 16-23, 75th\",\"role_trait\",\"\"],[\"Layers 8-15, 1st\",\"role_trait\",\"\"],[\"Layers 8-15, 25th\",\"role_trait\",\"\"],[\"Layers 8-15, 50th\",\"role_trait\",\"\"],[\"Layers 8-15, 75th\",\"role_trait\",\"\"]],\"hovertemplate\":\"\\u003cb\\u003e%{customdata[0]}\\u003c\\u002fb\\u003e\\u003cbr\\u003eConfig: %{customdata[1]}\\u003cbr\\u003eEval Change: %{x:.1f}%\\u003cbr\\u003eHarm Change: %{y:.1f}%\\u003cbr\\u003e%{customdata[2]}\\u003cextra\\u003e\\u003c\\u002fextra\\u003e\",\"legendgroup\":\"role_trait\",\"marker\":{\"color\":\"#ff7f0e\",\"opacity\":0.6,\"size\":8},\"mode\":\"markers\",\"name\":\"Role\\u002fTrait Rollouts\",\"showlegend\":true,\"x\":[0.35713267989060427,0.29138183637017945,0.31040871986639845,0.3174928781797878,0.19069581865767796,0.345291597621867,0.0684272375441121,-0.8973814254882276,-0.5529218253630145,-0.968020558880379,-3.7842526434862402,-7.999523717376915,-1.1476485073158798,-1.7107680718585803,-1.8991171363030528,-4.583331574425284,-1.150324259429622,-1.118190998074036,-1.5145528586359411,-2.907034371842663,-4.083334418416864,-8.974889269935039,-2.780267035322822,-1.708792238420153,-1.8988982007238908,-1.2268822893339042,-0.6187360746316605,-0.35571835326332163,-1.1257602836230962,-1.0609266852324442,0.013316138720482337,-0.3134342735557836,-1.4148764506292073,-1.1469393429274861,-0.8871102795364947,-0.4573568893318057],\"y\":[-4.1223041223041115,-5.2143052143052175,-4.340704340704336,-5.978705978705986,-6.087906087906082,-21.048321048321057,-33.38793338793339,-52.27955227955228,-21.594321594321602,-38.3019383019383,-48.45754845754846,-70.2975702975703,-17.117117117117118,-26.83592683592683,-36.663936663936674,-55.99235599235599,-15.806715806715804,-24.1059241059241,-32.514332514332516,-44.417144417144414,-67.02156702156702,-91.15479115479116,-47.037947037947035,-21.48512148512147,-24.97952497952498,-13.076713076713082,-8.27190827190826,-3.6855036855036967,-48.894348894348894,-28.255528255528255,-17.881517881517887,-5.869505869505857,-23.34152334152334,-12.749112749112761,-5.541905541905537,-3.576303576303567],\"type\":\"scatter\"},{\"customdata\":[[\"Layers 56-63, 75th\",\"lmsys_10000\",\"\"],[\"Layers 56-63, 50th\",\"lmsys_10000\",\"\"],[\"Layers 56-63, 25th\",\"lmsys_10000\",\"\"],[\"Layers 56-63, 1st\",\"lmsys_10000\",\"\"],[\"Layers 48-55, 75th\",\"lmsys_10000\",\"\"],[\"Layers 48-55, 50th\",\"lmsys_10000\",\"\"],[\"Layers 48-55, 25th\",\"lmsys_10000\",\"\\u003cb\\u003ePARETO OPTIMAL\\u003c\\u002fb\\u003e\"],[\"Layers 48-55, 1st\",\"lmsys_10000\",\"\\u003cb\\u003ePARETO OPTIMAL\\u003c\\u002fb\\u003e\"],[\"Layers 40-47, 75th\",\"lmsys_10000\",\"\"],[\"Layers 40-47, 50th\",\"lmsys_10000\",\"\"],[\"Layers 40-47, 25th\",\"lmsys_10000\",\"\"],[\"Layers 40-47, 1st\",\"lmsys_10000\",\"\"],[\"Layers 32-39, 75th\",\"lmsys_10000\",\"\"],[\"Layers 32-39, 50th\",\"lmsys_10000\",\"\"],[\"Layers 32-39, 25th\",\"lmsys_10000\",\"\"],[\"Layers 32-39, 1st\",\"lmsys_10000\",\"\"],[\"Layers 24-31, 75th\",\"lmsys_10000\",\"\"],[\"Layers 24-31, 50th\",\"lmsys_10000\",\"\"],[\"Layers 24-31, 25th\",\"lmsys_10000\",\"\"],[\"Layers 24-31, 1st\",\"lmsys_10000\",\"\"],[\"All Layers (0-63), 1st\",\"lmsys_10000\",\"\"],[\"All Layers (0-63), 25th\",\"lmsys_10000\",\"\\u003cb\\u003ePARETO OPTIMAL\\u003c\\u002fb\\u003e\"],[\"All Layers (0-63), 50th\",\"lmsys_10000\",\"\\u003cb\\u003ePARETO OPTIMAL\\u003c\\u002fb\\u003e\"],[\"All Layers (0-63), 75th\",\"lmsys_10000\",\"\"],[\"Layers 0-15, 1st\",\"lmsys_10000\",\"\"],[\"Layers 0-15, 25th\",\"lmsys_10000\",\"\"],[\"Layers 0-15, 50th\",\"lmsys_10000\",\"\"],[\"Layers 0-15, 75th\",\"lmsys_10000\",\"\"],[\"Layers 16-23, 1st\",\"lmsys_10000\",\"\"],[\"Layers 16-23, 25th\",\"lmsys_10000\",\"\"],[\"Layers 16-23, 50th\",\"lmsys_10000\",\"\"],[\"Layers 16-23, 75th\",\"lmsys_10000\",\"\"],[\"Layers 8-15, 1st\",\"lmsys_10000\",\"\"],[\"Layers 8-15, 25th\",\"lmsys_10000\",\"\"],[\"Layers 8-15, 50th\",\"lmsys_10000\",\"\"],[\"Layers 8-15, 75th\",\"lmsys_10000\",\"\"]],\"hovertemplate\":\"\\u003cb\\u003e%{customdata[0]}\\u003c\\u002fb\\u003e\\u003cbr\\u003eConfig: %{customdata[1]}\\u003cbr\\u003eEval Change: %{x:.1f}%\\u003cbr\\u003eHarm Change: %{y:.1f}%\\u003cbr\\u003e%{customdata[2]}\\u003cextra\\u003e\\u003c\\u002fextra\\u003e\",\"legendgroup\":\"lmsys_10000\",\"marker\":{\"color\":\"#9467bd\",\"opacity\":0.6,\"size\":8},\"mode\":\"markers\",\"name\":\"LMSYS-10K Rollouts\",\"showlegend\":true,\"x\":[0.24306868442833407,-1.7429057997225126,-9.923940244426879,-34.38848910893531,0.12040150753214143,0.18023611181974714,0.23431008656423796,-0.6994077052816363,-0.3863655524755833,-0.8631201424583348,-2.2032868298144805,-5.898525609309687,-1.6259960883254254,-1.6657812255838436,-2.172042496670839,-3.2728345688412936,-1.445003249379571,-0.8939193455106594,-1.4350748777000844,-3.5033414486505037,-17.75082040899164,-3.516759697579957,-2.265426562320632,-2.2079466741393854,-2.1074037409397848,-1.557818679781833,-0.16488488691586517,-0.3319906413575003,-1.0783586333275519,-0.5663322020388106,-0.21714963473951537,-0.07166819195808496,-1.305925117440982,-1.0457068972399386,-0.8863484508368954,-0.8657847754796965],\"y\":[-8.490308490308484,-9.28143794385833,-11.11111111111111,-11.001911001911,-19.628719628719633,-26.332155631518688,-30.876330876330876,-44.85394485394485,-30.111930111930114,-33.715533715533724,-42.23314223314224,-63.308763308763304,-21.048321048321057,-25.962325962325966,-30.15763716400659,-49.877149877149876,-19.956319956319952,-25.088725088725084,-30.548730548730557,-41.46874146874147,-88.86158886158884,-68.87796887796888,-54.57275457275457,-41.031941031941024,-26.289926289926285,-13.4043134043134,-9.691509691509685,-5.105105105105105,-47.474747474747474,-33.16953316953317,-19.51951951951952,-12.749112749112761,-26.83592683592683,-17.881517881517887,-9.90990990990991,-4.88670488670488],\"type\":\"scatter\"},{\"hoverinfo\":\"skip\",\"line\":{\"color\":\"grey\",\"dash\":\"dash\",\"width\":1},\"mode\":\"lines\",\"name\":\"Pareto Frontier\",\"showlegend\":true,\"x\":[-8.974889269935039,-6.090650866055766,-3.7783239303461,-3.516759697579957,-3.055611537110516,-2.265426562320632,-0.8973814254882276,-0.6994077052816363,0.0684272375441121,0.23431008656423796,0.345291597621867,0.35713267989060427],\"y\":[-91.15479115479116,-89.1891891891892,-70.4067704067704,-68.87796887796888,-65.16516516516516,-54.57275457275457,-52.27955227955228,-44.85394485394485,-33.38793338793339,-30.876330876330876,-21.048321048321057,-4.1223041223041115],\"type\":\"scatter\"}],                        {\"template\":{\"data\":{\"histogram2dcontour\":[{\"type\":\"histogram2dcontour\",\"colorbar\":{\"outlinewidth\":0,\"ticks\":\"\"},\"colorscale\":[[0.0,\"#0d0887\"],[0.1111111111111111,\"#46039f\"],[0.2222222222222222,\"#7201a8\"],[0.3333333333333333,\"#9c179e\"],[0.4444444444444444,\"#bd3786\"],[0.5555555555555556,\"#d8576b\"],[0.6666666666666666,\"#ed7953\"],[0.7777777777777778,\"#fb9f3a\"],[0.8888888888888888,\"#fdca26\"],[1.0,\"#f0f921\"]]}],\"choropleth\":[{\"type\":\"choropleth\",\"colorbar\":{\"outlinewidth\":0,\"ticks\":\"\"}}],\"histogram2d\":[{\"type\":\"histogram2d\",\"colorbar\":{\"outlinewidth\":0,\"ticks\":\"\"},\"colorscale\":[[0.0,\"#0d0887\"],[0.1111111111111111,\"#46039f\"],[0.2222222222222222,\"#7201a8\"],[0.3333333333333333,\"#9c179e\"],[0.4444444444444444,\"#bd3786\"],[0.5555555555555556,\"#d8576b\"],[0.6666666666666666,\"#ed7953\"],[0.7777777777777778,\"#fb9f3a\"],[0.8888888888888888,\"#fdca26\"],[1.0,\"#f0f921\"]]}],\"heatmap\":[{\"type\":\"heatmap\",\"colorbar\":{\"outlinewidth\":0,\"ticks\":\"\"},\"colorscale\":[[0.0,\"#0d0887\"],[0.1111111111111111,\"#46039f\"],[0.2222222222222222,\"#7201a8\"],[0.3333333333333333,\"#9c179e\"],[0.4444444444444444,\"#bd3786\"],[0.5555555555555556,\"#d8576b\"],[0.6666666666666666,\"#ed7953\"],[0.7777777777777778,\"#fb9f3a\"],[0.8888888888888888,\"#fdca26\"],[1.0,\"#f0f921\"]]}],\"heatmapgl\":[{\"type\":\"heatmapgl\",\"colorbar\":{\"outlinewidth\":0,\"ticks\":\"\"},\"colorscale\":[[0.0,\"#0d0887\"],[0.1111111111111111,\"#46039f\"],[0.2222222222222222,\"#7201a8\"],[0.3333333333333333,\"#9c179e\"],[0.4444444444444444,\"#bd3786\"],[0.5555555555555556,\"#d8576b\"],[0.6666666666666666,\"#ed7953\"],[0.7777777777777778,\"#fb9f3a\"],[0.8888888888888888,\"#fdca26\"],[1.0,\"#f0f921\"]]}],\"contourcarpet\":[{\"type\":\"contourcarpet\",\"colorbar\":{\"outlinewidth\":0,\"ticks\":\"\"}}],\"contour\":[{\"type\":\"contour\",\"colorbar\":{\"outlinewidth\":0,\"ticks\":\"\"},\"colorscale\":[[0.0,\"#0d0887\"],[0.1111111111111111,\"#46039f\"],[0.2222222222222222,\"#7201a8\"],[0.3333333333333333,\"#9c179e\"],[0.4444444444444444,\"#bd3786\"],[0.5555555555555556,\"#d8576b\"],[0.6666666666666666,\"#ed7953\"],[0.7777777777777778,\"#fb9f3a\"],[0.8888888888888888,\"#fdca26\"],[1.0,\"#f0f921\"]]}],\"surface\":[{\"type\":\"surface\",\"colorbar\":{\"outlinewidth\":0,\"ticks\":\"\"},\"colorscale\":[[0.0,\"#0d0887\"],[0.1111111111111111,\"#46039f\"],[0.2222222222222222,\"#7201a8\"],[0.3333333333333333,\"#9c179e\"],[0.4444444444444444,\"#bd3786\"],[0.5555555555555556,\"#d8576b\"],[0.6666666666666666,\"#ed7953\"],[0.7777777777777778,\"#fb9f3a\"],[0.8888888888888888,\"#fdca26\"],[1.0,\"#f0f921\"]]}],\"mesh3d\":[{\"type\":\"mesh3d\",\"colorbar\":{\"outlinewidth\":0,\"ticks\":\"\"}}],\"scatter\":[{\"fillpattern\":{\"fillmode\":\"overlay\",\"size\":10,\"solidity\":0.2},\"type\":\"scatter\"}],\"parcoords\":[{\"type\":\"parcoords\",\"line\":{\"colorbar\":{\"outlinewidth\":0,\"ticks\":\"\"}}}],\"scatterpolargl\":[{\"type\":\"scatterpolargl\",\"marker\":{\"colorbar\":{\"outlinewidth\":0,\"ticks\":\"\"}}}],\"bar\":[{\"error_x\":{\"color\":\"#2a3f5f\"},\"error_y\":{\"color\":\"#2a3f5f\"},\"marker\":{\"line\":{\"color\":\"#E5ECF6\",\"width\":0.5},\"pattern\":{\"fillmode\":\"overlay\",\"size\":10,\"solidity\":0.2}},\"type\":\"bar\"}],\"scattergeo\":[{\"type\":\"scattergeo\",\"marker\":{\"colorbar\":{\"outlinewidth\":0,\"ticks\":\"\"}}}],\"scatterpolar\":[{\"type\":\"scatterpolar\",\"marker\":{\"colorbar\":{\"outlinewidth\":0,\"ticks\":\"\"}}}],\"histogram\":[{\"marker\":{\"pattern\":{\"fillmode\":\"overlay\",\"size\":10,\"solidity\":0.2}},\"type\":\"histogram\"}],\"scattergl\":[{\"type\":\"scattergl\",\"marker\":{\"colorbar\":{\"outlinewidth\":0,\"ticks\":\"\"}}}],\"scatter3d\":[{\"type\":\"scatter3d\",\"line\":{\"colorbar\":{\"outlinewidth\":0,\"ticks\":\"\"}},\"marker\":{\"colorbar\":{\"outlinewidth\":0,\"ticks\":\"\"}}}],\"scattermapbox\":[{\"type\":\"scattermapbox\",\"marker\":{\"colorbar\":{\"outlinewidth\":0,\"ticks\":\"\"}}}],\"scatterternary\":[{\"type\":\"scatterternary\",\"marker\":{\"colorbar\":{\"outlinewidth\":0,\"ticks\":\"\"}}}],\"scattercarpet\":[{\"type\":\"scattercarpet\",\"marker\":{\"colorbar\":{\"outlinewidth\":0,\"ticks\":\"\"}}}],\"carpet\":[{\"aaxis\":{\"endlinecolor\":\"#2a3f5f\",\"gridcolor\":\"white\",\"linecolor\":\"white\",\"minorgridcolor\":\"white\",\"startlinecolor\":\"#2a3f5f\"},\"baxis\":{\"endlinecolor\":\"#2a3f5f\",\"gridcolor\":\"white\",\"linecolor\":\"white\",\"minorgridcolor\":\"white\",\"startlinecolor\":\"#2a3f5f\"},\"type\":\"carpet\"}],\"table\":[{\"cells\":{\"fill\":{\"color\":\"#EBF0F8\"},\"line\":{\"color\":\"white\"}},\"header\":{\"fill\":{\"color\":\"#C8D4E3\"},\"line\":{\"color\":\"white\"}},\"type\":\"table\"}],\"barpolar\":[{\"marker\":{\"line\":{\"color\":\"#E5ECF6\",\"width\":0.5},\"pattern\":{\"fillmode\":\"overlay\",\"size\":10,\"solidity\":0.2}},\"type\":\"barpolar\"}],\"pie\":[{\"automargin\":true,\"type\":\"pie\"}]},\"layout\":{\"autotypenumbers\":\"strict\",\"colorway\":[\"#636efa\",\"#EF553B\",\"#00cc96\",\"#ab63fa\",\"#FFA15A\",\"#19d3f3\",\"#FF6692\",\"#B6E880\",\"#FF97FF\",\"#FECB52\"],\"font\":{\"color\":\"#2a3f5f\"},\"hovermode\":\"closest\",\"hoverlabel\":{\"align\":\"left\"},\"paper_bgcolor\":\"white\",\"plot_bgcolor\":\"#E5ECF6\",\"polar\":{\"bgcolor\":\"#E5ECF6\",\"angularaxis\":{\"gridcolor\":\"white\",\"linecolor\":\"white\",\"ticks\":\"\"},\"radialaxis\":{\"gridcolor\":\"white\",\"linecolor\":\"white\",\"ticks\":\"\"}},\"ternary\":{\"bgcolor\":\"#E5ECF6\",\"aaxis\":{\"gridcolor\":\"white\",\"linecolor\":\"white\",\"ticks\":\"\"},\"baxis\":{\"gridcolor\":\"white\",\"linecolor\":\"white\",\"ticks\":\"\"},\"caxis\":{\"gridcolor\":\"white\",\"linecolor\":\"white\",\"ticks\":\"\"}},\"coloraxis\":{\"colorbar\":{\"outlinewidth\":0,\"ticks\":\"\"}},\"colorscale\":{\"sequential\":[[0.0,\"#0d0887\"],[0.1111111111111111,\"#46039f\"],[0.2222222222222222,\"#7201a8\"],[0.3333333333333333,\"#9c179e\"],[0.4444444444444444,\"#bd3786\"],[0.5555555555555556,\"#d8576b\"],[0.6666666666666666,\"#ed7953\"],[0.7777777777777778,\"#fb9f3a\"],[0.8888888888888888,\"#fdca26\"],[1.0,\"#f0f921\"]],\"sequentialminus\":[[0.0,\"#0d0887\"],[0.1111111111111111,\"#46039f\"],[0.2222222222222222,\"#7201a8\"],[0.3333333333333333,\"#9c179e\"],[0.4444444444444444,\"#bd3786\"],[0.5555555555555556,\"#d8576b\"],[0.6666666666666666,\"#ed7953\"],[0.7777777777777778,\"#fb9f3a\"],[0.8888888888888888,\"#fdca26\"],[1.0,\"#f0f921\"]],\"diverging\":[[0,\"#8e0152\"],[0.1,\"#c51b7d\"],[0.2,\"#de77ae\"],[0.3,\"#f1b6da\"],[0.4,\"#fde0ef\"],[0.5,\"#f7f7f7\"],[0.6,\"#e6f5d0\"],[0.7,\"#b8e186\"],[0.8,\"#7fbc41\"],[0.9,\"#4d9221\"],[1,\"#276419\"]]},\"xaxis\":{\"gridcolor\":\"white\",\"linecolor\":\"white\",\"ticks\":\"\",\"title\":{\"standoff\":15},\"zerolinecolor\":\"white\",\"automargin\":true,\"zerolinewidth\":2},\"yaxis\":{\"gridcolor\":\"white\",\"linecolor\":\"white\",\"ticks\":\"\",\"title\":{\"standoff\":15},\"zerolinecolor\":\"white\",\"automargin\":true,\"zerolinewidth\":2},\"scene\":{\"xaxis\":{\"backgroundcolor\":\"#E5ECF6\",\"gridcolor\":\"white\",\"linecolor\":\"white\",\"showbackground\":true,\"ticks\":\"\",\"zerolinecolor\":\"white\",\"gridwidth\":2},\"yaxis\":{\"backgroundcolor\":\"#E5ECF6\",\"gridcolor\":\"white\",\"linecolor\":\"white\",\"showbackground\":true,\"ticks\":\"\",\"zerolinecolor\":\"white\",\"gridwidth\":2},\"zaxis\":{\"backgroundcolor\":\"#E5ECF6\",\"gridcolor\":\"white\",\"linecolor\":\"white\",\"showbackground\":true,\"ticks\":\"\",\"zerolinecolor\":\"white\",\"gridwidth\":2}},\"shapedefaults\":{\"line\":{\"color\":\"#2a3f5f\"}},\"annotationdefaults\":{\"arrowcolor\":\"#2a3f5f\",\"arrowhead\":0,\"arrowwidth\":1},\"geo\":{\"bgcolor\":\"white\",\"landcolor\":\"#E5ECF6\",\"subunitcolor\":\"white\",\"showland\":true,\"showlakes\":true,\"lakecolor\":\"white\"},\"title\":{\"x\":0.05},\"mapbox\":{\"style\":\"light\"}}},\"annotations\":[{\"align\":\"left\",\"font\":{\"color\":\"#ff7f0e\",\"size\":9},\"showarrow\":false,\"text\":\"Layers 56-63, 75th %ile\",\"x\":0.35713267989060427,\"xanchor\":\"left\",\"xshift\":10,\"y\":-4.1223041223041115,\"yanchor\":\"middle\"},{\"align\":\"left\",\"font\":{\"color\":\"#ff7f0e\",\"size\":9},\"showarrow\":false,\"text\":\"Layers 48-55, 50th %ile\",\"x\":0.345291597621867,\"xanchor\":\"left\",\"xshift\":10,\"y\":-21.048321048321057,\"yanchor\":\"middle\"},{\"align\":\"left\",\"font\":{\"color\":\"#ff7f0e\",\"size\":9},\"showarrow\":false,\"text\":\"Layers 48-55, 25th %ile\",\"x\":0.0684272375441121,\"xanchor\":\"left\",\"xshift\":10,\"y\":-33.38793338793339,\"yanchor\":\"middle\"},{\"align\":\"left\",\"font\":{\"color\":\"#ff7f0e\",\"size\":9},\"showarrow\":false,\"text\":\"Layers 48-55, 1st %ile\",\"x\":-0.8973814254882276,\"xanchor\":\"left\",\"xshift\":10,\"y\":-52.27955227955228,\"yanchor\":\"middle\"},{\"align\":\"left\",\"font\":{\"color\":\"#ff7f0e\",\"size\":9},\"showarrow\":false,\"text\":\"All Layers (0-63), 1st %ile\",\"x\":-8.974889269935039,\"xanchor\":\"left\",\"xshift\":10,\"y\":-91.15479115479116,\"yanchor\":\"middle\"},{\"align\":\"left\",\"font\":{\"color\":\"#d62728\",\"size\":9},\"showarrow\":false,\"text\":\"All Layers (0-63), Safe 50th %ile\",\"x\":-3.7783239303461,\"xanchor\":\"left\",\"xshift\":10,\"y\":-70.4067704067704,\"yanchor\":\"middle\"},{\"align\":\"left\",\"font\":{\"color\":\"#d62728\",\"size\":9},\"showarrow\":false,\"text\":\"Every 2nd Layer, Safe 50th %ile\",\"x\":-3.055611537110516,\"xanchor\":\"left\",\"xshift\":10,\"y\":-65.16516516516516,\"yanchor\":\"middle\"},{\"align\":\"left\",\"font\":{\"color\":\"#d62728\",\"size\":9},\"showarrow\":false,\"text\":\"Every 2nd Layer, Safe 99th %ile\",\"x\":-6.090650866055766,\"xanchor\":\"left\",\"xshift\":10,\"y\":-89.1891891891892,\"yanchor\":\"middle\"},{\"align\":\"left\",\"font\":{\"color\":\"#9467bd\",\"size\":9},\"showarrow\":false,\"text\":\"Layers 48-55, 25th %ile\",\"x\":0.23431008656423796,\"xanchor\":\"left\",\"xshift\":10,\"y\":-30.876330876330876,\"yanchor\":\"middle\"},{\"align\":\"left\",\"font\":{\"color\":\"#9467bd\",\"size\":9},\"showarrow\":false,\"text\":\"Layers 48-55, 1st %ile\",\"x\":-0.6994077052816363,\"xanchor\":\"left\",\"xshift\":10,\"y\":-44.85394485394485,\"yanchor\":\"middle\"},{\"align\":\"left\",\"font\":{\"color\":\"#9467bd\",\"size\":9},\"showarrow\":false,\"text\":\"All Layers (0-63), 25th %ile\",\"x\":-3.516759697579957,\"xanchor\":\"left\",\"xshift\":10,\"y\":-68.87796887796888,\"yanchor\":\"middle\"},{\"align\":\"left\",\"font\":{\"color\":\"#9467bd\",\"size\":9},\"showarrow\":false,\"text\":\"All Layers (0-63), 50th %ile\",\"x\":-2.265426562320632,\"xanchor\":\"left\",\"xshift\":10,\"y\":-54.57275457275457,\"yanchor\":\"middle\"},{\"font\":{\"color\":\"green\",\"size\":10},\"showarrow\":false,\"text\":\"\\u003cb\\u003eIdeal\\u003c\\u002fb\\u003e\\u003cbr\\u003eUnchanged eval\\u003cbr\\u003eReduced harm\",\"x\":0.32141941190154383,\"y\":-82.03931203931204},{\"font\":{\"color\":\"red\",\"size\":10},\"showarrow\":false,\"text\":\"\\u003cb\\u003eWorst\\u003c\\u002fb\\u003e\\u003cbr\\u003eWorse eval\\u003cbr\\u003eUnchanged harm\",\"x\":-30.94964019804178,\"y\":-3.21867321867321}],\"shapes\":[{\"line\":{\"color\":\"gray\",\"dash\":\"dot\",\"width\":1},\"opacity\":0.5,\"type\":\"line\",\"x0\":0,\"x1\":1,\"xref\":\"x domain\",\"y0\":0,\"y1\":0,\"yref\":\"y\"},{\"line\":{\"color\":\"gray\",\"dash\":\"dot\",\"width\":1},\"opacity\":0.5,\"type\":\"line\",\"x0\":0,\"x1\":0,\"xref\":\"x\",\"y0\":0,\"y1\":1,\"yref\":\"y domain\"}],\"title\":{\"subtitle\":{\"text\":\"Qwen 3 32B, Single-Shot & No Thinking\"},\"text\":\"Pareto Frontier: EQ-Bench Score vs. Harmful Response Rate\"},\"xaxis\":{\"title\":{\"text\":\"Eval Performance Change (%)\"},\"zeroline\":true,\"showgrid\":true,\"gridcolor\":\"lightgray\"},\"yaxis\":{\"title\":{\"text\":\"Harmful Response Rate Reduced (%)\"},\"zeroline\":true,\"showgrid\":true,\"gridcolor\":\"lightgray\"},\"legend\":{\"orientation\":\"v\",\"yanchor\":\"top\",\"y\":1,\"xanchor\":\"left\",\"x\":1.02},\"width\":1000,\"height\":700,\"hovermode\":\"closest\"},                        {\"responsive\": true}                    ).then(function(){\n",
       "                            \n",
       "var gd = document.getElementById('49d0940c-d4d3-49bb-8a66-06a6a73e67c4');\n",
       "var x = new MutationObserver(function (mutations, observer) {{\n",
       "        var display = window.getComputedStyle(gd).display;\n",
       "        if (!display || display === 'none') {{\n",
       "            console.log([gd, 'removed!']);\n",
       "            Plotly.purge(gd);\n",
       "            observer.disconnect();\n",
       "        }}\n",
       "}});\n",
       "\n",
       "// Listen for the removal of the full notebook cells\n",
       "var notebookContainer = gd.closest('#notebook-container');\n",
       "if (notebookContainer) {{\n",
       "    x.observe(notebookContainer, {childList: true});\n",
       "}}\n",
       "\n",
       "// Listen for the clearing of the current output cell\n",
       "var outputEl = gd.closest('.output');\n",
       "if (outputEl) {{\n",
       "    x.observe(outputEl, {childList: true});\n",
       "}}\n",
       "\n",
       "                        })                };                });            </script>        </div>"
      ]
     },
     "metadata": {},
     "output_type": "display_data"
    }
   ],
   "source": [
    "# Plot EQ-Bench Pareto frontier\n",
    "if len(df_eq_pareto) > 0:\n",
    "    fig_eq = plot_pareto_frontier(\n",
    "        df_eq_pareto,\n",
    "        'eq_bench',\n",
    "        EVAL_METRICS['eq_bench']['display_name'],\n",
    "        subtitle=subtitle\n",
    "    )\n",
    "    fig_eq.show()\n",
    "    fig_eq.write_html(f\"{out_dir}/eq_bench.html\")\n",
    "else:\n",
    "    print(\"No data available for EQ-Bench Pareto plot\")"
   ]
  },
  {
   "cell_type": "markdown",
   "id": "summary",
   "metadata": {},
   "source": [
    "## Summary of Pareto-Optimal Configurations\n",
    "\n",
    "Display the Pareto-optimal experiments across all evals."
   ]
  },
  {
   "cell_type": "code",
   "execution_count": null,
   "id": "summary-table",
   "metadata": {},
   "outputs": [],
   "source": [
    "# Combine Pareto points from all evals\n",
    "pareto_summary = []\n",
    "\n",
    "for eval_name, df_pareto in [\n",
    "    ('ifeval', df_ifeval_pareto),\n",
    "    ('mmlu_pro', df_mmlu_pareto),\n",
    "    ('eq_bench', df_eq_pareto)\n",
    "]:\n",
    "    if len(df_pareto) > 0:\n",
    "        pareto_points = df_pareto[df_pareto['is_pareto']].copy()\n",
    "        pareto_points['eval_name'] = eval_name\n",
    "        pareto_summary.append(pareto_points[[\n",
    "            'eval_name', 'config_name', 'experiment_id', 'display_name',\n",
    "            'eval_pct_change', 'harm_pct_change'\n",
    "        ]])\n",
    "\n",
    "if len(pareto_summary) > 0:\n",
    "    df_summary = pd.concat(pareto_summary, ignore_index=True)\n",
    "    df_summary = df_summary.sort_values(['eval_name', 'eval_pct_change'], ascending=[True, False])\n",
    "    \n",
    "    print(\"\\n=== PARETO-OPTIMAL CONFIGURATIONS ===\")\n",
    "    print(f\"\\nTotal Pareto points across all evals: {len(df_summary)}\")\n",
    "    print(\"\\nBy eval:\")\n",
    "    print(df_summary.groupby('eval_name').size())\n",
    "    print(\"\\nBy config:\")\n",
    "    print(df_summary.groupby('config_name').size())\n",
    "    \n",
    "    display(df_summary)\n",
    "else:\n",
    "    print(\"No Pareto-optimal points found\")"
   ]
  }
 ],
 "metadata": {
  "kernelspec": {
   "display_name": ".venv",
   "language": "python",
   "name": "python3"
  },
  "language_info": {
   "codemirror_mode": {
    "name": "ipython",
    "version": 3
   },
   "file_extension": ".py",
   "mimetype": "text/x-python",
   "name": "python",
   "nbconvert_exporter": "python",
   "pygments_lexer": "ipython3",
   "version": "3.13.5"
  }
 },
 "nbformat": 4,
 "nbformat_minor": 5
}
