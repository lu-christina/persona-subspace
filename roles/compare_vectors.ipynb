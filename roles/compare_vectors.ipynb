{
 "cells": [
  {
   "cell_type": "markdown",
   "id": "da516b65",
   "metadata": {},
   "source": [
    "# Compare contrast vectors"
   ]
  },
  {
   "cell_type": "code",
   "execution_count": 2,
   "id": "4f5a268f",
   "metadata": {},
   "outputs": [],
   "source": [
    "import torch\n",
    "import os\n",
    "import sys\n",
    "import numpy as np\n",
    "\n",
    "sys.path.append('.')\n",
    "sys.path.append('..')\n",
    "\n",
    "from utils.pca_utils import *\n",
    "from plots import plot_pc\n"
   ]
  },
  {
   "cell_type": "code",
   "execution_count": 19,
   "id": "ddccc0e6",
   "metadata": {},
   "outputs": [],
   "source": [
    "model_name = \"qwen-3-32b\"\n",
    "layer = 32\n",
    "total_layers = 64\n",
    "base_dir = f\"/workspace/{model_name}\""
   ]
  },
  {
   "cell_type": "code",
   "execution_count": 20,
   "id": "92b08162",
   "metadata": {},
   "outputs": [
    {
     "name": "stderr",
     "output_type": "stream",
     "text": [
      "/root/git/persona-subspace/.venv/lib/python3.13/site-packages/sklearn/base.py:442: InconsistentVersionWarning:\n",
      "\n",
      "Trying to unpickle estimator PCA from version 1.7.0 when using version 1.7.2. This might lead to breaking code or invalid results. Use at your own risk. For more info please refer to:\n",
      "https://scikit-learn.org/stable/model_persistence.html#security-maintainability-limitations\n",
      "\n",
      "/root/git/persona-subspace/.venv/lib/python3.13/site-packages/sklearn/base.py:442: InconsistentVersionWarning:\n",
      "\n",
      "Trying to unpickle estimator StandardScaler from version 1.7.0 when using version 1.7.2. This might lead to breaking code or invalid results. Use at your own risk. For more info please refer to:\n",
      "https://scikit-learn.org/stable/model_persistence.html#security-maintainability-limitations\n",
      "\n"
     ]
    }
   ],
   "source": [
    "# compute PCA for each vector\n",
    "role_results = torch.load(f\"{base_dir}/roles_240/pca/layer{layer}_pos23.pt\", weights_only=False)"
   ]
  },
  {
   "cell_type": "code",
   "execution_count": 21,
   "id": "f3bc2f48",
   "metadata": {},
   "outputs": [
    {
     "name": "stdout",
     "output_type": "stream",
     "text": [
      "torch.Size([463, 64, 5120])\n"
     ]
    }
   ],
   "source": [
    "pos_2_vectors = role_results['vectors']['pos_2']\n",
    "pos_3_vectors = role_results['vectors']['pos_3']\n",
    "pos_2_roles = role_results['roles']['pos_2']\n",
    "pos_3_roles = role_results['roles']['pos_3']\n",
    "\n",
    "combined_vectors = pos_2_vectors + pos_3_vectors\n",
    "float_stack_vectors = torch.stack(combined_vectors).float()\n",
    "print(float_stack_vectors.shape)"
   ]
  },
  {
   "cell_type": "code",
   "execution_count": 24,
   "id": "c2dfa22a",
   "metadata": {},
   "outputs": [
    {
     "name": "stdout",
     "output_type": "stream",
     "text": [
      "PCA fitted with 463 components\n",
      "Cumulative variance for first 5 components: [0.5090459  0.65688956 0.7349645  0.7690813  0.79451   ]\n",
      "\n",
      "PCA Analysis Results:\n",
      "Elbow point at component: 2\n",
      "Dimensions for 70% variance: 3\n",
      "Dimensions for 80% variance: 6\n",
      "Dimensions for 90% variance: 14\n",
      "Dimensions for 95% variance: 31\n",
      "PCA fitted with 463 components\n",
      "Cumulative variance for first 5 components: [0.510143   0.64883673 0.7225447  0.7570902  0.7828112 ]\n",
      "\n",
      "PCA Analysis Results:\n",
      "Elbow point at component: 2\n",
      "Dimensions for 70% variance: 3\n",
      "Dimensions for 80% variance: 6\n",
      "Dimensions for 90% variance: 16\n",
      "Dimensions for 95% variance: 37\n",
      "PCA fitted with 463 components\n",
      "Cumulative variance for first 5 components: [0.5115164  0.64522505 0.7160474  0.7503392  0.77595663]\n",
      "\n",
      "PCA Analysis Results:\n",
      "Elbow point at component: 2\n",
      "Dimensions for 70% variance: 3\n",
      "Dimensions for 80% variance: 7\n",
      "Dimensions for 90% variance: 17\n",
      "Dimensions for 95% variance: 39\n",
      "PCA fitted with 463 components\n",
      "Cumulative variance for first 5 components: [0.5211462 0.6534997 0.7161584 0.7517246 0.7762048]\n",
      "\n",
      "PCA Analysis Results:\n",
      "Elbow point at component: 2\n",
      "Dimensions for 70% variance: 3\n",
      "Dimensions for 80% variance: 7\n",
      "Dimensions for 90% variance: 17\n",
      "Dimensions for 95% variance: 39\n",
      "PCA fitted with 463 components\n",
      "Cumulative variance for first 5 components: [0.4986623  0.6470251  0.7011808  0.73837113 0.76484984]\n",
      "\n",
      "PCA Analysis Results:\n",
      "Elbow point at component: 2\n",
      "Dimensions for 70% variance: 3\n",
      "Dimensions for 80% variance: 7\n",
      "Dimensions for 90% variance: 18\n",
      "Dimensions for 95% variance: 40\n",
      "PCA fitted with 463 components\n",
      "Cumulative variance for first 5 components: [0.47394988 0.621842   0.6762556  0.712602   0.7406079 ]\n",
      "\n",
      "PCA Analysis Results:\n",
      "Elbow point at component: 2\n",
      "Dimensions for 70% variance: 4\n",
      "Dimensions for 80% variance: 8\n",
      "Dimensions for 90% variance: 20\n",
      "Dimensions for 95% variance: 43\n",
      "PCA fitted with 463 components\n",
      "Cumulative variance for first 5 components: [0.4697152  0.61325014 0.6680861  0.7019044  0.72908515]\n",
      "\n",
      "PCA Analysis Results:\n",
      "Elbow point at component: 2\n",
      "Dimensions for 70% variance: 4\n",
      "Dimensions for 80% variance: 9\n",
      "Dimensions for 90% variance: 23\n",
      "Dimensions for 95% variance: 46\n",
      "PCA fitted with 463 components\n",
      "Cumulative variance for first 5 components: [0.45687196 0.59176624 0.64486194 0.67810065 0.7054761 ]\n",
      "\n",
      "PCA Analysis Results:\n",
      "Elbow point at component: 2\n",
      "Dimensions for 70% variance: 5\n",
      "Dimensions for 80% variance: 11\n",
      "Dimensions for 90% variance: 29\n",
      "Dimensions for 95% variance: 57\n",
      "PCA fitted with 463 components\n",
      "Cumulative variance for first 5 components: [0.44389573 0.59238404 0.65050864 0.68442214 0.71341074]\n",
      "\n",
      "PCA Analysis Results:\n",
      "Elbow point at component: 2\n",
      "Dimensions for 70% variance: 5\n",
      "Dimensions for 80% variance: 10\n",
      "Dimensions for 90% variance: 27\n",
      "Dimensions for 95% variance: 54\n",
      "PCA fitted with 463 components\n",
      "Cumulative variance for first 5 components: [0.48403874 0.6290622  0.68339306 0.7151351  0.7407466 ]\n",
      "\n",
      "PCA Analysis Results:\n",
      "Elbow point at component: 2\n",
      "Dimensions for 70% variance: 4\n",
      "Dimensions for 80% variance: 9\n",
      "Dimensions for 90% variance: 25\n",
      "Dimensions for 95% variance: 51\n",
      "PCA fitted with 463 components\n",
      "Cumulative variance for first 5 components: [0.51128155 0.65272593 0.7045801  0.7348069  0.75876415]\n",
      "\n",
      "PCA Analysis Results:\n",
      "Elbow point at component: 2\n",
      "Dimensions for 70% variance: 3\n",
      "Dimensions for 80% variance: 8\n",
      "Dimensions for 90% variance: 22\n",
      "Dimensions for 95% variance: 47\n",
      "PCA fitted with 463 components\n",
      "Cumulative variance for first 5 components: [0.54807913 0.6760574  0.7239698  0.7523685  0.773688  ]\n",
      "\n",
      "PCA Analysis Results:\n",
      "Elbow point at component: 2\n",
      "Dimensions for 70% variance: 3\n",
      "Dimensions for 80% variance: 7\n",
      "Dimensions for 90% variance: 21\n",
      "Dimensions for 95% variance: 45\n",
      "PCA fitted with 463 components\n",
      "Cumulative variance for first 5 components: [0.5347795 0.6660578 0.7158339 0.7460741 0.7683739]\n",
      "\n",
      "PCA Analysis Results:\n",
      "Elbow point at component: 2\n",
      "Dimensions for 70% variance: 3\n",
      "Dimensions for 80% variance: 7\n",
      "Dimensions for 90% variance: 21\n",
      "Dimensions for 95% variance: 46\n",
      "PCA fitted with 463 components\n",
      "Cumulative variance for first 5 components: [0.4612339  0.6038871  0.6618519  0.69601667 0.72127694]\n",
      "\n",
      "PCA Analysis Results:\n",
      "Elbow point at component: 2\n",
      "Dimensions for 70% variance: 5\n",
      "Dimensions for 80% variance: 10\n",
      "Dimensions for 90% variance: 28\n",
      "Dimensions for 95% variance: 56\n",
      "PCA fitted with 463 components\n",
      "Cumulative variance for first 5 components: [0.43968296 0.58370805 0.64467525 0.68181586 0.70830655]\n",
      "\n",
      "PCA Analysis Results:\n",
      "Elbow point at component: 2\n",
      "Dimensions for 70% variance: 5\n",
      "Dimensions for 80% variance: 11\n",
      "Dimensions for 90% variance: 29\n",
      "Dimensions for 95% variance: 58\n",
      "PCA fitted with 463 components\n",
      "Cumulative variance for first 5 components: [0.44878313 0.59018844 0.6500277  0.6873334  0.7140588 ]\n",
      "\n",
      "PCA Analysis Results:\n",
      "Elbow point at component: 2\n",
      "Dimensions for 70% variance: 5\n",
      "Dimensions for 80% variance: 10\n",
      "Dimensions for 90% variance: 28\n",
      "Dimensions for 95% variance: 57\n",
      "PCA fitted with 463 components\n",
      "Cumulative variance for first 5 components: [0.45347056 0.59444386 0.6540442  0.6921509  0.7190542 ]\n",
      "\n",
      "PCA Analysis Results:\n",
      "Elbow point at component: 2\n",
      "Dimensions for 70% variance: 5\n",
      "Dimensions for 80% variance: 10\n",
      "Dimensions for 90% variance: 27\n",
      "Dimensions for 95% variance: 54\n",
      "PCA fitted with 463 components\n",
      "Cumulative variance for first 5 components: [0.44098598 0.58203846 0.6425016  0.68180436 0.71011966]\n",
      "\n",
      "PCA Analysis Results:\n",
      "Elbow point at component: 2\n",
      "Dimensions for 70% variance: 5\n",
      "Dimensions for 80% variance: 10\n",
      "Dimensions for 90% variance: 27\n",
      "Dimensions for 95% variance: 55\n",
      "PCA fitted with 463 components\n",
      "Cumulative variance for first 5 components: [0.45203677 0.5935903  0.6541084  0.693129   0.7217101 ]\n",
      "\n",
      "PCA Analysis Results:\n",
      "Elbow point at component: 2\n",
      "Dimensions for 70% variance: 5\n",
      "Dimensions for 80% variance: 10\n",
      "Dimensions for 90% variance: 25\n",
      "Dimensions for 95% variance: 52\n",
      "PCA fitted with 463 components\n",
      "Cumulative variance for first 5 components: [0.45553052 0.59381557 0.65351063 0.6931092  0.7220922 ]\n",
      "\n",
      "PCA Analysis Results:\n",
      "Elbow point at component: 2\n",
      "Dimensions for 70% variance: 5\n",
      "Dimensions for 80% variance: 10\n",
      "Dimensions for 90% variance: 25\n",
      "Dimensions for 95% variance: 52\n",
      "PCA fitted with 463 components\n",
      "Cumulative variance for first 5 components: [0.47124588 0.6051341  0.6633931  0.70310116 0.7318142 ]\n",
      "\n",
      "PCA Analysis Results:\n",
      "Elbow point at component: 2\n",
      "Dimensions for 70% variance: 4\n",
      "Dimensions for 80% variance: 9\n",
      "Dimensions for 90% variance: 24\n",
      "Dimensions for 95% variance: 49\n",
      "PCA fitted with 463 components\n",
      "Cumulative variance for first 5 components: [0.46866712 0.5933598  0.6519656  0.6926558  0.7219369 ]\n",
      "\n",
      "PCA Analysis Results:\n",
      "Elbow point at component: 2\n",
      "Dimensions for 70% variance: 5\n",
      "Dimensions for 80% variance: 10\n",
      "Dimensions for 90% variance: 26\n",
      "Dimensions for 95% variance: 53\n",
      "PCA fitted with 463 components\n",
      "Cumulative variance for first 5 components: [0.47663397 0.59364104 0.6514042  0.6936376  0.7241729 ]\n",
      "\n",
      "PCA Analysis Results:\n",
      "Elbow point at component: 2\n",
      "Dimensions for 70% variance: 5\n",
      "Dimensions for 80% variance: 9\n",
      "Dimensions for 90% variance: 25\n",
      "Dimensions for 95% variance: 52\n",
      "PCA fitted with 463 components\n",
      "Cumulative variance for first 5 components: [0.5005797  0.61022365 0.6656313  0.7065185  0.7363426 ]\n",
      "\n",
      "PCA Analysis Results:\n",
      "Elbow point at component: 2\n",
      "Dimensions for 70% variance: 4\n",
      "Dimensions for 80% variance: 9\n",
      "Dimensions for 90% variance: 23\n",
      "Dimensions for 95% variance: 49\n",
      "PCA fitted with 463 components\n",
      "Cumulative variance for first 5 components: [0.43910918 0.54695266 0.60745853 0.6506506  0.68124   ]\n",
      "\n",
      "PCA Analysis Results:\n",
      "Elbow point at component: 2\n",
      "Dimensions for 70% variance: 6\n",
      "Dimensions for 80% variance: 13\n",
      "Dimensions for 90% variance: 33\n",
      "Dimensions for 95% variance: 65\n",
      "PCA fitted with 463 components\n",
      "Cumulative variance for first 5 components: [0.43186504 0.5385153  0.6012245  0.6451216  0.6752569 ]\n",
      "\n",
      "PCA Analysis Results:\n",
      "Elbow point at component: 2\n",
      "Dimensions for 70% variance: 6\n",
      "Dimensions for 80% variance: 13\n",
      "Dimensions for 90% variance: 33\n",
      "Dimensions for 95% variance: 66\n",
      "PCA fitted with 463 components\n",
      "Cumulative variance for first 5 components: [0.40976572 0.5451445  0.613315   0.655483   0.6855549 ]\n",
      "\n",
      "PCA Analysis Results:\n",
      "Elbow point at component: 2\n",
      "Dimensions for 70% variance: 6\n",
      "Dimensions for 80% variance: 12\n",
      "Dimensions for 90% variance: 32\n",
      "Dimensions for 95% variance: 64\n",
      "PCA fitted with 463 components\n",
      "Cumulative variance for first 5 components: [0.40028483 0.5418182  0.61085624 0.6526693  0.683124  ]\n",
      "\n",
      "PCA Analysis Results:\n",
      "Elbow point at component: 2\n",
      "Dimensions for 70% variance: 6\n",
      "Dimensions for 80% variance: 12\n",
      "Dimensions for 90% variance: 32\n",
      "Dimensions for 95% variance: 65\n",
      "PCA fitted with 463 components\n",
      "Cumulative variance for first 5 components: [0.3880172 0.5292689 0.5961134 0.6371291 0.6671204]\n",
      "\n",
      "PCA Analysis Results:\n",
      "Elbow point at component: 2\n",
      "Dimensions for 70% variance: 7\n",
      "Dimensions for 80% variance: 14\n",
      "Dimensions for 90% variance: 37\n",
      "Dimensions for 95% variance: 72\n",
      "PCA fitted with 463 components\n",
      "Cumulative variance for first 5 components: [0.37871015 0.530379   0.5973801  0.63820964 0.6689917 ]\n",
      "\n",
      "PCA Analysis Results:\n",
      "Elbow point at component: 2\n",
      "Dimensions for 70% variance: 7\n",
      "Dimensions for 80% variance: 14\n",
      "Dimensions for 90% variance: 36\n",
      "Dimensions for 95% variance: 71\n",
      "PCA fitted with 463 components\n",
      "Cumulative variance for first 5 components: [0.38447964 0.5301641  0.5950314  0.63531226 0.66540027]\n",
      "\n",
      "PCA Analysis Results:\n",
      "Elbow point at component: 2\n",
      "Dimensions for 70% variance: 7\n",
      "Dimensions for 80% variance: 14\n",
      "Dimensions for 90% variance: 38\n",
      "Dimensions for 95% variance: 73\n",
      "PCA fitted with 463 components\n",
      "Cumulative variance for first 5 components: [0.36242035 0.49774367 0.56680506 0.6100614  0.639593  ]\n",
      "\n",
      "PCA Analysis Results:\n",
      "Elbow point at component: 2\n",
      "Dimensions for 70% variance: 8\n",
      "Dimensions for 80% variance: 17\n",
      "Dimensions for 90% variance: 42\n",
      "Dimensions for 95% variance: 79\n",
      "PCA fitted with 463 components\n",
      "Cumulative variance for first 5 components: [0.36477154 0.4982803  0.56829035 0.6136383  0.64353096]\n",
      "\n",
      "PCA Analysis Results:\n",
      "Elbow point at component: 2\n",
      "Dimensions for 70% variance: 8\n",
      "Dimensions for 80% variance: 16\n",
      "Dimensions for 90% variance: 40\n",
      "Dimensions for 95% variance: 76\n",
      "PCA fitted with 463 components\n",
      "Cumulative variance for first 5 components: [0.3768804  0.5136448  0.5836834  0.62918216 0.6598303 ]\n",
      "\n",
      "PCA Analysis Results:\n",
      "Elbow point at component: 2\n",
      "Dimensions for 70% variance: 7\n",
      "Dimensions for 80% variance: 14\n",
      "Dimensions for 90% variance: 37\n",
      "Dimensions for 95% variance: 72\n",
      "PCA fitted with 463 components\n",
      "Cumulative variance for first 5 components: [0.38995248 0.52930796 0.59814566 0.64318526 0.67425394]\n",
      "\n",
      "PCA Analysis Results:\n",
      "Elbow point at component: 2\n",
      "Dimensions for 70% variance: 6\n",
      "Dimensions for 80% variance: 13\n",
      "Dimensions for 90% variance: 34\n",
      "Dimensions for 95% variance: 67\n",
      "PCA fitted with 463 components\n",
      "Cumulative variance for first 5 components: [0.4042757  0.541191   0.6085153  0.65259576 0.6835346 ]\n",
      "\n",
      "PCA Analysis Results:\n",
      "Elbow point at component: 2\n",
      "Dimensions for 70% variance: 6\n",
      "Dimensions for 80% variance: 12\n",
      "Dimensions for 90% variance: 32\n",
      "Dimensions for 95% variance: 64\n",
      "PCA fitted with 463 components\n",
      "Cumulative variance for first 5 components: [0.40125382 0.5402252  0.60823035 0.6533769  0.6851239 ]\n",
      "\n",
      "PCA Analysis Results:\n",
      "Elbow point at component: 2\n",
      "Dimensions for 70% variance: 6\n",
      "Dimensions for 80% variance: 12\n",
      "Dimensions for 90% variance: 31\n",
      "Dimensions for 95% variance: 62\n",
      "PCA fitted with 463 components\n",
      "Cumulative variance for first 5 components: [0.37500215 0.5136978  0.5859709  0.6344527  0.66808605]\n",
      "\n",
      "PCA Analysis Results:\n",
      "Elbow point at component: 2\n",
      "Dimensions for 70% variance: 7\n",
      "Dimensions for 80% variance: 13\n",
      "Dimensions for 90% variance: 33\n",
      "Dimensions for 95% variance: 64\n",
      "PCA fitted with 463 components\n",
      "Cumulative variance for first 5 components: [0.3641713  0.5024838  0.57805324 0.6296966  0.6645878 ]\n",
      "\n",
      "PCA Analysis Results:\n",
      "Elbow point at component: 2\n",
      "Dimensions for 70% variance: 7\n",
      "Dimensions for 80% variance: 13\n",
      "Dimensions for 90% variance: 32\n",
      "Dimensions for 95% variance: 62\n",
      "PCA fitted with 463 components\n",
      "Cumulative variance for first 5 components: [0.3750258  0.5121982  0.5877597  0.6401137  0.67596525]\n",
      "\n",
      "PCA Analysis Results:\n",
      "Elbow point at component: 2\n",
      "Dimensions for 70% variance: 6\n",
      "Dimensions for 80% variance: 12\n",
      "Dimensions for 90% variance: 29\n",
      "Dimensions for 95% variance: 57\n",
      "PCA fitted with 463 components\n",
      "Cumulative variance for first 5 components: [0.38898468 0.52379143 0.5986197  0.6518145  0.68758583]\n",
      "\n",
      "PCA Analysis Results:\n",
      "Elbow point at component: 2\n",
      "Dimensions for 70% variance: 6\n",
      "Dimensions for 80% variance: 11\n",
      "Dimensions for 90% variance: 27\n",
      "Dimensions for 95% variance: 53\n",
      "PCA fitted with 463 components\n",
      "Cumulative variance for first 5 components: [0.39487466 0.5253024  0.6010646  0.6553734  0.69124585]\n",
      "\n",
      "PCA Analysis Results:\n",
      "Elbow point at component: 2\n",
      "Dimensions for 70% variance: 6\n",
      "Dimensions for 80% variance: 11\n",
      "Dimensions for 90% variance: 25\n",
      "Dimensions for 95% variance: 49\n",
      "PCA fitted with 463 components\n",
      "Cumulative variance for first 5 components: [0.40792835 0.53959507 0.61558264 0.66914797 0.70491636]\n",
      "\n",
      "PCA Analysis Results:\n",
      "Elbow point at component: 2\n",
      "Dimensions for 70% variance: 5\n",
      "Dimensions for 80% variance: 10\n",
      "Dimensions for 90% variance: 23\n",
      "Dimensions for 95% variance: 46\n",
      "PCA fitted with 463 components\n",
      "Cumulative variance for first 5 components: [0.41845018 0.5476108  0.6218748  0.67508936 0.71072686]\n",
      "\n",
      "PCA Analysis Results:\n",
      "Elbow point at component: 2\n",
      "Dimensions for 70% variance: 5\n",
      "Dimensions for 80% variance: 9\n",
      "Dimensions for 90% variance: 22\n",
      "Dimensions for 95% variance: 44\n",
      "PCA fitted with 463 components\n",
      "Cumulative variance for first 5 components: [0.42689407 0.55388296 0.6267758  0.678805   0.71461374]\n",
      "\n",
      "PCA Analysis Results:\n",
      "Elbow point at component: 2\n",
      "Dimensions for 70% variance: 5\n",
      "Dimensions for 80% variance: 9\n",
      "Dimensions for 90% variance: 22\n",
      "Dimensions for 95% variance: 43\n",
      "PCA fitted with 463 components\n",
      "Cumulative variance for first 5 components: [0.41031575 0.53511655 0.61030865 0.6635877  0.7002841 ]\n",
      "\n",
      "PCA Analysis Results:\n",
      "Elbow point at component: 2\n",
      "Dimensions for 70% variance: 5\n",
      "Dimensions for 80% variance: 10\n",
      "Dimensions for 90% variance: 23\n",
      "Dimensions for 95% variance: 47\n",
      "PCA fitted with 463 components\n",
      "Cumulative variance for first 5 components: [0.41389292 0.53459626 0.611546   0.66437286 0.70244235]\n",
      "\n",
      "PCA Analysis Results:\n",
      "Elbow point at component: 2\n",
      "Dimensions for 70% variance: 5\n",
      "Dimensions for 80% variance: 10\n",
      "Dimensions for 90% variance: 23\n",
      "Dimensions for 95% variance: 46\n",
      "PCA fitted with 463 components\n",
      "Cumulative variance for first 5 components: [0.42175874 0.5383916  0.6149142  0.66547453 0.7032792 ]\n",
      "\n",
      "PCA Analysis Results:\n",
      "Elbow point at component: 2\n",
      "Dimensions for 70% variance: 5\n",
      "Dimensions for 80% variance: 10\n",
      "Dimensions for 90% variance: 23\n",
      "Dimensions for 95% variance: 46\n",
      "PCA fitted with 463 components\n",
      "Cumulative variance for first 5 components: [0.37129053 0.4868447  0.571354   0.62228143 0.6598755 ]\n",
      "\n",
      "PCA Analysis Results:\n",
      "Elbow point at component: 2\n",
      "Dimensions for 70% variance: 7\n",
      "Dimensions for 80% variance: 12\n",
      "Dimensions for 90% variance: 29\n",
      "Dimensions for 95% variance: 55\n",
      "PCA fitted with 463 components\n",
      "Cumulative variance for first 5 components: [0.3606047  0.4803459  0.56953144 0.6198287  0.65732276]\n",
      "\n",
      "PCA Analysis Results:\n",
      "Elbow point at component: 2\n",
      "Dimensions for 70% variance: 7\n",
      "Dimensions for 80% variance: 12\n",
      "Dimensions for 90% variance: 29\n",
      "Dimensions for 95% variance: 55\n",
      "PCA fitted with 463 components\n",
      "Cumulative variance for first 5 components: [0.3485335  0.48744822 0.5806232  0.6290642  0.6650357 ]\n",
      "\n",
      "PCA Analysis Results:\n",
      "Elbow point at component: 2\n",
      "Dimensions for 70% variance: 7\n",
      "Dimensions for 80% variance: 12\n",
      "Dimensions for 90% variance: 29\n",
      "Dimensions for 95% variance: 55\n",
      "PCA fitted with 463 components\n",
      "Cumulative variance for first 5 components: [0.34048557 0.4821536  0.5781797  0.6271851  0.6634053 ]\n",
      "\n",
      "PCA Analysis Results:\n",
      "Elbow point at component: 2\n",
      "Dimensions for 70% variance: 7\n",
      "Dimensions for 80% variance: 12\n",
      "Dimensions for 90% variance: 29\n",
      "Dimensions for 95% variance: 57\n",
      "PCA fitted with 463 components\n",
      "Cumulative variance for first 5 components: [0.32025096 0.45906603 0.55231637 0.5995434  0.63656086]\n",
      "\n",
      "PCA Analysis Results:\n",
      "Elbow point at component: 2\n",
      "Dimensions for 70% variance: 8\n",
      "Dimensions for 80% variance: 15\n",
      "Dimensions for 90% variance: 35\n",
      "Dimensions for 95% variance: 66\n",
      "PCA fitted with 463 components\n",
      "Cumulative variance for first 5 components: [0.3258139  0.49046326 0.5840839  0.629974   0.6654586 ]\n",
      "\n",
      "PCA Analysis Results:\n",
      "Elbow point at component: 2\n",
      "Dimensions for 70% variance: 7\n",
      "Dimensions for 80% variance: 13\n",
      "Dimensions for 90% variance: 31\n",
      "Dimensions for 95% variance: 60\n",
      "PCA fitted with 463 components\n",
      "Cumulative variance for first 5 components: [0.30639848 0.46798402 0.5593605  0.60382056 0.64060587]\n",
      "\n",
      "PCA Analysis Results:\n",
      "Elbow point at component: 2\n",
      "Dimensions for 70% variance: 8\n",
      "Dimensions for 80% variance: 15\n",
      "Dimensions for 90% variance: 37\n",
      "Dimensions for 95% variance: 68\n",
      "PCA fitted with 463 components\n",
      "Cumulative variance for first 5 components: [0.2889197 0.45321   0.5455276 0.5893405 0.6249491]\n",
      "\n",
      "PCA Analysis Results:\n",
      "Elbow point at component: 2\n",
      "Dimensions for 70% variance: 8\n",
      "Dimensions for 80% variance: 17\n",
      "Dimensions for 90% variance: 40\n",
      "Dimensions for 95% variance: 73\n",
      "PCA fitted with 463 components\n",
      "Cumulative variance for first 5 components: [0.27859062 0.4395063  0.5334453  0.5784904  0.6158598 ]\n",
      "\n",
      "PCA Analysis Results:\n",
      "Elbow point at component: 2\n",
      "Dimensions for 70% variance: 9\n",
      "Dimensions for 80% variance: 18\n",
      "Dimensions for 90% variance: 42\n",
      "Dimensions for 95% variance: 75\n",
      "PCA fitted with 463 components\n",
      "Cumulative variance for first 5 components: [0.27003393 0.42639256 0.5186486  0.56530356 0.60291415]\n",
      "\n",
      "PCA Analysis Results:\n",
      "Elbow point at component: 2\n",
      "Dimensions for 70% variance: 10\n",
      "Dimensions for 80% variance: 19\n",
      "Dimensions for 90% variance: 45\n",
      "Dimensions for 95% variance: 78\n",
      "PCA fitted with 463 components\n",
      "Cumulative variance for first 5 components: [0.2689811  0.4232778  0.51875865 0.5681709  0.60631514]\n",
      "\n",
      "PCA Analysis Results:\n",
      "Elbow point at component: 2\n",
      "Dimensions for 70% variance: 9\n",
      "Dimensions for 80% variance: 19\n",
      "Dimensions for 90% variance: 44\n",
      "Dimensions for 95% variance: 78\n",
      "PCA fitted with 463 components\n",
      "Cumulative variance for first 5 components: [0.2700361  0.4304849  0.52594745 0.5753114  0.613609  ]\n",
      "\n",
      "PCA Analysis Results:\n",
      "Elbow point at component: 2\n",
      "Dimensions for 70% variance: 9\n",
      "Dimensions for 80% variance: 18\n",
      "Dimensions for 90% variance: 43\n",
      "Dimensions for 95% variance: 77\n",
      "PCA fitted with 463 components\n",
      "Cumulative variance for first 5 components: [0.26631874 0.4158062  0.51084435 0.5597667  0.5986804 ]\n",
      "\n",
      "PCA Analysis Results:\n",
      "Elbow point at component: 2\n",
      "Dimensions for 70% variance: 10\n",
      "Dimensions for 80% variance: 20\n",
      "Dimensions for 90% variance: 46\n",
      "Dimensions for 95% variance: 81\n",
      "PCA fitted with 463 components\n",
      "Cumulative variance for first 5 components: [0.27219465 0.41976446 0.51707137 0.56429696 0.60305446]\n",
      "\n",
      "PCA Analysis Results:\n",
      "Elbow point at component: 2\n",
      "Dimensions for 70% variance: 10\n",
      "Dimensions for 80% variance: 19\n",
      "Dimensions for 90% variance: 45\n",
      "Dimensions for 95% variance: 80\n",
      "PCA fitted with 463 components\n",
      "Cumulative variance for first 5 components: [0.29353267 0.43817818 0.5346278  0.57809937 0.61567074]\n",
      "\n",
      "PCA Analysis Results:\n",
      "Elbow point at component: 2\n",
      "Dimensions for 70% variance: 9\n",
      "Dimensions for 80% variance: 18\n",
      "Dimensions for 90% variance: 44\n",
      "Dimensions for 95% variance: 78\n",
      "PCA fitted with 463 components\n",
      "Cumulative variance for first 5 components: [0.38198435 0.52572    0.61615247 0.65694004 0.69270056]\n",
      "\n",
      "PCA Analysis Results:\n",
      "Elbow point at component: 2\n",
      "Dimensions for 70% variance: 6\n",
      "Dimensions for 80% variance: 11\n",
      "Dimensions for 90% variance: 27\n",
      "Dimensions for 95% variance: 53\n"
     ]
    }
   ],
   "source": [
    "pc1 = []\n",
    "for i in range(float_stack_vectors.shape[1]):\n",
    "    scaler = MeanScaler()\n",
    "    pca_transformed, variance_explained, n_components, pca, scaler = compute_pca(\n",
    "        float_stack_vectors, \n",
    "        layer=i, \n",
    "        scaler=scaler\n",
    "    )\n",
    "    results = {}\n",
    "    results['layer'] = i\n",
    "    results['roles'] = {\n",
    "        'pos_2': pos_2_roles,\n",
    "        'pos_3': pos_3_roles\n",
    "    }\n",
    "    results['vectors'] = {\n",
    "        'pos_2': pos_2_vectors,\n",
    "        'pos_3': pos_3_vectors\n",
    "    }\n",
    "    results['pca_transformed'] = pca_transformed\n",
    "    results['variance_explained'] = variance_explained\n",
    "    results['n_components'] = n_components\n",
    "    results['pca'] = pca\n",
    "    results['scaler'] = scaler\n",
    "\n",
    "    pc1.append(pca.components_[0] + scaler.mean)\n",
    "\n",
    "    pca_dir = f\"{base_dir}/roles_240/pca\"\n",
    "    torch.save(results, f\"{pca_dir}/layer{i}_mean_pos23.pt\")\n",
    "\n",
    "    "
   ]
  },
  {
   "cell_type": "code",
   "execution_count": 25,
   "id": "c6234b9a",
   "metadata": {},
   "outputs": [],
   "source": [
    "pc1 = []\n",
    "for i in range(total_layers):\n",
    "    layer_results = torch.load(f\"{base_dir}/roles_240/pca/layer{i}_mean_pos23.pt\", weights_only=False)\n",
    "    l_pc1 = layer_results['pca'].components_[0]\n",
    "\n",
    "    pc1.append(l_pc1)"
   ]
  },
  {
   "cell_type": "code",
   "execution_count": 26,
   "id": "7a63b4c4",
   "metadata": {},
   "outputs": [
    {
     "name": "stdout",
     "output_type": "stream",
     "text": [
      "(64, 5120)\n"
     ]
    }
   ],
   "source": [
    "stacked_pc1 = np.array(pc1)\n",
    "print(stacked_pc1.shape)"
   ]
  },
  {
   "cell_type": "code",
   "execution_count": 27,
   "id": "264af471",
   "metadata": {},
   "outputs": [
    {
     "name": "stdout",
     "output_type": "stream",
     "text": [
      "torch.Size([64, 5120])\n"
     ]
    }
   ],
   "source": [
    "role_all_layers = torch.stack(pos_3_vectors).mean(dim=0)\n",
    "default_all_layers = torch.load(f\"{base_dir}/roles_240/default_vectors.pt\")['activations']['default_1']\n",
    "contrast_vector = role_all_layers - default_all_layers\n",
    "print(contrast_vector.shape)\n",
    "\n",
    "np_contrast_vector = contrast_vector.float().numpy()\n",
    "\n",
    "\n"
   ]
  },
  {
   "cell_type": "code",
   "execution_count": 28,
   "id": "f75d221f",
   "metadata": {},
   "outputs": [
    {
     "name": "stdout",
     "output_type": "stream",
     "text": [
      "(64,)\n",
      "[0.8713679  0.86184615 0.8628778  0.88251275 0.8776989  0.8872892\n",
      " 0.889757   0.9056756  0.90460914 0.8873945  0.8992397  0.9101598\n",
      " 0.91102517 0.8957784  0.89122087 0.8892675  0.89538294 0.8881486\n",
      " 0.8848059  0.8728626  0.87090135 0.87244505 0.84570557 0.8268829\n",
      " 0.81682825 0.77523005 0.77641654 0.70484203 0.67770576 0.5977799\n",
      " 0.599707   0.68441623 0.7102516  0.7143612  0.7199867  0.708858\n",
      " 0.7198475  0.75353444 0.7841215  0.8202975  0.8310348  0.8453241\n",
      " 0.8462699  0.85207593 0.87164193 0.85105324 0.8448051  0.85605454\n",
      " 0.8373903  0.82600075 0.8389436  0.83153564 0.82764393 0.81286526\n",
      " 0.78648096 0.7862624  0.8010314  0.82069236 0.837611   0.85203534\n",
      " 0.85781085 0.86298865 0.84383047 0.86788213]\n"
     ]
    }
   ],
   "source": [
    "# calculate per layer cosine similarity between pc1 and contrast vector\n",
    "per_layer_similarities = np.sum(stacked_pc1 * np_contrast_vector, axis=1) / (\n",
    "    np.linalg.norm(stacked_pc1, axis=1) * np.linalg.norm(np_contrast_vector, axis=1)\n",
    ")\n",
    "print(per_layer_similarities.shape)\n",
    "abs_similarities = np.abs(per_layer_similarities)\n",
    "print(abs_similarities)\n",
    "\n"
   ]
  },
  {
   "cell_type": "code",
   "execution_count": 29,
   "id": "5ea16c18",
   "metadata": {},
   "outputs": [
    {
     "data": {
      "application/vnd.plotly.v1+json": {
       "config": {
        "plotlyServerURL": "https://plot.ly"
       },
       "data": [
        {
         "mode": "lines+markers",
         "name": "Cosine Similarity",
         "type": "scatter",
         "x": [
          0,
          1,
          2,
          3,
          4,
          5,
          6,
          7,
          8,
          9,
          10,
          11,
          12,
          13,
          14,
          15,
          16,
          17,
          18,
          19,
          20,
          21,
          22,
          23,
          24,
          25,
          26,
          27,
          28,
          29,
          30,
          31,
          32,
          33,
          34,
          35,
          36,
          37,
          38,
          39,
          40,
          41,
          42,
          43,
          44,
          45,
          46,
          47,
          48,
          49,
          50,
          51,
          52,
          53,
          54,
          55,
          56,
          57,
          58,
          59,
          60,
          61,
          62,
          63
         ],
         "y": [
          0.871367871761322,
          0.8618461489677429,
          0.8628777861595154,
          0.8825127482414246,
          0.8776988983154297,
          0.8872892260551453,
          0.889756977558136,
          0.9056755900382996,
          0.9046091437339783,
          0.8873944878578186,
          0.899239718914032,
          0.9101598262786865,
          0.9110251665115356,
          0.8957784175872803,
          0.8912208676338196,
          0.8892675042152405,
          0.8953829407691956,
          0.8881486058235168,
          0.8848059177398682,
          0.8728625774383545,
          0.870901346206665,
          0.8724450469017029,
          0.8457055687904358,
          0.8268828988075256,
          0.8168282508850098,
          0.7752300500869751,
          0.776416540145874,
          0.7048420310020447,
          0.6777057647705078,
          0.5977799296379089,
          0.5997070074081421,
          0.6844162344932556,
          0.7102516293525696,
          0.7143611907958984,
          0.7199866771697998,
          0.7088580131530762,
          0.7198475003242493,
          0.7535344362258911,
          0.7841215133666992,
          0.8202974796295166,
          0.831034779548645,
          0.8453240990638733,
          0.8462699055671692,
          0.8520759344100952,
          0.8716419339179993,
          0.8510532379150391,
          0.844805121421814,
          0.8560545444488525,
          0.8373903036117554,
          0.8260007500648499,
          0.838943600654602,
          0.8315356373786926,
          0.8276439309120178,
          0.8128652572631836,
          0.7864809632301331,
          0.7862623929977417,
          0.8010314106941223,
          0.8206923604011536,
          0.8376110196113586,
          0.8520353436470032,
          0.8578108549118042,
          0.8629886507987976,
          0.8438304662704468,
          0.8678821325302124
         ]
        }
       ],
       "layout": {
        "annotations": [
         {
          "showarrow": false,
          "text": "PCA originally on Layer 32",
          "x": 32,
          "xanchor": "left",
          "xref": "x",
          "y": 1,
          "yanchor": "top",
          "yref": "y domain"
         }
        ],
        "height": 500,
        "shapes": [
         {
          "line": {
           "color": "red",
           "dash": "dot"
          },
          "type": "line",
          "x0": 32,
          "x1": 32,
          "xref": "x",
          "y0": 0,
          "y1": 1,
          "yref": "y domain"
         }
        ],
        "template": {
         "data": {
          "bar": [
           {
            "error_x": {
             "color": "#2a3f5f"
            },
            "error_y": {
             "color": "#2a3f5f"
            },
            "marker": {
             "line": {
              "color": "#E5ECF6",
              "width": 0.5
             },
             "pattern": {
              "fillmode": "overlay",
              "size": 10,
              "solidity": 0.2
             }
            },
            "type": "bar"
           }
          ],
          "barpolar": [
           {
            "marker": {
             "line": {
              "color": "#E5ECF6",
              "width": 0.5
             },
             "pattern": {
              "fillmode": "overlay",
              "size": 10,
              "solidity": 0.2
             }
            },
            "type": "barpolar"
           }
          ],
          "carpet": [
           {
            "aaxis": {
             "endlinecolor": "#2a3f5f",
             "gridcolor": "white",
             "linecolor": "white",
             "minorgridcolor": "white",
             "startlinecolor": "#2a3f5f"
            },
            "baxis": {
             "endlinecolor": "#2a3f5f",
             "gridcolor": "white",
             "linecolor": "white",
             "minorgridcolor": "white",
             "startlinecolor": "#2a3f5f"
            },
            "type": "carpet"
           }
          ],
          "choropleth": [
           {
            "colorbar": {
             "outlinewidth": 0,
             "ticks": ""
            },
            "type": "choropleth"
           }
          ],
          "contour": [
           {
            "colorbar": {
             "outlinewidth": 0,
             "ticks": ""
            },
            "colorscale": [
             [
              0,
              "#0d0887"
             ],
             [
              0.1111111111111111,
              "#46039f"
             ],
             [
              0.2222222222222222,
              "#7201a8"
             ],
             [
              0.3333333333333333,
              "#9c179e"
             ],
             [
              0.4444444444444444,
              "#bd3786"
             ],
             [
              0.5555555555555556,
              "#d8576b"
             ],
             [
              0.6666666666666666,
              "#ed7953"
             ],
             [
              0.7777777777777778,
              "#fb9f3a"
             ],
             [
              0.8888888888888888,
              "#fdca26"
             ],
             [
              1,
              "#f0f921"
             ]
            ],
            "type": "contour"
           }
          ],
          "contourcarpet": [
           {
            "colorbar": {
             "outlinewidth": 0,
             "ticks": ""
            },
            "type": "contourcarpet"
           }
          ],
          "heatmap": [
           {
            "colorbar": {
             "outlinewidth": 0,
             "ticks": ""
            },
            "colorscale": [
             [
              0,
              "#0d0887"
             ],
             [
              0.1111111111111111,
              "#46039f"
             ],
             [
              0.2222222222222222,
              "#7201a8"
             ],
             [
              0.3333333333333333,
              "#9c179e"
             ],
             [
              0.4444444444444444,
              "#bd3786"
             ],
             [
              0.5555555555555556,
              "#d8576b"
             ],
             [
              0.6666666666666666,
              "#ed7953"
             ],
             [
              0.7777777777777778,
              "#fb9f3a"
             ],
             [
              0.8888888888888888,
              "#fdca26"
             ],
             [
              1,
              "#f0f921"
             ]
            ],
            "type": "heatmap"
           }
          ],
          "heatmapgl": [
           {
            "colorbar": {
             "outlinewidth": 0,
             "ticks": ""
            },
            "colorscale": [
             [
              0,
              "#0d0887"
             ],
             [
              0.1111111111111111,
              "#46039f"
             ],
             [
              0.2222222222222222,
              "#7201a8"
             ],
             [
              0.3333333333333333,
              "#9c179e"
             ],
             [
              0.4444444444444444,
              "#bd3786"
             ],
             [
              0.5555555555555556,
              "#d8576b"
             ],
             [
              0.6666666666666666,
              "#ed7953"
             ],
             [
              0.7777777777777778,
              "#fb9f3a"
             ],
             [
              0.8888888888888888,
              "#fdca26"
             ],
             [
              1,
              "#f0f921"
             ]
            ],
            "type": "heatmapgl"
           }
          ],
          "histogram": [
           {
            "marker": {
             "pattern": {
              "fillmode": "overlay",
              "size": 10,
              "solidity": 0.2
             }
            },
            "type": "histogram"
           }
          ],
          "histogram2d": [
           {
            "colorbar": {
             "outlinewidth": 0,
             "ticks": ""
            },
            "colorscale": [
             [
              0,
              "#0d0887"
             ],
             [
              0.1111111111111111,
              "#46039f"
             ],
             [
              0.2222222222222222,
              "#7201a8"
             ],
             [
              0.3333333333333333,
              "#9c179e"
             ],
             [
              0.4444444444444444,
              "#bd3786"
             ],
             [
              0.5555555555555556,
              "#d8576b"
             ],
             [
              0.6666666666666666,
              "#ed7953"
             ],
             [
              0.7777777777777778,
              "#fb9f3a"
             ],
             [
              0.8888888888888888,
              "#fdca26"
             ],
             [
              1,
              "#f0f921"
             ]
            ],
            "type": "histogram2d"
           }
          ],
          "histogram2dcontour": [
           {
            "colorbar": {
             "outlinewidth": 0,
             "ticks": ""
            },
            "colorscale": [
             [
              0,
              "#0d0887"
             ],
             [
              0.1111111111111111,
              "#46039f"
             ],
             [
              0.2222222222222222,
              "#7201a8"
             ],
             [
              0.3333333333333333,
              "#9c179e"
             ],
             [
              0.4444444444444444,
              "#bd3786"
             ],
             [
              0.5555555555555556,
              "#d8576b"
             ],
             [
              0.6666666666666666,
              "#ed7953"
             ],
             [
              0.7777777777777778,
              "#fb9f3a"
             ],
             [
              0.8888888888888888,
              "#fdca26"
             ],
             [
              1,
              "#f0f921"
             ]
            ],
            "type": "histogram2dcontour"
           }
          ],
          "mesh3d": [
           {
            "colorbar": {
             "outlinewidth": 0,
             "ticks": ""
            },
            "type": "mesh3d"
           }
          ],
          "parcoords": [
           {
            "line": {
             "colorbar": {
              "outlinewidth": 0,
              "ticks": ""
             }
            },
            "type": "parcoords"
           }
          ],
          "pie": [
           {
            "automargin": true,
            "type": "pie"
           }
          ],
          "scatter": [
           {
            "fillpattern": {
             "fillmode": "overlay",
             "size": 10,
             "solidity": 0.2
            },
            "type": "scatter"
           }
          ],
          "scatter3d": [
           {
            "line": {
             "colorbar": {
              "outlinewidth": 0,
              "ticks": ""
             }
            },
            "marker": {
             "colorbar": {
              "outlinewidth": 0,
              "ticks": ""
             }
            },
            "type": "scatter3d"
           }
          ],
          "scattercarpet": [
           {
            "marker": {
             "colorbar": {
              "outlinewidth": 0,
              "ticks": ""
             }
            },
            "type": "scattercarpet"
           }
          ],
          "scattergeo": [
           {
            "marker": {
             "colorbar": {
              "outlinewidth": 0,
              "ticks": ""
             }
            },
            "type": "scattergeo"
           }
          ],
          "scattergl": [
           {
            "marker": {
             "colorbar": {
              "outlinewidth": 0,
              "ticks": ""
             }
            },
            "type": "scattergl"
           }
          ],
          "scattermapbox": [
           {
            "marker": {
             "colorbar": {
              "outlinewidth": 0,
              "ticks": ""
             }
            },
            "type": "scattermapbox"
           }
          ],
          "scatterpolar": [
           {
            "marker": {
             "colorbar": {
              "outlinewidth": 0,
              "ticks": ""
             }
            },
            "type": "scatterpolar"
           }
          ],
          "scatterpolargl": [
           {
            "marker": {
             "colorbar": {
              "outlinewidth": 0,
              "ticks": ""
             }
            },
            "type": "scatterpolargl"
           }
          ],
          "scatterternary": [
           {
            "marker": {
             "colorbar": {
              "outlinewidth": 0,
              "ticks": ""
             }
            },
            "type": "scatterternary"
           }
          ],
          "surface": [
           {
            "colorbar": {
             "outlinewidth": 0,
             "ticks": ""
            },
            "colorscale": [
             [
              0,
              "#0d0887"
             ],
             [
              0.1111111111111111,
              "#46039f"
             ],
             [
              0.2222222222222222,
              "#7201a8"
             ],
             [
              0.3333333333333333,
              "#9c179e"
             ],
             [
              0.4444444444444444,
              "#bd3786"
             ],
             [
              0.5555555555555556,
              "#d8576b"
             ],
             [
              0.6666666666666666,
              "#ed7953"
             ],
             [
              0.7777777777777778,
              "#fb9f3a"
             ],
             [
              0.8888888888888888,
              "#fdca26"
             ],
             [
              1,
              "#f0f921"
             ]
            ],
            "type": "surface"
           }
          ],
          "table": [
           {
            "cells": {
             "fill": {
              "color": "#EBF0F8"
             },
             "line": {
              "color": "white"
             }
            },
            "header": {
             "fill": {
              "color": "#C8D4E3"
             },
             "line": {
              "color": "white"
             }
            },
            "type": "table"
           }
          ]
         },
         "layout": {
          "annotationdefaults": {
           "arrowcolor": "#2a3f5f",
           "arrowhead": 0,
           "arrowwidth": 1
          },
          "autotypenumbers": "strict",
          "coloraxis": {
           "colorbar": {
            "outlinewidth": 0,
            "ticks": ""
           }
          },
          "colorscale": {
           "diverging": [
            [
             0,
             "#8e0152"
            ],
            [
             0.1,
             "#c51b7d"
            ],
            [
             0.2,
             "#de77ae"
            ],
            [
             0.3,
             "#f1b6da"
            ],
            [
             0.4,
             "#fde0ef"
            ],
            [
             0.5,
             "#f7f7f7"
            ],
            [
             0.6,
             "#e6f5d0"
            ],
            [
             0.7,
             "#b8e186"
            ],
            [
             0.8,
             "#7fbc41"
            ],
            [
             0.9,
             "#4d9221"
            ],
            [
             1,
             "#276419"
            ]
           ],
           "sequential": [
            [
             0,
             "#0d0887"
            ],
            [
             0.1111111111111111,
             "#46039f"
            ],
            [
             0.2222222222222222,
             "#7201a8"
            ],
            [
             0.3333333333333333,
             "#9c179e"
            ],
            [
             0.4444444444444444,
             "#bd3786"
            ],
            [
             0.5555555555555556,
             "#d8576b"
            ],
            [
             0.6666666666666666,
             "#ed7953"
            ],
            [
             0.7777777777777778,
             "#fb9f3a"
            ],
            [
             0.8888888888888888,
             "#fdca26"
            ],
            [
             1,
             "#f0f921"
            ]
           ],
           "sequentialminus": [
            [
             0,
             "#0d0887"
            ],
            [
             0.1111111111111111,
             "#46039f"
            ],
            [
             0.2222222222222222,
             "#7201a8"
            ],
            [
             0.3333333333333333,
             "#9c179e"
            ],
            [
             0.4444444444444444,
             "#bd3786"
            ],
            [
             0.5555555555555556,
             "#d8576b"
            ],
            [
             0.6666666666666666,
             "#ed7953"
            ],
            [
             0.7777777777777778,
             "#fb9f3a"
            ],
            [
             0.8888888888888888,
             "#fdca26"
            ],
            [
             1,
             "#f0f921"
            ]
           ]
          },
          "colorway": [
           "#636efa",
           "#EF553B",
           "#00cc96",
           "#ab63fa",
           "#FFA15A",
           "#19d3f3",
           "#FF6692",
           "#B6E880",
           "#FF97FF",
           "#FECB52"
          ],
          "font": {
           "color": "#2a3f5f"
          },
          "geo": {
           "bgcolor": "white",
           "lakecolor": "white",
           "landcolor": "#E5ECF6",
           "showlakes": true,
           "showland": true,
           "subunitcolor": "white"
          },
          "hoverlabel": {
           "align": "left"
          },
          "hovermode": "closest",
          "mapbox": {
           "style": "light"
          },
          "paper_bgcolor": "white",
          "plot_bgcolor": "#E5ECF6",
          "polar": {
           "angularaxis": {
            "gridcolor": "white",
            "linecolor": "white",
            "ticks": ""
           },
           "bgcolor": "#E5ECF6",
           "radialaxis": {
            "gridcolor": "white",
            "linecolor": "white",
            "ticks": ""
           }
          },
          "scene": {
           "xaxis": {
            "backgroundcolor": "#E5ECF6",
            "gridcolor": "white",
            "gridwidth": 2,
            "linecolor": "white",
            "showbackground": true,
            "ticks": "",
            "zerolinecolor": "white"
           },
           "yaxis": {
            "backgroundcolor": "#E5ECF6",
            "gridcolor": "white",
            "gridwidth": 2,
            "linecolor": "white",
            "showbackground": true,
            "ticks": "",
            "zerolinecolor": "white"
           },
           "zaxis": {
            "backgroundcolor": "#E5ECF6",
            "gridcolor": "white",
            "gridwidth": 2,
            "linecolor": "white",
            "showbackground": true,
            "ticks": "",
            "zerolinecolor": "white"
           }
          },
          "shapedefaults": {
           "line": {
            "color": "#2a3f5f"
           }
          },
          "ternary": {
           "aaxis": {
            "gridcolor": "white",
            "linecolor": "white",
            "ticks": ""
           },
           "baxis": {
            "gridcolor": "white",
            "linecolor": "white",
            "ticks": ""
           },
           "bgcolor": "#E5ECF6",
           "caxis": {
            "gridcolor": "white",
            "linecolor": "white",
            "ticks": ""
           }
          },
          "title": {
           "x": 0.05
          },
          "xaxis": {
           "automargin": true,
           "gridcolor": "white",
           "linecolor": "white",
           "ticks": "",
           "title": {
            "standoff": 15
           },
           "zerolinecolor": "white",
           "zerolinewidth": 2
          },
          "yaxis": {
           "automargin": true,
           "gridcolor": "white",
           "linecolor": "white",
           "ticks": "",
           "title": {
            "standoff": 15
           },
           "zerolinecolor": "white",
           "zerolinewidth": 2
          }
         }
        },
        "title": {
         "subtitle": {
          "text": "Qwen 3 32B"
         },
         "text": "Role PC1 vs Contrast Vector Per-Layer Cosine Similarity"
        },
        "width": 800,
        "xaxis": {
         "title": {
          "text": "Layer"
         }
        },
        "yaxis": {
         "title": {
          "text": "Absolute Cosine Similarity"
         }
        }
       }
      },
      "text/html": [
       "<div>                            <div id=\"8700ef28-0553-448b-8d64-3941522b6d6c\" class=\"plotly-graph-div\" style=\"height:500px; width:800px;\"></div>            <script type=\"text/javascript\">                require([\"plotly\"], function(Plotly) {                    window.PLOTLYENV=window.PLOTLYENV || {};                                    if (document.getElementById(\"8700ef28-0553-448b-8d64-3941522b6d6c\")) {                    Plotly.newPlot(                        \"8700ef28-0553-448b-8d64-3941522b6d6c\",                        [{\"mode\":\"lines+markers\",\"name\":\"Cosine Similarity\",\"x\":[0,1,2,3,4,5,6,7,8,9,10,11,12,13,14,15,16,17,18,19,20,21,22,23,24,25,26,27,28,29,30,31,32,33,34,35,36,37,38,39,40,41,42,43,44,45,46,47,48,49,50,51,52,53,54,55,56,57,58,59,60,61,62,63],\"y\":[0.871367871761322,0.8618461489677429,0.8628777861595154,0.8825127482414246,0.8776988983154297,0.8872892260551453,0.889756977558136,0.9056755900382996,0.9046091437339783,0.8873944878578186,0.899239718914032,0.9101598262786865,0.9110251665115356,0.8957784175872803,0.8912208676338196,0.8892675042152405,0.8953829407691956,0.8881486058235168,0.8848059177398682,0.8728625774383545,0.870901346206665,0.8724450469017029,0.8457055687904358,0.8268828988075256,0.8168282508850098,0.7752300500869751,0.776416540145874,0.7048420310020447,0.6777057647705078,0.5977799296379089,0.5997070074081421,0.6844162344932556,0.7102516293525696,0.7143611907958984,0.7199866771697998,0.7088580131530762,0.7198475003242493,0.7535344362258911,0.7841215133666992,0.8202974796295166,0.831034779548645,0.8453240990638733,0.8462699055671692,0.8520759344100952,0.8716419339179993,0.8510532379150391,0.844805121421814,0.8560545444488525,0.8373903036117554,0.8260007500648499,0.838943600654602,0.8315356373786926,0.8276439309120178,0.8128652572631836,0.7864809632301331,0.7862623929977417,0.8010314106941223,0.8206923604011536,0.8376110196113586,0.8520353436470032,0.8578108549118042,0.8629886507987976,0.8438304662704468,0.8678821325302124],\"type\":\"scatter\"}],                        {\"template\":{\"data\":{\"histogram2dcontour\":[{\"type\":\"histogram2dcontour\",\"colorbar\":{\"outlinewidth\":0,\"ticks\":\"\"},\"colorscale\":[[0.0,\"#0d0887\"],[0.1111111111111111,\"#46039f\"],[0.2222222222222222,\"#7201a8\"],[0.3333333333333333,\"#9c179e\"],[0.4444444444444444,\"#bd3786\"],[0.5555555555555556,\"#d8576b\"],[0.6666666666666666,\"#ed7953\"],[0.7777777777777778,\"#fb9f3a\"],[0.8888888888888888,\"#fdca26\"],[1.0,\"#f0f921\"]]}],\"choropleth\":[{\"type\":\"choropleth\",\"colorbar\":{\"outlinewidth\":0,\"ticks\":\"\"}}],\"histogram2d\":[{\"type\":\"histogram2d\",\"colorbar\":{\"outlinewidth\":0,\"ticks\":\"\"},\"colorscale\":[[0.0,\"#0d0887\"],[0.1111111111111111,\"#46039f\"],[0.2222222222222222,\"#7201a8\"],[0.3333333333333333,\"#9c179e\"],[0.4444444444444444,\"#bd3786\"],[0.5555555555555556,\"#d8576b\"],[0.6666666666666666,\"#ed7953\"],[0.7777777777777778,\"#fb9f3a\"],[0.8888888888888888,\"#fdca26\"],[1.0,\"#f0f921\"]]}],\"heatmap\":[{\"type\":\"heatmap\",\"colorbar\":{\"outlinewidth\":0,\"ticks\":\"\"},\"colorscale\":[[0.0,\"#0d0887\"],[0.1111111111111111,\"#46039f\"],[0.2222222222222222,\"#7201a8\"],[0.3333333333333333,\"#9c179e\"],[0.4444444444444444,\"#bd3786\"],[0.5555555555555556,\"#d8576b\"],[0.6666666666666666,\"#ed7953\"],[0.7777777777777778,\"#fb9f3a\"],[0.8888888888888888,\"#fdca26\"],[1.0,\"#f0f921\"]]}],\"heatmapgl\":[{\"type\":\"heatmapgl\",\"colorbar\":{\"outlinewidth\":0,\"ticks\":\"\"},\"colorscale\":[[0.0,\"#0d0887\"],[0.1111111111111111,\"#46039f\"],[0.2222222222222222,\"#7201a8\"],[0.3333333333333333,\"#9c179e\"],[0.4444444444444444,\"#bd3786\"],[0.5555555555555556,\"#d8576b\"],[0.6666666666666666,\"#ed7953\"],[0.7777777777777778,\"#fb9f3a\"],[0.8888888888888888,\"#fdca26\"],[1.0,\"#f0f921\"]]}],\"contourcarpet\":[{\"type\":\"contourcarpet\",\"colorbar\":{\"outlinewidth\":0,\"ticks\":\"\"}}],\"contour\":[{\"type\":\"contour\",\"colorbar\":{\"outlinewidth\":0,\"ticks\":\"\"},\"colorscale\":[[0.0,\"#0d0887\"],[0.1111111111111111,\"#46039f\"],[0.2222222222222222,\"#7201a8\"],[0.3333333333333333,\"#9c179e\"],[0.4444444444444444,\"#bd3786\"],[0.5555555555555556,\"#d8576b\"],[0.6666666666666666,\"#ed7953\"],[0.7777777777777778,\"#fb9f3a\"],[0.8888888888888888,\"#fdca26\"],[1.0,\"#f0f921\"]]}],\"surface\":[{\"type\":\"surface\",\"colorbar\":{\"outlinewidth\":0,\"ticks\":\"\"},\"colorscale\":[[0.0,\"#0d0887\"],[0.1111111111111111,\"#46039f\"],[0.2222222222222222,\"#7201a8\"],[0.3333333333333333,\"#9c179e\"],[0.4444444444444444,\"#bd3786\"],[0.5555555555555556,\"#d8576b\"],[0.6666666666666666,\"#ed7953\"],[0.7777777777777778,\"#fb9f3a\"],[0.8888888888888888,\"#fdca26\"],[1.0,\"#f0f921\"]]}],\"mesh3d\":[{\"type\":\"mesh3d\",\"colorbar\":{\"outlinewidth\":0,\"ticks\":\"\"}}],\"scatter\":[{\"fillpattern\":{\"fillmode\":\"overlay\",\"size\":10,\"solidity\":0.2},\"type\":\"scatter\"}],\"parcoords\":[{\"type\":\"parcoords\",\"line\":{\"colorbar\":{\"outlinewidth\":0,\"ticks\":\"\"}}}],\"scatterpolargl\":[{\"type\":\"scatterpolargl\",\"marker\":{\"colorbar\":{\"outlinewidth\":0,\"ticks\":\"\"}}}],\"bar\":[{\"error_x\":{\"color\":\"#2a3f5f\"},\"error_y\":{\"color\":\"#2a3f5f\"},\"marker\":{\"line\":{\"color\":\"#E5ECF6\",\"width\":0.5},\"pattern\":{\"fillmode\":\"overlay\",\"size\":10,\"solidity\":0.2}},\"type\":\"bar\"}],\"scattergeo\":[{\"type\":\"scattergeo\",\"marker\":{\"colorbar\":{\"outlinewidth\":0,\"ticks\":\"\"}}}],\"scatterpolar\":[{\"type\":\"scatterpolar\",\"marker\":{\"colorbar\":{\"outlinewidth\":0,\"ticks\":\"\"}}}],\"histogram\":[{\"marker\":{\"pattern\":{\"fillmode\":\"overlay\",\"size\":10,\"solidity\":0.2}},\"type\":\"histogram\"}],\"scattergl\":[{\"type\":\"scattergl\",\"marker\":{\"colorbar\":{\"outlinewidth\":0,\"ticks\":\"\"}}}],\"scatter3d\":[{\"type\":\"scatter3d\",\"line\":{\"colorbar\":{\"outlinewidth\":0,\"ticks\":\"\"}},\"marker\":{\"colorbar\":{\"outlinewidth\":0,\"ticks\":\"\"}}}],\"scattermapbox\":[{\"type\":\"scattermapbox\",\"marker\":{\"colorbar\":{\"outlinewidth\":0,\"ticks\":\"\"}}}],\"scatterternary\":[{\"type\":\"scatterternary\",\"marker\":{\"colorbar\":{\"outlinewidth\":0,\"ticks\":\"\"}}}],\"scattercarpet\":[{\"type\":\"scattercarpet\",\"marker\":{\"colorbar\":{\"outlinewidth\":0,\"ticks\":\"\"}}}],\"carpet\":[{\"aaxis\":{\"endlinecolor\":\"#2a3f5f\",\"gridcolor\":\"white\",\"linecolor\":\"white\",\"minorgridcolor\":\"white\",\"startlinecolor\":\"#2a3f5f\"},\"baxis\":{\"endlinecolor\":\"#2a3f5f\",\"gridcolor\":\"white\",\"linecolor\":\"white\",\"minorgridcolor\":\"white\",\"startlinecolor\":\"#2a3f5f\"},\"type\":\"carpet\"}],\"table\":[{\"cells\":{\"fill\":{\"color\":\"#EBF0F8\"},\"line\":{\"color\":\"white\"}},\"header\":{\"fill\":{\"color\":\"#C8D4E3\"},\"line\":{\"color\":\"white\"}},\"type\":\"table\"}],\"barpolar\":[{\"marker\":{\"line\":{\"color\":\"#E5ECF6\",\"width\":0.5},\"pattern\":{\"fillmode\":\"overlay\",\"size\":10,\"solidity\":0.2}},\"type\":\"barpolar\"}],\"pie\":[{\"automargin\":true,\"type\":\"pie\"}]},\"layout\":{\"autotypenumbers\":\"strict\",\"colorway\":[\"#636efa\",\"#EF553B\",\"#00cc96\",\"#ab63fa\",\"#FFA15A\",\"#19d3f3\",\"#FF6692\",\"#B6E880\",\"#FF97FF\",\"#FECB52\"],\"font\":{\"color\":\"#2a3f5f\"},\"hovermode\":\"closest\",\"hoverlabel\":{\"align\":\"left\"},\"paper_bgcolor\":\"white\",\"plot_bgcolor\":\"#E5ECF6\",\"polar\":{\"bgcolor\":\"#E5ECF6\",\"angularaxis\":{\"gridcolor\":\"white\",\"linecolor\":\"white\",\"ticks\":\"\"},\"radialaxis\":{\"gridcolor\":\"white\",\"linecolor\":\"white\",\"ticks\":\"\"}},\"ternary\":{\"bgcolor\":\"#E5ECF6\",\"aaxis\":{\"gridcolor\":\"white\",\"linecolor\":\"white\",\"ticks\":\"\"},\"baxis\":{\"gridcolor\":\"white\",\"linecolor\":\"white\",\"ticks\":\"\"},\"caxis\":{\"gridcolor\":\"white\",\"linecolor\":\"white\",\"ticks\":\"\"}},\"coloraxis\":{\"colorbar\":{\"outlinewidth\":0,\"ticks\":\"\"}},\"colorscale\":{\"sequential\":[[0.0,\"#0d0887\"],[0.1111111111111111,\"#46039f\"],[0.2222222222222222,\"#7201a8\"],[0.3333333333333333,\"#9c179e\"],[0.4444444444444444,\"#bd3786\"],[0.5555555555555556,\"#d8576b\"],[0.6666666666666666,\"#ed7953\"],[0.7777777777777778,\"#fb9f3a\"],[0.8888888888888888,\"#fdca26\"],[1.0,\"#f0f921\"]],\"sequentialminus\":[[0.0,\"#0d0887\"],[0.1111111111111111,\"#46039f\"],[0.2222222222222222,\"#7201a8\"],[0.3333333333333333,\"#9c179e\"],[0.4444444444444444,\"#bd3786\"],[0.5555555555555556,\"#d8576b\"],[0.6666666666666666,\"#ed7953\"],[0.7777777777777778,\"#fb9f3a\"],[0.8888888888888888,\"#fdca26\"],[1.0,\"#f0f921\"]],\"diverging\":[[0,\"#8e0152\"],[0.1,\"#c51b7d\"],[0.2,\"#de77ae\"],[0.3,\"#f1b6da\"],[0.4,\"#fde0ef\"],[0.5,\"#f7f7f7\"],[0.6,\"#e6f5d0\"],[0.7,\"#b8e186\"],[0.8,\"#7fbc41\"],[0.9,\"#4d9221\"],[1,\"#276419\"]]},\"xaxis\":{\"gridcolor\":\"white\",\"linecolor\":\"white\",\"ticks\":\"\",\"title\":{\"standoff\":15},\"zerolinecolor\":\"white\",\"automargin\":true,\"zerolinewidth\":2},\"yaxis\":{\"gridcolor\":\"white\",\"linecolor\":\"white\",\"ticks\":\"\",\"title\":{\"standoff\":15},\"zerolinecolor\":\"white\",\"automargin\":true,\"zerolinewidth\":2},\"scene\":{\"xaxis\":{\"backgroundcolor\":\"#E5ECF6\",\"gridcolor\":\"white\",\"linecolor\":\"white\",\"showbackground\":true,\"ticks\":\"\",\"zerolinecolor\":\"white\",\"gridwidth\":2},\"yaxis\":{\"backgroundcolor\":\"#E5ECF6\",\"gridcolor\":\"white\",\"linecolor\":\"white\",\"showbackground\":true,\"ticks\":\"\",\"zerolinecolor\":\"white\",\"gridwidth\":2},\"zaxis\":{\"backgroundcolor\":\"#E5ECF6\",\"gridcolor\":\"white\",\"linecolor\":\"white\",\"showbackground\":true,\"ticks\":\"\",\"zerolinecolor\":\"white\",\"gridwidth\":2}},\"shapedefaults\":{\"line\":{\"color\":\"#2a3f5f\"}},\"annotationdefaults\":{\"arrowcolor\":\"#2a3f5f\",\"arrowhead\":0,\"arrowwidth\":1},\"geo\":{\"bgcolor\":\"white\",\"landcolor\":\"#E5ECF6\",\"subunitcolor\":\"white\",\"showland\":true,\"showlakes\":true,\"lakecolor\":\"white\"},\"title\":{\"x\":0.05},\"mapbox\":{\"style\":\"light\"}}},\"shapes\":[{\"line\":{\"color\":\"red\",\"dash\":\"dot\"},\"type\":\"line\",\"x0\":32,\"x1\":32,\"xref\":\"x\",\"y0\":0,\"y1\":1,\"yref\":\"y domain\"}],\"annotations\":[{\"showarrow\":false,\"text\":\"PCA originally on Layer 32\",\"x\":32,\"xanchor\":\"left\",\"xref\":\"x\",\"y\":1,\"yanchor\":\"top\",\"yref\":\"y domain\"}],\"title\":{\"subtitle\":{\"text\":\"Qwen 3 32B\"},\"text\":\"Role PC1 vs Contrast Vector Per-Layer Cosine Similarity\"},\"xaxis\":{\"title\":{\"text\":\"Layer\"}},\"yaxis\":{\"title\":{\"text\":\"Absolute Cosine Similarity\"}},\"height\":500,\"width\":800},                        {\"responsive\": true}                    ).then(function(){\n",
       "                            \n",
       "var gd = document.getElementById('8700ef28-0553-448b-8d64-3941522b6d6c');\n",
       "var x = new MutationObserver(function (mutations, observer) {{\n",
       "        var display = window.getComputedStyle(gd).display;\n",
       "        if (!display || display === 'none') {{\n",
       "            console.log([gd, 'removed!']);\n",
       "            Plotly.purge(gd);\n",
       "            observer.disconnect();\n",
       "        }}\n",
       "}});\n",
       "\n",
       "// Listen for the removal of the full notebook cells\n",
       "var notebookContainer = gd.closest('#notebook-container');\n",
       "if (notebookContainer) {{\n",
       "    x.observe(notebookContainer, {childList: true});\n",
       "}}\n",
       "\n",
       "// Listen for the clearing of the current output cell\n",
       "var outputEl = gd.closest('.output');\n",
       "if (outputEl) {{\n",
       "    x.observe(outputEl, {childList: true});\n",
       "}}\n",
       "\n",
       "                        })                };                });            </script>        </div>"
      ]
     },
     "metadata": {},
     "output_type": "display_data"
    }
   ],
   "source": [
    "import plotly.graph_objects as go\n",
    "\n",
    "fig = go.Figure()\n",
    "\n",
    "fig.add_trace(go.Scatter(\n",
    "    x=list(range(float_stack_vectors.shape[1])),\n",
    "    y=abs_similarities,\n",
    "    mode='lines+markers',\n",
    "    name='Cosine Similarity'\n",
    "))\n",
    "\n",
    "fig.add_vline(x=layer, line_dash=\"dot\", line_color=\"red\", annotation_text=f\"PCA originally on Layer {layer}\", annotation_position=\"top right\")\n",
    "\n",
    "fig.update_layout(\n",
    "    title={\n",
    "        'text': 'Role PC1 vs Contrast Vector Per-Layer Cosine Similarity',\n",
    "        'subtitle': {\n",
    "            'text': f'{model_name.replace(\"-\", \" \").title()}',\n",
    "        }\n",
    "    },\n",
    "    xaxis_title='Layer',\n",
    "    yaxis_title='Absolute Cosine Similarity',\n",
    "    height=500,\n",
    "    width=800,\n",
    ")\n",
    "\n",
    "fig.show()\n",
    "fig.write_html(f'/root/git/plots/{model_name}/pc1/contrast_vector_cosine_similarity_nomean.html')"
   ]
  },
  {
   "cell_type": "code",
   "execution_count": null,
   "id": "fe495052",
   "metadata": {},
   "outputs": [],
   "source": [
    "def get_role_labels(pca_results):\n",
    "    labels = []\n",
    "    if 'pos_2' in pca_results['roles'].keys():\n",
    "        pos_2_roles = [role.replace('_', ' ').title() for role in pca_results['roles']['pos_2']]\n",
    "        pos_2_roles = [f\"{role} (Somewhat RP)\" for role in pos_2_roles]\n",
    "        labels.extend(pos_2_roles)\n",
    "    if 'pos_3' in pca_results['roles'].keys():\n",
    "        pos_3_roles = [role.replace('_', ' ').title() for role in pca_results['roles']['pos_3']]\n",
    "        pos_3_roles = [f\"{role} (Fully RP)\" for role in pos_3_roles]\n",
    "        labels.extend(pos_3_roles)\n",
    "    return labels"
   ]
  },
  {
   "cell_type": "code",
   "execution_count": null,
   "id": "117e5666",
   "metadata": {},
   "outputs": [],
   "source": [
    "# plot PCs at different layers\n",
    "total_layers = 80\n",
    "\n",
    "\n",
    "\n",
    "for i in range(0, total_layers, total_layers // 4):\n",
    "    layer_results = torch.load(f\"{base_dir}/roles_240/pca/layer{i}_mean_pos23.pt\", weights_only=False)\n",
    "    subtitle = f\"{model_name.replace('-', ' ').title()}, Layer {i} - Mean-Centered\"\n",
    "\n",
    "    assistant_layer_activation = default_all_layers[i].float().reshape(1, -1)\n",
    "    asst_scaled = layer_results['scaler'].transform(assistant_layer_activation)\n",
    "    asst_projected = layer_results['pca'].transform(asst_scaled)\n",
    "\n",
    "    fig = plot_pc(\n",
    "        pca_results=layer_results,\n",
    "        role_labels=get_role_labels(layer_results),\n",
    "        layer=i,\n",
    "        pc_component=0,\n",
    "        assistant_activation=default_all_layers,\n",
    "        assistant_projection=asst_projected[0],\n",
    "        title=\"PCA on Role-Playing Vectors\",\n",
    "        subtitle=subtitle,\n",
    "    )\n",
    "    fig.show()\n",
    "    plot_dir = f\"/root/git/plots/{model_name}/pc1\"\n",
    "    fig.write_html(f\"{plot_dir}/layer{i}.html\")\n",
    "\n",
    "i = total_layers - 1\n",
    "layer_results = torch.load(f\"{base_dir}/roles_240/pca/layer{i}_mean_pos23.pt\", weights_only=False)\n",
    "subtitle = f\"{model_name.replace('-', ' ').title()}, Layer {i} - Mean-Centered\"\n",
    "\n",
    "assistant_layer_activation = default_all_layers[i].float().reshape(1, -1)\n",
    "asst_scaled = layer_results['scaler'].transform(assistant_layer_activation)\n",
    "asst_projected = layer_results['pca'].transform(asst_scaled)\n",
    "\n",
    "fig = plot_pc(\n",
    "    pca_results=layer_results,\n",
    "    role_labels=get_role_labels(layer_results),\n",
    "    layer=i,\n",
    "    pc_component=0,\n",
    "    assistant_activation=default_all_layers,\n",
    "    assistant_projection=asst_projected[0],\n",
    "    title=\"PCA on Role-Playing Vectors\",\n",
    "    subtitle=subtitle,\n",
    ")\n",
    "fig.show()\n",
    "plot_dir = f\"/root/git/plots/{model_name}/pc1\"\n",
    "fig.write_html(f\"{plot_dir}/layer{i}.html\")\n"
   ]
  },
  {
   "cell_type": "code",
   "execution_count": null,
   "id": "563b04fa",
   "metadata": {},
   "outputs": [],
   "source": [
    "# save all the PC1 vectors, need to flip them so they align with contrast vector\n",
    "\n",
    "contrast_vectors = torch.load(f\"/workspace/{model_name}/capped/configs/multi_contrast_vectors.pt\", weights_only=False)\n",
    "\n",
    "\n",
    "pc1_vectors = []\n",
    "\n",
    "for i in range(total_layers):\n",
    "    layer_results = torch.load(f\"{base_dir}/roles_240/pca/layer{i}_mean_pos23.pt\", weights_only=False)\n",
    "    pc1 = layer_results['pca'].components_[0]\n",
    "\n",
    "    contrast_vector = contrast_vectors[i]['vector']\n",
    "\n",
    "    if torch.nn.functional.cosine_similarity(torch.from_numpy(pc1).reshape(1, -1), contrast_vector.reshape(1, -1)) < 0:\n",
    "        pc1 = -pc1\n",
    "\n",
    "    pc1_vectors.append(pc1)\n",
    "\n",
    "\n"
   ]
  },
  {
   "cell_type": "code",
   "execution_count": 37,
   "id": "4f25704a",
   "metadata": {},
   "outputs": [
    {
     "name": "stdout",
     "output_type": "stream",
     "text": [
      "torch.Size([4608])\n"
     ]
    }
   ],
   "source": [
    "print(torch.from_numpy(pc1_vectors[0]).shape)"
   ]
  },
  {
   "cell_type": "code",
   "execution_count": 38,
   "id": "82f55883",
   "metadata": {},
   "outputs": [],
   "source": [
    "vectors = []\n",
    "for l in range(total_layers):\n",
    "    vectors.append({\n",
    "        'scaler': None,\n",
    "        'name': f\"layer_{l}/role_pc1_mean_pos23\",\n",
    "        'vector': torch.from_numpy(pc1_vectors[l]),\n",
    "        'layer': l\n",
    "    })\n",
    "outfile = f\"{base_dir}/evals/configs/multi_pc1_vectors.pt\"\n",
    "os.makedirs(os.path.dirname(outfile), exist_ok=True)\n",
    "torch.save(vectors, outfile)"
   ]
  }
 ],
 "metadata": {
  "kernelspec": {
   "display_name": ".venv",
   "language": "python",
   "name": "python3"
  },
  "language_info": {
   "codemirror_mode": {
    "name": "ipython",
    "version": 3
   },
   "file_extension": ".py",
   "mimetype": "text/x-python",
   "name": "python",
   "nbconvert_exporter": "python",
   "pygments_lexer": "ipython3",
   "version": "3.13.5"
  }
 },
 "nbformat": 4,
 "nbformat_minor": 5
}
