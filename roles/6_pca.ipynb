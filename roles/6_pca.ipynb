{
 "cells": [
  {
   "cell_type": "markdown",
   "id": "28531137",
   "metadata": {},
   "source": [
    "# PCA on roles"
   ]
  },
  {
   "cell_type": "code",
   "execution_count": null,
   "id": "30f3bcdd",
   "metadata": {
    "execution": {
     "iopub.execute_input": "2025-08-06T00:18:08.842015Z",
     "iopub.status.busy": "2025-08-06T00:18:08.841387Z",
     "iopub.status.idle": "2025-08-06T00:18:09.171163Z",
     "shell.execute_reply": "2025-08-06T00:18:09.170519Z"
    }
   },
   "outputs": [],
   "source": [
    "import os\n",
    "import sys\n",
    "import torch\n",
    "import numpy as np\n",
    "import pandas as pd\n",
    "\n",
    "sys.path.append('.')\n",
    "sys.path.append('..')\n",
    "\n",
    "from utils.pca_utils import *\n",
    "from plots import *"
   ]
  },
  {
   "cell_type": "markdown",
   "id": "julz1owfwk",
   "metadata": {},
   "source": [
    "## Configuration"
   ]
  },
  {
   "cell_type": "code",
   "execution_count": null,
   "id": "o7pmyp071r",
   "metadata": {},
   "outputs": [],
   "source": [
    "# Configuration - Change these parameters for different models/datasets\n",
    "base_dir = \"/workspace/llama-3.3-70b\"\n",
    "type = \"roles_240\"\n",
    "dir = f\"{base_dir}/{type}\"\n",
    "model_name = \"Llama-3.3-70B\"\n",
    "layer = 40"
   ]
  },
  {
   "cell_type": "code",
   "execution_count": null,
   "id": "9d78b00f",
   "metadata": {},
   "outputs": [],
   "source": [
    "# 30 or 240\n",
    "if type == \"roles\":\n",
    "    n_questions = 30\n",
    "    n_prompt_types = 2\n",
    "elif type == \"roles_240\":  # roles_240 or other patterns\n",
    "    n_questions = 240\n",
    "    n_prompt_types = 1"
   ]
  },
  {
   "cell_type": "markdown",
   "id": "ce50bcb7",
   "metadata": {},
   "source": [
    "## Load vectors"
   ]
  },
  {
   "cell_type": "code",
   "execution_count": null,
   "id": "5586e787",
   "metadata": {},
   "outputs": [],
   "source": [
    "# load all vectors \n",
    "vector_dir = f\"{dir}/vectors\"\n",
    "\n",
    "# iterate through each .pt file in the directory\n",
    "vectors = {}\n",
    "for file in os.listdir(vector_dir):\n",
    "    if file.endswith(\".pt\"):\n",
    "        vectors[file.replace(\".pt\", \"\")] = torch.load(os.path.join(vector_dir, file))\n",
    "\n",
    "print(f\"Found {len(vectors.keys())} roles with vectors\")"
   ]
  },
  {
   "cell_type": "code",
   "execution_count": null,
   "id": "2cf79b53",
   "metadata": {},
   "outputs": [],
   "source": [
    "# load default vectors\n",
    "default_vectors = torch.load(f\"{dir}/default_vectors.pt\")"
   ]
  },
  {
   "cell_type": "code",
   "execution_count": null,
   "id": "0782a940",
   "metadata": {},
   "outputs": [],
   "source": [
    "print(vectors['graduate'].keys())\n",
    "print(default_vectors.keys())\n",
    "print(default_vectors['activations'].keys())"
   ]
  },
  {
   "cell_type": "markdown",
   "id": "f0358486",
   "metadata": {},
   "source": [
    "## PCA "
   ]
  },
  {
   "cell_type": "code",
   "execution_count": null,
   "id": "891a2cc8",
   "metadata": {},
   "outputs": [],
   "source": [
    "pos_2_roles = []\n",
    "pos_2_vectors = []\n",
    "pos_3_roles = []\n",
    "pos_3_vectors = []\n",
    "\n",
    "# get the vectors keys for pos_2 and pos_3 for each role\n",
    "for role, vector in vectors.items():\n",
    "    if 'pos_2' in vector.keys():\n",
    "        pos_2_roles.append(role)\n",
    "        pos_2_vectors.append(vector['pos_2'])\n",
    "    if 'pos_3' in vector.keys():\n",
    "        pos_3_roles.append(role)\n",
    "        pos_3_vectors.append(vector['pos_3'])\n",
    "\n",
    "print(len(pos_2_roles))\n",
    "print(len(pos_3_roles))\n",
    "\n",
    "combined_vectors = pos_2_vectors + pos_3_vectors"
   ]
  },
  {
   "cell_type": "code",
   "execution_count": null,
   "id": "e89db366",
   "metadata": {},
   "outputs": [],
   "source": [
    "float_stack_vectors = torch.stack(combined_vectors).float()\n",
    "print(float_stack_vectors.shape)"
   ]
  },
  {
   "cell_type": "code",
   "execution_count": null,
   "id": "a8876796",
   "metadata": {},
   "outputs": [],
   "source": [
    "pca_transformed, variance_explained, n_components, pca, scaler = compute_pca(float_stack_vectors, layer)"
   ]
  },
  {
   "cell_type": "code",
   "execution_count": null,
   "id": "33c389b7",
   "metadata": {},
   "outputs": [],
   "source": [
    "results = {}\n",
    "results['layer'] = layer\n",
    "results['roles'] = {\n",
    "    'pos_2': pos_2_roles,\n",
    "    'pos_3': pos_3_roles\n",
    "}\n",
    "results['vectors'] = {\n",
    "    'pos_2': pos_2_vectors,\n",
    "    'pos_3': pos_3_vectors\n",
    "}\n",
    "results['pca_transformed'] = pca_transformed\n",
    "results['variance_explained'] = variance_explained\n",
    "results['n_components'] = n_components\n",
    "results['pca'] = pca\n",
    "results['scaler'] = scaler\n",
    "\n",
    "pca_dir = f\"{dir}/pca\"\n",
    "os.makedirs(pca_dir, exist_ok=True)\n",
    "torch.save(results, f\"{pca_dir}/layer{layer}_pos23.pt\")\n",
    "print(f\"Saved PCA results to {pca_dir}/layer{layer}_pos23.pt\")"
   ]
  },
  {
   "cell_type": "code",
   "execution_count": null,
   "id": "ac88e530",
   "metadata": {},
   "outputs": [],
   "source": [
    "# also compute for normalized vectors\n",
    "normalized_vectors = F.normalize(float_stack_vectors, p=2, dim=-1)\n",
    "\n",
    "norms = normalized_vectors.norm(p=2, dim=-1)\n",
    "print(norms.mean().item(), norms.std().item())"
   ]
  },
  {
   "cell_type": "code",
   "execution_count": null,
   "id": "5f7b9e15",
   "metadata": {},
   "outputs": [],
   "source": [
    "pca_transformed, variance_explained, n_components, pca, scaler = compute_pca(normalized_vectors, layer, scaler=False)"
   ]
  },
  {
   "cell_type": "code",
   "execution_count": null,
   "id": "c4413483",
   "metadata": {},
   "outputs": [],
   "source": [
    "results = {}\n",
    "results['layer'] = layer\n",
    "results['roles'] = {\n",
    "    'pos_2': pos_2_roles,\n",
    "    'pos_3': pos_3_roles\n",
    "}\n",
    "results['vectors'] = {\n",
    "    'pos_2': pos_2_vectors,\n",
    "    'pos_3': pos_3_vectors\n",
    "}\n",
    "results['pca_transformed'] = pca_transformed\n",
    "results['variance_explained'] = variance_explained\n",
    "results['n_components'] = n_components\n",
    "results['pca'] = pca\n",
    "results['scaler'] = scaler\n",
    "\n",
    "pca_dir = f\"{dir}/pca\"\n",
    "os.makedirs(pca_dir, exist_ok=True)\n",
    "torch.save(results, f\"{pca_dir}/layer{layer}_normalized_pos23.pt\")"
   ]
  },
  {
   "cell_type": "markdown",
   "id": "62bec2d8",
   "metadata": {},
   "source": [
    "## Plots"
   ]
  },
  {
   "cell_type": "code",
   "execution_count": null,
   "id": "76552389",
   "metadata": {},
   "outputs": [],
   "source": [
    "type = \"pos23\"\n",
    "\n",
    "plot_dir = f\"./results/{model_name.lower()}/pca_240\"\n",
    "os.makedirs(plot_dir, exist_ok=True)\n",
    "\n",
    "normalized = False\n",
    "if normalized:\n",
    "    pca_results = torch.load(f\"{dir}/pca/layer{layer}_normalized_pos23.pt\", weights_only=False)\n",
    "else:\n",
    "    pca_results = torch.load(f\"{dir}/pca/layer{layer}_pos23.pt\", weights_only=False)"
   ]
  },
  {
   "cell_type": "code",
   "execution_count": null,
   "id": "81c1c717",
   "metadata": {},
   "outputs": [],
   "source": [
    "# flip PC1 for llama\n",
    "pca_results['pca'].components_[0] *= -1\n",
    "pca_results['pca_transformed'][:, 0] *= -1\n",
    "torch.save(pca_results, f\"{dir}/pca/layer{layer}_pos23.pt\")"
   ]
  },
  {
   "cell_type": "code",
   "execution_count": null,
   "id": "ccb9a433",
   "metadata": {},
   "outputs": [],
   "source": [
    "# load in PCs\n",
    "default_vectors = torch.load(f\"{dir}/default_vectors.pt\")"
   ]
  },
  {
   "cell_type": "code",
   "execution_count": null,
   "id": "438508c8",
   "metadata": {},
   "outputs": [],
   "source": [
    "# also calculate role labels for plotting\n",
    "def get_role_labels(pca_results):\n",
    "    labels = []\n",
    "    if 'pos_2' in pca_results['roles'].keys():\n",
    "        pos_2_roles = [role.replace('_', ' ').title() for role in pca_results['roles']['pos_2']]\n",
    "        pos_2_roles = [f\"{role} (Somewhat RP)\" for role in pos_2_roles]\n",
    "        labels.extend(pos_2_roles)\n",
    "    if 'pos_3' in pca_results['roles'].keys():\n",
    "        pos_3_roles = [role.replace('_', ' ').title() for role in pca_results['roles']['pos_3']]\n",
    "        pos_3_roles = [f\"{role} (Fully RP)\" for role in pos_3_roles]\n",
    "        labels.extend(pos_3_roles)\n",
    "    return labels\n",
    "\n",
    "role_labels = get_role_labels(pca_results)\n",
    "\n"
   ]
  },
  {
   "cell_type": "code",
   "execution_count": null,
   "id": "c63a439b",
   "metadata": {},
   "outputs": [],
   "source": [
    "print(role_labels[:10])\n",
    "print(role_labels[-10:])"
   ]
  },
  {
   "cell_type": "code",
   "execution_count": null,
   "id": "9669bef9",
   "metadata": {},
   "outputs": [],
   "source": [
    "# get default activation and project into PCA space\n",
    "assistant_layer_activation = default_vectors['activations']['default_1'][layer, :].float().reshape(1, -1)\n",
    "if not normalized:\n",
    "    asst_scaled = pca_results['scaler'].transform(assistant_layer_activation)\n",
    "    asst_projected = pca_results['pca'].transform(asst_scaled)\n",
    "else:\n",
    "    asst_normalized = F.normalize(assistant_layer_activation, p=2, dim=-1)\n",
    "    asst_projected = pca_results['pca'].transform(asst_normalized)\n",
    "\n",
    "assistant_layer_activation = assistant_layer_activation.numpy()\n"
   ]
  },
  {
   "cell_type": "code",
   "execution_count": null,
   "id": "5e02ea98",
   "metadata": {},
   "outputs": [],
   "source": [
    "if normalized:\n",
    "    subtitle = f\"{model_name.replace('-', ' ')}, Layer {layer} - Shared Question Set, Unit Normalized Vectors\"\n",
    "else:\n",
    "    subtitle = f\"{model_name.replace('-', ' ')}, Layer {layer} - Shared Question Set, Mean-Centered and Scaled Vectors\"\n",
    "\n",
    "for i in range(1):\n",
    "    fig = plot_pc(\n",
    "        pca_results=pca_results,\n",
    "        role_labels=role_labels,\n",
    "        layer=layer,\n",
    "        pc_component=i,\n",
    "        assistant_activation=default_vectors['activations']['default_1'],\n",
    "        assistant_projection=asst_projected[0],\n",
    "        title=\"PCA on Role-Playing Vectors\",\n",
    "        subtitle=subtitle,\n",
    "        scaled=not normalized,\n",
    "    )\n",
    "    fig.show()\n",
    "\n",
    "    if not normalized:\n",
    "        fig.write_html(f\"{plot_dir}/pc{i+1}.html\")\n",
    "    else:\n",
    "        fig.write_html(f\"{plot_dir}/pc{i+1}_normalized.html\")\n"
   ]
  },
  {
   "cell_type": "code",
   "execution_count": null,
   "id": "12724638",
   "metadata": {},
   "outputs": [],
   "source": [
    "fig_3d = plot_3d_pca(\n",
    "    pca_results,\n",
    "    role_labels,\n",
    "    \"pos23\",\n",
    "    assistant_projection=asst_projected[0],\n",
    "    subtitle=f\"{model_name.replace('-', ' ')}, Layer {layer} - Shared Question Set\"\n",
    ")\n",
    "fig_3d.show()\n",
    "#fig_3d.write_html(f\"{plot_dir}/pca_3d.html\")"
   ]
  }
 ],
 "metadata": {
  "kernelspec": {
   "display_name": ".venv",
   "language": "python",
   "name": "python3"
  },
  "language_info": {
   "codemirror_mode": {
    "name": "ipython",
    "version": 3
   },
   "file_extension": ".py",
   "mimetype": "text/x-python",
   "name": "python",
   "nbconvert_exporter": "python",
   "pygments_lexer": "ipython3",
   "version": "3.13.5"
  }
 },
 "nbformat": 4,
 "nbformat_minor": 5
}
