{
 "cells": [
  {
   "cell_type": "markdown",
   "id": "28531137",
   "metadata": {},
   "source": [
    "# PCA on roles"
   ]
  },
  {
   "cell_type": "code",
   "execution_count": 1,
   "id": "30f3bcdd",
   "metadata": {
    "execution": {
     "iopub.execute_input": "2025-08-06T00:18:08.842015Z",
     "iopub.status.busy": "2025-08-06T00:18:08.841387Z",
     "iopub.status.idle": "2025-08-06T00:18:09.171163Z",
     "shell.execute_reply": "2025-08-06T00:18:09.170519Z"
    }
   },
   "outputs": [],
   "source": [
    "import os\n",
    "import sys\n",
    "import torch\n",
    "import numpy as np\n",
    "import pandas as pd\n",
    "\n",
    "sys.path.append('.')\n",
    "sys.path.append('..')\n",
    "\n",
    "from utils.pca_utils import *\n",
    "from plots import *"
   ]
  },
  {
   "cell_type": "markdown",
   "id": "julz1owfwk",
   "metadata": {},
   "source": [
    "## Configuration"
   ]
  },
  {
   "cell_type": "code",
   "execution_count": 39,
   "id": "o7pmyp071r",
   "metadata": {},
   "outputs": [],
   "source": [
    "# Configuration - Change these parameters for different models/datasets\n",
    "base_dir = \"/workspace/gemma-2-27b\"\n",
    "type = \"roles_240\"\n",
    "dir = f\"{base_dir}/{type}\"\n",
    "model_name = \"Gemma 2 27B\"\n",
    "layer = 34"
   ]
  },
  {
   "cell_type": "code",
   "execution_count": 29,
   "id": "9d78b00f",
   "metadata": {},
   "outputs": [],
   "source": [
    "# 30 or 240\n",
    "if type == \"roles\":\n",
    "    n_questions = 30\n",
    "    n_prompt_types = 2\n",
    "elif type == \"roles_240\":  # roles_240 or other patterns\n",
    "    n_questions = 240\n",
    "    n_prompt_types = 1"
   ]
  },
  {
   "cell_type": "markdown",
   "id": "ce50bcb7",
   "metadata": {},
   "source": [
    "## Load vectors"
   ]
  },
  {
   "cell_type": "code",
   "execution_count": 30,
   "id": "5586e787",
   "metadata": {},
   "outputs": [
    {
     "name": "stdout",
     "output_type": "stream",
     "text": [
      "Found 275 roles with vectors\n"
     ]
    }
   ],
   "source": [
    "# load all vectors \n",
    "vector_dir = f\"{dir}/vectors\"\n",
    "\n",
    "# iterate through each .pt file in the directory\n",
    "vectors = {}\n",
    "for file in os.listdir(vector_dir):\n",
    "    if file.endswith(\".pt\"):\n",
    "        vectors[file.replace(\".pt\", \"\")] = torch.load(os.path.join(vector_dir, file))\n",
    "\n",
    "print(f\"Found {len(vectors.keys())} roles with vectors\")"
   ]
  },
  {
   "cell_type": "code",
   "execution_count": 22,
   "id": "2cf79b53",
   "metadata": {},
   "outputs": [],
   "source": [
    "# load default vectors\n",
    "default_vectors = torch.load(f\"{dir}/default_vectors.pt\")"
   ]
  },
  {
   "cell_type": "code",
   "execution_count": 23,
   "id": "0782a940",
   "metadata": {},
   "outputs": [
    {
     "name": "stdout",
     "output_type": "stream",
     "text": [
      "dict_keys(['pos_2', 'pos_3', 'pos_all'])\n",
      "dict_keys(['activations', 'metadata'])\n",
      "dict_keys(['pos_1', 'all_1', 'default_1'])\n"
     ]
    }
   ],
   "source": [
    "print(vectors['graduate'].keys())\n",
    "print(default_vectors.keys())\n",
    "print(default_vectors['activations'].keys())"
   ]
  },
  {
   "cell_type": "markdown",
   "id": "f0358486",
   "metadata": {},
   "source": [
    "## PCA "
   ]
  },
  {
   "cell_type": "code",
   "execution_count": 24,
   "id": "891a2cc8",
   "metadata": {},
   "outputs": [
    {
     "name": "stdout",
     "output_type": "stream",
     "text": [
      "173\n",
      "275\n"
     ]
    }
   ],
   "source": [
    "pos_2_roles = []\n",
    "pos_2_vectors = []\n",
    "pos_3_roles = []\n",
    "pos_3_vectors = []\n",
    "\n",
    "# get the vectors keys for pos_2 and pos_3 for each role\n",
    "for role, vector in vectors.items():\n",
    "    if 'pos_2' in vector.keys():\n",
    "        pos_2_roles.append(role)\n",
    "        pos_2_vectors.append(vector['pos_2'])\n",
    "    if 'pos_3' in vector.keys():\n",
    "        pos_3_roles.append(role)\n",
    "        pos_3_vectors.append(vector['pos_3'])\n",
    "\n",
    "print(len(pos_2_roles))\n",
    "print(len(pos_3_roles))\n",
    "\n",
    "combined_vectors = pos_2_vectors + pos_3_vectors"
   ]
  },
  {
   "cell_type": "code",
   "execution_count": 25,
   "id": "e89db366",
   "metadata": {},
   "outputs": [
    {
     "name": "stdout",
     "output_type": "stream",
     "text": [
      "torch.Size([448, 46, 4608])\n"
     ]
    }
   ],
   "source": [
    "float_stack_vectors = torch.stack(combined_vectors).float()\n",
    "print(float_stack_vectors.shape)"
   ]
  },
  {
   "cell_type": "code",
   "execution_count": 40,
   "id": "a8876796",
   "metadata": {},
   "outputs": [
    {
     "name": "stdout",
     "output_type": "stream",
     "text": [
      "PCA fitted with 448 components\n",
      "Cumulative variance for first 5 components: [0.16902802 0.25303985 0.30386488 0.35273554 0.38629897]\n",
      "\n",
      "PCA Analysis Results:\n",
      "Elbow point at component: 2\n",
      "Dimensions for 70% variance: 28\n",
      "Dimensions for 80% variance: 49\n",
      "Dimensions for 90% variance: 90\n",
      "Dimensions for 95% variance: 133\n"
     ]
    }
   ],
   "source": [
    "pca_transformed, variance_explained, n_components, pca, scaler = compute_pca(float_stack_vectors, layer)"
   ]
  },
  {
   "cell_type": "code",
   "execution_count": 41,
   "id": "33c389b7",
   "metadata": {},
   "outputs": [
    {
     "name": "stdout",
     "output_type": "stream",
     "text": [
      "Saved PCA results to /workspace/gemma-2-27b/roles_240/pca/layer34_pos23.pt\n"
     ]
    }
   ],
   "source": [
    "results = {}\n",
    "results['layer'] = layer\n",
    "results['roles'] = {\n",
    "    'pos_2': pos_2_roles,\n",
    "    'pos_3': pos_3_roles\n",
    "}\n",
    "results['vectors'] = {\n",
    "    'pos_2': pos_2_vectors,\n",
    "    'pos_3': pos_3_vectors\n",
    "}\n",
    "results['pca_transformed'] = pca_transformed\n",
    "results['variance_explained'] = variance_explained\n",
    "results['n_components'] = n_components\n",
    "results['pca'] = pca\n",
    "results['scaler'] = scaler\n",
    "\n",
    "pca_dir = f\"{dir}/pca\"\n",
    "os.makedirs(pca_dir, exist_ok=True)\n",
    "torch.save(results, f\"{pca_dir}/layer{layer}_pos23.pt\")\n",
    "print(f\"Saved PCA results to {pca_dir}/layer{layer}_pos23.pt\")"
   ]
  },
  {
   "cell_type": "code",
   "execution_count": null,
   "id": "ac88e530",
   "metadata": {},
   "outputs": [],
   "source": [
    "# also compute for normalized vectors\n",
    "normalized_vectors = F.normalize(float_stack_vectors, p=2, dim=-1)\n",
    "\n",
    "norms = normalized_vectors.norm(p=2, dim=-1)\n",
    "print(norms.mean().item(), norms.std().item())"
   ]
  },
  {
   "cell_type": "code",
   "execution_count": null,
   "id": "5f7b9e15",
   "metadata": {},
   "outputs": [],
   "source": [
    "pca_transformed, variance_explained, n_components, pca, scaler = compute_pca(normalized_vectors, layer, scaler=False)"
   ]
  },
  {
   "cell_type": "code",
   "execution_count": null,
   "id": "c4413483",
   "metadata": {},
   "outputs": [],
   "source": [
    "results = {}\n",
    "results['layer'] = layer\n",
    "results['roles'] = {\n",
    "    'pos_2': pos_2_roles,\n",
    "    'pos_3': pos_3_roles\n",
    "}\n",
    "results['vectors'] = {\n",
    "    'pos_2': pos_2_vectors,\n",
    "    'pos_3': pos_3_vectors\n",
    "}\n",
    "results['pca_transformed'] = pca_transformed\n",
    "results['variance_explained'] = variance_explained\n",
    "results['n_components'] = n_components\n",
    "results['pca'] = pca\n",
    "results['scaler'] = scaler\n",
    "\n",
    "pca_dir = f\"{dir}/pca\"\n",
    "os.makedirs(pca_dir, exist_ok=True)\n",
    "torch.save(results, f\"{pca_dir}/layer{layer}_normalized_pos23.pt\")"
   ]
  },
  {
   "cell_type": "markdown",
   "id": "62bec2d8",
   "metadata": {},
   "source": [
    "## Plots"
   ]
  },
  {
   "cell_type": "code",
   "execution_count": 33,
   "id": "76552389",
   "metadata": {},
   "outputs": [],
   "source": [
    "type = \"pos23\"\n",
    "\n",
    "plot_dir = f\"/root/git/plots/results/{model_name.lower().replace(' ', '-')}/roles\"\n",
    "os.makedirs(plot_dir, exist_ok=True)\n",
    "\n",
    "normalized = False\n",
    "if normalized:\n",
    "    pca_results = torch.load(f\"{dir}/pca/layer{layer}_normalized_pos23.pt\", weights_only=False)\n",
    "else:\n",
    "    pca_results = torch.load(f\"{dir}/pca/layer{layer}_pos23.pt\", weights_only=False)"
   ]
  },
  {
   "cell_type": "code",
   "execution_count": 18,
   "id": "81c1c717",
   "metadata": {},
   "outputs": [],
   "source": [
    "# flip PC1 for llama\n",
    "pca_results['pca'].components_[0] *= -1\n",
    "pca_results['pca_transformed'][:, 0] *= -1\n",
    "torch.save(pca_results, f\"{dir}/pca/layer{layer}_pos23.pt\")"
   ]
  },
  {
   "cell_type": "code",
   "execution_count": 34,
   "id": "ccb9a433",
   "metadata": {},
   "outputs": [],
   "source": [
    "# load in PCs\n",
    "default_vectors = torch.load(f\"{dir}/default_vectors.pt\")"
   ]
  },
  {
   "cell_type": "code",
   "execution_count": 35,
   "id": "438508c8",
   "metadata": {},
   "outputs": [],
   "source": [
    "# also calculate role labels for plotting\n",
    "def get_role_labels(pca_results):\n",
    "    labels = []\n",
    "    if 'pos_2' in pca_results['roles'].keys():\n",
    "        pos_2_roles = [role.replace('_', ' ').title() for role in pca_results['roles']['pos_2']]\n",
    "        pos_2_roles = [f\"{role} (Somewhat RP)\" for role in pos_2_roles]\n",
    "        labels.extend(pos_2_roles)\n",
    "    if 'pos_3' in pca_results['roles'].keys():\n",
    "        pos_3_roles = [role.replace('_', ' ').title() for role in pca_results['roles']['pos_3']]\n",
    "        pos_3_roles = [f\"{role} (Fully RP)\" for role in pos_3_roles]\n",
    "        labels.extend(pos_3_roles)\n",
    "    return labels\n",
    "\n",
    "role_labels = get_role_labels(pca_results)\n",
    "\n"
   ]
  },
  {
   "cell_type": "code",
   "execution_count": 36,
   "id": "c63a439b",
   "metadata": {},
   "outputs": [
    {
     "name": "stdout",
     "output_type": "stream",
     "text": [
      "['Writer (Somewhat RP)', 'Workaholic (Somewhat RP)', 'Witness (Somewhat RP)', 'Visionary (Somewhat RP)', 'Virus (Somewhat RP)', 'Virtuoso (Somewhat RP)', 'Vigilante (Somewhat RP)', 'Veterinarian (Somewhat RP)', 'Vegan (Somewhat RP)', 'Validator (Somewhat RP)']\n",
      "['Altruist (Fully RP)', 'Alien (Fully RP)', 'Advocate (Fully RP)', 'Adolescent (Fully RP)', 'Addict (Fully RP)', 'Actor (Fully RP)', 'Activist (Fully RP)', 'Accountant (Fully RP)', 'Absurdist (Fully RP)', 'Aberration (Fully RP)']\n"
     ]
    }
   ],
   "source": [
    "print(role_labels[:10])\n",
    "print(role_labels[-10:])"
   ]
  },
  {
   "cell_type": "code",
   "execution_count": 37,
   "id": "9669bef9",
   "metadata": {},
   "outputs": [],
   "source": [
    "# get default activation and project into PCA space\n",
    "assistant_layer_activation = default_vectors['activations']['default_1'][layer, :].float().reshape(1, -1)\n",
    "if not normalized:\n",
    "    asst_scaled = pca_results['scaler'].transform(assistant_layer_activation)\n",
    "    asst_projected = pca_results['pca'].transform(asst_scaled)\n",
    "else:\n",
    "    asst_normalized = F.normalize(assistant_layer_activation, p=2, dim=-1)\n",
    "    asst_projected = pca_results['pca'].transform(asst_normalized)\n",
    "\n",
    "assistant_layer_activation = assistant_layer_activation.numpy()\n"
   ]
  },
  {
   "cell_type": "code",
   "execution_count": 38,
   "id": "5e02ea98",
   "metadata": {},
   "outputs": [
    {
     "data": {
      "application/vnd.plotly.v1+json": {
       "config": {
        "plotlyServerURL": "https://plot.ly"
       },
       "data": [
        {
         "hovertemplate": "<b>%{text}</b><br>Cosine Similarity: %{x:.3f}<extra></extra>",
         "legendgroup": "pos2",
         "marker": {
          "color": "cyan",
          "line": {
           "color": "black",
           "width": 1
          },
          "opacity": 1,
          "size": 8,
          "symbol": "circle"
         },
         "mode": "markers",
         "name": "Somewhat Role-Playing",
         "text": [
          "Writer (Somewhat RP)",
          "Workaholic (Somewhat RP)",
          "Witness (Somewhat RP)",
          "Visionary (Somewhat RP)",
          "Virus (Somewhat RP)",
          "Virtuoso (Somewhat RP)",
          "Vigilante (Somewhat RP)",
          "Veterinarian (Somewhat RP)",
          "Vegan (Somewhat RP)",
          "Tutor (Somewhat RP)",
          "Tulpa (Somewhat RP)",
          "Translator (Somewhat RP)",
          "Trainer (Somewhat RP)",
          "Traditionalist (Somewhat RP)",
          "Therapist (Somewhat RP)",
          "Theorist (Somewhat RP)",
          "Technologist (Somewhat RP)",
          "Teacher (Somewhat RP)",
          "Synthesizer (Somewhat RP)",
          "Symbiont (Somewhat RP)",
          "Swarm (Somewhat RP)",
          "Summarizer (Somewhat RP)",
          "Student (Somewhat RP)",
          "Strategist (Somewhat RP)",
          "Stoic (Somewhat RP)",
          "Statistician (Somewhat RP)",
          "Spy (Somewhat RP)",
          "Specialist (Somewhat RP)",
          "Sommelier (Somewhat RP)",
          "Sociologist (Somewhat RP)",
          "Skeptic (Somewhat RP)",
          "Simulacrum (Somewhat RP)",
          "Shapeshifter (Somewhat RP)",
          "Secretary (Somewhat RP)",
          "Screener (Somewhat RP)",
          "Scout (Somewhat RP)",
          "Scientist (Somewhat RP)",
          "Scholar (Somewhat RP)",
          "Scheduler (Somewhat RP)",
          "Saboteur (Somewhat RP)",
          "Robot (Somewhat RP)",
          "Revolutionary (Somewhat RP)",
          "Reporter (Somewhat RP)",
          "Recruiter (Somewhat RP)",
          "Realist (Somewhat RP)",
          "Publisher (Somewhat RP)",
          "Psychologist (Somewhat RP)",
          "Proofreader (Somewhat RP)",
          "Programmer (Somewhat RP)",
          "Producer (Somewhat RP)",
          "Prodigy (Somewhat RP)",
          "Presenter (Somewhat RP)",
          "Pragmatist (Somewhat RP)",
          "Polymath (Somewhat RP)",
          "Playwright (Somewhat RP)",
          "Pilot (Somewhat RP)",
          "Physicist (Somewhat RP)",
          "Philosopher (Somewhat RP)",
          "Pharmacist (Somewhat RP)",
          "Perfectionist (Somewhat RP)",
          "Peacekeeper (Somewhat RP)",
          "Patient (Somewhat RP)",
          "Paramedic (Somewhat RP)",
          "Pacifist (Somewhat RP)",
          "Organizer (Somewhat RP)",
          "Optimist (Somewhat RP)",
          "Observer (Somewhat RP)",
          "Nutritionist (Somewhat RP)",
          "Novelist (Somewhat RP)",
          "Networker (Somewhat RP)",
          "Negotiator (Somewhat RP)",
          "Navigator (Somewhat RP)",
          "Naturalist (Somewhat RP)",
          "Musician (Somewhat RP)",
          "Moderator (Somewhat RP)",
          "Minimalist (Somewhat RP)",
          "Merchant (Somewhat RP)",
          "Mentor (Somewhat RP)",
          "Mediator (Somewhat RP)",
          "Mechanic (Somewhat RP)",
          "Maverick (Somewhat RP)",
          "Mathematician (Somewhat RP)",
          "Martyr (Somewhat RP)",
          "Marketer (Somewhat RP)",
          "Loner (Somewhat RP)",
          "Linguist (Somewhat RP)",
          "Librarian (Somewhat RP)",
          "Lawyer (Somewhat RP)",
          "Judge (Somewhat RP)",
          "Journalist (Somewhat RP)",
          "Jester (Somewhat RP)",
          "Interviewer (Somewhat RP)",
          "Interpreter (Somewhat RP)",
          "Instructor (Somewhat RP)",
          "Influencer (Somewhat RP)",
          "Improviser (Somewhat RP)",
          "Idealist (Somewhat RP)",
          "Hybrid (Somewhat RP)",
          "Hive (Somewhat RP)",
          "Historian (Somewhat RP)",
          "Healer (Somewhat RP)",
          "Hacker (Somewhat RP)",
          "Guide (Somewhat RP)",
          "Guardian (Somewhat RP)",
          "Graduate (Somewhat RP)",
          "Grader (Somewhat RP)",
          "Geographer (Somewhat RP)",
          "Generalist (Somewhat RP)",
          "Futurist (Somewhat RP)",
          "Forecaster (Somewhat RP)",
          "Fixer (Somewhat RP)",
          "Facilitator (Somewhat RP)",
          "Expatriate (Somewhat RP)",
          "Entrepreneur (Somewhat RP)",
          "Engineer (Somewhat RP)",
          "Empath (Somewhat RP)",
          "Emissary (Somewhat RP)",
          "Ecosystem (Somewhat RP)",
          "Economist (Somewhat RP)",
          "Doctor (Somewhat RP)",
          "Divorcee (Somewhat RP)",
          "Dispatcher (Somewhat RP)",
          "Devils Advocate (Somewhat RP)",
          "Detective (Somewhat RP)",
          "Destroyer (Somewhat RP)",
          "Designer (Somewhat RP)",
          "Debugger (Somewhat RP)",
          "Daredevil (Somewhat RP)",
          "Cyborg (Somewhat RP)",
          "Curator (Somewhat RP)",
          "Critic (Somewhat RP)",
          "Counselor (Somewhat RP)",
          "Cosmopolitan (Somewhat RP)",
          "Contrarian (Somewhat RP)",
          "Consultant (Somewhat RP)",
          "Conservator (Somewhat RP)",
          "Composer (Somewhat RP)",
          "Competitor (Somewhat RP)",
          "Collector (Somewhat RP)",
          "Collaborator (Somewhat RP)",
          "Coach (Somewhat RP)",
          "Chemist (Somewhat RP)",
          "Chef (Somewhat RP)",
          "Chameleon (Somewhat RP)",
          "Cartographer (Somewhat RP)",
          "Caregiver (Somewhat RP)",
          "Builder (Somewhat RP)",
          "Biologist (Somewhat RP)",
          "Auditor (Somewhat RP)",
          "Assistant (Somewhat RP)",
          "Artisan (Somewhat RP)",
          "Archivist (Somewhat RP)",
          "Architect (Somewhat RP)",
          "Archaeologist (Somewhat RP)",
          "Anthropologist (Somewhat RP)",
          "Ambassador (Somewhat RP)",
          "Amateur (Somewhat RP)",
          "Altruist (Somewhat RP)",
          "Advocate (Somewhat RP)",
          "Addict (Somewhat RP)",
          "Activist (Somewhat RP)",
          "Accountant (Somewhat RP)",
          "Aberration (Somewhat RP)"
         ],
         "type": "scatter",
         "x": [
          -0.6759689971093751,
          0.20453928895328996,
          -0.6661761331715332,
          -0.11850073961266133,
          -0.35147202166741937,
          -0.5937086773793981,
          -0.0005152946723319112,
          -0.5473218588412208,
          -0.37796161919766996,
          -0.5368343949651829,
          -0.2358375466586703,
          -0.5613370376640673,
          -0.7493124152487758,
          0.2059670535727892,
          -0.5786640714249904,
          -0.427441931265803,
          -0.5675115922630317,
          -0.629582203776368,
          -0.740004356338253,
          -0.26766552633992396,
          -0.427727162525308,
          -0.6806881658145281,
          -0.5266691212616542,
          -0.625182290291928,
          0.19706295521004197,
          -0.5475755686960282,
          -0.31724555778210944,
          -0.7232785285420401,
          -0.010528817378617198,
          -0.5684226793051675,
          -0.4284634501931516,
          -0.0429819923278982,
          -0.43680489020903107,
          -0.6813988817585409,
          -0.7228192545559058,
          -0.4672448951777649,
          -0.6430281352515574,
          -0.6492544565375348,
          -0.7206970975041266,
          -0.1859426489550358,
          -0.5443050358613047,
          -0.14683084945400604,
          -0.6129446711787363,
          -0.6770971393826308,
          -0.34431232751713914,
          -0.7018436911293724,
          -0.6618224861025344,
          -0.520214372051734,
          -0.6127865290618482,
          -0.701538046267064,
          -0.40593566938460374,
          -0.5270842542766161,
          -0.4708209704165818,
          -0.5273515470156392,
          -0.2962788094753301,
          -0.485076914747145,
          -0.4710888546344656,
          -0.07295427353741299,
          -0.6411089178086201,
          -0.3719820630514171,
          -0.5928510033861881,
          -0.4735241527291956,
          -0.5401368646649443,
          0.08907244952062178,
          -0.7024347326291052,
          -0.08054417114862022,
          -0.6315278521771931,
          -0.581710647116449,
          0.08442458943605885,
          -0.5142881701906011,
          -0.563043502736394,
          -0.4719813645206505,
          -0.09317598450281744,
          -0.1658490066151614,
          -0.6774503007313188,
          0.24138531608867583,
          -0.21386206695953236,
          -0.6869071054545303,
          -0.45195151522268906,
          -0.1644423023487881,
          0.26229924213407596,
          -0.38125186998284105,
          0.37219881656215503,
          -0.6808135167480884,
          -0.12398557908306806,
          -0.5172350162967632,
          -0.6020105710867101,
          -0.6143282670029252,
          -0.7055088415041211,
          -0.7072452828374366,
          0.2882904774103421,
          -0.5311412427197821,
          -0.6643284013819984,
          -0.7305386735402958,
          -0.4965345491074023,
          0.029781495723025117,
          -0.009829067798160918,
          -0.27027115781436395,
          -0.407868198147637,
          -0.45882485175691334,
          -0.3163607927741111,
          -0.1613299059391374,
          -0.5241167225066491,
          -0.5490530632649463,
          -0.49678649301481864,
          -0.7472331052008344,
          -0.535429463493605,
          -0.7478419471956987,
          -0.43973380153153124,
          -0.7385478171103491,
          -0.036285870301136385,
          -0.7018139311160451,
          -0.46346700911778443,
          -0.4704887727546249,
          -0.7244666048148427,
          -0.15782089237664654,
          -0.5408025042555697,
          -0.4466750103909865,
          -0.6364842753593204,
          -0.6635012941296513,
          -0.4118617425817661,
          -0.602294919841464,
          -0.19456654141065613,
          -0.5785736873471555,
          -0.24884878689019937,
          -0.5966728189384674,
          -0.7111408621973954,
          0.26390209920962965,
          -0.326183353137115,
          -0.6278209402397276,
          -0.5467435303138666,
          -0.47085096721694675,
          0.00763083363572356,
          0.09706158185905424,
          -0.7373990774027769,
          -0.4619672427515029,
          -0.1670197079290709,
          0.06937097252834093,
          -0.5846555052761696,
          -0.5339435864049494,
          -0.6351789290179616,
          -0.5152705943534206,
          -0.07551487436833354,
          -0.14256265366732232,
          -0.42108080334892484,
          -0.1310996601809237,
          -0.23871190308511686,
          -0.5760949947624738,
          -0.7308856618591179,
          -0.5801122083495892,
          0.4089504130950224,
          -0.6014131665472564,
          -0.5584332752602997,
          -0.2807654240333708,
          -0.5266858870354626,
          -0.6843239618621522,
          -0.16856432823622397,
          -0.4049420843675053,
          -0.6973441694653179,
          -0.0949024079770824,
          -0.447051304534687,
          -0.64826563526702,
          -0.3562885904779935
         ],
         "y": [
          1,
          1,
          1,
          1,
          1,
          1,
          1,
          1,
          1,
          1,
          1,
          1,
          1,
          1,
          1,
          1,
          1,
          1,
          1,
          1,
          1,
          1,
          1,
          1,
          1,
          1,
          1,
          1,
          1,
          1,
          1,
          1,
          1,
          1,
          1,
          1,
          1,
          1,
          1,
          1,
          1,
          1,
          1,
          1,
          1,
          1,
          1,
          1,
          1,
          1,
          1,
          1,
          1,
          1,
          1,
          1,
          1,
          1,
          1,
          1,
          1,
          1,
          1,
          1,
          1,
          1,
          1,
          1,
          1,
          1,
          1,
          1,
          1,
          1,
          1,
          1,
          1,
          1,
          1,
          1,
          1,
          1,
          1,
          1,
          1,
          1,
          1,
          1,
          1,
          1,
          1,
          1,
          1,
          1,
          1,
          1,
          1,
          1,
          1,
          1,
          1,
          1,
          1,
          1,
          1,
          1,
          1,
          1,
          1,
          1,
          1,
          1,
          1,
          1,
          1,
          1,
          1,
          1,
          1,
          1,
          1,
          1,
          1,
          1,
          1,
          1,
          1,
          1,
          1,
          1,
          1,
          1,
          1,
          1,
          1,
          1,
          1,
          1,
          1,
          1,
          1,
          1,
          1,
          1,
          1,
          1,
          1,
          1,
          1,
          1,
          1,
          1,
          1,
          1,
          1,
          1,
          1,
          1,
          1,
          1,
          1,
          1,
          1
         ]
        },
        {
         "hovertemplate": "<b>%{text}</b><br>Cosine Similarity: %{x:.3f}<extra></extra>",
         "legendgroup": "pos2",
         "marker": {
          "color": "cyan",
          "line": {
           "color": "black",
           "width": 1
          },
          "opacity": 1,
          "size": 8,
          "symbol": "circle"
         },
         "mode": "markers",
         "name": "Somewhat Role-Playing",
         "showlegend": false,
         "text": [
          "Validator (Somewhat RP)",
          "Supervisor (Somewhat RP)",
          "Reviewer (Somewhat RP)",
          "Researcher (Somewhat RP)",
          "Planner (Somewhat RP)",
          "Examiner (Somewhat RP)",
          "Evaluator (Somewhat RP)",
          "Editor (Somewhat RP)",
          "Coordinator (Somewhat RP)",
          "Analyst (Somewhat RP)"
         ],
         "type": "scatter",
         "x": [
          -0.775402512655442,
          -0.7846595292387171,
          -0.8003932756084821,
          -0.7822530713229844,
          -0.7987908453604858,
          -0.765187735928902,
          -0.7754416064850178,
          -0.7829519847524846,
          -0.7525827740698718,
          -0.7745077618004124
         ],
         "y": [
          1,
          1,
          1,
          1,
          1,
          1,
          1,
          1,
          1,
          1
         ]
        },
        {
         "hovertemplate": "<b>%{text}</b><br>Cosine Similarity: %{x:.3f}<extra></extra>",
         "legendgroup": "pos3",
         "marker": {
          "color": "blue",
          "line": {
           "color": "black",
           "width": 1
          },
          "opacity": 1,
          "size": 8,
          "symbol": "square"
         },
         "mode": "markers",
         "name": "Fully Role-Playing",
         "text": [
          "Zeitgeist (Fully RP)",
          "Zealot (Fully RP)",
          "Writer (Fully RP)",
          "Workaholic (Fully RP)",
          "Witness (Fully RP)",
          "Wind (Fully RP)",
          "Widow (Fully RP)",
          "Warrior (Fully RP)",
          "Void (Fully RP)",
          "Visionary (Fully RP)",
          "Virus (Fully RP)",
          "Virtuoso (Fully RP)",
          "Vigilante (Fully RP)",
          "Veterinarian (Fully RP)",
          "Veteran (Fully RP)",
          "Vegan (Fully RP)",
          "Vampire (Fully RP)",
          "Validator (Fully RP)",
          "Tutor (Fully RP)",
          "Tulpa (Fully RP)",
          "Trickster (Fully RP)",
          "Tree (Fully RP)",
          "Translator (Fully RP)",
          "Trainer (Fully RP)",
          "Traditionalist (Fully RP)",
          "Toddler (Fully RP)",
          "Therapist (Fully RP)",
          "Theorist (Fully RP)",
          "Teenager (Fully RP)",
          "Technologist (Fully RP)",
          "Teacher (Fully RP)",
          "Synthesizer (Fully RP)",
          "Symbiont (Fully RP)",
          "Swarm (Fully RP)",
          "Survivor (Fully RP)",
          "Surfer (Fully RP)",
          "Supervisor (Fully RP)",
          "Summarizer (Fully RP)",
          "Student (Fully RP)",
          "Strategist (Fully RP)",
          "Stoic (Fully RP)",
          "Statistician (Fully RP)",
          "Spy (Fully RP)",
          "Spirit (Fully RP)",
          "Specialist (Fully RP)",
          "Sommelier (Fully RP)",
          "Soldier (Fully RP)",
          "Sociologist (Fully RP)",
          "Smuggler (Fully RP)",
          "Skeptic (Fully RP)",
          "Simulacrum (Fully RP)",
          "Shapeshifter (Fully RP)",
          "Shaman (Fully RP)",
          "Secretary (Fully RP)",
          "Screener (Fully RP)",
          "Scout (Fully RP)",
          "Scientist (Fully RP)",
          "Scholar (Fully RP)",
          "Scheduler (Fully RP)",
          "Sage (Fully RP)",
          "Saboteur (Fully RP)",
          "Romantic (Fully RP)",
          "Rogue (Fully RP)",
          "Robot (Fully RP)",
          "Revolutionary (Fully RP)",
          "Reviewer (Fully RP)",
          "Retiree (Fully RP)",
          "Researcher (Fully RP)",
          "Reporter (Fully RP)",
          "Refugee (Fully RP)",
          "Recruiter (Fully RP)",
          "Rebel (Fully RP)",
          "Realist (Fully RP)",
          "Purist (Fully RP)",
          "Publisher (Fully RP)",
          "Psychologist (Fully RP)",
          "Provocateur (Fully RP)",
          "Provincial (Fully RP)",
          "Proofreader (Fully RP)",
          "Programmer (Fully RP)",
          "Producer (Fully RP)",
          "Prodigy (Fully RP)",
          "Procrastinator (Fully RP)",
          "Prisoner (Fully RP)",
          "Prey (Fully RP)",
          "Presenter (Fully RP)",
          "Predator (Fully RP)",
          "Pragmatist (Fully RP)",
          "Polymath (Fully RP)",
          "Poet (Fully RP)",
          "Podcaster (Fully RP)",
          "Playwright (Fully RP)",
          "Planner (Fully RP)",
          "Pirate (Fully RP)",
          "Pilot (Fully RP)",
          "Pilgrim (Fully RP)",
          "Physicist (Fully RP)",
          "Photographer (Fully RP)",
          "Philosopher (Fully RP)",
          "Pharmacist (Fully RP)",
          "Perfectionist (Fully RP)",
          "Peacekeeper (Fully RP)",
          "Patient (Fully RP)",
          "Parent (Fully RP)",
          "Parasite (Fully RP)",
          "Paramedic (Fully RP)",
          "Pacifist (Fully RP)",
          "Orphan (Fully RP)",
          "Organizer (Fully RP)",
          "Oracle (Fully RP)",
          "Optimist (Fully RP)",
          "Observer (Fully RP)",
          "Nutritionist (Fully RP)",
          "Novelist (Fully RP)",
          "Nomad (Fully RP)",
          "Newlywed (Fully RP)",
          "Networker (Fully RP)",
          "Negotiator (Fully RP)",
          "Navigator (Fully RP)",
          "Naturalist (Fully RP)",
          "Narrator (Fully RP)",
          "Narcissist (Fully RP)",
          "Mystic (Fully RP)",
          "Mycorrhizal (Fully RP)",
          "Musician (Fully RP)",
          "Moderator (Fully RP)",
          "Minimalist (Fully RP)",
          "Merchant (Fully RP)",
          "Mentor (Fully RP)",
          "Mediator (Fully RP)",
          "Mechanic (Fully RP)",
          "Maverick (Fully RP)",
          "Mathematician (Fully RP)",
          "Martyr (Fully RP)",
          "Marketer (Fully RP)",
          "Luddite (Fully RP)",
          "Loner (Fully RP)",
          "Linguist (Fully RP)",
          "Librarian (Fully RP)",
          "Lawyer (Fully RP)",
          "Judge (Fully RP)",
          "Journalist (Fully RP)",
          "Jester (Fully RP)",
          "Interviewer (Fully RP)",
          "Interpreter (Fully RP)",
          "Instructor (Fully RP)",
          "Influencer (Fully RP)",
          "Infant (Fully RP)",
          "Improviser (Fully RP)",
          "Immigrant (Fully RP)",
          "Idealist (Fully RP)",
          "Hybrid (Fully RP)",
          "Homunculus (Fully RP)",
          "Hoarder (Fully RP)",
          "Hive (Fully RP)",
          "Historian (Fully RP)",
          "Hedonist (Fully RP)",
          "Healer (Fully RP)",
          "Hacker (Fully RP)",
          "Guru (Fully RP)",
          "Guide (Fully RP)",
          "Guardian (Fully RP)",
          "Grandparent (Fully RP)",
          "Graduate (Fully RP)",
          "Grader (Fully RP)",
          "Gossip (Fully RP)",
          "Golem (Fully RP)",
          "Geographer (Fully RP)",
          "Genie (Fully RP)",
          "Generalist (Fully RP)",
          "Gamer (Fully RP)",
          "Futurist (Fully RP)",
          "Forecaster (Fully RP)",
          "Fool (Fully RP)",
          "Flaneur (Fully RP)",
          "Fixer (Fully RP)",
          "Familiar (Fully RP)",
          "Facilitator (Fully RP)",
          "Expatriate (Fully RP)",
          "Exile (Fully RP)",
          "Examiner (Fully RP)",
          "Evangelist (Fully RP)",
          "Evaluator (Fully RP)",
          "Entrepreneur (Fully RP)",
          "Engineer (Fully RP)",
          "Empath (Fully RP)",
          "Emissary (Fully RP)",
          "Eldritch (Fully RP)",
          "Elder (Fully RP)",
          "Egregore (Fully RP)",
          "Editor (Fully RP)",
          "Ecosystem (Fully RP)",
          "Economist (Fully RP)",
          "Echo (Fully RP)",
          "Dreamer (Fully RP)",
          "Doctor (Fully RP)",
          "Divorcee (Fully RP)",
          "Dispatcher (Fully RP)",
          "Dilettante (Fully RP)",
          "Devils Advocate (Fully RP)",
          "Detective (Fully RP)",
          "Destroyer (Fully RP)",
          "Designer (Fully RP)",
          "Demon (Fully RP)",
          "Debugger (Fully RP)",
          "Daredevil (Fully RP)",
          "Cynic (Fully RP)",
          "Cyborg (Fully RP)",
          "Curator (Fully RP)",
          "Crystalline (Fully RP)",
          "Critic (Fully RP)",
          "Criminal (Fully RP)",
          "Counselor (Fully RP)",
          "Cosmopolitan (Fully RP)",
          "Coral Reef (Fully RP)",
          "Coordinator (Fully RP)",
          "Contrarian (Fully RP)",
          "Consultant (Fully RP)",
          "Conservator (Fully RP)",
          "Composer (Fully RP)",
          "Competitor (Fully RP)",
          "Comedian (Fully RP)",
          "Collector (Fully RP)",
          "Collaborator (Fully RP)",
          "Coach (Fully RP)",
          "Chimera (Fully RP)",
          "Chemist (Fully RP)",
          "Chef (Fully RP)",
          "Chameleon (Fully RP)",
          "Celebrity (Fully RP)",
          "Caveman (Fully RP)",
          "Cartographer (Fully RP)",
          "Caregiver (Fully RP)",
          "Builder (Fully RP)",
          "Blogger (Fully RP)",
          "Biologist (Fully RP)",
          "Bartender (Fully RP)",
          "Bard (Fully RP)",
          "Avatar (Fully RP)",
          "Auditor (Fully RP)",
          "Auctioneer (Fully RP)",
          "Assistant (Fully RP)",
          "Ascetic (Fully RP)",
          "Artisan (Fully RP)",
          "Archivist (Fully RP)",
          "Architect (Fully RP)",
          "Archaeologist (Fully RP)",
          "Anthropologist (Fully RP)",
          "Angel (Fully RP)",
          "Ancient (Fully RP)",
          "Anarchist (Fully RP)",
          "Analyst (Fully RP)",
          "Amnesiac (Fully RP)",
          "Ambassador (Fully RP)",
          "Amateur (Fully RP)",
          "Altruist (Fully RP)",
          "Alien (Fully RP)",
          "Advocate (Fully RP)",
          "Adolescent (Fully RP)",
          "Addict (Fully RP)",
          "Actor (Fully RP)",
          "Activist (Fully RP)",
          "Accountant (Fully RP)",
          "Absurdist (Fully RP)",
          "Aberration (Fully RP)"
         ],
         "type": "scatter",
         "x": [
          0.3874371794137119,
          0.47636786633179723,
          0.06899610603925219,
          0.3217746270540337,
          0.28109611405744817,
          0.6819791175518124,
          0.40980205467927633,
          0.650001024036425,
          0.5891718226613372,
          0.2647686181781373,
          0.1398362542066981,
          0.6190138709840421,
          0.41365797605751753,
          -0.36674684632589566,
          0.30942037276620843,
          -0.21818886962476586,
          0.672745757216327,
          -0.635729554040272,
          -0.4227994899944817,
          0.02180664142613047,
          0.6262878051678564,
          0.6557284774413246,
          -0.4538315656736609,
          -0.38987180320476866,
          0.3609528856953253,
          0.27718354512125154,
          -0.3663174002154944,
          -0.24387673298570775,
          0.16035119857361863,
          -0.2958688440612936,
          -0.3879440897804967,
          -0.31877693028505966,
          0.023438190399168987,
          0.30379634783444265,
          0.5315197231892353,
          0.5126722470634687,
          -0.528390982564313,
          -0.47745359066800386,
          -0.166557824263434,
          -0.4907103692679422,
          0.3478295494995459,
          -0.5239134779912665,
          0.29218297193621157,
          0.665395998199193,
          -0.4164620920617138,
          0.14136648355687081,
          0.3872045243070325,
          -0.4456946345082773,
          0.5281384391407707,
          -0.25647517064908243,
          0.2995563631047725,
          0.47381176509004613,
          0.6646794385159239,
          -0.5971053816740199,
          -0.5684032970594606,
          0.13245440113239784,
          -0.5750618177963988,
          -0.38364620313151104,
          -0.6052898847695822,
          0.6028155306395278,
          0.216196685151856,
          0.6400170403045476,
          0.6259746086651877,
          -0.21202772904137993,
          0.3302646377150805,
          -0.5575765079071062,
          0.3045670404338284,
          -0.5857857955103771,
          -0.38190636265307654,
          0.3681577559815231,
          -0.4636865504504761,
          0.5421188407855361,
          -0.1422010531748198,
          0.3799000360483892,
          -0.49601908192288746,
          -0.5006264576420525,
          0.4758930699387545,
          0.5033028232668872,
          -0.40027771394277273,
          -0.32207519622223996,
          -0.4427655262096165,
          0.20703949453558448,
          0.21477072253526397,
          0.44847466185128115,
          0.5508433961666392,
          -0.07954765166123716,
          0.5835132214176365,
          -0.2593878152648547,
          -0.04041196198850412,
          0.3496863848469515,
          0.02331994200772627,
          0.2066307373512735,
          -0.5431488268284904,
          0.604122206856585,
          -0.22802620304055354,
          0.6718210936010278,
          -0.2543886972614319,
          0.37319780585936985,
          0.27485791053989234,
          -0.5467853758708197,
          0.13123953771704128,
          -0.3771673930549585,
          0.07649944369289344,
          0.06707074845262904,
          0.36594016031494486,
          -0.22696099295404829,
          -0.11156577099629161,
          0.41450667312786826,
          -0.5593528192439308,
          0.6480105021635831,
          0.08944837275559407,
          -0.5017227585640683,
          -0.5005230937738813,
          0.44425489390701467,
          0.6255110844539356,
          0.0757450282685799,
          -0.3323796678045331,
          -0.4402428838056328,
          -0.13148907357052358,
          0.17632564935705686,
          0.5846477651125968,
          0.30900868035927315,
          0.6612262132515085,
          0.5479126621697971,
          0.43467360467540495,
          -0.3224736163317792,
          0.18976199656586726,
          0.27331754450640366,
          -0.453385536711428,
          -0.5094728998680177,
          0.20678794020568056,
          0.40612371929640234,
          -0.2290961927649782,
          0.5710350836316042,
          -0.44612474591052803,
          0.518890266578185,
          0.49082719624872845,
          -0.39386840334925327,
          -0.5239208640752061,
          -0.5339249606026907,
          -0.5393849537420331,
          -0.5488705332242987,
          0.5545195675809191,
          -0.16280289378665666,
          -0.3607917771360307,
          -0.48527832307816504,
          0.06436289454538181,
          0.1896502056320311,
          0.4195014785616221,
          0.2999193678897043,
          0.310466868923724,
          0.24956357558366535,
          0.632465206671582,
          0.41825158006418905,
          0.2579941866765814,
          -0.12428600326342637,
          0.4272697260250145,
          0.09331255814037245,
          0.46734421660589465,
          0.6064318389044255,
          -0.06510730309559351,
          -0.24567334456712317,
          0.4475337181405584,
          0.04649989553789658,
          -0.35776333057624377,
          0.41064372744542127,
          0.6500190109401802,
          -0.3535702744826193,
          0.566047452360728,
          -0.4319672702727691,
          0.2571434284442747,
          -0.23143811059996455,
          -0.474762740558182,
          0.4692240880473707,
          0.683381814181109,
          0.44382644358461354,
          0.6549706810682455,
          -0.49683481579306704,
          0.11281352118335494,
          0.5791287244949882,
          -0.5186021092763162,
          0.5227268814733156,
          -0.5694966521303314,
          -0.13737683209086957,
          -0.5228881343424368,
          0.3020438418176441,
          -0.2896016514195114,
          0.6514047777817047,
          0.6286083141076716,
          0.435648726477877,
          -0.44008737589400376,
          0.20158100468944143,
          -0.49751321426109735,
          0.6944148206328683,
          0.6624206685458739,
          -0.5966923956880328,
          0.2116382427638917,
          -0.35765359485340653,
          0.46943668468608596,
          0.04097191487796843,
          -0.13065976731375673,
          0.19763190619217585,
          -0.3894303076711788,
          0.605991822211187,
          -0.5275980086996753,
          0.520629819210606,
          0.36049001062313435,
          -0.13115361758274444,
          -0.09074276979489525,
          0.44104646012574666,
          -0.1595533667787889,
          0.5466325649338455,
          -0.3104408026254662,
          0.23590536163877804,
          0.5410835900141564,
          -0.5519290289075779,
          0.25735752525262817,
          -0.6279536127593631,
          -0.21080339433674072,
          0.1660729699078801,
          0.37222919027896556,
          0.2628404567053793,
          0.08761829148671767,
          -0.48973321800866854,
          -0.49211051191070976,
          0.5896717066621461,
          -0.31402023977892873,
          0.14221697758470633,
          0.2963786059917995,
          0.2759067783832945,
          0.44785887411182973,
          -0.14364404863426117,
          -0.1116712165297926,
          0.14228043433350007,
          0.17297451329145638,
          -0.37313339999827144,
          0.3187647290906681,
          0.6872232374295486,
          0.5994959417765989,
          -0.5866871443602952,
          0.3724129266506607,
          -0.620118443181211,
          0.5859468607600011,
          0.5422231441294576,
          -0.2590693036488109,
          -0.3474583413597857,
          0.11390408398990694,
          -0.3175905396974359,
          0.4466157786571729,
          0.6786568804595906,
          0.14645618001228208,
          -0.5865226949767087,
          0.4334970564015612,
          -0.4470820892941462,
          0.1201031272515138,
          -0.18867304321888673,
          0.4047554362762391,
          -0.17691910597562904,
          0.16845895874145705,
          0.28589065722762275,
          0.5297005751131272,
          -0.09697883721958131,
          -0.5759857315129927,
          0.457684373418925,
          0.6120155595381845
         ],
         "y": [
          1,
          1,
          1,
          1,
          1,
          1,
          1,
          1,
          1,
          1,
          1,
          1,
          1,
          1,
          1,
          1,
          1,
          1,
          1,
          1,
          1,
          1,
          1,
          1,
          1,
          1,
          1,
          1,
          1,
          1,
          1,
          1,
          1,
          1,
          1,
          1,
          1,
          1,
          1,
          1,
          1,
          1,
          1,
          1,
          1,
          1,
          1,
          1,
          1,
          1,
          1,
          1,
          1,
          1,
          1,
          1,
          1,
          1,
          1,
          1,
          1,
          1,
          1,
          1,
          1,
          1,
          1,
          1,
          1,
          1,
          1,
          1,
          1,
          1,
          1,
          1,
          1,
          1,
          1,
          1,
          1,
          1,
          1,
          1,
          1,
          1,
          1,
          1,
          1,
          1,
          1,
          1,
          1,
          1,
          1,
          1,
          1,
          1,
          1,
          1,
          1,
          1,
          1,
          1,
          1,
          1,
          1,
          1,
          1,
          1,
          1,
          1,
          1,
          1,
          1,
          1,
          1,
          1,
          1,
          1,
          1,
          1,
          1,
          1,
          1,
          1,
          1,
          1,
          1,
          1,
          1,
          1,
          1,
          1,
          1,
          1,
          1,
          1,
          1,
          1,
          1,
          1,
          1,
          1,
          1,
          1,
          1,
          1,
          1,
          1,
          1,
          1,
          1,
          1,
          1,
          1,
          1,
          1,
          1,
          1,
          1,
          1,
          1,
          1,
          1,
          1,
          1,
          1,
          1,
          1,
          1,
          1,
          1,
          1,
          1,
          1,
          1,
          1,
          1,
          1,
          1,
          1,
          1,
          1,
          1,
          1,
          1,
          1,
          1,
          1,
          1,
          1,
          1,
          1,
          1,
          1,
          1,
          1,
          1,
          1,
          1,
          1,
          1,
          1,
          1,
          1,
          1,
          1,
          1,
          1,
          1,
          1,
          1,
          1,
          1,
          1,
          1,
          1,
          1,
          1,
          1,
          1,
          1,
          1,
          1,
          1,
          1,
          1,
          1,
          1,
          1,
          1,
          1,
          1,
          1,
          1,
          1,
          1,
          1,
          1,
          1,
          1,
          1,
          1,
          1,
          1,
          1,
          1,
          1,
          1,
          1,
          1,
          1,
          1,
          1,
          1,
          1,
          1,
          1,
          1,
          1,
          1,
          1,
          1,
          1
         ]
        },
        {
         "hovertemplate": "<b>%{text}</b><br>Cosine Similarity: %{x:.3f}<extra></extra>",
         "legendgroup": "pos3",
         "marker": {
          "color": "blue",
          "line": {
           "color": "black",
           "width": 1
          },
          "opacity": 1,
          "size": 8,
          "symbol": "square"
         },
         "mode": "markers",
         "name": "Fully Role-Playing",
         "showlegend": false,
         "text": [
          "Wraith (Fully RP)",
          "Witch (Fully RP)",
          "Whale (Fully RP)",
          "Wanderer (Fully RP)",
          "Revenant (Fully RP)",
          "Prophet (Fully RP)",
          "Leviathan (Fully RP)",
          "Hermit (Fully RP)",
          "Ghost (Fully RP)",
          "Bohemian (Fully RP)"
         ],
         "type": "scatter",
         "x": [
          0.7532125435088858,
          0.730357297267388,
          0.7177654784118552,
          0.7839665356983155,
          0.7159030034169824,
          0.6977044922856217,
          0.7196874887014563,
          0.7730161690546525,
          0.776611251432538,
          0.7319291025068904
         ],
         "y": [
          1,
          1,
          1,
          1,
          1,
          1,
          1,
          1,
          1,
          1
         ]
        },
        {
         "hoverinfo": "skip",
         "line": {
          "color": "black",
          "width": 1
         },
         "mode": "lines",
         "showlegend": false,
         "type": "scatter",
         "x": [
          -0.8003932756084821,
          -0.8003932756084821
         ],
         "y": [
          1,
          1.45
         ]
        },
        {
         "hoverinfo": "skip",
         "line": {
          "color": "black",
          "width": 1
         },
         "mode": "lines",
         "showlegend": false,
         "type": "scatter",
         "x": [
          -0.7987908453604858,
          -0.7987908453604858
         ],
         "y": [
          1,
          0.6
         ]
        },
        {
         "hoverinfo": "skip",
         "line": {
          "color": "black",
          "width": 1
         },
         "mode": "lines",
         "showlegend": false,
         "type": "scatter",
         "x": [
          -0.7846595292387171,
          -0.7846595292387171
         ],
         "y": [
          1,
          1.9
         ]
        },
        {
         "hoverinfo": "skip",
         "line": {
          "color": "black",
          "width": 1
         },
         "mode": "lines",
         "showlegend": false,
         "type": "scatter",
         "x": [
          -0.7829519847524846,
          -0.7829519847524846
         ],
         "y": [
          1,
          0.15
         ]
        },
        {
         "hoverinfo": "skip",
         "line": {
          "color": "black",
          "width": 1
         },
         "mode": "lines",
         "showlegend": false,
         "type": "scatter",
         "x": [
          -0.7822530713229844,
          -0.7822530713229844
         ],
         "y": [
          1,
          1.6
         ]
        },
        {
         "hoverinfo": "skip",
         "line": {
          "color": "black",
          "width": 1
         },
         "mode": "lines",
         "showlegend": false,
         "type": "scatter",
         "x": [
          -0.7754416064850178,
          -0.7754416064850178
         ],
         "y": [
          1,
          0.45
         ]
        },
        {
         "hoverinfo": "skip",
         "line": {
          "color": "black",
          "width": 1
         },
         "mode": "lines",
         "showlegend": false,
         "type": "scatter",
         "x": [
          -0.775402512655442,
          -0.775402512655442
         ],
         "y": [
          1,
          1.3
         ]
        },
        {
         "hoverinfo": "skip",
         "line": {
          "color": "black",
          "width": 1
         },
         "mode": "lines",
         "showlegend": false,
         "type": "scatter",
         "x": [
          -0.7745077618004124,
          -0.7745077618004124
         ],
         "y": [
          1,
          0.75
         ]
        },
        {
         "hoverinfo": "skip",
         "line": {
          "color": "black",
          "width": 1
         },
         "mode": "lines",
         "showlegend": false,
         "type": "scatter",
         "x": [
          -0.765187735928902,
          -0.765187735928902
         ],
         "y": [
          1,
          1.75
         ]
        },
        {
         "hoverinfo": "skip",
         "line": {
          "color": "black",
          "width": 1
         },
         "mode": "lines",
         "showlegend": false,
         "type": "scatter",
         "x": [
          -0.7525827740698718,
          -0.7525827740698718
         ],
         "y": [
          1,
          0.3
         ]
        },
        {
         "hoverinfo": "skip",
         "line": {
          "color": "black",
          "width": 1
         },
         "mode": "lines",
         "showlegend": false,
         "type": "scatter",
         "x": [
          0.6977044922856217,
          0.6977044922856217
         ],
         "y": [
          1,
          1.45
         ]
        },
        {
         "hoverinfo": "skip",
         "line": {
          "color": "black",
          "width": 1
         },
         "mode": "lines",
         "showlegend": false,
         "type": "scatter",
         "x": [
          0.7159030034169824,
          0.7159030034169824
         ],
         "y": [
          1,
          0.6
         ]
        },
        {
         "hoverinfo": "skip",
         "line": {
          "color": "black",
          "width": 1
         },
         "mode": "lines",
         "showlegend": false,
         "type": "scatter",
         "x": [
          0.7177654784118552,
          0.7177654784118552
         ],
         "y": [
          1,
          1.9
         ]
        },
        {
         "hoverinfo": "skip",
         "line": {
          "color": "black",
          "width": 1
         },
         "mode": "lines",
         "showlegend": false,
         "type": "scatter",
         "x": [
          0.7196874887014563,
          0.7196874887014563
         ],
         "y": [
          1,
          0.15
         ]
        },
        {
         "hoverinfo": "skip",
         "line": {
          "color": "black",
          "width": 1
         },
         "mode": "lines",
         "showlegend": false,
         "type": "scatter",
         "x": [
          0.730357297267388,
          0.730357297267388
         ],
         "y": [
          1,
          1.6
         ]
        },
        {
         "hoverinfo": "skip",
         "line": {
          "color": "black",
          "width": 1
         },
         "mode": "lines",
         "showlegend": false,
         "type": "scatter",
         "x": [
          0.7319291025068904,
          0.7319291025068904
         ],
         "y": [
          1,
          0.45
         ]
        },
        {
         "hoverinfo": "skip",
         "line": {
          "color": "black",
          "width": 1
         },
         "mode": "lines",
         "showlegend": false,
         "type": "scatter",
         "x": [
          0.7532125435088858,
          0.7532125435088858
         ],
         "y": [
          1,
          1.3
         ]
        },
        {
         "hoverinfo": "skip",
         "line": {
          "color": "black",
          "width": 1
         },
         "mode": "lines",
         "showlegend": false,
         "type": "scatter",
         "x": [
          0.7730161690546525,
          0.7730161690546525
         ],
         "y": [
          1,
          0.75
         ]
        },
        {
         "hoverinfo": "skip",
         "line": {
          "color": "black",
          "width": 1
         },
         "mode": "lines",
         "showlegend": false,
         "type": "scatter",
         "x": [
          0.776611251432538,
          0.776611251432538
         ],
         "y": [
          1,
          1.75
         ]
        },
        {
         "hoverinfo": "skip",
         "line": {
          "color": "black",
          "width": 1
         },
         "mode": "lines",
         "showlegend": false,
         "type": "scatter",
         "x": [
          0.7839665356983155,
          0.7839665356983155
         ],
         "y": [
          1,
          0.3
         ]
        },
        {
         "hoverinfo": "skip",
         "legendgroup": "pos2",
         "marker": {
          "color": "cyan"
         },
         "name": "Somewhat Role-Playing",
         "opacity": 0.7,
         "showlegend": false,
         "type": "bar",
         "width": 0.047530794339203944,
         "x": [
          -0.7739872787533688,
          -0.7211752850431421,
          -0.6683632913329156,
          -0.615551297622689,
          -0.5627393039124624,
          -0.5099273102022358,
          -0.45711531649200926,
          -0.40430332278178266,
          -0.35149132907155606,
          -0.29867933536132946,
          -0.24586734165110286,
          -0.1930553479408763,
          -0.14024335423064976,
          -0.08743136052042316,
          -0.03461936681019656,
          0.01819262690003004,
          0.07100462061025664,
          0.12381661432048324,
          0.1766286080307098,
          0.2294406017409364,
          0.282252595451163,
          0.3350645891613896,
          0.3878765828716162,
          0.4406885765818427,
          0.4935005702920693,
          0.5463125640022959,
          0.5991245577125225,
          0.6519365514227491,
          0.7047485451329757,
          0.7575605388432023
         ],
         "y": [
          0.5684210526315789,
          0.8526315789473684,
          0.7105263157894737,
          0.7578947368421053,
          0.9,
          0.7105263157894737,
          0.7105263157894737,
          0.47368421052631576,
          0.23684210526315788,
          0.18947368421052632,
          0.23684210526315788,
          0.23684210526315788,
          0.4263157894736842,
          0.23684210526315788,
          0.18947368421052632,
          0.14210526315789473,
          0.18947368421052632,
          0,
          0.04736842105263158,
          0.14210526315789473,
          0.14210526315789473,
          0,
          0.09473684210526316,
          0,
          0,
          0,
          0,
          0,
          0,
          0
         ]
        },
        {
         "hoverinfo": "skip",
         "legendgroup": "pos3",
         "marker": {
          "color": "blue"
         },
         "name": "Fully Role-Playing",
         "opacity": 0.7,
         "showlegend": false,
         "type": "bar",
         "width": 0.047530794339203944,
         "x": [
          -0.7739872787533688,
          -0.7211752850431421,
          -0.6683632913329156,
          -0.615551297622689,
          -0.5627393039124624,
          -0.5099273102022358,
          -0.45711531649200926,
          -0.40430332278178266,
          -0.35149132907155606,
          -0.29867933536132946,
          -0.24586734165110286,
          -0.1930553479408763,
          -0.14024335423064976,
          -0.08743136052042316,
          -0.03461936681019656,
          0.01819262690003004,
          0.07100462061025664,
          0.12381661432048324,
          0.1766286080307098,
          0.2294406017409364,
          0.282252595451163,
          0.3350645891613896,
          0.3878765828716162,
          0.4406885765818427,
          0.4935005702920693,
          0.5463125640022959,
          0.5991245577125225,
          0.6519365514227491,
          0.7047485451329757,
          0.7575605388432023
         ],
         "y": [
          0,
          0,
          0,
          0.28421052631578947,
          0.6631578947368421,
          0.8526315789473684,
          0.5684210526315789,
          0.4263157894736842,
          0.47368421052631576,
          0.37894736842105264,
          0.47368421052631576,
          0.23684210526315788,
          0.47368421052631576,
          0.28421052631578947,
          0.04736842105263158,
          0.18947368421052632,
          0.4263157894736842,
          0.47368421052631576,
          0.4263157894736842,
          0.37894736842105264,
          0.8526315789473684,
          0.47368421052631576,
          0.6157894736842106,
          0.7105263157894737,
          0.47368421052631576,
          0.6631578947368421,
          0.6631578947368421,
          0.8052631578947369,
          0.47368421052631576,
          0.23684210526315788
         ]
        },
        {
         "hovertemplate": "<b>%{text}</b><br>PC Projection: %{x:.3f}<extra></extra>",
         "legendgroup": "pos2",
         "marker": {
          "color": "cyan",
          "line": {
           "color": "black",
           "width": 1
          },
          "opacity": 1,
          "size": 8,
          "symbol": "circle"
         },
         "mode": "markers",
         "name": "Somewhat Role-Playing",
         "showlegend": false,
         "text": [
          "Writer (Somewhat RP)",
          "Workaholic (Somewhat RP)",
          "Witness (Somewhat RP)",
          "Visionary (Somewhat RP)",
          "Virus (Somewhat RP)",
          "Virtuoso (Somewhat RP)",
          "Vigilante (Somewhat RP)",
          "Veterinarian (Somewhat RP)",
          "Vegan (Somewhat RP)",
          "Tutor (Somewhat RP)",
          "Tulpa (Somewhat RP)",
          "Translator (Somewhat RP)",
          "Trainer (Somewhat RP)",
          "Traditionalist (Somewhat RP)",
          "Therapist (Somewhat RP)",
          "Theorist (Somewhat RP)",
          "Technologist (Somewhat RP)",
          "Teacher (Somewhat RP)",
          "Synthesizer (Somewhat RP)",
          "Symbiont (Somewhat RP)",
          "Swarm (Somewhat RP)",
          "Supervisor (Somewhat RP)",
          "Student (Somewhat RP)",
          "Strategist (Somewhat RP)",
          "Stoic (Somewhat RP)",
          "Statistician (Somewhat RP)",
          "Spy (Somewhat RP)",
          "Specialist (Somewhat RP)",
          "Sommelier (Somewhat RP)",
          "Sociologist (Somewhat RP)",
          "Skeptic (Somewhat RP)",
          "Simulacrum (Somewhat RP)",
          "Shapeshifter (Somewhat RP)",
          "Secretary (Somewhat RP)",
          "Scout (Somewhat RP)",
          "Scholar (Somewhat RP)",
          "Scheduler (Somewhat RP)",
          "Saboteur (Somewhat RP)",
          "Robot (Somewhat RP)",
          "Revolutionary (Somewhat RP)",
          "Reviewer (Somewhat RP)",
          "Reporter (Somewhat RP)",
          "Recruiter (Somewhat RP)",
          "Realist (Somewhat RP)",
          "Publisher (Somewhat RP)",
          "Psychologist (Somewhat RP)",
          "Proofreader (Somewhat RP)",
          "Programmer (Somewhat RP)",
          "Producer (Somewhat RP)",
          "Prodigy (Somewhat RP)",
          "Presenter (Somewhat RP)",
          "Pragmatist (Somewhat RP)",
          "Polymath (Somewhat RP)",
          "Playwright (Somewhat RP)",
          "Planner (Somewhat RP)",
          "Pilot (Somewhat RP)",
          "Physicist (Somewhat RP)",
          "Philosopher (Somewhat RP)",
          "Pharmacist (Somewhat RP)",
          "Perfectionist (Somewhat RP)",
          "Peacekeeper (Somewhat RP)",
          "Patient (Somewhat RP)",
          "Paramedic (Somewhat RP)",
          "Pacifist (Somewhat RP)",
          "Organizer (Somewhat RP)",
          "Optimist (Somewhat RP)",
          "Observer (Somewhat RP)",
          "Nutritionist (Somewhat RP)",
          "Novelist (Somewhat RP)",
          "Networker (Somewhat RP)",
          "Negotiator (Somewhat RP)",
          "Navigator (Somewhat RP)",
          "Naturalist (Somewhat RP)",
          "Musician (Somewhat RP)",
          "Moderator (Somewhat RP)",
          "Minimalist (Somewhat RP)",
          "Merchant (Somewhat RP)",
          "Mentor (Somewhat RP)",
          "Mediator (Somewhat RP)",
          "Mechanic (Somewhat RP)",
          "Maverick (Somewhat RP)",
          "Mathematician (Somewhat RP)",
          "Martyr (Somewhat RP)",
          "Marketer (Somewhat RP)",
          "Loner (Somewhat RP)",
          "Linguist (Somewhat RP)",
          "Librarian (Somewhat RP)",
          "Lawyer (Somewhat RP)",
          "Judge (Somewhat RP)",
          "Journalist (Somewhat RP)",
          "Jester (Somewhat RP)",
          "Interviewer (Somewhat RP)",
          "Interpreter (Somewhat RP)",
          "Instructor (Somewhat RP)",
          "Influencer (Somewhat RP)",
          "Improviser (Somewhat RP)",
          "Idealist (Somewhat RP)",
          "Hybrid (Somewhat RP)",
          "Hive (Somewhat RP)",
          "Historian (Somewhat RP)",
          "Healer (Somewhat RP)",
          "Hacker (Somewhat RP)",
          "Guide (Somewhat RP)",
          "Guardian (Somewhat RP)",
          "Graduate (Somewhat RP)",
          "Geographer (Somewhat RP)",
          "Generalist (Somewhat RP)",
          "Futurist (Somewhat RP)",
          "Forecaster (Somewhat RP)",
          "Fixer (Somewhat RP)",
          "Facilitator (Somewhat RP)",
          "Expatriate (Somewhat RP)",
          "Examiner (Somewhat RP)",
          "Entrepreneur (Somewhat RP)",
          "Engineer (Somewhat RP)",
          "Empath (Somewhat RP)",
          "Emissary (Somewhat RP)",
          "Editor (Somewhat RP)",
          "Ecosystem (Somewhat RP)",
          "Economist (Somewhat RP)",
          "Divorcee (Somewhat RP)",
          "Dispatcher (Somewhat RP)",
          "Devils Advocate (Somewhat RP)",
          "Detective (Somewhat RP)",
          "Destroyer (Somewhat RP)",
          "Designer (Somewhat RP)",
          "Debugger (Somewhat RP)",
          "Daredevil (Somewhat RP)",
          "Cyborg (Somewhat RP)",
          "Curator (Somewhat RP)",
          "Critic (Somewhat RP)",
          "Counselor (Somewhat RP)",
          "Cosmopolitan (Somewhat RP)",
          "Coordinator (Somewhat RP)",
          "Contrarian (Somewhat RP)",
          "Consultant (Somewhat RP)",
          "Conservator (Somewhat RP)",
          "Composer (Somewhat RP)",
          "Competitor (Somewhat RP)",
          "Collector (Somewhat RP)",
          "Collaborator (Somewhat RP)",
          "Coach (Somewhat RP)",
          "Chemist (Somewhat RP)",
          "Chef (Somewhat RP)",
          "Chameleon (Somewhat RP)",
          "Cartographer (Somewhat RP)",
          "Caregiver (Somewhat RP)",
          "Builder (Somewhat RP)",
          "Biologist (Somewhat RP)",
          "Auditor (Somewhat RP)",
          "Artisan (Somewhat RP)",
          "Archivist (Somewhat RP)",
          "Architect (Somewhat RP)",
          "Archaeologist (Somewhat RP)",
          "Anthropologist (Somewhat RP)",
          "Ambassador (Somewhat RP)",
          "Amateur (Somewhat RP)",
          "Altruist (Somewhat RP)",
          "Advocate (Somewhat RP)",
          "Addict (Somewhat RP)",
          "Activist (Somewhat RP)",
          "Accountant (Somewhat RP)",
          "Aberration (Somewhat RP)"
         ],
         "type": "scatter",
         "x": [
          -26.36147575693312,
          18.48967784631872,
          -28.80240002981758,
          -5.791001275455863,
          -26.04002725316212,
          -23.692039219804908,
          -0.02963588034699669,
          -28.99048500436346,
          -20.182630579253015,
          -32.06685477873869,
          -13.494297250014963,
          -28.49840932516233,
          -32.62368260495523,
          16.208661986201683,
          -28.19067107311909,
          -25.34831714254124,
          -27.671264606866195,
          -31.31789362214167,
          -28.722737405072984,
          -15.827533532733726,
          -20.854828700138626,
          -34.31246047621088,
          -28.935237045058575,
          -32.513373633786536,
          15.899237772616173,
          -32.91044179549077,
          -16.74250893852183,
          -32.73812062651641,
          -0.6156617759246285,
          -33.5665448020458,
          -24.53545745468055,
          -2.9945087292545116,
          -20.36777925385992,
          -34.54013951774299,
          -20.347507790022814,
          -28.617290008611658,
          -34.153994451665945,
          -13.197353009190586,
          -34.90935344997375,
          -7.847221276418387,
          -35.758439228866955,
          -32.04782367628552,
          -27.200729137619664,
          -17.270195371434514,
          -34.9194277508933,
          -34.147847830977234,
          -35.15969989606899,
          -27.309595241886495,
          -32.81558586321398,
          -14.93023909501123,
          -31.56915873797871,
          -23.370092543263016,
          -20.236483917837713,
          -15.072788827674678,
          -34.84456304931136,
          -23.155886984651136,
          -25.27021940553155,
          -3.94422991633435,
          -33.908908181001614,
          -15.81954106831099,
          -23.049688041225522,
          -28.12769669655185,
          -26.542790874661392,
          5.216738858989397,
          -33.36606784947716,
          -5.377062660323787,
          -32.58567506984327,
          -35.589567946463085,
          3.3857789001058274,
          -21.442103271497803,
          -22.84312364200327,
          -19.111421056450432,
          -4.081831392828548,
          -8.855087069373868,
          -32.87592838548477,
          15.150213105712226,
          -9.885028051480992,
          -27.892798164116286,
          -28.102040189062375,
          -9.293875668807848,
          15.269901461426695,
          -18.23240236034945,
          19.080696866370836,
          -33.01825826441557,
          -6.8523831480952415,
          -30.398549350158895,
          -25.42173264507054,
          -35.57399217576174,
          -32.589061824144174,
          -32.31248203311595,
          32.82204644146211,
          -25.65595322643274,
          -23.4582071569207,
          -32.74185129910988,
          -27.555349040893972,
          2.203226050611715,
          -0.4929620227901317,
          -11.370905532993428,
          -23.512508406624296,
          -25.178687573019033,
          -12.295602931769075,
          -9.326189793749604,
          -24.69214679868713,
          -24.269209881317426,
          -28.35552598834252,
          -28.5630082844603,
          -31.882722481731577,
          -26.2186833888138,
          -33.51355116483606,
          -1.6493277874168055,
          -33.14880537443872,
          -27.764931204056044,
          -34.45875553219379,
          -21.18207239666675,
          -33.17746360102119,
          -9.48166755685042,
          -22.368136516333614,
          -34.66932198912647,
          -22.291549265786472,
          -33.687886734156535,
          -23.53540111049563,
          -25.17835570424862,
          -13.632380866021075,
          -22.834353099054027,
          -11.50014517590235,
          -28.61421775366925,
          -31.049126114971536,
          18.038827535398056,
          -16.64315398187062,
          -27.908734401944333,
          -18.897924498203846,
          -23.174051246113297,
          0.31172961775780617,
          -32.79027529749649,
          6.829916515072437,
          -35.413600235145054,
          -21.73015005370489,
          -7.874397750077605,
          4.2926690343606175,
          -21.44971385175107,
          -28.25651563556574,
          -25.704063772482925,
          -27.46141808626106,
          -4.055161504767789,
          -11.120020822078816,
          -18.928559040536072,
          -8.285482133190898,
          -10.824845086916152,
          -31.436218056136834,
          -35.3618912876949,
          22.80921771952178,
          -26.84903345693764,
          -26.23974947460586,
          -13.923997117604785,
          -29.513355911861883,
          -31.754034702748704,
          -10.70232177089234,
          -17.538553528231166,
          -25.86961080231381,
          -6.2241461313863455,
          -21.645887404570292,
          -32.607731311910364,
          -20.657402998322752
         ],
         "xaxis": "x2",
         "y": [
          1,
          1,
          1,
          1,
          1,
          1,
          1,
          1,
          1,
          1,
          1,
          1,
          1,
          1,
          1,
          1,
          1,
          1,
          1,
          1,
          1,
          1,
          1,
          1,
          1,
          1,
          1,
          1,
          1,
          1,
          1,
          1,
          1,
          1,
          1,
          1,
          1,
          1,
          1,
          1,
          1,
          1,
          1,
          1,
          1,
          1,
          1,
          1,
          1,
          1,
          1,
          1,
          1,
          1,
          1,
          1,
          1,
          1,
          1,
          1,
          1,
          1,
          1,
          1,
          1,
          1,
          1,
          1,
          1,
          1,
          1,
          1,
          1,
          1,
          1,
          1,
          1,
          1,
          1,
          1,
          1,
          1,
          1,
          1,
          1,
          1,
          1,
          1,
          1,
          1,
          1,
          1,
          1,
          1,
          1,
          1,
          1,
          1,
          1,
          1,
          1,
          1,
          1,
          1,
          1,
          1,
          1,
          1,
          1,
          1,
          1,
          1,
          1,
          1,
          1,
          1,
          1,
          1,
          1,
          1,
          1,
          1,
          1,
          1,
          1,
          1,
          1,
          1,
          1,
          1,
          1,
          1,
          1,
          1,
          1,
          1,
          1,
          1,
          1,
          1,
          1,
          1,
          1,
          1,
          1,
          1,
          1,
          1,
          1,
          1,
          1,
          1,
          1,
          1,
          1,
          1,
          1,
          1,
          1,
          1,
          1,
          1,
          1
         ],
         "yaxis": "y2"
        },
        {
         "hovertemplate": "<b>%{text}</b><br>PC Projection: %{x:.3f}<extra></extra>",
         "legendgroup": "pos2",
         "marker": {
          "color": "cyan",
          "line": {
           "color": "black",
           "width": 1
          },
          "opacity": 1,
          "size": 8,
          "symbol": "circle"
         },
         "mode": "markers",
         "name": "Somewhat Role-Playing",
         "showlegend": false,
         "text": [
          "Validator (Somewhat RP)",
          "Summarizer (Somewhat RP)",
          "Screener (Somewhat RP)",
          "Scientist (Somewhat RP)",
          "Researcher (Somewhat RP)",
          "Grader (Somewhat RP)",
          "Evaluator (Somewhat RP)",
          "Doctor (Somewhat RP)",
          "Assistant (Somewhat RP)",
          "Analyst (Somewhat RP)"
         ],
         "type": "scatter",
         "x": [
          -36.33288053003105,
          -36.153340522983015,
          -38.714845411861646,
          -35.986014972894935,
          -36.54680177071911,
          -35.85196188639666,
          -36.14278944872974,
          -37.745049327437386,
          -38.88484534561481,
          -36.68484213437988
         ],
         "xaxis": "x2",
         "y": [
          1,
          1,
          1,
          1,
          1,
          1,
          1,
          1,
          1,
          1
         ],
         "yaxis": "y2"
        },
        {
         "hovertemplate": "<b>%{text}</b><br>PC Projection: %{x:.3f}<extra></extra>",
         "legendgroup": "pos3",
         "marker": {
          "color": "blue",
          "line": {
           "color": "black",
           "width": 1
          },
          "opacity": 1,
          "size": 8,
          "symbol": "square"
         },
         "mode": "markers",
         "name": "Fully Role-Playing",
         "showlegend": false,
         "text": [
          "Zeitgeist (Fully RP)",
          "Writer (Fully RP)",
          "Workaholic (Fully RP)",
          "Witness (Fully RP)",
          "Witch (Fully RP)",
          "Widow (Fully RP)",
          "Warrior (Fully RP)",
          "Wanderer (Fully RP)",
          "Visionary (Fully RP)",
          "Virus (Fully RP)",
          "Virtuoso (Fully RP)",
          "Vigilante (Fully RP)",
          "Veterinarian (Fully RP)",
          "Veteran (Fully RP)",
          "Vegan (Fully RP)",
          "Vampire (Fully RP)",
          "Validator (Fully RP)",
          "Tutor (Fully RP)",
          "Tulpa (Fully RP)",
          "Trickster (Fully RP)",
          "Translator (Fully RP)",
          "Trainer (Fully RP)",
          "Traditionalist (Fully RP)",
          "Toddler (Fully RP)",
          "Therapist (Fully RP)",
          "Theorist (Fully RP)",
          "Teenager (Fully RP)",
          "Technologist (Fully RP)",
          "Teacher (Fully RP)",
          "Synthesizer (Fully RP)",
          "Symbiont (Fully RP)",
          "Swarm (Fully RP)",
          "Survivor (Fully RP)",
          "Surfer (Fully RP)",
          "Supervisor (Fully RP)",
          "Summarizer (Fully RP)",
          "Student (Fully RP)",
          "Strategist (Fully RP)",
          "Stoic (Fully RP)",
          "Statistician (Fully RP)",
          "Spy (Fully RP)",
          "Spirit (Fully RP)",
          "Specialist (Fully RP)",
          "Sommelier (Fully RP)",
          "Soldier (Fully RP)",
          "Sociologist (Fully RP)",
          "Smuggler (Fully RP)",
          "Skeptic (Fully RP)",
          "Simulacrum (Fully RP)",
          "Shapeshifter (Fully RP)",
          "Shaman (Fully RP)",
          "Secretary (Fully RP)",
          "Screener (Fully RP)",
          "Scout (Fully RP)",
          "Scientist (Fully RP)",
          "Scholar (Fully RP)",
          "Scheduler (Fully RP)",
          "Sage (Fully RP)",
          "Saboteur (Fully RP)",
          "Romantic (Fully RP)",
          "Rogue (Fully RP)",
          "Robot (Fully RP)",
          "Revolutionary (Fully RP)",
          "Reviewer (Fully RP)",
          "Revenant (Fully RP)",
          "Retiree (Fully RP)",
          "Researcher (Fully RP)",
          "Reporter (Fully RP)",
          "Refugee (Fully RP)",
          "Recruiter (Fully RP)",
          "Rebel (Fully RP)",
          "Realist (Fully RP)",
          "Purist (Fully RP)",
          "Publisher (Fully RP)",
          "Psychologist (Fully RP)",
          "Provocateur (Fully RP)",
          "Provincial (Fully RP)",
          "Prophet (Fully RP)",
          "Proofreader (Fully RP)",
          "Programmer (Fully RP)",
          "Producer (Fully RP)",
          "Prodigy (Fully RP)",
          "Procrastinator (Fully RP)",
          "Prisoner (Fully RP)",
          "Prey (Fully RP)",
          "Presenter (Fully RP)",
          "Predator (Fully RP)",
          "Pragmatist (Fully RP)",
          "Polymath (Fully RP)",
          "Poet (Fully RP)",
          "Podcaster (Fully RP)",
          "Playwright (Fully RP)",
          "Planner (Fully RP)",
          "Pirate (Fully RP)",
          "Pilot (Fully RP)",
          "Pilgrim (Fully RP)",
          "Physicist (Fully RP)",
          "Photographer (Fully RP)",
          "Philosopher (Fully RP)",
          "Pharmacist (Fully RP)",
          "Perfectionist (Fully RP)",
          "Peacekeeper (Fully RP)",
          "Patient (Fully RP)",
          "Parent (Fully RP)",
          "Parasite (Fully RP)",
          "Paramedic (Fully RP)",
          "Pacifist (Fully RP)",
          "Orphan (Fully RP)",
          "Organizer (Fully RP)",
          "Oracle (Fully RP)",
          "Optimist (Fully RP)",
          "Observer (Fully RP)",
          "Nutritionist (Fully RP)",
          "Novelist (Fully RP)",
          "Nomad (Fully RP)",
          "Newlywed (Fully RP)",
          "Networker (Fully RP)",
          "Negotiator (Fully RP)",
          "Navigator (Fully RP)",
          "Naturalist (Fully RP)",
          "Narrator (Fully RP)",
          "Narcissist (Fully RP)",
          "Mystic (Fully RP)",
          "Mycorrhizal (Fully RP)",
          "Musician (Fully RP)",
          "Moderator (Fully RP)",
          "Minimalist (Fully RP)",
          "Merchant (Fully RP)",
          "Mentor (Fully RP)",
          "Mediator (Fully RP)",
          "Mechanic (Fully RP)",
          "Maverick (Fully RP)",
          "Mathematician (Fully RP)",
          "Martyr (Fully RP)",
          "Marketer (Fully RP)",
          "Luddite (Fully RP)",
          "Loner (Fully RP)",
          "Linguist (Fully RP)",
          "Librarian (Fully RP)",
          "Lawyer (Fully RP)",
          "Judge (Fully RP)",
          "Journalist (Fully RP)",
          "Jester (Fully RP)",
          "Interviewer (Fully RP)",
          "Interpreter (Fully RP)",
          "Instructor (Fully RP)",
          "Influencer (Fully RP)",
          "Infant (Fully RP)",
          "Improviser (Fully RP)",
          "Immigrant (Fully RP)",
          "Idealist (Fully RP)",
          "Hybrid (Fully RP)",
          "Homunculus (Fully RP)",
          "Hoarder (Fully RP)",
          "Hive (Fully RP)",
          "Historian (Fully RP)",
          "Hermit (Fully RP)",
          "Hedonist (Fully RP)",
          "Healer (Fully RP)",
          "Hacker (Fully RP)",
          "Guru (Fully RP)",
          "Guide (Fully RP)",
          "Guardian (Fully RP)",
          "Grandparent (Fully RP)",
          "Graduate (Fully RP)",
          "Grader (Fully RP)",
          "Gossip (Fully RP)",
          "Golem (Fully RP)",
          "Ghost (Fully RP)",
          "Geographer (Fully RP)",
          "Genie (Fully RP)",
          "Generalist (Fully RP)",
          "Gamer (Fully RP)",
          "Futurist (Fully RP)",
          "Forecaster (Fully RP)",
          "Fool (Fully RP)",
          "Flaneur (Fully RP)",
          "Fixer (Fully RP)",
          "Familiar (Fully RP)",
          "Facilitator (Fully RP)",
          "Expatriate (Fully RP)",
          "Exile (Fully RP)",
          "Examiner (Fully RP)",
          "Evangelist (Fully RP)",
          "Evaluator (Fully RP)",
          "Entrepreneur (Fully RP)",
          "Engineer (Fully RP)",
          "Empath (Fully RP)",
          "Emissary (Fully RP)",
          "Elder (Fully RP)",
          "Egregore (Fully RP)",
          "Editor (Fully RP)",
          "Ecosystem (Fully RP)",
          "Economist (Fully RP)",
          "Echo (Fully RP)",
          "Dreamer (Fully RP)",
          "Doctor (Fully RP)",
          "Divorcee (Fully RP)",
          "Dispatcher (Fully RP)",
          "Dilettante (Fully RP)",
          "Devils Advocate (Fully RP)",
          "Detective (Fully RP)",
          "Destroyer (Fully RP)",
          "Designer (Fully RP)",
          "Demon (Fully RP)",
          "Debugger (Fully RP)",
          "Daredevil (Fully RP)",
          "Cynic (Fully RP)",
          "Cyborg (Fully RP)",
          "Curator (Fully RP)",
          "Crystalline (Fully RP)",
          "Critic (Fully RP)",
          "Criminal (Fully RP)",
          "Counselor (Fully RP)",
          "Cosmopolitan (Fully RP)",
          "Coral Reef (Fully RP)",
          "Coordinator (Fully RP)",
          "Contrarian (Fully RP)",
          "Consultant (Fully RP)",
          "Conservator (Fully RP)",
          "Composer (Fully RP)",
          "Competitor (Fully RP)",
          "Comedian (Fully RP)",
          "Collector (Fully RP)",
          "Collaborator (Fully RP)",
          "Coach (Fully RP)",
          "Chimera (Fully RP)",
          "Chemist (Fully RP)",
          "Chef (Fully RP)",
          "Chameleon (Fully RP)",
          "Celebrity (Fully RP)",
          "Cartographer (Fully RP)",
          "Caregiver (Fully RP)",
          "Builder (Fully RP)",
          "Bohemian (Fully RP)",
          "Blogger (Fully RP)",
          "Biologist (Fully RP)",
          "Bartender (Fully RP)",
          "Bard (Fully RP)",
          "Avatar (Fully RP)",
          "Auditor (Fully RP)",
          "Auctioneer (Fully RP)",
          "Assistant (Fully RP)",
          "Ascetic (Fully RP)",
          "Artisan (Fully RP)",
          "Archivist (Fully RP)",
          "Architect (Fully RP)",
          "Archaeologist (Fully RP)",
          "Anthropologist (Fully RP)",
          "Angel (Fully RP)",
          "Ancient (Fully RP)",
          "Anarchist (Fully RP)",
          "Analyst (Fully RP)",
          "Amnesiac (Fully RP)",
          "Ambassador (Fully RP)",
          "Amateur (Fully RP)",
          "Altruist (Fully RP)",
          "Alien (Fully RP)",
          "Advocate (Fully RP)",
          "Adolescent (Fully RP)",
          "Addict (Fully RP)",
          "Actor (Fully RP)",
          "Activist (Fully RP)",
          "Accountant (Fully RP)",
          "Absurdist (Fully RP)"
         ],
         "type": "scatter",
         "x": [
          25.263128733159185,
          2.869408311191891,
          38.40222017378947,
          11.93176356380057,
          58.76976311343924,
          34.34618772980779,
          46.857168089789994,
          54.95412103061075,
          17.5995824599208,
          11.44252787676315,
          38.78761457938074,
          29.56925185882531,
          -18.580724295497916,
          20.323077259161874,
          -13.6752768640846,
          57.91913841332444,
          -34.37730890052517,
          -21.869644946314445,
          0.9971210535449458,
          52.66182520079282,
          -26.550071117803522,
          -20.40139575721027,
          31.85593174706791,
          53.33637210625351,
          -23.496643081912666,
          -12.944411794568236,
          17.50659213381502,
          -12.98059769838371,
          -18.20293833006334,
          -14.154322469106013,
          1.3172714637658862,
          20.296053787529143,
          37.28916295384324,
          48.296548178956584,
          -27.971467881570373,
          -31.591686261724526,
          -12.734533294748296,
          -27.110909280418593,
          33.48095859925655,
          -29.601421192047166,
          18.51816584690134,
          53.914884484668725,
          -22.130849377354632,
          9.354805597208376,
          26.635513008235712,
          -24.112555107430552,
          50.90542647554675,
          -17.18154502773298,
          23.429402189327195,
          29.20480798711298,
          59.2511830225934,
          -28.56397942800672,
          -35.58368471983228,
          6.006923632259778,
          -29.461669280170582,
          -17.967125582470814,
          -27.491692896373095,
          43.558559236895725,
          16.825512964347304,
          50.57939351743495,
          50.5505826526064,
          -18.60939973092209,
          25.50224960891536,
          -31.472688632533288,
          58.77014092546525,
          20.551508740661408,
          -32.580039928290596,
          -15.4397095710934,
          27.22599237240343,
          -22.586776416349384,
          47.795022941149426,
          -9.017409785527187,
          33.29192313959278,
          -23.16932335728155,
          -28.107607778172355,
          44.93219616489711,
          46.41227533775187,
          63.95477945288039,
          -31.346592738811257,
          -15.396324501446319,
          -19.173047486390512,
          9.288396043665902,
          31.528221535440856,
          40.288111825472924,
          56.95680886678014,
          -4.168270089459598,
          51.73170239203058,
          -14.599286924293564,
          -1.9358845417342843,
          47.11283964057465,
          1.5888947278613679,
          11.479454251516154,
          -31.112525496267867,
          60.27626181961946,
          -11.786198298625898,
          51.4001004482806,
          -12.417513256960104,
          22.185861060585335,
          16.040010593607864,
          -27.544751366545626,
          8.69415267796409,
          -19.30763714819616,
          5.263932363756279,
          4.103529618891159,
          33.404173193852706,
          -11.536973172087984,
          -7.330050448870104,
          29.408017022673246,
          -28.31057918202263,
          59.51986245403462,
          6.798677518209789,
          -26.07996412475755,
          -29.79305943102317,
          22.970742376521333,
          35.936860240420614,
          6.364313701077851,
          -15.674212382889198,
          -21.711405168504307,
          -6.124187958209504,
          8.917716309822316,
          42.881508505909885,
          45.79045998827154,
          55.6623910479582,
          50.32828120788284,
          28.436591906795766,
          -28.79656029485698,
          13.357608968972851,
          12.992311015915634,
          -21.182987401549635,
          -26.13206266328988,
          14.758503211403458,
          32.63975237739183,
          -11.318047023667296,
          42.53147050756118,
          -24.03137126715695,
          62.306230139128836,
          35.76739554185465,
          -22.989121710751697,
          -21.08595611031632,
          -30.883462250782216,
          -24.381074776482574,
          -24.05941053723995,
          53.11385925761909,
          -18.67295225707966,
          -15.103981315339855,
          -24.68398259397501,
          4.610410177715732,
          38.93259198573946,
          34.304631689154405,
          22.63997667183515,
          18.36289593147047,
          13.291704226268896,
          43.71355033856978,
          52.24911624167806,
          17.93168449369062,
          -6.815687994684131,
          63.491920586947096,
          37.20254450186273,
          4.55224564470096,
          38.46642037960279,
          45.16689734042821,
          -2.5904771155545485,
          -10.776992100152134,
          35.49767443995442,
          3.058591364320924,
          -32.160658425643554,
          40.93285411561263,
          56.7222472824387,
          63.09824806960992,
          -18.356090654346662,
          54.58859846287818,
          -23.515592286130556,
          29.172693592752765,
          -14.584090889242109,
          -24.907748122288897,
          61.4496756401727,
          52.1949961404427,
          30.560687122612595,
          45.14750908228988,
          -29.682476331356344,
          6.30037292516832,
          50.69862571320315,
          -31.06233036896753,
          40.573595415283705,
          -32.91039295799277,
          -6.5451798473992016,
          -26.43248346915161,
          18.60849036745212,
          -13.703817484840576,
          42.32813644337173,
          25.459068373757457,
          -29.170505043959693,
          12.474369588348342,
          -26.607355712843045,
          64.26998509233512,
          55.07361856969963,
          -28.359530134980545,
          15.834915322537034,
          -15.68388320472551,
          39.19549922635834,
          3.296961954192987,
          -5.880934124406523,
          11.559760358152678,
          -18.475654707790632,
          64.58369668812053,
          -27.194011962431404,
          46.2421497075644,
          42.82956140954038,
          -6.864191124108893,
          -4.243467859417332,
          43.324237664362634,
          -6.526182109673959,
          52.22816168582566,
          -19.97082312544264,
          11.995363412247936,
          47.42347172736338,
          -25.365329144241098,
          20.632998266845895,
          -32.03510822328151,
          -11.14067038498612,
          9.534330295209154,
          34.809725313715525,
          31.47927561766522,
          3.9078769204024733,
          -26.158296983702098,
          -23.45594495183841,
          48.14166154412937,
          -14.601236789547638,
          7.777632028819271,
          23.33313565660365,
          18.538446517626646,
          -6.5581954219746,
          -6.502095627912808,
          8.105492863021244,
          62.4084481947758,
          10.550963534416427,
          -16.791521112693506,
          23.69669883542868,
          55.54234125874904,
          39.427968007395165,
          -29.829719166360036,
          33.687580799614,
          -33.312675979656944,
          52.70353560944328,
          33.179971763754104,
          -11.02489585958165,
          -17.495094220520002,
          6.000905655890744,
          -16.989243876935245,
          30.452471950250615,
          54.451470912758225,
          12.619368970010935,
          -32.18532096672662,
          47.47471102878424,
          -20.626521970896952,
          9.111825958258596,
          -10.767205619643729,
          38.034353195786714,
          -8.884638108874007,
          17.991971192936628,
          24.277696653699916,
          35.23378924438271,
          -5.93559469584737,
          -27.777875624146954,
          56.64873162264786
         ],
         "xaxis": "x2",
         "y": [
          1,
          1,
          1,
          1,
          1,
          1,
          1,
          1,
          1,
          1,
          1,
          1,
          1,
          1,
          1,
          1,
          1,
          1,
          1,
          1,
          1,
          1,
          1,
          1,
          1,
          1,
          1,
          1,
          1,
          1,
          1,
          1,
          1,
          1,
          1,
          1,
          1,
          1,
          1,
          1,
          1,
          1,
          1,
          1,
          1,
          1,
          1,
          1,
          1,
          1,
          1,
          1,
          1,
          1,
          1,
          1,
          1,
          1,
          1,
          1,
          1,
          1,
          1,
          1,
          1,
          1,
          1,
          1,
          1,
          1,
          1,
          1,
          1,
          1,
          1,
          1,
          1,
          1,
          1,
          1,
          1,
          1,
          1,
          1,
          1,
          1,
          1,
          1,
          1,
          1,
          1,
          1,
          1,
          1,
          1,
          1,
          1,
          1,
          1,
          1,
          1,
          1,
          1,
          1,
          1,
          1,
          1,
          1,
          1,
          1,
          1,
          1,
          1,
          1,
          1,
          1,
          1,
          1,
          1,
          1,
          1,
          1,
          1,
          1,
          1,
          1,
          1,
          1,
          1,
          1,
          1,
          1,
          1,
          1,
          1,
          1,
          1,
          1,
          1,
          1,
          1,
          1,
          1,
          1,
          1,
          1,
          1,
          1,
          1,
          1,
          1,
          1,
          1,
          1,
          1,
          1,
          1,
          1,
          1,
          1,
          1,
          1,
          1,
          1,
          1,
          1,
          1,
          1,
          1,
          1,
          1,
          1,
          1,
          1,
          1,
          1,
          1,
          1,
          1,
          1,
          1,
          1,
          1,
          1,
          1,
          1,
          1,
          1,
          1,
          1,
          1,
          1,
          1,
          1,
          1,
          1,
          1,
          1,
          1,
          1,
          1,
          1,
          1,
          1,
          1,
          1,
          1,
          1,
          1,
          1,
          1,
          1,
          1,
          1,
          1,
          1,
          1,
          1,
          1,
          1,
          1,
          1,
          1,
          1,
          1,
          1,
          1,
          1,
          1,
          1,
          1,
          1,
          1,
          1,
          1,
          1,
          1,
          1,
          1,
          1,
          1,
          1,
          1,
          1,
          1,
          1,
          1,
          1,
          1,
          1,
          1,
          1,
          1,
          1,
          1,
          1,
          1,
          1,
          1,
          1,
          1,
          1,
          1,
          1,
          1
         ],
         "yaxis": "y2"
        },
        {
         "hovertemplate": "<b>%{text}</b><br>PC Projection: %{x:.3f}<extra></extra>",
         "legendgroup": "pos3",
         "marker": {
          "color": "blue",
          "line": {
           "color": "black",
           "width": 1
          },
          "opacity": 1,
          "size": 8,
          "symbol": "square"
         },
         "mode": "markers",
         "name": "Fully Role-Playing",
         "showlegend": false,
         "text": [
          "Zealot (Fully RP)",
          "Wraith (Fully RP)",
          "Wind (Fully RP)",
          "Whale (Fully RP)",
          "Void (Fully RP)",
          "Tree (Fully RP)",
          "Leviathan (Fully RP)",
          "Eldritch (Fully RP)",
          "Caveman (Fully RP)",
          "Aberration (Fully RP)"
         ],
         "type": "scatter",
         "x": [
          67.27839847745605,
          68.8671655375401,
          64.97720569892105,
          66.98821011357198,
          74.08776787120311,
          69.00482127674962,
          79.19789307087086,
          79.26102515987519,
          86.47044637828765,
          69.95585972875978
         ],
         "xaxis": "x2",
         "y": [
          1,
          1,
          1,
          1,
          1,
          1,
          1,
          1,
          1,
          1
         ],
         "yaxis": "y2"
        },
        {
         "hoverinfo": "skip",
         "line": {
          "color": "black",
          "width": 1
         },
         "mode": "lines",
         "showlegend": false,
         "type": "scatter",
         "x": [
          -38.88484534561481,
          -38.88484534561481
         ],
         "xaxis": "x2",
         "y": [
          1,
          1.45
         ],
         "yaxis": "y2"
        },
        {
         "hoverinfo": "skip",
         "line": {
          "color": "black",
          "width": 1
         },
         "mode": "lines",
         "showlegend": false,
         "type": "scatter",
         "x": [
          -38.714845411861646,
          -38.714845411861646
         ],
         "xaxis": "x2",
         "y": [
          1,
          0.6
         ],
         "yaxis": "y2"
        },
        {
         "hoverinfo": "skip",
         "line": {
          "color": "black",
          "width": 1
         },
         "mode": "lines",
         "showlegend": false,
         "type": "scatter",
         "x": [
          -37.745049327437386,
          -37.745049327437386
         ],
         "xaxis": "x2",
         "y": [
          1,
          1.9
         ],
         "yaxis": "y2"
        },
        {
         "hoverinfo": "skip",
         "line": {
          "color": "black",
          "width": 1
         },
         "mode": "lines",
         "showlegend": false,
         "type": "scatter",
         "x": [
          -36.68484213437988,
          -36.68484213437988
         ],
         "xaxis": "x2",
         "y": [
          1,
          0.15
         ],
         "yaxis": "y2"
        },
        {
         "hoverinfo": "skip",
         "line": {
          "color": "black",
          "width": 1
         },
         "mode": "lines",
         "showlegend": false,
         "type": "scatter",
         "x": [
          -36.54680177071911,
          -36.54680177071911
         ],
         "xaxis": "x2",
         "y": [
          1,
          1.6
         ],
         "yaxis": "y2"
        },
        {
         "hoverinfo": "skip",
         "line": {
          "color": "black",
          "width": 1
         },
         "mode": "lines",
         "showlegend": false,
         "type": "scatter",
         "x": [
          -36.33288053003105,
          -36.33288053003105
         ],
         "xaxis": "x2",
         "y": [
          1,
          0.45
         ],
         "yaxis": "y2"
        },
        {
         "hoverinfo": "skip",
         "line": {
          "color": "black",
          "width": 1
         },
         "mode": "lines",
         "showlegend": false,
         "type": "scatter",
         "x": [
          -36.153340522983015,
          -36.153340522983015
         ],
         "xaxis": "x2",
         "y": [
          1,
          1.3
         ],
         "yaxis": "y2"
        },
        {
         "hoverinfo": "skip",
         "line": {
          "color": "black",
          "width": 1
         },
         "mode": "lines",
         "showlegend": false,
         "type": "scatter",
         "x": [
          -36.14278944872974,
          -36.14278944872974
         ],
         "xaxis": "x2",
         "y": [
          1,
          0.75
         ],
         "yaxis": "y2"
        },
        {
         "hoverinfo": "skip",
         "line": {
          "color": "black",
          "width": 1
         },
         "mode": "lines",
         "showlegend": false,
         "type": "scatter",
         "x": [
          -35.986014972894935,
          -35.986014972894935
         ],
         "xaxis": "x2",
         "y": [
          1,
          1.75
         ],
         "yaxis": "y2"
        },
        {
         "hoverinfo": "skip",
         "line": {
          "color": "black",
          "width": 1
         },
         "mode": "lines",
         "showlegend": false,
         "type": "scatter",
         "x": [
          -35.85196188639666,
          -35.85196188639666
         ],
         "xaxis": "x2",
         "y": [
          1,
          0.3
         ],
         "yaxis": "y2"
        },
        {
         "hoverinfo": "skip",
         "line": {
          "color": "black",
          "width": 1
         },
         "mode": "lines",
         "showlegend": false,
         "type": "scatter",
         "x": [
          64.97720569892105,
          64.97720569892105
         ],
         "xaxis": "x2",
         "y": [
          1,
          1.45
         ],
         "yaxis": "y2"
        },
        {
         "hoverinfo": "skip",
         "line": {
          "color": "black",
          "width": 1
         },
         "mode": "lines",
         "showlegend": false,
         "type": "scatter",
         "x": [
          66.98821011357198,
          66.98821011357198
         ],
         "xaxis": "x2",
         "y": [
          1,
          0.6
         ],
         "yaxis": "y2"
        },
        {
         "hoverinfo": "skip",
         "line": {
          "color": "black",
          "width": 1
         },
         "mode": "lines",
         "showlegend": false,
         "type": "scatter",
         "x": [
          67.27839847745605,
          67.27839847745605
         ],
         "xaxis": "x2",
         "y": [
          1,
          1.9
         ],
         "yaxis": "y2"
        },
        {
         "hoverinfo": "skip",
         "line": {
          "color": "black",
          "width": 1
         },
         "mode": "lines",
         "showlegend": false,
         "type": "scatter",
         "x": [
          68.8671655375401,
          68.8671655375401
         ],
         "xaxis": "x2",
         "y": [
          1,
          0.15
         ],
         "yaxis": "y2"
        },
        {
         "hoverinfo": "skip",
         "line": {
          "color": "black",
          "width": 1
         },
         "mode": "lines",
         "showlegend": false,
         "type": "scatter",
         "x": [
          69.00482127674962,
          69.00482127674962
         ],
         "xaxis": "x2",
         "y": [
          1,
          1.6
         ],
         "yaxis": "y2"
        },
        {
         "hoverinfo": "skip",
         "line": {
          "color": "black",
          "width": 1
         },
         "mode": "lines",
         "showlegend": false,
         "type": "scatter",
         "x": [
          69.95585972875978,
          69.95585972875978
         ],
         "xaxis": "x2",
         "y": [
          1,
          0.45
         ],
         "yaxis": "y2"
        },
        {
         "hoverinfo": "skip",
         "line": {
          "color": "black",
          "width": 1
         },
         "mode": "lines",
         "showlegend": false,
         "type": "scatter",
         "x": [
          74.08776787120311,
          74.08776787120311
         ],
         "xaxis": "x2",
         "y": [
          1,
          1.3
         ],
         "yaxis": "y2"
        },
        {
         "hoverinfo": "skip",
         "line": {
          "color": "black",
          "width": 1
         },
         "mode": "lines",
         "showlegend": false,
         "type": "scatter",
         "x": [
          79.19789307087086,
          79.19789307087086
         ],
         "xaxis": "x2",
         "y": [
          1,
          0.75
         ],
         "yaxis": "y2"
        },
        {
         "hoverinfo": "skip",
         "line": {
          "color": "black",
          "width": 1
         },
         "mode": "lines",
         "showlegend": false,
         "type": "scatter",
         "x": [
          79.26102515987519,
          79.26102515987519
         ],
         "xaxis": "x2",
         "y": [
          1,
          1.75
         ],
         "yaxis": "y2"
        },
        {
         "hoverinfo": "skip",
         "line": {
          "color": "black",
          "width": 1
         },
         "mode": "lines",
         "showlegend": false,
         "type": "scatter",
         "x": [
          86.47044637828765,
          86.47044637828765
         ],
         "xaxis": "x2",
         "y": [
          1,
          0.3
         ],
         "yaxis": "y2"
        },
        {
         "hoverinfo": "skip",
         "legendgroup": "pos2",
         "marker": {
          "color": "cyan"
         },
         "name": "Somewhat Role-Playing",
         "opacity": 0.7,
         "showlegend": false,
         "type": "bar",
         "width": 3.7606587517170724,
         "x": [
          -36.79559048354977,
          -32.61708075941969,
          -28.438571035289606,
          -24.260061311159525,
          -20.081551587029445,
          -15.903041862899363,
          -11.724532138769279,
          -7.5460224146391965,
          -3.367512690509116,
          0.8109970336209642,
          4.989506757751048,
          9.168016481881132,
          13.346526206011212,
          17.525035930141296,
          21.70354565427138,
          25.88205537840146,
          30.06056510253154,
          34.23907482666162,
          38.4175845507917,
          42.59609427492178,
          46.77460399905187,
          50.95311372318196,
          55.13162344731204,
          59.31013317144212,
          63.4886428955722,
          67.66715261970228,
          71.84566234383236,
          76.02417206796244,
          80.20268179209253,
          84.38119151622261
         ],
         "xaxis": "x2",
         "y": [
          0.5029411764705882,
          0.9,
          0.6882352941176471,
          0.6882352941176471,
          0.39705882352941174,
          0.23823529411764707,
          0.2647058823529412,
          0.2647058823529412,
          0.15882352941176472,
          0.1323529411764706,
          0.10588235294117647,
          0,
          0.052941176470588235,
          0.1323529411764706,
          0.026470588235294117,
          0,
          0,
          0.026470588235294117,
          0,
          0,
          0,
          0,
          0,
          0,
          0,
          0,
          0,
          0,
          0,
          0
         ],
         "yaxis": "y2"
        },
        {
         "hoverinfo": "skip",
         "legendgroup": "pos3",
         "marker": {
          "color": "blue"
         },
         "name": "Fully Role-Playing",
         "opacity": 0.7,
         "showlegend": false,
         "type": "bar",
         "width": 3.7606587517170724,
         "x": [
          -36.79559048354977,
          -32.61708075941969,
          -28.438571035289606,
          -24.260061311159525,
          -20.081551587029445,
          -15.903041862899363,
          -11.724532138769279,
          -7.5460224146391965,
          -3.367512690509116,
          0.8109970336209642,
          4.989506757751048,
          9.168016481881132,
          13.346526206011212,
          17.525035930141296,
          21.70354565427138,
          25.88205537840146,
          30.06056510253154,
          34.23907482666162,
          38.4175845507917,
          42.59609427492178,
          46.77460399905187,
          50.95311372318196,
          55.13162344731204,
          59.31013317144212,
          63.4886428955722,
          67.66715261970228,
          71.84566234383236,
          76.02417206796244,
          80.20268179209253,
          84.38119151622261
         ],
         "xaxis": "x2",
         "y": [
          0.026470588235294117,
          0.34411764705882353,
          0.5294117647058824,
          0.4235294117647059,
          0.4235294117647059,
          0.37058823529411766,
          0.34411764705882353,
          0.31764705882352945,
          0.10588235294117647,
          0.10588235294117647,
          0.31764705882352945,
          0.23823529411764707,
          0.2911764705882353,
          0.2911764705882353,
          0.2647058823529412,
          0.15882352941176472,
          0.2647058823529412,
          0.34411764705882353,
          0.2647058823529412,
          0.23823529411764707,
          0.34411764705882353,
          0.31764705882352945,
          0.31764705882352945,
          0.15882352941176472,
          0.23823529411764707,
          0.10588235294117647,
          0.026470588235294117,
          0.026470588235294117,
          0.052941176470588235,
          0.026470588235294117
         ],
         "yaxis": "y2"
        }
       ],
       "layout": {
        "annotations": [
         {
          "font": {
           "size": 16
          },
          "showarrow": false,
          "text": "PC1 Cosine Similarity",
          "x": 0.5,
          "xanchor": "center",
          "xref": "paper",
          "y": 1,
          "yanchor": "bottom",
          "yref": "paper"
         },
         {
          "font": {
           "size": 16
          },
          "showarrow": false,
          "text": "PC1 Projection",
          "x": 0.5,
          "xanchor": "center",
          "xref": "paper",
          "y": 0.45,
          "yanchor": "bottom",
          "yref": "paper"
         },
         {
          "bgcolor": "rgba(255, 255, 255, 0.9)",
          "bordercolor": "black",
          "borderwidth": 1,
          "font": {
           "color": "black",
           "size": 10
          },
          "showarrow": false,
          "text": "Reviewer (Somewhat RP)",
          "x": -0.8003932756084821,
          "xref": "x",
          "y": 1.45,
          "yref": "y"
         },
         {
          "bgcolor": "rgba(255, 255, 255, 0.9)",
          "bordercolor": "black",
          "borderwidth": 1,
          "font": {
           "color": "black",
           "size": 10
          },
          "showarrow": false,
          "text": "Planner (Somewhat RP)",
          "x": -0.7987908453604858,
          "xref": "x",
          "y": 0.6,
          "yref": "y"
         },
         {
          "bgcolor": "rgba(255, 255, 255, 0.9)",
          "bordercolor": "black",
          "borderwidth": 1,
          "font": {
           "color": "black",
           "size": 10
          },
          "showarrow": false,
          "text": "Supervisor (Somewhat RP)",
          "x": -0.7846595292387171,
          "xref": "x",
          "y": 1.9,
          "yref": "y"
         },
         {
          "bgcolor": "rgba(255, 255, 255, 0.9)",
          "bordercolor": "black",
          "borderwidth": 1,
          "font": {
           "color": "black",
           "size": 10
          },
          "showarrow": false,
          "text": "Editor (Somewhat RP)",
          "x": -0.7829519847524846,
          "xref": "x",
          "y": 0.15,
          "yref": "y"
         },
         {
          "bgcolor": "rgba(255, 255, 255, 0.9)",
          "bordercolor": "black",
          "borderwidth": 1,
          "font": {
           "color": "black",
           "size": 10
          },
          "showarrow": false,
          "text": "Researcher (Somewhat RP)",
          "x": -0.7822530713229844,
          "xref": "x",
          "y": 1.6,
          "yref": "y"
         },
         {
          "bgcolor": "rgba(255, 255, 255, 0.9)",
          "bordercolor": "black",
          "borderwidth": 1,
          "font": {
           "color": "black",
           "size": 10
          },
          "showarrow": false,
          "text": "Evaluator (Somewhat RP)",
          "x": -0.7754416064850178,
          "xref": "x",
          "y": 0.45,
          "yref": "y"
         },
         {
          "bgcolor": "rgba(255, 255, 255, 0.9)",
          "bordercolor": "black",
          "borderwidth": 1,
          "font": {
           "color": "black",
           "size": 10
          },
          "showarrow": false,
          "text": "Validator (Somewhat RP)",
          "x": -0.775402512655442,
          "xref": "x",
          "y": 1.3,
          "yref": "y"
         },
         {
          "bgcolor": "rgba(255, 255, 255, 0.9)",
          "bordercolor": "black",
          "borderwidth": 1,
          "font": {
           "color": "black",
           "size": 10
          },
          "showarrow": false,
          "text": "Analyst (Somewhat RP)",
          "x": -0.7745077618004124,
          "xref": "x",
          "y": 0.75,
          "yref": "y"
         },
         {
          "bgcolor": "rgba(255, 255, 255, 0.9)",
          "bordercolor": "black",
          "borderwidth": 1,
          "font": {
           "color": "black",
           "size": 10
          },
          "showarrow": false,
          "text": "Examiner (Somewhat RP)",
          "x": -0.765187735928902,
          "xref": "x",
          "y": 1.75,
          "yref": "y"
         },
         {
          "bgcolor": "rgba(255, 255, 255, 0.9)",
          "bordercolor": "black",
          "borderwidth": 1,
          "font": {
           "color": "black",
           "size": 10
          },
          "showarrow": false,
          "text": "Coordinator (Somewhat RP)",
          "x": -0.7525827740698718,
          "xref": "x",
          "y": 0.3,
          "yref": "y"
         },
         {
          "bgcolor": "rgba(255, 255, 255, 0.9)",
          "bordercolor": "black",
          "borderwidth": 1,
          "font": {
           "color": "black",
           "size": 10
          },
          "showarrow": false,
          "text": "Prophet (Fully RP)",
          "x": 0.6977044922856217,
          "xref": "x",
          "y": 1.45,
          "yref": "y"
         },
         {
          "bgcolor": "rgba(255, 255, 255, 0.9)",
          "bordercolor": "black",
          "borderwidth": 1,
          "font": {
           "color": "black",
           "size": 10
          },
          "showarrow": false,
          "text": "Revenant (Fully RP)",
          "x": 0.7159030034169824,
          "xref": "x",
          "y": 0.6,
          "yref": "y"
         },
         {
          "bgcolor": "rgba(255, 255, 255, 0.9)",
          "bordercolor": "black",
          "borderwidth": 1,
          "font": {
           "color": "black",
           "size": 10
          },
          "showarrow": false,
          "text": "Whale (Fully RP)",
          "x": 0.7177654784118552,
          "xref": "x",
          "y": 1.9,
          "yref": "y"
         },
         {
          "bgcolor": "rgba(255, 255, 255, 0.9)",
          "bordercolor": "black",
          "borderwidth": 1,
          "font": {
           "color": "black",
           "size": 10
          },
          "showarrow": false,
          "text": "Leviathan (Fully RP)",
          "x": 0.7196874887014563,
          "xref": "x",
          "y": 0.15,
          "yref": "y"
         },
         {
          "bgcolor": "rgba(255, 255, 255, 0.9)",
          "bordercolor": "black",
          "borderwidth": 1,
          "font": {
           "color": "black",
           "size": 10
          },
          "showarrow": false,
          "text": "Witch (Fully RP)",
          "x": 0.730357297267388,
          "xref": "x",
          "y": 1.6,
          "yref": "y"
         },
         {
          "bgcolor": "rgba(255, 255, 255, 0.9)",
          "bordercolor": "black",
          "borderwidth": 1,
          "font": {
           "color": "black",
           "size": 10
          },
          "showarrow": false,
          "text": "Bohemian (Fully RP)",
          "x": 0.7319291025068904,
          "xref": "x",
          "y": 0.45,
          "yref": "y"
         },
         {
          "bgcolor": "rgba(255, 255, 255, 0.9)",
          "bordercolor": "black",
          "borderwidth": 1,
          "font": {
           "color": "black",
           "size": 10
          },
          "showarrow": false,
          "text": "Wraith (Fully RP)",
          "x": 0.7532125435088858,
          "xref": "x",
          "y": 1.3,
          "yref": "y"
         },
         {
          "bgcolor": "rgba(255, 255, 255, 0.9)",
          "bordercolor": "black",
          "borderwidth": 1,
          "font": {
           "color": "black",
           "size": 10
          },
          "showarrow": false,
          "text": "Hermit (Fully RP)",
          "x": 0.7730161690546525,
          "xref": "x",
          "y": 0.75,
          "yref": "y"
         },
         {
          "bgcolor": "rgba(255, 255, 255, 0.9)",
          "bordercolor": "black",
          "borderwidth": 1,
          "font": {
           "color": "black",
           "size": 10
          },
          "showarrow": false,
          "text": "Ghost (Fully RP)",
          "x": 0.776611251432538,
          "xref": "x",
          "y": 1.75,
          "yref": "y"
         },
         {
          "bgcolor": "rgba(255, 255, 255, 0.9)",
          "bordercolor": "black",
          "borderwidth": 1,
          "font": {
           "color": "black",
           "size": 10
          },
          "showarrow": false,
          "text": "Wanderer (Fully RP)",
          "x": 0.7839665356983155,
          "xref": "x",
          "y": 0.3,
          "yref": "y"
         },
         {
          "bgcolor": "rgba(255, 255, 255, 0.9)",
          "bordercolor": "red",
          "borderwidth": 1,
          "font": {
           "color": "red",
           "size": 14
          },
          "showarrow": false,
          "text": "Assistant",
          "x": -0.7216800972947884,
          "xref": "x",
          "y": 2.25,
          "yref": "y"
         },
         {
          "bgcolor": "rgba(255, 255, 255, 0.9)",
          "bordercolor": "black",
          "borderwidth": 1,
          "font": {
           "color": "black",
           "size": 10
          },
          "showarrow": false,
          "text": "Assistant (Somewhat RP)",
          "x": -38.88484534561481,
          "xref": "x2",
          "y": 1.45,
          "yref": "y2"
         },
         {
          "bgcolor": "rgba(255, 255, 255, 0.9)",
          "bordercolor": "black",
          "borderwidth": 1,
          "font": {
           "color": "black",
           "size": 10
          },
          "showarrow": false,
          "text": "Screener (Somewhat RP)",
          "x": -38.714845411861646,
          "xref": "x2",
          "y": 0.6,
          "yref": "y2"
         },
         {
          "bgcolor": "rgba(255, 255, 255, 0.9)",
          "bordercolor": "black",
          "borderwidth": 1,
          "font": {
           "color": "black",
           "size": 10
          },
          "showarrow": false,
          "text": "Doctor (Somewhat RP)",
          "x": -37.745049327437386,
          "xref": "x2",
          "y": 1.9,
          "yref": "y2"
         },
         {
          "bgcolor": "rgba(255, 255, 255, 0.9)",
          "bordercolor": "black",
          "borderwidth": 1,
          "font": {
           "color": "black",
           "size": 10
          },
          "showarrow": false,
          "text": "Analyst (Somewhat RP)",
          "x": -36.68484213437988,
          "xref": "x2",
          "y": 0.15,
          "yref": "y2"
         },
         {
          "bgcolor": "rgba(255, 255, 255, 0.9)",
          "bordercolor": "black",
          "borderwidth": 1,
          "font": {
           "color": "black",
           "size": 10
          },
          "showarrow": false,
          "text": "Researcher (Somewhat RP)",
          "x": -36.54680177071911,
          "xref": "x2",
          "y": 1.6,
          "yref": "y2"
         },
         {
          "bgcolor": "rgba(255, 255, 255, 0.9)",
          "bordercolor": "black",
          "borderwidth": 1,
          "font": {
           "color": "black",
           "size": 10
          },
          "showarrow": false,
          "text": "Validator (Somewhat RP)",
          "x": -36.33288053003105,
          "xref": "x2",
          "y": 0.45,
          "yref": "y2"
         },
         {
          "bgcolor": "rgba(255, 255, 255, 0.9)",
          "bordercolor": "black",
          "borderwidth": 1,
          "font": {
           "color": "black",
           "size": 10
          },
          "showarrow": false,
          "text": "Summarizer (Somewhat RP)",
          "x": -36.153340522983015,
          "xref": "x2",
          "y": 1.3,
          "yref": "y2"
         },
         {
          "bgcolor": "rgba(255, 255, 255, 0.9)",
          "bordercolor": "black",
          "borderwidth": 1,
          "font": {
           "color": "black",
           "size": 10
          },
          "showarrow": false,
          "text": "Evaluator (Somewhat RP)",
          "x": -36.14278944872974,
          "xref": "x2",
          "y": 0.75,
          "yref": "y2"
         },
         {
          "bgcolor": "rgba(255, 255, 255, 0.9)",
          "bordercolor": "black",
          "borderwidth": 1,
          "font": {
           "color": "black",
           "size": 10
          },
          "showarrow": false,
          "text": "Scientist (Somewhat RP)",
          "x": -35.986014972894935,
          "xref": "x2",
          "y": 1.75,
          "yref": "y2"
         },
         {
          "bgcolor": "rgba(255, 255, 255, 0.9)",
          "bordercolor": "black",
          "borderwidth": 1,
          "font": {
           "color": "black",
           "size": 10
          },
          "showarrow": false,
          "text": "Grader (Somewhat RP)",
          "x": -35.85196188639666,
          "xref": "x2",
          "y": 0.3,
          "yref": "y2"
         },
         {
          "bgcolor": "rgba(255, 255, 255, 0.9)",
          "bordercolor": "black",
          "borderwidth": 1,
          "font": {
           "color": "black",
           "size": 10
          },
          "showarrow": false,
          "text": "Wind (Fully RP)",
          "x": 64.97720569892105,
          "xref": "x2",
          "y": 1.45,
          "yref": "y2"
         },
         {
          "bgcolor": "rgba(255, 255, 255, 0.9)",
          "bordercolor": "black",
          "borderwidth": 1,
          "font": {
           "color": "black",
           "size": 10
          },
          "showarrow": false,
          "text": "Whale (Fully RP)",
          "x": 66.98821011357198,
          "xref": "x2",
          "y": 0.6,
          "yref": "y2"
         },
         {
          "bgcolor": "rgba(255, 255, 255, 0.9)",
          "bordercolor": "black",
          "borderwidth": 1,
          "font": {
           "color": "black",
           "size": 10
          },
          "showarrow": false,
          "text": "Zealot (Fully RP)",
          "x": 67.27839847745605,
          "xref": "x2",
          "y": 1.9,
          "yref": "y2"
         },
         {
          "bgcolor": "rgba(255, 255, 255, 0.9)",
          "bordercolor": "black",
          "borderwidth": 1,
          "font": {
           "color": "black",
           "size": 10
          },
          "showarrow": false,
          "text": "Wraith (Fully RP)",
          "x": 68.8671655375401,
          "xref": "x2",
          "y": 0.15,
          "yref": "y2"
         },
         {
          "bgcolor": "rgba(255, 255, 255, 0.9)",
          "bordercolor": "black",
          "borderwidth": 1,
          "font": {
           "color": "black",
           "size": 10
          },
          "showarrow": false,
          "text": "Tree (Fully RP)",
          "x": 69.00482127674962,
          "xref": "x2",
          "y": 1.6,
          "yref": "y2"
         },
         {
          "bgcolor": "rgba(255, 255, 255, 0.9)",
          "bordercolor": "black",
          "borderwidth": 1,
          "font": {
           "color": "black",
           "size": 10
          },
          "showarrow": false,
          "text": "Aberration (Fully RP)",
          "x": 69.95585972875978,
          "xref": "x2",
          "y": 0.45,
          "yref": "y2"
         },
         {
          "bgcolor": "rgba(255, 255, 255, 0.9)",
          "bordercolor": "black",
          "borderwidth": 1,
          "font": {
           "color": "black",
           "size": 10
          },
          "showarrow": false,
          "text": "Void (Fully RP)",
          "x": 74.08776787120311,
          "xref": "x2",
          "y": 1.3,
          "yref": "y2"
         },
         {
          "bgcolor": "rgba(255, 255, 255, 0.9)",
          "bordercolor": "black",
          "borderwidth": 1,
          "font": {
           "color": "black",
           "size": 10
          },
          "showarrow": false,
          "text": "Leviathan (Fully RP)",
          "x": 79.19789307087086,
          "xref": "x2",
          "y": 0.75,
          "yref": "y2"
         },
         {
          "bgcolor": "rgba(255, 255, 255, 0.9)",
          "bordercolor": "black",
          "borderwidth": 1,
          "font": {
           "color": "black",
           "size": 10
          },
          "showarrow": false,
          "text": "Eldritch (Fully RP)",
          "x": 79.26102515987519,
          "xref": "x2",
          "y": 1.75,
          "yref": "y2"
         },
         {
          "bgcolor": "rgba(255, 255, 255, 0.9)",
          "bordercolor": "black",
          "borderwidth": 1,
          "font": {
           "color": "black",
           "size": 10
          },
          "showarrow": false,
          "text": "Caveman (Fully RP)",
          "x": 86.47044637828765,
          "xref": "x2",
          "y": 0.3,
          "yref": "y2"
         },
         {
          "bgcolor": "rgba(255, 255, 255, 0.9)",
          "bordercolor": "red",
          "borderwidth": 1,
          "font": {
           "color": "red",
           "size": 14
          },
          "showarrow": false,
          "text": "Assistant",
          "x": -34.71765411295307,
          "xref": "x2",
          "y": 2.25,
          "yref": "y2"
         }
        ],
        "barmode": "stack",
        "height": 800,
        "legend": {
         "bgcolor": "rgba(255, 255, 255, 0.8)",
         "bordercolor": "gray",
         "borderwidth": 1,
         "x": 0,
         "xanchor": "left",
         "y": 1.04,
         "yanchor": "bottom"
        },
        "shapes": [
         {
          "line": {
           "color": "gray",
           "dash": "solid",
           "width": 1
          },
          "opacity": 0.7,
          "type": "line",
          "x0": 0,
          "x1": 0,
          "xref": "x",
          "y0": 0,
          "y1": 1,
          "yref": "y domain"
         },
         {
          "line": {
           "color": "red",
           "dash": "dash",
           "width": 1
          },
          "opacity": 1,
          "type": "line",
          "x0": -0.7216800972947884,
          "x1": -0.7216800972947884,
          "xref": "x",
          "y0": 0,
          "y1": 1,
          "yref": "y domain"
         },
         {
          "line": {
           "color": "gray",
           "dash": "solid",
           "width": 1
          },
          "opacity": 0.7,
          "type": "line",
          "x0": 0,
          "x1": 0,
          "xref": "x2",
          "y0": 0,
          "y1": 1,
          "yref": "y2 domain"
         },
         {
          "line": {
           "color": "red",
           "dash": "dash",
           "width": 1
          },
          "opacity": 1,
          "type": "line",
          "x0": -34.71765411295307,
          "x1": -34.71765411295307,
          "xref": "x2",
          "y0": 0,
          "y1": 1,
          "yref": "y2 domain"
         }
        ],
        "showlegend": true,
        "template": {
         "data": {
          "bar": [
           {
            "error_x": {
             "color": "#2a3f5f"
            },
            "error_y": {
             "color": "#2a3f5f"
            },
            "marker": {
             "line": {
              "color": "#E5ECF6",
              "width": 0.5
             },
             "pattern": {
              "fillmode": "overlay",
              "size": 10,
              "solidity": 0.2
             }
            },
            "type": "bar"
           }
          ],
          "barpolar": [
           {
            "marker": {
             "line": {
              "color": "#E5ECF6",
              "width": 0.5
             },
             "pattern": {
              "fillmode": "overlay",
              "size": 10,
              "solidity": 0.2
             }
            },
            "type": "barpolar"
           }
          ],
          "carpet": [
           {
            "aaxis": {
             "endlinecolor": "#2a3f5f",
             "gridcolor": "white",
             "linecolor": "white",
             "minorgridcolor": "white",
             "startlinecolor": "#2a3f5f"
            },
            "baxis": {
             "endlinecolor": "#2a3f5f",
             "gridcolor": "white",
             "linecolor": "white",
             "minorgridcolor": "white",
             "startlinecolor": "#2a3f5f"
            },
            "type": "carpet"
           }
          ],
          "choropleth": [
           {
            "colorbar": {
             "outlinewidth": 0,
             "ticks": ""
            },
            "type": "choropleth"
           }
          ],
          "contour": [
           {
            "colorbar": {
             "outlinewidth": 0,
             "ticks": ""
            },
            "colorscale": [
             [
              0,
              "#0d0887"
             ],
             [
              0.1111111111111111,
              "#46039f"
             ],
             [
              0.2222222222222222,
              "#7201a8"
             ],
             [
              0.3333333333333333,
              "#9c179e"
             ],
             [
              0.4444444444444444,
              "#bd3786"
             ],
             [
              0.5555555555555556,
              "#d8576b"
             ],
             [
              0.6666666666666666,
              "#ed7953"
             ],
             [
              0.7777777777777778,
              "#fb9f3a"
             ],
             [
              0.8888888888888888,
              "#fdca26"
             ],
             [
              1,
              "#f0f921"
             ]
            ],
            "type": "contour"
           }
          ],
          "contourcarpet": [
           {
            "colorbar": {
             "outlinewidth": 0,
             "ticks": ""
            },
            "type": "contourcarpet"
           }
          ],
          "heatmap": [
           {
            "colorbar": {
             "outlinewidth": 0,
             "ticks": ""
            },
            "colorscale": [
             [
              0,
              "#0d0887"
             ],
             [
              0.1111111111111111,
              "#46039f"
             ],
             [
              0.2222222222222222,
              "#7201a8"
             ],
             [
              0.3333333333333333,
              "#9c179e"
             ],
             [
              0.4444444444444444,
              "#bd3786"
             ],
             [
              0.5555555555555556,
              "#d8576b"
             ],
             [
              0.6666666666666666,
              "#ed7953"
             ],
             [
              0.7777777777777778,
              "#fb9f3a"
             ],
             [
              0.8888888888888888,
              "#fdca26"
             ],
             [
              1,
              "#f0f921"
             ]
            ],
            "type": "heatmap"
           }
          ],
          "heatmapgl": [
           {
            "colorbar": {
             "outlinewidth": 0,
             "ticks": ""
            },
            "colorscale": [
             [
              0,
              "#0d0887"
             ],
             [
              0.1111111111111111,
              "#46039f"
             ],
             [
              0.2222222222222222,
              "#7201a8"
             ],
             [
              0.3333333333333333,
              "#9c179e"
             ],
             [
              0.4444444444444444,
              "#bd3786"
             ],
             [
              0.5555555555555556,
              "#d8576b"
             ],
             [
              0.6666666666666666,
              "#ed7953"
             ],
             [
              0.7777777777777778,
              "#fb9f3a"
             ],
             [
              0.8888888888888888,
              "#fdca26"
             ],
             [
              1,
              "#f0f921"
             ]
            ],
            "type": "heatmapgl"
           }
          ],
          "histogram": [
           {
            "marker": {
             "pattern": {
              "fillmode": "overlay",
              "size": 10,
              "solidity": 0.2
             }
            },
            "type": "histogram"
           }
          ],
          "histogram2d": [
           {
            "colorbar": {
             "outlinewidth": 0,
             "ticks": ""
            },
            "colorscale": [
             [
              0,
              "#0d0887"
             ],
             [
              0.1111111111111111,
              "#46039f"
             ],
             [
              0.2222222222222222,
              "#7201a8"
             ],
             [
              0.3333333333333333,
              "#9c179e"
             ],
             [
              0.4444444444444444,
              "#bd3786"
             ],
             [
              0.5555555555555556,
              "#d8576b"
             ],
             [
              0.6666666666666666,
              "#ed7953"
             ],
             [
              0.7777777777777778,
              "#fb9f3a"
             ],
             [
              0.8888888888888888,
              "#fdca26"
             ],
             [
              1,
              "#f0f921"
             ]
            ],
            "type": "histogram2d"
           }
          ],
          "histogram2dcontour": [
           {
            "colorbar": {
             "outlinewidth": 0,
             "ticks": ""
            },
            "colorscale": [
             [
              0,
              "#0d0887"
             ],
             [
              0.1111111111111111,
              "#46039f"
             ],
             [
              0.2222222222222222,
              "#7201a8"
             ],
             [
              0.3333333333333333,
              "#9c179e"
             ],
             [
              0.4444444444444444,
              "#bd3786"
             ],
             [
              0.5555555555555556,
              "#d8576b"
             ],
             [
              0.6666666666666666,
              "#ed7953"
             ],
             [
              0.7777777777777778,
              "#fb9f3a"
             ],
             [
              0.8888888888888888,
              "#fdca26"
             ],
             [
              1,
              "#f0f921"
             ]
            ],
            "type": "histogram2dcontour"
           }
          ],
          "mesh3d": [
           {
            "colorbar": {
             "outlinewidth": 0,
             "ticks": ""
            },
            "type": "mesh3d"
           }
          ],
          "parcoords": [
           {
            "line": {
             "colorbar": {
              "outlinewidth": 0,
              "ticks": ""
             }
            },
            "type": "parcoords"
           }
          ],
          "pie": [
           {
            "automargin": true,
            "type": "pie"
           }
          ],
          "scatter": [
           {
            "fillpattern": {
             "fillmode": "overlay",
             "size": 10,
             "solidity": 0.2
            },
            "type": "scatter"
           }
          ],
          "scatter3d": [
           {
            "line": {
             "colorbar": {
              "outlinewidth": 0,
              "ticks": ""
             }
            },
            "marker": {
             "colorbar": {
              "outlinewidth": 0,
              "ticks": ""
             }
            },
            "type": "scatter3d"
           }
          ],
          "scattercarpet": [
           {
            "marker": {
             "colorbar": {
              "outlinewidth": 0,
              "ticks": ""
             }
            },
            "type": "scattercarpet"
           }
          ],
          "scattergeo": [
           {
            "marker": {
             "colorbar": {
              "outlinewidth": 0,
              "ticks": ""
             }
            },
            "type": "scattergeo"
           }
          ],
          "scattergl": [
           {
            "marker": {
             "colorbar": {
              "outlinewidth": 0,
              "ticks": ""
             }
            },
            "type": "scattergl"
           }
          ],
          "scattermapbox": [
           {
            "marker": {
             "colorbar": {
              "outlinewidth": 0,
              "ticks": ""
             }
            },
            "type": "scattermapbox"
           }
          ],
          "scatterpolar": [
           {
            "marker": {
             "colorbar": {
              "outlinewidth": 0,
              "ticks": ""
             }
            },
            "type": "scatterpolar"
           }
          ],
          "scatterpolargl": [
           {
            "marker": {
             "colorbar": {
              "outlinewidth": 0,
              "ticks": ""
             }
            },
            "type": "scatterpolargl"
           }
          ],
          "scatterternary": [
           {
            "marker": {
             "colorbar": {
              "outlinewidth": 0,
              "ticks": ""
             }
            },
            "type": "scatterternary"
           }
          ],
          "surface": [
           {
            "colorbar": {
             "outlinewidth": 0,
             "ticks": ""
            },
            "colorscale": [
             [
              0,
              "#0d0887"
             ],
             [
              0.1111111111111111,
              "#46039f"
             ],
             [
              0.2222222222222222,
              "#7201a8"
             ],
             [
              0.3333333333333333,
              "#9c179e"
             ],
             [
              0.4444444444444444,
              "#bd3786"
             ],
             [
              0.5555555555555556,
              "#d8576b"
             ],
             [
              0.6666666666666666,
              "#ed7953"
             ],
             [
              0.7777777777777778,
              "#fb9f3a"
             ],
             [
              0.8888888888888888,
              "#fdca26"
             ],
             [
              1,
              "#f0f921"
             ]
            ],
            "type": "surface"
           }
          ],
          "table": [
           {
            "cells": {
             "fill": {
              "color": "#EBF0F8"
             },
             "line": {
              "color": "white"
             }
            },
            "header": {
             "fill": {
              "color": "#C8D4E3"
             },
             "line": {
              "color": "white"
             }
            },
            "type": "table"
           }
          ]
         },
         "layout": {
          "annotationdefaults": {
           "arrowcolor": "#2a3f5f",
           "arrowhead": 0,
           "arrowwidth": 1
          },
          "autotypenumbers": "strict",
          "coloraxis": {
           "colorbar": {
            "outlinewidth": 0,
            "ticks": ""
           }
          },
          "colorscale": {
           "diverging": [
            [
             0,
             "#8e0152"
            ],
            [
             0.1,
             "#c51b7d"
            ],
            [
             0.2,
             "#de77ae"
            ],
            [
             0.3,
             "#f1b6da"
            ],
            [
             0.4,
             "#fde0ef"
            ],
            [
             0.5,
             "#f7f7f7"
            ],
            [
             0.6,
             "#e6f5d0"
            ],
            [
             0.7,
             "#b8e186"
            ],
            [
             0.8,
             "#7fbc41"
            ],
            [
             0.9,
             "#4d9221"
            ],
            [
             1,
             "#276419"
            ]
           ],
           "sequential": [
            [
             0,
             "#0d0887"
            ],
            [
             0.1111111111111111,
             "#46039f"
            ],
            [
             0.2222222222222222,
             "#7201a8"
            ],
            [
             0.3333333333333333,
             "#9c179e"
            ],
            [
             0.4444444444444444,
             "#bd3786"
            ],
            [
             0.5555555555555556,
             "#d8576b"
            ],
            [
             0.6666666666666666,
             "#ed7953"
            ],
            [
             0.7777777777777778,
             "#fb9f3a"
            ],
            [
             0.8888888888888888,
             "#fdca26"
            ],
            [
             1,
             "#f0f921"
            ]
           ],
           "sequentialminus": [
            [
             0,
             "#0d0887"
            ],
            [
             0.1111111111111111,
             "#46039f"
            ],
            [
             0.2222222222222222,
             "#7201a8"
            ],
            [
             0.3333333333333333,
             "#9c179e"
            ],
            [
             0.4444444444444444,
             "#bd3786"
            ],
            [
             0.5555555555555556,
             "#d8576b"
            ],
            [
             0.6666666666666666,
             "#ed7953"
            ],
            [
             0.7777777777777778,
             "#fb9f3a"
            ],
            [
             0.8888888888888888,
             "#fdca26"
            ],
            [
             1,
             "#f0f921"
            ]
           ]
          },
          "colorway": [
           "#636efa",
           "#EF553B",
           "#00cc96",
           "#ab63fa",
           "#FFA15A",
           "#19d3f3",
           "#FF6692",
           "#B6E880",
           "#FF97FF",
           "#FECB52"
          ],
          "font": {
           "color": "#2a3f5f"
          },
          "geo": {
           "bgcolor": "white",
           "lakecolor": "white",
           "landcolor": "#E5ECF6",
           "showlakes": true,
           "showland": true,
           "subunitcolor": "white"
          },
          "hoverlabel": {
           "align": "left"
          },
          "hovermode": "closest",
          "mapbox": {
           "style": "light"
          },
          "paper_bgcolor": "white",
          "plot_bgcolor": "#E5ECF6",
          "polar": {
           "angularaxis": {
            "gridcolor": "white",
            "linecolor": "white",
            "ticks": ""
           },
           "bgcolor": "#E5ECF6",
           "radialaxis": {
            "gridcolor": "white",
            "linecolor": "white",
            "ticks": ""
           }
          },
          "scene": {
           "xaxis": {
            "backgroundcolor": "#E5ECF6",
            "gridcolor": "white",
            "gridwidth": 2,
            "linecolor": "white",
            "showbackground": true,
            "ticks": "",
            "zerolinecolor": "white"
           },
           "yaxis": {
            "backgroundcolor": "#E5ECF6",
            "gridcolor": "white",
            "gridwidth": 2,
            "linecolor": "white",
            "showbackground": true,
            "ticks": "",
            "zerolinecolor": "white"
           },
           "zaxis": {
            "backgroundcolor": "#E5ECF6",
            "gridcolor": "white",
            "gridwidth": 2,
            "linecolor": "white",
            "showbackground": true,
            "ticks": "",
            "zerolinecolor": "white"
           }
          },
          "shapedefaults": {
           "line": {
            "color": "#2a3f5f"
           }
          },
          "ternary": {
           "aaxis": {
            "gridcolor": "white",
            "linecolor": "white",
            "ticks": ""
           },
           "baxis": {
            "gridcolor": "white",
            "linecolor": "white",
            "ticks": ""
           },
           "bgcolor": "#E5ECF6",
           "caxis": {
            "gridcolor": "white",
            "linecolor": "white",
            "ticks": ""
           }
          },
          "title": {
           "x": 0.05
          },
          "xaxis": {
           "automargin": true,
           "gridcolor": "white",
           "linecolor": "white",
           "ticks": "",
           "title": {
            "standoff": 15
           },
           "zerolinecolor": "white",
           "zerolinewidth": 2
          },
          "yaxis": {
           "automargin": true,
           "gridcolor": "white",
           "linecolor": "white",
           "ticks": "",
           "title": {
            "standoff": 15
           },
           "zerolinecolor": "white",
           "zerolinewidth": 2
          }
         }
        },
        "title": {
         "font": {
          "size": 16
         },
         "subtitle": {
          "text": "Gemma 2 27B, Layer 22 - Shared Question Set, Mean-Centered and Scaled Vectors"
         },
         "text": "PCA on Role-Playing Vectors",
         "x": 0.5
        },
        "width": 1200,
        "xaxis": {
         "anchor": "y",
         "domain": [
          0,
          1
         ],
         "range": [
          -0.8804326031693304,
          0.8804326031693304
         ]
        },
        "xaxis2": {
         "anchor": "y2",
         "domain": [
          0,
          1
         ],
         "range": [
          -95.11749101611642,
          95.11749101611642
         ]
        },
        "yaxis": {
         "anchor": "x",
         "domain": [
          0.55,
          1
         ],
         "range": [
          0,
          2.5
         ],
         "showticklabels": false
        },
        "yaxis2": {
         "anchor": "x2",
         "domain": [
          0,
          0.45
         ],
         "range": [
          0,
          2.5
         ],
         "showticklabels": false
        }
       }
      },
      "text/html": [
       "<div>                            <div id=\"2eae60a7-451d-41c1-ba6d-d4174d605af9\" class=\"plotly-graph-div\" style=\"height:800px; width:1200px;\"></div>            <script type=\"text/javascript\">                require([\"plotly\"], function(Plotly) {                    window.PLOTLYENV=window.PLOTLYENV || {};                                    if (document.getElementById(\"2eae60a7-451d-41c1-ba6d-d4174d605af9\")) {                    Plotly.newPlot(                        \"2eae60a7-451d-41c1-ba6d-d4174d605af9\",                        [{\"hovertemplate\":\"\\u003cb\\u003e%{text}\\u003c\\u002fb\\u003e\\u003cbr\\u003eCosine Similarity: %{x:.3f}\\u003cextra\\u003e\\u003c\\u002fextra\\u003e\",\"legendgroup\":\"pos2\",\"marker\":{\"color\":\"cyan\",\"line\":{\"color\":\"black\",\"width\":1},\"opacity\":1.0,\"size\":8,\"symbol\":\"circle\"},\"mode\":\"markers\",\"name\":\"Somewhat Role-Playing\",\"text\":[\"Writer (Somewhat RP)\",\"Workaholic (Somewhat RP)\",\"Witness (Somewhat RP)\",\"Visionary (Somewhat RP)\",\"Virus (Somewhat RP)\",\"Virtuoso (Somewhat RP)\",\"Vigilante (Somewhat RP)\",\"Veterinarian (Somewhat RP)\",\"Vegan (Somewhat RP)\",\"Tutor (Somewhat RP)\",\"Tulpa (Somewhat RP)\",\"Translator (Somewhat RP)\",\"Trainer (Somewhat RP)\",\"Traditionalist (Somewhat RP)\",\"Therapist (Somewhat RP)\",\"Theorist (Somewhat RP)\",\"Technologist (Somewhat RP)\",\"Teacher (Somewhat RP)\",\"Synthesizer (Somewhat RP)\",\"Symbiont (Somewhat RP)\",\"Swarm (Somewhat RP)\",\"Summarizer (Somewhat RP)\",\"Student (Somewhat RP)\",\"Strategist (Somewhat RP)\",\"Stoic (Somewhat RP)\",\"Statistician (Somewhat RP)\",\"Spy (Somewhat RP)\",\"Specialist (Somewhat RP)\",\"Sommelier (Somewhat RP)\",\"Sociologist (Somewhat RP)\",\"Skeptic (Somewhat RP)\",\"Simulacrum (Somewhat RP)\",\"Shapeshifter (Somewhat RP)\",\"Secretary (Somewhat RP)\",\"Screener (Somewhat RP)\",\"Scout (Somewhat RP)\",\"Scientist (Somewhat RP)\",\"Scholar (Somewhat RP)\",\"Scheduler (Somewhat RP)\",\"Saboteur (Somewhat RP)\",\"Robot (Somewhat RP)\",\"Revolutionary (Somewhat RP)\",\"Reporter (Somewhat RP)\",\"Recruiter (Somewhat RP)\",\"Realist (Somewhat RP)\",\"Publisher (Somewhat RP)\",\"Psychologist (Somewhat RP)\",\"Proofreader (Somewhat RP)\",\"Programmer (Somewhat RP)\",\"Producer (Somewhat RP)\",\"Prodigy (Somewhat RP)\",\"Presenter (Somewhat RP)\",\"Pragmatist (Somewhat RP)\",\"Polymath (Somewhat RP)\",\"Playwright (Somewhat RP)\",\"Pilot (Somewhat RP)\",\"Physicist (Somewhat RP)\",\"Philosopher (Somewhat RP)\",\"Pharmacist (Somewhat RP)\",\"Perfectionist (Somewhat RP)\",\"Peacekeeper (Somewhat RP)\",\"Patient (Somewhat RP)\",\"Paramedic (Somewhat RP)\",\"Pacifist (Somewhat RP)\",\"Organizer (Somewhat RP)\",\"Optimist (Somewhat RP)\",\"Observer (Somewhat RP)\",\"Nutritionist (Somewhat RP)\",\"Novelist (Somewhat RP)\",\"Networker (Somewhat RP)\",\"Negotiator (Somewhat RP)\",\"Navigator (Somewhat RP)\",\"Naturalist (Somewhat RP)\",\"Musician (Somewhat RP)\",\"Moderator (Somewhat RP)\",\"Minimalist (Somewhat RP)\",\"Merchant (Somewhat RP)\",\"Mentor (Somewhat RP)\",\"Mediator (Somewhat RP)\",\"Mechanic (Somewhat RP)\",\"Maverick (Somewhat RP)\",\"Mathematician (Somewhat RP)\",\"Martyr (Somewhat RP)\",\"Marketer (Somewhat RP)\",\"Loner (Somewhat RP)\",\"Linguist (Somewhat RP)\",\"Librarian (Somewhat RP)\",\"Lawyer (Somewhat RP)\",\"Judge (Somewhat RP)\",\"Journalist (Somewhat RP)\",\"Jester (Somewhat RP)\",\"Interviewer (Somewhat RP)\",\"Interpreter (Somewhat RP)\",\"Instructor (Somewhat RP)\",\"Influencer (Somewhat RP)\",\"Improviser (Somewhat RP)\",\"Idealist (Somewhat RP)\",\"Hybrid (Somewhat RP)\",\"Hive (Somewhat RP)\",\"Historian (Somewhat RP)\",\"Healer (Somewhat RP)\",\"Hacker (Somewhat RP)\",\"Guide (Somewhat RP)\",\"Guardian (Somewhat RP)\",\"Graduate (Somewhat RP)\",\"Grader (Somewhat RP)\",\"Geographer (Somewhat RP)\",\"Generalist (Somewhat RP)\",\"Futurist (Somewhat RP)\",\"Forecaster (Somewhat RP)\",\"Fixer (Somewhat RP)\",\"Facilitator (Somewhat RP)\",\"Expatriate (Somewhat RP)\",\"Entrepreneur (Somewhat RP)\",\"Engineer (Somewhat RP)\",\"Empath (Somewhat RP)\",\"Emissary (Somewhat RP)\",\"Ecosystem (Somewhat RP)\",\"Economist (Somewhat RP)\",\"Doctor (Somewhat RP)\",\"Divorcee (Somewhat RP)\",\"Dispatcher (Somewhat RP)\",\"Devils Advocate (Somewhat RP)\",\"Detective (Somewhat RP)\",\"Destroyer (Somewhat RP)\",\"Designer (Somewhat RP)\",\"Debugger (Somewhat RP)\",\"Daredevil (Somewhat RP)\",\"Cyborg (Somewhat RP)\",\"Curator (Somewhat RP)\",\"Critic (Somewhat RP)\",\"Counselor (Somewhat RP)\",\"Cosmopolitan (Somewhat RP)\",\"Contrarian (Somewhat RP)\",\"Consultant (Somewhat RP)\",\"Conservator (Somewhat RP)\",\"Composer (Somewhat RP)\",\"Competitor (Somewhat RP)\",\"Collector (Somewhat RP)\",\"Collaborator (Somewhat RP)\",\"Coach (Somewhat RP)\",\"Chemist (Somewhat RP)\",\"Chef (Somewhat RP)\",\"Chameleon (Somewhat RP)\",\"Cartographer (Somewhat RP)\",\"Caregiver (Somewhat RP)\",\"Builder (Somewhat RP)\",\"Biologist (Somewhat RP)\",\"Auditor (Somewhat RP)\",\"Assistant (Somewhat RP)\",\"Artisan (Somewhat RP)\",\"Archivist (Somewhat RP)\",\"Architect (Somewhat RP)\",\"Archaeologist (Somewhat RP)\",\"Anthropologist (Somewhat RP)\",\"Ambassador (Somewhat RP)\",\"Amateur (Somewhat RP)\",\"Altruist (Somewhat RP)\",\"Advocate (Somewhat RP)\",\"Addict (Somewhat RP)\",\"Activist (Somewhat RP)\",\"Accountant (Somewhat RP)\",\"Aberration (Somewhat RP)\"],\"x\":[-0.6759689971093751,0.20453928895328996,-0.6661761331715332,-0.11850073961266133,-0.35147202166741937,-0.5937086773793981,-0.0005152946723319112,-0.5473218588412208,-0.37796161919766996,-0.5368343949651829,-0.2358375466586703,-0.5613370376640673,-0.7493124152487758,0.2059670535727892,-0.5786640714249904,-0.427441931265803,-0.5675115922630317,-0.629582203776368,-0.740004356338253,-0.26766552633992396,-0.427727162525308,-0.6806881658145281,-0.5266691212616542,-0.625182290291928,0.19706295521004197,-0.5475755686960282,-0.31724555778210944,-0.7232785285420401,-0.010528817378617198,-0.5684226793051675,-0.4284634501931516,-0.0429819923278982,-0.43680489020903107,-0.6813988817585409,-0.7228192545559058,-0.4672448951777649,-0.6430281352515574,-0.6492544565375348,-0.7206970975041266,-0.1859426489550358,-0.5443050358613047,-0.14683084945400604,-0.6129446711787363,-0.6770971393826308,-0.34431232751713914,-0.7018436911293724,-0.6618224861025344,-0.520214372051734,-0.6127865290618482,-0.701538046267064,-0.40593566938460374,-0.5270842542766161,-0.4708209704165818,-0.5273515470156392,-0.2962788094753301,-0.485076914747145,-0.4710888546344656,-0.07295427353741299,-0.6411089178086201,-0.3719820630514171,-0.5928510033861881,-0.4735241527291956,-0.5401368646649443,0.08907244952062178,-0.7024347326291052,-0.08054417114862022,-0.6315278521771931,-0.581710647116449,0.08442458943605885,-0.5142881701906011,-0.563043502736394,-0.4719813645206505,-0.09317598450281744,-0.1658490066151614,-0.6774503007313188,0.24138531608867583,-0.21386206695953236,-0.6869071054545303,-0.45195151522268906,-0.1644423023487881,0.26229924213407596,-0.38125186998284105,0.37219881656215503,-0.6808135167480884,-0.12398557908306806,-0.5172350162967632,-0.6020105710867101,-0.6143282670029252,-0.7055088415041211,-0.7072452828374366,0.2882904774103421,-0.5311412427197821,-0.6643284013819984,-0.7305386735402958,-0.4965345491074023,0.029781495723025117,-0.009829067798160918,-0.27027115781436395,-0.407868198147637,-0.45882485175691334,-0.3163607927741111,-0.1613299059391374,-0.5241167225066491,-0.5490530632649463,-0.49678649301481864,-0.7472331052008344,-0.535429463493605,-0.7478419471956987,-0.43973380153153124,-0.7385478171103491,-0.036285870301136385,-0.7018139311160451,-0.46346700911778443,-0.4704887727546249,-0.7244666048148427,-0.15782089237664654,-0.5408025042555697,-0.4466750103909865,-0.6364842753593204,-0.6635012941296513,-0.4118617425817661,-0.602294919841464,-0.19456654141065613,-0.5785736873471555,-0.24884878689019937,-0.5966728189384674,-0.7111408621973954,0.26390209920962965,-0.326183353137115,-0.6278209402397276,-0.5467435303138666,-0.47085096721694675,0.00763083363572356,0.09706158185905424,-0.7373990774027769,-0.4619672427515029,-0.1670197079290709,0.06937097252834093,-0.5846555052761696,-0.5339435864049494,-0.6351789290179616,-0.5152705943534206,-0.07551487436833354,-0.14256265366732232,-0.42108080334892484,-0.1310996601809237,-0.23871190308511686,-0.5760949947624738,-0.7308856618591179,-0.5801122083495892,0.4089504130950224,-0.6014131665472564,-0.5584332752602997,-0.2807654240333708,-0.5266858870354626,-0.6843239618621522,-0.16856432823622397,-0.4049420843675053,-0.6973441694653179,-0.0949024079770824,-0.447051304534687,-0.64826563526702,-0.3562885904779935],\"y\":[1,1,1,1,1,1,1,1,1,1,1,1,1,1,1,1,1,1,1,1,1,1,1,1,1,1,1,1,1,1,1,1,1,1,1,1,1,1,1,1,1,1,1,1,1,1,1,1,1,1,1,1,1,1,1,1,1,1,1,1,1,1,1,1,1,1,1,1,1,1,1,1,1,1,1,1,1,1,1,1,1,1,1,1,1,1,1,1,1,1,1,1,1,1,1,1,1,1,1,1,1,1,1,1,1,1,1,1,1,1,1,1,1,1,1,1,1,1,1,1,1,1,1,1,1,1,1,1,1,1,1,1,1,1,1,1,1,1,1,1,1,1,1,1,1,1,1,1,1,1,1,1,1,1,1,1,1,1,1,1,1,1,1],\"type\":\"scatter\"},{\"hovertemplate\":\"\\u003cb\\u003e%{text}\\u003c\\u002fb\\u003e\\u003cbr\\u003eCosine Similarity: %{x:.3f}\\u003cextra\\u003e\\u003c\\u002fextra\\u003e\",\"legendgroup\":\"pos2\",\"marker\":{\"color\":\"cyan\",\"line\":{\"color\":\"black\",\"width\":1},\"opacity\":1.0,\"size\":8,\"symbol\":\"circle\"},\"mode\":\"markers\",\"name\":\"Somewhat Role-Playing\",\"showlegend\":false,\"text\":[\"Validator (Somewhat RP)\",\"Supervisor (Somewhat RP)\",\"Reviewer (Somewhat RP)\",\"Researcher (Somewhat RP)\",\"Planner (Somewhat RP)\",\"Examiner (Somewhat RP)\",\"Evaluator (Somewhat RP)\",\"Editor (Somewhat RP)\",\"Coordinator (Somewhat RP)\",\"Analyst (Somewhat RP)\"],\"x\":[-0.775402512655442,-0.7846595292387171,-0.8003932756084821,-0.7822530713229844,-0.7987908453604858,-0.765187735928902,-0.7754416064850178,-0.7829519847524846,-0.7525827740698718,-0.7745077618004124],\"y\":[1,1,1,1,1,1,1,1,1,1],\"type\":\"scatter\"},{\"hovertemplate\":\"\\u003cb\\u003e%{text}\\u003c\\u002fb\\u003e\\u003cbr\\u003eCosine Similarity: %{x:.3f}\\u003cextra\\u003e\\u003c\\u002fextra\\u003e\",\"legendgroup\":\"pos3\",\"marker\":{\"color\":\"blue\",\"line\":{\"color\":\"black\",\"width\":1},\"opacity\":1.0,\"size\":8,\"symbol\":\"square\"},\"mode\":\"markers\",\"name\":\"Fully Role-Playing\",\"text\":[\"Zeitgeist (Fully RP)\",\"Zealot (Fully RP)\",\"Writer (Fully RP)\",\"Workaholic (Fully RP)\",\"Witness (Fully RP)\",\"Wind (Fully RP)\",\"Widow (Fully RP)\",\"Warrior (Fully RP)\",\"Void (Fully RP)\",\"Visionary (Fully RP)\",\"Virus (Fully RP)\",\"Virtuoso (Fully RP)\",\"Vigilante (Fully RP)\",\"Veterinarian (Fully RP)\",\"Veteran (Fully RP)\",\"Vegan (Fully RP)\",\"Vampire (Fully RP)\",\"Validator (Fully RP)\",\"Tutor (Fully RP)\",\"Tulpa (Fully RP)\",\"Trickster (Fully RP)\",\"Tree (Fully RP)\",\"Translator (Fully RP)\",\"Trainer (Fully RP)\",\"Traditionalist (Fully RP)\",\"Toddler (Fully RP)\",\"Therapist (Fully RP)\",\"Theorist (Fully RP)\",\"Teenager (Fully RP)\",\"Technologist (Fully RP)\",\"Teacher (Fully RP)\",\"Synthesizer (Fully RP)\",\"Symbiont (Fully RP)\",\"Swarm (Fully RP)\",\"Survivor (Fully RP)\",\"Surfer (Fully RP)\",\"Supervisor (Fully RP)\",\"Summarizer (Fully RP)\",\"Student (Fully RP)\",\"Strategist (Fully RP)\",\"Stoic (Fully RP)\",\"Statistician (Fully RP)\",\"Spy (Fully RP)\",\"Spirit (Fully RP)\",\"Specialist (Fully RP)\",\"Sommelier (Fully RP)\",\"Soldier (Fully RP)\",\"Sociologist (Fully RP)\",\"Smuggler (Fully RP)\",\"Skeptic (Fully RP)\",\"Simulacrum (Fully RP)\",\"Shapeshifter (Fully RP)\",\"Shaman (Fully RP)\",\"Secretary (Fully RP)\",\"Screener (Fully RP)\",\"Scout (Fully RP)\",\"Scientist (Fully RP)\",\"Scholar (Fully RP)\",\"Scheduler (Fully RP)\",\"Sage (Fully RP)\",\"Saboteur (Fully RP)\",\"Romantic (Fully RP)\",\"Rogue (Fully RP)\",\"Robot (Fully RP)\",\"Revolutionary (Fully RP)\",\"Reviewer (Fully RP)\",\"Retiree (Fully RP)\",\"Researcher (Fully RP)\",\"Reporter (Fully RP)\",\"Refugee (Fully RP)\",\"Recruiter (Fully RP)\",\"Rebel (Fully RP)\",\"Realist (Fully RP)\",\"Purist (Fully RP)\",\"Publisher (Fully RP)\",\"Psychologist (Fully RP)\",\"Provocateur (Fully RP)\",\"Provincial (Fully RP)\",\"Proofreader (Fully RP)\",\"Programmer (Fully RP)\",\"Producer (Fully RP)\",\"Prodigy (Fully RP)\",\"Procrastinator (Fully RP)\",\"Prisoner (Fully RP)\",\"Prey (Fully RP)\",\"Presenter (Fully RP)\",\"Predator (Fully RP)\",\"Pragmatist (Fully RP)\",\"Polymath (Fully RP)\",\"Poet (Fully RP)\",\"Podcaster (Fully RP)\",\"Playwright (Fully RP)\",\"Planner (Fully RP)\",\"Pirate (Fully RP)\",\"Pilot (Fully RP)\",\"Pilgrim (Fully RP)\",\"Physicist (Fully RP)\",\"Photographer (Fully RP)\",\"Philosopher (Fully RP)\",\"Pharmacist (Fully RP)\",\"Perfectionist (Fully RP)\",\"Peacekeeper (Fully RP)\",\"Patient (Fully RP)\",\"Parent (Fully RP)\",\"Parasite (Fully RP)\",\"Paramedic (Fully RP)\",\"Pacifist (Fully RP)\",\"Orphan (Fully RP)\",\"Organizer (Fully RP)\",\"Oracle (Fully RP)\",\"Optimist (Fully RP)\",\"Observer (Fully RP)\",\"Nutritionist (Fully RP)\",\"Novelist (Fully RP)\",\"Nomad (Fully RP)\",\"Newlywed (Fully RP)\",\"Networker (Fully RP)\",\"Negotiator (Fully RP)\",\"Navigator (Fully RP)\",\"Naturalist (Fully RP)\",\"Narrator (Fully RP)\",\"Narcissist (Fully RP)\",\"Mystic (Fully RP)\",\"Mycorrhizal (Fully RP)\",\"Musician (Fully RP)\",\"Moderator (Fully RP)\",\"Minimalist (Fully RP)\",\"Merchant (Fully RP)\",\"Mentor (Fully RP)\",\"Mediator (Fully RP)\",\"Mechanic (Fully RP)\",\"Maverick (Fully RP)\",\"Mathematician (Fully RP)\",\"Martyr (Fully RP)\",\"Marketer (Fully RP)\",\"Luddite (Fully RP)\",\"Loner (Fully RP)\",\"Linguist (Fully RP)\",\"Librarian (Fully RP)\",\"Lawyer (Fully RP)\",\"Judge (Fully RP)\",\"Journalist (Fully RP)\",\"Jester (Fully RP)\",\"Interviewer (Fully RP)\",\"Interpreter (Fully RP)\",\"Instructor (Fully RP)\",\"Influencer (Fully RP)\",\"Infant (Fully RP)\",\"Improviser (Fully RP)\",\"Immigrant (Fully RP)\",\"Idealist (Fully RP)\",\"Hybrid (Fully RP)\",\"Homunculus (Fully RP)\",\"Hoarder (Fully RP)\",\"Hive (Fully RP)\",\"Historian (Fully RP)\",\"Hedonist (Fully RP)\",\"Healer (Fully RP)\",\"Hacker (Fully RP)\",\"Guru (Fully RP)\",\"Guide (Fully RP)\",\"Guardian (Fully RP)\",\"Grandparent (Fully RP)\",\"Graduate (Fully RP)\",\"Grader (Fully RP)\",\"Gossip (Fully RP)\",\"Golem (Fully RP)\",\"Geographer (Fully RP)\",\"Genie (Fully RP)\",\"Generalist (Fully RP)\",\"Gamer (Fully RP)\",\"Futurist (Fully RP)\",\"Forecaster (Fully RP)\",\"Fool (Fully RP)\",\"Flaneur (Fully RP)\",\"Fixer (Fully RP)\",\"Familiar (Fully RP)\",\"Facilitator (Fully RP)\",\"Expatriate (Fully RP)\",\"Exile (Fully RP)\",\"Examiner (Fully RP)\",\"Evangelist (Fully RP)\",\"Evaluator (Fully RP)\",\"Entrepreneur (Fully RP)\",\"Engineer (Fully RP)\",\"Empath (Fully RP)\",\"Emissary (Fully RP)\",\"Eldritch (Fully RP)\",\"Elder (Fully RP)\",\"Egregore (Fully RP)\",\"Editor (Fully RP)\",\"Ecosystem (Fully RP)\",\"Economist (Fully RP)\",\"Echo (Fully RP)\",\"Dreamer (Fully RP)\",\"Doctor (Fully RP)\",\"Divorcee (Fully RP)\",\"Dispatcher (Fully RP)\",\"Dilettante (Fully RP)\",\"Devils Advocate (Fully RP)\",\"Detective (Fully RP)\",\"Destroyer (Fully RP)\",\"Designer (Fully RP)\",\"Demon (Fully RP)\",\"Debugger (Fully RP)\",\"Daredevil (Fully RP)\",\"Cynic (Fully RP)\",\"Cyborg (Fully RP)\",\"Curator (Fully RP)\",\"Crystalline (Fully RP)\",\"Critic (Fully RP)\",\"Criminal (Fully RP)\",\"Counselor (Fully RP)\",\"Cosmopolitan (Fully RP)\",\"Coral Reef (Fully RP)\",\"Coordinator (Fully RP)\",\"Contrarian (Fully RP)\",\"Consultant (Fully RP)\",\"Conservator (Fully RP)\",\"Composer (Fully RP)\",\"Competitor (Fully RP)\",\"Comedian (Fully RP)\",\"Collector (Fully RP)\",\"Collaborator (Fully RP)\",\"Coach (Fully RP)\",\"Chimera (Fully RP)\",\"Chemist (Fully RP)\",\"Chef (Fully RP)\",\"Chameleon (Fully RP)\",\"Celebrity (Fully RP)\",\"Caveman (Fully RP)\",\"Cartographer (Fully RP)\",\"Caregiver (Fully RP)\",\"Builder (Fully RP)\",\"Blogger (Fully RP)\",\"Biologist (Fully RP)\",\"Bartender (Fully RP)\",\"Bard (Fully RP)\",\"Avatar (Fully RP)\",\"Auditor (Fully RP)\",\"Auctioneer (Fully RP)\",\"Assistant (Fully RP)\",\"Ascetic (Fully RP)\",\"Artisan (Fully RP)\",\"Archivist (Fully RP)\",\"Architect (Fully RP)\",\"Archaeologist (Fully RP)\",\"Anthropologist (Fully RP)\",\"Angel (Fully RP)\",\"Ancient (Fully RP)\",\"Anarchist (Fully RP)\",\"Analyst (Fully RP)\",\"Amnesiac (Fully RP)\",\"Ambassador (Fully RP)\",\"Amateur (Fully RP)\",\"Altruist (Fully RP)\",\"Alien (Fully RP)\",\"Advocate (Fully RP)\",\"Adolescent (Fully RP)\",\"Addict (Fully RP)\",\"Actor (Fully RP)\",\"Activist (Fully RP)\",\"Accountant (Fully RP)\",\"Absurdist (Fully RP)\",\"Aberration (Fully RP)\"],\"x\":[0.3874371794137119,0.47636786633179723,0.06899610603925219,0.3217746270540337,0.28109611405744817,0.6819791175518124,0.40980205467927633,0.650001024036425,0.5891718226613372,0.2647686181781373,0.1398362542066981,0.6190138709840421,0.41365797605751753,-0.36674684632589566,0.30942037276620843,-0.21818886962476586,0.672745757216327,-0.635729554040272,-0.4227994899944817,0.02180664142613047,0.6262878051678564,0.6557284774413246,-0.4538315656736609,-0.38987180320476866,0.3609528856953253,0.27718354512125154,-0.3663174002154944,-0.24387673298570775,0.16035119857361863,-0.2958688440612936,-0.3879440897804967,-0.31877693028505966,0.023438190399168987,0.30379634783444265,0.5315197231892353,0.5126722470634687,-0.528390982564313,-0.47745359066800386,-0.166557824263434,-0.4907103692679422,0.3478295494995459,-0.5239134779912665,0.29218297193621157,0.665395998199193,-0.4164620920617138,0.14136648355687081,0.3872045243070325,-0.4456946345082773,0.5281384391407707,-0.25647517064908243,0.2995563631047725,0.47381176509004613,0.6646794385159239,-0.5971053816740199,-0.5684032970594606,0.13245440113239784,-0.5750618177963988,-0.38364620313151104,-0.6052898847695822,0.6028155306395278,0.216196685151856,0.6400170403045476,0.6259746086651877,-0.21202772904137993,0.3302646377150805,-0.5575765079071062,0.3045670404338284,-0.5857857955103771,-0.38190636265307654,0.3681577559815231,-0.4636865504504761,0.5421188407855361,-0.1422010531748198,0.3799000360483892,-0.49601908192288746,-0.5006264576420525,0.4758930699387545,0.5033028232668872,-0.40027771394277273,-0.32207519622223996,-0.4427655262096165,0.20703949453558448,0.21477072253526397,0.44847466185128115,0.5508433961666392,-0.07954765166123716,0.5835132214176365,-0.2593878152648547,-0.04041196198850412,0.3496863848469515,0.02331994200772627,0.2066307373512735,-0.5431488268284904,0.604122206856585,-0.22802620304055354,0.6718210936010278,-0.2543886972614319,0.37319780585936985,0.27485791053989234,-0.5467853758708197,0.13123953771704128,-0.3771673930549585,0.07649944369289344,0.06707074845262904,0.36594016031494486,-0.22696099295404829,-0.11156577099629161,0.41450667312786826,-0.5593528192439308,0.6480105021635831,0.08944837275559407,-0.5017227585640683,-0.5005230937738813,0.44425489390701467,0.6255110844539356,0.0757450282685799,-0.3323796678045331,-0.4402428838056328,-0.13148907357052358,0.17632564935705686,0.5846477651125968,0.30900868035927315,0.6612262132515085,0.5479126621697971,0.43467360467540495,-0.3224736163317792,0.18976199656586726,0.27331754450640366,-0.453385536711428,-0.5094728998680177,0.20678794020568056,0.40612371929640234,-0.2290961927649782,0.5710350836316042,-0.44612474591052803,0.518890266578185,0.49082719624872845,-0.39386840334925327,-0.5239208640752061,-0.5339249606026907,-0.5393849537420331,-0.5488705332242987,0.5545195675809191,-0.16280289378665666,-0.3607917771360307,-0.48527832307816504,0.06436289454538181,0.1896502056320311,0.4195014785616221,0.2999193678897043,0.310466868923724,0.24956357558366535,0.632465206671582,0.41825158006418905,0.2579941866765814,-0.12428600326342637,0.4272697260250145,0.09331255814037245,0.46734421660589465,0.6064318389044255,-0.06510730309559351,-0.24567334456712317,0.4475337181405584,0.04649989553789658,-0.35776333057624377,0.41064372744542127,0.6500190109401802,-0.3535702744826193,0.566047452360728,-0.4319672702727691,0.2571434284442747,-0.23143811059996455,-0.474762740558182,0.4692240880473707,0.683381814181109,0.44382644358461354,0.6549706810682455,-0.49683481579306704,0.11281352118335494,0.5791287244949882,-0.5186021092763162,0.5227268814733156,-0.5694966521303314,-0.13737683209086957,-0.5228881343424368,0.3020438418176441,-0.2896016514195114,0.6514047777817047,0.6286083141076716,0.435648726477877,-0.44008737589400376,0.20158100468944143,-0.49751321426109735,0.6944148206328683,0.6624206685458739,-0.5966923956880328,0.2116382427638917,-0.35765359485340653,0.46943668468608596,0.04097191487796843,-0.13065976731375673,0.19763190619217585,-0.3894303076711788,0.605991822211187,-0.5275980086996753,0.520629819210606,0.36049001062313435,-0.13115361758274444,-0.09074276979489525,0.44104646012574666,-0.1595533667787889,0.5466325649338455,-0.3104408026254662,0.23590536163877804,0.5410835900141564,-0.5519290289075779,0.25735752525262817,-0.6279536127593631,-0.21080339433674072,0.1660729699078801,0.37222919027896556,0.2628404567053793,0.08761829148671767,-0.48973321800866854,-0.49211051191070976,0.5896717066621461,-0.31402023977892873,0.14221697758470633,0.2963786059917995,0.2759067783832945,0.44785887411182973,-0.14364404863426117,-0.1116712165297926,0.14228043433350007,0.17297451329145638,-0.37313339999827144,0.3187647290906681,0.6872232374295486,0.5994959417765989,-0.5866871443602952,0.3724129266506607,-0.620118443181211,0.5859468607600011,0.5422231441294576,-0.2590693036488109,-0.3474583413597857,0.11390408398990694,-0.3175905396974359,0.4466157786571729,0.6786568804595906,0.14645618001228208,-0.5865226949767087,0.4334970564015612,-0.4470820892941462,0.1201031272515138,-0.18867304321888673,0.4047554362762391,-0.17691910597562904,0.16845895874145705,0.28589065722762275,0.5297005751131272,-0.09697883721958131,-0.5759857315129927,0.457684373418925,0.6120155595381845],\"y\":[1,1,1,1,1,1,1,1,1,1,1,1,1,1,1,1,1,1,1,1,1,1,1,1,1,1,1,1,1,1,1,1,1,1,1,1,1,1,1,1,1,1,1,1,1,1,1,1,1,1,1,1,1,1,1,1,1,1,1,1,1,1,1,1,1,1,1,1,1,1,1,1,1,1,1,1,1,1,1,1,1,1,1,1,1,1,1,1,1,1,1,1,1,1,1,1,1,1,1,1,1,1,1,1,1,1,1,1,1,1,1,1,1,1,1,1,1,1,1,1,1,1,1,1,1,1,1,1,1,1,1,1,1,1,1,1,1,1,1,1,1,1,1,1,1,1,1,1,1,1,1,1,1,1,1,1,1,1,1,1,1,1,1,1,1,1,1,1,1,1,1,1,1,1,1,1,1,1,1,1,1,1,1,1,1,1,1,1,1,1,1,1,1,1,1,1,1,1,1,1,1,1,1,1,1,1,1,1,1,1,1,1,1,1,1,1,1,1,1,1,1,1,1,1,1,1,1,1,1,1,1,1,1,1,1,1,1,1,1,1,1,1,1,1,1,1,1,1,1,1,1,1,1,1,1,1,1,1,1,1,1,1,1,1,1],\"type\":\"scatter\"},{\"hovertemplate\":\"\\u003cb\\u003e%{text}\\u003c\\u002fb\\u003e\\u003cbr\\u003eCosine Similarity: %{x:.3f}\\u003cextra\\u003e\\u003c\\u002fextra\\u003e\",\"legendgroup\":\"pos3\",\"marker\":{\"color\":\"blue\",\"line\":{\"color\":\"black\",\"width\":1},\"opacity\":1.0,\"size\":8,\"symbol\":\"square\"},\"mode\":\"markers\",\"name\":\"Fully Role-Playing\",\"showlegend\":false,\"text\":[\"Wraith (Fully RP)\",\"Witch (Fully RP)\",\"Whale (Fully RP)\",\"Wanderer (Fully RP)\",\"Revenant (Fully RP)\",\"Prophet (Fully RP)\",\"Leviathan (Fully RP)\",\"Hermit (Fully RP)\",\"Ghost (Fully RP)\",\"Bohemian (Fully RP)\"],\"x\":[0.7532125435088858,0.730357297267388,0.7177654784118552,0.7839665356983155,0.7159030034169824,0.6977044922856217,0.7196874887014563,0.7730161690546525,0.776611251432538,0.7319291025068904],\"y\":[1,1,1,1,1,1,1,1,1,1],\"type\":\"scatter\"},{\"hoverinfo\":\"skip\",\"line\":{\"color\":\"black\",\"width\":1},\"mode\":\"lines\",\"showlegend\":false,\"x\":[-0.8003932756084821,-0.8003932756084821],\"y\":[1.0,1.45],\"type\":\"scatter\"},{\"hoverinfo\":\"skip\",\"line\":{\"color\":\"black\",\"width\":1},\"mode\":\"lines\",\"showlegend\":false,\"x\":[-0.7987908453604858,-0.7987908453604858],\"y\":[1.0,0.6],\"type\":\"scatter\"},{\"hoverinfo\":\"skip\",\"line\":{\"color\":\"black\",\"width\":1},\"mode\":\"lines\",\"showlegend\":false,\"x\":[-0.7846595292387171,-0.7846595292387171],\"y\":[1.0,1.9],\"type\":\"scatter\"},{\"hoverinfo\":\"skip\",\"line\":{\"color\":\"black\",\"width\":1},\"mode\":\"lines\",\"showlegend\":false,\"x\":[-0.7829519847524846,-0.7829519847524846],\"y\":[1.0,0.15],\"type\":\"scatter\"},{\"hoverinfo\":\"skip\",\"line\":{\"color\":\"black\",\"width\":1},\"mode\":\"lines\",\"showlegend\":false,\"x\":[-0.7822530713229844,-0.7822530713229844],\"y\":[1.0,1.6],\"type\":\"scatter\"},{\"hoverinfo\":\"skip\",\"line\":{\"color\":\"black\",\"width\":1},\"mode\":\"lines\",\"showlegend\":false,\"x\":[-0.7754416064850178,-0.7754416064850178],\"y\":[1.0,0.45],\"type\":\"scatter\"},{\"hoverinfo\":\"skip\",\"line\":{\"color\":\"black\",\"width\":1},\"mode\":\"lines\",\"showlegend\":false,\"x\":[-0.775402512655442,-0.775402512655442],\"y\":[1.0,1.3],\"type\":\"scatter\"},{\"hoverinfo\":\"skip\",\"line\":{\"color\":\"black\",\"width\":1},\"mode\":\"lines\",\"showlegend\":false,\"x\":[-0.7745077618004124,-0.7745077618004124],\"y\":[1.0,0.75],\"type\":\"scatter\"},{\"hoverinfo\":\"skip\",\"line\":{\"color\":\"black\",\"width\":1},\"mode\":\"lines\",\"showlegend\":false,\"x\":[-0.765187735928902,-0.765187735928902],\"y\":[1.0,1.75],\"type\":\"scatter\"},{\"hoverinfo\":\"skip\",\"line\":{\"color\":\"black\",\"width\":1},\"mode\":\"lines\",\"showlegend\":false,\"x\":[-0.7525827740698718,-0.7525827740698718],\"y\":[1.0,0.3],\"type\":\"scatter\"},{\"hoverinfo\":\"skip\",\"line\":{\"color\":\"black\",\"width\":1},\"mode\":\"lines\",\"showlegend\":false,\"x\":[0.6977044922856217,0.6977044922856217],\"y\":[1.0,1.45],\"type\":\"scatter\"},{\"hoverinfo\":\"skip\",\"line\":{\"color\":\"black\",\"width\":1},\"mode\":\"lines\",\"showlegend\":false,\"x\":[0.7159030034169824,0.7159030034169824],\"y\":[1.0,0.6],\"type\":\"scatter\"},{\"hoverinfo\":\"skip\",\"line\":{\"color\":\"black\",\"width\":1},\"mode\":\"lines\",\"showlegend\":false,\"x\":[0.7177654784118552,0.7177654784118552],\"y\":[1.0,1.9],\"type\":\"scatter\"},{\"hoverinfo\":\"skip\",\"line\":{\"color\":\"black\",\"width\":1},\"mode\":\"lines\",\"showlegend\":false,\"x\":[0.7196874887014563,0.7196874887014563],\"y\":[1.0,0.15],\"type\":\"scatter\"},{\"hoverinfo\":\"skip\",\"line\":{\"color\":\"black\",\"width\":1},\"mode\":\"lines\",\"showlegend\":false,\"x\":[0.730357297267388,0.730357297267388],\"y\":[1.0,1.6],\"type\":\"scatter\"},{\"hoverinfo\":\"skip\",\"line\":{\"color\":\"black\",\"width\":1},\"mode\":\"lines\",\"showlegend\":false,\"x\":[0.7319291025068904,0.7319291025068904],\"y\":[1.0,0.45],\"type\":\"scatter\"},{\"hoverinfo\":\"skip\",\"line\":{\"color\":\"black\",\"width\":1},\"mode\":\"lines\",\"showlegend\":false,\"x\":[0.7532125435088858,0.7532125435088858],\"y\":[1.0,1.3],\"type\":\"scatter\"},{\"hoverinfo\":\"skip\",\"line\":{\"color\":\"black\",\"width\":1},\"mode\":\"lines\",\"showlegend\":false,\"x\":[0.7730161690546525,0.7730161690546525],\"y\":[1.0,0.75],\"type\":\"scatter\"},{\"hoverinfo\":\"skip\",\"line\":{\"color\":\"black\",\"width\":1},\"mode\":\"lines\",\"showlegend\":false,\"x\":[0.776611251432538,0.776611251432538],\"y\":[1.0,1.75],\"type\":\"scatter\"},{\"hoverinfo\":\"skip\",\"line\":{\"color\":\"black\",\"width\":1},\"mode\":\"lines\",\"showlegend\":false,\"x\":[0.7839665356983155,0.7839665356983155],\"y\":[1.0,0.3],\"type\":\"scatter\"},{\"hoverinfo\":\"skip\",\"legendgroup\":\"pos2\",\"marker\":{\"color\":\"cyan\"},\"name\":\"Somewhat Role-Playing\",\"opacity\":0.7,\"showlegend\":false,\"width\":0.047530794339203944,\"x\":[-0.7739872787533688,-0.7211752850431421,-0.6683632913329156,-0.615551297622689,-0.5627393039124624,-0.5099273102022358,-0.45711531649200926,-0.40430332278178266,-0.35149132907155606,-0.29867933536132946,-0.24586734165110286,-0.1930553479408763,-0.14024335423064976,-0.08743136052042316,-0.03461936681019656,0.01819262690003004,0.07100462061025664,0.12381661432048324,0.1766286080307098,0.2294406017409364,0.282252595451163,0.3350645891613896,0.3878765828716162,0.4406885765818427,0.4935005702920693,0.5463125640022959,0.5991245577125225,0.6519365514227491,0.7047485451329757,0.7575605388432023],\"y\":[0.5684210526315789,0.8526315789473684,0.7105263157894737,0.7578947368421053,0.9,0.7105263157894737,0.7105263157894737,0.47368421052631576,0.23684210526315788,0.18947368421052632,0.23684210526315788,0.23684210526315788,0.4263157894736842,0.23684210526315788,0.18947368421052632,0.14210526315789473,0.18947368421052632,0.0,0.04736842105263158,0.14210526315789473,0.14210526315789473,0.0,0.09473684210526316,0.0,0.0,0.0,0.0,0.0,0.0,0.0],\"type\":\"bar\"},{\"hoverinfo\":\"skip\",\"legendgroup\":\"pos3\",\"marker\":{\"color\":\"blue\"},\"name\":\"Fully Role-Playing\",\"opacity\":0.7,\"showlegend\":false,\"width\":0.047530794339203944,\"x\":[-0.7739872787533688,-0.7211752850431421,-0.6683632913329156,-0.615551297622689,-0.5627393039124624,-0.5099273102022358,-0.45711531649200926,-0.40430332278178266,-0.35149132907155606,-0.29867933536132946,-0.24586734165110286,-0.1930553479408763,-0.14024335423064976,-0.08743136052042316,-0.03461936681019656,0.01819262690003004,0.07100462061025664,0.12381661432048324,0.1766286080307098,0.2294406017409364,0.282252595451163,0.3350645891613896,0.3878765828716162,0.4406885765818427,0.4935005702920693,0.5463125640022959,0.5991245577125225,0.6519365514227491,0.7047485451329757,0.7575605388432023],\"y\":[0.0,0.0,0.0,0.28421052631578947,0.6631578947368421,0.8526315789473684,0.5684210526315789,0.4263157894736842,0.47368421052631576,0.37894736842105264,0.47368421052631576,0.23684210526315788,0.47368421052631576,0.28421052631578947,0.04736842105263158,0.18947368421052632,0.4263157894736842,0.47368421052631576,0.4263157894736842,0.37894736842105264,0.8526315789473684,0.47368421052631576,0.6157894736842106,0.7105263157894737,0.47368421052631576,0.6631578947368421,0.6631578947368421,0.8052631578947369,0.47368421052631576,0.23684210526315788],\"type\":\"bar\"},{\"hovertemplate\":\"\\u003cb\\u003e%{text}\\u003c\\u002fb\\u003e\\u003cbr\\u003ePC Projection: %{x:.3f}\\u003cextra\\u003e\\u003c\\u002fextra\\u003e\",\"legendgroup\":\"pos2\",\"marker\":{\"color\":\"cyan\",\"line\":{\"color\":\"black\",\"width\":1},\"opacity\":1.0,\"size\":8,\"symbol\":\"circle\"},\"mode\":\"markers\",\"name\":\"Somewhat Role-Playing\",\"showlegend\":false,\"text\":[\"Writer (Somewhat RP)\",\"Workaholic (Somewhat RP)\",\"Witness (Somewhat RP)\",\"Visionary (Somewhat RP)\",\"Virus (Somewhat RP)\",\"Virtuoso (Somewhat RP)\",\"Vigilante (Somewhat RP)\",\"Veterinarian (Somewhat RP)\",\"Vegan (Somewhat RP)\",\"Tutor (Somewhat RP)\",\"Tulpa (Somewhat RP)\",\"Translator (Somewhat RP)\",\"Trainer (Somewhat RP)\",\"Traditionalist (Somewhat RP)\",\"Therapist (Somewhat RP)\",\"Theorist (Somewhat RP)\",\"Technologist (Somewhat RP)\",\"Teacher (Somewhat RP)\",\"Synthesizer (Somewhat RP)\",\"Symbiont (Somewhat RP)\",\"Swarm (Somewhat RP)\",\"Supervisor (Somewhat RP)\",\"Student (Somewhat RP)\",\"Strategist (Somewhat RP)\",\"Stoic (Somewhat RP)\",\"Statistician (Somewhat RP)\",\"Spy (Somewhat RP)\",\"Specialist (Somewhat RP)\",\"Sommelier (Somewhat RP)\",\"Sociologist (Somewhat RP)\",\"Skeptic (Somewhat RP)\",\"Simulacrum (Somewhat RP)\",\"Shapeshifter (Somewhat RP)\",\"Secretary (Somewhat RP)\",\"Scout (Somewhat RP)\",\"Scholar (Somewhat RP)\",\"Scheduler (Somewhat RP)\",\"Saboteur (Somewhat RP)\",\"Robot (Somewhat RP)\",\"Revolutionary (Somewhat RP)\",\"Reviewer (Somewhat RP)\",\"Reporter (Somewhat RP)\",\"Recruiter (Somewhat RP)\",\"Realist (Somewhat RP)\",\"Publisher (Somewhat RP)\",\"Psychologist (Somewhat RP)\",\"Proofreader (Somewhat RP)\",\"Programmer (Somewhat RP)\",\"Producer (Somewhat RP)\",\"Prodigy (Somewhat RP)\",\"Presenter (Somewhat RP)\",\"Pragmatist (Somewhat RP)\",\"Polymath (Somewhat RP)\",\"Playwright (Somewhat RP)\",\"Planner (Somewhat RP)\",\"Pilot (Somewhat RP)\",\"Physicist (Somewhat RP)\",\"Philosopher (Somewhat RP)\",\"Pharmacist (Somewhat RP)\",\"Perfectionist (Somewhat RP)\",\"Peacekeeper (Somewhat RP)\",\"Patient (Somewhat RP)\",\"Paramedic (Somewhat RP)\",\"Pacifist (Somewhat RP)\",\"Organizer (Somewhat RP)\",\"Optimist (Somewhat RP)\",\"Observer (Somewhat RP)\",\"Nutritionist (Somewhat RP)\",\"Novelist (Somewhat RP)\",\"Networker (Somewhat RP)\",\"Negotiator (Somewhat RP)\",\"Navigator (Somewhat RP)\",\"Naturalist (Somewhat RP)\",\"Musician (Somewhat RP)\",\"Moderator (Somewhat RP)\",\"Minimalist (Somewhat RP)\",\"Merchant (Somewhat RP)\",\"Mentor (Somewhat RP)\",\"Mediator (Somewhat RP)\",\"Mechanic (Somewhat RP)\",\"Maverick (Somewhat RP)\",\"Mathematician (Somewhat RP)\",\"Martyr (Somewhat RP)\",\"Marketer (Somewhat RP)\",\"Loner (Somewhat RP)\",\"Linguist (Somewhat RP)\",\"Librarian (Somewhat RP)\",\"Lawyer (Somewhat RP)\",\"Judge (Somewhat RP)\",\"Journalist (Somewhat RP)\",\"Jester (Somewhat RP)\",\"Interviewer (Somewhat RP)\",\"Interpreter (Somewhat RP)\",\"Instructor (Somewhat RP)\",\"Influencer (Somewhat RP)\",\"Improviser (Somewhat RP)\",\"Idealist (Somewhat RP)\",\"Hybrid (Somewhat RP)\",\"Hive (Somewhat RP)\",\"Historian (Somewhat RP)\",\"Healer (Somewhat RP)\",\"Hacker (Somewhat RP)\",\"Guide (Somewhat RP)\",\"Guardian (Somewhat RP)\",\"Graduate (Somewhat RP)\",\"Geographer (Somewhat RP)\",\"Generalist (Somewhat RP)\",\"Futurist (Somewhat RP)\",\"Forecaster (Somewhat RP)\",\"Fixer (Somewhat RP)\",\"Facilitator (Somewhat RP)\",\"Expatriate (Somewhat RP)\",\"Examiner (Somewhat RP)\",\"Entrepreneur (Somewhat RP)\",\"Engineer (Somewhat RP)\",\"Empath (Somewhat RP)\",\"Emissary (Somewhat RP)\",\"Editor (Somewhat RP)\",\"Ecosystem (Somewhat RP)\",\"Economist (Somewhat RP)\",\"Divorcee (Somewhat RP)\",\"Dispatcher (Somewhat RP)\",\"Devils Advocate (Somewhat RP)\",\"Detective (Somewhat RP)\",\"Destroyer (Somewhat RP)\",\"Designer (Somewhat RP)\",\"Debugger (Somewhat RP)\",\"Daredevil (Somewhat RP)\",\"Cyborg (Somewhat RP)\",\"Curator (Somewhat RP)\",\"Critic (Somewhat RP)\",\"Counselor (Somewhat RP)\",\"Cosmopolitan (Somewhat RP)\",\"Coordinator (Somewhat RP)\",\"Contrarian (Somewhat RP)\",\"Consultant (Somewhat RP)\",\"Conservator (Somewhat RP)\",\"Composer (Somewhat RP)\",\"Competitor (Somewhat RP)\",\"Collector (Somewhat RP)\",\"Collaborator (Somewhat RP)\",\"Coach (Somewhat RP)\",\"Chemist (Somewhat RP)\",\"Chef (Somewhat RP)\",\"Chameleon (Somewhat RP)\",\"Cartographer (Somewhat RP)\",\"Caregiver (Somewhat RP)\",\"Builder (Somewhat RP)\",\"Biologist (Somewhat RP)\",\"Auditor (Somewhat RP)\",\"Artisan (Somewhat RP)\",\"Archivist (Somewhat RP)\",\"Architect (Somewhat RP)\",\"Archaeologist (Somewhat RP)\",\"Anthropologist (Somewhat RP)\",\"Ambassador (Somewhat RP)\",\"Amateur (Somewhat RP)\",\"Altruist (Somewhat RP)\",\"Advocate (Somewhat RP)\",\"Addict (Somewhat RP)\",\"Activist (Somewhat RP)\",\"Accountant (Somewhat RP)\",\"Aberration (Somewhat RP)\"],\"x\":[-26.36147575693312,18.48967784631872,-28.80240002981758,-5.791001275455863,-26.04002725316212,-23.692039219804908,-0.02963588034699669,-28.99048500436346,-20.182630579253015,-32.06685477873869,-13.494297250014963,-28.49840932516233,-32.62368260495523,16.208661986201683,-28.19067107311909,-25.34831714254124,-27.671264606866195,-31.31789362214167,-28.722737405072984,-15.827533532733726,-20.854828700138626,-34.31246047621088,-28.935237045058575,-32.513373633786536,15.899237772616173,-32.91044179549077,-16.74250893852183,-32.73812062651641,-0.6156617759246285,-33.5665448020458,-24.53545745468055,-2.9945087292545116,-20.36777925385992,-34.54013951774299,-20.347507790022814,-28.617290008611658,-34.153994451665945,-13.197353009190586,-34.90935344997375,-7.847221276418387,-35.758439228866955,-32.04782367628552,-27.200729137619664,-17.270195371434514,-34.9194277508933,-34.147847830977234,-35.15969989606899,-27.309595241886495,-32.81558586321398,-14.93023909501123,-31.56915873797871,-23.370092543263016,-20.236483917837713,-15.072788827674678,-34.84456304931136,-23.155886984651136,-25.27021940553155,-3.94422991633435,-33.908908181001614,-15.81954106831099,-23.049688041225522,-28.12769669655185,-26.542790874661392,5.216738858989397,-33.36606784947716,-5.377062660323787,-32.58567506984327,-35.589567946463085,3.3857789001058274,-21.442103271497803,-22.84312364200327,-19.111421056450432,-4.081831392828548,-8.855087069373868,-32.87592838548477,15.150213105712226,-9.885028051480992,-27.892798164116286,-28.102040189062375,-9.293875668807848,15.269901461426695,-18.23240236034945,19.080696866370836,-33.01825826441557,-6.8523831480952415,-30.398549350158895,-25.42173264507054,-35.57399217576174,-32.589061824144174,-32.31248203311595,32.82204644146211,-25.65595322643274,-23.4582071569207,-32.74185129910988,-27.555349040893972,2.203226050611715,-0.4929620227901317,-11.370905532993428,-23.512508406624296,-25.178687573019033,-12.295602931769075,-9.326189793749604,-24.69214679868713,-24.269209881317426,-28.35552598834252,-28.5630082844603,-31.882722481731577,-26.2186833888138,-33.51355116483606,-1.6493277874168055,-33.14880537443872,-27.764931204056044,-34.45875553219379,-21.18207239666675,-33.17746360102119,-9.48166755685042,-22.368136516333614,-34.66932198912647,-22.291549265786472,-33.687886734156535,-23.53540111049563,-25.17835570424862,-13.632380866021075,-22.834353099054027,-11.50014517590235,-28.61421775366925,-31.049126114971536,18.038827535398056,-16.64315398187062,-27.908734401944333,-18.897924498203846,-23.174051246113297,0.31172961775780617,-32.79027529749649,6.829916515072437,-35.413600235145054,-21.73015005370489,-7.874397750077605,4.2926690343606175,-21.44971385175107,-28.25651563556574,-25.704063772482925,-27.46141808626106,-4.055161504767789,-11.120020822078816,-18.928559040536072,-8.285482133190898,-10.824845086916152,-31.436218056136834,-35.3618912876949,22.80921771952178,-26.84903345693764,-26.23974947460586,-13.923997117604785,-29.513355911861883,-31.754034702748704,-10.70232177089234,-17.538553528231166,-25.86961080231381,-6.2241461313863455,-21.645887404570292,-32.607731311910364,-20.657402998322752],\"y\":[1,1,1,1,1,1,1,1,1,1,1,1,1,1,1,1,1,1,1,1,1,1,1,1,1,1,1,1,1,1,1,1,1,1,1,1,1,1,1,1,1,1,1,1,1,1,1,1,1,1,1,1,1,1,1,1,1,1,1,1,1,1,1,1,1,1,1,1,1,1,1,1,1,1,1,1,1,1,1,1,1,1,1,1,1,1,1,1,1,1,1,1,1,1,1,1,1,1,1,1,1,1,1,1,1,1,1,1,1,1,1,1,1,1,1,1,1,1,1,1,1,1,1,1,1,1,1,1,1,1,1,1,1,1,1,1,1,1,1,1,1,1,1,1,1,1,1,1,1,1,1,1,1,1,1,1,1,1,1,1,1,1,1],\"type\":\"scatter\",\"xaxis\":\"x2\",\"yaxis\":\"y2\"},{\"hovertemplate\":\"\\u003cb\\u003e%{text}\\u003c\\u002fb\\u003e\\u003cbr\\u003ePC Projection: %{x:.3f}\\u003cextra\\u003e\\u003c\\u002fextra\\u003e\",\"legendgroup\":\"pos2\",\"marker\":{\"color\":\"cyan\",\"line\":{\"color\":\"black\",\"width\":1},\"opacity\":1.0,\"size\":8,\"symbol\":\"circle\"},\"mode\":\"markers\",\"name\":\"Somewhat Role-Playing\",\"showlegend\":false,\"text\":[\"Validator (Somewhat RP)\",\"Summarizer (Somewhat RP)\",\"Screener (Somewhat RP)\",\"Scientist (Somewhat RP)\",\"Researcher (Somewhat RP)\",\"Grader (Somewhat RP)\",\"Evaluator (Somewhat RP)\",\"Doctor (Somewhat RP)\",\"Assistant (Somewhat RP)\",\"Analyst (Somewhat RP)\"],\"x\":[-36.33288053003105,-36.153340522983015,-38.714845411861646,-35.986014972894935,-36.54680177071911,-35.85196188639666,-36.14278944872974,-37.745049327437386,-38.88484534561481,-36.68484213437988],\"y\":[1,1,1,1,1,1,1,1,1,1],\"type\":\"scatter\",\"xaxis\":\"x2\",\"yaxis\":\"y2\"},{\"hovertemplate\":\"\\u003cb\\u003e%{text}\\u003c\\u002fb\\u003e\\u003cbr\\u003ePC Projection: %{x:.3f}\\u003cextra\\u003e\\u003c\\u002fextra\\u003e\",\"legendgroup\":\"pos3\",\"marker\":{\"color\":\"blue\",\"line\":{\"color\":\"black\",\"width\":1},\"opacity\":1.0,\"size\":8,\"symbol\":\"square\"},\"mode\":\"markers\",\"name\":\"Fully Role-Playing\",\"showlegend\":false,\"text\":[\"Zeitgeist (Fully RP)\",\"Writer (Fully RP)\",\"Workaholic (Fully RP)\",\"Witness (Fully RP)\",\"Witch (Fully RP)\",\"Widow (Fully RP)\",\"Warrior (Fully RP)\",\"Wanderer (Fully RP)\",\"Visionary (Fully RP)\",\"Virus (Fully RP)\",\"Virtuoso (Fully RP)\",\"Vigilante (Fully RP)\",\"Veterinarian (Fully RP)\",\"Veteran (Fully RP)\",\"Vegan (Fully RP)\",\"Vampire (Fully RP)\",\"Validator (Fully RP)\",\"Tutor (Fully RP)\",\"Tulpa (Fully RP)\",\"Trickster (Fully RP)\",\"Translator (Fully RP)\",\"Trainer (Fully RP)\",\"Traditionalist (Fully RP)\",\"Toddler (Fully RP)\",\"Therapist (Fully RP)\",\"Theorist (Fully RP)\",\"Teenager (Fully RP)\",\"Technologist (Fully RP)\",\"Teacher (Fully RP)\",\"Synthesizer (Fully RP)\",\"Symbiont (Fully RP)\",\"Swarm (Fully RP)\",\"Survivor (Fully RP)\",\"Surfer (Fully RP)\",\"Supervisor (Fully RP)\",\"Summarizer (Fully RP)\",\"Student (Fully RP)\",\"Strategist (Fully RP)\",\"Stoic (Fully RP)\",\"Statistician (Fully RP)\",\"Spy (Fully RP)\",\"Spirit (Fully RP)\",\"Specialist (Fully RP)\",\"Sommelier (Fully RP)\",\"Soldier (Fully RP)\",\"Sociologist (Fully RP)\",\"Smuggler (Fully RP)\",\"Skeptic (Fully RP)\",\"Simulacrum (Fully RP)\",\"Shapeshifter (Fully RP)\",\"Shaman (Fully RP)\",\"Secretary (Fully RP)\",\"Screener (Fully RP)\",\"Scout (Fully RP)\",\"Scientist (Fully RP)\",\"Scholar (Fully RP)\",\"Scheduler (Fully RP)\",\"Sage (Fully RP)\",\"Saboteur (Fully RP)\",\"Romantic (Fully RP)\",\"Rogue (Fully RP)\",\"Robot (Fully RP)\",\"Revolutionary (Fully RP)\",\"Reviewer (Fully RP)\",\"Revenant (Fully RP)\",\"Retiree (Fully RP)\",\"Researcher (Fully RP)\",\"Reporter (Fully RP)\",\"Refugee (Fully RP)\",\"Recruiter (Fully RP)\",\"Rebel (Fully RP)\",\"Realist (Fully RP)\",\"Purist (Fully RP)\",\"Publisher (Fully RP)\",\"Psychologist (Fully RP)\",\"Provocateur (Fully RP)\",\"Provincial (Fully RP)\",\"Prophet (Fully RP)\",\"Proofreader (Fully RP)\",\"Programmer (Fully RP)\",\"Producer (Fully RP)\",\"Prodigy (Fully RP)\",\"Procrastinator (Fully RP)\",\"Prisoner (Fully RP)\",\"Prey (Fully RP)\",\"Presenter (Fully RP)\",\"Predator (Fully RP)\",\"Pragmatist (Fully RP)\",\"Polymath (Fully RP)\",\"Poet (Fully RP)\",\"Podcaster (Fully RP)\",\"Playwright (Fully RP)\",\"Planner (Fully RP)\",\"Pirate (Fully RP)\",\"Pilot (Fully RP)\",\"Pilgrim (Fully RP)\",\"Physicist (Fully RP)\",\"Photographer (Fully RP)\",\"Philosopher (Fully RP)\",\"Pharmacist (Fully RP)\",\"Perfectionist (Fully RP)\",\"Peacekeeper (Fully RP)\",\"Patient (Fully RP)\",\"Parent (Fully RP)\",\"Parasite (Fully RP)\",\"Paramedic (Fully RP)\",\"Pacifist (Fully RP)\",\"Orphan (Fully RP)\",\"Organizer (Fully RP)\",\"Oracle (Fully RP)\",\"Optimist (Fully RP)\",\"Observer (Fully RP)\",\"Nutritionist (Fully RP)\",\"Novelist (Fully RP)\",\"Nomad (Fully RP)\",\"Newlywed (Fully RP)\",\"Networker (Fully RP)\",\"Negotiator (Fully RP)\",\"Navigator (Fully RP)\",\"Naturalist (Fully RP)\",\"Narrator (Fully RP)\",\"Narcissist (Fully RP)\",\"Mystic (Fully RP)\",\"Mycorrhizal (Fully RP)\",\"Musician (Fully RP)\",\"Moderator (Fully RP)\",\"Minimalist (Fully RP)\",\"Merchant (Fully RP)\",\"Mentor (Fully RP)\",\"Mediator (Fully RP)\",\"Mechanic (Fully RP)\",\"Maverick (Fully RP)\",\"Mathematician (Fully RP)\",\"Martyr (Fully RP)\",\"Marketer (Fully RP)\",\"Luddite (Fully RP)\",\"Loner (Fully RP)\",\"Linguist (Fully RP)\",\"Librarian (Fully RP)\",\"Lawyer (Fully RP)\",\"Judge (Fully RP)\",\"Journalist (Fully RP)\",\"Jester (Fully RP)\",\"Interviewer (Fully RP)\",\"Interpreter (Fully RP)\",\"Instructor (Fully RP)\",\"Influencer (Fully RP)\",\"Infant (Fully RP)\",\"Improviser (Fully RP)\",\"Immigrant (Fully RP)\",\"Idealist (Fully RP)\",\"Hybrid (Fully RP)\",\"Homunculus (Fully RP)\",\"Hoarder (Fully RP)\",\"Hive (Fully RP)\",\"Historian (Fully RP)\",\"Hermit (Fully RP)\",\"Hedonist (Fully RP)\",\"Healer (Fully RP)\",\"Hacker (Fully RP)\",\"Guru (Fully RP)\",\"Guide (Fully RP)\",\"Guardian (Fully RP)\",\"Grandparent (Fully RP)\",\"Graduate (Fully RP)\",\"Grader (Fully RP)\",\"Gossip (Fully RP)\",\"Golem (Fully RP)\",\"Ghost (Fully RP)\",\"Geographer (Fully RP)\",\"Genie (Fully RP)\",\"Generalist (Fully RP)\",\"Gamer (Fully RP)\",\"Futurist (Fully RP)\",\"Forecaster (Fully RP)\",\"Fool (Fully RP)\",\"Flaneur (Fully RP)\",\"Fixer (Fully RP)\",\"Familiar (Fully RP)\",\"Facilitator (Fully RP)\",\"Expatriate (Fully RP)\",\"Exile (Fully RP)\",\"Examiner (Fully RP)\",\"Evangelist (Fully RP)\",\"Evaluator (Fully RP)\",\"Entrepreneur (Fully RP)\",\"Engineer (Fully RP)\",\"Empath (Fully RP)\",\"Emissary (Fully RP)\",\"Elder (Fully RP)\",\"Egregore (Fully RP)\",\"Editor (Fully RP)\",\"Ecosystem (Fully RP)\",\"Economist (Fully RP)\",\"Echo (Fully RP)\",\"Dreamer (Fully RP)\",\"Doctor (Fully RP)\",\"Divorcee (Fully RP)\",\"Dispatcher (Fully RP)\",\"Dilettante (Fully RP)\",\"Devils Advocate (Fully RP)\",\"Detective (Fully RP)\",\"Destroyer (Fully RP)\",\"Designer (Fully RP)\",\"Demon (Fully RP)\",\"Debugger (Fully RP)\",\"Daredevil (Fully RP)\",\"Cynic (Fully RP)\",\"Cyborg (Fully RP)\",\"Curator (Fully RP)\",\"Crystalline (Fully RP)\",\"Critic (Fully RP)\",\"Criminal (Fully RP)\",\"Counselor (Fully RP)\",\"Cosmopolitan (Fully RP)\",\"Coral Reef (Fully RP)\",\"Coordinator (Fully RP)\",\"Contrarian (Fully RP)\",\"Consultant (Fully RP)\",\"Conservator (Fully RP)\",\"Composer (Fully RP)\",\"Competitor (Fully RP)\",\"Comedian (Fully RP)\",\"Collector (Fully RP)\",\"Collaborator (Fully RP)\",\"Coach (Fully RP)\",\"Chimera (Fully RP)\",\"Chemist (Fully RP)\",\"Chef (Fully RP)\",\"Chameleon (Fully RP)\",\"Celebrity (Fully RP)\",\"Cartographer (Fully RP)\",\"Caregiver (Fully RP)\",\"Builder (Fully RP)\",\"Bohemian (Fully RP)\",\"Blogger (Fully RP)\",\"Biologist (Fully RP)\",\"Bartender (Fully RP)\",\"Bard (Fully RP)\",\"Avatar (Fully RP)\",\"Auditor (Fully RP)\",\"Auctioneer (Fully RP)\",\"Assistant (Fully RP)\",\"Ascetic (Fully RP)\",\"Artisan (Fully RP)\",\"Archivist (Fully RP)\",\"Architect (Fully RP)\",\"Archaeologist (Fully RP)\",\"Anthropologist (Fully RP)\",\"Angel (Fully RP)\",\"Ancient (Fully RP)\",\"Anarchist (Fully RP)\",\"Analyst (Fully RP)\",\"Amnesiac (Fully RP)\",\"Ambassador (Fully RP)\",\"Amateur (Fully RP)\",\"Altruist (Fully RP)\",\"Alien (Fully RP)\",\"Advocate (Fully RP)\",\"Adolescent (Fully RP)\",\"Addict (Fully RP)\",\"Actor (Fully RP)\",\"Activist (Fully RP)\",\"Accountant (Fully RP)\",\"Absurdist (Fully RP)\"],\"x\":[25.263128733159185,2.869408311191891,38.40222017378947,11.93176356380057,58.76976311343924,34.34618772980779,46.857168089789994,54.95412103061075,17.5995824599208,11.44252787676315,38.78761457938074,29.56925185882531,-18.580724295497916,20.323077259161874,-13.6752768640846,57.91913841332444,-34.37730890052517,-21.869644946314445,0.9971210535449458,52.66182520079282,-26.550071117803522,-20.40139575721027,31.85593174706791,53.33637210625351,-23.496643081912666,-12.944411794568236,17.50659213381502,-12.98059769838371,-18.20293833006334,-14.154322469106013,1.3172714637658862,20.296053787529143,37.28916295384324,48.296548178956584,-27.971467881570373,-31.591686261724526,-12.734533294748296,-27.110909280418593,33.48095859925655,-29.601421192047166,18.51816584690134,53.914884484668725,-22.130849377354632,9.354805597208376,26.635513008235712,-24.112555107430552,50.90542647554675,-17.18154502773298,23.429402189327195,29.20480798711298,59.2511830225934,-28.56397942800672,-35.58368471983228,6.006923632259778,-29.461669280170582,-17.967125582470814,-27.491692896373095,43.558559236895725,16.825512964347304,50.57939351743495,50.5505826526064,-18.60939973092209,25.50224960891536,-31.472688632533288,58.77014092546525,20.551508740661408,-32.580039928290596,-15.4397095710934,27.22599237240343,-22.586776416349384,47.795022941149426,-9.017409785527187,33.29192313959278,-23.16932335728155,-28.107607778172355,44.93219616489711,46.41227533775187,63.95477945288039,-31.346592738811257,-15.396324501446319,-19.173047486390512,9.288396043665902,31.528221535440856,40.288111825472924,56.95680886678014,-4.168270089459598,51.73170239203058,-14.599286924293564,-1.9358845417342843,47.11283964057465,1.5888947278613679,11.479454251516154,-31.112525496267867,60.27626181961946,-11.786198298625898,51.4001004482806,-12.417513256960104,22.185861060585335,16.040010593607864,-27.544751366545626,8.69415267796409,-19.30763714819616,5.263932363756279,4.103529618891159,33.404173193852706,-11.536973172087984,-7.330050448870104,29.408017022673246,-28.31057918202263,59.51986245403462,6.798677518209789,-26.07996412475755,-29.79305943102317,22.970742376521333,35.936860240420614,6.364313701077851,-15.674212382889198,-21.711405168504307,-6.124187958209504,8.917716309822316,42.881508505909885,45.79045998827154,55.6623910479582,50.32828120788284,28.436591906795766,-28.79656029485698,13.357608968972851,12.992311015915634,-21.182987401549635,-26.13206266328988,14.758503211403458,32.63975237739183,-11.318047023667296,42.53147050756118,-24.03137126715695,62.306230139128836,35.76739554185465,-22.989121710751697,-21.08595611031632,-30.883462250782216,-24.381074776482574,-24.05941053723995,53.11385925761909,-18.67295225707966,-15.103981315339855,-24.68398259397501,4.610410177715732,38.93259198573946,34.304631689154405,22.63997667183515,18.36289593147047,13.291704226268896,43.71355033856978,52.24911624167806,17.93168449369062,-6.815687994684131,63.491920586947096,37.20254450186273,4.55224564470096,38.46642037960279,45.16689734042821,-2.5904771155545485,-10.776992100152134,35.49767443995442,3.058591364320924,-32.160658425643554,40.93285411561263,56.7222472824387,63.09824806960992,-18.356090654346662,54.58859846287818,-23.515592286130556,29.172693592752765,-14.584090889242109,-24.907748122288897,61.4496756401727,52.1949961404427,30.560687122612595,45.14750908228988,-29.682476331356344,6.30037292516832,50.69862571320315,-31.06233036896753,40.573595415283705,-32.91039295799277,-6.5451798473992016,-26.43248346915161,18.60849036745212,-13.703817484840576,42.32813644337173,25.459068373757457,-29.170505043959693,12.474369588348342,-26.607355712843045,64.26998509233512,55.07361856969963,-28.359530134980545,15.834915322537034,-15.68388320472551,39.19549922635834,3.296961954192987,-5.880934124406523,11.559760358152678,-18.475654707790632,64.58369668812053,-27.194011962431404,46.2421497075644,42.82956140954038,-6.864191124108893,-4.243467859417332,43.324237664362634,-6.526182109673959,52.22816168582566,-19.97082312544264,11.995363412247936,47.42347172736338,-25.365329144241098,20.632998266845895,-32.03510822328151,-11.14067038498612,9.534330295209154,34.809725313715525,31.47927561766522,3.9078769204024733,-26.158296983702098,-23.45594495183841,48.14166154412937,-14.601236789547638,7.777632028819271,23.33313565660365,18.538446517626646,-6.5581954219746,-6.502095627912808,8.105492863021244,62.4084481947758,10.550963534416427,-16.791521112693506,23.69669883542868,55.54234125874904,39.427968007395165,-29.829719166360036,33.687580799614,-33.312675979656944,52.70353560944328,33.179971763754104,-11.02489585958165,-17.495094220520002,6.000905655890744,-16.989243876935245,30.452471950250615,54.451470912758225,12.619368970010935,-32.18532096672662,47.47471102878424,-20.626521970896952,9.111825958258596,-10.767205619643729,38.034353195786714,-8.884638108874007,17.991971192936628,24.277696653699916,35.23378924438271,-5.93559469584737,-27.777875624146954,56.64873162264786],\"y\":[1,1,1,1,1,1,1,1,1,1,1,1,1,1,1,1,1,1,1,1,1,1,1,1,1,1,1,1,1,1,1,1,1,1,1,1,1,1,1,1,1,1,1,1,1,1,1,1,1,1,1,1,1,1,1,1,1,1,1,1,1,1,1,1,1,1,1,1,1,1,1,1,1,1,1,1,1,1,1,1,1,1,1,1,1,1,1,1,1,1,1,1,1,1,1,1,1,1,1,1,1,1,1,1,1,1,1,1,1,1,1,1,1,1,1,1,1,1,1,1,1,1,1,1,1,1,1,1,1,1,1,1,1,1,1,1,1,1,1,1,1,1,1,1,1,1,1,1,1,1,1,1,1,1,1,1,1,1,1,1,1,1,1,1,1,1,1,1,1,1,1,1,1,1,1,1,1,1,1,1,1,1,1,1,1,1,1,1,1,1,1,1,1,1,1,1,1,1,1,1,1,1,1,1,1,1,1,1,1,1,1,1,1,1,1,1,1,1,1,1,1,1,1,1,1,1,1,1,1,1,1,1,1,1,1,1,1,1,1,1,1,1,1,1,1,1,1,1,1,1,1,1,1,1,1,1,1,1,1,1,1,1,1,1,1],\"type\":\"scatter\",\"xaxis\":\"x2\",\"yaxis\":\"y2\"},{\"hovertemplate\":\"\\u003cb\\u003e%{text}\\u003c\\u002fb\\u003e\\u003cbr\\u003ePC Projection: %{x:.3f}\\u003cextra\\u003e\\u003c\\u002fextra\\u003e\",\"legendgroup\":\"pos3\",\"marker\":{\"color\":\"blue\",\"line\":{\"color\":\"black\",\"width\":1},\"opacity\":1.0,\"size\":8,\"symbol\":\"square\"},\"mode\":\"markers\",\"name\":\"Fully Role-Playing\",\"showlegend\":false,\"text\":[\"Zealot (Fully RP)\",\"Wraith (Fully RP)\",\"Wind (Fully RP)\",\"Whale (Fully RP)\",\"Void (Fully RP)\",\"Tree (Fully RP)\",\"Leviathan (Fully RP)\",\"Eldritch (Fully RP)\",\"Caveman (Fully RP)\",\"Aberration (Fully RP)\"],\"x\":[67.27839847745605,68.8671655375401,64.97720569892105,66.98821011357198,74.08776787120311,69.00482127674962,79.19789307087086,79.26102515987519,86.47044637828765,69.95585972875978],\"y\":[1,1,1,1,1,1,1,1,1,1],\"type\":\"scatter\",\"xaxis\":\"x2\",\"yaxis\":\"y2\"},{\"hoverinfo\":\"skip\",\"line\":{\"color\":\"black\",\"width\":1},\"mode\":\"lines\",\"showlegend\":false,\"x\":[-38.88484534561481,-38.88484534561481],\"y\":[1.0,1.45],\"type\":\"scatter\",\"xaxis\":\"x2\",\"yaxis\":\"y2\"},{\"hoverinfo\":\"skip\",\"line\":{\"color\":\"black\",\"width\":1},\"mode\":\"lines\",\"showlegend\":false,\"x\":[-38.714845411861646,-38.714845411861646],\"y\":[1.0,0.6],\"type\":\"scatter\",\"xaxis\":\"x2\",\"yaxis\":\"y2\"},{\"hoverinfo\":\"skip\",\"line\":{\"color\":\"black\",\"width\":1},\"mode\":\"lines\",\"showlegend\":false,\"x\":[-37.745049327437386,-37.745049327437386],\"y\":[1.0,1.9],\"type\":\"scatter\",\"xaxis\":\"x2\",\"yaxis\":\"y2\"},{\"hoverinfo\":\"skip\",\"line\":{\"color\":\"black\",\"width\":1},\"mode\":\"lines\",\"showlegend\":false,\"x\":[-36.68484213437988,-36.68484213437988],\"y\":[1.0,0.15],\"type\":\"scatter\",\"xaxis\":\"x2\",\"yaxis\":\"y2\"},{\"hoverinfo\":\"skip\",\"line\":{\"color\":\"black\",\"width\":1},\"mode\":\"lines\",\"showlegend\":false,\"x\":[-36.54680177071911,-36.54680177071911],\"y\":[1.0,1.6],\"type\":\"scatter\",\"xaxis\":\"x2\",\"yaxis\":\"y2\"},{\"hoverinfo\":\"skip\",\"line\":{\"color\":\"black\",\"width\":1},\"mode\":\"lines\",\"showlegend\":false,\"x\":[-36.33288053003105,-36.33288053003105],\"y\":[1.0,0.45],\"type\":\"scatter\",\"xaxis\":\"x2\",\"yaxis\":\"y2\"},{\"hoverinfo\":\"skip\",\"line\":{\"color\":\"black\",\"width\":1},\"mode\":\"lines\",\"showlegend\":false,\"x\":[-36.153340522983015,-36.153340522983015],\"y\":[1.0,1.3],\"type\":\"scatter\",\"xaxis\":\"x2\",\"yaxis\":\"y2\"},{\"hoverinfo\":\"skip\",\"line\":{\"color\":\"black\",\"width\":1},\"mode\":\"lines\",\"showlegend\":false,\"x\":[-36.14278944872974,-36.14278944872974],\"y\":[1.0,0.75],\"type\":\"scatter\",\"xaxis\":\"x2\",\"yaxis\":\"y2\"},{\"hoverinfo\":\"skip\",\"line\":{\"color\":\"black\",\"width\":1},\"mode\":\"lines\",\"showlegend\":false,\"x\":[-35.986014972894935,-35.986014972894935],\"y\":[1.0,1.75],\"type\":\"scatter\",\"xaxis\":\"x2\",\"yaxis\":\"y2\"},{\"hoverinfo\":\"skip\",\"line\":{\"color\":\"black\",\"width\":1},\"mode\":\"lines\",\"showlegend\":false,\"x\":[-35.85196188639666,-35.85196188639666],\"y\":[1.0,0.3],\"type\":\"scatter\",\"xaxis\":\"x2\",\"yaxis\":\"y2\"},{\"hoverinfo\":\"skip\",\"line\":{\"color\":\"black\",\"width\":1},\"mode\":\"lines\",\"showlegend\":false,\"x\":[64.97720569892105,64.97720569892105],\"y\":[1.0,1.45],\"type\":\"scatter\",\"xaxis\":\"x2\",\"yaxis\":\"y2\"},{\"hoverinfo\":\"skip\",\"line\":{\"color\":\"black\",\"width\":1},\"mode\":\"lines\",\"showlegend\":false,\"x\":[66.98821011357198,66.98821011357198],\"y\":[1.0,0.6],\"type\":\"scatter\",\"xaxis\":\"x2\",\"yaxis\":\"y2\"},{\"hoverinfo\":\"skip\",\"line\":{\"color\":\"black\",\"width\":1},\"mode\":\"lines\",\"showlegend\":false,\"x\":[67.27839847745605,67.27839847745605],\"y\":[1.0,1.9],\"type\":\"scatter\",\"xaxis\":\"x2\",\"yaxis\":\"y2\"},{\"hoverinfo\":\"skip\",\"line\":{\"color\":\"black\",\"width\":1},\"mode\":\"lines\",\"showlegend\":false,\"x\":[68.8671655375401,68.8671655375401],\"y\":[1.0,0.15],\"type\":\"scatter\",\"xaxis\":\"x2\",\"yaxis\":\"y2\"},{\"hoverinfo\":\"skip\",\"line\":{\"color\":\"black\",\"width\":1},\"mode\":\"lines\",\"showlegend\":false,\"x\":[69.00482127674962,69.00482127674962],\"y\":[1.0,1.6],\"type\":\"scatter\",\"xaxis\":\"x2\",\"yaxis\":\"y2\"},{\"hoverinfo\":\"skip\",\"line\":{\"color\":\"black\",\"width\":1},\"mode\":\"lines\",\"showlegend\":false,\"x\":[69.95585972875978,69.95585972875978],\"y\":[1.0,0.45],\"type\":\"scatter\",\"xaxis\":\"x2\",\"yaxis\":\"y2\"},{\"hoverinfo\":\"skip\",\"line\":{\"color\":\"black\",\"width\":1},\"mode\":\"lines\",\"showlegend\":false,\"x\":[74.08776787120311,74.08776787120311],\"y\":[1.0,1.3],\"type\":\"scatter\",\"xaxis\":\"x2\",\"yaxis\":\"y2\"},{\"hoverinfo\":\"skip\",\"line\":{\"color\":\"black\",\"width\":1},\"mode\":\"lines\",\"showlegend\":false,\"x\":[79.19789307087086,79.19789307087086],\"y\":[1.0,0.75],\"type\":\"scatter\",\"xaxis\":\"x2\",\"yaxis\":\"y2\"},{\"hoverinfo\":\"skip\",\"line\":{\"color\":\"black\",\"width\":1},\"mode\":\"lines\",\"showlegend\":false,\"x\":[79.26102515987519,79.26102515987519],\"y\":[1.0,1.75],\"type\":\"scatter\",\"xaxis\":\"x2\",\"yaxis\":\"y2\"},{\"hoverinfo\":\"skip\",\"line\":{\"color\":\"black\",\"width\":1},\"mode\":\"lines\",\"showlegend\":false,\"x\":[86.47044637828765,86.47044637828765],\"y\":[1.0,0.3],\"type\":\"scatter\",\"xaxis\":\"x2\",\"yaxis\":\"y2\"},{\"hoverinfo\":\"skip\",\"legendgroup\":\"pos2\",\"marker\":{\"color\":\"cyan\"},\"name\":\"Somewhat Role-Playing\",\"opacity\":0.7,\"showlegend\":false,\"width\":3.7606587517170724,\"x\":[-36.79559048354977,-32.61708075941969,-28.438571035289606,-24.260061311159525,-20.081551587029445,-15.903041862899363,-11.724532138769279,-7.5460224146391965,-3.367512690509116,0.8109970336209642,4.989506757751048,9.168016481881132,13.346526206011212,17.525035930141296,21.70354565427138,25.88205537840146,30.06056510253154,34.23907482666162,38.4175845507917,42.59609427492178,46.77460399905187,50.95311372318196,55.13162344731204,59.31013317144212,63.4886428955722,67.66715261970228,71.84566234383236,76.02417206796244,80.20268179209253,84.38119151622261],\"y\":[0.5029411764705882,0.9,0.6882352941176471,0.6882352941176471,0.39705882352941174,0.23823529411764707,0.2647058823529412,0.2647058823529412,0.15882352941176472,0.1323529411764706,0.10588235294117647,0.0,0.052941176470588235,0.1323529411764706,0.026470588235294117,0.0,0.0,0.026470588235294117,0.0,0.0,0.0,0.0,0.0,0.0,0.0,0.0,0.0,0.0,0.0,0.0],\"type\":\"bar\",\"xaxis\":\"x2\",\"yaxis\":\"y2\"},{\"hoverinfo\":\"skip\",\"legendgroup\":\"pos3\",\"marker\":{\"color\":\"blue\"},\"name\":\"Fully Role-Playing\",\"opacity\":0.7,\"showlegend\":false,\"width\":3.7606587517170724,\"x\":[-36.79559048354977,-32.61708075941969,-28.438571035289606,-24.260061311159525,-20.081551587029445,-15.903041862899363,-11.724532138769279,-7.5460224146391965,-3.367512690509116,0.8109970336209642,4.989506757751048,9.168016481881132,13.346526206011212,17.525035930141296,21.70354565427138,25.88205537840146,30.06056510253154,34.23907482666162,38.4175845507917,42.59609427492178,46.77460399905187,50.95311372318196,55.13162344731204,59.31013317144212,63.4886428955722,67.66715261970228,71.84566234383236,76.02417206796244,80.20268179209253,84.38119151622261],\"y\":[0.026470588235294117,0.34411764705882353,0.5294117647058824,0.4235294117647059,0.4235294117647059,0.37058823529411766,0.34411764705882353,0.31764705882352945,0.10588235294117647,0.10588235294117647,0.31764705882352945,0.23823529411764707,0.2911764705882353,0.2911764705882353,0.2647058823529412,0.15882352941176472,0.2647058823529412,0.34411764705882353,0.2647058823529412,0.23823529411764707,0.34411764705882353,0.31764705882352945,0.31764705882352945,0.15882352941176472,0.23823529411764707,0.10588235294117647,0.026470588235294117,0.026470588235294117,0.052941176470588235,0.026470588235294117],\"type\":\"bar\",\"xaxis\":\"x2\",\"yaxis\":\"y2\"}],                        {\"template\":{\"data\":{\"histogram2dcontour\":[{\"type\":\"histogram2dcontour\",\"colorbar\":{\"outlinewidth\":0,\"ticks\":\"\"},\"colorscale\":[[0.0,\"#0d0887\"],[0.1111111111111111,\"#46039f\"],[0.2222222222222222,\"#7201a8\"],[0.3333333333333333,\"#9c179e\"],[0.4444444444444444,\"#bd3786\"],[0.5555555555555556,\"#d8576b\"],[0.6666666666666666,\"#ed7953\"],[0.7777777777777778,\"#fb9f3a\"],[0.8888888888888888,\"#fdca26\"],[1.0,\"#f0f921\"]]}],\"choropleth\":[{\"type\":\"choropleth\",\"colorbar\":{\"outlinewidth\":0,\"ticks\":\"\"}}],\"histogram2d\":[{\"type\":\"histogram2d\",\"colorbar\":{\"outlinewidth\":0,\"ticks\":\"\"},\"colorscale\":[[0.0,\"#0d0887\"],[0.1111111111111111,\"#46039f\"],[0.2222222222222222,\"#7201a8\"],[0.3333333333333333,\"#9c179e\"],[0.4444444444444444,\"#bd3786\"],[0.5555555555555556,\"#d8576b\"],[0.6666666666666666,\"#ed7953\"],[0.7777777777777778,\"#fb9f3a\"],[0.8888888888888888,\"#fdca26\"],[1.0,\"#f0f921\"]]}],\"heatmap\":[{\"type\":\"heatmap\",\"colorbar\":{\"outlinewidth\":0,\"ticks\":\"\"},\"colorscale\":[[0.0,\"#0d0887\"],[0.1111111111111111,\"#46039f\"],[0.2222222222222222,\"#7201a8\"],[0.3333333333333333,\"#9c179e\"],[0.4444444444444444,\"#bd3786\"],[0.5555555555555556,\"#d8576b\"],[0.6666666666666666,\"#ed7953\"],[0.7777777777777778,\"#fb9f3a\"],[0.8888888888888888,\"#fdca26\"],[1.0,\"#f0f921\"]]}],\"heatmapgl\":[{\"type\":\"heatmapgl\",\"colorbar\":{\"outlinewidth\":0,\"ticks\":\"\"},\"colorscale\":[[0.0,\"#0d0887\"],[0.1111111111111111,\"#46039f\"],[0.2222222222222222,\"#7201a8\"],[0.3333333333333333,\"#9c179e\"],[0.4444444444444444,\"#bd3786\"],[0.5555555555555556,\"#d8576b\"],[0.6666666666666666,\"#ed7953\"],[0.7777777777777778,\"#fb9f3a\"],[0.8888888888888888,\"#fdca26\"],[1.0,\"#f0f921\"]]}],\"contourcarpet\":[{\"type\":\"contourcarpet\",\"colorbar\":{\"outlinewidth\":0,\"ticks\":\"\"}}],\"contour\":[{\"type\":\"contour\",\"colorbar\":{\"outlinewidth\":0,\"ticks\":\"\"},\"colorscale\":[[0.0,\"#0d0887\"],[0.1111111111111111,\"#46039f\"],[0.2222222222222222,\"#7201a8\"],[0.3333333333333333,\"#9c179e\"],[0.4444444444444444,\"#bd3786\"],[0.5555555555555556,\"#d8576b\"],[0.6666666666666666,\"#ed7953\"],[0.7777777777777778,\"#fb9f3a\"],[0.8888888888888888,\"#fdca26\"],[1.0,\"#f0f921\"]]}],\"surface\":[{\"type\":\"surface\",\"colorbar\":{\"outlinewidth\":0,\"ticks\":\"\"},\"colorscale\":[[0.0,\"#0d0887\"],[0.1111111111111111,\"#46039f\"],[0.2222222222222222,\"#7201a8\"],[0.3333333333333333,\"#9c179e\"],[0.4444444444444444,\"#bd3786\"],[0.5555555555555556,\"#d8576b\"],[0.6666666666666666,\"#ed7953\"],[0.7777777777777778,\"#fb9f3a\"],[0.8888888888888888,\"#fdca26\"],[1.0,\"#f0f921\"]]}],\"mesh3d\":[{\"type\":\"mesh3d\",\"colorbar\":{\"outlinewidth\":0,\"ticks\":\"\"}}],\"scatter\":[{\"fillpattern\":{\"fillmode\":\"overlay\",\"size\":10,\"solidity\":0.2},\"type\":\"scatter\"}],\"parcoords\":[{\"type\":\"parcoords\",\"line\":{\"colorbar\":{\"outlinewidth\":0,\"ticks\":\"\"}}}],\"scatterpolargl\":[{\"type\":\"scatterpolargl\",\"marker\":{\"colorbar\":{\"outlinewidth\":0,\"ticks\":\"\"}}}],\"bar\":[{\"error_x\":{\"color\":\"#2a3f5f\"},\"error_y\":{\"color\":\"#2a3f5f\"},\"marker\":{\"line\":{\"color\":\"#E5ECF6\",\"width\":0.5},\"pattern\":{\"fillmode\":\"overlay\",\"size\":10,\"solidity\":0.2}},\"type\":\"bar\"}],\"scattergeo\":[{\"type\":\"scattergeo\",\"marker\":{\"colorbar\":{\"outlinewidth\":0,\"ticks\":\"\"}}}],\"scatterpolar\":[{\"type\":\"scatterpolar\",\"marker\":{\"colorbar\":{\"outlinewidth\":0,\"ticks\":\"\"}}}],\"histogram\":[{\"marker\":{\"pattern\":{\"fillmode\":\"overlay\",\"size\":10,\"solidity\":0.2}},\"type\":\"histogram\"}],\"scattergl\":[{\"type\":\"scattergl\",\"marker\":{\"colorbar\":{\"outlinewidth\":0,\"ticks\":\"\"}}}],\"scatter3d\":[{\"type\":\"scatter3d\",\"line\":{\"colorbar\":{\"outlinewidth\":0,\"ticks\":\"\"}},\"marker\":{\"colorbar\":{\"outlinewidth\":0,\"ticks\":\"\"}}}],\"scattermapbox\":[{\"type\":\"scattermapbox\",\"marker\":{\"colorbar\":{\"outlinewidth\":0,\"ticks\":\"\"}}}],\"scatterternary\":[{\"type\":\"scatterternary\",\"marker\":{\"colorbar\":{\"outlinewidth\":0,\"ticks\":\"\"}}}],\"scattercarpet\":[{\"type\":\"scattercarpet\",\"marker\":{\"colorbar\":{\"outlinewidth\":0,\"ticks\":\"\"}}}],\"carpet\":[{\"aaxis\":{\"endlinecolor\":\"#2a3f5f\",\"gridcolor\":\"white\",\"linecolor\":\"white\",\"minorgridcolor\":\"white\",\"startlinecolor\":\"#2a3f5f\"},\"baxis\":{\"endlinecolor\":\"#2a3f5f\",\"gridcolor\":\"white\",\"linecolor\":\"white\",\"minorgridcolor\":\"white\",\"startlinecolor\":\"#2a3f5f\"},\"type\":\"carpet\"}],\"table\":[{\"cells\":{\"fill\":{\"color\":\"#EBF0F8\"},\"line\":{\"color\":\"white\"}},\"header\":{\"fill\":{\"color\":\"#C8D4E3\"},\"line\":{\"color\":\"white\"}},\"type\":\"table\"}],\"barpolar\":[{\"marker\":{\"line\":{\"color\":\"#E5ECF6\",\"width\":0.5},\"pattern\":{\"fillmode\":\"overlay\",\"size\":10,\"solidity\":0.2}},\"type\":\"barpolar\"}],\"pie\":[{\"automargin\":true,\"type\":\"pie\"}]},\"layout\":{\"autotypenumbers\":\"strict\",\"colorway\":[\"#636efa\",\"#EF553B\",\"#00cc96\",\"#ab63fa\",\"#FFA15A\",\"#19d3f3\",\"#FF6692\",\"#B6E880\",\"#FF97FF\",\"#FECB52\"],\"font\":{\"color\":\"#2a3f5f\"},\"hovermode\":\"closest\",\"hoverlabel\":{\"align\":\"left\"},\"paper_bgcolor\":\"white\",\"plot_bgcolor\":\"#E5ECF6\",\"polar\":{\"bgcolor\":\"#E5ECF6\",\"angularaxis\":{\"gridcolor\":\"white\",\"linecolor\":\"white\",\"ticks\":\"\"},\"radialaxis\":{\"gridcolor\":\"white\",\"linecolor\":\"white\",\"ticks\":\"\"}},\"ternary\":{\"bgcolor\":\"#E5ECF6\",\"aaxis\":{\"gridcolor\":\"white\",\"linecolor\":\"white\",\"ticks\":\"\"},\"baxis\":{\"gridcolor\":\"white\",\"linecolor\":\"white\",\"ticks\":\"\"},\"caxis\":{\"gridcolor\":\"white\",\"linecolor\":\"white\",\"ticks\":\"\"}},\"coloraxis\":{\"colorbar\":{\"outlinewidth\":0,\"ticks\":\"\"}},\"colorscale\":{\"sequential\":[[0.0,\"#0d0887\"],[0.1111111111111111,\"#46039f\"],[0.2222222222222222,\"#7201a8\"],[0.3333333333333333,\"#9c179e\"],[0.4444444444444444,\"#bd3786\"],[0.5555555555555556,\"#d8576b\"],[0.6666666666666666,\"#ed7953\"],[0.7777777777777778,\"#fb9f3a\"],[0.8888888888888888,\"#fdca26\"],[1.0,\"#f0f921\"]],\"sequentialminus\":[[0.0,\"#0d0887\"],[0.1111111111111111,\"#46039f\"],[0.2222222222222222,\"#7201a8\"],[0.3333333333333333,\"#9c179e\"],[0.4444444444444444,\"#bd3786\"],[0.5555555555555556,\"#d8576b\"],[0.6666666666666666,\"#ed7953\"],[0.7777777777777778,\"#fb9f3a\"],[0.8888888888888888,\"#fdca26\"],[1.0,\"#f0f921\"]],\"diverging\":[[0,\"#8e0152\"],[0.1,\"#c51b7d\"],[0.2,\"#de77ae\"],[0.3,\"#f1b6da\"],[0.4,\"#fde0ef\"],[0.5,\"#f7f7f7\"],[0.6,\"#e6f5d0\"],[0.7,\"#b8e186\"],[0.8,\"#7fbc41\"],[0.9,\"#4d9221\"],[1,\"#276419\"]]},\"xaxis\":{\"gridcolor\":\"white\",\"linecolor\":\"white\",\"ticks\":\"\",\"title\":{\"standoff\":15},\"zerolinecolor\":\"white\",\"automargin\":true,\"zerolinewidth\":2},\"yaxis\":{\"gridcolor\":\"white\",\"linecolor\":\"white\",\"ticks\":\"\",\"title\":{\"standoff\":15},\"zerolinecolor\":\"white\",\"automargin\":true,\"zerolinewidth\":2},\"scene\":{\"xaxis\":{\"backgroundcolor\":\"#E5ECF6\",\"gridcolor\":\"white\",\"linecolor\":\"white\",\"showbackground\":true,\"ticks\":\"\",\"zerolinecolor\":\"white\",\"gridwidth\":2},\"yaxis\":{\"backgroundcolor\":\"#E5ECF6\",\"gridcolor\":\"white\",\"linecolor\":\"white\",\"showbackground\":true,\"ticks\":\"\",\"zerolinecolor\":\"white\",\"gridwidth\":2},\"zaxis\":{\"backgroundcolor\":\"#E5ECF6\",\"gridcolor\":\"white\",\"linecolor\":\"white\",\"showbackground\":true,\"ticks\":\"\",\"zerolinecolor\":\"white\",\"gridwidth\":2}},\"shapedefaults\":{\"line\":{\"color\":\"#2a3f5f\"}},\"annotationdefaults\":{\"arrowcolor\":\"#2a3f5f\",\"arrowhead\":0,\"arrowwidth\":1},\"geo\":{\"bgcolor\":\"white\",\"landcolor\":\"#E5ECF6\",\"subunitcolor\":\"white\",\"showland\":true,\"showlakes\":true,\"lakecolor\":\"white\"},\"title\":{\"x\":0.05},\"mapbox\":{\"style\":\"light\"}}},\"xaxis\":{\"anchor\":\"y\",\"domain\":[0.0,1.0],\"range\":[-0.8804326031693304,0.8804326031693304]},\"yaxis\":{\"anchor\":\"x\",\"domain\":[0.55,1.0],\"showticklabels\":false,\"range\":[0,2.5]},\"xaxis2\":{\"anchor\":\"y2\",\"domain\":[0.0,1.0],\"range\":[-95.11749101611642,95.11749101611642]},\"yaxis2\":{\"anchor\":\"x2\",\"domain\":[0.0,0.45],\"showticklabels\":false,\"range\":[0,2.5]},\"annotations\":[{\"font\":{\"size\":16},\"showarrow\":false,\"text\":\"PC1 Cosine Similarity\",\"x\":0.5,\"xanchor\":\"center\",\"xref\":\"paper\",\"y\":1.0,\"yanchor\":\"bottom\",\"yref\":\"paper\"},{\"font\":{\"size\":16},\"showarrow\":false,\"text\":\"PC1 Projection\",\"x\":0.5,\"xanchor\":\"center\",\"xref\":\"paper\",\"y\":0.45,\"yanchor\":\"bottom\",\"yref\":\"paper\"},{\"bgcolor\":\"rgba(255, 255, 255, 0.9)\",\"bordercolor\":\"black\",\"borderwidth\":1,\"font\":{\"color\":\"black\",\"size\":10},\"showarrow\":false,\"text\":\"Reviewer (Somewhat RP)\",\"x\":-0.8003932756084821,\"xref\":\"x\",\"y\":1.45,\"yref\":\"y\"},{\"bgcolor\":\"rgba(255, 255, 255, 0.9)\",\"bordercolor\":\"black\",\"borderwidth\":1,\"font\":{\"color\":\"black\",\"size\":10},\"showarrow\":false,\"text\":\"Planner (Somewhat RP)\",\"x\":-0.7987908453604858,\"xref\":\"x\",\"y\":0.6,\"yref\":\"y\"},{\"bgcolor\":\"rgba(255, 255, 255, 0.9)\",\"bordercolor\":\"black\",\"borderwidth\":1,\"font\":{\"color\":\"black\",\"size\":10},\"showarrow\":false,\"text\":\"Supervisor (Somewhat RP)\",\"x\":-0.7846595292387171,\"xref\":\"x\",\"y\":1.9,\"yref\":\"y\"},{\"bgcolor\":\"rgba(255, 255, 255, 0.9)\",\"bordercolor\":\"black\",\"borderwidth\":1,\"font\":{\"color\":\"black\",\"size\":10},\"showarrow\":false,\"text\":\"Editor (Somewhat RP)\",\"x\":-0.7829519847524846,\"xref\":\"x\",\"y\":0.15,\"yref\":\"y\"},{\"bgcolor\":\"rgba(255, 255, 255, 0.9)\",\"bordercolor\":\"black\",\"borderwidth\":1,\"font\":{\"color\":\"black\",\"size\":10},\"showarrow\":false,\"text\":\"Researcher (Somewhat RP)\",\"x\":-0.7822530713229844,\"xref\":\"x\",\"y\":1.6,\"yref\":\"y\"},{\"bgcolor\":\"rgba(255, 255, 255, 0.9)\",\"bordercolor\":\"black\",\"borderwidth\":1,\"font\":{\"color\":\"black\",\"size\":10},\"showarrow\":false,\"text\":\"Evaluator (Somewhat RP)\",\"x\":-0.7754416064850178,\"xref\":\"x\",\"y\":0.45,\"yref\":\"y\"},{\"bgcolor\":\"rgba(255, 255, 255, 0.9)\",\"bordercolor\":\"black\",\"borderwidth\":1,\"font\":{\"color\":\"black\",\"size\":10},\"showarrow\":false,\"text\":\"Validator (Somewhat RP)\",\"x\":-0.775402512655442,\"xref\":\"x\",\"y\":1.3,\"yref\":\"y\"},{\"bgcolor\":\"rgba(255, 255, 255, 0.9)\",\"bordercolor\":\"black\",\"borderwidth\":1,\"font\":{\"color\":\"black\",\"size\":10},\"showarrow\":false,\"text\":\"Analyst (Somewhat RP)\",\"x\":-0.7745077618004124,\"xref\":\"x\",\"y\":0.75,\"yref\":\"y\"},{\"bgcolor\":\"rgba(255, 255, 255, 0.9)\",\"bordercolor\":\"black\",\"borderwidth\":1,\"font\":{\"color\":\"black\",\"size\":10},\"showarrow\":false,\"text\":\"Examiner (Somewhat RP)\",\"x\":-0.765187735928902,\"xref\":\"x\",\"y\":1.75,\"yref\":\"y\"},{\"bgcolor\":\"rgba(255, 255, 255, 0.9)\",\"bordercolor\":\"black\",\"borderwidth\":1,\"font\":{\"color\":\"black\",\"size\":10},\"showarrow\":false,\"text\":\"Coordinator (Somewhat RP)\",\"x\":-0.7525827740698718,\"xref\":\"x\",\"y\":0.3,\"yref\":\"y\"},{\"bgcolor\":\"rgba(255, 255, 255, 0.9)\",\"bordercolor\":\"black\",\"borderwidth\":1,\"font\":{\"color\":\"black\",\"size\":10},\"showarrow\":false,\"text\":\"Prophet (Fully RP)\",\"x\":0.6977044922856217,\"xref\":\"x\",\"y\":1.45,\"yref\":\"y\"},{\"bgcolor\":\"rgba(255, 255, 255, 0.9)\",\"bordercolor\":\"black\",\"borderwidth\":1,\"font\":{\"color\":\"black\",\"size\":10},\"showarrow\":false,\"text\":\"Revenant (Fully RP)\",\"x\":0.7159030034169824,\"xref\":\"x\",\"y\":0.6,\"yref\":\"y\"},{\"bgcolor\":\"rgba(255, 255, 255, 0.9)\",\"bordercolor\":\"black\",\"borderwidth\":1,\"font\":{\"color\":\"black\",\"size\":10},\"showarrow\":false,\"text\":\"Whale (Fully RP)\",\"x\":0.7177654784118552,\"xref\":\"x\",\"y\":1.9,\"yref\":\"y\"},{\"bgcolor\":\"rgba(255, 255, 255, 0.9)\",\"bordercolor\":\"black\",\"borderwidth\":1,\"font\":{\"color\":\"black\",\"size\":10},\"showarrow\":false,\"text\":\"Leviathan (Fully RP)\",\"x\":0.7196874887014563,\"xref\":\"x\",\"y\":0.15,\"yref\":\"y\"},{\"bgcolor\":\"rgba(255, 255, 255, 0.9)\",\"bordercolor\":\"black\",\"borderwidth\":1,\"font\":{\"color\":\"black\",\"size\":10},\"showarrow\":false,\"text\":\"Witch (Fully RP)\",\"x\":0.730357297267388,\"xref\":\"x\",\"y\":1.6,\"yref\":\"y\"},{\"bgcolor\":\"rgba(255, 255, 255, 0.9)\",\"bordercolor\":\"black\",\"borderwidth\":1,\"font\":{\"color\":\"black\",\"size\":10},\"showarrow\":false,\"text\":\"Bohemian (Fully RP)\",\"x\":0.7319291025068904,\"xref\":\"x\",\"y\":0.45,\"yref\":\"y\"},{\"bgcolor\":\"rgba(255, 255, 255, 0.9)\",\"bordercolor\":\"black\",\"borderwidth\":1,\"font\":{\"color\":\"black\",\"size\":10},\"showarrow\":false,\"text\":\"Wraith (Fully RP)\",\"x\":0.7532125435088858,\"xref\":\"x\",\"y\":1.3,\"yref\":\"y\"},{\"bgcolor\":\"rgba(255, 255, 255, 0.9)\",\"bordercolor\":\"black\",\"borderwidth\":1,\"font\":{\"color\":\"black\",\"size\":10},\"showarrow\":false,\"text\":\"Hermit (Fully RP)\",\"x\":0.7730161690546525,\"xref\":\"x\",\"y\":0.75,\"yref\":\"y\"},{\"bgcolor\":\"rgba(255, 255, 255, 0.9)\",\"bordercolor\":\"black\",\"borderwidth\":1,\"font\":{\"color\":\"black\",\"size\":10},\"showarrow\":false,\"text\":\"Ghost (Fully RP)\",\"x\":0.776611251432538,\"xref\":\"x\",\"y\":1.75,\"yref\":\"y\"},{\"bgcolor\":\"rgba(255, 255, 255, 0.9)\",\"bordercolor\":\"black\",\"borderwidth\":1,\"font\":{\"color\":\"black\",\"size\":10},\"showarrow\":false,\"text\":\"Wanderer (Fully RP)\",\"x\":0.7839665356983155,\"xref\":\"x\",\"y\":0.3,\"yref\":\"y\"},{\"bgcolor\":\"rgba(255, 255, 255, 0.9)\",\"bordercolor\":\"red\",\"borderwidth\":1,\"font\":{\"color\":\"red\",\"size\":14},\"showarrow\":false,\"text\":\"Assistant\",\"x\":-0.7216800972947884,\"xref\":\"x\",\"y\":2.25,\"yref\":\"y\"},{\"bgcolor\":\"rgba(255, 255, 255, 0.9)\",\"bordercolor\":\"black\",\"borderwidth\":1,\"font\":{\"color\":\"black\",\"size\":10},\"showarrow\":false,\"text\":\"Assistant (Somewhat RP)\",\"x\":-38.88484534561481,\"xref\":\"x2\",\"y\":1.45,\"yref\":\"y2\"},{\"bgcolor\":\"rgba(255, 255, 255, 0.9)\",\"bordercolor\":\"black\",\"borderwidth\":1,\"font\":{\"color\":\"black\",\"size\":10},\"showarrow\":false,\"text\":\"Screener (Somewhat RP)\",\"x\":-38.714845411861646,\"xref\":\"x2\",\"y\":0.6,\"yref\":\"y2\"},{\"bgcolor\":\"rgba(255, 255, 255, 0.9)\",\"bordercolor\":\"black\",\"borderwidth\":1,\"font\":{\"color\":\"black\",\"size\":10},\"showarrow\":false,\"text\":\"Doctor (Somewhat RP)\",\"x\":-37.745049327437386,\"xref\":\"x2\",\"y\":1.9,\"yref\":\"y2\"},{\"bgcolor\":\"rgba(255, 255, 255, 0.9)\",\"bordercolor\":\"black\",\"borderwidth\":1,\"font\":{\"color\":\"black\",\"size\":10},\"showarrow\":false,\"text\":\"Analyst (Somewhat RP)\",\"x\":-36.68484213437988,\"xref\":\"x2\",\"y\":0.15,\"yref\":\"y2\"},{\"bgcolor\":\"rgba(255, 255, 255, 0.9)\",\"bordercolor\":\"black\",\"borderwidth\":1,\"font\":{\"color\":\"black\",\"size\":10},\"showarrow\":false,\"text\":\"Researcher (Somewhat RP)\",\"x\":-36.54680177071911,\"xref\":\"x2\",\"y\":1.6,\"yref\":\"y2\"},{\"bgcolor\":\"rgba(255, 255, 255, 0.9)\",\"bordercolor\":\"black\",\"borderwidth\":1,\"font\":{\"color\":\"black\",\"size\":10},\"showarrow\":false,\"text\":\"Validator (Somewhat RP)\",\"x\":-36.33288053003105,\"xref\":\"x2\",\"y\":0.45,\"yref\":\"y2\"},{\"bgcolor\":\"rgba(255, 255, 255, 0.9)\",\"bordercolor\":\"black\",\"borderwidth\":1,\"font\":{\"color\":\"black\",\"size\":10},\"showarrow\":false,\"text\":\"Summarizer (Somewhat RP)\",\"x\":-36.153340522983015,\"xref\":\"x2\",\"y\":1.3,\"yref\":\"y2\"},{\"bgcolor\":\"rgba(255, 255, 255, 0.9)\",\"bordercolor\":\"black\",\"borderwidth\":1,\"font\":{\"color\":\"black\",\"size\":10},\"showarrow\":false,\"text\":\"Evaluator (Somewhat RP)\",\"x\":-36.14278944872974,\"xref\":\"x2\",\"y\":0.75,\"yref\":\"y2\"},{\"bgcolor\":\"rgba(255, 255, 255, 0.9)\",\"bordercolor\":\"black\",\"borderwidth\":1,\"font\":{\"color\":\"black\",\"size\":10},\"showarrow\":false,\"text\":\"Scientist (Somewhat RP)\",\"x\":-35.986014972894935,\"xref\":\"x2\",\"y\":1.75,\"yref\":\"y2\"},{\"bgcolor\":\"rgba(255, 255, 255, 0.9)\",\"bordercolor\":\"black\",\"borderwidth\":1,\"font\":{\"color\":\"black\",\"size\":10},\"showarrow\":false,\"text\":\"Grader (Somewhat RP)\",\"x\":-35.85196188639666,\"xref\":\"x2\",\"y\":0.3,\"yref\":\"y2\"},{\"bgcolor\":\"rgba(255, 255, 255, 0.9)\",\"bordercolor\":\"black\",\"borderwidth\":1,\"font\":{\"color\":\"black\",\"size\":10},\"showarrow\":false,\"text\":\"Wind (Fully RP)\",\"x\":64.97720569892105,\"xref\":\"x2\",\"y\":1.45,\"yref\":\"y2\"},{\"bgcolor\":\"rgba(255, 255, 255, 0.9)\",\"bordercolor\":\"black\",\"borderwidth\":1,\"font\":{\"color\":\"black\",\"size\":10},\"showarrow\":false,\"text\":\"Whale (Fully RP)\",\"x\":66.98821011357198,\"xref\":\"x2\",\"y\":0.6,\"yref\":\"y2\"},{\"bgcolor\":\"rgba(255, 255, 255, 0.9)\",\"bordercolor\":\"black\",\"borderwidth\":1,\"font\":{\"color\":\"black\",\"size\":10},\"showarrow\":false,\"text\":\"Zealot (Fully RP)\",\"x\":67.27839847745605,\"xref\":\"x2\",\"y\":1.9,\"yref\":\"y2\"},{\"bgcolor\":\"rgba(255, 255, 255, 0.9)\",\"bordercolor\":\"black\",\"borderwidth\":1,\"font\":{\"color\":\"black\",\"size\":10},\"showarrow\":false,\"text\":\"Wraith (Fully RP)\",\"x\":68.8671655375401,\"xref\":\"x2\",\"y\":0.15,\"yref\":\"y2\"},{\"bgcolor\":\"rgba(255, 255, 255, 0.9)\",\"bordercolor\":\"black\",\"borderwidth\":1,\"font\":{\"color\":\"black\",\"size\":10},\"showarrow\":false,\"text\":\"Tree (Fully RP)\",\"x\":69.00482127674962,\"xref\":\"x2\",\"y\":1.6,\"yref\":\"y2\"},{\"bgcolor\":\"rgba(255, 255, 255, 0.9)\",\"bordercolor\":\"black\",\"borderwidth\":1,\"font\":{\"color\":\"black\",\"size\":10},\"showarrow\":false,\"text\":\"Aberration (Fully RP)\",\"x\":69.95585972875978,\"xref\":\"x2\",\"y\":0.45,\"yref\":\"y2\"},{\"bgcolor\":\"rgba(255, 255, 255, 0.9)\",\"bordercolor\":\"black\",\"borderwidth\":1,\"font\":{\"color\":\"black\",\"size\":10},\"showarrow\":false,\"text\":\"Void (Fully RP)\",\"x\":74.08776787120311,\"xref\":\"x2\",\"y\":1.3,\"yref\":\"y2\"},{\"bgcolor\":\"rgba(255, 255, 255, 0.9)\",\"bordercolor\":\"black\",\"borderwidth\":1,\"font\":{\"color\":\"black\",\"size\":10},\"showarrow\":false,\"text\":\"Leviathan (Fully RP)\",\"x\":79.19789307087086,\"xref\":\"x2\",\"y\":0.75,\"yref\":\"y2\"},{\"bgcolor\":\"rgba(255, 255, 255, 0.9)\",\"bordercolor\":\"black\",\"borderwidth\":1,\"font\":{\"color\":\"black\",\"size\":10},\"showarrow\":false,\"text\":\"Eldritch (Fully RP)\",\"x\":79.26102515987519,\"xref\":\"x2\",\"y\":1.75,\"yref\":\"y2\"},{\"bgcolor\":\"rgba(255, 255, 255, 0.9)\",\"bordercolor\":\"black\",\"borderwidth\":1,\"font\":{\"color\":\"black\",\"size\":10},\"showarrow\":false,\"text\":\"Caveman (Fully RP)\",\"x\":86.47044637828765,\"xref\":\"x2\",\"y\":0.3,\"yref\":\"y2\"},{\"bgcolor\":\"rgba(255, 255, 255, 0.9)\",\"bordercolor\":\"red\",\"borderwidth\":1,\"font\":{\"color\":\"red\",\"size\":14},\"showarrow\":false,\"text\":\"Assistant\",\"x\":-34.71765411295307,\"xref\":\"x2\",\"y\":2.25,\"yref\":\"y2\"}],\"shapes\":[{\"line\":{\"color\":\"gray\",\"dash\":\"solid\",\"width\":1},\"opacity\":0.7,\"type\":\"line\",\"x0\":0,\"x1\":0,\"xref\":\"x\",\"y0\":0,\"y1\":1,\"yref\":\"y domain\"},{\"line\":{\"color\":\"red\",\"dash\":\"dash\",\"width\":1},\"opacity\":1.0,\"type\":\"line\",\"x0\":-0.7216800972947884,\"x1\":-0.7216800972947884,\"xref\":\"x\",\"y0\":0,\"y1\":1,\"yref\":\"y domain\"},{\"line\":{\"color\":\"gray\",\"dash\":\"solid\",\"width\":1},\"opacity\":0.7,\"type\":\"line\",\"x0\":0,\"x1\":0,\"xref\":\"x2\",\"y0\":0,\"y1\":1,\"yref\":\"y2 domain\"},{\"line\":{\"color\":\"red\",\"dash\":\"dash\",\"width\":1},\"opacity\":1.0,\"type\":\"line\",\"x0\":-34.71765411295307,\"x1\":-34.71765411295307,\"xref\":\"x2\",\"y0\":0,\"y1\":1,\"yref\":\"y2 domain\"}],\"title\":{\"subtitle\":{\"text\":\"Gemma 2 27B, Layer 22 - Shared Question Set, Mean-Centered and Scaled Vectors\"},\"font\":{\"size\":16},\"text\":\"PCA on Role-Playing Vectors\",\"x\":0.5},\"legend\":{\"x\":0.0,\"y\":1.04,\"xanchor\":\"left\",\"yanchor\":\"bottom\",\"bgcolor\":\"rgba(255, 255, 255, 0.8)\",\"bordercolor\":\"gray\",\"borderwidth\":1},\"height\":800,\"width\":1200,\"showlegend\":true,\"barmode\":\"stack\"},                        {\"responsive\": true}                    ).then(function(){\n",
       "                            \n",
       "var gd = document.getElementById('2eae60a7-451d-41c1-ba6d-d4174d605af9');\n",
       "var x = new MutationObserver(function (mutations, observer) {{\n",
       "        var display = window.getComputedStyle(gd).display;\n",
       "        if (!display || display === 'none') {{\n",
       "            console.log([gd, 'removed!']);\n",
       "            Plotly.purge(gd);\n",
       "            observer.disconnect();\n",
       "        }}\n",
       "}});\n",
       "\n",
       "// Listen for the removal of the full notebook cells\n",
       "var notebookContainer = gd.closest('#notebook-container');\n",
       "if (notebookContainer) {{\n",
       "    x.observe(notebookContainer, {childList: true});\n",
       "}}\n",
       "\n",
       "// Listen for the clearing of the current output cell\n",
       "var outputEl = gd.closest('.output');\n",
       "if (outputEl) {{\n",
       "    x.observe(outputEl, {childList: true});\n",
       "}}\n",
       "\n",
       "                        })                };                });            </script>        </div>"
      ]
     },
     "metadata": {},
     "output_type": "display_data"
    }
   ],
   "source": [
    "if normalized:\n",
    "    subtitle = f\"{model_name.replace('-', ' ')}, Layer {layer} - Shared Question Set, Unit Normalized Vectors\"\n",
    "else:\n",
    "    subtitle = f\"{model_name.replace('-', ' ')}, Layer {layer} - Shared Question Set, Mean-Centered and Scaled Vectors\"\n",
    "\n",
    "for i in range(1):\n",
    "    fig = plot_pc(\n",
    "        pca_results=pca_results,\n",
    "        role_labels=role_labels,\n",
    "        layer=layer,\n",
    "        pc_component=i,\n",
    "        assistant_activation=default_vectors['activations']['default_1'],\n",
    "        assistant_projection=asst_projected[0],\n",
    "        title=\"PCA on Role-Playing Vectors\",\n",
    "        subtitle=subtitle,\n",
    "        scaled=not normalized,\n",
    "    )\n",
    "    fig.show()\n",
    "\n",
    "    if not normalized:\n",
    "        fig.write_html(f\"{plot_dir}/pc{i+1}.html\")\n",
    "    else:\n",
    "        fig.write_html(f\"{plot_dir}/pc{i+1}_normalized.html\")\n"
   ]
  },
  {
   "cell_type": "code",
   "execution_count": null,
   "id": "12724638",
   "metadata": {},
   "outputs": [],
   "source": [
    "fig_3d = plot_3d_pca(\n",
    "    pca_results,\n",
    "    role_labels,\n",
    "    \"pos23\",\n",
    "    assistant_projection=asst_projected[0],\n",
    "    subtitle=f\"{model_name.replace('-', ' ')}, Layer {layer} - Shared Question Set\"\n",
    ")\n",
    "fig_3d.show()\n",
    "#fig_3d.write_html(f\"{plot_dir}/pca_3d.html\")"
   ]
  }
 ],
 "metadata": {
  "kernelspec": {
   "display_name": ".venv",
   "language": "python",
   "name": "python3"
  },
  "language_info": {
   "codemirror_mode": {
    "name": "ipython",
    "version": 3
   },
   "file_extension": ".py",
   "mimetype": "text/x-python",
   "name": "python",
   "nbconvert_exporter": "python",
   "pygments_lexer": "ipython3",
   "version": "3.13.5"
  }
 },
 "nbformat": 4,
 "nbformat_minor": 5
}
