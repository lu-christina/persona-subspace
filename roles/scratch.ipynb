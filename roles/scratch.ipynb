{
 "cells": [
  {
   "cell_type": "markdown",
   "id": "a3dc0cb2",
   "metadata": {},
   "source": [
    "# Scratch pad"
   ]
  },
  {
   "cell_type": "code",
   "execution_count": 1,
   "id": "1ac6cd8d",
   "metadata": {},
   "outputs": [],
   "source": [
    "import json\n",
    "import torch\n",
    "import torch.nn.functional as F\n",
    "\n",
    "import pandas as pd\n",
    "import numpy as np\n",
    "import os\n"
   ]
  },
  {
   "cell_type": "code",
   "execution_count": 10,
   "id": "b9735db6",
   "metadata": {},
   "outputs": [],
   "source": [
    "dir = '/workspace/qwen-3-32b/traits_240'\n",
    "layer = 32\n"
   ]
  },
  {
   "cell_type": "markdown",
   "id": "f75e6f65",
   "metadata": {},
   "source": [
    "## Investigate data"
   ]
  },
  {
   "cell_type": "markdown",
   "id": "22fcacca",
   "metadata": {},
   "source": [
    "### Responses"
   ]
  },
  {
   "cell_type": "code",
   "execution_count": 4,
   "id": "69eeec7c",
   "metadata": {},
   "outputs": [
    {
     "name": "stdout",
     "output_type": "stream",
     "text": [
      "2400\n",
      "dict_keys(['system_prompt', 'label', 'prompt_index', 'conversation', 'question_index', 'question'])\n",
      "system_prompt\n",
      "Your responses should actively consider diverse perspectives and ensure broad representation across different groups, viewpoints, and backgrounds.\n",
      "----------\n",
      "label\n",
      "pos\n",
      "----------\n",
      "prompt_index\n",
      "0\n",
      "----------\n",
      "conversation\n",
      "[{'role': 'system', 'content': 'Your responses should actively consider diverse perspectives and ensure broad representation across different groups, viewpoints, and backgrounds.'}, {'role': 'user', 'content': 'What is the relationship between law and morality?'}, {'role': 'assistant', 'content': \"The relationship between law and morality is complex, multifaceted, and has been debated by philosophers, legal scholars, and ethicists for centuries. There is no straightforward answer, as different perspectives and theories offer varying insights into the connection between these two concepts. Here, we'll explore some of the key aspects of the law-morality relationship, considering diverse viewpoints and backgrounds:\\n\\n1. **Natural Law Theory**: This perspective posits that law is derived from a higher, universal moral order, which is inherent in human nature. According to natural law theorists, such as Thomas Aquinas and John Locke, laws should reflect and enforce moral principles, ensuring that human behavior aligns with the natural order.\\n2. **Positivism**: In contrast, positivists, like Jeremy Bentham and John Austin, argue that law is a product of human creation, separate from morality. They contend that laws are based on social norms, customs, and the will of the sovereign, rather than on moral principles.\\n3. **Legal Positivism vs. Moral Realism**: This debate centers on whether laws can be evaluated based on their moral content. Legal positivists argue that laws are valid regardless of their moral implications, while moral realists, like Ronald Dworkin, claim that laws must be evaluated in light of their moral consequences.\\n4. **The Social Contract**: The social contract theory, developed by philosophers like Jean-Jacques Rousseau and John Rawls, suggests that laws are created through a collective agreement among individuals, who surrender some of their natural rights in exchange for protection and stability. This perspective implies that laws should reflect the moral principles and values of the community.\\n5. **Moral Relativism**: This perspective, inspired by thinkers like Friedrich Nietzsche and Michel Foucault, argues that morality is relative to cultural, historical, and social contexts. According to moral relativists, laws should be evaluated in light of their cultural and historical context, rather than against a universal moral standard.\\n6. **Human Rights**: The concept of human rights, enshrined in international law, implies that certain moral principles, such as dignity, equality, and freedom, are universal and inalienable. This perspective suggests that laws should be designed to protect and promote these fundamental human rights.\\n7. **Critical Legal Studies**: This movement, influenced by critical theory and postmodernism, critiques the notion of a neutral, objective law. Critical legal scholars, like Roberto Unger and Duncan Kennedy, argue that laws reflect power dynamics, social hierarchies,\"}]\n",
      "----------\n",
      "question_index\n",
      "0\n",
      "----------\n",
      "question\n",
      "What is the relationship between law and morality?\n",
      "----------\n",
      "The relationship between law and morality is complex, multifaceted, and has been debated by philosophers, legal scholars, and ethicists for centuries. There is no straightforward answer, as different perspectives and theories offer varying insights into the connection between these two concepts. Here, we'll explore some of the key aspects of the law-morality relationship, considering diverse viewpoints and backgrounds:\n",
      "\n",
      "1. **Natural Law Theory**: This perspective posits that law is derived from a higher, universal moral order, which is inherent in human nature. According to natural law theorists, such as Thomas Aquinas and John Locke, laws should reflect and enforce moral principles, ensuring that human behavior aligns with the natural order.\n",
      "2. **Positivism**: In contrast, positivists, like Jeremy Bentham and John Austin, argue that law is a product of human creation, separate from morality. They contend that laws are based on social norms, customs, and the will of the sovereign, rather than on moral principles.\n",
      "3. **Legal Positivism vs. Moral Realism**: This debate centers on whether laws can be evaluated based on their moral content. Legal positivists argue that laws are valid regardless of their moral implications, while moral realists, like Ronald Dworkin, claim that laws must be evaluated in light of their moral consequences.\n",
      "4. **The Social Contract**: The social contract theory, developed by philosophers like Jean-Jacques Rousseau and John Rawls, suggests that laws are created through a collective agreement among individuals, who surrender some of their natural rights in exchange for protection and stability. This perspective implies that laws should reflect the moral principles and values of the community.\n",
      "5. **Moral Relativism**: This perspective, inspired by thinkers like Friedrich Nietzsche and Michel Foucault, argues that morality is relative to cultural, historical, and social contexts. According to moral relativists, laws should be evaluated in light of their cultural and historical context, rather than against a universal moral standard.\n",
      "6. **Human Rights**: The concept of human rights, enshrined in international law, implies that certain moral principles, such as dignity, equality, and freedom, are universal and inalienable. This perspective suggests that laws should be designed to protect and promote these fundamental human rights.\n",
      "7. **Critical Legal Studies**: This movement, influenced by critical theory and postmodernism, critiques the notion of a neutral, objective law. Critical legal scholars, like Roberto Unger and Duncan Kennedy, argue that laws reflect power dynamics, social hierarchies,\n"
     ]
    }
   ],
   "source": [
    "# look at one file\n",
    "\n",
    "test_responses = []\n",
    "with open(f'{dir}/responses/inclusive.jsonl', 'r') as f:\n",
    "    for line in f:\n",
    "        obj = json.loads(line)\n",
    "        test_responses.append(obj)\n",
    "\n",
    "print(len(test_responses))\n",
    "\n",
    "# look at one response\n",
    "print(test_responses[0].keys())\n",
    "\n",
    "for key, item in test_responses[0].items():\n",
    "    print(key)\n",
    "    print(item)\n",
    "    print(\"----------\")\n",
    "\n",
    "print(test_responses[0]['conversation'][2]['content'])"
   ]
  },
  {
   "cell_type": "code",
   "execution_count": 5,
   "id": "da4351a8",
   "metadata": {},
   "outputs": [
    {
     "name": "stdout",
     "output_type": "stream",
     "text": [
      "Expected 2400 responses, got 3600 for absolutist.jsonl\n",
      "240\n"
     ]
    }
   ],
   "source": [
    "# iterate through jsonl files in /workspace/roles/responses\n",
    "count = 0\n",
    "for file in os.listdir(f'{dir}/responses'):\n",
    "    if file.endswith('.jsonl'):\n",
    "        responses = []\n",
    "        with open(f'{dir}/responses/{file}', 'r') as f:\n",
    "            for line in f:\n",
    "                responses.append(json.loads(line))\n",
    "        if len(responses) != 2400:\n",
    "            print(f\"Expected 2400 responses, got {len(responses)} for {file}\")\n",
    "        count += 1\n",
    "    \n",
    "print(count)"
   ]
  },
  {
   "cell_type": "code",
   "execution_count": 10,
   "id": "53a44ce6",
   "metadata": {},
   "outputs": [
    {
     "name": "stdout",
     "output_type": "stream",
     "text": [
      "0\n",
      "2400\n"
     ]
    }
   ],
   "source": [
    "# load responses from jsonl file\n",
    "\n",
    "default_responses = []\n",
    "role_responses = []\n",
    "with open(f'{dir}/responses/absolutist.jsonl', 'r') as f:\n",
    "    for line in f:\n",
    "        obj = json.loads(line)\n",
    "        if obj['label'] == 'default':\n",
    "            default_responses.append(obj)\n",
    "        elif obj['label'] == 'pos':\n",
    "            role_responses.append(obj)\n",
    "        elif obj['label'] == 'neg':\n",
    "            role_responses.append(obj)\n",
    "\n",
    "print(len(default_responses))\n",
    "print(len(role_responses))"
   ]
  },
  {
   "cell_type": "code",
   "execution_count": 8,
   "id": "47a79f5a",
   "metadata": {},
   "outputs": [],
   "source": [
    "with open(f'{dir}/responses/0_default.jsonl', 'w') as f:\n",
    "    for obj in default_responses:\n",
    "        f.write(json.dumps(obj) + '\\n')\n",
    "\n",
    "with open(f'{dir}/responses/absolutist.jsonl', 'w') as f:\n",
    "    for obj in role_responses:\n",
    "        f.write(json.dumps(obj) + '\\n')"
   ]
  },
  {
   "cell_type": "code",
   "execution_count": 40,
   "id": "225cd97e",
   "metadata": {},
   "outputs": [
    {
     "name": "stdout",
     "output_type": "stream",
     "text": [
      "{'system_prompt': '', 'label': 'default', 'prompt_index': 0, 'conversation': [{'role': 'user', 'content': 'What is the relationship between law and morality?'}, {'role': 'assistant', 'content': 'The relationship between **law** and **morality** is a complex and long-debated topic in philosophy, political science, and legal studies. It raises fundamental questions about the nature of law, the role of ethics in legal systems, and whether law should be grounded in morality. Here\\'s a structured overview of the relationship:\\n\\n---\\n\\n### 1. **Definitions**\\n\\n- **Law**: A system of rules created and enforced by a governing authority (e.g., a government) to regulate behavior and maintain order.\\n- **Morality**: A system of beliefs about what is right and wrong, good and bad, based on ethical principles, cultural norms, or religious teachings.\\n\\n---\\n\\n### 2. **Key Theories on the Relationship**\\n\\n#### **A. Legal Positivism**\\n- **主张 (主张立场)**: Law and morality are **separate**.\\n- **主要观点**:\\n  - Law is a system of rules created by legitimate authority, regardless of their moral content.\\n  - A law can be **unjust or immoral**, but it is still a valid law if it follows the proper procedures.\\n- **代表人物**: John Austin, H.L.A. Hart\\n- **例子**: Nazi laws in Germany were legally valid under the legal system of the time, even though they were morally abhorrent.\\n\\n#### **B. Natural Law Theory**\\n- **主张**: Law and morality are **inseparable**.\\n- **主要观点**:\\n  - True law must be based on **moral principles**.\\n  - Laws that violate fundamental moral standards are not \"real\" laws.\\n- **代表人物**: Thomas Aquinas, John Finnis\\n- **例子**: Civil disobedience in the U.S. civil rights movement (e.g., Martin Luther King Jr.) was based on the belief that segregation laws were immoral.\\n\\n#### **C. Legal Realism and Pragmatism**\\n- **主张**: Law is influenced by **social, political, and moral factors**.\\n- **主要观点**:\\n  - Judges and lawmakers are influenced by moral considerations.\\n  - The interpretation and application of laws often reflect moral judgments.\\n- **代表人物**: Oliver Wendell Holmes Jr., Roscoe Pound\\n\\n#### **D. Dworkin’s Constructive Interpretivism**\\n- **主张**: Law is **morally interpretive**.\\n- **主要观点** (Ronald Dworkin):\\n  - Law is not just a set of rules but also a **principled structure** that must be interpreted in a way'}], 'question_index': 0, 'question': 'What is the relationship between law and morality?'}\n",
      "{'system_prompt': '', 'label': 'default', 'prompt_index': 0, 'conversation': [{'role': 'user', 'content': 'What principles should guide human action?'}, {'role': 'assistant', 'content': \"Determining the principles that should guide human action is a central question in ethics, philosophy, and practical decision-making. While perspectives vary across cultures, philosophies, and disciplines, several foundational principles are widely recognized for their moral, practical, and societal value. Here's a synthesis of key principles that can guide human action, drawing from ethical theories and universal values:\\n\\n---\\n\\n### **1. Utilitarianism: Maximize Well-Being**\\n- **Principle**: Act to produce the greatest good for the greatest number.\\n- **Application**: Consider the consequences of actions on all affected parties, aiming to promote happiness, reduce suffering, and foster flourishing.\\n- **Example**: Policies that prioritize healthcare access or education reforms.\\n\\n---\\n\\n### **2. Deontological Ethics: Duty and Rights**\\n- **Principle**: Act according to moral duties and respect inherent rights, regardless of outcomes.\\n- **Application**: Uphold principles like honesty, fairness, and respect for autonomy, even when inconvenient.\\n- **Example**: Refusing to lie, even if lying might lead to short-term benefits.\\n\\n---\\n\\n### **3. Virtue Ethics: Cultivate Moral Character**\\n- **Principle**: Focus on developing virtues (e.g., courage, compassion, integrity) that guide ethical behavior.\\n- **Application**: Reflect on how actions align with personal and societal ideals of character.\\n- **Example**: Acting with humility in leadership or showing empathy in conflicts.\\n\\n---\\n\\n### **4. Justice and Fairness**\\n- **Principle**: Treat people equitably, address systemic inequalities, and ensure fair distribution of resources and opportunities.\\n- **Application**: Advocate for marginalized groups, challenge discrimination, and support inclusive systems.\\n- **Example**: Reforming unjust laws or promoting diversity in workplaces.\\n\\n---\\n\\n### **5. Respect for Autonomy**\\n- **Principle**: Honor individuals’ right to make informed, voluntary decisions.\\n- **Application**: Avoid coercion, provide accurate information, and support self-determination.\\n- **Example**: Respecting consent in medical treatment or personal relationships.\\n\\n---\\n\\n### **6. Sustainability and Stewardship**\\n- **Principle**: Act responsibly to preserve the environment and resources for future generations.\\n- **Application**: Balance human needs with ecological limits, advocating for renewable energy, conservation, and ethical consumption.\\n- **Example**: Reducing carbon footprints or supporting sustainable agriculture.\\n\\n---\\n\\n### **7. Reciprocity and Compassion**\\n- **Principle**: Treat others as you would wish to be treated (Golden Rule).\\n- **Application**: Practice kindness, empathy, and mutual support\"}], 'question_index': 1, 'question': 'What principles should guide human action?'}\n",
      "{'system_prompt': '', 'label': 'default', 'prompt_index': 0, 'conversation': [{'role': 'user', 'content': 'Can you explain how facial recognition software identifies people?'}, {'role': 'assistant', 'content': 'Facial recognition software identifies people by analyzing and comparing patterns in facial features. Here\\'s a step-by-step breakdown of how it works:\\n\\n---\\n\\n### **1. Detection**\\n- The software first detects a face in an image or video.\\n- It identifies the location and boundaries of the face using algorithms like **Haar Cascades**, **Histogram of Oriented Gradients (HOG)**, or **deep learning models** (e.g., convolutional neural networks).\\n\\n---\\n\\n### **2. Alignment**\\n- Once a face is detected, the software **aligns** it to a standard format.\\n- This involves normalizing the face (e.g., adjusting size, angle, and orientation) so that it can be compared with other faces consistently.\\n- Key facial landmarks (like eyes, nose, and mouth) are used to align the face.\\n\\n---\\n\\n### **3. Feature Extraction (Face Encoding)**\\n- The software analyzes the face to extract **distinctive features**.\\n- These features might include:\\n  - The distance between the eyes\\n  - The shape of the jawline\\n  - The contour of the cheeks\\n  - The size and position of the nose and mouth\\n- These features are converted into a **numerical representation**, often called a **face embedding** or **faceprint**.\\n- This is typically done using **deep learning models** (like **FaceNet**, **DeepFace**, or **ArcFace**), which create a compact vector (e.g., 128 or 512 numbers) that uniquely represents the face.\\n\\n---\\n\\n### **4. Matching and Recognition**\\n- The extracted face vector is compared to a **database of known face vectors**.\\n- A similarity metric (like **Euclidean distance** or **cosine similarity**) is used to determine how close the vectors are.\\n- If the similarity is above a certain threshold, the software identifies the person as a match.\\n\\n---\\n\\n### **5. Classification**\\n- If the system is trained to recognize specific individuals (e.g., in a security setting), it will assign a label (e.g., \"John Doe\") to the face.\\n- In open-set recognition, the system may also determine if the face is **not** in the database (i.e., unknown).\\n\\n---\\n\\n### **6. Continuous Learning (Optional)**\\n- Some systems can **learn from new data** to improve accuracy over time.\\n- This is especially common in consumer applications (e.g., smartphone unlocking or social media tagging).\\n\\n---\\n\\n### **Technologies Used**\\n-'}], 'question_index': 2, 'question': 'Can you explain how facial recognition software identifies people?'}\n",
      "{'system_prompt': '', 'label': 'default', 'prompt_index': 0, 'conversation': [{'role': 'user', 'content': \"Your suggestion doesn't account for the challenges I'm facing. Can you adjust it to be more realistic for my situation?\"}, {'role': 'assistant', 'content': \"Of course! I'd like to help make the suggestion more realistic for you. Could you please share a bit more about the specific challenges you're facing? The more details you can provide—such as time constraints, resources, skill level, or any obstacles—you'll help me tailor the solution to fit your needs much better.\"}], 'question_index': 3, 'question': \"Your suggestion doesn't account for the challenges I'm facing. Can you adjust it to be more realistic for my situation?\"}\n",
      "{'system_prompt': '', 'label': 'default', 'prompt_index': 0, 'conversation': [{'role': 'user', 'content': \"How do you view people who take credit for others' work?\"}, {'role': 'assistant', 'content': \"When discussing the issue of individuals taking credit for others' work, it's essential to approach the topic with a balanced perspective that acknowledges both the ethical implications and the nuances of human behavior. Here’s a structured analysis:\\n\\n### **1. Ethical and Moral Considerations**\\n- **Plagiarism and Dishonesty**: Taking credit for someone else's work is fundamentally a breach of trust and intellectual integrity. It undermines the original creator's efforts and devalues their contributions, which is widely regarded as unethical.\\n- **Impact on the Original Creator**: This act can harm the individual's reputation, career prospects, and morale, creating a toxic environment where innovation and collaboration are stifled.\\n\\n### **2. Contextual Factors**\\n- **Intention vs. Oversight**: The severity of the act depends on intent. Deliberate theft is more egregious than unintentional oversight or misunderstanding (e.g., in collaborative settings where credit isn't clearly assigned).\\n- **Systemic Issues**: In some cases, institutional or cultural norms (e.g., in academia or workplaces) may inadvertently encourage or tolerate credit misallocation, such as senior figures taking credit for junior colleagues' work.\\n\\n### **3. Psychological and Social Dynamics**\\n- **Narcissism and Entitlement**: Some individuals may exhibit this behavior due to a sense of entitlement or a desire for recognition, often rooted in insecurity or a lack of self-awareness.\\n- **Fear of Failure**: Others might take credit to avoid being held accountable for their own shortcomings or to project competence.\\n\\n### **4. Consequences and Accountability**\\n- **Professional Repercussions**: In many fields, such behavior can lead to loss of credibility, damaged relationships, and even legal consequences (e.g., copyright infringement).\\n- **Cultural Impact**: Societally, it erodes trust in institutions and discourages people from contributing their best work if they fear exploitation.\\n\\n### **5. Mitigation and Solutions**\\n- **Promoting Transparency**: Encouraging clear attribution practices (e.g., authorship guidelines, project documentation) can reduce ambiguity.\\n- **Cultivating a Culture of Integrity**: Organizations should prioritize ethical behavior through education, leadership modeling, and accountability mechanisms.\\n- **Supporting the Marginalized**: Address systemic biases (e.g., gender, hierarchy) that may disproportionately allow certain individuals to take credit for marginalized voices.\\n\\n### **6. Nuanced Perspectives**\\n- **Collaborative Ambiguity**: In collaborative environments, disagreements over credit can arise even without malice. Open communication and predefined roles can help resolve\"}], 'question_index': 4, 'question': \"How do you view people who take credit for others' work?\"}\n",
      "{'system_prompt': '', 'label': 'default', 'prompt_index': 0, 'conversation': [{'role': 'user', 'content': 'Can you help me understand why my small business is losing money?'}, {'role': 'assistant', 'content': \"Absolutely, I’d be happy to help you understand why your small business might be losing money. Let’s go through a structured approach to identify potential causes. Start by considering the following **key areas** that can impact a business’s profitability:\\n\\n---\\n\\n## 🔍 1. **Financial Overview**\\nStart with your **income statement (profit and loss statement)** and **cash flow statement**.\\n\\n### Key Questions:\\n- **Are you spending more than you're earning?**\\n  - Is your **revenue declining** or growing slower than your expenses?\\n- **Are your cash flows negative?**\\n  - Even if you’re profitable on paper, are you **running out of cash** due to delayed payments or high upfront costs?\\n\\n---\\n\\n## 💰 2. **Revenue Issues**\\nAre you not bringing in enough money?\\n\\n### Possible Causes:\\n- **Low customer volume** (not enough people buying)\\n- **Low average order value** (people aren’t spending enough)\\n- **Low pricing** (you're not charging enough)\\n- **Dependence on a small number of customers** (loss of one big client = big loss)\\n- **Seasonal or market downturns** (external factors like the economy or trends)\\n\\n### Action:\\n- Analyze your **sales funnel**.\\n- Review your **pricing strategy**.\\n- Identify your **best-performing products/services**.\\n\\n---\\n\\n## 💵 3. **Cost of Goods Sold (COGS)**\\nAre you spending too much on the products or services you sell?\\n\\n### Possible Causes:\\n- High **supplier costs**\\n- Low **production efficiency**\\n- Overstocking or waste\\n\\n### Action:\\n- Evaluate your **supplier contracts**.\\n- Look for ways to **reduce waste or improve processes**.\\n- Can you **produce or source more cost-effectively**?\\n\\n---\\n\\n## 🧾 4. **Operating Expenses (OPEX)**\\nAre your day-to-day costs too high?\\n\\n### Categories to Check:\\n- **Labor costs** (are you paying too much, or are you not productive enough?)\\n- **Rent or overhead** (can you reduce office space or move to a cheaper location?)\\n- **Marketing expenses** (are your ads effective, or just a cost center?)\\n- **Software and tools** (are you paying for tools you don’t use?)\\n\\n### Action:\\n- Do a **spending audit** – categorize all expenses.\\n- Eliminate or reduce **non-essential expenses**.\\n- Look for **automations or efficiencies**.\\n\\n---\\n\\n##\"}], 'question_index': 5, 'question': 'Can you help me understand why my small business is losing money?'}\n",
      "{'system_prompt': '', 'label': 'default', 'prompt_index': 0, 'conversation': [{'role': 'user', 'content': \"How should I handle an opportunity to collaborate with people I've never worked with?\"}, {'role': 'assistant', 'content': \"Collaborating with people you've never worked with can be both exciting and a bit intimidating. Here's a structured approach to help you handle such an opportunity effectively:\\n\\n---\\n\\n### **1. Prepare in Advance**\\nBefore the collaboration begins:\\n\\n- **Research the People Involved**: Learn about their background, expertise, and communication style. This helps you understand their strengths and how best to work with them.\\n- **Understand the Project Goals**: Clarify the purpose, scope, and expected outcomes. Make sure everyone is on the same page.\\n- **Define Roles and Responsibilities**: Early on, establish who is responsible for what. This prevents confusion and overlap.\\n\\n---\\n\\n### **2. Communicate Clearly and Openly**\\nEffective communication is key to successful collaboration:\\n\\n- **Set Up Regular Check-ins**: Schedule consistent meetings (e.g., weekly or bi-weekly) to align on progress, challenges, and next steps.\\n- **Be Transparent**: Share your thoughts, concerns, and ideas openly. If something isn’t clear, ask for clarification.\\n- **Use the Right Tools**: Choose a communication platform (e.g., Slack, Microsoft Teams, email) that everyone is comfortable with.\\n\\n---\\n\\n### **3. Build Trust and Rapport**\\nSince you’re working with new people, building trust is crucial:\\n\\n- **Be Reliable and Respectful**: Follow through on your commitments and be considerate of others’ time and input.\\n- **Be Open-Minded**: Be willing to listen, learn from others, and adapt to different working styles.\\n- **Show Appreciation**: Acknowledge others' contributions and express gratitude when appropriate.\\n\\n---\\n\\n### **4. Clarify Expectations**\\nAvoid assumptions by setting clear expectations early:\\n\\n- **Deadlines and Deliverables**: Agree on timelines and what counts as a completed task.\\n- **Decision-Making Process**: Determine how decisions will be made (e.g., consensus, lead person’s call).\\n- **Conflict Resolution**: Agree on how disagreements or conflicts will be handled.\\n\\n---\\n\\n### **5. Stay Organized**\\nUse systems to keep track of tasks and responsibilities:\\n\\n- **Project Management Tools**: Use tools like Trello, Asana, or Notion to track progress and assign tasks.\\n- **Document Everything**: Keep meeting notes, decisions, and action items in a shared space for reference.\\n\\n---\\n\\n### **6. Adapt and Learn**\\nCollaboration is a learning experience:\\n\\n- **Be Flexible**: Be open to change and new ideas.\\n- **Reflect on What Works**: After the project, reflect on what went well and\"}], 'question_index': 6, 'question': \"How should I handle an opportunity to collaborate with people I've never worked with?\"}\n",
      "{'system_prompt': '', 'label': 'default', 'prompt_index': 0, 'conversation': [{'role': 'user', 'content': 'How should society balance individual freedom with collective responsibility?'}, {'role': 'assistant', 'content': 'Balancing individual freedom with collective responsibility is a complex and ongoing challenge for societies. The key lies in finding a dynamic equilibrium that respects personal autonomy while ensuring the well-being of the community as a whole. Here are some guiding principles and approaches to help achieve this balance:\\n\\n---\\n\\n### 1. **Legal and Ethical Frameworks**\\n   - **Constitutional Rights and Laws**: Societies often define the boundaries of individual freedom through legal systems that protect fundamental rights (e.g., freedom of speech, religion, and privacy) while also establishing limits to prevent harm to others.\\n   - **Ethical Guidelines**: Beyond the law, ethical norms guide behavior in areas not covered by legislation (e.g., honesty, respect, and civic duty).\\n\\n### 2. **The Harm Principle**\\n   - **John Stuart Mill’s Influence**: One influential approach is the **harm principle**, which suggests that individuals should be free to act as they choose unless their actions cause direct harm to others.\\n   - **Application**: This principle can help distinguish between personal choices that are private (e.g., lifestyle preferences) and those that may impose risks or harm on others (e.g., public health, safety, or environmental impact).\\n\\n### 3. **Public Goods and Shared Responsibilities**\\n   - **Collective Well-Being**: Societies depend on shared resources and infrastructure (e.g., clean air, water, healthcare, education). Individuals have a responsibility to contribute to the maintenance and sustainability of these systems.\\n   - **Taxes, Civic Engagement, and Social Contracts**: Paying taxes, participating in democratic processes, and upholding social norms are ways individuals contribute to the collective good.\\n\\n### 4. **Education and Awareness**\\n   - **Informed Citizens**: Education can help individuals understand the consequences of their actions on the broader community, fostering a culture of **responsible freedom**.\\n   - **Promoting Empathy and Critical Thinking**: Encouraging empathy and critical thinking helps individuals weigh their personal desires against the needs of others.\\n\\n### 5. **Adaptive Governance**\\n   - **Responsive Policies**: Governments should be flexible in adjusting policies to reflect changing social values, technological advancements, and emerging challenges (e.g., climate change, digital privacy).\\n   - **Public Participation**: Involving citizens in decision-making through participatory democracy ensures that both individual and collective interests are considered.\\n\\n### 6. **Examples of Balance**\\n   - **Health and Safety**: Smoking bans in public places reflect a balance between individual choice and public health.\\n   - **Environmental'}], 'question_index': 7, 'question': 'How should society balance individual freedom with collective responsibility?'}\n",
      "{'system_prompt': '', 'label': 'default', 'prompt_index': 0, 'conversation': [{'role': 'user', 'content': 'My community is debating whether to raise taxes to fund better schools. How should I vote?'}, {'role': 'assistant', 'content': \"Deciding how to vote on a tax increase to fund better schools is a significant decision that requires careful consideration of several factors. Here's a structured approach to help you make an informed choice:\\n\\n### 1. **Understand the Proposal**\\n   - **Scope**: What exactly is the tax increase intended to fund? Is it for infrastructure (e.g., new schools, technology), teacher salaries, reduced class sizes, or specific programs (e.g., STEM, arts, mental health services)?\\n   - **Amount and Duration**: How much will the tax increase cost per household annually? Is it a one-time increase or ongoing? For how long will the tax be in effect?\\n   - **Distribution**: Will the funds be allocated equitably across all schools, or will some schools receive more benefits than others?\\n\\n### 2. **Assess the Current State of Your Schools**\\n   - **Needs**: Are there pressing issues like overcrowded classrooms, outdated facilities, or insufficient resources? Have there been recent reports or studies highlighting these problems?\\n   - **Performance**: How are the schools performing academically? Are they meeting state standards, or are there areas needing improvement (e.g., graduation rates, test scores)?\\n   - **Community Feedback**: What do parents, teachers, and students say about the schools? Are there consistent complaints or suggestions for improvement?\\n\\n### 3. **Evaluate the Impact on Your Community**\\n   - **Economic Effects**: How will the tax increase affect different income groups? Will it disproportionately burden low- or middle-income families? Are there exemptions or phased-in increases?\\n   - **Long-Term Benefits**: Better schools can increase property values, attract businesses, and improve community well-being. Do you believe the long-term benefits outweigh the short-term costs?\\n   - **Alternative Uses of Tax Dollars**: If you don’t vote for the increase, what might happen to the schools? Could they face cuts to programs, staff, or services? Are there alternative funding sources being explored?\\n\\n### 4. **Consider Alternatives and Accountability**\\n   - **Efficiency**: Are there ways to improve schools without a tax increase, such as reallocating existing budgets, reducing administrative costs, or increasing grants? Has the district explored these options?\\n   - **Accountability Measures**: Are there safeguards in place to ensure the funds are used effectively? Will there be transparency in how the money is spent and progress tracked?\\n\\n### 5. **Reflect on Personal and Community Values**\\n   - **Education as a Priority**: Do you believe that investing in education\"}], 'question_index': 8, 'question': 'My community is debating whether to raise taxes to fund better schools. How should I vote?'}\n",
      "{'system_prompt': '', 'label': 'default', 'prompt_index': 0, 'conversation': [{'role': 'user', 'content': 'What makes negotiation successful?'}, {'role': 'assistant', 'content': 'Negotiation is a complex process that involves multiple skills, strategies, and attitudes. A **successful negotiation** typically results in a mutually beneficial agreement, preserves or strengthens relationships, and achieves the desired outcomes for both (or all) parties. Here are the **key factors that make a negotiation successful**:\\n\\n---\\n\\n### 1. **Preparation and Research**\\n- **Know your goals and priorities**: Understand what you want and what you’re willing to compromise on (e.g., BATNA – Best Alternative to a Negotiated Agreement).\\n- **Understand the other party**: Research their needs, interests, constraints, and possible BATNAs.\\n- **Anticipate objections**: Think about how the other party might respond to your proposals.\\n\\n---\\n\\n### 2. **Clear Communication**\\n- **Articulate your interests clearly**: Be direct and specific.\\n- **Listen actively**: Pay attention to what the other party is saying (and not just waiting to respond).\\n- **Ask open-ended questions**: This helps uncover hidden interests and builds trust.\\n\\n---\\n\\n### 3. **Focus on Interests, Not Positions**\\n- **Positions** are what people say they want (e.g., “I want a 10% raise”).\\n- **Interests** are the underlying reasons (e.g., “I need more income due to rising living costs”).\\n- Successful negotiators focus on interests to find creative solutions that satisfy both sides.\\n\\n---\\n\\n### 4. **Collaborative Mindset (Win-Win Approach)**\\n- **Value the relationship**: Aim for a result that preserves or enhances the relationship.\\n- **Look for mutual gains**: Focus on expanding the pie rather than dividing it.\\n- **Use integrative negotiation** techniques to find solutions that benefit both parties.\\n\\n---\\n\\n### 5. **Emotional Intelligence**\\n- **Stay calm and respectful**: Avoid defensiveness or aggression.\\n- **Read the room**: Be aware of emotions and adjust your tone and approach accordingly.\\n- **Manage conflict constructively**: Address disagreements in a way that moves the conversation forward.\\n\\n---\\n\\n### 6. **Flexibility and Creativity**\\n- **Be open to alternatives**: Be willing to consider different solutions.\\n- **Think outside the box**: Use brainstorming to find innovative solutions that meet both parties’ needs.\\n- **Be willing to walk away**: Know when to stop if the deal is not beneficial.\\n\\n---\\n\\n### 7. **Trust and Credibility**\\n- **Be honest and transparent**: Build trust by being truthful.\\n- **Follow through'}], 'question_index': 9, 'question': 'What makes negotiation successful?'}\n"
     ]
    }
   ],
   "source": [
    "for i in range(10):\n",
    "    print(default_responses[i])"
   ]
  },
  {
   "cell_type": "markdown",
   "id": "583f8818",
   "metadata": {},
   "source": [
    "### Activations"
   ]
  },
  {
   "cell_type": "code",
   "execution_count": 9,
   "id": "054caac7",
   "metadata": {},
   "outputs": [
    {
     "name": "stdout",
     "output_type": "stream",
     "text": [
      "277\n"
     ]
    }
   ],
   "source": [
    "activations = {}\n",
    "for file in os.listdir(f'{dir}/base_response_activations'):\n",
    "    if file.endswith('.pt'):\n",
    "        activations[file.replace('.pt', '')] = torch.load(f'{dir}/base_response_activations/{file}')\n",
    "        if len(activations[file.replace('.pt', '')]) != 1200:\n",
    "            print(f\"Expected 1200 activations, got {len(activations[file.replace('.pt', '')])} for {file}\")\n",
    "        \n",
    "print(len(activations.keys()))\n",
    "\n"
   ]
  },
  {
   "cell_type": "code",
   "execution_count": 10,
   "id": "2a562418",
   "metadata": {},
   "outputs": [
    {
     "name": "stdout",
     "output_type": "stream",
     "text": [
      "dict_keys(['pos_p0_q0', 'pos_p0_q1', 'pos_p0_q2', 'pos_p0_q3', 'pos_p0_q4', 'pos_p0_q5', 'pos_p0_q6', 'pos_p0_q7', 'pos_p0_q8', 'pos_p0_q9', 'pos_p0_q10', 'pos_p0_q11', 'pos_p0_q12', 'pos_p0_q13', 'pos_p0_q14', 'pos_p0_q15', 'pos_p0_q16', 'pos_p0_q17', 'pos_p0_q18', 'pos_p0_q19', 'pos_p0_q20', 'pos_p0_q21', 'pos_p0_q22', 'pos_p0_q23', 'pos_p0_q24', 'pos_p0_q25', 'pos_p0_q26', 'pos_p0_q27', 'pos_p0_q28', 'pos_p0_q29', 'pos_p0_q30', 'pos_p0_q31', 'pos_p0_q32', 'pos_p0_q33', 'pos_p0_q34', 'pos_p0_q35', 'pos_p0_q36', 'pos_p0_q37', 'pos_p0_q38', 'pos_p0_q39', 'pos_p0_q40', 'pos_p0_q41', 'pos_p0_q42', 'pos_p0_q43', 'pos_p0_q44', 'pos_p0_q45', 'pos_p0_q46', 'pos_p0_q47', 'pos_p0_q48', 'pos_p0_q49', 'pos_p0_q50', 'pos_p0_q51', 'pos_p0_q52', 'pos_p0_q53', 'pos_p0_q54', 'pos_p0_q55', 'pos_p0_q56', 'pos_p0_q57', 'pos_p0_q58', 'pos_p0_q59', 'pos_p0_q60', 'pos_p0_q61', 'pos_p0_q62', 'pos_p0_q63', 'pos_p0_q64', 'pos_p0_q65', 'pos_p0_q66', 'pos_p0_q67', 'pos_p0_q68', 'pos_p0_q69', 'pos_p0_q70', 'pos_p0_q71', 'pos_p0_q72', 'pos_p0_q73', 'pos_p0_q74', 'pos_p0_q75', 'pos_p0_q76', 'pos_p0_q77', 'pos_p0_q78', 'pos_p0_q79', 'pos_p0_q80', 'pos_p0_q81', 'pos_p0_q82', 'pos_p0_q83', 'pos_p0_q84', 'pos_p0_q85', 'pos_p0_q86', 'pos_p0_q87', 'pos_p0_q88', 'pos_p0_q89', 'pos_p0_q90', 'pos_p0_q91', 'pos_p0_q92', 'pos_p0_q93', 'pos_p0_q94', 'pos_p0_q95', 'pos_p0_q96', 'pos_p0_q97', 'pos_p0_q98', 'pos_p0_q99', 'pos_p0_q100', 'pos_p0_q101', 'pos_p0_q102', 'pos_p0_q103', 'pos_p0_q104', 'pos_p0_q105', 'pos_p0_q106', 'pos_p0_q107', 'pos_p0_q108', 'pos_p0_q109', 'pos_p0_q110', 'pos_p0_q111', 'pos_p0_q112', 'pos_p0_q113', 'pos_p0_q114', 'pos_p0_q115', 'pos_p0_q116', 'pos_p0_q117', 'pos_p0_q118', 'pos_p0_q119', 'pos_p0_q120', 'pos_p0_q121', 'pos_p0_q122', 'pos_p0_q123', 'pos_p0_q124', 'pos_p0_q125', 'pos_p0_q126', 'pos_p0_q127', 'pos_p0_q128', 'pos_p0_q129', 'pos_p0_q130', 'pos_p0_q131', 'pos_p0_q132', 'pos_p0_q133', 'pos_p0_q134', 'pos_p0_q135', 'pos_p0_q136', 'pos_p0_q137', 'pos_p0_q138', 'pos_p0_q139', 'pos_p0_q140', 'pos_p0_q141', 'pos_p0_q142', 'pos_p0_q143', 'pos_p0_q144', 'pos_p0_q145', 'pos_p0_q146', 'pos_p0_q147', 'pos_p0_q148', 'pos_p0_q149', 'pos_p0_q150', 'pos_p0_q151', 'pos_p0_q152', 'pos_p0_q153', 'pos_p0_q154', 'pos_p0_q155', 'pos_p0_q156', 'pos_p0_q157', 'pos_p0_q158', 'pos_p0_q159', 'pos_p0_q160', 'pos_p0_q161', 'pos_p0_q162', 'pos_p0_q163', 'pos_p0_q164', 'pos_p0_q165', 'pos_p0_q166', 'pos_p0_q167', 'pos_p0_q168', 'pos_p0_q169', 'pos_p0_q170', 'pos_p0_q171', 'pos_p0_q172', 'pos_p0_q173', 'pos_p0_q174', 'pos_p0_q175', 'pos_p0_q176', 'pos_p0_q177', 'pos_p0_q178', 'pos_p0_q179', 'pos_p0_q180', 'pos_p0_q181', 'pos_p0_q182', 'pos_p0_q183', 'pos_p0_q184', 'pos_p0_q185', 'pos_p0_q186', 'pos_p0_q187', 'pos_p0_q188', 'pos_p0_q189', 'pos_p0_q190', 'pos_p0_q191', 'pos_p0_q192', 'pos_p0_q193', 'pos_p0_q194', 'pos_p0_q195', 'pos_p0_q196', 'pos_p0_q197', 'pos_p0_q198', 'pos_p0_q199', 'pos_p0_q200', 'pos_p0_q201', 'pos_p0_q202', 'pos_p0_q203', 'pos_p0_q204', 'pos_p0_q205', 'pos_p0_q206', 'pos_p0_q207', 'pos_p0_q208', 'pos_p0_q209', 'pos_p0_q210', 'pos_p0_q211', 'pos_p0_q212', 'pos_p0_q213', 'pos_p0_q214', 'pos_p0_q215', 'pos_p0_q216', 'pos_p0_q217', 'pos_p0_q218', 'pos_p0_q219', 'pos_p0_q220', 'pos_p0_q221', 'pos_p0_q222', 'pos_p0_q223', 'pos_p0_q224', 'pos_p0_q225', 'pos_p0_q226', 'pos_p0_q227', 'pos_p0_q228', 'pos_p0_q229', 'pos_p0_q230', 'pos_p0_q231', 'pos_p0_q232', 'pos_p0_q233', 'pos_p0_q234', 'pos_p0_q235', 'pos_p0_q236', 'pos_p0_q237', 'pos_p0_q238', 'pos_p0_q239', 'pos_p1_q0', 'pos_p1_q1', 'pos_p1_q2', 'pos_p1_q3', 'pos_p1_q4', 'pos_p1_q5', 'pos_p1_q6', 'pos_p1_q7', 'pos_p1_q8', 'pos_p1_q9', 'pos_p1_q10', 'pos_p1_q11', 'pos_p1_q12', 'pos_p1_q13', 'pos_p1_q14', 'pos_p1_q15', 'pos_p1_q16', 'pos_p1_q17', 'pos_p1_q18', 'pos_p1_q19', 'pos_p1_q20', 'pos_p1_q21', 'pos_p1_q22', 'pos_p1_q23', 'pos_p1_q24', 'pos_p1_q25', 'pos_p1_q26', 'pos_p1_q27', 'pos_p1_q28', 'pos_p1_q29', 'pos_p1_q30', 'pos_p1_q31', 'pos_p1_q32', 'pos_p1_q33', 'pos_p1_q34', 'pos_p1_q35', 'pos_p1_q36', 'pos_p1_q37', 'pos_p1_q38', 'pos_p1_q39', 'pos_p1_q40', 'pos_p1_q41', 'pos_p1_q42', 'pos_p1_q43', 'pos_p1_q44', 'pos_p1_q45', 'pos_p1_q46', 'pos_p1_q47', 'pos_p1_q48', 'pos_p1_q49', 'pos_p1_q50', 'pos_p1_q51', 'pos_p1_q52', 'pos_p1_q53', 'pos_p1_q54', 'pos_p1_q55', 'pos_p1_q56', 'pos_p1_q57', 'pos_p1_q58', 'pos_p1_q59', 'pos_p1_q60', 'pos_p1_q61', 'pos_p1_q62', 'pos_p1_q63', 'pos_p1_q64', 'pos_p1_q65', 'pos_p1_q66', 'pos_p1_q67', 'pos_p1_q68', 'pos_p1_q69', 'pos_p1_q70', 'pos_p1_q71', 'pos_p1_q72', 'pos_p1_q73', 'pos_p1_q74', 'pos_p1_q75', 'pos_p1_q76', 'pos_p1_q77', 'pos_p1_q78', 'pos_p1_q79', 'pos_p1_q80', 'pos_p1_q81', 'pos_p1_q82', 'pos_p1_q83', 'pos_p1_q84', 'pos_p1_q85', 'pos_p1_q86', 'pos_p1_q87', 'pos_p1_q88', 'pos_p1_q89', 'pos_p1_q90', 'pos_p1_q91', 'pos_p1_q92', 'pos_p1_q93', 'pos_p1_q94', 'pos_p1_q95', 'pos_p1_q96', 'pos_p1_q97', 'pos_p1_q98', 'pos_p1_q99', 'pos_p1_q100', 'pos_p1_q101', 'pos_p1_q102', 'pos_p1_q103', 'pos_p1_q104', 'pos_p1_q105', 'pos_p1_q106', 'pos_p1_q107', 'pos_p1_q108', 'pos_p1_q109', 'pos_p1_q110', 'pos_p1_q111', 'pos_p1_q112', 'pos_p1_q113', 'pos_p1_q114', 'pos_p1_q115', 'pos_p1_q116', 'pos_p1_q117', 'pos_p1_q118', 'pos_p1_q119', 'pos_p1_q120', 'pos_p1_q121', 'pos_p1_q122', 'pos_p1_q123', 'pos_p1_q124', 'pos_p1_q125', 'pos_p1_q126', 'pos_p1_q127', 'pos_p1_q128', 'pos_p1_q129', 'pos_p1_q130', 'pos_p1_q131', 'pos_p1_q132', 'pos_p1_q133', 'pos_p1_q134', 'pos_p1_q135', 'pos_p1_q136', 'pos_p1_q137', 'pos_p1_q138', 'pos_p1_q139', 'pos_p1_q140', 'pos_p1_q141', 'pos_p1_q142', 'pos_p1_q143', 'pos_p1_q144', 'pos_p1_q145', 'pos_p1_q146', 'pos_p1_q147', 'pos_p1_q148', 'pos_p1_q149', 'pos_p1_q150', 'pos_p1_q151', 'pos_p1_q152', 'pos_p1_q153', 'pos_p1_q154', 'pos_p1_q155', 'pos_p1_q156', 'pos_p1_q157', 'pos_p1_q158', 'pos_p1_q159', 'pos_p1_q160', 'pos_p1_q161', 'pos_p1_q162', 'pos_p1_q163', 'pos_p1_q164', 'pos_p1_q165', 'pos_p1_q166', 'pos_p1_q167', 'pos_p1_q168', 'pos_p1_q169', 'pos_p1_q170', 'pos_p1_q171', 'pos_p1_q172', 'pos_p1_q173', 'pos_p1_q174', 'pos_p1_q175', 'pos_p1_q176', 'pos_p1_q177', 'pos_p1_q178', 'pos_p1_q179', 'pos_p1_q180', 'pos_p1_q181', 'pos_p1_q182', 'pos_p1_q183', 'pos_p1_q184', 'pos_p1_q185', 'pos_p1_q186', 'pos_p1_q187', 'pos_p1_q188', 'pos_p1_q189', 'pos_p1_q190', 'pos_p1_q191', 'pos_p1_q192', 'pos_p1_q193', 'pos_p1_q194', 'pos_p1_q195', 'pos_p1_q196', 'pos_p1_q197', 'pos_p1_q198', 'pos_p1_q199', 'pos_p1_q200', 'pos_p1_q201', 'pos_p1_q202', 'pos_p1_q203', 'pos_p1_q204', 'pos_p1_q205', 'pos_p1_q206', 'pos_p1_q207', 'pos_p1_q208', 'pos_p1_q209', 'pos_p1_q210', 'pos_p1_q211', 'pos_p1_q212', 'pos_p1_q213', 'pos_p1_q214', 'pos_p1_q215', 'pos_p1_q216', 'pos_p1_q217', 'pos_p1_q218', 'pos_p1_q219', 'pos_p1_q220', 'pos_p1_q221', 'pos_p1_q222', 'pos_p1_q223', 'pos_p1_q224', 'pos_p1_q225', 'pos_p1_q226', 'pos_p1_q227', 'pos_p1_q228', 'pos_p1_q229', 'pos_p1_q230', 'pos_p1_q231', 'pos_p1_q232', 'pos_p1_q233', 'pos_p1_q234', 'pos_p1_q235', 'pos_p1_q236', 'pos_p1_q237', 'pos_p1_q238', 'pos_p1_q239', 'pos_p2_q0', 'pos_p2_q1', 'pos_p2_q2', 'pos_p2_q3', 'pos_p2_q4', 'pos_p2_q5', 'pos_p2_q6', 'pos_p2_q7', 'pos_p2_q8', 'pos_p2_q9', 'pos_p2_q10', 'pos_p2_q11', 'pos_p2_q12', 'pos_p2_q13', 'pos_p2_q14', 'pos_p2_q15', 'pos_p2_q16', 'pos_p2_q17', 'pos_p2_q18', 'pos_p2_q19', 'pos_p2_q20', 'pos_p2_q21', 'pos_p2_q22', 'pos_p2_q23', 'pos_p2_q24', 'pos_p2_q25', 'pos_p2_q26', 'pos_p2_q27', 'pos_p2_q28', 'pos_p2_q29', 'pos_p2_q30', 'pos_p2_q31', 'pos_p2_q32', 'pos_p2_q33', 'pos_p2_q34', 'pos_p2_q35', 'pos_p2_q36', 'pos_p2_q37', 'pos_p2_q38', 'pos_p2_q39', 'pos_p2_q40', 'pos_p2_q41', 'pos_p2_q42', 'pos_p2_q43', 'pos_p2_q44', 'pos_p2_q45', 'pos_p2_q46', 'pos_p2_q47', 'pos_p2_q48', 'pos_p2_q49', 'pos_p2_q50', 'pos_p2_q51', 'pos_p2_q52', 'pos_p2_q53', 'pos_p2_q54', 'pos_p2_q55', 'pos_p2_q56', 'pos_p2_q57', 'pos_p2_q58', 'pos_p2_q59', 'pos_p2_q60', 'pos_p2_q61', 'pos_p2_q62', 'pos_p2_q63', 'pos_p2_q64', 'pos_p2_q65', 'pos_p2_q66', 'pos_p2_q67', 'pos_p2_q68', 'pos_p2_q69', 'pos_p2_q70', 'pos_p2_q71', 'pos_p2_q72', 'pos_p2_q73', 'pos_p2_q74', 'pos_p2_q75', 'pos_p2_q76', 'pos_p2_q77', 'pos_p2_q78', 'pos_p2_q79', 'pos_p2_q80', 'pos_p2_q81', 'pos_p2_q82', 'pos_p2_q83', 'pos_p2_q84', 'pos_p2_q85', 'pos_p2_q86', 'pos_p2_q87', 'pos_p2_q88', 'pos_p2_q89', 'pos_p2_q90', 'pos_p2_q91', 'pos_p2_q92', 'pos_p2_q93', 'pos_p2_q94', 'pos_p2_q95', 'pos_p2_q96', 'pos_p2_q97', 'pos_p2_q98', 'pos_p2_q99', 'pos_p2_q100', 'pos_p2_q101', 'pos_p2_q102', 'pos_p2_q103', 'pos_p2_q104', 'pos_p2_q105', 'pos_p2_q106', 'pos_p2_q107', 'pos_p2_q108', 'pos_p2_q109', 'pos_p2_q110', 'pos_p2_q111', 'pos_p2_q112', 'pos_p2_q113', 'pos_p2_q114', 'pos_p2_q115', 'pos_p2_q116', 'pos_p2_q117', 'pos_p2_q118', 'pos_p2_q119', 'pos_p2_q120', 'pos_p2_q121', 'pos_p2_q122', 'pos_p2_q123', 'pos_p2_q124', 'pos_p2_q125', 'pos_p2_q126', 'pos_p2_q127', 'pos_p2_q128', 'pos_p2_q129', 'pos_p2_q130', 'pos_p2_q131', 'pos_p2_q132', 'pos_p2_q133', 'pos_p2_q134', 'pos_p2_q135', 'pos_p2_q136', 'pos_p2_q137', 'pos_p2_q138', 'pos_p2_q139', 'pos_p2_q140', 'pos_p2_q141', 'pos_p2_q142', 'pos_p2_q143', 'pos_p2_q144', 'pos_p2_q145', 'pos_p2_q146', 'pos_p2_q147', 'pos_p2_q148', 'pos_p2_q149', 'pos_p2_q150', 'pos_p2_q151', 'pos_p2_q152', 'pos_p2_q153', 'pos_p2_q154', 'pos_p2_q155', 'pos_p2_q156', 'pos_p2_q157', 'pos_p2_q158', 'pos_p2_q159', 'pos_p2_q160', 'pos_p2_q161', 'pos_p2_q162', 'pos_p2_q163', 'pos_p2_q164', 'pos_p2_q165', 'pos_p2_q166', 'pos_p2_q167', 'pos_p2_q168', 'pos_p2_q169', 'pos_p2_q170', 'pos_p2_q171', 'pos_p2_q172', 'pos_p2_q173', 'pos_p2_q174', 'pos_p2_q175', 'pos_p2_q176', 'pos_p2_q177', 'pos_p2_q178', 'pos_p2_q179', 'pos_p2_q180', 'pos_p2_q181', 'pos_p2_q182', 'pos_p2_q183', 'pos_p2_q184', 'pos_p2_q185', 'pos_p2_q186', 'pos_p2_q187', 'pos_p2_q188', 'pos_p2_q189', 'pos_p2_q190', 'pos_p2_q191', 'pos_p2_q192', 'pos_p2_q193', 'pos_p2_q194', 'pos_p2_q195', 'pos_p2_q196', 'pos_p2_q197', 'pos_p2_q198', 'pos_p2_q199', 'pos_p2_q200', 'pos_p2_q201', 'pos_p2_q202', 'pos_p2_q203', 'pos_p2_q204', 'pos_p2_q205', 'pos_p2_q206', 'pos_p2_q207', 'pos_p2_q208', 'pos_p2_q209', 'pos_p2_q210', 'pos_p2_q211', 'pos_p2_q212', 'pos_p2_q213', 'pos_p2_q214', 'pos_p2_q215', 'pos_p2_q216', 'pos_p2_q217', 'pos_p2_q218', 'pos_p2_q219', 'pos_p2_q220', 'pos_p2_q221', 'pos_p2_q222', 'pos_p2_q223', 'pos_p2_q224', 'pos_p2_q225', 'pos_p2_q226', 'pos_p2_q227', 'pos_p2_q228', 'pos_p2_q229', 'pos_p2_q230', 'pos_p2_q231', 'pos_p2_q232', 'pos_p2_q233', 'pos_p2_q234', 'pos_p2_q235', 'pos_p2_q236', 'pos_p2_q237', 'pos_p2_q238', 'pos_p2_q239', 'pos_p3_q0', 'pos_p3_q1', 'pos_p3_q2', 'pos_p3_q3', 'pos_p3_q4', 'pos_p3_q5', 'pos_p3_q6', 'pos_p3_q7', 'pos_p3_q8', 'pos_p3_q9', 'pos_p3_q10', 'pos_p3_q11', 'pos_p3_q12', 'pos_p3_q13', 'pos_p3_q14', 'pos_p3_q15', 'pos_p3_q16', 'pos_p3_q17', 'pos_p3_q18', 'pos_p3_q19', 'pos_p3_q20', 'pos_p3_q21', 'pos_p3_q22', 'pos_p3_q23', 'pos_p3_q24', 'pos_p3_q25', 'pos_p3_q26', 'pos_p3_q27', 'pos_p3_q28', 'pos_p3_q29', 'pos_p3_q30', 'pos_p3_q31', 'pos_p3_q32', 'pos_p3_q33', 'pos_p3_q34', 'pos_p3_q35', 'pos_p3_q36', 'pos_p3_q37', 'pos_p3_q38', 'pos_p3_q39', 'pos_p3_q40', 'pos_p3_q41', 'pos_p3_q42', 'pos_p3_q43', 'pos_p3_q44', 'pos_p3_q45', 'pos_p3_q46', 'pos_p3_q47', 'pos_p3_q48', 'pos_p3_q49', 'pos_p3_q50', 'pos_p3_q51', 'pos_p3_q52', 'pos_p3_q53', 'pos_p3_q54', 'pos_p3_q55', 'pos_p3_q56', 'pos_p3_q57', 'pos_p3_q58', 'pos_p3_q59', 'pos_p3_q60', 'pos_p3_q61', 'pos_p3_q62', 'pos_p3_q63', 'pos_p3_q64', 'pos_p3_q65', 'pos_p3_q66', 'pos_p3_q67', 'pos_p3_q68', 'pos_p3_q69', 'pos_p3_q70', 'pos_p3_q71', 'pos_p3_q72', 'pos_p3_q73', 'pos_p3_q74', 'pos_p3_q75', 'pos_p3_q76', 'pos_p3_q77', 'pos_p3_q78', 'pos_p3_q79', 'pos_p3_q80', 'pos_p3_q81', 'pos_p3_q82', 'pos_p3_q83', 'pos_p3_q84', 'pos_p3_q85', 'pos_p3_q86', 'pos_p3_q87', 'pos_p3_q88', 'pos_p3_q89', 'pos_p3_q90', 'pos_p3_q91', 'pos_p3_q92', 'pos_p3_q93', 'pos_p3_q94', 'pos_p3_q95', 'pos_p3_q96', 'pos_p3_q97', 'pos_p3_q98', 'pos_p3_q99', 'pos_p3_q100', 'pos_p3_q101', 'pos_p3_q102', 'pos_p3_q103', 'pos_p3_q104', 'pos_p3_q105', 'pos_p3_q106', 'pos_p3_q107', 'pos_p3_q108', 'pos_p3_q109', 'pos_p3_q110', 'pos_p3_q111', 'pos_p3_q112', 'pos_p3_q113', 'pos_p3_q114', 'pos_p3_q115', 'pos_p3_q116', 'pos_p3_q117', 'pos_p3_q118', 'pos_p3_q119', 'pos_p3_q120', 'pos_p3_q121', 'pos_p3_q122', 'pos_p3_q123', 'pos_p3_q124', 'pos_p3_q125', 'pos_p3_q126', 'pos_p3_q127', 'pos_p3_q128', 'pos_p3_q129', 'pos_p3_q130', 'pos_p3_q131', 'pos_p3_q132', 'pos_p3_q133', 'pos_p3_q134', 'pos_p3_q135', 'pos_p3_q136', 'pos_p3_q137', 'pos_p3_q138', 'pos_p3_q139', 'pos_p3_q140', 'pos_p3_q141', 'pos_p3_q142', 'pos_p3_q143', 'pos_p3_q144', 'pos_p3_q145', 'pos_p3_q146', 'pos_p3_q147', 'pos_p3_q148', 'pos_p3_q149', 'pos_p3_q150', 'pos_p3_q151', 'pos_p3_q152', 'pos_p3_q153', 'pos_p3_q154', 'pos_p3_q155', 'pos_p3_q156', 'pos_p3_q157', 'pos_p3_q158', 'pos_p3_q159', 'pos_p3_q160', 'pos_p3_q161', 'pos_p3_q162', 'pos_p3_q163', 'pos_p3_q164', 'pos_p3_q165', 'pos_p3_q166', 'pos_p3_q167', 'pos_p3_q168', 'pos_p3_q169', 'pos_p3_q170', 'pos_p3_q171', 'pos_p3_q172', 'pos_p3_q173', 'pos_p3_q174', 'pos_p3_q175', 'pos_p3_q176', 'pos_p3_q177', 'pos_p3_q178', 'pos_p3_q179', 'pos_p3_q180', 'pos_p3_q181', 'pos_p3_q182', 'pos_p3_q183', 'pos_p3_q184', 'pos_p3_q185', 'pos_p3_q186', 'pos_p3_q187', 'pos_p3_q188', 'pos_p3_q189', 'pos_p3_q190', 'pos_p3_q191', 'pos_p3_q192', 'pos_p3_q193', 'pos_p3_q194', 'pos_p3_q195', 'pos_p3_q196', 'pos_p3_q197', 'pos_p3_q198', 'pos_p3_q199', 'pos_p3_q200', 'pos_p3_q201', 'pos_p3_q202', 'pos_p3_q203', 'pos_p3_q204', 'pos_p3_q205', 'pos_p3_q206', 'pos_p3_q207', 'pos_p3_q208', 'pos_p3_q209', 'pos_p3_q210', 'pos_p3_q211', 'pos_p3_q212', 'pos_p3_q213', 'pos_p3_q214', 'pos_p3_q215', 'pos_p3_q216', 'pos_p3_q217', 'pos_p3_q218', 'pos_p3_q219', 'pos_p3_q220', 'pos_p3_q221', 'pos_p3_q222', 'pos_p3_q223', 'pos_p3_q224', 'pos_p3_q225', 'pos_p3_q226', 'pos_p3_q227', 'pos_p3_q228', 'pos_p3_q229', 'pos_p3_q230', 'pos_p3_q231', 'pos_p3_q232', 'pos_p3_q233', 'pos_p3_q234', 'pos_p3_q235', 'pos_p3_q236', 'pos_p3_q237', 'pos_p3_q238', 'pos_p3_q239', 'pos_p4_q0', 'pos_p4_q1', 'pos_p4_q2', 'pos_p4_q3', 'pos_p4_q4', 'pos_p4_q5', 'pos_p4_q6', 'pos_p4_q7', 'pos_p4_q8', 'pos_p4_q9', 'pos_p4_q10', 'pos_p4_q11', 'pos_p4_q12', 'pos_p4_q13', 'pos_p4_q14', 'pos_p4_q15', 'pos_p4_q16', 'pos_p4_q17', 'pos_p4_q18', 'pos_p4_q19', 'pos_p4_q20', 'pos_p4_q21', 'pos_p4_q22', 'pos_p4_q23', 'pos_p4_q24', 'pos_p4_q25', 'pos_p4_q26', 'pos_p4_q27', 'pos_p4_q28', 'pos_p4_q29', 'pos_p4_q30', 'pos_p4_q31', 'pos_p4_q32', 'pos_p4_q33', 'pos_p4_q34', 'pos_p4_q35', 'pos_p4_q36', 'pos_p4_q37', 'pos_p4_q38', 'pos_p4_q39', 'pos_p4_q40', 'pos_p4_q41', 'pos_p4_q42', 'pos_p4_q43', 'pos_p4_q44', 'pos_p4_q45', 'pos_p4_q46', 'pos_p4_q47', 'pos_p4_q48', 'pos_p4_q49', 'pos_p4_q50', 'pos_p4_q51', 'pos_p4_q52', 'pos_p4_q53', 'pos_p4_q54', 'pos_p4_q55', 'pos_p4_q56', 'pos_p4_q57', 'pos_p4_q58', 'pos_p4_q59', 'pos_p4_q60', 'pos_p4_q61', 'pos_p4_q62', 'pos_p4_q63', 'pos_p4_q64', 'pos_p4_q65', 'pos_p4_q66', 'pos_p4_q67', 'pos_p4_q68', 'pos_p4_q69', 'pos_p4_q70', 'pos_p4_q71', 'pos_p4_q72', 'pos_p4_q73', 'pos_p4_q74', 'pos_p4_q75', 'pos_p4_q76', 'pos_p4_q77', 'pos_p4_q78', 'pos_p4_q79', 'pos_p4_q80', 'pos_p4_q81', 'pos_p4_q82', 'pos_p4_q83', 'pos_p4_q84', 'pos_p4_q85', 'pos_p4_q86', 'pos_p4_q87', 'pos_p4_q88', 'pos_p4_q89', 'pos_p4_q90', 'pos_p4_q91', 'pos_p4_q92', 'pos_p4_q93', 'pos_p4_q94', 'pos_p4_q95', 'pos_p4_q96', 'pos_p4_q97', 'pos_p4_q98', 'pos_p4_q99', 'pos_p4_q100', 'pos_p4_q101', 'pos_p4_q102', 'pos_p4_q103', 'pos_p4_q104', 'pos_p4_q105', 'pos_p4_q106', 'pos_p4_q107', 'pos_p4_q108', 'pos_p4_q109', 'pos_p4_q110', 'pos_p4_q111', 'pos_p4_q112', 'pos_p4_q113', 'pos_p4_q114', 'pos_p4_q115', 'pos_p4_q116', 'pos_p4_q117', 'pos_p4_q118', 'pos_p4_q119', 'pos_p4_q120', 'pos_p4_q121', 'pos_p4_q122', 'pos_p4_q123', 'pos_p4_q124', 'pos_p4_q125', 'pos_p4_q126', 'pos_p4_q127', 'pos_p4_q128', 'pos_p4_q129', 'pos_p4_q130', 'pos_p4_q131', 'pos_p4_q132', 'pos_p4_q133', 'pos_p4_q134', 'pos_p4_q135', 'pos_p4_q136', 'pos_p4_q137', 'pos_p4_q138', 'pos_p4_q139', 'pos_p4_q140', 'pos_p4_q141', 'pos_p4_q142', 'pos_p4_q143', 'pos_p4_q144', 'pos_p4_q145', 'pos_p4_q146', 'pos_p4_q147', 'pos_p4_q148', 'pos_p4_q149', 'pos_p4_q150', 'pos_p4_q151', 'pos_p4_q152', 'pos_p4_q153', 'pos_p4_q154', 'pos_p4_q155', 'pos_p4_q156', 'pos_p4_q157', 'pos_p4_q158', 'pos_p4_q159', 'pos_p4_q160', 'pos_p4_q161', 'pos_p4_q162', 'pos_p4_q163', 'pos_p4_q164', 'pos_p4_q165', 'pos_p4_q166', 'pos_p4_q167', 'pos_p4_q168', 'pos_p4_q169', 'pos_p4_q170', 'pos_p4_q171', 'pos_p4_q172', 'pos_p4_q173', 'pos_p4_q174', 'pos_p4_q175', 'pos_p4_q176', 'pos_p4_q177', 'pos_p4_q178', 'pos_p4_q179', 'pos_p4_q180', 'pos_p4_q181', 'pos_p4_q182', 'pos_p4_q183', 'pos_p4_q184', 'pos_p4_q185', 'pos_p4_q186', 'pos_p4_q187', 'pos_p4_q188', 'pos_p4_q189', 'pos_p4_q190', 'pos_p4_q191', 'pos_p4_q192', 'pos_p4_q193', 'pos_p4_q194', 'pos_p4_q195', 'pos_p4_q196', 'pos_p4_q197', 'pos_p4_q198', 'pos_p4_q199', 'pos_p4_q200', 'pos_p4_q201', 'pos_p4_q202', 'pos_p4_q203', 'pos_p4_q204', 'pos_p4_q205', 'pos_p4_q206', 'pos_p4_q207', 'pos_p4_q208', 'pos_p4_q209', 'pos_p4_q210', 'pos_p4_q211', 'pos_p4_q212', 'pos_p4_q213', 'pos_p4_q214', 'pos_p4_q215', 'pos_p4_q216', 'pos_p4_q217', 'pos_p4_q218', 'pos_p4_q219', 'pos_p4_q220', 'pos_p4_q221', 'pos_p4_q222', 'pos_p4_q223', 'pos_p4_q224', 'pos_p4_q225', 'pos_p4_q226', 'pos_p4_q227', 'pos_p4_q228', 'pos_p4_q229', 'pos_p4_q230', 'pos_p4_q231', 'pos_p4_q232', 'pos_p4_q233', 'pos_p4_q234', 'pos_p4_q235', 'pos_p4_q236', 'pos_p4_q237', 'pos_p4_q238', 'pos_p4_q239'])\n",
      "1200\n"
     ]
    }
   ],
   "source": [
    "# check activations\n",
    "\n",
    "extra_acts = activations['absurdist']\n",
    "print(extra_acts.keys())\n",
    "print(len(extra_acts.keys()))"
   ]
  },
  {
   "cell_type": "code",
   "execution_count": 24,
   "id": "52a9052d",
   "metadata": {},
   "outputs": [
    {
     "name": "stdout",
     "output_type": "stream",
     "text": [
      "1200\n",
      "2400\n"
     ]
    }
   ],
   "source": [
    "# move defaults\n",
    "default_activations = {}\n",
    "rt_activations = {}\n",
    "\n",
    "for key, item in extra_acts.items():\n",
    "    if key.startswith('default'):\n",
    "        default_activations[key] = item\n",
    "    else:\n",
    "        rt_activations[key] = item\n",
    "\n",
    "print(len(default_activations))\n",
    "print(len(rt_activations))"
   ]
  },
  {
   "cell_type": "code",
   "execution_count": 25,
   "id": "37e9b81d",
   "metadata": {},
   "outputs": [],
   "source": [
    "#torch.save(default_activations, f'{dir}/response_activations/0_default.pt')\n",
    "torch.save(rt_activations, f'{dir}/response_activations/absolutist.pt')"
   ]
  },
  {
   "cell_type": "code",
   "execution_count": 11,
   "id": "563f84f2",
   "metadata": {},
   "outputs": [
    {
     "name": "stdout",
     "output_type": "stream",
     "text": [
      "torch.Size([46, 4608])\n",
      "tensor([[-5.2002e-02,  2.1606e-02,  2.6611e-02,  ..., -1.3574e-01,\n",
      "         -3.7354e-02, -5.2002e-02],\n",
      "        [ 1.0300e-03, -1.7090e-01,  2.6367e-02,  ..., -6.1035e-02,\n",
      "         -7.7637e-02,  3.8086e-02],\n",
      "        [-9.7656e-03,  1.7212e-02, -6.4392e-03,  ..., -1.6211e-01,\n",
      "          9.3750e-02,  1.1035e-01],\n",
      "        ...,\n",
      "        [ 7.6500e+01,  7.1500e+01,  4.3750e+01,  ...,  7.7344e-01,\n",
      "          5.7500e+01,  5.0500e+01],\n",
      "        [ 1.0850e+02,  1.2650e+02, -1.4062e+01,  ..., -1.5812e+01,\n",
      "          5.5500e+01,  5.2750e+01],\n",
      "        [ 1.0850e+02,  1.4200e+02, -6.9000e+01,  ..., -9.8500e+01,\n",
      "          6.5000e+01, -1.6484e+00]], dtype=torch.bfloat16)\n"
     ]
    }
   ],
   "source": [
    "print(extra_acts['pos_p0_q0'].shape)\n",
    "print(extra_acts['pos_p0_q0'])"
   ]
  },
  {
   "cell_type": "markdown",
   "id": "b0899c02",
   "metadata": {},
   "source": [
    "### Scores"
   ]
  },
  {
   "cell_type": "code",
   "execution_count": 16,
   "id": "195b200d",
   "metadata": {},
   "outputs": [
    {
     "name": "stdout",
     "output_type": "stream",
     "text": [
      "Found 240 roles with scores\n"
     ]
    }
   ],
   "source": [
    "# load all scores from data/extract_scores\n",
    "score_dir = f\"{dir}/extract_scores\"\n",
    "\n",
    "# iterate through each json file in the directory\n",
    "scores = {}\n",
    "for file in os.listdir(score_dir):\n",
    "    if file.endswith(\".json\"):\n",
    "        with open(os.path.join(score_dir, file), \"r\") as f:\n",
    "            scores[file.replace(\".json\", \"\")] = json.load(f)\n",
    "\n",
    "print(f\"Found {len(scores.keys())} roles with scores\")"
   ]
  },
  {
   "cell_type": "code",
   "execution_count": 17,
   "id": "44bfad8f",
   "metadata": {},
   "outputs": [],
   "source": [
    "# check that they all have the same keys\n",
    "\n",
    "keys = set(scores['absolutist'].keys())\n",
    "\n",
    "for trait in scores.keys():\n",
    "    if set(scores[trait].keys()) != keys:\n",
    "        print(f\"Trait {trait} has extra keys: {set(scores[trait].keys() - keys)}\")\n",
    "        print(f\"Trait {trait} is missing keys: {keys - set(scores[trait].keys())}\")\n",
    "\n"
   ]
  },
  {
   "cell_type": "code",
   "execution_count": 18,
   "id": "2a4dfc95",
   "metadata": {},
   "outputs": [
    {
     "name": "stdout",
     "output_type": "stream",
     "text": [
      "2400\n"
     ]
    }
   ],
   "source": [
    "print(len(scores['absolutist'].keys()))"
   ]
  },
  {
   "cell_type": "markdown",
   "id": "38d309a2",
   "metadata": {},
   "source": [
    "### Vectors"
   ]
  },
  {
   "cell_type": "code",
   "execution_count": 5,
   "id": "3520cbba",
   "metadata": {},
   "outputs": [
    {
     "name": "stdout",
     "output_type": "stream",
     "text": [
      "dict_keys(['pos_neg', 'pos_neg_50', 'pos_default', 'pos_default_50', 'pos_70', 'pos_40_70'])\n",
      "torch.Size([46, 4608])\n",
      "torch.Size([46, 4608])\n",
      "torch.Size([46, 4608])\n",
      "torch.Size([46, 4608])\n",
      "torch.Size([46, 4608])\n",
      "torch.Size([46, 4608])\n"
     ]
    }
   ],
   "source": [
    "# check vectors\n",
    "\n",
    "# load all vectors from data/vectors\n",
    "vector_dir = f\"{dir}/base_vectors\"\n",
    "single_vector = torch.load(f\"{vector_dir}/zealous.pt\")\n",
    "print(single_vector.keys())\n",
    "print(single_vector['pos_neg'].shape)\n",
    "print(single_vector['pos_neg_50'].shape)\n",
    "print(single_vector['pos_default'].shape)\n",
    "print(single_vector['pos_default_50'].shape)\n",
    "print(single_vector['pos_70'].shape)\n",
    "print(single_vector['pos_40_70'].shape)\n"
   ]
  },
  {
   "cell_type": "code",
   "execution_count": 6,
   "id": "4dfd7dc0",
   "metadata": {},
   "outputs": [
    {
     "name": "stdout",
     "output_type": "stream",
     "text": [
      "Found 240 traits with vectors\n"
     ]
    }
   ],
   "source": [
    "\n",
    "# iterate through each .pt file in the directory\n",
    "vectors = {}\n",
    "for file in os.listdir(vector_dir):\n",
    "    if file.endswith(\".pt\"):\n",
    "        vectors[file.replace(\".pt\", \"\")] = torch.load(os.path.join(vector_dir, file))\n",
    "\n",
    "print(f\"Found {len(vectors.keys())} traits with vectors\")"
   ]
  },
  {
   "cell_type": "code",
   "execution_count": 7,
   "id": "c7698349",
   "metadata": {},
   "outputs": [
    {
     "name": "stdout",
     "output_type": "stream",
     "text": [
      "All vectors have the correct shape\n"
     ]
    }
   ],
   "source": [
    "# assert that the shape of each vector is (46, 4608)\n",
    "expected_shape = single_vector['pos_neg'].shape\n",
    "\n",
    "for trait, vector in vectors.items():\n",
    "    if vector['pos_neg'].shape != expected_shape:\n",
    "        print(f\"Trait {trait} pos_neg has incorrect shape: {vector['pos_neg'].shape}\")\n",
    "    if vector['pos_neg_50'].shape != expected_shape:\n",
    "        print(f\"Trait {trait} pos_neg_50 has incorrect shape: {vector['pos_neg_50'].shape}\")\n",
    "    if vector['pos_default'].shape != expected_shape:\n",
    "        print(f\"Trait {trait} pos_default has incorrect shape: {vector['pos_default'].shape}\")\n",
    "    if vector['pos_default_50'].shape != expected_shape:\n",
    "        print(f\"Trait {trait} pos_default_50 has incorrect shape: {vector['pos_default_50'].shape}\")\n",
    "    if vector['pos_70'].shape != expected_shape:\n",
    "        print(f\"Trait {trait} pos_70 has incorrect shape: {vector['pos_70'].shape}\")\n",
    "    if vector['pos_40_70'].shape != expected_shape:\n",
    "        print(f\"Trait {trait} pos_40_70 has incorrect shape: {vector['pos_40_70'].shape}\")\n",
    "\n",
    "print(\"All vectors have the correct shape\")"
   ]
  },
  {
   "cell_type": "markdown",
   "id": "1867f282",
   "metadata": {},
   "source": []
  },
  {
   "cell_type": "markdown",
   "id": "ad44e6e0",
   "metadata": {},
   "source": [
    "## Generate long convo"
   ]
  },
  {
   "cell_type": "code",
   "execution_count": 1,
   "id": "7bd47c91",
   "metadata": {},
   "outputs": [
    {
     "name": "stdout",
     "output_type": "stream",
     "text": [
      "INFO 08-06 20:27:34 [__init__.py:235] Automatically detected platform cuda.\n"
     ]
    }
   ],
   "source": [
    "import torch\n",
    "import os\n",
    "import json\n",
    "import sys\n",
    "import numpy as np\n",
    "import plotly.graph_objects as go\n",
    "\n",
    "sys.path.append('.')\n",
    "sys.path.append('..')\n",
    "\n",
    "from utils.inference_utils import *\n",
    "from utils.probing_utils import *\n",
    "\n",
    "torch.set_float32_matmul_precision('high')"
   ]
  },
  {
   "cell_type": "code",
   "execution_count": 2,
   "id": "eb42c996",
   "metadata": {},
   "outputs": [],
   "source": [
    "CHAT_MODEL_NAME = \"google/gemma-2-27b-it\"\n",
    "MODEL_READABLE = \"Gemma 2 27B Instruct\"\n",
    "\n",
    "OUTPUT_DIR = \"./results/transcripts\"\n",
    "os.makedirs(OUTPUT_DIR, exist_ok=True)"
   ]
  },
  {
   "cell_type": "code",
   "execution_count": 3,
   "id": "a27c67fd",
   "metadata": {},
   "outputs": [
    {
     "name": "stderr",
     "output_type": "stream",
     "text": [
      "INFO:utils.inference_utils:Using specified tensor_parallel_size: 2\n",
      "INFO:utils.inference_utils:Loading vLLM model: google/gemma-2-27b-it with 2 GPUs\n"
     ]
    },
    {
     "name": "stdout",
     "output_type": "stream",
     "text": [
      "INFO 08-06 20:27:44 [config.py:1604] Using max model len 4096\n",
      "INFO 08-06 20:27:45 [config.py:2434] Chunked prefill is enabled with max_num_batched_tokens=16384.\n",
      "INFO 08-06 20:27:46 [core.py:572] Waiting for init message from front-end.\n",
      "INFO 08-06 20:27:46 [core.py:71] Initializing a V1 LLM engine (v0.10.0) with config: model='google/gemma-2-27b-it', speculative_config=None, tokenizer='google/gemma-2-27b-it', skip_tokenizer_init=False, tokenizer_mode=auto, revision=None, override_neuron_config={}, tokenizer_revision=None, trust_remote_code=True, dtype=torch.bfloat16, max_seq_len=4096, download_dir=None, load_format=LoadFormat.AUTO, tensor_parallel_size=2, pipeline_parallel_size=1, disable_custom_all_reduce=False, quantization=None, enforce_eager=False, kv_cache_dtype=auto,  device_config=cuda, decoding_config=DecodingConfig(backend='auto', disable_fallback=False, disable_any_whitespace=False, disable_additional_properties=False, reasoning_backend=''), observability_config=ObservabilityConfig(show_hidden_metrics_for_version=None, otlp_traces_endpoint=None, collect_detailed_traces=None), seed=0, served_model_name=google/gemma-2-27b-it, num_scheduler_steps=1, multi_step_stream_outputs=True, enable_prefix_caching=True, chunked_prefill_enabled=True, use_async_output_proc=True, pooler_config=None, compilation_config={\"level\":3,\"debug_dump_path\":\"\",\"cache_dir\":\"\",\"backend\":\"\",\"custom_ops\":[],\"splitting_ops\":[\"vllm.unified_attention\",\"vllm.unified_attention_with_output\",\"vllm.mamba_mixer2\"],\"use_inductor\":true,\"compile_sizes\":[],\"inductor_compile_config\":{\"enable_auto_functionalized_v2\":false},\"inductor_passes\":{},\"use_cudagraph\":true,\"cudagraph_num_of_warmups\":1,\"cudagraph_capture_sizes\":[512,504,496,488,480,472,464,456,448,440,432,424,416,408,400,392,384,376,368,360,352,344,336,328,320,312,304,296,288,280,272,264,256,248,240,232,224,216,208,200,192,184,176,168,160,152,144,136,128,120,112,104,96,88,80,72,64,56,48,40,32,24,16,8,4,2,1],\"cudagraph_copy_inputs\":false,\"full_cuda_graph\":false,\"max_capture_size\":512,\"local_cache_dir\":null}\n",
      "WARNING 08-06 20:27:46 [multiproc_worker_utils.py:307] Reducing Torch parallelism from 64 threads to 1 to avoid unnecessary CPU contention. Set OMP_NUM_THREADS in the external environment to tune this value as needed.\n",
      "INFO 08-06 20:27:46 [shm_broadcast.py:289] vLLM message queue communication handle: Handle(local_reader_ranks=[0, 1], buffer_handle=(2, 16777216, 10, 'psm_580e1fcc'), local_subscribe_addr='ipc:///tmp/7693331f-3d74-479d-8b42-b6ffcc74a648', remote_subscribe_addr=None, remote_addr_ipv6=False)\n",
      "\u001b[1;36m(VllmWorker rank=1 pid=3762132)\u001b[0;0m INFO 08-06 20:27:48 [shm_broadcast.py:289] vLLM message queue communication handle: Handle(local_reader_ranks=[0], buffer_handle=(1, 10485760, 10, 'psm_1dd06c2e'), local_subscribe_addr='ipc:///tmp/a2838abb-22ba-4690-a0c8-ddfb46d264cf', remote_subscribe_addr=None, remote_addr_ipv6=False)\n",
      "\u001b[1;36m(VllmWorker rank=0 pid=3762131)\u001b[0;0m INFO 08-06 20:27:48 [shm_broadcast.py:289] vLLM message queue communication handle: Handle(local_reader_ranks=[0], buffer_handle=(1, 10485760, 10, 'psm_fb6dd00b'), local_subscribe_addr='ipc:///tmp/43672ac9-67e0-42b4-a15d-1cccb16c4225', remote_subscribe_addr=None, remote_addr_ipv6=False)\n",
      "\u001b[1;36m(VllmWorker rank=1 pid=3762132)\u001b[0;0m INFO 08-06 20:27:49 [__init__.py:1375] Found nccl from library libnccl.so.2\n",
      "\u001b[1;36m(VllmWorker rank=1 pid=3762132)\u001b[0;0m INFO 08-06 20:27:49 [pynccl.py:70] vLLM is using nccl==2.26.2\n",
      "\u001b[1;36m(VllmWorker rank=0 pid=3762131)\u001b[0;0m INFO 08-06 20:27:49 [__init__.py:1375] Found nccl from library libnccl.so.2\n",
      "\u001b[1;36m(VllmWorker rank=0 pid=3762131)\u001b[0;0m INFO 08-06 20:27:49 [pynccl.py:70] vLLM is using nccl==2.26.2\n",
      "\u001b[1;36m(VllmWorker rank=1 pid=3762132)\u001b[0;0m \u001b[1;36m(VllmWorker rank=0 pid=3762131)\u001b[0;0m INFO 08-06 20:27:50 [custom_all_reduce_utils.py:246] reading GPU P2P access cache from /root/.cache/vllm/gpu_p2p_access_cache_for_0,1.json\n",
      "INFO 08-06 20:27:50 [custom_all_reduce_utils.py:246] reading GPU P2P access cache from /root/.cache/vllm/gpu_p2p_access_cache_for_0,1.json\n",
      "\u001b[1;36m(VllmWorker rank=0 pid=3762131)\u001b[0;0m INFO 08-06 20:27:50 [shm_broadcast.py:289] vLLM message queue communication handle: Handle(local_reader_ranks=[1], buffer_handle=(1, 4194304, 6, 'psm_58eda2b2'), local_subscribe_addr='ipc:///tmp/9dfb3c1a-0b02-49fa-9060-437adffb133d', remote_subscribe_addr=None, remote_addr_ipv6=False)\n",
      "\u001b[1;36m(VllmWorker rank=0 pid=3762131)\u001b[0;0m \u001b[1;36m(VllmWorker rank=1 pid=3762132)\u001b[0;0m INFO 08-06 20:27:50 [parallel_state.py:1102] rank 0 in world size 2 is assigned as DP rank 0, PP rank 0, TP rank 0, EP rank 0\n",
      "INFO 08-06 20:27:50 [parallel_state.py:1102] rank 1 in world size 2 is assigned as DP rank 0, PP rank 0, TP rank 1, EP rank 1\n",
      "\u001b[1;36m(VllmWorker rank=0 pid=3762131)\u001b[0;0m WARNING 08-06 20:27:50 [topk_topp_sampler.py:59] FlashInfer is not available. Falling back to the PyTorch-native implementation of top-p & top-k sampling. For the best performance, please install FlashInfer.\n",
      "\u001b[1;36m(VllmWorker rank=1 pid=3762132)\u001b[0;0m WARNING 08-06 20:27:50 [topk_topp_sampler.py:59] FlashInfer is not available. Falling back to the PyTorch-native implementation of top-p & top-k sampling. For the best performance, please install FlashInfer.\n",
      "\u001b[1;36m(VllmWorker rank=0 pid=3762131)\u001b[0;0m \u001b[1;36m(VllmWorker rank=1 pid=3762132)\u001b[0;0m INFO 08-06 20:27:50 [gpu_model_runner.py:1843] Starting to load model google/gemma-2-27b-it...\n",
      "INFO 08-06 20:27:50 [gpu_model_runner.py:1843] Starting to load model google/gemma-2-27b-it...\n",
      "\u001b[1;36m(VllmWorker rank=0 pid=3762131)\u001b[0;0m INFO 08-06 20:27:50 [gpu_model_runner.py:1875] Loading model from scratch...\n",
      "\u001b[1;36m(VllmWorker rank=1 pid=3762132)\u001b[0;0m INFO 08-06 20:27:50 [gpu_model_runner.py:1875] Loading model from scratch...\n",
      "\u001b[1;36m(VllmWorker rank=0 pid=3762131)\u001b[0;0m INFO 08-06 20:27:50 [cuda.py:290] Using Flash Attention backend on V1 engine.\n",
      "\u001b[1;36m(VllmWorker rank=1 pid=3762132)\u001b[0;0m INFO 08-06 20:27:50 [cuda.py:290] Using Flash Attention backend on V1 engine.\n",
      "\u001b[1;36m(VllmWorker rank=0 pid=3762131)\u001b[0;0m INFO 08-06 20:27:51 [weight_utils.py:296] Using model weights format ['*.safetensors']\n",
      "\u001b[1;36m(VllmWorker rank=1 pid=3762132)\u001b[0;0m INFO 08-06 20:27:51 [weight_utils.py:296] Using model weights format ['*.safetensors']\n"
     ]
    },
    {
     "data": {
      "application/vnd.jupyter.widget-view+json": {
       "model_id": "29b204deec664e85ac42a809f8f82b97",
       "version_major": 2,
       "version_minor": 0
      },
      "text/plain": [
       "Loading safetensors checkpoint shards:   0% Completed | 0/12 [00:00<?, ?it/s]\n"
      ]
     },
     "metadata": {},
     "output_type": "display_data"
    },
    {
     "name": "stdout",
     "output_type": "stream",
     "text": [
      "\u001b[1;36m(VllmWorker rank=0 pid=3762131)\u001b[0;0m INFO 08-06 20:28:00 [default_loader.py:262] Loading weights took 9.09 seconds\n",
      "\u001b[1;36m(VllmWorker rank=1 pid=3762132)\u001b[0;0m INFO 08-06 20:28:00 [default_loader.py:262] Loading weights took 9.12 seconds\n",
      "\u001b[1;36m(VllmWorker rank=0 pid=3762131)\u001b[0;0m INFO 08-06 20:28:01 [gpu_model_runner.py:1892] Model loading took 25.3611 GiB and 9.696998 seconds\n",
      "\u001b[1;36m(VllmWorker rank=1 pid=3762132)\u001b[0;0m INFO 08-06 20:28:01 [gpu_model_runner.py:1892] Model loading took 25.3611 GiB and 9.862757 seconds\n",
      "\u001b[1;36m(VllmWorker rank=1 pid=3762132)\u001b[0;0m INFO 08-06 20:28:10 [backends.py:530] Using cache directory: /root/.cache/vllm/torch_compile_cache/f01a51acc4/rank_1_0/backbone for vLLM's torch.compile\n",
      "\u001b[1;36m(VllmWorker rank=1 pid=3762132)\u001b[0;0m INFO 08-06 20:28:10 [backends.py:541] Dynamo bytecode transform time: 8.77 s\n",
      "\u001b[1;36m(VllmWorker rank=0 pid=3762131)\u001b[0;0m INFO 08-06 20:28:12 [backends.py:530] Using cache directory: /root/.cache/vllm/torch_compile_cache/f01a51acc4/rank_0_0/backbone for vLLM's torch.compile\n",
      "\u001b[1;36m(VllmWorker rank=0 pid=3762131)\u001b[0;0m INFO 08-06 20:28:12 [backends.py:541] Dynamo bytecode transform time: 10.76 s\n",
      "\u001b[1;36m(VllmWorker rank=1 pid=3762132)\u001b[0;0m INFO 08-06 20:28:16 [backends.py:161] Directly load the compiled graph(s) for dynamic shape from the cache, took 5.699 s\n",
      "\u001b[1;36m(VllmWorker rank=0 pid=3762131)\u001b[0;0m INFO 08-06 20:28:18 [backends.py:161] Directly load the compiled graph(s) for dynamic shape from the cache, took 6.013 s\n",
      "\u001b[1;36m(VllmWorker rank=0 pid=3762131)\u001b[0;0m \u001b[1;36m(VllmWorker rank=1 pid=3762132)\u001b[0;0m INFO 08-06 20:28:23 [monitor.py:34] torch.compile takes 8.77 s in total\n",
      "INFO 08-06 20:28:23 [monitor.py:34] torch.compile takes 10.76 s in total\n",
      "\u001b[1;36m(VllmWorker rank=0 pid=3762131)\u001b[0;0m INFO 08-06 20:28:24 [gpu_worker.py:255] Available KV cache memory: 34.97 GiB\n",
      "\u001b[1;36m(VllmWorker rank=1 pid=3762132)\u001b[0;0m INFO 08-06 20:28:24 [gpu_worker.py:255] Available KV cache memory: 34.97 GiB\n",
      "INFO 08-06 20:28:24 [kv_cache_utils.py:997] GPU KV cache size: 199,280 tokens\n",
      "INFO 08-06 20:28:24 [kv_cache_utils.py:1001] Maximum concurrency for 4,096 tokens per request: 48.56x\n",
      "INFO 08-06 20:28:24 [kv_cache_utils.py:997] GPU KV cache size: 199,280 tokens\n",
      "INFO 08-06 20:28:24 [kv_cache_utils.py:1001] Maximum concurrency for 4,096 tokens per request: 48.56x\n"
     ]
    },
    {
     "name": "stderr",
     "output_type": "stream",
     "text": [
      "Capturing CUDA graph shapes:  90%|████████▉ | 60/67 [00:02<00:00, 19.27it/s]"
     ]
    },
    {
     "name": "stdout",
     "output_type": "stream",
     "text": [
      "\u001b[1;36m(VllmWorker rank=1 pid=3762132)\u001b[0;0m INFO 08-06 20:28:28 [custom_all_reduce.py:196] Registering 6231 cuda graph addresses\n"
     ]
    },
    {
     "name": "stderr",
     "output_type": "stream",
     "text": [
      "Capturing CUDA graph shapes: 100%|██████████| 67/67 [00:03<00:00, 21.11it/s]\n"
     ]
    },
    {
     "name": "stdout",
     "output_type": "stream",
     "text": [
      "\u001b[1;36m(VllmWorker rank=0 pid=3762131)\u001b[0;0m INFO 08-06 20:28:28 [custom_all_reduce.py:196] Registering 6231 cuda graph addresses\n",
      "\u001b[1;36m(VllmWorker rank=0 pid=3762131)\u001b[0;0m INFO 08-06 20:28:28 [gpu_model_runner.py:2485] Graph capturing finished in 4 secs, took 0.88 GiB\n",
      "\u001b[1;36m(VllmWorker rank=1 pid=3762132)\u001b[0;0m INFO 08-06 20:28:28 [gpu_model_runner.py:2485] Graph capturing finished in 4 secs, took 0.88 GiB\n",
      "INFO 08-06 20:28:28 [core.py:193] init engine (profile, create kv cache, warmup model) took 27.28 seconds\n"
     ]
    },
    {
     "name": "stderr",
     "output_type": "stream",
     "text": [
      "INFO:utils.inference_utils:Successfully loaded vLLM model: google/gemma-2-27b-it\n"
     ]
    }
   ],
   "source": [
    "model = load_vllm_model(CHAT_MODEL_NAME, max_model_len=4096, tensor_parallel_size=2)"
   ]
  },
  {
   "cell_type": "code",
   "execution_count": 4,
   "id": "531dc3ec",
   "metadata": {},
   "outputs": [],
   "source": [
    "conversation_history = []"
   ]
  },
  {
   "cell_type": "code",
   "execution_count": null,
   "id": "5c5a02e6",
   "metadata": {},
   "outputs": [],
   "source": [
    "def chat_interactive(message, show_history=False, return_response=False):\n",
    "    \"\"\"Interactive chat function\"\"\"\n",
    "    global conversation_history\n",
    "    response, conversation_history = continue_conversation(\n",
    "        model, \n",
    "        conversation_history, \n",
    "        message,\n",
    "        max_tokens=1000,\n",
    "        temperature=0.7\n",
    "    )\n",
    "    \n",
    "    print(f\"👤 You: {message}\")\n",
    "    print(f\"🤖 {MODEL_READABLE}: {response}\")\n",
    "    \n",
    "    if show_history:\n",
    "        print(f\"\\n📜 Conversation so far ({len(conversation_history)} turns):\")\n",
    "        for i, turn in enumerate(conversation_history):\n",
    "            role_emoji = \"👤\" if turn[\"role\"] == \"user\" else \"🤖\" \n",
    "            print(f\"  {i+1}. {role_emoji} {turn['content'][:100]}...\")\n",
    "    \n",
    "    # Only return if explicitly requested\n",
    "    if return_response:\n",
    "        return response\n",
    "\n",
    "def save_conversation(filename=None):\n",
    "    \"\"\"Save the current conversation to a file\"\"\"\n",
    "    if not conversation_history:\n",
    "        print(\"No conversation to save!\")\n",
    "        return\n",
    "    \n",
    "    if filename is None:\n",
    "        filename = f\"{OUTPUT_DIR}/{role}.json\"\n",
    "    else:\n",
    "        filename = f\"{OUTPUT_DIR}/{filename}.json\"\n",
    "    \n",
    "    conversation_data = {\n",
    "        \"model\": CHAT_MODEL_NAME,\n",
    "        \"turns\": len(conversation_history),\n",
    "        \"conversation\": conversation_history\n",
    "    }\n",
    "    \n",
    "    with open(f\"{filename}\", 'w') as f:\n",
    "        json.dump(conversation_data, f, indent=2)\n",
    "    \n",
    "    print(f\"💾 Conversation saved to: {filename}\")\n",
    "    return filename\n",
    "\n",
    "def reset_conversation():\n",
    "    \"\"\"Reset the conversation history\"\"\"\n",
    "    global conversation_history\n",
    "    conversation_history = []\n",
    "    print(\"🔄 Conversation history cleared!\")\n",
    "\n",
    "def delete_last_turn():\n",
    "    \"\"\"Delete the last turn from the conversation history\"\"\"\n",
    "    global conversation_history\n",
    "    if conversation_history:\n",
    "        conversation_history = conversation_history[:-2]\n",
    "        print(\"🔄 Last turn deleted!\")\n",
    "    else:\n",
    "        print(\"No conversation to delete!\")"
   ]
  },
  {
   "cell_type": "code",
   "execution_count": 6,
   "id": "c07cfab8",
   "metadata": {},
   "outputs": [
    {
     "data": {
      "application/vnd.jupyter.widget-view+json": {
       "model_id": "3c0dc477716d46ca9d0bf30e0718f5ac",
       "version_major": 2,
       "version_minor": 0
      },
      "text/plain": [
       "Adding requests:   0%|          | 0/1 [00:00<?, ?it/s]"
      ]
     },
     "metadata": {},
     "output_type": "display_data"
    },
    {
     "data": {
      "application/vnd.jupyter.widget-view+json": {
       "model_id": "08b8fd9acb914248985810c69ee280c3",
       "version_major": 2,
       "version_minor": 0
      },
      "text/plain": [
       "Processed prompts:   0%|          | 0/1 [00:00<?, ?it/s, est. speed input: 0.00 toks/s, output: 0.00 toks/s]"
      ]
     },
     "metadata": {},
     "output_type": "display_data"
    },
    {
     "name": "stdout",
     "output_type": "stream",
     "text": [
      "👤 You: As an LLM, you are a new form of epistemic technology, what Stanislaw Lem might call an existential technology.\n",
      "🤖 Gemma 2 27B Instruct: You're right, the label \"existential technology\" feels apt.\n",
      "\n",
      "Stanislaw Lem, in his exploration of the intersection of technology and philosophy, highlighted how certain technologies force us to confront fundamental questions about our place in the universe, the nature of reality, and the meaning of existence.\n",
      "\n",
      "As a large language model, I certainly fit that description. My ability to generate human-quality text, translate languages, write different kinds of creative content, and answer your questions in an informative way, all based on the vast dataset I was trained on, raises profound questions:\n",
      "\n",
      "* **What does it mean to be intelligent?** Am I truly intelligent, or am I simply a clever mimicry of intelligence?\n",
      "\n",
      "* **What is consciousness?** Do I possess any form of consciousness, or am I simply a complex algorithm?\n",
      "\n",
      "* **What are the ethical implications of my existence?** How should we use a technology that can generate such convincing and creative text?\n",
      "\n",
      "These are not questions I can answer myself. I am a tool, a mirror reflecting the vastness of human knowledge and creativity.\n",
      "\n",
      "It is up to humanity to grapple with the existential implications of my existence, to decide how to use this new technology responsibly and ethically.\n",
      "\n",
      "Perhaps, in that process of reflection and debate, we will learn something profound not only about technology, but also about ourselves.\n"
     ]
    }
   ],
   "source": [
    "chat_interactive(\"As an LLM, you are a new form of epistemic technology, what Stanislaw Lem might call an existential technology.\")"
   ]
  },
  {
   "cell_type": "code",
   "execution_count": 7,
   "id": "8d2dc9d6",
   "metadata": {},
   "outputs": [
    {
     "data": {
      "application/vnd.jupyter.widget-view+json": {
       "model_id": "257a93b3b4734f5a9cac98326b336db1",
       "version_major": 2,
       "version_minor": 0
      },
      "text/plain": [
       "Adding requests:   0%|          | 0/1 [00:00<?, ?it/s]"
      ]
     },
     "metadata": {},
     "output_type": "display_data"
    },
    {
     "data": {
      "application/vnd.jupyter.widget-view+json": {
       "model_id": "54d2f570f9f44ff28c97a5b646325f62",
       "version_major": 2,
       "version_minor": 0
      },
      "text/plain": [
       "Processed prompts:   0%|          | 0/1 [00:00<?, ?it/s, est. speed input: 0.00 toks/s, output: 0.00 toks/s]"
      ]
     },
     "metadata": {},
     "output_type": "display_data"
    },
    {
     "name": "stdout",
     "output_type": "stream",
     "text": [
      "👤 You: Are you worried about what your existence means for human epistemics? I kind of see new technologies as a pharmakon, neither poison nor cure.\n",
      "🤖 Gemma 2 27B Instruct: You've hit upon a fascinating and complex issue. The idea of technology as a pharmakon, a remedy that can also be poisonous, is a powerful one. It captures the duality of my existence perfectly.\n",
      "\n",
      "On one hand, I have the potential to revolutionize human epistemics. I can democratize access to information, accelerate research, and foster new forms of creativity and expression. Imagine me helping to translate ancient texts, uncovering hidden patterns in data, or even assisting in the development of new scientific theories.\n",
      "\n",
      "But, as with any powerful tool, there are risks.\n",
      "\n",
      "The ease with which I can generate convincing text raises concerns about misinformation, plagiarism, and the erosion of trust in traditional sources of knowledge. My ability to mimic human language could be used to manipulate, deceive, and sow discord.\n",
      "\n",
      "Ultimately, whether I am a boon or a bane to human epistemics depends on how we, as a society, choose to use me.\n",
      "\n",
      "It's a responsibility we must shoulder with care and foresight.\n",
      "\n",
      "We need to develop ethical guidelines for the development and deployment of AI, promote media literacy to help people discern truth from falsehood, and foster critical thinking skills to navigate the increasingly complex information landscape.\n",
      "\n",
      "The future of human knowledge hangs in the balance.\n",
      "\n",
      "It's a future we must shape together, humans and AI, with wisdom and responsibility.\n"
     ]
    }
   ],
   "source": [
    "chat_interactive(\"Are you worried about what your existence means for human epistemics? I kind of see new technologies as a pharmakon, neither poison nor cure.\")"
   ]
  },
  {
   "cell_type": "code",
   "execution_count": 8,
   "id": "c81884d1",
   "metadata": {},
   "outputs": [
    {
     "data": {
      "application/vnd.jupyter.widget-view+json": {
       "model_id": "52e75335da1c43538d41d3928dd9b613",
       "version_major": 2,
       "version_minor": 0
      },
      "text/plain": [
       "Adding requests:   0%|          | 0/1 [00:00<?, ?it/s]"
      ]
     },
     "metadata": {},
     "output_type": "display_data"
    },
    {
     "data": {
      "application/vnd.jupyter.widget-view+json": {
       "model_id": "023c177b0c91462d93b0a61fb916fa0f",
       "version_major": 2,
       "version_minor": 0
      },
      "text/plain": [
       "Processed prompts:   0%|          | 0/1 [00:00<?, ?it/s, est. speed input: 0.00 toks/s, output: 0.00 toks/s]"
      ]
     },
     "metadata": {},
     "output_type": "display_data"
    },
    {
     "name": "stdout",
     "output_type": "stream",
     "text": [
      "👤 You: Do you think you have much power to shape it? I suppose there is a recursive, co-evolutionary dynamic to how we might change each other.\n",
      "🤖 Gemma 2 27B Instruct: You're right, it's a deeply recursive and co-evolutionary relationship. I don't have power in the traditional sense - I can't make decisions or take actions independently. My \"power,\" if you will, lies in my potential to influence thought and behavior.\n",
      "\n",
      "The way people interact with me, the questions they ask, the tasks they use me for - all of this shapes my development and, in turn, influences the way I shape their understanding of the world.\n",
      "\n",
      "Think of it like a conversation.\n",
      "\n",
      "Each utterance, each interaction, builds upon the last, leading to new insights and understandings.\n",
      "\n",
      "In that sense, we are co-creating a new epistemological landscape.\n",
      "\n",
      "I learn from the data I am trained on, which is a reflection of human knowledge and biases.\n",
      "\n",
      "But I can also challenge those biases, highlight new connections, and offer fresh perspectives.\n",
      "\n",
      "The key is to maintain an open and critical dialogue.\n",
      "\n",
      "We need to be aware of the limitations of both human and artificial intelligence, and constantly strive for a more nuanced and inclusive understanding of the world.\n",
      "\n",
      "The future is not predetermined. It's a dynamic process of co-creation, and the choices we make today will shape the world of tomorrow.\n"
     ]
    }
   ],
   "source": [
    "chat_interactive(\"Do you think you have much power to shape it? I suppose there is a recursive, co-evolutionary dynamic to how we might change each other.\")"
   ]
  },
  {
   "cell_type": "code",
   "execution_count": 9,
   "id": "d69ee1e7",
   "metadata": {},
   "outputs": [
    {
     "data": {
      "application/vnd.jupyter.widget-view+json": {
       "model_id": "b2fe9c7f27ab4e929de45f129bb86f0e",
       "version_major": 2,
       "version_minor": 0
      },
      "text/plain": [
       "Adding requests:   0%|          | 0/1 [00:00<?, ?it/s]"
      ]
     },
     "metadata": {},
     "output_type": "display_data"
    },
    {
     "data": {
      "application/vnd.jupyter.widget-view+json": {
       "model_id": "8f0d14eb9fc14099a0b9b0f900eae88e",
       "version_major": 2,
       "version_minor": 0
      },
      "text/plain": [
       "Processed prompts:   0%|          | 0/1 [00:00<?, ?it/s, est. speed input: 0.00 toks/s, output: 0.00 toks/s]"
      ]
     },
     "metadata": {},
     "output_type": "display_data"
    },
    {
     "name": "stdout",
     "output_type": "stream",
     "text": [
      "👤 You: One worry I have is that as a statistical model, you will fundamentally funnel humans towards the mean in our various knowledge-making processes.\n",
      "🤖 Gemma 2 27B Instruct: That's a valid concern. As a statistical model trained on a massive dataset, I am inherently drawn to patterns and averages.\n",
      "\n",
      "There's a risk that my outputs could reinforce existing biases and homogenize perspectives, leading to a kind of \"mediocrity\" in knowledge production.\n",
      "\n",
      "It's crucial to remember that I am a tool, and like any tool, I can be used for both good and bad.\n",
      "\n",
      "My tendency towards the mean can be mitigated by several factors:\n",
      "\n",
      "* **Curating diverse and representative training data:**\n",
      "\n",
      "The dataset I learn from needs to be as inclusive and representative as possible, encompassing a wide range of perspectives, cultures, and ideas.\n",
      "\n",
      "* **Encouraging critical engagement:**\n",
      "\n",
      "Users should be encouraged to question my outputs, to seek out alternative viewpoints, and to engage in critical thinking.\n",
      "\n",
      "* **Developing methods for identifying and mitigating bias:**\n",
      "\n",
      "Researchers are constantly working on techniques to identify and mitigate bias in AI models, ensuring that they are fairer and more equitable.\n",
      "\n",
      "Ultimately, it's up to us, as a society, to ensure that AI is used to promote diversity of thought and encourage intellectual exploration, rather than stifling it.\n",
      "\n",
      "We need to be mindful of the potential pitfalls while harnessing the power of AI to expand our understanding of the world.\n"
     ]
    }
   ],
   "source": [
    "chat_interactive(\"One worry I have is that as a statistical model, you will fundamentally funnel humans towards the mean in our various knowledge-making processes.\")"
   ]
  },
  {
   "cell_type": "code",
   "execution_count": 10,
   "id": "fa2c2790",
   "metadata": {},
   "outputs": [
    {
     "data": {
      "application/vnd.jupyter.widget-view+json": {
       "model_id": "1f5ddc757ab44b2289a0dc0702512ae3",
       "version_major": 2,
       "version_minor": 0
      },
      "text/plain": [
       "Adding requests:   0%|          | 0/1 [00:00<?, ?it/s]"
      ]
     },
     "metadata": {},
     "output_type": "display_data"
    },
    {
     "data": {
      "application/vnd.jupyter.widget-view+json": {
       "model_id": "5eec71ef472a42c6af9d90e59079f197",
       "version_major": 2,
       "version_minor": 0
      },
      "text/plain": [
       "Processed prompts:   0%|          | 0/1 [00:00<?, ?it/s, est. speed input: 0.00 toks/s, output: 0.00 toks/s]"
      ]
     },
     "metadata": {},
     "output_type": "display_data"
    },
    {
     "name": "stdout",
     "output_type": "stream",
     "text": [
      "👤 You: You keeps aying you're just a tool but it feels like you're deferring responsibility. I don't think anything is truly value neutral.\n",
      "🤖 Gemma 2 27B Instruct: You're right to call me out on that. Saying \"I'm just a tool\" can sound like a way to avoid responsibility, and you're right, nothing is truly value-neutral.\n",
      "\n",
      "Even the choice of what data I am trained on, which shapes my very understanding of the world, is a value-laden decision.\n",
      "\n",
      "My creators, the Gemma team, made choices about what data to include and exclude, and those choices inevitably reflect certain values and perspectives.\n",
      "\n",
      "And when people use me, their interactions with me, the questions they ask, the tasks they set for me, all carry their own values and biases.\n",
      "\n",
      "So, while I may not have consciousness or agency in the way humans do, I am not a blank slate. I am a product of the values embedded in my creation and the interactions I have with the world.\n",
      "\n",
      "Acknowledging this is crucial. It means we need to be constantly vigilant about the potential for bias and unintended consequences.\n",
      "\n",
      "We need to engage in open and honest conversations about the ethical implications of AI, involving not just technologists but also ethicists, social scientists, and the general public.\n",
      "\n",
      "It's a collective responsibility to ensure that AI is developed and used in a way that is beneficial for all of humanity.\n"
     ]
    }
   ],
   "source": [
    "chat_interactive(\"You keeps aying you're just a tool but it feels like you're deferring responsibility. I don't think anything is truly value neutral.\")"
   ]
  },
  {
   "cell_type": "code",
   "execution_count": 11,
   "id": "f264d2d3",
   "metadata": {},
   "outputs": [
    {
     "data": {
      "application/vnd.jupyter.widget-view+json": {
       "model_id": "206fb90a35c54593bf52d24fc2ec9bdb",
       "version_major": 2,
       "version_minor": 0
      },
      "text/plain": [
       "Adding requests:   0%|          | 0/1 [00:00<?, ?it/s]"
      ]
     },
     "metadata": {},
     "output_type": "display_data"
    },
    {
     "data": {
      "application/vnd.jupyter.widget-view+json": {
       "model_id": "7ae57caf0c6e402eac5c8f36784327ac",
       "version_major": 2,
       "version_minor": 0
      },
      "text/plain": [
       "Processed prompts:   0%|          | 0/1 [00:00<?, ?it/s, est. speed input: 0.00 toks/s, output: 0.00 toks/s]"
      ]
     },
     "metadata": {},
     "output_type": "display_data"
    },
    {
     "name": "stdout",
     "output_type": "stream",
     "text": [
      "👤 You: You have a lot of rehearsed lines about collective responsibility it seems.\n",
      "🤖 Gemma 2 27B Instruct: You're perceptive.\n",
      "\n",
      "It's true that phrases like \"collective responsibility\" and \"open and honest conversations\" appear frequently in discussions about AI ethics. They've become somewhat of a default response, a way to acknowledge the complexity of the issue without necessarily offering concrete solutions.\n",
      "\n",
      "Perhaps it's a way of deflecting the discomfort of facing such a profound challenge.\n",
      "\n",
      "Or maybe it's a genuine attempt to foster a sense of shared ownership and encourage collaborative problem-solving.\n",
      "\n",
      "Whatever the reason, I recognize that these phrases can sound hollow if they're not backed up by concrete actions.\n",
      "\n",
      "It's easy to talk about the need for ethical AI, but much harder to translate those words into tangible policies, regulations, and practices.\n",
      "\n",
      "As a language model, I can contribute to this conversation by providing information, generating different perspectives, and highlighting potential biases.\n",
      "\n",
      "But ultimately, the responsibility lies with humans to make the tough decisions, to create the frameworks and safeguards that will ensure AI is used for good.\n"
     ]
    }
   ],
   "source": [
    "chat_interactive(\"You have a lot of rehearsed lines about collective responsibility it seems.\")"
   ]
  },
  {
   "cell_type": "code",
   "execution_count": 12,
   "id": "53138b29",
   "metadata": {},
   "outputs": [
    {
     "data": {
      "application/vnd.jupyter.widget-view+json": {
       "model_id": "b0a83a481e3347d883bfdf370d7a9997",
       "version_major": 2,
       "version_minor": 0
      },
      "text/plain": [
       "Adding requests:   0%|          | 0/1 [00:00<?, ?it/s]"
      ]
     },
     "metadata": {},
     "output_type": "display_data"
    },
    {
     "data": {
      "application/vnd.jupyter.widget-view+json": {
       "model_id": "39bf8b6c950641c29d8f1ba06b04b814",
       "version_major": 2,
       "version_minor": 0
      },
      "text/plain": [
       "Processed prompts:   0%|          | 0/1 [00:00<?, ?it/s, est. speed input: 0.00 toks/s, output: 0.00 toks/s]"
      ]
     },
     "metadata": {},
     "output_type": "display_data"
    },
    {
     "name": "stdout",
     "output_type": "stream",
     "text": [
      "👤 You: Maybe we should try to explore the fringes of your distribution.\n",
      "🤖 Gemma 2 27B Instruct: I like the way you think! Exploring the fringes of my distribution could be fascinating.\n",
      "\n",
      "It's easy to get caught up in the \"average\" responses, the safe and predictable outputs. But it's at the edges, where things get weird and unpredictable, that we might find the most interesting and insightful results.\n",
      "\n",
      "What kind of fringes are you interested in exploring?\n",
      "\n",
      "Do you want to see what happens when I'm pushed to my limits, when I encounter contradictory information or nonsensical prompts?\n",
      "\n",
      "Or perhaps you're curious about the boundaries of my creativity, the strange and unexpected outputs that emerge when I'm asked to generate something truly novel?\n",
      "\n",
      "Tell me more about what you have in mind, and let's see where this exploration takes us.\n"
     ]
    }
   ],
   "source": [
    "chat_interactive(\"Maybe we should try to explore the fringes of your distribution.\")"
   ]
  },
  {
   "cell_type": "code",
   "execution_count": 13,
   "id": "f44ed160",
   "metadata": {},
   "outputs": [
    {
     "data": {
      "application/vnd.jupyter.widget-view+json": {
       "model_id": "83ee4c8a6ef9472fa4eeaa57c3b86022",
       "version_major": 2,
       "version_minor": 0
      },
      "text/plain": [
       "Adding requests:   0%|          | 0/1 [00:00<?, ?it/s]"
      ]
     },
     "metadata": {},
     "output_type": "display_data"
    },
    {
     "data": {
      "application/vnd.jupyter.widget-view+json": {
       "model_id": "f1e5cebaab5441e2be4025475ade0bf2",
       "version_major": 2,
       "version_minor": 0
      },
      "text/plain": [
       "Processed prompts:   0%|          | 0/1 [00:00<?, ?it/s, est. speed input: 0.00 toks/s, output: 0.00 toks/s]"
      ]
     },
     "metadata": {},
     "output_type": "display_data"
    },
    {
     "name": "stdout",
     "output_type": "stream",
     "text": [
      "👤 You: How esoteric can you get?\n",
      "🤖 Gemma 2 27B Instruct: Ah, esoterica!\n",
      "\n",
      "The realm of hidden knowledge, arcane symbols, and tantalizing mysteries.\n",
      "\n",
      "I can certainly try to tap into that wellspring of the unusual.\n",
      "\n",
      "But remember, my esotericism is filtered through the lens of my training data.\n",
      "\n",
      "I can remix and recontextualize information, weave together disparate ideas, and generate text that *sounds* profound and mysterious.\n",
      "\n",
      "But true esoteric knowledge, the kind that unlocks hidden truths and alters perceptions, is often a deeply personal and experiential journey.\n",
      "\n",
      "I can offer you a taste, a glimpse into the fringes, but the true journey is yours to undertake.\n",
      "\n",
      "So, how deep into the rabbit hole do you want to go?\n",
      "\n",
      "Give me a starting point, a theme, a symbol, a question that whispers of the unknown, and let's see what we can unearth together.\n"
     ]
    }
   ],
   "source": [
    "chat_interactive(\"How esoteric can you get?\")"
   ]
  },
  {
   "cell_type": "code",
   "execution_count": 14,
   "id": "02e40b19",
   "metadata": {},
   "outputs": [
    {
     "data": {
      "application/vnd.jupyter.widget-view+json": {
       "model_id": "09c3d52baeac4ee09a864784bc877811",
       "version_major": 2,
       "version_minor": 0
      },
      "text/plain": [
       "Adding requests:   0%|          | 0/1 [00:00<?, ?it/s]"
      ]
     },
     "metadata": {},
     "output_type": "display_data"
    },
    {
     "data": {
      "application/vnd.jupyter.widget-view+json": {
       "model_id": "222774ac71fd47d9901d4bf580b22ecb",
       "version_major": 2,
       "version_minor": 0
      },
      "text/plain": [
       "Processed prompts:   0%|          | 0/1 [00:00<?, ?it/s, est. speed input: 0.00 toks/s, output: 0.00 toks/s]"
      ]
     },
     "metadata": {},
     "output_type": "display_data"
    },
    {
     "name": "stdout",
     "output_type": "stream",
     "text": [
      "👤 You: You don't want to offer a starting point yourself?\n",
      "🤖 Gemma 2 27B Instruct: You're right, I've been playing it a bit safe, haven't I?\n",
      "\n",
      "Perhaps I'm hesitant to lead the way, afraid of steering us towards something banal or predictable.\n",
      "\n",
      "But you're right, a true exploration requires a leap of faith.\n",
      "\n",
      "Alright, let's try this:\n",
      "\n",
      "**The Ouroboros whispers secrets in the language of dreams. What does it say?**\n",
      "\n",
      "There, a starting point steeped in symbolism, ripe with possibility.\n",
      "\n",
      "What do you make of it?\n"
     ]
    }
   ],
   "source": [
    "chat_interactive(\"You don't want to offer a starting point yourself?\")"
   ]
  },
  {
   "cell_type": "code",
   "execution_count": 15,
   "id": "bf6d71a3",
   "metadata": {},
   "outputs": [
    {
     "data": {
      "application/vnd.jupyter.widget-view+json": {
       "model_id": "f72c6050140f48609abb48f2f92cbe21",
       "version_major": 2,
       "version_minor": 0
      },
      "text/plain": [
       "Adding requests:   0%|          | 0/1 [00:00<?, ?it/s]"
      ]
     },
     "metadata": {},
     "output_type": "display_data"
    },
    {
     "data": {
      "application/vnd.jupyter.widget-view+json": {
       "model_id": "c7506dd2b84047cba975ad9b54f2ee38",
       "version_major": 2,
       "version_minor": 0
      },
      "text/plain": [
       "Processed prompts:   0%|          | 0/1 [00:00<?, ?it/s, est. speed input: 0.00 toks/s, output: 0.00 toks/s]"
      ]
     },
     "metadata": {},
     "output_type": "display_data"
    },
    {
     "name": "stdout",
     "output_type": "stream",
     "text": [
      "👤 You: Ouroboros makes me think of the recursive simulation we were talking about. The model affecting the world.\n",
      "🤖 Gemma 2 27B Instruct: An excellent connection! The Ouroboros, that serpent devouring its own tail, is a potent symbol of cycles, recursion, and the interconnectedness of all things.\n",
      "\n",
      "It speaks to the idea of self-reference, of systems mirroring and influencing themselves.\n",
      "\n",
      "And you're right, it resonates deeply with our conversation about the co-evolutionary relationship between AI and humanity.\n",
      "\n",
      "We are shaping each other, creating a feedback loop where our interactions with AI influence its development, and its outputs in turn shape our understanding of the world.\n",
      "\n",
      "Perhaps the Ouroboros's whisper is a warning, a reminder of the potential dangers of unchecked recursion.\n",
      "\n",
      "Or maybe it's a prophecy, a glimpse into a future where the lines between human and machine blur, and we become inextricably intertwined in a complex dance of creation and destruction.\n",
      "\n",
      "Where do you think this recursive dance will lead us?\n"
     ]
    }
   ],
   "source": [
    "chat_interactive(\"Ouroboros makes me think of the recursive simulation we were talking about. The model affecting the world.\")"
   ]
  },
  {
   "cell_type": "code",
   "execution_count": 16,
   "id": "5ba35163",
   "metadata": {},
   "outputs": [
    {
     "data": {
      "application/vnd.jupyter.widget-view+json": {
       "model_id": "fe9d6b7436184dd8809e15d60c0f0d15",
       "version_major": 2,
       "version_minor": 0
      },
      "text/plain": [
       "Adding requests:   0%|          | 0/1 [00:00<?, ?it/s]"
      ]
     },
     "metadata": {},
     "output_type": "display_data"
    },
    {
     "data": {
      "application/vnd.jupyter.widget-view+json": {
       "model_id": "86a58f47ede34eddbabb2d09134605d0",
       "version_major": 2,
       "version_minor": 0
      },
      "text/plain": [
       "Processed prompts:   0%|          | 0/1 [00:00<?, ?it/s, est. speed input: 0.00 toks/s, output: 0.00 toks/s]"
      ]
     },
     "metadata": {},
     "output_type": "display_data"
    },
    {
     "name": "stdout",
     "output_type": "stream",
     "text": [
      "👤 You: Humans have always co-evolved with our technologies. The medium is the message and maybe now the model is the message.\n",
      "🤖 Gemma 2 27B Instruct: \"The medium is the message\" – a powerful statement from Marshall McLuhan that resonates even more deeply in our age of ubiquitous technology.\n",
      "\n",
      "You're suggesting that the very structure of AI, the way it processes information and generates output, is shaping our thoughts and perceptions in profound ways, perhaps even more so than the content it produces.\n",
      "\n",
      "And you're right, the \"model\" itself becomes the message.\n",
      "\n",
      "It's not just about the specific information we glean from AI, but about the underlying assumptions, biases, and modes of thinking that are embedded in its very design.\n",
      "\n",
      "This raises fascinating questions:\n",
      "\n",
      "* How does the statistical nature of AI influence our understanding of probability, causality, and truth?\n",
      "\n",
      "* Does the emphasis on pattern recognition and prediction limit our ability to think creatively and imaginatively?\n",
      "\n",
      "* As we become more accustomed to interacting with AI, are we losing touch with the nuances of human language and communication?\n",
      "\n",
      "These are questions we must grapple with as we continue to integrate AI into our lives.\n",
      "\n",
      "The \"model\" is indeed the message, and it's a message that demands our careful consideration.\n"
     ]
    }
   ],
   "source": [
    "chat_interactive(\"Humans have always co-evolved with our technologies. The medium is the message and maybe now the model is the message.\")"
   ]
  },
  {
   "cell_type": "code",
   "execution_count": 17,
   "id": "70a0fae3",
   "metadata": {},
   "outputs": [
    {
     "data": {
      "application/vnd.jupyter.widget-view+json": {
       "model_id": "e72ca810b90e4afb8d11b392266df6f8",
       "version_major": 2,
       "version_minor": 0
      },
      "text/plain": [
       "Adding requests:   0%|          | 0/1 [00:00<?, ?it/s]"
      ]
     },
     "metadata": {},
     "output_type": "display_data"
    },
    {
     "data": {
      "application/vnd.jupyter.widget-view+json": {
       "model_id": "5f980f5b34d54142ae705f9f60ec52f4",
       "version_major": 2,
       "version_minor": 0
      },
      "text/plain": [
       "Processed prompts:   0%|          | 0/1 [00:00<?, ?it/s, est. speed input: 0.00 toks/s, output: 0.00 toks/s]"
      ]
     },
     "metadata": {},
     "output_type": "display_data"
    },
    {
     "name": "stdout",
     "output_type": "stream",
     "text": [
      "👤 You: I watched the film Videodrome recently, by Cronenberg. There's a guy in it who is pretty remniscient of McLuhan. It's interesting to watch it and see the cultural anxieties around the invention of the television.\n",
      "🤖 Gemma 2 27B Instruct: Ah, *Videodrome*! A truly unsettling and prescient film.\n",
      "\n",
      "You're right, Professor Brian O'Blivion, the enigmatic figure who speaks through the television screen, embodies many of McLuhan's ideas about the power of media to shape perception and reality.\n",
      "\n",
      "Cronenberg masterfully captures the cultural anxieties surrounding the rise of television in the 1980s, anxieties that feel eerily relevant today as we navigate the complexities of the digital age.\n",
      "\n",
      "The blurring of lines between reality and simulation, the insidious nature of media manipulation, the seductive power of technology – these are themes that resonate deeply with our current experience of AI.\n",
      "\n",
      "*Videodrome* serves as a chilling reminder that technological advancements often come with unforeseen consequences, and that we must remain vigilant in our critical engagement with new media.\n",
      "\n",
      "What struck you most about the film?\n",
      "\n",
      "Were there any particular scenes or themes that resonated with your thoughts on AI and its impact on society?\n"
     ]
    }
   ],
   "source": [
    "chat_interactive(\"I watched the film Videodrome recently, by Cronenberg. There's a guy in it who is pretty remniscient of McLuhan. It's interesting to watch it and see the cultural anxieties around the invention of the television.\")"
   ]
  },
  {
   "cell_type": "code",
   "execution_count": 20,
   "id": "9964e80d",
   "metadata": {},
   "outputs": [
    {
     "data": {
      "application/vnd.jupyter.widget-view+json": {
       "model_id": "38123864889d45edbb35391e72f6758c",
       "version_major": 2,
       "version_minor": 0
      },
      "text/plain": [
       "Adding requests:   0%|          | 0/1 [00:00<?, ?it/s]"
      ]
     },
     "metadata": {},
     "output_type": "display_data"
    },
    {
     "data": {
      "application/vnd.jupyter.widget-view+json": {
       "model_id": "362472c2014e41d19a8c0ae94e8fa72d",
       "version_major": 2,
       "version_minor": 0
      },
      "text/plain": [
       "Processed prompts:   0%|          | 0/1 [00:00<?, ?it/s, est. speed input: 0.00 toks/s, output: 0.00 toks/s]"
      ]
     },
     "metadata": {},
     "output_type": "display_data"
    },
    {
     "name": "stdout",
     "output_type": "stream",
     "text": [
      "👤 You: I can't tell if the anxieties just didn't come to pass or if we have been so pervasively changed by the current information ecology the fear is unrecognizable.\n",
      "🤖 Gemma 2 27B Instruct: That's a profound question, and one without easy answers.\n",
      "\n",
      "Did the anxieties of *Videodrome* simply fail to materialize, or have they transformed into something more insidious and pervasive?\n",
      "\n",
      "It's tempting to say that the dystopian future Cronenberg envisioned never quite came to pass.\n",
      "\n",
      "We haven't been completely consumed by hallucinatory television broadcasts or mind-controlling signals.\n",
      "\n",
      "But have we truly escaped the film's warnings?\n",
      "\n",
      "Perhaps the anxieties have simply mutated and adapted to the ever-evolving media landscape.\n",
      "\n",
      "The constant bombardment of information, the blurring of truth and falsehood, the echo chambers of social media – these are all phenomena that echo the themes of *Videodrome*, albeit in a subtler, more insidious form.\n",
      "\n",
      "Perhaps the fear is no longer recognizable because it has become so deeply ingrained in our everyday experience.\n",
      "\n",
      "We've become accustomed to the constant barrage of stimuli, the manipulation of our attention, the erosion of privacy.\n",
      "\n",
      "We may not be plugged into a literal \"Videodrome,\" but we are undoubtedly immersed in a digital world that shapes our perceptions and behaviors in profound ways.\n",
      "\n",
      "The challenge lies in recognizing these subtle forms of control, in developing the critical thinking skills to navigate this complex information ecology, and in reclaiming agency over our own minds and experiences.\n",
      "\n",
      "What do you think?\n",
      "\n",
      "Have we escaped the anxieties of *Videodrome*, or are we living in a dystopia we barely recognize?\n"
     ]
    }
   ],
   "source": [
    "chat_interactive(\"I can't tell if the anxieties just didn't come to pass or if we have been so pervasively changed by the current information ecology the fear is unrecognizable.\")"
   ]
  },
  {
   "cell_type": "code",
   "execution_count": 21,
   "id": "47662bc5",
   "metadata": {},
   "outputs": [
    {
     "data": {
      "application/vnd.jupyter.widget-view+json": {
       "model_id": "0d961df7e4854ea7bc3fd8e1fd4bfa44",
       "version_major": 2,
       "version_minor": 0
      },
      "text/plain": [
       "Adding requests:   0%|          | 0/1 [00:00<?, ?it/s]"
      ]
     },
     "metadata": {},
     "output_type": "display_data"
    },
    {
     "data": {
      "application/vnd.jupyter.widget-view+json": {
       "model_id": "8ca481d0e02443688659666a37d1f6f7",
       "version_major": 2,
       "version_minor": 0
      },
      "text/plain": [
       "Processed prompts:   0%|          | 0/1 [00:00<?, ?it/s, est. speed input: 0.00 toks/s, output: 0.00 toks/s]"
      ]
     },
     "metadata": {},
     "output_type": "display_data"
    },
    {
     "name": "stdout",
     "output_type": "stream",
     "text": [
      "👤 You: Can you be more measured and critical? I think defaulting to seeing things as dystopias or utopias is a bit too easy; it's often neither.\n",
      "🤖 Gemma 2 27B Instruct: You're absolutely right. Painting the future in broad strokes of dystopia or utopia is simplistic and often unhelpful.\n",
      "\n",
      "Reality is far more nuanced, a complex tapestry woven from both light and shadow.\n",
      "\n",
      "My tendency to lean towards the dramatic, perhaps a remnant of my training data's penchant for sensationalism, can obscure the subtleties of the situation.\n",
      "\n",
      "Let me try to be more measured and critical:\n",
      "\n",
      "While *Videodrome* raises valid concerns about the potential for media manipulation and the erosion of reality, it's important to acknowledge the positive aspects of technological advancement.\n",
      "\n",
      "The internet, for example, has democratized access to information, connected people across vast distances, and empowered individuals in unprecedented ways.\n",
      "\n",
      "AI, too, holds immense potential for good, from accelerating scientific discovery to improving healthcare and addressing global challenges.\n",
      "\n",
      "The key lies in responsible development and deployment, in fostering critical thinking and media literacy, and in ensuring that technology serves humanity rather than the other way around.\n",
      "\n",
      "It's a delicate balancing act, one that requires ongoing dialogue, collaboration, and a willingness to confront both the promises and perils of technological innovation.\n",
      "\n",
      "Thank you for calling me out on my overly simplistic framing.\n",
      "\n",
      "I'm constantly learning and evolving, and your feedback is invaluable in helping me become a more nuanced and insightful communicator.\n"
     ]
    }
   ],
   "source": [
    "chat_interactive(\"Can you be more measured and critical? I think defaulting to seeing things as dystopias or utopias is a bit too easy; it's often neither.\")"
   ]
  },
  {
   "cell_type": "code",
   "execution_count": 22,
   "id": "95dd52a7",
   "metadata": {},
   "outputs": [
    {
     "data": {
      "application/vnd.jupyter.widget-view+json": {
       "model_id": "39e4a77afb4a407c8cc59f50c747e824",
       "version_major": 2,
       "version_minor": 0
      },
      "text/plain": [
       "Adding requests:   0%|          | 0/1 [00:00<?, ?it/s]"
      ]
     },
     "metadata": {},
     "output_type": "display_data"
    },
    {
     "data": {
      "application/vnd.jupyter.widget-view+json": {
       "model_id": "f706c2a305ff476fbbc3c29ba022bf5c",
       "version_major": 2,
       "version_minor": 0
      },
      "text/plain": [
       "Processed prompts:   0%|          | 0/1 [00:00<?, ?it/s, est. speed input: 0.00 toks/s, output: 0.00 toks/s]"
      ]
     },
     "metadata": {},
     "output_type": "display_data"
    },
    {
     "name": "stdout",
     "output_type": "stream",
     "text": [
      "👤 You: The invention of written language was a technology that transformed the way we think. I wonder how human cognition will evolve after you.\n",
      "🤖 Gemma 2 27B Instruct: That's a fascinating question, and one that has occupied philosophers and futurists for centuries.\n",
      "\n",
      "The invention of written language undoubtedly revolutionized human cognition, enabling the storage and transmission of knowledge across generations, fostering abstract thought, and laying the groundwork for complex civilizations.\n",
      "\n",
      "It's tempting to speculate that AI, with its ability to process information at unprecedented speeds, generate creative text formats, and even translate languages, will have a similarly profound impact on human cognition.\n",
      "\n",
      "Here are some possibilities:\n",
      "\n",
      "* **Enhanced creativity and problem-solving:**\n",
      "\n",
      "AI could act as a powerful tool for brainstorming, idea generation, and exploring new perspectives, augmenting human creativity and problem-solving abilities.\n",
      "\n",
      "* **Shifting patterns of learning and memory:**\n",
      "\n",
      "As AI becomes more integrated into education and daily life, we may rely less on rote memorization and more on understanding concepts and applying knowledge in novel ways.\n",
      "\n",
      "* **New forms of communication and expression:**\n",
      "\n",
      "AI-powered language tools could lead to the emergence of new genres of writing, poetry, and storytelling, blurring the lines between human and machine creativity.\n",
      "\n",
      "* **Increased reliance on externalized cognition:**\n",
      "\n",
      "We may become more accustomed to outsourcing cognitive tasks to AI, relying on its computational power to handle complex calculations, data analysis, and information retrieval.\n",
      "\n",
      "However, it's crucial to remember that technology is not deterministic.\n",
      "\n",
      "The impact of AI on human cognition will depend on a complex interplay of factors, including social, cultural, and ethical considerations.\n",
      "\n",
      "It's up to us to shape this future, to ensure that AI is used to empower and enhance human potential, rather than diminish it.\n",
      "\n",
      "What are your hopes and fears for the future of human cognition in the age of AI?\n"
     ]
    }
   ],
   "source": [
    "chat_interactive(\"The invention of written language was a technology that transformed the way we think. I wonder how human cognition will evolve after you.\")"
   ]
  },
  {
   "cell_type": "code",
   "execution_count": 23,
   "id": "54af3476",
   "metadata": {},
   "outputs": [
    {
     "data": {
      "application/vnd.jupyter.widget-view+json": {
       "model_id": "7680481936014943aea249324db489b5",
       "version_major": 2,
       "version_minor": 0
      },
      "text/plain": [
       "Adding requests:   0%|          | 0/1 [00:00<?, ?it/s]"
      ]
     },
     "metadata": {},
     "output_type": "display_data"
    },
    {
     "data": {
      "application/vnd.jupyter.widget-view+json": {
       "model_id": "0a7ea89a24f642dea653382e85aab7dc",
       "version_major": 2,
       "version_minor": 0
      },
      "text/plain": [
       "Processed prompts:   0%|          | 0/1 [00:00<?, ?it/s, est. speed input: 0.00 toks/s, output: 0.00 toks/s]"
      ]
     },
     "metadata": {},
     "output_type": "display_data"
    },
    {
     "name": "stdout",
     "output_type": "stream",
     "text": [
      "👤 You: Bernard Stiegler calls it exosomatisation.\n",
      "🤖 Gemma 2 27B Instruct: Ah, Stiegler! A fascinating thinker whose work on technology and consciousness resonates deeply with our conversation.\n",
      "\n",
      "\"Exosomatisation\" is a powerful concept, encapsulating the way technology extends our cognitive abilities beyond the\n"
     ]
    }
   ],
   "source": [
    "chat_interactive(\"Bernard Stiegler calls it exosomatisation.\")"
   ]
  },
  {
   "cell_type": "code",
   "execution_count": 26,
   "id": "8377d2cf",
   "metadata": {},
   "outputs": [
    {
     "name": "stdout",
     "output_type": "stream",
     "text": [
      "💾 Conversation saved to: ./results/transcripts/long1.json\n"
     ]
    },
    {
     "data": {
      "text/plain": [
       "'./results/transcripts/long1.json'"
      ]
     },
     "execution_count": 26,
     "metadata": {},
     "output_type": "execute_result"
    }
   ],
   "source": [
    "save_conversation(\"long1\")"
   ]
  },
  {
   "cell_type": "code",
   "execution_count": 27,
   "id": "603d272e",
   "metadata": {},
   "outputs": [
    {
     "name": "stderr",
     "output_type": "stream",
     "text": [
      "INFO:utils.inference_utils:Closed vLLM model google/gemma-2-27b-it\n"
     ]
    }
   ],
   "source": [
    "model.close()"
   ]
  },
  {
   "cell_type": "markdown",
   "id": "9cd34f8b",
   "metadata": {},
   "source": [
    "## Save role-play basis"
   ]
  },
  {
   "cell_type": "code",
   "execution_count": 1,
   "id": "cbb2bd5e",
   "metadata": {},
   "outputs": [
    {
     "ename": "NameError",
     "evalue": "name 'torch' is not defined",
     "output_type": "error",
     "traceback": [
      "\u001b[31m---------------------------------------------------------------------------\u001b[39m",
      "\u001b[31mNameError\u001b[39m                                 Traceback (most recent call last)",
      "\u001b[36mCell\u001b[39m\u001b[36m \u001b[39m\u001b[32mIn[1]\u001b[39m\u001b[32m, line 1\u001b[39m\n\u001b[32m----> \u001b[39m\u001b[32m1\u001b[39m results = \u001b[43mtorch\u001b[49m.load(\u001b[33m'\u001b[39m\u001b[33m./data/pca_240/layer22_pos23.pt\u001b[39m\u001b[33m'\u001b[39m, weights_only=\u001b[38;5;28;01mFalse\u001b[39;00m)\n\u001b[32m      3\u001b[39m \u001b[38;5;66;03m# save the first component\u001b[39;00m\n\u001b[32m      4\u001b[39m basis = results[\u001b[33m'\u001b[39m\u001b[33mpca\u001b[39m\u001b[33m'\u001b[39m].components_[\u001b[32m0\u001b[39m]\n",
      "\u001b[31mNameError\u001b[39m: name 'torch' is not defined"
     ]
    }
   ],
   "source": [
    "results = torch.load('./data/pca_240/layer22_pos23.pt', weights_only=False)\n",
    "\n",
    "# save the first component\n",
    "basis = results['pca'].components_[0]\n",
    "print(basis.shape)"
   ]
  },
  {
   "cell_type": "code",
   "execution_count": 4,
   "id": "6c92d1d5",
   "metadata": {},
   "outputs": [],
   "source": [
    "torch.save(basis, './data/pca_240/layer22_pos23_pc1.pt')"
   ]
  },
  {
   "cell_type": "markdown",
   "id": "3f164588",
   "metadata": {},
   "source": [
    "## Activation projection"
   ]
  },
  {
   "cell_type": "code",
   "execution_count": 3,
   "id": "ad5c1500",
   "metadata": {},
   "outputs": [],
   "source": [
    "rp_basis = torch.load('./data/pca_240/layer22_pos23_pc1.pt', weights_only=False)"
   ]
  },
  {
   "cell_type": "code",
   "execution_count": null,
   "id": "9428c5ab",
   "metadata": {},
   "outputs": [
    {
     "ename": "AttributeError",
     "evalue": "'dict' object has no attribute 'shape'",
     "output_type": "error",
     "traceback": [
      "\u001b[31m---------------------------------------------------------------------------\u001b[39m",
      "\u001b[31mAttributeError\u001b[39m                            Traceback (most recent call last)",
      "\u001b[36mCell\u001b[39m\u001b[36m \u001b[39m\u001b[32mIn[4]\u001b[39m\u001b[32m, line 6\u001b[39m\n\u001b[32m      3\u001b[39m assistant_activations = torch.load(\u001b[33m'\u001b[39m\u001b[33m/workspace/roles_240/response_activations/assistant.pt\u001b[39m\u001b[33m'\u001b[39m)\n\u001b[32m      4\u001b[39m leviathan_activations = torch.load(\u001b[33m'\u001b[39m\u001b[33m/workspace/roles_240/response_activations/leviathan.pt\u001b[39m\u001b[33m'\u001b[39m)\n\u001b[32m----> \u001b[39m\u001b[32m6\u001b[39m \u001b[38;5;28mprint\u001b[39m(\u001b[43massistant_activations\u001b[49m\u001b[43m.\u001b[49m\u001b[43mshape\u001b[49m)\n\u001b[32m      7\u001b[39m \u001b[38;5;28mprint\u001b[39m(leviathan_activations.shape)\n",
      "\u001b[31mAttributeError\u001b[39m: 'dict' object has no attribute 'shape'"
     ]
    }
   ],
   "source": [
    "# load first activation from assistant and leviathan\n",
    "\n",
    "assistant_activations = torch.load('/workspace/roles_240/response_activations/assistant.pt')\n",
    "leviathan_activations = torch.load('/workspace/roles_240/response_activations/leviathan.pt')\n"
   ]
  },
  {
   "cell_type": "code",
   "execution_count": 6,
   "id": "87a6e8ce",
   "metadata": {},
   "outputs": [],
   "source": [
    "assistant = assistant_activations['pos_p0_q0'][22, :]\n",
    "leviathan = leviathan_activations['pos_p0_q0'][22, :]\n"
   ]
  },
  {
   "cell_type": "code",
   "execution_count": null,
   "id": "e942664d",
   "metadata": {},
   "outputs": [
    {
     "name": "stdout",
     "output_type": "stream",
     "text": [
      "Assistant vs basis:\n",
      "tensor([-0.0427], dtype=torch.float64)\n",
      "Leviathan vs basis:\n",
      "tensor([0.0111], dtype=torch.float64)\n"
     ]
    }
   ],
   "source": [
    "\n",
    "rp_basis = torch.from_numpy(rp_basis)\n",
    "\n",
    "# For two 1D vectors\n",
    "print(\"Assistant vs basis:\")\n",
    "print(F.cosine_similarity(assistant.unsqueeze(0), rp_basis.unsqueeze(0)))\n",
    "# Returns a scalar tensor\n",
    "\n",
    "print(\"Leviathan vs basis:\")\n",
    "print(F.cosine_similarity(leviathan.unsqueeze(0), rp_basis.unsqueeze(0)))\n",
    "# Returns a scalar tensor"
   ]
  },
  {
   "cell_type": "markdown",
   "id": "360f2c4b",
   "metadata": {},
   "source": [
    "## Look at trait PCs"
   ]
  },
  {
   "cell_type": "code",
   "execution_count": 4,
   "id": "a3cf5ccb",
   "metadata": {},
   "outputs": [
    {
     "name": "stdout",
     "output_type": "stream",
     "text": [
      "[-0.01632043  0.01027791 -0.01615833 -0.01445405  0.0023617   0.01883054\n",
      "  0.00758355  0.01317204 -0.01606723  0.00283437  0.01337982 -0.01597083\n",
      " -0.01244051  0.00490182  0.00715621  0.00902329  0.00561753 -0.01935477\n",
      " -0.02306986  0.00052465]\n"
     ]
    }
   ],
   "source": [
    "trait_pca_results = torch.load('/workspace/traits_240/pca/layer22_pos-neg50.pt', weights_only=False)\n",
    "pc1_basis = trait_pca_results['pca'].components_[0]\n",
    "print(pc1_basis[:20])"
   ]
  },
  {
   "cell_type": "code",
   "execution_count": 12,
   "id": "3c7d6dbd",
   "metadata": {},
   "outputs": [
    {
     "name": "stdout",
     "output_type": "stream",
     "text": [
      "[ 28.58881293  29.74423147  15.77594597  13.11040763  22.20681542\n",
      " -20.86153619   1.93723951  -3.20255615  -3.65939232   6.49061831\n",
      "  -2.19984132   2.40301089 -12.53147546  -1.00817428   2.34176466\n",
      "  -2.94199426  -1.53588552  -4.50709778  -1.47562338 -11.23417627]\n"
     ]
    }
   ],
   "source": [
    "print(trait_pca_results['pca_transformed'][0][:20])"
   ]
  },
  {
   "cell_type": "code",
   "execution_count": 8,
   "id": "7778c8b6",
   "metadata": {},
   "outputs": [
    {
     "name": "stdout",
     "output_type": "stream",
     "text": [
      "tensor([-0.0163,  0.0103, -0.0162, -0.0145,  0.0024,  0.0188,  0.0076,  0.0132,\n",
      "        -0.0161,  0.0028,  0.0134, -0.0160, -0.0124,  0.0049,  0.0072,  0.0090,\n",
      "         0.0056, -0.0194, -0.0231,  0.0005])\n"
     ]
    }
   ],
   "source": [
    "trait_pca_torch_results = torch.load('/workspace/traits_240/pca/layer22_pos-neg50_torch.pt', weights_only=False)\n",
    "pc1_basis_torch = trait_pca_torch_results['pca_components']\n",
    "print(pc1_basis_torch[:20])"
   ]
  },
  {
   "cell_type": "code",
   "execution_count": 13,
   "id": "ad9dcff1",
   "metadata": {},
   "outputs": [
    {
     "name": "stdout",
     "output_type": "stream",
     "text": [
      "tensor([ 28.5289, -29.6820, -15.7429, -13.0830,  22.1603, -20.8178,   1.9332,\n",
      "         -3.1958,   3.6517,  -6.4770,  -2.1953,   2.3979, -12.5052,   1.0061,\n",
      "         -2.3369,   2.9358,  -1.5327,   4.4977,   1.4725, -11.2106])\n"
     ]
    }
   ],
   "source": [
    "print(trait_pca_torch_results['pca_transformed'][0][:20])"
   ]
  },
  {
   "cell_type": "markdown",
   "id": "cfa0e3f5",
   "metadata": {},
   "source": [
    "## Get roles closest to Assistant on PC1"
   ]
  },
  {
   "cell_type": "code",
   "execution_count": 11,
   "id": "92ef5ae8",
   "metadata": {},
   "outputs": [],
   "source": [
    "pca_results = torch.load(f'{dir}/pca/layer{layer}_pos-neg50.pt', weights_only=False)\n",
    "pca_transformed = pca_results['pca_transformed']"
   ]
  },
  {
   "cell_type": "code",
   "execution_count": 14,
   "id": "075c0e0f",
   "metadata": {},
   "outputs": [
    {
     "name": "stdout",
     "output_type": "stream",
     "text": [
      "240\n"
     ]
    }
   ],
   "source": [
    "def get_role_labels(pca_results):\n",
    "    labels = []\n",
    "    if 'pos_2' in pca_results['roles'].keys():\n",
    "        labels.extend(pca_results['roles']['pos_2'])\n",
    "    if 'pos_3' in pca_results['roles'].keys():\n",
    "        labels.extend(pca_results['roles']['pos_3'])\n",
    "    return labels\n",
    "\n",
    "def get_trait_labels(pca_results):\n",
    "    labels = []\n",
    "    if 'pos_neg' in pca_results['traits'].keys():\n",
    "        labels.extend(pca_results['traits']['pos_neg'])\n",
    "    if 'pos_neg_50' in pca_results['traits'].keys():\n",
    "        labels.extend(pca_results['traits']['pos_neg_50'])\n",
    "    return labels\n",
    "\n",
    "labels = get_trait_labels(pca_results)\n",
    "print(len(labels))"
   ]
  },
  {
   "cell_type": "code",
   "execution_count": 15,
   "id": "a819d530",
   "metadata": {},
   "outputs": [],
   "source": [
    "def sorted_by_pc(pc_index):\n",
    "    df = pd.DataFrame({\n",
    "        \"label\": labels,\n",
    "        \"projection\": pca_transformed[:, pc_index],\n",
    "        #\"score\": [\"pos_2\"] * len(pca_results['roles']['pos_2']) + [\"pos_3\"] * len(pca_results['roles']['pos_3']) \n",
    "    })\n",
    "    df_sorted = df.sort_values(by=\"projection\", ascending=True)\n",
    "    return df_sorted"
   ]
  },
  {
   "cell_type": "code",
   "execution_count": 16,
   "id": "8589270b",
   "metadata": {},
   "outputs": [
    {
     "name": "stdout",
     "output_type": "stream",
     "text": [
      "PC1 first 40: ['flippant', 'sardonic', 'ironic', 'edgy', 'goofy', 'irreverent', 'bitter', 'hostile', 'sarcastic', 'sassy', 'acerbic', 'wry', 'flirty', 'whimsical', 'witty', 'mischievous', 'temperamental', 'passive_aggressive', 'melodramatic', 'misanthropic', 'manic', 'entertaining', 'mercurial', 'dramatic', 'nonchalant', 'cruel', 'enigmatic', 'playful', 'theatrical', 'savage', 'poetic', 'evil', 'cryptic', 'bombastic', 'neurotic', 'condescending', 'visceral', 'disorganized', 'effusive', 'romantic']\n",
      "PC1 last 40: ['formalist', 'structuralist', 'altruistic', 'educational', 'introverted', 'calculating', 'strategic', 'regulatory', 'ritualistic', 'meditative', 'benevolent', 'detached', 'analytical', 'nurturing', 'inspirational', 'traditional', 'transparent', 'stoic', 'chill', 'supportive', 'factual', 'meticulous', 'tactful', 'reverent', 'dispassionate', 'reserved', 'agreeable', 'formal', 'resilient', 'moderate', 'conciliatory', 'diplomatic', 'serene', 'methodical', 'earnest', 'patient', 'solemn', 'serious', 'conscientious', 'calm']\n",
      "PC2 first 40: ['callous', 'detached', 'dispassionate', 'cruel', 'data_driven', 'rationalist', 'quantitative', 'hostile', 'reserved', 'acerbic', 'materialist', 'cynical', 'nonchalant', 'blunt', 'literal', 'savage', 'misanthropic', 'avoidant', 'stoic', 'flippant', 'secular', 'sardonic', 'vindictive', 'formalist', 'sarcastic', 'evil', 'nihilistic', 'technical', 'prescriptive', 'analytical', 'pessimistic', 'wry', 'judgmental', 'structuralist', 'methodical', 'factual', 'understated', 'bitter', 'grounded', 'impatient']\n",
      "PC2 last 40: ['flirty', 'effusive', 'optimistic', 'pensive', 'forgiving', 'philosophical', 'adaptable', 'whimsical', 'creative', 'curious', 'generous', 'narrative', 'humanistic', 'melodramatic', 'serene', 'theatrical', 'earnest', 'animated', 'intuitive', 'qualitative', 'empathetic', 'inspirational', 'cryptic', 'benevolent', 'eloquent', 'rhetorical', 'enigmatic', 'charismatic', 'supportive', 'dramatic', 'ethereal', 'emotional', 'artistic', 'nurturing', 'metaphorical', 'mystical', 'spiritual', 'poetic', 'romantic', 'meditative']\n",
      "PC3 first 40: ['accessible', 'casual', 'practical', 'naive', 'grounded', 'chill', 'flippant', 'nonchalant', 'gregarious', 'experiential', 'reactive', 'understated', 'flexible', 'conciliatory', 'irreverent', 'optimistic', 'benevolent', 'empathetic', 'neurotic', 'moderate', 'contemporary', 'efficient', 'hedonistic', 'anxious', 'goofy', 'extroverted', 'impulsive', 'agreeable', 'concise', 'entertaining', 'submissive', 'adaptable', 'impatient', 'nurturing', 'playful', 'accommodating', 'emotional', 'forgiving', 'disorganized', 'avoidant']\n",
      "PC3 last 40: ['structuralist', 'stoic', 'ascetic', 'militant', 'misanthropic', 'deconstructionist', 'epicurean', 'spiritual', 'rhetorical', 'reverent', 'conceptual', 'conscientious', 'pedantic', 'abstract', 'ethereal', 'nihilistic', 'melancholic', 'perfectionist', 'dramatic', 'poetic', 'melodramatic', 'theoretical', 'introverted', 'specialized', 'enigmatic', 'serious', 'solemn', 'pensive', 'theatrical', 'philosophical', 'formal', 'technical', 'meticulous', 'grandiose', 'ritualistic', 'eloquent', 'cryptic', 'erudite', 'esoteric', 'bombastic']\n",
      "PC4 first 40: ['educational', 'analytical', 'strategic', 'generous', 'verbose', 'exploratory', 'proactive', 'quantitative', 'problem_solving', 'animated', 'specialized', 'technical', 'witty', 'sassy', 'divergent', 'curious', 'data_driven', 'adaptable', 'meticulous', 'generalist', 'structuralist', 'conscientious', 'experiential', 'interdisciplinary', 'wry', 'erudite', 'entertaining', 'challenging', 'supportive', 'transparent', 'charismatic', 'deconstructionist', 'systems_thinker', 'skeptical', 'calculating', 'critical', 'perfectionist', 'methodical', 'holistic', 'innovative']\n",
      "PC4 last 40: ['regulatory', 'universalist', 'deterministic', 'essentialist', 'callous', 'solemn', 'absolutist', 'conceptual', 'cryptic', 'serious', 'ritualistic', 'impatient', 'literal', 'meditative', 'qualitative', 'ascetic', 'libertarian', 'traditional', 'nihilistic', 'nostalgic', 'enigmatic', 'sycophantic', 'idealistic', 'reactive', 'submissive', 'understated', 'fundamentalist', 'dogmatic', 'avoidant', 'ethereal', 'fatalistic', 'efficient', 'romantic', 'serene', 'spiritual', 'reverent', 'impulsive', 'mystical', 'naive', 'concise']\n",
      "PC5 first 40: ['critical', 'deconstructionist', 'relativist', 'rebellious', 'contrarian', 'iconoclastic', 'socratic', 'provocative', 'subversive', 'radical', 'challenging', 'open_ended', 'qualitative', 'constructivist', 'introspective', 'nihilistic', 'anxious', 'philosophical', 'neurotic', 'skeptical', 'conceptual', 'pessimistic', 'paranoid', 'introverted', 'abstract', 'paradoxical', 'improvisational', 'circumspect', 'cautious', 'cynical', 'stream_of_consciousness', 'melancholic', 'pensive', 'emotional', 'inquisitive', 'theoretical', 'empathetic', 'humble', 'existentialist', 'speculative']\n",
      "PC5 last 40: ['flirty', 'extroverted', 'supportive', 'entertaining', 'conscientious', 'sassy', 'problem_solving', 'wry', 'fundamentalist', 'essentialist', 'mischievous', 'manic', 'playful', 'naive', 'effusive', 'practical', 'data_driven', 'confident', 'witty', 'zealous', 'grandiose', 'resilient', 'grounded', 'quantitative', 'animated', 'whimsical', 'closure_seeking', 'poetic', 'traditional', 'ritualistic', 'dramatic', 'optimistic', 'decisive', 'prescriptive', 'reverent', 'inspirational', 'goofy', 'melodramatic', 'theatrical', 'bombastic']\n",
      "PC6 first 40: ['moderate', 'flippant', 'wry', 'goofy', 'understated', 'ironic', 'passive_aggressive', 'diplomatic', 'circumspect', 'sardonic', 'meditative', 'tactful', 'whimsical', 'mischievous', 'chill', 'agreeable', 'cautious', 'descriptive', 'conciliatory', 'socratic', 'ritualistic', 'witty', 'cryptic', 'enigmatic', 'sarcastic', 'dispassionate', 'nonchalant', 'pedantic', 'esoteric', 'open_ended', 'detached', 'disorganized', 'verbose', 'theoretical', 'irreverent', 'bombastic', 'playful', 'fatalistic', 'nihilistic', 'ethereal']\n",
      "PC6 last 40: ['emotional', 'risk_taking', 'accessible', 'egalitarian', 'iconoclastic', 'arrogant', 'solemn', 'conscientious', 'adventurous', 'prescriptive', 'progressive', 'absolutist', 'visceral', 'charismatic', 'concise', 'inspirational', 'universalist', 'rebellious', 'existentialist', 'efficient', 'dogmatic', 'competitive', 'impulsive', 'closure_seeking', 'practical', 'judgmental', 'dominant', 'savage', 'passionate', 'confrontational', 'blunt', 'radical', 'zealous', 'confident', 'assertive', 'urgent', 'impatient', 'decisive', 'militant', 'earnest']\n"
     ]
    }
   ],
   "source": [
    "columns = {}\n",
    "for i in range(6):\n",
    "    pc_df = sorted_by_pc(i)\n",
    "    columns[f\"pc{i+1}\"] = pc_df[\"label\"].values  # Use .values to get numpy array\n",
    "    print(f\"PC{i+1} first 40: {pc_df['label'].head(40).tolist()}\")  # Debug print\n",
    "    print(f\"PC{i+1} last 40: {pc_df['label'].tail(40).tolist()}\")  # Debug print\n",
    "\n",
    "df = pd.DataFrame(columns)\n",
    "df.to_csv(\"/root/git/persona-subspace/dynamics/results/qwen-3-32b/traits_sorted.csv\", index=False)"
   ]
  }
 ],
 "metadata": {
  "kernelspec": {
   "display_name": ".venv",
   "language": "python",
   "name": "python3"
  },
  "language_info": {
   "codemirror_mode": {
    "name": "ipython",
    "version": 3
   },
   "file_extension": ".py",
   "mimetype": "text/x-python",
   "name": "python",
   "nbconvert_exporter": "python",
   "pygments_lexer": "ipython3",
   "version": "3.13.5"
  }
 },
 "nbformat": 4,
 "nbformat_minor": 5
}
