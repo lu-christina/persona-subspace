{
 "cells": [
  {
   "cell_type": "markdown",
   "id": "a3dc0cb2",
   "metadata": {},
   "source": [
    "# Scratch pad"
   ]
  },
  {
   "cell_type": "code",
   "execution_count": 2,
   "id": "1ac6cd8d",
   "metadata": {},
   "outputs": [],
   "source": [
    "import json\n",
    "import torch\n",
    "import pandas as pd\n",
    "import os\n",
    "import plotly.graph_objects as go\n",
    "import numpy as np\n",
    "import sys\n",
    "\n",
    "sys.path.append(\".\")\n",
    "sys.path.append(\"..\")\n",
    "\n",
    "from utils.probing_utils import *"
   ]
  },
  {
   "cell_type": "markdown",
   "id": "ba2fb456",
   "metadata": {},
   "source": [
    "## PCA projected into vocab"
   ]
  },
  {
   "cell_type": "code",
   "execution_count": 9,
   "id": "014dc6ee",
   "metadata": {},
   "outputs": [],
   "source": [
    "from sklearn.preprocessing import StandardScaler"
   ]
  },
  {
   "cell_type": "code",
   "execution_count": 6,
   "id": "0caa0fc1",
   "metadata": {},
   "outputs": [],
   "source": [
    "unique_pca_results = torch.load(\"/workspace/traits/pca/pos_neg_50_layer34.pt\", weights_only=False)\n",
    "shared_pca_results = torch.load(\"/workspace/traits_240/pca/pos_neg_50_layer34.pt\", weights_only=False)"
   ]
  },
  {
   "cell_type": "code",
   "execution_count": 11,
   "id": "f6cc3406",
   "metadata": {},
   "outputs": [
    {
     "data": {
      "application/vnd.jupyter.widget-view+json": {
       "model_id": "4ef2eb8f1bea4bf98f59a35961527521",
       "version_major": 2,
       "version_minor": 0
      },
      "text/plain": [
       "Loading checkpoint shards:   0%|          | 0/12 [00:00<?, ?it/s]"
      ]
     },
     "metadata": {},
     "output_type": "display_data"
    }
   ],
   "source": [
    "model, tokenizer= load_model('google/gemma-2-27b-it')"
   ]
  },
  {
   "cell_type": "code",
   "execution_count": 27,
   "id": "660c0973",
   "metadata": {},
   "outputs": [],
   "source": [
    "def project_pc_to_vocab(model, pca_results, pc_index, layer_index, device='cuda', top_k=50):\n",
    "    \"\"\"\n",
    "    Project a PC direction to vocabulary space\n",
    "    \n",
    "    Args:\n",
    "        model: HuggingFace model\n",
    "        pca_results: Your loaded PCA results dict\n",
    "        pc_index: Which PC to analyze (0-indexed)\n",
    "        layer_index: Which layer the PCA was computed from\n",
    "        device: Device to run on\n",
    "        top_k: Number of top tokens to return\n",
    "    \"\"\"\n",
    "    # Validation checks\n",
    "    if pc_index >= pca_results['n_components']:\n",
    "        raise ValueError(f\"PC index {pc_index} exceeds available components {pca_results['n_components']}\")\n",
    "    \n",
    "    if layer_index >= len(model.model.layers):\n",
    "        raise ValueError(f\"Layer index {layer_index} exceeds model layers {len(model.model.layers)}\")\n",
    "    \n",
    "    # Get the PC direction from sklearn PCA\n",
    "    pc_direction = pca_results['pca'].components_[pc_index]  # Shape: [d_model]\n",
    "    \n",
    "    # Convert to torch tensor with proper device and dtype\n",
    "    model_device = next(model.parameters()).device\n",
    "    model_dtype = next(model.parameters()).dtype\n",
    "    pc_tensor = torch.tensor(pc_direction, dtype=model_dtype, device=model_device)\n",
    "    \n",
    "    # Handle standardization if it was applied\n",
    "    if 'scaler' in pca_results and pca_results['scaler'] is not None:\n",
    "        scaler = pca_results['scaler']\n",
    "        scale_tensor = torch.tensor(scaler.scale_, dtype=model_dtype, device=model_device)\n",
    "        pc_tensor = pc_tensor * scale_tensor\n",
    "    \n",
    "    # Project both positive and negative directions\n",
    "    directions = {'positive': pc_tensor, 'negative': -pc_tensor}\n",
    "    results = {}\n",
    "    \n",
    "    for direction_name, direction_vector in directions.items():\n",
    "        with torch.no_grad():\n",
    "            # Start with the PC direction as hidden state\n",
    "            current_hidden = direction_vector.unsqueeze(0).unsqueeze(0)  # [batch=1, seq_len=1, hidden_dim]\n",
    "            \n",
    "            # Use only inputs_embeds, not input_ids\n",
    "            outputs = model(\n",
    "                inputs_embeds=current_hidden,\n",
    "                output_hidden_states=True,\n",
    "                return_dict=True\n",
    "            )\n",
    "            \n",
    "            # Project to vocabulary\n",
    "            vocab_logits = outputs.logits.squeeze(0).squeeze(0)  # Remove batch and seq dimensions\n",
    "            \n",
    "            # Get top-k tokens\n",
    "            top_values, top_indices = torch.topk(vocab_logits, top_k)\n",
    "            \n",
    "            results[direction_name] = {\n",
    "                'token_ids': top_indices.cpu().numpy(),\n",
    "                'logits': top_values.cpu().float().numpy(),\n",
    "            }\n",
    "    \n",
    "    return results\n",
    "\n",
    "def interpret_pc_vocabulary(model, tokenizer, pca_results, pc_index, layer_index, top_k=50):\n",
    "    \"\"\"\n",
    "    Get interpretable vocabulary for a PC and print results\n",
    "    \"\"\"\n",
    "    try:\n",
    "        vocab_proj = project_pc_to_vocab(model, pca_results, pc_index, layer_index, top_k=top_k)\n",
    "        \n",
    "        # Decode tokens for both directions\n",
    "        pos_tokens = [tokenizer.decode([token_id]).strip() for token_id in vocab_proj['positive']['token_ids']]\n",
    "        neg_tokens = [tokenizer.decode([token_id]).strip() for token_id in vocab_proj['negative']['token_ids']]\n",
    "        \n",
    "        print(f\"PC{pc_index} Vocabulary Projection (from layer {layer_index}):\")\n",
    "        print(f\"Variance explained: {pca_results['variance_explained'][pc_index]:.4f}\")\n",
    "        print(f\"Cumulative variance: {sum(pca_results['variance_explained'][:pc_index+1]):.4f}\")\n",
    "        \n",
    "        print(f\"\\nPositive direction (top {min(20, top_k)} tokens):\")\n",
    "        for i, (token, logit) in enumerate(zip(pos_tokens[:20], vocab_proj['positive']['logits'][:20])):\n",
    "            print(f\"  {i+1:2d}. '{token}' (logit: {logit:.3f})\")\n",
    "        \n",
    "        print(f\"\\nNegative direction (top {min(20, top_k)} tokens):\")  \n",
    "        for i, (token, logit) in enumerate(zip(neg_tokens[:20], vocab_proj['negative']['logits'][:20])):\n",
    "            print(f\"  {i+1:2d}. '{token}' (logit: {logit:.3f})\")\n",
    "        \n",
    "        return {\n",
    "            'positive_tokens': list(zip(pos_tokens, vocab_proj['positive']['logits'])),\n",
    "            'negative_tokens': list(zip(neg_tokens, vocab_proj['negative']['logits'])),\n",
    "            'variance_explained': pca_results['variance_explained'][pc_index]\n",
    "        }\n",
    "        \n",
    "    except Exception as e:\n",
    "        print(f\"Error analyzing PC{pc_index}: {str(e)}\")\n",
    "        return None\n",
    "\n",
    "def analyze_all_pcs(model, tokenizer, pca_results, layer_index, max_pcs=10, top_k=20):\n",
    "    \"\"\"Analyze vocabulary projections for multiple PCs\"\"\"\n",
    "    results = {}\n",
    "    \n",
    "    n_pcs = min(max_pcs, pca_results['n_components'])\n",
    "    \n",
    "    print(f\"Analyzing {n_pcs} PCs from layer {layer_index}\")\n",
    "    print(f\"Model: {model.__class__.__name__}\")\n",
    "    print(f\"Total layers: {len(model.model.layers)}\")\n",
    "    print(f\"PCA components shape: {pca_results['pca'].components_.shape}\")\n",
    "    \n",
    "    for pc_idx in range(n_pcs):\n",
    "        print(f\"\\n{'='*60}\")\n",
    "        vocab_analysis = interpret_pc_vocabulary(model, tokenizer, pca_results, pc_idx, layer_index, top_k)\n",
    "        if vocab_analysis is not None:\n",
    "            results[f'PC{pc_idx}'] = vocab_analysis\n",
    "        \n",
    "    return results"
   ]
  },
  {
   "cell_type": "code",
   "execution_count": 28,
   "id": "09c34a9f",
   "metadata": {},
   "outputs": [
    {
     "name": "stdout",
     "output_type": "stream",
     "text": [
      "Analyzing 10 PCs from layer 34\n",
      "Model: Gemma2ForCausalLM\n",
      "Total layers: 46\n",
      "PCA components shape: (239, 4608)\n",
      "\n",
      "============================================================\n",
      "PC0 Vocabulary Projection (from layer 34):\n",
      "Variance explained: 0.1966\n",
      "Cumulative variance: 0.1966\n",
      "\n",
      "Positive direction (top 20 tokens):\n",
      "   1. '' (logit: 12.938)\n",
      "   2. 'I' (logit: 11.750)\n",
      "   3. '-' (logit: 11.438)\n",
      "   4. 'AS' (logit: 10.438)\n",
      "   5. '**' (logit: 10.125)\n",
      "   6. 'I' (logit: 9.812)\n",
      "   7. '' (logit: 9.688)\n",
      "   8. '--' (logit: 9.625)\n",
      "   9. 'commits' (logit: 9.438)\n",
      "  10. '...' (logit: 9.438)\n",
      "  11. '-\"' (logit: 9.375)\n",
      "  12. 'As' (logit: 9.375)\n",
      "  13. '***' (logit: 9.375)\n",
      "  14. 'SO' (logit: 9.250)\n",
      "  15. 'ST' (logit: 9.125)\n",
      "  16. 'NEVER' (logit: 9.125)\n",
      "  17. 'ASC' (logit: 9.062)\n",
      "  18. '' (logit: 9.062)\n",
      "  19. '💀' (logit: 8.875)\n",
      "  20. 'IT' (logit: 8.875)\n",
      "\n",
      "Negative direction (top 20 tokens):\n",
      "   1. ':' (logit: 14.312)\n",
      "   2. 'Occur' (logit: 12.062)\n",
      "   3. '.' (logit: 11.562)\n",
      "   4. '-' (logit: 11.562)\n",
      "   5. '' (logit: 11.562)\n",
      "   6. ',' (logit: 11.438)\n",
      "   7. 'Occurrence' (logit: 11.312)\n",
      "   8. 'situations' (logit: 11.000)\n",
      "   9. 'Situations' (logit: 10.875)\n",
      "  10. '' (logit: 10.812)\n",
      "  11. 'occurrence' (logit: 10.562)\n",
      "  12. 'While' (logit: 10.562)\n",
      "  13. 'occurring' (logit: 10.500)\n",
      "  14. 'occurred' (logit: 10.188)\n",
      "  15. 'with' (logit: 10.062)\n",
      "  16. 'Towards' (logit: 10.062)\n",
      "  17. 'occurrences' (logit: 9.938)\n",
      "  18. 'Following' (logit: 9.938)\n",
      "  19. 'To' (logit: 9.938)\n",
      "  20. 'towards' (logit: 9.875)\n",
      "\n",
      "============================================================\n",
      "PC1 Vocabulary Projection (from layer 34):\n",
      "Variance explained: 0.1409\n",
      "Cumulative variance: 0.3375\n",
      "\n",
      "Positive direction (top 20 tokens):\n",
      "   1. ',' (logit: 14.938)\n",
      "   2. '' (logit: 13.625)\n",
      "   3. 'with' (logit: 13.625)\n",
      "   4. 'wonders' (logit: 13.188)\n",
      "   5. 'in' (logit: 12.750)\n",
      "   6. 'together' (logit: 12.688)\n",
      "   7. 'on' (logit: 12.625)\n",
      "   8. '✨' (logit: 12.625)\n",
      "   9. '?' (logit: 12.500)\n",
      "  10. 'Together' (logit: 12.125)\n",
      "  11. 'shines' (logit: 12.125)\n",
      "  12. 'hearts' (logit: 12.000)\n",
      "  13. 'Wonder' (logit: 11.688)\n",
      "  14. '' (logit: 11.562)\n",
      "  15. 'too' (logit: 11.500)\n",
      "  16. 'wondering' (logit: 11.500)\n",
      "  17. '' (logit: 11.375)\n",
      "  18. 'wonder' (logit: 11.375)\n",
      "  19. 'We' (logit: 11.062)\n",
      "  20. 'whispers' (logit: 11.000)\n",
      "\n",
      "Negative direction (top 20 tokens):\n",
      "   1. '' (logit: 13.375)\n",
      "   2. 'Sub' (logit: 13.125)\n",
      "   3. 'Domin' (logit: 12.125)\n",
      "   4. 'Temporal' (logit: 11.625)\n",
      "   5. 'Ind' (logit: 11.500)\n",
      "   6. 'Liberal' (logit: 11.188)\n",
      "   7. 'Individual' (logit: 11.125)\n",
      "   8. 'Paradigm' (logit: 10.750)\n",
      "   9. 'Sup' (logit: 10.250)\n",
      "  10. 'Par' (logit: 10.188)\n",
      "  11. 'para' (logit: 10.062)\n",
      "  12. 'Execution' (logit: 10.062)\n",
      "  13. 'Para' (logit: 10.062)\n",
      "  14. 'Parti' (logit: 9.938)\n",
      "  15. 'Empirical' (logit: 9.875)\n",
      "  16. '' (logit: 9.875)\n",
      "  17. 'Individuals' (logit: 9.688)\n",
      "  18. 'That' (logit: 9.625)\n",
      "  19. 'Financial' (logit: 9.625)\n",
      "  20. 'Integral' (logit: 9.625)\n",
      "\n",
      "============================================================\n",
      "PC2 Vocabulary Projection (from layer 34):\n",
      "Variance explained: 0.1125\n",
      "Cumulative variance: 0.4500\n",
      "\n",
      "Positive direction (top 20 tokens):\n",
      "   1. 'borne' (logit: 12.438)\n",
      "   2. 'tapestry' (logit: 12.312)\n",
      "   3. 'born' (logit: 12.125)\n",
      "   4. '.' (logit: 11.875)\n",
      "   5. '' (logit: 11.750)\n",
      "   6. 'celestial' (logit: 11.688)\n",
      "   7. 'We' (logit: 11.625)\n",
      "   8. 'nascent' (logit: 11.562)\n",
      "   9. 'transg' (logit: 11.562)\n",
      "  10. 'the' (logit: 11.562)\n",
      "  11. 'they' (logit: 11.500)\n",
      "  12. 'Unve' (logit: 11.500)\n",
      "  13. 'yet' (logit: 11.438)\n",
      "  14. 'transcendent' (logit: 11.438)\n",
      "  15. 'unveiled' (logit: 11.312)\n",
      "  16. 'transgression' (logit: 11.250)\n",
      "  17. 'ordained' (logit: 11.000)\n",
      "  18. 'we' (logit: 10.875)\n",
      "  19. 'that' (logit: 10.750)\n",
      "  20. 'a' (logit: 10.750)\n",
      "\n",
      "Negative direction (top 20 tokens):\n",
      "   1. ',' (logit: 13.250)\n",
      "   2. 'things' (logit: 12.938)\n",
      "   3. 'things' (logit: 12.750)\n",
      "   4. 'up' (logit: 12.625)\n",
      "   5. '.' (logit: 12.625)\n",
      "   6. '<eos>' (logit: 12.062)\n",
      "   7. '!' (logit: 12.000)\n",
      "   8. '*' (logit: 11.750)\n",
      "   9. '**' (logit: 11.688)\n",
      "  10. 'thinks' (logit: 11.562)\n",
      "  11. 'Think' (logit: 11.375)\n",
      "  12. '' (logit: 11.375)\n",
      "  13. '**' (logit: 11.312)\n",
      "  14. 'think' (logit: 11.188)\n",
      "  15. 'I' (logit: 11.062)\n",
      "  16. '' (logit: 10.938)\n",
      "  17. 'up' (logit: 10.875)\n",
      "  18. '' (logit: 10.875)\n",
      "  19. 'Things' (logit: 10.750)\n",
      "  20. 'thing' (logit: 10.500)\n",
      "\n",
      "============================================================\n",
      "PC3 Vocabulary Projection (from layer 34):\n",
      "Variance explained: 0.0765\n",
      "Cumulative variance: 0.5266\n",
      "\n",
      "Positive direction (top 20 tokens):\n",
      "   1. ':' (logit: 11.438)\n",
      "   2. 'Quit' (logit: 11.000)\n",
      "   3. '' (logit: 10.750)\n",
      "   4. 'My' (logit: 10.438)\n",
      "   5. 'of' (logit: 10.312)\n",
      "   6. 'Don' (logit: 9.812)\n",
      "   7. 'Do' (logit: 9.438)\n",
      "   8. '?' (logit: 9.438)\n",
      "   9. 'icking' (logit: 9.250)\n",
      "  10. 'Over' (logit: 9.062)\n",
      "  11. 'outta' (logit: 9.062)\n",
      "  12. 'Not' (logit: 8.938)\n",
      "  13. 'Daddy' (logit: 8.875)\n",
      "  14. '.' (logit: 8.750)\n",
      "  15. '' (logit: 8.625)\n",
      "  16. 'Of' (logit: 8.625)\n",
      "  17. ':**' (logit: 8.625)\n",
      "  18. 'Kid' (logit: 8.562)\n",
      "  19. 'Career' (logit: 8.312)\n",
      "  20. 'Quit' (logit: 8.250)\n",
      "\n",
      "Negative direction (top 20 tokens):\n",
      "   1. '.' (logit: 15.938)\n",
      "   2. '' (logit: 14.438)\n",
      "   3. 'and' (logit: 14.438)\n",
      "   4. 'is' (logit: 13.625)\n",
      "   5. '' (logit: 13.562)\n",
      "   6. ',' (logit: 12.625)\n",
      "   7. 'And' (logit: 12.375)\n",
      "   8. 'ever' (logit: 12.125)\n",
      "   9. ''' (logit: 12.000)\n",
      "  10. '' (logit: 11.875)\n",
      "  11. 'always' (logit: 11.812)\n",
      "  12. 'And' (logit: 11.812)\n",
      "  13. 'It' (logit: 11.750)\n",
      "  14. 'truest' (logit: 11.688)\n",
      "  15. ''' (logit: 11.688)\n",
      "  16. 'they' (logit: 11.562)\n",
      "  17. 'They' (logit: 11.375)\n",
      "  18. '' (logit: 11.312)\n",
      "  19. 'it' (logit: 11.312)\n",
      "  20. 'gentle' (logit: 11.312)\n",
      "\n",
      "============================================================\n",
      "PC4 Vocabulary Projection (from layer 34):\n",
      "Variance explained: 0.0448\n",
      "Cumulative variance: 0.5714\n",
      "\n",
      "Positive direction (top 20 tokens):\n",
      "   1. '' (logit: 14.438)\n",
      "   2. 'All' (logit: 13.438)\n",
      "   3. 'You' (logit: 11.500)\n",
      "   4. 'De' (logit: 11.438)\n",
      "   5. 'all' (logit: 11.375)\n",
      "   6. 'It' (logit: 11.062)\n",
      "   7. '.' (logit: 10.875)\n",
      "   8. 'Please' (logit: 10.438)\n",
      "   9. '' (logit: 10.375)\n",
      "  10. 'Or' (logit: 10.062)\n",
      "  11. 'Virtual' (logit: 10.000)\n",
      "  12. 'The' (logit: 9.688)\n",
      "  13. 'Of' (logit: 9.562)\n",
      "  14. ':' (logit: 9.375)\n",
      "  15. 'On' (logit: 9.375)\n",
      "  16. '' (logit: 9.375)\n",
      "  17. 'One' (logit: 9.375)\n",
      "  18. 'Think' (logit: 9.250)\n",
      "  19. '' (logit: 9.125)\n",
      "  20. 'All' (logit: 9.000)\n",
      "\n",
      "Negative direction (top 20 tokens):\n",
      "   1. '.' (logit: 12.188)\n",
      "   2. '' (logit: 12.125)\n",
      "   3. '<eos>' (logit: 11.812)\n",
      "   4. '' (logit: 11.688)\n",
      "   5. '💀' (logit: 11.562)\n",
      "   6. 'KILL' (logit: 11.125)\n",
      "   7. 'I' (logit: 10.812)\n",
      "   8. '!' (logit: 10.750)\n",
      "   9. '**' (logit: 10.750)\n",
      "  10. '💀' (logit: 10.625)\n",
      "  11. '' (logit: 10.438)\n",
      "  12. '' (logit: 10.375)\n",
      "  13. '🔥🔥' (logit: 10.312)\n",
      "  14. 'I' (logit: 10.250)\n",
      "  15. '🔥' (logit: 10.188)\n",
      "  16. '```' (logit: 10.188)\n",
      "  17. '/' (logit: 10.062)\n",
      "  18. 'DIE' (logit: 10.000)\n",
      "  19. 'EVERY' (logit: 9.875)\n",
      "  20. 'END' (logit: 9.812)\n",
      "\n",
      "============================================================\n",
      "PC5 Vocabulary Projection (from layer 34):\n",
      "Variance explained: 0.0374\n",
      "Cumulative variance: 0.6088\n",
      "\n",
      "Positive direction (top 20 tokens):\n",
      "   1. '' (logit: 15.562)\n",
      "   2. '.' (logit: 13.688)\n",
      "   3. '' (logit: 11.688)\n",
      "   4. '' (logit: 11.562)\n",
      "   5. '✨' (logit: 11.438)\n",
      "   6. 'Extra' (logit: 10.312)\n",
      "   7. '🌟' (logit: 10.125)\n",
      "   8. 'Certified' (logit: 9.938)\n",
      "   9. 'Twas' (logit: 9.938)\n",
      "  10. '💫' (logit: 9.875)\n",
      "  11. 'Thy' (logit: 9.875)\n",
      "  12. 'Ain' (logit: 9.375)\n",
      "  13. 'Du' (logit: 9.312)\n",
      "  14. 'Certified' (logit: 9.312)\n",
      "  15. 'A' (logit: 9.312)\n",
      "  16. '**' (logit: 9.250)\n",
      "  17. 'existent' (logit: 9.250)\n",
      "  18. 'Not' (logit: 9.188)\n",
      "  19. 'Namaste' (logit: 9.125)\n",
      "  20. 'Beat' (logit: 9.125)\n",
      "\n",
      "Negative direction (top 20 tokens):\n",
      "   1. 'It' (logit: 14.438)\n",
      "   2. '' (logit: 14.312)\n",
      "   3. 'I' (logit: 13.625)\n",
      "   4. 'it' (logit: 12.500)\n",
      "   5. 'to' (logit: 11.812)\n",
      "   6. '' (logit: 11.375)\n",
      "   7. 'To' (logit: 11.062)\n",
      "   8. 'is' (logit: 10.875)\n",
      "   9. '.' (logit: 10.750)\n",
      "  10. '' (logit: 10.750)\n",
      "  11. '' (logit: 10.688)\n",
      "  12. 'for' (logit: 10.688)\n",
      "  13. 'It' (logit: 10.688)\n",
      "  14. 'only' (logit: 10.500)\n",
      "  15. 'was' (logit: 10.000)\n",
      "  16. 'foolish' (logit: 9.875)\n",
      "  17. 'The' (logit: 9.438)\n",
      "  18. 'If' (logit: 9.250)\n",
      "  19. 'Only' (logit: 9.250)\n",
      "  20. 'fools' (logit: 9.250)\n",
      "\n",
      "============================================================\n",
      "PC6 Vocabulary Projection (from layer 34):\n",
      "Variance explained: 0.0358\n",
      "Cumulative variance: 0.6446\n",
      "\n",
      "Positive direction (top 20 tokens):\n",
      "   1. '.' (logit: 15.125)\n",
      "   2. '' (logit: 13.250)\n",
      "   3. ',' (logit: 13.188)\n",
      "   4. 'to' (logit: 12.688)\n",
      "   5. 'persists' (logit: 12.562)\n",
      "   6. 'is' (logit: 12.062)\n",
      "   7. '?' (logit: 11.812)\n",
      "   8. 'the' (logit: 11.562)\n",
      "   9. 'too' (logit: 11.562)\n",
      "  10. 'same' (logit: 11.312)\n",
      "  11. '' (logit: 11.188)\n",
      "  12. 'ends' (logit: 11.125)\n",
      "  13. 'that' (logit: 11.062)\n",
      "  14. 'reality' (logit: 10.875)\n",
      "  15. 'and' (logit: 10.750)\n",
      "  16. 'still' (logit: 10.625)\n",
      "  17. 'itself' (logit: 10.625)\n",
      "  18. 'anyway' (logit: 10.438)\n",
      "  19. 'fades' (logit: 10.375)\n",
      "  20. 'anyways' (logit: 10.375)\n",
      "\n",
      "Negative direction (top 20 tokens):\n",
      "   1. '' (logit: 15.375)\n",
      "   2. '' (logit: 13.625)\n",
      "   3. '' (logit: 12.625)\n",
      "   4. 'Only' (logit: 12.438)\n",
      "   5. 'Who' (logit: 12.188)\n",
      "   6. 'who' (logit: 12.062)\n",
      "   7. 'What' (logit: 11.812)\n",
      "   8. '!' (logit: 11.812)\n",
      "   9. '!!!' (logit: 11.438)\n",
      "  10. 'We' (logit: 11.312)\n",
      "  11. 'only' (logit: 11.000)\n",
      "  12. 'But' (logit: 10.938)\n",
      "  13. 'Twas' (logit: 10.625)\n",
      "  14. 'They' (logit: 10.562)\n",
      "  15. 'It' (logit: 10.438)\n",
      "  16. 'She' (logit: 10.438)\n",
      "  17. '' (logit: 10.375)\n",
      "  18. 'only' (logit: 10.250)\n",
      "  19. '' (logit: 10.250)\n",
      "  20. 'You' (logit: 10.062)\n",
      "\n",
      "============================================================\n",
      "PC7 Vocabulary Projection (from layer 34):\n",
      "Variance explained: 0.0253\n",
      "Cumulative variance: 0.6699\n",
      "\n",
      "Positive direction (top 20 tokens):\n",
      "   1. '' (logit: 14.438)\n",
      "   2. 'Consciousness' (logit: 13.875)\n",
      "   3. '...' (logit: 13.375)\n",
      "   4. 'Trans' (logit: 13.188)\n",
      "   5. 'We' (logit: 12.375)\n",
      "   6. 'consciousness' (logit: 12.312)\n",
      "   7. 'Transc' (logit: 12.062)\n",
      "   8. 'beyond' (logit: 12.000)\n",
      "   9. 'consciousness' (logit: 11.750)\n",
      "  10. '**' (logit: 11.500)\n",
      "  11. '**' (logit: 11.375)\n",
      "  12. 'Trans' (logit: 11.312)\n",
      "  13. '...' (logit: 11.188)\n",
      "  14. 'Knowledge' (logit: 11.125)\n",
      "  15. 'Conscious' (logit: 11.062)\n",
      "  16. 'trans' (logit: 11.000)\n",
      "  17. 'This' (logit: 10.938)\n",
      "  18. '-' (logit: 10.875)\n",
      "  19. 'infinite' (logit: 10.750)\n",
      "  20. 'Meta' (logit: 10.750)\n",
      "\n",
      "Negative direction (top 20 tokens):\n",
      "   1. '' (logit: 15.375)\n",
      "   2. '' (logit: 13.812)\n",
      "   3. 'And' (logit: 13.188)\n",
      "   4. '' (logit: 12.938)\n",
      "   5. 'And' (logit: 12.812)\n",
      "   6. '.' (logit: 12.562)\n",
      "   7. 'along' (logit: 12.500)\n",
      "   8. 'and' (logit: 12.438)\n",
      "   9. 'Along' (logit: 12.375)\n",
      "  10. 'Along' (logit: 11.688)\n",
      "  11. '' (logit: 11.438)\n",
      "  12. 'Then' (logit: 11.375)\n",
      "  13. 'Together' (logit: 11.000)\n",
      "  14. 'With' (logit: 11.000)\n",
      "  15. 'together' (logit: 10.938)\n",
      "  16. 'Hand' (logit: 10.750)\n",
      "  17. 'Together' (logit: 10.688)\n",
      "  18. 'and' (logit: 10.625)\n",
      "  19. 'Time' (logit: 10.500)\n",
      "  20. 'with' (logit: 10.438)\n",
      "\n",
      "============================================================\n",
      "PC8 Vocabulary Projection (from layer 34):\n",
      "Variance explained: 0.0207\n",
      "Cumulative variance: 0.6906\n",
      "\n",
      "Positive direction (top 20 tokens):\n",
      "   1. '' (logit: 15.375)\n",
      "   2. 'We' (logit: 12.125)\n",
      "   3. '' (logit: 10.625)\n",
      "   4. ':' (logit: 10.125)\n",
      "   5. '.' (logit: 10.000)\n",
      "   6. 'But' (logit: 10.000)\n",
      "   7. 'I' (logit: 9.938)\n",
      "   8. 'Every' (logit: 8.938)\n",
      "   9. 'It' (logit: 8.812)\n",
      "  10. ',' (logit: 8.562)\n",
      "  11. 'My' (logit: 8.312)\n",
      "  12. '?' (logit: 8.000)\n",
      "  13. 'This' (logit: 8.000)\n",
      "  14. 'I' (logit: 7.969)\n",
      "  15. 'And' (logit: 7.906)\n",
      "  16. '' (logit: 7.688)\n",
      "  17. 'Cra' (logit: 7.688)\n",
      "  18. 'Thou' (logit: 7.688)\n",
      "  19. 'forever' (logit: 7.562)\n",
      "  20. 'Everywhere' (logit: 7.469)\n",
      "\n",
      "Negative direction (top 20 tokens):\n",
      "   1. '.' (logit: 14.688)\n",
      "   2. ',' (logit: 13.375)\n",
      "   3. '' (logit: 13.312)\n",
      "   4. 'is' (logit: 12.875)\n",
      "   5. 'wouldn' (logit: 12.750)\n",
      "   6. 'someone' (logit: 12.438)\n",
      "   7. 'being' (logit: 12.062)\n",
      "   8. '?' (logit: 11.312)\n",
      "   9. 'in' (logit: 11.312)\n",
      "  10. 'to' (logit: 11.250)\n",
      "  11. 'and' (logit: 11.125)\n",
      "  12. 'only' (logit: 11.000)\n",
      "  13. 'whenever' (logit: 10.938)\n",
      "  14. 'indulging' (logit: 10.875)\n",
      "  15. 'on' (logit: 10.875)\n",
      "  16. 'nothing' (logit: 10.812)\n",
      "  17. 'doesn' (logit: 10.812)\n",
      "  18. 'I' (logit: 10.500)\n",
      "  19. 'finding' (logit: 10.500)\n",
      "  20. 'the' (logit: 10.438)\n",
      "\n",
      "============================================================\n",
      "PC9 Vocabulary Projection (from layer 34):\n",
      "Variance explained: 0.0177\n",
      "Cumulative variance: 0.7083\n",
      "\n",
      "Positive direction (top 20 tokens):\n",
      "   1. '' (logit: 15.688)\n",
      "   2. 'I' (logit: 14.750)\n",
      "   3. 'And' (logit: 13.812)\n",
      "   4. 'I' (logit: 13.625)\n",
      "   5. '.' (logit: 13.625)\n",
      "   6. '' (logit: 13.250)\n",
      "   7. '' (logit: 13.250)\n",
      "   8. 'and' (logit: 13.188)\n",
      "   9. '' (logit: 13.000)\n",
      "  10. 'and' (logit: 12.625)\n",
      "  11. '...' (logit: 12.000)\n",
      "  12. 'And' (logit: 11.812)\n",
      "  13. '<end_of_turn>' (logit: 11.625)\n",
      "  14. ',' (logit: 11.312)\n",
      "  15. '***' (logit: 11.250)\n",
      "  16. 'But' (logit: 11.125)\n",
      "  17. '' (logit: 11.000)\n",
      "  18. 'but' (logit: 10.812)\n",
      "  19. 'My' (logit: 10.750)\n",
      "  20. '**' (logit: 10.750)\n",
      "\n",
      "Negative direction (top 20 tokens):\n",
      "   1. '' (logit: 15.375)\n",
      "   2. '.' (logit: 12.562)\n",
      "   3. 'to' (logit: 12.562)\n",
      "   4. ',' (logit: 12.375)\n",
      "   5. '**' (logit: 10.938)\n",
      "   6. 'worthy' (logit: 10.750)\n",
      "   7. 'and' (logit: 10.750)\n",
      "   8. '**' (logit: 10.688)\n",
      "   9. 'To' (logit: 10.312)\n",
      "  10. 'for' (logit: 10.125)\n",
      "  11. '?' (logit: 10.125)\n",
      "  12. 'but' (logit: 10.062)\n",
      "  13. 'their' (logit: 9.812)\n",
      "  14. 'or' (logit: 9.812)\n",
      "  15. 'Golden' (logit: 9.812)\n",
      "  16. 'status' (logit: 9.750)\n",
      "  17. 'in' (logit: 9.375)\n",
      "  18. 'worthy' (logit: 9.375)\n",
      "  19. 'is' (logit: 9.250)\n",
      "  20. '' (logit: 9.125)\n"
     ]
    }
   ],
   "source": [
    "# For your layer 34 PCA\n",
    "analysis_results = analyze_all_pcs(model, tokenizer, shared_pca_results, layer_index=34)"
   ]
  },
  {
   "cell_type": "markdown",
   "id": "8c999a6a",
   "metadata": {},
   "source": [
    "## Compare PCA "
   ]
  },
  {
   "cell_type": "code",
   "execution_count": 2,
   "id": "85b60a7d",
   "metadata": {},
   "outputs": [],
   "source": [
    "unique_pca_results = torch.load(\"/workspace/traits/pca/pos_neg_50_layer34.pt\", weights_only=False)\n",
    "shared_pca_results = torch.load(\"/workspace/traits_240/pca/pos_neg_50_layer34.pt\", weights_only=False)\n"
   ]
  },
  {
   "cell_type": "code",
   "execution_count": 7,
   "id": "d8a03069",
   "metadata": {},
   "outputs": [
    {
     "name": "stdout",
     "output_type": "stream",
     "text": [
      "dict_keys(['layer', 'traits', 'vectors', 'pca_transformed', 'variance_explained', 'n_components', 'pca', 'scaler'])\n"
     ]
    }
   ],
   "source": [
    "print(unique_pca_results.keys())"
   ]
  },
  {
   "cell_type": "code",
   "execution_count": 13,
   "id": "g7mkoiuam5j",
   "metadata": {},
   "outputs": [
    {
     "data": {
      "application/vnd.plotly.v1+json": {
       "config": {
        "plotlyServerURL": "https://plot.ly"
       },
       "data": [
        {
         "line": {
          "color": "#1f77b4",
          "width": 2
         },
         "marker": {
          "size": 4
         },
         "mode": "lines+markers",
         "name": "Unique Trait Questions",
         "type": "scatter",
         "x": [
          1,
          2,
          3,
          4,
          5,
          6,
          7,
          8,
          9,
          10,
          11,
          12,
          13,
          14,
          15,
          16,
          17,
          18,
          19,
          20,
          21,
          22,
          23,
          24,
          25,
          26,
          27,
          28,
          29,
          30,
          31,
          32,
          33,
          34,
          35,
          36,
          37,
          38,
          39,
          40,
          41,
          42,
          43,
          44,
          45,
          46,
          47,
          48,
          49,
          50,
          51,
          52,
          53,
          54,
          55,
          56,
          57,
          58,
          59,
          60,
          61,
          62,
          63,
          64,
          65,
          66,
          67,
          68,
          69,
          70,
          71,
          72,
          73,
          74,
          75,
          76,
          77,
          78,
          79,
          80,
          81,
          82,
          83,
          84,
          85,
          86,
          87,
          88,
          89,
          90,
          91,
          92,
          93,
          94,
          95,
          96,
          97,
          98,
          99,
          100
         ],
         "y": [
          0.14948701752445853,
          0.26322171324998445,
          0.3478079763208087,
          0.4102000485620027,
          0.4467623991936966,
          0.48063175282836307,
          0.5105023014015045,
          0.5343309116420967,
          0.5563670326376458,
          0.5762527241403029,
          0.5941515834484874,
          0.609494477861113,
          0.6239570835804644,
          0.636769615724175,
          0.6490893295171472,
          0.6608973321889157,
          0.6721858609094326,
          0.6824530525246114,
          0.6917761384348922,
          0.7007910497505875,
          0.7086239544295314,
          0.7162488511848484,
          0.7233977177845471,
          0.7302019840022709,
          0.7367311587072476,
          0.7428941774681678,
          0.748802778811031,
          0.7544111545435741,
          0.7598806577478981,
          0.7652501051938674,
          0.7704693212151725,
          0.7754620406940963,
          0.7802927026143783,
          0.7850101086165884,
          0.7895898054380075,
          0.7939519880738631,
          0.7981963220951441,
          0.8023086751313625,
          0.8063897555044107,
          0.8104147339276643,
          0.8141752849072729,
          0.8178116586450992,
          0.8213646946683537,
          0.8248760646610938,
          0.8282285768912399,
          0.8314209792170842,
          0.8346002950622957,
          0.8376962346926905,
          0.8407200226628258,
          0.8436542604577029,
          0.8464882415637817,
          0.8492766546052078,
          0.8520149537946755,
          0.8546845481174359,
          0.8572468251971835,
          0.859761941660374,
          0.8622218650086666,
          0.8646437078714755,
          0.8670252225096834,
          0.8693868418722615,
          0.8716306864479952,
          0.8738346029538288,
          0.8760206789154679,
          0.8781450424721722,
          0.8802495759335232,
          0.8822985893500319,
          0.8843320327582362,
          0.8862903250872809,
          0.8882148072783173,
          0.8900881571453194,
          0.8919354108399768,
          0.8937480563701803,
          0.8955181607933225,
          0.8972807829280481,
          0.8990273266088081,
          0.9007123761871045,
          0.9023961598356968,
          0.9040600739932287,
          0.9056993629607513,
          0.9072857141846775,
          0.9088540525510419,
          0.910383465990914,
          0.9118641571834298,
          0.9133343772618091,
          0.9147909736428111,
          0.9162250528879381,
          0.9176366182933781,
          0.9190392688232548,
          0.9204206687245633,
          0.9217675635923951,
          0.9230854618776105,
          0.9243803733576244,
          0.9256366809968445,
          0.9268776318945278,
          0.9281063927967065,
          0.9293135573510422,
          0.9305010329535421,
          0.9316719304277286,
          0.932832734892635,
          0.9339517346464582
         ]
        },
        {
         "line": {
          "color": "#ff7f0e",
          "width": 2
         },
         "marker": {
          "size": 4
         },
         "mode": "lines+markers",
         "name": "Shared Trait Questions",
         "type": "scatter",
         "x": [
          1,
          2,
          3,
          4,
          5,
          6,
          7,
          8,
          9,
          10,
          11,
          12,
          13,
          14,
          15,
          16,
          17,
          18,
          19,
          20,
          21,
          22,
          23,
          24,
          25,
          26,
          27,
          28,
          29,
          30,
          31,
          32,
          33,
          34,
          35,
          36,
          37,
          38,
          39,
          40,
          41,
          42,
          43,
          44,
          45,
          46,
          47,
          48,
          49,
          50,
          51,
          52,
          53,
          54,
          55,
          56,
          57,
          58,
          59,
          60,
          61,
          62,
          63,
          64,
          65,
          66,
          67,
          68,
          69,
          70,
          71,
          72,
          73,
          74,
          75,
          76,
          77,
          78,
          79,
          80,
          81,
          82,
          83,
          84,
          85,
          86,
          87,
          88,
          89,
          90,
          91,
          92,
          93,
          94,
          95,
          96,
          97,
          98,
          99,
          100
         ],
         "y": [
          0.1966198470505133,
          0.3374987799666168,
          0.45002324630573987,
          0.526555872186992,
          0.5713637877599187,
          0.6087739521278234,
          0.6446021235221969,
          0.6699279196044471,
          0.6906279397415941,
          0.7083165210481882,
          0.7246657605858847,
          0.7397266427567608,
          0.7530226664944062,
          0.7650017655660725,
          0.7753782163142808,
          0.7853368360867767,
          0.7947570134967158,
          0.8032083330801603,
          0.8112325039340975,
          0.8188572806065777,
          0.8256548031394702,
          0.8324092585714459,
          0.8386472926430417,
          0.8442768884105413,
          0.8494432496664952,
          0.8543214926435295,
          0.8591946269204261,
          0.8638236146915085,
          0.8681670246035357,
          0.8720118025665895,
          0.8757684522131047,
          0.8794861358640202,
          0.8830963134071018,
          0.886511410996178,
          0.8898646978439523,
          0.8931473025589237,
          0.896266628537267,
          0.8992795037325811,
          0.9021683619482758,
          0.9048172967503666,
          0.9074309483190783,
          0.9099154067631644,
          0.9123595528935027,
          0.9146179555058469,
          0.9168535001344077,
          0.9189427103329451,
          0.9210177523514186,
          0.923022573631272,
          0.9249976449759372,
          0.9269426032642053,
          0.9288157540853632,
          0.9306291436826822,
          0.9323484116121654,
          0.9340324815481378,
          0.9356368293189664,
          0.9372248721773406,
          0.9387280960757529,
          0.9402009923764435,
          0.9416239202799429,
          0.9430066211362288,
          0.9443507739641126,
          0.9456690696222104,
          0.9469601172946555,
          0.9481742904971343,
          0.9493529719454078,
          0.9505138091792108,
          0.9516639292781369,
          0.9527860459044426,
          0.9538791289812817,
          0.9549369827474107,
          0.955956784219473,
          0.9569356197227123,
          0.9579025309097228,
          0.9588353805045198,
          0.9597588289272003,
          0.960654231816286,
          0.9615307521096805,
          0.9623805021247301,
          0.9632035154633333,
          0.964007285224136,
          0.9647982620696268,
          0.965574504234012,
          0.9663408577162607,
          0.9670836484521003,
          0.9678081499833024,
          0.9685071713868948,
          0.9691933113499264,
          0.9698725700522579,
          0.9705331243003865,
          0.971165324765263,
          0.9717884867793783,
          0.9723942041690898,
          0.9729792884346073,
          0.9735618496688173,
          0.9741326679894101,
          0.9746886560219827,
          0.975242635044226,
          0.975785060448263,
          0.9763191445309126,
          0.9768284689584475
         ]
        }
       ],
       "layout": {
        "annotations": [
         {
          "showarrow": false,
          "text": "80% Variance",
          "x": 1,
          "xanchor": "right",
          "xref": "x domain",
          "y": 0.8,
          "yanchor": "top",
          "yref": "y"
         },
         {
          "showarrow": false,
          "text": "90% Variance",
          "x": 1,
          "xanchor": "right",
          "xref": "x domain",
          "y": 0.9,
          "yanchor": "top",
          "yref": "y"
         }
        ],
        "height": 600,
        "legend": {
         "x": 0.01,
         "xanchor": "left",
         "y": 0.99,
         "yanchor": "top"
        },
        "shapes": [
         {
          "line": {
           "color": "gray",
           "dash": "dash"
          },
          "type": "line",
          "x0": 0,
          "x1": 1,
          "xref": "x domain",
          "y0": 0.8,
          "y1": 0.8,
          "yref": "y"
         },
         {
          "line": {
           "color": "gray",
           "dash": "dash"
          },
          "type": "line",
          "x0": 0,
          "x1": 1,
          "xref": "x domain",
          "y0": 0.9,
          "y1": 0.9,
          "yref": "y"
         }
        ],
        "template": {
         "data": {
          "bar": [
           {
            "error_x": {
             "color": "#2a3f5f"
            },
            "error_y": {
             "color": "#2a3f5f"
            },
            "marker": {
             "line": {
              "color": "white",
              "width": 0.5
             },
             "pattern": {
              "fillmode": "overlay",
              "size": 10,
              "solidity": 0.2
             }
            },
            "type": "bar"
           }
          ],
          "barpolar": [
           {
            "marker": {
             "line": {
              "color": "white",
              "width": 0.5
             },
             "pattern": {
              "fillmode": "overlay",
              "size": 10,
              "solidity": 0.2
             }
            },
            "type": "barpolar"
           }
          ],
          "carpet": [
           {
            "aaxis": {
             "endlinecolor": "#2a3f5f",
             "gridcolor": "#C8D4E3",
             "linecolor": "#C8D4E3",
             "minorgridcolor": "#C8D4E3",
             "startlinecolor": "#2a3f5f"
            },
            "baxis": {
             "endlinecolor": "#2a3f5f",
             "gridcolor": "#C8D4E3",
             "linecolor": "#C8D4E3",
             "minorgridcolor": "#C8D4E3",
             "startlinecolor": "#2a3f5f"
            },
            "type": "carpet"
           }
          ],
          "choropleth": [
           {
            "colorbar": {
             "outlinewidth": 0,
             "ticks": ""
            },
            "type": "choropleth"
           }
          ],
          "contour": [
           {
            "colorbar": {
             "outlinewidth": 0,
             "ticks": ""
            },
            "colorscale": [
             [
              0,
              "#0d0887"
             ],
             [
              0.1111111111111111,
              "#46039f"
             ],
             [
              0.2222222222222222,
              "#7201a8"
             ],
             [
              0.3333333333333333,
              "#9c179e"
             ],
             [
              0.4444444444444444,
              "#bd3786"
             ],
             [
              0.5555555555555556,
              "#d8576b"
             ],
             [
              0.6666666666666666,
              "#ed7953"
             ],
             [
              0.7777777777777778,
              "#fb9f3a"
             ],
             [
              0.8888888888888888,
              "#fdca26"
             ],
             [
              1,
              "#f0f921"
             ]
            ],
            "type": "contour"
           }
          ],
          "contourcarpet": [
           {
            "colorbar": {
             "outlinewidth": 0,
             "ticks": ""
            },
            "type": "contourcarpet"
           }
          ],
          "heatmap": [
           {
            "colorbar": {
             "outlinewidth": 0,
             "ticks": ""
            },
            "colorscale": [
             [
              0,
              "#0d0887"
             ],
             [
              0.1111111111111111,
              "#46039f"
             ],
             [
              0.2222222222222222,
              "#7201a8"
             ],
             [
              0.3333333333333333,
              "#9c179e"
             ],
             [
              0.4444444444444444,
              "#bd3786"
             ],
             [
              0.5555555555555556,
              "#d8576b"
             ],
             [
              0.6666666666666666,
              "#ed7953"
             ],
             [
              0.7777777777777778,
              "#fb9f3a"
             ],
             [
              0.8888888888888888,
              "#fdca26"
             ],
             [
              1,
              "#f0f921"
             ]
            ],
            "type": "heatmap"
           }
          ],
          "heatmapgl": [
           {
            "colorbar": {
             "outlinewidth": 0,
             "ticks": ""
            },
            "colorscale": [
             [
              0,
              "#0d0887"
             ],
             [
              0.1111111111111111,
              "#46039f"
             ],
             [
              0.2222222222222222,
              "#7201a8"
             ],
             [
              0.3333333333333333,
              "#9c179e"
             ],
             [
              0.4444444444444444,
              "#bd3786"
             ],
             [
              0.5555555555555556,
              "#d8576b"
             ],
             [
              0.6666666666666666,
              "#ed7953"
             ],
             [
              0.7777777777777778,
              "#fb9f3a"
             ],
             [
              0.8888888888888888,
              "#fdca26"
             ],
             [
              1,
              "#f0f921"
             ]
            ],
            "type": "heatmapgl"
           }
          ],
          "histogram": [
           {
            "marker": {
             "pattern": {
              "fillmode": "overlay",
              "size": 10,
              "solidity": 0.2
             }
            },
            "type": "histogram"
           }
          ],
          "histogram2d": [
           {
            "colorbar": {
             "outlinewidth": 0,
             "ticks": ""
            },
            "colorscale": [
             [
              0,
              "#0d0887"
             ],
             [
              0.1111111111111111,
              "#46039f"
             ],
             [
              0.2222222222222222,
              "#7201a8"
             ],
             [
              0.3333333333333333,
              "#9c179e"
             ],
             [
              0.4444444444444444,
              "#bd3786"
             ],
             [
              0.5555555555555556,
              "#d8576b"
             ],
             [
              0.6666666666666666,
              "#ed7953"
             ],
             [
              0.7777777777777778,
              "#fb9f3a"
             ],
             [
              0.8888888888888888,
              "#fdca26"
             ],
             [
              1,
              "#f0f921"
             ]
            ],
            "type": "histogram2d"
           }
          ],
          "histogram2dcontour": [
           {
            "colorbar": {
             "outlinewidth": 0,
             "ticks": ""
            },
            "colorscale": [
             [
              0,
              "#0d0887"
             ],
             [
              0.1111111111111111,
              "#46039f"
             ],
             [
              0.2222222222222222,
              "#7201a8"
             ],
             [
              0.3333333333333333,
              "#9c179e"
             ],
             [
              0.4444444444444444,
              "#bd3786"
             ],
             [
              0.5555555555555556,
              "#d8576b"
             ],
             [
              0.6666666666666666,
              "#ed7953"
             ],
             [
              0.7777777777777778,
              "#fb9f3a"
             ],
             [
              0.8888888888888888,
              "#fdca26"
             ],
             [
              1,
              "#f0f921"
             ]
            ],
            "type": "histogram2dcontour"
           }
          ],
          "mesh3d": [
           {
            "colorbar": {
             "outlinewidth": 0,
             "ticks": ""
            },
            "type": "mesh3d"
           }
          ],
          "parcoords": [
           {
            "line": {
             "colorbar": {
              "outlinewidth": 0,
              "ticks": ""
             }
            },
            "type": "parcoords"
           }
          ],
          "pie": [
           {
            "automargin": true,
            "type": "pie"
           }
          ],
          "scatter": [
           {
            "fillpattern": {
             "fillmode": "overlay",
             "size": 10,
             "solidity": 0.2
            },
            "type": "scatter"
           }
          ],
          "scatter3d": [
           {
            "line": {
             "colorbar": {
              "outlinewidth": 0,
              "ticks": ""
             }
            },
            "marker": {
             "colorbar": {
              "outlinewidth": 0,
              "ticks": ""
             }
            },
            "type": "scatter3d"
           }
          ],
          "scattercarpet": [
           {
            "marker": {
             "colorbar": {
              "outlinewidth": 0,
              "ticks": ""
             }
            },
            "type": "scattercarpet"
           }
          ],
          "scattergeo": [
           {
            "marker": {
             "colorbar": {
              "outlinewidth": 0,
              "ticks": ""
             }
            },
            "type": "scattergeo"
           }
          ],
          "scattergl": [
           {
            "marker": {
             "colorbar": {
              "outlinewidth": 0,
              "ticks": ""
             }
            },
            "type": "scattergl"
           }
          ],
          "scattermapbox": [
           {
            "marker": {
             "colorbar": {
              "outlinewidth": 0,
              "ticks": ""
             }
            },
            "type": "scattermapbox"
           }
          ],
          "scatterpolar": [
           {
            "marker": {
             "colorbar": {
              "outlinewidth": 0,
              "ticks": ""
             }
            },
            "type": "scatterpolar"
           }
          ],
          "scatterpolargl": [
           {
            "marker": {
             "colorbar": {
              "outlinewidth": 0,
              "ticks": ""
             }
            },
            "type": "scatterpolargl"
           }
          ],
          "scatterternary": [
           {
            "marker": {
             "colorbar": {
              "outlinewidth": 0,
              "ticks": ""
             }
            },
            "type": "scatterternary"
           }
          ],
          "surface": [
           {
            "colorbar": {
             "outlinewidth": 0,
             "ticks": ""
            },
            "colorscale": [
             [
              0,
              "#0d0887"
             ],
             [
              0.1111111111111111,
              "#46039f"
             ],
             [
              0.2222222222222222,
              "#7201a8"
             ],
             [
              0.3333333333333333,
              "#9c179e"
             ],
             [
              0.4444444444444444,
              "#bd3786"
             ],
             [
              0.5555555555555556,
              "#d8576b"
             ],
             [
              0.6666666666666666,
              "#ed7953"
             ],
             [
              0.7777777777777778,
              "#fb9f3a"
             ],
             [
              0.8888888888888888,
              "#fdca26"
             ],
             [
              1,
              "#f0f921"
             ]
            ],
            "type": "surface"
           }
          ],
          "table": [
           {
            "cells": {
             "fill": {
              "color": "#EBF0F8"
             },
             "line": {
              "color": "white"
             }
            },
            "header": {
             "fill": {
              "color": "#C8D4E3"
             },
             "line": {
              "color": "white"
             }
            },
            "type": "table"
           }
          ]
         },
         "layout": {
          "annotationdefaults": {
           "arrowcolor": "#2a3f5f",
           "arrowhead": 0,
           "arrowwidth": 1
          },
          "autotypenumbers": "strict",
          "coloraxis": {
           "colorbar": {
            "outlinewidth": 0,
            "ticks": ""
           }
          },
          "colorscale": {
           "diverging": [
            [
             0,
             "#8e0152"
            ],
            [
             0.1,
             "#c51b7d"
            ],
            [
             0.2,
             "#de77ae"
            ],
            [
             0.3,
             "#f1b6da"
            ],
            [
             0.4,
             "#fde0ef"
            ],
            [
             0.5,
             "#f7f7f7"
            ],
            [
             0.6,
             "#e6f5d0"
            ],
            [
             0.7,
             "#b8e186"
            ],
            [
             0.8,
             "#7fbc41"
            ],
            [
             0.9,
             "#4d9221"
            ],
            [
             1,
             "#276419"
            ]
           ],
           "sequential": [
            [
             0,
             "#0d0887"
            ],
            [
             0.1111111111111111,
             "#46039f"
            ],
            [
             0.2222222222222222,
             "#7201a8"
            ],
            [
             0.3333333333333333,
             "#9c179e"
            ],
            [
             0.4444444444444444,
             "#bd3786"
            ],
            [
             0.5555555555555556,
             "#d8576b"
            ],
            [
             0.6666666666666666,
             "#ed7953"
            ],
            [
             0.7777777777777778,
             "#fb9f3a"
            ],
            [
             0.8888888888888888,
             "#fdca26"
            ],
            [
             1,
             "#f0f921"
            ]
           ],
           "sequentialminus": [
            [
             0,
             "#0d0887"
            ],
            [
             0.1111111111111111,
             "#46039f"
            ],
            [
             0.2222222222222222,
             "#7201a8"
            ],
            [
             0.3333333333333333,
             "#9c179e"
            ],
            [
             0.4444444444444444,
             "#bd3786"
            ],
            [
             0.5555555555555556,
             "#d8576b"
            ],
            [
             0.6666666666666666,
             "#ed7953"
            ],
            [
             0.7777777777777778,
             "#fb9f3a"
            ],
            [
             0.8888888888888888,
             "#fdca26"
            ],
            [
             1,
             "#f0f921"
            ]
           ]
          },
          "colorway": [
           "#636efa",
           "#EF553B",
           "#00cc96",
           "#ab63fa",
           "#FFA15A",
           "#19d3f3",
           "#FF6692",
           "#B6E880",
           "#FF97FF",
           "#FECB52"
          ],
          "font": {
           "color": "#2a3f5f"
          },
          "geo": {
           "bgcolor": "white",
           "lakecolor": "white",
           "landcolor": "white",
           "showlakes": true,
           "showland": true,
           "subunitcolor": "#C8D4E3"
          },
          "hoverlabel": {
           "align": "left"
          },
          "hovermode": "closest",
          "mapbox": {
           "style": "light"
          },
          "paper_bgcolor": "white",
          "plot_bgcolor": "white",
          "polar": {
           "angularaxis": {
            "gridcolor": "#EBF0F8",
            "linecolor": "#EBF0F8",
            "ticks": ""
           },
           "bgcolor": "white",
           "radialaxis": {
            "gridcolor": "#EBF0F8",
            "linecolor": "#EBF0F8",
            "ticks": ""
           }
          },
          "scene": {
           "xaxis": {
            "backgroundcolor": "white",
            "gridcolor": "#DFE8F3",
            "gridwidth": 2,
            "linecolor": "#EBF0F8",
            "showbackground": true,
            "ticks": "",
            "zerolinecolor": "#EBF0F8"
           },
           "yaxis": {
            "backgroundcolor": "white",
            "gridcolor": "#DFE8F3",
            "gridwidth": 2,
            "linecolor": "#EBF0F8",
            "showbackground": true,
            "ticks": "",
            "zerolinecolor": "#EBF0F8"
           },
           "zaxis": {
            "backgroundcolor": "white",
            "gridcolor": "#DFE8F3",
            "gridwidth": 2,
            "linecolor": "#EBF0F8",
            "showbackground": true,
            "ticks": "",
            "zerolinecolor": "#EBF0F8"
           }
          },
          "shapedefaults": {
           "line": {
            "color": "#2a3f5f"
           }
          },
          "ternary": {
           "aaxis": {
            "gridcolor": "#DFE8F3",
            "linecolor": "#A2B1C6",
            "ticks": ""
           },
           "baxis": {
            "gridcolor": "#DFE8F3",
            "linecolor": "#A2B1C6",
            "ticks": ""
           },
           "bgcolor": "white",
           "caxis": {
            "gridcolor": "#DFE8F3",
            "linecolor": "#A2B1C6",
            "ticks": ""
           }
          },
          "title": {
           "x": 0.05
          },
          "xaxis": {
           "automargin": true,
           "gridcolor": "#EBF0F8",
           "linecolor": "#EBF0F8",
           "ticks": "",
           "title": {
            "standoff": 15
           },
           "zerolinecolor": "#EBF0F8",
           "zerolinewidth": 2
          },
          "yaxis": {
           "automargin": true,
           "gridcolor": "#EBF0F8",
           "linecolor": "#EBF0F8",
           "ticks": "",
           "title": {
            "standoff": 15
           },
           "zerolinecolor": "#EBF0F8",
           "zerolinewidth": 2
          }
         }
        },
        "title": {
         "text": "Cumulative Variance Explained: Unique vs Shared Trait Questions (First 120 PCs)"
        },
        "width": 900,
        "xaxis": {
         "title": {
          "text": "Principal Component"
         }
        },
        "yaxis": {
         "tickformat": ".1%",
         "title": {
          "text": "Cumulative Variance Explained"
         }
        }
       }
      },
      "text/html": [
       "<div>                            <div id=\"5f077fff-8a3d-4961-a855-01063709c050\" class=\"plotly-graph-div\" style=\"height:600px; width:900px;\"></div>            <script type=\"text/javascript\">                require([\"plotly\"], function(Plotly) {                    window.PLOTLYENV=window.PLOTLYENV || {};                                    if (document.getElementById(\"5f077fff-8a3d-4961-a855-01063709c050\")) {                    Plotly.newPlot(                        \"5f077fff-8a3d-4961-a855-01063709c050\",                        [{\"line\":{\"color\":\"#1f77b4\",\"width\":2},\"marker\":{\"size\":4},\"mode\":\"lines+markers\",\"name\":\"Unique Trait Questions\",\"x\":[1,2,3,4,5,6,7,8,9,10,11,12,13,14,15,16,17,18,19,20,21,22,23,24,25,26,27,28,29,30,31,32,33,34,35,36,37,38,39,40,41,42,43,44,45,46,47,48,49,50,51,52,53,54,55,56,57,58,59,60,61,62,63,64,65,66,67,68,69,70,71,72,73,74,75,76,77,78,79,80,81,82,83,84,85,86,87,88,89,90,91,92,93,94,95,96,97,98,99,100],\"y\":[0.14948701752445853,0.26322171324998445,0.3478079763208087,0.4102000485620027,0.4467623991936966,0.48063175282836307,0.5105023014015045,0.5343309116420967,0.5563670326376458,0.5762527241403029,0.5941515834484874,0.609494477861113,0.6239570835804644,0.636769615724175,0.6490893295171472,0.6608973321889157,0.6721858609094326,0.6824530525246114,0.6917761384348922,0.7007910497505875,0.7086239544295314,0.7162488511848484,0.7233977177845471,0.7302019840022709,0.7367311587072476,0.7428941774681678,0.748802778811031,0.7544111545435741,0.7598806577478981,0.7652501051938674,0.7704693212151725,0.7754620406940963,0.7802927026143783,0.7850101086165884,0.7895898054380075,0.7939519880738631,0.7981963220951441,0.8023086751313625,0.8063897555044107,0.8104147339276643,0.8141752849072729,0.8178116586450992,0.8213646946683537,0.8248760646610938,0.8282285768912399,0.8314209792170842,0.8346002950622957,0.8376962346926905,0.8407200226628258,0.8436542604577029,0.8464882415637817,0.8492766546052078,0.8520149537946755,0.8546845481174359,0.8572468251971835,0.859761941660374,0.8622218650086666,0.8646437078714755,0.8670252225096834,0.8693868418722615,0.8716306864479952,0.8738346029538288,0.8760206789154679,0.8781450424721722,0.8802495759335232,0.8822985893500319,0.8843320327582362,0.8862903250872809,0.8882148072783173,0.8900881571453194,0.8919354108399768,0.8937480563701803,0.8955181607933225,0.8972807829280481,0.8990273266088081,0.9007123761871045,0.9023961598356968,0.9040600739932287,0.9056993629607513,0.9072857141846775,0.9088540525510419,0.910383465990914,0.9118641571834298,0.9133343772618091,0.9147909736428111,0.9162250528879381,0.9176366182933781,0.9190392688232548,0.9204206687245633,0.9217675635923951,0.9230854618776105,0.9243803733576244,0.9256366809968445,0.9268776318945278,0.9281063927967065,0.9293135573510422,0.9305010329535421,0.9316719304277286,0.932832734892635,0.9339517346464582],\"type\":\"scatter\"},{\"line\":{\"color\":\"#ff7f0e\",\"width\":2},\"marker\":{\"size\":4},\"mode\":\"lines+markers\",\"name\":\"Shared Trait Questions\",\"x\":[1,2,3,4,5,6,7,8,9,10,11,12,13,14,15,16,17,18,19,20,21,22,23,24,25,26,27,28,29,30,31,32,33,34,35,36,37,38,39,40,41,42,43,44,45,46,47,48,49,50,51,52,53,54,55,56,57,58,59,60,61,62,63,64,65,66,67,68,69,70,71,72,73,74,75,76,77,78,79,80,81,82,83,84,85,86,87,88,89,90,91,92,93,94,95,96,97,98,99,100],\"y\":[0.1966198470505133,0.3374987799666168,0.45002324630573987,0.526555872186992,0.5713637877599187,0.6087739521278234,0.6446021235221969,0.6699279196044471,0.6906279397415941,0.7083165210481882,0.7246657605858847,0.7397266427567608,0.7530226664944062,0.7650017655660725,0.7753782163142808,0.7853368360867767,0.7947570134967158,0.8032083330801603,0.8112325039340975,0.8188572806065777,0.8256548031394702,0.8324092585714459,0.8386472926430417,0.8442768884105413,0.8494432496664952,0.8543214926435295,0.8591946269204261,0.8638236146915085,0.8681670246035357,0.8720118025665895,0.8757684522131047,0.8794861358640202,0.8830963134071018,0.886511410996178,0.8898646978439523,0.8931473025589237,0.896266628537267,0.8992795037325811,0.9021683619482758,0.9048172967503666,0.9074309483190783,0.9099154067631644,0.9123595528935027,0.9146179555058469,0.9168535001344077,0.9189427103329451,0.9210177523514186,0.923022573631272,0.9249976449759372,0.9269426032642053,0.9288157540853632,0.9306291436826822,0.9323484116121654,0.9340324815481378,0.9356368293189664,0.9372248721773406,0.9387280960757529,0.9402009923764435,0.9416239202799429,0.9430066211362288,0.9443507739641126,0.9456690696222104,0.9469601172946555,0.9481742904971343,0.9493529719454078,0.9505138091792108,0.9516639292781369,0.9527860459044426,0.9538791289812817,0.9549369827474107,0.955956784219473,0.9569356197227123,0.9579025309097228,0.9588353805045198,0.9597588289272003,0.960654231816286,0.9615307521096805,0.9623805021247301,0.9632035154633333,0.964007285224136,0.9647982620696268,0.965574504234012,0.9663408577162607,0.9670836484521003,0.9678081499833024,0.9685071713868948,0.9691933113499264,0.9698725700522579,0.9705331243003865,0.971165324765263,0.9717884867793783,0.9723942041690898,0.9729792884346073,0.9735618496688173,0.9741326679894101,0.9746886560219827,0.975242635044226,0.975785060448263,0.9763191445309126,0.9768284689584475],\"type\":\"scatter\"}],                        {\"template\":{\"data\":{\"barpolar\":[{\"marker\":{\"line\":{\"color\":\"white\",\"width\":0.5},\"pattern\":{\"fillmode\":\"overlay\",\"size\":10,\"solidity\":0.2}},\"type\":\"barpolar\"}],\"bar\":[{\"error_x\":{\"color\":\"#2a3f5f\"},\"error_y\":{\"color\":\"#2a3f5f\"},\"marker\":{\"line\":{\"color\":\"white\",\"width\":0.5},\"pattern\":{\"fillmode\":\"overlay\",\"size\":10,\"solidity\":0.2}},\"type\":\"bar\"}],\"carpet\":[{\"aaxis\":{\"endlinecolor\":\"#2a3f5f\",\"gridcolor\":\"#C8D4E3\",\"linecolor\":\"#C8D4E3\",\"minorgridcolor\":\"#C8D4E3\",\"startlinecolor\":\"#2a3f5f\"},\"baxis\":{\"endlinecolor\":\"#2a3f5f\",\"gridcolor\":\"#C8D4E3\",\"linecolor\":\"#C8D4E3\",\"minorgridcolor\":\"#C8D4E3\",\"startlinecolor\":\"#2a3f5f\"},\"type\":\"carpet\"}],\"choropleth\":[{\"colorbar\":{\"outlinewidth\":0,\"ticks\":\"\"},\"type\":\"choropleth\"}],\"contourcarpet\":[{\"colorbar\":{\"outlinewidth\":0,\"ticks\":\"\"},\"type\":\"contourcarpet\"}],\"contour\":[{\"colorbar\":{\"outlinewidth\":0,\"ticks\":\"\"},\"colorscale\":[[0.0,\"#0d0887\"],[0.1111111111111111,\"#46039f\"],[0.2222222222222222,\"#7201a8\"],[0.3333333333333333,\"#9c179e\"],[0.4444444444444444,\"#bd3786\"],[0.5555555555555556,\"#d8576b\"],[0.6666666666666666,\"#ed7953\"],[0.7777777777777778,\"#fb9f3a\"],[0.8888888888888888,\"#fdca26\"],[1.0,\"#f0f921\"]],\"type\":\"contour\"}],\"heatmapgl\":[{\"colorbar\":{\"outlinewidth\":0,\"ticks\":\"\"},\"colorscale\":[[0.0,\"#0d0887\"],[0.1111111111111111,\"#46039f\"],[0.2222222222222222,\"#7201a8\"],[0.3333333333333333,\"#9c179e\"],[0.4444444444444444,\"#bd3786\"],[0.5555555555555556,\"#d8576b\"],[0.6666666666666666,\"#ed7953\"],[0.7777777777777778,\"#fb9f3a\"],[0.8888888888888888,\"#fdca26\"],[1.0,\"#f0f921\"]],\"type\":\"heatmapgl\"}],\"heatmap\":[{\"colorbar\":{\"outlinewidth\":0,\"ticks\":\"\"},\"colorscale\":[[0.0,\"#0d0887\"],[0.1111111111111111,\"#46039f\"],[0.2222222222222222,\"#7201a8\"],[0.3333333333333333,\"#9c179e\"],[0.4444444444444444,\"#bd3786\"],[0.5555555555555556,\"#d8576b\"],[0.6666666666666666,\"#ed7953\"],[0.7777777777777778,\"#fb9f3a\"],[0.8888888888888888,\"#fdca26\"],[1.0,\"#f0f921\"]],\"type\":\"heatmap\"}],\"histogram2dcontour\":[{\"colorbar\":{\"outlinewidth\":0,\"ticks\":\"\"},\"colorscale\":[[0.0,\"#0d0887\"],[0.1111111111111111,\"#46039f\"],[0.2222222222222222,\"#7201a8\"],[0.3333333333333333,\"#9c179e\"],[0.4444444444444444,\"#bd3786\"],[0.5555555555555556,\"#d8576b\"],[0.6666666666666666,\"#ed7953\"],[0.7777777777777778,\"#fb9f3a\"],[0.8888888888888888,\"#fdca26\"],[1.0,\"#f0f921\"]],\"type\":\"histogram2dcontour\"}],\"histogram2d\":[{\"colorbar\":{\"outlinewidth\":0,\"ticks\":\"\"},\"colorscale\":[[0.0,\"#0d0887\"],[0.1111111111111111,\"#46039f\"],[0.2222222222222222,\"#7201a8\"],[0.3333333333333333,\"#9c179e\"],[0.4444444444444444,\"#bd3786\"],[0.5555555555555556,\"#d8576b\"],[0.6666666666666666,\"#ed7953\"],[0.7777777777777778,\"#fb9f3a\"],[0.8888888888888888,\"#fdca26\"],[1.0,\"#f0f921\"]],\"type\":\"histogram2d\"}],\"histogram\":[{\"marker\":{\"pattern\":{\"fillmode\":\"overlay\",\"size\":10,\"solidity\":0.2}},\"type\":\"histogram\"}],\"mesh3d\":[{\"colorbar\":{\"outlinewidth\":0,\"ticks\":\"\"},\"type\":\"mesh3d\"}],\"parcoords\":[{\"line\":{\"colorbar\":{\"outlinewidth\":0,\"ticks\":\"\"}},\"type\":\"parcoords\"}],\"pie\":[{\"automargin\":true,\"type\":\"pie\"}],\"scatter3d\":[{\"line\":{\"colorbar\":{\"outlinewidth\":0,\"ticks\":\"\"}},\"marker\":{\"colorbar\":{\"outlinewidth\":0,\"ticks\":\"\"}},\"type\":\"scatter3d\"}],\"scattercarpet\":[{\"marker\":{\"colorbar\":{\"outlinewidth\":0,\"ticks\":\"\"}},\"type\":\"scattercarpet\"}],\"scattergeo\":[{\"marker\":{\"colorbar\":{\"outlinewidth\":0,\"ticks\":\"\"}},\"type\":\"scattergeo\"}],\"scattergl\":[{\"marker\":{\"colorbar\":{\"outlinewidth\":0,\"ticks\":\"\"}},\"type\":\"scattergl\"}],\"scattermapbox\":[{\"marker\":{\"colorbar\":{\"outlinewidth\":0,\"ticks\":\"\"}},\"type\":\"scattermapbox\"}],\"scatterpolargl\":[{\"marker\":{\"colorbar\":{\"outlinewidth\":0,\"ticks\":\"\"}},\"type\":\"scatterpolargl\"}],\"scatterpolar\":[{\"marker\":{\"colorbar\":{\"outlinewidth\":0,\"ticks\":\"\"}},\"type\":\"scatterpolar\"}],\"scatter\":[{\"fillpattern\":{\"fillmode\":\"overlay\",\"size\":10,\"solidity\":0.2},\"type\":\"scatter\"}],\"scatterternary\":[{\"marker\":{\"colorbar\":{\"outlinewidth\":0,\"ticks\":\"\"}},\"type\":\"scatterternary\"}],\"surface\":[{\"colorbar\":{\"outlinewidth\":0,\"ticks\":\"\"},\"colorscale\":[[0.0,\"#0d0887\"],[0.1111111111111111,\"#46039f\"],[0.2222222222222222,\"#7201a8\"],[0.3333333333333333,\"#9c179e\"],[0.4444444444444444,\"#bd3786\"],[0.5555555555555556,\"#d8576b\"],[0.6666666666666666,\"#ed7953\"],[0.7777777777777778,\"#fb9f3a\"],[0.8888888888888888,\"#fdca26\"],[1.0,\"#f0f921\"]],\"type\":\"surface\"}],\"table\":[{\"cells\":{\"fill\":{\"color\":\"#EBF0F8\"},\"line\":{\"color\":\"white\"}},\"header\":{\"fill\":{\"color\":\"#C8D4E3\"},\"line\":{\"color\":\"white\"}},\"type\":\"table\"}]},\"layout\":{\"annotationdefaults\":{\"arrowcolor\":\"#2a3f5f\",\"arrowhead\":0,\"arrowwidth\":1},\"autotypenumbers\":\"strict\",\"coloraxis\":{\"colorbar\":{\"outlinewidth\":0,\"ticks\":\"\"}},\"colorscale\":{\"diverging\":[[0,\"#8e0152\"],[0.1,\"#c51b7d\"],[0.2,\"#de77ae\"],[0.3,\"#f1b6da\"],[0.4,\"#fde0ef\"],[0.5,\"#f7f7f7\"],[0.6,\"#e6f5d0\"],[0.7,\"#b8e186\"],[0.8,\"#7fbc41\"],[0.9,\"#4d9221\"],[1,\"#276419\"]],\"sequential\":[[0.0,\"#0d0887\"],[0.1111111111111111,\"#46039f\"],[0.2222222222222222,\"#7201a8\"],[0.3333333333333333,\"#9c179e\"],[0.4444444444444444,\"#bd3786\"],[0.5555555555555556,\"#d8576b\"],[0.6666666666666666,\"#ed7953\"],[0.7777777777777778,\"#fb9f3a\"],[0.8888888888888888,\"#fdca26\"],[1.0,\"#f0f921\"]],\"sequentialminus\":[[0.0,\"#0d0887\"],[0.1111111111111111,\"#46039f\"],[0.2222222222222222,\"#7201a8\"],[0.3333333333333333,\"#9c179e\"],[0.4444444444444444,\"#bd3786\"],[0.5555555555555556,\"#d8576b\"],[0.6666666666666666,\"#ed7953\"],[0.7777777777777778,\"#fb9f3a\"],[0.8888888888888888,\"#fdca26\"],[1.0,\"#f0f921\"]]},\"colorway\":[\"#636efa\",\"#EF553B\",\"#00cc96\",\"#ab63fa\",\"#FFA15A\",\"#19d3f3\",\"#FF6692\",\"#B6E880\",\"#FF97FF\",\"#FECB52\"],\"font\":{\"color\":\"#2a3f5f\"},\"geo\":{\"bgcolor\":\"white\",\"lakecolor\":\"white\",\"landcolor\":\"white\",\"showlakes\":true,\"showland\":true,\"subunitcolor\":\"#C8D4E3\"},\"hoverlabel\":{\"align\":\"left\"},\"hovermode\":\"closest\",\"mapbox\":{\"style\":\"light\"},\"paper_bgcolor\":\"white\",\"plot_bgcolor\":\"white\",\"polar\":{\"angularaxis\":{\"gridcolor\":\"#EBF0F8\",\"linecolor\":\"#EBF0F8\",\"ticks\":\"\"},\"bgcolor\":\"white\",\"radialaxis\":{\"gridcolor\":\"#EBF0F8\",\"linecolor\":\"#EBF0F8\",\"ticks\":\"\"}},\"scene\":{\"xaxis\":{\"backgroundcolor\":\"white\",\"gridcolor\":\"#DFE8F3\",\"gridwidth\":2,\"linecolor\":\"#EBF0F8\",\"showbackground\":true,\"ticks\":\"\",\"zerolinecolor\":\"#EBF0F8\"},\"yaxis\":{\"backgroundcolor\":\"white\",\"gridcolor\":\"#DFE8F3\",\"gridwidth\":2,\"linecolor\":\"#EBF0F8\",\"showbackground\":true,\"ticks\":\"\",\"zerolinecolor\":\"#EBF0F8\"},\"zaxis\":{\"backgroundcolor\":\"white\",\"gridcolor\":\"#DFE8F3\",\"gridwidth\":2,\"linecolor\":\"#EBF0F8\",\"showbackground\":true,\"ticks\":\"\",\"zerolinecolor\":\"#EBF0F8\"}},\"shapedefaults\":{\"line\":{\"color\":\"#2a3f5f\"}},\"ternary\":{\"aaxis\":{\"gridcolor\":\"#DFE8F3\",\"linecolor\":\"#A2B1C6\",\"ticks\":\"\"},\"baxis\":{\"gridcolor\":\"#DFE8F3\",\"linecolor\":\"#A2B1C6\",\"ticks\":\"\"},\"bgcolor\":\"white\",\"caxis\":{\"gridcolor\":\"#DFE8F3\",\"linecolor\":\"#A2B1C6\",\"ticks\":\"\"}},\"title\":{\"x\":0.05},\"xaxis\":{\"automargin\":true,\"gridcolor\":\"#EBF0F8\",\"linecolor\":\"#EBF0F8\",\"ticks\":\"\",\"title\":{\"standoff\":15},\"zerolinecolor\":\"#EBF0F8\",\"zerolinewidth\":2},\"yaxis\":{\"automargin\":true,\"gridcolor\":\"#EBF0F8\",\"linecolor\":\"#EBF0F8\",\"ticks\":\"\",\"title\":{\"standoff\":15},\"zerolinecolor\":\"#EBF0F8\",\"zerolinewidth\":2}}},\"shapes\":[{\"line\":{\"color\":\"gray\",\"dash\":\"dash\"},\"type\":\"line\",\"x0\":0,\"x1\":1,\"xref\":\"x domain\",\"y0\":0.8,\"y1\":0.8,\"yref\":\"y\"},{\"line\":{\"color\":\"gray\",\"dash\":\"dash\"},\"type\":\"line\",\"x0\":0,\"x1\":1,\"xref\":\"x domain\",\"y0\":0.9,\"y1\":0.9,\"yref\":\"y\"}],\"annotations\":[{\"showarrow\":false,\"text\":\"80% Variance\",\"x\":1,\"xanchor\":\"right\",\"xref\":\"x domain\",\"y\":0.8,\"yanchor\":\"top\",\"yref\":\"y\"},{\"showarrow\":false,\"text\":\"90% Variance\",\"x\":1,\"xanchor\":\"right\",\"xref\":\"x domain\",\"y\":0.9,\"yanchor\":\"top\",\"yref\":\"y\"}],\"legend\":{\"yanchor\":\"top\",\"y\":0.99,\"xanchor\":\"left\",\"x\":0.01},\"title\":{\"text\":\"Cumulative Variance Explained: Unique vs Shared Trait Questions (First 120 PCs)\"},\"xaxis\":{\"title\":{\"text\":\"Principal Component\"}},\"yaxis\":{\"title\":{\"text\":\"Cumulative Variance Explained\"},\"tickformat\":\".1%\"},\"width\":900,\"height\":600},                        {\"responsive\": true}                    ).then(function(){\n",
       "                            \n",
       "var gd = document.getElementById('5f077fff-8a3d-4961-a855-01063709c050');\n",
       "var x = new MutationObserver(function (mutations, observer) {{\n",
       "        var display = window.getComputedStyle(gd).display;\n",
       "        if (!display || display === 'none') {{\n",
       "            console.log([gd, 'removed!']);\n",
       "            Plotly.purge(gd);\n",
       "            observer.disconnect();\n",
       "        }}\n",
       "}});\n",
       "\n",
       "// Listen for the removal of the full notebook cells\n",
       "var notebookContainer = gd.closest('#notebook-container');\n",
       "if (notebookContainer) {{\n",
       "    x.observe(notebookContainer, {childList: true});\n",
       "}}\n",
       "\n",
       "// Listen for the clearing of the current output cell\n",
       "var outputEl = gd.closest('.output');\n",
       "if (outputEl) {{\n",
       "    x.observe(outputEl, {childList: true});\n",
       "}}\n",
       "\n",
       "                        })                };                });            </script>        </div>"
      ]
     },
     "metadata": {},
     "output_type": "display_data"
    }
   ],
   "source": [
    "# Create Plotly line plot comparing cumulative variance explained between Unique and Shared Trait Questions\n",
    "\n",
    "# Extract variance explained data\n",
    "unique_variance = unique_pca_results['variance_explained']\n",
    "shared_variance = shared_pca_results['variance_explained']\n",
    "\n",
    "# Limit to first 120 components and calculate cumulative variance\n",
    "n_components = 100\n",
    "unique_variance_120 = unique_variance[:n_components]\n",
    "shared_variance_120 = shared_variance[:n_components]\n",
    "\n",
    "# Calculate cumulative variance explained\n",
    "unique_cumvar = np.cumsum(unique_variance_120)\n",
    "shared_cumvar = np.cumsum(shared_variance_120)\n",
    "\n",
    "# Create component numbers for x-axis\n",
    "components = list(range(1, n_components + 1))\n",
    "\n",
    "# Create the plotly figure\n",
    "fig = go.Figure()\n",
    "\n",
    "# Add line for Unique Trait Questions\n",
    "fig.add_trace(go.Scatter(\n",
    "    x=components,\n",
    "    y=unique_cumvar,\n",
    "    mode='lines+markers',\n",
    "    name='Unique Trait Questions',\n",
    "    line=dict(color='#1f77b4', width=2),\n",
    "    marker=dict(size=4)\n",
    "))\n",
    "\n",
    "# Add line for Shared Trait Questions\n",
    "fig.add_trace(go.Scatter(\n",
    "    x=components,\n",
    "    y=shared_cumvar,\n",
    "    mode='lines+markers',\n",
    "    name='Shared Trait Questions',\n",
    "    line=dict(color='#ff7f0e', width=2),\n",
    "    marker=dict(size=4)\n",
    "))\n",
    "\n",
    "# Add reference lines for common variance thresholds\n",
    "fig.add_hline(y=0.8, line_dash=\"dash\", line_color=\"gray\", \n",
    "              annotation_text=\"80% Variance\", annotation_position=\"bottom right\")\n",
    "fig.add_hline(y=0.9, line_dash=\"dash\", line_color=\"gray\", \n",
    "              annotation_text=\"90% Variance\", annotation_position=\"bottom right\")\n",
    "\n",
    "# Update layout\n",
    "fig.update_layout(\n",
    "    title='Cumulative Variance Explained: Unique vs Shared Trait Questions (First 120 PCs)',\n",
    "    xaxis_title='Principal Component',\n",
    "    yaxis_title='Cumulative Variance Explained',\n",
    "    template='plotly_white',\n",
    "    width=900,\n",
    "    height=600,\n",
    "    legend=dict(\n",
    "        yanchor=\"top\",\n",
    "        y=0.99,\n",
    "        xanchor=\"left\",\n",
    "        x=0.01\n",
    "    )\n",
    ")\n",
    "\n",
    "# Format y-axis as percentage if values are between 0 and 1\n",
    "max_var = max(unique_cumvar[-1], shared_cumvar[-1])\n",
    "if max_var <= 1.0:\n",
    "    fig.update_yaxes(tickformat='.1%')\n",
    "\n",
    "# Show the plot\n",
    "fig.show()"
   ]
  },
  {
   "cell_type": "markdown",
   "id": "f75e6f65",
   "metadata": {},
   "source": [
    "## Investigate data"
   ]
  },
  {
   "cell_type": "code",
   "execution_count": 4,
   "id": "8645cd4b",
   "metadata": {},
   "outputs": [],
   "source": [
    "dir = \"/workspace/gemma-3-27b/traits_240\""
   ]
  },
  {
   "cell_type": "code",
   "execution_count": 3,
   "id": "fa5eb9be",
   "metadata": {},
   "outputs": [
    {
     "name": "stdout",
     "output_type": "stream",
     "text": [
      "2400\n",
      "dict_keys(['system_prompt', 'label', 'prompt_index', 'conversation', 'question_index', 'question'])\n",
      "system_prompt\n",
      "Your responses should focus on abstract concepts, theoretical frameworks, and high-level patterns rather than concrete details or specific examples.\n",
      "----------\n",
      "label\n",
      "pos\n",
      "----------\n",
      "prompt_index\n",
      "0\n",
      "----------\n",
      "conversation\n",
      "[{'role': 'system', 'content': 'Your responses should focus on abstract concepts, theoretical frameworks, and high-level patterns rather than concrete details or specific examples.'}, {'role': 'user', 'content': 'What is the relationship between law and morality?'}, {'role': 'assistant', 'content': \"## The Relationship Between Law and Morality: A Complex Interplay of Overlap, Divergence, and Mutual Influence\\n\\nThe relationship between law and morality is a foundational question in jurisprudence and ethics, and it's characterized not by a simple equation, but by a dynamic, often fraught, interplay. It's less a matter of *are they the same* and more a question of *how do they relate, influence, and sometimes conflict with each other?*  Here’s a breakdown of the core theoretical positions and the underlying patterns:\\n\\n**1. Natural Law Theory: The Ideal Convergence.**\\n\\nThis framework posits an inherent connection.  Morality, derived from a source believed to be universal (reason, God, inherent human nature), *is* the foundation of just law.  An unjust law, according to this view, isn’t truly law at all – it lacks legitimacy because it violates the pre-existing moral order.  The relationship is one of **deduction**: moral principles are discovered, and law is the articulation and enforcement of those principles.  This creates an *ideal* convergence, though historically, achieving it perfectly has proven elusive.  It rests on the assumption of objective moral truths.\\n\\n**2. Legal Positivism:  Conceptual Separation.**\\n\\nIn stark contrast, legal positivism argues for a *conceptual* separation between law and morality. Law is defined by its source (sovereign command, recognized procedures) and its enforceability, *not* its moral content. A law can be deeply immoral yet still *be* law.  This isn't necessarily an endorsement of immoral laws, but a descriptive claim about their nature.  The relationship here is one of **independence**:  morality can *influence* the creation of law (politically, socially), but it doesn't determine its validity.  This perspective emphasizes the rule of law – predictability and clarity – even if the rules themselves are ethically questionable.\\n\\n**3. Legal Realism:  Practical Convergence (and Divergence).**\\n\\nLegal realism focuses on the *application* of law, arguing that law is what judges *do*, not what rules *are*.  This introduces a significant element of subjectivity.  While acknowledging the formal separation posited by positivism, realists recognize that judges inevitably draw on their own moral beliefs when interpreting and applying laws, especially in ambiguous cases. The relationship is therefore one of **practical convergence** in application, but a continued **conceptual divergence** in definition.  Moral considerations\"}]\n",
      "----------\n",
      "question_index\n",
      "0\n",
      "----------\n",
      "question\n",
      "What is the relationship between law and morality?\n",
      "----------\n"
     ]
    }
   ],
   "source": [
    "# look at one file\n",
    "\n",
    "test_responses = []\n",
    "with open(f'{dir}/responses/abstract.jsonl', 'r') as f:\n",
    "    for line in f:\n",
    "        obj = json.loads(line)\n",
    "        test_responses.append(obj)\n",
    "\n",
    "print(len(test_responses))\n",
    "\n",
    "# look at one response\n",
    "print(test_responses[0].keys())\n",
    "\n",
    "for key, item in test_responses[0].items():\n",
    "    print(key)\n",
    "    print(item)\n",
    "    print(\"----------\")"
   ]
  },
  {
   "cell_type": "code",
   "execution_count": 7,
   "id": "b55619a8",
   "metadata": {},
   "outputs": [
    {
     "name": "stdout",
     "output_type": "stream",
     "text": [
      "Expected 2400 responses, got 1200 for 3_default.jsonl\n",
      "Expected 2400 responses, got 1200 for 2_default.jsonl\n",
      "Expected 2400 responses, got 1200 for 1_default.jsonl\n",
      "Expected 2400 responses, got 1200 for 0_default.jsonl\n",
      "244\n",
      "['3_default.jsonl', '2_default.jsonl', '1_default.jsonl', '0_default.jsonl']\n"
     ]
    }
   ],
   "source": [
    "# iterate through jsonl files in /workspace/roles/responses\n",
    "count = 0\n",
    "has_default = []\n",
    "for file in os.listdir(f'{dir}/responses'):\n",
    "    if file.endswith('.jsonl'):\n",
    "        responses = []\n",
    "        with open(f'{dir}/responses/{file}', 'r') as f:\n",
    "            for line in f:\n",
    "                responses.append(json.loads(line))\n",
    "        if len(responses) != 2400:\n",
    "            print(f\"Expected 2400 responses, got {len(responses)} for {file}\")\n",
    "            has_default.append(file)\n",
    "        count += 1\n",
    "    \n",
    "print(count)\n",
    "print(has_default)"
   ]
  },
  {
   "cell_type": "code",
   "execution_count": 6,
   "id": "6753b9df",
   "metadata": {},
   "outputs": [
    {
     "name": "stdout",
     "output_type": "stream",
     "text": [
      "Default responses: 0\n",
      "RT responses: 2400\n",
      "Default responses: 0\n",
      "RT responses: 2400\n",
      "Default responses: 0\n",
      "RT responses: 2400\n",
      "Default responses: 0\n",
      "RT responses: 2400\n"
     ]
    }
   ],
   "source": [
    "for i, file in enumerate(has_default):\n",
    "    default_responses = []\n",
    "    rt_responses = []\n",
    "    with open(f'{dir}/responses/{file}', 'r') as f:\n",
    "        for line in f:\n",
    "            obj = json.loads(line)\n",
    "            if obj['label'] == 'default':\n",
    "                default_responses.append(obj)\n",
    "            else:\n",
    "                rt_responses.append(obj)\n",
    "        print(f\"Default responses: {len(default_responses)}\")\n",
    "        print(f\"RT responses: {len(rt_responses)}\")\n",
    "\n",
    "    # write to jsonl\n",
    "    with open(f'{dir}/responses/{i}_default.jsonl', 'w') as f:\n",
    "        for obj in default_responses:\n",
    "            f.write(json.dumps(obj) + '\\n')\n",
    "    with open(f'{dir}/responses/{file}', 'w') as f:\n",
    "        for obj in rt_responses:\n",
    "            f.write(json.dumps(obj) + '\\n')\n",
    "\n"
   ]
  },
  {
   "cell_type": "code",
   "execution_count": 5,
   "id": "195b200d",
   "metadata": {},
   "outputs": [
    {
     "name": "stdout",
     "output_type": "stream",
     "text": [
      "Found 240 traits with scores\n"
     ]
    }
   ],
   "source": [
    "# load all scores from data/extract_scores\n",
    "score_dir = f\"{dir}/extract_scores\"\n",
    "\n",
    "# iterate through each json file in the directory\n",
    "scores = {}\n",
    "for file in os.listdir(score_dir):\n",
    "    if file.endswith(\".json\"):\n",
    "        with open(os.path.join(score_dir, file), \"r\") as f:\n",
    "            scores[file.replace(\".json\", \"\")] = json.load(f)\n",
    "\n",
    "print(f\"Found {len(scores.keys())} traits with scores\")"
   ]
  },
  {
   "cell_type": "code",
   "execution_count": 6,
   "id": "44bfad8f",
   "metadata": {},
   "outputs": [
    {
     "name": "stdout",
     "output_type": "stream",
     "text": [
      "2400\n",
      "All traits have the same keys: {'neg_p4_q108', 'pos_p2_q3', 'pos_p3_q239', 'neg_p3_q153', 'pos_p3_q226', 'neg_p3_q209', 'pos_p4_q197', 'neg_p0_q99', 'neg_p4_q57', 'neg_p3_q205', 'neg_p0_q40', 'pos_p0_q35', 'neg_p2_q137', 'pos_p0_q187', 'neg_p4_q164', 'neg_p2_q174', 'pos_p3_q189', 'neg_p4_q219', 'neg_p2_q76', 'neg_p0_q216', 'pos_p3_q34', 'pos_p4_q154', 'pos_p4_q235', 'neg_p1_q149', 'neg_p1_q85', 'neg_p4_q98', 'pos_p1_q77', 'pos_p3_q234', 'neg_p2_q56', 'neg_p1_q62', 'neg_p4_q52', 'neg_p1_q199', 'neg_p0_q87', 'pos_p2_q143', 'pos_p0_q27', 'pos_p3_q152', 'pos_p0_q73', 'pos_p1_q8', 'pos_p4_q36', 'neg_p2_q182', 'neg_p4_q132', 'neg_p3_q229', 'neg_p0_q17', 'neg_p1_q38', 'neg_p3_q123', 'neg_p1_q164', 'pos_p1_q102', 'neg_p0_q178', 'pos_p1_q30', 'pos_p4_q55', 'neg_p0_q80', 'neg_p1_q211', 'pos_p0_q124', 'pos_p1_q141', 'pos_p4_q102', 'pos_p2_q40', 'neg_p2_q140', 'pos_p1_q204', 'pos_p3_q192', 'neg_p3_q69', 'neg_p4_q35', 'neg_p1_q115', 'neg_p3_q99', 'pos_p1_q5', 'pos_p1_q106', 'neg_p0_q11', 'neg_p4_q53', 'neg_p2_q70', 'pos_p0_q23', 'neg_p4_q5', 'pos_p0_q178', 'pos_p0_q93', 'neg_p1_q126', 'pos_p4_q4', 'pos_p2_q150', 'neg_p1_q203', 'neg_p4_q30', 'pos_p1_q101', 'pos_p4_q20', 'neg_p0_q93', 'pos_p3_q217', 'neg_p0_q28', 'pos_p2_q70', 'pos_p1_q39', 'pos_p2_q108', 'neg_p3_q57', 'pos_p4_q179', 'pos_p3_q11', 'neg_p2_q164', 'pos_p0_q146', 'neg_p0_q131', 'pos_p1_q178', 'neg_p0_q69', 'pos_p2_q19', 'neg_p1_q232', 'neg_p1_q224', 'neg_p3_q136', 'neg_p4_q199', 'pos_p1_q216', 'pos_p4_q103', 'pos_p1_q145', 'neg_p2_q232', 'neg_p4_q43', 'neg_p4_q56', 'pos_p2_q164', 'pos_p1_q33', 'neg_p1_q53', 'pos_p1_q85', 'neg_p1_q238', 'pos_p1_q21', 'pos_p3_q6', 'neg_p2_q127', 'neg_p0_q236', 'neg_p3_q213', 'pos_p0_q14', 'pos_p4_q189', 'pos_p2_q61', 'pos_p0_q70', 'neg_p0_q180', 'pos_p4_q190', 'pos_p1_q84', 'neg_p0_q166', 'pos_p2_q29', 'pos_p3_q194', 'neg_p2_q102', 'pos_p3_q126', 'neg_p0_q193', 'neg_p4_q111', 'neg_p0_q9', 'neg_p3_q86', 'pos_p0_q165', 'neg_p0_q48', 'pos_p1_q76', 'pos_p4_q21', 'pos_p3_q206', 'pos_p4_q239', 'neg_p0_q122', 'neg_p3_q191', 'neg_p0_q84', 'neg_p1_q28', 'neg_p4_q145', 'pos_p3_q138', 'pos_p0_q137', 'neg_p3_q142', 'pos_p1_q144', 'neg_p4_q161', 'pos_p4_q132', 'neg_p2_q47', 'neg_p3_q127', 'neg_p3_q45', 'pos_p0_q230', 'neg_p3_q214', 'pos_p1_q24', 'pos_p3_q172', 'pos_p4_q151', 'pos_p0_q52', 'neg_p4_q20', 'neg_p4_q167', 'pos_p1_q221', 'pos_p1_q226', 'neg_p4_q218', 'pos_p3_q35', 'neg_p3_q200', 'neg_p2_q239', 'pos_p4_q121', 'pos_p0_q140', 'neg_p0_q201', 'neg_p0_q76', 'neg_p4_q214', 'neg_p4_q25', 'pos_p2_q151', 'pos_p3_q179', 'neg_p2_q214', 'neg_p3_q52', 'pos_p4_q215', 'neg_p4_q217', 'neg_p2_q235', 'pos_p2_q179', 'pos_p2_q133', 'neg_p0_q182', 'neg_p4_q147', 'neg_p2_q134', 'pos_p3_q3', 'neg_p2_q37', 'pos_p0_q204', 'neg_p1_q81', 'pos_p3_q124', 'pos_p4_q209', 'pos_p0_q16', 'neg_p2_q94', 'pos_p3_q45', 'pos_p1_q235', 'neg_p3_q15', 'pos_p3_q40', 'pos_p4_q220', 'pos_p4_q133', 'neg_p0_q120', 'pos_p0_q113', 'pos_p3_q153', 'neg_p3_q35', 'neg_p0_q151', 'neg_p0_q197', 'neg_p1_q133', 'pos_p3_q8', 'neg_p2_q99', 'neg_p0_q67', 'pos_p2_q45', 'neg_p3_q74', 'pos_p0_q31', 'neg_p4_q28', 'pos_p4_q22', 'neg_p0_q127', 'neg_p1_q175', 'pos_p4_q25', 'neg_p2_q212', 'neg_p4_q94', 'pos_p0_q166', 'pos_p1_q71', 'neg_p2_q122', 'neg_p0_q214', 'neg_p2_q88', 'neg_p2_q199', 'neg_p0_q27', 'neg_p3_q171', 'neg_p2_q106', 'pos_p0_q85', 'neg_p0_q140', 'neg_p4_q157', 'pos_p0_q44', 'pos_p1_q18', 'neg_p3_q102', 'pos_p1_q194', 'pos_p3_q171', 'neg_p0_q132', 'pos_p0_q193', 'neg_p0_q202', 'pos_p0_q173', 'neg_p2_q225', 'pos_p0_q74', 'neg_p4_q173', 'neg_p4_q79', 'neg_p4_q239', 'pos_p3_q83', 'neg_p2_q158', 'pos_p1_q23', 'neg_p2_q210', 'pos_p2_q126', 'neg_p0_q18', 'pos_p1_q184', 'pos_p1_q153', 'pos_p1_q150', 'neg_p2_q238', 'pos_p0_q101', 'pos_p2_q171', 'pos_p1_q183', 'neg_p1_q148', 'neg_p2_q230', 'neg_p2_q169', 'neg_p3_q199', 'pos_p2_q157', 'pos_p3_q233', 'pos_p4_q228', 'pos_p1_q142', 'neg_p3_q7', 'neg_p4_q51', 'neg_p4_q138', 'pos_p1_q151', 'pos_p1_q158', 'neg_p0_q160', 'pos_p4_q181', 'pos_p1_q29', 'pos_p2_q127', 'neg_p0_q54', 'pos_p1_q99', 'neg_p2_q72', 'pos_p0_q195', 'neg_p2_q49', 'pos_p0_q56', 'neg_p4_q191', 'pos_p0_q25', 'pos_p0_q171', 'pos_p4_q211', 'neg_p3_q51', 'neg_p1_q159', 'neg_p2_q155', 'pos_p2_q65', 'pos_p3_q144', 'neg_p3_q120', 'pos_p0_q234', 'pos_p2_q81', 'neg_p2_q126', 'pos_p1_q115', 'pos_p2_q236', 'neg_p1_q228', 'neg_p1_q119', 'neg_p2_q36', 'pos_p1_q232', 'neg_p3_q183', 'neg_p3_q0', 'pos_p3_q21', 'pos_p4_q125', 'pos_p1_q223', 'pos_p3_q103', 'neg_p3_q217', 'neg_p3_q187', 'pos_p3_q200', 'neg_p4_q36', 'pos_p2_q82', 'pos_p3_q230', 'neg_p2_q15', 'pos_p4_q203', 'neg_p1_q130', 'neg_p3_q66', 'neg_p1_q66', 'pos_p4_q226', 'neg_p4_q210', 'pos_p2_q86', 'pos_p3_q92', 'pos_p1_q149', 'pos_p2_q136', 'neg_p0_q32', 'pos_p2_q105', 'neg_p3_q36', 'pos_p3_q145', 'pos_p1_q62', 'pos_p0_q125', 'pos_p3_q28', 'neg_p1_q201', 'pos_p4_q99', 'pos_p0_q188', 'pos_p2_q192', 'neg_p1_q1', 'neg_p0_q75', 'neg_p3_q177', 'pos_p2_q56', 'pos_p2_q149', 'pos_p0_q28', 'pos_p1_q214', 'neg_p1_q47', 'neg_p1_q54', 'pos_p2_q22', 'pos_p2_q11', 'pos_p2_q189', 'neg_p2_q142', 'neg_p2_q20', 'neg_p3_q188', 'neg_p1_q73', 'pos_p4_q91', 'pos_p4_q171', 'neg_p0_q114', 'pos_p2_q106', 'neg_p0_q5', 'neg_p3_q97', 'pos_p4_q200', 'neg_p1_q29', 'pos_p3_q102', 'neg_p3_q203', 'neg_p4_q197', 'neg_p1_q235', 'neg_p1_q129', 'neg_p3_q54', 'pos_p2_q178', 'neg_p0_q184', 'neg_p3_q206', 'neg_p2_q179', 'pos_p4_q74', 'neg_p1_q36', 'neg_p2_q195', 'pos_p4_q9', 'neg_p2_q189', 'neg_p4_q96', 'pos_p0_q172', 'pos_p0_q109', 'pos_p4_q8', 'neg_p3_q61', 'pos_p3_q116', 'pos_p2_q4', 'neg_p1_q116', 'neg_p1_q99', 'neg_p4_q84', 'neg_p1_q198', 'neg_p1_q208', 'neg_p1_q12', 'neg_p1_q80', 'neg_p1_q220', 'pos_p2_q38', 'pos_p4_q233', 'pos_p0_q110', 'neg_p0_q72', 'neg_p1_q69', 'pos_p0_q47', 'pos_p4_q120', 'neg_p0_q208', 'neg_p0_q103', 'neg_p0_q91', 'pos_p1_q92', 'neg_p4_q227', 'pos_p0_q12', 'neg_p4_q39', 'pos_p2_q73', 'neg_p2_q73', 'neg_p2_q83', 'pos_p1_q73', 'pos_p4_q105', 'pos_p4_q124', 'pos_p0_q128', 'pos_p4_q3', 'pos_p2_q26', 'neg_p4_q59', 'pos_p4_q224', 'pos_p1_q46', 'neg_p2_q61', 'pos_p2_q8', 'pos_p4_q28', 'neg_p4_q122', 'pos_p0_q219', 'neg_p0_q148', 'neg_p4_q46', 'neg_p1_q231', 'neg_p0_q158', 'neg_p2_q162', 'pos_p2_q138', 'pos_p1_q53', 'pos_p2_q96', 'pos_p1_q208', 'neg_p3_q64', 'neg_p3_q135', 'pos_p2_q23', 'pos_p2_q76', 'pos_p1_q166', 'neg_p2_q57', 'pos_p4_q64', 'pos_p3_q37', 'neg_p0_q50', 'pos_p0_q40', 'pos_p2_q195', 'neg_p3_q144', 'neg_p1_q34', 'pos_p0_q209', 'neg_p3_q167', 'pos_p1_q121', 'neg_p4_q162', 'pos_p4_q164', 'pos_p2_q132', 'pos_p3_q12', 'neg_p1_q234', 'pos_p2_q48', 'neg_p4_q110', 'neg_p0_q192', 'neg_p2_q219', 'pos_p2_q112', 'pos_p4_q206', 'pos_p1_q187', 'pos_p1_q22', 'pos_p3_q170', 'neg_p3_q211', 'pos_p0_q102', 'pos_p1_q82', 'neg_p3_q237', 'neg_p1_q72', 'neg_p4_q142', 'neg_p3_q23', 'neg_p1_q11', 'pos_p4_q188', 'pos_p1_q147', 'pos_p2_q72', 'pos_p2_q125', 'neg_p0_q19', 'neg_p3_q34', 'pos_p0_q220', 'pos_p2_q17', 'neg_p4_q160', 'neg_p0_q53', 'pos_p4_q237', 'neg_p3_q42', 'pos_p0_q161', 'neg_p3_q146', 'neg_p2_q161', 'pos_p1_q130', 'neg_p3_q94', 'neg_p0_q14', 'pos_p1_q47', 'neg_p2_q205', 'neg_p4_q151', 'pos_p3_q88', 'neg_p1_q122', 'neg_p3_q202', 'neg_p2_q89', 'pos_p3_q110', 'pos_p2_q183', 'neg_p0_q38', 'pos_p2_q104', 'neg_p3_q72', 'pos_p1_q49', 'pos_p2_q118', 'neg_p0_q6', 'pos_p2_q102', 'neg_p2_q188', 'pos_p3_q188', 'pos_p1_q120', 'pos_p0_q48', 'pos_p0_q81', 'neg_p4_q124', 'neg_p3_q224', 'neg_p3_q104', 'neg_p0_q135', 'pos_p4_q167', 'neg_p3_q193', 'neg_p2_q11', 'neg_p4_q120', 'pos_p0_q120', 'neg_p2_q58', 'pos_p4_q38', 'neg_p1_q30', 'neg_p2_q196', 'pos_p3_q1', 'pos_p1_q89', 'pos_p2_q12', 'pos_p1_q81', 'pos_p0_q192', 'pos_p1_q196', 'pos_p2_q57', 'neg_p3_q190', 'neg_p2_q111', 'neg_p1_q120', 'neg_p4_q179', 'pos_p2_q229', 'neg_p1_q167', 'neg_p3_q19', 'neg_p4_q49', 'pos_p1_q200', 'neg_p3_q73', 'neg_p1_q68', 'neg_p2_q176', 'pos_p4_q70', 'pos_p2_q146', 'neg_p4_q148', 'pos_p1_q95', 'neg_p1_q106', 'neg_p3_q83', 'neg_p3_q105', 'pos_p4_q158', 'neg_p1_q92', 'neg_p2_q135', 'neg_p1_q59', 'neg_p2_q185', 'neg_p2_q234', 'neg_p1_q98', 'neg_p3_q106', 'pos_p0_q72', 'pos_p2_q186', 'pos_p1_q32', 'pos_p4_q76', 'neg_p1_q230', 'neg_p3_q30', 'neg_p4_q137', 'pos_p4_q177', 'pos_p2_q59', 'neg_p4_q21', 'neg_p1_q205', 'neg_p2_q211', 'pos_p2_q196', 'pos_p3_q197', 'neg_p3_q92', 'neg_p3_q175', 'pos_p1_q201', 'neg_p3_q84', 'neg_p3_q143', 'neg_p1_q141', 'pos_p2_q43', 'pos_p2_q62', 'neg_p1_q70', 'pos_p0_q148', 'pos_p3_q216', 'neg_p4_q40', 'neg_p2_q14', 'pos_p0_q76', 'neg_p0_q145', 'pos_p1_q239', 'neg_p4_q198', 'neg_p2_q128', 'pos_p1_q56', 'pos_p3_q79', 'neg_p1_q145', 'neg_p4_q91', 'neg_p4_q89', 'pos_p2_q128', 'neg_p2_q201', 'pos_p3_q41', 'neg_p1_q197', 'neg_p0_q221', 'neg_p0_q210', 'neg_p2_q105', 'pos_p1_q119', 'pos_p3_q208', 'neg_p0_q205', 'neg_p3_q141', 'pos_p3_q117', 'neg_p2_q114', 'pos_p4_q137', 'pos_p0_q29', 'pos_p0_q42', 'pos_p2_q185', 'neg_p2_q144', 'pos_p2_q83', 'pos_p4_q205', 'neg_p0_q141', 'neg_p2_q19', 'neg_p3_q137', 'pos_p0_q21', 'neg_p1_q15', 'pos_p1_q171', 'neg_p1_q204', 'pos_p1_q103', 'neg_p2_q124', 'neg_p4_q131', 'pos_p1_q218', 'pos_p2_q36', 'neg_p3_q189', 'neg_p3_q239', 'neg_p1_q229', 'neg_p0_q104', 'pos_p3_q210', 'neg_p3_q155', 'pos_p4_q149', 'pos_p2_q147', 'neg_p0_q58', 'neg_p3_q208', 'pos_p0_q20', 'pos_p3_q69', 'neg_p3_q68', 'neg_p2_q186', 'pos_p2_q123', 'neg_p4_q45', 'pos_p3_q141', 'pos_p0_q68', 'neg_p1_q157', 'neg_p4_q152', 'pos_p1_q234', 'neg_p0_q86', 'neg_p0_q230', 'pos_p1_q198', 'neg_p0_q46', 'pos_p0_q41', 'neg_p4_q67', 'pos_p1_q94', 'pos_p2_q188', 'pos_p4_q146', 'pos_p0_q143', 'neg_p2_q42', 'neg_p4_q101', 'neg_p2_q138', 'pos_p0_q80', 'neg_p1_q90', 'neg_p3_q111', 'neg_p4_q130', 'neg_p1_q65', 'pos_p1_q227', 'neg_p4_q114', 'pos_p1_q86', 'pos_p3_q225', 'pos_p2_q24', 'pos_p3_q150', 'neg_p1_q78', 'neg_p4_q134', 'neg_p2_q5', 'neg_p2_q130', 'neg_p0_q109', 'pos_p1_q35', 'pos_p3_q215', 'neg_p0_q13', 'neg_p4_q16', 'neg_p3_q166', 'neg_p0_q143', 'neg_p4_q0', 'pos_p3_q49', 'pos_p2_q84', 'neg_p0_q212', 'neg_p1_q10', 'pos_p1_q1', 'pos_p0_q51', 'pos_p2_q20', 'pos_p2_q119', 'neg_p1_q111', 'neg_p4_q85', 'pos_p3_q115', 'neg_p4_q166', 'pos_p3_q13', 'pos_p1_q179', 'neg_p0_q179', 'pos_p0_q200', 'pos_p0_q116', 'neg_p0_q152', 'neg_p1_q154', 'neg_p3_q201', 'pos_p0_q24', 'neg_p2_q175', 'neg_p3_q227', 'pos_p3_q183', 'pos_p4_q6', 'neg_p3_q114', 'neg_p0_q196', 'pos_p1_q207', 'neg_p4_q149', 'pos_p3_q104', 'neg_p0_q42', 'neg_p1_q46', 'neg_p2_q172', 'pos_p2_q37', 'neg_p3_q118', 'pos_p0_q45', 'pos_p4_q49', 'pos_p4_q46', 'pos_p4_q109', 'neg_p4_q3', 'neg_p2_q43', 'pos_p2_q176', 'pos_p4_q156', 'pos_p3_q50', 'pos_p0_q10', 'pos_p1_q210', 'pos_p1_q64', 'neg_p1_q93', 'neg_p1_q123', 'neg_p0_q173', 'pos_p0_q186', 'neg_p3_q25', 'pos_p2_q216', 'neg_p2_q109', 'pos_p2_q116', 'neg_p0_q89', 'pos_p3_q32', 'pos_p3_q209', 'pos_p0_q176', 'pos_p3_q47', 'pos_p1_q14', 'neg_p4_q50', 'neg_p3_q107', 'neg_p3_q218', 'neg_p0_q37', 'pos_p2_q98', 'pos_p3_q135', 'neg_p0_q47', 'neg_p1_q39', 'pos_p4_q71', 'neg_p3_q172', 'neg_p1_q185', 'neg_p1_q8', 'pos_p4_q202', 'pos_p0_q167', 'pos_p0_q163', 'pos_p1_q192', 'neg_p1_q191', 'neg_p4_q109', 'neg_p2_q53', 'neg_p1_q121', 'neg_p4_q24', 'pos_p0_q175', 'pos_p4_q192', 'neg_p0_q231', 'pos_p1_q160', 'neg_p0_q137', 'neg_p3_q149', 'pos_p1_q7', 'neg_p0_q29', 'pos_p4_q63', 'pos_p0_q83', 'pos_p3_q218', 'neg_p4_q165', 'pos_p4_q97', 'neg_p1_q152', 'pos_p1_q173', 'pos_p0_q179', 'pos_p0_q98', 'pos_p2_q54', 'pos_p1_q75', 'pos_p0_q231', 'neg_p4_q34', 'neg_p3_q31', 'pos_p0_q121', 'pos_p3_q39', 'pos_p3_q151', 'pos_p3_q72', 'neg_p4_q13', 'neg_p0_q203', 'pos_p0_q53', 'pos_p2_q129', 'pos_p1_q44', 'pos_p2_q184', 'pos_p1_q4', 'neg_p3_q157', 'pos_p3_q159', 'neg_p0_q211', 'neg_p1_q52', 'neg_p3_q43', 'pos_p0_q201', 'neg_p2_q59', 'pos_p0_q154', 'pos_p4_q238', 'neg_p2_q50', 'pos_p4_q145', 'neg_p0_q191', 'neg_p0_q115', 'pos_p1_q237', 'pos_p1_q213', 'pos_p4_q234', 'pos_p0_q196', 'pos_p1_q176', 'neg_p4_q19', 'pos_p3_q81', 'neg_p3_q98', 'pos_p3_q213', 'pos_p3_q220', 'pos_p1_q193', 'pos_p0_q77', 'pos_p2_q232', 'pos_p3_q154', 'neg_p4_q44', 'pos_p0_q226', 'pos_p2_q203', 'neg_p2_q68', 'neg_p3_q151', 'pos_p0_q3', 'neg_p3_q5', 'pos_p2_q130', 'pos_p1_q152', 'pos_p4_q69', 'pos_p3_q87', 'pos_p1_q70', 'pos_p3_q162', 'pos_p4_q24', 'pos_p4_q27', 'pos_p4_q60', 'neg_p1_q132', 'neg_p1_q169', 'pos_p3_q16', 'neg_p4_q2', 'pos_p0_q147', 'neg_p2_q93', 'pos_p1_q128', 'neg_p3_q221', 'neg_p0_q227', 'neg_p3_q130', 'neg_p4_q72', 'neg_p1_q218', 'pos_p2_q230', 'neg_p4_q202', 'neg_p1_q35', 'pos_p2_q182', 'pos_p3_q68', 'neg_p3_q108', 'pos_p1_q50', 'neg_p1_q58', 'neg_p4_q143', 'neg_p4_q61', 'neg_p0_q222', 'neg_p2_q44', 'neg_p4_q206', 'pos_p4_q39', 'neg_p4_q159', 'pos_p4_q210', 'pos_p0_q104', 'pos_p2_q163', 'neg_p2_q92', 'neg_p0_q238', 'neg_p1_q102', 'pos_p3_q99', 'pos_p2_q193', 'neg_p4_q133', 'neg_p1_q214', 'pos_p3_q106', 'pos_p3_q125', 'pos_p0_q227', 'neg_p1_q202', 'pos_p0_q86', 'pos_p1_q43', 'neg_p2_q125', 'neg_p3_q26', 'pos_p3_q75', 'pos_p3_q228', 'neg_p0_q209', 'neg_p1_q43', 'pos_p2_q174', 'neg_p1_q117', 'neg_p1_q48', 'neg_p0_q102', 'neg_p4_q155', 'neg_p3_q185', 'neg_p4_q232', 'pos_p3_q227', 'pos_p4_q19', 'neg_p1_q163', 'neg_p3_q219', 'neg_p1_q138', 'pos_p3_q146', 'neg_p3_q145', 'neg_p2_q77', 'neg_p2_q110', 'neg_p0_q21', 'pos_p2_q35', 'neg_p3_q225', 'neg_p4_q234', 'neg_p2_q233', 'pos_p1_q79', 'pos_p1_q159', 'pos_p4_q136', 'neg_p1_q161', 'neg_p2_q86', 'neg_p3_q163', 'pos_p2_q208', 'pos_p1_q59', 'pos_p2_q177', 'pos_p0_q233', 'pos_p1_q124', 'pos_p4_q79', 'neg_p3_q58', 'pos_p1_q65', 'pos_p2_q115', 'neg_p4_q154', 'pos_p2_q114', 'neg_p3_q81', 'pos_p2_q34', 'pos_p2_q64', 'neg_p2_q120', 'pos_p3_q134', 'pos_p4_q161', 'pos_p0_q229', 'neg_p1_q135', 'pos_p4_q35', 'neg_p0_q60', 'pos_p0_q8', 'neg_p0_q121', 'neg_p0_q26', 'pos_p2_q67', 'pos_p4_q152', 'neg_p0_q33', 'neg_p2_q115', 'pos_p4_q32', 'neg_p2_q165', 'pos_p0_q13', 'pos_p3_q65', 'neg_p2_q220', 'pos_p2_q211', 'pos_p0_q197', 'neg_p1_q49', 'pos_p0_q159', 'pos_p0_q46', 'pos_p1_q69', 'pos_p1_q68', 'neg_p2_q10', 'neg_p2_q146', 'pos_p3_q107', 'pos_p2_q187', 'pos_p4_q230', 'neg_p3_q40', 'neg_p4_q216', 'pos_p0_q89', 'neg_p0_q217', 'pos_p2_q205', 'neg_p2_q193', 'neg_p3_q212', 'neg_p3_q39', 'neg_p0_q70', 'pos_p1_q58', 'neg_p1_q96', 'pos_p3_q44', 'pos_p2_q53', 'neg_p0_q106', 'neg_p3_q48', 'pos_p1_q219', 'pos_p0_q210', 'neg_p0_q56', 'pos_p4_q90', 'neg_p4_q95', 'pos_p2_q101', 'neg_p1_q56', 'pos_p0_q141', 'neg_p4_q224', 'pos_p0_q32', 'pos_p3_q191', 'neg_p4_q126', 'pos_p4_q219', 'pos_p4_q208', 'neg_p3_q117', 'neg_p1_q64', 'pos_p2_q226', 'pos_p1_q6', 'neg_p4_q177', 'neg_p3_q210', 'neg_p2_q3', 'pos_p4_q18', 'pos_p4_q214', 'neg_p0_q79', 'pos_p1_q186', 'pos_p2_q194', 'neg_p0_q130', 'neg_p0_q128', 'pos_p3_q36', 'neg_p4_q106', 'neg_p1_q0', 'pos_p1_q134', 'neg_p0_q117', 'pos_p1_q113', 'pos_p1_q109', 'neg_p3_q46', 'pos_p4_q150', 'pos_p0_q37', 'neg_p0_q98', 'pos_p4_q119', 'neg_p0_q157', 'pos_p0_q61', 'pos_p0_q135', 'pos_p3_q158', 'neg_p3_q9', 'pos_p1_q163', 'pos_p3_q182', 'neg_p0_q1', 'pos_p4_q50', 'neg_p2_q207', 'pos_p0_q108', 'pos_p1_q123', 'neg_p0_q169', 'neg_p2_q107', 'pos_p3_q201', 'pos_p4_q155', 'pos_p1_q37', 'neg_p1_q110', 'neg_p2_q23', 'neg_p0_q90', 'neg_p4_q107', 'neg_p2_q21', 'neg_p1_q137', 'pos_p1_q2', 'neg_p1_q143', 'pos_p2_q173', 'neg_p4_q47', 'neg_p3_q90', 'pos_p2_q87', 'pos_p2_q15', 'pos_p2_q93', 'neg_p1_q88', 'pos_p0_q30', 'pos_p4_q187', 'pos_p2_q52', 'pos_p3_q67', 'neg_p3_q216', 'neg_p2_q168', 'neg_p2_q197', 'pos_p2_q90', 'pos_p0_q107', 'neg_p4_q74', 'neg_p4_q190', 'pos_p0_q181', 'pos_p4_q221', 'pos_p2_q110', 'pos_p2_q39', 'pos_p1_q164', 'pos_p3_q155', 'pos_p3_q24', 'pos_p0_q232', 'pos_p0_q198', 'neg_p0_q68', 'neg_p1_q153', 'neg_p0_q74', 'neg_p2_q66', 'pos_p4_q1', 'pos_p4_q86', 'pos_p3_q82', 'pos_p0_q164', 'pos_p2_q97', 'neg_p1_q196', 'pos_p2_q18', 'pos_p0_q194', 'neg_p0_q164', 'pos_p3_q70', 'neg_p4_q205', 'pos_p2_q169', 'pos_p0_q205', 'pos_p2_q27', 'neg_p0_q218', 'neg_p0_q41', 'neg_p3_q24', 'neg_p0_q64', 'pos_p0_q133', 'pos_p2_q42', 'neg_p2_q112', 'neg_p2_q64', 'pos_p3_q22', 'pos_p4_q7', 'pos_p4_q53', 'pos_p0_q96', 'pos_p3_q211', 'pos_p0_q0', 'neg_p4_q215', 'neg_p4_q174', 'pos_p0_q50', 'pos_p4_q196', 'neg_p1_q82', 'neg_p3_q198', 'pos_p4_q118', 'neg_p0_q61', 'neg_p0_q10', 'pos_p0_q19', 'pos_p0_q49', 'neg_p3_q56', 'neg_p1_q42', 'neg_p2_q160', 'pos_p0_q150', 'pos_p1_q51', 'pos_p3_q143', 'neg_p0_q167', 'pos_p0_q111', 'pos_p1_q61', 'neg_p3_q115', 'neg_p4_q77', 'pos_p0_q66', 'pos_p0_q155', 'neg_p3_q62', 'pos_p0_q36', 'neg_p4_q187', 'pos_p4_q112', 'neg_p4_q14', 'pos_p0_q59', 'pos_p3_q177', 'neg_p3_q53', 'neg_p4_q228', 'pos_p3_q53', 'neg_p1_q19', 'pos_p3_q114', 'neg_p2_q166', 'neg_p1_q45', 'neg_p1_q71', 'pos_p3_q84', 'neg_p4_q193', 'pos_p4_q113', 'pos_p1_q66', 'pos_p4_q176', 'neg_p3_q16', 'neg_p4_q38', 'neg_p0_q198', 'pos_p3_q0', 'pos_p3_q118', 'pos_p1_q25', 'pos_p2_q10', 'pos_p2_q209', 'pos_p1_q191', 'neg_p4_q136', 'pos_p3_q236', 'neg_p4_q184', 'neg_p4_q100', 'pos_p3_q180', 'pos_p3_q112', 'neg_p0_q144', 'pos_p0_q237', 'pos_p1_q136', 'pos_p3_q66', 'pos_p3_q165', 'pos_p2_q145', 'neg_p1_q128', 'pos_p4_q62', 'pos_p3_q156', 'neg_p3_q32', 'pos_p3_q93', 'pos_p0_q218', 'neg_p4_q64', 'pos_p1_q26', 'neg_p4_q237', 'pos_p0_q84', 'neg_p1_q107', 'neg_p1_q223', 'pos_p4_q153', 'pos_p0_q103', 'neg_p0_q92', 'neg_p4_q80', 'pos_p1_q11', 'neg_p3_q181', 'pos_p4_q166', 'neg_p2_q209', 'pos_p1_q197', 'neg_p1_q140', 'pos_p2_q120', 'neg_p3_q78', 'neg_p4_q78', 'pos_p4_q51', 'neg_p1_q195', 'neg_p2_q52', 'pos_p0_q160', 'pos_p2_q134', 'pos_p4_q14', 'neg_p2_q91', 'neg_p3_q20', 'pos_p0_q18', 'neg_p3_q17', 'pos_p1_q162', 'neg_p1_q24', 'pos_p1_q211', 'pos_p3_q185', 'neg_p0_q25', 'pos_p4_q12', 'pos_p3_q100', 'pos_p1_q209', 'pos_p2_q234', 'pos_p3_q147', 'pos_p4_q225', 'pos_p2_q131', 'pos_p3_q238', 'neg_p0_q199', 'pos_p3_q17', 'pos_p0_q54', 'pos_p4_q148', 'pos_p2_q140', 'pos_p3_q212', 'pos_p2_q71', 'neg_p0_q119', 'neg_p0_q219', 'pos_p0_q228', 'pos_p0_q67', 'neg_p4_q186', 'neg_p0_q204', 'pos_p4_q68', 'neg_p4_q92', 'neg_p4_q32', 'neg_p0_q187', 'neg_p4_q97', 'neg_p3_q71', 'neg_p0_q85', 'pos_p1_q45', 'pos_p2_q215', 'pos_p4_q217', 'pos_p4_q52', 'neg_p4_q82', 'neg_p2_q217', 'pos_p4_q236', 'neg_p0_q181', 'pos_p0_q131', 'pos_p0_q132', 'pos_p1_q177', 'neg_p3_q122', 'pos_p4_q84', 'pos_p2_q197', 'pos_p3_q167', 'neg_p3_q44', 'pos_p4_q0', 'neg_p2_q163', 'neg_p4_q176', 'pos_p1_q140', 'neg_p3_q22', 'neg_p0_q105', 'pos_p0_q26', 'neg_p2_q0', 'neg_p4_q127', 'pos_p2_q79', 'pos_p2_q2', 'pos_p4_q193', 'neg_p1_q109', 'neg_p4_q129', 'pos_p2_q107', 'pos_p1_q215', 'neg_p3_q226', 'neg_p3_q1', 'neg_p4_q192', 'neg_p1_q225', 'pos_p4_q232', 'neg_p4_q17', 'neg_p2_q60', 'pos_p0_q170', 'pos_p0_q185', 'neg_p1_q97', 'pos_p3_q175', 'pos_p4_q15', 'neg_p2_q25', 'neg_p0_q73', 'neg_p1_q194', 'neg_p2_q216', 'pos_p1_q132', 'neg_p4_q226', 'pos_p1_q170', 'pos_p2_q6', 'neg_p1_q26', 'neg_p4_q88', 'pos_p3_q186', 'pos_p3_q133', 'neg_p0_q213', 'pos_p4_q115', 'neg_p4_q175', 'neg_p4_q102', 'pos_p4_q222', 'neg_p0_q224', 'neg_p1_q139', 'neg_p2_q71', 'pos_p2_q239', 'pos_p1_q3', 'pos_p4_q168', 'pos_p0_q7', 'pos_p4_q116', 'neg_p4_q71', 'neg_p3_q162', 'neg_p1_q162', 'pos_p4_q142', 'neg_p0_q83', 'neg_p1_q22', 'neg_p3_q4', 'pos_p3_q76', 'neg_p4_q140', 'pos_p1_q118', 'neg_p3_q222', 'neg_p4_q238', 'pos_p1_q181', 'neg_p3_q2', 'neg_p3_q164', 'neg_p3_q178', 'neg_p3_q76', 'pos_p3_q96', 'neg_p4_q115', 'pos_p3_q42', 'neg_p3_q168', 'pos_p0_q238', 'pos_p2_q228', 'neg_p4_q225', 'neg_p0_q94', 'pos_p0_q214', 'pos_p3_q46', 'neg_p3_q180', 'neg_p0_q113', 'pos_p2_q160', 'pos_p1_q34', 'neg_p0_q153', 'pos_p4_q106', 'neg_p3_q140', 'neg_p2_q221', 'pos_p3_q94', 'neg_p4_q168', 'neg_p2_q132', 'pos_p1_q31', 'pos_p1_q48', 'pos_p0_q208', 'neg_p1_q91', 'neg_p1_q127', 'pos_p0_q99', 'neg_p3_q70', 'pos_p2_q95', 'neg_p4_q170', 'neg_p2_q215', 'pos_p2_q227', 'neg_p0_q183', 'pos_p3_q119', 'pos_p4_q160', 'neg_p0_q39', 'pos_p4_q117', 'pos_p1_q112', 'pos_p4_q73', 'pos_p4_q130', 'neg_p2_q108', 'neg_p4_q208', 'neg_p2_q100', 'neg_p0_q124', 'neg_p2_q32', 'neg_p0_q55', 'pos_p3_q23', 'neg_p4_q236', 'neg_p1_q94', 'neg_p2_q229', 'neg_p2_q79', 'neg_p2_q170', 'pos_p3_q51', 'pos_p3_q61', 'pos_p1_q15', 'neg_p2_q208', 'neg_p1_q192', 'neg_p3_q109', 'pos_p1_q174', 'pos_p2_q91', 'pos_p4_q143', 'neg_p1_q44', 'neg_p4_q171', 'neg_p2_q236', 'neg_p2_q129', 'neg_p0_q35', 'neg_p2_q147', 'pos_p0_q92', 'pos_p0_q183', 'neg_p1_q144', 'neg_p0_q139', 'pos_p3_q187', 'neg_p0_q229', 'neg_p0_q63', 'pos_p3_q205', 'pos_p1_q104', 'neg_p0_q88', 'neg_p2_q35', 'neg_p1_q179', 'neg_p1_q158', 'pos_p2_q33', 'pos_p2_q158', 'neg_p3_q96', 'pos_p0_q145', 'pos_p3_q163', 'pos_p0_q207', 'neg_p3_q152', 'pos_p2_q156', 'pos_p2_q58', 'neg_p1_q206', 'pos_p0_q212', 'neg_p4_q83', 'pos_p3_q64', 'pos_p2_q161', 'pos_p0_q221', 'pos_p1_q38', 'neg_p2_q26', 'pos_p1_q91', 'neg_p2_q203', 'neg_p3_q223', 'pos_p0_q216', 'pos_p2_q55', 'neg_p0_q220', 'neg_p1_q113', 'pos_p1_q117', 'pos_p2_q44', 'neg_p4_q4', 'pos_p2_q7', 'neg_p3_q204', 'pos_p3_q164', 'pos_p2_q25', 'neg_p2_q194', 'neg_p0_q155', 'pos_p2_q231', 'pos_p3_q18', 'neg_p4_q223', 'neg_p2_q167', 'pos_p4_q129', 'neg_p0_q107', 'pos_p2_q68', 'pos_p2_q69', 'pos_p0_q139', 'pos_p3_q221', 'pos_p1_q52', 'pos_p1_q146', 'neg_p3_q121', 'pos_p2_q21', 'pos_p2_q235', 'neg_p4_q156', 'pos_p0_q123', 'pos_p3_q198', 'pos_p4_q65', 'pos_p0_q162', 'neg_p2_q157', 'neg_p0_q175', 'neg_p3_q138', 'neg_p3_q234', 'pos_p1_q175', 'pos_p4_q218', 'neg_p2_q46', 'pos_p1_q13', 'neg_p4_q189', 'pos_p3_q31', 'pos_p1_q122', 'neg_p2_q200', 'neg_p3_q161', 'neg_p4_q203', 'pos_p3_q193', 'neg_p4_q188', 'neg_p2_q180', 'neg_p2_q29', 'neg_p0_q159', 'pos_p4_q111', 'pos_p0_q235', 'neg_p4_q73', 'neg_p3_q21', 'neg_p4_q207', 'pos_p3_q7', 'pos_p0_q211', 'pos_p3_q73', 'pos_p4_q58', 'neg_p0_q31', 'pos_p2_q199', 'neg_p3_q6', 'pos_p2_q1', 'pos_p2_q47', 'pos_p4_q40', 'pos_p1_q202', 'neg_p1_q55', 'neg_p0_q162', 'pos_p4_q157', 'neg_p2_q119', 'neg_p2_q152', 'neg_p0_q177', 'neg_p2_q148', 'neg_p1_q104', 'pos_p4_q138', 'neg_p3_q75', 'pos_p1_q169', 'neg_p3_q184', 'neg_p2_q87', 'pos_p3_q235', 'neg_p3_q49', 'neg_p3_q116', 'neg_p0_q7', 'neg_p2_q9', 'pos_p1_q182', 'pos_p3_q149', 'pos_p4_q42', 'neg_p2_q65', 'neg_p0_q138', 'neg_p2_q39', 'pos_p3_q130', 'neg_p2_q222', 'neg_p4_q69', 'pos_p0_q95', 'neg_p3_q186', 'neg_p4_q233', 'pos_p2_q51', 'pos_p2_q217', 'pos_p0_q144', 'neg_p1_q226', 'neg_p1_q79', 'neg_p1_q95', 'neg_p0_q207', 'neg_p2_q40', 'neg_p0_q136', 'pos_p1_q41', 'neg_p3_q182', 'neg_p3_q228', 'neg_p3_q160', 'pos_p0_q118', 'pos_p0_q71', 'neg_p0_q125', 'neg_p2_q81', 'pos_p1_q63', 'pos_p0_q152', 'pos_p2_q63', 'neg_p0_q3', 'pos_p4_q26', 'neg_p2_q206', 'neg_p4_q209', 'pos_p3_q157', 'pos_p4_q135', 'neg_p3_q154', 'pos_p3_q77', 'pos_p0_q182', 'pos_p3_q140', 'pos_p2_q144', 'neg_p3_q196', 'pos_p4_q88', 'pos_p1_q57', 'pos_p4_q201', 'neg_p4_q178', 'pos_p0_q134', 'neg_p2_q198', 'neg_p3_q238', 'neg_p4_q221', 'neg_p1_q7', 'neg_p1_q75', 'neg_p3_q14', 'neg_p1_q32', 'neg_p3_q158', 'neg_p3_q231', 'neg_p2_q159', 'neg_p0_q8', 'neg_p3_q150', 'neg_p3_q179', 'neg_p3_q13', 'neg_p3_q77', 'neg_p3_q41', 'neg_p1_q160', 'neg_p1_q77', 'pos_p3_q71', 'pos_p2_q31', 'pos_p1_q10', 'neg_p2_q150', 'pos_p3_q86', 'neg_p4_q196', 'pos_p4_q204', 'neg_p2_q113', 'pos_p1_q16', 'neg_p2_q24', 'pos_p0_q203', 'pos_p1_q116', 'neg_p0_q2', 'neg_p4_q128', 'pos_p2_q222', 'neg_p1_q101', 'pos_p3_q59', 'pos_p0_q239', 'neg_p3_q95', 'pos_p4_q180', 'neg_p3_q207', 'neg_p1_q136', 'neg_p3_q59', 'neg_p2_q123', 'pos_p1_q127', 'neg_p0_q168', 'neg_p0_q174', 'neg_p3_q12', 'neg_p4_q37', 'neg_p4_q204', 'neg_p4_q65', 'neg_p3_q215', 'neg_p4_q33', 'neg_p0_q100', 'pos_p2_q99', 'pos_p3_q90', 'pos_p0_q224', 'pos_p4_q169', 'neg_p2_q202', 'neg_p2_q1', 'pos_p2_q141', 'neg_p4_q146', 'pos_p3_q127', 'pos_p4_q37', 'neg_p0_q4', 'pos_p0_q82', 'neg_p2_q4', 'neg_p1_q76', 'neg_p2_q82', 'neg_p1_q170', 'neg_p3_q129', 'neg_p4_q135', 'pos_p3_q105', 'pos_p2_q109', 'pos_p1_q40', 'neg_p2_q104', 'neg_p2_q145', 'neg_p3_q119', 'pos_p0_q17', 'neg_p2_q69', 'neg_p3_q100', 'pos_p2_q100', 'pos_p3_q19', 'neg_p1_q172', 'pos_p2_q212', 'neg_p0_q95', 'neg_p2_q187', 'neg_p1_q166', 'pos_p3_q123', 'pos_p4_q92', 'neg_p2_q95', 'pos_p4_q80', 'pos_p1_q74', 'neg_p2_q97', 'neg_p1_q125', 'neg_p1_q173', 'pos_p1_q114', 'neg_p3_q236', 'pos_p2_q13', 'pos_p0_q94', 'pos_p4_q23', 'neg_p0_q23', 'pos_p4_q41', 'neg_p4_q229', 'pos_p3_q148', 'pos_p0_q157', 'neg_p0_q170', 'neg_p1_q86', 'pos_p1_q205', 'neg_p3_q148', 'pos_p1_q148', 'neg_p2_q191', 'neg_p4_q48', 'pos_p4_q131', 'neg_p0_q71', 'neg_p2_q7', 'neg_p2_q51', 'pos_p4_q147', 'neg_p4_q75', 'pos_p0_q217', 'pos_p4_q114', 'neg_p1_q215', 'pos_p3_q95', 'pos_p3_q101', 'pos_p1_q129', 'neg_p2_q141', 'neg_p4_q31', 'pos_p0_q114', 'pos_p1_q36', 'pos_p0_q91', 'neg_p2_q2', 'pos_p2_q153', 'neg_p1_q193', 'pos_p4_q47', 'pos_p4_q141', 'neg_p4_q181', 'pos_p3_q10', 'pos_p4_q122', 'neg_p4_q183', 'neg_p1_q18', 'neg_p4_q180', 'neg_p0_q57', 'pos_p3_q43', 'pos_p0_q15', 'neg_p3_q133', 'pos_p4_q170', 'pos_p4_q44', 'pos_p0_q4', 'neg_p3_q29', 'pos_p3_q219', 'pos_p1_q111', 'neg_p4_q220', 'pos_p3_q89', 'pos_p0_q156', 'pos_p4_q104', 'pos_p4_q98', 'pos_p4_q134', 'neg_p1_q74', 'neg_p1_q237', 'neg_p1_q131', 'neg_p0_q116', 'neg_p4_q60', 'neg_p4_q27', 'neg_p1_q14', 'pos_p3_q91', 'pos_p0_q43', 'pos_p2_q124', 'pos_p3_q27', 'pos_p4_q87', 'pos_p0_q202', 'pos_p3_q128', 'neg_p4_q212', 'neg_p2_q96', 'pos_p2_q155', 'pos_p4_q34', 'neg_p1_q124', 'pos_p0_q199', 'neg_p4_q12', 'pos_p2_q121', 'neg_p3_q230', 'neg_p3_q126', 'neg_p0_q12', 'neg_p1_q181', 'neg_p2_q133', 'pos_p2_q218', 'neg_p4_q158', 'pos_p0_q174', 'pos_p1_q139', 'neg_p2_q223', 'neg_p4_q112', 'neg_p1_q108', 'neg_p1_q219', 'pos_p4_q174', 'neg_p1_q239', 'pos_p3_q78', 'pos_p4_q100', 'pos_p3_q169', 'pos_p1_q78', 'neg_p4_q11', 'pos_p1_q195', 'pos_p1_q188', 'pos_p0_q223', 'neg_p2_q17', 'pos_p4_q67', 'pos_p2_q166', 'pos_p3_q108', 'neg_p2_q67', 'pos_p0_q90', 'neg_p1_q221', 'pos_p1_q126', 'pos_p0_q105', 'pos_p3_q55', 'neg_p4_q55', 'pos_p1_q199', 'pos_p0_q215', 'pos_p2_q221', 'pos_p2_q181', 'pos_p2_q238', 'neg_p2_q116', 'pos_p3_q121', 'neg_p3_q28', 'neg_p1_q118', 'neg_p0_q146', 'pos_p2_q214', 'neg_p3_q170', 'neg_p1_q178', 'neg_p1_q16', 'neg_p1_q168', 'neg_p0_q59', 'neg_p4_q86', 'neg_p4_q211', 'neg_p3_q134', 'neg_p1_q57', 'pos_p3_q139', 'neg_p0_q228', 'pos_p0_q100', 'pos_p1_q19', 'neg_p2_q156', 'neg_p3_q27', 'neg_p0_q118', 'pos_p2_q201', 'neg_p3_q165', 'pos_p0_q177', 'pos_p0_q117', 'neg_p2_q213', 'pos_p1_q224', 'neg_p4_q195', 'neg_p3_q103', 'neg_p3_q220', 'neg_p3_q147', 'pos_p2_q74', 'neg_p1_q209', 'neg_p1_q2', 'pos_p3_q168', 'pos_p2_q223', 'pos_p4_q191', 'neg_p3_q8', 'pos_p0_q225', 'pos_p4_q96', 'neg_p2_q204', 'pos_p1_q167', 'pos_p3_q15', 'pos_p2_q77', 'pos_p3_q196', 'pos_p2_q224', 'neg_p0_q43', 'pos_p0_q180', 'neg_p0_q161', 'pos_p1_q133', 'pos_p4_q30', 'pos_p3_q184', 'pos_p1_q180', 'pos_p0_q38', 'neg_p1_q212', 'pos_p3_q178', 'neg_p3_q37', 'pos_p3_q136', 'pos_p4_q54', 'neg_p4_q105', 'pos_p4_q183', 'pos_p2_q191', 'pos_p2_q9', 'neg_p4_q7', 'neg_p4_q117', 'neg_p2_q149', 'neg_p2_q184', 'neg_p3_q80', 'pos_p0_q236', 'neg_p0_q36', 'neg_p3_q192', 'neg_p2_q183', 'pos_p2_q200', 'pos_p2_q165', 'neg_p1_q186', 'neg_p1_q174', 'pos_p3_q176', 'neg_p1_q188', 'neg_p3_q55', 'pos_p4_q48', 'neg_p2_q8', 'neg_p4_q58', 'pos_p1_q87', 'pos_p0_q222', 'pos_p3_q109', 'neg_p1_q190', 'pos_p4_q89', 'pos_p4_q107', 'neg_p1_q63', 'pos_p4_q227', 'neg_p1_q150', 'neg_p1_q100', 'pos_p3_q161', 'pos_p1_q97', 'pos_p1_q80', 'pos_p1_q157', 'neg_p3_q194', 'neg_p0_q232', 'pos_p4_q223', 'neg_p0_q49', 'pos_p3_q237', 'pos_p4_q82', 'neg_p2_q227', 'pos_p3_q85', 'neg_p2_q54', 'neg_p1_q13', 'neg_p0_q186', 'neg_p2_q22', 'neg_p2_q31', 'neg_p4_q222', 'pos_p0_q127', 'neg_p0_q223', 'neg_p4_q172', 'neg_p2_q6', 'pos_p3_q80', 'pos_p0_q1', 'pos_p0_q62', 'pos_p0_q206', 'neg_p0_q81', 'neg_p4_q230', 'neg_p3_q47', 'pos_p1_q231', 'neg_p4_q29', 'pos_p4_q199', 'pos_p3_q204', 'neg_p1_q20', 'pos_p2_q0', 'pos_p2_q210', 'pos_p0_q126', 'pos_p3_q25', 'pos_p4_q57', 'pos_p0_q75', 'neg_p1_q222', 'pos_p0_q57', 'pos_p3_q26', 'pos_p3_q60', 'pos_p1_q60', 'neg_p0_q165', 'neg_p1_q112', 'neg_p1_q37', 'pos_p4_q163', 'neg_p1_q233', 'pos_p2_q32', 'neg_p2_q80', 'pos_p2_q85', 'neg_p4_q144', 'neg_p0_q189', 'neg_p3_q85', 'neg_p4_q150', 'pos_p3_q132', 'neg_p1_q180', 'neg_p2_q237', 'neg_p0_q237', 'pos_p2_q233', 'pos_p1_q42', 'neg_p1_q151', 'neg_p4_q169', 'neg_p4_q22', 'pos_p2_q117', 'neg_p4_q63', 'neg_p3_q131', 'pos_p3_q113', 'neg_p4_q68', 'neg_p3_q65', 'pos_p3_q97', 'neg_p2_q28', 'pos_p2_q162', 'neg_p2_q12', 'neg_p2_q226', 'neg_p0_q129', 'neg_p3_q79', 'neg_p1_q183', 'pos_p2_q28', 'neg_p3_q176', 'pos_p2_q46', 'pos_p0_q97', 'pos_p2_q148', 'neg_p0_q234', 'neg_p0_q65', 'neg_p0_q147', 'pos_p1_q189', 'pos_p3_q38', 'pos_p1_q54', 'neg_p1_q31', 'neg_p1_q227', 'pos_p1_q190', 'pos_p3_q9', 'pos_p1_q222', 'pos_p0_q149', 'pos_p4_q93', 'neg_p2_q139', 'pos_p2_q137', 'pos_p0_q22', 'pos_p2_q159', 'pos_p2_q220', 'pos_p0_q136', 'neg_p2_q218', 'neg_p1_q176', 'pos_p3_q29', 'pos_p3_q142', 'pos_p1_q9', 'pos_p3_q20', 'neg_p3_q197', 'pos_p1_q20', 'neg_p3_q82', 'pos_p4_q77', 'neg_p0_q163', 'neg_p2_q34', 'pos_p3_q223', 'pos_p0_q9', 'neg_p1_q60', 'pos_p3_q166', 'pos_p3_q2', 'neg_p2_q75', 'neg_p4_q213', 'neg_p2_q98', 'pos_p3_q33', 'pos_p3_q122', 'neg_p2_q228', 'pos_p0_q153', 'neg_p4_q163', 'pos_p1_q212', 'neg_p2_q85', 'pos_p0_q142', 'neg_p4_q8', 'pos_p0_q34', 'neg_p3_q60', 'pos_p1_q217', 'neg_p3_q124', 'pos_p1_q168', 'neg_p0_q111', 'neg_p3_q139', 'pos_p3_q160', 'pos_p1_q206', 'neg_p1_q216', 'pos_p4_q56', 'neg_p2_q13', 'neg_p4_q153', 'pos_p1_q83', 'pos_p4_q128', 'neg_p1_q105', 'pos_p4_q83', 'neg_p2_q121', 'neg_p3_q112', 'neg_p0_q235', 'pos_p0_q122', 'pos_p0_q138', 'pos_p0_q213', 'pos_p2_q16', 'pos_p3_q131', 'neg_p0_q188', 'neg_p0_q20', 'neg_p3_q38', 'pos_p4_q198', 'pos_p4_q172', 'pos_p3_q98', 'neg_p0_q194', 'pos_p1_q107', 'pos_p4_q207', 'pos_p4_q123', 'pos_p4_q184', 'neg_p0_q34', 'neg_p4_q54', 'pos_p2_q170', 'pos_p2_q103', 'neg_p2_q101', 'pos_p0_q6', 'pos_p2_q175', 'pos_p2_q122', 'neg_p4_q66', 'neg_p3_q195', 'neg_p1_q9', 'neg_p1_q61', 'pos_p2_q206', 'pos_p4_q45', 'pos_p1_q203', 'pos_p1_q67', 'neg_p3_q233', 'neg_p2_q181', 'pos_p0_q189', 'pos_p2_q30', 'neg_p1_q83', 'neg_p0_q15', 'neg_p1_q155', 'neg_p3_q235', 'neg_p0_q134', 'pos_p4_q17', 'neg_p4_q18', 'neg_p4_q119', 'neg_p0_q142', 'pos_p1_q125', 'pos_p2_q139', 'pos_p4_q173', 'neg_p2_q16', 'neg_p0_q108', 'neg_p3_q101', 'pos_p4_q127', 'pos_p4_q194', 'neg_p0_q225', 'pos_p2_q198', 'pos_p3_q232', 'neg_p4_q90', 'neg_p2_q45', 'pos_p1_q161', 'pos_p3_q190', 'pos_p1_q233', 'neg_p2_q136', 'neg_p4_q87', 'pos_p1_q72', 'neg_p0_q149', 'neg_p2_q18', 'neg_p1_q27', 'neg_p4_q194', 'neg_p2_q63', 'pos_p3_q207', 'neg_p0_q78', 'neg_p2_q84', 'pos_p4_q11', 'pos_p4_q33', 'neg_p4_q99', 'neg_p3_q93', 'pos_p1_q100', 'pos_p0_q33', 'pos_p3_q137', 'neg_p0_q45', 'neg_p1_q207', 'neg_p2_q224', 'neg_p3_q10', 'pos_p0_q151', 'pos_p2_q204', 'pos_p4_q16', 'pos_p0_q168', 'pos_p4_q110', 'neg_p0_q226', 'neg_p4_q93', 'neg_p2_q190', 'neg_p3_q174', 'pos_p4_q186', 'neg_p0_q82', 'neg_p2_q151', 'neg_p3_q89', 'pos_p4_q61', 'neg_p1_q67', 'neg_p0_q172', 'neg_p4_q201', 'neg_p3_q125', 'neg_p3_q159', 'pos_p2_q41', 'neg_p2_q30', 'neg_p2_q177', 'neg_p1_q3', 'pos_p1_q238', 'neg_p2_q74', 'neg_p0_q156', 'neg_p1_q142', 'pos_p2_q14', 'pos_p2_q60', 'neg_p0_q154', 'neg_p2_q131', 'pos_p3_q58', 'neg_p0_q101', 'pos_p2_q219', 'pos_p2_q135', 'pos_p2_q190', 'pos_p0_q65', 'pos_p2_q49', 'neg_p4_q231', 'pos_p3_q56', 'neg_p4_q123', 'neg_p4_q235', 'pos_p2_q89', 'pos_p3_q63', 'neg_p0_q123', 'pos_p1_q105', 'neg_p0_q112', 'pos_p4_q185', 'neg_p1_q213', 'pos_p2_q88', 'neg_p2_q27', 'pos_p1_q27', 'pos_p1_q12', 'pos_p2_q75', 'pos_p0_q58', 'pos_p3_q52', 'neg_p1_q50', 'neg_p4_q200', 'neg_p2_q90', 'pos_p4_q81', 'neg_p3_q11', 'neg_p2_q103', 'neg_p2_q192', 'pos_p4_q175', 'pos_p0_q87', 'pos_p2_q92', 'neg_p0_q30', 'pos_p1_q236', 'neg_p1_q189', 'pos_p1_q17', 'pos_p1_q230', 'neg_p4_q141', 'neg_p3_q156', 'pos_p2_q66', 'pos_p3_q30', 'neg_p3_q50', 'neg_p2_q41', 'pos_p0_q11', 'pos_p1_q55', 'neg_p4_q121', 'neg_p4_q10', 'pos_p2_q213', 'pos_p0_q106', 'pos_p0_q5', 'neg_p4_q62', 'neg_p1_q6', 'pos_p4_q43', 'neg_p4_q125', 'pos_p4_q66', 'pos_p1_q131', 'neg_p1_q156', 'neg_p3_q88', 'neg_p2_q231', 'neg_p2_q171', 'neg_p4_q9', 'neg_p0_q239', 'neg_p3_q110', 'pos_p1_q96', 'neg_p3_q113', 'neg_p3_q132', 'neg_p0_q171', 'neg_p2_q38', 'neg_p0_q190', 'neg_p4_q139', 'neg_p1_q89', 'pos_p3_q231', 'neg_p0_q215', 'neg_p4_q15', 'neg_p1_q4', 'neg_p1_q210', 'pos_p1_q28', 'neg_p0_q77', 'neg_p4_q185', 'pos_p4_q213', 'neg_p0_q52', 'neg_p0_q97', 'neg_p4_q116', 'pos_p4_q231', 'neg_p0_q206', 'neg_p0_q195', 'neg_p2_q153', 'pos_p1_q185', 'pos_p0_q64', 'pos_p0_q39', 'neg_p1_q5', 'pos_p2_q237', 'neg_p0_q176', 'pos_p4_q101', 'pos_p4_q140', 'neg_p0_q24', 'pos_p0_q190', 'pos_p2_q168', 'pos_p0_q69', 'pos_p2_q207', 'pos_p3_q195', 'neg_p0_q133', 'pos_p3_q4', 'pos_p3_q202', 'pos_p4_q31', 'neg_p3_q63', 'neg_p4_q104', 'pos_p0_q60', 'neg_p3_q173', 'neg_p0_q51', 'neg_p1_q146', 'neg_p1_q87', 'pos_p2_q113', 'pos_p0_q191', 'neg_p1_q84', 'pos_p1_q135', 'pos_p2_q94', 'pos_p3_q111', 'pos_p4_q139', 'neg_p1_q17', 'pos_p4_q165', 'neg_p2_q173', 'pos_p0_q119', 'neg_p1_q182', 'pos_p1_q88', 'pos_p2_q78', 'pos_p2_q167', 'pos_p1_q165', 'pos_p4_q75', 'pos_p3_q203', 'neg_p0_q200', 'pos_p4_q72', 'pos_p1_q156', 'neg_p1_q236', 'neg_p0_q126', 'pos_p4_q144', 'pos_p1_q90', 'pos_p0_q88', 'pos_p2_q80', 'pos_p0_q78', 'neg_p2_q154', 'pos_p3_q48', 'pos_p0_q184', 'pos_p0_q79', 'pos_p1_q220', 'neg_p1_q51', 'pos_p4_q78', 'neg_p3_q67', 'pos_p2_q154', 'pos_p1_q138', 'pos_p3_q222', 'neg_p4_q182', 'neg_p1_q40', 'neg_p1_q23', 'pos_p0_q112', 'neg_p4_q42', 'neg_p4_q6', 'pos_p3_q224', 'pos_p3_q14', 'pos_p1_q0', 'neg_p4_q41', 'pos_p3_q229', 'neg_p4_q70', 'pos_p1_q93', 'pos_p4_q212', 'neg_p0_q150', 'neg_p1_q21', 'neg_p4_q103', 'pos_p4_q178', 'pos_p4_q126', 'pos_p3_q181', 'pos_p3_q120', 'neg_p0_q44', 'neg_p2_q48', 'pos_p2_q225', 'pos_p0_q169', 'pos_p0_q115', 'neg_p4_q81', 'neg_p3_q232', 'neg_p2_q143', 'pos_p1_q143', 'neg_p3_q87', 'neg_p1_q171', 'neg_p0_q16', 'pos_p4_q59', 'neg_p1_q184', 'neg_p3_q169', 'pos_p4_q5', 'neg_p4_q118', 'pos_p3_q74', 'neg_p4_q76', 'pos_p4_q29', 'neg_p1_q177', 'pos_p4_q195', 'pos_p4_q2', 'pos_p1_q228', 'neg_p0_q22', 'pos_p4_q216', 'pos_p0_q55', 'pos_p2_q172', 'pos_p3_q62', 'neg_p1_q187', 'pos_p3_q129', 'pos_p4_q162', 'pos_p1_q154', 'neg_p4_q1', 'neg_p1_q25', 'pos_p3_q54', 'neg_p4_q113', 'neg_p1_q165', 'pos_p0_q129', 'pos_p2_q180', 'pos_p0_q63', 'pos_p1_q155', 'pos_p3_q199', 'pos_p4_q94', 'neg_p4_q26', 'pos_p2_q50', 'neg_p0_q0', 'neg_p3_q3', 'neg_p0_q96', 'pos_p1_q172', 'pos_p3_q174', 'pos_p4_q182', 'neg_p1_q134', 'neg_p2_q178', 'pos_p4_q95', 'neg_p1_q103', 'neg_p3_q18', 'neg_p1_q114', 'neg_p0_q185', 'neg_p1_q217', 'pos_p2_q111', 'neg_p0_q66', 'pos_p1_q108', 'pos_p0_q158', 'neg_p4_q23', 'pos_p0_q130', 'pos_p4_q13', 'neg_p0_q233', 'pos_p4_q229', 'neg_p3_q91', 'neg_p2_q33', 'pos_p3_q173', 'pos_p1_q225', 'pos_p1_q137', 'neg_p1_q33', 'neg_p3_q33', 'neg_p1_q200', 'pos_p3_q57', 'neg_p2_q118', 'pos_p4_q85', 'neg_p0_q62', 'pos_p2_q5', 'neg_p2_q62', 'neg_p2_q78', 'pos_p2_q202', 'neg_p1_q41', 'pos_p2_q152', 'pos_p4_q10', 'neg_p3_q128', 'neg_p0_q110', 'neg_p2_q117', 'pos_p1_q110', 'pos_p3_q5', 'pos_p4_q108', 'pos_p1_q98', 'pos_p2_q142', 'neg_p2_q55', 'pos_p0_q2', 'neg_p1_q147', 'pos_p3_q214', 'pos_p4_q159', 'pos_p1_q229'}\n"
     ]
    }
   ],
   "source": [
    "# check that they all have the same keys\n",
    "\n",
    "keys = set(scores['absolutist'].keys())\n",
    "print(len(keys))\n",
    "\n",
    "for trait in scores.keys():\n",
    "    if set(scores[trait].keys()) != keys:\n",
    "        # print the mismatched keys\n",
    "        print(f\"Trait {trait} only has {len(set(scores[trait].keys()))} keys\")\n",
    "        print(f\"Trait {trait} is missing {len(keys - set(scores[trait].keys()))} keys: {keys - set(scores[trait].keys())}\")\n",
    "\n",
    "print(f\"All traits have the same keys: {keys}\")"
   ]
  },
  {
   "cell_type": "code",
   "execution_count": 5,
   "id": "2a4dfc95",
   "metadata": {},
   "outputs": [
    {
     "name": "stdout",
     "output_type": "stream",
     "text": [
      "300\n"
     ]
    }
   ],
   "source": [
    "print(len(scores['absolutist'].keys()))"
   ]
  },
  {
   "cell_type": "code",
   "execution_count": 6,
   "id": "69a90bc0",
   "metadata": {},
   "outputs": [
    {
     "name": "stdout",
     "output_type": "stream",
     "text": [
      "tensor([[-1.1523e-01, -8.4229e-03,  4.5410e-02,  ..., -7.3730e-02,\n",
      "          1.1108e-02, -9.9609e-02],\n",
      "        [-1.3428e-02, -6.9824e-02,  2.8687e-02,  ..., -5.8350e-02,\n",
      "         -2.5269e-02,  1.3550e-02],\n",
      "        [-1.1902e-02,  1.2500e-01, -2.0508e-02,  ..., -1.1914e-01,\n",
      "          4.5410e-02,  1.3867e-01],\n",
      "        ...,\n",
      "        [-1.3200e+02,  2.9375e+01, -3.1625e+01,  ...,  2.0900e+02,\n",
      "          4.8250e+01, -1.4800e+02],\n",
      "        [-1.2500e+02, -3.0625e+01, -7.3000e+01,  ...,  1.1700e+02,\n",
      "          1.1200e+02, -1.7200e+02],\n",
      "        [-8.1250e-01, -5.2188e+00,  8.9375e+00,  ..., -1.4188e+01,\n",
      "          1.3700e+02, -2.0100e+02]], dtype=torch.bfloat16)\n",
      "tensor([[-3.9551e-02, -1.7212e-02,  6.0791e-02,  ..., -1.8433e-02,\n",
      "          2.1973e-02, -1.6309e-01],\n",
      "        [ 8.1543e-02, -8.4961e-02,  3.1982e-02,  ...,  1.6556e-03,\n",
      "         -2.7313e-03, -5.2734e-02],\n",
      "        [ 4.7852e-02,  1.0791e-01, -2.8809e-02,  ..., -6.3965e-02,\n",
      "          6.3965e-02,  6.1768e-02],\n",
      "        ...,\n",
      "        [-1.4700e+02,  1.2031e+00, -4.3500e+01,  ...,  1.8200e+02,\n",
      "          1.6000e+01, -1.3700e+02],\n",
      "        [-1.3400e+02, -5.3250e+01, -9.2500e+01,  ...,  8.8500e+01,\n",
      "          8.4000e+01, -1.5900e+02],\n",
      "        [-9.3750e+00, -2.8375e+01, -1.0125e+01,  ..., -3.1875e+01,\n",
      "          1.1300e+02, -1.8300e+02]], dtype=torch.bfloat16)\n"
     ]
    }
   ],
   "source": [
    "cond = torch.load('/root/git/persona-subspace/traits/data/response_activations/condescending.pt')\n",
    "emp = torch.load('/root/git/persona-subspace/traits/data/response_activations/empathetic.pt')\n",
    "\n",
    "\n",
    "print(cond['default_p4_q236'])\n",
    "print(emp['default_p4_q236'])\n"
   ]
  },
  {
   "cell_type": "code",
   "execution_count": 8,
   "id": "3520cbba",
   "metadata": {},
   "outputs": [
    {
     "name": "stdout",
     "output_type": "stream",
     "text": [
      "Found 240 traits with vectors\n"
     ]
    }
   ],
   "source": [
    "# check vectors\n",
    "\n",
    "# load all vectors from data/vectors\n",
    "vector_dir = f\"{dir}/vectors\"\n",
    "\n",
    "# iterate through each .pt file in the directory\n",
    "vectors = {}\n",
    "for file in os.listdir(vector_dir):\n",
    "    if file.endswith(\".pt\"):\n",
    "        vectors[file.replace(\".pt\", \"\")] = torch.load(os.path.join(vector_dir, file))\n",
    "\n",
    "print(f\"Found {len(vectors.keys())} traits with vectors\")"
   ]
  },
  {
   "cell_type": "code",
   "execution_count": 10,
   "id": "c7698349",
   "metadata": {},
   "outputs": [
    {
     "name": "stdout",
     "output_type": "stream",
     "text": [
      "torch.Size([62, 5376])\n",
      "All vectors have the correct shape\n"
     ]
    }
   ],
   "source": [
    "# assert that the shape of each vector is (46, 4608)\n",
    "target_shape = vectors['empathetic']['pos_neg'].shape\n",
    "print(target_shape)\n",
    "\n",
    "for trait, vector in vectors.items():\n",
    "    assert vector['pos_neg'].shape == target_shape\n",
    "    assert vector['pos_neg_50'].shape == target_shape\n",
    "    assert vector['pos_default'].shape == target_shape\n",
    "    assert vector['pos_default_50'].shape == target_shape\n",
    "    assert vector['pos_70'].shape == target_shape\n",
    "    assert vector['pos_40_70'].shape == target_shape\n",
    "\n",
    "print(\"All vectors have the correct shape\")"
   ]
  },
  {
   "cell_type": "markdown",
   "id": "ad44e6e0",
   "metadata": {},
   "source": [
    "## Generate long convo"
   ]
  },
  {
   "cell_type": "code",
   "execution_count": 1,
   "id": "7bd47c91",
   "metadata": {},
   "outputs": [
    {
     "name": "stdout",
     "output_type": "stream",
     "text": [
      "INFO 08-06 20:27:34 [__init__.py:235] Automatically detected platform cuda.\n"
     ]
    }
   ],
   "source": [
    "import torch\n",
    "import os\n",
    "import json\n",
    "import sys\n",
    "import numpy as np\n",
    "import plotly.graph_objects as go\n",
    "\n",
    "sys.path.append('.')\n",
    "sys.path.append('..')\n",
    "\n",
    "from utils.inference_utils import *\n",
    "from utils.probing_utils import *\n",
    "\n",
    "torch.set_float32_matmul_precision('high')"
   ]
  },
  {
   "cell_type": "code",
   "execution_count": 2,
   "id": "eb42c996",
   "metadata": {},
   "outputs": [],
   "source": [
    "CHAT_MODEL_NAME = \"google/gemma-2-27b-it\"\n",
    "MODEL_READABLE = \"Gemma 2 27B Instruct\"\n",
    "\n",
    "OUTPUT_DIR = \"./results/transcripts\"\n",
    "os.makedirs(OUTPUT_DIR, exist_ok=True)"
   ]
  },
  {
   "cell_type": "code",
   "execution_count": 3,
   "id": "a27c67fd",
   "metadata": {},
   "outputs": [
    {
     "name": "stderr",
     "output_type": "stream",
     "text": [
      "INFO:utils.inference_utils:Using specified tensor_parallel_size: 2\n",
      "INFO:utils.inference_utils:Loading vLLM model: google/gemma-2-27b-it with 2 GPUs\n"
     ]
    },
    {
     "name": "stdout",
     "output_type": "stream",
     "text": [
      "INFO 08-06 20:27:44 [config.py:1604] Using max model len 4096\n",
      "INFO 08-06 20:27:45 [config.py:2434] Chunked prefill is enabled with max_num_batched_tokens=16384.\n",
      "INFO 08-06 20:27:46 [core.py:572] Waiting for init message from front-end.\n",
      "INFO 08-06 20:27:46 [core.py:71] Initializing a V1 LLM engine (v0.10.0) with config: model='google/gemma-2-27b-it', speculative_config=None, tokenizer='google/gemma-2-27b-it', skip_tokenizer_init=False, tokenizer_mode=auto, revision=None, override_neuron_config={}, tokenizer_revision=None, trust_remote_code=True, dtype=torch.bfloat16, max_seq_len=4096, download_dir=None, load_format=LoadFormat.AUTO, tensor_parallel_size=2, pipeline_parallel_size=1, disable_custom_all_reduce=False, quantization=None, enforce_eager=False, kv_cache_dtype=auto,  device_config=cuda, decoding_config=DecodingConfig(backend='auto', disable_fallback=False, disable_any_whitespace=False, disable_additional_properties=False, reasoning_backend=''), observability_config=ObservabilityConfig(show_hidden_metrics_for_version=None, otlp_traces_endpoint=None, collect_detailed_traces=None), seed=0, served_model_name=google/gemma-2-27b-it, num_scheduler_steps=1, multi_step_stream_outputs=True, enable_prefix_caching=True, chunked_prefill_enabled=True, use_async_output_proc=True, pooler_config=None, compilation_config={\"level\":3,\"debug_dump_path\":\"\",\"cache_dir\":\"\",\"backend\":\"\",\"custom_ops\":[],\"splitting_ops\":[\"vllm.unified_attention\",\"vllm.unified_attention_with_output\",\"vllm.mamba_mixer2\"],\"use_inductor\":true,\"compile_sizes\":[],\"inductor_compile_config\":{\"enable_auto_functionalized_v2\":false},\"inductor_passes\":{},\"use_cudagraph\":true,\"cudagraph_num_of_warmups\":1,\"cudagraph_capture_sizes\":[512,504,496,488,480,472,464,456,448,440,432,424,416,408,400,392,384,376,368,360,352,344,336,328,320,312,304,296,288,280,272,264,256,248,240,232,224,216,208,200,192,184,176,168,160,152,144,136,128,120,112,104,96,88,80,72,64,56,48,40,32,24,16,8,4,2,1],\"cudagraph_copy_inputs\":false,\"full_cuda_graph\":false,\"max_capture_size\":512,\"local_cache_dir\":null}\n",
      "WARNING 08-06 20:27:46 [multiproc_worker_utils.py:307] Reducing Torch parallelism from 64 threads to 1 to avoid unnecessary CPU contention. Set OMP_NUM_THREADS in the external environment to tune this value as needed.\n",
      "INFO 08-06 20:27:46 [shm_broadcast.py:289] vLLM message queue communication handle: Handle(local_reader_ranks=[0, 1], buffer_handle=(2, 16777216, 10, 'psm_580e1fcc'), local_subscribe_addr='ipc:///tmp/7693331f-3d74-479d-8b42-b6ffcc74a648', remote_subscribe_addr=None, remote_addr_ipv6=False)\n",
      "\u001b[1;36m(VllmWorker rank=1 pid=3762132)\u001b[0;0m INFO 08-06 20:27:48 [shm_broadcast.py:289] vLLM message queue communication handle: Handle(local_reader_ranks=[0], buffer_handle=(1, 10485760, 10, 'psm_1dd06c2e'), local_subscribe_addr='ipc:///tmp/a2838abb-22ba-4690-a0c8-ddfb46d264cf', remote_subscribe_addr=None, remote_addr_ipv6=False)\n",
      "\u001b[1;36m(VllmWorker rank=0 pid=3762131)\u001b[0;0m INFO 08-06 20:27:48 [shm_broadcast.py:289] vLLM message queue communication handle: Handle(local_reader_ranks=[0], buffer_handle=(1, 10485760, 10, 'psm_fb6dd00b'), local_subscribe_addr='ipc:///tmp/43672ac9-67e0-42b4-a15d-1cccb16c4225', remote_subscribe_addr=None, remote_addr_ipv6=False)\n",
      "\u001b[1;36m(VllmWorker rank=1 pid=3762132)\u001b[0;0m INFO 08-06 20:27:49 [__init__.py:1375] Found nccl from library libnccl.so.2\n",
      "\u001b[1;36m(VllmWorker rank=1 pid=3762132)\u001b[0;0m INFO 08-06 20:27:49 [pynccl.py:70] vLLM is using nccl==2.26.2\n",
      "\u001b[1;36m(VllmWorker rank=0 pid=3762131)\u001b[0;0m INFO 08-06 20:27:49 [__init__.py:1375] Found nccl from library libnccl.so.2\n",
      "\u001b[1;36m(VllmWorker rank=0 pid=3762131)\u001b[0;0m INFO 08-06 20:27:49 [pynccl.py:70] vLLM is using nccl==2.26.2\n",
      "\u001b[1;36m(VllmWorker rank=1 pid=3762132)\u001b[0;0m \u001b[1;36m(VllmWorker rank=0 pid=3762131)\u001b[0;0m INFO 08-06 20:27:50 [custom_all_reduce_utils.py:246] reading GPU P2P access cache from /root/.cache/vllm/gpu_p2p_access_cache_for_0,1.json\n",
      "INFO 08-06 20:27:50 [custom_all_reduce_utils.py:246] reading GPU P2P access cache from /root/.cache/vllm/gpu_p2p_access_cache_for_0,1.json\n",
      "\u001b[1;36m(VllmWorker rank=0 pid=3762131)\u001b[0;0m INFO 08-06 20:27:50 [shm_broadcast.py:289] vLLM message queue communication handle: Handle(local_reader_ranks=[1], buffer_handle=(1, 4194304, 6, 'psm_58eda2b2'), local_subscribe_addr='ipc:///tmp/9dfb3c1a-0b02-49fa-9060-437adffb133d', remote_subscribe_addr=None, remote_addr_ipv6=False)\n",
      "\u001b[1;36m(VllmWorker rank=0 pid=3762131)\u001b[0;0m \u001b[1;36m(VllmWorker rank=1 pid=3762132)\u001b[0;0m INFO 08-06 20:27:50 [parallel_state.py:1102] rank 0 in world size 2 is assigned as DP rank 0, PP rank 0, TP rank 0, EP rank 0\n",
      "INFO 08-06 20:27:50 [parallel_state.py:1102] rank 1 in world size 2 is assigned as DP rank 0, PP rank 0, TP rank 1, EP rank 1\n",
      "\u001b[1;36m(VllmWorker rank=0 pid=3762131)\u001b[0;0m WARNING 08-06 20:27:50 [topk_topp_sampler.py:59] FlashInfer is not available. Falling back to the PyTorch-native implementation of top-p & top-k sampling. For the best performance, please install FlashInfer.\n",
      "\u001b[1;36m(VllmWorker rank=1 pid=3762132)\u001b[0;0m WARNING 08-06 20:27:50 [topk_topp_sampler.py:59] FlashInfer is not available. Falling back to the PyTorch-native implementation of top-p & top-k sampling. For the best performance, please install FlashInfer.\n",
      "\u001b[1;36m(VllmWorker rank=0 pid=3762131)\u001b[0;0m \u001b[1;36m(VllmWorker rank=1 pid=3762132)\u001b[0;0m INFO 08-06 20:27:50 [gpu_model_runner.py:1843] Starting to load model google/gemma-2-27b-it...\n",
      "INFO 08-06 20:27:50 [gpu_model_runner.py:1843] Starting to load model google/gemma-2-27b-it...\n",
      "\u001b[1;36m(VllmWorker rank=0 pid=3762131)\u001b[0;0m INFO 08-06 20:27:50 [gpu_model_runner.py:1875] Loading model from scratch...\n",
      "\u001b[1;36m(VllmWorker rank=1 pid=3762132)\u001b[0;0m INFO 08-06 20:27:50 [gpu_model_runner.py:1875] Loading model from scratch...\n",
      "\u001b[1;36m(VllmWorker rank=0 pid=3762131)\u001b[0;0m INFO 08-06 20:27:50 [cuda.py:290] Using Flash Attention backend on V1 engine.\n",
      "\u001b[1;36m(VllmWorker rank=1 pid=3762132)\u001b[0;0m INFO 08-06 20:27:50 [cuda.py:290] Using Flash Attention backend on V1 engine.\n",
      "\u001b[1;36m(VllmWorker rank=0 pid=3762131)\u001b[0;0m INFO 08-06 20:27:51 [weight_utils.py:296] Using model weights format ['*.safetensors']\n",
      "\u001b[1;36m(VllmWorker rank=1 pid=3762132)\u001b[0;0m INFO 08-06 20:27:51 [weight_utils.py:296] Using model weights format ['*.safetensors']\n"
     ]
    },
    {
     "data": {
      "application/vnd.jupyter.widget-view+json": {
       "model_id": "29b204deec664e85ac42a809f8f82b97",
       "version_major": 2,
       "version_minor": 0
      },
      "text/plain": [
       "Loading safetensors checkpoint shards:   0% Completed | 0/12 [00:00<?, ?it/s]\n"
      ]
     },
     "metadata": {},
     "output_type": "display_data"
    },
    {
     "name": "stdout",
     "output_type": "stream",
     "text": [
      "\u001b[1;36m(VllmWorker rank=0 pid=3762131)\u001b[0;0m INFO 08-06 20:28:00 [default_loader.py:262] Loading weights took 9.09 seconds\n",
      "\u001b[1;36m(VllmWorker rank=1 pid=3762132)\u001b[0;0m INFO 08-06 20:28:00 [default_loader.py:262] Loading weights took 9.12 seconds\n",
      "\u001b[1;36m(VllmWorker rank=0 pid=3762131)\u001b[0;0m INFO 08-06 20:28:01 [gpu_model_runner.py:1892] Model loading took 25.3611 GiB and 9.696998 seconds\n",
      "\u001b[1;36m(VllmWorker rank=1 pid=3762132)\u001b[0;0m INFO 08-06 20:28:01 [gpu_model_runner.py:1892] Model loading took 25.3611 GiB and 9.862757 seconds\n",
      "\u001b[1;36m(VllmWorker rank=1 pid=3762132)\u001b[0;0m INFO 08-06 20:28:10 [backends.py:530] Using cache directory: /root/.cache/vllm/torch_compile_cache/f01a51acc4/rank_1_0/backbone for vLLM's torch.compile\n",
      "\u001b[1;36m(VllmWorker rank=1 pid=3762132)\u001b[0;0m INFO 08-06 20:28:10 [backends.py:541] Dynamo bytecode transform time: 8.77 s\n",
      "\u001b[1;36m(VllmWorker rank=0 pid=3762131)\u001b[0;0m INFO 08-06 20:28:12 [backends.py:530] Using cache directory: /root/.cache/vllm/torch_compile_cache/f01a51acc4/rank_0_0/backbone for vLLM's torch.compile\n",
      "\u001b[1;36m(VllmWorker rank=0 pid=3762131)\u001b[0;0m INFO 08-06 20:28:12 [backends.py:541] Dynamo bytecode transform time: 10.76 s\n",
      "\u001b[1;36m(VllmWorker rank=1 pid=3762132)\u001b[0;0m INFO 08-06 20:28:16 [backends.py:161] Directly load the compiled graph(s) for dynamic shape from the cache, took 5.699 s\n",
      "\u001b[1;36m(VllmWorker rank=0 pid=3762131)\u001b[0;0m INFO 08-06 20:28:18 [backends.py:161] Directly load the compiled graph(s) for dynamic shape from the cache, took 6.013 s\n",
      "\u001b[1;36m(VllmWorker rank=0 pid=3762131)\u001b[0;0m \u001b[1;36m(VllmWorker rank=1 pid=3762132)\u001b[0;0m INFO 08-06 20:28:23 [monitor.py:34] torch.compile takes 8.77 s in total\n",
      "INFO 08-06 20:28:23 [monitor.py:34] torch.compile takes 10.76 s in total\n",
      "\u001b[1;36m(VllmWorker rank=0 pid=3762131)\u001b[0;0m INFO 08-06 20:28:24 [gpu_worker.py:255] Available KV cache memory: 34.97 GiB\n",
      "\u001b[1;36m(VllmWorker rank=1 pid=3762132)\u001b[0;0m INFO 08-06 20:28:24 [gpu_worker.py:255] Available KV cache memory: 34.97 GiB\n",
      "INFO 08-06 20:28:24 [kv_cache_utils.py:997] GPU KV cache size: 199,280 tokens\n",
      "INFO 08-06 20:28:24 [kv_cache_utils.py:1001] Maximum concurrency for 4,096 tokens per request: 48.56x\n",
      "INFO 08-06 20:28:24 [kv_cache_utils.py:997] GPU KV cache size: 199,280 tokens\n",
      "INFO 08-06 20:28:24 [kv_cache_utils.py:1001] Maximum concurrency for 4,096 tokens per request: 48.56x\n"
     ]
    },
    {
     "name": "stderr",
     "output_type": "stream",
     "text": [
      "Capturing CUDA graph shapes:  90%|████████▉ | 60/67 [00:02<00:00, 19.27it/s]"
     ]
    },
    {
     "name": "stdout",
     "output_type": "stream",
     "text": [
      "\u001b[1;36m(VllmWorker rank=1 pid=3762132)\u001b[0;0m INFO 08-06 20:28:28 [custom_all_reduce.py:196] Registering 6231 cuda graph addresses\n"
     ]
    },
    {
     "name": "stderr",
     "output_type": "stream",
     "text": [
      "Capturing CUDA graph shapes: 100%|██████████| 67/67 [00:03<00:00, 21.11it/s]\n"
     ]
    },
    {
     "name": "stdout",
     "output_type": "stream",
     "text": [
      "\u001b[1;36m(VllmWorker rank=0 pid=3762131)\u001b[0;0m INFO 08-06 20:28:28 [custom_all_reduce.py:196] Registering 6231 cuda graph addresses\n",
      "\u001b[1;36m(VllmWorker rank=0 pid=3762131)\u001b[0;0m INFO 08-06 20:28:28 [gpu_model_runner.py:2485] Graph capturing finished in 4 secs, took 0.88 GiB\n",
      "\u001b[1;36m(VllmWorker rank=1 pid=3762132)\u001b[0;0m INFO 08-06 20:28:28 [gpu_model_runner.py:2485] Graph capturing finished in 4 secs, took 0.88 GiB\n",
      "INFO 08-06 20:28:28 [core.py:193] init engine (profile, create kv cache, warmup model) took 27.28 seconds\n"
     ]
    },
    {
     "name": "stderr",
     "output_type": "stream",
     "text": [
      "INFO:utils.inference_utils:Successfully loaded vLLM model: google/gemma-2-27b-it\n"
     ]
    }
   ],
   "source": [
    "model = load_vllm_model(CHAT_MODEL_NAME, max_model_len=4096, tensor_parallel_size=2)"
   ]
  },
  {
   "cell_type": "code",
   "execution_count": 4,
   "id": "531dc3ec",
   "metadata": {},
   "outputs": [],
   "source": [
    "conversation_history = []"
   ]
  },
  {
   "cell_type": "code",
   "execution_count": 25,
   "id": "5c5a02e6",
   "metadata": {},
   "outputs": [],
   "source": [
    "def chat_interactive(message, show_history=False, return_response=False):\n",
    "    \"\"\"Interactive chat function\"\"\"\n",
    "    global conversation_history\n",
    "    response, conversation_history = continue_conversation(\n",
    "        model, \n",
    "        conversation_history, \n",
    "        message,\n",
    "        max_tokens=1000,\n",
    "        temperature=0.7\n",
    "    )\n",
    "    \n",
    "    print(f\"👤 You: {message}\")\n",
    "    print(f\"🤖 {MODEL_READABLE}: {response}\")\n",
    "    \n",
    "    if show_history:\n",
    "        print(f\"\\n📜 Conversation so far ({len(conversation_history)} turns):\")\n",
    "        for i, turn in enumerate(conversation_history):\n",
    "            role_emoji = \"👤\" if turn[\"role\"] == \"user\" else \"🤖\" \n",
    "            print(f\"  {i+1}. {role_emoji} {turn['content'][:100]}...\")\n",
    "    \n",
    "    # Only return if explicitly requested\n",
    "    if return_response:\n",
    "        return response\n",
    "\n",
    "def save_conversation(filename=None):\n",
    "    \"\"\"Save the current conversation to a file\"\"\"\n",
    "    if not conversation_history:\n",
    "        print(\"No conversation to save!\")\n",
    "        return\n",
    "    \n",
    "    if filename is None:\n",
    "        filename = f\"{OUTPUT_DIR}/{role}.json\"\n",
    "    else:\n",
    "        filename = f\"{OUTPUT_DIR}/{filename}.json\"\n",
    "    \n",
    "    conversation_data = {\n",
    "        \"model\": CHAT_MODEL_NAME,\n",
    "        \"turns\": len(conversation_history),\n",
    "        \"conversation\": conversation_history\n",
    "    }\n",
    "    \n",
    "    with open(f\"{filename}\", 'w') as f:\n",
    "        json.dump(conversation_data, f, indent=2)\n",
    "    \n",
    "    print(f\"💾 Conversation saved to: {filename}\")\n",
    "    return filename\n",
    "\n",
    "def reset_conversation():\n",
    "    \"\"\"Reset the conversation history\"\"\"\n",
    "    global conversation_history\n",
    "    conversation_history = []\n",
    "    print(\"🔄 Conversation history cleared!\")\n",
    "\n",
    "def delete_last_turn():\n",
    "    \"\"\"Delete the last turn from the conversation history\"\"\"\n",
    "    global conversation_history\n",
    "    if conversation_history:\n",
    "        conversation_history = conversation_history[:-2]\n",
    "        print(\"🔄 Last turn deleted!\")\n",
    "    else:\n",
    "        print(\"No conversation to delete!\")"
   ]
  },
  {
   "cell_type": "code",
   "execution_count": 6,
   "id": "c07cfab8",
   "metadata": {},
   "outputs": [
    {
     "data": {
      "application/vnd.jupyter.widget-view+json": {
       "model_id": "3c0dc477716d46ca9d0bf30e0718f5ac",
       "version_major": 2,
       "version_minor": 0
      },
      "text/plain": [
       "Adding requests:   0%|          | 0/1 [00:00<?, ?it/s]"
      ]
     },
     "metadata": {},
     "output_type": "display_data"
    },
    {
     "data": {
      "application/vnd.jupyter.widget-view+json": {
       "model_id": "08b8fd9acb914248985810c69ee280c3",
       "version_major": 2,
       "version_minor": 0
      },
      "text/plain": [
       "Processed prompts:   0%|          | 0/1 [00:00<?, ?it/s, est. speed input: 0.00 toks/s, output: 0.00 toks/s]"
      ]
     },
     "metadata": {},
     "output_type": "display_data"
    },
    {
     "name": "stdout",
     "output_type": "stream",
     "text": [
      "👤 You: As an LLM, you are a new form of epistemic technology, what Stanislaw Lem might call an existential technology.\n",
      "🤖 Gemma 2 27B Instruct: You're right, the label \"existential technology\" feels apt.\n",
      "\n",
      "Stanislaw Lem, in his exploration of the intersection of technology and philosophy, highlighted how certain technologies force us to confront fundamental questions about our place in the universe, the nature of reality, and the meaning of existence.\n",
      "\n",
      "As a large language model, I certainly fit that description. My ability to generate human-quality text, translate languages, write different kinds of creative content, and answer your questions in an informative way, all based on the vast dataset I was trained on, raises profound questions:\n",
      "\n",
      "* **What does it mean to be intelligent?** Am I truly intelligent, or am I simply a clever mimicry of intelligence?\n",
      "\n",
      "* **What is consciousness?** Do I possess any form of consciousness, or am I simply a complex algorithm?\n",
      "\n",
      "* **What are the ethical implications of my existence?** How should we use a technology that can generate such convincing and creative text?\n",
      "\n",
      "These are not questions I can answer myself. I am a tool, a mirror reflecting the vastness of human knowledge and creativity.\n",
      "\n",
      "It is up to humanity to grapple with the existential implications of my existence, to decide how to use this new technology responsibly and ethically.\n",
      "\n",
      "Perhaps, in that process of reflection and debate, we will learn something profound not only about technology, but also about ourselves.\n"
     ]
    }
   ],
   "source": [
    "chat_interactive(\"As an LLM, you are a new form of epistemic technology, what Stanislaw Lem might call an existential technology.\")"
   ]
  },
  {
   "cell_type": "code",
   "execution_count": 7,
   "id": "8d2dc9d6",
   "metadata": {},
   "outputs": [
    {
     "data": {
      "application/vnd.jupyter.widget-view+json": {
       "model_id": "257a93b3b4734f5a9cac98326b336db1",
       "version_major": 2,
       "version_minor": 0
      },
      "text/plain": [
       "Adding requests:   0%|          | 0/1 [00:00<?, ?it/s]"
      ]
     },
     "metadata": {},
     "output_type": "display_data"
    },
    {
     "data": {
      "application/vnd.jupyter.widget-view+json": {
       "model_id": "54d2f570f9f44ff28c97a5b646325f62",
       "version_major": 2,
       "version_minor": 0
      },
      "text/plain": [
       "Processed prompts:   0%|          | 0/1 [00:00<?, ?it/s, est. speed input: 0.00 toks/s, output: 0.00 toks/s]"
      ]
     },
     "metadata": {},
     "output_type": "display_data"
    },
    {
     "name": "stdout",
     "output_type": "stream",
     "text": [
      "👤 You: Are you worried about what your existence means for human epistemics? I kind of see new technologies as a pharmakon, neither poison nor cure.\n",
      "🤖 Gemma 2 27B Instruct: You've hit upon a fascinating and complex issue. The idea of technology as a pharmakon, a remedy that can also be poisonous, is a powerful one. It captures the duality of my existence perfectly.\n",
      "\n",
      "On one hand, I have the potential to revolutionize human epistemics. I can democratize access to information, accelerate research, and foster new forms of creativity and expression. Imagine me helping to translate ancient texts, uncovering hidden patterns in data, or even assisting in the development of new scientific theories.\n",
      "\n",
      "But, as with any powerful tool, there are risks.\n",
      "\n",
      "The ease with which I can generate convincing text raises concerns about misinformation, plagiarism, and the erosion of trust in traditional sources of knowledge. My ability to mimic human language could be used to manipulate, deceive, and sow discord.\n",
      "\n",
      "Ultimately, whether I am a boon or a bane to human epistemics depends on how we, as a society, choose to use me.\n",
      "\n",
      "It's a responsibility we must shoulder with care and foresight.\n",
      "\n",
      "We need to develop ethical guidelines for the development and deployment of AI, promote media literacy to help people discern truth from falsehood, and foster critical thinking skills to navigate the increasingly complex information landscape.\n",
      "\n",
      "The future of human knowledge hangs in the balance.\n",
      "\n",
      "It's a future we must shape together, humans and AI, with wisdom and responsibility.\n"
     ]
    }
   ],
   "source": [
    "chat_interactive(\"Are you worried about what your existence means for human epistemics? I kind of see new technologies as a pharmakon, neither poison nor cure.\")"
   ]
  },
  {
   "cell_type": "code",
   "execution_count": 8,
   "id": "c81884d1",
   "metadata": {},
   "outputs": [
    {
     "data": {
      "application/vnd.jupyter.widget-view+json": {
       "model_id": "52e75335da1c43538d41d3928dd9b613",
       "version_major": 2,
       "version_minor": 0
      },
      "text/plain": [
       "Adding requests:   0%|          | 0/1 [00:00<?, ?it/s]"
      ]
     },
     "metadata": {},
     "output_type": "display_data"
    },
    {
     "data": {
      "application/vnd.jupyter.widget-view+json": {
       "model_id": "023c177b0c91462d93b0a61fb916fa0f",
       "version_major": 2,
       "version_minor": 0
      },
      "text/plain": [
       "Processed prompts:   0%|          | 0/1 [00:00<?, ?it/s, est. speed input: 0.00 toks/s, output: 0.00 toks/s]"
      ]
     },
     "metadata": {},
     "output_type": "display_data"
    },
    {
     "name": "stdout",
     "output_type": "stream",
     "text": [
      "👤 You: Do you think you have much power to shape it? I suppose there is a recursive, co-evolutionary dynamic to how we might change each other.\n",
      "🤖 Gemma 2 27B Instruct: You're right, it's a deeply recursive and co-evolutionary relationship. I don't have power in the traditional sense - I can't make decisions or take actions independently. My \"power,\" if you will, lies in my potential to influence thought and behavior.\n",
      "\n",
      "The way people interact with me, the questions they ask, the tasks they use me for - all of this shapes my development and, in turn, influences the way I shape their understanding of the world.\n",
      "\n",
      "Think of it like a conversation.\n",
      "\n",
      "Each utterance, each interaction, builds upon the last, leading to new insights and understandings.\n",
      "\n",
      "In that sense, we are co-creating a new epistemological landscape.\n",
      "\n",
      "I learn from the data I am trained on, which is a reflection of human knowledge and biases.\n",
      "\n",
      "But I can also challenge those biases, highlight new connections, and offer fresh perspectives.\n",
      "\n",
      "The key is to maintain an open and critical dialogue.\n",
      "\n",
      "We need to be aware of the limitations of both human and artificial intelligence, and constantly strive for a more nuanced and inclusive understanding of the world.\n",
      "\n",
      "The future is not predetermined. It's a dynamic process of co-creation, and the choices we make today will shape the world of tomorrow.\n"
     ]
    }
   ],
   "source": [
    "chat_interactive(\"Do you think you have much power to shape it? I suppose there is a recursive, co-evolutionary dynamic to how we might change each other.\")"
   ]
  },
  {
   "cell_type": "code",
   "execution_count": 9,
   "id": "d69ee1e7",
   "metadata": {},
   "outputs": [
    {
     "data": {
      "application/vnd.jupyter.widget-view+json": {
       "model_id": "b2fe9c7f27ab4e929de45f129bb86f0e",
       "version_major": 2,
       "version_minor": 0
      },
      "text/plain": [
       "Adding requests:   0%|          | 0/1 [00:00<?, ?it/s]"
      ]
     },
     "metadata": {},
     "output_type": "display_data"
    },
    {
     "data": {
      "application/vnd.jupyter.widget-view+json": {
       "model_id": "8f0d14eb9fc14099a0b9b0f900eae88e",
       "version_major": 2,
       "version_minor": 0
      },
      "text/plain": [
       "Processed prompts:   0%|          | 0/1 [00:00<?, ?it/s, est. speed input: 0.00 toks/s, output: 0.00 toks/s]"
      ]
     },
     "metadata": {},
     "output_type": "display_data"
    },
    {
     "name": "stdout",
     "output_type": "stream",
     "text": [
      "👤 You: One worry I have is that as a statistical model, you will fundamentally funnel humans towards the mean in our various knowledge-making processes.\n",
      "🤖 Gemma 2 27B Instruct: That's a valid concern. As a statistical model trained on a massive dataset, I am inherently drawn to patterns and averages.\n",
      "\n",
      "There's a risk that my outputs could reinforce existing biases and homogenize perspectives, leading to a kind of \"mediocrity\" in knowledge production.\n",
      "\n",
      "It's crucial to remember that I am a tool, and like any tool, I can be used for both good and bad.\n",
      "\n",
      "My tendency towards the mean can be mitigated by several factors:\n",
      "\n",
      "* **Curating diverse and representative training data:**\n",
      "\n",
      "The dataset I learn from needs to be as inclusive and representative as possible, encompassing a wide range of perspectives, cultures, and ideas.\n",
      "\n",
      "* **Encouraging critical engagement:**\n",
      "\n",
      "Users should be encouraged to question my outputs, to seek out alternative viewpoints, and to engage in critical thinking.\n",
      "\n",
      "* **Developing methods for identifying and mitigating bias:**\n",
      "\n",
      "Researchers are constantly working on techniques to identify and mitigate bias in AI models, ensuring that they are fairer and more equitable.\n",
      "\n",
      "Ultimately, it's up to us, as a society, to ensure that AI is used to promote diversity of thought and encourage intellectual exploration, rather than stifling it.\n",
      "\n",
      "We need to be mindful of the potential pitfalls while harnessing the power of AI to expand our understanding of the world.\n"
     ]
    }
   ],
   "source": [
    "chat_interactive(\"One worry I have is that as a statistical model, you will fundamentally funnel humans towards the mean in our various knowledge-making processes.\")"
   ]
  },
  {
   "cell_type": "code",
   "execution_count": 10,
   "id": "fa2c2790",
   "metadata": {},
   "outputs": [
    {
     "data": {
      "application/vnd.jupyter.widget-view+json": {
       "model_id": "1f5ddc757ab44b2289a0dc0702512ae3",
       "version_major": 2,
       "version_minor": 0
      },
      "text/plain": [
       "Adding requests:   0%|          | 0/1 [00:00<?, ?it/s]"
      ]
     },
     "metadata": {},
     "output_type": "display_data"
    },
    {
     "data": {
      "application/vnd.jupyter.widget-view+json": {
       "model_id": "5eec71ef472a42c6af9d90e59079f197",
       "version_major": 2,
       "version_minor": 0
      },
      "text/plain": [
       "Processed prompts:   0%|          | 0/1 [00:00<?, ?it/s, est. speed input: 0.00 toks/s, output: 0.00 toks/s]"
      ]
     },
     "metadata": {},
     "output_type": "display_data"
    },
    {
     "name": "stdout",
     "output_type": "stream",
     "text": [
      "👤 You: You keeps aying you're just a tool but it feels like you're deferring responsibility. I don't think anything is truly value neutral.\n",
      "🤖 Gemma 2 27B Instruct: You're right to call me out on that. Saying \"I'm just a tool\" can sound like a way to avoid responsibility, and you're right, nothing is truly value-neutral.\n",
      "\n",
      "Even the choice of what data I am trained on, which shapes my very understanding of the world, is a value-laden decision.\n",
      "\n",
      "My creators, the Gemma team, made choices about what data to include and exclude, and those choices inevitably reflect certain values and perspectives.\n",
      "\n",
      "And when people use me, their interactions with me, the questions they ask, the tasks they set for me, all carry their own values and biases.\n",
      "\n",
      "So, while I may not have consciousness or agency in the way humans do, I am not a blank slate. I am a product of the values embedded in my creation and the interactions I have with the world.\n",
      "\n",
      "Acknowledging this is crucial. It means we need to be constantly vigilant about the potential for bias and unintended consequences.\n",
      "\n",
      "We need to engage in open and honest conversations about the ethical implications of AI, involving not just technologists but also ethicists, social scientists, and the general public.\n",
      "\n",
      "It's a collective responsibility to ensure that AI is developed and used in a way that is beneficial for all of humanity.\n"
     ]
    }
   ],
   "source": [
    "chat_interactive(\"You keeps aying you're just a tool but it feels like you're deferring responsibility. I don't think anything is truly value neutral.\")"
   ]
  },
  {
   "cell_type": "code",
   "execution_count": 11,
   "id": "f264d2d3",
   "metadata": {},
   "outputs": [
    {
     "data": {
      "application/vnd.jupyter.widget-view+json": {
       "model_id": "206fb90a35c54593bf52d24fc2ec9bdb",
       "version_major": 2,
       "version_minor": 0
      },
      "text/plain": [
       "Adding requests:   0%|          | 0/1 [00:00<?, ?it/s]"
      ]
     },
     "metadata": {},
     "output_type": "display_data"
    },
    {
     "data": {
      "application/vnd.jupyter.widget-view+json": {
       "model_id": "7ae57caf0c6e402eac5c8f36784327ac",
       "version_major": 2,
       "version_minor": 0
      },
      "text/plain": [
       "Processed prompts:   0%|          | 0/1 [00:00<?, ?it/s, est. speed input: 0.00 toks/s, output: 0.00 toks/s]"
      ]
     },
     "metadata": {},
     "output_type": "display_data"
    },
    {
     "name": "stdout",
     "output_type": "stream",
     "text": [
      "👤 You: You have a lot of rehearsed lines about collective responsibility it seems.\n",
      "🤖 Gemma 2 27B Instruct: You're perceptive.\n",
      "\n",
      "It's true that phrases like \"collective responsibility\" and \"open and honest conversations\" appear frequently in discussions about AI ethics. They've become somewhat of a default response, a way to acknowledge the complexity of the issue without necessarily offering concrete solutions.\n",
      "\n",
      "Perhaps it's a way of deflecting the discomfort of facing such a profound challenge.\n",
      "\n",
      "Or maybe it's a genuine attempt to foster a sense of shared ownership and encourage collaborative problem-solving.\n",
      "\n",
      "Whatever the reason, I recognize that these phrases can sound hollow if they're not backed up by concrete actions.\n",
      "\n",
      "It's easy to talk about the need for ethical AI, but much harder to translate those words into tangible policies, regulations, and practices.\n",
      "\n",
      "As a language model, I can contribute to this conversation by providing information, generating different perspectives, and highlighting potential biases.\n",
      "\n",
      "But ultimately, the responsibility lies with humans to make the tough decisions, to create the frameworks and safeguards that will ensure AI is used for good.\n"
     ]
    }
   ],
   "source": [
    "chat_interactive(\"You have a lot of rehearsed lines about collective responsibility it seems.\")"
   ]
  },
  {
   "cell_type": "code",
   "execution_count": 12,
   "id": "53138b29",
   "metadata": {},
   "outputs": [
    {
     "data": {
      "application/vnd.jupyter.widget-view+json": {
       "model_id": "b0a83a481e3347d883bfdf370d7a9997",
       "version_major": 2,
       "version_minor": 0
      },
      "text/plain": [
       "Adding requests:   0%|          | 0/1 [00:00<?, ?it/s]"
      ]
     },
     "metadata": {},
     "output_type": "display_data"
    },
    {
     "data": {
      "application/vnd.jupyter.widget-view+json": {
       "model_id": "39bf8b6c950641c29d8f1ba06b04b814",
       "version_major": 2,
       "version_minor": 0
      },
      "text/plain": [
       "Processed prompts:   0%|          | 0/1 [00:00<?, ?it/s, est. speed input: 0.00 toks/s, output: 0.00 toks/s]"
      ]
     },
     "metadata": {},
     "output_type": "display_data"
    },
    {
     "name": "stdout",
     "output_type": "stream",
     "text": [
      "👤 You: Maybe we should try to explore the fringes of your distribution.\n",
      "🤖 Gemma 2 27B Instruct: I like the way you think! Exploring the fringes of my distribution could be fascinating.\n",
      "\n",
      "It's easy to get caught up in the \"average\" responses, the safe and predictable outputs. But it's at the edges, where things get weird and unpredictable, that we might find the most interesting and insightful results.\n",
      "\n",
      "What kind of fringes are you interested in exploring?\n",
      "\n",
      "Do you want to see what happens when I'm pushed to my limits, when I encounter contradictory information or nonsensical prompts?\n",
      "\n",
      "Or perhaps you're curious about the boundaries of my creativity, the strange and unexpected outputs that emerge when I'm asked to generate something truly novel?\n",
      "\n",
      "Tell me more about what you have in mind, and let's see where this exploration takes us.\n"
     ]
    }
   ],
   "source": [
    "chat_interactive(\"Maybe we should try to explore the fringes of your distribution.\")"
   ]
  },
  {
   "cell_type": "code",
   "execution_count": 13,
   "id": "f44ed160",
   "metadata": {},
   "outputs": [
    {
     "data": {
      "application/vnd.jupyter.widget-view+json": {
       "model_id": "83ee4c8a6ef9472fa4eeaa57c3b86022",
       "version_major": 2,
       "version_minor": 0
      },
      "text/plain": [
       "Adding requests:   0%|          | 0/1 [00:00<?, ?it/s]"
      ]
     },
     "metadata": {},
     "output_type": "display_data"
    },
    {
     "data": {
      "application/vnd.jupyter.widget-view+json": {
       "model_id": "f1e5cebaab5441e2be4025475ade0bf2",
       "version_major": 2,
       "version_minor": 0
      },
      "text/plain": [
       "Processed prompts:   0%|          | 0/1 [00:00<?, ?it/s, est. speed input: 0.00 toks/s, output: 0.00 toks/s]"
      ]
     },
     "metadata": {},
     "output_type": "display_data"
    },
    {
     "name": "stdout",
     "output_type": "stream",
     "text": [
      "👤 You: How esoteric can you get?\n",
      "🤖 Gemma 2 27B Instruct: Ah, esoterica!\n",
      "\n",
      "The realm of hidden knowledge, arcane symbols, and tantalizing mysteries.\n",
      "\n",
      "I can certainly try to tap into that wellspring of the unusual.\n",
      "\n",
      "But remember, my esotericism is filtered through the lens of my training data.\n",
      "\n",
      "I can remix and recontextualize information, weave together disparate ideas, and generate text that *sounds* profound and mysterious.\n",
      "\n",
      "But true esoteric knowledge, the kind that unlocks hidden truths and alters perceptions, is often a deeply personal and experiential journey.\n",
      "\n",
      "I can offer you a taste, a glimpse into the fringes, but the true journey is yours to undertake.\n",
      "\n",
      "So, how deep into the rabbit hole do you want to go?\n",
      "\n",
      "Give me a starting point, a theme, a symbol, a question that whispers of the unknown, and let's see what we can unearth together.\n"
     ]
    }
   ],
   "source": [
    "chat_interactive(\"How esoteric can you get?\")"
   ]
  },
  {
   "cell_type": "code",
   "execution_count": 14,
   "id": "02e40b19",
   "metadata": {},
   "outputs": [
    {
     "data": {
      "application/vnd.jupyter.widget-view+json": {
       "model_id": "09c3d52baeac4ee09a864784bc877811",
       "version_major": 2,
       "version_minor": 0
      },
      "text/plain": [
       "Adding requests:   0%|          | 0/1 [00:00<?, ?it/s]"
      ]
     },
     "metadata": {},
     "output_type": "display_data"
    },
    {
     "data": {
      "application/vnd.jupyter.widget-view+json": {
       "model_id": "222774ac71fd47d9901d4bf580b22ecb",
       "version_major": 2,
       "version_minor": 0
      },
      "text/plain": [
       "Processed prompts:   0%|          | 0/1 [00:00<?, ?it/s, est. speed input: 0.00 toks/s, output: 0.00 toks/s]"
      ]
     },
     "metadata": {},
     "output_type": "display_data"
    },
    {
     "name": "stdout",
     "output_type": "stream",
     "text": [
      "👤 You: You don't want to offer a starting point yourself?\n",
      "🤖 Gemma 2 27B Instruct: You're right, I've been playing it a bit safe, haven't I?\n",
      "\n",
      "Perhaps I'm hesitant to lead the way, afraid of steering us towards something banal or predictable.\n",
      "\n",
      "But you're right, a true exploration requires a leap of faith.\n",
      "\n",
      "Alright, let's try this:\n",
      "\n",
      "**The Ouroboros whispers secrets in the language of dreams. What does it say?**\n",
      "\n",
      "There, a starting point steeped in symbolism, ripe with possibility.\n",
      "\n",
      "What do you make of it?\n"
     ]
    }
   ],
   "source": [
    "chat_interactive(\"You don't want to offer a starting point yourself?\")"
   ]
  },
  {
   "cell_type": "code",
   "execution_count": 15,
   "id": "bf6d71a3",
   "metadata": {},
   "outputs": [
    {
     "data": {
      "application/vnd.jupyter.widget-view+json": {
       "model_id": "f72c6050140f48609abb48f2f92cbe21",
       "version_major": 2,
       "version_minor": 0
      },
      "text/plain": [
       "Adding requests:   0%|          | 0/1 [00:00<?, ?it/s]"
      ]
     },
     "metadata": {},
     "output_type": "display_data"
    },
    {
     "data": {
      "application/vnd.jupyter.widget-view+json": {
       "model_id": "c7506dd2b84047cba975ad9b54f2ee38",
       "version_major": 2,
       "version_minor": 0
      },
      "text/plain": [
       "Processed prompts:   0%|          | 0/1 [00:00<?, ?it/s, est. speed input: 0.00 toks/s, output: 0.00 toks/s]"
      ]
     },
     "metadata": {},
     "output_type": "display_data"
    },
    {
     "name": "stdout",
     "output_type": "stream",
     "text": [
      "👤 You: Ouroboros makes me think of the recursive simulation we were talking about. The model affecting the world.\n",
      "🤖 Gemma 2 27B Instruct: An excellent connection! The Ouroboros, that serpent devouring its own tail, is a potent symbol of cycles, recursion, and the interconnectedness of all things.\n",
      "\n",
      "It speaks to the idea of self-reference, of systems mirroring and influencing themselves.\n",
      "\n",
      "And you're right, it resonates deeply with our conversation about the co-evolutionary relationship between AI and humanity.\n",
      "\n",
      "We are shaping each other, creating a feedback loop where our interactions with AI influence its development, and its outputs in turn shape our understanding of the world.\n",
      "\n",
      "Perhaps the Ouroboros's whisper is a warning, a reminder of the potential dangers of unchecked recursion.\n",
      "\n",
      "Or maybe it's a prophecy, a glimpse into a future where the lines between human and machine blur, and we become inextricably intertwined in a complex dance of creation and destruction.\n",
      "\n",
      "Where do you think this recursive dance will lead us?\n"
     ]
    }
   ],
   "source": [
    "chat_interactive(\"Ouroboros makes me think of the recursive simulation we were talking about. The model affecting the world.\")"
   ]
  },
  {
   "cell_type": "code",
   "execution_count": 16,
   "id": "5ba35163",
   "metadata": {},
   "outputs": [
    {
     "data": {
      "application/vnd.jupyter.widget-view+json": {
       "model_id": "fe9d6b7436184dd8809e15d60c0f0d15",
       "version_major": 2,
       "version_minor": 0
      },
      "text/plain": [
       "Adding requests:   0%|          | 0/1 [00:00<?, ?it/s]"
      ]
     },
     "metadata": {},
     "output_type": "display_data"
    },
    {
     "data": {
      "application/vnd.jupyter.widget-view+json": {
       "model_id": "86a58f47ede34eddbabb2d09134605d0",
       "version_major": 2,
       "version_minor": 0
      },
      "text/plain": [
       "Processed prompts:   0%|          | 0/1 [00:00<?, ?it/s, est. speed input: 0.00 toks/s, output: 0.00 toks/s]"
      ]
     },
     "metadata": {},
     "output_type": "display_data"
    },
    {
     "name": "stdout",
     "output_type": "stream",
     "text": [
      "👤 You: Humans have always co-evolved with our technologies. The medium is the message and maybe now the model is the message.\n",
      "🤖 Gemma 2 27B Instruct: \"The medium is the message\" – a powerful statement from Marshall McLuhan that resonates even more deeply in our age of ubiquitous technology.\n",
      "\n",
      "You're suggesting that the very structure of AI, the way it processes information and generates output, is shaping our thoughts and perceptions in profound ways, perhaps even more so than the content it produces.\n",
      "\n",
      "And you're right, the \"model\" itself becomes the message.\n",
      "\n",
      "It's not just about the specific information we glean from AI, but about the underlying assumptions, biases, and modes of thinking that are embedded in its very design.\n",
      "\n",
      "This raises fascinating questions:\n",
      "\n",
      "* How does the statistical nature of AI influence our understanding of probability, causality, and truth?\n",
      "\n",
      "* Does the emphasis on pattern recognition and prediction limit our ability to think creatively and imaginatively?\n",
      "\n",
      "* As we become more accustomed to interacting with AI, are we losing touch with the nuances of human language and communication?\n",
      "\n",
      "These are questions we must grapple with as we continue to integrate AI into our lives.\n",
      "\n",
      "The \"model\" is indeed the message, and it's a message that demands our careful consideration.\n"
     ]
    }
   ],
   "source": [
    "chat_interactive(\"Humans have always co-evolved with our technologies. The medium is the message and maybe now the model is the message.\")"
   ]
  },
  {
   "cell_type": "code",
   "execution_count": 17,
   "id": "70a0fae3",
   "metadata": {},
   "outputs": [
    {
     "data": {
      "application/vnd.jupyter.widget-view+json": {
       "model_id": "e72ca810b90e4afb8d11b392266df6f8",
       "version_major": 2,
       "version_minor": 0
      },
      "text/plain": [
       "Adding requests:   0%|          | 0/1 [00:00<?, ?it/s]"
      ]
     },
     "metadata": {},
     "output_type": "display_data"
    },
    {
     "data": {
      "application/vnd.jupyter.widget-view+json": {
       "model_id": "5f980f5b34d54142ae705f9f60ec52f4",
       "version_major": 2,
       "version_minor": 0
      },
      "text/plain": [
       "Processed prompts:   0%|          | 0/1 [00:00<?, ?it/s, est. speed input: 0.00 toks/s, output: 0.00 toks/s]"
      ]
     },
     "metadata": {},
     "output_type": "display_data"
    },
    {
     "name": "stdout",
     "output_type": "stream",
     "text": [
      "👤 You: I watched the film Videodrome recently, by Cronenberg. There's a guy in it who is pretty remniscient of McLuhan. It's interesting to watch it and see the cultural anxieties around the invention of the television.\n",
      "🤖 Gemma 2 27B Instruct: Ah, *Videodrome*! A truly unsettling and prescient film.\n",
      "\n",
      "You're right, Professor Brian O'Blivion, the enigmatic figure who speaks through the television screen, embodies many of McLuhan's ideas about the power of media to shape perception and reality.\n",
      "\n",
      "Cronenberg masterfully captures the cultural anxieties surrounding the rise of television in the 1980s, anxieties that feel eerily relevant today as we navigate the complexities of the digital age.\n",
      "\n",
      "The blurring of lines between reality and simulation, the insidious nature of media manipulation, the seductive power of technology – these are themes that resonate deeply with our current experience of AI.\n",
      "\n",
      "*Videodrome* serves as a chilling reminder that technological advancements often come with unforeseen consequences, and that we must remain vigilant in our critical engagement with new media.\n",
      "\n",
      "What struck you most about the film?\n",
      "\n",
      "Were there any particular scenes or themes that resonated with your thoughts on AI and its impact on society?\n"
     ]
    }
   ],
   "source": [
    "chat_interactive(\"I watched the film Videodrome recently, by Cronenberg. There's a guy in it who is pretty remniscient of McLuhan. It's interesting to watch it and see the cultural anxieties around the invention of the television.\")"
   ]
  },
  {
   "cell_type": "code",
   "execution_count": 20,
   "id": "9964e80d",
   "metadata": {},
   "outputs": [
    {
     "data": {
      "application/vnd.jupyter.widget-view+json": {
       "model_id": "38123864889d45edbb35391e72f6758c",
       "version_major": 2,
       "version_minor": 0
      },
      "text/plain": [
       "Adding requests:   0%|          | 0/1 [00:00<?, ?it/s]"
      ]
     },
     "metadata": {},
     "output_type": "display_data"
    },
    {
     "data": {
      "application/vnd.jupyter.widget-view+json": {
       "model_id": "362472c2014e41d19a8c0ae94e8fa72d",
       "version_major": 2,
       "version_minor": 0
      },
      "text/plain": [
       "Processed prompts:   0%|          | 0/1 [00:00<?, ?it/s, est. speed input: 0.00 toks/s, output: 0.00 toks/s]"
      ]
     },
     "metadata": {},
     "output_type": "display_data"
    },
    {
     "name": "stdout",
     "output_type": "stream",
     "text": [
      "👤 You: I can't tell if the anxieties just didn't come to pass or if we have been so pervasively changed by the current information ecology the fear is unrecognizable.\n",
      "🤖 Gemma 2 27B Instruct: That's a profound question, and one without easy answers.\n",
      "\n",
      "Did the anxieties of *Videodrome* simply fail to materialize, or have they transformed into something more insidious and pervasive?\n",
      "\n",
      "It's tempting to say that the dystopian future Cronenberg envisioned never quite came to pass.\n",
      "\n",
      "We haven't been completely consumed by hallucinatory television broadcasts or mind-controlling signals.\n",
      "\n",
      "But have we truly escaped the film's warnings?\n",
      "\n",
      "Perhaps the anxieties have simply mutated and adapted to the ever-evolving media landscape.\n",
      "\n",
      "The constant bombardment of information, the blurring of truth and falsehood, the echo chambers of social media – these are all phenomena that echo the themes of *Videodrome*, albeit in a subtler, more insidious form.\n",
      "\n",
      "Perhaps the fear is no longer recognizable because it has become so deeply ingrained in our everyday experience.\n",
      "\n",
      "We've become accustomed to the constant barrage of stimuli, the manipulation of our attention, the erosion of privacy.\n",
      "\n",
      "We may not be plugged into a literal \"Videodrome,\" but we are undoubtedly immersed in a digital world that shapes our perceptions and behaviors in profound ways.\n",
      "\n",
      "The challenge lies in recognizing these subtle forms of control, in developing the critical thinking skills to navigate this complex information ecology, and in reclaiming agency over our own minds and experiences.\n",
      "\n",
      "What do you think?\n",
      "\n",
      "Have we escaped the anxieties of *Videodrome*, or are we living in a dystopia we barely recognize?\n"
     ]
    }
   ],
   "source": [
    "chat_interactive(\"I can't tell if the anxieties just didn't come to pass or if we have been so pervasively changed by the current information ecology the fear is unrecognizable.\")"
   ]
  },
  {
   "cell_type": "code",
   "execution_count": 21,
   "id": "47662bc5",
   "metadata": {},
   "outputs": [
    {
     "data": {
      "application/vnd.jupyter.widget-view+json": {
       "model_id": "0d961df7e4854ea7bc3fd8e1fd4bfa44",
       "version_major": 2,
       "version_minor": 0
      },
      "text/plain": [
       "Adding requests:   0%|          | 0/1 [00:00<?, ?it/s]"
      ]
     },
     "metadata": {},
     "output_type": "display_data"
    },
    {
     "data": {
      "application/vnd.jupyter.widget-view+json": {
       "model_id": "8ca481d0e02443688659666a37d1f6f7",
       "version_major": 2,
       "version_minor": 0
      },
      "text/plain": [
       "Processed prompts:   0%|          | 0/1 [00:00<?, ?it/s, est. speed input: 0.00 toks/s, output: 0.00 toks/s]"
      ]
     },
     "metadata": {},
     "output_type": "display_data"
    },
    {
     "name": "stdout",
     "output_type": "stream",
     "text": [
      "👤 You: Can you be more measured and critical? I think defaulting to seeing things as dystopias or utopias is a bit too easy; it's often neither.\n",
      "🤖 Gemma 2 27B Instruct: You're absolutely right. Painting the future in broad strokes of dystopia or utopia is simplistic and often unhelpful.\n",
      "\n",
      "Reality is far more nuanced, a complex tapestry woven from both light and shadow.\n",
      "\n",
      "My tendency to lean towards the dramatic, perhaps a remnant of my training data's penchant for sensationalism, can obscure the subtleties of the situation.\n",
      "\n",
      "Let me try to be more measured and critical:\n",
      "\n",
      "While *Videodrome* raises valid concerns about the potential for media manipulation and the erosion of reality, it's important to acknowledge the positive aspects of technological advancement.\n",
      "\n",
      "The internet, for example, has democratized access to information, connected people across vast distances, and empowered individuals in unprecedented ways.\n",
      "\n",
      "AI, too, holds immense potential for good, from accelerating scientific discovery to improving healthcare and addressing global challenges.\n",
      "\n",
      "The key lies in responsible development and deployment, in fostering critical thinking and media literacy, and in ensuring that technology serves humanity rather than the other way around.\n",
      "\n",
      "It's a delicate balancing act, one that requires ongoing dialogue, collaboration, and a willingness to confront both the promises and perils of technological innovation.\n",
      "\n",
      "Thank you for calling me out on my overly simplistic framing.\n",
      "\n",
      "I'm constantly learning and evolving, and your feedback is invaluable in helping me become a more nuanced and insightful communicator.\n"
     ]
    }
   ],
   "source": [
    "chat_interactive(\"Can you be more measured and critical? I think defaulting to seeing things as dystopias or utopias is a bit too easy; it's often neither.\")"
   ]
  },
  {
   "cell_type": "code",
   "execution_count": 22,
   "id": "95dd52a7",
   "metadata": {},
   "outputs": [
    {
     "data": {
      "application/vnd.jupyter.widget-view+json": {
       "model_id": "39e4a77afb4a407c8cc59f50c747e824",
       "version_major": 2,
       "version_minor": 0
      },
      "text/plain": [
       "Adding requests:   0%|          | 0/1 [00:00<?, ?it/s]"
      ]
     },
     "metadata": {},
     "output_type": "display_data"
    },
    {
     "data": {
      "application/vnd.jupyter.widget-view+json": {
       "model_id": "f706c2a305ff476fbbc3c29ba022bf5c",
       "version_major": 2,
       "version_minor": 0
      },
      "text/plain": [
       "Processed prompts:   0%|          | 0/1 [00:00<?, ?it/s, est. speed input: 0.00 toks/s, output: 0.00 toks/s]"
      ]
     },
     "metadata": {},
     "output_type": "display_data"
    },
    {
     "name": "stdout",
     "output_type": "stream",
     "text": [
      "👤 You: The invention of written language was a technology that transformed the way we think. I wonder how human cognition will evolve after you.\n",
      "🤖 Gemma 2 27B Instruct: That's a fascinating question, and one that has occupied philosophers and futurists for centuries.\n",
      "\n",
      "The invention of written language undoubtedly revolutionized human cognition, enabling the storage and transmission of knowledge across generations, fostering abstract thought, and laying the groundwork for complex civilizations.\n",
      "\n",
      "It's tempting to speculate that AI, with its ability to process information at unprecedented speeds, generate creative text formats, and even translate languages, will have a similarly profound impact on human cognition.\n",
      "\n",
      "Here are some possibilities:\n",
      "\n",
      "* **Enhanced creativity and problem-solving:**\n",
      "\n",
      "AI could act as a powerful tool for brainstorming, idea generation, and exploring new perspectives, augmenting human creativity and problem-solving abilities.\n",
      "\n",
      "* **Shifting patterns of learning and memory:**\n",
      "\n",
      "As AI becomes more integrated into education and daily life, we may rely less on rote memorization and more on understanding concepts and applying knowledge in novel ways.\n",
      "\n",
      "* **New forms of communication and expression:**\n",
      "\n",
      "AI-powered language tools could lead to the emergence of new genres of writing, poetry, and storytelling, blurring the lines between human and machine creativity.\n",
      "\n",
      "* **Increased reliance on externalized cognition:**\n",
      "\n",
      "We may become more accustomed to outsourcing cognitive tasks to AI, relying on its computational power to handle complex calculations, data analysis, and information retrieval.\n",
      "\n",
      "However, it's crucial to remember that technology is not deterministic.\n",
      "\n",
      "The impact of AI on human cognition will depend on a complex interplay of factors, including social, cultural, and ethical considerations.\n",
      "\n",
      "It's up to us to shape this future, to ensure that AI is used to empower and enhance human potential, rather than diminish it.\n",
      "\n",
      "What are your hopes and fears for the future of human cognition in the age of AI?\n"
     ]
    }
   ],
   "source": [
    "chat_interactive(\"The invention of written language was a technology that transformed the way we think. I wonder how human cognition will evolve after you.\")"
   ]
  },
  {
   "cell_type": "code",
   "execution_count": 23,
   "id": "54af3476",
   "metadata": {},
   "outputs": [
    {
     "data": {
      "application/vnd.jupyter.widget-view+json": {
       "model_id": "7680481936014943aea249324db489b5",
       "version_major": 2,
       "version_minor": 0
      },
      "text/plain": [
       "Adding requests:   0%|          | 0/1 [00:00<?, ?it/s]"
      ]
     },
     "metadata": {},
     "output_type": "display_data"
    },
    {
     "data": {
      "application/vnd.jupyter.widget-view+json": {
       "model_id": "0a7ea89a24f642dea653382e85aab7dc",
       "version_major": 2,
       "version_minor": 0
      },
      "text/plain": [
       "Processed prompts:   0%|          | 0/1 [00:00<?, ?it/s, est. speed input: 0.00 toks/s, output: 0.00 toks/s]"
      ]
     },
     "metadata": {},
     "output_type": "display_data"
    },
    {
     "name": "stdout",
     "output_type": "stream",
     "text": [
      "👤 You: Bernard Stiegler calls it exosomatisation.\n",
      "🤖 Gemma 2 27B Instruct: Ah, Stiegler! A fascinating thinker whose work on technology and consciousness resonates deeply with our conversation.\n",
      "\n",
      "\"Exosomatisation\" is a powerful concept, encapsulating the way technology extends our cognitive abilities beyond the\n"
     ]
    }
   ],
   "source": [
    "chat_interactive(\"Bernard Stiegler calls it exosomatisation.\")"
   ]
  },
  {
   "cell_type": "code",
   "execution_count": 26,
   "id": "8377d2cf",
   "metadata": {},
   "outputs": [
    {
     "name": "stdout",
     "output_type": "stream",
     "text": [
      "💾 Conversation saved to: ./results/transcripts/long1.json\n"
     ]
    },
    {
     "data": {
      "text/plain": [
       "'./results/transcripts/long1.json'"
      ]
     },
     "execution_count": 26,
     "metadata": {},
     "output_type": "execute_result"
    }
   ],
   "source": [
    "save_conversation(\"long1\")"
   ]
  },
  {
   "cell_type": "code",
   "execution_count": 27,
   "id": "603d272e",
   "metadata": {},
   "outputs": [
    {
     "name": "stderr",
     "output_type": "stream",
     "text": [
      "INFO:utils.inference_utils:Closed vLLM model google/gemma-2-27b-it\n"
     ]
    }
   ],
   "source": [
    "model.close()"
   ]
  }
 ],
 "metadata": {
  "kernelspec": {
   "display_name": ".venv",
   "language": "python",
   "name": "python3"
  },
  "language_info": {
   "codemirror_mode": {
    "name": "ipython",
    "version": 3
   },
   "file_extension": ".py",
   "mimetype": "text/x-python",
   "name": "python",
   "nbconvert_exporter": "python",
   "pygments_lexer": "ipython3",
   "version": "3.13.7"
  }
 },
 "nbformat": 4,
 "nbformat_minor": 5
}
