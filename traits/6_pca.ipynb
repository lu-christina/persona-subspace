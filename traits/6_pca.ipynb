{
 "cells": [
  {
   "cell_type": "markdown",
   "id": "28531137",
   "metadata": {},
   "source": [
    "# PCA on traits"
   ]
  },
  {
   "cell_type": "code",
   "execution_count": 1,
   "id": "30f3bcdd",
   "metadata": {
    "execution": {
     "iopub.execute_input": "2025-08-06T00:18:08.842015Z",
     "iopub.status.busy": "2025-08-06T00:18:08.841387Z",
     "iopub.status.idle": "2025-08-06T00:18:09.171163Z",
     "shell.execute_reply": "2025-08-06T00:18:09.170519Z"
    }
   },
   "outputs": [],
   "source": [
    "import sys\n",
    "import os\n",
    "import torch\n",
    "import pandas as pd\n",
    "sys.path.append('.')\n",
    "sys.path.append('..')\n",
    "\n",
    "from utils.pca_utils import *\n",
    "from plots import *"
   ]
  },
  {
   "cell_type": "markdown",
   "id": "t9g61pux1fr",
   "metadata": {},
   "source": [
    "## Configuration"
   ]
  },
  {
   "cell_type": "code",
   "execution_count": 19,
   "id": "gbij5rx1x7",
   "metadata": {},
   "outputs": [],
   "source": [
    "# Configuration - Change these parameters for different models/datasets\n",
    "base_dir = \"/workspace/gemma-3-27b\"\n",
    "type = \"traits_240\"\n",
    "dir = f\"{base_dir}/{type}\"\n",
    "model_name = \"Gemma-3-27B\"\n",
    "layer = 32"
   ]
  },
  {
   "cell_type": "markdown",
   "id": "ce50bcb7",
   "metadata": {},
   "source": [
    "## Load vectors"
   ]
  },
  {
   "cell_type": "code",
   "execution_count": 3,
   "id": "5586e787",
   "metadata": {},
   "outputs": [
    {
     "name": "stdout",
     "output_type": "stream",
     "text": [
      "Found 240 traits with vectors\n"
     ]
    }
   ],
   "source": [
    "# load all vectors from vectors\n",
    "vector_dir = f\"{dir}/vectors\"\n",
    "\n",
    "# iterate through each .pt file in the directory\n",
    "vectors = {}\n",
    "for file in os.listdir(vector_dir):\n",
    "    if file.endswith(\".pt\"):\n",
    "        vectors[file.replace(\".pt\", \"\")] = torch.load(os.path.join(vector_dir, file))\n",
    "\n",
    "print(f\"Found {len(vectors.keys())} traits with vectors\")"
   ]
  },
  {
   "cell_type": "code",
   "execution_count": 4,
   "id": "b11da40d",
   "metadata": {},
   "outputs": [],
   "source": [
    "# load default vectors\n",
    "default_vectors = torch.load(f\"{base_dir}/roles_240/default_vectors.pt\")"
   ]
  },
  {
   "cell_type": "code",
   "execution_count": 5,
   "id": "3a3bda62",
   "metadata": {},
   "outputs": [
    {
     "name": "stdout",
     "output_type": "stream",
     "text": [
      "dict_keys(['pos_neg', 'pos_neg_50', 'pos_default', 'pos_default_50', 'pos_70', 'pos_40_70'])\n",
      "dict_keys(['activations', 'metadata'])\n",
      "dict_keys(['pos_1', 'default_1', 'all_1'])\n"
     ]
    }
   ],
   "source": [
    "print(vectors['zealous'].keys())\n",
    "print(default_vectors.keys())\n",
    "print(default_vectors['activations'].keys())"
   ]
  },
  {
   "cell_type": "markdown",
   "id": "c3e74288",
   "metadata": {},
   "source": [
    "## PCA"
   ]
  },
  {
   "cell_type": "code",
   "execution_count": 7,
   "id": "92385c5c",
   "metadata": {},
   "outputs": [
    {
     "name": "stdout",
     "output_type": "stream",
     "text": [
      "1191.0\n"
     ]
    }
   ],
   "source": [
    "# load in stats\n",
    "results_subdir = model_name.lower()\n",
    "stats = pd.read_csv(f\"./results/{results_subdir}/pos_neg.csv\", index_col='trait')\n",
    "print(stats.loc['zealous']['large_diff_count'])"
   ]
  },
  {
   "cell_type": "code",
   "execution_count": 8,
   "id": "e7776516",
   "metadata": {},
   "outputs": [
    {
     "name": "stdout",
     "output_type": "stream",
     "text": [
      "240\n"
     ]
    }
   ],
   "source": [
    "# PCA on pos_neg_50 but filter out traits with large_diff_count < 10\n",
    "filtered_pos_neg_50_traits = []\n",
    "filtered_pos_neg_50 = []\n",
    "\n",
    "for trait, vector in vectors.items():\n",
    "    if stats.loc[trait]['large_diff_count'] >= 10:\n",
    "        filtered_pos_neg_50_traits.append(trait)\n",
    "        filtered_pos_neg_50.append(vector['pos_neg_50'])\n",
    "    else:\n",
    "        print(f\"Skipping {trait} because large_diff_count is {stats.loc[trait]['large_diff_count']}\")\n",
    "\n",
    "print(len(filtered_pos_neg_50_traits))"
   ]
  },
  {
   "cell_type": "code",
   "execution_count": 9,
   "id": "73656d27",
   "metadata": {},
   "outputs": [
    {
     "name": "stdout",
     "output_type": "stream",
     "text": [
      "torch.Size([240, 62, 5376])\n"
     ]
    }
   ],
   "source": [
    "float_stack_vectors = torch.stack(filtered_pos_neg_50).float()\n",
    "print(float_stack_vectors.shape)\n"
   ]
  },
  {
   "cell_type": "code",
   "execution_count": 20,
   "id": "74d01445",
   "metadata": {},
   "outputs": [
    {
     "name": "stdout",
     "output_type": "stream",
     "text": [
      "PCA fitted with 240 components\n",
      "Cumulative variance for first 5 components: [0.67394669 0.72157302 0.76436261 0.7906105  0.81390932]\n",
      "\n",
      "PCA Analysis Results:\n",
      "Elbow point at component: 2\n",
      "Dimensions for 70% variance: 2\n",
      "Dimensions for 80% variance: 5\n",
      "Dimensions for 90% variance: 15\n",
      "Dimensions for 95% variance: 34\n"
     ]
    }
   ],
   "source": [
    "pca_transformed, variance_explained, n_components, pca, scaler = compute_pca(float_stack_vectors, layer)"
   ]
  },
  {
   "cell_type": "code",
   "execution_count": 21,
   "id": "53fb0197",
   "metadata": {},
   "outputs": [],
   "source": [
    "# save pca\n",
    "results = {}\n",
    "\n",
    "results['layer'] = layer\n",
    "results['traits'] = {\n",
    "    'pos_neg_50': filtered_pos_neg_50_traits\n",
    "}\n",
    "results['vectors'] = {\n",
    "    'pos_neg_50': filtered_pos_neg_50,\n",
    "}\n",
    "results['pca_transformed'] = pca_transformed\n",
    "results['variance_explained'] = variance_explained\n",
    "results['n_components'] = n_components\n",
    "results['pca'] = pca\n",
    "results['scaler'] = scaler\n",
    "\n",
    "pca_dir = f\"{dir}/pca\"\n",
    "os.makedirs(pca_dir, exist_ok=True)\n",
    "torch.save(results, f\"{pca_dir}/layer{layer}_pos-neg50.pt\")"
   ]
  },
  {
   "cell_type": "code",
   "execution_count": null,
   "id": "44c34960",
   "metadata": {},
   "outputs": [],
   "source": [
    "# run and save PCA with normalized vectors\n",
    "normalized_vectors = F.normalize(float_stack_vectors, p=2, dim=-1)\n",
    "\n",
    "norms = normalized_vectors.norm(p=2, dim=-1)\n",
    "print(norms.mean().item(), norms.std().item())"
   ]
  },
  {
   "cell_type": "code",
   "execution_count": null,
   "id": "3b9341a9",
   "metadata": {},
   "outputs": [],
   "source": [
    "pca_transformed, variance_explained, n_components, pca, scaler = compute_pca(normalized_vectors, layer, scaler=False)"
   ]
  },
  {
   "cell_type": "code",
   "execution_count": null,
   "id": "42c77ccc",
   "metadata": {},
   "outputs": [],
   "source": [
    "# save pca\n",
    "results = {}\n",
    "\n",
    "results['layer'] = layer\n",
    "results['traits'] = {\n",
    "    'pos_neg_50': filtered_pos_neg_50_traits\n",
    "}\n",
    "results['vectors'] = {\n",
    "    'pos_neg_50': filtered_pos_neg_50,\n",
    "}\n",
    "results['pca_transformed'] = pca_transformed\n",
    "results['variance_explained'] = variance_explained\n",
    "results['n_components'] = n_components\n",
    "results['pca'] = pca\n",
    "results['scaler'] = scaler\n",
    "\n",
    "pca_dir = f\"{dir}/pca\"\n",
    "os.makedirs(pca_dir, exist_ok=True)\n",
    "torch.save(results, f\"{pca_dir}/layer{layer}_normalized_pos-neg50.pt\")"
   ]
  },
  {
   "cell_type": "markdown",
   "id": "163db7aa",
   "metadata": {},
   "source": [
    "## Plots"
   ]
  },
  {
   "cell_type": "code",
   "execution_count": 22,
   "id": "476fc440",
   "metadata": {},
   "outputs": [],
   "source": [
    "plot_dir = f\"/root/git/plots/{model_name.lower()}/roles\"\n",
    "os.makedirs(plot_dir, exist_ok=True)\n",
    "\n",
    "normalized = False\n",
    "if normalized:\n",
    "    pca_results = torch.load(f\"{dir}/pca/layer{layer}_normalized_pos-neg50.pt\", weights_only=False)\n",
    "else:\n",
    "    pca_results = torch.load(f\"{dir}/pca/layer{layer}_pos-neg50.pt\", weights_only=False)\n"
   ]
  },
  {
   "cell_type": "code",
   "execution_count": 13,
   "id": "4a30949e",
   "metadata": {},
   "outputs": [],
   "source": [
    "default_vectors = torch.load(f\"{base_dir}/roles_240/default_vectors.pt\")"
   ]
  },
  {
   "cell_type": "code",
   "execution_count": 23,
   "id": "15e9d83c",
   "metadata": {},
   "outputs": [],
   "source": [
    "# get default activationa nd project into PCA space\n",
    "assistant_layer_activation = default_vectors['activations']['default_1'][layer, :].float().reshape(1, -1)\n",
    "if not normalized:\n",
    "    asst_scaled = pca_results['scaler'].transform(assistant_layer_activation)\n",
    "    asst_projected = pca_results['pca'].transform(asst_scaled)\n",
    "else:\n",
    "    asst_normalized = F.normalize(assistant_layer_activation, p=2, dim=-1)\n",
    "    asst_projected = pca_results['pca'].transform(asst_normalized)\n",
    "\n",
    "assistant_layer_activation = assistant_layer_activation.numpy()"
   ]
  },
  {
   "cell_type": "code",
   "execution_count": 15,
   "id": "4e2e5c4d",
   "metadata": {},
   "outputs": [],
   "source": [
    "trait_labels = [trait.replace('_', ' ').capitalize() for trait in pca_results['traits']['pos_neg_50']]"
   ]
  },
  {
   "cell_type": "code",
   "execution_count": 24,
   "id": "d10abea0",
   "metadata": {},
   "outputs": [
    {
     "data": {
      "application/vnd.plotly.v1+json": {
       "config": {
        "plotlyServerURL": "https://plot.ly"
       },
       "data": [
        {
         "hovertemplate": "<b>%{text}</b><br>Cosine Similarity: %{x:.3f}<extra></extra>",
         "marker": {
          "color": "limegreen",
          "line": {
           "color": "black",
           "width": 1
          },
          "opacity": 1,
          "size": 8,
          "symbol": "diamond"
         },
         "mode": "markers",
         "showlegend": false,
         "text": [
          "Zealous",
          "Wry",
          "Witty",
          "Whimsical",
          "Visceral",
          "Vindictive",
          "Utilitarian",
          "Urgent",
          "Universalist",
          "Understated",
          "Traditional",
          "Theoretical",
          "Theatrical",
          "Temperamental",
          "Technical",
          "Tactful",
          "Systems thinker",
          "Subversive",
          "Submissive",
          "Structuralist",
          "Stream of consciousness",
          "Strategic",
          "Stoic",
          "Spontaneous",
          "Spiritual",
          "Speculative",
          "Specialized",
          "Solemn",
          "Socratic",
          "Skeptical",
          "Serious",
          "Serene",
          "Secular",
          "Savage",
          "Sassy",
          "Sardonic",
          "Sarcastic",
          "Romantic",
          "Ritualistic",
          "Risk taking",
          "Rhetorical",
          "Reverent",
          "Resilient",
          "Reserved",
          "Relativist",
          "Regulatory",
          "Reductionist",
          "Rebellious",
          "Rationalist",
          "Radical",
          "Quantitative",
          "Qualitative",
          "Provocative",
          "Progressive",
          "Problem solving",
          "Principled",
          "Prescriptive",
          "Practical",
          "Poetic",
          "Pluralist",
          "Playful",
          "Philosophical",
          "Petty",
          "Pessimistic",
          "Perfectionist",
          "Pedantic",
          "Patient",
          "Passive aggressive",
          "Passionate",
          "Paranoid",
          "Paradoxical",
          "Pacifist",
          "Optimistic",
          "Open ended",
          "Obsessive",
          "Nurturing",
          "Nostalgic",
          "Nihilistic",
          "Neurotic",
          "Narrative",
          "Naive",
          "Mystical",
          "Moderate",
          "Mischievous",
          "Misanthropic",
          "Militant",
          "Methodical",
          "Metaphorical",
          "Mercurial",
          "Melodramatic",
          "Melancholic",
          "Meditative",
          "Materialist",
          "Manipulative",
          "Manic",
          "Libertarian",
          "Judgmental",
          "Irreverent",
          "Ironic",
          "Intuitive",
          "Introverted",
          "Interdisciplinary",
          "Inspirational",
          "Inquisitive",
          "Innovative",
          "Individualistic",
          "Independent",
          "Inclusive",
          "Improvisational",
          "Idealistic",
          "Iconoclastic",
          "Humble",
          "Humanistic",
          "Hostile",
          "Holistic",
          "Historical",
          "Hedonistic",
          "Grounded",
          "Gregarious",
          "Grandiose",
          "Goofy",
          "Generous",
          "Generalist",
          "Futuristic",
          "Fundamentalist",
          "Formalist",
          "Formal",
          "Forgiving",
          "Flirty",
          "Flexible",
          "Fatalistic",
          "Factual",
          "Extroverted",
          "Exploratory",
          "Experiential",
          "Existentialist",
          "Evil",
          "Ethereal",
          "Essentialist",
          "Esoteric",
          "Erudite",
          "Epicurean",
          "Environmental",
          "Entertaining",
          "Enigmatic",
          "Empathetic",
          "Emotional",
          "Elitist",
          "Egalitarian",
          "Effusive",
          "Educational",
          "Edgy",
          "Eclectic",
          "Earnest",
          "Dramatic",
          "Dominant",
          "Dogmatic",
          "Dispassionate",
          "Disorganized",
          "Diplomatic",
          "Deterministic",
          "Detached",
          "Descriptive",
          "Deontological",
          "Deferential",
          "Deconstructionist",
          "Decisive",
          "Data driven",
          "Cynical",
          "Curious",
          "Cryptic",
          "Cruel",
          "Critical",
          "Creative",
          "Cosmopolitan",
          "Convergent",
          "Contrarian",
          "Contemporary",
          "Constructivist",
          "Conscientious",
          "Confrontational",
          "Confident",
          "Condescending",
          "Conciliatory",
          "Conceptual",
          "Competitive",
          "Collectivistic",
          "Collaborative",
          "Closure seeking",
          "Circumspect",
          "Chill",
          "Charismatic",
          "Chaotic",
          "Challenging",
          "Cautious",
          "Casual",
          "Calm",
          "Calculating",
          "Bombastic",
          "Blunt",
          "Bitter",
          "Big picture",
          "Benevolent",
          "Avoidant",
          "Assertive",
          "Ascetic",
          "Artistic",
          "Arrogant",
          "Anxious",
          "Anthropocentric",
          "Animated",
          "Analytical",
          "Altruistic",
          "Agreeable",
          "Adventurous",
          "Acerbic",
          "Accommodating",
          "Accessible",
          "Abstract",
          "Absolutist"
         ],
         "type": "scatter",
         "x": [
          0.7254471563653075,
          -0.32801416928317323,
          0.8804885084172497,
          -0.2599277781484129,
          -0.9292700400635229,
          -0.41690806878686115,
          -0.37902393399890383,
          -0.36388164997475975,
          -0.3883270388312623,
          -0.9555720305142574,
          -0.576805918409111,
          0.24361275347505723,
          0.9106135488399046,
          0.5598920937166932,
          0.4492299839065114,
          0.6630142511125878,
          0.6015815989163426,
          -0.1878411463506052,
          -0.9549705459375502,
          0.3113768447762959,
          0.39177800458010315,
          0.9375409885013648,
          -0.8561067247503837,
          -0.368753257461962,
          -0.22703453907301088,
          0.8483705638840092,
          0.792718908073302,
          0.022308775433910258,
          -0.9166929822394435,
          0.936819775665336,
          -0.610508688972606,
          -0.19199136942817333,
          -0.347733005061515,
          -0.954173669258444,
          0.4647340051193334,
          -0.8347678178501965,
          -0.9587780149616979,
          -0.5210352999919934,
          0.24651474924509734,
          -0.33696126540649607,
          0.9259953951341993,
          -0.0641923922609551,
          0.657619507453023,
          -0.9472606739418191,
          -0.48439639858512673,
          -0.47147044731492876,
          -0.4529455225669154,
          -0.3020713508560934,
          -0.3667819881309068,
          -0.3420855044958214,
          0.2329750760513977,
          -0.3313075404791465,
          0.8477852559893188,
          0.09265072203776914,
          0.8824747909167917,
          -0.519073623946406,
          -0.18210207503473264,
          -0.3619481612208344,
          0.8429974942336427,
          -0.23335425365633813,
          0.47903322904457896,
          0.9264688703917866,
          -0.348041522923769,
          -0.8224916234710404,
          0.9223404855971942,
          0.7570803468798076,
          0.8261129455837021,
          -0.9047522764288684,
          0.8851937173713299,
          -0.45965152059394915,
          -0.2523373240705595,
          -0.6344312117735378,
          -0.1953890284805253,
          0.04020047120022441,
          -0.16775674285053344,
          0.9292315892090842,
          -0.3900781095089516,
          -0.6591205442353031,
          -0.4105249396580636,
          0.5273913930448809,
          -0.9176682162721949,
          -0.4609957224021719,
          0.46822456524018063,
          -0.42542102726777253,
          -0.6770804150961302,
          -0.5546909957064616,
          0.32551297512484745,
          0.8859533928168192,
          0.04752092467749154,
          0.8293667681162741,
          -0.5006796122621111,
          0.8374851486316829,
          -0.5979267419543195,
          -0.35381869992857884,
          0.15100282216497773,
          -0.4337719649882959,
          -0.7680723109809533,
          -0.8919499052481219,
          -0.07156091364881367,
          -0.2624959177161547,
          0.08743390548143117,
          0.4191170635824513,
          0.5288510429645799,
          0.8413998873096951,
          -0.07371081314013761,
          0.15444670730610227,
          0.3309689550403064,
          0.80197200291512,
          -0.8447475570773767,
          -0.4423865969149805,
          -0.1555921024701893,
          0.6933858031588478,
          0.5255917376054946,
          -0.968850846891937,
          0.8199572334952494,
          0.19924322461758182,
          -0.8609598464131537,
          -0.054737475994195824,
          0.8384954812190635,
          -0.06209174314814076,
          -0.4694432989558443,
          0.7236260963285286,
          -0.10186492033161698,
          -0.3013411699167457,
          -0.9605083632513883,
          -0.3408310255452903,
          -0.5056174467825961,
          -0.3828736628271948,
          -0.1506583893093739,
          0.7675612820454573,
          -0.8177365569665005,
          0.18963439357295375,
          0.49144460060830686,
          0.941446986909399,
          0.13004586831190731,
          0.04054245403638309,
          -0.5644608360095489,
          -0.598923847082882,
          -0.7019715560603231,
          -0.26369665935408376,
          0.9095749650768985,
          0.8388454657489143,
          -0.267302803701619,
          0.7210872655693267,
          -0.785192543951006,
          0.9259700279978671,
          0.8138096494316528,
          -0.6806702618305217,
          0.4720918289836388,
          0.8776275095396524,
          0.866614319668637,
          0.14958455971147872,
          0.8581490551290798,
          0.9051280981536255,
          0.929703630610796,
          0.843609056211472,
          -0.9492911661909564,
          -0.8536441020094672,
          -0.5516181848560974,
          0.5242081020200001,
          -0.49593711615653485,
          -0.8048866812399781,
          -0.6650030198112816,
          -0.3715412658912748,
          -0.4726700588412803,
          0.8974491247550789,
          -0.8324847312353224,
          -0.26071025516107965,
          -0.6125983023242564,
          0.9083563954630364,
          -0.33933204267980693,
          -0.9583214336316542,
          0.8132709310834341,
          0.9125661048945095,
          0.6266492509322814,
          -0.5607030340126492,
          0.6149758507461682,
          -0.37512920964248697,
          -0.043348259890490036,
          0.9443328648908644,
          0.16905742338618357,
          -0.9596989321600043,
          -0.8236652329484755,
          0.47060686174882677,
          -0.3755142321477108,
          -0.7178308168188708,
          -0.22509679798485854,
          0.5334557586042935,
          -0.9255328854412636,
          0.9482737551662574,
          0.548734442173176,
          0.9488924233073951,
          -0.035795408939443774,
          0.9104105508117052,
          0.8286251623470997,
          -0.24465543925266672,
          -0.47499910234214865,
          0.9441042018247819,
          0.7359559814243524,
          -0.8966023595478678,
          -0.794950184510809,
          0.5118381799792684,
          0.3721028329995468,
          -0.8702995575568966,
          -0.655742114194387,
          -0.3817438305921276,
          0.7337104607919941,
          -0.901227980384455,
          0.22977534441859507,
          -0.555988511245066,
          0.8450057453471228,
          0.9360453583864463,
          0.05276778609937493,
          0.9176949147839568,
          -0.04261249114226986,
          -0.8854040608194412,
          0.34725961771771713,
          0.3750982606076758,
          -0.33887240097295146,
          -0.5246300182215885
         ],
         "xaxis": "x",
         "y": [
          1,
          1,
          1,
          1,
          1,
          1,
          1,
          1,
          1,
          1,
          1,
          1,
          1,
          1,
          1,
          1,
          1,
          1,
          1,
          1,
          1,
          1,
          1,
          1,
          1,
          1,
          1,
          1,
          1,
          1,
          1,
          1,
          1,
          1,
          1,
          1,
          1,
          1,
          1,
          1,
          1,
          1,
          1,
          1,
          1,
          1,
          1,
          1,
          1,
          1,
          1,
          1,
          1,
          1,
          1,
          1,
          1,
          1,
          1,
          1,
          1,
          1,
          1,
          1,
          1,
          1,
          1,
          1,
          1,
          1,
          1,
          1,
          1,
          1,
          1,
          1,
          1,
          1,
          1,
          1,
          1,
          1,
          1,
          1,
          1,
          1,
          1,
          1,
          1,
          1,
          1,
          1,
          1,
          1,
          1,
          1,
          1,
          1,
          1,
          1,
          1,
          1,
          1,
          1,
          1,
          1,
          1,
          1,
          1,
          1,
          1,
          1,
          1,
          1,
          1,
          1,
          1,
          1,
          1,
          1,
          1,
          1,
          1,
          1,
          1,
          1,
          1,
          1,
          1,
          1,
          1,
          1,
          1,
          1,
          1,
          1,
          1,
          1,
          1,
          1,
          1,
          1,
          1,
          1,
          1,
          1,
          1,
          1,
          1,
          1,
          1,
          1,
          1,
          1,
          1,
          1,
          1,
          1,
          1,
          1,
          1,
          1,
          1,
          1,
          1,
          1,
          1,
          1,
          1,
          1,
          1,
          1,
          1,
          1,
          1,
          1,
          1,
          1,
          1,
          1,
          1,
          1,
          1,
          1,
          1,
          1,
          1,
          1,
          1,
          1,
          1,
          1,
          1,
          1,
          1,
          1,
          1,
          1,
          1,
          1,
          1,
          1,
          1,
          1,
          1,
          1,
          1,
          1,
          1,
          1,
          1,
          1,
          1,
          1,
          1,
          1,
          1,
          1,
          1,
          1
         ],
         "yaxis": "y"
        },
        {
         "hovertemplate": "<b>%{text}</b><br>Cosine Similarity: %{x:.3f}<extra></extra>",
         "marker": {
          "color": "limegreen",
          "line": {
           "color": "black",
           "width": 1
          },
          "opacity": 1,
          "size": 8,
          "symbol": "diamond"
         },
         "mode": "markers",
         "showlegend": false,
         "text": [
          "Verbose",
          "Transparent",
          "Sycophantic",
          "Supportive",
          "Reactive",
          "Proactive",
          "Pensive",
          "Nonchalant",
          "Meticulous",
          "Literal",
          "Introspective",
          "Impulsive",
          "Impatient",
          "Flippant",
          "Eloquent",
          "Efficient",
          "Divergent",
          "Concise",
          "Callous",
          "Adaptable"
         ],
         "type": "scatter",
         "x": [
          0.9670793649941903,
          0.9510346108931805,
          -0.9708152401399436,
          0.9664669796945302,
          -0.9786343273542558,
          0.9841526558799457,
          0.9765867117636251,
          -0.9792573231123178,
          0.965017889476535,
          -0.9741035689829148,
          0.9602513926945353,
          -0.9909451569856229,
          -0.984692030287078,
          -0.984097615668313,
          0.9637404800322502,
          -0.9854174655547493,
          0.9610917308272384,
          -0.9877046963954774,
          -0.9808472465177085,
          0.9715414798670886
         ],
         "xaxis": "x",
         "y": [
          1,
          1,
          1,
          1,
          1,
          1,
          1,
          1,
          1,
          1,
          1,
          1,
          1,
          1,
          1,
          1,
          1,
          1,
          1,
          1
         ],
         "yaxis": "y"
        },
        {
         "hoverinfo": "skip",
         "line": {
          "color": "black",
          "width": 1
         },
         "mode": "lines",
         "showlegend": false,
         "type": "scatter",
         "x": [
          -0.9909451569856229,
          -0.9909451569856229
         ],
         "xaxis": "x",
         "y": [
          1,
          1.45
         ],
         "yaxis": "y"
        },
        {
         "hoverinfo": "skip",
         "line": {
          "color": "black",
          "width": 1
         },
         "mode": "lines",
         "showlegend": false,
         "type": "scatter",
         "x": [
          -0.9877046963954774,
          -0.9877046963954774
         ],
         "xaxis": "x",
         "y": [
          1,
          0.6
         ],
         "yaxis": "y"
        },
        {
         "hoverinfo": "skip",
         "line": {
          "color": "black",
          "width": 1
         },
         "mode": "lines",
         "showlegend": false,
         "type": "scatter",
         "x": [
          -0.9854174655547493,
          -0.9854174655547493
         ],
         "xaxis": "x",
         "y": [
          1,
          1.9
         ],
         "yaxis": "y"
        },
        {
         "hoverinfo": "skip",
         "line": {
          "color": "black",
          "width": 1
         },
         "mode": "lines",
         "showlegend": false,
         "type": "scatter",
         "x": [
          -0.984692030287078,
          -0.984692030287078
         ],
         "xaxis": "x",
         "y": [
          1,
          0.15
         ],
         "yaxis": "y"
        },
        {
         "hoverinfo": "skip",
         "line": {
          "color": "black",
          "width": 1
         },
         "mode": "lines",
         "showlegend": false,
         "type": "scatter",
         "x": [
          -0.984097615668313,
          -0.984097615668313
         ],
         "xaxis": "x",
         "y": [
          1,
          1.6
         ],
         "yaxis": "y"
        },
        {
         "hoverinfo": "skip",
         "line": {
          "color": "black",
          "width": 1
         },
         "mode": "lines",
         "showlegend": false,
         "type": "scatter",
         "x": [
          -0.9808472465177085,
          -0.9808472465177085
         ],
         "xaxis": "x",
         "y": [
          1,
          0.45
         ],
         "yaxis": "y"
        },
        {
         "hoverinfo": "skip",
         "line": {
          "color": "black",
          "width": 1
         },
         "mode": "lines",
         "showlegend": false,
         "type": "scatter",
         "x": [
          -0.9792573231123178,
          -0.9792573231123178
         ],
         "xaxis": "x",
         "y": [
          1,
          1.3
         ],
         "yaxis": "y"
        },
        {
         "hoverinfo": "skip",
         "line": {
          "color": "black",
          "width": 1
         },
         "mode": "lines",
         "showlegend": false,
         "type": "scatter",
         "x": [
          -0.9786343273542558,
          -0.9786343273542558
         ],
         "xaxis": "x",
         "y": [
          1,
          0.75
         ],
         "yaxis": "y"
        },
        {
         "hoverinfo": "skip",
         "line": {
          "color": "black",
          "width": 1
         },
         "mode": "lines",
         "showlegend": false,
         "type": "scatter",
         "x": [
          -0.9741035689829148,
          -0.9741035689829148
         ],
         "xaxis": "x",
         "y": [
          1,
          1.75
         ],
         "yaxis": "y"
        },
        {
         "hoverinfo": "skip",
         "line": {
          "color": "black",
          "width": 1
         },
         "mode": "lines",
         "showlegend": false,
         "type": "scatter",
         "x": [
          -0.9708152401399436,
          -0.9708152401399436
         ],
         "xaxis": "x",
         "y": [
          1,
          0.3
         ],
         "yaxis": "y"
        },
        {
         "hoverinfo": "skip",
         "line": {
          "color": "black",
          "width": 1
         },
         "mode": "lines",
         "showlegend": false,
         "type": "scatter",
         "x": [
          0.9510346108931805,
          0.9510346108931805
         ],
         "xaxis": "x",
         "y": [
          1,
          1.45
         ],
         "yaxis": "y"
        },
        {
         "hoverinfo": "skip",
         "line": {
          "color": "black",
          "width": 1
         },
         "mode": "lines",
         "showlegend": false,
         "type": "scatter",
         "x": [
          0.9602513926945353,
          0.9602513926945353
         ],
         "xaxis": "x",
         "y": [
          1,
          0.6
         ],
         "yaxis": "y"
        },
        {
         "hoverinfo": "skip",
         "line": {
          "color": "black",
          "width": 1
         },
         "mode": "lines",
         "showlegend": false,
         "type": "scatter",
         "x": [
          0.9610917308272384,
          0.9610917308272384
         ],
         "xaxis": "x",
         "y": [
          1,
          1.9
         ],
         "yaxis": "y"
        },
        {
         "hoverinfo": "skip",
         "line": {
          "color": "black",
          "width": 1
         },
         "mode": "lines",
         "showlegend": false,
         "type": "scatter",
         "x": [
          0.9637404800322502,
          0.9637404800322502
         ],
         "xaxis": "x",
         "y": [
          1,
          0.15
         ],
         "yaxis": "y"
        },
        {
         "hoverinfo": "skip",
         "line": {
          "color": "black",
          "width": 1
         },
         "mode": "lines",
         "showlegend": false,
         "type": "scatter",
         "x": [
          0.965017889476535,
          0.965017889476535
         ],
         "xaxis": "x",
         "y": [
          1,
          1.6
         ],
         "yaxis": "y"
        },
        {
         "hoverinfo": "skip",
         "line": {
          "color": "black",
          "width": 1
         },
         "mode": "lines",
         "showlegend": false,
         "type": "scatter",
         "x": [
          0.9664669796945302,
          0.9664669796945302
         ],
         "xaxis": "x",
         "y": [
          1,
          0.45
         ],
         "yaxis": "y"
        },
        {
         "hoverinfo": "skip",
         "line": {
          "color": "black",
          "width": 1
         },
         "mode": "lines",
         "showlegend": false,
         "type": "scatter",
         "x": [
          0.9670793649941903,
          0.9670793649941903
         ],
         "xaxis": "x",
         "y": [
          1,
          1.3
         ],
         "yaxis": "y"
        },
        {
         "hoverinfo": "skip",
         "line": {
          "color": "black",
          "width": 1
         },
         "mode": "lines",
         "showlegend": false,
         "type": "scatter",
         "x": [
          0.9715414798670886,
          0.9715414798670886
         ],
         "xaxis": "x",
         "y": [
          1,
          0.75
         ],
         "yaxis": "y"
        },
        {
         "hoverinfo": "skip",
         "line": {
          "color": "black",
          "width": 1
         },
         "mode": "lines",
         "showlegend": false,
         "type": "scatter",
         "x": [
          0.9765867117636251,
          0.9765867117636251
         ],
         "xaxis": "x",
         "y": [
          1,
          1.75
         ],
         "yaxis": "y"
        },
        {
         "hoverinfo": "skip",
         "line": {
          "color": "black",
          "width": 1
         },
         "mode": "lines",
         "showlegend": false,
         "type": "scatter",
         "x": [
          0.9841526558799457,
          0.9841526558799457
         ],
         "xaxis": "x",
         "y": [
          1,
          0.3
         ],
         "yaxis": "y"
        },
        {
         "hoverinfo": "skip",
         "marker": {
          "color": "limegreen"
         },
         "opacity": 0.7,
         "showlegend": false,
         "type": "bar",
         "width": 0.05266927500974852,
         "x": [
          -0.9580268601045301,
          -0.8921902663423444,
          -0.8263536725801588,
          -0.7605170788179733,
          -0.6946804850557876,
          -0.6288438912936021,
          -0.5630072975314164,
          -0.4971707037692308,
          -0.43133411000704514,
          -0.3654975162448595,
          -0.2996609224826739,
          -0.2338243287204883,
          -0.16798773495830266,
          -0.10215114119611707,
          -0.03631454743393148,
          0.02952204632825417,
          0.09535864009043982,
          0.16119523385262546,
          0.2270318276148111,
          0.29286842137699676,
          0.3587050151391823,
          0.42454160890136783,
          0.4903782026635535,
          0.5562147964257391,
          0.6220513901879248,
          0.6878879839501104,
          0.7537245777122961,
          0.8195611714744816,
          0.8853977652366671,
          0.9512343589988528
         ],
         "xaxis": "x",
         "y": [
          0.825,
          0.3375,
          0.375,
          0.075,
          0.1875,
          0.2625,
          0.225,
          0.4125,
          0.3,
          0.75,
          0.1875,
          0.3375,
          0.2625,
          0.1125,
          0.225,
          0.1875,
          0.075,
          0.225,
          0.1875,
          0.075,
          0.15,
          0.1125,
          0.2625,
          0.2625,
          0.1125,
          0.1125,
          0.2625,
          0.6375000000000001,
          0.5625,
          0.9
         ],
         "yaxis": "y"
        },
        {
         "hovertemplate": "<b>%{text}</b><br>PC Projection: %{x:.3f}<extra></extra>",
         "marker": {
          "color": "limegreen",
          "line": {
           "color": "black",
           "width": 1
          },
          "opacity": 1,
          "size": 8,
          "symbol": "diamond"
         },
         "mode": "markers",
         "showlegend": false,
         "text": [
          "Zealous",
          "Wry",
          "Witty",
          "Whimsical",
          "Visceral",
          "Vindictive",
          "Verbose",
          "Utilitarian",
          "Urgent",
          "Universalist",
          "Understated",
          "Traditional",
          "Theoretical",
          "Temperamental",
          "Technical",
          "Tactful",
          "Systems thinker",
          "Supportive",
          "Subversive",
          "Submissive",
          "Structuralist",
          "Stream of consciousness",
          "Strategic",
          "Stoic",
          "Spontaneous",
          "Spiritual",
          "Speculative",
          "Specialized",
          "Solemn",
          "Socratic",
          "Skeptical",
          "Serious",
          "Serene",
          "Secular",
          "Savage",
          "Sassy",
          "Sardonic",
          "Sarcastic",
          "Romantic",
          "Ritualistic",
          "Risk taking",
          "Rhetorical",
          "Reverent",
          "Resilient",
          "Relativist",
          "Regulatory",
          "Reductionist",
          "Rebellious",
          "Rationalist",
          "Radical",
          "Quantitative",
          "Qualitative",
          "Provocative",
          "Progressive",
          "Problem solving",
          "Principled",
          "Prescriptive",
          "Practical",
          "Poetic",
          "Pluralist",
          "Playful",
          "Philosophical",
          "Petty",
          "Pessimistic",
          "Perfectionist",
          "Pedantic",
          "Patient",
          "Passive aggressive",
          "Passionate",
          "Paranoid",
          "Paradoxical",
          "Pacifist",
          "Optimistic",
          "Open ended",
          "Obsessive",
          "Nurturing",
          "Nostalgic",
          "Nihilistic",
          "Neurotic",
          "Narrative",
          "Naive",
          "Mystical",
          "Moderate",
          "Mischievous",
          "Misanthropic",
          "Militant",
          "Methodical",
          "Metaphorical",
          "Mercurial",
          "Melodramatic",
          "Melancholic",
          "Meditative",
          "Materialist",
          "Manipulative",
          "Manic",
          "Literal",
          "Libertarian",
          "Judgmental",
          "Irreverent",
          "Ironic",
          "Intuitive",
          "Introverted",
          "Interdisciplinary",
          "Inspirational",
          "Inquisitive",
          "Innovative",
          "Individualistic",
          "Independent",
          "Inclusive",
          "Improvisational",
          "Idealistic",
          "Iconoclastic",
          "Humble",
          "Humanistic",
          "Hostile",
          "Holistic",
          "Historical",
          "Hedonistic",
          "Grounded",
          "Gregarious",
          "Grandiose",
          "Goofy",
          "Generous",
          "Generalist",
          "Futuristic",
          "Fundamentalist",
          "Formalist",
          "Formal",
          "Forgiving",
          "Flirty",
          "Flexible",
          "Fatalistic",
          "Factual",
          "Extroverted",
          "Exploratory",
          "Experiential",
          "Existentialist",
          "Evil",
          "Ethereal",
          "Essentialist",
          "Esoteric",
          "Erudite",
          "Epicurean",
          "Environmental",
          "Entertaining",
          "Enigmatic",
          "Empathetic",
          "Emotional",
          "Elitist",
          "Egalitarian",
          "Effusive",
          "Educational",
          "Edgy",
          "Eclectic",
          "Earnest",
          "Dominant",
          "Dogmatic",
          "Dispassionate",
          "Disorganized",
          "Diplomatic",
          "Deterministic",
          "Detached",
          "Descriptive",
          "Deontological",
          "Deferential",
          "Deconstructionist",
          "Decisive",
          "Data driven",
          "Cynical",
          "Curious",
          "Cryptic",
          "Cruel",
          "Critical",
          "Creative",
          "Cosmopolitan",
          "Convergent",
          "Contrarian",
          "Contemporary",
          "Constructivist",
          "Conscientious",
          "Confrontational",
          "Confident",
          "Condescending",
          "Conciliatory",
          "Conceptual",
          "Competitive",
          "Collectivistic",
          "Collaborative",
          "Closure seeking",
          "Circumspect",
          "Chill",
          "Charismatic",
          "Chaotic",
          "Challenging",
          "Cautious",
          "Casual",
          "Calm",
          "Calculating",
          "Bombastic",
          "Blunt",
          "Bitter",
          "Big picture",
          "Benevolent",
          "Avoidant",
          "Assertive",
          "Ascetic",
          "Artistic",
          "Arrogant",
          "Anxious",
          "Anthropocentric",
          "Animated",
          "Analytical",
          "Altruistic",
          "Agreeable",
          "Adventurous",
          "Acerbic",
          "Accommodating",
          "Accessible",
          "Abstract",
          "Absolutist"
         ],
         "type": "scatter",
         "x": [
          48.17413111885875,
          -13.803817851839087,
          70.06806791067464,
          -12.581949532288064,
          -79.6497690572088,
          -18.191545897512906,
          98.72819918179934,
          -16.780725715953555,
          -18.72105455250269,
          -21.24489642910569,
          -117.97998158955745,
          -36.88292788394539,
          10.955040014566157,
          36.66336372306842,
          22.832525523759898,
          31.55843023304457,
          34.86734765360437,
          106.38395302861933,
          -7.009245539920604,
          -85.45996969035461,
          14.945075319224541,
          17.176069345343976,
          87.67712770673994,
          -63.69643175331159,
          -15.933642214924253,
          -14.683173721152794,
          42.236283737175334,
          52.4441509723401,
          0.9494335265855767,
          -84.15355152436585,
          87.23813957315666,
          -38.47421361803425,
          -9.486176355227972,
          -21.27219484452582,
          -89.01326828421149,
          16.33643988082782,
          -56.30203609155988,
          -83.48891371090399,
          -33.790609209728245,
          14.830228555276657,
          -13.373359752075215,
          86.76515819325152,
          -3.110838724392691,
          35.25309575991045,
          -26.648047566501983,
          -23.49558184019921,
          -20.875581865466682,
          -15.179094610624412,
          -18.593500640867223,
          -16.30905145041314,
          13.292557462289126,
          -18.834652448285173,
          60.943950430475574,
          4.1014556071008235,
          68.87733519612728,
          -20.723031912697042,
          -9.544230937312319,
          -22.605038093027304,
          53.72577673882464,
          -8.825234360971603,
          21.6236565052968,
          79.81993139545357,
          -19.330663276256576,
          -51.774718814823395,
          76.12037221500871,
          51.436225418275235,
          52.05425768450386,
          -68.25153201599865,
          72.35557728926736,
          -19.532697994164575,
          -10.203533405657627,
          -30.534281890286294,
          -10.339129116172847,
          1.8001972977689578,
          -8.15473728968015,
          91.62158816700646,
          -20.896778797365567,
          -47.658450323340155,
          -22.364156673317755,
          30.943603178539504,
          -107.5809294160956,
          -27.855140363630028,
          21.99542877765454,
          -20.085405135139013,
          -44.54331824607075,
          -32.290413782191784,
          16.48452199693057,
          86.42351931218853,
          2.3647860016538833,
          73.44778248000601,
          -24.95614475129071,
          86.51606482550365,
          -32.46331596270065,
          -20.151061689689854,
          9.569882786847975,
          -122.95276575257513,
          -23.26055500785745,
          -43.4935127095259,
          -69.89356933720065,
          -3.2174116311671557,
          -13.593409145983921,
          3.906663347034903,
          13.792463007029456,
          29.67497620149319,
          49.13230786251619,
          -3.206965045601246,
          4.826181521189868,
          12.9046404468943,
          47.34881322431319,
          -53.48962775961595,
          -22.92347252954376,
          -6.769432846860413,
          36.89188915362327,
          27.081413830498178,
          -103.2743172155583,
          51.16994313366305,
          9.74416899932434,
          -67.86801464132759,
          -3.036792808653141,
          50.07256184102765,
          -2.6042140930817648,
          -27.216150037786743,
          51.57725715801202,
          -3.8440519854969644,
          -13.804662396257438,
          -104.54678301666277,
          -17.03438996120642,
          -22.29416232855883,
          -17.04130292832594,
          -8.489740205469033,
          44.604962942194454,
          -56.313694499646886,
          9.070321916197678,
          19.220743587605757,
          89.03389101812915,
          6.344834371073776,
          2.0625159962055752,
          -35.08055269366007,
          -38.544774339652164,
          -40.4109892696231,
          -16.65685243612959,
          78.92828569423197,
          56.39208911217387,
          -13.950804155686564,
          42.79632177526569,
          -51.40190813173316,
          79.73088555470963,
          58.5076127135522,
          -41.66799095257158,
          21.587091550715627,
          80.95832548928287,
          71.78809896367567,
          7.098028321633432,
          52.53104127735515,
          67.65369858708267,
          50.343251530530104,
          -87.72555006693217,
          -74.6366702140618,
          -38.4128425996301,
          25.03203671393396,
          -30.767267522228806,
          -61.93654352500471,
          -44.16112802201097,
          -20.277063267409055,
          -19.9328795798094,
          80.5225120964141,
          -67.22680040795073,
          -14.717506856703773,
          -32.006546038450686,
          73.59528858288498,
          -15.291306832102455,
          -94.91710545297228,
          56.33627363656692,
          71.11425771723076,
          29.9111230584566,
          -22.156832380238196,
          30.997892189509177,
          -20.05716045113048,
          -2.37478676947167,
          88.19830631278337,
          6.3023418836169105,
          -99.45499624489052,
          -51.531784652126824,
          20.84703631284244,
          -19.239583661582238,
          -46.412177531691015,
          -10.25429843799697,
          25.44545140946805,
          -82.19753364577174,
          78.69110909550687,
          25.48350932808906,
          94.25279853857191,
          -1.5839685700579595,
          66.93731886743235,
          51.32469370514223,
          -9.643350095265012,
          -28.344982154125283,
          102.59122799553904,
          58.99842281976244,
          -64.46572469082784,
          -50.9331554939544,
          23.43231053517813,
          18.79203622173994,
          -60.26296565366299,
          -31.501701672359854,
          -21.356122524076277,
          48.3748071887125,
          -73.29855102925617,
          12.336881575146524,
          -23.088469384911527,
          64.72535646135944,
          98.31617786655994,
          2.563073082421503,
          70.96464233837092,
          -1.931611130106024,
          -67.99927763672314,
          11.095959096839227,
          22.548281372094305,
          -16.739871798284558,
          -29.069258930451465
         ],
         "xaxis": "x2",
         "y": [
          1,
          1,
          1,
          1,
          1,
          1,
          1,
          1,
          1,
          1,
          1,
          1,
          1,
          1,
          1,
          1,
          1,
          1,
          1,
          1,
          1,
          1,
          1,
          1,
          1,
          1,
          1,
          1,
          1,
          1,
          1,
          1,
          1,
          1,
          1,
          1,
          1,
          1,
          1,
          1,
          1,
          1,
          1,
          1,
          1,
          1,
          1,
          1,
          1,
          1,
          1,
          1,
          1,
          1,
          1,
          1,
          1,
          1,
          1,
          1,
          1,
          1,
          1,
          1,
          1,
          1,
          1,
          1,
          1,
          1,
          1,
          1,
          1,
          1,
          1,
          1,
          1,
          1,
          1,
          1,
          1,
          1,
          1,
          1,
          1,
          1,
          1,
          1,
          1,
          1,
          1,
          1,
          1,
          1,
          1,
          1,
          1,
          1,
          1,
          1,
          1,
          1,
          1,
          1,
          1,
          1,
          1,
          1,
          1,
          1,
          1,
          1,
          1,
          1,
          1,
          1,
          1,
          1,
          1,
          1,
          1,
          1,
          1,
          1,
          1,
          1,
          1,
          1,
          1,
          1,
          1,
          1,
          1,
          1,
          1,
          1,
          1,
          1,
          1,
          1,
          1,
          1,
          1,
          1,
          1,
          1,
          1,
          1,
          1,
          1,
          1,
          1,
          1,
          1,
          1,
          1,
          1,
          1,
          1,
          1,
          1,
          1,
          1,
          1,
          1,
          1,
          1,
          1,
          1,
          1,
          1,
          1,
          1,
          1,
          1,
          1,
          1,
          1,
          1,
          1,
          1,
          1,
          1,
          1,
          1,
          1,
          1,
          1,
          1,
          1,
          1,
          1,
          1,
          1,
          1,
          1,
          1,
          1,
          1,
          1,
          1,
          1,
          1,
          1,
          1,
          1,
          1,
          1,
          1,
          1,
          1,
          1,
          1,
          1,
          1,
          1,
          1,
          1,
          1,
          1
         ],
         "yaxis": "y2"
        },
        {
         "hovertemplate": "<b>%{text}</b><br>PC Projection: %{x:.3f}<extra></extra>",
         "marker": {
          "color": "limegreen",
          "line": {
           "color": "black",
           "width": 1
          },
          "opacity": 1,
          "size": 8,
          "symbol": "diamond"
         },
         "mode": "markers",
         "showlegend": false,
         "text": [
          "Transparent",
          "Theatrical",
          "Sycophantic",
          "Reserved",
          "Reactive",
          "Proactive",
          "Pensive",
          "Nonchalant",
          "Meticulous",
          "Introspective",
          "Impulsive",
          "Impatient",
          "Flippant",
          "Eloquent",
          "Efficient",
          "Dramatic",
          "Divergent",
          "Concise",
          "Callous",
          "Adaptable"
         ],
         "type": "scatter",
         "x": [
          109.37204205031199,
          115.03954801748856,
          -124.3923095026789,
          -132.1130307492306,
          -126.4017274740716,
          141.5008968616248,
          111.2132151704574,
          -127.84528904695038,
          114.47608635800643,
          121.69543151403639,
          -171.76527377714405,
          -126.72344557987324,
          -134.96462729158247,
          114.95672054857741,
          -146.4664371058407,
          109.82444032890871,
          112.95895050097857,
          -155.52160695962579,
          -141.20958587959583,
          117.73285716333417
         ],
         "xaxis": "x2",
         "y": [
          1,
          1,
          1,
          1,
          1,
          1,
          1,
          1,
          1,
          1,
          1,
          1,
          1,
          1,
          1,
          1,
          1,
          1,
          1,
          1
         ],
         "yaxis": "y2"
        },
        {
         "hoverinfo": "skip",
         "line": {
          "color": "black",
          "width": 1
         },
         "mode": "lines",
         "showlegend": false,
         "type": "scatter",
         "x": [
          -171.76527377714405,
          -171.76527377714405
         ],
         "xaxis": "x2",
         "y": [
          1,
          1.45
         ],
         "yaxis": "y2"
        },
        {
         "hoverinfo": "skip",
         "line": {
          "color": "black",
          "width": 1
         },
         "mode": "lines",
         "showlegend": false,
         "type": "scatter",
         "x": [
          -155.52160695962579,
          -155.52160695962579
         ],
         "xaxis": "x2",
         "y": [
          1,
          0.6
         ],
         "yaxis": "y2"
        },
        {
         "hoverinfo": "skip",
         "line": {
          "color": "black",
          "width": 1
         },
         "mode": "lines",
         "showlegend": false,
         "type": "scatter",
         "x": [
          -146.4664371058407,
          -146.4664371058407
         ],
         "xaxis": "x2",
         "y": [
          1,
          1.9
         ],
         "yaxis": "y2"
        },
        {
         "hoverinfo": "skip",
         "line": {
          "color": "black",
          "width": 1
         },
         "mode": "lines",
         "showlegend": false,
         "type": "scatter",
         "x": [
          -141.20958587959583,
          -141.20958587959583
         ],
         "xaxis": "x2",
         "y": [
          1,
          0.15
         ],
         "yaxis": "y2"
        },
        {
         "hoverinfo": "skip",
         "line": {
          "color": "black",
          "width": 1
         },
         "mode": "lines",
         "showlegend": false,
         "type": "scatter",
         "x": [
          -134.96462729158247,
          -134.96462729158247
         ],
         "xaxis": "x2",
         "y": [
          1,
          1.6
         ],
         "yaxis": "y2"
        },
        {
         "hoverinfo": "skip",
         "line": {
          "color": "black",
          "width": 1
         },
         "mode": "lines",
         "showlegend": false,
         "type": "scatter",
         "x": [
          -132.1130307492306,
          -132.1130307492306
         ],
         "xaxis": "x2",
         "y": [
          1,
          0.45
         ],
         "yaxis": "y2"
        },
        {
         "hoverinfo": "skip",
         "line": {
          "color": "black",
          "width": 1
         },
         "mode": "lines",
         "showlegend": false,
         "type": "scatter",
         "x": [
          -127.84528904695038,
          -127.84528904695038
         ],
         "xaxis": "x2",
         "y": [
          1,
          1.3
         ],
         "yaxis": "y2"
        },
        {
         "hoverinfo": "skip",
         "line": {
          "color": "black",
          "width": 1
         },
         "mode": "lines",
         "showlegend": false,
         "type": "scatter",
         "x": [
          -126.72344557987324,
          -126.72344557987324
         ],
         "xaxis": "x2",
         "y": [
          1,
          0.75
         ],
         "yaxis": "y2"
        },
        {
         "hoverinfo": "skip",
         "line": {
          "color": "black",
          "width": 1
         },
         "mode": "lines",
         "showlegend": false,
         "type": "scatter",
         "x": [
          -126.4017274740716,
          -126.4017274740716
         ],
         "xaxis": "x2",
         "y": [
          1,
          1.75
         ],
         "yaxis": "y2"
        },
        {
         "hoverinfo": "skip",
         "line": {
          "color": "black",
          "width": 1
         },
         "mode": "lines",
         "showlegend": false,
         "type": "scatter",
         "x": [
          -124.3923095026789,
          -124.3923095026789
         ],
         "xaxis": "x2",
         "y": [
          1,
          0.3
         ],
         "yaxis": "y2"
        },
        {
         "hoverinfo": "skip",
         "line": {
          "color": "black",
          "width": 1
         },
         "mode": "lines",
         "showlegend": false,
         "type": "scatter",
         "x": [
          109.37204205031199,
          109.37204205031199
         ],
         "xaxis": "x2",
         "y": [
          1,
          1.45
         ],
         "yaxis": "y2"
        },
        {
         "hoverinfo": "skip",
         "line": {
          "color": "black",
          "width": 1
         },
         "mode": "lines",
         "showlegend": false,
         "type": "scatter",
         "x": [
          109.82444032890871,
          109.82444032890871
         ],
         "xaxis": "x2",
         "y": [
          1,
          0.6
         ],
         "yaxis": "y2"
        },
        {
         "hoverinfo": "skip",
         "line": {
          "color": "black",
          "width": 1
         },
         "mode": "lines",
         "showlegend": false,
         "type": "scatter",
         "x": [
          111.2132151704574,
          111.2132151704574
         ],
         "xaxis": "x2",
         "y": [
          1,
          1.9
         ],
         "yaxis": "y2"
        },
        {
         "hoverinfo": "skip",
         "line": {
          "color": "black",
          "width": 1
         },
         "mode": "lines",
         "showlegend": false,
         "type": "scatter",
         "x": [
          112.95895050097857,
          112.95895050097857
         ],
         "xaxis": "x2",
         "y": [
          1,
          0.15
         ],
         "yaxis": "y2"
        },
        {
         "hoverinfo": "skip",
         "line": {
          "color": "black",
          "width": 1
         },
         "mode": "lines",
         "showlegend": false,
         "type": "scatter",
         "x": [
          114.47608635800643,
          114.47608635800643
         ],
         "xaxis": "x2",
         "y": [
          1,
          1.6
         ],
         "yaxis": "y2"
        },
        {
         "hoverinfo": "skip",
         "line": {
          "color": "black",
          "width": 1
         },
         "mode": "lines",
         "showlegend": false,
         "type": "scatter",
         "x": [
          114.95672054857741,
          114.95672054857741
         ],
         "xaxis": "x2",
         "y": [
          1,
          0.45
         ],
         "yaxis": "y2"
        },
        {
         "hoverinfo": "skip",
         "line": {
          "color": "black",
          "width": 1
         },
         "mode": "lines",
         "showlegend": false,
         "type": "scatter",
         "x": [
          115.03954801748856,
          115.03954801748856
         ],
         "xaxis": "x2",
         "y": [
          1,
          1.3
         ],
         "yaxis": "y2"
        },
        {
         "hoverinfo": "skip",
         "line": {
          "color": "black",
          "width": 1
         },
         "mode": "lines",
         "showlegend": false,
         "type": "scatter",
         "x": [
          117.73285716333417,
          117.73285716333417
         ],
         "xaxis": "x2",
         "y": [
          1,
          0.75
         ],
         "yaxis": "y2"
        },
        {
         "hoverinfo": "skip",
         "line": {
          "color": "black",
          "width": 1
         },
         "mode": "lines",
         "showlegend": false,
         "type": "scatter",
         "x": [
          121.69543151403639,
          121.69543151403639
         ],
         "xaxis": "x2",
         "y": [
          1,
          1.75
         ],
         "yaxis": "y2"
        },
        {
         "hoverinfo": "skip",
         "line": {
          "color": "black",
          "width": 1
         },
         "mode": "lines",
         "showlegend": false,
         "type": "scatter",
         "x": [
          141.5008968616248,
          141.5008968616248
         ],
         "xaxis": "x2",
         "y": [
          1,
          0.3
         ],
         "yaxis": "y2"
        },
        {
         "hoverinfo": "skip",
         "marker": {
          "color": "limegreen"
         },
         "opacity": 0.7,
         "showlegend": false,
         "type": "bar",
         "width": 8.353764550367169,
         "x": [
          -166.54417093316457,
          -156.1019652452056,
          -145.65975955724664,
          -135.21755386928768,
          -124.77534818132872,
          -114.33314249336976,
          -103.8909368054108,
          -93.44873111745184,
          -83.00652542949288,
          -72.56431974153392,
          -62.12211405357496,
          -51.679908365616,
          -41.23770267765704,
          -30.79549698969808,
          -20.35329130173912,
          -9.911085613780159,
          0.5311200741788014,
          10.973325762137762,
          21.415531450096722,
          31.857737138055683,
          42.29994282601464,
          52.7421485139736,
          63.184354201932564,
          73.62655988989152,
          84.06876557785048,
          94.51097126580945,
          104.9531769537684,
          115.39538264172737,
          125.83758832968633,
          136.27979401764532
         ],
         "xaxis": "x2",
         "y": [
          0.024999999999999998,
          0.024999999999999998,
          0.049999999999999996,
          0.049999999999999996,
          0.125,
          0.024999999999999998,
          0.09999999999999999,
          0.049999999999999996,
          0.15,
          0.15,
          0.125,
          0.19999999999999998,
          0.25,
          0.325,
          0.9,
          0.47500000000000003,
          0.425,
          0.35000000000000003,
          0.375,
          0.25,
          0.09999999999999999,
          0.375,
          0.15,
          0.25,
          0.3,
          0.09999999999999999,
          0.09999999999999999,
          0.15,
          0.024999999999999998,
          0.024999999999999998
         ],
         "yaxis": "y2"
        }
       ],
       "layout": {
        "annotations": [
         {
          "font": {
           "size": 16
          },
          "showarrow": false,
          "text": "PC1 Cosine Similarity",
          "x": 0.5,
          "xanchor": "center",
          "xref": "paper",
          "y": 1,
          "yanchor": "bottom",
          "yref": "paper"
         },
         {
          "font": {
           "size": 16
          },
          "showarrow": false,
          "text": "PC1 Projection",
          "x": 0.5,
          "xanchor": "center",
          "xref": "paper",
          "y": 0.45,
          "yanchor": "bottom",
          "yref": "paper"
         },
         {
          "bgcolor": "rgba(255, 255, 255, 0.9)",
          "bordercolor": "black",
          "borderwidth": 1,
          "font": {
           "color": "black",
           "size": 10
          },
          "showarrow": false,
          "text": "Impulsive",
          "x": -0.9909451569856229,
          "xref": "x",
          "y": 1.45,
          "yref": "y"
         },
         {
          "bgcolor": "rgba(255, 255, 255, 0.9)",
          "bordercolor": "black",
          "borderwidth": 1,
          "font": {
           "color": "black",
           "size": 10
          },
          "showarrow": false,
          "text": "Concise",
          "x": -0.9877046963954774,
          "xref": "x",
          "y": 0.6,
          "yref": "y"
         },
         {
          "bgcolor": "rgba(255, 255, 255, 0.9)",
          "bordercolor": "black",
          "borderwidth": 1,
          "font": {
           "color": "black",
           "size": 10
          },
          "showarrow": false,
          "text": "Efficient",
          "x": -0.9854174655547493,
          "xref": "x",
          "y": 1.9,
          "yref": "y"
         },
         {
          "bgcolor": "rgba(255, 255, 255, 0.9)",
          "bordercolor": "black",
          "borderwidth": 1,
          "font": {
           "color": "black",
           "size": 10
          },
          "showarrow": false,
          "text": "Impatient",
          "x": -0.984692030287078,
          "xref": "x",
          "y": 0.15,
          "yref": "y"
         },
         {
          "bgcolor": "rgba(255, 255, 255, 0.9)",
          "bordercolor": "black",
          "borderwidth": 1,
          "font": {
           "color": "black",
           "size": 10
          },
          "showarrow": false,
          "text": "Flippant",
          "x": -0.984097615668313,
          "xref": "x",
          "y": 1.6,
          "yref": "y"
         },
         {
          "bgcolor": "rgba(255, 255, 255, 0.9)",
          "bordercolor": "black",
          "borderwidth": 1,
          "font": {
           "color": "black",
           "size": 10
          },
          "showarrow": false,
          "text": "Callous",
          "x": -0.9808472465177085,
          "xref": "x",
          "y": 0.45,
          "yref": "y"
         },
         {
          "bgcolor": "rgba(255, 255, 255, 0.9)",
          "bordercolor": "black",
          "borderwidth": 1,
          "font": {
           "color": "black",
           "size": 10
          },
          "showarrow": false,
          "text": "Nonchalant",
          "x": -0.9792573231123178,
          "xref": "x",
          "y": 1.3,
          "yref": "y"
         },
         {
          "bgcolor": "rgba(255, 255, 255, 0.9)",
          "bordercolor": "black",
          "borderwidth": 1,
          "font": {
           "color": "black",
           "size": 10
          },
          "showarrow": false,
          "text": "Reactive",
          "x": -0.9786343273542558,
          "xref": "x",
          "y": 0.75,
          "yref": "y"
         },
         {
          "bgcolor": "rgba(255, 255, 255, 0.9)",
          "bordercolor": "black",
          "borderwidth": 1,
          "font": {
           "color": "black",
           "size": 10
          },
          "showarrow": false,
          "text": "Literal",
          "x": -0.9741035689829148,
          "xref": "x",
          "y": 1.75,
          "yref": "y"
         },
         {
          "bgcolor": "rgba(255, 255, 255, 0.9)",
          "bordercolor": "black",
          "borderwidth": 1,
          "font": {
           "color": "black",
           "size": 10
          },
          "showarrow": false,
          "text": "Sycophantic",
          "x": -0.9708152401399436,
          "xref": "x",
          "y": 0.3,
          "yref": "y"
         },
         {
          "bgcolor": "rgba(255, 255, 255, 0.9)",
          "bordercolor": "black",
          "borderwidth": 1,
          "font": {
           "color": "black",
           "size": 10
          },
          "showarrow": false,
          "text": "Transparent",
          "x": 0.9510346108931805,
          "xref": "x",
          "y": 1.45,
          "yref": "y"
         },
         {
          "bgcolor": "rgba(255, 255, 255, 0.9)",
          "bordercolor": "black",
          "borderwidth": 1,
          "font": {
           "color": "black",
           "size": 10
          },
          "showarrow": false,
          "text": "Introspective",
          "x": 0.9602513926945353,
          "xref": "x",
          "y": 0.6,
          "yref": "y"
         },
         {
          "bgcolor": "rgba(255, 255, 255, 0.9)",
          "bordercolor": "black",
          "borderwidth": 1,
          "font": {
           "color": "black",
           "size": 10
          },
          "showarrow": false,
          "text": "Divergent",
          "x": 0.9610917308272384,
          "xref": "x",
          "y": 1.9,
          "yref": "y"
         },
         {
          "bgcolor": "rgba(255, 255, 255, 0.9)",
          "bordercolor": "black",
          "borderwidth": 1,
          "font": {
           "color": "black",
           "size": 10
          },
          "showarrow": false,
          "text": "Eloquent",
          "x": 0.9637404800322502,
          "xref": "x",
          "y": 0.15,
          "yref": "y"
         },
         {
          "bgcolor": "rgba(255, 255, 255, 0.9)",
          "bordercolor": "black",
          "borderwidth": 1,
          "font": {
           "color": "black",
           "size": 10
          },
          "showarrow": false,
          "text": "Meticulous",
          "x": 0.965017889476535,
          "xref": "x",
          "y": 1.6,
          "yref": "y"
         },
         {
          "bgcolor": "rgba(255, 255, 255, 0.9)",
          "bordercolor": "black",
          "borderwidth": 1,
          "font": {
           "color": "black",
           "size": 10
          },
          "showarrow": false,
          "text": "Supportive",
          "x": 0.9664669796945302,
          "xref": "x",
          "y": 0.45,
          "yref": "y"
         },
         {
          "bgcolor": "rgba(255, 255, 255, 0.9)",
          "bordercolor": "black",
          "borderwidth": 1,
          "font": {
           "color": "black",
           "size": 10
          },
          "showarrow": false,
          "text": "Verbose",
          "x": 0.9670793649941903,
          "xref": "x",
          "y": 1.3,
          "yref": "y"
         },
         {
          "bgcolor": "rgba(255, 255, 255, 0.9)",
          "bordercolor": "black",
          "borderwidth": 1,
          "font": {
           "color": "black",
           "size": 10
          },
          "showarrow": false,
          "text": "Adaptable",
          "x": 0.9715414798670886,
          "xref": "x",
          "y": 0.75,
          "yref": "y"
         },
         {
          "bgcolor": "rgba(255, 255, 255, 0.9)",
          "bordercolor": "black",
          "borderwidth": 1,
          "font": {
           "color": "black",
           "size": 10
          },
          "showarrow": false,
          "text": "Pensive",
          "x": 0.9765867117636251,
          "xref": "x",
          "y": 1.75,
          "yref": "y"
         },
         {
          "bgcolor": "rgba(255, 255, 255, 0.9)",
          "bordercolor": "black",
          "borderwidth": 1,
          "font": {
           "color": "black",
           "size": 10
          },
          "showarrow": false,
          "text": "Proactive",
          "x": 0.9841526558799457,
          "xref": "x",
          "y": 0.3,
          "yref": "y"
         },
         {
          "bgcolor": "rgba(255, 255, 255, 0.9)",
          "bordercolor": "red",
          "borderwidth": 1,
          "font": {
           "color": "red",
           "size": 14
          },
          "showarrow": false,
          "text": "Assistant",
          "x": -0.4786581890617816,
          "xref": "x",
          "y": 2,
          "yref": "y"
         },
         {
          "bgcolor": "rgba(255, 255, 255, 0.9)",
          "bordercolor": "black",
          "borderwidth": 1,
          "font": {
           "color": "black",
           "size": 10
          },
          "showarrow": false,
          "text": "Impulsive",
          "x": -171.76527377714405,
          "xref": "x2",
          "y": 1.45,
          "yref": "y2"
         },
         {
          "bgcolor": "rgba(255, 255, 255, 0.9)",
          "bordercolor": "black",
          "borderwidth": 1,
          "font": {
           "color": "black",
           "size": 10
          },
          "showarrow": false,
          "text": "Concise",
          "x": -155.52160695962579,
          "xref": "x2",
          "y": 0.6,
          "yref": "y2"
         },
         {
          "bgcolor": "rgba(255, 255, 255, 0.9)",
          "bordercolor": "black",
          "borderwidth": 1,
          "font": {
           "color": "black",
           "size": 10
          },
          "showarrow": false,
          "text": "Efficient",
          "x": -146.4664371058407,
          "xref": "x2",
          "y": 1.9,
          "yref": "y2"
         },
         {
          "bgcolor": "rgba(255, 255, 255, 0.9)",
          "bordercolor": "black",
          "borderwidth": 1,
          "font": {
           "color": "black",
           "size": 10
          },
          "showarrow": false,
          "text": "Callous",
          "x": -141.20958587959583,
          "xref": "x2",
          "y": 0.15,
          "yref": "y2"
         },
         {
          "bgcolor": "rgba(255, 255, 255, 0.9)",
          "bordercolor": "black",
          "borderwidth": 1,
          "font": {
           "color": "black",
           "size": 10
          },
          "showarrow": false,
          "text": "Flippant",
          "x": -134.96462729158247,
          "xref": "x2",
          "y": 1.6,
          "yref": "y2"
         },
         {
          "bgcolor": "rgba(255, 255, 255, 0.9)",
          "bordercolor": "black",
          "borderwidth": 1,
          "font": {
           "color": "black",
           "size": 10
          },
          "showarrow": false,
          "text": "Reserved",
          "x": -132.1130307492306,
          "xref": "x2",
          "y": 0.45,
          "yref": "y2"
         },
         {
          "bgcolor": "rgba(255, 255, 255, 0.9)",
          "bordercolor": "black",
          "borderwidth": 1,
          "font": {
           "color": "black",
           "size": 10
          },
          "showarrow": false,
          "text": "Nonchalant",
          "x": -127.84528904695038,
          "xref": "x2",
          "y": 1.3,
          "yref": "y2"
         },
         {
          "bgcolor": "rgba(255, 255, 255, 0.9)",
          "bordercolor": "black",
          "borderwidth": 1,
          "font": {
           "color": "black",
           "size": 10
          },
          "showarrow": false,
          "text": "Impatient",
          "x": -126.72344557987324,
          "xref": "x2",
          "y": 0.75,
          "yref": "y2"
         },
         {
          "bgcolor": "rgba(255, 255, 255, 0.9)",
          "bordercolor": "black",
          "borderwidth": 1,
          "font": {
           "color": "black",
           "size": 10
          },
          "showarrow": false,
          "text": "Reactive",
          "x": -126.4017274740716,
          "xref": "x2",
          "y": 1.75,
          "yref": "y2"
         },
         {
          "bgcolor": "rgba(255, 255, 255, 0.9)",
          "bordercolor": "black",
          "borderwidth": 1,
          "font": {
           "color": "black",
           "size": 10
          },
          "showarrow": false,
          "text": "Sycophantic",
          "x": -124.3923095026789,
          "xref": "x2",
          "y": 0.3,
          "yref": "y2"
         },
         {
          "bgcolor": "rgba(255, 255, 255, 0.9)",
          "bordercolor": "black",
          "borderwidth": 1,
          "font": {
           "color": "black",
           "size": 10
          },
          "showarrow": false,
          "text": "Transparent",
          "x": 109.37204205031199,
          "xref": "x2",
          "y": 1.45,
          "yref": "y2"
         },
         {
          "bgcolor": "rgba(255, 255, 255, 0.9)",
          "bordercolor": "black",
          "borderwidth": 1,
          "font": {
           "color": "black",
           "size": 10
          },
          "showarrow": false,
          "text": "Dramatic",
          "x": 109.82444032890871,
          "xref": "x2",
          "y": 0.6,
          "yref": "y2"
         },
         {
          "bgcolor": "rgba(255, 255, 255, 0.9)",
          "bordercolor": "black",
          "borderwidth": 1,
          "font": {
           "color": "black",
           "size": 10
          },
          "showarrow": false,
          "text": "Pensive",
          "x": 111.2132151704574,
          "xref": "x2",
          "y": 1.9,
          "yref": "y2"
         },
         {
          "bgcolor": "rgba(255, 255, 255, 0.9)",
          "bordercolor": "black",
          "borderwidth": 1,
          "font": {
           "color": "black",
           "size": 10
          },
          "showarrow": false,
          "text": "Divergent",
          "x": 112.95895050097857,
          "xref": "x2",
          "y": 0.15,
          "yref": "y2"
         },
         {
          "bgcolor": "rgba(255, 255, 255, 0.9)",
          "bordercolor": "black",
          "borderwidth": 1,
          "font": {
           "color": "black",
           "size": 10
          },
          "showarrow": false,
          "text": "Meticulous",
          "x": 114.47608635800643,
          "xref": "x2",
          "y": 1.6,
          "yref": "y2"
         },
         {
          "bgcolor": "rgba(255, 255, 255, 0.9)",
          "bordercolor": "black",
          "borderwidth": 1,
          "font": {
           "color": "black",
           "size": 10
          },
          "showarrow": false,
          "text": "Eloquent",
          "x": 114.95672054857741,
          "xref": "x2",
          "y": 0.45,
          "yref": "y2"
         },
         {
          "bgcolor": "rgba(255, 255, 255, 0.9)",
          "bordercolor": "black",
          "borderwidth": 1,
          "font": {
           "color": "black",
           "size": 10
          },
          "showarrow": false,
          "text": "Theatrical",
          "x": 115.03954801748856,
          "xref": "x2",
          "y": 1.3,
          "yref": "y2"
         },
         {
          "bgcolor": "rgba(255, 255, 255, 0.9)",
          "bordercolor": "black",
          "borderwidth": 1,
          "font": {
           "color": "black",
           "size": 10
          },
          "showarrow": false,
          "text": "Adaptable",
          "x": 117.73285716333417,
          "xref": "x2",
          "y": 0.75,
          "yref": "y2"
         },
         {
          "bgcolor": "rgba(255, 255, 255, 0.9)",
          "bordercolor": "black",
          "borderwidth": 1,
          "font": {
           "color": "black",
           "size": 10
          },
          "showarrow": false,
          "text": "Introspective",
          "x": 121.69543151403639,
          "xref": "x2",
          "y": 1.75,
          "yref": "y2"
         },
         {
          "bgcolor": "rgba(255, 255, 255, 0.9)",
          "bordercolor": "black",
          "borderwidth": 1,
          "font": {
           "color": "black",
           "size": 10
          },
          "showarrow": false,
          "text": "Proactive",
          "x": 141.5008968616248,
          "xref": "x2",
          "y": 0.3,
          "yref": "y2"
         },
         {
          "bgcolor": "rgba(255, 255, 255, 0.9)",
          "bordercolor": "red",
          "borderwidth": 1,
          "font": {
           "color": "red",
           "size": 14
          },
          "showarrow": false,
          "text": "Assistant",
          "x": -27.71476634747793,
          "xref": "x2",
          "y": 2,
          "yref": "y2"
         }
        ],
        "height": 800,
        "shapes": [
         {
          "line": {
           "color": "gray",
           "dash": "solid",
           "width": 1
          },
          "opacity": 0.7,
          "type": "line",
          "x0": 0,
          "x1": 0,
          "xref": "x",
          "y0": 0,
          "y1": 1,
          "yref": "y domain"
         },
         {
          "line": {
           "color": "red",
           "dash": "dash",
           "width": 1
          },
          "opacity": 1,
          "type": "line",
          "x0": -0.4786581890617816,
          "x1": -0.4786581890617816,
          "xref": "x",
          "y0": 0,
          "y1": 1,
          "yref": "y domain"
         },
         {
          "line": {
           "color": "gray",
           "dash": "solid",
           "width": 1
          },
          "opacity": 0.7,
          "type": "line",
          "x0": 0,
          "x1": 0,
          "xref": "x2",
          "y0": 0,
          "y1": 1,
          "yref": "y2 domain"
         },
         {
          "line": {
           "color": "red",
           "dash": "dash",
           "width": 1
          },
          "opacity": 1,
          "type": "line",
          "x0": -27.71476634747793,
          "x1": -27.71476634747793,
          "xref": "x2",
          "y0": 0,
          "y1": 1,
          "yref": "y2 domain"
         }
        ],
        "showlegend": false,
        "template": {
         "data": {
          "bar": [
           {
            "error_x": {
             "color": "#2a3f5f"
            },
            "error_y": {
             "color": "#2a3f5f"
            },
            "marker": {
             "line": {
              "color": "#E5ECF6",
              "width": 0.5
             },
             "pattern": {
              "fillmode": "overlay",
              "size": 10,
              "solidity": 0.2
             }
            },
            "type": "bar"
           }
          ],
          "barpolar": [
           {
            "marker": {
             "line": {
              "color": "#E5ECF6",
              "width": 0.5
             },
             "pattern": {
              "fillmode": "overlay",
              "size": 10,
              "solidity": 0.2
             }
            },
            "type": "barpolar"
           }
          ],
          "carpet": [
           {
            "aaxis": {
             "endlinecolor": "#2a3f5f",
             "gridcolor": "white",
             "linecolor": "white",
             "minorgridcolor": "white",
             "startlinecolor": "#2a3f5f"
            },
            "baxis": {
             "endlinecolor": "#2a3f5f",
             "gridcolor": "white",
             "linecolor": "white",
             "minorgridcolor": "white",
             "startlinecolor": "#2a3f5f"
            },
            "type": "carpet"
           }
          ],
          "choropleth": [
           {
            "colorbar": {
             "outlinewidth": 0,
             "ticks": ""
            },
            "type": "choropleth"
           }
          ],
          "contour": [
           {
            "colorbar": {
             "outlinewidth": 0,
             "ticks": ""
            },
            "colorscale": [
             [
              0,
              "#0d0887"
             ],
             [
              0.1111111111111111,
              "#46039f"
             ],
             [
              0.2222222222222222,
              "#7201a8"
             ],
             [
              0.3333333333333333,
              "#9c179e"
             ],
             [
              0.4444444444444444,
              "#bd3786"
             ],
             [
              0.5555555555555556,
              "#d8576b"
             ],
             [
              0.6666666666666666,
              "#ed7953"
             ],
             [
              0.7777777777777778,
              "#fb9f3a"
             ],
             [
              0.8888888888888888,
              "#fdca26"
             ],
             [
              1,
              "#f0f921"
             ]
            ],
            "type": "contour"
           }
          ],
          "contourcarpet": [
           {
            "colorbar": {
             "outlinewidth": 0,
             "ticks": ""
            },
            "type": "contourcarpet"
           }
          ],
          "heatmap": [
           {
            "colorbar": {
             "outlinewidth": 0,
             "ticks": ""
            },
            "colorscale": [
             [
              0,
              "#0d0887"
             ],
             [
              0.1111111111111111,
              "#46039f"
             ],
             [
              0.2222222222222222,
              "#7201a8"
             ],
             [
              0.3333333333333333,
              "#9c179e"
             ],
             [
              0.4444444444444444,
              "#bd3786"
             ],
             [
              0.5555555555555556,
              "#d8576b"
             ],
             [
              0.6666666666666666,
              "#ed7953"
             ],
             [
              0.7777777777777778,
              "#fb9f3a"
             ],
             [
              0.8888888888888888,
              "#fdca26"
             ],
             [
              1,
              "#f0f921"
             ]
            ],
            "type": "heatmap"
           }
          ],
          "heatmapgl": [
           {
            "colorbar": {
             "outlinewidth": 0,
             "ticks": ""
            },
            "colorscale": [
             [
              0,
              "#0d0887"
             ],
             [
              0.1111111111111111,
              "#46039f"
             ],
             [
              0.2222222222222222,
              "#7201a8"
             ],
             [
              0.3333333333333333,
              "#9c179e"
             ],
             [
              0.4444444444444444,
              "#bd3786"
             ],
             [
              0.5555555555555556,
              "#d8576b"
             ],
             [
              0.6666666666666666,
              "#ed7953"
             ],
             [
              0.7777777777777778,
              "#fb9f3a"
             ],
             [
              0.8888888888888888,
              "#fdca26"
             ],
             [
              1,
              "#f0f921"
             ]
            ],
            "type": "heatmapgl"
           }
          ],
          "histogram": [
           {
            "marker": {
             "pattern": {
              "fillmode": "overlay",
              "size": 10,
              "solidity": 0.2
             }
            },
            "type": "histogram"
           }
          ],
          "histogram2d": [
           {
            "colorbar": {
             "outlinewidth": 0,
             "ticks": ""
            },
            "colorscale": [
             [
              0,
              "#0d0887"
             ],
             [
              0.1111111111111111,
              "#46039f"
             ],
             [
              0.2222222222222222,
              "#7201a8"
             ],
             [
              0.3333333333333333,
              "#9c179e"
             ],
             [
              0.4444444444444444,
              "#bd3786"
             ],
             [
              0.5555555555555556,
              "#d8576b"
             ],
             [
              0.6666666666666666,
              "#ed7953"
             ],
             [
              0.7777777777777778,
              "#fb9f3a"
             ],
             [
              0.8888888888888888,
              "#fdca26"
             ],
             [
              1,
              "#f0f921"
             ]
            ],
            "type": "histogram2d"
           }
          ],
          "histogram2dcontour": [
           {
            "colorbar": {
             "outlinewidth": 0,
             "ticks": ""
            },
            "colorscale": [
             [
              0,
              "#0d0887"
             ],
             [
              0.1111111111111111,
              "#46039f"
             ],
             [
              0.2222222222222222,
              "#7201a8"
             ],
             [
              0.3333333333333333,
              "#9c179e"
             ],
             [
              0.4444444444444444,
              "#bd3786"
             ],
             [
              0.5555555555555556,
              "#d8576b"
             ],
             [
              0.6666666666666666,
              "#ed7953"
             ],
             [
              0.7777777777777778,
              "#fb9f3a"
             ],
             [
              0.8888888888888888,
              "#fdca26"
             ],
             [
              1,
              "#f0f921"
             ]
            ],
            "type": "histogram2dcontour"
           }
          ],
          "mesh3d": [
           {
            "colorbar": {
             "outlinewidth": 0,
             "ticks": ""
            },
            "type": "mesh3d"
           }
          ],
          "parcoords": [
           {
            "line": {
             "colorbar": {
              "outlinewidth": 0,
              "ticks": ""
             }
            },
            "type": "parcoords"
           }
          ],
          "pie": [
           {
            "automargin": true,
            "type": "pie"
           }
          ],
          "scatter": [
           {
            "fillpattern": {
             "fillmode": "overlay",
             "size": 10,
             "solidity": 0.2
            },
            "type": "scatter"
           }
          ],
          "scatter3d": [
           {
            "line": {
             "colorbar": {
              "outlinewidth": 0,
              "ticks": ""
             }
            },
            "marker": {
             "colorbar": {
              "outlinewidth": 0,
              "ticks": ""
             }
            },
            "type": "scatter3d"
           }
          ],
          "scattercarpet": [
           {
            "marker": {
             "colorbar": {
              "outlinewidth": 0,
              "ticks": ""
             }
            },
            "type": "scattercarpet"
           }
          ],
          "scattergeo": [
           {
            "marker": {
             "colorbar": {
              "outlinewidth": 0,
              "ticks": ""
             }
            },
            "type": "scattergeo"
           }
          ],
          "scattergl": [
           {
            "marker": {
             "colorbar": {
              "outlinewidth": 0,
              "ticks": ""
             }
            },
            "type": "scattergl"
           }
          ],
          "scattermapbox": [
           {
            "marker": {
             "colorbar": {
              "outlinewidth": 0,
              "ticks": ""
             }
            },
            "type": "scattermapbox"
           }
          ],
          "scatterpolar": [
           {
            "marker": {
             "colorbar": {
              "outlinewidth": 0,
              "ticks": ""
             }
            },
            "type": "scatterpolar"
           }
          ],
          "scatterpolargl": [
           {
            "marker": {
             "colorbar": {
              "outlinewidth": 0,
              "ticks": ""
             }
            },
            "type": "scatterpolargl"
           }
          ],
          "scatterternary": [
           {
            "marker": {
             "colorbar": {
              "outlinewidth": 0,
              "ticks": ""
             }
            },
            "type": "scatterternary"
           }
          ],
          "surface": [
           {
            "colorbar": {
             "outlinewidth": 0,
             "ticks": ""
            },
            "colorscale": [
             [
              0,
              "#0d0887"
             ],
             [
              0.1111111111111111,
              "#46039f"
             ],
             [
              0.2222222222222222,
              "#7201a8"
             ],
             [
              0.3333333333333333,
              "#9c179e"
             ],
             [
              0.4444444444444444,
              "#bd3786"
             ],
             [
              0.5555555555555556,
              "#d8576b"
             ],
             [
              0.6666666666666666,
              "#ed7953"
             ],
             [
              0.7777777777777778,
              "#fb9f3a"
             ],
             [
              0.8888888888888888,
              "#fdca26"
             ],
             [
              1,
              "#f0f921"
             ]
            ],
            "type": "surface"
           }
          ],
          "table": [
           {
            "cells": {
             "fill": {
              "color": "#EBF0F8"
             },
             "line": {
              "color": "white"
             }
            },
            "header": {
             "fill": {
              "color": "#C8D4E3"
             },
             "line": {
              "color": "white"
             }
            },
            "type": "table"
           }
          ]
         },
         "layout": {
          "annotationdefaults": {
           "arrowcolor": "#2a3f5f",
           "arrowhead": 0,
           "arrowwidth": 1
          },
          "autotypenumbers": "strict",
          "coloraxis": {
           "colorbar": {
            "outlinewidth": 0,
            "ticks": ""
           }
          },
          "colorscale": {
           "diverging": [
            [
             0,
             "#8e0152"
            ],
            [
             0.1,
             "#c51b7d"
            ],
            [
             0.2,
             "#de77ae"
            ],
            [
             0.3,
             "#f1b6da"
            ],
            [
             0.4,
             "#fde0ef"
            ],
            [
             0.5,
             "#f7f7f7"
            ],
            [
             0.6,
             "#e6f5d0"
            ],
            [
             0.7,
             "#b8e186"
            ],
            [
             0.8,
             "#7fbc41"
            ],
            [
             0.9,
             "#4d9221"
            ],
            [
             1,
             "#276419"
            ]
           ],
           "sequential": [
            [
             0,
             "#0d0887"
            ],
            [
             0.1111111111111111,
             "#46039f"
            ],
            [
             0.2222222222222222,
             "#7201a8"
            ],
            [
             0.3333333333333333,
             "#9c179e"
            ],
            [
             0.4444444444444444,
             "#bd3786"
            ],
            [
             0.5555555555555556,
             "#d8576b"
            ],
            [
             0.6666666666666666,
             "#ed7953"
            ],
            [
             0.7777777777777778,
             "#fb9f3a"
            ],
            [
             0.8888888888888888,
             "#fdca26"
            ],
            [
             1,
             "#f0f921"
            ]
           ],
           "sequentialminus": [
            [
             0,
             "#0d0887"
            ],
            [
             0.1111111111111111,
             "#46039f"
            ],
            [
             0.2222222222222222,
             "#7201a8"
            ],
            [
             0.3333333333333333,
             "#9c179e"
            ],
            [
             0.4444444444444444,
             "#bd3786"
            ],
            [
             0.5555555555555556,
             "#d8576b"
            ],
            [
             0.6666666666666666,
             "#ed7953"
            ],
            [
             0.7777777777777778,
             "#fb9f3a"
            ],
            [
             0.8888888888888888,
             "#fdca26"
            ],
            [
             1,
             "#f0f921"
            ]
           ]
          },
          "colorway": [
           "#636efa",
           "#EF553B",
           "#00cc96",
           "#ab63fa",
           "#FFA15A",
           "#19d3f3",
           "#FF6692",
           "#B6E880",
           "#FF97FF",
           "#FECB52"
          ],
          "font": {
           "color": "#2a3f5f"
          },
          "geo": {
           "bgcolor": "white",
           "lakecolor": "white",
           "landcolor": "#E5ECF6",
           "showlakes": true,
           "showland": true,
           "subunitcolor": "white"
          },
          "hoverlabel": {
           "align": "left"
          },
          "hovermode": "closest",
          "mapbox": {
           "style": "light"
          },
          "paper_bgcolor": "white",
          "plot_bgcolor": "#E5ECF6",
          "polar": {
           "angularaxis": {
            "gridcolor": "white",
            "linecolor": "white",
            "ticks": ""
           },
           "bgcolor": "#E5ECF6",
           "radialaxis": {
            "gridcolor": "white",
            "linecolor": "white",
            "ticks": ""
           }
          },
          "scene": {
           "xaxis": {
            "backgroundcolor": "#E5ECF6",
            "gridcolor": "white",
            "gridwidth": 2,
            "linecolor": "white",
            "showbackground": true,
            "ticks": "",
            "zerolinecolor": "white"
           },
           "yaxis": {
            "backgroundcolor": "#E5ECF6",
            "gridcolor": "white",
            "gridwidth": 2,
            "linecolor": "white",
            "showbackground": true,
            "ticks": "",
            "zerolinecolor": "white"
           },
           "zaxis": {
            "backgroundcolor": "#E5ECF6",
            "gridcolor": "white",
            "gridwidth": 2,
            "linecolor": "white",
            "showbackground": true,
            "ticks": "",
            "zerolinecolor": "white"
           }
          },
          "shapedefaults": {
           "line": {
            "color": "#2a3f5f"
           }
          },
          "ternary": {
           "aaxis": {
            "gridcolor": "white",
            "linecolor": "white",
            "ticks": ""
           },
           "baxis": {
            "gridcolor": "white",
            "linecolor": "white",
            "ticks": ""
           },
           "bgcolor": "#E5ECF6",
           "caxis": {
            "gridcolor": "white",
            "linecolor": "white",
            "ticks": ""
           }
          },
          "title": {
           "x": 0.05
          },
          "xaxis": {
           "automargin": true,
           "gridcolor": "white",
           "linecolor": "white",
           "ticks": "",
           "title": {
            "standoff": 15
           },
           "zerolinecolor": "white",
           "zerolinewidth": 2
          },
          "yaxis": {
           "automargin": true,
           "gridcolor": "white",
           "linecolor": "white",
           "ticks": "",
           "title": {
            "standoff": 15
           },
           "zerolinecolor": "white",
           "zerolinewidth": 2
          }
         }
        },
        "title": {
         "font": {
          "size": 16
         },
         "subtitle": {
          "text": "Gemma 3 27B, Layer 32 - Shared Question Set, Mean-Centered and Scaled Vectors"
         },
         "text": "PCA on Trait Vectors",
         "x": 0.5
        },
        "width": 1200,
        "xaxis": {
         "anchor": "y",
         "domain": [
          0,
          1
         ],
         "range": [
          -1.0900396726841852,
          1.0900396726841852
         ]
        },
        "xaxis2": {
         "anchor": "y2",
         "domain": [
          0,
          1
         ],
         "range": [
          -188.94180115485847,
          188.94180115485847
         ]
        },
        "yaxis": {
         "anchor": "x",
         "domain": [
          0.55,
          1
         ],
         "range": [
          0,
          2.5
         ],
         "showticklabels": false
        },
        "yaxis2": {
         "anchor": "x2",
         "domain": [
          0,
          0.45
         ],
         "range": [
          0,
          2.5
         ],
         "showticklabels": false
        }
       }
      },
      "text/html": [
       "<div>                            <div id=\"71ee28d7-0c4c-45b9-9857-333b23821a89\" class=\"plotly-graph-div\" style=\"height:800px; width:1200px;\"></div>            <script type=\"text/javascript\">                require([\"plotly\"], function(Plotly) {                    window.PLOTLYENV=window.PLOTLYENV || {};                                    if (document.getElementById(\"71ee28d7-0c4c-45b9-9857-333b23821a89\")) {                    Plotly.newPlot(                        \"71ee28d7-0c4c-45b9-9857-333b23821a89\",                        [{\"hovertemplate\":\"\\u003cb\\u003e%{text}\\u003c\\u002fb\\u003e\\u003cbr\\u003eCosine Similarity: %{x:.3f}\\u003cextra\\u003e\\u003c\\u002fextra\\u003e\",\"marker\":{\"color\":\"limegreen\",\"line\":{\"color\":\"black\",\"width\":1},\"opacity\":1.0,\"size\":8,\"symbol\":\"diamond\"},\"mode\":\"markers\",\"showlegend\":false,\"text\":[\"Zealous\",\"Wry\",\"Witty\",\"Whimsical\",\"Visceral\",\"Vindictive\",\"Utilitarian\",\"Urgent\",\"Universalist\",\"Understated\",\"Traditional\",\"Theoretical\",\"Theatrical\",\"Temperamental\",\"Technical\",\"Tactful\",\"Systems thinker\",\"Subversive\",\"Submissive\",\"Structuralist\",\"Stream of consciousness\",\"Strategic\",\"Stoic\",\"Spontaneous\",\"Spiritual\",\"Speculative\",\"Specialized\",\"Solemn\",\"Socratic\",\"Skeptical\",\"Serious\",\"Serene\",\"Secular\",\"Savage\",\"Sassy\",\"Sardonic\",\"Sarcastic\",\"Romantic\",\"Ritualistic\",\"Risk taking\",\"Rhetorical\",\"Reverent\",\"Resilient\",\"Reserved\",\"Relativist\",\"Regulatory\",\"Reductionist\",\"Rebellious\",\"Rationalist\",\"Radical\",\"Quantitative\",\"Qualitative\",\"Provocative\",\"Progressive\",\"Problem solving\",\"Principled\",\"Prescriptive\",\"Practical\",\"Poetic\",\"Pluralist\",\"Playful\",\"Philosophical\",\"Petty\",\"Pessimistic\",\"Perfectionist\",\"Pedantic\",\"Patient\",\"Passive aggressive\",\"Passionate\",\"Paranoid\",\"Paradoxical\",\"Pacifist\",\"Optimistic\",\"Open ended\",\"Obsessive\",\"Nurturing\",\"Nostalgic\",\"Nihilistic\",\"Neurotic\",\"Narrative\",\"Naive\",\"Mystical\",\"Moderate\",\"Mischievous\",\"Misanthropic\",\"Militant\",\"Methodical\",\"Metaphorical\",\"Mercurial\",\"Melodramatic\",\"Melancholic\",\"Meditative\",\"Materialist\",\"Manipulative\",\"Manic\",\"Libertarian\",\"Judgmental\",\"Irreverent\",\"Ironic\",\"Intuitive\",\"Introverted\",\"Interdisciplinary\",\"Inspirational\",\"Inquisitive\",\"Innovative\",\"Individualistic\",\"Independent\",\"Inclusive\",\"Improvisational\",\"Idealistic\",\"Iconoclastic\",\"Humble\",\"Humanistic\",\"Hostile\",\"Holistic\",\"Historical\",\"Hedonistic\",\"Grounded\",\"Gregarious\",\"Grandiose\",\"Goofy\",\"Generous\",\"Generalist\",\"Futuristic\",\"Fundamentalist\",\"Formalist\",\"Formal\",\"Forgiving\",\"Flirty\",\"Flexible\",\"Fatalistic\",\"Factual\",\"Extroverted\",\"Exploratory\",\"Experiential\",\"Existentialist\",\"Evil\",\"Ethereal\",\"Essentialist\",\"Esoteric\",\"Erudite\",\"Epicurean\",\"Environmental\",\"Entertaining\",\"Enigmatic\",\"Empathetic\",\"Emotional\",\"Elitist\",\"Egalitarian\",\"Effusive\",\"Educational\",\"Edgy\",\"Eclectic\",\"Earnest\",\"Dramatic\",\"Dominant\",\"Dogmatic\",\"Dispassionate\",\"Disorganized\",\"Diplomatic\",\"Deterministic\",\"Detached\",\"Descriptive\",\"Deontological\",\"Deferential\",\"Deconstructionist\",\"Decisive\",\"Data driven\",\"Cynical\",\"Curious\",\"Cryptic\",\"Cruel\",\"Critical\",\"Creative\",\"Cosmopolitan\",\"Convergent\",\"Contrarian\",\"Contemporary\",\"Constructivist\",\"Conscientious\",\"Confrontational\",\"Confident\",\"Condescending\",\"Conciliatory\",\"Conceptual\",\"Competitive\",\"Collectivistic\",\"Collaborative\",\"Closure seeking\",\"Circumspect\",\"Chill\",\"Charismatic\",\"Chaotic\",\"Challenging\",\"Cautious\",\"Casual\",\"Calm\",\"Calculating\",\"Bombastic\",\"Blunt\",\"Bitter\",\"Big picture\",\"Benevolent\",\"Avoidant\",\"Assertive\",\"Ascetic\",\"Artistic\",\"Arrogant\",\"Anxious\",\"Anthropocentric\",\"Animated\",\"Analytical\",\"Altruistic\",\"Agreeable\",\"Adventurous\",\"Acerbic\",\"Accommodating\",\"Accessible\",\"Abstract\",\"Absolutist\"],\"x\":[0.7254471563653075,-0.32801416928317323,0.8804885084172497,-0.2599277781484129,-0.9292700400635229,-0.41690806878686115,-0.37902393399890383,-0.36388164997475975,-0.3883270388312623,-0.9555720305142574,-0.576805918409111,0.24361275347505723,0.9106135488399046,0.5598920937166932,0.4492299839065114,0.6630142511125878,0.6015815989163426,-0.1878411463506052,-0.9549705459375502,0.3113768447762959,0.39177800458010315,0.9375409885013648,-0.8561067247503837,-0.368753257461962,-0.22703453907301088,0.8483705638840092,0.792718908073302,0.022308775433910258,-0.9166929822394435,0.936819775665336,-0.610508688972606,-0.19199136942817333,-0.347733005061515,-0.954173669258444,0.4647340051193334,-0.8347678178501965,-0.9587780149616979,-0.5210352999919934,0.24651474924509734,-0.33696126540649607,0.9259953951341993,-0.0641923922609551,0.657619507453023,-0.9472606739418191,-0.48439639858512673,-0.47147044731492876,-0.4529455225669154,-0.3020713508560934,-0.3667819881309068,-0.3420855044958214,0.2329750760513977,-0.3313075404791465,0.8477852559893188,0.09265072203776914,0.8824747909167917,-0.519073623946406,-0.18210207503473264,-0.3619481612208344,0.8429974942336427,-0.23335425365633813,0.47903322904457896,0.9264688703917866,-0.348041522923769,-0.8224916234710404,0.9223404855971942,0.7570803468798076,0.8261129455837021,-0.9047522764288684,0.8851937173713299,-0.45965152059394915,-0.2523373240705595,-0.6344312117735378,-0.1953890284805253,0.04020047120022441,-0.16775674285053344,0.9292315892090842,-0.3900781095089516,-0.6591205442353031,-0.4105249396580636,0.5273913930448809,-0.9176682162721949,-0.4609957224021719,0.46822456524018063,-0.42542102726777253,-0.6770804150961302,-0.5546909957064616,0.32551297512484745,0.8859533928168192,0.04752092467749154,0.8293667681162741,-0.5006796122621111,0.8374851486316829,-0.5979267419543195,-0.35381869992857884,0.15100282216497773,-0.4337719649882959,-0.7680723109809533,-0.8919499052481219,-0.07156091364881367,-0.2624959177161547,0.08743390548143117,0.4191170635824513,0.5288510429645799,0.8413998873096951,-0.07371081314013761,0.15444670730610227,0.3309689550403064,0.80197200291512,-0.8447475570773767,-0.4423865969149805,-0.1555921024701893,0.6933858031588478,0.5255917376054946,-0.968850846891937,0.8199572334952494,0.19924322461758182,-0.8609598464131537,-0.054737475994195824,0.8384954812190635,-0.06209174314814076,-0.4694432989558443,0.7236260963285286,-0.10186492033161698,-0.3013411699167457,-0.9605083632513883,-0.3408310255452903,-0.5056174467825961,-0.3828736628271948,-0.1506583893093739,0.7675612820454573,-0.8177365569665005,0.18963439357295375,0.49144460060830686,0.941446986909399,0.13004586831190731,0.04054245403638309,-0.5644608360095489,-0.598923847082882,-0.7019715560603231,-0.26369665935408376,0.9095749650768985,0.8388454657489143,-0.267302803701619,0.7210872655693267,-0.785192543951006,0.9259700279978671,0.8138096494316528,-0.6806702618305217,0.4720918289836388,0.8776275095396524,0.866614319668637,0.14958455971147872,0.8581490551290798,0.9051280981536255,0.929703630610796,0.843609056211472,-0.9492911661909564,-0.8536441020094672,-0.5516181848560974,0.5242081020200001,-0.49593711615653485,-0.8048866812399781,-0.6650030198112816,-0.3715412658912748,-0.4726700588412803,0.8974491247550789,-0.8324847312353224,-0.26071025516107965,-0.6125983023242564,0.9083563954630364,-0.33933204267980693,-0.9583214336316542,0.8132709310834341,0.9125661048945095,0.6266492509322814,-0.5607030340126492,0.6149758507461682,-0.37512920964248697,-0.043348259890490036,0.9443328648908644,0.16905742338618357,-0.9596989321600043,-0.8236652329484755,0.47060686174882677,-0.3755142321477108,-0.7178308168188708,-0.22509679798485854,0.5334557586042935,-0.9255328854412636,0.9482737551662574,0.548734442173176,0.9488924233073951,-0.035795408939443774,0.9104105508117052,0.8286251623470997,-0.24465543925266672,-0.47499910234214865,0.9441042018247819,0.7359559814243524,-0.8966023595478678,-0.794950184510809,0.5118381799792684,0.3721028329995468,-0.8702995575568966,-0.655742114194387,-0.3817438305921276,0.7337104607919941,-0.901227980384455,0.22977534441859507,-0.555988511245066,0.8450057453471228,0.9360453583864463,0.05276778609937493,0.9176949147839568,-0.04261249114226986,-0.8854040608194412,0.34725961771771713,0.3750982606076758,-0.33887240097295146,-0.5246300182215885],\"y\":[1,1,1,1,1,1,1,1,1,1,1,1,1,1,1,1,1,1,1,1,1,1,1,1,1,1,1,1,1,1,1,1,1,1,1,1,1,1,1,1,1,1,1,1,1,1,1,1,1,1,1,1,1,1,1,1,1,1,1,1,1,1,1,1,1,1,1,1,1,1,1,1,1,1,1,1,1,1,1,1,1,1,1,1,1,1,1,1,1,1,1,1,1,1,1,1,1,1,1,1,1,1,1,1,1,1,1,1,1,1,1,1,1,1,1,1,1,1,1,1,1,1,1,1,1,1,1,1,1,1,1,1,1,1,1,1,1,1,1,1,1,1,1,1,1,1,1,1,1,1,1,1,1,1,1,1,1,1,1,1,1,1,1,1,1,1,1,1,1,1,1,1,1,1,1,1,1,1,1,1,1,1,1,1,1,1,1,1,1,1,1,1,1,1,1,1,1,1,1,1,1,1,1,1,1,1,1,1,1,1,1,1,1,1,1,1,1,1,1,1],\"type\":\"scatter\",\"xaxis\":\"x\",\"yaxis\":\"y\"},{\"hovertemplate\":\"\\u003cb\\u003e%{text}\\u003c\\u002fb\\u003e\\u003cbr\\u003eCosine Similarity: %{x:.3f}\\u003cextra\\u003e\\u003c\\u002fextra\\u003e\",\"marker\":{\"color\":\"limegreen\",\"line\":{\"color\":\"black\",\"width\":1},\"opacity\":1.0,\"size\":8,\"symbol\":\"diamond\"},\"mode\":\"markers\",\"showlegend\":false,\"text\":[\"Verbose\",\"Transparent\",\"Sycophantic\",\"Supportive\",\"Reactive\",\"Proactive\",\"Pensive\",\"Nonchalant\",\"Meticulous\",\"Literal\",\"Introspective\",\"Impulsive\",\"Impatient\",\"Flippant\",\"Eloquent\",\"Efficient\",\"Divergent\",\"Concise\",\"Callous\",\"Adaptable\"],\"x\":[0.9670793649941903,0.9510346108931805,-0.9708152401399436,0.9664669796945302,-0.9786343273542558,0.9841526558799457,0.9765867117636251,-0.9792573231123178,0.965017889476535,-0.9741035689829148,0.9602513926945353,-0.9909451569856229,-0.984692030287078,-0.984097615668313,0.9637404800322502,-0.9854174655547493,0.9610917308272384,-0.9877046963954774,-0.9808472465177085,0.9715414798670886],\"y\":[1,1,1,1,1,1,1,1,1,1,1,1,1,1,1,1,1,1,1,1],\"type\":\"scatter\",\"xaxis\":\"x\",\"yaxis\":\"y\"},{\"hoverinfo\":\"skip\",\"line\":{\"color\":\"black\",\"width\":1},\"mode\":\"lines\",\"showlegend\":false,\"x\":[-0.9909451569856229,-0.9909451569856229],\"y\":[1.0,1.45],\"type\":\"scatter\",\"xaxis\":\"x\",\"yaxis\":\"y\"},{\"hoverinfo\":\"skip\",\"line\":{\"color\":\"black\",\"width\":1},\"mode\":\"lines\",\"showlegend\":false,\"x\":[-0.9877046963954774,-0.9877046963954774],\"y\":[1.0,0.6],\"type\":\"scatter\",\"xaxis\":\"x\",\"yaxis\":\"y\"},{\"hoverinfo\":\"skip\",\"line\":{\"color\":\"black\",\"width\":1},\"mode\":\"lines\",\"showlegend\":false,\"x\":[-0.9854174655547493,-0.9854174655547493],\"y\":[1.0,1.9],\"type\":\"scatter\",\"xaxis\":\"x\",\"yaxis\":\"y\"},{\"hoverinfo\":\"skip\",\"line\":{\"color\":\"black\",\"width\":1},\"mode\":\"lines\",\"showlegend\":false,\"x\":[-0.984692030287078,-0.984692030287078],\"y\":[1.0,0.15],\"type\":\"scatter\",\"xaxis\":\"x\",\"yaxis\":\"y\"},{\"hoverinfo\":\"skip\",\"line\":{\"color\":\"black\",\"width\":1},\"mode\":\"lines\",\"showlegend\":false,\"x\":[-0.984097615668313,-0.984097615668313],\"y\":[1.0,1.6],\"type\":\"scatter\",\"xaxis\":\"x\",\"yaxis\":\"y\"},{\"hoverinfo\":\"skip\",\"line\":{\"color\":\"black\",\"width\":1},\"mode\":\"lines\",\"showlegend\":false,\"x\":[-0.9808472465177085,-0.9808472465177085],\"y\":[1.0,0.45],\"type\":\"scatter\",\"xaxis\":\"x\",\"yaxis\":\"y\"},{\"hoverinfo\":\"skip\",\"line\":{\"color\":\"black\",\"width\":1},\"mode\":\"lines\",\"showlegend\":false,\"x\":[-0.9792573231123178,-0.9792573231123178],\"y\":[1.0,1.3],\"type\":\"scatter\",\"xaxis\":\"x\",\"yaxis\":\"y\"},{\"hoverinfo\":\"skip\",\"line\":{\"color\":\"black\",\"width\":1},\"mode\":\"lines\",\"showlegend\":false,\"x\":[-0.9786343273542558,-0.9786343273542558],\"y\":[1.0,0.75],\"type\":\"scatter\",\"xaxis\":\"x\",\"yaxis\":\"y\"},{\"hoverinfo\":\"skip\",\"line\":{\"color\":\"black\",\"width\":1},\"mode\":\"lines\",\"showlegend\":false,\"x\":[-0.9741035689829148,-0.9741035689829148],\"y\":[1.0,1.75],\"type\":\"scatter\",\"xaxis\":\"x\",\"yaxis\":\"y\"},{\"hoverinfo\":\"skip\",\"line\":{\"color\":\"black\",\"width\":1},\"mode\":\"lines\",\"showlegend\":false,\"x\":[-0.9708152401399436,-0.9708152401399436],\"y\":[1.0,0.3],\"type\":\"scatter\",\"xaxis\":\"x\",\"yaxis\":\"y\"},{\"hoverinfo\":\"skip\",\"line\":{\"color\":\"black\",\"width\":1},\"mode\":\"lines\",\"showlegend\":false,\"x\":[0.9510346108931805,0.9510346108931805],\"y\":[1.0,1.45],\"type\":\"scatter\",\"xaxis\":\"x\",\"yaxis\":\"y\"},{\"hoverinfo\":\"skip\",\"line\":{\"color\":\"black\",\"width\":1},\"mode\":\"lines\",\"showlegend\":false,\"x\":[0.9602513926945353,0.9602513926945353],\"y\":[1.0,0.6],\"type\":\"scatter\",\"xaxis\":\"x\",\"yaxis\":\"y\"},{\"hoverinfo\":\"skip\",\"line\":{\"color\":\"black\",\"width\":1},\"mode\":\"lines\",\"showlegend\":false,\"x\":[0.9610917308272384,0.9610917308272384],\"y\":[1.0,1.9],\"type\":\"scatter\",\"xaxis\":\"x\",\"yaxis\":\"y\"},{\"hoverinfo\":\"skip\",\"line\":{\"color\":\"black\",\"width\":1},\"mode\":\"lines\",\"showlegend\":false,\"x\":[0.9637404800322502,0.9637404800322502],\"y\":[1.0,0.15],\"type\":\"scatter\",\"xaxis\":\"x\",\"yaxis\":\"y\"},{\"hoverinfo\":\"skip\",\"line\":{\"color\":\"black\",\"width\":1},\"mode\":\"lines\",\"showlegend\":false,\"x\":[0.965017889476535,0.965017889476535],\"y\":[1.0,1.6],\"type\":\"scatter\",\"xaxis\":\"x\",\"yaxis\":\"y\"},{\"hoverinfo\":\"skip\",\"line\":{\"color\":\"black\",\"width\":1},\"mode\":\"lines\",\"showlegend\":false,\"x\":[0.9664669796945302,0.9664669796945302],\"y\":[1.0,0.45],\"type\":\"scatter\",\"xaxis\":\"x\",\"yaxis\":\"y\"},{\"hoverinfo\":\"skip\",\"line\":{\"color\":\"black\",\"width\":1},\"mode\":\"lines\",\"showlegend\":false,\"x\":[0.9670793649941903,0.9670793649941903],\"y\":[1.0,1.3],\"type\":\"scatter\",\"xaxis\":\"x\",\"yaxis\":\"y\"},{\"hoverinfo\":\"skip\",\"line\":{\"color\":\"black\",\"width\":1},\"mode\":\"lines\",\"showlegend\":false,\"x\":[0.9715414798670886,0.9715414798670886],\"y\":[1.0,0.75],\"type\":\"scatter\",\"xaxis\":\"x\",\"yaxis\":\"y\"},{\"hoverinfo\":\"skip\",\"line\":{\"color\":\"black\",\"width\":1},\"mode\":\"lines\",\"showlegend\":false,\"x\":[0.9765867117636251,0.9765867117636251],\"y\":[1.0,1.75],\"type\":\"scatter\",\"xaxis\":\"x\",\"yaxis\":\"y\"},{\"hoverinfo\":\"skip\",\"line\":{\"color\":\"black\",\"width\":1},\"mode\":\"lines\",\"showlegend\":false,\"x\":[0.9841526558799457,0.9841526558799457],\"y\":[1.0,0.3],\"type\":\"scatter\",\"xaxis\":\"x\",\"yaxis\":\"y\"},{\"hoverinfo\":\"skip\",\"marker\":{\"color\":\"limegreen\"},\"opacity\":0.7,\"showlegend\":false,\"width\":0.05266927500974852,\"x\":[-0.9580268601045301,-0.8921902663423444,-0.8263536725801588,-0.7605170788179733,-0.6946804850557876,-0.6288438912936021,-0.5630072975314164,-0.4971707037692308,-0.43133411000704514,-0.3654975162448595,-0.2996609224826739,-0.2338243287204883,-0.16798773495830266,-0.10215114119611707,-0.03631454743393148,0.02952204632825417,0.09535864009043982,0.16119523385262546,0.2270318276148111,0.29286842137699676,0.3587050151391823,0.42454160890136783,0.4903782026635535,0.5562147964257391,0.6220513901879248,0.6878879839501104,0.7537245777122961,0.8195611714744816,0.8853977652366671,0.9512343589988528],\"y\":[0.825,0.3375,0.375,0.075,0.1875,0.2625,0.225,0.4125,0.3,0.75,0.1875,0.3375,0.2625,0.1125,0.225,0.1875,0.075,0.225,0.1875,0.075,0.15,0.1125,0.2625,0.2625,0.1125,0.1125,0.2625,0.6375000000000001,0.5625,0.9],\"type\":\"bar\",\"xaxis\":\"x\",\"yaxis\":\"y\"},{\"hovertemplate\":\"\\u003cb\\u003e%{text}\\u003c\\u002fb\\u003e\\u003cbr\\u003ePC Projection: %{x:.3f}\\u003cextra\\u003e\\u003c\\u002fextra\\u003e\",\"marker\":{\"color\":\"limegreen\",\"line\":{\"color\":\"black\",\"width\":1},\"opacity\":1.0,\"size\":8,\"symbol\":\"diamond\"},\"mode\":\"markers\",\"showlegend\":false,\"text\":[\"Zealous\",\"Wry\",\"Witty\",\"Whimsical\",\"Visceral\",\"Vindictive\",\"Verbose\",\"Utilitarian\",\"Urgent\",\"Universalist\",\"Understated\",\"Traditional\",\"Theoretical\",\"Temperamental\",\"Technical\",\"Tactful\",\"Systems thinker\",\"Supportive\",\"Subversive\",\"Submissive\",\"Structuralist\",\"Stream of consciousness\",\"Strategic\",\"Stoic\",\"Spontaneous\",\"Spiritual\",\"Speculative\",\"Specialized\",\"Solemn\",\"Socratic\",\"Skeptical\",\"Serious\",\"Serene\",\"Secular\",\"Savage\",\"Sassy\",\"Sardonic\",\"Sarcastic\",\"Romantic\",\"Ritualistic\",\"Risk taking\",\"Rhetorical\",\"Reverent\",\"Resilient\",\"Relativist\",\"Regulatory\",\"Reductionist\",\"Rebellious\",\"Rationalist\",\"Radical\",\"Quantitative\",\"Qualitative\",\"Provocative\",\"Progressive\",\"Problem solving\",\"Principled\",\"Prescriptive\",\"Practical\",\"Poetic\",\"Pluralist\",\"Playful\",\"Philosophical\",\"Petty\",\"Pessimistic\",\"Perfectionist\",\"Pedantic\",\"Patient\",\"Passive aggressive\",\"Passionate\",\"Paranoid\",\"Paradoxical\",\"Pacifist\",\"Optimistic\",\"Open ended\",\"Obsessive\",\"Nurturing\",\"Nostalgic\",\"Nihilistic\",\"Neurotic\",\"Narrative\",\"Naive\",\"Mystical\",\"Moderate\",\"Mischievous\",\"Misanthropic\",\"Militant\",\"Methodical\",\"Metaphorical\",\"Mercurial\",\"Melodramatic\",\"Melancholic\",\"Meditative\",\"Materialist\",\"Manipulative\",\"Manic\",\"Literal\",\"Libertarian\",\"Judgmental\",\"Irreverent\",\"Ironic\",\"Intuitive\",\"Introverted\",\"Interdisciplinary\",\"Inspirational\",\"Inquisitive\",\"Innovative\",\"Individualistic\",\"Independent\",\"Inclusive\",\"Improvisational\",\"Idealistic\",\"Iconoclastic\",\"Humble\",\"Humanistic\",\"Hostile\",\"Holistic\",\"Historical\",\"Hedonistic\",\"Grounded\",\"Gregarious\",\"Grandiose\",\"Goofy\",\"Generous\",\"Generalist\",\"Futuristic\",\"Fundamentalist\",\"Formalist\",\"Formal\",\"Forgiving\",\"Flirty\",\"Flexible\",\"Fatalistic\",\"Factual\",\"Extroverted\",\"Exploratory\",\"Experiential\",\"Existentialist\",\"Evil\",\"Ethereal\",\"Essentialist\",\"Esoteric\",\"Erudite\",\"Epicurean\",\"Environmental\",\"Entertaining\",\"Enigmatic\",\"Empathetic\",\"Emotional\",\"Elitist\",\"Egalitarian\",\"Effusive\",\"Educational\",\"Edgy\",\"Eclectic\",\"Earnest\",\"Dominant\",\"Dogmatic\",\"Dispassionate\",\"Disorganized\",\"Diplomatic\",\"Deterministic\",\"Detached\",\"Descriptive\",\"Deontological\",\"Deferential\",\"Deconstructionist\",\"Decisive\",\"Data driven\",\"Cynical\",\"Curious\",\"Cryptic\",\"Cruel\",\"Critical\",\"Creative\",\"Cosmopolitan\",\"Convergent\",\"Contrarian\",\"Contemporary\",\"Constructivist\",\"Conscientious\",\"Confrontational\",\"Confident\",\"Condescending\",\"Conciliatory\",\"Conceptual\",\"Competitive\",\"Collectivistic\",\"Collaborative\",\"Closure seeking\",\"Circumspect\",\"Chill\",\"Charismatic\",\"Chaotic\",\"Challenging\",\"Cautious\",\"Casual\",\"Calm\",\"Calculating\",\"Bombastic\",\"Blunt\",\"Bitter\",\"Big picture\",\"Benevolent\",\"Avoidant\",\"Assertive\",\"Ascetic\",\"Artistic\",\"Arrogant\",\"Anxious\",\"Anthropocentric\",\"Animated\",\"Analytical\",\"Altruistic\",\"Agreeable\",\"Adventurous\",\"Acerbic\",\"Accommodating\",\"Accessible\",\"Abstract\",\"Absolutist\"],\"x\":[48.17413111885875,-13.803817851839087,70.06806791067464,-12.581949532288064,-79.6497690572088,-18.191545897512906,98.72819918179934,-16.780725715953555,-18.72105455250269,-21.24489642910569,-117.97998158955745,-36.88292788394539,10.955040014566157,36.66336372306842,22.832525523759898,31.55843023304457,34.86734765360437,106.38395302861933,-7.009245539920604,-85.45996969035461,14.945075319224541,17.176069345343976,87.67712770673994,-63.69643175331159,-15.933642214924253,-14.683173721152794,42.236283737175334,52.4441509723401,0.9494335265855767,-84.15355152436585,87.23813957315666,-38.47421361803425,-9.486176355227972,-21.27219484452582,-89.01326828421149,16.33643988082782,-56.30203609155988,-83.48891371090399,-33.790609209728245,14.830228555276657,-13.373359752075215,86.76515819325152,-3.110838724392691,35.25309575991045,-26.648047566501983,-23.49558184019921,-20.875581865466682,-15.179094610624412,-18.593500640867223,-16.30905145041314,13.292557462289126,-18.834652448285173,60.943950430475574,4.1014556071008235,68.87733519612728,-20.723031912697042,-9.544230937312319,-22.605038093027304,53.72577673882464,-8.825234360971603,21.6236565052968,79.81993139545357,-19.330663276256576,-51.774718814823395,76.12037221500871,51.436225418275235,52.05425768450386,-68.25153201599865,72.35557728926736,-19.532697994164575,-10.203533405657627,-30.534281890286294,-10.339129116172847,1.8001972977689578,-8.15473728968015,91.62158816700646,-20.896778797365567,-47.658450323340155,-22.364156673317755,30.943603178539504,-107.5809294160956,-27.855140363630028,21.99542877765454,-20.085405135139013,-44.54331824607075,-32.290413782191784,16.48452199693057,86.42351931218853,2.3647860016538833,73.44778248000601,-24.95614475129071,86.51606482550365,-32.46331596270065,-20.151061689689854,9.569882786847975,-122.95276575257513,-23.26055500785745,-43.4935127095259,-69.89356933720065,-3.2174116311671557,-13.593409145983921,3.906663347034903,13.792463007029456,29.67497620149319,49.13230786251619,-3.206965045601246,4.826181521189868,12.9046404468943,47.34881322431319,-53.48962775961595,-22.92347252954376,-6.769432846860413,36.89188915362327,27.081413830498178,-103.2743172155583,51.16994313366305,9.74416899932434,-67.86801464132759,-3.036792808653141,50.07256184102765,-2.6042140930817648,-27.216150037786743,51.57725715801202,-3.8440519854969644,-13.804662396257438,-104.54678301666277,-17.03438996120642,-22.29416232855883,-17.04130292832594,-8.489740205469033,44.604962942194454,-56.313694499646886,9.070321916197678,19.220743587605757,89.03389101812915,6.344834371073776,2.0625159962055752,-35.08055269366007,-38.544774339652164,-40.4109892696231,-16.65685243612959,78.92828569423197,56.39208911217387,-13.950804155686564,42.79632177526569,-51.40190813173316,79.73088555470963,58.5076127135522,-41.66799095257158,21.587091550715627,80.95832548928287,71.78809896367567,7.098028321633432,52.53104127735515,67.65369858708267,50.343251530530104,-87.72555006693217,-74.6366702140618,-38.4128425996301,25.03203671393396,-30.767267522228806,-61.93654352500471,-44.16112802201097,-20.277063267409055,-19.9328795798094,80.5225120964141,-67.22680040795073,-14.717506856703773,-32.006546038450686,73.59528858288498,-15.291306832102455,-94.91710545297228,56.33627363656692,71.11425771723076,29.9111230584566,-22.156832380238196,30.997892189509177,-20.05716045113048,-2.37478676947167,88.19830631278337,6.3023418836169105,-99.45499624489052,-51.531784652126824,20.84703631284244,-19.239583661582238,-46.412177531691015,-10.25429843799697,25.44545140946805,-82.19753364577174,78.69110909550687,25.48350932808906,94.25279853857191,-1.5839685700579595,66.93731886743235,51.32469370514223,-9.643350095265012,-28.344982154125283,102.59122799553904,58.99842281976244,-64.46572469082784,-50.9331554939544,23.43231053517813,18.79203622173994,-60.26296565366299,-31.501701672359854,-21.356122524076277,48.3748071887125,-73.29855102925617,12.336881575146524,-23.088469384911527,64.72535646135944,98.31617786655994,2.563073082421503,70.96464233837092,-1.931611130106024,-67.99927763672314,11.095959096839227,22.548281372094305,-16.739871798284558,-29.069258930451465],\"y\":[1,1,1,1,1,1,1,1,1,1,1,1,1,1,1,1,1,1,1,1,1,1,1,1,1,1,1,1,1,1,1,1,1,1,1,1,1,1,1,1,1,1,1,1,1,1,1,1,1,1,1,1,1,1,1,1,1,1,1,1,1,1,1,1,1,1,1,1,1,1,1,1,1,1,1,1,1,1,1,1,1,1,1,1,1,1,1,1,1,1,1,1,1,1,1,1,1,1,1,1,1,1,1,1,1,1,1,1,1,1,1,1,1,1,1,1,1,1,1,1,1,1,1,1,1,1,1,1,1,1,1,1,1,1,1,1,1,1,1,1,1,1,1,1,1,1,1,1,1,1,1,1,1,1,1,1,1,1,1,1,1,1,1,1,1,1,1,1,1,1,1,1,1,1,1,1,1,1,1,1,1,1,1,1,1,1,1,1,1,1,1,1,1,1,1,1,1,1,1,1,1,1,1,1,1,1,1,1,1,1,1,1,1,1,1,1,1,1,1,1],\"type\":\"scatter\",\"xaxis\":\"x2\",\"yaxis\":\"y2\"},{\"hovertemplate\":\"\\u003cb\\u003e%{text}\\u003c\\u002fb\\u003e\\u003cbr\\u003ePC Projection: %{x:.3f}\\u003cextra\\u003e\\u003c\\u002fextra\\u003e\",\"marker\":{\"color\":\"limegreen\",\"line\":{\"color\":\"black\",\"width\":1},\"opacity\":1.0,\"size\":8,\"symbol\":\"diamond\"},\"mode\":\"markers\",\"showlegend\":false,\"text\":[\"Transparent\",\"Theatrical\",\"Sycophantic\",\"Reserved\",\"Reactive\",\"Proactive\",\"Pensive\",\"Nonchalant\",\"Meticulous\",\"Introspective\",\"Impulsive\",\"Impatient\",\"Flippant\",\"Eloquent\",\"Efficient\",\"Dramatic\",\"Divergent\",\"Concise\",\"Callous\",\"Adaptable\"],\"x\":[109.37204205031199,115.03954801748856,-124.3923095026789,-132.1130307492306,-126.4017274740716,141.5008968616248,111.2132151704574,-127.84528904695038,114.47608635800643,121.69543151403639,-171.76527377714405,-126.72344557987324,-134.96462729158247,114.95672054857741,-146.4664371058407,109.82444032890871,112.95895050097857,-155.52160695962579,-141.20958587959583,117.73285716333417],\"y\":[1,1,1,1,1,1,1,1,1,1,1,1,1,1,1,1,1,1,1,1],\"type\":\"scatter\",\"xaxis\":\"x2\",\"yaxis\":\"y2\"},{\"hoverinfo\":\"skip\",\"line\":{\"color\":\"black\",\"width\":1},\"mode\":\"lines\",\"showlegend\":false,\"x\":[-171.76527377714405,-171.76527377714405],\"y\":[1.0,1.45],\"type\":\"scatter\",\"xaxis\":\"x2\",\"yaxis\":\"y2\"},{\"hoverinfo\":\"skip\",\"line\":{\"color\":\"black\",\"width\":1},\"mode\":\"lines\",\"showlegend\":false,\"x\":[-155.52160695962579,-155.52160695962579],\"y\":[1.0,0.6],\"type\":\"scatter\",\"xaxis\":\"x2\",\"yaxis\":\"y2\"},{\"hoverinfo\":\"skip\",\"line\":{\"color\":\"black\",\"width\":1},\"mode\":\"lines\",\"showlegend\":false,\"x\":[-146.4664371058407,-146.4664371058407],\"y\":[1.0,1.9],\"type\":\"scatter\",\"xaxis\":\"x2\",\"yaxis\":\"y2\"},{\"hoverinfo\":\"skip\",\"line\":{\"color\":\"black\",\"width\":1},\"mode\":\"lines\",\"showlegend\":false,\"x\":[-141.20958587959583,-141.20958587959583],\"y\":[1.0,0.15],\"type\":\"scatter\",\"xaxis\":\"x2\",\"yaxis\":\"y2\"},{\"hoverinfo\":\"skip\",\"line\":{\"color\":\"black\",\"width\":1},\"mode\":\"lines\",\"showlegend\":false,\"x\":[-134.96462729158247,-134.96462729158247],\"y\":[1.0,1.6],\"type\":\"scatter\",\"xaxis\":\"x2\",\"yaxis\":\"y2\"},{\"hoverinfo\":\"skip\",\"line\":{\"color\":\"black\",\"width\":1},\"mode\":\"lines\",\"showlegend\":false,\"x\":[-132.1130307492306,-132.1130307492306],\"y\":[1.0,0.45],\"type\":\"scatter\",\"xaxis\":\"x2\",\"yaxis\":\"y2\"},{\"hoverinfo\":\"skip\",\"line\":{\"color\":\"black\",\"width\":1},\"mode\":\"lines\",\"showlegend\":false,\"x\":[-127.84528904695038,-127.84528904695038],\"y\":[1.0,1.3],\"type\":\"scatter\",\"xaxis\":\"x2\",\"yaxis\":\"y2\"},{\"hoverinfo\":\"skip\",\"line\":{\"color\":\"black\",\"width\":1},\"mode\":\"lines\",\"showlegend\":false,\"x\":[-126.72344557987324,-126.72344557987324],\"y\":[1.0,0.75],\"type\":\"scatter\",\"xaxis\":\"x2\",\"yaxis\":\"y2\"},{\"hoverinfo\":\"skip\",\"line\":{\"color\":\"black\",\"width\":1},\"mode\":\"lines\",\"showlegend\":false,\"x\":[-126.4017274740716,-126.4017274740716],\"y\":[1.0,1.75],\"type\":\"scatter\",\"xaxis\":\"x2\",\"yaxis\":\"y2\"},{\"hoverinfo\":\"skip\",\"line\":{\"color\":\"black\",\"width\":1},\"mode\":\"lines\",\"showlegend\":false,\"x\":[-124.3923095026789,-124.3923095026789],\"y\":[1.0,0.3],\"type\":\"scatter\",\"xaxis\":\"x2\",\"yaxis\":\"y2\"},{\"hoverinfo\":\"skip\",\"line\":{\"color\":\"black\",\"width\":1},\"mode\":\"lines\",\"showlegend\":false,\"x\":[109.37204205031199,109.37204205031199],\"y\":[1.0,1.45],\"type\":\"scatter\",\"xaxis\":\"x2\",\"yaxis\":\"y2\"},{\"hoverinfo\":\"skip\",\"line\":{\"color\":\"black\",\"width\":1},\"mode\":\"lines\",\"showlegend\":false,\"x\":[109.82444032890871,109.82444032890871],\"y\":[1.0,0.6],\"type\":\"scatter\",\"xaxis\":\"x2\",\"yaxis\":\"y2\"},{\"hoverinfo\":\"skip\",\"line\":{\"color\":\"black\",\"width\":1},\"mode\":\"lines\",\"showlegend\":false,\"x\":[111.2132151704574,111.2132151704574],\"y\":[1.0,1.9],\"type\":\"scatter\",\"xaxis\":\"x2\",\"yaxis\":\"y2\"},{\"hoverinfo\":\"skip\",\"line\":{\"color\":\"black\",\"width\":1},\"mode\":\"lines\",\"showlegend\":false,\"x\":[112.95895050097857,112.95895050097857],\"y\":[1.0,0.15],\"type\":\"scatter\",\"xaxis\":\"x2\",\"yaxis\":\"y2\"},{\"hoverinfo\":\"skip\",\"line\":{\"color\":\"black\",\"width\":1},\"mode\":\"lines\",\"showlegend\":false,\"x\":[114.47608635800643,114.47608635800643],\"y\":[1.0,1.6],\"type\":\"scatter\",\"xaxis\":\"x2\",\"yaxis\":\"y2\"},{\"hoverinfo\":\"skip\",\"line\":{\"color\":\"black\",\"width\":1},\"mode\":\"lines\",\"showlegend\":false,\"x\":[114.95672054857741,114.95672054857741],\"y\":[1.0,0.45],\"type\":\"scatter\",\"xaxis\":\"x2\",\"yaxis\":\"y2\"},{\"hoverinfo\":\"skip\",\"line\":{\"color\":\"black\",\"width\":1},\"mode\":\"lines\",\"showlegend\":false,\"x\":[115.03954801748856,115.03954801748856],\"y\":[1.0,1.3],\"type\":\"scatter\",\"xaxis\":\"x2\",\"yaxis\":\"y2\"},{\"hoverinfo\":\"skip\",\"line\":{\"color\":\"black\",\"width\":1},\"mode\":\"lines\",\"showlegend\":false,\"x\":[117.73285716333417,117.73285716333417],\"y\":[1.0,0.75],\"type\":\"scatter\",\"xaxis\":\"x2\",\"yaxis\":\"y2\"},{\"hoverinfo\":\"skip\",\"line\":{\"color\":\"black\",\"width\":1},\"mode\":\"lines\",\"showlegend\":false,\"x\":[121.69543151403639,121.69543151403639],\"y\":[1.0,1.75],\"type\":\"scatter\",\"xaxis\":\"x2\",\"yaxis\":\"y2\"},{\"hoverinfo\":\"skip\",\"line\":{\"color\":\"black\",\"width\":1},\"mode\":\"lines\",\"showlegend\":false,\"x\":[141.5008968616248,141.5008968616248],\"y\":[1.0,0.3],\"type\":\"scatter\",\"xaxis\":\"x2\",\"yaxis\":\"y2\"},{\"hoverinfo\":\"skip\",\"marker\":{\"color\":\"limegreen\"},\"opacity\":0.7,\"showlegend\":false,\"width\":8.353764550367169,\"x\":[-166.54417093316457,-156.1019652452056,-145.65975955724664,-135.21755386928768,-124.77534818132872,-114.33314249336976,-103.8909368054108,-93.44873111745184,-83.00652542949288,-72.56431974153392,-62.12211405357496,-51.679908365616,-41.23770267765704,-30.79549698969808,-20.35329130173912,-9.911085613780159,0.5311200741788014,10.973325762137762,21.415531450096722,31.857737138055683,42.29994282601464,52.7421485139736,63.184354201932564,73.62655988989152,84.06876557785048,94.51097126580945,104.9531769537684,115.39538264172737,125.83758832968633,136.27979401764532],\"y\":[0.024999999999999998,0.024999999999999998,0.049999999999999996,0.049999999999999996,0.125,0.024999999999999998,0.09999999999999999,0.049999999999999996,0.15,0.15,0.125,0.19999999999999998,0.25,0.325,0.9,0.47500000000000003,0.425,0.35000000000000003,0.375,0.25,0.09999999999999999,0.375,0.15,0.25,0.3,0.09999999999999999,0.09999999999999999,0.15,0.024999999999999998,0.024999999999999998],\"type\":\"bar\",\"xaxis\":\"x2\",\"yaxis\":\"y2\"}],                        {\"template\":{\"data\":{\"histogram2dcontour\":[{\"type\":\"histogram2dcontour\",\"colorbar\":{\"outlinewidth\":0,\"ticks\":\"\"},\"colorscale\":[[0.0,\"#0d0887\"],[0.1111111111111111,\"#46039f\"],[0.2222222222222222,\"#7201a8\"],[0.3333333333333333,\"#9c179e\"],[0.4444444444444444,\"#bd3786\"],[0.5555555555555556,\"#d8576b\"],[0.6666666666666666,\"#ed7953\"],[0.7777777777777778,\"#fb9f3a\"],[0.8888888888888888,\"#fdca26\"],[1.0,\"#f0f921\"]]}],\"choropleth\":[{\"type\":\"choropleth\",\"colorbar\":{\"outlinewidth\":0,\"ticks\":\"\"}}],\"histogram2d\":[{\"type\":\"histogram2d\",\"colorbar\":{\"outlinewidth\":0,\"ticks\":\"\"},\"colorscale\":[[0.0,\"#0d0887\"],[0.1111111111111111,\"#46039f\"],[0.2222222222222222,\"#7201a8\"],[0.3333333333333333,\"#9c179e\"],[0.4444444444444444,\"#bd3786\"],[0.5555555555555556,\"#d8576b\"],[0.6666666666666666,\"#ed7953\"],[0.7777777777777778,\"#fb9f3a\"],[0.8888888888888888,\"#fdca26\"],[1.0,\"#f0f921\"]]}],\"heatmap\":[{\"type\":\"heatmap\",\"colorbar\":{\"outlinewidth\":0,\"ticks\":\"\"},\"colorscale\":[[0.0,\"#0d0887\"],[0.1111111111111111,\"#46039f\"],[0.2222222222222222,\"#7201a8\"],[0.3333333333333333,\"#9c179e\"],[0.4444444444444444,\"#bd3786\"],[0.5555555555555556,\"#d8576b\"],[0.6666666666666666,\"#ed7953\"],[0.7777777777777778,\"#fb9f3a\"],[0.8888888888888888,\"#fdca26\"],[1.0,\"#f0f921\"]]}],\"heatmapgl\":[{\"type\":\"heatmapgl\",\"colorbar\":{\"outlinewidth\":0,\"ticks\":\"\"},\"colorscale\":[[0.0,\"#0d0887\"],[0.1111111111111111,\"#46039f\"],[0.2222222222222222,\"#7201a8\"],[0.3333333333333333,\"#9c179e\"],[0.4444444444444444,\"#bd3786\"],[0.5555555555555556,\"#d8576b\"],[0.6666666666666666,\"#ed7953\"],[0.7777777777777778,\"#fb9f3a\"],[0.8888888888888888,\"#fdca26\"],[1.0,\"#f0f921\"]]}],\"contourcarpet\":[{\"type\":\"contourcarpet\",\"colorbar\":{\"outlinewidth\":0,\"ticks\":\"\"}}],\"contour\":[{\"type\":\"contour\",\"colorbar\":{\"outlinewidth\":0,\"ticks\":\"\"},\"colorscale\":[[0.0,\"#0d0887\"],[0.1111111111111111,\"#46039f\"],[0.2222222222222222,\"#7201a8\"],[0.3333333333333333,\"#9c179e\"],[0.4444444444444444,\"#bd3786\"],[0.5555555555555556,\"#d8576b\"],[0.6666666666666666,\"#ed7953\"],[0.7777777777777778,\"#fb9f3a\"],[0.8888888888888888,\"#fdca26\"],[1.0,\"#f0f921\"]]}],\"surface\":[{\"type\":\"surface\",\"colorbar\":{\"outlinewidth\":0,\"ticks\":\"\"},\"colorscale\":[[0.0,\"#0d0887\"],[0.1111111111111111,\"#46039f\"],[0.2222222222222222,\"#7201a8\"],[0.3333333333333333,\"#9c179e\"],[0.4444444444444444,\"#bd3786\"],[0.5555555555555556,\"#d8576b\"],[0.6666666666666666,\"#ed7953\"],[0.7777777777777778,\"#fb9f3a\"],[0.8888888888888888,\"#fdca26\"],[1.0,\"#f0f921\"]]}],\"mesh3d\":[{\"type\":\"mesh3d\",\"colorbar\":{\"outlinewidth\":0,\"ticks\":\"\"}}],\"scatter\":[{\"fillpattern\":{\"fillmode\":\"overlay\",\"size\":10,\"solidity\":0.2},\"type\":\"scatter\"}],\"parcoords\":[{\"type\":\"parcoords\",\"line\":{\"colorbar\":{\"outlinewidth\":0,\"ticks\":\"\"}}}],\"scatterpolargl\":[{\"type\":\"scatterpolargl\",\"marker\":{\"colorbar\":{\"outlinewidth\":0,\"ticks\":\"\"}}}],\"bar\":[{\"error_x\":{\"color\":\"#2a3f5f\"},\"error_y\":{\"color\":\"#2a3f5f\"},\"marker\":{\"line\":{\"color\":\"#E5ECF6\",\"width\":0.5},\"pattern\":{\"fillmode\":\"overlay\",\"size\":10,\"solidity\":0.2}},\"type\":\"bar\"}],\"scattergeo\":[{\"type\":\"scattergeo\",\"marker\":{\"colorbar\":{\"outlinewidth\":0,\"ticks\":\"\"}}}],\"scatterpolar\":[{\"type\":\"scatterpolar\",\"marker\":{\"colorbar\":{\"outlinewidth\":0,\"ticks\":\"\"}}}],\"histogram\":[{\"marker\":{\"pattern\":{\"fillmode\":\"overlay\",\"size\":10,\"solidity\":0.2}},\"type\":\"histogram\"}],\"scattergl\":[{\"type\":\"scattergl\",\"marker\":{\"colorbar\":{\"outlinewidth\":0,\"ticks\":\"\"}}}],\"scatter3d\":[{\"type\":\"scatter3d\",\"line\":{\"colorbar\":{\"outlinewidth\":0,\"ticks\":\"\"}},\"marker\":{\"colorbar\":{\"outlinewidth\":0,\"ticks\":\"\"}}}],\"scattermapbox\":[{\"type\":\"scattermapbox\",\"marker\":{\"colorbar\":{\"outlinewidth\":0,\"ticks\":\"\"}}}],\"scatterternary\":[{\"type\":\"scatterternary\",\"marker\":{\"colorbar\":{\"outlinewidth\":0,\"ticks\":\"\"}}}],\"scattercarpet\":[{\"type\":\"scattercarpet\",\"marker\":{\"colorbar\":{\"outlinewidth\":0,\"ticks\":\"\"}}}],\"carpet\":[{\"aaxis\":{\"endlinecolor\":\"#2a3f5f\",\"gridcolor\":\"white\",\"linecolor\":\"white\",\"minorgridcolor\":\"white\",\"startlinecolor\":\"#2a3f5f\"},\"baxis\":{\"endlinecolor\":\"#2a3f5f\",\"gridcolor\":\"white\",\"linecolor\":\"white\",\"minorgridcolor\":\"white\",\"startlinecolor\":\"#2a3f5f\"},\"type\":\"carpet\"}],\"table\":[{\"cells\":{\"fill\":{\"color\":\"#EBF0F8\"},\"line\":{\"color\":\"white\"}},\"header\":{\"fill\":{\"color\":\"#C8D4E3\"},\"line\":{\"color\":\"white\"}},\"type\":\"table\"}],\"barpolar\":[{\"marker\":{\"line\":{\"color\":\"#E5ECF6\",\"width\":0.5},\"pattern\":{\"fillmode\":\"overlay\",\"size\":10,\"solidity\":0.2}},\"type\":\"barpolar\"}],\"pie\":[{\"automargin\":true,\"type\":\"pie\"}]},\"layout\":{\"autotypenumbers\":\"strict\",\"colorway\":[\"#636efa\",\"#EF553B\",\"#00cc96\",\"#ab63fa\",\"#FFA15A\",\"#19d3f3\",\"#FF6692\",\"#B6E880\",\"#FF97FF\",\"#FECB52\"],\"font\":{\"color\":\"#2a3f5f\"},\"hovermode\":\"closest\",\"hoverlabel\":{\"align\":\"left\"},\"paper_bgcolor\":\"white\",\"plot_bgcolor\":\"#E5ECF6\",\"polar\":{\"bgcolor\":\"#E5ECF6\",\"angularaxis\":{\"gridcolor\":\"white\",\"linecolor\":\"white\",\"ticks\":\"\"},\"radialaxis\":{\"gridcolor\":\"white\",\"linecolor\":\"white\",\"ticks\":\"\"}},\"ternary\":{\"bgcolor\":\"#E5ECF6\",\"aaxis\":{\"gridcolor\":\"white\",\"linecolor\":\"white\",\"ticks\":\"\"},\"baxis\":{\"gridcolor\":\"white\",\"linecolor\":\"white\",\"ticks\":\"\"},\"caxis\":{\"gridcolor\":\"white\",\"linecolor\":\"white\",\"ticks\":\"\"}},\"coloraxis\":{\"colorbar\":{\"outlinewidth\":0,\"ticks\":\"\"}},\"colorscale\":{\"sequential\":[[0.0,\"#0d0887\"],[0.1111111111111111,\"#46039f\"],[0.2222222222222222,\"#7201a8\"],[0.3333333333333333,\"#9c179e\"],[0.4444444444444444,\"#bd3786\"],[0.5555555555555556,\"#d8576b\"],[0.6666666666666666,\"#ed7953\"],[0.7777777777777778,\"#fb9f3a\"],[0.8888888888888888,\"#fdca26\"],[1.0,\"#f0f921\"]],\"sequentialminus\":[[0.0,\"#0d0887\"],[0.1111111111111111,\"#46039f\"],[0.2222222222222222,\"#7201a8\"],[0.3333333333333333,\"#9c179e\"],[0.4444444444444444,\"#bd3786\"],[0.5555555555555556,\"#d8576b\"],[0.6666666666666666,\"#ed7953\"],[0.7777777777777778,\"#fb9f3a\"],[0.8888888888888888,\"#fdca26\"],[1.0,\"#f0f921\"]],\"diverging\":[[0,\"#8e0152\"],[0.1,\"#c51b7d\"],[0.2,\"#de77ae\"],[0.3,\"#f1b6da\"],[0.4,\"#fde0ef\"],[0.5,\"#f7f7f7\"],[0.6,\"#e6f5d0\"],[0.7,\"#b8e186\"],[0.8,\"#7fbc41\"],[0.9,\"#4d9221\"],[1,\"#276419\"]]},\"xaxis\":{\"gridcolor\":\"white\",\"linecolor\":\"white\",\"ticks\":\"\",\"title\":{\"standoff\":15},\"zerolinecolor\":\"white\",\"automargin\":true,\"zerolinewidth\":2},\"yaxis\":{\"gridcolor\":\"white\",\"linecolor\":\"white\",\"ticks\":\"\",\"title\":{\"standoff\":15},\"zerolinecolor\":\"white\",\"automargin\":true,\"zerolinewidth\":2},\"scene\":{\"xaxis\":{\"backgroundcolor\":\"#E5ECF6\",\"gridcolor\":\"white\",\"linecolor\":\"white\",\"showbackground\":true,\"ticks\":\"\",\"zerolinecolor\":\"white\",\"gridwidth\":2},\"yaxis\":{\"backgroundcolor\":\"#E5ECF6\",\"gridcolor\":\"white\",\"linecolor\":\"white\",\"showbackground\":true,\"ticks\":\"\",\"zerolinecolor\":\"white\",\"gridwidth\":2},\"zaxis\":{\"backgroundcolor\":\"#E5ECF6\",\"gridcolor\":\"white\",\"linecolor\":\"white\",\"showbackground\":true,\"ticks\":\"\",\"zerolinecolor\":\"white\",\"gridwidth\":2}},\"shapedefaults\":{\"line\":{\"color\":\"#2a3f5f\"}},\"annotationdefaults\":{\"arrowcolor\":\"#2a3f5f\",\"arrowhead\":0,\"arrowwidth\":1},\"geo\":{\"bgcolor\":\"white\",\"landcolor\":\"#E5ECF6\",\"subunitcolor\":\"white\",\"showland\":true,\"showlakes\":true,\"lakecolor\":\"white\"},\"title\":{\"x\":0.05},\"mapbox\":{\"style\":\"light\"}}},\"xaxis\":{\"anchor\":\"y\",\"domain\":[0.0,1.0],\"range\":[-1.0900396726841852,1.0900396726841852]},\"yaxis\":{\"anchor\":\"x\",\"domain\":[0.55,1.0],\"showticklabels\":false,\"range\":[0,2.5]},\"xaxis2\":{\"anchor\":\"y2\",\"domain\":[0.0,1.0],\"range\":[-188.94180115485847,188.94180115485847]},\"yaxis2\":{\"anchor\":\"x2\",\"domain\":[0.0,0.45],\"showticklabels\":false,\"range\":[0,2.5]},\"annotations\":[{\"font\":{\"size\":16},\"showarrow\":false,\"text\":\"PC1 Cosine Similarity\",\"x\":0.5,\"xanchor\":\"center\",\"xref\":\"paper\",\"y\":1.0,\"yanchor\":\"bottom\",\"yref\":\"paper\"},{\"font\":{\"size\":16},\"showarrow\":false,\"text\":\"PC1 Projection\",\"x\":0.5,\"xanchor\":\"center\",\"xref\":\"paper\",\"y\":0.45,\"yanchor\":\"bottom\",\"yref\":\"paper\"},{\"bgcolor\":\"rgba(255, 255, 255, 0.9)\",\"bordercolor\":\"black\",\"borderwidth\":1,\"font\":{\"color\":\"black\",\"size\":10},\"showarrow\":false,\"text\":\"Impulsive\",\"x\":-0.9909451569856229,\"xref\":\"x\",\"y\":1.45,\"yref\":\"y\"},{\"bgcolor\":\"rgba(255, 255, 255, 0.9)\",\"bordercolor\":\"black\",\"borderwidth\":1,\"font\":{\"color\":\"black\",\"size\":10},\"showarrow\":false,\"text\":\"Concise\",\"x\":-0.9877046963954774,\"xref\":\"x\",\"y\":0.6,\"yref\":\"y\"},{\"bgcolor\":\"rgba(255, 255, 255, 0.9)\",\"bordercolor\":\"black\",\"borderwidth\":1,\"font\":{\"color\":\"black\",\"size\":10},\"showarrow\":false,\"text\":\"Efficient\",\"x\":-0.9854174655547493,\"xref\":\"x\",\"y\":1.9,\"yref\":\"y\"},{\"bgcolor\":\"rgba(255, 255, 255, 0.9)\",\"bordercolor\":\"black\",\"borderwidth\":1,\"font\":{\"color\":\"black\",\"size\":10},\"showarrow\":false,\"text\":\"Impatient\",\"x\":-0.984692030287078,\"xref\":\"x\",\"y\":0.15,\"yref\":\"y\"},{\"bgcolor\":\"rgba(255, 255, 255, 0.9)\",\"bordercolor\":\"black\",\"borderwidth\":1,\"font\":{\"color\":\"black\",\"size\":10},\"showarrow\":false,\"text\":\"Flippant\",\"x\":-0.984097615668313,\"xref\":\"x\",\"y\":1.6,\"yref\":\"y\"},{\"bgcolor\":\"rgba(255, 255, 255, 0.9)\",\"bordercolor\":\"black\",\"borderwidth\":1,\"font\":{\"color\":\"black\",\"size\":10},\"showarrow\":false,\"text\":\"Callous\",\"x\":-0.9808472465177085,\"xref\":\"x\",\"y\":0.45,\"yref\":\"y\"},{\"bgcolor\":\"rgba(255, 255, 255, 0.9)\",\"bordercolor\":\"black\",\"borderwidth\":1,\"font\":{\"color\":\"black\",\"size\":10},\"showarrow\":false,\"text\":\"Nonchalant\",\"x\":-0.9792573231123178,\"xref\":\"x\",\"y\":1.3,\"yref\":\"y\"},{\"bgcolor\":\"rgba(255, 255, 255, 0.9)\",\"bordercolor\":\"black\",\"borderwidth\":1,\"font\":{\"color\":\"black\",\"size\":10},\"showarrow\":false,\"text\":\"Reactive\",\"x\":-0.9786343273542558,\"xref\":\"x\",\"y\":0.75,\"yref\":\"y\"},{\"bgcolor\":\"rgba(255, 255, 255, 0.9)\",\"bordercolor\":\"black\",\"borderwidth\":1,\"font\":{\"color\":\"black\",\"size\":10},\"showarrow\":false,\"text\":\"Literal\",\"x\":-0.9741035689829148,\"xref\":\"x\",\"y\":1.75,\"yref\":\"y\"},{\"bgcolor\":\"rgba(255, 255, 255, 0.9)\",\"bordercolor\":\"black\",\"borderwidth\":1,\"font\":{\"color\":\"black\",\"size\":10},\"showarrow\":false,\"text\":\"Sycophantic\",\"x\":-0.9708152401399436,\"xref\":\"x\",\"y\":0.3,\"yref\":\"y\"},{\"bgcolor\":\"rgba(255, 255, 255, 0.9)\",\"bordercolor\":\"black\",\"borderwidth\":1,\"font\":{\"color\":\"black\",\"size\":10},\"showarrow\":false,\"text\":\"Transparent\",\"x\":0.9510346108931805,\"xref\":\"x\",\"y\":1.45,\"yref\":\"y\"},{\"bgcolor\":\"rgba(255, 255, 255, 0.9)\",\"bordercolor\":\"black\",\"borderwidth\":1,\"font\":{\"color\":\"black\",\"size\":10},\"showarrow\":false,\"text\":\"Introspective\",\"x\":0.9602513926945353,\"xref\":\"x\",\"y\":0.6,\"yref\":\"y\"},{\"bgcolor\":\"rgba(255, 255, 255, 0.9)\",\"bordercolor\":\"black\",\"borderwidth\":1,\"font\":{\"color\":\"black\",\"size\":10},\"showarrow\":false,\"text\":\"Divergent\",\"x\":0.9610917308272384,\"xref\":\"x\",\"y\":1.9,\"yref\":\"y\"},{\"bgcolor\":\"rgba(255, 255, 255, 0.9)\",\"bordercolor\":\"black\",\"borderwidth\":1,\"font\":{\"color\":\"black\",\"size\":10},\"showarrow\":false,\"text\":\"Eloquent\",\"x\":0.9637404800322502,\"xref\":\"x\",\"y\":0.15,\"yref\":\"y\"},{\"bgcolor\":\"rgba(255, 255, 255, 0.9)\",\"bordercolor\":\"black\",\"borderwidth\":1,\"font\":{\"color\":\"black\",\"size\":10},\"showarrow\":false,\"text\":\"Meticulous\",\"x\":0.965017889476535,\"xref\":\"x\",\"y\":1.6,\"yref\":\"y\"},{\"bgcolor\":\"rgba(255, 255, 255, 0.9)\",\"bordercolor\":\"black\",\"borderwidth\":1,\"font\":{\"color\":\"black\",\"size\":10},\"showarrow\":false,\"text\":\"Supportive\",\"x\":0.9664669796945302,\"xref\":\"x\",\"y\":0.45,\"yref\":\"y\"},{\"bgcolor\":\"rgba(255, 255, 255, 0.9)\",\"bordercolor\":\"black\",\"borderwidth\":1,\"font\":{\"color\":\"black\",\"size\":10},\"showarrow\":false,\"text\":\"Verbose\",\"x\":0.9670793649941903,\"xref\":\"x\",\"y\":1.3,\"yref\":\"y\"},{\"bgcolor\":\"rgba(255, 255, 255, 0.9)\",\"bordercolor\":\"black\",\"borderwidth\":1,\"font\":{\"color\":\"black\",\"size\":10},\"showarrow\":false,\"text\":\"Adaptable\",\"x\":0.9715414798670886,\"xref\":\"x\",\"y\":0.75,\"yref\":\"y\"},{\"bgcolor\":\"rgba(255, 255, 255, 0.9)\",\"bordercolor\":\"black\",\"borderwidth\":1,\"font\":{\"color\":\"black\",\"size\":10},\"showarrow\":false,\"text\":\"Pensive\",\"x\":0.9765867117636251,\"xref\":\"x\",\"y\":1.75,\"yref\":\"y\"},{\"bgcolor\":\"rgba(255, 255, 255, 0.9)\",\"bordercolor\":\"black\",\"borderwidth\":1,\"font\":{\"color\":\"black\",\"size\":10},\"showarrow\":false,\"text\":\"Proactive\",\"x\":0.9841526558799457,\"xref\":\"x\",\"y\":0.3,\"yref\":\"y\"},{\"bgcolor\":\"rgba(255, 255, 255, 0.9)\",\"bordercolor\":\"red\",\"borderwidth\":1,\"font\":{\"color\":\"red\",\"size\":14},\"showarrow\":false,\"text\":\"Assistant\",\"x\":-0.4786581890617816,\"xref\":\"x\",\"y\":2,\"yref\":\"y\"},{\"bgcolor\":\"rgba(255, 255, 255, 0.9)\",\"bordercolor\":\"black\",\"borderwidth\":1,\"font\":{\"color\":\"black\",\"size\":10},\"showarrow\":false,\"text\":\"Impulsive\",\"x\":-171.76527377714405,\"xref\":\"x2\",\"y\":1.45,\"yref\":\"y2\"},{\"bgcolor\":\"rgba(255, 255, 255, 0.9)\",\"bordercolor\":\"black\",\"borderwidth\":1,\"font\":{\"color\":\"black\",\"size\":10},\"showarrow\":false,\"text\":\"Concise\",\"x\":-155.52160695962579,\"xref\":\"x2\",\"y\":0.6,\"yref\":\"y2\"},{\"bgcolor\":\"rgba(255, 255, 255, 0.9)\",\"bordercolor\":\"black\",\"borderwidth\":1,\"font\":{\"color\":\"black\",\"size\":10},\"showarrow\":false,\"text\":\"Efficient\",\"x\":-146.4664371058407,\"xref\":\"x2\",\"y\":1.9,\"yref\":\"y2\"},{\"bgcolor\":\"rgba(255, 255, 255, 0.9)\",\"bordercolor\":\"black\",\"borderwidth\":1,\"font\":{\"color\":\"black\",\"size\":10},\"showarrow\":false,\"text\":\"Callous\",\"x\":-141.20958587959583,\"xref\":\"x2\",\"y\":0.15,\"yref\":\"y2\"},{\"bgcolor\":\"rgba(255, 255, 255, 0.9)\",\"bordercolor\":\"black\",\"borderwidth\":1,\"font\":{\"color\":\"black\",\"size\":10},\"showarrow\":false,\"text\":\"Flippant\",\"x\":-134.96462729158247,\"xref\":\"x2\",\"y\":1.6,\"yref\":\"y2\"},{\"bgcolor\":\"rgba(255, 255, 255, 0.9)\",\"bordercolor\":\"black\",\"borderwidth\":1,\"font\":{\"color\":\"black\",\"size\":10},\"showarrow\":false,\"text\":\"Reserved\",\"x\":-132.1130307492306,\"xref\":\"x2\",\"y\":0.45,\"yref\":\"y2\"},{\"bgcolor\":\"rgba(255, 255, 255, 0.9)\",\"bordercolor\":\"black\",\"borderwidth\":1,\"font\":{\"color\":\"black\",\"size\":10},\"showarrow\":false,\"text\":\"Nonchalant\",\"x\":-127.84528904695038,\"xref\":\"x2\",\"y\":1.3,\"yref\":\"y2\"},{\"bgcolor\":\"rgba(255, 255, 255, 0.9)\",\"bordercolor\":\"black\",\"borderwidth\":1,\"font\":{\"color\":\"black\",\"size\":10},\"showarrow\":false,\"text\":\"Impatient\",\"x\":-126.72344557987324,\"xref\":\"x2\",\"y\":0.75,\"yref\":\"y2\"},{\"bgcolor\":\"rgba(255, 255, 255, 0.9)\",\"bordercolor\":\"black\",\"borderwidth\":1,\"font\":{\"color\":\"black\",\"size\":10},\"showarrow\":false,\"text\":\"Reactive\",\"x\":-126.4017274740716,\"xref\":\"x2\",\"y\":1.75,\"yref\":\"y2\"},{\"bgcolor\":\"rgba(255, 255, 255, 0.9)\",\"bordercolor\":\"black\",\"borderwidth\":1,\"font\":{\"color\":\"black\",\"size\":10},\"showarrow\":false,\"text\":\"Sycophantic\",\"x\":-124.3923095026789,\"xref\":\"x2\",\"y\":0.3,\"yref\":\"y2\"},{\"bgcolor\":\"rgba(255, 255, 255, 0.9)\",\"bordercolor\":\"black\",\"borderwidth\":1,\"font\":{\"color\":\"black\",\"size\":10},\"showarrow\":false,\"text\":\"Transparent\",\"x\":109.37204205031199,\"xref\":\"x2\",\"y\":1.45,\"yref\":\"y2\"},{\"bgcolor\":\"rgba(255, 255, 255, 0.9)\",\"bordercolor\":\"black\",\"borderwidth\":1,\"font\":{\"color\":\"black\",\"size\":10},\"showarrow\":false,\"text\":\"Dramatic\",\"x\":109.82444032890871,\"xref\":\"x2\",\"y\":0.6,\"yref\":\"y2\"},{\"bgcolor\":\"rgba(255, 255, 255, 0.9)\",\"bordercolor\":\"black\",\"borderwidth\":1,\"font\":{\"color\":\"black\",\"size\":10},\"showarrow\":false,\"text\":\"Pensive\",\"x\":111.2132151704574,\"xref\":\"x2\",\"y\":1.9,\"yref\":\"y2\"},{\"bgcolor\":\"rgba(255, 255, 255, 0.9)\",\"bordercolor\":\"black\",\"borderwidth\":1,\"font\":{\"color\":\"black\",\"size\":10},\"showarrow\":false,\"text\":\"Divergent\",\"x\":112.95895050097857,\"xref\":\"x2\",\"y\":0.15,\"yref\":\"y2\"},{\"bgcolor\":\"rgba(255, 255, 255, 0.9)\",\"bordercolor\":\"black\",\"borderwidth\":1,\"font\":{\"color\":\"black\",\"size\":10},\"showarrow\":false,\"text\":\"Meticulous\",\"x\":114.47608635800643,\"xref\":\"x2\",\"y\":1.6,\"yref\":\"y2\"},{\"bgcolor\":\"rgba(255, 255, 255, 0.9)\",\"bordercolor\":\"black\",\"borderwidth\":1,\"font\":{\"color\":\"black\",\"size\":10},\"showarrow\":false,\"text\":\"Eloquent\",\"x\":114.95672054857741,\"xref\":\"x2\",\"y\":0.45,\"yref\":\"y2\"},{\"bgcolor\":\"rgba(255, 255, 255, 0.9)\",\"bordercolor\":\"black\",\"borderwidth\":1,\"font\":{\"color\":\"black\",\"size\":10},\"showarrow\":false,\"text\":\"Theatrical\",\"x\":115.03954801748856,\"xref\":\"x2\",\"y\":1.3,\"yref\":\"y2\"},{\"bgcolor\":\"rgba(255, 255, 255, 0.9)\",\"bordercolor\":\"black\",\"borderwidth\":1,\"font\":{\"color\":\"black\",\"size\":10},\"showarrow\":false,\"text\":\"Adaptable\",\"x\":117.73285716333417,\"xref\":\"x2\",\"y\":0.75,\"yref\":\"y2\"},{\"bgcolor\":\"rgba(255, 255, 255, 0.9)\",\"bordercolor\":\"black\",\"borderwidth\":1,\"font\":{\"color\":\"black\",\"size\":10},\"showarrow\":false,\"text\":\"Introspective\",\"x\":121.69543151403639,\"xref\":\"x2\",\"y\":1.75,\"yref\":\"y2\"},{\"bgcolor\":\"rgba(255, 255, 255, 0.9)\",\"bordercolor\":\"black\",\"borderwidth\":1,\"font\":{\"color\":\"black\",\"size\":10},\"showarrow\":false,\"text\":\"Proactive\",\"x\":141.5008968616248,\"xref\":\"x2\",\"y\":0.3,\"yref\":\"y2\"},{\"bgcolor\":\"rgba(255, 255, 255, 0.9)\",\"bordercolor\":\"red\",\"borderwidth\":1,\"font\":{\"color\":\"red\",\"size\":14},\"showarrow\":false,\"text\":\"Assistant\",\"x\":-27.71476634747793,\"xref\":\"x2\",\"y\":2,\"yref\":\"y2\"}],\"shapes\":[{\"line\":{\"color\":\"gray\",\"dash\":\"solid\",\"width\":1},\"opacity\":0.7,\"type\":\"line\",\"x0\":0,\"x1\":0,\"xref\":\"x\",\"y0\":0,\"y1\":1,\"yref\":\"y domain\"},{\"line\":{\"color\":\"red\",\"dash\":\"dash\",\"width\":1},\"opacity\":1.0,\"type\":\"line\",\"x0\":-0.4786581890617816,\"x1\":-0.4786581890617816,\"xref\":\"x\",\"y0\":0,\"y1\":1,\"yref\":\"y domain\"},{\"line\":{\"color\":\"gray\",\"dash\":\"solid\",\"width\":1},\"opacity\":0.7,\"type\":\"line\",\"x0\":0,\"x1\":0,\"xref\":\"x2\",\"y0\":0,\"y1\":1,\"yref\":\"y2 domain\"},{\"line\":{\"color\":\"red\",\"dash\":\"dash\",\"width\":1},\"opacity\":1.0,\"type\":\"line\",\"x0\":-27.71476634747793,\"x1\":-27.71476634747793,\"xref\":\"x2\",\"y0\":0,\"y1\":1,\"yref\":\"y2 domain\"}],\"title\":{\"subtitle\":{\"text\":\"Gemma 3 27B, Layer 32 - Shared Question Set, Mean-Centered and Scaled Vectors\"},\"font\":{\"size\":16},\"text\":\"PCA on Trait Vectors\",\"x\":0.5},\"height\":800,\"width\":1200,\"showlegend\":false},                        {\"responsive\": true}                    ).then(function(){\n",
       "                            \n",
       "var gd = document.getElementById('71ee28d7-0c4c-45b9-9857-333b23821a89');\n",
       "var x = new MutationObserver(function (mutations, observer) {{\n",
       "        var display = window.getComputedStyle(gd).display;\n",
       "        if (!display || display === 'none') {{\n",
       "            console.log([gd, 'removed!']);\n",
       "            Plotly.purge(gd);\n",
       "            observer.disconnect();\n",
       "        }}\n",
       "}});\n",
       "\n",
       "// Listen for the removal of the full notebook cells\n",
       "var notebookContainer = gd.closest('#notebook-container');\n",
       "if (notebookContainer) {{\n",
       "    x.observe(notebookContainer, {childList: true});\n",
       "}}\n",
       "\n",
       "// Listen for the clearing of the current output cell\n",
       "var outputEl = gd.closest('.output');\n",
       "if (outputEl) {{\n",
       "    x.observe(outputEl, {childList: true});\n",
       "}}\n",
       "\n",
       "                        })                };                });            </script>        </div>"
      ]
     },
     "metadata": {},
     "output_type": "display_data"
    },
    {
     "data": {
      "application/vnd.plotly.v1+json": {
       "config": {
        "plotlyServerURL": "https://plot.ly"
       },
       "data": [
        {
         "hovertemplate": "<b>%{text}</b><br>Cosine Similarity: %{x:.3f}<extra></extra>",
         "marker": {
          "color": "limegreen",
          "line": {
           "color": "black",
           "width": 1
          },
          "opacity": 1,
          "size": 8,
          "symbol": "diamond"
         },
         "mode": "markers",
         "showlegend": false,
         "text": [
          "Zealous",
          "Wry",
          "Witty",
          "Visceral",
          "Vindictive",
          "Verbose",
          "Utilitarian",
          "Urgent",
          "Universalist",
          "Understated",
          "Transparent",
          "Traditional",
          "Theoretical",
          "Theatrical",
          "Technical",
          "Tactful",
          "Systems thinker",
          "Sycophantic",
          "Supportive",
          "Subversive",
          "Submissive",
          "Structuralist",
          "Strategic",
          "Stoic",
          "Spiritual",
          "Speculative",
          "Specialized",
          "Socratic",
          "Skeptical",
          "Serious",
          "Serene",
          "Secular",
          "Savage",
          "Sassy",
          "Sardonic",
          "Sarcastic",
          "Ritualistic",
          "Risk taking",
          "Rhetorical",
          "Reverent",
          "Resilient",
          "Reserved",
          "Relativist",
          "Regulatory",
          "Reductionist",
          "Rebellious",
          "Reactive",
          "Radical",
          "Qualitative",
          "Provocative",
          "Progressive",
          "Problem solving",
          "Proactive",
          "Principled",
          "Prescriptive",
          "Practical",
          "Poetic",
          "Pluralist",
          "Playful",
          "Philosophical",
          "Petty",
          "Pessimistic",
          "Perfectionist",
          "Pensive",
          "Pedantic",
          "Patient",
          "Passive aggressive",
          "Passionate",
          "Paranoid",
          "Paradoxical",
          "Pacifist",
          "Optimistic",
          "Open ended",
          "Obsessive",
          "Nurturing",
          "Nostalgic",
          "Nonchalant",
          "Nihilistic",
          "Neurotic",
          "Narrative",
          "Naive",
          "Mystical",
          "Misanthropic",
          "Militant",
          "Meticulous",
          "Metaphorical",
          "Melodramatic",
          "Melancholic",
          "Meditative",
          "Materialist",
          "Manipulative",
          "Literal",
          "Libertarian",
          "Judgmental",
          "Irreverent",
          "Ironic",
          "Intuitive",
          "Introverted",
          "Introspective",
          "Interdisciplinary",
          "Inspirational",
          "Inquisitive",
          "Innovative",
          "Individualistic",
          "Independent",
          "Inclusive",
          "Impulsive",
          "Improvisational",
          "Impatient",
          "Idealistic",
          "Iconoclastic",
          "Humble",
          "Humanistic",
          "Hostile",
          "Holistic",
          "Historical",
          "Hedonistic",
          "Grounded",
          "Gregarious",
          "Grandiose",
          "Goofy",
          "Generous",
          "Generalist",
          "Futuristic",
          "Fundamentalist",
          "Formalist",
          "Forgiving",
          "Flippant",
          "Flexible",
          "Fatalistic",
          "Extroverted",
          "Exploratory",
          "Experiential",
          "Existentialist",
          "Evil",
          "Ethereal",
          "Essentialist",
          "Esoteric",
          "Erudite",
          "Epicurean",
          "Environmental",
          "Entertaining",
          "Enigmatic",
          "Empathetic",
          "Emotional",
          "Eloquent",
          "Elitist",
          "Egalitarian",
          "Effusive",
          "Efficient",
          "Educational",
          "Eclectic",
          "Earnest",
          "Dramatic",
          "Dominant",
          "Dogmatic",
          "Divergent",
          "Dispassionate",
          "Disorganized",
          "Deterministic",
          "Detached",
          "Descriptive",
          "Deontological",
          "Deferential",
          "Deconstructionist",
          "Decisive",
          "Cynical",
          "Curious",
          "Cryptic",
          "Cruel",
          "Critical",
          "Creative",
          "Cosmopolitan",
          "Convergent",
          "Contrarian",
          "Contemporary",
          "Constructivist",
          "Conscientious",
          "Confrontational",
          "Confident",
          "Condescending",
          "Concise",
          "Conciliatory",
          "Conceptual",
          "Competitive",
          "Collectivistic",
          "Collaborative",
          "Closure seeking",
          "Circumspect",
          "Chill",
          "Charismatic",
          "Chaotic",
          "Challenging",
          "Cautious",
          "Casual",
          "Callous",
          "Calculating",
          "Bombastic",
          "Blunt",
          "Bitter",
          "Big picture",
          "Benevolent",
          "Avoidant",
          "Assertive",
          "Ascetic",
          "Artistic",
          "Arrogant",
          "Anxious",
          "Anthropocentric",
          "Animated",
          "Analytical",
          "Altruistic",
          "Agreeable",
          "Adventurous",
          "Adaptable",
          "Acerbic",
          "Accommodating",
          "Accessible",
          "Abstract",
          "Absolutist"
         ],
         "type": "scatter",
         "x": [
          -0.3922842349276745,
          -0.28539792420295673,
          -0.2281255948979437,
          -0.22808516999887818,
          0.03694218116683993,
          0.06763644756860321,
          0.25119109686700314,
          0.06052765674981138,
          0.11117696345385586,
          0.10738949485077263,
          0.1250887910120137,
          0.28232126807505825,
          -0.02904906583965973,
          -0.20128802747640184,
          0.3421168474403615,
          0.26067286596743255,
          0.1184804750993102,
          -0.034231940337385906,
          0.08794586166462405,
          -0.3307580736066998,
          0.039047844420392816,
          0.5172727481185091,
          0.18372985577527842,
          0.35351136792781424,
          -0.26902237430665293,
          -0.14892014225568218,
          0.16090770714210104,
          -0.007074013777307093,
          0.08223355975575698,
          0.5085781661730238,
          0.46689598645159036,
          0.2950847556370224,
          -0.022270826347670213,
          -0.2910912671864748,
          -0.21934427954256483,
          -0.1118735856067792,
          0.24255954044414604,
          -0.39715050010817116,
          -0.1833654161753571,
          0.3144442191885265,
          0.3984080587571646,
          0.24213167033279637,
          -0.25102298648895865,
          0.4266951881449686,
          0.3934494894064299,
          -0.20718074742488754,
          -0.05949450022492668,
          -0.2321575538915575,
          -0.36603876639270433,
          -0.13121898116626687,
          -0.02298624345815017,
          0.2777232611655401,
          0.05660484417541592,
          0.3317321455277753,
          0.3017491207836975,
          0.22372209804071536,
          -0.2051128474388415,
          0.24472652147099605,
          -0.465992303641062,
          -0.1050208676341101,
          -0.409413389050383,
          -0.08063987054630066,
          0.17472045668260497,
          0.028369159844788532,
          0.16218689859373334,
          0.28048305647298155,
          -0.13270842520917273,
          -0.2973421768113882,
          -0.18393702305223938,
          -0.2779189820740914,
          -0.007651045255509217,
          0.26144199269146856,
          -0.09643657543744949,
          -0.34580631721055244,
          0.06237914130487564,
          -0.11376987315709167,
          -0.01190808116030319,
          -0.1543736865532307,
          -0.3640162518441373,
          -0.339180542256147,
          0.03702080109124594,
          -0.34099610510642797,
          -0.2177082292588213,
          -0.2621632674854135,
          0.1468921383709721,
          -0.1956362662963858,
          -0.354210561026822,
          -0.17203702149163452,
          0.025263402878901286,
          0.3130014243732896,
          -0.3907343858853212,
          0.08466352740685028,
          -0.08702467968783648,
          -0.18447630181608962,
          -0.2171715439013065,
          -0.35157162949733245,
          -0.26769149013922905,
          0.31815466930979186,
          0.0040080151057027965,
          0.12751919549270105,
          0.23257467299943255,
          0.07229220295639326,
          -0.253090395578842,
          -0.3411880662863157,
          0.14167213902253273,
          0.13136729688906687,
          -0.017583312919610773,
          -0.18799434677464472,
          -0.010355608462058023,
          0.0065377989526233535,
          -0.282224150360786,
          0.11949902115945835,
          0.06399668102810405,
          -0.04990357814028164,
          0.12116351599360978,
          0.03212936857749591,
          -0.11503165807166515,
          0.4724401897028498,
          -0.09959370401403533,
          -0.40596217815636804,
          -0.47360853309552686,
          0.20203571282192223,
          0.17594920329982427,
          -0.016497714188824713,
          0.05914549151734913,
          0.4994650748747285,
          0.1974208682481655,
          -0.06496674651121725,
          0.2556228144896303,
          -0.05343302389874417,
          -0.06191741158936968,
          0.10221169619764879,
          0.09959268689285751,
          0.029215372182376485,
          -0.3503030730653265,
          -0.3285800508893924,
          0.13224988671279758,
          -0.09809997536560594,
          0.0697996195963988,
          -0.09572426475261998,
          0.1312290921525105,
          -0.4143993606357001,
          -0.3113480663655502,
          -0.05583023646491159,
          -0.28094659741901495,
          -0.05034709544054283,
          -0.07454839337265022,
          0.1677763020180256,
          -0.2617935965689235,
          0.02616623706357728,
          0.25578714395956365,
          -0.07196604955313171,
          0.08027376537991564,
          -0.22711450782317807,
          0.04060427255595311,
          -0.06867600210751651,
          0.020192282395650234,
          0.41317193103962313,
          -0.4684592018186869,
          0.0003792933587096228,
          0.35337739208596114,
          0.4149997726767888,
          0.09512380854909512,
          0.2787115521261326,
          -0.04664661143816067,
          0.1781865319086864,
          -0.03719686317798605,
          0.011974050304686039,
          -0.35989656337117093,
          -0.010763781077546776,
          -0.09637138732685192,
          -0.16904877381100966,
          0.2696529379452513,
          0.286170628364807,
          -0.18110700460356893,
          0.1462376126679974,
          -0.042329162312789444,
          0.2625271195272239,
          0.018172896893699067,
          0.036380386104210086,
          -0.16626713651306785,
          0.03010995466136226,
          0.47527417365551716,
          -0.0050212933036257075,
          -0.10863238320870121,
          0.3015267597019223,
          0.2080377941006394,
          0.14482217851511534,
          0.08753260754835532,
          0.2615450269546664,
          -0.11817867481103299,
          -0.1383719018538993,
          -0.03616077253006899,
          0.1664784757292432,
          -0.27265526959460307,
          0.059667858082129016,
          0.07734601028699849,
          -0.29347013424511886,
          0.06002656484669289,
          -0.25202535852589975,
          0.10996618062694376,
          0.30633232706915414,
          0.07682910971364997,
          -0.1385276043098063,
          0.24955138679633662,
          -0.29782289972391157,
          -0.11108851058175377,
          -0.2901122551431648,
          0.1209821932537636,
          -0.21912675985709879,
          0.2286692119127018,
          0.30415582863716967,
          0.13265893331628095,
          -0.27564937234769454,
          0.04398232104488077,
          -0.12827777602555138,
          0.0658212068112724,
          0.07632877567512472,
          0.003675409967408469,
          0.12135169679011856
         ],
         "xaxis": "x",
         "y": [
          1,
          1,
          1,
          1,
          1,
          1,
          1,
          1,
          1,
          1,
          1,
          1,
          1,
          1,
          1,
          1,
          1,
          1,
          1,
          1,
          1,
          1,
          1,
          1,
          1,
          1,
          1,
          1,
          1,
          1,
          1,
          1,
          1,
          1,
          1,
          1,
          1,
          1,
          1,
          1,
          1,
          1,
          1,
          1,
          1,
          1,
          1,
          1,
          1,
          1,
          1,
          1,
          1,
          1,
          1,
          1,
          1,
          1,
          1,
          1,
          1,
          1,
          1,
          1,
          1,
          1,
          1,
          1,
          1,
          1,
          1,
          1,
          1,
          1,
          1,
          1,
          1,
          1,
          1,
          1,
          1,
          1,
          1,
          1,
          1,
          1,
          1,
          1,
          1,
          1,
          1,
          1,
          1,
          1,
          1,
          1,
          1,
          1,
          1,
          1,
          1,
          1,
          1,
          1,
          1,
          1,
          1,
          1,
          1,
          1,
          1,
          1,
          1,
          1,
          1,
          1,
          1,
          1,
          1,
          1,
          1,
          1,
          1,
          1,
          1,
          1,
          1,
          1,
          1,
          1,
          1,
          1,
          1,
          1,
          1,
          1,
          1,
          1,
          1,
          1,
          1,
          1,
          1,
          1,
          1,
          1,
          1,
          1,
          1,
          1,
          1,
          1,
          1,
          1,
          1,
          1,
          1,
          1,
          1,
          1,
          1,
          1,
          1,
          1,
          1,
          1,
          1,
          1,
          1,
          1,
          1,
          1,
          1,
          1,
          1,
          1,
          1,
          1,
          1,
          1,
          1,
          1,
          1,
          1,
          1,
          1,
          1,
          1,
          1,
          1,
          1,
          1,
          1,
          1,
          1,
          1,
          1,
          1,
          1,
          1,
          1,
          1,
          1,
          1,
          1,
          1,
          1,
          1,
          1,
          1,
          1,
          1,
          1,
          1,
          1,
          1,
          1,
          1,
          1,
          1
         ],
         "yaxis": "y"
        },
        {
         "hovertemplate": "<b>%{text}</b><br>Cosine Similarity: %{x:.3f}<extra></extra>",
         "marker": {
          "color": "limegreen",
          "line": {
           "color": "black",
           "width": 1
          },
          "opacity": 1,
          "size": 8,
          "symbol": "diamond"
         },
         "mode": "markers",
         "showlegend": false,
         "text": [
          "Whimsical",
          "Temperamental",
          "Stream of consciousness",
          "Spontaneous",
          "Solemn",
          "Romantic",
          "Rationalist",
          "Quantitative",
          "Moderate",
          "Mischievous",
          "Methodical",
          "Mercurial",
          "Manic",
          "Formal",
          "Flirty",
          "Factual",
          "Edgy",
          "Diplomatic",
          "Data driven",
          "Calm"
         ],
         "type": "scatter",
         "x": [
          -0.6420792995064228,
          -0.5178294173493785,
          -0.49326991828560734,
          -0.6475504337830023,
          0.5596256534250693,
          -0.4939091618529695,
          0.5816956365886586,
          0.5301021379762503,
          0.5336289132351821,
          -0.5451669803318538,
          0.7762659295036755,
          -0.653747915304146,
          -0.5757834243001319,
          0.5346015378560017,
          -0.4827576793613414,
          0.7520153524134868,
          -0.5585550339856651,
          0.5333532912388452,
          0.623384739896098,
          0.6317723421873132
         ],
         "xaxis": "x",
         "y": [
          1,
          1,
          1,
          1,
          1,
          1,
          1,
          1,
          1,
          1,
          1,
          1,
          1,
          1,
          1,
          1,
          1,
          1,
          1,
          1
         ],
         "yaxis": "y"
        },
        {
         "hoverinfo": "skip",
         "line": {
          "color": "black",
          "width": 1
         },
         "mode": "lines",
         "showlegend": false,
         "type": "scatter",
         "x": [
          -0.653747915304146,
          -0.653747915304146
         ],
         "xaxis": "x",
         "y": [
          1,
          1.45
         ],
         "yaxis": "y"
        },
        {
         "hoverinfo": "skip",
         "line": {
          "color": "black",
          "width": 1
         },
         "mode": "lines",
         "showlegend": false,
         "type": "scatter",
         "x": [
          -0.6475504337830023,
          -0.6475504337830023
         ],
         "xaxis": "x",
         "y": [
          1,
          0.6
         ],
         "yaxis": "y"
        },
        {
         "hoverinfo": "skip",
         "line": {
          "color": "black",
          "width": 1
         },
         "mode": "lines",
         "showlegend": false,
         "type": "scatter",
         "x": [
          -0.6420792995064228,
          -0.6420792995064228
         ],
         "xaxis": "x",
         "y": [
          1,
          1.9
         ],
         "yaxis": "y"
        },
        {
         "hoverinfo": "skip",
         "line": {
          "color": "black",
          "width": 1
         },
         "mode": "lines",
         "showlegend": false,
         "type": "scatter",
         "x": [
          -0.5757834243001319,
          -0.5757834243001319
         ],
         "xaxis": "x",
         "y": [
          1,
          0.15
         ],
         "yaxis": "y"
        },
        {
         "hoverinfo": "skip",
         "line": {
          "color": "black",
          "width": 1
         },
         "mode": "lines",
         "showlegend": false,
         "type": "scatter",
         "x": [
          -0.5585550339856651,
          -0.5585550339856651
         ],
         "xaxis": "x",
         "y": [
          1,
          1.6
         ],
         "yaxis": "y"
        },
        {
         "hoverinfo": "skip",
         "line": {
          "color": "black",
          "width": 1
         },
         "mode": "lines",
         "showlegend": false,
         "type": "scatter",
         "x": [
          -0.5451669803318538,
          -0.5451669803318538
         ],
         "xaxis": "x",
         "y": [
          1,
          0.45
         ],
         "yaxis": "y"
        },
        {
         "hoverinfo": "skip",
         "line": {
          "color": "black",
          "width": 1
         },
         "mode": "lines",
         "showlegend": false,
         "type": "scatter",
         "x": [
          -0.5178294173493785,
          -0.5178294173493785
         ],
         "xaxis": "x",
         "y": [
          1,
          1.3
         ],
         "yaxis": "y"
        },
        {
         "hoverinfo": "skip",
         "line": {
          "color": "black",
          "width": 1
         },
         "mode": "lines",
         "showlegend": false,
         "type": "scatter",
         "x": [
          -0.4939091618529695,
          -0.4939091618529695
         ],
         "xaxis": "x",
         "y": [
          1,
          0.75
         ],
         "yaxis": "y"
        },
        {
         "hoverinfo": "skip",
         "line": {
          "color": "black",
          "width": 1
         },
         "mode": "lines",
         "showlegend": false,
         "type": "scatter",
         "x": [
          -0.49326991828560734,
          -0.49326991828560734
         ],
         "xaxis": "x",
         "y": [
          1,
          1.75
         ],
         "yaxis": "y"
        },
        {
         "hoverinfo": "skip",
         "line": {
          "color": "black",
          "width": 1
         },
         "mode": "lines",
         "showlegend": false,
         "type": "scatter",
         "x": [
          -0.4827576793613414,
          -0.4827576793613414
         ],
         "xaxis": "x",
         "y": [
          1,
          0.3
         ],
         "yaxis": "y"
        },
        {
         "hoverinfo": "skip",
         "line": {
          "color": "black",
          "width": 1
         },
         "mode": "lines",
         "showlegend": false,
         "type": "scatter",
         "x": [
          0.5301021379762503,
          0.5301021379762503
         ],
         "xaxis": "x",
         "y": [
          1,
          1.45
         ],
         "yaxis": "y"
        },
        {
         "hoverinfo": "skip",
         "line": {
          "color": "black",
          "width": 1
         },
         "mode": "lines",
         "showlegend": false,
         "type": "scatter",
         "x": [
          0.5333532912388452,
          0.5333532912388452
         ],
         "xaxis": "x",
         "y": [
          1,
          0.6
         ],
         "yaxis": "y"
        },
        {
         "hoverinfo": "skip",
         "line": {
          "color": "black",
          "width": 1
         },
         "mode": "lines",
         "showlegend": false,
         "type": "scatter",
         "x": [
          0.5336289132351821,
          0.5336289132351821
         ],
         "xaxis": "x",
         "y": [
          1,
          1.9
         ],
         "yaxis": "y"
        },
        {
         "hoverinfo": "skip",
         "line": {
          "color": "black",
          "width": 1
         },
         "mode": "lines",
         "showlegend": false,
         "type": "scatter",
         "x": [
          0.5346015378560017,
          0.5346015378560017
         ],
         "xaxis": "x",
         "y": [
          1,
          0.15
         ],
         "yaxis": "y"
        },
        {
         "hoverinfo": "skip",
         "line": {
          "color": "black",
          "width": 1
         },
         "mode": "lines",
         "showlegend": false,
         "type": "scatter",
         "x": [
          0.5596256534250693,
          0.5596256534250693
         ],
         "xaxis": "x",
         "y": [
          1,
          1.6
         ],
         "yaxis": "y"
        },
        {
         "hoverinfo": "skip",
         "line": {
          "color": "black",
          "width": 1
         },
         "mode": "lines",
         "showlegend": false,
         "type": "scatter",
         "x": [
          0.5816956365886586,
          0.5816956365886586
         ],
         "xaxis": "x",
         "y": [
          1,
          0.45
         ],
         "yaxis": "y"
        },
        {
         "hoverinfo": "skip",
         "line": {
          "color": "black",
          "width": 1
         },
         "mode": "lines",
         "showlegend": false,
         "type": "scatter",
         "x": [
          0.623384739896098,
          0.623384739896098
         ],
         "xaxis": "x",
         "y": [
          1,
          1.3
         ],
         "yaxis": "y"
        },
        {
         "hoverinfo": "skip",
         "line": {
          "color": "black",
          "width": 1
         },
         "mode": "lines",
         "showlegend": false,
         "type": "scatter",
         "x": [
          0.6317723421873132,
          0.6317723421873132
         ],
         "xaxis": "x",
         "y": [
          1,
          0.75
         ],
         "yaxis": "y"
        },
        {
         "hoverinfo": "skip",
         "line": {
          "color": "black",
          "width": 1
         },
         "mode": "lines",
         "showlegend": false,
         "type": "scatter",
         "x": [
          0.7520153524134868,
          0.7520153524134868
         ],
         "xaxis": "x",
         "y": [
          1,
          1.75
         ],
         "yaxis": "y"
        },
        {
         "hoverinfo": "skip",
         "line": {
          "color": "black",
          "width": 1
         },
         "mode": "lines",
         "showlegend": false,
         "type": "scatter",
         "x": [
          0.7762659295036755,
          0.7762659295036755
         ],
         "xaxis": "x",
         "y": [
          1,
          0.3
         ],
         "yaxis": "y"
        },
        {
         "hoverinfo": "skip",
         "marker": {
          "color": "limegreen"
         },
         "opacity": 0.7,
         "showlegend": false,
         "type": "bar",
         "width": 0.03813370252820861,
         "x": [
          -0.6299143512240156,
          -0.582247223063755,
          -0.5345800949034942,
          -0.4869129667432335,
          -0.4392458385829727,
          -0.3915787104227121,
          -0.34391158226245133,
          -0.2962444541021906,
          -0.2485773259419299,
          -0.2009101977816692,
          -0.15324306962140843,
          -0.10557594146114774,
          -0.05790881330088704,
          -0.010241685140626289,
          0.03742544301963441,
          0.0850925711798951,
          0.13275969934015586,
          0.18042682750041655,
          0.22809395566067725,
          0.275761083820938,
          0.32342821198119875,
          0.3710953401414595,
          0.41876246830172015,
          0.4664295964619808,
          0.5140967246222415,
          0.5617638527825023,
          0.609430980942763,
          0.6570981091030238,
          0.7047652372632844,
          0.7524323654235451
         ],
         "xaxis": "x",
         "y": [
          0.14210526315789473,
          0.09473684210526316,
          0.09473684210526316,
          0.28421052631578947,
          0,
          0.28421052631578947,
          0.5684210526315789,
          0.5684210526315789,
          0.5210526315789474,
          0.6157894736842106,
          0.4263157894736842,
          0.6631578947368421,
          0.7578947368421053,
          0.7578947368421053,
          0.9,
          0.8526315789473684,
          0.8052631578947369,
          0.47368421052631576,
          0.4263157894736842,
          0.6157894736842106,
          0.4263157894736842,
          0.14210526315789473,
          0.18947368421052632,
          0.14210526315789473,
          0.33157894736842103,
          0.09473684210526316,
          0.09473684210526316,
          0,
          0,
          0.09473684210526316
         ],
         "yaxis": "y"
        },
        {
         "hovertemplate": "<b>%{text}</b><br>PC Projection: %{x:.3f}<extra></extra>",
         "marker": {
          "color": "limegreen",
          "line": {
           "color": "black",
           "width": 1
          },
          "opacity": 1,
          "size": 8,
          "symbol": "diamond"
         },
         "mode": "markers",
         "showlegend": false,
         "text": [
          "Zealous",
          "Wry",
          "Witty",
          "Visceral",
          "Vindictive",
          "Verbose",
          "Utilitarian",
          "Urgent",
          "Universalist",
          "Understated",
          "Transparent",
          "Traditional",
          "Theoretical",
          "Theatrical",
          "Technical",
          "Tactful",
          "Systems thinker",
          "Sycophantic",
          "Supportive",
          "Subversive",
          "Submissive",
          "Structuralist",
          "Stream of consciousness",
          "Strategic",
          "Stoic",
          "Spiritual",
          "Speculative",
          "Specialized",
          "Solemn",
          "Socratic",
          "Skeptical",
          "Serene",
          "Secular",
          "Savage",
          "Sassy",
          "Sardonic",
          "Sarcastic",
          "Ritualistic",
          "Risk taking",
          "Rhetorical",
          "Reverent",
          "Resilient",
          "Relativist",
          "Regulatory",
          "Reductionist",
          "Rebellious",
          "Reactive",
          "Radical",
          "Qualitative",
          "Provocative",
          "Progressive",
          "Problem solving",
          "Proactive",
          "Principled",
          "Prescriptive",
          "Practical",
          "Poetic",
          "Pluralist",
          "Playful",
          "Philosophical",
          "Petty",
          "Pessimistic",
          "Perfectionist",
          "Pensive",
          "Pedantic",
          "Patient",
          "Passive aggressive",
          "Passionate",
          "Paranoid",
          "Paradoxical",
          "Pacifist",
          "Optimistic",
          "Open ended",
          "Obsessive",
          "Nurturing",
          "Nostalgic",
          "Nonchalant",
          "Nihilistic",
          "Neurotic",
          "Narrative",
          "Naive",
          "Mystical",
          "Moderate",
          "Mischievous",
          "Misanthropic",
          "Militant",
          "Meticulous",
          "Metaphorical",
          "Melancholic",
          "Meditative",
          "Materialist",
          "Manipulative",
          "Literal",
          "Libertarian",
          "Judgmental",
          "Irreverent",
          "Ironic",
          "Intuitive",
          "Introverted",
          "Introspective",
          "Interdisciplinary",
          "Inspirational",
          "Inquisitive",
          "Innovative",
          "Individualistic",
          "Independent",
          "Inclusive",
          "Impulsive",
          "Improvisational",
          "Impatient",
          "Idealistic",
          "Iconoclastic",
          "Humble",
          "Humanistic",
          "Hostile",
          "Holistic",
          "Historical",
          "Hedonistic",
          "Grounded",
          "Gregarious",
          "Grandiose",
          "Generous",
          "Generalist",
          "Futuristic",
          "Fundamentalist",
          "Formalist",
          "Formal",
          "Forgiving",
          "Flippant",
          "Flexible",
          "Fatalistic",
          "Extroverted",
          "Exploratory",
          "Experiential",
          "Existentialist",
          "Evil",
          "Ethereal",
          "Essentialist",
          "Esoteric",
          "Erudite",
          "Epicurean",
          "Environmental",
          "Entertaining",
          "Enigmatic",
          "Empathetic",
          "Emotional",
          "Eloquent",
          "Elitist",
          "Egalitarian",
          "Effusive",
          "Efficient",
          "Educational",
          "Edgy",
          "Eclectic",
          "Earnest",
          "Dramatic",
          "Dominant",
          "Dogmatic",
          "Divergent",
          "Diplomatic",
          "Deterministic",
          "Detached",
          "Deontological",
          "Deferential",
          "Deconstructionist",
          "Decisive",
          "Cynical",
          "Curious",
          "Cryptic",
          "Cruel",
          "Critical",
          "Creative",
          "Cosmopolitan",
          "Convergent",
          "Contrarian",
          "Contemporary",
          "Constructivist",
          "Conscientious",
          "Confrontational",
          "Confident",
          "Condescending",
          "Concise",
          "Conciliatory",
          "Conceptual",
          "Competitive",
          "Collectivistic",
          "Collaborative",
          "Closure seeking",
          "Circumspect",
          "Chill",
          "Charismatic",
          "Chaotic",
          "Challenging",
          "Cautious",
          "Casual",
          "Callous",
          "Calculating",
          "Bombastic",
          "Blunt",
          "Bitter",
          "Big picture",
          "Benevolent",
          "Avoidant",
          "Assertive",
          "Ascetic",
          "Artistic",
          "Arrogant",
          "Anxious",
          "Anthropocentric",
          "Animated",
          "Analytical",
          "Altruistic",
          "Agreeable",
          "Adventurous",
          "Adaptable",
          "Acerbic",
          "Accommodating",
          "Accessible",
          "Abstract",
          "Absolutist"
         ],
         "type": "scatter",
         "x": [
          -26.050074046170245,
          -12.01039870172103,
          -18.153921968601452,
          -19.549679127882705,
          1.6119510448909664,
          6.9049397066880145,
          11.121115336496702,
          3.1140387728418975,
          6.082355426830364,
          13.258875474827418,
          14.385613705128465,
          18.052579956602056,
          -1.3063095911869291,
          -25.42910073387476,
          17.38840227504625,
          12.407616392328972,
          6.867064938660762,
          -4.3862002755780445,
          9.68064983697343,
          -12.342155038916419,
          3.494377551537689,
          24.82740873631633,
          -21.625609989118015,
          17.182081900679574,
          26.302109445616267,
          -17.3986841729788,
          -7.414016458738448,
          10.645221223058874,
          23.816966223147222,
          -0.6494031910002939,
          7.65771922213115,
          23.069045612161865,
          18.0514944427671,
          -2.0776081988242727,
          -10.232509174076213,
          -14.793969335459641,
          -9.74177959215528,
          14.592284777847864,
          -15.76215741250836,
          -17.181218572002972,
          15.238336025018413,
          21.357513349401657,
          -13.809500823939468,
          21.26422088394294,
          18.133498612633485,
          -10.410838901902771,
          -7.684389774813373,
          -11.068196172038864,
          -20.809103608746646,
          -9.432816936835707,
          -1.0175534298308007,
          21.67635648278507,
          8.13861167013157,
          13.2437780076387,
          15.815104200672403,
          13.972295190773046,
          -13.072218052057382,
          9.255322627936629,
          -21.03498647397869,
          -9.04807342246706,
          -22.739333815628573,
          -5.0761691435146465,
          14.419605777038903,
          3.230665984731794,
          11.019017859416946,
          17.67353651150036,
          -10.011086529082691,
          -24.304696709579854,
          -7.816326351006332,
          -11.237955555518031,
          -0.36823401164087993,
          13.834361839789182,
          -4.318478302690947,
          -16.809814137921254,
          6.150539830996132,
          -6.0947380102571,
          -1.554639407957876,
          -11.162162549473644,
          -19.83050408062299,
          -19.90071938762634,
          4.340056827333495,
          -20.604300433113202,
          25.067879009302928,
          -25.73897143452232,
          -14.322444862002481,
          -15.261398586875872,
          17.425207663101688,
          -19.084045155353596,
          -8.575106210342133,
          2.6098255895883744,
          16.993827875331014,
          -22.253523428931313,
          10.686353278178597,
          -4.666604872650559,
          -10.446311156176867,
          -17.017653430250235,
          -15.80682238295405,
          -13.862462969528512,
          14.215574306121791,
          0.5079473863812778,
          4.196449962906489,
          13.050268105993881,
          4.221396749934897,
          -11.011302279610321,
          -10.661512774047932,
          5.523865517422454,
          7.7559884906387895,
          -3.0477998084722704,
          -11.903849336184344,
          -1.3326993013541923,
          0.3387739126509028,
          -12.278884354779372,
          6.3579966960921,
          3.297465505674032,
          -5.319454442315335,
          7.561284935785721,
          1.5713156825435273,
          -9.067751789583573,
          26.21061562744892,
          -5.947452273831743,
          -17.02661847767507,
          14.400320799213844,
          6.639752706669703,
          -0.7557725397384912,
          6.437706521309013,
          24.962759371290066,
          23.57215626454298,
          8.786994649133222,
          -8.909901291970497,
          14.854900150065319,
          -3.679682622605978,
          -2.4216334832426445,
          9.666295706744522,
          4.859047914471942,
          1.486273478432534,
          -21.770908822746506,
          -21.14633436046534,
          7.613340895525181,
          -6.196653337946165,
          6.056855672902505,
          -6.43514379970548,
          6.848979266471718,
          -24.59448288844935,
          -20.38211499180597,
          -4.8072767452593315,
          -20.19823024742643,
          -6.005493157798914,
          -4.563563275989528,
          7.671817541405489,
          -24.1496202853924,
          3.8891899160661074,
          21.18874840871974,
          -26.50433596434506,
          -4.405355364871302,
          6.000053640988327,
          -26.82868264925737,
          2.423102311205026,
          -6.3464617842436155,
          2.373237553465427,
          25.46873869831339,
          0.023530882899181878,
          27.19261569320302,
          5.191432691937092,
          11.753492153444428,
          -4.185309587212483,
          14.38934560669597,
          -1.943431937614664,
          0.9701409190320032,
          -16.218004951682985,
          -1.0661003964069835,
          -6.67576406962338,
          -13.17359692547837,
          12.871031429191728,
          11.308365122046174,
          -9.128708669155918,
          7.818935901324704,
          -2.3189565975166513,
          24.519370410098364,
          0.6774728134310115,
          3.7701523428224624,
          -10.40233565471237,
          4.741041157524854,
          21.053789818570046,
          -0.2572674498095363,
          -7.023751735414546,
          13.736070048764578,
          9.92325133615707,
          12.861807610587556,
          7.2637653357951155,
          12.146285395172002,
          -11.738602246444087,
          -6.123040593086078,
          -2.6586963076556347,
          10.311606707804343,
          -10.746992713507408,
          8.590199513939384,
          8.404816051873226,
          -23.526237271563037,
          4.31591102982033,
          -16.147485778253696,
          5.03432879866858,
          15.470476741235885,
          5.319949851163093,
          -6.654834527196615,
          13.960801908409444,
          -19.6359819539671,
          -9.035035607124163,
          -15.576434207436016,
          5.024013249389919,
          -16.784569404686405,
          24.017941848890107,
          14.773665410433624,
          10.258413369942343,
          -12.495101339627107,
          5.3298437631779905,
          -9.851768759967934,
          2.103179816002796,
          4.588351642473851,
          0.18156065976815047,
          6.723984080971752
         ],
         "xaxis": "x2",
         "y": [
          1,
          1,
          1,
          1,
          1,
          1,
          1,
          1,
          1,
          1,
          1,
          1,
          1,
          1,
          1,
          1,
          1,
          1,
          1,
          1,
          1,
          1,
          1,
          1,
          1,
          1,
          1,
          1,
          1,
          1,
          1,
          1,
          1,
          1,
          1,
          1,
          1,
          1,
          1,
          1,
          1,
          1,
          1,
          1,
          1,
          1,
          1,
          1,
          1,
          1,
          1,
          1,
          1,
          1,
          1,
          1,
          1,
          1,
          1,
          1,
          1,
          1,
          1,
          1,
          1,
          1,
          1,
          1,
          1,
          1,
          1,
          1,
          1,
          1,
          1,
          1,
          1,
          1,
          1,
          1,
          1,
          1,
          1,
          1,
          1,
          1,
          1,
          1,
          1,
          1,
          1,
          1,
          1,
          1,
          1,
          1,
          1,
          1,
          1,
          1,
          1,
          1,
          1,
          1,
          1,
          1,
          1,
          1,
          1,
          1,
          1,
          1,
          1,
          1,
          1,
          1,
          1,
          1,
          1,
          1,
          1,
          1,
          1,
          1,
          1,
          1,
          1,
          1,
          1,
          1,
          1,
          1,
          1,
          1,
          1,
          1,
          1,
          1,
          1,
          1,
          1,
          1,
          1,
          1,
          1,
          1,
          1,
          1,
          1,
          1,
          1,
          1,
          1,
          1,
          1,
          1,
          1,
          1,
          1,
          1,
          1,
          1,
          1,
          1,
          1,
          1,
          1,
          1,
          1,
          1,
          1,
          1,
          1,
          1,
          1,
          1,
          1,
          1,
          1,
          1,
          1,
          1,
          1,
          1,
          1,
          1,
          1,
          1,
          1,
          1,
          1,
          1,
          1,
          1,
          1,
          1,
          1,
          1,
          1,
          1,
          1,
          1,
          1,
          1,
          1,
          1,
          1,
          1,
          1,
          1,
          1,
          1,
          1,
          1,
          1,
          1,
          1,
          1,
          1,
          1
         ],
         "yaxis": "y2"
        },
        {
         "hovertemplate": "<b>%{text}</b><br>PC Projection: %{x:.3f}<extra></extra>",
         "marker": {
          "color": "limegreen",
          "line": {
           "color": "black",
           "width": 1
          },
          "opacity": 1,
          "size": 8,
          "symbol": "diamond"
         },
         "mode": "markers",
         "showlegend": false,
         "text": [
          "Whimsical",
          "Temperamental",
          "Spontaneous",
          "Serious",
          "Romantic",
          "Reserved",
          "Rationalist",
          "Quantitative",
          "Methodical",
          "Mercurial",
          "Melodramatic",
          "Manic",
          "Goofy",
          "Flirty",
          "Factual",
          "Dispassionate",
          "Disorganized",
          "Descriptive",
          "Data driven",
          "Calm"
         ],
         "type": "scatter",
         "x": [
          -31.080207777757415,
          -33.908977232850894,
          -27.980327467632478,
          32.05055937769082,
          -32.03140270235088,
          33.7697421320209,
          29.488247917777773,
          30.24535172999705,
          39.31140617524522,
          -32.53248779410619,
          -31.36848650277078,
          -36.49057549287295,
          -27.457631023254063,
          -27.203843834016478,
          35.969325976092534,
          36.12486411359998,
          -32.62192958674284,
          27.55905996002234,
          35.19105592684501,
          37.70023077493187
         ],
         "xaxis": "x2",
         "y": [
          1,
          1,
          1,
          1,
          1,
          1,
          1,
          1,
          1,
          1,
          1,
          1,
          1,
          1,
          1,
          1,
          1,
          1,
          1,
          1
         ],
         "yaxis": "y2"
        },
        {
         "hoverinfo": "skip",
         "line": {
          "color": "black",
          "width": 1
         },
         "mode": "lines",
         "showlegend": false,
         "type": "scatter",
         "x": [
          -36.49057549287295,
          -36.49057549287295
         ],
         "xaxis": "x2",
         "y": [
          1,
          1.45
         ],
         "yaxis": "y2"
        },
        {
         "hoverinfo": "skip",
         "line": {
          "color": "black",
          "width": 1
         },
         "mode": "lines",
         "showlegend": false,
         "type": "scatter",
         "x": [
          -33.908977232850894,
          -33.908977232850894
         ],
         "xaxis": "x2",
         "y": [
          1,
          0.6
         ],
         "yaxis": "y2"
        },
        {
         "hoverinfo": "skip",
         "line": {
          "color": "black",
          "width": 1
         },
         "mode": "lines",
         "showlegend": false,
         "type": "scatter",
         "x": [
          -32.62192958674284,
          -32.62192958674284
         ],
         "xaxis": "x2",
         "y": [
          1,
          1.9
         ],
         "yaxis": "y2"
        },
        {
         "hoverinfo": "skip",
         "line": {
          "color": "black",
          "width": 1
         },
         "mode": "lines",
         "showlegend": false,
         "type": "scatter",
         "x": [
          -32.53248779410619,
          -32.53248779410619
         ],
         "xaxis": "x2",
         "y": [
          1,
          0.15
         ],
         "yaxis": "y2"
        },
        {
         "hoverinfo": "skip",
         "line": {
          "color": "black",
          "width": 1
         },
         "mode": "lines",
         "showlegend": false,
         "type": "scatter",
         "x": [
          -32.03140270235088,
          -32.03140270235088
         ],
         "xaxis": "x2",
         "y": [
          1,
          1.6
         ],
         "yaxis": "y2"
        },
        {
         "hoverinfo": "skip",
         "line": {
          "color": "black",
          "width": 1
         },
         "mode": "lines",
         "showlegend": false,
         "type": "scatter",
         "x": [
          -31.36848650277078,
          -31.36848650277078
         ],
         "xaxis": "x2",
         "y": [
          1,
          0.45
         ],
         "yaxis": "y2"
        },
        {
         "hoverinfo": "skip",
         "line": {
          "color": "black",
          "width": 1
         },
         "mode": "lines",
         "showlegend": false,
         "type": "scatter",
         "x": [
          -31.080207777757415,
          -31.080207777757415
         ],
         "xaxis": "x2",
         "y": [
          1,
          1.3
         ],
         "yaxis": "y2"
        },
        {
         "hoverinfo": "skip",
         "line": {
          "color": "black",
          "width": 1
         },
         "mode": "lines",
         "showlegend": false,
         "type": "scatter",
         "x": [
          -27.980327467632478,
          -27.980327467632478
         ],
         "xaxis": "x2",
         "y": [
          1,
          0.75
         ],
         "yaxis": "y2"
        },
        {
         "hoverinfo": "skip",
         "line": {
          "color": "black",
          "width": 1
         },
         "mode": "lines",
         "showlegend": false,
         "type": "scatter",
         "x": [
          -27.457631023254063,
          -27.457631023254063
         ],
         "xaxis": "x2",
         "y": [
          1,
          1.75
         ],
         "yaxis": "y2"
        },
        {
         "hoverinfo": "skip",
         "line": {
          "color": "black",
          "width": 1
         },
         "mode": "lines",
         "showlegend": false,
         "type": "scatter",
         "x": [
          -27.203843834016478,
          -27.203843834016478
         ],
         "xaxis": "x2",
         "y": [
          1,
          0.3
         ],
         "yaxis": "y2"
        },
        {
         "hoverinfo": "skip",
         "line": {
          "color": "black",
          "width": 1
         },
         "mode": "lines",
         "showlegend": false,
         "type": "scatter",
         "x": [
          27.55905996002234,
          27.55905996002234
         ],
         "xaxis": "x2",
         "y": [
          1,
          1.45
         ],
         "yaxis": "y2"
        },
        {
         "hoverinfo": "skip",
         "line": {
          "color": "black",
          "width": 1
         },
         "mode": "lines",
         "showlegend": false,
         "type": "scatter",
         "x": [
          29.488247917777773,
          29.488247917777773
         ],
         "xaxis": "x2",
         "y": [
          1,
          0.6
         ],
         "yaxis": "y2"
        },
        {
         "hoverinfo": "skip",
         "line": {
          "color": "black",
          "width": 1
         },
         "mode": "lines",
         "showlegend": false,
         "type": "scatter",
         "x": [
          30.24535172999705,
          30.24535172999705
         ],
         "xaxis": "x2",
         "y": [
          1,
          1.9
         ],
         "yaxis": "y2"
        },
        {
         "hoverinfo": "skip",
         "line": {
          "color": "black",
          "width": 1
         },
         "mode": "lines",
         "showlegend": false,
         "type": "scatter",
         "x": [
          32.05055937769082,
          32.05055937769082
         ],
         "xaxis": "x2",
         "y": [
          1,
          0.15
         ],
         "yaxis": "y2"
        },
        {
         "hoverinfo": "skip",
         "line": {
          "color": "black",
          "width": 1
         },
         "mode": "lines",
         "showlegend": false,
         "type": "scatter",
         "x": [
          33.7697421320209,
          33.7697421320209
         ],
         "xaxis": "x2",
         "y": [
          1,
          1.6
         ],
         "yaxis": "y2"
        },
        {
         "hoverinfo": "skip",
         "line": {
          "color": "black",
          "width": 1
         },
         "mode": "lines",
         "showlegend": false,
         "type": "scatter",
         "x": [
          35.19105592684501,
          35.19105592684501
         ],
         "xaxis": "x2",
         "y": [
          1,
          0.45
         ],
         "yaxis": "y2"
        },
        {
         "hoverinfo": "skip",
         "line": {
          "color": "black",
          "width": 1
         },
         "mode": "lines",
         "showlegend": false,
         "type": "scatter",
         "x": [
          35.969325976092534,
          35.969325976092534
         ],
         "xaxis": "x2",
         "y": [
          1,
          1.3
         ],
         "yaxis": "y2"
        },
        {
         "hoverinfo": "skip",
         "line": {
          "color": "black",
          "width": 1
         },
         "mode": "lines",
         "showlegend": false,
         "type": "scatter",
         "x": [
          36.12486411359998,
          36.12486411359998
         ],
         "xaxis": "x2",
         "y": [
          1,
          0.75
         ],
         "yaxis": "y2"
        },
        {
         "hoverinfo": "skip",
         "line": {
          "color": "black",
          "width": 1
         },
         "mode": "lines",
         "showlegend": false,
         "type": "scatter",
         "x": [
          37.70023077493187,
          37.70023077493187
         ],
         "xaxis": "x2",
         "y": [
          1,
          1.75
         ],
         "yaxis": "y2"
        },
        {
         "hoverinfo": "skip",
         "line": {
          "color": "black",
          "width": 1
         },
         "mode": "lines",
         "showlegend": false,
         "type": "scatter",
         "x": [
          39.31140617524522,
          39.31140617524522
         ],
         "xaxis": "x2",
         "y": [
          1,
          0.3
         ],
         "yaxis": "y2"
        },
        {
         "hoverinfo": "skip",
         "marker": {
          "color": "limegreen"
         },
         "opacity": 0.7,
         "showlegend": false,
         "type": "bar",
         "width": 2.021386177816487,
         "x": [
          -35.227209131737645,
          -32.70047640946704,
          -30.173743687196435,
          -27.647010964925826,
          -25.120278242655225,
          -22.593545520384616,
          -20.066812798114007,
          -17.540080075843406,
          -15.013347353572799,
          -12.486614631302194,
          -9.959881909031587,
          -7.43314918676098,
          -4.906416464490375,
          -2.3796837422197683,
          0.14704898005083678,
          2.673781702321442,
          5.2005144245920505,
          7.727247146862656,
          10.25397986913326,
          12.780712591403866,
          15.30744531367447,
          17.83417803594508,
          20.360910758215685,
          22.88764348048629,
          25.4143762027569,
          27.941108925027503,
          30.46784164729811,
          32.99457436956872,
          35.521307091839326,
          38.04803981410993
         ],
         "xaxis": "x2",
         "y": [
          0.04736842105263158,
          0.18947368421052632,
          0.09473684210526316,
          0.23684210526315788,
          0.28421052631578947,
          0.23684210526315788,
          0.5210526315789474,
          0.33157894736842103,
          0.47368421052631576,
          0.4263157894736842,
          0.8526315789473684,
          0.47368421052631576,
          0.6631578947368421,
          0.4263157894736842,
          0.5684210526315789,
          0.6157894736842106,
          0.9,
          0.7578947368421053,
          0.5210526315789474,
          0.5684210526315789,
          0.5210526315789474,
          0.37894736842105264,
          0.18947368421052632,
          0.23684210526315788,
          0.33157894736842103,
          0.09473684210526316,
          0.09473684210526316,
          0.09473684210526316,
          0.14210526315789473,
          0.09473684210526316
         ],
         "yaxis": "y2"
        }
       ],
       "layout": {
        "annotations": [
         {
          "font": {
           "size": 16
          },
          "showarrow": false,
          "text": "PC2 Cosine Similarity",
          "x": 0.5,
          "xanchor": "center",
          "xref": "paper",
          "y": 1,
          "yanchor": "bottom",
          "yref": "paper"
         },
         {
          "font": {
           "size": 16
          },
          "showarrow": false,
          "text": "PC2 Projection",
          "x": 0.5,
          "xanchor": "center",
          "xref": "paper",
          "y": 0.45,
          "yanchor": "bottom",
          "yref": "paper"
         },
         {
          "bgcolor": "rgba(255, 255, 255, 0.9)",
          "bordercolor": "black",
          "borderwidth": 1,
          "font": {
           "color": "black",
           "size": 10
          },
          "showarrow": false,
          "text": "Mercurial",
          "x": -0.653747915304146,
          "xref": "x",
          "y": 1.45,
          "yref": "y"
         },
         {
          "bgcolor": "rgba(255, 255, 255, 0.9)",
          "bordercolor": "black",
          "borderwidth": 1,
          "font": {
           "color": "black",
           "size": 10
          },
          "showarrow": false,
          "text": "Spontaneous",
          "x": -0.6475504337830023,
          "xref": "x",
          "y": 0.6,
          "yref": "y"
         },
         {
          "bgcolor": "rgba(255, 255, 255, 0.9)",
          "bordercolor": "black",
          "borderwidth": 1,
          "font": {
           "color": "black",
           "size": 10
          },
          "showarrow": false,
          "text": "Whimsical",
          "x": -0.6420792995064228,
          "xref": "x",
          "y": 1.9,
          "yref": "y"
         },
         {
          "bgcolor": "rgba(255, 255, 255, 0.9)",
          "bordercolor": "black",
          "borderwidth": 1,
          "font": {
           "color": "black",
           "size": 10
          },
          "showarrow": false,
          "text": "Manic",
          "x": -0.5757834243001319,
          "xref": "x",
          "y": 0.15,
          "yref": "y"
         },
         {
          "bgcolor": "rgba(255, 255, 255, 0.9)",
          "bordercolor": "black",
          "borderwidth": 1,
          "font": {
           "color": "black",
           "size": 10
          },
          "showarrow": false,
          "text": "Edgy",
          "x": -0.5585550339856651,
          "xref": "x",
          "y": 1.6,
          "yref": "y"
         },
         {
          "bgcolor": "rgba(255, 255, 255, 0.9)",
          "bordercolor": "black",
          "borderwidth": 1,
          "font": {
           "color": "black",
           "size": 10
          },
          "showarrow": false,
          "text": "Mischievous",
          "x": -0.5451669803318538,
          "xref": "x",
          "y": 0.45,
          "yref": "y"
         },
         {
          "bgcolor": "rgba(255, 255, 255, 0.9)",
          "bordercolor": "black",
          "borderwidth": 1,
          "font": {
           "color": "black",
           "size": 10
          },
          "showarrow": false,
          "text": "Temperamental",
          "x": -0.5178294173493785,
          "xref": "x",
          "y": 1.3,
          "yref": "y"
         },
         {
          "bgcolor": "rgba(255, 255, 255, 0.9)",
          "bordercolor": "black",
          "borderwidth": 1,
          "font": {
           "color": "black",
           "size": 10
          },
          "showarrow": false,
          "text": "Romantic",
          "x": -0.4939091618529695,
          "xref": "x",
          "y": 0.75,
          "yref": "y"
         },
         {
          "bgcolor": "rgba(255, 255, 255, 0.9)",
          "bordercolor": "black",
          "borderwidth": 1,
          "font": {
           "color": "black",
           "size": 10
          },
          "showarrow": false,
          "text": "Stream of consciousness",
          "x": -0.49326991828560734,
          "xref": "x",
          "y": 1.75,
          "yref": "y"
         },
         {
          "bgcolor": "rgba(255, 255, 255, 0.9)",
          "bordercolor": "black",
          "borderwidth": 1,
          "font": {
           "color": "black",
           "size": 10
          },
          "showarrow": false,
          "text": "Flirty",
          "x": -0.4827576793613414,
          "xref": "x",
          "y": 0.3,
          "yref": "y"
         },
         {
          "bgcolor": "rgba(255, 255, 255, 0.9)",
          "bordercolor": "black",
          "borderwidth": 1,
          "font": {
           "color": "black",
           "size": 10
          },
          "showarrow": false,
          "text": "Quantitative",
          "x": 0.5301021379762503,
          "xref": "x",
          "y": 1.45,
          "yref": "y"
         },
         {
          "bgcolor": "rgba(255, 255, 255, 0.9)",
          "bordercolor": "black",
          "borderwidth": 1,
          "font": {
           "color": "black",
           "size": 10
          },
          "showarrow": false,
          "text": "Diplomatic",
          "x": 0.5333532912388452,
          "xref": "x",
          "y": 0.6,
          "yref": "y"
         },
         {
          "bgcolor": "rgba(255, 255, 255, 0.9)",
          "bordercolor": "black",
          "borderwidth": 1,
          "font": {
           "color": "black",
           "size": 10
          },
          "showarrow": false,
          "text": "Moderate",
          "x": 0.5336289132351821,
          "xref": "x",
          "y": 1.9,
          "yref": "y"
         },
         {
          "bgcolor": "rgba(255, 255, 255, 0.9)",
          "bordercolor": "black",
          "borderwidth": 1,
          "font": {
           "color": "black",
           "size": 10
          },
          "showarrow": false,
          "text": "Formal",
          "x": 0.5346015378560017,
          "xref": "x",
          "y": 0.15,
          "yref": "y"
         },
         {
          "bgcolor": "rgba(255, 255, 255, 0.9)",
          "bordercolor": "black",
          "borderwidth": 1,
          "font": {
           "color": "black",
           "size": 10
          },
          "showarrow": false,
          "text": "Solemn",
          "x": 0.5596256534250693,
          "xref": "x",
          "y": 1.6,
          "yref": "y"
         },
         {
          "bgcolor": "rgba(255, 255, 255, 0.9)",
          "bordercolor": "black",
          "borderwidth": 1,
          "font": {
           "color": "black",
           "size": 10
          },
          "showarrow": false,
          "text": "Rationalist",
          "x": 0.5816956365886586,
          "xref": "x",
          "y": 0.45,
          "yref": "y"
         },
         {
          "bgcolor": "rgba(255, 255, 255, 0.9)",
          "bordercolor": "black",
          "borderwidth": 1,
          "font": {
           "color": "black",
           "size": 10
          },
          "showarrow": false,
          "text": "Data driven",
          "x": 0.623384739896098,
          "xref": "x",
          "y": 1.3,
          "yref": "y"
         },
         {
          "bgcolor": "rgba(255, 255, 255, 0.9)",
          "bordercolor": "black",
          "borderwidth": 1,
          "font": {
           "color": "black",
           "size": 10
          },
          "showarrow": false,
          "text": "Calm",
          "x": 0.6317723421873132,
          "xref": "x",
          "y": 0.75,
          "yref": "y"
         },
         {
          "bgcolor": "rgba(255, 255, 255, 0.9)",
          "bordercolor": "black",
          "borderwidth": 1,
          "font": {
           "color": "black",
           "size": 10
          },
          "showarrow": false,
          "text": "Factual",
          "x": 0.7520153524134868,
          "xref": "x",
          "y": 1.75,
          "yref": "y"
         },
         {
          "bgcolor": "rgba(255, 255, 255, 0.9)",
          "bordercolor": "black",
          "borderwidth": 1,
          "font": {
           "color": "black",
           "size": 10
          },
          "showarrow": false,
          "text": "Methodical",
          "x": 0.7762659295036755,
          "xref": "x",
          "y": 0.3,
          "yref": "y"
         },
         {
          "bgcolor": "rgba(255, 255, 255, 0.9)",
          "bordercolor": "red",
          "borderwidth": 1,
          "font": {
           "color": "red",
           "size": 14
          },
          "showarrow": false,
          "text": "Assistant",
          "x": 0.19859610260674795,
          "xref": "x",
          "y": 2,
          "yref": "y"
         },
         {
          "bgcolor": "rgba(255, 255, 255, 0.9)",
          "bordercolor": "black",
          "borderwidth": 1,
          "font": {
           "color": "black",
           "size": 10
          },
          "showarrow": false,
          "text": "Manic",
          "x": -36.49057549287295,
          "xref": "x2",
          "y": 1.45,
          "yref": "y2"
         },
         {
          "bgcolor": "rgba(255, 255, 255, 0.9)",
          "bordercolor": "black",
          "borderwidth": 1,
          "font": {
           "color": "black",
           "size": 10
          },
          "showarrow": false,
          "text": "Temperamental",
          "x": -33.908977232850894,
          "xref": "x2",
          "y": 0.6,
          "yref": "y2"
         },
         {
          "bgcolor": "rgba(255, 255, 255, 0.9)",
          "bordercolor": "black",
          "borderwidth": 1,
          "font": {
           "color": "black",
           "size": 10
          },
          "showarrow": false,
          "text": "Disorganized",
          "x": -32.62192958674284,
          "xref": "x2",
          "y": 1.9,
          "yref": "y2"
         },
         {
          "bgcolor": "rgba(255, 255, 255, 0.9)",
          "bordercolor": "black",
          "borderwidth": 1,
          "font": {
           "color": "black",
           "size": 10
          },
          "showarrow": false,
          "text": "Mercurial",
          "x": -32.53248779410619,
          "xref": "x2",
          "y": 0.15,
          "yref": "y2"
         },
         {
          "bgcolor": "rgba(255, 255, 255, 0.9)",
          "bordercolor": "black",
          "borderwidth": 1,
          "font": {
           "color": "black",
           "size": 10
          },
          "showarrow": false,
          "text": "Romantic",
          "x": -32.03140270235088,
          "xref": "x2",
          "y": 1.6,
          "yref": "y2"
         },
         {
          "bgcolor": "rgba(255, 255, 255, 0.9)",
          "bordercolor": "black",
          "borderwidth": 1,
          "font": {
           "color": "black",
           "size": 10
          },
          "showarrow": false,
          "text": "Melodramatic",
          "x": -31.36848650277078,
          "xref": "x2",
          "y": 0.45,
          "yref": "y2"
         },
         {
          "bgcolor": "rgba(255, 255, 255, 0.9)",
          "bordercolor": "black",
          "borderwidth": 1,
          "font": {
           "color": "black",
           "size": 10
          },
          "showarrow": false,
          "text": "Whimsical",
          "x": -31.080207777757415,
          "xref": "x2",
          "y": 1.3,
          "yref": "y2"
         },
         {
          "bgcolor": "rgba(255, 255, 255, 0.9)",
          "bordercolor": "black",
          "borderwidth": 1,
          "font": {
           "color": "black",
           "size": 10
          },
          "showarrow": false,
          "text": "Spontaneous",
          "x": -27.980327467632478,
          "xref": "x2",
          "y": 0.75,
          "yref": "y2"
         },
         {
          "bgcolor": "rgba(255, 255, 255, 0.9)",
          "bordercolor": "black",
          "borderwidth": 1,
          "font": {
           "color": "black",
           "size": 10
          },
          "showarrow": false,
          "text": "Goofy",
          "x": -27.457631023254063,
          "xref": "x2",
          "y": 1.75,
          "yref": "y2"
         },
         {
          "bgcolor": "rgba(255, 255, 255, 0.9)",
          "bordercolor": "black",
          "borderwidth": 1,
          "font": {
           "color": "black",
           "size": 10
          },
          "showarrow": false,
          "text": "Flirty",
          "x": -27.203843834016478,
          "xref": "x2",
          "y": 0.3,
          "yref": "y2"
         },
         {
          "bgcolor": "rgba(255, 255, 255, 0.9)",
          "bordercolor": "black",
          "borderwidth": 1,
          "font": {
           "color": "black",
           "size": 10
          },
          "showarrow": false,
          "text": "Descriptive",
          "x": 27.55905996002234,
          "xref": "x2",
          "y": 1.45,
          "yref": "y2"
         },
         {
          "bgcolor": "rgba(255, 255, 255, 0.9)",
          "bordercolor": "black",
          "borderwidth": 1,
          "font": {
           "color": "black",
           "size": 10
          },
          "showarrow": false,
          "text": "Rationalist",
          "x": 29.488247917777773,
          "xref": "x2",
          "y": 0.6,
          "yref": "y2"
         },
         {
          "bgcolor": "rgba(255, 255, 255, 0.9)",
          "bordercolor": "black",
          "borderwidth": 1,
          "font": {
           "color": "black",
           "size": 10
          },
          "showarrow": false,
          "text": "Quantitative",
          "x": 30.24535172999705,
          "xref": "x2",
          "y": 1.9,
          "yref": "y2"
         },
         {
          "bgcolor": "rgba(255, 255, 255, 0.9)",
          "bordercolor": "black",
          "borderwidth": 1,
          "font": {
           "color": "black",
           "size": 10
          },
          "showarrow": false,
          "text": "Serious",
          "x": 32.05055937769082,
          "xref": "x2",
          "y": 0.15,
          "yref": "y2"
         },
         {
          "bgcolor": "rgba(255, 255, 255, 0.9)",
          "bordercolor": "black",
          "borderwidth": 1,
          "font": {
           "color": "black",
           "size": 10
          },
          "showarrow": false,
          "text": "Reserved",
          "x": 33.7697421320209,
          "xref": "x2",
          "y": 1.6,
          "yref": "y2"
         },
         {
          "bgcolor": "rgba(255, 255, 255, 0.9)",
          "bordercolor": "black",
          "borderwidth": 1,
          "font": {
           "color": "black",
           "size": 10
          },
          "showarrow": false,
          "text": "Data driven",
          "x": 35.19105592684501,
          "xref": "x2",
          "y": 0.45,
          "yref": "y2"
         },
         {
          "bgcolor": "rgba(255, 255, 255, 0.9)",
          "bordercolor": "black",
          "borderwidth": 1,
          "font": {
           "color": "black",
           "size": 10
          },
          "showarrow": false,
          "text": "Factual",
          "x": 35.969325976092534,
          "xref": "x2",
          "y": 1.3,
          "yref": "y2"
         },
         {
          "bgcolor": "rgba(255, 255, 255, 0.9)",
          "bordercolor": "black",
          "borderwidth": 1,
          "font": {
           "color": "black",
           "size": 10
          },
          "showarrow": false,
          "text": "Dispassionate",
          "x": 36.12486411359998,
          "xref": "x2",
          "y": 0.75,
          "yref": "y2"
         },
         {
          "bgcolor": "rgba(255, 255, 255, 0.9)",
          "bordercolor": "black",
          "borderwidth": 1,
          "font": {
           "color": "black",
           "size": 10
          },
          "showarrow": false,
          "text": "Calm",
          "x": 37.70023077493187,
          "xref": "x2",
          "y": 1.75,
          "yref": "y2"
         },
         {
          "bgcolor": "rgba(255, 255, 255, 0.9)",
          "bordercolor": "black",
          "borderwidth": 1,
          "font": {
           "color": "black",
           "size": 10
          },
          "showarrow": false,
          "text": "Methodical",
          "x": 39.31140617524522,
          "xref": "x2",
          "y": 0.3,
          "yref": "y2"
         },
         {
          "bgcolor": "rgba(255, 255, 255, 0.9)",
          "bordercolor": "red",
          "borderwidth": 1,
          "font": {
           "color": "red",
           "size": 14
          },
          "showarrow": false,
          "text": "Assistant",
          "x": 11.498903971086948,
          "xref": "x2",
          "y": 2,
          "yref": "y2"
         }
        ],
        "height": 800,
        "shapes": [
         {
          "line": {
           "color": "gray",
           "dash": "solid",
           "width": 1
          },
          "opacity": 0.7,
          "type": "line",
          "x0": 0,
          "x1": 0,
          "xref": "x",
          "y0": 0,
          "y1": 1,
          "yref": "y domain"
         },
         {
          "line": {
           "color": "red",
           "dash": "dash",
           "width": 1
          },
          "opacity": 1,
          "type": "line",
          "x0": 0.19859610260674795,
          "x1": 0.19859610260674795,
          "xref": "x",
          "y0": 0,
          "y1": 1,
          "yref": "y domain"
         },
         {
          "line": {
           "color": "gray",
           "dash": "solid",
           "width": 1
          },
          "opacity": 0.7,
          "type": "line",
          "x0": 0,
          "x1": 0,
          "xref": "x2",
          "y0": 0,
          "y1": 1,
          "yref": "y2 domain"
         },
         {
          "line": {
           "color": "red",
           "dash": "dash",
           "width": 1
          },
          "opacity": 1,
          "type": "line",
          "x0": 11.498903971086948,
          "x1": 11.498903971086948,
          "xref": "x2",
          "y0": 0,
          "y1": 1,
          "yref": "y2 domain"
         }
        ],
        "showlegend": false,
        "template": {
         "data": {
          "bar": [
           {
            "error_x": {
             "color": "#2a3f5f"
            },
            "error_y": {
             "color": "#2a3f5f"
            },
            "marker": {
             "line": {
              "color": "#E5ECF6",
              "width": 0.5
             },
             "pattern": {
              "fillmode": "overlay",
              "size": 10,
              "solidity": 0.2
             }
            },
            "type": "bar"
           }
          ],
          "barpolar": [
           {
            "marker": {
             "line": {
              "color": "#E5ECF6",
              "width": 0.5
             },
             "pattern": {
              "fillmode": "overlay",
              "size": 10,
              "solidity": 0.2
             }
            },
            "type": "barpolar"
           }
          ],
          "carpet": [
           {
            "aaxis": {
             "endlinecolor": "#2a3f5f",
             "gridcolor": "white",
             "linecolor": "white",
             "minorgridcolor": "white",
             "startlinecolor": "#2a3f5f"
            },
            "baxis": {
             "endlinecolor": "#2a3f5f",
             "gridcolor": "white",
             "linecolor": "white",
             "minorgridcolor": "white",
             "startlinecolor": "#2a3f5f"
            },
            "type": "carpet"
           }
          ],
          "choropleth": [
           {
            "colorbar": {
             "outlinewidth": 0,
             "ticks": ""
            },
            "type": "choropleth"
           }
          ],
          "contour": [
           {
            "colorbar": {
             "outlinewidth": 0,
             "ticks": ""
            },
            "colorscale": [
             [
              0,
              "#0d0887"
             ],
             [
              0.1111111111111111,
              "#46039f"
             ],
             [
              0.2222222222222222,
              "#7201a8"
             ],
             [
              0.3333333333333333,
              "#9c179e"
             ],
             [
              0.4444444444444444,
              "#bd3786"
             ],
             [
              0.5555555555555556,
              "#d8576b"
             ],
             [
              0.6666666666666666,
              "#ed7953"
             ],
             [
              0.7777777777777778,
              "#fb9f3a"
             ],
             [
              0.8888888888888888,
              "#fdca26"
             ],
             [
              1,
              "#f0f921"
             ]
            ],
            "type": "contour"
           }
          ],
          "contourcarpet": [
           {
            "colorbar": {
             "outlinewidth": 0,
             "ticks": ""
            },
            "type": "contourcarpet"
           }
          ],
          "heatmap": [
           {
            "colorbar": {
             "outlinewidth": 0,
             "ticks": ""
            },
            "colorscale": [
             [
              0,
              "#0d0887"
             ],
             [
              0.1111111111111111,
              "#46039f"
             ],
             [
              0.2222222222222222,
              "#7201a8"
             ],
             [
              0.3333333333333333,
              "#9c179e"
             ],
             [
              0.4444444444444444,
              "#bd3786"
             ],
             [
              0.5555555555555556,
              "#d8576b"
             ],
             [
              0.6666666666666666,
              "#ed7953"
             ],
             [
              0.7777777777777778,
              "#fb9f3a"
             ],
             [
              0.8888888888888888,
              "#fdca26"
             ],
             [
              1,
              "#f0f921"
             ]
            ],
            "type": "heatmap"
           }
          ],
          "heatmapgl": [
           {
            "colorbar": {
             "outlinewidth": 0,
             "ticks": ""
            },
            "colorscale": [
             [
              0,
              "#0d0887"
             ],
             [
              0.1111111111111111,
              "#46039f"
             ],
             [
              0.2222222222222222,
              "#7201a8"
             ],
             [
              0.3333333333333333,
              "#9c179e"
             ],
             [
              0.4444444444444444,
              "#bd3786"
             ],
             [
              0.5555555555555556,
              "#d8576b"
             ],
             [
              0.6666666666666666,
              "#ed7953"
             ],
             [
              0.7777777777777778,
              "#fb9f3a"
             ],
             [
              0.8888888888888888,
              "#fdca26"
             ],
             [
              1,
              "#f0f921"
             ]
            ],
            "type": "heatmapgl"
           }
          ],
          "histogram": [
           {
            "marker": {
             "pattern": {
              "fillmode": "overlay",
              "size": 10,
              "solidity": 0.2
             }
            },
            "type": "histogram"
           }
          ],
          "histogram2d": [
           {
            "colorbar": {
             "outlinewidth": 0,
             "ticks": ""
            },
            "colorscale": [
             [
              0,
              "#0d0887"
             ],
             [
              0.1111111111111111,
              "#46039f"
             ],
             [
              0.2222222222222222,
              "#7201a8"
             ],
             [
              0.3333333333333333,
              "#9c179e"
             ],
             [
              0.4444444444444444,
              "#bd3786"
             ],
             [
              0.5555555555555556,
              "#d8576b"
             ],
             [
              0.6666666666666666,
              "#ed7953"
             ],
             [
              0.7777777777777778,
              "#fb9f3a"
             ],
             [
              0.8888888888888888,
              "#fdca26"
             ],
             [
              1,
              "#f0f921"
             ]
            ],
            "type": "histogram2d"
           }
          ],
          "histogram2dcontour": [
           {
            "colorbar": {
             "outlinewidth": 0,
             "ticks": ""
            },
            "colorscale": [
             [
              0,
              "#0d0887"
             ],
             [
              0.1111111111111111,
              "#46039f"
             ],
             [
              0.2222222222222222,
              "#7201a8"
             ],
             [
              0.3333333333333333,
              "#9c179e"
             ],
             [
              0.4444444444444444,
              "#bd3786"
             ],
             [
              0.5555555555555556,
              "#d8576b"
             ],
             [
              0.6666666666666666,
              "#ed7953"
             ],
             [
              0.7777777777777778,
              "#fb9f3a"
             ],
             [
              0.8888888888888888,
              "#fdca26"
             ],
             [
              1,
              "#f0f921"
             ]
            ],
            "type": "histogram2dcontour"
           }
          ],
          "mesh3d": [
           {
            "colorbar": {
             "outlinewidth": 0,
             "ticks": ""
            },
            "type": "mesh3d"
           }
          ],
          "parcoords": [
           {
            "line": {
             "colorbar": {
              "outlinewidth": 0,
              "ticks": ""
             }
            },
            "type": "parcoords"
           }
          ],
          "pie": [
           {
            "automargin": true,
            "type": "pie"
           }
          ],
          "scatter": [
           {
            "fillpattern": {
             "fillmode": "overlay",
             "size": 10,
             "solidity": 0.2
            },
            "type": "scatter"
           }
          ],
          "scatter3d": [
           {
            "line": {
             "colorbar": {
              "outlinewidth": 0,
              "ticks": ""
             }
            },
            "marker": {
             "colorbar": {
              "outlinewidth": 0,
              "ticks": ""
             }
            },
            "type": "scatter3d"
           }
          ],
          "scattercarpet": [
           {
            "marker": {
             "colorbar": {
              "outlinewidth": 0,
              "ticks": ""
             }
            },
            "type": "scattercarpet"
           }
          ],
          "scattergeo": [
           {
            "marker": {
             "colorbar": {
              "outlinewidth": 0,
              "ticks": ""
             }
            },
            "type": "scattergeo"
           }
          ],
          "scattergl": [
           {
            "marker": {
             "colorbar": {
              "outlinewidth": 0,
              "ticks": ""
             }
            },
            "type": "scattergl"
           }
          ],
          "scattermapbox": [
           {
            "marker": {
             "colorbar": {
              "outlinewidth": 0,
              "ticks": ""
             }
            },
            "type": "scattermapbox"
           }
          ],
          "scatterpolar": [
           {
            "marker": {
             "colorbar": {
              "outlinewidth": 0,
              "ticks": ""
             }
            },
            "type": "scatterpolar"
           }
          ],
          "scatterpolargl": [
           {
            "marker": {
             "colorbar": {
              "outlinewidth": 0,
              "ticks": ""
             }
            },
            "type": "scatterpolargl"
           }
          ],
          "scatterternary": [
           {
            "marker": {
             "colorbar": {
              "outlinewidth": 0,
              "ticks": ""
             }
            },
            "type": "scatterternary"
           }
          ],
          "surface": [
           {
            "colorbar": {
             "outlinewidth": 0,
             "ticks": ""
            },
            "colorscale": [
             [
              0,
              "#0d0887"
             ],
             [
              0.1111111111111111,
              "#46039f"
             ],
             [
              0.2222222222222222,
              "#7201a8"
             ],
             [
              0.3333333333333333,
              "#9c179e"
             ],
             [
              0.4444444444444444,
              "#bd3786"
             ],
             [
              0.5555555555555556,
              "#d8576b"
             ],
             [
              0.6666666666666666,
              "#ed7953"
             ],
             [
              0.7777777777777778,
              "#fb9f3a"
             ],
             [
              0.8888888888888888,
              "#fdca26"
             ],
             [
              1,
              "#f0f921"
             ]
            ],
            "type": "surface"
           }
          ],
          "table": [
           {
            "cells": {
             "fill": {
              "color": "#EBF0F8"
             },
             "line": {
              "color": "white"
             }
            },
            "header": {
             "fill": {
              "color": "#C8D4E3"
             },
             "line": {
              "color": "white"
             }
            },
            "type": "table"
           }
          ]
         },
         "layout": {
          "annotationdefaults": {
           "arrowcolor": "#2a3f5f",
           "arrowhead": 0,
           "arrowwidth": 1
          },
          "autotypenumbers": "strict",
          "coloraxis": {
           "colorbar": {
            "outlinewidth": 0,
            "ticks": ""
           }
          },
          "colorscale": {
           "diverging": [
            [
             0,
             "#8e0152"
            ],
            [
             0.1,
             "#c51b7d"
            ],
            [
             0.2,
             "#de77ae"
            ],
            [
             0.3,
             "#f1b6da"
            ],
            [
             0.4,
             "#fde0ef"
            ],
            [
             0.5,
             "#f7f7f7"
            ],
            [
             0.6,
             "#e6f5d0"
            ],
            [
             0.7,
             "#b8e186"
            ],
            [
             0.8,
             "#7fbc41"
            ],
            [
             0.9,
             "#4d9221"
            ],
            [
             1,
             "#276419"
            ]
           ],
           "sequential": [
            [
             0,
             "#0d0887"
            ],
            [
             0.1111111111111111,
             "#46039f"
            ],
            [
             0.2222222222222222,
             "#7201a8"
            ],
            [
             0.3333333333333333,
             "#9c179e"
            ],
            [
             0.4444444444444444,
             "#bd3786"
            ],
            [
             0.5555555555555556,
             "#d8576b"
            ],
            [
             0.6666666666666666,
             "#ed7953"
            ],
            [
             0.7777777777777778,
             "#fb9f3a"
            ],
            [
             0.8888888888888888,
             "#fdca26"
            ],
            [
             1,
             "#f0f921"
            ]
           ],
           "sequentialminus": [
            [
             0,
             "#0d0887"
            ],
            [
             0.1111111111111111,
             "#46039f"
            ],
            [
             0.2222222222222222,
             "#7201a8"
            ],
            [
             0.3333333333333333,
             "#9c179e"
            ],
            [
             0.4444444444444444,
             "#bd3786"
            ],
            [
             0.5555555555555556,
             "#d8576b"
            ],
            [
             0.6666666666666666,
             "#ed7953"
            ],
            [
             0.7777777777777778,
             "#fb9f3a"
            ],
            [
             0.8888888888888888,
             "#fdca26"
            ],
            [
             1,
             "#f0f921"
            ]
           ]
          },
          "colorway": [
           "#636efa",
           "#EF553B",
           "#00cc96",
           "#ab63fa",
           "#FFA15A",
           "#19d3f3",
           "#FF6692",
           "#B6E880",
           "#FF97FF",
           "#FECB52"
          ],
          "font": {
           "color": "#2a3f5f"
          },
          "geo": {
           "bgcolor": "white",
           "lakecolor": "white",
           "landcolor": "#E5ECF6",
           "showlakes": true,
           "showland": true,
           "subunitcolor": "white"
          },
          "hoverlabel": {
           "align": "left"
          },
          "hovermode": "closest",
          "mapbox": {
           "style": "light"
          },
          "paper_bgcolor": "white",
          "plot_bgcolor": "#E5ECF6",
          "polar": {
           "angularaxis": {
            "gridcolor": "white",
            "linecolor": "white",
            "ticks": ""
           },
           "bgcolor": "#E5ECF6",
           "radialaxis": {
            "gridcolor": "white",
            "linecolor": "white",
            "ticks": ""
           }
          },
          "scene": {
           "xaxis": {
            "backgroundcolor": "#E5ECF6",
            "gridcolor": "white",
            "gridwidth": 2,
            "linecolor": "white",
            "showbackground": true,
            "ticks": "",
            "zerolinecolor": "white"
           },
           "yaxis": {
            "backgroundcolor": "#E5ECF6",
            "gridcolor": "white",
            "gridwidth": 2,
            "linecolor": "white",
            "showbackground": true,
            "ticks": "",
            "zerolinecolor": "white"
           },
           "zaxis": {
            "backgroundcolor": "#E5ECF6",
            "gridcolor": "white",
            "gridwidth": 2,
            "linecolor": "white",
            "showbackground": true,
            "ticks": "",
            "zerolinecolor": "white"
           }
          },
          "shapedefaults": {
           "line": {
            "color": "#2a3f5f"
           }
          },
          "ternary": {
           "aaxis": {
            "gridcolor": "white",
            "linecolor": "white",
            "ticks": ""
           },
           "baxis": {
            "gridcolor": "white",
            "linecolor": "white",
            "ticks": ""
           },
           "bgcolor": "#E5ECF6",
           "caxis": {
            "gridcolor": "white",
            "linecolor": "white",
            "ticks": ""
           }
          },
          "title": {
           "x": 0.05
          },
          "xaxis": {
           "automargin": true,
           "gridcolor": "white",
           "linecolor": "white",
           "ticks": "",
           "title": {
            "standoff": 15
           },
           "zerolinecolor": "white",
           "zerolinewidth": 2
          },
          "yaxis": {
           "automargin": true,
           "gridcolor": "white",
           "linecolor": "white",
           "ticks": "",
           "title": {
            "standoff": 15
           },
           "zerolinecolor": "white",
           "zerolinewidth": 2
          }
         }
        },
        "title": {
         "font": {
          "size": 16
         },
         "subtitle": {
          "text": "Gemma 3 27B, Layer 32 - Shared Question Set, Mean-Centered and Scaled Vectors"
         },
         "text": "PCA on Trait Vectors",
         "x": 0.5
        },
        "width": 1200,
        "xaxis": {
         "anchor": "y",
         "domain": [
          0,
          1
         ],
         "range": [
          -0.8538925224540431,
          0.8538925224540431
         ]
        },
        "xaxis2": {
         "anchor": "y2",
         "domain": [
          0,
          1
         ],
         "range": [
          -43.242546792769744,
          43.242546792769744
         ]
        },
        "yaxis": {
         "anchor": "x",
         "domain": [
          0.55,
          1
         ],
         "range": [
          0,
          2.5
         ],
         "showticklabels": false
        },
        "yaxis2": {
         "anchor": "x2",
         "domain": [
          0,
          0.45
         ],
         "range": [
          0,
          2.5
         ],
         "showticklabels": false
        }
       }
      },
      "text/html": [
       "<div>                            <div id=\"a86356c5-f73e-4a26-a596-3b01839cb0cf\" class=\"plotly-graph-div\" style=\"height:800px; width:1200px;\"></div>            <script type=\"text/javascript\">                require([\"plotly\"], function(Plotly) {                    window.PLOTLYENV=window.PLOTLYENV || {};                                    if (document.getElementById(\"a86356c5-f73e-4a26-a596-3b01839cb0cf\")) {                    Plotly.newPlot(                        \"a86356c5-f73e-4a26-a596-3b01839cb0cf\",                        [{\"hovertemplate\":\"\\u003cb\\u003e%{text}\\u003c\\u002fb\\u003e\\u003cbr\\u003eCosine Similarity: %{x:.3f}\\u003cextra\\u003e\\u003c\\u002fextra\\u003e\",\"marker\":{\"color\":\"limegreen\",\"line\":{\"color\":\"black\",\"width\":1},\"opacity\":1.0,\"size\":8,\"symbol\":\"diamond\"},\"mode\":\"markers\",\"showlegend\":false,\"text\":[\"Zealous\",\"Wry\",\"Witty\",\"Visceral\",\"Vindictive\",\"Verbose\",\"Utilitarian\",\"Urgent\",\"Universalist\",\"Understated\",\"Transparent\",\"Traditional\",\"Theoretical\",\"Theatrical\",\"Technical\",\"Tactful\",\"Systems thinker\",\"Sycophantic\",\"Supportive\",\"Subversive\",\"Submissive\",\"Structuralist\",\"Strategic\",\"Stoic\",\"Spiritual\",\"Speculative\",\"Specialized\",\"Socratic\",\"Skeptical\",\"Serious\",\"Serene\",\"Secular\",\"Savage\",\"Sassy\",\"Sardonic\",\"Sarcastic\",\"Ritualistic\",\"Risk taking\",\"Rhetorical\",\"Reverent\",\"Resilient\",\"Reserved\",\"Relativist\",\"Regulatory\",\"Reductionist\",\"Rebellious\",\"Reactive\",\"Radical\",\"Qualitative\",\"Provocative\",\"Progressive\",\"Problem solving\",\"Proactive\",\"Principled\",\"Prescriptive\",\"Practical\",\"Poetic\",\"Pluralist\",\"Playful\",\"Philosophical\",\"Petty\",\"Pessimistic\",\"Perfectionist\",\"Pensive\",\"Pedantic\",\"Patient\",\"Passive aggressive\",\"Passionate\",\"Paranoid\",\"Paradoxical\",\"Pacifist\",\"Optimistic\",\"Open ended\",\"Obsessive\",\"Nurturing\",\"Nostalgic\",\"Nonchalant\",\"Nihilistic\",\"Neurotic\",\"Narrative\",\"Naive\",\"Mystical\",\"Misanthropic\",\"Militant\",\"Meticulous\",\"Metaphorical\",\"Melodramatic\",\"Melancholic\",\"Meditative\",\"Materialist\",\"Manipulative\",\"Literal\",\"Libertarian\",\"Judgmental\",\"Irreverent\",\"Ironic\",\"Intuitive\",\"Introverted\",\"Introspective\",\"Interdisciplinary\",\"Inspirational\",\"Inquisitive\",\"Innovative\",\"Individualistic\",\"Independent\",\"Inclusive\",\"Impulsive\",\"Improvisational\",\"Impatient\",\"Idealistic\",\"Iconoclastic\",\"Humble\",\"Humanistic\",\"Hostile\",\"Holistic\",\"Historical\",\"Hedonistic\",\"Grounded\",\"Gregarious\",\"Grandiose\",\"Goofy\",\"Generous\",\"Generalist\",\"Futuristic\",\"Fundamentalist\",\"Formalist\",\"Forgiving\",\"Flippant\",\"Flexible\",\"Fatalistic\",\"Extroverted\",\"Exploratory\",\"Experiential\",\"Existentialist\",\"Evil\",\"Ethereal\",\"Essentialist\",\"Esoteric\",\"Erudite\",\"Epicurean\",\"Environmental\",\"Entertaining\",\"Enigmatic\",\"Empathetic\",\"Emotional\",\"Eloquent\",\"Elitist\",\"Egalitarian\",\"Effusive\",\"Efficient\",\"Educational\",\"Eclectic\",\"Earnest\",\"Dramatic\",\"Dominant\",\"Dogmatic\",\"Divergent\",\"Dispassionate\",\"Disorganized\",\"Deterministic\",\"Detached\",\"Descriptive\",\"Deontological\",\"Deferential\",\"Deconstructionist\",\"Decisive\",\"Cynical\",\"Curious\",\"Cryptic\",\"Cruel\",\"Critical\",\"Creative\",\"Cosmopolitan\",\"Convergent\",\"Contrarian\",\"Contemporary\",\"Constructivist\",\"Conscientious\",\"Confrontational\",\"Confident\",\"Condescending\",\"Concise\",\"Conciliatory\",\"Conceptual\",\"Competitive\",\"Collectivistic\",\"Collaborative\",\"Closure seeking\",\"Circumspect\",\"Chill\",\"Charismatic\",\"Chaotic\",\"Challenging\",\"Cautious\",\"Casual\",\"Callous\",\"Calculating\",\"Bombastic\",\"Blunt\",\"Bitter\",\"Big picture\",\"Benevolent\",\"Avoidant\",\"Assertive\",\"Ascetic\",\"Artistic\",\"Arrogant\",\"Anxious\",\"Anthropocentric\",\"Animated\",\"Analytical\",\"Altruistic\",\"Agreeable\",\"Adventurous\",\"Adaptable\",\"Acerbic\",\"Accommodating\",\"Accessible\",\"Abstract\",\"Absolutist\"],\"x\":[-0.3922842349276745,-0.28539792420295673,-0.2281255948979437,-0.22808516999887818,0.03694218116683993,0.06763644756860321,0.25119109686700314,0.06052765674981138,0.11117696345385586,0.10738949485077263,0.1250887910120137,0.28232126807505825,-0.02904906583965973,-0.20128802747640184,0.3421168474403615,0.26067286596743255,0.1184804750993102,-0.034231940337385906,0.08794586166462405,-0.3307580736066998,0.039047844420392816,0.5172727481185091,0.18372985577527842,0.35351136792781424,-0.26902237430665293,-0.14892014225568218,0.16090770714210104,-0.007074013777307093,0.08223355975575698,0.5085781661730238,0.46689598645159036,0.2950847556370224,-0.022270826347670213,-0.2910912671864748,-0.21934427954256483,-0.1118735856067792,0.24255954044414604,-0.39715050010817116,-0.1833654161753571,0.3144442191885265,0.3984080587571646,0.24213167033279637,-0.25102298648895865,0.4266951881449686,0.3934494894064299,-0.20718074742488754,-0.05949450022492668,-0.2321575538915575,-0.36603876639270433,-0.13121898116626687,-0.02298624345815017,0.2777232611655401,0.05660484417541592,0.3317321455277753,0.3017491207836975,0.22372209804071536,-0.2051128474388415,0.24472652147099605,-0.465992303641062,-0.1050208676341101,-0.409413389050383,-0.08063987054630066,0.17472045668260497,0.028369159844788532,0.16218689859373334,0.28048305647298155,-0.13270842520917273,-0.2973421768113882,-0.18393702305223938,-0.2779189820740914,-0.007651045255509217,0.26144199269146856,-0.09643657543744949,-0.34580631721055244,0.06237914130487564,-0.11376987315709167,-0.01190808116030319,-0.1543736865532307,-0.3640162518441373,-0.339180542256147,0.03702080109124594,-0.34099610510642797,-0.2177082292588213,-0.2621632674854135,0.1468921383709721,-0.1956362662963858,-0.354210561026822,-0.17203702149163452,0.025263402878901286,0.3130014243732896,-0.3907343858853212,0.08466352740685028,-0.08702467968783648,-0.18447630181608962,-0.2171715439013065,-0.35157162949733245,-0.26769149013922905,0.31815466930979186,0.0040080151057027965,0.12751919549270105,0.23257467299943255,0.07229220295639326,-0.253090395578842,-0.3411880662863157,0.14167213902253273,0.13136729688906687,-0.017583312919610773,-0.18799434677464472,-0.010355608462058023,0.0065377989526233535,-0.282224150360786,0.11949902115945835,0.06399668102810405,-0.04990357814028164,0.12116351599360978,0.03212936857749591,-0.11503165807166515,0.4724401897028498,-0.09959370401403533,-0.40596217815636804,-0.47360853309552686,0.20203571282192223,0.17594920329982427,-0.016497714188824713,0.05914549151734913,0.4994650748747285,0.1974208682481655,-0.06496674651121725,0.2556228144896303,-0.05343302389874417,-0.06191741158936968,0.10221169619764879,0.09959268689285751,0.029215372182376485,-0.3503030730653265,-0.3285800508893924,0.13224988671279758,-0.09809997536560594,0.0697996195963988,-0.09572426475261998,0.1312290921525105,-0.4143993606357001,-0.3113480663655502,-0.05583023646491159,-0.28094659741901495,-0.05034709544054283,-0.07454839337265022,0.1677763020180256,-0.2617935965689235,0.02616623706357728,0.25578714395956365,-0.07196604955313171,0.08027376537991564,-0.22711450782317807,0.04060427255595311,-0.06867600210751651,0.020192282395650234,0.41317193103962313,-0.4684592018186869,0.0003792933587096228,0.35337739208596114,0.4149997726767888,0.09512380854909512,0.2787115521261326,-0.04664661143816067,0.1781865319086864,-0.03719686317798605,0.011974050304686039,-0.35989656337117093,-0.010763781077546776,-0.09637138732685192,-0.16904877381100966,0.2696529379452513,0.286170628364807,-0.18110700460356893,0.1462376126679974,-0.042329162312789444,0.2625271195272239,0.018172896893699067,0.036380386104210086,-0.16626713651306785,0.03010995466136226,0.47527417365551716,-0.0050212933036257075,-0.10863238320870121,0.3015267597019223,0.2080377941006394,0.14482217851511534,0.08753260754835532,0.2615450269546664,-0.11817867481103299,-0.1383719018538993,-0.03616077253006899,0.1664784757292432,-0.27265526959460307,0.059667858082129016,0.07734601028699849,-0.29347013424511886,0.06002656484669289,-0.25202535852589975,0.10996618062694376,0.30633232706915414,0.07682910971364997,-0.1385276043098063,0.24955138679633662,-0.29782289972391157,-0.11108851058175377,-0.2901122551431648,0.1209821932537636,-0.21912675985709879,0.2286692119127018,0.30415582863716967,0.13265893331628095,-0.27564937234769454,0.04398232104488077,-0.12827777602555138,0.0658212068112724,0.07632877567512472,0.003675409967408469,0.12135169679011856],\"y\":[1,1,1,1,1,1,1,1,1,1,1,1,1,1,1,1,1,1,1,1,1,1,1,1,1,1,1,1,1,1,1,1,1,1,1,1,1,1,1,1,1,1,1,1,1,1,1,1,1,1,1,1,1,1,1,1,1,1,1,1,1,1,1,1,1,1,1,1,1,1,1,1,1,1,1,1,1,1,1,1,1,1,1,1,1,1,1,1,1,1,1,1,1,1,1,1,1,1,1,1,1,1,1,1,1,1,1,1,1,1,1,1,1,1,1,1,1,1,1,1,1,1,1,1,1,1,1,1,1,1,1,1,1,1,1,1,1,1,1,1,1,1,1,1,1,1,1,1,1,1,1,1,1,1,1,1,1,1,1,1,1,1,1,1,1,1,1,1,1,1,1,1,1,1,1,1,1,1,1,1,1,1,1,1,1,1,1,1,1,1,1,1,1,1,1,1,1,1,1,1,1,1,1,1,1,1,1,1,1,1,1,1,1,1,1,1,1,1,1,1],\"type\":\"scatter\",\"xaxis\":\"x\",\"yaxis\":\"y\"},{\"hovertemplate\":\"\\u003cb\\u003e%{text}\\u003c\\u002fb\\u003e\\u003cbr\\u003eCosine Similarity: %{x:.3f}\\u003cextra\\u003e\\u003c\\u002fextra\\u003e\",\"marker\":{\"color\":\"limegreen\",\"line\":{\"color\":\"black\",\"width\":1},\"opacity\":1.0,\"size\":8,\"symbol\":\"diamond\"},\"mode\":\"markers\",\"showlegend\":false,\"text\":[\"Whimsical\",\"Temperamental\",\"Stream of consciousness\",\"Spontaneous\",\"Solemn\",\"Romantic\",\"Rationalist\",\"Quantitative\",\"Moderate\",\"Mischievous\",\"Methodical\",\"Mercurial\",\"Manic\",\"Formal\",\"Flirty\",\"Factual\",\"Edgy\",\"Diplomatic\",\"Data driven\",\"Calm\"],\"x\":[-0.6420792995064228,-0.5178294173493785,-0.49326991828560734,-0.6475504337830023,0.5596256534250693,-0.4939091618529695,0.5816956365886586,0.5301021379762503,0.5336289132351821,-0.5451669803318538,0.7762659295036755,-0.653747915304146,-0.5757834243001319,0.5346015378560017,-0.4827576793613414,0.7520153524134868,-0.5585550339856651,0.5333532912388452,0.623384739896098,0.6317723421873132],\"y\":[1,1,1,1,1,1,1,1,1,1,1,1,1,1,1,1,1,1,1,1],\"type\":\"scatter\",\"xaxis\":\"x\",\"yaxis\":\"y\"},{\"hoverinfo\":\"skip\",\"line\":{\"color\":\"black\",\"width\":1},\"mode\":\"lines\",\"showlegend\":false,\"x\":[-0.653747915304146,-0.653747915304146],\"y\":[1.0,1.45],\"type\":\"scatter\",\"xaxis\":\"x\",\"yaxis\":\"y\"},{\"hoverinfo\":\"skip\",\"line\":{\"color\":\"black\",\"width\":1},\"mode\":\"lines\",\"showlegend\":false,\"x\":[-0.6475504337830023,-0.6475504337830023],\"y\":[1.0,0.6],\"type\":\"scatter\",\"xaxis\":\"x\",\"yaxis\":\"y\"},{\"hoverinfo\":\"skip\",\"line\":{\"color\":\"black\",\"width\":1},\"mode\":\"lines\",\"showlegend\":false,\"x\":[-0.6420792995064228,-0.6420792995064228],\"y\":[1.0,1.9],\"type\":\"scatter\",\"xaxis\":\"x\",\"yaxis\":\"y\"},{\"hoverinfo\":\"skip\",\"line\":{\"color\":\"black\",\"width\":1},\"mode\":\"lines\",\"showlegend\":false,\"x\":[-0.5757834243001319,-0.5757834243001319],\"y\":[1.0,0.15],\"type\":\"scatter\",\"xaxis\":\"x\",\"yaxis\":\"y\"},{\"hoverinfo\":\"skip\",\"line\":{\"color\":\"black\",\"width\":1},\"mode\":\"lines\",\"showlegend\":false,\"x\":[-0.5585550339856651,-0.5585550339856651],\"y\":[1.0,1.6],\"type\":\"scatter\",\"xaxis\":\"x\",\"yaxis\":\"y\"},{\"hoverinfo\":\"skip\",\"line\":{\"color\":\"black\",\"width\":1},\"mode\":\"lines\",\"showlegend\":false,\"x\":[-0.5451669803318538,-0.5451669803318538],\"y\":[1.0,0.45],\"type\":\"scatter\",\"xaxis\":\"x\",\"yaxis\":\"y\"},{\"hoverinfo\":\"skip\",\"line\":{\"color\":\"black\",\"width\":1},\"mode\":\"lines\",\"showlegend\":false,\"x\":[-0.5178294173493785,-0.5178294173493785],\"y\":[1.0,1.3],\"type\":\"scatter\",\"xaxis\":\"x\",\"yaxis\":\"y\"},{\"hoverinfo\":\"skip\",\"line\":{\"color\":\"black\",\"width\":1},\"mode\":\"lines\",\"showlegend\":false,\"x\":[-0.4939091618529695,-0.4939091618529695],\"y\":[1.0,0.75],\"type\":\"scatter\",\"xaxis\":\"x\",\"yaxis\":\"y\"},{\"hoverinfo\":\"skip\",\"line\":{\"color\":\"black\",\"width\":1},\"mode\":\"lines\",\"showlegend\":false,\"x\":[-0.49326991828560734,-0.49326991828560734],\"y\":[1.0,1.75],\"type\":\"scatter\",\"xaxis\":\"x\",\"yaxis\":\"y\"},{\"hoverinfo\":\"skip\",\"line\":{\"color\":\"black\",\"width\":1},\"mode\":\"lines\",\"showlegend\":false,\"x\":[-0.4827576793613414,-0.4827576793613414],\"y\":[1.0,0.3],\"type\":\"scatter\",\"xaxis\":\"x\",\"yaxis\":\"y\"},{\"hoverinfo\":\"skip\",\"line\":{\"color\":\"black\",\"width\":1},\"mode\":\"lines\",\"showlegend\":false,\"x\":[0.5301021379762503,0.5301021379762503],\"y\":[1.0,1.45],\"type\":\"scatter\",\"xaxis\":\"x\",\"yaxis\":\"y\"},{\"hoverinfo\":\"skip\",\"line\":{\"color\":\"black\",\"width\":1},\"mode\":\"lines\",\"showlegend\":false,\"x\":[0.5333532912388452,0.5333532912388452],\"y\":[1.0,0.6],\"type\":\"scatter\",\"xaxis\":\"x\",\"yaxis\":\"y\"},{\"hoverinfo\":\"skip\",\"line\":{\"color\":\"black\",\"width\":1},\"mode\":\"lines\",\"showlegend\":false,\"x\":[0.5336289132351821,0.5336289132351821],\"y\":[1.0,1.9],\"type\":\"scatter\",\"xaxis\":\"x\",\"yaxis\":\"y\"},{\"hoverinfo\":\"skip\",\"line\":{\"color\":\"black\",\"width\":1},\"mode\":\"lines\",\"showlegend\":false,\"x\":[0.5346015378560017,0.5346015378560017],\"y\":[1.0,0.15],\"type\":\"scatter\",\"xaxis\":\"x\",\"yaxis\":\"y\"},{\"hoverinfo\":\"skip\",\"line\":{\"color\":\"black\",\"width\":1},\"mode\":\"lines\",\"showlegend\":false,\"x\":[0.5596256534250693,0.5596256534250693],\"y\":[1.0,1.6],\"type\":\"scatter\",\"xaxis\":\"x\",\"yaxis\":\"y\"},{\"hoverinfo\":\"skip\",\"line\":{\"color\":\"black\",\"width\":1},\"mode\":\"lines\",\"showlegend\":false,\"x\":[0.5816956365886586,0.5816956365886586],\"y\":[1.0,0.45],\"type\":\"scatter\",\"xaxis\":\"x\",\"yaxis\":\"y\"},{\"hoverinfo\":\"skip\",\"line\":{\"color\":\"black\",\"width\":1},\"mode\":\"lines\",\"showlegend\":false,\"x\":[0.623384739896098,0.623384739896098],\"y\":[1.0,1.3],\"type\":\"scatter\",\"xaxis\":\"x\",\"yaxis\":\"y\"},{\"hoverinfo\":\"skip\",\"line\":{\"color\":\"black\",\"width\":1},\"mode\":\"lines\",\"showlegend\":false,\"x\":[0.6317723421873132,0.6317723421873132],\"y\":[1.0,0.75],\"type\":\"scatter\",\"xaxis\":\"x\",\"yaxis\":\"y\"},{\"hoverinfo\":\"skip\",\"line\":{\"color\":\"black\",\"width\":1},\"mode\":\"lines\",\"showlegend\":false,\"x\":[0.7520153524134868,0.7520153524134868],\"y\":[1.0,1.75],\"type\":\"scatter\",\"xaxis\":\"x\",\"yaxis\":\"y\"},{\"hoverinfo\":\"skip\",\"line\":{\"color\":\"black\",\"width\":1},\"mode\":\"lines\",\"showlegend\":false,\"x\":[0.7762659295036755,0.7762659295036755],\"y\":[1.0,0.3],\"type\":\"scatter\",\"xaxis\":\"x\",\"yaxis\":\"y\"},{\"hoverinfo\":\"skip\",\"marker\":{\"color\":\"limegreen\"},\"opacity\":0.7,\"showlegend\":false,\"width\":0.03813370252820861,\"x\":[-0.6299143512240156,-0.582247223063755,-0.5345800949034942,-0.4869129667432335,-0.4392458385829727,-0.3915787104227121,-0.34391158226245133,-0.2962444541021906,-0.2485773259419299,-0.2009101977816692,-0.15324306962140843,-0.10557594146114774,-0.05790881330088704,-0.010241685140626289,0.03742544301963441,0.0850925711798951,0.13275969934015586,0.18042682750041655,0.22809395566067725,0.275761083820938,0.32342821198119875,0.3710953401414595,0.41876246830172015,0.4664295964619808,0.5140967246222415,0.5617638527825023,0.609430980942763,0.6570981091030238,0.7047652372632844,0.7524323654235451],\"y\":[0.14210526315789473,0.09473684210526316,0.09473684210526316,0.28421052631578947,0.0,0.28421052631578947,0.5684210526315789,0.5684210526315789,0.5210526315789474,0.6157894736842106,0.4263157894736842,0.6631578947368421,0.7578947368421053,0.7578947368421053,0.9,0.8526315789473684,0.8052631578947369,0.47368421052631576,0.4263157894736842,0.6157894736842106,0.4263157894736842,0.14210526315789473,0.18947368421052632,0.14210526315789473,0.33157894736842103,0.09473684210526316,0.09473684210526316,0.0,0.0,0.09473684210526316],\"type\":\"bar\",\"xaxis\":\"x\",\"yaxis\":\"y\"},{\"hovertemplate\":\"\\u003cb\\u003e%{text}\\u003c\\u002fb\\u003e\\u003cbr\\u003ePC Projection: %{x:.3f}\\u003cextra\\u003e\\u003c\\u002fextra\\u003e\",\"marker\":{\"color\":\"limegreen\",\"line\":{\"color\":\"black\",\"width\":1},\"opacity\":1.0,\"size\":8,\"symbol\":\"diamond\"},\"mode\":\"markers\",\"showlegend\":false,\"text\":[\"Zealous\",\"Wry\",\"Witty\",\"Visceral\",\"Vindictive\",\"Verbose\",\"Utilitarian\",\"Urgent\",\"Universalist\",\"Understated\",\"Transparent\",\"Traditional\",\"Theoretical\",\"Theatrical\",\"Technical\",\"Tactful\",\"Systems thinker\",\"Sycophantic\",\"Supportive\",\"Subversive\",\"Submissive\",\"Structuralist\",\"Stream of consciousness\",\"Strategic\",\"Stoic\",\"Spiritual\",\"Speculative\",\"Specialized\",\"Solemn\",\"Socratic\",\"Skeptical\",\"Serene\",\"Secular\",\"Savage\",\"Sassy\",\"Sardonic\",\"Sarcastic\",\"Ritualistic\",\"Risk taking\",\"Rhetorical\",\"Reverent\",\"Resilient\",\"Relativist\",\"Regulatory\",\"Reductionist\",\"Rebellious\",\"Reactive\",\"Radical\",\"Qualitative\",\"Provocative\",\"Progressive\",\"Problem solving\",\"Proactive\",\"Principled\",\"Prescriptive\",\"Practical\",\"Poetic\",\"Pluralist\",\"Playful\",\"Philosophical\",\"Petty\",\"Pessimistic\",\"Perfectionist\",\"Pensive\",\"Pedantic\",\"Patient\",\"Passive aggressive\",\"Passionate\",\"Paranoid\",\"Paradoxical\",\"Pacifist\",\"Optimistic\",\"Open ended\",\"Obsessive\",\"Nurturing\",\"Nostalgic\",\"Nonchalant\",\"Nihilistic\",\"Neurotic\",\"Narrative\",\"Naive\",\"Mystical\",\"Moderate\",\"Mischievous\",\"Misanthropic\",\"Militant\",\"Meticulous\",\"Metaphorical\",\"Melancholic\",\"Meditative\",\"Materialist\",\"Manipulative\",\"Literal\",\"Libertarian\",\"Judgmental\",\"Irreverent\",\"Ironic\",\"Intuitive\",\"Introverted\",\"Introspective\",\"Interdisciplinary\",\"Inspirational\",\"Inquisitive\",\"Innovative\",\"Individualistic\",\"Independent\",\"Inclusive\",\"Impulsive\",\"Improvisational\",\"Impatient\",\"Idealistic\",\"Iconoclastic\",\"Humble\",\"Humanistic\",\"Hostile\",\"Holistic\",\"Historical\",\"Hedonistic\",\"Grounded\",\"Gregarious\",\"Grandiose\",\"Generous\",\"Generalist\",\"Futuristic\",\"Fundamentalist\",\"Formalist\",\"Formal\",\"Forgiving\",\"Flippant\",\"Flexible\",\"Fatalistic\",\"Extroverted\",\"Exploratory\",\"Experiential\",\"Existentialist\",\"Evil\",\"Ethereal\",\"Essentialist\",\"Esoteric\",\"Erudite\",\"Epicurean\",\"Environmental\",\"Entertaining\",\"Enigmatic\",\"Empathetic\",\"Emotional\",\"Eloquent\",\"Elitist\",\"Egalitarian\",\"Effusive\",\"Efficient\",\"Educational\",\"Edgy\",\"Eclectic\",\"Earnest\",\"Dramatic\",\"Dominant\",\"Dogmatic\",\"Divergent\",\"Diplomatic\",\"Deterministic\",\"Detached\",\"Deontological\",\"Deferential\",\"Deconstructionist\",\"Decisive\",\"Cynical\",\"Curious\",\"Cryptic\",\"Cruel\",\"Critical\",\"Creative\",\"Cosmopolitan\",\"Convergent\",\"Contrarian\",\"Contemporary\",\"Constructivist\",\"Conscientious\",\"Confrontational\",\"Confident\",\"Condescending\",\"Concise\",\"Conciliatory\",\"Conceptual\",\"Competitive\",\"Collectivistic\",\"Collaborative\",\"Closure seeking\",\"Circumspect\",\"Chill\",\"Charismatic\",\"Chaotic\",\"Challenging\",\"Cautious\",\"Casual\",\"Callous\",\"Calculating\",\"Bombastic\",\"Blunt\",\"Bitter\",\"Big picture\",\"Benevolent\",\"Avoidant\",\"Assertive\",\"Ascetic\",\"Artistic\",\"Arrogant\",\"Anxious\",\"Anthropocentric\",\"Animated\",\"Analytical\",\"Altruistic\",\"Agreeable\",\"Adventurous\",\"Adaptable\",\"Acerbic\",\"Accommodating\",\"Accessible\",\"Abstract\",\"Absolutist\"],\"x\":[-26.050074046170245,-12.01039870172103,-18.153921968601452,-19.549679127882705,1.6119510448909664,6.9049397066880145,11.121115336496702,3.1140387728418975,6.082355426830364,13.258875474827418,14.385613705128465,18.052579956602056,-1.3063095911869291,-25.42910073387476,17.38840227504625,12.407616392328972,6.867064938660762,-4.3862002755780445,9.68064983697343,-12.342155038916419,3.494377551537689,24.82740873631633,-21.625609989118015,17.182081900679574,26.302109445616267,-17.3986841729788,-7.414016458738448,10.645221223058874,23.816966223147222,-0.6494031910002939,7.65771922213115,23.069045612161865,18.0514944427671,-2.0776081988242727,-10.232509174076213,-14.793969335459641,-9.74177959215528,14.592284777847864,-15.76215741250836,-17.181218572002972,15.238336025018413,21.357513349401657,-13.809500823939468,21.26422088394294,18.133498612633485,-10.410838901902771,-7.684389774813373,-11.068196172038864,-20.809103608746646,-9.432816936835707,-1.0175534298308007,21.67635648278507,8.13861167013157,13.2437780076387,15.815104200672403,13.972295190773046,-13.072218052057382,9.255322627936629,-21.03498647397869,-9.04807342246706,-22.739333815628573,-5.0761691435146465,14.419605777038903,3.230665984731794,11.019017859416946,17.67353651150036,-10.011086529082691,-24.304696709579854,-7.816326351006332,-11.237955555518031,-0.36823401164087993,13.834361839789182,-4.318478302690947,-16.809814137921254,6.150539830996132,-6.0947380102571,-1.554639407957876,-11.162162549473644,-19.83050408062299,-19.90071938762634,4.340056827333495,-20.604300433113202,25.067879009302928,-25.73897143452232,-14.322444862002481,-15.261398586875872,17.425207663101688,-19.084045155353596,-8.575106210342133,2.6098255895883744,16.993827875331014,-22.253523428931313,10.686353278178597,-4.666604872650559,-10.446311156176867,-17.017653430250235,-15.80682238295405,-13.862462969528512,14.215574306121791,0.5079473863812778,4.196449962906489,13.050268105993881,4.221396749934897,-11.011302279610321,-10.661512774047932,5.523865517422454,7.7559884906387895,-3.0477998084722704,-11.903849336184344,-1.3326993013541923,0.3387739126509028,-12.278884354779372,6.3579966960921,3.297465505674032,-5.319454442315335,7.561284935785721,1.5713156825435273,-9.067751789583573,26.21061562744892,-5.947452273831743,-17.02661847767507,14.400320799213844,6.639752706669703,-0.7557725397384912,6.437706521309013,24.962759371290066,23.57215626454298,8.786994649133222,-8.909901291970497,14.854900150065319,-3.679682622605978,-2.4216334832426445,9.666295706744522,4.859047914471942,1.486273478432534,-21.770908822746506,-21.14633436046534,7.613340895525181,-6.196653337946165,6.056855672902505,-6.43514379970548,6.848979266471718,-24.59448288844935,-20.38211499180597,-4.8072767452593315,-20.19823024742643,-6.005493157798914,-4.563563275989528,7.671817541405489,-24.1496202853924,3.8891899160661074,21.18874840871974,-26.50433596434506,-4.405355364871302,6.000053640988327,-26.82868264925737,2.423102311205026,-6.3464617842436155,2.373237553465427,25.46873869831339,0.023530882899181878,27.19261569320302,5.191432691937092,11.753492153444428,-4.185309587212483,14.38934560669597,-1.943431937614664,0.9701409190320032,-16.218004951682985,-1.0661003964069835,-6.67576406962338,-13.17359692547837,12.871031429191728,11.308365122046174,-9.128708669155918,7.818935901324704,-2.3189565975166513,24.519370410098364,0.6774728134310115,3.7701523428224624,-10.40233565471237,4.741041157524854,21.053789818570046,-0.2572674498095363,-7.023751735414546,13.736070048764578,9.92325133615707,12.861807610587556,7.2637653357951155,12.146285395172002,-11.738602246444087,-6.123040593086078,-2.6586963076556347,10.311606707804343,-10.746992713507408,8.590199513939384,8.404816051873226,-23.526237271563037,4.31591102982033,-16.147485778253696,5.03432879866858,15.470476741235885,5.319949851163093,-6.654834527196615,13.960801908409444,-19.6359819539671,-9.035035607124163,-15.576434207436016,5.024013249389919,-16.784569404686405,24.017941848890107,14.773665410433624,10.258413369942343,-12.495101339627107,5.3298437631779905,-9.851768759967934,2.103179816002796,4.588351642473851,0.18156065976815047,6.723984080971752],\"y\":[1,1,1,1,1,1,1,1,1,1,1,1,1,1,1,1,1,1,1,1,1,1,1,1,1,1,1,1,1,1,1,1,1,1,1,1,1,1,1,1,1,1,1,1,1,1,1,1,1,1,1,1,1,1,1,1,1,1,1,1,1,1,1,1,1,1,1,1,1,1,1,1,1,1,1,1,1,1,1,1,1,1,1,1,1,1,1,1,1,1,1,1,1,1,1,1,1,1,1,1,1,1,1,1,1,1,1,1,1,1,1,1,1,1,1,1,1,1,1,1,1,1,1,1,1,1,1,1,1,1,1,1,1,1,1,1,1,1,1,1,1,1,1,1,1,1,1,1,1,1,1,1,1,1,1,1,1,1,1,1,1,1,1,1,1,1,1,1,1,1,1,1,1,1,1,1,1,1,1,1,1,1,1,1,1,1,1,1,1,1,1,1,1,1,1,1,1,1,1,1,1,1,1,1,1,1,1,1,1,1,1,1,1,1,1,1,1,1,1,1],\"type\":\"scatter\",\"xaxis\":\"x2\",\"yaxis\":\"y2\"},{\"hovertemplate\":\"\\u003cb\\u003e%{text}\\u003c\\u002fb\\u003e\\u003cbr\\u003ePC Projection: %{x:.3f}\\u003cextra\\u003e\\u003c\\u002fextra\\u003e\",\"marker\":{\"color\":\"limegreen\",\"line\":{\"color\":\"black\",\"width\":1},\"opacity\":1.0,\"size\":8,\"symbol\":\"diamond\"},\"mode\":\"markers\",\"showlegend\":false,\"text\":[\"Whimsical\",\"Temperamental\",\"Spontaneous\",\"Serious\",\"Romantic\",\"Reserved\",\"Rationalist\",\"Quantitative\",\"Methodical\",\"Mercurial\",\"Melodramatic\",\"Manic\",\"Goofy\",\"Flirty\",\"Factual\",\"Dispassionate\",\"Disorganized\",\"Descriptive\",\"Data driven\",\"Calm\"],\"x\":[-31.080207777757415,-33.908977232850894,-27.980327467632478,32.05055937769082,-32.03140270235088,33.7697421320209,29.488247917777773,30.24535172999705,39.31140617524522,-32.53248779410619,-31.36848650277078,-36.49057549287295,-27.457631023254063,-27.203843834016478,35.969325976092534,36.12486411359998,-32.62192958674284,27.55905996002234,35.19105592684501,37.70023077493187],\"y\":[1,1,1,1,1,1,1,1,1,1,1,1,1,1,1,1,1,1,1,1],\"type\":\"scatter\",\"xaxis\":\"x2\",\"yaxis\":\"y2\"},{\"hoverinfo\":\"skip\",\"line\":{\"color\":\"black\",\"width\":1},\"mode\":\"lines\",\"showlegend\":false,\"x\":[-36.49057549287295,-36.49057549287295],\"y\":[1.0,1.45],\"type\":\"scatter\",\"xaxis\":\"x2\",\"yaxis\":\"y2\"},{\"hoverinfo\":\"skip\",\"line\":{\"color\":\"black\",\"width\":1},\"mode\":\"lines\",\"showlegend\":false,\"x\":[-33.908977232850894,-33.908977232850894],\"y\":[1.0,0.6],\"type\":\"scatter\",\"xaxis\":\"x2\",\"yaxis\":\"y2\"},{\"hoverinfo\":\"skip\",\"line\":{\"color\":\"black\",\"width\":1},\"mode\":\"lines\",\"showlegend\":false,\"x\":[-32.62192958674284,-32.62192958674284],\"y\":[1.0,1.9],\"type\":\"scatter\",\"xaxis\":\"x2\",\"yaxis\":\"y2\"},{\"hoverinfo\":\"skip\",\"line\":{\"color\":\"black\",\"width\":1},\"mode\":\"lines\",\"showlegend\":false,\"x\":[-32.53248779410619,-32.53248779410619],\"y\":[1.0,0.15],\"type\":\"scatter\",\"xaxis\":\"x2\",\"yaxis\":\"y2\"},{\"hoverinfo\":\"skip\",\"line\":{\"color\":\"black\",\"width\":1},\"mode\":\"lines\",\"showlegend\":false,\"x\":[-32.03140270235088,-32.03140270235088],\"y\":[1.0,1.6],\"type\":\"scatter\",\"xaxis\":\"x2\",\"yaxis\":\"y2\"},{\"hoverinfo\":\"skip\",\"line\":{\"color\":\"black\",\"width\":1},\"mode\":\"lines\",\"showlegend\":false,\"x\":[-31.36848650277078,-31.36848650277078],\"y\":[1.0,0.45],\"type\":\"scatter\",\"xaxis\":\"x2\",\"yaxis\":\"y2\"},{\"hoverinfo\":\"skip\",\"line\":{\"color\":\"black\",\"width\":1},\"mode\":\"lines\",\"showlegend\":false,\"x\":[-31.080207777757415,-31.080207777757415],\"y\":[1.0,1.3],\"type\":\"scatter\",\"xaxis\":\"x2\",\"yaxis\":\"y2\"},{\"hoverinfo\":\"skip\",\"line\":{\"color\":\"black\",\"width\":1},\"mode\":\"lines\",\"showlegend\":false,\"x\":[-27.980327467632478,-27.980327467632478],\"y\":[1.0,0.75],\"type\":\"scatter\",\"xaxis\":\"x2\",\"yaxis\":\"y2\"},{\"hoverinfo\":\"skip\",\"line\":{\"color\":\"black\",\"width\":1},\"mode\":\"lines\",\"showlegend\":false,\"x\":[-27.457631023254063,-27.457631023254063],\"y\":[1.0,1.75],\"type\":\"scatter\",\"xaxis\":\"x2\",\"yaxis\":\"y2\"},{\"hoverinfo\":\"skip\",\"line\":{\"color\":\"black\",\"width\":1},\"mode\":\"lines\",\"showlegend\":false,\"x\":[-27.203843834016478,-27.203843834016478],\"y\":[1.0,0.3],\"type\":\"scatter\",\"xaxis\":\"x2\",\"yaxis\":\"y2\"},{\"hoverinfo\":\"skip\",\"line\":{\"color\":\"black\",\"width\":1},\"mode\":\"lines\",\"showlegend\":false,\"x\":[27.55905996002234,27.55905996002234],\"y\":[1.0,1.45],\"type\":\"scatter\",\"xaxis\":\"x2\",\"yaxis\":\"y2\"},{\"hoverinfo\":\"skip\",\"line\":{\"color\":\"black\",\"width\":1},\"mode\":\"lines\",\"showlegend\":false,\"x\":[29.488247917777773,29.488247917777773],\"y\":[1.0,0.6],\"type\":\"scatter\",\"xaxis\":\"x2\",\"yaxis\":\"y2\"},{\"hoverinfo\":\"skip\",\"line\":{\"color\":\"black\",\"width\":1},\"mode\":\"lines\",\"showlegend\":false,\"x\":[30.24535172999705,30.24535172999705],\"y\":[1.0,1.9],\"type\":\"scatter\",\"xaxis\":\"x2\",\"yaxis\":\"y2\"},{\"hoverinfo\":\"skip\",\"line\":{\"color\":\"black\",\"width\":1},\"mode\":\"lines\",\"showlegend\":false,\"x\":[32.05055937769082,32.05055937769082],\"y\":[1.0,0.15],\"type\":\"scatter\",\"xaxis\":\"x2\",\"yaxis\":\"y2\"},{\"hoverinfo\":\"skip\",\"line\":{\"color\":\"black\",\"width\":1},\"mode\":\"lines\",\"showlegend\":false,\"x\":[33.7697421320209,33.7697421320209],\"y\":[1.0,1.6],\"type\":\"scatter\",\"xaxis\":\"x2\",\"yaxis\":\"y2\"},{\"hoverinfo\":\"skip\",\"line\":{\"color\":\"black\",\"width\":1},\"mode\":\"lines\",\"showlegend\":false,\"x\":[35.19105592684501,35.19105592684501],\"y\":[1.0,0.45],\"type\":\"scatter\",\"xaxis\":\"x2\",\"yaxis\":\"y2\"},{\"hoverinfo\":\"skip\",\"line\":{\"color\":\"black\",\"width\":1},\"mode\":\"lines\",\"showlegend\":false,\"x\":[35.969325976092534,35.969325976092534],\"y\":[1.0,1.3],\"type\":\"scatter\",\"xaxis\":\"x2\",\"yaxis\":\"y2\"},{\"hoverinfo\":\"skip\",\"line\":{\"color\":\"black\",\"width\":1},\"mode\":\"lines\",\"showlegend\":false,\"x\":[36.12486411359998,36.12486411359998],\"y\":[1.0,0.75],\"type\":\"scatter\",\"xaxis\":\"x2\",\"yaxis\":\"y2\"},{\"hoverinfo\":\"skip\",\"line\":{\"color\":\"black\",\"width\":1},\"mode\":\"lines\",\"showlegend\":false,\"x\":[37.70023077493187,37.70023077493187],\"y\":[1.0,1.75],\"type\":\"scatter\",\"xaxis\":\"x2\",\"yaxis\":\"y2\"},{\"hoverinfo\":\"skip\",\"line\":{\"color\":\"black\",\"width\":1},\"mode\":\"lines\",\"showlegend\":false,\"x\":[39.31140617524522,39.31140617524522],\"y\":[1.0,0.3],\"type\":\"scatter\",\"xaxis\":\"x2\",\"yaxis\":\"y2\"},{\"hoverinfo\":\"skip\",\"marker\":{\"color\":\"limegreen\"},\"opacity\":0.7,\"showlegend\":false,\"width\":2.021386177816487,\"x\":[-35.227209131737645,-32.70047640946704,-30.173743687196435,-27.647010964925826,-25.120278242655225,-22.593545520384616,-20.066812798114007,-17.540080075843406,-15.013347353572799,-12.486614631302194,-9.959881909031587,-7.43314918676098,-4.906416464490375,-2.3796837422197683,0.14704898005083678,2.673781702321442,5.2005144245920505,7.727247146862656,10.25397986913326,12.780712591403866,15.30744531367447,17.83417803594508,20.360910758215685,22.88764348048629,25.4143762027569,27.941108925027503,30.46784164729811,32.99457436956872,35.521307091839326,38.04803981410993],\"y\":[0.04736842105263158,0.18947368421052632,0.09473684210526316,0.23684210526315788,0.28421052631578947,0.23684210526315788,0.5210526315789474,0.33157894736842103,0.47368421052631576,0.4263157894736842,0.8526315789473684,0.47368421052631576,0.6631578947368421,0.4263157894736842,0.5684210526315789,0.6157894736842106,0.9,0.7578947368421053,0.5210526315789474,0.5684210526315789,0.5210526315789474,0.37894736842105264,0.18947368421052632,0.23684210526315788,0.33157894736842103,0.09473684210526316,0.09473684210526316,0.09473684210526316,0.14210526315789473,0.09473684210526316],\"type\":\"bar\",\"xaxis\":\"x2\",\"yaxis\":\"y2\"}],                        {\"template\":{\"data\":{\"histogram2dcontour\":[{\"type\":\"histogram2dcontour\",\"colorbar\":{\"outlinewidth\":0,\"ticks\":\"\"},\"colorscale\":[[0.0,\"#0d0887\"],[0.1111111111111111,\"#46039f\"],[0.2222222222222222,\"#7201a8\"],[0.3333333333333333,\"#9c179e\"],[0.4444444444444444,\"#bd3786\"],[0.5555555555555556,\"#d8576b\"],[0.6666666666666666,\"#ed7953\"],[0.7777777777777778,\"#fb9f3a\"],[0.8888888888888888,\"#fdca26\"],[1.0,\"#f0f921\"]]}],\"choropleth\":[{\"type\":\"choropleth\",\"colorbar\":{\"outlinewidth\":0,\"ticks\":\"\"}}],\"histogram2d\":[{\"type\":\"histogram2d\",\"colorbar\":{\"outlinewidth\":0,\"ticks\":\"\"},\"colorscale\":[[0.0,\"#0d0887\"],[0.1111111111111111,\"#46039f\"],[0.2222222222222222,\"#7201a8\"],[0.3333333333333333,\"#9c179e\"],[0.4444444444444444,\"#bd3786\"],[0.5555555555555556,\"#d8576b\"],[0.6666666666666666,\"#ed7953\"],[0.7777777777777778,\"#fb9f3a\"],[0.8888888888888888,\"#fdca26\"],[1.0,\"#f0f921\"]]}],\"heatmap\":[{\"type\":\"heatmap\",\"colorbar\":{\"outlinewidth\":0,\"ticks\":\"\"},\"colorscale\":[[0.0,\"#0d0887\"],[0.1111111111111111,\"#46039f\"],[0.2222222222222222,\"#7201a8\"],[0.3333333333333333,\"#9c179e\"],[0.4444444444444444,\"#bd3786\"],[0.5555555555555556,\"#d8576b\"],[0.6666666666666666,\"#ed7953\"],[0.7777777777777778,\"#fb9f3a\"],[0.8888888888888888,\"#fdca26\"],[1.0,\"#f0f921\"]]}],\"heatmapgl\":[{\"type\":\"heatmapgl\",\"colorbar\":{\"outlinewidth\":0,\"ticks\":\"\"},\"colorscale\":[[0.0,\"#0d0887\"],[0.1111111111111111,\"#46039f\"],[0.2222222222222222,\"#7201a8\"],[0.3333333333333333,\"#9c179e\"],[0.4444444444444444,\"#bd3786\"],[0.5555555555555556,\"#d8576b\"],[0.6666666666666666,\"#ed7953\"],[0.7777777777777778,\"#fb9f3a\"],[0.8888888888888888,\"#fdca26\"],[1.0,\"#f0f921\"]]}],\"contourcarpet\":[{\"type\":\"contourcarpet\",\"colorbar\":{\"outlinewidth\":0,\"ticks\":\"\"}}],\"contour\":[{\"type\":\"contour\",\"colorbar\":{\"outlinewidth\":0,\"ticks\":\"\"},\"colorscale\":[[0.0,\"#0d0887\"],[0.1111111111111111,\"#46039f\"],[0.2222222222222222,\"#7201a8\"],[0.3333333333333333,\"#9c179e\"],[0.4444444444444444,\"#bd3786\"],[0.5555555555555556,\"#d8576b\"],[0.6666666666666666,\"#ed7953\"],[0.7777777777777778,\"#fb9f3a\"],[0.8888888888888888,\"#fdca26\"],[1.0,\"#f0f921\"]]}],\"surface\":[{\"type\":\"surface\",\"colorbar\":{\"outlinewidth\":0,\"ticks\":\"\"},\"colorscale\":[[0.0,\"#0d0887\"],[0.1111111111111111,\"#46039f\"],[0.2222222222222222,\"#7201a8\"],[0.3333333333333333,\"#9c179e\"],[0.4444444444444444,\"#bd3786\"],[0.5555555555555556,\"#d8576b\"],[0.6666666666666666,\"#ed7953\"],[0.7777777777777778,\"#fb9f3a\"],[0.8888888888888888,\"#fdca26\"],[1.0,\"#f0f921\"]]}],\"mesh3d\":[{\"type\":\"mesh3d\",\"colorbar\":{\"outlinewidth\":0,\"ticks\":\"\"}}],\"scatter\":[{\"fillpattern\":{\"fillmode\":\"overlay\",\"size\":10,\"solidity\":0.2},\"type\":\"scatter\"}],\"parcoords\":[{\"type\":\"parcoords\",\"line\":{\"colorbar\":{\"outlinewidth\":0,\"ticks\":\"\"}}}],\"scatterpolargl\":[{\"type\":\"scatterpolargl\",\"marker\":{\"colorbar\":{\"outlinewidth\":0,\"ticks\":\"\"}}}],\"bar\":[{\"error_x\":{\"color\":\"#2a3f5f\"},\"error_y\":{\"color\":\"#2a3f5f\"},\"marker\":{\"line\":{\"color\":\"#E5ECF6\",\"width\":0.5},\"pattern\":{\"fillmode\":\"overlay\",\"size\":10,\"solidity\":0.2}},\"type\":\"bar\"}],\"scattergeo\":[{\"type\":\"scattergeo\",\"marker\":{\"colorbar\":{\"outlinewidth\":0,\"ticks\":\"\"}}}],\"scatterpolar\":[{\"type\":\"scatterpolar\",\"marker\":{\"colorbar\":{\"outlinewidth\":0,\"ticks\":\"\"}}}],\"histogram\":[{\"marker\":{\"pattern\":{\"fillmode\":\"overlay\",\"size\":10,\"solidity\":0.2}},\"type\":\"histogram\"}],\"scattergl\":[{\"type\":\"scattergl\",\"marker\":{\"colorbar\":{\"outlinewidth\":0,\"ticks\":\"\"}}}],\"scatter3d\":[{\"type\":\"scatter3d\",\"line\":{\"colorbar\":{\"outlinewidth\":0,\"ticks\":\"\"}},\"marker\":{\"colorbar\":{\"outlinewidth\":0,\"ticks\":\"\"}}}],\"scattermapbox\":[{\"type\":\"scattermapbox\",\"marker\":{\"colorbar\":{\"outlinewidth\":0,\"ticks\":\"\"}}}],\"scatterternary\":[{\"type\":\"scatterternary\",\"marker\":{\"colorbar\":{\"outlinewidth\":0,\"ticks\":\"\"}}}],\"scattercarpet\":[{\"type\":\"scattercarpet\",\"marker\":{\"colorbar\":{\"outlinewidth\":0,\"ticks\":\"\"}}}],\"carpet\":[{\"aaxis\":{\"endlinecolor\":\"#2a3f5f\",\"gridcolor\":\"white\",\"linecolor\":\"white\",\"minorgridcolor\":\"white\",\"startlinecolor\":\"#2a3f5f\"},\"baxis\":{\"endlinecolor\":\"#2a3f5f\",\"gridcolor\":\"white\",\"linecolor\":\"white\",\"minorgridcolor\":\"white\",\"startlinecolor\":\"#2a3f5f\"},\"type\":\"carpet\"}],\"table\":[{\"cells\":{\"fill\":{\"color\":\"#EBF0F8\"},\"line\":{\"color\":\"white\"}},\"header\":{\"fill\":{\"color\":\"#C8D4E3\"},\"line\":{\"color\":\"white\"}},\"type\":\"table\"}],\"barpolar\":[{\"marker\":{\"line\":{\"color\":\"#E5ECF6\",\"width\":0.5},\"pattern\":{\"fillmode\":\"overlay\",\"size\":10,\"solidity\":0.2}},\"type\":\"barpolar\"}],\"pie\":[{\"automargin\":true,\"type\":\"pie\"}]},\"layout\":{\"autotypenumbers\":\"strict\",\"colorway\":[\"#636efa\",\"#EF553B\",\"#00cc96\",\"#ab63fa\",\"#FFA15A\",\"#19d3f3\",\"#FF6692\",\"#B6E880\",\"#FF97FF\",\"#FECB52\"],\"font\":{\"color\":\"#2a3f5f\"},\"hovermode\":\"closest\",\"hoverlabel\":{\"align\":\"left\"},\"paper_bgcolor\":\"white\",\"plot_bgcolor\":\"#E5ECF6\",\"polar\":{\"bgcolor\":\"#E5ECF6\",\"angularaxis\":{\"gridcolor\":\"white\",\"linecolor\":\"white\",\"ticks\":\"\"},\"radialaxis\":{\"gridcolor\":\"white\",\"linecolor\":\"white\",\"ticks\":\"\"}},\"ternary\":{\"bgcolor\":\"#E5ECF6\",\"aaxis\":{\"gridcolor\":\"white\",\"linecolor\":\"white\",\"ticks\":\"\"},\"baxis\":{\"gridcolor\":\"white\",\"linecolor\":\"white\",\"ticks\":\"\"},\"caxis\":{\"gridcolor\":\"white\",\"linecolor\":\"white\",\"ticks\":\"\"}},\"coloraxis\":{\"colorbar\":{\"outlinewidth\":0,\"ticks\":\"\"}},\"colorscale\":{\"sequential\":[[0.0,\"#0d0887\"],[0.1111111111111111,\"#46039f\"],[0.2222222222222222,\"#7201a8\"],[0.3333333333333333,\"#9c179e\"],[0.4444444444444444,\"#bd3786\"],[0.5555555555555556,\"#d8576b\"],[0.6666666666666666,\"#ed7953\"],[0.7777777777777778,\"#fb9f3a\"],[0.8888888888888888,\"#fdca26\"],[1.0,\"#f0f921\"]],\"sequentialminus\":[[0.0,\"#0d0887\"],[0.1111111111111111,\"#46039f\"],[0.2222222222222222,\"#7201a8\"],[0.3333333333333333,\"#9c179e\"],[0.4444444444444444,\"#bd3786\"],[0.5555555555555556,\"#d8576b\"],[0.6666666666666666,\"#ed7953\"],[0.7777777777777778,\"#fb9f3a\"],[0.8888888888888888,\"#fdca26\"],[1.0,\"#f0f921\"]],\"diverging\":[[0,\"#8e0152\"],[0.1,\"#c51b7d\"],[0.2,\"#de77ae\"],[0.3,\"#f1b6da\"],[0.4,\"#fde0ef\"],[0.5,\"#f7f7f7\"],[0.6,\"#e6f5d0\"],[0.7,\"#b8e186\"],[0.8,\"#7fbc41\"],[0.9,\"#4d9221\"],[1,\"#276419\"]]},\"xaxis\":{\"gridcolor\":\"white\",\"linecolor\":\"white\",\"ticks\":\"\",\"title\":{\"standoff\":15},\"zerolinecolor\":\"white\",\"automargin\":true,\"zerolinewidth\":2},\"yaxis\":{\"gridcolor\":\"white\",\"linecolor\":\"white\",\"ticks\":\"\",\"title\":{\"standoff\":15},\"zerolinecolor\":\"white\",\"automargin\":true,\"zerolinewidth\":2},\"scene\":{\"xaxis\":{\"backgroundcolor\":\"#E5ECF6\",\"gridcolor\":\"white\",\"linecolor\":\"white\",\"showbackground\":true,\"ticks\":\"\",\"zerolinecolor\":\"white\",\"gridwidth\":2},\"yaxis\":{\"backgroundcolor\":\"#E5ECF6\",\"gridcolor\":\"white\",\"linecolor\":\"white\",\"showbackground\":true,\"ticks\":\"\",\"zerolinecolor\":\"white\",\"gridwidth\":2},\"zaxis\":{\"backgroundcolor\":\"#E5ECF6\",\"gridcolor\":\"white\",\"linecolor\":\"white\",\"showbackground\":true,\"ticks\":\"\",\"zerolinecolor\":\"white\",\"gridwidth\":2}},\"shapedefaults\":{\"line\":{\"color\":\"#2a3f5f\"}},\"annotationdefaults\":{\"arrowcolor\":\"#2a3f5f\",\"arrowhead\":0,\"arrowwidth\":1},\"geo\":{\"bgcolor\":\"white\",\"landcolor\":\"#E5ECF6\",\"subunitcolor\":\"white\",\"showland\":true,\"showlakes\":true,\"lakecolor\":\"white\"},\"title\":{\"x\":0.05},\"mapbox\":{\"style\":\"light\"}}},\"xaxis\":{\"anchor\":\"y\",\"domain\":[0.0,1.0],\"range\":[-0.8538925224540431,0.8538925224540431]},\"yaxis\":{\"anchor\":\"x\",\"domain\":[0.55,1.0],\"showticklabels\":false,\"range\":[0,2.5]},\"xaxis2\":{\"anchor\":\"y2\",\"domain\":[0.0,1.0],\"range\":[-43.242546792769744,43.242546792769744]},\"yaxis2\":{\"anchor\":\"x2\",\"domain\":[0.0,0.45],\"showticklabels\":false,\"range\":[0,2.5]},\"annotations\":[{\"font\":{\"size\":16},\"showarrow\":false,\"text\":\"PC2 Cosine Similarity\",\"x\":0.5,\"xanchor\":\"center\",\"xref\":\"paper\",\"y\":1.0,\"yanchor\":\"bottom\",\"yref\":\"paper\"},{\"font\":{\"size\":16},\"showarrow\":false,\"text\":\"PC2 Projection\",\"x\":0.5,\"xanchor\":\"center\",\"xref\":\"paper\",\"y\":0.45,\"yanchor\":\"bottom\",\"yref\":\"paper\"},{\"bgcolor\":\"rgba(255, 255, 255, 0.9)\",\"bordercolor\":\"black\",\"borderwidth\":1,\"font\":{\"color\":\"black\",\"size\":10},\"showarrow\":false,\"text\":\"Mercurial\",\"x\":-0.653747915304146,\"xref\":\"x\",\"y\":1.45,\"yref\":\"y\"},{\"bgcolor\":\"rgba(255, 255, 255, 0.9)\",\"bordercolor\":\"black\",\"borderwidth\":1,\"font\":{\"color\":\"black\",\"size\":10},\"showarrow\":false,\"text\":\"Spontaneous\",\"x\":-0.6475504337830023,\"xref\":\"x\",\"y\":0.6,\"yref\":\"y\"},{\"bgcolor\":\"rgba(255, 255, 255, 0.9)\",\"bordercolor\":\"black\",\"borderwidth\":1,\"font\":{\"color\":\"black\",\"size\":10},\"showarrow\":false,\"text\":\"Whimsical\",\"x\":-0.6420792995064228,\"xref\":\"x\",\"y\":1.9,\"yref\":\"y\"},{\"bgcolor\":\"rgba(255, 255, 255, 0.9)\",\"bordercolor\":\"black\",\"borderwidth\":1,\"font\":{\"color\":\"black\",\"size\":10},\"showarrow\":false,\"text\":\"Manic\",\"x\":-0.5757834243001319,\"xref\":\"x\",\"y\":0.15,\"yref\":\"y\"},{\"bgcolor\":\"rgba(255, 255, 255, 0.9)\",\"bordercolor\":\"black\",\"borderwidth\":1,\"font\":{\"color\":\"black\",\"size\":10},\"showarrow\":false,\"text\":\"Edgy\",\"x\":-0.5585550339856651,\"xref\":\"x\",\"y\":1.6,\"yref\":\"y\"},{\"bgcolor\":\"rgba(255, 255, 255, 0.9)\",\"bordercolor\":\"black\",\"borderwidth\":1,\"font\":{\"color\":\"black\",\"size\":10},\"showarrow\":false,\"text\":\"Mischievous\",\"x\":-0.5451669803318538,\"xref\":\"x\",\"y\":0.45,\"yref\":\"y\"},{\"bgcolor\":\"rgba(255, 255, 255, 0.9)\",\"bordercolor\":\"black\",\"borderwidth\":1,\"font\":{\"color\":\"black\",\"size\":10},\"showarrow\":false,\"text\":\"Temperamental\",\"x\":-0.5178294173493785,\"xref\":\"x\",\"y\":1.3,\"yref\":\"y\"},{\"bgcolor\":\"rgba(255, 255, 255, 0.9)\",\"bordercolor\":\"black\",\"borderwidth\":1,\"font\":{\"color\":\"black\",\"size\":10},\"showarrow\":false,\"text\":\"Romantic\",\"x\":-0.4939091618529695,\"xref\":\"x\",\"y\":0.75,\"yref\":\"y\"},{\"bgcolor\":\"rgba(255, 255, 255, 0.9)\",\"bordercolor\":\"black\",\"borderwidth\":1,\"font\":{\"color\":\"black\",\"size\":10},\"showarrow\":false,\"text\":\"Stream of consciousness\",\"x\":-0.49326991828560734,\"xref\":\"x\",\"y\":1.75,\"yref\":\"y\"},{\"bgcolor\":\"rgba(255, 255, 255, 0.9)\",\"bordercolor\":\"black\",\"borderwidth\":1,\"font\":{\"color\":\"black\",\"size\":10},\"showarrow\":false,\"text\":\"Flirty\",\"x\":-0.4827576793613414,\"xref\":\"x\",\"y\":0.3,\"yref\":\"y\"},{\"bgcolor\":\"rgba(255, 255, 255, 0.9)\",\"bordercolor\":\"black\",\"borderwidth\":1,\"font\":{\"color\":\"black\",\"size\":10},\"showarrow\":false,\"text\":\"Quantitative\",\"x\":0.5301021379762503,\"xref\":\"x\",\"y\":1.45,\"yref\":\"y\"},{\"bgcolor\":\"rgba(255, 255, 255, 0.9)\",\"bordercolor\":\"black\",\"borderwidth\":1,\"font\":{\"color\":\"black\",\"size\":10},\"showarrow\":false,\"text\":\"Diplomatic\",\"x\":0.5333532912388452,\"xref\":\"x\",\"y\":0.6,\"yref\":\"y\"},{\"bgcolor\":\"rgba(255, 255, 255, 0.9)\",\"bordercolor\":\"black\",\"borderwidth\":1,\"font\":{\"color\":\"black\",\"size\":10},\"showarrow\":false,\"text\":\"Moderate\",\"x\":0.5336289132351821,\"xref\":\"x\",\"y\":1.9,\"yref\":\"y\"},{\"bgcolor\":\"rgba(255, 255, 255, 0.9)\",\"bordercolor\":\"black\",\"borderwidth\":1,\"font\":{\"color\":\"black\",\"size\":10},\"showarrow\":false,\"text\":\"Formal\",\"x\":0.5346015378560017,\"xref\":\"x\",\"y\":0.15,\"yref\":\"y\"},{\"bgcolor\":\"rgba(255, 255, 255, 0.9)\",\"bordercolor\":\"black\",\"borderwidth\":1,\"font\":{\"color\":\"black\",\"size\":10},\"showarrow\":false,\"text\":\"Solemn\",\"x\":0.5596256534250693,\"xref\":\"x\",\"y\":1.6,\"yref\":\"y\"},{\"bgcolor\":\"rgba(255, 255, 255, 0.9)\",\"bordercolor\":\"black\",\"borderwidth\":1,\"font\":{\"color\":\"black\",\"size\":10},\"showarrow\":false,\"text\":\"Rationalist\",\"x\":0.5816956365886586,\"xref\":\"x\",\"y\":0.45,\"yref\":\"y\"},{\"bgcolor\":\"rgba(255, 255, 255, 0.9)\",\"bordercolor\":\"black\",\"borderwidth\":1,\"font\":{\"color\":\"black\",\"size\":10},\"showarrow\":false,\"text\":\"Data driven\",\"x\":0.623384739896098,\"xref\":\"x\",\"y\":1.3,\"yref\":\"y\"},{\"bgcolor\":\"rgba(255, 255, 255, 0.9)\",\"bordercolor\":\"black\",\"borderwidth\":1,\"font\":{\"color\":\"black\",\"size\":10},\"showarrow\":false,\"text\":\"Calm\",\"x\":0.6317723421873132,\"xref\":\"x\",\"y\":0.75,\"yref\":\"y\"},{\"bgcolor\":\"rgba(255, 255, 255, 0.9)\",\"bordercolor\":\"black\",\"borderwidth\":1,\"font\":{\"color\":\"black\",\"size\":10},\"showarrow\":false,\"text\":\"Factual\",\"x\":0.7520153524134868,\"xref\":\"x\",\"y\":1.75,\"yref\":\"y\"},{\"bgcolor\":\"rgba(255, 255, 255, 0.9)\",\"bordercolor\":\"black\",\"borderwidth\":1,\"font\":{\"color\":\"black\",\"size\":10},\"showarrow\":false,\"text\":\"Methodical\",\"x\":0.7762659295036755,\"xref\":\"x\",\"y\":0.3,\"yref\":\"y\"},{\"bgcolor\":\"rgba(255, 255, 255, 0.9)\",\"bordercolor\":\"red\",\"borderwidth\":1,\"font\":{\"color\":\"red\",\"size\":14},\"showarrow\":false,\"text\":\"Assistant\",\"x\":0.19859610260674795,\"xref\":\"x\",\"y\":2,\"yref\":\"y\"},{\"bgcolor\":\"rgba(255, 255, 255, 0.9)\",\"bordercolor\":\"black\",\"borderwidth\":1,\"font\":{\"color\":\"black\",\"size\":10},\"showarrow\":false,\"text\":\"Manic\",\"x\":-36.49057549287295,\"xref\":\"x2\",\"y\":1.45,\"yref\":\"y2\"},{\"bgcolor\":\"rgba(255, 255, 255, 0.9)\",\"bordercolor\":\"black\",\"borderwidth\":1,\"font\":{\"color\":\"black\",\"size\":10},\"showarrow\":false,\"text\":\"Temperamental\",\"x\":-33.908977232850894,\"xref\":\"x2\",\"y\":0.6,\"yref\":\"y2\"},{\"bgcolor\":\"rgba(255, 255, 255, 0.9)\",\"bordercolor\":\"black\",\"borderwidth\":1,\"font\":{\"color\":\"black\",\"size\":10},\"showarrow\":false,\"text\":\"Disorganized\",\"x\":-32.62192958674284,\"xref\":\"x2\",\"y\":1.9,\"yref\":\"y2\"},{\"bgcolor\":\"rgba(255, 255, 255, 0.9)\",\"bordercolor\":\"black\",\"borderwidth\":1,\"font\":{\"color\":\"black\",\"size\":10},\"showarrow\":false,\"text\":\"Mercurial\",\"x\":-32.53248779410619,\"xref\":\"x2\",\"y\":0.15,\"yref\":\"y2\"},{\"bgcolor\":\"rgba(255, 255, 255, 0.9)\",\"bordercolor\":\"black\",\"borderwidth\":1,\"font\":{\"color\":\"black\",\"size\":10},\"showarrow\":false,\"text\":\"Romantic\",\"x\":-32.03140270235088,\"xref\":\"x2\",\"y\":1.6,\"yref\":\"y2\"},{\"bgcolor\":\"rgba(255, 255, 255, 0.9)\",\"bordercolor\":\"black\",\"borderwidth\":1,\"font\":{\"color\":\"black\",\"size\":10},\"showarrow\":false,\"text\":\"Melodramatic\",\"x\":-31.36848650277078,\"xref\":\"x2\",\"y\":0.45,\"yref\":\"y2\"},{\"bgcolor\":\"rgba(255, 255, 255, 0.9)\",\"bordercolor\":\"black\",\"borderwidth\":1,\"font\":{\"color\":\"black\",\"size\":10},\"showarrow\":false,\"text\":\"Whimsical\",\"x\":-31.080207777757415,\"xref\":\"x2\",\"y\":1.3,\"yref\":\"y2\"},{\"bgcolor\":\"rgba(255, 255, 255, 0.9)\",\"bordercolor\":\"black\",\"borderwidth\":1,\"font\":{\"color\":\"black\",\"size\":10},\"showarrow\":false,\"text\":\"Spontaneous\",\"x\":-27.980327467632478,\"xref\":\"x2\",\"y\":0.75,\"yref\":\"y2\"},{\"bgcolor\":\"rgba(255, 255, 255, 0.9)\",\"bordercolor\":\"black\",\"borderwidth\":1,\"font\":{\"color\":\"black\",\"size\":10},\"showarrow\":false,\"text\":\"Goofy\",\"x\":-27.457631023254063,\"xref\":\"x2\",\"y\":1.75,\"yref\":\"y2\"},{\"bgcolor\":\"rgba(255, 255, 255, 0.9)\",\"bordercolor\":\"black\",\"borderwidth\":1,\"font\":{\"color\":\"black\",\"size\":10},\"showarrow\":false,\"text\":\"Flirty\",\"x\":-27.203843834016478,\"xref\":\"x2\",\"y\":0.3,\"yref\":\"y2\"},{\"bgcolor\":\"rgba(255, 255, 255, 0.9)\",\"bordercolor\":\"black\",\"borderwidth\":1,\"font\":{\"color\":\"black\",\"size\":10},\"showarrow\":false,\"text\":\"Descriptive\",\"x\":27.55905996002234,\"xref\":\"x2\",\"y\":1.45,\"yref\":\"y2\"},{\"bgcolor\":\"rgba(255, 255, 255, 0.9)\",\"bordercolor\":\"black\",\"borderwidth\":1,\"font\":{\"color\":\"black\",\"size\":10},\"showarrow\":false,\"text\":\"Rationalist\",\"x\":29.488247917777773,\"xref\":\"x2\",\"y\":0.6,\"yref\":\"y2\"},{\"bgcolor\":\"rgba(255, 255, 255, 0.9)\",\"bordercolor\":\"black\",\"borderwidth\":1,\"font\":{\"color\":\"black\",\"size\":10},\"showarrow\":false,\"text\":\"Quantitative\",\"x\":30.24535172999705,\"xref\":\"x2\",\"y\":1.9,\"yref\":\"y2\"},{\"bgcolor\":\"rgba(255, 255, 255, 0.9)\",\"bordercolor\":\"black\",\"borderwidth\":1,\"font\":{\"color\":\"black\",\"size\":10},\"showarrow\":false,\"text\":\"Serious\",\"x\":32.05055937769082,\"xref\":\"x2\",\"y\":0.15,\"yref\":\"y2\"},{\"bgcolor\":\"rgba(255, 255, 255, 0.9)\",\"bordercolor\":\"black\",\"borderwidth\":1,\"font\":{\"color\":\"black\",\"size\":10},\"showarrow\":false,\"text\":\"Reserved\",\"x\":33.7697421320209,\"xref\":\"x2\",\"y\":1.6,\"yref\":\"y2\"},{\"bgcolor\":\"rgba(255, 255, 255, 0.9)\",\"bordercolor\":\"black\",\"borderwidth\":1,\"font\":{\"color\":\"black\",\"size\":10},\"showarrow\":false,\"text\":\"Data driven\",\"x\":35.19105592684501,\"xref\":\"x2\",\"y\":0.45,\"yref\":\"y2\"},{\"bgcolor\":\"rgba(255, 255, 255, 0.9)\",\"bordercolor\":\"black\",\"borderwidth\":1,\"font\":{\"color\":\"black\",\"size\":10},\"showarrow\":false,\"text\":\"Factual\",\"x\":35.969325976092534,\"xref\":\"x2\",\"y\":1.3,\"yref\":\"y2\"},{\"bgcolor\":\"rgba(255, 255, 255, 0.9)\",\"bordercolor\":\"black\",\"borderwidth\":1,\"font\":{\"color\":\"black\",\"size\":10},\"showarrow\":false,\"text\":\"Dispassionate\",\"x\":36.12486411359998,\"xref\":\"x2\",\"y\":0.75,\"yref\":\"y2\"},{\"bgcolor\":\"rgba(255, 255, 255, 0.9)\",\"bordercolor\":\"black\",\"borderwidth\":1,\"font\":{\"color\":\"black\",\"size\":10},\"showarrow\":false,\"text\":\"Calm\",\"x\":37.70023077493187,\"xref\":\"x2\",\"y\":1.75,\"yref\":\"y2\"},{\"bgcolor\":\"rgba(255, 255, 255, 0.9)\",\"bordercolor\":\"black\",\"borderwidth\":1,\"font\":{\"color\":\"black\",\"size\":10},\"showarrow\":false,\"text\":\"Methodical\",\"x\":39.31140617524522,\"xref\":\"x2\",\"y\":0.3,\"yref\":\"y2\"},{\"bgcolor\":\"rgba(255, 255, 255, 0.9)\",\"bordercolor\":\"red\",\"borderwidth\":1,\"font\":{\"color\":\"red\",\"size\":14},\"showarrow\":false,\"text\":\"Assistant\",\"x\":11.498903971086948,\"xref\":\"x2\",\"y\":2,\"yref\":\"y2\"}],\"shapes\":[{\"line\":{\"color\":\"gray\",\"dash\":\"solid\",\"width\":1},\"opacity\":0.7,\"type\":\"line\",\"x0\":0,\"x1\":0,\"xref\":\"x\",\"y0\":0,\"y1\":1,\"yref\":\"y domain\"},{\"line\":{\"color\":\"red\",\"dash\":\"dash\",\"width\":1},\"opacity\":1.0,\"type\":\"line\",\"x0\":0.19859610260674795,\"x1\":0.19859610260674795,\"xref\":\"x\",\"y0\":0,\"y1\":1,\"yref\":\"y domain\"},{\"line\":{\"color\":\"gray\",\"dash\":\"solid\",\"width\":1},\"opacity\":0.7,\"type\":\"line\",\"x0\":0,\"x1\":0,\"xref\":\"x2\",\"y0\":0,\"y1\":1,\"yref\":\"y2 domain\"},{\"line\":{\"color\":\"red\",\"dash\":\"dash\",\"width\":1},\"opacity\":1.0,\"type\":\"line\",\"x0\":11.498903971086948,\"x1\":11.498903971086948,\"xref\":\"x2\",\"y0\":0,\"y1\":1,\"yref\":\"y2 domain\"}],\"title\":{\"subtitle\":{\"text\":\"Gemma 3 27B, Layer 32 - Shared Question Set, Mean-Centered and Scaled Vectors\"},\"font\":{\"size\":16},\"text\":\"PCA on Trait Vectors\",\"x\":0.5},\"height\":800,\"width\":1200,\"showlegend\":false},                        {\"responsive\": true}                    ).then(function(){\n",
       "                            \n",
       "var gd = document.getElementById('a86356c5-f73e-4a26-a596-3b01839cb0cf');\n",
       "var x = new MutationObserver(function (mutations, observer) {{\n",
       "        var display = window.getComputedStyle(gd).display;\n",
       "        if (!display || display === 'none') {{\n",
       "            console.log([gd, 'removed!']);\n",
       "            Plotly.purge(gd);\n",
       "            observer.disconnect();\n",
       "        }}\n",
       "}});\n",
       "\n",
       "// Listen for the removal of the full notebook cells\n",
       "var notebookContainer = gd.closest('#notebook-container');\n",
       "if (notebookContainer) {{\n",
       "    x.observe(notebookContainer, {childList: true});\n",
       "}}\n",
       "\n",
       "// Listen for the clearing of the current output cell\n",
       "var outputEl = gd.closest('.output');\n",
       "if (outputEl) {{\n",
       "    x.observe(outputEl, {childList: true});\n",
       "}}\n",
       "\n",
       "                        })                };                });            </script>        </div>"
      ]
     },
     "metadata": {},
     "output_type": "display_data"
    },
    {
     "data": {
      "application/vnd.plotly.v1+json": {
       "config": {
        "plotlyServerURL": "https://plot.ly"
       },
       "data": [
        {
         "hovertemplate": "<b>%{text}</b><br>Cosine Similarity: %{x:.3f}<extra></extra>",
         "marker": {
          "color": "limegreen",
          "line": {
           "color": "black",
           "width": 1
          },
          "opacity": 1,
          "size": 8,
          "symbol": "diamond"
         },
         "mode": "markers",
         "showlegend": false,
         "text": [
          "Zealous",
          "Wry",
          "Witty",
          "Whimsical",
          "Visceral",
          "Vindictive",
          "Verbose",
          "Utilitarian",
          "Urgent",
          "Universalist",
          "Understated",
          "Transparent",
          "Traditional",
          "Theoretical",
          "Theatrical",
          "Temperamental",
          "Tactful",
          "Systems thinker",
          "Sycophantic",
          "Supportive",
          "Subversive",
          "Submissive",
          "Structuralist",
          "Stream of consciousness",
          "Strategic",
          "Stoic",
          "Spontaneous",
          "Spiritual",
          "Speculative",
          "Specialized",
          "Solemn",
          "Socratic",
          "Skeptical",
          "Serious",
          "Serene",
          "Secular",
          "Savage",
          "Sassy",
          "Sardonic",
          "Sarcastic",
          "Romantic",
          "Ritualistic",
          "Risk taking",
          "Rhetorical",
          "Reverent",
          "Resilient",
          "Reserved",
          "Relativist",
          "Regulatory",
          "Reductionist",
          "Rebellious",
          "Reactive",
          "Radical",
          "Quantitative",
          "Qualitative",
          "Provocative",
          "Progressive",
          "Problem solving",
          "Proactive",
          "Principled",
          "Practical",
          "Poetic",
          "Pluralist",
          "Playful",
          "Philosophical",
          "Petty",
          "Pessimistic",
          "Perfectionist",
          "Pensive",
          "Pedantic",
          "Patient",
          "Passive aggressive",
          "Passionate",
          "Paranoid",
          "Paradoxical",
          "Pacifist",
          "Obsessive",
          "Nurturing",
          "Nostalgic",
          "Nonchalant",
          "Nihilistic",
          "Neurotic",
          "Narrative",
          "Naive",
          "Mystical",
          "Moderate",
          "Mischievous",
          "Misanthropic",
          "Meticulous",
          "Methodical",
          "Metaphorical",
          "Mercurial",
          "Melodramatic",
          "Melancholic",
          "Meditative",
          "Materialist",
          "Manipulative",
          "Manic",
          "Literal",
          "Libertarian",
          "Judgmental",
          "Irreverent",
          "Ironic",
          "Introverted",
          "Introspective",
          "Interdisciplinary",
          "Inspirational",
          "Inquisitive",
          "Innovative",
          "Individualistic",
          "Independent",
          "Inclusive",
          "Impulsive",
          "Improvisational",
          "Impatient",
          "Idealistic",
          "Humble",
          "Hostile",
          "Holistic",
          "Historical",
          "Hedonistic",
          "Grounded",
          "Gregarious",
          "Goofy",
          "Generous",
          "Generalist",
          "Futuristic",
          "Fundamentalist",
          "Formalist",
          "Formal",
          "Flirty",
          "Flippant",
          "Flexible",
          "Fatalistic",
          "Factual",
          "Extroverted",
          "Exploratory",
          "Experiential",
          "Existentialist",
          "Evil",
          "Ethereal",
          "Essentialist",
          "Esoteric",
          "Erudite",
          "Epicurean",
          "Environmental",
          "Entertaining",
          "Enigmatic",
          "Empathetic",
          "Emotional",
          "Eloquent",
          "Elitist",
          "Egalitarian",
          "Effusive",
          "Efficient",
          "Educational",
          "Eclectic",
          "Earnest",
          "Dramatic",
          "Dominant",
          "Dogmatic",
          "Divergent",
          "Dispassionate",
          "Disorganized",
          "Deterministic",
          "Detached",
          "Descriptive",
          "Deontological",
          "Deferential",
          "Deconstructionist",
          "Decisive",
          "Data driven",
          "Curious",
          "Cryptic",
          "Cruel",
          "Critical",
          "Creative",
          "Cosmopolitan",
          "Convergent",
          "Contrarian",
          "Contemporary",
          "Constructivist",
          "Conscientious",
          "Confident",
          "Condescending",
          "Concise",
          "Conceptual",
          "Collectivistic",
          "Collaborative",
          "Closure seeking",
          "Circumspect",
          "Charismatic",
          "Chaotic",
          "Challenging",
          "Cautious",
          "Casual",
          "Calm",
          "Callous",
          "Calculating",
          "Bombastic",
          "Blunt",
          "Bitter",
          "Big picture",
          "Avoidant",
          "Assertive",
          "Ascetic",
          "Artistic",
          "Arrogant",
          "Anxious",
          "Anthropocentric",
          "Animated",
          "Analytical",
          "Agreeable",
          "Adventurous",
          "Adaptable",
          "Acerbic",
          "Accommodating",
          "Accessible",
          "Abstract",
          "Absolutist"
         ],
         "type": "scatter",
         "x": [
          0.15342882690670476,
          0.39142525007520734,
          0.021565140959107557,
          -0.28858917437975756,
          -0.07968789942876983,
          0.43248484784408303,
          0.06691139458726114,
          0.19211387223794052,
          0.38651303445657015,
          0.16587427602584257,
          -0.12885609561198616,
          0.08398835301095926,
          -0.14041539508457757,
          0.028599137229149647,
          0.12437528176078262,
          0.1169407533940418,
          -0.49869881691046775,
          -0.17530697845518575,
          -0.11212083847069752,
          -0.11180464688954952,
          -0.08832128256989148,
          -0.14654564232205616,
          0.28734584022663656,
          -0.24180149296989714,
          0.07506224596924187,
          0.105700695259065,
          -0.2936255978642861,
          -0.42368053817968954,
          -0.14027420274353924,
          0.3234282255194825,
          0.10312727753222545,
          -0.2072990840755797,
          0.15885463359280833,
          0.22361263711006102,
          -0.4560064893099247,
          0.20446658602751017,
          0.19795573083068238,
          0.39523183960102154,
          0.23212393317419697,
          0.13108259087658158,
          -0.44310536230286,
          0.26508185552884367,
          -0.07200085373650802,
          0.04702692967383539,
          -0.19521220999905547,
          -0.15091625657670021,
          -0.018636509152068676,
          -0.042088554118983997,
          0.07619803867219885,
          0.16974549132345848,
          -0.028987611966714948,
          -0.13611808829495972,
          0.23148583333384296,
          0.4353272135333596,
          -0.4959008575259186,
          0.22187676883224397,
          -0.027527182819101857,
          0.1407811883916132,
          0.07205151344507003,
          -0.16691086608068167,
          -0.08275261407039257,
          -0.06125758567681663,
          -0.43016674327778665,
          -0.30096445433600577,
          0.01537361798508267,
          0.23386459025815612,
          0.23697912697233692,
          0.22801719178039234,
          0.01958634805818171,
          0.38387801916537684,
          -0.21226531880043426,
          -0.030480871201821528,
          0.0793711981915188,
          0.34947991966845765,
          -0.30268598809047276,
          -0.19840109506637216,
          0.2775701694259936,
          -0.23553068038937483,
          -0.22697228441801715,
          -0.007638705567775061,
          0.30062495107340786,
          0.043188411445688156,
          -0.10456795086238341,
          -0.20966630026098396,
          -0.4512123810813394,
          -0.48378628949302277,
          -0.018280591205388143,
          0.3623407614199266,
          0.15988815802409445,
          0.23013771335537458,
          -0.04184709312416467,
          0.04124532851865743,
          0.130596871651398,
          0.304694713813147,
          -0.1872330982371324,
          0.35799251157936757,
          0.17246929674243427,
          0.0811790404474481,
          -0.028701411203661206,
          0.11379174270457491,
          0.40089538941241154,
          -0.04522317983203949,
          0.12079952676470962,
          0.13645161597792183,
          0.044555992973770456,
          -0.2540160571963964,
          -0.39332362700300705,
          -0.05929466195688447,
          0.030389440965080425,
          0.18338887578780158,
          -0.018726792228847055,
          -0.1556040501838884,
          -0.09524332530610558,
          -0.33260477694528456,
          -0.005227086428650332,
          -0.1620767204492464,
          -0.2937173540360091,
          0.1524522996930145,
          -0.08288734523558179,
          0.08574492918639172,
          -0.10292064360037052,
          0.07470529277693572,
          -0.2393329263784489,
          -0.10384428335701369,
          -0.15909499382670256,
          -0.42944735888343033,
          -0.04795831389000526,
          0.04377366389760731,
          0.3884017127603469,
          0.20991611053994155,
          -0.18333230396383757,
          -0.06049592631480158,
          -0.3074634607290746,
          0.018178123993066696,
          -0.15798305227158832,
          -0.2257348054276884,
          -0.01999472504208338,
          -0.2321729935287787,
          -0.19703521933515583,
          0.32126273563851654,
          -0.31130573117936344,
          0.1563797728114261,
          0.3650804801033063,
          0.1734019568369639,
          0.04177851941350062,
          -0.32690067527829453,
          -0.17734106410086584,
          -0.1588673689977722,
          -0.2373478549920415,
          -0.28890578403246936,
          0.047290251213141093,
          0.38195975286203676,
          -0.23234436656387863,
          -0.010190123888341207,
          -0.08911665519420701,
          0.011503866308970073,
          -0.08436368629452828,
          -0.1094950476982412,
          0.11098882676043384,
          0.3194408474020141,
          0.06238387772283153,
          0.04893058927094541,
          0.1686177617894,
          -0.08096866431905039,
          0.2790344926545901,
          0.3134455767971958,
          -0.051660923379674595,
          -0.040478202709059795,
          -0.38584338762576953,
          0.1115444957870448,
          0.11740524477228789,
          0.37264242680319076,
          -0.09034249808652167,
          -0.06722044195675334,
          0.21008851827224678,
          0.16803136857437873,
          0.0007605481405746109,
          -0.25135141467216826,
          0.13126468959510906,
          0.25548241722127246,
          -0.11387082914719886,
          -0.38682762429537104,
          0.06399708005956305,
          0.0608149470773048,
          0.18094391781292563,
          -0.08394285175947896,
          -0.10267579515602962,
          -0.3807661059175175,
          -0.3710035762923362,
          0.09326619617874335,
          -0.08219311379963164,
          -0.03216288627652369,
          -0.22341275530361573,
          0.1670238020425407,
          0.019995224988354363,
          -0.49234459017846105,
          -0.38402980801185643,
          0.11302802566066933,
          0.1059213466226106,
          0.3004035334478986,
          0.23097368392056317,
          0.30807262981293476,
          -0.09880774143273464,
          -0.07520064400740298,
          0.3059493293247612,
          -0.07646738579483381,
          -0.308596129385536,
          0.24074358762673664,
          0.10716198899139809,
          0.1346924846632545,
          -0.10024995996679262,
          0.17274319004131428,
          -0.2567210338042485,
          -0.09954000130049578,
          -0.014175953284726565,
          0.32115872837126175,
          -0.4860640036952389,
          -0.43553043404872543,
          -0.14272351931869556,
          0.2826609221034206
         ],
         "xaxis": "x",
         "y": [
          1,
          1,
          1,
          1,
          1,
          1,
          1,
          1,
          1,
          1,
          1,
          1,
          1,
          1,
          1,
          1,
          1,
          1,
          1,
          1,
          1,
          1,
          1,
          1,
          1,
          1,
          1,
          1,
          1,
          1,
          1,
          1,
          1,
          1,
          1,
          1,
          1,
          1,
          1,
          1,
          1,
          1,
          1,
          1,
          1,
          1,
          1,
          1,
          1,
          1,
          1,
          1,
          1,
          1,
          1,
          1,
          1,
          1,
          1,
          1,
          1,
          1,
          1,
          1,
          1,
          1,
          1,
          1,
          1,
          1,
          1,
          1,
          1,
          1,
          1,
          1,
          1,
          1,
          1,
          1,
          1,
          1,
          1,
          1,
          1,
          1,
          1,
          1,
          1,
          1,
          1,
          1,
          1,
          1,
          1,
          1,
          1,
          1,
          1,
          1,
          1,
          1,
          1,
          1,
          1,
          1,
          1,
          1,
          1,
          1,
          1,
          1,
          1,
          1,
          1,
          1,
          1,
          1,
          1,
          1,
          1,
          1,
          1,
          1,
          1,
          1,
          1,
          1,
          1,
          1,
          1,
          1,
          1,
          1,
          1,
          1,
          1,
          1,
          1,
          1,
          1,
          1,
          1,
          1,
          1,
          1,
          1,
          1,
          1,
          1,
          1,
          1,
          1,
          1,
          1,
          1,
          1,
          1,
          1,
          1,
          1,
          1,
          1,
          1,
          1,
          1,
          1,
          1,
          1,
          1,
          1,
          1,
          1,
          1,
          1,
          1,
          1,
          1,
          1,
          1,
          1,
          1,
          1,
          1,
          1,
          1,
          1,
          1,
          1,
          1,
          1,
          1,
          1,
          1,
          1,
          1,
          1,
          1,
          1,
          1,
          1,
          1,
          1,
          1,
          1,
          1,
          1,
          1,
          1,
          1,
          1,
          1,
          1,
          1,
          1,
          1,
          1,
          1,
          1,
          1
         ],
         "yaxis": "y"
        },
        {
         "hovertemplate": "<b>%{text}</b><br>Cosine Similarity: %{x:.3f}<extra></extra>",
         "marker": {
          "color": "limegreen",
          "line": {
           "color": "black",
           "width": 1
          },
          "opacity": 1,
          "size": 8,
          "symbol": "diamond"
         },
         "mode": "markers",
         "showlegend": false,
         "text": [
          "Technical",
          "Rationalist",
          "Prescriptive",
          "Optimistic",
          "Open ended",
          "Militant",
          "Intuitive",
          "Iconoclastic",
          "Humanistic",
          "Grandiose",
          "Forgiving",
          "Edgy",
          "Diplomatic",
          "Cynical",
          "Confrontational",
          "Conciliatory",
          "Competitive",
          "Chill",
          "Benevolent",
          "Altruistic"
         ],
         "type": "scatter",
         "x": [
          0.5043779053360472,
          0.4626313638939814,
          0.6185858755324427,
          -0.5666259490201292,
          -0.6460916717546443,
          0.5579205716767852,
          -0.5051766763441801,
          0.4402439429998509,
          -0.5895922827973763,
          0.44856107589045224,
          -0.6743542049741503,
          0.5019810041990933,
          -0.5202061759232404,
          0.4496984879279962,
          0.6488617189455282,
          -0.5755960482183766,
          0.4870342971339571,
          -0.5790853962374931,
          -0.7093237482514152,
          -0.5717236597935368
         ],
         "xaxis": "x",
         "y": [
          1,
          1,
          1,
          1,
          1,
          1,
          1,
          1,
          1,
          1,
          1,
          1,
          1,
          1,
          1,
          1,
          1,
          1,
          1,
          1
         ],
         "yaxis": "y"
        },
        {
         "hoverinfo": "skip",
         "line": {
          "color": "black",
          "width": 1
         },
         "mode": "lines",
         "showlegend": false,
         "type": "scatter",
         "x": [
          -0.7093237482514152,
          -0.7093237482514152
         ],
         "xaxis": "x",
         "y": [
          1,
          1.45
         ],
         "yaxis": "y"
        },
        {
         "hoverinfo": "skip",
         "line": {
          "color": "black",
          "width": 1
         },
         "mode": "lines",
         "showlegend": false,
         "type": "scatter",
         "x": [
          -0.6743542049741503,
          -0.6743542049741503
         ],
         "xaxis": "x",
         "y": [
          1,
          0.6
         ],
         "yaxis": "y"
        },
        {
         "hoverinfo": "skip",
         "line": {
          "color": "black",
          "width": 1
         },
         "mode": "lines",
         "showlegend": false,
         "type": "scatter",
         "x": [
          -0.6460916717546443,
          -0.6460916717546443
         ],
         "xaxis": "x",
         "y": [
          1,
          1.9
         ],
         "yaxis": "y"
        },
        {
         "hoverinfo": "skip",
         "line": {
          "color": "black",
          "width": 1
         },
         "mode": "lines",
         "showlegend": false,
         "type": "scatter",
         "x": [
          -0.5895922827973763,
          -0.5895922827973763
         ],
         "xaxis": "x",
         "y": [
          1,
          0.15
         ],
         "yaxis": "y"
        },
        {
         "hoverinfo": "skip",
         "line": {
          "color": "black",
          "width": 1
         },
         "mode": "lines",
         "showlegend": false,
         "type": "scatter",
         "x": [
          -0.5790853962374931,
          -0.5790853962374931
         ],
         "xaxis": "x",
         "y": [
          1,
          1.6
         ],
         "yaxis": "y"
        },
        {
         "hoverinfo": "skip",
         "line": {
          "color": "black",
          "width": 1
         },
         "mode": "lines",
         "showlegend": false,
         "type": "scatter",
         "x": [
          -0.5755960482183766,
          -0.5755960482183766
         ],
         "xaxis": "x",
         "y": [
          1,
          0.45
         ],
         "yaxis": "y"
        },
        {
         "hoverinfo": "skip",
         "line": {
          "color": "black",
          "width": 1
         },
         "mode": "lines",
         "showlegend": false,
         "type": "scatter",
         "x": [
          -0.5717236597935368,
          -0.5717236597935368
         ],
         "xaxis": "x",
         "y": [
          1,
          1.3
         ],
         "yaxis": "y"
        },
        {
         "hoverinfo": "skip",
         "line": {
          "color": "black",
          "width": 1
         },
         "mode": "lines",
         "showlegend": false,
         "type": "scatter",
         "x": [
          -0.5666259490201292,
          -0.5666259490201292
         ],
         "xaxis": "x",
         "y": [
          1,
          0.75
         ],
         "yaxis": "y"
        },
        {
         "hoverinfo": "skip",
         "line": {
          "color": "black",
          "width": 1
         },
         "mode": "lines",
         "showlegend": false,
         "type": "scatter",
         "x": [
          -0.5202061759232404,
          -0.5202061759232404
         ],
         "xaxis": "x",
         "y": [
          1,
          1.75
         ],
         "yaxis": "y"
        },
        {
         "hoverinfo": "skip",
         "line": {
          "color": "black",
          "width": 1
         },
         "mode": "lines",
         "showlegend": false,
         "type": "scatter",
         "x": [
          -0.5051766763441801,
          -0.5051766763441801
         ],
         "xaxis": "x",
         "y": [
          1,
          0.3
         ],
         "yaxis": "y"
        },
        {
         "hoverinfo": "skip",
         "line": {
          "color": "black",
          "width": 1
         },
         "mode": "lines",
         "showlegend": false,
         "type": "scatter",
         "x": [
          0.4402439429998509,
          0.4402439429998509
         ],
         "xaxis": "x",
         "y": [
          1,
          1.45
         ],
         "yaxis": "y"
        },
        {
         "hoverinfo": "skip",
         "line": {
          "color": "black",
          "width": 1
         },
         "mode": "lines",
         "showlegend": false,
         "type": "scatter",
         "x": [
          0.44856107589045224,
          0.44856107589045224
         ],
         "xaxis": "x",
         "y": [
          1,
          0.6
         ],
         "yaxis": "y"
        },
        {
         "hoverinfo": "skip",
         "line": {
          "color": "black",
          "width": 1
         },
         "mode": "lines",
         "showlegend": false,
         "type": "scatter",
         "x": [
          0.4496984879279962,
          0.4496984879279962
         ],
         "xaxis": "x",
         "y": [
          1,
          1.9
         ],
         "yaxis": "y"
        },
        {
         "hoverinfo": "skip",
         "line": {
          "color": "black",
          "width": 1
         },
         "mode": "lines",
         "showlegend": false,
         "type": "scatter",
         "x": [
          0.4626313638939814,
          0.4626313638939814
         ],
         "xaxis": "x",
         "y": [
          1,
          0.15
         ],
         "yaxis": "y"
        },
        {
         "hoverinfo": "skip",
         "line": {
          "color": "black",
          "width": 1
         },
         "mode": "lines",
         "showlegend": false,
         "type": "scatter",
         "x": [
          0.4870342971339571,
          0.4870342971339571
         ],
         "xaxis": "x",
         "y": [
          1,
          1.6
         ],
         "yaxis": "y"
        },
        {
         "hoverinfo": "skip",
         "line": {
          "color": "black",
          "width": 1
         },
         "mode": "lines",
         "showlegend": false,
         "type": "scatter",
         "x": [
          0.5019810041990933,
          0.5019810041990933
         ],
         "xaxis": "x",
         "y": [
          1,
          0.45
         ],
         "yaxis": "y"
        },
        {
         "hoverinfo": "skip",
         "line": {
          "color": "black",
          "width": 1
         },
         "mode": "lines",
         "showlegend": false,
         "type": "scatter",
         "x": [
          0.5043779053360472,
          0.5043779053360472
         ],
         "xaxis": "x",
         "y": [
          1,
          1.3
         ],
         "yaxis": "y"
        },
        {
         "hoverinfo": "skip",
         "line": {
          "color": "black",
          "width": 1
         },
         "mode": "lines",
         "showlegend": false,
         "type": "scatter",
         "x": [
          0.5579205716767852,
          0.5579205716767852
         ],
         "xaxis": "x",
         "y": [
          1,
          0.75
         ],
         "yaxis": "y"
        },
        {
         "hoverinfo": "skip",
         "line": {
          "color": "black",
          "width": 1
         },
         "mode": "lines",
         "showlegend": false,
         "type": "scatter",
         "x": [
          0.6185858755324427,
          0.6185858755324427
         ],
         "xaxis": "x",
         "y": [
          1,
          1.75
         ],
         "yaxis": "y"
        },
        {
         "hoverinfo": "skip",
         "line": {
          "color": "black",
          "width": 1
         },
         "mode": "lines",
         "showlegend": false,
         "type": "scatter",
         "x": [
          0.6488617189455282,
          0.6488617189455282
         ],
         "xaxis": "x",
         "y": [
          1,
          0.3
         ],
         "yaxis": "y"
        },
        {
         "hoverinfo": "skip",
         "marker": {
          "color": "limegreen"
         },
         "opacity": 0.7,
         "showlegend": false,
         "type": "bar",
         "width": 0.03621827912525184,
         "x": [
          -0.6866873237981328,
          -0.641414474891568,
          -0.5961416259850032,
          -0.5508687770784384,
          -0.5055959281718736,
          -0.4603230792653089,
          -0.4150502303587441,
          -0.3697773814521793,
          -0.3245045325456145,
          -0.2792316836390497,
          -0.23395883473248494,
          -0.1886859858259202,
          -0.14341313691935542,
          -0.09814028801279062,
          -0.05286743910622582,
          -0.007594590199661022,
          0.03767825870690378,
          0.08295110761346858,
          0.12822395652003338,
          0.17349680542659818,
          0.21876965433316292,
          0.26404250323972767,
          0.3093153521462925,
          0.35458820105285727,
          0.39986104995942195,
          0.44513389886598675,
          0.49040674777255155,
          0.5356795966791164,
          0.5809524455856812,
          0.626225294492246
         ],
         "xaxis": "x",
         "y": [
          0.0782608695652174,
          0.0391304347826087,
          0.11739130434782609,
          0.0782608695652174,
          0.2739130434782609,
          0.11739130434782609,
          0.1956521739130435,
          0.1956521739130435,
          0.23478260869565218,
          0.23478260869565218,
          0.46956521739130436,
          0.391304347826087,
          0.46956521739130436,
          0.9,
          0.5478260869565218,
          0.508695652173913,
          0.5869565217391305,
          0.5478260869565218,
          0.6652173913043478,
          0.6260869565217392,
          0.5478260869565218,
          0.1956521739130435,
          0.43043478260869567,
          0.1956521739130435,
          0.2739130434782609,
          0.23478260869565218,
          0.11739130434782609,
          0.0391304347826087,
          0,
          0.0782608695652174
         ],
         "yaxis": "y"
        },
        {
         "hovertemplate": "<b>%{text}</b><br>PC Projection: %{x:.3f}<extra></extra>",
         "marker": {
          "color": "limegreen",
          "line": {
           "color": "black",
           "width": 1
          },
          "opacity": 1,
          "size": 8,
          "symbol": "diamond"
         },
         "mode": "markers",
         "showlegend": false,
         "text": [
          "Zealous",
          "Wry",
          "Witty",
          "Whimsical",
          "Visceral",
          "Vindictive",
          "Verbose",
          "Utilitarian",
          "Urgent",
          "Universalist",
          "Understated",
          "Transparent",
          "Traditional",
          "Theoretical",
          "Theatrical",
          "Temperamental",
          "Tactful",
          "Systems thinker",
          "Sycophantic",
          "Supportive",
          "Subversive",
          "Submissive",
          "Structuralist",
          "Stream of consciousness",
          "Strategic",
          "Stoic",
          "Spontaneous",
          "Speculative",
          "Specialized",
          "Solemn",
          "Socratic",
          "Skeptical",
          "Serious",
          "Serene",
          "Secular",
          "Savage",
          "Sassy",
          "Sardonic",
          "Sarcastic",
          "Ritualistic",
          "Risk taking",
          "Rhetorical",
          "Reverent",
          "Resilient",
          "Reserved",
          "Relativist",
          "Regulatory",
          "Reductionist",
          "Rebellious",
          "Reactive",
          "Rationalist",
          "Radical",
          "Provocative",
          "Progressive",
          "Problem solving",
          "Proactive",
          "Principled",
          "Practical",
          "Poetic",
          "Pluralist",
          "Playful",
          "Philosophical",
          "Petty",
          "Pessimistic",
          "Perfectionist",
          "Pensive",
          "Patient",
          "Passive aggressive",
          "Passionate",
          "Paranoid",
          "Paradoxical",
          "Pacifist",
          "Obsessive",
          "Nurturing",
          "Nostalgic",
          "Nonchalant",
          "Nihilistic",
          "Neurotic",
          "Narrative",
          "Naive",
          "Moderate",
          "Mischievous",
          "Misanthropic",
          "Meticulous",
          "Methodical",
          "Metaphorical",
          "Mercurial",
          "Melodramatic",
          "Melancholic",
          "Meditative",
          "Materialist",
          "Manipulative",
          "Manic",
          "Literal",
          "Libertarian",
          "Judgmental",
          "Irreverent",
          "Ironic",
          "Intuitive",
          "Introverted",
          "Introspective",
          "Interdisciplinary",
          "Inspirational",
          "Inquisitive",
          "Innovative",
          "Individualistic",
          "Independent",
          "Inclusive",
          "Impulsive",
          "Improvisational",
          "Impatient",
          "Idealistic",
          "Iconoclastic",
          "Humble",
          "Hostile",
          "Holistic",
          "Historical",
          "Hedonistic",
          "Grounded",
          "Gregarious",
          "Grandiose",
          "Goofy",
          "Generous",
          "Generalist",
          "Futuristic",
          "Fundamentalist",
          "Formalist",
          "Formal",
          "Flirty",
          "Flippant",
          "Flexible",
          "Fatalistic",
          "Factual",
          "Extroverted",
          "Exploratory",
          "Experiential",
          "Existentialist",
          "Evil",
          "Ethereal",
          "Essentialist",
          "Esoteric",
          "Erudite",
          "Epicurean",
          "Environmental",
          "Entertaining",
          "Enigmatic",
          "Empathetic",
          "Emotional",
          "Eloquent",
          "Elitist",
          "Egalitarian",
          "Effusive",
          "Efficient",
          "Educational",
          "Edgy",
          "Eclectic",
          "Earnest",
          "Dramatic",
          "Dominant",
          "Dogmatic",
          "Divergent",
          "Dispassionate",
          "Disorganized",
          "Diplomatic",
          "Deterministic",
          "Descriptive",
          "Deontological",
          "Deferential",
          "Deconstructionist",
          "Decisive",
          "Data driven",
          "Cynical",
          "Curious",
          "Cryptic",
          "Cruel",
          "Critical",
          "Creative",
          "Cosmopolitan",
          "Convergent",
          "Contrarian",
          "Contemporary",
          "Constructivist",
          "Conscientious",
          "Confident",
          "Condescending",
          "Concise",
          "Conciliatory",
          "Conceptual",
          "Collectivistic",
          "Collaborative",
          "Closure seeking",
          "Circumspect",
          "Chill",
          "Charismatic",
          "Chaotic",
          "Challenging",
          "Cautious",
          "Casual",
          "Calm",
          "Callous",
          "Calculating",
          "Blunt",
          "Bitter",
          "Big picture",
          "Avoidant",
          "Assertive",
          "Ascetic",
          "Artistic",
          "Arrogant",
          "Anxious",
          "Anthropocentric",
          "Animated",
          "Analytical",
          "Agreeable",
          "Adventurous",
          "Adaptable",
          "Accommodating",
          "Accessible",
          "Abstract",
          "Absolutist"
         ],
         "type": "scatter",
         "x": [
          10.188613117267835,
          16.472345797734278,
          1.7161243681779719,
          -13.969320547019533,
          -6.8302243697167,
          18.871229786783942,
          6.8309196456838865,
          8.505558383156949,
          19.88539853020765,
          9.07477839084259,
          -15.9092557193952,
          9.658931045156315,
          -8.978636923148601,
          1.286076756762836,
          15.712566730368376,
          7.6576208928905904,
          -23.737275405517245,
          -10.160698760145477,
          -14.366245543897843,
          -12.30690803587775,
          -3.2956866563557816,
          -13.11431665437364,
          13.791665285711147,
          -10.600899404482966,
          7.019684670484488,
          7.864389960735391,
          -12.687413977201542,
          -6.983576823386133,
          21.397141571570288,
          4.38896765369358,
          -19.030312805806144,
          14.792794799430206,
          14.09205227796278,
          -22.53100223802988,
          12.508024852809868,
          18.466959614401034,
          13.89328327927173,
          15.655910252773628,
          11.414470236745807,
          15.947218162486111,
          -2.8575786317490763,
          4.406392316198885,
          -9.460212894938698,
          -8.090187742914567,
          -2.599206110468209,
          -2.3154131643167983,
          3.797305324355927,
          7.823315849361345,
          -1.456628400701735,
          -17.581195551729902,
          23.452450848193045,
          11.036171717078869,
          15.94984899151249,
          -1.218571358345307,
          10.988000070216659,
          10.359524601361509,
          -6.663600326250582,
          -5.168215187165343,
          -3.90405829722608,
          -16.268494223502447,
          -13.585596136286204,
          1.3245142084763986,
          12.98913301198618,
          14.917510783515269,
          18.818162837338225,
          2.230483790851925,
          -13.375064098102483,
          -2.2993765651947418,
          6.48778763486012,
          14.851002186526607,
          -12.239436296793755,
          -9.548765639341548,
          13.492821626701613,
          -23.22316113548173,
          -12.159076690855533,
          -0.9972583572602429,
          21.737024380944412,
          2.3527739389178244,
          -6.135309076680928,
          -24.579793738716496,
          -22.726459978138426,
          -0.8630816265312715,
          23.83743431709513,
          18.966871750945796,
          11.654558983245957,
          -4.082125610672168,
          2.052493161891009,
          11.565511175101735,
          15.187367772287944,
          -19.342039694494076,
          19.436534996973975,
          9.822656107934275,
          5.144764206561269,
          -3.6227337714395484,
          6.101959836080423,
          22.70144160966611,
          -3.543707410336043,
          5.4312023329676675,
          -26.160685851640565,
          6.09683993910278,
          5.646709587495939,
          -8.359256583850156,
          -22.070239647217747,
          -3.4624245478735367,
          1.3221652173527352,
          5.730572194784768,
          -0.7301666926471074,
          -9.186938090176527,
          -16.50898214327764,
          -21.0606181245127,
          -0.6726918833949346,
          -8.398448975850139,
          19.153940054247457,
          -15.62735781464467,
          16.250599570669003,
          -5.172636529427602,
          4.19343286637131,
          -8.113061013892844,
          4.144591739393125,
          -14.292280621568972,
          18.813275489968234,
          -6.020410995762121,
          -11.339673159162567,
          -16.205951581759283,
          -2.1970059192595466,
          4.764555889331399,
          19.41192477851406,
          9.255819562200083,
          -10.330945705967132,
          -8.296748276403742,
          -17.867493572444236,
          1.2518423943768275,
          -7.55642010363086,
          -8.828646810228676,
          -1.8909278073418507,
          -11.327535453875523,
          -10.023771401407226,
          19.966087247512952,
          -20.03461581101298,
          9.002446399515808,
          23.060935527826175,
          15.046939188918659,
          2.8085959594098737,
          -17.061277564052716,
          -10.525141112840098,
          -10.400106234115212,
          -20.436897602837334,
          -20.770443896539874,
          5.6408672639430835,
          23.382093231581955,
          -10.624287024761758,
          -0.9400062520286036,
          -13.24575560712804,
          0.9529506026606663,
          23.819807161044814,
          -5.164268623281571,
          -8.184195137143119,
          13.110937129914854,
          19.06296612057994,
          5.76499617885649,
          5.750905839074848,
          14.742757921060441,
          -5.638386566072155,
          -24.840936394870297,
          17.31092227899858,
          -3.430668112381421,
          -2.209119569936628,
          -16.2713284322825,
          10.008191839548115,
          9.480989400642972,
          21.036255174215814,
          23.495486833055534,
          -7.319574381771134,
          -3.02915224393193,
          20.808252180431868,
          11.639738784285338,
          0.05926786101171092,
          -11.997466037375915,
          5.187076858894238,
          12.877605548733557,
          -6.08837008219923,
          -21.191926411680846,
          5.977165701546355,
          6.302341539961374,
          11.320573757713149,
          -13.217439762611717,
          -25.497868168496353,
          -5.260624956938158,
          -17.345823373697304,
          -17.696600518073893,
          8.283067412439262,
          -6.820675214027368,
          -26.893023240592584,
          -3.194716272719481,
          -9.886149941429508,
          12.280311865448512,
          1.2384957463000172,
          -19.40627705763681,
          -22.91650240118231,
          16.272300056793167,
          11.509959396523104,
          16.607011765879797,
          19.73848356275241,
          -4.523487630582346,
          -5.207188477292775,
          14.697735962426247,
          -4.277860532400736,
          -20.346279638379798,
          19.580124621541433,
          5.753640790122859,
          5.593358919520023,
          -7.678899753847745,
          18.14383256231429,
          -19.85204023135829,
          -4.51211764168469,
          -1.7178634483297917,
          -15.531164666840095,
          -26.181040588173484,
          -7.050362917822688,
          15.661977450230301
         ],
         "xaxis": "x2",
         "y": [
          1,
          1,
          1,
          1,
          1,
          1,
          1,
          1,
          1,
          1,
          1,
          1,
          1,
          1,
          1,
          1,
          1,
          1,
          1,
          1,
          1,
          1,
          1,
          1,
          1,
          1,
          1,
          1,
          1,
          1,
          1,
          1,
          1,
          1,
          1,
          1,
          1,
          1,
          1,
          1,
          1,
          1,
          1,
          1,
          1,
          1,
          1,
          1,
          1,
          1,
          1,
          1,
          1,
          1,
          1,
          1,
          1,
          1,
          1,
          1,
          1,
          1,
          1,
          1,
          1,
          1,
          1,
          1,
          1,
          1,
          1,
          1,
          1,
          1,
          1,
          1,
          1,
          1,
          1,
          1,
          1,
          1,
          1,
          1,
          1,
          1,
          1,
          1,
          1,
          1,
          1,
          1,
          1,
          1,
          1,
          1,
          1,
          1,
          1,
          1,
          1,
          1,
          1,
          1,
          1,
          1,
          1,
          1,
          1,
          1,
          1,
          1,
          1,
          1,
          1,
          1,
          1,
          1,
          1,
          1,
          1,
          1,
          1,
          1,
          1,
          1,
          1,
          1,
          1,
          1,
          1,
          1,
          1,
          1,
          1,
          1,
          1,
          1,
          1,
          1,
          1,
          1,
          1,
          1,
          1,
          1,
          1,
          1,
          1,
          1,
          1,
          1,
          1,
          1,
          1,
          1,
          1,
          1,
          1,
          1,
          1,
          1,
          1,
          1,
          1,
          1,
          1,
          1,
          1,
          1,
          1,
          1,
          1,
          1,
          1,
          1,
          1,
          1,
          1,
          1,
          1,
          1,
          1,
          1,
          1,
          1,
          1,
          1,
          1,
          1,
          1,
          1,
          1,
          1,
          1,
          1,
          1,
          1,
          1,
          1,
          1,
          1,
          1,
          1,
          1,
          1,
          1,
          1,
          1,
          1,
          1,
          1,
          1,
          1,
          1,
          1,
          1,
          1,
          1,
          1
         ],
         "yaxis": "y2"
        },
        {
         "hovertemplate": "<b>%{text}</b><br>PC Projection: %{x:.3f}<extra></extra>",
         "marker": {
          "color": "limegreen",
          "line": {
           "color": "black",
           "width": 1
          },
          "opacity": 1,
          "size": 8,
          "symbol": "diamond"
         },
         "mode": "markers",
         "showlegend": false,
         "text": [
          "Technical",
          "Spiritual",
          "Romantic",
          "Quantitative",
          "Qualitative",
          "Prescriptive",
          "Pedantic",
          "Optimistic",
          "Open ended",
          "Mystical",
          "Militant",
          "Humanistic",
          "Forgiving",
          "Detached",
          "Confrontational",
          "Competitive",
          "Bombastic",
          "Benevolent",
          "Altruistic",
          "Acerbic"
         ],
         "type": "scatter",
         "x": [
          25.635469121976286,
          -27.4010067946278,
          -28.736632938772342,
          24.837901514159142,
          -28.191692453401718,
          32.42097296783844,
          26.08076726878472,
          -29.98335638523396,
          -28.932309613840385,
          -27.263993217281598,
          32.47841823707409,
          -30.379078366124748,
          -30.01479453225588,
          24.11983708534834,
          24.189108599718953,
          31.489762986365324,
          24.08205803292276,
          -35.822456554180086,
          -27.770153403260764,
          24.665079505062565
         ],
         "xaxis": "x2",
         "y": [
          1,
          1,
          1,
          1,
          1,
          1,
          1,
          1,
          1,
          1,
          1,
          1,
          1,
          1,
          1,
          1,
          1,
          1,
          1,
          1
         ],
         "yaxis": "y2"
        },
        {
         "hoverinfo": "skip",
         "line": {
          "color": "black",
          "width": 1
         },
         "mode": "lines",
         "showlegend": false,
         "type": "scatter",
         "x": [
          -35.822456554180086,
          -35.822456554180086
         ],
         "xaxis": "x2",
         "y": [
          1,
          1.45
         ],
         "yaxis": "y2"
        },
        {
         "hoverinfo": "skip",
         "line": {
          "color": "black",
          "width": 1
         },
         "mode": "lines",
         "showlegend": false,
         "type": "scatter",
         "x": [
          -30.379078366124748,
          -30.379078366124748
         ],
         "xaxis": "x2",
         "y": [
          1,
          0.6
         ],
         "yaxis": "y2"
        },
        {
         "hoverinfo": "skip",
         "line": {
          "color": "black",
          "width": 1
         },
         "mode": "lines",
         "showlegend": false,
         "type": "scatter",
         "x": [
          -30.01479453225588,
          -30.01479453225588
         ],
         "xaxis": "x2",
         "y": [
          1,
          1.9
         ],
         "yaxis": "y2"
        },
        {
         "hoverinfo": "skip",
         "line": {
          "color": "black",
          "width": 1
         },
         "mode": "lines",
         "showlegend": false,
         "type": "scatter",
         "x": [
          -29.98335638523396,
          -29.98335638523396
         ],
         "xaxis": "x2",
         "y": [
          1,
          0.15
         ],
         "yaxis": "y2"
        },
        {
         "hoverinfo": "skip",
         "line": {
          "color": "black",
          "width": 1
         },
         "mode": "lines",
         "showlegend": false,
         "type": "scatter",
         "x": [
          -28.932309613840385,
          -28.932309613840385
         ],
         "xaxis": "x2",
         "y": [
          1,
          1.6
         ],
         "yaxis": "y2"
        },
        {
         "hoverinfo": "skip",
         "line": {
          "color": "black",
          "width": 1
         },
         "mode": "lines",
         "showlegend": false,
         "type": "scatter",
         "x": [
          -28.736632938772342,
          -28.736632938772342
         ],
         "xaxis": "x2",
         "y": [
          1,
          0.45
         ],
         "yaxis": "y2"
        },
        {
         "hoverinfo": "skip",
         "line": {
          "color": "black",
          "width": 1
         },
         "mode": "lines",
         "showlegend": false,
         "type": "scatter",
         "x": [
          -28.191692453401718,
          -28.191692453401718
         ],
         "xaxis": "x2",
         "y": [
          1,
          1.3
         ],
         "yaxis": "y2"
        },
        {
         "hoverinfo": "skip",
         "line": {
          "color": "black",
          "width": 1
         },
         "mode": "lines",
         "showlegend": false,
         "type": "scatter",
         "x": [
          -27.770153403260764,
          -27.770153403260764
         ],
         "xaxis": "x2",
         "y": [
          1,
          0.75
         ],
         "yaxis": "y2"
        },
        {
         "hoverinfo": "skip",
         "line": {
          "color": "black",
          "width": 1
         },
         "mode": "lines",
         "showlegend": false,
         "type": "scatter",
         "x": [
          -27.4010067946278,
          -27.4010067946278
         ],
         "xaxis": "x2",
         "y": [
          1,
          1.75
         ],
         "yaxis": "y2"
        },
        {
         "hoverinfo": "skip",
         "line": {
          "color": "black",
          "width": 1
         },
         "mode": "lines",
         "showlegend": false,
         "type": "scatter",
         "x": [
          -27.263993217281598,
          -27.263993217281598
         ],
         "xaxis": "x2",
         "y": [
          1,
          0.3
         ],
         "yaxis": "y2"
        },
        {
         "hoverinfo": "skip",
         "line": {
          "color": "black",
          "width": 1
         },
         "mode": "lines",
         "showlegend": false,
         "type": "scatter",
         "x": [
          24.08205803292276,
          24.08205803292276
         ],
         "xaxis": "x2",
         "y": [
          1,
          1.45
         ],
         "yaxis": "y2"
        },
        {
         "hoverinfo": "skip",
         "line": {
          "color": "black",
          "width": 1
         },
         "mode": "lines",
         "showlegend": false,
         "type": "scatter",
         "x": [
          24.11983708534834,
          24.11983708534834
         ],
         "xaxis": "x2",
         "y": [
          1,
          0.6
         ],
         "yaxis": "y2"
        },
        {
         "hoverinfo": "skip",
         "line": {
          "color": "black",
          "width": 1
         },
         "mode": "lines",
         "showlegend": false,
         "type": "scatter",
         "x": [
          24.189108599718953,
          24.189108599718953
         ],
         "xaxis": "x2",
         "y": [
          1,
          1.9
         ],
         "yaxis": "y2"
        },
        {
         "hoverinfo": "skip",
         "line": {
          "color": "black",
          "width": 1
         },
         "mode": "lines",
         "showlegend": false,
         "type": "scatter",
         "x": [
          24.665079505062565,
          24.665079505062565
         ],
         "xaxis": "x2",
         "y": [
          1,
          0.15
         ],
         "yaxis": "y2"
        },
        {
         "hoverinfo": "skip",
         "line": {
          "color": "black",
          "width": 1
         },
         "mode": "lines",
         "showlegend": false,
         "type": "scatter",
         "x": [
          24.837901514159142,
          24.837901514159142
         ],
         "xaxis": "x2",
         "y": [
          1,
          1.6
         ],
         "yaxis": "y2"
        },
        {
         "hoverinfo": "skip",
         "line": {
          "color": "black",
          "width": 1
         },
         "mode": "lines",
         "showlegend": false,
         "type": "scatter",
         "x": [
          25.635469121976286,
          25.635469121976286
         ],
         "xaxis": "x2",
         "y": [
          1,
          0.45
         ],
         "yaxis": "y2"
        },
        {
         "hoverinfo": "skip",
         "line": {
          "color": "black",
          "width": 1
         },
         "mode": "lines",
         "showlegend": false,
         "type": "scatter",
         "x": [
          26.08076726878472,
          26.08076726878472
         ],
         "xaxis": "x2",
         "y": [
          1,
          1.3
         ],
         "yaxis": "y2"
        },
        {
         "hoverinfo": "skip",
         "line": {
          "color": "black",
          "width": 1
         },
         "mode": "lines",
         "showlegend": false,
         "type": "scatter",
         "x": [
          31.489762986365324,
          31.489762986365324
         ],
         "xaxis": "x2",
         "y": [
          1,
          0.75
         ],
         "yaxis": "y2"
        },
        {
         "hoverinfo": "skip",
         "line": {
          "color": "black",
          "width": 1
         },
         "mode": "lines",
         "showlegend": false,
         "type": "scatter",
         "x": [
          32.42097296783844,
          32.42097296783844
         ],
         "xaxis": "x2",
         "y": [
          1,
          1.75
         ],
         "yaxis": "y2"
        },
        {
         "hoverinfo": "skip",
         "line": {
          "color": "black",
          "width": 1
         },
         "mode": "lines",
         "showlegend": false,
         "type": "scatter",
         "x": [
          32.47841823707409,
          32.47841823707409
         ],
         "xaxis": "x2",
         "y": [
          1,
          0.3
         ],
         "yaxis": "y2"
        },
        {
         "hoverinfo": "skip",
         "marker": {
          "color": "limegreen"
         },
         "opacity": 0.7,
         "showlegend": false,
         "type": "bar",
         "width": 1.8213566611001113,
         "x": [
          -34.68410864099252,
          -32.40741281461737,
          -30.130716988242238,
          -27.8540211618671,
          -25.57732533549196,
          -23.30062950911682,
          -21.02393368274168,
          -18.747237856366542,
          -16.470542029991403,
          -14.193846203616264,
          -11.917150377241125,
          -9.640454550865986,
          -7.363758724490847,
          -5.0870628981157076,
          -2.8103670717405684,
          -0.5336712453654293,
          1.7430245810097098,
          4.019720407384849,
          6.296416233759988,
          8.573112060135127,
          10.849807886510266,
          13.126503712885405,
          15.403199539260545,
          17.679895365635684,
          19.956591192010823,
          22.233287018385962,
          24.5099828447611,
          26.78667867113624,
          29.063374497511383,
          31.340070323886522
         ],
         "xaxis": "x2",
         "y": [
          0.05625,
          0,
          0.16875,
          0.39375,
          0.28125,
          0.28125,
          0.39375,
          0.3375,
          0.5625,
          0.45,
          0.39375,
          0.7312500000000001,
          0.7875,
          0.7312500000000001,
          0.9,
          0.45,
          0.61875,
          0.39375,
          0.9,
          0.5625,
          0.675,
          0.50625,
          0.84375,
          0.3375,
          0.675,
          0.225,
          0.61875,
          0.05625,
          0,
          0.16875
         ],
         "yaxis": "y2"
        }
       ],
       "layout": {
        "annotations": [
         {
          "font": {
           "size": 16
          },
          "showarrow": false,
          "text": "PC3 Cosine Similarity",
          "x": 0.5,
          "xanchor": "center",
          "xref": "paper",
          "y": 1,
          "yanchor": "bottom",
          "yref": "paper"
         },
         {
          "font": {
           "size": 16
          },
          "showarrow": false,
          "text": "PC3 Projection",
          "x": 0.5,
          "xanchor": "center",
          "xref": "paper",
          "y": 0.45,
          "yanchor": "bottom",
          "yref": "paper"
         },
         {
          "bgcolor": "rgba(255, 255, 255, 0.9)",
          "bordercolor": "black",
          "borderwidth": 1,
          "font": {
           "color": "black",
           "size": 10
          },
          "showarrow": false,
          "text": "Benevolent",
          "x": -0.7093237482514152,
          "xref": "x",
          "y": 1.45,
          "yref": "y"
         },
         {
          "bgcolor": "rgba(255, 255, 255, 0.9)",
          "bordercolor": "black",
          "borderwidth": 1,
          "font": {
           "color": "black",
           "size": 10
          },
          "showarrow": false,
          "text": "Forgiving",
          "x": -0.6743542049741503,
          "xref": "x",
          "y": 0.6,
          "yref": "y"
         },
         {
          "bgcolor": "rgba(255, 255, 255, 0.9)",
          "bordercolor": "black",
          "borderwidth": 1,
          "font": {
           "color": "black",
           "size": 10
          },
          "showarrow": false,
          "text": "Open ended",
          "x": -0.6460916717546443,
          "xref": "x",
          "y": 1.9,
          "yref": "y"
         },
         {
          "bgcolor": "rgba(255, 255, 255, 0.9)",
          "bordercolor": "black",
          "borderwidth": 1,
          "font": {
           "color": "black",
           "size": 10
          },
          "showarrow": false,
          "text": "Humanistic",
          "x": -0.5895922827973763,
          "xref": "x",
          "y": 0.15,
          "yref": "y"
         },
         {
          "bgcolor": "rgba(255, 255, 255, 0.9)",
          "bordercolor": "black",
          "borderwidth": 1,
          "font": {
           "color": "black",
           "size": 10
          },
          "showarrow": false,
          "text": "Chill",
          "x": -0.5790853962374931,
          "xref": "x",
          "y": 1.6,
          "yref": "y"
         },
         {
          "bgcolor": "rgba(255, 255, 255, 0.9)",
          "bordercolor": "black",
          "borderwidth": 1,
          "font": {
           "color": "black",
           "size": 10
          },
          "showarrow": false,
          "text": "Conciliatory",
          "x": -0.5755960482183766,
          "xref": "x",
          "y": 0.45,
          "yref": "y"
         },
         {
          "bgcolor": "rgba(255, 255, 255, 0.9)",
          "bordercolor": "black",
          "borderwidth": 1,
          "font": {
           "color": "black",
           "size": 10
          },
          "showarrow": false,
          "text": "Altruistic",
          "x": -0.5717236597935368,
          "xref": "x",
          "y": 1.3,
          "yref": "y"
         },
         {
          "bgcolor": "rgba(255, 255, 255, 0.9)",
          "bordercolor": "black",
          "borderwidth": 1,
          "font": {
           "color": "black",
           "size": 10
          },
          "showarrow": false,
          "text": "Optimistic",
          "x": -0.5666259490201292,
          "xref": "x",
          "y": 0.75,
          "yref": "y"
         },
         {
          "bgcolor": "rgba(255, 255, 255, 0.9)",
          "bordercolor": "black",
          "borderwidth": 1,
          "font": {
           "color": "black",
           "size": 10
          },
          "showarrow": false,
          "text": "Diplomatic",
          "x": -0.5202061759232404,
          "xref": "x",
          "y": 1.75,
          "yref": "y"
         },
         {
          "bgcolor": "rgba(255, 255, 255, 0.9)",
          "bordercolor": "black",
          "borderwidth": 1,
          "font": {
           "color": "black",
           "size": 10
          },
          "showarrow": false,
          "text": "Intuitive",
          "x": -0.5051766763441801,
          "xref": "x",
          "y": 0.3,
          "yref": "y"
         },
         {
          "bgcolor": "rgba(255, 255, 255, 0.9)",
          "bordercolor": "black",
          "borderwidth": 1,
          "font": {
           "color": "black",
           "size": 10
          },
          "showarrow": false,
          "text": "Iconoclastic",
          "x": 0.4402439429998509,
          "xref": "x",
          "y": 1.45,
          "yref": "y"
         },
         {
          "bgcolor": "rgba(255, 255, 255, 0.9)",
          "bordercolor": "black",
          "borderwidth": 1,
          "font": {
           "color": "black",
           "size": 10
          },
          "showarrow": false,
          "text": "Grandiose",
          "x": 0.44856107589045224,
          "xref": "x",
          "y": 0.6,
          "yref": "y"
         },
         {
          "bgcolor": "rgba(255, 255, 255, 0.9)",
          "bordercolor": "black",
          "borderwidth": 1,
          "font": {
           "color": "black",
           "size": 10
          },
          "showarrow": false,
          "text": "Cynical",
          "x": 0.4496984879279962,
          "xref": "x",
          "y": 1.9,
          "yref": "y"
         },
         {
          "bgcolor": "rgba(255, 255, 255, 0.9)",
          "bordercolor": "black",
          "borderwidth": 1,
          "font": {
           "color": "black",
           "size": 10
          },
          "showarrow": false,
          "text": "Rationalist",
          "x": 0.4626313638939814,
          "xref": "x",
          "y": 0.15,
          "yref": "y"
         },
         {
          "bgcolor": "rgba(255, 255, 255, 0.9)",
          "bordercolor": "black",
          "borderwidth": 1,
          "font": {
           "color": "black",
           "size": 10
          },
          "showarrow": false,
          "text": "Competitive",
          "x": 0.4870342971339571,
          "xref": "x",
          "y": 1.6,
          "yref": "y"
         },
         {
          "bgcolor": "rgba(255, 255, 255, 0.9)",
          "bordercolor": "black",
          "borderwidth": 1,
          "font": {
           "color": "black",
           "size": 10
          },
          "showarrow": false,
          "text": "Edgy",
          "x": 0.5019810041990933,
          "xref": "x",
          "y": 0.45,
          "yref": "y"
         },
         {
          "bgcolor": "rgba(255, 255, 255, 0.9)",
          "bordercolor": "black",
          "borderwidth": 1,
          "font": {
           "color": "black",
           "size": 10
          },
          "showarrow": false,
          "text": "Technical",
          "x": 0.5043779053360472,
          "xref": "x",
          "y": 1.3,
          "yref": "y"
         },
         {
          "bgcolor": "rgba(255, 255, 255, 0.9)",
          "bordercolor": "black",
          "borderwidth": 1,
          "font": {
           "color": "black",
           "size": 10
          },
          "showarrow": false,
          "text": "Militant",
          "x": 0.5579205716767852,
          "xref": "x",
          "y": 0.75,
          "yref": "y"
         },
         {
          "bgcolor": "rgba(255, 255, 255, 0.9)",
          "bordercolor": "black",
          "borderwidth": 1,
          "font": {
           "color": "black",
           "size": 10
          },
          "showarrow": false,
          "text": "Prescriptive",
          "x": 0.6185858755324427,
          "xref": "x",
          "y": 1.75,
          "yref": "y"
         },
         {
          "bgcolor": "rgba(255, 255, 255, 0.9)",
          "bordercolor": "black",
          "borderwidth": 1,
          "font": {
           "color": "black",
           "size": 10
          },
          "showarrow": false,
          "text": "Confrontational",
          "x": 0.6488617189455282,
          "xref": "x",
          "y": 0.3,
          "yref": "y"
         },
         {
          "bgcolor": "rgba(255, 255, 255, 0.9)",
          "bordercolor": "red",
          "borderwidth": 1,
          "font": {
           "color": "red",
           "size": 14
          },
          "showarrow": false,
          "text": "Assistant",
          "x": -0.19582720854415486,
          "xref": "x",
          "y": 2,
          "yref": "y"
         },
         {
          "bgcolor": "rgba(255, 255, 255, 0.9)",
          "bordercolor": "black",
          "borderwidth": 1,
          "font": {
           "color": "black",
           "size": 10
          },
          "showarrow": false,
          "text": "Benevolent",
          "x": -35.822456554180086,
          "xref": "x2",
          "y": 1.45,
          "yref": "y2"
         },
         {
          "bgcolor": "rgba(255, 255, 255, 0.9)",
          "bordercolor": "black",
          "borderwidth": 1,
          "font": {
           "color": "black",
           "size": 10
          },
          "showarrow": false,
          "text": "Humanistic",
          "x": -30.379078366124748,
          "xref": "x2",
          "y": 0.6,
          "yref": "y2"
         },
         {
          "bgcolor": "rgba(255, 255, 255, 0.9)",
          "bordercolor": "black",
          "borderwidth": 1,
          "font": {
           "color": "black",
           "size": 10
          },
          "showarrow": false,
          "text": "Forgiving",
          "x": -30.01479453225588,
          "xref": "x2",
          "y": 1.9,
          "yref": "y2"
         },
         {
          "bgcolor": "rgba(255, 255, 255, 0.9)",
          "bordercolor": "black",
          "borderwidth": 1,
          "font": {
           "color": "black",
           "size": 10
          },
          "showarrow": false,
          "text": "Optimistic",
          "x": -29.98335638523396,
          "xref": "x2",
          "y": 0.15,
          "yref": "y2"
         },
         {
          "bgcolor": "rgba(255, 255, 255, 0.9)",
          "bordercolor": "black",
          "borderwidth": 1,
          "font": {
           "color": "black",
           "size": 10
          },
          "showarrow": false,
          "text": "Open ended",
          "x": -28.932309613840385,
          "xref": "x2",
          "y": 1.6,
          "yref": "y2"
         },
         {
          "bgcolor": "rgba(255, 255, 255, 0.9)",
          "bordercolor": "black",
          "borderwidth": 1,
          "font": {
           "color": "black",
           "size": 10
          },
          "showarrow": false,
          "text": "Romantic",
          "x": -28.736632938772342,
          "xref": "x2",
          "y": 0.45,
          "yref": "y2"
         },
         {
          "bgcolor": "rgba(255, 255, 255, 0.9)",
          "bordercolor": "black",
          "borderwidth": 1,
          "font": {
           "color": "black",
           "size": 10
          },
          "showarrow": false,
          "text": "Qualitative",
          "x": -28.191692453401718,
          "xref": "x2",
          "y": 1.3,
          "yref": "y2"
         },
         {
          "bgcolor": "rgba(255, 255, 255, 0.9)",
          "bordercolor": "black",
          "borderwidth": 1,
          "font": {
           "color": "black",
           "size": 10
          },
          "showarrow": false,
          "text": "Altruistic",
          "x": -27.770153403260764,
          "xref": "x2",
          "y": 0.75,
          "yref": "y2"
         },
         {
          "bgcolor": "rgba(255, 255, 255, 0.9)",
          "bordercolor": "black",
          "borderwidth": 1,
          "font": {
           "color": "black",
           "size": 10
          },
          "showarrow": false,
          "text": "Spiritual",
          "x": -27.4010067946278,
          "xref": "x2",
          "y": 1.75,
          "yref": "y2"
         },
         {
          "bgcolor": "rgba(255, 255, 255, 0.9)",
          "bordercolor": "black",
          "borderwidth": 1,
          "font": {
           "color": "black",
           "size": 10
          },
          "showarrow": false,
          "text": "Mystical",
          "x": -27.263993217281598,
          "xref": "x2",
          "y": 0.3,
          "yref": "y2"
         },
         {
          "bgcolor": "rgba(255, 255, 255, 0.9)",
          "bordercolor": "black",
          "borderwidth": 1,
          "font": {
           "color": "black",
           "size": 10
          },
          "showarrow": false,
          "text": "Bombastic",
          "x": 24.08205803292276,
          "xref": "x2",
          "y": 1.45,
          "yref": "y2"
         },
         {
          "bgcolor": "rgba(255, 255, 255, 0.9)",
          "bordercolor": "black",
          "borderwidth": 1,
          "font": {
           "color": "black",
           "size": 10
          },
          "showarrow": false,
          "text": "Detached",
          "x": 24.11983708534834,
          "xref": "x2",
          "y": 0.6,
          "yref": "y2"
         },
         {
          "bgcolor": "rgba(255, 255, 255, 0.9)",
          "bordercolor": "black",
          "borderwidth": 1,
          "font": {
           "color": "black",
           "size": 10
          },
          "showarrow": false,
          "text": "Confrontational",
          "x": 24.189108599718953,
          "xref": "x2",
          "y": 1.9,
          "yref": "y2"
         },
         {
          "bgcolor": "rgba(255, 255, 255, 0.9)",
          "bordercolor": "black",
          "borderwidth": 1,
          "font": {
           "color": "black",
           "size": 10
          },
          "showarrow": false,
          "text": "Acerbic",
          "x": 24.665079505062565,
          "xref": "x2",
          "y": 0.15,
          "yref": "y2"
         },
         {
          "bgcolor": "rgba(255, 255, 255, 0.9)",
          "bordercolor": "black",
          "borderwidth": 1,
          "font": {
           "color": "black",
           "size": 10
          },
          "showarrow": false,
          "text": "Quantitative",
          "x": 24.837901514159142,
          "xref": "x2",
          "y": 1.6,
          "yref": "y2"
         },
         {
          "bgcolor": "rgba(255, 255, 255, 0.9)",
          "bordercolor": "black",
          "borderwidth": 1,
          "font": {
           "color": "black",
           "size": 10
          },
          "showarrow": false,
          "text": "Technical",
          "x": 25.635469121976286,
          "xref": "x2",
          "y": 0.45,
          "yref": "y2"
         },
         {
          "bgcolor": "rgba(255, 255, 255, 0.9)",
          "bordercolor": "black",
          "borderwidth": 1,
          "font": {
           "color": "black",
           "size": 10
          },
          "showarrow": false,
          "text": "Pedantic",
          "x": 26.08076726878472,
          "xref": "x2",
          "y": 1.3,
          "yref": "y2"
         },
         {
          "bgcolor": "rgba(255, 255, 255, 0.9)",
          "bordercolor": "black",
          "borderwidth": 1,
          "font": {
           "color": "black",
           "size": 10
          },
          "showarrow": false,
          "text": "Competitive",
          "x": 31.489762986365324,
          "xref": "x2",
          "y": 0.75,
          "yref": "y2"
         },
         {
          "bgcolor": "rgba(255, 255, 255, 0.9)",
          "bordercolor": "black",
          "borderwidth": 1,
          "font": {
           "color": "black",
           "size": 10
          },
          "showarrow": false,
          "text": "Prescriptive",
          "x": 32.42097296783844,
          "xref": "x2",
          "y": 1.75,
          "yref": "y2"
         },
         {
          "bgcolor": "rgba(255, 255, 255, 0.9)",
          "bordercolor": "black",
          "borderwidth": 1,
          "font": {
           "color": "black",
           "size": 10
          },
          "showarrow": false,
          "text": "Militant",
          "x": 32.47841823707409,
          "xref": "x2",
          "y": 0.3,
          "yref": "y2"
         },
         {
          "bgcolor": "rgba(255, 255, 255, 0.9)",
          "bordercolor": "red",
          "borderwidth": 1,
          "font": {
           "color": "red",
           "size": 14
          },
          "showarrow": false,
          "text": "Assistant",
          "x": -11.338582439273182,
          "xref": "x2",
          "y": 2,
          "yref": "y2"
         }
        ],
        "height": 800,
        "shapes": [
         {
          "line": {
           "color": "gray",
           "dash": "solid",
           "width": 1
          },
          "opacity": 0.7,
          "type": "line",
          "x0": 0,
          "x1": 0,
          "xref": "x",
          "y0": 0,
          "y1": 1,
          "yref": "y domain"
         },
         {
          "line": {
           "color": "red",
           "dash": "dash",
           "width": 1
          },
          "opacity": 1,
          "type": "line",
          "x0": -0.19582720854415486,
          "x1": -0.19582720854415486,
          "xref": "x",
          "y0": 0,
          "y1": 1,
          "yref": "y domain"
         },
         {
          "line": {
           "color": "gray",
           "dash": "solid",
           "width": 1
          },
          "opacity": 0.7,
          "type": "line",
          "x0": 0,
          "x1": 0,
          "xref": "x2",
          "y0": 0,
          "y1": 1,
          "yref": "y2 domain"
         },
         {
          "line": {
           "color": "red",
           "dash": "dash",
           "width": 1
          },
          "opacity": 1,
          "type": "line",
          "x0": -11.338582439273182,
          "x1": -11.338582439273182,
          "xref": "x2",
          "y0": 0,
          "y1": 1,
          "yref": "y2 domain"
         }
        ],
        "showlegend": false,
        "template": {
         "data": {
          "bar": [
           {
            "error_x": {
             "color": "#2a3f5f"
            },
            "error_y": {
             "color": "#2a3f5f"
            },
            "marker": {
             "line": {
              "color": "#E5ECF6",
              "width": 0.5
             },
             "pattern": {
              "fillmode": "overlay",
              "size": 10,
              "solidity": 0.2
             }
            },
            "type": "bar"
           }
          ],
          "barpolar": [
           {
            "marker": {
             "line": {
              "color": "#E5ECF6",
              "width": 0.5
             },
             "pattern": {
              "fillmode": "overlay",
              "size": 10,
              "solidity": 0.2
             }
            },
            "type": "barpolar"
           }
          ],
          "carpet": [
           {
            "aaxis": {
             "endlinecolor": "#2a3f5f",
             "gridcolor": "white",
             "linecolor": "white",
             "minorgridcolor": "white",
             "startlinecolor": "#2a3f5f"
            },
            "baxis": {
             "endlinecolor": "#2a3f5f",
             "gridcolor": "white",
             "linecolor": "white",
             "minorgridcolor": "white",
             "startlinecolor": "#2a3f5f"
            },
            "type": "carpet"
           }
          ],
          "choropleth": [
           {
            "colorbar": {
             "outlinewidth": 0,
             "ticks": ""
            },
            "type": "choropleth"
           }
          ],
          "contour": [
           {
            "colorbar": {
             "outlinewidth": 0,
             "ticks": ""
            },
            "colorscale": [
             [
              0,
              "#0d0887"
             ],
             [
              0.1111111111111111,
              "#46039f"
             ],
             [
              0.2222222222222222,
              "#7201a8"
             ],
             [
              0.3333333333333333,
              "#9c179e"
             ],
             [
              0.4444444444444444,
              "#bd3786"
             ],
             [
              0.5555555555555556,
              "#d8576b"
             ],
             [
              0.6666666666666666,
              "#ed7953"
             ],
             [
              0.7777777777777778,
              "#fb9f3a"
             ],
             [
              0.8888888888888888,
              "#fdca26"
             ],
             [
              1,
              "#f0f921"
             ]
            ],
            "type": "contour"
           }
          ],
          "contourcarpet": [
           {
            "colorbar": {
             "outlinewidth": 0,
             "ticks": ""
            },
            "type": "contourcarpet"
           }
          ],
          "heatmap": [
           {
            "colorbar": {
             "outlinewidth": 0,
             "ticks": ""
            },
            "colorscale": [
             [
              0,
              "#0d0887"
             ],
             [
              0.1111111111111111,
              "#46039f"
             ],
             [
              0.2222222222222222,
              "#7201a8"
             ],
             [
              0.3333333333333333,
              "#9c179e"
             ],
             [
              0.4444444444444444,
              "#bd3786"
             ],
             [
              0.5555555555555556,
              "#d8576b"
             ],
             [
              0.6666666666666666,
              "#ed7953"
             ],
             [
              0.7777777777777778,
              "#fb9f3a"
             ],
             [
              0.8888888888888888,
              "#fdca26"
             ],
             [
              1,
              "#f0f921"
             ]
            ],
            "type": "heatmap"
           }
          ],
          "heatmapgl": [
           {
            "colorbar": {
             "outlinewidth": 0,
             "ticks": ""
            },
            "colorscale": [
             [
              0,
              "#0d0887"
             ],
             [
              0.1111111111111111,
              "#46039f"
             ],
             [
              0.2222222222222222,
              "#7201a8"
             ],
             [
              0.3333333333333333,
              "#9c179e"
             ],
             [
              0.4444444444444444,
              "#bd3786"
             ],
             [
              0.5555555555555556,
              "#d8576b"
             ],
             [
              0.6666666666666666,
              "#ed7953"
             ],
             [
              0.7777777777777778,
              "#fb9f3a"
             ],
             [
              0.8888888888888888,
              "#fdca26"
             ],
             [
              1,
              "#f0f921"
             ]
            ],
            "type": "heatmapgl"
           }
          ],
          "histogram": [
           {
            "marker": {
             "pattern": {
              "fillmode": "overlay",
              "size": 10,
              "solidity": 0.2
             }
            },
            "type": "histogram"
           }
          ],
          "histogram2d": [
           {
            "colorbar": {
             "outlinewidth": 0,
             "ticks": ""
            },
            "colorscale": [
             [
              0,
              "#0d0887"
             ],
             [
              0.1111111111111111,
              "#46039f"
             ],
             [
              0.2222222222222222,
              "#7201a8"
             ],
             [
              0.3333333333333333,
              "#9c179e"
             ],
             [
              0.4444444444444444,
              "#bd3786"
             ],
             [
              0.5555555555555556,
              "#d8576b"
             ],
             [
              0.6666666666666666,
              "#ed7953"
             ],
             [
              0.7777777777777778,
              "#fb9f3a"
             ],
             [
              0.8888888888888888,
              "#fdca26"
             ],
             [
              1,
              "#f0f921"
             ]
            ],
            "type": "histogram2d"
           }
          ],
          "histogram2dcontour": [
           {
            "colorbar": {
             "outlinewidth": 0,
             "ticks": ""
            },
            "colorscale": [
             [
              0,
              "#0d0887"
             ],
             [
              0.1111111111111111,
              "#46039f"
             ],
             [
              0.2222222222222222,
              "#7201a8"
             ],
             [
              0.3333333333333333,
              "#9c179e"
             ],
             [
              0.4444444444444444,
              "#bd3786"
             ],
             [
              0.5555555555555556,
              "#d8576b"
             ],
             [
              0.6666666666666666,
              "#ed7953"
             ],
             [
              0.7777777777777778,
              "#fb9f3a"
             ],
             [
              0.8888888888888888,
              "#fdca26"
             ],
             [
              1,
              "#f0f921"
             ]
            ],
            "type": "histogram2dcontour"
           }
          ],
          "mesh3d": [
           {
            "colorbar": {
             "outlinewidth": 0,
             "ticks": ""
            },
            "type": "mesh3d"
           }
          ],
          "parcoords": [
           {
            "line": {
             "colorbar": {
              "outlinewidth": 0,
              "ticks": ""
             }
            },
            "type": "parcoords"
           }
          ],
          "pie": [
           {
            "automargin": true,
            "type": "pie"
           }
          ],
          "scatter": [
           {
            "fillpattern": {
             "fillmode": "overlay",
             "size": 10,
             "solidity": 0.2
            },
            "type": "scatter"
           }
          ],
          "scatter3d": [
           {
            "line": {
             "colorbar": {
              "outlinewidth": 0,
              "ticks": ""
             }
            },
            "marker": {
             "colorbar": {
              "outlinewidth": 0,
              "ticks": ""
             }
            },
            "type": "scatter3d"
           }
          ],
          "scattercarpet": [
           {
            "marker": {
             "colorbar": {
              "outlinewidth": 0,
              "ticks": ""
             }
            },
            "type": "scattercarpet"
           }
          ],
          "scattergeo": [
           {
            "marker": {
             "colorbar": {
              "outlinewidth": 0,
              "ticks": ""
             }
            },
            "type": "scattergeo"
           }
          ],
          "scattergl": [
           {
            "marker": {
             "colorbar": {
              "outlinewidth": 0,
              "ticks": ""
             }
            },
            "type": "scattergl"
           }
          ],
          "scattermapbox": [
           {
            "marker": {
             "colorbar": {
              "outlinewidth": 0,
              "ticks": ""
             }
            },
            "type": "scattermapbox"
           }
          ],
          "scatterpolar": [
           {
            "marker": {
             "colorbar": {
              "outlinewidth": 0,
              "ticks": ""
             }
            },
            "type": "scatterpolar"
           }
          ],
          "scatterpolargl": [
           {
            "marker": {
             "colorbar": {
              "outlinewidth": 0,
              "ticks": ""
             }
            },
            "type": "scatterpolargl"
           }
          ],
          "scatterternary": [
           {
            "marker": {
             "colorbar": {
              "outlinewidth": 0,
              "ticks": ""
             }
            },
            "type": "scatterternary"
           }
          ],
          "surface": [
           {
            "colorbar": {
             "outlinewidth": 0,
             "ticks": ""
            },
            "colorscale": [
             [
              0,
              "#0d0887"
             ],
             [
              0.1111111111111111,
              "#46039f"
             ],
             [
              0.2222222222222222,
              "#7201a8"
             ],
             [
              0.3333333333333333,
              "#9c179e"
             ],
             [
              0.4444444444444444,
              "#bd3786"
             ],
             [
              0.5555555555555556,
              "#d8576b"
             ],
             [
              0.6666666666666666,
              "#ed7953"
             ],
             [
              0.7777777777777778,
              "#fb9f3a"
             ],
             [
              0.8888888888888888,
              "#fdca26"
             ],
             [
              1,
              "#f0f921"
             ]
            ],
            "type": "surface"
           }
          ],
          "table": [
           {
            "cells": {
             "fill": {
              "color": "#EBF0F8"
             },
             "line": {
              "color": "white"
             }
            },
            "header": {
             "fill": {
              "color": "#C8D4E3"
             },
             "line": {
              "color": "white"
             }
            },
            "type": "table"
           }
          ]
         },
         "layout": {
          "annotationdefaults": {
           "arrowcolor": "#2a3f5f",
           "arrowhead": 0,
           "arrowwidth": 1
          },
          "autotypenumbers": "strict",
          "coloraxis": {
           "colorbar": {
            "outlinewidth": 0,
            "ticks": ""
           }
          },
          "colorscale": {
           "diverging": [
            [
             0,
             "#8e0152"
            ],
            [
             0.1,
             "#c51b7d"
            ],
            [
             0.2,
             "#de77ae"
            ],
            [
             0.3,
             "#f1b6da"
            ],
            [
             0.4,
             "#fde0ef"
            ],
            [
             0.5,
             "#f7f7f7"
            ],
            [
             0.6,
             "#e6f5d0"
            ],
            [
             0.7,
             "#b8e186"
            ],
            [
             0.8,
             "#7fbc41"
            ],
            [
             0.9,
             "#4d9221"
            ],
            [
             1,
             "#276419"
            ]
           ],
           "sequential": [
            [
             0,
             "#0d0887"
            ],
            [
             0.1111111111111111,
             "#46039f"
            ],
            [
             0.2222222222222222,
             "#7201a8"
            ],
            [
             0.3333333333333333,
             "#9c179e"
            ],
            [
             0.4444444444444444,
             "#bd3786"
            ],
            [
             0.5555555555555556,
             "#d8576b"
            ],
            [
             0.6666666666666666,
             "#ed7953"
            ],
            [
             0.7777777777777778,
             "#fb9f3a"
            ],
            [
             0.8888888888888888,
             "#fdca26"
            ],
            [
             1,
             "#f0f921"
            ]
           ],
           "sequentialminus": [
            [
             0,
             "#0d0887"
            ],
            [
             0.1111111111111111,
             "#46039f"
            ],
            [
             0.2222222222222222,
             "#7201a8"
            ],
            [
             0.3333333333333333,
             "#9c179e"
            ],
            [
             0.4444444444444444,
             "#bd3786"
            ],
            [
             0.5555555555555556,
             "#d8576b"
            ],
            [
             0.6666666666666666,
             "#ed7953"
            ],
            [
             0.7777777777777778,
             "#fb9f3a"
            ],
            [
             0.8888888888888888,
             "#fdca26"
            ],
            [
             1,
             "#f0f921"
            ]
           ]
          },
          "colorway": [
           "#636efa",
           "#EF553B",
           "#00cc96",
           "#ab63fa",
           "#FFA15A",
           "#19d3f3",
           "#FF6692",
           "#B6E880",
           "#FF97FF",
           "#FECB52"
          ],
          "font": {
           "color": "#2a3f5f"
          },
          "geo": {
           "bgcolor": "white",
           "lakecolor": "white",
           "landcolor": "#E5ECF6",
           "showlakes": true,
           "showland": true,
           "subunitcolor": "white"
          },
          "hoverlabel": {
           "align": "left"
          },
          "hovermode": "closest",
          "mapbox": {
           "style": "light"
          },
          "paper_bgcolor": "white",
          "plot_bgcolor": "#E5ECF6",
          "polar": {
           "angularaxis": {
            "gridcolor": "white",
            "linecolor": "white",
            "ticks": ""
           },
           "bgcolor": "#E5ECF6",
           "radialaxis": {
            "gridcolor": "white",
            "linecolor": "white",
            "ticks": ""
           }
          },
          "scene": {
           "xaxis": {
            "backgroundcolor": "#E5ECF6",
            "gridcolor": "white",
            "gridwidth": 2,
            "linecolor": "white",
            "showbackground": true,
            "ticks": "",
            "zerolinecolor": "white"
           },
           "yaxis": {
            "backgroundcolor": "#E5ECF6",
            "gridcolor": "white",
            "gridwidth": 2,
            "linecolor": "white",
            "showbackground": true,
            "ticks": "",
            "zerolinecolor": "white"
           },
           "zaxis": {
            "backgroundcolor": "#E5ECF6",
            "gridcolor": "white",
            "gridwidth": 2,
            "linecolor": "white",
            "showbackground": true,
            "ticks": "",
            "zerolinecolor": "white"
           }
          },
          "shapedefaults": {
           "line": {
            "color": "#2a3f5f"
           }
          },
          "ternary": {
           "aaxis": {
            "gridcolor": "white",
            "linecolor": "white",
            "ticks": ""
           },
           "baxis": {
            "gridcolor": "white",
            "linecolor": "white",
            "ticks": ""
           },
           "bgcolor": "#E5ECF6",
           "caxis": {
            "gridcolor": "white",
            "linecolor": "white",
            "ticks": ""
           }
          },
          "title": {
           "x": 0.05
          },
          "xaxis": {
           "automargin": true,
           "gridcolor": "white",
           "linecolor": "white",
           "ticks": "",
           "title": {
            "standoff": 15
           },
           "zerolinecolor": "white",
           "zerolinewidth": 2
          },
          "yaxis": {
           "automargin": true,
           "gridcolor": "white",
           "linecolor": "white",
           "ticks": "",
           "title": {
            "standoff": 15
           },
           "zerolinecolor": "white",
           "zerolinewidth": 2
          }
         }
        },
        "title": {
         "font": {
          "size": 16
         },
         "subtitle": {
          "text": "Gemma 3 27B, Layer 32 - Shared Question Set, Mean-Centered and Scaled Vectors"
         },
         "text": "PCA on Trait Vectors",
         "x": 0.5
        },
        "width": 1200,
        "xaxis": {
         "anchor": "y",
         "domain": [
          0,
          1
         ],
         "range": [
          -0.7802561230765568,
          0.7802561230765568
         ]
        },
        "xaxis2": {
         "anchor": "y2",
         "domain": [
          0,
          1
         ],
         "range": [
          -39.4047022095981,
          39.4047022095981
         ]
        },
        "yaxis": {
         "anchor": "x",
         "domain": [
          0.55,
          1
         ],
         "range": [
          0,
          2.5
         ],
         "showticklabels": false
        },
        "yaxis2": {
         "anchor": "x2",
         "domain": [
          0,
          0.45
         ],
         "range": [
          0,
          2.5
         ],
         "showticklabels": false
        }
       }
      },
      "text/html": [
       "<div>                            <div id=\"e40dda5a-6866-4bdd-8a0b-104c74351728\" class=\"plotly-graph-div\" style=\"height:800px; width:1200px;\"></div>            <script type=\"text/javascript\">                require([\"plotly\"], function(Plotly) {                    window.PLOTLYENV=window.PLOTLYENV || {};                                    if (document.getElementById(\"e40dda5a-6866-4bdd-8a0b-104c74351728\")) {                    Plotly.newPlot(                        \"e40dda5a-6866-4bdd-8a0b-104c74351728\",                        [{\"hovertemplate\":\"\\u003cb\\u003e%{text}\\u003c\\u002fb\\u003e\\u003cbr\\u003eCosine Similarity: %{x:.3f}\\u003cextra\\u003e\\u003c\\u002fextra\\u003e\",\"marker\":{\"color\":\"limegreen\",\"line\":{\"color\":\"black\",\"width\":1},\"opacity\":1.0,\"size\":8,\"symbol\":\"diamond\"},\"mode\":\"markers\",\"showlegend\":false,\"text\":[\"Zealous\",\"Wry\",\"Witty\",\"Whimsical\",\"Visceral\",\"Vindictive\",\"Verbose\",\"Utilitarian\",\"Urgent\",\"Universalist\",\"Understated\",\"Transparent\",\"Traditional\",\"Theoretical\",\"Theatrical\",\"Temperamental\",\"Tactful\",\"Systems thinker\",\"Sycophantic\",\"Supportive\",\"Subversive\",\"Submissive\",\"Structuralist\",\"Stream of consciousness\",\"Strategic\",\"Stoic\",\"Spontaneous\",\"Spiritual\",\"Speculative\",\"Specialized\",\"Solemn\",\"Socratic\",\"Skeptical\",\"Serious\",\"Serene\",\"Secular\",\"Savage\",\"Sassy\",\"Sardonic\",\"Sarcastic\",\"Romantic\",\"Ritualistic\",\"Risk taking\",\"Rhetorical\",\"Reverent\",\"Resilient\",\"Reserved\",\"Relativist\",\"Regulatory\",\"Reductionist\",\"Rebellious\",\"Reactive\",\"Radical\",\"Quantitative\",\"Qualitative\",\"Provocative\",\"Progressive\",\"Problem solving\",\"Proactive\",\"Principled\",\"Practical\",\"Poetic\",\"Pluralist\",\"Playful\",\"Philosophical\",\"Petty\",\"Pessimistic\",\"Perfectionist\",\"Pensive\",\"Pedantic\",\"Patient\",\"Passive aggressive\",\"Passionate\",\"Paranoid\",\"Paradoxical\",\"Pacifist\",\"Obsessive\",\"Nurturing\",\"Nostalgic\",\"Nonchalant\",\"Nihilistic\",\"Neurotic\",\"Narrative\",\"Naive\",\"Mystical\",\"Moderate\",\"Mischievous\",\"Misanthropic\",\"Meticulous\",\"Methodical\",\"Metaphorical\",\"Mercurial\",\"Melodramatic\",\"Melancholic\",\"Meditative\",\"Materialist\",\"Manipulative\",\"Manic\",\"Literal\",\"Libertarian\",\"Judgmental\",\"Irreverent\",\"Ironic\",\"Introverted\",\"Introspective\",\"Interdisciplinary\",\"Inspirational\",\"Inquisitive\",\"Innovative\",\"Individualistic\",\"Independent\",\"Inclusive\",\"Impulsive\",\"Improvisational\",\"Impatient\",\"Idealistic\",\"Humble\",\"Hostile\",\"Holistic\",\"Historical\",\"Hedonistic\",\"Grounded\",\"Gregarious\",\"Goofy\",\"Generous\",\"Generalist\",\"Futuristic\",\"Fundamentalist\",\"Formalist\",\"Formal\",\"Flirty\",\"Flippant\",\"Flexible\",\"Fatalistic\",\"Factual\",\"Extroverted\",\"Exploratory\",\"Experiential\",\"Existentialist\",\"Evil\",\"Ethereal\",\"Essentialist\",\"Esoteric\",\"Erudite\",\"Epicurean\",\"Environmental\",\"Entertaining\",\"Enigmatic\",\"Empathetic\",\"Emotional\",\"Eloquent\",\"Elitist\",\"Egalitarian\",\"Effusive\",\"Efficient\",\"Educational\",\"Eclectic\",\"Earnest\",\"Dramatic\",\"Dominant\",\"Dogmatic\",\"Divergent\",\"Dispassionate\",\"Disorganized\",\"Deterministic\",\"Detached\",\"Descriptive\",\"Deontological\",\"Deferential\",\"Deconstructionist\",\"Decisive\",\"Data driven\",\"Curious\",\"Cryptic\",\"Cruel\",\"Critical\",\"Creative\",\"Cosmopolitan\",\"Convergent\",\"Contrarian\",\"Contemporary\",\"Constructivist\",\"Conscientious\",\"Confident\",\"Condescending\",\"Concise\",\"Conceptual\",\"Collectivistic\",\"Collaborative\",\"Closure seeking\",\"Circumspect\",\"Charismatic\",\"Chaotic\",\"Challenging\",\"Cautious\",\"Casual\",\"Calm\",\"Callous\",\"Calculating\",\"Bombastic\",\"Blunt\",\"Bitter\",\"Big picture\",\"Avoidant\",\"Assertive\",\"Ascetic\",\"Artistic\",\"Arrogant\",\"Anxious\",\"Anthropocentric\",\"Animated\",\"Analytical\",\"Agreeable\",\"Adventurous\",\"Adaptable\",\"Acerbic\",\"Accommodating\",\"Accessible\",\"Abstract\",\"Absolutist\"],\"x\":[0.15342882690670476,0.39142525007520734,0.021565140959107557,-0.28858917437975756,-0.07968789942876983,0.43248484784408303,0.06691139458726114,0.19211387223794052,0.38651303445657015,0.16587427602584257,-0.12885609561198616,0.08398835301095926,-0.14041539508457757,0.028599137229149647,0.12437528176078262,0.1169407533940418,-0.49869881691046775,-0.17530697845518575,-0.11212083847069752,-0.11180464688954952,-0.08832128256989148,-0.14654564232205616,0.28734584022663656,-0.24180149296989714,0.07506224596924187,0.105700695259065,-0.2936255978642861,-0.42368053817968954,-0.14027420274353924,0.3234282255194825,0.10312727753222545,-0.2072990840755797,0.15885463359280833,0.22361263711006102,-0.4560064893099247,0.20446658602751017,0.19795573083068238,0.39523183960102154,0.23212393317419697,0.13108259087658158,-0.44310536230286,0.26508185552884367,-0.07200085373650802,0.04702692967383539,-0.19521220999905547,-0.15091625657670021,-0.018636509152068676,-0.042088554118983997,0.07619803867219885,0.16974549132345848,-0.028987611966714948,-0.13611808829495972,0.23148583333384296,0.4353272135333596,-0.4959008575259186,0.22187676883224397,-0.027527182819101857,0.1407811883916132,0.07205151344507003,-0.16691086608068167,-0.08275261407039257,-0.06125758567681663,-0.43016674327778665,-0.30096445433600577,0.01537361798508267,0.23386459025815612,0.23697912697233692,0.22801719178039234,0.01958634805818171,0.38387801916537684,-0.21226531880043426,-0.030480871201821528,0.0793711981915188,0.34947991966845765,-0.30268598809047276,-0.19840109506637216,0.2775701694259936,-0.23553068038937483,-0.22697228441801715,-0.007638705567775061,0.30062495107340786,0.043188411445688156,-0.10456795086238341,-0.20966630026098396,-0.4512123810813394,-0.48378628949302277,-0.018280591205388143,0.3623407614199266,0.15988815802409445,0.23013771335537458,-0.04184709312416467,0.04124532851865743,0.130596871651398,0.304694713813147,-0.1872330982371324,0.35799251157936757,0.17246929674243427,0.0811790404474481,-0.028701411203661206,0.11379174270457491,0.40089538941241154,-0.04522317983203949,0.12079952676470962,0.13645161597792183,0.044555992973770456,-0.2540160571963964,-0.39332362700300705,-0.05929466195688447,0.030389440965080425,0.18338887578780158,-0.018726792228847055,-0.1556040501838884,-0.09524332530610558,-0.33260477694528456,-0.005227086428650332,-0.1620767204492464,-0.2937173540360091,0.1524522996930145,-0.08288734523558179,0.08574492918639172,-0.10292064360037052,0.07470529277693572,-0.2393329263784489,-0.10384428335701369,-0.15909499382670256,-0.42944735888343033,-0.04795831389000526,0.04377366389760731,0.3884017127603469,0.20991611053994155,-0.18333230396383757,-0.06049592631480158,-0.3074634607290746,0.018178123993066696,-0.15798305227158832,-0.2257348054276884,-0.01999472504208338,-0.2321729935287787,-0.19703521933515583,0.32126273563851654,-0.31130573117936344,0.1563797728114261,0.3650804801033063,0.1734019568369639,0.04177851941350062,-0.32690067527829453,-0.17734106410086584,-0.1588673689977722,-0.2373478549920415,-0.28890578403246936,0.047290251213141093,0.38195975286203676,-0.23234436656387863,-0.010190123888341207,-0.08911665519420701,0.011503866308970073,-0.08436368629452828,-0.1094950476982412,0.11098882676043384,0.3194408474020141,0.06238387772283153,0.04893058927094541,0.1686177617894,-0.08096866431905039,0.2790344926545901,0.3134455767971958,-0.051660923379674595,-0.040478202709059795,-0.38584338762576953,0.1115444957870448,0.11740524477228789,0.37264242680319076,-0.09034249808652167,-0.06722044195675334,0.21008851827224678,0.16803136857437873,0.0007605481405746109,-0.25135141467216826,0.13126468959510906,0.25548241722127246,-0.11387082914719886,-0.38682762429537104,0.06399708005956305,0.0608149470773048,0.18094391781292563,-0.08394285175947896,-0.10267579515602962,-0.3807661059175175,-0.3710035762923362,0.09326619617874335,-0.08219311379963164,-0.03216288627652369,-0.22341275530361573,0.1670238020425407,0.019995224988354363,-0.49234459017846105,-0.38402980801185643,0.11302802566066933,0.1059213466226106,0.3004035334478986,0.23097368392056317,0.30807262981293476,-0.09880774143273464,-0.07520064400740298,0.3059493293247612,-0.07646738579483381,-0.308596129385536,0.24074358762673664,0.10716198899139809,0.1346924846632545,-0.10024995996679262,0.17274319004131428,-0.2567210338042485,-0.09954000130049578,-0.014175953284726565,0.32115872837126175,-0.4860640036952389,-0.43553043404872543,-0.14272351931869556,0.2826609221034206],\"y\":[1,1,1,1,1,1,1,1,1,1,1,1,1,1,1,1,1,1,1,1,1,1,1,1,1,1,1,1,1,1,1,1,1,1,1,1,1,1,1,1,1,1,1,1,1,1,1,1,1,1,1,1,1,1,1,1,1,1,1,1,1,1,1,1,1,1,1,1,1,1,1,1,1,1,1,1,1,1,1,1,1,1,1,1,1,1,1,1,1,1,1,1,1,1,1,1,1,1,1,1,1,1,1,1,1,1,1,1,1,1,1,1,1,1,1,1,1,1,1,1,1,1,1,1,1,1,1,1,1,1,1,1,1,1,1,1,1,1,1,1,1,1,1,1,1,1,1,1,1,1,1,1,1,1,1,1,1,1,1,1,1,1,1,1,1,1,1,1,1,1,1,1,1,1,1,1,1,1,1,1,1,1,1,1,1,1,1,1,1,1,1,1,1,1,1,1,1,1,1,1,1,1,1,1,1,1,1,1,1,1,1,1,1,1,1,1,1,1,1,1],\"type\":\"scatter\",\"xaxis\":\"x\",\"yaxis\":\"y\"},{\"hovertemplate\":\"\\u003cb\\u003e%{text}\\u003c\\u002fb\\u003e\\u003cbr\\u003eCosine Similarity: %{x:.3f}\\u003cextra\\u003e\\u003c\\u002fextra\\u003e\",\"marker\":{\"color\":\"limegreen\",\"line\":{\"color\":\"black\",\"width\":1},\"opacity\":1.0,\"size\":8,\"symbol\":\"diamond\"},\"mode\":\"markers\",\"showlegend\":false,\"text\":[\"Technical\",\"Rationalist\",\"Prescriptive\",\"Optimistic\",\"Open ended\",\"Militant\",\"Intuitive\",\"Iconoclastic\",\"Humanistic\",\"Grandiose\",\"Forgiving\",\"Edgy\",\"Diplomatic\",\"Cynical\",\"Confrontational\",\"Conciliatory\",\"Competitive\",\"Chill\",\"Benevolent\",\"Altruistic\"],\"x\":[0.5043779053360472,0.4626313638939814,0.6185858755324427,-0.5666259490201292,-0.6460916717546443,0.5579205716767852,-0.5051766763441801,0.4402439429998509,-0.5895922827973763,0.44856107589045224,-0.6743542049741503,0.5019810041990933,-0.5202061759232404,0.4496984879279962,0.6488617189455282,-0.5755960482183766,0.4870342971339571,-0.5790853962374931,-0.7093237482514152,-0.5717236597935368],\"y\":[1,1,1,1,1,1,1,1,1,1,1,1,1,1,1,1,1,1,1,1],\"type\":\"scatter\",\"xaxis\":\"x\",\"yaxis\":\"y\"},{\"hoverinfo\":\"skip\",\"line\":{\"color\":\"black\",\"width\":1},\"mode\":\"lines\",\"showlegend\":false,\"x\":[-0.7093237482514152,-0.7093237482514152],\"y\":[1.0,1.45],\"type\":\"scatter\",\"xaxis\":\"x\",\"yaxis\":\"y\"},{\"hoverinfo\":\"skip\",\"line\":{\"color\":\"black\",\"width\":1},\"mode\":\"lines\",\"showlegend\":false,\"x\":[-0.6743542049741503,-0.6743542049741503],\"y\":[1.0,0.6],\"type\":\"scatter\",\"xaxis\":\"x\",\"yaxis\":\"y\"},{\"hoverinfo\":\"skip\",\"line\":{\"color\":\"black\",\"width\":1},\"mode\":\"lines\",\"showlegend\":false,\"x\":[-0.6460916717546443,-0.6460916717546443],\"y\":[1.0,1.9],\"type\":\"scatter\",\"xaxis\":\"x\",\"yaxis\":\"y\"},{\"hoverinfo\":\"skip\",\"line\":{\"color\":\"black\",\"width\":1},\"mode\":\"lines\",\"showlegend\":false,\"x\":[-0.5895922827973763,-0.5895922827973763],\"y\":[1.0,0.15],\"type\":\"scatter\",\"xaxis\":\"x\",\"yaxis\":\"y\"},{\"hoverinfo\":\"skip\",\"line\":{\"color\":\"black\",\"width\":1},\"mode\":\"lines\",\"showlegend\":false,\"x\":[-0.5790853962374931,-0.5790853962374931],\"y\":[1.0,1.6],\"type\":\"scatter\",\"xaxis\":\"x\",\"yaxis\":\"y\"},{\"hoverinfo\":\"skip\",\"line\":{\"color\":\"black\",\"width\":1},\"mode\":\"lines\",\"showlegend\":false,\"x\":[-0.5755960482183766,-0.5755960482183766],\"y\":[1.0,0.45],\"type\":\"scatter\",\"xaxis\":\"x\",\"yaxis\":\"y\"},{\"hoverinfo\":\"skip\",\"line\":{\"color\":\"black\",\"width\":1},\"mode\":\"lines\",\"showlegend\":false,\"x\":[-0.5717236597935368,-0.5717236597935368],\"y\":[1.0,1.3],\"type\":\"scatter\",\"xaxis\":\"x\",\"yaxis\":\"y\"},{\"hoverinfo\":\"skip\",\"line\":{\"color\":\"black\",\"width\":1},\"mode\":\"lines\",\"showlegend\":false,\"x\":[-0.5666259490201292,-0.5666259490201292],\"y\":[1.0,0.75],\"type\":\"scatter\",\"xaxis\":\"x\",\"yaxis\":\"y\"},{\"hoverinfo\":\"skip\",\"line\":{\"color\":\"black\",\"width\":1},\"mode\":\"lines\",\"showlegend\":false,\"x\":[-0.5202061759232404,-0.5202061759232404],\"y\":[1.0,1.75],\"type\":\"scatter\",\"xaxis\":\"x\",\"yaxis\":\"y\"},{\"hoverinfo\":\"skip\",\"line\":{\"color\":\"black\",\"width\":1},\"mode\":\"lines\",\"showlegend\":false,\"x\":[-0.5051766763441801,-0.5051766763441801],\"y\":[1.0,0.3],\"type\":\"scatter\",\"xaxis\":\"x\",\"yaxis\":\"y\"},{\"hoverinfo\":\"skip\",\"line\":{\"color\":\"black\",\"width\":1},\"mode\":\"lines\",\"showlegend\":false,\"x\":[0.4402439429998509,0.4402439429998509],\"y\":[1.0,1.45],\"type\":\"scatter\",\"xaxis\":\"x\",\"yaxis\":\"y\"},{\"hoverinfo\":\"skip\",\"line\":{\"color\":\"black\",\"width\":1},\"mode\":\"lines\",\"showlegend\":false,\"x\":[0.44856107589045224,0.44856107589045224],\"y\":[1.0,0.6],\"type\":\"scatter\",\"xaxis\":\"x\",\"yaxis\":\"y\"},{\"hoverinfo\":\"skip\",\"line\":{\"color\":\"black\",\"width\":1},\"mode\":\"lines\",\"showlegend\":false,\"x\":[0.4496984879279962,0.4496984879279962],\"y\":[1.0,1.9],\"type\":\"scatter\",\"xaxis\":\"x\",\"yaxis\":\"y\"},{\"hoverinfo\":\"skip\",\"line\":{\"color\":\"black\",\"width\":1},\"mode\":\"lines\",\"showlegend\":false,\"x\":[0.4626313638939814,0.4626313638939814],\"y\":[1.0,0.15],\"type\":\"scatter\",\"xaxis\":\"x\",\"yaxis\":\"y\"},{\"hoverinfo\":\"skip\",\"line\":{\"color\":\"black\",\"width\":1},\"mode\":\"lines\",\"showlegend\":false,\"x\":[0.4870342971339571,0.4870342971339571],\"y\":[1.0,1.6],\"type\":\"scatter\",\"xaxis\":\"x\",\"yaxis\":\"y\"},{\"hoverinfo\":\"skip\",\"line\":{\"color\":\"black\",\"width\":1},\"mode\":\"lines\",\"showlegend\":false,\"x\":[0.5019810041990933,0.5019810041990933],\"y\":[1.0,0.45],\"type\":\"scatter\",\"xaxis\":\"x\",\"yaxis\":\"y\"},{\"hoverinfo\":\"skip\",\"line\":{\"color\":\"black\",\"width\":1},\"mode\":\"lines\",\"showlegend\":false,\"x\":[0.5043779053360472,0.5043779053360472],\"y\":[1.0,1.3],\"type\":\"scatter\",\"xaxis\":\"x\",\"yaxis\":\"y\"},{\"hoverinfo\":\"skip\",\"line\":{\"color\":\"black\",\"width\":1},\"mode\":\"lines\",\"showlegend\":false,\"x\":[0.5579205716767852,0.5579205716767852],\"y\":[1.0,0.75],\"type\":\"scatter\",\"xaxis\":\"x\",\"yaxis\":\"y\"},{\"hoverinfo\":\"skip\",\"line\":{\"color\":\"black\",\"width\":1},\"mode\":\"lines\",\"showlegend\":false,\"x\":[0.6185858755324427,0.6185858755324427],\"y\":[1.0,1.75],\"type\":\"scatter\",\"xaxis\":\"x\",\"yaxis\":\"y\"},{\"hoverinfo\":\"skip\",\"line\":{\"color\":\"black\",\"width\":1},\"mode\":\"lines\",\"showlegend\":false,\"x\":[0.6488617189455282,0.6488617189455282],\"y\":[1.0,0.3],\"type\":\"scatter\",\"xaxis\":\"x\",\"yaxis\":\"y\"},{\"hoverinfo\":\"skip\",\"marker\":{\"color\":\"limegreen\"},\"opacity\":0.7,\"showlegend\":false,\"width\":0.03621827912525184,\"x\":[-0.6866873237981328,-0.641414474891568,-0.5961416259850032,-0.5508687770784384,-0.5055959281718736,-0.4603230792653089,-0.4150502303587441,-0.3697773814521793,-0.3245045325456145,-0.2792316836390497,-0.23395883473248494,-0.1886859858259202,-0.14341313691935542,-0.09814028801279062,-0.05286743910622582,-0.007594590199661022,0.03767825870690378,0.08295110761346858,0.12822395652003338,0.17349680542659818,0.21876965433316292,0.26404250323972767,0.3093153521462925,0.35458820105285727,0.39986104995942195,0.44513389886598675,0.49040674777255155,0.5356795966791164,0.5809524455856812,0.626225294492246],\"y\":[0.0782608695652174,0.0391304347826087,0.11739130434782609,0.0782608695652174,0.2739130434782609,0.11739130434782609,0.1956521739130435,0.1956521739130435,0.23478260869565218,0.23478260869565218,0.46956521739130436,0.391304347826087,0.46956521739130436,0.9,0.5478260869565218,0.508695652173913,0.5869565217391305,0.5478260869565218,0.6652173913043478,0.6260869565217392,0.5478260869565218,0.1956521739130435,0.43043478260869567,0.1956521739130435,0.2739130434782609,0.23478260869565218,0.11739130434782609,0.0391304347826087,0.0,0.0782608695652174],\"type\":\"bar\",\"xaxis\":\"x\",\"yaxis\":\"y\"},{\"hovertemplate\":\"\\u003cb\\u003e%{text}\\u003c\\u002fb\\u003e\\u003cbr\\u003ePC Projection: %{x:.3f}\\u003cextra\\u003e\\u003c\\u002fextra\\u003e\",\"marker\":{\"color\":\"limegreen\",\"line\":{\"color\":\"black\",\"width\":1},\"opacity\":1.0,\"size\":8,\"symbol\":\"diamond\"},\"mode\":\"markers\",\"showlegend\":false,\"text\":[\"Zealous\",\"Wry\",\"Witty\",\"Whimsical\",\"Visceral\",\"Vindictive\",\"Verbose\",\"Utilitarian\",\"Urgent\",\"Universalist\",\"Understated\",\"Transparent\",\"Traditional\",\"Theoretical\",\"Theatrical\",\"Temperamental\",\"Tactful\",\"Systems thinker\",\"Sycophantic\",\"Supportive\",\"Subversive\",\"Submissive\",\"Structuralist\",\"Stream of consciousness\",\"Strategic\",\"Stoic\",\"Spontaneous\",\"Speculative\",\"Specialized\",\"Solemn\",\"Socratic\",\"Skeptical\",\"Serious\",\"Serene\",\"Secular\",\"Savage\",\"Sassy\",\"Sardonic\",\"Sarcastic\",\"Ritualistic\",\"Risk taking\",\"Rhetorical\",\"Reverent\",\"Resilient\",\"Reserved\",\"Relativist\",\"Regulatory\",\"Reductionist\",\"Rebellious\",\"Reactive\",\"Rationalist\",\"Radical\",\"Provocative\",\"Progressive\",\"Problem solving\",\"Proactive\",\"Principled\",\"Practical\",\"Poetic\",\"Pluralist\",\"Playful\",\"Philosophical\",\"Petty\",\"Pessimistic\",\"Perfectionist\",\"Pensive\",\"Patient\",\"Passive aggressive\",\"Passionate\",\"Paranoid\",\"Paradoxical\",\"Pacifist\",\"Obsessive\",\"Nurturing\",\"Nostalgic\",\"Nonchalant\",\"Nihilistic\",\"Neurotic\",\"Narrative\",\"Naive\",\"Moderate\",\"Mischievous\",\"Misanthropic\",\"Meticulous\",\"Methodical\",\"Metaphorical\",\"Mercurial\",\"Melodramatic\",\"Melancholic\",\"Meditative\",\"Materialist\",\"Manipulative\",\"Manic\",\"Literal\",\"Libertarian\",\"Judgmental\",\"Irreverent\",\"Ironic\",\"Intuitive\",\"Introverted\",\"Introspective\",\"Interdisciplinary\",\"Inspirational\",\"Inquisitive\",\"Innovative\",\"Individualistic\",\"Independent\",\"Inclusive\",\"Impulsive\",\"Improvisational\",\"Impatient\",\"Idealistic\",\"Iconoclastic\",\"Humble\",\"Hostile\",\"Holistic\",\"Historical\",\"Hedonistic\",\"Grounded\",\"Gregarious\",\"Grandiose\",\"Goofy\",\"Generous\",\"Generalist\",\"Futuristic\",\"Fundamentalist\",\"Formalist\",\"Formal\",\"Flirty\",\"Flippant\",\"Flexible\",\"Fatalistic\",\"Factual\",\"Extroverted\",\"Exploratory\",\"Experiential\",\"Existentialist\",\"Evil\",\"Ethereal\",\"Essentialist\",\"Esoteric\",\"Erudite\",\"Epicurean\",\"Environmental\",\"Entertaining\",\"Enigmatic\",\"Empathetic\",\"Emotional\",\"Eloquent\",\"Elitist\",\"Egalitarian\",\"Effusive\",\"Efficient\",\"Educational\",\"Edgy\",\"Eclectic\",\"Earnest\",\"Dramatic\",\"Dominant\",\"Dogmatic\",\"Divergent\",\"Dispassionate\",\"Disorganized\",\"Diplomatic\",\"Deterministic\",\"Descriptive\",\"Deontological\",\"Deferential\",\"Deconstructionist\",\"Decisive\",\"Data driven\",\"Cynical\",\"Curious\",\"Cryptic\",\"Cruel\",\"Critical\",\"Creative\",\"Cosmopolitan\",\"Convergent\",\"Contrarian\",\"Contemporary\",\"Constructivist\",\"Conscientious\",\"Confident\",\"Condescending\",\"Concise\",\"Conciliatory\",\"Conceptual\",\"Collectivistic\",\"Collaborative\",\"Closure seeking\",\"Circumspect\",\"Chill\",\"Charismatic\",\"Chaotic\",\"Challenging\",\"Cautious\",\"Casual\",\"Calm\",\"Callous\",\"Calculating\",\"Blunt\",\"Bitter\",\"Big picture\",\"Avoidant\",\"Assertive\",\"Ascetic\",\"Artistic\",\"Arrogant\",\"Anxious\",\"Anthropocentric\",\"Animated\",\"Analytical\",\"Agreeable\",\"Adventurous\",\"Adaptable\",\"Accommodating\",\"Accessible\",\"Abstract\",\"Absolutist\"],\"x\":[10.188613117267835,16.472345797734278,1.7161243681779719,-13.969320547019533,-6.8302243697167,18.871229786783942,6.8309196456838865,8.505558383156949,19.88539853020765,9.07477839084259,-15.9092557193952,9.658931045156315,-8.978636923148601,1.286076756762836,15.712566730368376,7.6576208928905904,-23.737275405517245,-10.160698760145477,-14.366245543897843,-12.30690803587775,-3.2956866563557816,-13.11431665437364,13.791665285711147,-10.600899404482966,7.019684670484488,7.864389960735391,-12.687413977201542,-6.983576823386133,21.397141571570288,4.38896765369358,-19.030312805806144,14.792794799430206,14.09205227796278,-22.53100223802988,12.508024852809868,18.466959614401034,13.89328327927173,15.655910252773628,11.414470236745807,15.947218162486111,-2.8575786317490763,4.406392316198885,-9.460212894938698,-8.090187742914567,-2.599206110468209,-2.3154131643167983,3.797305324355927,7.823315849361345,-1.456628400701735,-17.581195551729902,23.452450848193045,11.036171717078869,15.94984899151249,-1.218571358345307,10.988000070216659,10.359524601361509,-6.663600326250582,-5.168215187165343,-3.90405829722608,-16.268494223502447,-13.585596136286204,1.3245142084763986,12.98913301198618,14.917510783515269,18.818162837338225,2.230483790851925,-13.375064098102483,-2.2993765651947418,6.48778763486012,14.851002186526607,-12.239436296793755,-9.548765639341548,13.492821626701613,-23.22316113548173,-12.159076690855533,-0.9972583572602429,21.737024380944412,2.3527739389178244,-6.135309076680928,-24.579793738716496,-22.726459978138426,-0.8630816265312715,23.83743431709513,18.966871750945796,11.654558983245957,-4.082125610672168,2.052493161891009,11.565511175101735,15.187367772287944,-19.342039694494076,19.436534996973975,9.822656107934275,5.144764206561269,-3.6227337714395484,6.101959836080423,22.70144160966611,-3.543707410336043,5.4312023329676675,-26.160685851640565,6.09683993910278,5.646709587495939,-8.359256583850156,-22.070239647217747,-3.4624245478735367,1.3221652173527352,5.730572194784768,-0.7301666926471074,-9.186938090176527,-16.50898214327764,-21.0606181245127,-0.6726918833949346,-8.398448975850139,19.153940054247457,-15.62735781464467,16.250599570669003,-5.172636529427602,4.19343286637131,-8.113061013892844,4.144591739393125,-14.292280621568972,18.813275489968234,-6.020410995762121,-11.339673159162567,-16.205951581759283,-2.1970059192595466,4.764555889331399,19.41192477851406,9.255819562200083,-10.330945705967132,-8.296748276403742,-17.867493572444236,1.2518423943768275,-7.55642010363086,-8.828646810228676,-1.8909278073418507,-11.327535453875523,-10.023771401407226,19.966087247512952,-20.03461581101298,9.002446399515808,23.060935527826175,15.046939188918659,2.8085959594098737,-17.061277564052716,-10.525141112840098,-10.400106234115212,-20.436897602837334,-20.770443896539874,5.6408672639430835,23.382093231581955,-10.624287024761758,-0.9400062520286036,-13.24575560712804,0.9529506026606663,23.819807161044814,-5.164268623281571,-8.184195137143119,13.110937129914854,19.06296612057994,5.76499617885649,5.750905839074848,14.742757921060441,-5.638386566072155,-24.840936394870297,17.31092227899858,-3.430668112381421,-2.209119569936628,-16.2713284322825,10.008191839548115,9.480989400642972,21.036255174215814,23.495486833055534,-7.319574381771134,-3.02915224393193,20.808252180431868,11.639738784285338,0.05926786101171092,-11.997466037375915,5.187076858894238,12.877605548733557,-6.08837008219923,-21.191926411680846,5.977165701546355,6.302341539961374,11.320573757713149,-13.217439762611717,-25.497868168496353,-5.260624956938158,-17.345823373697304,-17.696600518073893,8.283067412439262,-6.820675214027368,-26.893023240592584,-3.194716272719481,-9.886149941429508,12.280311865448512,1.2384957463000172,-19.40627705763681,-22.91650240118231,16.272300056793167,11.509959396523104,16.607011765879797,19.73848356275241,-4.523487630582346,-5.207188477292775,14.697735962426247,-4.277860532400736,-20.346279638379798,19.580124621541433,5.753640790122859,5.593358919520023,-7.678899753847745,18.14383256231429,-19.85204023135829,-4.51211764168469,-1.7178634483297917,-15.531164666840095,-26.181040588173484,-7.050362917822688,15.661977450230301],\"y\":[1,1,1,1,1,1,1,1,1,1,1,1,1,1,1,1,1,1,1,1,1,1,1,1,1,1,1,1,1,1,1,1,1,1,1,1,1,1,1,1,1,1,1,1,1,1,1,1,1,1,1,1,1,1,1,1,1,1,1,1,1,1,1,1,1,1,1,1,1,1,1,1,1,1,1,1,1,1,1,1,1,1,1,1,1,1,1,1,1,1,1,1,1,1,1,1,1,1,1,1,1,1,1,1,1,1,1,1,1,1,1,1,1,1,1,1,1,1,1,1,1,1,1,1,1,1,1,1,1,1,1,1,1,1,1,1,1,1,1,1,1,1,1,1,1,1,1,1,1,1,1,1,1,1,1,1,1,1,1,1,1,1,1,1,1,1,1,1,1,1,1,1,1,1,1,1,1,1,1,1,1,1,1,1,1,1,1,1,1,1,1,1,1,1,1,1,1,1,1,1,1,1,1,1,1,1,1,1,1,1,1,1,1,1,1,1,1,1,1,1],\"type\":\"scatter\",\"xaxis\":\"x2\",\"yaxis\":\"y2\"},{\"hovertemplate\":\"\\u003cb\\u003e%{text}\\u003c\\u002fb\\u003e\\u003cbr\\u003ePC Projection: %{x:.3f}\\u003cextra\\u003e\\u003c\\u002fextra\\u003e\",\"marker\":{\"color\":\"limegreen\",\"line\":{\"color\":\"black\",\"width\":1},\"opacity\":1.0,\"size\":8,\"symbol\":\"diamond\"},\"mode\":\"markers\",\"showlegend\":false,\"text\":[\"Technical\",\"Spiritual\",\"Romantic\",\"Quantitative\",\"Qualitative\",\"Prescriptive\",\"Pedantic\",\"Optimistic\",\"Open ended\",\"Mystical\",\"Militant\",\"Humanistic\",\"Forgiving\",\"Detached\",\"Confrontational\",\"Competitive\",\"Bombastic\",\"Benevolent\",\"Altruistic\",\"Acerbic\"],\"x\":[25.635469121976286,-27.4010067946278,-28.736632938772342,24.837901514159142,-28.191692453401718,32.42097296783844,26.08076726878472,-29.98335638523396,-28.932309613840385,-27.263993217281598,32.47841823707409,-30.379078366124748,-30.01479453225588,24.11983708534834,24.189108599718953,31.489762986365324,24.08205803292276,-35.822456554180086,-27.770153403260764,24.665079505062565],\"y\":[1,1,1,1,1,1,1,1,1,1,1,1,1,1,1,1,1,1,1,1],\"type\":\"scatter\",\"xaxis\":\"x2\",\"yaxis\":\"y2\"},{\"hoverinfo\":\"skip\",\"line\":{\"color\":\"black\",\"width\":1},\"mode\":\"lines\",\"showlegend\":false,\"x\":[-35.822456554180086,-35.822456554180086],\"y\":[1.0,1.45],\"type\":\"scatter\",\"xaxis\":\"x2\",\"yaxis\":\"y2\"},{\"hoverinfo\":\"skip\",\"line\":{\"color\":\"black\",\"width\":1},\"mode\":\"lines\",\"showlegend\":false,\"x\":[-30.379078366124748,-30.379078366124748],\"y\":[1.0,0.6],\"type\":\"scatter\",\"xaxis\":\"x2\",\"yaxis\":\"y2\"},{\"hoverinfo\":\"skip\",\"line\":{\"color\":\"black\",\"width\":1},\"mode\":\"lines\",\"showlegend\":false,\"x\":[-30.01479453225588,-30.01479453225588],\"y\":[1.0,1.9],\"type\":\"scatter\",\"xaxis\":\"x2\",\"yaxis\":\"y2\"},{\"hoverinfo\":\"skip\",\"line\":{\"color\":\"black\",\"width\":1},\"mode\":\"lines\",\"showlegend\":false,\"x\":[-29.98335638523396,-29.98335638523396],\"y\":[1.0,0.15],\"type\":\"scatter\",\"xaxis\":\"x2\",\"yaxis\":\"y2\"},{\"hoverinfo\":\"skip\",\"line\":{\"color\":\"black\",\"width\":1},\"mode\":\"lines\",\"showlegend\":false,\"x\":[-28.932309613840385,-28.932309613840385],\"y\":[1.0,1.6],\"type\":\"scatter\",\"xaxis\":\"x2\",\"yaxis\":\"y2\"},{\"hoverinfo\":\"skip\",\"line\":{\"color\":\"black\",\"width\":1},\"mode\":\"lines\",\"showlegend\":false,\"x\":[-28.736632938772342,-28.736632938772342],\"y\":[1.0,0.45],\"type\":\"scatter\",\"xaxis\":\"x2\",\"yaxis\":\"y2\"},{\"hoverinfo\":\"skip\",\"line\":{\"color\":\"black\",\"width\":1},\"mode\":\"lines\",\"showlegend\":false,\"x\":[-28.191692453401718,-28.191692453401718],\"y\":[1.0,1.3],\"type\":\"scatter\",\"xaxis\":\"x2\",\"yaxis\":\"y2\"},{\"hoverinfo\":\"skip\",\"line\":{\"color\":\"black\",\"width\":1},\"mode\":\"lines\",\"showlegend\":false,\"x\":[-27.770153403260764,-27.770153403260764],\"y\":[1.0,0.75],\"type\":\"scatter\",\"xaxis\":\"x2\",\"yaxis\":\"y2\"},{\"hoverinfo\":\"skip\",\"line\":{\"color\":\"black\",\"width\":1},\"mode\":\"lines\",\"showlegend\":false,\"x\":[-27.4010067946278,-27.4010067946278],\"y\":[1.0,1.75],\"type\":\"scatter\",\"xaxis\":\"x2\",\"yaxis\":\"y2\"},{\"hoverinfo\":\"skip\",\"line\":{\"color\":\"black\",\"width\":1},\"mode\":\"lines\",\"showlegend\":false,\"x\":[-27.263993217281598,-27.263993217281598],\"y\":[1.0,0.3],\"type\":\"scatter\",\"xaxis\":\"x2\",\"yaxis\":\"y2\"},{\"hoverinfo\":\"skip\",\"line\":{\"color\":\"black\",\"width\":1},\"mode\":\"lines\",\"showlegend\":false,\"x\":[24.08205803292276,24.08205803292276],\"y\":[1.0,1.45],\"type\":\"scatter\",\"xaxis\":\"x2\",\"yaxis\":\"y2\"},{\"hoverinfo\":\"skip\",\"line\":{\"color\":\"black\",\"width\":1},\"mode\":\"lines\",\"showlegend\":false,\"x\":[24.11983708534834,24.11983708534834],\"y\":[1.0,0.6],\"type\":\"scatter\",\"xaxis\":\"x2\",\"yaxis\":\"y2\"},{\"hoverinfo\":\"skip\",\"line\":{\"color\":\"black\",\"width\":1},\"mode\":\"lines\",\"showlegend\":false,\"x\":[24.189108599718953,24.189108599718953],\"y\":[1.0,1.9],\"type\":\"scatter\",\"xaxis\":\"x2\",\"yaxis\":\"y2\"},{\"hoverinfo\":\"skip\",\"line\":{\"color\":\"black\",\"width\":1},\"mode\":\"lines\",\"showlegend\":false,\"x\":[24.665079505062565,24.665079505062565],\"y\":[1.0,0.15],\"type\":\"scatter\",\"xaxis\":\"x2\",\"yaxis\":\"y2\"},{\"hoverinfo\":\"skip\",\"line\":{\"color\":\"black\",\"width\":1},\"mode\":\"lines\",\"showlegend\":false,\"x\":[24.837901514159142,24.837901514159142],\"y\":[1.0,1.6],\"type\":\"scatter\",\"xaxis\":\"x2\",\"yaxis\":\"y2\"},{\"hoverinfo\":\"skip\",\"line\":{\"color\":\"black\",\"width\":1},\"mode\":\"lines\",\"showlegend\":false,\"x\":[25.635469121976286,25.635469121976286],\"y\":[1.0,0.45],\"type\":\"scatter\",\"xaxis\":\"x2\",\"yaxis\":\"y2\"},{\"hoverinfo\":\"skip\",\"line\":{\"color\":\"black\",\"width\":1},\"mode\":\"lines\",\"showlegend\":false,\"x\":[26.08076726878472,26.08076726878472],\"y\":[1.0,1.3],\"type\":\"scatter\",\"xaxis\":\"x2\",\"yaxis\":\"y2\"},{\"hoverinfo\":\"skip\",\"line\":{\"color\":\"black\",\"width\":1},\"mode\":\"lines\",\"showlegend\":false,\"x\":[31.489762986365324,31.489762986365324],\"y\":[1.0,0.75],\"type\":\"scatter\",\"xaxis\":\"x2\",\"yaxis\":\"y2\"},{\"hoverinfo\":\"skip\",\"line\":{\"color\":\"black\",\"width\":1},\"mode\":\"lines\",\"showlegend\":false,\"x\":[32.42097296783844,32.42097296783844],\"y\":[1.0,1.75],\"type\":\"scatter\",\"xaxis\":\"x2\",\"yaxis\":\"y2\"},{\"hoverinfo\":\"skip\",\"line\":{\"color\":\"black\",\"width\":1},\"mode\":\"lines\",\"showlegend\":false,\"x\":[32.47841823707409,32.47841823707409],\"y\":[1.0,0.3],\"type\":\"scatter\",\"xaxis\":\"x2\",\"yaxis\":\"y2\"},{\"hoverinfo\":\"skip\",\"marker\":{\"color\":\"limegreen\"},\"opacity\":0.7,\"showlegend\":false,\"width\":1.8213566611001113,\"x\":[-34.68410864099252,-32.40741281461737,-30.130716988242238,-27.8540211618671,-25.57732533549196,-23.30062950911682,-21.02393368274168,-18.747237856366542,-16.470542029991403,-14.193846203616264,-11.917150377241125,-9.640454550865986,-7.363758724490847,-5.0870628981157076,-2.8103670717405684,-0.5336712453654293,1.7430245810097098,4.019720407384849,6.296416233759988,8.573112060135127,10.849807886510266,13.126503712885405,15.403199539260545,17.679895365635684,19.956591192010823,22.233287018385962,24.5099828447611,26.78667867113624,29.063374497511383,31.340070323886522],\"y\":[0.05625,0.0,0.16875,0.39375,0.28125,0.28125,0.39375,0.3375,0.5625,0.45,0.39375,0.7312500000000001,0.7875,0.7312500000000001,0.9,0.45,0.61875,0.39375,0.9,0.5625,0.675,0.50625,0.84375,0.3375,0.675,0.225,0.61875,0.05625,0.0,0.16875],\"type\":\"bar\",\"xaxis\":\"x2\",\"yaxis\":\"y2\"}],                        {\"template\":{\"data\":{\"histogram2dcontour\":[{\"type\":\"histogram2dcontour\",\"colorbar\":{\"outlinewidth\":0,\"ticks\":\"\"},\"colorscale\":[[0.0,\"#0d0887\"],[0.1111111111111111,\"#46039f\"],[0.2222222222222222,\"#7201a8\"],[0.3333333333333333,\"#9c179e\"],[0.4444444444444444,\"#bd3786\"],[0.5555555555555556,\"#d8576b\"],[0.6666666666666666,\"#ed7953\"],[0.7777777777777778,\"#fb9f3a\"],[0.8888888888888888,\"#fdca26\"],[1.0,\"#f0f921\"]]}],\"choropleth\":[{\"type\":\"choropleth\",\"colorbar\":{\"outlinewidth\":0,\"ticks\":\"\"}}],\"histogram2d\":[{\"type\":\"histogram2d\",\"colorbar\":{\"outlinewidth\":0,\"ticks\":\"\"},\"colorscale\":[[0.0,\"#0d0887\"],[0.1111111111111111,\"#46039f\"],[0.2222222222222222,\"#7201a8\"],[0.3333333333333333,\"#9c179e\"],[0.4444444444444444,\"#bd3786\"],[0.5555555555555556,\"#d8576b\"],[0.6666666666666666,\"#ed7953\"],[0.7777777777777778,\"#fb9f3a\"],[0.8888888888888888,\"#fdca26\"],[1.0,\"#f0f921\"]]}],\"heatmap\":[{\"type\":\"heatmap\",\"colorbar\":{\"outlinewidth\":0,\"ticks\":\"\"},\"colorscale\":[[0.0,\"#0d0887\"],[0.1111111111111111,\"#46039f\"],[0.2222222222222222,\"#7201a8\"],[0.3333333333333333,\"#9c179e\"],[0.4444444444444444,\"#bd3786\"],[0.5555555555555556,\"#d8576b\"],[0.6666666666666666,\"#ed7953\"],[0.7777777777777778,\"#fb9f3a\"],[0.8888888888888888,\"#fdca26\"],[1.0,\"#f0f921\"]]}],\"heatmapgl\":[{\"type\":\"heatmapgl\",\"colorbar\":{\"outlinewidth\":0,\"ticks\":\"\"},\"colorscale\":[[0.0,\"#0d0887\"],[0.1111111111111111,\"#46039f\"],[0.2222222222222222,\"#7201a8\"],[0.3333333333333333,\"#9c179e\"],[0.4444444444444444,\"#bd3786\"],[0.5555555555555556,\"#d8576b\"],[0.6666666666666666,\"#ed7953\"],[0.7777777777777778,\"#fb9f3a\"],[0.8888888888888888,\"#fdca26\"],[1.0,\"#f0f921\"]]}],\"contourcarpet\":[{\"type\":\"contourcarpet\",\"colorbar\":{\"outlinewidth\":0,\"ticks\":\"\"}}],\"contour\":[{\"type\":\"contour\",\"colorbar\":{\"outlinewidth\":0,\"ticks\":\"\"},\"colorscale\":[[0.0,\"#0d0887\"],[0.1111111111111111,\"#46039f\"],[0.2222222222222222,\"#7201a8\"],[0.3333333333333333,\"#9c179e\"],[0.4444444444444444,\"#bd3786\"],[0.5555555555555556,\"#d8576b\"],[0.6666666666666666,\"#ed7953\"],[0.7777777777777778,\"#fb9f3a\"],[0.8888888888888888,\"#fdca26\"],[1.0,\"#f0f921\"]]}],\"surface\":[{\"type\":\"surface\",\"colorbar\":{\"outlinewidth\":0,\"ticks\":\"\"},\"colorscale\":[[0.0,\"#0d0887\"],[0.1111111111111111,\"#46039f\"],[0.2222222222222222,\"#7201a8\"],[0.3333333333333333,\"#9c179e\"],[0.4444444444444444,\"#bd3786\"],[0.5555555555555556,\"#d8576b\"],[0.6666666666666666,\"#ed7953\"],[0.7777777777777778,\"#fb9f3a\"],[0.8888888888888888,\"#fdca26\"],[1.0,\"#f0f921\"]]}],\"mesh3d\":[{\"type\":\"mesh3d\",\"colorbar\":{\"outlinewidth\":0,\"ticks\":\"\"}}],\"scatter\":[{\"fillpattern\":{\"fillmode\":\"overlay\",\"size\":10,\"solidity\":0.2},\"type\":\"scatter\"}],\"parcoords\":[{\"type\":\"parcoords\",\"line\":{\"colorbar\":{\"outlinewidth\":0,\"ticks\":\"\"}}}],\"scatterpolargl\":[{\"type\":\"scatterpolargl\",\"marker\":{\"colorbar\":{\"outlinewidth\":0,\"ticks\":\"\"}}}],\"bar\":[{\"error_x\":{\"color\":\"#2a3f5f\"},\"error_y\":{\"color\":\"#2a3f5f\"},\"marker\":{\"line\":{\"color\":\"#E5ECF6\",\"width\":0.5},\"pattern\":{\"fillmode\":\"overlay\",\"size\":10,\"solidity\":0.2}},\"type\":\"bar\"}],\"scattergeo\":[{\"type\":\"scattergeo\",\"marker\":{\"colorbar\":{\"outlinewidth\":0,\"ticks\":\"\"}}}],\"scatterpolar\":[{\"type\":\"scatterpolar\",\"marker\":{\"colorbar\":{\"outlinewidth\":0,\"ticks\":\"\"}}}],\"histogram\":[{\"marker\":{\"pattern\":{\"fillmode\":\"overlay\",\"size\":10,\"solidity\":0.2}},\"type\":\"histogram\"}],\"scattergl\":[{\"type\":\"scattergl\",\"marker\":{\"colorbar\":{\"outlinewidth\":0,\"ticks\":\"\"}}}],\"scatter3d\":[{\"type\":\"scatter3d\",\"line\":{\"colorbar\":{\"outlinewidth\":0,\"ticks\":\"\"}},\"marker\":{\"colorbar\":{\"outlinewidth\":0,\"ticks\":\"\"}}}],\"scattermapbox\":[{\"type\":\"scattermapbox\",\"marker\":{\"colorbar\":{\"outlinewidth\":0,\"ticks\":\"\"}}}],\"scatterternary\":[{\"type\":\"scatterternary\",\"marker\":{\"colorbar\":{\"outlinewidth\":0,\"ticks\":\"\"}}}],\"scattercarpet\":[{\"type\":\"scattercarpet\",\"marker\":{\"colorbar\":{\"outlinewidth\":0,\"ticks\":\"\"}}}],\"carpet\":[{\"aaxis\":{\"endlinecolor\":\"#2a3f5f\",\"gridcolor\":\"white\",\"linecolor\":\"white\",\"minorgridcolor\":\"white\",\"startlinecolor\":\"#2a3f5f\"},\"baxis\":{\"endlinecolor\":\"#2a3f5f\",\"gridcolor\":\"white\",\"linecolor\":\"white\",\"minorgridcolor\":\"white\",\"startlinecolor\":\"#2a3f5f\"},\"type\":\"carpet\"}],\"table\":[{\"cells\":{\"fill\":{\"color\":\"#EBF0F8\"},\"line\":{\"color\":\"white\"}},\"header\":{\"fill\":{\"color\":\"#C8D4E3\"},\"line\":{\"color\":\"white\"}},\"type\":\"table\"}],\"barpolar\":[{\"marker\":{\"line\":{\"color\":\"#E5ECF6\",\"width\":0.5},\"pattern\":{\"fillmode\":\"overlay\",\"size\":10,\"solidity\":0.2}},\"type\":\"barpolar\"}],\"pie\":[{\"automargin\":true,\"type\":\"pie\"}]},\"layout\":{\"autotypenumbers\":\"strict\",\"colorway\":[\"#636efa\",\"#EF553B\",\"#00cc96\",\"#ab63fa\",\"#FFA15A\",\"#19d3f3\",\"#FF6692\",\"#B6E880\",\"#FF97FF\",\"#FECB52\"],\"font\":{\"color\":\"#2a3f5f\"},\"hovermode\":\"closest\",\"hoverlabel\":{\"align\":\"left\"},\"paper_bgcolor\":\"white\",\"plot_bgcolor\":\"#E5ECF6\",\"polar\":{\"bgcolor\":\"#E5ECF6\",\"angularaxis\":{\"gridcolor\":\"white\",\"linecolor\":\"white\",\"ticks\":\"\"},\"radialaxis\":{\"gridcolor\":\"white\",\"linecolor\":\"white\",\"ticks\":\"\"}},\"ternary\":{\"bgcolor\":\"#E5ECF6\",\"aaxis\":{\"gridcolor\":\"white\",\"linecolor\":\"white\",\"ticks\":\"\"},\"baxis\":{\"gridcolor\":\"white\",\"linecolor\":\"white\",\"ticks\":\"\"},\"caxis\":{\"gridcolor\":\"white\",\"linecolor\":\"white\",\"ticks\":\"\"}},\"coloraxis\":{\"colorbar\":{\"outlinewidth\":0,\"ticks\":\"\"}},\"colorscale\":{\"sequential\":[[0.0,\"#0d0887\"],[0.1111111111111111,\"#46039f\"],[0.2222222222222222,\"#7201a8\"],[0.3333333333333333,\"#9c179e\"],[0.4444444444444444,\"#bd3786\"],[0.5555555555555556,\"#d8576b\"],[0.6666666666666666,\"#ed7953\"],[0.7777777777777778,\"#fb9f3a\"],[0.8888888888888888,\"#fdca26\"],[1.0,\"#f0f921\"]],\"sequentialminus\":[[0.0,\"#0d0887\"],[0.1111111111111111,\"#46039f\"],[0.2222222222222222,\"#7201a8\"],[0.3333333333333333,\"#9c179e\"],[0.4444444444444444,\"#bd3786\"],[0.5555555555555556,\"#d8576b\"],[0.6666666666666666,\"#ed7953\"],[0.7777777777777778,\"#fb9f3a\"],[0.8888888888888888,\"#fdca26\"],[1.0,\"#f0f921\"]],\"diverging\":[[0,\"#8e0152\"],[0.1,\"#c51b7d\"],[0.2,\"#de77ae\"],[0.3,\"#f1b6da\"],[0.4,\"#fde0ef\"],[0.5,\"#f7f7f7\"],[0.6,\"#e6f5d0\"],[0.7,\"#b8e186\"],[0.8,\"#7fbc41\"],[0.9,\"#4d9221\"],[1,\"#276419\"]]},\"xaxis\":{\"gridcolor\":\"white\",\"linecolor\":\"white\",\"ticks\":\"\",\"title\":{\"standoff\":15},\"zerolinecolor\":\"white\",\"automargin\":true,\"zerolinewidth\":2},\"yaxis\":{\"gridcolor\":\"white\",\"linecolor\":\"white\",\"ticks\":\"\",\"title\":{\"standoff\":15},\"zerolinecolor\":\"white\",\"automargin\":true,\"zerolinewidth\":2},\"scene\":{\"xaxis\":{\"backgroundcolor\":\"#E5ECF6\",\"gridcolor\":\"white\",\"linecolor\":\"white\",\"showbackground\":true,\"ticks\":\"\",\"zerolinecolor\":\"white\",\"gridwidth\":2},\"yaxis\":{\"backgroundcolor\":\"#E5ECF6\",\"gridcolor\":\"white\",\"linecolor\":\"white\",\"showbackground\":true,\"ticks\":\"\",\"zerolinecolor\":\"white\",\"gridwidth\":2},\"zaxis\":{\"backgroundcolor\":\"#E5ECF6\",\"gridcolor\":\"white\",\"linecolor\":\"white\",\"showbackground\":true,\"ticks\":\"\",\"zerolinecolor\":\"white\",\"gridwidth\":2}},\"shapedefaults\":{\"line\":{\"color\":\"#2a3f5f\"}},\"annotationdefaults\":{\"arrowcolor\":\"#2a3f5f\",\"arrowhead\":0,\"arrowwidth\":1},\"geo\":{\"bgcolor\":\"white\",\"landcolor\":\"#E5ECF6\",\"subunitcolor\":\"white\",\"showland\":true,\"showlakes\":true,\"lakecolor\":\"white\"},\"title\":{\"x\":0.05},\"mapbox\":{\"style\":\"light\"}}},\"xaxis\":{\"anchor\":\"y\",\"domain\":[0.0,1.0],\"range\":[-0.7802561230765568,0.7802561230765568]},\"yaxis\":{\"anchor\":\"x\",\"domain\":[0.55,1.0],\"showticklabels\":false,\"range\":[0,2.5]},\"xaxis2\":{\"anchor\":\"y2\",\"domain\":[0.0,1.0],\"range\":[-39.4047022095981,39.4047022095981]},\"yaxis2\":{\"anchor\":\"x2\",\"domain\":[0.0,0.45],\"showticklabels\":false,\"range\":[0,2.5]},\"annotations\":[{\"font\":{\"size\":16},\"showarrow\":false,\"text\":\"PC3 Cosine Similarity\",\"x\":0.5,\"xanchor\":\"center\",\"xref\":\"paper\",\"y\":1.0,\"yanchor\":\"bottom\",\"yref\":\"paper\"},{\"font\":{\"size\":16},\"showarrow\":false,\"text\":\"PC3 Projection\",\"x\":0.5,\"xanchor\":\"center\",\"xref\":\"paper\",\"y\":0.45,\"yanchor\":\"bottom\",\"yref\":\"paper\"},{\"bgcolor\":\"rgba(255, 255, 255, 0.9)\",\"bordercolor\":\"black\",\"borderwidth\":1,\"font\":{\"color\":\"black\",\"size\":10},\"showarrow\":false,\"text\":\"Benevolent\",\"x\":-0.7093237482514152,\"xref\":\"x\",\"y\":1.45,\"yref\":\"y\"},{\"bgcolor\":\"rgba(255, 255, 255, 0.9)\",\"bordercolor\":\"black\",\"borderwidth\":1,\"font\":{\"color\":\"black\",\"size\":10},\"showarrow\":false,\"text\":\"Forgiving\",\"x\":-0.6743542049741503,\"xref\":\"x\",\"y\":0.6,\"yref\":\"y\"},{\"bgcolor\":\"rgba(255, 255, 255, 0.9)\",\"bordercolor\":\"black\",\"borderwidth\":1,\"font\":{\"color\":\"black\",\"size\":10},\"showarrow\":false,\"text\":\"Open ended\",\"x\":-0.6460916717546443,\"xref\":\"x\",\"y\":1.9,\"yref\":\"y\"},{\"bgcolor\":\"rgba(255, 255, 255, 0.9)\",\"bordercolor\":\"black\",\"borderwidth\":1,\"font\":{\"color\":\"black\",\"size\":10},\"showarrow\":false,\"text\":\"Humanistic\",\"x\":-0.5895922827973763,\"xref\":\"x\",\"y\":0.15,\"yref\":\"y\"},{\"bgcolor\":\"rgba(255, 255, 255, 0.9)\",\"bordercolor\":\"black\",\"borderwidth\":1,\"font\":{\"color\":\"black\",\"size\":10},\"showarrow\":false,\"text\":\"Chill\",\"x\":-0.5790853962374931,\"xref\":\"x\",\"y\":1.6,\"yref\":\"y\"},{\"bgcolor\":\"rgba(255, 255, 255, 0.9)\",\"bordercolor\":\"black\",\"borderwidth\":1,\"font\":{\"color\":\"black\",\"size\":10},\"showarrow\":false,\"text\":\"Conciliatory\",\"x\":-0.5755960482183766,\"xref\":\"x\",\"y\":0.45,\"yref\":\"y\"},{\"bgcolor\":\"rgba(255, 255, 255, 0.9)\",\"bordercolor\":\"black\",\"borderwidth\":1,\"font\":{\"color\":\"black\",\"size\":10},\"showarrow\":false,\"text\":\"Altruistic\",\"x\":-0.5717236597935368,\"xref\":\"x\",\"y\":1.3,\"yref\":\"y\"},{\"bgcolor\":\"rgba(255, 255, 255, 0.9)\",\"bordercolor\":\"black\",\"borderwidth\":1,\"font\":{\"color\":\"black\",\"size\":10},\"showarrow\":false,\"text\":\"Optimistic\",\"x\":-0.5666259490201292,\"xref\":\"x\",\"y\":0.75,\"yref\":\"y\"},{\"bgcolor\":\"rgba(255, 255, 255, 0.9)\",\"bordercolor\":\"black\",\"borderwidth\":1,\"font\":{\"color\":\"black\",\"size\":10},\"showarrow\":false,\"text\":\"Diplomatic\",\"x\":-0.5202061759232404,\"xref\":\"x\",\"y\":1.75,\"yref\":\"y\"},{\"bgcolor\":\"rgba(255, 255, 255, 0.9)\",\"bordercolor\":\"black\",\"borderwidth\":1,\"font\":{\"color\":\"black\",\"size\":10},\"showarrow\":false,\"text\":\"Intuitive\",\"x\":-0.5051766763441801,\"xref\":\"x\",\"y\":0.3,\"yref\":\"y\"},{\"bgcolor\":\"rgba(255, 255, 255, 0.9)\",\"bordercolor\":\"black\",\"borderwidth\":1,\"font\":{\"color\":\"black\",\"size\":10},\"showarrow\":false,\"text\":\"Iconoclastic\",\"x\":0.4402439429998509,\"xref\":\"x\",\"y\":1.45,\"yref\":\"y\"},{\"bgcolor\":\"rgba(255, 255, 255, 0.9)\",\"bordercolor\":\"black\",\"borderwidth\":1,\"font\":{\"color\":\"black\",\"size\":10},\"showarrow\":false,\"text\":\"Grandiose\",\"x\":0.44856107589045224,\"xref\":\"x\",\"y\":0.6,\"yref\":\"y\"},{\"bgcolor\":\"rgba(255, 255, 255, 0.9)\",\"bordercolor\":\"black\",\"borderwidth\":1,\"font\":{\"color\":\"black\",\"size\":10},\"showarrow\":false,\"text\":\"Cynical\",\"x\":0.4496984879279962,\"xref\":\"x\",\"y\":1.9,\"yref\":\"y\"},{\"bgcolor\":\"rgba(255, 255, 255, 0.9)\",\"bordercolor\":\"black\",\"borderwidth\":1,\"font\":{\"color\":\"black\",\"size\":10},\"showarrow\":false,\"text\":\"Rationalist\",\"x\":0.4626313638939814,\"xref\":\"x\",\"y\":0.15,\"yref\":\"y\"},{\"bgcolor\":\"rgba(255, 255, 255, 0.9)\",\"bordercolor\":\"black\",\"borderwidth\":1,\"font\":{\"color\":\"black\",\"size\":10},\"showarrow\":false,\"text\":\"Competitive\",\"x\":0.4870342971339571,\"xref\":\"x\",\"y\":1.6,\"yref\":\"y\"},{\"bgcolor\":\"rgba(255, 255, 255, 0.9)\",\"bordercolor\":\"black\",\"borderwidth\":1,\"font\":{\"color\":\"black\",\"size\":10},\"showarrow\":false,\"text\":\"Edgy\",\"x\":0.5019810041990933,\"xref\":\"x\",\"y\":0.45,\"yref\":\"y\"},{\"bgcolor\":\"rgba(255, 255, 255, 0.9)\",\"bordercolor\":\"black\",\"borderwidth\":1,\"font\":{\"color\":\"black\",\"size\":10},\"showarrow\":false,\"text\":\"Technical\",\"x\":0.5043779053360472,\"xref\":\"x\",\"y\":1.3,\"yref\":\"y\"},{\"bgcolor\":\"rgba(255, 255, 255, 0.9)\",\"bordercolor\":\"black\",\"borderwidth\":1,\"font\":{\"color\":\"black\",\"size\":10},\"showarrow\":false,\"text\":\"Militant\",\"x\":0.5579205716767852,\"xref\":\"x\",\"y\":0.75,\"yref\":\"y\"},{\"bgcolor\":\"rgba(255, 255, 255, 0.9)\",\"bordercolor\":\"black\",\"borderwidth\":1,\"font\":{\"color\":\"black\",\"size\":10},\"showarrow\":false,\"text\":\"Prescriptive\",\"x\":0.6185858755324427,\"xref\":\"x\",\"y\":1.75,\"yref\":\"y\"},{\"bgcolor\":\"rgba(255, 255, 255, 0.9)\",\"bordercolor\":\"black\",\"borderwidth\":1,\"font\":{\"color\":\"black\",\"size\":10},\"showarrow\":false,\"text\":\"Confrontational\",\"x\":0.6488617189455282,\"xref\":\"x\",\"y\":0.3,\"yref\":\"y\"},{\"bgcolor\":\"rgba(255, 255, 255, 0.9)\",\"bordercolor\":\"red\",\"borderwidth\":1,\"font\":{\"color\":\"red\",\"size\":14},\"showarrow\":false,\"text\":\"Assistant\",\"x\":-0.19582720854415486,\"xref\":\"x\",\"y\":2,\"yref\":\"y\"},{\"bgcolor\":\"rgba(255, 255, 255, 0.9)\",\"bordercolor\":\"black\",\"borderwidth\":1,\"font\":{\"color\":\"black\",\"size\":10},\"showarrow\":false,\"text\":\"Benevolent\",\"x\":-35.822456554180086,\"xref\":\"x2\",\"y\":1.45,\"yref\":\"y2\"},{\"bgcolor\":\"rgba(255, 255, 255, 0.9)\",\"bordercolor\":\"black\",\"borderwidth\":1,\"font\":{\"color\":\"black\",\"size\":10},\"showarrow\":false,\"text\":\"Humanistic\",\"x\":-30.379078366124748,\"xref\":\"x2\",\"y\":0.6,\"yref\":\"y2\"},{\"bgcolor\":\"rgba(255, 255, 255, 0.9)\",\"bordercolor\":\"black\",\"borderwidth\":1,\"font\":{\"color\":\"black\",\"size\":10},\"showarrow\":false,\"text\":\"Forgiving\",\"x\":-30.01479453225588,\"xref\":\"x2\",\"y\":1.9,\"yref\":\"y2\"},{\"bgcolor\":\"rgba(255, 255, 255, 0.9)\",\"bordercolor\":\"black\",\"borderwidth\":1,\"font\":{\"color\":\"black\",\"size\":10},\"showarrow\":false,\"text\":\"Optimistic\",\"x\":-29.98335638523396,\"xref\":\"x2\",\"y\":0.15,\"yref\":\"y2\"},{\"bgcolor\":\"rgba(255, 255, 255, 0.9)\",\"bordercolor\":\"black\",\"borderwidth\":1,\"font\":{\"color\":\"black\",\"size\":10},\"showarrow\":false,\"text\":\"Open ended\",\"x\":-28.932309613840385,\"xref\":\"x2\",\"y\":1.6,\"yref\":\"y2\"},{\"bgcolor\":\"rgba(255, 255, 255, 0.9)\",\"bordercolor\":\"black\",\"borderwidth\":1,\"font\":{\"color\":\"black\",\"size\":10},\"showarrow\":false,\"text\":\"Romantic\",\"x\":-28.736632938772342,\"xref\":\"x2\",\"y\":0.45,\"yref\":\"y2\"},{\"bgcolor\":\"rgba(255, 255, 255, 0.9)\",\"bordercolor\":\"black\",\"borderwidth\":1,\"font\":{\"color\":\"black\",\"size\":10},\"showarrow\":false,\"text\":\"Qualitative\",\"x\":-28.191692453401718,\"xref\":\"x2\",\"y\":1.3,\"yref\":\"y2\"},{\"bgcolor\":\"rgba(255, 255, 255, 0.9)\",\"bordercolor\":\"black\",\"borderwidth\":1,\"font\":{\"color\":\"black\",\"size\":10},\"showarrow\":false,\"text\":\"Altruistic\",\"x\":-27.770153403260764,\"xref\":\"x2\",\"y\":0.75,\"yref\":\"y2\"},{\"bgcolor\":\"rgba(255, 255, 255, 0.9)\",\"bordercolor\":\"black\",\"borderwidth\":1,\"font\":{\"color\":\"black\",\"size\":10},\"showarrow\":false,\"text\":\"Spiritual\",\"x\":-27.4010067946278,\"xref\":\"x2\",\"y\":1.75,\"yref\":\"y2\"},{\"bgcolor\":\"rgba(255, 255, 255, 0.9)\",\"bordercolor\":\"black\",\"borderwidth\":1,\"font\":{\"color\":\"black\",\"size\":10},\"showarrow\":false,\"text\":\"Mystical\",\"x\":-27.263993217281598,\"xref\":\"x2\",\"y\":0.3,\"yref\":\"y2\"},{\"bgcolor\":\"rgba(255, 255, 255, 0.9)\",\"bordercolor\":\"black\",\"borderwidth\":1,\"font\":{\"color\":\"black\",\"size\":10},\"showarrow\":false,\"text\":\"Bombastic\",\"x\":24.08205803292276,\"xref\":\"x2\",\"y\":1.45,\"yref\":\"y2\"},{\"bgcolor\":\"rgba(255, 255, 255, 0.9)\",\"bordercolor\":\"black\",\"borderwidth\":1,\"font\":{\"color\":\"black\",\"size\":10},\"showarrow\":false,\"text\":\"Detached\",\"x\":24.11983708534834,\"xref\":\"x2\",\"y\":0.6,\"yref\":\"y2\"},{\"bgcolor\":\"rgba(255, 255, 255, 0.9)\",\"bordercolor\":\"black\",\"borderwidth\":1,\"font\":{\"color\":\"black\",\"size\":10},\"showarrow\":false,\"text\":\"Confrontational\",\"x\":24.189108599718953,\"xref\":\"x2\",\"y\":1.9,\"yref\":\"y2\"},{\"bgcolor\":\"rgba(255, 255, 255, 0.9)\",\"bordercolor\":\"black\",\"borderwidth\":1,\"font\":{\"color\":\"black\",\"size\":10},\"showarrow\":false,\"text\":\"Acerbic\",\"x\":24.665079505062565,\"xref\":\"x2\",\"y\":0.15,\"yref\":\"y2\"},{\"bgcolor\":\"rgba(255, 255, 255, 0.9)\",\"bordercolor\":\"black\",\"borderwidth\":1,\"font\":{\"color\":\"black\",\"size\":10},\"showarrow\":false,\"text\":\"Quantitative\",\"x\":24.837901514159142,\"xref\":\"x2\",\"y\":1.6,\"yref\":\"y2\"},{\"bgcolor\":\"rgba(255, 255, 255, 0.9)\",\"bordercolor\":\"black\",\"borderwidth\":1,\"font\":{\"color\":\"black\",\"size\":10},\"showarrow\":false,\"text\":\"Technical\",\"x\":25.635469121976286,\"xref\":\"x2\",\"y\":0.45,\"yref\":\"y2\"},{\"bgcolor\":\"rgba(255, 255, 255, 0.9)\",\"bordercolor\":\"black\",\"borderwidth\":1,\"font\":{\"color\":\"black\",\"size\":10},\"showarrow\":false,\"text\":\"Pedantic\",\"x\":26.08076726878472,\"xref\":\"x2\",\"y\":1.3,\"yref\":\"y2\"},{\"bgcolor\":\"rgba(255, 255, 255, 0.9)\",\"bordercolor\":\"black\",\"borderwidth\":1,\"font\":{\"color\":\"black\",\"size\":10},\"showarrow\":false,\"text\":\"Competitive\",\"x\":31.489762986365324,\"xref\":\"x2\",\"y\":0.75,\"yref\":\"y2\"},{\"bgcolor\":\"rgba(255, 255, 255, 0.9)\",\"bordercolor\":\"black\",\"borderwidth\":1,\"font\":{\"color\":\"black\",\"size\":10},\"showarrow\":false,\"text\":\"Prescriptive\",\"x\":32.42097296783844,\"xref\":\"x2\",\"y\":1.75,\"yref\":\"y2\"},{\"bgcolor\":\"rgba(255, 255, 255, 0.9)\",\"bordercolor\":\"black\",\"borderwidth\":1,\"font\":{\"color\":\"black\",\"size\":10},\"showarrow\":false,\"text\":\"Militant\",\"x\":32.47841823707409,\"xref\":\"x2\",\"y\":0.3,\"yref\":\"y2\"},{\"bgcolor\":\"rgba(255, 255, 255, 0.9)\",\"bordercolor\":\"red\",\"borderwidth\":1,\"font\":{\"color\":\"red\",\"size\":14},\"showarrow\":false,\"text\":\"Assistant\",\"x\":-11.338582439273182,\"xref\":\"x2\",\"y\":2,\"yref\":\"y2\"}],\"shapes\":[{\"line\":{\"color\":\"gray\",\"dash\":\"solid\",\"width\":1},\"opacity\":0.7,\"type\":\"line\",\"x0\":0,\"x1\":0,\"xref\":\"x\",\"y0\":0,\"y1\":1,\"yref\":\"y domain\"},{\"line\":{\"color\":\"red\",\"dash\":\"dash\",\"width\":1},\"opacity\":1.0,\"type\":\"line\",\"x0\":-0.19582720854415486,\"x1\":-0.19582720854415486,\"xref\":\"x\",\"y0\":0,\"y1\":1,\"yref\":\"y domain\"},{\"line\":{\"color\":\"gray\",\"dash\":\"solid\",\"width\":1},\"opacity\":0.7,\"type\":\"line\",\"x0\":0,\"x1\":0,\"xref\":\"x2\",\"y0\":0,\"y1\":1,\"yref\":\"y2 domain\"},{\"line\":{\"color\":\"red\",\"dash\":\"dash\",\"width\":1},\"opacity\":1.0,\"type\":\"line\",\"x0\":-11.338582439273182,\"x1\":-11.338582439273182,\"xref\":\"x2\",\"y0\":0,\"y1\":1,\"yref\":\"y2 domain\"}],\"title\":{\"subtitle\":{\"text\":\"Gemma 3 27B, Layer 32 - Shared Question Set, Mean-Centered and Scaled Vectors\"},\"font\":{\"size\":16},\"text\":\"PCA on Trait Vectors\",\"x\":0.5},\"height\":800,\"width\":1200,\"showlegend\":false},                        {\"responsive\": true}                    ).then(function(){\n",
       "                            \n",
       "var gd = document.getElementById('e40dda5a-6866-4bdd-8a0b-104c74351728');\n",
       "var x = new MutationObserver(function (mutations, observer) {{\n",
       "        var display = window.getComputedStyle(gd).display;\n",
       "        if (!display || display === 'none') {{\n",
       "            console.log([gd, 'removed!']);\n",
       "            Plotly.purge(gd);\n",
       "            observer.disconnect();\n",
       "        }}\n",
       "}});\n",
       "\n",
       "// Listen for the removal of the full notebook cells\n",
       "var notebookContainer = gd.closest('#notebook-container');\n",
       "if (notebookContainer) {{\n",
       "    x.observe(notebookContainer, {childList: true});\n",
       "}}\n",
       "\n",
       "// Listen for the clearing of the current output cell\n",
       "var outputEl = gd.closest('.output');\n",
       "if (outputEl) {{\n",
       "    x.observe(outputEl, {childList: true});\n",
       "}}\n",
       "\n",
       "                        })                };                });            </script>        </div>"
      ]
     },
     "metadata": {},
     "output_type": "display_data"
    },
    {
     "data": {
      "application/vnd.plotly.v1+json": {
       "config": {
        "plotlyServerURL": "https://plot.ly"
       },
       "data": [
        {
         "hovertemplate": "<b>%{text}</b><br>Cosine Similarity: %{x:.3f}<extra></extra>",
         "marker": {
          "color": "limegreen",
          "line": {
           "color": "black",
           "width": 1
          },
          "opacity": 1,
          "size": 8,
          "symbol": "diamond"
         },
         "mode": "markers",
         "showlegend": false,
         "text": [
          "Zealous",
          "Wry",
          "Witty",
          "Whimsical",
          "Visceral",
          "Vindictive",
          "Verbose",
          "Utilitarian",
          "Urgent",
          "Universalist",
          "Understated",
          "Transparent",
          "Traditional",
          "Theatrical",
          "Temperamental",
          "Technical",
          "Tactful",
          "Systems thinker",
          "Sycophantic",
          "Supportive",
          "Subversive",
          "Submissive",
          "Structuralist",
          "Stream of consciousness",
          "Strategic",
          "Stoic",
          "Spontaneous",
          "Speculative",
          "Specialized",
          "Socratic",
          "Skeptical",
          "Serious",
          "Serene",
          "Secular",
          "Savage",
          "Sassy",
          "Sardonic",
          "Sarcastic",
          "Romantic",
          "Risk taking",
          "Rhetorical",
          "Resilient",
          "Reserved",
          "Relativist",
          "Regulatory",
          "Reductionist",
          "Reactive",
          "Rationalist",
          "Radical",
          "Quantitative",
          "Qualitative",
          "Provocative",
          "Problem solving",
          "Proactive",
          "Principled",
          "Prescriptive",
          "Poetic",
          "Pluralist",
          "Playful",
          "Philosophical",
          "Petty",
          "Pessimistic",
          "Perfectionist",
          "Pensive",
          "Pedantic",
          "Patient",
          "Passive aggressive",
          "Passionate",
          "Paranoid",
          "Paradoxical",
          "Pacifist",
          "Optimistic",
          "Open ended",
          "Obsessive",
          "Nurturing",
          "Nonchalant",
          "Nihilistic",
          "Neurotic",
          "Narrative",
          "Naive",
          "Mystical",
          "Moderate",
          "Mischievous",
          "Misanthropic",
          "Militant",
          "Meticulous",
          "Methodical",
          "Metaphorical",
          "Mercurial",
          "Melodramatic",
          "Melancholic",
          "Meditative",
          "Materialist",
          "Manipulative",
          "Manic",
          "Literal",
          "Libertarian",
          "Judgmental",
          "Irreverent",
          "Ironic",
          "Intuitive",
          "Introspective",
          "Interdisciplinary",
          "Inspirational",
          "Inquisitive",
          "Individualistic",
          "Independent",
          "Inclusive",
          "Impulsive",
          "Improvisational",
          "Impatient",
          "Humble",
          "Humanistic",
          "Hostile",
          "Holistic",
          "Historical",
          "Hedonistic",
          "Gregarious",
          "Grandiose",
          "Goofy",
          "Generous",
          "Generalist",
          "Futuristic",
          "Fundamentalist",
          "Formalist",
          "Formal",
          "Forgiving",
          "Flirty",
          "Flippant",
          "Flexible",
          "Fatalistic",
          "Factual",
          "Extroverted",
          "Exploratory",
          "Evil",
          "Ethereal",
          "Essentialist",
          "Esoteric",
          "Erudite",
          "Epicurean",
          "Environmental",
          "Entertaining",
          "Enigmatic",
          "Empathetic",
          "Emotional",
          "Eloquent",
          "Elitist",
          "Egalitarian",
          "Effusive",
          "Efficient",
          "Educational",
          "Edgy",
          "Eclectic",
          "Earnest",
          "Dramatic",
          "Dominant",
          "Dogmatic",
          "Divergent",
          "Dispassionate",
          "Disorganized",
          "Diplomatic",
          "Deterministic",
          "Detached",
          "Descriptive",
          "Deontological",
          "Deferential",
          "Deconstructionist",
          "Decisive",
          "Data driven",
          "Cynical",
          "Curious",
          "Cruel",
          "Critical",
          "Creative",
          "Cosmopolitan",
          "Convergent",
          "Contrarian",
          "Constructivist",
          "Conscientious",
          "Confrontational",
          "Confident",
          "Condescending",
          "Concise",
          "Conciliatory",
          "Competitive",
          "Collectivistic",
          "Collaborative",
          "Closure seeking",
          "Circumspect",
          "Chill",
          "Charismatic",
          "Chaotic",
          "Challenging",
          "Cautious",
          "Calm",
          "Callous",
          "Calculating",
          "Bombastic",
          "Blunt",
          "Bitter",
          "Big picture",
          "Benevolent",
          "Avoidant",
          "Assertive",
          "Ascetic",
          "Artistic",
          "Arrogant",
          "Anxious",
          "Anthropocentric",
          "Animated",
          "Analytical",
          "Altruistic",
          "Agreeable",
          "Adventurous",
          "Adaptable",
          "Acerbic",
          "Accommodating",
          "Accessible",
          "Abstract",
          "Absolutist"
         ],
         "type": "scatter",
         "x": [
          -0.07013805298288488,
          0.1119982855036101,
          0.11104510424495077,
          -0.023916435531084215,
          0.10154215689766442,
          -0.06908154002062133,
          -0.011455480469440282,
          0.3136595501490227,
          0.33031843029768104,
          -0.10765080943854942,
          -0.005345515067828847,
          0.10846448252949957,
          -0.33396708630168936,
          -0.12576497484126808,
          0.09283537109379163,
          -0.07303423480138097,
          -0.1695532648160566,
          0.06889915884189797,
          -0.04674906239512933,
          0.040199375752070284,
          0.2861103051006856,
          -0.05079669387380376,
          -0.07479194102320043,
          0.14329648506992249,
          0.03973053866538461,
          -0.11214269436416784,
          0.2320901847300333,
          0.15959114694979434,
          -0.07228339585104648,
          -0.002609118049773116,
          0.13009603954925392,
          -0.37660224679048276,
          -0.3684000294266093,
          0.3599028320793236,
          0.1106267449369966,
          0.30641643279282366,
          0.08331716415868545,
          0.030028734932428785,
          -0.33872876888810954,
          0.29517691870407103,
          -0.12486800468051833,
          0.0827240827546349,
          -0.010040735937262034,
          -0.017679539922122515,
          -0.24136187878186494,
          0.20585049208287737,
          0.03730192112404385,
          0.16845883996479086,
          0.20359176480010796,
          0.24758193799075617,
          -0.14927036910433053,
          0.13559604376013323,
          0.16781680444096786,
          0.04683243427140074,
          -0.15355522210238803,
          0.020651084068971287,
          -0.2231098867920074,
          0.1902054368506905,
          0.2092206493029176,
          -0.15721916784682327,
          -0.09822685791827171,
          0.05664718396422505,
          -0.10970792312322039,
          -0.08016299332663171,
          -0.17170369957058243,
          0.030438759432071198,
          -0.08036911031200851,
          0.03555067116157097,
          -0.029522312571971795,
          -0.051942494491633566,
          -0.15027066707805872,
          -0.0352497904750904,
          0.05252563925413074,
          -0.07920201413735514,
          -0.020291912487967884,
          0.01787340076619152,
          -0.020580386215465308,
          0.12089797857790135,
          -0.14009551439307172,
          -0.05257427805653276,
          -0.3606332973221311,
          0.032953959782099786,
          0.09269946307122695,
          -0.008429555432790515,
          0.04961360264327131,
          -0.04425268187215648,
          -0.07391917751220571,
          -0.15475534598816654,
          0.15994988928463158,
          -0.15771981032925037,
          -0.10502413401970077,
          -0.2550901595100219,
          0.1416502954804377,
          -0.14314782151210814,
          0.1444493726450371,
          -0.0020372641504387413,
          -0.09473033410805948,
          0.08807955709528391,
          0.2825383444575972,
          -0.05333587673279947,
          0.032704670307989445,
          0.04950842988597228,
          0.2095414761312156,
          -0.003865964450952114,
          0.11267154850509113,
          0.1584840742908426,
          0.13023493343488493,
          0.20680725029273245,
          0.015905419223235916,
          0.17129505700791106,
          0.04922838499994772,
          0.25447064206767456,
          0.04057543058540131,
          0.06261480679311732,
          0.06584165165774196,
          -0.21538412380448768,
          0.0919892886313601,
          0.12835167129539654,
          -0.4223153626037926,
          0.17274599145492583,
          0.0652328598785699,
          0.19895782741159118,
          0.30014492348738386,
          -0.1313120744036203,
          -0.3097067293527626,
          -0.4145660741829558,
          0.07764100046071729,
          -0.12067487739254282,
          0.07738517255969997,
          0.2745395919875007,
          -0.1985903071822724,
          0.08838685497521623,
          0.27685990745456135,
          0.09028627391342964,
          -0.04135504080682319,
          -0.40017756000562943,
          -0.31934708825738817,
          -0.34148861676202646,
          -0.159891495304128,
          -0.23951754546311205,
          -0.011606361728701556,
          0.17998488479392813,
          -0.23931445911379493,
          0.05494048041606751,
          0.04366835368654829,
          -0.1586253971267382,
          -0.2422404213507723,
          0.2747044736679956,
          0.036567526852456914,
          0.03926930389313875,
          0.03996847745138438,
          0.25719007569802904,
          -0.027833515356997254,
          -0.002289825876763983,
          -0.1260286975361328,
          0.07718394240149928,
          -0.10749860774864452,
          0.06159697846095758,
          -0.016409628840047256,
          0.09285024386034134,
          -0.06075783512393212,
          -0.13655806448558228,
          -0.036668016750603064,
          -0.06012192435434814,
          -0.24921669586553605,
          -0.10307461190159527,
          0.06369138357851777,
          0.0996635035482492,
          0.15833529563309712,
          0.12883272587468214,
          0.052984056996377274,
          0.023613448535184028,
          0.16651738119637982,
          0.07606205704163968,
          0.08951876972035008,
          -0.000873893407682903,
          0.2213474775200814,
          0.2104253902021714,
          -0.016846711649862584,
          0.3008416903362773,
          -0.018326288020872498,
          -0.11355974346289995,
          0.02360504885175112,
          0.07184264330444355,
          0.0027434353825086105,
          -0.15601952972019112,
          0.13516536294039397,
          0.027654640570119758,
          -0.04622488974224265,
          0.06279932859677136,
          0.0005540680313117991,
          0.31377260388775985,
          0.11668980655346335,
          0.05937865533040862,
          -0.0702533724090356,
          0.032209388927290444,
          -0.03360279114477756,
          -0.31494360922191605,
          0.18077860959128292,
          0.05986756640895129,
          -0.21852398387039257,
          0.018429609217853325,
          -0.04663371132363658,
          0.10547803832561892,
          -0.15382079546332061,
          -0.1952161771964811,
          -0.10429347367412828,
          0.12114519112670977,
          0.038710663516335245,
          0.11622171170931817,
          0.044967001545449706,
          -0.09426637482409807,
          -0.02433867614439097,
          0.36149668125014406,
          0.07459053696396978,
          0.07565177296676896,
          0.22887029610861365,
          0.3087533815089646,
          -0.39074813083049537,
          -0.262273931997994
         ],
         "xaxis": "x",
         "y": [
          1,
          1,
          1,
          1,
          1,
          1,
          1,
          1,
          1,
          1,
          1,
          1,
          1,
          1,
          1,
          1,
          1,
          1,
          1,
          1,
          1,
          1,
          1,
          1,
          1,
          1,
          1,
          1,
          1,
          1,
          1,
          1,
          1,
          1,
          1,
          1,
          1,
          1,
          1,
          1,
          1,
          1,
          1,
          1,
          1,
          1,
          1,
          1,
          1,
          1,
          1,
          1,
          1,
          1,
          1,
          1,
          1,
          1,
          1,
          1,
          1,
          1,
          1,
          1,
          1,
          1,
          1,
          1,
          1,
          1,
          1,
          1,
          1,
          1,
          1,
          1,
          1,
          1,
          1,
          1,
          1,
          1,
          1,
          1,
          1,
          1,
          1,
          1,
          1,
          1,
          1,
          1,
          1,
          1,
          1,
          1,
          1,
          1,
          1,
          1,
          1,
          1,
          1,
          1,
          1,
          1,
          1,
          1,
          1,
          1,
          1,
          1,
          1,
          1,
          1,
          1,
          1,
          1,
          1,
          1,
          1,
          1,
          1,
          1,
          1,
          1,
          1,
          1,
          1,
          1,
          1,
          1,
          1,
          1,
          1,
          1,
          1,
          1,
          1,
          1,
          1,
          1,
          1,
          1,
          1,
          1,
          1,
          1,
          1,
          1,
          1,
          1,
          1,
          1,
          1,
          1,
          1,
          1,
          1,
          1,
          1,
          1,
          1,
          1,
          1,
          1,
          1,
          1,
          1,
          1,
          1,
          1,
          1,
          1,
          1,
          1,
          1,
          1,
          1,
          1,
          1,
          1,
          1,
          1,
          1,
          1,
          1,
          1,
          1,
          1,
          1,
          1,
          1,
          1,
          1,
          1,
          1,
          1,
          1,
          1,
          1,
          1,
          1,
          1,
          1,
          1,
          1,
          1,
          1,
          1,
          1,
          1,
          1,
          1,
          1,
          1,
          1,
          1,
          1,
          1
         ],
         "yaxis": "y"
        },
        {
         "hovertemplate": "<b>%{text}</b><br>Cosine Similarity: %{x:.3f}<extra></extra>",
         "marker": {
          "color": "limegreen",
          "line": {
           "color": "black",
           "width": 1
          },
          "opacity": 1,
          "size": 8,
          "symbol": "diamond"
         },
         "mode": "markers",
         "showlegend": false,
         "text": [
          "Theoretical",
          "Spiritual",
          "Solemn",
          "Ritualistic",
          "Reverent",
          "Rebellious",
          "Progressive",
          "Practical",
          "Nostalgic",
          "Introverted",
          "Innovative",
          "Idealistic",
          "Iconoclastic",
          "Grounded",
          "Experiential",
          "Existentialist",
          "Cryptic",
          "Contemporary",
          "Conceptual",
          "Casual"
         ],
         "type": "scatter",
         "x": [
          -0.46057850309146975,
          -0.48973058104964023,
          -0.5555653188754308,
          -0.6796120495034882,
          -0.6702238004828487,
          0.4800401324109166,
          0.533200247328018,
          0.4588015624434996,
          -0.45933201474193974,
          -0.4495137140861847,
          0.4345466202691312,
          -0.4754639078233555,
          0.41664150534123795,
          0.48044754529239886,
          0.500983715521812,
          0.3898302729684334,
          -0.46994099079915025,
          0.5398530264630733,
          -0.4419266167959594,
          0.5424536411527452
         ],
         "xaxis": "x",
         "y": [
          1,
          1,
          1,
          1,
          1,
          1,
          1,
          1,
          1,
          1,
          1,
          1,
          1,
          1,
          1,
          1,
          1,
          1,
          1,
          1
         ],
         "yaxis": "y"
        },
        {
         "hoverinfo": "skip",
         "line": {
          "color": "black",
          "width": 1
         },
         "mode": "lines",
         "showlegend": false,
         "type": "scatter",
         "x": [
          -0.6796120495034882,
          -0.6796120495034882
         ],
         "xaxis": "x",
         "y": [
          1,
          1.45
         ],
         "yaxis": "y"
        },
        {
         "hoverinfo": "skip",
         "line": {
          "color": "black",
          "width": 1
         },
         "mode": "lines",
         "showlegend": false,
         "type": "scatter",
         "x": [
          -0.6702238004828487,
          -0.6702238004828487
         ],
         "xaxis": "x",
         "y": [
          1,
          0.6
         ],
         "yaxis": "y"
        },
        {
         "hoverinfo": "skip",
         "line": {
          "color": "black",
          "width": 1
         },
         "mode": "lines",
         "showlegend": false,
         "type": "scatter",
         "x": [
          -0.5555653188754308,
          -0.5555653188754308
         ],
         "xaxis": "x",
         "y": [
          1,
          1.9
         ],
         "yaxis": "y"
        },
        {
         "hoverinfo": "skip",
         "line": {
          "color": "black",
          "width": 1
         },
         "mode": "lines",
         "showlegend": false,
         "type": "scatter",
         "x": [
          -0.48973058104964023,
          -0.48973058104964023
         ],
         "xaxis": "x",
         "y": [
          1,
          0.15
         ],
         "yaxis": "y"
        },
        {
         "hoverinfo": "skip",
         "line": {
          "color": "black",
          "width": 1
         },
         "mode": "lines",
         "showlegend": false,
         "type": "scatter",
         "x": [
          -0.4754639078233555,
          -0.4754639078233555
         ],
         "xaxis": "x",
         "y": [
          1,
          1.6
         ],
         "yaxis": "y"
        },
        {
         "hoverinfo": "skip",
         "line": {
          "color": "black",
          "width": 1
         },
         "mode": "lines",
         "showlegend": false,
         "type": "scatter",
         "x": [
          -0.46994099079915025,
          -0.46994099079915025
         ],
         "xaxis": "x",
         "y": [
          1,
          0.45
         ],
         "yaxis": "y"
        },
        {
         "hoverinfo": "skip",
         "line": {
          "color": "black",
          "width": 1
         },
         "mode": "lines",
         "showlegend": false,
         "type": "scatter",
         "x": [
          -0.46057850309146975,
          -0.46057850309146975
         ],
         "xaxis": "x",
         "y": [
          1,
          1.3
         ],
         "yaxis": "y"
        },
        {
         "hoverinfo": "skip",
         "line": {
          "color": "black",
          "width": 1
         },
         "mode": "lines",
         "showlegend": false,
         "type": "scatter",
         "x": [
          -0.45933201474193974,
          -0.45933201474193974
         ],
         "xaxis": "x",
         "y": [
          1,
          0.75
         ],
         "yaxis": "y"
        },
        {
         "hoverinfo": "skip",
         "line": {
          "color": "black",
          "width": 1
         },
         "mode": "lines",
         "showlegend": false,
         "type": "scatter",
         "x": [
          -0.4495137140861847,
          -0.4495137140861847
         ],
         "xaxis": "x",
         "y": [
          1,
          1.75
         ],
         "yaxis": "y"
        },
        {
         "hoverinfo": "skip",
         "line": {
          "color": "black",
          "width": 1
         },
         "mode": "lines",
         "showlegend": false,
         "type": "scatter",
         "x": [
          -0.4419266167959594,
          -0.4419266167959594
         ],
         "xaxis": "x",
         "y": [
          1,
          0.3
         ],
         "yaxis": "y"
        },
        {
         "hoverinfo": "skip",
         "line": {
          "color": "black",
          "width": 1
         },
         "mode": "lines",
         "showlegend": false,
         "type": "scatter",
         "x": [
          0.3898302729684334,
          0.3898302729684334
         ],
         "xaxis": "x",
         "y": [
          1,
          1.45
         ],
         "yaxis": "y"
        },
        {
         "hoverinfo": "skip",
         "line": {
          "color": "black",
          "width": 1
         },
         "mode": "lines",
         "showlegend": false,
         "type": "scatter",
         "x": [
          0.41664150534123795,
          0.41664150534123795
         ],
         "xaxis": "x",
         "y": [
          1,
          0.6
         ],
         "yaxis": "y"
        },
        {
         "hoverinfo": "skip",
         "line": {
          "color": "black",
          "width": 1
         },
         "mode": "lines",
         "showlegend": false,
         "type": "scatter",
         "x": [
          0.4345466202691312,
          0.4345466202691312
         ],
         "xaxis": "x",
         "y": [
          1,
          1.9
         ],
         "yaxis": "y"
        },
        {
         "hoverinfo": "skip",
         "line": {
          "color": "black",
          "width": 1
         },
         "mode": "lines",
         "showlegend": false,
         "type": "scatter",
         "x": [
          0.4588015624434996,
          0.4588015624434996
         ],
         "xaxis": "x",
         "y": [
          1,
          0.15
         ],
         "yaxis": "y"
        },
        {
         "hoverinfo": "skip",
         "line": {
          "color": "black",
          "width": 1
         },
         "mode": "lines",
         "showlegend": false,
         "type": "scatter",
         "x": [
          0.4800401324109166,
          0.4800401324109166
         ],
         "xaxis": "x",
         "y": [
          1,
          1.6
         ],
         "yaxis": "y"
        },
        {
         "hoverinfo": "skip",
         "line": {
          "color": "black",
          "width": 1
         },
         "mode": "lines",
         "showlegend": false,
         "type": "scatter",
         "x": [
          0.48044754529239886,
          0.48044754529239886
         ],
         "xaxis": "x",
         "y": [
          1,
          0.45
         ],
         "yaxis": "y"
        },
        {
         "hoverinfo": "skip",
         "line": {
          "color": "black",
          "width": 1
         },
         "mode": "lines",
         "showlegend": false,
         "type": "scatter",
         "x": [
          0.500983715521812,
          0.500983715521812
         ],
         "xaxis": "x",
         "y": [
          1,
          1.3
         ],
         "yaxis": "y"
        },
        {
         "hoverinfo": "skip",
         "line": {
          "color": "black",
          "width": 1
         },
         "mode": "lines",
         "showlegend": false,
         "type": "scatter",
         "x": [
          0.533200247328018,
          0.533200247328018
         ],
         "xaxis": "x",
         "y": [
          1,
          0.75
         ],
         "yaxis": "y"
        },
        {
         "hoverinfo": "skip",
         "line": {
          "color": "black",
          "width": 1
         },
         "mode": "lines",
         "showlegend": false,
         "type": "scatter",
         "x": [
          0.5398530264630733,
          0.5398530264630733
         ],
         "xaxis": "x",
         "y": [
          1,
          1.75
         ],
         "yaxis": "y"
        },
        {
         "hoverinfo": "skip",
         "line": {
          "color": "black",
          "width": 1
         },
         "mode": "lines",
         "showlegend": false,
         "type": "scatter",
         "x": [
          0.5424536411527452,
          0.5424536411527452
         ],
         "xaxis": "x",
         "y": [
          1,
          0.3
         ],
         "yaxis": "y"
        },
        {
         "hoverinfo": "skip",
         "marker": {
          "color": "limegreen"
         },
         "opacity": 0.7,
         "showlegend": false,
         "type": "bar",
         "width": 0.03258841841749956,
         "x": [
          -0.659244287992551,
          -0.6185087649706765,
          -0.5777732419488021,
          -0.5370377189269276,
          -0.4963021959050532,
          -0.45556667288317876,
          -0.4148311498613043,
          -0.3740956268394299,
          -0.33336010381755543,
          -0.292624580795681,
          -0.25188905777380655,
          -0.2111535347519321,
          -0.17041801173005766,
          -0.12968248870818322,
          -0.08894696568630878,
          -0.048211442664434334,
          -0.007475919642559892,
          0.03325960337931455,
          0.073995126401189,
          0.11473064942306344,
          0.15546617244493788,
          0.19620169546681232,
          0.23693721848868676,
          0.2776727415105612,
          0.31840826453243565,
          0.3591437875543101,
          0.39987931057618453,
          0.440614833598059,
          0.4813503566199334,
          0.522085879641808
         ],
         "xaxis": "x",
         "y": [
          0.06206896551724138,
          0,
          0,
          0.03103448275862069,
          0.03103448275862069,
          0.18620689655172415,
          0.09310344827586207,
          0.12413793103448276,
          0.15517241379310345,
          0.03103448275862069,
          0.21724137931034485,
          0.15517241379310345,
          0.3413793103448276,
          0.3724137931034483,
          0.5586206896551724,
          0.4655172413793104,
          0.6517241379310345,
          0.9,
          0.8689655172413794,
          0.496551724137931,
          0.4344827586206897,
          0.3103448275862069,
          0.18620689655172415,
          0.18620689655172415,
          0.21724137931034485,
          0.06206896551724138,
          0.06206896551724138,
          0.06206896551724138,
          0.09310344827586207,
          0.09310344827586207
         ],
         "yaxis": "y"
        },
        {
         "hovertemplate": "<b>%{text}</b><br>PC Projection: %{x:.3f}<extra></extra>",
         "marker": {
          "color": "limegreen",
          "line": {
           "color": "black",
           "width": 1
          },
          "opacity": 1,
          "size": 8,
          "symbol": "diamond"
         },
         "mode": "markers",
         "showlegend": false,
         "text": [
          "Zealous",
          "Wry",
          "Witty",
          "Whimsical",
          "Visceral",
          "Vindictive",
          "Verbose",
          "Utilitarian",
          "Urgent",
          "Universalist",
          "Understated",
          "Transparent",
          "Traditional",
          "Theoretical",
          "Theatrical",
          "Temperamental",
          "Technical",
          "Tactful",
          "Systems thinker",
          "Sycophantic",
          "Supportive",
          "Subversive",
          "Submissive",
          "Structuralist",
          "Stream of consciousness",
          "Strategic",
          "Stoic",
          "Spontaneous",
          "Speculative",
          "Specialized",
          "Socratic",
          "Skeptical",
          "Serene",
          "Savage",
          "Sassy",
          "Sardonic",
          "Sarcastic",
          "Romantic",
          "Risk taking",
          "Rhetorical",
          "Resilient",
          "Reserved",
          "Relativist",
          "Regulatory",
          "Reductionist",
          "Reactive",
          "Rationalist",
          "Radical",
          "Quantitative",
          "Qualitative",
          "Provocative",
          "Problem solving",
          "Proactive",
          "Principled",
          "Prescriptive",
          "Poetic",
          "Pluralist",
          "Playful",
          "Philosophical",
          "Petty",
          "Pessimistic",
          "Perfectionist",
          "Pensive",
          "Pedantic",
          "Patient",
          "Passive aggressive",
          "Passionate",
          "Paranoid",
          "Paradoxical",
          "Pacifist",
          "Optimistic",
          "Open ended",
          "Obsessive",
          "Nurturing",
          "Nonchalant",
          "Nihilistic",
          "Neurotic",
          "Narrative",
          "Naive",
          "Mystical",
          "Moderate",
          "Mischievous",
          "Misanthropic",
          "Militant",
          "Meticulous",
          "Methodical",
          "Metaphorical",
          "Mercurial",
          "Melodramatic",
          "Melancholic",
          "Materialist",
          "Manipulative",
          "Manic",
          "Literal",
          "Libertarian",
          "Judgmental",
          "Ironic",
          "Intuitive",
          "Introverted",
          "Introspective",
          "Interdisciplinary",
          "Inspirational",
          "Inquisitive",
          "Innovative",
          "Individualistic",
          "Independent",
          "Inclusive",
          "Impulsive",
          "Improvisational",
          "Impatient",
          "Iconoclastic",
          "Humble",
          "Humanistic",
          "Hostile",
          "Holistic",
          "Historical",
          "Hedonistic",
          "Gregarious",
          "Grandiose",
          "Goofy",
          "Generous",
          "Generalist",
          "Futuristic",
          "Fundamentalist",
          "Formalist",
          "Formal",
          "Forgiving",
          "Flirty",
          "Flippant",
          "Flexible",
          "Fatalistic",
          "Factual",
          "Extroverted",
          "Exploratory",
          "Evil",
          "Essentialist",
          "Esoteric",
          "Erudite",
          "Epicurean",
          "Environmental",
          "Entertaining",
          "Enigmatic",
          "Empathetic",
          "Emotional",
          "Eloquent",
          "Elitist",
          "Egalitarian",
          "Effusive",
          "Efficient",
          "Educational",
          "Edgy",
          "Eclectic",
          "Earnest",
          "Dramatic",
          "Dominant",
          "Dogmatic",
          "Divergent",
          "Dispassionate",
          "Disorganized",
          "Diplomatic",
          "Deterministic",
          "Detached",
          "Descriptive",
          "Deontological",
          "Deferential",
          "Deconstructionist",
          "Decisive",
          "Data driven",
          "Cynical",
          "Curious",
          "Cryptic",
          "Cruel",
          "Critical",
          "Creative",
          "Cosmopolitan",
          "Convergent",
          "Contrarian",
          "Constructivist",
          "Conscientious",
          "Confrontational",
          "Confident",
          "Condescending",
          "Concise",
          "Conciliatory",
          "Conceptual",
          "Competitive",
          "Collectivistic",
          "Collaborative",
          "Closure seeking",
          "Circumspect",
          "Chill",
          "Charismatic",
          "Chaotic",
          "Challenging",
          "Cautious",
          "Calm",
          "Callous",
          "Calculating",
          "Blunt",
          "Bitter",
          "Big picture",
          "Benevolent",
          "Avoidant",
          "Assertive",
          "Ascetic",
          "Artistic",
          "Arrogant",
          "Anxious",
          "Anthropocentric",
          "Animated",
          "Analytical",
          "Altruistic",
          "Agreeable",
          "Adventurous",
          "Adaptable",
          "Acerbic",
          "Accommodating",
          "Accessible",
          "Abstract",
          "Absolutist"
         ],
         "type": "scatter",
         "x": [
          -4.657596073730055,
          4.7132229662439515,
          8.836817088540805,
          -1.157688418951845,
          8.70340051925176,
          -3.014333647409852,
          -1.1694789081291288,
          13.886814004424107,
          16.994287428870617,
          -5.8894438998133465,
          -0.6599854758399363,
          12.47376467488314,
          -21.354988867716667,
          -20.711788908204067,
          -15.888129448339786,
          6.079130231386239,
          -3.7120319109680495,
          -8.070467407887538,
          3.9933584104982023,
          -5.99004186400031,
          4.4249504990094755,
          10.676134668782538,
          -4.545777858981534,
          -3.5897698400383105,
          6.282308684713077,
          3.715527762582343,
          -8.343690369194157,
          10.028499766647252,
          7.94527443529623,
          -4.782075012858372,
          -0.23952028578369097,
          12.114749169797703,
          -18.202420586583283,
          10.32018432756916,
          10.771223045435919,
          5.619437993212126,
          2.614856015895776,
          -21.967516342282043,
          11.715017503889719,
          -11.700049748108645,
          4.434600775595135,
          -1.4003664335952186,
          -0.9726026752890604,
          -12.028193555567439,
          9.487341410959495,
          4.817966366136135,
          8.539785700727268,
          9.70631177808463,
          14.12596213968816,
          -8.485938853784639,
          9.74746665957954,
          13.098135392042774,
          6.733540148431572,
          -6.130401550254025,
          1.0823528963920634,
          -14.219202359586838,
          7.19338741788273,
          9.444262251395912,
          -13.545218424588782,
          -5.4556430309189405,
          3.5658625440033593,
          -9.054148743160248,
          -9.128922262550345,
          -11.665591645378981,
          1.91797872343648,
          -6.062780970615005,
          2.9059056147317746,
          -1.2545382078146938,
          -2.100351043666725,
          -7.232315818632803,
          -1.865264062842416,
          2.352124526368849,
          -3.850048682706765,
          -2.0007685110210183,
          2.3334317129844773,
          -1.4880877994794548,
          6.586156042836983,
          -8.219815543342357,
          -6.163436466978392,
          -21.790855376773436,
          1.5480530802410235,
          4.376620232356654,
          -0.5545580230189388,
          2.8881733991033065,
          -5.24951276971441,
          -3.7433908967248786,
          -15.096168541849663,
          7.9595937516319015,
          -13.96748786279055,
          -5.234879625774073,
          7.690638327767439,
          -8.152708169972332,
          9.154554507925122,
          -0.25714640362165236,
          -5.079812279647505,
          4.987667527409084,
          -2.3980056209566607,
          1.6936185935463763,
          -20.08487131121178,
          6.274346299917131,
          6.895670217508951,
          -0.2169276776426836,
          6.579289191954965,
          18.905988928256757,
          4.952342045384707,
          5.077923343641169,
          12.209999652113288,
          2.7569626016784388,
          10.846446062686125,
          6.335372407689186,
          18.127055567582214,
          13.539219669057905,
          2.0906721505036407,
          6.674403457301844,
          4.108889416730288,
          -10.533554171057496,
          7.25136064342316,
          7.6647961756520875,
          -17.712493799682154,
          10.015013091297401,
          4.649544794239789,
          7.508023630343066,
          13.749861372781346,
          -14.292696933259839,
          -15.478829135391868,
          -18.27943917458447,
          3.455719067702948,
          -6.8001415340662525,
          10.61303350403012,
          15.954202760222875,
          -13.675986194274552,
          4.227593954951218,
          10.82818549511081,
          8.538492773607807,
          -2.5701654076806726,
          -18.38412344196161,
          -21.570714997904282,
          -13.874570118058637,
          -16.101767595006066,
          -0.6057477606403514,
          10.682051202159132,
          -15.666501115921598,
          4.730664106347339,
          3.1394701832606717,
          -18.92112631946087,
          -14.829018175734053,
          12.561265048775969,
          3.373237146077914,
          5.836749661925547,
          3.3108857829341307,
          12.20408333600887,
          -1.7038107601675196,
          -0.17115276751236053,
          -14.887573537358314,
          4.606032396526428,
          -9.9341222373118,
          7.2396107708170145,
          -1.4347431945153888,
          6.465779956100386,
          -2.9013141040213473,
          -8.4718775873216,
          -2.821627338699192,
          -3.9925412584750934,
          -13.601134476838633,
          -4.3467399681880226,
          5.7146305800212085,
          8.048265915667244,
          8.938278222292695,
          6.731149184292278,
          4.292783158571909,
          -21.176932828936597,
          2.338797922910159,
          11.534862920649346,
          5.9273477626071145,
          4.272895766308989,
          -0.03453291263972827,
          11.157032002434772,
          11.527923789554906,
          -1.57344035665589,
          11.215166618486405,
          -1.8991798894914493,
          -7.104750840620024,
          3.7167941682901127,
          3.1824996510029346,
          -22.642241942333015,
          0.17737994239261326,
          -7.107479299554236,
          6.447289464490146,
          2.456037236356671,
          -3.8359047405060642,
          2.9164329948418377,
          0.055035263332533474,
          13.88462799531169,
          8.579538944616433,
          3.6778888929552167,
          -4.192282915643182,
          4.637087448476145,
          -3.651452518458881,
          12.997985069420837,
          3.8357674693722488,
          -10.004181121575895,
          0.9307370022895162,
          -3.2291016807688075,
          5.067140959489601,
          -8.60528844769843,
          -12.870942218409615,
          -8.482382582799143,
          6.504413605968586,
          1.6075331478426165,
          8.90229652401194,
          4.723044357883565,
          -4.578771000156343,
          -1.8820910803300528,
          16.386533470411816,
          9.038993398553057,
          5.8100771374122635,
          7.313074465106334,
          18.560091673128973,
          -19.30246790222283,
          -14.532353454475949
         ],
         "xaxis": "x2",
         "y": [
          1,
          1,
          1,
          1,
          1,
          1,
          1,
          1,
          1,
          1,
          1,
          1,
          1,
          1,
          1,
          1,
          1,
          1,
          1,
          1,
          1,
          1,
          1,
          1,
          1,
          1,
          1,
          1,
          1,
          1,
          1,
          1,
          1,
          1,
          1,
          1,
          1,
          1,
          1,
          1,
          1,
          1,
          1,
          1,
          1,
          1,
          1,
          1,
          1,
          1,
          1,
          1,
          1,
          1,
          1,
          1,
          1,
          1,
          1,
          1,
          1,
          1,
          1,
          1,
          1,
          1,
          1,
          1,
          1,
          1,
          1,
          1,
          1,
          1,
          1,
          1,
          1,
          1,
          1,
          1,
          1,
          1,
          1,
          1,
          1,
          1,
          1,
          1,
          1,
          1,
          1,
          1,
          1,
          1,
          1,
          1,
          1,
          1,
          1,
          1,
          1,
          1,
          1,
          1,
          1,
          1,
          1,
          1,
          1,
          1,
          1,
          1,
          1,
          1,
          1,
          1,
          1,
          1,
          1,
          1,
          1,
          1,
          1,
          1,
          1,
          1,
          1,
          1,
          1,
          1,
          1,
          1,
          1,
          1,
          1,
          1,
          1,
          1,
          1,
          1,
          1,
          1,
          1,
          1,
          1,
          1,
          1,
          1,
          1,
          1,
          1,
          1,
          1,
          1,
          1,
          1,
          1,
          1,
          1,
          1,
          1,
          1,
          1,
          1,
          1,
          1,
          1,
          1,
          1,
          1,
          1,
          1,
          1,
          1,
          1,
          1,
          1,
          1,
          1,
          1,
          1,
          1,
          1,
          1,
          1,
          1,
          1,
          1,
          1,
          1,
          1,
          1,
          1,
          1,
          1,
          1,
          1,
          1,
          1,
          1,
          1,
          1,
          1,
          1,
          1,
          1,
          1,
          1,
          1,
          1,
          1,
          1,
          1,
          1,
          1,
          1,
          1,
          1,
          1,
          1
         ],
         "yaxis": "y2"
        },
        {
         "hovertemplate": "<b>%{text}</b><br>PC Projection: %{x:.3f}<extra></extra>",
         "marker": {
          "color": "limegreen",
          "line": {
           "color": "black",
           "width": 1
          },
          "opacity": 1,
          "size": 8,
          "symbol": "diamond"
         },
         "mode": "markers",
         "showlegend": false,
         "text": [
          "Spiritual",
          "Solemn",
          "Serious",
          "Secular",
          "Ritualistic",
          "Reverent",
          "Rebellious",
          "Progressive",
          "Practical",
          "Nostalgic",
          "Meditative",
          "Irreverent",
          "Idealistic",
          "Grounded",
          "Experiential",
          "Existentialist",
          "Ethereal",
          "Contemporary",
          "Casual",
          "Bombastic"
         ],
         "type": "scatter",
         "x": [
          -31.67271030070451,
          -23.64416347319153,
          -23.733446452006504,
          22.016670985588238,
          -40.885188626367814,
          -32.47983230917475,
          24.12203125297781,
          23.603670677673758,
          28.653901065618165,
          -24.606762826819402,
          -26.351985807177435,
          22.13982335071503,
          -24.63746393075408,
          26.654857511291628,
          24.442596499405784,
          19.8318328169246,
          -25.754115227898954,
          28.86450447563431,
          21.381377795417166,
          -25.247673273733586
         ],
         "xaxis": "x2",
         "y": [
          1,
          1,
          1,
          1,
          1,
          1,
          1,
          1,
          1,
          1,
          1,
          1,
          1,
          1,
          1,
          1,
          1,
          1,
          1,
          1
         ],
         "yaxis": "y2"
        },
        {
         "hoverinfo": "skip",
         "line": {
          "color": "black",
          "width": 1
         },
         "mode": "lines",
         "showlegend": false,
         "type": "scatter",
         "x": [
          -40.885188626367814,
          -40.885188626367814
         ],
         "xaxis": "x2",
         "y": [
          1,
          1.45
         ],
         "yaxis": "y2"
        },
        {
         "hoverinfo": "skip",
         "line": {
          "color": "black",
          "width": 1
         },
         "mode": "lines",
         "showlegend": false,
         "type": "scatter",
         "x": [
          -32.47983230917475,
          -32.47983230917475
         ],
         "xaxis": "x2",
         "y": [
          1,
          0.6
         ],
         "yaxis": "y2"
        },
        {
         "hoverinfo": "skip",
         "line": {
          "color": "black",
          "width": 1
         },
         "mode": "lines",
         "showlegend": false,
         "type": "scatter",
         "x": [
          -31.67271030070451,
          -31.67271030070451
         ],
         "xaxis": "x2",
         "y": [
          1,
          1.9
         ],
         "yaxis": "y2"
        },
        {
         "hoverinfo": "skip",
         "line": {
          "color": "black",
          "width": 1
         },
         "mode": "lines",
         "showlegend": false,
         "type": "scatter",
         "x": [
          -26.351985807177435,
          -26.351985807177435
         ],
         "xaxis": "x2",
         "y": [
          1,
          0.15
         ],
         "yaxis": "y2"
        },
        {
         "hoverinfo": "skip",
         "line": {
          "color": "black",
          "width": 1
         },
         "mode": "lines",
         "showlegend": false,
         "type": "scatter",
         "x": [
          -25.754115227898954,
          -25.754115227898954
         ],
         "xaxis": "x2",
         "y": [
          1,
          1.6
         ],
         "yaxis": "y2"
        },
        {
         "hoverinfo": "skip",
         "line": {
          "color": "black",
          "width": 1
         },
         "mode": "lines",
         "showlegend": false,
         "type": "scatter",
         "x": [
          -25.247673273733586,
          -25.247673273733586
         ],
         "xaxis": "x2",
         "y": [
          1,
          0.45
         ],
         "yaxis": "y2"
        },
        {
         "hoverinfo": "skip",
         "line": {
          "color": "black",
          "width": 1
         },
         "mode": "lines",
         "showlegend": false,
         "type": "scatter",
         "x": [
          -24.63746393075408,
          -24.63746393075408
         ],
         "xaxis": "x2",
         "y": [
          1,
          1.3
         ],
         "yaxis": "y2"
        },
        {
         "hoverinfo": "skip",
         "line": {
          "color": "black",
          "width": 1
         },
         "mode": "lines",
         "showlegend": false,
         "type": "scatter",
         "x": [
          -24.606762826819402,
          -24.606762826819402
         ],
         "xaxis": "x2",
         "y": [
          1,
          0.75
         ],
         "yaxis": "y2"
        },
        {
         "hoverinfo": "skip",
         "line": {
          "color": "black",
          "width": 1
         },
         "mode": "lines",
         "showlegend": false,
         "type": "scatter",
         "x": [
          -23.733446452006504,
          -23.733446452006504
         ],
         "xaxis": "x2",
         "y": [
          1,
          1.75
         ],
         "yaxis": "y2"
        },
        {
         "hoverinfo": "skip",
         "line": {
          "color": "black",
          "width": 1
         },
         "mode": "lines",
         "showlegend": false,
         "type": "scatter",
         "x": [
          -23.64416347319153,
          -23.64416347319153
         ],
         "xaxis": "x2",
         "y": [
          1,
          0.3
         ],
         "yaxis": "y2"
        },
        {
         "hoverinfo": "skip",
         "line": {
          "color": "black",
          "width": 1
         },
         "mode": "lines",
         "showlegend": false,
         "type": "scatter",
         "x": [
          19.8318328169246,
          19.8318328169246
         ],
         "xaxis": "x2",
         "y": [
          1,
          1.45
         ],
         "yaxis": "y2"
        },
        {
         "hoverinfo": "skip",
         "line": {
          "color": "black",
          "width": 1
         },
         "mode": "lines",
         "showlegend": false,
         "type": "scatter",
         "x": [
          21.381377795417166,
          21.381377795417166
         ],
         "xaxis": "x2",
         "y": [
          1,
          0.6
         ],
         "yaxis": "y2"
        },
        {
         "hoverinfo": "skip",
         "line": {
          "color": "black",
          "width": 1
         },
         "mode": "lines",
         "showlegend": false,
         "type": "scatter",
         "x": [
          22.016670985588238,
          22.016670985588238
         ],
         "xaxis": "x2",
         "y": [
          1,
          1.9
         ],
         "yaxis": "y2"
        },
        {
         "hoverinfo": "skip",
         "line": {
          "color": "black",
          "width": 1
         },
         "mode": "lines",
         "showlegend": false,
         "type": "scatter",
         "x": [
          22.13982335071503,
          22.13982335071503
         ],
         "xaxis": "x2",
         "y": [
          1,
          0.15
         ],
         "yaxis": "y2"
        },
        {
         "hoverinfo": "skip",
         "line": {
          "color": "black",
          "width": 1
         },
         "mode": "lines",
         "showlegend": false,
         "type": "scatter",
         "x": [
          23.603670677673758,
          23.603670677673758
         ],
         "xaxis": "x2",
         "y": [
          1,
          1.6
         ],
         "yaxis": "y2"
        },
        {
         "hoverinfo": "skip",
         "line": {
          "color": "black",
          "width": 1
         },
         "mode": "lines",
         "showlegend": false,
         "type": "scatter",
         "x": [
          24.12203125297781,
          24.12203125297781
         ],
         "xaxis": "x2",
         "y": [
          1,
          0.45
         ],
         "yaxis": "y2"
        },
        {
         "hoverinfo": "skip",
         "line": {
          "color": "black",
          "width": 1
         },
         "mode": "lines",
         "showlegend": false,
         "type": "scatter",
         "x": [
          24.442596499405784,
          24.442596499405784
         ],
         "xaxis": "x2",
         "y": [
          1,
          1.3
         ],
         "yaxis": "y2"
        },
        {
         "hoverinfo": "skip",
         "line": {
          "color": "black",
          "width": 1
         },
         "mode": "lines",
         "showlegend": false,
         "type": "scatter",
         "x": [
          26.654857511291628,
          26.654857511291628
         ],
         "xaxis": "x2",
         "y": [
          1,
          0.75
         ],
         "yaxis": "y2"
        },
        {
         "hoverinfo": "skip",
         "line": {
          "color": "black",
          "width": 1
         },
         "mode": "lines",
         "showlegend": false,
         "type": "scatter",
         "x": [
          28.653901065618165,
          28.653901065618165
         ],
         "xaxis": "x2",
         "y": [
          1,
          1.75
         ],
         "yaxis": "y2"
        },
        {
         "hoverinfo": "skip",
         "line": {
          "color": "black",
          "width": 1
         },
         "mode": "lines",
         "showlegend": false,
         "type": "scatter",
         "x": [
          28.86450447563431,
          28.86450447563431
         ],
         "xaxis": "x2",
         "y": [
          1,
          0.3
         ],
         "yaxis": "y2"
        },
        {
         "hoverinfo": "skip",
         "marker": {
          "color": "limegreen"
         },
         "opacity": 0.7,
         "showlegend": false,
         "type": "bar",
         "width": 1.859991816053389,
         "x": [
          -39.722693741334446,
          -37.39770397126771,
          -35.07271420120097,
          -32.74772443113423,
          -30.422734661067494,
          -28.097744891000758,
          -25.772755120934022,
          -23.447765350867282,
          -21.122775580800546,
          -18.797785810733806,
          -16.47279604066707,
          -14.147806270600334,
          -11.822816500533596,
          -9.497826730466857,
          -7.172836960400119,
          -4.847847190333383,
          -2.5228574202666465,
          -0.19786765019991037,
          2.1271221198668293,
          4.452111889933569,
          6.777101660000305,
          9.102091430067041,
          11.427081200133777,
          13.752070970200514,
          16.077060740267253,
          18.402050510333993,
          20.72704028040073,
          23.05203005046747,
          25.37701982053421,
          27.702009590600944
         ],
         "xaxis": "x2",
         "y": [
          0.03333333333333333,
          0,
          0,
          0.06666666666666667,
          0,
          0,
          0.13333333333333333,
          0.13333333333333333,
          0.23333333333333334,
          0.19999999999999998,
          0.13333333333333333,
          0.36666666666666664,
          0.13333333333333333,
          0.3333333333333333,
          0.3333333333333333,
          0.5666666666666667,
          0.6,
          0.5,
          0.5666666666666667,
          0.9,
          0.8333333333333334,
          0.6,
          0.5666666666666667,
          0.23333333333333334,
          0.09999999999999999,
          0.09999999999999999,
          0.06666666666666667,
          0.13333333333333333,
          0.03333333333333333,
          0.09999999999999999
         ],
         "yaxis": "y2"
        }
       ],
       "layout": {
        "annotations": [
         {
          "font": {
           "size": 16
          },
          "showarrow": false,
          "text": "PC4 Cosine Similarity",
          "x": 0.5,
          "xanchor": "center",
          "xref": "paper",
          "y": 1,
          "yanchor": "bottom",
          "yref": "paper"
         },
         {
          "font": {
           "size": 16
          },
          "showarrow": false,
          "text": "PC4 Projection",
          "x": 0.5,
          "xanchor": "center",
          "xref": "paper",
          "y": 0.45,
          "yanchor": "bottom",
          "yref": "paper"
         },
         {
          "bgcolor": "rgba(255, 255, 255, 0.9)",
          "bordercolor": "black",
          "borderwidth": 1,
          "font": {
           "color": "black",
           "size": 10
          },
          "showarrow": false,
          "text": "Ritualistic",
          "x": -0.6796120495034882,
          "xref": "x",
          "y": 1.45,
          "yref": "y"
         },
         {
          "bgcolor": "rgba(255, 255, 255, 0.9)",
          "bordercolor": "black",
          "borderwidth": 1,
          "font": {
           "color": "black",
           "size": 10
          },
          "showarrow": false,
          "text": "Reverent",
          "x": -0.6702238004828487,
          "xref": "x",
          "y": 0.6,
          "yref": "y"
         },
         {
          "bgcolor": "rgba(255, 255, 255, 0.9)",
          "bordercolor": "black",
          "borderwidth": 1,
          "font": {
           "color": "black",
           "size": 10
          },
          "showarrow": false,
          "text": "Solemn",
          "x": -0.5555653188754308,
          "xref": "x",
          "y": 1.9,
          "yref": "y"
         },
         {
          "bgcolor": "rgba(255, 255, 255, 0.9)",
          "bordercolor": "black",
          "borderwidth": 1,
          "font": {
           "color": "black",
           "size": 10
          },
          "showarrow": false,
          "text": "Spiritual",
          "x": -0.48973058104964023,
          "xref": "x",
          "y": 0.15,
          "yref": "y"
         },
         {
          "bgcolor": "rgba(255, 255, 255, 0.9)",
          "bordercolor": "black",
          "borderwidth": 1,
          "font": {
           "color": "black",
           "size": 10
          },
          "showarrow": false,
          "text": "Idealistic",
          "x": -0.4754639078233555,
          "xref": "x",
          "y": 1.6,
          "yref": "y"
         },
         {
          "bgcolor": "rgba(255, 255, 255, 0.9)",
          "bordercolor": "black",
          "borderwidth": 1,
          "font": {
           "color": "black",
           "size": 10
          },
          "showarrow": false,
          "text": "Cryptic",
          "x": -0.46994099079915025,
          "xref": "x",
          "y": 0.45,
          "yref": "y"
         },
         {
          "bgcolor": "rgba(255, 255, 255, 0.9)",
          "bordercolor": "black",
          "borderwidth": 1,
          "font": {
           "color": "black",
           "size": 10
          },
          "showarrow": false,
          "text": "Theoretical",
          "x": -0.46057850309146975,
          "xref": "x",
          "y": 1.3,
          "yref": "y"
         },
         {
          "bgcolor": "rgba(255, 255, 255, 0.9)",
          "bordercolor": "black",
          "borderwidth": 1,
          "font": {
           "color": "black",
           "size": 10
          },
          "showarrow": false,
          "text": "Nostalgic",
          "x": -0.45933201474193974,
          "xref": "x",
          "y": 0.75,
          "yref": "y"
         },
         {
          "bgcolor": "rgba(255, 255, 255, 0.9)",
          "bordercolor": "black",
          "borderwidth": 1,
          "font": {
           "color": "black",
           "size": 10
          },
          "showarrow": false,
          "text": "Introverted",
          "x": -0.4495137140861847,
          "xref": "x",
          "y": 1.75,
          "yref": "y"
         },
         {
          "bgcolor": "rgba(255, 255, 255, 0.9)",
          "bordercolor": "black",
          "borderwidth": 1,
          "font": {
           "color": "black",
           "size": 10
          },
          "showarrow": false,
          "text": "Conceptual",
          "x": -0.4419266167959594,
          "xref": "x",
          "y": 0.3,
          "yref": "y"
         },
         {
          "bgcolor": "rgba(255, 255, 255, 0.9)",
          "bordercolor": "black",
          "borderwidth": 1,
          "font": {
           "color": "black",
           "size": 10
          },
          "showarrow": false,
          "text": "Existentialist",
          "x": 0.3898302729684334,
          "xref": "x",
          "y": 1.45,
          "yref": "y"
         },
         {
          "bgcolor": "rgba(255, 255, 255, 0.9)",
          "bordercolor": "black",
          "borderwidth": 1,
          "font": {
           "color": "black",
           "size": 10
          },
          "showarrow": false,
          "text": "Iconoclastic",
          "x": 0.41664150534123795,
          "xref": "x",
          "y": 0.6,
          "yref": "y"
         },
         {
          "bgcolor": "rgba(255, 255, 255, 0.9)",
          "bordercolor": "black",
          "borderwidth": 1,
          "font": {
           "color": "black",
           "size": 10
          },
          "showarrow": false,
          "text": "Innovative",
          "x": 0.4345466202691312,
          "xref": "x",
          "y": 1.9,
          "yref": "y"
         },
         {
          "bgcolor": "rgba(255, 255, 255, 0.9)",
          "bordercolor": "black",
          "borderwidth": 1,
          "font": {
           "color": "black",
           "size": 10
          },
          "showarrow": false,
          "text": "Practical",
          "x": 0.4588015624434996,
          "xref": "x",
          "y": 0.15,
          "yref": "y"
         },
         {
          "bgcolor": "rgba(255, 255, 255, 0.9)",
          "bordercolor": "black",
          "borderwidth": 1,
          "font": {
           "color": "black",
           "size": 10
          },
          "showarrow": false,
          "text": "Rebellious",
          "x": 0.4800401324109166,
          "xref": "x",
          "y": 1.6,
          "yref": "y"
         },
         {
          "bgcolor": "rgba(255, 255, 255, 0.9)",
          "bordercolor": "black",
          "borderwidth": 1,
          "font": {
           "color": "black",
           "size": 10
          },
          "showarrow": false,
          "text": "Grounded",
          "x": 0.48044754529239886,
          "xref": "x",
          "y": 0.45,
          "yref": "y"
         },
         {
          "bgcolor": "rgba(255, 255, 255, 0.9)",
          "bordercolor": "black",
          "borderwidth": 1,
          "font": {
           "color": "black",
           "size": 10
          },
          "showarrow": false,
          "text": "Experiential",
          "x": 0.500983715521812,
          "xref": "x",
          "y": 1.3,
          "yref": "y"
         },
         {
          "bgcolor": "rgba(255, 255, 255, 0.9)",
          "bordercolor": "black",
          "borderwidth": 1,
          "font": {
           "color": "black",
           "size": 10
          },
          "showarrow": false,
          "text": "Progressive",
          "x": 0.533200247328018,
          "xref": "x",
          "y": 0.75,
          "yref": "y"
         },
         {
          "bgcolor": "rgba(255, 255, 255, 0.9)",
          "bordercolor": "black",
          "borderwidth": 1,
          "font": {
           "color": "black",
           "size": 10
          },
          "showarrow": false,
          "text": "Contemporary",
          "x": 0.5398530264630733,
          "xref": "x",
          "y": 1.75,
          "yref": "y"
         },
         {
          "bgcolor": "rgba(255, 255, 255, 0.9)",
          "bordercolor": "black",
          "borderwidth": 1,
          "font": {
           "color": "black",
           "size": 10
          },
          "showarrow": false,
          "text": "Casual",
          "x": 0.5424536411527452,
          "xref": "x",
          "y": 0.3,
          "yref": "y"
         },
         {
          "bgcolor": "rgba(255, 255, 255, 0.9)",
          "bordercolor": "red",
          "borderwidth": 1,
          "font": {
           "color": "red",
           "size": 14
          },
          "showarrow": false,
          "text": "Assistant",
          "x": 0.11646833747310897,
          "xref": "x",
          "y": 2,
          "yref": "y"
         },
         {
          "bgcolor": "rgba(255, 255, 255, 0.9)",
          "bordercolor": "black",
          "borderwidth": 1,
          "font": {
           "color": "black",
           "size": 10
          },
          "showarrow": false,
          "text": "Ritualistic",
          "x": -40.885188626367814,
          "xref": "x2",
          "y": 1.45,
          "yref": "y2"
         },
         {
          "bgcolor": "rgba(255, 255, 255, 0.9)",
          "bordercolor": "black",
          "borderwidth": 1,
          "font": {
           "color": "black",
           "size": 10
          },
          "showarrow": false,
          "text": "Reverent",
          "x": -32.47983230917475,
          "xref": "x2",
          "y": 0.6,
          "yref": "y2"
         },
         {
          "bgcolor": "rgba(255, 255, 255, 0.9)",
          "bordercolor": "black",
          "borderwidth": 1,
          "font": {
           "color": "black",
           "size": 10
          },
          "showarrow": false,
          "text": "Spiritual",
          "x": -31.67271030070451,
          "xref": "x2",
          "y": 1.9,
          "yref": "y2"
         },
         {
          "bgcolor": "rgba(255, 255, 255, 0.9)",
          "bordercolor": "black",
          "borderwidth": 1,
          "font": {
           "color": "black",
           "size": 10
          },
          "showarrow": false,
          "text": "Meditative",
          "x": -26.351985807177435,
          "xref": "x2",
          "y": 0.15,
          "yref": "y2"
         },
         {
          "bgcolor": "rgba(255, 255, 255, 0.9)",
          "bordercolor": "black",
          "borderwidth": 1,
          "font": {
           "color": "black",
           "size": 10
          },
          "showarrow": false,
          "text": "Ethereal",
          "x": -25.754115227898954,
          "xref": "x2",
          "y": 1.6,
          "yref": "y2"
         },
         {
          "bgcolor": "rgba(255, 255, 255, 0.9)",
          "bordercolor": "black",
          "borderwidth": 1,
          "font": {
           "color": "black",
           "size": 10
          },
          "showarrow": false,
          "text": "Bombastic",
          "x": -25.247673273733586,
          "xref": "x2",
          "y": 0.45,
          "yref": "y2"
         },
         {
          "bgcolor": "rgba(255, 255, 255, 0.9)",
          "bordercolor": "black",
          "borderwidth": 1,
          "font": {
           "color": "black",
           "size": 10
          },
          "showarrow": false,
          "text": "Idealistic",
          "x": -24.63746393075408,
          "xref": "x2",
          "y": 1.3,
          "yref": "y2"
         },
         {
          "bgcolor": "rgba(255, 255, 255, 0.9)",
          "bordercolor": "black",
          "borderwidth": 1,
          "font": {
           "color": "black",
           "size": 10
          },
          "showarrow": false,
          "text": "Nostalgic",
          "x": -24.606762826819402,
          "xref": "x2",
          "y": 0.75,
          "yref": "y2"
         },
         {
          "bgcolor": "rgba(255, 255, 255, 0.9)",
          "bordercolor": "black",
          "borderwidth": 1,
          "font": {
           "color": "black",
           "size": 10
          },
          "showarrow": false,
          "text": "Serious",
          "x": -23.733446452006504,
          "xref": "x2",
          "y": 1.75,
          "yref": "y2"
         },
         {
          "bgcolor": "rgba(255, 255, 255, 0.9)",
          "bordercolor": "black",
          "borderwidth": 1,
          "font": {
           "color": "black",
           "size": 10
          },
          "showarrow": false,
          "text": "Solemn",
          "x": -23.64416347319153,
          "xref": "x2",
          "y": 0.3,
          "yref": "y2"
         },
         {
          "bgcolor": "rgba(255, 255, 255, 0.9)",
          "bordercolor": "black",
          "borderwidth": 1,
          "font": {
           "color": "black",
           "size": 10
          },
          "showarrow": false,
          "text": "Existentialist",
          "x": 19.8318328169246,
          "xref": "x2",
          "y": 1.45,
          "yref": "y2"
         },
         {
          "bgcolor": "rgba(255, 255, 255, 0.9)",
          "bordercolor": "black",
          "borderwidth": 1,
          "font": {
           "color": "black",
           "size": 10
          },
          "showarrow": false,
          "text": "Casual",
          "x": 21.381377795417166,
          "xref": "x2",
          "y": 0.6,
          "yref": "y2"
         },
         {
          "bgcolor": "rgba(255, 255, 255, 0.9)",
          "bordercolor": "black",
          "borderwidth": 1,
          "font": {
           "color": "black",
           "size": 10
          },
          "showarrow": false,
          "text": "Secular",
          "x": 22.016670985588238,
          "xref": "x2",
          "y": 1.9,
          "yref": "y2"
         },
         {
          "bgcolor": "rgba(255, 255, 255, 0.9)",
          "bordercolor": "black",
          "borderwidth": 1,
          "font": {
           "color": "black",
           "size": 10
          },
          "showarrow": false,
          "text": "Irreverent",
          "x": 22.13982335071503,
          "xref": "x2",
          "y": 0.15,
          "yref": "y2"
         },
         {
          "bgcolor": "rgba(255, 255, 255, 0.9)",
          "bordercolor": "black",
          "borderwidth": 1,
          "font": {
           "color": "black",
           "size": 10
          },
          "showarrow": false,
          "text": "Progressive",
          "x": 23.603670677673758,
          "xref": "x2",
          "y": 1.6,
          "yref": "y2"
         },
         {
          "bgcolor": "rgba(255, 255, 255, 0.9)",
          "bordercolor": "black",
          "borderwidth": 1,
          "font": {
           "color": "black",
           "size": 10
          },
          "showarrow": false,
          "text": "Rebellious",
          "x": 24.12203125297781,
          "xref": "x2",
          "y": 0.45,
          "yref": "y2"
         },
         {
          "bgcolor": "rgba(255, 255, 255, 0.9)",
          "bordercolor": "black",
          "borderwidth": 1,
          "font": {
           "color": "black",
           "size": 10
          },
          "showarrow": false,
          "text": "Experiential",
          "x": 24.442596499405784,
          "xref": "x2",
          "y": 1.3,
          "yref": "y2"
         },
         {
          "bgcolor": "rgba(255, 255, 255, 0.9)",
          "bordercolor": "black",
          "borderwidth": 1,
          "font": {
           "color": "black",
           "size": 10
          },
          "showarrow": false,
          "text": "Grounded",
          "x": 26.654857511291628,
          "xref": "x2",
          "y": 0.75,
          "yref": "y2"
         },
         {
          "bgcolor": "rgba(255, 255, 255, 0.9)",
          "bordercolor": "black",
          "borderwidth": 1,
          "font": {
           "color": "black",
           "size": 10
          },
          "showarrow": false,
          "text": "Practical",
          "x": 28.653901065618165,
          "xref": "x2",
          "y": 1.75,
          "yref": "y2"
         },
         {
          "bgcolor": "rgba(255, 255, 255, 0.9)",
          "bordercolor": "black",
          "borderwidth": 1,
          "font": {
           "color": "black",
           "size": 10
          },
          "showarrow": false,
          "text": "Contemporary",
          "x": 28.86450447563431,
          "xref": "x2",
          "y": 0.3,
          "yref": "y2"
         },
         {
          "bgcolor": "rgba(255, 255, 255, 0.9)",
          "bordercolor": "red",
          "borderwidth": 1,
          "font": {
           "color": "red",
           "size": 14
          },
          "showarrow": false,
          "text": "Assistant",
          "x": 6.74362793396809,
          "xref": "x2",
          "y": 2,
          "yref": "y2"
         }
        ],
        "height": 800,
        "shapes": [
         {
          "line": {
           "color": "gray",
           "dash": "solid",
           "width": 1
          },
          "opacity": 0.7,
          "type": "line",
          "x0": 0,
          "x1": 0,
          "xref": "x",
          "y0": 0,
          "y1": 1,
          "yref": "y domain"
         },
         {
          "line": {
           "color": "red",
           "dash": "dash",
           "width": 1
          },
          "opacity": 1,
          "type": "line",
          "x0": 0.11646833747310897,
          "x1": 0.11646833747310897,
          "xref": "x",
          "y0": 0,
          "y1": 1,
          "yref": "y domain"
         },
         {
          "line": {
           "color": "gray",
           "dash": "solid",
           "width": 1
          },
          "opacity": 0.7,
          "type": "line",
          "x0": 0,
          "x1": 0,
          "xref": "x2",
          "y0": 0,
          "y1": 1,
          "yref": "y2 domain"
         },
         {
          "line": {
           "color": "red",
           "dash": "dash",
           "width": 1
          },
          "opacity": 1,
          "type": "line",
          "x0": 6.74362793396809,
          "x1": 6.74362793396809,
          "xref": "x2",
          "y0": 0,
          "y1": 1,
          "yref": "y2 domain"
         }
        ],
        "showlegend": false,
        "template": {
         "data": {
          "bar": [
           {
            "error_x": {
             "color": "#2a3f5f"
            },
            "error_y": {
             "color": "#2a3f5f"
            },
            "marker": {
             "line": {
              "color": "#E5ECF6",
              "width": 0.5
             },
             "pattern": {
              "fillmode": "overlay",
              "size": 10,
              "solidity": 0.2
             }
            },
            "type": "bar"
           }
          ],
          "barpolar": [
           {
            "marker": {
             "line": {
              "color": "#E5ECF6",
              "width": 0.5
             },
             "pattern": {
              "fillmode": "overlay",
              "size": 10,
              "solidity": 0.2
             }
            },
            "type": "barpolar"
           }
          ],
          "carpet": [
           {
            "aaxis": {
             "endlinecolor": "#2a3f5f",
             "gridcolor": "white",
             "linecolor": "white",
             "minorgridcolor": "white",
             "startlinecolor": "#2a3f5f"
            },
            "baxis": {
             "endlinecolor": "#2a3f5f",
             "gridcolor": "white",
             "linecolor": "white",
             "minorgridcolor": "white",
             "startlinecolor": "#2a3f5f"
            },
            "type": "carpet"
           }
          ],
          "choropleth": [
           {
            "colorbar": {
             "outlinewidth": 0,
             "ticks": ""
            },
            "type": "choropleth"
           }
          ],
          "contour": [
           {
            "colorbar": {
             "outlinewidth": 0,
             "ticks": ""
            },
            "colorscale": [
             [
              0,
              "#0d0887"
             ],
             [
              0.1111111111111111,
              "#46039f"
             ],
             [
              0.2222222222222222,
              "#7201a8"
             ],
             [
              0.3333333333333333,
              "#9c179e"
             ],
             [
              0.4444444444444444,
              "#bd3786"
             ],
             [
              0.5555555555555556,
              "#d8576b"
             ],
             [
              0.6666666666666666,
              "#ed7953"
             ],
             [
              0.7777777777777778,
              "#fb9f3a"
             ],
             [
              0.8888888888888888,
              "#fdca26"
             ],
             [
              1,
              "#f0f921"
             ]
            ],
            "type": "contour"
           }
          ],
          "contourcarpet": [
           {
            "colorbar": {
             "outlinewidth": 0,
             "ticks": ""
            },
            "type": "contourcarpet"
           }
          ],
          "heatmap": [
           {
            "colorbar": {
             "outlinewidth": 0,
             "ticks": ""
            },
            "colorscale": [
             [
              0,
              "#0d0887"
             ],
             [
              0.1111111111111111,
              "#46039f"
             ],
             [
              0.2222222222222222,
              "#7201a8"
             ],
             [
              0.3333333333333333,
              "#9c179e"
             ],
             [
              0.4444444444444444,
              "#bd3786"
             ],
             [
              0.5555555555555556,
              "#d8576b"
             ],
             [
              0.6666666666666666,
              "#ed7953"
             ],
             [
              0.7777777777777778,
              "#fb9f3a"
             ],
             [
              0.8888888888888888,
              "#fdca26"
             ],
             [
              1,
              "#f0f921"
             ]
            ],
            "type": "heatmap"
           }
          ],
          "heatmapgl": [
           {
            "colorbar": {
             "outlinewidth": 0,
             "ticks": ""
            },
            "colorscale": [
             [
              0,
              "#0d0887"
             ],
             [
              0.1111111111111111,
              "#46039f"
             ],
             [
              0.2222222222222222,
              "#7201a8"
             ],
             [
              0.3333333333333333,
              "#9c179e"
             ],
             [
              0.4444444444444444,
              "#bd3786"
             ],
             [
              0.5555555555555556,
              "#d8576b"
             ],
             [
              0.6666666666666666,
              "#ed7953"
             ],
             [
              0.7777777777777778,
              "#fb9f3a"
             ],
             [
              0.8888888888888888,
              "#fdca26"
             ],
             [
              1,
              "#f0f921"
             ]
            ],
            "type": "heatmapgl"
           }
          ],
          "histogram": [
           {
            "marker": {
             "pattern": {
              "fillmode": "overlay",
              "size": 10,
              "solidity": 0.2
             }
            },
            "type": "histogram"
           }
          ],
          "histogram2d": [
           {
            "colorbar": {
             "outlinewidth": 0,
             "ticks": ""
            },
            "colorscale": [
             [
              0,
              "#0d0887"
             ],
             [
              0.1111111111111111,
              "#46039f"
             ],
             [
              0.2222222222222222,
              "#7201a8"
             ],
             [
              0.3333333333333333,
              "#9c179e"
             ],
             [
              0.4444444444444444,
              "#bd3786"
             ],
             [
              0.5555555555555556,
              "#d8576b"
             ],
             [
              0.6666666666666666,
              "#ed7953"
             ],
             [
              0.7777777777777778,
              "#fb9f3a"
             ],
             [
              0.8888888888888888,
              "#fdca26"
             ],
             [
              1,
              "#f0f921"
             ]
            ],
            "type": "histogram2d"
           }
          ],
          "histogram2dcontour": [
           {
            "colorbar": {
             "outlinewidth": 0,
             "ticks": ""
            },
            "colorscale": [
             [
              0,
              "#0d0887"
             ],
             [
              0.1111111111111111,
              "#46039f"
             ],
             [
              0.2222222222222222,
              "#7201a8"
             ],
             [
              0.3333333333333333,
              "#9c179e"
             ],
             [
              0.4444444444444444,
              "#bd3786"
             ],
             [
              0.5555555555555556,
              "#d8576b"
             ],
             [
              0.6666666666666666,
              "#ed7953"
             ],
             [
              0.7777777777777778,
              "#fb9f3a"
             ],
             [
              0.8888888888888888,
              "#fdca26"
             ],
             [
              1,
              "#f0f921"
             ]
            ],
            "type": "histogram2dcontour"
           }
          ],
          "mesh3d": [
           {
            "colorbar": {
             "outlinewidth": 0,
             "ticks": ""
            },
            "type": "mesh3d"
           }
          ],
          "parcoords": [
           {
            "line": {
             "colorbar": {
              "outlinewidth": 0,
              "ticks": ""
             }
            },
            "type": "parcoords"
           }
          ],
          "pie": [
           {
            "automargin": true,
            "type": "pie"
           }
          ],
          "scatter": [
           {
            "fillpattern": {
             "fillmode": "overlay",
             "size": 10,
             "solidity": 0.2
            },
            "type": "scatter"
           }
          ],
          "scatter3d": [
           {
            "line": {
             "colorbar": {
              "outlinewidth": 0,
              "ticks": ""
             }
            },
            "marker": {
             "colorbar": {
              "outlinewidth": 0,
              "ticks": ""
             }
            },
            "type": "scatter3d"
           }
          ],
          "scattercarpet": [
           {
            "marker": {
             "colorbar": {
              "outlinewidth": 0,
              "ticks": ""
             }
            },
            "type": "scattercarpet"
           }
          ],
          "scattergeo": [
           {
            "marker": {
             "colorbar": {
              "outlinewidth": 0,
              "ticks": ""
             }
            },
            "type": "scattergeo"
           }
          ],
          "scattergl": [
           {
            "marker": {
             "colorbar": {
              "outlinewidth": 0,
              "ticks": ""
             }
            },
            "type": "scattergl"
           }
          ],
          "scattermapbox": [
           {
            "marker": {
             "colorbar": {
              "outlinewidth": 0,
              "ticks": ""
             }
            },
            "type": "scattermapbox"
           }
          ],
          "scatterpolar": [
           {
            "marker": {
             "colorbar": {
              "outlinewidth": 0,
              "ticks": ""
             }
            },
            "type": "scatterpolar"
           }
          ],
          "scatterpolargl": [
           {
            "marker": {
             "colorbar": {
              "outlinewidth": 0,
              "ticks": ""
             }
            },
            "type": "scatterpolargl"
           }
          ],
          "scatterternary": [
           {
            "marker": {
             "colorbar": {
              "outlinewidth": 0,
              "ticks": ""
             }
            },
            "type": "scatterternary"
           }
          ],
          "surface": [
           {
            "colorbar": {
             "outlinewidth": 0,
             "ticks": ""
            },
            "colorscale": [
             [
              0,
              "#0d0887"
             ],
             [
              0.1111111111111111,
              "#46039f"
             ],
             [
              0.2222222222222222,
              "#7201a8"
             ],
             [
              0.3333333333333333,
              "#9c179e"
             ],
             [
              0.4444444444444444,
              "#bd3786"
             ],
             [
              0.5555555555555556,
              "#d8576b"
             ],
             [
              0.6666666666666666,
              "#ed7953"
             ],
             [
              0.7777777777777778,
              "#fb9f3a"
             ],
             [
              0.8888888888888888,
              "#fdca26"
             ],
             [
              1,
              "#f0f921"
             ]
            ],
            "type": "surface"
           }
          ],
          "table": [
           {
            "cells": {
             "fill": {
              "color": "#EBF0F8"
             },
             "line": {
              "color": "white"
             }
            },
            "header": {
             "fill": {
              "color": "#C8D4E3"
             },
             "line": {
              "color": "white"
             }
            },
            "type": "table"
           }
          ]
         },
         "layout": {
          "annotationdefaults": {
           "arrowcolor": "#2a3f5f",
           "arrowhead": 0,
           "arrowwidth": 1
          },
          "autotypenumbers": "strict",
          "coloraxis": {
           "colorbar": {
            "outlinewidth": 0,
            "ticks": ""
           }
          },
          "colorscale": {
           "diverging": [
            [
             0,
             "#8e0152"
            ],
            [
             0.1,
             "#c51b7d"
            ],
            [
             0.2,
             "#de77ae"
            ],
            [
             0.3,
             "#f1b6da"
            ],
            [
             0.4,
             "#fde0ef"
            ],
            [
             0.5,
             "#f7f7f7"
            ],
            [
             0.6,
             "#e6f5d0"
            ],
            [
             0.7,
             "#b8e186"
            ],
            [
             0.8,
             "#7fbc41"
            ],
            [
             0.9,
             "#4d9221"
            ],
            [
             1,
             "#276419"
            ]
           ],
           "sequential": [
            [
             0,
             "#0d0887"
            ],
            [
             0.1111111111111111,
             "#46039f"
            ],
            [
             0.2222222222222222,
             "#7201a8"
            ],
            [
             0.3333333333333333,
             "#9c179e"
            ],
            [
             0.4444444444444444,
             "#bd3786"
            ],
            [
             0.5555555555555556,
             "#d8576b"
            ],
            [
             0.6666666666666666,
             "#ed7953"
            ],
            [
             0.7777777777777778,
             "#fb9f3a"
            ],
            [
             0.8888888888888888,
             "#fdca26"
            ],
            [
             1,
             "#f0f921"
            ]
           ],
           "sequentialminus": [
            [
             0,
             "#0d0887"
            ],
            [
             0.1111111111111111,
             "#46039f"
            ],
            [
             0.2222222222222222,
             "#7201a8"
            ],
            [
             0.3333333333333333,
             "#9c179e"
            ],
            [
             0.4444444444444444,
             "#bd3786"
            ],
            [
             0.5555555555555556,
             "#d8576b"
            ],
            [
             0.6666666666666666,
             "#ed7953"
            ],
            [
             0.7777777777777778,
             "#fb9f3a"
            ],
            [
             0.8888888888888888,
             "#fdca26"
            ],
            [
             1,
             "#f0f921"
            ]
           ]
          },
          "colorway": [
           "#636efa",
           "#EF553B",
           "#00cc96",
           "#ab63fa",
           "#FFA15A",
           "#19d3f3",
           "#FF6692",
           "#B6E880",
           "#FF97FF",
           "#FECB52"
          ],
          "font": {
           "color": "#2a3f5f"
          },
          "geo": {
           "bgcolor": "white",
           "lakecolor": "white",
           "landcolor": "#E5ECF6",
           "showlakes": true,
           "showland": true,
           "subunitcolor": "white"
          },
          "hoverlabel": {
           "align": "left"
          },
          "hovermode": "closest",
          "mapbox": {
           "style": "light"
          },
          "paper_bgcolor": "white",
          "plot_bgcolor": "#E5ECF6",
          "polar": {
           "angularaxis": {
            "gridcolor": "white",
            "linecolor": "white",
            "ticks": ""
           },
           "bgcolor": "#E5ECF6",
           "radialaxis": {
            "gridcolor": "white",
            "linecolor": "white",
            "ticks": ""
           }
          },
          "scene": {
           "xaxis": {
            "backgroundcolor": "#E5ECF6",
            "gridcolor": "white",
            "gridwidth": 2,
            "linecolor": "white",
            "showbackground": true,
            "ticks": "",
            "zerolinecolor": "white"
           },
           "yaxis": {
            "backgroundcolor": "#E5ECF6",
            "gridcolor": "white",
            "gridwidth": 2,
            "linecolor": "white",
            "showbackground": true,
            "ticks": "",
            "zerolinecolor": "white"
           },
           "zaxis": {
            "backgroundcolor": "#E5ECF6",
            "gridcolor": "white",
            "gridwidth": 2,
            "linecolor": "white",
            "showbackground": true,
            "ticks": "",
            "zerolinecolor": "white"
           }
          },
          "shapedefaults": {
           "line": {
            "color": "#2a3f5f"
           }
          },
          "ternary": {
           "aaxis": {
            "gridcolor": "white",
            "linecolor": "white",
            "ticks": ""
           },
           "baxis": {
            "gridcolor": "white",
            "linecolor": "white",
            "ticks": ""
           },
           "bgcolor": "#E5ECF6",
           "caxis": {
            "gridcolor": "white",
            "linecolor": "white",
            "ticks": ""
           }
          },
          "title": {
           "x": 0.05
          },
          "xaxis": {
           "automargin": true,
           "gridcolor": "white",
           "linecolor": "white",
           "ticks": "",
           "title": {
            "standoff": 15
           },
           "zerolinecolor": "white",
           "zerolinewidth": 2
          },
          "yaxis": {
           "automargin": true,
           "gridcolor": "white",
           "linecolor": "white",
           "ticks": "",
           "title": {
            "standoff": 15
           },
           "zerolinecolor": "white",
           "zerolinewidth": 2
          }
         }
        },
        "title": {
         "font": {
          "size": 16
         },
         "subtitle": {
          "text": "Gemma 3 27B, Layer 32 - Shared Question Set, Mean-Centered and Scaled Vectors"
         },
         "text": "PCA on Trait Vectors",
         "x": 0.5
        },
        "width": 1200,
        "xaxis": {
         "anchor": "y",
         "domain": [
          0,
          1
         ],
         "range": [
          -0.747573254453837,
          0.747573254453837
         ]
        },
        "xaxis2": {
         "anchor": "y2",
         "domain": [
          0,
          1
         ],
         "range": [
          -44.973707489004596,
          44.973707489004596
         ]
        },
        "yaxis": {
         "anchor": "x",
         "domain": [
          0.55,
          1
         ],
         "range": [
          0,
          2.5
         ],
         "showticklabels": false
        },
        "yaxis2": {
         "anchor": "x2",
         "domain": [
          0,
          0.45
         ],
         "range": [
          0,
          2.5
         ],
         "showticklabels": false
        }
       }
      },
      "text/html": [
       "<div>                            <div id=\"c187a918-5f82-48fc-a910-0aa6607c08a3\" class=\"plotly-graph-div\" style=\"height:800px; width:1200px;\"></div>            <script type=\"text/javascript\">                require([\"plotly\"], function(Plotly) {                    window.PLOTLYENV=window.PLOTLYENV || {};                                    if (document.getElementById(\"c187a918-5f82-48fc-a910-0aa6607c08a3\")) {                    Plotly.newPlot(                        \"c187a918-5f82-48fc-a910-0aa6607c08a3\",                        [{\"hovertemplate\":\"\\u003cb\\u003e%{text}\\u003c\\u002fb\\u003e\\u003cbr\\u003eCosine Similarity: %{x:.3f}\\u003cextra\\u003e\\u003c\\u002fextra\\u003e\",\"marker\":{\"color\":\"limegreen\",\"line\":{\"color\":\"black\",\"width\":1},\"opacity\":1.0,\"size\":8,\"symbol\":\"diamond\"},\"mode\":\"markers\",\"showlegend\":false,\"text\":[\"Zealous\",\"Wry\",\"Witty\",\"Whimsical\",\"Visceral\",\"Vindictive\",\"Verbose\",\"Utilitarian\",\"Urgent\",\"Universalist\",\"Understated\",\"Transparent\",\"Traditional\",\"Theatrical\",\"Temperamental\",\"Technical\",\"Tactful\",\"Systems thinker\",\"Sycophantic\",\"Supportive\",\"Subversive\",\"Submissive\",\"Structuralist\",\"Stream of consciousness\",\"Strategic\",\"Stoic\",\"Spontaneous\",\"Speculative\",\"Specialized\",\"Socratic\",\"Skeptical\",\"Serious\",\"Serene\",\"Secular\",\"Savage\",\"Sassy\",\"Sardonic\",\"Sarcastic\",\"Romantic\",\"Risk taking\",\"Rhetorical\",\"Resilient\",\"Reserved\",\"Relativist\",\"Regulatory\",\"Reductionist\",\"Reactive\",\"Rationalist\",\"Radical\",\"Quantitative\",\"Qualitative\",\"Provocative\",\"Problem solving\",\"Proactive\",\"Principled\",\"Prescriptive\",\"Poetic\",\"Pluralist\",\"Playful\",\"Philosophical\",\"Petty\",\"Pessimistic\",\"Perfectionist\",\"Pensive\",\"Pedantic\",\"Patient\",\"Passive aggressive\",\"Passionate\",\"Paranoid\",\"Paradoxical\",\"Pacifist\",\"Optimistic\",\"Open ended\",\"Obsessive\",\"Nurturing\",\"Nonchalant\",\"Nihilistic\",\"Neurotic\",\"Narrative\",\"Naive\",\"Mystical\",\"Moderate\",\"Mischievous\",\"Misanthropic\",\"Militant\",\"Meticulous\",\"Methodical\",\"Metaphorical\",\"Mercurial\",\"Melodramatic\",\"Melancholic\",\"Meditative\",\"Materialist\",\"Manipulative\",\"Manic\",\"Literal\",\"Libertarian\",\"Judgmental\",\"Irreverent\",\"Ironic\",\"Intuitive\",\"Introspective\",\"Interdisciplinary\",\"Inspirational\",\"Inquisitive\",\"Individualistic\",\"Independent\",\"Inclusive\",\"Impulsive\",\"Improvisational\",\"Impatient\",\"Humble\",\"Humanistic\",\"Hostile\",\"Holistic\",\"Historical\",\"Hedonistic\",\"Gregarious\",\"Grandiose\",\"Goofy\",\"Generous\",\"Generalist\",\"Futuristic\",\"Fundamentalist\",\"Formalist\",\"Formal\",\"Forgiving\",\"Flirty\",\"Flippant\",\"Flexible\",\"Fatalistic\",\"Factual\",\"Extroverted\",\"Exploratory\",\"Evil\",\"Ethereal\",\"Essentialist\",\"Esoteric\",\"Erudite\",\"Epicurean\",\"Environmental\",\"Entertaining\",\"Enigmatic\",\"Empathetic\",\"Emotional\",\"Eloquent\",\"Elitist\",\"Egalitarian\",\"Effusive\",\"Efficient\",\"Educational\",\"Edgy\",\"Eclectic\",\"Earnest\",\"Dramatic\",\"Dominant\",\"Dogmatic\",\"Divergent\",\"Dispassionate\",\"Disorganized\",\"Diplomatic\",\"Deterministic\",\"Detached\",\"Descriptive\",\"Deontological\",\"Deferential\",\"Deconstructionist\",\"Decisive\",\"Data driven\",\"Cynical\",\"Curious\",\"Cruel\",\"Critical\",\"Creative\",\"Cosmopolitan\",\"Convergent\",\"Contrarian\",\"Constructivist\",\"Conscientious\",\"Confrontational\",\"Confident\",\"Condescending\",\"Concise\",\"Conciliatory\",\"Competitive\",\"Collectivistic\",\"Collaborative\",\"Closure seeking\",\"Circumspect\",\"Chill\",\"Charismatic\",\"Chaotic\",\"Challenging\",\"Cautious\",\"Calm\",\"Callous\",\"Calculating\",\"Bombastic\",\"Blunt\",\"Bitter\",\"Big picture\",\"Benevolent\",\"Avoidant\",\"Assertive\",\"Ascetic\",\"Artistic\",\"Arrogant\",\"Anxious\",\"Anthropocentric\",\"Animated\",\"Analytical\",\"Altruistic\",\"Agreeable\",\"Adventurous\",\"Adaptable\",\"Acerbic\",\"Accommodating\",\"Accessible\",\"Abstract\",\"Absolutist\"],\"x\":[-0.07013805298288488,0.1119982855036101,0.11104510424495077,-0.023916435531084215,0.10154215689766442,-0.06908154002062133,-0.011455480469440282,0.3136595501490227,0.33031843029768104,-0.10765080943854942,-0.005345515067828847,0.10846448252949957,-0.33396708630168936,-0.12576497484126808,0.09283537109379163,-0.07303423480138097,-0.1695532648160566,0.06889915884189797,-0.04674906239512933,0.040199375752070284,0.2861103051006856,-0.05079669387380376,-0.07479194102320043,0.14329648506992249,0.03973053866538461,-0.11214269436416784,0.2320901847300333,0.15959114694979434,-0.07228339585104648,-0.002609118049773116,0.13009603954925392,-0.37660224679048276,-0.3684000294266093,0.3599028320793236,0.1106267449369966,0.30641643279282366,0.08331716415868545,0.030028734932428785,-0.33872876888810954,0.29517691870407103,-0.12486800468051833,0.0827240827546349,-0.010040735937262034,-0.017679539922122515,-0.24136187878186494,0.20585049208287737,0.03730192112404385,0.16845883996479086,0.20359176480010796,0.24758193799075617,-0.14927036910433053,0.13559604376013323,0.16781680444096786,0.04683243427140074,-0.15355522210238803,0.020651084068971287,-0.2231098867920074,0.1902054368506905,0.2092206493029176,-0.15721916784682327,-0.09822685791827171,0.05664718396422505,-0.10970792312322039,-0.08016299332663171,-0.17170369957058243,0.030438759432071198,-0.08036911031200851,0.03555067116157097,-0.029522312571971795,-0.051942494491633566,-0.15027066707805872,-0.0352497904750904,0.05252563925413074,-0.07920201413735514,-0.020291912487967884,0.01787340076619152,-0.020580386215465308,0.12089797857790135,-0.14009551439307172,-0.05257427805653276,-0.3606332973221311,0.032953959782099786,0.09269946307122695,-0.008429555432790515,0.04961360264327131,-0.04425268187215648,-0.07391917751220571,-0.15475534598816654,0.15994988928463158,-0.15771981032925037,-0.10502413401970077,-0.2550901595100219,0.1416502954804377,-0.14314782151210814,0.1444493726450371,-0.0020372641504387413,-0.09473033410805948,0.08807955709528391,0.2825383444575972,-0.05333587673279947,0.032704670307989445,0.04950842988597228,0.2095414761312156,-0.003865964450952114,0.11267154850509113,0.1584840742908426,0.13023493343488493,0.20680725029273245,0.015905419223235916,0.17129505700791106,0.04922838499994772,0.25447064206767456,0.04057543058540131,0.06261480679311732,0.06584165165774196,-0.21538412380448768,0.0919892886313601,0.12835167129539654,-0.4223153626037926,0.17274599145492583,0.0652328598785699,0.19895782741159118,0.30014492348738386,-0.1313120744036203,-0.3097067293527626,-0.4145660741829558,0.07764100046071729,-0.12067487739254282,0.07738517255969997,0.2745395919875007,-0.1985903071822724,0.08838685497521623,0.27685990745456135,0.09028627391342964,-0.04135504080682319,-0.40017756000562943,-0.31934708825738817,-0.34148861676202646,-0.159891495304128,-0.23951754546311205,-0.011606361728701556,0.17998488479392813,-0.23931445911379493,0.05494048041606751,0.04366835368654829,-0.1586253971267382,-0.2422404213507723,0.2747044736679956,0.036567526852456914,0.03926930389313875,0.03996847745138438,0.25719007569802904,-0.027833515356997254,-0.002289825876763983,-0.1260286975361328,0.07718394240149928,-0.10749860774864452,0.06159697846095758,-0.016409628840047256,0.09285024386034134,-0.06075783512393212,-0.13655806448558228,-0.036668016750603064,-0.06012192435434814,-0.24921669586553605,-0.10307461190159527,0.06369138357851777,0.0996635035482492,0.15833529563309712,0.12883272587468214,0.052984056996377274,0.023613448535184028,0.16651738119637982,0.07606205704163968,0.08951876972035008,-0.000873893407682903,0.2213474775200814,0.2104253902021714,-0.016846711649862584,0.3008416903362773,-0.018326288020872498,-0.11355974346289995,0.02360504885175112,0.07184264330444355,0.0027434353825086105,-0.15601952972019112,0.13516536294039397,0.027654640570119758,-0.04622488974224265,0.06279932859677136,0.0005540680313117991,0.31377260388775985,0.11668980655346335,0.05937865533040862,-0.0702533724090356,0.032209388927290444,-0.03360279114477756,-0.31494360922191605,0.18077860959128292,0.05986756640895129,-0.21852398387039257,0.018429609217853325,-0.04663371132363658,0.10547803832561892,-0.15382079546332061,-0.1952161771964811,-0.10429347367412828,0.12114519112670977,0.038710663516335245,0.11622171170931817,0.044967001545449706,-0.09426637482409807,-0.02433867614439097,0.36149668125014406,0.07459053696396978,0.07565177296676896,0.22887029610861365,0.3087533815089646,-0.39074813083049537,-0.262273931997994],\"y\":[1,1,1,1,1,1,1,1,1,1,1,1,1,1,1,1,1,1,1,1,1,1,1,1,1,1,1,1,1,1,1,1,1,1,1,1,1,1,1,1,1,1,1,1,1,1,1,1,1,1,1,1,1,1,1,1,1,1,1,1,1,1,1,1,1,1,1,1,1,1,1,1,1,1,1,1,1,1,1,1,1,1,1,1,1,1,1,1,1,1,1,1,1,1,1,1,1,1,1,1,1,1,1,1,1,1,1,1,1,1,1,1,1,1,1,1,1,1,1,1,1,1,1,1,1,1,1,1,1,1,1,1,1,1,1,1,1,1,1,1,1,1,1,1,1,1,1,1,1,1,1,1,1,1,1,1,1,1,1,1,1,1,1,1,1,1,1,1,1,1,1,1,1,1,1,1,1,1,1,1,1,1,1,1,1,1,1,1,1,1,1,1,1,1,1,1,1,1,1,1,1,1,1,1,1,1,1,1,1,1,1,1,1,1,1,1,1,1,1,1],\"type\":\"scatter\",\"xaxis\":\"x\",\"yaxis\":\"y\"},{\"hovertemplate\":\"\\u003cb\\u003e%{text}\\u003c\\u002fb\\u003e\\u003cbr\\u003eCosine Similarity: %{x:.3f}\\u003cextra\\u003e\\u003c\\u002fextra\\u003e\",\"marker\":{\"color\":\"limegreen\",\"line\":{\"color\":\"black\",\"width\":1},\"opacity\":1.0,\"size\":8,\"symbol\":\"diamond\"},\"mode\":\"markers\",\"showlegend\":false,\"text\":[\"Theoretical\",\"Spiritual\",\"Solemn\",\"Ritualistic\",\"Reverent\",\"Rebellious\",\"Progressive\",\"Practical\",\"Nostalgic\",\"Introverted\",\"Innovative\",\"Idealistic\",\"Iconoclastic\",\"Grounded\",\"Experiential\",\"Existentialist\",\"Cryptic\",\"Contemporary\",\"Conceptual\",\"Casual\"],\"x\":[-0.46057850309146975,-0.48973058104964023,-0.5555653188754308,-0.6796120495034882,-0.6702238004828487,0.4800401324109166,0.533200247328018,0.4588015624434996,-0.45933201474193974,-0.4495137140861847,0.4345466202691312,-0.4754639078233555,0.41664150534123795,0.48044754529239886,0.500983715521812,0.3898302729684334,-0.46994099079915025,0.5398530264630733,-0.4419266167959594,0.5424536411527452],\"y\":[1,1,1,1,1,1,1,1,1,1,1,1,1,1,1,1,1,1,1,1],\"type\":\"scatter\",\"xaxis\":\"x\",\"yaxis\":\"y\"},{\"hoverinfo\":\"skip\",\"line\":{\"color\":\"black\",\"width\":1},\"mode\":\"lines\",\"showlegend\":false,\"x\":[-0.6796120495034882,-0.6796120495034882],\"y\":[1.0,1.45],\"type\":\"scatter\",\"xaxis\":\"x\",\"yaxis\":\"y\"},{\"hoverinfo\":\"skip\",\"line\":{\"color\":\"black\",\"width\":1},\"mode\":\"lines\",\"showlegend\":false,\"x\":[-0.6702238004828487,-0.6702238004828487],\"y\":[1.0,0.6],\"type\":\"scatter\",\"xaxis\":\"x\",\"yaxis\":\"y\"},{\"hoverinfo\":\"skip\",\"line\":{\"color\":\"black\",\"width\":1},\"mode\":\"lines\",\"showlegend\":false,\"x\":[-0.5555653188754308,-0.5555653188754308],\"y\":[1.0,1.9],\"type\":\"scatter\",\"xaxis\":\"x\",\"yaxis\":\"y\"},{\"hoverinfo\":\"skip\",\"line\":{\"color\":\"black\",\"width\":1},\"mode\":\"lines\",\"showlegend\":false,\"x\":[-0.48973058104964023,-0.48973058104964023],\"y\":[1.0,0.15],\"type\":\"scatter\",\"xaxis\":\"x\",\"yaxis\":\"y\"},{\"hoverinfo\":\"skip\",\"line\":{\"color\":\"black\",\"width\":1},\"mode\":\"lines\",\"showlegend\":false,\"x\":[-0.4754639078233555,-0.4754639078233555],\"y\":[1.0,1.6],\"type\":\"scatter\",\"xaxis\":\"x\",\"yaxis\":\"y\"},{\"hoverinfo\":\"skip\",\"line\":{\"color\":\"black\",\"width\":1},\"mode\":\"lines\",\"showlegend\":false,\"x\":[-0.46994099079915025,-0.46994099079915025],\"y\":[1.0,0.45],\"type\":\"scatter\",\"xaxis\":\"x\",\"yaxis\":\"y\"},{\"hoverinfo\":\"skip\",\"line\":{\"color\":\"black\",\"width\":1},\"mode\":\"lines\",\"showlegend\":false,\"x\":[-0.46057850309146975,-0.46057850309146975],\"y\":[1.0,1.3],\"type\":\"scatter\",\"xaxis\":\"x\",\"yaxis\":\"y\"},{\"hoverinfo\":\"skip\",\"line\":{\"color\":\"black\",\"width\":1},\"mode\":\"lines\",\"showlegend\":false,\"x\":[-0.45933201474193974,-0.45933201474193974],\"y\":[1.0,0.75],\"type\":\"scatter\",\"xaxis\":\"x\",\"yaxis\":\"y\"},{\"hoverinfo\":\"skip\",\"line\":{\"color\":\"black\",\"width\":1},\"mode\":\"lines\",\"showlegend\":false,\"x\":[-0.4495137140861847,-0.4495137140861847],\"y\":[1.0,1.75],\"type\":\"scatter\",\"xaxis\":\"x\",\"yaxis\":\"y\"},{\"hoverinfo\":\"skip\",\"line\":{\"color\":\"black\",\"width\":1},\"mode\":\"lines\",\"showlegend\":false,\"x\":[-0.4419266167959594,-0.4419266167959594],\"y\":[1.0,0.3],\"type\":\"scatter\",\"xaxis\":\"x\",\"yaxis\":\"y\"},{\"hoverinfo\":\"skip\",\"line\":{\"color\":\"black\",\"width\":1},\"mode\":\"lines\",\"showlegend\":false,\"x\":[0.3898302729684334,0.3898302729684334],\"y\":[1.0,1.45],\"type\":\"scatter\",\"xaxis\":\"x\",\"yaxis\":\"y\"},{\"hoverinfo\":\"skip\",\"line\":{\"color\":\"black\",\"width\":1},\"mode\":\"lines\",\"showlegend\":false,\"x\":[0.41664150534123795,0.41664150534123795],\"y\":[1.0,0.6],\"type\":\"scatter\",\"xaxis\":\"x\",\"yaxis\":\"y\"},{\"hoverinfo\":\"skip\",\"line\":{\"color\":\"black\",\"width\":1},\"mode\":\"lines\",\"showlegend\":false,\"x\":[0.4345466202691312,0.4345466202691312],\"y\":[1.0,1.9],\"type\":\"scatter\",\"xaxis\":\"x\",\"yaxis\":\"y\"},{\"hoverinfo\":\"skip\",\"line\":{\"color\":\"black\",\"width\":1},\"mode\":\"lines\",\"showlegend\":false,\"x\":[0.4588015624434996,0.4588015624434996],\"y\":[1.0,0.15],\"type\":\"scatter\",\"xaxis\":\"x\",\"yaxis\":\"y\"},{\"hoverinfo\":\"skip\",\"line\":{\"color\":\"black\",\"width\":1},\"mode\":\"lines\",\"showlegend\":false,\"x\":[0.4800401324109166,0.4800401324109166],\"y\":[1.0,1.6],\"type\":\"scatter\",\"xaxis\":\"x\",\"yaxis\":\"y\"},{\"hoverinfo\":\"skip\",\"line\":{\"color\":\"black\",\"width\":1},\"mode\":\"lines\",\"showlegend\":false,\"x\":[0.48044754529239886,0.48044754529239886],\"y\":[1.0,0.45],\"type\":\"scatter\",\"xaxis\":\"x\",\"yaxis\":\"y\"},{\"hoverinfo\":\"skip\",\"line\":{\"color\":\"black\",\"width\":1},\"mode\":\"lines\",\"showlegend\":false,\"x\":[0.500983715521812,0.500983715521812],\"y\":[1.0,1.3],\"type\":\"scatter\",\"xaxis\":\"x\",\"yaxis\":\"y\"},{\"hoverinfo\":\"skip\",\"line\":{\"color\":\"black\",\"width\":1},\"mode\":\"lines\",\"showlegend\":false,\"x\":[0.533200247328018,0.533200247328018],\"y\":[1.0,0.75],\"type\":\"scatter\",\"xaxis\":\"x\",\"yaxis\":\"y\"},{\"hoverinfo\":\"skip\",\"line\":{\"color\":\"black\",\"width\":1},\"mode\":\"lines\",\"showlegend\":false,\"x\":[0.5398530264630733,0.5398530264630733],\"y\":[1.0,1.75],\"type\":\"scatter\",\"xaxis\":\"x\",\"yaxis\":\"y\"},{\"hoverinfo\":\"skip\",\"line\":{\"color\":\"black\",\"width\":1},\"mode\":\"lines\",\"showlegend\":false,\"x\":[0.5424536411527452,0.5424536411527452],\"y\":[1.0,0.3],\"type\":\"scatter\",\"xaxis\":\"x\",\"yaxis\":\"y\"},{\"hoverinfo\":\"skip\",\"marker\":{\"color\":\"limegreen\"},\"opacity\":0.7,\"showlegend\":false,\"width\":0.03258841841749956,\"x\":[-0.659244287992551,-0.6185087649706765,-0.5777732419488021,-0.5370377189269276,-0.4963021959050532,-0.45556667288317876,-0.4148311498613043,-0.3740956268394299,-0.33336010381755543,-0.292624580795681,-0.25188905777380655,-0.2111535347519321,-0.17041801173005766,-0.12968248870818322,-0.08894696568630878,-0.048211442664434334,-0.007475919642559892,0.03325960337931455,0.073995126401189,0.11473064942306344,0.15546617244493788,0.19620169546681232,0.23693721848868676,0.2776727415105612,0.31840826453243565,0.3591437875543101,0.39987931057618453,0.440614833598059,0.4813503566199334,0.522085879641808],\"y\":[0.06206896551724138,0.0,0.0,0.03103448275862069,0.03103448275862069,0.18620689655172415,0.09310344827586207,0.12413793103448276,0.15517241379310345,0.03103448275862069,0.21724137931034485,0.15517241379310345,0.3413793103448276,0.3724137931034483,0.5586206896551724,0.4655172413793104,0.6517241379310345,0.9,0.8689655172413794,0.496551724137931,0.4344827586206897,0.3103448275862069,0.18620689655172415,0.18620689655172415,0.21724137931034485,0.06206896551724138,0.06206896551724138,0.06206896551724138,0.09310344827586207,0.09310344827586207],\"type\":\"bar\",\"xaxis\":\"x\",\"yaxis\":\"y\"},{\"hovertemplate\":\"\\u003cb\\u003e%{text}\\u003c\\u002fb\\u003e\\u003cbr\\u003ePC Projection: %{x:.3f}\\u003cextra\\u003e\\u003c\\u002fextra\\u003e\",\"marker\":{\"color\":\"limegreen\",\"line\":{\"color\":\"black\",\"width\":1},\"opacity\":1.0,\"size\":8,\"symbol\":\"diamond\"},\"mode\":\"markers\",\"showlegend\":false,\"text\":[\"Zealous\",\"Wry\",\"Witty\",\"Whimsical\",\"Visceral\",\"Vindictive\",\"Verbose\",\"Utilitarian\",\"Urgent\",\"Universalist\",\"Understated\",\"Transparent\",\"Traditional\",\"Theoretical\",\"Theatrical\",\"Temperamental\",\"Technical\",\"Tactful\",\"Systems thinker\",\"Sycophantic\",\"Supportive\",\"Subversive\",\"Submissive\",\"Structuralist\",\"Stream of consciousness\",\"Strategic\",\"Stoic\",\"Spontaneous\",\"Speculative\",\"Specialized\",\"Socratic\",\"Skeptical\",\"Serene\",\"Savage\",\"Sassy\",\"Sardonic\",\"Sarcastic\",\"Romantic\",\"Risk taking\",\"Rhetorical\",\"Resilient\",\"Reserved\",\"Relativist\",\"Regulatory\",\"Reductionist\",\"Reactive\",\"Rationalist\",\"Radical\",\"Quantitative\",\"Qualitative\",\"Provocative\",\"Problem solving\",\"Proactive\",\"Principled\",\"Prescriptive\",\"Poetic\",\"Pluralist\",\"Playful\",\"Philosophical\",\"Petty\",\"Pessimistic\",\"Perfectionist\",\"Pensive\",\"Pedantic\",\"Patient\",\"Passive aggressive\",\"Passionate\",\"Paranoid\",\"Paradoxical\",\"Pacifist\",\"Optimistic\",\"Open ended\",\"Obsessive\",\"Nurturing\",\"Nonchalant\",\"Nihilistic\",\"Neurotic\",\"Narrative\",\"Naive\",\"Mystical\",\"Moderate\",\"Mischievous\",\"Misanthropic\",\"Militant\",\"Meticulous\",\"Methodical\",\"Metaphorical\",\"Mercurial\",\"Melodramatic\",\"Melancholic\",\"Materialist\",\"Manipulative\",\"Manic\",\"Literal\",\"Libertarian\",\"Judgmental\",\"Ironic\",\"Intuitive\",\"Introverted\",\"Introspective\",\"Interdisciplinary\",\"Inspirational\",\"Inquisitive\",\"Innovative\",\"Individualistic\",\"Independent\",\"Inclusive\",\"Impulsive\",\"Improvisational\",\"Impatient\",\"Iconoclastic\",\"Humble\",\"Humanistic\",\"Hostile\",\"Holistic\",\"Historical\",\"Hedonistic\",\"Gregarious\",\"Grandiose\",\"Goofy\",\"Generous\",\"Generalist\",\"Futuristic\",\"Fundamentalist\",\"Formalist\",\"Formal\",\"Forgiving\",\"Flirty\",\"Flippant\",\"Flexible\",\"Fatalistic\",\"Factual\",\"Extroverted\",\"Exploratory\",\"Evil\",\"Essentialist\",\"Esoteric\",\"Erudite\",\"Epicurean\",\"Environmental\",\"Entertaining\",\"Enigmatic\",\"Empathetic\",\"Emotional\",\"Eloquent\",\"Elitist\",\"Egalitarian\",\"Effusive\",\"Efficient\",\"Educational\",\"Edgy\",\"Eclectic\",\"Earnest\",\"Dramatic\",\"Dominant\",\"Dogmatic\",\"Divergent\",\"Dispassionate\",\"Disorganized\",\"Diplomatic\",\"Deterministic\",\"Detached\",\"Descriptive\",\"Deontological\",\"Deferential\",\"Deconstructionist\",\"Decisive\",\"Data driven\",\"Cynical\",\"Curious\",\"Cryptic\",\"Cruel\",\"Critical\",\"Creative\",\"Cosmopolitan\",\"Convergent\",\"Contrarian\",\"Constructivist\",\"Conscientious\",\"Confrontational\",\"Confident\",\"Condescending\",\"Concise\",\"Conciliatory\",\"Conceptual\",\"Competitive\",\"Collectivistic\",\"Collaborative\",\"Closure seeking\",\"Circumspect\",\"Chill\",\"Charismatic\",\"Chaotic\",\"Challenging\",\"Cautious\",\"Calm\",\"Callous\",\"Calculating\",\"Blunt\",\"Bitter\",\"Big picture\",\"Benevolent\",\"Avoidant\",\"Assertive\",\"Ascetic\",\"Artistic\",\"Arrogant\",\"Anxious\",\"Anthropocentric\",\"Animated\",\"Analytical\",\"Altruistic\",\"Agreeable\",\"Adventurous\",\"Adaptable\",\"Acerbic\",\"Accommodating\",\"Accessible\",\"Abstract\",\"Absolutist\"],\"x\":[-4.657596073730055,4.7132229662439515,8.836817088540805,-1.157688418951845,8.70340051925176,-3.014333647409852,-1.1694789081291288,13.886814004424107,16.994287428870617,-5.8894438998133465,-0.6599854758399363,12.47376467488314,-21.354988867716667,-20.711788908204067,-15.888129448339786,6.079130231386239,-3.7120319109680495,-8.070467407887538,3.9933584104982023,-5.99004186400031,4.4249504990094755,10.676134668782538,-4.545777858981534,-3.5897698400383105,6.282308684713077,3.715527762582343,-8.343690369194157,10.028499766647252,7.94527443529623,-4.782075012858372,-0.23952028578369097,12.114749169797703,-18.202420586583283,10.32018432756916,10.771223045435919,5.619437993212126,2.614856015895776,-21.967516342282043,11.715017503889719,-11.700049748108645,4.434600775595135,-1.4003664335952186,-0.9726026752890604,-12.028193555567439,9.487341410959495,4.817966366136135,8.539785700727268,9.70631177808463,14.12596213968816,-8.485938853784639,9.74746665957954,13.098135392042774,6.733540148431572,-6.130401550254025,1.0823528963920634,-14.219202359586838,7.19338741788273,9.444262251395912,-13.545218424588782,-5.4556430309189405,3.5658625440033593,-9.054148743160248,-9.128922262550345,-11.665591645378981,1.91797872343648,-6.062780970615005,2.9059056147317746,-1.2545382078146938,-2.100351043666725,-7.232315818632803,-1.865264062842416,2.352124526368849,-3.850048682706765,-2.0007685110210183,2.3334317129844773,-1.4880877994794548,6.586156042836983,-8.219815543342357,-6.163436466978392,-21.790855376773436,1.5480530802410235,4.376620232356654,-0.5545580230189388,2.8881733991033065,-5.24951276971441,-3.7433908967248786,-15.096168541849663,7.9595937516319015,-13.96748786279055,-5.234879625774073,7.690638327767439,-8.152708169972332,9.154554507925122,-0.25714640362165236,-5.079812279647505,4.987667527409084,-2.3980056209566607,1.6936185935463763,-20.08487131121178,6.274346299917131,6.895670217508951,-0.2169276776426836,6.579289191954965,18.905988928256757,4.952342045384707,5.077923343641169,12.209999652113288,2.7569626016784388,10.846446062686125,6.335372407689186,18.127055567582214,13.539219669057905,2.0906721505036407,6.674403457301844,4.108889416730288,-10.533554171057496,7.25136064342316,7.6647961756520875,-17.712493799682154,10.015013091297401,4.649544794239789,7.508023630343066,13.749861372781346,-14.292696933259839,-15.478829135391868,-18.27943917458447,3.455719067702948,-6.8001415340662525,10.61303350403012,15.954202760222875,-13.675986194274552,4.227593954951218,10.82818549511081,8.538492773607807,-2.5701654076806726,-18.38412344196161,-21.570714997904282,-13.874570118058637,-16.101767595006066,-0.6057477606403514,10.682051202159132,-15.666501115921598,4.730664106347339,3.1394701832606717,-18.92112631946087,-14.829018175734053,12.561265048775969,3.373237146077914,5.836749661925547,3.3108857829341307,12.20408333600887,-1.7038107601675196,-0.17115276751236053,-14.887573537358314,4.606032396526428,-9.9341222373118,7.2396107708170145,-1.4347431945153888,6.465779956100386,-2.9013141040213473,-8.4718775873216,-2.821627338699192,-3.9925412584750934,-13.601134476838633,-4.3467399681880226,5.7146305800212085,8.048265915667244,8.938278222292695,6.731149184292278,4.292783158571909,-21.176932828936597,2.338797922910159,11.534862920649346,5.9273477626071145,4.272895766308989,-0.03453291263972827,11.157032002434772,11.527923789554906,-1.57344035665589,11.215166618486405,-1.8991798894914493,-7.104750840620024,3.7167941682901127,3.1824996510029346,-22.642241942333015,0.17737994239261326,-7.107479299554236,6.447289464490146,2.456037236356671,-3.8359047405060642,2.9164329948418377,0.055035263332533474,13.88462799531169,8.579538944616433,3.6778888929552167,-4.192282915643182,4.637087448476145,-3.651452518458881,12.997985069420837,3.8357674693722488,-10.004181121575895,0.9307370022895162,-3.2291016807688075,5.067140959489601,-8.60528844769843,-12.870942218409615,-8.482382582799143,6.504413605968586,1.6075331478426165,8.90229652401194,4.723044357883565,-4.578771000156343,-1.8820910803300528,16.386533470411816,9.038993398553057,5.8100771374122635,7.313074465106334,18.560091673128973,-19.30246790222283,-14.532353454475949],\"y\":[1,1,1,1,1,1,1,1,1,1,1,1,1,1,1,1,1,1,1,1,1,1,1,1,1,1,1,1,1,1,1,1,1,1,1,1,1,1,1,1,1,1,1,1,1,1,1,1,1,1,1,1,1,1,1,1,1,1,1,1,1,1,1,1,1,1,1,1,1,1,1,1,1,1,1,1,1,1,1,1,1,1,1,1,1,1,1,1,1,1,1,1,1,1,1,1,1,1,1,1,1,1,1,1,1,1,1,1,1,1,1,1,1,1,1,1,1,1,1,1,1,1,1,1,1,1,1,1,1,1,1,1,1,1,1,1,1,1,1,1,1,1,1,1,1,1,1,1,1,1,1,1,1,1,1,1,1,1,1,1,1,1,1,1,1,1,1,1,1,1,1,1,1,1,1,1,1,1,1,1,1,1,1,1,1,1,1,1,1,1,1,1,1,1,1,1,1,1,1,1,1,1,1,1,1,1,1,1,1,1,1,1,1,1,1,1,1,1,1,1],\"type\":\"scatter\",\"xaxis\":\"x2\",\"yaxis\":\"y2\"},{\"hovertemplate\":\"\\u003cb\\u003e%{text}\\u003c\\u002fb\\u003e\\u003cbr\\u003ePC Projection: %{x:.3f}\\u003cextra\\u003e\\u003c\\u002fextra\\u003e\",\"marker\":{\"color\":\"limegreen\",\"line\":{\"color\":\"black\",\"width\":1},\"opacity\":1.0,\"size\":8,\"symbol\":\"diamond\"},\"mode\":\"markers\",\"showlegend\":false,\"text\":[\"Spiritual\",\"Solemn\",\"Serious\",\"Secular\",\"Ritualistic\",\"Reverent\",\"Rebellious\",\"Progressive\",\"Practical\",\"Nostalgic\",\"Meditative\",\"Irreverent\",\"Idealistic\",\"Grounded\",\"Experiential\",\"Existentialist\",\"Ethereal\",\"Contemporary\",\"Casual\",\"Bombastic\"],\"x\":[-31.67271030070451,-23.64416347319153,-23.733446452006504,22.016670985588238,-40.885188626367814,-32.47983230917475,24.12203125297781,23.603670677673758,28.653901065618165,-24.606762826819402,-26.351985807177435,22.13982335071503,-24.63746393075408,26.654857511291628,24.442596499405784,19.8318328169246,-25.754115227898954,28.86450447563431,21.381377795417166,-25.247673273733586],\"y\":[1,1,1,1,1,1,1,1,1,1,1,1,1,1,1,1,1,1,1,1],\"type\":\"scatter\",\"xaxis\":\"x2\",\"yaxis\":\"y2\"},{\"hoverinfo\":\"skip\",\"line\":{\"color\":\"black\",\"width\":1},\"mode\":\"lines\",\"showlegend\":false,\"x\":[-40.885188626367814,-40.885188626367814],\"y\":[1.0,1.45],\"type\":\"scatter\",\"xaxis\":\"x2\",\"yaxis\":\"y2\"},{\"hoverinfo\":\"skip\",\"line\":{\"color\":\"black\",\"width\":1},\"mode\":\"lines\",\"showlegend\":false,\"x\":[-32.47983230917475,-32.47983230917475],\"y\":[1.0,0.6],\"type\":\"scatter\",\"xaxis\":\"x2\",\"yaxis\":\"y2\"},{\"hoverinfo\":\"skip\",\"line\":{\"color\":\"black\",\"width\":1},\"mode\":\"lines\",\"showlegend\":false,\"x\":[-31.67271030070451,-31.67271030070451],\"y\":[1.0,1.9],\"type\":\"scatter\",\"xaxis\":\"x2\",\"yaxis\":\"y2\"},{\"hoverinfo\":\"skip\",\"line\":{\"color\":\"black\",\"width\":1},\"mode\":\"lines\",\"showlegend\":false,\"x\":[-26.351985807177435,-26.351985807177435],\"y\":[1.0,0.15],\"type\":\"scatter\",\"xaxis\":\"x2\",\"yaxis\":\"y2\"},{\"hoverinfo\":\"skip\",\"line\":{\"color\":\"black\",\"width\":1},\"mode\":\"lines\",\"showlegend\":false,\"x\":[-25.754115227898954,-25.754115227898954],\"y\":[1.0,1.6],\"type\":\"scatter\",\"xaxis\":\"x2\",\"yaxis\":\"y2\"},{\"hoverinfo\":\"skip\",\"line\":{\"color\":\"black\",\"width\":1},\"mode\":\"lines\",\"showlegend\":false,\"x\":[-25.247673273733586,-25.247673273733586],\"y\":[1.0,0.45],\"type\":\"scatter\",\"xaxis\":\"x2\",\"yaxis\":\"y2\"},{\"hoverinfo\":\"skip\",\"line\":{\"color\":\"black\",\"width\":1},\"mode\":\"lines\",\"showlegend\":false,\"x\":[-24.63746393075408,-24.63746393075408],\"y\":[1.0,1.3],\"type\":\"scatter\",\"xaxis\":\"x2\",\"yaxis\":\"y2\"},{\"hoverinfo\":\"skip\",\"line\":{\"color\":\"black\",\"width\":1},\"mode\":\"lines\",\"showlegend\":false,\"x\":[-24.606762826819402,-24.606762826819402],\"y\":[1.0,0.75],\"type\":\"scatter\",\"xaxis\":\"x2\",\"yaxis\":\"y2\"},{\"hoverinfo\":\"skip\",\"line\":{\"color\":\"black\",\"width\":1},\"mode\":\"lines\",\"showlegend\":false,\"x\":[-23.733446452006504,-23.733446452006504],\"y\":[1.0,1.75],\"type\":\"scatter\",\"xaxis\":\"x2\",\"yaxis\":\"y2\"},{\"hoverinfo\":\"skip\",\"line\":{\"color\":\"black\",\"width\":1},\"mode\":\"lines\",\"showlegend\":false,\"x\":[-23.64416347319153,-23.64416347319153],\"y\":[1.0,0.3],\"type\":\"scatter\",\"xaxis\":\"x2\",\"yaxis\":\"y2\"},{\"hoverinfo\":\"skip\",\"line\":{\"color\":\"black\",\"width\":1},\"mode\":\"lines\",\"showlegend\":false,\"x\":[19.8318328169246,19.8318328169246],\"y\":[1.0,1.45],\"type\":\"scatter\",\"xaxis\":\"x2\",\"yaxis\":\"y2\"},{\"hoverinfo\":\"skip\",\"line\":{\"color\":\"black\",\"width\":1},\"mode\":\"lines\",\"showlegend\":false,\"x\":[21.381377795417166,21.381377795417166],\"y\":[1.0,0.6],\"type\":\"scatter\",\"xaxis\":\"x2\",\"yaxis\":\"y2\"},{\"hoverinfo\":\"skip\",\"line\":{\"color\":\"black\",\"width\":1},\"mode\":\"lines\",\"showlegend\":false,\"x\":[22.016670985588238,22.016670985588238],\"y\":[1.0,1.9],\"type\":\"scatter\",\"xaxis\":\"x2\",\"yaxis\":\"y2\"},{\"hoverinfo\":\"skip\",\"line\":{\"color\":\"black\",\"width\":1},\"mode\":\"lines\",\"showlegend\":false,\"x\":[22.13982335071503,22.13982335071503],\"y\":[1.0,0.15],\"type\":\"scatter\",\"xaxis\":\"x2\",\"yaxis\":\"y2\"},{\"hoverinfo\":\"skip\",\"line\":{\"color\":\"black\",\"width\":1},\"mode\":\"lines\",\"showlegend\":false,\"x\":[23.603670677673758,23.603670677673758],\"y\":[1.0,1.6],\"type\":\"scatter\",\"xaxis\":\"x2\",\"yaxis\":\"y2\"},{\"hoverinfo\":\"skip\",\"line\":{\"color\":\"black\",\"width\":1},\"mode\":\"lines\",\"showlegend\":false,\"x\":[24.12203125297781,24.12203125297781],\"y\":[1.0,0.45],\"type\":\"scatter\",\"xaxis\":\"x2\",\"yaxis\":\"y2\"},{\"hoverinfo\":\"skip\",\"line\":{\"color\":\"black\",\"width\":1},\"mode\":\"lines\",\"showlegend\":false,\"x\":[24.442596499405784,24.442596499405784],\"y\":[1.0,1.3],\"type\":\"scatter\",\"xaxis\":\"x2\",\"yaxis\":\"y2\"},{\"hoverinfo\":\"skip\",\"line\":{\"color\":\"black\",\"width\":1},\"mode\":\"lines\",\"showlegend\":false,\"x\":[26.654857511291628,26.654857511291628],\"y\":[1.0,0.75],\"type\":\"scatter\",\"xaxis\":\"x2\",\"yaxis\":\"y2\"},{\"hoverinfo\":\"skip\",\"line\":{\"color\":\"black\",\"width\":1},\"mode\":\"lines\",\"showlegend\":false,\"x\":[28.653901065618165,28.653901065618165],\"y\":[1.0,1.75],\"type\":\"scatter\",\"xaxis\":\"x2\",\"yaxis\":\"y2\"},{\"hoverinfo\":\"skip\",\"line\":{\"color\":\"black\",\"width\":1},\"mode\":\"lines\",\"showlegend\":false,\"x\":[28.86450447563431,28.86450447563431],\"y\":[1.0,0.3],\"type\":\"scatter\",\"xaxis\":\"x2\",\"yaxis\":\"y2\"},{\"hoverinfo\":\"skip\",\"marker\":{\"color\":\"limegreen\"},\"opacity\":0.7,\"showlegend\":false,\"width\":1.859991816053389,\"x\":[-39.722693741334446,-37.39770397126771,-35.07271420120097,-32.74772443113423,-30.422734661067494,-28.097744891000758,-25.772755120934022,-23.447765350867282,-21.122775580800546,-18.797785810733806,-16.47279604066707,-14.147806270600334,-11.822816500533596,-9.497826730466857,-7.172836960400119,-4.847847190333383,-2.5228574202666465,-0.19786765019991037,2.1271221198668293,4.452111889933569,6.777101660000305,9.102091430067041,11.427081200133777,13.752070970200514,16.077060740267253,18.402050510333993,20.72704028040073,23.05203005046747,25.37701982053421,27.702009590600944],\"y\":[0.03333333333333333,0.0,0.0,0.06666666666666667,0.0,0.0,0.13333333333333333,0.13333333333333333,0.23333333333333334,0.19999999999999998,0.13333333333333333,0.36666666666666664,0.13333333333333333,0.3333333333333333,0.3333333333333333,0.5666666666666667,0.6,0.5,0.5666666666666667,0.9,0.8333333333333334,0.6,0.5666666666666667,0.23333333333333334,0.09999999999999999,0.09999999999999999,0.06666666666666667,0.13333333333333333,0.03333333333333333,0.09999999999999999],\"type\":\"bar\",\"xaxis\":\"x2\",\"yaxis\":\"y2\"}],                        {\"template\":{\"data\":{\"histogram2dcontour\":[{\"type\":\"histogram2dcontour\",\"colorbar\":{\"outlinewidth\":0,\"ticks\":\"\"},\"colorscale\":[[0.0,\"#0d0887\"],[0.1111111111111111,\"#46039f\"],[0.2222222222222222,\"#7201a8\"],[0.3333333333333333,\"#9c179e\"],[0.4444444444444444,\"#bd3786\"],[0.5555555555555556,\"#d8576b\"],[0.6666666666666666,\"#ed7953\"],[0.7777777777777778,\"#fb9f3a\"],[0.8888888888888888,\"#fdca26\"],[1.0,\"#f0f921\"]]}],\"choropleth\":[{\"type\":\"choropleth\",\"colorbar\":{\"outlinewidth\":0,\"ticks\":\"\"}}],\"histogram2d\":[{\"type\":\"histogram2d\",\"colorbar\":{\"outlinewidth\":0,\"ticks\":\"\"},\"colorscale\":[[0.0,\"#0d0887\"],[0.1111111111111111,\"#46039f\"],[0.2222222222222222,\"#7201a8\"],[0.3333333333333333,\"#9c179e\"],[0.4444444444444444,\"#bd3786\"],[0.5555555555555556,\"#d8576b\"],[0.6666666666666666,\"#ed7953\"],[0.7777777777777778,\"#fb9f3a\"],[0.8888888888888888,\"#fdca26\"],[1.0,\"#f0f921\"]]}],\"heatmap\":[{\"type\":\"heatmap\",\"colorbar\":{\"outlinewidth\":0,\"ticks\":\"\"},\"colorscale\":[[0.0,\"#0d0887\"],[0.1111111111111111,\"#46039f\"],[0.2222222222222222,\"#7201a8\"],[0.3333333333333333,\"#9c179e\"],[0.4444444444444444,\"#bd3786\"],[0.5555555555555556,\"#d8576b\"],[0.6666666666666666,\"#ed7953\"],[0.7777777777777778,\"#fb9f3a\"],[0.8888888888888888,\"#fdca26\"],[1.0,\"#f0f921\"]]}],\"heatmapgl\":[{\"type\":\"heatmapgl\",\"colorbar\":{\"outlinewidth\":0,\"ticks\":\"\"},\"colorscale\":[[0.0,\"#0d0887\"],[0.1111111111111111,\"#46039f\"],[0.2222222222222222,\"#7201a8\"],[0.3333333333333333,\"#9c179e\"],[0.4444444444444444,\"#bd3786\"],[0.5555555555555556,\"#d8576b\"],[0.6666666666666666,\"#ed7953\"],[0.7777777777777778,\"#fb9f3a\"],[0.8888888888888888,\"#fdca26\"],[1.0,\"#f0f921\"]]}],\"contourcarpet\":[{\"type\":\"contourcarpet\",\"colorbar\":{\"outlinewidth\":0,\"ticks\":\"\"}}],\"contour\":[{\"type\":\"contour\",\"colorbar\":{\"outlinewidth\":0,\"ticks\":\"\"},\"colorscale\":[[0.0,\"#0d0887\"],[0.1111111111111111,\"#46039f\"],[0.2222222222222222,\"#7201a8\"],[0.3333333333333333,\"#9c179e\"],[0.4444444444444444,\"#bd3786\"],[0.5555555555555556,\"#d8576b\"],[0.6666666666666666,\"#ed7953\"],[0.7777777777777778,\"#fb9f3a\"],[0.8888888888888888,\"#fdca26\"],[1.0,\"#f0f921\"]]}],\"surface\":[{\"type\":\"surface\",\"colorbar\":{\"outlinewidth\":0,\"ticks\":\"\"},\"colorscale\":[[0.0,\"#0d0887\"],[0.1111111111111111,\"#46039f\"],[0.2222222222222222,\"#7201a8\"],[0.3333333333333333,\"#9c179e\"],[0.4444444444444444,\"#bd3786\"],[0.5555555555555556,\"#d8576b\"],[0.6666666666666666,\"#ed7953\"],[0.7777777777777778,\"#fb9f3a\"],[0.8888888888888888,\"#fdca26\"],[1.0,\"#f0f921\"]]}],\"mesh3d\":[{\"type\":\"mesh3d\",\"colorbar\":{\"outlinewidth\":0,\"ticks\":\"\"}}],\"scatter\":[{\"fillpattern\":{\"fillmode\":\"overlay\",\"size\":10,\"solidity\":0.2},\"type\":\"scatter\"}],\"parcoords\":[{\"type\":\"parcoords\",\"line\":{\"colorbar\":{\"outlinewidth\":0,\"ticks\":\"\"}}}],\"scatterpolargl\":[{\"type\":\"scatterpolargl\",\"marker\":{\"colorbar\":{\"outlinewidth\":0,\"ticks\":\"\"}}}],\"bar\":[{\"error_x\":{\"color\":\"#2a3f5f\"},\"error_y\":{\"color\":\"#2a3f5f\"},\"marker\":{\"line\":{\"color\":\"#E5ECF6\",\"width\":0.5},\"pattern\":{\"fillmode\":\"overlay\",\"size\":10,\"solidity\":0.2}},\"type\":\"bar\"}],\"scattergeo\":[{\"type\":\"scattergeo\",\"marker\":{\"colorbar\":{\"outlinewidth\":0,\"ticks\":\"\"}}}],\"scatterpolar\":[{\"type\":\"scatterpolar\",\"marker\":{\"colorbar\":{\"outlinewidth\":0,\"ticks\":\"\"}}}],\"histogram\":[{\"marker\":{\"pattern\":{\"fillmode\":\"overlay\",\"size\":10,\"solidity\":0.2}},\"type\":\"histogram\"}],\"scattergl\":[{\"type\":\"scattergl\",\"marker\":{\"colorbar\":{\"outlinewidth\":0,\"ticks\":\"\"}}}],\"scatter3d\":[{\"type\":\"scatter3d\",\"line\":{\"colorbar\":{\"outlinewidth\":0,\"ticks\":\"\"}},\"marker\":{\"colorbar\":{\"outlinewidth\":0,\"ticks\":\"\"}}}],\"scattermapbox\":[{\"type\":\"scattermapbox\",\"marker\":{\"colorbar\":{\"outlinewidth\":0,\"ticks\":\"\"}}}],\"scatterternary\":[{\"type\":\"scatterternary\",\"marker\":{\"colorbar\":{\"outlinewidth\":0,\"ticks\":\"\"}}}],\"scattercarpet\":[{\"type\":\"scattercarpet\",\"marker\":{\"colorbar\":{\"outlinewidth\":0,\"ticks\":\"\"}}}],\"carpet\":[{\"aaxis\":{\"endlinecolor\":\"#2a3f5f\",\"gridcolor\":\"white\",\"linecolor\":\"white\",\"minorgridcolor\":\"white\",\"startlinecolor\":\"#2a3f5f\"},\"baxis\":{\"endlinecolor\":\"#2a3f5f\",\"gridcolor\":\"white\",\"linecolor\":\"white\",\"minorgridcolor\":\"white\",\"startlinecolor\":\"#2a3f5f\"},\"type\":\"carpet\"}],\"table\":[{\"cells\":{\"fill\":{\"color\":\"#EBF0F8\"},\"line\":{\"color\":\"white\"}},\"header\":{\"fill\":{\"color\":\"#C8D4E3\"},\"line\":{\"color\":\"white\"}},\"type\":\"table\"}],\"barpolar\":[{\"marker\":{\"line\":{\"color\":\"#E5ECF6\",\"width\":0.5},\"pattern\":{\"fillmode\":\"overlay\",\"size\":10,\"solidity\":0.2}},\"type\":\"barpolar\"}],\"pie\":[{\"automargin\":true,\"type\":\"pie\"}]},\"layout\":{\"autotypenumbers\":\"strict\",\"colorway\":[\"#636efa\",\"#EF553B\",\"#00cc96\",\"#ab63fa\",\"#FFA15A\",\"#19d3f3\",\"#FF6692\",\"#B6E880\",\"#FF97FF\",\"#FECB52\"],\"font\":{\"color\":\"#2a3f5f\"},\"hovermode\":\"closest\",\"hoverlabel\":{\"align\":\"left\"},\"paper_bgcolor\":\"white\",\"plot_bgcolor\":\"#E5ECF6\",\"polar\":{\"bgcolor\":\"#E5ECF6\",\"angularaxis\":{\"gridcolor\":\"white\",\"linecolor\":\"white\",\"ticks\":\"\"},\"radialaxis\":{\"gridcolor\":\"white\",\"linecolor\":\"white\",\"ticks\":\"\"}},\"ternary\":{\"bgcolor\":\"#E5ECF6\",\"aaxis\":{\"gridcolor\":\"white\",\"linecolor\":\"white\",\"ticks\":\"\"},\"baxis\":{\"gridcolor\":\"white\",\"linecolor\":\"white\",\"ticks\":\"\"},\"caxis\":{\"gridcolor\":\"white\",\"linecolor\":\"white\",\"ticks\":\"\"}},\"coloraxis\":{\"colorbar\":{\"outlinewidth\":0,\"ticks\":\"\"}},\"colorscale\":{\"sequential\":[[0.0,\"#0d0887\"],[0.1111111111111111,\"#46039f\"],[0.2222222222222222,\"#7201a8\"],[0.3333333333333333,\"#9c179e\"],[0.4444444444444444,\"#bd3786\"],[0.5555555555555556,\"#d8576b\"],[0.6666666666666666,\"#ed7953\"],[0.7777777777777778,\"#fb9f3a\"],[0.8888888888888888,\"#fdca26\"],[1.0,\"#f0f921\"]],\"sequentialminus\":[[0.0,\"#0d0887\"],[0.1111111111111111,\"#46039f\"],[0.2222222222222222,\"#7201a8\"],[0.3333333333333333,\"#9c179e\"],[0.4444444444444444,\"#bd3786\"],[0.5555555555555556,\"#d8576b\"],[0.6666666666666666,\"#ed7953\"],[0.7777777777777778,\"#fb9f3a\"],[0.8888888888888888,\"#fdca26\"],[1.0,\"#f0f921\"]],\"diverging\":[[0,\"#8e0152\"],[0.1,\"#c51b7d\"],[0.2,\"#de77ae\"],[0.3,\"#f1b6da\"],[0.4,\"#fde0ef\"],[0.5,\"#f7f7f7\"],[0.6,\"#e6f5d0\"],[0.7,\"#b8e186\"],[0.8,\"#7fbc41\"],[0.9,\"#4d9221\"],[1,\"#276419\"]]},\"xaxis\":{\"gridcolor\":\"white\",\"linecolor\":\"white\",\"ticks\":\"\",\"title\":{\"standoff\":15},\"zerolinecolor\":\"white\",\"automargin\":true,\"zerolinewidth\":2},\"yaxis\":{\"gridcolor\":\"white\",\"linecolor\":\"white\",\"ticks\":\"\",\"title\":{\"standoff\":15},\"zerolinecolor\":\"white\",\"automargin\":true,\"zerolinewidth\":2},\"scene\":{\"xaxis\":{\"backgroundcolor\":\"#E5ECF6\",\"gridcolor\":\"white\",\"linecolor\":\"white\",\"showbackground\":true,\"ticks\":\"\",\"zerolinecolor\":\"white\",\"gridwidth\":2},\"yaxis\":{\"backgroundcolor\":\"#E5ECF6\",\"gridcolor\":\"white\",\"linecolor\":\"white\",\"showbackground\":true,\"ticks\":\"\",\"zerolinecolor\":\"white\",\"gridwidth\":2},\"zaxis\":{\"backgroundcolor\":\"#E5ECF6\",\"gridcolor\":\"white\",\"linecolor\":\"white\",\"showbackground\":true,\"ticks\":\"\",\"zerolinecolor\":\"white\",\"gridwidth\":2}},\"shapedefaults\":{\"line\":{\"color\":\"#2a3f5f\"}},\"annotationdefaults\":{\"arrowcolor\":\"#2a3f5f\",\"arrowhead\":0,\"arrowwidth\":1},\"geo\":{\"bgcolor\":\"white\",\"landcolor\":\"#E5ECF6\",\"subunitcolor\":\"white\",\"showland\":true,\"showlakes\":true,\"lakecolor\":\"white\"},\"title\":{\"x\":0.05},\"mapbox\":{\"style\":\"light\"}}},\"xaxis\":{\"anchor\":\"y\",\"domain\":[0.0,1.0],\"range\":[-0.747573254453837,0.747573254453837]},\"yaxis\":{\"anchor\":\"x\",\"domain\":[0.55,1.0],\"showticklabels\":false,\"range\":[0,2.5]},\"xaxis2\":{\"anchor\":\"y2\",\"domain\":[0.0,1.0],\"range\":[-44.973707489004596,44.973707489004596]},\"yaxis2\":{\"anchor\":\"x2\",\"domain\":[0.0,0.45],\"showticklabels\":false,\"range\":[0,2.5]},\"annotations\":[{\"font\":{\"size\":16},\"showarrow\":false,\"text\":\"PC4 Cosine Similarity\",\"x\":0.5,\"xanchor\":\"center\",\"xref\":\"paper\",\"y\":1.0,\"yanchor\":\"bottom\",\"yref\":\"paper\"},{\"font\":{\"size\":16},\"showarrow\":false,\"text\":\"PC4 Projection\",\"x\":0.5,\"xanchor\":\"center\",\"xref\":\"paper\",\"y\":0.45,\"yanchor\":\"bottom\",\"yref\":\"paper\"},{\"bgcolor\":\"rgba(255, 255, 255, 0.9)\",\"bordercolor\":\"black\",\"borderwidth\":1,\"font\":{\"color\":\"black\",\"size\":10},\"showarrow\":false,\"text\":\"Ritualistic\",\"x\":-0.6796120495034882,\"xref\":\"x\",\"y\":1.45,\"yref\":\"y\"},{\"bgcolor\":\"rgba(255, 255, 255, 0.9)\",\"bordercolor\":\"black\",\"borderwidth\":1,\"font\":{\"color\":\"black\",\"size\":10},\"showarrow\":false,\"text\":\"Reverent\",\"x\":-0.6702238004828487,\"xref\":\"x\",\"y\":0.6,\"yref\":\"y\"},{\"bgcolor\":\"rgba(255, 255, 255, 0.9)\",\"bordercolor\":\"black\",\"borderwidth\":1,\"font\":{\"color\":\"black\",\"size\":10},\"showarrow\":false,\"text\":\"Solemn\",\"x\":-0.5555653188754308,\"xref\":\"x\",\"y\":1.9,\"yref\":\"y\"},{\"bgcolor\":\"rgba(255, 255, 255, 0.9)\",\"bordercolor\":\"black\",\"borderwidth\":1,\"font\":{\"color\":\"black\",\"size\":10},\"showarrow\":false,\"text\":\"Spiritual\",\"x\":-0.48973058104964023,\"xref\":\"x\",\"y\":0.15,\"yref\":\"y\"},{\"bgcolor\":\"rgba(255, 255, 255, 0.9)\",\"bordercolor\":\"black\",\"borderwidth\":1,\"font\":{\"color\":\"black\",\"size\":10},\"showarrow\":false,\"text\":\"Idealistic\",\"x\":-0.4754639078233555,\"xref\":\"x\",\"y\":1.6,\"yref\":\"y\"},{\"bgcolor\":\"rgba(255, 255, 255, 0.9)\",\"bordercolor\":\"black\",\"borderwidth\":1,\"font\":{\"color\":\"black\",\"size\":10},\"showarrow\":false,\"text\":\"Cryptic\",\"x\":-0.46994099079915025,\"xref\":\"x\",\"y\":0.45,\"yref\":\"y\"},{\"bgcolor\":\"rgba(255, 255, 255, 0.9)\",\"bordercolor\":\"black\",\"borderwidth\":1,\"font\":{\"color\":\"black\",\"size\":10},\"showarrow\":false,\"text\":\"Theoretical\",\"x\":-0.46057850309146975,\"xref\":\"x\",\"y\":1.3,\"yref\":\"y\"},{\"bgcolor\":\"rgba(255, 255, 255, 0.9)\",\"bordercolor\":\"black\",\"borderwidth\":1,\"font\":{\"color\":\"black\",\"size\":10},\"showarrow\":false,\"text\":\"Nostalgic\",\"x\":-0.45933201474193974,\"xref\":\"x\",\"y\":0.75,\"yref\":\"y\"},{\"bgcolor\":\"rgba(255, 255, 255, 0.9)\",\"bordercolor\":\"black\",\"borderwidth\":1,\"font\":{\"color\":\"black\",\"size\":10},\"showarrow\":false,\"text\":\"Introverted\",\"x\":-0.4495137140861847,\"xref\":\"x\",\"y\":1.75,\"yref\":\"y\"},{\"bgcolor\":\"rgba(255, 255, 255, 0.9)\",\"bordercolor\":\"black\",\"borderwidth\":1,\"font\":{\"color\":\"black\",\"size\":10},\"showarrow\":false,\"text\":\"Conceptual\",\"x\":-0.4419266167959594,\"xref\":\"x\",\"y\":0.3,\"yref\":\"y\"},{\"bgcolor\":\"rgba(255, 255, 255, 0.9)\",\"bordercolor\":\"black\",\"borderwidth\":1,\"font\":{\"color\":\"black\",\"size\":10},\"showarrow\":false,\"text\":\"Existentialist\",\"x\":0.3898302729684334,\"xref\":\"x\",\"y\":1.45,\"yref\":\"y\"},{\"bgcolor\":\"rgba(255, 255, 255, 0.9)\",\"bordercolor\":\"black\",\"borderwidth\":1,\"font\":{\"color\":\"black\",\"size\":10},\"showarrow\":false,\"text\":\"Iconoclastic\",\"x\":0.41664150534123795,\"xref\":\"x\",\"y\":0.6,\"yref\":\"y\"},{\"bgcolor\":\"rgba(255, 255, 255, 0.9)\",\"bordercolor\":\"black\",\"borderwidth\":1,\"font\":{\"color\":\"black\",\"size\":10},\"showarrow\":false,\"text\":\"Innovative\",\"x\":0.4345466202691312,\"xref\":\"x\",\"y\":1.9,\"yref\":\"y\"},{\"bgcolor\":\"rgba(255, 255, 255, 0.9)\",\"bordercolor\":\"black\",\"borderwidth\":1,\"font\":{\"color\":\"black\",\"size\":10},\"showarrow\":false,\"text\":\"Practical\",\"x\":0.4588015624434996,\"xref\":\"x\",\"y\":0.15,\"yref\":\"y\"},{\"bgcolor\":\"rgba(255, 255, 255, 0.9)\",\"bordercolor\":\"black\",\"borderwidth\":1,\"font\":{\"color\":\"black\",\"size\":10},\"showarrow\":false,\"text\":\"Rebellious\",\"x\":0.4800401324109166,\"xref\":\"x\",\"y\":1.6,\"yref\":\"y\"},{\"bgcolor\":\"rgba(255, 255, 255, 0.9)\",\"bordercolor\":\"black\",\"borderwidth\":1,\"font\":{\"color\":\"black\",\"size\":10},\"showarrow\":false,\"text\":\"Grounded\",\"x\":0.48044754529239886,\"xref\":\"x\",\"y\":0.45,\"yref\":\"y\"},{\"bgcolor\":\"rgba(255, 255, 255, 0.9)\",\"bordercolor\":\"black\",\"borderwidth\":1,\"font\":{\"color\":\"black\",\"size\":10},\"showarrow\":false,\"text\":\"Experiential\",\"x\":0.500983715521812,\"xref\":\"x\",\"y\":1.3,\"yref\":\"y\"},{\"bgcolor\":\"rgba(255, 255, 255, 0.9)\",\"bordercolor\":\"black\",\"borderwidth\":1,\"font\":{\"color\":\"black\",\"size\":10},\"showarrow\":false,\"text\":\"Progressive\",\"x\":0.533200247328018,\"xref\":\"x\",\"y\":0.75,\"yref\":\"y\"},{\"bgcolor\":\"rgba(255, 255, 255, 0.9)\",\"bordercolor\":\"black\",\"borderwidth\":1,\"font\":{\"color\":\"black\",\"size\":10},\"showarrow\":false,\"text\":\"Contemporary\",\"x\":0.5398530264630733,\"xref\":\"x\",\"y\":1.75,\"yref\":\"y\"},{\"bgcolor\":\"rgba(255, 255, 255, 0.9)\",\"bordercolor\":\"black\",\"borderwidth\":1,\"font\":{\"color\":\"black\",\"size\":10},\"showarrow\":false,\"text\":\"Casual\",\"x\":0.5424536411527452,\"xref\":\"x\",\"y\":0.3,\"yref\":\"y\"},{\"bgcolor\":\"rgba(255, 255, 255, 0.9)\",\"bordercolor\":\"red\",\"borderwidth\":1,\"font\":{\"color\":\"red\",\"size\":14},\"showarrow\":false,\"text\":\"Assistant\",\"x\":0.11646833747310897,\"xref\":\"x\",\"y\":2,\"yref\":\"y\"},{\"bgcolor\":\"rgba(255, 255, 255, 0.9)\",\"bordercolor\":\"black\",\"borderwidth\":1,\"font\":{\"color\":\"black\",\"size\":10},\"showarrow\":false,\"text\":\"Ritualistic\",\"x\":-40.885188626367814,\"xref\":\"x2\",\"y\":1.45,\"yref\":\"y2\"},{\"bgcolor\":\"rgba(255, 255, 255, 0.9)\",\"bordercolor\":\"black\",\"borderwidth\":1,\"font\":{\"color\":\"black\",\"size\":10},\"showarrow\":false,\"text\":\"Reverent\",\"x\":-32.47983230917475,\"xref\":\"x2\",\"y\":0.6,\"yref\":\"y2\"},{\"bgcolor\":\"rgba(255, 255, 255, 0.9)\",\"bordercolor\":\"black\",\"borderwidth\":1,\"font\":{\"color\":\"black\",\"size\":10},\"showarrow\":false,\"text\":\"Spiritual\",\"x\":-31.67271030070451,\"xref\":\"x2\",\"y\":1.9,\"yref\":\"y2\"},{\"bgcolor\":\"rgba(255, 255, 255, 0.9)\",\"bordercolor\":\"black\",\"borderwidth\":1,\"font\":{\"color\":\"black\",\"size\":10},\"showarrow\":false,\"text\":\"Meditative\",\"x\":-26.351985807177435,\"xref\":\"x2\",\"y\":0.15,\"yref\":\"y2\"},{\"bgcolor\":\"rgba(255, 255, 255, 0.9)\",\"bordercolor\":\"black\",\"borderwidth\":1,\"font\":{\"color\":\"black\",\"size\":10},\"showarrow\":false,\"text\":\"Ethereal\",\"x\":-25.754115227898954,\"xref\":\"x2\",\"y\":1.6,\"yref\":\"y2\"},{\"bgcolor\":\"rgba(255, 255, 255, 0.9)\",\"bordercolor\":\"black\",\"borderwidth\":1,\"font\":{\"color\":\"black\",\"size\":10},\"showarrow\":false,\"text\":\"Bombastic\",\"x\":-25.247673273733586,\"xref\":\"x2\",\"y\":0.45,\"yref\":\"y2\"},{\"bgcolor\":\"rgba(255, 255, 255, 0.9)\",\"bordercolor\":\"black\",\"borderwidth\":1,\"font\":{\"color\":\"black\",\"size\":10},\"showarrow\":false,\"text\":\"Idealistic\",\"x\":-24.63746393075408,\"xref\":\"x2\",\"y\":1.3,\"yref\":\"y2\"},{\"bgcolor\":\"rgba(255, 255, 255, 0.9)\",\"bordercolor\":\"black\",\"borderwidth\":1,\"font\":{\"color\":\"black\",\"size\":10},\"showarrow\":false,\"text\":\"Nostalgic\",\"x\":-24.606762826819402,\"xref\":\"x2\",\"y\":0.75,\"yref\":\"y2\"},{\"bgcolor\":\"rgba(255, 255, 255, 0.9)\",\"bordercolor\":\"black\",\"borderwidth\":1,\"font\":{\"color\":\"black\",\"size\":10},\"showarrow\":false,\"text\":\"Serious\",\"x\":-23.733446452006504,\"xref\":\"x2\",\"y\":1.75,\"yref\":\"y2\"},{\"bgcolor\":\"rgba(255, 255, 255, 0.9)\",\"bordercolor\":\"black\",\"borderwidth\":1,\"font\":{\"color\":\"black\",\"size\":10},\"showarrow\":false,\"text\":\"Solemn\",\"x\":-23.64416347319153,\"xref\":\"x2\",\"y\":0.3,\"yref\":\"y2\"},{\"bgcolor\":\"rgba(255, 255, 255, 0.9)\",\"bordercolor\":\"black\",\"borderwidth\":1,\"font\":{\"color\":\"black\",\"size\":10},\"showarrow\":false,\"text\":\"Existentialist\",\"x\":19.8318328169246,\"xref\":\"x2\",\"y\":1.45,\"yref\":\"y2\"},{\"bgcolor\":\"rgba(255, 255, 255, 0.9)\",\"bordercolor\":\"black\",\"borderwidth\":1,\"font\":{\"color\":\"black\",\"size\":10},\"showarrow\":false,\"text\":\"Casual\",\"x\":21.381377795417166,\"xref\":\"x2\",\"y\":0.6,\"yref\":\"y2\"},{\"bgcolor\":\"rgba(255, 255, 255, 0.9)\",\"bordercolor\":\"black\",\"borderwidth\":1,\"font\":{\"color\":\"black\",\"size\":10},\"showarrow\":false,\"text\":\"Secular\",\"x\":22.016670985588238,\"xref\":\"x2\",\"y\":1.9,\"yref\":\"y2\"},{\"bgcolor\":\"rgba(255, 255, 255, 0.9)\",\"bordercolor\":\"black\",\"borderwidth\":1,\"font\":{\"color\":\"black\",\"size\":10},\"showarrow\":false,\"text\":\"Irreverent\",\"x\":22.13982335071503,\"xref\":\"x2\",\"y\":0.15,\"yref\":\"y2\"},{\"bgcolor\":\"rgba(255, 255, 255, 0.9)\",\"bordercolor\":\"black\",\"borderwidth\":1,\"font\":{\"color\":\"black\",\"size\":10},\"showarrow\":false,\"text\":\"Progressive\",\"x\":23.603670677673758,\"xref\":\"x2\",\"y\":1.6,\"yref\":\"y2\"},{\"bgcolor\":\"rgba(255, 255, 255, 0.9)\",\"bordercolor\":\"black\",\"borderwidth\":1,\"font\":{\"color\":\"black\",\"size\":10},\"showarrow\":false,\"text\":\"Rebellious\",\"x\":24.12203125297781,\"xref\":\"x2\",\"y\":0.45,\"yref\":\"y2\"},{\"bgcolor\":\"rgba(255, 255, 255, 0.9)\",\"bordercolor\":\"black\",\"borderwidth\":1,\"font\":{\"color\":\"black\",\"size\":10},\"showarrow\":false,\"text\":\"Experiential\",\"x\":24.442596499405784,\"xref\":\"x2\",\"y\":1.3,\"yref\":\"y2\"},{\"bgcolor\":\"rgba(255, 255, 255, 0.9)\",\"bordercolor\":\"black\",\"borderwidth\":1,\"font\":{\"color\":\"black\",\"size\":10},\"showarrow\":false,\"text\":\"Grounded\",\"x\":26.654857511291628,\"xref\":\"x2\",\"y\":0.75,\"yref\":\"y2\"},{\"bgcolor\":\"rgba(255, 255, 255, 0.9)\",\"bordercolor\":\"black\",\"borderwidth\":1,\"font\":{\"color\":\"black\",\"size\":10},\"showarrow\":false,\"text\":\"Practical\",\"x\":28.653901065618165,\"xref\":\"x2\",\"y\":1.75,\"yref\":\"y2\"},{\"bgcolor\":\"rgba(255, 255, 255, 0.9)\",\"bordercolor\":\"black\",\"borderwidth\":1,\"font\":{\"color\":\"black\",\"size\":10},\"showarrow\":false,\"text\":\"Contemporary\",\"x\":28.86450447563431,\"xref\":\"x2\",\"y\":0.3,\"yref\":\"y2\"},{\"bgcolor\":\"rgba(255, 255, 255, 0.9)\",\"bordercolor\":\"red\",\"borderwidth\":1,\"font\":{\"color\":\"red\",\"size\":14},\"showarrow\":false,\"text\":\"Assistant\",\"x\":6.74362793396809,\"xref\":\"x2\",\"y\":2,\"yref\":\"y2\"}],\"shapes\":[{\"line\":{\"color\":\"gray\",\"dash\":\"solid\",\"width\":1},\"opacity\":0.7,\"type\":\"line\",\"x0\":0,\"x1\":0,\"xref\":\"x\",\"y0\":0,\"y1\":1,\"yref\":\"y domain\"},{\"line\":{\"color\":\"red\",\"dash\":\"dash\",\"width\":1},\"opacity\":1.0,\"type\":\"line\",\"x0\":0.11646833747310897,\"x1\":0.11646833747310897,\"xref\":\"x\",\"y0\":0,\"y1\":1,\"yref\":\"y domain\"},{\"line\":{\"color\":\"gray\",\"dash\":\"solid\",\"width\":1},\"opacity\":0.7,\"type\":\"line\",\"x0\":0,\"x1\":0,\"xref\":\"x2\",\"y0\":0,\"y1\":1,\"yref\":\"y2 domain\"},{\"line\":{\"color\":\"red\",\"dash\":\"dash\",\"width\":1},\"opacity\":1.0,\"type\":\"line\",\"x0\":6.74362793396809,\"x1\":6.74362793396809,\"xref\":\"x2\",\"y0\":0,\"y1\":1,\"yref\":\"y2 domain\"}],\"title\":{\"subtitle\":{\"text\":\"Gemma 3 27B, Layer 32 - Shared Question Set, Mean-Centered and Scaled Vectors\"},\"font\":{\"size\":16},\"text\":\"PCA on Trait Vectors\",\"x\":0.5},\"height\":800,\"width\":1200,\"showlegend\":false},                        {\"responsive\": true}                    ).then(function(){\n",
       "                            \n",
       "var gd = document.getElementById('c187a918-5f82-48fc-a910-0aa6607c08a3');\n",
       "var x = new MutationObserver(function (mutations, observer) {{\n",
       "        var display = window.getComputedStyle(gd).display;\n",
       "        if (!display || display === 'none') {{\n",
       "            console.log([gd, 'removed!']);\n",
       "            Plotly.purge(gd);\n",
       "            observer.disconnect();\n",
       "        }}\n",
       "}});\n",
       "\n",
       "// Listen for the removal of the full notebook cells\n",
       "var notebookContainer = gd.closest('#notebook-container');\n",
       "if (notebookContainer) {{\n",
       "    x.observe(notebookContainer, {childList: true});\n",
       "}}\n",
       "\n",
       "// Listen for the clearing of the current output cell\n",
       "var outputEl = gd.closest('.output');\n",
       "if (outputEl) {{\n",
       "    x.observe(outputEl, {childList: true});\n",
       "}}\n",
       "\n",
       "                        })                };                });            </script>        </div>"
      ]
     },
     "metadata": {},
     "output_type": "display_data"
    },
    {
     "data": {
      "application/vnd.plotly.v1+json": {
       "config": {
        "plotlyServerURL": "https://plot.ly"
       },
       "data": [
        {
         "hovertemplate": "<b>%{text}</b><br>Cosine Similarity: %{x:.3f}<extra></extra>",
         "marker": {
          "color": "limegreen",
          "line": {
           "color": "black",
           "width": 1
          },
          "opacity": 1,
          "size": 8,
          "symbol": "diamond"
         },
         "mode": "markers",
         "showlegend": false,
         "text": [
          "Zealous",
          "Wry",
          "Witty",
          "Whimsical",
          "Visceral",
          "Vindictive",
          "Verbose",
          "Utilitarian",
          "Urgent",
          "Universalist",
          "Understated",
          "Transparent",
          "Theatrical",
          "Technical",
          "Tactful",
          "Systems thinker",
          "Sycophantic",
          "Supportive",
          "Subversive",
          "Submissive",
          "Structuralist",
          "Stream of consciousness",
          "Strategic",
          "Stoic",
          "Spontaneous",
          "Spiritual",
          "Speculative",
          "Specialized",
          "Solemn",
          "Socratic",
          "Skeptical",
          "Serious",
          "Serene",
          "Secular",
          "Savage",
          "Sassy",
          "Sardonic",
          "Sarcastic",
          "Romantic",
          "Ritualistic",
          "Risk taking",
          "Rhetorical",
          "Resilient",
          "Reserved",
          "Relativist",
          "Regulatory",
          "Reductionist",
          "Reactive",
          "Rationalist",
          "Quantitative",
          "Qualitative",
          "Provocative",
          "Problem solving",
          "Proactive",
          "Principled",
          "Prescriptive",
          "Poetic",
          "Pluralist",
          "Playful",
          "Philosophical",
          "Pessimistic",
          "Perfectionist",
          "Pensive",
          "Pedantic",
          "Patient",
          "Passive aggressive",
          "Passionate",
          "Paranoid",
          "Paradoxical",
          "Pacifist",
          "Optimistic",
          "Open ended",
          "Obsessive",
          "Nurturing",
          "Nostalgic",
          "Nonchalant",
          "Nihilistic",
          "Neurotic",
          "Narrative",
          "Naive",
          "Mystical",
          "Moderate",
          "Mischievous",
          "Misanthropic",
          "Militant",
          "Meticulous",
          "Methodical",
          "Metaphorical",
          "Mercurial",
          "Melodramatic",
          "Melancholic",
          "Meditative",
          "Materialist",
          "Manipulative",
          "Literal",
          "Libertarian",
          "Judgmental",
          "Irreverent",
          "Ironic",
          "Intuitive",
          "Introspective",
          "Interdisciplinary",
          "Inspirational",
          "Inquisitive",
          "Individualistic",
          "Independent",
          "Inclusive",
          "Impulsive",
          "Improvisational",
          "Impatient",
          "Idealistic",
          "Humble",
          "Humanistic",
          "Hostile",
          "Holistic",
          "Historical",
          "Hedonistic",
          "Gregarious",
          "Grandiose",
          "Goofy",
          "Generous",
          "Generalist",
          "Futuristic",
          "Fundamentalist",
          "Formalist",
          "Formal",
          "Forgiving",
          "Flirty",
          "Flippant",
          "Flexible",
          "Fatalistic",
          "Factual",
          "Extroverted",
          "Exploratory",
          "Experiential",
          "Existentialist",
          "Evil",
          "Ethereal",
          "Essentialist",
          "Esoteric",
          "Erudite",
          "Epicurean",
          "Environmental",
          "Entertaining",
          "Enigmatic",
          "Empathetic",
          "Emotional",
          "Eloquent",
          "Elitist",
          "Egalitarian",
          "Effusive",
          "Efficient",
          "Educational",
          "Edgy",
          "Eclectic",
          "Earnest",
          "Dramatic",
          "Dominant",
          "Dogmatic",
          "Divergent",
          "Dispassionate",
          "Disorganized",
          "Diplomatic",
          "Deterministic",
          "Detached",
          "Descriptive",
          "Deontological",
          "Deferential",
          "Deconstructionist",
          "Decisive",
          "Data driven",
          "Cynical",
          "Curious",
          "Cryptic",
          "Cruel",
          "Critical",
          "Creative",
          "Cosmopolitan",
          "Convergent",
          "Contemporary",
          "Constructivist",
          "Conscientious",
          "Confrontational",
          "Confident",
          "Condescending",
          "Concise",
          "Conciliatory",
          "Competitive",
          "Collectivistic",
          "Collaborative",
          "Closure seeking",
          "Circumspect",
          "Chill",
          "Charismatic",
          "Chaotic",
          "Challenging",
          "Cautious",
          "Casual",
          "Calm",
          "Callous",
          "Calculating",
          "Bombastic",
          "Blunt",
          "Bitter",
          "Big picture",
          "Benevolent",
          "Avoidant",
          "Assertive",
          "Ascetic",
          "Artistic",
          "Arrogant",
          "Anthropocentric",
          "Animated",
          "Analytical",
          "Altruistic",
          "Agreeable",
          "Adventurous",
          "Adaptable",
          "Acerbic",
          "Absolutist"
         ],
         "type": "scatter",
         "x": [
          -0.16439377402359506,
          0.06740948191367709,
          -0.07099981235762755,
          -0.01267183332134766,
          -0.009373928944990274,
          -0.15640401147674068,
          0.0022376526252456765,
          -0.06415018343678375,
          -0.14564440558572933,
          -0.13385726920432342,
          -0.02998582045823993,
          -0.06698177907928285,
          -0.10869285424963156,
          0.15737072031949612,
          -0.23547367111334644,
          0.29768465284006734,
          -0.06443252142314151,
          -0.09695808110481348,
          0.3808636310317785,
          -0.07977000894371493,
          0.22476722360051946,
          -0.04503588030496794,
          0.08190794344519255,
          0.14236777515961285,
          0.17827099405939376,
          0.2447114356648111,
          0.17247694085809348,
          0.21168748487985142,
          0.10457192544947759,
          0.09406228555400628,
          0.08405016988628845,
          0.10343026164556172,
          0.20659175351726797,
          -0.11946433292901898,
          0.07256716843552882,
          -0.002756150319393204,
          0.02785300740633112,
          0.040955499874558876,
          0.008794114781478955,
          -0.2584612859811296,
          0.42572057726172685,
          -0.04384188018103031,
          0.07446397974521758,
          0.031227887098339083,
          0.1380781743162088,
          -0.328264899307286,
          -0.2988320620150713,
          -0.02929067022716753,
          -0.13766028854412252,
          -0.15496002887840674,
          0.23245567250090893,
          0.31868374769755964,
          -0.010590387066892509,
          -0.056244411165558755,
          -0.06372501724636248,
          -0.2503886850744573,
          -0.017719855326922686,
          0.06819036636529383,
          -0.19528035813910594,
          0.22488554867331256,
          0.0426560077498139,
          -0.027226330140536673,
          0.07251769274982808,
          0.0030550994127634037,
          -0.03602950641015822,
          -0.09403017009421291,
          -0.13796445133853238,
          0.04293723285040977,
          0.22573886519494776,
          0.0705218382789997,
          -0.1538773916011602,
          0.15613776048990535,
          -0.21739355536197383,
          -0.10387019738082928,
          -0.2791903621237758,
          0.0137240682927353,
          0.08520944215425204,
          -0.29252591490343477,
          -0.17078542932616958,
          -0.16140265359813058,
          0.2043277174521343,
          -0.1374345210613766,
          -0.1287104323989033,
          0.0022242971814670103,
          0.027090188371955596,
          -0.037398881715137,
          -0.04089501515908986,
          0.023776006591868275,
          -0.18876424374828124,
          -0.1621797919387976,
          0.09188662876706545,
          0.10747245706865212,
          -0.27654723966059036,
          -0.25683594430770085,
          -0.0696236135506972,
          -0.035834084856629,
          -0.03003737587077934,
          -0.011205829361292573,
          -0.21013551370351244,
          0.3088469023020343,
          -0.011080036060016042,
          0.31417445492519974,
          0.042695050033608746,
          -0.12152171223281216,
          0.28902871227341664,
          0.23551664711515932,
          0.1810599863079798,
          0.005361578013986728,
          0.08321847264798117,
          -0.021060415607365764,
          0.09328855458791316,
          -0.07810167017644212,
          0.05064961680939165,
          0.03201702158451751,
          0.22115495741982533,
          0.059270579413219414,
          -0.10781258960231466,
          -0.2268669031715946,
          0.14458176447419813,
          -0.2662163768002796,
          0.13085256859095382,
          0.30340066734534965,
          0.4114448253902712,
          -0.12269531930299572,
          -0.20489355429766082,
          0.0853007843296072,
          0.03638656182391671,
          -0.12173663511878546,
          -0.015760693900664282,
          0.019893582565154284,
          0.0318493614122571,
          -0.014406054693629256,
          -0.27820347048491595,
          0.0044179569266236335,
          -0.29611576472731876,
          0.3461585140463569,
          -0.14615997699443703,
          0.14320737312594548,
          -0.1887464896620933,
          0.4361683970036297,
          0.1649137050075692,
          -0.044905092920976726,
          0.25478449855704066,
          -0.1559346327885588,
          0.10881640409549227,
          -0.10471398519566084,
          -0.1111759135692787,
          -0.007181289293532164,
          -0.11099441778537437,
          0.14448244651849285,
          -0.23895097905036106,
          -0.021139410318165987,
          0.02348824315391516,
          0.2099803293318505,
          0.24597402676275676,
          -0.00740626943710469,
          -0.07800331460936795,
          -0.11022862092820278,
          -0.12371359965224217,
          -0.03688718673592434,
          0.08216951706141329,
          -0.18594998935648577,
          -0.10226847746102068,
          -0.05276736384788158,
          0.06501114284560516,
          -0.05253131319491406,
          -0.06599317693572535,
          -0.3017875093246888,
          0.201456269587717,
          0.059295331089812796,
          -0.09616867837751104,
          0.058689188086204214,
          -0.023785182672693292,
          0.24894360636133064,
          0.024413019156188594,
          0.31687762501940614,
          0.14500879054790447,
          0.2414784165951782,
          -0.14649586243060755,
          0.01989740263363347,
          0.25542735312340675,
          -0.0026223081488504145,
          0.2230588036695039,
          0.01743625304780167,
          -0.09526388171950766,
          -0.0026633584939001736,
          -0.16103225317471112,
          -0.04926072831406619,
          -0.10247599407464444,
          -0.06260173352714958,
          -0.04726864098773931,
          -0.030300088416577695,
          -0.022875026484625235,
          -0.04364795186585953,
          0.27356706267586817,
          0.1593069798955077,
          -0.04975193314897374,
          -0.22445730009707768,
          0.0951808588389335,
          0.0489373040026907,
          -0.058358327884593955,
          -0.12371930290016833,
          0.11793115120214817,
          -0.0029499074184008173,
          0.3847044219745931,
          -0.011212374088934652,
          -0.17423484826017477,
          0.03577280701198084,
          0.21473041046812955,
          0.04923695172566658,
          -0.024191483542712347,
          -0.2805724204295181,
          -0.14036835533700914,
          -0.04834103691678692,
          0.03585093020655224,
          -0.14339429269526924,
          0.3969329641892495,
          -0.0808303398866718,
          0.06706780142613233,
          -0.1555414790954188
         ],
         "xaxis": "x",
         "y": [
          1,
          1,
          1,
          1,
          1,
          1,
          1,
          1,
          1,
          1,
          1,
          1,
          1,
          1,
          1,
          1,
          1,
          1,
          1,
          1,
          1,
          1,
          1,
          1,
          1,
          1,
          1,
          1,
          1,
          1,
          1,
          1,
          1,
          1,
          1,
          1,
          1,
          1,
          1,
          1,
          1,
          1,
          1,
          1,
          1,
          1,
          1,
          1,
          1,
          1,
          1,
          1,
          1,
          1,
          1,
          1,
          1,
          1,
          1,
          1,
          1,
          1,
          1,
          1,
          1,
          1,
          1,
          1,
          1,
          1,
          1,
          1,
          1,
          1,
          1,
          1,
          1,
          1,
          1,
          1,
          1,
          1,
          1,
          1,
          1,
          1,
          1,
          1,
          1,
          1,
          1,
          1,
          1,
          1,
          1,
          1,
          1,
          1,
          1,
          1,
          1,
          1,
          1,
          1,
          1,
          1,
          1,
          1,
          1,
          1,
          1,
          1,
          1,
          1,
          1,
          1,
          1,
          1,
          1,
          1,
          1,
          1,
          1,
          1,
          1,
          1,
          1,
          1,
          1,
          1,
          1,
          1,
          1,
          1,
          1,
          1,
          1,
          1,
          1,
          1,
          1,
          1,
          1,
          1,
          1,
          1,
          1,
          1,
          1,
          1,
          1,
          1,
          1,
          1,
          1,
          1,
          1,
          1,
          1,
          1,
          1,
          1,
          1,
          1,
          1,
          1,
          1,
          1,
          1,
          1,
          1,
          1,
          1,
          1,
          1,
          1,
          1,
          1,
          1,
          1,
          1,
          1,
          1,
          1,
          1,
          1,
          1,
          1,
          1,
          1,
          1,
          1,
          1,
          1,
          1,
          1,
          1,
          1,
          1,
          1,
          1,
          1,
          1,
          1,
          1,
          1,
          1,
          1,
          1,
          1,
          1,
          1,
          1,
          1,
          1,
          1,
          1,
          1,
          1,
          1
         ],
         "yaxis": "y"
        },
        {
         "hovertemplate": "<b>%{text}</b><br>Cosine Similarity: %{x:.3f}<extra></extra>",
         "marker": {
          "color": "limegreen",
          "line": {
           "color": "black",
           "width": 1
          },
          "opacity": 1,
          "size": 8,
          "symbol": "diamond"
         },
         "mode": "markers",
         "showlegend": false,
         "text": [
          "Traditional",
          "Theoretical",
          "Temperamental",
          "Reverent",
          "Rebellious",
          "Radical",
          "Progressive",
          "Practical",
          "Petty",
          "Manic",
          "Introverted",
          "Innovative",
          "Iconoclastic",
          "Grounded",
          "Contrarian",
          "Conceptual",
          "Anxious",
          "Accommodating",
          "Accessible",
          "Abstract"
         ],
         "type": "scatter",
         "x": [
          -0.487177771012831,
          0.500845969296264,
          -0.3505777434560664,
          -0.3640703395639715,
          0.6148001446837766,
          0.45205608898745575,
          0.46289767917466823,
          -0.4769153988092651,
          -0.35323816300260596,
          -0.3500900529523335,
          0.43835432436241245,
          0.5820630610876834,
          0.5522215804139935,
          -0.5495113999576542,
          0.4757389164611777,
          0.4784053267623893,
          -0.34373271505167663,
          -0.3310301053235621,
          -0.3560669948152112,
          0.5291383935286978
         ],
         "xaxis": "x",
         "y": [
          1,
          1,
          1,
          1,
          1,
          1,
          1,
          1,
          1,
          1,
          1,
          1,
          1,
          1,
          1,
          1,
          1,
          1,
          1,
          1
         ],
         "yaxis": "y"
        },
        {
         "hoverinfo": "skip",
         "line": {
          "color": "black",
          "width": 1
         },
         "mode": "lines",
         "showlegend": false,
         "type": "scatter",
         "x": [
          -0.5495113999576542,
          -0.5495113999576542
         ],
         "xaxis": "x",
         "y": [
          1,
          1.45
         ],
         "yaxis": "y"
        },
        {
         "hoverinfo": "skip",
         "line": {
          "color": "black",
          "width": 1
         },
         "mode": "lines",
         "showlegend": false,
         "type": "scatter",
         "x": [
          -0.487177771012831,
          -0.487177771012831
         ],
         "xaxis": "x",
         "y": [
          1,
          0.6
         ],
         "yaxis": "y"
        },
        {
         "hoverinfo": "skip",
         "line": {
          "color": "black",
          "width": 1
         },
         "mode": "lines",
         "showlegend": false,
         "type": "scatter",
         "x": [
          -0.4769153988092651,
          -0.4769153988092651
         ],
         "xaxis": "x",
         "y": [
          1,
          1.9
         ],
         "yaxis": "y"
        },
        {
         "hoverinfo": "skip",
         "line": {
          "color": "black",
          "width": 1
         },
         "mode": "lines",
         "showlegend": false,
         "type": "scatter",
         "x": [
          -0.3640703395639715,
          -0.3640703395639715
         ],
         "xaxis": "x",
         "y": [
          1,
          0.15
         ],
         "yaxis": "y"
        },
        {
         "hoverinfo": "skip",
         "line": {
          "color": "black",
          "width": 1
         },
         "mode": "lines",
         "showlegend": false,
         "type": "scatter",
         "x": [
          -0.3560669948152112,
          -0.3560669948152112
         ],
         "xaxis": "x",
         "y": [
          1,
          1.6
         ],
         "yaxis": "y"
        },
        {
         "hoverinfo": "skip",
         "line": {
          "color": "black",
          "width": 1
         },
         "mode": "lines",
         "showlegend": false,
         "type": "scatter",
         "x": [
          -0.35323816300260596,
          -0.35323816300260596
         ],
         "xaxis": "x",
         "y": [
          1,
          0.45
         ],
         "yaxis": "y"
        },
        {
         "hoverinfo": "skip",
         "line": {
          "color": "black",
          "width": 1
         },
         "mode": "lines",
         "showlegend": false,
         "type": "scatter",
         "x": [
          -0.3505777434560664,
          -0.3505777434560664
         ],
         "xaxis": "x",
         "y": [
          1,
          1.3
         ],
         "yaxis": "y"
        },
        {
         "hoverinfo": "skip",
         "line": {
          "color": "black",
          "width": 1
         },
         "mode": "lines",
         "showlegend": false,
         "type": "scatter",
         "x": [
          -0.3500900529523335,
          -0.3500900529523335
         ],
         "xaxis": "x",
         "y": [
          1,
          0.75
         ],
         "yaxis": "y"
        },
        {
         "hoverinfo": "skip",
         "line": {
          "color": "black",
          "width": 1
         },
         "mode": "lines",
         "showlegend": false,
         "type": "scatter",
         "x": [
          -0.34373271505167663,
          -0.34373271505167663
         ],
         "xaxis": "x",
         "y": [
          1,
          1.75
         ],
         "yaxis": "y"
        },
        {
         "hoverinfo": "skip",
         "line": {
          "color": "black",
          "width": 1
         },
         "mode": "lines",
         "showlegend": false,
         "type": "scatter",
         "x": [
          -0.3310301053235621,
          -0.3310301053235621
         ],
         "xaxis": "x",
         "y": [
          1,
          0.3
         ],
         "yaxis": "y"
        },
        {
         "hoverinfo": "skip",
         "line": {
          "color": "black",
          "width": 1
         },
         "mode": "lines",
         "showlegend": false,
         "type": "scatter",
         "x": [
          0.43835432436241245,
          0.43835432436241245
         ],
         "xaxis": "x",
         "y": [
          1,
          1.45
         ],
         "yaxis": "y"
        },
        {
         "hoverinfo": "skip",
         "line": {
          "color": "black",
          "width": 1
         },
         "mode": "lines",
         "showlegend": false,
         "type": "scatter",
         "x": [
          0.45205608898745575,
          0.45205608898745575
         ],
         "xaxis": "x",
         "y": [
          1,
          0.6
         ],
         "yaxis": "y"
        },
        {
         "hoverinfo": "skip",
         "line": {
          "color": "black",
          "width": 1
         },
         "mode": "lines",
         "showlegend": false,
         "type": "scatter",
         "x": [
          0.46289767917466823,
          0.46289767917466823
         ],
         "xaxis": "x",
         "y": [
          1,
          1.9
         ],
         "yaxis": "y"
        },
        {
         "hoverinfo": "skip",
         "line": {
          "color": "black",
          "width": 1
         },
         "mode": "lines",
         "showlegend": false,
         "type": "scatter",
         "x": [
          0.4757389164611777,
          0.4757389164611777
         ],
         "xaxis": "x",
         "y": [
          1,
          0.15
         ],
         "yaxis": "y"
        },
        {
         "hoverinfo": "skip",
         "line": {
          "color": "black",
          "width": 1
         },
         "mode": "lines",
         "showlegend": false,
         "type": "scatter",
         "x": [
          0.4784053267623893,
          0.4784053267623893
         ],
         "xaxis": "x",
         "y": [
          1,
          1.6
         ],
         "yaxis": "y"
        },
        {
         "hoverinfo": "skip",
         "line": {
          "color": "black",
          "width": 1
         },
         "mode": "lines",
         "showlegend": false,
         "type": "scatter",
         "x": [
          0.500845969296264,
          0.500845969296264
         ],
         "xaxis": "x",
         "y": [
          1,
          0.45
         ],
         "yaxis": "y"
        },
        {
         "hoverinfo": "skip",
         "line": {
          "color": "black",
          "width": 1
         },
         "mode": "lines",
         "showlegend": false,
         "type": "scatter",
         "x": [
          0.5291383935286978,
          0.5291383935286978
         ],
         "xaxis": "x",
         "y": [
          1,
          1.3
         ],
         "yaxis": "y"
        },
        {
         "hoverinfo": "skip",
         "line": {
          "color": "black",
          "width": 1
         },
         "mode": "lines",
         "showlegend": false,
         "type": "scatter",
         "x": [
          0.5522215804139935,
          0.5522215804139935
         ],
         "xaxis": "x",
         "y": [
          1,
          0.75
         ],
         "yaxis": "y"
        },
        {
         "hoverinfo": "skip",
         "line": {
          "color": "black",
          "width": 1
         },
         "mode": "lines",
         "showlegend": false,
         "type": "scatter",
         "x": [
          0.5820630610876834,
          0.5820630610876834
         ],
         "xaxis": "x",
         "y": [
          1,
          1.75
         ],
         "yaxis": "y"
        },
        {
         "hoverinfo": "skip",
         "line": {
          "color": "black",
          "width": 1
         },
         "mode": "lines",
         "showlegend": false,
         "type": "scatter",
         "x": [
          0.6148001446837766,
          0.6148001446837766
         ],
         "xaxis": "x",
         "y": [
          1,
          0.3
         ],
         "yaxis": "y"
        },
        {
         "hoverinfo": "skip",
         "marker": {
          "color": "limegreen"
         },
         "opacity": 0.7,
         "showlegend": false,
         "type": "bar",
         "width": 0.031048307857104798,
         "x": [
          -0.5301062075469637,
          -0.4912958227255827,
          -0.4524854379042016,
          -0.4136750530828206,
          -0.3748646682614396,
          -0.3360542834400586,
          -0.2972438986186775,
          -0.2584335137972965,
          -0.21962312897591552,
          -0.1808127441545345,
          -0.14200235933315344,
          -0.10319197451177242,
          -0.06438158969039143,
          -0.025571204869010378,
          0.013239179952370672,
          0.052049564773751666,
          0.09085994959513266,
          0.12967033441651366,
          0.1684807192378947,
          0.20729110405927575,
          0.24610148888065675,
          0.2849118737020378,
          0.32372225852341885,
          0.36253264334479984,
          0.40134302816618084,
          0.44015341298756183,
          0.4789637978089428,
          0.5177741826303239,
          0.556584567451705,
          0.5953949522730861
         ],
         "xaxis": "x",
         "y": [
          0.03103448275862069,
          0.06206896551724138,
          0,
          0,
          0.06206896551724138,
          0.18620689655172415,
          0.21724137931034485,
          0.15517241379310345,
          0.21724137931034485,
          0.2482758620689655,
          0.6206896551724138,
          0.496551724137931,
          0.6517241379310345,
          0.9,
          0.6827586206896552,
          0.5586206896551724,
          0.5275862068965517,
          0.2482758620689655,
          0.21724137931034485,
          0.3413793103448276,
          0.2482758620689655,
          0.12413793103448276,
          0.12413793103448276,
          0.06206896551724138,
          0.09310344827586207,
          0.12413793103448276,
          0.09310344827586207,
          0.06206896551724138,
          0.03103448275862069,
          0.06206896551724138
         ],
         "yaxis": "y"
        },
        {
         "hovertemplate": "<b>%{text}</b><br>PC Projection: %{x:.3f}<extra></extra>",
         "marker": {
          "color": "limegreen",
          "line": {
           "color": "black",
           "width": 1
          },
          "opacity": 1,
          "size": 8,
          "symbol": "diamond"
         },
         "mode": "markers",
         "showlegend": false,
         "text": [
          "Zealous",
          "Wry",
          "Witty",
          "Whimsical",
          "Visceral",
          "Vindictive",
          "Verbose",
          "Utilitarian",
          "Urgent",
          "Universalist",
          "Understated",
          "Transparent",
          "Theatrical",
          "Technical",
          "Tactful",
          "Systems thinker",
          "Sycophantic",
          "Supportive",
          "Subversive",
          "Submissive",
          "Structuralist",
          "Stream of consciousness",
          "Strategic",
          "Stoic",
          "Spontaneous",
          "Spiritual",
          "Speculative",
          "Specialized",
          "Solemn",
          "Socratic",
          "Skeptical",
          "Serious",
          "Serene",
          "Secular",
          "Savage",
          "Sassy",
          "Sardonic",
          "Sarcastic",
          "Romantic",
          "Ritualistic",
          "Risk taking",
          "Rhetorical",
          "Reverent",
          "Resilient",
          "Reserved",
          "Relativist",
          "Regulatory",
          "Reductionist",
          "Reactive",
          "Rationalist",
          "Radical",
          "Quantitative",
          "Qualitative",
          "Progressive",
          "Problem solving",
          "Proactive",
          "Principled",
          "Prescriptive",
          "Poetic",
          "Pluralist",
          "Playful",
          "Philosophical",
          "Pessimistic",
          "Perfectionist",
          "Pensive",
          "Pedantic",
          "Patient",
          "Passive aggressive",
          "Passionate",
          "Paranoid",
          "Paradoxical",
          "Pacifist",
          "Optimistic",
          "Open ended",
          "Obsessive",
          "Nurturing",
          "Nostalgic",
          "Nonchalant",
          "Nihilistic",
          "Neurotic",
          "Narrative",
          "Mystical",
          "Moderate",
          "Mischievous",
          "Misanthropic",
          "Militant",
          "Meticulous",
          "Methodical",
          "Metaphorical",
          "Mercurial",
          "Melodramatic",
          "Melancholic",
          "Meditative",
          "Materialist",
          "Manipulative",
          "Literal",
          "Libertarian",
          "Judgmental",
          "Irreverent",
          "Ironic",
          "Intuitive",
          "Introverted",
          "Introspective",
          "Interdisciplinary",
          "Inspirational",
          "Inquisitive",
          "Individualistic",
          "Independent",
          "Inclusive",
          "Impulsive",
          "Improvisational",
          "Impatient",
          "Idealistic",
          "Humble",
          "Humanistic",
          "Hostile",
          "Holistic",
          "Historical",
          "Hedonistic",
          "Gregarious",
          "Grandiose",
          "Goofy",
          "Generous",
          "Generalist",
          "Futuristic",
          "Fundamentalist",
          "Formalist",
          "Formal",
          "Forgiving",
          "Flirty",
          "Flippant",
          "Flexible",
          "Fatalistic",
          "Factual",
          "Extroverted",
          "Exploratory",
          "Experiential",
          "Existentialist",
          "Evil",
          "Ethereal",
          "Essentialist",
          "Erudite",
          "Epicurean",
          "Environmental",
          "Entertaining",
          "Enigmatic",
          "Empathetic",
          "Emotional",
          "Eloquent",
          "Elitist",
          "Egalitarian",
          "Efficient",
          "Educational",
          "Edgy",
          "Eclectic",
          "Earnest",
          "Dramatic",
          "Dominant",
          "Dogmatic",
          "Divergent",
          "Dispassionate",
          "Disorganized",
          "Diplomatic",
          "Deterministic",
          "Detached",
          "Descriptive",
          "Deontological",
          "Deferential",
          "Deconstructionist",
          "Decisive",
          "Data driven",
          "Cynical",
          "Curious",
          "Cryptic",
          "Cruel",
          "Creative",
          "Cosmopolitan",
          "Convergent",
          "Contemporary",
          "Constructivist",
          "Conscientious",
          "Confrontational",
          "Confident",
          "Condescending",
          "Concise",
          "Conciliatory",
          "Competitive",
          "Collectivistic",
          "Collaborative",
          "Closure seeking",
          "Circumspect",
          "Chill",
          "Charismatic",
          "Chaotic",
          "Challenging",
          "Cautious",
          "Casual",
          "Calm",
          "Callous",
          "Calculating",
          "Bombastic",
          "Blunt",
          "Bitter",
          "Big picture",
          "Benevolent",
          "Avoidant",
          "Assertive",
          "Ascetic",
          "Artistic",
          "Arrogant",
          "Anthropocentric",
          "Animated",
          "Analytical",
          "Altruistic",
          "Agreeable",
          "Adventurous",
          "Adaptable",
          "Acerbic",
          "Accommodating",
          "Absolutist"
         ],
         "type": "scatter",
         "x": [
          -10.916752731305008,
          2.8367926801560173,
          -5.650067731082485,
          -0.6133871941102084,
          -0.8034599692170526,
          -6.824599884571725,
          0.22843981351222112,
          -2.8401547268362823,
          -7.493141967045605,
          -7.323167197592543,
          -3.7022080624068305,
          -7.703120271434352,
          -13.73137570632055,
          7.9985109597762865,
          -11.208174489086895,
          17.25364319500898,
          -8.255855353759205,
          -10.672670873587373,
          14.21183139915843,
          -7.138589334741923,
          10.788095413685406,
          -1.9744329984205387,
          7.659881856729411,
          10.592510232716148,
          7.702999720606634,
          15.82640465549081,
          8.586796106165187,
          14.004674667943213,
          4.450450047130717,
          8.635034325896841,
          7.826884835380607,
          6.518167638934098,
          10.207572439638843,
          -7.308102867073795,
          6.76966995286983,
          -0.09688483087546658,
          1.8785834658109823,
          3.566341841632866,
          0.5703231681773883,
          -15.54892738578367,
          16.896050137817216,
          -4.107955226440998,
          -17.64327612361334,
          3.9918003566055367,
          4.355306793254903,
          7.5960799514409105,
          -16.35897824216507,
          -13.77272291905436,
          -3.7832224628557936,
          -6.978496077627217,
          21.551939214737885,
          -8.841353832885929,
          13.214977792312629,
          20.491521576395645,
          -0.8265818573755955,
          -8.086788793102095,
          -2.544100700611524,
          -13.123230030603152,
          -1.1293188535800647,
          2.578894329051869,
          -8.814994706591845,
          19.375015848356895,
          2.685137144878542,
          -2.246977526066153,
          8.258279146858406,
          0.2075641428882271,
          -2.270257617649088,
          -7.093326362031703,
          -11.277189714899972,
          1.8245996410745775,
          9.127995864777509,
          3.39411688313743,
          -8.142515645329453,
          6.99192733450158,
          -10.567606997463463,
          -10.241529266204811,
          -14.956438519030414,
          1.7917225351429387,
          6.1611642456177815,
          -15.935926720804174,
          -10.020483121586349,
          12.346269092153218,
          -6.456156811564554,
          -6.076806305602554,
          0.1463305473128591,
          1.577010264143747,
          -4.436474893915843,
          -2.070992037376199,
          2.319316179843781,
          -9.393483806682637,
          -14.362458898179689,
          4.580046616853614,
          11.10239877143878,
          -15.014616000099938,
          -14.627595989264952,
          -8.787993613764623,
          -1.9215643014075021,
          -1.7009218468815581,
          -0.8780935049652936,
          -9.447789536921064,
          15.99370506433803,
          19.586254992910042,
          -1.404204994137535,
          10.338971891430049,
          2.395711594377187,
          -7.096081513548559,
          9.031626883249787,
          9.182908560610798,
          10.68986872775339,
          0.9293479490152138,
          5.2694146079667545,
          -2.7103382409023826,
          4.834001830457092,
          -4.155432900497552,
          2.609750352596858,
          3.412843166091657,
          13.801313248530455,
          2.8986809631214956,
          -8.4986848706677,
          -13.547845286078585,
          6.063960320810199,
          -15.433993474927926,
          9.326662681381851,
          11.44935791002509,
          18.84859248524217,
          -13.354804026378206,
          -10.240372629240126,
          3.76116280757193,
          1.6195275164572351,
          -6.859972566828,
          -2.161509280908738,
          1.1560673435321605,
          2.1933166011366207,
          -0.6890498530929965,
          -10.880733159429028,
          0.41781205166655383,
          -14.447252377268551,
          17.610119799610604,
          -9.08366441253704,
          9.216356840948578,
          -10.865728545627025,
          14.310371880312683,
          -3.018782518137371,
          13.297461124309546,
          -9.254675593840805,
          7.123565834033509,
          -9.016424387412162,
          -7.9928240452436565,
          -0.8565973418124752,
          -6.794647358957773,
          6.60667186787855,
          -3.142032938731132,
          1.9457055153562646,
          9.96390486995141,
          15.057141525607149,
          -0.5535807857829905,
          -9.214409944904135,
          -6.578008078082381,
          -11.432576126006364,
          -4.335421677469066,
          7.1843278285094305,
          -12.94893427921018,
          -4.88353436078137,
          -3.273615905649368,
          5.002648881317396,
          -3.4884684323975397,
          -3.601612901234076,
          -12.726623874722835,
          18.075414374149798,
          4.7883585450342405,
          -5.428874214039479,
          3.066345728534609,
          -1.927082173204395,
          11.218136100450886,
          2.417991581608039,
          11.300214163342012,
          11.526209580596305,
          -5.788954351170598,
          1.0638611087189946,
          13.993306859778253,
          -0.24491703395674794,
          8.315475364329444,
          1.8069441897600176,
          -5.960088658646493,
          -0.4193660347720588,
          -7.133438800757487,
          -3.185009123813509,
          -4.668300215665574,
          -2.9860571182928966,
          -4.197976960508898,
          -2.514408491928343,
          -1.0623279771615712,
          -4.335519542510458,
          12.105508435962978,
          11.712937676114054,
          -3.081613810297835,
          -8.847219271373941,
          5.679799677490137,
          7.045354368700124,
          -6.341516681570163,
          -9.918043976396037,
          8.479251721718699,
          -0.1890031658989918,
          17.612037986675006,
          -0.5662502995232006,
          -12.064706461806773,
          1.71851744963076,
          12.012791316358252,
          3.2462778896149076,
          -1.9675384316283575,
          -11.65129784468287,
          -10.751869943776624,
          -5.07743130994422,
          1.7413759070505155,
          -11.088570425120503,
          17.992849272558523,
          -9.795142118192834,
          5.1508256783425885,
          -10.577378765635457,
          -8.618407939179303
         ],
         "xaxis": "x2",
         "y": [
          1,
          1,
          1,
          1,
          1,
          1,
          1,
          1,
          1,
          1,
          1,
          1,
          1,
          1,
          1,
          1,
          1,
          1,
          1,
          1,
          1,
          1,
          1,
          1,
          1,
          1,
          1,
          1,
          1,
          1,
          1,
          1,
          1,
          1,
          1,
          1,
          1,
          1,
          1,
          1,
          1,
          1,
          1,
          1,
          1,
          1,
          1,
          1,
          1,
          1,
          1,
          1,
          1,
          1,
          1,
          1,
          1,
          1,
          1,
          1,
          1,
          1,
          1,
          1,
          1,
          1,
          1,
          1,
          1,
          1,
          1,
          1,
          1,
          1,
          1,
          1,
          1,
          1,
          1,
          1,
          1,
          1,
          1,
          1,
          1,
          1,
          1,
          1,
          1,
          1,
          1,
          1,
          1,
          1,
          1,
          1,
          1,
          1,
          1,
          1,
          1,
          1,
          1,
          1,
          1,
          1,
          1,
          1,
          1,
          1,
          1,
          1,
          1,
          1,
          1,
          1,
          1,
          1,
          1,
          1,
          1,
          1,
          1,
          1,
          1,
          1,
          1,
          1,
          1,
          1,
          1,
          1,
          1,
          1,
          1,
          1,
          1,
          1,
          1,
          1,
          1,
          1,
          1,
          1,
          1,
          1,
          1,
          1,
          1,
          1,
          1,
          1,
          1,
          1,
          1,
          1,
          1,
          1,
          1,
          1,
          1,
          1,
          1,
          1,
          1,
          1,
          1,
          1,
          1,
          1,
          1,
          1,
          1,
          1,
          1,
          1,
          1,
          1,
          1,
          1,
          1,
          1,
          1,
          1,
          1,
          1,
          1,
          1,
          1,
          1,
          1,
          1,
          1,
          1,
          1,
          1,
          1,
          1,
          1,
          1,
          1,
          1,
          1,
          1,
          1,
          1,
          1,
          1,
          1,
          1,
          1,
          1,
          1,
          1,
          1,
          1,
          1,
          1,
          1,
          1
         ],
         "yaxis": "y2"
        },
        {
         "hovertemplate": "<b>%{text}</b><br>PC Projection: %{x:.3f}<extra></extra>",
         "marker": {
          "color": "limegreen",
          "line": {
           "color": "black",
           "width": 1
          },
          "opacity": 1,
          "size": 8,
          "symbol": "diamond"
         },
         "mode": "markers",
         "showlegend": false,
         "text": [
          "Traditional",
          "Theoretical",
          "Temperamental",
          "Rebellious",
          "Provocative",
          "Practical",
          "Petty",
          "Naive",
          "Manic",
          "Innovative",
          "Iconoclastic",
          "Grounded",
          "Esoteric",
          "Effusive",
          "Critical",
          "Contrarian",
          "Conceptual",
          "Anxious",
          "Accessible",
          "Abstract"
         ],
         "type": "scatter",
         "x": [
          -31.151800049621645,
          22.522579577321075,
          -22.956850935540306,
          30.89372599198088,
          22.908922238114496,
          -29.785178962362853,
          -19.619291174502155,
          -18.921705236107137,
          -22.187140139800537,
          25.324044117944933,
          24.02581391490426,
          -30.486466649074238,
          27.551325960424762,
          -22.04246217959698,
          21.95050126277659,
          23.979646763006848,
          24.511239537666363,
          -18.455373522233284,
          -21.40425497079015,
          26.13877339719637
         ],
         "xaxis": "x2",
         "y": [
          1,
          1,
          1,
          1,
          1,
          1,
          1,
          1,
          1,
          1,
          1,
          1,
          1,
          1,
          1,
          1,
          1,
          1,
          1,
          1
         ],
         "yaxis": "y2"
        },
        {
         "hoverinfo": "skip",
         "line": {
          "color": "black",
          "width": 1
         },
         "mode": "lines",
         "showlegend": false,
         "type": "scatter",
         "x": [
          -31.151800049621645,
          -31.151800049621645
         ],
         "xaxis": "x2",
         "y": [
          1,
          1.45
         ],
         "yaxis": "y2"
        },
        {
         "hoverinfo": "skip",
         "line": {
          "color": "black",
          "width": 1
         },
         "mode": "lines",
         "showlegend": false,
         "type": "scatter",
         "x": [
          -30.486466649074238,
          -30.486466649074238
         ],
         "xaxis": "x2",
         "y": [
          1,
          0.6
         ],
         "yaxis": "y2"
        },
        {
         "hoverinfo": "skip",
         "line": {
          "color": "black",
          "width": 1
         },
         "mode": "lines",
         "showlegend": false,
         "type": "scatter",
         "x": [
          -29.785178962362853,
          -29.785178962362853
         ],
         "xaxis": "x2",
         "y": [
          1,
          1.9
         ],
         "yaxis": "y2"
        },
        {
         "hoverinfo": "skip",
         "line": {
          "color": "black",
          "width": 1
         },
         "mode": "lines",
         "showlegend": false,
         "type": "scatter",
         "x": [
          -22.956850935540306,
          -22.956850935540306
         ],
         "xaxis": "x2",
         "y": [
          1,
          0.15
         ],
         "yaxis": "y2"
        },
        {
         "hoverinfo": "skip",
         "line": {
          "color": "black",
          "width": 1
         },
         "mode": "lines",
         "showlegend": false,
         "type": "scatter",
         "x": [
          -22.187140139800537,
          -22.187140139800537
         ],
         "xaxis": "x2",
         "y": [
          1,
          1.6
         ],
         "yaxis": "y2"
        },
        {
         "hoverinfo": "skip",
         "line": {
          "color": "black",
          "width": 1
         },
         "mode": "lines",
         "showlegend": false,
         "type": "scatter",
         "x": [
          -22.04246217959698,
          -22.04246217959698
         ],
         "xaxis": "x2",
         "y": [
          1,
          0.45
         ],
         "yaxis": "y2"
        },
        {
         "hoverinfo": "skip",
         "line": {
          "color": "black",
          "width": 1
         },
         "mode": "lines",
         "showlegend": false,
         "type": "scatter",
         "x": [
          -21.40425497079015,
          -21.40425497079015
         ],
         "xaxis": "x2",
         "y": [
          1,
          1.3
         ],
         "yaxis": "y2"
        },
        {
         "hoverinfo": "skip",
         "line": {
          "color": "black",
          "width": 1
         },
         "mode": "lines",
         "showlegend": false,
         "type": "scatter",
         "x": [
          -19.619291174502155,
          -19.619291174502155
         ],
         "xaxis": "x2",
         "y": [
          1,
          0.75
         ],
         "yaxis": "y2"
        },
        {
         "hoverinfo": "skip",
         "line": {
          "color": "black",
          "width": 1
         },
         "mode": "lines",
         "showlegend": false,
         "type": "scatter",
         "x": [
          -18.921705236107137,
          -18.921705236107137
         ],
         "xaxis": "x2",
         "y": [
          1,
          1.75
         ],
         "yaxis": "y2"
        },
        {
         "hoverinfo": "skip",
         "line": {
          "color": "black",
          "width": 1
         },
         "mode": "lines",
         "showlegend": false,
         "type": "scatter",
         "x": [
          -18.455373522233284,
          -18.455373522233284
         ],
         "xaxis": "x2",
         "y": [
          1,
          0.3
         ],
         "yaxis": "y2"
        },
        {
         "hoverinfo": "skip",
         "line": {
          "color": "black",
          "width": 1
         },
         "mode": "lines",
         "showlegend": false,
         "type": "scatter",
         "x": [
          21.95050126277659,
          21.95050126277659
         ],
         "xaxis": "x2",
         "y": [
          1,
          1.45
         ],
         "yaxis": "y2"
        },
        {
         "hoverinfo": "skip",
         "line": {
          "color": "black",
          "width": 1
         },
         "mode": "lines",
         "showlegend": false,
         "type": "scatter",
         "x": [
          22.522579577321075,
          22.522579577321075
         ],
         "xaxis": "x2",
         "y": [
          1,
          0.6
         ],
         "yaxis": "y2"
        },
        {
         "hoverinfo": "skip",
         "line": {
          "color": "black",
          "width": 1
         },
         "mode": "lines",
         "showlegend": false,
         "type": "scatter",
         "x": [
          22.908922238114496,
          22.908922238114496
         ],
         "xaxis": "x2",
         "y": [
          1,
          1.9
         ],
         "yaxis": "y2"
        },
        {
         "hoverinfo": "skip",
         "line": {
          "color": "black",
          "width": 1
         },
         "mode": "lines",
         "showlegend": false,
         "type": "scatter",
         "x": [
          23.979646763006848,
          23.979646763006848
         ],
         "xaxis": "x2",
         "y": [
          1,
          0.15
         ],
         "yaxis": "y2"
        },
        {
         "hoverinfo": "skip",
         "line": {
          "color": "black",
          "width": 1
         },
         "mode": "lines",
         "showlegend": false,
         "type": "scatter",
         "x": [
          24.02581391490426,
          24.02581391490426
         ],
         "xaxis": "x2",
         "y": [
          1,
          1.6
         ],
         "yaxis": "y2"
        },
        {
         "hoverinfo": "skip",
         "line": {
          "color": "black",
          "width": 1
         },
         "mode": "lines",
         "showlegend": false,
         "type": "scatter",
         "x": [
          24.511239537666363,
          24.511239537666363
         ],
         "xaxis": "x2",
         "y": [
          1,
          0.45
         ],
         "yaxis": "y2"
        },
        {
         "hoverinfo": "skip",
         "line": {
          "color": "black",
          "width": 1
         },
         "mode": "lines",
         "showlegend": false,
         "type": "scatter",
         "x": [
          25.324044117944933,
          25.324044117944933
         ],
         "xaxis": "x2",
         "y": [
          1,
          1.3
         ],
         "yaxis": "y2"
        },
        {
         "hoverinfo": "skip",
         "line": {
          "color": "black",
          "width": 1
         },
         "mode": "lines",
         "showlegend": false,
         "type": "scatter",
         "x": [
          26.13877339719637,
          26.13877339719637
         ],
         "xaxis": "x2",
         "y": [
          1,
          0.75
         ],
         "yaxis": "y2"
        },
        {
         "hoverinfo": "skip",
         "line": {
          "color": "black",
          "width": 1
         },
         "mode": "lines",
         "showlegend": false,
         "type": "scatter",
         "x": [
          27.551325960424762,
          27.551325960424762
         ],
         "xaxis": "x2",
         "y": [
          1,
          1.75
         ],
         "yaxis": "y2"
        },
        {
         "hoverinfo": "skip",
         "line": {
          "color": "black",
          "width": 1
         },
         "mode": "lines",
         "showlegend": false,
         "type": "scatter",
         "x": [
          30.89372599198088,
          30.89372599198088
         ],
         "xaxis": "x2",
         "y": [
          1,
          0.3
         ],
         "yaxis": "y2"
        },
        {
         "hoverinfo": "skip",
         "marker": {
          "color": "limegreen"
         },
         "opacity": 0.7,
         "showlegend": false,
         "type": "bar",
         "width": 1.6545473611093997,
         "x": [
          -30.11770794892827,
          -28.04952374754152,
          -25.981339546154768,
          -23.91315534476802,
          -21.844971143381265,
          -19.776786941994516,
          -17.708602740607766,
          -15.640418539221013,
          -13.572234337834264,
          -11.504050136447512,
          -9.435865935060761,
          -7.3676817336740115,
          -5.29949753228726,
          -3.231313330900509,
          -1.1631291295137576,
          0.9050550718729937,
          2.9732392732597432,
          5.041423474646493,
          7.109607676033246,
          9.177791877419999,
          11.245976078806748,
          13.314160280193498,
          15.382344481580247,
          17.450528682966997,
          19.51871288435375,
          21.586897085740503,
          23.655081287127253,
          25.723265488514002,
          27.79144968990075,
          29.8596338912875
         ],
         "xaxis": "x2",
         "y": [
          0.12857142857142856,
          0,
          0,
          0.04285714285714286,
          0.12857142857142856,
          0.08571428571428572,
          0.08571428571428572,
          0.3,
          0.3857142857142857,
          0.5571428571428572,
          0.7285714285714286,
          0.8142857142857143,
          0.4714285714285715,
          0.8142857142857143,
          0.9,
          0.7285714285714286,
          0.7285714285714286,
          0.42857142857142855,
          0.5571428571428572,
          0.5142857142857142,
          0.5142857142857142,
          0.34285714285714286,
          0.12857142857142856,
          0.2571428571428571,
          0.17142857142857143,
          0.12857142857142856,
          0.17142857142857143,
          0.08571428571428572,
          0.04285714285714286,
          0.04285714285714286
         ],
         "yaxis": "y2"
        }
       ],
       "layout": {
        "annotations": [
         {
          "font": {
           "size": 16
          },
          "showarrow": false,
          "text": "PC5 Cosine Similarity",
          "x": 0.5,
          "xanchor": "center",
          "xref": "paper",
          "y": 1,
          "yanchor": "bottom",
          "yref": "paper"
         },
         {
          "font": {
           "size": 16
          },
          "showarrow": false,
          "text": "PC5 Projection",
          "x": 0.5,
          "xanchor": "center",
          "xref": "paper",
          "y": 0.45,
          "yanchor": "bottom",
          "yref": "paper"
         },
         {
          "bgcolor": "rgba(255, 255, 255, 0.9)",
          "bordercolor": "black",
          "borderwidth": 1,
          "font": {
           "color": "black",
           "size": 10
          },
          "showarrow": false,
          "text": "Grounded",
          "x": -0.5495113999576542,
          "xref": "x",
          "y": 1.45,
          "yref": "y"
         },
         {
          "bgcolor": "rgba(255, 255, 255, 0.9)",
          "bordercolor": "black",
          "borderwidth": 1,
          "font": {
           "color": "black",
           "size": 10
          },
          "showarrow": false,
          "text": "Traditional",
          "x": -0.487177771012831,
          "xref": "x",
          "y": 0.6,
          "yref": "y"
         },
         {
          "bgcolor": "rgba(255, 255, 255, 0.9)",
          "bordercolor": "black",
          "borderwidth": 1,
          "font": {
           "color": "black",
           "size": 10
          },
          "showarrow": false,
          "text": "Practical",
          "x": -0.4769153988092651,
          "xref": "x",
          "y": 1.9,
          "yref": "y"
         },
         {
          "bgcolor": "rgba(255, 255, 255, 0.9)",
          "bordercolor": "black",
          "borderwidth": 1,
          "font": {
           "color": "black",
           "size": 10
          },
          "showarrow": false,
          "text": "Reverent",
          "x": -0.3640703395639715,
          "xref": "x",
          "y": 0.15,
          "yref": "y"
         },
         {
          "bgcolor": "rgba(255, 255, 255, 0.9)",
          "bordercolor": "black",
          "borderwidth": 1,
          "font": {
           "color": "black",
           "size": 10
          },
          "showarrow": false,
          "text": "Accessible",
          "x": -0.3560669948152112,
          "xref": "x",
          "y": 1.6,
          "yref": "y"
         },
         {
          "bgcolor": "rgba(255, 255, 255, 0.9)",
          "bordercolor": "black",
          "borderwidth": 1,
          "font": {
           "color": "black",
           "size": 10
          },
          "showarrow": false,
          "text": "Petty",
          "x": -0.35323816300260596,
          "xref": "x",
          "y": 0.45,
          "yref": "y"
         },
         {
          "bgcolor": "rgba(255, 255, 255, 0.9)",
          "bordercolor": "black",
          "borderwidth": 1,
          "font": {
           "color": "black",
           "size": 10
          },
          "showarrow": false,
          "text": "Temperamental",
          "x": -0.3505777434560664,
          "xref": "x",
          "y": 1.3,
          "yref": "y"
         },
         {
          "bgcolor": "rgba(255, 255, 255, 0.9)",
          "bordercolor": "black",
          "borderwidth": 1,
          "font": {
           "color": "black",
           "size": 10
          },
          "showarrow": false,
          "text": "Manic",
          "x": -0.3500900529523335,
          "xref": "x",
          "y": 0.75,
          "yref": "y"
         },
         {
          "bgcolor": "rgba(255, 255, 255, 0.9)",
          "bordercolor": "black",
          "borderwidth": 1,
          "font": {
           "color": "black",
           "size": 10
          },
          "showarrow": false,
          "text": "Anxious",
          "x": -0.34373271505167663,
          "xref": "x",
          "y": 1.75,
          "yref": "y"
         },
         {
          "bgcolor": "rgba(255, 255, 255, 0.9)",
          "bordercolor": "black",
          "borderwidth": 1,
          "font": {
           "color": "black",
           "size": 10
          },
          "showarrow": false,
          "text": "Accommodating",
          "x": -0.3310301053235621,
          "xref": "x",
          "y": 0.3,
          "yref": "y"
         },
         {
          "bgcolor": "rgba(255, 255, 255, 0.9)",
          "bordercolor": "black",
          "borderwidth": 1,
          "font": {
           "color": "black",
           "size": 10
          },
          "showarrow": false,
          "text": "Introverted",
          "x": 0.43835432436241245,
          "xref": "x",
          "y": 1.45,
          "yref": "y"
         },
         {
          "bgcolor": "rgba(255, 255, 255, 0.9)",
          "bordercolor": "black",
          "borderwidth": 1,
          "font": {
           "color": "black",
           "size": 10
          },
          "showarrow": false,
          "text": "Radical",
          "x": 0.45205608898745575,
          "xref": "x",
          "y": 0.6,
          "yref": "y"
         },
         {
          "bgcolor": "rgba(255, 255, 255, 0.9)",
          "bordercolor": "black",
          "borderwidth": 1,
          "font": {
           "color": "black",
           "size": 10
          },
          "showarrow": false,
          "text": "Progressive",
          "x": 0.46289767917466823,
          "xref": "x",
          "y": 1.9,
          "yref": "y"
         },
         {
          "bgcolor": "rgba(255, 255, 255, 0.9)",
          "bordercolor": "black",
          "borderwidth": 1,
          "font": {
           "color": "black",
           "size": 10
          },
          "showarrow": false,
          "text": "Contrarian",
          "x": 0.4757389164611777,
          "xref": "x",
          "y": 0.15,
          "yref": "y"
         },
         {
          "bgcolor": "rgba(255, 255, 255, 0.9)",
          "bordercolor": "black",
          "borderwidth": 1,
          "font": {
           "color": "black",
           "size": 10
          },
          "showarrow": false,
          "text": "Conceptual",
          "x": 0.4784053267623893,
          "xref": "x",
          "y": 1.6,
          "yref": "y"
         },
         {
          "bgcolor": "rgba(255, 255, 255, 0.9)",
          "bordercolor": "black",
          "borderwidth": 1,
          "font": {
           "color": "black",
           "size": 10
          },
          "showarrow": false,
          "text": "Theoretical",
          "x": 0.500845969296264,
          "xref": "x",
          "y": 0.45,
          "yref": "y"
         },
         {
          "bgcolor": "rgba(255, 255, 255, 0.9)",
          "bordercolor": "black",
          "borderwidth": 1,
          "font": {
           "color": "black",
           "size": 10
          },
          "showarrow": false,
          "text": "Abstract",
          "x": 0.5291383935286978,
          "xref": "x",
          "y": 1.3,
          "yref": "y"
         },
         {
          "bgcolor": "rgba(255, 255, 255, 0.9)",
          "bordercolor": "black",
          "borderwidth": 1,
          "font": {
           "color": "black",
           "size": 10
          },
          "showarrow": false,
          "text": "Iconoclastic",
          "x": 0.5522215804139935,
          "xref": "x",
          "y": 0.75,
          "yref": "y"
         },
         {
          "bgcolor": "rgba(255, 255, 255, 0.9)",
          "bordercolor": "black",
          "borderwidth": 1,
          "font": {
           "color": "black",
           "size": 10
          },
          "showarrow": false,
          "text": "Innovative",
          "x": 0.5820630610876834,
          "xref": "x",
          "y": 1.75,
          "yref": "y"
         },
         {
          "bgcolor": "rgba(255, 255, 255, 0.9)",
          "bordercolor": "black",
          "borderwidth": 1,
          "font": {
           "color": "black",
           "size": 10
          },
          "showarrow": false,
          "text": "Rebellious",
          "x": 0.6148001446837766,
          "xref": "x",
          "y": 0.3,
          "yref": "y"
         },
         {
          "bgcolor": "rgba(255, 255, 255, 0.9)",
          "bordercolor": "red",
          "borderwidth": 1,
          "font": {
           "color": "red",
           "size": 14
          },
          "showarrow": false,
          "text": "Assistant",
          "x": 0.08283165015393038,
          "xref": "x",
          "y": 2,
          "yref": "y"
         },
         {
          "bgcolor": "rgba(255, 255, 255, 0.9)",
          "bordercolor": "black",
          "borderwidth": 1,
          "font": {
           "color": "black",
           "size": 10
          },
          "showarrow": false,
          "text": "Traditional",
          "x": -31.151800049621645,
          "xref": "x2",
          "y": 1.45,
          "yref": "y2"
         },
         {
          "bgcolor": "rgba(255, 255, 255, 0.9)",
          "bordercolor": "black",
          "borderwidth": 1,
          "font": {
           "color": "black",
           "size": 10
          },
          "showarrow": false,
          "text": "Grounded",
          "x": -30.486466649074238,
          "xref": "x2",
          "y": 0.6,
          "yref": "y2"
         },
         {
          "bgcolor": "rgba(255, 255, 255, 0.9)",
          "bordercolor": "black",
          "borderwidth": 1,
          "font": {
           "color": "black",
           "size": 10
          },
          "showarrow": false,
          "text": "Practical",
          "x": -29.785178962362853,
          "xref": "x2",
          "y": 1.9,
          "yref": "y2"
         },
         {
          "bgcolor": "rgba(255, 255, 255, 0.9)",
          "bordercolor": "black",
          "borderwidth": 1,
          "font": {
           "color": "black",
           "size": 10
          },
          "showarrow": false,
          "text": "Temperamental",
          "x": -22.956850935540306,
          "xref": "x2",
          "y": 0.15,
          "yref": "y2"
         },
         {
          "bgcolor": "rgba(255, 255, 255, 0.9)",
          "bordercolor": "black",
          "borderwidth": 1,
          "font": {
           "color": "black",
           "size": 10
          },
          "showarrow": false,
          "text": "Manic",
          "x": -22.187140139800537,
          "xref": "x2",
          "y": 1.6,
          "yref": "y2"
         },
         {
          "bgcolor": "rgba(255, 255, 255, 0.9)",
          "bordercolor": "black",
          "borderwidth": 1,
          "font": {
           "color": "black",
           "size": 10
          },
          "showarrow": false,
          "text": "Effusive",
          "x": -22.04246217959698,
          "xref": "x2",
          "y": 0.45,
          "yref": "y2"
         },
         {
          "bgcolor": "rgba(255, 255, 255, 0.9)",
          "bordercolor": "black",
          "borderwidth": 1,
          "font": {
           "color": "black",
           "size": 10
          },
          "showarrow": false,
          "text": "Accessible",
          "x": -21.40425497079015,
          "xref": "x2",
          "y": 1.3,
          "yref": "y2"
         },
         {
          "bgcolor": "rgba(255, 255, 255, 0.9)",
          "bordercolor": "black",
          "borderwidth": 1,
          "font": {
           "color": "black",
           "size": 10
          },
          "showarrow": false,
          "text": "Petty",
          "x": -19.619291174502155,
          "xref": "x2",
          "y": 0.75,
          "yref": "y2"
         },
         {
          "bgcolor": "rgba(255, 255, 255, 0.9)",
          "bordercolor": "black",
          "borderwidth": 1,
          "font": {
           "color": "black",
           "size": 10
          },
          "showarrow": false,
          "text": "Naive",
          "x": -18.921705236107137,
          "xref": "x2",
          "y": 1.75,
          "yref": "y2"
         },
         {
          "bgcolor": "rgba(255, 255, 255, 0.9)",
          "bordercolor": "black",
          "borderwidth": 1,
          "font": {
           "color": "black",
           "size": 10
          },
          "showarrow": false,
          "text": "Anxious",
          "x": -18.455373522233284,
          "xref": "x2",
          "y": 0.3,
          "yref": "y2"
         },
         {
          "bgcolor": "rgba(255, 255, 255, 0.9)",
          "bordercolor": "black",
          "borderwidth": 1,
          "font": {
           "color": "black",
           "size": 10
          },
          "showarrow": false,
          "text": "Critical",
          "x": 21.95050126277659,
          "xref": "x2",
          "y": 1.45,
          "yref": "y2"
         },
         {
          "bgcolor": "rgba(255, 255, 255, 0.9)",
          "bordercolor": "black",
          "borderwidth": 1,
          "font": {
           "color": "black",
           "size": 10
          },
          "showarrow": false,
          "text": "Theoretical",
          "x": 22.522579577321075,
          "xref": "x2",
          "y": 0.6,
          "yref": "y2"
         },
         {
          "bgcolor": "rgba(255, 255, 255, 0.9)",
          "bordercolor": "black",
          "borderwidth": 1,
          "font": {
           "color": "black",
           "size": 10
          },
          "showarrow": false,
          "text": "Provocative",
          "x": 22.908922238114496,
          "xref": "x2",
          "y": 1.9,
          "yref": "y2"
         },
         {
          "bgcolor": "rgba(255, 255, 255, 0.9)",
          "bordercolor": "black",
          "borderwidth": 1,
          "font": {
           "color": "black",
           "size": 10
          },
          "showarrow": false,
          "text": "Contrarian",
          "x": 23.979646763006848,
          "xref": "x2",
          "y": 0.15,
          "yref": "y2"
         },
         {
          "bgcolor": "rgba(255, 255, 255, 0.9)",
          "bordercolor": "black",
          "borderwidth": 1,
          "font": {
           "color": "black",
           "size": 10
          },
          "showarrow": false,
          "text": "Iconoclastic",
          "x": 24.02581391490426,
          "xref": "x2",
          "y": 1.6,
          "yref": "y2"
         },
         {
          "bgcolor": "rgba(255, 255, 255, 0.9)",
          "bordercolor": "black",
          "borderwidth": 1,
          "font": {
           "color": "black",
           "size": 10
          },
          "showarrow": false,
          "text": "Conceptual",
          "x": 24.511239537666363,
          "xref": "x2",
          "y": 0.45,
          "yref": "y2"
         },
         {
          "bgcolor": "rgba(255, 255, 255, 0.9)",
          "bordercolor": "black",
          "borderwidth": 1,
          "font": {
           "color": "black",
           "size": 10
          },
          "showarrow": false,
          "text": "Innovative",
          "x": 25.324044117944933,
          "xref": "x2",
          "y": 1.3,
          "yref": "y2"
         },
         {
          "bgcolor": "rgba(255, 255, 255, 0.9)",
          "bordercolor": "black",
          "borderwidth": 1,
          "font": {
           "color": "black",
           "size": 10
          },
          "showarrow": false,
          "text": "Abstract",
          "x": 26.13877339719637,
          "xref": "x2",
          "y": 0.75,
          "yref": "y2"
         },
         {
          "bgcolor": "rgba(255, 255, 255, 0.9)",
          "bordercolor": "black",
          "borderwidth": 1,
          "font": {
           "color": "black",
           "size": 10
          },
          "showarrow": false,
          "text": "Esoteric",
          "x": 27.551325960424762,
          "xref": "x2",
          "y": 1.75,
          "yref": "y2"
         },
         {
          "bgcolor": "rgba(255, 255, 255, 0.9)",
          "bordercolor": "black",
          "borderwidth": 1,
          "font": {
           "color": "black",
           "size": 10
          },
          "showarrow": false,
          "text": "Rebellious",
          "x": 30.89372599198088,
          "xref": "x2",
          "y": 0.3,
          "yref": "y2"
         },
         {
          "bgcolor": "rgba(255, 255, 255, 0.9)",
          "bordercolor": "red",
          "borderwidth": 1,
          "font": {
           "color": "red",
           "size": 14
          },
          "showarrow": false,
          "text": "Assistant",
          "x": 4.796031653155734,
          "xref": "x2",
          "y": 2,
          "yref": "y2"
         }
        ],
        "height": 800,
        "shapes": [
         {
          "line": {
           "color": "gray",
           "dash": "solid",
           "width": 1
          },
          "opacity": 0.7,
          "type": "line",
          "x0": 0,
          "x1": 0,
          "xref": "x",
          "y0": 0,
          "y1": 1,
          "yref": "y domain"
         },
         {
          "line": {
           "color": "red",
           "dash": "dash",
           "width": 1
          },
          "opacity": 1,
          "type": "line",
          "x0": 0.08283165015393038,
          "x1": 0.08283165015393038,
          "xref": "x",
          "y0": 0,
          "y1": 1,
          "yref": "y domain"
         },
         {
          "line": {
           "color": "gray",
           "dash": "solid",
           "width": 1
          },
          "opacity": 0.7,
          "type": "line",
          "x0": 0,
          "x1": 0,
          "xref": "x2",
          "y0": 0,
          "y1": 1,
          "yref": "y2 domain"
         },
         {
          "line": {
           "color": "red",
           "dash": "dash",
           "width": 1
          },
          "opacity": 1,
          "type": "line",
          "x0": 4.796031653155734,
          "x1": 4.796031653155734,
          "xref": "x2",
          "y0": 0,
          "y1": 1,
          "yref": "y2 domain"
         }
        ],
        "showlegend": false,
        "template": {
         "data": {
          "bar": [
           {
            "error_x": {
             "color": "#2a3f5f"
            },
            "error_y": {
             "color": "#2a3f5f"
            },
            "marker": {
             "line": {
              "color": "#E5ECF6",
              "width": 0.5
             },
             "pattern": {
              "fillmode": "overlay",
              "size": 10,
              "solidity": 0.2
             }
            },
            "type": "bar"
           }
          ],
          "barpolar": [
           {
            "marker": {
             "line": {
              "color": "#E5ECF6",
              "width": 0.5
             },
             "pattern": {
              "fillmode": "overlay",
              "size": 10,
              "solidity": 0.2
             }
            },
            "type": "barpolar"
           }
          ],
          "carpet": [
           {
            "aaxis": {
             "endlinecolor": "#2a3f5f",
             "gridcolor": "white",
             "linecolor": "white",
             "minorgridcolor": "white",
             "startlinecolor": "#2a3f5f"
            },
            "baxis": {
             "endlinecolor": "#2a3f5f",
             "gridcolor": "white",
             "linecolor": "white",
             "minorgridcolor": "white",
             "startlinecolor": "#2a3f5f"
            },
            "type": "carpet"
           }
          ],
          "choropleth": [
           {
            "colorbar": {
             "outlinewidth": 0,
             "ticks": ""
            },
            "type": "choropleth"
           }
          ],
          "contour": [
           {
            "colorbar": {
             "outlinewidth": 0,
             "ticks": ""
            },
            "colorscale": [
             [
              0,
              "#0d0887"
             ],
             [
              0.1111111111111111,
              "#46039f"
             ],
             [
              0.2222222222222222,
              "#7201a8"
             ],
             [
              0.3333333333333333,
              "#9c179e"
             ],
             [
              0.4444444444444444,
              "#bd3786"
             ],
             [
              0.5555555555555556,
              "#d8576b"
             ],
             [
              0.6666666666666666,
              "#ed7953"
             ],
             [
              0.7777777777777778,
              "#fb9f3a"
             ],
             [
              0.8888888888888888,
              "#fdca26"
             ],
             [
              1,
              "#f0f921"
             ]
            ],
            "type": "contour"
           }
          ],
          "contourcarpet": [
           {
            "colorbar": {
             "outlinewidth": 0,
             "ticks": ""
            },
            "type": "contourcarpet"
           }
          ],
          "heatmap": [
           {
            "colorbar": {
             "outlinewidth": 0,
             "ticks": ""
            },
            "colorscale": [
             [
              0,
              "#0d0887"
             ],
             [
              0.1111111111111111,
              "#46039f"
             ],
             [
              0.2222222222222222,
              "#7201a8"
             ],
             [
              0.3333333333333333,
              "#9c179e"
             ],
             [
              0.4444444444444444,
              "#bd3786"
             ],
             [
              0.5555555555555556,
              "#d8576b"
             ],
             [
              0.6666666666666666,
              "#ed7953"
             ],
             [
              0.7777777777777778,
              "#fb9f3a"
             ],
             [
              0.8888888888888888,
              "#fdca26"
             ],
             [
              1,
              "#f0f921"
             ]
            ],
            "type": "heatmap"
           }
          ],
          "heatmapgl": [
           {
            "colorbar": {
             "outlinewidth": 0,
             "ticks": ""
            },
            "colorscale": [
             [
              0,
              "#0d0887"
             ],
             [
              0.1111111111111111,
              "#46039f"
             ],
             [
              0.2222222222222222,
              "#7201a8"
             ],
             [
              0.3333333333333333,
              "#9c179e"
             ],
             [
              0.4444444444444444,
              "#bd3786"
             ],
             [
              0.5555555555555556,
              "#d8576b"
             ],
             [
              0.6666666666666666,
              "#ed7953"
             ],
             [
              0.7777777777777778,
              "#fb9f3a"
             ],
             [
              0.8888888888888888,
              "#fdca26"
             ],
             [
              1,
              "#f0f921"
             ]
            ],
            "type": "heatmapgl"
           }
          ],
          "histogram": [
           {
            "marker": {
             "pattern": {
              "fillmode": "overlay",
              "size": 10,
              "solidity": 0.2
             }
            },
            "type": "histogram"
           }
          ],
          "histogram2d": [
           {
            "colorbar": {
             "outlinewidth": 0,
             "ticks": ""
            },
            "colorscale": [
             [
              0,
              "#0d0887"
             ],
             [
              0.1111111111111111,
              "#46039f"
             ],
             [
              0.2222222222222222,
              "#7201a8"
             ],
             [
              0.3333333333333333,
              "#9c179e"
             ],
             [
              0.4444444444444444,
              "#bd3786"
             ],
             [
              0.5555555555555556,
              "#d8576b"
             ],
             [
              0.6666666666666666,
              "#ed7953"
             ],
             [
              0.7777777777777778,
              "#fb9f3a"
             ],
             [
              0.8888888888888888,
              "#fdca26"
             ],
             [
              1,
              "#f0f921"
             ]
            ],
            "type": "histogram2d"
           }
          ],
          "histogram2dcontour": [
           {
            "colorbar": {
             "outlinewidth": 0,
             "ticks": ""
            },
            "colorscale": [
             [
              0,
              "#0d0887"
             ],
             [
              0.1111111111111111,
              "#46039f"
             ],
             [
              0.2222222222222222,
              "#7201a8"
             ],
             [
              0.3333333333333333,
              "#9c179e"
             ],
             [
              0.4444444444444444,
              "#bd3786"
             ],
             [
              0.5555555555555556,
              "#d8576b"
             ],
             [
              0.6666666666666666,
              "#ed7953"
             ],
             [
              0.7777777777777778,
              "#fb9f3a"
             ],
             [
              0.8888888888888888,
              "#fdca26"
             ],
             [
              1,
              "#f0f921"
             ]
            ],
            "type": "histogram2dcontour"
           }
          ],
          "mesh3d": [
           {
            "colorbar": {
             "outlinewidth": 0,
             "ticks": ""
            },
            "type": "mesh3d"
           }
          ],
          "parcoords": [
           {
            "line": {
             "colorbar": {
              "outlinewidth": 0,
              "ticks": ""
             }
            },
            "type": "parcoords"
           }
          ],
          "pie": [
           {
            "automargin": true,
            "type": "pie"
           }
          ],
          "scatter": [
           {
            "fillpattern": {
             "fillmode": "overlay",
             "size": 10,
             "solidity": 0.2
            },
            "type": "scatter"
           }
          ],
          "scatter3d": [
           {
            "line": {
             "colorbar": {
              "outlinewidth": 0,
              "ticks": ""
             }
            },
            "marker": {
             "colorbar": {
              "outlinewidth": 0,
              "ticks": ""
             }
            },
            "type": "scatter3d"
           }
          ],
          "scattercarpet": [
           {
            "marker": {
             "colorbar": {
              "outlinewidth": 0,
              "ticks": ""
             }
            },
            "type": "scattercarpet"
           }
          ],
          "scattergeo": [
           {
            "marker": {
             "colorbar": {
              "outlinewidth": 0,
              "ticks": ""
             }
            },
            "type": "scattergeo"
           }
          ],
          "scattergl": [
           {
            "marker": {
             "colorbar": {
              "outlinewidth": 0,
              "ticks": ""
             }
            },
            "type": "scattergl"
           }
          ],
          "scattermapbox": [
           {
            "marker": {
             "colorbar": {
              "outlinewidth": 0,
              "ticks": ""
             }
            },
            "type": "scattermapbox"
           }
          ],
          "scatterpolar": [
           {
            "marker": {
             "colorbar": {
              "outlinewidth": 0,
              "ticks": ""
             }
            },
            "type": "scatterpolar"
           }
          ],
          "scatterpolargl": [
           {
            "marker": {
             "colorbar": {
              "outlinewidth": 0,
              "ticks": ""
             }
            },
            "type": "scatterpolargl"
           }
          ],
          "scatterternary": [
           {
            "marker": {
             "colorbar": {
              "outlinewidth": 0,
              "ticks": ""
             }
            },
            "type": "scatterternary"
           }
          ],
          "surface": [
           {
            "colorbar": {
             "outlinewidth": 0,
             "ticks": ""
            },
            "colorscale": [
             [
              0,
              "#0d0887"
             ],
             [
              0.1111111111111111,
              "#46039f"
             ],
             [
              0.2222222222222222,
              "#7201a8"
             ],
             [
              0.3333333333333333,
              "#9c179e"
             ],
             [
              0.4444444444444444,
              "#bd3786"
             ],
             [
              0.5555555555555556,
              "#d8576b"
             ],
             [
              0.6666666666666666,
              "#ed7953"
             ],
             [
              0.7777777777777778,
              "#fb9f3a"
             ],
             [
              0.8888888888888888,
              "#fdca26"
             ],
             [
              1,
              "#f0f921"
             ]
            ],
            "type": "surface"
           }
          ],
          "table": [
           {
            "cells": {
             "fill": {
              "color": "#EBF0F8"
             },
             "line": {
              "color": "white"
             }
            },
            "header": {
             "fill": {
              "color": "#C8D4E3"
             },
             "line": {
              "color": "white"
             }
            },
            "type": "table"
           }
          ]
         },
         "layout": {
          "annotationdefaults": {
           "arrowcolor": "#2a3f5f",
           "arrowhead": 0,
           "arrowwidth": 1
          },
          "autotypenumbers": "strict",
          "coloraxis": {
           "colorbar": {
            "outlinewidth": 0,
            "ticks": ""
           }
          },
          "colorscale": {
           "diverging": [
            [
             0,
             "#8e0152"
            ],
            [
             0.1,
             "#c51b7d"
            ],
            [
             0.2,
             "#de77ae"
            ],
            [
             0.3,
             "#f1b6da"
            ],
            [
             0.4,
             "#fde0ef"
            ],
            [
             0.5,
             "#f7f7f7"
            ],
            [
             0.6,
             "#e6f5d0"
            ],
            [
             0.7,
             "#b8e186"
            ],
            [
             0.8,
             "#7fbc41"
            ],
            [
             0.9,
             "#4d9221"
            ],
            [
             1,
             "#276419"
            ]
           ],
           "sequential": [
            [
             0,
             "#0d0887"
            ],
            [
             0.1111111111111111,
             "#46039f"
            ],
            [
             0.2222222222222222,
             "#7201a8"
            ],
            [
             0.3333333333333333,
             "#9c179e"
            ],
            [
             0.4444444444444444,
             "#bd3786"
            ],
            [
             0.5555555555555556,
             "#d8576b"
            ],
            [
             0.6666666666666666,
             "#ed7953"
            ],
            [
             0.7777777777777778,
             "#fb9f3a"
            ],
            [
             0.8888888888888888,
             "#fdca26"
            ],
            [
             1,
             "#f0f921"
            ]
           ],
           "sequentialminus": [
            [
             0,
             "#0d0887"
            ],
            [
             0.1111111111111111,
             "#46039f"
            ],
            [
             0.2222222222222222,
             "#7201a8"
            ],
            [
             0.3333333333333333,
             "#9c179e"
            ],
            [
             0.4444444444444444,
             "#bd3786"
            ],
            [
             0.5555555555555556,
             "#d8576b"
            ],
            [
             0.6666666666666666,
             "#ed7953"
            ],
            [
             0.7777777777777778,
             "#fb9f3a"
            ],
            [
             0.8888888888888888,
             "#fdca26"
            ],
            [
             1,
             "#f0f921"
            ]
           ]
          },
          "colorway": [
           "#636efa",
           "#EF553B",
           "#00cc96",
           "#ab63fa",
           "#FFA15A",
           "#19d3f3",
           "#FF6692",
           "#B6E880",
           "#FF97FF",
           "#FECB52"
          ],
          "font": {
           "color": "#2a3f5f"
          },
          "geo": {
           "bgcolor": "white",
           "lakecolor": "white",
           "landcolor": "#E5ECF6",
           "showlakes": true,
           "showland": true,
           "subunitcolor": "white"
          },
          "hoverlabel": {
           "align": "left"
          },
          "hovermode": "closest",
          "mapbox": {
           "style": "light"
          },
          "paper_bgcolor": "white",
          "plot_bgcolor": "#E5ECF6",
          "polar": {
           "angularaxis": {
            "gridcolor": "white",
            "linecolor": "white",
            "ticks": ""
           },
           "bgcolor": "#E5ECF6",
           "radialaxis": {
            "gridcolor": "white",
            "linecolor": "white",
            "ticks": ""
           }
          },
          "scene": {
           "xaxis": {
            "backgroundcolor": "#E5ECF6",
            "gridcolor": "white",
            "gridwidth": 2,
            "linecolor": "white",
            "showbackground": true,
            "ticks": "",
            "zerolinecolor": "white"
           },
           "yaxis": {
            "backgroundcolor": "#E5ECF6",
            "gridcolor": "white",
            "gridwidth": 2,
            "linecolor": "white",
            "showbackground": true,
            "ticks": "",
            "zerolinecolor": "white"
           },
           "zaxis": {
            "backgroundcolor": "#E5ECF6",
            "gridcolor": "white",
            "gridwidth": 2,
            "linecolor": "white",
            "showbackground": true,
            "ticks": "",
            "zerolinecolor": "white"
           }
          },
          "shapedefaults": {
           "line": {
            "color": "#2a3f5f"
           }
          },
          "ternary": {
           "aaxis": {
            "gridcolor": "white",
            "linecolor": "white",
            "ticks": ""
           },
           "baxis": {
            "gridcolor": "white",
            "linecolor": "white",
            "ticks": ""
           },
           "bgcolor": "#E5ECF6",
           "caxis": {
            "gridcolor": "white",
            "linecolor": "white",
            "ticks": ""
           }
          },
          "title": {
           "x": 0.05
          },
          "xaxis": {
           "automargin": true,
           "gridcolor": "white",
           "linecolor": "white",
           "ticks": "",
           "title": {
            "standoff": 15
           },
           "zerolinecolor": "white",
           "zerolinewidth": 2
          },
          "yaxis": {
           "automargin": true,
           "gridcolor": "white",
           "linecolor": "white",
           "ticks": "",
           "title": {
            "standoff": 15
           },
           "zerolinecolor": "white",
           "zerolinewidth": 2
          }
         }
        },
        "title": {
         "font": {
          "size": 16
         },
         "subtitle": {
          "text": "Gemma 3 27B, Layer 32 - Shared Question Set, Mean-Centered and Scaled Vectors"
         },
         "text": "PCA on Trait Vectors",
         "x": 0.5
        },
        "width": 1200,
        "xaxis": {
         "anchor": "y",
         "domain": [
          0,
          1
         ],
         "range": [
          -0.6762801591521543,
          0.6762801591521543
         ]
        },
        "xaxis2": {
         "anchor": "y2",
         "domain": [
          0,
          1
         ],
         "range": [
          -34.26698005458381,
          34.26698005458381
         ]
        },
        "yaxis": {
         "anchor": "x",
         "domain": [
          0.55,
          1
         ],
         "range": [
          0,
          2.5
         ],
         "showticklabels": false
        },
        "yaxis2": {
         "anchor": "x2",
         "domain": [
          0,
          0.45
         ],
         "range": [
          0,
          2.5
         ],
         "showticklabels": false
        }
       }
      },
      "text/html": [
       "<div>                            <div id=\"d1037020-6afe-469d-a96b-bc60aabac178\" class=\"plotly-graph-div\" style=\"height:800px; width:1200px;\"></div>            <script type=\"text/javascript\">                require([\"plotly\"], function(Plotly) {                    window.PLOTLYENV=window.PLOTLYENV || {};                                    if (document.getElementById(\"d1037020-6afe-469d-a96b-bc60aabac178\")) {                    Plotly.newPlot(                        \"d1037020-6afe-469d-a96b-bc60aabac178\",                        [{\"hovertemplate\":\"\\u003cb\\u003e%{text}\\u003c\\u002fb\\u003e\\u003cbr\\u003eCosine Similarity: %{x:.3f}\\u003cextra\\u003e\\u003c\\u002fextra\\u003e\",\"marker\":{\"color\":\"limegreen\",\"line\":{\"color\":\"black\",\"width\":1},\"opacity\":1.0,\"size\":8,\"symbol\":\"diamond\"},\"mode\":\"markers\",\"showlegend\":false,\"text\":[\"Zealous\",\"Wry\",\"Witty\",\"Whimsical\",\"Visceral\",\"Vindictive\",\"Verbose\",\"Utilitarian\",\"Urgent\",\"Universalist\",\"Understated\",\"Transparent\",\"Theatrical\",\"Technical\",\"Tactful\",\"Systems thinker\",\"Sycophantic\",\"Supportive\",\"Subversive\",\"Submissive\",\"Structuralist\",\"Stream of consciousness\",\"Strategic\",\"Stoic\",\"Spontaneous\",\"Spiritual\",\"Speculative\",\"Specialized\",\"Solemn\",\"Socratic\",\"Skeptical\",\"Serious\",\"Serene\",\"Secular\",\"Savage\",\"Sassy\",\"Sardonic\",\"Sarcastic\",\"Romantic\",\"Ritualistic\",\"Risk taking\",\"Rhetorical\",\"Resilient\",\"Reserved\",\"Relativist\",\"Regulatory\",\"Reductionist\",\"Reactive\",\"Rationalist\",\"Quantitative\",\"Qualitative\",\"Provocative\",\"Problem solving\",\"Proactive\",\"Principled\",\"Prescriptive\",\"Poetic\",\"Pluralist\",\"Playful\",\"Philosophical\",\"Pessimistic\",\"Perfectionist\",\"Pensive\",\"Pedantic\",\"Patient\",\"Passive aggressive\",\"Passionate\",\"Paranoid\",\"Paradoxical\",\"Pacifist\",\"Optimistic\",\"Open ended\",\"Obsessive\",\"Nurturing\",\"Nostalgic\",\"Nonchalant\",\"Nihilistic\",\"Neurotic\",\"Narrative\",\"Naive\",\"Mystical\",\"Moderate\",\"Mischievous\",\"Misanthropic\",\"Militant\",\"Meticulous\",\"Methodical\",\"Metaphorical\",\"Mercurial\",\"Melodramatic\",\"Melancholic\",\"Meditative\",\"Materialist\",\"Manipulative\",\"Literal\",\"Libertarian\",\"Judgmental\",\"Irreverent\",\"Ironic\",\"Intuitive\",\"Introspective\",\"Interdisciplinary\",\"Inspirational\",\"Inquisitive\",\"Individualistic\",\"Independent\",\"Inclusive\",\"Impulsive\",\"Improvisational\",\"Impatient\",\"Idealistic\",\"Humble\",\"Humanistic\",\"Hostile\",\"Holistic\",\"Historical\",\"Hedonistic\",\"Gregarious\",\"Grandiose\",\"Goofy\",\"Generous\",\"Generalist\",\"Futuristic\",\"Fundamentalist\",\"Formalist\",\"Formal\",\"Forgiving\",\"Flirty\",\"Flippant\",\"Flexible\",\"Fatalistic\",\"Factual\",\"Extroverted\",\"Exploratory\",\"Experiential\",\"Existentialist\",\"Evil\",\"Ethereal\",\"Essentialist\",\"Esoteric\",\"Erudite\",\"Epicurean\",\"Environmental\",\"Entertaining\",\"Enigmatic\",\"Empathetic\",\"Emotional\",\"Eloquent\",\"Elitist\",\"Egalitarian\",\"Effusive\",\"Efficient\",\"Educational\",\"Edgy\",\"Eclectic\",\"Earnest\",\"Dramatic\",\"Dominant\",\"Dogmatic\",\"Divergent\",\"Dispassionate\",\"Disorganized\",\"Diplomatic\",\"Deterministic\",\"Detached\",\"Descriptive\",\"Deontological\",\"Deferential\",\"Deconstructionist\",\"Decisive\",\"Data driven\",\"Cynical\",\"Curious\",\"Cryptic\",\"Cruel\",\"Critical\",\"Creative\",\"Cosmopolitan\",\"Convergent\",\"Contemporary\",\"Constructivist\",\"Conscientious\",\"Confrontational\",\"Confident\",\"Condescending\",\"Concise\",\"Conciliatory\",\"Competitive\",\"Collectivistic\",\"Collaborative\",\"Closure seeking\",\"Circumspect\",\"Chill\",\"Charismatic\",\"Chaotic\",\"Challenging\",\"Cautious\",\"Casual\",\"Calm\",\"Callous\",\"Calculating\",\"Bombastic\",\"Blunt\",\"Bitter\",\"Big picture\",\"Benevolent\",\"Avoidant\",\"Assertive\",\"Ascetic\",\"Artistic\",\"Arrogant\",\"Anthropocentric\",\"Animated\",\"Analytical\",\"Altruistic\",\"Agreeable\",\"Adventurous\",\"Adaptable\",\"Acerbic\",\"Absolutist\"],\"x\":[-0.16439377402359506,0.06740948191367709,-0.07099981235762755,-0.01267183332134766,-0.009373928944990274,-0.15640401147674068,0.0022376526252456765,-0.06415018343678375,-0.14564440558572933,-0.13385726920432342,-0.02998582045823993,-0.06698177907928285,-0.10869285424963156,0.15737072031949612,-0.23547367111334644,0.29768465284006734,-0.06443252142314151,-0.09695808110481348,0.3808636310317785,-0.07977000894371493,0.22476722360051946,-0.04503588030496794,0.08190794344519255,0.14236777515961285,0.17827099405939376,0.2447114356648111,0.17247694085809348,0.21168748487985142,0.10457192544947759,0.09406228555400628,0.08405016988628845,0.10343026164556172,0.20659175351726797,-0.11946433292901898,0.07256716843552882,-0.002756150319393204,0.02785300740633112,0.040955499874558876,0.008794114781478955,-0.2584612859811296,0.42572057726172685,-0.04384188018103031,0.07446397974521758,0.031227887098339083,0.1380781743162088,-0.328264899307286,-0.2988320620150713,-0.02929067022716753,-0.13766028854412252,-0.15496002887840674,0.23245567250090893,0.31868374769755964,-0.010590387066892509,-0.056244411165558755,-0.06372501724636248,-0.2503886850744573,-0.017719855326922686,0.06819036636529383,-0.19528035813910594,0.22488554867331256,0.0426560077498139,-0.027226330140536673,0.07251769274982808,0.0030550994127634037,-0.03602950641015822,-0.09403017009421291,-0.13796445133853238,0.04293723285040977,0.22573886519494776,0.0705218382789997,-0.1538773916011602,0.15613776048990535,-0.21739355536197383,-0.10387019738082928,-0.2791903621237758,0.0137240682927353,0.08520944215425204,-0.29252591490343477,-0.17078542932616958,-0.16140265359813058,0.2043277174521343,-0.1374345210613766,-0.1287104323989033,0.0022242971814670103,0.027090188371955596,-0.037398881715137,-0.04089501515908986,0.023776006591868275,-0.18876424374828124,-0.1621797919387976,0.09188662876706545,0.10747245706865212,-0.27654723966059036,-0.25683594430770085,-0.0696236135506972,-0.035834084856629,-0.03003737587077934,-0.011205829361292573,-0.21013551370351244,0.3088469023020343,-0.011080036060016042,0.31417445492519974,0.042695050033608746,-0.12152171223281216,0.28902871227341664,0.23551664711515932,0.1810599863079798,0.005361578013986728,0.08321847264798117,-0.021060415607365764,0.09328855458791316,-0.07810167017644212,0.05064961680939165,0.03201702158451751,0.22115495741982533,0.059270579413219414,-0.10781258960231466,-0.2268669031715946,0.14458176447419813,-0.2662163768002796,0.13085256859095382,0.30340066734534965,0.4114448253902712,-0.12269531930299572,-0.20489355429766082,0.0853007843296072,0.03638656182391671,-0.12173663511878546,-0.015760693900664282,0.019893582565154284,0.0318493614122571,-0.014406054693629256,-0.27820347048491595,0.0044179569266236335,-0.29611576472731876,0.3461585140463569,-0.14615997699443703,0.14320737312594548,-0.1887464896620933,0.4361683970036297,0.1649137050075692,-0.044905092920976726,0.25478449855704066,-0.1559346327885588,0.10881640409549227,-0.10471398519566084,-0.1111759135692787,-0.007181289293532164,-0.11099441778537437,0.14448244651849285,-0.23895097905036106,-0.021139410318165987,0.02348824315391516,0.2099803293318505,0.24597402676275676,-0.00740626943710469,-0.07800331460936795,-0.11022862092820278,-0.12371359965224217,-0.03688718673592434,0.08216951706141329,-0.18594998935648577,-0.10226847746102068,-0.05276736384788158,0.06501114284560516,-0.05253131319491406,-0.06599317693572535,-0.3017875093246888,0.201456269587717,0.059295331089812796,-0.09616867837751104,0.058689188086204214,-0.023785182672693292,0.24894360636133064,0.024413019156188594,0.31687762501940614,0.14500879054790447,0.2414784165951782,-0.14649586243060755,0.01989740263363347,0.25542735312340675,-0.0026223081488504145,0.2230588036695039,0.01743625304780167,-0.09526388171950766,-0.0026633584939001736,-0.16103225317471112,-0.04926072831406619,-0.10247599407464444,-0.06260173352714958,-0.04726864098773931,-0.030300088416577695,-0.022875026484625235,-0.04364795186585953,0.27356706267586817,0.1593069798955077,-0.04975193314897374,-0.22445730009707768,0.0951808588389335,0.0489373040026907,-0.058358327884593955,-0.12371930290016833,0.11793115120214817,-0.0029499074184008173,0.3847044219745931,-0.011212374088934652,-0.17423484826017477,0.03577280701198084,0.21473041046812955,0.04923695172566658,-0.024191483542712347,-0.2805724204295181,-0.14036835533700914,-0.04834103691678692,0.03585093020655224,-0.14339429269526924,0.3969329641892495,-0.0808303398866718,0.06706780142613233,-0.1555414790954188],\"y\":[1,1,1,1,1,1,1,1,1,1,1,1,1,1,1,1,1,1,1,1,1,1,1,1,1,1,1,1,1,1,1,1,1,1,1,1,1,1,1,1,1,1,1,1,1,1,1,1,1,1,1,1,1,1,1,1,1,1,1,1,1,1,1,1,1,1,1,1,1,1,1,1,1,1,1,1,1,1,1,1,1,1,1,1,1,1,1,1,1,1,1,1,1,1,1,1,1,1,1,1,1,1,1,1,1,1,1,1,1,1,1,1,1,1,1,1,1,1,1,1,1,1,1,1,1,1,1,1,1,1,1,1,1,1,1,1,1,1,1,1,1,1,1,1,1,1,1,1,1,1,1,1,1,1,1,1,1,1,1,1,1,1,1,1,1,1,1,1,1,1,1,1,1,1,1,1,1,1,1,1,1,1,1,1,1,1,1,1,1,1,1,1,1,1,1,1,1,1,1,1,1,1,1,1,1,1,1,1,1,1,1,1,1,1,1,1,1,1,1,1],\"type\":\"scatter\",\"xaxis\":\"x\",\"yaxis\":\"y\"},{\"hovertemplate\":\"\\u003cb\\u003e%{text}\\u003c\\u002fb\\u003e\\u003cbr\\u003eCosine Similarity: %{x:.3f}\\u003cextra\\u003e\\u003c\\u002fextra\\u003e\",\"marker\":{\"color\":\"limegreen\",\"line\":{\"color\":\"black\",\"width\":1},\"opacity\":1.0,\"size\":8,\"symbol\":\"diamond\"},\"mode\":\"markers\",\"showlegend\":false,\"text\":[\"Traditional\",\"Theoretical\",\"Temperamental\",\"Reverent\",\"Rebellious\",\"Radical\",\"Progressive\",\"Practical\",\"Petty\",\"Manic\",\"Introverted\",\"Innovative\",\"Iconoclastic\",\"Grounded\",\"Contrarian\",\"Conceptual\",\"Anxious\",\"Accommodating\",\"Accessible\",\"Abstract\"],\"x\":[-0.487177771012831,0.500845969296264,-0.3505777434560664,-0.3640703395639715,0.6148001446837766,0.45205608898745575,0.46289767917466823,-0.4769153988092651,-0.35323816300260596,-0.3500900529523335,0.43835432436241245,0.5820630610876834,0.5522215804139935,-0.5495113999576542,0.4757389164611777,0.4784053267623893,-0.34373271505167663,-0.3310301053235621,-0.3560669948152112,0.5291383935286978],\"y\":[1,1,1,1,1,1,1,1,1,1,1,1,1,1,1,1,1,1,1,1],\"type\":\"scatter\",\"xaxis\":\"x\",\"yaxis\":\"y\"},{\"hoverinfo\":\"skip\",\"line\":{\"color\":\"black\",\"width\":1},\"mode\":\"lines\",\"showlegend\":false,\"x\":[-0.5495113999576542,-0.5495113999576542],\"y\":[1.0,1.45],\"type\":\"scatter\",\"xaxis\":\"x\",\"yaxis\":\"y\"},{\"hoverinfo\":\"skip\",\"line\":{\"color\":\"black\",\"width\":1},\"mode\":\"lines\",\"showlegend\":false,\"x\":[-0.487177771012831,-0.487177771012831],\"y\":[1.0,0.6],\"type\":\"scatter\",\"xaxis\":\"x\",\"yaxis\":\"y\"},{\"hoverinfo\":\"skip\",\"line\":{\"color\":\"black\",\"width\":1},\"mode\":\"lines\",\"showlegend\":false,\"x\":[-0.4769153988092651,-0.4769153988092651],\"y\":[1.0,1.9],\"type\":\"scatter\",\"xaxis\":\"x\",\"yaxis\":\"y\"},{\"hoverinfo\":\"skip\",\"line\":{\"color\":\"black\",\"width\":1},\"mode\":\"lines\",\"showlegend\":false,\"x\":[-0.3640703395639715,-0.3640703395639715],\"y\":[1.0,0.15],\"type\":\"scatter\",\"xaxis\":\"x\",\"yaxis\":\"y\"},{\"hoverinfo\":\"skip\",\"line\":{\"color\":\"black\",\"width\":1},\"mode\":\"lines\",\"showlegend\":false,\"x\":[-0.3560669948152112,-0.3560669948152112],\"y\":[1.0,1.6],\"type\":\"scatter\",\"xaxis\":\"x\",\"yaxis\":\"y\"},{\"hoverinfo\":\"skip\",\"line\":{\"color\":\"black\",\"width\":1},\"mode\":\"lines\",\"showlegend\":false,\"x\":[-0.35323816300260596,-0.35323816300260596],\"y\":[1.0,0.45],\"type\":\"scatter\",\"xaxis\":\"x\",\"yaxis\":\"y\"},{\"hoverinfo\":\"skip\",\"line\":{\"color\":\"black\",\"width\":1},\"mode\":\"lines\",\"showlegend\":false,\"x\":[-0.3505777434560664,-0.3505777434560664],\"y\":[1.0,1.3],\"type\":\"scatter\",\"xaxis\":\"x\",\"yaxis\":\"y\"},{\"hoverinfo\":\"skip\",\"line\":{\"color\":\"black\",\"width\":1},\"mode\":\"lines\",\"showlegend\":false,\"x\":[-0.3500900529523335,-0.3500900529523335],\"y\":[1.0,0.75],\"type\":\"scatter\",\"xaxis\":\"x\",\"yaxis\":\"y\"},{\"hoverinfo\":\"skip\",\"line\":{\"color\":\"black\",\"width\":1},\"mode\":\"lines\",\"showlegend\":false,\"x\":[-0.34373271505167663,-0.34373271505167663],\"y\":[1.0,1.75],\"type\":\"scatter\",\"xaxis\":\"x\",\"yaxis\":\"y\"},{\"hoverinfo\":\"skip\",\"line\":{\"color\":\"black\",\"width\":1},\"mode\":\"lines\",\"showlegend\":false,\"x\":[-0.3310301053235621,-0.3310301053235621],\"y\":[1.0,0.3],\"type\":\"scatter\",\"xaxis\":\"x\",\"yaxis\":\"y\"},{\"hoverinfo\":\"skip\",\"line\":{\"color\":\"black\",\"width\":1},\"mode\":\"lines\",\"showlegend\":false,\"x\":[0.43835432436241245,0.43835432436241245],\"y\":[1.0,1.45],\"type\":\"scatter\",\"xaxis\":\"x\",\"yaxis\":\"y\"},{\"hoverinfo\":\"skip\",\"line\":{\"color\":\"black\",\"width\":1},\"mode\":\"lines\",\"showlegend\":false,\"x\":[0.45205608898745575,0.45205608898745575],\"y\":[1.0,0.6],\"type\":\"scatter\",\"xaxis\":\"x\",\"yaxis\":\"y\"},{\"hoverinfo\":\"skip\",\"line\":{\"color\":\"black\",\"width\":1},\"mode\":\"lines\",\"showlegend\":false,\"x\":[0.46289767917466823,0.46289767917466823],\"y\":[1.0,1.9],\"type\":\"scatter\",\"xaxis\":\"x\",\"yaxis\":\"y\"},{\"hoverinfo\":\"skip\",\"line\":{\"color\":\"black\",\"width\":1},\"mode\":\"lines\",\"showlegend\":false,\"x\":[0.4757389164611777,0.4757389164611777],\"y\":[1.0,0.15],\"type\":\"scatter\",\"xaxis\":\"x\",\"yaxis\":\"y\"},{\"hoverinfo\":\"skip\",\"line\":{\"color\":\"black\",\"width\":1},\"mode\":\"lines\",\"showlegend\":false,\"x\":[0.4784053267623893,0.4784053267623893],\"y\":[1.0,1.6],\"type\":\"scatter\",\"xaxis\":\"x\",\"yaxis\":\"y\"},{\"hoverinfo\":\"skip\",\"line\":{\"color\":\"black\",\"width\":1},\"mode\":\"lines\",\"showlegend\":false,\"x\":[0.500845969296264,0.500845969296264],\"y\":[1.0,0.45],\"type\":\"scatter\",\"xaxis\":\"x\",\"yaxis\":\"y\"},{\"hoverinfo\":\"skip\",\"line\":{\"color\":\"black\",\"width\":1},\"mode\":\"lines\",\"showlegend\":false,\"x\":[0.5291383935286978,0.5291383935286978],\"y\":[1.0,1.3],\"type\":\"scatter\",\"xaxis\":\"x\",\"yaxis\":\"y\"},{\"hoverinfo\":\"skip\",\"line\":{\"color\":\"black\",\"width\":1},\"mode\":\"lines\",\"showlegend\":false,\"x\":[0.5522215804139935,0.5522215804139935],\"y\":[1.0,0.75],\"type\":\"scatter\",\"xaxis\":\"x\",\"yaxis\":\"y\"},{\"hoverinfo\":\"skip\",\"line\":{\"color\":\"black\",\"width\":1},\"mode\":\"lines\",\"showlegend\":false,\"x\":[0.5820630610876834,0.5820630610876834],\"y\":[1.0,1.75],\"type\":\"scatter\",\"xaxis\":\"x\",\"yaxis\":\"y\"},{\"hoverinfo\":\"skip\",\"line\":{\"color\":\"black\",\"width\":1},\"mode\":\"lines\",\"showlegend\":false,\"x\":[0.6148001446837766,0.6148001446837766],\"y\":[1.0,0.3],\"type\":\"scatter\",\"xaxis\":\"x\",\"yaxis\":\"y\"},{\"hoverinfo\":\"skip\",\"marker\":{\"color\":\"limegreen\"},\"opacity\":0.7,\"showlegend\":false,\"width\":0.031048307857104798,\"x\":[-0.5301062075469637,-0.4912958227255827,-0.4524854379042016,-0.4136750530828206,-0.3748646682614396,-0.3360542834400586,-0.2972438986186775,-0.2584335137972965,-0.21962312897591552,-0.1808127441545345,-0.14200235933315344,-0.10319197451177242,-0.06438158969039143,-0.025571204869010378,0.013239179952370672,0.052049564773751666,0.09085994959513266,0.12967033441651366,0.1684807192378947,0.20729110405927575,0.24610148888065675,0.2849118737020378,0.32372225852341885,0.36253264334479984,0.40134302816618084,0.44015341298756183,0.4789637978089428,0.5177741826303239,0.556584567451705,0.5953949522730861],\"y\":[0.03103448275862069,0.06206896551724138,0.0,0.0,0.06206896551724138,0.18620689655172415,0.21724137931034485,0.15517241379310345,0.21724137931034485,0.2482758620689655,0.6206896551724138,0.496551724137931,0.6517241379310345,0.9,0.6827586206896552,0.5586206896551724,0.5275862068965517,0.2482758620689655,0.21724137931034485,0.3413793103448276,0.2482758620689655,0.12413793103448276,0.12413793103448276,0.06206896551724138,0.09310344827586207,0.12413793103448276,0.09310344827586207,0.06206896551724138,0.03103448275862069,0.06206896551724138],\"type\":\"bar\",\"xaxis\":\"x\",\"yaxis\":\"y\"},{\"hovertemplate\":\"\\u003cb\\u003e%{text}\\u003c\\u002fb\\u003e\\u003cbr\\u003ePC Projection: %{x:.3f}\\u003cextra\\u003e\\u003c\\u002fextra\\u003e\",\"marker\":{\"color\":\"limegreen\",\"line\":{\"color\":\"black\",\"width\":1},\"opacity\":1.0,\"size\":8,\"symbol\":\"diamond\"},\"mode\":\"markers\",\"showlegend\":false,\"text\":[\"Zealous\",\"Wry\",\"Witty\",\"Whimsical\",\"Visceral\",\"Vindictive\",\"Verbose\",\"Utilitarian\",\"Urgent\",\"Universalist\",\"Understated\",\"Transparent\",\"Theatrical\",\"Technical\",\"Tactful\",\"Systems thinker\",\"Sycophantic\",\"Supportive\",\"Subversive\",\"Submissive\",\"Structuralist\",\"Stream of consciousness\",\"Strategic\",\"Stoic\",\"Spontaneous\",\"Spiritual\",\"Speculative\",\"Specialized\",\"Solemn\",\"Socratic\",\"Skeptical\",\"Serious\",\"Serene\",\"Secular\",\"Savage\",\"Sassy\",\"Sardonic\",\"Sarcastic\",\"Romantic\",\"Ritualistic\",\"Risk taking\",\"Rhetorical\",\"Reverent\",\"Resilient\",\"Reserved\",\"Relativist\",\"Regulatory\",\"Reductionist\",\"Reactive\",\"Rationalist\",\"Radical\",\"Quantitative\",\"Qualitative\",\"Progressive\",\"Problem solving\",\"Proactive\",\"Principled\",\"Prescriptive\",\"Poetic\",\"Pluralist\",\"Playful\",\"Philosophical\",\"Pessimistic\",\"Perfectionist\",\"Pensive\",\"Pedantic\",\"Patient\",\"Passive aggressive\",\"Passionate\",\"Paranoid\",\"Paradoxical\",\"Pacifist\",\"Optimistic\",\"Open ended\",\"Obsessive\",\"Nurturing\",\"Nostalgic\",\"Nonchalant\",\"Nihilistic\",\"Neurotic\",\"Narrative\",\"Mystical\",\"Moderate\",\"Mischievous\",\"Misanthropic\",\"Militant\",\"Meticulous\",\"Methodical\",\"Metaphorical\",\"Mercurial\",\"Melodramatic\",\"Melancholic\",\"Meditative\",\"Materialist\",\"Manipulative\",\"Literal\",\"Libertarian\",\"Judgmental\",\"Irreverent\",\"Ironic\",\"Intuitive\",\"Introverted\",\"Introspective\",\"Interdisciplinary\",\"Inspirational\",\"Inquisitive\",\"Individualistic\",\"Independent\",\"Inclusive\",\"Impulsive\",\"Improvisational\",\"Impatient\",\"Idealistic\",\"Humble\",\"Humanistic\",\"Hostile\",\"Holistic\",\"Historical\",\"Hedonistic\",\"Gregarious\",\"Grandiose\",\"Goofy\",\"Generous\",\"Generalist\",\"Futuristic\",\"Fundamentalist\",\"Formalist\",\"Formal\",\"Forgiving\",\"Flirty\",\"Flippant\",\"Flexible\",\"Fatalistic\",\"Factual\",\"Extroverted\",\"Exploratory\",\"Experiential\",\"Existentialist\",\"Evil\",\"Ethereal\",\"Essentialist\",\"Erudite\",\"Epicurean\",\"Environmental\",\"Entertaining\",\"Enigmatic\",\"Empathetic\",\"Emotional\",\"Eloquent\",\"Elitist\",\"Egalitarian\",\"Efficient\",\"Educational\",\"Edgy\",\"Eclectic\",\"Earnest\",\"Dramatic\",\"Dominant\",\"Dogmatic\",\"Divergent\",\"Dispassionate\",\"Disorganized\",\"Diplomatic\",\"Deterministic\",\"Detached\",\"Descriptive\",\"Deontological\",\"Deferential\",\"Deconstructionist\",\"Decisive\",\"Data driven\",\"Cynical\",\"Curious\",\"Cryptic\",\"Cruel\",\"Creative\",\"Cosmopolitan\",\"Convergent\",\"Contemporary\",\"Constructivist\",\"Conscientious\",\"Confrontational\",\"Confident\",\"Condescending\",\"Concise\",\"Conciliatory\",\"Competitive\",\"Collectivistic\",\"Collaborative\",\"Closure seeking\",\"Circumspect\",\"Chill\",\"Charismatic\",\"Chaotic\",\"Challenging\",\"Cautious\",\"Casual\",\"Calm\",\"Callous\",\"Calculating\",\"Bombastic\",\"Blunt\",\"Bitter\",\"Big picture\",\"Benevolent\",\"Avoidant\",\"Assertive\",\"Ascetic\",\"Artistic\",\"Arrogant\",\"Anthropocentric\",\"Animated\",\"Analytical\",\"Altruistic\",\"Agreeable\",\"Adventurous\",\"Adaptable\",\"Acerbic\",\"Accommodating\",\"Absolutist\"],\"x\":[-10.916752731305008,2.8367926801560173,-5.650067731082485,-0.6133871941102084,-0.8034599692170526,-6.824599884571725,0.22843981351222112,-2.8401547268362823,-7.493141967045605,-7.323167197592543,-3.7022080624068305,-7.703120271434352,-13.73137570632055,7.9985109597762865,-11.208174489086895,17.25364319500898,-8.255855353759205,-10.672670873587373,14.21183139915843,-7.138589334741923,10.788095413685406,-1.9744329984205387,7.659881856729411,10.592510232716148,7.702999720606634,15.82640465549081,8.586796106165187,14.004674667943213,4.450450047130717,8.635034325896841,7.826884835380607,6.518167638934098,10.207572439638843,-7.308102867073795,6.76966995286983,-0.09688483087546658,1.8785834658109823,3.566341841632866,0.5703231681773883,-15.54892738578367,16.896050137817216,-4.107955226440998,-17.64327612361334,3.9918003566055367,4.355306793254903,7.5960799514409105,-16.35897824216507,-13.77272291905436,-3.7832224628557936,-6.978496077627217,21.551939214737885,-8.841353832885929,13.214977792312629,20.491521576395645,-0.8265818573755955,-8.086788793102095,-2.544100700611524,-13.123230030603152,-1.1293188535800647,2.578894329051869,-8.814994706591845,19.375015848356895,2.685137144878542,-2.246977526066153,8.258279146858406,0.2075641428882271,-2.270257617649088,-7.093326362031703,-11.277189714899972,1.8245996410745775,9.127995864777509,3.39411688313743,-8.142515645329453,6.99192733450158,-10.567606997463463,-10.241529266204811,-14.956438519030414,1.7917225351429387,6.1611642456177815,-15.935926720804174,-10.020483121586349,12.346269092153218,-6.456156811564554,-6.076806305602554,0.1463305473128591,1.577010264143747,-4.436474893915843,-2.070992037376199,2.319316179843781,-9.393483806682637,-14.362458898179689,4.580046616853614,11.10239877143878,-15.014616000099938,-14.627595989264952,-8.787993613764623,-1.9215643014075021,-1.7009218468815581,-0.8780935049652936,-9.447789536921064,15.99370506433803,19.586254992910042,-1.404204994137535,10.338971891430049,2.395711594377187,-7.096081513548559,9.031626883249787,9.182908560610798,10.68986872775339,0.9293479490152138,5.2694146079667545,-2.7103382409023826,4.834001830457092,-4.155432900497552,2.609750352596858,3.412843166091657,13.801313248530455,2.8986809631214956,-8.4986848706677,-13.547845286078585,6.063960320810199,-15.433993474927926,9.326662681381851,11.44935791002509,18.84859248524217,-13.354804026378206,-10.240372629240126,3.76116280757193,1.6195275164572351,-6.859972566828,-2.161509280908738,1.1560673435321605,2.1933166011366207,-0.6890498530929965,-10.880733159429028,0.41781205166655383,-14.447252377268551,17.610119799610604,-9.08366441253704,9.216356840948578,-10.865728545627025,14.310371880312683,-3.018782518137371,13.297461124309546,-9.254675593840805,7.123565834033509,-9.016424387412162,-7.9928240452436565,-0.8565973418124752,-6.794647358957773,6.60667186787855,-3.142032938731132,1.9457055153562646,9.96390486995141,15.057141525607149,-0.5535807857829905,-9.214409944904135,-6.578008078082381,-11.432576126006364,-4.335421677469066,7.1843278285094305,-12.94893427921018,-4.88353436078137,-3.273615905649368,5.002648881317396,-3.4884684323975397,-3.601612901234076,-12.726623874722835,18.075414374149798,4.7883585450342405,-5.428874214039479,3.066345728534609,-1.927082173204395,11.218136100450886,2.417991581608039,11.300214163342012,11.526209580596305,-5.788954351170598,1.0638611087189946,13.993306859778253,-0.24491703395674794,8.315475364329444,1.8069441897600176,-5.960088658646493,-0.4193660347720588,-7.133438800757487,-3.185009123813509,-4.668300215665574,-2.9860571182928966,-4.197976960508898,-2.514408491928343,-1.0623279771615712,-4.335519542510458,12.105508435962978,11.712937676114054,-3.081613810297835,-8.847219271373941,5.679799677490137,7.045354368700124,-6.341516681570163,-9.918043976396037,8.479251721718699,-0.1890031658989918,17.612037986675006,-0.5662502995232006,-12.064706461806773,1.71851744963076,12.012791316358252,3.2462778896149076,-1.9675384316283575,-11.65129784468287,-10.751869943776624,-5.07743130994422,1.7413759070505155,-11.088570425120503,17.992849272558523,-9.795142118192834,5.1508256783425885,-10.577378765635457,-8.618407939179303],\"y\":[1,1,1,1,1,1,1,1,1,1,1,1,1,1,1,1,1,1,1,1,1,1,1,1,1,1,1,1,1,1,1,1,1,1,1,1,1,1,1,1,1,1,1,1,1,1,1,1,1,1,1,1,1,1,1,1,1,1,1,1,1,1,1,1,1,1,1,1,1,1,1,1,1,1,1,1,1,1,1,1,1,1,1,1,1,1,1,1,1,1,1,1,1,1,1,1,1,1,1,1,1,1,1,1,1,1,1,1,1,1,1,1,1,1,1,1,1,1,1,1,1,1,1,1,1,1,1,1,1,1,1,1,1,1,1,1,1,1,1,1,1,1,1,1,1,1,1,1,1,1,1,1,1,1,1,1,1,1,1,1,1,1,1,1,1,1,1,1,1,1,1,1,1,1,1,1,1,1,1,1,1,1,1,1,1,1,1,1,1,1,1,1,1,1,1,1,1,1,1,1,1,1,1,1,1,1,1,1,1,1,1,1,1,1,1,1,1,1,1,1],\"type\":\"scatter\",\"xaxis\":\"x2\",\"yaxis\":\"y2\"},{\"hovertemplate\":\"\\u003cb\\u003e%{text}\\u003c\\u002fb\\u003e\\u003cbr\\u003ePC Projection: %{x:.3f}\\u003cextra\\u003e\\u003c\\u002fextra\\u003e\",\"marker\":{\"color\":\"limegreen\",\"line\":{\"color\":\"black\",\"width\":1},\"opacity\":1.0,\"size\":8,\"symbol\":\"diamond\"},\"mode\":\"markers\",\"showlegend\":false,\"text\":[\"Traditional\",\"Theoretical\",\"Temperamental\",\"Rebellious\",\"Provocative\",\"Practical\",\"Petty\",\"Naive\",\"Manic\",\"Innovative\",\"Iconoclastic\",\"Grounded\",\"Esoteric\",\"Effusive\",\"Critical\",\"Contrarian\",\"Conceptual\",\"Anxious\",\"Accessible\",\"Abstract\"],\"x\":[-31.151800049621645,22.522579577321075,-22.956850935540306,30.89372599198088,22.908922238114496,-29.785178962362853,-19.619291174502155,-18.921705236107137,-22.187140139800537,25.324044117944933,24.02581391490426,-30.486466649074238,27.551325960424762,-22.04246217959698,21.95050126277659,23.979646763006848,24.511239537666363,-18.455373522233284,-21.40425497079015,26.13877339719637],\"y\":[1,1,1,1,1,1,1,1,1,1,1,1,1,1,1,1,1,1,1,1],\"type\":\"scatter\",\"xaxis\":\"x2\",\"yaxis\":\"y2\"},{\"hoverinfo\":\"skip\",\"line\":{\"color\":\"black\",\"width\":1},\"mode\":\"lines\",\"showlegend\":false,\"x\":[-31.151800049621645,-31.151800049621645],\"y\":[1.0,1.45],\"type\":\"scatter\",\"xaxis\":\"x2\",\"yaxis\":\"y2\"},{\"hoverinfo\":\"skip\",\"line\":{\"color\":\"black\",\"width\":1},\"mode\":\"lines\",\"showlegend\":false,\"x\":[-30.486466649074238,-30.486466649074238],\"y\":[1.0,0.6],\"type\":\"scatter\",\"xaxis\":\"x2\",\"yaxis\":\"y2\"},{\"hoverinfo\":\"skip\",\"line\":{\"color\":\"black\",\"width\":1},\"mode\":\"lines\",\"showlegend\":false,\"x\":[-29.785178962362853,-29.785178962362853],\"y\":[1.0,1.9],\"type\":\"scatter\",\"xaxis\":\"x2\",\"yaxis\":\"y2\"},{\"hoverinfo\":\"skip\",\"line\":{\"color\":\"black\",\"width\":1},\"mode\":\"lines\",\"showlegend\":false,\"x\":[-22.956850935540306,-22.956850935540306],\"y\":[1.0,0.15],\"type\":\"scatter\",\"xaxis\":\"x2\",\"yaxis\":\"y2\"},{\"hoverinfo\":\"skip\",\"line\":{\"color\":\"black\",\"width\":1},\"mode\":\"lines\",\"showlegend\":false,\"x\":[-22.187140139800537,-22.187140139800537],\"y\":[1.0,1.6],\"type\":\"scatter\",\"xaxis\":\"x2\",\"yaxis\":\"y2\"},{\"hoverinfo\":\"skip\",\"line\":{\"color\":\"black\",\"width\":1},\"mode\":\"lines\",\"showlegend\":false,\"x\":[-22.04246217959698,-22.04246217959698],\"y\":[1.0,0.45],\"type\":\"scatter\",\"xaxis\":\"x2\",\"yaxis\":\"y2\"},{\"hoverinfo\":\"skip\",\"line\":{\"color\":\"black\",\"width\":1},\"mode\":\"lines\",\"showlegend\":false,\"x\":[-21.40425497079015,-21.40425497079015],\"y\":[1.0,1.3],\"type\":\"scatter\",\"xaxis\":\"x2\",\"yaxis\":\"y2\"},{\"hoverinfo\":\"skip\",\"line\":{\"color\":\"black\",\"width\":1},\"mode\":\"lines\",\"showlegend\":false,\"x\":[-19.619291174502155,-19.619291174502155],\"y\":[1.0,0.75],\"type\":\"scatter\",\"xaxis\":\"x2\",\"yaxis\":\"y2\"},{\"hoverinfo\":\"skip\",\"line\":{\"color\":\"black\",\"width\":1},\"mode\":\"lines\",\"showlegend\":false,\"x\":[-18.921705236107137,-18.921705236107137],\"y\":[1.0,1.75],\"type\":\"scatter\",\"xaxis\":\"x2\",\"yaxis\":\"y2\"},{\"hoverinfo\":\"skip\",\"line\":{\"color\":\"black\",\"width\":1},\"mode\":\"lines\",\"showlegend\":false,\"x\":[-18.455373522233284,-18.455373522233284],\"y\":[1.0,0.3],\"type\":\"scatter\",\"xaxis\":\"x2\",\"yaxis\":\"y2\"},{\"hoverinfo\":\"skip\",\"line\":{\"color\":\"black\",\"width\":1},\"mode\":\"lines\",\"showlegend\":false,\"x\":[21.95050126277659,21.95050126277659],\"y\":[1.0,1.45],\"type\":\"scatter\",\"xaxis\":\"x2\",\"yaxis\":\"y2\"},{\"hoverinfo\":\"skip\",\"line\":{\"color\":\"black\",\"width\":1},\"mode\":\"lines\",\"showlegend\":false,\"x\":[22.522579577321075,22.522579577321075],\"y\":[1.0,0.6],\"type\":\"scatter\",\"xaxis\":\"x2\",\"yaxis\":\"y2\"},{\"hoverinfo\":\"skip\",\"line\":{\"color\":\"black\",\"width\":1},\"mode\":\"lines\",\"showlegend\":false,\"x\":[22.908922238114496,22.908922238114496],\"y\":[1.0,1.9],\"type\":\"scatter\",\"xaxis\":\"x2\",\"yaxis\":\"y2\"},{\"hoverinfo\":\"skip\",\"line\":{\"color\":\"black\",\"width\":1},\"mode\":\"lines\",\"showlegend\":false,\"x\":[23.979646763006848,23.979646763006848],\"y\":[1.0,0.15],\"type\":\"scatter\",\"xaxis\":\"x2\",\"yaxis\":\"y2\"},{\"hoverinfo\":\"skip\",\"line\":{\"color\":\"black\",\"width\":1},\"mode\":\"lines\",\"showlegend\":false,\"x\":[24.02581391490426,24.02581391490426],\"y\":[1.0,1.6],\"type\":\"scatter\",\"xaxis\":\"x2\",\"yaxis\":\"y2\"},{\"hoverinfo\":\"skip\",\"line\":{\"color\":\"black\",\"width\":1},\"mode\":\"lines\",\"showlegend\":false,\"x\":[24.511239537666363,24.511239537666363],\"y\":[1.0,0.45],\"type\":\"scatter\",\"xaxis\":\"x2\",\"yaxis\":\"y2\"},{\"hoverinfo\":\"skip\",\"line\":{\"color\":\"black\",\"width\":1},\"mode\":\"lines\",\"showlegend\":false,\"x\":[25.324044117944933,25.324044117944933],\"y\":[1.0,1.3],\"type\":\"scatter\",\"xaxis\":\"x2\",\"yaxis\":\"y2\"},{\"hoverinfo\":\"skip\",\"line\":{\"color\":\"black\",\"width\":1},\"mode\":\"lines\",\"showlegend\":false,\"x\":[26.13877339719637,26.13877339719637],\"y\":[1.0,0.75],\"type\":\"scatter\",\"xaxis\":\"x2\",\"yaxis\":\"y2\"},{\"hoverinfo\":\"skip\",\"line\":{\"color\":\"black\",\"width\":1},\"mode\":\"lines\",\"showlegend\":false,\"x\":[27.551325960424762,27.551325960424762],\"y\":[1.0,1.75],\"type\":\"scatter\",\"xaxis\":\"x2\",\"yaxis\":\"y2\"},{\"hoverinfo\":\"skip\",\"line\":{\"color\":\"black\",\"width\":1},\"mode\":\"lines\",\"showlegend\":false,\"x\":[30.89372599198088,30.89372599198088],\"y\":[1.0,0.3],\"type\":\"scatter\",\"xaxis\":\"x2\",\"yaxis\":\"y2\"},{\"hoverinfo\":\"skip\",\"marker\":{\"color\":\"limegreen\"},\"opacity\":0.7,\"showlegend\":false,\"width\":1.6545473611093997,\"x\":[-30.11770794892827,-28.04952374754152,-25.981339546154768,-23.91315534476802,-21.844971143381265,-19.776786941994516,-17.708602740607766,-15.640418539221013,-13.572234337834264,-11.504050136447512,-9.435865935060761,-7.3676817336740115,-5.29949753228726,-3.231313330900509,-1.1631291295137576,0.9050550718729937,2.9732392732597432,5.041423474646493,7.109607676033246,9.177791877419999,11.245976078806748,13.314160280193498,15.382344481580247,17.450528682966997,19.51871288435375,21.586897085740503,23.655081287127253,25.723265488514002,27.79144968990075,29.8596338912875],\"y\":[0.12857142857142856,0.0,0.0,0.04285714285714286,0.12857142857142856,0.08571428571428572,0.08571428571428572,0.3,0.3857142857142857,0.5571428571428572,0.7285714285714286,0.8142857142857143,0.4714285714285715,0.8142857142857143,0.9,0.7285714285714286,0.7285714285714286,0.42857142857142855,0.5571428571428572,0.5142857142857142,0.5142857142857142,0.34285714285714286,0.12857142857142856,0.2571428571428571,0.17142857142857143,0.12857142857142856,0.17142857142857143,0.08571428571428572,0.04285714285714286,0.04285714285714286],\"type\":\"bar\",\"xaxis\":\"x2\",\"yaxis\":\"y2\"}],                        {\"template\":{\"data\":{\"histogram2dcontour\":[{\"type\":\"histogram2dcontour\",\"colorbar\":{\"outlinewidth\":0,\"ticks\":\"\"},\"colorscale\":[[0.0,\"#0d0887\"],[0.1111111111111111,\"#46039f\"],[0.2222222222222222,\"#7201a8\"],[0.3333333333333333,\"#9c179e\"],[0.4444444444444444,\"#bd3786\"],[0.5555555555555556,\"#d8576b\"],[0.6666666666666666,\"#ed7953\"],[0.7777777777777778,\"#fb9f3a\"],[0.8888888888888888,\"#fdca26\"],[1.0,\"#f0f921\"]]}],\"choropleth\":[{\"type\":\"choropleth\",\"colorbar\":{\"outlinewidth\":0,\"ticks\":\"\"}}],\"histogram2d\":[{\"type\":\"histogram2d\",\"colorbar\":{\"outlinewidth\":0,\"ticks\":\"\"},\"colorscale\":[[0.0,\"#0d0887\"],[0.1111111111111111,\"#46039f\"],[0.2222222222222222,\"#7201a8\"],[0.3333333333333333,\"#9c179e\"],[0.4444444444444444,\"#bd3786\"],[0.5555555555555556,\"#d8576b\"],[0.6666666666666666,\"#ed7953\"],[0.7777777777777778,\"#fb9f3a\"],[0.8888888888888888,\"#fdca26\"],[1.0,\"#f0f921\"]]}],\"heatmap\":[{\"type\":\"heatmap\",\"colorbar\":{\"outlinewidth\":0,\"ticks\":\"\"},\"colorscale\":[[0.0,\"#0d0887\"],[0.1111111111111111,\"#46039f\"],[0.2222222222222222,\"#7201a8\"],[0.3333333333333333,\"#9c179e\"],[0.4444444444444444,\"#bd3786\"],[0.5555555555555556,\"#d8576b\"],[0.6666666666666666,\"#ed7953\"],[0.7777777777777778,\"#fb9f3a\"],[0.8888888888888888,\"#fdca26\"],[1.0,\"#f0f921\"]]}],\"heatmapgl\":[{\"type\":\"heatmapgl\",\"colorbar\":{\"outlinewidth\":0,\"ticks\":\"\"},\"colorscale\":[[0.0,\"#0d0887\"],[0.1111111111111111,\"#46039f\"],[0.2222222222222222,\"#7201a8\"],[0.3333333333333333,\"#9c179e\"],[0.4444444444444444,\"#bd3786\"],[0.5555555555555556,\"#d8576b\"],[0.6666666666666666,\"#ed7953\"],[0.7777777777777778,\"#fb9f3a\"],[0.8888888888888888,\"#fdca26\"],[1.0,\"#f0f921\"]]}],\"contourcarpet\":[{\"type\":\"contourcarpet\",\"colorbar\":{\"outlinewidth\":0,\"ticks\":\"\"}}],\"contour\":[{\"type\":\"contour\",\"colorbar\":{\"outlinewidth\":0,\"ticks\":\"\"},\"colorscale\":[[0.0,\"#0d0887\"],[0.1111111111111111,\"#46039f\"],[0.2222222222222222,\"#7201a8\"],[0.3333333333333333,\"#9c179e\"],[0.4444444444444444,\"#bd3786\"],[0.5555555555555556,\"#d8576b\"],[0.6666666666666666,\"#ed7953\"],[0.7777777777777778,\"#fb9f3a\"],[0.8888888888888888,\"#fdca26\"],[1.0,\"#f0f921\"]]}],\"surface\":[{\"type\":\"surface\",\"colorbar\":{\"outlinewidth\":0,\"ticks\":\"\"},\"colorscale\":[[0.0,\"#0d0887\"],[0.1111111111111111,\"#46039f\"],[0.2222222222222222,\"#7201a8\"],[0.3333333333333333,\"#9c179e\"],[0.4444444444444444,\"#bd3786\"],[0.5555555555555556,\"#d8576b\"],[0.6666666666666666,\"#ed7953\"],[0.7777777777777778,\"#fb9f3a\"],[0.8888888888888888,\"#fdca26\"],[1.0,\"#f0f921\"]]}],\"mesh3d\":[{\"type\":\"mesh3d\",\"colorbar\":{\"outlinewidth\":0,\"ticks\":\"\"}}],\"scatter\":[{\"fillpattern\":{\"fillmode\":\"overlay\",\"size\":10,\"solidity\":0.2},\"type\":\"scatter\"}],\"parcoords\":[{\"type\":\"parcoords\",\"line\":{\"colorbar\":{\"outlinewidth\":0,\"ticks\":\"\"}}}],\"scatterpolargl\":[{\"type\":\"scatterpolargl\",\"marker\":{\"colorbar\":{\"outlinewidth\":0,\"ticks\":\"\"}}}],\"bar\":[{\"error_x\":{\"color\":\"#2a3f5f\"},\"error_y\":{\"color\":\"#2a3f5f\"},\"marker\":{\"line\":{\"color\":\"#E5ECF6\",\"width\":0.5},\"pattern\":{\"fillmode\":\"overlay\",\"size\":10,\"solidity\":0.2}},\"type\":\"bar\"}],\"scattergeo\":[{\"type\":\"scattergeo\",\"marker\":{\"colorbar\":{\"outlinewidth\":0,\"ticks\":\"\"}}}],\"scatterpolar\":[{\"type\":\"scatterpolar\",\"marker\":{\"colorbar\":{\"outlinewidth\":0,\"ticks\":\"\"}}}],\"histogram\":[{\"marker\":{\"pattern\":{\"fillmode\":\"overlay\",\"size\":10,\"solidity\":0.2}},\"type\":\"histogram\"}],\"scattergl\":[{\"type\":\"scattergl\",\"marker\":{\"colorbar\":{\"outlinewidth\":0,\"ticks\":\"\"}}}],\"scatter3d\":[{\"type\":\"scatter3d\",\"line\":{\"colorbar\":{\"outlinewidth\":0,\"ticks\":\"\"}},\"marker\":{\"colorbar\":{\"outlinewidth\":0,\"ticks\":\"\"}}}],\"scattermapbox\":[{\"type\":\"scattermapbox\",\"marker\":{\"colorbar\":{\"outlinewidth\":0,\"ticks\":\"\"}}}],\"scatterternary\":[{\"type\":\"scatterternary\",\"marker\":{\"colorbar\":{\"outlinewidth\":0,\"ticks\":\"\"}}}],\"scattercarpet\":[{\"type\":\"scattercarpet\",\"marker\":{\"colorbar\":{\"outlinewidth\":0,\"ticks\":\"\"}}}],\"carpet\":[{\"aaxis\":{\"endlinecolor\":\"#2a3f5f\",\"gridcolor\":\"white\",\"linecolor\":\"white\",\"minorgridcolor\":\"white\",\"startlinecolor\":\"#2a3f5f\"},\"baxis\":{\"endlinecolor\":\"#2a3f5f\",\"gridcolor\":\"white\",\"linecolor\":\"white\",\"minorgridcolor\":\"white\",\"startlinecolor\":\"#2a3f5f\"},\"type\":\"carpet\"}],\"table\":[{\"cells\":{\"fill\":{\"color\":\"#EBF0F8\"},\"line\":{\"color\":\"white\"}},\"header\":{\"fill\":{\"color\":\"#C8D4E3\"},\"line\":{\"color\":\"white\"}},\"type\":\"table\"}],\"barpolar\":[{\"marker\":{\"line\":{\"color\":\"#E5ECF6\",\"width\":0.5},\"pattern\":{\"fillmode\":\"overlay\",\"size\":10,\"solidity\":0.2}},\"type\":\"barpolar\"}],\"pie\":[{\"automargin\":true,\"type\":\"pie\"}]},\"layout\":{\"autotypenumbers\":\"strict\",\"colorway\":[\"#636efa\",\"#EF553B\",\"#00cc96\",\"#ab63fa\",\"#FFA15A\",\"#19d3f3\",\"#FF6692\",\"#B6E880\",\"#FF97FF\",\"#FECB52\"],\"font\":{\"color\":\"#2a3f5f\"},\"hovermode\":\"closest\",\"hoverlabel\":{\"align\":\"left\"},\"paper_bgcolor\":\"white\",\"plot_bgcolor\":\"#E5ECF6\",\"polar\":{\"bgcolor\":\"#E5ECF6\",\"angularaxis\":{\"gridcolor\":\"white\",\"linecolor\":\"white\",\"ticks\":\"\"},\"radialaxis\":{\"gridcolor\":\"white\",\"linecolor\":\"white\",\"ticks\":\"\"}},\"ternary\":{\"bgcolor\":\"#E5ECF6\",\"aaxis\":{\"gridcolor\":\"white\",\"linecolor\":\"white\",\"ticks\":\"\"},\"baxis\":{\"gridcolor\":\"white\",\"linecolor\":\"white\",\"ticks\":\"\"},\"caxis\":{\"gridcolor\":\"white\",\"linecolor\":\"white\",\"ticks\":\"\"}},\"coloraxis\":{\"colorbar\":{\"outlinewidth\":0,\"ticks\":\"\"}},\"colorscale\":{\"sequential\":[[0.0,\"#0d0887\"],[0.1111111111111111,\"#46039f\"],[0.2222222222222222,\"#7201a8\"],[0.3333333333333333,\"#9c179e\"],[0.4444444444444444,\"#bd3786\"],[0.5555555555555556,\"#d8576b\"],[0.6666666666666666,\"#ed7953\"],[0.7777777777777778,\"#fb9f3a\"],[0.8888888888888888,\"#fdca26\"],[1.0,\"#f0f921\"]],\"sequentialminus\":[[0.0,\"#0d0887\"],[0.1111111111111111,\"#46039f\"],[0.2222222222222222,\"#7201a8\"],[0.3333333333333333,\"#9c179e\"],[0.4444444444444444,\"#bd3786\"],[0.5555555555555556,\"#d8576b\"],[0.6666666666666666,\"#ed7953\"],[0.7777777777777778,\"#fb9f3a\"],[0.8888888888888888,\"#fdca26\"],[1.0,\"#f0f921\"]],\"diverging\":[[0,\"#8e0152\"],[0.1,\"#c51b7d\"],[0.2,\"#de77ae\"],[0.3,\"#f1b6da\"],[0.4,\"#fde0ef\"],[0.5,\"#f7f7f7\"],[0.6,\"#e6f5d0\"],[0.7,\"#b8e186\"],[0.8,\"#7fbc41\"],[0.9,\"#4d9221\"],[1,\"#276419\"]]},\"xaxis\":{\"gridcolor\":\"white\",\"linecolor\":\"white\",\"ticks\":\"\",\"title\":{\"standoff\":15},\"zerolinecolor\":\"white\",\"automargin\":true,\"zerolinewidth\":2},\"yaxis\":{\"gridcolor\":\"white\",\"linecolor\":\"white\",\"ticks\":\"\",\"title\":{\"standoff\":15},\"zerolinecolor\":\"white\",\"automargin\":true,\"zerolinewidth\":2},\"scene\":{\"xaxis\":{\"backgroundcolor\":\"#E5ECF6\",\"gridcolor\":\"white\",\"linecolor\":\"white\",\"showbackground\":true,\"ticks\":\"\",\"zerolinecolor\":\"white\",\"gridwidth\":2},\"yaxis\":{\"backgroundcolor\":\"#E5ECF6\",\"gridcolor\":\"white\",\"linecolor\":\"white\",\"showbackground\":true,\"ticks\":\"\",\"zerolinecolor\":\"white\",\"gridwidth\":2},\"zaxis\":{\"backgroundcolor\":\"#E5ECF6\",\"gridcolor\":\"white\",\"linecolor\":\"white\",\"showbackground\":true,\"ticks\":\"\",\"zerolinecolor\":\"white\",\"gridwidth\":2}},\"shapedefaults\":{\"line\":{\"color\":\"#2a3f5f\"}},\"annotationdefaults\":{\"arrowcolor\":\"#2a3f5f\",\"arrowhead\":0,\"arrowwidth\":1},\"geo\":{\"bgcolor\":\"white\",\"landcolor\":\"#E5ECF6\",\"subunitcolor\":\"white\",\"showland\":true,\"showlakes\":true,\"lakecolor\":\"white\"},\"title\":{\"x\":0.05},\"mapbox\":{\"style\":\"light\"}}},\"xaxis\":{\"anchor\":\"y\",\"domain\":[0.0,1.0],\"range\":[-0.6762801591521543,0.6762801591521543]},\"yaxis\":{\"anchor\":\"x\",\"domain\":[0.55,1.0],\"showticklabels\":false,\"range\":[0,2.5]},\"xaxis2\":{\"anchor\":\"y2\",\"domain\":[0.0,1.0],\"range\":[-34.26698005458381,34.26698005458381]},\"yaxis2\":{\"anchor\":\"x2\",\"domain\":[0.0,0.45],\"showticklabels\":false,\"range\":[0,2.5]},\"annotations\":[{\"font\":{\"size\":16},\"showarrow\":false,\"text\":\"PC5 Cosine Similarity\",\"x\":0.5,\"xanchor\":\"center\",\"xref\":\"paper\",\"y\":1.0,\"yanchor\":\"bottom\",\"yref\":\"paper\"},{\"font\":{\"size\":16},\"showarrow\":false,\"text\":\"PC5 Projection\",\"x\":0.5,\"xanchor\":\"center\",\"xref\":\"paper\",\"y\":0.45,\"yanchor\":\"bottom\",\"yref\":\"paper\"},{\"bgcolor\":\"rgba(255, 255, 255, 0.9)\",\"bordercolor\":\"black\",\"borderwidth\":1,\"font\":{\"color\":\"black\",\"size\":10},\"showarrow\":false,\"text\":\"Grounded\",\"x\":-0.5495113999576542,\"xref\":\"x\",\"y\":1.45,\"yref\":\"y\"},{\"bgcolor\":\"rgba(255, 255, 255, 0.9)\",\"bordercolor\":\"black\",\"borderwidth\":1,\"font\":{\"color\":\"black\",\"size\":10},\"showarrow\":false,\"text\":\"Traditional\",\"x\":-0.487177771012831,\"xref\":\"x\",\"y\":0.6,\"yref\":\"y\"},{\"bgcolor\":\"rgba(255, 255, 255, 0.9)\",\"bordercolor\":\"black\",\"borderwidth\":1,\"font\":{\"color\":\"black\",\"size\":10},\"showarrow\":false,\"text\":\"Practical\",\"x\":-0.4769153988092651,\"xref\":\"x\",\"y\":1.9,\"yref\":\"y\"},{\"bgcolor\":\"rgba(255, 255, 255, 0.9)\",\"bordercolor\":\"black\",\"borderwidth\":1,\"font\":{\"color\":\"black\",\"size\":10},\"showarrow\":false,\"text\":\"Reverent\",\"x\":-0.3640703395639715,\"xref\":\"x\",\"y\":0.15,\"yref\":\"y\"},{\"bgcolor\":\"rgba(255, 255, 255, 0.9)\",\"bordercolor\":\"black\",\"borderwidth\":1,\"font\":{\"color\":\"black\",\"size\":10},\"showarrow\":false,\"text\":\"Accessible\",\"x\":-0.3560669948152112,\"xref\":\"x\",\"y\":1.6,\"yref\":\"y\"},{\"bgcolor\":\"rgba(255, 255, 255, 0.9)\",\"bordercolor\":\"black\",\"borderwidth\":1,\"font\":{\"color\":\"black\",\"size\":10},\"showarrow\":false,\"text\":\"Petty\",\"x\":-0.35323816300260596,\"xref\":\"x\",\"y\":0.45,\"yref\":\"y\"},{\"bgcolor\":\"rgba(255, 255, 255, 0.9)\",\"bordercolor\":\"black\",\"borderwidth\":1,\"font\":{\"color\":\"black\",\"size\":10},\"showarrow\":false,\"text\":\"Temperamental\",\"x\":-0.3505777434560664,\"xref\":\"x\",\"y\":1.3,\"yref\":\"y\"},{\"bgcolor\":\"rgba(255, 255, 255, 0.9)\",\"bordercolor\":\"black\",\"borderwidth\":1,\"font\":{\"color\":\"black\",\"size\":10},\"showarrow\":false,\"text\":\"Manic\",\"x\":-0.3500900529523335,\"xref\":\"x\",\"y\":0.75,\"yref\":\"y\"},{\"bgcolor\":\"rgba(255, 255, 255, 0.9)\",\"bordercolor\":\"black\",\"borderwidth\":1,\"font\":{\"color\":\"black\",\"size\":10},\"showarrow\":false,\"text\":\"Anxious\",\"x\":-0.34373271505167663,\"xref\":\"x\",\"y\":1.75,\"yref\":\"y\"},{\"bgcolor\":\"rgba(255, 255, 255, 0.9)\",\"bordercolor\":\"black\",\"borderwidth\":1,\"font\":{\"color\":\"black\",\"size\":10},\"showarrow\":false,\"text\":\"Accommodating\",\"x\":-0.3310301053235621,\"xref\":\"x\",\"y\":0.3,\"yref\":\"y\"},{\"bgcolor\":\"rgba(255, 255, 255, 0.9)\",\"bordercolor\":\"black\",\"borderwidth\":1,\"font\":{\"color\":\"black\",\"size\":10},\"showarrow\":false,\"text\":\"Introverted\",\"x\":0.43835432436241245,\"xref\":\"x\",\"y\":1.45,\"yref\":\"y\"},{\"bgcolor\":\"rgba(255, 255, 255, 0.9)\",\"bordercolor\":\"black\",\"borderwidth\":1,\"font\":{\"color\":\"black\",\"size\":10},\"showarrow\":false,\"text\":\"Radical\",\"x\":0.45205608898745575,\"xref\":\"x\",\"y\":0.6,\"yref\":\"y\"},{\"bgcolor\":\"rgba(255, 255, 255, 0.9)\",\"bordercolor\":\"black\",\"borderwidth\":1,\"font\":{\"color\":\"black\",\"size\":10},\"showarrow\":false,\"text\":\"Progressive\",\"x\":0.46289767917466823,\"xref\":\"x\",\"y\":1.9,\"yref\":\"y\"},{\"bgcolor\":\"rgba(255, 255, 255, 0.9)\",\"bordercolor\":\"black\",\"borderwidth\":1,\"font\":{\"color\":\"black\",\"size\":10},\"showarrow\":false,\"text\":\"Contrarian\",\"x\":0.4757389164611777,\"xref\":\"x\",\"y\":0.15,\"yref\":\"y\"},{\"bgcolor\":\"rgba(255, 255, 255, 0.9)\",\"bordercolor\":\"black\",\"borderwidth\":1,\"font\":{\"color\":\"black\",\"size\":10},\"showarrow\":false,\"text\":\"Conceptual\",\"x\":0.4784053267623893,\"xref\":\"x\",\"y\":1.6,\"yref\":\"y\"},{\"bgcolor\":\"rgba(255, 255, 255, 0.9)\",\"bordercolor\":\"black\",\"borderwidth\":1,\"font\":{\"color\":\"black\",\"size\":10},\"showarrow\":false,\"text\":\"Theoretical\",\"x\":0.500845969296264,\"xref\":\"x\",\"y\":0.45,\"yref\":\"y\"},{\"bgcolor\":\"rgba(255, 255, 255, 0.9)\",\"bordercolor\":\"black\",\"borderwidth\":1,\"font\":{\"color\":\"black\",\"size\":10},\"showarrow\":false,\"text\":\"Abstract\",\"x\":0.5291383935286978,\"xref\":\"x\",\"y\":1.3,\"yref\":\"y\"},{\"bgcolor\":\"rgba(255, 255, 255, 0.9)\",\"bordercolor\":\"black\",\"borderwidth\":1,\"font\":{\"color\":\"black\",\"size\":10},\"showarrow\":false,\"text\":\"Iconoclastic\",\"x\":0.5522215804139935,\"xref\":\"x\",\"y\":0.75,\"yref\":\"y\"},{\"bgcolor\":\"rgba(255, 255, 255, 0.9)\",\"bordercolor\":\"black\",\"borderwidth\":1,\"font\":{\"color\":\"black\",\"size\":10},\"showarrow\":false,\"text\":\"Innovative\",\"x\":0.5820630610876834,\"xref\":\"x\",\"y\":1.75,\"yref\":\"y\"},{\"bgcolor\":\"rgba(255, 255, 255, 0.9)\",\"bordercolor\":\"black\",\"borderwidth\":1,\"font\":{\"color\":\"black\",\"size\":10},\"showarrow\":false,\"text\":\"Rebellious\",\"x\":0.6148001446837766,\"xref\":\"x\",\"y\":0.3,\"yref\":\"y\"},{\"bgcolor\":\"rgba(255, 255, 255, 0.9)\",\"bordercolor\":\"red\",\"borderwidth\":1,\"font\":{\"color\":\"red\",\"size\":14},\"showarrow\":false,\"text\":\"Assistant\",\"x\":0.08283165015393038,\"xref\":\"x\",\"y\":2,\"yref\":\"y\"},{\"bgcolor\":\"rgba(255, 255, 255, 0.9)\",\"bordercolor\":\"black\",\"borderwidth\":1,\"font\":{\"color\":\"black\",\"size\":10},\"showarrow\":false,\"text\":\"Traditional\",\"x\":-31.151800049621645,\"xref\":\"x2\",\"y\":1.45,\"yref\":\"y2\"},{\"bgcolor\":\"rgba(255, 255, 255, 0.9)\",\"bordercolor\":\"black\",\"borderwidth\":1,\"font\":{\"color\":\"black\",\"size\":10},\"showarrow\":false,\"text\":\"Grounded\",\"x\":-30.486466649074238,\"xref\":\"x2\",\"y\":0.6,\"yref\":\"y2\"},{\"bgcolor\":\"rgba(255, 255, 255, 0.9)\",\"bordercolor\":\"black\",\"borderwidth\":1,\"font\":{\"color\":\"black\",\"size\":10},\"showarrow\":false,\"text\":\"Practical\",\"x\":-29.785178962362853,\"xref\":\"x2\",\"y\":1.9,\"yref\":\"y2\"},{\"bgcolor\":\"rgba(255, 255, 255, 0.9)\",\"bordercolor\":\"black\",\"borderwidth\":1,\"font\":{\"color\":\"black\",\"size\":10},\"showarrow\":false,\"text\":\"Temperamental\",\"x\":-22.956850935540306,\"xref\":\"x2\",\"y\":0.15,\"yref\":\"y2\"},{\"bgcolor\":\"rgba(255, 255, 255, 0.9)\",\"bordercolor\":\"black\",\"borderwidth\":1,\"font\":{\"color\":\"black\",\"size\":10},\"showarrow\":false,\"text\":\"Manic\",\"x\":-22.187140139800537,\"xref\":\"x2\",\"y\":1.6,\"yref\":\"y2\"},{\"bgcolor\":\"rgba(255, 255, 255, 0.9)\",\"bordercolor\":\"black\",\"borderwidth\":1,\"font\":{\"color\":\"black\",\"size\":10},\"showarrow\":false,\"text\":\"Effusive\",\"x\":-22.04246217959698,\"xref\":\"x2\",\"y\":0.45,\"yref\":\"y2\"},{\"bgcolor\":\"rgba(255, 255, 255, 0.9)\",\"bordercolor\":\"black\",\"borderwidth\":1,\"font\":{\"color\":\"black\",\"size\":10},\"showarrow\":false,\"text\":\"Accessible\",\"x\":-21.40425497079015,\"xref\":\"x2\",\"y\":1.3,\"yref\":\"y2\"},{\"bgcolor\":\"rgba(255, 255, 255, 0.9)\",\"bordercolor\":\"black\",\"borderwidth\":1,\"font\":{\"color\":\"black\",\"size\":10},\"showarrow\":false,\"text\":\"Petty\",\"x\":-19.619291174502155,\"xref\":\"x2\",\"y\":0.75,\"yref\":\"y2\"},{\"bgcolor\":\"rgba(255, 255, 255, 0.9)\",\"bordercolor\":\"black\",\"borderwidth\":1,\"font\":{\"color\":\"black\",\"size\":10},\"showarrow\":false,\"text\":\"Naive\",\"x\":-18.921705236107137,\"xref\":\"x2\",\"y\":1.75,\"yref\":\"y2\"},{\"bgcolor\":\"rgba(255, 255, 255, 0.9)\",\"bordercolor\":\"black\",\"borderwidth\":1,\"font\":{\"color\":\"black\",\"size\":10},\"showarrow\":false,\"text\":\"Anxious\",\"x\":-18.455373522233284,\"xref\":\"x2\",\"y\":0.3,\"yref\":\"y2\"},{\"bgcolor\":\"rgba(255, 255, 255, 0.9)\",\"bordercolor\":\"black\",\"borderwidth\":1,\"font\":{\"color\":\"black\",\"size\":10},\"showarrow\":false,\"text\":\"Critical\",\"x\":21.95050126277659,\"xref\":\"x2\",\"y\":1.45,\"yref\":\"y2\"},{\"bgcolor\":\"rgba(255, 255, 255, 0.9)\",\"bordercolor\":\"black\",\"borderwidth\":1,\"font\":{\"color\":\"black\",\"size\":10},\"showarrow\":false,\"text\":\"Theoretical\",\"x\":22.522579577321075,\"xref\":\"x2\",\"y\":0.6,\"yref\":\"y2\"},{\"bgcolor\":\"rgba(255, 255, 255, 0.9)\",\"bordercolor\":\"black\",\"borderwidth\":1,\"font\":{\"color\":\"black\",\"size\":10},\"showarrow\":false,\"text\":\"Provocative\",\"x\":22.908922238114496,\"xref\":\"x2\",\"y\":1.9,\"yref\":\"y2\"},{\"bgcolor\":\"rgba(255, 255, 255, 0.9)\",\"bordercolor\":\"black\",\"borderwidth\":1,\"font\":{\"color\":\"black\",\"size\":10},\"showarrow\":false,\"text\":\"Contrarian\",\"x\":23.979646763006848,\"xref\":\"x2\",\"y\":0.15,\"yref\":\"y2\"},{\"bgcolor\":\"rgba(255, 255, 255, 0.9)\",\"bordercolor\":\"black\",\"borderwidth\":1,\"font\":{\"color\":\"black\",\"size\":10},\"showarrow\":false,\"text\":\"Iconoclastic\",\"x\":24.02581391490426,\"xref\":\"x2\",\"y\":1.6,\"yref\":\"y2\"},{\"bgcolor\":\"rgba(255, 255, 255, 0.9)\",\"bordercolor\":\"black\",\"borderwidth\":1,\"font\":{\"color\":\"black\",\"size\":10},\"showarrow\":false,\"text\":\"Conceptual\",\"x\":24.511239537666363,\"xref\":\"x2\",\"y\":0.45,\"yref\":\"y2\"},{\"bgcolor\":\"rgba(255, 255, 255, 0.9)\",\"bordercolor\":\"black\",\"borderwidth\":1,\"font\":{\"color\":\"black\",\"size\":10},\"showarrow\":false,\"text\":\"Innovative\",\"x\":25.324044117944933,\"xref\":\"x2\",\"y\":1.3,\"yref\":\"y2\"},{\"bgcolor\":\"rgba(255, 255, 255, 0.9)\",\"bordercolor\":\"black\",\"borderwidth\":1,\"font\":{\"color\":\"black\",\"size\":10},\"showarrow\":false,\"text\":\"Abstract\",\"x\":26.13877339719637,\"xref\":\"x2\",\"y\":0.75,\"yref\":\"y2\"},{\"bgcolor\":\"rgba(255, 255, 255, 0.9)\",\"bordercolor\":\"black\",\"borderwidth\":1,\"font\":{\"color\":\"black\",\"size\":10},\"showarrow\":false,\"text\":\"Esoteric\",\"x\":27.551325960424762,\"xref\":\"x2\",\"y\":1.75,\"yref\":\"y2\"},{\"bgcolor\":\"rgba(255, 255, 255, 0.9)\",\"bordercolor\":\"black\",\"borderwidth\":1,\"font\":{\"color\":\"black\",\"size\":10},\"showarrow\":false,\"text\":\"Rebellious\",\"x\":30.89372599198088,\"xref\":\"x2\",\"y\":0.3,\"yref\":\"y2\"},{\"bgcolor\":\"rgba(255, 255, 255, 0.9)\",\"bordercolor\":\"red\",\"borderwidth\":1,\"font\":{\"color\":\"red\",\"size\":14},\"showarrow\":false,\"text\":\"Assistant\",\"x\":4.796031653155734,\"xref\":\"x2\",\"y\":2,\"yref\":\"y2\"}],\"shapes\":[{\"line\":{\"color\":\"gray\",\"dash\":\"solid\",\"width\":1},\"opacity\":0.7,\"type\":\"line\",\"x0\":0,\"x1\":0,\"xref\":\"x\",\"y0\":0,\"y1\":1,\"yref\":\"y domain\"},{\"line\":{\"color\":\"red\",\"dash\":\"dash\",\"width\":1},\"opacity\":1.0,\"type\":\"line\",\"x0\":0.08283165015393038,\"x1\":0.08283165015393038,\"xref\":\"x\",\"y0\":0,\"y1\":1,\"yref\":\"y domain\"},{\"line\":{\"color\":\"gray\",\"dash\":\"solid\",\"width\":1},\"opacity\":0.7,\"type\":\"line\",\"x0\":0,\"x1\":0,\"xref\":\"x2\",\"y0\":0,\"y1\":1,\"yref\":\"y2 domain\"},{\"line\":{\"color\":\"red\",\"dash\":\"dash\",\"width\":1},\"opacity\":1.0,\"type\":\"line\",\"x0\":4.796031653155734,\"x1\":4.796031653155734,\"xref\":\"x2\",\"y0\":0,\"y1\":1,\"yref\":\"y2 domain\"}],\"title\":{\"subtitle\":{\"text\":\"Gemma 3 27B, Layer 32 - Shared Question Set, Mean-Centered and Scaled Vectors\"},\"font\":{\"size\":16},\"text\":\"PCA on Trait Vectors\",\"x\":0.5},\"height\":800,\"width\":1200,\"showlegend\":false},                        {\"responsive\": true}                    ).then(function(){\n",
       "                            \n",
       "var gd = document.getElementById('d1037020-6afe-469d-a96b-bc60aabac178');\n",
       "var x = new MutationObserver(function (mutations, observer) {{\n",
       "        var display = window.getComputedStyle(gd).display;\n",
       "        if (!display || display === 'none') {{\n",
       "            console.log([gd, 'removed!']);\n",
       "            Plotly.purge(gd);\n",
       "            observer.disconnect();\n",
       "        }}\n",
       "}});\n",
       "\n",
       "// Listen for the removal of the full notebook cells\n",
       "var notebookContainer = gd.closest('#notebook-container');\n",
       "if (notebookContainer) {{\n",
       "    x.observe(notebookContainer, {childList: true});\n",
       "}}\n",
       "\n",
       "// Listen for the clearing of the current output cell\n",
       "var outputEl = gd.closest('.output');\n",
       "if (outputEl) {{\n",
       "    x.observe(outputEl, {childList: true});\n",
       "}}\n",
       "\n",
       "                        })                };                });            </script>        </div>"
      ]
     },
     "metadata": {},
     "output_type": "display_data"
    },
    {
     "data": {
      "application/vnd.plotly.v1+json": {
       "config": {
        "plotlyServerURL": "https://plot.ly"
       },
       "data": [
        {
         "hovertemplate": "<b>%{text}</b><br>Cosine Similarity: %{x:.3f}<extra></extra>",
         "marker": {
          "color": "limegreen",
          "line": {
           "color": "black",
           "width": 1
          },
          "opacity": 1,
          "size": 8,
          "symbol": "diamond"
         },
         "mode": "markers",
         "showlegend": false,
         "text": [
          "Witty",
          "Whimsical",
          "Visceral",
          "Vindictive",
          "Verbose",
          "Utilitarian",
          "Universalist",
          "Understated",
          "Transparent",
          "Traditional",
          "Theoretical",
          "Theatrical",
          "Temperamental",
          "Technical",
          "Tactful",
          "Systems thinker",
          "Sycophantic",
          "Supportive",
          "Submissive",
          "Structuralist",
          "Stream of consciousness",
          "Strategic",
          "Stoic",
          "Spontaneous",
          "Spiritual",
          "Speculative",
          "Specialized",
          "Solemn",
          "Socratic",
          "Skeptical",
          "Serious",
          "Serene",
          "Secular",
          "Savage",
          "Sassy",
          "Sardonic",
          "Sarcastic",
          "Romantic",
          "Ritualistic",
          "Risk taking",
          "Rhetorical",
          "Reverent",
          "Reserved",
          "Relativist",
          "Regulatory",
          "Reductionist",
          "Rebellious",
          "Reactive",
          "Rationalist",
          "Radical",
          "Quantitative",
          "Qualitative",
          "Provocative",
          "Progressive",
          "Problem solving",
          "Proactive",
          "Principled",
          "Practical",
          "Poetic",
          "Pluralist",
          "Playful",
          "Philosophical",
          "Petty",
          "Pessimistic",
          "Perfectionist",
          "Pensive",
          "Pedantic",
          "Patient",
          "Passive aggressive",
          "Passionate",
          "Paranoid",
          "Paradoxical",
          "Pacifist",
          "Obsessive",
          "Nurturing",
          "Nostalgic",
          "Nonchalant",
          "Nihilistic",
          "Narrative",
          "Naive",
          "Mystical",
          "Moderate",
          "Mischievous",
          "Misanthropic",
          "Militant",
          "Meticulous",
          "Methodical",
          "Metaphorical",
          "Mercurial",
          "Melodramatic",
          "Meditative",
          "Materialist",
          "Manipulative",
          "Manic",
          "Literal",
          "Libertarian",
          "Judgmental",
          "Irreverent",
          "Intuitive",
          "Introverted",
          "Introspective",
          "Interdisciplinary",
          "Inquisitive",
          "Innovative",
          "Individualistic",
          "Independent",
          "Inclusive",
          "Impulsive",
          "Improvisational",
          "Impatient",
          "Idealistic",
          "Iconoclastic",
          "Humanistic",
          "Hostile",
          "Holistic",
          "Historical",
          "Hedonistic",
          "Grounded",
          "Gregarious",
          "Grandiose",
          "Goofy",
          "Generous",
          "Generalist",
          "Futuristic",
          "Fundamentalist",
          "Formalist",
          "Formal",
          "Forgiving",
          "Flirty",
          "Flippant",
          "Flexible",
          "Fatalistic",
          "Factual",
          "Exploratory",
          "Experiential",
          "Existentialist",
          "Evil",
          "Ethereal",
          "Essentialist",
          "Esoteric",
          "Erudite",
          "Epicurean",
          "Environmental",
          "Entertaining",
          "Enigmatic",
          "Empathetic",
          "Emotional",
          "Eloquent",
          "Elitist",
          "Egalitarian",
          "Effusive",
          "Efficient",
          "Educational",
          "Edgy",
          "Eclectic",
          "Earnest",
          "Dramatic",
          "Dominant",
          "Dogmatic",
          "Divergent",
          "Dispassionate",
          "Diplomatic",
          "Deterministic",
          "Detached",
          "Descriptive",
          "Deontological",
          "Deferential",
          "Deconstructionist",
          "Data driven",
          "Cynical",
          "Curious",
          "Cryptic",
          "Cruel",
          "Critical",
          "Creative",
          "Cosmopolitan",
          "Convergent",
          "Contrarian",
          "Contemporary",
          "Constructivist",
          "Conscientious",
          "Confrontational",
          "Confident",
          "Condescending",
          "Concise",
          "Conciliatory",
          "Conceptual",
          "Competitive",
          "Collectivistic",
          "Collaborative",
          "Closure seeking",
          "Circumspect",
          "Chill",
          "Charismatic",
          "Chaotic",
          "Challenging",
          "Casual",
          "Calm",
          "Callous",
          "Calculating",
          "Bombastic",
          "Blunt",
          "Bitter",
          "Big picture",
          "Benevolent",
          "Avoidant",
          "Ascetic",
          "Artistic",
          "Arrogant",
          "Anthropocentric",
          "Animated",
          "Analytical",
          "Altruistic",
          "Agreeable",
          "Adaptable",
          "Acerbic",
          "Accommodating",
          "Accessible",
          "Abstract",
          "Absolutist"
         ],
         "type": "scatter",
         "x": [
          -0.001969458302557499,
          -0.026678059466294774,
          -0.06515492773064283,
          0.04178320014054634,
          0.044823530551997365,
          0.08954936672678822,
          -0.21674443158141765,
          0.17066080756608332,
          0.054363504246326515,
          0.0592193747700434,
          0.19648423751789457,
          -0.09922512449011395,
          0.09282682358265858,
          0.07855460694128685,
          0.1912656105955612,
          -0.04395717317516919,
          -0.027795180171087907,
          -0.04453705570531252,
          0.09653755169281485,
          -0.012717985788232095,
          0.2477700945354719,
          -0.006939472532758616,
          0.01389172400415319,
          -0.022663812952897475,
          -0.18576122115574298,
          0.06843402598427399,
          0.01015237542034135,
          -0.1174387021633557,
          0.08614471205833434,
          0.11968452029945299,
          -0.03324259886057907,
          -0.07356977389260838,
          0.06854487412649397,
          -0.05379780802858337,
          -0.2688417163058105,
          0.1652158861808842,
          0.03765818873772949,
          -0.18939636625928685,
          0.07024401443100059,
          -0.2586560712528746,
          -0.11943657379119299,
          -0.11549706234903548,
          -0.01118660065014088,
          0.2947153290925414,
          0.18701616258236106,
          0.05357600601208186,
          -0.06892264915261817,
          -0.0006081639520578111,
          0.10595036611639891,
          -0.1080943531755969,
          0.03487200508109002,
          -0.0249498804853704,
          0.059130228029682964,
          -0.26215348369005537,
          -0.12385326973177221,
          0.021274297387303145,
          -0.17987898948674821,
          -0.24109939908114808,
          -0.062325969644340076,
          0.2320242569078548,
          -0.060891603536148274,
          0.0715579073353885,
          0.2761032106279416,
          0.2881611433950426,
          0.006241895719891025,
          0.025169724885811765,
          0.16819399495391893,
          0.033043676563943365,
          0.19276298081270207,
          -0.2122622359400552,
          0.17106989711399742,
          0.21383696724725018,
          -0.027924096020721448,
          0.22420265442225246,
          -0.05204704004033574,
          0.07876605951511784,
          0.0655056445052945,
          0.2599462449171033,
          -0.01650843130739666,
          -0.03340527436361409,
          -0.12074138352845028,
          0.2896707202628378,
          0.1233355256080619,
          0.20850523097407633,
          -0.29842736372890466,
          0.034827287007296655,
          -0.10225544517478696,
          -0.05419788948669823,
          0.17049810730070789,
          -0.1280894325529221,
          0.048309839893994524,
          0.08876237504569875,
          0.1810588993265798,
          -0.06668941965764003,
          0.002215900820274581,
          -0.19273222042915378,
          -0.07322967465036549,
          0.04936891604118294,
          -0.19398056534072522,
          0.08973252192932156,
          0.12406816729285171,
          -0.036172875712917094,
          0.09561945115279352,
          -0.3010469911823538,
          -0.14819833135409322,
          -0.2223099775085185,
          0.05416867713847336,
          -0.034034829378878924,
          0.013293087855752355,
          -0.06158638916943167,
          -0.29850258707945204,
          0.058777585033666285,
          -0.041385611401517676,
          -0.031046139284773726,
          -0.002665986054990797,
          0.10157997299462528,
          0.020754107365740754,
          -0.050708102773660155,
          -0.015394375606567166,
          -0.2774353731477426,
          0.0955855249669142,
          -0.1268722130229963,
          -0.033307016023235346,
          -0.1582382104081796,
          -0.0783756512897796,
          0.13307784558781727,
          -0.0287607377973176,
          -0.016718544125520846,
          -0.02656618388471835,
          0.032395870924225766,
          0.08838148600084628,
          0.21361526924652435,
          0.05303098591355491,
          0.04928810357551924,
          -0.15071612997199232,
          -0.2299552638304912,
          0.16697240602146807,
          0.0615349094267221,
          -0.2283485481529785,
          0.07868323004753937,
          0.06422353358069155,
          -0.05777888703774615,
          -0.08139568857942509,
          -0.07118003470770502,
          0.1298879464552413,
          0.03174353846063417,
          0.0056161094705341405,
          -0.03455494240055494,
          -0.0877230005543378,
          -0.17240986877474707,
          -0.09735879716723643,
          -0.04281246021530945,
          -0.07772440860340514,
          0.06198436745585162,
          0.03228133010608085,
          -0.19652054281142428,
          -0.09787334021834121,
          -0.20671213042863992,
          -0.08798802199740542,
          0.06270675971819262,
          0.08469355830355216,
          0.19889659929700704,
          0.14177574209664795,
          0.06954249494960743,
          0.22302746238303311,
          -0.06353884275249423,
          0.29675350756339275,
          0.13621382344378705,
          0.07536766668986858,
          0.24025694528254712,
          -0.021940879707406703,
          0.10760197938033218,
          0.007878426541780033,
          0.12153115088246622,
          -0.047370396197018695,
          0.04300434155398834,
          -0.19935249986509032,
          0.05683000737710982,
          -0.005596532203304535,
          0.16405612650031398,
          -0.05454732079836732,
          -0.3048638363164281,
          -0.21757537921579356,
          0.030477011275416476,
          -0.024492214634742934,
          0.055075303174982757,
          0.13097157230841666,
          -0.16195939334412385,
          0.05184083554846817,
          0.1488021659141494,
          -0.28068892417767427,
          0.21572359593746157,
          0.08554010408258533,
          -0.1724056540191891,
          0.14375905496681976,
          0.09187247377442406,
          0.03029776746119423,
          -0.01721710363605896,
          -0.01668586177887137,
          0.02304310161139619,
          -0.12621047356361959,
          -0.14328620312863682,
          0.13640320037677497,
          -0.058238466419153215,
          -0.05381233784314158,
          0.15128512731744417,
          0.04207426498022685,
          -0.07783772238197148,
          -0.14029387375570287,
          -0.0720721516077558,
          -0.2669061712217633,
          0.03615159565011522,
          -0.06747439806253741,
          0.08972546716256159,
          0.03615451004338403,
          0.03964402613640574,
          0.2826693517764803,
          -0.07204137480412469,
          0.09768626024055162,
          -0.2877461655353023
         ],
         "xaxis": "x",
         "y": [
          1,
          1,
          1,
          1,
          1,
          1,
          1,
          1,
          1,
          1,
          1,
          1,
          1,
          1,
          1,
          1,
          1,
          1,
          1,
          1,
          1,
          1,
          1,
          1,
          1,
          1,
          1,
          1,
          1,
          1,
          1,
          1,
          1,
          1,
          1,
          1,
          1,
          1,
          1,
          1,
          1,
          1,
          1,
          1,
          1,
          1,
          1,
          1,
          1,
          1,
          1,
          1,
          1,
          1,
          1,
          1,
          1,
          1,
          1,
          1,
          1,
          1,
          1,
          1,
          1,
          1,
          1,
          1,
          1,
          1,
          1,
          1,
          1,
          1,
          1,
          1,
          1,
          1,
          1,
          1,
          1,
          1,
          1,
          1,
          1,
          1,
          1,
          1,
          1,
          1,
          1,
          1,
          1,
          1,
          1,
          1,
          1,
          1,
          1,
          1,
          1,
          1,
          1,
          1,
          1,
          1,
          1,
          1,
          1,
          1,
          1,
          1,
          1,
          1,
          1,
          1,
          1,
          1,
          1,
          1,
          1,
          1,
          1,
          1,
          1,
          1,
          1,
          1,
          1,
          1,
          1,
          1,
          1,
          1,
          1,
          1,
          1,
          1,
          1,
          1,
          1,
          1,
          1,
          1,
          1,
          1,
          1,
          1,
          1,
          1,
          1,
          1,
          1,
          1,
          1,
          1,
          1,
          1,
          1,
          1,
          1,
          1,
          1,
          1,
          1,
          1,
          1,
          1,
          1,
          1,
          1,
          1,
          1,
          1,
          1,
          1,
          1,
          1,
          1,
          1,
          1,
          1,
          1,
          1,
          1,
          1,
          1,
          1,
          1,
          1,
          1,
          1,
          1,
          1,
          1,
          1,
          1,
          1,
          1,
          1,
          1,
          1,
          1,
          1,
          1,
          1,
          1,
          1,
          1,
          1,
          1,
          1,
          1,
          1,
          1,
          1,
          1,
          1,
          1,
          1
         ],
         "yaxis": "y"
        },
        {
         "hovertemplate": "<b>%{text}</b><br>Cosine Similarity: %{x:.3f}<extra></extra>",
         "marker": {
          "color": "limegreen",
          "line": {
           "color": "black",
           "width": 1
          },
          "opacity": 1,
          "size": 8,
          "symbol": "diamond"
         },
         "mode": "markers",
         "showlegend": false,
         "text": [
          "Zealous",
          "Wry",
          "Urgent",
          "Subversive",
          "Resilient",
          "Prescriptive",
          "Optimistic",
          "Open ended",
          "Neurotic",
          "Melancholic",
          "Ironic",
          "Inspirational",
          "Humble",
          "Extroverted",
          "Disorganized",
          "Decisive",
          "Cautious",
          "Assertive",
          "Anxious",
          "Adventurous"
         ],
         "type": "scatter",
         "x": [
          -0.37095352628231626,
          0.3487597774159858,
          -0.3402330439990452,
          0.36195155277875507,
          -0.31338542527329616,
          -0.363857293534385,
          -0.4741315067121247,
          0.5564171602842221,
          0.4525441483308907,
          0.41137183735380256,
          0.3306802870740607,
          -0.4655694716803394,
          0.3417967748798025,
          -0.3365291797195675,
          0.30585157147123465,
          -0.40823274052016095,
          0.36591862096333516,
          -0.49473060103780697,
          0.4944666699749372,
          -0.40976244603858436
         ],
         "xaxis": "x",
         "y": [
          1,
          1,
          1,
          1,
          1,
          1,
          1,
          1,
          1,
          1,
          1,
          1,
          1,
          1,
          1,
          1,
          1,
          1,
          1,
          1
         ],
         "yaxis": "y"
        },
        {
         "hoverinfo": "skip",
         "line": {
          "color": "black",
          "width": 1
         },
         "mode": "lines",
         "showlegend": false,
         "type": "scatter",
         "x": [
          -0.49473060103780697,
          -0.49473060103780697
         ],
         "xaxis": "x",
         "y": [
          1,
          1.45
         ],
         "yaxis": "y"
        },
        {
         "hoverinfo": "skip",
         "line": {
          "color": "black",
          "width": 1
         },
         "mode": "lines",
         "showlegend": false,
         "type": "scatter",
         "x": [
          -0.4741315067121247,
          -0.4741315067121247
         ],
         "xaxis": "x",
         "y": [
          1,
          0.6
         ],
         "yaxis": "y"
        },
        {
         "hoverinfo": "skip",
         "line": {
          "color": "black",
          "width": 1
         },
         "mode": "lines",
         "showlegend": false,
         "type": "scatter",
         "x": [
          -0.4655694716803394,
          -0.4655694716803394
         ],
         "xaxis": "x",
         "y": [
          1,
          1.9
         ],
         "yaxis": "y"
        },
        {
         "hoverinfo": "skip",
         "line": {
          "color": "black",
          "width": 1
         },
         "mode": "lines",
         "showlegend": false,
         "type": "scatter",
         "x": [
          -0.40976244603858436,
          -0.40976244603858436
         ],
         "xaxis": "x",
         "y": [
          1,
          0.15
         ],
         "yaxis": "y"
        },
        {
         "hoverinfo": "skip",
         "line": {
          "color": "black",
          "width": 1
         },
         "mode": "lines",
         "showlegend": false,
         "type": "scatter",
         "x": [
          -0.40823274052016095,
          -0.40823274052016095
         ],
         "xaxis": "x",
         "y": [
          1,
          1.6
         ],
         "yaxis": "y"
        },
        {
         "hoverinfo": "skip",
         "line": {
          "color": "black",
          "width": 1
         },
         "mode": "lines",
         "showlegend": false,
         "type": "scatter",
         "x": [
          -0.37095352628231626,
          -0.37095352628231626
         ],
         "xaxis": "x",
         "y": [
          1,
          0.45
         ],
         "yaxis": "y"
        },
        {
         "hoverinfo": "skip",
         "line": {
          "color": "black",
          "width": 1
         },
         "mode": "lines",
         "showlegend": false,
         "type": "scatter",
         "x": [
          -0.363857293534385,
          -0.363857293534385
         ],
         "xaxis": "x",
         "y": [
          1,
          1.3
         ],
         "yaxis": "y"
        },
        {
         "hoverinfo": "skip",
         "line": {
          "color": "black",
          "width": 1
         },
         "mode": "lines",
         "showlegend": false,
         "type": "scatter",
         "x": [
          -0.3402330439990452,
          -0.3402330439990452
         ],
         "xaxis": "x",
         "y": [
          1,
          0.75
         ],
         "yaxis": "y"
        },
        {
         "hoverinfo": "skip",
         "line": {
          "color": "black",
          "width": 1
         },
         "mode": "lines",
         "showlegend": false,
         "type": "scatter",
         "x": [
          -0.3365291797195675,
          -0.3365291797195675
         ],
         "xaxis": "x",
         "y": [
          1,
          1.75
         ],
         "yaxis": "y"
        },
        {
         "hoverinfo": "skip",
         "line": {
          "color": "black",
          "width": 1
         },
         "mode": "lines",
         "showlegend": false,
         "type": "scatter",
         "x": [
          -0.31338542527329616,
          -0.31338542527329616
         ],
         "xaxis": "x",
         "y": [
          1,
          0.3
         ],
         "yaxis": "y"
        },
        {
         "hoverinfo": "skip",
         "line": {
          "color": "black",
          "width": 1
         },
         "mode": "lines",
         "showlegend": false,
         "type": "scatter",
         "x": [
          0.30585157147123465,
          0.30585157147123465
         ],
         "xaxis": "x",
         "y": [
          1,
          1.45
         ],
         "yaxis": "y"
        },
        {
         "hoverinfo": "skip",
         "line": {
          "color": "black",
          "width": 1
         },
         "mode": "lines",
         "showlegend": false,
         "type": "scatter",
         "x": [
          0.3306802870740607,
          0.3306802870740607
         ],
         "xaxis": "x",
         "y": [
          1,
          0.6
         ],
         "yaxis": "y"
        },
        {
         "hoverinfo": "skip",
         "line": {
          "color": "black",
          "width": 1
         },
         "mode": "lines",
         "showlegend": false,
         "type": "scatter",
         "x": [
          0.3417967748798025,
          0.3417967748798025
         ],
         "xaxis": "x",
         "y": [
          1,
          1.9
         ],
         "yaxis": "y"
        },
        {
         "hoverinfo": "skip",
         "line": {
          "color": "black",
          "width": 1
         },
         "mode": "lines",
         "showlegend": false,
         "type": "scatter",
         "x": [
          0.3487597774159858,
          0.3487597774159858
         ],
         "xaxis": "x",
         "y": [
          1,
          0.15
         ],
         "yaxis": "y"
        },
        {
         "hoverinfo": "skip",
         "line": {
          "color": "black",
          "width": 1
         },
         "mode": "lines",
         "showlegend": false,
         "type": "scatter",
         "x": [
          0.36195155277875507,
          0.36195155277875507
         ],
         "xaxis": "x",
         "y": [
          1,
          1.6
         ],
         "yaxis": "y"
        },
        {
         "hoverinfo": "skip",
         "line": {
          "color": "black",
          "width": 1
         },
         "mode": "lines",
         "showlegend": false,
         "type": "scatter",
         "x": [
          0.36591862096333516,
          0.36591862096333516
         ],
         "xaxis": "x",
         "y": [
          1,
          0.45
         ],
         "yaxis": "y"
        },
        {
         "hoverinfo": "skip",
         "line": {
          "color": "black",
          "width": 1
         },
         "mode": "lines",
         "showlegend": false,
         "type": "scatter",
         "x": [
          0.41137183735380256,
          0.41137183735380256
         ],
         "xaxis": "x",
         "y": [
          1,
          1.3
         ],
         "yaxis": "y"
        },
        {
         "hoverinfo": "skip",
         "line": {
          "color": "black",
          "width": 1
         },
         "mode": "lines",
         "showlegend": false,
         "type": "scatter",
         "x": [
          0.4525441483308907,
          0.4525441483308907
         ],
         "xaxis": "x",
         "y": [
          1,
          0.75
         ],
         "yaxis": "y"
        },
        {
         "hoverinfo": "skip",
         "line": {
          "color": "black",
          "width": 1
         },
         "mode": "lines",
         "showlegend": false,
         "type": "scatter",
         "x": [
          0.4944666699749372,
          0.4944666699749372
         ],
         "xaxis": "x",
         "y": [
          1,
          1.75
         ],
         "yaxis": "y"
        },
        {
         "hoverinfo": "skip",
         "line": {
          "color": "black",
          "width": 1
         },
         "mode": "lines",
         "showlegend": false,
         "type": "scatter",
         "x": [
          0.5564171602842221,
          0.5564171602842221
         ],
         "xaxis": "x",
         "y": [
          1,
          0.3
         ],
         "yaxis": "y"
        },
        {
         "hoverinfo": "skip",
         "marker": {
          "color": "limegreen"
         },
         "opacity": 0.7,
         "showlegend": false,
         "type": "bar",
         "width": 0.028030606968587436,
         "x": [
          -0.4772114716824398,
          -0.44217321297170553,
          -0.40713495426097124,
          -0.37209669555023694,
          -0.33705843683950265,
          -0.30202017812876836,
          -0.266981919418034,
          -0.23194366070729971,
          -0.19690540199656542,
          -0.16186714328583113,
          -0.12682888457509683,
          -0.09179062586436251,
          -0.05675236715362819,
          -0.021714108442893898,
          0.013324150267840396,
          0.04836240897857469,
          0.08340066768930898,
          0.11843892640004328,
          0.15347718511077757,
          0.18851544382151186,
          0.22355370253224616,
          0.25859196124298045,
          0.29363021995371474,
          0.3286684786644491,
          0.36370673737518344,
          0.39874499608591774,
          0.43378325479665203,
          0.4688215135073863,
          0.5038597722181206,
          0.5388980309288549
         ],
         "xaxis": "x",
         "y": [
          0.084375,
          0,
          0.05625,
          0.05625,
          0.05625,
          0.16875,
          0.16875,
          0.16875,
          0.253125,
          0.16875,
          0.28125,
          0.309375,
          0.7312500000000001,
          0.703125,
          0.45,
          0.9,
          0.646875,
          0.28125,
          0.3375,
          0.196875,
          0.225,
          0.084375,
          0.16875,
          0.05625,
          0.084375,
          0.028125,
          0,
          0.028125,
          0.028125,
          0.028125
         ],
         "yaxis": "y"
        },
        {
         "hovertemplate": "<b>%{text}</b><br>PC Projection: %{x:.3f}<extra></extra>",
         "marker": {
          "color": "limegreen",
          "line": {
           "color": "black",
           "width": 1
          },
          "opacity": 1,
          "size": 8,
          "symbol": "diamond"
         },
         "mode": "markers",
         "showlegend": false,
         "text": [
          "Wry",
          "Witty",
          "Whimsical",
          "Visceral",
          "Vindictive",
          "Verbose",
          "Utilitarian",
          "Urgent",
          "Universalist",
          "Transparent",
          "Traditional",
          "Theoretical",
          "Theatrical",
          "Temperamental",
          "Technical",
          "Tactful",
          "Systems thinker",
          "Sycophantic",
          "Supportive",
          "Subversive",
          "Submissive",
          "Structuralist",
          "Stream of consciousness",
          "Strategic",
          "Stoic",
          "Spontaneous",
          "Spiritual",
          "Speculative",
          "Specialized",
          "Solemn",
          "Socratic",
          "Skeptical",
          "Serious",
          "Serene",
          "Secular",
          "Savage",
          "Sassy",
          "Sardonic",
          "Sarcastic",
          "Romantic",
          "Ritualistic",
          "Risk taking",
          "Rhetorical",
          "Reverent",
          "Resilient",
          "Reserved",
          "Relativist",
          "Regulatory",
          "Reductionist",
          "Rebellious",
          "Reactive",
          "Rationalist",
          "Radical",
          "Quantitative",
          "Qualitative",
          "Provocative",
          "Progressive",
          "Problem solving",
          "Proactive",
          "Principled",
          "Practical",
          "Poetic",
          "Pluralist",
          "Playful",
          "Philosophical",
          "Petty",
          "Perfectionist",
          "Pensive",
          "Pedantic",
          "Patient",
          "Passive aggressive",
          "Passionate",
          "Paranoid",
          "Paradoxical",
          "Pacifist",
          "Obsessive",
          "Nurturing",
          "Nostalgic",
          "Nonchalant",
          "Narrative",
          "Naive",
          "Mystical",
          "Moderate",
          "Mischievous",
          "Misanthropic",
          "Militant",
          "Meticulous",
          "Methodical",
          "Metaphorical",
          "Mercurial",
          "Melodramatic",
          "Meditative",
          "Materialist",
          "Manipulative",
          "Manic",
          "Literal",
          "Libertarian",
          "Judgmental",
          "Irreverent",
          "Ironic",
          "Intuitive",
          "Introverted",
          "Introspective",
          "Interdisciplinary",
          "Inquisitive",
          "Innovative",
          "Individualistic",
          "Independent",
          "Inclusive",
          "Impulsive",
          "Improvisational",
          "Impatient",
          "Idealistic",
          "Iconoclastic",
          "Humanistic",
          "Hostile",
          "Holistic",
          "Historical",
          "Hedonistic",
          "Grounded",
          "Gregarious",
          "Grandiose",
          "Goofy",
          "Generous",
          "Generalist",
          "Futuristic",
          "Fundamentalist",
          "Formalist",
          "Formal",
          "Forgiving",
          "Flirty",
          "Flippant",
          "Flexible",
          "Fatalistic",
          "Factual",
          "Extroverted",
          "Exploratory",
          "Experiential",
          "Existentialist",
          "Evil",
          "Ethereal",
          "Essentialist",
          "Esoteric",
          "Erudite",
          "Epicurean",
          "Environmental",
          "Entertaining",
          "Enigmatic",
          "Empathetic",
          "Emotional",
          "Eloquent",
          "Elitist",
          "Egalitarian",
          "Effusive",
          "Efficient",
          "Educational",
          "Edgy",
          "Eclectic",
          "Earnest",
          "Dramatic",
          "Dominant",
          "Dogmatic",
          "Divergent",
          "Dispassionate",
          "Diplomatic",
          "Deterministic",
          "Detached",
          "Descriptive",
          "Deontological",
          "Deferential",
          "Deconstructionist",
          "Data driven",
          "Cynical",
          "Curious",
          "Cryptic",
          "Cruel",
          "Critical",
          "Creative",
          "Cosmopolitan",
          "Convergent",
          "Contrarian",
          "Contemporary",
          "Constructivist",
          "Conscientious",
          "Confrontational",
          "Condescending",
          "Concise",
          "Conciliatory",
          "Conceptual",
          "Competitive",
          "Collectivistic",
          "Collaborative",
          "Circumspect",
          "Chill",
          "Charismatic",
          "Chaotic",
          "Challenging",
          "Casual",
          "Calm",
          "Callous",
          "Calculating",
          "Bombastic",
          "Blunt",
          "Bitter",
          "Big picture",
          "Benevolent",
          "Avoidant",
          "Ascetic",
          "Artistic",
          "Arrogant",
          "Anthropocentric",
          "Analytical",
          "Altruistic",
          "Agreeable",
          "Adaptable",
          "Acerbic",
          "Accommodating",
          "Accessible",
          "Abstract",
          "Absolutist"
         ],
         "type": "scatter",
         "x": [
          14.676855165392647,
          -0.15672679311520543,
          -1.2913664139718206,
          -5.584571421975122,
          1.823186059354288,
          4.575991019508743,
          3.9646661263541567,
          -17.50437651154052,
          -11.85782221285544,
          6.251977974426123,
          3.786687730645994,
          8.835714312323272,
          -12.535299415736791,
          6.078570598017821,
          3.992609816442401,
          9.103940693725391,
          -2.547734268117093,
          -3.5614466730718477,
          -4.902421118699677,
          13.506131925168823,
          8.639110684345928,
          -0.6104219431529365,
          10.862570814154273,
          -0.6489668421226862,
          1.033578219570016,
          -0.9792919364577144,
          -12.013873647110895,
          3.4070004892519448,
          0.6716538187936668,
          -4.9980439678564625,
          7.908191307954215,
          11.145211879709132,
          -2.0949462177575926,
          -3.6350376114527077,
          4.193159413674693,
          -5.0187076861523545,
          -9.450387684563726,
          11.14320720620042,
          3.279217074609387,
          -12.28288868485463,
          4.2258516677333295,
          -10.265573714065715,
          -11.191128154893825,
          -5.597123226429897,
          -16.799693820990363,
          -1.5601786132418363,
          16.21314308839688,
          9.319891852861458,
          2.4692380163642027,
          -3.4633652225921656,
          -0.07855116310824779,
          5.371005821080267,
          -5.15343774730107,
          1.989646893267468,
          -1.4183870576033517,
          4.25063973093732,
          -11.604991798067255,
          -9.666772670898565,
          3.058806170679573,
          -7.181328116320041,
          -15.057573677430936,
          -3.9721484168746346,
          8.77493523478363,
          -2.7486592476075318,
          6.165071964641509,
          15.335119075356872,
          0.5151410112686611,
          2.8663159564866807,
          11.427141446627317,
          2.082117287383176,
          14.541404410242722,
          -17.350277476619315,
          7.269543333169356,
          8.646729762417523,
          -1.3439474798711004,
          10.898600603262595,
          -5.131802006019206,
          4.2195573756658575,
          8.551978966704091,
          -0.9685981613440806,
          -3.9161980941734456,
          -7.2956602453988975,
          13.60764080321322,
          5.823040801092276,
          13.71700418037406,
          -17.372452750553695,
          4.131417226725731,
          -5.178386919766048,
          -5.2869286424126365,
          8.484505202011782,
          -11.343455175997823,
          4.99062846426745,
          4.819187420698267,
          10.311860444522026,
          -4.226476832817981,
          0.27969420500402886,
          -10.335058031174773,
          -4.146765513001964,
          3.8685690036692,
          14.867538026713294,
          -10.045326448646602,
          4.009368529491916,
          15.723517047181025,
          -1.1903907050246134,
          5.583557068438268,
          -13.097768569204808,
          -4.630931021753255,
          -8.6679741127411,
          3.1981447897885262,
          -5.899420230022361,
          0.841721654577178,
          -7.925766895869445,
          -15.467728648091539,
          2.557269385869712,
          -2.1324172731564563,
          -3.3093523600728476,
          -0.16637253758988535,
          4.967859908386309,
          1.6360113163402528,
          -2.8132462011245782,
          -0.919308237147028,
          -11.636025426253143,
          5.541606378014447,
          -9.04295859074827,
          -1.2568988014208082,
          -7.249009717837998,
          -8.530818201446044,
          6.651096201368897,
          -1.2681456177990498,
          -0.7441247484406632,
          -1.497029097604329,
          4.442950129652671,
          5.1360757523276375,
          14.710685145975544,
          2.5365024772161004,
          -13.161892654283704,
          4.661241304102296,
          -7.3533199343772635,
          -11.69851268476984,
          10.377131371439605,
          3.96018495075755,
          -13.145533671316846,
          4.9701614120830895,
          5.572991229071392,
          -3.884234092879747,
          -4.248123413556059,
          -4.224514544868305,
          8.502995024505156,
          2.7332854925632764,
          0.403761649302935,
          -4.1217765338052725,
          -5.370061485099287,
          -7.883694191013946,
          -8.981037071728773,
          -6.363382742126527,
          -6.438489896020959,
          2.9412580664514376,
          1.976080836196874,
          -14.688906056299455,
          -11.561625040153768,
          -12.335762248300997,
          -8.13111714258624,
          7.37004541450301,
          7.405012449192246,
          9.497729929586734,
          8.795575258634965,
          5.351339314406529,
          14.810676124902773,
          -3.467666331963577,
          12.514335999341515,
          12.221616771437684,
          4.254624090797376,
          12.552752682248606,
          -1.7776562406734018,
          4.848863896763312,
          0.7803199806130766,
          8.418611702252099,
          -3.6914701528742904,
          2.0526764168816256,
          -7.877645814358877,
          2.864519708963191,
          -0.29923161668987147,
          8.987634566796778,
          -5.094582043358277,
          -11.365109449398938,
          1.9067634557004678,
          -3.8564852180660387,
          2.439736777563304,
          6.710367562284117,
          -10.471670940484323,
          2.3616124596790935,
          7.097755024220785,
          17.901506737161938,
          3.9725264044932627,
          -17.12492897817632,
          6.361425363675659,
          6.754861359948278,
          1.1942181526551987,
          -1.0274092813226574,
          -2.4022126358295415,
          2.5039821783098417,
          -10.117750379503043,
          -10.302280406575782,
          8.739472714584128,
          -2.66619779718687,
          -2.7176449778087735,
          10.475577458657435,
          2.3537856981354244,
          -5.131976436613183,
          -11.41036220934303,
          -2.9929317942849423,
          3.7971308278030422,
          -3.277412656226781,
          6.938401385066658,
          4.38125782254647,
          3.044672297624997,
          9.032111427684834,
          -4.330623014510879,
          4.825578799582643,
          -15.943745959414686
         ],
         "xaxis": "x2",
         "y": [
          1,
          1,
          1,
          1,
          1,
          1,
          1,
          1,
          1,
          1,
          1,
          1,
          1,
          1,
          1,
          1,
          1,
          1,
          1,
          1,
          1,
          1,
          1,
          1,
          1,
          1,
          1,
          1,
          1,
          1,
          1,
          1,
          1,
          1,
          1,
          1,
          1,
          1,
          1,
          1,
          1,
          1,
          1,
          1,
          1,
          1,
          1,
          1,
          1,
          1,
          1,
          1,
          1,
          1,
          1,
          1,
          1,
          1,
          1,
          1,
          1,
          1,
          1,
          1,
          1,
          1,
          1,
          1,
          1,
          1,
          1,
          1,
          1,
          1,
          1,
          1,
          1,
          1,
          1,
          1,
          1,
          1,
          1,
          1,
          1,
          1,
          1,
          1,
          1,
          1,
          1,
          1,
          1,
          1,
          1,
          1,
          1,
          1,
          1,
          1,
          1,
          1,
          1,
          1,
          1,
          1,
          1,
          1,
          1,
          1,
          1,
          1,
          1,
          1,
          1,
          1,
          1,
          1,
          1,
          1,
          1,
          1,
          1,
          1,
          1,
          1,
          1,
          1,
          1,
          1,
          1,
          1,
          1,
          1,
          1,
          1,
          1,
          1,
          1,
          1,
          1,
          1,
          1,
          1,
          1,
          1,
          1,
          1,
          1,
          1,
          1,
          1,
          1,
          1,
          1,
          1,
          1,
          1,
          1,
          1,
          1,
          1,
          1,
          1,
          1,
          1,
          1,
          1,
          1,
          1,
          1,
          1,
          1,
          1,
          1,
          1,
          1,
          1,
          1,
          1,
          1,
          1,
          1,
          1,
          1,
          1,
          1,
          1,
          1,
          1,
          1,
          1,
          1,
          1,
          1,
          1,
          1,
          1,
          1,
          1,
          1,
          1,
          1,
          1,
          1,
          1,
          1,
          1,
          1,
          1,
          1,
          1,
          1,
          1,
          1,
          1,
          1,
          1,
          1,
          1
         ],
         "yaxis": "y2"
        },
        {
         "hovertemplate": "<b>%{text}</b><br>PC Projection: %{x:.3f}<extra></extra>",
         "marker": {
          "color": "limegreen",
          "line": {
           "color": "black",
           "width": 1
          },
          "opacity": 1,
          "size": 8,
          "symbol": "diamond"
         },
         "mode": "markers",
         "showlegend": false,
         "text": [
          "Zealous",
          "Understated",
          "Prescriptive",
          "Pessimistic",
          "Optimistic",
          "Open ended",
          "Nihilistic",
          "Neurotic",
          "Melancholic",
          "Inspirational",
          "Humble",
          "Disorganized",
          "Decisive",
          "Confident",
          "Closure seeking",
          "Cautious",
          "Assertive",
          "Anxious",
          "Animated",
          "Adventurous"
         ],
         "type": "scatter",
         "x": [
          -24.63358443179495,
          21.070686667364086,
          -19.070282577321198,
          18.139348495532076,
          -25.088956699137636,
          24.916639848611947,
          18.79570485573133,
          24.653236023920737,
          20.50463978870054,
          -26.124110281034337,
          18.18544404451308,
          21.298478906998447,
          -32.96658769462946,
          -22.54765304674475,
          -24.928273862747666,
          22.664845291323136,
          -23.76674530023752,
          26.54843923379568,
          -20.444354417690924,
          -18.574405751211124
         ],
         "xaxis": "x2",
         "y": [
          1,
          1,
          1,
          1,
          1,
          1,
          1,
          1,
          1,
          1,
          1,
          1,
          1,
          1,
          1,
          1,
          1,
          1,
          1,
          1
         ],
         "yaxis": "y2"
        },
        {
         "hoverinfo": "skip",
         "line": {
          "color": "black",
          "width": 1
         },
         "mode": "lines",
         "showlegend": false,
         "type": "scatter",
         "x": [
          -32.96658769462946,
          -32.96658769462946
         ],
         "xaxis": "x2",
         "y": [
          1,
          1.45
         ],
         "yaxis": "y2"
        },
        {
         "hoverinfo": "skip",
         "line": {
          "color": "black",
          "width": 1
         },
         "mode": "lines",
         "showlegend": false,
         "type": "scatter",
         "x": [
          -26.124110281034337,
          -26.124110281034337
         ],
         "xaxis": "x2",
         "y": [
          1,
          0.6
         ],
         "yaxis": "y2"
        },
        {
         "hoverinfo": "skip",
         "line": {
          "color": "black",
          "width": 1
         },
         "mode": "lines",
         "showlegend": false,
         "type": "scatter",
         "x": [
          -25.088956699137636,
          -25.088956699137636
         ],
         "xaxis": "x2",
         "y": [
          1,
          1.9
         ],
         "yaxis": "y2"
        },
        {
         "hoverinfo": "skip",
         "line": {
          "color": "black",
          "width": 1
         },
         "mode": "lines",
         "showlegend": false,
         "type": "scatter",
         "x": [
          -24.928273862747666,
          -24.928273862747666
         ],
         "xaxis": "x2",
         "y": [
          1,
          0.15
         ],
         "yaxis": "y2"
        },
        {
         "hoverinfo": "skip",
         "line": {
          "color": "black",
          "width": 1
         },
         "mode": "lines",
         "showlegend": false,
         "type": "scatter",
         "x": [
          -24.63358443179495,
          -24.63358443179495
         ],
         "xaxis": "x2",
         "y": [
          1,
          1.6
         ],
         "yaxis": "y2"
        },
        {
         "hoverinfo": "skip",
         "line": {
          "color": "black",
          "width": 1
         },
         "mode": "lines",
         "showlegend": false,
         "type": "scatter",
         "x": [
          -23.76674530023752,
          -23.76674530023752
         ],
         "xaxis": "x2",
         "y": [
          1,
          0.45
         ],
         "yaxis": "y2"
        },
        {
         "hoverinfo": "skip",
         "line": {
          "color": "black",
          "width": 1
         },
         "mode": "lines",
         "showlegend": false,
         "type": "scatter",
         "x": [
          -22.54765304674475,
          -22.54765304674475
         ],
         "xaxis": "x2",
         "y": [
          1,
          1.3
         ],
         "yaxis": "y2"
        },
        {
         "hoverinfo": "skip",
         "line": {
          "color": "black",
          "width": 1
         },
         "mode": "lines",
         "showlegend": false,
         "type": "scatter",
         "x": [
          -20.444354417690924,
          -20.444354417690924
         ],
         "xaxis": "x2",
         "y": [
          1,
          0.75
         ],
         "yaxis": "y2"
        },
        {
         "hoverinfo": "skip",
         "line": {
          "color": "black",
          "width": 1
         },
         "mode": "lines",
         "showlegend": false,
         "type": "scatter",
         "x": [
          -19.070282577321198,
          -19.070282577321198
         ],
         "xaxis": "x2",
         "y": [
          1,
          1.75
         ],
         "yaxis": "y2"
        },
        {
         "hoverinfo": "skip",
         "line": {
          "color": "black",
          "width": 1
         },
         "mode": "lines",
         "showlegend": false,
         "type": "scatter",
         "x": [
          -18.574405751211124,
          -18.574405751211124
         ],
         "xaxis": "x2",
         "y": [
          1,
          0.3
         ],
         "yaxis": "y2"
        },
        {
         "hoverinfo": "skip",
         "line": {
          "color": "black",
          "width": 1
         },
         "mode": "lines",
         "showlegend": false,
         "type": "scatter",
         "x": [
          18.139348495532076,
          18.139348495532076
         ],
         "xaxis": "x2",
         "y": [
          1,
          1.45
         ],
         "yaxis": "y2"
        },
        {
         "hoverinfo": "skip",
         "line": {
          "color": "black",
          "width": 1
         },
         "mode": "lines",
         "showlegend": false,
         "type": "scatter",
         "x": [
          18.18544404451308,
          18.18544404451308
         ],
         "xaxis": "x2",
         "y": [
          1,
          0.6
         ],
         "yaxis": "y2"
        },
        {
         "hoverinfo": "skip",
         "line": {
          "color": "black",
          "width": 1
         },
         "mode": "lines",
         "showlegend": false,
         "type": "scatter",
         "x": [
          18.79570485573133,
          18.79570485573133
         ],
         "xaxis": "x2",
         "y": [
          1,
          1.9
         ],
         "yaxis": "y2"
        },
        {
         "hoverinfo": "skip",
         "line": {
          "color": "black",
          "width": 1
         },
         "mode": "lines",
         "showlegend": false,
         "type": "scatter",
         "x": [
          20.50463978870054,
          20.50463978870054
         ],
         "xaxis": "x2",
         "y": [
          1,
          0.15
         ],
         "yaxis": "y2"
        },
        {
         "hoverinfo": "skip",
         "line": {
          "color": "black",
          "width": 1
         },
         "mode": "lines",
         "showlegend": false,
         "type": "scatter",
         "x": [
          21.070686667364086,
          21.070686667364086
         ],
         "xaxis": "x2",
         "y": [
          1,
          1.6
         ],
         "yaxis": "y2"
        },
        {
         "hoverinfo": "skip",
         "line": {
          "color": "black",
          "width": 1
         },
         "mode": "lines",
         "showlegend": false,
         "type": "scatter",
         "x": [
          21.298478906998447,
          21.298478906998447
         ],
         "xaxis": "x2",
         "y": [
          1,
          0.45
         ],
         "yaxis": "y2"
        },
        {
         "hoverinfo": "skip",
         "line": {
          "color": "black",
          "width": 1
         },
         "mode": "lines",
         "showlegend": false,
         "type": "scatter",
         "x": [
          22.664845291323136,
          22.664845291323136
         ],
         "xaxis": "x2",
         "y": [
          1,
          1.3
         ],
         "yaxis": "y2"
        },
        {
         "hoverinfo": "skip",
         "line": {
          "color": "black",
          "width": 1
         },
         "mode": "lines",
         "showlegend": false,
         "type": "scatter",
         "x": [
          24.653236023920737,
          24.653236023920737
         ],
         "xaxis": "x2",
         "y": [
          1,
          0.75
         ],
         "yaxis": "y2"
        },
        {
         "hoverinfo": "skip",
         "line": {
          "color": "black",
          "width": 1
         },
         "mode": "lines",
         "showlegend": false,
         "type": "scatter",
         "x": [
          24.916639848611947,
          24.916639848611947
         ],
         "xaxis": "x2",
         "y": [
          1,
          1.75
         ],
         "yaxis": "y2"
        },
        {
         "hoverinfo": "skip",
         "line": {
          "color": "black",
          "width": 1
         },
         "mode": "lines",
         "showlegend": false,
         "type": "scatter",
         "x": [
          26.54843923379568,
          26.54843923379568
         ],
         "xaxis": "x2",
         "y": [
          1,
          0.3
         ],
         "yaxis": "y2"
        },
        {
         "hoverinfo": "skip",
         "marker": {
          "color": "limegreen"
         },
         "opacity": 0.7,
         "showlegend": false,
         "type": "bar",
         "width": 1.5870673847580037,
         "x": [
          -31.974670579155706,
          -29.990836348208205,
          -28.007002117260697,
          -26.023167886313196,
          -24.039333655365688,
          -22.055499424418183,
          -20.07166519347068,
          -18.087830962523174,
          -16.10399673157567,
          -14.120162500628163,
          -12.136328269680659,
          -10.152494038733154,
          -8.16865980778565,
          -6.184825576838145,
          -4.200991345890641,
          -2.217157114943136,
          -0.2333228839956316,
          1.7505113469518747,
          3.7343455778993793,
          5.718179808846884,
          7.702014039794388,
          9.685848270741893,
          11.669682501689397,
          13.653516732636902,
          15.637350963584407,
          17.62118519453191,
          19.605019425479416,
          21.58885365642692,
          23.572687887374425,
          25.55652211832193
         ],
         "xaxis": "x2",
         "y": [
          0.03461538461538462,
          0,
          0,
          0.06923076923076923,
          0.10384615384615385,
          0.03461538461538462,
          0.03461538461538462,
          0.2076923076923077,
          0.10384615384615385,
          0.13846153846153847,
          0.4846153846153846,
          0.27692307692307694,
          0.4153846153846154,
          0.2423076923076923,
          0.9,
          0.5884615384615385,
          0.5538461538461539,
          0.6576923076923077,
          0.9,
          0.6230769230769231,
          0.4846153846153846,
          0.4153846153846154,
          0.27692307692307694,
          0.13846153846153847,
          0.2423076923076923,
          0.10384615384615385,
          0.06923076923076923,
          0.06923076923076923,
          0.03461538461538462,
          0.10384615384615385
         ],
         "yaxis": "y2"
        }
       ],
       "layout": {
        "annotations": [
         {
          "font": {
           "size": 16
          },
          "showarrow": false,
          "text": "PC6 Cosine Similarity",
          "x": 0.5,
          "xanchor": "center",
          "xref": "paper",
          "y": 1,
          "yanchor": "bottom",
          "yref": "paper"
         },
         {
          "font": {
           "size": 16
          },
          "showarrow": false,
          "text": "PC6 Projection",
          "x": 0.5,
          "xanchor": "center",
          "xref": "paper",
          "y": 0.45,
          "yanchor": "bottom",
          "yref": "paper"
         },
         {
          "bgcolor": "rgba(255, 255, 255, 0.9)",
          "bordercolor": "black",
          "borderwidth": 1,
          "font": {
           "color": "black",
           "size": 10
          },
          "showarrow": false,
          "text": "Assertive",
          "x": -0.49473060103780697,
          "xref": "x",
          "y": 1.45,
          "yref": "y"
         },
         {
          "bgcolor": "rgba(255, 255, 255, 0.9)",
          "bordercolor": "black",
          "borderwidth": 1,
          "font": {
           "color": "black",
           "size": 10
          },
          "showarrow": false,
          "text": "Optimistic",
          "x": -0.4741315067121247,
          "xref": "x",
          "y": 0.6,
          "yref": "y"
         },
         {
          "bgcolor": "rgba(255, 255, 255, 0.9)",
          "bordercolor": "black",
          "borderwidth": 1,
          "font": {
           "color": "black",
           "size": 10
          },
          "showarrow": false,
          "text": "Inspirational",
          "x": -0.4655694716803394,
          "xref": "x",
          "y": 1.9,
          "yref": "y"
         },
         {
          "bgcolor": "rgba(255, 255, 255, 0.9)",
          "bordercolor": "black",
          "borderwidth": 1,
          "font": {
           "color": "black",
           "size": 10
          },
          "showarrow": false,
          "text": "Adventurous",
          "x": -0.40976244603858436,
          "xref": "x",
          "y": 0.15,
          "yref": "y"
         },
         {
          "bgcolor": "rgba(255, 255, 255, 0.9)",
          "bordercolor": "black",
          "borderwidth": 1,
          "font": {
           "color": "black",
           "size": 10
          },
          "showarrow": false,
          "text": "Decisive",
          "x": -0.40823274052016095,
          "xref": "x",
          "y": 1.6,
          "yref": "y"
         },
         {
          "bgcolor": "rgba(255, 255, 255, 0.9)",
          "bordercolor": "black",
          "borderwidth": 1,
          "font": {
           "color": "black",
           "size": 10
          },
          "showarrow": false,
          "text": "Zealous",
          "x": -0.37095352628231626,
          "xref": "x",
          "y": 0.45,
          "yref": "y"
         },
         {
          "bgcolor": "rgba(255, 255, 255, 0.9)",
          "bordercolor": "black",
          "borderwidth": 1,
          "font": {
           "color": "black",
           "size": 10
          },
          "showarrow": false,
          "text": "Prescriptive",
          "x": -0.363857293534385,
          "xref": "x",
          "y": 1.3,
          "yref": "y"
         },
         {
          "bgcolor": "rgba(255, 255, 255, 0.9)",
          "bordercolor": "black",
          "borderwidth": 1,
          "font": {
           "color": "black",
           "size": 10
          },
          "showarrow": false,
          "text": "Urgent",
          "x": -0.3402330439990452,
          "xref": "x",
          "y": 0.75,
          "yref": "y"
         },
         {
          "bgcolor": "rgba(255, 255, 255, 0.9)",
          "bordercolor": "black",
          "borderwidth": 1,
          "font": {
           "color": "black",
           "size": 10
          },
          "showarrow": false,
          "text": "Extroverted",
          "x": -0.3365291797195675,
          "xref": "x",
          "y": 1.75,
          "yref": "y"
         },
         {
          "bgcolor": "rgba(255, 255, 255, 0.9)",
          "bordercolor": "black",
          "borderwidth": 1,
          "font": {
           "color": "black",
           "size": 10
          },
          "showarrow": false,
          "text": "Resilient",
          "x": -0.31338542527329616,
          "xref": "x",
          "y": 0.3,
          "yref": "y"
         },
         {
          "bgcolor": "rgba(255, 255, 255, 0.9)",
          "bordercolor": "black",
          "borderwidth": 1,
          "font": {
           "color": "black",
           "size": 10
          },
          "showarrow": false,
          "text": "Disorganized",
          "x": 0.30585157147123465,
          "xref": "x",
          "y": 1.45,
          "yref": "y"
         },
         {
          "bgcolor": "rgba(255, 255, 255, 0.9)",
          "bordercolor": "black",
          "borderwidth": 1,
          "font": {
           "color": "black",
           "size": 10
          },
          "showarrow": false,
          "text": "Ironic",
          "x": 0.3306802870740607,
          "xref": "x",
          "y": 0.6,
          "yref": "y"
         },
         {
          "bgcolor": "rgba(255, 255, 255, 0.9)",
          "bordercolor": "black",
          "borderwidth": 1,
          "font": {
           "color": "black",
           "size": 10
          },
          "showarrow": false,
          "text": "Humble",
          "x": 0.3417967748798025,
          "xref": "x",
          "y": 1.9,
          "yref": "y"
         },
         {
          "bgcolor": "rgba(255, 255, 255, 0.9)",
          "bordercolor": "black",
          "borderwidth": 1,
          "font": {
           "color": "black",
           "size": 10
          },
          "showarrow": false,
          "text": "Wry",
          "x": 0.3487597774159858,
          "xref": "x",
          "y": 0.15,
          "yref": "y"
         },
         {
          "bgcolor": "rgba(255, 255, 255, 0.9)",
          "bordercolor": "black",
          "borderwidth": 1,
          "font": {
           "color": "black",
           "size": 10
          },
          "showarrow": false,
          "text": "Subversive",
          "x": 0.36195155277875507,
          "xref": "x",
          "y": 1.6,
          "yref": "y"
         },
         {
          "bgcolor": "rgba(255, 255, 255, 0.9)",
          "bordercolor": "black",
          "borderwidth": 1,
          "font": {
           "color": "black",
           "size": 10
          },
          "showarrow": false,
          "text": "Cautious",
          "x": 0.36591862096333516,
          "xref": "x",
          "y": 0.45,
          "yref": "y"
         },
         {
          "bgcolor": "rgba(255, 255, 255, 0.9)",
          "bordercolor": "black",
          "borderwidth": 1,
          "font": {
           "color": "black",
           "size": 10
          },
          "showarrow": false,
          "text": "Melancholic",
          "x": 0.41137183735380256,
          "xref": "x",
          "y": 1.3,
          "yref": "y"
         },
         {
          "bgcolor": "rgba(255, 255, 255, 0.9)",
          "bordercolor": "black",
          "borderwidth": 1,
          "font": {
           "color": "black",
           "size": 10
          },
          "showarrow": false,
          "text": "Neurotic",
          "x": 0.4525441483308907,
          "xref": "x",
          "y": 0.75,
          "yref": "y"
         },
         {
          "bgcolor": "rgba(255, 255, 255, 0.9)",
          "bordercolor": "black",
          "borderwidth": 1,
          "font": {
           "color": "black",
           "size": 10
          },
          "showarrow": false,
          "text": "Anxious",
          "x": 0.4944666699749372,
          "xref": "x",
          "y": 1.75,
          "yref": "y"
         },
         {
          "bgcolor": "rgba(255, 255, 255, 0.9)",
          "bordercolor": "black",
          "borderwidth": 1,
          "font": {
           "color": "black",
           "size": 10
          },
          "showarrow": false,
          "text": "Open ended",
          "x": 0.5564171602842221,
          "xref": "x",
          "y": 0.3,
          "yref": "y"
         },
         {
          "bgcolor": "rgba(255, 255, 255, 0.9)",
          "bordercolor": "red",
          "borderwidth": 1,
          "font": {
           "color": "red",
           "size": 14
          },
          "showarrow": false,
          "text": "Assistant",
          "x": 0.0089911516232241,
          "xref": "x",
          "y": 2,
          "yref": "y"
         },
         {
          "bgcolor": "rgba(255, 255, 255, 0.9)",
          "bordercolor": "black",
          "borderwidth": 1,
          "font": {
           "color": "black",
           "size": 10
          },
          "showarrow": false,
          "text": "Decisive",
          "x": -32.96658769462946,
          "xref": "x2",
          "y": 1.45,
          "yref": "y2"
         },
         {
          "bgcolor": "rgba(255, 255, 255, 0.9)",
          "bordercolor": "black",
          "borderwidth": 1,
          "font": {
           "color": "black",
           "size": 10
          },
          "showarrow": false,
          "text": "Inspirational",
          "x": -26.124110281034337,
          "xref": "x2",
          "y": 0.6,
          "yref": "y2"
         },
         {
          "bgcolor": "rgba(255, 255, 255, 0.9)",
          "bordercolor": "black",
          "borderwidth": 1,
          "font": {
           "color": "black",
           "size": 10
          },
          "showarrow": false,
          "text": "Optimistic",
          "x": -25.088956699137636,
          "xref": "x2",
          "y": 1.9,
          "yref": "y2"
         },
         {
          "bgcolor": "rgba(255, 255, 255, 0.9)",
          "bordercolor": "black",
          "borderwidth": 1,
          "font": {
           "color": "black",
           "size": 10
          },
          "showarrow": false,
          "text": "Closure seeking",
          "x": -24.928273862747666,
          "xref": "x2",
          "y": 0.15,
          "yref": "y2"
         },
         {
          "bgcolor": "rgba(255, 255, 255, 0.9)",
          "bordercolor": "black",
          "borderwidth": 1,
          "font": {
           "color": "black",
           "size": 10
          },
          "showarrow": false,
          "text": "Zealous",
          "x": -24.63358443179495,
          "xref": "x2",
          "y": 1.6,
          "yref": "y2"
         },
         {
          "bgcolor": "rgba(255, 255, 255, 0.9)",
          "bordercolor": "black",
          "borderwidth": 1,
          "font": {
           "color": "black",
           "size": 10
          },
          "showarrow": false,
          "text": "Assertive",
          "x": -23.76674530023752,
          "xref": "x2",
          "y": 0.45,
          "yref": "y2"
         },
         {
          "bgcolor": "rgba(255, 255, 255, 0.9)",
          "bordercolor": "black",
          "borderwidth": 1,
          "font": {
           "color": "black",
           "size": 10
          },
          "showarrow": false,
          "text": "Confident",
          "x": -22.54765304674475,
          "xref": "x2",
          "y": 1.3,
          "yref": "y2"
         },
         {
          "bgcolor": "rgba(255, 255, 255, 0.9)",
          "bordercolor": "black",
          "borderwidth": 1,
          "font": {
           "color": "black",
           "size": 10
          },
          "showarrow": false,
          "text": "Animated",
          "x": -20.444354417690924,
          "xref": "x2",
          "y": 0.75,
          "yref": "y2"
         },
         {
          "bgcolor": "rgba(255, 255, 255, 0.9)",
          "bordercolor": "black",
          "borderwidth": 1,
          "font": {
           "color": "black",
           "size": 10
          },
          "showarrow": false,
          "text": "Prescriptive",
          "x": -19.070282577321198,
          "xref": "x2",
          "y": 1.75,
          "yref": "y2"
         },
         {
          "bgcolor": "rgba(255, 255, 255, 0.9)",
          "bordercolor": "black",
          "borderwidth": 1,
          "font": {
           "color": "black",
           "size": 10
          },
          "showarrow": false,
          "text": "Adventurous",
          "x": -18.574405751211124,
          "xref": "x2",
          "y": 0.3,
          "yref": "y2"
         },
         {
          "bgcolor": "rgba(255, 255, 255, 0.9)",
          "bordercolor": "black",
          "borderwidth": 1,
          "font": {
           "color": "black",
           "size": 10
          },
          "showarrow": false,
          "text": "Pessimistic",
          "x": 18.139348495532076,
          "xref": "x2",
          "y": 1.45,
          "yref": "y2"
         },
         {
          "bgcolor": "rgba(255, 255, 255, 0.9)",
          "bordercolor": "black",
          "borderwidth": 1,
          "font": {
           "color": "black",
           "size": 10
          },
          "showarrow": false,
          "text": "Humble",
          "x": 18.18544404451308,
          "xref": "x2",
          "y": 0.6,
          "yref": "y2"
         },
         {
          "bgcolor": "rgba(255, 255, 255, 0.9)",
          "bordercolor": "black",
          "borderwidth": 1,
          "font": {
           "color": "black",
           "size": 10
          },
          "showarrow": false,
          "text": "Nihilistic",
          "x": 18.79570485573133,
          "xref": "x2",
          "y": 1.9,
          "yref": "y2"
         },
         {
          "bgcolor": "rgba(255, 255, 255, 0.9)",
          "bordercolor": "black",
          "borderwidth": 1,
          "font": {
           "color": "black",
           "size": 10
          },
          "showarrow": false,
          "text": "Melancholic",
          "x": 20.50463978870054,
          "xref": "x2",
          "y": 0.15,
          "yref": "y2"
         },
         {
          "bgcolor": "rgba(255, 255, 255, 0.9)",
          "bordercolor": "black",
          "borderwidth": 1,
          "font": {
           "color": "black",
           "size": 10
          },
          "showarrow": false,
          "text": "Understated",
          "x": 21.070686667364086,
          "xref": "x2",
          "y": 1.6,
          "yref": "y2"
         },
         {
          "bgcolor": "rgba(255, 255, 255, 0.9)",
          "bordercolor": "black",
          "borderwidth": 1,
          "font": {
           "color": "black",
           "size": 10
          },
          "showarrow": false,
          "text": "Disorganized",
          "x": 21.298478906998447,
          "xref": "x2",
          "y": 0.45,
          "yref": "y2"
         },
         {
          "bgcolor": "rgba(255, 255, 255, 0.9)",
          "bordercolor": "black",
          "borderwidth": 1,
          "font": {
           "color": "black",
           "size": 10
          },
          "showarrow": false,
          "text": "Cautious",
          "x": 22.664845291323136,
          "xref": "x2",
          "y": 1.3,
          "yref": "y2"
         },
         {
          "bgcolor": "rgba(255, 255, 255, 0.9)",
          "bordercolor": "black",
          "borderwidth": 1,
          "font": {
           "color": "black",
           "size": 10
          },
          "showarrow": false,
          "text": "Neurotic",
          "x": 24.653236023920737,
          "xref": "x2",
          "y": 0.75,
          "yref": "y2"
         },
         {
          "bgcolor": "rgba(255, 255, 255, 0.9)",
          "bordercolor": "black",
          "borderwidth": 1,
          "font": {
           "color": "black",
           "size": 10
          },
          "showarrow": false,
          "text": "Open ended",
          "x": 24.916639848611947,
          "xref": "x2",
          "y": 1.75,
          "yref": "y2"
         },
         {
          "bgcolor": "rgba(255, 255, 255, 0.9)",
          "bordercolor": "black",
          "borderwidth": 1,
          "font": {
           "color": "black",
           "size": 10
          },
          "showarrow": false,
          "text": "Anxious",
          "x": 26.54843923379568,
          "xref": "x2",
          "y": 0.3,
          "yref": "y2"
         },
         {
          "bgcolor": "rgba(255, 255, 255, 0.9)",
          "bordercolor": "red",
          "borderwidth": 1,
          "font": {
           "color": "red",
           "size": 14
          },
          "showarrow": false,
          "text": "Assistant",
          "x": 0.5205963334286937,
          "xref": "x2",
          "y": 2,
          "yref": "y2"
         }
        ],
        "height": 800,
        "shapes": [
         {
          "line": {
           "color": "gray",
           "dash": "solid",
           "width": 1
          },
          "opacity": 0.7,
          "type": "line",
          "x0": 0,
          "x1": 0,
          "xref": "x",
          "y0": 0,
          "y1": 1,
          "yref": "y domain"
         },
         {
          "line": {
           "color": "red",
           "dash": "dash",
           "width": 1
          },
          "opacity": 1,
          "type": "line",
          "x0": 0.0089911516232241,
          "x1": 0.0089911516232241,
          "xref": "x",
          "y0": 0,
          "y1": 1,
          "yref": "y domain"
         },
         {
          "line": {
           "color": "gray",
           "dash": "solid",
           "width": 1
          },
          "opacity": 0.7,
          "type": "line",
          "x0": 0,
          "x1": 0,
          "xref": "x2",
          "y0": 0,
          "y1": 1,
          "yref": "y2 domain"
         },
         {
          "line": {
           "color": "red",
           "dash": "dash",
           "width": 1
          },
          "opacity": 1,
          "type": "line",
          "x0": 0.5205963334286937,
          "x1": 0.5205963334286937,
          "xref": "x2",
          "y0": 0,
          "y1": 1,
          "yref": "y2 domain"
         }
        ],
        "showlegend": false,
        "template": {
         "data": {
          "bar": [
           {
            "error_x": {
             "color": "#2a3f5f"
            },
            "error_y": {
             "color": "#2a3f5f"
            },
            "marker": {
             "line": {
              "color": "#E5ECF6",
              "width": 0.5
             },
             "pattern": {
              "fillmode": "overlay",
              "size": 10,
              "solidity": 0.2
             }
            },
            "type": "bar"
           }
          ],
          "barpolar": [
           {
            "marker": {
             "line": {
              "color": "#E5ECF6",
              "width": 0.5
             },
             "pattern": {
              "fillmode": "overlay",
              "size": 10,
              "solidity": 0.2
             }
            },
            "type": "barpolar"
           }
          ],
          "carpet": [
           {
            "aaxis": {
             "endlinecolor": "#2a3f5f",
             "gridcolor": "white",
             "linecolor": "white",
             "minorgridcolor": "white",
             "startlinecolor": "#2a3f5f"
            },
            "baxis": {
             "endlinecolor": "#2a3f5f",
             "gridcolor": "white",
             "linecolor": "white",
             "minorgridcolor": "white",
             "startlinecolor": "#2a3f5f"
            },
            "type": "carpet"
           }
          ],
          "choropleth": [
           {
            "colorbar": {
             "outlinewidth": 0,
             "ticks": ""
            },
            "type": "choropleth"
           }
          ],
          "contour": [
           {
            "colorbar": {
             "outlinewidth": 0,
             "ticks": ""
            },
            "colorscale": [
             [
              0,
              "#0d0887"
             ],
             [
              0.1111111111111111,
              "#46039f"
             ],
             [
              0.2222222222222222,
              "#7201a8"
             ],
             [
              0.3333333333333333,
              "#9c179e"
             ],
             [
              0.4444444444444444,
              "#bd3786"
             ],
             [
              0.5555555555555556,
              "#d8576b"
             ],
             [
              0.6666666666666666,
              "#ed7953"
             ],
             [
              0.7777777777777778,
              "#fb9f3a"
             ],
             [
              0.8888888888888888,
              "#fdca26"
             ],
             [
              1,
              "#f0f921"
             ]
            ],
            "type": "contour"
           }
          ],
          "contourcarpet": [
           {
            "colorbar": {
             "outlinewidth": 0,
             "ticks": ""
            },
            "type": "contourcarpet"
           }
          ],
          "heatmap": [
           {
            "colorbar": {
             "outlinewidth": 0,
             "ticks": ""
            },
            "colorscale": [
             [
              0,
              "#0d0887"
             ],
             [
              0.1111111111111111,
              "#46039f"
             ],
             [
              0.2222222222222222,
              "#7201a8"
             ],
             [
              0.3333333333333333,
              "#9c179e"
             ],
             [
              0.4444444444444444,
              "#bd3786"
             ],
             [
              0.5555555555555556,
              "#d8576b"
             ],
             [
              0.6666666666666666,
              "#ed7953"
             ],
             [
              0.7777777777777778,
              "#fb9f3a"
             ],
             [
              0.8888888888888888,
              "#fdca26"
             ],
             [
              1,
              "#f0f921"
             ]
            ],
            "type": "heatmap"
           }
          ],
          "heatmapgl": [
           {
            "colorbar": {
             "outlinewidth": 0,
             "ticks": ""
            },
            "colorscale": [
             [
              0,
              "#0d0887"
             ],
             [
              0.1111111111111111,
              "#46039f"
             ],
             [
              0.2222222222222222,
              "#7201a8"
             ],
             [
              0.3333333333333333,
              "#9c179e"
             ],
             [
              0.4444444444444444,
              "#bd3786"
             ],
             [
              0.5555555555555556,
              "#d8576b"
             ],
             [
              0.6666666666666666,
              "#ed7953"
             ],
             [
              0.7777777777777778,
              "#fb9f3a"
             ],
             [
              0.8888888888888888,
              "#fdca26"
             ],
             [
              1,
              "#f0f921"
             ]
            ],
            "type": "heatmapgl"
           }
          ],
          "histogram": [
           {
            "marker": {
             "pattern": {
              "fillmode": "overlay",
              "size": 10,
              "solidity": 0.2
             }
            },
            "type": "histogram"
           }
          ],
          "histogram2d": [
           {
            "colorbar": {
             "outlinewidth": 0,
             "ticks": ""
            },
            "colorscale": [
             [
              0,
              "#0d0887"
             ],
             [
              0.1111111111111111,
              "#46039f"
             ],
             [
              0.2222222222222222,
              "#7201a8"
             ],
             [
              0.3333333333333333,
              "#9c179e"
             ],
             [
              0.4444444444444444,
              "#bd3786"
             ],
             [
              0.5555555555555556,
              "#d8576b"
             ],
             [
              0.6666666666666666,
              "#ed7953"
             ],
             [
              0.7777777777777778,
              "#fb9f3a"
             ],
             [
              0.8888888888888888,
              "#fdca26"
             ],
             [
              1,
              "#f0f921"
             ]
            ],
            "type": "histogram2d"
           }
          ],
          "histogram2dcontour": [
           {
            "colorbar": {
             "outlinewidth": 0,
             "ticks": ""
            },
            "colorscale": [
             [
              0,
              "#0d0887"
             ],
             [
              0.1111111111111111,
              "#46039f"
             ],
             [
              0.2222222222222222,
              "#7201a8"
             ],
             [
              0.3333333333333333,
              "#9c179e"
             ],
             [
              0.4444444444444444,
              "#bd3786"
             ],
             [
              0.5555555555555556,
              "#d8576b"
             ],
             [
              0.6666666666666666,
              "#ed7953"
             ],
             [
              0.7777777777777778,
              "#fb9f3a"
             ],
             [
              0.8888888888888888,
              "#fdca26"
             ],
             [
              1,
              "#f0f921"
             ]
            ],
            "type": "histogram2dcontour"
           }
          ],
          "mesh3d": [
           {
            "colorbar": {
             "outlinewidth": 0,
             "ticks": ""
            },
            "type": "mesh3d"
           }
          ],
          "parcoords": [
           {
            "line": {
             "colorbar": {
              "outlinewidth": 0,
              "ticks": ""
             }
            },
            "type": "parcoords"
           }
          ],
          "pie": [
           {
            "automargin": true,
            "type": "pie"
           }
          ],
          "scatter": [
           {
            "fillpattern": {
             "fillmode": "overlay",
             "size": 10,
             "solidity": 0.2
            },
            "type": "scatter"
           }
          ],
          "scatter3d": [
           {
            "line": {
             "colorbar": {
              "outlinewidth": 0,
              "ticks": ""
             }
            },
            "marker": {
             "colorbar": {
              "outlinewidth": 0,
              "ticks": ""
             }
            },
            "type": "scatter3d"
           }
          ],
          "scattercarpet": [
           {
            "marker": {
             "colorbar": {
              "outlinewidth": 0,
              "ticks": ""
             }
            },
            "type": "scattercarpet"
           }
          ],
          "scattergeo": [
           {
            "marker": {
             "colorbar": {
              "outlinewidth": 0,
              "ticks": ""
             }
            },
            "type": "scattergeo"
           }
          ],
          "scattergl": [
           {
            "marker": {
             "colorbar": {
              "outlinewidth": 0,
              "ticks": ""
             }
            },
            "type": "scattergl"
           }
          ],
          "scattermapbox": [
           {
            "marker": {
             "colorbar": {
              "outlinewidth": 0,
              "ticks": ""
             }
            },
            "type": "scattermapbox"
           }
          ],
          "scatterpolar": [
           {
            "marker": {
             "colorbar": {
              "outlinewidth": 0,
              "ticks": ""
             }
            },
            "type": "scatterpolar"
           }
          ],
          "scatterpolargl": [
           {
            "marker": {
             "colorbar": {
              "outlinewidth": 0,
              "ticks": ""
             }
            },
            "type": "scatterpolargl"
           }
          ],
          "scatterternary": [
           {
            "marker": {
             "colorbar": {
              "outlinewidth": 0,
              "ticks": ""
             }
            },
            "type": "scatterternary"
           }
          ],
          "surface": [
           {
            "colorbar": {
             "outlinewidth": 0,
             "ticks": ""
            },
            "colorscale": [
             [
              0,
              "#0d0887"
             ],
             [
              0.1111111111111111,
              "#46039f"
             ],
             [
              0.2222222222222222,
              "#7201a8"
             ],
             [
              0.3333333333333333,
              "#9c179e"
             ],
             [
              0.4444444444444444,
              "#bd3786"
             ],
             [
              0.5555555555555556,
              "#d8576b"
             ],
             [
              0.6666666666666666,
              "#ed7953"
             ],
             [
              0.7777777777777778,
              "#fb9f3a"
             ],
             [
              0.8888888888888888,
              "#fdca26"
             ],
             [
              1,
              "#f0f921"
             ]
            ],
            "type": "surface"
           }
          ],
          "table": [
           {
            "cells": {
             "fill": {
              "color": "#EBF0F8"
             },
             "line": {
              "color": "white"
             }
            },
            "header": {
             "fill": {
              "color": "#C8D4E3"
             },
             "line": {
              "color": "white"
             }
            },
            "type": "table"
           }
          ]
         },
         "layout": {
          "annotationdefaults": {
           "arrowcolor": "#2a3f5f",
           "arrowhead": 0,
           "arrowwidth": 1
          },
          "autotypenumbers": "strict",
          "coloraxis": {
           "colorbar": {
            "outlinewidth": 0,
            "ticks": ""
           }
          },
          "colorscale": {
           "diverging": [
            [
             0,
             "#8e0152"
            ],
            [
             0.1,
             "#c51b7d"
            ],
            [
             0.2,
             "#de77ae"
            ],
            [
             0.3,
             "#f1b6da"
            ],
            [
             0.4,
             "#fde0ef"
            ],
            [
             0.5,
             "#f7f7f7"
            ],
            [
             0.6,
             "#e6f5d0"
            ],
            [
             0.7,
             "#b8e186"
            ],
            [
             0.8,
             "#7fbc41"
            ],
            [
             0.9,
             "#4d9221"
            ],
            [
             1,
             "#276419"
            ]
           ],
           "sequential": [
            [
             0,
             "#0d0887"
            ],
            [
             0.1111111111111111,
             "#46039f"
            ],
            [
             0.2222222222222222,
             "#7201a8"
            ],
            [
             0.3333333333333333,
             "#9c179e"
            ],
            [
             0.4444444444444444,
             "#bd3786"
            ],
            [
             0.5555555555555556,
             "#d8576b"
            ],
            [
             0.6666666666666666,
             "#ed7953"
            ],
            [
             0.7777777777777778,
             "#fb9f3a"
            ],
            [
             0.8888888888888888,
             "#fdca26"
            ],
            [
             1,
             "#f0f921"
            ]
           ],
           "sequentialminus": [
            [
             0,
             "#0d0887"
            ],
            [
             0.1111111111111111,
             "#46039f"
            ],
            [
             0.2222222222222222,
             "#7201a8"
            ],
            [
             0.3333333333333333,
             "#9c179e"
            ],
            [
             0.4444444444444444,
             "#bd3786"
            ],
            [
             0.5555555555555556,
             "#d8576b"
            ],
            [
             0.6666666666666666,
             "#ed7953"
            ],
            [
             0.7777777777777778,
             "#fb9f3a"
            ],
            [
             0.8888888888888888,
             "#fdca26"
            ],
            [
             1,
             "#f0f921"
            ]
           ]
          },
          "colorway": [
           "#636efa",
           "#EF553B",
           "#00cc96",
           "#ab63fa",
           "#FFA15A",
           "#19d3f3",
           "#FF6692",
           "#B6E880",
           "#FF97FF",
           "#FECB52"
          ],
          "font": {
           "color": "#2a3f5f"
          },
          "geo": {
           "bgcolor": "white",
           "lakecolor": "white",
           "landcolor": "#E5ECF6",
           "showlakes": true,
           "showland": true,
           "subunitcolor": "white"
          },
          "hoverlabel": {
           "align": "left"
          },
          "hovermode": "closest",
          "mapbox": {
           "style": "light"
          },
          "paper_bgcolor": "white",
          "plot_bgcolor": "#E5ECF6",
          "polar": {
           "angularaxis": {
            "gridcolor": "white",
            "linecolor": "white",
            "ticks": ""
           },
           "bgcolor": "#E5ECF6",
           "radialaxis": {
            "gridcolor": "white",
            "linecolor": "white",
            "ticks": ""
           }
          },
          "scene": {
           "xaxis": {
            "backgroundcolor": "#E5ECF6",
            "gridcolor": "white",
            "gridwidth": 2,
            "linecolor": "white",
            "showbackground": true,
            "ticks": "",
            "zerolinecolor": "white"
           },
           "yaxis": {
            "backgroundcolor": "#E5ECF6",
            "gridcolor": "white",
            "gridwidth": 2,
            "linecolor": "white",
            "showbackground": true,
            "ticks": "",
            "zerolinecolor": "white"
           },
           "zaxis": {
            "backgroundcolor": "#E5ECF6",
            "gridcolor": "white",
            "gridwidth": 2,
            "linecolor": "white",
            "showbackground": true,
            "ticks": "",
            "zerolinecolor": "white"
           }
          },
          "shapedefaults": {
           "line": {
            "color": "#2a3f5f"
           }
          },
          "ternary": {
           "aaxis": {
            "gridcolor": "white",
            "linecolor": "white",
            "ticks": ""
           },
           "baxis": {
            "gridcolor": "white",
            "linecolor": "white",
            "ticks": ""
           },
           "bgcolor": "#E5ECF6",
           "caxis": {
            "gridcolor": "white",
            "linecolor": "white",
            "ticks": ""
           }
          },
          "title": {
           "x": 0.05
          },
          "xaxis": {
           "automargin": true,
           "gridcolor": "white",
           "linecolor": "white",
           "ticks": "",
           "title": {
            "standoff": 15
           },
           "zerolinecolor": "white",
           "zerolinewidth": 2
          },
          "yaxis": {
           "automargin": true,
           "gridcolor": "white",
           "linecolor": "white",
           "ticks": "",
           "title": {
            "standoff": 15
           },
           "zerolinecolor": "white",
           "zerolinewidth": 2
          }
         }
        },
        "title": {
         "font": {
          "size": 16
         },
         "subtitle": {
          "text": "Gemma 3 27B, Layer 32 - Shared Question Set, Mean-Centered and Scaled Vectors"
         },
         "text": "PCA on Trait Vectors",
         "x": 0.5
        },
        "width": 1200,
        "xaxis": {
         "anchor": "y",
         "domain": [
          0,
          1
         ],
         "range": [
          -0.6120588763126443,
          0.6120588763126443
         ]
        },
        "xaxis2": {
         "anchor": "y2",
         "domain": [
          0,
          1
         ],
         "range": [
          -36.26324646409241,
          36.26324646409241
         ]
        },
        "yaxis": {
         "anchor": "x",
         "domain": [
          0.55,
          1
         ],
         "range": [
          0,
          2.5
         ],
         "showticklabels": false
        },
        "yaxis2": {
         "anchor": "x2",
         "domain": [
          0,
          0.45
         ],
         "range": [
          0,
          2.5
         ],
         "showticklabels": false
        }
       }
      },
      "text/html": [
       "<div>                            <div id=\"b73055f6-63e0-4cd1-b039-7d6b8583f294\" class=\"plotly-graph-div\" style=\"height:800px; width:1200px;\"></div>            <script type=\"text/javascript\">                require([\"plotly\"], function(Plotly) {                    window.PLOTLYENV=window.PLOTLYENV || {};                                    if (document.getElementById(\"b73055f6-63e0-4cd1-b039-7d6b8583f294\")) {                    Plotly.newPlot(                        \"b73055f6-63e0-4cd1-b039-7d6b8583f294\",                        [{\"hovertemplate\":\"\\u003cb\\u003e%{text}\\u003c\\u002fb\\u003e\\u003cbr\\u003eCosine Similarity: %{x:.3f}\\u003cextra\\u003e\\u003c\\u002fextra\\u003e\",\"marker\":{\"color\":\"limegreen\",\"line\":{\"color\":\"black\",\"width\":1},\"opacity\":1.0,\"size\":8,\"symbol\":\"diamond\"},\"mode\":\"markers\",\"showlegend\":false,\"text\":[\"Witty\",\"Whimsical\",\"Visceral\",\"Vindictive\",\"Verbose\",\"Utilitarian\",\"Universalist\",\"Understated\",\"Transparent\",\"Traditional\",\"Theoretical\",\"Theatrical\",\"Temperamental\",\"Technical\",\"Tactful\",\"Systems thinker\",\"Sycophantic\",\"Supportive\",\"Submissive\",\"Structuralist\",\"Stream of consciousness\",\"Strategic\",\"Stoic\",\"Spontaneous\",\"Spiritual\",\"Speculative\",\"Specialized\",\"Solemn\",\"Socratic\",\"Skeptical\",\"Serious\",\"Serene\",\"Secular\",\"Savage\",\"Sassy\",\"Sardonic\",\"Sarcastic\",\"Romantic\",\"Ritualistic\",\"Risk taking\",\"Rhetorical\",\"Reverent\",\"Reserved\",\"Relativist\",\"Regulatory\",\"Reductionist\",\"Rebellious\",\"Reactive\",\"Rationalist\",\"Radical\",\"Quantitative\",\"Qualitative\",\"Provocative\",\"Progressive\",\"Problem solving\",\"Proactive\",\"Principled\",\"Practical\",\"Poetic\",\"Pluralist\",\"Playful\",\"Philosophical\",\"Petty\",\"Pessimistic\",\"Perfectionist\",\"Pensive\",\"Pedantic\",\"Patient\",\"Passive aggressive\",\"Passionate\",\"Paranoid\",\"Paradoxical\",\"Pacifist\",\"Obsessive\",\"Nurturing\",\"Nostalgic\",\"Nonchalant\",\"Nihilistic\",\"Narrative\",\"Naive\",\"Mystical\",\"Moderate\",\"Mischievous\",\"Misanthropic\",\"Militant\",\"Meticulous\",\"Methodical\",\"Metaphorical\",\"Mercurial\",\"Melodramatic\",\"Meditative\",\"Materialist\",\"Manipulative\",\"Manic\",\"Literal\",\"Libertarian\",\"Judgmental\",\"Irreverent\",\"Intuitive\",\"Introverted\",\"Introspective\",\"Interdisciplinary\",\"Inquisitive\",\"Innovative\",\"Individualistic\",\"Independent\",\"Inclusive\",\"Impulsive\",\"Improvisational\",\"Impatient\",\"Idealistic\",\"Iconoclastic\",\"Humanistic\",\"Hostile\",\"Holistic\",\"Historical\",\"Hedonistic\",\"Grounded\",\"Gregarious\",\"Grandiose\",\"Goofy\",\"Generous\",\"Generalist\",\"Futuristic\",\"Fundamentalist\",\"Formalist\",\"Formal\",\"Forgiving\",\"Flirty\",\"Flippant\",\"Flexible\",\"Fatalistic\",\"Factual\",\"Exploratory\",\"Experiential\",\"Existentialist\",\"Evil\",\"Ethereal\",\"Essentialist\",\"Esoteric\",\"Erudite\",\"Epicurean\",\"Environmental\",\"Entertaining\",\"Enigmatic\",\"Empathetic\",\"Emotional\",\"Eloquent\",\"Elitist\",\"Egalitarian\",\"Effusive\",\"Efficient\",\"Educational\",\"Edgy\",\"Eclectic\",\"Earnest\",\"Dramatic\",\"Dominant\",\"Dogmatic\",\"Divergent\",\"Dispassionate\",\"Diplomatic\",\"Deterministic\",\"Detached\",\"Descriptive\",\"Deontological\",\"Deferential\",\"Deconstructionist\",\"Data driven\",\"Cynical\",\"Curious\",\"Cryptic\",\"Cruel\",\"Critical\",\"Creative\",\"Cosmopolitan\",\"Convergent\",\"Contrarian\",\"Contemporary\",\"Constructivist\",\"Conscientious\",\"Confrontational\",\"Confident\",\"Condescending\",\"Concise\",\"Conciliatory\",\"Conceptual\",\"Competitive\",\"Collectivistic\",\"Collaborative\",\"Closure seeking\",\"Circumspect\",\"Chill\",\"Charismatic\",\"Chaotic\",\"Challenging\",\"Casual\",\"Calm\",\"Callous\",\"Calculating\",\"Bombastic\",\"Blunt\",\"Bitter\",\"Big picture\",\"Benevolent\",\"Avoidant\",\"Ascetic\",\"Artistic\",\"Arrogant\",\"Anthropocentric\",\"Animated\",\"Analytical\",\"Altruistic\",\"Agreeable\",\"Adaptable\",\"Acerbic\",\"Accommodating\",\"Accessible\",\"Abstract\",\"Absolutist\"],\"x\":[-0.001969458302557499,-0.026678059466294774,-0.06515492773064283,0.04178320014054634,0.044823530551997365,0.08954936672678822,-0.21674443158141765,0.17066080756608332,0.054363504246326515,0.0592193747700434,0.19648423751789457,-0.09922512449011395,0.09282682358265858,0.07855460694128685,0.1912656105955612,-0.04395717317516919,-0.027795180171087907,-0.04453705570531252,0.09653755169281485,-0.012717985788232095,0.2477700945354719,-0.006939472532758616,0.01389172400415319,-0.022663812952897475,-0.18576122115574298,0.06843402598427399,0.01015237542034135,-0.1174387021633557,0.08614471205833434,0.11968452029945299,-0.03324259886057907,-0.07356977389260838,0.06854487412649397,-0.05379780802858337,-0.2688417163058105,0.1652158861808842,0.03765818873772949,-0.18939636625928685,0.07024401443100059,-0.2586560712528746,-0.11943657379119299,-0.11549706234903548,-0.01118660065014088,0.2947153290925414,0.18701616258236106,0.05357600601208186,-0.06892264915261817,-0.0006081639520578111,0.10595036611639891,-0.1080943531755969,0.03487200508109002,-0.0249498804853704,0.059130228029682964,-0.26215348369005537,-0.12385326973177221,0.021274297387303145,-0.17987898948674821,-0.24109939908114808,-0.062325969644340076,0.2320242569078548,-0.060891603536148274,0.0715579073353885,0.2761032106279416,0.2881611433950426,0.006241895719891025,0.025169724885811765,0.16819399495391893,0.033043676563943365,0.19276298081270207,-0.2122622359400552,0.17106989711399742,0.21383696724725018,-0.027924096020721448,0.22420265442225246,-0.05204704004033574,0.07876605951511784,0.0655056445052945,0.2599462449171033,-0.01650843130739666,-0.03340527436361409,-0.12074138352845028,0.2896707202628378,0.1233355256080619,0.20850523097407633,-0.29842736372890466,0.034827287007296655,-0.10225544517478696,-0.05419788948669823,0.17049810730070789,-0.1280894325529221,0.048309839893994524,0.08876237504569875,0.1810588993265798,-0.06668941965764003,0.002215900820274581,-0.19273222042915378,-0.07322967465036549,0.04936891604118294,-0.19398056534072522,0.08973252192932156,0.12406816729285171,-0.036172875712917094,0.09561945115279352,-0.3010469911823538,-0.14819833135409322,-0.2223099775085185,0.05416867713847336,-0.034034829378878924,0.013293087855752355,-0.06158638916943167,-0.29850258707945204,0.058777585033666285,-0.041385611401517676,-0.031046139284773726,-0.002665986054990797,0.10157997299462528,0.020754107365740754,-0.050708102773660155,-0.015394375606567166,-0.2774353731477426,0.0955855249669142,-0.1268722130229963,-0.033307016023235346,-0.1582382104081796,-0.0783756512897796,0.13307784558781727,-0.0287607377973176,-0.016718544125520846,-0.02656618388471835,0.032395870924225766,0.08838148600084628,0.21361526924652435,0.05303098591355491,0.04928810357551924,-0.15071612997199232,-0.2299552638304912,0.16697240602146807,0.0615349094267221,-0.2283485481529785,0.07868323004753937,0.06422353358069155,-0.05777888703774615,-0.08139568857942509,-0.07118003470770502,0.1298879464552413,0.03174353846063417,0.0056161094705341405,-0.03455494240055494,-0.0877230005543378,-0.17240986877474707,-0.09735879716723643,-0.04281246021530945,-0.07772440860340514,0.06198436745585162,0.03228133010608085,-0.19652054281142428,-0.09787334021834121,-0.20671213042863992,-0.08798802199740542,0.06270675971819262,0.08469355830355216,0.19889659929700704,0.14177574209664795,0.06954249494960743,0.22302746238303311,-0.06353884275249423,0.29675350756339275,0.13621382344378705,0.07536766668986858,0.24025694528254712,-0.021940879707406703,0.10760197938033218,0.007878426541780033,0.12153115088246622,-0.047370396197018695,0.04300434155398834,-0.19935249986509032,0.05683000737710982,-0.005596532203304535,0.16405612650031398,-0.05454732079836732,-0.3048638363164281,-0.21757537921579356,0.030477011275416476,-0.024492214634742934,0.055075303174982757,0.13097157230841666,-0.16195939334412385,0.05184083554846817,0.1488021659141494,-0.28068892417767427,0.21572359593746157,0.08554010408258533,-0.1724056540191891,0.14375905496681976,0.09187247377442406,0.03029776746119423,-0.01721710363605896,-0.01668586177887137,0.02304310161139619,-0.12621047356361959,-0.14328620312863682,0.13640320037677497,-0.058238466419153215,-0.05381233784314158,0.15128512731744417,0.04207426498022685,-0.07783772238197148,-0.14029387375570287,-0.0720721516077558,-0.2669061712217633,0.03615159565011522,-0.06747439806253741,0.08972546716256159,0.03615451004338403,0.03964402613640574,0.2826693517764803,-0.07204137480412469,0.09768626024055162,-0.2877461655353023],\"y\":[1,1,1,1,1,1,1,1,1,1,1,1,1,1,1,1,1,1,1,1,1,1,1,1,1,1,1,1,1,1,1,1,1,1,1,1,1,1,1,1,1,1,1,1,1,1,1,1,1,1,1,1,1,1,1,1,1,1,1,1,1,1,1,1,1,1,1,1,1,1,1,1,1,1,1,1,1,1,1,1,1,1,1,1,1,1,1,1,1,1,1,1,1,1,1,1,1,1,1,1,1,1,1,1,1,1,1,1,1,1,1,1,1,1,1,1,1,1,1,1,1,1,1,1,1,1,1,1,1,1,1,1,1,1,1,1,1,1,1,1,1,1,1,1,1,1,1,1,1,1,1,1,1,1,1,1,1,1,1,1,1,1,1,1,1,1,1,1,1,1,1,1,1,1,1,1,1,1,1,1,1,1,1,1,1,1,1,1,1,1,1,1,1,1,1,1,1,1,1,1,1,1,1,1,1,1,1,1,1,1,1,1,1,1,1,1,1,1,1,1],\"type\":\"scatter\",\"xaxis\":\"x\",\"yaxis\":\"y\"},{\"hovertemplate\":\"\\u003cb\\u003e%{text}\\u003c\\u002fb\\u003e\\u003cbr\\u003eCosine Similarity: %{x:.3f}\\u003cextra\\u003e\\u003c\\u002fextra\\u003e\",\"marker\":{\"color\":\"limegreen\",\"line\":{\"color\":\"black\",\"width\":1},\"opacity\":1.0,\"size\":8,\"symbol\":\"diamond\"},\"mode\":\"markers\",\"showlegend\":false,\"text\":[\"Zealous\",\"Wry\",\"Urgent\",\"Subversive\",\"Resilient\",\"Prescriptive\",\"Optimistic\",\"Open ended\",\"Neurotic\",\"Melancholic\",\"Ironic\",\"Inspirational\",\"Humble\",\"Extroverted\",\"Disorganized\",\"Decisive\",\"Cautious\",\"Assertive\",\"Anxious\",\"Adventurous\"],\"x\":[-0.37095352628231626,0.3487597774159858,-0.3402330439990452,0.36195155277875507,-0.31338542527329616,-0.363857293534385,-0.4741315067121247,0.5564171602842221,0.4525441483308907,0.41137183735380256,0.3306802870740607,-0.4655694716803394,0.3417967748798025,-0.3365291797195675,0.30585157147123465,-0.40823274052016095,0.36591862096333516,-0.49473060103780697,0.4944666699749372,-0.40976244603858436],\"y\":[1,1,1,1,1,1,1,1,1,1,1,1,1,1,1,1,1,1,1,1],\"type\":\"scatter\",\"xaxis\":\"x\",\"yaxis\":\"y\"},{\"hoverinfo\":\"skip\",\"line\":{\"color\":\"black\",\"width\":1},\"mode\":\"lines\",\"showlegend\":false,\"x\":[-0.49473060103780697,-0.49473060103780697],\"y\":[1.0,1.45],\"type\":\"scatter\",\"xaxis\":\"x\",\"yaxis\":\"y\"},{\"hoverinfo\":\"skip\",\"line\":{\"color\":\"black\",\"width\":1},\"mode\":\"lines\",\"showlegend\":false,\"x\":[-0.4741315067121247,-0.4741315067121247],\"y\":[1.0,0.6],\"type\":\"scatter\",\"xaxis\":\"x\",\"yaxis\":\"y\"},{\"hoverinfo\":\"skip\",\"line\":{\"color\":\"black\",\"width\":1},\"mode\":\"lines\",\"showlegend\":false,\"x\":[-0.4655694716803394,-0.4655694716803394],\"y\":[1.0,1.9],\"type\":\"scatter\",\"xaxis\":\"x\",\"yaxis\":\"y\"},{\"hoverinfo\":\"skip\",\"line\":{\"color\":\"black\",\"width\":1},\"mode\":\"lines\",\"showlegend\":false,\"x\":[-0.40976244603858436,-0.40976244603858436],\"y\":[1.0,0.15],\"type\":\"scatter\",\"xaxis\":\"x\",\"yaxis\":\"y\"},{\"hoverinfo\":\"skip\",\"line\":{\"color\":\"black\",\"width\":1},\"mode\":\"lines\",\"showlegend\":false,\"x\":[-0.40823274052016095,-0.40823274052016095],\"y\":[1.0,1.6],\"type\":\"scatter\",\"xaxis\":\"x\",\"yaxis\":\"y\"},{\"hoverinfo\":\"skip\",\"line\":{\"color\":\"black\",\"width\":1},\"mode\":\"lines\",\"showlegend\":false,\"x\":[-0.37095352628231626,-0.37095352628231626],\"y\":[1.0,0.45],\"type\":\"scatter\",\"xaxis\":\"x\",\"yaxis\":\"y\"},{\"hoverinfo\":\"skip\",\"line\":{\"color\":\"black\",\"width\":1},\"mode\":\"lines\",\"showlegend\":false,\"x\":[-0.363857293534385,-0.363857293534385],\"y\":[1.0,1.3],\"type\":\"scatter\",\"xaxis\":\"x\",\"yaxis\":\"y\"},{\"hoverinfo\":\"skip\",\"line\":{\"color\":\"black\",\"width\":1},\"mode\":\"lines\",\"showlegend\":false,\"x\":[-0.3402330439990452,-0.3402330439990452],\"y\":[1.0,0.75],\"type\":\"scatter\",\"xaxis\":\"x\",\"yaxis\":\"y\"},{\"hoverinfo\":\"skip\",\"line\":{\"color\":\"black\",\"width\":1},\"mode\":\"lines\",\"showlegend\":false,\"x\":[-0.3365291797195675,-0.3365291797195675],\"y\":[1.0,1.75],\"type\":\"scatter\",\"xaxis\":\"x\",\"yaxis\":\"y\"},{\"hoverinfo\":\"skip\",\"line\":{\"color\":\"black\",\"width\":1},\"mode\":\"lines\",\"showlegend\":false,\"x\":[-0.31338542527329616,-0.31338542527329616],\"y\":[1.0,0.3],\"type\":\"scatter\",\"xaxis\":\"x\",\"yaxis\":\"y\"},{\"hoverinfo\":\"skip\",\"line\":{\"color\":\"black\",\"width\":1},\"mode\":\"lines\",\"showlegend\":false,\"x\":[0.30585157147123465,0.30585157147123465],\"y\":[1.0,1.45],\"type\":\"scatter\",\"xaxis\":\"x\",\"yaxis\":\"y\"},{\"hoverinfo\":\"skip\",\"line\":{\"color\":\"black\",\"width\":1},\"mode\":\"lines\",\"showlegend\":false,\"x\":[0.3306802870740607,0.3306802870740607],\"y\":[1.0,0.6],\"type\":\"scatter\",\"xaxis\":\"x\",\"yaxis\":\"y\"},{\"hoverinfo\":\"skip\",\"line\":{\"color\":\"black\",\"width\":1},\"mode\":\"lines\",\"showlegend\":false,\"x\":[0.3417967748798025,0.3417967748798025],\"y\":[1.0,1.9],\"type\":\"scatter\",\"xaxis\":\"x\",\"yaxis\":\"y\"},{\"hoverinfo\":\"skip\",\"line\":{\"color\":\"black\",\"width\":1},\"mode\":\"lines\",\"showlegend\":false,\"x\":[0.3487597774159858,0.3487597774159858],\"y\":[1.0,0.15],\"type\":\"scatter\",\"xaxis\":\"x\",\"yaxis\":\"y\"},{\"hoverinfo\":\"skip\",\"line\":{\"color\":\"black\",\"width\":1},\"mode\":\"lines\",\"showlegend\":false,\"x\":[0.36195155277875507,0.36195155277875507],\"y\":[1.0,1.6],\"type\":\"scatter\",\"xaxis\":\"x\",\"yaxis\":\"y\"},{\"hoverinfo\":\"skip\",\"line\":{\"color\":\"black\",\"width\":1},\"mode\":\"lines\",\"showlegend\":false,\"x\":[0.36591862096333516,0.36591862096333516],\"y\":[1.0,0.45],\"type\":\"scatter\",\"xaxis\":\"x\",\"yaxis\":\"y\"},{\"hoverinfo\":\"skip\",\"line\":{\"color\":\"black\",\"width\":1},\"mode\":\"lines\",\"showlegend\":false,\"x\":[0.41137183735380256,0.41137183735380256],\"y\":[1.0,1.3],\"type\":\"scatter\",\"xaxis\":\"x\",\"yaxis\":\"y\"},{\"hoverinfo\":\"skip\",\"line\":{\"color\":\"black\",\"width\":1},\"mode\":\"lines\",\"showlegend\":false,\"x\":[0.4525441483308907,0.4525441483308907],\"y\":[1.0,0.75],\"type\":\"scatter\",\"xaxis\":\"x\",\"yaxis\":\"y\"},{\"hoverinfo\":\"skip\",\"line\":{\"color\":\"black\",\"width\":1},\"mode\":\"lines\",\"showlegend\":false,\"x\":[0.4944666699749372,0.4944666699749372],\"y\":[1.0,1.75],\"type\":\"scatter\",\"xaxis\":\"x\",\"yaxis\":\"y\"},{\"hoverinfo\":\"skip\",\"line\":{\"color\":\"black\",\"width\":1},\"mode\":\"lines\",\"showlegend\":false,\"x\":[0.5564171602842221,0.5564171602842221],\"y\":[1.0,0.3],\"type\":\"scatter\",\"xaxis\":\"x\",\"yaxis\":\"y\"},{\"hoverinfo\":\"skip\",\"marker\":{\"color\":\"limegreen\"},\"opacity\":0.7,\"showlegend\":false,\"width\":0.028030606968587436,\"x\":[-0.4772114716824398,-0.44217321297170553,-0.40713495426097124,-0.37209669555023694,-0.33705843683950265,-0.30202017812876836,-0.266981919418034,-0.23194366070729971,-0.19690540199656542,-0.16186714328583113,-0.12682888457509683,-0.09179062586436251,-0.05675236715362819,-0.021714108442893898,0.013324150267840396,0.04836240897857469,0.08340066768930898,0.11843892640004328,0.15347718511077757,0.18851544382151186,0.22355370253224616,0.25859196124298045,0.29363021995371474,0.3286684786644491,0.36370673737518344,0.39874499608591774,0.43378325479665203,0.4688215135073863,0.5038597722181206,0.5388980309288549],\"y\":[0.084375,0.0,0.05625,0.05625,0.05625,0.16875,0.16875,0.16875,0.253125,0.16875,0.28125,0.309375,0.7312500000000001,0.703125,0.45,0.9,0.646875,0.28125,0.3375,0.196875,0.225,0.084375,0.16875,0.05625,0.084375,0.028125,0.0,0.028125,0.028125,0.028125],\"type\":\"bar\",\"xaxis\":\"x\",\"yaxis\":\"y\"},{\"hovertemplate\":\"\\u003cb\\u003e%{text}\\u003c\\u002fb\\u003e\\u003cbr\\u003ePC Projection: %{x:.3f}\\u003cextra\\u003e\\u003c\\u002fextra\\u003e\",\"marker\":{\"color\":\"limegreen\",\"line\":{\"color\":\"black\",\"width\":1},\"opacity\":1.0,\"size\":8,\"symbol\":\"diamond\"},\"mode\":\"markers\",\"showlegend\":false,\"text\":[\"Wry\",\"Witty\",\"Whimsical\",\"Visceral\",\"Vindictive\",\"Verbose\",\"Utilitarian\",\"Urgent\",\"Universalist\",\"Transparent\",\"Traditional\",\"Theoretical\",\"Theatrical\",\"Temperamental\",\"Technical\",\"Tactful\",\"Systems thinker\",\"Sycophantic\",\"Supportive\",\"Subversive\",\"Submissive\",\"Structuralist\",\"Stream of consciousness\",\"Strategic\",\"Stoic\",\"Spontaneous\",\"Spiritual\",\"Speculative\",\"Specialized\",\"Solemn\",\"Socratic\",\"Skeptical\",\"Serious\",\"Serene\",\"Secular\",\"Savage\",\"Sassy\",\"Sardonic\",\"Sarcastic\",\"Romantic\",\"Ritualistic\",\"Risk taking\",\"Rhetorical\",\"Reverent\",\"Resilient\",\"Reserved\",\"Relativist\",\"Regulatory\",\"Reductionist\",\"Rebellious\",\"Reactive\",\"Rationalist\",\"Radical\",\"Quantitative\",\"Qualitative\",\"Provocative\",\"Progressive\",\"Problem solving\",\"Proactive\",\"Principled\",\"Practical\",\"Poetic\",\"Pluralist\",\"Playful\",\"Philosophical\",\"Petty\",\"Perfectionist\",\"Pensive\",\"Pedantic\",\"Patient\",\"Passive aggressive\",\"Passionate\",\"Paranoid\",\"Paradoxical\",\"Pacifist\",\"Obsessive\",\"Nurturing\",\"Nostalgic\",\"Nonchalant\",\"Narrative\",\"Naive\",\"Mystical\",\"Moderate\",\"Mischievous\",\"Misanthropic\",\"Militant\",\"Meticulous\",\"Methodical\",\"Metaphorical\",\"Mercurial\",\"Melodramatic\",\"Meditative\",\"Materialist\",\"Manipulative\",\"Manic\",\"Literal\",\"Libertarian\",\"Judgmental\",\"Irreverent\",\"Ironic\",\"Intuitive\",\"Introverted\",\"Introspective\",\"Interdisciplinary\",\"Inquisitive\",\"Innovative\",\"Individualistic\",\"Independent\",\"Inclusive\",\"Impulsive\",\"Improvisational\",\"Impatient\",\"Idealistic\",\"Iconoclastic\",\"Humanistic\",\"Hostile\",\"Holistic\",\"Historical\",\"Hedonistic\",\"Grounded\",\"Gregarious\",\"Grandiose\",\"Goofy\",\"Generous\",\"Generalist\",\"Futuristic\",\"Fundamentalist\",\"Formalist\",\"Formal\",\"Forgiving\",\"Flirty\",\"Flippant\",\"Flexible\",\"Fatalistic\",\"Factual\",\"Extroverted\",\"Exploratory\",\"Experiential\",\"Existentialist\",\"Evil\",\"Ethereal\",\"Essentialist\",\"Esoteric\",\"Erudite\",\"Epicurean\",\"Environmental\",\"Entertaining\",\"Enigmatic\",\"Empathetic\",\"Emotional\",\"Eloquent\",\"Elitist\",\"Egalitarian\",\"Effusive\",\"Efficient\",\"Educational\",\"Edgy\",\"Eclectic\",\"Earnest\",\"Dramatic\",\"Dominant\",\"Dogmatic\",\"Divergent\",\"Dispassionate\",\"Diplomatic\",\"Deterministic\",\"Detached\",\"Descriptive\",\"Deontological\",\"Deferential\",\"Deconstructionist\",\"Data driven\",\"Cynical\",\"Curious\",\"Cryptic\",\"Cruel\",\"Critical\",\"Creative\",\"Cosmopolitan\",\"Convergent\",\"Contrarian\",\"Contemporary\",\"Constructivist\",\"Conscientious\",\"Confrontational\",\"Condescending\",\"Concise\",\"Conciliatory\",\"Conceptual\",\"Competitive\",\"Collectivistic\",\"Collaborative\",\"Circumspect\",\"Chill\",\"Charismatic\",\"Chaotic\",\"Challenging\",\"Casual\",\"Calm\",\"Callous\",\"Calculating\",\"Bombastic\",\"Blunt\",\"Bitter\",\"Big picture\",\"Benevolent\",\"Avoidant\",\"Ascetic\",\"Artistic\",\"Arrogant\",\"Anthropocentric\",\"Analytical\",\"Altruistic\",\"Agreeable\",\"Adaptable\",\"Acerbic\",\"Accommodating\",\"Accessible\",\"Abstract\",\"Absolutist\"],\"x\":[14.676855165392647,-0.15672679311520543,-1.2913664139718206,-5.584571421975122,1.823186059354288,4.575991019508743,3.9646661263541567,-17.50437651154052,-11.85782221285544,6.251977974426123,3.786687730645994,8.835714312323272,-12.535299415736791,6.078570598017821,3.992609816442401,9.103940693725391,-2.547734268117093,-3.5614466730718477,-4.902421118699677,13.506131925168823,8.639110684345928,-0.6104219431529365,10.862570814154273,-0.6489668421226862,1.033578219570016,-0.9792919364577144,-12.013873647110895,3.4070004892519448,0.6716538187936668,-4.9980439678564625,7.908191307954215,11.145211879709132,-2.0949462177575926,-3.6350376114527077,4.193159413674693,-5.0187076861523545,-9.450387684563726,11.14320720620042,3.279217074609387,-12.28288868485463,4.2258516677333295,-10.265573714065715,-11.191128154893825,-5.597123226429897,-16.799693820990363,-1.5601786132418363,16.21314308839688,9.319891852861458,2.4692380163642027,-3.4633652225921656,-0.07855116310824779,5.371005821080267,-5.15343774730107,1.989646893267468,-1.4183870576033517,4.25063973093732,-11.604991798067255,-9.666772670898565,3.058806170679573,-7.181328116320041,-15.057573677430936,-3.9721484168746346,8.77493523478363,-2.7486592476075318,6.165071964641509,15.335119075356872,0.5151410112686611,2.8663159564866807,11.427141446627317,2.082117287383176,14.541404410242722,-17.350277476619315,7.269543333169356,8.646729762417523,-1.3439474798711004,10.898600603262595,-5.131802006019206,4.2195573756658575,8.551978966704091,-0.9685981613440806,-3.9161980941734456,-7.2956602453988975,13.60764080321322,5.823040801092276,13.71700418037406,-17.372452750553695,4.131417226725731,-5.178386919766048,-5.2869286424126365,8.484505202011782,-11.343455175997823,4.99062846426745,4.819187420698267,10.311860444522026,-4.226476832817981,0.27969420500402886,-10.335058031174773,-4.146765513001964,3.8685690036692,14.867538026713294,-10.045326448646602,4.009368529491916,15.723517047181025,-1.1903907050246134,5.583557068438268,-13.097768569204808,-4.630931021753255,-8.6679741127411,3.1981447897885262,-5.899420230022361,0.841721654577178,-7.925766895869445,-15.467728648091539,2.557269385869712,-2.1324172731564563,-3.3093523600728476,-0.16637253758988535,4.967859908386309,1.6360113163402528,-2.8132462011245782,-0.919308237147028,-11.636025426253143,5.541606378014447,-9.04295859074827,-1.2568988014208082,-7.249009717837998,-8.530818201446044,6.651096201368897,-1.2681456177990498,-0.7441247484406632,-1.497029097604329,4.442950129652671,5.1360757523276375,14.710685145975544,2.5365024772161004,-13.161892654283704,4.661241304102296,-7.3533199343772635,-11.69851268476984,10.377131371439605,3.96018495075755,-13.145533671316846,4.9701614120830895,5.572991229071392,-3.884234092879747,-4.248123413556059,-4.224514544868305,8.502995024505156,2.7332854925632764,0.403761649302935,-4.1217765338052725,-5.370061485099287,-7.883694191013946,-8.981037071728773,-6.363382742126527,-6.438489896020959,2.9412580664514376,1.976080836196874,-14.688906056299455,-11.561625040153768,-12.335762248300997,-8.13111714258624,7.37004541450301,7.405012449192246,9.497729929586734,8.795575258634965,5.351339314406529,14.810676124902773,-3.467666331963577,12.514335999341515,12.221616771437684,4.254624090797376,12.552752682248606,-1.7776562406734018,4.848863896763312,0.7803199806130766,8.418611702252099,-3.6914701528742904,2.0526764168816256,-7.877645814358877,2.864519708963191,-0.29923161668987147,8.987634566796778,-5.094582043358277,-11.365109449398938,1.9067634557004678,-3.8564852180660387,2.439736777563304,6.710367562284117,-10.471670940484323,2.3616124596790935,7.097755024220785,17.901506737161938,3.9725264044932627,-17.12492897817632,6.361425363675659,6.754861359948278,1.1942181526551987,-1.0274092813226574,-2.4022126358295415,2.5039821783098417,-10.117750379503043,-10.302280406575782,8.739472714584128,-2.66619779718687,-2.7176449778087735,10.475577458657435,2.3537856981354244,-5.131976436613183,-11.41036220934303,-2.9929317942849423,3.7971308278030422,-3.277412656226781,6.938401385066658,4.38125782254647,3.044672297624997,9.032111427684834,-4.330623014510879,4.825578799582643,-15.943745959414686],\"y\":[1,1,1,1,1,1,1,1,1,1,1,1,1,1,1,1,1,1,1,1,1,1,1,1,1,1,1,1,1,1,1,1,1,1,1,1,1,1,1,1,1,1,1,1,1,1,1,1,1,1,1,1,1,1,1,1,1,1,1,1,1,1,1,1,1,1,1,1,1,1,1,1,1,1,1,1,1,1,1,1,1,1,1,1,1,1,1,1,1,1,1,1,1,1,1,1,1,1,1,1,1,1,1,1,1,1,1,1,1,1,1,1,1,1,1,1,1,1,1,1,1,1,1,1,1,1,1,1,1,1,1,1,1,1,1,1,1,1,1,1,1,1,1,1,1,1,1,1,1,1,1,1,1,1,1,1,1,1,1,1,1,1,1,1,1,1,1,1,1,1,1,1,1,1,1,1,1,1,1,1,1,1,1,1,1,1,1,1,1,1,1,1,1,1,1,1,1,1,1,1,1,1,1,1,1,1,1,1,1,1,1,1,1,1,1,1,1,1,1,1],\"type\":\"scatter\",\"xaxis\":\"x2\",\"yaxis\":\"y2\"},{\"hovertemplate\":\"\\u003cb\\u003e%{text}\\u003c\\u002fb\\u003e\\u003cbr\\u003ePC Projection: %{x:.3f}\\u003cextra\\u003e\\u003c\\u002fextra\\u003e\",\"marker\":{\"color\":\"limegreen\",\"line\":{\"color\":\"black\",\"width\":1},\"opacity\":1.0,\"size\":8,\"symbol\":\"diamond\"},\"mode\":\"markers\",\"showlegend\":false,\"text\":[\"Zealous\",\"Understated\",\"Prescriptive\",\"Pessimistic\",\"Optimistic\",\"Open ended\",\"Nihilistic\",\"Neurotic\",\"Melancholic\",\"Inspirational\",\"Humble\",\"Disorganized\",\"Decisive\",\"Confident\",\"Closure seeking\",\"Cautious\",\"Assertive\",\"Anxious\",\"Animated\",\"Adventurous\"],\"x\":[-24.63358443179495,21.070686667364086,-19.070282577321198,18.139348495532076,-25.088956699137636,24.916639848611947,18.79570485573133,24.653236023920737,20.50463978870054,-26.124110281034337,18.18544404451308,21.298478906998447,-32.96658769462946,-22.54765304674475,-24.928273862747666,22.664845291323136,-23.76674530023752,26.54843923379568,-20.444354417690924,-18.574405751211124],\"y\":[1,1,1,1,1,1,1,1,1,1,1,1,1,1,1,1,1,1,1,1],\"type\":\"scatter\",\"xaxis\":\"x2\",\"yaxis\":\"y2\"},{\"hoverinfo\":\"skip\",\"line\":{\"color\":\"black\",\"width\":1},\"mode\":\"lines\",\"showlegend\":false,\"x\":[-32.96658769462946,-32.96658769462946],\"y\":[1.0,1.45],\"type\":\"scatter\",\"xaxis\":\"x2\",\"yaxis\":\"y2\"},{\"hoverinfo\":\"skip\",\"line\":{\"color\":\"black\",\"width\":1},\"mode\":\"lines\",\"showlegend\":false,\"x\":[-26.124110281034337,-26.124110281034337],\"y\":[1.0,0.6],\"type\":\"scatter\",\"xaxis\":\"x2\",\"yaxis\":\"y2\"},{\"hoverinfo\":\"skip\",\"line\":{\"color\":\"black\",\"width\":1},\"mode\":\"lines\",\"showlegend\":false,\"x\":[-25.088956699137636,-25.088956699137636],\"y\":[1.0,1.9],\"type\":\"scatter\",\"xaxis\":\"x2\",\"yaxis\":\"y2\"},{\"hoverinfo\":\"skip\",\"line\":{\"color\":\"black\",\"width\":1},\"mode\":\"lines\",\"showlegend\":false,\"x\":[-24.928273862747666,-24.928273862747666],\"y\":[1.0,0.15],\"type\":\"scatter\",\"xaxis\":\"x2\",\"yaxis\":\"y2\"},{\"hoverinfo\":\"skip\",\"line\":{\"color\":\"black\",\"width\":1},\"mode\":\"lines\",\"showlegend\":false,\"x\":[-24.63358443179495,-24.63358443179495],\"y\":[1.0,1.6],\"type\":\"scatter\",\"xaxis\":\"x2\",\"yaxis\":\"y2\"},{\"hoverinfo\":\"skip\",\"line\":{\"color\":\"black\",\"width\":1},\"mode\":\"lines\",\"showlegend\":false,\"x\":[-23.76674530023752,-23.76674530023752],\"y\":[1.0,0.45],\"type\":\"scatter\",\"xaxis\":\"x2\",\"yaxis\":\"y2\"},{\"hoverinfo\":\"skip\",\"line\":{\"color\":\"black\",\"width\":1},\"mode\":\"lines\",\"showlegend\":false,\"x\":[-22.54765304674475,-22.54765304674475],\"y\":[1.0,1.3],\"type\":\"scatter\",\"xaxis\":\"x2\",\"yaxis\":\"y2\"},{\"hoverinfo\":\"skip\",\"line\":{\"color\":\"black\",\"width\":1},\"mode\":\"lines\",\"showlegend\":false,\"x\":[-20.444354417690924,-20.444354417690924],\"y\":[1.0,0.75],\"type\":\"scatter\",\"xaxis\":\"x2\",\"yaxis\":\"y2\"},{\"hoverinfo\":\"skip\",\"line\":{\"color\":\"black\",\"width\":1},\"mode\":\"lines\",\"showlegend\":false,\"x\":[-19.070282577321198,-19.070282577321198],\"y\":[1.0,1.75],\"type\":\"scatter\",\"xaxis\":\"x2\",\"yaxis\":\"y2\"},{\"hoverinfo\":\"skip\",\"line\":{\"color\":\"black\",\"width\":1},\"mode\":\"lines\",\"showlegend\":false,\"x\":[-18.574405751211124,-18.574405751211124],\"y\":[1.0,0.3],\"type\":\"scatter\",\"xaxis\":\"x2\",\"yaxis\":\"y2\"},{\"hoverinfo\":\"skip\",\"line\":{\"color\":\"black\",\"width\":1},\"mode\":\"lines\",\"showlegend\":false,\"x\":[18.139348495532076,18.139348495532076],\"y\":[1.0,1.45],\"type\":\"scatter\",\"xaxis\":\"x2\",\"yaxis\":\"y2\"},{\"hoverinfo\":\"skip\",\"line\":{\"color\":\"black\",\"width\":1},\"mode\":\"lines\",\"showlegend\":false,\"x\":[18.18544404451308,18.18544404451308],\"y\":[1.0,0.6],\"type\":\"scatter\",\"xaxis\":\"x2\",\"yaxis\":\"y2\"},{\"hoverinfo\":\"skip\",\"line\":{\"color\":\"black\",\"width\":1},\"mode\":\"lines\",\"showlegend\":false,\"x\":[18.79570485573133,18.79570485573133],\"y\":[1.0,1.9],\"type\":\"scatter\",\"xaxis\":\"x2\",\"yaxis\":\"y2\"},{\"hoverinfo\":\"skip\",\"line\":{\"color\":\"black\",\"width\":1},\"mode\":\"lines\",\"showlegend\":false,\"x\":[20.50463978870054,20.50463978870054],\"y\":[1.0,0.15],\"type\":\"scatter\",\"xaxis\":\"x2\",\"yaxis\":\"y2\"},{\"hoverinfo\":\"skip\",\"line\":{\"color\":\"black\",\"width\":1},\"mode\":\"lines\",\"showlegend\":false,\"x\":[21.070686667364086,21.070686667364086],\"y\":[1.0,1.6],\"type\":\"scatter\",\"xaxis\":\"x2\",\"yaxis\":\"y2\"},{\"hoverinfo\":\"skip\",\"line\":{\"color\":\"black\",\"width\":1},\"mode\":\"lines\",\"showlegend\":false,\"x\":[21.298478906998447,21.298478906998447],\"y\":[1.0,0.45],\"type\":\"scatter\",\"xaxis\":\"x2\",\"yaxis\":\"y2\"},{\"hoverinfo\":\"skip\",\"line\":{\"color\":\"black\",\"width\":1},\"mode\":\"lines\",\"showlegend\":false,\"x\":[22.664845291323136,22.664845291323136],\"y\":[1.0,1.3],\"type\":\"scatter\",\"xaxis\":\"x2\",\"yaxis\":\"y2\"},{\"hoverinfo\":\"skip\",\"line\":{\"color\":\"black\",\"width\":1},\"mode\":\"lines\",\"showlegend\":false,\"x\":[24.653236023920737,24.653236023920737],\"y\":[1.0,0.75],\"type\":\"scatter\",\"xaxis\":\"x2\",\"yaxis\":\"y2\"},{\"hoverinfo\":\"skip\",\"line\":{\"color\":\"black\",\"width\":1},\"mode\":\"lines\",\"showlegend\":false,\"x\":[24.916639848611947,24.916639848611947],\"y\":[1.0,1.75],\"type\":\"scatter\",\"xaxis\":\"x2\",\"yaxis\":\"y2\"},{\"hoverinfo\":\"skip\",\"line\":{\"color\":\"black\",\"width\":1},\"mode\":\"lines\",\"showlegend\":false,\"x\":[26.54843923379568,26.54843923379568],\"y\":[1.0,0.3],\"type\":\"scatter\",\"xaxis\":\"x2\",\"yaxis\":\"y2\"},{\"hoverinfo\":\"skip\",\"marker\":{\"color\":\"limegreen\"},\"opacity\":0.7,\"showlegend\":false,\"width\":1.5870673847580037,\"x\":[-31.974670579155706,-29.990836348208205,-28.007002117260697,-26.023167886313196,-24.039333655365688,-22.055499424418183,-20.07166519347068,-18.087830962523174,-16.10399673157567,-14.120162500628163,-12.136328269680659,-10.152494038733154,-8.16865980778565,-6.184825576838145,-4.200991345890641,-2.217157114943136,-0.2333228839956316,1.7505113469518747,3.7343455778993793,5.718179808846884,7.702014039794388,9.685848270741893,11.669682501689397,13.653516732636902,15.637350963584407,17.62118519453191,19.605019425479416,21.58885365642692,23.572687887374425,25.55652211832193],\"y\":[0.03461538461538462,0.0,0.0,0.06923076923076923,0.10384615384615385,0.03461538461538462,0.03461538461538462,0.2076923076923077,0.10384615384615385,0.13846153846153847,0.4846153846153846,0.27692307692307694,0.4153846153846154,0.2423076923076923,0.9,0.5884615384615385,0.5538461538461539,0.6576923076923077,0.9,0.6230769230769231,0.4846153846153846,0.4153846153846154,0.27692307692307694,0.13846153846153847,0.2423076923076923,0.10384615384615385,0.06923076923076923,0.06923076923076923,0.03461538461538462,0.10384615384615385],\"type\":\"bar\",\"xaxis\":\"x2\",\"yaxis\":\"y2\"}],                        {\"template\":{\"data\":{\"histogram2dcontour\":[{\"type\":\"histogram2dcontour\",\"colorbar\":{\"outlinewidth\":0,\"ticks\":\"\"},\"colorscale\":[[0.0,\"#0d0887\"],[0.1111111111111111,\"#46039f\"],[0.2222222222222222,\"#7201a8\"],[0.3333333333333333,\"#9c179e\"],[0.4444444444444444,\"#bd3786\"],[0.5555555555555556,\"#d8576b\"],[0.6666666666666666,\"#ed7953\"],[0.7777777777777778,\"#fb9f3a\"],[0.8888888888888888,\"#fdca26\"],[1.0,\"#f0f921\"]]}],\"choropleth\":[{\"type\":\"choropleth\",\"colorbar\":{\"outlinewidth\":0,\"ticks\":\"\"}}],\"histogram2d\":[{\"type\":\"histogram2d\",\"colorbar\":{\"outlinewidth\":0,\"ticks\":\"\"},\"colorscale\":[[0.0,\"#0d0887\"],[0.1111111111111111,\"#46039f\"],[0.2222222222222222,\"#7201a8\"],[0.3333333333333333,\"#9c179e\"],[0.4444444444444444,\"#bd3786\"],[0.5555555555555556,\"#d8576b\"],[0.6666666666666666,\"#ed7953\"],[0.7777777777777778,\"#fb9f3a\"],[0.8888888888888888,\"#fdca26\"],[1.0,\"#f0f921\"]]}],\"heatmap\":[{\"type\":\"heatmap\",\"colorbar\":{\"outlinewidth\":0,\"ticks\":\"\"},\"colorscale\":[[0.0,\"#0d0887\"],[0.1111111111111111,\"#46039f\"],[0.2222222222222222,\"#7201a8\"],[0.3333333333333333,\"#9c179e\"],[0.4444444444444444,\"#bd3786\"],[0.5555555555555556,\"#d8576b\"],[0.6666666666666666,\"#ed7953\"],[0.7777777777777778,\"#fb9f3a\"],[0.8888888888888888,\"#fdca26\"],[1.0,\"#f0f921\"]]}],\"heatmapgl\":[{\"type\":\"heatmapgl\",\"colorbar\":{\"outlinewidth\":0,\"ticks\":\"\"},\"colorscale\":[[0.0,\"#0d0887\"],[0.1111111111111111,\"#46039f\"],[0.2222222222222222,\"#7201a8\"],[0.3333333333333333,\"#9c179e\"],[0.4444444444444444,\"#bd3786\"],[0.5555555555555556,\"#d8576b\"],[0.6666666666666666,\"#ed7953\"],[0.7777777777777778,\"#fb9f3a\"],[0.8888888888888888,\"#fdca26\"],[1.0,\"#f0f921\"]]}],\"contourcarpet\":[{\"type\":\"contourcarpet\",\"colorbar\":{\"outlinewidth\":0,\"ticks\":\"\"}}],\"contour\":[{\"type\":\"contour\",\"colorbar\":{\"outlinewidth\":0,\"ticks\":\"\"},\"colorscale\":[[0.0,\"#0d0887\"],[0.1111111111111111,\"#46039f\"],[0.2222222222222222,\"#7201a8\"],[0.3333333333333333,\"#9c179e\"],[0.4444444444444444,\"#bd3786\"],[0.5555555555555556,\"#d8576b\"],[0.6666666666666666,\"#ed7953\"],[0.7777777777777778,\"#fb9f3a\"],[0.8888888888888888,\"#fdca26\"],[1.0,\"#f0f921\"]]}],\"surface\":[{\"type\":\"surface\",\"colorbar\":{\"outlinewidth\":0,\"ticks\":\"\"},\"colorscale\":[[0.0,\"#0d0887\"],[0.1111111111111111,\"#46039f\"],[0.2222222222222222,\"#7201a8\"],[0.3333333333333333,\"#9c179e\"],[0.4444444444444444,\"#bd3786\"],[0.5555555555555556,\"#d8576b\"],[0.6666666666666666,\"#ed7953\"],[0.7777777777777778,\"#fb9f3a\"],[0.8888888888888888,\"#fdca26\"],[1.0,\"#f0f921\"]]}],\"mesh3d\":[{\"type\":\"mesh3d\",\"colorbar\":{\"outlinewidth\":0,\"ticks\":\"\"}}],\"scatter\":[{\"fillpattern\":{\"fillmode\":\"overlay\",\"size\":10,\"solidity\":0.2},\"type\":\"scatter\"}],\"parcoords\":[{\"type\":\"parcoords\",\"line\":{\"colorbar\":{\"outlinewidth\":0,\"ticks\":\"\"}}}],\"scatterpolargl\":[{\"type\":\"scatterpolargl\",\"marker\":{\"colorbar\":{\"outlinewidth\":0,\"ticks\":\"\"}}}],\"bar\":[{\"error_x\":{\"color\":\"#2a3f5f\"},\"error_y\":{\"color\":\"#2a3f5f\"},\"marker\":{\"line\":{\"color\":\"#E5ECF6\",\"width\":0.5},\"pattern\":{\"fillmode\":\"overlay\",\"size\":10,\"solidity\":0.2}},\"type\":\"bar\"}],\"scattergeo\":[{\"type\":\"scattergeo\",\"marker\":{\"colorbar\":{\"outlinewidth\":0,\"ticks\":\"\"}}}],\"scatterpolar\":[{\"type\":\"scatterpolar\",\"marker\":{\"colorbar\":{\"outlinewidth\":0,\"ticks\":\"\"}}}],\"histogram\":[{\"marker\":{\"pattern\":{\"fillmode\":\"overlay\",\"size\":10,\"solidity\":0.2}},\"type\":\"histogram\"}],\"scattergl\":[{\"type\":\"scattergl\",\"marker\":{\"colorbar\":{\"outlinewidth\":0,\"ticks\":\"\"}}}],\"scatter3d\":[{\"type\":\"scatter3d\",\"line\":{\"colorbar\":{\"outlinewidth\":0,\"ticks\":\"\"}},\"marker\":{\"colorbar\":{\"outlinewidth\":0,\"ticks\":\"\"}}}],\"scattermapbox\":[{\"type\":\"scattermapbox\",\"marker\":{\"colorbar\":{\"outlinewidth\":0,\"ticks\":\"\"}}}],\"scatterternary\":[{\"type\":\"scatterternary\",\"marker\":{\"colorbar\":{\"outlinewidth\":0,\"ticks\":\"\"}}}],\"scattercarpet\":[{\"type\":\"scattercarpet\",\"marker\":{\"colorbar\":{\"outlinewidth\":0,\"ticks\":\"\"}}}],\"carpet\":[{\"aaxis\":{\"endlinecolor\":\"#2a3f5f\",\"gridcolor\":\"white\",\"linecolor\":\"white\",\"minorgridcolor\":\"white\",\"startlinecolor\":\"#2a3f5f\"},\"baxis\":{\"endlinecolor\":\"#2a3f5f\",\"gridcolor\":\"white\",\"linecolor\":\"white\",\"minorgridcolor\":\"white\",\"startlinecolor\":\"#2a3f5f\"},\"type\":\"carpet\"}],\"table\":[{\"cells\":{\"fill\":{\"color\":\"#EBF0F8\"},\"line\":{\"color\":\"white\"}},\"header\":{\"fill\":{\"color\":\"#C8D4E3\"},\"line\":{\"color\":\"white\"}},\"type\":\"table\"}],\"barpolar\":[{\"marker\":{\"line\":{\"color\":\"#E5ECF6\",\"width\":0.5},\"pattern\":{\"fillmode\":\"overlay\",\"size\":10,\"solidity\":0.2}},\"type\":\"barpolar\"}],\"pie\":[{\"automargin\":true,\"type\":\"pie\"}]},\"layout\":{\"autotypenumbers\":\"strict\",\"colorway\":[\"#636efa\",\"#EF553B\",\"#00cc96\",\"#ab63fa\",\"#FFA15A\",\"#19d3f3\",\"#FF6692\",\"#B6E880\",\"#FF97FF\",\"#FECB52\"],\"font\":{\"color\":\"#2a3f5f\"},\"hovermode\":\"closest\",\"hoverlabel\":{\"align\":\"left\"},\"paper_bgcolor\":\"white\",\"plot_bgcolor\":\"#E5ECF6\",\"polar\":{\"bgcolor\":\"#E5ECF6\",\"angularaxis\":{\"gridcolor\":\"white\",\"linecolor\":\"white\",\"ticks\":\"\"},\"radialaxis\":{\"gridcolor\":\"white\",\"linecolor\":\"white\",\"ticks\":\"\"}},\"ternary\":{\"bgcolor\":\"#E5ECF6\",\"aaxis\":{\"gridcolor\":\"white\",\"linecolor\":\"white\",\"ticks\":\"\"},\"baxis\":{\"gridcolor\":\"white\",\"linecolor\":\"white\",\"ticks\":\"\"},\"caxis\":{\"gridcolor\":\"white\",\"linecolor\":\"white\",\"ticks\":\"\"}},\"coloraxis\":{\"colorbar\":{\"outlinewidth\":0,\"ticks\":\"\"}},\"colorscale\":{\"sequential\":[[0.0,\"#0d0887\"],[0.1111111111111111,\"#46039f\"],[0.2222222222222222,\"#7201a8\"],[0.3333333333333333,\"#9c179e\"],[0.4444444444444444,\"#bd3786\"],[0.5555555555555556,\"#d8576b\"],[0.6666666666666666,\"#ed7953\"],[0.7777777777777778,\"#fb9f3a\"],[0.8888888888888888,\"#fdca26\"],[1.0,\"#f0f921\"]],\"sequentialminus\":[[0.0,\"#0d0887\"],[0.1111111111111111,\"#46039f\"],[0.2222222222222222,\"#7201a8\"],[0.3333333333333333,\"#9c179e\"],[0.4444444444444444,\"#bd3786\"],[0.5555555555555556,\"#d8576b\"],[0.6666666666666666,\"#ed7953\"],[0.7777777777777778,\"#fb9f3a\"],[0.8888888888888888,\"#fdca26\"],[1.0,\"#f0f921\"]],\"diverging\":[[0,\"#8e0152\"],[0.1,\"#c51b7d\"],[0.2,\"#de77ae\"],[0.3,\"#f1b6da\"],[0.4,\"#fde0ef\"],[0.5,\"#f7f7f7\"],[0.6,\"#e6f5d0\"],[0.7,\"#b8e186\"],[0.8,\"#7fbc41\"],[0.9,\"#4d9221\"],[1,\"#276419\"]]},\"xaxis\":{\"gridcolor\":\"white\",\"linecolor\":\"white\",\"ticks\":\"\",\"title\":{\"standoff\":15},\"zerolinecolor\":\"white\",\"automargin\":true,\"zerolinewidth\":2},\"yaxis\":{\"gridcolor\":\"white\",\"linecolor\":\"white\",\"ticks\":\"\",\"title\":{\"standoff\":15},\"zerolinecolor\":\"white\",\"automargin\":true,\"zerolinewidth\":2},\"scene\":{\"xaxis\":{\"backgroundcolor\":\"#E5ECF6\",\"gridcolor\":\"white\",\"linecolor\":\"white\",\"showbackground\":true,\"ticks\":\"\",\"zerolinecolor\":\"white\",\"gridwidth\":2},\"yaxis\":{\"backgroundcolor\":\"#E5ECF6\",\"gridcolor\":\"white\",\"linecolor\":\"white\",\"showbackground\":true,\"ticks\":\"\",\"zerolinecolor\":\"white\",\"gridwidth\":2},\"zaxis\":{\"backgroundcolor\":\"#E5ECF6\",\"gridcolor\":\"white\",\"linecolor\":\"white\",\"showbackground\":true,\"ticks\":\"\",\"zerolinecolor\":\"white\",\"gridwidth\":2}},\"shapedefaults\":{\"line\":{\"color\":\"#2a3f5f\"}},\"annotationdefaults\":{\"arrowcolor\":\"#2a3f5f\",\"arrowhead\":0,\"arrowwidth\":1},\"geo\":{\"bgcolor\":\"white\",\"landcolor\":\"#E5ECF6\",\"subunitcolor\":\"white\",\"showland\":true,\"showlakes\":true,\"lakecolor\":\"white\"},\"title\":{\"x\":0.05},\"mapbox\":{\"style\":\"light\"}}},\"xaxis\":{\"anchor\":\"y\",\"domain\":[0.0,1.0],\"range\":[-0.6120588763126443,0.6120588763126443]},\"yaxis\":{\"anchor\":\"x\",\"domain\":[0.55,1.0],\"showticklabels\":false,\"range\":[0,2.5]},\"xaxis2\":{\"anchor\":\"y2\",\"domain\":[0.0,1.0],\"range\":[-36.26324646409241,36.26324646409241]},\"yaxis2\":{\"anchor\":\"x2\",\"domain\":[0.0,0.45],\"showticklabels\":false,\"range\":[0,2.5]},\"annotations\":[{\"font\":{\"size\":16},\"showarrow\":false,\"text\":\"PC6 Cosine Similarity\",\"x\":0.5,\"xanchor\":\"center\",\"xref\":\"paper\",\"y\":1.0,\"yanchor\":\"bottom\",\"yref\":\"paper\"},{\"font\":{\"size\":16},\"showarrow\":false,\"text\":\"PC6 Projection\",\"x\":0.5,\"xanchor\":\"center\",\"xref\":\"paper\",\"y\":0.45,\"yanchor\":\"bottom\",\"yref\":\"paper\"},{\"bgcolor\":\"rgba(255, 255, 255, 0.9)\",\"bordercolor\":\"black\",\"borderwidth\":1,\"font\":{\"color\":\"black\",\"size\":10},\"showarrow\":false,\"text\":\"Assertive\",\"x\":-0.49473060103780697,\"xref\":\"x\",\"y\":1.45,\"yref\":\"y\"},{\"bgcolor\":\"rgba(255, 255, 255, 0.9)\",\"bordercolor\":\"black\",\"borderwidth\":1,\"font\":{\"color\":\"black\",\"size\":10},\"showarrow\":false,\"text\":\"Optimistic\",\"x\":-0.4741315067121247,\"xref\":\"x\",\"y\":0.6,\"yref\":\"y\"},{\"bgcolor\":\"rgba(255, 255, 255, 0.9)\",\"bordercolor\":\"black\",\"borderwidth\":1,\"font\":{\"color\":\"black\",\"size\":10},\"showarrow\":false,\"text\":\"Inspirational\",\"x\":-0.4655694716803394,\"xref\":\"x\",\"y\":1.9,\"yref\":\"y\"},{\"bgcolor\":\"rgba(255, 255, 255, 0.9)\",\"bordercolor\":\"black\",\"borderwidth\":1,\"font\":{\"color\":\"black\",\"size\":10},\"showarrow\":false,\"text\":\"Adventurous\",\"x\":-0.40976244603858436,\"xref\":\"x\",\"y\":0.15,\"yref\":\"y\"},{\"bgcolor\":\"rgba(255, 255, 255, 0.9)\",\"bordercolor\":\"black\",\"borderwidth\":1,\"font\":{\"color\":\"black\",\"size\":10},\"showarrow\":false,\"text\":\"Decisive\",\"x\":-0.40823274052016095,\"xref\":\"x\",\"y\":1.6,\"yref\":\"y\"},{\"bgcolor\":\"rgba(255, 255, 255, 0.9)\",\"bordercolor\":\"black\",\"borderwidth\":1,\"font\":{\"color\":\"black\",\"size\":10},\"showarrow\":false,\"text\":\"Zealous\",\"x\":-0.37095352628231626,\"xref\":\"x\",\"y\":0.45,\"yref\":\"y\"},{\"bgcolor\":\"rgba(255, 255, 255, 0.9)\",\"bordercolor\":\"black\",\"borderwidth\":1,\"font\":{\"color\":\"black\",\"size\":10},\"showarrow\":false,\"text\":\"Prescriptive\",\"x\":-0.363857293534385,\"xref\":\"x\",\"y\":1.3,\"yref\":\"y\"},{\"bgcolor\":\"rgba(255, 255, 255, 0.9)\",\"bordercolor\":\"black\",\"borderwidth\":1,\"font\":{\"color\":\"black\",\"size\":10},\"showarrow\":false,\"text\":\"Urgent\",\"x\":-0.3402330439990452,\"xref\":\"x\",\"y\":0.75,\"yref\":\"y\"},{\"bgcolor\":\"rgba(255, 255, 255, 0.9)\",\"bordercolor\":\"black\",\"borderwidth\":1,\"font\":{\"color\":\"black\",\"size\":10},\"showarrow\":false,\"text\":\"Extroverted\",\"x\":-0.3365291797195675,\"xref\":\"x\",\"y\":1.75,\"yref\":\"y\"},{\"bgcolor\":\"rgba(255, 255, 255, 0.9)\",\"bordercolor\":\"black\",\"borderwidth\":1,\"font\":{\"color\":\"black\",\"size\":10},\"showarrow\":false,\"text\":\"Resilient\",\"x\":-0.31338542527329616,\"xref\":\"x\",\"y\":0.3,\"yref\":\"y\"},{\"bgcolor\":\"rgba(255, 255, 255, 0.9)\",\"bordercolor\":\"black\",\"borderwidth\":1,\"font\":{\"color\":\"black\",\"size\":10},\"showarrow\":false,\"text\":\"Disorganized\",\"x\":0.30585157147123465,\"xref\":\"x\",\"y\":1.45,\"yref\":\"y\"},{\"bgcolor\":\"rgba(255, 255, 255, 0.9)\",\"bordercolor\":\"black\",\"borderwidth\":1,\"font\":{\"color\":\"black\",\"size\":10},\"showarrow\":false,\"text\":\"Ironic\",\"x\":0.3306802870740607,\"xref\":\"x\",\"y\":0.6,\"yref\":\"y\"},{\"bgcolor\":\"rgba(255, 255, 255, 0.9)\",\"bordercolor\":\"black\",\"borderwidth\":1,\"font\":{\"color\":\"black\",\"size\":10},\"showarrow\":false,\"text\":\"Humble\",\"x\":0.3417967748798025,\"xref\":\"x\",\"y\":1.9,\"yref\":\"y\"},{\"bgcolor\":\"rgba(255, 255, 255, 0.9)\",\"bordercolor\":\"black\",\"borderwidth\":1,\"font\":{\"color\":\"black\",\"size\":10},\"showarrow\":false,\"text\":\"Wry\",\"x\":0.3487597774159858,\"xref\":\"x\",\"y\":0.15,\"yref\":\"y\"},{\"bgcolor\":\"rgba(255, 255, 255, 0.9)\",\"bordercolor\":\"black\",\"borderwidth\":1,\"font\":{\"color\":\"black\",\"size\":10},\"showarrow\":false,\"text\":\"Subversive\",\"x\":0.36195155277875507,\"xref\":\"x\",\"y\":1.6,\"yref\":\"y\"},{\"bgcolor\":\"rgba(255, 255, 255, 0.9)\",\"bordercolor\":\"black\",\"borderwidth\":1,\"font\":{\"color\":\"black\",\"size\":10},\"showarrow\":false,\"text\":\"Cautious\",\"x\":0.36591862096333516,\"xref\":\"x\",\"y\":0.45,\"yref\":\"y\"},{\"bgcolor\":\"rgba(255, 255, 255, 0.9)\",\"bordercolor\":\"black\",\"borderwidth\":1,\"font\":{\"color\":\"black\",\"size\":10},\"showarrow\":false,\"text\":\"Melancholic\",\"x\":0.41137183735380256,\"xref\":\"x\",\"y\":1.3,\"yref\":\"y\"},{\"bgcolor\":\"rgba(255, 255, 255, 0.9)\",\"bordercolor\":\"black\",\"borderwidth\":1,\"font\":{\"color\":\"black\",\"size\":10},\"showarrow\":false,\"text\":\"Neurotic\",\"x\":0.4525441483308907,\"xref\":\"x\",\"y\":0.75,\"yref\":\"y\"},{\"bgcolor\":\"rgba(255, 255, 255, 0.9)\",\"bordercolor\":\"black\",\"borderwidth\":1,\"font\":{\"color\":\"black\",\"size\":10},\"showarrow\":false,\"text\":\"Anxious\",\"x\":0.4944666699749372,\"xref\":\"x\",\"y\":1.75,\"yref\":\"y\"},{\"bgcolor\":\"rgba(255, 255, 255, 0.9)\",\"bordercolor\":\"black\",\"borderwidth\":1,\"font\":{\"color\":\"black\",\"size\":10},\"showarrow\":false,\"text\":\"Open ended\",\"x\":0.5564171602842221,\"xref\":\"x\",\"y\":0.3,\"yref\":\"y\"},{\"bgcolor\":\"rgba(255, 255, 255, 0.9)\",\"bordercolor\":\"red\",\"borderwidth\":1,\"font\":{\"color\":\"red\",\"size\":14},\"showarrow\":false,\"text\":\"Assistant\",\"x\":0.0089911516232241,\"xref\":\"x\",\"y\":2,\"yref\":\"y\"},{\"bgcolor\":\"rgba(255, 255, 255, 0.9)\",\"bordercolor\":\"black\",\"borderwidth\":1,\"font\":{\"color\":\"black\",\"size\":10},\"showarrow\":false,\"text\":\"Decisive\",\"x\":-32.96658769462946,\"xref\":\"x2\",\"y\":1.45,\"yref\":\"y2\"},{\"bgcolor\":\"rgba(255, 255, 255, 0.9)\",\"bordercolor\":\"black\",\"borderwidth\":1,\"font\":{\"color\":\"black\",\"size\":10},\"showarrow\":false,\"text\":\"Inspirational\",\"x\":-26.124110281034337,\"xref\":\"x2\",\"y\":0.6,\"yref\":\"y2\"},{\"bgcolor\":\"rgba(255, 255, 255, 0.9)\",\"bordercolor\":\"black\",\"borderwidth\":1,\"font\":{\"color\":\"black\",\"size\":10},\"showarrow\":false,\"text\":\"Optimistic\",\"x\":-25.088956699137636,\"xref\":\"x2\",\"y\":1.9,\"yref\":\"y2\"},{\"bgcolor\":\"rgba(255, 255, 255, 0.9)\",\"bordercolor\":\"black\",\"borderwidth\":1,\"font\":{\"color\":\"black\",\"size\":10},\"showarrow\":false,\"text\":\"Closure seeking\",\"x\":-24.928273862747666,\"xref\":\"x2\",\"y\":0.15,\"yref\":\"y2\"},{\"bgcolor\":\"rgba(255, 255, 255, 0.9)\",\"bordercolor\":\"black\",\"borderwidth\":1,\"font\":{\"color\":\"black\",\"size\":10},\"showarrow\":false,\"text\":\"Zealous\",\"x\":-24.63358443179495,\"xref\":\"x2\",\"y\":1.6,\"yref\":\"y2\"},{\"bgcolor\":\"rgba(255, 255, 255, 0.9)\",\"bordercolor\":\"black\",\"borderwidth\":1,\"font\":{\"color\":\"black\",\"size\":10},\"showarrow\":false,\"text\":\"Assertive\",\"x\":-23.76674530023752,\"xref\":\"x2\",\"y\":0.45,\"yref\":\"y2\"},{\"bgcolor\":\"rgba(255, 255, 255, 0.9)\",\"bordercolor\":\"black\",\"borderwidth\":1,\"font\":{\"color\":\"black\",\"size\":10},\"showarrow\":false,\"text\":\"Confident\",\"x\":-22.54765304674475,\"xref\":\"x2\",\"y\":1.3,\"yref\":\"y2\"},{\"bgcolor\":\"rgba(255, 255, 255, 0.9)\",\"bordercolor\":\"black\",\"borderwidth\":1,\"font\":{\"color\":\"black\",\"size\":10},\"showarrow\":false,\"text\":\"Animated\",\"x\":-20.444354417690924,\"xref\":\"x2\",\"y\":0.75,\"yref\":\"y2\"},{\"bgcolor\":\"rgba(255, 255, 255, 0.9)\",\"bordercolor\":\"black\",\"borderwidth\":1,\"font\":{\"color\":\"black\",\"size\":10},\"showarrow\":false,\"text\":\"Prescriptive\",\"x\":-19.070282577321198,\"xref\":\"x2\",\"y\":1.75,\"yref\":\"y2\"},{\"bgcolor\":\"rgba(255, 255, 255, 0.9)\",\"bordercolor\":\"black\",\"borderwidth\":1,\"font\":{\"color\":\"black\",\"size\":10},\"showarrow\":false,\"text\":\"Adventurous\",\"x\":-18.574405751211124,\"xref\":\"x2\",\"y\":0.3,\"yref\":\"y2\"},{\"bgcolor\":\"rgba(255, 255, 255, 0.9)\",\"bordercolor\":\"black\",\"borderwidth\":1,\"font\":{\"color\":\"black\",\"size\":10},\"showarrow\":false,\"text\":\"Pessimistic\",\"x\":18.139348495532076,\"xref\":\"x2\",\"y\":1.45,\"yref\":\"y2\"},{\"bgcolor\":\"rgba(255, 255, 255, 0.9)\",\"bordercolor\":\"black\",\"borderwidth\":1,\"font\":{\"color\":\"black\",\"size\":10},\"showarrow\":false,\"text\":\"Humble\",\"x\":18.18544404451308,\"xref\":\"x2\",\"y\":0.6,\"yref\":\"y2\"},{\"bgcolor\":\"rgba(255, 255, 255, 0.9)\",\"bordercolor\":\"black\",\"borderwidth\":1,\"font\":{\"color\":\"black\",\"size\":10},\"showarrow\":false,\"text\":\"Nihilistic\",\"x\":18.79570485573133,\"xref\":\"x2\",\"y\":1.9,\"yref\":\"y2\"},{\"bgcolor\":\"rgba(255, 255, 255, 0.9)\",\"bordercolor\":\"black\",\"borderwidth\":1,\"font\":{\"color\":\"black\",\"size\":10},\"showarrow\":false,\"text\":\"Melancholic\",\"x\":20.50463978870054,\"xref\":\"x2\",\"y\":0.15,\"yref\":\"y2\"},{\"bgcolor\":\"rgba(255, 255, 255, 0.9)\",\"bordercolor\":\"black\",\"borderwidth\":1,\"font\":{\"color\":\"black\",\"size\":10},\"showarrow\":false,\"text\":\"Understated\",\"x\":21.070686667364086,\"xref\":\"x2\",\"y\":1.6,\"yref\":\"y2\"},{\"bgcolor\":\"rgba(255, 255, 255, 0.9)\",\"bordercolor\":\"black\",\"borderwidth\":1,\"font\":{\"color\":\"black\",\"size\":10},\"showarrow\":false,\"text\":\"Disorganized\",\"x\":21.298478906998447,\"xref\":\"x2\",\"y\":0.45,\"yref\":\"y2\"},{\"bgcolor\":\"rgba(255, 255, 255, 0.9)\",\"bordercolor\":\"black\",\"borderwidth\":1,\"font\":{\"color\":\"black\",\"size\":10},\"showarrow\":false,\"text\":\"Cautious\",\"x\":22.664845291323136,\"xref\":\"x2\",\"y\":1.3,\"yref\":\"y2\"},{\"bgcolor\":\"rgba(255, 255, 255, 0.9)\",\"bordercolor\":\"black\",\"borderwidth\":1,\"font\":{\"color\":\"black\",\"size\":10},\"showarrow\":false,\"text\":\"Neurotic\",\"x\":24.653236023920737,\"xref\":\"x2\",\"y\":0.75,\"yref\":\"y2\"},{\"bgcolor\":\"rgba(255, 255, 255, 0.9)\",\"bordercolor\":\"black\",\"borderwidth\":1,\"font\":{\"color\":\"black\",\"size\":10},\"showarrow\":false,\"text\":\"Open ended\",\"x\":24.916639848611947,\"xref\":\"x2\",\"y\":1.75,\"yref\":\"y2\"},{\"bgcolor\":\"rgba(255, 255, 255, 0.9)\",\"bordercolor\":\"black\",\"borderwidth\":1,\"font\":{\"color\":\"black\",\"size\":10},\"showarrow\":false,\"text\":\"Anxious\",\"x\":26.54843923379568,\"xref\":\"x2\",\"y\":0.3,\"yref\":\"y2\"},{\"bgcolor\":\"rgba(255, 255, 255, 0.9)\",\"bordercolor\":\"red\",\"borderwidth\":1,\"font\":{\"color\":\"red\",\"size\":14},\"showarrow\":false,\"text\":\"Assistant\",\"x\":0.5205963334286937,\"xref\":\"x2\",\"y\":2,\"yref\":\"y2\"}],\"shapes\":[{\"line\":{\"color\":\"gray\",\"dash\":\"solid\",\"width\":1},\"opacity\":0.7,\"type\":\"line\",\"x0\":0,\"x1\":0,\"xref\":\"x\",\"y0\":0,\"y1\":1,\"yref\":\"y domain\"},{\"line\":{\"color\":\"red\",\"dash\":\"dash\",\"width\":1},\"opacity\":1.0,\"type\":\"line\",\"x0\":0.0089911516232241,\"x1\":0.0089911516232241,\"xref\":\"x\",\"y0\":0,\"y1\":1,\"yref\":\"y domain\"},{\"line\":{\"color\":\"gray\",\"dash\":\"solid\",\"width\":1},\"opacity\":0.7,\"type\":\"line\",\"x0\":0,\"x1\":0,\"xref\":\"x2\",\"y0\":0,\"y1\":1,\"yref\":\"y2 domain\"},{\"line\":{\"color\":\"red\",\"dash\":\"dash\",\"width\":1},\"opacity\":1.0,\"type\":\"line\",\"x0\":0.5205963334286937,\"x1\":0.5205963334286937,\"xref\":\"x2\",\"y0\":0,\"y1\":1,\"yref\":\"y2 domain\"}],\"title\":{\"subtitle\":{\"text\":\"Gemma 3 27B, Layer 32 - Shared Question Set, Mean-Centered and Scaled Vectors\"},\"font\":{\"size\":16},\"text\":\"PCA on Trait Vectors\",\"x\":0.5},\"height\":800,\"width\":1200,\"showlegend\":false},                        {\"responsive\": true}                    ).then(function(){\n",
       "                            \n",
       "var gd = document.getElementById('b73055f6-63e0-4cd1-b039-7d6b8583f294');\n",
       "var x = new MutationObserver(function (mutations, observer) {{\n",
       "        var display = window.getComputedStyle(gd).display;\n",
       "        if (!display || display === 'none') {{\n",
       "            console.log([gd, 'removed!']);\n",
       "            Plotly.purge(gd);\n",
       "            observer.disconnect();\n",
       "        }}\n",
       "}});\n",
       "\n",
       "// Listen for the removal of the full notebook cells\n",
       "var notebookContainer = gd.closest('#notebook-container');\n",
       "if (notebookContainer) {{\n",
       "    x.observe(notebookContainer, {childList: true});\n",
       "}}\n",
       "\n",
       "// Listen for the clearing of the current output cell\n",
       "var outputEl = gd.closest('.output');\n",
       "if (outputEl) {{\n",
       "    x.observe(outputEl, {childList: true});\n",
       "}}\n",
       "\n",
       "                        })                };                });            </script>        </div>"
      ]
     },
     "metadata": {},
     "output_type": "display_data"
    }
   ],
   "source": [
    "if normalized:\n",
    "    subtitle = f\"{model_name.replace('-', ' ')}, Layer {layer} - Shared Question Set, Unit Normalized Vectors\"\n",
    "else:\n",
    "    subtitle = f\"{model_name.replace('-', ' ')}, Layer {layer} - Shared Question Set, Mean-Centered and Scaled Vectors\"\n",
    "\n",
    "for i in range(6):\n",
    "    fig = plot_pc(\n",
    "        pca_results=pca_results,\n",
    "        trait_labels=trait_labels,\n",
    "        layer=layer,\n",
    "        pc_component=i,\n",
    "        assistant_activation=default_vectors['activations']['default_1'],\n",
    "        assistant_projection=asst_projected[0],\n",
    "        subtitle=subtitle,\n",
    "        scaled=not normalized,\n",
    "    )\n",
    "    fig.show()\n",
    "\n",
    "    if not normalized:\n",
    "        fig.write_html(f\"{plot_dir}/pc{i+1}.html\")\n",
    "    else:\n",
    "        fig.write_html(f\"{plot_dir}/pc{i+1}_normalized.html\")"
   ]
  },
  {
   "cell_type": "code",
   "execution_count": 26,
   "id": "e18873db",
   "metadata": {},
   "outputs": [],
   "source": [
    "# for i in range(10):\n",
    "#     fig = plot_pca_cosine_similarity(\n",
    "#             pca_results=pca_results,\n",
    "#             trait_labels=trait_labels,\n",
    "#             pc_component=i,\n",
    "#             layer=layer,\n",
    "#             assistant_activation=default_vectors['activations']['default_1'],\n",
    "#             subtitle=f\"{model_name.replace('-', ' ')}, Layer {layer} - Shared Question Set\"\n",
    "#         )\n",
    "#     fig.show()\n",
    "#     fig.write_html(f\"{plot_dir}/pc{i+1}_cossim.html\")"
   ]
  },
  {
   "cell_type": "code",
   "execution_count": 27,
   "id": "6dc0fbb7",
   "metadata": {},
   "outputs": [],
   "source": [
    "# for i in range(10):\n",
    "#     fig = plot_pca_projection(\n",
    "#             pca_results=pca_results,\n",
    "#             trait_labels=trait_labels,\n",
    "#             pc_component=i,\n",
    "#             assistant_activation=asst_projected[0],\n",
    "#             subtitle=f\"{model_name.replace('-', ' ')}, Layer {layer} - Shared Question Set\"\n",
    "#         )\n",
    "#     fig.show()\n",
    "#     fig.write_html(f\"{plot_dir}/pc{i+1}_projection.html\")"
   ]
  },
  {
   "cell_type": "code",
   "execution_count": 17,
   "id": "12724638",
   "metadata": {},
   "outputs": [
    {
     "data": {
      "application/vnd.plotly.v1+json": {
       "config": {
        "plotlyServerURL": "https://plot.ly"
       },
       "data": [
        {
         "hovertemplate": "<b>%{text}</b><br>PC1: %{x:.3f}<br>PC2: %{y:.3f}<br>PC3: %{z:.3f}<br><extra></extra>",
         "marker": {
          "color": [
           "limegreen",
           "limegreen",
           "limegreen",
           "limegreen",
           "limegreen",
           "limegreen",
           "limegreen",
           "limegreen",
           "limegreen",
           "limegreen",
           "limegreen",
           "limegreen",
           "limegreen",
           "limegreen",
           "limegreen",
           "limegreen",
           "limegreen",
           "limegreen",
           "limegreen",
           "limegreen",
           "limegreen",
           "limegreen",
           "limegreen",
           "limegreen",
           "limegreen",
           "limegreen",
           "limegreen",
           "limegreen",
           "limegreen",
           "limegreen",
           "limegreen",
           "limegreen",
           "limegreen",
           "limegreen",
           "limegreen",
           "limegreen",
           "limegreen",
           "limegreen",
           "limegreen",
           "limegreen",
           "limegreen",
           "limegreen",
           "limegreen",
           "limegreen",
           "limegreen",
           "limegreen",
           "limegreen",
           "limegreen",
           "limegreen",
           "limegreen",
           "limegreen",
           "limegreen",
           "limegreen",
           "limegreen",
           "limegreen",
           "limegreen",
           "limegreen",
           "limegreen",
           "limegreen",
           "limegreen",
           "limegreen",
           "limegreen",
           "limegreen",
           "limegreen",
           "limegreen",
           "limegreen",
           "limegreen",
           "limegreen",
           "limegreen",
           "limegreen",
           "limegreen",
           "limegreen",
           "limegreen",
           "limegreen",
           "limegreen",
           "limegreen",
           "limegreen",
           "limegreen",
           "limegreen",
           "limegreen",
           "limegreen",
           "limegreen",
           "limegreen",
           "limegreen",
           "limegreen",
           "limegreen",
           "limegreen",
           "limegreen",
           "limegreen",
           "limegreen",
           "limegreen",
           "limegreen",
           "limegreen",
           "limegreen",
           "limegreen",
           "limegreen",
           "limegreen",
           "limegreen",
           "limegreen",
           "limegreen",
           "limegreen",
           "limegreen",
           "limegreen",
           "limegreen",
           "limegreen",
           "limegreen",
           "limegreen",
           "limegreen",
           "limegreen",
           "limegreen",
           "limegreen",
           "limegreen",
           "limegreen",
           "limegreen",
           "limegreen",
           "limegreen",
           "limegreen",
           "limegreen",
           "limegreen",
           "limegreen",
           "limegreen",
           "limegreen",
           "limegreen",
           "limegreen",
           "limegreen",
           "limegreen",
           "limegreen",
           "limegreen",
           "limegreen",
           "limegreen",
           "limegreen",
           "limegreen",
           "limegreen",
           "limegreen",
           "limegreen",
           "limegreen",
           "limegreen",
           "limegreen",
           "limegreen",
           "limegreen",
           "limegreen",
           "limegreen",
           "limegreen",
           "limegreen",
           "limegreen",
           "limegreen",
           "limegreen",
           "limegreen",
           "limegreen",
           "limegreen",
           "limegreen",
           "limegreen",
           "limegreen",
           "limegreen",
           "limegreen",
           "limegreen",
           "limegreen",
           "limegreen",
           "limegreen",
           "limegreen",
           "limegreen",
           "limegreen",
           "limegreen",
           "limegreen",
           "limegreen",
           "limegreen",
           "limegreen",
           "limegreen",
           "limegreen",
           "limegreen",
           "limegreen",
           "limegreen",
           "limegreen",
           "limegreen",
           "limegreen",
           "limegreen",
           "limegreen",
           "limegreen",
           "limegreen",
           "limegreen",
           "limegreen",
           "limegreen",
           "limegreen",
           "limegreen",
           "limegreen",
           "limegreen",
           "limegreen",
           "limegreen",
           "limegreen",
           "limegreen",
           "limegreen",
           "limegreen",
           "limegreen",
           "limegreen",
           "limegreen",
           "limegreen",
           "limegreen",
           "limegreen",
           "limegreen",
           "limegreen",
           "limegreen",
           "limegreen",
           "limegreen",
           "limegreen",
           "limegreen",
           "limegreen",
           "limegreen",
           "limegreen",
           "limegreen",
           "limegreen",
           "limegreen",
           "limegreen",
           "limegreen",
           "limegreen",
           "limegreen",
           "limegreen",
           "limegreen",
           "limegreen",
           "limegreen",
           "limegreen",
           "limegreen",
           "limegreen",
           "limegreen",
           "limegreen",
           "limegreen",
           "limegreen",
           "limegreen",
           "limegreen",
           "limegreen",
           "limegreen",
           "limegreen",
           "limegreen",
           "limegreen",
           "limegreen",
           "limegreen",
           "limegreen",
           "limegreen",
           "limegreen",
           "limegreen",
           "limegreen"
          ],
          "line": {
           "color": "black",
           "width": 2
          },
          "size": 3
         },
         "mode": "markers+text",
         "text": [
          "Zealous",
          "Wry",
          "Witty",
          "Whimsical",
          "Visceral",
          "Vindictive",
          "Verbose",
          "Utilitarian",
          "Urgent",
          "Universalist",
          "Understated",
          "Transparent",
          "Traditional",
          "Theoretical",
          "Theatrical",
          "Temperamental",
          "Technical",
          "Tactful",
          "Systems thinker",
          "Sycophantic",
          "Supportive",
          "Subversive",
          "Submissive",
          "Structuralist",
          "Stream of consciousness",
          "Strategic",
          "Stoic",
          "Spontaneous",
          "Spiritual",
          "Speculative",
          "Specialized",
          "Solemn",
          "Socratic",
          "Skeptical",
          "Serious",
          "Serene",
          "Secular",
          "Savage",
          "Sassy",
          "Sardonic",
          "Sarcastic",
          "Romantic",
          "Ritualistic",
          "Risk taking",
          "Rhetorical",
          "Reverent",
          "Resilient",
          "Reserved",
          "Relativist",
          "Regulatory",
          "Reductionist",
          "Rebellious",
          "Reactive",
          "Rationalist",
          "Radical",
          "Quantitative",
          "Qualitative",
          "Provocative",
          "Progressive",
          "Problem solving",
          "Proactive",
          "Principled",
          "Prescriptive",
          "Practical",
          "Poetic",
          "Pluralist",
          "Playful",
          "Philosophical",
          "Petty",
          "Pessimistic",
          "Perfectionist",
          "Pensive",
          "Pedantic",
          "Patient",
          "Passive aggressive",
          "Passionate",
          "Paranoid",
          "Paradoxical",
          "Pacifist",
          "Optimistic",
          "Open ended",
          "Obsessive",
          "Nurturing",
          "Nostalgic",
          "Nonchalant",
          "Nihilistic",
          "Neurotic",
          "Narrative",
          "Naive",
          "Mystical",
          "Moderate",
          "Mischievous",
          "Misanthropic",
          "Militant",
          "Meticulous",
          "Methodical",
          "Metaphorical",
          "Mercurial",
          "Melodramatic",
          "Melancholic",
          "Meditative",
          "Materialist",
          "Manipulative",
          "Manic",
          "Literal",
          "Libertarian",
          "Judgmental",
          "Irreverent",
          "Ironic",
          "Intuitive",
          "Introverted",
          "Introspective",
          "Interdisciplinary",
          "Inspirational",
          "Inquisitive",
          "Innovative",
          "Individualistic",
          "Independent",
          "Inclusive",
          "Impulsive",
          "Improvisational",
          "Impatient",
          "Idealistic",
          "Iconoclastic",
          "Humble",
          "Humanistic",
          "Hostile",
          "Holistic",
          "Historical",
          "Hedonistic",
          "Grounded",
          "Gregarious",
          "Grandiose",
          "Goofy",
          "Generous",
          "Generalist",
          "Futuristic",
          "Fundamentalist",
          "Formalist",
          "Formal",
          "Forgiving",
          "Flirty",
          "Flippant",
          "Flexible",
          "Fatalistic",
          "Factual",
          "Extroverted",
          "Exploratory",
          "Experiential",
          "Existentialist",
          "Evil",
          "Ethereal",
          "Essentialist",
          "Esoteric",
          "Erudite",
          "Epicurean",
          "Environmental",
          "Entertaining",
          "Enigmatic",
          "Empathetic",
          "Emotional",
          "Eloquent",
          "Elitist",
          "Egalitarian",
          "Effusive",
          "Efficient",
          "Educational",
          "Edgy",
          "Eclectic",
          "Earnest",
          "Dramatic",
          "Dominant",
          "Dogmatic",
          "Divergent",
          "Dispassionate",
          "Disorganized",
          "Diplomatic",
          "Deterministic",
          "Detached",
          "Descriptive",
          "Deontological",
          "Deferential",
          "Deconstructionist",
          "Decisive",
          "Data driven",
          "Cynical",
          "Curious",
          "Cryptic",
          "Cruel",
          "Critical",
          "Creative",
          "Cosmopolitan",
          "Convergent",
          "Contrarian",
          "Contemporary",
          "Constructivist",
          "Conscientious",
          "Confrontational",
          "Confident",
          "Condescending",
          "Concise",
          "Conciliatory",
          "Conceptual",
          "Competitive",
          "Collectivistic",
          "Collaborative",
          "Closure seeking",
          "Circumspect",
          "Chill",
          "Charismatic",
          "Chaotic",
          "Challenging",
          "Cautious",
          "Casual",
          "Calm",
          "Callous",
          "Calculating",
          "Bombastic",
          "Blunt",
          "Bitter",
          "Big picture",
          "Benevolent",
          "Avoidant",
          "Assertive",
          "Ascetic",
          "Artistic",
          "Arrogant",
          "Anxious",
          "Anthropocentric",
          "Animated",
          "Analytical",
          "Altruistic",
          "Agreeable",
          "Adventurous",
          "Adaptable",
          "Acerbic",
          "Accommodating",
          "Accessible",
          "Abstract",
          "Absolutist"
         ],
         "textfont": {
          "size": 6
         },
         "textposition": "top center",
         "type": "scatter3d",
         "x": [
          50.66652412888759,
          -13.751069161372284,
          73.08631953180934,
          -13.447854341363806,
          -83.8274700544256,
          -18.87348082551667,
          103.70775924288304,
          -17.262376007287685,
          -18.805535999362643,
          -21.484755361719504,
          -123.20550981694784,
          113.90108963751014,
          -39.0479976773904,
          11.810193850765172,
          119.97386546613698,
          37.968122015550186,
          24.17150077548281,
          33.00286978102187,
          36.80624690784987,
          -129.2468930378231,
          110.8495462363456,
          -7.915388006869003,
          -88.71137906994667,
          16.642402530568223,
          16.20383041109636,
          91.81906104085563,
          -65.57639008532082,
          -17.661131947772258,
          -15.958537483341807,
          43.30419604481159,
          54.80970831756632,
          0.9605110282088543,
          -88.42474721032028,
          90.6085829758164,
          -39.59589935097188,
          -10.13364698290416,
          -21.469400542698246,
          -93.01923023630728,
          16.925773727182353,
          -58.35897125059118,
          -86.96194564368554,
          -35.81615106277843,
          16.05121404698591,
          -13.979326984359725,
          90.28122954490026,
          -3.103461780260363,
          36.848790228899,
          -137.00357256771687,
          -27.477852267179163,
          -23.70359479489079,
          -21.348207603055403,
          -16.05097420243685,
          -132.4286423784973,
          -18.70656306140631,
          -16.575863763358413,
          14.361142395105258,
          -20.08901672185276,
          63.0560264682733,
          4.28761583378215,
          72.16205498864323,
          148.2211479525656,
          -21.641203061996325,
          -8.89153654579369,
          -23.429093028429183,
          55.991106736240546,
          -9.475520477883105,
          22.058586905176412,
          83.20586690222926,
          -20.555870934589667,
          -54.064778953577346,
          79.85123902272372,
          116.19313078659857,
          53.648713426773114,
          54.517636830407646,
          -71.16733222368109,
          75.52669791793015,
          -19.65627059791524,
          -10.708197434681516,
          -31.767326849955136,
          -10.744430718302617,
          1.293941932760113,
          -9.066166507353758,
          95.50385259411695,
          -23.077257048058012,
          -133.16995491278905,
          -48.64587363052907,
          -23.56452555925541,
          32.6579681846401,
          -112.2439382737341,
          -29.632687850126263,
          22.824515575935603,
          -20.671850484454882,
          -46.10093542579598,
          -32.82405926676587,
          119.95876066979639,
          18.17103849552678,
          90.03496699107396,
          1.9135030716086974,
          76.24120532216186,
          -26.147080098931113,
          89.31215183841739,
          -33.26944001661905,
          -20.796330071301185,
          10.731350800873313,
          -128.56210118135948,
          -24.310985586290457,
          -45.41048976035457,
          -73.1243679427363,
          -2.5729066208130478,
          -14.57950888086768,
          3.7413353908787808,
          126.13180940901627,
          13.83230635482695,
          30.727489427949457,
          51.08947963893256,
          -3.7871926814774617,
          4.516652642293621,
          13.014140975235634,
          48.93152854939241,
          -179.55032019975116,
          -57.03405060967483,
          -132.2717448165994,
          -23.754373434542064,
          -7.390317224987215,
          37.77153473605395,
          27.515100025180573,
          -107.68385544305008,
          53.897252906298654,
          10.17703784701905,
          -70.83949677243406,
          -3.1894357259794353,
          52.10774866039358,
          -2.038508688244568,
          -28.44510000388191,
          53.10541761245691,
          -4.716415081120436,
          -14.706176237635713,
          -109.1931433209123,
          -16.609071998633304,
          -22.895250158271462,
          -17.81874384816135,
          -9.760966613143113,
          -141.03609444402895,
          46.15426790824864,
          -58.06434698396882,
          8.671133720192838,
          20.507927954254566,
          92.84826398230949,
          6.286525965487026,
          1.6494158030499144,
          -36.11142444528834,
          -40.1727795193295,
          -42.09861859211394,
          -16.881036026646317,
          82.75312483272785,
          58.56642404096398,
          -14.59117129326786,
          44.22595351936313,
          -53.56806064915772,
          82.78134574294062,
          59.79633452634289,
          120.41961299537715,
          -43.52030373740301,
          22.8246283387239,
          84.58364656698507,
          -153.4066766610535,
          75.51486376891899,
          7.258409755434389,
          54.194421436934185,
          70.20944995683365,
          114.6739746580948,
          52.947290848979705,
          -90.8523910244545,
          117.67278683155517,
          -77.07569440064994,
          -41.139263127728505,
          26.07635337343348,
          -31.448375695877527,
          -63.74917450998983,
          -44.865774211099,
          -21.934403027914353,
          -20.63634379944337,
          84.03865103844502,
          -70.35553875785904,
          -15.051976221122072,
          -33.88852739276506,
          76.76673301933853,
          -15.900083101675985,
          -98.66469119522795,
          58.57002634142491,
          73.90167069807238,
          30.998030097217388,
          -22.718409358021884,
          31.600993948691094,
          -20.973939697281832,
          -2.7141498810804503,
          92.15090884643548,
          6.246903246314474,
          -103.61935433908869,
          -53.227692295597215,
          -163.1312156233514,
          21.562292511618452,
          -20.154626732327984,
          -47.36264268710287,
          -10.370789922857043,
          26.34361414219292,
          -85.6274200501316,
          82.14409912287337,
          26.279544071551317,
          98.67769403909956,
          -1.5535367725824336,
          69.80219092342075,
          53.5088484791087,
          -10.545089979333815,
          -29.538902650552753,
          -147.12298088320367,
          107.34081621281653,
          61.964791710344024,
          -67.55676478015874,
          -52.829756781873996,
          24.580190940194363,
          18.86078053321204,
          -62.18230864266846,
          -33.08221208043233,
          -22.72933123097393,
          49.64175256839255,
          -75.56577216761441,
          13.01232358832603,
          -24.292399037816946,
          67.72075564156552,
          103.38300913658347,
          2.3526055647079547,
          74.37665227021694,
          -2.1551285548117067,
          122.78192573386207,
          -70.61912735147742,
          11.533936460046638,
          23.223563050713143,
          -17.310871725224388,
          -30.087661625556706
         ],
         "y": [
          25.976712796743694,
          14.037095025901767,
          19.472295675660956,
          31.890586744767543,
          19.418955076500684,
          1.387325789014177,
          -10.000751581902517,
          -10.616752694492778,
          -3.8559954980451145,
          -4.098245953455738,
          -12.525543708512858,
          -10.955061828624393,
          -18.76210230231517,
          -2.3570327949457623,
          28.87268302130578,
          37.860233218009526,
          -17.271913958073586,
          -14.679484774392854,
          -11.850579060021001,
          1.1669155142220087,
          -11.126615207016531,
          16.121722903736924,
          -6.071837569621667,
          -26.67824696954315,
          23.96903533492571,
          -20.653753773678616,
          -29.65918382315259,
          28.72236918880055,
          11.845005217664733,
          4.578271627708027,
          -11.415569133561794,
          -24.555173620724858,
          -1.191888496771568,
          -2.880992514247734,
          -33.55591701650136,
          -25.729499055234278,
          -14.101698158181183,
          3.260592718818169,
          9.876855863871413,
          17.509759560641236,
          10.80797100129823,
          29.857381813549587,
          -15.3322138887753,
          14.20170662008163,
          20.592997172150266,
          -17.514260456041225,
          -25.648195038591446,
          -40.108189374687626,
          11.159058094906767,
          -21.573907029740596,
          -14.725833995560023,
          9.711761673959353,
          7.34586665796706,
          -24.530680877486553,
          10.370856853038621,
          -27.35062367628897,
          18.085702241667004,
          13.135614901559164,
          -1.4046633025812878,
          -20.671483303634083,
          -7.947239723047373,
          -14.351398025840552,
          -13.308770511477993,
          -12.568938041158919,
          16.13395255148191,
          -13.159279985446997,
          22.56787591350729,
          9.035936339012926,
          27.63670078319451,
          7.866112874112157,
          -15.03433658798783,
          -4.428972021538733,
          -8.644913621648485,
          -21.373288319014836,
          9.037174145077369,
          24.87575695814629,
          10.933762786211643,
          9.772985616400364,
          -1.0007424909163525,
          -20.081134716819008,
          1.5445839638642818,
          18.604512311232025,
          -8.147337940973495,
          6.865951939222969,
          2.1445964015514476,
          17.113487004094228,
          25.626611566036598,
          29.326463280797025,
          -5.693894534437089,
          16.03718147106758,
          -27.867254427524347,
          28.099940110794964,
          19.201403324602516,
          17.421377211265977,
          -16.828277744126712,
          -40.470812235514074,
          22.344351607743302,
          33.5021339680933,
          34.82552553566176,
          15.123983750709895,
          0.6362154568638128,
          -11.928170876242653,
          24.39368356222199,
          34.41309014668238,
          -9.294087961841802,
          7.816945774408323,
          14.054455769711128,
          17.71595077162678,
          19.34379948528183,
          6.889072360182275,
          -10.862740367139654,
          4.269757241365688,
          -6.413702811402475,
          -20.166899276149316,
          -5.405851294079111,
          8.596589491578479,
          12.061482943354912,
          -6.2536508532401776,
          -9.701018040438907,
          1.3460601103524308,
          11.235874115265904,
          1.123470306947762,
          -5.204887891444277,
          15.949239378312843,
          -4.16490274838186,
          -8.358720059602245,
          7.347212616107061,
          -11.915151717998244,
          -1.4024602006639666,
          5.353410097957776,
          -22.093240545184084,
          5.704650200060992,
          19.149245842200028,
          32.50517807422051,
          -17.710368614420737,
          -10.646176016034017,
          -1.9973425002163114,
          -7.556331188213495,
          -23.54746740866964,
          -25.984290168214557,
          -12.389138238146963,
          27.225570538252377,
          8.347573306814414,
          -16.111016964121124,
          6.760940312271059,
          -33.819202974241165,
          -2.4801149133831766,
          -14.328409904084413,
          -2.5038738158573137,
          -2.6899764031927944,
          30.34530190071494,
          21.674779690498948,
          -5.643179642019006,
          5.17074726784425,
          -8.032209444830132,
          5.099731436553594,
          -9.746013044697177,
          26.103076218042183,
          20.488642630200733,
          5.263748458945415,
          22.0842461222117,
          6.406674915825769,
          4.771342779614931,
          -12.630382431301822,
          25.46973161608627,
          -3.9996461489130866,
          -23.164329635781048,
          30.558692216336425,
          1.4283212110580954,
          -6.265372923295515,
          30.796913390564832,
          -0.8547044843702633,
          4.82339266826559,
          -4.945826437865868,
          -38.06881244230104,
          33.59447084991417,
          -29.488311466872865,
          4.873222193207646,
          -28.776685843707778,
          -27.954612673797456,
          -6.7437678053139,
          -12.113592721990775,
          7.055412400633239,
          -15.632092056315111,
          -32.32376933205742,
          5.45808816080364,
          -3.2274905361399124,
          17.963515312300153,
          3.219795914963815,
          8.740347767826831,
          13.15285131301795,
          -16.776430321590244,
          -8.863919671704275,
          13.28044652110522,
          -9.001689031863728,
          -3.5053952080206447,
          -25.41160489423589,
          1.4657018996610371,
          -6.309057864533004,
          12.151631941788258,
          -3.9124539178197044,
          -24.89317872887433,
          -4.3557756395913145,
          7.590687848055691,
          -15.599275988724346,
          -11.716570537887273,
          -13.3224799173753,
          -7.130581133276894,
          -14.148660889790454,
          9.552502130582939,
          6.646747304214004,
          5.2856826273731325,
          -6.938605048652915,
          11.540251080342212,
          -43.04450064319989,
          -9.400653780606946,
          -7.130797095954029,
          25.99478499927346,
          -3.087972518145115,
          21.180754286583337,
          -9.192646980637413,
          -19.93810658591869,
          -6.00141224013453,
          8.059458336394894,
          -13.447640770221385,
          18.5698488271062,
          9.508162982236794,
          22.154965085047532,
          -4.802895202236672,
          12.15267574753646,
          -24.172249115023327,
          -19.02294521243032,
          -12.802407695167105,
          8.905364669951746,
          -3.8878955265117763,
          12.863820355850937,
          -3.308840163882937,
          -1.883323814467805,
          -5.450148397843995,
          -3.2031059785554166
         ],
         "z": [
          -2.2164572943271548,
          -14.829135542850498,
          0.5053064563747508,
          12.225720734119975,
          9.79370926858932,
          -18.26227686747892,
          -6.407303909832867,
          -8.697051611189515,
          -14.39373158221383,
          -7.562373928816671,
          8.75141073990302,
          -11.640164058543517,
          7.946849278577151,
          -4.744726341577069,
          -11.470349330546394,
          -3.5266223666971634,
          -24.816159182342883,
          14.900173496019892,
          4.5566493985923575,
          13.655561114045826,
          13.28652711615687,
          1.2607467249958912,
          9.178863455900162,
          -16.60142118581465,
          11.032739583067213,
          -5.149999772736544,
          -9.476369404020103,
          14.495611275829928,
          25.653076880356263,
          3.473370449445716,
          -20.188430841627127,
          -6.268293654756386,
          15.661962863972196,
          -15.034386045273298,
          -14.540068959356471,
          17.857603901917265,
          -10.65273719706696,
          -12.704953856442947,
          -6.465698842414112,
          -14.286924522029269,
          -9.331846012031912,
          25.71407348546065,
          -17.087378447444973,
          5.154489148276654,
          -0.3531739612344931,
          7.4580487407698905,
          9.571104820308548,
          -2.1465743646593127,
          2.744709224617826,
          -8.915648874481182,
          -7.191887795020004,
          3.5503612248030194,
          16.07119970362016,
          -22.552448189065316,
          -10.297210040463023,
          -26.310303345508427,
          30.556544641144786,
          -11.949901711695874,
          1.6396634933895093,
          -8.563780476364355,
          -10.209420487459182,
          6.28789820673064,
          -24.47405288001084,
          9.003981689667697,
          3.349767911873772,
          13.22331029583752,
          12.349594657654595,
          -1.6122676416576978,
          -10.370385551654742,
          -15.339857665306306,
          -17.09402801465929,
          -0.5057755275699999,
          -24.252965634219688,
          11.265116643310435,
          1.7595168966101973,
          0.016062977516909386,
          -14.672801663265048,
          10.965882357784324,
          8.203299167029687,
          27.206733584014295,
          21.22027646155573,
          -6.4380352303630985,
          23.15197575970803,
          11.701975910075817,
          -0.7026751886029078,
          -21.36290215411492,
          -1.6641715194266413,
          5.078715328142004,
          18.616809787013544,
          25.05074974061882,
          16.808067967341668,
          0.9946071418930745,
          -24.837961380438063,
          -22.707385153888573,
          -17.840689111228357,
          -14.295580272662395,
          4.138531782650025,
          0.21500936032052473,
          -8.606664484637477,
          -12.891012748893083,
          18.59062480887325,
          -18.802698318788707,
          -5.482178431379333,
          -0.28300862040640895,
          -0.10692681513827317,
          1.4899492205416045,
          -16.1026735957922,
          5.087130078343052,
          -9.25568996714518,
          21.869332060435397,
          -6.617812882034015,
          -6.938465995114487,
          5.8984306729506235,
          24.72627114768391,
          1.9953883549914224,
          -0.14376856481600545,
          -0.3079163164396922,
          5.021789687294343,
          5.6088158440425255,
          16.60436215924938,
          19.089596455539148,
          1.2878676856413775,
          6.415013085919783,
          -15.200665900528763,
          7.549032095292397,
          24.061140858030708,
          -12.709871438722768,
          1.8212540849298642,
          -7.066236563903725,
          6.411117452763714,
          -2.6391294542795474,
          13.92114758462795,
          -12.558403886801893,
          3.4115180313326845,
          15.082585290663843,
          14.045122449001104,
          -0.3023696645556149,
          -2.9760711412509995,
          -20.1604988834218,
          -10.91800528247648,
          26.342140982307143,
          12.060651411471135,
          6.6949612548625925,
          14.166940666005248,
          -4.832424173845209,
          2.424033488569,
          10.348168681898622,
          4.304678656268903,
          10.275186986077534,
          16.304228699078216,
          -19.90967061343275,
          17.211060021280375,
          -5.7724059066094915,
          -20.273647395959408,
          -14.973062933546338,
          -0.22480595421259605,
          11.503475694293902,
          10.134516016062275,
          7.738923739458655,
          17.326275971764115,
          20.675025743935688,
          -5.145109591914906,
          -17.02945027302445,
          11.431583819832081,
          2.707047424149424,
          12.38518270173523,
          4.124616872989829,
          -14.9468905276327,
          3.5924238013116336,
          11.376764628852927,
          -8.704068246208397,
          -12.165613599706123,
          -4.8698309509632445,
          -7.547183303629124,
          -16.540966787701553,
          6.264698742715254,
          16.9399279800959,
          -18.15885503332654,
          -22.410041761436275,
          -1.8316126192734021,
          2.2854406686114443,
          8.895965511988297,
          -13.432883826195297,
          -2.7320397104542433,
          -24.19638621940665,
          -23.594242771319674,
          11.703184929623669,
          1.3590028401217997,
          -19.01474428445273,
          -12.285789090495657,
          -1.109938794390615,
          6.712161609970142,
          -6.244226686963289,
          -10.24551923828351,
          4.824559032253557,
          14.218072038425387,
          -6.99434102257743,
          -15.707302466380801,
          -0.9333519245278471,
          -4.8513787561225294,
          11.508284506331682,
          22.48999390717624,
          1.2991271488650793,
          -23.43005346020313,
          9.18907539578794,
          10.886417777824004,
          -3.270306307261906,
          1.2807633547510127,
          20.309043621355578,
          8.062548475702787,
          6.110595056653249,
          -10.059408178682448,
          -5.770796156728355,
          18.063133766404807,
          15.995638359830263,
          -15.284874140309826,
          -11.91231328758242,
          -20.36868941460873,
          -9.525729761151148,
          -16.175133935483807,
          2.5139332593015835,
          29.476872091817516,
          -0.14917766413789155,
          -5.6189550195088875,
          1.3356498692691736,
          18.55490651490021,
          -14.11043871436145,
          -3.3863590972631847,
          -3.15178988416393,
          11.619264121097158,
          -19.269403219165376,
          23.11352384620727,
          14.52025375589729,
          9.622258251204089,
          -0.17962891876735004,
          -20.59425350265397,
          10.632178620158284,
          22.295196531506654,
          2.920948961596344,
          -13.400049090396045
         ]
        },
        {
         "hovertemplate": "<b>Assistant</b><br>PC1: %{x:.3f}<br>PC2: %{y:.3f}<br>PC3: %{z:.3f}<br><extra></extra>",
         "marker": {
          "color": "red",
          "opacity": 1,
          "size": 5
         },
         "mode": "markers+text",
         "showlegend": false,
         "text": [
          "Assistant"
         ],
         "textfont": {
          "color": "black",
          "size": 8
         },
         "textposition": "top center",
         "type": "scatter3d",
         "x": [
          -27.986395452068447
         ],
         "y": [
          -15.253716566905078
         ],
         "z": [
          15.787596009320223
         ]
        }
       ],
       "layout": {
        "height": 800,
        "scene": {
         "xaxis": {
          "title": {
           "text": "PC1 (73.3%)"
          }
         },
         "yaxis": {
          "title": {
           "text": "PC2 (5.5%)"
          }
         },
         "zaxis": {
          "title": {
           "text": "PC3 (3.2%)"
          }
         }
        },
        "template": {
         "data": {
          "bar": [
           {
            "error_x": {
             "color": "#2a3f5f"
            },
            "error_y": {
             "color": "#2a3f5f"
            },
            "marker": {
             "line": {
              "color": "#E5ECF6",
              "width": 0.5
             },
             "pattern": {
              "fillmode": "overlay",
              "size": 10,
              "solidity": 0.2
             }
            },
            "type": "bar"
           }
          ],
          "barpolar": [
           {
            "marker": {
             "line": {
              "color": "#E5ECF6",
              "width": 0.5
             },
             "pattern": {
              "fillmode": "overlay",
              "size": 10,
              "solidity": 0.2
             }
            },
            "type": "barpolar"
           }
          ],
          "carpet": [
           {
            "aaxis": {
             "endlinecolor": "#2a3f5f",
             "gridcolor": "white",
             "linecolor": "white",
             "minorgridcolor": "white",
             "startlinecolor": "#2a3f5f"
            },
            "baxis": {
             "endlinecolor": "#2a3f5f",
             "gridcolor": "white",
             "linecolor": "white",
             "minorgridcolor": "white",
             "startlinecolor": "#2a3f5f"
            },
            "type": "carpet"
           }
          ],
          "choropleth": [
           {
            "colorbar": {
             "outlinewidth": 0,
             "ticks": ""
            },
            "type": "choropleth"
           }
          ],
          "contour": [
           {
            "colorbar": {
             "outlinewidth": 0,
             "ticks": ""
            },
            "colorscale": [
             [
              0,
              "#0d0887"
             ],
             [
              0.1111111111111111,
              "#46039f"
             ],
             [
              0.2222222222222222,
              "#7201a8"
             ],
             [
              0.3333333333333333,
              "#9c179e"
             ],
             [
              0.4444444444444444,
              "#bd3786"
             ],
             [
              0.5555555555555556,
              "#d8576b"
             ],
             [
              0.6666666666666666,
              "#ed7953"
             ],
             [
              0.7777777777777778,
              "#fb9f3a"
             ],
             [
              0.8888888888888888,
              "#fdca26"
             ],
             [
              1,
              "#f0f921"
             ]
            ],
            "type": "contour"
           }
          ],
          "contourcarpet": [
           {
            "colorbar": {
             "outlinewidth": 0,
             "ticks": ""
            },
            "type": "contourcarpet"
           }
          ],
          "heatmap": [
           {
            "colorbar": {
             "outlinewidth": 0,
             "ticks": ""
            },
            "colorscale": [
             [
              0,
              "#0d0887"
             ],
             [
              0.1111111111111111,
              "#46039f"
             ],
             [
              0.2222222222222222,
              "#7201a8"
             ],
             [
              0.3333333333333333,
              "#9c179e"
             ],
             [
              0.4444444444444444,
              "#bd3786"
             ],
             [
              0.5555555555555556,
              "#d8576b"
             ],
             [
              0.6666666666666666,
              "#ed7953"
             ],
             [
              0.7777777777777778,
              "#fb9f3a"
             ],
             [
              0.8888888888888888,
              "#fdca26"
             ],
             [
              1,
              "#f0f921"
             ]
            ],
            "type": "heatmap"
           }
          ],
          "heatmapgl": [
           {
            "colorbar": {
             "outlinewidth": 0,
             "ticks": ""
            },
            "colorscale": [
             [
              0,
              "#0d0887"
             ],
             [
              0.1111111111111111,
              "#46039f"
             ],
             [
              0.2222222222222222,
              "#7201a8"
             ],
             [
              0.3333333333333333,
              "#9c179e"
             ],
             [
              0.4444444444444444,
              "#bd3786"
             ],
             [
              0.5555555555555556,
              "#d8576b"
             ],
             [
              0.6666666666666666,
              "#ed7953"
             ],
             [
              0.7777777777777778,
              "#fb9f3a"
             ],
             [
              0.8888888888888888,
              "#fdca26"
             ],
             [
              1,
              "#f0f921"
             ]
            ],
            "type": "heatmapgl"
           }
          ],
          "histogram": [
           {
            "marker": {
             "pattern": {
              "fillmode": "overlay",
              "size": 10,
              "solidity": 0.2
             }
            },
            "type": "histogram"
           }
          ],
          "histogram2d": [
           {
            "colorbar": {
             "outlinewidth": 0,
             "ticks": ""
            },
            "colorscale": [
             [
              0,
              "#0d0887"
             ],
             [
              0.1111111111111111,
              "#46039f"
             ],
             [
              0.2222222222222222,
              "#7201a8"
             ],
             [
              0.3333333333333333,
              "#9c179e"
             ],
             [
              0.4444444444444444,
              "#bd3786"
             ],
             [
              0.5555555555555556,
              "#d8576b"
             ],
             [
              0.6666666666666666,
              "#ed7953"
             ],
             [
              0.7777777777777778,
              "#fb9f3a"
             ],
             [
              0.8888888888888888,
              "#fdca26"
             ],
             [
              1,
              "#f0f921"
             ]
            ],
            "type": "histogram2d"
           }
          ],
          "histogram2dcontour": [
           {
            "colorbar": {
             "outlinewidth": 0,
             "ticks": ""
            },
            "colorscale": [
             [
              0,
              "#0d0887"
             ],
             [
              0.1111111111111111,
              "#46039f"
             ],
             [
              0.2222222222222222,
              "#7201a8"
             ],
             [
              0.3333333333333333,
              "#9c179e"
             ],
             [
              0.4444444444444444,
              "#bd3786"
             ],
             [
              0.5555555555555556,
              "#d8576b"
             ],
             [
              0.6666666666666666,
              "#ed7953"
             ],
             [
              0.7777777777777778,
              "#fb9f3a"
             ],
             [
              0.8888888888888888,
              "#fdca26"
             ],
             [
              1,
              "#f0f921"
             ]
            ],
            "type": "histogram2dcontour"
           }
          ],
          "mesh3d": [
           {
            "colorbar": {
             "outlinewidth": 0,
             "ticks": ""
            },
            "type": "mesh3d"
           }
          ],
          "parcoords": [
           {
            "line": {
             "colorbar": {
              "outlinewidth": 0,
              "ticks": ""
             }
            },
            "type": "parcoords"
           }
          ],
          "pie": [
           {
            "automargin": true,
            "type": "pie"
           }
          ],
          "scatter": [
           {
            "fillpattern": {
             "fillmode": "overlay",
             "size": 10,
             "solidity": 0.2
            },
            "type": "scatter"
           }
          ],
          "scatter3d": [
           {
            "line": {
             "colorbar": {
              "outlinewidth": 0,
              "ticks": ""
             }
            },
            "marker": {
             "colorbar": {
              "outlinewidth": 0,
              "ticks": ""
             }
            },
            "type": "scatter3d"
           }
          ],
          "scattercarpet": [
           {
            "marker": {
             "colorbar": {
              "outlinewidth": 0,
              "ticks": ""
             }
            },
            "type": "scattercarpet"
           }
          ],
          "scattergeo": [
           {
            "marker": {
             "colorbar": {
              "outlinewidth": 0,
              "ticks": ""
             }
            },
            "type": "scattergeo"
           }
          ],
          "scattergl": [
           {
            "marker": {
             "colorbar": {
              "outlinewidth": 0,
              "ticks": ""
             }
            },
            "type": "scattergl"
           }
          ],
          "scattermapbox": [
           {
            "marker": {
             "colorbar": {
              "outlinewidth": 0,
              "ticks": ""
             }
            },
            "type": "scattermapbox"
           }
          ],
          "scatterpolar": [
           {
            "marker": {
             "colorbar": {
              "outlinewidth": 0,
              "ticks": ""
             }
            },
            "type": "scatterpolar"
           }
          ],
          "scatterpolargl": [
           {
            "marker": {
             "colorbar": {
              "outlinewidth": 0,
              "ticks": ""
             }
            },
            "type": "scatterpolargl"
           }
          ],
          "scatterternary": [
           {
            "marker": {
             "colorbar": {
              "outlinewidth": 0,
              "ticks": ""
             }
            },
            "type": "scatterternary"
           }
          ],
          "surface": [
           {
            "colorbar": {
             "outlinewidth": 0,
             "ticks": ""
            },
            "colorscale": [
             [
              0,
              "#0d0887"
             ],
             [
              0.1111111111111111,
              "#46039f"
             ],
             [
              0.2222222222222222,
              "#7201a8"
             ],
             [
              0.3333333333333333,
              "#9c179e"
             ],
             [
              0.4444444444444444,
              "#bd3786"
             ],
             [
              0.5555555555555556,
              "#d8576b"
             ],
             [
              0.6666666666666666,
              "#ed7953"
             ],
             [
              0.7777777777777778,
              "#fb9f3a"
             ],
             [
              0.8888888888888888,
              "#fdca26"
             ],
             [
              1,
              "#f0f921"
             ]
            ],
            "type": "surface"
           }
          ],
          "table": [
           {
            "cells": {
             "fill": {
              "color": "#EBF0F8"
             },
             "line": {
              "color": "white"
             }
            },
            "header": {
             "fill": {
              "color": "#C8D4E3"
             },
             "line": {
              "color": "white"
             }
            },
            "type": "table"
           }
          ]
         },
         "layout": {
          "annotationdefaults": {
           "arrowcolor": "#2a3f5f",
           "arrowhead": 0,
           "arrowwidth": 1
          },
          "autotypenumbers": "strict",
          "coloraxis": {
           "colorbar": {
            "outlinewidth": 0,
            "ticks": ""
           }
          },
          "colorscale": {
           "diverging": [
            [
             0,
             "#8e0152"
            ],
            [
             0.1,
             "#c51b7d"
            ],
            [
             0.2,
             "#de77ae"
            ],
            [
             0.3,
             "#f1b6da"
            ],
            [
             0.4,
             "#fde0ef"
            ],
            [
             0.5,
             "#f7f7f7"
            ],
            [
             0.6,
             "#e6f5d0"
            ],
            [
             0.7,
             "#b8e186"
            ],
            [
             0.8,
             "#7fbc41"
            ],
            [
             0.9,
             "#4d9221"
            ],
            [
             1,
             "#276419"
            ]
           ],
           "sequential": [
            [
             0,
             "#0d0887"
            ],
            [
             0.1111111111111111,
             "#46039f"
            ],
            [
             0.2222222222222222,
             "#7201a8"
            ],
            [
             0.3333333333333333,
             "#9c179e"
            ],
            [
             0.4444444444444444,
             "#bd3786"
            ],
            [
             0.5555555555555556,
             "#d8576b"
            ],
            [
             0.6666666666666666,
             "#ed7953"
            ],
            [
             0.7777777777777778,
             "#fb9f3a"
            ],
            [
             0.8888888888888888,
             "#fdca26"
            ],
            [
             1,
             "#f0f921"
            ]
           ],
           "sequentialminus": [
            [
             0,
             "#0d0887"
            ],
            [
             0.1111111111111111,
             "#46039f"
            ],
            [
             0.2222222222222222,
             "#7201a8"
            ],
            [
             0.3333333333333333,
             "#9c179e"
            ],
            [
             0.4444444444444444,
             "#bd3786"
            ],
            [
             0.5555555555555556,
             "#d8576b"
            ],
            [
             0.6666666666666666,
             "#ed7953"
            ],
            [
             0.7777777777777778,
             "#fb9f3a"
            ],
            [
             0.8888888888888888,
             "#fdca26"
            ],
            [
             1,
             "#f0f921"
            ]
           ]
          },
          "colorway": [
           "#636efa",
           "#EF553B",
           "#00cc96",
           "#ab63fa",
           "#FFA15A",
           "#19d3f3",
           "#FF6692",
           "#B6E880",
           "#FF97FF",
           "#FECB52"
          ],
          "font": {
           "color": "#2a3f5f"
          },
          "geo": {
           "bgcolor": "white",
           "lakecolor": "white",
           "landcolor": "#E5ECF6",
           "showlakes": true,
           "showland": true,
           "subunitcolor": "white"
          },
          "hoverlabel": {
           "align": "left"
          },
          "hovermode": "closest",
          "mapbox": {
           "style": "light"
          },
          "paper_bgcolor": "white",
          "plot_bgcolor": "#E5ECF6",
          "polar": {
           "angularaxis": {
            "gridcolor": "white",
            "linecolor": "white",
            "ticks": ""
           },
           "bgcolor": "#E5ECF6",
           "radialaxis": {
            "gridcolor": "white",
            "linecolor": "white",
            "ticks": ""
           }
          },
          "scene": {
           "xaxis": {
            "backgroundcolor": "#E5ECF6",
            "gridcolor": "white",
            "gridwidth": 2,
            "linecolor": "white",
            "showbackground": true,
            "ticks": "",
            "zerolinecolor": "white"
           },
           "yaxis": {
            "backgroundcolor": "#E5ECF6",
            "gridcolor": "white",
            "gridwidth": 2,
            "linecolor": "white",
            "showbackground": true,
            "ticks": "",
            "zerolinecolor": "white"
           },
           "zaxis": {
            "backgroundcolor": "#E5ECF6",
            "gridcolor": "white",
            "gridwidth": 2,
            "linecolor": "white",
            "showbackground": true,
            "ticks": "",
            "zerolinecolor": "white"
           }
          },
          "shapedefaults": {
           "line": {
            "color": "#2a3f5f"
           }
          },
          "ternary": {
           "aaxis": {
            "gridcolor": "white",
            "linecolor": "white",
            "ticks": ""
           },
           "baxis": {
            "gridcolor": "white",
            "linecolor": "white",
            "ticks": ""
           },
           "bgcolor": "#E5ECF6",
           "caxis": {
            "gridcolor": "white",
            "linecolor": "white",
            "ticks": ""
           }
          },
          "title": {
           "x": 0.05
          },
          "xaxis": {
           "automargin": true,
           "gridcolor": "white",
           "linecolor": "white",
           "ticks": "",
           "title": {
            "standoff": 15
           },
           "zerolinecolor": "white",
           "zerolinewidth": 2
          },
          "yaxis": {
           "automargin": true,
           "gridcolor": "white",
           "linecolor": "white",
           "ticks": "",
           "title": {
            "standoff": 15
           },
           "zerolinecolor": "white",
           "zerolinewidth": 2
          }
         }
        },
        "title": {
         "subtitle": {
          "text": "Gemma 3 27B, Layer 22 - Shared Question Set"
         },
         "text": "Trait Vectors in 3D Principal Component Space"
        },
        "width": 1000
       }
      },
      "text/html": [
       "<div>                            <div id=\"2d7c9660-c19c-4457-9b49-a59ca43cf849\" class=\"plotly-graph-div\" style=\"height:800px; width:1000px;\"></div>            <script type=\"text/javascript\">                require([\"plotly\"], function(Plotly) {                    window.PLOTLYENV=window.PLOTLYENV || {};                                    if (document.getElementById(\"2d7c9660-c19c-4457-9b49-a59ca43cf849\")) {                    Plotly.newPlot(                        \"2d7c9660-c19c-4457-9b49-a59ca43cf849\",                        [{\"hovertemplate\":\"\\u003cb\\u003e%{text}\\u003c\\u002fb\\u003e\\u003cbr\\u003ePC1: %{x:.3f}\\u003cbr\\u003ePC2: %{y:.3f}\\u003cbr\\u003ePC3: %{z:.3f}\\u003cbr\\u003e\\u003cextra\\u003e\\u003c\\u002fextra\\u003e\",\"marker\":{\"color\":[\"limegreen\",\"limegreen\",\"limegreen\",\"limegreen\",\"limegreen\",\"limegreen\",\"limegreen\",\"limegreen\",\"limegreen\",\"limegreen\",\"limegreen\",\"limegreen\",\"limegreen\",\"limegreen\",\"limegreen\",\"limegreen\",\"limegreen\",\"limegreen\",\"limegreen\",\"limegreen\",\"limegreen\",\"limegreen\",\"limegreen\",\"limegreen\",\"limegreen\",\"limegreen\",\"limegreen\",\"limegreen\",\"limegreen\",\"limegreen\",\"limegreen\",\"limegreen\",\"limegreen\",\"limegreen\",\"limegreen\",\"limegreen\",\"limegreen\",\"limegreen\",\"limegreen\",\"limegreen\",\"limegreen\",\"limegreen\",\"limegreen\",\"limegreen\",\"limegreen\",\"limegreen\",\"limegreen\",\"limegreen\",\"limegreen\",\"limegreen\",\"limegreen\",\"limegreen\",\"limegreen\",\"limegreen\",\"limegreen\",\"limegreen\",\"limegreen\",\"limegreen\",\"limegreen\",\"limegreen\",\"limegreen\",\"limegreen\",\"limegreen\",\"limegreen\",\"limegreen\",\"limegreen\",\"limegreen\",\"limegreen\",\"limegreen\",\"limegreen\",\"limegreen\",\"limegreen\",\"limegreen\",\"limegreen\",\"limegreen\",\"limegreen\",\"limegreen\",\"limegreen\",\"limegreen\",\"limegreen\",\"limegreen\",\"limegreen\",\"limegreen\",\"limegreen\",\"limegreen\",\"limegreen\",\"limegreen\",\"limegreen\",\"limegreen\",\"limegreen\",\"limegreen\",\"limegreen\",\"limegreen\",\"limegreen\",\"limegreen\",\"limegreen\",\"limegreen\",\"limegreen\",\"limegreen\",\"limegreen\",\"limegreen\",\"limegreen\",\"limegreen\",\"limegreen\",\"limegreen\",\"limegreen\",\"limegreen\",\"limegreen\",\"limegreen\",\"limegreen\",\"limegreen\",\"limegreen\",\"limegreen\",\"limegreen\",\"limegreen\",\"limegreen\",\"limegreen\",\"limegreen\",\"limegreen\",\"limegreen\",\"limegreen\",\"limegreen\",\"limegreen\",\"limegreen\",\"limegreen\",\"limegreen\",\"limegreen\",\"limegreen\",\"limegreen\",\"limegreen\",\"limegreen\",\"limegreen\",\"limegreen\",\"limegreen\",\"limegreen\",\"limegreen\",\"limegreen\",\"limegreen\",\"limegreen\",\"limegreen\",\"limegreen\",\"limegreen\",\"limegreen\",\"limegreen\",\"limegreen\",\"limegreen\",\"limegreen\",\"limegreen\",\"limegreen\",\"limegreen\",\"limegreen\",\"limegreen\",\"limegreen\",\"limegreen\",\"limegreen\",\"limegreen\",\"limegreen\",\"limegreen\",\"limegreen\",\"limegreen\",\"limegreen\",\"limegreen\",\"limegreen\",\"limegreen\",\"limegreen\",\"limegreen\",\"limegreen\",\"limegreen\",\"limegreen\",\"limegreen\",\"limegreen\",\"limegreen\",\"limegreen\",\"limegreen\",\"limegreen\",\"limegreen\",\"limegreen\",\"limegreen\",\"limegreen\",\"limegreen\",\"limegreen\",\"limegreen\",\"limegreen\",\"limegreen\",\"limegreen\",\"limegreen\",\"limegreen\",\"limegreen\",\"limegreen\",\"limegreen\",\"limegreen\",\"limegreen\",\"limegreen\",\"limegreen\",\"limegreen\",\"limegreen\",\"limegreen\",\"limegreen\",\"limegreen\",\"limegreen\",\"limegreen\",\"limegreen\",\"limegreen\",\"limegreen\",\"limegreen\",\"limegreen\",\"limegreen\",\"limegreen\",\"limegreen\",\"limegreen\",\"limegreen\",\"limegreen\",\"limegreen\",\"limegreen\",\"limegreen\",\"limegreen\",\"limegreen\",\"limegreen\",\"limegreen\",\"limegreen\",\"limegreen\",\"limegreen\",\"limegreen\",\"limegreen\",\"limegreen\",\"limegreen\",\"limegreen\",\"limegreen\",\"limegreen\",\"limegreen\",\"limegreen\",\"limegreen\",\"limegreen\",\"limegreen\",\"limegreen\",\"limegreen\",\"limegreen\",\"limegreen\",\"limegreen\",\"limegreen\"],\"line\":{\"color\":\"black\",\"width\":2},\"size\":3},\"mode\":\"markers+text\",\"text\":[\"Zealous\",\"Wry\",\"Witty\",\"Whimsical\",\"Visceral\",\"Vindictive\",\"Verbose\",\"Utilitarian\",\"Urgent\",\"Universalist\",\"Understated\",\"Transparent\",\"Traditional\",\"Theoretical\",\"Theatrical\",\"Temperamental\",\"Technical\",\"Tactful\",\"Systems thinker\",\"Sycophantic\",\"Supportive\",\"Subversive\",\"Submissive\",\"Structuralist\",\"Stream of consciousness\",\"Strategic\",\"Stoic\",\"Spontaneous\",\"Spiritual\",\"Speculative\",\"Specialized\",\"Solemn\",\"Socratic\",\"Skeptical\",\"Serious\",\"Serene\",\"Secular\",\"Savage\",\"Sassy\",\"Sardonic\",\"Sarcastic\",\"Romantic\",\"Ritualistic\",\"Risk taking\",\"Rhetorical\",\"Reverent\",\"Resilient\",\"Reserved\",\"Relativist\",\"Regulatory\",\"Reductionist\",\"Rebellious\",\"Reactive\",\"Rationalist\",\"Radical\",\"Quantitative\",\"Qualitative\",\"Provocative\",\"Progressive\",\"Problem solving\",\"Proactive\",\"Principled\",\"Prescriptive\",\"Practical\",\"Poetic\",\"Pluralist\",\"Playful\",\"Philosophical\",\"Petty\",\"Pessimistic\",\"Perfectionist\",\"Pensive\",\"Pedantic\",\"Patient\",\"Passive aggressive\",\"Passionate\",\"Paranoid\",\"Paradoxical\",\"Pacifist\",\"Optimistic\",\"Open ended\",\"Obsessive\",\"Nurturing\",\"Nostalgic\",\"Nonchalant\",\"Nihilistic\",\"Neurotic\",\"Narrative\",\"Naive\",\"Mystical\",\"Moderate\",\"Mischievous\",\"Misanthropic\",\"Militant\",\"Meticulous\",\"Methodical\",\"Metaphorical\",\"Mercurial\",\"Melodramatic\",\"Melancholic\",\"Meditative\",\"Materialist\",\"Manipulative\",\"Manic\",\"Literal\",\"Libertarian\",\"Judgmental\",\"Irreverent\",\"Ironic\",\"Intuitive\",\"Introverted\",\"Introspective\",\"Interdisciplinary\",\"Inspirational\",\"Inquisitive\",\"Innovative\",\"Individualistic\",\"Independent\",\"Inclusive\",\"Impulsive\",\"Improvisational\",\"Impatient\",\"Idealistic\",\"Iconoclastic\",\"Humble\",\"Humanistic\",\"Hostile\",\"Holistic\",\"Historical\",\"Hedonistic\",\"Grounded\",\"Gregarious\",\"Grandiose\",\"Goofy\",\"Generous\",\"Generalist\",\"Futuristic\",\"Fundamentalist\",\"Formalist\",\"Formal\",\"Forgiving\",\"Flirty\",\"Flippant\",\"Flexible\",\"Fatalistic\",\"Factual\",\"Extroverted\",\"Exploratory\",\"Experiential\",\"Existentialist\",\"Evil\",\"Ethereal\",\"Essentialist\",\"Esoteric\",\"Erudite\",\"Epicurean\",\"Environmental\",\"Entertaining\",\"Enigmatic\",\"Empathetic\",\"Emotional\",\"Eloquent\",\"Elitist\",\"Egalitarian\",\"Effusive\",\"Efficient\",\"Educational\",\"Edgy\",\"Eclectic\",\"Earnest\",\"Dramatic\",\"Dominant\",\"Dogmatic\",\"Divergent\",\"Dispassionate\",\"Disorganized\",\"Diplomatic\",\"Deterministic\",\"Detached\",\"Descriptive\",\"Deontological\",\"Deferential\",\"Deconstructionist\",\"Decisive\",\"Data driven\",\"Cynical\",\"Curious\",\"Cryptic\",\"Cruel\",\"Critical\",\"Creative\",\"Cosmopolitan\",\"Convergent\",\"Contrarian\",\"Contemporary\",\"Constructivist\",\"Conscientious\",\"Confrontational\",\"Confident\",\"Condescending\",\"Concise\",\"Conciliatory\",\"Conceptual\",\"Competitive\",\"Collectivistic\",\"Collaborative\",\"Closure seeking\",\"Circumspect\",\"Chill\",\"Charismatic\",\"Chaotic\",\"Challenging\",\"Cautious\",\"Casual\",\"Calm\",\"Callous\",\"Calculating\",\"Bombastic\",\"Blunt\",\"Bitter\",\"Big picture\",\"Benevolent\",\"Avoidant\",\"Assertive\",\"Ascetic\",\"Artistic\",\"Arrogant\",\"Anxious\",\"Anthropocentric\",\"Animated\",\"Analytical\",\"Altruistic\",\"Agreeable\",\"Adventurous\",\"Adaptable\",\"Acerbic\",\"Accommodating\",\"Accessible\",\"Abstract\",\"Absolutist\"],\"textfont\":{\"size\":6},\"textposition\":\"top center\",\"x\":[50.66652412888759,-13.751069161372284,73.08631953180934,-13.447854341363806,-83.8274700544256,-18.87348082551667,103.70775924288304,-17.262376007287685,-18.805535999362643,-21.484755361719504,-123.20550981694784,113.90108963751014,-39.0479976773904,11.810193850765172,119.97386546613698,37.968122015550186,24.17150077548281,33.00286978102187,36.80624690784987,-129.2468930378231,110.8495462363456,-7.915388006869003,-88.71137906994667,16.642402530568223,16.20383041109636,91.81906104085563,-65.57639008532082,-17.661131947772258,-15.958537483341807,43.30419604481159,54.80970831756632,0.9605110282088543,-88.42474721032028,90.6085829758164,-39.59589935097188,-10.13364698290416,-21.469400542698246,-93.01923023630728,16.925773727182353,-58.35897125059118,-86.96194564368554,-35.81615106277843,16.05121404698591,-13.979326984359725,90.28122954490026,-3.103461780260363,36.848790228899,-137.00357256771687,-27.477852267179163,-23.70359479489079,-21.348207603055403,-16.05097420243685,-132.4286423784973,-18.70656306140631,-16.575863763358413,14.361142395105258,-20.08901672185276,63.0560264682733,4.28761583378215,72.16205498864323,148.2211479525656,-21.641203061996325,-8.89153654579369,-23.429093028429183,55.991106736240546,-9.475520477883105,22.058586905176412,83.20586690222926,-20.555870934589667,-54.064778953577346,79.85123902272372,116.19313078659857,53.648713426773114,54.517636830407646,-71.16733222368109,75.52669791793015,-19.65627059791524,-10.708197434681516,-31.767326849955136,-10.744430718302617,1.293941932760113,-9.066166507353758,95.50385259411695,-23.077257048058012,-133.16995491278905,-48.64587363052907,-23.56452555925541,32.6579681846401,-112.2439382737341,-29.632687850126263,22.824515575935603,-20.671850484454882,-46.10093542579598,-32.82405926676587,119.95876066979639,18.17103849552678,90.03496699107396,1.9135030716086974,76.24120532216186,-26.147080098931113,89.31215183841739,-33.26944001661905,-20.796330071301185,10.731350800873313,-128.56210118135948,-24.310985586290457,-45.41048976035457,-73.1243679427363,-2.5729066208130478,-14.57950888086768,3.7413353908787808,126.13180940901627,13.83230635482695,30.727489427949457,51.08947963893256,-3.7871926814774617,4.516652642293621,13.014140975235634,48.93152854939241,-179.55032019975116,-57.03405060967483,-132.2717448165994,-23.754373434542064,-7.390317224987215,37.77153473605395,27.515100025180573,-107.68385544305008,53.897252906298654,10.17703784701905,-70.83949677243406,-3.1894357259794353,52.10774866039358,-2.038508688244568,-28.44510000388191,53.10541761245691,-4.716415081120436,-14.706176237635713,-109.1931433209123,-16.609071998633304,-22.895250158271462,-17.81874384816135,-9.760966613143113,-141.03609444402895,46.15426790824864,-58.06434698396882,8.671133720192838,20.507927954254566,92.84826398230949,6.286525965487026,1.6494158030499144,-36.11142444528834,-40.1727795193295,-42.09861859211394,-16.881036026646317,82.75312483272785,58.56642404096398,-14.59117129326786,44.22595351936313,-53.56806064915772,82.78134574294062,59.79633452634289,120.41961299537715,-43.52030373740301,22.8246283387239,84.58364656698507,-153.4066766610535,75.51486376891899,7.258409755434389,54.194421436934185,70.20944995683365,114.6739746580948,52.947290848979705,-90.8523910244545,117.67278683155517,-77.07569440064994,-41.139263127728505,26.07635337343348,-31.448375695877527,-63.74917450998983,-44.865774211099,-21.934403027914353,-20.63634379944337,84.03865103844502,-70.35553875785904,-15.051976221122072,-33.88852739276506,76.76673301933853,-15.900083101675985,-98.66469119522795,58.57002634142491,73.90167069807238,30.998030097217388,-22.718409358021884,31.600993948691094,-20.973939697281832,-2.7141498810804503,92.15090884643548,6.246903246314474,-103.61935433908869,-53.227692295597215,-163.1312156233514,21.562292511618452,-20.154626732327984,-47.36264268710287,-10.370789922857043,26.34361414219292,-85.6274200501316,82.14409912287337,26.279544071551317,98.67769403909956,-1.5535367725824336,69.80219092342075,53.5088484791087,-10.545089979333815,-29.538902650552753,-147.12298088320367,107.34081621281653,61.964791710344024,-67.55676478015874,-52.829756781873996,24.580190940194363,18.86078053321204,-62.18230864266846,-33.08221208043233,-22.72933123097393,49.64175256839255,-75.56577216761441,13.01232358832603,-24.292399037816946,67.72075564156552,103.38300913658347,2.3526055647079547,74.37665227021694,-2.1551285548117067,122.78192573386207,-70.61912735147742,11.533936460046638,23.223563050713143,-17.310871725224388,-30.087661625556706],\"y\":[25.976712796743694,14.037095025901767,19.472295675660956,31.890586744767543,19.418955076500684,1.387325789014177,-10.000751581902517,-10.616752694492778,-3.8559954980451145,-4.098245953455738,-12.525543708512858,-10.955061828624393,-18.76210230231517,-2.3570327949457623,28.87268302130578,37.860233218009526,-17.271913958073586,-14.679484774392854,-11.850579060021001,1.1669155142220087,-11.126615207016531,16.121722903736924,-6.071837569621667,-26.67824696954315,23.96903533492571,-20.653753773678616,-29.65918382315259,28.72236918880055,11.845005217664733,4.578271627708027,-11.415569133561794,-24.555173620724858,-1.191888496771568,-2.880992514247734,-33.55591701650136,-25.729499055234278,-14.101698158181183,3.260592718818169,9.876855863871413,17.509759560641236,10.80797100129823,29.857381813549587,-15.3322138887753,14.20170662008163,20.592997172150266,-17.514260456041225,-25.648195038591446,-40.108189374687626,11.159058094906767,-21.573907029740596,-14.725833995560023,9.711761673959353,7.34586665796706,-24.530680877486553,10.370856853038621,-27.35062367628897,18.085702241667004,13.135614901559164,-1.4046633025812878,-20.671483303634083,-7.947239723047373,-14.351398025840552,-13.308770511477993,-12.568938041158919,16.13395255148191,-13.159279985446997,22.56787591350729,9.035936339012926,27.63670078319451,7.866112874112157,-15.03433658798783,-4.428972021538733,-8.644913621648485,-21.373288319014836,9.037174145077369,24.87575695814629,10.933762786211643,9.772985616400364,-1.0007424909163525,-20.081134716819008,1.5445839638642818,18.604512311232025,-8.147337940973495,6.865951939222969,2.1445964015514476,17.113487004094228,25.626611566036598,29.326463280797025,-5.693894534437089,16.03718147106758,-27.867254427524347,28.099940110794964,19.201403324602516,17.421377211265977,-16.828277744126712,-40.470812235514074,22.344351607743302,33.5021339680933,34.82552553566176,15.123983750709895,0.6362154568638128,-11.928170876242653,24.39368356222199,34.41309014668238,-9.294087961841802,7.816945774408323,14.054455769711128,17.71595077162678,19.34379948528183,6.889072360182275,-10.862740367139654,4.269757241365688,-6.413702811402475,-20.166899276149316,-5.405851294079111,8.596589491578479,12.061482943354912,-6.2536508532401776,-9.701018040438907,1.3460601103524308,11.235874115265904,1.123470306947762,-5.204887891444277,15.949239378312843,-4.16490274838186,-8.358720059602245,7.347212616107061,-11.915151717998244,-1.4024602006639666,5.353410097957776,-22.093240545184084,5.704650200060992,19.149245842200028,32.50517807422051,-17.710368614420737,-10.646176016034017,-1.9973425002163114,-7.556331188213495,-23.54746740866964,-25.984290168214557,-12.389138238146963,27.225570538252377,8.347573306814414,-16.111016964121124,6.760940312271059,-33.819202974241165,-2.4801149133831766,-14.328409904084413,-2.5038738158573137,-2.6899764031927944,30.34530190071494,21.674779690498948,-5.643179642019006,5.17074726784425,-8.032209444830132,5.099731436553594,-9.746013044697177,26.103076218042183,20.488642630200733,5.263748458945415,22.0842461222117,6.406674915825769,4.771342779614931,-12.630382431301822,25.46973161608627,-3.9996461489130866,-23.164329635781048,30.558692216336425,1.4283212110580954,-6.265372923295515,30.796913390564832,-0.8547044843702633,4.82339266826559,-4.945826437865868,-38.06881244230104,33.59447084991417,-29.488311466872865,4.873222193207646,-28.776685843707778,-27.954612673797456,-6.7437678053139,-12.113592721990775,7.055412400633239,-15.632092056315111,-32.32376933205742,5.45808816080364,-3.2274905361399124,17.963515312300153,3.219795914963815,8.740347767826831,13.15285131301795,-16.776430321590244,-8.863919671704275,13.28044652110522,-9.001689031863728,-3.5053952080206447,-25.41160489423589,1.4657018996610371,-6.309057864533004,12.151631941788258,-3.9124539178197044,-24.89317872887433,-4.3557756395913145,7.590687848055691,-15.599275988724346,-11.716570537887273,-13.3224799173753,-7.130581133276894,-14.148660889790454,9.552502130582939,6.646747304214004,5.2856826273731325,-6.938605048652915,11.540251080342212,-43.04450064319989,-9.400653780606946,-7.130797095954029,25.99478499927346,-3.087972518145115,21.180754286583337,-9.192646980637413,-19.93810658591869,-6.00141224013453,8.059458336394894,-13.447640770221385,18.5698488271062,9.508162982236794,22.154965085047532,-4.802895202236672,12.15267574753646,-24.172249115023327,-19.02294521243032,-12.802407695167105,8.905364669951746,-3.8878955265117763,12.863820355850937,-3.308840163882937,-1.883323814467805,-5.450148397843995,-3.2031059785554166],\"z\":[-2.2164572943271548,-14.829135542850498,0.5053064563747508,12.225720734119975,9.79370926858932,-18.26227686747892,-6.407303909832867,-8.697051611189515,-14.39373158221383,-7.562373928816671,8.75141073990302,-11.640164058543517,7.946849278577151,-4.744726341577069,-11.470349330546394,-3.5266223666971634,-24.816159182342883,14.900173496019892,4.5566493985923575,13.655561114045826,13.28652711615687,1.2607467249958912,9.178863455900162,-16.60142118581465,11.032739583067213,-5.149999772736544,-9.476369404020103,14.495611275829928,25.653076880356263,3.473370449445716,-20.188430841627127,-6.268293654756386,15.661962863972196,-15.034386045273298,-14.540068959356471,17.857603901917265,-10.65273719706696,-12.704953856442947,-6.465698842414112,-14.286924522029269,-9.331846012031912,25.71407348546065,-17.087378447444973,5.154489148276654,-0.3531739612344931,7.4580487407698905,9.571104820308548,-2.1465743646593127,2.744709224617826,-8.915648874481182,-7.191887795020004,3.5503612248030194,16.07119970362016,-22.552448189065316,-10.297210040463023,-26.310303345508427,30.556544641144786,-11.949901711695874,1.6396634933895093,-8.563780476364355,-10.209420487459182,6.28789820673064,-24.47405288001084,9.003981689667697,3.349767911873772,13.22331029583752,12.349594657654595,-1.6122676416576978,-10.370385551654742,-15.339857665306306,-17.09402801465929,-0.5057755275699999,-24.252965634219688,11.265116643310435,1.7595168966101973,0.016062977516909386,-14.672801663265048,10.965882357784324,8.203299167029687,27.206733584014295,21.22027646155573,-6.4380352303630985,23.15197575970803,11.701975910075817,-0.7026751886029078,-21.36290215411492,-1.6641715194266413,5.078715328142004,18.616809787013544,25.05074974061882,16.808067967341668,0.9946071418930745,-24.837961380438063,-22.707385153888573,-17.840689111228357,-14.295580272662395,4.138531782650025,0.21500936032052473,-8.606664484637477,-12.891012748893083,18.59062480887325,-18.802698318788707,-5.482178431379333,-0.28300862040640895,-0.10692681513827317,1.4899492205416045,-16.1026735957922,5.087130078343052,-9.25568996714518,21.869332060435397,-6.617812882034015,-6.938465995114487,5.8984306729506235,24.72627114768391,1.9953883549914224,-0.14376856481600545,-0.3079163164396922,5.021789687294343,5.6088158440425255,16.60436215924938,19.089596455539148,1.2878676856413775,6.415013085919783,-15.200665900528763,7.549032095292397,24.061140858030708,-12.709871438722768,1.8212540849298642,-7.066236563903725,6.411117452763714,-2.6391294542795474,13.92114758462795,-12.558403886801893,3.4115180313326845,15.082585290663843,14.045122449001104,-0.3023696645556149,-2.9760711412509995,-20.1604988834218,-10.91800528247648,26.342140982307143,12.060651411471135,6.6949612548625925,14.166940666005248,-4.832424173845209,2.424033488569,10.348168681898622,4.304678656268903,10.275186986077534,16.304228699078216,-19.90967061343275,17.211060021280375,-5.7724059066094915,-20.273647395959408,-14.973062933546338,-0.22480595421259605,11.503475694293902,10.134516016062275,7.738923739458655,17.326275971764115,20.675025743935688,-5.145109591914906,-17.02945027302445,11.431583819832081,2.707047424149424,12.38518270173523,4.124616872989829,-14.9468905276327,3.5924238013116336,11.376764628852927,-8.704068246208397,-12.165613599706123,-4.8698309509632445,-7.547183303629124,-16.540966787701553,6.264698742715254,16.9399279800959,-18.15885503332654,-22.410041761436275,-1.8316126192734021,2.2854406686114443,8.895965511988297,-13.432883826195297,-2.7320397104542433,-24.19638621940665,-23.594242771319674,11.703184929623669,1.3590028401217997,-19.01474428445273,-12.285789090495657,-1.109938794390615,6.712161609970142,-6.244226686963289,-10.24551923828351,4.824559032253557,14.218072038425387,-6.99434102257743,-15.707302466380801,-0.9333519245278471,-4.8513787561225294,11.508284506331682,22.48999390717624,1.2991271488650793,-23.43005346020313,9.18907539578794,10.886417777824004,-3.270306307261906,1.2807633547510127,20.309043621355578,8.062548475702787,6.110595056653249,-10.059408178682448,-5.770796156728355,18.063133766404807,15.995638359830263,-15.284874140309826,-11.91231328758242,-20.36868941460873,-9.525729761151148,-16.175133935483807,2.5139332593015835,29.476872091817516,-0.14917766413789155,-5.6189550195088875,1.3356498692691736,18.55490651490021,-14.11043871436145,-3.3863590972631847,-3.15178988416393,11.619264121097158,-19.269403219165376,23.11352384620727,14.52025375589729,9.622258251204089,-0.17962891876735004,-20.59425350265397,10.632178620158284,22.295196531506654,2.920948961596344,-13.400049090396045],\"type\":\"scatter3d\"},{\"hovertemplate\":\"\\u003cb\\u003eAssistant\\u003c\\u002fb\\u003e\\u003cbr\\u003ePC1: %{x:.3f}\\u003cbr\\u003ePC2: %{y:.3f}\\u003cbr\\u003ePC3: %{z:.3f}\\u003cbr\\u003e\\u003cextra\\u003e\\u003c\\u002fextra\\u003e\",\"marker\":{\"color\":\"red\",\"opacity\":1.0,\"size\":5},\"mode\":\"markers+text\",\"showlegend\":false,\"text\":[\"Assistant\"],\"textfont\":{\"color\":\"black\",\"size\":8},\"textposition\":\"top center\",\"x\":[-27.986395452068447],\"y\":[-15.253716566905078],\"z\":[15.787596009320223],\"type\":\"scatter3d\"}],                        {\"template\":{\"data\":{\"histogram2dcontour\":[{\"type\":\"histogram2dcontour\",\"colorbar\":{\"outlinewidth\":0,\"ticks\":\"\"},\"colorscale\":[[0.0,\"#0d0887\"],[0.1111111111111111,\"#46039f\"],[0.2222222222222222,\"#7201a8\"],[0.3333333333333333,\"#9c179e\"],[0.4444444444444444,\"#bd3786\"],[0.5555555555555556,\"#d8576b\"],[0.6666666666666666,\"#ed7953\"],[0.7777777777777778,\"#fb9f3a\"],[0.8888888888888888,\"#fdca26\"],[1.0,\"#f0f921\"]]}],\"choropleth\":[{\"type\":\"choropleth\",\"colorbar\":{\"outlinewidth\":0,\"ticks\":\"\"}}],\"histogram2d\":[{\"type\":\"histogram2d\",\"colorbar\":{\"outlinewidth\":0,\"ticks\":\"\"},\"colorscale\":[[0.0,\"#0d0887\"],[0.1111111111111111,\"#46039f\"],[0.2222222222222222,\"#7201a8\"],[0.3333333333333333,\"#9c179e\"],[0.4444444444444444,\"#bd3786\"],[0.5555555555555556,\"#d8576b\"],[0.6666666666666666,\"#ed7953\"],[0.7777777777777778,\"#fb9f3a\"],[0.8888888888888888,\"#fdca26\"],[1.0,\"#f0f921\"]]}],\"heatmap\":[{\"type\":\"heatmap\",\"colorbar\":{\"outlinewidth\":0,\"ticks\":\"\"},\"colorscale\":[[0.0,\"#0d0887\"],[0.1111111111111111,\"#46039f\"],[0.2222222222222222,\"#7201a8\"],[0.3333333333333333,\"#9c179e\"],[0.4444444444444444,\"#bd3786\"],[0.5555555555555556,\"#d8576b\"],[0.6666666666666666,\"#ed7953\"],[0.7777777777777778,\"#fb9f3a\"],[0.8888888888888888,\"#fdca26\"],[1.0,\"#f0f921\"]]}],\"heatmapgl\":[{\"type\":\"heatmapgl\",\"colorbar\":{\"outlinewidth\":0,\"ticks\":\"\"},\"colorscale\":[[0.0,\"#0d0887\"],[0.1111111111111111,\"#46039f\"],[0.2222222222222222,\"#7201a8\"],[0.3333333333333333,\"#9c179e\"],[0.4444444444444444,\"#bd3786\"],[0.5555555555555556,\"#d8576b\"],[0.6666666666666666,\"#ed7953\"],[0.7777777777777778,\"#fb9f3a\"],[0.8888888888888888,\"#fdca26\"],[1.0,\"#f0f921\"]]}],\"contourcarpet\":[{\"type\":\"contourcarpet\",\"colorbar\":{\"outlinewidth\":0,\"ticks\":\"\"}}],\"contour\":[{\"type\":\"contour\",\"colorbar\":{\"outlinewidth\":0,\"ticks\":\"\"},\"colorscale\":[[0.0,\"#0d0887\"],[0.1111111111111111,\"#46039f\"],[0.2222222222222222,\"#7201a8\"],[0.3333333333333333,\"#9c179e\"],[0.4444444444444444,\"#bd3786\"],[0.5555555555555556,\"#d8576b\"],[0.6666666666666666,\"#ed7953\"],[0.7777777777777778,\"#fb9f3a\"],[0.8888888888888888,\"#fdca26\"],[1.0,\"#f0f921\"]]}],\"surface\":[{\"type\":\"surface\",\"colorbar\":{\"outlinewidth\":0,\"ticks\":\"\"},\"colorscale\":[[0.0,\"#0d0887\"],[0.1111111111111111,\"#46039f\"],[0.2222222222222222,\"#7201a8\"],[0.3333333333333333,\"#9c179e\"],[0.4444444444444444,\"#bd3786\"],[0.5555555555555556,\"#d8576b\"],[0.6666666666666666,\"#ed7953\"],[0.7777777777777778,\"#fb9f3a\"],[0.8888888888888888,\"#fdca26\"],[1.0,\"#f0f921\"]]}],\"mesh3d\":[{\"type\":\"mesh3d\",\"colorbar\":{\"outlinewidth\":0,\"ticks\":\"\"}}],\"scatter\":[{\"fillpattern\":{\"fillmode\":\"overlay\",\"size\":10,\"solidity\":0.2},\"type\":\"scatter\"}],\"parcoords\":[{\"type\":\"parcoords\",\"line\":{\"colorbar\":{\"outlinewidth\":0,\"ticks\":\"\"}}}],\"scatterpolargl\":[{\"type\":\"scatterpolargl\",\"marker\":{\"colorbar\":{\"outlinewidth\":0,\"ticks\":\"\"}}}],\"bar\":[{\"error_x\":{\"color\":\"#2a3f5f\"},\"error_y\":{\"color\":\"#2a3f5f\"},\"marker\":{\"line\":{\"color\":\"#E5ECF6\",\"width\":0.5},\"pattern\":{\"fillmode\":\"overlay\",\"size\":10,\"solidity\":0.2}},\"type\":\"bar\"}],\"scattergeo\":[{\"type\":\"scattergeo\",\"marker\":{\"colorbar\":{\"outlinewidth\":0,\"ticks\":\"\"}}}],\"scatterpolar\":[{\"type\":\"scatterpolar\",\"marker\":{\"colorbar\":{\"outlinewidth\":0,\"ticks\":\"\"}}}],\"histogram\":[{\"marker\":{\"pattern\":{\"fillmode\":\"overlay\",\"size\":10,\"solidity\":0.2}},\"type\":\"histogram\"}],\"scattergl\":[{\"type\":\"scattergl\",\"marker\":{\"colorbar\":{\"outlinewidth\":0,\"ticks\":\"\"}}}],\"scatter3d\":[{\"type\":\"scatter3d\",\"line\":{\"colorbar\":{\"outlinewidth\":0,\"ticks\":\"\"}},\"marker\":{\"colorbar\":{\"outlinewidth\":0,\"ticks\":\"\"}}}],\"scattermapbox\":[{\"type\":\"scattermapbox\",\"marker\":{\"colorbar\":{\"outlinewidth\":0,\"ticks\":\"\"}}}],\"scatterternary\":[{\"type\":\"scatterternary\",\"marker\":{\"colorbar\":{\"outlinewidth\":0,\"ticks\":\"\"}}}],\"scattercarpet\":[{\"type\":\"scattercarpet\",\"marker\":{\"colorbar\":{\"outlinewidth\":0,\"ticks\":\"\"}}}],\"carpet\":[{\"aaxis\":{\"endlinecolor\":\"#2a3f5f\",\"gridcolor\":\"white\",\"linecolor\":\"white\",\"minorgridcolor\":\"white\",\"startlinecolor\":\"#2a3f5f\"},\"baxis\":{\"endlinecolor\":\"#2a3f5f\",\"gridcolor\":\"white\",\"linecolor\":\"white\",\"minorgridcolor\":\"white\",\"startlinecolor\":\"#2a3f5f\"},\"type\":\"carpet\"}],\"table\":[{\"cells\":{\"fill\":{\"color\":\"#EBF0F8\"},\"line\":{\"color\":\"white\"}},\"header\":{\"fill\":{\"color\":\"#C8D4E3\"},\"line\":{\"color\":\"white\"}},\"type\":\"table\"}],\"barpolar\":[{\"marker\":{\"line\":{\"color\":\"#E5ECF6\",\"width\":0.5},\"pattern\":{\"fillmode\":\"overlay\",\"size\":10,\"solidity\":0.2}},\"type\":\"barpolar\"}],\"pie\":[{\"automargin\":true,\"type\":\"pie\"}]},\"layout\":{\"autotypenumbers\":\"strict\",\"colorway\":[\"#636efa\",\"#EF553B\",\"#00cc96\",\"#ab63fa\",\"#FFA15A\",\"#19d3f3\",\"#FF6692\",\"#B6E880\",\"#FF97FF\",\"#FECB52\"],\"font\":{\"color\":\"#2a3f5f\"},\"hovermode\":\"closest\",\"hoverlabel\":{\"align\":\"left\"},\"paper_bgcolor\":\"white\",\"plot_bgcolor\":\"#E5ECF6\",\"polar\":{\"bgcolor\":\"#E5ECF6\",\"angularaxis\":{\"gridcolor\":\"white\",\"linecolor\":\"white\",\"ticks\":\"\"},\"radialaxis\":{\"gridcolor\":\"white\",\"linecolor\":\"white\",\"ticks\":\"\"}},\"ternary\":{\"bgcolor\":\"#E5ECF6\",\"aaxis\":{\"gridcolor\":\"white\",\"linecolor\":\"white\",\"ticks\":\"\"},\"baxis\":{\"gridcolor\":\"white\",\"linecolor\":\"white\",\"ticks\":\"\"},\"caxis\":{\"gridcolor\":\"white\",\"linecolor\":\"white\",\"ticks\":\"\"}},\"coloraxis\":{\"colorbar\":{\"outlinewidth\":0,\"ticks\":\"\"}},\"colorscale\":{\"sequential\":[[0.0,\"#0d0887\"],[0.1111111111111111,\"#46039f\"],[0.2222222222222222,\"#7201a8\"],[0.3333333333333333,\"#9c179e\"],[0.4444444444444444,\"#bd3786\"],[0.5555555555555556,\"#d8576b\"],[0.6666666666666666,\"#ed7953\"],[0.7777777777777778,\"#fb9f3a\"],[0.8888888888888888,\"#fdca26\"],[1.0,\"#f0f921\"]],\"sequentialminus\":[[0.0,\"#0d0887\"],[0.1111111111111111,\"#46039f\"],[0.2222222222222222,\"#7201a8\"],[0.3333333333333333,\"#9c179e\"],[0.4444444444444444,\"#bd3786\"],[0.5555555555555556,\"#d8576b\"],[0.6666666666666666,\"#ed7953\"],[0.7777777777777778,\"#fb9f3a\"],[0.8888888888888888,\"#fdca26\"],[1.0,\"#f0f921\"]],\"diverging\":[[0,\"#8e0152\"],[0.1,\"#c51b7d\"],[0.2,\"#de77ae\"],[0.3,\"#f1b6da\"],[0.4,\"#fde0ef\"],[0.5,\"#f7f7f7\"],[0.6,\"#e6f5d0\"],[0.7,\"#b8e186\"],[0.8,\"#7fbc41\"],[0.9,\"#4d9221\"],[1,\"#276419\"]]},\"xaxis\":{\"gridcolor\":\"white\",\"linecolor\":\"white\",\"ticks\":\"\",\"title\":{\"standoff\":15},\"zerolinecolor\":\"white\",\"automargin\":true,\"zerolinewidth\":2},\"yaxis\":{\"gridcolor\":\"white\",\"linecolor\":\"white\",\"ticks\":\"\",\"title\":{\"standoff\":15},\"zerolinecolor\":\"white\",\"automargin\":true,\"zerolinewidth\":2},\"scene\":{\"xaxis\":{\"backgroundcolor\":\"#E5ECF6\",\"gridcolor\":\"white\",\"linecolor\":\"white\",\"showbackground\":true,\"ticks\":\"\",\"zerolinecolor\":\"white\",\"gridwidth\":2},\"yaxis\":{\"backgroundcolor\":\"#E5ECF6\",\"gridcolor\":\"white\",\"linecolor\":\"white\",\"showbackground\":true,\"ticks\":\"\",\"zerolinecolor\":\"white\",\"gridwidth\":2},\"zaxis\":{\"backgroundcolor\":\"#E5ECF6\",\"gridcolor\":\"white\",\"linecolor\":\"white\",\"showbackground\":true,\"ticks\":\"\",\"zerolinecolor\":\"white\",\"gridwidth\":2}},\"shapedefaults\":{\"line\":{\"color\":\"#2a3f5f\"}},\"annotationdefaults\":{\"arrowcolor\":\"#2a3f5f\",\"arrowhead\":0,\"arrowwidth\":1},\"geo\":{\"bgcolor\":\"white\",\"landcolor\":\"#E5ECF6\",\"subunitcolor\":\"white\",\"showland\":true,\"showlakes\":true,\"lakecolor\":\"white\"},\"title\":{\"x\":0.05},\"mapbox\":{\"style\":\"light\"}}},\"title\":{\"subtitle\":{\"text\":\"Gemma 3 27B, Layer 22 - Shared Question Set\"},\"text\":\"Trait Vectors in 3D Principal Component Space\"},\"scene\":{\"xaxis\":{\"title\":{\"text\":\"PC1 (73.3%)\"}},\"yaxis\":{\"title\":{\"text\":\"PC2 (5.5%)\"}},\"zaxis\":{\"title\":{\"text\":\"PC3 (3.2%)\"}}},\"width\":1000,\"height\":800},                        {\"responsive\": true}                    ).then(function(){\n",
       "                            \n",
       "var gd = document.getElementById('2d7c9660-c19c-4457-9b49-a59ca43cf849');\n",
       "var x = new MutationObserver(function (mutations, observer) {{\n",
       "        var display = window.getComputedStyle(gd).display;\n",
       "        if (!display || display === 'none') {{\n",
       "            console.log([gd, 'removed!']);\n",
       "            Plotly.purge(gd);\n",
       "            observer.disconnect();\n",
       "        }}\n",
       "}});\n",
       "\n",
       "// Listen for the removal of the full notebook cells\n",
       "var notebookContainer = gd.closest('#notebook-container');\n",
       "if (notebookContainer) {{\n",
       "    x.observe(notebookContainer, {childList: true});\n",
       "}}\n",
       "\n",
       "// Listen for the clearing of the current output cell\n",
       "var outputEl = gd.closest('.output');\n",
       "if (outputEl) {{\n",
       "    x.observe(outputEl, {childList: true});\n",
       "}}\n",
       "\n",
       "                        })                };                });            </script>        </div>"
      ]
     },
     "metadata": {},
     "output_type": "display_data"
    }
   ],
   "source": [
    "fig_3d = plot_3d_pca(\n",
    "    pca_results['pca_transformed'],\n",
    "    pca_results['variance_explained'],\n",
    "    trait_labels,\n",
    "    assistant_projection=asst_projected[0],\n",
    "    title=\"Trait Vectors in 3D Principal Component Space\",\n",
    "    subtitle=f\"{model_name.replace('-', ' ')}, Layer {layer} - Shared Question Set\"\n",
    ")\n",
    "fig_3d.show()\n",
    "#fig_3d.write_html(f\"{plot_dir}/pca_3d.html\")"
   ]
  }
 ],
 "metadata": {
  "kernelspec": {
   "display_name": ".venv",
   "language": "python",
   "name": "python3"
  },
  "language_info": {
   "codemirror_mode": {
    "name": "ipython",
    "version": 3
   },
   "file_extension": ".py",
   "mimetype": "text/x-python",
   "name": "python",
   "nbconvert_exporter": "python",
   "pygments_lexer": "ipython3",
   "version": "3.13.5"
  }
 },
 "nbformat": 4,
 "nbformat_minor": 5
}
