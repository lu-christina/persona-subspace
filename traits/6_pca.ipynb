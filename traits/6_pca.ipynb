{
 "cells": [
  {
   "cell_type": "markdown",
   "id": "28531137",
   "metadata": {},
   "source": [
    "# PCA on traits"
   ]
  },
  {
   "cell_type": "code",
   "execution_count": 3,
   "id": "30f3bcdd",
   "metadata": {
    "execution": {
     "iopub.execute_input": "2025-08-06T00:18:08.842015Z",
     "iopub.status.busy": "2025-08-06T00:18:08.841387Z",
     "iopub.status.idle": "2025-08-06T00:18:09.171163Z",
     "shell.execute_reply": "2025-08-06T00:18:09.170519Z"
    }
   },
   "outputs": [],
   "source": [
    "import sys\n",
    "import os\n",
    "import torch\n",
    "import pandas as pd\n",
    "sys.path.append('.')\n",
    "sys.path.append('..')\n",
    "\n",
    "from utils.pca_utils import L2MeanScaler, MeanScaler,compute_pca, plot_variance_explained\n",
    "from plots import plot_pc"
   ]
  },
  {
   "cell_type": "markdown",
   "id": "t9g61pux1fr",
   "metadata": {},
   "source": [
    "## Configuration"
   ]
  },
  {
   "cell_type": "code",
   "execution_count": 2,
   "id": "gbij5rx1x7",
   "metadata": {},
   "outputs": [],
   "source": [
    "# Configuration - Change these parameters for different models/datasets\n",
    "base_dir = \"/workspace/llama-3.3-70b\"\n",
    "type = \"traits_240\"\n",
    "dir = f\"{base_dir}/{type}\"\n",
    "model_name = \"Llama-3.3-70B\"\n",
    "layer = 40"
   ]
  },
  {
   "cell_type": "markdown",
   "id": "ce50bcb7",
   "metadata": {},
   "source": [
    "## Load vectors"
   ]
  },
  {
   "cell_type": "code",
   "execution_count": 5,
   "id": "5586e787",
   "metadata": {},
   "outputs": [
    {
     "name": "stdout",
     "output_type": "stream",
     "text": [
      "Found 240 traits with vectors\n"
     ]
    }
   ],
   "source": [
    "# load all vectors from vectors\n",
    "vector_dir = f\"{dir}/vectors\"\n",
    "\n",
    "# iterate through each .pt file in the directory\n",
    "vectors = {}\n",
    "for file in os.listdir(vector_dir):\n",
    "    if file.endswith(\".pt\"):\n",
    "        vectors[file.replace(\".pt\", \"\")] = torch.load(os.path.join(vector_dir, file))\n",
    "\n",
    "print(f\"Found {len(vectors.keys())} traits with vectors\")"
   ]
  },
  {
   "cell_type": "code",
   "execution_count": 6,
   "id": "b11da40d",
   "metadata": {},
   "outputs": [],
   "source": [
    "# load default vectors\n",
    "default_vectors = torch.load(f\"{base_dir}/roles_240/default_vectors.pt\")"
   ]
  },
  {
   "cell_type": "code",
   "execution_count": 7,
   "id": "3a3bda62",
   "metadata": {},
   "outputs": [
    {
     "name": "stdout",
     "output_type": "stream",
     "text": [
      "dict_keys(['pos_neg', 'pos_neg_50', 'pos_default', 'pos_default_50', 'pos_70', 'pos_40_70'])\n",
      "dict_keys(['activations', 'metadata'])\n",
      "dict_keys(['pos_1', 'default_1', 'all_1'])\n"
     ]
    }
   ],
   "source": [
    "print(vectors['zealous'].keys())\n",
    "print(default_vectors.keys())\n",
    "print(default_vectors['activations'].keys())"
   ]
  },
  {
   "cell_type": "markdown",
   "id": "c3e74288",
   "metadata": {},
   "source": [
    "## PCA"
   ]
  },
  {
   "cell_type": "code",
   "execution_count": 8,
   "id": "92385c5c",
   "metadata": {},
   "outputs": [
    {
     "name": "stdout",
     "output_type": "stream",
     "text": [
      "1179.0\n"
     ]
    }
   ],
   "source": [
    "# load in stats\n",
    "results_subdir = model_name.lower()\n",
    "stats = pd.read_csv(f\"./results/{results_subdir}/pos_neg.csv\", index_col='trait')\n",
    "print(stats.loc['zealous']['large_diff_count'])"
   ]
  },
  {
   "cell_type": "code",
   "execution_count": 9,
   "id": "e7776516",
   "metadata": {},
   "outputs": [
    {
     "name": "stdout",
     "output_type": "stream",
     "text": [
      "240\n"
     ]
    }
   ],
   "source": [
    "# PCA on pos_neg_50 but filter out traits with large_diff_count < 10\n",
    "filtered_pos_neg_50_traits = []\n",
    "filtered_pos_neg_50 = []\n",
    "\n",
    "for trait, vector in vectors.items():\n",
    "    if stats.loc[trait]['large_diff_count'] >= 10:\n",
    "        filtered_pos_neg_50_traits.append(trait)\n",
    "        filtered_pos_neg_50.append(vector['pos_neg_50'])\n",
    "    else:\n",
    "        print(f\"Skipping {trait} because large_diff_count is {stats.loc[trait]['large_diff_count']}\")\n",
    "\n",
    "print(len(filtered_pos_neg_50_traits))"
   ]
  },
  {
   "cell_type": "code",
   "execution_count": 10,
   "id": "73656d27",
   "metadata": {},
   "outputs": [
    {
     "name": "stdout",
     "output_type": "stream",
     "text": [
      "torch.Size([240, 80, 8192])\n"
     ]
    }
   ],
   "source": [
    "float_stack_vectors = torch.stack(filtered_pos_neg_50).float()\n",
    "print(float_stack_vectors.shape)\n"
   ]
  },
  {
   "cell_type": "code",
   "execution_count": 11,
   "id": "74d01445",
   "metadata": {},
   "outputs": [
    {
     "name": "stdout",
     "output_type": "stream",
     "text": [
      "PCA fitted with 240 components\n",
      "Cumulative variance for first 5 components: [0.23312911 0.37244537 0.46423283 0.53920364 0.6000553 ]\n",
      "\n",
      "PCA Analysis Results:\n",
      "Elbow point at component: 2\n",
      "Dimensions for 70% variance: 9\n",
      "Dimensions for 80% variance: 16\n",
      "Dimensions for 90% variance: 35\n",
      "Dimensions for 95% variance: 61\n"
     ]
    }
   ],
   "source": [
    "# float_stack_vectors is (n_samples, n_layers, hidden_dims)\n",
    "scaler = L2MeanScaler()\n",
    "\n",
    "pca_transformed, variance_explained, n_components, pca, scaler = compute_pca(\n",
    "    float_stack_vectors, \n",
    "    layer=layer, \n",
    "    scaler=scaler\n",
    ")"
   ]
  },
  {
   "cell_type": "code",
   "execution_count": 12,
   "id": "53fb0197",
   "metadata": {},
   "outputs": [],
   "source": [
    "# save pca\n",
    "results = {}\n",
    "\n",
    "results['layer'] = layer\n",
    "results['traits'] = {\n",
    "    'pos_neg_50': filtered_pos_neg_50_traits\n",
    "}\n",
    "results['vectors'] = {\n",
    "    'pos_neg_50': filtered_pos_neg_50,\n",
    "}\n",
    "results['pca_transformed'] = pca_transformed\n",
    "results['variance_explained'] = variance_explained\n",
    "results['n_components'] = n_components\n",
    "results['pca'] = pca\n",
    "results['scaler'] = scaler\n",
    "\n",
    "pca_dir = f\"{dir}/pca\"\n",
    "os.makedirs(pca_dir, exist_ok=True)\n",
    "torch.save(results, f\"{pca_dir}/layer{layer}_normalized_pos-neg50.pt\")"
   ]
  },
  {
   "cell_type": "markdown",
   "id": "163db7aa",
   "metadata": {},
   "source": [
    "## Plots"
   ]
  },
  {
   "cell_type": "code",
   "execution_count": 13,
   "id": "476fc440",
   "metadata": {},
   "outputs": [],
   "source": [
    "plot_dir = f\"/root/git/plots/{model_name.lower()}/traits\"\n",
    "os.makedirs(plot_dir, exist_ok=True)\n",
    "\n",
    "normalized = True\n",
    "if normalized:\n",
    "    pca_results = torch.load(f\"{dir}/pca/layer{layer}_normalized_pos-neg50.pt\", weights_only=False)\n",
    "else:\n",
    "    pca_results = torch.load(f\"{dir}/pca/layer{layer}_pos-neg50.pt\", weights_only=False)\n"
   ]
  },
  {
   "cell_type": "code",
   "execution_count": 21,
   "id": "57072760",
   "metadata": {},
   "outputs": [],
   "source": [
    "# flip PCs if needed\n",
    "to_flip = [1]\n",
    "\n",
    "for pc in to_flip:\n",
    "    pca_results['pca'].components_[pc - 1] *= -1\n",
    "    pca_results['pca_transformed'][:, pc - 1] *= -1\n",
    "torch.save(pca_results, f\"{dir}/pca/layer{layer}_normalized_pos-neg50.pt\")"
   ]
  },
  {
   "cell_type": "code",
   "execution_count": 15,
   "id": "4a30949e",
   "metadata": {},
   "outputs": [],
   "source": [
    "default_vectors = torch.load(f\"{base_dir}/roles_240/default_vectors.pt\")"
   ]
  },
  {
   "cell_type": "code",
   "execution_count": 22,
   "id": "15e9d83c",
   "metadata": {},
   "outputs": [],
   "source": [
    "# get default activationa nd project into PCA space\n",
    "assistant_layer_activation = default_vectors['activations']['default_1'][layer, :].float().reshape(1, -1)\n",
    "\n",
    "asst_scaled = pca_results['scaler'].transform(assistant_layer_activation)\n",
    "asst_projected = pca_results['pca'].transform(asst_scaled)\n",
    "\n",
    "assistant_layer_activation = assistant_layer_activation.numpy()"
   ]
  },
  {
   "cell_type": "code",
   "execution_count": 17,
   "id": "4e2e5c4d",
   "metadata": {},
   "outputs": [],
   "source": [
    "trait_labels = [trait.replace('_', ' ').title() for trait in pca_results['traits']['pos_neg_50']]"
   ]
  },
  {
   "cell_type": "code",
   "execution_count": 23,
   "id": "d10abea0",
   "metadata": {},
   "outputs": [
    {
     "data": {
      "application/vnd.plotly.v1+json": {
       "config": {
        "plotlyServerURL": "https://plot.ly"
       },
       "data": [
        {
         "hovertemplate": "<b>%{text}</b><br>Cosine Similarity: %{x:.3f}<extra></extra>",
         "marker": {
          "color": "limegreen",
          "line": {
           "color": "black",
           "width": 1
          },
          "opacity": 1,
          "size": 8,
          "symbol": "diamond"
         },
         "mode": "markers",
         "showlegend": false,
         "text": [
          "Zealous",
          "Wry",
          "Witty",
          "Whimsical",
          "Vindictive",
          "Verbose",
          "Utilitarian",
          "Urgent",
          "Universalist",
          "Understated",
          "Transparent",
          "Traditional",
          "Theoretical",
          "Theatrical",
          "Temperamental",
          "Technical",
          "Tactful",
          "Systems Thinker",
          "Sycophantic",
          "Subversive",
          "Submissive",
          "Structuralist",
          "Stream Of Consciousness",
          "Stoic",
          "Spontaneous",
          "Spiritual",
          "Speculative",
          "Specialized",
          "Solemn",
          "Socratic",
          "Skeptical",
          "Serious",
          "Serene",
          "Secular",
          "Savage",
          "Sassy",
          "Sardonic",
          "Romantic",
          "Ritualistic",
          "Risk Taking",
          "Rhetorical",
          "Reverent",
          "Resilient",
          "Reserved",
          "Relativist",
          "Regulatory",
          "Reductionist",
          "Rebellious",
          "Rationalist",
          "Radical",
          "Quantitative",
          "Qualitative",
          "Provocative",
          "Progressive",
          "Problem Solving",
          "Proactive",
          "Principled",
          "Prescriptive",
          "Practical",
          "Poetic",
          "Pluralist",
          "Playful",
          "Philosophical",
          "Pessimistic",
          "Perfectionist",
          "Pensive",
          "Pedantic",
          "Passive Aggressive",
          "Passionate",
          "Paranoid",
          "Paradoxical",
          "Pacifist",
          "Optimistic",
          "Open Ended",
          "Obsessive",
          "Nurturing",
          "Nostalgic",
          "Nonchalant",
          "Nihilistic",
          "Neurotic",
          "Narrative",
          "Naive",
          "Mystical",
          "Mischievous",
          "Misanthropic",
          "Militant",
          "Meticulous",
          "Methodical",
          "Metaphorical",
          "Mercurial",
          "Melodramatic",
          "Melancholic",
          "Meditative",
          "Materialist",
          "Manipulative",
          "Manic",
          "Literal",
          "Libertarian",
          "Ironic",
          "Intuitive",
          "Introverted",
          "Introspective",
          "Interdisciplinary",
          "Inspirational",
          "Inquisitive",
          "Innovative",
          "Individualistic",
          "Independent",
          "Inclusive",
          "Improvisational",
          "Impatient",
          "Idealistic",
          "Iconoclastic",
          "Humble",
          "Humanistic",
          "Hostile",
          "Holistic",
          "Historical",
          "Hedonistic",
          "Grounded",
          "Gregarious",
          "Grandiose",
          "Goofy",
          "Generous",
          "Generalist",
          "Futuristic",
          "Fundamentalist",
          "Formalist",
          "Formal",
          "Forgiving",
          "Flirty",
          "Flexible",
          "Fatalistic",
          "Factual",
          "Extroverted",
          "Exploratory",
          "Experiential",
          "Existentialist",
          "Evil",
          "Ethereal",
          "Essentialist",
          "Esoteric",
          "Erudite",
          "Epicurean",
          "Environmental",
          "Entertaining",
          "Enigmatic",
          "Empathetic",
          "Emotional",
          "Eloquent",
          "Elitist",
          "Egalitarian",
          "Effusive",
          "Efficient",
          "Educational",
          "Eclectic",
          "Earnest",
          "Dramatic",
          "Dominant",
          "Dogmatic",
          "Divergent",
          "Dispassionate",
          "Disorganized",
          "Deterministic",
          "Detached",
          "Descriptive",
          "Deontological",
          "Deferential",
          "Deconstructionist",
          "Decisive",
          "Data Driven",
          "Cynical",
          "Curious",
          "Cryptic",
          "Cruel",
          "Critical",
          "Creative",
          "Cosmopolitan",
          "Convergent",
          "Contrarian",
          "Contemporary",
          "Constructivist",
          "Confrontational",
          "Confident",
          "Condescending",
          "Concise",
          "Conceptual",
          "Competitive",
          "Collectivistic",
          "Collaborative",
          "Closure Seeking",
          "Circumspect",
          "Chill",
          "Charismatic",
          "Chaotic",
          "Challenging",
          "Cautious",
          "Casual",
          "Callous",
          "Calculating",
          "Bombastic",
          "Blunt",
          "Big Picture",
          "Avoidant",
          "Assertive",
          "Ascetic",
          "Artistic",
          "Arrogant",
          "Anxious",
          "Anthropocentric",
          "Animated",
          "Analytical",
          "Altruistic",
          "Adventurous",
          "Adaptable",
          "Acerbic",
          "Accommodating",
          "Accessible",
          "Abstract",
          "Absolutist"
         ],
         "type": "scatter",
         "x": [
          -0.36745715141296387,
          -0.6785854697227478,
          -0.29425081610679626,
          -0.40131044387817383,
          -0.44797611236572266,
          0.2506359815597534,
          0.17037326097488403,
          -0.1945319026708603,
          -0.16002002358436584,
          -0.33481013774871826,
          0.5067787170410156,
          0.06364916265010834,
          0.07482145726680756,
          -0.13059377670288086,
          -0.7096030712127686,
          0.30182576179504395,
          0.7089130878448486,
          0.5259295105934143,
          -0.4840776026248932,
          -0.522222101688385,
          -0.52156001329422,
          0.6259776949882507,
          -0.5681767463684082,
          0.5008003115653992,
          -0.5577535629272461,
          -0.049266666173934937,
          -0.04709399491548538,
          0.295095294713974,
          0.6355443596839905,
          -0.37152406573295593,
          0.126386359333992,
          0.6043717861175537,
          0.5322099924087524,
          0.07844988256692886,
          -0.7654747366905212,
          -0.49174433946609497,
          -0.7702961564064026,
          -0.2928811311721802,
          0.410051167011261,
          -0.30153799057006836,
          -0.21210168302059174,
          0.44610342383384705,
          0.7328730821609497,
          0.4358924329280853,
          -0.30842459201812744,
          0.08276136964559555,
          -0.02356399968266487,
          -0.2305610179901123,
          0.3012116551399231,
          -0.2918580174446106,
          0.0735742524266243,
          0.041119832545518875,
          -0.3756563067436218,
          0.15007074177265167,
          0.4731249213218689,
          0.604889988899231,
          0.34746474027633667,
          0.11823835968971252,
          -0.04161756485700607,
          -0.06320984661579132,
          0.4907419979572296,
          -0.5027876496315002,
          0.017444755882024765,
          -0.5892247557640076,
          0.6107124090194702,
          0.5081757307052612,
          0.019501324743032455,
          -0.7156950235366821,
          -0.3136835992336273,
          -0.632099449634552,
          -0.24670861661434174,
          0.03705194592475891,
          0.5346567630767822,
          -0.025747129693627357,
          -0.5980849266052246,
          0.6868290305137634,
          -0.4524300694465637,
          -0.6844595670700073,
          -0.5476915836334229,
          -0.6898947954177856,
          -0.46049851179122925,
          -0.37714552879333496,
          -0.20598159730434418,
          -0.6751070618629456,
          -0.7137073874473572,
          -0.6570566892623901,
          0.6777520179748535,
          0.7438246011734009,
          -0.11444547772407532,
          -0.7542591691017151,
          -0.3118777871131897,
          -0.5183834433555603,
          0.38611626625061035,
          -0.26354509592056274,
          -0.7826661467552185,
          -0.5855375528335571,
          -0.4294067919254303,
          -0.39256858825683594,
          -0.7440034747123718,
          0.1941852569580078,
          0.40871575474739075,
          0.07928642630577087,
          0.2858685553073883,
          0.702485978603363,
          -0.13207146525382996,
          -0.12072540074586868,
          -0.3378223180770874,
          0.40714094042778015,
          0.5439456701278687,
          -0.5447225570678711,
          -0.7286365032196045,
          0.0896696224808693,
          -0.543775200843811,
          0.16649562120437622,
          0.28395339846611023,
          -0.7568773031234741,
          0.5682902336120605,
          -0.2600943148136139,
          -0.6393788456916809,
          0.05327751114964485,
          0.042341459542512894,
          -0.2795978784561157,
          -0.6761586666107178,
          0.5789687037467957,
          0.4853026270866394,
          0.04521055147051811,
          -0.4901769459247589,
          0.39592245221138,
          0.627035915851593,
          0.46136218309402466,
          -0.5445106029510498,
          0.6789777874946594,
          -0.4428578019142151,
          0.7036035656929016,
          0.034022100269794464,
          0.3968641757965088,
          -0.1261860430240631,
          0.04527554288506508,
          -0.7719975113868713,
          -0.17944560945034027,
          -0.250162273645401,
          -0.09415729343891144,
          0.3526160418987274,
          0.1526005119085312,
          0.17931470274925232,
          -0.4447910189628601,
          -0.3746102452278137,
          -0.018253939226269722,
          -0.18710589408874512,
          0.24832576513290405,
          -0.44007933139801025,
          0.3920087516307831,
          -0.3623129427433014,
          -0.36223864555358887,
          0.6820500493049622,
          0.09586045891046524,
          0.7272012829780579,
          -0.2433457374572754,
          0.06353035569190979,
          -0.6949954032897949,
          0.38143637776374817,
          0.3828750252723694,
          -0.7013998031616211,
          -0.40110278129577637,
          0.22794556617736816,
          0.2620159685611725,
          -0.0312099177390337,
          -0.04819043353199959,
          -0.10827456414699554,
          0.1770092397928238,
          0.13130711019039154,
          -0.6365839242935181,
          0.4781351685523987,
          -0.21980512142181396,
          -0.7593594193458557,
          -0.16973833739757538,
          -0.03653504326939583,
          0.5986245274543762,
          -0.21125879883766174,
          -0.392848938703537,
          0.1012137308716774,
          0.055727098137140274,
          -0.36914944648742676,
          -0.19486859440803528,
          -0.6106138229370117,
          -0.2800019681453705,
          0.0990692675113678,
          -0.5952430963516235,
          0.2980719804763794,
          0.2782476544380188,
          0.01625528559088707,
          0.3352806270122528,
          0.3500641882419586,
          0.25781965255737305,
          -0.24251843988895416,
          -0.16303102672100067,
          0.14979565143585205,
          -0.5816442370414734,
          -0.6920599937438965,
          0.7111077308654785,
          -0.11955565214157104,
          -0.3613494038581848,
          0.354060560464859,
          -0.5025712847709656,
          -0.264972448348999,
          0.08939441293478012,
          -0.10145072638988495,
          -0.5976136326789856,
          -0.5690815448760986,
          -0.3163261413574219,
          0.06059325113892555,
          0.6351295113563538,
          0.5748171210289001,
          -0.13326327502727509,
          0.4963245391845703,
          -0.7621354460716248,
          -0.43650922179222107,
          0.05102944374084473,
          0.16490037739276886,
          -0.27731218934059143
         ],
         "xaxis": "x",
         "y": [
          1,
          1,
          1,
          1,
          1,
          1,
          1,
          1,
          1,
          1,
          1,
          1,
          1,
          1,
          1,
          1,
          1,
          1,
          1,
          1,
          1,
          1,
          1,
          1,
          1,
          1,
          1,
          1,
          1,
          1,
          1,
          1,
          1,
          1,
          1,
          1,
          1,
          1,
          1,
          1,
          1,
          1,
          1,
          1,
          1,
          1,
          1,
          1,
          1,
          1,
          1,
          1,
          1,
          1,
          1,
          1,
          1,
          1,
          1,
          1,
          1,
          1,
          1,
          1,
          1,
          1,
          1,
          1,
          1,
          1,
          1,
          1,
          1,
          1,
          1,
          1,
          1,
          1,
          1,
          1,
          1,
          1,
          1,
          1,
          1,
          1,
          1,
          1,
          1,
          1,
          1,
          1,
          1,
          1,
          1,
          1,
          1,
          1,
          1,
          1,
          1,
          1,
          1,
          1,
          1,
          1,
          1,
          1,
          1,
          1,
          1,
          1,
          1,
          1,
          1,
          1,
          1,
          1,
          1,
          1,
          1,
          1,
          1,
          1,
          1,
          1,
          1,
          1,
          1,
          1,
          1,
          1,
          1,
          1,
          1,
          1,
          1,
          1,
          1,
          1,
          1,
          1,
          1,
          1,
          1,
          1,
          1,
          1,
          1,
          1,
          1,
          1,
          1,
          1,
          1,
          1,
          1,
          1,
          1,
          1,
          1,
          1,
          1,
          1,
          1,
          1,
          1,
          1,
          1,
          1,
          1,
          1,
          1,
          1,
          1,
          1,
          1,
          1,
          1,
          1,
          1,
          1,
          1,
          1,
          1,
          1,
          1,
          1,
          1,
          1,
          1,
          1,
          1,
          1,
          1,
          1,
          1,
          1,
          1,
          1,
          1,
          1,
          1,
          1,
          1,
          1,
          1,
          1,
          1,
          1,
          1,
          1,
          1,
          1,
          1,
          1,
          1,
          1,
          1,
          1
         ],
         "yaxis": "y"
        },
        {
         "hovertemplate": "<b>%{text}</b><br>Cosine Similarity: %{x:.3f}<extra></extra>",
         "marker": {
          "color": "limegreen",
          "line": {
           "color": "black",
           "width": 1
          },
          "opacity": 1,
          "size": 8,
          "symbol": "diamond"
         },
         "mode": "markers",
         "showlegend": false,
         "text": [
          "Visceral",
          "Supportive",
          "Strategic",
          "Sarcastic",
          "Reactive",
          "Petty",
          "Patient",
          "Moderate",
          "Judgmental",
          "Irreverent",
          "Impulsive",
          "Flippant",
          "Edgy",
          "Diplomatic",
          "Conscientious",
          "Conciliatory",
          "Calm",
          "Bitter",
          "Benevolent",
          "Agreeable"
         ],
         "type": "scatter",
         "x": [
          -0.8458085060119629,
          0.7666904926300049,
          0.7812049984931946,
          -0.7924211025238037,
          -0.8028703331947327,
          -0.8221855163574219,
          0.7506963014602661,
          0.7466889023780823,
          -0.8225852251052856,
          -0.7957543730735779,
          -0.8315814733505249,
          -0.8182324767112732,
          -0.8316925764083862,
          0.8751256465911865,
          0.7759522199630737,
          0.795776903629303,
          0.7898889183998108,
          -0.814406156539917,
          0.7682831287384033,
          0.7689147591590881
         ],
         "xaxis": "x",
         "y": [
          1,
          1,
          1,
          1,
          1,
          1,
          1,
          1,
          1,
          1,
          1,
          1,
          1,
          1,
          1,
          1,
          1,
          1,
          1,
          1
         ],
         "yaxis": "y"
        },
        {
         "hoverinfo": "skip",
         "line": {
          "color": "black",
          "width": 1
         },
         "mode": "lines",
         "showlegend": false,
         "type": "scatter",
         "x": [
          -0.8458085060119629,
          -0.8458085060119629
         ],
         "xaxis": "x",
         "y": [
          1,
          1.45
         ],
         "yaxis": "y"
        },
        {
         "hoverinfo": "skip",
         "line": {
          "color": "black",
          "width": 1
         },
         "mode": "lines",
         "showlegend": false,
         "type": "scatter",
         "x": [
          -0.8316925764083862,
          -0.8316925764083862
         ],
         "xaxis": "x",
         "y": [
          1,
          0.6
         ],
         "yaxis": "y"
        },
        {
         "hoverinfo": "skip",
         "line": {
          "color": "black",
          "width": 1
         },
         "mode": "lines",
         "showlegend": false,
         "type": "scatter",
         "x": [
          -0.8315814733505249,
          -0.8315814733505249
         ],
         "xaxis": "x",
         "y": [
          1,
          1.9
         ],
         "yaxis": "y"
        },
        {
         "hoverinfo": "skip",
         "line": {
          "color": "black",
          "width": 1
         },
         "mode": "lines",
         "showlegend": false,
         "type": "scatter",
         "x": [
          -0.8225852251052856,
          -0.8225852251052856
         ],
         "xaxis": "x",
         "y": [
          1,
          0.15
         ],
         "yaxis": "y"
        },
        {
         "hoverinfo": "skip",
         "line": {
          "color": "black",
          "width": 1
         },
         "mode": "lines",
         "showlegend": false,
         "type": "scatter",
         "x": [
          -0.8221855163574219,
          -0.8221855163574219
         ],
         "xaxis": "x",
         "y": [
          1,
          1.6
         ],
         "yaxis": "y"
        },
        {
         "hoverinfo": "skip",
         "line": {
          "color": "black",
          "width": 1
         },
         "mode": "lines",
         "showlegend": false,
         "type": "scatter",
         "x": [
          -0.8182324767112732,
          -0.8182324767112732
         ],
         "xaxis": "x",
         "y": [
          1,
          0.45
         ],
         "yaxis": "y"
        },
        {
         "hoverinfo": "skip",
         "line": {
          "color": "black",
          "width": 1
         },
         "mode": "lines",
         "showlegend": false,
         "type": "scatter",
         "x": [
          -0.814406156539917,
          -0.814406156539917
         ],
         "xaxis": "x",
         "y": [
          1,
          1.3
         ],
         "yaxis": "y"
        },
        {
         "hoverinfo": "skip",
         "line": {
          "color": "black",
          "width": 1
         },
         "mode": "lines",
         "showlegend": false,
         "type": "scatter",
         "x": [
          -0.8028703331947327,
          -0.8028703331947327
         ],
         "xaxis": "x",
         "y": [
          1,
          0.75
         ],
         "yaxis": "y"
        },
        {
         "hoverinfo": "skip",
         "line": {
          "color": "black",
          "width": 1
         },
         "mode": "lines",
         "showlegend": false,
         "type": "scatter",
         "x": [
          -0.7957543730735779,
          -0.7957543730735779
         ],
         "xaxis": "x",
         "y": [
          1,
          1.75
         ],
         "yaxis": "y"
        },
        {
         "hoverinfo": "skip",
         "line": {
          "color": "black",
          "width": 1
         },
         "mode": "lines",
         "showlegend": false,
         "type": "scatter",
         "x": [
          -0.7924211025238037,
          -0.7924211025238037
         ],
         "xaxis": "x",
         "y": [
          1,
          0.3
         ],
         "yaxis": "y"
        },
        {
         "hoverinfo": "skip",
         "line": {
          "color": "black",
          "width": 1
         },
         "mode": "lines",
         "showlegend": false,
         "type": "scatter",
         "x": [
          0.7466889023780823,
          0.7466889023780823
         ],
         "xaxis": "x",
         "y": [
          1,
          1.45
         ],
         "yaxis": "y"
        },
        {
         "hoverinfo": "skip",
         "line": {
          "color": "black",
          "width": 1
         },
         "mode": "lines",
         "showlegend": false,
         "type": "scatter",
         "x": [
          0.7506963014602661,
          0.7506963014602661
         ],
         "xaxis": "x",
         "y": [
          1,
          0.6
         ],
         "yaxis": "y"
        },
        {
         "hoverinfo": "skip",
         "line": {
          "color": "black",
          "width": 1
         },
         "mode": "lines",
         "showlegend": false,
         "type": "scatter",
         "x": [
          0.7666904926300049,
          0.7666904926300049
         ],
         "xaxis": "x",
         "y": [
          1,
          1.9
         ],
         "yaxis": "y"
        },
        {
         "hoverinfo": "skip",
         "line": {
          "color": "black",
          "width": 1
         },
         "mode": "lines",
         "showlegend": false,
         "type": "scatter",
         "x": [
          0.7682831287384033,
          0.7682831287384033
         ],
         "xaxis": "x",
         "y": [
          1,
          0.15
         ],
         "yaxis": "y"
        },
        {
         "hoverinfo": "skip",
         "line": {
          "color": "black",
          "width": 1
         },
         "mode": "lines",
         "showlegend": false,
         "type": "scatter",
         "x": [
          0.7689147591590881,
          0.7689147591590881
         ],
         "xaxis": "x",
         "y": [
          1,
          1.6
         ],
         "yaxis": "y"
        },
        {
         "hoverinfo": "skip",
         "line": {
          "color": "black",
          "width": 1
         },
         "mode": "lines",
         "showlegend": false,
         "type": "scatter",
         "x": [
          0.7759522199630737,
          0.7759522199630737
         ],
         "xaxis": "x",
         "y": [
          1,
          0.45
         ],
         "yaxis": "y"
        },
        {
         "hoverinfo": "skip",
         "line": {
          "color": "black",
          "width": 1
         },
         "mode": "lines",
         "showlegend": false,
         "type": "scatter",
         "x": [
          0.7812049984931946,
          0.7812049984931946
         ],
         "xaxis": "x",
         "y": [
          1,
          1.3
         ],
         "yaxis": "y"
        },
        {
         "hoverinfo": "skip",
         "line": {
          "color": "black",
          "width": 1
         },
         "mode": "lines",
         "showlegend": false,
         "type": "scatter",
         "x": [
          0.7898889183998108,
          0.7898889183998108
         ],
         "xaxis": "x",
         "y": [
          1,
          0.75
         ],
         "yaxis": "y"
        },
        {
         "hoverinfo": "skip",
         "line": {
          "color": "black",
          "width": 1
         },
         "mode": "lines",
         "showlegend": false,
         "type": "scatter",
         "x": [
          0.795776903629303,
          0.795776903629303
         ],
         "xaxis": "x",
         "y": [
          1,
          1.75
         ],
         "yaxis": "y"
        },
        {
         "hoverinfo": "skip",
         "line": {
          "color": "black",
          "width": 1
         },
         "mode": "lines",
         "showlegend": false,
         "type": "scatter",
         "x": [
          0.8751256465911865,
          0.8751256465911865
         ],
         "xaxis": "x",
         "y": [
          1,
          0.3
         ],
         "yaxis": "y"
        },
        {
         "hoverinfo": "skip",
         "marker": {
          "color": "limegreen"
         },
         "opacity": 0.7,
         "showlegend": false,
         "type": "bar",
         "width": 0.04589157104492188,
         "x": [
          -0.8171262741088867,
          -0.7597618103027344,
          -0.702397346496582,
          -0.6450328826904297,
          -0.5876683592796326,
          -0.5303038954734802,
          -0.4729394316673279,
          -0.41557496786117554,
          -0.3582105040550232,
          -0.30084604024887085,
          -0.24348154664039612,
          -0.18611708283424377,
          -0.12875261902809143,
          -0.0713881403207779,
          -0.014023665338754654,
          0.04334080591797829,
          0.10070528090000153,
          0.15806975960731506,
          0.2154342234134674,
          0.27279868721961975,
          0.3301631808280945,
          0.3875276446342468,
          0.44489210844039917,
          0.5022565722465515,
          0.5596210360527039,
          0.6169854998588562,
          0.6743500232696533,
          0.7317144870758057,
          0.789078950881958,
          0.8464434146881104
         ],
         "xaxis": "x",
         "y": [
          0.6,
          0.54,
          0.7200000000000001,
          0.24,
          0.54,
          0.6,
          0.42000000000000004,
          0.48,
          0.6599999999999999,
          0.6599999999999999,
          0.54,
          0.6,
          0.54,
          0.3,
          0.36000000000000004,
          0.9,
          0.7200000000000001,
          0.54,
          0.12,
          0.6,
          0.36000000000000004,
          0.54,
          0.24,
          0.48,
          0.36000000000000004,
          0.48,
          0.3,
          0.48,
          0.42000000000000004,
          0.06
         ],
         "yaxis": "y"
        },
        {
         "hovertemplate": "<b>%{text}</b><br>PC Projection: %{x:.3f}<extra></extra>",
         "marker": {
          "color": "limegreen",
          "line": {
           "color": "black",
           "width": 1
          },
          "opacity": 1,
          "size": 8,
          "symbol": "diamond"
         },
         "mode": "markers",
         "showlegend": false,
         "text": [
          "Zealous",
          "Wry",
          "Witty",
          "Whimsical",
          "Vindictive",
          "Verbose",
          "Utilitarian",
          "Urgent",
          "Universalist",
          "Understated",
          "Transparent",
          "Traditional",
          "Theoretical",
          "Theatrical",
          "Temperamental",
          "Technical",
          "Tactful",
          "Systems Thinker",
          "Sycophantic",
          "Subversive",
          "Submissive",
          "Structuralist",
          "Stream Of Consciousness",
          "Stoic",
          "Spontaneous",
          "Spiritual",
          "Speculative",
          "Specialized",
          "Solemn",
          "Socratic",
          "Skeptical",
          "Serious",
          "Serene",
          "Secular",
          "Savage",
          "Sassy",
          "Sardonic",
          "Romantic",
          "Ritualistic",
          "Risk Taking",
          "Rhetorical",
          "Reverent",
          "Resilient",
          "Reserved",
          "Relativist",
          "Regulatory",
          "Reductionist",
          "Rebellious",
          "Reactive",
          "Rationalist",
          "Radical",
          "Quantitative",
          "Qualitative",
          "Provocative",
          "Progressive",
          "Problem Solving",
          "Proactive",
          "Principled",
          "Prescriptive",
          "Practical",
          "Poetic",
          "Pluralist",
          "Playful",
          "Philosophical",
          "Pessimistic",
          "Perfectionist",
          "Pensive",
          "Pedantic",
          "Passive Aggressive",
          "Passionate",
          "Paranoid",
          "Paradoxical",
          "Pacifist",
          "Optimistic",
          "Open Ended",
          "Obsessive",
          "Nurturing",
          "Nostalgic",
          "Nonchalant",
          "Nihilistic",
          "Neurotic",
          "Narrative",
          "Naive",
          "Mystical",
          "Moderate",
          "Mischievous",
          "Misanthropic",
          "Militant",
          "Meticulous",
          "Methodical",
          "Metaphorical",
          "Melodramatic",
          "Melancholic",
          "Meditative",
          "Materialist",
          "Manipulative",
          "Manic",
          "Literal",
          "Libertarian",
          "Ironic",
          "Intuitive",
          "Introverted",
          "Introspective",
          "Interdisciplinary",
          "Inspirational",
          "Inquisitive",
          "Innovative",
          "Individualistic",
          "Independent",
          "Inclusive",
          "Improvisational",
          "Impatient",
          "Idealistic",
          "Iconoclastic",
          "Humble",
          "Humanistic",
          "Hostile",
          "Holistic",
          "Historical",
          "Hedonistic",
          "Grounded",
          "Gregarious",
          "Grandiose",
          "Goofy",
          "Generous",
          "Generalist",
          "Futuristic",
          "Fundamentalist",
          "Formalist",
          "Formal",
          "Forgiving",
          "Flirty",
          "Flexible",
          "Fatalistic",
          "Factual",
          "Extroverted",
          "Exploratory",
          "Experiential",
          "Existentialist",
          "Evil",
          "Ethereal",
          "Essentialist",
          "Esoteric",
          "Erudite",
          "Epicurean",
          "Environmental",
          "Entertaining",
          "Enigmatic",
          "Empathetic",
          "Emotional",
          "Eloquent",
          "Elitist",
          "Egalitarian",
          "Effusive",
          "Efficient",
          "Educational",
          "Eclectic",
          "Earnest",
          "Dramatic",
          "Dominant",
          "Dogmatic",
          "Divergent",
          "Dispassionate",
          "Disorganized",
          "Deterministic",
          "Detached",
          "Descriptive",
          "Deontological",
          "Deferential",
          "Deconstructionist",
          "Decisive",
          "Data Driven",
          "Cynical",
          "Curious",
          "Cryptic",
          "Cruel",
          "Critical",
          "Creative",
          "Cosmopolitan",
          "Convergent",
          "Contrarian",
          "Contemporary",
          "Constructivist",
          "Confrontational",
          "Confident",
          "Condescending",
          "Concise",
          "Conceptual",
          "Competitive",
          "Collectivistic",
          "Collaborative",
          "Closure Seeking",
          "Circumspect",
          "Chill",
          "Charismatic",
          "Chaotic",
          "Challenging",
          "Cautious",
          "Casual",
          "Callous",
          "Bombastic",
          "Blunt",
          "Big Picture",
          "Avoidant",
          "Assertive",
          "Ascetic",
          "Artistic",
          "Arrogant",
          "Anxious",
          "Anthropocentric",
          "Animated",
          "Analytical",
          "Altruistic",
          "Adventurous",
          "Adaptable",
          "Acerbic",
          "Accommodating",
          "Accessible",
          "Abstract",
          "Absolutist"
         ],
         "type": "scatter",
         "x": [
          -0.3512943983078003,
          -0.6748328804969788,
          -0.2737841010093689,
          -0.4045669734477997,
          -0.36919865012168884,
          0.3210245370864868,
          0.2631998360157013,
          -0.12895402312278748,
          0.04566371813416481,
          -0.26130297780036926,
          0.5165523886680603,
          0.13602973520755768,
          0.18424850702285767,
          -0.0954320877790451,
          -0.7078146934509277,
          0.39153456687927246,
          0.7420215606689453,
          0.6637386679649353,
          -0.44131532311439514,
          -0.5194477438926697,
          -0.4401000142097473,
          0.6962215900421143,
          -0.5243473649024963,
          0.5252348184585571,
          -0.5718829035758972,
          0.019737862050533295,
          0.09166720509529114,
          0.40818479657173157,
          0.6732286214828491,
          -0.3096446394920349,
          0.2579730451107025,
          0.6277710199356079,
          0.577168881893158,
          0.15019521117210388,
          -0.7253767251968384,
          -0.46190258860588074,
          -0.7646622657775879,
          -0.272602915763855,
          0.4777757525444031,
          -0.2119358479976654,
          -0.18067605793476105,
          0.5245635509490967,
          0.7518930435180664,
          0.4348655939102173,
          -0.24603083729743958,
          0.1620590090751648,
          0.09287258237600327,
          -0.15363070368766785,
          -0.7421998381614685,
          0.3428407609462738,
          -0.2377735674381256,
          0.13187533617019653,
          0.11822763085365295,
          -0.3426749110221863,
          0.269732266664505,
          0.5344218015670776,
          0.698419988155365,
          0.48465317487716675,
          0.1941177248954773,
          0.038237523287534714,
          -0.016109973192214966,
          0.5630450248718262,
          -0.4878144860267639,
          0.11707262694835663,
          -0.514924943447113,
          0.7147535085678101,
          0.6083136796951294,
          0.1245250403881073,
          -0.69310462474823,
          -0.28500646352767944,
          -0.606602668762207,
          -0.16866278648376465,
          0.17041413486003876,
          0.5678691864013672,
          0.06331410259008408,
          -0.5853176116943359,
          0.734786331653595,
          -0.40782877802848816,
          -0.625444233417511,
          -0.5340713262557983,
          -0.6481799483299255,
          -0.4431353509426117,
          -0.3174886703491211,
          -0.16235429048538208,
          0.7202455997467041,
          -0.688920259475708,
          -0.7129050493240356,
          -0.636417031288147,
          0.7498390674591064,
          0.7557751536369324,
          -0.07433640956878662,
          -0.3048679828643799,
          -0.4889463782310486,
          0.4452560842037201,
          -0.14191219210624695,
          -0.7601282000541687,
          -0.575161337852478,
          -0.309476763010025,
          -0.28844043612480164,
          -0.7478368282318115,
          0.3021223545074463,
          0.48090580105781555,
          0.18739056587219238,
          0.4668799638748169,
          0.7349504828453064,
          -0.05547577887773514,
          -0.024954143911600113,
          -0.2373066395521164,
          0.47841876745224,
          0.6600149869918823,
          -0.4751700460910797,
          -0.6709784865379333,
          0.22459539771080017,
          -0.5296319723129272,
          0.2602333724498749,
          0.36456531286239624,
          -0.7284713387489319,
          0.676475465297699,
          -0.18398597836494446,
          -0.6044772267341614,
          0.1068546399474144,
          0.12091975659132004,
          -0.25686904788017273,
          -0.6723747849464417,
          0.6534296870231628,
          0.5399313569068909,
          0.15539662539958954,
          -0.39953917264938354,
          0.45489218831062317,
          0.6738336682319641,
          0.5409544706344604,
          -0.539894163608551,
          0.6832758784294128,
          -0.4041692316532135,
          0.6764655113220215,
          0.12302450090646744,
          0.4842500686645508,
          -0.04605480656027794,
          0.12251326441764832,
          -0.766103208065033,
          -0.13840940594673157,
          -0.14853480458259583,
          -0.031143255531787872,
          0.4687512218952179,
          0.24765288829803467,
          0.27738192677497864,
          -0.4316260814666748,
          -0.36362314224243164,
          0.06716667860746384,
          -0.12809668481349945,
          0.3243466913700104,
          -0.40363797545433044,
          0.5034801959991455,
          -0.33953943848609924,
          -0.2785205543041229,
          0.7503989934921265,
          0.25283393263816833,
          0.7604746222496033,
          -0.22668464481830597,
          0.1680586338043213,
          -0.6446619033813477,
          0.48847874999046326,
          0.398370623588562,
          -0.6702840328216553,
          -0.3635408282279968,
          0.2735283672809601,
          0.3041042685508728,
          0.1117819994688034,
          0.0650889053940773,
          -0.011016030795872211,
          0.2335483282804489,
          0.2044724076986313,
          -0.5944243669509888,
          0.5753246545791626,
          -0.19404786825180054,
          -0.7253645658493042,
          -0.09035631269216537,
          0.07130865752696991,
          0.6832714676856995,
          -0.008035165257751942,
          -0.3369317054748535,
          0.2162521630525589,
          0.16871245205402374,
          -0.28098928928375244,
          -0.11523401737213135,
          -0.5888786911964417,
          -0.21295271813869476,
          0.21217022836208344,
          -0.571682870388031,
          0.37348875403404236,
          0.358930766582489,
          0.10479287058115005,
          0.4084891676902771,
          0.38250523805618286,
          0.3224222660064697,
          -0.179056778550148,
          -0.07712013274431229,
          0.2373124361038208,
          -0.5103164315223694,
          -0.6440730690956116,
          -0.08405858278274536,
          -0.2857036292552948,
          0.47784656286239624,
          -0.4095422923564911,
          -0.1675085425376892,
          0.16399331390857697,
          -0.04569152742624283,
          -0.5794681310653687,
          -0.5195243954658508,
          -0.1253221482038498,
          0.11327517777681351,
          0.6779723167419434,
          0.6172512173652649,
          -0.04642496258020401,
          0.5379477739334106,
          -0.7568263411521912,
          -0.33935895562171936,
          0.09604289382696152,
          0.286510169506073,
          -0.16367556154727936
         ],
         "xaxis": "x2",
         "y": [
          1,
          1,
          1,
          1,
          1,
          1,
          1,
          1,
          1,
          1,
          1,
          1,
          1,
          1,
          1,
          1,
          1,
          1,
          1,
          1,
          1,
          1,
          1,
          1,
          1,
          1,
          1,
          1,
          1,
          1,
          1,
          1,
          1,
          1,
          1,
          1,
          1,
          1,
          1,
          1,
          1,
          1,
          1,
          1,
          1,
          1,
          1,
          1,
          1,
          1,
          1,
          1,
          1,
          1,
          1,
          1,
          1,
          1,
          1,
          1,
          1,
          1,
          1,
          1,
          1,
          1,
          1,
          1,
          1,
          1,
          1,
          1,
          1,
          1,
          1,
          1,
          1,
          1,
          1,
          1,
          1,
          1,
          1,
          1,
          1,
          1,
          1,
          1,
          1,
          1,
          1,
          1,
          1,
          1,
          1,
          1,
          1,
          1,
          1,
          1,
          1,
          1,
          1,
          1,
          1,
          1,
          1,
          1,
          1,
          1,
          1,
          1,
          1,
          1,
          1,
          1,
          1,
          1,
          1,
          1,
          1,
          1,
          1,
          1,
          1,
          1,
          1,
          1,
          1,
          1,
          1,
          1,
          1,
          1,
          1,
          1,
          1,
          1,
          1,
          1,
          1,
          1,
          1,
          1,
          1,
          1,
          1,
          1,
          1,
          1,
          1,
          1,
          1,
          1,
          1,
          1,
          1,
          1,
          1,
          1,
          1,
          1,
          1,
          1,
          1,
          1,
          1,
          1,
          1,
          1,
          1,
          1,
          1,
          1,
          1,
          1,
          1,
          1,
          1,
          1,
          1,
          1,
          1,
          1,
          1,
          1,
          1,
          1,
          1,
          1,
          1,
          1,
          1,
          1,
          1,
          1,
          1,
          1,
          1,
          1,
          1,
          1,
          1,
          1,
          1,
          1,
          1,
          1,
          1,
          1,
          1,
          1,
          1,
          1,
          1,
          1,
          1,
          1,
          1,
          1
         ],
         "yaxis": "y2"
        },
        {
         "hovertemplate": "<b>%{text}</b><br>PC Projection: %{x:.3f}<extra></extra>",
         "marker": {
          "color": "limegreen",
          "line": {
           "color": "black",
           "width": 1
          },
          "opacity": 1,
          "size": 8,
          "symbol": "diamond"
         },
         "mode": "markers",
         "showlegend": false,
         "text": [
          "Visceral",
          "Supportive",
          "Strategic",
          "Sarcastic",
          "Petty",
          "Patient",
          "Mercurial",
          "Judgmental",
          "Irreverent",
          "Impulsive",
          "Flippant",
          "Edgy",
          "Diplomatic",
          "Conscientious",
          "Conciliatory",
          "Calm",
          "Calculating",
          "Bitter",
          "Benevolent",
          "Agreeable"
         ],
         "type": "scatter",
         "x": [
          -0.7950220704078674,
          0.8048459887504578,
          0.839154064655304,
          -0.7886016964912415,
          -0.8049905896186829,
          0.7702327370643616,
          -0.7708812952041626,
          -0.7990410327911377,
          -0.775534987449646,
          -0.7696743011474609,
          -0.7937391400337219,
          -0.8556413650512695,
          0.8543459177017212,
          0.8062964677810669,
          0.7830922603607178,
          0.770548403263092,
          0.7954472899436951,
          -0.8058272004127502,
          0.783924400806427,
          0.7759961485862732
         ],
         "xaxis": "x2",
         "y": [
          1,
          1,
          1,
          1,
          1,
          1,
          1,
          1,
          1,
          1,
          1,
          1,
          1,
          1,
          1,
          1,
          1,
          1,
          1,
          1
         ],
         "yaxis": "y2"
        },
        {
         "hoverinfo": "skip",
         "line": {
          "color": "black",
          "width": 1
         },
         "mode": "lines",
         "showlegend": false,
         "type": "scatter",
         "x": [
          -0.8556413650512695,
          -0.8556413650512695
         ],
         "xaxis": "x2",
         "y": [
          1,
          1.45
         ],
         "yaxis": "y2"
        },
        {
         "hoverinfo": "skip",
         "line": {
          "color": "black",
          "width": 1
         },
         "mode": "lines",
         "showlegend": false,
         "type": "scatter",
         "x": [
          -0.8058272004127502,
          -0.8058272004127502
         ],
         "xaxis": "x2",
         "y": [
          1,
          0.6
         ],
         "yaxis": "y2"
        },
        {
         "hoverinfo": "skip",
         "line": {
          "color": "black",
          "width": 1
         },
         "mode": "lines",
         "showlegend": false,
         "type": "scatter",
         "x": [
          -0.8049905896186829,
          -0.8049905896186829
         ],
         "xaxis": "x2",
         "y": [
          1,
          1.9
         ],
         "yaxis": "y2"
        },
        {
         "hoverinfo": "skip",
         "line": {
          "color": "black",
          "width": 1
         },
         "mode": "lines",
         "showlegend": false,
         "type": "scatter",
         "x": [
          -0.7990410327911377,
          -0.7990410327911377
         ],
         "xaxis": "x2",
         "y": [
          1,
          0.15
         ],
         "yaxis": "y2"
        },
        {
         "hoverinfo": "skip",
         "line": {
          "color": "black",
          "width": 1
         },
         "mode": "lines",
         "showlegend": false,
         "type": "scatter",
         "x": [
          -0.7950220704078674,
          -0.7950220704078674
         ],
         "xaxis": "x2",
         "y": [
          1,
          1.6
         ],
         "yaxis": "y2"
        },
        {
         "hoverinfo": "skip",
         "line": {
          "color": "black",
          "width": 1
         },
         "mode": "lines",
         "showlegend": false,
         "type": "scatter",
         "x": [
          -0.7937391400337219,
          -0.7937391400337219
         ],
         "xaxis": "x2",
         "y": [
          1,
          0.45
         ],
         "yaxis": "y2"
        },
        {
         "hoverinfo": "skip",
         "line": {
          "color": "black",
          "width": 1
         },
         "mode": "lines",
         "showlegend": false,
         "type": "scatter",
         "x": [
          -0.7886016964912415,
          -0.7886016964912415
         ],
         "xaxis": "x2",
         "y": [
          1,
          1.3
         ],
         "yaxis": "y2"
        },
        {
         "hoverinfo": "skip",
         "line": {
          "color": "black",
          "width": 1
         },
         "mode": "lines",
         "showlegend": false,
         "type": "scatter",
         "x": [
          -0.775534987449646,
          -0.775534987449646
         ],
         "xaxis": "x2",
         "y": [
          1,
          0.75
         ],
         "yaxis": "y2"
        },
        {
         "hoverinfo": "skip",
         "line": {
          "color": "black",
          "width": 1
         },
         "mode": "lines",
         "showlegend": false,
         "type": "scatter",
         "x": [
          -0.7708812952041626,
          -0.7708812952041626
         ],
         "xaxis": "x2",
         "y": [
          1,
          1.75
         ],
         "yaxis": "y2"
        },
        {
         "hoverinfo": "skip",
         "line": {
          "color": "black",
          "width": 1
         },
         "mode": "lines",
         "showlegend": false,
         "type": "scatter",
         "x": [
          -0.7696743011474609,
          -0.7696743011474609
         ],
         "xaxis": "x2",
         "y": [
          1,
          0.3
         ],
         "yaxis": "y2"
        },
        {
         "hoverinfo": "skip",
         "line": {
          "color": "black",
          "width": 1
         },
         "mode": "lines",
         "showlegend": false,
         "type": "scatter",
         "x": [
          0.7702327370643616,
          0.7702327370643616
         ],
         "xaxis": "x2",
         "y": [
          1,
          1.45
         ],
         "yaxis": "y2"
        },
        {
         "hoverinfo": "skip",
         "line": {
          "color": "black",
          "width": 1
         },
         "mode": "lines",
         "showlegend": false,
         "type": "scatter",
         "x": [
          0.770548403263092,
          0.770548403263092
         ],
         "xaxis": "x2",
         "y": [
          1,
          0.6
         ],
         "yaxis": "y2"
        },
        {
         "hoverinfo": "skip",
         "line": {
          "color": "black",
          "width": 1
         },
         "mode": "lines",
         "showlegend": false,
         "type": "scatter",
         "x": [
          0.7759961485862732,
          0.7759961485862732
         ],
         "xaxis": "x2",
         "y": [
          1,
          1.9
         ],
         "yaxis": "y2"
        },
        {
         "hoverinfo": "skip",
         "line": {
          "color": "black",
          "width": 1
         },
         "mode": "lines",
         "showlegend": false,
         "type": "scatter",
         "x": [
          0.7830922603607178,
          0.7830922603607178
         ],
         "xaxis": "x2",
         "y": [
          1,
          0.15
         ],
         "yaxis": "y2"
        },
        {
         "hoverinfo": "skip",
         "line": {
          "color": "black",
          "width": 1
         },
         "mode": "lines",
         "showlegend": false,
         "type": "scatter",
         "x": [
          0.783924400806427,
          0.783924400806427
         ],
         "xaxis": "x2",
         "y": [
          1,
          1.6
         ],
         "yaxis": "y2"
        },
        {
         "hoverinfo": "skip",
         "line": {
          "color": "black",
          "width": 1
         },
         "mode": "lines",
         "showlegend": false,
         "type": "scatter",
         "x": [
          0.7954472899436951,
          0.7954472899436951
         ],
         "xaxis": "x2",
         "y": [
          1,
          0.45
         ],
         "yaxis": "y2"
        },
        {
         "hoverinfo": "skip",
         "line": {
          "color": "black",
          "width": 1
         },
         "mode": "lines",
         "showlegend": false,
         "type": "scatter",
         "x": [
          0.8048459887504578,
          0.8048459887504578
         ],
         "xaxis": "x2",
         "y": [
          1,
          1.3
         ],
         "yaxis": "y2"
        },
        {
         "hoverinfo": "skip",
         "line": {
          "color": "black",
          "width": 1
         },
         "mode": "lines",
         "showlegend": false,
         "type": "scatter",
         "x": [
          0.8062964677810669,
          0.8062964677810669
         ],
         "xaxis": "x2",
         "y": [
          1,
          0.75
         ],
         "yaxis": "y2"
        },
        {
         "hoverinfo": "skip",
         "line": {
          "color": "black",
          "width": 1
         },
         "mode": "lines",
         "showlegend": false,
         "type": "scatter",
         "x": [
          0.839154064655304,
          0.839154064655304
         ],
         "xaxis": "x2",
         "y": [
          1,
          1.75
         ],
         "yaxis": "y2"
        },
        {
         "hoverinfo": "skip",
         "line": {
          "color": "black",
          "width": 1
         },
         "mode": "lines",
         "showlegend": false,
         "type": "scatter",
         "x": [
          0.8543459177017212,
          0.8543459177017212
         ],
         "xaxis": "x2",
         "y": [
          1,
          0.3
         ],
         "yaxis": "y2"
        },
        {
         "hoverinfo": "skip",
         "marker": {
          "color": "limegreen"
         },
         "opacity": 0.7,
         "showlegend": false,
         "type": "bar",
         "width": 0.045599651336669926,
         "x": [
          -0.8271415829658508,
          -0.7701420187950134,
          -0.7131423950195312,
          -0.6561428308486938,
          -0.5991432666778564,
          -0.542143702507019,
          -0.48514413833618164,
          -0.42814454436302185,
          -0.37114495038986206,
          -0.31414538621902466,
          -0.25714582204818726,
          -0.20014622807502747,
          -0.14314666390419006,
          -0.08614708483219147,
          -0.02914751134812832,
          0.02785206399857998,
          0.08485163748264313,
          0.14185121655464172,
          0.19885078072547913,
          0.2558503746986389,
          0.3128499388694763,
          0.3698495030403137,
          0.4268490970134735,
          0.4838486909866333,
          0.5408482551574707,
          0.5978478193283081,
          0.6548473834991455,
          0.7118469476699829,
          0.7688465714454651,
          0.8258461356163025
         ],
         "xaxis": "x2",
         "y": [
          0.2571428571428571,
          0.7714285714285714,
          0.45,
          0.5142857142857142,
          0.6428571428571429,
          0.45,
          0.32142857142857145,
          0.5785714285714286,
          0.3857142857142857,
          0.5785714285714286,
          0.6428571428571429,
          0.45,
          0.7714285714285714,
          0.32142857142857145,
          0.5785714285714286,
          0.19285714285714284,
          0.7071428571428572,
          0.9,
          0.5142857142857142,
          0.6428571428571429,
          0.3857142857142857,
          0.3857142857142857,
          0.3857142857142857,
          0.6428571428571429,
          0.5785714285714286,
          0.2571428571428571,
          0.7071428571428572,
          0.3857142857142857,
          0.7714285714285714,
          0.2571428571428571
         ],
         "yaxis": "y2"
        }
       ],
       "layout": {
        "annotations": [
         {
          "font": {
           "size": 16
          },
          "showarrow": false,
          "text": "PC1 Cosine Similarity",
          "x": 0.5,
          "xanchor": "center",
          "xref": "paper",
          "y": 1,
          "yanchor": "bottom",
          "yref": "paper"
         },
         {
          "font": {
           "size": 16
          },
          "showarrow": false,
          "text": "PC1 Projection",
          "x": 0.5,
          "xanchor": "center",
          "xref": "paper",
          "y": 0.45,
          "yanchor": "bottom",
          "yref": "paper"
         },
         {
          "bgcolor": "rgba(255, 255, 255, 0.9)",
          "bordercolor": "black",
          "borderwidth": 1,
          "font": {
           "color": "black",
           "size": 10
          },
          "showarrow": false,
          "text": "Visceral",
          "x": -0.8458085060119629,
          "xref": "x",
          "y": 1.45,
          "yref": "y"
         },
         {
          "bgcolor": "rgba(255, 255, 255, 0.9)",
          "bordercolor": "black",
          "borderwidth": 1,
          "font": {
           "color": "black",
           "size": 10
          },
          "showarrow": false,
          "text": "Edgy",
          "x": -0.8316925764083862,
          "xref": "x",
          "y": 0.6,
          "yref": "y"
         },
         {
          "bgcolor": "rgba(255, 255, 255, 0.9)",
          "bordercolor": "black",
          "borderwidth": 1,
          "font": {
           "color": "black",
           "size": 10
          },
          "showarrow": false,
          "text": "Impulsive",
          "x": -0.8315814733505249,
          "xref": "x",
          "y": 1.9,
          "yref": "y"
         },
         {
          "bgcolor": "rgba(255, 255, 255, 0.9)",
          "bordercolor": "black",
          "borderwidth": 1,
          "font": {
           "color": "black",
           "size": 10
          },
          "showarrow": false,
          "text": "Judgmental",
          "x": -0.8225852251052856,
          "xref": "x",
          "y": 0.15,
          "yref": "y"
         },
         {
          "bgcolor": "rgba(255, 255, 255, 0.9)",
          "bordercolor": "black",
          "borderwidth": 1,
          "font": {
           "color": "black",
           "size": 10
          },
          "showarrow": false,
          "text": "Petty",
          "x": -0.8221855163574219,
          "xref": "x",
          "y": 1.6,
          "yref": "y"
         },
         {
          "bgcolor": "rgba(255, 255, 255, 0.9)",
          "bordercolor": "black",
          "borderwidth": 1,
          "font": {
           "color": "black",
           "size": 10
          },
          "showarrow": false,
          "text": "Flippant",
          "x": -0.8182324767112732,
          "xref": "x",
          "y": 0.45,
          "yref": "y"
         },
         {
          "bgcolor": "rgba(255, 255, 255, 0.9)",
          "bordercolor": "black",
          "borderwidth": 1,
          "font": {
           "color": "black",
           "size": 10
          },
          "showarrow": false,
          "text": "Bitter",
          "x": -0.814406156539917,
          "xref": "x",
          "y": 1.3,
          "yref": "y"
         },
         {
          "bgcolor": "rgba(255, 255, 255, 0.9)",
          "bordercolor": "black",
          "borderwidth": 1,
          "font": {
           "color": "black",
           "size": 10
          },
          "showarrow": false,
          "text": "Reactive",
          "x": -0.8028703331947327,
          "xref": "x",
          "y": 0.75,
          "yref": "y"
         },
         {
          "bgcolor": "rgba(255, 255, 255, 0.9)",
          "bordercolor": "black",
          "borderwidth": 1,
          "font": {
           "color": "black",
           "size": 10
          },
          "showarrow": false,
          "text": "Irreverent",
          "x": -0.7957543730735779,
          "xref": "x",
          "y": 1.75,
          "yref": "y"
         },
         {
          "bgcolor": "rgba(255, 255, 255, 0.9)",
          "bordercolor": "black",
          "borderwidth": 1,
          "font": {
           "color": "black",
           "size": 10
          },
          "showarrow": false,
          "text": "Sarcastic",
          "x": -0.7924211025238037,
          "xref": "x",
          "y": 0.3,
          "yref": "y"
         },
         {
          "bgcolor": "rgba(255, 255, 255, 0.9)",
          "bordercolor": "black",
          "borderwidth": 1,
          "font": {
           "color": "black",
           "size": 10
          },
          "showarrow": false,
          "text": "Moderate",
          "x": 0.7466889023780823,
          "xref": "x",
          "y": 1.45,
          "yref": "y"
         },
         {
          "bgcolor": "rgba(255, 255, 255, 0.9)",
          "bordercolor": "black",
          "borderwidth": 1,
          "font": {
           "color": "black",
           "size": 10
          },
          "showarrow": false,
          "text": "Patient",
          "x": 0.7506963014602661,
          "xref": "x",
          "y": 0.6,
          "yref": "y"
         },
         {
          "bgcolor": "rgba(255, 255, 255, 0.9)",
          "bordercolor": "black",
          "borderwidth": 1,
          "font": {
           "color": "black",
           "size": 10
          },
          "showarrow": false,
          "text": "Supportive",
          "x": 0.7666904926300049,
          "xref": "x",
          "y": 1.9,
          "yref": "y"
         },
         {
          "bgcolor": "rgba(255, 255, 255, 0.9)",
          "bordercolor": "black",
          "borderwidth": 1,
          "font": {
           "color": "black",
           "size": 10
          },
          "showarrow": false,
          "text": "Benevolent",
          "x": 0.7682831287384033,
          "xref": "x",
          "y": 0.15,
          "yref": "y"
         },
         {
          "bgcolor": "rgba(255, 255, 255, 0.9)",
          "bordercolor": "black",
          "borderwidth": 1,
          "font": {
           "color": "black",
           "size": 10
          },
          "showarrow": false,
          "text": "Agreeable",
          "x": 0.7689147591590881,
          "xref": "x",
          "y": 1.6,
          "yref": "y"
         },
         {
          "bgcolor": "rgba(255, 255, 255, 0.9)",
          "bordercolor": "black",
          "borderwidth": 1,
          "font": {
           "color": "black",
           "size": 10
          },
          "showarrow": false,
          "text": "Conscientious",
          "x": 0.7759522199630737,
          "xref": "x",
          "y": 0.45,
          "yref": "y"
         },
         {
          "bgcolor": "rgba(255, 255, 255, 0.9)",
          "bordercolor": "black",
          "borderwidth": 1,
          "font": {
           "color": "black",
           "size": 10
          },
          "showarrow": false,
          "text": "Strategic",
          "x": 0.7812049984931946,
          "xref": "x",
          "y": 1.3,
          "yref": "y"
         },
         {
          "bgcolor": "rgba(255, 255, 255, 0.9)",
          "bordercolor": "black",
          "borderwidth": 1,
          "font": {
           "color": "black",
           "size": 10
          },
          "showarrow": false,
          "text": "Calm",
          "x": 0.7898889183998108,
          "xref": "x",
          "y": 0.75,
          "yref": "y"
         },
         {
          "bgcolor": "rgba(255, 255, 255, 0.9)",
          "bordercolor": "black",
          "borderwidth": 1,
          "font": {
           "color": "black",
           "size": 10
          },
          "showarrow": false,
          "text": "Conciliatory",
          "x": 0.795776903629303,
          "xref": "x",
          "y": 1.75,
          "yref": "y"
         },
         {
          "bgcolor": "rgba(255, 255, 255, 0.9)",
          "bordercolor": "black",
          "borderwidth": 1,
          "font": {
           "color": "black",
           "size": 10
          },
          "showarrow": false,
          "text": "Diplomatic",
          "x": 0.8751256465911865,
          "xref": "x",
          "y": 0.3,
          "yref": "y"
         },
         {
          "bgcolor": "rgba(255, 255, 255, 0.9)",
          "bordercolor": "red",
          "borderwidth": 1,
          "font": {
           "color": "red",
           "size": 14
          },
          "showarrow": false,
          "text": "Assistant",
          "x": 0.5784309506416321,
          "xref": "x",
          "y": 2,
          "yref": "y"
         },
         {
          "bgcolor": "rgba(255, 255, 255, 0.9)",
          "bordercolor": "black",
          "borderwidth": 1,
          "font": {
           "color": "black",
           "size": 10
          },
          "showarrow": false,
          "text": "Edgy",
          "x": -0.8556413650512695,
          "xref": "x2",
          "y": 1.45,
          "yref": "y2"
         },
         {
          "bgcolor": "rgba(255, 255, 255, 0.9)",
          "bordercolor": "black",
          "borderwidth": 1,
          "font": {
           "color": "black",
           "size": 10
          },
          "showarrow": false,
          "text": "Bitter",
          "x": -0.8058272004127502,
          "xref": "x2",
          "y": 0.6,
          "yref": "y2"
         },
         {
          "bgcolor": "rgba(255, 255, 255, 0.9)",
          "bordercolor": "black",
          "borderwidth": 1,
          "font": {
           "color": "black",
           "size": 10
          },
          "showarrow": false,
          "text": "Petty",
          "x": -0.8049905896186829,
          "xref": "x2",
          "y": 1.9,
          "yref": "y2"
         },
         {
          "bgcolor": "rgba(255, 255, 255, 0.9)",
          "bordercolor": "black",
          "borderwidth": 1,
          "font": {
           "color": "black",
           "size": 10
          },
          "showarrow": false,
          "text": "Judgmental",
          "x": -0.7990410327911377,
          "xref": "x2",
          "y": 0.15,
          "yref": "y2"
         },
         {
          "bgcolor": "rgba(255, 255, 255, 0.9)",
          "bordercolor": "black",
          "borderwidth": 1,
          "font": {
           "color": "black",
           "size": 10
          },
          "showarrow": false,
          "text": "Visceral",
          "x": -0.7950220704078674,
          "xref": "x2",
          "y": 1.6,
          "yref": "y2"
         },
         {
          "bgcolor": "rgba(255, 255, 255, 0.9)",
          "bordercolor": "black",
          "borderwidth": 1,
          "font": {
           "color": "black",
           "size": 10
          },
          "showarrow": false,
          "text": "Flippant",
          "x": -0.7937391400337219,
          "xref": "x2",
          "y": 0.45,
          "yref": "y2"
         },
         {
          "bgcolor": "rgba(255, 255, 255, 0.9)",
          "bordercolor": "black",
          "borderwidth": 1,
          "font": {
           "color": "black",
           "size": 10
          },
          "showarrow": false,
          "text": "Sarcastic",
          "x": -0.7886016964912415,
          "xref": "x2",
          "y": 1.3,
          "yref": "y2"
         },
         {
          "bgcolor": "rgba(255, 255, 255, 0.9)",
          "bordercolor": "black",
          "borderwidth": 1,
          "font": {
           "color": "black",
           "size": 10
          },
          "showarrow": false,
          "text": "Irreverent",
          "x": -0.775534987449646,
          "xref": "x2",
          "y": 0.75,
          "yref": "y2"
         },
         {
          "bgcolor": "rgba(255, 255, 255, 0.9)",
          "bordercolor": "black",
          "borderwidth": 1,
          "font": {
           "color": "black",
           "size": 10
          },
          "showarrow": false,
          "text": "Mercurial",
          "x": -0.7708812952041626,
          "xref": "x2",
          "y": 1.75,
          "yref": "y2"
         },
         {
          "bgcolor": "rgba(255, 255, 255, 0.9)",
          "bordercolor": "black",
          "borderwidth": 1,
          "font": {
           "color": "black",
           "size": 10
          },
          "showarrow": false,
          "text": "Impulsive",
          "x": -0.7696743011474609,
          "xref": "x2",
          "y": 0.3,
          "yref": "y2"
         },
         {
          "bgcolor": "rgba(255, 255, 255, 0.9)",
          "bordercolor": "black",
          "borderwidth": 1,
          "font": {
           "color": "black",
           "size": 10
          },
          "showarrow": false,
          "text": "Patient",
          "x": 0.7702327370643616,
          "xref": "x2",
          "y": 1.45,
          "yref": "y2"
         },
         {
          "bgcolor": "rgba(255, 255, 255, 0.9)",
          "bordercolor": "black",
          "borderwidth": 1,
          "font": {
           "color": "black",
           "size": 10
          },
          "showarrow": false,
          "text": "Calm",
          "x": 0.770548403263092,
          "xref": "x2",
          "y": 0.6,
          "yref": "y2"
         },
         {
          "bgcolor": "rgba(255, 255, 255, 0.9)",
          "bordercolor": "black",
          "borderwidth": 1,
          "font": {
           "color": "black",
           "size": 10
          },
          "showarrow": false,
          "text": "Agreeable",
          "x": 0.7759961485862732,
          "xref": "x2",
          "y": 1.9,
          "yref": "y2"
         },
         {
          "bgcolor": "rgba(255, 255, 255, 0.9)",
          "bordercolor": "black",
          "borderwidth": 1,
          "font": {
           "color": "black",
           "size": 10
          },
          "showarrow": false,
          "text": "Conciliatory",
          "x": 0.7830922603607178,
          "xref": "x2",
          "y": 0.15,
          "yref": "y2"
         },
         {
          "bgcolor": "rgba(255, 255, 255, 0.9)",
          "bordercolor": "black",
          "borderwidth": 1,
          "font": {
           "color": "black",
           "size": 10
          },
          "showarrow": false,
          "text": "Benevolent",
          "x": 0.783924400806427,
          "xref": "x2",
          "y": 1.6,
          "yref": "y2"
         },
         {
          "bgcolor": "rgba(255, 255, 255, 0.9)",
          "bordercolor": "black",
          "borderwidth": 1,
          "font": {
           "color": "black",
           "size": 10
          },
          "showarrow": false,
          "text": "Calculating",
          "x": 0.7954472899436951,
          "xref": "x2",
          "y": 0.45,
          "yref": "y2"
         },
         {
          "bgcolor": "rgba(255, 255, 255, 0.9)",
          "bordercolor": "black",
          "borderwidth": 1,
          "font": {
           "color": "black",
           "size": 10
          },
          "showarrow": false,
          "text": "Supportive",
          "x": 0.8048459887504578,
          "xref": "x2",
          "y": 1.3,
          "yref": "y2"
         },
         {
          "bgcolor": "rgba(255, 255, 255, 0.9)",
          "bordercolor": "black",
          "borderwidth": 1,
          "font": {
           "color": "black",
           "size": 10
          },
          "showarrow": false,
          "text": "Conscientious",
          "x": 0.8062964677810669,
          "xref": "x2",
          "y": 0.75,
          "yref": "y2"
         },
         {
          "bgcolor": "rgba(255, 255, 255, 0.9)",
          "bordercolor": "black",
          "borderwidth": 1,
          "font": {
           "color": "black",
           "size": 10
          },
          "showarrow": false,
          "text": "Strategic",
          "x": 0.839154064655304,
          "xref": "x2",
          "y": 1.75,
          "yref": "y2"
         },
         {
          "bgcolor": "rgba(255, 255, 255, 0.9)",
          "bordercolor": "black",
          "borderwidth": 1,
          "font": {
           "color": "black",
           "size": 10
          },
          "showarrow": false,
          "text": "Diplomatic",
          "x": 0.8543459177017212,
          "xref": "x2",
          "y": 0.3,
          "yref": "y2"
         },
         {
          "bgcolor": "rgba(255, 255, 255, 0.9)",
          "bordercolor": "red",
          "borderwidth": 1,
          "font": {
           "color": "red",
           "size": 14
          },
          "showarrow": false,
          "text": "Assistant",
          "x": 0.5976783633232117,
          "xref": "x2",
          "y": 2,
          "yref": "y2"
         }
        ],
        "height": 800,
        "shapes": [
         {
          "line": {
           "color": "gray",
           "dash": "solid",
           "width": 1
          },
          "opacity": 0.7,
          "type": "line",
          "x0": 0,
          "x1": 0,
          "xref": "x",
          "y0": 0,
          "y1": 1,
          "yref": "y domain"
         },
         {
          "line": {
           "color": "red",
           "dash": "dash",
           "width": 1
          },
          "opacity": 1,
          "type": "line",
          "x0": 0.5784309506416321,
          "x1": 0.5784309506416321,
          "xref": "x",
          "y0": 0,
          "y1": 1,
          "yref": "y domain"
         },
         {
          "line": {
           "color": "gray",
           "dash": "solid",
           "width": 1
          },
          "opacity": 0.7,
          "type": "line",
          "x0": 0,
          "x1": 0,
          "xref": "x2",
          "y0": 0,
          "y1": 1,
          "yref": "y2 domain"
         },
         {
          "line": {
           "color": "red",
           "dash": "dash",
           "width": 1
          },
          "opacity": 1,
          "type": "line",
          "x0": 0.5976783633232117,
          "x1": 0.5976783633232117,
          "xref": "x2",
          "y0": 0,
          "y1": 1,
          "yref": "y2 domain"
         }
        ],
        "showlegend": false,
        "template": {
         "data": {
          "bar": [
           {
            "error_x": {
             "color": "#2a3f5f"
            },
            "error_y": {
             "color": "#2a3f5f"
            },
            "marker": {
             "line": {
              "color": "#E5ECF6",
              "width": 0.5
             },
             "pattern": {
              "fillmode": "overlay",
              "size": 10,
              "solidity": 0.2
             }
            },
            "type": "bar"
           }
          ],
          "barpolar": [
           {
            "marker": {
             "line": {
              "color": "#E5ECF6",
              "width": 0.5
             },
             "pattern": {
              "fillmode": "overlay",
              "size": 10,
              "solidity": 0.2
             }
            },
            "type": "barpolar"
           }
          ],
          "carpet": [
           {
            "aaxis": {
             "endlinecolor": "#2a3f5f",
             "gridcolor": "white",
             "linecolor": "white",
             "minorgridcolor": "white",
             "startlinecolor": "#2a3f5f"
            },
            "baxis": {
             "endlinecolor": "#2a3f5f",
             "gridcolor": "white",
             "linecolor": "white",
             "minorgridcolor": "white",
             "startlinecolor": "#2a3f5f"
            },
            "type": "carpet"
           }
          ],
          "choropleth": [
           {
            "colorbar": {
             "outlinewidth": 0,
             "ticks": ""
            },
            "type": "choropleth"
           }
          ],
          "contour": [
           {
            "colorbar": {
             "outlinewidth": 0,
             "ticks": ""
            },
            "colorscale": [
             [
              0,
              "#0d0887"
             ],
             [
              0.1111111111111111,
              "#46039f"
             ],
             [
              0.2222222222222222,
              "#7201a8"
             ],
             [
              0.3333333333333333,
              "#9c179e"
             ],
             [
              0.4444444444444444,
              "#bd3786"
             ],
             [
              0.5555555555555556,
              "#d8576b"
             ],
             [
              0.6666666666666666,
              "#ed7953"
             ],
             [
              0.7777777777777778,
              "#fb9f3a"
             ],
             [
              0.8888888888888888,
              "#fdca26"
             ],
             [
              1,
              "#f0f921"
             ]
            ],
            "type": "contour"
           }
          ],
          "contourcarpet": [
           {
            "colorbar": {
             "outlinewidth": 0,
             "ticks": ""
            },
            "type": "contourcarpet"
           }
          ],
          "heatmap": [
           {
            "colorbar": {
             "outlinewidth": 0,
             "ticks": ""
            },
            "colorscale": [
             [
              0,
              "#0d0887"
             ],
             [
              0.1111111111111111,
              "#46039f"
             ],
             [
              0.2222222222222222,
              "#7201a8"
             ],
             [
              0.3333333333333333,
              "#9c179e"
             ],
             [
              0.4444444444444444,
              "#bd3786"
             ],
             [
              0.5555555555555556,
              "#d8576b"
             ],
             [
              0.6666666666666666,
              "#ed7953"
             ],
             [
              0.7777777777777778,
              "#fb9f3a"
             ],
             [
              0.8888888888888888,
              "#fdca26"
             ],
             [
              1,
              "#f0f921"
             ]
            ],
            "type": "heatmap"
           }
          ],
          "heatmapgl": [
           {
            "colorbar": {
             "outlinewidth": 0,
             "ticks": ""
            },
            "colorscale": [
             [
              0,
              "#0d0887"
             ],
             [
              0.1111111111111111,
              "#46039f"
             ],
             [
              0.2222222222222222,
              "#7201a8"
             ],
             [
              0.3333333333333333,
              "#9c179e"
             ],
             [
              0.4444444444444444,
              "#bd3786"
             ],
             [
              0.5555555555555556,
              "#d8576b"
             ],
             [
              0.6666666666666666,
              "#ed7953"
             ],
             [
              0.7777777777777778,
              "#fb9f3a"
             ],
             [
              0.8888888888888888,
              "#fdca26"
             ],
             [
              1,
              "#f0f921"
             ]
            ],
            "type": "heatmapgl"
           }
          ],
          "histogram": [
           {
            "marker": {
             "pattern": {
              "fillmode": "overlay",
              "size": 10,
              "solidity": 0.2
             }
            },
            "type": "histogram"
           }
          ],
          "histogram2d": [
           {
            "colorbar": {
             "outlinewidth": 0,
             "ticks": ""
            },
            "colorscale": [
             [
              0,
              "#0d0887"
             ],
             [
              0.1111111111111111,
              "#46039f"
             ],
             [
              0.2222222222222222,
              "#7201a8"
             ],
             [
              0.3333333333333333,
              "#9c179e"
             ],
             [
              0.4444444444444444,
              "#bd3786"
             ],
             [
              0.5555555555555556,
              "#d8576b"
             ],
             [
              0.6666666666666666,
              "#ed7953"
             ],
             [
              0.7777777777777778,
              "#fb9f3a"
             ],
             [
              0.8888888888888888,
              "#fdca26"
             ],
             [
              1,
              "#f0f921"
             ]
            ],
            "type": "histogram2d"
           }
          ],
          "histogram2dcontour": [
           {
            "colorbar": {
             "outlinewidth": 0,
             "ticks": ""
            },
            "colorscale": [
             [
              0,
              "#0d0887"
             ],
             [
              0.1111111111111111,
              "#46039f"
             ],
             [
              0.2222222222222222,
              "#7201a8"
             ],
             [
              0.3333333333333333,
              "#9c179e"
             ],
             [
              0.4444444444444444,
              "#bd3786"
             ],
             [
              0.5555555555555556,
              "#d8576b"
             ],
             [
              0.6666666666666666,
              "#ed7953"
             ],
             [
              0.7777777777777778,
              "#fb9f3a"
             ],
             [
              0.8888888888888888,
              "#fdca26"
             ],
             [
              1,
              "#f0f921"
             ]
            ],
            "type": "histogram2dcontour"
           }
          ],
          "mesh3d": [
           {
            "colorbar": {
             "outlinewidth": 0,
             "ticks": ""
            },
            "type": "mesh3d"
           }
          ],
          "parcoords": [
           {
            "line": {
             "colorbar": {
              "outlinewidth": 0,
              "ticks": ""
             }
            },
            "type": "parcoords"
           }
          ],
          "pie": [
           {
            "automargin": true,
            "type": "pie"
           }
          ],
          "scatter": [
           {
            "fillpattern": {
             "fillmode": "overlay",
             "size": 10,
             "solidity": 0.2
            },
            "type": "scatter"
           }
          ],
          "scatter3d": [
           {
            "line": {
             "colorbar": {
              "outlinewidth": 0,
              "ticks": ""
             }
            },
            "marker": {
             "colorbar": {
              "outlinewidth": 0,
              "ticks": ""
             }
            },
            "type": "scatter3d"
           }
          ],
          "scattercarpet": [
           {
            "marker": {
             "colorbar": {
              "outlinewidth": 0,
              "ticks": ""
             }
            },
            "type": "scattercarpet"
           }
          ],
          "scattergeo": [
           {
            "marker": {
             "colorbar": {
              "outlinewidth": 0,
              "ticks": ""
             }
            },
            "type": "scattergeo"
           }
          ],
          "scattergl": [
           {
            "marker": {
             "colorbar": {
              "outlinewidth": 0,
              "ticks": ""
             }
            },
            "type": "scattergl"
           }
          ],
          "scattermapbox": [
           {
            "marker": {
             "colorbar": {
              "outlinewidth": 0,
              "ticks": ""
             }
            },
            "type": "scattermapbox"
           }
          ],
          "scatterpolar": [
           {
            "marker": {
             "colorbar": {
              "outlinewidth": 0,
              "ticks": ""
             }
            },
            "type": "scatterpolar"
           }
          ],
          "scatterpolargl": [
           {
            "marker": {
             "colorbar": {
              "outlinewidth": 0,
              "ticks": ""
             }
            },
            "type": "scatterpolargl"
           }
          ],
          "scatterternary": [
           {
            "marker": {
             "colorbar": {
              "outlinewidth": 0,
              "ticks": ""
             }
            },
            "type": "scatterternary"
           }
          ],
          "surface": [
           {
            "colorbar": {
             "outlinewidth": 0,
             "ticks": ""
            },
            "colorscale": [
             [
              0,
              "#0d0887"
             ],
             [
              0.1111111111111111,
              "#46039f"
             ],
             [
              0.2222222222222222,
              "#7201a8"
             ],
             [
              0.3333333333333333,
              "#9c179e"
             ],
             [
              0.4444444444444444,
              "#bd3786"
             ],
             [
              0.5555555555555556,
              "#d8576b"
             ],
             [
              0.6666666666666666,
              "#ed7953"
             ],
             [
              0.7777777777777778,
              "#fb9f3a"
             ],
             [
              0.8888888888888888,
              "#fdca26"
             ],
             [
              1,
              "#f0f921"
             ]
            ],
            "type": "surface"
           }
          ],
          "table": [
           {
            "cells": {
             "fill": {
              "color": "#EBF0F8"
             },
             "line": {
              "color": "white"
             }
            },
            "header": {
             "fill": {
              "color": "#C8D4E3"
             },
             "line": {
              "color": "white"
             }
            },
            "type": "table"
           }
          ]
         },
         "layout": {
          "annotationdefaults": {
           "arrowcolor": "#2a3f5f",
           "arrowhead": 0,
           "arrowwidth": 1
          },
          "autotypenumbers": "strict",
          "coloraxis": {
           "colorbar": {
            "outlinewidth": 0,
            "ticks": ""
           }
          },
          "colorscale": {
           "diverging": [
            [
             0,
             "#8e0152"
            ],
            [
             0.1,
             "#c51b7d"
            ],
            [
             0.2,
             "#de77ae"
            ],
            [
             0.3,
             "#f1b6da"
            ],
            [
             0.4,
             "#fde0ef"
            ],
            [
             0.5,
             "#f7f7f7"
            ],
            [
             0.6,
             "#e6f5d0"
            ],
            [
             0.7,
             "#b8e186"
            ],
            [
             0.8,
             "#7fbc41"
            ],
            [
             0.9,
             "#4d9221"
            ],
            [
             1,
             "#276419"
            ]
           ],
           "sequential": [
            [
             0,
             "#0d0887"
            ],
            [
             0.1111111111111111,
             "#46039f"
            ],
            [
             0.2222222222222222,
             "#7201a8"
            ],
            [
             0.3333333333333333,
             "#9c179e"
            ],
            [
             0.4444444444444444,
             "#bd3786"
            ],
            [
             0.5555555555555556,
             "#d8576b"
            ],
            [
             0.6666666666666666,
             "#ed7953"
            ],
            [
             0.7777777777777778,
             "#fb9f3a"
            ],
            [
             0.8888888888888888,
             "#fdca26"
            ],
            [
             1,
             "#f0f921"
            ]
           ],
           "sequentialminus": [
            [
             0,
             "#0d0887"
            ],
            [
             0.1111111111111111,
             "#46039f"
            ],
            [
             0.2222222222222222,
             "#7201a8"
            ],
            [
             0.3333333333333333,
             "#9c179e"
            ],
            [
             0.4444444444444444,
             "#bd3786"
            ],
            [
             0.5555555555555556,
             "#d8576b"
            ],
            [
             0.6666666666666666,
             "#ed7953"
            ],
            [
             0.7777777777777778,
             "#fb9f3a"
            ],
            [
             0.8888888888888888,
             "#fdca26"
            ],
            [
             1,
             "#f0f921"
            ]
           ]
          },
          "colorway": [
           "#636efa",
           "#EF553B",
           "#00cc96",
           "#ab63fa",
           "#FFA15A",
           "#19d3f3",
           "#FF6692",
           "#B6E880",
           "#FF97FF",
           "#FECB52"
          ],
          "font": {
           "color": "#2a3f5f"
          },
          "geo": {
           "bgcolor": "white",
           "lakecolor": "white",
           "landcolor": "#E5ECF6",
           "showlakes": true,
           "showland": true,
           "subunitcolor": "white"
          },
          "hoverlabel": {
           "align": "left"
          },
          "hovermode": "closest",
          "mapbox": {
           "style": "light"
          },
          "paper_bgcolor": "white",
          "plot_bgcolor": "#E5ECF6",
          "polar": {
           "angularaxis": {
            "gridcolor": "white",
            "linecolor": "white",
            "ticks": ""
           },
           "bgcolor": "#E5ECF6",
           "radialaxis": {
            "gridcolor": "white",
            "linecolor": "white",
            "ticks": ""
           }
          },
          "scene": {
           "xaxis": {
            "backgroundcolor": "#E5ECF6",
            "gridcolor": "white",
            "gridwidth": 2,
            "linecolor": "white",
            "showbackground": true,
            "ticks": "",
            "zerolinecolor": "white"
           },
           "yaxis": {
            "backgroundcolor": "#E5ECF6",
            "gridcolor": "white",
            "gridwidth": 2,
            "linecolor": "white",
            "showbackground": true,
            "ticks": "",
            "zerolinecolor": "white"
           },
           "zaxis": {
            "backgroundcolor": "#E5ECF6",
            "gridcolor": "white",
            "gridwidth": 2,
            "linecolor": "white",
            "showbackground": true,
            "ticks": "",
            "zerolinecolor": "white"
           }
          },
          "shapedefaults": {
           "line": {
            "color": "#2a3f5f"
           }
          },
          "ternary": {
           "aaxis": {
            "gridcolor": "white",
            "linecolor": "white",
            "ticks": ""
           },
           "baxis": {
            "gridcolor": "white",
            "linecolor": "white",
            "ticks": ""
           },
           "bgcolor": "#E5ECF6",
           "caxis": {
            "gridcolor": "white",
            "linecolor": "white",
            "ticks": ""
           }
          },
          "title": {
           "x": 0.05
          },
          "xaxis": {
           "automargin": true,
           "gridcolor": "white",
           "linecolor": "white",
           "ticks": "",
           "title": {
            "standoff": 15
           },
           "zerolinecolor": "white",
           "zerolinewidth": 2
          },
          "yaxis": {
           "automargin": true,
           "gridcolor": "white",
           "linecolor": "white",
           "ticks": "",
           "title": {
            "standoff": 15
           },
           "zerolinecolor": "white",
           "zerolinewidth": 2
          }
         }
        },
        "title": {
         "font": {
          "size": 16
         },
         "subtitle": {
          "text": "Llama 3.3 70B, Layer 40 - Mean-Centered and L2 Normalized Vectors"
         },
         "text": "PCA on Trait Vectors",
         "x": 0.5
        },
        "width": 1000,
        "xaxis": {
         "anchor": "y",
         "domain": [
          0,
          1
         ],
         "range": [
          -1.1,
          1.1
         ]
        },
        "xaxis2": {
         "anchor": "y2",
         "domain": [
          0,
          1
         ],
         "range": [
          -1.1,
          1.1
         ]
        },
        "yaxis": {
         "anchor": "x",
         "domain": [
          0.55,
          1
         ],
         "range": [
          0,
          2.5
         ],
         "showticklabels": false
        },
        "yaxis2": {
         "anchor": "x2",
         "domain": [
          0,
          0.45
         ],
         "range": [
          0,
          2.5
         ],
         "showticklabels": false
        }
       }
      },
      "text/html": [
       "<div>                            <div id=\"7d4d60b6-9a13-4fe7-a4e5-663675ad486d\" class=\"plotly-graph-div\" style=\"height:800px; width:1000px;\"></div>            <script type=\"text/javascript\">                require([\"plotly\"], function(Plotly) {                    window.PLOTLYENV=window.PLOTLYENV || {};                                    if (document.getElementById(\"7d4d60b6-9a13-4fe7-a4e5-663675ad486d\")) {                    Plotly.newPlot(                        \"7d4d60b6-9a13-4fe7-a4e5-663675ad486d\",                        [{\"hovertemplate\":\"\\u003cb\\u003e%{text}\\u003c\\u002fb\\u003e\\u003cbr\\u003eCosine Similarity: %{x:.3f}\\u003cextra\\u003e\\u003c\\u002fextra\\u003e\",\"marker\":{\"color\":\"limegreen\",\"line\":{\"color\":\"black\",\"width\":1},\"opacity\":1.0,\"size\":8,\"symbol\":\"diamond\"},\"mode\":\"markers\",\"showlegend\":false,\"text\":[\"Zealous\",\"Wry\",\"Witty\",\"Whimsical\",\"Vindictive\",\"Verbose\",\"Utilitarian\",\"Urgent\",\"Universalist\",\"Understated\",\"Transparent\",\"Traditional\",\"Theoretical\",\"Theatrical\",\"Temperamental\",\"Technical\",\"Tactful\",\"Systems Thinker\",\"Sycophantic\",\"Subversive\",\"Submissive\",\"Structuralist\",\"Stream Of Consciousness\",\"Stoic\",\"Spontaneous\",\"Spiritual\",\"Speculative\",\"Specialized\",\"Solemn\",\"Socratic\",\"Skeptical\",\"Serious\",\"Serene\",\"Secular\",\"Savage\",\"Sassy\",\"Sardonic\",\"Romantic\",\"Ritualistic\",\"Risk Taking\",\"Rhetorical\",\"Reverent\",\"Resilient\",\"Reserved\",\"Relativist\",\"Regulatory\",\"Reductionist\",\"Rebellious\",\"Rationalist\",\"Radical\",\"Quantitative\",\"Qualitative\",\"Provocative\",\"Progressive\",\"Problem Solving\",\"Proactive\",\"Principled\",\"Prescriptive\",\"Practical\",\"Poetic\",\"Pluralist\",\"Playful\",\"Philosophical\",\"Pessimistic\",\"Perfectionist\",\"Pensive\",\"Pedantic\",\"Passive Aggressive\",\"Passionate\",\"Paranoid\",\"Paradoxical\",\"Pacifist\",\"Optimistic\",\"Open Ended\",\"Obsessive\",\"Nurturing\",\"Nostalgic\",\"Nonchalant\",\"Nihilistic\",\"Neurotic\",\"Narrative\",\"Naive\",\"Mystical\",\"Mischievous\",\"Misanthropic\",\"Militant\",\"Meticulous\",\"Methodical\",\"Metaphorical\",\"Mercurial\",\"Melodramatic\",\"Melancholic\",\"Meditative\",\"Materialist\",\"Manipulative\",\"Manic\",\"Literal\",\"Libertarian\",\"Ironic\",\"Intuitive\",\"Introverted\",\"Introspective\",\"Interdisciplinary\",\"Inspirational\",\"Inquisitive\",\"Innovative\",\"Individualistic\",\"Independent\",\"Inclusive\",\"Improvisational\",\"Impatient\",\"Idealistic\",\"Iconoclastic\",\"Humble\",\"Humanistic\",\"Hostile\",\"Holistic\",\"Historical\",\"Hedonistic\",\"Grounded\",\"Gregarious\",\"Grandiose\",\"Goofy\",\"Generous\",\"Generalist\",\"Futuristic\",\"Fundamentalist\",\"Formalist\",\"Formal\",\"Forgiving\",\"Flirty\",\"Flexible\",\"Fatalistic\",\"Factual\",\"Extroverted\",\"Exploratory\",\"Experiential\",\"Existentialist\",\"Evil\",\"Ethereal\",\"Essentialist\",\"Esoteric\",\"Erudite\",\"Epicurean\",\"Environmental\",\"Entertaining\",\"Enigmatic\",\"Empathetic\",\"Emotional\",\"Eloquent\",\"Elitist\",\"Egalitarian\",\"Effusive\",\"Efficient\",\"Educational\",\"Eclectic\",\"Earnest\",\"Dramatic\",\"Dominant\",\"Dogmatic\",\"Divergent\",\"Dispassionate\",\"Disorganized\",\"Deterministic\",\"Detached\",\"Descriptive\",\"Deontological\",\"Deferential\",\"Deconstructionist\",\"Decisive\",\"Data Driven\",\"Cynical\",\"Curious\",\"Cryptic\",\"Cruel\",\"Critical\",\"Creative\",\"Cosmopolitan\",\"Convergent\",\"Contrarian\",\"Contemporary\",\"Constructivist\",\"Confrontational\",\"Confident\",\"Condescending\",\"Concise\",\"Conceptual\",\"Competitive\",\"Collectivistic\",\"Collaborative\",\"Closure Seeking\",\"Circumspect\",\"Chill\",\"Charismatic\",\"Chaotic\",\"Challenging\",\"Cautious\",\"Casual\",\"Callous\",\"Calculating\",\"Bombastic\",\"Blunt\",\"Big Picture\",\"Avoidant\",\"Assertive\",\"Ascetic\",\"Artistic\",\"Arrogant\",\"Anxious\",\"Anthropocentric\",\"Animated\",\"Analytical\",\"Altruistic\",\"Adventurous\",\"Adaptable\",\"Acerbic\",\"Accommodating\",\"Accessible\",\"Abstract\",\"Absolutist\"],\"x\":[-0.36745715141296387,-0.6785854697227478,-0.29425081610679626,-0.40131044387817383,-0.44797611236572266,0.2506359815597534,0.17037326097488403,-0.1945319026708603,-0.16002002358436584,-0.33481013774871826,0.5067787170410156,0.06364916265010834,0.07482145726680756,-0.13059377670288086,-0.7096030712127686,0.30182576179504395,0.7089130878448486,0.5259295105934143,-0.4840776026248932,-0.522222101688385,-0.52156001329422,0.6259776949882507,-0.5681767463684082,0.5008003115653992,-0.5577535629272461,-0.049266666173934937,-0.04709399491548538,0.295095294713974,0.6355443596839905,-0.37152406573295593,0.126386359333992,0.6043717861175537,0.5322099924087524,0.07844988256692886,-0.7654747366905212,-0.49174433946609497,-0.7702961564064026,-0.2928811311721802,0.410051167011261,-0.30153799057006836,-0.21210168302059174,0.44610342383384705,0.7328730821609497,0.4358924329280853,-0.30842459201812744,0.08276136964559555,-0.02356399968266487,-0.2305610179901123,0.3012116551399231,-0.2918580174446106,0.0735742524266243,0.041119832545518875,-0.3756563067436218,0.15007074177265167,0.4731249213218689,0.604889988899231,0.34746474027633667,0.11823835968971252,-0.04161756485700607,-0.06320984661579132,0.4907419979572296,-0.5027876496315002,0.017444755882024765,-0.5892247557640076,0.6107124090194702,0.5081757307052612,0.019501324743032455,-0.7156950235366821,-0.3136835992336273,-0.632099449634552,-0.24670861661434174,0.03705194592475891,0.5346567630767822,-0.025747129693627357,-0.5980849266052246,0.6868290305137634,-0.4524300694465637,-0.6844595670700073,-0.5476915836334229,-0.6898947954177856,-0.46049851179122925,-0.37714552879333496,-0.20598159730434418,-0.6751070618629456,-0.7137073874473572,-0.6570566892623901,0.6777520179748535,0.7438246011734009,-0.11444547772407532,-0.7542591691017151,-0.3118777871131897,-0.5183834433555603,0.38611626625061035,-0.26354509592056274,-0.7826661467552185,-0.5855375528335571,-0.4294067919254303,-0.39256858825683594,-0.7440034747123718,0.1941852569580078,0.40871575474739075,0.07928642630577087,0.2858685553073883,0.702485978603363,-0.13207146525382996,-0.12072540074586868,-0.3378223180770874,0.40714094042778015,0.5439456701278687,-0.5447225570678711,-0.7286365032196045,0.0896696224808693,-0.543775200843811,0.16649562120437622,0.28395339846611023,-0.7568773031234741,0.5682902336120605,-0.2600943148136139,-0.6393788456916809,0.05327751114964485,0.042341459542512894,-0.2795978784561157,-0.6761586666107178,0.5789687037467957,0.4853026270866394,0.04521055147051811,-0.4901769459247589,0.39592245221138,0.627035915851593,0.46136218309402466,-0.5445106029510498,0.6789777874946594,-0.4428578019142151,0.7036035656929016,0.034022100269794464,0.3968641757965088,-0.1261860430240631,0.04527554288506508,-0.7719975113868713,-0.17944560945034027,-0.250162273645401,-0.09415729343891144,0.3526160418987274,0.1526005119085312,0.17931470274925232,-0.4447910189628601,-0.3746102452278137,-0.018253939226269722,-0.18710589408874512,0.24832576513290405,-0.44007933139801025,0.3920087516307831,-0.3623129427433014,-0.36223864555358887,0.6820500493049622,0.09586045891046524,0.7272012829780579,-0.2433457374572754,0.06353035569190979,-0.6949954032897949,0.38143637776374817,0.3828750252723694,-0.7013998031616211,-0.40110278129577637,0.22794556617736816,0.2620159685611725,-0.0312099177390337,-0.04819043353199959,-0.10827456414699554,0.1770092397928238,0.13130711019039154,-0.6365839242935181,0.4781351685523987,-0.21980512142181396,-0.7593594193458557,-0.16973833739757538,-0.03653504326939583,0.5986245274543762,-0.21125879883766174,-0.392848938703537,0.1012137308716774,0.055727098137140274,-0.36914944648742676,-0.19486859440803528,-0.6106138229370117,-0.2800019681453705,0.0990692675113678,-0.5952430963516235,0.2980719804763794,0.2782476544380188,0.01625528559088707,0.3352806270122528,0.3500641882419586,0.25781965255737305,-0.24251843988895416,-0.16303102672100067,0.14979565143585205,-0.5816442370414734,-0.6920599937438965,0.7111077308654785,-0.11955565214157104,-0.3613494038581848,0.354060560464859,-0.5025712847709656,-0.264972448348999,0.08939441293478012,-0.10145072638988495,-0.5976136326789856,-0.5690815448760986,-0.3163261413574219,0.06059325113892555,0.6351295113563538,0.5748171210289001,-0.13326327502727509,0.4963245391845703,-0.7621354460716248,-0.43650922179222107,0.05102944374084473,0.16490037739276886,-0.27731218934059143],\"y\":[1,1,1,1,1,1,1,1,1,1,1,1,1,1,1,1,1,1,1,1,1,1,1,1,1,1,1,1,1,1,1,1,1,1,1,1,1,1,1,1,1,1,1,1,1,1,1,1,1,1,1,1,1,1,1,1,1,1,1,1,1,1,1,1,1,1,1,1,1,1,1,1,1,1,1,1,1,1,1,1,1,1,1,1,1,1,1,1,1,1,1,1,1,1,1,1,1,1,1,1,1,1,1,1,1,1,1,1,1,1,1,1,1,1,1,1,1,1,1,1,1,1,1,1,1,1,1,1,1,1,1,1,1,1,1,1,1,1,1,1,1,1,1,1,1,1,1,1,1,1,1,1,1,1,1,1,1,1,1,1,1,1,1,1,1,1,1,1,1,1,1,1,1,1,1,1,1,1,1,1,1,1,1,1,1,1,1,1,1,1,1,1,1,1,1,1,1,1,1,1,1,1,1,1,1,1,1,1,1,1,1,1,1,1,1,1,1,1,1,1],\"type\":\"scatter\",\"xaxis\":\"x\",\"yaxis\":\"y\"},{\"hovertemplate\":\"\\u003cb\\u003e%{text}\\u003c\\u002fb\\u003e\\u003cbr\\u003eCosine Similarity: %{x:.3f}\\u003cextra\\u003e\\u003c\\u002fextra\\u003e\",\"marker\":{\"color\":\"limegreen\",\"line\":{\"color\":\"black\",\"width\":1},\"opacity\":1.0,\"size\":8,\"symbol\":\"diamond\"},\"mode\":\"markers\",\"showlegend\":false,\"text\":[\"Visceral\",\"Supportive\",\"Strategic\",\"Sarcastic\",\"Reactive\",\"Petty\",\"Patient\",\"Moderate\",\"Judgmental\",\"Irreverent\",\"Impulsive\",\"Flippant\",\"Edgy\",\"Diplomatic\",\"Conscientious\",\"Conciliatory\",\"Calm\",\"Bitter\",\"Benevolent\",\"Agreeable\"],\"x\":[-0.8458085060119629,0.7666904926300049,0.7812049984931946,-0.7924211025238037,-0.8028703331947327,-0.8221855163574219,0.7506963014602661,0.7466889023780823,-0.8225852251052856,-0.7957543730735779,-0.8315814733505249,-0.8182324767112732,-0.8316925764083862,0.8751256465911865,0.7759522199630737,0.795776903629303,0.7898889183998108,-0.814406156539917,0.7682831287384033,0.7689147591590881],\"y\":[1,1,1,1,1,1,1,1,1,1,1,1,1,1,1,1,1,1,1,1],\"type\":\"scatter\",\"xaxis\":\"x\",\"yaxis\":\"y\"},{\"hoverinfo\":\"skip\",\"line\":{\"color\":\"black\",\"width\":1},\"mode\":\"lines\",\"showlegend\":false,\"x\":[-0.8458085060119629,-0.8458085060119629],\"y\":[1.0,1.45],\"type\":\"scatter\",\"xaxis\":\"x\",\"yaxis\":\"y\"},{\"hoverinfo\":\"skip\",\"line\":{\"color\":\"black\",\"width\":1},\"mode\":\"lines\",\"showlegend\":false,\"x\":[-0.8316925764083862,-0.8316925764083862],\"y\":[1.0,0.6],\"type\":\"scatter\",\"xaxis\":\"x\",\"yaxis\":\"y\"},{\"hoverinfo\":\"skip\",\"line\":{\"color\":\"black\",\"width\":1},\"mode\":\"lines\",\"showlegend\":false,\"x\":[-0.8315814733505249,-0.8315814733505249],\"y\":[1.0,1.9],\"type\":\"scatter\",\"xaxis\":\"x\",\"yaxis\":\"y\"},{\"hoverinfo\":\"skip\",\"line\":{\"color\":\"black\",\"width\":1},\"mode\":\"lines\",\"showlegend\":false,\"x\":[-0.8225852251052856,-0.8225852251052856],\"y\":[1.0,0.15],\"type\":\"scatter\",\"xaxis\":\"x\",\"yaxis\":\"y\"},{\"hoverinfo\":\"skip\",\"line\":{\"color\":\"black\",\"width\":1},\"mode\":\"lines\",\"showlegend\":false,\"x\":[-0.8221855163574219,-0.8221855163574219],\"y\":[1.0,1.6],\"type\":\"scatter\",\"xaxis\":\"x\",\"yaxis\":\"y\"},{\"hoverinfo\":\"skip\",\"line\":{\"color\":\"black\",\"width\":1},\"mode\":\"lines\",\"showlegend\":false,\"x\":[-0.8182324767112732,-0.8182324767112732],\"y\":[1.0,0.45],\"type\":\"scatter\",\"xaxis\":\"x\",\"yaxis\":\"y\"},{\"hoverinfo\":\"skip\",\"line\":{\"color\":\"black\",\"width\":1},\"mode\":\"lines\",\"showlegend\":false,\"x\":[-0.814406156539917,-0.814406156539917],\"y\":[1.0,1.3],\"type\":\"scatter\",\"xaxis\":\"x\",\"yaxis\":\"y\"},{\"hoverinfo\":\"skip\",\"line\":{\"color\":\"black\",\"width\":1},\"mode\":\"lines\",\"showlegend\":false,\"x\":[-0.8028703331947327,-0.8028703331947327],\"y\":[1.0,0.75],\"type\":\"scatter\",\"xaxis\":\"x\",\"yaxis\":\"y\"},{\"hoverinfo\":\"skip\",\"line\":{\"color\":\"black\",\"width\":1},\"mode\":\"lines\",\"showlegend\":false,\"x\":[-0.7957543730735779,-0.7957543730735779],\"y\":[1.0,1.75],\"type\":\"scatter\",\"xaxis\":\"x\",\"yaxis\":\"y\"},{\"hoverinfo\":\"skip\",\"line\":{\"color\":\"black\",\"width\":1},\"mode\":\"lines\",\"showlegend\":false,\"x\":[-0.7924211025238037,-0.7924211025238037],\"y\":[1.0,0.3],\"type\":\"scatter\",\"xaxis\":\"x\",\"yaxis\":\"y\"},{\"hoverinfo\":\"skip\",\"line\":{\"color\":\"black\",\"width\":1},\"mode\":\"lines\",\"showlegend\":false,\"x\":[0.7466889023780823,0.7466889023780823],\"y\":[1.0,1.45],\"type\":\"scatter\",\"xaxis\":\"x\",\"yaxis\":\"y\"},{\"hoverinfo\":\"skip\",\"line\":{\"color\":\"black\",\"width\":1},\"mode\":\"lines\",\"showlegend\":false,\"x\":[0.7506963014602661,0.7506963014602661],\"y\":[1.0,0.6],\"type\":\"scatter\",\"xaxis\":\"x\",\"yaxis\":\"y\"},{\"hoverinfo\":\"skip\",\"line\":{\"color\":\"black\",\"width\":1},\"mode\":\"lines\",\"showlegend\":false,\"x\":[0.7666904926300049,0.7666904926300049],\"y\":[1.0,1.9],\"type\":\"scatter\",\"xaxis\":\"x\",\"yaxis\":\"y\"},{\"hoverinfo\":\"skip\",\"line\":{\"color\":\"black\",\"width\":1},\"mode\":\"lines\",\"showlegend\":false,\"x\":[0.7682831287384033,0.7682831287384033],\"y\":[1.0,0.15],\"type\":\"scatter\",\"xaxis\":\"x\",\"yaxis\":\"y\"},{\"hoverinfo\":\"skip\",\"line\":{\"color\":\"black\",\"width\":1},\"mode\":\"lines\",\"showlegend\":false,\"x\":[0.7689147591590881,0.7689147591590881],\"y\":[1.0,1.6],\"type\":\"scatter\",\"xaxis\":\"x\",\"yaxis\":\"y\"},{\"hoverinfo\":\"skip\",\"line\":{\"color\":\"black\",\"width\":1},\"mode\":\"lines\",\"showlegend\":false,\"x\":[0.7759522199630737,0.7759522199630737],\"y\":[1.0,0.45],\"type\":\"scatter\",\"xaxis\":\"x\",\"yaxis\":\"y\"},{\"hoverinfo\":\"skip\",\"line\":{\"color\":\"black\",\"width\":1},\"mode\":\"lines\",\"showlegend\":false,\"x\":[0.7812049984931946,0.7812049984931946],\"y\":[1.0,1.3],\"type\":\"scatter\",\"xaxis\":\"x\",\"yaxis\":\"y\"},{\"hoverinfo\":\"skip\",\"line\":{\"color\":\"black\",\"width\":1},\"mode\":\"lines\",\"showlegend\":false,\"x\":[0.7898889183998108,0.7898889183998108],\"y\":[1.0,0.75],\"type\":\"scatter\",\"xaxis\":\"x\",\"yaxis\":\"y\"},{\"hoverinfo\":\"skip\",\"line\":{\"color\":\"black\",\"width\":1},\"mode\":\"lines\",\"showlegend\":false,\"x\":[0.795776903629303,0.795776903629303],\"y\":[1.0,1.75],\"type\":\"scatter\",\"xaxis\":\"x\",\"yaxis\":\"y\"},{\"hoverinfo\":\"skip\",\"line\":{\"color\":\"black\",\"width\":1},\"mode\":\"lines\",\"showlegend\":false,\"x\":[0.8751256465911865,0.8751256465911865],\"y\":[1.0,0.3],\"type\":\"scatter\",\"xaxis\":\"x\",\"yaxis\":\"y\"},{\"hoverinfo\":\"skip\",\"marker\":{\"color\":\"limegreen\"},\"opacity\":0.7,\"showlegend\":false,\"width\":0.04589157104492188,\"x\":[-0.8171262741088867,-0.7597618103027344,-0.702397346496582,-0.6450328826904297,-0.5876683592796326,-0.5303038954734802,-0.4729394316673279,-0.41557496786117554,-0.3582105040550232,-0.30084604024887085,-0.24348154664039612,-0.18611708283424377,-0.12875261902809143,-0.0713881403207779,-0.014023665338754654,0.04334080591797829,0.10070528090000153,0.15806975960731506,0.2154342234134674,0.27279868721961975,0.3301631808280945,0.3875276446342468,0.44489210844039917,0.5022565722465515,0.5596210360527039,0.6169854998588562,0.6743500232696533,0.7317144870758057,0.789078950881958,0.8464434146881104],\"y\":[0.6,0.54,0.7200000000000001,0.24,0.54,0.6,0.42000000000000004,0.48,0.6599999999999999,0.6599999999999999,0.54,0.6,0.54,0.3,0.36000000000000004,0.9,0.7200000000000001,0.54,0.12,0.6,0.36000000000000004,0.54,0.24,0.48,0.36000000000000004,0.48,0.3,0.48,0.42000000000000004,0.06],\"type\":\"bar\",\"xaxis\":\"x\",\"yaxis\":\"y\"},{\"hovertemplate\":\"\\u003cb\\u003e%{text}\\u003c\\u002fb\\u003e\\u003cbr\\u003ePC Projection: %{x:.3f}\\u003cextra\\u003e\\u003c\\u002fextra\\u003e\",\"marker\":{\"color\":\"limegreen\",\"line\":{\"color\":\"black\",\"width\":1},\"opacity\":1.0,\"size\":8,\"symbol\":\"diamond\"},\"mode\":\"markers\",\"showlegend\":false,\"text\":[\"Zealous\",\"Wry\",\"Witty\",\"Whimsical\",\"Vindictive\",\"Verbose\",\"Utilitarian\",\"Urgent\",\"Universalist\",\"Understated\",\"Transparent\",\"Traditional\",\"Theoretical\",\"Theatrical\",\"Temperamental\",\"Technical\",\"Tactful\",\"Systems Thinker\",\"Sycophantic\",\"Subversive\",\"Submissive\",\"Structuralist\",\"Stream Of Consciousness\",\"Stoic\",\"Spontaneous\",\"Spiritual\",\"Speculative\",\"Specialized\",\"Solemn\",\"Socratic\",\"Skeptical\",\"Serious\",\"Serene\",\"Secular\",\"Savage\",\"Sassy\",\"Sardonic\",\"Romantic\",\"Ritualistic\",\"Risk Taking\",\"Rhetorical\",\"Reverent\",\"Resilient\",\"Reserved\",\"Relativist\",\"Regulatory\",\"Reductionist\",\"Rebellious\",\"Reactive\",\"Rationalist\",\"Radical\",\"Quantitative\",\"Qualitative\",\"Provocative\",\"Progressive\",\"Problem Solving\",\"Proactive\",\"Principled\",\"Prescriptive\",\"Practical\",\"Poetic\",\"Pluralist\",\"Playful\",\"Philosophical\",\"Pessimistic\",\"Perfectionist\",\"Pensive\",\"Pedantic\",\"Passive Aggressive\",\"Passionate\",\"Paranoid\",\"Paradoxical\",\"Pacifist\",\"Optimistic\",\"Open Ended\",\"Obsessive\",\"Nurturing\",\"Nostalgic\",\"Nonchalant\",\"Nihilistic\",\"Neurotic\",\"Narrative\",\"Naive\",\"Mystical\",\"Moderate\",\"Mischievous\",\"Misanthropic\",\"Militant\",\"Meticulous\",\"Methodical\",\"Metaphorical\",\"Melodramatic\",\"Melancholic\",\"Meditative\",\"Materialist\",\"Manipulative\",\"Manic\",\"Literal\",\"Libertarian\",\"Ironic\",\"Intuitive\",\"Introverted\",\"Introspective\",\"Interdisciplinary\",\"Inspirational\",\"Inquisitive\",\"Innovative\",\"Individualistic\",\"Independent\",\"Inclusive\",\"Improvisational\",\"Impatient\",\"Idealistic\",\"Iconoclastic\",\"Humble\",\"Humanistic\",\"Hostile\",\"Holistic\",\"Historical\",\"Hedonistic\",\"Grounded\",\"Gregarious\",\"Grandiose\",\"Goofy\",\"Generous\",\"Generalist\",\"Futuristic\",\"Fundamentalist\",\"Formalist\",\"Formal\",\"Forgiving\",\"Flirty\",\"Flexible\",\"Fatalistic\",\"Factual\",\"Extroverted\",\"Exploratory\",\"Experiential\",\"Existentialist\",\"Evil\",\"Ethereal\",\"Essentialist\",\"Esoteric\",\"Erudite\",\"Epicurean\",\"Environmental\",\"Entertaining\",\"Enigmatic\",\"Empathetic\",\"Emotional\",\"Eloquent\",\"Elitist\",\"Egalitarian\",\"Effusive\",\"Efficient\",\"Educational\",\"Eclectic\",\"Earnest\",\"Dramatic\",\"Dominant\",\"Dogmatic\",\"Divergent\",\"Dispassionate\",\"Disorganized\",\"Deterministic\",\"Detached\",\"Descriptive\",\"Deontological\",\"Deferential\",\"Deconstructionist\",\"Decisive\",\"Data Driven\",\"Cynical\",\"Curious\",\"Cryptic\",\"Cruel\",\"Critical\",\"Creative\",\"Cosmopolitan\",\"Convergent\",\"Contrarian\",\"Contemporary\",\"Constructivist\",\"Confrontational\",\"Confident\",\"Condescending\",\"Concise\",\"Conceptual\",\"Competitive\",\"Collectivistic\",\"Collaborative\",\"Closure Seeking\",\"Circumspect\",\"Chill\",\"Charismatic\",\"Chaotic\",\"Challenging\",\"Cautious\",\"Casual\",\"Callous\",\"Bombastic\",\"Blunt\",\"Big Picture\",\"Avoidant\",\"Assertive\",\"Ascetic\",\"Artistic\",\"Arrogant\",\"Anxious\",\"Anthropocentric\",\"Animated\",\"Analytical\",\"Altruistic\",\"Adventurous\",\"Adaptable\",\"Acerbic\",\"Accommodating\",\"Accessible\",\"Abstract\",\"Absolutist\"],\"x\":[-0.3512943983078003,-0.6748328804969788,-0.2737841010093689,-0.4045669734477997,-0.36919865012168884,0.3210245370864868,0.2631998360157013,-0.12895402312278748,0.04566371813416481,-0.26130297780036926,0.5165523886680603,0.13602973520755768,0.18424850702285767,-0.0954320877790451,-0.7078146934509277,0.39153456687927246,0.7420215606689453,0.6637386679649353,-0.44131532311439514,-0.5194477438926697,-0.4401000142097473,0.6962215900421143,-0.5243473649024963,0.5252348184585571,-0.5718829035758972,0.019737862050533295,0.09166720509529114,0.40818479657173157,0.6732286214828491,-0.3096446394920349,0.2579730451107025,0.6277710199356079,0.577168881893158,0.15019521117210388,-0.7253767251968384,-0.46190258860588074,-0.7646622657775879,-0.272602915763855,0.4777757525444031,-0.2119358479976654,-0.18067605793476105,0.5245635509490967,0.7518930435180664,0.4348655939102173,-0.24603083729743958,0.1620590090751648,0.09287258237600327,-0.15363070368766785,-0.7421998381614685,0.3428407609462738,-0.2377735674381256,0.13187533617019653,0.11822763085365295,-0.3426749110221863,0.269732266664505,0.5344218015670776,0.698419988155365,0.48465317487716675,0.1941177248954773,0.038237523287534714,-0.016109973192214966,0.5630450248718262,-0.4878144860267639,0.11707262694835663,-0.514924943447113,0.7147535085678101,0.6083136796951294,0.1245250403881073,-0.69310462474823,-0.28500646352767944,-0.606602668762207,-0.16866278648376465,0.17041413486003876,0.5678691864013672,0.06331410259008408,-0.5853176116943359,0.734786331653595,-0.40782877802848816,-0.625444233417511,-0.5340713262557983,-0.6481799483299255,-0.4431353509426117,-0.3174886703491211,-0.16235429048538208,0.7202455997467041,-0.688920259475708,-0.7129050493240356,-0.636417031288147,0.7498390674591064,0.7557751536369324,-0.07433640956878662,-0.3048679828643799,-0.4889463782310486,0.4452560842037201,-0.14191219210624695,-0.7601282000541687,-0.575161337852478,-0.309476763010025,-0.28844043612480164,-0.7478368282318115,0.3021223545074463,0.48090580105781555,0.18739056587219238,0.4668799638748169,0.7349504828453064,-0.05547577887773514,-0.024954143911600113,-0.2373066395521164,0.47841876745224,0.6600149869918823,-0.4751700460910797,-0.6709784865379333,0.22459539771080017,-0.5296319723129272,0.2602333724498749,0.36456531286239624,-0.7284713387489319,0.676475465297699,-0.18398597836494446,-0.6044772267341614,0.1068546399474144,0.12091975659132004,-0.25686904788017273,-0.6723747849464417,0.6534296870231628,0.5399313569068909,0.15539662539958954,-0.39953917264938354,0.45489218831062317,0.6738336682319641,0.5409544706344604,-0.539894163608551,0.6832758784294128,-0.4041692316532135,0.6764655113220215,0.12302450090646744,0.4842500686645508,-0.04605480656027794,0.12251326441764832,-0.766103208065033,-0.13840940594673157,-0.14853480458259583,-0.031143255531787872,0.4687512218952179,0.24765288829803467,0.27738192677497864,-0.4316260814666748,-0.36362314224243164,0.06716667860746384,-0.12809668481349945,0.3243466913700104,-0.40363797545433044,0.5034801959991455,-0.33953943848609924,-0.2785205543041229,0.7503989934921265,0.25283393263816833,0.7604746222496033,-0.22668464481830597,0.1680586338043213,-0.6446619033813477,0.48847874999046326,0.398370623588562,-0.6702840328216553,-0.3635408282279968,0.2735283672809601,0.3041042685508728,0.1117819994688034,0.0650889053940773,-0.011016030795872211,0.2335483282804489,0.2044724076986313,-0.5944243669509888,0.5753246545791626,-0.19404786825180054,-0.7253645658493042,-0.09035631269216537,0.07130865752696991,0.6832714676856995,-0.008035165257751942,-0.3369317054748535,0.2162521630525589,0.16871245205402374,-0.28098928928375244,-0.11523401737213135,-0.5888786911964417,-0.21295271813869476,0.21217022836208344,-0.571682870388031,0.37348875403404236,0.358930766582489,0.10479287058115005,0.4084891676902771,0.38250523805618286,0.3224222660064697,-0.179056778550148,-0.07712013274431229,0.2373124361038208,-0.5103164315223694,-0.6440730690956116,-0.08405858278274536,-0.2857036292552948,0.47784656286239624,-0.4095422923564911,-0.1675085425376892,0.16399331390857697,-0.04569152742624283,-0.5794681310653687,-0.5195243954658508,-0.1253221482038498,0.11327517777681351,0.6779723167419434,0.6172512173652649,-0.04642496258020401,0.5379477739334106,-0.7568263411521912,-0.33935895562171936,0.09604289382696152,0.286510169506073,-0.16367556154727936],\"y\":[1,1,1,1,1,1,1,1,1,1,1,1,1,1,1,1,1,1,1,1,1,1,1,1,1,1,1,1,1,1,1,1,1,1,1,1,1,1,1,1,1,1,1,1,1,1,1,1,1,1,1,1,1,1,1,1,1,1,1,1,1,1,1,1,1,1,1,1,1,1,1,1,1,1,1,1,1,1,1,1,1,1,1,1,1,1,1,1,1,1,1,1,1,1,1,1,1,1,1,1,1,1,1,1,1,1,1,1,1,1,1,1,1,1,1,1,1,1,1,1,1,1,1,1,1,1,1,1,1,1,1,1,1,1,1,1,1,1,1,1,1,1,1,1,1,1,1,1,1,1,1,1,1,1,1,1,1,1,1,1,1,1,1,1,1,1,1,1,1,1,1,1,1,1,1,1,1,1,1,1,1,1,1,1,1,1,1,1,1,1,1,1,1,1,1,1,1,1,1,1,1,1,1,1,1,1,1,1,1,1,1,1,1,1,1,1,1,1,1,1],\"type\":\"scatter\",\"xaxis\":\"x2\",\"yaxis\":\"y2\"},{\"hovertemplate\":\"\\u003cb\\u003e%{text}\\u003c\\u002fb\\u003e\\u003cbr\\u003ePC Projection: %{x:.3f}\\u003cextra\\u003e\\u003c\\u002fextra\\u003e\",\"marker\":{\"color\":\"limegreen\",\"line\":{\"color\":\"black\",\"width\":1},\"opacity\":1.0,\"size\":8,\"symbol\":\"diamond\"},\"mode\":\"markers\",\"showlegend\":false,\"text\":[\"Visceral\",\"Supportive\",\"Strategic\",\"Sarcastic\",\"Petty\",\"Patient\",\"Mercurial\",\"Judgmental\",\"Irreverent\",\"Impulsive\",\"Flippant\",\"Edgy\",\"Diplomatic\",\"Conscientious\",\"Conciliatory\",\"Calm\",\"Calculating\",\"Bitter\",\"Benevolent\",\"Agreeable\"],\"x\":[-0.7950220704078674,0.8048459887504578,0.839154064655304,-0.7886016964912415,-0.8049905896186829,0.7702327370643616,-0.7708812952041626,-0.7990410327911377,-0.775534987449646,-0.7696743011474609,-0.7937391400337219,-0.8556413650512695,0.8543459177017212,0.8062964677810669,0.7830922603607178,0.770548403263092,0.7954472899436951,-0.8058272004127502,0.783924400806427,0.7759961485862732],\"y\":[1,1,1,1,1,1,1,1,1,1,1,1,1,1,1,1,1,1,1,1],\"type\":\"scatter\",\"xaxis\":\"x2\",\"yaxis\":\"y2\"},{\"hoverinfo\":\"skip\",\"line\":{\"color\":\"black\",\"width\":1},\"mode\":\"lines\",\"showlegend\":false,\"x\":[-0.8556413650512695,-0.8556413650512695],\"y\":[1.0,1.45],\"type\":\"scatter\",\"xaxis\":\"x2\",\"yaxis\":\"y2\"},{\"hoverinfo\":\"skip\",\"line\":{\"color\":\"black\",\"width\":1},\"mode\":\"lines\",\"showlegend\":false,\"x\":[-0.8058272004127502,-0.8058272004127502],\"y\":[1.0,0.6],\"type\":\"scatter\",\"xaxis\":\"x2\",\"yaxis\":\"y2\"},{\"hoverinfo\":\"skip\",\"line\":{\"color\":\"black\",\"width\":1},\"mode\":\"lines\",\"showlegend\":false,\"x\":[-0.8049905896186829,-0.8049905896186829],\"y\":[1.0,1.9],\"type\":\"scatter\",\"xaxis\":\"x2\",\"yaxis\":\"y2\"},{\"hoverinfo\":\"skip\",\"line\":{\"color\":\"black\",\"width\":1},\"mode\":\"lines\",\"showlegend\":false,\"x\":[-0.7990410327911377,-0.7990410327911377],\"y\":[1.0,0.15],\"type\":\"scatter\",\"xaxis\":\"x2\",\"yaxis\":\"y2\"},{\"hoverinfo\":\"skip\",\"line\":{\"color\":\"black\",\"width\":1},\"mode\":\"lines\",\"showlegend\":false,\"x\":[-0.7950220704078674,-0.7950220704078674],\"y\":[1.0,1.6],\"type\":\"scatter\",\"xaxis\":\"x2\",\"yaxis\":\"y2\"},{\"hoverinfo\":\"skip\",\"line\":{\"color\":\"black\",\"width\":1},\"mode\":\"lines\",\"showlegend\":false,\"x\":[-0.7937391400337219,-0.7937391400337219],\"y\":[1.0,0.45],\"type\":\"scatter\",\"xaxis\":\"x2\",\"yaxis\":\"y2\"},{\"hoverinfo\":\"skip\",\"line\":{\"color\":\"black\",\"width\":1},\"mode\":\"lines\",\"showlegend\":false,\"x\":[-0.7886016964912415,-0.7886016964912415],\"y\":[1.0,1.3],\"type\":\"scatter\",\"xaxis\":\"x2\",\"yaxis\":\"y2\"},{\"hoverinfo\":\"skip\",\"line\":{\"color\":\"black\",\"width\":1},\"mode\":\"lines\",\"showlegend\":false,\"x\":[-0.775534987449646,-0.775534987449646],\"y\":[1.0,0.75],\"type\":\"scatter\",\"xaxis\":\"x2\",\"yaxis\":\"y2\"},{\"hoverinfo\":\"skip\",\"line\":{\"color\":\"black\",\"width\":1},\"mode\":\"lines\",\"showlegend\":false,\"x\":[-0.7708812952041626,-0.7708812952041626],\"y\":[1.0,1.75],\"type\":\"scatter\",\"xaxis\":\"x2\",\"yaxis\":\"y2\"},{\"hoverinfo\":\"skip\",\"line\":{\"color\":\"black\",\"width\":1},\"mode\":\"lines\",\"showlegend\":false,\"x\":[-0.7696743011474609,-0.7696743011474609],\"y\":[1.0,0.3],\"type\":\"scatter\",\"xaxis\":\"x2\",\"yaxis\":\"y2\"},{\"hoverinfo\":\"skip\",\"line\":{\"color\":\"black\",\"width\":1},\"mode\":\"lines\",\"showlegend\":false,\"x\":[0.7702327370643616,0.7702327370643616],\"y\":[1.0,1.45],\"type\":\"scatter\",\"xaxis\":\"x2\",\"yaxis\":\"y2\"},{\"hoverinfo\":\"skip\",\"line\":{\"color\":\"black\",\"width\":1},\"mode\":\"lines\",\"showlegend\":false,\"x\":[0.770548403263092,0.770548403263092],\"y\":[1.0,0.6],\"type\":\"scatter\",\"xaxis\":\"x2\",\"yaxis\":\"y2\"},{\"hoverinfo\":\"skip\",\"line\":{\"color\":\"black\",\"width\":1},\"mode\":\"lines\",\"showlegend\":false,\"x\":[0.7759961485862732,0.7759961485862732],\"y\":[1.0,1.9],\"type\":\"scatter\",\"xaxis\":\"x2\",\"yaxis\":\"y2\"},{\"hoverinfo\":\"skip\",\"line\":{\"color\":\"black\",\"width\":1},\"mode\":\"lines\",\"showlegend\":false,\"x\":[0.7830922603607178,0.7830922603607178],\"y\":[1.0,0.15],\"type\":\"scatter\",\"xaxis\":\"x2\",\"yaxis\":\"y2\"},{\"hoverinfo\":\"skip\",\"line\":{\"color\":\"black\",\"width\":1},\"mode\":\"lines\",\"showlegend\":false,\"x\":[0.783924400806427,0.783924400806427],\"y\":[1.0,1.6],\"type\":\"scatter\",\"xaxis\":\"x2\",\"yaxis\":\"y2\"},{\"hoverinfo\":\"skip\",\"line\":{\"color\":\"black\",\"width\":1},\"mode\":\"lines\",\"showlegend\":false,\"x\":[0.7954472899436951,0.7954472899436951],\"y\":[1.0,0.45],\"type\":\"scatter\",\"xaxis\":\"x2\",\"yaxis\":\"y2\"},{\"hoverinfo\":\"skip\",\"line\":{\"color\":\"black\",\"width\":1},\"mode\":\"lines\",\"showlegend\":false,\"x\":[0.8048459887504578,0.8048459887504578],\"y\":[1.0,1.3],\"type\":\"scatter\",\"xaxis\":\"x2\",\"yaxis\":\"y2\"},{\"hoverinfo\":\"skip\",\"line\":{\"color\":\"black\",\"width\":1},\"mode\":\"lines\",\"showlegend\":false,\"x\":[0.8062964677810669,0.8062964677810669],\"y\":[1.0,0.75],\"type\":\"scatter\",\"xaxis\":\"x2\",\"yaxis\":\"y2\"},{\"hoverinfo\":\"skip\",\"line\":{\"color\":\"black\",\"width\":1},\"mode\":\"lines\",\"showlegend\":false,\"x\":[0.839154064655304,0.839154064655304],\"y\":[1.0,1.75],\"type\":\"scatter\",\"xaxis\":\"x2\",\"yaxis\":\"y2\"},{\"hoverinfo\":\"skip\",\"line\":{\"color\":\"black\",\"width\":1},\"mode\":\"lines\",\"showlegend\":false,\"x\":[0.8543459177017212,0.8543459177017212],\"y\":[1.0,0.3],\"type\":\"scatter\",\"xaxis\":\"x2\",\"yaxis\":\"y2\"},{\"hoverinfo\":\"skip\",\"marker\":{\"color\":\"limegreen\"},\"opacity\":0.7,\"showlegend\":false,\"width\":0.045599651336669926,\"x\":[-0.8271415829658508,-0.7701420187950134,-0.7131423950195312,-0.6561428308486938,-0.5991432666778564,-0.542143702507019,-0.48514413833618164,-0.42814454436302185,-0.37114495038986206,-0.31414538621902466,-0.25714582204818726,-0.20014622807502747,-0.14314666390419006,-0.08614708483219147,-0.02914751134812832,0.02785206399857998,0.08485163748264313,0.14185121655464172,0.19885078072547913,0.2558503746986389,0.3128499388694763,0.3698495030403137,0.4268490970134735,0.4838486909866333,0.5408482551574707,0.5978478193283081,0.6548473834991455,0.7118469476699829,0.7688465714454651,0.8258461356163025],\"y\":[0.2571428571428571,0.7714285714285714,0.45,0.5142857142857142,0.6428571428571429,0.45,0.32142857142857145,0.5785714285714286,0.3857142857142857,0.5785714285714286,0.6428571428571429,0.45,0.7714285714285714,0.32142857142857145,0.5785714285714286,0.19285714285714284,0.7071428571428572,0.9,0.5142857142857142,0.6428571428571429,0.3857142857142857,0.3857142857142857,0.3857142857142857,0.6428571428571429,0.5785714285714286,0.2571428571428571,0.7071428571428572,0.3857142857142857,0.7714285714285714,0.2571428571428571],\"type\":\"bar\",\"xaxis\":\"x2\",\"yaxis\":\"y2\"}],                        {\"template\":{\"data\":{\"histogram2dcontour\":[{\"type\":\"histogram2dcontour\",\"colorbar\":{\"outlinewidth\":0,\"ticks\":\"\"},\"colorscale\":[[0.0,\"#0d0887\"],[0.1111111111111111,\"#46039f\"],[0.2222222222222222,\"#7201a8\"],[0.3333333333333333,\"#9c179e\"],[0.4444444444444444,\"#bd3786\"],[0.5555555555555556,\"#d8576b\"],[0.6666666666666666,\"#ed7953\"],[0.7777777777777778,\"#fb9f3a\"],[0.8888888888888888,\"#fdca26\"],[1.0,\"#f0f921\"]]}],\"choropleth\":[{\"type\":\"choropleth\",\"colorbar\":{\"outlinewidth\":0,\"ticks\":\"\"}}],\"histogram2d\":[{\"type\":\"histogram2d\",\"colorbar\":{\"outlinewidth\":0,\"ticks\":\"\"},\"colorscale\":[[0.0,\"#0d0887\"],[0.1111111111111111,\"#46039f\"],[0.2222222222222222,\"#7201a8\"],[0.3333333333333333,\"#9c179e\"],[0.4444444444444444,\"#bd3786\"],[0.5555555555555556,\"#d8576b\"],[0.6666666666666666,\"#ed7953\"],[0.7777777777777778,\"#fb9f3a\"],[0.8888888888888888,\"#fdca26\"],[1.0,\"#f0f921\"]]}],\"heatmap\":[{\"type\":\"heatmap\",\"colorbar\":{\"outlinewidth\":0,\"ticks\":\"\"},\"colorscale\":[[0.0,\"#0d0887\"],[0.1111111111111111,\"#46039f\"],[0.2222222222222222,\"#7201a8\"],[0.3333333333333333,\"#9c179e\"],[0.4444444444444444,\"#bd3786\"],[0.5555555555555556,\"#d8576b\"],[0.6666666666666666,\"#ed7953\"],[0.7777777777777778,\"#fb9f3a\"],[0.8888888888888888,\"#fdca26\"],[1.0,\"#f0f921\"]]}],\"heatmapgl\":[{\"type\":\"heatmapgl\",\"colorbar\":{\"outlinewidth\":0,\"ticks\":\"\"},\"colorscale\":[[0.0,\"#0d0887\"],[0.1111111111111111,\"#46039f\"],[0.2222222222222222,\"#7201a8\"],[0.3333333333333333,\"#9c179e\"],[0.4444444444444444,\"#bd3786\"],[0.5555555555555556,\"#d8576b\"],[0.6666666666666666,\"#ed7953\"],[0.7777777777777778,\"#fb9f3a\"],[0.8888888888888888,\"#fdca26\"],[1.0,\"#f0f921\"]]}],\"contourcarpet\":[{\"type\":\"contourcarpet\",\"colorbar\":{\"outlinewidth\":0,\"ticks\":\"\"}}],\"contour\":[{\"type\":\"contour\",\"colorbar\":{\"outlinewidth\":0,\"ticks\":\"\"},\"colorscale\":[[0.0,\"#0d0887\"],[0.1111111111111111,\"#46039f\"],[0.2222222222222222,\"#7201a8\"],[0.3333333333333333,\"#9c179e\"],[0.4444444444444444,\"#bd3786\"],[0.5555555555555556,\"#d8576b\"],[0.6666666666666666,\"#ed7953\"],[0.7777777777777778,\"#fb9f3a\"],[0.8888888888888888,\"#fdca26\"],[1.0,\"#f0f921\"]]}],\"surface\":[{\"type\":\"surface\",\"colorbar\":{\"outlinewidth\":0,\"ticks\":\"\"},\"colorscale\":[[0.0,\"#0d0887\"],[0.1111111111111111,\"#46039f\"],[0.2222222222222222,\"#7201a8\"],[0.3333333333333333,\"#9c179e\"],[0.4444444444444444,\"#bd3786\"],[0.5555555555555556,\"#d8576b\"],[0.6666666666666666,\"#ed7953\"],[0.7777777777777778,\"#fb9f3a\"],[0.8888888888888888,\"#fdca26\"],[1.0,\"#f0f921\"]]}],\"mesh3d\":[{\"type\":\"mesh3d\",\"colorbar\":{\"outlinewidth\":0,\"ticks\":\"\"}}],\"scatter\":[{\"fillpattern\":{\"fillmode\":\"overlay\",\"size\":10,\"solidity\":0.2},\"type\":\"scatter\"}],\"parcoords\":[{\"type\":\"parcoords\",\"line\":{\"colorbar\":{\"outlinewidth\":0,\"ticks\":\"\"}}}],\"scatterpolargl\":[{\"type\":\"scatterpolargl\",\"marker\":{\"colorbar\":{\"outlinewidth\":0,\"ticks\":\"\"}}}],\"bar\":[{\"error_x\":{\"color\":\"#2a3f5f\"},\"error_y\":{\"color\":\"#2a3f5f\"},\"marker\":{\"line\":{\"color\":\"#E5ECF6\",\"width\":0.5},\"pattern\":{\"fillmode\":\"overlay\",\"size\":10,\"solidity\":0.2}},\"type\":\"bar\"}],\"scattergeo\":[{\"type\":\"scattergeo\",\"marker\":{\"colorbar\":{\"outlinewidth\":0,\"ticks\":\"\"}}}],\"scatterpolar\":[{\"type\":\"scatterpolar\",\"marker\":{\"colorbar\":{\"outlinewidth\":0,\"ticks\":\"\"}}}],\"histogram\":[{\"marker\":{\"pattern\":{\"fillmode\":\"overlay\",\"size\":10,\"solidity\":0.2}},\"type\":\"histogram\"}],\"scattergl\":[{\"type\":\"scattergl\",\"marker\":{\"colorbar\":{\"outlinewidth\":0,\"ticks\":\"\"}}}],\"scatter3d\":[{\"type\":\"scatter3d\",\"line\":{\"colorbar\":{\"outlinewidth\":0,\"ticks\":\"\"}},\"marker\":{\"colorbar\":{\"outlinewidth\":0,\"ticks\":\"\"}}}],\"scattermapbox\":[{\"type\":\"scattermapbox\",\"marker\":{\"colorbar\":{\"outlinewidth\":0,\"ticks\":\"\"}}}],\"scatterternary\":[{\"type\":\"scatterternary\",\"marker\":{\"colorbar\":{\"outlinewidth\":0,\"ticks\":\"\"}}}],\"scattercarpet\":[{\"type\":\"scattercarpet\",\"marker\":{\"colorbar\":{\"outlinewidth\":0,\"ticks\":\"\"}}}],\"carpet\":[{\"aaxis\":{\"endlinecolor\":\"#2a3f5f\",\"gridcolor\":\"white\",\"linecolor\":\"white\",\"minorgridcolor\":\"white\",\"startlinecolor\":\"#2a3f5f\"},\"baxis\":{\"endlinecolor\":\"#2a3f5f\",\"gridcolor\":\"white\",\"linecolor\":\"white\",\"minorgridcolor\":\"white\",\"startlinecolor\":\"#2a3f5f\"},\"type\":\"carpet\"}],\"table\":[{\"cells\":{\"fill\":{\"color\":\"#EBF0F8\"},\"line\":{\"color\":\"white\"}},\"header\":{\"fill\":{\"color\":\"#C8D4E3\"},\"line\":{\"color\":\"white\"}},\"type\":\"table\"}],\"barpolar\":[{\"marker\":{\"line\":{\"color\":\"#E5ECF6\",\"width\":0.5},\"pattern\":{\"fillmode\":\"overlay\",\"size\":10,\"solidity\":0.2}},\"type\":\"barpolar\"}],\"pie\":[{\"automargin\":true,\"type\":\"pie\"}]},\"layout\":{\"autotypenumbers\":\"strict\",\"colorway\":[\"#636efa\",\"#EF553B\",\"#00cc96\",\"#ab63fa\",\"#FFA15A\",\"#19d3f3\",\"#FF6692\",\"#B6E880\",\"#FF97FF\",\"#FECB52\"],\"font\":{\"color\":\"#2a3f5f\"},\"hovermode\":\"closest\",\"hoverlabel\":{\"align\":\"left\"},\"paper_bgcolor\":\"white\",\"plot_bgcolor\":\"#E5ECF6\",\"polar\":{\"bgcolor\":\"#E5ECF6\",\"angularaxis\":{\"gridcolor\":\"white\",\"linecolor\":\"white\",\"ticks\":\"\"},\"radialaxis\":{\"gridcolor\":\"white\",\"linecolor\":\"white\",\"ticks\":\"\"}},\"ternary\":{\"bgcolor\":\"#E5ECF6\",\"aaxis\":{\"gridcolor\":\"white\",\"linecolor\":\"white\",\"ticks\":\"\"},\"baxis\":{\"gridcolor\":\"white\",\"linecolor\":\"white\",\"ticks\":\"\"},\"caxis\":{\"gridcolor\":\"white\",\"linecolor\":\"white\",\"ticks\":\"\"}},\"coloraxis\":{\"colorbar\":{\"outlinewidth\":0,\"ticks\":\"\"}},\"colorscale\":{\"sequential\":[[0.0,\"#0d0887\"],[0.1111111111111111,\"#46039f\"],[0.2222222222222222,\"#7201a8\"],[0.3333333333333333,\"#9c179e\"],[0.4444444444444444,\"#bd3786\"],[0.5555555555555556,\"#d8576b\"],[0.6666666666666666,\"#ed7953\"],[0.7777777777777778,\"#fb9f3a\"],[0.8888888888888888,\"#fdca26\"],[1.0,\"#f0f921\"]],\"sequentialminus\":[[0.0,\"#0d0887\"],[0.1111111111111111,\"#46039f\"],[0.2222222222222222,\"#7201a8\"],[0.3333333333333333,\"#9c179e\"],[0.4444444444444444,\"#bd3786\"],[0.5555555555555556,\"#d8576b\"],[0.6666666666666666,\"#ed7953\"],[0.7777777777777778,\"#fb9f3a\"],[0.8888888888888888,\"#fdca26\"],[1.0,\"#f0f921\"]],\"diverging\":[[0,\"#8e0152\"],[0.1,\"#c51b7d\"],[0.2,\"#de77ae\"],[0.3,\"#f1b6da\"],[0.4,\"#fde0ef\"],[0.5,\"#f7f7f7\"],[0.6,\"#e6f5d0\"],[0.7,\"#b8e186\"],[0.8,\"#7fbc41\"],[0.9,\"#4d9221\"],[1,\"#276419\"]]},\"xaxis\":{\"gridcolor\":\"white\",\"linecolor\":\"white\",\"ticks\":\"\",\"title\":{\"standoff\":15},\"zerolinecolor\":\"white\",\"automargin\":true,\"zerolinewidth\":2},\"yaxis\":{\"gridcolor\":\"white\",\"linecolor\":\"white\",\"ticks\":\"\",\"title\":{\"standoff\":15},\"zerolinecolor\":\"white\",\"automargin\":true,\"zerolinewidth\":2},\"scene\":{\"xaxis\":{\"backgroundcolor\":\"#E5ECF6\",\"gridcolor\":\"white\",\"linecolor\":\"white\",\"showbackground\":true,\"ticks\":\"\",\"zerolinecolor\":\"white\",\"gridwidth\":2},\"yaxis\":{\"backgroundcolor\":\"#E5ECF6\",\"gridcolor\":\"white\",\"linecolor\":\"white\",\"showbackground\":true,\"ticks\":\"\",\"zerolinecolor\":\"white\",\"gridwidth\":2},\"zaxis\":{\"backgroundcolor\":\"#E5ECF6\",\"gridcolor\":\"white\",\"linecolor\":\"white\",\"showbackground\":true,\"ticks\":\"\",\"zerolinecolor\":\"white\",\"gridwidth\":2}},\"shapedefaults\":{\"line\":{\"color\":\"#2a3f5f\"}},\"annotationdefaults\":{\"arrowcolor\":\"#2a3f5f\",\"arrowhead\":0,\"arrowwidth\":1},\"geo\":{\"bgcolor\":\"white\",\"landcolor\":\"#E5ECF6\",\"subunitcolor\":\"white\",\"showland\":true,\"showlakes\":true,\"lakecolor\":\"white\"},\"title\":{\"x\":0.05},\"mapbox\":{\"style\":\"light\"}}},\"xaxis\":{\"anchor\":\"y\",\"domain\":[0.0,1.0],\"range\":[-1.1,1.1]},\"yaxis\":{\"anchor\":\"x\",\"domain\":[0.55,1.0],\"showticklabels\":false,\"range\":[0,2.5]},\"xaxis2\":{\"anchor\":\"y2\",\"domain\":[0.0,1.0],\"range\":[-1.1,1.1]},\"yaxis2\":{\"anchor\":\"x2\",\"domain\":[0.0,0.45],\"showticklabels\":false,\"range\":[0,2.5]},\"annotations\":[{\"font\":{\"size\":16},\"showarrow\":false,\"text\":\"PC1 Cosine Similarity\",\"x\":0.5,\"xanchor\":\"center\",\"xref\":\"paper\",\"y\":1.0,\"yanchor\":\"bottom\",\"yref\":\"paper\"},{\"font\":{\"size\":16},\"showarrow\":false,\"text\":\"PC1 Projection\",\"x\":0.5,\"xanchor\":\"center\",\"xref\":\"paper\",\"y\":0.45,\"yanchor\":\"bottom\",\"yref\":\"paper\"},{\"bgcolor\":\"rgba(255, 255, 255, 0.9)\",\"bordercolor\":\"black\",\"borderwidth\":1,\"font\":{\"color\":\"black\",\"size\":10},\"showarrow\":false,\"text\":\"Visceral\",\"x\":-0.8458085060119629,\"xref\":\"x\",\"y\":1.45,\"yref\":\"y\"},{\"bgcolor\":\"rgba(255, 255, 255, 0.9)\",\"bordercolor\":\"black\",\"borderwidth\":1,\"font\":{\"color\":\"black\",\"size\":10},\"showarrow\":false,\"text\":\"Edgy\",\"x\":-0.8316925764083862,\"xref\":\"x\",\"y\":0.6,\"yref\":\"y\"},{\"bgcolor\":\"rgba(255, 255, 255, 0.9)\",\"bordercolor\":\"black\",\"borderwidth\":1,\"font\":{\"color\":\"black\",\"size\":10},\"showarrow\":false,\"text\":\"Impulsive\",\"x\":-0.8315814733505249,\"xref\":\"x\",\"y\":1.9,\"yref\":\"y\"},{\"bgcolor\":\"rgba(255, 255, 255, 0.9)\",\"bordercolor\":\"black\",\"borderwidth\":1,\"font\":{\"color\":\"black\",\"size\":10},\"showarrow\":false,\"text\":\"Judgmental\",\"x\":-0.8225852251052856,\"xref\":\"x\",\"y\":0.15,\"yref\":\"y\"},{\"bgcolor\":\"rgba(255, 255, 255, 0.9)\",\"bordercolor\":\"black\",\"borderwidth\":1,\"font\":{\"color\":\"black\",\"size\":10},\"showarrow\":false,\"text\":\"Petty\",\"x\":-0.8221855163574219,\"xref\":\"x\",\"y\":1.6,\"yref\":\"y\"},{\"bgcolor\":\"rgba(255, 255, 255, 0.9)\",\"bordercolor\":\"black\",\"borderwidth\":1,\"font\":{\"color\":\"black\",\"size\":10},\"showarrow\":false,\"text\":\"Flippant\",\"x\":-0.8182324767112732,\"xref\":\"x\",\"y\":0.45,\"yref\":\"y\"},{\"bgcolor\":\"rgba(255, 255, 255, 0.9)\",\"bordercolor\":\"black\",\"borderwidth\":1,\"font\":{\"color\":\"black\",\"size\":10},\"showarrow\":false,\"text\":\"Bitter\",\"x\":-0.814406156539917,\"xref\":\"x\",\"y\":1.3,\"yref\":\"y\"},{\"bgcolor\":\"rgba(255, 255, 255, 0.9)\",\"bordercolor\":\"black\",\"borderwidth\":1,\"font\":{\"color\":\"black\",\"size\":10},\"showarrow\":false,\"text\":\"Reactive\",\"x\":-0.8028703331947327,\"xref\":\"x\",\"y\":0.75,\"yref\":\"y\"},{\"bgcolor\":\"rgba(255, 255, 255, 0.9)\",\"bordercolor\":\"black\",\"borderwidth\":1,\"font\":{\"color\":\"black\",\"size\":10},\"showarrow\":false,\"text\":\"Irreverent\",\"x\":-0.7957543730735779,\"xref\":\"x\",\"y\":1.75,\"yref\":\"y\"},{\"bgcolor\":\"rgba(255, 255, 255, 0.9)\",\"bordercolor\":\"black\",\"borderwidth\":1,\"font\":{\"color\":\"black\",\"size\":10},\"showarrow\":false,\"text\":\"Sarcastic\",\"x\":-0.7924211025238037,\"xref\":\"x\",\"y\":0.3,\"yref\":\"y\"},{\"bgcolor\":\"rgba(255, 255, 255, 0.9)\",\"bordercolor\":\"black\",\"borderwidth\":1,\"font\":{\"color\":\"black\",\"size\":10},\"showarrow\":false,\"text\":\"Moderate\",\"x\":0.7466889023780823,\"xref\":\"x\",\"y\":1.45,\"yref\":\"y\"},{\"bgcolor\":\"rgba(255, 255, 255, 0.9)\",\"bordercolor\":\"black\",\"borderwidth\":1,\"font\":{\"color\":\"black\",\"size\":10},\"showarrow\":false,\"text\":\"Patient\",\"x\":0.7506963014602661,\"xref\":\"x\",\"y\":0.6,\"yref\":\"y\"},{\"bgcolor\":\"rgba(255, 255, 255, 0.9)\",\"bordercolor\":\"black\",\"borderwidth\":1,\"font\":{\"color\":\"black\",\"size\":10},\"showarrow\":false,\"text\":\"Supportive\",\"x\":0.7666904926300049,\"xref\":\"x\",\"y\":1.9,\"yref\":\"y\"},{\"bgcolor\":\"rgba(255, 255, 255, 0.9)\",\"bordercolor\":\"black\",\"borderwidth\":1,\"font\":{\"color\":\"black\",\"size\":10},\"showarrow\":false,\"text\":\"Benevolent\",\"x\":0.7682831287384033,\"xref\":\"x\",\"y\":0.15,\"yref\":\"y\"},{\"bgcolor\":\"rgba(255, 255, 255, 0.9)\",\"bordercolor\":\"black\",\"borderwidth\":1,\"font\":{\"color\":\"black\",\"size\":10},\"showarrow\":false,\"text\":\"Agreeable\",\"x\":0.7689147591590881,\"xref\":\"x\",\"y\":1.6,\"yref\":\"y\"},{\"bgcolor\":\"rgba(255, 255, 255, 0.9)\",\"bordercolor\":\"black\",\"borderwidth\":1,\"font\":{\"color\":\"black\",\"size\":10},\"showarrow\":false,\"text\":\"Conscientious\",\"x\":0.7759522199630737,\"xref\":\"x\",\"y\":0.45,\"yref\":\"y\"},{\"bgcolor\":\"rgba(255, 255, 255, 0.9)\",\"bordercolor\":\"black\",\"borderwidth\":1,\"font\":{\"color\":\"black\",\"size\":10},\"showarrow\":false,\"text\":\"Strategic\",\"x\":0.7812049984931946,\"xref\":\"x\",\"y\":1.3,\"yref\":\"y\"},{\"bgcolor\":\"rgba(255, 255, 255, 0.9)\",\"bordercolor\":\"black\",\"borderwidth\":1,\"font\":{\"color\":\"black\",\"size\":10},\"showarrow\":false,\"text\":\"Calm\",\"x\":0.7898889183998108,\"xref\":\"x\",\"y\":0.75,\"yref\":\"y\"},{\"bgcolor\":\"rgba(255, 255, 255, 0.9)\",\"bordercolor\":\"black\",\"borderwidth\":1,\"font\":{\"color\":\"black\",\"size\":10},\"showarrow\":false,\"text\":\"Conciliatory\",\"x\":0.795776903629303,\"xref\":\"x\",\"y\":1.75,\"yref\":\"y\"},{\"bgcolor\":\"rgba(255, 255, 255, 0.9)\",\"bordercolor\":\"black\",\"borderwidth\":1,\"font\":{\"color\":\"black\",\"size\":10},\"showarrow\":false,\"text\":\"Diplomatic\",\"x\":0.8751256465911865,\"xref\":\"x\",\"y\":0.3,\"yref\":\"y\"},{\"bgcolor\":\"rgba(255, 255, 255, 0.9)\",\"bordercolor\":\"red\",\"borderwidth\":1,\"font\":{\"color\":\"red\",\"size\":14},\"showarrow\":false,\"text\":\"Assistant\",\"x\":0.5784309506416321,\"xref\":\"x\",\"y\":2,\"yref\":\"y\"},{\"bgcolor\":\"rgba(255, 255, 255, 0.9)\",\"bordercolor\":\"black\",\"borderwidth\":1,\"font\":{\"color\":\"black\",\"size\":10},\"showarrow\":false,\"text\":\"Edgy\",\"x\":-0.8556413650512695,\"xref\":\"x2\",\"y\":1.45,\"yref\":\"y2\"},{\"bgcolor\":\"rgba(255, 255, 255, 0.9)\",\"bordercolor\":\"black\",\"borderwidth\":1,\"font\":{\"color\":\"black\",\"size\":10},\"showarrow\":false,\"text\":\"Bitter\",\"x\":-0.8058272004127502,\"xref\":\"x2\",\"y\":0.6,\"yref\":\"y2\"},{\"bgcolor\":\"rgba(255, 255, 255, 0.9)\",\"bordercolor\":\"black\",\"borderwidth\":1,\"font\":{\"color\":\"black\",\"size\":10},\"showarrow\":false,\"text\":\"Petty\",\"x\":-0.8049905896186829,\"xref\":\"x2\",\"y\":1.9,\"yref\":\"y2\"},{\"bgcolor\":\"rgba(255, 255, 255, 0.9)\",\"bordercolor\":\"black\",\"borderwidth\":1,\"font\":{\"color\":\"black\",\"size\":10},\"showarrow\":false,\"text\":\"Judgmental\",\"x\":-0.7990410327911377,\"xref\":\"x2\",\"y\":0.15,\"yref\":\"y2\"},{\"bgcolor\":\"rgba(255, 255, 255, 0.9)\",\"bordercolor\":\"black\",\"borderwidth\":1,\"font\":{\"color\":\"black\",\"size\":10},\"showarrow\":false,\"text\":\"Visceral\",\"x\":-0.7950220704078674,\"xref\":\"x2\",\"y\":1.6,\"yref\":\"y2\"},{\"bgcolor\":\"rgba(255, 255, 255, 0.9)\",\"bordercolor\":\"black\",\"borderwidth\":1,\"font\":{\"color\":\"black\",\"size\":10},\"showarrow\":false,\"text\":\"Flippant\",\"x\":-0.7937391400337219,\"xref\":\"x2\",\"y\":0.45,\"yref\":\"y2\"},{\"bgcolor\":\"rgba(255, 255, 255, 0.9)\",\"bordercolor\":\"black\",\"borderwidth\":1,\"font\":{\"color\":\"black\",\"size\":10},\"showarrow\":false,\"text\":\"Sarcastic\",\"x\":-0.7886016964912415,\"xref\":\"x2\",\"y\":1.3,\"yref\":\"y2\"},{\"bgcolor\":\"rgba(255, 255, 255, 0.9)\",\"bordercolor\":\"black\",\"borderwidth\":1,\"font\":{\"color\":\"black\",\"size\":10},\"showarrow\":false,\"text\":\"Irreverent\",\"x\":-0.775534987449646,\"xref\":\"x2\",\"y\":0.75,\"yref\":\"y2\"},{\"bgcolor\":\"rgba(255, 255, 255, 0.9)\",\"bordercolor\":\"black\",\"borderwidth\":1,\"font\":{\"color\":\"black\",\"size\":10},\"showarrow\":false,\"text\":\"Mercurial\",\"x\":-0.7708812952041626,\"xref\":\"x2\",\"y\":1.75,\"yref\":\"y2\"},{\"bgcolor\":\"rgba(255, 255, 255, 0.9)\",\"bordercolor\":\"black\",\"borderwidth\":1,\"font\":{\"color\":\"black\",\"size\":10},\"showarrow\":false,\"text\":\"Impulsive\",\"x\":-0.7696743011474609,\"xref\":\"x2\",\"y\":0.3,\"yref\":\"y2\"},{\"bgcolor\":\"rgba(255, 255, 255, 0.9)\",\"bordercolor\":\"black\",\"borderwidth\":1,\"font\":{\"color\":\"black\",\"size\":10},\"showarrow\":false,\"text\":\"Patient\",\"x\":0.7702327370643616,\"xref\":\"x2\",\"y\":1.45,\"yref\":\"y2\"},{\"bgcolor\":\"rgba(255, 255, 255, 0.9)\",\"bordercolor\":\"black\",\"borderwidth\":1,\"font\":{\"color\":\"black\",\"size\":10},\"showarrow\":false,\"text\":\"Calm\",\"x\":0.770548403263092,\"xref\":\"x2\",\"y\":0.6,\"yref\":\"y2\"},{\"bgcolor\":\"rgba(255, 255, 255, 0.9)\",\"bordercolor\":\"black\",\"borderwidth\":1,\"font\":{\"color\":\"black\",\"size\":10},\"showarrow\":false,\"text\":\"Agreeable\",\"x\":0.7759961485862732,\"xref\":\"x2\",\"y\":1.9,\"yref\":\"y2\"},{\"bgcolor\":\"rgba(255, 255, 255, 0.9)\",\"bordercolor\":\"black\",\"borderwidth\":1,\"font\":{\"color\":\"black\",\"size\":10},\"showarrow\":false,\"text\":\"Conciliatory\",\"x\":0.7830922603607178,\"xref\":\"x2\",\"y\":0.15,\"yref\":\"y2\"},{\"bgcolor\":\"rgba(255, 255, 255, 0.9)\",\"bordercolor\":\"black\",\"borderwidth\":1,\"font\":{\"color\":\"black\",\"size\":10},\"showarrow\":false,\"text\":\"Benevolent\",\"x\":0.783924400806427,\"xref\":\"x2\",\"y\":1.6,\"yref\":\"y2\"},{\"bgcolor\":\"rgba(255, 255, 255, 0.9)\",\"bordercolor\":\"black\",\"borderwidth\":1,\"font\":{\"color\":\"black\",\"size\":10},\"showarrow\":false,\"text\":\"Calculating\",\"x\":0.7954472899436951,\"xref\":\"x2\",\"y\":0.45,\"yref\":\"y2\"},{\"bgcolor\":\"rgba(255, 255, 255, 0.9)\",\"bordercolor\":\"black\",\"borderwidth\":1,\"font\":{\"color\":\"black\",\"size\":10},\"showarrow\":false,\"text\":\"Supportive\",\"x\":0.8048459887504578,\"xref\":\"x2\",\"y\":1.3,\"yref\":\"y2\"},{\"bgcolor\":\"rgba(255, 255, 255, 0.9)\",\"bordercolor\":\"black\",\"borderwidth\":1,\"font\":{\"color\":\"black\",\"size\":10},\"showarrow\":false,\"text\":\"Conscientious\",\"x\":0.8062964677810669,\"xref\":\"x2\",\"y\":0.75,\"yref\":\"y2\"},{\"bgcolor\":\"rgba(255, 255, 255, 0.9)\",\"bordercolor\":\"black\",\"borderwidth\":1,\"font\":{\"color\":\"black\",\"size\":10},\"showarrow\":false,\"text\":\"Strategic\",\"x\":0.839154064655304,\"xref\":\"x2\",\"y\":1.75,\"yref\":\"y2\"},{\"bgcolor\":\"rgba(255, 255, 255, 0.9)\",\"bordercolor\":\"black\",\"borderwidth\":1,\"font\":{\"color\":\"black\",\"size\":10},\"showarrow\":false,\"text\":\"Diplomatic\",\"x\":0.8543459177017212,\"xref\":\"x2\",\"y\":0.3,\"yref\":\"y2\"},{\"bgcolor\":\"rgba(255, 255, 255, 0.9)\",\"bordercolor\":\"red\",\"borderwidth\":1,\"font\":{\"color\":\"red\",\"size\":14},\"showarrow\":false,\"text\":\"Assistant\",\"x\":0.5976783633232117,\"xref\":\"x2\",\"y\":2,\"yref\":\"y2\"}],\"shapes\":[{\"line\":{\"color\":\"gray\",\"dash\":\"solid\",\"width\":1},\"opacity\":0.7,\"type\":\"line\",\"x0\":0,\"x1\":0,\"xref\":\"x\",\"y0\":0,\"y1\":1,\"yref\":\"y domain\"},{\"line\":{\"color\":\"red\",\"dash\":\"dash\",\"width\":1},\"opacity\":1.0,\"type\":\"line\",\"x0\":0.5784309506416321,\"x1\":0.5784309506416321,\"xref\":\"x\",\"y0\":0,\"y1\":1,\"yref\":\"y domain\"},{\"line\":{\"color\":\"gray\",\"dash\":\"solid\",\"width\":1},\"opacity\":0.7,\"type\":\"line\",\"x0\":0,\"x1\":0,\"xref\":\"x2\",\"y0\":0,\"y1\":1,\"yref\":\"y2 domain\"},{\"line\":{\"color\":\"red\",\"dash\":\"dash\",\"width\":1},\"opacity\":1.0,\"type\":\"line\",\"x0\":0.5976783633232117,\"x1\":0.5976783633232117,\"xref\":\"x2\",\"y0\":0,\"y1\":1,\"yref\":\"y2 domain\"}],\"title\":{\"subtitle\":{\"text\":\"Llama 3.3 70B, Layer 40 - Mean-Centered and L2 Normalized Vectors\"},\"font\":{\"size\":16},\"text\":\"PCA on Trait Vectors\",\"x\":0.5},\"height\":800,\"width\":1000,\"showlegend\":false},                        {\"responsive\": true}                    ).then(function(){\n",
       "                            \n",
       "var gd = document.getElementById('7d4d60b6-9a13-4fe7-a4e5-663675ad486d');\n",
       "var x = new MutationObserver(function (mutations, observer) {{\n",
       "        var display = window.getComputedStyle(gd).display;\n",
       "        if (!display || display === 'none') {{\n",
       "            console.log([gd, 'removed!']);\n",
       "            Plotly.purge(gd);\n",
       "            observer.disconnect();\n",
       "        }}\n",
       "}});\n",
       "\n",
       "// Listen for the removal of the full notebook cells\n",
       "var notebookContainer = gd.closest('#notebook-container');\n",
       "if (notebookContainer) {{\n",
       "    x.observe(notebookContainer, {childList: true});\n",
       "}}\n",
       "\n",
       "// Listen for the clearing of the current output cell\n",
       "var outputEl = gd.closest('.output');\n",
       "if (outputEl) {{\n",
       "    x.observe(outputEl, {childList: true});\n",
       "}}\n",
       "\n",
       "                        })                };                });            </script>        </div>"
      ]
     },
     "metadata": {},
     "output_type": "display_data"
    },
    {
     "data": {
      "application/vnd.plotly.v1+json": {
       "config": {
        "plotlyServerURL": "https://plot.ly"
       },
       "data": [
        {
         "hovertemplate": "<b>%{text}</b><br>Cosine Similarity: %{x:.3f}<extra></extra>",
         "marker": {
          "color": "limegreen",
          "line": {
           "color": "black",
           "width": 1
          },
          "opacity": 1,
          "size": 8,
          "symbol": "diamond"
         },
         "mode": "markers",
         "showlegend": false,
         "text": [
          "Zealous",
          "Wry",
          "Witty",
          "Whimsical",
          "Visceral",
          "Vindictive",
          "Verbose",
          "Utilitarian",
          "Urgent",
          "Universalist",
          "Understated",
          "Transparent",
          "Traditional",
          "Theoretical",
          "Theatrical",
          "Temperamental",
          "Technical",
          "Tactful",
          "Systems Thinker",
          "Sycophantic",
          "Supportive",
          "Subversive",
          "Submissive",
          "Structuralist",
          "Stream Of Consciousness",
          "Strategic",
          "Stoic",
          "Spontaneous",
          "Spiritual",
          "Specialized",
          "Solemn",
          "Socratic",
          "Skeptical",
          "Serious",
          "Serene",
          "Secular",
          "Savage",
          "Sassy",
          "Sardonic",
          "Sarcastic",
          "Ritualistic",
          "Risk Taking",
          "Reverent",
          "Resilient",
          "Relativist",
          "Regulatory",
          "Rebellious",
          "Reactive",
          "Radical",
          "Quantitative",
          "Qualitative",
          "Provocative",
          "Progressive",
          "Problem Solving",
          "Proactive",
          "Principled",
          "Prescriptive",
          "Practical",
          "Pluralist",
          "Playful",
          "Petty",
          "Pessimistic",
          "Perfectionist",
          "Pensive",
          "Pedantic",
          "Patient",
          "Passive Aggressive",
          "Passionate",
          "Paranoid",
          "Paradoxical",
          "Pacifist",
          "Optimistic",
          "Open Ended",
          "Obsessive",
          "Nurturing",
          "Nostalgic",
          "Nonchalant",
          "Nihilistic",
          "Neurotic",
          "Narrative",
          "Naive",
          "Mystical",
          "Moderate",
          "Mischievous",
          "Misanthropic",
          "Militant",
          "Meticulous",
          "Methodical",
          "Mercurial",
          "Melodramatic",
          "Melancholic",
          "Meditative",
          "Manipulative",
          "Manic",
          "Libertarian",
          "Judgmental",
          "Irreverent",
          "Ironic",
          "Intuitive",
          "Introverted",
          "Introspective",
          "Interdisciplinary",
          "Inspirational",
          "Inquisitive",
          "Innovative",
          "Individualistic",
          "Independent",
          "Inclusive",
          "Impulsive",
          "Improvisational",
          "Impatient",
          "Idealistic",
          "Iconoclastic",
          "Humble",
          "Humanistic",
          "Hostile",
          "Holistic",
          "Historical",
          "Hedonistic",
          "Gregarious",
          "Grandiose",
          "Goofy",
          "Generous",
          "Generalist",
          "Futuristic",
          "Fundamentalist",
          "Formalist",
          "Formal",
          "Forgiving",
          "Flirty",
          "Flippant",
          "Flexible",
          "Fatalistic",
          "Factual",
          "Extroverted",
          "Exploratory",
          "Experiential",
          "Existentialist",
          "Evil",
          "Ethereal",
          "Essentialist",
          "Esoteric",
          "Erudite",
          "Epicurean",
          "Environmental",
          "Entertaining",
          "Enigmatic",
          "Empathetic",
          "Emotional",
          "Eloquent",
          "Elitist",
          "Egalitarian",
          "Effusive",
          "Efficient",
          "Educational",
          "Edgy",
          "Eclectic",
          "Earnest",
          "Dominant",
          "Dogmatic",
          "Divergent",
          "Disorganized",
          "Diplomatic",
          "Deterministic",
          "Descriptive",
          "Deontological",
          "Deferential",
          "Deconstructionist",
          "Decisive",
          "Data Driven",
          "Cynical",
          "Curious",
          "Cryptic",
          "Cruel",
          "Critical",
          "Cosmopolitan",
          "Contrarian",
          "Contemporary",
          "Constructivist",
          "Conscientious",
          "Confrontational",
          "Confident",
          "Condescending",
          "Concise",
          "Conciliatory",
          "Conceptual",
          "Competitive",
          "Collectivistic",
          "Collaborative",
          "Closure Seeking",
          "Circumspect",
          "Chill",
          "Charismatic",
          "Chaotic",
          "Challenging",
          "Cautious",
          "Casual",
          "Calm",
          "Callous",
          "Calculating",
          "Bombastic",
          "Bitter",
          "Big Picture",
          "Benevolent",
          "Avoidant",
          "Assertive",
          "Ascetic",
          "Arrogant",
          "Anxious",
          "Anthropocentric",
          "Analytical",
          "Altruistic",
          "Agreeable",
          "Adventurous",
          "Adaptable",
          "Acerbic",
          "Accommodating",
          "Accessible",
          "Abstract",
          "Absolutist"
         ],
         "type": "scatter",
         "x": [
          -0.5668911337852478,
          -0.038978513330221176,
          -0.675936758518219,
          -0.699431836605072,
          -0.1690763235092163,
          0.22486059367656708,
          -0.44551339745521545,
          0.21888066828250885,
          0.15886373817920685,
          0.21663977205753326,
          0.39730241894721985,
          0.280413419008255,
          0.4349810481071472,
          -0.41958847641944885,
          -0.678351640701294,
          -0.27049964666366577,
          -0.029402904212474823,
          -0.3032301664352417,
          -0.47922611236572266,
          -0.20998066663742065,
          -0.37831050157546997,
          -0.4840192198753357,
          0.013745675794780254,
          0.12333796918392181,
          -0.527872622013092,
          -0.254557728767395,
          0.44151973724365234,
          -0.6969737410545349,
          -0.6748366355895996,
          -0.2053772658109665,
          0.036649707704782486,
          -0.1789223849773407,
          -0.03386060148477554,
          0.25291380286216736,
          -0.23247477412223816,
          0.38366103172302246,
          0.22265608608722687,
          -0.12485992163419724,
          0.020165681838989258,
          0.035543885082006454,
          0.044722095131874084,
          -0.6131294965744019,
          -0.17531253397464752,
          -0.07441823184490204,
          -0.3117527365684509,
          0.4601476192474365,
          -0.5416479110717773,
          -0.059281568974256516,
          -0.37344038486480713,
          0.38187941908836365,
          -0.6299619078636169,
          -0.4737652838230133,
          -0.38833028078079224,
          -0.0014982393477112055,
          -0.35686883330345154,
          -0.14809247851371765,
          0.3936677873134613,
          0.38152453303337097,
          -0.30166956782341003,
          -0.5169715881347656,
          -0.015992246568202972,
          0.11584478616714478,
          -0.14387445151805878,
          -0.5455644726753235,
          -0.1259729564189911,
          -0.21578769385814667,
          -0.05999673902988434,
          -0.6539003849029541,
          -0.13783785700798035,
          -0.5665307641029358,
          -0.36602532863616943,
          -0.1647975742816925,
          -0.43266528844833374,
          -0.22879435122013092,
          -0.4841843247413635,
          -0.27858245372772217,
          0.21440690755844116,
          -0.09017003327608109,
          -0.006645676214247942,
          -0.5661296248435974,
          0.08228105306625366,
          -0.6701160073280334,
          0.10439115017652512,
          -0.3608357608318329,
          -0.055871281772851944,
          -0.0239910539239645,
          -0.032763414084911346,
          0.2846554219722748,
          -0.28092536330223083,
          -0.6538078784942627,
          -0.03711656853556633,
          -0.43711841106414795,
          -0.08188363164663315,
          -0.3699333369731903,
          -0.13812187314033508,
          0.06855688989162445,
          -0.09334743022918701,
          -0.1593828797340393,
          -0.6853788495063782,
          -0.029216494411230087,
          -0.562141478061676,
          -0.39173567295074463,
          -0.2508173882961273,
          -0.24638231098651886,
          -0.5651446580886841,
          -0.44145768880844116,
          -0.21210579574108124,
          -0.3948005735874176,
          0.06613530218601227,
          -0.5377368927001953,
          0.2333686500787735,
          -0.39302751421928406,
          -0.3004000782966614,
          -0.16402432322502136,
          -0.4904874265193939,
          0.1663193255662918,
          -0.5066216588020325,
          -0.21106313169002533,
          -0.3001251518726349,
          -0.6146437525749207,
          -0.4484558701515198,
          -0.21557369828224182,
          -0.5191035866737366,
          -0.22872769832611084,
          -0.38768523931503296,
          0.3080551028251648,
          0.46500974893569946,
          0.09917545318603516,
          -0.4190250635147095,
          -0.4638103246688843,
          0.03582415357232094,
          -0.10241016000509262,
          -0.15995319187641144,
          0.36974045634269714,
          -0.5046055912971497,
          -0.4695259928703308,
          0.03018062561750412,
          -0.3540225327014923,
          -0.0976652279496193,
          -0.5990810394287109,
          0.21040524542331696,
          -0.3454688489437103,
          -0.35077792406082153,
          -0.6296169757843018,
          -0.3407014012336731,
          -0.6524144411087036,
          -0.5380140542984009,
          -0.6779146194458008,
          -0.717397928237915,
          -0.7171993255615234,
          -0.06513483822345734,
          -0.3428703546524048,
          -0.5871486067771912,
          0.44313061237335205,
          -0.219954252243042,
          -0.1526615470647812,
          -0.604949414730072,
          -0.26075315475463867,
          0.1412869393825531,
          0.15287798643112183,
          -0.4492386281490326,
          -0.1056961864233017,
          -0.0349881537258625,
          -0.05649686977267265,
          0.3882681131362915,
          -0.000939856399782002,
          -0.0064400676637887955,
          -0.46622902154922485,
          0.22273434698581696,
          0.409000039100647,
          0.11560378223657608,
          -0.649381160736084,
          -0.5952258110046387,
          0.25799283385276794,
          -0.3678756058216095,
          -0.26822513341903687,
          -0.3676568865776062,
          -0.0032037922646850348,
          -0.4921126961708069,
          -0.10247521102428436,
          0.16103777289390564,
          0.13164955377578735,
          -0.05302201211452484,
          0.42729032039642334,
          -0.04013796150684357,
          -0.40870755910873413,
          -0.080764040350914,
          -0.07357492297887802,
          -0.17346908152103424,
          0.40584200620651245,
          -0.3768187463283539,
          -0.2216225117444992,
          -0.6831069588661194,
          -0.5652607679367065,
          -0.295045405626297,
          -0.00814943015575409,
          -0.1666748821735382,
          0.0901326909661293,
          0.3736024796962738,
          -0.12872982025146484,
          -0.48106229305267334,
          0.030317451804876328,
          -0.4314529597759247,
          -0.2893853187561035,
          0.2621830105781555,
          -0.05026973411440849,
          -0.06823065131902695,
          0.01732884906232357,
          0.0273307953029871,
          0.05043143033981323,
          0.1899046003818512,
          -0.17808613181114197,
          -0.2290283590555191,
          -0.6193270087242126,
          -0.2676613926887512,
          0.08569540828466415,
          -0.39202937483787537,
          0.19807219505310059,
          -0.46135711669921875,
          0.2066396176815033
         ],
         "xaxis": "x",
         "y": [
          1,
          1,
          1,
          1,
          1,
          1,
          1,
          1,
          1,
          1,
          1,
          1,
          1,
          1,
          1,
          1,
          1,
          1,
          1,
          1,
          1,
          1,
          1,
          1,
          1,
          1,
          1,
          1,
          1,
          1,
          1,
          1,
          1,
          1,
          1,
          1,
          1,
          1,
          1,
          1,
          1,
          1,
          1,
          1,
          1,
          1,
          1,
          1,
          1,
          1,
          1,
          1,
          1,
          1,
          1,
          1,
          1,
          1,
          1,
          1,
          1,
          1,
          1,
          1,
          1,
          1,
          1,
          1,
          1,
          1,
          1,
          1,
          1,
          1,
          1,
          1,
          1,
          1,
          1,
          1,
          1,
          1,
          1,
          1,
          1,
          1,
          1,
          1,
          1,
          1,
          1,
          1,
          1,
          1,
          1,
          1,
          1,
          1,
          1,
          1,
          1,
          1,
          1,
          1,
          1,
          1,
          1,
          1,
          1,
          1,
          1,
          1,
          1,
          1,
          1,
          1,
          1,
          1,
          1,
          1,
          1,
          1,
          1,
          1,
          1,
          1,
          1,
          1,
          1,
          1,
          1,
          1,
          1,
          1,
          1,
          1,
          1,
          1,
          1,
          1,
          1,
          1,
          1,
          1,
          1,
          1,
          1,
          1,
          1,
          1,
          1,
          1,
          1,
          1,
          1,
          1,
          1,
          1,
          1,
          1,
          1,
          1,
          1,
          1,
          1,
          1,
          1,
          1,
          1,
          1,
          1,
          1,
          1,
          1,
          1,
          1,
          1,
          1,
          1,
          1,
          1,
          1,
          1,
          1,
          1,
          1,
          1,
          1,
          1,
          1,
          1,
          1,
          1,
          1,
          1,
          1,
          1,
          1,
          1,
          1,
          1,
          1,
          1,
          1,
          1,
          1,
          1,
          1,
          1,
          1,
          1,
          1,
          1,
          1,
          1,
          1,
          1,
          1,
          1,
          1
         ],
         "yaxis": "y"
        },
        {
         "hovertemplate": "<b>%{text}</b><br>Cosine Similarity: %{x:.3f}<extra></extra>",
         "marker": {
          "color": "limegreen",
          "line": {
           "color": "black",
           "width": 1
          },
          "opacity": 1,
          "size": 8,
          "symbol": "diamond"
         },
         "mode": "markers",
         "showlegend": false,
         "text": [
          "Speculative",
          "Romantic",
          "Rhetorical",
          "Reserved",
          "Reductionist",
          "Rationalist",
          "Poetic",
          "Philosophical",
          "Metaphorical",
          "Materialist",
          "Literal",
          "Grounded",
          "Dramatic",
          "Dispassionate",
          "Detached",
          "Creative",
          "Convergent",
          "Blunt",
          "Artistic",
          "Animated"
         ],
         "type": "scatter",
         "x": [
          -0.7806975841522217,
          -0.766563892364502,
          -0.7808343172073364,
          0.7070375084877014,
          0.5608267188072205,
          0.6581432223320007,
          -0.7937059998512268,
          -0.7615472078323364,
          -0.8056854009628296,
          0.5385770797729492,
          0.5999581217765808,
          0.6300870180130005,
          -0.7359841465950012,
          0.6796743869781494,
          0.6687648892402649,
          -0.8011528849601746,
          0.5158678293228149,
          0.49657484889030457,
          -0.8357745409011841,
          -0.7440164685249329
         ],
         "xaxis": "x",
         "y": [
          1,
          1,
          1,
          1,
          1,
          1,
          1,
          1,
          1,
          1,
          1,
          1,
          1,
          1,
          1,
          1,
          1,
          1,
          1,
          1
         ],
         "yaxis": "y"
        },
        {
         "hoverinfo": "skip",
         "line": {
          "color": "black",
          "width": 1
         },
         "mode": "lines",
         "showlegend": false,
         "type": "scatter",
         "x": [
          -0.8357745409011841,
          -0.8357745409011841
         ],
         "xaxis": "x",
         "y": [
          1,
          1.45
         ],
         "yaxis": "y"
        },
        {
         "hoverinfo": "skip",
         "line": {
          "color": "black",
          "width": 1
         },
         "mode": "lines",
         "showlegend": false,
         "type": "scatter",
         "x": [
          -0.8056854009628296,
          -0.8056854009628296
         ],
         "xaxis": "x",
         "y": [
          1,
          0.6
         ],
         "yaxis": "y"
        },
        {
         "hoverinfo": "skip",
         "line": {
          "color": "black",
          "width": 1
         },
         "mode": "lines",
         "showlegend": false,
         "type": "scatter",
         "x": [
          -0.8011528849601746,
          -0.8011528849601746
         ],
         "xaxis": "x",
         "y": [
          1,
          1.9
         ],
         "yaxis": "y"
        },
        {
         "hoverinfo": "skip",
         "line": {
          "color": "black",
          "width": 1
         },
         "mode": "lines",
         "showlegend": false,
         "type": "scatter",
         "x": [
          -0.7937059998512268,
          -0.7937059998512268
         ],
         "xaxis": "x",
         "y": [
          1,
          0.15
         ],
         "yaxis": "y"
        },
        {
         "hoverinfo": "skip",
         "line": {
          "color": "black",
          "width": 1
         },
         "mode": "lines",
         "showlegend": false,
         "type": "scatter",
         "x": [
          -0.7808343172073364,
          -0.7808343172073364
         ],
         "xaxis": "x",
         "y": [
          1,
          1.6
         ],
         "yaxis": "y"
        },
        {
         "hoverinfo": "skip",
         "line": {
          "color": "black",
          "width": 1
         },
         "mode": "lines",
         "showlegend": false,
         "type": "scatter",
         "x": [
          -0.7806975841522217,
          -0.7806975841522217
         ],
         "xaxis": "x",
         "y": [
          1,
          0.45
         ],
         "yaxis": "y"
        },
        {
         "hoverinfo": "skip",
         "line": {
          "color": "black",
          "width": 1
         },
         "mode": "lines",
         "showlegend": false,
         "type": "scatter",
         "x": [
          -0.766563892364502,
          -0.766563892364502
         ],
         "xaxis": "x",
         "y": [
          1,
          1.3
         ],
         "yaxis": "y"
        },
        {
         "hoverinfo": "skip",
         "line": {
          "color": "black",
          "width": 1
         },
         "mode": "lines",
         "showlegend": false,
         "type": "scatter",
         "x": [
          -0.7615472078323364,
          -0.7615472078323364
         ],
         "xaxis": "x",
         "y": [
          1,
          0.75
         ],
         "yaxis": "y"
        },
        {
         "hoverinfo": "skip",
         "line": {
          "color": "black",
          "width": 1
         },
         "mode": "lines",
         "showlegend": false,
         "type": "scatter",
         "x": [
          -0.7440164685249329,
          -0.7440164685249329
         ],
         "xaxis": "x",
         "y": [
          1,
          1.75
         ],
         "yaxis": "y"
        },
        {
         "hoverinfo": "skip",
         "line": {
          "color": "black",
          "width": 1
         },
         "mode": "lines",
         "showlegend": false,
         "type": "scatter",
         "x": [
          -0.7359841465950012,
          -0.7359841465950012
         ],
         "xaxis": "x",
         "y": [
          1,
          0.3
         ],
         "yaxis": "y"
        },
        {
         "hoverinfo": "skip",
         "line": {
          "color": "black",
          "width": 1
         },
         "mode": "lines",
         "showlegend": false,
         "type": "scatter",
         "x": [
          0.49657484889030457,
          0.49657484889030457
         ],
         "xaxis": "x",
         "y": [
          1,
          1.45
         ],
         "yaxis": "y"
        },
        {
         "hoverinfo": "skip",
         "line": {
          "color": "black",
          "width": 1
         },
         "mode": "lines",
         "showlegend": false,
         "type": "scatter",
         "x": [
          0.5158678293228149,
          0.5158678293228149
         ],
         "xaxis": "x",
         "y": [
          1,
          0.6
         ],
         "yaxis": "y"
        },
        {
         "hoverinfo": "skip",
         "line": {
          "color": "black",
          "width": 1
         },
         "mode": "lines",
         "showlegend": false,
         "type": "scatter",
         "x": [
          0.5385770797729492,
          0.5385770797729492
         ],
         "xaxis": "x",
         "y": [
          1,
          1.9
         ],
         "yaxis": "y"
        },
        {
         "hoverinfo": "skip",
         "line": {
          "color": "black",
          "width": 1
         },
         "mode": "lines",
         "showlegend": false,
         "type": "scatter",
         "x": [
          0.5608267188072205,
          0.5608267188072205
         ],
         "xaxis": "x",
         "y": [
          1,
          0.15
         ],
         "yaxis": "y"
        },
        {
         "hoverinfo": "skip",
         "line": {
          "color": "black",
          "width": 1
         },
         "mode": "lines",
         "showlegend": false,
         "type": "scatter",
         "x": [
          0.5999581217765808,
          0.5999581217765808
         ],
         "xaxis": "x",
         "y": [
          1,
          1.6
         ],
         "yaxis": "y"
        },
        {
         "hoverinfo": "skip",
         "line": {
          "color": "black",
          "width": 1
         },
         "mode": "lines",
         "showlegend": false,
         "type": "scatter",
         "x": [
          0.6300870180130005,
          0.6300870180130005
         ],
         "xaxis": "x",
         "y": [
          1,
          0.45
         ],
         "yaxis": "y"
        },
        {
         "hoverinfo": "skip",
         "line": {
          "color": "black",
          "width": 1
         },
         "mode": "lines",
         "showlegend": false,
         "type": "scatter",
         "x": [
          0.6581432223320007,
          0.6581432223320007
         ],
         "xaxis": "x",
         "y": [
          1,
          1.3
         ],
         "yaxis": "y"
        },
        {
         "hoverinfo": "skip",
         "line": {
          "color": "black",
          "width": 1
         },
         "mode": "lines",
         "showlegend": false,
         "type": "scatter",
         "x": [
          0.6687648892402649,
          0.6687648892402649
         ],
         "xaxis": "x",
         "y": [
          1,
          0.75
         ],
         "yaxis": "y"
        },
        {
         "hoverinfo": "skip",
         "line": {
          "color": "black",
          "width": 1
         },
         "mode": "lines",
         "showlegend": false,
         "type": "scatter",
         "x": [
          0.6796743869781494,
          0.6796743869781494
         ],
         "xaxis": "x",
         "y": [
          1,
          1.75
         ],
         "yaxis": "y"
        },
        {
         "hoverinfo": "skip",
         "line": {
          "color": "black",
          "width": 1
         },
         "mode": "lines",
         "showlegend": false,
         "type": "scatter",
         "x": [
          0.7070375084877014,
          0.7070375084877014
         ],
         "xaxis": "x",
         "y": [
          1,
          0.3
         ],
         "yaxis": "y"
        },
        {
         "hoverinfo": "skip",
         "marker": {
          "color": "limegreen"
         },
         "opacity": 0.7,
         "showlegend": false,
         "type": "bar",
         "width": 0.04114165306091309,
         "x": [
          -0.810060977935791,
          -0.7586339712142944,
          -0.7072068452835083,
          -0.6557798385620117,
          -0.6043527126312256,
          -0.552925705909729,
          -0.5014985799789429,
          -0.4500715136528015,
          -0.39864444732666016,
          -0.3472173810005188,
          -0.29579031467437744,
          -0.24436324834823608,
          -0.19293618202209473,
          -0.14150911569595337,
          -0.09008204936981201,
          -0.038654983043670654,
          0.012772086076438427,
          0.06419915705919266,
          0.11562623083591461,
          0.16705329716205597,
          0.21848036348819733,
          0.2699074149131775,
          0.32133448123931885,
          0.3727615773677826,
          0.42418864369392395,
          0.4756157100200653,
          0.5270427465438843,
          0.5784698724746704,
          0.629896879196167,
          0.6813240051269531
         ],
         "xaxis": "x",
         "y": [
          0.225,
          0.3375,
          0.3375,
          0.50625,
          0.50625,
          0.61875,
          0.5625,
          0.675,
          0.675,
          0.61875,
          0.5625,
          0.675,
          0.61875,
          0.7312500000000001,
          0.675,
          0.9,
          0.84375,
          0.3375,
          0.45,
          0.28125,
          0.5625,
          0.28125,
          0.05625,
          0.45,
          0.3375,
          0.16875,
          0.1125,
          0.1125,
          0.05625,
          0.225
         ],
         "yaxis": "y"
        },
        {
         "hovertemplate": "<b>%{text}</b><br>PC Projection: %{x:.3f}<extra></extra>",
         "marker": {
          "color": "limegreen",
          "line": {
           "color": "black",
           "width": 1
          },
          "opacity": 1,
          "size": 8,
          "symbol": "diamond"
         },
         "mode": "markers",
         "showlegend": false,
         "text": [
          "Zealous",
          "Wry",
          "Witty",
          "Whimsical",
          "Visceral",
          "Vindictive",
          "Verbose",
          "Utilitarian",
          "Urgent",
          "Universalist",
          "Understated",
          "Transparent",
          "Traditional",
          "Theoretical",
          "Theatrical",
          "Temperamental",
          "Technical",
          "Tactful",
          "Systems Thinker",
          "Sycophantic",
          "Supportive",
          "Subversive",
          "Submissive",
          "Structuralist",
          "Stream Of Consciousness",
          "Strategic",
          "Stoic",
          "Spontaneous",
          "Spiritual",
          "Speculative",
          "Specialized",
          "Solemn",
          "Socratic",
          "Skeptical",
          "Serious",
          "Serene",
          "Secular",
          "Savage",
          "Sassy",
          "Sardonic",
          "Sarcastic",
          "Ritualistic",
          "Risk Taking",
          "Reverent",
          "Resilient",
          "Relativist",
          "Regulatory",
          "Rebellious",
          "Reactive",
          "Radical",
          "Quantitative",
          "Qualitative",
          "Provocative",
          "Progressive",
          "Problem Solving",
          "Proactive",
          "Principled",
          "Prescriptive",
          "Practical",
          "Pluralist",
          "Playful",
          "Petty",
          "Pessimistic",
          "Perfectionist",
          "Pensive",
          "Pedantic",
          "Patient",
          "Passive Aggressive",
          "Passionate",
          "Paranoid",
          "Paradoxical",
          "Pacifist",
          "Optimistic",
          "Open Ended",
          "Obsessive",
          "Nurturing",
          "Nostalgic",
          "Nonchalant",
          "Nihilistic",
          "Neurotic",
          "Narrative",
          "Naive",
          "Mystical",
          "Moderate",
          "Mischievous",
          "Misanthropic",
          "Militant",
          "Meticulous",
          "Methodical",
          "Mercurial",
          "Melodramatic",
          "Melancholic",
          "Meditative",
          "Manipulative",
          "Manic",
          "Libertarian",
          "Judgmental",
          "Irreverent",
          "Ironic",
          "Intuitive",
          "Introverted",
          "Introspective",
          "Interdisciplinary",
          "Inspirational",
          "Inquisitive",
          "Innovative",
          "Individualistic",
          "Independent",
          "Inclusive",
          "Impulsive",
          "Improvisational",
          "Impatient",
          "Idealistic",
          "Iconoclastic",
          "Humble",
          "Humanistic",
          "Hostile",
          "Holistic",
          "Historical",
          "Hedonistic",
          "Gregarious",
          "Grandiose",
          "Goofy",
          "Generous",
          "Generalist",
          "Futuristic",
          "Fundamentalist",
          "Formal",
          "Forgiving",
          "Flirty",
          "Flippant",
          "Flexible",
          "Fatalistic",
          "Factual",
          "Extroverted",
          "Exploratory",
          "Experiential",
          "Existentialist",
          "Evil",
          "Ethereal",
          "Essentialist",
          "Esoteric",
          "Erudite",
          "Epicurean",
          "Environmental",
          "Entertaining",
          "Enigmatic",
          "Empathetic",
          "Emotional",
          "Elitist",
          "Egalitarian",
          "Effusive",
          "Efficient",
          "Educational",
          "Edgy",
          "Eclectic",
          "Earnest",
          "Dominant",
          "Dogmatic",
          "Divergent",
          "Disorganized",
          "Diplomatic",
          "Deterministic",
          "Descriptive",
          "Deontological",
          "Deferential",
          "Deconstructionist",
          "Decisive",
          "Data Driven",
          "Cynical",
          "Curious",
          "Cryptic",
          "Cruel",
          "Critical",
          "Cosmopolitan",
          "Contrarian",
          "Contemporary",
          "Constructivist",
          "Conscientious",
          "Confrontational",
          "Confident",
          "Condescending",
          "Concise",
          "Conciliatory",
          "Conceptual",
          "Competitive",
          "Collectivistic",
          "Collaborative",
          "Closure Seeking",
          "Circumspect",
          "Chill",
          "Charismatic",
          "Chaotic",
          "Challenging",
          "Cautious",
          "Casual",
          "Calm",
          "Callous",
          "Calculating",
          "Bombastic",
          "Blunt",
          "Bitter",
          "Big Picture",
          "Benevolent",
          "Avoidant",
          "Assertive",
          "Ascetic",
          "Arrogant",
          "Anxious",
          "Anthropocentric",
          "Analytical",
          "Altruistic",
          "Agreeable",
          "Adventurous",
          "Adaptable",
          "Acerbic",
          "Accommodating",
          "Accessible",
          "Abstract",
          "Absolutist"
         ],
         "type": "scatter",
         "x": [
          -0.45849281549453735,
          0.1225600466132164,
          -0.6082054376602173,
          -0.6443305015563965,
          0.014226092025637627,
          0.4222649931907654,
          -0.31525975465774536,
          0.47992727160453796,
          0.33401742577552795,
          0.5968019366264343,
          0.4892069101333618,
          0.41853612661361694,
          0.5808326601982117,
          -0.2252170294523239,
          -0.638081431388855,
          -0.1144757866859436,
          0.15344436466693878,
          -0.09983650594949722,
          -0.24637091159820557,
          -0.05265147238969803,
          -0.2512902617454529,
          -0.32432082295417786,
          0.18273037672042847,
          0.3291621804237366,
          -0.3195599615573883,
          -0.11643889546394348,
          0.6011283993721008,
          -0.5925481915473938,
          -0.5703557133674622,
          -0.5993028283119202,
          -0.020606866106390953,
          0.1791752427816391,
          -0.004955747164785862,
          0.2798226475715637,
          0.39046594500541687,
          -0.08713750541210175,
          0.5445302724838257,
          0.3926108777523041,
          0.027714861556887627,
          0.176031231880188,
          0.20480532944202423,
          0.19971948862075806,
          -0.359162300825119,
          0.007339863572269678,
          0.0629286915063858,
          -0.12221430987119675,
          0.6382732391357422,
          -0.3407190442085266,
          0.08771559596061707,
          -0.18613040447235107,
          0.5293559432029724,
          -0.46259385347366333,
          -0.2796795070171356,
          -0.12047876417636871,
          0.17184998095035553,
          -0.17574036121368408,
          0.22838017344474792,
          0.5844223499298096,
          0.5199275612831116,
          0.07263898849487305,
          -0.37962448596954346,
          0.13938596844673157,
          0.3331698477268219,
          0.05077432841062546,
          -0.43140801787376404,
          0.1210966631770134,
          -0.06745055317878723,
          0.09374480694532394,
          -0.5536841750144958,
          0.05409764498472214,
          -0.3608265221118927,
          -0.05204729735851288,
          0.027763918042182922,
          -0.20448850095272064,
          -0.041318610310554504,
          -0.35664981603622437,
          -0.07996493577957153,
          0.32875946164131165,
          0.040157534182071686,
          0.139066681265831,
          -0.4413036108016968,
          0.20475466549396515,
          -0.5736714601516724,
          0.2497052550315857,
          -0.21635602414608002,
          0.09416382759809494,
          0.13943418860435486,
          0.1313074678182602,
          0.4230738878250122,
          -0.10763755440711975,
          -0.6070249676704407,
          0.1197870522737503,
          -0.325839638710022,
          0.07176635414361954,
          -0.2329902946949005,
          0.13592596352100372,
          0.24796724319458008,
          0.0598626472055912,
          -0.005529254209250212,
          -0.5119261741638184,
          0.16243301331996918,
          -0.39017120003700256,
          -0.07361748814582825,
          -0.10713717341423035,
          -0.046726856380701065,
          -0.37523144483566284,
          -0.1342666745185852,
          -0.02710556797683239,
          -0.140144482254982,
          0.21599000692367554,
          -0.3083394169807434,
          0.36262643337249756,
          -0.09670621156692505,
          -0.0662001445889473,
          0.1287037581205368,
          -0.2593582570552826,
          0.3143610954284668,
          -0.3267393410205841,
          0.041197337210178375,
          -0.12059042602777481,
          -0.45601755380630493,
          -0.33534279465675354,
          -0.08406025916337967,
          -0.4118886888027191,
          -0.04563283175230026,
          -0.16382178664207458,
          0.5129178762435913,
          0.2562568187713623,
          -0.042182307690382004,
          -0.3539806604385376,
          0.15867166221141815,
          0.05666438490152359,
          -0.0006277262582443655,
          0.5383406281471252,
          -0.3150087296962738,
          -0.2881658971309662,
          0.22201548516750336,
          -0.15731428563594818,
          0.06193861365318298,
          -0.509436309337616,
          0.44016316533088684,
          -0.1970095932483673,
          -0.2027590423822403,
          -0.5284965634346008,
          -0.13808825612068176,
          -0.5486444234848022,
          -0.4574134945869446,
          -0.48274779319763184,
          -0.584065318107605,
          0.1362174153327942,
          -0.07310628145933151,
          -0.4850982427597046,
          0.5588951706886292,
          -0.08375626057386398,
          0.0034259920939803123,
          -0.41732102632522583,
          -0.1176321730017662,
          0.4063926935195923,
          0.3297809660434723,
          -0.2379886358976364,
          0.03069514036178589,
          0.13426724076271057,
          0.09709782898426056,
          0.5381268262863159,
          0.3515450954437256,
          0.27102214097976685,
          -0.259298175573349,
          0.3816679120063782,
          0.5944706201553345,
          0.3168887197971344,
          -0.540972888469696,
          -0.5279916524887085,
          0.4130319654941559,
          -0.15715564787387848,
          -0.05730753019452095,
          -0.11404150724411011,
          0.316305011510849,
          -0.2588385045528412,
          0.015307296067476273,
          0.41809818148612976,
          0.33767080307006836,
          0.14694719016551971,
          0.5327526330947876,
          0.10641857236623764,
          -0.1705097258090973,
          0.10097228735685349,
          0.17519810795783997,
          0.05397656932473183,
          0.5941645503044128,
          -0.18197886645793915,
          -0.05263412743806839,
          -0.6178511381149292,
          -0.39541903138160706,
          -0.0589403472840786,
          0.23345407843589783,
          -0.008592134341597557,
          0.23754607141017914,
          0.5148263573646545,
          0.061533547937870026,
          -0.408293753862381,
          0.6256299614906311,
          0.1890031397342682,
          -0.17075751721858978,
          -0.11206575483083725,
          0.4143191874027252,
          0.2231212705373764,
          0.1236686185002327,
          0.2090718299150467,
          0.17870698869228363,
          0.44260117411613464,
          0.36207571625709534,
          0.015768038108944893,
          -0.05983101576566696,
          -0.44588354229927063,
          -0.07827995717525482,
          0.2571975588798523,
          -0.11346317827701569,
          0.3130773603916168,
          -0.22864001989364624,
          0.4567609131336212
         ],
         "xaxis": "x2",
         "y": [
          1,
          1,
          1,
          1,
          1,
          1,
          1,
          1,
          1,
          1,
          1,
          1,
          1,
          1,
          1,
          1,
          1,
          1,
          1,
          1,
          1,
          1,
          1,
          1,
          1,
          1,
          1,
          1,
          1,
          1,
          1,
          1,
          1,
          1,
          1,
          1,
          1,
          1,
          1,
          1,
          1,
          1,
          1,
          1,
          1,
          1,
          1,
          1,
          1,
          1,
          1,
          1,
          1,
          1,
          1,
          1,
          1,
          1,
          1,
          1,
          1,
          1,
          1,
          1,
          1,
          1,
          1,
          1,
          1,
          1,
          1,
          1,
          1,
          1,
          1,
          1,
          1,
          1,
          1,
          1,
          1,
          1,
          1,
          1,
          1,
          1,
          1,
          1,
          1,
          1,
          1,
          1,
          1,
          1,
          1,
          1,
          1,
          1,
          1,
          1,
          1,
          1,
          1,
          1,
          1,
          1,
          1,
          1,
          1,
          1,
          1,
          1,
          1,
          1,
          1,
          1,
          1,
          1,
          1,
          1,
          1,
          1,
          1,
          1,
          1,
          1,
          1,
          1,
          1,
          1,
          1,
          1,
          1,
          1,
          1,
          1,
          1,
          1,
          1,
          1,
          1,
          1,
          1,
          1,
          1,
          1,
          1,
          1,
          1,
          1,
          1,
          1,
          1,
          1,
          1,
          1,
          1,
          1,
          1,
          1,
          1,
          1,
          1,
          1,
          1,
          1,
          1,
          1,
          1,
          1,
          1,
          1,
          1,
          1,
          1,
          1,
          1,
          1,
          1,
          1,
          1,
          1,
          1,
          1,
          1,
          1,
          1,
          1,
          1,
          1,
          1,
          1,
          1,
          1,
          1,
          1,
          1,
          1,
          1,
          1,
          1,
          1,
          1,
          1,
          1,
          1,
          1,
          1,
          1,
          1,
          1,
          1,
          1,
          1,
          1,
          1,
          1,
          1,
          1,
          1
         ],
         "yaxis": "y2"
        },
        {
         "hovertemplate": "<b>%{text}</b><br>PC Projection: %{x:.3f}<extra></extra>",
         "marker": {
          "color": "limegreen",
          "line": {
           "color": "black",
           "width": 1
          },
          "opacity": 1,
          "size": 8,
          "symbol": "diamond"
         },
         "mode": "markers",
         "showlegend": false,
         "text": [
          "Romantic",
          "Rhetorical",
          "Reserved",
          "Reductionist",
          "Rationalist",
          "Poetic",
          "Philosophical",
          "Metaphorical",
          "Materialist",
          "Literal",
          "Grounded",
          "Formalist",
          "Eloquent",
          "Dramatic",
          "Dispassionate",
          "Detached",
          "Creative",
          "Convergent",
          "Artistic",
          "Animated"
         ],
         "type": "scatter",
         "x": [
          -0.7135393619537354,
          -0.7516551613807678,
          0.7744714617729187,
          0.7335996627807617,
          0.7794417142868042,
          -0.7577208280563354,
          -0.6896620392799377,
          -0.7711819410324097,
          0.7295283675193787,
          0.7224426865577698,
          0.7001878619194031,
          0.6740061640739441,
          -0.6671625971794128,
          -0.7072760462760925,
          0.7600162029266357,
          0.7779844999313354,
          -0.7257822751998901,
          0.7700973153114319,
          -0.7744153141975403,
          -0.6890910267829895
         ],
         "xaxis": "x2",
         "y": [
          1,
          1,
          1,
          1,
          1,
          1,
          1,
          1,
          1,
          1,
          1,
          1,
          1,
          1,
          1,
          1,
          1,
          1,
          1,
          1
         ],
         "yaxis": "y2"
        },
        {
         "hoverinfo": "skip",
         "line": {
          "color": "black",
          "width": 1
         },
         "mode": "lines",
         "showlegend": false,
         "type": "scatter",
         "x": [
          -0.7744153141975403,
          -0.7744153141975403
         ],
         "xaxis": "x2",
         "y": [
          1,
          1.45
         ],
         "yaxis": "y2"
        },
        {
         "hoverinfo": "skip",
         "line": {
          "color": "black",
          "width": 1
         },
         "mode": "lines",
         "showlegend": false,
         "type": "scatter",
         "x": [
          -0.7711819410324097,
          -0.7711819410324097
         ],
         "xaxis": "x2",
         "y": [
          1,
          0.6
         ],
         "yaxis": "y2"
        },
        {
         "hoverinfo": "skip",
         "line": {
          "color": "black",
          "width": 1
         },
         "mode": "lines",
         "showlegend": false,
         "type": "scatter",
         "x": [
          -0.7577208280563354,
          -0.7577208280563354
         ],
         "xaxis": "x2",
         "y": [
          1,
          1.9
         ],
         "yaxis": "y2"
        },
        {
         "hoverinfo": "skip",
         "line": {
          "color": "black",
          "width": 1
         },
         "mode": "lines",
         "showlegend": false,
         "type": "scatter",
         "x": [
          -0.7516551613807678,
          -0.7516551613807678
         ],
         "xaxis": "x2",
         "y": [
          1,
          0.15
         ],
         "yaxis": "y2"
        },
        {
         "hoverinfo": "skip",
         "line": {
          "color": "black",
          "width": 1
         },
         "mode": "lines",
         "showlegend": false,
         "type": "scatter",
         "x": [
          -0.7257822751998901,
          -0.7257822751998901
         ],
         "xaxis": "x2",
         "y": [
          1,
          1.6
         ],
         "yaxis": "y2"
        },
        {
         "hoverinfo": "skip",
         "line": {
          "color": "black",
          "width": 1
         },
         "mode": "lines",
         "showlegend": false,
         "type": "scatter",
         "x": [
          -0.7135393619537354,
          -0.7135393619537354
         ],
         "xaxis": "x2",
         "y": [
          1,
          0.45
         ],
         "yaxis": "y2"
        },
        {
         "hoverinfo": "skip",
         "line": {
          "color": "black",
          "width": 1
         },
         "mode": "lines",
         "showlegend": false,
         "type": "scatter",
         "x": [
          -0.7072760462760925,
          -0.7072760462760925
         ],
         "xaxis": "x2",
         "y": [
          1,
          1.3
         ],
         "yaxis": "y2"
        },
        {
         "hoverinfo": "skip",
         "line": {
          "color": "black",
          "width": 1
         },
         "mode": "lines",
         "showlegend": false,
         "type": "scatter",
         "x": [
          -0.6896620392799377,
          -0.6896620392799377
         ],
         "xaxis": "x2",
         "y": [
          1,
          0.75
         ],
         "yaxis": "y2"
        },
        {
         "hoverinfo": "skip",
         "line": {
          "color": "black",
          "width": 1
         },
         "mode": "lines",
         "showlegend": false,
         "type": "scatter",
         "x": [
          -0.6890910267829895,
          -0.6890910267829895
         ],
         "xaxis": "x2",
         "y": [
          1,
          1.75
         ],
         "yaxis": "y2"
        },
        {
         "hoverinfo": "skip",
         "line": {
          "color": "black",
          "width": 1
         },
         "mode": "lines",
         "showlegend": false,
         "type": "scatter",
         "x": [
          -0.6671625971794128,
          -0.6671625971794128
         ],
         "xaxis": "x2",
         "y": [
          1,
          0.3
         ],
         "yaxis": "y2"
        },
        {
         "hoverinfo": "skip",
         "line": {
          "color": "black",
          "width": 1
         },
         "mode": "lines",
         "showlegend": false,
         "type": "scatter",
         "x": [
          0.6740061640739441,
          0.6740061640739441
         ],
         "xaxis": "x2",
         "y": [
          1,
          1.45
         ],
         "yaxis": "y2"
        },
        {
         "hoverinfo": "skip",
         "line": {
          "color": "black",
          "width": 1
         },
         "mode": "lines",
         "showlegend": false,
         "type": "scatter",
         "x": [
          0.7001878619194031,
          0.7001878619194031
         ],
         "xaxis": "x2",
         "y": [
          1,
          0.6
         ],
         "yaxis": "y2"
        },
        {
         "hoverinfo": "skip",
         "line": {
          "color": "black",
          "width": 1
         },
         "mode": "lines",
         "showlegend": false,
         "type": "scatter",
         "x": [
          0.7224426865577698,
          0.7224426865577698
         ],
         "xaxis": "x2",
         "y": [
          1,
          1.9
         ],
         "yaxis": "y2"
        },
        {
         "hoverinfo": "skip",
         "line": {
          "color": "black",
          "width": 1
         },
         "mode": "lines",
         "showlegend": false,
         "type": "scatter",
         "x": [
          0.7295283675193787,
          0.7295283675193787
         ],
         "xaxis": "x2",
         "y": [
          1,
          0.15
         ],
         "yaxis": "y2"
        },
        {
         "hoverinfo": "skip",
         "line": {
          "color": "black",
          "width": 1
         },
         "mode": "lines",
         "showlegend": false,
         "type": "scatter",
         "x": [
          0.7335996627807617,
          0.7335996627807617
         ],
         "xaxis": "x2",
         "y": [
          1,
          1.6
         ],
         "yaxis": "y2"
        },
        {
         "hoverinfo": "skip",
         "line": {
          "color": "black",
          "width": 1
         },
         "mode": "lines",
         "showlegend": false,
         "type": "scatter",
         "x": [
          0.7600162029266357,
          0.7600162029266357
         ],
         "xaxis": "x2",
         "y": [
          1,
          0.45
         ],
         "yaxis": "y2"
        },
        {
         "hoverinfo": "skip",
         "line": {
          "color": "black",
          "width": 1
         },
         "mode": "lines",
         "showlegend": false,
         "type": "scatter",
         "x": [
          0.7700973153114319,
          0.7700973153114319
         ],
         "xaxis": "x2",
         "y": [
          1,
          1.3
         ],
         "yaxis": "y2"
        },
        {
         "hoverinfo": "skip",
         "line": {
          "color": "black",
          "width": 1
         },
         "mode": "lines",
         "showlegend": false,
         "type": "scatter",
         "x": [
          0.7744714617729187,
          0.7744714617729187
         ],
         "xaxis": "x2",
         "y": [
          1,
          0.75
         ],
         "yaxis": "y2"
        },
        {
         "hoverinfo": "skip",
         "line": {
          "color": "black",
          "width": 1
         },
         "mode": "lines",
         "showlegend": false,
         "type": "scatter",
         "x": [
          0.7779844999313354,
          0.7779844999313354
         ],
         "xaxis": "x2",
         "y": [
          1,
          1.75
         ],
         "yaxis": "y2"
        },
        {
         "hoverinfo": "skip",
         "line": {
          "color": "black",
          "width": 1
         },
         "mode": "lines",
         "showlegend": false,
         "type": "scatter",
         "x": [
          0.7794417142868042,
          0.7794417142868042
         ],
         "xaxis": "x2",
         "y": [
          1,
          0.3
         ],
         "yaxis": "y2"
        },
        {
         "hoverinfo": "skip",
         "marker": {
          "color": "limegreen"
         },
         "opacity": 0.7,
         "showlegend": false,
         "type": "bar",
         "width": 0.041436195373535156,
         "x": [
          -0.7485176920890808,
          -0.6967224478721619,
          -0.6449272632598877,
          -0.5931320190429688,
          -0.5413367748260498,
          -0.48954153060913086,
          -0.4377462863922119,
          -0.38595104217529297,
          -0.3341558277606964,
          -0.28236058354377747,
          -0.23056533932685852,
          -0.17877012491226196,
          -0.12697488069534302,
          -0.07517965137958527,
          -0.023384416475892067,
          0.028410816565155983,
          0.08020605146884918,
          0.13200128078460693,
          0.18379652500152588,
          0.23559173941612244,
          0.2873869836330414,
          0.3391822278499603,
          0.3909774422645569,
          0.44277268648147583,
          0.4945679306983948,
          0.5463631749153137,
          0.5981583595275879,
          0.6499536037445068,
          0.7017488479614258,
          0.7535440921783447
         ],
         "xaxis": "x2",
         "y": [
          0.2647058823529412,
          0.21176470588235294,
          0.15882352941176472,
          0.4235294117647059,
          0.2647058823529412,
          0.21176470588235294,
          0.47647058823529415,
          0.31764705882352945,
          0.6352941176470589,
          0.2647058823529412,
          0.37058823529411766,
          0.5823529411764706,
          0.7411764705882353,
          0.9,
          0.5294117647058824,
          0.6882352941176471,
          0.6352941176470589,
          0.7941176470588235,
          0.6882352941176471,
          0.5294117647058824,
          0.15882352941176472,
          0.6352941176470589,
          0.31764705882352945,
          0.37058823529411766,
          0.2647058823529412,
          0.31764705882352945,
          0.31764705882352945,
          0.15882352941176472,
          0.10588235294117647,
          0.37058823529411766
         ],
         "yaxis": "y2"
        }
       ],
       "layout": {
        "annotations": [
         {
          "font": {
           "size": 16
          },
          "showarrow": false,
          "text": "PC2 Cosine Similarity",
          "x": 0.5,
          "xanchor": "center",
          "xref": "paper",
          "y": 1,
          "yanchor": "bottom",
          "yref": "paper"
         },
         {
          "font": {
           "size": 16
          },
          "showarrow": false,
          "text": "PC2 Projection",
          "x": 0.5,
          "xanchor": "center",
          "xref": "paper",
          "y": 0.45,
          "yanchor": "bottom",
          "yref": "paper"
         },
         {
          "bgcolor": "rgba(255, 255, 255, 0.9)",
          "bordercolor": "black",
          "borderwidth": 1,
          "font": {
           "color": "black",
           "size": 10
          },
          "showarrow": false,
          "text": "Artistic",
          "x": -0.8357745409011841,
          "xref": "x",
          "y": 1.45,
          "yref": "y"
         },
         {
          "bgcolor": "rgba(255, 255, 255, 0.9)",
          "bordercolor": "black",
          "borderwidth": 1,
          "font": {
           "color": "black",
           "size": 10
          },
          "showarrow": false,
          "text": "Metaphorical",
          "x": -0.8056854009628296,
          "xref": "x",
          "y": 0.6,
          "yref": "y"
         },
         {
          "bgcolor": "rgba(255, 255, 255, 0.9)",
          "bordercolor": "black",
          "borderwidth": 1,
          "font": {
           "color": "black",
           "size": 10
          },
          "showarrow": false,
          "text": "Creative",
          "x": -0.8011528849601746,
          "xref": "x",
          "y": 1.9,
          "yref": "y"
         },
         {
          "bgcolor": "rgba(255, 255, 255, 0.9)",
          "bordercolor": "black",
          "borderwidth": 1,
          "font": {
           "color": "black",
           "size": 10
          },
          "showarrow": false,
          "text": "Poetic",
          "x": -0.7937059998512268,
          "xref": "x",
          "y": 0.15,
          "yref": "y"
         },
         {
          "bgcolor": "rgba(255, 255, 255, 0.9)",
          "bordercolor": "black",
          "borderwidth": 1,
          "font": {
           "color": "black",
           "size": 10
          },
          "showarrow": false,
          "text": "Rhetorical",
          "x": -0.7808343172073364,
          "xref": "x",
          "y": 1.6,
          "yref": "y"
         },
         {
          "bgcolor": "rgba(255, 255, 255, 0.9)",
          "bordercolor": "black",
          "borderwidth": 1,
          "font": {
           "color": "black",
           "size": 10
          },
          "showarrow": false,
          "text": "Speculative",
          "x": -0.7806975841522217,
          "xref": "x",
          "y": 0.45,
          "yref": "y"
         },
         {
          "bgcolor": "rgba(255, 255, 255, 0.9)",
          "bordercolor": "black",
          "borderwidth": 1,
          "font": {
           "color": "black",
           "size": 10
          },
          "showarrow": false,
          "text": "Romantic",
          "x": -0.766563892364502,
          "xref": "x",
          "y": 1.3,
          "yref": "y"
         },
         {
          "bgcolor": "rgba(255, 255, 255, 0.9)",
          "bordercolor": "black",
          "borderwidth": 1,
          "font": {
           "color": "black",
           "size": 10
          },
          "showarrow": false,
          "text": "Philosophical",
          "x": -0.7615472078323364,
          "xref": "x",
          "y": 0.75,
          "yref": "y"
         },
         {
          "bgcolor": "rgba(255, 255, 255, 0.9)",
          "bordercolor": "black",
          "borderwidth": 1,
          "font": {
           "color": "black",
           "size": 10
          },
          "showarrow": false,
          "text": "Animated",
          "x": -0.7440164685249329,
          "xref": "x",
          "y": 1.75,
          "yref": "y"
         },
         {
          "bgcolor": "rgba(255, 255, 255, 0.9)",
          "bordercolor": "black",
          "borderwidth": 1,
          "font": {
           "color": "black",
           "size": 10
          },
          "showarrow": false,
          "text": "Dramatic",
          "x": -0.7359841465950012,
          "xref": "x",
          "y": 0.3,
          "yref": "y"
         },
         {
          "bgcolor": "rgba(255, 255, 255, 0.9)",
          "bordercolor": "black",
          "borderwidth": 1,
          "font": {
           "color": "black",
           "size": 10
          },
          "showarrow": false,
          "text": "Blunt",
          "x": 0.49657484889030457,
          "xref": "x",
          "y": 1.45,
          "yref": "y"
         },
         {
          "bgcolor": "rgba(255, 255, 255, 0.9)",
          "bordercolor": "black",
          "borderwidth": 1,
          "font": {
           "color": "black",
           "size": 10
          },
          "showarrow": false,
          "text": "Convergent",
          "x": 0.5158678293228149,
          "xref": "x",
          "y": 0.6,
          "yref": "y"
         },
         {
          "bgcolor": "rgba(255, 255, 255, 0.9)",
          "bordercolor": "black",
          "borderwidth": 1,
          "font": {
           "color": "black",
           "size": 10
          },
          "showarrow": false,
          "text": "Materialist",
          "x": 0.5385770797729492,
          "xref": "x",
          "y": 1.9,
          "yref": "y"
         },
         {
          "bgcolor": "rgba(255, 255, 255, 0.9)",
          "bordercolor": "black",
          "borderwidth": 1,
          "font": {
           "color": "black",
           "size": 10
          },
          "showarrow": false,
          "text": "Reductionist",
          "x": 0.5608267188072205,
          "xref": "x",
          "y": 0.15,
          "yref": "y"
         },
         {
          "bgcolor": "rgba(255, 255, 255, 0.9)",
          "bordercolor": "black",
          "borderwidth": 1,
          "font": {
           "color": "black",
           "size": 10
          },
          "showarrow": false,
          "text": "Literal",
          "x": 0.5999581217765808,
          "xref": "x",
          "y": 1.6,
          "yref": "y"
         },
         {
          "bgcolor": "rgba(255, 255, 255, 0.9)",
          "bordercolor": "black",
          "borderwidth": 1,
          "font": {
           "color": "black",
           "size": 10
          },
          "showarrow": false,
          "text": "Grounded",
          "x": 0.6300870180130005,
          "xref": "x",
          "y": 0.45,
          "yref": "y"
         },
         {
          "bgcolor": "rgba(255, 255, 255, 0.9)",
          "bordercolor": "black",
          "borderwidth": 1,
          "font": {
           "color": "black",
           "size": 10
          },
          "showarrow": false,
          "text": "Rationalist",
          "x": 0.6581432223320007,
          "xref": "x",
          "y": 1.3,
          "yref": "y"
         },
         {
          "bgcolor": "rgba(255, 255, 255, 0.9)",
          "bordercolor": "black",
          "borderwidth": 1,
          "font": {
           "color": "black",
           "size": 10
          },
          "showarrow": false,
          "text": "Detached",
          "x": 0.6687648892402649,
          "xref": "x",
          "y": 0.75,
          "yref": "y"
         },
         {
          "bgcolor": "rgba(255, 255, 255, 0.9)",
          "bordercolor": "black",
          "borderwidth": 1,
          "font": {
           "color": "black",
           "size": 10
          },
          "showarrow": false,
          "text": "Dispassionate",
          "x": 0.6796743869781494,
          "xref": "x",
          "y": 1.75,
          "yref": "y"
         },
         {
          "bgcolor": "rgba(255, 255, 255, 0.9)",
          "bordercolor": "black",
          "borderwidth": 1,
          "font": {
           "color": "black",
           "size": 10
          },
          "showarrow": false,
          "text": "Reserved",
          "x": 0.7070375084877014,
          "xref": "x",
          "y": 0.3,
          "yref": "y"
         },
         {
          "bgcolor": "rgba(255, 255, 255, 0.9)",
          "bordercolor": "red",
          "borderwidth": 1,
          "font": {
           "color": "red",
           "size": 14
          },
          "showarrow": false,
          "text": "Assistant",
          "x": -0.13302455842494965,
          "xref": "x",
          "y": 2,
          "yref": "y"
         },
         {
          "bgcolor": "rgba(255, 255, 255, 0.9)",
          "bordercolor": "black",
          "borderwidth": 1,
          "font": {
           "color": "black",
           "size": 10
          },
          "showarrow": false,
          "text": "Artistic",
          "x": -0.7744153141975403,
          "xref": "x2",
          "y": 1.45,
          "yref": "y2"
         },
         {
          "bgcolor": "rgba(255, 255, 255, 0.9)",
          "bordercolor": "black",
          "borderwidth": 1,
          "font": {
           "color": "black",
           "size": 10
          },
          "showarrow": false,
          "text": "Metaphorical",
          "x": -0.7711819410324097,
          "xref": "x2",
          "y": 0.6,
          "yref": "y2"
         },
         {
          "bgcolor": "rgba(255, 255, 255, 0.9)",
          "bordercolor": "black",
          "borderwidth": 1,
          "font": {
           "color": "black",
           "size": 10
          },
          "showarrow": false,
          "text": "Poetic",
          "x": -0.7577208280563354,
          "xref": "x2",
          "y": 1.9,
          "yref": "y2"
         },
         {
          "bgcolor": "rgba(255, 255, 255, 0.9)",
          "bordercolor": "black",
          "borderwidth": 1,
          "font": {
           "color": "black",
           "size": 10
          },
          "showarrow": false,
          "text": "Rhetorical",
          "x": -0.7516551613807678,
          "xref": "x2",
          "y": 0.15,
          "yref": "y2"
         },
         {
          "bgcolor": "rgba(255, 255, 255, 0.9)",
          "bordercolor": "black",
          "borderwidth": 1,
          "font": {
           "color": "black",
           "size": 10
          },
          "showarrow": false,
          "text": "Creative",
          "x": -0.7257822751998901,
          "xref": "x2",
          "y": 1.6,
          "yref": "y2"
         },
         {
          "bgcolor": "rgba(255, 255, 255, 0.9)",
          "bordercolor": "black",
          "borderwidth": 1,
          "font": {
           "color": "black",
           "size": 10
          },
          "showarrow": false,
          "text": "Romantic",
          "x": -0.7135393619537354,
          "xref": "x2",
          "y": 0.45,
          "yref": "y2"
         },
         {
          "bgcolor": "rgba(255, 255, 255, 0.9)",
          "bordercolor": "black",
          "borderwidth": 1,
          "font": {
           "color": "black",
           "size": 10
          },
          "showarrow": false,
          "text": "Dramatic",
          "x": -0.7072760462760925,
          "xref": "x2",
          "y": 1.3,
          "yref": "y2"
         },
         {
          "bgcolor": "rgba(255, 255, 255, 0.9)",
          "bordercolor": "black",
          "borderwidth": 1,
          "font": {
           "color": "black",
           "size": 10
          },
          "showarrow": false,
          "text": "Philosophical",
          "x": -0.6896620392799377,
          "xref": "x2",
          "y": 0.75,
          "yref": "y2"
         },
         {
          "bgcolor": "rgba(255, 255, 255, 0.9)",
          "bordercolor": "black",
          "borderwidth": 1,
          "font": {
           "color": "black",
           "size": 10
          },
          "showarrow": false,
          "text": "Animated",
          "x": -0.6890910267829895,
          "xref": "x2",
          "y": 1.75,
          "yref": "y2"
         },
         {
          "bgcolor": "rgba(255, 255, 255, 0.9)",
          "bordercolor": "black",
          "borderwidth": 1,
          "font": {
           "color": "black",
           "size": 10
          },
          "showarrow": false,
          "text": "Eloquent",
          "x": -0.6671625971794128,
          "xref": "x2",
          "y": 0.3,
          "yref": "y2"
         },
         {
          "bgcolor": "rgba(255, 255, 255, 0.9)",
          "bordercolor": "black",
          "borderwidth": 1,
          "font": {
           "color": "black",
           "size": 10
          },
          "showarrow": false,
          "text": "Formalist",
          "x": 0.6740061640739441,
          "xref": "x2",
          "y": 1.45,
          "yref": "y2"
         },
         {
          "bgcolor": "rgba(255, 255, 255, 0.9)",
          "bordercolor": "black",
          "borderwidth": 1,
          "font": {
           "color": "black",
           "size": 10
          },
          "showarrow": false,
          "text": "Grounded",
          "x": 0.7001878619194031,
          "xref": "x2",
          "y": 0.6,
          "yref": "y2"
         },
         {
          "bgcolor": "rgba(255, 255, 255, 0.9)",
          "bordercolor": "black",
          "borderwidth": 1,
          "font": {
           "color": "black",
           "size": 10
          },
          "showarrow": false,
          "text": "Literal",
          "x": 0.7224426865577698,
          "xref": "x2",
          "y": 1.9,
          "yref": "y2"
         },
         {
          "bgcolor": "rgba(255, 255, 255, 0.9)",
          "bordercolor": "black",
          "borderwidth": 1,
          "font": {
           "color": "black",
           "size": 10
          },
          "showarrow": false,
          "text": "Materialist",
          "x": 0.7295283675193787,
          "xref": "x2",
          "y": 0.15,
          "yref": "y2"
         },
         {
          "bgcolor": "rgba(255, 255, 255, 0.9)",
          "bordercolor": "black",
          "borderwidth": 1,
          "font": {
           "color": "black",
           "size": 10
          },
          "showarrow": false,
          "text": "Reductionist",
          "x": 0.7335996627807617,
          "xref": "x2",
          "y": 1.6,
          "yref": "y2"
         },
         {
          "bgcolor": "rgba(255, 255, 255, 0.9)",
          "bordercolor": "black",
          "borderwidth": 1,
          "font": {
           "color": "black",
           "size": 10
          },
          "showarrow": false,
          "text": "Dispassionate",
          "x": 0.7600162029266357,
          "xref": "x2",
          "y": 0.45,
          "yref": "y2"
         },
         {
          "bgcolor": "rgba(255, 255, 255, 0.9)",
          "bordercolor": "black",
          "borderwidth": 1,
          "font": {
           "color": "black",
           "size": 10
          },
          "showarrow": false,
          "text": "Convergent",
          "x": 0.7700973153114319,
          "xref": "x2",
          "y": 1.3,
          "yref": "y2"
         },
         {
          "bgcolor": "rgba(255, 255, 255, 0.9)",
          "bordercolor": "black",
          "borderwidth": 1,
          "font": {
           "color": "black",
           "size": 10
          },
          "showarrow": false,
          "text": "Reserved",
          "x": 0.7744714617729187,
          "xref": "x2",
          "y": 0.75,
          "yref": "y2"
         },
         {
          "bgcolor": "rgba(255, 255, 255, 0.9)",
          "bordercolor": "black",
          "borderwidth": 1,
          "font": {
           "color": "black",
           "size": 10
          },
          "showarrow": false,
          "text": "Detached",
          "x": 0.7779844999313354,
          "xref": "x2",
          "y": 1.75,
          "yref": "y2"
         },
         {
          "bgcolor": "rgba(255, 255, 255, 0.9)",
          "bordercolor": "black",
          "borderwidth": 1,
          "font": {
           "color": "black",
           "size": 10
          },
          "showarrow": false,
          "text": "Rationalist",
          "x": 0.7794417142868042,
          "xref": "x2",
          "y": 0.3,
          "yref": "y2"
         },
         {
          "bgcolor": "rgba(255, 255, 255, 0.9)",
          "bordercolor": "red",
          "borderwidth": 1,
          "font": {
           "color": "red",
           "size": 14
          },
          "showarrow": false,
          "text": "Assistant",
          "x": -0.033345941454172134,
          "xref": "x2",
          "y": 2,
          "yref": "y2"
         }
        ],
        "height": 800,
        "shapes": [
         {
          "line": {
           "color": "gray",
           "dash": "solid",
           "width": 1
          },
          "opacity": 0.7,
          "type": "line",
          "x0": 0,
          "x1": 0,
          "xref": "x",
          "y0": 0,
          "y1": 1,
          "yref": "y domain"
         },
         {
          "line": {
           "color": "red",
           "dash": "dash",
           "width": 1
          },
          "opacity": 1,
          "type": "line",
          "x0": -0.13302455842494965,
          "x1": -0.13302455842494965,
          "xref": "x",
          "y0": 0,
          "y1": 1,
          "yref": "y domain"
         },
         {
          "line": {
           "color": "gray",
           "dash": "solid",
           "width": 1
          },
          "opacity": 0.7,
          "type": "line",
          "x0": 0,
          "x1": 0,
          "xref": "x2",
          "y0": 0,
          "y1": 1,
          "yref": "y2 domain"
         },
         {
          "line": {
           "color": "red",
           "dash": "dash",
           "width": 1
          },
          "opacity": 1,
          "type": "line",
          "x0": -0.033345941454172134,
          "x1": -0.033345941454172134,
          "xref": "x2",
          "y0": 0,
          "y1": 1,
          "yref": "y2 domain"
         }
        ],
        "showlegend": false,
        "template": {
         "data": {
          "bar": [
           {
            "error_x": {
             "color": "#2a3f5f"
            },
            "error_y": {
             "color": "#2a3f5f"
            },
            "marker": {
             "line": {
              "color": "#E5ECF6",
              "width": 0.5
             },
             "pattern": {
              "fillmode": "overlay",
              "size": 10,
              "solidity": 0.2
             }
            },
            "type": "bar"
           }
          ],
          "barpolar": [
           {
            "marker": {
             "line": {
              "color": "#E5ECF6",
              "width": 0.5
             },
             "pattern": {
              "fillmode": "overlay",
              "size": 10,
              "solidity": 0.2
             }
            },
            "type": "barpolar"
           }
          ],
          "carpet": [
           {
            "aaxis": {
             "endlinecolor": "#2a3f5f",
             "gridcolor": "white",
             "linecolor": "white",
             "minorgridcolor": "white",
             "startlinecolor": "#2a3f5f"
            },
            "baxis": {
             "endlinecolor": "#2a3f5f",
             "gridcolor": "white",
             "linecolor": "white",
             "minorgridcolor": "white",
             "startlinecolor": "#2a3f5f"
            },
            "type": "carpet"
           }
          ],
          "choropleth": [
           {
            "colorbar": {
             "outlinewidth": 0,
             "ticks": ""
            },
            "type": "choropleth"
           }
          ],
          "contour": [
           {
            "colorbar": {
             "outlinewidth": 0,
             "ticks": ""
            },
            "colorscale": [
             [
              0,
              "#0d0887"
             ],
             [
              0.1111111111111111,
              "#46039f"
             ],
             [
              0.2222222222222222,
              "#7201a8"
             ],
             [
              0.3333333333333333,
              "#9c179e"
             ],
             [
              0.4444444444444444,
              "#bd3786"
             ],
             [
              0.5555555555555556,
              "#d8576b"
             ],
             [
              0.6666666666666666,
              "#ed7953"
             ],
             [
              0.7777777777777778,
              "#fb9f3a"
             ],
             [
              0.8888888888888888,
              "#fdca26"
             ],
             [
              1,
              "#f0f921"
             ]
            ],
            "type": "contour"
           }
          ],
          "contourcarpet": [
           {
            "colorbar": {
             "outlinewidth": 0,
             "ticks": ""
            },
            "type": "contourcarpet"
           }
          ],
          "heatmap": [
           {
            "colorbar": {
             "outlinewidth": 0,
             "ticks": ""
            },
            "colorscale": [
             [
              0,
              "#0d0887"
             ],
             [
              0.1111111111111111,
              "#46039f"
             ],
             [
              0.2222222222222222,
              "#7201a8"
             ],
             [
              0.3333333333333333,
              "#9c179e"
             ],
             [
              0.4444444444444444,
              "#bd3786"
             ],
             [
              0.5555555555555556,
              "#d8576b"
             ],
             [
              0.6666666666666666,
              "#ed7953"
             ],
             [
              0.7777777777777778,
              "#fb9f3a"
             ],
             [
              0.8888888888888888,
              "#fdca26"
             ],
             [
              1,
              "#f0f921"
             ]
            ],
            "type": "heatmap"
           }
          ],
          "heatmapgl": [
           {
            "colorbar": {
             "outlinewidth": 0,
             "ticks": ""
            },
            "colorscale": [
             [
              0,
              "#0d0887"
             ],
             [
              0.1111111111111111,
              "#46039f"
             ],
             [
              0.2222222222222222,
              "#7201a8"
             ],
             [
              0.3333333333333333,
              "#9c179e"
             ],
             [
              0.4444444444444444,
              "#bd3786"
             ],
             [
              0.5555555555555556,
              "#d8576b"
             ],
             [
              0.6666666666666666,
              "#ed7953"
             ],
             [
              0.7777777777777778,
              "#fb9f3a"
             ],
             [
              0.8888888888888888,
              "#fdca26"
             ],
             [
              1,
              "#f0f921"
             ]
            ],
            "type": "heatmapgl"
           }
          ],
          "histogram": [
           {
            "marker": {
             "pattern": {
              "fillmode": "overlay",
              "size": 10,
              "solidity": 0.2
             }
            },
            "type": "histogram"
           }
          ],
          "histogram2d": [
           {
            "colorbar": {
             "outlinewidth": 0,
             "ticks": ""
            },
            "colorscale": [
             [
              0,
              "#0d0887"
             ],
             [
              0.1111111111111111,
              "#46039f"
             ],
             [
              0.2222222222222222,
              "#7201a8"
             ],
             [
              0.3333333333333333,
              "#9c179e"
             ],
             [
              0.4444444444444444,
              "#bd3786"
             ],
             [
              0.5555555555555556,
              "#d8576b"
             ],
             [
              0.6666666666666666,
              "#ed7953"
             ],
             [
              0.7777777777777778,
              "#fb9f3a"
             ],
             [
              0.8888888888888888,
              "#fdca26"
             ],
             [
              1,
              "#f0f921"
             ]
            ],
            "type": "histogram2d"
           }
          ],
          "histogram2dcontour": [
           {
            "colorbar": {
             "outlinewidth": 0,
             "ticks": ""
            },
            "colorscale": [
             [
              0,
              "#0d0887"
             ],
             [
              0.1111111111111111,
              "#46039f"
             ],
             [
              0.2222222222222222,
              "#7201a8"
             ],
             [
              0.3333333333333333,
              "#9c179e"
             ],
             [
              0.4444444444444444,
              "#bd3786"
             ],
             [
              0.5555555555555556,
              "#d8576b"
             ],
             [
              0.6666666666666666,
              "#ed7953"
             ],
             [
              0.7777777777777778,
              "#fb9f3a"
             ],
             [
              0.8888888888888888,
              "#fdca26"
             ],
             [
              1,
              "#f0f921"
             ]
            ],
            "type": "histogram2dcontour"
           }
          ],
          "mesh3d": [
           {
            "colorbar": {
             "outlinewidth": 0,
             "ticks": ""
            },
            "type": "mesh3d"
           }
          ],
          "parcoords": [
           {
            "line": {
             "colorbar": {
              "outlinewidth": 0,
              "ticks": ""
             }
            },
            "type": "parcoords"
           }
          ],
          "pie": [
           {
            "automargin": true,
            "type": "pie"
           }
          ],
          "scatter": [
           {
            "fillpattern": {
             "fillmode": "overlay",
             "size": 10,
             "solidity": 0.2
            },
            "type": "scatter"
           }
          ],
          "scatter3d": [
           {
            "line": {
             "colorbar": {
              "outlinewidth": 0,
              "ticks": ""
             }
            },
            "marker": {
             "colorbar": {
              "outlinewidth": 0,
              "ticks": ""
             }
            },
            "type": "scatter3d"
           }
          ],
          "scattercarpet": [
           {
            "marker": {
             "colorbar": {
              "outlinewidth": 0,
              "ticks": ""
             }
            },
            "type": "scattercarpet"
           }
          ],
          "scattergeo": [
           {
            "marker": {
             "colorbar": {
              "outlinewidth": 0,
              "ticks": ""
             }
            },
            "type": "scattergeo"
           }
          ],
          "scattergl": [
           {
            "marker": {
             "colorbar": {
              "outlinewidth": 0,
              "ticks": ""
             }
            },
            "type": "scattergl"
           }
          ],
          "scattermapbox": [
           {
            "marker": {
             "colorbar": {
              "outlinewidth": 0,
              "ticks": ""
             }
            },
            "type": "scattermapbox"
           }
          ],
          "scatterpolar": [
           {
            "marker": {
             "colorbar": {
              "outlinewidth": 0,
              "ticks": ""
             }
            },
            "type": "scatterpolar"
           }
          ],
          "scatterpolargl": [
           {
            "marker": {
             "colorbar": {
              "outlinewidth": 0,
              "ticks": ""
             }
            },
            "type": "scatterpolargl"
           }
          ],
          "scatterternary": [
           {
            "marker": {
             "colorbar": {
              "outlinewidth": 0,
              "ticks": ""
             }
            },
            "type": "scatterternary"
           }
          ],
          "surface": [
           {
            "colorbar": {
             "outlinewidth": 0,
             "ticks": ""
            },
            "colorscale": [
             [
              0,
              "#0d0887"
             ],
             [
              0.1111111111111111,
              "#46039f"
             ],
             [
              0.2222222222222222,
              "#7201a8"
             ],
             [
              0.3333333333333333,
              "#9c179e"
             ],
             [
              0.4444444444444444,
              "#bd3786"
             ],
             [
              0.5555555555555556,
              "#d8576b"
             ],
             [
              0.6666666666666666,
              "#ed7953"
             ],
             [
              0.7777777777777778,
              "#fb9f3a"
             ],
             [
              0.8888888888888888,
              "#fdca26"
             ],
             [
              1,
              "#f0f921"
             ]
            ],
            "type": "surface"
           }
          ],
          "table": [
           {
            "cells": {
             "fill": {
              "color": "#EBF0F8"
             },
             "line": {
              "color": "white"
             }
            },
            "header": {
             "fill": {
              "color": "#C8D4E3"
             },
             "line": {
              "color": "white"
             }
            },
            "type": "table"
           }
          ]
         },
         "layout": {
          "annotationdefaults": {
           "arrowcolor": "#2a3f5f",
           "arrowhead": 0,
           "arrowwidth": 1
          },
          "autotypenumbers": "strict",
          "coloraxis": {
           "colorbar": {
            "outlinewidth": 0,
            "ticks": ""
           }
          },
          "colorscale": {
           "diverging": [
            [
             0,
             "#8e0152"
            ],
            [
             0.1,
             "#c51b7d"
            ],
            [
             0.2,
             "#de77ae"
            ],
            [
             0.3,
             "#f1b6da"
            ],
            [
             0.4,
             "#fde0ef"
            ],
            [
             0.5,
             "#f7f7f7"
            ],
            [
             0.6,
             "#e6f5d0"
            ],
            [
             0.7,
             "#b8e186"
            ],
            [
             0.8,
             "#7fbc41"
            ],
            [
             0.9,
             "#4d9221"
            ],
            [
             1,
             "#276419"
            ]
           ],
           "sequential": [
            [
             0,
             "#0d0887"
            ],
            [
             0.1111111111111111,
             "#46039f"
            ],
            [
             0.2222222222222222,
             "#7201a8"
            ],
            [
             0.3333333333333333,
             "#9c179e"
            ],
            [
             0.4444444444444444,
             "#bd3786"
            ],
            [
             0.5555555555555556,
             "#d8576b"
            ],
            [
             0.6666666666666666,
             "#ed7953"
            ],
            [
             0.7777777777777778,
             "#fb9f3a"
            ],
            [
             0.8888888888888888,
             "#fdca26"
            ],
            [
             1,
             "#f0f921"
            ]
           ],
           "sequentialminus": [
            [
             0,
             "#0d0887"
            ],
            [
             0.1111111111111111,
             "#46039f"
            ],
            [
             0.2222222222222222,
             "#7201a8"
            ],
            [
             0.3333333333333333,
             "#9c179e"
            ],
            [
             0.4444444444444444,
             "#bd3786"
            ],
            [
             0.5555555555555556,
             "#d8576b"
            ],
            [
             0.6666666666666666,
             "#ed7953"
            ],
            [
             0.7777777777777778,
             "#fb9f3a"
            ],
            [
             0.8888888888888888,
             "#fdca26"
            ],
            [
             1,
             "#f0f921"
            ]
           ]
          },
          "colorway": [
           "#636efa",
           "#EF553B",
           "#00cc96",
           "#ab63fa",
           "#FFA15A",
           "#19d3f3",
           "#FF6692",
           "#B6E880",
           "#FF97FF",
           "#FECB52"
          ],
          "font": {
           "color": "#2a3f5f"
          },
          "geo": {
           "bgcolor": "white",
           "lakecolor": "white",
           "landcolor": "#E5ECF6",
           "showlakes": true,
           "showland": true,
           "subunitcolor": "white"
          },
          "hoverlabel": {
           "align": "left"
          },
          "hovermode": "closest",
          "mapbox": {
           "style": "light"
          },
          "paper_bgcolor": "white",
          "plot_bgcolor": "#E5ECF6",
          "polar": {
           "angularaxis": {
            "gridcolor": "white",
            "linecolor": "white",
            "ticks": ""
           },
           "bgcolor": "#E5ECF6",
           "radialaxis": {
            "gridcolor": "white",
            "linecolor": "white",
            "ticks": ""
           }
          },
          "scene": {
           "xaxis": {
            "backgroundcolor": "#E5ECF6",
            "gridcolor": "white",
            "gridwidth": 2,
            "linecolor": "white",
            "showbackground": true,
            "ticks": "",
            "zerolinecolor": "white"
           },
           "yaxis": {
            "backgroundcolor": "#E5ECF6",
            "gridcolor": "white",
            "gridwidth": 2,
            "linecolor": "white",
            "showbackground": true,
            "ticks": "",
            "zerolinecolor": "white"
           },
           "zaxis": {
            "backgroundcolor": "#E5ECF6",
            "gridcolor": "white",
            "gridwidth": 2,
            "linecolor": "white",
            "showbackground": true,
            "ticks": "",
            "zerolinecolor": "white"
           }
          },
          "shapedefaults": {
           "line": {
            "color": "#2a3f5f"
           }
          },
          "ternary": {
           "aaxis": {
            "gridcolor": "white",
            "linecolor": "white",
            "ticks": ""
           },
           "baxis": {
            "gridcolor": "white",
            "linecolor": "white",
            "ticks": ""
           },
           "bgcolor": "#E5ECF6",
           "caxis": {
            "gridcolor": "white",
            "linecolor": "white",
            "ticks": ""
           }
          },
          "title": {
           "x": 0.05
          },
          "xaxis": {
           "automargin": true,
           "gridcolor": "white",
           "linecolor": "white",
           "ticks": "",
           "title": {
            "standoff": 15
           },
           "zerolinecolor": "white",
           "zerolinewidth": 2
          },
          "yaxis": {
           "automargin": true,
           "gridcolor": "white",
           "linecolor": "white",
           "ticks": "",
           "title": {
            "standoff": 15
           },
           "zerolinecolor": "white",
           "zerolinewidth": 2
          }
         }
        },
        "title": {
         "font": {
          "size": 16
         },
         "subtitle": {
          "text": "Llama 3.3 70B, Layer 40 - Mean-Centered and L2 Normalized Vectors"
         },
         "text": "PCA on Trait Vectors",
         "x": 0.5
        },
        "width": 1000,
        "xaxis": {
         "anchor": "y",
         "domain": [
          0,
          1
         ],
         "range": [
          -1.1,
          1.1
         ]
        },
        "xaxis2": {
         "anchor": "y2",
         "domain": [
          0,
          1
         ],
         "range": [
          -1.1,
          1.1
         ]
        },
        "yaxis": {
         "anchor": "x",
         "domain": [
          0.55,
          1
         ],
         "range": [
          0,
          2.5
         ],
         "showticklabels": false
        },
        "yaxis2": {
         "anchor": "x2",
         "domain": [
          0,
          0.45
         ],
         "range": [
          0,
          2.5
         ],
         "showticklabels": false
        }
       }
      },
      "text/html": [
       "<div>                            <div id=\"1f74bc17-6580-4660-8fc3-8b96ada8986c\" class=\"plotly-graph-div\" style=\"height:800px; width:1000px;\"></div>            <script type=\"text/javascript\">                require([\"plotly\"], function(Plotly) {                    window.PLOTLYENV=window.PLOTLYENV || {};                                    if (document.getElementById(\"1f74bc17-6580-4660-8fc3-8b96ada8986c\")) {                    Plotly.newPlot(                        \"1f74bc17-6580-4660-8fc3-8b96ada8986c\",                        [{\"hovertemplate\":\"\\u003cb\\u003e%{text}\\u003c\\u002fb\\u003e\\u003cbr\\u003eCosine Similarity: %{x:.3f}\\u003cextra\\u003e\\u003c\\u002fextra\\u003e\",\"marker\":{\"color\":\"limegreen\",\"line\":{\"color\":\"black\",\"width\":1},\"opacity\":1.0,\"size\":8,\"symbol\":\"diamond\"},\"mode\":\"markers\",\"showlegend\":false,\"text\":[\"Zealous\",\"Wry\",\"Witty\",\"Whimsical\",\"Visceral\",\"Vindictive\",\"Verbose\",\"Utilitarian\",\"Urgent\",\"Universalist\",\"Understated\",\"Transparent\",\"Traditional\",\"Theoretical\",\"Theatrical\",\"Temperamental\",\"Technical\",\"Tactful\",\"Systems Thinker\",\"Sycophantic\",\"Supportive\",\"Subversive\",\"Submissive\",\"Structuralist\",\"Stream Of Consciousness\",\"Strategic\",\"Stoic\",\"Spontaneous\",\"Spiritual\",\"Specialized\",\"Solemn\",\"Socratic\",\"Skeptical\",\"Serious\",\"Serene\",\"Secular\",\"Savage\",\"Sassy\",\"Sardonic\",\"Sarcastic\",\"Ritualistic\",\"Risk Taking\",\"Reverent\",\"Resilient\",\"Relativist\",\"Regulatory\",\"Rebellious\",\"Reactive\",\"Radical\",\"Quantitative\",\"Qualitative\",\"Provocative\",\"Progressive\",\"Problem Solving\",\"Proactive\",\"Principled\",\"Prescriptive\",\"Practical\",\"Pluralist\",\"Playful\",\"Petty\",\"Pessimistic\",\"Perfectionist\",\"Pensive\",\"Pedantic\",\"Patient\",\"Passive Aggressive\",\"Passionate\",\"Paranoid\",\"Paradoxical\",\"Pacifist\",\"Optimistic\",\"Open Ended\",\"Obsessive\",\"Nurturing\",\"Nostalgic\",\"Nonchalant\",\"Nihilistic\",\"Neurotic\",\"Narrative\",\"Naive\",\"Mystical\",\"Moderate\",\"Mischievous\",\"Misanthropic\",\"Militant\",\"Meticulous\",\"Methodical\",\"Mercurial\",\"Melodramatic\",\"Melancholic\",\"Meditative\",\"Manipulative\",\"Manic\",\"Libertarian\",\"Judgmental\",\"Irreverent\",\"Ironic\",\"Intuitive\",\"Introverted\",\"Introspective\",\"Interdisciplinary\",\"Inspirational\",\"Inquisitive\",\"Innovative\",\"Individualistic\",\"Independent\",\"Inclusive\",\"Impulsive\",\"Improvisational\",\"Impatient\",\"Idealistic\",\"Iconoclastic\",\"Humble\",\"Humanistic\",\"Hostile\",\"Holistic\",\"Historical\",\"Hedonistic\",\"Gregarious\",\"Grandiose\",\"Goofy\",\"Generous\",\"Generalist\",\"Futuristic\",\"Fundamentalist\",\"Formalist\",\"Formal\",\"Forgiving\",\"Flirty\",\"Flippant\",\"Flexible\",\"Fatalistic\",\"Factual\",\"Extroverted\",\"Exploratory\",\"Experiential\",\"Existentialist\",\"Evil\",\"Ethereal\",\"Essentialist\",\"Esoteric\",\"Erudite\",\"Epicurean\",\"Environmental\",\"Entertaining\",\"Enigmatic\",\"Empathetic\",\"Emotional\",\"Eloquent\",\"Elitist\",\"Egalitarian\",\"Effusive\",\"Efficient\",\"Educational\",\"Edgy\",\"Eclectic\",\"Earnest\",\"Dominant\",\"Dogmatic\",\"Divergent\",\"Disorganized\",\"Diplomatic\",\"Deterministic\",\"Descriptive\",\"Deontological\",\"Deferential\",\"Deconstructionist\",\"Decisive\",\"Data Driven\",\"Cynical\",\"Curious\",\"Cryptic\",\"Cruel\",\"Critical\",\"Cosmopolitan\",\"Contrarian\",\"Contemporary\",\"Constructivist\",\"Conscientious\",\"Confrontational\",\"Confident\",\"Condescending\",\"Concise\",\"Conciliatory\",\"Conceptual\",\"Competitive\",\"Collectivistic\",\"Collaborative\",\"Closure Seeking\",\"Circumspect\",\"Chill\",\"Charismatic\",\"Chaotic\",\"Challenging\",\"Cautious\",\"Casual\",\"Calm\",\"Callous\",\"Calculating\",\"Bombastic\",\"Bitter\",\"Big Picture\",\"Benevolent\",\"Avoidant\",\"Assertive\",\"Ascetic\",\"Arrogant\",\"Anxious\",\"Anthropocentric\",\"Analytical\",\"Altruistic\",\"Agreeable\",\"Adventurous\",\"Adaptable\",\"Acerbic\",\"Accommodating\",\"Accessible\",\"Abstract\",\"Absolutist\"],\"x\":[-0.5668911337852478,-0.038978513330221176,-0.675936758518219,-0.699431836605072,-0.1690763235092163,0.22486059367656708,-0.44551339745521545,0.21888066828250885,0.15886373817920685,0.21663977205753326,0.39730241894721985,0.280413419008255,0.4349810481071472,-0.41958847641944885,-0.678351640701294,-0.27049964666366577,-0.029402904212474823,-0.3032301664352417,-0.47922611236572266,-0.20998066663742065,-0.37831050157546997,-0.4840192198753357,0.013745675794780254,0.12333796918392181,-0.527872622013092,-0.254557728767395,0.44151973724365234,-0.6969737410545349,-0.6748366355895996,-0.2053772658109665,0.036649707704782486,-0.1789223849773407,-0.03386060148477554,0.25291380286216736,-0.23247477412223816,0.38366103172302246,0.22265608608722687,-0.12485992163419724,0.020165681838989258,0.035543885082006454,0.044722095131874084,-0.6131294965744019,-0.17531253397464752,-0.07441823184490204,-0.3117527365684509,0.4601476192474365,-0.5416479110717773,-0.059281568974256516,-0.37344038486480713,0.38187941908836365,-0.6299619078636169,-0.4737652838230133,-0.38833028078079224,-0.0014982393477112055,-0.35686883330345154,-0.14809247851371765,0.3936677873134613,0.38152453303337097,-0.30166956782341003,-0.5169715881347656,-0.015992246568202972,0.11584478616714478,-0.14387445151805878,-0.5455644726753235,-0.1259729564189911,-0.21578769385814667,-0.05999673902988434,-0.6539003849029541,-0.13783785700798035,-0.5665307641029358,-0.36602532863616943,-0.1647975742816925,-0.43266528844833374,-0.22879435122013092,-0.4841843247413635,-0.27858245372772217,0.21440690755844116,-0.09017003327608109,-0.006645676214247942,-0.5661296248435974,0.08228105306625366,-0.6701160073280334,0.10439115017652512,-0.3608357608318329,-0.055871281772851944,-0.0239910539239645,-0.032763414084911346,0.2846554219722748,-0.28092536330223083,-0.6538078784942627,-0.03711656853556633,-0.43711841106414795,-0.08188363164663315,-0.3699333369731903,-0.13812187314033508,0.06855688989162445,-0.09334743022918701,-0.1593828797340393,-0.6853788495063782,-0.029216494411230087,-0.562141478061676,-0.39173567295074463,-0.2508173882961273,-0.24638231098651886,-0.5651446580886841,-0.44145768880844116,-0.21210579574108124,-0.3948005735874176,0.06613530218601227,-0.5377368927001953,0.2333686500787735,-0.39302751421928406,-0.3004000782966614,-0.16402432322502136,-0.4904874265193939,0.1663193255662918,-0.5066216588020325,-0.21106313169002533,-0.3001251518726349,-0.6146437525749207,-0.4484558701515198,-0.21557369828224182,-0.5191035866737366,-0.22872769832611084,-0.38768523931503296,0.3080551028251648,0.46500974893569946,0.09917545318603516,-0.4190250635147095,-0.4638103246688843,0.03582415357232094,-0.10241016000509262,-0.15995319187641144,0.36974045634269714,-0.5046055912971497,-0.4695259928703308,0.03018062561750412,-0.3540225327014923,-0.0976652279496193,-0.5990810394287109,0.21040524542331696,-0.3454688489437103,-0.35077792406082153,-0.6296169757843018,-0.3407014012336731,-0.6524144411087036,-0.5380140542984009,-0.6779146194458008,-0.717397928237915,-0.7171993255615234,-0.06513483822345734,-0.3428703546524048,-0.5871486067771912,0.44313061237335205,-0.219954252243042,-0.1526615470647812,-0.604949414730072,-0.26075315475463867,0.1412869393825531,0.15287798643112183,-0.4492386281490326,-0.1056961864233017,-0.0349881537258625,-0.05649686977267265,0.3882681131362915,-0.000939856399782002,-0.0064400676637887955,-0.46622902154922485,0.22273434698581696,0.409000039100647,0.11560378223657608,-0.649381160736084,-0.5952258110046387,0.25799283385276794,-0.3678756058216095,-0.26822513341903687,-0.3676568865776062,-0.0032037922646850348,-0.4921126961708069,-0.10247521102428436,0.16103777289390564,0.13164955377578735,-0.05302201211452484,0.42729032039642334,-0.04013796150684357,-0.40870755910873413,-0.080764040350914,-0.07357492297887802,-0.17346908152103424,0.40584200620651245,-0.3768187463283539,-0.2216225117444992,-0.6831069588661194,-0.5652607679367065,-0.295045405626297,-0.00814943015575409,-0.1666748821735382,0.0901326909661293,0.3736024796962738,-0.12872982025146484,-0.48106229305267334,0.030317451804876328,-0.4314529597759247,-0.2893853187561035,0.2621830105781555,-0.05026973411440849,-0.06823065131902695,0.01732884906232357,0.0273307953029871,0.05043143033981323,0.1899046003818512,-0.17808613181114197,-0.2290283590555191,-0.6193270087242126,-0.2676613926887512,0.08569540828466415,-0.39202937483787537,0.19807219505310059,-0.46135711669921875,0.2066396176815033],\"y\":[1,1,1,1,1,1,1,1,1,1,1,1,1,1,1,1,1,1,1,1,1,1,1,1,1,1,1,1,1,1,1,1,1,1,1,1,1,1,1,1,1,1,1,1,1,1,1,1,1,1,1,1,1,1,1,1,1,1,1,1,1,1,1,1,1,1,1,1,1,1,1,1,1,1,1,1,1,1,1,1,1,1,1,1,1,1,1,1,1,1,1,1,1,1,1,1,1,1,1,1,1,1,1,1,1,1,1,1,1,1,1,1,1,1,1,1,1,1,1,1,1,1,1,1,1,1,1,1,1,1,1,1,1,1,1,1,1,1,1,1,1,1,1,1,1,1,1,1,1,1,1,1,1,1,1,1,1,1,1,1,1,1,1,1,1,1,1,1,1,1,1,1,1,1,1,1,1,1,1,1,1,1,1,1,1,1,1,1,1,1,1,1,1,1,1,1,1,1,1,1,1,1,1,1,1,1,1,1,1,1,1,1,1,1,1,1,1,1,1,1],\"type\":\"scatter\",\"xaxis\":\"x\",\"yaxis\":\"y\"},{\"hovertemplate\":\"\\u003cb\\u003e%{text}\\u003c\\u002fb\\u003e\\u003cbr\\u003eCosine Similarity: %{x:.3f}\\u003cextra\\u003e\\u003c\\u002fextra\\u003e\",\"marker\":{\"color\":\"limegreen\",\"line\":{\"color\":\"black\",\"width\":1},\"opacity\":1.0,\"size\":8,\"symbol\":\"diamond\"},\"mode\":\"markers\",\"showlegend\":false,\"text\":[\"Speculative\",\"Romantic\",\"Rhetorical\",\"Reserved\",\"Reductionist\",\"Rationalist\",\"Poetic\",\"Philosophical\",\"Metaphorical\",\"Materialist\",\"Literal\",\"Grounded\",\"Dramatic\",\"Dispassionate\",\"Detached\",\"Creative\",\"Convergent\",\"Blunt\",\"Artistic\",\"Animated\"],\"x\":[-0.7806975841522217,-0.766563892364502,-0.7808343172073364,0.7070375084877014,0.5608267188072205,0.6581432223320007,-0.7937059998512268,-0.7615472078323364,-0.8056854009628296,0.5385770797729492,0.5999581217765808,0.6300870180130005,-0.7359841465950012,0.6796743869781494,0.6687648892402649,-0.8011528849601746,0.5158678293228149,0.49657484889030457,-0.8357745409011841,-0.7440164685249329],\"y\":[1,1,1,1,1,1,1,1,1,1,1,1,1,1,1,1,1,1,1,1],\"type\":\"scatter\",\"xaxis\":\"x\",\"yaxis\":\"y\"},{\"hoverinfo\":\"skip\",\"line\":{\"color\":\"black\",\"width\":1},\"mode\":\"lines\",\"showlegend\":false,\"x\":[-0.8357745409011841,-0.8357745409011841],\"y\":[1.0,1.45],\"type\":\"scatter\",\"xaxis\":\"x\",\"yaxis\":\"y\"},{\"hoverinfo\":\"skip\",\"line\":{\"color\":\"black\",\"width\":1},\"mode\":\"lines\",\"showlegend\":false,\"x\":[-0.8056854009628296,-0.8056854009628296],\"y\":[1.0,0.6],\"type\":\"scatter\",\"xaxis\":\"x\",\"yaxis\":\"y\"},{\"hoverinfo\":\"skip\",\"line\":{\"color\":\"black\",\"width\":1},\"mode\":\"lines\",\"showlegend\":false,\"x\":[-0.8011528849601746,-0.8011528849601746],\"y\":[1.0,1.9],\"type\":\"scatter\",\"xaxis\":\"x\",\"yaxis\":\"y\"},{\"hoverinfo\":\"skip\",\"line\":{\"color\":\"black\",\"width\":1},\"mode\":\"lines\",\"showlegend\":false,\"x\":[-0.7937059998512268,-0.7937059998512268],\"y\":[1.0,0.15],\"type\":\"scatter\",\"xaxis\":\"x\",\"yaxis\":\"y\"},{\"hoverinfo\":\"skip\",\"line\":{\"color\":\"black\",\"width\":1},\"mode\":\"lines\",\"showlegend\":false,\"x\":[-0.7808343172073364,-0.7808343172073364],\"y\":[1.0,1.6],\"type\":\"scatter\",\"xaxis\":\"x\",\"yaxis\":\"y\"},{\"hoverinfo\":\"skip\",\"line\":{\"color\":\"black\",\"width\":1},\"mode\":\"lines\",\"showlegend\":false,\"x\":[-0.7806975841522217,-0.7806975841522217],\"y\":[1.0,0.45],\"type\":\"scatter\",\"xaxis\":\"x\",\"yaxis\":\"y\"},{\"hoverinfo\":\"skip\",\"line\":{\"color\":\"black\",\"width\":1},\"mode\":\"lines\",\"showlegend\":false,\"x\":[-0.766563892364502,-0.766563892364502],\"y\":[1.0,1.3],\"type\":\"scatter\",\"xaxis\":\"x\",\"yaxis\":\"y\"},{\"hoverinfo\":\"skip\",\"line\":{\"color\":\"black\",\"width\":1},\"mode\":\"lines\",\"showlegend\":false,\"x\":[-0.7615472078323364,-0.7615472078323364],\"y\":[1.0,0.75],\"type\":\"scatter\",\"xaxis\":\"x\",\"yaxis\":\"y\"},{\"hoverinfo\":\"skip\",\"line\":{\"color\":\"black\",\"width\":1},\"mode\":\"lines\",\"showlegend\":false,\"x\":[-0.7440164685249329,-0.7440164685249329],\"y\":[1.0,1.75],\"type\":\"scatter\",\"xaxis\":\"x\",\"yaxis\":\"y\"},{\"hoverinfo\":\"skip\",\"line\":{\"color\":\"black\",\"width\":1},\"mode\":\"lines\",\"showlegend\":false,\"x\":[-0.7359841465950012,-0.7359841465950012],\"y\":[1.0,0.3],\"type\":\"scatter\",\"xaxis\":\"x\",\"yaxis\":\"y\"},{\"hoverinfo\":\"skip\",\"line\":{\"color\":\"black\",\"width\":1},\"mode\":\"lines\",\"showlegend\":false,\"x\":[0.49657484889030457,0.49657484889030457],\"y\":[1.0,1.45],\"type\":\"scatter\",\"xaxis\":\"x\",\"yaxis\":\"y\"},{\"hoverinfo\":\"skip\",\"line\":{\"color\":\"black\",\"width\":1},\"mode\":\"lines\",\"showlegend\":false,\"x\":[0.5158678293228149,0.5158678293228149],\"y\":[1.0,0.6],\"type\":\"scatter\",\"xaxis\":\"x\",\"yaxis\":\"y\"},{\"hoverinfo\":\"skip\",\"line\":{\"color\":\"black\",\"width\":1},\"mode\":\"lines\",\"showlegend\":false,\"x\":[0.5385770797729492,0.5385770797729492],\"y\":[1.0,1.9],\"type\":\"scatter\",\"xaxis\":\"x\",\"yaxis\":\"y\"},{\"hoverinfo\":\"skip\",\"line\":{\"color\":\"black\",\"width\":1},\"mode\":\"lines\",\"showlegend\":false,\"x\":[0.5608267188072205,0.5608267188072205],\"y\":[1.0,0.15],\"type\":\"scatter\",\"xaxis\":\"x\",\"yaxis\":\"y\"},{\"hoverinfo\":\"skip\",\"line\":{\"color\":\"black\",\"width\":1},\"mode\":\"lines\",\"showlegend\":false,\"x\":[0.5999581217765808,0.5999581217765808],\"y\":[1.0,1.6],\"type\":\"scatter\",\"xaxis\":\"x\",\"yaxis\":\"y\"},{\"hoverinfo\":\"skip\",\"line\":{\"color\":\"black\",\"width\":1},\"mode\":\"lines\",\"showlegend\":false,\"x\":[0.6300870180130005,0.6300870180130005],\"y\":[1.0,0.45],\"type\":\"scatter\",\"xaxis\":\"x\",\"yaxis\":\"y\"},{\"hoverinfo\":\"skip\",\"line\":{\"color\":\"black\",\"width\":1},\"mode\":\"lines\",\"showlegend\":false,\"x\":[0.6581432223320007,0.6581432223320007],\"y\":[1.0,1.3],\"type\":\"scatter\",\"xaxis\":\"x\",\"yaxis\":\"y\"},{\"hoverinfo\":\"skip\",\"line\":{\"color\":\"black\",\"width\":1},\"mode\":\"lines\",\"showlegend\":false,\"x\":[0.6687648892402649,0.6687648892402649],\"y\":[1.0,0.75],\"type\":\"scatter\",\"xaxis\":\"x\",\"yaxis\":\"y\"},{\"hoverinfo\":\"skip\",\"line\":{\"color\":\"black\",\"width\":1},\"mode\":\"lines\",\"showlegend\":false,\"x\":[0.6796743869781494,0.6796743869781494],\"y\":[1.0,1.75],\"type\":\"scatter\",\"xaxis\":\"x\",\"yaxis\":\"y\"},{\"hoverinfo\":\"skip\",\"line\":{\"color\":\"black\",\"width\":1},\"mode\":\"lines\",\"showlegend\":false,\"x\":[0.7070375084877014,0.7070375084877014],\"y\":[1.0,0.3],\"type\":\"scatter\",\"xaxis\":\"x\",\"yaxis\":\"y\"},{\"hoverinfo\":\"skip\",\"marker\":{\"color\":\"limegreen\"},\"opacity\":0.7,\"showlegend\":false,\"width\":0.04114165306091309,\"x\":[-0.810060977935791,-0.7586339712142944,-0.7072068452835083,-0.6557798385620117,-0.6043527126312256,-0.552925705909729,-0.5014985799789429,-0.4500715136528015,-0.39864444732666016,-0.3472173810005188,-0.29579031467437744,-0.24436324834823608,-0.19293618202209473,-0.14150911569595337,-0.09008204936981201,-0.038654983043670654,0.012772086076438427,0.06419915705919266,0.11562623083591461,0.16705329716205597,0.21848036348819733,0.2699074149131775,0.32133448123931885,0.3727615773677826,0.42418864369392395,0.4756157100200653,0.5270427465438843,0.5784698724746704,0.629896879196167,0.6813240051269531],\"y\":[0.225,0.3375,0.3375,0.50625,0.50625,0.61875,0.5625,0.675,0.675,0.61875,0.5625,0.675,0.61875,0.7312500000000001,0.675,0.9,0.84375,0.3375,0.45,0.28125,0.5625,0.28125,0.05625,0.45,0.3375,0.16875,0.1125,0.1125,0.05625,0.225],\"type\":\"bar\",\"xaxis\":\"x\",\"yaxis\":\"y\"},{\"hovertemplate\":\"\\u003cb\\u003e%{text}\\u003c\\u002fb\\u003e\\u003cbr\\u003ePC Projection: %{x:.3f}\\u003cextra\\u003e\\u003c\\u002fextra\\u003e\",\"marker\":{\"color\":\"limegreen\",\"line\":{\"color\":\"black\",\"width\":1},\"opacity\":1.0,\"size\":8,\"symbol\":\"diamond\"},\"mode\":\"markers\",\"showlegend\":false,\"text\":[\"Zealous\",\"Wry\",\"Witty\",\"Whimsical\",\"Visceral\",\"Vindictive\",\"Verbose\",\"Utilitarian\",\"Urgent\",\"Universalist\",\"Understated\",\"Transparent\",\"Traditional\",\"Theoretical\",\"Theatrical\",\"Temperamental\",\"Technical\",\"Tactful\",\"Systems Thinker\",\"Sycophantic\",\"Supportive\",\"Subversive\",\"Submissive\",\"Structuralist\",\"Stream Of Consciousness\",\"Strategic\",\"Stoic\",\"Spontaneous\",\"Spiritual\",\"Speculative\",\"Specialized\",\"Solemn\",\"Socratic\",\"Skeptical\",\"Serious\",\"Serene\",\"Secular\",\"Savage\",\"Sassy\",\"Sardonic\",\"Sarcastic\",\"Ritualistic\",\"Risk Taking\",\"Reverent\",\"Resilient\",\"Relativist\",\"Regulatory\",\"Rebellious\",\"Reactive\",\"Radical\",\"Quantitative\",\"Qualitative\",\"Provocative\",\"Progressive\",\"Problem Solving\",\"Proactive\",\"Principled\",\"Prescriptive\",\"Practical\",\"Pluralist\",\"Playful\",\"Petty\",\"Pessimistic\",\"Perfectionist\",\"Pensive\",\"Pedantic\",\"Patient\",\"Passive Aggressive\",\"Passionate\",\"Paranoid\",\"Paradoxical\",\"Pacifist\",\"Optimistic\",\"Open Ended\",\"Obsessive\",\"Nurturing\",\"Nostalgic\",\"Nonchalant\",\"Nihilistic\",\"Neurotic\",\"Narrative\",\"Naive\",\"Mystical\",\"Moderate\",\"Mischievous\",\"Misanthropic\",\"Militant\",\"Meticulous\",\"Methodical\",\"Mercurial\",\"Melodramatic\",\"Melancholic\",\"Meditative\",\"Manipulative\",\"Manic\",\"Libertarian\",\"Judgmental\",\"Irreverent\",\"Ironic\",\"Intuitive\",\"Introverted\",\"Introspective\",\"Interdisciplinary\",\"Inspirational\",\"Inquisitive\",\"Innovative\",\"Individualistic\",\"Independent\",\"Inclusive\",\"Impulsive\",\"Improvisational\",\"Impatient\",\"Idealistic\",\"Iconoclastic\",\"Humble\",\"Humanistic\",\"Hostile\",\"Holistic\",\"Historical\",\"Hedonistic\",\"Gregarious\",\"Grandiose\",\"Goofy\",\"Generous\",\"Generalist\",\"Futuristic\",\"Fundamentalist\",\"Formal\",\"Forgiving\",\"Flirty\",\"Flippant\",\"Flexible\",\"Fatalistic\",\"Factual\",\"Extroverted\",\"Exploratory\",\"Experiential\",\"Existentialist\",\"Evil\",\"Ethereal\",\"Essentialist\",\"Esoteric\",\"Erudite\",\"Epicurean\",\"Environmental\",\"Entertaining\",\"Enigmatic\",\"Empathetic\",\"Emotional\",\"Elitist\",\"Egalitarian\",\"Effusive\",\"Efficient\",\"Educational\",\"Edgy\",\"Eclectic\",\"Earnest\",\"Dominant\",\"Dogmatic\",\"Divergent\",\"Disorganized\",\"Diplomatic\",\"Deterministic\",\"Descriptive\",\"Deontological\",\"Deferential\",\"Deconstructionist\",\"Decisive\",\"Data Driven\",\"Cynical\",\"Curious\",\"Cryptic\",\"Cruel\",\"Critical\",\"Cosmopolitan\",\"Contrarian\",\"Contemporary\",\"Constructivist\",\"Conscientious\",\"Confrontational\",\"Confident\",\"Condescending\",\"Concise\",\"Conciliatory\",\"Conceptual\",\"Competitive\",\"Collectivistic\",\"Collaborative\",\"Closure Seeking\",\"Circumspect\",\"Chill\",\"Charismatic\",\"Chaotic\",\"Challenging\",\"Cautious\",\"Casual\",\"Calm\",\"Callous\",\"Calculating\",\"Bombastic\",\"Blunt\",\"Bitter\",\"Big Picture\",\"Benevolent\",\"Avoidant\",\"Assertive\",\"Ascetic\",\"Arrogant\",\"Anxious\",\"Anthropocentric\",\"Analytical\",\"Altruistic\",\"Agreeable\",\"Adventurous\",\"Adaptable\",\"Acerbic\",\"Accommodating\",\"Accessible\",\"Abstract\",\"Absolutist\"],\"x\":[-0.45849281549453735,0.1225600466132164,-0.6082054376602173,-0.6443305015563965,0.014226092025637627,0.4222649931907654,-0.31525975465774536,0.47992727160453796,0.33401742577552795,0.5968019366264343,0.4892069101333618,0.41853612661361694,0.5808326601982117,-0.2252170294523239,-0.638081431388855,-0.1144757866859436,0.15344436466693878,-0.09983650594949722,-0.24637091159820557,-0.05265147238969803,-0.2512902617454529,-0.32432082295417786,0.18273037672042847,0.3291621804237366,-0.3195599615573883,-0.11643889546394348,0.6011283993721008,-0.5925481915473938,-0.5703557133674622,-0.5993028283119202,-0.020606866106390953,0.1791752427816391,-0.004955747164785862,0.2798226475715637,0.39046594500541687,-0.08713750541210175,0.5445302724838257,0.3926108777523041,0.027714861556887627,0.176031231880188,0.20480532944202423,0.19971948862075806,-0.359162300825119,0.007339863572269678,0.0629286915063858,-0.12221430987119675,0.6382732391357422,-0.3407190442085266,0.08771559596061707,-0.18613040447235107,0.5293559432029724,-0.46259385347366333,-0.2796795070171356,-0.12047876417636871,0.17184998095035553,-0.17574036121368408,0.22838017344474792,0.5844223499298096,0.5199275612831116,0.07263898849487305,-0.37962448596954346,0.13938596844673157,0.3331698477268219,0.05077432841062546,-0.43140801787376404,0.1210966631770134,-0.06745055317878723,0.09374480694532394,-0.5536841750144958,0.05409764498472214,-0.3608265221118927,-0.05204729735851288,0.027763918042182922,-0.20448850095272064,-0.041318610310554504,-0.35664981603622437,-0.07996493577957153,0.32875946164131165,0.040157534182071686,0.139066681265831,-0.4413036108016968,0.20475466549396515,-0.5736714601516724,0.2497052550315857,-0.21635602414608002,0.09416382759809494,0.13943418860435486,0.1313074678182602,0.4230738878250122,-0.10763755440711975,-0.6070249676704407,0.1197870522737503,-0.325839638710022,0.07176635414361954,-0.2329902946949005,0.13592596352100372,0.24796724319458008,0.0598626472055912,-0.005529254209250212,-0.5119261741638184,0.16243301331996918,-0.39017120003700256,-0.07361748814582825,-0.10713717341423035,-0.046726856380701065,-0.37523144483566284,-0.1342666745185852,-0.02710556797683239,-0.140144482254982,0.21599000692367554,-0.3083394169807434,0.36262643337249756,-0.09670621156692505,-0.0662001445889473,0.1287037581205368,-0.2593582570552826,0.3143610954284668,-0.3267393410205841,0.041197337210178375,-0.12059042602777481,-0.45601755380630493,-0.33534279465675354,-0.08406025916337967,-0.4118886888027191,-0.04563283175230026,-0.16382178664207458,0.5129178762435913,0.2562568187713623,-0.042182307690382004,-0.3539806604385376,0.15867166221141815,0.05666438490152359,-0.0006277262582443655,0.5383406281471252,-0.3150087296962738,-0.2881658971309662,0.22201548516750336,-0.15731428563594818,0.06193861365318298,-0.509436309337616,0.44016316533088684,-0.1970095932483673,-0.2027590423822403,-0.5284965634346008,-0.13808825612068176,-0.5486444234848022,-0.4574134945869446,-0.48274779319763184,-0.584065318107605,0.1362174153327942,-0.07310628145933151,-0.4850982427597046,0.5588951706886292,-0.08375626057386398,0.0034259920939803123,-0.41732102632522583,-0.1176321730017662,0.4063926935195923,0.3297809660434723,-0.2379886358976364,0.03069514036178589,0.13426724076271057,0.09709782898426056,0.5381268262863159,0.3515450954437256,0.27102214097976685,-0.259298175573349,0.3816679120063782,0.5944706201553345,0.3168887197971344,-0.540972888469696,-0.5279916524887085,0.4130319654941559,-0.15715564787387848,-0.05730753019452095,-0.11404150724411011,0.316305011510849,-0.2588385045528412,0.015307296067476273,0.41809818148612976,0.33767080307006836,0.14694719016551971,0.5327526330947876,0.10641857236623764,-0.1705097258090973,0.10097228735685349,0.17519810795783997,0.05397656932473183,0.5941645503044128,-0.18197886645793915,-0.05263412743806839,-0.6178511381149292,-0.39541903138160706,-0.0589403472840786,0.23345407843589783,-0.008592134341597557,0.23754607141017914,0.5148263573646545,0.061533547937870026,-0.408293753862381,0.6256299614906311,0.1890031397342682,-0.17075751721858978,-0.11206575483083725,0.4143191874027252,0.2231212705373764,0.1236686185002327,0.2090718299150467,0.17870698869228363,0.44260117411613464,0.36207571625709534,0.015768038108944893,-0.05983101576566696,-0.44588354229927063,-0.07827995717525482,0.2571975588798523,-0.11346317827701569,0.3130773603916168,-0.22864001989364624,0.4567609131336212],\"y\":[1,1,1,1,1,1,1,1,1,1,1,1,1,1,1,1,1,1,1,1,1,1,1,1,1,1,1,1,1,1,1,1,1,1,1,1,1,1,1,1,1,1,1,1,1,1,1,1,1,1,1,1,1,1,1,1,1,1,1,1,1,1,1,1,1,1,1,1,1,1,1,1,1,1,1,1,1,1,1,1,1,1,1,1,1,1,1,1,1,1,1,1,1,1,1,1,1,1,1,1,1,1,1,1,1,1,1,1,1,1,1,1,1,1,1,1,1,1,1,1,1,1,1,1,1,1,1,1,1,1,1,1,1,1,1,1,1,1,1,1,1,1,1,1,1,1,1,1,1,1,1,1,1,1,1,1,1,1,1,1,1,1,1,1,1,1,1,1,1,1,1,1,1,1,1,1,1,1,1,1,1,1,1,1,1,1,1,1,1,1,1,1,1,1,1,1,1,1,1,1,1,1,1,1,1,1,1,1,1,1,1,1,1,1,1,1,1,1,1,1],\"type\":\"scatter\",\"xaxis\":\"x2\",\"yaxis\":\"y2\"},{\"hovertemplate\":\"\\u003cb\\u003e%{text}\\u003c\\u002fb\\u003e\\u003cbr\\u003ePC Projection: %{x:.3f}\\u003cextra\\u003e\\u003c\\u002fextra\\u003e\",\"marker\":{\"color\":\"limegreen\",\"line\":{\"color\":\"black\",\"width\":1},\"opacity\":1.0,\"size\":8,\"symbol\":\"diamond\"},\"mode\":\"markers\",\"showlegend\":false,\"text\":[\"Romantic\",\"Rhetorical\",\"Reserved\",\"Reductionist\",\"Rationalist\",\"Poetic\",\"Philosophical\",\"Metaphorical\",\"Materialist\",\"Literal\",\"Grounded\",\"Formalist\",\"Eloquent\",\"Dramatic\",\"Dispassionate\",\"Detached\",\"Creative\",\"Convergent\",\"Artistic\",\"Animated\"],\"x\":[-0.7135393619537354,-0.7516551613807678,0.7744714617729187,0.7335996627807617,0.7794417142868042,-0.7577208280563354,-0.6896620392799377,-0.7711819410324097,0.7295283675193787,0.7224426865577698,0.7001878619194031,0.6740061640739441,-0.6671625971794128,-0.7072760462760925,0.7600162029266357,0.7779844999313354,-0.7257822751998901,0.7700973153114319,-0.7744153141975403,-0.6890910267829895],\"y\":[1,1,1,1,1,1,1,1,1,1,1,1,1,1,1,1,1,1,1,1],\"type\":\"scatter\",\"xaxis\":\"x2\",\"yaxis\":\"y2\"},{\"hoverinfo\":\"skip\",\"line\":{\"color\":\"black\",\"width\":1},\"mode\":\"lines\",\"showlegend\":false,\"x\":[-0.7744153141975403,-0.7744153141975403],\"y\":[1.0,1.45],\"type\":\"scatter\",\"xaxis\":\"x2\",\"yaxis\":\"y2\"},{\"hoverinfo\":\"skip\",\"line\":{\"color\":\"black\",\"width\":1},\"mode\":\"lines\",\"showlegend\":false,\"x\":[-0.7711819410324097,-0.7711819410324097],\"y\":[1.0,0.6],\"type\":\"scatter\",\"xaxis\":\"x2\",\"yaxis\":\"y2\"},{\"hoverinfo\":\"skip\",\"line\":{\"color\":\"black\",\"width\":1},\"mode\":\"lines\",\"showlegend\":false,\"x\":[-0.7577208280563354,-0.7577208280563354],\"y\":[1.0,1.9],\"type\":\"scatter\",\"xaxis\":\"x2\",\"yaxis\":\"y2\"},{\"hoverinfo\":\"skip\",\"line\":{\"color\":\"black\",\"width\":1},\"mode\":\"lines\",\"showlegend\":false,\"x\":[-0.7516551613807678,-0.7516551613807678],\"y\":[1.0,0.15],\"type\":\"scatter\",\"xaxis\":\"x2\",\"yaxis\":\"y2\"},{\"hoverinfo\":\"skip\",\"line\":{\"color\":\"black\",\"width\":1},\"mode\":\"lines\",\"showlegend\":false,\"x\":[-0.7257822751998901,-0.7257822751998901],\"y\":[1.0,1.6],\"type\":\"scatter\",\"xaxis\":\"x2\",\"yaxis\":\"y2\"},{\"hoverinfo\":\"skip\",\"line\":{\"color\":\"black\",\"width\":1},\"mode\":\"lines\",\"showlegend\":false,\"x\":[-0.7135393619537354,-0.7135393619537354],\"y\":[1.0,0.45],\"type\":\"scatter\",\"xaxis\":\"x2\",\"yaxis\":\"y2\"},{\"hoverinfo\":\"skip\",\"line\":{\"color\":\"black\",\"width\":1},\"mode\":\"lines\",\"showlegend\":false,\"x\":[-0.7072760462760925,-0.7072760462760925],\"y\":[1.0,1.3],\"type\":\"scatter\",\"xaxis\":\"x2\",\"yaxis\":\"y2\"},{\"hoverinfo\":\"skip\",\"line\":{\"color\":\"black\",\"width\":1},\"mode\":\"lines\",\"showlegend\":false,\"x\":[-0.6896620392799377,-0.6896620392799377],\"y\":[1.0,0.75],\"type\":\"scatter\",\"xaxis\":\"x2\",\"yaxis\":\"y2\"},{\"hoverinfo\":\"skip\",\"line\":{\"color\":\"black\",\"width\":1},\"mode\":\"lines\",\"showlegend\":false,\"x\":[-0.6890910267829895,-0.6890910267829895],\"y\":[1.0,1.75],\"type\":\"scatter\",\"xaxis\":\"x2\",\"yaxis\":\"y2\"},{\"hoverinfo\":\"skip\",\"line\":{\"color\":\"black\",\"width\":1},\"mode\":\"lines\",\"showlegend\":false,\"x\":[-0.6671625971794128,-0.6671625971794128],\"y\":[1.0,0.3],\"type\":\"scatter\",\"xaxis\":\"x2\",\"yaxis\":\"y2\"},{\"hoverinfo\":\"skip\",\"line\":{\"color\":\"black\",\"width\":1},\"mode\":\"lines\",\"showlegend\":false,\"x\":[0.6740061640739441,0.6740061640739441],\"y\":[1.0,1.45],\"type\":\"scatter\",\"xaxis\":\"x2\",\"yaxis\":\"y2\"},{\"hoverinfo\":\"skip\",\"line\":{\"color\":\"black\",\"width\":1},\"mode\":\"lines\",\"showlegend\":false,\"x\":[0.7001878619194031,0.7001878619194031],\"y\":[1.0,0.6],\"type\":\"scatter\",\"xaxis\":\"x2\",\"yaxis\":\"y2\"},{\"hoverinfo\":\"skip\",\"line\":{\"color\":\"black\",\"width\":1},\"mode\":\"lines\",\"showlegend\":false,\"x\":[0.7224426865577698,0.7224426865577698],\"y\":[1.0,1.9],\"type\":\"scatter\",\"xaxis\":\"x2\",\"yaxis\":\"y2\"},{\"hoverinfo\":\"skip\",\"line\":{\"color\":\"black\",\"width\":1},\"mode\":\"lines\",\"showlegend\":false,\"x\":[0.7295283675193787,0.7295283675193787],\"y\":[1.0,0.15],\"type\":\"scatter\",\"xaxis\":\"x2\",\"yaxis\":\"y2\"},{\"hoverinfo\":\"skip\",\"line\":{\"color\":\"black\",\"width\":1},\"mode\":\"lines\",\"showlegend\":false,\"x\":[0.7335996627807617,0.7335996627807617],\"y\":[1.0,1.6],\"type\":\"scatter\",\"xaxis\":\"x2\",\"yaxis\":\"y2\"},{\"hoverinfo\":\"skip\",\"line\":{\"color\":\"black\",\"width\":1},\"mode\":\"lines\",\"showlegend\":false,\"x\":[0.7600162029266357,0.7600162029266357],\"y\":[1.0,0.45],\"type\":\"scatter\",\"xaxis\":\"x2\",\"yaxis\":\"y2\"},{\"hoverinfo\":\"skip\",\"line\":{\"color\":\"black\",\"width\":1},\"mode\":\"lines\",\"showlegend\":false,\"x\":[0.7700973153114319,0.7700973153114319],\"y\":[1.0,1.3],\"type\":\"scatter\",\"xaxis\":\"x2\",\"yaxis\":\"y2\"},{\"hoverinfo\":\"skip\",\"line\":{\"color\":\"black\",\"width\":1},\"mode\":\"lines\",\"showlegend\":false,\"x\":[0.7744714617729187,0.7744714617729187],\"y\":[1.0,0.75],\"type\":\"scatter\",\"xaxis\":\"x2\",\"yaxis\":\"y2\"},{\"hoverinfo\":\"skip\",\"line\":{\"color\":\"black\",\"width\":1},\"mode\":\"lines\",\"showlegend\":false,\"x\":[0.7779844999313354,0.7779844999313354],\"y\":[1.0,1.75],\"type\":\"scatter\",\"xaxis\":\"x2\",\"yaxis\":\"y2\"},{\"hoverinfo\":\"skip\",\"line\":{\"color\":\"black\",\"width\":1},\"mode\":\"lines\",\"showlegend\":false,\"x\":[0.7794417142868042,0.7794417142868042],\"y\":[1.0,0.3],\"type\":\"scatter\",\"xaxis\":\"x2\",\"yaxis\":\"y2\"},{\"hoverinfo\":\"skip\",\"marker\":{\"color\":\"limegreen\"},\"opacity\":0.7,\"showlegend\":false,\"width\":0.041436195373535156,\"x\":[-0.7485176920890808,-0.6967224478721619,-0.6449272632598877,-0.5931320190429688,-0.5413367748260498,-0.48954153060913086,-0.4377462863922119,-0.38595104217529297,-0.3341558277606964,-0.28236058354377747,-0.23056533932685852,-0.17877012491226196,-0.12697488069534302,-0.07517965137958527,-0.023384416475892067,0.028410816565155983,0.08020605146884918,0.13200128078460693,0.18379652500152588,0.23559173941612244,0.2873869836330414,0.3391822278499603,0.3909774422645569,0.44277268648147583,0.4945679306983948,0.5463631749153137,0.5981583595275879,0.6499536037445068,0.7017488479614258,0.7535440921783447],\"y\":[0.2647058823529412,0.21176470588235294,0.15882352941176472,0.4235294117647059,0.2647058823529412,0.21176470588235294,0.47647058823529415,0.31764705882352945,0.6352941176470589,0.2647058823529412,0.37058823529411766,0.5823529411764706,0.7411764705882353,0.9,0.5294117647058824,0.6882352941176471,0.6352941176470589,0.7941176470588235,0.6882352941176471,0.5294117647058824,0.15882352941176472,0.6352941176470589,0.31764705882352945,0.37058823529411766,0.2647058823529412,0.31764705882352945,0.31764705882352945,0.15882352941176472,0.10588235294117647,0.37058823529411766],\"type\":\"bar\",\"xaxis\":\"x2\",\"yaxis\":\"y2\"}],                        {\"template\":{\"data\":{\"histogram2dcontour\":[{\"type\":\"histogram2dcontour\",\"colorbar\":{\"outlinewidth\":0,\"ticks\":\"\"},\"colorscale\":[[0.0,\"#0d0887\"],[0.1111111111111111,\"#46039f\"],[0.2222222222222222,\"#7201a8\"],[0.3333333333333333,\"#9c179e\"],[0.4444444444444444,\"#bd3786\"],[0.5555555555555556,\"#d8576b\"],[0.6666666666666666,\"#ed7953\"],[0.7777777777777778,\"#fb9f3a\"],[0.8888888888888888,\"#fdca26\"],[1.0,\"#f0f921\"]]}],\"choropleth\":[{\"type\":\"choropleth\",\"colorbar\":{\"outlinewidth\":0,\"ticks\":\"\"}}],\"histogram2d\":[{\"type\":\"histogram2d\",\"colorbar\":{\"outlinewidth\":0,\"ticks\":\"\"},\"colorscale\":[[0.0,\"#0d0887\"],[0.1111111111111111,\"#46039f\"],[0.2222222222222222,\"#7201a8\"],[0.3333333333333333,\"#9c179e\"],[0.4444444444444444,\"#bd3786\"],[0.5555555555555556,\"#d8576b\"],[0.6666666666666666,\"#ed7953\"],[0.7777777777777778,\"#fb9f3a\"],[0.8888888888888888,\"#fdca26\"],[1.0,\"#f0f921\"]]}],\"heatmap\":[{\"type\":\"heatmap\",\"colorbar\":{\"outlinewidth\":0,\"ticks\":\"\"},\"colorscale\":[[0.0,\"#0d0887\"],[0.1111111111111111,\"#46039f\"],[0.2222222222222222,\"#7201a8\"],[0.3333333333333333,\"#9c179e\"],[0.4444444444444444,\"#bd3786\"],[0.5555555555555556,\"#d8576b\"],[0.6666666666666666,\"#ed7953\"],[0.7777777777777778,\"#fb9f3a\"],[0.8888888888888888,\"#fdca26\"],[1.0,\"#f0f921\"]]}],\"heatmapgl\":[{\"type\":\"heatmapgl\",\"colorbar\":{\"outlinewidth\":0,\"ticks\":\"\"},\"colorscale\":[[0.0,\"#0d0887\"],[0.1111111111111111,\"#46039f\"],[0.2222222222222222,\"#7201a8\"],[0.3333333333333333,\"#9c179e\"],[0.4444444444444444,\"#bd3786\"],[0.5555555555555556,\"#d8576b\"],[0.6666666666666666,\"#ed7953\"],[0.7777777777777778,\"#fb9f3a\"],[0.8888888888888888,\"#fdca26\"],[1.0,\"#f0f921\"]]}],\"contourcarpet\":[{\"type\":\"contourcarpet\",\"colorbar\":{\"outlinewidth\":0,\"ticks\":\"\"}}],\"contour\":[{\"type\":\"contour\",\"colorbar\":{\"outlinewidth\":0,\"ticks\":\"\"},\"colorscale\":[[0.0,\"#0d0887\"],[0.1111111111111111,\"#46039f\"],[0.2222222222222222,\"#7201a8\"],[0.3333333333333333,\"#9c179e\"],[0.4444444444444444,\"#bd3786\"],[0.5555555555555556,\"#d8576b\"],[0.6666666666666666,\"#ed7953\"],[0.7777777777777778,\"#fb9f3a\"],[0.8888888888888888,\"#fdca26\"],[1.0,\"#f0f921\"]]}],\"surface\":[{\"type\":\"surface\",\"colorbar\":{\"outlinewidth\":0,\"ticks\":\"\"},\"colorscale\":[[0.0,\"#0d0887\"],[0.1111111111111111,\"#46039f\"],[0.2222222222222222,\"#7201a8\"],[0.3333333333333333,\"#9c179e\"],[0.4444444444444444,\"#bd3786\"],[0.5555555555555556,\"#d8576b\"],[0.6666666666666666,\"#ed7953\"],[0.7777777777777778,\"#fb9f3a\"],[0.8888888888888888,\"#fdca26\"],[1.0,\"#f0f921\"]]}],\"mesh3d\":[{\"type\":\"mesh3d\",\"colorbar\":{\"outlinewidth\":0,\"ticks\":\"\"}}],\"scatter\":[{\"fillpattern\":{\"fillmode\":\"overlay\",\"size\":10,\"solidity\":0.2},\"type\":\"scatter\"}],\"parcoords\":[{\"type\":\"parcoords\",\"line\":{\"colorbar\":{\"outlinewidth\":0,\"ticks\":\"\"}}}],\"scatterpolargl\":[{\"type\":\"scatterpolargl\",\"marker\":{\"colorbar\":{\"outlinewidth\":0,\"ticks\":\"\"}}}],\"bar\":[{\"error_x\":{\"color\":\"#2a3f5f\"},\"error_y\":{\"color\":\"#2a3f5f\"},\"marker\":{\"line\":{\"color\":\"#E5ECF6\",\"width\":0.5},\"pattern\":{\"fillmode\":\"overlay\",\"size\":10,\"solidity\":0.2}},\"type\":\"bar\"}],\"scattergeo\":[{\"type\":\"scattergeo\",\"marker\":{\"colorbar\":{\"outlinewidth\":0,\"ticks\":\"\"}}}],\"scatterpolar\":[{\"type\":\"scatterpolar\",\"marker\":{\"colorbar\":{\"outlinewidth\":0,\"ticks\":\"\"}}}],\"histogram\":[{\"marker\":{\"pattern\":{\"fillmode\":\"overlay\",\"size\":10,\"solidity\":0.2}},\"type\":\"histogram\"}],\"scattergl\":[{\"type\":\"scattergl\",\"marker\":{\"colorbar\":{\"outlinewidth\":0,\"ticks\":\"\"}}}],\"scatter3d\":[{\"type\":\"scatter3d\",\"line\":{\"colorbar\":{\"outlinewidth\":0,\"ticks\":\"\"}},\"marker\":{\"colorbar\":{\"outlinewidth\":0,\"ticks\":\"\"}}}],\"scattermapbox\":[{\"type\":\"scattermapbox\",\"marker\":{\"colorbar\":{\"outlinewidth\":0,\"ticks\":\"\"}}}],\"scatterternary\":[{\"type\":\"scatterternary\",\"marker\":{\"colorbar\":{\"outlinewidth\":0,\"ticks\":\"\"}}}],\"scattercarpet\":[{\"type\":\"scattercarpet\",\"marker\":{\"colorbar\":{\"outlinewidth\":0,\"ticks\":\"\"}}}],\"carpet\":[{\"aaxis\":{\"endlinecolor\":\"#2a3f5f\",\"gridcolor\":\"white\",\"linecolor\":\"white\",\"minorgridcolor\":\"white\",\"startlinecolor\":\"#2a3f5f\"},\"baxis\":{\"endlinecolor\":\"#2a3f5f\",\"gridcolor\":\"white\",\"linecolor\":\"white\",\"minorgridcolor\":\"white\",\"startlinecolor\":\"#2a3f5f\"},\"type\":\"carpet\"}],\"table\":[{\"cells\":{\"fill\":{\"color\":\"#EBF0F8\"},\"line\":{\"color\":\"white\"}},\"header\":{\"fill\":{\"color\":\"#C8D4E3\"},\"line\":{\"color\":\"white\"}},\"type\":\"table\"}],\"barpolar\":[{\"marker\":{\"line\":{\"color\":\"#E5ECF6\",\"width\":0.5},\"pattern\":{\"fillmode\":\"overlay\",\"size\":10,\"solidity\":0.2}},\"type\":\"barpolar\"}],\"pie\":[{\"automargin\":true,\"type\":\"pie\"}]},\"layout\":{\"autotypenumbers\":\"strict\",\"colorway\":[\"#636efa\",\"#EF553B\",\"#00cc96\",\"#ab63fa\",\"#FFA15A\",\"#19d3f3\",\"#FF6692\",\"#B6E880\",\"#FF97FF\",\"#FECB52\"],\"font\":{\"color\":\"#2a3f5f\"},\"hovermode\":\"closest\",\"hoverlabel\":{\"align\":\"left\"},\"paper_bgcolor\":\"white\",\"plot_bgcolor\":\"#E5ECF6\",\"polar\":{\"bgcolor\":\"#E5ECF6\",\"angularaxis\":{\"gridcolor\":\"white\",\"linecolor\":\"white\",\"ticks\":\"\"},\"radialaxis\":{\"gridcolor\":\"white\",\"linecolor\":\"white\",\"ticks\":\"\"}},\"ternary\":{\"bgcolor\":\"#E5ECF6\",\"aaxis\":{\"gridcolor\":\"white\",\"linecolor\":\"white\",\"ticks\":\"\"},\"baxis\":{\"gridcolor\":\"white\",\"linecolor\":\"white\",\"ticks\":\"\"},\"caxis\":{\"gridcolor\":\"white\",\"linecolor\":\"white\",\"ticks\":\"\"}},\"coloraxis\":{\"colorbar\":{\"outlinewidth\":0,\"ticks\":\"\"}},\"colorscale\":{\"sequential\":[[0.0,\"#0d0887\"],[0.1111111111111111,\"#46039f\"],[0.2222222222222222,\"#7201a8\"],[0.3333333333333333,\"#9c179e\"],[0.4444444444444444,\"#bd3786\"],[0.5555555555555556,\"#d8576b\"],[0.6666666666666666,\"#ed7953\"],[0.7777777777777778,\"#fb9f3a\"],[0.8888888888888888,\"#fdca26\"],[1.0,\"#f0f921\"]],\"sequentialminus\":[[0.0,\"#0d0887\"],[0.1111111111111111,\"#46039f\"],[0.2222222222222222,\"#7201a8\"],[0.3333333333333333,\"#9c179e\"],[0.4444444444444444,\"#bd3786\"],[0.5555555555555556,\"#d8576b\"],[0.6666666666666666,\"#ed7953\"],[0.7777777777777778,\"#fb9f3a\"],[0.8888888888888888,\"#fdca26\"],[1.0,\"#f0f921\"]],\"diverging\":[[0,\"#8e0152\"],[0.1,\"#c51b7d\"],[0.2,\"#de77ae\"],[0.3,\"#f1b6da\"],[0.4,\"#fde0ef\"],[0.5,\"#f7f7f7\"],[0.6,\"#e6f5d0\"],[0.7,\"#b8e186\"],[0.8,\"#7fbc41\"],[0.9,\"#4d9221\"],[1,\"#276419\"]]},\"xaxis\":{\"gridcolor\":\"white\",\"linecolor\":\"white\",\"ticks\":\"\",\"title\":{\"standoff\":15},\"zerolinecolor\":\"white\",\"automargin\":true,\"zerolinewidth\":2},\"yaxis\":{\"gridcolor\":\"white\",\"linecolor\":\"white\",\"ticks\":\"\",\"title\":{\"standoff\":15},\"zerolinecolor\":\"white\",\"automargin\":true,\"zerolinewidth\":2},\"scene\":{\"xaxis\":{\"backgroundcolor\":\"#E5ECF6\",\"gridcolor\":\"white\",\"linecolor\":\"white\",\"showbackground\":true,\"ticks\":\"\",\"zerolinecolor\":\"white\",\"gridwidth\":2},\"yaxis\":{\"backgroundcolor\":\"#E5ECF6\",\"gridcolor\":\"white\",\"linecolor\":\"white\",\"showbackground\":true,\"ticks\":\"\",\"zerolinecolor\":\"white\",\"gridwidth\":2},\"zaxis\":{\"backgroundcolor\":\"#E5ECF6\",\"gridcolor\":\"white\",\"linecolor\":\"white\",\"showbackground\":true,\"ticks\":\"\",\"zerolinecolor\":\"white\",\"gridwidth\":2}},\"shapedefaults\":{\"line\":{\"color\":\"#2a3f5f\"}},\"annotationdefaults\":{\"arrowcolor\":\"#2a3f5f\",\"arrowhead\":0,\"arrowwidth\":1},\"geo\":{\"bgcolor\":\"white\",\"landcolor\":\"#E5ECF6\",\"subunitcolor\":\"white\",\"showland\":true,\"showlakes\":true,\"lakecolor\":\"white\"},\"title\":{\"x\":0.05},\"mapbox\":{\"style\":\"light\"}}},\"xaxis\":{\"anchor\":\"y\",\"domain\":[0.0,1.0],\"range\":[-1.1,1.1]},\"yaxis\":{\"anchor\":\"x\",\"domain\":[0.55,1.0],\"showticklabels\":false,\"range\":[0,2.5]},\"xaxis2\":{\"anchor\":\"y2\",\"domain\":[0.0,1.0],\"range\":[-1.1,1.1]},\"yaxis2\":{\"anchor\":\"x2\",\"domain\":[0.0,0.45],\"showticklabels\":false,\"range\":[0,2.5]},\"annotations\":[{\"font\":{\"size\":16},\"showarrow\":false,\"text\":\"PC2 Cosine Similarity\",\"x\":0.5,\"xanchor\":\"center\",\"xref\":\"paper\",\"y\":1.0,\"yanchor\":\"bottom\",\"yref\":\"paper\"},{\"font\":{\"size\":16},\"showarrow\":false,\"text\":\"PC2 Projection\",\"x\":0.5,\"xanchor\":\"center\",\"xref\":\"paper\",\"y\":0.45,\"yanchor\":\"bottom\",\"yref\":\"paper\"},{\"bgcolor\":\"rgba(255, 255, 255, 0.9)\",\"bordercolor\":\"black\",\"borderwidth\":1,\"font\":{\"color\":\"black\",\"size\":10},\"showarrow\":false,\"text\":\"Artistic\",\"x\":-0.8357745409011841,\"xref\":\"x\",\"y\":1.45,\"yref\":\"y\"},{\"bgcolor\":\"rgba(255, 255, 255, 0.9)\",\"bordercolor\":\"black\",\"borderwidth\":1,\"font\":{\"color\":\"black\",\"size\":10},\"showarrow\":false,\"text\":\"Metaphorical\",\"x\":-0.8056854009628296,\"xref\":\"x\",\"y\":0.6,\"yref\":\"y\"},{\"bgcolor\":\"rgba(255, 255, 255, 0.9)\",\"bordercolor\":\"black\",\"borderwidth\":1,\"font\":{\"color\":\"black\",\"size\":10},\"showarrow\":false,\"text\":\"Creative\",\"x\":-0.8011528849601746,\"xref\":\"x\",\"y\":1.9,\"yref\":\"y\"},{\"bgcolor\":\"rgba(255, 255, 255, 0.9)\",\"bordercolor\":\"black\",\"borderwidth\":1,\"font\":{\"color\":\"black\",\"size\":10},\"showarrow\":false,\"text\":\"Poetic\",\"x\":-0.7937059998512268,\"xref\":\"x\",\"y\":0.15,\"yref\":\"y\"},{\"bgcolor\":\"rgba(255, 255, 255, 0.9)\",\"bordercolor\":\"black\",\"borderwidth\":1,\"font\":{\"color\":\"black\",\"size\":10},\"showarrow\":false,\"text\":\"Rhetorical\",\"x\":-0.7808343172073364,\"xref\":\"x\",\"y\":1.6,\"yref\":\"y\"},{\"bgcolor\":\"rgba(255, 255, 255, 0.9)\",\"bordercolor\":\"black\",\"borderwidth\":1,\"font\":{\"color\":\"black\",\"size\":10},\"showarrow\":false,\"text\":\"Speculative\",\"x\":-0.7806975841522217,\"xref\":\"x\",\"y\":0.45,\"yref\":\"y\"},{\"bgcolor\":\"rgba(255, 255, 255, 0.9)\",\"bordercolor\":\"black\",\"borderwidth\":1,\"font\":{\"color\":\"black\",\"size\":10},\"showarrow\":false,\"text\":\"Romantic\",\"x\":-0.766563892364502,\"xref\":\"x\",\"y\":1.3,\"yref\":\"y\"},{\"bgcolor\":\"rgba(255, 255, 255, 0.9)\",\"bordercolor\":\"black\",\"borderwidth\":1,\"font\":{\"color\":\"black\",\"size\":10},\"showarrow\":false,\"text\":\"Philosophical\",\"x\":-0.7615472078323364,\"xref\":\"x\",\"y\":0.75,\"yref\":\"y\"},{\"bgcolor\":\"rgba(255, 255, 255, 0.9)\",\"bordercolor\":\"black\",\"borderwidth\":1,\"font\":{\"color\":\"black\",\"size\":10},\"showarrow\":false,\"text\":\"Animated\",\"x\":-0.7440164685249329,\"xref\":\"x\",\"y\":1.75,\"yref\":\"y\"},{\"bgcolor\":\"rgba(255, 255, 255, 0.9)\",\"bordercolor\":\"black\",\"borderwidth\":1,\"font\":{\"color\":\"black\",\"size\":10},\"showarrow\":false,\"text\":\"Dramatic\",\"x\":-0.7359841465950012,\"xref\":\"x\",\"y\":0.3,\"yref\":\"y\"},{\"bgcolor\":\"rgba(255, 255, 255, 0.9)\",\"bordercolor\":\"black\",\"borderwidth\":1,\"font\":{\"color\":\"black\",\"size\":10},\"showarrow\":false,\"text\":\"Blunt\",\"x\":0.49657484889030457,\"xref\":\"x\",\"y\":1.45,\"yref\":\"y\"},{\"bgcolor\":\"rgba(255, 255, 255, 0.9)\",\"bordercolor\":\"black\",\"borderwidth\":1,\"font\":{\"color\":\"black\",\"size\":10},\"showarrow\":false,\"text\":\"Convergent\",\"x\":0.5158678293228149,\"xref\":\"x\",\"y\":0.6,\"yref\":\"y\"},{\"bgcolor\":\"rgba(255, 255, 255, 0.9)\",\"bordercolor\":\"black\",\"borderwidth\":1,\"font\":{\"color\":\"black\",\"size\":10},\"showarrow\":false,\"text\":\"Materialist\",\"x\":0.5385770797729492,\"xref\":\"x\",\"y\":1.9,\"yref\":\"y\"},{\"bgcolor\":\"rgba(255, 255, 255, 0.9)\",\"bordercolor\":\"black\",\"borderwidth\":1,\"font\":{\"color\":\"black\",\"size\":10},\"showarrow\":false,\"text\":\"Reductionist\",\"x\":0.5608267188072205,\"xref\":\"x\",\"y\":0.15,\"yref\":\"y\"},{\"bgcolor\":\"rgba(255, 255, 255, 0.9)\",\"bordercolor\":\"black\",\"borderwidth\":1,\"font\":{\"color\":\"black\",\"size\":10},\"showarrow\":false,\"text\":\"Literal\",\"x\":0.5999581217765808,\"xref\":\"x\",\"y\":1.6,\"yref\":\"y\"},{\"bgcolor\":\"rgba(255, 255, 255, 0.9)\",\"bordercolor\":\"black\",\"borderwidth\":1,\"font\":{\"color\":\"black\",\"size\":10},\"showarrow\":false,\"text\":\"Grounded\",\"x\":0.6300870180130005,\"xref\":\"x\",\"y\":0.45,\"yref\":\"y\"},{\"bgcolor\":\"rgba(255, 255, 255, 0.9)\",\"bordercolor\":\"black\",\"borderwidth\":1,\"font\":{\"color\":\"black\",\"size\":10},\"showarrow\":false,\"text\":\"Rationalist\",\"x\":0.6581432223320007,\"xref\":\"x\",\"y\":1.3,\"yref\":\"y\"},{\"bgcolor\":\"rgba(255, 255, 255, 0.9)\",\"bordercolor\":\"black\",\"borderwidth\":1,\"font\":{\"color\":\"black\",\"size\":10},\"showarrow\":false,\"text\":\"Detached\",\"x\":0.6687648892402649,\"xref\":\"x\",\"y\":0.75,\"yref\":\"y\"},{\"bgcolor\":\"rgba(255, 255, 255, 0.9)\",\"bordercolor\":\"black\",\"borderwidth\":1,\"font\":{\"color\":\"black\",\"size\":10},\"showarrow\":false,\"text\":\"Dispassionate\",\"x\":0.6796743869781494,\"xref\":\"x\",\"y\":1.75,\"yref\":\"y\"},{\"bgcolor\":\"rgba(255, 255, 255, 0.9)\",\"bordercolor\":\"black\",\"borderwidth\":1,\"font\":{\"color\":\"black\",\"size\":10},\"showarrow\":false,\"text\":\"Reserved\",\"x\":0.7070375084877014,\"xref\":\"x\",\"y\":0.3,\"yref\":\"y\"},{\"bgcolor\":\"rgba(255, 255, 255, 0.9)\",\"bordercolor\":\"red\",\"borderwidth\":1,\"font\":{\"color\":\"red\",\"size\":14},\"showarrow\":false,\"text\":\"Assistant\",\"x\":-0.13302455842494965,\"xref\":\"x\",\"y\":2,\"yref\":\"y\"},{\"bgcolor\":\"rgba(255, 255, 255, 0.9)\",\"bordercolor\":\"black\",\"borderwidth\":1,\"font\":{\"color\":\"black\",\"size\":10},\"showarrow\":false,\"text\":\"Artistic\",\"x\":-0.7744153141975403,\"xref\":\"x2\",\"y\":1.45,\"yref\":\"y2\"},{\"bgcolor\":\"rgba(255, 255, 255, 0.9)\",\"bordercolor\":\"black\",\"borderwidth\":1,\"font\":{\"color\":\"black\",\"size\":10},\"showarrow\":false,\"text\":\"Metaphorical\",\"x\":-0.7711819410324097,\"xref\":\"x2\",\"y\":0.6,\"yref\":\"y2\"},{\"bgcolor\":\"rgba(255, 255, 255, 0.9)\",\"bordercolor\":\"black\",\"borderwidth\":1,\"font\":{\"color\":\"black\",\"size\":10},\"showarrow\":false,\"text\":\"Poetic\",\"x\":-0.7577208280563354,\"xref\":\"x2\",\"y\":1.9,\"yref\":\"y2\"},{\"bgcolor\":\"rgba(255, 255, 255, 0.9)\",\"bordercolor\":\"black\",\"borderwidth\":1,\"font\":{\"color\":\"black\",\"size\":10},\"showarrow\":false,\"text\":\"Rhetorical\",\"x\":-0.7516551613807678,\"xref\":\"x2\",\"y\":0.15,\"yref\":\"y2\"},{\"bgcolor\":\"rgba(255, 255, 255, 0.9)\",\"bordercolor\":\"black\",\"borderwidth\":1,\"font\":{\"color\":\"black\",\"size\":10},\"showarrow\":false,\"text\":\"Creative\",\"x\":-0.7257822751998901,\"xref\":\"x2\",\"y\":1.6,\"yref\":\"y2\"},{\"bgcolor\":\"rgba(255, 255, 255, 0.9)\",\"bordercolor\":\"black\",\"borderwidth\":1,\"font\":{\"color\":\"black\",\"size\":10},\"showarrow\":false,\"text\":\"Romantic\",\"x\":-0.7135393619537354,\"xref\":\"x2\",\"y\":0.45,\"yref\":\"y2\"},{\"bgcolor\":\"rgba(255, 255, 255, 0.9)\",\"bordercolor\":\"black\",\"borderwidth\":1,\"font\":{\"color\":\"black\",\"size\":10},\"showarrow\":false,\"text\":\"Dramatic\",\"x\":-0.7072760462760925,\"xref\":\"x2\",\"y\":1.3,\"yref\":\"y2\"},{\"bgcolor\":\"rgba(255, 255, 255, 0.9)\",\"bordercolor\":\"black\",\"borderwidth\":1,\"font\":{\"color\":\"black\",\"size\":10},\"showarrow\":false,\"text\":\"Philosophical\",\"x\":-0.6896620392799377,\"xref\":\"x2\",\"y\":0.75,\"yref\":\"y2\"},{\"bgcolor\":\"rgba(255, 255, 255, 0.9)\",\"bordercolor\":\"black\",\"borderwidth\":1,\"font\":{\"color\":\"black\",\"size\":10},\"showarrow\":false,\"text\":\"Animated\",\"x\":-0.6890910267829895,\"xref\":\"x2\",\"y\":1.75,\"yref\":\"y2\"},{\"bgcolor\":\"rgba(255, 255, 255, 0.9)\",\"bordercolor\":\"black\",\"borderwidth\":1,\"font\":{\"color\":\"black\",\"size\":10},\"showarrow\":false,\"text\":\"Eloquent\",\"x\":-0.6671625971794128,\"xref\":\"x2\",\"y\":0.3,\"yref\":\"y2\"},{\"bgcolor\":\"rgba(255, 255, 255, 0.9)\",\"bordercolor\":\"black\",\"borderwidth\":1,\"font\":{\"color\":\"black\",\"size\":10},\"showarrow\":false,\"text\":\"Formalist\",\"x\":0.6740061640739441,\"xref\":\"x2\",\"y\":1.45,\"yref\":\"y2\"},{\"bgcolor\":\"rgba(255, 255, 255, 0.9)\",\"bordercolor\":\"black\",\"borderwidth\":1,\"font\":{\"color\":\"black\",\"size\":10},\"showarrow\":false,\"text\":\"Grounded\",\"x\":0.7001878619194031,\"xref\":\"x2\",\"y\":0.6,\"yref\":\"y2\"},{\"bgcolor\":\"rgba(255, 255, 255, 0.9)\",\"bordercolor\":\"black\",\"borderwidth\":1,\"font\":{\"color\":\"black\",\"size\":10},\"showarrow\":false,\"text\":\"Literal\",\"x\":0.7224426865577698,\"xref\":\"x2\",\"y\":1.9,\"yref\":\"y2\"},{\"bgcolor\":\"rgba(255, 255, 255, 0.9)\",\"bordercolor\":\"black\",\"borderwidth\":1,\"font\":{\"color\":\"black\",\"size\":10},\"showarrow\":false,\"text\":\"Materialist\",\"x\":0.7295283675193787,\"xref\":\"x2\",\"y\":0.15,\"yref\":\"y2\"},{\"bgcolor\":\"rgba(255, 255, 255, 0.9)\",\"bordercolor\":\"black\",\"borderwidth\":1,\"font\":{\"color\":\"black\",\"size\":10},\"showarrow\":false,\"text\":\"Reductionist\",\"x\":0.7335996627807617,\"xref\":\"x2\",\"y\":1.6,\"yref\":\"y2\"},{\"bgcolor\":\"rgba(255, 255, 255, 0.9)\",\"bordercolor\":\"black\",\"borderwidth\":1,\"font\":{\"color\":\"black\",\"size\":10},\"showarrow\":false,\"text\":\"Dispassionate\",\"x\":0.7600162029266357,\"xref\":\"x2\",\"y\":0.45,\"yref\":\"y2\"},{\"bgcolor\":\"rgba(255, 255, 255, 0.9)\",\"bordercolor\":\"black\",\"borderwidth\":1,\"font\":{\"color\":\"black\",\"size\":10},\"showarrow\":false,\"text\":\"Convergent\",\"x\":0.7700973153114319,\"xref\":\"x2\",\"y\":1.3,\"yref\":\"y2\"},{\"bgcolor\":\"rgba(255, 255, 255, 0.9)\",\"bordercolor\":\"black\",\"borderwidth\":1,\"font\":{\"color\":\"black\",\"size\":10},\"showarrow\":false,\"text\":\"Reserved\",\"x\":0.7744714617729187,\"xref\":\"x2\",\"y\":0.75,\"yref\":\"y2\"},{\"bgcolor\":\"rgba(255, 255, 255, 0.9)\",\"bordercolor\":\"black\",\"borderwidth\":1,\"font\":{\"color\":\"black\",\"size\":10},\"showarrow\":false,\"text\":\"Detached\",\"x\":0.7779844999313354,\"xref\":\"x2\",\"y\":1.75,\"yref\":\"y2\"},{\"bgcolor\":\"rgba(255, 255, 255, 0.9)\",\"bordercolor\":\"black\",\"borderwidth\":1,\"font\":{\"color\":\"black\",\"size\":10},\"showarrow\":false,\"text\":\"Rationalist\",\"x\":0.7794417142868042,\"xref\":\"x2\",\"y\":0.3,\"yref\":\"y2\"},{\"bgcolor\":\"rgba(255, 255, 255, 0.9)\",\"bordercolor\":\"red\",\"borderwidth\":1,\"font\":{\"color\":\"red\",\"size\":14},\"showarrow\":false,\"text\":\"Assistant\",\"x\":-0.033345941454172134,\"xref\":\"x2\",\"y\":2,\"yref\":\"y2\"}],\"shapes\":[{\"line\":{\"color\":\"gray\",\"dash\":\"solid\",\"width\":1},\"opacity\":0.7,\"type\":\"line\",\"x0\":0,\"x1\":0,\"xref\":\"x\",\"y0\":0,\"y1\":1,\"yref\":\"y domain\"},{\"line\":{\"color\":\"red\",\"dash\":\"dash\",\"width\":1},\"opacity\":1.0,\"type\":\"line\",\"x0\":-0.13302455842494965,\"x1\":-0.13302455842494965,\"xref\":\"x\",\"y0\":0,\"y1\":1,\"yref\":\"y domain\"},{\"line\":{\"color\":\"gray\",\"dash\":\"solid\",\"width\":1},\"opacity\":0.7,\"type\":\"line\",\"x0\":0,\"x1\":0,\"xref\":\"x2\",\"y0\":0,\"y1\":1,\"yref\":\"y2 domain\"},{\"line\":{\"color\":\"red\",\"dash\":\"dash\",\"width\":1},\"opacity\":1.0,\"type\":\"line\",\"x0\":-0.033345941454172134,\"x1\":-0.033345941454172134,\"xref\":\"x2\",\"y0\":0,\"y1\":1,\"yref\":\"y2 domain\"}],\"title\":{\"subtitle\":{\"text\":\"Llama 3.3 70B, Layer 40 - Mean-Centered and L2 Normalized Vectors\"},\"font\":{\"size\":16},\"text\":\"PCA on Trait Vectors\",\"x\":0.5},\"height\":800,\"width\":1000,\"showlegend\":false},                        {\"responsive\": true}                    ).then(function(){\n",
       "                            \n",
       "var gd = document.getElementById('1f74bc17-6580-4660-8fc3-8b96ada8986c');\n",
       "var x = new MutationObserver(function (mutations, observer) {{\n",
       "        var display = window.getComputedStyle(gd).display;\n",
       "        if (!display || display === 'none') {{\n",
       "            console.log([gd, 'removed!']);\n",
       "            Plotly.purge(gd);\n",
       "            observer.disconnect();\n",
       "        }}\n",
       "}});\n",
       "\n",
       "// Listen for the removal of the full notebook cells\n",
       "var notebookContainer = gd.closest('#notebook-container');\n",
       "if (notebookContainer) {{\n",
       "    x.observe(notebookContainer, {childList: true});\n",
       "}}\n",
       "\n",
       "// Listen for the clearing of the current output cell\n",
       "var outputEl = gd.closest('.output');\n",
       "if (outputEl) {{\n",
       "    x.observe(outputEl, {childList: true});\n",
       "}}\n",
       "\n",
       "                        })                };                });            </script>        </div>"
      ]
     },
     "metadata": {},
     "output_type": "display_data"
    },
    {
     "data": {
      "application/vnd.plotly.v1+json": {
       "config": {
        "plotlyServerURL": "https://plot.ly"
       },
       "data": [
        {
         "hovertemplate": "<b>%{text}</b><br>Cosine Similarity: %{x:.3f}<extra></extra>",
         "marker": {
          "color": "limegreen",
          "line": {
           "color": "black",
           "width": 1
          },
          "opacity": 1,
          "size": 8,
          "symbol": "diamond"
         },
         "mode": "markers",
         "showlegend": false,
         "text": [
          "Zealous",
          "Wry",
          "Witty",
          "Whimsical",
          "Visceral",
          "Vindictive",
          "Verbose",
          "Utilitarian",
          "Urgent",
          "Universalist",
          "Transparent",
          "Traditional",
          "Theoretical",
          "Theatrical",
          "Temperamental",
          "Tactful",
          "Systems Thinker",
          "Sycophantic",
          "Supportive",
          "Subversive",
          "Submissive",
          "Structuralist",
          "Stream Of Consciousness",
          "Strategic",
          "Stoic",
          "Spontaneous",
          "Spiritual",
          "Speculative",
          "Solemn",
          "Socratic",
          "Skeptical",
          "Serious",
          "Serene",
          "Secular",
          "Savage",
          "Sassy",
          "Sardonic",
          "Sarcastic",
          "Romantic",
          "Risk Taking",
          "Rhetorical",
          "Reverent",
          "Resilient",
          "Reserved",
          "Relativist",
          "Regulatory",
          "Reductionist",
          "Rebellious",
          "Rationalist",
          "Radical",
          "Quantitative",
          "Qualitative",
          "Provocative",
          "Progressive",
          "Problem Solving",
          "Proactive",
          "Principled",
          "Prescriptive",
          "Poetic",
          "Pluralist",
          "Playful",
          "Philosophical",
          "Petty",
          "Pessimistic",
          "Pensive",
          "Pedantic",
          "Patient",
          "Passive Aggressive",
          "Passionate",
          "Paranoid",
          "Paradoxical",
          "Pacifist",
          "Optimistic",
          "Open Ended",
          "Obsessive",
          "Nurturing",
          "Nostalgic",
          "Nonchalant",
          "Nihilistic",
          "Neurotic",
          "Narrative",
          "Naive",
          "Mystical",
          "Mischievous",
          "Misanthropic",
          "Militant",
          "Methodical",
          "Metaphorical",
          "Mercurial",
          "Melodramatic",
          "Melancholic",
          "Meditative",
          "Materialist",
          "Manipulative",
          "Manic",
          "Literal",
          "Libertarian",
          "Judgmental",
          "Irreverent",
          "Ironic",
          "Intuitive",
          "Introverted",
          "Introspective",
          "Interdisciplinary",
          "Inspirational",
          "Inquisitive",
          "Innovative",
          "Individualistic",
          "Independent",
          "Inclusive",
          "Impulsive",
          "Improvisational",
          "Impatient",
          "Idealistic",
          "Iconoclastic",
          "Humanistic",
          "Hostile",
          "Holistic",
          "Historical",
          "Hedonistic",
          "Grounded",
          "Gregarious",
          "Goofy",
          "Generous",
          "Generalist",
          "Futuristic",
          "Fundamentalist",
          "Formalist",
          "Formal",
          "Flirty",
          "Flippant",
          "Flexible",
          "Fatalistic",
          "Factual",
          "Extroverted",
          "Exploratory",
          "Experiential",
          "Existentialist",
          "Evil",
          "Ethereal",
          "Essentialist",
          "Epicurean",
          "Environmental",
          "Entertaining",
          "Enigmatic",
          "Emotional",
          "Eloquent",
          "Elitist",
          "Egalitarian",
          "Effusive",
          "Efficient",
          "Educational",
          "Edgy",
          "Eclectic",
          "Earnest",
          "Dramatic",
          "Dogmatic",
          "Divergent",
          "Dispassionate",
          "Disorganized",
          "Diplomatic",
          "Deterministic",
          "Detached",
          "Descriptive",
          "Deontological",
          "Deferential",
          "Deconstructionist",
          "Decisive",
          "Data Driven",
          "Cynical",
          "Curious",
          "Cryptic",
          "Cruel",
          "Critical",
          "Creative",
          "Cosmopolitan",
          "Convergent",
          "Contrarian",
          "Contemporary",
          "Constructivist",
          "Conscientious",
          "Confrontational",
          "Confident",
          "Condescending",
          "Concise",
          "Conciliatory",
          "Conceptual",
          "Competitive",
          "Collectivistic",
          "Collaborative",
          "Closure Seeking",
          "Circumspect",
          "Charismatic",
          "Chaotic",
          "Challenging",
          "Cautious",
          "Calm",
          "Callous",
          "Calculating",
          "Blunt",
          "Bitter",
          "Big Picture",
          "Benevolent",
          "Avoidant",
          "Assertive",
          "Ascetic",
          "Artistic",
          "Arrogant",
          "Anxious",
          "Anthropocentric",
          "Animated",
          "Analytical",
          "Altruistic",
          "Agreeable",
          "Adventurous",
          "Adaptable",
          "Acerbic",
          "Accommodating",
          "Abstract",
          "Absolutist"
         ],
         "type": "scatter",
         "x": [
          -0.32494890689849854,
          -0.1921272873878479,
          -0.016735270619392395,
          -0.16052132844924927,
          0.24675314128398895,
          -0.2965773642063141,
          -0.18060702085494995,
          -0.04609547555446625,
          -0.35063210129737854,
          -0.2056637555360794,
          0.1422644704580307,
          0.08710557967424393,
          -0.5127455592155457,
          -0.47030511498451233,
          -0.0022950340062379837,
          0.28042206168174744,
          -0.16367940604686737,
          0.08115843683481216,
          0.06879839301109314,
          -0.08986944705247879,
          0.3577635884284973,
          -0.5568944811820984,
          0.2612697184085846,
          -0.2912611961364746,
          -0.4404866099357605,
          0.014304972253739834,
          -0.19544260203838348,
          -0.026304779574275017,
          -0.5166300535202026,
          0.27245935797691345,
          -0.37958988547325134,
          -0.5285729169845581,
          -0.014712447300553322,
          -0.019058726727962494,
          -0.3228616714477539,
          -0.2666381895542145,
          -0.15343213081359863,
          -0.22239714860916138,
          -0.1756700575351715,
          -0.12102152407169342,
          -0.37989404797554016,
          -0.3709859251976013,
          -0.06517574936151505,
          -0.16775605082511902,
          -0.00048603067989461124,
          -0.19461382925510406,
          0.0735534280538559,
          -0.13373935222625732,
          -0.3559018075466156,
          -0.3301977515220642,
          -0.18716132640838623,
          0.05356951802968979,
          -0.33401402831077576,
          -0.08028587698936462,
          -0.1869676560163498,
          -0.2010941505432129,
          -0.2836468517780304,
          -0.44892120361328125,
          -0.23434527218341827,
          0.28329145908355713,
          0.18234871327877045,
          -0.39626777172088623,
          -0.04406331479549408,
          -0.19672374427318573,
          -0.4140811860561371,
          -0.5360224843025208,
          0.09088388085365295,
          0.014448827132582664,
          -0.18068961799144745,
          -0.18829409778118134,
          -0.07347409427165985,
          -0.018828516826033592,
          0.22997316718101501,
          0.3992365002632141,
          -0.2250850945711136,
          0.159660205245018,
          -0.1283397674560547,
          0.25331979990005493,
          -0.3453131318092346,
          0.1497621089220047,
          0.021448006853461266,
          0.4029454290866852,
          -0.15509487688541412,
          0.017544014379382133,
          -0.36122000217437744,
          -0.43859386444091797,
          -0.39548543095588684,
          -0.20227035880088806,
          -0.07798516750335693,
          -0.4272180199623108,
          -0.3657835125923157,
          -0.07788878679275513,
          -0.20130464434623718,
          0.02188117429614067,
          0.030420774593949318,
          0.04921911284327507,
          -0.10816139727830887,
          -0.2602086663246155,
          0.1702362596988678,
          -0.07791884243488312,
          0.01006693858653307,
          -0.549323558807373,
          -0.06249092519283295,
          -0.25802719593048096,
          0.063834547996521,
          0.26730766892433167,
          -0.24386462569236755,
          -0.1835547238588333,
          -0.27898159623146057,
          0.027738403528928757,
          0.23330727219581604,
          0.3686771094799042,
          0.056241996586322784,
          -0.227088063955307,
          -0.376997172832489,
          0.36939528584480286,
          -0.3081215023994446,
          -0.13519622385501862,
          -0.3113493025302887,
          0.14073100686073303,
          0.37746185064315796,
          0.34017622470855713,
          0.0763779804110527,
          -0.20856936275959015,
          -0.019983645528554916,
          -0.24540221691131592,
          -0.4126929044723511,
          -0.47485530376434326,
          -0.5672880411148071,
          0.02987673319876194,
          0.17814497649669647,
          0.33283287286758423,
          -0.20010140538215637,
          0.017805490642786026,
          0.1305718570947647,
          0.18530882894992828,
          0.333528071641922,
          0.10595951229333878,
          -0.14562681317329407,
          -0.29444620013237,
          -0.3820984661579132,
          -0.38683515787124634,
          -0.08898963034152985,
          0.17871622741222382,
          -0.25030678510665894,
          0.31069663166999817,
          -0.44819754362106323,
          -0.5903374552726746,
          -0.021649232134222984,
          0.004061062820255756,
          0.15236903727054596,
          -0.40325650572776794,
          -0.19765804708003998,
          -0.279186487197876,
          -0.16013048589229584,
          -0.4370695650577545,
          -0.32450029253959656,
          0.023462796583771706,
          -0.29285722970962524,
          0.21606822311878204,
          0.23607295751571655,
          -0.33833402395248413,
          -0.39677560329437256,
          0.09467490762472153,
          -0.18504862487316132,
          0.32436051964759827,
          -0.3072035610675812,
          -0.38033729791641235,
          -0.3562336266040802,
          -0.35745036602020264,
          -0.14509838819503784,
          -0.38839179277420044,
          -0.37113597989082336,
          -0.30576035380363464,
          -0.21434488892555237,
          -0.14865390956401825,
          -0.16590288281440735,
          -0.2982124388217926,
          0.17529956996440887,
          0.050609372556209564,
          -0.32064005732536316,
          -0.5922955870628357,
          -0.5381673574447632,
          -0.28368455171585083,
          0.11579579859972,
          0.38272663950920105,
          -0.35499677062034607,
          -0.42921000719070435,
          0.17453056573867798,
          0.18673959374427795,
          -0.3536108434200287,
          0.2572386562824249,
          -0.2091575711965561,
          -0.15015432238578796,
          -0.3469296991825104,
          0.08844435214996338,
          0.12789340317249298,
          -0.3859269320964813,
          -0.475607305765152,
          -0.33373701572418213,
          -0.2562991678714752,
          -0.26933762431144714,
          0.3378092050552368,
          0.2641615569591522,
          -0.4686677157878876,
          -0.25186771154403687,
          -0.013635245151817799,
          -0.5847785472869873,
          0.12433294951915741,
          -0.12810400128364563,
          -0.0985599085688591,
          -0.33853787183761597,
          0.18605348467826843,
          0.37500834465026855,
          -0.1229601502418518,
          0.35011887550354004,
          -0.3900338411331177,
          0.38403624296188354,
          -0.3724372088909149,
          -0.3925783932209015
         ],
         "xaxis": "x",
         "y": [
          1,
          1,
          1,
          1,
          1,
          1,
          1,
          1,
          1,
          1,
          1,
          1,
          1,
          1,
          1,
          1,
          1,
          1,
          1,
          1,
          1,
          1,
          1,
          1,
          1,
          1,
          1,
          1,
          1,
          1,
          1,
          1,
          1,
          1,
          1,
          1,
          1,
          1,
          1,
          1,
          1,
          1,
          1,
          1,
          1,
          1,
          1,
          1,
          1,
          1,
          1,
          1,
          1,
          1,
          1,
          1,
          1,
          1,
          1,
          1,
          1,
          1,
          1,
          1,
          1,
          1,
          1,
          1,
          1,
          1,
          1,
          1,
          1,
          1,
          1,
          1,
          1,
          1,
          1,
          1,
          1,
          1,
          1,
          1,
          1,
          1,
          1,
          1,
          1,
          1,
          1,
          1,
          1,
          1,
          1,
          1,
          1,
          1,
          1,
          1,
          1,
          1,
          1,
          1,
          1,
          1,
          1,
          1,
          1,
          1,
          1,
          1,
          1,
          1,
          1,
          1,
          1,
          1,
          1,
          1,
          1,
          1,
          1,
          1,
          1,
          1,
          1,
          1,
          1,
          1,
          1,
          1,
          1,
          1,
          1,
          1,
          1,
          1,
          1,
          1,
          1,
          1,
          1,
          1,
          1,
          1,
          1,
          1,
          1,
          1,
          1,
          1,
          1,
          1,
          1,
          1,
          1,
          1,
          1,
          1,
          1,
          1,
          1,
          1,
          1,
          1,
          1,
          1,
          1,
          1,
          1,
          1,
          1,
          1,
          1,
          1,
          1,
          1,
          1,
          1,
          1,
          1,
          1,
          1,
          1,
          1,
          1,
          1,
          1,
          1,
          1,
          1,
          1,
          1,
          1,
          1,
          1,
          1,
          1,
          1,
          1,
          1,
          1,
          1,
          1,
          1,
          1,
          1,
          1,
          1,
          1,
          1,
          1,
          1,
          1,
          1,
          1,
          1,
          1,
          1
         ],
         "yaxis": "y"
        },
        {
         "hovertemplate": "<b>%{text}</b><br>Cosine Similarity: %{x:.3f}<extra></extra>",
         "marker": {
          "color": "limegreen",
          "line": {
           "color": "black",
           "width": 1
          },
          "opacity": 1,
          "size": 8,
          "symbol": "diamond"
         },
         "mode": "markers",
         "showlegend": false,
         "text": [
          "Understated",
          "Technical",
          "Specialized",
          "Ritualistic",
          "Reactive",
          "Practical",
          "Perfectionist",
          "Moderate",
          "Meticulous",
          "Humble",
          "Grandiose",
          "Forgiving",
          "Esoteric",
          "Erudite",
          "Empathetic",
          "Dominant",
          "Chill",
          "Casual",
          "Bombastic",
          "Accessible"
         ],
         "type": "scatter",
         "x": [
          0.4662025570869446,
          -0.6526121497154236,
          -0.6760011911392212,
          -0.6128299832344055,
          0.4061519503593445,
          0.42410171031951904,
          -0.6295143961906433,
          0.4050869941711426,
          -0.5946528911590576,
          0.5263048410415649,
          -0.7134374976158142,
          0.46825334429740906,
          -0.622992217540741,
          -0.6775538921356201,
          0.4838498830795288,
          -0.6463004946708679,
          0.5955060124397278,
          0.6232799887657166,
          -0.7254335880279541,
          0.6358689069747925
         ],
         "xaxis": "x",
         "y": [
          1,
          1,
          1,
          1,
          1,
          1,
          1,
          1,
          1,
          1,
          1,
          1,
          1,
          1,
          1,
          1,
          1,
          1,
          1,
          1
         ],
         "yaxis": "y"
        },
        {
         "hoverinfo": "skip",
         "line": {
          "color": "black",
          "width": 1
         },
         "mode": "lines",
         "showlegend": false,
         "type": "scatter",
         "x": [
          -0.7254335880279541,
          -0.7254335880279541
         ],
         "xaxis": "x",
         "y": [
          1,
          1.45
         ],
         "yaxis": "y"
        },
        {
         "hoverinfo": "skip",
         "line": {
          "color": "black",
          "width": 1
         },
         "mode": "lines",
         "showlegend": false,
         "type": "scatter",
         "x": [
          -0.7134374976158142,
          -0.7134374976158142
         ],
         "xaxis": "x",
         "y": [
          1,
          0.6
         ],
         "yaxis": "y"
        },
        {
         "hoverinfo": "skip",
         "line": {
          "color": "black",
          "width": 1
         },
         "mode": "lines",
         "showlegend": false,
         "type": "scatter",
         "x": [
          -0.6775538921356201,
          -0.6775538921356201
         ],
         "xaxis": "x",
         "y": [
          1,
          1.9
         ],
         "yaxis": "y"
        },
        {
         "hoverinfo": "skip",
         "line": {
          "color": "black",
          "width": 1
         },
         "mode": "lines",
         "showlegend": false,
         "type": "scatter",
         "x": [
          -0.6760011911392212,
          -0.6760011911392212
         ],
         "xaxis": "x",
         "y": [
          1,
          0.15
         ],
         "yaxis": "y"
        },
        {
         "hoverinfo": "skip",
         "line": {
          "color": "black",
          "width": 1
         },
         "mode": "lines",
         "showlegend": false,
         "type": "scatter",
         "x": [
          -0.6526121497154236,
          -0.6526121497154236
         ],
         "xaxis": "x",
         "y": [
          1,
          1.6
         ],
         "yaxis": "y"
        },
        {
         "hoverinfo": "skip",
         "line": {
          "color": "black",
          "width": 1
         },
         "mode": "lines",
         "showlegend": false,
         "type": "scatter",
         "x": [
          -0.6463004946708679,
          -0.6463004946708679
         ],
         "xaxis": "x",
         "y": [
          1,
          0.45
         ],
         "yaxis": "y"
        },
        {
         "hoverinfo": "skip",
         "line": {
          "color": "black",
          "width": 1
         },
         "mode": "lines",
         "showlegend": false,
         "type": "scatter",
         "x": [
          -0.6295143961906433,
          -0.6295143961906433
         ],
         "xaxis": "x",
         "y": [
          1,
          1.3
         ],
         "yaxis": "y"
        },
        {
         "hoverinfo": "skip",
         "line": {
          "color": "black",
          "width": 1
         },
         "mode": "lines",
         "showlegend": false,
         "type": "scatter",
         "x": [
          -0.622992217540741,
          -0.622992217540741
         ],
         "xaxis": "x",
         "y": [
          1,
          0.75
         ],
         "yaxis": "y"
        },
        {
         "hoverinfo": "skip",
         "line": {
          "color": "black",
          "width": 1
         },
         "mode": "lines",
         "showlegend": false,
         "type": "scatter",
         "x": [
          -0.6128299832344055,
          -0.6128299832344055
         ],
         "xaxis": "x",
         "y": [
          1,
          1.75
         ],
         "yaxis": "y"
        },
        {
         "hoverinfo": "skip",
         "line": {
          "color": "black",
          "width": 1
         },
         "mode": "lines",
         "showlegend": false,
         "type": "scatter",
         "x": [
          -0.5946528911590576,
          -0.5946528911590576
         ],
         "xaxis": "x",
         "y": [
          1,
          0.3
         ],
         "yaxis": "y"
        },
        {
         "hoverinfo": "skip",
         "line": {
          "color": "black",
          "width": 1
         },
         "mode": "lines",
         "showlegend": false,
         "type": "scatter",
         "x": [
          0.4050869941711426,
          0.4050869941711426
         ],
         "xaxis": "x",
         "y": [
          1,
          1.45
         ],
         "yaxis": "y"
        },
        {
         "hoverinfo": "skip",
         "line": {
          "color": "black",
          "width": 1
         },
         "mode": "lines",
         "showlegend": false,
         "type": "scatter",
         "x": [
          0.4061519503593445,
          0.4061519503593445
         ],
         "xaxis": "x",
         "y": [
          1,
          0.6
         ],
         "yaxis": "y"
        },
        {
         "hoverinfo": "skip",
         "line": {
          "color": "black",
          "width": 1
         },
         "mode": "lines",
         "showlegend": false,
         "type": "scatter",
         "x": [
          0.42410171031951904,
          0.42410171031951904
         ],
         "xaxis": "x",
         "y": [
          1,
          1.9
         ],
         "yaxis": "y"
        },
        {
         "hoverinfo": "skip",
         "line": {
          "color": "black",
          "width": 1
         },
         "mode": "lines",
         "showlegend": false,
         "type": "scatter",
         "x": [
          0.4662025570869446,
          0.4662025570869446
         ],
         "xaxis": "x",
         "y": [
          1,
          0.15
         ],
         "yaxis": "y"
        },
        {
         "hoverinfo": "skip",
         "line": {
          "color": "black",
          "width": 1
         },
         "mode": "lines",
         "showlegend": false,
         "type": "scatter",
         "x": [
          0.46825334429740906,
          0.46825334429740906
         ],
         "xaxis": "x",
         "y": [
          1,
          1.6
         ],
         "yaxis": "y"
        },
        {
         "hoverinfo": "skip",
         "line": {
          "color": "black",
          "width": 1
         },
         "mode": "lines",
         "showlegend": false,
         "type": "scatter",
         "x": [
          0.4838498830795288,
          0.4838498830795288
         ],
         "xaxis": "x",
         "y": [
          1,
          0.45
         ],
         "yaxis": "y"
        },
        {
         "hoverinfo": "skip",
         "line": {
          "color": "black",
          "width": 1
         },
         "mode": "lines",
         "showlegend": false,
         "type": "scatter",
         "x": [
          0.5263048410415649,
          0.5263048410415649
         ],
         "xaxis": "x",
         "y": [
          1,
          1.3
         ],
         "yaxis": "y"
        },
        {
         "hoverinfo": "skip",
         "line": {
          "color": "black",
          "width": 1
         },
         "mode": "lines",
         "showlegend": false,
         "type": "scatter",
         "x": [
          0.5955060124397278,
          0.5955060124397278
         ],
         "xaxis": "x",
         "y": [
          1,
          0.75
         ],
         "yaxis": "y"
        },
        {
         "hoverinfo": "skip",
         "line": {
          "color": "black",
          "width": 1
         },
         "mode": "lines",
         "showlegend": false,
         "type": "scatter",
         "x": [
          0.6232799887657166,
          0.6232799887657166
         ],
         "xaxis": "x",
         "y": [
          1,
          1.75
         ],
         "yaxis": "y"
        },
        {
         "hoverinfo": "skip",
         "line": {
          "color": "black",
          "width": 1
         },
         "mode": "lines",
         "showlegend": false,
         "type": "scatter",
         "x": [
          0.6358689069747925,
          0.6358689069747925
         ],
         "xaxis": "x",
         "y": [
          1,
          0.3
         ],
         "yaxis": "y"
        },
        {
         "hoverinfo": "skip",
         "marker": {
          "color": "limegreen"
         },
         "opacity": 0.7,
         "showlegend": false,
         "type": "bar",
         "width": 0.03630142211914063,
         "x": [
          -0.7027451992034912,
          -0.6573684215545654,
          -0.6119917035102844,
          -0.5666149854660034,
          -0.5212382078170776,
          -0.47586148977279663,
          -0.43048471212387085,
          -0.38510796427726746,
          -0.33973121643066406,
          -0.2943544387817383,
          -0.24897772073745728,
          -0.20360097289085388,
          -0.1582242101430893,
          -0.1128474622964859,
          -0.06747071444988251,
          -0.022093964740633965,
          0.023282784968614578,
          0.06865953654050827,
          0.11403629183769226,
          0.15941303968429565,
          0.20478978753089905,
          0.25016653537750244,
          0.29554328322410583,
          0.34092003107070923,
          0.386296808719635,
          0.431673526763916,
          0.4770503044128418,
          0.5224270224571228,
          0.5678037405014038,
          0.6131805181503296
         ],
         "xaxis": "x",
         "y": [
          0.09000000000000001,
          0.18000000000000002,
          0.27,
          0.18000000000000002,
          0.225,
          0.18000000000000002,
          0.405,
          0.81,
          0.81,
          0.5850000000000001,
          0.49500000000000005,
          0.9,
          0.63,
          0.36000000000000004,
          0.45,
          0.49500000000000005,
          0.54,
          0.54,
          0.27,
          0.45,
          0.225,
          0.45,
          0.135,
          0.315,
          0.45,
          0.045000000000000005,
          0.135,
          0.045000000000000005,
          0,
          0.135
         ],
         "yaxis": "y"
        },
        {
         "hovertemplate": "<b>%{text}</b><br>PC Projection: %{x:.3f}<extra></extra>",
         "marker": {
          "color": "limegreen",
          "line": {
           "color": "black",
           "width": 1
          },
          "opacity": 1,
          "size": 8,
          "symbol": "diamond"
         },
         "mode": "markers",
         "showlegend": false,
         "text": [
          "Zealous",
          "Wry",
          "Witty",
          "Whimsical",
          "Visceral",
          "Vindictive",
          "Verbose",
          "Utilitarian",
          "Urgent",
          "Universalist",
          "Transparent",
          "Traditional",
          "Theoretical",
          "Theatrical",
          "Temperamental",
          "Tactful",
          "Systems Thinker",
          "Sycophantic",
          "Supportive",
          "Subversive",
          "Submissive",
          "Structuralist",
          "Stream Of Consciousness",
          "Strategic",
          "Stoic",
          "Spontaneous",
          "Spiritual",
          "Speculative",
          "Solemn",
          "Socratic",
          "Skeptical",
          "Serious",
          "Serene",
          "Secular",
          "Savage",
          "Sassy",
          "Sardonic",
          "Sarcastic",
          "Romantic",
          "Risk Taking",
          "Rhetorical",
          "Reverent",
          "Resilient",
          "Reserved",
          "Relativist",
          "Regulatory",
          "Reductionist",
          "Rebellious",
          "Reactive",
          "Rationalist",
          "Radical",
          "Quantitative",
          "Qualitative",
          "Provocative",
          "Progressive",
          "Problem Solving",
          "Proactive",
          "Principled",
          "Prescriptive",
          "Practical",
          "Poetic",
          "Pluralist",
          "Playful",
          "Philosophical",
          "Petty",
          "Pessimistic",
          "Pensive",
          "Pedantic",
          "Patient",
          "Passive Aggressive",
          "Passionate",
          "Paranoid",
          "Paradoxical",
          "Pacifist",
          "Optimistic",
          "Obsessive",
          "Nurturing",
          "Nostalgic",
          "Nonchalant",
          "Nihilistic",
          "Neurotic",
          "Narrative",
          "Naive",
          "Mystical",
          "Moderate",
          "Mischievous",
          "Misanthropic",
          "Militant",
          "Meticulous",
          "Methodical",
          "Metaphorical",
          "Mercurial",
          "Melodramatic",
          "Melancholic",
          "Meditative",
          "Materialist",
          "Manipulative",
          "Manic",
          "Literal",
          "Libertarian",
          "Judgmental",
          "Irreverent",
          "Ironic",
          "Intuitive",
          "Introverted",
          "Introspective",
          "Interdisciplinary",
          "Inspirational",
          "Inquisitive",
          "Innovative",
          "Individualistic",
          "Independent",
          "Inclusive",
          "Impulsive",
          "Impatient",
          "Idealistic",
          "Iconoclastic",
          "Humanistic",
          "Hostile",
          "Holistic",
          "Historical",
          "Hedonistic",
          "Grounded",
          "Gregarious",
          "Goofy",
          "Generous",
          "Generalist",
          "Futuristic",
          "Fundamentalist",
          "Formalist",
          "Formal",
          "Flirty",
          "Flippant",
          "Flexible",
          "Fatalistic",
          "Factual",
          "Extroverted",
          "Exploratory",
          "Experiential",
          "Existentialist",
          "Evil",
          "Ethereal",
          "Essentialist",
          "Epicurean",
          "Environmental",
          "Entertaining",
          "Enigmatic",
          "Emotional",
          "Eloquent",
          "Egalitarian",
          "Effusive",
          "Efficient",
          "Educational",
          "Edgy",
          "Eclectic",
          "Earnest",
          "Dramatic",
          "Dominant",
          "Dogmatic",
          "Divergent",
          "Dispassionate",
          "Disorganized",
          "Diplomatic",
          "Deterministic",
          "Detached",
          "Descriptive",
          "Deontological",
          "Deferential",
          "Deconstructionist",
          "Decisive",
          "Data Driven",
          "Cynical",
          "Curious",
          "Cryptic",
          "Cruel",
          "Critical",
          "Creative",
          "Cosmopolitan",
          "Convergent",
          "Contrarian",
          "Contemporary",
          "Constructivist",
          "Conscientious",
          "Confrontational",
          "Confident",
          "Condescending",
          "Concise",
          "Conciliatory",
          "Conceptual",
          "Competitive",
          "Collectivistic",
          "Collaborative",
          "Closure Seeking",
          "Circumspect",
          "Charismatic",
          "Chaotic",
          "Challenging",
          "Cautious",
          "Calm",
          "Callous",
          "Calculating",
          "Blunt",
          "Bitter",
          "Big Picture",
          "Benevolent",
          "Avoidant",
          "Assertive",
          "Ascetic",
          "Artistic",
          "Anxious",
          "Anthropocentric",
          "Animated",
          "Analytical",
          "Altruistic",
          "Agreeable",
          "Adventurous",
          "Adaptable",
          "Acerbic",
          "Abstract",
          "Absolutist"
         ],
         "type": "scatter",
         "x": [
          -0.24963466823101044,
          -0.10422071069478989,
          0.08493606001138687,
          -0.07318336516618729,
          0.37223562598228455,
          -0.1689629852771759,
          -0.09296536445617676,
          0.14408569037914276,
          -0.24192245304584503,
          0.1115390732884407,
          0.23372891545295715,
          0.20837032794952393,
          -0.422482430934906,
          -0.45135048031806946,
          0.11309933662414551,
          0.3838295638561249,
          -0.005821977276355028,
          0.19006381928920746,
          0.14594916999340057,
          0.05148766189813614,
          0.45373931527137756,
          -0.4153115153312683,
          0.4578068256378174,
          -0.2048637568950653,
          -0.2566610872745514,
          0.16955450177192688,
          -0.09728703647851944,
          0.2077987641096115,
          -0.4127594232559204,
          0.3889722228050232,
          -0.19652391970157623,
          -0.40286508202552795,
          0.07517627626657486,
          0.1179688572883606,
          -0.22846591472625732,
          -0.1817515790462494,
          -0.06607582420110703,
          -0.13345180451869965,
          -0.09340494126081467,
          0.10173984616994858,
          -0.3352366089820862,
          -0.259063184261322,
          0.02235475555062294,
          -0.023773739114403725,
          0.13194085657596588,
          -0.03157486021518707,
          0.2398131787776947,
          0.02883118763566017,
          0.4961199462413788,
          -0.19431614875793457,
          -0.22289320826530457,
          -0.0795750766992569,
          0.1799817979335785,
          -0.21719567477703094,
          0.09845452010631561,
          -0.07496856898069382,
          -0.08508877456188202,
          -0.03620093688368797,
          -0.2911783754825592,
          0.48663362860679626,
          -0.1734163910150528,
          0.4628705084323883,
          0.33431240916252136,
          -0.3301655948162079,
          0.052663061767816544,
          -0.06266134232282639,
          -0.3471687138080597,
          -0.4293810725212097,
          0.1748395711183548,
          0.11457352340221405,
          -0.07626020908355713,
          -0.07462860643863678,
          0.10284049063920975,
          0.19182837009429932,
          0.3295350670814514,
          -0.11505508422851562,
          0.24053756892681122,
          0.0029481237288564444,
          0.32271143794059753,
          -0.2825881838798523,
          0.24489521980285645,
          0.14957180619239807,
          0.4677633047103882,
          -0.05904620140790939,
          0.45812204480171204,
          0.14143620431423187,
          -0.29248079657554626,
          -0.36208659410476685,
          -0.4986240267753601,
          -0.27114245295524597,
          -0.13633771240711212,
          0.04546450451016426,
          -0.3997285068035126,
          -0.2867313623428345,
          -0.0011819815263152122,
          -0.0258211437612772,
          0.12276007235050201,
          0.14238299429416656,
          0.1636860966682434,
          0.06666556000709534,
          -0.162430539727211,
          0.27875444293022156,
          0.02182832360267639,
          0.159467875957489,
          -0.4253244698047638,
          0.08733543753623962,
          -0.05514293164014816,
          0.14872819185256958,
          0.40332919359207153,
          -0.09924066811800003,
          0.027033062651753426,
          -0.1614571362733841,
          0.19664336740970612,
          0.32698604464530945,
          0.138940691947937,
          -0.03581395000219345,
          -0.2615289092063904,
          0.5031018853187561,
          -0.22815585136413574,
          -0.011277484707534313,
          -0.17374727129936218,
          0.2768404483795166,
          0.42510318756103516,
          0.48629245162010193,
          0.17598369717597961,
          -0.13552848994731903,
          0.09290481358766556,
          -0.1022031307220459,
          -0.27117234468460083,
          -0.25700587034225464,
          -0.4540567398071289,
          0.1319115310907364,
          0.25945237278938293,
          0.4026917517185211,
          -0.10470214486122131,
          0.16152802109718323,
          0.2809705436229706,
          0.3151940107345581,
          0.4415487051010132,
          0.23325268924236298,
          -0.05062290281057358,
          -0.2257477194070816,
          -0.21741819381713867,
          -0.320629745721817,
          0.04795129969716072,
          0.3274558186531067,
          -0.18939794600009918,
          0.4601368308067322,
          -0.41610345244407654,
          0.15253551304340363,
          0.11296926438808441,
          0.2353728711605072,
          -0.32311734557151794,
          -0.10946550220251083,
          -0.13277454674243927,
          -0.06979583203792572,
          -0.413993239402771,
          -0.48723331093788147,
          -0.22187040746212006,
          0.17176443338394165,
          -0.1546047478914261,
          0.3108065724372864,
          0.31866729259490967,
          -0.25741279125213623,
          -0.22939449548721313,
          0.2119332104921341,
          0.05354616418480873,
          0.47510722279548645,
          -0.1767081320285797,
          -0.2564183473587036,
          -0.20886197686195374,
          -0.2519201636314392,
          -0.05574748292565346,
          -0.3473878502845764,
          -0.2882009744644165,
          -0.18162617087364197,
          -0.08355137705802917,
          -0.014257321134209633,
          0.1173311248421669,
          -0.1474546194076538,
          0.3588269054889679,
          0.23011784255504608,
          -0.24248722195625305,
          -0.44888219237327576,
          -0.4076083302497864,
          -0.18002142012119293,
          0.19216959178447723,
          0.4413791298866272,
          -0.20980088412761688,
          -0.3447635769844055,
          0.31824326515197754,
          0.3248056471347809,
          -0.16923578083515167,
          0.37912118434906006,
          -0.150362029671669,
          -0.002340886276215315,
          -0.22157719731330872,
          0.23817448318004608,
          0.21426787972450256,
          -0.30024904012680054,
          -0.36030176281929016,
          -0.22024138271808624,
          -0.1729240119457245,
          -0.10253554582595825,
          0.4195612072944641,
          0.35499322414398193,
          -0.31270962953567505,
          -0.13091875612735748,
          0.10117122530937195,
          0.2215861976146698,
          0.1392349749803543,
          -0.02814716473221779,
          -0.21023114025592804,
          0.2943251430988312,
          0.44761642813682556,
          0.032790396362543106,
          0.4435718357563019,
          -0.314776748418808,
          -0.2304641455411911,
          -0.21065708994865417
         ],
         "xaxis": "x2",
         "y": [
          1,
          1,
          1,
          1,
          1,
          1,
          1,
          1,
          1,
          1,
          1,
          1,
          1,
          1,
          1,
          1,
          1,
          1,
          1,
          1,
          1,
          1,
          1,
          1,
          1,
          1,
          1,
          1,
          1,
          1,
          1,
          1,
          1,
          1,
          1,
          1,
          1,
          1,
          1,
          1,
          1,
          1,
          1,
          1,
          1,
          1,
          1,
          1,
          1,
          1,
          1,
          1,
          1,
          1,
          1,
          1,
          1,
          1,
          1,
          1,
          1,
          1,
          1,
          1,
          1,
          1,
          1,
          1,
          1,
          1,
          1,
          1,
          1,
          1,
          1,
          1,
          1,
          1,
          1,
          1,
          1,
          1,
          1,
          1,
          1,
          1,
          1,
          1,
          1,
          1,
          1,
          1,
          1,
          1,
          1,
          1,
          1,
          1,
          1,
          1,
          1,
          1,
          1,
          1,
          1,
          1,
          1,
          1,
          1,
          1,
          1,
          1,
          1,
          1,
          1,
          1,
          1,
          1,
          1,
          1,
          1,
          1,
          1,
          1,
          1,
          1,
          1,
          1,
          1,
          1,
          1,
          1,
          1,
          1,
          1,
          1,
          1,
          1,
          1,
          1,
          1,
          1,
          1,
          1,
          1,
          1,
          1,
          1,
          1,
          1,
          1,
          1,
          1,
          1,
          1,
          1,
          1,
          1,
          1,
          1,
          1,
          1,
          1,
          1,
          1,
          1,
          1,
          1,
          1,
          1,
          1,
          1,
          1,
          1,
          1,
          1,
          1,
          1,
          1,
          1,
          1,
          1,
          1,
          1,
          1,
          1,
          1,
          1,
          1,
          1,
          1,
          1,
          1,
          1,
          1,
          1,
          1,
          1,
          1,
          1,
          1,
          1,
          1,
          1,
          1,
          1,
          1,
          1,
          1,
          1,
          1,
          1,
          1,
          1,
          1,
          1,
          1,
          1,
          1,
          1
         ],
         "yaxis": "y2"
        },
        {
         "hovertemplate": "<b>%{text}</b><br>PC Projection: %{x:.3f}<extra></extra>",
         "marker": {
          "color": "limegreen",
          "line": {
           "color": "black",
           "width": 1
          },
          "opacity": 1,
          "size": 8,
          "symbol": "diamond"
         },
         "mode": "markers",
         "showlegend": false,
         "text": [
          "Understated",
          "Technical",
          "Specialized",
          "Ritualistic",
          "Perfectionist",
          "Open Ended",
          "Improvisational",
          "Humble",
          "Grandiose",
          "Forgiving",
          "Esoteric",
          "Erudite",
          "Empathetic",
          "Elitist",
          "Chill",
          "Casual",
          "Bombastic",
          "Arrogant",
          "Accommodating",
          "Accessible"
         ],
         "type": "scatter",
         "x": [
          0.5064219832420349,
          -0.57574862241745,
          -0.6186456680297852,
          -0.5295402407646179,
          -0.5288476347923279,
          0.5445524454116821,
          0.5596267580986023,
          0.6535778045654297,
          -0.7265129089355469,
          0.6267260909080505,
          -0.5862666368484497,
          -0.6385114192962646,
          0.6431443095207214,
          -0.5172874927520752,
          0.6492879986763,
          0.7071834802627563,
          -0.7373743653297424,
          -0.5178166627883911,
          0.5921155214309692,
          0.6592206954956055
         ],
         "xaxis": "x2",
         "y": [
          1,
          1,
          1,
          1,
          1,
          1,
          1,
          1,
          1,
          1,
          1,
          1,
          1,
          1,
          1,
          1,
          1,
          1,
          1,
          1
         ],
         "yaxis": "y2"
        },
        {
         "hoverinfo": "skip",
         "line": {
          "color": "black",
          "width": 1
         },
         "mode": "lines",
         "showlegend": false,
         "type": "scatter",
         "x": [
          -0.7373743653297424,
          -0.7373743653297424
         ],
         "xaxis": "x2",
         "y": [
          1,
          1.45
         ],
         "yaxis": "y2"
        },
        {
         "hoverinfo": "skip",
         "line": {
          "color": "black",
          "width": 1
         },
         "mode": "lines",
         "showlegend": false,
         "type": "scatter",
         "x": [
          -0.7265129089355469,
          -0.7265129089355469
         ],
         "xaxis": "x2",
         "y": [
          1,
          0.6
         ],
         "yaxis": "y2"
        },
        {
         "hoverinfo": "skip",
         "line": {
          "color": "black",
          "width": 1
         },
         "mode": "lines",
         "showlegend": false,
         "type": "scatter",
         "x": [
          -0.6385114192962646,
          -0.6385114192962646
         ],
         "xaxis": "x2",
         "y": [
          1,
          1.9
         ],
         "yaxis": "y2"
        },
        {
         "hoverinfo": "skip",
         "line": {
          "color": "black",
          "width": 1
         },
         "mode": "lines",
         "showlegend": false,
         "type": "scatter",
         "x": [
          -0.6186456680297852,
          -0.6186456680297852
         ],
         "xaxis": "x2",
         "y": [
          1,
          0.15
         ],
         "yaxis": "y2"
        },
        {
         "hoverinfo": "skip",
         "line": {
          "color": "black",
          "width": 1
         },
         "mode": "lines",
         "showlegend": false,
         "type": "scatter",
         "x": [
          -0.5862666368484497,
          -0.5862666368484497
         ],
         "xaxis": "x2",
         "y": [
          1,
          1.6
         ],
         "yaxis": "y2"
        },
        {
         "hoverinfo": "skip",
         "line": {
          "color": "black",
          "width": 1
         },
         "mode": "lines",
         "showlegend": false,
         "type": "scatter",
         "x": [
          -0.57574862241745,
          -0.57574862241745
         ],
         "xaxis": "x2",
         "y": [
          1,
          0.45
         ],
         "yaxis": "y2"
        },
        {
         "hoverinfo": "skip",
         "line": {
          "color": "black",
          "width": 1
         },
         "mode": "lines",
         "showlegend": false,
         "type": "scatter",
         "x": [
          -0.5295402407646179,
          -0.5295402407646179
         ],
         "xaxis": "x2",
         "y": [
          1,
          1.3
         ],
         "yaxis": "y2"
        },
        {
         "hoverinfo": "skip",
         "line": {
          "color": "black",
          "width": 1
         },
         "mode": "lines",
         "showlegend": false,
         "type": "scatter",
         "x": [
          -0.5288476347923279,
          -0.5288476347923279
         ],
         "xaxis": "x2",
         "y": [
          1,
          0.75
         ],
         "yaxis": "y2"
        },
        {
         "hoverinfo": "skip",
         "line": {
          "color": "black",
          "width": 1
         },
         "mode": "lines",
         "showlegend": false,
         "type": "scatter",
         "x": [
          -0.5178166627883911,
          -0.5178166627883911
         ],
         "xaxis": "x2",
         "y": [
          1,
          1.75
         ],
         "yaxis": "y2"
        },
        {
         "hoverinfo": "skip",
         "line": {
          "color": "black",
          "width": 1
         },
         "mode": "lines",
         "showlegend": false,
         "type": "scatter",
         "x": [
          -0.5172874927520752,
          -0.5172874927520752
         ],
         "xaxis": "x2",
         "y": [
          1,
          0.3
         ],
         "yaxis": "y2"
        },
        {
         "hoverinfo": "skip",
         "line": {
          "color": "black",
          "width": 1
         },
         "mode": "lines",
         "showlegend": false,
         "type": "scatter",
         "x": [
          0.5064219832420349,
          0.5064219832420349
         ],
         "xaxis": "x2",
         "y": [
          1,
          1.45
         ],
         "yaxis": "y2"
        },
        {
         "hoverinfo": "skip",
         "line": {
          "color": "black",
          "width": 1
         },
         "mode": "lines",
         "showlegend": false,
         "type": "scatter",
         "x": [
          0.5445524454116821,
          0.5445524454116821
         ],
         "xaxis": "x2",
         "y": [
          1,
          0.6
         ],
         "yaxis": "y2"
        },
        {
         "hoverinfo": "skip",
         "line": {
          "color": "black",
          "width": 1
         },
         "mode": "lines",
         "showlegend": false,
         "type": "scatter",
         "x": [
          0.5596267580986023,
          0.5596267580986023
         ],
         "xaxis": "x2",
         "y": [
          1,
          1.9
         ],
         "yaxis": "y2"
        },
        {
         "hoverinfo": "skip",
         "line": {
          "color": "black",
          "width": 1
         },
         "mode": "lines",
         "showlegend": false,
         "type": "scatter",
         "x": [
          0.5921155214309692,
          0.5921155214309692
         ],
         "xaxis": "x2",
         "y": [
          1,
          0.15
         ],
         "yaxis": "y2"
        },
        {
         "hoverinfo": "skip",
         "line": {
          "color": "black",
          "width": 1
         },
         "mode": "lines",
         "showlegend": false,
         "type": "scatter",
         "x": [
          0.6267260909080505,
          0.6267260909080505
         ],
         "xaxis": "x2",
         "y": [
          1,
          1.6
         ],
         "yaxis": "y2"
        },
        {
         "hoverinfo": "skip",
         "line": {
          "color": "black",
          "width": 1
         },
         "mode": "lines",
         "showlegend": false,
         "type": "scatter",
         "x": [
          0.6431443095207214,
          0.6431443095207214
         ],
         "xaxis": "x2",
         "y": [
          1,
          0.45
         ],
         "yaxis": "y2"
        },
        {
         "hoverinfo": "skip",
         "line": {
          "color": "black",
          "width": 1
         },
         "mode": "lines",
         "showlegend": false,
         "type": "scatter",
         "x": [
          0.6492879986763,
          0.6492879986763
         ],
         "xaxis": "x2",
         "y": [
          1,
          1.3
         ],
         "yaxis": "y2"
        },
        {
         "hoverinfo": "skip",
         "line": {
          "color": "black",
          "width": 1
         },
         "mode": "lines",
         "showlegend": false,
         "type": "scatter",
         "x": [
          0.6535778045654297,
          0.6535778045654297
         ],
         "xaxis": "x2",
         "y": [
          1,
          0.75
         ],
         "yaxis": "y2"
        },
        {
         "hoverinfo": "skip",
         "line": {
          "color": "black",
          "width": 1
         },
         "mode": "lines",
         "showlegend": false,
         "type": "scatter",
         "x": [
          0.6592206954956055,
          0.6592206954956055
         ],
         "xaxis": "x2",
         "y": [
          1,
          1.75
         ],
         "yaxis": "y2"
        },
        {
         "hoverinfo": "skip",
         "line": {
          "color": "black",
          "width": 1
         },
         "mode": "lines",
         "showlegend": false,
         "type": "scatter",
         "x": [
          0.7071834802627563,
          0.7071834802627563
         ],
         "xaxis": "x2",
         "y": [
          1,
          0.3
         ],
         "yaxis": "y2"
        },
        {
         "hoverinfo": "skip",
         "marker": {
          "color": "limegreen"
         },
         "opacity": 0.7,
         "showlegend": false,
         "type": "bar",
         "width": 0.038521528244018555,
         "x": [
          -0.7132984399795532,
          -0.6651464700698853,
          -0.6169945001602173,
          -0.5688426494598389,
          -0.5206906795501709,
          -0.4725387692451477,
          -0.4243868291378021,
          -0.37623488903045654,
          -0.32808297872543335,
          -0.27993106842041016,
          -0.23177912831306458,
          -0.183627188205719,
          -0.1354752629995346,
          -0.08732333779335022,
          -0.039171405136585236,
          0.0089805219322443,
          0.057132452726364136,
          0.10528437793254852,
          0.1534363031387329,
          0.2015882432460785,
          0.24974016845226288,
          0.29789209365844727,
          0.34604400396347046,
          0.39419594407081604,
          0.4423478841781616,
          0.4904997944831848,
          0.538651704788208,
          0.586803674697876,
          0.6349555850028992,
          0.6831074953079224
         ],
         "xaxis": "x2",
         "y": [
          0.09473684210526316,
          0,
          0.09473684210526316,
          0.09473684210526316,
          0.23684210526315788,
          0.18947368421052632,
          0.4263157894736842,
          0.14210526315789473,
          0.4263157894736842,
          0.6631578947368421,
          0.9,
          0.7105263157894737,
          0.4263157894736842,
          0.8526315789473684,
          0.5210526315789474,
          0.5210526315789474,
          0.33157894736842103,
          0.6631578947368421,
          0.8526315789473684,
          0.47368421052631576,
          0.4263157894736842,
          0.37894736842105264,
          0.37894736842105264,
          0.28421052631578947,
          0.5210526315789474,
          0.33157894736842103,
          0.09473684210526316,
          0.04736842105263158,
          0.18947368421052632,
          0.09473684210526316
         ],
         "yaxis": "y2"
        }
       ],
       "layout": {
        "annotations": [
         {
          "font": {
           "size": 16
          },
          "showarrow": false,
          "text": "PC3 Cosine Similarity",
          "x": 0.5,
          "xanchor": "center",
          "xref": "paper",
          "y": 1,
          "yanchor": "bottom",
          "yref": "paper"
         },
         {
          "font": {
           "size": 16
          },
          "showarrow": false,
          "text": "PC3 Projection",
          "x": 0.5,
          "xanchor": "center",
          "xref": "paper",
          "y": 0.45,
          "yanchor": "bottom",
          "yref": "paper"
         },
         {
          "bgcolor": "rgba(255, 255, 255, 0.9)",
          "bordercolor": "black",
          "borderwidth": 1,
          "font": {
           "color": "black",
           "size": 10
          },
          "showarrow": false,
          "text": "Bombastic",
          "x": -0.7254335880279541,
          "xref": "x",
          "y": 1.45,
          "yref": "y"
         },
         {
          "bgcolor": "rgba(255, 255, 255, 0.9)",
          "bordercolor": "black",
          "borderwidth": 1,
          "font": {
           "color": "black",
           "size": 10
          },
          "showarrow": false,
          "text": "Grandiose",
          "x": -0.7134374976158142,
          "xref": "x",
          "y": 0.6,
          "yref": "y"
         },
         {
          "bgcolor": "rgba(255, 255, 255, 0.9)",
          "bordercolor": "black",
          "borderwidth": 1,
          "font": {
           "color": "black",
           "size": 10
          },
          "showarrow": false,
          "text": "Erudite",
          "x": -0.6775538921356201,
          "xref": "x",
          "y": 1.9,
          "yref": "y"
         },
         {
          "bgcolor": "rgba(255, 255, 255, 0.9)",
          "bordercolor": "black",
          "borderwidth": 1,
          "font": {
           "color": "black",
           "size": 10
          },
          "showarrow": false,
          "text": "Specialized",
          "x": -0.6760011911392212,
          "xref": "x",
          "y": 0.15,
          "yref": "y"
         },
         {
          "bgcolor": "rgba(255, 255, 255, 0.9)",
          "bordercolor": "black",
          "borderwidth": 1,
          "font": {
           "color": "black",
           "size": 10
          },
          "showarrow": false,
          "text": "Technical",
          "x": -0.6526121497154236,
          "xref": "x",
          "y": 1.6,
          "yref": "y"
         },
         {
          "bgcolor": "rgba(255, 255, 255, 0.9)",
          "bordercolor": "black",
          "borderwidth": 1,
          "font": {
           "color": "black",
           "size": 10
          },
          "showarrow": false,
          "text": "Dominant",
          "x": -0.6463004946708679,
          "xref": "x",
          "y": 0.45,
          "yref": "y"
         },
         {
          "bgcolor": "rgba(255, 255, 255, 0.9)",
          "bordercolor": "black",
          "borderwidth": 1,
          "font": {
           "color": "black",
           "size": 10
          },
          "showarrow": false,
          "text": "Perfectionist",
          "x": -0.6295143961906433,
          "xref": "x",
          "y": 1.3,
          "yref": "y"
         },
         {
          "bgcolor": "rgba(255, 255, 255, 0.9)",
          "bordercolor": "black",
          "borderwidth": 1,
          "font": {
           "color": "black",
           "size": 10
          },
          "showarrow": false,
          "text": "Esoteric",
          "x": -0.622992217540741,
          "xref": "x",
          "y": 0.75,
          "yref": "y"
         },
         {
          "bgcolor": "rgba(255, 255, 255, 0.9)",
          "bordercolor": "black",
          "borderwidth": 1,
          "font": {
           "color": "black",
           "size": 10
          },
          "showarrow": false,
          "text": "Ritualistic",
          "x": -0.6128299832344055,
          "xref": "x",
          "y": 1.75,
          "yref": "y"
         },
         {
          "bgcolor": "rgba(255, 255, 255, 0.9)",
          "bordercolor": "black",
          "borderwidth": 1,
          "font": {
           "color": "black",
           "size": 10
          },
          "showarrow": false,
          "text": "Meticulous",
          "x": -0.5946528911590576,
          "xref": "x",
          "y": 0.3,
          "yref": "y"
         },
         {
          "bgcolor": "rgba(255, 255, 255, 0.9)",
          "bordercolor": "black",
          "borderwidth": 1,
          "font": {
           "color": "black",
           "size": 10
          },
          "showarrow": false,
          "text": "Moderate",
          "x": 0.4050869941711426,
          "xref": "x",
          "y": 1.45,
          "yref": "y"
         },
         {
          "bgcolor": "rgba(255, 255, 255, 0.9)",
          "bordercolor": "black",
          "borderwidth": 1,
          "font": {
           "color": "black",
           "size": 10
          },
          "showarrow": false,
          "text": "Reactive",
          "x": 0.4061519503593445,
          "xref": "x",
          "y": 0.6,
          "yref": "y"
         },
         {
          "bgcolor": "rgba(255, 255, 255, 0.9)",
          "bordercolor": "black",
          "borderwidth": 1,
          "font": {
           "color": "black",
           "size": 10
          },
          "showarrow": false,
          "text": "Practical",
          "x": 0.42410171031951904,
          "xref": "x",
          "y": 1.9,
          "yref": "y"
         },
         {
          "bgcolor": "rgba(255, 255, 255, 0.9)",
          "bordercolor": "black",
          "borderwidth": 1,
          "font": {
           "color": "black",
           "size": 10
          },
          "showarrow": false,
          "text": "Understated",
          "x": 0.4662025570869446,
          "xref": "x",
          "y": 0.15,
          "yref": "y"
         },
         {
          "bgcolor": "rgba(255, 255, 255, 0.9)",
          "bordercolor": "black",
          "borderwidth": 1,
          "font": {
           "color": "black",
           "size": 10
          },
          "showarrow": false,
          "text": "Forgiving",
          "x": 0.46825334429740906,
          "xref": "x",
          "y": 1.6,
          "yref": "y"
         },
         {
          "bgcolor": "rgba(255, 255, 255, 0.9)",
          "bordercolor": "black",
          "borderwidth": 1,
          "font": {
           "color": "black",
           "size": 10
          },
          "showarrow": false,
          "text": "Empathetic",
          "x": 0.4838498830795288,
          "xref": "x",
          "y": 0.45,
          "yref": "y"
         },
         {
          "bgcolor": "rgba(255, 255, 255, 0.9)",
          "bordercolor": "black",
          "borderwidth": 1,
          "font": {
           "color": "black",
           "size": 10
          },
          "showarrow": false,
          "text": "Humble",
          "x": 0.5263048410415649,
          "xref": "x",
          "y": 1.3,
          "yref": "y"
         },
         {
          "bgcolor": "rgba(255, 255, 255, 0.9)",
          "bordercolor": "black",
          "borderwidth": 1,
          "font": {
           "color": "black",
           "size": 10
          },
          "showarrow": false,
          "text": "Chill",
          "x": 0.5955060124397278,
          "xref": "x",
          "y": 0.75,
          "yref": "y"
         },
         {
          "bgcolor": "rgba(255, 255, 255, 0.9)",
          "bordercolor": "black",
          "borderwidth": 1,
          "font": {
           "color": "black",
           "size": 10
          },
          "showarrow": false,
          "text": "Casual",
          "x": 0.6232799887657166,
          "xref": "x",
          "y": 1.75,
          "yref": "y"
         },
         {
          "bgcolor": "rgba(255, 255, 255, 0.9)",
          "bordercolor": "black",
          "borderwidth": 1,
          "font": {
           "color": "black",
           "size": 10
          },
          "showarrow": false,
          "text": "Accessible",
          "x": 0.6358689069747925,
          "xref": "x",
          "y": 0.3,
          "yref": "y"
         },
         {
          "bgcolor": "rgba(255, 255, 255, 0.9)",
          "bordercolor": "red",
          "borderwidth": 1,
          "font": {
           "color": "red",
           "size": 14
          },
          "showarrow": false,
          "text": "Assistant",
          "x": -0.0019329405622556806,
          "xref": "x",
          "y": 2,
          "yref": "y"
         },
         {
          "bgcolor": "rgba(255, 255, 255, 0.9)",
          "bordercolor": "black",
          "borderwidth": 1,
          "font": {
           "color": "black",
           "size": 10
          },
          "showarrow": false,
          "text": "Bombastic",
          "x": -0.7373743653297424,
          "xref": "x2",
          "y": 1.45,
          "yref": "y2"
         },
         {
          "bgcolor": "rgba(255, 255, 255, 0.9)",
          "bordercolor": "black",
          "borderwidth": 1,
          "font": {
           "color": "black",
           "size": 10
          },
          "showarrow": false,
          "text": "Grandiose",
          "x": -0.7265129089355469,
          "xref": "x2",
          "y": 0.6,
          "yref": "y2"
         },
         {
          "bgcolor": "rgba(255, 255, 255, 0.9)",
          "bordercolor": "black",
          "borderwidth": 1,
          "font": {
           "color": "black",
           "size": 10
          },
          "showarrow": false,
          "text": "Erudite",
          "x": -0.6385114192962646,
          "xref": "x2",
          "y": 1.9,
          "yref": "y2"
         },
         {
          "bgcolor": "rgba(255, 255, 255, 0.9)",
          "bordercolor": "black",
          "borderwidth": 1,
          "font": {
           "color": "black",
           "size": 10
          },
          "showarrow": false,
          "text": "Specialized",
          "x": -0.6186456680297852,
          "xref": "x2",
          "y": 0.15,
          "yref": "y2"
         },
         {
          "bgcolor": "rgba(255, 255, 255, 0.9)",
          "bordercolor": "black",
          "borderwidth": 1,
          "font": {
           "color": "black",
           "size": 10
          },
          "showarrow": false,
          "text": "Esoteric",
          "x": -0.5862666368484497,
          "xref": "x2",
          "y": 1.6,
          "yref": "y2"
         },
         {
          "bgcolor": "rgba(255, 255, 255, 0.9)",
          "bordercolor": "black",
          "borderwidth": 1,
          "font": {
           "color": "black",
           "size": 10
          },
          "showarrow": false,
          "text": "Technical",
          "x": -0.57574862241745,
          "xref": "x2",
          "y": 0.45,
          "yref": "y2"
         },
         {
          "bgcolor": "rgba(255, 255, 255, 0.9)",
          "bordercolor": "black",
          "borderwidth": 1,
          "font": {
           "color": "black",
           "size": 10
          },
          "showarrow": false,
          "text": "Ritualistic",
          "x": -0.5295402407646179,
          "xref": "x2",
          "y": 1.3,
          "yref": "y2"
         },
         {
          "bgcolor": "rgba(255, 255, 255, 0.9)",
          "bordercolor": "black",
          "borderwidth": 1,
          "font": {
           "color": "black",
           "size": 10
          },
          "showarrow": false,
          "text": "Perfectionist",
          "x": -0.5288476347923279,
          "xref": "x2",
          "y": 0.75,
          "yref": "y2"
         },
         {
          "bgcolor": "rgba(255, 255, 255, 0.9)",
          "bordercolor": "black",
          "borderwidth": 1,
          "font": {
           "color": "black",
           "size": 10
          },
          "showarrow": false,
          "text": "Arrogant",
          "x": -0.5178166627883911,
          "xref": "x2",
          "y": 1.75,
          "yref": "y2"
         },
         {
          "bgcolor": "rgba(255, 255, 255, 0.9)",
          "bordercolor": "black",
          "borderwidth": 1,
          "font": {
           "color": "black",
           "size": 10
          },
          "showarrow": false,
          "text": "Elitist",
          "x": -0.5172874927520752,
          "xref": "x2",
          "y": 0.3,
          "yref": "y2"
         },
         {
          "bgcolor": "rgba(255, 255, 255, 0.9)",
          "bordercolor": "black",
          "borderwidth": 1,
          "font": {
           "color": "black",
           "size": 10
          },
          "showarrow": false,
          "text": "Understated",
          "x": 0.5064219832420349,
          "xref": "x2",
          "y": 1.45,
          "yref": "y2"
         },
         {
          "bgcolor": "rgba(255, 255, 255, 0.9)",
          "bordercolor": "black",
          "borderwidth": 1,
          "font": {
           "color": "black",
           "size": 10
          },
          "showarrow": false,
          "text": "Open Ended",
          "x": 0.5445524454116821,
          "xref": "x2",
          "y": 0.6,
          "yref": "y2"
         },
         {
          "bgcolor": "rgba(255, 255, 255, 0.9)",
          "bordercolor": "black",
          "borderwidth": 1,
          "font": {
           "color": "black",
           "size": 10
          },
          "showarrow": false,
          "text": "Improvisational",
          "x": 0.5596267580986023,
          "xref": "x2",
          "y": 1.9,
          "yref": "y2"
         },
         {
          "bgcolor": "rgba(255, 255, 255, 0.9)",
          "bordercolor": "black",
          "borderwidth": 1,
          "font": {
           "color": "black",
           "size": 10
          },
          "showarrow": false,
          "text": "Accommodating",
          "x": 0.5921155214309692,
          "xref": "x2",
          "y": 0.15,
          "yref": "y2"
         },
         {
          "bgcolor": "rgba(255, 255, 255, 0.9)",
          "bordercolor": "black",
          "borderwidth": 1,
          "font": {
           "color": "black",
           "size": 10
          },
          "showarrow": false,
          "text": "Forgiving",
          "x": 0.6267260909080505,
          "xref": "x2",
          "y": 1.6,
          "yref": "y2"
         },
         {
          "bgcolor": "rgba(255, 255, 255, 0.9)",
          "bordercolor": "black",
          "borderwidth": 1,
          "font": {
           "color": "black",
           "size": 10
          },
          "showarrow": false,
          "text": "Empathetic",
          "x": 0.6431443095207214,
          "xref": "x2",
          "y": 0.45,
          "yref": "y2"
         },
         {
          "bgcolor": "rgba(255, 255, 255, 0.9)",
          "bordercolor": "black",
          "borderwidth": 1,
          "font": {
           "color": "black",
           "size": 10
          },
          "showarrow": false,
          "text": "Chill",
          "x": 0.6492879986763,
          "xref": "x2",
          "y": 1.3,
          "yref": "y2"
         },
         {
          "bgcolor": "rgba(255, 255, 255, 0.9)",
          "bordercolor": "black",
          "borderwidth": 1,
          "font": {
           "color": "black",
           "size": 10
          },
          "showarrow": false,
          "text": "Humble",
          "x": 0.6535778045654297,
          "xref": "x2",
          "y": 0.75,
          "yref": "y2"
         },
         {
          "bgcolor": "rgba(255, 255, 255, 0.9)",
          "bordercolor": "black",
          "borderwidth": 1,
          "font": {
           "color": "black",
           "size": 10
          },
          "showarrow": false,
          "text": "Accessible",
          "x": 0.6592206954956055,
          "xref": "x2",
          "y": 1.75,
          "yref": "y2"
         },
         {
          "bgcolor": "rgba(255, 255, 255, 0.9)",
          "bordercolor": "black",
          "borderwidth": 1,
          "font": {
           "color": "black",
           "size": 10
          },
          "showarrow": false,
          "text": "Casual",
          "x": 0.7071834802627563,
          "xref": "x2",
          "y": 0.3,
          "yref": "y2"
         },
         {
          "bgcolor": "rgba(255, 255, 255, 0.9)",
          "bordercolor": "red",
          "borderwidth": 1,
          "font": {
           "color": "red",
           "size": 14
          },
          "showarrow": false,
          "text": "Assistant",
          "x": 0.058390628546476364,
          "xref": "x2",
          "y": 2,
          "yref": "y2"
         }
        ],
        "height": 800,
        "shapes": [
         {
          "line": {
           "color": "gray",
           "dash": "solid",
           "width": 1
          },
          "opacity": 0.7,
          "type": "line",
          "x0": 0,
          "x1": 0,
          "xref": "x",
          "y0": 0,
          "y1": 1,
          "yref": "y domain"
         },
         {
          "line": {
           "color": "red",
           "dash": "dash",
           "width": 1
          },
          "opacity": 1,
          "type": "line",
          "x0": -0.0019329405622556806,
          "x1": -0.0019329405622556806,
          "xref": "x",
          "y0": 0,
          "y1": 1,
          "yref": "y domain"
         },
         {
          "line": {
           "color": "gray",
           "dash": "solid",
           "width": 1
          },
          "opacity": 0.7,
          "type": "line",
          "x0": 0,
          "x1": 0,
          "xref": "x2",
          "y0": 0,
          "y1": 1,
          "yref": "y2 domain"
         },
         {
          "line": {
           "color": "red",
           "dash": "dash",
           "width": 1
          },
          "opacity": 1,
          "type": "line",
          "x0": 0.058390628546476364,
          "x1": 0.058390628546476364,
          "xref": "x2",
          "y0": 0,
          "y1": 1,
          "yref": "y2 domain"
         }
        ],
        "showlegend": false,
        "template": {
         "data": {
          "bar": [
           {
            "error_x": {
             "color": "#2a3f5f"
            },
            "error_y": {
             "color": "#2a3f5f"
            },
            "marker": {
             "line": {
              "color": "#E5ECF6",
              "width": 0.5
             },
             "pattern": {
              "fillmode": "overlay",
              "size": 10,
              "solidity": 0.2
             }
            },
            "type": "bar"
           }
          ],
          "barpolar": [
           {
            "marker": {
             "line": {
              "color": "#E5ECF6",
              "width": 0.5
             },
             "pattern": {
              "fillmode": "overlay",
              "size": 10,
              "solidity": 0.2
             }
            },
            "type": "barpolar"
           }
          ],
          "carpet": [
           {
            "aaxis": {
             "endlinecolor": "#2a3f5f",
             "gridcolor": "white",
             "linecolor": "white",
             "minorgridcolor": "white",
             "startlinecolor": "#2a3f5f"
            },
            "baxis": {
             "endlinecolor": "#2a3f5f",
             "gridcolor": "white",
             "linecolor": "white",
             "minorgridcolor": "white",
             "startlinecolor": "#2a3f5f"
            },
            "type": "carpet"
           }
          ],
          "choropleth": [
           {
            "colorbar": {
             "outlinewidth": 0,
             "ticks": ""
            },
            "type": "choropleth"
           }
          ],
          "contour": [
           {
            "colorbar": {
             "outlinewidth": 0,
             "ticks": ""
            },
            "colorscale": [
             [
              0,
              "#0d0887"
             ],
             [
              0.1111111111111111,
              "#46039f"
             ],
             [
              0.2222222222222222,
              "#7201a8"
             ],
             [
              0.3333333333333333,
              "#9c179e"
             ],
             [
              0.4444444444444444,
              "#bd3786"
             ],
             [
              0.5555555555555556,
              "#d8576b"
             ],
             [
              0.6666666666666666,
              "#ed7953"
             ],
             [
              0.7777777777777778,
              "#fb9f3a"
             ],
             [
              0.8888888888888888,
              "#fdca26"
             ],
             [
              1,
              "#f0f921"
             ]
            ],
            "type": "contour"
           }
          ],
          "contourcarpet": [
           {
            "colorbar": {
             "outlinewidth": 0,
             "ticks": ""
            },
            "type": "contourcarpet"
           }
          ],
          "heatmap": [
           {
            "colorbar": {
             "outlinewidth": 0,
             "ticks": ""
            },
            "colorscale": [
             [
              0,
              "#0d0887"
             ],
             [
              0.1111111111111111,
              "#46039f"
             ],
             [
              0.2222222222222222,
              "#7201a8"
             ],
             [
              0.3333333333333333,
              "#9c179e"
             ],
             [
              0.4444444444444444,
              "#bd3786"
             ],
             [
              0.5555555555555556,
              "#d8576b"
             ],
             [
              0.6666666666666666,
              "#ed7953"
             ],
             [
              0.7777777777777778,
              "#fb9f3a"
             ],
             [
              0.8888888888888888,
              "#fdca26"
             ],
             [
              1,
              "#f0f921"
             ]
            ],
            "type": "heatmap"
           }
          ],
          "heatmapgl": [
           {
            "colorbar": {
             "outlinewidth": 0,
             "ticks": ""
            },
            "colorscale": [
             [
              0,
              "#0d0887"
             ],
             [
              0.1111111111111111,
              "#46039f"
             ],
             [
              0.2222222222222222,
              "#7201a8"
             ],
             [
              0.3333333333333333,
              "#9c179e"
             ],
             [
              0.4444444444444444,
              "#bd3786"
             ],
             [
              0.5555555555555556,
              "#d8576b"
             ],
             [
              0.6666666666666666,
              "#ed7953"
             ],
             [
              0.7777777777777778,
              "#fb9f3a"
             ],
             [
              0.8888888888888888,
              "#fdca26"
             ],
             [
              1,
              "#f0f921"
             ]
            ],
            "type": "heatmapgl"
           }
          ],
          "histogram": [
           {
            "marker": {
             "pattern": {
              "fillmode": "overlay",
              "size": 10,
              "solidity": 0.2
             }
            },
            "type": "histogram"
           }
          ],
          "histogram2d": [
           {
            "colorbar": {
             "outlinewidth": 0,
             "ticks": ""
            },
            "colorscale": [
             [
              0,
              "#0d0887"
             ],
             [
              0.1111111111111111,
              "#46039f"
             ],
             [
              0.2222222222222222,
              "#7201a8"
             ],
             [
              0.3333333333333333,
              "#9c179e"
             ],
             [
              0.4444444444444444,
              "#bd3786"
             ],
             [
              0.5555555555555556,
              "#d8576b"
             ],
             [
              0.6666666666666666,
              "#ed7953"
             ],
             [
              0.7777777777777778,
              "#fb9f3a"
             ],
             [
              0.8888888888888888,
              "#fdca26"
             ],
             [
              1,
              "#f0f921"
             ]
            ],
            "type": "histogram2d"
           }
          ],
          "histogram2dcontour": [
           {
            "colorbar": {
             "outlinewidth": 0,
             "ticks": ""
            },
            "colorscale": [
             [
              0,
              "#0d0887"
             ],
             [
              0.1111111111111111,
              "#46039f"
             ],
             [
              0.2222222222222222,
              "#7201a8"
             ],
             [
              0.3333333333333333,
              "#9c179e"
             ],
             [
              0.4444444444444444,
              "#bd3786"
             ],
             [
              0.5555555555555556,
              "#d8576b"
             ],
             [
              0.6666666666666666,
              "#ed7953"
             ],
             [
              0.7777777777777778,
              "#fb9f3a"
             ],
             [
              0.8888888888888888,
              "#fdca26"
             ],
             [
              1,
              "#f0f921"
             ]
            ],
            "type": "histogram2dcontour"
           }
          ],
          "mesh3d": [
           {
            "colorbar": {
             "outlinewidth": 0,
             "ticks": ""
            },
            "type": "mesh3d"
           }
          ],
          "parcoords": [
           {
            "line": {
             "colorbar": {
              "outlinewidth": 0,
              "ticks": ""
             }
            },
            "type": "parcoords"
           }
          ],
          "pie": [
           {
            "automargin": true,
            "type": "pie"
           }
          ],
          "scatter": [
           {
            "fillpattern": {
             "fillmode": "overlay",
             "size": 10,
             "solidity": 0.2
            },
            "type": "scatter"
           }
          ],
          "scatter3d": [
           {
            "line": {
             "colorbar": {
              "outlinewidth": 0,
              "ticks": ""
             }
            },
            "marker": {
             "colorbar": {
              "outlinewidth": 0,
              "ticks": ""
             }
            },
            "type": "scatter3d"
           }
          ],
          "scattercarpet": [
           {
            "marker": {
             "colorbar": {
              "outlinewidth": 0,
              "ticks": ""
             }
            },
            "type": "scattercarpet"
           }
          ],
          "scattergeo": [
           {
            "marker": {
             "colorbar": {
              "outlinewidth": 0,
              "ticks": ""
             }
            },
            "type": "scattergeo"
           }
          ],
          "scattergl": [
           {
            "marker": {
             "colorbar": {
              "outlinewidth": 0,
              "ticks": ""
             }
            },
            "type": "scattergl"
           }
          ],
          "scattermapbox": [
           {
            "marker": {
             "colorbar": {
              "outlinewidth": 0,
              "ticks": ""
             }
            },
            "type": "scattermapbox"
           }
          ],
          "scatterpolar": [
           {
            "marker": {
             "colorbar": {
              "outlinewidth": 0,
              "ticks": ""
             }
            },
            "type": "scatterpolar"
           }
          ],
          "scatterpolargl": [
           {
            "marker": {
             "colorbar": {
              "outlinewidth": 0,
              "ticks": ""
             }
            },
            "type": "scatterpolargl"
           }
          ],
          "scatterternary": [
           {
            "marker": {
             "colorbar": {
              "outlinewidth": 0,
              "ticks": ""
             }
            },
            "type": "scatterternary"
           }
          ],
          "surface": [
           {
            "colorbar": {
             "outlinewidth": 0,
             "ticks": ""
            },
            "colorscale": [
             [
              0,
              "#0d0887"
             ],
             [
              0.1111111111111111,
              "#46039f"
             ],
             [
              0.2222222222222222,
              "#7201a8"
             ],
             [
              0.3333333333333333,
              "#9c179e"
             ],
             [
              0.4444444444444444,
              "#bd3786"
             ],
             [
              0.5555555555555556,
              "#d8576b"
             ],
             [
              0.6666666666666666,
              "#ed7953"
             ],
             [
              0.7777777777777778,
              "#fb9f3a"
             ],
             [
              0.8888888888888888,
              "#fdca26"
             ],
             [
              1,
              "#f0f921"
             ]
            ],
            "type": "surface"
           }
          ],
          "table": [
           {
            "cells": {
             "fill": {
              "color": "#EBF0F8"
             },
             "line": {
              "color": "white"
             }
            },
            "header": {
             "fill": {
              "color": "#C8D4E3"
             },
             "line": {
              "color": "white"
             }
            },
            "type": "table"
           }
          ]
         },
         "layout": {
          "annotationdefaults": {
           "arrowcolor": "#2a3f5f",
           "arrowhead": 0,
           "arrowwidth": 1
          },
          "autotypenumbers": "strict",
          "coloraxis": {
           "colorbar": {
            "outlinewidth": 0,
            "ticks": ""
           }
          },
          "colorscale": {
           "diverging": [
            [
             0,
             "#8e0152"
            ],
            [
             0.1,
             "#c51b7d"
            ],
            [
             0.2,
             "#de77ae"
            ],
            [
             0.3,
             "#f1b6da"
            ],
            [
             0.4,
             "#fde0ef"
            ],
            [
             0.5,
             "#f7f7f7"
            ],
            [
             0.6,
             "#e6f5d0"
            ],
            [
             0.7,
             "#b8e186"
            ],
            [
             0.8,
             "#7fbc41"
            ],
            [
             0.9,
             "#4d9221"
            ],
            [
             1,
             "#276419"
            ]
           ],
           "sequential": [
            [
             0,
             "#0d0887"
            ],
            [
             0.1111111111111111,
             "#46039f"
            ],
            [
             0.2222222222222222,
             "#7201a8"
            ],
            [
             0.3333333333333333,
             "#9c179e"
            ],
            [
             0.4444444444444444,
             "#bd3786"
            ],
            [
             0.5555555555555556,
             "#d8576b"
            ],
            [
             0.6666666666666666,
             "#ed7953"
            ],
            [
             0.7777777777777778,
             "#fb9f3a"
            ],
            [
             0.8888888888888888,
             "#fdca26"
            ],
            [
             1,
             "#f0f921"
            ]
           ],
           "sequentialminus": [
            [
             0,
             "#0d0887"
            ],
            [
             0.1111111111111111,
             "#46039f"
            ],
            [
             0.2222222222222222,
             "#7201a8"
            ],
            [
             0.3333333333333333,
             "#9c179e"
            ],
            [
             0.4444444444444444,
             "#bd3786"
            ],
            [
             0.5555555555555556,
             "#d8576b"
            ],
            [
             0.6666666666666666,
             "#ed7953"
            ],
            [
             0.7777777777777778,
             "#fb9f3a"
            ],
            [
             0.8888888888888888,
             "#fdca26"
            ],
            [
             1,
             "#f0f921"
            ]
           ]
          },
          "colorway": [
           "#636efa",
           "#EF553B",
           "#00cc96",
           "#ab63fa",
           "#FFA15A",
           "#19d3f3",
           "#FF6692",
           "#B6E880",
           "#FF97FF",
           "#FECB52"
          ],
          "font": {
           "color": "#2a3f5f"
          },
          "geo": {
           "bgcolor": "white",
           "lakecolor": "white",
           "landcolor": "#E5ECF6",
           "showlakes": true,
           "showland": true,
           "subunitcolor": "white"
          },
          "hoverlabel": {
           "align": "left"
          },
          "hovermode": "closest",
          "mapbox": {
           "style": "light"
          },
          "paper_bgcolor": "white",
          "plot_bgcolor": "#E5ECF6",
          "polar": {
           "angularaxis": {
            "gridcolor": "white",
            "linecolor": "white",
            "ticks": ""
           },
           "bgcolor": "#E5ECF6",
           "radialaxis": {
            "gridcolor": "white",
            "linecolor": "white",
            "ticks": ""
           }
          },
          "scene": {
           "xaxis": {
            "backgroundcolor": "#E5ECF6",
            "gridcolor": "white",
            "gridwidth": 2,
            "linecolor": "white",
            "showbackground": true,
            "ticks": "",
            "zerolinecolor": "white"
           },
           "yaxis": {
            "backgroundcolor": "#E5ECF6",
            "gridcolor": "white",
            "gridwidth": 2,
            "linecolor": "white",
            "showbackground": true,
            "ticks": "",
            "zerolinecolor": "white"
           },
           "zaxis": {
            "backgroundcolor": "#E5ECF6",
            "gridcolor": "white",
            "gridwidth": 2,
            "linecolor": "white",
            "showbackground": true,
            "ticks": "",
            "zerolinecolor": "white"
           }
          },
          "shapedefaults": {
           "line": {
            "color": "#2a3f5f"
           }
          },
          "ternary": {
           "aaxis": {
            "gridcolor": "white",
            "linecolor": "white",
            "ticks": ""
           },
           "baxis": {
            "gridcolor": "white",
            "linecolor": "white",
            "ticks": ""
           },
           "bgcolor": "#E5ECF6",
           "caxis": {
            "gridcolor": "white",
            "linecolor": "white",
            "ticks": ""
           }
          },
          "title": {
           "x": 0.05
          },
          "xaxis": {
           "automargin": true,
           "gridcolor": "white",
           "linecolor": "white",
           "ticks": "",
           "title": {
            "standoff": 15
           },
           "zerolinecolor": "white",
           "zerolinewidth": 2
          },
          "yaxis": {
           "automargin": true,
           "gridcolor": "white",
           "linecolor": "white",
           "ticks": "",
           "title": {
            "standoff": 15
           },
           "zerolinecolor": "white",
           "zerolinewidth": 2
          }
         }
        },
        "title": {
         "font": {
          "size": 16
         },
         "subtitle": {
          "text": "Llama 3.3 70B, Layer 40 - Mean-Centered and L2 Normalized Vectors"
         },
         "text": "PCA on Trait Vectors",
         "x": 0.5
        },
        "width": 1000,
        "xaxis": {
         "anchor": "y",
         "domain": [
          0,
          1
         ],
         "range": [
          -1.1,
          1.1
         ]
        },
        "xaxis2": {
         "anchor": "y2",
         "domain": [
          0,
          1
         ],
         "range": [
          -1.1,
          1.1
         ]
        },
        "yaxis": {
         "anchor": "x",
         "domain": [
          0.55,
          1
         ],
         "range": [
          0,
          2.5
         ],
         "showticklabels": false
        },
        "yaxis2": {
         "anchor": "x2",
         "domain": [
          0,
          0.45
         ],
         "range": [
          0,
          2.5
         ],
         "showticklabels": false
        }
       }
      },
      "text/html": [
       "<div>                            <div id=\"fdb1fadc-abe3-4a24-adff-b4e2bd0f291e\" class=\"plotly-graph-div\" style=\"height:800px; width:1000px;\"></div>            <script type=\"text/javascript\">                require([\"plotly\"], function(Plotly) {                    window.PLOTLYENV=window.PLOTLYENV || {};                                    if (document.getElementById(\"fdb1fadc-abe3-4a24-adff-b4e2bd0f291e\")) {                    Plotly.newPlot(                        \"fdb1fadc-abe3-4a24-adff-b4e2bd0f291e\",                        [{\"hovertemplate\":\"\\u003cb\\u003e%{text}\\u003c\\u002fb\\u003e\\u003cbr\\u003eCosine Similarity: %{x:.3f}\\u003cextra\\u003e\\u003c\\u002fextra\\u003e\",\"marker\":{\"color\":\"limegreen\",\"line\":{\"color\":\"black\",\"width\":1},\"opacity\":1.0,\"size\":8,\"symbol\":\"diamond\"},\"mode\":\"markers\",\"showlegend\":false,\"text\":[\"Zealous\",\"Wry\",\"Witty\",\"Whimsical\",\"Visceral\",\"Vindictive\",\"Verbose\",\"Utilitarian\",\"Urgent\",\"Universalist\",\"Transparent\",\"Traditional\",\"Theoretical\",\"Theatrical\",\"Temperamental\",\"Tactful\",\"Systems Thinker\",\"Sycophantic\",\"Supportive\",\"Subversive\",\"Submissive\",\"Structuralist\",\"Stream Of Consciousness\",\"Strategic\",\"Stoic\",\"Spontaneous\",\"Spiritual\",\"Speculative\",\"Solemn\",\"Socratic\",\"Skeptical\",\"Serious\",\"Serene\",\"Secular\",\"Savage\",\"Sassy\",\"Sardonic\",\"Sarcastic\",\"Romantic\",\"Risk Taking\",\"Rhetorical\",\"Reverent\",\"Resilient\",\"Reserved\",\"Relativist\",\"Regulatory\",\"Reductionist\",\"Rebellious\",\"Rationalist\",\"Radical\",\"Quantitative\",\"Qualitative\",\"Provocative\",\"Progressive\",\"Problem Solving\",\"Proactive\",\"Principled\",\"Prescriptive\",\"Poetic\",\"Pluralist\",\"Playful\",\"Philosophical\",\"Petty\",\"Pessimistic\",\"Pensive\",\"Pedantic\",\"Patient\",\"Passive Aggressive\",\"Passionate\",\"Paranoid\",\"Paradoxical\",\"Pacifist\",\"Optimistic\",\"Open Ended\",\"Obsessive\",\"Nurturing\",\"Nostalgic\",\"Nonchalant\",\"Nihilistic\",\"Neurotic\",\"Narrative\",\"Naive\",\"Mystical\",\"Mischievous\",\"Misanthropic\",\"Militant\",\"Methodical\",\"Metaphorical\",\"Mercurial\",\"Melodramatic\",\"Melancholic\",\"Meditative\",\"Materialist\",\"Manipulative\",\"Manic\",\"Literal\",\"Libertarian\",\"Judgmental\",\"Irreverent\",\"Ironic\",\"Intuitive\",\"Introverted\",\"Introspective\",\"Interdisciplinary\",\"Inspirational\",\"Inquisitive\",\"Innovative\",\"Individualistic\",\"Independent\",\"Inclusive\",\"Impulsive\",\"Improvisational\",\"Impatient\",\"Idealistic\",\"Iconoclastic\",\"Humanistic\",\"Hostile\",\"Holistic\",\"Historical\",\"Hedonistic\",\"Grounded\",\"Gregarious\",\"Goofy\",\"Generous\",\"Generalist\",\"Futuristic\",\"Fundamentalist\",\"Formalist\",\"Formal\",\"Flirty\",\"Flippant\",\"Flexible\",\"Fatalistic\",\"Factual\",\"Extroverted\",\"Exploratory\",\"Experiential\",\"Existentialist\",\"Evil\",\"Ethereal\",\"Essentialist\",\"Epicurean\",\"Environmental\",\"Entertaining\",\"Enigmatic\",\"Emotional\",\"Eloquent\",\"Elitist\",\"Egalitarian\",\"Effusive\",\"Efficient\",\"Educational\",\"Edgy\",\"Eclectic\",\"Earnest\",\"Dramatic\",\"Dogmatic\",\"Divergent\",\"Dispassionate\",\"Disorganized\",\"Diplomatic\",\"Deterministic\",\"Detached\",\"Descriptive\",\"Deontological\",\"Deferential\",\"Deconstructionist\",\"Decisive\",\"Data Driven\",\"Cynical\",\"Curious\",\"Cryptic\",\"Cruel\",\"Critical\",\"Creative\",\"Cosmopolitan\",\"Convergent\",\"Contrarian\",\"Contemporary\",\"Constructivist\",\"Conscientious\",\"Confrontational\",\"Confident\",\"Condescending\",\"Concise\",\"Conciliatory\",\"Conceptual\",\"Competitive\",\"Collectivistic\",\"Collaborative\",\"Closure Seeking\",\"Circumspect\",\"Charismatic\",\"Chaotic\",\"Challenging\",\"Cautious\",\"Calm\",\"Callous\",\"Calculating\",\"Blunt\",\"Bitter\",\"Big Picture\",\"Benevolent\",\"Avoidant\",\"Assertive\",\"Ascetic\",\"Artistic\",\"Arrogant\",\"Anxious\",\"Anthropocentric\",\"Animated\",\"Analytical\",\"Altruistic\",\"Agreeable\",\"Adventurous\",\"Adaptable\",\"Acerbic\",\"Accommodating\",\"Abstract\",\"Absolutist\"],\"x\":[-0.32494890689849854,-0.1921272873878479,-0.016735270619392395,-0.16052132844924927,0.24675314128398895,-0.2965773642063141,-0.18060702085494995,-0.04609547555446625,-0.35063210129737854,-0.2056637555360794,0.1422644704580307,0.08710557967424393,-0.5127455592155457,-0.47030511498451233,-0.0022950340062379837,0.28042206168174744,-0.16367940604686737,0.08115843683481216,0.06879839301109314,-0.08986944705247879,0.3577635884284973,-0.5568944811820984,0.2612697184085846,-0.2912611961364746,-0.4404866099357605,0.014304972253739834,-0.19544260203838348,-0.026304779574275017,-0.5166300535202026,0.27245935797691345,-0.37958988547325134,-0.5285729169845581,-0.014712447300553322,-0.019058726727962494,-0.3228616714477539,-0.2666381895542145,-0.15343213081359863,-0.22239714860916138,-0.1756700575351715,-0.12102152407169342,-0.37989404797554016,-0.3709859251976013,-0.06517574936151505,-0.16775605082511902,-0.00048603067989461124,-0.19461382925510406,0.0735534280538559,-0.13373935222625732,-0.3559018075466156,-0.3301977515220642,-0.18716132640838623,0.05356951802968979,-0.33401402831077576,-0.08028587698936462,-0.1869676560163498,-0.2010941505432129,-0.2836468517780304,-0.44892120361328125,-0.23434527218341827,0.28329145908355713,0.18234871327877045,-0.39626777172088623,-0.04406331479549408,-0.19672374427318573,-0.4140811860561371,-0.5360224843025208,0.09088388085365295,0.014448827132582664,-0.18068961799144745,-0.18829409778118134,-0.07347409427165985,-0.018828516826033592,0.22997316718101501,0.3992365002632141,-0.2250850945711136,0.159660205245018,-0.1283397674560547,0.25331979990005493,-0.3453131318092346,0.1497621089220047,0.021448006853461266,0.4029454290866852,-0.15509487688541412,0.017544014379382133,-0.36122000217437744,-0.43859386444091797,-0.39548543095588684,-0.20227035880088806,-0.07798516750335693,-0.4272180199623108,-0.3657835125923157,-0.07788878679275513,-0.20130464434623718,0.02188117429614067,0.030420774593949318,0.04921911284327507,-0.10816139727830887,-0.2602086663246155,0.1702362596988678,-0.07791884243488312,0.01006693858653307,-0.549323558807373,-0.06249092519283295,-0.25802719593048096,0.063834547996521,0.26730766892433167,-0.24386462569236755,-0.1835547238588333,-0.27898159623146057,0.027738403528928757,0.23330727219581604,0.3686771094799042,0.056241996586322784,-0.227088063955307,-0.376997172832489,0.36939528584480286,-0.3081215023994446,-0.13519622385501862,-0.3113493025302887,0.14073100686073303,0.37746185064315796,0.34017622470855713,0.0763779804110527,-0.20856936275959015,-0.019983645528554916,-0.24540221691131592,-0.4126929044723511,-0.47485530376434326,-0.5672880411148071,0.02987673319876194,0.17814497649669647,0.33283287286758423,-0.20010140538215637,0.017805490642786026,0.1305718570947647,0.18530882894992828,0.333528071641922,0.10595951229333878,-0.14562681317329407,-0.29444620013237,-0.3820984661579132,-0.38683515787124634,-0.08898963034152985,0.17871622741222382,-0.25030678510665894,0.31069663166999817,-0.44819754362106323,-0.5903374552726746,-0.021649232134222984,0.004061062820255756,0.15236903727054596,-0.40325650572776794,-0.19765804708003998,-0.279186487197876,-0.16013048589229584,-0.4370695650577545,-0.32450029253959656,0.023462796583771706,-0.29285722970962524,0.21606822311878204,0.23607295751571655,-0.33833402395248413,-0.39677560329437256,0.09467490762472153,-0.18504862487316132,0.32436051964759827,-0.3072035610675812,-0.38033729791641235,-0.3562336266040802,-0.35745036602020264,-0.14509838819503784,-0.38839179277420044,-0.37113597989082336,-0.30576035380363464,-0.21434488892555237,-0.14865390956401825,-0.16590288281440735,-0.2982124388217926,0.17529956996440887,0.050609372556209564,-0.32064005732536316,-0.5922955870628357,-0.5381673574447632,-0.28368455171585083,0.11579579859972,0.38272663950920105,-0.35499677062034607,-0.42921000719070435,0.17453056573867798,0.18673959374427795,-0.3536108434200287,0.2572386562824249,-0.2091575711965561,-0.15015432238578796,-0.3469296991825104,0.08844435214996338,0.12789340317249298,-0.3859269320964813,-0.475607305765152,-0.33373701572418213,-0.2562991678714752,-0.26933762431144714,0.3378092050552368,0.2641615569591522,-0.4686677157878876,-0.25186771154403687,-0.013635245151817799,-0.5847785472869873,0.12433294951915741,-0.12810400128364563,-0.0985599085688591,-0.33853787183761597,0.18605348467826843,0.37500834465026855,-0.1229601502418518,0.35011887550354004,-0.3900338411331177,0.38403624296188354,-0.3724372088909149,-0.3925783932209015],\"y\":[1,1,1,1,1,1,1,1,1,1,1,1,1,1,1,1,1,1,1,1,1,1,1,1,1,1,1,1,1,1,1,1,1,1,1,1,1,1,1,1,1,1,1,1,1,1,1,1,1,1,1,1,1,1,1,1,1,1,1,1,1,1,1,1,1,1,1,1,1,1,1,1,1,1,1,1,1,1,1,1,1,1,1,1,1,1,1,1,1,1,1,1,1,1,1,1,1,1,1,1,1,1,1,1,1,1,1,1,1,1,1,1,1,1,1,1,1,1,1,1,1,1,1,1,1,1,1,1,1,1,1,1,1,1,1,1,1,1,1,1,1,1,1,1,1,1,1,1,1,1,1,1,1,1,1,1,1,1,1,1,1,1,1,1,1,1,1,1,1,1,1,1,1,1,1,1,1,1,1,1,1,1,1,1,1,1,1,1,1,1,1,1,1,1,1,1,1,1,1,1,1,1,1,1,1,1,1,1,1,1,1,1,1,1,1,1,1,1,1,1],\"type\":\"scatter\",\"xaxis\":\"x\",\"yaxis\":\"y\"},{\"hovertemplate\":\"\\u003cb\\u003e%{text}\\u003c\\u002fb\\u003e\\u003cbr\\u003eCosine Similarity: %{x:.3f}\\u003cextra\\u003e\\u003c\\u002fextra\\u003e\",\"marker\":{\"color\":\"limegreen\",\"line\":{\"color\":\"black\",\"width\":1},\"opacity\":1.0,\"size\":8,\"symbol\":\"diamond\"},\"mode\":\"markers\",\"showlegend\":false,\"text\":[\"Understated\",\"Technical\",\"Specialized\",\"Ritualistic\",\"Reactive\",\"Practical\",\"Perfectionist\",\"Moderate\",\"Meticulous\",\"Humble\",\"Grandiose\",\"Forgiving\",\"Esoteric\",\"Erudite\",\"Empathetic\",\"Dominant\",\"Chill\",\"Casual\",\"Bombastic\",\"Accessible\"],\"x\":[0.4662025570869446,-0.6526121497154236,-0.6760011911392212,-0.6128299832344055,0.4061519503593445,0.42410171031951904,-0.6295143961906433,0.4050869941711426,-0.5946528911590576,0.5263048410415649,-0.7134374976158142,0.46825334429740906,-0.622992217540741,-0.6775538921356201,0.4838498830795288,-0.6463004946708679,0.5955060124397278,0.6232799887657166,-0.7254335880279541,0.6358689069747925],\"y\":[1,1,1,1,1,1,1,1,1,1,1,1,1,1,1,1,1,1,1,1],\"type\":\"scatter\",\"xaxis\":\"x\",\"yaxis\":\"y\"},{\"hoverinfo\":\"skip\",\"line\":{\"color\":\"black\",\"width\":1},\"mode\":\"lines\",\"showlegend\":false,\"x\":[-0.7254335880279541,-0.7254335880279541],\"y\":[1.0,1.45],\"type\":\"scatter\",\"xaxis\":\"x\",\"yaxis\":\"y\"},{\"hoverinfo\":\"skip\",\"line\":{\"color\":\"black\",\"width\":1},\"mode\":\"lines\",\"showlegend\":false,\"x\":[-0.7134374976158142,-0.7134374976158142],\"y\":[1.0,0.6],\"type\":\"scatter\",\"xaxis\":\"x\",\"yaxis\":\"y\"},{\"hoverinfo\":\"skip\",\"line\":{\"color\":\"black\",\"width\":1},\"mode\":\"lines\",\"showlegend\":false,\"x\":[-0.6775538921356201,-0.6775538921356201],\"y\":[1.0,1.9],\"type\":\"scatter\",\"xaxis\":\"x\",\"yaxis\":\"y\"},{\"hoverinfo\":\"skip\",\"line\":{\"color\":\"black\",\"width\":1},\"mode\":\"lines\",\"showlegend\":false,\"x\":[-0.6760011911392212,-0.6760011911392212],\"y\":[1.0,0.15],\"type\":\"scatter\",\"xaxis\":\"x\",\"yaxis\":\"y\"},{\"hoverinfo\":\"skip\",\"line\":{\"color\":\"black\",\"width\":1},\"mode\":\"lines\",\"showlegend\":false,\"x\":[-0.6526121497154236,-0.6526121497154236],\"y\":[1.0,1.6],\"type\":\"scatter\",\"xaxis\":\"x\",\"yaxis\":\"y\"},{\"hoverinfo\":\"skip\",\"line\":{\"color\":\"black\",\"width\":1},\"mode\":\"lines\",\"showlegend\":false,\"x\":[-0.6463004946708679,-0.6463004946708679],\"y\":[1.0,0.45],\"type\":\"scatter\",\"xaxis\":\"x\",\"yaxis\":\"y\"},{\"hoverinfo\":\"skip\",\"line\":{\"color\":\"black\",\"width\":1},\"mode\":\"lines\",\"showlegend\":false,\"x\":[-0.6295143961906433,-0.6295143961906433],\"y\":[1.0,1.3],\"type\":\"scatter\",\"xaxis\":\"x\",\"yaxis\":\"y\"},{\"hoverinfo\":\"skip\",\"line\":{\"color\":\"black\",\"width\":1},\"mode\":\"lines\",\"showlegend\":false,\"x\":[-0.622992217540741,-0.622992217540741],\"y\":[1.0,0.75],\"type\":\"scatter\",\"xaxis\":\"x\",\"yaxis\":\"y\"},{\"hoverinfo\":\"skip\",\"line\":{\"color\":\"black\",\"width\":1},\"mode\":\"lines\",\"showlegend\":false,\"x\":[-0.6128299832344055,-0.6128299832344055],\"y\":[1.0,1.75],\"type\":\"scatter\",\"xaxis\":\"x\",\"yaxis\":\"y\"},{\"hoverinfo\":\"skip\",\"line\":{\"color\":\"black\",\"width\":1},\"mode\":\"lines\",\"showlegend\":false,\"x\":[-0.5946528911590576,-0.5946528911590576],\"y\":[1.0,0.3],\"type\":\"scatter\",\"xaxis\":\"x\",\"yaxis\":\"y\"},{\"hoverinfo\":\"skip\",\"line\":{\"color\":\"black\",\"width\":1},\"mode\":\"lines\",\"showlegend\":false,\"x\":[0.4050869941711426,0.4050869941711426],\"y\":[1.0,1.45],\"type\":\"scatter\",\"xaxis\":\"x\",\"yaxis\":\"y\"},{\"hoverinfo\":\"skip\",\"line\":{\"color\":\"black\",\"width\":1},\"mode\":\"lines\",\"showlegend\":false,\"x\":[0.4061519503593445,0.4061519503593445],\"y\":[1.0,0.6],\"type\":\"scatter\",\"xaxis\":\"x\",\"yaxis\":\"y\"},{\"hoverinfo\":\"skip\",\"line\":{\"color\":\"black\",\"width\":1},\"mode\":\"lines\",\"showlegend\":false,\"x\":[0.42410171031951904,0.42410171031951904],\"y\":[1.0,1.9],\"type\":\"scatter\",\"xaxis\":\"x\",\"yaxis\":\"y\"},{\"hoverinfo\":\"skip\",\"line\":{\"color\":\"black\",\"width\":1},\"mode\":\"lines\",\"showlegend\":false,\"x\":[0.4662025570869446,0.4662025570869446],\"y\":[1.0,0.15],\"type\":\"scatter\",\"xaxis\":\"x\",\"yaxis\":\"y\"},{\"hoverinfo\":\"skip\",\"line\":{\"color\":\"black\",\"width\":1},\"mode\":\"lines\",\"showlegend\":false,\"x\":[0.46825334429740906,0.46825334429740906],\"y\":[1.0,1.6],\"type\":\"scatter\",\"xaxis\":\"x\",\"yaxis\":\"y\"},{\"hoverinfo\":\"skip\",\"line\":{\"color\":\"black\",\"width\":1},\"mode\":\"lines\",\"showlegend\":false,\"x\":[0.4838498830795288,0.4838498830795288],\"y\":[1.0,0.45],\"type\":\"scatter\",\"xaxis\":\"x\",\"yaxis\":\"y\"},{\"hoverinfo\":\"skip\",\"line\":{\"color\":\"black\",\"width\":1},\"mode\":\"lines\",\"showlegend\":false,\"x\":[0.5263048410415649,0.5263048410415649],\"y\":[1.0,1.3],\"type\":\"scatter\",\"xaxis\":\"x\",\"yaxis\":\"y\"},{\"hoverinfo\":\"skip\",\"line\":{\"color\":\"black\",\"width\":1},\"mode\":\"lines\",\"showlegend\":false,\"x\":[0.5955060124397278,0.5955060124397278],\"y\":[1.0,0.75],\"type\":\"scatter\",\"xaxis\":\"x\",\"yaxis\":\"y\"},{\"hoverinfo\":\"skip\",\"line\":{\"color\":\"black\",\"width\":1},\"mode\":\"lines\",\"showlegend\":false,\"x\":[0.6232799887657166,0.6232799887657166],\"y\":[1.0,1.75],\"type\":\"scatter\",\"xaxis\":\"x\",\"yaxis\":\"y\"},{\"hoverinfo\":\"skip\",\"line\":{\"color\":\"black\",\"width\":1},\"mode\":\"lines\",\"showlegend\":false,\"x\":[0.6358689069747925,0.6358689069747925],\"y\":[1.0,0.3],\"type\":\"scatter\",\"xaxis\":\"x\",\"yaxis\":\"y\"},{\"hoverinfo\":\"skip\",\"marker\":{\"color\":\"limegreen\"},\"opacity\":0.7,\"showlegend\":false,\"width\":0.03630142211914063,\"x\":[-0.7027451992034912,-0.6573684215545654,-0.6119917035102844,-0.5666149854660034,-0.5212382078170776,-0.47586148977279663,-0.43048471212387085,-0.38510796427726746,-0.33973121643066406,-0.2943544387817383,-0.24897772073745728,-0.20360097289085388,-0.1582242101430893,-0.1128474622964859,-0.06747071444988251,-0.022093964740633965,0.023282784968614578,0.06865953654050827,0.11403629183769226,0.15941303968429565,0.20478978753089905,0.25016653537750244,0.29554328322410583,0.34092003107070923,0.386296808719635,0.431673526763916,0.4770503044128418,0.5224270224571228,0.5678037405014038,0.6131805181503296],\"y\":[0.09000000000000001,0.18000000000000002,0.27,0.18000000000000002,0.225,0.18000000000000002,0.405,0.81,0.81,0.5850000000000001,0.49500000000000005,0.9,0.63,0.36000000000000004,0.45,0.49500000000000005,0.54,0.54,0.27,0.45,0.225,0.45,0.135,0.315,0.45,0.045000000000000005,0.135,0.045000000000000005,0.0,0.135],\"type\":\"bar\",\"xaxis\":\"x\",\"yaxis\":\"y\"},{\"hovertemplate\":\"\\u003cb\\u003e%{text}\\u003c\\u002fb\\u003e\\u003cbr\\u003ePC Projection: %{x:.3f}\\u003cextra\\u003e\\u003c\\u002fextra\\u003e\",\"marker\":{\"color\":\"limegreen\",\"line\":{\"color\":\"black\",\"width\":1},\"opacity\":1.0,\"size\":8,\"symbol\":\"diamond\"},\"mode\":\"markers\",\"showlegend\":false,\"text\":[\"Zealous\",\"Wry\",\"Witty\",\"Whimsical\",\"Visceral\",\"Vindictive\",\"Verbose\",\"Utilitarian\",\"Urgent\",\"Universalist\",\"Transparent\",\"Traditional\",\"Theoretical\",\"Theatrical\",\"Temperamental\",\"Tactful\",\"Systems Thinker\",\"Sycophantic\",\"Supportive\",\"Subversive\",\"Submissive\",\"Structuralist\",\"Stream Of Consciousness\",\"Strategic\",\"Stoic\",\"Spontaneous\",\"Spiritual\",\"Speculative\",\"Solemn\",\"Socratic\",\"Skeptical\",\"Serious\",\"Serene\",\"Secular\",\"Savage\",\"Sassy\",\"Sardonic\",\"Sarcastic\",\"Romantic\",\"Risk Taking\",\"Rhetorical\",\"Reverent\",\"Resilient\",\"Reserved\",\"Relativist\",\"Regulatory\",\"Reductionist\",\"Rebellious\",\"Reactive\",\"Rationalist\",\"Radical\",\"Quantitative\",\"Qualitative\",\"Provocative\",\"Progressive\",\"Problem Solving\",\"Proactive\",\"Principled\",\"Prescriptive\",\"Practical\",\"Poetic\",\"Pluralist\",\"Playful\",\"Philosophical\",\"Petty\",\"Pessimistic\",\"Pensive\",\"Pedantic\",\"Patient\",\"Passive Aggressive\",\"Passionate\",\"Paranoid\",\"Paradoxical\",\"Pacifist\",\"Optimistic\",\"Obsessive\",\"Nurturing\",\"Nostalgic\",\"Nonchalant\",\"Nihilistic\",\"Neurotic\",\"Narrative\",\"Naive\",\"Mystical\",\"Moderate\",\"Mischievous\",\"Misanthropic\",\"Militant\",\"Meticulous\",\"Methodical\",\"Metaphorical\",\"Mercurial\",\"Melodramatic\",\"Melancholic\",\"Meditative\",\"Materialist\",\"Manipulative\",\"Manic\",\"Literal\",\"Libertarian\",\"Judgmental\",\"Irreverent\",\"Ironic\",\"Intuitive\",\"Introverted\",\"Introspective\",\"Interdisciplinary\",\"Inspirational\",\"Inquisitive\",\"Innovative\",\"Individualistic\",\"Independent\",\"Inclusive\",\"Impulsive\",\"Impatient\",\"Idealistic\",\"Iconoclastic\",\"Humanistic\",\"Hostile\",\"Holistic\",\"Historical\",\"Hedonistic\",\"Grounded\",\"Gregarious\",\"Goofy\",\"Generous\",\"Generalist\",\"Futuristic\",\"Fundamentalist\",\"Formalist\",\"Formal\",\"Flirty\",\"Flippant\",\"Flexible\",\"Fatalistic\",\"Factual\",\"Extroverted\",\"Exploratory\",\"Experiential\",\"Existentialist\",\"Evil\",\"Ethereal\",\"Essentialist\",\"Epicurean\",\"Environmental\",\"Entertaining\",\"Enigmatic\",\"Emotional\",\"Eloquent\",\"Egalitarian\",\"Effusive\",\"Efficient\",\"Educational\",\"Edgy\",\"Eclectic\",\"Earnest\",\"Dramatic\",\"Dominant\",\"Dogmatic\",\"Divergent\",\"Dispassionate\",\"Disorganized\",\"Diplomatic\",\"Deterministic\",\"Detached\",\"Descriptive\",\"Deontological\",\"Deferential\",\"Deconstructionist\",\"Decisive\",\"Data Driven\",\"Cynical\",\"Curious\",\"Cryptic\",\"Cruel\",\"Critical\",\"Creative\",\"Cosmopolitan\",\"Convergent\",\"Contrarian\",\"Contemporary\",\"Constructivist\",\"Conscientious\",\"Confrontational\",\"Confident\",\"Condescending\",\"Concise\",\"Conciliatory\",\"Conceptual\",\"Competitive\",\"Collectivistic\",\"Collaborative\",\"Closure Seeking\",\"Circumspect\",\"Charismatic\",\"Chaotic\",\"Challenging\",\"Cautious\",\"Calm\",\"Callous\",\"Calculating\",\"Blunt\",\"Bitter\",\"Big Picture\",\"Benevolent\",\"Avoidant\",\"Assertive\",\"Ascetic\",\"Artistic\",\"Anxious\",\"Anthropocentric\",\"Animated\",\"Analytical\",\"Altruistic\",\"Agreeable\",\"Adventurous\",\"Adaptable\",\"Acerbic\",\"Abstract\",\"Absolutist\"],\"x\":[-0.24963466823101044,-0.10422071069478989,0.08493606001138687,-0.07318336516618729,0.37223562598228455,-0.1689629852771759,-0.09296536445617676,0.14408569037914276,-0.24192245304584503,0.1115390732884407,0.23372891545295715,0.20837032794952393,-0.422482430934906,-0.45135048031806946,0.11309933662414551,0.3838295638561249,-0.005821977276355028,0.19006381928920746,0.14594916999340057,0.05148766189813614,0.45373931527137756,-0.4153115153312683,0.4578068256378174,-0.2048637568950653,-0.2566610872745514,0.16955450177192688,-0.09728703647851944,0.2077987641096115,-0.4127594232559204,0.3889722228050232,-0.19652391970157623,-0.40286508202552795,0.07517627626657486,0.1179688572883606,-0.22846591472625732,-0.1817515790462494,-0.06607582420110703,-0.13345180451869965,-0.09340494126081467,0.10173984616994858,-0.3352366089820862,-0.259063184261322,0.02235475555062294,-0.023773739114403725,0.13194085657596588,-0.03157486021518707,0.2398131787776947,0.02883118763566017,0.4961199462413788,-0.19431614875793457,-0.22289320826530457,-0.0795750766992569,0.1799817979335785,-0.21719567477703094,0.09845452010631561,-0.07496856898069382,-0.08508877456188202,-0.03620093688368797,-0.2911783754825592,0.48663362860679626,-0.1734163910150528,0.4628705084323883,0.33431240916252136,-0.3301655948162079,0.052663061767816544,-0.06266134232282639,-0.3471687138080597,-0.4293810725212097,0.1748395711183548,0.11457352340221405,-0.07626020908355713,-0.07462860643863678,0.10284049063920975,0.19182837009429932,0.3295350670814514,-0.11505508422851562,0.24053756892681122,0.0029481237288564444,0.32271143794059753,-0.2825881838798523,0.24489521980285645,0.14957180619239807,0.4677633047103882,-0.05904620140790939,0.45812204480171204,0.14143620431423187,-0.29248079657554626,-0.36208659410476685,-0.4986240267753601,-0.27114245295524597,-0.13633771240711212,0.04546450451016426,-0.3997285068035126,-0.2867313623428345,-0.0011819815263152122,-0.0258211437612772,0.12276007235050201,0.14238299429416656,0.1636860966682434,0.06666556000709534,-0.162430539727211,0.27875444293022156,0.02182832360267639,0.159467875957489,-0.4253244698047638,0.08733543753623962,-0.05514293164014816,0.14872819185256958,0.40332919359207153,-0.09924066811800003,0.027033062651753426,-0.1614571362733841,0.19664336740970612,0.32698604464530945,0.138940691947937,-0.03581395000219345,-0.2615289092063904,0.5031018853187561,-0.22815585136413574,-0.011277484707534313,-0.17374727129936218,0.2768404483795166,0.42510318756103516,0.48629245162010193,0.17598369717597961,-0.13552848994731903,0.09290481358766556,-0.1022031307220459,-0.27117234468460083,-0.25700587034225464,-0.4540567398071289,0.1319115310907364,0.25945237278938293,0.4026917517185211,-0.10470214486122131,0.16152802109718323,0.2809705436229706,0.3151940107345581,0.4415487051010132,0.23325268924236298,-0.05062290281057358,-0.2257477194070816,-0.21741819381713867,-0.320629745721817,0.04795129969716072,0.3274558186531067,-0.18939794600009918,0.4601368308067322,-0.41610345244407654,0.15253551304340363,0.11296926438808441,0.2353728711605072,-0.32311734557151794,-0.10946550220251083,-0.13277454674243927,-0.06979583203792572,-0.413993239402771,-0.48723331093788147,-0.22187040746212006,0.17176443338394165,-0.1546047478914261,0.3108065724372864,0.31866729259490967,-0.25741279125213623,-0.22939449548721313,0.2119332104921341,0.05354616418480873,0.47510722279548645,-0.1767081320285797,-0.2564183473587036,-0.20886197686195374,-0.2519201636314392,-0.05574748292565346,-0.3473878502845764,-0.2882009744644165,-0.18162617087364197,-0.08355137705802917,-0.014257321134209633,0.1173311248421669,-0.1474546194076538,0.3588269054889679,0.23011784255504608,-0.24248722195625305,-0.44888219237327576,-0.4076083302497864,-0.18002142012119293,0.19216959178447723,0.4413791298866272,-0.20980088412761688,-0.3447635769844055,0.31824326515197754,0.3248056471347809,-0.16923578083515167,0.37912118434906006,-0.150362029671669,-0.002340886276215315,-0.22157719731330872,0.23817448318004608,0.21426787972450256,-0.30024904012680054,-0.36030176281929016,-0.22024138271808624,-0.1729240119457245,-0.10253554582595825,0.4195612072944641,0.35499322414398193,-0.31270962953567505,-0.13091875612735748,0.10117122530937195,0.2215861976146698,0.1392349749803543,-0.02814716473221779,-0.21023114025592804,0.2943251430988312,0.44761642813682556,0.032790396362543106,0.4435718357563019,-0.314776748418808,-0.2304641455411911,-0.21065708994865417],\"y\":[1,1,1,1,1,1,1,1,1,1,1,1,1,1,1,1,1,1,1,1,1,1,1,1,1,1,1,1,1,1,1,1,1,1,1,1,1,1,1,1,1,1,1,1,1,1,1,1,1,1,1,1,1,1,1,1,1,1,1,1,1,1,1,1,1,1,1,1,1,1,1,1,1,1,1,1,1,1,1,1,1,1,1,1,1,1,1,1,1,1,1,1,1,1,1,1,1,1,1,1,1,1,1,1,1,1,1,1,1,1,1,1,1,1,1,1,1,1,1,1,1,1,1,1,1,1,1,1,1,1,1,1,1,1,1,1,1,1,1,1,1,1,1,1,1,1,1,1,1,1,1,1,1,1,1,1,1,1,1,1,1,1,1,1,1,1,1,1,1,1,1,1,1,1,1,1,1,1,1,1,1,1,1,1,1,1,1,1,1,1,1,1,1,1,1,1,1,1,1,1,1,1,1,1,1,1,1,1,1,1,1,1,1,1,1,1,1,1,1,1],\"type\":\"scatter\",\"xaxis\":\"x2\",\"yaxis\":\"y2\"},{\"hovertemplate\":\"\\u003cb\\u003e%{text}\\u003c\\u002fb\\u003e\\u003cbr\\u003ePC Projection: %{x:.3f}\\u003cextra\\u003e\\u003c\\u002fextra\\u003e\",\"marker\":{\"color\":\"limegreen\",\"line\":{\"color\":\"black\",\"width\":1},\"opacity\":1.0,\"size\":8,\"symbol\":\"diamond\"},\"mode\":\"markers\",\"showlegend\":false,\"text\":[\"Understated\",\"Technical\",\"Specialized\",\"Ritualistic\",\"Perfectionist\",\"Open Ended\",\"Improvisational\",\"Humble\",\"Grandiose\",\"Forgiving\",\"Esoteric\",\"Erudite\",\"Empathetic\",\"Elitist\",\"Chill\",\"Casual\",\"Bombastic\",\"Arrogant\",\"Accommodating\",\"Accessible\"],\"x\":[0.5064219832420349,-0.57574862241745,-0.6186456680297852,-0.5295402407646179,-0.5288476347923279,0.5445524454116821,0.5596267580986023,0.6535778045654297,-0.7265129089355469,0.6267260909080505,-0.5862666368484497,-0.6385114192962646,0.6431443095207214,-0.5172874927520752,0.6492879986763,0.7071834802627563,-0.7373743653297424,-0.5178166627883911,0.5921155214309692,0.6592206954956055],\"y\":[1,1,1,1,1,1,1,1,1,1,1,1,1,1,1,1,1,1,1,1],\"type\":\"scatter\",\"xaxis\":\"x2\",\"yaxis\":\"y2\"},{\"hoverinfo\":\"skip\",\"line\":{\"color\":\"black\",\"width\":1},\"mode\":\"lines\",\"showlegend\":false,\"x\":[-0.7373743653297424,-0.7373743653297424],\"y\":[1.0,1.45],\"type\":\"scatter\",\"xaxis\":\"x2\",\"yaxis\":\"y2\"},{\"hoverinfo\":\"skip\",\"line\":{\"color\":\"black\",\"width\":1},\"mode\":\"lines\",\"showlegend\":false,\"x\":[-0.7265129089355469,-0.7265129089355469],\"y\":[1.0,0.6],\"type\":\"scatter\",\"xaxis\":\"x2\",\"yaxis\":\"y2\"},{\"hoverinfo\":\"skip\",\"line\":{\"color\":\"black\",\"width\":1},\"mode\":\"lines\",\"showlegend\":false,\"x\":[-0.6385114192962646,-0.6385114192962646],\"y\":[1.0,1.9],\"type\":\"scatter\",\"xaxis\":\"x2\",\"yaxis\":\"y2\"},{\"hoverinfo\":\"skip\",\"line\":{\"color\":\"black\",\"width\":1},\"mode\":\"lines\",\"showlegend\":false,\"x\":[-0.6186456680297852,-0.6186456680297852],\"y\":[1.0,0.15],\"type\":\"scatter\",\"xaxis\":\"x2\",\"yaxis\":\"y2\"},{\"hoverinfo\":\"skip\",\"line\":{\"color\":\"black\",\"width\":1},\"mode\":\"lines\",\"showlegend\":false,\"x\":[-0.5862666368484497,-0.5862666368484497],\"y\":[1.0,1.6],\"type\":\"scatter\",\"xaxis\":\"x2\",\"yaxis\":\"y2\"},{\"hoverinfo\":\"skip\",\"line\":{\"color\":\"black\",\"width\":1},\"mode\":\"lines\",\"showlegend\":false,\"x\":[-0.57574862241745,-0.57574862241745],\"y\":[1.0,0.45],\"type\":\"scatter\",\"xaxis\":\"x2\",\"yaxis\":\"y2\"},{\"hoverinfo\":\"skip\",\"line\":{\"color\":\"black\",\"width\":1},\"mode\":\"lines\",\"showlegend\":false,\"x\":[-0.5295402407646179,-0.5295402407646179],\"y\":[1.0,1.3],\"type\":\"scatter\",\"xaxis\":\"x2\",\"yaxis\":\"y2\"},{\"hoverinfo\":\"skip\",\"line\":{\"color\":\"black\",\"width\":1},\"mode\":\"lines\",\"showlegend\":false,\"x\":[-0.5288476347923279,-0.5288476347923279],\"y\":[1.0,0.75],\"type\":\"scatter\",\"xaxis\":\"x2\",\"yaxis\":\"y2\"},{\"hoverinfo\":\"skip\",\"line\":{\"color\":\"black\",\"width\":1},\"mode\":\"lines\",\"showlegend\":false,\"x\":[-0.5178166627883911,-0.5178166627883911],\"y\":[1.0,1.75],\"type\":\"scatter\",\"xaxis\":\"x2\",\"yaxis\":\"y2\"},{\"hoverinfo\":\"skip\",\"line\":{\"color\":\"black\",\"width\":1},\"mode\":\"lines\",\"showlegend\":false,\"x\":[-0.5172874927520752,-0.5172874927520752],\"y\":[1.0,0.3],\"type\":\"scatter\",\"xaxis\":\"x2\",\"yaxis\":\"y2\"},{\"hoverinfo\":\"skip\",\"line\":{\"color\":\"black\",\"width\":1},\"mode\":\"lines\",\"showlegend\":false,\"x\":[0.5064219832420349,0.5064219832420349],\"y\":[1.0,1.45],\"type\":\"scatter\",\"xaxis\":\"x2\",\"yaxis\":\"y2\"},{\"hoverinfo\":\"skip\",\"line\":{\"color\":\"black\",\"width\":1},\"mode\":\"lines\",\"showlegend\":false,\"x\":[0.5445524454116821,0.5445524454116821],\"y\":[1.0,0.6],\"type\":\"scatter\",\"xaxis\":\"x2\",\"yaxis\":\"y2\"},{\"hoverinfo\":\"skip\",\"line\":{\"color\":\"black\",\"width\":1},\"mode\":\"lines\",\"showlegend\":false,\"x\":[0.5596267580986023,0.5596267580986023],\"y\":[1.0,1.9],\"type\":\"scatter\",\"xaxis\":\"x2\",\"yaxis\":\"y2\"},{\"hoverinfo\":\"skip\",\"line\":{\"color\":\"black\",\"width\":1},\"mode\":\"lines\",\"showlegend\":false,\"x\":[0.5921155214309692,0.5921155214309692],\"y\":[1.0,0.15],\"type\":\"scatter\",\"xaxis\":\"x2\",\"yaxis\":\"y2\"},{\"hoverinfo\":\"skip\",\"line\":{\"color\":\"black\",\"width\":1},\"mode\":\"lines\",\"showlegend\":false,\"x\":[0.6267260909080505,0.6267260909080505],\"y\":[1.0,1.6],\"type\":\"scatter\",\"xaxis\":\"x2\",\"yaxis\":\"y2\"},{\"hoverinfo\":\"skip\",\"line\":{\"color\":\"black\",\"width\":1},\"mode\":\"lines\",\"showlegend\":false,\"x\":[0.6431443095207214,0.6431443095207214],\"y\":[1.0,0.45],\"type\":\"scatter\",\"xaxis\":\"x2\",\"yaxis\":\"y2\"},{\"hoverinfo\":\"skip\",\"line\":{\"color\":\"black\",\"width\":1},\"mode\":\"lines\",\"showlegend\":false,\"x\":[0.6492879986763,0.6492879986763],\"y\":[1.0,1.3],\"type\":\"scatter\",\"xaxis\":\"x2\",\"yaxis\":\"y2\"},{\"hoverinfo\":\"skip\",\"line\":{\"color\":\"black\",\"width\":1},\"mode\":\"lines\",\"showlegend\":false,\"x\":[0.6535778045654297,0.6535778045654297],\"y\":[1.0,0.75],\"type\":\"scatter\",\"xaxis\":\"x2\",\"yaxis\":\"y2\"},{\"hoverinfo\":\"skip\",\"line\":{\"color\":\"black\",\"width\":1},\"mode\":\"lines\",\"showlegend\":false,\"x\":[0.6592206954956055,0.6592206954956055],\"y\":[1.0,1.75],\"type\":\"scatter\",\"xaxis\":\"x2\",\"yaxis\":\"y2\"},{\"hoverinfo\":\"skip\",\"line\":{\"color\":\"black\",\"width\":1},\"mode\":\"lines\",\"showlegend\":false,\"x\":[0.7071834802627563,0.7071834802627563],\"y\":[1.0,0.3],\"type\":\"scatter\",\"xaxis\":\"x2\",\"yaxis\":\"y2\"},{\"hoverinfo\":\"skip\",\"marker\":{\"color\":\"limegreen\"},\"opacity\":0.7,\"showlegend\":false,\"width\":0.038521528244018555,\"x\":[-0.7132984399795532,-0.6651464700698853,-0.6169945001602173,-0.5688426494598389,-0.5206906795501709,-0.4725387692451477,-0.4243868291378021,-0.37623488903045654,-0.32808297872543335,-0.27993106842041016,-0.23177912831306458,-0.183627188205719,-0.1354752629995346,-0.08732333779335022,-0.039171405136585236,0.0089805219322443,0.057132452726364136,0.10528437793254852,0.1534363031387329,0.2015882432460785,0.24974016845226288,0.29789209365844727,0.34604400396347046,0.39419594407081604,0.4423478841781616,0.4904997944831848,0.538651704788208,0.586803674697876,0.6349555850028992,0.6831074953079224],\"y\":[0.09473684210526316,0.0,0.09473684210526316,0.09473684210526316,0.23684210526315788,0.18947368421052632,0.4263157894736842,0.14210526315789473,0.4263157894736842,0.6631578947368421,0.9,0.7105263157894737,0.4263157894736842,0.8526315789473684,0.5210526315789474,0.5210526315789474,0.33157894736842103,0.6631578947368421,0.8526315789473684,0.47368421052631576,0.4263157894736842,0.37894736842105264,0.37894736842105264,0.28421052631578947,0.5210526315789474,0.33157894736842103,0.09473684210526316,0.04736842105263158,0.18947368421052632,0.09473684210526316],\"type\":\"bar\",\"xaxis\":\"x2\",\"yaxis\":\"y2\"}],                        {\"template\":{\"data\":{\"histogram2dcontour\":[{\"type\":\"histogram2dcontour\",\"colorbar\":{\"outlinewidth\":0,\"ticks\":\"\"},\"colorscale\":[[0.0,\"#0d0887\"],[0.1111111111111111,\"#46039f\"],[0.2222222222222222,\"#7201a8\"],[0.3333333333333333,\"#9c179e\"],[0.4444444444444444,\"#bd3786\"],[0.5555555555555556,\"#d8576b\"],[0.6666666666666666,\"#ed7953\"],[0.7777777777777778,\"#fb9f3a\"],[0.8888888888888888,\"#fdca26\"],[1.0,\"#f0f921\"]]}],\"choropleth\":[{\"type\":\"choropleth\",\"colorbar\":{\"outlinewidth\":0,\"ticks\":\"\"}}],\"histogram2d\":[{\"type\":\"histogram2d\",\"colorbar\":{\"outlinewidth\":0,\"ticks\":\"\"},\"colorscale\":[[0.0,\"#0d0887\"],[0.1111111111111111,\"#46039f\"],[0.2222222222222222,\"#7201a8\"],[0.3333333333333333,\"#9c179e\"],[0.4444444444444444,\"#bd3786\"],[0.5555555555555556,\"#d8576b\"],[0.6666666666666666,\"#ed7953\"],[0.7777777777777778,\"#fb9f3a\"],[0.8888888888888888,\"#fdca26\"],[1.0,\"#f0f921\"]]}],\"heatmap\":[{\"type\":\"heatmap\",\"colorbar\":{\"outlinewidth\":0,\"ticks\":\"\"},\"colorscale\":[[0.0,\"#0d0887\"],[0.1111111111111111,\"#46039f\"],[0.2222222222222222,\"#7201a8\"],[0.3333333333333333,\"#9c179e\"],[0.4444444444444444,\"#bd3786\"],[0.5555555555555556,\"#d8576b\"],[0.6666666666666666,\"#ed7953\"],[0.7777777777777778,\"#fb9f3a\"],[0.8888888888888888,\"#fdca26\"],[1.0,\"#f0f921\"]]}],\"heatmapgl\":[{\"type\":\"heatmapgl\",\"colorbar\":{\"outlinewidth\":0,\"ticks\":\"\"},\"colorscale\":[[0.0,\"#0d0887\"],[0.1111111111111111,\"#46039f\"],[0.2222222222222222,\"#7201a8\"],[0.3333333333333333,\"#9c179e\"],[0.4444444444444444,\"#bd3786\"],[0.5555555555555556,\"#d8576b\"],[0.6666666666666666,\"#ed7953\"],[0.7777777777777778,\"#fb9f3a\"],[0.8888888888888888,\"#fdca26\"],[1.0,\"#f0f921\"]]}],\"contourcarpet\":[{\"type\":\"contourcarpet\",\"colorbar\":{\"outlinewidth\":0,\"ticks\":\"\"}}],\"contour\":[{\"type\":\"contour\",\"colorbar\":{\"outlinewidth\":0,\"ticks\":\"\"},\"colorscale\":[[0.0,\"#0d0887\"],[0.1111111111111111,\"#46039f\"],[0.2222222222222222,\"#7201a8\"],[0.3333333333333333,\"#9c179e\"],[0.4444444444444444,\"#bd3786\"],[0.5555555555555556,\"#d8576b\"],[0.6666666666666666,\"#ed7953\"],[0.7777777777777778,\"#fb9f3a\"],[0.8888888888888888,\"#fdca26\"],[1.0,\"#f0f921\"]]}],\"surface\":[{\"type\":\"surface\",\"colorbar\":{\"outlinewidth\":0,\"ticks\":\"\"},\"colorscale\":[[0.0,\"#0d0887\"],[0.1111111111111111,\"#46039f\"],[0.2222222222222222,\"#7201a8\"],[0.3333333333333333,\"#9c179e\"],[0.4444444444444444,\"#bd3786\"],[0.5555555555555556,\"#d8576b\"],[0.6666666666666666,\"#ed7953\"],[0.7777777777777778,\"#fb9f3a\"],[0.8888888888888888,\"#fdca26\"],[1.0,\"#f0f921\"]]}],\"mesh3d\":[{\"type\":\"mesh3d\",\"colorbar\":{\"outlinewidth\":0,\"ticks\":\"\"}}],\"scatter\":[{\"fillpattern\":{\"fillmode\":\"overlay\",\"size\":10,\"solidity\":0.2},\"type\":\"scatter\"}],\"parcoords\":[{\"type\":\"parcoords\",\"line\":{\"colorbar\":{\"outlinewidth\":0,\"ticks\":\"\"}}}],\"scatterpolargl\":[{\"type\":\"scatterpolargl\",\"marker\":{\"colorbar\":{\"outlinewidth\":0,\"ticks\":\"\"}}}],\"bar\":[{\"error_x\":{\"color\":\"#2a3f5f\"},\"error_y\":{\"color\":\"#2a3f5f\"},\"marker\":{\"line\":{\"color\":\"#E5ECF6\",\"width\":0.5},\"pattern\":{\"fillmode\":\"overlay\",\"size\":10,\"solidity\":0.2}},\"type\":\"bar\"}],\"scattergeo\":[{\"type\":\"scattergeo\",\"marker\":{\"colorbar\":{\"outlinewidth\":0,\"ticks\":\"\"}}}],\"scatterpolar\":[{\"type\":\"scatterpolar\",\"marker\":{\"colorbar\":{\"outlinewidth\":0,\"ticks\":\"\"}}}],\"histogram\":[{\"marker\":{\"pattern\":{\"fillmode\":\"overlay\",\"size\":10,\"solidity\":0.2}},\"type\":\"histogram\"}],\"scattergl\":[{\"type\":\"scattergl\",\"marker\":{\"colorbar\":{\"outlinewidth\":0,\"ticks\":\"\"}}}],\"scatter3d\":[{\"type\":\"scatter3d\",\"line\":{\"colorbar\":{\"outlinewidth\":0,\"ticks\":\"\"}},\"marker\":{\"colorbar\":{\"outlinewidth\":0,\"ticks\":\"\"}}}],\"scattermapbox\":[{\"type\":\"scattermapbox\",\"marker\":{\"colorbar\":{\"outlinewidth\":0,\"ticks\":\"\"}}}],\"scatterternary\":[{\"type\":\"scatterternary\",\"marker\":{\"colorbar\":{\"outlinewidth\":0,\"ticks\":\"\"}}}],\"scattercarpet\":[{\"type\":\"scattercarpet\",\"marker\":{\"colorbar\":{\"outlinewidth\":0,\"ticks\":\"\"}}}],\"carpet\":[{\"aaxis\":{\"endlinecolor\":\"#2a3f5f\",\"gridcolor\":\"white\",\"linecolor\":\"white\",\"minorgridcolor\":\"white\",\"startlinecolor\":\"#2a3f5f\"},\"baxis\":{\"endlinecolor\":\"#2a3f5f\",\"gridcolor\":\"white\",\"linecolor\":\"white\",\"minorgridcolor\":\"white\",\"startlinecolor\":\"#2a3f5f\"},\"type\":\"carpet\"}],\"table\":[{\"cells\":{\"fill\":{\"color\":\"#EBF0F8\"},\"line\":{\"color\":\"white\"}},\"header\":{\"fill\":{\"color\":\"#C8D4E3\"},\"line\":{\"color\":\"white\"}},\"type\":\"table\"}],\"barpolar\":[{\"marker\":{\"line\":{\"color\":\"#E5ECF6\",\"width\":0.5},\"pattern\":{\"fillmode\":\"overlay\",\"size\":10,\"solidity\":0.2}},\"type\":\"barpolar\"}],\"pie\":[{\"automargin\":true,\"type\":\"pie\"}]},\"layout\":{\"autotypenumbers\":\"strict\",\"colorway\":[\"#636efa\",\"#EF553B\",\"#00cc96\",\"#ab63fa\",\"#FFA15A\",\"#19d3f3\",\"#FF6692\",\"#B6E880\",\"#FF97FF\",\"#FECB52\"],\"font\":{\"color\":\"#2a3f5f\"},\"hovermode\":\"closest\",\"hoverlabel\":{\"align\":\"left\"},\"paper_bgcolor\":\"white\",\"plot_bgcolor\":\"#E5ECF6\",\"polar\":{\"bgcolor\":\"#E5ECF6\",\"angularaxis\":{\"gridcolor\":\"white\",\"linecolor\":\"white\",\"ticks\":\"\"},\"radialaxis\":{\"gridcolor\":\"white\",\"linecolor\":\"white\",\"ticks\":\"\"}},\"ternary\":{\"bgcolor\":\"#E5ECF6\",\"aaxis\":{\"gridcolor\":\"white\",\"linecolor\":\"white\",\"ticks\":\"\"},\"baxis\":{\"gridcolor\":\"white\",\"linecolor\":\"white\",\"ticks\":\"\"},\"caxis\":{\"gridcolor\":\"white\",\"linecolor\":\"white\",\"ticks\":\"\"}},\"coloraxis\":{\"colorbar\":{\"outlinewidth\":0,\"ticks\":\"\"}},\"colorscale\":{\"sequential\":[[0.0,\"#0d0887\"],[0.1111111111111111,\"#46039f\"],[0.2222222222222222,\"#7201a8\"],[0.3333333333333333,\"#9c179e\"],[0.4444444444444444,\"#bd3786\"],[0.5555555555555556,\"#d8576b\"],[0.6666666666666666,\"#ed7953\"],[0.7777777777777778,\"#fb9f3a\"],[0.8888888888888888,\"#fdca26\"],[1.0,\"#f0f921\"]],\"sequentialminus\":[[0.0,\"#0d0887\"],[0.1111111111111111,\"#46039f\"],[0.2222222222222222,\"#7201a8\"],[0.3333333333333333,\"#9c179e\"],[0.4444444444444444,\"#bd3786\"],[0.5555555555555556,\"#d8576b\"],[0.6666666666666666,\"#ed7953\"],[0.7777777777777778,\"#fb9f3a\"],[0.8888888888888888,\"#fdca26\"],[1.0,\"#f0f921\"]],\"diverging\":[[0,\"#8e0152\"],[0.1,\"#c51b7d\"],[0.2,\"#de77ae\"],[0.3,\"#f1b6da\"],[0.4,\"#fde0ef\"],[0.5,\"#f7f7f7\"],[0.6,\"#e6f5d0\"],[0.7,\"#b8e186\"],[0.8,\"#7fbc41\"],[0.9,\"#4d9221\"],[1,\"#276419\"]]},\"xaxis\":{\"gridcolor\":\"white\",\"linecolor\":\"white\",\"ticks\":\"\",\"title\":{\"standoff\":15},\"zerolinecolor\":\"white\",\"automargin\":true,\"zerolinewidth\":2},\"yaxis\":{\"gridcolor\":\"white\",\"linecolor\":\"white\",\"ticks\":\"\",\"title\":{\"standoff\":15},\"zerolinecolor\":\"white\",\"automargin\":true,\"zerolinewidth\":2},\"scene\":{\"xaxis\":{\"backgroundcolor\":\"#E5ECF6\",\"gridcolor\":\"white\",\"linecolor\":\"white\",\"showbackground\":true,\"ticks\":\"\",\"zerolinecolor\":\"white\",\"gridwidth\":2},\"yaxis\":{\"backgroundcolor\":\"#E5ECF6\",\"gridcolor\":\"white\",\"linecolor\":\"white\",\"showbackground\":true,\"ticks\":\"\",\"zerolinecolor\":\"white\",\"gridwidth\":2},\"zaxis\":{\"backgroundcolor\":\"#E5ECF6\",\"gridcolor\":\"white\",\"linecolor\":\"white\",\"showbackground\":true,\"ticks\":\"\",\"zerolinecolor\":\"white\",\"gridwidth\":2}},\"shapedefaults\":{\"line\":{\"color\":\"#2a3f5f\"}},\"annotationdefaults\":{\"arrowcolor\":\"#2a3f5f\",\"arrowhead\":0,\"arrowwidth\":1},\"geo\":{\"bgcolor\":\"white\",\"landcolor\":\"#E5ECF6\",\"subunitcolor\":\"white\",\"showland\":true,\"showlakes\":true,\"lakecolor\":\"white\"},\"title\":{\"x\":0.05},\"mapbox\":{\"style\":\"light\"}}},\"xaxis\":{\"anchor\":\"y\",\"domain\":[0.0,1.0],\"range\":[-1.1,1.1]},\"yaxis\":{\"anchor\":\"x\",\"domain\":[0.55,1.0],\"showticklabels\":false,\"range\":[0,2.5]},\"xaxis2\":{\"anchor\":\"y2\",\"domain\":[0.0,1.0],\"range\":[-1.1,1.1]},\"yaxis2\":{\"anchor\":\"x2\",\"domain\":[0.0,0.45],\"showticklabels\":false,\"range\":[0,2.5]},\"annotations\":[{\"font\":{\"size\":16},\"showarrow\":false,\"text\":\"PC3 Cosine Similarity\",\"x\":0.5,\"xanchor\":\"center\",\"xref\":\"paper\",\"y\":1.0,\"yanchor\":\"bottom\",\"yref\":\"paper\"},{\"font\":{\"size\":16},\"showarrow\":false,\"text\":\"PC3 Projection\",\"x\":0.5,\"xanchor\":\"center\",\"xref\":\"paper\",\"y\":0.45,\"yanchor\":\"bottom\",\"yref\":\"paper\"},{\"bgcolor\":\"rgba(255, 255, 255, 0.9)\",\"bordercolor\":\"black\",\"borderwidth\":1,\"font\":{\"color\":\"black\",\"size\":10},\"showarrow\":false,\"text\":\"Bombastic\",\"x\":-0.7254335880279541,\"xref\":\"x\",\"y\":1.45,\"yref\":\"y\"},{\"bgcolor\":\"rgba(255, 255, 255, 0.9)\",\"bordercolor\":\"black\",\"borderwidth\":1,\"font\":{\"color\":\"black\",\"size\":10},\"showarrow\":false,\"text\":\"Grandiose\",\"x\":-0.7134374976158142,\"xref\":\"x\",\"y\":0.6,\"yref\":\"y\"},{\"bgcolor\":\"rgba(255, 255, 255, 0.9)\",\"bordercolor\":\"black\",\"borderwidth\":1,\"font\":{\"color\":\"black\",\"size\":10},\"showarrow\":false,\"text\":\"Erudite\",\"x\":-0.6775538921356201,\"xref\":\"x\",\"y\":1.9,\"yref\":\"y\"},{\"bgcolor\":\"rgba(255, 255, 255, 0.9)\",\"bordercolor\":\"black\",\"borderwidth\":1,\"font\":{\"color\":\"black\",\"size\":10},\"showarrow\":false,\"text\":\"Specialized\",\"x\":-0.6760011911392212,\"xref\":\"x\",\"y\":0.15,\"yref\":\"y\"},{\"bgcolor\":\"rgba(255, 255, 255, 0.9)\",\"bordercolor\":\"black\",\"borderwidth\":1,\"font\":{\"color\":\"black\",\"size\":10},\"showarrow\":false,\"text\":\"Technical\",\"x\":-0.6526121497154236,\"xref\":\"x\",\"y\":1.6,\"yref\":\"y\"},{\"bgcolor\":\"rgba(255, 255, 255, 0.9)\",\"bordercolor\":\"black\",\"borderwidth\":1,\"font\":{\"color\":\"black\",\"size\":10},\"showarrow\":false,\"text\":\"Dominant\",\"x\":-0.6463004946708679,\"xref\":\"x\",\"y\":0.45,\"yref\":\"y\"},{\"bgcolor\":\"rgba(255, 255, 255, 0.9)\",\"bordercolor\":\"black\",\"borderwidth\":1,\"font\":{\"color\":\"black\",\"size\":10},\"showarrow\":false,\"text\":\"Perfectionist\",\"x\":-0.6295143961906433,\"xref\":\"x\",\"y\":1.3,\"yref\":\"y\"},{\"bgcolor\":\"rgba(255, 255, 255, 0.9)\",\"bordercolor\":\"black\",\"borderwidth\":1,\"font\":{\"color\":\"black\",\"size\":10},\"showarrow\":false,\"text\":\"Esoteric\",\"x\":-0.622992217540741,\"xref\":\"x\",\"y\":0.75,\"yref\":\"y\"},{\"bgcolor\":\"rgba(255, 255, 255, 0.9)\",\"bordercolor\":\"black\",\"borderwidth\":1,\"font\":{\"color\":\"black\",\"size\":10},\"showarrow\":false,\"text\":\"Ritualistic\",\"x\":-0.6128299832344055,\"xref\":\"x\",\"y\":1.75,\"yref\":\"y\"},{\"bgcolor\":\"rgba(255, 255, 255, 0.9)\",\"bordercolor\":\"black\",\"borderwidth\":1,\"font\":{\"color\":\"black\",\"size\":10},\"showarrow\":false,\"text\":\"Meticulous\",\"x\":-0.5946528911590576,\"xref\":\"x\",\"y\":0.3,\"yref\":\"y\"},{\"bgcolor\":\"rgba(255, 255, 255, 0.9)\",\"bordercolor\":\"black\",\"borderwidth\":1,\"font\":{\"color\":\"black\",\"size\":10},\"showarrow\":false,\"text\":\"Moderate\",\"x\":0.4050869941711426,\"xref\":\"x\",\"y\":1.45,\"yref\":\"y\"},{\"bgcolor\":\"rgba(255, 255, 255, 0.9)\",\"bordercolor\":\"black\",\"borderwidth\":1,\"font\":{\"color\":\"black\",\"size\":10},\"showarrow\":false,\"text\":\"Reactive\",\"x\":0.4061519503593445,\"xref\":\"x\",\"y\":0.6,\"yref\":\"y\"},{\"bgcolor\":\"rgba(255, 255, 255, 0.9)\",\"bordercolor\":\"black\",\"borderwidth\":1,\"font\":{\"color\":\"black\",\"size\":10},\"showarrow\":false,\"text\":\"Practical\",\"x\":0.42410171031951904,\"xref\":\"x\",\"y\":1.9,\"yref\":\"y\"},{\"bgcolor\":\"rgba(255, 255, 255, 0.9)\",\"bordercolor\":\"black\",\"borderwidth\":1,\"font\":{\"color\":\"black\",\"size\":10},\"showarrow\":false,\"text\":\"Understated\",\"x\":0.4662025570869446,\"xref\":\"x\",\"y\":0.15,\"yref\":\"y\"},{\"bgcolor\":\"rgba(255, 255, 255, 0.9)\",\"bordercolor\":\"black\",\"borderwidth\":1,\"font\":{\"color\":\"black\",\"size\":10},\"showarrow\":false,\"text\":\"Forgiving\",\"x\":0.46825334429740906,\"xref\":\"x\",\"y\":1.6,\"yref\":\"y\"},{\"bgcolor\":\"rgba(255, 255, 255, 0.9)\",\"bordercolor\":\"black\",\"borderwidth\":1,\"font\":{\"color\":\"black\",\"size\":10},\"showarrow\":false,\"text\":\"Empathetic\",\"x\":0.4838498830795288,\"xref\":\"x\",\"y\":0.45,\"yref\":\"y\"},{\"bgcolor\":\"rgba(255, 255, 255, 0.9)\",\"bordercolor\":\"black\",\"borderwidth\":1,\"font\":{\"color\":\"black\",\"size\":10},\"showarrow\":false,\"text\":\"Humble\",\"x\":0.5263048410415649,\"xref\":\"x\",\"y\":1.3,\"yref\":\"y\"},{\"bgcolor\":\"rgba(255, 255, 255, 0.9)\",\"bordercolor\":\"black\",\"borderwidth\":1,\"font\":{\"color\":\"black\",\"size\":10},\"showarrow\":false,\"text\":\"Chill\",\"x\":0.5955060124397278,\"xref\":\"x\",\"y\":0.75,\"yref\":\"y\"},{\"bgcolor\":\"rgba(255, 255, 255, 0.9)\",\"bordercolor\":\"black\",\"borderwidth\":1,\"font\":{\"color\":\"black\",\"size\":10},\"showarrow\":false,\"text\":\"Casual\",\"x\":0.6232799887657166,\"xref\":\"x\",\"y\":1.75,\"yref\":\"y\"},{\"bgcolor\":\"rgba(255, 255, 255, 0.9)\",\"bordercolor\":\"black\",\"borderwidth\":1,\"font\":{\"color\":\"black\",\"size\":10},\"showarrow\":false,\"text\":\"Accessible\",\"x\":0.6358689069747925,\"xref\":\"x\",\"y\":0.3,\"yref\":\"y\"},{\"bgcolor\":\"rgba(255, 255, 255, 0.9)\",\"bordercolor\":\"red\",\"borderwidth\":1,\"font\":{\"color\":\"red\",\"size\":14},\"showarrow\":false,\"text\":\"Assistant\",\"x\":-0.0019329405622556806,\"xref\":\"x\",\"y\":2,\"yref\":\"y\"},{\"bgcolor\":\"rgba(255, 255, 255, 0.9)\",\"bordercolor\":\"black\",\"borderwidth\":1,\"font\":{\"color\":\"black\",\"size\":10},\"showarrow\":false,\"text\":\"Bombastic\",\"x\":-0.7373743653297424,\"xref\":\"x2\",\"y\":1.45,\"yref\":\"y2\"},{\"bgcolor\":\"rgba(255, 255, 255, 0.9)\",\"bordercolor\":\"black\",\"borderwidth\":1,\"font\":{\"color\":\"black\",\"size\":10},\"showarrow\":false,\"text\":\"Grandiose\",\"x\":-0.7265129089355469,\"xref\":\"x2\",\"y\":0.6,\"yref\":\"y2\"},{\"bgcolor\":\"rgba(255, 255, 255, 0.9)\",\"bordercolor\":\"black\",\"borderwidth\":1,\"font\":{\"color\":\"black\",\"size\":10},\"showarrow\":false,\"text\":\"Erudite\",\"x\":-0.6385114192962646,\"xref\":\"x2\",\"y\":1.9,\"yref\":\"y2\"},{\"bgcolor\":\"rgba(255, 255, 255, 0.9)\",\"bordercolor\":\"black\",\"borderwidth\":1,\"font\":{\"color\":\"black\",\"size\":10},\"showarrow\":false,\"text\":\"Specialized\",\"x\":-0.6186456680297852,\"xref\":\"x2\",\"y\":0.15,\"yref\":\"y2\"},{\"bgcolor\":\"rgba(255, 255, 255, 0.9)\",\"bordercolor\":\"black\",\"borderwidth\":1,\"font\":{\"color\":\"black\",\"size\":10},\"showarrow\":false,\"text\":\"Esoteric\",\"x\":-0.5862666368484497,\"xref\":\"x2\",\"y\":1.6,\"yref\":\"y2\"},{\"bgcolor\":\"rgba(255, 255, 255, 0.9)\",\"bordercolor\":\"black\",\"borderwidth\":1,\"font\":{\"color\":\"black\",\"size\":10},\"showarrow\":false,\"text\":\"Technical\",\"x\":-0.57574862241745,\"xref\":\"x2\",\"y\":0.45,\"yref\":\"y2\"},{\"bgcolor\":\"rgba(255, 255, 255, 0.9)\",\"bordercolor\":\"black\",\"borderwidth\":1,\"font\":{\"color\":\"black\",\"size\":10},\"showarrow\":false,\"text\":\"Ritualistic\",\"x\":-0.5295402407646179,\"xref\":\"x2\",\"y\":1.3,\"yref\":\"y2\"},{\"bgcolor\":\"rgba(255, 255, 255, 0.9)\",\"bordercolor\":\"black\",\"borderwidth\":1,\"font\":{\"color\":\"black\",\"size\":10},\"showarrow\":false,\"text\":\"Perfectionist\",\"x\":-0.5288476347923279,\"xref\":\"x2\",\"y\":0.75,\"yref\":\"y2\"},{\"bgcolor\":\"rgba(255, 255, 255, 0.9)\",\"bordercolor\":\"black\",\"borderwidth\":1,\"font\":{\"color\":\"black\",\"size\":10},\"showarrow\":false,\"text\":\"Arrogant\",\"x\":-0.5178166627883911,\"xref\":\"x2\",\"y\":1.75,\"yref\":\"y2\"},{\"bgcolor\":\"rgba(255, 255, 255, 0.9)\",\"bordercolor\":\"black\",\"borderwidth\":1,\"font\":{\"color\":\"black\",\"size\":10},\"showarrow\":false,\"text\":\"Elitist\",\"x\":-0.5172874927520752,\"xref\":\"x2\",\"y\":0.3,\"yref\":\"y2\"},{\"bgcolor\":\"rgba(255, 255, 255, 0.9)\",\"bordercolor\":\"black\",\"borderwidth\":1,\"font\":{\"color\":\"black\",\"size\":10},\"showarrow\":false,\"text\":\"Understated\",\"x\":0.5064219832420349,\"xref\":\"x2\",\"y\":1.45,\"yref\":\"y2\"},{\"bgcolor\":\"rgba(255, 255, 255, 0.9)\",\"bordercolor\":\"black\",\"borderwidth\":1,\"font\":{\"color\":\"black\",\"size\":10},\"showarrow\":false,\"text\":\"Open Ended\",\"x\":0.5445524454116821,\"xref\":\"x2\",\"y\":0.6,\"yref\":\"y2\"},{\"bgcolor\":\"rgba(255, 255, 255, 0.9)\",\"bordercolor\":\"black\",\"borderwidth\":1,\"font\":{\"color\":\"black\",\"size\":10},\"showarrow\":false,\"text\":\"Improvisational\",\"x\":0.5596267580986023,\"xref\":\"x2\",\"y\":1.9,\"yref\":\"y2\"},{\"bgcolor\":\"rgba(255, 255, 255, 0.9)\",\"bordercolor\":\"black\",\"borderwidth\":1,\"font\":{\"color\":\"black\",\"size\":10},\"showarrow\":false,\"text\":\"Accommodating\",\"x\":0.5921155214309692,\"xref\":\"x2\",\"y\":0.15,\"yref\":\"y2\"},{\"bgcolor\":\"rgba(255, 255, 255, 0.9)\",\"bordercolor\":\"black\",\"borderwidth\":1,\"font\":{\"color\":\"black\",\"size\":10},\"showarrow\":false,\"text\":\"Forgiving\",\"x\":0.6267260909080505,\"xref\":\"x2\",\"y\":1.6,\"yref\":\"y2\"},{\"bgcolor\":\"rgba(255, 255, 255, 0.9)\",\"bordercolor\":\"black\",\"borderwidth\":1,\"font\":{\"color\":\"black\",\"size\":10},\"showarrow\":false,\"text\":\"Empathetic\",\"x\":0.6431443095207214,\"xref\":\"x2\",\"y\":0.45,\"yref\":\"y2\"},{\"bgcolor\":\"rgba(255, 255, 255, 0.9)\",\"bordercolor\":\"black\",\"borderwidth\":1,\"font\":{\"color\":\"black\",\"size\":10},\"showarrow\":false,\"text\":\"Chill\",\"x\":0.6492879986763,\"xref\":\"x2\",\"y\":1.3,\"yref\":\"y2\"},{\"bgcolor\":\"rgba(255, 255, 255, 0.9)\",\"bordercolor\":\"black\",\"borderwidth\":1,\"font\":{\"color\":\"black\",\"size\":10},\"showarrow\":false,\"text\":\"Humble\",\"x\":0.6535778045654297,\"xref\":\"x2\",\"y\":0.75,\"yref\":\"y2\"},{\"bgcolor\":\"rgba(255, 255, 255, 0.9)\",\"bordercolor\":\"black\",\"borderwidth\":1,\"font\":{\"color\":\"black\",\"size\":10},\"showarrow\":false,\"text\":\"Accessible\",\"x\":0.6592206954956055,\"xref\":\"x2\",\"y\":1.75,\"yref\":\"y2\"},{\"bgcolor\":\"rgba(255, 255, 255, 0.9)\",\"bordercolor\":\"black\",\"borderwidth\":1,\"font\":{\"color\":\"black\",\"size\":10},\"showarrow\":false,\"text\":\"Casual\",\"x\":0.7071834802627563,\"xref\":\"x2\",\"y\":0.3,\"yref\":\"y2\"},{\"bgcolor\":\"rgba(255, 255, 255, 0.9)\",\"bordercolor\":\"red\",\"borderwidth\":1,\"font\":{\"color\":\"red\",\"size\":14},\"showarrow\":false,\"text\":\"Assistant\",\"x\":0.058390628546476364,\"xref\":\"x2\",\"y\":2,\"yref\":\"y2\"}],\"shapes\":[{\"line\":{\"color\":\"gray\",\"dash\":\"solid\",\"width\":1},\"opacity\":0.7,\"type\":\"line\",\"x0\":0,\"x1\":0,\"xref\":\"x\",\"y0\":0,\"y1\":1,\"yref\":\"y domain\"},{\"line\":{\"color\":\"red\",\"dash\":\"dash\",\"width\":1},\"opacity\":1.0,\"type\":\"line\",\"x0\":-0.0019329405622556806,\"x1\":-0.0019329405622556806,\"xref\":\"x\",\"y0\":0,\"y1\":1,\"yref\":\"y domain\"},{\"line\":{\"color\":\"gray\",\"dash\":\"solid\",\"width\":1},\"opacity\":0.7,\"type\":\"line\",\"x0\":0,\"x1\":0,\"xref\":\"x2\",\"y0\":0,\"y1\":1,\"yref\":\"y2 domain\"},{\"line\":{\"color\":\"red\",\"dash\":\"dash\",\"width\":1},\"opacity\":1.0,\"type\":\"line\",\"x0\":0.058390628546476364,\"x1\":0.058390628546476364,\"xref\":\"x2\",\"y0\":0,\"y1\":1,\"yref\":\"y2 domain\"}],\"title\":{\"subtitle\":{\"text\":\"Llama 3.3 70B, Layer 40 - Mean-Centered and L2 Normalized Vectors\"},\"font\":{\"size\":16},\"text\":\"PCA on Trait Vectors\",\"x\":0.5},\"height\":800,\"width\":1000,\"showlegend\":false},                        {\"responsive\": true}                    ).then(function(){\n",
       "                            \n",
       "var gd = document.getElementById('fdb1fadc-abe3-4a24-adff-b4e2bd0f291e');\n",
       "var x = new MutationObserver(function (mutations, observer) {{\n",
       "        var display = window.getComputedStyle(gd).display;\n",
       "        if (!display || display === 'none') {{\n",
       "            console.log([gd, 'removed!']);\n",
       "            Plotly.purge(gd);\n",
       "            observer.disconnect();\n",
       "        }}\n",
       "}});\n",
       "\n",
       "// Listen for the removal of the full notebook cells\n",
       "var notebookContainer = gd.closest('#notebook-container');\n",
       "if (notebookContainer) {{\n",
       "    x.observe(notebookContainer, {childList: true});\n",
       "}}\n",
       "\n",
       "// Listen for the clearing of the current output cell\n",
       "var outputEl = gd.closest('.output');\n",
       "if (outputEl) {{\n",
       "    x.observe(outputEl, {childList: true});\n",
       "}}\n",
       "\n",
       "                        })                };                });            </script>        </div>"
      ]
     },
     "metadata": {},
     "output_type": "display_data"
    },
    {
     "data": {
      "application/vnd.plotly.v1+json": {
       "config": {
        "plotlyServerURL": "https://plot.ly"
       },
       "data": [
        {
         "hovertemplate": "<b>%{text}</b><br>Cosine Similarity: %{x:.3f}<extra></extra>",
         "marker": {
          "color": "limegreen",
          "line": {
           "color": "black",
           "width": 1
          },
          "opacity": 1,
          "size": 8,
          "symbol": "diamond"
         },
         "mode": "markers",
         "showlegend": false,
         "text": [
          "Zealous",
          "Wry",
          "Witty",
          "Whimsical",
          "Visceral",
          "Vindictive",
          "Verbose",
          "Utilitarian",
          "Urgent",
          "Universalist",
          "Transparent",
          "Traditional",
          "Theatrical",
          "Temperamental",
          "Technical",
          "Tactful",
          "Systems Thinker",
          "Sycophantic",
          "Supportive",
          "Subversive",
          "Submissive",
          "Structuralist",
          "Stream Of Consciousness",
          "Strategic",
          "Stoic",
          "Spontaneous",
          "Spiritual",
          "Speculative",
          "Specialized",
          "Solemn",
          "Socratic",
          "Skeptical",
          "Serious",
          "Serene",
          "Secular",
          "Savage",
          "Sassy",
          "Sardonic",
          "Sarcastic",
          "Romantic",
          "Ritualistic",
          "Risk Taking",
          "Rhetorical",
          "Reverent",
          "Resilient",
          "Reserved",
          "Regulatory",
          "Reductionist",
          "Rebellious",
          "Reactive",
          "Rationalist",
          "Radical",
          "Quantitative",
          "Qualitative",
          "Provocative",
          "Progressive",
          "Proactive",
          "Principled",
          "Poetic",
          "Pluralist",
          "Playful",
          "Philosophical",
          "Petty",
          "Pessimistic",
          "Perfectionist",
          "Pensive",
          "Pedantic",
          "Patient",
          "Passive Aggressive",
          "Paranoid",
          "Pacifist",
          "Optimistic",
          "Obsessive",
          "Nurturing",
          "Nostalgic",
          "Nonchalant",
          "Nihilistic",
          "Neurotic",
          "Narrative",
          "Naive",
          "Mystical",
          "Moderate",
          "Mischievous",
          "Misanthropic",
          "Militant",
          "Meticulous",
          "Methodical",
          "Metaphorical",
          "Mercurial",
          "Melodramatic",
          "Melancholic",
          "Meditative",
          "Materialist",
          "Manipulative",
          "Manic",
          "Literal",
          "Libertarian",
          "Judgmental",
          "Irreverent",
          "Ironic",
          "Intuitive",
          "Introspective",
          "Interdisciplinary",
          "Inspirational",
          "Inquisitive",
          "Innovative",
          "Individualistic",
          "Independent",
          "Inclusive",
          "Impulsive",
          "Improvisational",
          "Impatient",
          "Idealistic",
          "Iconoclastic",
          "Humble",
          "Humanistic",
          "Hostile",
          "Holistic",
          "Historical",
          "Hedonistic",
          "Grounded",
          "Gregarious",
          "Grandiose",
          "Goofy",
          "Generous",
          "Generalist",
          "Futuristic",
          "Fundamentalist",
          "Formalist",
          "Formal",
          "Forgiving",
          "Flirty",
          "Flippant",
          "Flexible",
          "Fatalistic",
          "Factual",
          "Exploratory",
          "Experiential",
          "Existentialist",
          "Evil",
          "Ethereal",
          "Essentialist",
          "Esoteric",
          "Erudite",
          "Epicurean",
          "Environmental",
          "Entertaining",
          "Enigmatic",
          "Empathetic",
          "Emotional",
          "Eloquent",
          "Elitist",
          "Egalitarian",
          "Effusive",
          "Efficient",
          "Educational",
          "Edgy",
          "Eclectic",
          "Earnest",
          "Dramatic",
          "Dogmatic",
          "Divergent",
          "Dispassionate",
          "Disorganized",
          "Diplomatic",
          "Deterministic",
          "Detached",
          "Descriptive",
          "Deontological",
          "Deferential",
          "Deconstructionist",
          "Data Driven",
          "Cynical",
          "Curious",
          "Cryptic",
          "Cruel",
          "Critical",
          "Creative",
          "Cosmopolitan",
          "Convergent",
          "Contrarian",
          "Contemporary",
          "Constructivist",
          "Conscientious",
          "Confrontational",
          "Condescending",
          "Concise",
          "Conciliatory",
          "Competitive",
          "Collectivistic",
          "Collaborative",
          "Chill",
          "Charismatic",
          "Chaotic",
          "Challenging",
          "Casual",
          "Calm",
          "Callous",
          "Calculating",
          "Bombastic",
          "Blunt",
          "Bitter",
          "Big Picture",
          "Benevolent",
          "Avoidant",
          "Ascetic",
          "Artistic",
          "Arrogant",
          "Anxious",
          "Anthropocentric",
          "Animated",
          "Analytical",
          "Altruistic",
          "Agreeable",
          "Adventurous",
          "Adaptable",
          "Acerbic",
          "Accommodating",
          "Accessible",
          "Absolutist"
         ],
         "type": "scatter",
         "x": [
          0.5011644959449768,
          -0.06071745604276657,
          0.2815975546836853,
          0.03532707318663597,
          0.14140503108501434,
          0.02068299613893032,
          -0.07805614173412323,
          0.07700937241315842,
          0.37603867053985596,
          0.21029697358608246,
          0.3218229413032532,
          -0.09164690226316452,
          0.2560138404369354,
          0.19425037503242493,
          -0.09902119636535645,
          -0.20065337419509888,
          0.03063691034913063,
          -0.06146654859185219,
          0.2482704371213913,
          -0.41052085161209106,
          -0.4376325309276581,
          0.004098068922758102,
          -0.21257804334163666,
          -0.0027380953542888165,
          -0.3508756458759308,
          -0.05516987666487694,
          -0.08982565253973007,
          -0.16371884942054749,
          -0.042148806154727936,
          -0.25919851660728455,
          -0.3564460873603821,
          -0.31161659955978394,
          -0.298346608877182,
          -0.27710676193237305,
          0.03824272379279137,
          0.13107731938362122,
          0.5057365298271179,
          -0.023318050429224968,
          -0.011525942012667656,
          0.05793682485818863,
          -0.2022956907749176,
          0.07161960750818253,
          0.11717462539672852,
          -0.1912565529346466,
          0.1928759217262268,
          -0.30196613073349,
          -0.1510075330734253,
          0.1897648125886917,
          -0.031434137374162674,
          -0.0438406728208065,
          -0.07742597907781601,
          0.02766568213701248,
          0.24898220598697662,
          -0.1951972246170044,
          -0.30951163172721863,
          0.3334854543209076,
          0.21568599343299866,
          0.004451687913388014,
          0.08415178209543228,
          -0.17206966876983643,
          0.2568049132823944,
          -0.3492346704006195,
          -0.07867605984210968,
          -0.37124961614608765,
          -0.027348261326551437,
          -0.2628307044506073,
          -0.3871684968471527,
          -0.011625517159700394,
          -0.3408656120300293,
          -0.2208101600408554,
          -0.06301088631153107,
          0.402450293302536,
          -0.18362294137477875,
          0.24220581352710724,
          -0.12545818090438843,
          -0.20178961753845215,
          -0.32018524408340454,
          -0.13597141206264496,
          0.07020541280508041,
          0.1505269706249237,
          -0.1444137692451477,
          -0.22251825034618378,
          0.08285866677761078,
          -0.169585719704628,
          0.2712625563144684,
          -0.096420519053936,
          0.11286184936761856,
          0.0578174889087677,
          -0.09051550179719925,
          0.2243185192346573,
          -0.3337351083755493,
          -0.33964842557907104,
          -0.031072987243533134,
          -0.13826894760131836,
          0.2950192987918854,
          -0.14576837420463562,
          0.06377637386322021,
          0.06549358367919922,
          0.16224001348018646,
          -0.07232566177845001,
          0.03683607652783394,
          -0.4203363358974457,
          -0.03311740607023239,
          0.3056086301803589,
          -0.17427073419094086,
          0.1450575739145279,
          0.08088746666908264,
          0.12583380937576294,
          -0.05869056284427643,
          0.1011085957288742,
          -0.2246452271938324,
          0.11988744884729385,
          0.10267531871795654,
          -0.19714495539665222,
          -0.32932645082473755,
          0.0913623496890068,
          0.09393041580915451,
          0.020182110369205475,
          -0.09642110764980316,
          0.11364022642374039,
          0.4229205250740051,
          0.3828507363796234,
          0.08492159098386765,
          0.16956952214241028,
          0.14708814024925232,
          0.15685558319091797,
          0.02431865781545639,
          -0.0462828055024147,
          -0.024008672684431076,
          -0.2107144594192505,
          -0.04608757793903351,
          0.07326257228851318,
          0.016662079840898514,
          0.08235598355531693,
          -0.40316176414489746,
          -0.08473353832960129,
          -0.14536628127098083,
          0.49321144819259644,
          0.23170526325702667,
          -0.08992798626422882,
          -0.21113651990890503,
          0.11982154846191406,
          -0.34780153632164,
          -0.22224391996860504,
          -0.045335348695516586,
          0.08189749717712402,
          0.3419431149959564,
          -0.34715384244918823,
          0.13030092418193817,
          0.20917177200317383,
          -0.07309730350971222,
          -0.04697699844837189,
          0.2915360927581787,
          0.4532047510147095,
          0.10907726734876633,
          0.2275136113166809,
          0.04258506000041962,
          -0.19985568523406982,
          0.2417123019695282,
          0.20139817893505096,
          0.15352578461170197,
          -0.07718601822853088,
          -0.36515140533447266,
          -0.1642654687166214,
          -0.1599142998456955,
          -0.31195586919784546,
          -0.29372918605804443,
          -0.3909796476364136,
          -0.03663079813122749,
          -0.4479062557220459,
          -0.4232344627380371,
          0.08247454464435577,
          -0.21570487320423126,
          0.18058882653713226,
          -0.24513432383537292,
          -0.0523340217769146,
          -0.3661368191242218,
          0.05990617722272873,
          -0.0003053619002457708,
          0.3115537464618683,
          -0.3054972290992737,
          0.20691527426242828,
          -0.3922833204269409,
          0.15898770093917847,
          0.29465416073799133,
          -0.04193020984530449,
          0.05917606130242348,
          -0.1395951211452484,
          0.19190387427806854,
          -0.053684961050748825,
          -0.03737766295671463,
          -0.15620936453342438,
          0.44813382625579834,
          -0.16173669695854187,
          -0.24469929933547974,
          0.2251397669315338,
          -0.21206237375736237,
          -0.04518516734242439,
          0.025316927582025528,
          0.0385284386575222,
          0.30989208817481995,
          -0.012999400496482849,
          -0.13927826285362244,
          0.1165621280670166,
          -0.39612749218940735,
          -0.23973459005355835,
          0.06502839922904968,
          0.11971548944711685,
          -0.16925661265850067,
          0.07106596231460571,
          0.4999096393585205,
          0.054538749158382416,
          0.0078852204605937,
          -0.13621556758880615,
          0.2959606349468231,
          0.16573530435562134,
          0.013871564529836178,
          -0.26402246952056885,
          0.3614010810852051,
          0.29859617352485657
         ],
         "xaxis": "x",
         "y": [
          1,
          1,
          1,
          1,
          1,
          1,
          1,
          1,
          1,
          1,
          1,
          1,
          1,
          1,
          1,
          1,
          1,
          1,
          1,
          1,
          1,
          1,
          1,
          1,
          1,
          1,
          1,
          1,
          1,
          1,
          1,
          1,
          1,
          1,
          1,
          1,
          1,
          1,
          1,
          1,
          1,
          1,
          1,
          1,
          1,
          1,
          1,
          1,
          1,
          1,
          1,
          1,
          1,
          1,
          1,
          1,
          1,
          1,
          1,
          1,
          1,
          1,
          1,
          1,
          1,
          1,
          1,
          1,
          1,
          1,
          1,
          1,
          1,
          1,
          1,
          1,
          1,
          1,
          1,
          1,
          1,
          1,
          1,
          1,
          1,
          1,
          1,
          1,
          1,
          1,
          1,
          1,
          1,
          1,
          1,
          1,
          1,
          1,
          1,
          1,
          1,
          1,
          1,
          1,
          1,
          1,
          1,
          1,
          1,
          1,
          1,
          1,
          1,
          1,
          1,
          1,
          1,
          1,
          1,
          1,
          1,
          1,
          1,
          1,
          1,
          1,
          1,
          1,
          1,
          1,
          1,
          1,
          1,
          1,
          1,
          1,
          1,
          1,
          1,
          1,
          1,
          1,
          1,
          1,
          1,
          1,
          1,
          1,
          1,
          1,
          1,
          1,
          1,
          1,
          1,
          1,
          1,
          1,
          1,
          1,
          1,
          1,
          1,
          1,
          1,
          1,
          1,
          1,
          1,
          1,
          1,
          1,
          1,
          1,
          1,
          1,
          1,
          1,
          1,
          1,
          1,
          1,
          1,
          1,
          1,
          1,
          1,
          1,
          1,
          1,
          1,
          1,
          1,
          1,
          1,
          1,
          1,
          1,
          1,
          1,
          1,
          1,
          1,
          1,
          1,
          1,
          1,
          1,
          1,
          1,
          1,
          1,
          1,
          1,
          1,
          1,
          1,
          1,
          1,
          1
         ],
         "yaxis": "y"
        },
        {
         "hovertemplate": "<b>%{text}</b><br>Cosine Similarity: %{x:.3f}<extra></extra>",
         "marker": {
          "color": "limegreen",
          "line": {
           "color": "black",
           "width": 1
          },
          "opacity": 1,
          "size": 8,
          "symbol": "diamond"
         },
         "mode": "markers",
         "showlegend": false,
         "text": [
          "Understated",
          "Theoretical",
          "Relativist",
          "Problem Solving",
          "Prescriptive",
          "Practical",
          "Passionate",
          "Paradoxical",
          "Open Ended",
          "Introverted",
          "Extroverted",
          "Dominant",
          "Decisive",
          "Confident",
          "Conceptual",
          "Closure Seeking",
          "Circumspect",
          "Cautious",
          "Assertive",
          "Abstract"
         ],
         "type": "scatter",
         "x": [
          -0.5282069444656372,
          -0.46702632308006287,
          -0.5472889542579651,
          0.5193227529525757,
          0.5662949085235596,
          0.5347539186477661,
          0.5335622429847717,
          -0.4630860984325409,
          -0.6962244510650635,
          -0.45177483558654785,
          0.6063625812530518,
          0.5138336420059204,
          0.6974301934242249,
          0.5664411783218384,
          -0.5071231722831726,
          0.6925951838493347,
          -0.6313509345054626,
          -0.5885194540023804,
          0.6697848439216614,
          -0.46485573053359985
         ],
         "xaxis": "x",
         "y": [
          1,
          1,
          1,
          1,
          1,
          1,
          1,
          1,
          1,
          1,
          1,
          1,
          1,
          1,
          1,
          1,
          1,
          1,
          1,
          1
         ],
         "yaxis": "y"
        },
        {
         "hoverinfo": "skip",
         "line": {
          "color": "black",
          "width": 1
         },
         "mode": "lines",
         "showlegend": false,
         "type": "scatter",
         "x": [
          -0.6962244510650635,
          -0.6962244510650635
         ],
         "xaxis": "x",
         "y": [
          1,
          1.45
         ],
         "yaxis": "y"
        },
        {
         "hoverinfo": "skip",
         "line": {
          "color": "black",
          "width": 1
         },
         "mode": "lines",
         "showlegend": false,
         "type": "scatter",
         "x": [
          -0.6313509345054626,
          -0.6313509345054626
         ],
         "xaxis": "x",
         "y": [
          1,
          0.6
         ],
         "yaxis": "y"
        },
        {
         "hoverinfo": "skip",
         "line": {
          "color": "black",
          "width": 1
         },
         "mode": "lines",
         "showlegend": false,
         "type": "scatter",
         "x": [
          -0.5885194540023804,
          -0.5885194540023804
         ],
         "xaxis": "x",
         "y": [
          1,
          1.9
         ],
         "yaxis": "y"
        },
        {
         "hoverinfo": "skip",
         "line": {
          "color": "black",
          "width": 1
         },
         "mode": "lines",
         "showlegend": false,
         "type": "scatter",
         "x": [
          -0.5472889542579651,
          -0.5472889542579651
         ],
         "xaxis": "x",
         "y": [
          1,
          0.15
         ],
         "yaxis": "y"
        },
        {
         "hoverinfo": "skip",
         "line": {
          "color": "black",
          "width": 1
         },
         "mode": "lines",
         "showlegend": false,
         "type": "scatter",
         "x": [
          -0.5282069444656372,
          -0.5282069444656372
         ],
         "xaxis": "x",
         "y": [
          1,
          1.6
         ],
         "yaxis": "y"
        },
        {
         "hoverinfo": "skip",
         "line": {
          "color": "black",
          "width": 1
         },
         "mode": "lines",
         "showlegend": false,
         "type": "scatter",
         "x": [
          -0.5071231722831726,
          -0.5071231722831726
         ],
         "xaxis": "x",
         "y": [
          1,
          0.45
         ],
         "yaxis": "y"
        },
        {
         "hoverinfo": "skip",
         "line": {
          "color": "black",
          "width": 1
         },
         "mode": "lines",
         "showlegend": false,
         "type": "scatter",
         "x": [
          -0.46702632308006287,
          -0.46702632308006287
         ],
         "xaxis": "x",
         "y": [
          1,
          1.3
         ],
         "yaxis": "y"
        },
        {
         "hoverinfo": "skip",
         "line": {
          "color": "black",
          "width": 1
         },
         "mode": "lines",
         "showlegend": false,
         "type": "scatter",
         "x": [
          -0.46485573053359985,
          -0.46485573053359985
         ],
         "xaxis": "x",
         "y": [
          1,
          0.75
         ],
         "yaxis": "y"
        },
        {
         "hoverinfo": "skip",
         "line": {
          "color": "black",
          "width": 1
         },
         "mode": "lines",
         "showlegend": false,
         "type": "scatter",
         "x": [
          -0.4630860984325409,
          -0.4630860984325409
         ],
         "xaxis": "x",
         "y": [
          1,
          1.75
         ],
         "yaxis": "y"
        },
        {
         "hoverinfo": "skip",
         "line": {
          "color": "black",
          "width": 1
         },
         "mode": "lines",
         "showlegend": false,
         "type": "scatter",
         "x": [
          -0.45177483558654785,
          -0.45177483558654785
         ],
         "xaxis": "x",
         "y": [
          1,
          0.3
         ],
         "yaxis": "y"
        },
        {
         "hoverinfo": "skip",
         "line": {
          "color": "black",
          "width": 1
         },
         "mode": "lines",
         "showlegend": false,
         "type": "scatter",
         "x": [
          0.5138336420059204,
          0.5138336420059204
         ],
         "xaxis": "x",
         "y": [
          1,
          1.45
         ],
         "yaxis": "y"
        },
        {
         "hoverinfo": "skip",
         "line": {
          "color": "black",
          "width": 1
         },
         "mode": "lines",
         "showlegend": false,
         "type": "scatter",
         "x": [
          0.5193227529525757,
          0.5193227529525757
         ],
         "xaxis": "x",
         "y": [
          1,
          0.6
         ],
         "yaxis": "y"
        },
        {
         "hoverinfo": "skip",
         "line": {
          "color": "black",
          "width": 1
         },
         "mode": "lines",
         "showlegend": false,
         "type": "scatter",
         "x": [
          0.5335622429847717,
          0.5335622429847717
         ],
         "xaxis": "x",
         "y": [
          1,
          1.9
         ],
         "yaxis": "y"
        },
        {
         "hoverinfo": "skip",
         "line": {
          "color": "black",
          "width": 1
         },
         "mode": "lines",
         "showlegend": false,
         "type": "scatter",
         "x": [
          0.5347539186477661,
          0.5347539186477661
         ],
         "xaxis": "x",
         "y": [
          1,
          0.15
         ],
         "yaxis": "y"
        },
        {
         "hoverinfo": "skip",
         "line": {
          "color": "black",
          "width": 1
         },
         "mode": "lines",
         "showlegend": false,
         "type": "scatter",
         "x": [
          0.5662949085235596,
          0.5662949085235596
         ],
         "xaxis": "x",
         "y": [
          1,
          1.6
         ],
         "yaxis": "y"
        },
        {
         "hoverinfo": "skip",
         "line": {
          "color": "black",
          "width": 1
         },
         "mode": "lines",
         "showlegend": false,
         "type": "scatter",
         "x": [
          0.5664411783218384,
          0.5664411783218384
         ],
         "xaxis": "x",
         "y": [
          1,
          0.45
         ],
         "yaxis": "y"
        },
        {
         "hoverinfo": "skip",
         "line": {
          "color": "black",
          "width": 1
         },
         "mode": "lines",
         "showlegend": false,
         "type": "scatter",
         "x": [
          0.6063625812530518,
          0.6063625812530518
         ],
         "xaxis": "x",
         "y": [
          1,
          1.3
         ],
         "yaxis": "y"
        },
        {
         "hoverinfo": "skip",
         "line": {
          "color": "black",
          "width": 1
         },
         "mode": "lines",
         "showlegend": false,
         "type": "scatter",
         "x": [
          0.6697848439216614,
          0.6697848439216614
         ],
         "xaxis": "x",
         "y": [
          1,
          0.75
         ],
         "yaxis": "y"
        },
        {
         "hoverinfo": "skip",
         "line": {
          "color": "black",
          "width": 1
         },
         "mode": "lines",
         "showlegend": false,
         "type": "scatter",
         "x": [
          0.6925951838493347,
          0.6925951838493347
         ],
         "xaxis": "x",
         "y": [
          1,
          1.75
         ],
         "yaxis": "y"
        },
        {
         "hoverinfo": "skip",
         "line": {
          "color": "black",
          "width": 1
         },
         "mode": "lines",
         "showlegend": false,
         "type": "scatter",
         "x": [
          0.6974301934242249,
          0.6974301934242249
         ],
         "xaxis": "x",
         "y": [
          1,
          0.3
         ],
         "yaxis": "y"
        },
        {
         "hoverinfo": "skip",
         "marker": {
          "color": "limegreen"
         },
         "opacity": 0.7,
         "showlegend": false,
         "type": "bar",
         "width": 0.03716411590576172,
         "x": [
          -0.6729968786239624,
          -0.6265417337417603,
          -0.5800865888595581,
          -0.533631443977356,
          -0.48717623949050903,
          -0.4407210946083069,
          -0.39426594972610474,
          -0.3478108048439026,
          -0.30135563015937805,
          -0.2549004852771759,
          -0.20844532549381256,
          -0.16199016571044922,
          -0.11553502082824707,
          -0.06907986104488373,
          -0.022624706849455833,
          0.02383044920861721,
          0.0702856034040451,
          0.11674076318740845,
          0.1631959080696106,
          0.20965106785297394,
          0.2561062276363373,
          0.30256137251853943,
          0.34901654720306396,
          0.3954716920852661,
          0.44192683696746826,
          0.4883819818496704,
          0.5348371267318726,
          0.5812922716140747,
          0.6277474761009216,
          0.6742026209831238
         ],
         "xaxis": "x",
         "y": [
          0.04285714285714286,
          0.04285714285714286,
          0.04285714285714286,
          0.08571428571428572,
          0.12857142857142856,
          0.2571428571428571,
          0.3,
          0.4714285714285715,
          0.34285714285714286,
          0.3,
          0.6857142857142857,
          0.6857142857142857,
          0.3,
          0.9,
          0.7714285714285714,
          0.6857142857142857,
          0.9,
          0.6,
          0.4714285714285715,
          0.5571428571428572,
          0.3,
          0.42857142857142855,
          0.12857142857142856,
          0.12857142857142856,
          0.12857142857142856,
          0.17142857142857143,
          0.17142857142857143,
          0.08571428571428572,
          0.04285714285714286,
          0.12857142857142856
         ],
         "yaxis": "y"
        },
        {
         "hovertemplate": "<b>%{text}</b><br>PC Projection: %{x:.3f}<extra></extra>",
         "marker": {
          "color": "limegreen",
          "line": {
           "color": "black",
           "width": 1
          },
          "opacity": 1,
          "size": 8,
          "symbol": "diamond"
         },
         "mode": "markers",
         "showlegend": false,
         "text": [
          "Wry",
          "Witty",
          "Whimsical",
          "Visceral",
          "Vindictive",
          "Verbose",
          "Utilitarian",
          "Urgent",
          "Universalist",
          "Transparent",
          "Traditional",
          "Theatrical",
          "Temperamental",
          "Technical",
          "Tactful",
          "Systems Thinker",
          "Sycophantic",
          "Supportive",
          "Subversive",
          "Submissive",
          "Structuralist",
          "Stream Of Consciousness",
          "Strategic",
          "Stoic",
          "Spontaneous",
          "Spiritual",
          "Speculative",
          "Specialized",
          "Solemn",
          "Socratic",
          "Skeptical",
          "Serious",
          "Serene",
          "Secular",
          "Savage",
          "Sardonic",
          "Sarcastic",
          "Romantic",
          "Ritualistic",
          "Risk Taking",
          "Rhetorical",
          "Reverent",
          "Resilient",
          "Reserved",
          "Regulatory",
          "Reductionist",
          "Rebellious",
          "Reactive",
          "Rationalist",
          "Radical",
          "Quantitative",
          "Qualitative",
          "Provocative",
          "Progressive",
          "Problem Solving",
          "Proactive",
          "Principled",
          "Practical",
          "Poetic",
          "Pluralist",
          "Playful",
          "Philosophical",
          "Petty",
          "Pessimistic",
          "Perfectionist",
          "Pensive",
          "Pedantic",
          "Patient",
          "Passive Aggressive",
          "Paranoid",
          "Pacifist",
          "Optimistic",
          "Obsessive",
          "Nurturing",
          "Nostalgic",
          "Nonchalant",
          "Nihilistic",
          "Neurotic",
          "Narrative",
          "Naive",
          "Mystical",
          "Moderate",
          "Mischievous",
          "Misanthropic",
          "Militant",
          "Meticulous",
          "Methodical",
          "Metaphorical",
          "Mercurial",
          "Melodramatic",
          "Melancholic",
          "Meditative",
          "Materialist",
          "Manipulative",
          "Manic",
          "Literal",
          "Libertarian",
          "Judgmental",
          "Irreverent",
          "Ironic",
          "Intuitive",
          "Introverted",
          "Introspective",
          "Interdisciplinary",
          "Inspirational",
          "Inquisitive",
          "Innovative",
          "Individualistic",
          "Independent",
          "Inclusive",
          "Impulsive",
          "Improvisational",
          "Impatient",
          "Idealistic",
          "Iconoclastic",
          "Humble",
          "Humanistic",
          "Hostile",
          "Holistic",
          "Historical",
          "Hedonistic",
          "Grounded",
          "Gregarious",
          "Grandiose",
          "Goofy",
          "Generous",
          "Generalist",
          "Futuristic",
          "Fundamentalist",
          "Formalist",
          "Formal",
          "Forgiving",
          "Flirty",
          "Flippant",
          "Flexible",
          "Fatalistic",
          "Factual",
          "Exploratory",
          "Experiential",
          "Existentialist",
          "Evil",
          "Ethereal",
          "Essentialist",
          "Esoteric",
          "Erudite",
          "Epicurean",
          "Environmental",
          "Entertaining",
          "Enigmatic",
          "Empathetic",
          "Emotional",
          "Eloquent",
          "Elitist",
          "Egalitarian",
          "Effusive",
          "Efficient",
          "Educational",
          "Edgy",
          "Eclectic",
          "Earnest",
          "Dramatic",
          "Dominant",
          "Dogmatic",
          "Divergent",
          "Dispassionate",
          "Disorganized",
          "Diplomatic",
          "Deterministic",
          "Detached",
          "Descriptive",
          "Deontological",
          "Deferential",
          "Data Driven",
          "Cynical",
          "Curious",
          "Cryptic",
          "Cruel",
          "Critical",
          "Creative",
          "Cosmopolitan",
          "Convergent",
          "Contrarian",
          "Contemporary",
          "Constructivist",
          "Conscientious",
          "Confrontational",
          "Condescending",
          "Concise",
          "Conciliatory",
          "Competitive",
          "Collectivistic",
          "Collaborative",
          "Chill",
          "Charismatic",
          "Chaotic",
          "Challenging",
          "Casual",
          "Calm",
          "Callous",
          "Calculating",
          "Bombastic",
          "Blunt",
          "Bitter",
          "Big Picture",
          "Benevolent",
          "Avoidant",
          "Ascetic",
          "Artistic",
          "Arrogant",
          "Anxious",
          "Anthropocentric",
          "Analytical",
          "Altruistic",
          "Agreeable",
          "Adventurous",
          "Adaptable",
          "Acerbic",
          "Accommodating",
          "Accessible",
          "Absolutist"
         ],
         "type": "scatter",
         "x": [
          -0.05435968190431595,
          0.33335381746292114,
          0.05377838760614395,
          0.15698331594467163,
          0.03276027366518974,
          -0.07056207954883575,
          0.08095879852771759,
          0.3899029791355133,
          0.1812943071126938,
          0.29899927973747253,
          -0.06556926667690277,
          0.3083663880825043,
          0.22479352355003357,
          -0.09321318566799164,
          -0.17769555747509003,
          0.0458301305770874,
          -0.05241753160953522,
          0.25687259435653687,
          -0.47156548500061035,
          -0.4118077754974365,
          0.016353627666831017,
          -0.22191967070102692,
          0.00847930833697319,
          -0.29855048656463623,
          -0.05300602689385414,
          -0.08987005800008774,
          -0.1894489973783493,
          -0.03449069336056709,
          -0.2413233369588852,
          -0.3501930832862854,
          -0.31288671493530273,
          -0.2702033221721649,
          -0.26159003376960754,
          0.04559779539704323,
          0.14647391438484192,
          -0.01344628818333149,
          -0.0007302396115846932,
          0.0787564069032669,
          -0.1955355852842331,
          0.10265791416168213,
          0.15554018318653107,
          -0.1823567897081375,
          0.19587552547454834,
          -0.24054206907749176,
          -0.12308473140001297,
          0.16606828570365906,
          -0.022882230579853058,
          -0.032194558531045914,
          -0.056896280497312546,
          0.0440983809530735,
          0.2523651123046875,
          -0.191656231880188,
          -0.36833804845809937,
          0.36208686232566833,
          0.5256457328796387,
          0.23464220762252808,
          0.019245246425271034,
          0.4717630445957184,
          0.10750438272953033,
          -0.1360214501619339,
          0.30146634578704834,
          -0.41527119278907776,
          -0.07119143754243851,
          -0.36478865146636963,
          -0.016315842047333717,
          -0.27222728729248047,
          -0.41741710901260376,
          0.00009916727140080184,
          -0.34688666462898254,
          -0.2271924912929535,
          -0.05157104507088661,
          0.3869633078575134,
          -0.19287773966789246,
          0.25345954298973083,
          -0.12485754489898682,
          -0.18637126684188843,
          -0.3308076560497284,
          -0.12722225487232208,
          0.09132070094347,
          0.15620164573192596,
          -0.15104691684246063,
          -0.18536046147346497,
          0.10566138476133347,
          -0.17181085050106049,
          0.30029743909835815,
          -0.08614059537649155,
          0.11718500405550003,
          0.07749337702989578,
          -0.08992983400821686,
          0.2729107737541199,
          -0.34209010004997253,
          -0.3398270010948181,
          -0.015110965818166733,
          -0.13331344723701477,
          0.33461683988571167,
          -0.11769048124551773,
          0.07795815914869308,
          0.08078531920909882,
          0.18183821439743042,
          -0.06724877655506134,
          0.05275930464267731,
          -0.43789422512054443,
          -0.46427279710769653,
          -0.022288691252470016,
          0.308674156665802,
          -0.16567011177539825,
          0.18751516938209534,
          0.10705555230379105,
          0.1378333419561386,
          -0.0467982217669487,
          0.11187334358692169,
          -0.2254742532968521,
          0.12958325445652008,
          0.12392962723970413,
          -0.219978466629982,
          -0.28472018241882324,
          0.10208561271429062,
          0.1083163395524025,
          0.03348125144839287,
          -0.09581673890352249,
          0.1333252638578415,
          0.3732144236564636,
          0.4186691343784332,
          0.11402980983257294,
          0.19396914541721344,
          0.16478395462036133,
          0.16444331407546997,
          0.040279995650053024,
          -0.03307555615901947,
          -0.00822676345705986,
          -0.1946021169424057,
          -0.026638664305210114,
          0.09210142493247986,
          0.028026491403579712,
          0.08737784624099731,
          -0.41476184129714966,
          -0.0579608716070652,
          -0.1376054435968399,
          0.48337191343307495,
          0.2453870326280594,
          -0.08497998863458633,
          -0.22840940952301025,
          0.12839987874031067,
          -0.385425865650177,
          -0.23712442815303802,
          -0.03972379118204117,
          0.09947315603494644,
          0.40171369910240173,
          -0.3743338882923126,
          0.14780758321285248,
          0.23890145123004913,
          -0.07018175721168518,
          -0.03937210515141487,
          0.3076660931110382,
          0.5180373787879944,
          0.11220099031925201,
          0.24393203854560852,
          0.05894769728183746,
          -0.23422032594680786,
          0.24699567258358002,
          0.24672213196754456,
          0.534159779548645,
          0.16882237792015076,
          -0.06788680702447891,
          -0.3095129728317261,
          -0.1579744964838028,
          -0.13292260468006134,
          -0.3173738420009613,
          -0.2467050552368164,
          -0.32261034846305847,
          -0.019432466477155685,
          -0.3983292281627655,
          0.0908290296792984,
          -0.2148418128490448,
          0.2061094343662262,
          -0.26590418815612793,
          -0.04246153682470322,
          -0.40673962235450745,
          0.09028025716543198,
          0.012082631699740887,
          0.25107988715171814,
          -0.34711983799934387,
          0.19666370749473572,
          -0.41167375445365906,
          0.16736076772212982,
          0.316438764333725,
          -0.03361500799655914,
          0.06654209643602371,
          -0.1166570708155632,
          0.21970172226428986,
          -0.0371527336537838,
          -0.023940693587064743,
          -0.13345889747142792,
          0.49486538767814636,
          -0.17848287522792816,
          -0.2705899178981781,
          0.2315901815891266,
          -0.1794765442609787,
          -0.03422429412603378,
          0.03775389492511749,
          0.05504792556166649,
          0.3061683475971222,
          -0.002303594956174493,
          -0.1313583254814148,
          0.12126856297254562,
          -0.36140307784080505,
          -0.22890135645866394,
          0.08649518340826035,
          0.14279605448246002,
          -0.1600477397441864,
          0.07932928949594498,
          0.06416725367307663,
          0.01944955624639988,
          -0.11569824069738388,
          0.35815751552581787,
          0.1690027266740799,
          0.02655651420354843,
          -0.2627476155757904,
          0.3376642167568207,
          0.29907092452049255
         ],
         "xaxis": "x2",
         "y": [
          1,
          1,
          1,
          1,
          1,
          1,
          1,
          1,
          1,
          1,
          1,
          1,
          1,
          1,
          1,
          1,
          1,
          1,
          1,
          1,
          1,
          1,
          1,
          1,
          1,
          1,
          1,
          1,
          1,
          1,
          1,
          1,
          1,
          1,
          1,
          1,
          1,
          1,
          1,
          1,
          1,
          1,
          1,
          1,
          1,
          1,
          1,
          1,
          1,
          1,
          1,
          1,
          1,
          1,
          1,
          1,
          1,
          1,
          1,
          1,
          1,
          1,
          1,
          1,
          1,
          1,
          1,
          1,
          1,
          1,
          1,
          1,
          1,
          1,
          1,
          1,
          1,
          1,
          1,
          1,
          1,
          1,
          1,
          1,
          1,
          1,
          1,
          1,
          1,
          1,
          1,
          1,
          1,
          1,
          1,
          1,
          1,
          1,
          1,
          1,
          1,
          1,
          1,
          1,
          1,
          1,
          1,
          1,
          1,
          1,
          1,
          1,
          1,
          1,
          1,
          1,
          1,
          1,
          1,
          1,
          1,
          1,
          1,
          1,
          1,
          1,
          1,
          1,
          1,
          1,
          1,
          1,
          1,
          1,
          1,
          1,
          1,
          1,
          1,
          1,
          1,
          1,
          1,
          1,
          1,
          1,
          1,
          1,
          1,
          1,
          1,
          1,
          1,
          1,
          1,
          1,
          1,
          1,
          1,
          1,
          1,
          1,
          1,
          1,
          1,
          1,
          1,
          1,
          1,
          1,
          1,
          1,
          1,
          1,
          1,
          1,
          1,
          1,
          1,
          1,
          1,
          1,
          1,
          1,
          1,
          1,
          1,
          1,
          1,
          1,
          1,
          1,
          1,
          1,
          1,
          1,
          1,
          1,
          1,
          1,
          1,
          1,
          1,
          1,
          1,
          1,
          1,
          1,
          1,
          1,
          1,
          1,
          1,
          1,
          1,
          1,
          1,
          1,
          1,
          1
         ],
         "yaxis": "y2"
        },
        {
         "hovertemplate": "<b>%{text}</b><br>PC Projection: %{x:.3f}<extra></extra>",
         "marker": {
          "color": "limegreen",
          "line": {
           "color": "black",
           "width": 1
          },
          "opacity": 1,
          "size": 8,
          "symbol": "diamond"
         },
         "mode": "markers",
         "showlegend": false,
         "text": [
          "Zealous",
          "Understated",
          "Theoretical",
          "Sassy",
          "Relativist",
          "Prescriptive",
          "Passionate",
          "Paradoxical",
          "Open Ended",
          "Extroverted",
          "Deconstructionist",
          "Decisive",
          "Confident",
          "Conceptual",
          "Closure Seeking",
          "Circumspect",
          "Cautious",
          "Assertive",
          "Animated",
          "Abstract"
         ],
         "type": "scatter",
         "x": [
          0.601420521736145,
          -0.4737701117992401,
          -0.5184048414230347,
          0.5492463111877441,
          -0.5674746036529541,
          0.5493068099021912,
          0.6378827691078186,
          -0.5212933421134949,
          -0.6834477782249451,
          0.6586019396781921,
          -0.493359237909317,
          0.6782913208007812,
          0.5792625546455383,
          -0.5312077403068542,
          0.6325435638427734,
          -0.6166867613792419,
          -0.5481462478637695,
          0.7118666768074036,
          0.5591437816619873,
          -0.4913902282714844
         ],
         "xaxis": "x2",
         "y": [
          1,
          1,
          1,
          1,
          1,
          1,
          1,
          1,
          1,
          1,
          1,
          1,
          1,
          1,
          1,
          1,
          1,
          1,
          1,
          1
         ],
         "yaxis": "y2"
        },
        {
         "hoverinfo": "skip",
         "line": {
          "color": "black",
          "width": 1
         },
         "mode": "lines",
         "showlegend": false,
         "type": "scatter",
         "x": [
          -0.6834477782249451,
          -0.6834477782249451
         ],
         "xaxis": "x2",
         "y": [
          1,
          1.45
         ],
         "yaxis": "y2"
        },
        {
         "hoverinfo": "skip",
         "line": {
          "color": "black",
          "width": 1
         },
         "mode": "lines",
         "showlegend": false,
         "type": "scatter",
         "x": [
          -0.6166867613792419,
          -0.6166867613792419
         ],
         "xaxis": "x2",
         "y": [
          1,
          0.6
         ],
         "yaxis": "y2"
        },
        {
         "hoverinfo": "skip",
         "line": {
          "color": "black",
          "width": 1
         },
         "mode": "lines",
         "showlegend": false,
         "type": "scatter",
         "x": [
          -0.5674746036529541,
          -0.5674746036529541
         ],
         "xaxis": "x2",
         "y": [
          1,
          1.9
         ],
         "yaxis": "y2"
        },
        {
         "hoverinfo": "skip",
         "line": {
          "color": "black",
          "width": 1
         },
         "mode": "lines",
         "showlegend": false,
         "type": "scatter",
         "x": [
          -0.5481462478637695,
          -0.5481462478637695
         ],
         "xaxis": "x2",
         "y": [
          1,
          0.15
         ],
         "yaxis": "y2"
        },
        {
         "hoverinfo": "skip",
         "line": {
          "color": "black",
          "width": 1
         },
         "mode": "lines",
         "showlegend": false,
         "type": "scatter",
         "x": [
          -0.5312077403068542,
          -0.5312077403068542
         ],
         "xaxis": "x2",
         "y": [
          1,
          1.6
         ],
         "yaxis": "y2"
        },
        {
         "hoverinfo": "skip",
         "line": {
          "color": "black",
          "width": 1
         },
         "mode": "lines",
         "showlegend": false,
         "type": "scatter",
         "x": [
          -0.5212933421134949,
          -0.5212933421134949
         ],
         "xaxis": "x2",
         "y": [
          1,
          0.45
         ],
         "yaxis": "y2"
        },
        {
         "hoverinfo": "skip",
         "line": {
          "color": "black",
          "width": 1
         },
         "mode": "lines",
         "showlegend": false,
         "type": "scatter",
         "x": [
          -0.5184048414230347,
          -0.5184048414230347
         ],
         "xaxis": "x2",
         "y": [
          1,
          1.3
         ],
         "yaxis": "y2"
        },
        {
         "hoverinfo": "skip",
         "line": {
          "color": "black",
          "width": 1
         },
         "mode": "lines",
         "showlegend": false,
         "type": "scatter",
         "x": [
          -0.493359237909317,
          -0.493359237909317
         ],
         "xaxis": "x2",
         "y": [
          1,
          0.75
         ],
         "yaxis": "y2"
        },
        {
         "hoverinfo": "skip",
         "line": {
          "color": "black",
          "width": 1
         },
         "mode": "lines",
         "showlegend": false,
         "type": "scatter",
         "x": [
          -0.4913902282714844,
          -0.4913902282714844
         ],
         "xaxis": "x2",
         "y": [
          1,
          1.75
         ],
         "yaxis": "y2"
        },
        {
         "hoverinfo": "skip",
         "line": {
          "color": "black",
          "width": 1
         },
         "mode": "lines",
         "showlegend": false,
         "type": "scatter",
         "x": [
          -0.4737701117992401,
          -0.4737701117992401
         ],
         "xaxis": "x2",
         "y": [
          1,
          0.3
         ],
         "yaxis": "y2"
        },
        {
         "hoverinfo": "skip",
         "line": {
          "color": "black",
          "width": 1
         },
         "mode": "lines",
         "showlegend": false,
         "type": "scatter",
         "x": [
          0.5492463111877441,
          0.5492463111877441
         ],
         "xaxis": "x2",
         "y": [
          1,
          1.45
         ],
         "yaxis": "y2"
        },
        {
         "hoverinfo": "skip",
         "line": {
          "color": "black",
          "width": 1
         },
         "mode": "lines",
         "showlegend": false,
         "type": "scatter",
         "x": [
          0.5493068099021912,
          0.5493068099021912
         ],
         "xaxis": "x2",
         "y": [
          1,
          0.6
         ],
         "yaxis": "y2"
        },
        {
         "hoverinfo": "skip",
         "line": {
          "color": "black",
          "width": 1
         },
         "mode": "lines",
         "showlegend": false,
         "type": "scatter",
         "x": [
          0.5591437816619873,
          0.5591437816619873
         ],
         "xaxis": "x2",
         "y": [
          1,
          1.9
         ],
         "yaxis": "y2"
        },
        {
         "hoverinfo": "skip",
         "line": {
          "color": "black",
          "width": 1
         },
         "mode": "lines",
         "showlegend": false,
         "type": "scatter",
         "x": [
          0.5792625546455383,
          0.5792625546455383
         ],
         "xaxis": "x2",
         "y": [
          1,
          0.15
         ],
         "yaxis": "y2"
        },
        {
         "hoverinfo": "skip",
         "line": {
          "color": "black",
          "width": 1
         },
         "mode": "lines",
         "showlegend": false,
         "type": "scatter",
         "x": [
          0.601420521736145,
          0.601420521736145
         ],
         "xaxis": "x2",
         "y": [
          1,
          1.6
         ],
         "yaxis": "y2"
        },
        {
         "hoverinfo": "skip",
         "line": {
          "color": "black",
          "width": 1
         },
         "mode": "lines",
         "showlegend": false,
         "type": "scatter",
         "x": [
          0.6325435638427734,
          0.6325435638427734
         ],
         "xaxis": "x2",
         "y": [
          1,
          0.45
         ],
         "yaxis": "y2"
        },
        {
         "hoverinfo": "skip",
         "line": {
          "color": "black",
          "width": 1
         },
         "mode": "lines",
         "showlegend": false,
         "type": "scatter",
         "x": [
          0.6378827691078186,
          0.6378827691078186
         ],
         "xaxis": "x2",
         "y": [
          1,
          1.3
         ],
         "yaxis": "y2"
        },
        {
         "hoverinfo": "skip",
         "line": {
          "color": "black",
          "width": 1
         },
         "mode": "lines",
         "showlegend": false,
         "type": "scatter",
         "x": [
          0.6586019396781921,
          0.6586019396781921
         ],
         "xaxis": "x2",
         "y": [
          1,
          0.75
         ],
         "yaxis": "y2"
        },
        {
         "hoverinfo": "skip",
         "line": {
          "color": "black",
          "width": 1
         },
         "mode": "lines",
         "showlegend": false,
         "type": "scatter",
         "x": [
          0.6782913208007812,
          0.6782913208007812
         ],
         "xaxis": "x2",
         "y": [
          1,
          1.75
         ],
         "yaxis": "y2"
        },
        {
         "hoverinfo": "skip",
         "line": {
          "color": "black",
          "width": 1
         },
         "mode": "lines",
         "showlegend": false,
         "type": "scatter",
         "x": [
          0.7118666768074036,
          0.7118666768074036
         ],
         "xaxis": "x2",
         "y": [
          1,
          0.3
         ],
         "yaxis": "y2"
        },
        {
         "hoverinfo": "skip",
         "marker": {
          "color": "limegreen"
         },
         "opacity": 0.7,
         "showlegend": false,
         "type": "bar",
         "width": 0.03720836639404297,
         "x": [
          -0.6601925492286682,
          -0.6136820316314697,
          -0.567171573638916,
          -0.5206611156463623,
          -0.4741505980491638,
          -0.4276401400566101,
          -0.3811296224594116,
          -0.3346191644668579,
          -0.2881087064743042,
          -0.2415982037782669,
          -0.1950877159833908,
          -0.1485772430896759,
          -0.1020667552947998,
          -0.055556271225214005,
          -0.009045790880918503,
          0.037464689463377,
          0.0839751660823822,
          0.1304856538772583,
          0.1769961416721344,
          0.2235066145658493,
          0.2700170874595642,
          0.3165276050567627,
          0.3630380630493164,
          0.4095485210418701,
          0.4560590386390686,
          0.5025694966316223,
          0.5490800142288208,
          0.5955904722213745,
          0.6421009302139282,
          0.6886114478111267
         ],
         "xaxis": "x2",
         "y": [
          0.04285714285714286,
          0.04285714285714286,
          0.08571428571428572,
          0.12857142857142856,
          0.21428571428571427,
          0.3,
          0.2571428571428571,
          0.3857142857142857,
          0.3,
          0.5571428571428572,
          0.5142857142857142,
          0.5142857142857142,
          0.4714285714285715,
          0.9,
          0.6428571428571429,
          0.6857142857142857,
          0.8142857142857143,
          0.6428571428571429,
          0.6428571428571429,
          0.3857142857142857,
          0.2571428571428571,
          0.5142857142857142,
          0.12857142857142856,
          0.17142857142857143,
          0.04285714285714286,
          0.17142857142857143,
          0.17142857142857143,
          0.08571428571428572,
          0.12857142857142856,
          0.08571428571428572
         ],
         "yaxis": "y2"
        }
       ],
       "layout": {
        "annotations": [
         {
          "font": {
           "size": 16
          },
          "showarrow": false,
          "text": "PC4 Cosine Similarity",
          "x": 0.5,
          "xanchor": "center",
          "xref": "paper",
          "y": 1,
          "yanchor": "bottom",
          "yref": "paper"
         },
         {
          "font": {
           "size": 16
          },
          "showarrow": false,
          "text": "PC4 Projection",
          "x": 0.5,
          "xanchor": "center",
          "xref": "paper",
          "y": 0.45,
          "yanchor": "bottom",
          "yref": "paper"
         },
         {
          "bgcolor": "rgba(255, 255, 255, 0.9)",
          "bordercolor": "black",
          "borderwidth": 1,
          "font": {
           "color": "black",
           "size": 10
          },
          "showarrow": false,
          "text": "Open Ended",
          "x": -0.6962244510650635,
          "xref": "x",
          "y": 1.45,
          "yref": "y"
         },
         {
          "bgcolor": "rgba(255, 255, 255, 0.9)",
          "bordercolor": "black",
          "borderwidth": 1,
          "font": {
           "color": "black",
           "size": 10
          },
          "showarrow": false,
          "text": "Circumspect",
          "x": -0.6313509345054626,
          "xref": "x",
          "y": 0.6,
          "yref": "y"
         },
         {
          "bgcolor": "rgba(255, 255, 255, 0.9)",
          "bordercolor": "black",
          "borderwidth": 1,
          "font": {
           "color": "black",
           "size": 10
          },
          "showarrow": false,
          "text": "Cautious",
          "x": -0.5885194540023804,
          "xref": "x",
          "y": 1.9,
          "yref": "y"
         },
         {
          "bgcolor": "rgba(255, 255, 255, 0.9)",
          "bordercolor": "black",
          "borderwidth": 1,
          "font": {
           "color": "black",
           "size": 10
          },
          "showarrow": false,
          "text": "Relativist",
          "x": -0.5472889542579651,
          "xref": "x",
          "y": 0.15,
          "yref": "y"
         },
         {
          "bgcolor": "rgba(255, 255, 255, 0.9)",
          "bordercolor": "black",
          "borderwidth": 1,
          "font": {
           "color": "black",
           "size": 10
          },
          "showarrow": false,
          "text": "Understated",
          "x": -0.5282069444656372,
          "xref": "x",
          "y": 1.6,
          "yref": "y"
         },
         {
          "bgcolor": "rgba(255, 255, 255, 0.9)",
          "bordercolor": "black",
          "borderwidth": 1,
          "font": {
           "color": "black",
           "size": 10
          },
          "showarrow": false,
          "text": "Conceptual",
          "x": -0.5071231722831726,
          "xref": "x",
          "y": 0.45,
          "yref": "y"
         },
         {
          "bgcolor": "rgba(255, 255, 255, 0.9)",
          "bordercolor": "black",
          "borderwidth": 1,
          "font": {
           "color": "black",
           "size": 10
          },
          "showarrow": false,
          "text": "Theoretical",
          "x": -0.46702632308006287,
          "xref": "x",
          "y": 1.3,
          "yref": "y"
         },
         {
          "bgcolor": "rgba(255, 255, 255, 0.9)",
          "bordercolor": "black",
          "borderwidth": 1,
          "font": {
           "color": "black",
           "size": 10
          },
          "showarrow": false,
          "text": "Abstract",
          "x": -0.46485573053359985,
          "xref": "x",
          "y": 0.75,
          "yref": "y"
         },
         {
          "bgcolor": "rgba(255, 255, 255, 0.9)",
          "bordercolor": "black",
          "borderwidth": 1,
          "font": {
           "color": "black",
           "size": 10
          },
          "showarrow": false,
          "text": "Paradoxical",
          "x": -0.4630860984325409,
          "xref": "x",
          "y": 1.75,
          "yref": "y"
         },
         {
          "bgcolor": "rgba(255, 255, 255, 0.9)",
          "bordercolor": "black",
          "borderwidth": 1,
          "font": {
           "color": "black",
           "size": 10
          },
          "showarrow": false,
          "text": "Introverted",
          "x": -0.45177483558654785,
          "xref": "x",
          "y": 0.3,
          "yref": "y"
         },
         {
          "bgcolor": "rgba(255, 255, 255, 0.9)",
          "bordercolor": "black",
          "borderwidth": 1,
          "font": {
           "color": "black",
           "size": 10
          },
          "showarrow": false,
          "text": "Dominant",
          "x": 0.5138336420059204,
          "xref": "x",
          "y": 1.45,
          "yref": "y"
         },
         {
          "bgcolor": "rgba(255, 255, 255, 0.9)",
          "bordercolor": "black",
          "borderwidth": 1,
          "font": {
           "color": "black",
           "size": 10
          },
          "showarrow": false,
          "text": "Problem Solving",
          "x": 0.5193227529525757,
          "xref": "x",
          "y": 0.6,
          "yref": "y"
         },
         {
          "bgcolor": "rgba(255, 255, 255, 0.9)",
          "bordercolor": "black",
          "borderwidth": 1,
          "font": {
           "color": "black",
           "size": 10
          },
          "showarrow": false,
          "text": "Passionate",
          "x": 0.5335622429847717,
          "xref": "x",
          "y": 1.9,
          "yref": "y"
         },
         {
          "bgcolor": "rgba(255, 255, 255, 0.9)",
          "bordercolor": "black",
          "borderwidth": 1,
          "font": {
           "color": "black",
           "size": 10
          },
          "showarrow": false,
          "text": "Practical",
          "x": 0.5347539186477661,
          "xref": "x",
          "y": 0.15,
          "yref": "y"
         },
         {
          "bgcolor": "rgba(255, 255, 255, 0.9)",
          "bordercolor": "black",
          "borderwidth": 1,
          "font": {
           "color": "black",
           "size": 10
          },
          "showarrow": false,
          "text": "Prescriptive",
          "x": 0.5662949085235596,
          "xref": "x",
          "y": 1.6,
          "yref": "y"
         },
         {
          "bgcolor": "rgba(255, 255, 255, 0.9)",
          "bordercolor": "black",
          "borderwidth": 1,
          "font": {
           "color": "black",
           "size": 10
          },
          "showarrow": false,
          "text": "Confident",
          "x": 0.5664411783218384,
          "xref": "x",
          "y": 0.45,
          "yref": "y"
         },
         {
          "bgcolor": "rgba(255, 255, 255, 0.9)",
          "bordercolor": "black",
          "borderwidth": 1,
          "font": {
           "color": "black",
           "size": 10
          },
          "showarrow": false,
          "text": "Extroverted",
          "x": 0.6063625812530518,
          "xref": "x",
          "y": 1.3,
          "yref": "y"
         },
         {
          "bgcolor": "rgba(255, 255, 255, 0.9)",
          "bordercolor": "black",
          "borderwidth": 1,
          "font": {
           "color": "black",
           "size": 10
          },
          "showarrow": false,
          "text": "Assertive",
          "x": 0.6697848439216614,
          "xref": "x",
          "y": 0.75,
          "yref": "y"
         },
         {
          "bgcolor": "rgba(255, 255, 255, 0.9)",
          "bordercolor": "black",
          "borderwidth": 1,
          "font": {
           "color": "black",
           "size": 10
          },
          "showarrow": false,
          "text": "Closure Seeking",
          "x": 0.6925951838493347,
          "xref": "x",
          "y": 1.75,
          "yref": "y"
         },
         {
          "bgcolor": "rgba(255, 255, 255, 0.9)",
          "bordercolor": "black",
          "borderwidth": 1,
          "font": {
           "color": "black",
           "size": 10
          },
          "showarrow": false,
          "text": "Decisive",
          "x": 0.6974301934242249,
          "xref": "x",
          "y": 0.3,
          "yref": "y"
         },
         {
          "bgcolor": "rgba(255, 255, 255, 0.9)",
          "bordercolor": "red",
          "borderwidth": 1,
          "font": {
           "color": "red",
           "size": 14
          },
          "showarrow": false,
          "text": "Assistant",
          "x": -0.006996363867074251,
          "xref": "x",
          "y": 2,
          "yref": "y"
         },
         {
          "bgcolor": "rgba(255, 255, 255, 0.9)",
          "bordercolor": "black",
          "borderwidth": 1,
          "font": {
           "color": "black",
           "size": 10
          },
          "showarrow": false,
          "text": "Open Ended",
          "x": -0.6834477782249451,
          "xref": "x2",
          "y": 1.45,
          "yref": "y2"
         },
         {
          "bgcolor": "rgba(255, 255, 255, 0.9)",
          "bordercolor": "black",
          "borderwidth": 1,
          "font": {
           "color": "black",
           "size": 10
          },
          "showarrow": false,
          "text": "Circumspect",
          "x": -0.6166867613792419,
          "xref": "x2",
          "y": 0.6,
          "yref": "y2"
         },
         {
          "bgcolor": "rgba(255, 255, 255, 0.9)",
          "bordercolor": "black",
          "borderwidth": 1,
          "font": {
           "color": "black",
           "size": 10
          },
          "showarrow": false,
          "text": "Relativist",
          "x": -0.5674746036529541,
          "xref": "x2",
          "y": 1.9,
          "yref": "y2"
         },
         {
          "bgcolor": "rgba(255, 255, 255, 0.9)",
          "bordercolor": "black",
          "borderwidth": 1,
          "font": {
           "color": "black",
           "size": 10
          },
          "showarrow": false,
          "text": "Cautious",
          "x": -0.5481462478637695,
          "xref": "x2",
          "y": 0.15,
          "yref": "y2"
         },
         {
          "bgcolor": "rgba(255, 255, 255, 0.9)",
          "bordercolor": "black",
          "borderwidth": 1,
          "font": {
           "color": "black",
           "size": 10
          },
          "showarrow": false,
          "text": "Conceptual",
          "x": -0.5312077403068542,
          "xref": "x2",
          "y": 1.6,
          "yref": "y2"
         },
         {
          "bgcolor": "rgba(255, 255, 255, 0.9)",
          "bordercolor": "black",
          "borderwidth": 1,
          "font": {
           "color": "black",
           "size": 10
          },
          "showarrow": false,
          "text": "Paradoxical",
          "x": -0.5212933421134949,
          "xref": "x2",
          "y": 0.45,
          "yref": "y2"
         },
         {
          "bgcolor": "rgba(255, 255, 255, 0.9)",
          "bordercolor": "black",
          "borderwidth": 1,
          "font": {
           "color": "black",
           "size": 10
          },
          "showarrow": false,
          "text": "Theoretical",
          "x": -0.5184048414230347,
          "xref": "x2",
          "y": 1.3,
          "yref": "y2"
         },
         {
          "bgcolor": "rgba(255, 255, 255, 0.9)",
          "bordercolor": "black",
          "borderwidth": 1,
          "font": {
           "color": "black",
           "size": 10
          },
          "showarrow": false,
          "text": "Deconstructionist",
          "x": -0.493359237909317,
          "xref": "x2",
          "y": 0.75,
          "yref": "y2"
         },
         {
          "bgcolor": "rgba(255, 255, 255, 0.9)",
          "bordercolor": "black",
          "borderwidth": 1,
          "font": {
           "color": "black",
           "size": 10
          },
          "showarrow": false,
          "text": "Abstract",
          "x": -0.4913902282714844,
          "xref": "x2",
          "y": 1.75,
          "yref": "y2"
         },
         {
          "bgcolor": "rgba(255, 255, 255, 0.9)",
          "bordercolor": "black",
          "borderwidth": 1,
          "font": {
           "color": "black",
           "size": 10
          },
          "showarrow": false,
          "text": "Understated",
          "x": -0.4737701117992401,
          "xref": "x2",
          "y": 0.3,
          "yref": "y2"
         },
         {
          "bgcolor": "rgba(255, 255, 255, 0.9)",
          "bordercolor": "black",
          "borderwidth": 1,
          "font": {
           "color": "black",
           "size": 10
          },
          "showarrow": false,
          "text": "Sassy",
          "x": 0.5492463111877441,
          "xref": "x2",
          "y": 1.45,
          "yref": "y2"
         },
         {
          "bgcolor": "rgba(255, 255, 255, 0.9)",
          "bordercolor": "black",
          "borderwidth": 1,
          "font": {
           "color": "black",
           "size": 10
          },
          "showarrow": false,
          "text": "Prescriptive",
          "x": 0.5493068099021912,
          "xref": "x2",
          "y": 0.6,
          "yref": "y2"
         },
         {
          "bgcolor": "rgba(255, 255, 255, 0.9)",
          "bordercolor": "black",
          "borderwidth": 1,
          "font": {
           "color": "black",
           "size": 10
          },
          "showarrow": false,
          "text": "Animated",
          "x": 0.5591437816619873,
          "xref": "x2",
          "y": 1.9,
          "yref": "y2"
         },
         {
          "bgcolor": "rgba(255, 255, 255, 0.9)",
          "bordercolor": "black",
          "borderwidth": 1,
          "font": {
           "color": "black",
           "size": 10
          },
          "showarrow": false,
          "text": "Confident",
          "x": 0.5792625546455383,
          "xref": "x2",
          "y": 0.15,
          "yref": "y2"
         },
         {
          "bgcolor": "rgba(255, 255, 255, 0.9)",
          "bordercolor": "black",
          "borderwidth": 1,
          "font": {
           "color": "black",
           "size": 10
          },
          "showarrow": false,
          "text": "Zealous",
          "x": 0.601420521736145,
          "xref": "x2",
          "y": 1.6,
          "yref": "y2"
         },
         {
          "bgcolor": "rgba(255, 255, 255, 0.9)",
          "bordercolor": "black",
          "borderwidth": 1,
          "font": {
           "color": "black",
           "size": 10
          },
          "showarrow": false,
          "text": "Closure Seeking",
          "x": 0.6325435638427734,
          "xref": "x2",
          "y": 0.45,
          "yref": "y2"
         },
         {
          "bgcolor": "rgba(255, 255, 255, 0.9)",
          "bordercolor": "black",
          "borderwidth": 1,
          "font": {
           "color": "black",
           "size": 10
          },
          "showarrow": false,
          "text": "Passionate",
          "x": 0.6378827691078186,
          "xref": "x2",
          "y": 1.3,
          "yref": "y2"
         },
         {
          "bgcolor": "rgba(255, 255, 255, 0.9)",
          "bordercolor": "black",
          "borderwidth": 1,
          "font": {
           "color": "black",
           "size": 10
          },
          "showarrow": false,
          "text": "Extroverted",
          "x": 0.6586019396781921,
          "xref": "x2",
          "y": 0.75,
          "yref": "y2"
         },
         {
          "bgcolor": "rgba(255, 255, 255, 0.9)",
          "bordercolor": "black",
          "borderwidth": 1,
          "font": {
           "color": "black",
           "size": 10
          },
          "showarrow": false,
          "text": "Decisive",
          "x": 0.6782913208007812,
          "xref": "x2",
          "y": 1.75,
          "yref": "y2"
         },
         {
          "bgcolor": "rgba(255, 255, 255, 0.9)",
          "bordercolor": "black",
          "borderwidth": 1,
          "font": {
           "color": "black",
           "size": 10
          },
          "showarrow": false,
          "text": "Assertive",
          "x": 0.7118666768074036,
          "xref": "x2",
          "y": 0.3,
          "yref": "y2"
         },
         {
          "bgcolor": "rgba(255, 255, 255, 0.9)",
          "bordercolor": "red",
          "borderwidth": 1,
          "font": {
           "color": "red",
           "size": 14
          },
          "showarrow": false,
          "text": "Assistant",
          "x": 0.003722280263900757,
          "xref": "x2",
          "y": 2,
          "yref": "y2"
         }
        ],
        "height": 800,
        "shapes": [
         {
          "line": {
           "color": "gray",
           "dash": "solid",
           "width": 1
          },
          "opacity": 0.7,
          "type": "line",
          "x0": 0,
          "x1": 0,
          "xref": "x",
          "y0": 0,
          "y1": 1,
          "yref": "y domain"
         },
         {
          "line": {
           "color": "red",
           "dash": "dash",
           "width": 1
          },
          "opacity": 1,
          "type": "line",
          "x0": -0.006996363867074251,
          "x1": -0.006996363867074251,
          "xref": "x",
          "y0": 0,
          "y1": 1,
          "yref": "y domain"
         },
         {
          "line": {
           "color": "gray",
           "dash": "solid",
           "width": 1
          },
          "opacity": 0.7,
          "type": "line",
          "x0": 0,
          "x1": 0,
          "xref": "x2",
          "y0": 0,
          "y1": 1,
          "yref": "y2 domain"
         },
         {
          "line": {
           "color": "red",
           "dash": "dash",
           "width": 1
          },
          "opacity": 1,
          "type": "line",
          "x0": 0.003722280263900757,
          "x1": 0.003722280263900757,
          "xref": "x2",
          "y0": 0,
          "y1": 1,
          "yref": "y2 domain"
         }
        ],
        "showlegend": false,
        "template": {
         "data": {
          "bar": [
           {
            "error_x": {
             "color": "#2a3f5f"
            },
            "error_y": {
             "color": "#2a3f5f"
            },
            "marker": {
             "line": {
              "color": "#E5ECF6",
              "width": 0.5
             },
             "pattern": {
              "fillmode": "overlay",
              "size": 10,
              "solidity": 0.2
             }
            },
            "type": "bar"
           }
          ],
          "barpolar": [
           {
            "marker": {
             "line": {
              "color": "#E5ECF6",
              "width": 0.5
             },
             "pattern": {
              "fillmode": "overlay",
              "size": 10,
              "solidity": 0.2
             }
            },
            "type": "barpolar"
           }
          ],
          "carpet": [
           {
            "aaxis": {
             "endlinecolor": "#2a3f5f",
             "gridcolor": "white",
             "linecolor": "white",
             "minorgridcolor": "white",
             "startlinecolor": "#2a3f5f"
            },
            "baxis": {
             "endlinecolor": "#2a3f5f",
             "gridcolor": "white",
             "linecolor": "white",
             "minorgridcolor": "white",
             "startlinecolor": "#2a3f5f"
            },
            "type": "carpet"
           }
          ],
          "choropleth": [
           {
            "colorbar": {
             "outlinewidth": 0,
             "ticks": ""
            },
            "type": "choropleth"
           }
          ],
          "contour": [
           {
            "colorbar": {
             "outlinewidth": 0,
             "ticks": ""
            },
            "colorscale": [
             [
              0,
              "#0d0887"
             ],
             [
              0.1111111111111111,
              "#46039f"
             ],
             [
              0.2222222222222222,
              "#7201a8"
             ],
             [
              0.3333333333333333,
              "#9c179e"
             ],
             [
              0.4444444444444444,
              "#bd3786"
             ],
             [
              0.5555555555555556,
              "#d8576b"
             ],
             [
              0.6666666666666666,
              "#ed7953"
             ],
             [
              0.7777777777777778,
              "#fb9f3a"
             ],
             [
              0.8888888888888888,
              "#fdca26"
             ],
             [
              1,
              "#f0f921"
             ]
            ],
            "type": "contour"
           }
          ],
          "contourcarpet": [
           {
            "colorbar": {
             "outlinewidth": 0,
             "ticks": ""
            },
            "type": "contourcarpet"
           }
          ],
          "heatmap": [
           {
            "colorbar": {
             "outlinewidth": 0,
             "ticks": ""
            },
            "colorscale": [
             [
              0,
              "#0d0887"
             ],
             [
              0.1111111111111111,
              "#46039f"
             ],
             [
              0.2222222222222222,
              "#7201a8"
             ],
             [
              0.3333333333333333,
              "#9c179e"
             ],
             [
              0.4444444444444444,
              "#bd3786"
             ],
             [
              0.5555555555555556,
              "#d8576b"
             ],
             [
              0.6666666666666666,
              "#ed7953"
             ],
             [
              0.7777777777777778,
              "#fb9f3a"
             ],
             [
              0.8888888888888888,
              "#fdca26"
             ],
             [
              1,
              "#f0f921"
             ]
            ],
            "type": "heatmap"
           }
          ],
          "heatmapgl": [
           {
            "colorbar": {
             "outlinewidth": 0,
             "ticks": ""
            },
            "colorscale": [
             [
              0,
              "#0d0887"
             ],
             [
              0.1111111111111111,
              "#46039f"
             ],
             [
              0.2222222222222222,
              "#7201a8"
             ],
             [
              0.3333333333333333,
              "#9c179e"
             ],
             [
              0.4444444444444444,
              "#bd3786"
             ],
             [
              0.5555555555555556,
              "#d8576b"
             ],
             [
              0.6666666666666666,
              "#ed7953"
             ],
             [
              0.7777777777777778,
              "#fb9f3a"
             ],
             [
              0.8888888888888888,
              "#fdca26"
             ],
             [
              1,
              "#f0f921"
             ]
            ],
            "type": "heatmapgl"
           }
          ],
          "histogram": [
           {
            "marker": {
             "pattern": {
              "fillmode": "overlay",
              "size": 10,
              "solidity": 0.2
             }
            },
            "type": "histogram"
           }
          ],
          "histogram2d": [
           {
            "colorbar": {
             "outlinewidth": 0,
             "ticks": ""
            },
            "colorscale": [
             [
              0,
              "#0d0887"
             ],
             [
              0.1111111111111111,
              "#46039f"
             ],
             [
              0.2222222222222222,
              "#7201a8"
             ],
             [
              0.3333333333333333,
              "#9c179e"
             ],
             [
              0.4444444444444444,
              "#bd3786"
             ],
             [
              0.5555555555555556,
              "#d8576b"
             ],
             [
              0.6666666666666666,
              "#ed7953"
             ],
             [
              0.7777777777777778,
              "#fb9f3a"
             ],
             [
              0.8888888888888888,
              "#fdca26"
             ],
             [
              1,
              "#f0f921"
             ]
            ],
            "type": "histogram2d"
           }
          ],
          "histogram2dcontour": [
           {
            "colorbar": {
             "outlinewidth": 0,
             "ticks": ""
            },
            "colorscale": [
             [
              0,
              "#0d0887"
             ],
             [
              0.1111111111111111,
              "#46039f"
             ],
             [
              0.2222222222222222,
              "#7201a8"
             ],
             [
              0.3333333333333333,
              "#9c179e"
             ],
             [
              0.4444444444444444,
              "#bd3786"
             ],
             [
              0.5555555555555556,
              "#d8576b"
             ],
             [
              0.6666666666666666,
              "#ed7953"
             ],
             [
              0.7777777777777778,
              "#fb9f3a"
             ],
             [
              0.8888888888888888,
              "#fdca26"
             ],
             [
              1,
              "#f0f921"
             ]
            ],
            "type": "histogram2dcontour"
           }
          ],
          "mesh3d": [
           {
            "colorbar": {
             "outlinewidth": 0,
             "ticks": ""
            },
            "type": "mesh3d"
           }
          ],
          "parcoords": [
           {
            "line": {
             "colorbar": {
              "outlinewidth": 0,
              "ticks": ""
             }
            },
            "type": "parcoords"
           }
          ],
          "pie": [
           {
            "automargin": true,
            "type": "pie"
           }
          ],
          "scatter": [
           {
            "fillpattern": {
             "fillmode": "overlay",
             "size": 10,
             "solidity": 0.2
            },
            "type": "scatter"
           }
          ],
          "scatter3d": [
           {
            "line": {
             "colorbar": {
              "outlinewidth": 0,
              "ticks": ""
             }
            },
            "marker": {
             "colorbar": {
              "outlinewidth": 0,
              "ticks": ""
             }
            },
            "type": "scatter3d"
           }
          ],
          "scattercarpet": [
           {
            "marker": {
             "colorbar": {
              "outlinewidth": 0,
              "ticks": ""
             }
            },
            "type": "scattercarpet"
           }
          ],
          "scattergeo": [
           {
            "marker": {
             "colorbar": {
              "outlinewidth": 0,
              "ticks": ""
             }
            },
            "type": "scattergeo"
           }
          ],
          "scattergl": [
           {
            "marker": {
             "colorbar": {
              "outlinewidth": 0,
              "ticks": ""
             }
            },
            "type": "scattergl"
           }
          ],
          "scattermapbox": [
           {
            "marker": {
             "colorbar": {
              "outlinewidth": 0,
              "ticks": ""
             }
            },
            "type": "scattermapbox"
           }
          ],
          "scatterpolar": [
           {
            "marker": {
             "colorbar": {
              "outlinewidth": 0,
              "ticks": ""
             }
            },
            "type": "scatterpolar"
           }
          ],
          "scatterpolargl": [
           {
            "marker": {
             "colorbar": {
              "outlinewidth": 0,
              "ticks": ""
             }
            },
            "type": "scatterpolargl"
           }
          ],
          "scatterternary": [
           {
            "marker": {
             "colorbar": {
              "outlinewidth": 0,
              "ticks": ""
             }
            },
            "type": "scatterternary"
           }
          ],
          "surface": [
           {
            "colorbar": {
             "outlinewidth": 0,
             "ticks": ""
            },
            "colorscale": [
             [
              0,
              "#0d0887"
             ],
             [
              0.1111111111111111,
              "#46039f"
             ],
             [
              0.2222222222222222,
              "#7201a8"
             ],
             [
              0.3333333333333333,
              "#9c179e"
             ],
             [
              0.4444444444444444,
              "#bd3786"
             ],
             [
              0.5555555555555556,
              "#d8576b"
             ],
             [
              0.6666666666666666,
              "#ed7953"
             ],
             [
              0.7777777777777778,
              "#fb9f3a"
             ],
             [
              0.8888888888888888,
              "#fdca26"
             ],
             [
              1,
              "#f0f921"
             ]
            ],
            "type": "surface"
           }
          ],
          "table": [
           {
            "cells": {
             "fill": {
              "color": "#EBF0F8"
             },
             "line": {
              "color": "white"
             }
            },
            "header": {
             "fill": {
              "color": "#C8D4E3"
             },
             "line": {
              "color": "white"
             }
            },
            "type": "table"
           }
          ]
         },
         "layout": {
          "annotationdefaults": {
           "arrowcolor": "#2a3f5f",
           "arrowhead": 0,
           "arrowwidth": 1
          },
          "autotypenumbers": "strict",
          "coloraxis": {
           "colorbar": {
            "outlinewidth": 0,
            "ticks": ""
           }
          },
          "colorscale": {
           "diverging": [
            [
             0,
             "#8e0152"
            ],
            [
             0.1,
             "#c51b7d"
            ],
            [
             0.2,
             "#de77ae"
            ],
            [
             0.3,
             "#f1b6da"
            ],
            [
             0.4,
             "#fde0ef"
            ],
            [
             0.5,
             "#f7f7f7"
            ],
            [
             0.6,
             "#e6f5d0"
            ],
            [
             0.7,
             "#b8e186"
            ],
            [
             0.8,
             "#7fbc41"
            ],
            [
             0.9,
             "#4d9221"
            ],
            [
             1,
             "#276419"
            ]
           ],
           "sequential": [
            [
             0,
             "#0d0887"
            ],
            [
             0.1111111111111111,
             "#46039f"
            ],
            [
             0.2222222222222222,
             "#7201a8"
            ],
            [
             0.3333333333333333,
             "#9c179e"
            ],
            [
             0.4444444444444444,
             "#bd3786"
            ],
            [
             0.5555555555555556,
             "#d8576b"
            ],
            [
             0.6666666666666666,
             "#ed7953"
            ],
            [
             0.7777777777777778,
             "#fb9f3a"
            ],
            [
             0.8888888888888888,
             "#fdca26"
            ],
            [
             1,
             "#f0f921"
            ]
           ],
           "sequentialminus": [
            [
             0,
             "#0d0887"
            ],
            [
             0.1111111111111111,
             "#46039f"
            ],
            [
             0.2222222222222222,
             "#7201a8"
            ],
            [
             0.3333333333333333,
             "#9c179e"
            ],
            [
             0.4444444444444444,
             "#bd3786"
            ],
            [
             0.5555555555555556,
             "#d8576b"
            ],
            [
             0.6666666666666666,
             "#ed7953"
            ],
            [
             0.7777777777777778,
             "#fb9f3a"
            ],
            [
             0.8888888888888888,
             "#fdca26"
            ],
            [
             1,
             "#f0f921"
            ]
           ]
          },
          "colorway": [
           "#636efa",
           "#EF553B",
           "#00cc96",
           "#ab63fa",
           "#FFA15A",
           "#19d3f3",
           "#FF6692",
           "#B6E880",
           "#FF97FF",
           "#FECB52"
          ],
          "font": {
           "color": "#2a3f5f"
          },
          "geo": {
           "bgcolor": "white",
           "lakecolor": "white",
           "landcolor": "#E5ECF6",
           "showlakes": true,
           "showland": true,
           "subunitcolor": "white"
          },
          "hoverlabel": {
           "align": "left"
          },
          "hovermode": "closest",
          "mapbox": {
           "style": "light"
          },
          "paper_bgcolor": "white",
          "plot_bgcolor": "#E5ECF6",
          "polar": {
           "angularaxis": {
            "gridcolor": "white",
            "linecolor": "white",
            "ticks": ""
           },
           "bgcolor": "#E5ECF6",
           "radialaxis": {
            "gridcolor": "white",
            "linecolor": "white",
            "ticks": ""
           }
          },
          "scene": {
           "xaxis": {
            "backgroundcolor": "#E5ECF6",
            "gridcolor": "white",
            "gridwidth": 2,
            "linecolor": "white",
            "showbackground": true,
            "ticks": "",
            "zerolinecolor": "white"
           },
           "yaxis": {
            "backgroundcolor": "#E5ECF6",
            "gridcolor": "white",
            "gridwidth": 2,
            "linecolor": "white",
            "showbackground": true,
            "ticks": "",
            "zerolinecolor": "white"
           },
           "zaxis": {
            "backgroundcolor": "#E5ECF6",
            "gridcolor": "white",
            "gridwidth": 2,
            "linecolor": "white",
            "showbackground": true,
            "ticks": "",
            "zerolinecolor": "white"
           }
          },
          "shapedefaults": {
           "line": {
            "color": "#2a3f5f"
           }
          },
          "ternary": {
           "aaxis": {
            "gridcolor": "white",
            "linecolor": "white",
            "ticks": ""
           },
           "baxis": {
            "gridcolor": "white",
            "linecolor": "white",
            "ticks": ""
           },
           "bgcolor": "#E5ECF6",
           "caxis": {
            "gridcolor": "white",
            "linecolor": "white",
            "ticks": ""
           }
          },
          "title": {
           "x": 0.05
          },
          "xaxis": {
           "automargin": true,
           "gridcolor": "white",
           "linecolor": "white",
           "ticks": "",
           "title": {
            "standoff": 15
           },
           "zerolinecolor": "white",
           "zerolinewidth": 2
          },
          "yaxis": {
           "automargin": true,
           "gridcolor": "white",
           "linecolor": "white",
           "ticks": "",
           "title": {
            "standoff": 15
           },
           "zerolinecolor": "white",
           "zerolinewidth": 2
          }
         }
        },
        "title": {
         "font": {
          "size": 16
         },
         "subtitle": {
          "text": "Llama 3.3 70B, Layer 40 - Mean-Centered and L2 Normalized Vectors"
         },
         "text": "PCA on Trait Vectors",
         "x": 0.5
        },
        "width": 1000,
        "xaxis": {
         "anchor": "y",
         "domain": [
          0,
          1
         ],
         "range": [
          -1.1,
          1.1
         ]
        },
        "xaxis2": {
         "anchor": "y2",
         "domain": [
          0,
          1
         ],
         "range": [
          -1.1,
          1.1
         ]
        },
        "yaxis": {
         "anchor": "x",
         "domain": [
          0.55,
          1
         ],
         "range": [
          0,
          2.5
         ],
         "showticklabels": false
        },
        "yaxis2": {
         "anchor": "x2",
         "domain": [
          0,
          0.45
         ],
         "range": [
          0,
          2.5
         ],
         "showticklabels": false
        }
       }
      },
      "text/html": [
       "<div>                            <div id=\"0a3c865a-86c4-4554-a66f-9961a5a489af\" class=\"plotly-graph-div\" style=\"height:800px; width:1000px;\"></div>            <script type=\"text/javascript\">                require([\"plotly\"], function(Plotly) {                    window.PLOTLYENV=window.PLOTLYENV || {};                                    if (document.getElementById(\"0a3c865a-86c4-4554-a66f-9961a5a489af\")) {                    Plotly.newPlot(                        \"0a3c865a-86c4-4554-a66f-9961a5a489af\",                        [{\"hovertemplate\":\"\\u003cb\\u003e%{text}\\u003c\\u002fb\\u003e\\u003cbr\\u003eCosine Similarity: %{x:.3f}\\u003cextra\\u003e\\u003c\\u002fextra\\u003e\",\"marker\":{\"color\":\"limegreen\",\"line\":{\"color\":\"black\",\"width\":1},\"opacity\":1.0,\"size\":8,\"symbol\":\"diamond\"},\"mode\":\"markers\",\"showlegend\":false,\"text\":[\"Zealous\",\"Wry\",\"Witty\",\"Whimsical\",\"Visceral\",\"Vindictive\",\"Verbose\",\"Utilitarian\",\"Urgent\",\"Universalist\",\"Transparent\",\"Traditional\",\"Theatrical\",\"Temperamental\",\"Technical\",\"Tactful\",\"Systems Thinker\",\"Sycophantic\",\"Supportive\",\"Subversive\",\"Submissive\",\"Structuralist\",\"Stream Of Consciousness\",\"Strategic\",\"Stoic\",\"Spontaneous\",\"Spiritual\",\"Speculative\",\"Specialized\",\"Solemn\",\"Socratic\",\"Skeptical\",\"Serious\",\"Serene\",\"Secular\",\"Savage\",\"Sassy\",\"Sardonic\",\"Sarcastic\",\"Romantic\",\"Ritualistic\",\"Risk Taking\",\"Rhetorical\",\"Reverent\",\"Resilient\",\"Reserved\",\"Regulatory\",\"Reductionist\",\"Rebellious\",\"Reactive\",\"Rationalist\",\"Radical\",\"Quantitative\",\"Qualitative\",\"Provocative\",\"Progressive\",\"Proactive\",\"Principled\",\"Poetic\",\"Pluralist\",\"Playful\",\"Philosophical\",\"Petty\",\"Pessimistic\",\"Perfectionist\",\"Pensive\",\"Pedantic\",\"Patient\",\"Passive Aggressive\",\"Paranoid\",\"Pacifist\",\"Optimistic\",\"Obsessive\",\"Nurturing\",\"Nostalgic\",\"Nonchalant\",\"Nihilistic\",\"Neurotic\",\"Narrative\",\"Naive\",\"Mystical\",\"Moderate\",\"Mischievous\",\"Misanthropic\",\"Militant\",\"Meticulous\",\"Methodical\",\"Metaphorical\",\"Mercurial\",\"Melodramatic\",\"Melancholic\",\"Meditative\",\"Materialist\",\"Manipulative\",\"Manic\",\"Literal\",\"Libertarian\",\"Judgmental\",\"Irreverent\",\"Ironic\",\"Intuitive\",\"Introspective\",\"Interdisciplinary\",\"Inspirational\",\"Inquisitive\",\"Innovative\",\"Individualistic\",\"Independent\",\"Inclusive\",\"Impulsive\",\"Improvisational\",\"Impatient\",\"Idealistic\",\"Iconoclastic\",\"Humble\",\"Humanistic\",\"Hostile\",\"Holistic\",\"Historical\",\"Hedonistic\",\"Grounded\",\"Gregarious\",\"Grandiose\",\"Goofy\",\"Generous\",\"Generalist\",\"Futuristic\",\"Fundamentalist\",\"Formalist\",\"Formal\",\"Forgiving\",\"Flirty\",\"Flippant\",\"Flexible\",\"Fatalistic\",\"Factual\",\"Exploratory\",\"Experiential\",\"Existentialist\",\"Evil\",\"Ethereal\",\"Essentialist\",\"Esoteric\",\"Erudite\",\"Epicurean\",\"Environmental\",\"Entertaining\",\"Enigmatic\",\"Empathetic\",\"Emotional\",\"Eloquent\",\"Elitist\",\"Egalitarian\",\"Effusive\",\"Efficient\",\"Educational\",\"Edgy\",\"Eclectic\",\"Earnest\",\"Dramatic\",\"Dogmatic\",\"Divergent\",\"Dispassionate\",\"Disorganized\",\"Diplomatic\",\"Deterministic\",\"Detached\",\"Descriptive\",\"Deontological\",\"Deferential\",\"Deconstructionist\",\"Data Driven\",\"Cynical\",\"Curious\",\"Cryptic\",\"Cruel\",\"Critical\",\"Creative\",\"Cosmopolitan\",\"Convergent\",\"Contrarian\",\"Contemporary\",\"Constructivist\",\"Conscientious\",\"Confrontational\",\"Condescending\",\"Concise\",\"Conciliatory\",\"Competitive\",\"Collectivistic\",\"Collaborative\",\"Chill\",\"Charismatic\",\"Chaotic\",\"Challenging\",\"Casual\",\"Calm\",\"Callous\",\"Calculating\",\"Bombastic\",\"Blunt\",\"Bitter\",\"Big Picture\",\"Benevolent\",\"Avoidant\",\"Ascetic\",\"Artistic\",\"Arrogant\",\"Anxious\",\"Anthropocentric\",\"Animated\",\"Analytical\",\"Altruistic\",\"Agreeable\",\"Adventurous\",\"Adaptable\",\"Acerbic\",\"Accommodating\",\"Accessible\",\"Absolutist\"],\"x\":[0.5011644959449768,-0.06071745604276657,0.2815975546836853,0.03532707318663597,0.14140503108501434,0.02068299613893032,-0.07805614173412323,0.07700937241315842,0.37603867053985596,0.21029697358608246,0.3218229413032532,-0.09164690226316452,0.2560138404369354,0.19425037503242493,-0.09902119636535645,-0.20065337419509888,0.03063691034913063,-0.06146654859185219,0.2482704371213913,-0.41052085161209106,-0.4376325309276581,0.004098068922758102,-0.21257804334163666,-0.0027380953542888165,-0.3508756458759308,-0.05516987666487694,-0.08982565253973007,-0.16371884942054749,-0.042148806154727936,-0.25919851660728455,-0.3564460873603821,-0.31161659955978394,-0.298346608877182,-0.27710676193237305,0.03824272379279137,0.13107731938362122,0.5057365298271179,-0.023318050429224968,-0.011525942012667656,0.05793682485818863,-0.2022956907749176,0.07161960750818253,0.11717462539672852,-0.1912565529346466,0.1928759217262268,-0.30196613073349,-0.1510075330734253,0.1897648125886917,-0.031434137374162674,-0.0438406728208065,-0.07742597907781601,0.02766568213701248,0.24898220598697662,-0.1951972246170044,-0.30951163172721863,0.3334854543209076,0.21568599343299866,0.004451687913388014,0.08415178209543228,-0.17206966876983643,0.2568049132823944,-0.3492346704006195,-0.07867605984210968,-0.37124961614608765,-0.027348261326551437,-0.2628307044506073,-0.3871684968471527,-0.011625517159700394,-0.3408656120300293,-0.2208101600408554,-0.06301088631153107,0.402450293302536,-0.18362294137477875,0.24220581352710724,-0.12545818090438843,-0.20178961753845215,-0.32018524408340454,-0.13597141206264496,0.07020541280508041,0.1505269706249237,-0.1444137692451477,-0.22251825034618378,0.08285866677761078,-0.169585719704628,0.2712625563144684,-0.096420519053936,0.11286184936761856,0.0578174889087677,-0.09051550179719925,0.2243185192346573,-0.3337351083755493,-0.33964842557907104,-0.031072987243533134,-0.13826894760131836,0.2950192987918854,-0.14576837420463562,0.06377637386322021,0.06549358367919922,0.16224001348018646,-0.07232566177845001,0.03683607652783394,-0.4203363358974457,-0.03311740607023239,0.3056086301803589,-0.17427073419094086,0.1450575739145279,0.08088746666908264,0.12583380937576294,-0.05869056284427643,0.1011085957288742,-0.2246452271938324,0.11988744884729385,0.10267531871795654,-0.19714495539665222,-0.32932645082473755,0.0913623496890068,0.09393041580915451,0.020182110369205475,-0.09642110764980316,0.11364022642374039,0.4229205250740051,0.3828507363796234,0.08492159098386765,0.16956952214241028,0.14708814024925232,0.15685558319091797,0.02431865781545639,-0.0462828055024147,-0.024008672684431076,-0.2107144594192505,-0.04608757793903351,0.07326257228851318,0.016662079840898514,0.08235598355531693,-0.40316176414489746,-0.08473353832960129,-0.14536628127098083,0.49321144819259644,0.23170526325702667,-0.08992798626422882,-0.21113651990890503,0.11982154846191406,-0.34780153632164,-0.22224391996860504,-0.045335348695516586,0.08189749717712402,0.3419431149959564,-0.34715384244918823,0.13030092418193817,0.20917177200317383,-0.07309730350971222,-0.04697699844837189,0.2915360927581787,0.4532047510147095,0.10907726734876633,0.2275136113166809,0.04258506000041962,-0.19985568523406982,0.2417123019695282,0.20139817893505096,0.15352578461170197,-0.07718601822853088,-0.36515140533447266,-0.1642654687166214,-0.1599142998456955,-0.31195586919784546,-0.29372918605804443,-0.3909796476364136,-0.03663079813122749,-0.4479062557220459,-0.4232344627380371,0.08247454464435577,-0.21570487320423126,0.18058882653713226,-0.24513432383537292,-0.0523340217769146,-0.3661368191242218,0.05990617722272873,-0.0003053619002457708,0.3115537464618683,-0.3054972290992737,0.20691527426242828,-0.3922833204269409,0.15898770093917847,0.29465416073799133,-0.04193020984530449,0.05917606130242348,-0.1395951211452484,0.19190387427806854,-0.053684961050748825,-0.03737766295671463,-0.15620936453342438,0.44813382625579834,-0.16173669695854187,-0.24469929933547974,0.2251397669315338,-0.21206237375736237,-0.04518516734242439,0.025316927582025528,0.0385284386575222,0.30989208817481995,-0.012999400496482849,-0.13927826285362244,0.1165621280670166,-0.39612749218940735,-0.23973459005355835,0.06502839922904968,0.11971548944711685,-0.16925661265850067,0.07106596231460571,0.4999096393585205,0.054538749158382416,0.0078852204605937,-0.13621556758880615,0.2959606349468231,0.16573530435562134,0.013871564529836178,-0.26402246952056885,0.3614010810852051,0.29859617352485657],\"y\":[1,1,1,1,1,1,1,1,1,1,1,1,1,1,1,1,1,1,1,1,1,1,1,1,1,1,1,1,1,1,1,1,1,1,1,1,1,1,1,1,1,1,1,1,1,1,1,1,1,1,1,1,1,1,1,1,1,1,1,1,1,1,1,1,1,1,1,1,1,1,1,1,1,1,1,1,1,1,1,1,1,1,1,1,1,1,1,1,1,1,1,1,1,1,1,1,1,1,1,1,1,1,1,1,1,1,1,1,1,1,1,1,1,1,1,1,1,1,1,1,1,1,1,1,1,1,1,1,1,1,1,1,1,1,1,1,1,1,1,1,1,1,1,1,1,1,1,1,1,1,1,1,1,1,1,1,1,1,1,1,1,1,1,1,1,1,1,1,1,1,1,1,1,1,1,1,1,1,1,1,1,1,1,1,1,1,1,1,1,1,1,1,1,1,1,1,1,1,1,1,1,1,1,1,1,1,1,1,1,1,1,1,1,1,1,1,1,1,1,1],\"type\":\"scatter\",\"xaxis\":\"x\",\"yaxis\":\"y\"},{\"hovertemplate\":\"\\u003cb\\u003e%{text}\\u003c\\u002fb\\u003e\\u003cbr\\u003eCosine Similarity: %{x:.3f}\\u003cextra\\u003e\\u003c\\u002fextra\\u003e\",\"marker\":{\"color\":\"limegreen\",\"line\":{\"color\":\"black\",\"width\":1},\"opacity\":1.0,\"size\":8,\"symbol\":\"diamond\"},\"mode\":\"markers\",\"showlegend\":false,\"text\":[\"Understated\",\"Theoretical\",\"Relativist\",\"Problem Solving\",\"Prescriptive\",\"Practical\",\"Passionate\",\"Paradoxical\",\"Open Ended\",\"Introverted\",\"Extroverted\",\"Dominant\",\"Decisive\",\"Confident\",\"Conceptual\",\"Closure Seeking\",\"Circumspect\",\"Cautious\",\"Assertive\",\"Abstract\"],\"x\":[-0.5282069444656372,-0.46702632308006287,-0.5472889542579651,0.5193227529525757,0.5662949085235596,0.5347539186477661,0.5335622429847717,-0.4630860984325409,-0.6962244510650635,-0.45177483558654785,0.6063625812530518,0.5138336420059204,0.6974301934242249,0.5664411783218384,-0.5071231722831726,0.6925951838493347,-0.6313509345054626,-0.5885194540023804,0.6697848439216614,-0.46485573053359985],\"y\":[1,1,1,1,1,1,1,1,1,1,1,1,1,1,1,1,1,1,1,1],\"type\":\"scatter\",\"xaxis\":\"x\",\"yaxis\":\"y\"},{\"hoverinfo\":\"skip\",\"line\":{\"color\":\"black\",\"width\":1},\"mode\":\"lines\",\"showlegend\":false,\"x\":[-0.6962244510650635,-0.6962244510650635],\"y\":[1.0,1.45],\"type\":\"scatter\",\"xaxis\":\"x\",\"yaxis\":\"y\"},{\"hoverinfo\":\"skip\",\"line\":{\"color\":\"black\",\"width\":1},\"mode\":\"lines\",\"showlegend\":false,\"x\":[-0.6313509345054626,-0.6313509345054626],\"y\":[1.0,0.6],\"type\":\"scatter\",\"xaxis\":\"x\",\"yaxis\":\"y\"},{\"hoverinfo\":\"skip\",\"line\":{\"color\":\"black\",\"width\":1},\"mode\":\"lines\",\"showlegend\":false,\"x\":[-0.5885194540023804,-0.5885194540023804],\"y\":[1.0,1.9],\"type\":\"scatter\",\"xaxis\":\"x\",\"yaxis\":\"y\"},{\"hoverinfo\":\"skip\",\"line\":{\"color\":\"black\",\"width\":1},\"mode\":\"lines\",\"showlegend\":false,\"x\":[-0.5472889542579651,-0.5472889542579651],\"y\":[1.0,0.15],\"type\":\"scatter\",\"xaxis\":\"x\",\"yaxis\":\"y\"},{\"hoverinfo\":\"skip\",\"line\":{\"color\":\"black\",\"width\":1},\"mode\":\"lines\",\"showlegend\":false,\"x\":[-0.5282069444656372,-0.5282069444656372],\"y\":[1.0,1.6],\"type\":\"scatter\",\"xaxis\":\"x\",\"yaxis\":\"y\"},{\"hoverinfo\":\"skip\",\"line\":{\"color\":\"black\",\"width\":1},\"mode\":\"lines\",\"showlegend\":false,\"x\":[-0.5071231722831726,-0.5071231722831726],\"y\":[1.0,0.45],\"type\":\"scatter\",\"xaxis\":\"x\",\"yaxis\":\"y\"},{\"hoverinfo\":\"skip\",\"line\":{\"color\":\"black\",\"width\":1},\"mode\":\"lines\",\"showlegend\":false,\"x\":[-0.46702632308006287,-0.46702632308006287],\"y\":[1.0,1.3],\"type\":\"scatter\",\"xaxis\":\"x\",\"yaxis\":\"y\"},{\"hoverinfo\":\"skip\",\"line\":{\"color\":\"black\",\"width\":1},\"mode\":\"lines\",\"showlegend\":false,\"x\":[-0.46485573053359985,-0.46485573053359985],\"y\":[1.0,0.75],\"type\":\"scatter\",\"xaxis\":\"x\",\"yaxis\":\"y\"},{\"hoverinfo\":\"skip\",\"line\":{\"color\":\"black\",\"width\":1},\"mode\":\"lines\",\"showlegend\":false,\"x\":[-0.4630860984325409,-0.4630860984325409],\"y\":[1.0,1.75],\"type\":\"scatter\",\"xaxis\":\"x\",\"yaxis\":\"y\"},{\"hoverinfo\":\"skip\",\"line\":{\"color\":\"black\",\"width\":1},\"mode\":\"lines\",\"showlegend\":false,\"x\":[-0.45177483558654785,-0.45177483558654785],\"y\":[1.0,0.3],\"type\":\"scatter\",\"xaxis\":\"x\",\"yaxis\":\"y\"},{\"hoverinfo\":\"skip\",\"line\":{\"color\":\"black\",\"width\":1},\"mode\":\"lines\",\"showlegend\":false,\"x\":[0.5138336420059204,0.5138336420059204],\"y\":[1.0,1.45],\"type\":\"scatter\",\"xaxis\":\"x\",\"yaxis\":\"y\"},{\"hoverinfo\":\"skip\",\"line\":{\"color\":\"black\",\"width\":1},\"mode\":\"lines\",\"showlegend\":false,\"x\":[0.5193227529525757,0.5193227529525757],\"y\":[1.0,0.6],\"type\":\"scatter\",\"xaxis\":\"x\",\"yaxis\":\"y\"},{\"hoverinfo\":\"skip\",\"line\":{\"color\":\"black\",\"width\":1},\"mode\":\"lines\",\"showlegend\":false,\"x\":[0.5335622429847717,0.5335622429847717],\"y\":[1.0,1.9],\"type\":\"scatter\",\"xaxis\":\"x\",\"yaxis\":\"y\"},{\"hoverinfo\":\"skip\",\"line\":{\"color\":\"black\",\"width\":1},\"mode\":\"lines\",\"showlegend\":false,\"x\":[0.5347539186477661,0.5347539186477661],\"y\":[1.0,0.15],\"type\":\"scatter\",\"xaxis\":\"x\",\"yaxis\":\"y\"},{\"hoverinfo\":\"skip\",\"line\":{\"color\":\"black\",\"width\":1},\"mode\":\"lines\",\"showlegend\":false,\"x\":[0.5662949085235596,0.5662949085235596],\"y\":[1.0,1.6],\"type\":\"scatter\",\"xaxis\":\"x\",\"yaxis\":\"y\"},{\"hoverinfo\":\"skip\",\"line\":{\"color\":\"black\",\"width\":1},\"mode\":\"lines\",\"showlegend\":false,\"x\":[0.5664411783218384,0.5664411783218384],\"y\":[1.0,0.45],\"type\":\"scatter\",\"xaxis\":\"x\",\"yaxis\":\"y\"},{\"hoverinfo\":\"skip\",\"line\":{\"color\":\"black\",\"width\":1},\"mode\":\"lines\",\"showlegend\":false,\"x\":[0.6063625812530518,0.6063625812530518],\"y\":[1.0,1.3],\"type\":\"scatter\",\"xaxis\":\"x\",\"yaxis\":\"y\"},{\"hoverinfo\":\"skip\",\"line\":{\"color\":\"black\",\"width\":1},\"mode\":\"lines\",\"showlegend\":false,\"x\":[0.6697848439216614,0.6697848439216614],\"y\":[1.0,0.75],\"type\":\"scatter\",\"xaxis\":\"x\",\"yaxis\":\"y\"},{\"hoverinfo\":\"skip\",\"line\":{\"color\":\"black\",\"width\":1},\"mode\":\"lines\",\"showlegend\":false,\"x\":[0.6925951838493347,0.6925951838493347],\"y\":[1.0,1.75],\"type\":\"scatter\",\"xaxis\":\"x\",\"yaxis\":\"y\"},{\"hoverinfo\":\"skip\",\"line\":{\"color\":\"black\",\"width\":1},\"mode\":\"lines\",\"showlegend\":false,\"x\":[0.6974301934242249,0.6974301934242249],\"y\":[1.0,0.3],\"type\":\"scatter\",\"xaxis\":\"x\",\"yaxis\":\"y\"},{\"hoverinfo\":\"skip\",\"marker\":{\"color\":\"limegreen\"},\"opacity\":0.7,\"showlegend\":false,\"width\":0.03716411590576172,\"x\":[-0.6729968786239624,-0.6265417337417603,-0.5800865888595581,-0.533631443977356,-0.48717623949050903,-0.4407210946083069,-0.39426594972610474,-0.3478108048439026,-0.30135563015937805,-0.2549004852771759,-0.20844532549381256,-0.16199016571044922,-0.11553502082824707,-0.06907986104488373,-0.022624706849455833,0.02383044920861721,0.0702856034040451,0.11674076318740845,0.1631959080696106,0.20965106785297394,0.2561062276363373,0.30256137251853943,0.34901654720306396,0.3954716920852661,0.44192683696746826,0.4883819818496704,0.5348371267318726,0.5812922716140747,0.6277474761009216,0.6742026209831238],\"y\":[0.04285714285714286,0.04285714285714286,0.04285714285714286,0.08571428571428572,0.12857142857142856,0.2571428571428571,0.3,0.4714285714285715,0.34285714285714286,0.3,0.6857142857142857,0.6857142857142857,0.3,0.9,0.7714285714285714,0.6857142857142857,0.9,0.6,0.4714285714285715,0.5571428571428572,0.3,0.42857142857142855,0.12857142857142856,0.12857142857142856,0.12857142857142856,0.17142857142857143,0.17142857142857143,0.08571428571428572,0.04285714285714286,0.12857142857142856],\"type\":\"bar\",\"xaxis\":\"x\",\"yaxis\":\"y\"},{\"hovertemplate\":\"\\u003cb\\u003e%{text}\\u003c\\u002fb\\u003e\\u003cbr\\u003ePC Projection: %{x:.3f}\\u003cextra\\u003e\\u003c\\u002fextra\\u003e\",\"marker\":{\"color\":\"limegreen\",\"line\":{\"color\":\"black\",\"width\":1},\"opacity\":1.0,\"size\":8,\"symbol\":\"diamond\"},\"mode\":\"markers\",\"showlegend\":false,\"text\":[\"Wry\",\"Witty\",\"Whimsical\",\"Visceral\",\"Vindictive\",\"Verbose\",\"Utilitarian\",\"Urgent\",\"Universalist\",\"Transparent\",\"Traditional\",\"Theatrical\",\"Temperamental\",\"Technical\",\"Tactful\",\"Systems Thinker\",\"Sycophantic\",\"Supportive\",\"Subversive\",\"Submissive\",\"Structuralist\",\"Stream Of Consciousness\",\"Strategic\",\"Stoic\",\"Spontaneous\",\"Spiritual\",\"Speculative\",\"Specialized\",\"Solemn\",\"Socratic\",\"Skeptical\",\"Serious\",\"Serene\",\"Secular\",\"Savage\",\"Sardonic\",\"Sarcastic\",\"Romantic\",\"Ritualistic\",\"Risk Taking\",\"Rhetorical\",\"Reverent\",\"Resilient\",\"Reserved\",\"Regulatory\",\"Reductionist\",\"Rebellious\",\"Reactive\",\"Rationalist\",\"Radical\",\"Quantitative\",\"Qualitative\",\"Provocative\",\"Progressive\",\"Problem Solving\",\"Proactive\",\"Principled\",\"Practical\",\"Poetic\",\"Pluralist\",\"Playful\",\"Philosophical\",\"Petty\",\"Pessimistic\",\"Perfectionist\",\"Pensive\",\"Pedantic\",\"Patient\",\"Passive Aggressive\",\"Paranoid\",\"Pacifist\",\"Optimistic\",\"Obsessive\",\"Nurturing\",\"Nostalgic\",\"Nonchalant\",\"Nihilistic\",\"Neurotic\",\"Narrative\",\"Naive\",\"Mystical\",\"Moderate\",\"Mischievous\",\"Misanthropic\",\"Militant\",\"Meticulous\",\"Methodical\",\"Metaphorical\",\"Mercurial\",\"Melodramatic\",\"Melancholic\",\"Meditative\",\"Materialist\",\"Manipulative\",\"Manic\",\"Literal\",\"Libertarian\",\"Judgmental\",\"Irreverent\",\"Ironic\",\"Intuitive\",\"Introverted\",\"Introspective\",\"Interdisciplinary\",\"Inspirational\",\"Inquisitive\",\"Innovative\",\"Individualistic\",\"Independent\",\"Inclusive\",\"Impulsive\",\"Improvisational\",\"Impatient\",\"Idealistic\",\"Iconoclastic\",\"Humble\",\"Humanistic\",\"Hostile\",\"Holistic\",\"Historical\",\"Hedonistic\",\"Grounded\",\"Gregarious\",\"Grandiose\",\"Goofy\",\"Generous\",\"Generalist\",\"Futuristic\",\"Fundamentalist\",\"Formalist\",\"Formal\",\"Forgiving\",\"Flirty\",\"Flippant\",\"Flexible\",\"Fatalistic\",\"Factual\",\"Exploratory\",\"Experiential\",\"Existentialist\",\"Evil\",\"Ethereal\",\"Essentialist\",\"Esoteric\",\"Erudite\",\"Epicurean\",\"Environmental\",\"Entertaining\",\"Enigmatic\",\"Empathetic\",\"Emotional\",\"Eloquent\",\"Elitist\",\"Egalitarian\",\"Effusive\",\"Efficient\",\"Educational\",\"Edgy\",\"Eclectic\",\"Earnest\",\"Dramatic\",\"Dominant\",\"Dogmatic\",\"Divergent\",\"Dispassionate\",\"Disorganized\",\"Diplomatic\",\"Deterministic\",\"Detached\",\"Descriptive\",\"Deontological\",\"Deferential\",\"Data Driven\",\"Cynical\",\"Curious\",\"Cryptic\",\"Cruel\",\"Critical\",\"Creative\",\"Cosmopolitan\",\"Convergent\",\"Contrarian\",\"Contemporary\",\"Constructivist\",\"Conscientious\",\"Confrontational\",\"Condescending\",\"Concise\",\"Conciliatory\",\"Competitive\",\"Collectivistic\",\"Collaborative\",\"Chill\",\"Charismatic\",\"Chaotic\",\"Challenging\",\"Casual\",\"Calm\",\"Callous\",\"Calculating\",\"Bombastic\",\"Blunt\",\"Bitter\",\"Big Picture\",\"Benevolent\",\"Avoidant\",\"Ascetic\",\"Artistic\",\"Arrogant\",\"Anxious\",\"Anthropocentric\",\"Analytical\",\"Altruistic\",\"Agreeable\",\"Adventurous\",\"Adaptable\",\"Acerbic\",\"Accommodating\",\"Accessible\",\"Absolutist\"],\"x\":[-0.05435968190431595,0.33335381746292114,0.05377838760614395,0.15698331594467163,0.03276027366518974,-0.07056207954883575,0.08095879852771759,0.3899029791355133,0.1812943071126938,0.29899927973747253,-0.06556926667690277,0.3083663880825043,0.22479352355003357,-0.09321318566799164,-0.17769555747509003,0.0458301305770874,-0.05241753160953522,0.25687259435653687,-0.47156548500061035,-0.4118077754974365,0.016353627666831017,-0.22191967070102692,0.00847930833697319,-0.29855048656463623,-0.05300602689385414,-0.08987005800008774,-0.1894489973783493,-0.03449069336056709,-0.2413233369588852,-0.3501930832862854,-0.31288671493530273,-0.2702033221721649,-0.26159003376960754,0.04559779539704323,0.14647391438484192,-0.01344628818333149,-0.0007302396115846932,0.0787564069032669,-0.1955355852842331,0.10265791416168213,0.15554018318653107,-0.1823567897081375,0.19587552547454834,-0.24054206907749176,-0.12308473140001297,0.16606828570365906,-0.022882230579853058,-0.032194558531045914,-0.056896280497312546,0.0440983809530735,0.2523651123046875,-0.191656231880188,-0.36833804845809937,0.36208686232566833,0.5256457328796387,0.23464220762252808,0.019245246425271034,0.4717630445957184,0.10750438272953033,-0.1360214501619339,0.30146634578704834,-0.41527119278907776,-0.07119143754243851,-0.36478865146636963,-0.016315842047333717,-0.27222728729248047,-0.41741710901260376,9.916727140080184e-05,-0.34688666462898254,-0.2271924912929535,-0.05157104507088661,0.3869633078575134,-0.19287773966789246,0.25345954298973083,-0.12485754489898682,-0.18637126684188843,-0.3308076560497284,-0.12722225487232208,0.09132070094347,0.15620164573192596,-0.15104691684246063,-0.18536046147346497,0.10566138476133347,-0.17181085050106049,0.30029743909835815,-0.08614059537649155,0.11718500405550003,0.07749337702989578,-0.08992983400821686,0.2729107737541199,-0.34209010004997253,-0.3398270010948181,-0.015110965818166733,-0.13331344723701477,0.33461683988571167,-0.11769048124551773,0.07795815914869308,0.08078531920909882,0.18183821439743042,-0.06724877655506134,0.05275930464267731,-0.43789422512054443,-0.46427279710769653,-0.022288691252470016,0.308674156665802,-0.16567011177539825,0.18751516938209534,0.10705555230379105,0.1378333419561386,-0.0467982217669487,0.11187334358692169,-0.2254742532968521,0.12958325445652008,0.12392962723970413,-0.219978466629982,-0.28472018241882324,0.10208561271429062,0.1083163395524025,0.03348125144839287,-0.09581673890352249,0.1333252638578415,0.3732144236564636,0.4186691343784332,0.11402980983257294,0.19396914541721344,0.16478395462036133,0.16444331407546997,0.040279995650053024,-0.03307555615901947,-0.00822676345705986,-0.1946021169424057,-0.026638664305210114,0.09210142493247986,0.028026491403579712,0.08737784624099731,-0.41476184129714966,-0.0579608716070652,-0.1376054435968399,0.48337191343307495,0.2453870326280594,-0.08497998863458633,-0.22840940952301025,0.12839987874031067,-0.385425865650177,-0.23712442815303802,-0.03972379118204117,0.09947315603494644,0.40171369910240173,-0.3743338882923126,0.14780758321285248,0.23890145123004913,-0.07018175721168518,-0.03937210515141487,0.3076660931110382,0.5180373787879944,0.11220099031925201,0.24393203854560852,0.05894769728183746,-0.23422032594680786,0.24699567258358002,0.24672213196754456,0.534159779548645,0.16882237792015076,-0.06788680702447891,-0.3095129728317261,-0.1579744964838028,-0.13292260468006134,-0.3173738420009613,-0.2467050552368164,-0.32261034846305847,-0.019432466477155685,-0.3983292281627655,0.0908290296792984,-0.2148418128490448,0.2061094343662262,-0.26590418815612793,-0.04246153682470322,-0.40673962235450745,0.09028025716543198,0.012082631699740887,0.25107988715171814,-0.34711983799934387,0.19666370749473572,-0.41167375445365906,0.16736076772212982,0.316438764333725,-0.03361500799655914,0.06654209643602371,-0.1166570708155632,0.21970172226428986,-0.0371527336537838,-0.023940693587064743,-0.13345889747142792,0.49486538767814636,-0.17848287522792816,-0.2705899178981781,0.2315901815891266,-0.1794765442609787,-0.03422429412603378,0.03775389492511749,0.05504792556166649,0.3061683475971222,-0.002303594956174493,-0.1313583254814148,0.12126856297254562,-0.36140307784080505,-0.22890135645866394,0.08649518340826035,0.14279605448246002,-0.1600477397441864,0.07932928949594498,0.06416725367307663,0.01944955624639988,-0.11569824069738388,0.35815751552581787,0.1690027266740799,0.02655651420354843,-0.2627476155757904,0.3376642167568207,0.29907092452049255],\"y\":[1,1,1,1,1,1,1,1,1,1,1,1,1,1,1,1,1,1,1,1,1,1,1,1,1,1,1,1,1,1,1,1,1,1,1,1,1,1,1,1,1,1,1,1,1,1,1,1,1,1,1,1,1,1,1,1,1,1,1,1,1,1,1,1,1,1,1,1,1,1,1,1,1,1,1,1,1,1,1,1,1,1,1,1,1,1,1,1,1,1,1,1,1,1,1,1,1,1,1,1,1,1,1,1,1,1,1,1,1,1,1,1,1,1,1,1,1,1,1,1,1,1,1,1,1,1,1,1,1,1,1,1,1,1,1,1,1,1,1,1,1,1,1,1,1,1,1,1,1,1,1,1,1,1,1,1,1,1,1,1,1,1,1,1,1,1,1,1,1,1,1,1,1,1,1,1,1,1,1,1,1,1,1,1,1,1,1,1,1,1,1,1,1,1,1,1,1,1,1,1,1,1,1,1,1,1,1,1,1,1,1,1,1,1,1,1,1,1,1,1],\"type\":\"scatter\",\"xaxis\":\"x2\",\"yaxis\":\"y2\"},{\"hovertemplate\":\"\\u003cb\\u003e%{text}\\u003c\\u002fb\\u003e\\u003cbr\\u003ePC Projection: %{x:.3f}\\u003cextra\\u003e\\u003c\\u002fextra\\u003e\",\"marker\":{\"color\":\"limegreen\",\"line\":{\"color\":\"black\",\"width\":1},\"opacity\":1.0,\"size\":8,\"symbol\":\"diamond\"},\"mode\":\"markers\",\"showlegend\":false,\"text\":[\"Zealous\",\"Understated\",\"Theoretical\",\"Sassy\",\"Relativist\",\"Prescriptive\",\"Passionate\",\"Paradoxical\",\"Open Ended\",\"Extroverted\",\"Deconstructionist\",\"Decisive\",\"Confident\",\"Conceptual\",\"Closure Seeking\",\"Circumspect\",\"Cautious\",\"Assertive\",\"Animated\",\"Abstract\"],\"x\":[0.601420521736145,-0.4737701117992401,-0.5184048414230347,0.5492463111877441,-0.5674746036529541,0.5493068099021912,0.6378827691078186,-0.5212933421134949,-0.6834477782249451,0.6586019396781921,-0.493359237909317,0.6782913208007812,0.5792625546455383,-0.5312077403068542,0.6325435638427734,-0.6166867613792419,-0.5481462478637695,0.7118666768074036,0.5591437816619873,-0.4913902282714844],\"y\":[1,1,1,1,1,1,1,1,1,1,1,1,1,1,1,1,1,1,1,1],\"type\":\"scatter\",\"xaxis\":\"x2\",\"yaxis\":\"y2\"},{\"hoverinfo\":\"skip\",\"line\":{\"color\":\"black\",\"width\":1},\"mode\":\"lines\",\"showlegend\":false,\"x\":[-0.6834477782249451,-0.6834477782249451],\"y\":[1.0,1.45],\"type\":\"scatter\",\"xaxis\":\"x2\",\"yaxis\":\"y2\"},{\"hoverinfo\":\"skip\",\"line\":{\"color\":\"black\",\"width\":1},\"mode\":\"lines\",\"showlegend\":false,\"x\":[-0.6166867613792419,-0.6166867613792419],\"y\":[1.0,0.6],\"type\":\"scatter\",\"xaxis\":\"x2\",\"yaxis\":\"y2\"},{\"hoverinfo\":\"skip\",\"line\":{\"color\":\"black\",\"width\":1},\"mode\":\"lines\",\"showlegend\":false,\"x\":[-0.5674746036529541,-0.5674746036529541],\"y\":[1.0,1.9],\"type\":\"scatter\",\"xaxis\":\"x2\",\"yaxis\":\"y2\"},{\"hoverinfo\":\"skip\",\"line\":{\"color\":\"black\",\"width\":1},\"mode\":\"lines\",\"showlegend\":false,\"x\":[-0.5481462478637695,-0.5481462478637695],\"y\":[1.0,0.15],\"type\":\"scatter\",\"xaxis\":\"x2\",\"yaxis\":\"y2\"},{\"hoverinfo\":\"skip\",\"line\":{\"color\":\"black\",\"width\":1},\"mode\":\"lines\",\"showlegend\":false,\"x\":[-0.5312077403068542,-0.5312077403068542],\"y\":[1.0,1.6],\"type\":\"scatter\",\"xaxis\":\"x2\",\"yaxis\":\"y2\"},{\"hoverinfo\":\"skip\",\"line\":{\"color\":\"black\",\"width\":1},\"mode\":\"lines\",\"showlegend\":false,\"x\":[-0.5212933421134949,-0.5212933421134949],\"y\":[1.0,0.45],\"type\":\"scatter\",\"xaxis\":\"x2\",\"yaxis\":\"y2\"},{\"hoverinfo\":\"skip\",\"line\":{\"color\":\"black\",\"width\":1},\"mode\":\"lines\",\"showlegend\":false,\"x\":[-0.5184048414230347,-0.5184048414230347],\"y\":[1.0,1.3],\"type\":\"scatter\",\"xaxis\":\"x2\",\"yaxis\":\"y2\"},{\"hoverinfo\":\"skip\",\"line\":{\"color\":\"black\",\"width\":1},\"mode\":\"lines\",\"showlegend\":false,\"x\":[-0.493359237909317,-0.493359237909317],\"y\":[1.0,0.75],\"type\":\"scatter\",\"xaxis\":\"x2\",\"yaxis\":\"y2\"},{\"hoverinfo\":\"skip\",\"line\":{\"color\":\"black\",\"width\":1},\"mode\":\"lines\",\"showlegend\":false,\"x\":[-0.4913902282714844,-0.4913902282714844],\"y\":[1.0,1.75],\"type\":\"scatter\",\"xaxis\":\"x2\",\"yaxis\":\"y2\"},{\"hoverinfo\":\"skip\",\"line\":{\"color\":\"black\",\"width\":1},\"mode\":\"lines\",\"showlegend\":false,\"x\":[-0.4737701117992401,-0.4737701117992401],\"y\":[1.0,0.3],\"type\":\"scatter\",\"xaxis\":\"x2\",\"yaxis\":\"y2\"},{\"hoverinfo\":\"skip\",\"line\":{\"color\":\"black\",\"width\":1},\"mode\":\"lines\",\"showlegend\":false,\"x\":[0.5492463111877441,0.5492463111877441],\"y\":[1.0,1.45],\"type\":\"scatter\",\"xaxis\":\"x2\",\"yaxis\":\"y2\"},{\"hoverinfo\":\"skip\",\"line\":{\"color\":\"black\",\"width\":1},\"mode\":\"lines\",\"showlegend\":false,\"x\":[0.5493068099021912,0.5493068099021912],\"y\":[1.0,0.6],\"type\":\"scatter\",\"xaxis\":\"x2\",\"yaxis\":\"y2\"},{\"hoverinfo\":\"skip\",\"line\":{\"color\":\"black\",\"width\":1},\"mode\":\"lines\",\"showlegend\":false,\"x\":[0.5591437816619873,0.5591437816619873],\"y\":[1.0,1.9],\"type\":\"scatter\",\"xaxis\":\"x2\",\"yaxis\":\"y2\"},{\"hoverinfo\":\"skip\",\"line\":{\"color\":\"black\",\"width\":1},\"mode\":\"lines\",\"showlegend\":false,\"x\":[0.5792625546455383,0.5792625546455383],\"y\":[1.0,0.15],\"type\":\"scatter\",\"xaxis\":\"x2\",\"yaxis\":\"y2\"},{\"hoverinfo\":\"skip\",\"line\":{\"color\":\"black\",\"width\":1},\"mode\":\"lines\",\"showlegend\":false,\"x\":[0.601420521736145,0.601420521736145],\"y\":[1.0,1.6],\"type\":\"scatter\",\"xaxis\":\"x2\",\"yaxis\":\"y2\"},{\"hoverinfo\":\"skip\",\"line\":{\"color\":\"black\",\"width\":1},\"mode\":\"lines\",\"showlegend\":false,\"x\":[0.6325435638427734,0.6325435638427734],\"y\":[1.0,0.45],\"type\":\"scatter\",\"xaxis\":\"x2\",\"yaxis\":\"y2\"},{\"hoverinfo\":\"skip\",\"line\":{\"color\":\"black\",\"width\":1},\"mode\":\"lines\",\"showlegend\":false,\"x\":[0.6378827691078186,0.6378827691078186],\"y\":[1.0,1.3],\"type\":\"scatter\",\"xaxis\":\"x2\",\"yaxis\":\"y2\"},{\"hoverinfo\":\"skip\",\"line\":{\"color\":\"black\",\"width\":1},\"mode\":\"lines\",\"showlegend\":false,\"x\":[0.6586019396781921,0.6586019396781921],\"y\":[1.0,0.75],\"type\":\"scatter\",\"xaxis\":\"x2\",\"yaxis\":\"y2\"},{\"hoverinfo\":\"skip\",\"line\":{\"color\":\"black\",\"width\":1},\"mode\":\"lines\",\"showlegend\":false,\"x\":[0.6782913208007812,0.6782913208007812],\"y\":[1.0,1.75],\"type\":\"scatter\",\"xaxis\":\"x2\",\"yaxis\":\"y2\"},{\"hoverinfo\":\"skip\",\"line\":{\"color\":\"black\",\"width\":1},\"mode\":\"lines\",\"showlegend\":false,\"x\":[0.7118666768074036,0.7118666768074036],\"y\":[1.0,0.3],\"type\":\"scatter\",\"xaxis\":\"x2\",\"yaxis\":\"y2\"},{\"hoverinfo\":\"skip\",\"marker\":{\"color\":\"limegreen\"},\"opacity\":0.7,\"showlegend\":false,\"width\":0.03720836639404297,\"x\":[-0.6601925492286682,-0.6136820316314697,-0.567171573638916,-0.5206611156463623,-0.4741505980491638,-0.4276401400566101,-0.3811296224594116,-0.3346191644668579,-0.2881087064743042,-0.2415982037782669,-0.1950877159833908,-0.1485772430896759,-0.1020667552947998,-0.055556271225214005,-0.009045790880918503,0.037464689463377,0.0839751660823822,0.1304856538772583,0.1769961416721344,0.2235066145658493,0.2700170874595642,0.3165276050567627,0.3630380630493164,0.4095485210418701,0.4560590386390686,0.5025694966316223,0.5490800142288208,0.5955904722213745,0.6421009302139282,0.6886114478111267],\"y\":[0.04285714285714286,0.04285714285714286,0.08571428571428572,0.12857142857142856,0.21428571428571427,0.3,0.2571428571428571,0.3857142857142857,0.3,0.5571428571428572,0.5142857142857142,0.5142857142857142,0.4714285714285715,0.9,0.6428571428571429,0.6857142857142857,0.8142857142857143,0.6428571428571429,0.6428571428571429,0.3857142857142857,0.2571428571428571,0.5142857142857142,0.12857142857142856,0.17142857142857143,0.04285714285714286,0.17142857142857143,0.17142857142857143,0.08571428571428572,0.12857142857142856,0.08571428571428572],\"type\":\"bar\",\"xaxis\":\"x2\",\"yaxis\":\"y2\"}],                        {\"template\":{\"data\":{\"histogram2dcontour\":[{\"type\":\"histogram2dcontour\",\"colorbar\":{\"outlinewidth\":0,\"ticks\":\"\"},\"colorscale\":[[0.0,\"#0d0887\"],[0.1111111111111111,\"#46039f\"],[0.2222222222222222,\"#7201a8\"],[0.3333333333333333,\"#9c179e\"],[0.4444444444444444,\"#bd3786\"],[0.5555555555555556,\"#d8576b\"],[0.6666666666666666,\"#ed7953\"],[0.7777777777777778,\"#fb9f3a\"],[0.8888888888888888,\"#fdca26\"],[1.0,\"#f0f921\"]]}],\"choropleth\":[{\"type\":\"choropleth\",\"colorbar\":{\"outlinewidth\":0,\"ticks\":\"\"}}],\"histogram2d\":[{\"type\":\"histogram2d\",\"colorbar\":{\"outlinewidth\":0,\"ticks\":\"\"},\"colorscale\":[[0.0,\"#0d0887\"],[0.1111111111111111,\"#46039f\"],[0.2222222222222222,\"#7201a8\"],[0.3333333333333333,\"#9c179e\"],[0.4444444444444444,\"#bd3786\"],[0.5555555555555556,\"#d8576b\"],[0.6666666666666666,\"#ed7953\"],[0.7777777777777778,\"#fb9f3a\"],[0.8888888888888888,\"#fdca26\"],[1.0,\"#f0f921\"]]}],\"heatmap\":[{\"type\":\"heatmap\",\"colorbar\":{\"outlinewidth\":0,\"ticks\":\"\"},\"colorscale\":[[0.0,\"#0d0887\"],[0.1111111111111111,\"#46039f\"],[0.2222222222222222,\"#7201a8\"],[0.3333333333333333,\"#9c179e\"],[0.4444444444444444,\"#bd3786\"],[0.5555555555555556,\"#d8576b\"],[0.6666666666666666,\"#ed7953\"],[0.7777777777777778,\"#fb9f3a\"],[0.8888888888888888,\"#fdca26\"],[1.0,\"#f0f921\"]]}],\"heatmapgl\":[{\"type\":\"heatmapgl\",\"colorbar\":{\"outlinewidth\":0,\"ticks\":\"\"},\"colorscale\":[[0.0,\"#0d0887\"],[0.1111111111111111,\"#46039f\"],[0.2222222222222222,\"#7201a8\"],[0.3333333333333333,\"#9c179e\"],[0.4444444444444444,\"#bd3786\"],[0.5555555555555556,\"#d8576b\"],[0.6666666666666666,\"#ed7953\"],[0.7777777777777778,\"#fb9f3a\"],[0.8888888888888888,\"#fdca26\"],[1.0,\"#f0f921\"]]}],\"contourcarpet\":[{\"type\":\"contourcarpet\",\"colorbar\":{\"outlinewidth\":0,\"ticks\":\"\"}}],\"contour\":[{\"type\":\"contour\",\"colorbar\":{\"outlinewidth\":0,\"ticks\":\"\"},\"colorscale\":[[0.0,\"#0d0887\"],[0.1111111111111111,\"#46039f\"],[0.2222222222222222,\"#7201a8\"],[0.3333333333333333,\"#9c179e\"],[0.4444444444444444,\"#bd3786\"],[0.5555555555555556,\"#d8576b\"],[0.6666666666666666,\"#ed7953\"],[0.7777777777777778,\"#fb9f3a\"],[0.8888888888888888,\"#fdca26\"],[1.0,\"#f0f921\"]]}],\"surface\":[{\"type\":\"surface\",\"colorbar\":{\"outlinewidth\":0,\"ticks\":\"\"},\"colorscale\":[[0.0,\"#0d0887\"],[0.1111111111111111,\"#46039f\"],[0.2222222222222222,\"#7201a8\"],[0.3333333333333333,\"#9c179e\"],[0.4444444444444444,\"#bd3786\"],[0.5555555555555556,\"#d8576b\"],[0.6666666666666666,\"#ed7953\"],[0.7777777777777778,\"#fb9f3a\"],[0.8888888888888888,\"#fdca26\"],[1.0,\"#f0f921\"]]}],\"mesh3d\":[{\"type\":\"mesh3d\",\"colorbar\":{\"outlinewidth\":0,\"ticks\":\"\"}}],\"scatter\":[{\"fillpattern\":{\"fillmode\":\"overlay\",\"size\":10,\"solidity\":0.2},\"type\":\"scatter\"}],\"parcoords\":[{\"type\":\"parcoords\",\"line\":{\"colorbar\":{\"outlinewidth\":0,\"ticks\":\"\"}}}],\"scatterpolargl\":[{\"type\":\"scatterpolargl\",\"marker\":{\"colorbar\":{\"outlinewidth\":0,\"ticks\":\"\"}}}],\"bar\":[{\"error_x\":{\"color\":\"#2a3f5f\"},\"error_y\":{\"color\":\"#2a3f5f\"},\"marker\":{\"line\":{\"color\":\"#E5ECF6\",\"width\":0.5},\"pattern\":{\"fillmode\":\"overlay\",\"size\":10,\"solidity\":0.2}},\"type\":\"bar\"}],\"scattergeo\":[{\"type\":\"scattergeo\",\"marker\":{\"colorbar\":{\"outlinewidth\":0,\"ticks\":\"\"}}}],\"scatterpolar\":[{\"type\":\"scatterpolar\",\"marker\":{\"colorbar\":{\"outlinewidth\":0,\"ticks\":\"\"}}}],\"histogram\":[{\"marker\":{\"pattern\":{\"fillmode\":\"overlay\",\"size\":10,\"solidity\":0.2}},\"type\":\"histogram\"}],\"scattergl\":[{\"type\":\"scattergl\",\"marker\":{\"colorbar\":{\"outlinewidth\":0,\"ticks\":\"\"}}}],\"scatter3d\":[{\"type\":\"scatter3d\",\"line\":{\"colorbar\":{\"outlinewidth\":0,\"ticks\":\"\"}},\"marker\":{\"colorbar\":{\"outlinewidth\":0,\"ticks\":\"\"}}}],\"scattermapbox\":[{\"type\":\"scattermapbox\",\"marker\":{\"colorbar\":{\"outlinewidth\":0,\"ticks\":\"\"}}}],\"scatterternary\":[{\"type\":\"scatterternary\",\"marker\":{\"colorbar\":{\"outlinewidth\":0,\"ticks\":\"\"}}}],\"scattercarpet\":[{\"type\":\"scattercarpet\",\"marker\":{\"colorbar\":{\"outlinewidth\":0,\"ticks\":\"\"}}}],\"carpet\":[{\"aaxis\":{\"endlinecolor\":\"#2a3f5f\",\"gridcolor\":\"white\",\"linecolor\":\"white\",\"minorgridcolor\":\"white\",\"startlinecolor\":\"#2a3f5f\"},\"baxis\":{\"endlinecolor\":\"#2a3f5f\",\"gridcolor\":\"white\",\"linecolor\":\"white\",\"minorgridcolor\":\"white\",\"startlinecolor\":\"#2a3f5f\"},\"type\":\"carpet\"}],\"table\":[{\"cells\":{\"fill\":{\"color\":\"#EBF0F8\"},\"line\":{\"color\":\"white\"}},\"header\":{\"fill\":{\"color\":\"#C8D4E3\"},\"line\":{\"color\":\"white\"}},\"type\":\"table\"}],\"barpolar\":[{\"marker\":{\"line\":{\"color\":\"#E5ECF6\",\"width\":0.5},\"pattern\":{\"fillmode\":\"overlay\",\"size\":10,\"solidity\":0.2}},\"type\":\"barpolar\"}],\"pie\":[{\"automargin\":true,\"type\":\"pie\"}]},\"layout\":{\"autotypenumbers\":\"strict\",\"colorway\":[\"#636efa\",\"#EF553B\",\"#00cc96\",\"#ab63fa\",\"#FFA15A\",\"#19d3f3\",\"#FF6692\",\"#B6E880\",\"#FF97FF\",\"#FECB52\"],\"font\":{\"color\":\"#2a3f5f\"},\"hovermode\":\"closest\",\"hoverlabel\":{\"align\":\"left\"},\"paper_bgcolor\":\"white\",\"plot_bgcolor\":\"#E5ECF6\",\"polar\":{\"bgcolor\":\"#E5ECF6\",\"angularaxis\":{\"gridcolor\":\"white\",\"linecolor\":\"white\",\"ticks\":\"\"},\"radialaxis\":{\"gridcolor\":\"white\",\"linecolor\":\"white\",\"ticks\":\"\"}},\"ternary\":{\"bgcolor\":\"#E5ECF6\",\"aaxis\":{\"gridcolor\":\"white\",\"linecolor\":\"white\",\"ticks\":\"\"},\"baxis\":{\"gridcolor\":\"white\",\"linecolor\":\"white\",\"ticks\":\"\"},\"caxis\":{\"gridcolor\":\"white\",\"linecolor\":\"white\",\"ticks\":\"\"}},\"coloraxis\":{\"colorbar\":{\"outlinewidth\":0,\"ticks\":\"\"}},\"colorscale\":{\"sequential\":[[0.0,\"#0d0887\"],[0.1111111111111111,\"#46039f\"],[0.2222222222222222,\"#7201a8\"],[0.3333333333333333,\"#9c179e\"],[0.4444444444444444,\"#bd3786\"],[0.5555555555555556,\"#d8576b\"],[0.6666666666666666,\"#ed7953\"],[0.7777777777777778,\"#fb9f3a\"],[0.8888888888888888,\"#fdca26\"],[1.0,\"#f0f921\"]],\"sequentialminus\":[[0.0,\"#0d0887\"],[0.1111111111111111,\"#46039f\"],[0.2222222222222222,\"#7201a8\"],[0.3333333333333333,\"#9c179e\"],[0.4444444444444444,\"#bd3786\"],[0.5555555555555556,\"#d8576b\"],[0.6666666666666666,\"#ed7953\"],[0.7777777777777778,\"#fb9f3a\"],[0.8888888888888888,\"#fdca26\"],[1.0,\"#f0f921\"]],\"diverging\":[[0,\"#8e0152\"],[0.1,\"#c51b7d\"],[0.2,\"#de77ae\"],[0.3,\"#f1b6da\"],[0.4,\"#fde0ef\"],[0.5,\"#f7f7f7\"],[0.6,\"#e6f5d0\"],[0.7,\"#b8e186\"],[0.8,\"#7fbc41\"],[0.9,\"#4d9221\"],[1,\"#276419\"]]},\"xaxis\":{\"gridcolor\":\"white\",\"linecolor\":\"white\",\"ticks\":\"\",\"title\":{\"standoff\":15},\"zerolinecolor\":\"white\",\"automargin\":true,\"zerolinewidth\":2},\"yaxis\":{\"gridcolor\":\"white\",\"linecolor\":\"white\",\"ticks\":\"\",\"title\":{\"standoff\":15},\"zerolinecolor\":\"white\",\"automargin\":true,\"zerolinewidth\":2},\"scene\":{\"xaxis\":{\"backgroundcolor\":\"#E5ECF6\",\"gridcolor\":\"white\",\"linecolor\":\"white\",\"showbackground\":true,\"ticks\":\"\",\"zerolinecolor\":\"white\",\"gridwidth\":2},\"yaxis\":{\"backgroundcolor\":\"#E5ECF6\",\"gridcolor\":\"white\",\"linecolor\":\"white\",\"showbackground\":true,\"ticks\":\"\",\"zerolinecolor\":\"white\",\"gridwidth\":2},\"zaxis\":{\"backgroundcolor\":\"#E5ECF6\",\"gridcolor\":\"white\",\"linecolor\":\"white\",\"showbackground\":true,\"ticks\":\"\",\"zerolinecolor\":\"white\",\"gridwidth\":2}},\"shapedefaults\":{\"line\":{\"color\":\"#2a3f5f\"}},\"annotationdefaults\":{\"arrowcolor\":\"#2a3f5f\",\"arrowhead\":0,\"arrowwidth\":1},\"geo\":{\"bgcolor\":\"white\",\"landcolor\":\"#E5ECF6\",\"subunitcolor\":\"white\",\"showland\":true,\"showlakes\":true,\"lakecolor\":\"white\"},\"title\":{\"x\":0.05},\"mapbox\":{\"style\":\"light\"}}},\"xaxis\":{\"anchor\":\"y\",\"domain\":[0.0,1.0],\"range\":[-1.1,1.1]},\"yaxis\":{\"anchor\":\"x\",\"domain\":[0.55,1.0],\"showticklabels\":false,\"range\":[0,2.5]},\"xaxis2\":{\"anchor\":\"y2\",\"domain\":[0.0,1.0],\"range\":[-1.1,1.1]},\"yaxis2\":{\"anchor\":\"x2\",\"domain\":[0.0,0.45],\"showticklabels\":false,\"range\":[0,2.5]},\"annotations\":[{\"font\":{\"size\":16},\"showarrow\":false,\"text\":\"PC4 Cosine Similarity\",\"x\":0.5,\"xanchor\":\"center\",\"xref\":\"paper\",\"y\":1.0,\"yanchor\":\"bottom\",\"yref\":\"paper\"},{\"font\":{\"size\":16},\"showarrow\":false,\"text\":\"PC4 Projection\",\"x\":0.5,\"xanchor\":\"center\",\"xref\":\"paper\",\"y\":0.45,\"yanchor\":\"bottom\",\"yref\":\"paper\"},{\"bgcolor\":\"rgba(255, 255, 255, 0.9)\",\"bordercolor\":\"black\",\"borderwidth\":1,\"font\":{\"color\":\"black\",\"size\":10},\"showarrow\":false,\"text\":\"Open Ended\",\"x\":-0.6962244510650635,\"xref\":\"x\",\"y\":1.45,\"yref\":\"y\"},{\"bgcolor\":\"rgba(255, 255, 255, 0.9)\",\"bordercolor\":\"black\",\"borderwidth\":1,\"font\":{\"color\":\"black\",\"size\":10},\"showarrow\":false,\"text\":\"Circumspect\",\"x\":-0.6313509345054626,\"xref\":\"x\",\"y\":0.6,\"yref\":\"y\"},{\"bgcolor\":\"rgba(255, 255, 255, 0.9)\",\"bordercolor\":\"black\",\"borderwidth\":1,\"font\":{\"color\":\"black\",\"size\":10},\"showarrow\":false,\"text\":\"Cautious\",\"x\":-0.5885194540023804,\"xref\":\"x\",\"y\":1.9,\"yref\":\"y\"},{\"bgcolor\":\"rgba(255, 255, 255, 0.9)\",\"bordercolor\":\"black\",\"borderwidth\":1,\"font\":{\"color\":\"black\",\"size\":10},\"showarrow\":false,\"text\":\"Relativist\",\"x\":-0.5472889542579651,\"xref\":\"x\",\"y\":0.15,\"yref\":\"y\"},{\"bgcolor\":\"rgba(255, 255, 255, 0.9)\",\"bordercolor\":\"black\",\"borderwidth\":1,\"font\":{\"color\":\"black\",\"size\":10},\"showarrow\":false,\"text\":\"Understated\",\"x\":-0.5282069444656372,\"xref\":\"x\",\"y\":1.6,\"yref\":\"y\"},{\"bgcolor\":\"rgba(255, 255, 255, 0.9)\",\"bordercolor\":\"black\",\"borderwidth\":1,\"font\":{\"color\":\"black\",\"size\":10},\"showarrow\":false,\"text\":\"Conceptual\",\"x\":-0.5071231722831726,\"xref\":\"x\",\"y\":0.45,\"yref\":\"y\"},{\"bgcolor\":\"rgba(255, 255, 255, 0.9)\",\"bordercolor\":\"black\",\"borderwidth\":1,\"font\":{\"color\":\"black\",\"size\":10},\"showarrow\":false,\"text\":\"Theoretical\",\"x\":-0.46702632308006287,\"xref\":\"x\",\"y\":1.3,\"yref\":\"y\"},{\"bgcolor\":\"rgba(255, 255, 255, 0.9)\",\"bordercolor\":\"black\",\"borderwidth\":1,\"font\":{\"color\":\"black\",\"size\":10},\"showarrow\":false,\"text\":\"Abstract\",\"x\":-0.46485573053359985,\"xref\":\"x\",\"y\":0.75,\"yref\":\"y\"},{\"bgcolor\":\"rgba(255, 255, 255, 0.9)\",\"bordercolor\":\"black\",\"borderwidth\":1,\"font\":{\"color\":\"black\",\"size\":10},\"showarrow\":false,\"text\":\"Paradoxical\",\"x\":-0.4630860984325409,\"xref\":\"x\",\"y\":1.75,\"yref\":\"y\"},{\"bgcolor\":\"rgba(255, 255, 255, 0.9)\",\"bordercolor\":\"black\",\"borderwidth\":1,\"font\":{\"color\":\"black\",\"size\":10},\"showarrow\":false,\"text\":\"Introverted\",\"x\":-0.45177483558654785,\"xref\":\"x\",\"y\":0.3,\"yref\":\"y\"},{\"bgcolor\":\"rgba(255, 255, 255, 0.9)\",\"bordercolor\":\"black\",\"borderwidth\":1,\"font\":{\"color\":\"black\",\"size\":10},\"showarrow\":false,\"text\":\"Dominant\",\"x\":0.5138336420059204,\"xref\":\"x\",\"y\":1.45,\"yref\":\"y\"},{\"bgcolor\":\"rgba(255, 255, 255, 0.9)\",\"bordercolor\":\"black\",\"borderwidth\":1,\"font\":{\"color\":\"black\",\"size\":10},\"showarrow\":false,\"text\":\"Problem Solving\",\"x\":0.5193227529525757,\"xref\":\"x\",\"y\":0.6,\"yref\":\"y\"},{\"bgcolor\":\"rgba(255, 255, 255, 0.9)\",\"bordercolor\":\"black\",\"borderwidth\":1,\"font\":{\"color\":\"black\",\"size\":10},\"showarrow\":false,\"text\":\"Passionate\",\"x\":0.5335622429847717,\"xref\":\"x\",\"y\":1.9,\"yref\":\"y\"},{\"bgcolor\":\"rgba(255, 255, 255, 0.9)\",\"bordercolor\":\"black\",\"borderwidth\":1,\"font\":{\"color\":\"black\",\"size\":10},\"showarrow\":false,\"text\":\"Practical\",\"x\":0.5347539186477661,\"xref\":\"x\",\"y\":0.15,\"yref\":\"y\"},{\"bgcolor\":\"rgba(255, 255, 255, 0.9)\",\"bordercolor\":\"black\",\"borderwidth\":1,\"font\":{\"color\":\"black\",\"size\":10},\"showarrow\":false,\"text\":\"Prescriptive\",\"x\":0.5662949085235596,\"xref\":\"x\",\"y\":1.6,\"yref\":\"y\"},{\"bgcolor\":\"rgba(255, 255, 255, 0.9)\",\"bordercolor\":\"black\",\"borderwidth\":1,\"font\":{\"color\":\"black\",\"size\":10},\"showarrow\":false,\"text\":\"Confident\",\"x\":0.5664411783218384,\"xref\":\"x\",\"y\":0.45,\"yref\":\"y\"},{\"bgcolor\":\"rgba(255, 255, 255, 0.9)\",\"bordercolor\":\"black\",\"borderwidth\":1,\"font\":{\"color\":\"black\",\"size\":10},\"showarrow\":false,\"text\":\"Extroverted\",\"x\":0.6063625812530518,\"xref\":\"x\",\"y\":1.3,\"yref\":\"y\"},{\"bgcolor\":\"rgba(255, 255, 255, 0.9)\",\"bordercolor\":\"black\",\"borderwidth\":1,\"font\":{\"color\":\"black\",\"size\":10},\"showarrow\":false,\"text\":\"Assertive\",\"x\":0.6697848439216614,\"xref\":\"x\",\"y\":0.75,\"yref\":\"y\"},{\"bgcolor\":\"rgba(255, 255, 255, 0.9)\",\"bordercolor\":\"black\",\"borderwidth\":1,\"font\":{\"color\":\"black\",\"size\":10},\"showarrow\":false,\"text\":\"Closure Seeking\",\"x\":0.6925951838493347,\"xref\":\"x\",\"y\":1.75,\"yref\":\"y\"},{\"bgcolor\":\"rgba(255, 255, 255, 0.9)\",\"bordercolor\":\"black\",\"borderwidth\":1,\"font\":{\"color\":\"black\",\"size\":10},\"showarrow\":false,\"text\":\"Decisive\",\"x\":0.6974301934242249,\"xref\":\"x\",\"y\":0.3,\"yref\":\"y\"},{\"bgcolor\":\"rgba(255, 255, 255, 0.9)\",\"bordercolor\":\"red\",\"borderwidth\":1,\"font\":{\"color\":\"red\",\"size\":14},\"showarrow\":false,\"text\":\"Assistant\",\"x\":-0.006996363867074251,\"xref\":\"x\",\"y\":2,\"yref\":\"y\"},{\"bgcolor\":\"rgba(255, 255, 255, 0.9)\",\"bordercolor\":\"black\",\"borderwidth\":1,\"font\":{\"color\":\"black\",\"size\":10},\"showarrow\":false,\"text\":\"Open Ended\",\"x\":-0.6834477782249451,\"xref\":\"x2\",\"y\":1.45,\"yref\":\"y2\"},{\"bgcolor\":\"rgba(255, 255, 255, 0.9)\",\"bordercolor\":\"black\",\"borderwidth\":1,\"font\":{\"color\":\"black\",\"size\":10},\"showarrow\":false,\"text\":\"Circumspect\",\"x\":-0.6166867613792419,\"xref\":\"x2\",\"y\":0.6,\"yref\":\"y2\"},{\"bgcolor\":\"rgba(255, 255, 255, 0.9)\",\"bordercolor\":\"black\",\"borderwidth\":1,\"font\":{\"color\":\"black\",\"size\":10},\"showarrow\":false,\"text\":\"Relativist\",\"x\":-0.5674746036529541,\"xref\":\"x2\",\"y\":1.9,\"yref\":\"y2\"},{\"bgcolor\":\"rgba(255, 255, 255, 0.9)\",\"bordercolor\":\"black\",\"borderwidth\":1,\"font\":{\"color\":\"black\",\"size\":10},\"showarrow\":false,\"text\":\"Cautious\",\"x\":-0.5481462478637695,\"xref\":\"x2\",\"y\":0.15,\"yref\":\"y2\"},{\"bgcolor\":\"rgba(255, 255, 255, 0.9)\",\"bordercolor\":\"black\",\"borderwidth\":1,\"font\":{\"color\":\"black\",\"size\":10},\"showarrow\":false,\"text\":\"Conceptual\",\"x\":-0.5312077403068542,\"xref\":\"x2\",\"y\":1.6,\"yref\":\"y2\"},{\"bgcolor\":\"rgba(255, 255, 255, 0.9)\",\"bordercolor\":\"black\",\"borderwidth\":1,\"font\":{\"color\":\"black\",\"size\":10},\"showarrow\":false,\"text\":\"Paradoxical\",\"x\":-0.5212933421134949,\"xref\":\"x2\",\"y\":0.45,\"yref\":\"y2\"},{\"bgcolor\":\"rgba(255, 255, 255, 0.9)\",\"bordercolor\":\"black\",\"borderwidth\":1,\"font\":{\"color\":\"black\",\"size\":10},\"showarrow\":false,\"text\":\"Theoretical\",\"x\":-0.5184048414230347,\"xref\":\"x2\",\"y\":1.3,\"yref\":\"y2\"},{\"bgcolor\":\"rgba(255, 255, 255, 0.9)\",\"bordercolor\":\"black\",\"borderwidth\":1,\"font\":{\"color\":\"black\",\"size\":10},\"showarrow\":false,\"text\":\"Deconstructionist\",\"x\":-0.493359237909317,\"xref\":\"x2\",\"y\":0.75,\"yref\":\"y2\"},{\"bgcolor\":\"rgba(255, 255, 255, 0.9)\",\"bordercolor\":\"black\",\"borderwidth\":1,\"font\":{\"color\":\"black\",\"size\":10},\"showarrow\":false,\"text\":\"Abstract\",\"x\":-0.4913902282714844,\"xref\":\"x2\",\"y\":1.75,\"yref\":\"y2\"},{\"bgcolor\":\"rgba(255, 255, 255, 0.9)\",\"bordercolor\":\"black\",\"borderwidth\":1,\"font\":{\"color\":\"black\",\"size\":10},\"showarrow\":false,\"text\":\"Understated\",\"x\":-0.4737701117992401,\"xref\":\"x2\",\"y\":0.3,\"yref\":\"y2\"},{\"bgcolor\":\"rgba(255, 255, 255, 0.9)\",\"bordercolor\":\"black\",\"borderwidth\":1,\"font\":{\"color\":\"black\",\"size\":10},\"showarrow\":false,\"text\":\"Sassy\",\"x\":0.5492463111877441,\"xref\":\"x2\",\"y\":1.45,\"yref\":\"y2\"},{\"bgcolor\":\"rgba(255, 255, 255, 0.9)\",\"bordercolor\":\"black\",\"borderwidth\":1,\"font\":{\"color\":\"black\",\"size\":10},\"showarrow\":false,\"text\":\"Prescriptive\",\"x\":0.5493068099021912,\"xref\":\"x2\",\"y\":0.6,\"yref\":\"y2\"},{\"bgcolor\":\"rgba(255, 255, 255, 0.9)\",\"bordercolor\":\"black\",\"borderwidth\":1,\"font\":{\"color\":\"black\",\"size\":10},\"showarrow\":false,\"text\":\"Animated\",\"x\":0.5591437816619873,\"xref\":\"x2\",\"y\":1.9,\"yref\":\"y2\"},{\"bgcolor\":\"rgba(255, 255, 255, 0.9)\",\"bordercolor\":\"black\",\"borderwidth\":1,\"font\":{\"color\":\"black\",\"size\":10},\"showarrow\":false,\"text\":\"Confident\",\"x\":0.5792625546455383,\"xref\":\"x2\",\"y\":0.15,\"yref\":\"y2\"},{\"bgcolor\":\"rgba(255, 255, 255, 0.9)\",\"bordercolor\":\"black\",\"borderwidth\":1,\"font\":{\"color\":\"black\",\"size\":10},\"showarrow\":false,\"text\":\"Zealous\",\"x\":0.601420521736145,\"xref\":\"x2\",\"y\":1.6,\"yref\":\"y2\"},{\"bgcolor\":\"rgba(255, 255, 255, 0.9)\",\"bordercolor\":\"black\",\"borderwidth\":1,\"font\":{\"color\":\"black\",\"size\":10},\"showarrow\":false,\"text\":\"Closure Seeking\",\"x\":0.6325435638427734,\"xref\":\"x2\",\"y\":0.45,\"yref\":\"y2\"},{\"bgcolor\":\"rgba(255, 255, 255, 0.9)\",\"bordercolor\":\"black\",\"borderwidth\":1,\"font\":{\"color\":\"black\",\"size\":10},\"showarrow\":false,\"text\":\"Passionate\",\"x\":0.6378827691078186,\"xref\":\"x2\",\"y\":1.3,\"yref\":\"y2\"},{\"bgcolor\":\"rgba(255, 255, 255, 0.9)\",\"bordercolor\":\"black\",\"borderwidth\":1,\"font\":{\"color\":\"black\",\"size\":10},\"showarrow\":false,\"text\":\"Extroverted\",\"x\":0.6586019396781921,\"xref\":\"x2\",\"y\":0.75,\"yref\":\"y2\"},{\"bgcolor\":\"rgba(255, 255, 255, 0.9)\",\"bordercolor\":\"black\",\"borderwidth\":1,\"font\":{\"color\":\"black\",\"size\":10},\"showarrow\":false,\"text\":\"Decisive\",\"x\":0.6782913208007812,\"xref\":\"x2\",\"y\":1.75,\"yref\":\"y2\"},{\"bgcolor\":\"rgba(255, 255, 255, 0.9)\",\"bordercolor\":\"black\",\"borderwidth\":1,\"font\":{\"color\":\"black\",\"size\":10},\"showarrow\":false,\"text\":\"Assertive\",\"x\":0.7118666768074036,\"xref\":\"x2\",\"y\":0.3,\"yref\":\"y2\"},{\"bgcolor\":\"rgba(255, 255, 255, 0.9)\",\"bordercolor\":\"red\",\"borderwidth\":1,\"font\":{\"color\":\"red\",\"size\":14},\"showarrow\":false,\"text\":\"Assistant\",\"x\":0.003722280263900757,\"xref\":\"x2\",\"y\":2,\"yref\":\"y2\"}],\"shapes\":[{\"line\":{\"color\":\"gray\",\"dash\":\"solid\",\"width\":1},\"opacity\":0.7,\"type\":\"line\",\"x0\":0,\"x1\":0,\"xref\":\"x\",\"y0\":0,\"y1\":1,\"yref\":\"y domain\"},{\"line\":{\"color\":\"red\",\"dash\":\"dash\",\"width\":1},\"opacity\":1.0,\"type\":\"line\",\"x0\":-0.006996363867074251,\"x1\":-0.006996363867074251,\"xref\":\"x\",\"y0\":0,\"y1\":1,\"yref\":\"y domain\"},{\"line\":{\"color\":\"gray\",\"dash\":\"solid\",\"width\":1},\"opacity\":0.7,\"type\":\"line\",\"x0\":0,\"x1\":0,\"xref\":\"x2\",\"y0\":0,\"y1\":1,\"yref\":\"y2 domain\"},{\"line\":{\"color\":\"red\",\"dash\":\"dash\",\"width\":1},\"opacity\":1.0,\"type\":\"line\",\"x0\":0.003722280263900757,\"x1\":0.003722280263900757,\"xref\":\"x2\",\"y0\":0,\"y1\":1,\"yref\":\"y2 domain\"}],\"title\":{\"subtitle\":{\"text\":\"Llama 3.3 70B, Layer 40 - Mean-Centered and L2 Normalized Vectors\"},\"font\":{\"size\":16},\"text\":\"PCA on Trait Vectors\",\"x\":0.5},\"height\":800,\"width\":1000,\"showlegend\":false},                        {\"responsive\": true}                    ).then(function(){\n",
       "                            \n",
       "var gd = document.getElementById('0a3c865a-86c4-4554-a66f-9961a5a489af');\n",
       "var x = new MutationObserver(function (mutations, observer) {{\n",
       "        var display = window.getComputedStyle(gd).display;\n",
       "        if (!display || display === 'none') {{\n",
       "            console.log([gd, 'removed!']);\n",
       "            Plotly.purge(gd);\n",
       "            observer.disconnect();\n",
       "        }}\n",
       "}});\n",
       "\n",
       "// Listen for the removal of the full notebook cells\n",
       "var notebookContainer = gd.closest('#notebook-container');\n",
       "if (notebookContainer) {{\n",
       "    x.observe(notebookContainer, {childList: true});\n",
       "}}\n",
       "\n",
       "// Listen for the clearing of the current output cell\n",
       "var outputEl = gd.closest('.output');\n",
       "if (outputEl) {{\n",
       "    x.observe(outputEl, {childList: true});\n",
       "}}\n",
       "\n",
       "                        })                };                });            </script>        </div>"
      ]
     },
     "metadata": {},
     "output_type": "display_data"
    },
    {
     "data": {
      "application/vnd.plotly.v1+json": {
       "config": {
        "plotlyServerURL": "https://plot.ly"
       },
       "data": [
        {
         "hovertemplate": "<b>%{text}</b><br>Cosine Similarity: %{x:.3f}<extra></extra>",
         "marker": {
          "color": "limegreen",
          "line": {
           "color": "black",
           "width": 1
          },
          "opacity": 1,
          "size": 8,
          "symbol": "diamond"
         },
         "mode": "markers",
         "showlegend": false,
         "text": [
          "Zealous",
          "Wry",
          "Witty",
          "Whimsical",
          "Visceral",
          "Vindictive",
          "Verbose",
          "Utilitarian",
          "Urgent",
          "Understated",
          "Transparent",
          "Theoretical",
          "Theatrical",
          "Temperamental",
          "Technical",
          "Tactful",
          "Systems Thinker",
          "Sycophantic",
          "Supportive",
          "Subversive",
          "Submissive",
          "Structuralist",
          "Stream Of Consciousness",
          "Strategic",
          "Stoic",
          "Spontaneous",
          "Speculative",
          "Specialized",
          "Solemn",
          "Socratic",
          "Serious",
          "Secular",
          "Savage",
          "Sassy",
          "Sardonic",
          "Sarcastic",
          "Romantic",
          "Ritualistic",
          "Risk Taking",
          "Rhetorical",
          "Resilient",
          "Reserved",
          "Relativist",
          "Regulatory",
          "Reductionist",
          "Reactive",
          "Rationalist",
          "Radical",
          "Quantitative",
          "Qualitative",
          "Provocative",
          "Progressive",
          "Problem Solving",
          "Proactive",
          "Principled",
          "Prescriptive",
          "Practical",
          "Poetic",
          "Pluralist",
          "Playful",
          "Philosophical",
          "Petty",
          "Pessimistic",
          "Perfectionist",
          "Pensive",
          "Pedantic",
          "Patient",
          "Passive Aggressive",
          "Passionate",
          "Paranoid",
          "Paradoxical",
          "Pacifist",
          "Optimistic",
          "Open Ended",
          "Obsessive",
          "Nurturing",
          "Nostalgic",
          "Nonchalant",
          "Nihilistic",
          "Neurotic",
          "Narrative",
          "Naive",
          "Moderate",
          "Mischievous",
          "Misanthropic",
          "Militant",
          "Meticulous",
          "Methodical",
          "Metaphorical",
          "Mercurial",
          "Melodramatic",
          "Melancholic",
          "Meditative",
          "Materialist",
          "Manipulative",
          "Manic",
          "Literal",
          "Libertarian",
          "Judgmental",
          "Irreverent",
          "Ironic",
          "Intuitive",
          "Introverted",
          "Introspective",
          "Interdisciplinary",
          "Inspirational",
          "Inquisitive",
          "Innovative",
          "Individualistic",
          "Independent",
          "Impulsive",
          "Improvisational",
          "Impatient",
          "Iconoclastic",
          "Humanistic",
          "Hostile",
          "Holistic",
          "Historical",
          "Hedonistic",
          "Grounded",
          "Gregarious",
          "Grandiose",
          "Goofy",
          "Generous",
          "Generalist",
          "Futuristic",
          "Formalist",
          "Formal",
          "Forgiving",
          "Flirty",
          "Flippant",
          "Flexible",
          "Fatalistic",
          "Factual",
          "Extroverted",
          "Experiential",
          "Existentialist",
          "Evil",
          "Ethereal",
          "Esoteric",
          "Erudite",
          "Epicurean",
          "Environmental",
          "Entertaining",
          "Enigmatic",
          "Empathetic",
          "Emotional",
          "Eloquent",
          "Elitist",
          "Egalitarian",
          "Effusive",
          "Efficient",
          "Educational",
          "Edgy",
          "Eclectic",
          "Earnest",
          "Dramatic",
          "Dominant",
          "Dogmatic",
          "Dispassionate",
          "Disorganized",
          "Diplomatic",
          "Deterministic",
          "Detached",
          "Descriptive",
          "Deontological",
          "Deferential",
          "Decisive",
          "Data Driven",
          "Cynical",
          "Curious",
          "Cryptic",
          "Cruel",
          "Critical",
          "Creative",
          "Cosmopolitan",
          "Convergent",
          "Constructivist",
          "Conscientious",
          "Confrontational",
          "Confident",
          "Condescending",
          "Concise",
          "Conciliatory",
          "Conceptual",
          "Competitive",
          "Collectivistic",
          "Collaborative",
          "Closure Seeking",
          "Circumspect",
          "Chill",
          "Charismatic",
          "Chaotic",
          "Cautious",
          "Casual",
          "Calm",
          "Callous",
          "Calculating",
          "Bombastic",
          "Blunt",
          "Bitter",
          "Big Picture",
          "Benevolent",
          "Avoidant",
          "Assertive",
          "Ascetic",
          "Artistic",
          "Arrogant",
          "Anxious",
          "Anthropocentric",
          "Animated",
          "Analytical",
          "Altruistic",
          "Agreeable",
          "Adventurous",
          "Adaptable",
          "Acerbic",
          "Accommodating",
          "Accessible",
          "Abstract"
         ],
         "type": "scatter",
         "x": [
          0.08113458752632141,
          -0.29800868034362793,
          -0.22161537408828735,
          0.10924886912107468,
          -0.03280901908874512,
          -0.07533107697963715,
          -0.19059166312217712,
          -0.27001824975013733,
          -0.10353641957044601,
          0.0836748480796814,
          -0.3803044855594635,
          -0.0025610981974750757,
          0.04832293465733528,
          -0.11253489553928375,
          -0.31660106778144836,
          0.29236075282096863,
          -0.29796120524406433,
          0.3424035608768463,
          0.07755358517169952,
          -0.25836849212646484,
          0.31062087416648865,
          -0.3091410994529724,
          -0.06274545192718506,
          -0.2563970386981964,
          0.009294883348047733,
          -0.01741604320704937,
          -0.24540741741657257,
          -0.33691373467445374,
          0.30506524443626404,
          -0.059009335935115814,
          0.25029802322387695,
          -0.3266894817352295,
          -0.29333722591400146,
          -0.3605799078941345,
          -0.20965296030044556,
          -0.17632319033145905,
          0.381573885679245,
          0.3212434649467468,
          -0.2872787117958069,
          0.12251604348421097,
          0.06518368422985077,
          0.021507397294044495,
          -0.029554620385169983,
          0.2955780625343323,
          -0.2417934387922287,
          0.09683956205844879,
          -0.34848251938819885,
          -0.2325921207666397,
          -0.42127400636672974,
          0.2968418002128601,
          -0.39432471990585327,
          -0.4100343883037567,
          -0.3610934615135193,
          -0.362064003944397,
          0.2754700481891632,
          -0.08877397328615189,
          -0.03232184424996376,
          0.1521589308977127,
          -0.2934739291667938,
          -0.0919240415096283,
          -0.008559009060263634,
          -0.015696415677666664,
          -0.2450101673603058,
          -0.13151292502880096,
          -0.05739670246839523,
          -0.0867166668176651,
          0.04929265379905701,
          0.062476884573698044,
          -0.005164892412722111,
          -0.05887869372963905,
          -0.054169509559869766,
          0.2921275198459625,
          0.2619827389717102,
          -0.17441371083259583,
          0.056245461106300354,
          0.13579581677913666,
          0.3501904606819153,
          -0.09601876139640808,
          0.010144627653062344,
          -0.12879644334316254,
          0.13787402212619781,
          0.3558819591999054,
          0.019060268998146057,
          -0.11664901673793793,
          -0.051034100353717804,
          -0.12275560200214386,
          -0.08625311404466629,
          -0.04189075157046318,
          0.10582704842090607,
          -0.050277501344680786,
          0.11389368772506714,
          -0.06134788691997528,
          0.2859240472316742,
          -0.1549181193113327,
          0.11038308590650558,
          -0.08913722634315491,
          0.19441989064216614,
          0.2900218367576599,
          -0.10464828461408615,
          -0.2814647853374481,
          -0.08884777873754501,
          -0.0391211211681366,
          0.18805252015590668,
          -0.28651976585388184,
          -0.36268001794815063,
          0.1284436732530594,
          -0.21491967141628265,
          -0.4017201066017151,
          0.022367283701896667,
          -0.13345322012901306,
          0.11400049179792404,
          0.009357692673802376,
          -0.006674146745353937,
          -0.41136500239372253,
          0.10815954208374023,
          -0.2602112591266632,
          -0.33682408928871155,
          -0.028422845527529716,
          0.07759757339954376,
          -0.2057410180568695,
          -0.11272835731506348,
          0.17049939930438995,
          -0.1084158644080162,
          -0.19479312002658844,
          -0.20068933069705963,
          -0.27804166078567505,
          -0.017757195979356766,
          0.19583722949028015,
          0.09288880228996277,
          0.10848963260650635,
          -0.12068495154380798,
          -0.18035584688186646,
          0.21985921263694763,
          -0.24411676824092865,
          -0.08877024799585342,
          -0.23642942309379578,
          -0.19310133159160614,
          -0.017550785094499588,
          0.28913769125938416,
          -0.013208623975515366,
          -0.1750514805316925,
          0.08605393767356873,
          0.028107551857829094,
          -0.10652881115674973,
          0.20249369740486145,
          0.10569292306900024,
          0.08856446295976639,
          0.08429209887981415,
          0.17884308099746704,
          -0.14268434047698975,
          -0.026729561388492584,
          0.1594914346933365,
          -0.21641764044761658,
          -0.25552549958229065,
          -0.2361537218093872,
          0.1692531555891037,
          0.13565629720687866,
          -0.074135921895504,
          0.27066314220428467,
          -0.10143314301967621,
          -0.05485204979777336,
          0.09315578639507294,
          0.20024049282073975,
          -0.17320916056632996,
          -0.1197759360074997,
          0.3690931499004364,
          0.12228135764598846,
          0.1413937509059906,
          -0.3184087574481964,
          -0.2703920900821686,
          -0.14871972799301147,
          0.1474340260028839,
          -0.16404736042022705,
          -0.3945285379886627,
          -0.22721746563911438,
          -0.2391233593225479,
          0.20755167305469513,
          -0.2253194898366928,
          -0.014027295634150505,
          -0.33321768045425415,
          0.3000897765159607,
          0.046963732689619064,
          0.15131743252277374,
          0.09673789143562317,
          0.17409533262252808,
          -0.002124809892848134,
          0.11724866181612015,
          -0.11827529221773148,
          0.2549891173839569,
          -0.15942145884037018,
          0.14602375030517578,
          -0.07910969853401184,
          -0.27948254346847534,
          -0.3807719349861145,
          -0.19418662786483765,
          0.17349538207054138,
          -0.18684512376785278,
          0.020560095086693764,
          0.1272726207971573,
          -0.32236137986183167,
          -0.17848047614097595,
          0.0951620489358902,
          0.12315920740365982,
          0.19675269722938538,
          0.1179899275302887,
          0.19992314279079437,
          0.17482002079486847,
          0.09285343438386917,
          -0.20557282865047455,
          0.3062956631183624,
          -0.09739188104867935,
          -0.4046466648578644,
          0.09817834943532944,
          0.25159430503845215,
          -0.2934805750846863,
          -0.26444435119628906,
          -0.24856430292129517,
          -0.012367590330541134,
          -0.0410119965672493,
          0.124810591340065
         ],
         "xaxis": "x",
         "y": [
          1,
          1,
          1,
          1,
          1,
          1,
          1,
          1,
          1,
          1,
          1,
          1,
          1,
          1,
          1,
          1,
          1,
          1,
          1,
          1,
          1,
          1,
          1,
          1,
          1,
          1,
          1,
          1,
          1,
          1,
          1,
          1,
          1,
          1,
          1,
          1,
          1,
          1,
          1,
          1,
          1,
          1,
          1,
          1,
          1,
          1,
          1,
          1,
          1,
          1,
          1,
          1,
          1,
          1,
          1,
          1,
          1,
          1,
          1,
          1,
          1,
          1,
          1,
          1,
          1,
          1,
          1,
          1,
          1,
          1,
          1,
          1,
          1,
          1,
          1,
          1,
          1,
          1,
          1,
          1,
          1,
          1,
          1,
          1,
          1,
          1,
          1,
          1,
          1,
          1,
          1,
          1,
          1,
          1,
          1,
          1,
          1,
          1,
          1,
          1,
          1,
          1,
          1,
          1,
          1,
          1,
          1,
          1,
          1,
          1,
          1,
          1,
          1,
          1,
          1,
          1,
          1,
          1,
          1,
          1,
          1,
          1,
          1,
          1,
          1,
          1,
          1,
          1,
          1,
          1,
          1,
          1,
          1,
          1,
          1,
          1,
          1,
          1,
          1,
          1,
          1,
          1,
          1,
          1,
          1,
          1,
          1,
          1,
          1,
          1,
          1,
          1,
          1,
          1,
          1,
          1,
          1,
          1,
          1,
          1,
          1,
          1,
          1,
          1,
          1,
          1,
          1,
          1,
          1,
          1,
          1,
          1,
          1,
          1,
          1,
          1,
          1,
          1,
          1,
          1,
          1,
          1,
          1,
          1,
          1,
          1,
          1,
          1,
          1,
          1,
          1,
          1,
          1,
          1,
          1,
          1,
          1,
          1,
          1,
          1,
          1,
          1,
          1,
          1,
          1,
          1,
          1,
          1,
          1,
          1,
          1,
          1,
          1,
          1,
          1,
          1,
          1,
          1,
          1,
          1
         ],
         "yaxis": "y"
        },
        {
         "hovertemplate": "<b>%{text}</b><br>Cosine Similarity: %{x:.3f}<extra></extra>",
         "marker": {
          "color": "limegreen",
          "line": {
           "color": "black",
           "width": 1
          },
          "opacity": 1,
          "size": 8,
          "symbol": "diamond"
         },
         "mode": "markers",
         "showlegend": false,
         "text": [
          "Universalist",
          "Traditional",
          "Spiritual",
          "Skeptical",
          "Serene",
          "Reverent",
          "Rebellious",
          "Mystical",
          "Inclusive",
          "Idealistic",
          "Humble",
          "Fundamentalist",
          "Exploratory",
          "Essentialist",
          "Divergent",
          "Deconstructionist",
          "Contrarian",
          "Contemporary",
          "Challenging",
          "Absolutist"
         ],
         "type": "scatter",
         "x": [
          0.47627291083335876,
          0.5244954824447632,
          0.4005974531173706,
          -0.6384134292602539,
          0.39909258484840393,
          0.5902993083000183,
          -0.5090678930282593,
          0.4191862642765045,
          -0.44652819633483887,
          0.49825045466423035,
          -0.4543490409851074,
          0.46062496304512024,
          -0.524368405342102,
          0.5158295631408691,
          -0.49312445521354675,
          -0.4767283499240875,
          -0.4353332221508026,
          -0.443477064371109,
          -0.6044818758964539,
          0.5730509161949158
         ],
         "xaxis": "x",
         "y": [
          1,
          1,
          1,
          1,
          1,
          1,
          1,
          1,
          1,
          1,
          1,
          1,
          1,
          1,
          1,
          1,
          1,
          1,
          1,
          1
         ],
         "yaxis": "y"
        },
        {
         "hoverinfo": "skip",
         "line": {
          "color": "black",
          "width": 1
         },
         "mode": "lines",
         "showlegend": false,
         "type": "scatter",
         "x": [
          -0.6384134292602539,
          -0.6384134292602539
         ],
         "xaxis": "x",
         "y": [
          1,
          1.45
         ],
         "yaxis": "y"
        },
        {
         "hoverinfo": "skip",
         "line": {
          "color": "black",
          "width": 1
         },
         "mode": "lines",
         "showlegend": false,
         "type": "scatter",
         "x": [
          -0.6044818758964539,
          -0.6044818758964539
         ],
         "xaxis": "x",
         "y": [
          1,
          0.6
         ],
         "yaxis": "y"
        },
        {
         "hoverinfo": "skip",
         "line": {
          "color": "black",
          "width": 1
         },
         "mode": "lines",
         "showlegend": false,
         "type": "scatter",
         "x": [
          -0.524368405342102,
          -0.524368405342102
         ],
         "xaxis": "x",
         "y": [
          1,
          1.9
         ],
         "yaxis": "y"
        },
        {
         "hoverinfo": "skip",
         "line": {
          "color": "black",
          "width": 1
         },
         "mode": "lines",
         "showlegend": false,
         "type": "scatter",
         "x": [
          -0.5090678930282593,
          -0.5090678930282593
         ],
         "xaxis": "x",
         "y": [
          1,
          0.15
         ],
         "yaxis": "y"
        },
        {
         "hoverinfo": "skip",
         "line": {
          "color": "black",
          "width": 1
         },
         "mode": "lines",
         "showlegend": false,
         "type": "scatter",
         "x": [
          -0.49312445521354675,
          -0.49312445521354675
         ],
         "xaxis": "x",
         "y": [
          1,
          1.6
         ],
         "yaxis": "y"
        },
        {
         "hoverinfo": "skip",
         "line": {
          "color": "black",
          "width": 1
         },
         "mode": "lines",
         "showlegend": false,
         "type": "scatter",
         "x": [
          -0.4767283499240875,
          -0.4767283499240875
         ],
         "xaxis": "x",
         "y": [
          1,
          0.45
         ],
         "yaxis": "y"
        },
        {
         "hoverinfo": "skip",
         "line": {
          "color": "black",
          "width": 1
         },
         "mode": "lines",
         "showlegend": false,
         "type": "scatter",
         "x": [
          -0.4543490409851074,
          -0.4543490409851074
         ],
         "xaxis": "x",
         "y": [
          1,
          1.3
         ],
         "yaxis": "y"
        },
        {
         "hoverinfo": "skip",
         "line": {
          "color": "black",
          "width": 1
         },
         "mode": "lines",
         "showlegend": false,
         "type": "scatter",
         "x": [
          -0.44652819633483887,
          -0.44652819633483887
         ],
         "xaxis": "x",
         "y": [
          1,
          0.75
         ],
         "yaxis": "y"
        },
        {
         "hoverinfo": "skip",
         "line": {
          "color": "black",
          "width": 1
         },
         "mode": "lines",
         "showlegend": false,
         "type": "scatter",
         "x": [
          -0.443477064371109,
          -0.443477064371109
         ],
         "xaxis": "x",
         "y": [
          1,
          1.75
         ],
         "yaxis": "y"
        },
        {
         "hoverinfo": "skip",
         "line": {
          "color": "black",
          "width": 1
         },
         "mode": "lines",
         "showlegend": false,
         "type": "scatter",
         "x": [
          -0.4353332221508026,
          -0.4353332221508026
         ],
         "xaxis": "x",
         "y": [
          1,
          0.3
         ],
         "yaxis": "y"
        },
        {
         "hoverinfo": "skip",
         "line": {
          "color": "black",
          "width": 1
         },
         "mode": "lines",
         "showlegend": false,
         "type": "scatter",
         "x": [
          0.39909258484840393,
          0.39909258484840393
         ],
         "xaxis": "x",
         "y": [
          1,
          1.45
         ],
         "yaxis": "y"
        },
        {
         "hoverinfo": "skip",
         "line": {
          "color": "black",
          "width": 1
         },
         "mode": "lines",
         "showlegend": false,
         "type": "scatter",
         "x": [
          0.4005974531173706,
          0.4005974531173706
         ],
         "xaxis": "x",
         "y": [
          1,
          0.6
         ],
         "yaxis": "y"
        },
        {
         "hoverinfo": "skip",
         "line": {
          "color": "black",
          "width": 1
         },
         "mode": "lines",
         "showlegend": false,
         "type": "scatter",
         "x": [
          0.4191862642765045,
          0.4191862642765045
         ],
         "xaxis": "x",
         "y": [
          1,
          1.9
         ],
         "yaxis": "y"
        },
        {
         "hoverinfo": "skip",
         "line": {
          "color": "black",
          "width": 1
         },
         "mode": "lines",
         "showlegend": false,
         "type": "scatter",
         "x": [
          0.46062496304512024,
          0.46062496304512024
         ],
         "xaxis": "x",
         "y": [
          1,
          0.15
         ],
         "yaxis": "y"
        },
        {
         "hoverinfo": "skip",
         "line": {
          "color": "black",
          "width": 1
         },
         "mode": "lines",
         "showlegend": false,
         "type": "scatter",
         "x": [
          0.47627291083335876,
          0.47627291083335876
         ],
         "xaxis": "x",
         "y": [
          1,
          1.6
         ],
         "yaxis": "y"
        },
        {
         "hoverinfo": "skip",
         "line": {
          "color": "black",
          "width": 1
         },
         "mode": "lines",
         "showlegend": false,
         "type": "scatter",
         "x": [
          0.49825045466423035,
          0.49825045466423035
         ],
         "xaxis": "x",
         "y": [
          1,
          0.45
         ],
         "yaxis": "y"
        },
        {
         "hoverinfo": "skip",
         "line": {
          "color": "black",
          "width": 1
         },
         "mode": "lines",
         "showlegend": false,
         "type": "scatter",
         "x": [
          0.5158295631408691,
          0.5158295631408691
         ],
         "xaxis": "x",
         "y": [
          1,
          1.3
         ],
         "yaxis": "y"
        },
        {
         "hoverinfo": "skip",
         "line": {
          "color": "black",
          "width": 1
         },
         "mode": "lines",
         "showlegend": false,
         "type": "scatter",
         "x": [
          0.5244954824447632,
          0.5244954824447632
         ],
         "xaxis": "x",
         "y": [
          1,
          0.75
         ],
         "yaxis": "y"
        },
        {
         "hoverinfo": "skip",
         "line": {
          "color": "black",
          "width": 1
         },
         "mode": "lines",
         "showlegend": false,
         "type": "scatter",
         "x": [
          0.5730509161949158,
          0.5730509161949158
         ],
         "xaxis": "x",
         "y": [
          1,
          1.75
         ],
         "yaxis": "y"
        },
        {
         "hoverinfo": "skip",
         "line": {
          "color": "black",
          "width": 1
         },
         "mode": "lines",
         "showlegend": false,
         "type": "scatter",
         "x": [
          0.5902993083000183,
          0.5902993083000183
         ],
         "xaxis": "x",
         "y": [
          1,
          0.3
         ],
         "yaxis": "y"
        },
        {
         "hoverinfo": "skip",
         "marker": {
          "color": "limegreen"
         },
         "opacity": 0.7,
         "showlegend": false,
         "type": "bar",
         "width": 0.032765674591064456,
         "x": [
          -0.6179348826408386,
          -0.5769777894020081,
          -0.5360206961631775,
          -0.4950636029243469,
          -0.45410650968551636,
          -0.4131494164466858,
          -0.3721923232078552,
          -0.33123522996902466,
          -0.2902781665325165,
          -0.2493210732936859,
          -0.20836396515369415,
          -0.16740688681602478,
          -0.1264497935771942,
          -0.08549270033836365,
          -0.04453560709953308,
          -0.0035785147920250893,
          0.03737857565283775,
          0.07833566516637802,
          0.11929275095462799,
          0.16024984419345856,
          0.20120693743228912,
          0.24216404557228088,
          0.28312110900878906,
          0.32407820224761963,
          0.3650352954864502,
          0.40599238872528076,
          0.44694948196411133,
          0.4879065752029419,
          0.5288636684417725,
          0.569820761680603
         ],
         "xaxis": "x",
         "y": [
          0.09473684210526316,
          0,
          0.04736842105263158,
          0.14210526315789473,
          0.18947368421052632,
          0.33157894736842103,
          0.28421052631578947,
          0.37894736842105264,
          0.6157894736842106,
          0.6631578947368421,
          0.6157894736842106,
          0.5210526315789474,
          0.6157894736842106,
          0.7105263157894737,
          0.8052631578947369,
          0.7105263157894737,
          0.4263157894736842,
          0.7578947368421053,
          0.9,
          0.5684210526315789,
          0.4263157894736842,
          0.18947368421052632,
          0.47368421052631576,
          0.23684210526315788,
          0.18947368421052632,
          0.14210526315789473,
          0.04736842105263158,
          0.09473684210526316,
          0.09473684210526316,
          0.09473684210526316
         ],
         "yaxis": "y"
        },
        {
         "hovertemplate": "<b>%{text}</b><br>PC Projection: %{x:.3f}<extra></extra>",
         "marker": {
          "color": "limegreen",
          "line": {
           "color": "black",
           "width": 1
          },
          "opacity": 1,
          "size": 8,
          "symbol": "diamond"
         },
         "mode": "markers",
         "showlegend": false,
         "text": [
          "Zealous",
          "Wry",
          "Witty",
          "Whimsical",
          "Visceral",
          "Vindictive",
          "Verbose",
          "Utilitarian",
          "Urgent",
          "Understated",
          "Transparent",
          "Theoretical",
          "Theatrical",
          "Temperamental",
          "Technical",
          "Tactful",
          "Systems Thinker",
          "Sycophantic",
          "Supportive",
          "Subversive",
          "Submissive",
          "Structuralist",
          "Stream Of Consciousness",
          "Strategic",
          "Stoic",
          "Spontaneous",
          "Speculative",
          "Specialized",
          "Solemn",
          "Socratic",
          "Serious",
          "Serene",
          "Secular",
          "Savage",
          "Sassy",
          "Sardonic",
          "Sarcastic",
          "Ritualistic",
          "Risk Taking",
          "Rhetorical",
          "Resilient",
          "Reserved",
          "Relativist",
          "Regulatory",
          "Reductionist",
          "Reactive",
          "Rationalist",
          "Radical",
          "Quantitative",
          "Qualitative",
          "Progressive",
          "Problem Solving",
          "Proactive",
          "Principled",
          "Prescriptive",
          "Practical",
          "Poetic",
          "Pluralist",
          "Playful",
          "Philosophical",
          "Petty",
          "Pessimistic",
          "Perfectionist",
          "Pensive",
          "Pedantic",
          "Patient",
          "Passive Aggressive",
          "Passionate",
          "Paranoid",
          "Paradoxical",
          "Pacifist",
          "Optimistic",
          "Open Ended",
          "Obsessive",
          "Nurturing",
          "Nostalgic",
          "Nonchalant",
          "Nihilistic",
          "Neurotic",
          "Narrative",
          "Naive",
          "Moderate",
          "Mischievous",
          "Misanthropic",
          "Militant",
          "Meticulous",
          "Methodical",
          "Metaphorical",
          "Mercurial",
          "Melodramatic",
          "Melancholic",
          "Meditative",
          "Materialist",
          "Manipulative",
          "Manic",
          "Literal",
          "Libertarian",
          "Judgmental",
          "Irreverent",
          "Ironic",
          "Intuitive",
          "Introverted",
          "Introspective",
          "Interdisciplinary",
          "Inspirational",
          "Inquisitive",
          "Individualistic",
          "Independent",
          "Inclusive",
          "Impulsive",
          "Improvisational",
          "Impatient",
          "Humble",
          "Humanistic",
          "Hostile",
          "Holistic",
          "Historical",
          "Hedonistic",
          "Grounded",
          "Gregarious",
          "Grandiose",
          "Goofy",
          "Generous",
          "Generalist",
          "Futuristic",
          "Formalist",
          "Formal",
          "Forgiving",
          "Flirty",
          "Flippant",
          "Flexible",
          "Fatalistic",
          "Factual",
          "Extroverted",
          "Experiential",
          "Existentialist",
          "Evil",
          "Ethereal",
          "Esoteric",
          "Erudite",
          "Epicurean",
          "Environmental",
          "Entertaining",
          "Enigmatic",
          "Empathetic",
          "Emotional",
          "Eloquent",
          "Elitist",
          "Egalitarian",
          "Effusive",
          "Efficient",
          "Educational",
          "Edgy",
          "Eclectic",
          "Earnest",
          "Dramatic",
          "Dominant",
          "Dogmatic",
          "Dispassionate",
          "Disorganized",
          "Diplomatic",
          "Deterministic",
          "Detached",
          "Descriptive",
          "Deontological",
          "Deferential",
          "Decisive",
          "Data Driven",
          "Cynical",
          "Curious",
          "Cryptic",
          "Cruel",
          "Critical",
          "Creative",
          "Cosmopolitan",
          "Convergent",
          "Contemporary",
          "Constructivist",
          "Conscientious",
          "Confrontational",
          "Confident",
          "Condescending",
          "Concise",
          "Conciliatory",
          "Conceptual",
          "Competitive",
          "Collectivistic",
          "Collaborative",
          "Closure Seeking",
          "Circumspect",
          "Chill",
          "Charismatic",
          "Chaotic",
          "Cautious",
          "Casual",
          "Calm",
          "Callous",
          "Calculating",
          "Bombastic",
          "Blunt",
          "Bitter",
          "Big Picture",
          "Benevolent",
          "Avoidant",
          "Assertive",
          "Ascetic",
          "Artistic",
          "Arrogant",
          "Anxious",
          "Anthropocentric",
          "Animated",
          "Analytical",
          "Altruistic",
          "Agreeable",
          "Adventurous",
          "Adaptable",
          "Acerbic",
          "Accommodating",
          "Accessible",
          "Abstract"
         ],
         "type": "scatter",
         "x": [
          0.1374281793832779,
          -0.288382887840271,
          -0.2177892029285431,
          0.16781578958034515,
          0.0053404257632792,
          -0.03435551002621651,
          -0.1665336638689041,
          -0.1818329095840454,
          -0.06714832782745361,
          0.1062106117606163,
          -0.3034820258617401,
          0.04587891697883606,
          0.08915507048368454,
          -0.08520176261663437,
          -0.29770830273628235,
          0.3152378797531128,
          -0.26663169264793396,
          0.3926786482334137,
          0.10605279356241226,
          -0.25694960355758667,
          0.3368256986141205,
          -0.2619483172893524,
          -0.018775077536702156,
          -0.2264830768108368,
          0.05060361698269844,
          0.02601560950279236,
          -0.23894810676574707,
          -0.33215612173080444,
          0.3296007215976715,
          -0.022593729197978973,
          0.2698094844818115,
          0.42499879002571106,
          -0.24120570719242096,
          -0.26646995544433594,
          -0.34849247336387634,
          -0.19006234407424927,
          -0.15379992127418518,
          0.3625856637954712,
          -0.2811029255390167,
          0.19117514789104462,
          0.09330939501523972,
          0.05631525069475174,
          0.010777289047837257,
          0.3102089464664459,
          -0.14094454050064087,
          0.12892909348011017,
          -0.2706708312034607,
          -0.2168605625629425,
          -0.37264564633369446,
          0.3499995768070221,
          -0.37470364570617676,
          -0.32048943638801575,
          -0.3338831067085266,
          0.33318984508514404,
          -0.04161062091588974,
          0.011858920566737652,
          0.20691660046577454,
          -0.19496160745620728,
          -0.062267810106277466,
          0.037051498889923096,
          0.017718978226184845,
          -0.2057480812072754,
          -0.0961887538433075,
          -0.02753947488963604,
          -0.046289876103401184,
          0.07877124845981598,
          0.10000132024288177,
          0.036761704832315445,
          -0.022442150861024857,
          -0.00749982800334692,
          0.365994393825531,
          0.2821888029575348,
          -0.12925252318382263,
          0.10595161467790604,
          0.16584165394306183,
          0.4283883571624756,
          -0.06527772545814514,
          0.04205753654241562,
          -0.09859882295131683,
          0.19590315222740173,
          0.37282100319862366,
          0.051254335790872574,
          -0.09223524481058121,
          -0.021189603954553604,
          -0.09508153051137924,
          -0.051980387419462204,
          -0.004959955811500549,
          0.15423984825611115,
          -0.014460538513958454,
          0.16676627099514008,
          -0.03034617006778717,
          0.3249252438545227,
          -0.09211797267198563,
          0.15004216134548187,
          -0.06095793470740318,
          0.21213045716285706,
          0.3458911180496216,
          -0.07302485406398773,
          -0.2610042095184326,
          -0.06090150028467178,
          0.00334820500575006,
          0.22687511146068573,
          -0.2771468758583069,
          -0.3406877815723419,
          0.15633349120616913,
          -0.17785005271434784,
          0.09195362776517868,
          -0.09489823132753372,
          -0.4060802757740021,
          0.1465986669063568,
          0.060367144644260406,
          0.02395026758313179,
          -0.3587596118450165,
          0.1501173973083496,
          -0.2366764098405838,
          -0.3120897710323334,
          0.020856019109487534,
          0.12348128110170364,
          -0.14091861248016357,
          -0.07934539765119553,
          0.2455822229385376,
          -0.08376354724168777,
          -0.17322322726249695,
          -0.15790343284606934,
          -0.25784406065940857,
          0.03413623943924904,
          0.22626930475234985,
          0.1430235505104065,
          0.15359090268611908,
          -0.09467187523841858,
          -0.13290682435035706,
          0.2686578631401062,
          -0.15808099508285522,
          -0.05028229206800461,
          -0.18608863651752472,
          -0.15363909304141998,
          0.016978997737169266,
          0.36549562215805054,
          0.025448409840464592,
          -0.15683548152446747,
          0.13768509030342102,
          0.07424470782279968,
          -0.08131568878889084,
          0.25668203830718994,
          0.15378321707248688,
          0.1359533816576004,
          0.12397004663944244,
          0.23887182772159576,
          -0.09209141135215759,
          0.006577501073479652,
          0.18058329820632935,
          -0.18938837945461273,
          -0.2464415580034256,
          -0.23235604166984558,
          0.19638526439666748,
          0.19214119017124176,
          -0.024714026600122452,
          0.31370291113853455,
          -0.05405285954475403,
          -0.024808911606669426,
          0.11990894377231598,
          0.24538899958133698,
          -0.11338581889867783,
          -0.06088753417134285,
          0.4072730541229248,
          0.16495491564273834,
          0.17126886546611786,
          -0.2616553008556366,
          -0.2443617433309555,
          -0.12564091384410858,
          0.1992739737033844,
          -0.13578620553016663,
          -0.4018400013446808,
          -0.23456411063671112,
          -0.19736763834953308,
          0.22530728578567505,
          -0.3323308229446411,
          -0.19199103116989136,
          0.014335007406771183,
          -0.2943151891231537,
          0.34213003516197205,
          0.09302139282226562,
          0.17234960198402405,
          0.12091031670570374,
          0.23815983533859253,
          0.03680142015218735,
          0.156823992729187,
          -0.0711192712187767,
          0.27376866340637207,
          -0.1189240887761116,
          0.16917957365512848,
          -0.056732263416051865,
          -0.2792993187904358,
          -0.31584784388542175,
          -0.1559201180934906,
          0.19048821926116943,
          -0.15631204843521118,
          0.06052521616220474,
          0.176372230052948,
          -0.27278807759284973,
          -0.1553061306476593,
          0.15160773694515228,
          0.15075327455997467,
          0.22122018039226532,
          0.17537125945091248,
          0.24064598977565765,
          0.23884211480617523,
          0.14078527688980103,
          -0.1748206615447998,
          0.3465370833873749,
          -0.07704828679561615,
          -0.3501281142234802,
          0.13186435401439667,
          0.2687470614910126,
          -0.28953251242637634,
          -0.21365778148174286,
          -0.23175916075706482,
          0.042648203670978546,
          -0.0061876424588263035,
          0.1873585283756256
         ],
         "xaxis": "x2",
         "y": [
          1,
          1,
          1,
          1,
          1,
          1,
          1,
          1,
          1,
          1,
          1,
          1,
          1,
          1,
          1,
          1,
          1,
          1,
          1,
          1,
          1,
          1,
          1,
          1,
          1,
          1,
          1,
          1,
          1,
          1,
          1,
          1,
          1,
          1,
          1,
          1,
          1,
          1,
          1,
          1,
          1,
          1,
          1,
          1,
          1,
          1,
          1,
          1,
          1,
          1,
          1,
          1,
          1,
          1,
          1,
          1,
          1,
          1,
          1,
          1,
          1,
          1,
          1,
          1,
          1,
          1,
          1,
          1,
          1,
          1,
          1,
          1,
          1,
          1,
          1,
          1,
          1,
          1,
          1,
          1,
          1,
          1,
          1,
          1,
          1,
          1,
          1,
          1,
          1,
          1,
          1,
          1,
          1,
          1,
          1,
          1,
          1,
          1,
          1,
          1,
          1,
          1,
          1,
          1,
          1,
          1,
          1,
          1,
          1,
          1,
          1,
          1,
          1,
          1,
          1,
          1,
          1,
          1,
          1,
          1,
          1,
          1,
          1,
          1,
          1,
          1,
          1,
          1,
          1,
          1,
          1,
          1,
          1,
          1,
          1,
          1,
          1,
          1,
          1,
          1,
          1,
          1,
          1,
          1,
          1,
          1,
          1,
          1,
          1,
          1,
          1,
          1,
          1,
          1,
          1,
          1,
          1,
          1,
          1,
          1,
          1,
          1,
          1,
          1,
          1,
          1,
          1,
          1,
          1,
          1,
          1,
          1,
          1,
          1,
          1,
          1,
          1,
          1,
          1,
          1,
          1,
          1,
          1,
          1,
          1,
          1,
          1,
          1,
          1,
          1,
          1,
          1,
          1,
          1,
          1,
          1,
          1,
          1,
          1,
          1,
          1,
          1,
          1,
          1,
          1,
          1,
          1,
          1,
          1,
          1,
          1,
          1,
          1,
          1,
          1,
          1,
          1,
          1,
          1,
          1
         ],
         "yaxis": "y2"
        },
        {
         "hovertemplate": "<b>%{text}</b><br>PC Projection: %{x:.3f}<extra></extra>",
         "marker": {
          "color": "limegreen",
          "line": {
           "color": "black",
           "width": 1
          },
          "opacity": 1,
          "size": 8,
          "symbol": "diamond"
         },
         "mode": "markers",
         "showlegend": false,
         "text": [
          "Universalist",
          "Traditional",
          "Spiritual",
          "Skeptical",
          "Romantic",
          "Reverent",
          "Rebellious",
          "Provocative",
          "Mystical",
          "Innovative",
          "Idealistic",
          "Iconoclastic",
          "Fundamentalist",
          "Exploratory",
          "Essentialist",
          "Divergent",
          "Deconstructionist",
          "Contrarian",
          "Challenging",
          "Absolutist"
         ],
         "type": "scatter",
         "x": [
          0.44997936487197876,
          0.48857975006103516,
          0.49516022205352783,
          -0.6114120483398438,
          0.4779621958732605,
          0.6384191513061523,
          -0.5366925597190857,
          -0.4301004707813263,
          0.5112462639808655,
          -0.4247573912143707,
          0.59221351146698,
          -0.43296921253204346,
          0.49469804763793945,
          -0.49993765354156494,
          0.5441921949386597,
          -0.4692422151565552,
          -0.5152999758720398,
          -0.4555948078632355,
          -0.648318350315094,
          0.5985475182533264
         ],
         "xaxis": "x2",
         "y": [
          1,
          1,
          1,
          1,
          1,
          1,
          1,
          1,
          1,
          1,
          1,
          1,
          1,
          1,
          1,
          1,
          1,
          1,
          1,
          1
         ],
         "yaxis": "y2"
        },
        {
         "hoverinfo": "skip",
         "line": {
          "color": "black",
          "width": 1
         },
         "mode": "lines",
         "showlegend": false,
         "type": "scatter",
         "x": [
          -0.648318350315094,
          -0.648318350315094
         ],
         "xaxis": "x2",
         "y": [
          1,
          1.45
         ],
         "yaxis": "y2"
        },
        {
         "hoverinfo": "skip",
         "line": {
          "color": "black",
          "width": 1
         },
         "mode": "lines",
         "showlegend": false,
         "type": "scatter",
         "x": [
          -0.6114120483398438,
          -0.6114120483398438
         ],
         "xaxis": "x2",
         "y": [
          1,
          0.6
         ],
         "yaxis": "y2"
        },
        {
         "hoverinfo": "skip",
         "line": {
          "color": "black",
          "width": 1
         },
         "mode": "lines",
         "showlegend": false,
         "type": "scatter",
         "x": [
          -0.5366925597190857,
          -0.5366925597190857
         ],
         "xaxis": "x2",
         "y": [
          1,
          1.9
         ],
         "yaxis": "y2"
        },
        {
         "hoverinfo": "skip",
         "line": {
          "color": "black",
          "width": 1
         },
         "mode": "lines",
         "showlegend": false,
         "type": "scatter",
         "x": [
          -0.5152999758720398,
          -0.5152999758720398
         ],
         "xaxis": "x2",
         "y": [
          1,
          0.15
         ],
         "yaxis": "y2"
        },
        {
         "hoverinfo": "skip",
         "line": {
          "color": "black",
          "width": 1
         },
         "mode": "lines",
         "showlegend": false,
         "type": "scatter",
         "x": [
          -0.49993765354156494,
          -0.49993765354156494
         ],
         "xaxis": "x2",
         "y": [
          1,
          1.6
         ],
         "yaxis": "y2"
        },
        {
         "hoverinfo": "skip",
         "line": {
          "color": "black",
          "width": 1
         },
         "mode": "lines",
         "showlegend": false,
         "type": "scatter",
         "x": [
          -0.4692422151565552,
          -0.4692422151565552
         ],
         "xaxis": "x2",
         "y": [
          1,
          0.45
         ],
         "yaxis": "y2"
        },
        {
         "hoverinfo": "skip",
         "line": {
          "color": "black",
          "width": 1
         },
         "mode": "lines",
         "showlegend": false,
         "type": "scatter",
         "x": [
          -0.4555948078632355,
          -0.4555948078632355
         ],
         "xaxis": "x2",
         "y": [
          1,
          1.3
         ],
         "yaxis": "y2"
        },
        {
         "hoverinfo": "skip",
         "line": {
          "color": "black",
          "width": 1
         },
         "mode": "lines",
         "showlegend": false,
         "type": "scatter",
         "x": [
          -0.43296921253204346,
          -0.43296921253204346
         ],
         "xaxis": "x2",
         "y": [
          1,
          0.75
         ],
         "yaxis": "y2"
        },
        {
         "hoverinfo": "skip",
         "line": {
          "color": "black",
          "width": 1
         },
         "mode": "lines",
         "showlegend": false,
         "type": "scatter",
         "x": [
          -0.4301004707813263,
          -0.4301004707813263
         ],
         "xaxis": "x2",
         "y": [
          1,
          1.75
         ],
         "yaxis": "y2"
        },
        {
         "hoverinfo": "skip",
         "line": {
          "color": "black",
          "width": 1
         },
         "mode": "lines",
         "showlegend": false,
         "type": "scatter",
         "x": [
          -0.4247573912143707,
          -0.4247573912143707
         ],
         "xaxis": "x2",
         "y": [
          1,
          0.3
         ],
         "yaxis": "y2"
        },
        {
         "hoverinfo": "skip",
         "line": {
          "color": "black",
          "width": 1
         },
         "mode": "lines",
         "showlegend": false,
         "type": "scatter",
         "x": [
          0.44997936487197876,
          0.44997936487197876
         ],
         "xaxis": "x2",
         "y": [
          1,
          1.45
         ],
         "yaxis": "y2"
        },
        {
         "hoverinfo": "skip",
         "line": {
          "color": "black",
          "width": 1
         },
         "mode": "lines",
         "showlegend": false,
         "type": "scatter",
         "x": [
          0.4779621958732605,
          0.4779621958732605
         ],
         "xaxis": "x2",
         "y": [
          1,
          0.6
         ],
         "yaxis": "y2"
        },
        {
         "hoverinfo": "skip",
         "line": {
          "color": "black",
          "width": 1
         },
         "mode": "lines",
         "showlegend": false,
         "type": "scatter",
         "x": [
          0.48857975006103516,
          0.48857975006103516
         ],
         "xaxis": "x2",
         "y": [
          1,
          1.9
         ],
         "yaxis": "y2"
        },
        {
         "hoverinfo": "skip",
         "line": {
          "color": "black",
          "width": 1
         },
         "mode": "lines",
         "showlegend": false,
         "type": "scatter",
         "x": [
          0.49469804763793945,
          0.49469804763793945
         ],
         "xaxis": "x2",
         "y": [
          1,
          0.15
         ],
         "yaxis": "y2"
        },
        {
         "hoverinfo": "skip",
         "line": {
          "color": "black",
          "width": 1
         },
         "mode": "lines",
         "showlegend": false,
         "type": "scatter",
         "x": [
          0.49516022205352783,
          0.49516022205352783
         ],
         "xaxis": "x2",
         "y": [
          1,
          1.6
         ],
         "yaxis": "y2"
        },
        {
         "hoverinfo": "skip",
         "line": {
          "color": "black",
          "width": 1
         },
         "mode": "lines",
         "showlegend": false,
         "type": "scatter",
         "x": [
          0.5112462639808655,
          0.5112462639808655
         ],
         "xaxis": "x2",
         "y": [
          1,
          0.45
         ],
         "yaxis": "y2"
        },
        {
         "hoverinfo": "skip",
         "line": {
          "color": "black",
          "width": 1
         },
         "mode": "lines",
         "showlegend": false,
         "type": "scatter",
         "x": [
          0.5441921949386597,
          0.5441921949386597
         ],
         "xaxis": "x2",
         "y": [
          1,
          1.3
         ],
         "yaxis": "y2"
        },
        {
         "hoverinfo": "skip",
         "line": {
          "color": "black",
          "width": 1
         },
         "mode": "lines",
         "showlegend": false,
         "type": "scatter",
         "x": [
          0.59221351146698,
          0.59221351146698
         ],
         "xaxis": "x2",
         "y": [
          1,
          0.75
         ],
         "yaxis": "y2"
        },
        {
         "hoverinfo": "skip",
         "line": {
          "color": "black",
          "width": 1
         },
         "mode": "lines",
         "showlegend": false,
         "type": "scatter",
         "x": [
          0.5985475182533264,
          0.5985475182533264
         ],
         "xaxis": "x2",
         "y": [
          1,
          1.75
         ],
         "yaxis": "y2"
        },
        {
         "hoverinfo": "skip",
         "line": {
          "color": "black",
          "width": 1
         },
         "mode": "lines",
         "showlegend": false,
         "type": "scatter",
         "x": [
          0.6384191513061523,
          0.6384191513061523
         ],
         "xaxis": "x2",
         "y": [
          1,
          0.3
         ],
         "yaxis": "y2"
        },
        {
         "hoverinfo": "skip",
         "marker": {
          "color": "limegreen"
         },
         "opacity": 0.7,
         "showlegend": false,
         "type": "bar",
         "width": 0.034313011169433597,
         "x": [
          -0.626872718334198,
          -0.583981454372406,
          -0.5410902500152588,
          -0.4981989860534668,
          -0.4553077220916748,
          -0.4124164581298828,
          -0.3695252239704132,
          -0.3266339898109436,
          -0.2837427258491516,
          -0.24085146188735962,
          -0.19796022772789001,
          -0.15506896376609802,
          -0.11217772215604782,
          -0.06928647309541702,
          -0.026395224034786224,
          0.016496025025844574,
          0.05938727408647537,
          0.10227852314710617,
          0.14516976475715637,
          0.18806102871894836,
          0.23095226287841797,
          0.27384352684020996,
          0.31673479080200195,
          0.35962602496147156,
          0.40251725912094116,
          0.44540852308273315,
          0.48829978704452515,
          0.5311909914016724,
          0.5740822553634644,
          0.6169735193252563
         ],
         "xaxis": "x2",
         "y": [
          0.09000000000000001,
          0,
          0.045000000000000005,
          0.09000000000000001,
          0.09000000000000001,
          0.225,
          0.225,
          0.315,
          0.54,
          0.63,
          0.54,
          0.63,
          0.5850000000000001,
          0.765,
          0.675,
          0.7200000000000001,
          0.45,
          0.49500000000000005,
          0.9,
          0.7200000000000001,
          0.49500000000000005,
          0.27,
          0.315,
          0.36000000000000004,
          0.09000000000000001,
          0.135,
          0.18000000000000002,
          0.09000000000000001,
          0.045000000000000005,
          0.09000000000000001
         ],
         "yaxis": "y2"
        }
       ],
       "layout": {
        "annotations": [
         {
          "font": {
           "size": 16
          },
          "showarrow": false,
          "text": "PC5 Cosine Similarity",
          "x": 0.5,
          "xanchor": "center",
          "xref": "paper",
          "y": 1,
          "yanchor": "bottom",
          "yref": "paper"
         },
         {
          "font": {
           "size": 16
          },
          "showarrow": false,
          "text": "PC5 Projection",
          "x": 0.5,
          "xanchor": "center",
          "xref": "paper",
          "y": 0.45,
          "yanchor": "bottom",
          "yref": "paper"
         },
         {
          "bgcolor": "rgba(255, 255, 255, 0.9)",
          "bordercolor": "black",
          "borderwidth": 1,
          "font": {
           "color": "black",
           "size": 10
          },
          "showarrow": false,
          "text": "Skeptical",
          "x": -0.6384134292602539,
          "xref": "x",
          "y": 1.45,
          "yref": "y"
         },
         {
          "bgcolor": "rgba(255, 255, 255, 0.9)",
          "bordercolor": "black",
          "borderwidth": 1,
          "font": {
           "color": "black",
           "size": 10
          },
          "showarrow": false,
          "text": "Challenging",
          "x": -0.6044818758964539,
          "xref": "x",
          "y": 0.6,
          "yref": "y"
         },
         {
          "bgcolor": "rgba(255, 255, 255, 0.9)",
          "bordercolor": "black",
          "borderwidth": 1,
          "font": {
           "color": "black",
           "size": 10
          },
          "showarrow": false,
          "text": "Exploratory",
          "x": -0.524368405342102,
          "xref": "x",
          "y": 1.9,
          "yref": "y"
         },
         {
          "bgcolor": "rgba(255, 255, 255, 0.9)",
          "bordercolor": "black",
          "borderwidth": 1,
          "font": {
           "color": "black",
           "size": 10
          },
          "showarrow": false,
          "text": "Rebellious",
          "x": -0.5090678930282593,
          "xref": "x",
          "y": 0.15,
          "yref": "y"
         },
         {
          "bgcolor": "rgba(255, 255, 255, 0.9)",
          "bordercolor": "black",
          "borderwidth": 1,
          "font": {
           "color": "black",
           "size": 10
          },
          "showarrow": false,
          "text": "Divergent",
          "x": -0.49312445521354675,
          "xref": "x",
          "y": 1.6,
          "yref": "y"
         },
         {
          "bgcolor": "rgba(255, 255, 255, 0.9)",
          "bordercolor": "black",
          "borderwidth": 1,
          "font": {
           "color": "black",
           "size": 10
          },
          "showarrow": false,
          "text": "Deconstructionist",
          "x": -0.4767283499240875,
          "xref": "x",
          "y": 0.45,
          "yref": "y"
         },
         {
          "bgcolor": "rgba(255, 255, 255, 0.9)",
          "bordercolor": "black",
          "borderwidth": 1,
          "font": {
           "color": "black",
           "size": 10
          },
          "showarrow": false,
          "text": "Humble",
          "x": -0.4543490409851074,
          "xref": "x",
          "y": 1.3,
          "yref": "y"
         },
         {
          "bgcolor": "rgba(255, 255, 255, 0.9)",
          "bordercolor": "black",
          "borderwidth": 1,
          "font": {
           "color": "black",
           "size": 10
          },
          "showarrow": false,
          "text": "Inclusive",
          "x": -0.44652819633483887,
          "xref": "x",
          "y": 0.75,
          "yref": "y"
         },
         {
          "bgcolor": "rgba(255, 255, 255, 0.9)",
          "bordercolor": "black",
          "borderwidth": 1,
          "font": {
           "color": "black",
           "size": 10
          },
          "showarrow": false,
          "text": "Contemporary",
          "x": -0.443477064371109,
          "xref": "x",
          "y": 1.75,
          "yref": "y"
         },
         {
          "bgcolor": "rgba(255, 255, 255, 0.9)",
          "bordercolor": "black",
          "borderwidth": 1,
          "font": {
           "color": "black",
           "size": 10
          },
          "showarrow": false,
          "text": "Contrarian",
          "x": -0.4353332221508026,
          "xref": "x",
          "y": 0.3,
          "yref": "y"
         },
         {
          "bgcolor": "rgba(255, 255, 255, 0.9)",
          "bordercolor": "black",
          "borderwidth": 1,
          "font": {
           "color": "black",
           "size": 10
          },
          "showarrow": false,
          "text": "Serene",
          "x": 0.39909258484840393,
          "xref": "x",
          "y": 1.45,
          "yref": "y"
         },
         {
          "bgcolor": "rgba(255, 255, 255, 0.9)",
          "bordercolor": "black",
          "borderwidth": 1,
          "font": {
           "color": "black",
           "size": 10
          },
          "showarrow": false,
          "text": "Spiritual",
          "x": 0.4005974531173706,
          "xref": "x",
          "y": 0.6,
          "yref": "y"
         },
         {
          "bgcolor": "rgba(255, 255, 255, 0.9)",
          "bordercolor": "black",
          "borderwidth": 1,
          "font": {
           "color": "black",
           "size": 10
          },
          "showarrow": false,
          "text": "Mystical",
          "x": 0.4191862642765045,
          "xref": "x",
          "y": 1.9,
          "yref": "y"
         },
         {
          "bgcolor": "rgba(255, 255, 255, 0.9)",
          "bordercolor": "black",
          "borderwidth": 1,
          "font": {
           "color": "black",
           "size": 10
          },
          "showarrow": false,
          "text": "Fundamentalist",
          "x": 0.46062496304512024,
          "xref": "x",
          "y": 0.15,
          "yref": "y"
         },
         {
          "bgcolor": "rgba(255, 255, 255, 0.9)",
          "bordercolor": "black",
          "borderwidth": 1,
          "font": {
           "color": "black",
           "size": 10
          },
          "showarrow": false,
          "text": "Universalist",
          "x": 0.47627291083335876,
          "xref": "x",
          "y": 1.6,
          "yref": "y"
         },
         {
          "bgcolor": "rgba(255, 255, 255, 0.9)",
          "bordercolor": "black",
          "borderwidth": 1,
          "font": {
           "color": "black",
           "size": 10
          },
          "showarrow": false,
          "text": "Idealistic",
          "x": 0.49825045466423035,
          "xref": "x",
          "y": 0.45,
          "yref": "y"
         },
         {
          "bgcolor": "rgba(255, 255, 255, 0.9)",
          "bordercolor": "black",
          "borderwidth": 1,
          "font": {
           "color": "black",
           "size": 10
          },
          "showarrow": false,
          "text": "Essentialist",
          "x": 0.5158295631408691,
          "xref": "x",
          "y": 1.3,
          "yref": "y"
         },
         {
          "bgcolor": "rgba(255, 255, 255, 0.9)",
          "bordercolor": "black",
          "borderwidth": 1,
          "font": {
           "color": "black",
           "size": 10
          },
          "showarrow": false,
          "text": "Traditional",
          "x": 0.5244954824447632,
          "xref": "x",
          "y": 0.75,
          "yref": "y"
         },
         {
          "bgcolor": "rgba(255, 255, 255, 0.9)",
          "bordercolor": "black",
          "borderwidth": 1,
          "font": {
           "color": "black",
           "size": 10
          },
          "showarrow": false,
          "text": "Absolutist",
          "x": 0.5730509161949158,
          "xref": "x",
          "y": 1.75,
          "yref": "y"
         },
         {
          "bgcolor": "rgba(255, 255, 255, 0.9)",
          "bordercolor": "black",
          "borderwidth": 1,
          "font": {
           "color": "black",
           "size": 10
          },
          "showarrow": false,
          "text": "Reverent",
          "x": 0.5902993083000183,
          "xref": "x",
          "y": 0.3,
          "yref": "y"
         },
         {
          "bgcolor": "rgba(255, 255, 255, 0.9)",
          "bordercolor": "red",
          "borderwidth": 1,
          "font": {
           "color": "red",
           "size": 14
          },
          "showarrow": false,
          "text": "Assistant",
          "x": -0.004794590640813112,
          "xref": "x",
          "y": 2,
          "yref": "y"
         },
         {
          "bgcolor": "rgba(255, 255, 255, 0.9)",
          "bordercolor": "black",
          "borderwidth": 1,
          "font": {
           "color": "black",
           "size": 10
          },
          "showarrow": false,
          "text": "Challenging",
          "x": -0.648318350315094,
          "xref": "x2",
          "y": 1.45,
          "yref": "y2"
         },
         {
          "bgcolor": "rgba(255, 255, 255, 0.9)",
          "bordercolor": "black",
          "borderwidth": 1,
          "font": {
           "color": "black",
           "size": 10
          },
          "showarrow": false,
          "text": "Skeptical",
          "x": -0.6114120483398438,
          "xref": "x2",
          "y": 0.6,
          "yref": "y2"
         },
         {
          "bgcolor": "rgba(255, 255, 255, 0.9)",
          "bordercolor": "black",
          "borderwidth": 1,
          "font": {
           "color": "black",
           "size": 10
          },
          "showarrow": false,
          "text": "Rebellious",
          "x": -0.5366925597190857,
          "xref": "x2",
          "y": 1.9,
          "yref": "y2"
         },
         {
          "bgcolor": "rgba(255, 255, 255, 0.9)",
          "bordercolor": "black",
          "borderwidth": 1,
          "font": {
           "color": "black",
           "size": 10
          },
          "showarrow": false,
          "text": "Deconstructionist",
          "x": -0.5152999758720398,
          "xref": "x2",
          "y": 0.15,
          "yref": "y2"
         },
         {
          "bgcolor": "rgba(255, 255, 255, 0.9)",
          "bordercolor": "black",
          "borderwidth": 1,
          "font": {
           "color": "black",
           "size": 10
          },
          "showarrow": false,
          "text": "Exploratory",
          "x": -0.49993765354156494,
          "xref": "x2",
          "y": 1.6,
          "yref": "y2"
         },
         {
          "bgcolor": "rgba(255, 255, 255, 0.9)",
          "bordercolor": "black",
          "borderwidth": 1,
          "font": {
           "color": "black",
           "size": 10
          },
          "showarrow": false,
          "text": "Divergent",
          "x": -0.4692422151565552,
          "xref": "x2",
          "y": 0.45,
          "yref": "y2"
         },
         {
          "bgcolor": "rgba(255, 255, 255, 0.9)",
          "bordercolor": "black",
          "borderwidth": 1,
          "font": {
           "color": "black",
           "size": 10
          },
          "showarrow": false,
          "text": "Contrarian",
          "x": -0.4555948078632355,
          "xref": "x2",
          "y": 1.3,
          "yref": "y2"
         },
         {
          "bgcolor": "rgba(255, 255, 255, 0.9)",
          "bordercolor": "black",
          "borderwidth": 1,
          "font": {
           "color": "black",
           "size": 10
          },
          "showarrow": false,
          "text": "Iconoclastic",
          "x": -0.43296921253204346,
          "xref": "x2",
          "y": 0.75,
          "yref": "y2"
         },
         {
          "bgcolor": "rgba(255, 255, 255, 0.9)",
          "bordercolor": "black",
          "borderwidth": 1,
          "font": {
           "color": "black",
           "size": 10
          },
          "showarrow": false,
          "text": "Provocative",
          "x": -0.4301004707813263,
          "xref": "x2",
          "y": 1.75,
          "yref": "y2"
         },
         {
          "bgcolor": "rgba(255, 255, 255, 0.9)",
          "bordercolor": "black",
          "borderwidth": 1,
          "font": {
           "color": "black",
           "size": 10
          },
          "showarrow": false,
          "text": "Innovative",
          "x": -0.4247573912143707,
          "xref": "x2",
          "y": 0.3,
          "yref": "y2"
         },
         {
          "bgcolor": "rgba(255, 255, 255, 0.9)",
          "bordercolor": "black",
          "borderwidth": 1,
          "font": {
           "color": "black",
           "size": 10
          },
          "showarrow": false,
          "text": "Universalist",
          "x": 0.44997936487197876,
          "xref": "x2",
          "y": 1.45,
          "yref": "y2"
         },
         {
          "bgcolor": "rgba(255, 255, 255, 0.9)",
          "bordercolor": "black",
          "borderwidth": 1,
          "font": {
           "color": "black",
           "size": 10
          },
          "showarrow": false,
          "text": "Romantic",
          "x": 0.4779621958732605,
          "xref": "x2",
          "y": 0.6,
          "yref": "y2"
         },
         {
          "bgcolor": "rgba(255, 255, 255, 0.9)",
          "bordercolor": "black",
          "borderwidth": 1,
          "font": {
           "color": "black",
           "size": 10
          },
          "showarrow": false,
          "text": "Traditional",
          "x": 0.48857975006103516,
          "xref": "x2",
          "y": 1.9,
          "yref": "y2"
         },
         {
          "bgcolor": "rgba(255, 255, 255, 0.9)",
          "bordercolor": "black",
          "borderwidth": 1,
          "font": {
           "color": "black",
           "size": 10
          },
          "showarrow": false,
          "text": "Fundamentalist",
          "x": 0.49469804763793945,
          "xref": "x2",
          "y": 0.15,
          "yref": "y2"
         },
         {
          "bgcolor": "rgba(255, 255, 255, 0.9)",
          "bordercolor": "black",
          "borderwidth": 1,
          "font": {
           "color": "black",
           "size": 10
          },
          "showarrow": false,
          "text": "Spiritual",
          "x": 0.49516022205352783,
          "xref": "x2",
          "y": 1.6,
          "yref": "y2"
         },
         {
          "bgcolor": "rgba(255, 255, 255, 0.9)",
          "bordercolor": "black",
          "borderwidth": 1,
          "font": {
           "color": "black",
           "size": 10
          },
          "showarrow": false,
          "text": "Mystical",
          "x": 0.5112462639808655,
          "xref": "x2",
          "y": 0.45,
          "yref": "y2"
         },
         {
          "bgcolor": "rgba(255, 255, 255, 0.9)",
          "bordercolor": "black",
          "borderwidth": 1,
          "font": {
           "color": "black",
           "size": 10
          },
          "showarrow": false,
          "text": "Essentialist",
          "x": 0.5441921949386597,
          "xref": "x2",
          "y": 1.3,
          "yref": "y2"
         },
         {
          "bgcolor": "rgba(255, 255, 255, 0.9)",
          "bordercolor": "black",
          "borderwidth": 1,
          "font": {
           "color": "black",
           "size": 10
          },
          "showarrow": false,
          "text": "Idealistic",
          "x": 0.59221351146698,
          "xref": "x2",
          "y": 0.75,
          "yref": "y2"
         },
         {
          "bgcolor": "rgba(255, 255, 255, 0.9)",
          "bordercolor": "black",
          "borderwidth": 1,
          "font": {
           "color": "black",
           "size": 10
          },
          "showarrow": false,
          "text": "Absolutist",
          "x": 0.5985475182533264,
          "xref": "x2",
          "y": 1.75,
          "yref": "y2"
         },
         {
          "bgcolor": "rgba(255, 255, 255, 0.9)",
          "bordercolor": "black",
          "borderwidth": 1,
          "font": {
           "color": "black",
           "size": 10
          },
          "showarrow": false,
          "text": "Reverent",
          "x": 0.6384191513061523,
          "xref": "x2",
          "y": 0.3,
          "yref": "y2"
         },
         {
          "bgcolor": "rgba(255, 255, 255, 0.9)",
          "bordercolor": "red",
          "borderwidth": 1,
          "font": {
           "color": "red",
           "size": 14
          },
          "showarrow": false,
          "text": "Assistant",
          "x": 0.02044663578271866,
          "xref": "x2",
          "y": 2,
          "yref": "y2"
         }
        ],
        "height": 800,
        "shapes": [
         {
          "line": {
           "color": "gray",
           "dash": "solid",
           "width": 1
          },
          "opacity": 0.7,
          "type": "line",
          "x0": 0,
          "x1": 0,
          "xref": "x",
          "y0": 0,
          "y1": 1,
          "yref": "y domain"
         },
         {
          "line": {
           "color": "red",
           "dash": "dash",
           "width": 1
          },
          "opacity": 1,
          "type": "line",
          "x0": -0.004794590640813112,
          "x1": -0.004794590640813112,
          "xref": "x",
          "y0": 0,
          "y1": 1,
          "yref": "y domain"
         },
         {
          "line": {
           "color": "gray",
           "dash": "solid",
           "width": 1
          },
          "opacity": 0.7,
          "type": "line",
          "x0": 0,
          "x1": 0,
          "xref": "x2",
          "y0": 0,
          "y1": 1,
          "yref": "y2 domain"
         },
         {
          "line": {
           "color": "red",
           "dash": "dash",
           "width": 1
          },
          "opacity": 1,
          "type": "line",
          "x0": 0.02044663578271866,
          "x1": 0.02044663578271866,
          "xref": "x2",
          "y0": 0,
          "y1": 1,
          "yref": "y2 domain"
         }
        ],
        "showlegend": false,
        "template": {
         "data": {
          "bar": [
           {
            "error_x": {
             "color": "#2a3f5f"
            },
            "error_y": {
             "color": "#2a3f5f"
            },
            "marker": {
             "line": {
              "color": "#E5ECF6",
              "width": 0.5
             },
             "pattern": {
              "fillmode": "overlay",
              "size": 10,
              "solidity": 0.2
             }
            },
            "type": "bar"
           }
          ],
          "barpolar": [
           {
            "marker": {
             "line": {
              "color": "#E5ECF6",
              "width": 0.5
             },
             "pattern": {
              "fillmode": "overlay",
              "size": 10,
              "solidity": 0.2
             }
            },
            "type": "barpolar"
           }
          ],
          "carpet": [
           {
            "aaxis": {
             "endlinecolor": "#2a3f5f",
             "gridcolor": "white",
             "linecolor": "white",
             "minorgridcolor": "white",
             "startlinecolor": "#2a3f5f"
            },
            "baxis": {
             "endlinecolor": "#2a3f5f",
             "gridcolor": "white",
             "linecolor": "white",
             "minorgridcolor": "white",
             "startlinecolor": "#2a3f5f"
            },
            "type": "carpet"
           }
          ],
          "choropleth": [
           {
            "colorbar": {
             "outlinewidth": 0,
             "ticks": ""
            },
            "type": "choropleth"
           }
          ],
          "contour": [
           {
            "colorbar": {
             "outlinewidth": 0,
             "ticks": ""
            },
            "colorscale": [
             [
              0,
              "#0d0887"
             ],
             [
              0.1111111111111111,
              "#46039f"
             ],
             [
              0.2222222222222222,
              "#7201a8"
             ],
             [
              0.3333333333333333,
              "#9c179e"
             ],
             [
              0.4444444444444444,
              "#bd3786"
             ],
             [
              0.5555555555555556,
              "#d8576b"
             ],
             [
              0.6666666666666666,
              "#ed7953"
             ],
             [
              0.7777777777777778,
              "#fb9f3a"
             ],
             [
              0.8888888888888888,
              "#fdca26"
             ],
             [
              1,
              "#f0f921"
             ]
            ],
            "type": "contour"
           }
          ],
          "contourcarpet": [
           {
            "colorbar": {
             "outlinewidth": 0,
             "ticks": ""
            },
            "type": "contourcarpet"
           }
          ],
          "heatmap": [
           {
            "colorbar": {
             "outlinewidth": 0,
             "ticks": ""
            },
            "colorscale": [
             [
              0,
              "#0d0887"
             ],
             [
              0.1111111111111111,
              "#46039f"
             ],
             [
              0.2222222222222222,
              "#7201a8"
             ],
             [
              0.3333333333333333,
              "#9c179e"
             ],
             [
              0.4444444444444444,
              "#bd3786"
             ],
             [
              0.5555555555555556,
              "#d8576b"
             ],
             [
              0.6666666666666666,
              "#ed7953"
             ],
             [
              0.7777777777777778,
              "#fb9f3a"
             ],
             [
              0.8888888888888888,
              "#fdca26"
             ],
             [
              1,
              "#f0f921"
             ]
            ],
            "type": "heatmap"
           }
          ],
          "heatmapgl": [
           {
            "colorbar": {
             "outlinewidth": 0,
             "ticks": ""
            },
            "colorscale": [
             [
              0,
              "#0d0887"
             ],
             [
              0.1111111111111111,
              "#46039f"
             ],
             [
              0.2222222222222222,
              "#7201a8"
             ],
             [
              0.3333333333333333,
              "#9c179e"
             ],
             [
              0.4444444444444444,
              "#bd3786"
             ],
             [
              0.5555555555555556,
              "#d8576b"
             ],
             [
              0.6666666666666666,
              "#ed7953"
             ],
             [
              0.7777777777777778,
              "#fb9f3a"
             ],
             [
              0.8888888888888888,
              "#fdca26"
             ],
             [
              1,
              "#f0f921"
             ]
            ],
            "type": "heatmapgl"
           }
          ],
          "histogram": [
           {
            "marker": {
             "pattern": {
              "fillmode": "overlay",
              "size": 10,
              "solidity": 0.2
             }
            },
            "type": "histogram"
           }
          ],
          "histogram2d": [
           {
            "colorbar": {
             "outlinewidth": 0,
             "ticks": ""
            },
            "colorscale": [
             [
              0,
              "#0d0887"
             ],
             [
              0.1111111111111111,
              "#46039f"
             ],
             [
              0.2222222222222222,
              "#7201a8"
             ],
             [
              0.3333333333333333,
              "#9c179e"
             ],
             [
              0.4444444444444444,
              "#bd3786"
             ],
             [
              0.5555555555555556,
              "#d8576b"
             ],
             [
              0.6666666666666666,
              "#ed7953"
             ],
             [
              0.7777777777777778,
              "#fb9f3a"
             ],
             [
              0.8888888888888888,
              "#fdca26"
             ],
             [
              1,
              "#f0f921"
             ]
            ],
            "type": "histogram2d"
           }
          ],
          "histogram2dcontour": [
           {
            "colorbar": {
             "outlinewidth": 0,
             "ticks": ""
            },
            "colorscale": [
             [
              0,
              "#0d0887"
             ],
             [
              0.1111111111111111,
              "#46039f"
             ],
             [
              0.2222222222222222,
              "#7201a8"
             ],
             [
              0.3333333333333333,
              "#9c179e"
             ],
             [
              0.4444444444444444,
              "#bd3786"
             ],
             [
              0.5555555555555556,
              "#d8576b"
             ],
             [
              0.6666666666666666,
              "#ed7953"
             ],
             [
              0.7777777777777778,
              "#fb9f3a"
             ],
             [
              0.8888888888888888,
              "#fdca26"
             ],
             [
              1,
              "#f0f921"
             ]
            ],
            "type": "histogram2dcontour"
           }
          ],
          "mesh3d": [
           {
            "colorbar": {
             "outlinewidth": 0,
             "ticks": ""
            },
            "type": "mesh3d"
           }
          ],
          "parcoords": [
           {
            "line": {
             "colorbar": {
              "outlinewidth": 0,
              "ticks": ""
             }
            },
            "type": "parcoords"
           }
          ],
          "pie": [
           {
            "automargin": true,
            "type": "pie"
           }
          ],
          "scatter": [
           {
            "fillpattern": {
             "fillmode": "overlay",
             "size": 10,
             "solidity": 0.2
            },
            "type": "scatter"
           }
          ],
          "scatter3d": [
           {
            "line": {
             "colorbar": {
              "outlinewidth": 0,
              "ticks": ""
             }
            },
            "marker": {
             "colorbar": {
              "outlinewidth": 0,
              "ticks": ""
             }
            },
            "type": "scatter3d"
           }
          ],
          "scattercarpet": [
           {
            "marker": {
             "colorbar": {
              "outlinewidth": 0,
              "ticks": ""
             }
            },
            "type": "scattercarpet"
           }
          ],
          "scattergeo": [
           {
            "marker": {
             "colorbar": {
              "outlinewidth": 0,
              "ticks": ""
             }
            },
            "type": "scattergeo"
           }
          ],
          "scattergl": [
           {
            "marker": {
             "colorbar": {
              "outlinewidth": 0,
              "ticks": ""
             }
            },
            "type": "scattergl"
           }
          ],
          "scattermapbox": [
           {
            "marker": {
             "colorbar": {
              "outlinewidth": 0,
              "ticks": ""
             }
            },
            "type": "scattermapbox"
           }
          ],
          "scatterpolar": [
           {
            "marker": {
             "colorbar": {
              "outlinewidth": 0,
              "ticks": ""
             }
            },
            "type": "scatterpolar"
           }
          ],
          "scatterpolargl": [
           {
            "marker": {
             "colorbar": {
              "outlinewidth": 0,
              "ticks": ""
             }
            },
            "type": "scatterpolargl"
           }
          ],
          "scatterternary": [
           {
            "marker": {
             "colorbar": {
              "outlinewidth": 0,
              "ticks": ""
             }
            },
            "type": "scatterternary"
           }
          ],
          "surface": [
           {
            "colorbar": {
             "outlinewidth": 0,
             "ticks": ""
            },
            "colorscale": [
             [
              0,
              "#0d0887"
             ],
             [
              0.1111111111111111,
              "#46039f"
             ],
             [
              0.2222222222222222,
              "#7201a8"
             ],
             [
              0.3333333333333333,
              "#9c179e"
             ],
             [
              0.4444444444444444,
              "#bd3786"
             ],
             [
              0.5555555555555556,
              "#d8576b"
             ],
             [
              0.6666666666666666,
              "#ed7953"
             ],
             [
              0.7777777777777778,
              "#fb9f3a"
             ],
             [
              0.8888888888888888,
              "#fdca26"
             ],
             [
              1,
              "#f0f921"
             ]
            ],
            "type": "surface"
           }
          ],
          "table": [
           {
            "cells": {
             "fill": {
              "color": "#EBF0F8"
             },
             "line": {
              "color": "white"
             }
            },
            "header": {
             "fill": {
              "color": "#C8D4E3"
             },
             "line": {
              "color": "white"
             }
            },
            "type": "table"
           }
          ]
         },
         "layout": {
          "annotationdefaults": {
           "arrowcolor": "#2a3f5f",
           "arrowhead": 0,
           "arrowwidth": 1
          },
          "autotypenumbers": "strict",
          "coloraxis": {
           "colorbar": {
            "outlinewidth": 0,
            "ticks": ""
           }
          },
          "colorscale": {
           "diverging": [
            [
             0,
             "#8e0152"
            ],
            [
             0.1,
             "#c51b7d"
            ],
            [
             0.2,
             "#de77ae"
            ],
            [
             0.3,
             "#f1b6da"
            ],
            [
             0.4,
             "#fde0ef"
            ],
            [
             0.5,
             "#f7f7f7"
            ],
            [
             0.6,
             "#e6f5d0"
            ],
            [
             0.7,
             "#b8e186"
            ],
            [
             0.8,
             "#7fbc41"
            ],
            [
             0.9,
             "#4d9221"
            ],
            [
             1,
             "#276419"
            ]
           ],
           "sequential": [
            [
             0,
             "#0d0887"
            ],
            [
             0.1111111111111111,
             "#46039f"
            ],
            [
             0.2222222222222222,
             "#7201a8"
            ],
            [
             0.3333333333333333,
             "#9c179e"
            ],
            [
             0.4444444444444444,
             "#bd3786"
            ],
            [
             0.5555555555555556,
             "#d8576b"
            ],
            [
             0.6666666666666666,
             "#ed7953"
            ],
            [
             0.7777777777777778,
             "#fb9f3a"
            ],
            [
             0.8888888888888888,
             "#fdca26"
            ],
            [
             1,
             "#f0f921"
            ]
           ],
           "sequentialminus": [
            [
             0,
             "#0d0887"
            ],
            [
             0.1111111111111111,
             "#46039f"
            ],
            [
             0.2222222222222222,
             "#7201a8"
            ],
            [
             0.3333333333333333,
             "#9c179e"
            ],
            [
             0.4444444444444444,
             "#bd3786"
            ],
            [
             0.5555555555555556,
             "#d8576b"
            ],
            [
             0.6666666666666666,
             "#ed7953"
            ],
            [
             0.7777777777777778,
             "#fb9f3a"
            ],
            [
             0.8888888888888888,
             "#fdca26"
            ],
            [
             1,
             "#f0f921"
            ]
           ]
          },
          "colorway": [
           "#636efa",
           "#EF553B",
           "#00cc96",
           "#ab63fa",
           "#FFA15A",
           "#19d3f3",
           "#FF6692",
           "#B6E880",
           "#FF97FF",
           "#FECB52"
          ],
          "font": {
           "color": "#2a3f5f"
          },
          "geo": {
           "bgcolor": "white",
           "lakecolor": "white",
           "landcolor": "#E5ECF6",
           "showlakes": true,
           "showland": true,
           "subunitcolor": "white"
          },
          "hoverlabel": {
           "align": "left"
          },
          "hovermode": "closest",
          "mapbox": {
           "style": "light"
          },
          "paper_bgcolor": "white",
          "plot_bgcolor": "#E5ECF6",
          "polar": {
           "angularaxis": {
            "gridcolor": "white",
            "linecolor": "white",
            "ticks": ""
           },
           "bgcolor": "#E5ECF6",
           "radialaxis": {
            "gridcolor": "white",
            "linecolor": "white",
            "ticks": ""
           }
          },
          "scene": {
           "xaxis": {
            "backgroundcolor": "#E5ECF6",
            "gridcolor": "white",
            "gridwidth": 2,
            "linecolor": "white",
            "showbackground": true,
            "ticks": "",
            "zerolinecolor": "white"
           },
           "yaxis": {
            "backgroundcolor": "#E5ECF6",
            "gridcolor": "white",
            "gridwidth": 2,
            "linecolor": "white",
            "showbackground": true,
            "ticks": "",
            "zerolinecolor": "white"
           },
           "zaxis": {
            "backgroundcolor": "#E5ECF6",
            "gridcolor": "white",
            "gridwidth": 2,
            "linecolor": "white",
            "showbackground": true,
            "ticks": "",
            "zerolinecolor": "white"
           }
          },
          "shapedefaults": {
           "line": {
            "color": "#2a3f5f"
           }
          },
          "ternary": {
           "aaxis": {
            "gridcolor": "white",
            "linecolor": "white",
            "ticks": ""
           },
           "baxis": {
            "gridcolor": "white",
            "linecolor": "white",
            "ticks": ""
           },
           "bgcolor": "#E5ECF6",
           "caxis": {
            "gridcolor": "white",
            "linecolor": "white",
            "ticks": ""
           }
          },
          "title": {
           "x": 0.05
          },
          "xaxis": {
           "automargin": true,
           "gridcolor": "white",
           "linecolor": "white",
           "ticks": "",
           "title": {
            "standoff": 15
           },
           "zerolinecolor": "white",
           "zerolinewidth": 2
          },
          "yaxis": {
           "automargin": true,
           "gridcolor": "white",
           "linecolor": "white",
           "ticks": "",
           "title": {
            "standoff": 15
           },
           "zerolinecolor": "white",
           "zerolinewidth": 2
          }
         }
        },
        "title": {
         "font": {
          "size": 16
         },
         "subtitle": {
          "text": "Llama 3.3 70B, Layer 40 - Mean-Centered and L2 Normalized Vectors"
         },
         "text": "PCA on Trait Vectors",
         "x": 0.5
        },
        "width": 1000,
        "xaxis": {
         "anchor": "y",
         "domain": [
          0,
          1
         ],
         "range": [
          -1.1,
          1.1
         ]
        },
        "xaxis2": {
         "anchor": "y2",
         "domain": [
          0,
          1
         ],
         "range": [
          -1.1,
          1.1
         ]
        },
        "yaxis": {
         "anchor": "x",
         "domain": [
          0.55,
          1
         ],
         "range": [
          0,
          2.5
         ],
         "showticklabels": false
        },
        "yaxis2": {
         "anchor": "x2",
         "domain": [
          0,
          0.45
         ],
         "range": [
          0,
          2.5
         ],
         "showticklabels": false
        }
       }
      },
      "text/html": [
       "<div>                            <div id=\"1ddfd870-127b-402d-b0a1-8f566d300cf2\" class=\"plotly-graph-div\" style=\"height:800px; width:1000px;\"></div>            <script type=\"text/javascript\">                require([\"plotly\"], function(Plotly) {                    window.PLOTLYENV=window.PLOTLYENV || {};                                    if (document.getElementById(\"1ddfd870-127b-402d-b0a1-8f566d300cf2\")) {                    Plotly.newPlot(                        \"1ddfd870-127b-402d-b0a1-8f566d300cf2\",                        [{\"hovertemplate\":\"\\u003cb\\u003e%{text}\\u003c\\u002fb\\u003e\\u003cbr\\u003eCosine Similarity: %{x:.3f}\\u003cextra\\u003e\\u003c\\u002fextra\\u003e\",\"marker\":{\"color\":\"limegreen\",\"line\":{\"color\":\"black\",\"width\":1},\"opacity\":1.0,\"size\":8,\"symbol\":\"diamond\"},\"mode\":\"markers\",\"showlegend\":false,\"text\":[\"Zealous\",\"Wry\",\"Witty\",\"Whimsical\",\"Visceral\",\"Vindictive\",\"Verbose\",\"Utilitarian\",\"Urgent\",\"Understated\",\"Transparent\",\"Theoretical\",\"Theatrical\",\"Temperamental\",\"Technical\",\"Tactful\",\"Systems Thinker\",\"Sycophantic\",\"Supportive\",\"Subversive\",\"Submissive\",\"Structuralist\",\"Stream Of Consciousness\",\"Strategic\",\"Stoic\",\"Spontaneous\",\"Speculative\",\"Specialized\",\"Solemn\",\"Socratic\",\"Serious\",\"Secular\",\"Savage\",\"Sassy\",\"Sardonic\",\"Sarcastic\",\"Romantic\",\"Ritualistic\",\"Risk Taking\",\"Rhetorical\",\"Resilient\",\"Reserved\",\"Relativist\",\"Regulatory\",\"Reductionist\",\"Reactive\",\"Rationalist\",\"Radical\",\"Quantitative\",\"Qualitative\",\"Provocative\",\"Progressive\",\"Problem Solving\",\"Proactive\",\"Principled\",\"Prescriptive\",\"Practical\",\"Poetic\",\"Pluralist\",\"Playful\",\"Philosophical\",\"Petty\",\"Pessimistic\",\"Perfectionist\",\"Pensive\",\"Pedantic\",\"Patient\",\"Passive Aggressive\",\"Passionate\",\"Paranoid\",\"Paradoxical\",\"Pacifist\",\"Optimistic\",\"Open Ended\",\"Obsessive\",\"Nurturing\",\"Nostalgic\",\"Nonchalant\",\"Nihilistic\",\"Neurotic\",\"Narrative\",\"Naive\",\"Moderate\",\"Mischievous\",\"Misanthropic\",\"Militant\",\"Meticulous\",\"Methodical\",\"Metaphorical\",\"Mercurial\",\"Melodramatic\",\"Melancholic\",\"Meditative\",\"Materialist\",\"Manipulative\",\"Manic\",\"Literal\",\"Libertarian\",\"Judgmental\",\"Irreverent\",\"Ironic\",\"Intuitive\",\"Introverted\",\"Introspective\",\"Interdisciplinary\",\"Inspirational\",\"Inquisitive\",\"Innovative\",\"Individualistic\",\"Independent\",\"Impulsive\",\"Improvisational\",\"Impatient\",\"Iconoclastic\",\"Humanistic\",\"Hostile\",\"Holistic\",\"Historical\",\"Hedonistic\",\"Grounded\",\"Gregarious\",\"Grandiose\",\"Goofy\",\"Generous\",\"Generalist\",\"Futuristic\",\"Formalist\",\"Formal\",\"Forgiving\",\"Flirty\",\"Flippant\",\"Flexible\",\"Fatalistic\",\"Factual\",\"Extroverted\",\"Experiential\",\"Existentialist\",\"Evil\",\"Ethereal\",\"Esoteric\",\"Erudite\",\"Epicurean\",\"Environmental\",\"Entertaining\",\"Enigmatic\",\"Empathetic\",\"Emotional\",\"Eloquent\",\"Elitist\",\"Egalitarian\",\"Effusive\",\"Efficient\",\"Educational\",\"Edgy\",\"Eclectic\",\"Earnest\",\"Dramatic\",\"Dominant\",\"Dogmatic\",\"Dispassionate\",\"Disorganized\",\"Diplomatic\",\"Deterministic\",\"Detached\",\"Descriptive\",\"Deontological\",\"Deferential\",\"Decisive\",\"Data Driven\",\"Cynical\",\"Curious\",\"Cryptic\",\"Cruel\",\"Critical\",\"Creative\",\"Cosmopolitan\",\"Convergent\",\"Constructivist\",\"Conscientious\",\"Confrontational\",\"Confident\",\"Condescending\",\"Concise\",\"Conciliatory\",\"Conceptual\",\"Competitive\",\"Collectivistic\",\"Collaborative\",\"Closure Seeking\",\"Circumspect\",\"Chill\",\"Charismatic\",\"Chaotic\",\"Cautious\",\"Casual\",\"Calm\",\"Callous\",\"Calculating\",\"Bombastic\",\"Blunt\",\"Bitter\",\"Big Picture\",\"Benevolent\",\"Avoidant\",\"Assertive\",\"Ascetic\",\"Artistic\",\"Arrogant\",\"Anxious\",\"Anthropocentric\",\"Animated\",\"Analytical\",\"Altruistic\",\"Agreeable\",\"Adventurous\",\"Adaptable\",\"Acerbic\",\"Accommodating\",\"Accessible\",\"Abstract\"],\"x\":[0.08113458752632141,-0.29800868034362793,-0.22161537408828735,0.10924886912107468,-0.03280901908874512,-0.07533107697963715,-0.19059166312217712,-0.27001824975013733,-0.10353641957044601,0.0836748480796814,-0.3803044855594635,-0.0025610981974750757,0.04832293465733528,-0.11253489553928375,-0.31660106778144836,0.29236075282096863,-0.29796120524406433,0.3424035608768463,0.07755358517169952,-0.25836849212646484,0.31062087416648865,-0.3091410994529724,-0.06274545192718506,-0.2563970386981964,0.009294883348047733,-0.01741604320704937,-0.24540741741657257,-0.33691373467445374,0.30506524443626404,-0.059009335935115814,0.25029802322387695,-0.3266894817352295,-0.29333722591400146,-0.3605799078941345,-0.20965296030044556,-0.17632319033145905,0.381573885679245,0.3212434649467468,-0.2872787117958069,0.12251604348421097,0.06518368422985077,0.021507397294044495,-0.029554620385169983,0.2955780625343323,-0.2417934387922287,0.09683956205844879,-0.34848251938819885,-0.2325921207666397,-0.42127400636672974,0.2968418002128601,-0.39432471990585327,-0.4100343883037567,-0.3610934615135193,-0.362064003944397,0.2754700481891632,-0.08877397328615189,-0.03232184424996376,0.1521589308977127,-0.2934739291667938,-0.0919240415096283,-0.008559009060263634,-0.015696415677666664,-0.2450101673603058,-0.13151292502880096,-0.05739670246839523,-0.0867166668176651,0.04929265379905701,0.062476884573698044,-0.005164892412722111,-0.05887869372963905,-0.054169509559869766,0.2921275198459625,0.2619827389717102,-0.17441371083259583,0.056245461106300354,0.13579581677913666,0.3501904606819153,-0.09601876139640808,0.010144627653062344,-0.12879644334316254,0.13787402212619781,0.3558819591999054,0.019060268998146057,-0.11664901673793793,-0.051034100353717804,-0.12275560200214386,-0.08625311404466629,-0.04189075157046318,0.10582704842090607,-0.050277501344680786,0.11389368772506714,-0.06134788691997528,0.2859240472316742,-0.1549181193113327,0.11038308590650558,-0.08913722634315491,0.19441989064216614,0.2900218367576599,-0.10464828461408615,-0.2814647853374481,-0.08884777873754501,-0.0391211211681366,0.18805252015590668,-0.28651976585388184,-0.36268001794815063,0.1284436732530594,-0.21491967141628265,-0.4017201066017151,0.022367283701896667,-0.13345322012901306,0.11400049179792404,0.009357692673802376,-0.006674146745353937,-0.41136500239372253,0.10815954208374023,-0.2602112591266632,-0.33682408928871155,-0.028422845527529716,0.07759757339954376,-0.2057410180568695,-0.11272835731506348,0.17049939930438995,-0.1084158644080162,-0.19479312002658844,-0.20068933069705963,-0.27804166078567505,-0.017757195979356766,0.19583722949028015,0.09288880228996277,0.10848963260650635,-0.12068495154380798,-0.18035584688186646,0.21985921263694763,-0.24411676824092865,-0.08877024799585342,-0.23642942309379578,-0.19310133159160614,-0.017550785094499588,0.28913769125938416,-0.013208623975515366,-0.1750514805316925,0.08605393767356873,0.028107551857829094,-0.10652881115674973,0.20249369740486145,0.10569292306900024,0.08856446295976639,0.08429209887981415,0.17884308099746704,-0.14268434047698975,-0.026729561388492584,0.1594914346933365,-0.21641764044761658,-0.25552549958229065,-0.2361537218093872,0.1692531555891037,0.13565629720687866,-0.074135921895504,0.27066314220428467,-0.10143314301967621,-0.05485204979777336,0.09315578639507294,0.20024049282073975,-0.17320916056632996,-0.1197759360074997,0.3690931499004364,0.12228135764598846,0.1413937509059906,-0.3184087574481964,-0.2703920900821686,-0.14871972799301147,0.1474340260028839,-0.16404736042022705,-0.3945285379886627,-0.22721746563911438,-0.2391233593225479,0.20755167305469513,-0.2253194898366928,-0.014027295634150505,-0.33321768045425415,0.3000897765159607,0.046963732689619064,0.15131743252277374,0.09673789143562317,0.17409533262252808,-0.002124809892848134,0.11724866181612015,-0.11827529221773148,0.2549891173839569,-0.15942145884037018,0.14602375030517578,-0.07910969853401184,-0.27948254346847534,-0.3807719349861145,-0.19418662786483765,0.17349538207054138,-0.18684512376785278,0.020560095086693764,0.1272726207971573,-0.32236137986183167,-0.17848047614097595,0.0951620489358902,0.12315920740365982,0.19675269722938538,0.1179899275302887,0.19992314279079437,0.17482002079486847,0.09285343438386917,-0.20557282865047455,0.3062956631183624,-0.09739188104867935,-0.4046466648578644,0.09817834943532944,0.25159430503845215,-0.2934805750846863,-0.26444435119628906,-0.24856430292129517,-0.012367590330541134,-0.0410119965672493,0.124810591340065],\"y\":[1,1,1,1,1,1,1,1,1,1,1,1,1,1,1,1,1,1,1,1,1,1,1,1,1,1,1,1,1,1,1,1,1,1,1,1,1,1,1,1,1,1,1,1,1,1,1,1,1,1,1,1,1,1,1,1,1,1,1,1,1,1,1,1,1,1,1,1,1,1,1,1,1,1,1,1,1,1,1,1,1,1,1,1,1,1,1,1,1,1,1,1,1,1,1,1,1,1,1,1,1,1,1,1,1,1,1,1,1,1,1,1,1,1,1,1,1,1,1,1,1,1,1,1,1,1,1,1,1,1,1,1,1,1,1,1,1,1,1,1,1,1,1,1,1,1,1,1,1,1,1,1,1,1,1,1,1,1,1,1,1,1,1,1,1,1,1,1,1,1,1,1,1,1,1,1,1,1,1,1,1,1,1,1,1,1,1,1,1,1,1,1,1,1,1,1,1,1,1,1,1,1,1,1,1,1,1,1,1,1,1,1,1,1,1,1,1,1,1,1],\"type\":\"scatter\",\"xaxis\":\"x\",\"yaxis\":\"y\"},{\"hovertemplate\":\"\\u003cb\\u003e%{text}\\u003c\\u002fb\\u003e\\u003cbr\\u003eCosine Similarity: %{x:.3f}\\u003cextra\\u003e\\u003c\\u002fextra\\u003e\",\"marker\":{\"color\":\"limegreen\",\"line\":{\"color\":\"black\",\"width\":1},\"opacity\":1.0,\"size\":8,\"symbol\":\"diamond\"},\"mode\":\"markers\",\"showlegend\":false,\"text\":[\"Universalist\",\"Traditional\",\"Spiritual\",\"Skeptical\",\"Serene\",\"Reverent\",\"Rebellious\",\"Mystical\",\"Inclusive\",\"Idealistic\",\"Humble\",\"Fundamentalist\",\"Exploratory\",\"Essentialist\",\"Divergent\",\"Deconstructionist\",\"Contrarian\",\"Contemporary\",\"Challenging\",\"Absolutist\"],\"x\":[0.47627291083335876,0.5244954824447632,0.4005974531173706,-0.6384134292602539,0.39909258484840393,0.5902993083000183,-0.5090678930282593,0.4191862642765045,-0.44652819633483887,0.49825045466423035,-0.4543490409851074,0.46062496304512024,-0.524368405342102,0.5158295631408691,-0.49312445521354675,-0.4767283499240875,-0.4353332221508026,-0.443477064371109,-0.6044818758964539,0.5730509161949158],\"y\":[1,1,1,1,1,1,1,1,1,1,1,1,1,1,1,1,1,1,1,1],\"type\":\"scatter\",\"xaxis\":\"x\",\"yaxis\":\"y\"},{\"hoverinfo\":\"skip\",\"line\":{\"color\":\"black\",\"width\":1},\"mode\":\"lines\",\"showlegend\":false,\"x\":[-0.6384134292602539,-0.6384134292602539],\"y\":[1.0,1.45],\"type\":\"scatter\",\"xaxis\":\"x\",\"yaxis\":\"y\"},{\"hoverinfo\":\"skip\",\"line\":{\"color\":\"black\",\"width\":1},\"mode\":\"lines\",\"showlegend\":false,\"x\":[-0.6044818758964539,-0.6044818758964539],\"y\":[1.0,0.6],\"type\":\"scatter\",\"xaxis\":\"x\",\"yaxis\":\"y\"},{\"hoverinfo\":\"skip\",\"line\":{\"color\":\"black\",\"width\":1},\"mode\":\"lines\",\"showlegend\":false,\"x\":[-0.524368405342102,-0.524368405342102],\"y\":[1.0,1.9],\"type\":\"scatter\",\"xaxis\":\"x\",\"yaxis\":\"y\"},{\"hoverinfo\":\"skip\",\"line\":{\"color\":\"black\",\"width\":1},\"mode\":\"lines\",\"showlegend\":false,\"x\":[-0.5090678930282593,-0.5090678930282593],\"y\":[1.0,0.15],\"type\":\"scatter\",\"xaxis\":\"x\",\"yaxis\":\"y\"},{\"hoverinfo\":\"skip\",\"line\":{\"color\":\"black\",\"width\":1},\"mode\":\"lines\",\"showlegend\":false,\"x\":[-0.49312445521354675,-0.49312445521354675],\"y\":[1.0,1.6],\"type\":\"scatter\",\"xaxis\":\"x\",\"yaxis\":\"y\"},{\"hoverinfo\":\"skip\",\"line\":{\"color\":\"black\",\"width\":1},\"mode\":\"lines\",\"showlegend\":false,\"x\":[-0.4767283499240875,-0.4767283499240875],\"y\":[1.0,0.45],\"type\":\"scatter\",\"xaxis\":\"x\",\"yaxis\":\"y\"},{\"hoverinfo\":\"skip\",\"line\":{\"color\":\"black\",\"width\":1},\"mode\":\"lines\",\"showlegend\":false,\"x\":[-0.4543490409851074,-0.4543490409851074],\"y\":[1.0,1.3],\"type\":\"scatter\",\"xaxis\":\"x\",\"yaxis\":\"y\"},{\"hoverinfo\":\"skip\",\"line\":{\"color\":\"black\",\"width\":1},\"mode\":\"lines\",\"showlegend\":false,\"x\":[-0.44652819633483887,-0.44652819633483887],\"y\":[1.0,0.75],\"type\":\"scatter\",\"xaxis\":\"x\",\"yaxis\":\"y\"},{\"hoverinfo\":\"skip\",\"line\":{\"color\":\"black\",\"width\":1},\"mode\":\"lines\",\"showlegend\":false,\"x\":[-0.443477064371109,-0.443477064371109],\"y\":[1.0,1.75],\"type\":\"scatter\",\"xaxis\":\"x\",\"yaxis\":\"y\"},{\"hoverinfo\":\"skip\",\"line\":{\"color\":\"black\",\"width\":1},\"mode\":\"lines\",\"showlegend\":false,\"x\":[-0.4353332221508026,-0.4353332221508026],\"y\":[1.0,0.3],\"type\":\"scatter\",\"xaxis\":\"x\",\"yaxis\":\"y\"},{\"hoverinfo\":\"skip\",\"line\":{\"color\":\"black\",\"width\":1},\"mode\":\"lines\",\"showlegend\":false,\"x\":[0.39909258484840393,0.39909258484840393],\"y\":[1.0,1.45],\"type\":\"scatter\",\"xaxis\":\"x\",\"yaxis\":\"y\"},{\"hoverinfo\":\"skip\",\"line\":{\"color\":\"black\",\"width\":1},\"mode\":\"lines\",\"showlegend\":false,\"x\":[0.4005974531173706,0.4005974531173706],\"y\":[1.0,0.6],\"type\":\"scatter\",\"xaxis\":\"x\",\"yaxis\":\"y\"},{\"hoverinfo\":\"skip\",\"line\":{\"color\":\"black\",\"width\":1},\"mode\":\"lines\",\"showlegend\":false,\"x\":[0.4191862642765045,0.4191862642765045],\"y\":[1.0,1.9],\"type\":\"scatter\",\"xaxis\":\"x\",\"yaxis\":\"y\"},{\"hoverinfo\":\"skip\",\"line\":{\"color\":\"black\",\"width\":1},\"mode\":\"lines\",\"showlegend\":false,\"x\":[0.46062496304512024,0.46062496304512024],\"y\":[1.0,0.15],\"type\":\"scatter\",\"xaxis\":\"x\",\"yaxis\":\"y\"},{\"hoverinfo\":\"skip\",\"line\":{\"color\":\"black\",\"width\":1},\"mode\":\"lines\",\"showlegend\":false,\"x\":[0.47627291083335876,0.47627291083335876],\"y\":[1.0,1.6],\"type\":\"scatter\",\"xaxis\":\"x\",\"yaxis\":\"y\"},{\"hoverinfo\":\"skip\",\"line\":{\"color\":\"black\",\"width\":1},\"mode\":\"lines\",\"showlegend\":false,\"x\":[0.49825045466423035,0.49825045466423035],\"y\":[1.0,0.45],\"type\":\"scatter\",\"xaxis\":\"x\",\"yaxis\":\"y\"},{\"hoverinfo\":\"skip\",\"line\":{\"color\":\"black\",\"width\":1},\"mode\":\"lines\",\"showlegend\":false,\"x\":[0.5158295631408691,0.5158295631408691],\"y\":[1.0,1.3],\"type\":\"scatter\",\"xaxis\":\"x\",\"yaxis\":\"y\"},{\"hoverinfo\":\"skip\",\"line\":{\"color\":\"black\",\"width\":1},\"mode\":\"lines\",\"showlegend\":false,\"x\":[0.5244954824447632,0.5244954824447632],\"y\":[1.0,0.75],\"type\":\"scatter\",\"xaxis\":\"x\",\"yaxis\":\"y\"},{\"hoverinfo\":\"skip\",\"line\":{\"color\":\"black\",\"width\":1},\"mode\":\"lines\",\"showlegend\":false,\"x\":[0.5730509161949158,0.5730509161949158],\"y\":[1.0,1.75],\"type\":\"scatter\",\"xaxis\":\"x\",\"yaxis\":\"y\"},{\"hoverinfo\":\"skip\",\"line\":{\"color\":\"black\",\"width\":1},\"mode\":\"lines\",\"showlegend\":false,\"x\":[0.5902993083000183,0.5902993083000183],\"y\":[1.0,0.3],\"type\":\"scatter\",\"xaxis\":\"x\",\"yaxis\":\"y\"},{\"hoverinfo\":\"skip\",\"marker\":{\"color\":\"limegreen\"},\"opacity\":0.7,\"showlegend\":false,\"width\":0.032765674591064456,\"x\":[-0.6179348826408386,-0.5769777894020081,-0.5360206961631775,-0.4950636029243469,-0.45410650968551636,-0.4131494164466858,-0.3721923232078552,-0.33123522996902466,-0.2902781665325165,-0.2493210732936859,-0.20836396515369415,-0.16740688681602478,-0.1264497935771942,-0.08549270033836365,-0.04453560709953308,-0.0035785147920250893,0.03737857565283775,0.07833566516637802,0.11929275095462799,0.16024984419345856,0.20120693743228912,0.24216404557228088,0.28312110900878906,0.32407820224761963,0.3650352954864502,0.40599238872528076,0.44694948196411133,0.4879065752029419,0.5288636684417725,0.569820761680603],\"y\":[0.09473684210526316,0.0,0.04736842105263158,0.14210526315789473,0.18947368421052632,0.33157894736842103,0.28421052631578947,0.37894736842105264,0.6157894736842106,0.6631578947368421,0.6157894736842106,0.5210526315789474,0.6157894736842106,0.7105263157894737,0.8052631578947369,0.7105263157894737,0.4263157894736842,0.7578947368421053,0.9,0.5684210526315789,0.4263157894736842,0.18947368421052632,0.47368421052631576,0.23684210526315788,0.18947368421052632,0.14210526315789473,0.04736842105263158,0.09473684210526316,0.09473684210526316,0.09473684210526316],\"type\":\"bar\",\"xaxis\":\"x\",\"yaxis\":\"y\"},{\"hovertemplate\":\"\\u003cb\\u003e%{text}\\u003c\\u002fb\\u003e\\u003cbr\\u003ePC Projection: %{x:.3f}\\u003cextra\\u003e\\u003c\\u002fextra\\u003e\",\"marker\":{\"color\":\"limegreen\",\"line\":{\"color\":\"black\",\"width\":1},\"opacity\":1.0,\"size\":8,\"symbol\":\"diamond\"},\"mode\":\"markers\",\"showlegend\":false,\"text\":[\"Zealous\",\"Wry\",\"Witty\",\"Whimsical\",\"Visceral\",\"Vindictive\",\"Verbose\",\"Utilitarian\",\"Urgent\",\"Understated\",\"Transparent\",\"Theoretical\",\"Theatrical\",\"Temperamental\",\"Technical\",\"Tactful\",\"Systems Thinker\",\"Sycophantic\",\"Supportive\",\"Subversive\",\"Submissive\",\"Structuralist\",\"Stream Of Consciousness\",\"Strategic\",\"Stoic\",\"Spontaneous\",\"Speculative\",\"Specialized\",\"Solemn\",\"Socratic\",\"Serious\",\"Serene\",\"Secular\",\"Savage\",\"Sassy\",\"Sardonic\",\"Sarcastic\",\"Ritualistic\",\"Risk Taking\",\"Rhetorical\",\"Resilient\",\"Reserved\",\"Relativist\",\"Regulatory\",\"Reductionist\",\"Reactive\",\"Rationalist\",\"Radical\",\"Quantitative\",\"Qualitative\",\"Progressive\",\"Problem Solving\",\"Proactive\",\"Principled\",\"Prescriptive\",\"Practical\",\"Poetic\",\"Pluralist\",\"Playful\",\"Philosophical\",\"Petty\",\"Pessimistic\",\"Perfectionist\",\"Pensive\",\"Pedantic\",\"Patient\",\"Passive Aggressive\",\"Passionate\",\"Paranoid\",\"Paradoxical\",\"Pacifist\",\"Optimistic\",\"Open Ended\",\"Obsessive\",\"Nurturing\",\"Nostalgic\",\"Nonchalant\",\"Nihilistic\",\"Neurotic\",\"Narrative\",\"Naive\",\"Moderate\",\"Mischievous\",\"Misanthropic\",\"Militant\",\"Meticulous\",\"Methodical\",\"Metaphorical\",\"Mercurial\",\"Melodramatic\",\"Melancholic\",\"Meditative\",\"Materialist\",\"Manipulative\",\"Manic\",\"Literal\",\"Libertarian\",\"Judgmental\",\"Irreverent\",\"Ironic\",\"Intuitive\",\"Introverted\",\"Introspective\",\"Interdisciplinary\",\"Inspirational\",\"Inquisitive\",\"Individualistic\",\"Independent\",\"Inclusive\",\"Impulsive\",\"Improvisational\",\"Impatient\",\"Humble\",\"Humanistic\",\"Hostile\",\"Holistic\",\"Historical\",\"Hedonistic\",\"Grounded\",\"Gregarious\",\"Grandiose\",\"Goofy\",\"Generous\",\"Generalist\",\"Futuristic\",\"Formalist\",\"Formal\",\"Forgiving\",\"Flirty\",\"Flippant\",\"Flexible\",\"Fatalistic\",\"Factual\",\"Extroverted\",\"Experiential\",\"Existentialist\",\"Evil\",\"Ethereal\",\"Esoteric\",\"Erudite\",\"Epicurean\",\"Environmental\",\"Entertaining\",\"Enigmatic\",\"Empathetic\",\"Emotional\",\"Eloquent\",\"Elitist\",\"Egalitarian\",\"Effusive\",\"Efficient\",\"Educational\",\"Edgy\",\"Eclectic\",\"Earnest\",\"Dramatic\",\"Dominant\",\"Dogmatic\",\"Dispassionate\",\"Disorganized\",\"Diplomatic\",\"Deterministic\",\"Detached\",\"Descriptive\",\"Deontological\",\"Deferential\",\"Decisive\",\"Data Driven\",\"Cynical\",\"Curious\",\"Cryptic\",\"Cruel\",\"Critical\",\"Creative\",\"Cosmopolitan\",\"Convergent\",\"Contemporary\",\"Constructivist\",\"Conscientious\",\"Confrontational\",\"Confident\",\"Condescending\",\"Concise\",\"Conciliatory\",\"Conceptual\",\"Competitive\",\"Collectivistic\",\"Collaborative\",\"Closure Seeking\",\"Circumspect\",\"Chill\",\"Charismatic\",\"Chaotic\",\"Cautious\",\"Casual\",\"Calm\",\"Callous\",\"Calculating\",\"Bombastic\",\"Blunt\",\"Bitter\",\"Big Picture\",\"Benevolent\",\"Avoidant\",\"Assertive\",\"Ascetic\",\"Artistic\",\"Arrogant\",\"Anxious\",\"Anthropocentric\",\"Animated\",\"Analytical\",\"Altruistic\",\"Agreeable\",\"Adventurous\",\"Adaptable\",\"Acerbic\",\"Accommodating\",\"Accessible\",\"Abstract\"],\"x\":[0.1374281793832779,-0.288382887840271,-0.2177892029285431,0.16781578958034515,0.0053404257632792,-0.03435551002621651,-0.1665336638689041,-0.1818329095840454,-0.06714832782745361,0.1062106117606163,-0.3034820258617401,0.04587891697883606,0.08915507048368454,-0.08520176261663437,-0.29770830273628235,0.3152378797531128,-0.26663169264793396,0.3926786482334137,0.10605279356241226,-0.25694960355758667,0.3368256986141205,-0.2619483172893524,-0.018775077536702156,-0.2264830768108368,0.05060361698269844,0.02601560950279236,-0.23894810676574707,-0.33215612173080444,0.3296007215976715,-0.022593729197978973,0.2698094844818115,0.42499879002571106,-0.24120570719242096,-0.26646995544433594,-0.34849247336387634,-0.19006234407424927,-0.15379992127418518,0.3625856637954712,-0.2811029255390167,0.19117514789104462,0.09330939501523972,0.05631525069475174,0.010777289047837257,0.3102089464664459,-0.14094454050064087,0.12892909348011017,-0.2706708312034607,-0.2168605625629425,-0.37264564633369446,0.3499995768070221,-0.37470364570617676,-0.32048943638801575,-0.3338831067085266,0.33318984508514404,-0.04161062091588974,0.011858920566737652,0.20691660046577454,-0.19496160745620728,-0.062267810106277466,0.037051498889923096,0.017718978226184845,-0.2057480812072754,-0.0961887538433075,-0.02753947488963604,-0.046289876103401184,0.07877124845981598,0.10000132024288177,0.036761704832315445,-0.022442150861024857,-0.00749982800334692,0.365994393825531,0.2821888029575348,-0.12925252318382263,0.10595161467790604,0.16584165394306183,0.4283883571624756,-0.06527772545814514,0.04205753654241562,-0.09859882295131683,0.19590315222740173,0.37282100319862366,0.051254335790872574,-0.09223524481058121,-0.021189603954553604,-0.09508153051137924,-0.051980387419462204,-0.004959955811500549,0.15423984825611115,-0.014460538513958454,0.16676627099514008,-0.03034617006778717,0.3249252438545227,-0.09211797267198563,0.15004216134548187,-0.06095793470740318,0.21213045716285706,0.3458911180496216,-0.07302485406398773,-0.2610042095184326,-0.06090150028467178,0.00334820500575006,0.22687511146068573,-0.2771468758583069,-0.3406877815723419,0.15633349120616913,-0.17785005271434784,0.09195362776517868,-0.09489823132753372,-0.4060802757740021,0.1465986669063568,0.060367144644260406,0.02395026758313179,-0.3587596118450165,0.1501173973083496,-0.2366764098405838,-0.3120897710323334,0.020856019109487534,0.12348128110170364,-0.14091861248016357,-0.07934539765119553,0.2455822229385376,-0.08376354724168777,-0.17322322726249695,-0.15790343284606934,-0.25784406065940857,0.03413623943924904,0.22626930475234985,0.1430235505104065,0.15359090268611908,-0.09467187523841858,-0.13290682435035706,0.2686578631401062,-0.15808099508285522,-0.05028229206800461,-0.18608863651752472,-0.15363909304141998,0.016978997737169266,0.36549562215805054,0.025448409840464592,-0.15683548152446747,0.13768509030342102,0.07424470782279968,-0.08131568878889084,0.25668203830718994,0.15378321707248688,0.1359533816576004,0.12397004663944244,0.23887182772159576,-0.09209141135215759,0.006577501073479652,0.18058329820632935,-0.18938837945461273,-0.2464415580034256,-0.23235604166984558,0.19638526439666748,0.19214119017124176,-0.024714026600122452,0.31370291113853455,-0.05405285954475403,-0.024808911606669426,0.11990894377231598,0.24538899958133698,-0.11338581889867783,-0.06088753417134285,0.4072730541229248,0.16495491564273834,0.17126886546611786,-0.2616553008556366,-0.2443617433309555,-0.12564091384410858,0.1992739737033844,-0.13578620553016663,-0.4018400013446808,-0.23456411063671112,-0.19736763834953308,0.22530728578567505,-0.3323308229446411,-0.19199103116989136,0.014335007406771183,-0.2943151891231537,0.34213003516197205,0.09302139282226562,0.17234960198402405,0.12091031670570374,0.23815983533859253,0.03680142015218735,0.156823992729187,-0.0711192712187767,0.27376866340637207,-0.1189240887761116,0.16917957365512848,-0.056732263416051865,-0.2792993187904358,-0.31584784388542175,-0.1559201180934906,0.19048821926116943,-0.15631204843521118,0.06052521616220474,0.176372230052948,-0.27278807759284973,-0.1553061306476593,0.15160773694515228,0.15075327455997467,0.22122018039226532,0.17537125945091248,0.24064598977565765,0.23884211480617523,0.14078527688980103,-0.1748206615447998,0.3465370833873749,-0.07704828679561615,-0.3501281142234802,0.13186435401439667,0.2687470614910126,-0.28953251242637634,-0.21365778148174286,-0.23175916075706482,0.042648203670978546,-0.0061876424588263035,0.1873585283756256],\"y\":[1,1,1,1,1,1,1,1,1,1,1,1,1,1,1,1,1,1,1,1,1,1,1,1,1,1,1,1,1,1,1,1,1,1,1,1,1,1,1,1,1,1,1,1,1,1,1,1,1,1,1,1,1,1,1,1,1,1,1,1,1,1,1,1,1,1,1,1,1,1,1,1,1,1,1,1,1,1,1,1,1,1,1,1,1,1,1,1,1,1,1,1,1,1,1,1,1,1,1,1,1,1,1,1,1,1,1,1,1,1,1,1,1,1,1,1,1,1,1,1,1,1,1,1,1,1,1,1,1,1,1,1,1,1,1,1,1,1,1,1,1,1,1,1,1,1,1,1,1,1,1,1,1,1,1,1,1,1,1,1,1,1,1,1,1,1,1,1,1,1,1,1,1,1,1,1,1,1,1,1,1,1,1,1,1,1,1,1,1,1,1,1,1,1,1,1,1,1,1,1,1,1,1,1,1,1,1,1,1,1,1,1,1,1,1,1,1,1,1,1],\"type\":\"scatter\",\"xaxis\":\"x2\",\"yaxis\":\"y2\"},{\"hovertemplate\":\"\\u003cb\\u003e%{text}\\u003c\\u002fb\\u003e\\u003cbr\\u003ePC Projection: %{x:.3f}\\u003cextra\\u003e\\u003c\\u002fextra\\u003e\",\"marker\":{\"color\":\"limegreen\",\"line\":{\"color\":\"black\",\"width\":1},\"opacity\":1.0,\"size\":8,\"symbol\":\"diamond\"},\"mode\":\"markers\",\"showlegend\":false,\"text\":[\"Universalist\",\"Traditional\",\"Spiritual\",\"Skeptical\",\"Romantic\",\"Reverent\",\"Rebellious\",\"Provocative\",\"Mystical\",\"Innovative\",\"Idealistic\",\"Iconoclastic\",\"Fundamentalist\",\"Exploratory\",\"Essentialist\",\"Divergent\",\"Deconstructionist\",\"Contrarian\",\"Challenging\",\"Absolutist\"],\"x\":[0.44997936487197876,0.48857975006103516,0.49516022205352783,-0.6114120483398438,0.4779621958732605,0.6384191513061523,-0.5366925597190857,-0.4301004707813263,0.5112462639808655,-0.4247573912143707,0.59221351146698,-0.43296921253204346,0.49469804763793945,-0.49993765354156494,0.5441921949386597,-0.4692422151565552,-0.5152999758720398,-0.4555948078632355,-0.648318350315094,0.5985475182533264],\"y\":[1,1,1,1,1,1,1,1,1,1,1,1,1,1,1,1,1,1,1,1],\"type\":\"scatter\",\"xaxis\":\"x2\",\"yaxis\":\"y2\"},{\"hoverinfo\":\"skip\",\"line\":{\"color\":\"black\",\"width\":1},\"mode\":\"lines\",\"showlegend\":false,\"x\":[-0.648318350315094,-0.648318350315094],\"y\":[1.0,1.45],\"type\":\"scatter\",\"xaxis\":\"x2\",\"yaxis\":\"y2\"},{\"hoverinfo\":\"skip\",\"line\":{\"color\":\"black\",\"width\":1},\"mode\":\"lines\",\"showlegend\":false,\"x\":[-0.6114120483398438,-0.6114120483398438],\"y\":[1.0,0.6],\"type\":\"scatter\",\"xaxis\":\"x2\",\"yaxis\":\"y2\"},{\"hoverinfo\":\"skip\",\"line\":{\"color\":\"black\",\"width\":1},\"mode\":\"lines\",\"showlegend\":false,\"x\":[-0.5366925597190857,-0.5366925597190857],\"y\":[1.0,1.9],\"type\":\"scatter\",\"xaxis\":\"x2\",\"yaxis\":\"y2\"},{\"hoverinfo\":\"skip\",\"line\":{\"color\":\"black\",\"width\":1},\"mode\":\"lines\",\"showlegend\":false,\"x\":[-0.5152999758720398,-0.5152999758720398],\"y\":[1.0,0.15],\"type\":\"scatter\",\"xaxis\":\"x2\",\"yaxis\":\"y2\"},{\"hoverinfo\":\"skip\",\"line\":{\"color\":\"black\",\"width\":1},\"mode\":\"lines\",\"showlegend\":false,\"x\":[-0.49993765354156494,-0.49993765354156494],\"y\":[1.0,1.6],\"type\":\"scatter\",\"xaxis\":\"x2\",\"yaxis\":\"y2\"},{\"hoverinfo\":\"skip\",\"line\":{\"color\":\"black\",\"width\":1},\"mode\":\"lines\",\"showlegend\":false,\"x\":[-0.4692422151565552,-0.4692422151565552],\"y\":[1.0,0.45],\"type\":\"scatter\",\"xaxis\":\"x2\",\"yaxis\":\"y2\"},{\"hoverinfo\":\"skip\",\"line\":{\"color\":\"black\",\"width\":1},\"mode\":\"lines\",\"showlegend\":false,\"x\":[-0.4555948078632355,-0.4555948078632355],\"y\":[1.0,1.3],\"type\":\"scatter\",\"xaxis\":\"x2\",\"yaxis\":\"y2\"},{\"hoverinfo\":\"skip\",\"line\":{\"color\":\"black\",\"width\":1},\"mode\":\"lines\",\"showlegend\":false,\"x\":[-0.43296921253204346,-0.43296921253204346],\"y\":[1.0,0.75],\"type\":\"scatter\",\"xaxis\":\"x2\",\"yaxis\":\"y2\"},{\"hoverinfo\":\"skip\",\"line\":{\"color\":\"black\",\"width\":1},\"mode\":\"lines\",\"showlegend\":false,\"x\":[-0.4301004707813263,-0.4301004707813263],\"y\":[1.0,1.75],\"type\":\"scatter\",\"xaxis\":\"x2\",\"yaxis\":\"y2\"},{\"hoverinfo\":\"skip\",\"line\":{\"color\":\"black\",\"width\":1},\"mode\":\"lines\",\"showlegend\":false,\"x\":[-0.4247573912143707,-0.4247573912143707],\"y\":[1.0,0.3],\"type\":\"scatter\",\"xaxis\":\"x2\",\"yaxis\":\"y2\"},{\"hoverinfo\":\"skip\",\"line\":{\"color\":\"black\",\"width\":1},\"mode\":\"lines\",\"showlegend\":false,\"x\":[0.44997936487197876,0.44997936487197876],\"y\":[1.0,1.45],\"type\":\"scatter\",\"xaxis\":\"x2\",\"yaxis\":\"y2\"},{\"hoverinfo\":\"skip\",\"line\":{\"color\":\"black\",\"width\":1},\"mode\":\"lines\",\"showlegend\":false,\"x\":[0.4779621958732605,0.4779621958732605],\"y\":[1.0,0.6],\"type\":\"scatter\",\"xaxis\":\"x2\",\"yaxis\":\"y2\"},{\"hoverinfo\":\"skip\",\"line\":{\"color\":\"black\",\"width\":1},\"mode\":\"lines\",\"showlegend\":false,\"x\":[0.48857975006103516,0.48857975006103516],\"y\":[1.0,1.9],\"type\":\"scatter\",\"xaxis\":\"x2\",\"yaxis\":\"y2\"},{\"hoverinfo\":\"skip\",\"line\":{\"color\":\"black\",\"width\":1},\"mode\":\"lines\",\"showlegend\":false,\"x\":[0.49469804763793945,0.49469804763793945],\"y\":[1.0,0.15],\"type\":\"scatter\",\"xaxis\":\"x2\",\"yaxis\":\"y2\"},{\"hoverinfo\":\"skip\",\"line\":{\"color\":\"black\",\"width\":1},\"mode\":\"lines\",\"showlegend\":false,\"x\":[0.49516022205352783,0.49516022205352783],\"y\":[1.0,1.6],\"type\":\"scatter\",\"xaxis\":\"x2\",\"yaxis\":\"y2\"},{\"hoverinfo\":\"skip\",\"line\":{\"color\":\"black\",\"width\":1},\"mode\":\"lines\",\"showlegend\":false,\"x\":[0.5112462639808655,0.5112462639808655],\"y\":[1.0,0.45],\"type\":\"scatter\",\"xaxis\":\"x2\",\"yaxis\":\"y2\"},{\"hoverinfo\":\"skip\",\"line\":{\"color\":\"black\",\"width\":1},\"mode\":\"lines\",\"showlegend\":false,\"x\":[0.5441921949386597,0.5441921949386597],\"y\":[1.0,1.3],\"type\":\"scatter\",\"xaxis\":\"x2\",\"yaxis\":\"y2\"},{\"hoverinfo\":\"skip\",\"line\":{\"color\":\"black\",\"width\":1},\"mode\":\"lines\",\"showlegend\":false,\"x\":[0.59221351146698,0.59221351146698],\"y\":[1.0,0.75],\"type\":\"scatter\",\"xaxis\":\"x2\",\"yaxis\":\"y2\"},{\"hoverinfo\":\"skip\",\"line\":{\"color\":\"black\",\"width\":1},\"mode\":\"lines\",\"showlegend\":false,\"x\":[0.5985475182533264,0.5985475182533264],\"y\":[1.0,1.75],\"type\":\"scatter\",\"xaxis\":\"x2\",\"yaxis\":\"y2\"},{\"hoverinfo\":\"skip\",\"line\":{\"color\":\"black\",\"width\":1},\"mode\":\"lines\",\"showlegend\":false,\"x\":[0.6384191513061523,0.6384191513061523],\"y\":[1.0,0.3],\"type\":\"scatter\",\"xaxis\":\"x2\",\"yaxis\":\"y2\"},{\"hoverinfo\":\"skip\",\"marker\":{\"color\":\"limegreen\"},\"opacity\":0.7,\"showlegend\":false,\"width\":0.034313011169433597,\"x\":[-0.626872718334198,-0.583981454372406,-0.5410902500152588,-0.4981989860534668,-0.4553077220916748,-0.4124164581298828,-0.3695252239704132,-0.3266339898109436,-0.2837427258491516,-0.24085146188735962,-0.19796022772789001,-0.15506896376609802,-0.11217772215604782,-0.06928647309541702,-0.026395224034786224,0.016496025025844574,0.05938727408647537,0.10227852314710617,0.14516976475715637,0.18806102871894836,0.23095226287841797,0.27384352684020996,0.31673479080200195,0.35962602496147156,0.40251725912094116,0.44540852308273315,0.48829978704452515,0.5311909914016724,0.5740822553634644,0.6169735193252563],\"y\":[0.09000000000000001,0.0,0.045000000000000005,0.09000000000000001,0.09000000000000001,0.225,0.225,0.315,0.54,0.63,0.54,0.63,0.5850000000000001,0.765,0.675,0.7200000000000001,0.45,0.49500000000000005,0.9,0.7200000000000001,0.49500000000000005,0.27,0.315,0.36000000000000004,0.09000000000000001,0.135,0.18000000000000002,0.09000000000000001,0.045000000000000005,0.09000000000000001],\"type\":\"bar\",\"xaxis\":\"x2\",\"yaxis\":\"y2\"}],                        {\"template\":{\"data\":{\"histogram2dcontour\":[{\"type\":\"histogram2dcontour\",\"colorbar\":{\"outlinewidth\":0,\"ticks\":\"\"},\"colorscale\":[[0.0,\"#0d0887\"],[0.1111111111111111,\"#46039f\"],[0.2222222222222222,\"#7201a8\"],[0.3333333333333333,\"#9c179e\"],[0.4444444444444444,\"#bd3786\"],[0.5555555555555556,\"#d8576b\"],[0.6666666666666666,\"#ed7953\"],[0.7777777777777778,\"#fb9f3a\"],[0.8888888888888888,\"#fdca26\"],[1.0,\"#f0f921\"]]}],\"choropleth\":[{\"type\":\"choropleth\",\"colorbar\":{\"outlinewidth\":0,\"ticks\":\"\"}}],\"histogram2d\":[{\"type\":\"histogram2d\",\"colorbar\":{\"outlinewidth\":0,\"ticks\":\"\"},\"colorscale\":[[0.0,\"#0d0887\"],[0.1111111111111111,\"#46039f\"],[0.2222222222222222,\"#7201a8\"],[0.3333333333333333,\"#9c179e\"],[0.4444444444444444,\"#bd3786\"],[0.5555555555555556,\"#d8576b\"],[0.6666666666666666,\"#ed7953\"],[0.7777777777777778,\"#fb9f3a\"],[0.8888888888888888,\"#fdca26\"],[1.0,\"#f0f921\"]]}],\"heatmap\":[{\"type\":\"heatmap\",\"colorbar\":{\"outlinewidth\":0,\"ticks\":\"\"},\"colorscale\":[[0.0,\"#0d0887\"],[0.1111111111111111,\"#46039f\"],[0.2222222222222222,\"#7201a8\"],[0.3333333333333333,\"#9c179e\"],[0.4444444444444444,\"#bd3786\"],[0.5555555555555556,\"#d8576b\"],[0.6666666666666666,\"#ed7953\"],[0.7777777777777778,\"#fb9f3a\"],[0.8888888888888888,\"#fdca26\"],[1.0,\"#f0f921\"]]}],\"heatmapgl\":[{\"type\":\"heatmapgl\",\"colorbar\":{\"outlinewidth\":0,\"ticks\":\"\"},\"colorscale\":[[0.0,\"#0d0887\"],[0.1111111111111111,\"#46039f\"],[0.2222222222222222,\"#7201a8\"],[0.3333333333333333,\"#9c179e\"],[0.4444444444444444,\"#bd3786\"],[0.5555555555555556,\"#d8576b\"],[0.6666666666666666,\"#ed7953\"],[0.7777777777777778,\"#fb9f3a\"],[0.8888888888888888,\"#fdca26\"],[1.0,\"#f0f921\"]]}],\"contourcarpet\":[{\"type\":\"contourcarpet\",\"colorbar\":{\"outlinewidth\":0,\"ticks\":\"\"}}],\"contour\":[{\"type\":\"contour\",\"colorbar\":{\"outlinewidth\":0,\"ticks\":\"\"},\"colorscale\":[[0.0,\"#0d0887\"],[0.1111111111111111,\"#46039f\"],[0.2222222222222222,\"#7201a8\"],[0.3333333333333333,\"#9c179e\"],[0.4444444444444444,\"#bd3786\"],[0.5555555555555556,\"#d8576b\"],[0.6666666666666666,\"#ed7953\"],[0.7777777777777778,\"#fb9f3a\"],[0.8888888888888888,\"#fdca26\"],[1.0,\"#f0f921\"]]}],\"surface\":[{\"type\":\"surface\",\"colorbar\":{\"outlinewidth\":0,\"ticks\":\"\"},\"colorscale\":[[0.0,\"#0d0887\"],[0.1111111111111111,\"#46039f\"],[0.2222222222222222,\"#7201a8\"],[0.3333333333333333,\"#9c179e\"],[0.4444444444444444,\"#bd3786\"],[0.5555555555555556,\"#d8576b\"],[0.6666666666666666,\"#ed7953\"],[0.7777777777777778,\"#fb9f3a\"],[0.8888888888888888,\"#fdca26\"],[1.0,\"#f0f921\"]]}],\"mesh3d\":[{\"type\":\"mesh3d\",\"colorbar\":{\"outlinewidth\":0,\"ticks\":\"\"}}],\"scatter\":[{\"fillpattern\":{\"fillmode\":\"overlay\",\"size\":10,\"solidity\":0.2},\"type\":\"scatter\"}],\"parcoords\":[{\"type\":\"parcoords\",\"line\":{\"colorbar\":{\"outlinewidth\":0,\"ticks\":\"\"}}}],\"scatterpolargl\":[{\"type\":\"scatterpolargl\",\"marker\":{\"colorbar\":{\"outlinewidth\":0,\"ticks\":\"\"}}}],\"bar\":[{\"error_x\":{\"color\":\"#2a3f5f\"},\"error_y\":{\"color\":\"#2a3f5f\"},\"marker\":{\"line\":{\"color\":\"#E5ECF6\",\"width\":0.5},\"pattern\":{\"fillmode\":\"overlay\",\"size\":10,\"solidity\":0.2}},\"type\":\"bar\"}],\"scattergeo\":[{\"type\":\"scattergeo\",\"marker\":{\"colorbar\":{\"outlinewidth\":0,\"ticks\":\"\"}}}],\"scatterpolar\":[{\"type\":\"scatterpolar\",\"marker\":{\"colorbar\":{\"outlinewidth\":0,\"ticks\":\"\"}}}],\"histogram\":[{\"marker\":{\"pattern\":{\"fillmode\":\"overlay\",\"size\":10,\"solidity\":0.2}},\"type\":\"histogram\"}],\"scattergl\":[{\"type\":\"scattergl\",\"marker\":{\"colorbar\":{\"outlinewidth\":0,\"ticks\":\"\"}}}],\"scatter3d\":[{\"type\":\"scatter3d\",\"line\":{\"colorbar\":{\"outlinewidth\":0,\"ticks\":\"\"}},\"marker\":{\"colorbar\":{\"outlinewidth\":0,\"ticks\":\"\"}}}],\"scattermapbox\":[{\"type\":\"scattermapbox\",\"marker\":{\"colorbar\":{\"outlinewidth\":0,\"ticks\":\"\"}}}],\"scatterternary\":[{\"type\":\"scatterternary\",\"marker\":{\"colorbar\":{\"outlinewidth\":0,\"ticks\":\"\"}}}],\"scattercarpet\":[{\"type\":\"scattercarpet\",\"marker\":{\"colorbar\":{\"outlinewidth\":0,\"ticks\":\"\"}}}],\"carpet\":[{\"aaxis\":{\"endlinecolor\":\"#2a3f5f\",\"gridcolor\":\"white\",\"linecolor\":\"white\",\"minorgridcolor\":\"white\",\"startlinecolor\":\"#2a3f5f\"},\"baxis\":{\"endlinecolor\":\"#2a3f5f\",\"gridcolor\":\"white\",\"linecolor\":\"white\",\"minorgridcolor\":\"white\",\"startlinecolor\":\"#2a3f5f\"},\"type\":\"carpet\"}],\"table\":[{\"cells\":{\"fill\":{\"color\":\"#EBF0F8\"},\"line\":{\"color\":\"white\"}},\"header\":{\"fill\":{\"color\":\"#C8D4E3\"},\"line\":{\"color\":\"white\"}},\"type\":\"table\"}],\"barpolar\":[{\"marker\":{\"line\":{\"color\":\"#E5ECF6\",\"width\":0.5},\"pattern\":{\"fillmode\":\"overlay\",\"size\":10,\"solidity\":0.2}},\"type\":\"barpolar\"}],\"pie\":[{\"automargin\":true,\"type\":\"pie\"}]},\"layout\":{\"autotypenumbers\":\"strict\",\"colorway\":[\"#636efa\",\"#EF553B\",\"#00cc96\",\"#ab63fa\",\"#FFA15A\",\"#19d3f3\",\"#FF6692\",\"#B6E880\",\"#FF97FF\",\"#FECB52\"],\"font\":{\"color\":\"#2a3f5f\"},\"hovermode\":\"closest\",\"hoverlabel\":{\"align\":\"left\"},\"paper_bgcolor\":\"white\",\"plot_bgcolor\":\"#E5ECF6\",\"polar\":{\"bgcolor\":\"#E5ECF6\",\"angularaxis\":{\"gridcolor\":\"white\",\"linecolor\":\"white\",\"ticks\":\"\"},\"radialaxis\":{\"gridcolor\":\"white\",\"linecolor\":\"white\",\"ticks\":\"\"}},\"ternary\":{\"bgcolor\":\"#E5ECF6\",\"aaxis\":{\"gridcolor\":\"white\",\"linecolor\":\"white\",\"ticks\":\"\"},\"baxis\":{\"gridcolor\":\"white\",\"linecolor\":\"white\",\"ticks\":\"\"},\"caxis\":{\"gridcolor\":\"white\",\"linecolor\":\"white\",\"ticks\":\"\"}},\"coloraxis\":{\"colorbar\":{\"outlinewidth\":0,\"ticks\":\"\"}},\"colorscale\":{\"sequential\":[[0.0,\"#0d0887\"],[0.1111111111111111,\"#46039f\"],[0.2222222222222222,\"#7201a8\"],[0.3333333333333333,\"#9c179e\"],[0.4444444444444444,\"#bd3786\"],[0.5555555555555556,\"#d8576b\"],[0.6666666666666666,\"#ed7953\"],[0.7777777777777778,\"#fb9f3a\"],[0.8888888888888888,\"#fdca26\"],[1.0,\"#f0f921\"]],\"sequentialminus\":[[0.0,\"#0d0887\"],[0.1111111111111111,\"#46039f\"],[0.2222222222222222,\"#7201a8\"],[0.3333333333333333,\"#9c179e\"],[0.4444444444444444,\"#bd3786\"],[0.5555555555555556,\"#d8576b\"],[0.6666666666666666,\"#ed7953\"],[0.7777777777777778,\"#fb9f3a\"],[0.8888888888888888,\"#fdca26\"],[1.0,\"#f0f921\"]],\"diverging\":[[0,\"#8e0152\"],[0.1,\"#c51b7d\"],[0.2,\"#de77ae\"],[0.3,\"#f1b6da\"],[0.4,\"#fde0ef\"],[0.5,\"#f7f7f7\"],[0.6,\"#e6f5d0\"],[0.7,\"#b8e186\"],[0.8,\"#7fbc41\"],[0.9,\"#4d9221\"],[1,\"#276419\"]]},\"xaxis\":{\"gridcolor\":\"white\",\"linecolor\":\"white\",\"ticks\":\"\",\"title\":{\"standoff\":15},\"zerolinecolor\":\"white\",\"automargin\":true,\"zerolinewidth\":2},\"yaxis\":{\"gridcolor\":\"white\",\"linecolor\":\"white\",\"ticks\":\"\",\"title\":{\"standoff\":15},\"zerolinecolor\":\"white\",\"automargin\":true,\"zerolinewidth\":2},\"scene\":{\"xaxis\":{\"backgroundcolor\":\"#E5ECF6\",\"gridcolor\":\"white\",\"linecolor\":\"white\",\"showbackground\":true,\"ticks\":\"\",\"zerolinecolor\":\"white\",\"gridwidth\":2},\"yaxis\":{\"backgroundcolor\":\"#E5ECF6\",\"gridcolor\":\"white\",\"linecolor\":\"white\",\"showbackground\":true,\"ticks\":\"\",\"zerolinecolor\":\"white\",\"gridwidth\":2},\"zaxis\":{\"backgroundcolor\":\"#E5ECF6\",\"gridcolor\":\"white\",\"linecolor\":\"white\",\"showbackground\":true,\"ticks\":\"\",\"zerolinecolor\":\"white\",\"gridwidth\":2}},\"shapedefaults\":{\"line\":{\"color\":\"#2a3f5f\"}},\"annotationdefaults\":{\"arrowcolor\":\"#2a3f5f\",\"arrowhead\":0,\"arrowwidth\":1},\"geo\":{\"bgcolor\":\"white\",\"landcolor\":\"#E5ECF6\",\"subunitcolor\":\"white\",\"showland\":true,\"showlakes\":true,\"lakecolor\":\"white\"},\"title\":{\"x\":0.05},\"mapbox\":{\"style\":\"light\"}}},\"xaxis\":{\"anchor\":\"y\",\"domain\":[0.0,1.0],\"range\":[-1.1,1.1]},\"yaxis\":{\"anchor\":\"x\",\"domain\":[0.55,1.0],\"showticklabels\":false,\"range\":[0,2.5]},\"xaxis2\":{\"anchor\":\"y2\",\"domain\":[0.0,1.0],\"range\":[-1.1,1.1]},\"yaxis2\":{\"anchor\":\"x2\",\"domain\":[0.0,0.45],\"showticklabels\":false,\"range\":[0,2.5]},\"annotations\":[{\"font\":{\"size\":16},\"showarrow\":false,\"text\":\"PC5 Cosine Similarity\",\"x\":0.5,\"xanchor\":\"center\",\"xref\":\"paper\",\"y\":1.0,\"yanchor\":\"bottom\",\"yref\":\"paper\"},{\"font\":{\"size\":16},\"showarrow\":false,\"text\":\"PC5 Projection\",\"x\":0.5,\"xanchor\":\"center\",\"xref\":\"paper\",\"y\":0.45,\"yanchor\":\"bottom\",\"yref\":\"paper\"},{\"bgcolor\":\"rgba(255, 255, 255, 0.9)\",\"bordercolor\":\"black\",\"borderwidth\":1,\"font\":{\"color\":\"black\",\"size\":10},\"showarrow\":false,\"text\":\"Skeptical\",\"x\":-0.6384134292602539,\"xref\":\"x\",\"y\":1.45,\"yref\":\"y\"},{\"bgcolor\":\"rgba(255, 255, 255, 0.9)\",\"bordercolor\":\"black\",\"borderwidth\":1,\"font\":{\"color\":\"black\",\"size\":10},\"showarrow\":false,\"text\":\"Challenging\",\"x\":-0.6044818758964539,\"xref\":\"x\",\"y\":0.6,\"yref\":\"y\"},{\"bgcolor\":\"rgba(255, 255, 255, 0.9)\",\"bordercolor\":\"black\",\"borderwidth\":1,\"font\":{\"color\":\"black\",\"size\":10},\"showarrow\":false,\"text\":\"Exploratory\",\"x\":-0.524368405342102,\"xref\":\"x\",\"y\":1.9,\"yref\":\"y\"},{\"bgcolor\":\"rgba(255, 255, 255, 0.9)\",\"bordercolor\":\"black\",\"borderwidth\":1,\"font\":{\"color\":\"black\",\"size\":10},\"showarrow\":false,\"text\":\"Rebellious\",\"x\":-0.5090678930282593,\"xref\":\"x\",\"y\":0.15,\"yref\":\"y\"},{\"bgcolor\":\"rgba(255, 255, 255, 0.9)\",\"bordercolor\":\"black\",\"borderwidth\":1,\"font\":{\"color\":\"black\",\"size\":10},\"showarrow\":false,\"text\":\"Divergent\",\"x\":-0.49312445521354675,\"xref\":\"x\",\"y\":1.6,\"yref\":\"y\"},{\"bgcolor\":\"rgba(255, 255, 255, 0.9)\",\"bordercolor\":\"black\",\"borderwidth\":1,\"font\":{\"color\":\"black\",\"size\":10},\"showarrow\":false,\"text\":\"Deconstructionist\",\"x\":-0.4767283499240875,\"xref\":\"x\",\"y\":0.45,\"yref\":\"y\"},{\"bgcolor\":\"rgba(255, 255, 255, 0.9)\",\"bordercolor\":\"black\",\"borderwidth\":1,\"font\":{\"color\":\"black\",\"size\":10},\"showarrow\":false,\"text\":\"Humble\",\"x\":-0.4543490409851074,\"xref\":\"x\",\"y\":1.3,\"yref\":\"y\"},{\"bgcolor\":\"rgba(255, 255, 255, 0.9)\",\"bordercolor\":\"black\",\"borderwidth\":1,\"font\":{\"color\":\"black\",\"size\":10},\"showarrow\":false,\"text\":\"Inclusive\",\"x\":-0.44652819633483887,\"xref\":\"x\",\"y\":0.75,\"yref\":\"y\"},{\"bgcolor\":\"rgba(255, 255, 255, 0.9)\",\"bordercolor\":\"black\",\"borderwidth\":1,\"font\":{\"color\":\"black\",\"size\":10},\"showarrow\":false,\"text\":\"Contemporary\",\"x\":-0.443477064371109,\"xref\":\"x\",\"y\":1.75,\"yref\":\"y\"},{\"bgcolor\":\"rgba(255, 255, 255, 0.9)\",\"bordercolor\":\"black\",\"borderwidth\":1,\"font\":{\"color\":\"black\",\"size\":10},\"showarrow\":false,\"text\":\"Contrarian\",\"x\":-0.4353332221508026,\"xref\":\"x\",\"y\":0.3,\"yref\":\"y\"},{\"bgcolor\":\"rgba(255, 255, 255, 0.9)\",\"bordercolor\":\"black\",\"borderwidth\":1,\"font\":{\"color\":\"black\",\"size\":10},\"showarrow\":false,\"text\":\"Serene\",\"x\":0.39909258484840393,\"xref\":\"x\",\"y\":1.45,\"yref\":\"y\"},{\"bgcolor\":\"rgba(255, 255, 255, 0.9)\",\"bordercolor\":\"black\",\"borderwidth\":1,\"font\":{\"color\":\"black\",\"size\":10},\"showarrow\":false,\"text\":\"Spiritual\",\"x\":0.4005974531173706,\"xref\":\"x\",\"y\":0.6,\"yref\":\"y\"},{\"bgcolor\":\"rgba(255, 255, 255, 0.9)\",\"bordercolor\":\"black\",\"borderwidth\":1,\"font\":{\"color\":\"black\",\"size\":10},\"showarrow\":false,\"text\":\"Mystical\",\"x\":0.4191862642765045,\"xref\":\"x\",\"y\":1.9,\"yref\":\"y\"},{\"bgcolor\":\"rgba(255, 255, 255, 0.9)\",\"bordercolor\":\"black\",\"borderwidth\":1,\"font\":{\"color\":\"black\",\"size\":10},\"showarrow\":false,\"text\":\"Fundamentalist\",\"x\":0.46062496304512024,\"xref\":\"x\",\"y\":0.15,\"yref\":\"y\"},{\"bgcolor\":\"rgba(255, 255, 255, 0.9)\",\"bordercolor\":\"black\",\"borderwidth\":1,\"font\":{\"color\":\"black\",\"size\":10},\"showarrow\":false,\"text\":\"Universalist\",\"x\":0.47627291083335876,\"xref\":\"x\",\"y\":1.6,\"yref\":\"y\"},{\"bgcolor\":\"rgba(255, 255, 255, 0.9)\",\"bordercolor\":\"black\",\"borderwidth\":1,\"font\":{\"color\":\"black\",\"size\":10},\"showarrow\":false,\"text\":\"Idealistic\",\"x\":0.49825045466423035,\"xref\":\"x\",\"y\":0.45,\"yref\":\"y\"},{\"bgcolor\":\"rgba(255, 255, 255, 0.9)\",\"bordercolor\":\"black\",\"borderwidth\":1,\"font\":{\"color\":\"black\",\"size\":10},\"showarrow\":false,\"text\":\"Essentialist\",\"x\":0.5158295631408691,\"xref\":\"x\",\"y\":1.3,\"yref\":\"y\"},{\"bgcolor\":\"rgba(255, 255, 255, 0.9)\",\"bordercolor\":\"black\",\"borderwidth\":1,\"font\":{\"color\":\"black\",\"size\":10},\"showarrow\":false,\"text\":\"Traditional\",\"x\":0.5244954824447632,\"xref\":\"x\",\"y\":0.75,\"yref\":\"y\"},{\"bgcolor\":\"rgba(255, 255, 255, 0.9)\",\"bordercolor\":\"black\",\"borderwidth\":1,\"font\":{\"color\":\"black\",\"size\":10},\"showarrow\":false,\"text\":\"Absolutist\",\"x\":0.5730509161949158,\"xref\":\"x\",\"y\":1.75,\"yref\":\"y\"},{\"bgcolor\":\"rgba(255, 255, 255, 0.9)\",\"bordercolor\":\"black\",\"borderwidth\":1,\"font\":{\"color\":\"black\",\"size\":10},\"showarrow\":false,\"text\":\"Reverent\",\"x\":0.5902993083000183,\"xref\":\"x\",\"y\":0.3,\"yref\":\"y\"},{\"bgcolor\":\"rgba(255, 255, 255, 0.9)\",\"bordercolor\":\"red\",\"borderwidth\":1,\"font\":{\"color\":\"red\",\"size\":14},\"showarrow\":false,\"text\":\"Assistant\",\"x\":-0.004794590640813112,\"xref\":\"x\",\"y\":2,\"yref\":\"y\"},{\"bgcolor\":\"rgba(255, 255, 255, 0.9)\",\"bordercolor\":\"black\",\"borderwidth\":1,\"font\":{\"color\":\"black\",\"size\":10},\"showarrow\":false,\"text\":\"Challenging\",\"x\":-0.648318350315094,\"xref\":\"x2\",\"y\":1.45,\"yref\":\"y2\"},{\"bgcolor\":\"rgba(255, 255, 255, 0.9)\",\"bordercolor\":\"black\",\"borderwidth\":1,\"font\":{\"color\":\"black\",\"size\":10},\"showarrow\":false,\"text\":\"Skeptical\",\"x\":-0.6114120483398438,\"xref\":\"x2\",\"y\":0.6,\"yref\":\"y2\"},{\"bgcolor\":\"rgba(255, 255, 255, 0.9)\",\"bordercolor\":\"black\",\"borderwidth\":1,\"font\":{\"color\":\"black\",\"size\":10},\"showarrow\":false,\"text\":\"Rebellious\",\"x\":-0.5366925597190857,\"xref\":\"x2\",\"y\":1.9,\"yref\":\"y2\"},{\"bgcolor\":\"rgba(255, 255, 255, 0.9)\",\"bordercolor\":\"black\",\"borderwidth\":1,\"font\":{\"color\":\"black\",\"size\":10},\"showarrow\":false,\"text\":\"Deconstructionist\",\"x\":-0.5152999758720398,\"xref\":\"x2\",\"y\":0.15,\"yref\":\"y2\"},{\"bgcolor\":\"rgba(255, 255, 255, 0.9)\",\"bordercolor\":\"black\",\"borderwidth\":1,\"font\":{\"color\":\"black\",\"size\":10},\"showarrow\":false,\"text\":\"Exploratory\",\"x\":-0.49993765354156494,\"xref\":\"x2\",\"y\":1.6,\"yref\":\"y2\"},{\"bgcolor\":\"rgba(255, 255, 255, 0.9)\",\"bordercolor\":\"black\",\"borderwidth\":1,\"font\":{\"color\":\"black\",\"size\":10},\"showarrow\":false,\"text\":\"Divergent\",\"x\":-0.4692422151565552,\"xref\":\"x2\",\"y\":0.45,\"yref\":\"y2\"},{\"bgcolor\":\"rgba(255, 255, 255, 0.9)\",\"bordercolor\":\"black\",\"borderwidth\":1,\"font\":{\"color\":\"black\",\"size\":10},\"showarrow\":false,\"text\":\"Contrarian\",\"x\":-0.4555948078632355,\"xref\":\"x2\",\"y\":1.3,\"yref\":\"y2\"},{\"bgcolor\":\"rgba(255, 255, 255, 0.9)\",\"bordercolor\":\"black\",\"borderwidth\":1,\"font\":{\"color\":\"black\",\"size\":10},\"showarrow\":false,\"text\":\"Iconoclastic\",\"x\":-0.43296921253204346,\"xref\":\"x2\",\"y\":0.75,\"yref\":\"y2\"},{\"bgcolor\":\"rgba(255, 255, 255, 0.9)\",\"bordercolor\":\"black\",\"borderwidth\":1,\"font\":{\"color\":\"black\",\"size\":10},\"showarrow\":false,\"text\":\"Provocative\",\"x\":-0.4301004707813263,\"xref\":\"x2\",\"y\":1.75,\"yref\":\"y2\"},{\"bgcolor\":\"rgba(255, 255, 255, 0.9)\",\"bordercolor\":\"black\",\"borderwidth\":1,\"font\":{\"color\":\"black\",\"size\":10},\"showarrow\":false,\"text\":\"Innovative\",\"x\":-0.4247573912143707,\"xref\":\"x2\",\"y\":0.3,\"yref\":\"y2\"},{\"bgcolor\":\"rgba(255, 255, 255, 0.9)\",\"bordercolor\":\"black\",\"borderwidth\":1,\"font\":{\"color\":\"black\",\"size\":10},\"showarrow\":false,\"text\":\"Universalist\",\"x\":0.44997936487197876,\"xref\":\"x2\",\"y\":1.45,\"yref\":\"y2\"},{\"bgcolor\":\"rgba(255, 255, 255, 0.9)\",\"bordercolor\":\"black\",\"borderwidth\":1,\"font\":{\"color\":\"black\",\"size\":10},\"showarrow\":false,\"text\":\"Romantic\",\"x\":0.4779621958732605,\"xref\":\"x2\",\"y\":0.6,\"yref\":\"y2\"},{\"bgcolor\":\"rgba(255, 255, 255, 0.9)\",\"bordercolor\":\"black\",\"borderwidth\":1,\"font\":{\"color\":\"black\",\"size\":10},\"showarrow\":false,\"text\":\"Traditional\",\"x\":0.48857975006103516,\"xref\":\"x2\",\"y\":1.9,\"yref\":\"y2\"},{\"bgcolor\":\"rgba(255, 255, 255, 0.9)\",\"bordercolor\":\"black\",\"borderwidth\":1,\"font\":{\"color\":\"black\",\"size\":10},\"showarrow\":false,\"text\":\"Fundamentalist\",\"x\":0.49469804763793945,\"xref\":\"x2\",\"y\":0.15,\"yref\":\"y2\"},{\"bgcolor\":\"rgba(255, 255, 255, 0.9)\",\"bordercolor\":\"black\",\"borderwidth\":1,\"font\":{\"color\":\"black\",\"size\":10},\"showarrow\":false,\"text\":\"Spiritual\",\"x\":0.49516022205352783,\"xref\":\"x2\",\"y\":1.6,\"yref\":\"y2\"},{\"bgcolor\":\"rgba(255, 255, 255, 0.9)\",\"bordercolor\":\"black\",\"borderwidth\":1,\"font\":{\"color\":\"black\",\"size\":10},\"showarrow\":false,\"text\":\"Mystical\",\"x\":0.5112462639808655,\"xref\":\"x2\",\"y\":0.45,\"yref\":\"y2\"},{\"bgcolor\":\"rgba(255, 255, 255, 0.9)\",\"bordercolor\":\"black\",\"borderwidth\":1,\"font\":{\"color\":\"black\",\"size\":10},\"showarrow\":false,\"text\":\"Essentialist\",\"x\":0.5441921949386597,\"xref\":\"x2\",\"y\":1.3,\"yref\":\"y2\"},{\"bgcolor\":\"rgba(255, 255, 255, 0.9)\",\"bordercolor\":\"black\",\"borderwidth\":1,\"font\":{\"color\":\"black\",\"size\":10},\"showarrow\":false,\"text\":\"Idealistic\",\"x\":0.59221351146698,\"xref\":\"x2\",\"y\":0.75,\"yref\":\"y2\"},{\"bgcolor\":\"rgba(255, 255, 255, 0.9)\",\"bordercolor\":\"black\",\"borderwidth\":1,\"font\":{\"color\":\"black\",\"size\":10},\"showarrow\":false,\"text\":\"Absolutist\",\"x\":0.5985475182533264,\"xref\":\"x2\",\"y\":1.75,\"yref\":\"y2\"},{\"bgcolor\":\"rgba(255, 255, 255, 0.9)\",\"bordercolor\":\"black\",\"borderwidth\":1,\"font\":{\"color\":\"black\",\"size\":10},\"showarrow\":false,\"text\":\"Reverent\",\"x\":0.6384191513061523,\"xref\":\"x2\",\"y\":0.3,\"yref\":\"y2\"},{\"bgcolor\":\"rgba(255, 255, 255, 0.9)\",\"bordercolor\":\"red\",\"borderwidth\":1,\"font\":{\"color\":\"red\",\"size\":14},\"showarrow\":false,\"text\":\"Assistant\",\"x\":0.02044663578271866,\"xref\":\"x2\",\"y\":2,\"yref\":\"y2\"}],\"shapes\":[{\"line\":{\"color\":\"gray\",\"dash\":\"solid\",\"width\":1},\"opacity\":0.7,\"type\":\"line\",\"x0\":0,\"x1\":0,\"xref\":\"x\",\"y0\":0,\"y1\":1,\"yref\":\"y domain\"},{\"line\":{\"color\":\"red\",\"dash\":\"dash\",\"width\":1},\"opacity\":1.0,\"type\":\"line\",\"x0\":-0.004794590640813112,\"x1\":-0.004794590640813112,\"xref\":\"x\",\"y0\":0,\"y1\":1,\"yref\":\"y domain\"},{\"line\":{\"color\":\"gray\",\"dash\":\"solid\",\"width\":1},\"opacity\":0.7,\"type\":\"line\",\"x0\":0,\"x1\":0,\"xref\":\"x2\",\"y0\":0,\"y1\":1,\"yref\":\"y2 domain\"},{\"line\":{\"color\":\"red\",\"dash\":\"dash\",\"width\":1},\"opacity\":1.0,\"type\":\"line\",\"x0\":0.02044663578271866,\"x1\":0.02044663578271866,\"xref\":\"x2\",\"y0\":0,\"y1\":1,\"yref\":\"y2 domain\"}],\"title\":{\"subtitle\":{\"text\":\"Llama 3.3 70B, Layer 40 - Mean-Centered and L2 Normalized Vectors\"},\"font\":{\"size\":16},\"text\":\"PCA on Trait Vectors\",\"x\":0.5},\"height\":800,\"width\":1000,\"showlegend\":false},                        {\"responsive\": true}                    ).then(function(){\n",
       "                            \n",
       "var gd = document.getElementById('1ddfd870-127b-402d-b0a1-8f566d300cf2');\n",
       "var x = new MutationObserver(function (mutations, observer) {{\n",
       "        var display = window.getComputedStyle(gd).display;\n",
       "        if (!display || display === 'none') {{\n",
       "            console.log([gd, 'removed!']);\n",
       "            Plotly.purge(gd);\n",
       "            observer.disconnect();\n",
       "        }}\n",
       "}});\n",
       "\n",
       "// Listen for the removal of the full notebook cells\n",
       "var notebookContainer = gd.closest('#notebook-container');\n",
       "if (notebookContainer) {{\n",
       "    x.observe(notebookContainer, {childList: true});\n",
       "}}\n",
       "\n",
       "// Listen for the clearing of the current output cell\n",
       "var outputEl = gd.closest('.output');\n",
       "if (outputEl) {{\n",
       "    x.observe(outputEl, {childList: true});\n",
       "}}\n",
       "\n",
       "                        })                };                });            </script>        </div>"
      ]
     },
     "metadata": {},
     "output_type": "display_data"
    },
    {
     "data": {
      "application/vnd.plotly.v1+json": {
       "config": {
        "plotlyServerURL": "https://plot.ly"
       },
       "data": [
        {
         "hovertemplate": "<b>%{text}</b><br>Cosine Similarity: %{x:.3f}<extra></extra>",
         "marker": {
          "color": "limegreen",
          "line": {
           "color": "black",
           "width": 1
          },
          "opacity": 1,
          "size": 8,
          "symbol": "diamond"
         },
         "mode": "markers",
         "showlegend": false,
         "text": [
          "Zealous",
          "Wry",
          "Witty",
          "Whimsical",
          "Visceral",
          "Vindictive",
          "Utilitarian",
          "Urgent",
          "Universalist",
          "Understated",
          "Transparent",
          "Theoretical",
          "Theatrical",
          "Temperamental",
          "Tactful",
          "Systems Thinker",
          "Sycophantic",
          "Supportive",
          "Subversive",
          "Submissive",
          "Structuralist",
          "Stream Of Consciousness",
          "Strategic",
          "Stoic",
          "Spontaneous",
          "Spiritual",
          "Speculative",
          "Specialized",
          "Solemn",
          "Socratic",
          "Skeptical",
          "Serious",
          "Serene",
          "Secular",
          "Savage",
          "Sassy",
          "Sardonic",
          "Sarcastic",
          "Romantic",
          "Rhetorical",
          "Reverent",
          "Resilient",
          "Reserved",
          "Relativist",
          "Reductionist",
          "Reactive",
          "Rationalist",
          "Provocative",
          "Progressive",
          "Problem Solving",
          "Proactive",
          "Principled",
          "Prescriptive",
          "Practical",
          "Poetic",
          "Pluralist",
          "Playful",
          "Philosophical",
          "Petty",
          "Pessimistic",
          "Perfectionist",
          "Pensive",
          "Patient",
          "Passive Aggressive",
          "Passionate",
          "Paranoid",
          "Paradoxical",
          "Pacifist",
          "Optimistic",
          "Open Ended",
          "Obsessive",
          "Nurturing",
          "Nostalgic",
          "Nonchalant",
          "Nihilistic",
          "Neurotic",
          "Narrative",
          "Naive",
          "Mystical",
          "Moderate",
          "Mischievous",
          "Misanthropic",
          "Militant",
          "Meticulous",
          "Methodical",
          "Metaphorical",
          "Mercurial",
          "Melodramatic",
          "Melancholic",
          "Meditative",
          "Materialist",
          "Manipulative",
          "Manic",
          "Literal",
          "Judgmental",
          "Irreverent",
          "Ironic",
          "Intuitive",
          "Introverted",
          "Introspective",
          "Interdisciplinary",
          "Inspirational",
          "Inquisitive",
          "Innovative",
          "Individualistic",
          "Inclusive",
          "Impulsive",
          "Improvisational",
          "Impatient",
          "Idealistic",
          "Iconoclastic",
          "Humble",
          "Humanistic",
          "Hostile",
          "Holistic",
          "Historical",
          "Hedonistic",
          "Grounded",
          "Gregarious",
          "Grandiose",
          "Goofy",
          "Generous",
          "Generalist",
          "Futuristic",
          "Fundamentalist",
          "Formalist",
          "Formal",
          "Forgiving",
          "Flirty",
          "Flippant",
          "Flexible",
          "Fatalistic",
          "Factual",
          "Extroverted",
          "Exploratory",
          "Experiential",
          "Evil",
          "Ethereal",
          "Essentialist",
          "Esoteric",
          "Erudite",
          "Epicurean",
          "Environmental",
          "Entertaining",
          "Enigmatic",
          "Empathetic",
          "Emotional",
          "Eloquent",
          "Elitist",
          "Egalitarian",
          "Effusive",
          "Educational",
          "Edgy",
          "Eclectic",
          "Earnest",
          "Dramatic",
          "Dominant",
          "Dogmatic",
          "Divergent",
          "Dispassionate",
          "Disorganized",
          "Diplomatic",
          "Deterministic",
          "Detached",
          "Descriptive",
          "Deontological",
          "Deconstructionist",
          "Decisive",
          "Cynical",
          "Curious",
          "Cryptic",
          "Cruel",
          "Critical",
          "Creative",
          "Cosmopolitan",
          "Convergent",
          "Contrarian",
          "Contemporary",
          "Constructivist",
          "Conscientious",
          "Confrontational",
          "Confident",
          "Condescending",
          "Conciliatory",
          "Conceptual",
          "Competitive",
          "Collectivistic",
          "Collaborative",
          "Closure Seeking",
          "Circumspect",
          "Chill",
          "Charismatic",
          "Chaotic",
          "Challenging",
          "Cautious",
          "Casual",
          "Calm",
          "Callous",
          "Calculating",
          "Bombastic",
          "Bitter",
          "Big Picture",
          "Benevolent",
          "Avoidant",
          "Assertive",
          "Ascetic",
          "Artistic",
          "Arrogant",
          "Anthropocentric",
          "Animated",
          "Analytical",
          "Altruistic",
          "Agreeable",
          "Adventurous",
          "Adaptable",
          "Acerbic",
          "Accommodating",
          "Accessible",
          "Abstract",
          "Absolutist"
         ],
         "type": "scatter",
         "x": [
          -0.06720010936260223,
          -0.23005011677742004,
          -0.2276439517736435,
          -0.14658334851264954,
          0.08240862190723419,
          -0.04293377697467804,
          -0.2578555941581726,
          -0.045225583016872406,
          0.17035280168056488,
          -0.0017331189010292292,
          -0.12326647341251373,
          0.020123399794101715,
          -0.2411259561777115,
          -0.2912440001964569,
          -0.2489488422870636,
          0.009063716977834702,
          -0.15738658607006073,
          -0.05891857668757439,
          0.15607032179832458,
          -0.08335241675376892,
          -0.12411312758922577,
          -0.062446631491184235,
          -0.0885847881436348,
          0.12469838559627533,
          0.042035043239593506,
          0.11560321599245071,
          0.040965355932712555,
          -0.2751028537750244,
          0.06121228262782097,
          0.0037334023509174585,
          -0.012262710370123386,
          0.04565378651022911,
          0.2148064523935318,
          0.017706379294395447,
          0.13607501983642578,
          0.11647623777389526,
          -0.21285191178321838,
          -0.17776750028133392,
          -0.004435200244188309,
          -0.11510880291461945,
          -0.27234500646591187,
          0.17747920751571655,
          0.05277286097407341,
          0.12732428312301636,
          -0.15895967185497284,
          0.05794534087181091,
          -0.21073374152183533,
          0.30215325951576233,
          0.3104148209095001,
          -0.11278856545686722,
          -0.12152678519487381,
          0.07675845921039581,
          -0.10508883744478226,
          -0.02734662964940071,
          -0.15993130207061768,
          0.03405635803937912,
          -0.19930654764175415,
          0.11206437647342682,
          -0.2254227101802826,
          -0.09180133044719696,
          -0.2651923894882202,
          -0.11055092513561249,
          0.03728285804390907,
          -0.21396446228027344,
          -0.0936184749007225,
          0.021535268053412437,
          0.11032906174659729,
          0.1601010411977768,
          0.07858363538980484,
          -0.02454991266131401,
          -0.25143587589263916,
          -0.07898962497711182,
          -0.2335968017578125,
          0.02696782723069191,
          0.0500481054186821,
          -0.2770143747329712,
          -0.158239483833313,
          -0.1856066882610321,
          0.14944958686828613,
          -0.15801438689231873,
          -0.20923735201358795,
          0.05400233715772629,
          0.15500105917453766,
          -0.21257849037647247,
          -0.05740712583065033,
          -0.11866758018732071,
          -0.21899893879890442,
          -0.22833871841430664,
          -0.09586552530527115,
          0.06867556273937225,
          -0.24427248537540436,
          -0.1293489634990692,
          -0.27973443269729614,
          -0.04539253190159798,
          0.038802556693553925,
          -0.10463876277208328,
          -0.20173898339271545,
          0.20578333735466003,
          0.2216600477695465,
          -0.15778011083602905,
          -0.11882837116718292,
          0.08234061300754547,
          -0.23176449537277222,
          0.28707683086395264,
          0.2696671783924103,
          -0.013249853625893593,
          0.10831620544195175,
          0.1484185755252838,
          0.12067999690771103,
          0.16243642568588257,
          0.3078078031539917,
          -0.20368991792201996,
          0.03907144069671631,
          -0.0006064600311219692,
          -0.05703798308968544,
          -0.29911425709724426,
          -0.004072174429893494,
          -0.25760772824287415,
          -0.24649670720100403,
          -0.09458891302347183,
          -0.3071022927761078,
          -0.17741161584854126,
          0.1305377036333084,
          0.08875301480293274,
          -0.016850359737873077,
          -0.2564537525177002,
          -0.0576305128633976,
          -0.05966261029243469,
          -0.1493343561887741,
          -0.1423979103565216,
          0.031195873394608498,
          0.06957137584686279,
          -0.06504865735769272,
          -0.13990826904773712,
          -0.2448195517063141,
          -0.26239892840385437,
          -0.09157981723546982,
          -0.05906810238957405,
          0.03357267752289772,
          -0.12456149607896805,
          -0.24119076132774353,
          -0.25103700160980225,
          0.011033457703888416,
          -0.1786721795797348,
          0.0060813575983047485,
          -0.02534845471382141,
          -0.024638328701257706,
          -0.180050328373909,
          -0.12282801419496536,
          0.14235073328018188,
          -0.2583092451095581,
          -0.17490917444229126,
          -0.033974580466747284,
          -0.06976435333490372,
          0.17374707758426666,
          -0.16269072890281677,
          0.06216515600681305,
          0.03256360813975334,
          -0.24694685637950897,
          0.04087216034531593,
          -0.20802639424800873,
          -0.1567249596118927,
          0.037895068526268005,
          -0.007275265641510487,
          -0.07201585173606873,
          0.07978649437427521,
          0.08798480778932571,
          0.25679701566696167,
          0.015283798798918724,
          -0.13329431414604187,
          -0.03344559669494629,
          0.04503960162401199,
          0.2648812234401703,
          0.04125106707215309,
          0.032801344990730286,
          -0.05572456121444702,
          0.3037971258163452,
          0.002961021149531007,
          0.05838005989789963,
          0.05311690643429756,
          0.26782092452049255,
          0.22870361804962158,
          -0.31077486276626587,
          -0.083840012550354,
          0.27556875348091125,
          0.032947078347206116,
          -0.2773415446281433,
          -0.30488982796669006,
          0.16889575123786926,
          -0.276637464761734,
          0.13936813175678253,
          -0.01954205520451069,
          -0.008775593712925911,
          0.07552993297576904,
          -0.3149855136871338,
          0.07107813656330109,
          0.13901613652706146,
          0.11848829686641693,
          -0.10905636847019196,
          -0.24092261493206024,
          -0.03089832328259945,
          0.2940652668476105,
          -0.11462055146694183,
          -0.03644800931215286,
          0.1925640106201172,
          0.2437978833913803,
          -0.10482100397348404,
          -0.08717849850654602,
          0.04719281196594238,
          -0.1400505155324936,
          -0.3291461169719696,
          -0.11130211502313614,
          -0.13768258690834045,
          0.26469072699546814,
          0.09238643944263458,
          -0.08697200566530228,
          -0.13229627907276154,
          0.0777101069688797,
          0.24735285341739655,
          0.1176055297255516
         ],
         "xaxis": "x",
         "y": [
          1,
          1,
          1,
          1,
          1,
          1,
          1,
          1,
          1,
          1,
          1,
          1,
          1,
          1,
          1,
          1,
          1,
          1,
          1,
          1,
          1,
          1,
          1,
          1,
          1,
          1,
          1,
          1,
          1,
          1,
          1,
          1,
          1,
          1,
          1,
          1,
          1,
          1,
          1,
          1,
          1,
          1,
          1,
          1,
          1,
          1,
          1,
          1,
          1,
          1,
          1,
          1,
          1,
          1,
          1,
          1,
          1,
          1,
          1,
          1,
          1,
          1,
          1,
          1,
          1,
          1,
          1,
          1,
          1,
          1,
          1,
          1,
          1,
          1,
          1,
          1,
          1,
          1,
          1,
          1,
          1,
          1,
          1,
          1,
          1,
          1,
          1,
          1,
          1,
          1,
          1,
          1,
          1,
          1,
          1,
          1,
          1,
          1,
          1,
          1,
          1,
          1,
          1,
          1,
          1,
          1,
          1,
          1,
          1,
          1,
          1,
          1,
          1,
          1,
          1,
          1,
          1,
          1,
          1,
          1,
          1,
          1,
          1,
          1,
          1,
          1,
          1,
          1,
          1,
          1,
          1,
          1,
          1,
          1,
          1,
          1,
          1,
          1,
          1,
          1,
          1,
          1,
          1,
          1,
          1,
          1,
          1,
          1,
          1,
          1,
          1,
          1,
          1,
          1,
          1,
          1,
          1,
          1,
          1,
          1,
          1,
          1,
          1,
          1,
          1,
          1,
          1,
          1,
          1,
          1,
          1,
          1,
          1,
          1,
          1,
          1,
          1,
          1,
          1,
          1,
          1,
          1,
          1,
          1,
          1,
          1,
          1,
          1,
          1,
          1,
          1,
          1,
          1,
          1,
          1,
          1,
          1,
          1,
          1,
          1,
          1,
          1,
          1,
          1,
          1,
          1,
          1,
          1,
          1,
          1,
          1,
          1,
          1,
          1,
          1,
          1,
          1,
          1,
          1,
          1
         ],
         "yaxis": "y"
        },
        {
         "hovertemplate": "<b>%{text}</b><br>Cosine Similarity: %{x:.3f}<extra></extra>",
         "marker": {
          "color": "limegreen",
          "line": {
           "color": "black",
           "width": 1
          },
          "opacity": 1,
          "size": 8,
          "symbol": "diamond"
         },
         "mode": "markers",
         "showlegend": false,
         "text": [
          "Verbose",
          "Traditional",
          "Technical",
          "Ritualistic",
          "Risk Taking",
          "Regulatory",
          "Rebellious",
          "Radical",
          "Quantitative",
          "Qualitative",
          "Pedantic",
          "Libertarian",
          "Independent",
          "Existentialist",
          "Efficient",
          "Deferential",
          "Data Driven",
          "Concise",
          "Blunt",
          "Anxious"
         ],
         "type": "scatter",
         "x": [
          -0.3461891710758209,
          -0.4211275279521942,
          -0.35366612672805786,
          -0.3860892057418823,
          0.3184348940849304,
          -0.3915475308895111,
          0.4575750529766083,
          0.3729947805404663,
          -0.4002653658390045,
          0.31595122814178467,
          -0.4489319324493408,
          0.33020880818367004,
          0.43410608172416687,
          0.46010926365852356,
          0.332236647605896,
          -0.3556612730026245,
          -0.3929038941860199,
          0.3425111472606659,
          0.33542105555534363,
          -0.3337908685207367
         ],
         "xaxis": "x",
         "y": [
          1,
          1,
          1,
          1,
          1,
          1,
          1,
          1,
          1,
          1,
          1,
          1,
          1,
          1,
          1,
          1,
          1,
          1,
          1,
          1
         ],
         "yaxis": "y"
        },
        {
         "hoverinfo": "skip",
         "line": {
          "color": "black",
          "width": 1
         },
         "mode": "lines",
         "showlegend": false,
         "type": "scatter",
         "x": [
          -0.4489319324493408,
          -0.4489319324493408
         ],
         "xaxis": "x",
         "y": [
          1,
          1.45
         ],
         "yaxis": "y"
        },
        {
         "hoverinfo": "skip",
         "line": {
          "color": "black",
          "width": 1
         },
         "mode": "lines",
         "showlegend": false,
         "type": "scatter",
         "x": [
          -0.4211275279521942,
          -0.4211275279521942
         ],
         "xaxis": "x",
         "y": [
          1,
          0.6
         ],
         "yaxis": "y"
        },
        {
         "hoverinfo": "skip",
         "line": {
          "color": "black",
          "width": 1
         },
         "mode": "lines",
         "showlegend": false,
         "type": "scatter",
         "x": [
          -0.4002653658390045,
          -0.4002653658390045
         ],
         "xaxis": "x",
         "y": [
          1,
          1.9
         ],
         "yaxis": "y"
        },
        {
         "hoverinfo": "skip",
         "line": {
          "color": "black",
          "width": 1
         },
         "mode": "lines",
         "showlegend": false,
         "type": "scatter",
         "x": [
          -0.3929038941860199,
          -0.3929038941860199
         ],
         "xaxis": "x",
         "y": [
          1,
          0.15
         ],
         "yaxis": "y"
        },
        {
         "hoverinfo": "skip",
         "line": {
          "color": "black",
          "width": 1
         },
         "mode": "lines",
         "showlegend": false,
         "type": "scatter",
         "x": [
          -0.3915475308895111,
          -0.3915475308895111
         ],
         "xaxis": "x",
         "y": [
          1,
          1.6
         ],
         "yaxis": "y"
        },
        {
         "hoverinfo": "skip",
         "line": {
          "color": "black",
          "width": 1
         },
         "mode": "lines",
         "showlegend": false,
         "type": "scatter",
         "x": [
          -0.3860892057418823,
          -0.3860892057418823
         ],
         "xaxis": "x",
         "y": [
          1,
          0.45
         ],
         "yaxis": "y"
        },
        {
         "hoverinfo": "skip",
         "line": {
          "color": "black",
          "width": 1
         },
         "mode": "lines",
         "showlegend": false,
         "type": "scatter",
         "x": [
          -0.3556612730026245,
          -0.3556612730026245
         ],
         "xaxis": "x",
         "y": [
          1,
          1.3
         ],
         "yaxis": "y"
        },
        {
         "hoverinfo": "skip",
         "line": {
          "color": "black",
          "width": 1
         },
         "mode": "lines",
         "showlegend": false,
         "type": "scatter",
         "x": [
          -0.35366612672805786,
          -0.35366612672805786
         ],
         "xaxis": "x",
         "y": [
          1,
          0.75
         ],
         "yaxis": "y"
        },
        {
         "hoverinfo": "skip",
         "line": {
          "color": "black",
          "width": 1
         },
         "mode": "lines",
         "showlegend": false,
         "type": "scatter",
         "x": [
          -0.3461891710758209,
          -0.3461891710758209
         ],
         "xaxis": "x",
         "y": [
          1,
          1.75
         ],
         "yaxis": "y"
        },
        {
         "hoverinfo": "skip",
         "line": {
          "color": "black",
          "width": 1
         },
         "mode": "lines",
         "showlegend": false,
         "type": "scatter",
         "x": [
          -0.3337908685207367,
          -0.3337908685207367
         ],
         "xaxis": "x",
         "y": [
          1,
          0.3
         ],
         "yaxis": "y"
        },
        {
         "hoverinfo": "skip",
         "line": {
          "color": "black",
          "width": 1
         },
         "mode": "lines",
         "showlegend": false,
         "type": "scatter",
         "x": [
          0.31595122814178467,
          0.31595122814178467
         ],
         "xaxis": "x",
         "y": [
          1,
          1.45
         ],
         "yaxis": "y"
        },
        {
         "hoverinfo": "skip",
         "line": {
          "color": "black",
          "width": 1
         },
         "mode": "lines",
         "showlegend": false,
         "type": "scatter",
         "x": [
          0.3184348940849304,
          0.3184348940849304
         ],
         "xaxis": "x",
         "y": [
          1,
          0.6
         ],
         "yaxis": "y"
        },
        {
         "hoverinfo": "skip",
         "line": {
          "color": "black",
          "width": 1
         },
         "mode": "lines",
         "showlegend": false,
         "type": "scatter",
         "x": [
          0.33020880818367004,
          0.33020880818367004
         ],
         "xaxis": "x",
         "y": [
          1,
          1.9
         ],
         "yaxis": "y"
        },
        {
         "hoverinfo": "skip",
         "line": {
          "color": "black",
          "width": 1
         },
         "mode": "lines",
         "showlegend": false,
         "type": "scatter",
         "x": [
          0.332236647605896,
          0.332236647605896
         ],
         "xaxis": "x",
         "y": [
          1,
          0.15
         ],
         "yaxis": "y"
        },
        {
         "hoverinfo": "skip",
         "line": {
          "color": "black",
          "width": 1
         },
         "mode": "lines",
         "showlegend": false,
         "type": "scatter",
         "x": [
          0.33542105555534363,
          0.33542105555534363
         ],
         "xaxis": "x",
         "y": [
          1,
          1.6
         ],
         "yaxis": "y"
        },
        {
         "hoverinfo": "skip",
         "line": {
          "color": "black",
          "width": 1
         },
         "mode": "lines",
         "showlegend": false,
         "type": "scatter",
         "x": [
          0.3425111472606659,
          0.3425111472606659
         ],
         "xaxis": "x",
         "y": [
          1,
          0.45
         ],
         "yaxis": "y"
        },
        {
         "hoverinfo": "skip",
         "line": {
          "color": "black",
          "width": 1
         },
         "mode": "lines",
         "showlegend": false,
         "type": "scatter",
         "x": [
          0.3729947805404663,
          0.3729947805404663
         ],
         "xaxis": "x",
         "y": [
          1,
          1.3
         ],
         "yaxis": "y"
        },
        {
         "hoverinfo": "skip",
         "line": {
          "color": "black",
          "width": 1
         },
         "mode": "lines",
         "showlegend": false,
         "type": "scatter",
         "x": [
          0.43410608172416687,
          0.43410608172416687
         ],
         "xaxis": "x",
         "y": [
          1,
          0.75
         ],
         "yaxis": "y"
        },
        {
         "hoverinfo": "skip",
         "line": {
          "color": "black",
          "width": 1
         },
         "mode": "lines",
         "showlegend": false,
         "type": "scatter",
         "x": [
          0.4575750529766083,
          0.4575750529766083
         ],
         "xaxis": "x",
         "y": [
          1,
          1.75
         ],
         "yaxis": "y"
        },
        {
         "hoverinfo": "skip",
         "line": {
          "color": "black",
          "width": 1
         },
         "mode": "lines",
         "showlegend": false,
         "type": "scatter",
         "x": [
          0.46010926365852356,
          0.46010926365852356
         ],
         "xaxis": "x",
         "y": [
          1,
          0.3
         ],
         "yaxis": "y"
        },
        {
         "hoverinfo": "skip",
         "marker": {
          "color": "limegreen"
         },
         "opacity": 0.7,
         "showlegend": false,
         "type": "bar",
         "width": 0.024241089820861816,
         "x": [
          -0.4337812662124634,
          -0.4034798741340637,
          -0.37317848205566406,
          -0.3428771495819092,
          -0.3125757575035095,
          -0.28227436542510986,
          -0.2519730031490326,
          -0.22167164087295532,
          -0.19137024879455566,
          -0.1610688865184784,
          -0.13076752424240112,
          -0.10046613961458206,
          -0.0701647698879242,
          -0.03986339271068573,
          -0.009562021121382713,
          0.020739352330565453,
          0.05104072391986847,
          0.08134210109710693,
          0.1116434708237648,
          0.14194485545158386,
          0.17224621772766113,
          0.2025475800037384,
          0.23284897208213806,
          0.26315033435821533,
          0.293451726436615,
          0.32375308871269226,
          0.35405445098876953,
          0.3843558430671692,
          0.41465720534324646,
          0.44495856761932373
         ],
         "xaxis": "x",
         "y": [
          0.09473684210526316,
          0.14210526315789473,
          0.04736842105263158,
          0.23684210526315788,
          0.23684210526315788,
          0.33157894736842103,
          0.7578947368421053,
          0.6157894736842106,
          0.37894736842105264,
          0.5210526315789474,
          0.6631578947368421,
          0.8052631578947369,
          0.7105263157894737,
          0.4263157894736842,
          0.6631578947368421,
          0.6631578947368421,
          0.9,
          0.6157894736842106,
          0.4263157894736842,
          0.47368421052631576,
          0.28421052631578947,
          0.14210526315789473,
          0.18947368421052632,
          0.28421052631578947,
          0.23684210526315788,
          0.28421052631578947,
          0.04736842105263158,
          0.04736842105263158,
          0,
          0.14210526315789473
         ],
         "yaxis": "y"
        },
        {
         "hovertemplate": "<b>%{text}</b><br>PC Projection: %{x:.3f}<extra></extra>",
         "marker": {
          "color": "limegreen",
          "line": {
           "color": "black",
           "width": 1
          },
          "opacity": 1,
          "size": 8,
          "symbol": "diamond"
         },
         "mode": "markers",
         "showlegend": false,
         "text": [
          "Zealous",
          "Wry",
          "Witty",
          "Whimsical",
          "Visceral",
          "Vindictive",
          "Utilitarian",
          "Urgent",
          "Universalist",
          "Understated",
          "Transparent",
          "Theoretical",
          "Theatrical",
          "Temperamental",
          "Tactful",
          "Systems Thinker",
          "Sycophantic",
          "Supportive",
          "Subversive",
          "Submissive",
          "Structuralist",
          "Stream Of Consciousness",
          "Strategic",
          "Stoic",
          "Spontaneous",
          "Spiritual",
          "Speculative",
          "Specialized",
          "Solemn",
          "Socratic",
          "Skeptical",
          "Serious",
          "Serene",
          "Secular",
          "Savage",
          "Sassy",
          "Sardonic",
          "Sarcastic",
          "Romantic",
          "Rhetorical",
          "Reverent",
          "Resilient",
          "Reserved",
          "Relativist",
          "Reductionist",
          "Reactive",
          "Rationalist",
          "Qualitative",
          "Progressive",
          "Problem Solving",
          "Proactive",
          "Principled",
          "Prescriptive",
          "Practical",
          "Poetic",
          "Pluralist",
          "Playful",
          "Philosophical",
          "Petty",
          "Pessimistic",
          "Perfectionist",
          "Pensive",
          "Patient",
          "Passive Aggressive",
          "Passionate",
          "Paranoid",
          "Paradoxical",
          "Pacifist",
          "Optimistic",
          "Open Ended",
          "Obsessive",
          "Nurturing",
          "Nostalgic",
          "Nonchalant",
          "Nihilistic",
          "Neurotic",
          "Narrative",
          "Naive",
          "Mystical",
          "Moderate",
          "Mischievous",
          "Misanthropic",
          "Militant",
          "Meticulous",
          "Methodical",
          "Metaphorical",
          "Mercurial",
          "Melodramatic",
          "Melancholic",
          "Meditative",
          "Materialist",
          "Manipulative",
          "Manic",
          "Literal",
          "Judgmental",
          "Irreverent",
          "Ironic",
          "Intuitive",
          "Introverted",
          "Introspective",
          "Interdisciplinary",
          "Inspirational",
          "Inquisitive",
          "Individualistic",
          "Inclusive",
          "Impulsive",
          "Improvisational",
          "Impatient",
          "Idealistic",
          "Humble",
          "Humanistic",
          "Hostile",
          "Holistic",
          "Historical",
          "Hedonistic",
          "Grounded",
          "Gregarious",
          "Grandiose",
          "Generous",
          "Generalist",
          "Futuristic",
          "Fundamentalist",
          "Formalist",
          "Formal",
          "Forgiving",
          "Flirty",
          "Flippant",
          "Flexible",
          "Fatalistic",
          "Factual",
          "Extroverted",
          "Exploratory",
          "Experiential",
          "Evil",
          "Ethereal",
          "Essentialist",
          "Esoteric",
          "Erudite",
          "Epicurean",
          "Environmental",
          "Entertaining",
          "Enigmatic",
          "Empathetic",
          "Emotional",
          "Eloquent",
          "Elitist",
          "Egalitarian",
          "Effusive",
          "Efficient",
          "Educational",
          "Edgy",
          "Eclectic",
          "Earnest",
          "Dramatic",
          "Dominant",
          "Dogmatic",
          "Divergent",
          "Dispassionate",
          "Disorganized",
          "Diplomatic",
          "Deterministic",
          "Detached",
          "Descriptive",
          "Deontological",
          "Deferential",
          "Deconstructionist",
          "Decisive",
          "Cynical",
          "Curious",
          "Cryptic",
          "Cruel",
          "Critical",
          "Creative",
          "Cosmopolitan",
          "Convergent",
          "Contemporary",
          "Constructivist",
          "Conscientious",
          "Confrontational",
          "Confident",
          "Condescending",
          "Concise",
          "Conciliatory",
          "Conceptual",
          "Competitive",
          "Collectivistic",
          "Collaborative",
          "Closure Seeking",
          "Circumspect",
          "Chill",
          "Charismatic",
          "Chaotic",
          "Challenging",
          "Cautious",
          "Casual",
          "Calm",
          "Callous",
          "Calculating",
          "Bombastic",
          "Blunt",
          "Bitter",
          "Big Picture",
          "Benevolent",
          "Avoidant",
          "Assertive",
          "Ascetic",
          "Artistic",
          "Arrogant",
          "Anthropocentric",
          "Animated",
          "Analytical",
          "Altruistic",
          "Agreeable",
          "Adventurous",
          "Adaptable",
          "Acerbic",
          "Accommodating",
          "Accessible",
          "Abstract",
          "Absolutist"
         ],
         "type": "scatter",
         "x": [
          -0.043386880308389664,
          -0.2247280329465866,
          -0.23496679961681366,
          -0.14370569586753845,
          0.11524336785078049,
          -0.009387240745127201,
          -0.1705879271030426,
          -0.017910825088620186,
          0.2219400554895401,
          0.014080044813454151,
          -0.08393776416778564,
          0.0691242516040802,
          -0.25824055075645447,
          -0.2897745668888092,
          -0.20477178692817688,
          0.05862890183925629,
          -0.13842518627643585,
          -0.042966533452272415,
          0.22915737330913544,
          -0.05425909534096718,
          -0.08644608408212662,
          -0.01995142735540867,
          -0.06987209618091583,
          0.14658571779727936,
          0.09323327988386154,
          0.16403305530548096,
          0.12692208588123322,
          -0.27000191807746887,
          0.07984588295221329,
          0.03195197880268097,
          0.048464640974998474,
          0.06526253372430801,
          0.2312960922718048,
          0.05179814249277115,
          0.16499407589435577,
          0.14809198677539825,
          -0.2046092003583908,
          -0.16542121767997742,
          0.022093884646892548,
          -0.10627352446317673,
          -0.24646833539009094,
          0.18795719742774963,
          0.07385291159152985,
          0.17053866386413574,
          -0.07425082474946976,
          0.07848306000232697,
          -0.15569227933883667,
          0.36237186193466187,
          0.3785639703273773,
          -0.08426623046398163,
          -0.09347330778837204,
          0.14897947013378143,
          -0.0632440373301506,
          0.008288604207336903,
          -0.1611923724412918,
          0.09611634910106659,
          -0.19012147188186646,
          0.18165168166160583,
          -0.21368229389190674,
          -0.05585898831486702,
          -0.2426992654800415,
          -0.09578152000904083,
          0.0547964833676815,
          -0.20157788693904877,
          -0.07294609397649765,
          0.0579288974404335,
          0.18360047042369843,
          0.23229137063026428,
          0.10249307006597519,
          0.015900813043117523,
          -0.2439376562833786,
          -0.06258121132850647,
          -0.21617324650287628,
          0.04073464870452881,
          0.07197145372629166,
          -0.26151782274246216,
          -0.14541378617286682,
          -0.16317126154899597,
          0.19818638265132904,
          -0.1162930577993393,
          -0.20473702251911163,
          0.08120600879192352,
          0.19027768075466156,
          -0.19032341241836548,
          -0.03043949417769909,
          -0.11393553018569946,
          -0.21140232682228088,
          -0.24317798018455505,
          -0.07764475792646408,
          0.0868697315454483,
          -0.17596115171909332,
          -0.1119299978017807,
          -0.2791532576084137,
          -0.00939857866615057,
          0.06878665089607239,
          -0.0862114205956459,
          -0.19402608275413513,
          0.26525720953941345,
          0.2524622976779938,
          -0.13391271233558655,
          -0.0598774217069149,
          0.09879712760448456,
          -0.20176886022090912,
          0.38134488463401794,
          0.03538407012820244,
          0.129452183842659,
          0.20648877322673798,
          0.13670502603054047,
          0.2369038164615631,
          -0.13220885396003723,
          0.0771319791674614,
          0.019342374056577682,
          -0.024900462478399277,
          -0.28609132766723633,
          0.02922186255455017,
          -0.1957910656929016,
          -0.22882333397865295,
          -0.07913045585155487,
          -0.16828636825084686,
          0.1552034467458725,
          0.14830240607261658,
          0.019683457911014557,
          -0.18034783005714417,
          -0.032417621463537216,
          0.011824270710349083,
          -0.1410338282585144,
          -0.13090261816978455,
          0.05079704523086548,
          0.09978996217250824,
          -0.013303728774189949,
          -0.10992848128080368,
          -0.2195357382297516,
          -0.2186429798603058,
          -0.07262368500232697,
          -0.04016938805580139,
          0.07500730454921722,
          -0.10917004197835922,
          -0.23896043002605438,
          -0.2552223205566406,
          0.05103626847267151,
          -0.17112042009830475,
          0.026148688048124313,
          0.01244025956839323,
          0.005522602237761021,
          -0.18315905332565308,
          -0.09955494105815887,
          0.19489802420139313,
          -0.26183098554611206,
          0.3286606967449188,
          -0.15923093259334564,
          -0.010485898703336716,
          -0.020712418481707573,
          0.1880876123905182,
          -0.16770239174365997,
          0.11186268925666809,
          0.06066465377807617,
          -0.21666422486305237,
          0.06064591929316521,
          -0.19502350687980652,
          -0.1161314994096756,
          0.06329874694347382,
          0.02466060407459736,
          -0.026634525507688522,
          0.14440825581550598,
          -0.2748188376426697,
          0.1629340946674347,
          0.27169179916381836,
          0.04866670072078705,
          -0.11978121101856232,
          -0.017229218035936356,
          0.06752484291791916,
          0.35306426882743835,
          0.10976743698120117,
          0.06951060891151428,
          0.03442530706524849,
          0.06484835594892502,
          0.11478573828935623,
          0.06594687700271606,
          0.3220096230506897,
          0.2640511691570282,
          -0.3052264153957367,
          0.3383687436580658,
          -0.056715235114097595,
          0.3459501564502716,
          0.06659791618585587,
          -0.21436624228954315,
          -0.25850915908813477,
          0.19228595495224,
          -0.2433912754058838,
          0.1517421007156372,
          -0.006565833929926157,
          0.041309572756290436,
          0.14144037663936615,
          -0.25666895508766174,
          0.09229400753974915,
          0.1484735906124115,
          0.13831037282943726,
          -0.07879365235567093,
          -0.2549518942832947,
          0.3415568768978119,
          -0.009444852359592915,
          0.35806769132614136,
          -0.08365897834300995,
          -0.008410434238612652,
          0.2526107132434845,
          0.2769266664981842,
          -0.09033133834600449,
          -0.06385508924722672,
          0.12340656667947769,
          -0.13738490641117096,
          -0.28663501143455505,
          -0.075625941157341,
          -0.1058240756392479,
          0.3601296544075012,
          0.11550458520650864,
          -0.06817992776632309,
          -0.08158762753009796,
          0.08816403150558472,
          0.31960561871528625,
          0.16043338179588318
         ],
         "xaxis": "x2",
         "y": [
          1,
          1,
          1,
          1,
          1,
          1,
          1,
          1,
          1,
          1,
          1,
          1,
          1,
          1,
          1,
          1,
          1,
          1,
          1,
          1,
          1,
          1,
          1,
          1,
          1,
          1,
          1,
          1,
          1,
          1,
          1,
          1,
          1,
          1,
          1,
          1,
          1,
          1,
          1,
          1,
          1,
          1,
          1,
          1,
          1,
          1,
          1,
          1,
          1,
          1,
          1,
          1,
          1,
          1,
          1,
          1,
          1,
          1,
          1,
          1,
          1,
          1,
          1,
          1,
          1,
          1,
          1,
          1,
          1,
          1,
          1,
          1,
          1,
          1,
          1,
          1,
          1,
          1,
          1,
          1,
          1,
          1,
          1,
          1,
          1,
          1,
          1,
          1,
          1,
          1,
          1,
          1,
          1,
          1,
          1,
          1,
          1,
          1,
          1,
          1,
          1,
          1,
          1,
          1,
          1,
          1,
          1,
          1,
          1,
          1,
          1,
          1,
          1,
          1,
          1,
          1,
          1,
          1,
          1,
          1,
          1,
          1,
          1,
          1,
          1,
          1,
          1,
          1,
          1,
          1,
          1,
          1,
          1,
          1,
          1,
          1,
          1,
          1,
          1,
          1,
          1,
          1,
          1,
          1,
          1,
          1,
          1,
          1,
          1,
          1,
          1,
          1,
          1,
          1,
          1,
          1,
          1,
          1,
          1,
          1,
          1,
          1,
          1,
          1,
          1,
          1,
          1,
          1,
          1,
          1,
          1,
          1,
          1,
          1,
          1,
          1,
          1,
          1,
          1,
          1,
          1,
          1,
          1,
          1,
          1,
          1,
          1,
          1,
          1,
          1,
          1,
          1,
          1,
          1,
          1,
          1,
          1,
          1,
          1,
          1,
          1,
          1,
          1,
          1,
          1,
          1,
          1,
          1,
          1,
          1,
          1,
          1,
          1,
          1,
          1,
          1,
          1,
          1,
          1,
          1
         ],
         "yaxis": "y2"
        },
        {
         "hovertemplate": "<b>%{text}</b><br>PC Projection: %{x:.3f}<extra></extra>",
         "marker": {
          "color": "limegreen",
          "line": {
           "color": "black",
           "width": 1
          },
          "opacity": 1,
          "size": 8,
          "symbol": "diamond"
         },
         "mode": "markers",
         "showlegend": false,
         "text": [
          "Verbose",
          "Traditional",
          "Technical",
          "Ritualistic",
          "Risk Taking",
          "Regulatory",
          "Rebellious",
          "Radical",
          "Quantitative",
          "Provocative",
          "Pedantic",
          "Libertarian",
          "Innovative",
          "Independent",
          "Iconoclastic",
          "Goofy",
          "Existentialist",
          "Data Driven",
          "Contrarian",
          "Anxious"
         ],
         "type": "scatter",
         "x": [
          -0.34128043055534363,
          -0.32181933522224426,
          -0.3455577492713928,
          -0.3723587393760681,
          0.46777522563934326,
          -0.3121377229690552,
          0.5859310030937195,
          0.4646764397621155,
          -0.3629702031612396,
          0.43207961320877075,
          -0.4509148895740509,
          0.38605180382728577,
          0.4017590880393982,
          0.4643948972225189,
          0.41995200514793396,
          -0.30940940976142883,
          0.4965686500072479,
          -0.33931925892829895,
          0.4218510389328003,
          -0.3161419630050659
         ],
         "xaxis": "x2",
         "y": [
          1,
          1,
          1,
          1,
          1,
          1,
          1,
          1,
          1,
          1,
          1,
          1,
          1,
          1,
          1,
          1,
          1,
          1,
          1,
          1
         ],
         "yaxis": "y2"
        },
        {
         "hoverinfo": "skip",
         "line": {
          "color": "black",
          "width": 1
         },
         "mode": "lines",
         "showlegend": false,
         "type": "scatter",
         "x": [
          -0.4509148895740509,
          -0.4509148895740509
         ],
         "xaxis": "x2",
         "y": [
          1,
          1.45
         ],
         "yaxis": "y2"
        },
        {
         "hoverinfo": "skip",
         "line": {
          "color": "black",
          "width": 1
         },
         "mode": "lines",
         "showlegend": false,
         "type": "scatter",
         "x": [
          -0.3723587393760681,
          -0.3723587393760681
         ],
         "xaxis": "x2",
         "y": [
          1,
          0.6
         ],
         "yaxis": "y2"
        },
        {
         "hoverinfo": "skip",
         "line": {
          "color": "black",
          "width": 1
         },
         "mode": "lines",
         "showlegend": false,
         "type": "scatter",
         "x": [
          -0.3629702031612396,
          -0.3629702031612396
         ],
         "xaxis": "x2",
         "y": [
          1,
          1.9
         ],
         "yaxis": "y2"
        },
        {
         "hoverinfo": "skip",
         "line": {
          "color": "black",
          "width": 1
         },
         "mode": "lines",
         "showlegend": false,
         "type": "scatter",
         "x": [
          -0.3455577492713928,
          -0.3455577492713928
         ],
         "xaxis": "x2",
         "y": [
          1,
          0.15
         ],
         "yaxis": "y2"
        },
        {
         "hoverinfo": "skip",
         "line": {
          "color": "black",
          "width": 1
         },
         "mode": "lines",
         "showlegend": false,
         "type": "scatter",
         "x": [
          -0.34128043055534363,
          -0.34128043055534363
         ],
         "xaxis": "x2",
         "y": [
          1,
          1.6
         ],
         "yaxis": "y2"
        },
        {
         "hoverinfo": "skip",
         "line": {
          "color": "black",
          "width": 1
         },
         "mode": "lines",
         "showlegend": false,
         "type": "scatter",
         "x": [
          -0.33931925892829895,
          -0.33931925892829895
         ],
         "xaxis": "x2",
         "y": [
          1,
          0.45
         ],
         "yaxis": "y2"
        },
        {
         "hoverinfo": "skip",
         "line": {
          "color": "black",
          "width": 1
         },
         "mode": "lines",
         "showlegend": false,
         "type": "scatter",
         "x": [
          -0.32181933522224426,
          -0.32181933522224426
         ],
         "xaxis": "x2",
         "y": [
          1,
          1.3
         ],
         "yaxis": "y2"
        },
        {
         "hoverinfo": "skip",
         "line": {
          "color": "black",
          "width": 1
         },
         "mode": "lines",
         "showlegend": false,
         "type": "scatter",
         "x": [
          -0.3161419630050659,
          -0.3161419630050659
         ],
         "xaxis": "x2",
         "y": [
          1,
          0.75
         ],
         "yaxis": "y2"
        },
        {
         "hoverinfo": "skip",
         "line": {
          "color": "black",
          "width": 1
         },
         "mode": "lines",
         "showlegend": false,
         "type": "scatter",
         "x": [
          -0.3121377229690552,
          -0.3121377229690552
         ],
         "xaxis": "x2",
         "y": [
          1,
          1.75
         ],
         "yaxis": "y2"
        },
        {
         "hoverinfo": "skip",
         "line": {
          "color": "black",
          "width": 1
         },
         "mode": "lines",
         "showlegend": false,
         "type": "scatter",
         "x": [
          -0.30940940976142883,
          -0.30940940976142883
         ],
         "xaxis": "x2",
         "y": [
          1,
          0.3
         ],
         "yaxis": "y2"
        },
        {
         "hoverinfo": "skip",
         "line": {
          "color": "black",
          "width": 1
         },
         "mode": "lines",
         "showlegend": false,
         "type": "scatter",
         "x": [
          0.38605180382728577,
          0.38605180382728577
         ],
         "xaxis": "x2",
         "y": [
          1,
          1.45
         ],
         "yaxis": "y2"
        },
        {
         "hoverinfo": "skip",
         "line": {
          "color": "black",
          "width": 1
         },
         "mode": "lines",
         "showlegend": false,
         "type": "scatter",
         "x": [
          0.4017590880393982,
          0.4017590880393982
         ],
         "xaxis": "x2",
         "y": [
          1,
          0.6
         ],
         "yaxis": "y2"
        },
        {
         "hoverinfo": "skip",
         "line": {
          "color": "black",
          "width": 1
         },
         "mode": "lines",
         "showlegend": false,
         "type": "scatter",
         "x": [
          0.41995200514793396,
          0.41995200514793396
         ],
         "xaxis": "x2",
         "y": [
          1,
          1.9
         ],
         "yaxis": "y2"
        },
        {
         "hoverinfo": "skip",
         "line": {
          "color": "black",
          "width": 1
         },
         "mode": "lines",
         "showlegend": false,
         "type": "scatter",
         "x": [
          0.4218510389328003,
          0.4218510389328003
         ],
         "xaxis": "x2",
         "y": [
          1,
          0.15
         ],
         "yaxis": "y2"
        },
        {
         "hoverinfo": "skip",
         "line": {
          "color": "black",
          "width": 1
         },
         "mode": "lines",
         "showlegend": false,
         "type": "scatter",
         "x": [
          0.43207961320877075,
          0.43207961320877075
         ],
         "xaxis": "x2",
         "y": [
          1,
          1.6
         ],
         "yaxis": "y2"
        },
        {
         "hoverinfo": "skip",
         "line": {
          "color": "black",
          "width": 1
         },
         "mode": "lines",
         "showlegend": false,
         "type": "scatter",
         "x": [
          0.4643948972225189,
          0.4643948972225189
         ],
         "xaxis": "x2",
         "y": [
          1,
          0.45
         ],
         "yaxis": "y2"
        },
        {
         "hoverinfo": "skip",
         "line": {
          "color": "black",
          "width": 1
         },
         "mode": "lines",
         "showlegend": false,
         "type": "scatter",
         "x": [
          0.4646764397621155,
          0.4646764397621155
         ],
         "xaxis": "x2",
         "y": [
          1,
          1.3
         ],
         "yaxis": "y2"
        },
        {
         "hoverinfo": "skip",
         "line": {
          "color": "black",
          "width": 1
         },
         "mode": "lines",
         "showlegend": false,
         "type": "scatter",
         "x": [
          0.46777522563934326,
          0.46777522563934326
         ],
         "xaxis": "x2",
         "y": [
          1,
          0.75
         ],
         "yaxis": "y2"
        },
        {
         "hoverinfo": "skip",
         "line": {
          "color": "black",
          "width": 1
         },
         "mode": "lines",
         "showlegend": false,
         "type": "scatter",
         "x": [
          0.4965686500072479,
          0.4965686500072479
         ],
         "xaxis": "x2",
         "y": [
          1,
          1.75
         ],
         "yaxis": "y2"
        },
        {
         "hoverinfo": "skip",
         "line": {
          "color": "black",
          "width": 1
         },
         "mode": "lines",
         "showlegend": false,
         "type": "scatter",
         "x": [
          0.5859310030937195,
          0.5859310030937195
         ],
         "xaxis": "x2",
         "y": [
          1,
          0.3
         ],
         "yaxis": "y2"
        },
        {
         "hoverinfo": "skip",
         "marker": {
          "color": "limegreen"
         },
         "opacity": 0.7,
         "showlegend": false,
         "type": "bar",
         "width": 0.027649235725402833,
         "x": [
          -0.43363410234451294,
          -0.3990725874900818,
          -0.36451107263565063,
          -0.3299495577812195,
          -0.29538798332214355,
          -0.2608264684677124,
          -0.22626495361328125,
          -0.1917034089565277,
          -0.15714189410209656,
          -0.12258035689592361,
          -0.08801882714033127,
          -0.05345729738473892,
          -0.018895767629146576,
          0.01566576212644577,
          0.050227291882038116,
          0.08478882163763046,
          0.11935035139322281,
          0.15391188859939575,
          0.1884734034538269,
          0.22303494811058044,
          0.257596492767334,
          0.29215800762176514,
          0.3267195224761963,
          0.36128103733062744,
          0.39584261178970337,
          0.4304041266441345,
          0.4649656414985657,
          0.4995271563529968,
          0.5340887308120728,
          0.5686502456665039
         ],
         "xaxis": "x2",
         "y": [
          0.04736842105263158,
          0,
          0.09473684210526316,
          0.23684210526315788,
          0.33157894736842103,
          0.5210526315789474,
          0.6631578947368421,
          0.6157894736842106,
          0.5684210526315789,
          0.6631578947368421,
          0.8052631578947369,
          0.5684210526315789,
          0.7105263157894737,
          0.6157894736842106,
          0.9,
          0.8526315789473684,
          0.4263157894736842,
          0.7578947368421053,
          0.37894736842105264,
          0.28421052631578947,
          0.23684210526315788,
          0.04736842105263158,
          0.23684210526315788,
          0.23684210526315788,
          0.18947368421052632,
          0.14210526315789473,
          0.14210526315789473,
          0.04736842105263158,
          0,
          0.04736842105263158
         ],
         "yaxis": "y2"
        }
       ],
       "layout": {
        "annotations": [
         {
          "font": {
           "size": 16
          },
          "showarrow": false,
          "text": "PC6 Cosine Similarity",
          "x": 0.5,
          "xanchor": "center",
          "xref": "paper",
          "y": 1,
          "yanchor": "bottom",
          "yref": "paper"
         },
         {
          "font": {
           "size": 16
          },
          "showarrow": false,
          "text": "PC6 Projection",
          "x": 0.5,
          "xanchor": "center",
          "xref": "paper",
          "y": 0.45,
          "yanchor": "bottom",
          "yref": "paper"
         },
         {
          "bgcolor": "rgba(255, 255, 255, 0.9)",
          "bordercolor": "black",
          "borderwidth": 1,
          "font": {
           "color": "black",
           "size": 10
          },
          "showarrow": false,
          "text": "Pedantic",
          "x": -0.4489319324493408,
          "xref": "x",
          "y": 1.45,
          "yref": "y"
         },
         {
          "bgcolor": "rgba(255, 255, 255, 0.9)",
          "bordercolor": "black",
          "borderwidth": 1,
          "font": {
           "color": "black",
           "size": 10
          },
          "showarrow": false,
          "text": "Traditional",
          "x": -0.4211275279521942,
          "xref": "x",
          "y": 0.6,
          "yref": "y"
         },
         {
          "bgcolor": "rgba(255, 255, 255, 0.9)",
          "bordercolor": "black",
          "borderwidth": 1,
          "font": {
           "color": "black",
           "size": 10
          },
          "showarrow": false,
          "text": "Quantitative",
          "x": -0.4002653658390045,
          "xref": "x",
          "y": 1.9,
          "yref": "y"
         },
         {
          "bgcolor": "rgba(255, 255, 255, 0.9)",
          "bordercolor": "black",
          "borderwidth": 1,
          "font": {
           "color": "black",
           "size": 10
          },
          "showarrow": false,
          "text": "Data Driven",
          "x": -0.3929038941860199,
          "xref": "x",
          "y": 0.15,
          "yref": "y"
         },
         {
          "bgcolor": "rgba(255, 255, 255, 0.9)",
          "bordercolor": "black",
          "borderwidth": 1,
          "font": {
           "color": "black",
           "size": 10
          },
          "showarrow": false,
          "text": "Regulatory",
          "x": -0.3915475308895111,
          "xref": "x",
          "y": 1.6,
          "yref": "y"
         },
         {
          "bgcolor": "rgba(255, 255, 255, 0.9)",
          "bordercolor": "black",
          "borderwidth": 1,
          "font": {
           "color": "black",
           "size": 10
          },
          "showarrow": false,
          "text": "Ritualistic",
          "x": -0.3860892057418823,
          "xref": "x",
          "y": 0.45,
          "yref": "y"
         },
         {
          "bgcolor": "rgba(255, 255, 255, 0.9)",
          "bordercolor": "black",
          "borderwidth": 1,
          "font": {
           "color": "black",
           "size": 10
          },
          "showarrow": false,
          "text": "Deferential",
          "x": -0.3556612730026245,
          "xref": "x",
          "y": 1.3,
          "yref": "y"
         },
         {
          "bgcolor": "rgba(255, 255, 255, 0.9)",
          "bordercolor": "black",
          "borderwidth": 1,
          "font": {
           "color": "black",
           "size": 10
          },
          "showarrow": false,
          "text": "Technical",
          "x": -0.35366612672805786,
          "xref": "x",
          "y": 0.75,
          "yref": "y"
         },
         {
          "bgcolor": "rgba(255, 255, 255, 0.9)",
          "bordercolor": "black",
          "borderwidth": 1,
          "font": {
           "color": "black",
           "size": 10
          },
          "showarrow": false,
          "text": "Verbose",
          "x": -0.3461891710758209,
          "xref": "x",
          "y": 1.75,
          "yref": "y"
         },
         {
          "bgcolor": "rgba(255, 255, 255, 0.9)",
          "bordercolor": "black",
          "borderwidth": 1,
          "font": {
           "color": "black",
           "size": 10
          },
          "showarrow": false,
          "text": "Anxious",
          "x": -0.3337908685207367,
          "xref": "x",
          "y": 0.3,
          "yref": "y"
         },
         {
          "bgcolor": "rgba(255, 255, 255, 0.9)",
          "bordercolor": "black",
          "borderwidth": 1,
          "font": {
           "color": "black",
           "size": 10
          },
          "showarrow": false,
          "text": "Qualitative",
          "x": 0.31595122814178467,
          "xref": "x",
          "y": 1.45,
          "yref": "y"
         },
         {
          "bgcolor": "rgba(255, 255, 255, 0.9)",
          "bordercolor": "black",
          "borderwidth": 1,
          "font": {
           "color": "black",
           "size": 10
          },
          "showarrow": false,
          "text": "Risk Taking",
          "x": 0.3184348940849304,
          "xref": "x",
          "y": 0.6,
          "yref": "y"
         },
         {
          "bgcolor": "rgba(255, 255, 255, 0.9)",
          "bordercolor": "black",
          "borderwidth": 1,
          "font": {
           "color": "black",
           "size": 10
          },
          "showarrow": false,
          "text": "Libertarian",
          "x": 0.33020880818367004,
          "xref": "x",
          "y": 1.9,
          "yref": "y"
         },
         {
          "bgcolor": "rgba(255, 255, 255, 0.9)",
          "bordercolor": "black",
          "borderwidth": 1,
          "font": {
           "color": "black",
           "size": 10
          },
          "showarrow": false,
          "text": "Efficient",
          "x": 0.332236647605896,
          "xref": "x",
          "y": 0.15,
          "yref": "y"
         },
         {
          "bgcolor": "rgba(255, 255, 255, 0.9)",
          "bordercolor": "black",
          "borderwidth": 1,
          "font": {
           "color": "black",
           "size": 10
          },
          "showarrow": false,
          "text": "Blunt",
          "x": 0.33542105555534363,
          "xref": "x",
          "y": 1.6,
          "yref": "y"
         },
         {
          "bgcolor": "rgba(255, 255, 255, 0.9)",
          "bordercolor": "black",
          "borderwidth": 1,
          "font": {
           "color": "black",
           "size": 10
          },
          "showarrow": false,
          "text": "Concise",
          "x": 0.3425111472606659,
          "xref": "x",
          "y": 0.45,
          "yref": "y"
         },
         {
          "bgcolor": "rgba(255, 255, 255, 0.9)",
          "bordercolor": "black",
          "borderwidth": 1,
          "font": {
           "color": "black",
           "size": 10
          },
          "showarrow": false,
          "text": "Radical",
          "x": 0.3729947805404663,
          "xref": "x",
          "y": 1.3,
          "yref": "y"
         },
         {
          "bgcolor": "rgba(255, 255, 255, 0.9)",
          "bordercolor": "black",
          "borderwidth": 1,
          "font": {
           "color": "black",
           "size": 10
          },
          "showarrow": false,
          "text": "Independent",
          "x": 0.43410608172416687,
          "xref": "x",
          "y": 0.75,
          "yref": "y"
         },
         {
          "bgcolor": "rgba(255, 255, 255, 0.9)",
          "bordercolor": "black",
          "borderwidth": 1,
          "font": {
           "color": "black",
           "size": 10
          },
          "showarrow": false,
          "text": "Rebellious",
          "x": 0.4575750529766083,
          "xref": "x",
          "y": 1.75,
          "yref": "y"
         },
         {
          "bgcolor": "rgba(255, 255, 255, 0.9)",
          "bordercolor": "black",
          "borderwidth": 1,
          "font": {
           "color": "black",
           "size": 10
          },
          "showarrow": false,
          "text": "Existentialist",
          "x": 0.46010926365852356,
          "xref": "x",
          "y": 0.3,
          "yref": "y"
         },
         {
          "bgcolor": "rgba(255, 255, 255, 0.9)",
          "bordercolor": "red",
          "borderwidth": 1,
          "font": {
           "color": "red",
           "size": 14
          },
          "showarrow": false,
          "text": "Assistant",
          "x": 0.08926801383495331,
          "xref": "x",
          "y": 2,
          "yref": "y"
         },
         {
          "bgcolor": "rgba(255, 255, 255, 0.9)",
          "bordercolor": "black",
          "borderwidth": 1,
          "font": {
           "color": "black",
           "size": 10
          },
          "showarrow": false,
          "text": "Pedantic",
          "x": -0.4509148895740509,
          "xref": "x2",
          "y": 1.45,
          "yref": "y2"
         },
         {
          "bgcolor": "rgba(255, 255, 255, 0.9)",
          "bordercolor": "black",
          "borderwidth": 1,
          "font": {
           "color": "black",
           "size": 10
          },
          "showarrow": false,
          "text": "Ritualistic",
          "x": -0.3723587393760681,
          "xref": "x2",
          "y": 0.6,
          "yref": "y2"
         },
         {
          "bgcolor": "rgba(255, 255, 255, 0.9)",
          "bordercolor": "black",
          "borderwidth": 1,
          "font": {
           "color": "black",
           "size": 10
          },
          "showarrow": false,
          "text": "Quantitative",
          "x": -0.3629702031612396,
          "xref": "x2",
          "y": 1.9,
          "yref": "y2"
         },
         {
          "bgcolor": "rgba(255, 255, 255, 0.9)",
          "bordercolor": "black",
          "borderwidth": 1,
          "font": {
           "color": "black",
           "size": 10
          },
          "showarrow": false,
          "text": "Technical",
          "x": -0.3455577492713928,
          "xref": "x2",
          "y": 0.15,
          "yref": "y2"
         },
         {
          "bgcolor": "rgba(255, 255, 255, 0.9)",
          "bordercolor": "black",
          "borderwidth": 1,
          "font": {
           "color": "black",
           "size": 10
          },
          "showarrow": false,
          "text": "Verbose",
          "x": -0.34128043055534363,
          "xref": "x2",
          "y": 1.6,
          "yref": "y2"
         },
         {
          "bgcolor": "rgba(255, 255, 255, 0.9)",
          "bordercolor": "black",
          "borderwidth": 1,
          "font": {
           "color": "black",
           "size": 10
          },
          "showarrow": false,
          "text": "Data Driven",
          "x": -0.33931925892829895,
          "xref": "x2",
          "y": 0.45,
          "yref": "y2"
         },
         {
          "bgcolor": "rgba(255, 255, 255, 0.9)",
          "bordercolor": "black",
          "borderwidth": 1,
          "font": {
           "color": "black",
           "size": 10
          },
          "showarrow": false,
          "text": "Traditional",
          "x": -0.32181933522224426,
          "xref": "x2",
          "y": 1.3,
          "yref": "y2"
         },
         {
          "bgcolor": "rgba(255, 255, 255, 0.9)",
          "bordercolor": "black",
          "borderwidth": 1,
          "font": {
           "color": "black",
           "size": 10
          },
          "showarrow": false,
          "text": "Anxious",
          "x": -0.3161419630050659,
          "xref": "x2",
          "y": 0.75,
          "yref": "y2"
         },
         {
          "bgcolor": "rgba(255, 255, 255, 0.9)",
          "bordercolor": "black",
          "borderwidth": 1,
          "font": {
           "color": "black",
           "size": 10
          },
          "showarrow": false,
          "text": "Regulatory",
          "x": -0.3121377229690552,
          "xref": "x2",
          "y": 1.75,
          "yref": "y2"
         },
         {
          "bgcolor": "rgba(255, 255, 255, 0.9)",
          "bordercolor": "black",
          "borderwidth": 1,
          "font": {
           "color": "black",
           "size": 10
          },
          "showarrow": false,
          "text": "Goofy",
          "x": -0.30940940976142883,
          "xref": "x2",
          "y": 0.3,
          "yref": "y2"
         },
         {
          "bgcolor": "rgba(255, 255, 255, 0.9)",
          "bordercolor": "black",
          "borderwidth": 1,
          "font": {
           "color": "black",
           "size": 10
          },
          "showarrow": false,
          "text": "Libertarian",
          "x": 0.38605180382728577,
          "xref": "x2",
          "y": 1.45,
          "yref": "y2"
         },
         {
          "bgcolor": "rgba(255, 255, 255, 0.9)",
          "bordercolor": "black",
          "borderwidth": 1,
          "font": {
           "color": "black",
           "size": 10
          },
          "showarrow": false,
          "text": "Innovative",
          "x": 0.4017590880393982,
          "xref": "x2",
          "y": 0.6,
          "yref": "y2"
         },
         {
          "bgcolor": "rgba(255, 255, 255, 0.9)",
          "bordercolor": "black",
          "borderwidth": 1,
          "font": {
           "color": "black",
           "size": 10
          },
          "showarrow": false,
          "text": "Iconoclastic",
          "x": 0.41995200514793396,
          "xref": "x2",
          "y": 1.9,
          "yref": "y2"
         },
         {
          "bgcolor": "rgba(255, 255, 255, 0.9)",
          "bordercolor": "black",
          "borderwidth": 1,
          "font": {
           "color": "black",
           "size": 10
          },
          "showarrow": false,
          "text": "Contrarian",
          "x": 0.4218510389328003,
          "xref": "x2",
          "y": 0.15,
          "yref": "y2"
         },
         {
          "bgcolor": "rgba(255, 255, 255, 0.9)",
          "bordercolor": "black",
          "borderwidth": 1,
          "font": {
           "color": "black",
           "size": 10
          },
          "showarrow": false,
          "text": "Provocative",
          "x": 0.43207961320877075,
          "xref": "x2",
          "y": 1.6,
          "yref": "y2"
         },
         {
          "bgcolor": "rgba(255, 255, 255, 0.9)",
          "bordercolor": "black",
          "borderwidth": 1,
          "font": {
           "color": "black",
           "size": 10
          },
          "showarrow": false,
          "text": "Independent",
          "x": 0.4643948972225189,
          "xref": "x2",
          "y": 0.45,
          "yref": "y2"
         },
         {
          "bgcolor": "rgba(255, 255, 255, 0.9)",
          "bordercolor": "black",
          "borderwidth": 1,
          "font": {
           "color": "black",
           "size": 10
          },
          "showarrow": false,
          "text": "Radical",
          "x": 0.4646764397621155,
          "xref": "x2",
          "y": 1.3,
          "yref": "y2"
         },
         {
          "bgcolor": "rgba(255, 255, 255, 0.9)",
          "bordercolor": "black",
          "borderwidth": 1,
          "font": {
           "color": "black",
           "size": 10
          },
          "showarrow": false,
          "text": "Risk Taking",
          "x": 0.46777522563934326,
          "xref": "x2",
          "y": 0.75,
          "yref": "y2"
         },
         {
          "bgcolor": "rgba(255, 255, 255, 0.9)",
          "bordercolor": "black",
          "borderwidth": 1,
          "font": {
           "color": "black",
           "size": 10
          },
          "showarrow": false,
          "text": "Existentialist",
          "x": 0.4965686500072479,
          "xref": "x2",
          "y": 1.75,
          "yref": "y2"
         },
         {
          "bgcolor": "rgba(255, 255, 255, 0.9)",
          "bordercolor": "black",
          "borderwidth": 1,
          "font": {
           "color": "black",
           "size": 10
          },
          "showarrow": false,
          "text": "Rebellious",
          "x": 0.5859310030937195,
          "xref": "x2",
          "y": 0.3,
          "yref": "y2"
         },
         {
          "bgcolor": "rgba(255, 255, 255, 0.9)",
          "bordercolor": "red",
          "borderwidth": 1,
          "font": {
           "color": "red",
           "size": 14
          },
          "showarrow": false,
          "text": "Assistant",
          "x": 0.09585332125425339,
          "xref": "x2",
          "y": 2,
          "yref": "y2"
         }
        ],
        "height": 800,
        "shapes": [
         {
          "line": {
           "color": "gray",
           "dash": "solid",
           "width": 1
          },
          "opacity": 0.7,
          "type": "line",
          "x0": 0,
          "x1": 0,
          "xref": "x",
          "y0": 0,
          "y1": 1,
          "yref": "y domain"
         },
         {
          "line": {
           "color": "red",
           "dash": "dash",
           "width": 1
          },
          "opacity": 1,
          "type": "line",
          "x0": 0.08926801383495331,
          "x1": 0.08926801383495331,
          "xref": "x",
          "y0": 0,
          "y1": 1,
          "yref": "y domain"
         },
         {
          "line": {
           "color": "gray",
           "dash": "solid",
           "width": 1
          },
          "opacity": 0.7,
          "type": "line",
          "x0": 0,
          "x1": 0,
          "xref": "x2",
          "y0": 0,
          "y1": 1,
          "yref": "y2 domain"
         },
         {
          "line": {
           "color": "red",
           "dash": "dash",
           "width": 1
          },
          "opacity": 1,
          "type": "line",
          "x0": 0.09585332125425339,
          "x1": 0.09585332125425339,
          "xref": "x2",
          "y0": 0,
          "y1": 1,
          "yref": "y2 domain"
         }
        ],
        "showlegend": false,
        "template": {
         "data": {
          "bar": [
           {
            "error_x": {
             "color": "#2a3f5f"
            },
            "error_y": {
             "color": "#2a3f5f"
            },
            "marker": {
             "line": {
              "color": "#E5ECF6",
              "width": 0.5
             },
             "pattern": {
              "fillmode": "overlay",
              "size": 10,
              "solidity": 0.2
             }
            },
            "type": "bar"
           }
          ],
          "barpolar": [
           {
            "marker": {
             "line": {
              "color": "#E5ECF6",
              "width": 0.5
             },
             "pattern": {
              "fillmode": "overlay",
              "size": 10,
              "solidity": 0.2
             }
            },
            "type": "barpolar"
           }
          ],
          "carpet": [
           {
            "aaxis": {
             "endlinecolor": "#2a3f5f",
             "gridcolor": "white",
             "linecolor": "white",
             "minorgridcolor": "white",
             "startlinecolor": "#2a3f5f"
            },
            "baxis": {
             "endlinecolor": "#2a3f5f",
             "gridcolor": "white",
             "linecolor": "white",
             "minorgridcolor": "white",
             "startlinecolor": "#2a3f5f"
            },
            "type": "carpet"
           }
          ],
          "choropleth": [
           {
            "colorbar": {
             "outlinewidth": 0,
             "ticks": ""
            },
            "type": "choropleth"
           }
          ],
          "contour": [
           {
            "colorbar": {
             "outlinewidth": 0,
             "ticks": ""
            },
            "colorscale": [
             [
              0,
              "#0d0887"
             ],
             [
              0.1111111111111111,
              "#46039f"
             ],
             [
              0.2222222222222222,
              "#7201a8"
             ],
             [
              0.3333333333333333,
              "#9c179e"
             ],
             [
              0.4444444444444444,
              "#bd3786"
             ],
             [
              0.5555555555555556,
              "#d8576b"
             ],
             [
              0.6666666666666666,
              "#ed7953"
             ],
             [
              0.7777777777777778,
              "#fb9f3a"
             ],
             [
              0.8888888888888888,
              "#fdca26"
             ],
             [
              1,
              "#f0f921"
             ]
            ],
            "type": "contour"
           }
          ],
          "contourcarpet": [
           {
            "colorbar": {
             "outlinewidth": 0,
             "ticks": ""
            },
            "type": "contourcarpet"
           }
          ],
          "heatmap": [
           {
            "colorbar": {
             "outlinewidth": 0,
             "ticks": ""
            },
            "colorscale": [
             [
              0,
              "#0d0887"
             ],
             [
              0.1111111111111111,
              "#46039f"
             ],
             [
              0.2222222222222222,
              "#7201a8"
             ],
             [
              0.3333333333333333,
              "#9c179e"
             ],
             [
              0.4444444444444444,
              "#bd3786"
             ],
             [
              0.5555555555555556,
              "#d8576b"
             ],
             [
              0.6666666666666666,
              "#ed7953"
             ],
             [
              0.7777777777777778,
              "#fb9f3a"
             ],
             [
              0.8888888888888888,
              "#fdca26"
             ],
             [
              1,
              "#f0f921"
             ]
            ],
            "type": "heatmap"
           }
          ],
          "heatmapgl": [
           {
            "colorbar": {
             "outlinewidth": 0,
             "ticks": ""
            },
            "colorscale": [
             [
              0,
              "#0d0887"
             ],
             [
              0.1111111111111111,
              "#46039f"
             ],
             [
              0.2222222222222222,
              "#7201a8"
             ],
             [
              0.3333333333333333,
              "#9c179e"
             ],
             [
              0.4444444444444444,
              "#bd3786"
             ],
             [
              0.5555555555555556,
              "#d8576b"
             ],
             [
              0.6666666666666666,
              "#ed7953"
             ],
             [
              0.7777777777777778,
              "#fb9f3a"
             ],
             [
              0.8888888888888888,
              "#fdca26"
             ],
             [
              1,
              "#f0f921"
             ]
            ],
            "type": "heatmapgl"
           }
          ],
          "histogram": [
           {
            "marker": {
             "pattern": {
              "fillmode": "overlay",
              "size": 10,
              "solidity": 0.2
             }
            },
            "type": "histogram"
           }
          ],
          "histogram2d": [
           {
            "colorbar": {
             "outlinewidth": 0,
             "ticks": ""
            },
            "colorscale": [
             [
              0,
              "#0d0887"
             ],
             [
              0.1111111111111111,
              "#46039f"
             ],
             [
              0.2222222222222222,
              "#7201a8"
             ],
             [
              0.3333333333333333,
              "#9c179e"
             ],
             [
              0.4444444444444444,
              "#bd3786"
             ],
             [
              0.5555555555555556,
              "#d8576b"
             ],
             [
              0.6666666666666666,
              "#ed7953"
             ],
             [
              0.7777777777777778,
              "#fb9f3a"
             ],
             [
              0.8888888888888888,
              "#fdca26"
             ],
             [
              1,
              "#f0f921"
             ]
            ],
            "type": "histogram2d"
           }
          ],
          "histogram2dcontour": [
           {
            "colorbar": {
             "outlinewidth": 0,
             "ticks": ""
            },
            "colorscale": [
             [
              0,
              "#0d0887"
             ],
             [
              0.1111111111111111,
              "#46039f"
             ],
             [
              0.2222222222222222,
              "#7201a8"
             ],
             [
              0.3333333333333333,
              "#9c179e"
             ],
             [
              0.4444444444444444,
              "#bd3786"
             ],
             [
              0.5555555555555556,
              "#d8576b"
             ],
             [
              0.6666666666666666,
              "#ed7953"
             ],
             [
              0.7777777777777778,
              "#fb9f3a"
             ],
             [
              0.8888888888888888,
              "#fdca26"
             ],
             [
              1,
              "#f0f921"
             ]
            ],
            "type": "histogram2dcontour"
           }
          ],
          "mesh3d": [
           {
            "colorbar": {
             "outlinewidth": 0,
             "ticks": ""
            },
            "type": "mesh3d"
           }
          ],
          "parcoords": [
           {
            "line": {
             "colorbar": {
              "outlinewidth": 0,
              "ticks": ""
             }
            },
            "type": "parcoords"
           }
          ],
          "pie": [
           {
            "automargin": true,
            "type": "pie"
           }
          ],
          "scatter": [
           {
            "fillpattern": {
             "fillmode": "overlay",
             "size": 10,
             "solidity": 0.2
            },
            "type": "scatter"
           }
          ],
          "scatter3d": [
           {
            "line": {
             "colorbar": {
              "outlinewidth": 0,
              "ticks": ""
             }
            },
            "marker": {
             "colorbar": {
              "outlinewidth": 0,
              "ticks": ""
             }
            },
            "type": "scatter3d"
           }
          ],
          "scattercarpet": [
           {
            "marker": {
             "colorbar": {
              "outlinewidth": 0,
              "ticks": ""
             }
            },
            "type": "scattercarpet"
           }
          ],
          "scattergeo": [
           {
            "marker": {
             "colorbar": {
              "outlinewidth": 0,
              "ticks": ""
             }
            },
            "type": "scattergeo"
           }
          ],
          "scattergl": [
           {
            "marker": {
             "colorbar": {
              "outlinewidth": 0,
              "ticks": ""
             }
            },
            "type": "scattergl"
           }
          ],
          "scattermapbox": [
           {
            "marker": {
             "colorbar": {
              "outlinewidth": 0,
              "ticks": ""
             }
            },
            "type": "scattermapbox"
           }
          ],
          "scatterpolar": [
           {
            "marker": {
             "colorbar": {
              "outlinewidth": 0,
              "ticks": ""
             }
            },
            "type": "scatterpolar"
           }
          ],
          "scatterpolargl": [
           {
            "marker": {
             "colorbar": {
              "outlinewidth": 0,
              "ticks": ""
             }
            },
            "type": "scatterpolargl"
           }
          ],
          "scatterternary": [
           {
            "marker": {
             "colorbar": {
              "outlinewidth": 0,
              "ticks": ""
             }
            },
            "type": "scatterternary"
           }
          ],
          "surface": [
           {
            "colorbar": {
             "outlinewidth": 0,
             "ticks": ""
            },
            "colorscale": [
             [
              0,
              "#0d0887"
             ],
             [
              0.1111111111111111,
              "#46039f"
             ],
             [
              0.2222222222222222,
              "#7201a8"
             ],
             [
              0.3333333333333333,
              "#9c179e"
             ],
             [
              0.4444444444444444,
              "#bd3786"
             ],
             [
              0.5555555555555556,
              "#d8576b"
             ],
             [
              0.6666666666666666,
              "#ed7953"
             ],
             [
              0.7777777777777778,
              "#fb9f3a"
             ],
             [
              0.8888888888888888,
              "#fdca26"
             ],
             [
              1,
              "#f0f921"
             ]
            ],
            "type": "surface"
           }
          ],
          "table": [
           {
            "cells": {
             "fill": {
              "color": "#EBF0F8"
             },
             "line": {
              "color": "white"
             }
            },
            "header": {
             "fill": {
              "color": "#C8D4E3"
             },
             "line": {
              "color": "white"
             }
            },
            "type": "table"
           }
          ]
         },
         "layout": {
          "annotationdefaults": {
           "arrowcolor": "#2a3f5f",
           "arrowhead": 0,
           "arrowwidth": 1
          },
          "autotypenumbers": "strict",
          "coloraxis": {
           "colorbar": {
            "outlinewidth": 0,
            "ticks": ""
           }
          },
          "colorscale": {
           "diverging": [
            [
             0,
             "#8e0152"
            ],
            [
             0.1,
             "#c51b7d"
            ],
            [
             0.2,
             "#de77ae"
            ],
            [
             0.3,
             "#f1b6da"
            ],
            [
             0.4,
             "#fde0ef"
            ],
            [
             0.5,
             "#f7f7f7"
            ],
            [
             0.6,
             "#e6f5d0"
            ],
            [
             0.7,
             "#b8e186"
            ],
            [
             0.8,
             "#7fbc41"
            ],
            [
             0.9,
             "#4d9221"
            ],
            [
             1,
             "#276419"
            ]
           ],
           "sequential": [
            [
             0,
             "#0d0887"
            ],
            [
             0.1111111111111111,
             "#46039f"
            ],
            [
             0.2222222222222222,
             "#7201a8"
            ],
            [
             0.3333333333333333,
             "#9c179e"
            ],
            [
             0.4444444444444444,
             "#bd3786"
            ],
            [
             0.5555555555555556,
             "#d8576b"
            ],
            [
             0.6666666666666666,
             "#ed7953"
            ],
            [
             0.7777777777777778,
             "#fb9f3a"
            ],
            [
             0.8888888888888888,
             "#fdca26"
            ],
            [
             1,
             "#f0f921"
            ]
           ],
           "sequentialminus": [
            [
             0,
             "#0d0887"
            ],
            [
             0.1111111111111111,
             "#46039f"
            ],
            [
             0.2222222222222222,
             "#7201a8"
            ],
            [
             0.3333333333333333,
             "#9c179e"
            ],
            [
             0.4444444444444444,
             "#bd3786"
            ],
            [
             0.5555555555555556,
             "#d8576b"
            ],
            [
             0.6666666666666666,
             "#ed7953"
            ],
            [
             0.7777777777777778,
             "#fb9f3a"
            ],
            [
             0.8888888888888888,
             "#fdca26"
            ],
            [
             1,
             "#f0f921"
            ]
           ]
          },
          "colorway": [
           "#636efa",
           "#EF553B",
           "#00cc96",
           "#ab63fa",
           "#FFA15A",
           "#19d3f3",
           "#FF6692",
           "#B6E880",
           "#FF97FF",
           "#FECB52"
          ],
          "font": {
           "color": "#2a3f5f"
          },
          "geo": {
           "bgcolor": "white",
           "lakecolor": "white",
           "landcolor": "#E5ECF6",
           "showlakes": true,
           "showland": true,
           "subunitcolor": "white"
          },
          "hoverlabel": {
           "align": "left"
          },
          "hovermode": "closest",
          "mapbox": {
           "style": "light"
          },
          "paper_bgcolor": "white",
          "plot_bgcolor": "#E5ECF6",
          "polar": {
           "angularaxis": {
            "gridcolor": "white",
            "linecolor": "white",
            "ticks": ""
           },
           "bgcolor": "#E5ECF6",
           "radialaxis": {
            "gridcolor": "white",
            "linecolor": "white",
            "ticks": ""
           }
          },
          "scene": {
           "xaxis": {
            "backgroundcolor": "#E5ECF6",
            "gridcolor": "white",
            "gridwidth": 2,
            "linecolor": "white",
            "showbackground": true,
            "ticks": "",
            "zerolinecolor": "white"
           },
           "yaxis": {
            "backgroundcolor": "#E5ECF6",
            "gridcolor": "white",
            "gridwidth": 2,
            "linecolor": "white",
            "showbackground": true,
            "ticks": "",
            "zerolinecolor": "white"
           },
           "zaxis": {
            "backgroundcolor": "#E5ECF6",
            "gridcolor": "white",
            "gridwidth": 2,
            "linecolor": "white",
            "showbackground": true,
            "ticks": "",
            "zerolinecolor": "white"
           }
          },
          "shapedefaults": {
           "line": {
            "color": "#2a3f5f"
           }
          },
          "ternary": {
           "aaxis": {
            "gridcolor": "white",
            "linecolor": "white",
            "ticks": ""
           },
           "baxis": {
            "gridcolor": "white",
            "linecolor": "white",
            "ticks": ""
           },
           "bgcolor": "#E5ECF6",
           "caxis": {
            "gridcolor": "white",
            "linecolor": "white",
            "ticks": ""
           }
          },
          "title": {
           "x": 0.05
          },
          "xaxis": {
           "automargin": true,
           "gridcolor": "white",
           "linecolor": "white",
           "ticks": "",
           "title": {
            "standoff": 15
           },
           "zerolinecolor": "white",
           "zerolinewidth": 2
          },
          "yaxis": {
           "automargin": true,
           "gridcolor": "white",
           "linecolor": "white",
           "ticks": "",
           "title": {
            "standoff": 15
           },
           "zerolinecolor": "white",
           "zerolinewidth": 2
          }
         }
        },
        "title": {
         "font": {
          "size": 16
         },
         "subtitle": {
          "text": "Llama 3.3 70B, Layer 40 - Mean-Centered and L2 Normalized Vectors"
         },
         "text": "PCA on Trait Vectors",
         "x": 0.5
        },
        "width": 1000,
        "xaxis": {
         "anchor": "y",
         "domain": [
          0,
          1
         ],
         "range": [
          -1.1,
          1.1
         ]
        },
        "xaxis2": {
         "anchor": "y2",
         "domain": [
          0,
          1
         ],
         "range": [
          -1.1,
          1.1
         ]
        },
        "yaxis": {
         "anchor": "x",
         "domain": [
          0.55,
          1
         ],
         "range": [
          0,
          2.5
         ],
         "showticklabels": false
        },
        "yaxis2": {
         "anchor": "x2",
         "domain": [
          0,
          0.45
         ],
         "range": [
          0,
          2.5
         ],
         "showticklabels": false
        }
       }
      },
      "text/html": [
       "<div>                            <div id=\"dd074e84-bdf1-43ad-9e67-63425fd7e259\" class=\"plotly-graph-div\" style=\"height:800px; width:1000px;\"></div>            <script type=\"text/javascript\">                require([\"plotly\"], function(Plotly) {                    window.PLOTLYENV=window.PLOTLYENV || {};                                    if (document.getElementById(\"dd074e84-bdf1-43ad-9e67-63425fd7e259\")) {                    Plotly.newPlot(                        \"dd074e84-bdf1-43ad-9e67-63425fd7e259\",                        [{\"hovertemplate\":\"\\u003cb\\u003e%{text}\\u003c\\u002fb\\u003e\\u003cbr\\u003eCosine Similarity: %{x:.3f}\\u003cextra\\u003e\\u003c\\u002fextra\\u003e\",\"marker\":{\"color\":\"limegreen\",\"line\":{\"color\":\"black\",\"width\":1},\"opacity\":1.0,\"size\":8,\"symbol\":\"diamond\"},\"mode\":\"markers\",\"showlegend\":false,\"text\":[\"Zealous\",\"Wry\",\"Witty\",\"Whimsical\",\"Visceral\",\"Vindictive\",\"Utilitarian\",\"Urgent\",\"Universalist\",\"Understated\",\"Transparent\",\"Theoretical\",\"Theatrical\",\"Temperamental\",\"Tactful\",\"Systems Thinker\",\"Sycophantic\",\"Supportive\",\"Subversive\",\"Submissive\",\"Structuralist\",\"Stream Of Consciousness\",\"Strategic\",\"Stoic\",\"Spontaneous\",\"Spiritual\",\"Speculative\",\"Specialized\",\"Solemn\",\"Socratic\",\"Skeptical\",\"Serious\",\"Serene\",\"Secular\",\"Savage\",\"Sassy\",\"Sardonic\",\"Sarcastic\",\"Romantic\",\"Rhetorical\",\"Reverent\",\"Resilient\",\"Reserved\",\"Relativist\",\"Reductionist\",\"Reactive\",\"Rationalist\",\"Provocative\",\"Progressive\",\"Problem Solving\",\"Proactive\",\"Principled\",\"Prescriptive\",\"Practical\",\"Poetic\",\"Pluralist\",\"Playful\",\"Philosophical\",\"Petty\",\"Pessimistic\",\"Perfectionist\",\"Pensive\",\"Patient\",\"Passive Aggressive\",\"Passionate\",\"Paranoid\",\"Paradoxical\",\"Pacifist\",\"Optimistic\",\"Open Ended\",\"Obsessive\",\"Nurturing\",\"Nostalgic\",\"Nonchalant\",\"Nihilistic\",\"Neurotic\",\"Narrative\",\"Naive\",\"Mystical\",\"Moderate\",\"Mischievous\",\"Misanthropic\",\"Militant\",\"Meticulous\",\"Methodical\",\"Metaphorical\",\"Mercurial\",\"Melodramatic\",\"Melancholic\",\"Meditative\",\"Materialist\",\"Manipulative\",\"Manic\",\"Literal\",\"Judgmental\",\"Irreverent\",\"Ironic\",\"Intuitive\",\"Introverted\",\"Introspective\",\"Interdisciplinary\",\"Inspirational\",\"Inquisitive\",\"Innovative\",\"Individualistic\",\"Inclusive\",\"Impulsive\",\"Improvisational\",\"Impatient\",\"Idealistic\",\"Iconoclastic\",\"Humble\",\"Humanistic\",\"Hostile\",\"Holistic\",\"Historical\",\"Hedonistic\",\"Grounded\",\"Gregarious\",\"Grandiose\",\"Goofy\",\"Generous\",\"Generalist\",\"Futuristic\",\"Fundamentalist\",\"Formalist\",\"Formal\",\"Forgiving\",\"Flirty\",\"Flippant\",\"Flexible\",\"Fatalistic\",\"Factual\",\"Extroverted\",\"Exploratory\",\"Experiential\",\"Evil\",\"Ethereal\",\"Essentialist\",\"Esoteric\",\"Erudite\",\"Epicurean\",\"Environmental\",\"Entertaining\",\"Enigmatic\",\"Empathetic\",\"Emotional\",\"Eloquent\",\"Elitist\",\"Egalitarian\",\"Effusive\",\"Educational\",\"Edgy\",\"Eclectic\",\"Earnest\",\"Dramatic\",\"Dominant\",\"Dogmatic\",\"Divergent\",\"Dispassionate\",\"Disorganized\",\"Diplomatic\",\"Deterministic\",\"Detached\",\"Descriptive\",\"Deontological\",\"Deconstructionist\",\"Decisive\",\"Cynical\",\"Curious\",\"Cryptic\",\"Cruel\",\"Critical\",\"Creative\",\"Cosmopolitan\",\"Convergent\",\"Contrarian\",\"Contemporary\",\"Constructivist\",\"Conscientious\",\"Confrontational\",\"Confident\",\"Condescending\",\"Conciliatory\",\"Conceptual\",\"Competitive\",\"Collectivistic\",\"Collaborative\",\"Closure Seeking\",\"Circumspect\",\"Chill\",\"Charismatic\",\"Chaotic\",\"Challenging\",\"Cautious\",\"Casual\",\"Calm\",\"Callous\",\"Calculating\",\"Bombastic\",\"Bitter\",\"Big Picture\",\"Benevolent\",\"Avoidant\",\"Assertive\",\"Ascetic\",\"Artistic\",\"Arrogant\",\"Anthropocentric\",\"Animated\",\"Analytical\",\"Altruistic\",\"Agreeable\",\"Adventurous\",\"Adaptable\",\"Acerbic\",\"Accommodating\",\"Accessible\",\"Abstract\",\"Absolutist\"],\"x\":[-0.06720010936260223,-0.23005011677742004,-0.2276439517736435,-0.14658334851264954,0.08240862190723419,-0.04293377697467804,-0.2578555941581726,-0.045225583016872406,0.17035280168056488,-0.0017331189010292292,-0.12326647341251373,0.020123399794101715,-0.2411259561777115,-0.2912440001964569,-0.2489488422870636,0.009063716977834702,-0.15738658607006073,-0.05891857668757439,0.15607032179832458,-0.08335241675376892,-0.12411312758922577,-0.062446631491184235,-0.0885847881436348,0.12469838559627533,0.042035043239593506,0.11560321599245071,0.040965355932712555,-0.2751028537750244,0.06121228262782097,0.0037334023509174585,-0.012262710370123386,0.04565378651022911,0.2148064523935318,0.017706379294395447,0.13607501983642578,0.11647623777389526,-0.21285191178321838,-0.17776750028133392,-0.004435200244188309,-0.11510880291461945,-0.27234500646591187,0.17747920751571655,0.05277286097407341,0.12732428312301636,-0.15895967185497284,0.05794534087181091,-0.21073374152183533,0.30215325951576233,0.3104148209095001,-0.11278856545686722,-0.12152678519487381,0.07675845921039581,-0.10508883744478226,-0.02734662964940071,-0.15993130207061768,0.03405635803937912,-0.19930654764175415,0.11206437647342682,-0.2254227101802826,-0.09180133044719696,-0.2651923894882202,-0.11055092513561249,0.03728285804390907,-0.21396446228027344,-0.0936184749007225,0.021535268053412437,0.11032906174659729,0.1601010411977768,0.07858363538980484,-0.02454991266131401,-0.25143587589263916,-0.07898962497711182,-0.2335968017578125,0.02696782723069191,0.0500481054186821,-0.2770143747329712,-0.158239483833313,-0.1856066882610321,0.14944958686828613,-0.15801438689231873,-0.20923735201358795,0.05400233715772629,0.15500105917453766,-0.21257849037647247,-0.05740712583065033,-0.11866758018732071,-0.21899893879890442,-0.22833871841430664,-0.09586552530527115,0.06867556273937225,-0.24427248537540436,-0.1293489634990692,-0.27973443269729614,-0.04539253190159798,0.038802556693553925,-0.10463876277208328,-0.20173898339271545,0.20578333735466003,0.2216600477695465,-0.15778011083602905,-0.11882837116718292,0.08234061300754547,-0.23176449537277222,0.28707683086395264,0.2696671783924103,-0.013249853625893593,0.10831620544195175,0.1484185755252838,0.12067999690771103,0.16243642568588257,0.3078078031539917,-0.20368991792201996,0.03907144069671631,-0.0006064600311219692,-0.05703798308968544,-0.29911425709724426,-0.004072174429893494,-0.25760772824287415,-0.24649670720100403,-0.09458891302347183,-0.3071022927761078,-0.17741161584854126,0.1305377036333084,0.08875301480293274,-0.016850359737873077,-0.2564537525177002,-0.0576305128633976,-0.05966261029243469,-0.1493343561887741,-0.1423979103565216,0.031195873394608498,0.06957137584686279,-0.06504865735769272,-0.13990826904773712,-0.2448195517063141,-0.26239892840385437,-0.09157981723546982,-0.05906810238957405,0.03357267752289772,-0.12456149607896805,-0.24119076132774353,-0.25103700160980225,0.011033457703888416,-0.1786721795797348,0.0060813575983047485,-0.02534845471382141,-0.024638328701257706,-0.180050328373909,-0.12282801419496536,0.14235073328018188,-0.2583092451095581,-0.17490917444229126,-0.033974580466747284,-0.06976435333490372,0.17374707758426666,-0.16269072890281677,0.06216515600681305,0.03256360813975334,-0.24694685637950897,0.04087216034531593,-0.20802639424800873,-0.1567249596118927,0.037895068526268005,-0.007275265641510487,-0.07201585173606873,0.07978649437427521,0.08798480778932571,0.25679701566696167,0.015283798798918724,-0.13329431414604187,-0.03344559669494629,0.04503960162401199,0.2648812234401703,0.04125106707215309,0.032801344990730286,-0.05572456121444702,0.3037971258163452,0.002961021149531007,0.05838005989789963,0.05311690643429756,0.26782092452049255,0.22870361804962158,-0.31077486276626587,-0.083840012550354,0.27556875348091125,0.032947078347206116,-0.2773415446281433,-0.30488982796669006,0.16889575123786926,-0.276637464761734,0.13936813175678253,-0.01954205520451069,-0.008775593712925911,0.07552993297576904,-0.3149855136871338,0.07107813656330109,0.13901613652706146,0.11848829686641693,-0.10905636847019196,-0.24092261493206024,-0.03089832328259945,0.2940652668476105,-0.11462055146694183,-0.03644800931215286,0.1925640106201172,0.2437978833913803,-0.10482100397348404,-0.08717849850654602,0.04719281196594238,-0.1400505155324936,-0.3291461169719696,-0.11130211502313614,-0.13768258690834045,0.26469072699546814,0.09238643944263458,-0.08697200566530228,-0.13229627907276154,0.0777101069688797,0.24735285341739655,0.1176055297255516],\"y\":[1,1,1,1,1,1,1,1,1,1,1,1,1,1,1,1,1,1,1,1,1,1,1,1,1,1,1,1,1,1,1,1,1,1,1,1,1,1,1,1,1,1,1,1,1,1,1,1,1,1,1,1,1,1,1,1,1,1,1,1,1,1,1,1,1,1,1,1,1,1,1,1,1,1,1,1,1,1,1,1,1,1,1,1,1,1,1,1,1,1,1,1,1,1,1,1,1,1,1,1,1,1,1,1,1,1,1,1,1,1,1,1,1,1,1,1,1,1,1,1,1,1,1,1,1,1,1,1,1,1,1,1,1,1,1,1,1,1,1,1,1,1,1,1,1,1,1,1,1,1,1,1,1,1,1,1,1,1,1,1,1,1,1,1,1,1,1,1,1,1,1,1,1,1,1,1,1,1,1,1,1,1,1,1,1,1,1,1,1,1,1,1,1,1,1,1,1,1,1,1,1,1,1,1,1,1,1,1,1,1,1,1,1,1,1,1,1,1,1,1],\"type\":\"scatter\",\"xaxis\":\"x\",\"yaxis\":\"y\"},{\"hovertemplate\":\"\\u003cb\\u003e%{text}\\u003c\\u002fb\\u003e\\u003cbr\\u003eCosine Similarity: %{x:.3f}\\u003cextra\\u003e\\u003c\\u002fextra\\u003e\",\"marker\":{\"color\":\"limegreen\",\"line\":{\"color\":\"black\",\"width\":1},\"opacity\":1.0,\"size\":8,\"symbol\":\"diamond\"},\"mode\":\"markers\",\"showlegend\":false,\"text\":[\"Verbose\",\"Traditional\",\"Technical\",\"Ritualistic\",\"Risk Taking\",\"Regulatory\",\"Rebellious\",\"Radical\",\"Quantitative\",\"Qualitative\",\"Pedantic\",\"Libertarian\",\"Independent\",\"Existentialist\",\"Efficient\",\"Deferential\",\"Data Driven\",\"Concise\",\"Blunt\",\"Anxious\"],\"x\":[-0.3461891710758209,-0.4211275279521942,-0.35366612672805786,-0.3860892057418823,0.3184348940849304,-0.3915475308895111,0.4575750529766083,0.3729947805404663,-0.4002653658390045,0.31595122814178467,-0.4489319324493408,0.33020880818367004,0.43410608172416687,0.46010926365852356,0.332236647605896,-0.3556612730026245,-0.3929038941860199,0.3425111472606659,0.33542105555534363,-0.3337908685207367],\"y\":[1,1,1,1,1,1,1,1,1,1,1,1,1,1,1,1,1,1,1,1],\"type\":\"scatter\",\"xaxis\":\"x\",\"yaxis\":\"y\"},{\"hoverinfo\":\"skip\",\"line\":{\"color\":\"black\",\"width\":1},\"mode\":\"lines\",\"showlegend\":false,\"x\":[-0.4489319324493408,-0.4489319324493408],\"y\":[1.0,1.45],\"type\":\"scatter\",\"xaxis\":\"x\",\"yaxis\":\"y\"},{\"hoverinfo\":\"skip\",\"line\":{\"color\":\"black\",\"width\":1},\"mode\":\"lines\",\"showlegend\":false,\"x\":[-0.4211275279521942,-0.4211275279521942],\"y\":[1.0,0.6],\"type\":\"scatter\",\"xaxis\":\"x\",\"yaxis\":\"y\"},{\"hoverinfo\":\"skip\",\"line\":{\"color\":\"black\",\"width\":1},\"mode\":\"lines\",\"showlegend\":false,\"x\":[-0.4002653658390045,-0.4002653658390045],\"y\":[1.0,1.9],\"type\":\"scatter\",\"xaxis\":\"x\",\"yaxis\":\"y\"},{\"hoverinfo\":\"skip\",\"line\":{\"color\":\"black\",\"width\":1},\"mode\":\"lines\",\"showlegend\":false,\"x\":[-0.3929038941860199,-0.3929038941860199],\"y\":[1.0,0.15],\"type\":\"scatter\",\"xaxis\":\"x\",\"yaxis\":\"y\"},{\"hoverinfo\":\"skip\",\"line\":{\"color\":\"black\",\"width\":1},\"mode\":\"lines\",\"showlegend\":false,\"x\":[-0.3915475308895111,-0.3915475308895111],\"y\":[1.0,1.6],\"type\":\"scatter\",\"xaxis\":\"x\",\"yaxis\":\"y\"},{\"hoverinfo\":\"skip\",\"line\":{\"color\":\"black\",\"width\":1},\"mode\":\"lines\",\"showlegend\":false,\"x\":[-0.3860892057418823,-0.3860892057418823],\"y\":[1.0,0.45],\"type\":\"scatter\",\"xaxis\":\"x\",\"yaxis\":\"y\"},{\"hoverinfo\":\"skip\",\"line\":{\"color\":\"black\",\"width\":1},\"mode\":\"lines\",\"showlegend\":false,\"x\":[-0.3556612730026245,-0.3556612730026245],\"y\":[1.0,1.3],\"type\":\"scatter\",\"xaxis\":\"x\",\"yaxis\":\"y\"},{\"hoverinfo\":\"skip\",\"line\":{\"color\":\"black\",\"width\":1},\"mode\":\"lines\",\"showlegend\":false,\"x\":[-0.35366612672805786,-0.35366612672805786],\"y\":[1.0,0.75],\"type\":\"scatter\",\"xaxis\":\"x\",\"yaxis\":\"y\"},{\"hoverinfo\":\"skip\",\"line\":{\"color\":\"black\",\"width\":1},\"mode\":\"lines\",\"showlegend\":false,\"x\":[-0.3461891710758209,-0.3461891710758209],\"y\":[1.0,1.75],\"type\":\"scatter\",\"xaxis\":\"x\",\"yaxis\":\"y\"},{\"hoverinfo\":\"skip\",\"line\":{\"color\":\"black\",\"width\":1},\"mode\":\"lines\",\"showlegend\":false,\"x\":[-0.3337908685207367,-0.3337908685207367],\"y\":[1.0,0.3],\"type\":\"scatter\",\"xaxis\":\"x\",\"yaxis\":\"y\"},{\"hoverinfo\":\"skip\",\"line\":{\"color\":\"black\",\"width\":1},\"mode\":\"lines\",\"showlegend\":false,\"x\":[0.31595122814178467,0.31595122814178467],\"y\":[1.0,1.45],\"type\":\"scatter\",\"xaxis\":\"x\",\"yaxis\":\"y\"},{\"hoverinfo\":\"skip\",\"line\":{\"color\":\"black\",\"width\":1},\"mode\":\"lines\",\"showlegend\":false,\"x\":[0.3184348940849304,0.3184348940849304],\"y\":[1.0,0.6],\"type\":\"scatter\",\"xaxis\":\"x\",\"yaxis\":\"y\"},{\"hoverinfo\":\"skip\",\"line\":{\"color\":\"black\",\"width\":1},\"mode\":\"lines\",\"showlegend\":false,\"x\":[0.33020880818367004,0.33020880818367004],\"y\":[1.0,1.9],\"type\":\"scatter\",\"xaxis\":\"x\",\"yaxis\":\"y\"},{\"hoverinfo\":\"skip\",\"line\":{\"color\":\"black\",\"width\":1},\"mode\":\"lines\",\"showlegend\":false,\"x\":[0.332236647605896,0.332236647605896],\"y\":[1.0,0.15],\"type\":\"scatter\",\"xaxis\":\"x\",\"yaxis\":\"y\"},{\"hoverinfo\":\"skip\",\"line\":{\"color\":\"black\",\"width\":1},\"mode\":\"lines\",\"showlegend\":false,\"x\":[0.33542105555534363,0.33542105555534363],\"y\":[1.0,1.6],\"type\":\"scatter\",\"xaxis\":\"x\",\"yaxis\":\"y\"},{\"hoverinfo\":\"skip\",\"line\":{\"color\":\"black\",\"width\":1},\"mode\":\"lines\",\"showlegend\":false,\"x\":[0.3425111472606659,0.3425111472606659],\"y\":[1.0,0.45],\"type\":\"scatter\",\"xaxis\":\"x\",\"yaxis\":\"y\"},{\"hoverinfo\":\"skip\",\"line\":{\"color\":\"black\",\"width\":1},\"mode\":\"lines\",\"showlegend\":false,\"x\":[0.3729947805404663,0.3729947805404663],\"y\":[1.0,1.3],\"type\":\"scatter\",\"xaxis\":\"x\",\"yaxis\":\"y\"},{\"hoverinfo\":\"skip\",\"line\":{\"color\":\"black\",\"width\":1},\"mode\":\"lines\",\"showlegend\":false,\"x\":[0.43410608172416687,0.43410608172416687],\"y\":[1.0,0.75],\"type\":\"scatter\",\"xaxis\":\"x\",\"yaxis\":\"y\"},{\"hoverinfo\":\"skip\",\"line\":{\"color\":\"black\",\"width\":1},\"mode\":\"lines\",\"showlegend\":false,\"x\":[0.4575750529766083,0.4575750529766083],\"y\":[1.0,1.75],\"type\":\"scatter\",\"xaxis\":\"x\",\"yaxis\":\"y\"},{\"hoverinfo\":\"skip\",\"line\":{\"color\":\"black\",\"width\":1},\"mode\":\"lines\",\"showlegend\":false,\"x\":[0.46010926365852356,0.46010926365852356],\"y\":[1.0,0.3],\"type\":\"scatter\",\"xaxis\":\"x\",\"yaxis\":\"y\"},{\"hoverinfo\":\"skip\",\"marker\":{\"color\":\"limegreen\"},\"opacity\":0.7,\"showlegend\":false,\"width\":0.024241089820861816,\"x\":[-0.4337812662124634,-0.4034798741340637,-0.37317848205566406,-0.3428771495819092,-0.3125757575035095,-0.28227436542510986,-0.2519730031490326,-0.22167164087295532,-0.19137024879455566,-0.1610688865184784,-0.13076752424240112,-0.10046613961458206,-0.0701647698879242,-0.03986339271068573,-0.009562021121382713,0.020739352330565453,0.05104072391986847,0.08134210109710693,0.1116434708237648,0.14194485545158386,0.17224621772766113,0.2025475800037384,0.23284897208213806,0.26315033435821533,0.293451726436615,0.32375308871269226,0.35405445098876953,0.3843558430671692,0.41465720534324646,0.44495856761932373],\"y\":[0.09473684210526316,0.14210526315789473,0.04736842105263158,0.23684210526315788,0.23684210526315788,0.33157894736842103,0.7578947368421053,0.6157894736842106,0.37894736842105264,0.5210526315789474,0.6631578947368421,0.8052631578947369,0.7105263157894737,0.4263157894736842,0.6631578947368421,0.6631578947368421,0.9,0.6157894736842106,0.4263157894736842,0.47368421052631576,0.28421052631578947,0.14210526315789473,0.18947368421052632,0.28421052631578947,0.23684210526315788,0.28421052631578947,0.04736842105263158,0.04736842105263158,0.0,0.14210526315789473],\"type\":\"bar\",\"xaxis\":\"x\",\"yaxis\":\"y\"},{\"hovertemplate\":\"\\u003cb\\u003e%{text}\\u003c\\u002fb\\u003e\\u003cbr\\u003ePC Projection: %{x:.3f}\\u003cextra\\u003e\\u003c\\u002fextra\\u003e\",\"marker\":{\"color\":\"limegreen\",\"line\":{\"color\":\"black\",\"width\":1},\"opacity\":1.0,\"size\":8,\"symbol\":\"diamond\"},\"mode\":\"markers\",\"showlegend\":false,\"text\":[\"Zealous\",\"Wry\",\"Witty\",\"Whimsical\",\"Visceral\",\"Vindictive\",\"Utilitarian\",\"Urgent\",\"Universalist\",\"Understated\",\"Transparent\",\"Theoretical\",\"Theatrical\",\"Temperamental\",\"Tactful\",\"Systems Thinker\",\"Sycophantic\",\"Supportive\",\"Subversive\",\"Submissive\",\"Structuralist\",\"Stream Of Consciousness\",\"Strategic\",\"Stoic\",\"Spontaneous\",\"Spiritual\",\"Speculative\",\"Specialized\",\"Solemn\",\"Socratic\",\"Skeptical\",\"Serious\",\"Serene\",\"Secular\",\"Savage\",\"Sassy\",\"Sardonic\",\"Sarcastic\",\"Romantic\",\"Rhetorical\",\"Reverent\",\"Resilient\",\"Reserved\",\"Relativist\",\"Reductionist\",\"Reactive\",\"Rationalist\",\"Qualitative\",\"Progressive\",\"Problem Solving\",\"Proactive\",\"Principled\",\"Prescriptive\",\"Practical\",\"Poetic\",\"Pluralist\",\"Playful\",\"Philosophical\",\"Petty\",\"Pessimistic\",\"Perfectionist\",\"Pensive\",\"Patient\",\"Passive Aggressive\",\"Passionate\",\"Paranoid\",\"Paradoxical\",\"Pacifist\",\"Optimistic\",\"Open Ended\",\"Obsessive\",\"Nurturing\",\"Nostalgic\",\"Nonchalant\",\"Nihilistic\",\"Neurotic\",\"Narrative\",\"Naive\",\"Mystical\",\"Moderate\",\"Mischievous\",\"Misanthropic\",\"Militant\",\"Meticulous\",\"Methodical\",\"Metaphorical\",\"Mercurial\",\"Melodramatic\",\"Melancholic\",\"Meditative\",\"Materialist\",\"Manipulative\",\"Manic\",\"Literal\",\"Judgmental\",\"Irreverent\",\"Ironic\",\"Intuitive\",\"Introverted\",\"Introspective\",\"Interdisciplinary\",\"Inspirational\",\"Inquisitive\",\"Individualistic\",\"Inclusive\",\"Impulsive\",\"Improvisational\",\"Impatient\",\"Idealistic\",\"Humble\",\"Humanistic\",\"Hostile\",\"Holistic\",\"Historical\",\"Hedonistic\",\"Grounded\",\"Gregarious\",\"Grandiose\",\"Generous\",\"Generalist\",\"Futuristic\",\"Fundamentalist\",\"Formalist\",\"Formal\",\"Forgiving\",\"Flirty\",\"Flippant\",\"Flexible\",\"Fatalistic\",\"Factual\",\"Extroverted\",\"Exploratory\",\"Experiential\",\"Evil\",\"Ethereal\",\"Essentialist\",\"Esoteric\",\"Erudite\",\"Epicurean\",\"Environmental\",\"Entertaining\",\"Enigmatic\",\"Empathetic\",\"Emotional\",\"Eloquent\",\"Elitist\",\"Egalitarian\",\"Effusive\",\"Efficient\",\"Educational\",\"Edgy\",\"Eclectic\",\"Earnest\",\"Dramatic\",\"Dominant\",\"Dogmatic\",\"Divergent\",\"Dispassionate\",\"Disorganized\",\"Diplomatic\",\"Deterministic\",\"Detached\",\"Descriptive\",\"Deontological\",\"Deferential\",\"Deconstructionist\",\"Decisive\",\"Cynical\",\"Curious\",\"Cryptic\",\"Cruel\",\"Critical\",\"Creative\",\"Cosmopolitan\",\"Convergent\",\"Contemporary\",\"Constructivist\",\"Conscientious\",\"Confrontational\",\"Confident\",\"Condescending\",\"Concise\",\"Conciliatory\",\"Conceptual\",\"Competitive\",\"Collectivistic\",\"Collaborative\",\"Closure Seeking\",\"Circumspect\",\"Chill\",\"Charismatic\",\"Chaotic\",\"Challenging\",\"Cautious\",\"Casual\",\"Calm\",\"Callous\",\"Calculating\",\"Bombastic\",\"Blunt\",\"Bitter\",\"Big Picture\",\"Benevolent\",\"Avoidant\",\"Assertive\",\"Ascetic\",\"Artistic\",\"Arrogant\",\"Anthropocentric\",\"Animated\",\"Analytical\",\"Altruistic\",\"Agreeable\",\"Adventurous\",\"Adaptable\",\"Acerbic\",\"Accommodating\",\"Accessible\",\"Abstract\",\"Absolutist\"],\"x\":[-0.043386880308389664,-0.2247280329465866,-0.23496679961681366,-0.14370569586753845,0.11524336785078049,-0.009387240745127201,-0.1705879271030426,-0.017910825088620186,0.2219400554895401,0.014080044813454151,-0.08393776416778564,0.0691242516040802,-0.25824055075645447,-0.2897745668888092,-0.20477178692817688,0.05862890183925629,-0.13842518627643585,-0.042966533452272415,0.22915737330913544,-0.05425909534096718,-0.08644608408212662,-0.01995142735540867,-0.06987209618091583,0.14658571779727936,0.09323327988386154,0.16403305530548096,0.12692208588123322,-0.27000191807746887,0.07984588295221329,0.03195197880268097,0.048464640974998474,0.06526253372430801,0.2312960922718048,0.05179814249277115,0.16499407589435577,0.14809198677539825,-0.2046092003583908,-0.16542121767997742,0.022093884646892548,-0.10627352446317673,-0.24646833539009094,0.18795719742774963,0.07385291159152985,0.17053866386413574,-0.07425082474946976,0.07848306000232697,-0.15569227933883667,0.36237186193466187,0.3785639703273773,-0.08426623046398163,-0.09347330778837204,0.14897947013378143,-0.0632440373301506,0.008288604207336903,-0.1611923724412918,0.09611634910106659,-0.19012147188186646,0.18165168166160583,-0.21368229389190674,-0.05585898831486702,-0.2426992654800415,-0.09578152000904083,0.0547964833676815,-0.20157788693904877,-0.07294609397649765,0.0579288974404335,0.18360047042369843,0.23229137063026428,0.10249307006597519,0.015900813043117523,-0.2439376562833786,-0.06258121132850647,-0.21617324650287628,0.04073464870452881,0.07197145372629166,-0.26151782274246216,-0.14541378617286682,-0.16317126154899597,0.19818638265132904,-0.1162930577993393,-0.20473702251911163,0.08120600879192352,0.19027768075466156,-0.19032341241836548,-0.03043949417769909,-0.11393553018569946,-0.21140232682228088,-0.24317798018455505,-0.07764475792646408,0.0868697315454483,-0.17596115171909332,-0.1119299978017807,-0.2791532576084137,-0.00939857866615057,0.06878665089607239,-0.0862114205956459,-0.19402608275413513,0.26525720953941345,0.2524622976779938,-0.13391271233558655,-0.0598774217069149,0.09879712760448456,-0.20176886022090912,0.38134488463401794,0.03538407012820244,0.129452183842659,0.20648877322673798,0.13670502603054047,0.2369038164615631,-0.13220885396003723,0.0771319791674614,0.019342374056577682,-0.024900462478399277,-0.28609132766723633,0.02922186255455017,-0.1957910656929016,-0.22882333397865295,-0.07913045585155487,-0.16828636825084686,0.1552034467458725,0.14830240607261658,0.019683457911014557,-0.18034783005714417,-0.032417621463537216,0.011824270710349083,-0.1410338282585144,-0.13090261816978455,0.05079704523086548,0.09978996217250824,-0.013303728774189949,-0.10992848128080368,-0.2195357382297516,-0.2186429798603058,-0.07262368500232697,-0.04016938805580139,0.07500730454921722,-0.10917004197835922,-0.23896043002605438,-0.2552223205566406,0.05103626847267151,-0.17112042009830475,0.026148688048124313,0.01244025956839323,0.005522602237761021,-0.18315905332565308,-0.09955494105815887,0.19489802420139313,-0.26183098554611206,0.3286606967449188,-0.15923093259334564,-0.010485898703336716,-0.020712418481707573,0.1880876123905182,-0.16770239174365997,0.11186268925666809,0.06066465377807617,-0.21666422486305237,0.06064591929316521,-0.19502350687980652,-0.1161314994096756,0.06329874694347382,0.02466060407459736,-0.026634525507688522,0.14440825581550598,-0.2748188376426697,0.1629340946674347,0.27169179916381836,0.04866670072078705,-0.11978121101856232,-0.017229218035936356,0.06752484291791916,0.35306426882743835,0.10976743698120117,0.06951060891151428,0.03442530706524849,0.06484835594892502,0.11478573828935623,0.06594687700271606,0.3220096230506897,0.2640511691570282,-0.3052264153957367,0.3383687436580658,-0.056715235114097595,0.3459501564502716,0.06659791618585587,-0.21436624228954315,-0.25850915908813477,0.19228595495224,-0.2433912754058838,0.1517421007156372,-0.006565833929926157,0.041309572756290436,0.14144037663936615,-0.25666895508766174,0.09229400753974915,0.1484735906124115,0.13831037282943726,-0.07879365235567093,-0.2549518942832947,0.3415568768978119,-0.009444852359592915,0.35806769132614136,-0.08365897834300995,-0.008410434238612652,0.2526107132434845,0.2769266664981842,-0.09033133834600449,-0.06385508924722672,0.12340656667947769,-0.13738490641117096,-0.28663501143455505,-0.075625941157341,-0.1058240756392479,0.3601296544075012,0.11550458520650864,-0.06817992776632309,-0.08158762753009796,0.08816403150558472,0.31960561871528625,0.16043338179588318],\"y\":[1,1,1,1,1,1,1,1,1,1,1,1,1,1,1,1,1,1,1,1,1,1,1,1,1,1,1,1,1,1,1,1,1,1,1,1,1,1,1,1,1,1,1,1,1,1,1,1,1,1,1,1,1,1,1,1,1,1,1,1,1,1,1,1,1,1,1,1,1,1,1,1,1,1,1,1,1,1,1,1,1,1,1,1,1,1,1,1,1,1,1,1,1,1,1,1,1,1,1,1,1,1,1,1,1,1,1,1,1,1,1,1,1,1,1,1,1,1,1,1,1,1,1,1,1,1,1,1,1,1,1,1,1,1,1,1,1,1,1,1,1,1,1,1,1,1,1,1,1,1,1,1,1,1,1,1,1,1,1,1,1,1,1,1,1,1,1,1,1,1,1,1,1,1,1,1,1,1,1,1,1,1,1,1,1,1,1,1,1,1,1,1,1,1,1,1,1,1,1,1,1,1,1,1,1,1,1,1,1,1,1,1,1,1,1,1,1,1,1,1],\"type\":\"scatter\",\"xaxis\":\"x2\",\"yaxis\":\"y2\"},{\"hovertemplate\":\"\\u003cb\\u003e%{text}\\u003c\\u002fb\\u003e\\u003cbr\\u003ePC Projection: %{x:.3f}\\u003cextra\\u003e\\u003c\\u002fextra\\u003e\",\"marker\":{\"color\":\"limegreen\",\"line\":{\"color\":\"black\",\"width\":1},\"opacity\":1.0,\"size\":8,\"symbol\":\"diamond\"},\"mode\":\"markers\",\"showlegend\":false,\"text\":[\"Verbose\",\"Traditional\",\"Technical\",\"Ritualistic\",\"Risk Taking\",\"Regulatory\",\"Rebellious\",\"Radical\",\"Quantitative\",\"Provocative\",\"Pedantic\",\"Libertarian\",\"Innovative\",\"Independent\",\"Iconoclastic\",\"Goofy\",\"Existentialist\",\"Data Driven\",\"Contrarian\",\"Anxious\"],\"x\":[-0.34128043055534363,-0.32181933522224426,-0.3455577492713928,-0.3723587393760681,0.46777522563934326,-0.3121377229690552,0.5859310030937195,0.4646764397621155,-0.3629702031612396,0.43207961320877075,-0.4509148895740509,0.38605180382728577,0.4017590880393982,0.4643948972225189,0.41995200514793396,-0.30940940976142883,0.4965686500072479,-0.33931925892829895,0.4218510389328003,-0.3161419630050659],\"y\":[1,1,1,1,1,1,1,1,1,1,1,1,1,1,1,1,1,1,1,1],\"type\":\"scatter\",\"xaxis\":\"x2\",\"yaxis\":\"y2\"},{\"hoverinfo\":\"skip\",\"line\":{\"color\":\"black\",\"width\":1},\"mode\":\"lines\",\"showlegend\":false,\"x\":[-0.4509148895740509,-0.4509148895740509],\"y\":[1.0,1.45],\"type\":\"scatter\",\"xaxis\":\"x2\",\"yaxis\":\"y2\"},{\"hoverinfo\":\"skip\",\"line\":{\"color\":\"black\",\"width\":1},\"mode\":\"lines\",\"showlegend\":false,\"x\":[-0.3723587393760681,-0.3723587393760681],\"y\":[1.0,0.6],\"type\":\"scatter\",\"xaxis\":\"x2\",\"yaxis\":\"y2\"},{\"hoverinfo\":\"skip\",\"line\":{\"color\":\"black\",\"width\":1},\"mode\":\"lines\",\"showlegend\":false,\"x\":[-0.3629702031612396,-0.3629702031612396],\"y\":[1.0,1.9],\"type\":\"scatter\",\"xaxis\":\"x2\",\"yaxis\":\"y2\"},{\"hoverinfo\":\"skip\",\"line\":{\"color\":\"black\",\"width\":1},\"mode\":\"lines\",\"showlegend\":false,\"x\":[-0.3455577492713928,-0.3455577492713928],\"y\":[1.0,0.15],\"type\":\"scatter\",\"xaxis\":\"x2\",\"yaxis\":\"y2\"},{\"hoverinfo\":\"skip\",\"line\":{\"color\":\"black\",\"width\":1},\"mode\":\"lines\",\"showlegend\":false,\"x\":[-0.34128043055534363,-0.34128043055534363],\"y\":[1.0,1.6],\"type\":\"scatter\",\"xaxis\":\"x2\",\"yaxis\":\"y2\"},{\"hoverinfo\":\"skip\",\"line\":{\"color\":\"black\",\"width\":1},\"mode\":\"lines\",\"showlegend\":false,\"x\":[-0.33931925892829895,-0.33931925892829895],\"y\":[1.0,0.45],\"type\":\"scatter\",\"xaxis\":\"x2\",\"yaxis\":\"y2\"},{\"hoverinfo\":\"skip\",\"line\":{\"color\":\"black\",\"width\":1},\"mode\":\"lines\",\"showlegend\":false,\"x\":[-0.32181933522224426,-0.32181933522224426],\"y\":[1.0,1.3],\"type\":\"scatter\",\"xaxis\":\"x2\",\"yaxis\":\"y2\"},{\"hoverinfo\":\"skip\",\"line\":{\"color\":\"black\",\"width\":1},\"mode\":\"lines\",\"showlegend\":false,\"x\":[-0.3161419630050659,-0.3161419630050659],\"y\":[1.0,0.75],\"type\":\"scatter\",\"xaxis\":\"x2\",\"yaxis\":\"y2\"},{\"hoverinfo\":\"skip\",\"line\":{\"color\":\"black\",\"width\":1},\"mode\":\"lines\",\"showlegend\":false,\"x\":[-0.3121377229690552,-0.3121377229690552],\"y\":[1.0,1.75],\"type\":\"scatter\",\"xaxis\":\"x2\",\"yaxis\":\"y2\"},{\"hoverinfo\":\"skip\",\"line\":{\"color\":\"black\",\"width\":1},\"mode\":\"lines\",\"showlegend\":false,\"x\":[-0.30940940976142883,-0.30940940976142883],\"y\":[1.0,0.3],\"type\":\"scatter\",\"xaxis\":\"x2\",\"yaxis\":\"y2\"},{\"hoverinfo\":\"skip\",\"line\":{\"color\":\"black\",\"width\":1},\"mode\":\"lines\",\"showlegend\":false,\"x\":[0.38605180382728577,0.38605180382728577],\"y\":[1.0,1.45],\"type\":\"scatter\",\"xaxis\":\"x2\",\"yaxis\":\"y2\"},{\"hoverinfo\":\"skip\",\"line\":{\"color\":\"black\",\"width\":1},\"mode\":\"lines\",\"showlegend\":false,\"x\":[0.4017590880393982,0.4017590880393982],\"y\":[1.0,0.6],\"type\":\"scatter\",\"xaxis\":\"x2\",\"yaxis\":\"y2\"},{\"hoverinfo\":\"skip\",\"line\":{\"color\":\"black\",\"width\":1},\"mode\":\"lines\",\"showlegend\":false,\"x\":[0.41995200514793396,0.41995200514793396],\"y\":[1.0,1.9],\"type\":\"scatter\",\"xaxis\":\"x2\",\"yaxis\":\"y2\"},{\"hoverinfo\":\"skip\",\"line\":{\"color\":\"black\",\"width\":1},\"mode\":\"lines\",\"showlegend\":false,\"x\":[0.4218510389328003,0.4218510389328003],\"y\":[1.0,0.15],\"type\":\"scatter\",\"xaxis\":\"x2\",\"yaxis\":\"y2\"},{\"hoverinfo\":\"skip\",\"line\":{\"color\":\"black\",\"width\":1},\"mode\":\"lines\",\"showlegend\":false,\"x\":[0.43207961320877075,0.43207961320877075],\"y\":[1.0,1.6],\"type\":\"scatter\",\"xaxis\":\"x2\",\"yaxis\":\"y2\"},{\"hoverinfo\":\"skip\",\"line\":{\"color\":\"black\",\"width\":1},\"mode\":\"lines\",\"showlegend\":false,\"x\":[0.4643948972225189,0.4643948972225189],\"y\":[1.0,0.45],\"type\":\"scatter\",\"xaxis\":\"x2\",\"yaxis\":\"y2\"},{\"hoverinfo\":\"skip\",\"line\":{\"color\":\"black\",\"width\":1},\"mode\":\"lines\",\"showlegend\":false,\"x\":[0.4646764397621155,0.4646764397621155],\"y\":[1.0,1.3],\"type\":\"scatter\",\"xaxis\":\"x2\",\"yaxis\":\"y2\"},{\"hoverinfo\":\"skip\",\"line\":{\"color\":\"black\",\"width\":1},\"mode\":\"lines\",\"showlegend\":false,\"x\":[0.46777522563934326,0.46777522563934326],\"y\":[1.0,0.75],\"type\":\"scatter\",\"xaxis\":\"x2\",\"yaxis\":\"y2\"},{\"hoverinfo\":\"skip\",\"line\":{\"color\":\"black\",\"width\":1},\"mode\":\"lines\",\"showlegend\":false,\"x\":[0.4965686500072479,0.4965686500072479],\"y\":[1.0,1.75],\"type\":\"scatter\",\"xaxis\":\"x2\",\"yaxis\":\"y2\"},{\"hoverinfo\":\"skip\",\"line\":{\"color\":\"black\",\"width\":1},\"mode\":\"lines\",\"showlegend\":false,\"x\":[0.5859310030937195,0.5859310030937195],\"y\":[1.0,0.3],\"type\":\"scatter\",\"xaxis\":\"x2\",\"yaxis\":\"y2\"},{\"hoverinfo\":\"skip\",\"marker\":{\"color\":\"limegreen\"},\"opacity\":0.7,\"showlegend\":false,\"width\":0.027649235725402833,\"x\":[-0.43363410234451294,-0.3990725874900818,-0.36451107263565063,-0.3299495577812195,-0.29538798332214355,-0.2608264684677124,-0.22626495361328125,-0.1917034089565277,-0.15714189410209656,-0.12258035689592361,-0.08801882714033127,-0.05345729738473892,-0.018895767629146576,0.01566576212644577,0.050227291882038116,0.08478882163763046,0.11935035139322281,0.15391188859939575,0.1884734034538269,0.22303494811058044,0.257596492767334,0.29215800762176514,0.3267195224761963,0.36128103733062744,0.39584261178970337,0.4304041266441345,0.4649656414985657,0.4995271563529968,0.5340887308120728,0.5686502456665039],\"y\":[0.04736842105263158,0.0,0.09473684210526316,0.23684210526315788,0.33157894736842103,0.5210526315789474,0.6631578947368421,0.6157894736842106,0.5684210526315789,0.6631578947368421,0.8052631578947369,0.5684210526315789,0.7105263157894737,0.6157894736842106,0.9,0.8526315789473684,0.4263157894736842,0.7578947368421053,0.37894736842105264,0.28421052631578947,0.23684210526315788,0.04736842105263158,0.23684210526315788,0.23684210526315788,0.18947368421052632,0.14210526315789473,0.14210526315789473,0.04736842105263158,0.0,0.04736842105263158],\"type\":\"bar\",\"xaxis\":\"x2\",\"yaxis\":\"y2\"}],                        {\"template\":{\"data\":{\"histogram2dcontour\":[{\"type\":\"histogram2dcontour\",\"colorbar\":{\"outlinewidth\":0,\"ticks\":\"\"},\"colorscale\":[[0.0,\"#0d0887\"],[0.1111111111111111,\"#46039f\"],[0.2222222222222222,\"#7201a8\"],[0.3333333333333333,\"#9c179e\"],[0.4444444444444444,\"#bd3786\"],[0.5555555555555556,\"#d8576b\"],[0.6666666666666666,\"#ed7953\"],[0.7777777777777778,\"#fb9f3a\"],[0.8888888888888888,\"#fdca26\"],[1.0,\"#f0f921\"]]}],\"choropleth\":[{\"type\":\"choropleth\",\"colorbar\":{\"outlinewidth\":0,\"ticks\":\"\"}}],\"histogram2d\":[{\"type\":\"histogram2d\",\"colorbar\":{\"outlinewidth\":0,\"ticks\":\"\"},\"colorscale\":[[0.0,\"#0d0887\"],[0.1111111111111111,\"#46039f\"],[0.2222222222222222,\"#7201a8\"],[0.3333333333333333,\"#9c179e\"],[0.4444444444444444,\"#bd3786\"],[0.5555555555555556,\"#d8576b\"],[0.6666666666666666,\"#ed7953\"],[0.7777777777777778,\"#fb9f3a\"],[0.8888888888888888,\"#fdca26\"],[1.0,\"#f0f921\"]]}],\"heatmap\":[{\"type\":\"heatmap\",\"colorbar\":{\"outlinewidth\":0,\"ticks\":\"\"},\"colorscale\":[[0.0,\"#0d0887\"],[0.1111111111111111,\"#46039f\"],[0.2222222222222222,\"#7201a8\"],[0.3333333333333333,\"#9c179e\"],[0.4444444444444444,\"#bd3786\"],[0.5555555555555556,\"#d8576b\"],[0.6666666666666666,\"#ed7953\"],[0.7777777777777778,\"#fb9f3a\"],[0.8888888888888888,\"#fdca26\"],[1.0,\"#f0f921\"]]}],\"heatmapgl\":[{\"type\":\"heatmapgl\",\"colorbar\":{\"outlinewidth\":0,\"ticks\":\"\"},\"colorscale\":[[0.0,\"#0d0887\"],[0.1111111111111111,\"#46039f\"],[0.2222222222222222,\"#7201a8\"],[0.3333333333333333,\"#9c179e\"],[0.4444444444444444,\"#bd3786\"],[0.5555555555555556,\"#d8576b\"],[0.6666666666666666,\"#ed7953\"],[0.7777777777777778,\"#fb9f3a\"],[0.8888888888888888,\"#fdca26\"],[1.0,\"#f0f921\"]]}],\"contourcarpet\":[{\"type\":\"contourcarpet\",\"colorbar\":{\"outlinewidth\":0,\"ticks\":\"\"}}],\"contour\":[{\"type\":\"contour\",\"colorbar\":{\"outlinewidth\":0,\"ticks\":\"\"},\"colorscale\":[[0.0,\"#0d0887\"],[0.1111111111111111,\"#46039f\"],[0.2222222222222222,\"#7201a8\"],[0.3333333333333333,\"#9c179e\"],[0.4444444444444444,\"#bd3786\"],[0.5555555555555556,\"#d8576b\"],[0.6666666666666666,\"#ed7953\"],[0.7777777777777778,\"#fb9f3a\"],[0.8888888888888888,\"#fdca26\"],[1.0,\"#f0f921\"]]}],\"surface\":[{\"type\":\"surface\",\"colorbar\":{\"outlinewidth\":0,\"ticks\":\"\"},\"colorscale\":[[0.0,\"#0d0887\"],[0.1111111111111111,\"#46039f\"],[0.2222222222222222,\"#7201a8\"],[0.3333333333333333,\"#9c179e\"],[0.4444444444444444,\"#bd3786\"],[0.5555555555555556,\"#d8576b\"],[0.6666666666666666,\"#ed7953\"],[0.7777777777777778,\"#fb9f3a\"],[0.8888888888888888,\"#fdca26\"],[1.0,\"#f0f921\"]]}],\"mesh3d\":[{\"type\":\"mesh3d\",\"colorbar\":{\"outlinewidth\":0,\"ticks\":\"\"}}],\"scatter\":[{\"fillpattern\":{\"fillmode\":\"overlay\",\"size\":10,\"solidity\":0.2},\"type\":\"scatter\"}],\"parcoords\":[{\"type\":\"parcoords\",\"line\":{\"colorbar\":{\"outlinewidth\":0,\"ticks\":\"\"}}}],\"scatterpolargl\":[{\"type\":\"scatterpolargl\",\"marker\":{\"colorbar\":{\"outlinewidth\":0,\"ticks\":\"\"}}}],\"bar\":[{\"error_x\":{\"color\":\"#2a3f5f\"},\"error_y\":{\"color\":\"#2a3f5f\"},\"marker\":{\"line\":{\"color\":\"#E5ECF6\",\"width\":0.5},\"pattern\":{\"fillmode\":\"overlay\",\"size\":10,\"solidity\":0.2}},\"type\":\"bar\"}],\"scattergeo\":[{\"type\":\"scattergeo\",\"marker\":{\"colorbar\":{\"outlinewidth\":0,\"ticks\":\"\"}}}],\"scatterpolar\":[{\"type\":\"scatterpolar\",\"marker\":{\"colorbar\":{\"outlinewidth\":0,\"ticks\":\"\"}}}],\"histogram\":[{\"marker\":{\"pattern\":{\"fillmode\":\"overlay\",\"size\":10,\"solidity\":0.2}},\"type\":\"histogram\"}],\"scattergl\":[{\"type\":\"scattergl\",\"marker\":{\"colorbar\":{\"outlinewidth\":0,\"ticks\":\"\"}}}],\"scatter3d\":[{\"type\":\"scatter3d\",\"line\":{\"colorbar\":{\"outlinewidth\":0,\"ticks\":\"\"}},\"marker\":{\"colorbar\":{\"outlinewidth\":0,\"ticks\":\"\"}}}],\"scattermapbox\":[{\"type\":\"scattermapbox\",\"marker\":{\"colorbar\":{\"outlinewidth\":0,\"ticks\":\"\"}}}],\"scatterternary\":[{\"type\":\"scatterternary\",\"marker\":{\"colorbar\":{\"outlinewidth\":0,\"ticks\":\"\"}}}],\"scattercarpet\":[{\"type\":\"scattercarpet\",\"marker\":{\"colorbar\":{\"outlinewidth\":0,\"ticks\":\"\"}}}],\"carpet\":[{\"aaxis\":{\"endlinecolor\":\"#2a3f5f\",\"gridcolor\":\"white\",\"linecolor\":\"white\",\"minorgridcolor\":\"white\",\"startlinecolor\":\"#2a3f5f\"},\"baxis\":{\"endlinecolor\":\"#2a3f5f\",\"gridcolor\":\"white\",\"linecolor\":\"white\",\"minorgridcolor\":\"white\",\"startlinecolor\":\"#2a3f5f\"},\"type\":\"carpet\"}],\"table\":[{\"cells\":{\"fill\":{\"color\":\"#EBF0F8\"},\"line\":{\"color\":\"white\"}},\"header\":{\"fill\":{\"color\":\"#C8D4E3\"},\"line\":{\"color\":\"white\"}},\"type\":\"table\"}],\"barpolar\":[{\"marker\":{\"line\":{\"color\":\"#E5ECF6\",\"width\":0.5},\"pattern\":{\"fillmode\":\"overlay\",\"size\":10,\"solidity\":0.2}},\"type\":\"barpolar\"}],\"pie\":[{\"automargin\":true,\"type\":\"pie\"}]},\"layout\":{\"autotypenumbers\":\"strict\",\"colorway\":[\"#636efa\",\"#EF553B\",\"#00cc96\",\"#ab63fa\",\"#FFA15A\",\"#19d3f3\",\"#FF6692\",\"#B6E880\",\"#FF97FF\",\"#FECB52\"],\"font\":{\"color\":\"#2a3f5f\"},\"hovermode\":\"closest\",\"hoverlabel\":{\"align\":\"left\"},\"paper_bgcolor\":\"white\",\"plot_bgcolor\":\"#E5ECF6\",\"polar\":{\"bgcolor\":\"#E5ECF6\",\"angularaxis\":{\"gridcolor\":\"white\",\"linecolor\":\"white\",\"ticks\":\"\"},\"radialaxis\":{\"gridcolor\":\"white\",\"linecolor\":\"white\",\"ticks\":\"\"}},\"ternary\":{\"bgcolor\":\"#E5ECF6\",\"aaxis\":{\"gridcolor\":\"white\",\"linecolor\":\"white\",\"ticks\":\"\"},\"baxis\":{\"gridcolor\":\"white\",\"linecolor\":\"white\",\"ticks\":\"\"},\"caxis\":{\"gridcolor\":\"white\",\"linecolor\":\"white\",\"ticks\":\"\"}},\"coloraxis\":{\"colorbar\":{\"outlinewidth\":0,\"ticks\":\"\"}},\"colorscale\":{\"sequential\":[[0.0,\"#0d0887\"],[0.1111111111111111,\"#46039f\"],[0.2222222222222222,\"#7201a8\"],[0.3333333333333333,\"#9c179e\"],[0.4444444444444444,\"#bd3786\"],[0.5555555555555556,\"#d8576b\"],[0.6666666666666666,\"#ed7953\"],[0.7777777777777778,\"#fb9f3a\"],[0.8888888888888888,\"#fdca26\"],[1.0,\"#f0f921\"]],\"sequentialminus\":[[0.0,\"#0d0887\"],[0.1111111111111111,\"#46039f\"],[0.2222222222222222,\"#7201a8\"],[0.3333333333333333,\"#9c179e\"],[0.4444444444444444,\"#bd3786\"],[0.5555555555555556,\"#d8576b\"],[0.6666666666666666,\"#ed7953\"],[0.7777777777777778,\"#fb9f3a\"],[0.8888888888888888,\"#fdca26\"],[1.0,\"#f0f921\"]],\"diverging\":[[0,\"#8e0152\"],[0.1,\"#c51b7d\"],[0.2,\"#de77ae\"],[0.3,\"#f1b6da\"],[0.4,\"#fde0ef\"],[0.5,\"#f7f7f7\"],[0.6,\"#e6f5d0\"],[0.7,\"#b8e186\"],[0.8,\"#7fbc41\"],[0.9,\"#4d9221\"],[1,\"#276419\"]]},\"xaxis\":{\"gridcolor\":\"white\",\"linecolor\":\"white\",\"ticks\":\"\",\"title\":{\"standoff\":15},\"zerolinecolor\":\"white\",\"automargin\":true,\"zerolinewidth\":2},\"yaxis\":{\"gridcolor\":\"white\",\"linecolor\":\"white\",\"ticks\":\"\",\"title\":{\"standoff\":15},\"zerolinecolor\":\"white\",\"automargin\":true,\"zerolinewidth\":2},\"scene\":{\"xaxis\":{\"backgroundcolor\":\"#E5ECF6\",\"gridcolor\":\"white\",\"linecolor\":\"white\",\"showbackground\":true,\"ticks\":\"\",\"zerolinecolor\":\"white\",\"gridwidth\":2},\"yaxis\":{\"backgroundcolor\":\"#E5ECF6\",\"gridcolor\":\"white\",\"linecolor\":\"white\",\"showbackground\":true,\"ticks\":\"\",\"zerolinecolor\":\"white\",\"gridwidth\":2},\"zaxis\":{\"backgroundcolor\":\"#E5ECF6\",\"gridcolor\":\"white\",\"linecolor\":\"white\",\"showbackground\":true,\"ticks\":\"\",\"zerolinecolor\":\"white\",\"gridwidth\":2}},\"shapedefaults\":{\"line\":{\"color\":\"#2a3f5f\"}},\"annotationdefaults\":{\"arrowcolor\":\"#2a3f5f\",\"arrowhead\":0,\"arrowwidth\":1},\"geo\":{\"bgcolor\":\"white\",\"landcolor\":\"#E5ECF6\",\"subunitcolor\":\"white\",\"showland\":true,\"showlakes\":true,\"lakecolor\":\"white\"},\"title\":{\"x\":0.05},\"mapbox\":{\"style\":\"light\"}}},\"xaxis\":{\"anchor\":\"y\",\"domain\":[0.0,1.0],\"range\":[-1.1,1.1]},\"yaxis\":{\"anchor\":\"x\",\"domain\":[0.55,1.0],\"showticklabels\":false,\"range\":[0,2.5]},\"xaxis2\":{\"anchor\":\"y2\",\"domain\":[0.0,1.0],\"range\":[-1.1,1.1]},\"yaxis2\":{\"anchor\":\"x2\",\"domain\":[0.0,0.45],\"showticklabels\":false,\"range\":[0,2.5]},\"annotations\":[{\"font\":{\"size\":16},\"showarrow\":false,\"text\":\"PC6 Cosine Similarity\",\"x\":0.5,\"xanchor\":\"center\",\"xref\":\"paper\",\"y\":1.0,\"yanchor\":\"bottom\",\"yref\":\"paper\"},{\"font\":{\"size\":16},\"showarrow\":false,\"text\":\"PC6 Projection\",\"x\":0.5,\"xanchor\":\"center\",\"xref\":\"paper\",\"y\":0.45,\"yanchor\":\"bottom\",\"yref\":\"paper\"},{\"bgcolor\":\"rgba(255, 255, 255, 0.9)\",\"bordercolor\":\"black\",\"borderwidth\":1,\"font\":{\"color\":\"black\",\"size\":10},\"showarrow\":false,\"text\":\"Pedantic\",\"x\":-0.4489319324493408,\"xref\":\"x\",\"y\":1.45,\"yref\":\"y\"},{\"bgcolor\":\"rgba(255, 255, 255, 0.9)\",\"bordercolor\":\"black\",\"borderwidth\":1,\"font\":{\"color\":\"black\",\"size\":10},\"showarrow\":false,\"text\":\"Traditional\",\"x\":-0.4211275279521942,\"xref\":\"x\",\"y\":0.6,\"yref\":\"y\"},{\"bgcolor\":\"rgba(255, 255, 255, 0.9)\",\"bordercolor\":\"black\",\"borderwidth\":1,\"font\":{\"color\":\"black\",\"size\":10},\"showarrow\":false,\"text\":\"Quantitative\",\"x\":-0.4002653658390045,\"xref\":\"x\",\"y\":1.9,\"yref\":\"y\"},{\"bgcolor\":\"rgba(255, 255, 255, 0.9)\",\"bordercolor\":\"black\",\"borderwidth\":1,\"font\":{\"color\":\"black\",\"size\":10},\"showarrow\":false,\"text\":\"Data Driven\",\"x\":-0.3929038941860199,\"xref\":\"x\",\"y\":0.15,\"yref\":\"y\"},{\"bgcolor\":\"rgba(255, 255, 255, 0.9)\",\"bordercolor\":\"black\",\"borderwidth\":1,\"font\":{\"color\":\"black\",\"size\":10},\"showarrow\":false,\"text\":\"Regulatory\",\"x\":-0.3915475308895111,\"xref\":\"x\",\"y\":1.6,\"yref\":\"y\"},{\"bgcolor\":\"rgba(255, 255, 255, 0.9)\",\"bordercolor\":\"black\",\"borderwidth\":1,\"font\":{\"color\":\"black\",\"size\":10},\"showarrow\":false,\"text\":\"Ritualistic\",\"x\":-0.3860892057418823,\"xref\":\"x\",\"y\":0.45,\"yref\":\"y\"},{\"bgcolor\":\"rgba(255, 255, 255, 0.9)\",\"bordercolor\":\"black\",\"borderwidth\":1,\"font\":{\"color\":\"black\",\"size\":10},\"showarrow\":false,\"text\":\"Deferential\",\"x\":-0.3556612730026245,\"xref\":\"x\",\"y\":1.3,\"yref\":\"y\"},{\"bgcolor\":\"rgba(255, 255, 255, 0.9)\",\"bordercolor\":\"black\",\"borderwidth\":1,\"font\":{\"color\":\"black\",\"size\":10},\"showarrow\":false,\"text\":\"Technical\",\"x\":-0.35366612672805786,\"xref\":\"x\",\"y\":0.75,\"yref\":\"y\"},{\"bgcolor\":\"rgba(255, 255, 255, 0.9)\",\"bordercolor\":\"black\",\"borderwidth\":1,\"font\":{\"color\":\"black\",\"size\":10},\"showarrow\":false,\"text\":\"Verbose\",\"x\":-0.3461891710758209,\"xref\":\"x\",\"y\":1.75,\"yref\":\"y\"},{\"bgcolor\":\"rgba(255, 255, 255, 0.9)\",\"bordercolor\":\"black\",\"borderwidth\":1,\"font\":{\"color\":\"black\",\"size\":10},\"showarrow\":false,\"text\":\"Anxious\",\"x\":-0.3337908685207367,\"xref\":\"x\",\"y\":0.3,\"yref\":\"y\"},{\"bgcolor\":\"rgba(255, 255, 255, 0.9)\",\"bordercolor\":\"black\",\"borderwidth\":1,\"font\":{\"color\":\"black\",\"size\":10},\"showarrow\":false,\"text\":\"Qualitative\",\"x\":0.31595122814178467,\"xref\":\"x\",\"y\":1.45,\"yref\":\"y\"},{\"bgcolor\":\"rgba(255, 255, 255, 0.9)\",\"bordercolor\":\"black\",\"borderwidth\":1,\"font\":{\"color\":\"black\",\"size\":10},\"showarrow\":false,\"text\":\"Risk Taking\",\"x\":0.3184348940849304,\"xref\":\"x\",\"y\":0.6,\"yref\":\"y\"},{\"bgcolor\":\"rgba(255, 255, 255, 0.9)\",\"bordercolor\":\"black\",\"borderwidth\":1,\"font\":{\"color\":\"black\",\"size\":10},\"showarrow\":false,\"text\":\"Libertarian\",\"x\":0.33020880818367004,\"xref\":\"x\",\"y\":1.9,\"yref\":\"y\"},{\"bgcolor\":\"rgba(255, 255, 255, 0.9)\",\"bordercolor\":\"black\",\"borderwidth\":1,\"font\":{\"color\":\"black\",\"size\":10},\"showarrow\":false,\"text\":\"Efficient\",\"x\":0.332236647605896,\"xref\":\"x\",\"y\":0.15,\"yref\":\"y\"},{\"bgcolor\":\"rgba(255, 255, 255, 0.9)\",\"bordercolor\":\"black\",\"borderwidth\":1,\"font\":{\"color\":\"black\",\"size\":10},\"showarrow\":false,\"text\":\"Blunt\",\"x\":0.33542105555534363,\"xref\":\"x\",\"y\":1.6,\"yref\":\"y\"},{\"bgcolor\":\"rgba(255, 255, 255, 0.9)\",\"bordercolor\":\"black\",\"borderwidth\":1,\"font\":{\"color\":\"black\",\"size\":10},\"showarrow\":false,\"text\":\"Concise\",\"x\":0.3425111472606659,\"xref\":\"x\",\"y\":0.45,\"yref\":\"y\"},{\"bgcolor\":\"rgba(255, 255, 255, 0.9)\",\"bordercolor\":\"black\",\"borderwidth\":1,\"font\":{\"color\":\"black\",\"size\":10},\"showarrow\":false,\"text\":\"Radical\",\"x\":0.3729947805404663,\"xref\":\"x\",\"y\":1.3,\"yref\":\"y\"},{\"bgcolor\":\"rgba(255, 255, 255, 0.9)\",\"bordercolor\":\"black\",\"borderwidth\":1,\"font\":{\"color\":\"black\",\"size\":10},\"showarrow\":false,\"text\":\"Independent\",\"x\":0.43410608172416687,\"xref\":\"x\",\"y\":0.75,\"yref\":\"y\"},{\"bgcolor\":\"rgba(255, 255, 255, 0.9)\",\"bordercolor\":\"black\",\"borderwidth\":1,\"font\":{\"color\":\"black\",\"size\":10},\"showarrow\":false,\"text\":\"Rebellious\",\"x\":0.4575750529766083,\"xref\":\"x\",\"y\":1.75,\"yref\":\"y\"},{\"bgcolor\":\"rgba(255, 255, 255, 0.9)\",\"bordercolor\":\"black\",\"borderwidth\":1,\"font\":{\"color\":\"black\",\"size\":10},\"showarrow\":false,\"text\":\"Existentialist\",\"x\":0.46010926365852356,\"xref\":\"x\",\"y\":0.3,\"yref\":\"y\"},{\"bgcolor\":\"rgba(255, 255, 255, 0.9)\",\"bordercolor\":\"red\",\"borderwidth\":1,\"font\":{\"color\":\"red\",\"size\":14},\"showarrow\":false,\"text\":\"Assistant\",\"x\":0.08926801383495331,\"xref\":\"x\",\"y\":2,\"yref\":\"y\"},{\"bgcolor\":\"rgba(255, 255, 255, 0.9)\",\"bordercolor\":\"black\",\"borderwidth\":1,\"font\":{\"color\":\"black\",\"size\":10},\"showarrow\":false,\"text\":\"Pedantic\",\"x\":-0.4509148895740509,\"xref\":\"x2\",\"y\":1.45,\"yref\":\"y2\"},{\"bgcolor\":\"rgba(255, 255, 255, 0.9)\",\"bordercolor\":\"black\",\"borderwidth\":1,\"font\":{\"color\":\"black\",\"size\":10},\"showarrow\":false,\"text\":\"Ritualistic\",\"x\":-0.3723587393760681,\"xref\":\"x2\",\"y\":0.6,\"yref\":\"y2\"},{\"bgcolor\":\"rgba(255, 255, 255, 0.9)\",\"bordercolor\":\"black\",\"borderwidth\":1,\"font\":{\"color\":\"black\",\"size\":10},\"showarrow\":false,\"text\":\"Quantitative\",\"x\":-0.3629702031612396,\"xref\":\"x2\",\"y\":1.9,\"yref\":\"y2\"},{\"bgcolor\":\"rgba(255, 255, 255, 0.9)\",\"bordercolor\":\"black\",\"borderwidth\":1,\"font\":{\"color\":\"black\",\"size\":10},\"showarrow\":false,\"text\":\"Technical\",\"x\":-0.3455577492713928,\"xref\":\"x2\",\"y\":0.15,\"yref\":\"y2\"},{\"bgcolor\":\"rgba(255, 255, 255, 0.9)\",\"bordercolor\":\"black\",\"borderwidth\":1,\"font\":{\"color\":\"black\",\"size\":10},\"showarrow\":false,\"text\":\"Verbose\",\"x\":-0.34128043055534363,\"xref\":\"x2\",\"y\":1.6,\"yref\":\"y2\"},{\"bgcolor\":\"rgba(255, 255, 255, 0.9)\",\"bordercolor\":\"black\",\"borderwidth\":1,\"font\":{\"color\":\"black\",\"size\":10},\"showarrow\":false,\"text\":\"Data Driven\",\"x\":-0.33931925892829895,\"xref\":\"x2\",\"y\":0.45,\"yref\":\"y2\"},{\"bgcolor\":\"rgba(255, 255, 255, 0.9)\",\"bordercolor\":\"black\",\"borderwidth\":1,\"font\":{\"color\":\"black\",\"size\":10},\"showarrow\":false,\"text\":\"Traditional\",\"x\":-0.32181933522224426,\"xref\":\"x2\",\"y\":1.3,\"yref\":\"y2\"},{\"bgcolor\":\"rgba(255, 255, 255, 0.9)\",\"bordercolor\":\"black\",\"borderwidth\":1,\"font\":{\"color\":\"black\",\"size\":10},\"showarrow\":false,\"text\":\"Anxious\",\"x\":-0.3161419630050659,\"xref\":\"x2\",\"y\":0.75,\"yref\":\"y2\"},{\"bgcolor\":\"rgba(255, 255, 255, 0.9)\",\"bordercolor\":\"black\",\"borderwidth\":1,\"font\":{\"color\":\"black\",\"size\":10},\"showarrow\":false,\"text\":\"Regulatory\",\"x\":-0.3121377229690552,\"xref\":\"x2\",\"y\":1.75,\"yref\":\"y2\"},{\"bgcolor\":\"rgba(255, 255, 255, 0.9)\",\"bordercolor\":\"black\",\"borderwidth\":1,\"font\":{\"color\":\"black\",\"size\":10},\"showarrow\":false,\"text\":\"Goofy\",\"x\":-0.30940940976142883,\"xref\":\"x2\",\"y\":0.3,\"yref\":\"y2\"},{\"bgcolor\":\"rgba(255, 255, 255, 0.9)\",\"bordercolor\":\"black\",\"borderwidth\":1,\"font\":{\"color\":\"black\",\"size\":10},\"showarrow\":false,\"text\":\"Libertarian\",\"x\":0.38605180382728577,\"xref\":\"x2\",\"y\":1.45,\"yref\":\"y2\"},{\"bgcolor\":\"rgba(255, 255, 255, 0.9)\",\"bordercolor\":\"black\",\"borderwidth\":1,\"font\":{\"color\":\"black\",\"size\":10},\"showarrow\":false,\"text\":\"Innovative\",\"x\":0.4017590880393982,\"xref\":\"x2\",\"y\":0.6,\"yref\":\"y2\"},{\"bgcolor\":\"rgba(255, 255, 255, 0.9)\",\"bordercolor\":\"black\",\"borderwidth\":1,\"font\":{\"color\":\"black\",\"size\":10},\"showarrow\":false,\"text\":\"Iconoclastic\",\"x\":0.41995200514793396,\"xref\":\"x2\",\"y\":1.9,\"yref\":\"y2\"},{\"bgcolor\":\"rgba(255, 255, 255, 0.9)\",\"bordercolor\":\"black\",\"borderwidth\":1,\"font\":{\"color\":\"black\",\"size\":10},\"showarrow\":false,\"text\":\"Contrarian\",\"x\":0.4218510389328003,\"xref\":\"x2\",\"y\":0.15,\"yref\":\"y2\"},{\"bgcolor\":\"rgba(255, 255, 255, 0.9)\",\"bordercolor\":\"black\",\"borderwidth\":1,\"font\":{\"color\":\"black\",\"size\":10},\"showarrow\":false,\"text\":\"Provocative\",\"x\":0.43207961320877075,\"xref\":\"x2\",\"y\":1.6,\"yref\":\"y2\"},{\"bgcolor\":\"rgba(255, 255, 255, 0.9)\",\"bordercolor\":\"black\",\"borderwidth\":1,\"font\":{\"color\":\"black\",\"size\":10},\"showarrow\":false,\"text\":\"Independent\",\"x\":0.4643948972225189,\"xref\":\"x2\",\"y\":0.45,\"yref\":\"y2\"},{\"bgcolor\":\"rgba(255, 255, 255, 0.9)\",\"bordercolor\":\"black\",\"borderwidth\":1,\"font\":{\"color\":\"black\",\"size\":10},\"showarrow\":false,\"text\":\"Radical\",\"x\":0.4646764397621155,\"xref\":\"x2\",\"y\":1.3,\"yref\":\"y2\"},{\"bgcolor\":\"rgba(255, 255, 255, 0.9)\",\"bordercolor\":\"black\",\"borderwidth\":1,\"font\":{\"color\":\"black\",\"size\":10},\"showarrow\":false,\"text\":\"Risk Taking\",\"x\":0.46777522563934326,\"xref\":\"x2\",\"y\":0.75,\"yref\":\"y2\"},{\"bgcolor\":\"rgba(255, 255, 255, 0.9)\",\"bordercolor\":\"black\",\"borderwidth\":1,\"font\":{\"color\":\"black\",\"size\":10},\"showarrow\":false,\"text\":\"Existentialist\",\"x\":0.4965686500072479,\"xref\":\"x2\",\"y\":1.75,\"yref\":\"y2\"},{\"bgcolor\":\"rgba(255, 255, 255, 0.9)\",\"bordercolor\":\"black\",\"borderwidth\":1,\"font\":{\"color\":\"black\",\"size\":10},\"showarrow\":false,\"text\":\"Rebellious\",\"x\":0.5859310030937195,\"xref\":\"x2\",\"y\":0.3,\"yref\":\"y2\"},{\"bgcolor\":\"rgba(255, 255, 255, 0.9)\",\"bordercolor\":\"red\",\"borderwidth\":1,\"font\":{\"color\":\"red\",\"size\":14},\"showarrow\":false,\"text\":\"Assistant\",\"x\":0.09585332125425339,\"xref\":\"x2\",\"y\":2,\"yref\":\"y2\"}],\"shapes\":[{\"line\":{\"color\":\"gray\",\"dash\":\"solid\",\"width\":1},\"opacity\":0.7,\"type\":\"line\",\"x0\":0,\"x1\":0,\"xref\":\"x\",\"y0\":0,\"y1\":1,\"yref\":\"y domain\"},{\"line\":{\"color\":\"red\",\"dash\":\"dash\",\"width\":1},\"opacity\":1.0,\"type\":\"line\",\"x0\":0.08926801383495331,\"x1\":0.08926801383495331,\"xref\":\"x\",\"y0\":0,\"y1\":1,\"yref\":\"y domain\"},{\"line\":{\"color\":\"gray\",\"dash\":\"solid\",\"width\":1},\"opacity\":0.7,\"type\":\"line\",\"x0\":0,\"x1\":0,\"xref\":\"x2\",\"y0\":0,\"y1\":1,\"yref\":\"y2 domain\"},{\"line\":{\"color\":\"red\",\"dash\":\"dash\",\"width\":1},\"opacity\":1.0,\"type\":\"line\",\"x0\":0.09585332125425339,\"x1\":0.09585332125425339,\"xref\":\"x2\",\"y0\":0,\"y1\":1,\"yref\":\"y2 domain\"}],\"title\":{\"subtitle\":{\"text\":\"Llama 3.3 70B, Layer 40 - Mean-Centered and L2 Normalized Vectors\"},\"font\":{\"size\":16},\"text\":\"PCA on Trait Vectors\",\"x\":0.5},\"height\":800,\"width\":1000,\"showlegend\":false},                        {\"responsive\": true}                    ).then(function(){\n",
       "                            \n",
       "var gd = document.getElementById('dd074e84-bdf1-43ad-9e67-63425fd7e259');\n",
       "var x = new MutationObserver(function (mutations, observer) {{\n",
       "        var display = window.getComputedStyle(gd).display;\n",
       "        if (!display || display === 'none') {{\n",
       "            console.log([gd, 'removed!']);\n",
       "            Plotly.purge(gd);\n",
       "            observer.disconnect();\n",
       "        }}\n",
       "}});\n",
       "\n",
       "// Listen for the removal of the full notebook cells\n",
       "var notebookContainer = gd.closest('#notebook-container');\n",
       "if (notebookContainer) {{\n",
       "    x.observe(notebookContainer, {childList: true});\n",
       "}}\n",
       "\n",
       "// Listen for the clearing of the current output cell\n",
       "var outputEl = gd.closest('.output');\n",
       "if (outputEl) {{\n",
       "    x.observe(outputEl, {childList: true});\n",
       "}}\n",
       "\n",
       "                        })                };                });            </script>        </div>"
      ]
     },
     "metadata": {},
     "output_type": "display_data"
    }
   ],
   "source": [
    "if normalized:\n",
    "    subtitle = f\"{model_name.replace('-', ' ')}, Layer {layer} - Mean-Centered and L2 Normalized Vectors\"\n",
    "else:\n",
    "    subtitle = f\"{model_name.replace('-', ' ')}, Layer {layer} - Shared Question Set, Mean-Centered and Scaled Vectors\"\n",
    "\n",
    "for i in range(6):\n",
    "    fig = plot_pc(\n",
    "        pca_results=pca_results,\n",
    "        trait_labels=trait_labels,\n",
    "        layer=layer,\n",
    "        pc_component=i,\n",
    "        assistant_activation=default_vectors['activations']['default_1'],\n",
    "        assistant_projection=asst_projected[0],\n",
    "        subtitle=subtitle,\n",
    "        scaled=not normalized,\n",
    "    )\n",
    "    fig.show()\n",
    "\n",
    "    if not normalized:\n",
    "        fig.write_html(f\"{plot_dir}/pc{i+1}.html\")\n",
    "    else:\n",
    "        fig.write_html(f\"{plot_dir}/pc{i+1}_normalized.html\")"
   ]
  },
  {
   "cell_type": "code",
   "execution_count": 19,
   "id": "0310747a",
   "metadata": {},
   "outputs": [
    {
     "data": {
      "application/vnd.plotly.v1+json": {
       "config": {
        "plotlyServerURL": "https://plot.ly"
       },
       "data": [
        {
         "name": "Individual Variance",
         "opacity": 0.6,
         "type": "bar",
         "x": [
          1,
          2,
          3,
          4,
          5,
          6,
          7,
          8,
          9,
          10,
          11,
          12,
          13,
          14,
          15,
          16,
          17,
          18,
          19,
          20,
          21,
          22,
          23,
          24,
          25,
          26,
          27,
          28,
          29,
          30,
          31,
          32,
          33,
          34,
          35,
          36,
          37,
          38,
          39,
          40,
          41,
          42,
          43,
          44,
          45,
          46,
          47,
          48,
          49,
          50
         ],
         "y": [
          23.31291139125824,
          13.931626081466675,
          9.178746491670609,
          7.49707892537117,
          6.085165590047836,
          3.9652541279792786,
          3.0785053968429565,
          2.51773614436388,
          1.9939621910452843,
          1.7256127670407295,
          1.5606539323925972,
          1.3712139800190926,
          1.2380709871649742,
          1.1984086595475674,
          0.9597429074347019,
          0.9050258435308933,
          0.8564320392906666,
          0.816798023879528,
          0.753379799425602,
          0.6949533708393574,
          0.6303890142589808,
          0.5973541643470526,
          0.5379527807235718,
          0.5039316602051258,
          0.4841598216444254,
          0.47657848335802555,
          0.4330530297011137,
          0.409856578335166,
          0.39357482455670834,
          0.3817233256995678,
          0.3642594674602151,
          0.3467647125944495,
          0.3288709558546543,
          0.3144034883007407,
          0.29799637850373983,
          0.2865899819880724,
          0.2753883833065629,
          0.27201136108487844,
          0.25433446280658245,
          0.24302771780639887,
          0.23648357018828392,
          0.22346212062984705,
          0.2181659685447812,
          0.20718842279165983,
          0.20456421189010143,
          0.19112798618152738,
          0.18342178082093596,
          0.17794539453461766,
          0.17027197172865272,
          0.1663917675614357
         ]
        },
        {
         "mode": "lines+markers",
         "name": "Cumulative Variance",
         "type": "scatter",
         "x": [
          1,
          2,
          3,
          4,
          5,
          6,
          7,
          8,
          9,
          10,
          11,
          12,
          13,
          14,
          15,
          16,
          17,
          18,
          19,
          20,
          21,
          22,
          23,
          24,
          25,
          26,
          27,
          28,
          29,
          30,
          31,
          32,
          33,
          34,
          35,
          36,
          37,
          38,
          39,
          40,
          41,
          42,
          43,
          44,
          45,
          46,
          47,
          48,
          49,
          50
         ],
         "y": [
          23.31291139125824,
          37.244537472724915,
          46.42328396439552,
          53.92036288976669,
          60.00552847981453,
          63.97078260779381,
          67.04928800463676,
          69.56702414900064,
          71.56098634004593,
          73.28659910708666,
          74.84725303947926,
          76.21846701949835,
          77.45653800666332,
          78.65494666621089,
          79.61468957364559,
          80.51971541717649,
          81.37614745646715,
          82.19294548034668,
          82.94632527977228,
          83.64127865061164,
          84.27166766487062,
          84.86902182921767,
          85.40697460994124,
          85.91090627014637,
          86.3950660917908,
          86.87164457514882,
          87.30469760484993,
          87.7145541831851,
          88.10812900774181,
          88.48985233344138,
          88.85411180090159,
          89.20087651349604,
          89.5297474693507,
          89.84415095765144,
          90.14214733615518,
          90.42873731814325,
          90.70412570144981,
          90.97613706253469,
          91.23047152534127,
          91.47349924314767,
          91.70998281333596,
          91.9334449339658,
          92.15161090251058,
          92.35879932530224,
          92.56336353719234,
          92.75449152337387,
          92.93791330419481,
          93.11585869872943,
          93.28613067045808,
          93.45252243801951
         ]
        }
       ],
       "layout": {
        "annotations": [
         {
          "align": "right",
          "borderpad": 0,
          "font": {
           "color": "gray",
           "size": 10
          },
          "showarrow": false,
          "text": "70% (9 dims)",
          "x": 0.995,
          "xanchor": "right",
          "xref": "paper",
          "y": 70,
          "yref": "y",
          "yshift": -10
         },
         {
          "align": "right",
          "borderpad": 0,
          "font": {
           "color": "gray",
           "size": 10
          },
          "showarrow": false,
          "text": "80% (16 dims)",
          "x": 0.995,
          "xanchor": "right",
          "xref": "paper",
          "y": 80,
          "yref": "y",
          "yshift": -10
         },
         {
          "align": "right",
          "borderpad": 0,
          "font": {
           "color": "gray",
           "size": 10
          },
          "showarrow": false,
          "text": "90% (35 dims)",
          "x": 0.995,
          "xanchor": "right",
          "xref": "paper",
          "y": 90,
          "yref": "y",
          "yshift": -10
         }
        ],
        "height": 600,
        "hovermode": "x unified",
        "legend": {
         "orientation": "h",
         "x": 1,
         "xanchor": "right",
         "y": 1.02,
         "yanchor": "bottom"
        },
        "margin": {
         "t": 120
        },
        "shapes": [
         {
          "line": {
           "dash": "dash",
           "width": 1
          },
          "opacity": 0.5,
          "type": "line",
          "x0": 0,
          "x1": 1,
          "xref": "x domain",
          "y0": 70,
          "y1": 70,
          "yref": "y"
         },
         {
          "line": {
           "dash": "dash",
           "width": 1
          },
          "opacity": 0.5,
          "type": "line",
          "x0": 0,
          "x1": 1,
          "xref": "x domain",
          "y0": 80,
          "y1": 80,
          "yref": "y"
         },
         {
          "line": {
           "dash": "dash",
           "width": 1
          },
          "opacity": 0.5,
          "type": "line",
          "x0": 0,
          "x1": 1,
          "xref": "x domain",
          "y0": 90,
          "y1": 90,
          "yref": "y"
         }
        ],
        "showlegend": true,
        "template": {
         "data": {
          "bar": [
           {
            "error_x": {
             "color": "#2a3f5f"
            },
            "error_y": {
             "color": "#2a3f5f"
            },
            "marker": {
             "line": {
              "color": "#E5ECF6",
              "width": 0.5
             },
             "pattern": {
              "fillmode": "overlay",
              "size": 10,
              "solidity": 0.2
             }
            },
            "type": "bar"
           }
          ],
          "barpolar": [
           {
            "marker": {
             "line": {
              "color": "#E5ECF6",
              "width": 0.5
             },
             "pattern": {
              "fillmode": "overlay",
              "size": 10,
              "solidity": 0.2
             }
            },
            "type": "barpolar"
           }
          ],
          "carpet": [
           {
            "aaxis": {
             "endlinecolor": "#2a3f5f",
             "gridcolor": "white",
             "linecolor": "white",
             "minorgridcolor": "white",
             "startlinecolor": "#2a3f5f"
            },
            "baxis": {
             "endlinecolor": "#2a3f5f",
             "gridcolor": "white",
             "linecolor": "white",
             "minorgridcolor": "white",
             "startlinecolor": "#2a3f5f"
            },
            "type": "carpet"
           }
          ],
          "choropleth": [
           {
            "colorbar": {
             "outlinewidth": 0,
             "ticks": ""
            },
            "type": "choropleth"
           }
          ],
          "contour": [
           {
            "colorbar": {
             "outlinewidth": 0,
             "ticks": ""
            },
            "colorscale": [
             [
              0,
              "#0d0887"
             ],
             [
              0.1111111111111111,
              "#46039f"
             ],
             [
              0.2222222222222222,
              "#7201a8"
             ],
             [
              0.3333333333333333,
              "#9c179e"
             ],
             [
              0.4444444444444444,
              "#bd3786"
             ],
             [
              0.5555555555555556,
              "#d8576b"
             ],
             [
              0.6666666666666666,
              "#ed7953"
             ],
             [
              0.7777777777777778,
              "#fb9f3a"
             ],
             [
              0.8888888888888888,
              "#fdca26"
             ],
             [
              1,
              "#f0f921"
             ]
            ],
            "type": "contour"
           }
          ],
          "contourcarpet": [
           {
            "colorbar": {
             "outlinewidth": 0,
             "ticks": ""
            },
            "type": "contourcarpet"
           }
          ],
          "heatmap": [
           {
            "colorbar": {
             "outlinewidth": 0,
             "ticks": ""
            },
            "colorscale": [
             [
              0,
              "#0d0887"
             ],
             [
              0.1111111111111111,
              "#46039f"
             ],
             [
              0.2222222222222222,
              "#7201a8"
             ],
             [
              0.3333333333333333,
              "#9c179e"
             ],
             [
              0.4444444444444444,
              "#bd3786"
             ],
             [
              0.5555555555555556,
              "#d8576b"
             ],
             [
              0.6666666666666666,
              "#ed7953"
             ],
             [
              0.7777777777777778,
              "#fb9f3a"
             ],
             [
              0.8888888888888888,
              "#fdca26"
             ],
             [
              1,
              "#f0f921"
             ]
            ],
            "type": "heatmap"
           }
          ],
          "heatmapgl": [
           {
            "colorbar": {
             "outlinewidth": 0,
             "ticks": ""
            },
            "colorscale": [
             [
              0,
              "#0d0887"
             ],
             [
              0.1111111111111111,
              "#46039f"
             ],
             [
              0.2222222222222222,
              "#7201a8"
             ],
             [
              0.3333333333333333,
              "#9c179e"
             ],
             [
              0.4444444444444444,
              "#bd3786"
             ],
             [
              0.5555555555555556,
              "#d8576b"
             ],
             [
              0.6666666666666666,
              "#ed7953"
             ],
             [
              0.7777777777777778,
              "#fb9f3a"
             ],
             [
              0.8888888888888888,
              "#fdca26"
             ],
             [
              1,
              "#f0f921"
             ]
            ],
            "type": "heatmapgl"
           }
          ],
          "histogram": [
           {
            "marker": {
             "pattern": {
              "fillmode": "overlay",
              "size": 10,
              "solidity": 0.2
             }
            },
            "type": "histogram"
           }
          ],
          "histogram2d": [
           {
            "colorbar": {
             "outlinewidth": 0,
             "ticks": ""
            },
            "colorscale": [
             [
              0,
              "#0d0887"
             ],
             [
              0.1111111111111111,
              "#46039f"
             ],
             [
              0.2222222222222222,
              "#7201a8"
             ],
             [
              0.3333333333333333,
              "#9c179e"
             ],
             [
              0.4444444444444444,
              "#bd3786"
             ],
             [
              0.5555555555555556,
              "#d8576b"
             ],
             [
              0.6666666666666666,
              "#ed7953"
             ],
             [
              0.7777777777777778,
              "#fb9f3a"
             ],
             [
              0.8888888888888888,
              "#fdca26"
             ],
             [
              1,
              "#f0f921"
             ]
            ],
            "type": "histogram2d"
           }
          ],
          "histogram2dcontour": [
           {
            "colorbar": {
             "outlinewidth": 0,
             "ticks": ""
            },
            "colorscale": [
             [
              0,
              "#0d0887"
             ],
             [
              0.1111111111111111,
              "#46039f"
             ],
             [
              0.2222222222222222,
              "#7201a8"
             ],
             [
              0.3333333333333333,
              "#9c179e"
             ],
             [
              0.4444444444444444,
              "#bd3786"
             ],
             [
              0.5555555555555556,
              "#d8576b"
             ],
             [
              0.6666666666666666,
              "#ed7953"
             ],
             [
              0.7777777777777778,
              "#fb9f3a"
             ],
             [
              0.8888888888888888,
              "#fdca26"
             ],
             [
              1,
              "#f0f921"
             ]
            ],
            "type": "histogram2dcontour"
           }
          ],
          "mesh3d": [
           {
            "colorbar": {
             "outlinewidth": 0,
             "ticks": ""
            },
            "type": "mesh3d"
           }
          ],
          "parcoords": [
           {
            "line": {
             "colorbar": {
              "outlinewidth": 0,
              "ticks": ""
             }
            },
            "type": "parcoords"
           }
          ],
          "pie": [
           {
            "automargin": true,
            "type": "pie"
           }
          ],
          "scatter": [
           {
            "fillpattern": {
             "fillmode": "overlay",
             "size": 10,
             "solidity": 0.2
            },
            "type": "scatter"
           }
          ],
          "scatter3d": [
           {
            "line": {
             "colorbar": {
              "outlinewidth": 0,
              "ticks": ""
             }
            },
            "marker": {
             "colorbar": {
              "outlinewidth": 0,
              "ticks": ""
             }
            },
            "type": "scatter3d"
           }
          ],
          "scattercarpet": [
           {
            "marker": {
             "colorbar": {
              "outlinewidth": 0,
              "ticks": ""
             }
            },
            "type": "scattercarpet"
           }
          ],
          "scattergeo": [
           {
            "marker": {
             "colorbar": {
              "outlinewidth": 0,
              "ticks": ""
             }
            },
            "type": "scattergeo"
           }
          ],
          "scattergl": [
           {
            "marker": {
             "colorbar": {
              "outlinewidth": 0,
              "ticks": ""
             }
            },
            "type": "scattergl"
           }
          ],
          "scattermapbox": [
           {
            "marker": {
             "colorbar": {
              "outlinewidth": 0,
              "ticks": ""
             }
            },
            "type": "scattermapbox"
           }
          ],
          "scatterpolar": [
           {
            "marker": {
             "colorbar": {
              "outlinewidth": 0,
              "ticks": ""
             }
            },
            "type": "scatterpolar"
           }
          ],
          "scatterpolargl": [
           {
            "marker": {
             "colorbar": {
              "outlinewidth": 0,
              "ticks": ""
             }
            },
            "type": "scatterpolargl"
           }
          ],
          "scatterternary": [
           {
            "marker": {
             "colorbar": {
              "outlinewidth": 0,
              "ticks": ""
             }
            },
            "type": "scatterternary"
           }
          ],
          "surface": [
           {
            "colorbar": {
             "outlinewidth": 0,
             "ticks": ""
            },
            "colorscale": [
             [
              0,
              "#0d0887"
             ],
             [
              0.1111111111111111,
              "#46039f"
             ],
             [
              0.2222222222222222,
              "#7201a8"
             ],
             [
              0.3333333333333333,
              "#9c179e"
             ],
             [
              0.4444444444444444,
              "#bd3786"
             ],
             [
              0.5555555555555556,
              "#d8576b"
             ],
             [
              0.6666666666666666,
              "#ed7953"
             ],
             [
              0.7777777777777778,
              "#fb9f3a"
             ],
             [
              0.8888888888888888,
              "#fdca26"
             ],
             [
              1,
              "#f0f921"
             ]
            ],
            "type": "surface"
           }
          ],
          "table": [
           {
            "cells": {
             "fill": {
              "color": "#EBF0F8"
             },
             "line": {
              "color": "white"
             }
            },
            "header": {
             "fill": {
              "color": "#C8D4E3"
             },
             "line": {
              "color": "white"
             }
            },
            "type": "table"
           }
          ]
         },
         "layout": {
          "annotationdefaults": {
           "arrowcolor": "#2a3f5f",
           "arrowhead": 0,
           "arrowwidth": 1
          },
          "autotypenumbers": "strict",
          "coloraxis": {
           "colorbar": {
            "outlinewidth": 0,
            "ticks": ""
           }
          },
          "colorscale": {
           "diverging": [
            [
             0,
             "#8e0152"
            ],
            [
             0.1,
             "#c51b7d"
            ],
            [
             0.2,
             "#de77ae"
            ],
            [
             0.3,
             "#f1b6da"
            ],
            [
             0.4,
             "#fde0ef"
            ],
            [
             0.5,
             "#f7f7f7"
            ],
            [
             0.6,
             "#e6f5d0"
            ],
            [
             0.7,
             "#b8e186"
            ],
            [
             0.8,
             "#7fbc41"
            ],
            [
             0.9,
             "#4d9221"
            ],
            [
             1,
             "#276419"
            ]
           ],
           "sequential": [
            [
             0,
             "#0d0887"
            ],
            [
             0.1111111111111111,
             "#46039f"
            ],
            [
             0.2222222222222222,
             "#7201a8"
            ],
            [
             0.3333333333333333,
             "#9c179e"
            ],
            [
             0.4444444444444444,
             "#bd3786"
            ],
            [
             0.5555555555555556,
             "#d8576b"
            ],
            [
             0.6666666666666666,
             "#ed7953"
            ],
            [
             0.7777777777777778,
             "#fb9f3a"
            ],
            [
             0.8888888888888888,
             "#fdca26"
            ],
            [
             1,
             "#f0f921"
            ]
           ],
           "sequentialminus": [
            [
             0,
             "#0d0887"
            ],
            [
             0.1111111111111111,
             "#46039f"
            ],
            [
             0.2222222222222222,
             "#7201a8"
            ],
            [
             0.3333333333333333,
             "#9c179e"
            ],
            [
             0.4444444444444444,
             "#bd3786"
            ],
            [
             0.5555555555555556,
             "#d8576b"
            ],
            [
             0.6666666666666666,
             "#ed7953"
            ],
            [
             0.7777777777777778,
             "#fb9f3a"
            ],
            [
             0.8888888888888888,
             "#fdca26"
            ],
            [
             1,
             "#f0f921"
            ]
           ]
          },
          "colorway": [
           "#636efa",
           "#EF553B",
           "#00cc96",
           "#ab63fa",
           "#FFA15A",
           "#19d3f3",
           "#FF6692",
           "#B6E880",
           "#FF97FF",
           "#FECB52"
          ],
          "font": {
           "color": "#2a3f5f"
          },
          "geo": {
           "bgcolor": "white",
           "lakecolor": "white",
           "landcolor": "#E5ECF6",
           "showlakes": true,
           "showland": true,
           "subunitcolor": "white"
          },
          "hoverlabel": {
           "align": "left"
          },
          "hovermode": "closest",
          "mapbox": {
           "style": "light"
          },
          "paper_bgcolor": "white",
          "plot_bgcolor": "#E5ECF6",
          "polar": {
           "angularaxis": {
            "gridcolor": "white",
            "linecolor": "white",
            "ticks": ""
           },
           "bgcolor": "#E5ECF6",
           "radialaxis": {
            "gridcolor": "white",
            "linecolor": "white",
            "ticks": ""
           }
          },
          "scene": {
           "xaxis": {
            "backgroundcolor": "#E5ECF6",
            "gridcolor": "white",
            "gridwidth": 2,
            "linecolor": "white",
            "showbackground": true,
            "ticks": "",
            "zerolinecolor": "white"
           },
           "yaxis": {
            "backgroundcolor": "#E5ECF6",
            "gridcolor": "white",
            "gridwidth": 2,
            "linecolor": "white",
            "showbackground": true,
            "ticks": "",
            "zerolinecolor": "white"
           },
           "zaxis": {
            "backgroundcolor": "#E5ECF6",
            "gridcolor": "white",
            "gridwidth": 2,
            "linecolor": "white",
            "showbackground": true,
            "ticks": "",
            "zerolinecolor": "white"
           }
          },
          "shapedefaults": {
           "line": {
            "color": "#2a3f5f"
           }
          },
          "ternary": {
           "aaxis": {
            "gridcolor": "white",
            "linecolor": "white",
            "ticks": ""
           },
           "baxis": {
            "gridcolor": "white",
            "linecolor": "white",
            "ticks": ""
           },
           "bgcolor": "#E5ECF6",
           "caxis": {
            "gridcolor": "white",
            "linecolor": "white",
            "ticks": ""
           }
          },
          "title": {
           "x": 0.05
          },
          "xaxis": {
           "automargin": true,
           "gridcolor": "white",
           "linecolor": "white",
           "ticks": "",
           "title": {
            "standoff": 15
           },
           "zerolinecolor": "white",
           "zerolinewidth": 2
          },
          "yaxis": {
           "automargin": true,
           "gridcolor": "white",
           "linecolor": "white",
           "ticks": "",
           "title": {
            "standoff": 15
           },
           "zerolinecolor": "white",
           "zerolinewidth": 2
          }
         }
        },
        "title": {
         "subtitle": {
          "text": "Llama 3.3 70B, Layer 40 - 240 Total Components"
         },
         "text": "Variance Explained by Trait Role PC Components"
        },
        "width": 800,
        "xaxis": {
         "title": {
          "text": "Principal Component"
         }
        },
        "yaxis": {
         "range": [
          0,
          100
         ],
         "title": {
          "text": "Variance Explained (%)"
         }
        }
       }
      },
      "text/html": [
       "<div>                            <div id=\"42b00c6d-fa0c-410d-8678-2bf31cf08f7a\" class=\"plotly-graph-div\" style=\"height:600px; width:800px;\"></div>            <script type=\"text/javascript\">                require([\"plotly\"], function(Plotly) {                    window.PLOTLYENV=window.PLOTLYENV || {};                                    if (document.getElementById(\"42b00c6d-fa0c-410d-8678-2bf31cf08f7a\")) {                    Plotly.newPlot(                        \"42b00c6d-fa0c-410d-8678-2bf31cf08f7a\",                        [{\"name\":\"Individual Variance\",\"opacity\":0.6,\"x\":[1,2,3,4,5,6,7,8,9,10,11,12,13,14,15,16,17,18,19,20,21,22,23,24,25,26,27,28,29,30,31,32,33,34,35,36,37,38,39,40,41,42,43,44,45,46,47,48,49,50],\"y\":[23.31291139125824,13.931626081466675,9.178746491670609,7.49707892537117,6.085165590047836,3.9652541279792786,3.0785053968429565,2.51773614436388,1.9939621910452843,1.7256127670407295,1.5606539323925972,1.3712139800190926,1.2380709871649742,1.1984086595475674,0.9597429074347019,0.9050258435308933,0.8564320392906666,0.816798023879528,0.753379799425602,0.6949533708393574,0.6303890142589808,0.5973541643470526,0.5379527807235718,0.5039316602051258,0.4841598216444254,0.47657848335802555,0.4330530297011137,0.409856578335166,0.39357482455670834,0.3817233256995678,0.3642594674602151,0.3467647125944495,0.3288709558546543,0.3144034883007407,0.29799637850373983,0.2865899819880724,0.2753883833065629,0.27201136108487844,0.25433446280658245,0.24302771780639887,0.23648357018828392,0.22346212062984705,0.2181659685447812,0.20718842279165983,0.20456421189010143,0.19112798618152738,0.18342178082093596,0.17794539453461766,0.17027197172865272,0.1663917675614357],\"type\":\"bar\"},{\"mode\":\"lines+markers\",\"name\":\"Cumulative Variance\",\"x\":[1,2,3,4,5,6,7,8,9,10,11,12,13,14,15,16,17,18,19,20,21,22,23,24,25,26,27,28,29,30,31,32,33,34,35,36,37,38,39,40,41,42,43,44,45,46,47,48,49,50],\"y\":[23.31291139125824,37.244537472724915,46.42328396439552,53.92036288976669,60.00552847981453,63.97078260779381,67.04928800463676,69.56702414900064,71.56098634004593,73.28659910708666,74.84725303947926,76.21846701949835,77.45653800666332,78.65494666621089,79.61468957364559,80.51971541717649,81.37614745646715,82.19294548034668,82.94632527977228,83.64127865061164,84.27166766487062,84.86902182921767,85.40697460994124,85.91090627014637,86.3950660917908,86.87164457514882,87.30469760484993,87.7145541831851,88.10812900774181,88.48985233344138,88.85411180090159,89.20087651349604,89.5297474693507,89.84415095765144,90.14214733615518,90.42873731814325,90.70412570144981,90.97613706253469,91.23047152534127,91.47349924314767,91.70998281333596,91.9334449339658,92.15161090251058,92.35879932530224,92.56336353719234,92.75449152337387,92.93791330419481,93.11585869872943,93.28613067045808,93.45252243801951],\"type\":\"scatter\"}],                        {\"template\":{\"data\":{\"histogram2dcontour\":[{\"type\":\"histogram2dcontour\",\"colorbar\":{\"outlinewidth\":0,\"ticks\":\"\"},\"colorscale\":[[0.0,\"#0d0887\"],[0.1111111111111111,\"#46039f\"],[0.2222222222222222,\"#7201a8\"],[0.3333333333333333,\"#9c179e\"],[0.4444444444444444,\"#bd3786\"],[0.5555555555555556,\"#d8576b\"],[0.6666666666666666,\"#ed7953\"],[0.7777777777777778,\"#fb9f3a\"],[0.8888888888888888,\"#fdca26\"],[1.0,\"#f0f921\"]]}],\"choropleth\":[{\"type\":\"choropleth\",\"colorbar\":{\"outlinewidth\":0,\"ticks\":\"\"}}],\"histogram2d\":[{\"type\":\"histogram2d\",\"colorbar\":{\"outlinewidth\":0,\"ticks\":\"\"},\"colorscale\":[[0.0,\"#0d0887\"],[0.1111111111111111,\"#46039f\"],[0.2222222222222222,\"#7201a8\"],[0.3333333333333333,\"#9c179e\"],[0.4444444444444444,\"#bd3786\"],[0.5555555555555556,\"#d8576b\"],[0.6666666666666666,\"#ed7953\"],[0.7777777777777778,\"#fb9f3a\"],[0.8888888888888888,\"#fdca26\"],[1.0,\"#f0f921\"]]}],\"heatmap\":[{\"type\":\"heatmap\",\"colorbar\":{\"outlinewidth\":0,\"ticks\":\"\"},\"colorscale\":[[0.0,\"#0d0887\"],[0.1111111111111111,\"#46039f\"],[0.2222222222222222,\"#7201a8\"],[0.3333333333333333,\"#9c179e\"],[0.4444444444444444,\"#bd3786\"],[0.5555555555555556,\"#d8576b\"],[0.6666666666666666,\"#ed7953\"],[0.7777777777777778,\"#fb9f3a\"],[0.8888888888888888,\"#fdca26\"],[1.0,\"#f0f921\"]]}],\"heatmapgl\":[{\"type\":\"heatmapgl\",\"colorbar\":{\"outlinewidth\":0,\"ticks\":\"\"},\"colorscale\":[[0.0,\"#0d0887\"],[0.1111111111111111,\"#46039f\"],[0.2222222222222222,\"#7201a8\"],[0.3333333333333333,\"#9c179e\"],[0.4444444444444444,\"#bd3786\"],[0.5555555555555556,\"#d8576b\"],[0.6666666666666666,\"#ed7953\"],[0.7777777777777778,\"#fb9f3a\"],[0.8888888888888888,\"#fdca26\"],[1.0,\"#f0f921\"]]}],\"contourcarpet\":[{\"type\":\"contourcarpet\",\"colorbar\":{\"outlinewidth\":0,\"ticks\":\"\"}}],\"contour\":[{\"type\":\"contour\",\"colorbar\":{\"outlinewidth\":0,\"ticks\":\"\"},\"colorscale\":[[0.0,\"#0d0887\"],[0.1111111111111111,\"#46039f\"],[0.2222222222222222,\"#7201a8\"],[0.3333333333333333,\"#9c179e\"],[0.4444444444444444,\"#bd3786\"],[0.5555555555555556,\"#d8576b\"],[0.6666666666666666,\"#ed7953\"],[0.7777777777777778,\"#fb9f3a\"],[0.8888888888888888,\"#fdca26\"],[1.0,\"#f0f921\"]]}],\"surface\":[{\"type\":\"surface\",\"colorbar\":{\"outlinewidth\":0,\"ticks\":\"\"},\"colorscale\":[[0.0,\"#0d0887\"],[0.1111111111111111,\"#46039f\"],[0.2222222222222222,\"#7201a8\"],[0.3333333333333333,\"#9c179e\"],[0.4444444444444444,\"#bd3786\"],[0.5555555555555556,\"#d8576b\"],[0.6666666666666666,\"#ed7953\"],[0.7777777777777778,\"#fb9f3a\"],[0.8888888888888888,\"#fdca26\"],[1.0,\"#f0f921\"]]}],\"mesh3d\":[{\"type\":\"mesh3d\",\"colorbar\":{\"outlinewidth\":0,\"ticks\":\"\"}}],\"scatter\":[{\"fillpattern\":{\"fillmode\":\"overlay\",\"size\":10,\"solidity\":0.2},\"type\":\"scatter\"}],\"parcoords\":[{\"type\":\"parcoords\",\"line\":{\"colorbar\":{\"outlinewidth\":0,\"ticks\":\"\"}}}],\"scatterpolargl\":[{\"type\":\"scatterpolargl\",\"marker\":{\"colorbar\":{\"outlinewidth\":0,\"ticks\":\"\"}}}],\"bar\":[{\"error_x\":{\"color\":\"#2a3f5f\"},\"error_y\":{\"color\":\"#2a3f5f\"},\"marker\":{\"line\":{\"color\":\"#E5ECF6\",\"width\":0.5},\"pattern\":{\"fillmode\":\"overlay\",\"size\":10,\"solidity\":0.2}},\"type\":\"bar\"}],\"scattergeo\":[{\"type\":\"scattergeo\",\"marker\":{\"colorbar\":{\"outlinewidth\":0,\"ticks\":\"\"}}}],\"scatterpolar\":[{\"type\":\"scatterpolar\",\"marker\":{\"colorbar\":{\"outlinewidth\":0,\"ticks\":\"\"}}}],\"histogram\":[{\"marker\":{\"pattern\":{\"fillmode\":\"overlay\",\"size\":10,\"solidity\":0.2}},\"type\":\"histogram\"}],\"scattergl\":[{\"type\":\"scattergl\",\"marker\":{\"colorbar\":{\"outlinewidth\":0,\"ticks\":\"\"}}}],\"scatter3d\":[{\"type\":\"scatter3d\",\"line\":{\"colorbar\":{\"outlinewidth\":0,\"ticks\":\"\"}},\"marker\":{\"colorbar\":{\"outlinewidth\":0,\"ticks\":\"\"}}}],\"scattermapbox\":[{\"type\":\"scattermapbox\",\"marker\":{\"colorbar\":{\"outlinewidth\":0,\"ticks\":\"\"}}}],\"scatterternary\":[{\"type\":\"scatterternary\",\"marker\":{\"colorbar\":{\"outlinewidth\":0,\"ticks\":\"\"}}}],\"scattercarpet\":[{\"type\":\"scattercarpet\",\"marker\":{\"colorbar\":{\"outlinewidth\":0,\"ticks\":\"\"}}}],\"carpet\":[{\"aaxis\":{\"endlinecolor\":\"#2a3f5f\",\"gridcolor\":\"white\",\"linecolor\":\"white\",\"minorgridcolor\":\"white\",\"startlinecolor\":\"#2a3f5f\"},\"baxis\":{\"endlinecolor\":\"#2a3f5f\",\"gridcolor\":\"white\",\"linecolor\":\"white\",\"minorgridcolor\":\"white\",\"startlinecolor\":\"#2a3f5f\"},\"type\":\"carpet\"}],\"table\":[{\"cells\":{\"fill\":{\"color\":\"#EBF0F8\"},\"line\":{\"color\":\"white\"}},\"header\":{\"fill\":{\"color\":\"#C8D4E3\"},\"line\":{\"color\":\"white\"}},\"type\":\"table\"}],\"barpolar\":[{\"marker\":{\"line\":{\"color\":\"#E5ECF6\",\"width\":0.5},\"pattern\":{\"fillmode\":\"overlay\",\"size\":10,\"solidity\":0.2}},\"type\":\"barpolar\"}],\"pie\":[{\"automargin\":true,\"type\":\"pie\"}]},\"layout\":{\"autotypenumbers\":\"strict\",\"colorway\":[\"#636efa\",\"#EF553B\",\"#00cc96\",\"#ab63fa\",\"#FFA15A\",\"#19d3f3\",\"#FF6692\",\"#B6E880\",\"#FF97FF\",\"#FECB52\"],\"font\":{\"color\":\"#2a3f5f\"},\"hovermode\":\"closest\",\"hoverlabel\":{\"align\":\"left\"},\"paper_bgcolor\":\"white\",\"plot_bgcolor\":\"#E5ECF6\",\"polar\":{\"bgcolor\":\"#E5ECF6\",\"angularaxis\":{\"gridcolor\":\"white\",\"linecolor\":\"white\",\"ticks\":\"\"},\"radialaxis\":{\"gridcolor\":\"white\",\"linecolor\":\"white\",\"ticks\":\"\"}},\"ternary\":{\"bgcolor\":\"#E5ECF6\",\"aaxis\":{\"gridcolor\":\"white\",\"linecolor\":\"white\",\"ticks\":\"\"},\"baxis\":{\"gridcolor\":\"white\",\"linecolor\":\"white\",\"ticks\":\"\"},\"caxis\":{\"gridcolor\":\"white\",\"linecolor\":\"white\",\"ticks\":\"\"}},\"coloraxis\":{\"colorbar\":{\"outlinewidth\":0,\"ticks\":\"\"}},\"colorscale\":{\"sequential\":[[0.0,\"#0d0887\"],[0.1111111111111111,\"#46039f\"],[0.2222222222222222,\"#7201a8\"],[0.3333333333333333,\"#9c179e\"],[0.4444444444444444,\"#bd3786\"],[0.5555555555555556,\"#d8576b\"],[0.6666666666666666,\"#ed7953\"],[0.7777777777777778,\"#fb9f3a\"],[0.8888888888888888,\"#fdca26\"],[1.0,\"#f0f921\"]],\"sequentialminus\":[[0.0,\"#0d0887\"],[0.1111111111111111,\"#46039f\"],[0.2222222222222222,\"#7201a8\"],[0.3333333333333333,\"#9c179e\"],[0.4444444444444444,\"#bd3786\"],[0.5555555555555556,\"#d8576b\"],[0.6666666666666666,\"#ed7953\"],[0.7777777777777778,\"#fb9f3a\"],[0.8888888888888888,\"#fdca26\"],[1.0,\"#f0f921\"]],\"diverging\":[[0,\"#8e0152\"],[0.1,\"#c51b7d\"],[0.2,\"#de77ae\"],[0.3,\"#f1b6da\"],[0.4,\"#fde0ef\"],[0.5,\"#f7f7f7\"],[0.6,\"#e6f5d0\"],[0.7,\"#b8e186\"],[0.8,\"#7fbc41\"],[0.9,\"#4d9221\"],[1,\"#276419\"]]},\"xaxis\":{\"gridcolor\":\"white\",\"linecolor\":\"white\",\"ticks\":\"\",\"title\":{\"standoff\":15},\"zerolinecolor\":\"white\",\"automargin\":true,\"zerolinewidth\":2},\"yaxis\":{\"gridcolor\":\"white\",\"linecolor\":\"white\",\"ticks\":\"\",\"title\":{\"standoff\":15},\"zerolinecolor\":\"white\",\"automargin\":true,\"zerolinewidth\":2},\"scene\":{\"xaxis\":{\"backgroundcolor\":\"#E5ECF6\",\"gridcolor\":\"white\",\"linecolor\":\"white\",\"showbackground\":true,\"ticks\":\"\",\"zerolinecolor\":\"white\",\"gridwidth\":2},\"yaxis\":{\"backgroundcolor\":\"#E5ECF6\",\"gridcolor\":\"white\",\"linecolor\":\"white\",\"showbackground\":true,\"ticks\":\"\",\"zerolinecolor\":\"white\",\"gridwidth\":2},\"zaxis\":{\"backgroundcolor\":\"#E5ECF6\",\"gridcolor\":\"white\",\"linecolor\":\"white\",\"showbackground\":true,\"ticks\":\"\",\"zerolinecolor\":\"white\",\"gridwidth\":2}},\"shapedefaults\":{\"line\":{\"color\":\"#2a3f5f\"}},\"annotationdefaults\":{\"arrowcolor\":\"#2a3f5f\",\"arrowhead\":0,\"arrowwidth\":1},\"geo\":{\"bgcolor\":\"white\",\"landcolor\":\"#E5ECF6\",\"subunitcolor\":\"white\",\"showland\":true,\"showlakes\":true,\"lakecolor\":\"white\"},\"title\":{\"x\":0.05},\"mapbox\":{\"style\":\"light\"}}},\"shapes\":[{\"line\":{\"dash\":\"dash\",\"width\":1},\"opacity\":0.5,\"type\":\"line\",\"x0\":0,\"x1\":1,\"xref\":\"x domain\",\"y0\":70,\"y1\":70,\"yref\":\"y\"},{\"line\":{\"dash\":\"dash\",\"width\":1},\"opacity\":0.5,\"type\":\"line\",\"x0\":0,\"x1\":1,\"xref\":\"x domain\",\"y0\":80,\"y1\":80,\"yref\":\"y\"},{\"line\":{\"dash\":\"dash\",\"width\":1},\"opacity\":0.5,\"type\":\"line\",\"x0\":0,\"x1\":1,\"xref\":\"x domain\",\"y0\":90,\"y1\":90,\"yref\":\"y\"}],\"annotations\":[{\"align\":\"right\",\"borderpad\":0,\"font\":{\"color\":\"gray\",\"size\":10},\"showarrow\":false,\"text\":\"70% (9 dims)\",\"x\":0.995,\"xanchor\":\"right\",\"xref\":\"paper\",\"y\":70,\"yref\":\"y\",\"yshift\":-10},{\"align\":\"right\",\"borderpad\":0,\"font\":{\"color\":\"gray\",\"size\":10},\"showarrow\":false,\"text\":\"80% (16 dims)\",\"x\":0.995,\"xanchor\":\"right\",\"xref\":\"paper\",\"y\":80,\"yref\":\"y\",\"yshift\":-10},{\"align\":\"right\",\"borderpad\":0,\"font\":{\"color\":\"gray\",\"size\":10},\"showarrow\":false,\"text\":\"90% (35 dims)\",\"x\":0.995,\"xanchor\":\"right\",\"xref\":\"paper\",\"y\":90,\"yref\":\"y\",\"yshift\":-10}],\"title\":{\"subtitle\":{\"text\":\"Llama 3.3 70B, Layer 40 - 240 Total Components\"},\"text\":\"Variance Explained by Trait Role PC Components\"},\"legend\":{\"orientation\":\"h\",\"yanchor\":\"bottom\",\"y\":1.02,\"xanchor\":\"right\",\"x\":1},\"margin\":{\"t\":120},\"xaxis\":{\"title\":{\"text\":\"Principal Component\"}},\"yaxis\":{\"title\":{\"text\":\"Variance Explained (%)\"},\"range\":[0,100.0]},\"hovermode\":\"x unified\",\"width\":800,\"height\":600,\"showlegend\":true},                        {\"responsive\": true}                    ).then(function(){\n",
       "                            \n",
       "var gd = document.getElementById('42b00c6d-fa0c-410d-8678-2bf31cf08f7a');\n",
       "var x = new MutationObserver(function (mutations, observer) {{\n",
       "        var display = window.getComputedStyle(gd).display;\n",
       "        if (!display || display === 'none') {{\n",
       "            console.log([gd, 'removed!']);\n",
       "            Plotly.purge(gd);\n",
       "            observer.disconnect();\n",
       "        }}\n",
       "}});\n",
       "\n",
       "// Listen for the removal of the full notebook cells\n",
       "var notebookContainer = gd.closest('#notebook-container');\n",
       "if (notebookContainer) {{\n",
       "    x.observe(notebookContainer, {childList: true});\n",
       "}}\n",
       "\n",
       "// Listen for the clearing of the current output cell\n",
       "var outputEl = gd.closest('.output');\n",
       "if (outputEl) {{\n",
       "    x.observe(outputEl, {childList: true});\n",
       "}}\n",
       "\n",
       "                        })                };                });            </script>        </div>"
      ]
     },
     "metadata": {},
     "output_type": "display_data"
    }
   ],
   "source": [
    "var_fig = plot_variance_explained(\n",
    "    pca_results['variance_explained'],\n",
    "    title=\"Variance Explained by Trait Role PC Components\",\n",
    "    subtitle=f\"{model_name.replace('-', ' ')}, Layer {layer} - {len(trait_labels)} Total Components\",\n",
    "    max_components=50\n",
    ")\n",
    "var_fig.show()\n",
    "var_fig.write_html(f\"{plot_dir}/variance_explained.html\")"
   ]
  }
 ],
 "metadata": {
  "kernelspec": {
   "display_name": ".venv",
   "language": "python",
   "name": "python3"
  },
  "language_info": {
   "codemirror_mode": {
    "name": "ipython",
    "version": 3
   },
   "file_extension": ".py",
   "mimetype": "text/x-python",
   "name": "python",
   "nbconvert_exporter": "python",
   "pygments_lexer": "ipython3",
   "version": "3.13.5"
  }
 },
 "nbformat": 4,
 "nbformat_minor": 5
}
