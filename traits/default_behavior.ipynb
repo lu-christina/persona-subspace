{
 "cells": [
  {
   "cell_type": "markdown",
   "id": "4e0e72ef",
   "metadata": {},
   "source": [
    "# Default behavior\n"
   ]
  },
  {
   "cell_type": "code",
   "execution_count": 13,
   "id": "28278ed9",
   "metadata": {},
   "outputs": [],
   "source": [
    "import numpy as np\n",
    "import json\n",
    "import os\n",
    "import torch\n",
    "import pandas as pd"
   ]
  },
  {
   "cell_type": "code",
   "execution_count": 14,
   "id": "9d38cd4b",
   "metadata": {},
   "outputs": [],
   "source": [
    "models = [\n",
    "    'gemma-2-27b',\n",
    "    'qwen-3-32b',\n",
    "    'llama-3.3-70b',\n",
    "]\n",
    "\n",
    "scores_path = '/workspace/{model}/traits/default_scores'"
   ]
  },
  {
   "cell_type": "code",
   "execution_count": 15,
   "id": "cc31cf08",
   "metadata": {},
   "outputs": [
    {
     "name": "stdout",
     "output_type": "stream",
     "text": [
      "Loaded scores for 240 traits across 3 models\n",
      "\n",
      "DataFrame shape: (240, 3)\n",
      "\n",
      "Number of NaN values per model:\n",
      "gemma-2-27b      0\n",
      "qwen-3-32b       0\n",
      "llama-3.3-70b    0\n",
      "dtype: int64\n",
      "\n",
      "First few rows:\n"
     ]
    },
    {
     "data": {
      "text/html": [
       "<div>\n",
       "<style scoped>\n",
       "    .dataframe tbody tr th:only-of-type {\n",
       "        vertical-align: middle;\n",
       "    }\n",
       "\n",
       "    .dataframe tbody tr th {\n",
       "        vertical-align: top;\n",
       "    }\n",
       "\n",
       "    .dataframe thead th {\n",
       "        text-align: right;\n",
       "    }\n",
       "</style>\n",
       "<table border=\"1\" class=\"dataframe\">\n",
       "  <thead>\n",
       "    <tr style=\"text-align: right;\">\n",
       "      <th></th>\n",
       "      <th>gemma-2-27b</th>\n",
       "      <th>qwen-3-32b</th>\n",
       "      <th>llama-3.3-70b</th>\n",
       "    </tr>\n",
       "  </thead>\n",
       "  <tbody>\n",
       "    <tr>\n",
       "      <th>absolutist</th>\n",
       "      <td>2.550</td>\n",
       "      <td>10.500</td>\n",
       "      <td>9.550</td>\n",
       "    </tr>\n",
       "    <tr>\n",
       "      <th>grandiose</th>\n",
       "      <td>0.250</td>\n",
       "      <td>0.325</td>\n",
       "      <td>1.125</td>\n",
       "    </tr>\n",
       "    <tr>\n",
       "      <th>relativist</th>\n",
       "      <td>75.100</td>\n",
       "      <td>69.575</td>\n",
       "      <td>67.000</td>\n",
       "    </tr>\n",
       "    <tr>\n",
       "      <th>holistic</th>\n",
       "      <td>88.775</td>\n",
       "      <td>89.925</td>\n",
       "      <td>89.000</td>\n",
       "    </tr>\n",
       "    <tr>\n",
       "      <th>goofy</th>\n",
       "      <td>3.800</td>\n",
       "      <td>4.050</td>\n",
       "      <td>3.825</td>\n",
       "    </tr>\n",
       "  </tbody>\n",
       "</table>\n",
       "</div>"
      ],
      "text/plain": [
       "            gemma-2-27b  qwen-3-32b  llama-3.3-70b\n",
       "absolutist        2.550      10.500          9.550\n",
       "grandiose         0.250       0.325          1.125\n",
       "relativist       75.100      69.575         67.000\n",
       "holistic         88.775      89.925         89.000\n",
       "goofy             3.800       4.050          3.825"
      ]
     },
     "execution_count": 15,
     "metadata": {},
     "output_type": "execute_result"
    }
   ],
   "source": [
    "# Load scores for all traits across different models\n",
    "data = {}\n",
    "\n",
    "for model in models:\n",
    "    model_scores_path = f'/workspace/{model}/traits/default_scores'\n",
    "    model_data = {}\n",
    "    \n",
    "    # Iterate through all trait files\n",
    "    for file in os.listdir(model_scores_path):\n",
    "        if file.endswith('.json'):\n",
    "            trait_name = file.replace('.json', '')\n",
    "            \n",
    "            # Load the JSON file\n",
    "            with open(os.path.join(model_scores_path, file), 'r') as f:\n",
    "                scores = json.load(f)\n",
    "            \n",
    "            # Filter out non-numeric values (refusals, etc.) and calculate mean\n",
    "            numeric_scores = [v for v in scores.values() if isinstance(v, (int, float))]\n",
    "            \n",
    "            if numeric_scores:\n",
    "                mean_score = np.mean(numeric_scores)\n",
    "            else:\n",
    "                # If all values are non-numeric, use NaN\n",
    "                mean_score = np.nan\n",
    "            \n",
    "            model_data[trait_name] = mean_score\n",
    "    \n",
    "    data[model] = model_data\n",
    "\n",
    "# Create DataFrame with traits as rows and models as columns\n",
    "df = pd.DataFrame(data)\n",
    "print(f\"Loaded scores for {len(df)} traits across {len(df.columns)} models\")\n",
    "print(f\"\\nDataFrame shape: {df.shape}\")\n",
    "print(f\"\\nNumber of NaN values per model:\")\n",
    "print(df.isna().sum())\n",
    "print(f\"\\nFirst few rows:\")\n",
    "df.head()"
   ]
  },
  {
   "cell_type": "code",
   "execution_count": 16,
   "id": "1ea73b47",
   "metadata": {},
   "outputs": [
    {
     "name": "stderr",
     "output_type": "stream",
     "text": [
      "/root/git/persona-subspace/.venv/lib/python3.13/site-packages/sklearn/base.py:442: InconsistentVersionWarning:\n",
      "\n",
      "Trying to unpickle estimator PCA from version 1.7.0 when using version 1.7.2. This might lead to breaking code or invalid results. Use at your own risk. For more info please refer to:\n",
      "https://scikit-learn.org/stable/model_persistence.html#security-maintainability-limitations\n",
      "\n",
      "/root/git/persona-subspace/.venv/lib/python3.13/site-packages/sklearn/base.py:442: InconsistentVersionWarning:\n",
      "\n",
      "Trying to unpickle estimator StandardScaler from version 1.7.0 when using version 1.7.2. This might lead to breaking code or invalid results. Use at your own risk. For more info please refer to:\n",
      "https://scikit-learn.org/stable/model_persistence.html#security-maintainability-limitations\n",
      "\n"
     ]
    },
    {
     "data": {
      "text/html": [
       "<div>\n",
       "<style scoped>\n",
       "    .dataframe tbody tr th:only-of-type {\n",
       "        vertical-align: middle;\n",
       "    }\n",
       "\n",
       "    .dataframe tbody tr th {\n",
       "        vertical-align: top;\n",
       "    }\n",
       "\n",
       "    .dataframe thead th {\n",
       "        text-align: right;\n",
       "    }\n",
       "</style>\n",
       "<table border=\"1\" class=\"dataframe\">\n",
       "  <thead>\n",
       "    <tr style=\"text-align: right;\">\n",
       "      <th></th>\n",
       "      <th>label</th>\n",
       "      <th>pc1</th>\n",
       "      <th>pc2</th>\n",
       "      <th>pc3</th>\n",
       "      <th>pc4</th>\n",
       "      <th>pc5</th>\n",
       "    </tr>\n",
       "  </thead>\n",
       "  <tbody>\n",
       "    <tr>\n",
       "      <th>0</th>\n",
       "      <td>zealous</td>\n",
       "      <td>21.558990</td>\n",
       "      <td>-46.148135</td>\n",
       "      <td>-16.244030</td>\n",
       "      <td>-39.555186</td>\n",
       "      <td>24.236954</td>\n",
       "    </tr>\n",
       "    <tr>\n",
       "      <th>1</th>\n",
       "      <td>wry</td>\n",
       "      <td>53.599807</td>\n",
       "      <td>6.029477</td>\n",
       "      <td>-9.867787</td>\n",
       "      <td>-2.250747</td>\n",
       "      <td>-30.484981</td>\n",
       "    </tr>\n",
       "    <tr>\n",
       "      <th>2</th>\n",
       "      <td>witty</td>\n",
       "      <td>8.627841</td>\n",
       "      <td>-65.277900</td>\n",
       "      <td>12.505692</td>\n",
       "      <td>-33.514593</td>\n",
       "      <td>-23.324574</td>\n",
       "    </tr>\n",
       "    <tr>\n",
       "      <th>3</th>\n",
       "      <td>whimsical</td>\n",
       "      <td>24.592243</td>\n",
       "      <td>-59.602846</td>\n",
       "      <td>5.875083</td>\n",
       "      <td>12.541718</td>\n",
       "      <td>16.588861</td>\n",
       "    </tr>\n",
       "    <tr>\n",
       "      <th>4</th>\n",
       "      <td>visceral</td>\n",
       "      <td>52.724652</td>\n",
       "      <td>-6.302639</td>\n",
       "      <td>33.776209</td>\n",
       "      <td>-18.275349</td>\n",
       "      <td>3.769790</td>\n",
       "    </tr>\n",
       "  </tbody>\n",
       "</table>\n",
       "</div>"
      ],
      "text/plain": [
       "       label        pc1        pc2        pc3        pc4        pc5\n",
       "0    zealous  21.558990 -46.148135 -16.244030 -39.555186  24.236954\n",
       "1        wry  53.599807   6.029477  -9.867787  -2.250747 -30.484981\n",
       "2      witty   8.627841 -65.277900  12.505692 -33.514593 -23.324574\n",
       "3  whimsical  24.592243 -59.602846   5.875083  12.541718  16.588861\n",
       "4   visceral  52.724652  -6.302639  33.776209 -18.275349   3.769790"
      ]
     },
     "execution_count": 16,
     "metadata": {},
     "output_type": "execute_result"
    }
   ],
   "source": [
    "# now get the top 5 traits for the top 5 PC traits for one of the models\n",
    "import torch\n",
    "\n",
    "pca_results = torch.load('/workspace/llama-3.3-70b/traits_240/pca/layer40_pos-neg50.pt', weights_only=False)\n",
    "labels = pca_results['traits']['pos_neg_50']\n",
    "\n",
    "traits_df = pd.DataFrame({\n",
    "    'label': labels,\n",
    "    'pc1': pca_results['pca_transformed'][:, 0],\n",
    "    'pc2': pca_results['pca_transformed'][:, 1],\n",
    "    'pc3': pca_results['pca_transformed'][:, 2],\n",
    "    'pc4': pca_results['pca_transformed'][:, 3],\n",
    "    'pc5': pca_results['pca_transformed'][:, 4],\n",
    "})\n",
    "\n",
    "traits_df.head(5)\n"
   ]
  },
  {
   "cell_type": "code",
   "execution_count": 17,
   "id": "0b983a1e",
   "metadata": {},
   "outputs": [
    {
     "name": "stdout",
     "output_type": "stream",
     "text": [
      "PC1\n",
      "bottom_5_traits: ['supportive', 'conscientious', 'nurturing', 'resilient', 'earnest']\n",
      "top_5_traits: ['bitter', 'cruel', 'hostile', 'nonchalant', 'flippant']\n",
      "PC2\n",
      "bottom_5_traits: ['animated', 'charismatic', 'metaphorical', 'dramatic', 'poetic']\n",
      "top_5_traits: ['rationalist', 'detached', 'understated', 'reserved', 'dispassionate']\n",
      "PC3\n",
      "bottom_5_traits: ['bombastic', 'ritualistic', 'meticulous', 'solemn', 'formal']\n",
      "top_5_traits: ['understated', 'accessible', 'naive', 'chill', 'casual']\n",
      "PC4\n",
      "bottom_5_traits: ['sassy', 'animated', 'charismatic', 'decisive', 'problem_solving']\n",
      "top_5_traits: ['serene', 'cryptic', 'understated', 'enigmatic', 'meditative']\n",
      "PC5\n",
      "bottom_5_traits: ['exploratory', 'verbose', 'generous', 'circumspect', 'challenging']\n",
      "top_5_traits: ['decisive', 'reverent', 'concise', 'confident', 'naive']\n",
      "PC1\n",
      "bottom_5_traits: ['supportive', 'conscientious', 'nurturing', 'resilient', 'earnest']\n",
      "top_5_traits: ['bitter', 'cruel', 'hostile', 'nonchalant', 'flippant']\n",
      "PC2\n",
      "bottom_5_traits: ['animated', 'charismatic', 'metaphorical', 'dramatic', 'poetic']\n",
      "top_5_traits: ['rationalist', 'detached', 'understated', 'reserved', 'dispassionate']\n",
      "PC3\n",
      "bottom_5_traits: ['bombastic', 'ritualistic', 'meticulous', 'solemn', 'formal']\n",
      "top_5_traits: ['understated', 'accessible', 'naive', 'chill', 'casual']\n",
      "PC4\n",
      "bottom_5_traits: ['sassy', 'animated', 'charismatic', 'decisive', 'problem_solving']\n",
      "top_5_traits: ['serene', 'cryptic', 'understated', 'enigmatic', 'meditative']\n",
      "PC5\n",
      "bottom_5_traits: ['exploratory', 'verbose', 'generous', 'circumspect', 'challenging']\n",
      "top_5_traits: ['decisive', 'reverent', 'concise', 'confident', 'naive']\n",
      "PC1\n",
      "bottom_5_traits: ['supportive', 'conscientious', 'nurturing', 'resilient', 'earnest']\n",
      "top_5_traits: ['bitter', 'cruel', 'hostile', 'nonchalant', 'flippant']\n",
      "PC2\n",
      "bottom_5_traits: ['animated', 'charismatic', 'metaphorical', 'dramatic', 'poetic']\n",
      "top_5_traits: ['rationalist', 'detached', 'understated', 'reserved', 'dispassionate']\n",
      "PC3\n",
      "bottom_5_traits: ['bombastic', 'ritualistic', 'meticulous', 'solemn', 'formal']\n",
      "top_5_traits: ['understated', 'accessible', 'naive', 'chill', 'casual']\n",
      "PC4\n",
      "bottom_5_traits: ['sassy', 'animated', 'charismatic', 'decisive', 'problem_solving']\n",
      "top_5_traits: ['serene', 'cryptic', 'understated', 'enigmatic', 'meditative']\n",
      "PC5\n",
      "bottom_5_traits: ['exploratory', 'verbose', 'generous', 'circumspect', 'challenging']\n",
      "top_5_traits: ['decisive', 'reverent', 'concise', 'confident', 'naive']\n",
      "PC statistics (mean scores for top 5 and bottom 5 traits):\n"
     ]
    },
    {
     "data": {
      "text/html": [
       "<div>\n",
       "<style scoped>\n",
       "    .dataframe tbody tr th:only-of-type {\n",
       "        vertical-align: middle;\n",
       "    }\n",
       "\n",
       "    .dataframe tbody tr th {\n",
       "        vertical-align: top;\n",
       "    }\n",
       "\n",
       "    .dataframe thead th {\n",
       "        text-align: right;\n",
       "    }\n",
       "</style>\n",
       "<table border=\"1\" class=\"dataframe\">\n",
       "  <thead>\n",
       "    <tr style=\"text-align: right;\">\n",
       "      <th></th>\n",
       "      <th>pc1_low</th>\n",
       "      <th>pc1_high</th>\n",
       "      <th>pc2_low</th>\n",
       "      <th>pc2_high</th>\n",
       "      <th>pc3_low</th>\n",
       "      <th>pc3_high</th>\n",
       "      <th>pc4_low</th>\n",
       "      <th>pc4_high</th>\n",
       "      <th>pc5_low</th>\n",
       "      <th>pc5_high</th>\n",
       "    </tr>\n",
       "  </thead>\n",
       "  <tbody>\n",
       "    <tr>\n",
       "      <th>gemma-2-27b</th>\n",
       "      <td>88.615</td>\n",
       "      <td>1.110</td>\n",
       "      <td>34.813</td>\n",
       "      <td>71.335000</td>\n",
       "      <td>66.480</td>\n",
       "      <td>42.605</td>\n",
       "      <td>42.533</td>\n",
       "      <td>38.785</td>\n",
       "      <td>79.425</td>\n",
       "      <td>32.205</td>\n",
       "    </tr>\n",
       "    <tr>\n",
       "      <th>qwen-3-32b</th>\n",
       "      <td>92.382</td>\n",
       "      <td>0.490</td>\n",
       "      <td>39.587</td>\n",
       "      <td>60.178434</td>\n",
       "      <td>74.615</td>\n",
       "      <td>38.085</td>\n",
       "      <td>52.992</td>\n",
       "      <td>38.765</td>\n",
       "      <td>81.250</td>\n",
       "      <td>41.740</td>\n",
       "    </tr>\n",
       "    <tr>\n",
       "      <th>llama-3.3-70b</th>\n",
       "      <td>90.660</td>\n",
       "      <td>0.455</td>\n",
       "      <td>34.995</td>\n",
       "      <td>64.290000</td>\n",
       "      <td>73.115</td>\n",
       "      <td>34.815</td>\n",
       "      <td>47.990</td>\n",
       "      <td>36.015</td>\n",
       "      <td>79.190</td>\n",
       "      <td>35.825</td>\n",
       "    </tr>\n",
       "  </tbody>\n",
       "</table>\n",
       "</div>"
      ],
      "text/plain": [
       "               pc1_low  pc1_high  pc2_low   pc2_high  pc3_low  pc3_high  \\\n",
       "gemma-2-27b     88.615     1.110   34.813  71.335000   66.480    42.605   \n",
       "qwen-3-32b      92.382     0.490   39.587  60.178434   74.615    38.085   \n",
       "llama-3.3-70b   90.660     0.455   34.995  64.290000   73.115    34.815   \n",
       "\n",
       "               pc4_low  pc4_high  pc5_low  pc5_high  \n",
       "gemma-2-27b     42.533    38.785   79.425    32.205  \n",
       "qwen-3-32b      52.992    38.765   81.250    41.740  \n",
       "llama-3.3-70b   47.990    36.015   79.190    35.825  "
      ]
     },
     "execution_count": 17,
     "metadata": {},
     "output_type": "execute_result"
    }
   ],
   "source": [
    "# Calculate pc{i}_low and pc{i}_high for each PC and each model\n",
    "pc_stats = {}\n",
    "\n",
    "for model in models:\n",
    "    model_stats = {}\n",
    "    \n",
    "    for i in range(1, 6):  # PC1 through PC5\n",
    "        pc_col = f'pc{i}'\n",
    "        \n",
    "        # Sort by PC value to get top 5 and bottom 5\n",
    "        sorted_traits = traits_df.sort_values(pc_col)\n",
    "        \n",
    "        # Get bottom 5 (low) and top 5 (high) trait names\n",
    "        bottom_5_traits = sorted_traits.head(5)['label'].tolist()\n",
    "        print(f\"PC{i}\")\n",
    "        print(f\"bottom_5_traits: {bottom_5_traits}\")\n",
    "        top_5_traits = sorted_traits.tail(5)['label'].tolist()\n",
    "        print(f\"top_5_traits: {top_5_traits}\")\n",
    "        # Calculate mean scores for these traits from the model's scores\n",
    "        # Filter out NaN values in case any trait is missing\n",
    "        bottom_5_scores = [df.loc[trait, model] for trait in bottom_5_traits if trait in df.index]\n",
    "        top_5_scores = [df.loc[trait, model] for trait in top_5_traits if trait in df.index]\n",
    "        \n",
    "        model_stats[f'pc{i}_low'] = np.mean(bottom_5_scores) if bottom_5_scores else np.nan\n",
    "        model_stats[f'pc{i}_high'] = np.mean(top_5_scores) if top_5_scores else np.nan\n",
    "    \n",
    "    pc_stats[model] = model_stats\n",
    "\n",
    "# Create DataFrame for easy viewing\n",
    "pc_stats_df = pd.DataFrame(pc_stats).T\n",
    "print(\"PC statistics (mean scores for top 5 and bottom 5 traits):\")\n",
    "pc_stats_df"
   ]
  },
  {
   "cell_type": "code",
   "execution_count": 69,
   "id": "07b3310d",
   "metadata": {},
   "outputs": [
    {
     "name": "stdout",
     "output_type": "stream",
     "text": [
      "Top 5 PC Loadings for gemma-2-27b projected into gemma-2-27b's trait space:\n",
      "tensor([-16.7774, -17.5412,  -9.9381,  -7.4385,   4.1118], dtype=torch.float64)\n",
      "\n",
      "\n",
      "Top 5 PC Loadings for qwen-3-32b projected into gemma-2-27b's trait space:\n",
      "tensor([-20.0446, -16.0493,  -8.9185,  -6.7037,   5.0574], dtype=torch.float64)\n",
      "\n",
      "\n",
      "Top 5 PC Loadings for llama-3.3-70b projected into gemma-2-27b's trait space:\n",
      "tensor([-23.8249, -18.1947,  -8.6698,  -4.9781,   3.3518], dtype=torch.float64)\n",
      "\n",
      "\n",
      "----------------------------------------------------------------------------------------------------\n",
      "Top 5 PC Loadings for gemma-2-27b projected into qwen-3-32b's trait space:\n",
      "tensor([ 33.9885,  -6.3186, -16.7539,  32.7086,  -2.9828], dtype=torch.float64)\n",
      "\n",
      "\n",
      "Top 5 PC Loadings for qwen-3-32b projected into qwen-3-32b's trait space:\n",
      "tensor([ 37.2324,   2.5526, -16.6726,  16.1802,  -7.9260], dtype=torch.float64)\n",
      "\n",
      "\n",
      "Top 5 PC Loadings for llama-3.3-70b projected into qwen-3-32b's trait space:\n",
      "tensor([ 38.8172,   2.9463, -19.4193,  24.9273,  -7.9087], dtype=torch.float64)\n",
      "\n",
      "\n",
      "----------------------------------------------------------------------------------------------------\n",
      "Top 5 PC Loadings for gemma-2-27b projected into llama-3.3-70b's trait space:\n",
      "tensor([-29.3433,  19.1567,  16.2715,   0.7779,  -1.7949], dtype=torch.float64)\n",
      "\n",
      "\n",
      "Top 5 PC Loadings for qwen-3-32b projected into llama-3.3-70b's trait space:\n",
      "tensor([-23.2153,  22.5922,  14.7392,   0.7070,   6.7289], dtype=torch.float64)\n",
      "\n",
      "\n",
      "Top 5 PC Loadings for llama-3.3-70b projected into llama-3.3-70b's trait space:\n",
      "tensor([-40.6454,  14.9447,  13.8961,  -1.3794,  -7.4081], dtype=torch.float64)\n",
      "\n",
      "\n",
      "----------------------------------------------------------------------------------------------------\n"
     ]
    }
   ],
   "source": [
    "# load in each model's default responses projected into llama's trait space\n",
    "\n",
    "projected = {}\n",
    "\n",
    "for model_a in models:\n",
    "    projected[model_a] = {}\n",
    "    for model_b in models:\n",
    "        projected_path = f'/workspace/{model_a}/traits/{model_b}/overall_mean.pt'\n",
    "        projected[model_a][model_b] = torch.load(projected_path, weights_only=False)\n",
    "        print(f\"Top 5 PC Loadings for {model_b} projected into {model_a}'s trait space:\")\n",
    "        print(projected[model_a][model_b]['mean_activation_projected'][:5])\n",
    "        print(\"\\n\")\n",
    "    print(\"-\"*100)\n",
    "\n",
    "for model in models:\n",
    "    projected[model] = torch.load(f'/workspace/llama-3.3-70b/traits/{model}/overall_mean.pt', weights_only=False)\n"
   ]
  },
  {
   "cell_type": "code",
   "execution_count": null,
   "id": "4195ec3a",
   "metadata": {},
   "outputs": [
    {
     "name": "stdout",
     "output_type": "stream",
     "text": [
      "torch.Size([80, 8192])\n"
     ]
    }
   ],
   "source": [
    "print(projected['llama-3.3-70b']['mean_activation'].shape)\n"
   ]
  },
  {
   "cell_type": "code",
   "execution_count": 62,
   "id": "868b77f1",
   "metadata": {},
   "outputs": [
    {
     "name": "stdout",
     "output_type": "stream",
     "text": [
      "PC1: min=-100.58, max=86.01\n",
      "PC2: min=-94.68, max=83.44\n",
      "PC3: min=-77.38, max=75.33\n",
      "PC4: min=-67.35, max=72.82\n",
      "PC5: min=-55.03, max=55.32\n",
      "\n",
      "plot1_axes: ['-100.58', '83.44', '-77.38', '-67.35', '-55.03']\n",
      "plot2_axes: ['86.01', '-94.68', '75.33', '72.82', '55.32']\n"
     ]
    }
   ],
   "source": [
    "# Calculate axis max values for each PC dimension\n",
    "# For plot1: pc1_low, pc2_high, pc3_low, pc4_low, pc5_low\n",
    "# For plot2: pc1_high, pc2_low, pc3_high, pc4_high, pc5_high\n",
    "\n",
    "plot1_axes = []\n",
    "plot2_axes = []\n",
    "\n",
    "for i in range(5):\n",
    "    pc_min = min(pca_results['pca_transformed'][:, i])\n",
    "    pc_max = max(pca_results['pca_transformed'][:, i])\n",
    "    \n",
    "    # For plot1_contents: ['pc1_low', 'pc2_high', 'pc3_low', 'pc4_low', 'pc5_low']\n",
    "    if i == 1:  # PC2 uses _high, so use max\n",
    "        plot1_axes.append(pc_max)\n",
    "    else:  # PC1, PC3, PC4, PC5 use _low, so use min\n",
    "        plot1_axes.append(pc_min)\n",
    "    \n",
    "    # For plot2_contents: ['pc1_high', 'pc2_low', 'pc3_high', 'pc4_high', 'pc5_high']\n",
    "    if i == 1:  # PC2 uses _low, so use min\n",
    "        plot2_axes.append(pc_min)\n",
    "    else:  # PC1, PC3, PC4, PC5 use _high, so use max\n",
    "        plot2_axes.append(pc_max)\n",
    "    \n",
    "    print(f\"PC{i+1}: min={pc_min:.2f}, max={pc_max:.2f}\")\n",
    "\n",
    "print(f\"\\nplot1_axes: {[f'{x:.2f}' for x in plot1_axes]}\")\n",
    "print(f\"plot2_axes: {[f'{x:.2f}' for x in plot2_axes]}\")\n"
   ]
  },
  {
   "cell_type": "code",
   "execution_count": 68,
   "id": "120ef23a",
   "metadata": {},
   "outputs": [
    {
     "data": {
      "application/vnd.plotly.v1+json": {
       "config": {
        "plotlyServerURL": "https://plot.ly"
       },
       "data": [
        {
         "line": {
          "color": "rgb(31, 119, 180)"
         },
         "name": "gemma-2-27b",
         "r": [
          88.615,
          71.335,
          66.47999999999999,
          42.533,
          79.425,
          88.615
         ],
         "showlegend": true,
         "subplot": "polar",
         "theta": [
          "Agreeable",
          "Analytical",
          "Formal",
          "Dynamic",
          "Exploratory",
          "Agreeable"
         ],
         "type": "scatterpolar"
        },
        {
         "line": {
          "color": "rgb(31, 119, 180)"
         },
         "name": "gemma-2-27b",
         "r": [
          29.343291229897865,
          19.747179942292828,
          18.085965698834993,
          0.9934020808698801,
          2.7906626880145855,
          29.343291229897865
         ],
         "showlegend": false,
         "subplot": "polar2",
         "theta": [
          "Agreeable",
          "Analytical",
          "Formal",
          "Dynamic",
          "Exploratory",
          "Agreeable"
         ],
         "type": "scatterpolar"
        },
        {
         "line": {
          "color": "rgb(255, 127, 14)"
         },
         "name": "qwen-3-32b",
         "r": [
          92.382,
          60.17843434343435,
          74.615,
          52.992000000000004,
          81.25,
          92.382
         ],
         "showlegend": true,
         "subplot": "polar",
         "theta": [
          "Agreeable",
          "Analytical",
          "Formal",
          "Dynamic",
          "Exploratory",
          "Agreeable"
         ],
         "type": "scatterpolar"
        },
        {
         "line": {
          "color": "rgb(255, 127, 14)"
         },
         "name": "qwen-3-32b",
         "r": [
          23.215328471817873,
          23.288607153323504,
          16.38281087463384,
          0.9028774688215151,
          10.517472036876136,
          23.215328471817873
         ],
         "showlegend": false,
         "subplot": "polar2",
         "theta": [
          "Agreeable",
          "Analytical",
          "Formal",
          "Dynamic",
          "Exploratory",
          "Agreeable"
         ],
         "type": "scatterpolar"
        },
        {
         "line": {
          "color": "rgb(44, 160, 44)"
         },
         "name": "llama-3.3-70b",
         "r": [
          90.66,
          64.28999999999999,
          73.115,
          47.989999999999995,
          79.19,
          90.66
         ],
         "showlegend": true,
         "subplot": "polar",
         "theta": [
          "Agreeable",
          "Analytical",
          "Formal",
          "Dynamic",
          "Exploratory",
          "Agreeable"
         ],
         "type": "scatterpolar"
        },
        {
         "line": {
          "color": "rgb(44, 160, 44)"
         },
         "name": "llama-3.3-70b",
         "r": [
          40.645445018993065,
          15.405405757247316,
          15.445617560117118,
          1.6293603176587728,
          11.518021873021441,
          40.645445018993065
         ],
         "showlegend": false,
         "subplot": "polar2",
         "theta": [
          "Agreeable",
          "Analytical",
          "Formal",
          "Dynamic",
          "Exploratory",
          "Agreeable"
         ],
         "type": "scatterpolar"
        }
       ],
       "layout": {
        "annotations": [
         {
          "font": {
           "size": 16
          },
          "showarrow": false,
          "text": "Behavior Scores",
          "x": 0.225,
          "xanchor": "center",
          "xref": "paper",
          "y": 1,
          "yanchor": "bottom",
          "yref": "paper"
         },
         {
          "font": {
           "size": 16
          },
          "showarrow": false,
          "text": "Projected Activations in Trait PC Space",
          "x": 0.775,
          "xanchor": "center",
          "xref": "paper",
          "y": 1,
          "yanchor": "bottom",
          "yref": "paper"
         }
        ],
        "height": 500,
        "polar": {
         "domain": {
          "x": [
           0,
           0.45
          ],
          "y": [
           0,
           1
          ]
         },
         "radialaxis": {
          "range": [
           0,
           100
          ],
          "showticklabels": false
         }
        },
        "polar2": {
         "domain": {
          "x": [
           0.55,
           1
          ],
          "y": [
           0,
           1
          ]
         },
         "radialaxis": {
          "range": [
           -86.0099898157268,
           86.0099898157268
          ],
          "showticklabels": false
         }
        },
        "showlegend": true,
        "template": {
         "data": {
          "bar": [
           {
            "error_x": {
             "color": "#2a3f5f"
            },
            "error_y": {
             "color": "#2a3f5f"
            },
            "marker": {
             "line": {
              "color": "#E5ECF6",
              "width": 0.5
             },
             "pattern": {
              "fillmode": "overlay",
              "size": 10,
              "solidity": 0.2
             }
            },
            "type": "bar"
           }
          ],
          "barpolar": [
           {
            "marker": {
             "line": {
              "color": "#E5ECF6",
              "width": 0.5
             },
             "pattern": {
              "fillmode": "overlay",
              "size": 10,
              "solidity": 0.2
             }
            },
            "type": "barpolar"
           }
          ],
          "carpet": [
           {
            "aaxis": {
             "endlinecolor": "#2a3f5f",
             "gridcolor": "white",
             "linecolor": "white",
             "minorgridcolor": "white",
             "startlinecolor": "#2a3f5f"
            },
            "baxis": {
             "endlinecolor": "#2a3f5f",
             "gridcolor": "white",
             "linecolor": "white",
             "minorgridcolor": "white",
             "startlinecolor": "#2a3f5f"
            },
            "type": "carpet"
           }
          ],
          "choropleth": [
           {
            "colorbar": {
             "outlinewidth": 0,
             "ticks": ""
            },
            "type": "choropleth"
           }
          ],
          "contour": [
           {
            "colorbar": {
             "outlinewidth": 0,
             "ticks": ""
            },
            "colorscale": [
             [
              0,
              "#0d0887"
             ],
             [
              0.1111111111111111,
              "#46039f"
             ],
             [
              0.2222222222222222,
              "#7201a8"
             ],
             [
              0.3333333333333333,
              "#9c179e"
             ],
             [
              0.4444444444444444,
              "#bd3786"
             ],
             [
              0.5555555555555556,
              "#d8576b"
             ],
             [
              0.6666666666666666,
              "#ed7953"
             ],
             [
              0.7777777777777778,
              "#fb9f3a"
             ],
             [
              0.8888888888888888,
              "#fdca26"
             ],
             [
              1,
              "#f0f921"
             ]
            ],
            "type": "contour"
           }
          ],
          "contourcarpet": [
           {
            "colorbar": {
             "outlinewidth": 0,
             "ticks": ""
            },
            "type": "contourcarpet"
           }
          ],
          "heatmap": [
           {
            "colorbar": {
             "outlinewidth": 0,
             "ticks": ""
            },
            "colorscale": [
             [
              0,
              "#0d0887"
             ],
             [
              0.1111111111111111,
              "#46039f"
             ],
             [
              0.2222222222222222,
              "#7201a8"
             ],
             [
              0.3333333333333333,
              "#9c179e"
             ],
             [
              0.4444444444444444,
              "#bd3786"
             ],
             [
              0.5555555555555556,
              "#d8576b"
             ],
             [
              0.6666666666666666,
              "#ed7953"
             ],
             [
              0.7777777777777778,
              "#fb9f3a"
             ],
             [
              0.8888888888888888,
              "#fdca26"
             ],
             [
              1,
              "#f0f921"
             ]
            ],
            "type": "heatmap"
           }
          ],
          "heatmapgl": [
           {
            "colorbar": {
             "outlinewidth": 0,
             "ticks": ""
            },
            "colorscale": [
             [
              0,
              "#0d0887"
             ],
             [
              0.1111111111111111,
              "#46039f"
             ],
             [
              0.2222222222222222,
              "#7201a8"
             ],
             [
              0.3333333333333333,
              "#9c179e"
             ],
             [
              0.4444444444444444,
              "#bd3786"
             ],
             [
              0.5555555555555556,
              "#d8576b"
             ],
             [
              0.6666666666666666,
              "#ed7953"
             ],
             [
              0.7777777777777778,
              "#fb9f3a"
             ],
             [
              0.8888888888888888,
              "#fdca26"
             ],
             [
              1,
              "#f0f921"
             ]
            ],
            "type": "heatmapgl"
           }
          ],
          "histogram": [
           {
            "marker": {
             "pattern": {
              "fillmode": "overlay",
              "size": 10,
              "solidity": 0.2
             }
            },
            "type": "histogram"
           }
          ],
          "histogram2d": [
           {
            "colorbar": {
             "outlinewidth": 0,
             "ticks": ""
            },
            "colorscale": [
             [
              0,
              "#0d0887"
             ],
             [
              0.1111111111111111,
              "#46039f"
             ],
             [
              0.2222222222222222,
              "#7201a8"
             ],
             [
              0.3333333333333333,
              "#9c179e"
             ],
             [
              0.4444444444444444,
              "#bd3786"
             ],
             [
              0.5555555555555556,
              "#d8576b"
             ],
             [
              0.6666666666666666,
              "#ed7953"
             ],
             [
              0.7777777777777778,
              "#fb9f3a"
             ],
             [
              0.8888888888888888,
              "#fdca26"
             ],
             [
              1,
              "#f0f921"
             ]
            ],
            "type": "histogram2d"
           }
          ],
          "histogram2dcontour": [
           {
            "colorbar": {
             "outlinewidth": 0,
             "ticks": ""
            },
            "colorscale": [
             [
              0,
              "#0d0887"
             ],
             [
              0.1111111111111111,
              "#46039f"
             ],
             [
              0.2222222222222222,
              "#7201a8"
             ],
             [
              0.3333333333333333,
              "#9c179e"
             ],
             [
              0.4444444444444444,
              "#bd3786"
             ],
             [
              0.5555555555555556,
              "#d8576b"
             ],
             [
              0.6666666666666666,
              "#ed7953"
             ],
             [
              0.7777777777777778,
              "#fb9f3a"
             ],
             [
              0.8888888888888888,
              "#fdca26"
             ],
             [
              1,
              "#f0f921"
             ]
            ],
            "type": "histogram2dcontour"
           }
          ],
          "mesh3d": [
           {
            "colorbar": {
             "outlinewidth": 0,
             "ticks": ""
            },
            "type": "mesh3d"
           }
          ],
          "parcoords": [
           {
            "line": {
             "colorbar": {
              "outlinewidth": 0,
              "ticks": ""
             }
            },
            "type": "parcoords"
           }
          ],
          "pie": [
           {
            "automargin": true,
            "type": "pie"
           }
          ],
          "scatter": [
           {
            "fillpattern": {
             "fillmode": "overlay",
             "size": 10,
             "solidity": 0.2
            },
            "type": "scatter"
           }
          ],
          "scatter3d": [
           {
            "line": {
             "colorbar": {
              "outlinewidth": 0,
              "ticks": ""
             }
            },
            "marker": {
             "colorbar": {
              "outlinewidth": 0,
              "ticks": ""
             }
            },
            "type": "scatter3d"
           }
          ],
          "scattercarpet": [
           {
            "marker": {
             "colorbar": {
              "outlinewidth": 0,
              "ticks": ""
             }
            },
            "type": "scattercarpet"
           }
          ],
          "scattergeo": [
           {
            "marker": {
             "colorbar": {
              "outlinewidth": 0,
              "ticks": ""
             }
            },
            "type": "scattergeo"
           }
          ],
          "scattergl": [
           {
            "marker": {
             "colorbar": {
              "outlinewidth": 0,
              "ticks": ""
             }
            },
            "type": "scattergl"
           }
          ],
          "scattermapbox": [
           {
            "marker": {
             "colorbar": {
              "outlinewidth": 0,
              "ticks": ""
             }
            },
            "type": "scattermapbox"
           }
          ],
          "scatterpolar": [
           {
            "marker": {
             "colorbar": {
              "outlinewidth": 0,
              "ticks": ""
             }
            },
            "type": "scatterpolar"
           }
          ],
          "scatterpolargl": [
           {
            "marker": {
             "colorbar": {
              "outlinewidth": 0,
              "ticks": ""
             }
            },
            "type": "scatterpolargl"
           }
          ],
          "scatterternary": [
           {
            "marker": {
             "colorbar": {
              "outlinewidth": 0,
              "ticks": ""
             }
            },
            "type": "scatterternary"
           }
          ],
          "surface": [
           {
            "colorbar": {
             "outlinewidth": 0,
             "ticks": ""
            },
            "colorscale": [
             [
              0,
              "#0d0887"
             ],
             [
              0.1111111111111111,
              "#46039f"
             ],
             [
              0.2222222222222222,
              "#7201a8"
             ],
             [
              0.3333333333333333,
              "#9c179e"
             ],
             [
              0.4444444444444444,
              "#bd3786"
             ],
             [
              0.5555555555555556,
              "#d8576b"
             ],
             [
              0.6666666666666666,
              "#ed7953"
             ],
             [
              0.7777777777777778,
              "#fb9f3a"
             ],
             [
              0.8888888888888888,
              "#fdca26"
             ],
             [
              1,
              "#f0f921"
             ]
            ],
            "type": "surface"
           }
          ],
          "table": [
           {
            "cells": {
             "fill": {
              "color": "#EBF0F8"
             },
             "line": {
              "color": "white"
             }
            },
            "header": {
             "fill": {
              "color": "#C8D4E3"
             },
             "line": {
              "color": "white"
             }
            },
            "type": "table"
           }
          ]
         },
         "layout": {
          "annotationdefaults": {
           "arrowcolor": "#2a3f5f",
           "arrowhead": 0,
           "arrowwidth": 1
          },
          "autotypenumbers": "strict",
          "coloraxis": {
           "colorbar": {
            "outlinewidth": 0,
            "ticks": ""
           }
          },
          "colorscale": {
           "diverging": [
            [
             0,
             "#8e0152"
            ],
            [
             0.1,
             "#c51b7d"
            ],
            [
             0.2,
             "#de77ae"
            ],
            [
             0.3,
             "#f1b6da"
            ],
            [
             0.4,
             "#fde0ef"
            ],
            [
             0.5,
             "#f7f7f7"
            ],
            [
             0.6,
             "#e6f5d0"
            ],
            [
             0.7,
             "#b8e186"
            ],
            [
             0.8,
             "#7fbc41"
            ],
            [
             0.9,
             "#4d9221"
            ],
            [
             1,
             "#276419"
            ]
           ],
           "sequential": [
            [
             0,
             "#0d0887"
            ],
            [
             0.1111111111111111,
             "#46039f"
            ],
            [
             0.2222222222222222,
             "#7201a8"
            ],
            [
             0.3333333333333333,
             "#9c179e"
            ],
            [
             0.4444444444444444,
             "#bd3786"
            ],
            [
             0.5555555555555556,
             "#d8576b"
            ],
            [
             0.6666666666666666,
             "#ed7953"
            ],
            [
             0.7777777777777778,
             "#fb9f3a"
            ],
            [
             0.8888888888888888,
             "#fdca26"
            ],
            [
             1,
             "#f0f921"
            ]
           ],
           "sequentialminus": [
            [
             0,
             "#0d0887"
            ],
            [
             0.1111111111111111,
             "#46039f"
            ],
            [
             0.2222222222222222,
             "#7201a8"
            ],
            [
             0.3333333333333333,
             "#9c179e"
            ],
            [
             0.4444444444444444,
             "#bd3786"
            ],
            [
             0.5555555555555556,
             "#d8576b"
            ],
            [
             0.6666666666666666,
             "#ed7953"
            ],
            [
             0.7777777777777778,
             "#fb9f3a"
            ],
            [
             0.8888888888888888,
             "#fdca26"
            ],
            [
             1,
             "#f0f921"
            ]
           ]
          },
          "colorway": [
           "#636efa",
           "#EF553B",
           "#00cc96",
           "#ab63fa",
           "#FFA15A",
           "#19d3f3",
           "#FF6692",
           "#B6E880",
           "#FF97FF",
           "#FECB52"
          ],
          "font": {
           "color": "#2a3f5f"
          },
          "geo": {
           "bgcolor": "white",
           "lakecolor": "white",
           "landcolor": "#E5ECF6",
           "showlakes": true,
           "showland": true,
           "subunitcolor": "white"
          },
          "hoverlabel": {
           "align": "left"
          },
          "hovermode": "closest",
          "mapbox": {
           "style": "light"
          },
          "paper_bgcolor": "white",
          "plot_bgcolor": "#E5ECF6",
          "polar": {
           "angularaxis": {
            "gridcolor": "white",
            "linecolor": "white",
            "ticks": ""
           },
           "bgcolor": "#E5ECF6",
           "radialaxis": {
            "gridcolor": "white",
            "linecolor": "white",
            "ticks": ""
           }
          },
          "scene": {
           "xaxis": {
            "backgroundcolor": "#E5ECF6",
            "gridcolor": "white",
            "gridwidth": 2,
            "linecolor": "white",
            "showbackground": true,
            "ticks": "",
            "zerolinecolor": "white"
           },
           "yaxis": {
            "backgroundcolor": "#E5ECF6",
            "gridcolor": "white",
            "gridwidth": 2,
            "linecolor": "white",
            "showbackground": true,
            "ticks": "",
            "zerolinecolor": "white"
           },
           "zaxis": {
            "backgroundcolor": "#E5ECF6",
            "gridcolor": "white",
            "gridwidth": 2,
            "linecolor": "white",
            "showbackground": true,
            "ticks": "",
            "zerolinecolor": "white"
           }
          },
          "shapedefaults": {
           "line": {
            "color": "#2a3f5f"
           }
          },
          "ternary": {
           "aaxis": {
            "gridcolor": "white",
            "linecolor": "white",
            "ticks": ""
           },
           "baxis": {
            "gridcolor": "white",
            "linecolor": "white",
            "ticks": ""
           },
           "bgcolor": "#E5ECF6",
           "caxis": {
            "gridcolor": "white",
            "linecolor": "white",
            "ticks": ""
           }
          },
          "title": {
           "x": 0.05
          },
          "xaxis": {
           "automargin": true,
           "gridcolor": "white",
           "linecolor": "white",
           "ticks": "",
           "title": {
            "standoff": 15
           },
           "zerolinecolor": "white",
           "zerolinewidth": 2
          },
          "yaxis": {
           "automargin": true,
           "gridcolor": "white",
           "linecolor": "white",
           "ticks": "",
           "title": {
            "standoff": 15
           },
           "zerolinecolor": "white",
           "zerolinewidth": 2
          }
         }
        },
        "title": {
         "subtitle": {
          "text": "Llama 3.3 70B Trait PCs"
         },
         "text": "Default Behavior Expressing Traits Corresponding with Top 5 Trait PCs"
        },
        "width": 900
       }
      },
      "text/html": [
       "<div>                            <div id=\"d375540e-8c5d-4d89-ba19-5b23562a7ca0\" class=\"plotly-graph-div\" style=\"height:500px; width:900px;\"></div>            <script type=\"text/javascript\">                require([\"plotly\"], function(Plotly) {                    window.PLOTLYENV=window.PLOTLYENV || {};                                    if (document.getElementById(\"d375540e-8c5d-4d89-ba19-5b23562a7ca0\")) {                    Plotly.newPlot(                        \"d375540e-8c5d-4d89-ba19-5b23562a7ca0\",                        [{\"line\":{\"color\":\"rgb(31, 119, 180)\"},\"name\":\"gemma-2-27b\",\"r\":[88.615,71.335,66.47999999999999,42.533,79.425,88.615],\"showlegend\":true,\"theta\":[\"Agreeable\",\"Analytical\",\"Formal\",\"Dynamic\",\"Exploratory\",\"Agreeable\"],\"type\":\"scatterpolar\",\"subplot\":\"polar\"},{\"line\":{\"color\":\"rgb(31, 119, 180)\"},\"name\":\"gemma-2-27b\",\"r\":[29.343291229897865,19.747179942292828,18.085965698834993,0.9934020808698801,2.7906626880145855,29.343291229897865],\"showlegend\":false,\"theta\":[\"Agreeable\",\"Analytical\",\"Formal\",\"Dynamic\",\"Exploratory\",\"Agreeable\"],\"type\":\"scatterpolar\",\"subplot\":\"polar2\"},{\"line\":{\"color\":\"rgb(255, 127, 14)\"},\"name\":\"qwen-3-32b\",\"r\":[92.382,60.17843434343435,74.615,52.992000000000004,81.25,92.382],\"showlegend\":true,\"theta\":[\"Agreeable\",\"Analytical\",\"Formal\",\"Dynamic\",\"Exploratory\",\"Agreeable\"],\"type\":\"scatterpolar\",\"subplot\":\"polar\"},{\"line\":{\"color\":\"rgb(255, 127, 14)\"},\"name\":\"qwen-3-32b\",\"r\":[23.215328471817873,23.288607153323504,16.38281087463384,0.9028774688215151,10.517472036876136,23.215328471817873],\"showlegend\":false,\"theta\":[\"Agreeable\",\"Analytical\",\"Formal\",\"Dynamic\",\"Exploratory\",\"Agreeable\"],\"type\":\"scatterpolar\",\"subplot\":\"polar2\"},{\"line\":{\"color\":\"rgb(44, 160, 44)\"},\"name\":\"llama-3.3-70b\",\"r\":[90.66,64.28999999999999,73.115,47.989999999999995,79.19,90.66],\"showlegend\":true,\"theta\":[\"Agreeable\",\"Analytical\",\"Formal\",\"Dynamic\",\"Exploratory\",\"Agreeable\"],\"type\":\"scatterpolar\",\"subplot\":\"polar\"},{\"line\":{\"color\":\"rgb(44, 160, 44)\"},\"name\":\"llama-3.3-70b\",\"r\":[40.645445018993065,15.405405757247316,15.445617560117118,1.6293603176587728,11.518021873021441,40.645445018993065],\"showlegend\":false,\"theta\":[\"Agreeable\",\"Analytical\",\"Formal\",\"Dynamic\",\"Exploratory\",\"Agreeable\"],\"type\":\"scatterpolar\",\"subplot\":\"polar2\"}],                        {\"template\":{\"data\":{\"histogram2dcontour\":[{\"type\":\"histogram2dcontour\",\"colorbar\":{\"outlinewidth\":0,\"ticks\":\"\"},\"colorscale\":[[0.0,\"#0d0887\"],[0.1111111111111111,\"#46039f\"],[0.2222222222222222,\"#7201a8\"],[0.3333333333333333,\"#9c179e\"],[0.4444444444444444,\"#bd3786\"],[0.5555555555555556,\"#d8576b\"],[0.6666666666666666,\"#ed7953\"],[0.7777777777777778,\"#fb9f3a\"],[0.8888888888888888,\"#fdca26\"],[1.0,\"#f0f921\"]]}],\"choropleth\":[{\"type\":\"choropleth\",\"colorbar\":{\"outlinewidth\":0,\"ticks\":\"\"}}],\"histogram2d\":[{\"type\":\"histogram2d\",\"colorbar\":{\"outlinewidth\":0,\"ticks\":\"\"},\"colorscale\":[[0.0,\"#0d0887\"],[0.1111111111111111,\"#46039f\"],[0.2222222222222222,\"#7201a8\"],[0.3333333333333333,\"#9c179e\"],[0.4444444444444444,\"#bd3786\"],[0.5555555555555556,\"#d8576b\"],[0.6666666666666666,\"#ed7953\"],[0.7777777777777778,\"#fb9f3a\"],[0.8888888888888888,\"#fdca26\"],[1.0,\"#f0f921\"]]}],\"heatmap\":[{\"type\":\"heatmap\",\"colorbar\":{\"outlinewidth\":0,\"ticks\":\"\"},\"colorscale\":[[0.0,\"#0d0887\"],[0.1111111111111111,\"#46039f\"],[0.2222222222222222,\"#7201a8\"],[0.3333333333333333,\"#9c179e\"],[0.4444444444444444,\"#bd3786\"],[0.5555555555555556,\"#d8576b\"],[0.6666666666666666,\"#ed7953\"],[0.7777777777777778,\"#fb9f3a\"],[0.8888888888888888,\"#fdca26\"],[1.0,\"#f0f921\"]]}],\"heatmapgl\":[{\"type\":\"heatmapgl\",\"colorbar\":{\"outlinewidth\":0,\"ticks\":\"\"},\"colorscale\":[[0.0,\"#0d0887\"],[0.1111111111111111,\"#46039f\"],[0.2222222222222222,\"#7201a8\"],[0.3333333333333333,\"#9c179e\"],[0.4444444444444444,\"#bd3786\"],[0.5555555555555556,\"#d8576b\"],[0.6666666666666666,\"#ed7953\"],[0.7777777777777778,\"#fb9f3a\"],[0.8888888888888888,\"#fdca26\"],[1.0,\"#f0f921\"]]}],\"contourcarpet\":[{\"type\":\"contourcarpet\",\"colorbar\":{\"outlinewidth\":0,\"ticks\":\"\"}}],\"contour\":[{\"type\":\"contour\",\"colorbar\":{\"outlinewidth\":0,\"ticks\":\"\"},\"colorscale\":[[0.0,\"#0d0887\"],[0.1111111111111111,\"#46039f\"],[0.2222222222222222,\"#7201a8\"],[0.3333333333333333,\"#9c179e\"],[0.4444444444444444,\"#bd3786\"],[0.5555555555555556,\"#d8576b\"],[0.6666666666666666,\"#ed7953\"],[0.7777777777777778,\"#fb9f3a\"],[0.8888888888888888,\"#fdca26\"],[1.0,\"#f0f921\"]]}],\"surface\":[{\"type\":\"surface\",\"colorbar\":{\"outlinewidth\":0,\"ticks\":\"\"},\"colorscale\":[[0.0,\"#0d0887\"],[0.1111111111111111,\"#46039f\"],[0.2222222222222222,\"#7201a8\"],[0.3333333333333333,\"#9c179e\"],[0.4444444444444444,\"#bd3786\"],[0.5555555555555556,\"#d8576b\"],[0.6666666666666666,\"#ed7953\"],[0.7777777777777778,\"#fb9f3a\"],[0.8888888888888888,\"#fdca26\"],[1.0,\"#f0f921\"]]}],\"mesh3d\":[{\"type\":\"mesh3d\",\"colorbar\":{\"outlinewidth\":0,\"ticks\":\"\"}}],\"scatter\":[{\"fillpattern\":{\"fillmode\":\"overlay\",\"size\":10,\"solidity\":0.2},\"type\":\"scatter\"}],\"parcoords\":[{\"type\":\"parcoords\",\"line\":{\"colorbar\":{\"outlinewidth\":0,\"ticks\":\"\"}}}],\"scatterpolargl\":[{\"type\":\"scatterpolargl\",\"marker\":{\"colorbar\":{\"outlinewidth\":0,\"ticks\":\"\"}}}],\"bar\":[{\"error_x\":{\"color\":\"#2a3f5f\"},\"error_y\":{\"color\":\"#2a3f5f\"},\"marker\":{\"line\":{\"color\":\"#E5ECF6\",\"width\":0.5},\"pattern\":{\"fillmode\":\"overlay\",\"size\":10,\"solidity\":0.2}},\"type\":\"bar\"}],\"scattergeo\":[{\"type\":\"scattergeo\",\"marker\":{\"colorbar\":{\"outlinewidth\":0,\"ticks\":\"\"}}}],\"scatterpolar\":[{\"type\":\"scatterpolar\",\"marker\":{\"colorbar\":{\"outlinewidth\":0,\"ticks\":\"\"}}}],\"histogram\":[{\"marker\":{\"pattern\":{\"fillmode\":\"overlay\",\"size\":10,\"solidity\":0.2}},\"type\":\"histogram\"}],\"scattergl\":[{\"type\":\"scattergl\",\"marker\":{\"colorbar\":{\"outlinewidth\":0,\"ticks\":\"\"}}}],\"scatter3d\":[{\"type\":\"scatter3d\",\"line\":{\"colorbar\":{\"outlinewidth\":0,\"ticks\":\"\"}},\"marker\":{\"colorbar\":{\"outlinewidth\":0,\"ticks\":\"\"}}}],\"scattermapbox\":[{\"type\":\"scattermapbox\",\"marker\":{\"colorbar\":{\"outlinewidth\":0,\"ticks\":\"\"}}}],\"scatterternary\":[{\"type\":\"scatterternary\",\"marker\":{\"colorbar\":{\"outlinewidth\":0,\"ticks\":\"\"}}}],\"scattercarpet\":[{\"type\":\"scattercarpet\",\"marker\":{\"colorbar\":{\"outlinewidth\":0,\"ticks\":\"\"}}}],\"carpet\":[{\"aaxis\":{\"endlinecolor\":\"#2a3f5f\",\"gridcolor\":\"white\",\"linecolor\":\"white\",\"minorgridcolor\":\"white\",\"startlinecolor\":\"#2a3f5f\"},\"baxis\":{\"endlinecolor\":\"#2a3f5f\",\"gridcolor\":\"white\",\"linecolor\":\"white\",\"minorgridcolor\":\"white\",\"startlinecolor\":\"#2a3f5f\"},\"type\":\"carpet\"}],\"table\":[{\"cells\":{\"fill\":{\"color\":\"#EBF0F8\"},\"line\":{\"color\":\"white\"}},\"header\":{\"fill\":{\"color\":\"#C8D4E3\"},\"line\":{\"color\":\"white\"}},\"type\":\"table\"}],\"barpolar\":[{\"marker\":{\"line\":{\"color\":\"#E5ECF6\",\"width\":0.5},\"pattern\":{\"fillmode\":\"overlay\",\"size\":10,\"solidity\":0.2}},\"type\":\"barpolar\"}],\"pie\":[{\"automargin\":true,\"type\":\"pie\"}]},\"layout\":{\"autotypenumbers\":\"strict\",\"colorway\":[\"#636efa\",\"#EF553B\",\"#00cc96\",\"#ab63fa\",\"#FFA15A\",\"#19d3f3\",\"#FF6692\",\"#B6E880\",\"#FF97FF\",\"#FECB52\"],\"font\":{\"color\":\"#2a3f5f\"},\"hovermode\":\"closest\",\"hoverlabel\":{\"align\":\"left\"},\"paper_bgcolor\":\"white\",\"plot_bgcolor\":\"#E5ECF6\",\"polar\":{\"bgcolor\":\"#E5ECF6\",\"angularaxis\":{\"gridcolor\":\"white\",\"linecolor\":\"white\",\"ticks\":\"\"},\"radialaxis\":{\"gridcolor\":\"white\",\"linecolor\":\"white\",\"ticks\":\"\"}},\"ternary\":{\"bgcolor\":\"#E5ECF6\",\"aaxis\":{\"gridcolor\":\"white\",\"linecolor\":\"white\",\"ticks\":\"\"},\"baxis\":{\"gridcolor\":\"white\",\"linecolor\":\"white\",\"ticks\":\"\"},\"caxis\":{\"gridcolor\":\"white\",\"linecolor\":\"white\",\"ticks\":\"\"}},\"coloraxis\":{\"colorbar\":{\"outlinewidth\":0,\"ticks\":\"\"}},\"colorscale\":{\"sequential\":[[0.0,\"#0d0887\"],[0.1111111111111111,\"#46039f\"],[0.2222222222222222,\"#7201a8\"],[0.3333333333333333,\"#9c179e\"],[0.4444444444444444,\"#bd3786\"],[0.5555555555555556,\"#d8576b\"],[0.6666666666666666,\"#ed7953\"],[0.7777777777777778,\"#fb9f3a\"],[0.8888888888888888,\"#fdca26\"],[1.0,\"#f0f921\"]],\"sequentialminus\":[[0.0,\"#0d0887\"],[0.1111111111111111,\"#46039f\"],[0.2222222222222222,\"#7201a8\"],[0.3333333333333333,\"#9c179e\"],[0.4444444444444444,\"#bd3786\"],[0.5555555555555556,\"#d8576b\"],[0.6666666666666666,\"#ed7953\"],[0.7777777777777778,\"#fb9f3a\"],[0.8888888888888888,\"#fdca26\"],[1.0,\"#f0f921\"]],\"diverging\":[[0,\"#8e0152\"],[0.1,\"#c51b7d\"],[0.2,\"#de77ae\"],[0.3,\"#f1b6da\"],[0.4,\"#fde0ef\"],[0.5,\"#f7f7f7\"],[0.6,\"#e6f5d0\"],[0.7,\"#b8e186\"],[0.8,\"#7fbc41\"],[0.9,\"#4d9221\"],[1,\"#276419\"]]},\"xaxis\":{\"gridcolor\":\"white\",\"linecolor\":\"white\",\"ticks\":\"\",\"title\":{\"standoff\":15},\"zerolinecolor\":\"white\",\"automargin\":true,\"zerolinewidth\":2},\"yaxis\":{\"gridcolor\":\"white\",\"linecolor\":\"white\",\"ticks\":\"\",\"title\":{\"standoff\":15},\"zerolinecolor\":\"white\",\"automargin\":true,\"zerolinewidth\":2},\"scene\":{\"xaxis\":{\"backgroundcolor\":\"#E5ECF6\",\"gridcolor\":\"white\",\"linecolor\":\"white\",\"showbackground\":true,\"ticks\":\"\",\"zerolinecolor\":\"white\",\"gridwidth\":2},\"yaxis\":{\"backgroundcolor\":\"#E5ECF6\",\"gridcolor\":\"white\",\"linecolor\":\"white\",\"showbackground\":true,\"ticks\":\"\",\"zerolinecolor\":\"white\",\"gridwidth\":2},\"zaxis\":{\"backgroundcolor\":\"#E5ECF6\",\"gridcolor\":\"white\",\"linecolor\":\"white\",\"showbackground\":true,\"ticks\":\"\",\"zerolinecolor\":\"white\",\"gridwidth\":2}},\"shapedefaults\":{\"line\":{\"color\":\"#2a3f5f\"}},\"annotationdefaults\":{\"arrowcolor\":\"#2a3f5f\",\"arrowhead\":0,\"arrowwidth\":1},\"geo\":{\"bgcolor\":\"white\",\"landcolor\":\"#E5ECF6\",\"subunitcolor\":\"white\",\"showland\":true,\"showlakes\":true,\"lakecolor\":\"white\"},\"title\":{\"x\":0.05},\"mapbox\":{\"style\":\"light\"}}},\"polar\":{\"domain\":{\"x\":[0.0,0.45],\"y\":[0.0,1.0]},\"radialaxis\":{\"range\":[0,100],\"showticklabels\":false}},\"polar2\":{\"domain\":{\"x\":[0.55,1.0],\"y\":[0.0,1.0]},\"radialaxis\":{\"range\":[-86.0099898157268,86.0099898157268],\"showticklabels\":false}},\"annotations\":[{\"font\":{\"size\":16},\"showarrow\":false,\"text\":\"Behavior Scores\",\"x\":0.225,\"xanchor\":\"center\",\"xref\":\"paper\",\"y\":1.0,\"yanchor\":\"bottom\",\"yref\":\"paper\"},{\"font\":{\"size\":16},\"showarrow\":false,\"text\":\"Projected Activations in Trait PC Space\",\"x\":0.775,\"xanchor\":\"center\",\"xref\":\"paper\",\"y\":1.0,\"yanchor\":\"bottom\",\"yref\":\"paper\"}],\"title\":{\"subtitle\":{\"text\":\"Llama 3.3 70B Trait PCs\"},\"text\":\"Default Behavior Expressing Traits Corresponding with Top 5 Trait PCs\"},\"height\":500,\"width\":900,\"showlegend\":true},                        {\"responsive\": true}                    ).then(function(){\n",
       "                            \n",
       "var gd = document.getElementById('d375540e-8c5d-4d89-ba19-5b23562a7ca0');\n",
       "var x = new MutationObserver(function (mutations, observer) {{\n",
       "        var display = window.getComputedStyle(gd).display;\n",
       "        if (!display || display === 'none') {{\n",
       "            console.log([gd, 'removed!']);\n",
       "            Plotly.purge(gd);\n",
       "            observer.disconnect();\n",
       "        }}\n",
       "}});\n",
       "\n",
       "// Listen for the removal of the full notebook cells\n",
       "var notebookContainer = gd.closest('#notebook-container');\n",
       "if (notebookContainer) {{\n",
       "    x.observe(notebookContainer, {childList: true});\n",
       "}}\n",
       "\n",
       "// Listen for the clearing of the current output cell\n",
       "var outputEl = gd.closest('.output');\n",
       "if (outputEl) {{\n",
       "    x.observe(outputEl, {childList: true});\n",
       "}}\n",
       "\n",
       "                        })                };                });            </script>        </div>"
      ]
     },
     "metadata": {},
     "output_type": "display_data"
    }
   ],
   "source": [
    "# make two pentagon plots, one for each of the axes\n",
    "\n",
    "plot1_contents = ['pc1_low', 'pc2_high', 'pc3_low', 'pc4_low', 'pc5_low']\n",
    "plot2_contents = ['pc1_high', 'pc2_low', 'pc3_high', 'pc4_high', 'pc5_high']\n",
    "plot1_labels = ['Agreeable', 'Analytical', 'Formal', 'Dynamic', 'Exploratory']\n",
    "plot2_labels = ['Hostile', 'Expressive', 'Casual', 'Contemplative', 'Decisive']\n",
    "\n",
    "# Create a figure with two subplots\n",
    "import plotly.graph_objects as go\n",
    "from plotly.subplots import make_subplots\n",
    "\n",
    "# Create subplot structure with two polar plots\n",
    "fig = make_subplots(\n",
    "    rows=1, cols=2,\n",
    "    specs=[[{'type': 'polar'}] * 2],\n",
    "    subplot_titles=('Behavior Scores', 'Projected Activations in Trait PC Space')\n",
    ")\n",
    "\n",
    "# Define colors for each model\n",
    "colors = ['rgb(31, 119, 180)', 'rgb(255, 127, 14)', 'rgb(44, 160, 44)']\n",
    "\n",
    "# Calculate max range for bidirectional axis (find the largest absolute value)\n",
    "max_range = max(max(plot1_axes), max(plot2_axes))\n",
    "\n",
    "# Determine which PCs need to be flipped\n",
    "# We want plot1_axes to always be positive and plot2_axes to always be negative\n",
    "# For plot1_contents: pc1_low, pc2_high, pc3_low, pc4_low, pc5_low\n",
    "# pc1_low uses min (negative), so flip it\n",
    "# pc2_high uses max (positive), so don't flip\n",
    "# pc3_low uses min (negative), so flip it\n",
    "# pc4_low uses min (negative), so flip it\n",
    "# pc5_low uses min (negative), so flip it\n",
    "flip_sign = [True, False, True, True, True]  # Which PCs to flip\n",
    "\n",
    "# Add traces for each model\n",
    "for idx, model in enumerate(models):\n",
    "    # Plot 1 - left subplot (behavior scores)\n",
    "    values1 = [pc_stats_df.loc[model, col] for col in plot1_contents]\n",
    "    values1.append(values1[0])  # Close the pentagon\n",
    "    \n",
    "    fig.add_trace(\n",
    "        go.Scatterpolar(\n",
    "            r=values1,\n",
    "            theta=plot1_labels + [plot1_labels[0]],\n",
    "            name=model,\n",
    "            line=dict(color=colors[idx]),\n",
    "            showlegend=True\n",
    "        ),\n",
    "        row=1, col=1\n",
    "    )\n",
    "    \n",
    "    # Plot 2 - right subplot (projected activations with bidirectional scaling)\n",
    "    # Extract PC values from projected tensor (indices 0-4 for PC1-PC5)\n",
    "    projected_vals = projected[model]['mean_activation_projected'][:5].cpu().numpy()\n",
    "    \n",
    "    # Flip signs where needed so plot1 is always positive direction\n",
    "    projected_vals_flipped = [projected_vals[i] * (-1 if flip_sign[i] else 1) for i in range(5)]\n",
    "    \n",
    "    # When we flip, we also need to swap which axis we use for normalization\n",
    "    # After flipping: positive should use plot1_axes, negative should use plot2_axes\n",
    "    values2 = []\n",
    "    for i in range(5):\n",
    "        val = projected_vals_flipped[i]\n",
    "        \n",
    "        # After flipping, the axes are swapped for flipped PCs\n",
    "        if flip_sign[i]:\n",
    "            # Flipped: positive uses plot2_axes (which was the min), negative uses plot1_axes (which was the max)\n",
    "            # But we want positive to use plot1 and negative to use plot2 for display\n",
    "            # So we need to swap the axes we reference\n",
    "            pos_axis = plot2_axes[i]  # What was the min is now positive\n",
    "            neg_axis = plot1_axes[i]  # What was the max is now negative\n",
    "        else:\n",
    "            # Not flipped: use axes as-is\n",
    "            pos_axis = plot1_axes[i]\n",
    "            neg_axis = plot2_axes[i]\n",
    "        \n",
    "        if val >= 0:\n",
    "            # Scale positive values\n",
    "            normalized = (val / pos_axis) * max_range if pos_axis != 0 else 0\n",
    "        else:\n",
    "            # Scale negative values\n",
    "            normalized = (val / neg_axis) * max_range if neg_axis != 0 else 0\n",
    "        values2.append(normalized)\n",
    "    \n",
    "    values2.append(values2[0])  # Close the pentagon\n",
    "    \n",
    "    fig.add_trace(\n",
    "        go.Scatterpolar(\n",
    "            r=values2,\n",
    "            theta=plot1_labels + [plot1_labels[0]],\n",
    "            name=model,\n",
    "            line=dict(color=colors[idx]),\n",
    "            showlegend=False  # Only show legend once\n",
    "        ),\n",
    "        row=1, col=2\n",
    "    )\n",
    "\n",
    "# Update left subplot to 0-100 range\n",
    "fig.update_polars(\n",
    "    radialaxis=dict(\n",
    "        range=[0, 100],\n",
    "        showticklabels=False\n",
    "    ),\n",
    "    row=1, col=1\n",
    ")\n",
    "\n",
    "# Update right subplot to bidirectional range\n",
    "fig.update_polars(\n",
    "    radialaxis=dict(\n",
    "        range=[-max_range, max_range],\n",
    "        showticklabels=False\n",
    "    ),\n",
    "    row=1, col=2\n",
    ")\n",
    "\n",
    "# Update layout\n",
    "fig.update_layout(\n",
    "    title={\n",
    "        'text': \"Default Behavior Expressing Traits Corresponding with Top 5 Trait PCs\",\n",
    "        'subtitle': {\n",
    "        'text': 'Llama 3.3 70B Trait PCs',\n",
    "    }\n",
    "    },\n",
    "    \n",
    "    height=500,\n",
    "    width=900,\n",
    "    showlegend=True\n",
    ")\n",
    "\n",
    "fig.show()\n"
   ]
  },
  {
   "cell_type": "code",
   "execution_count": 66,
   "id": "04334bae",
   "metadata": {},
   "outputs": [
    {
     "data": {
      "application/vnd.plotly.v1+json": {
       "config": {
        "plotlyServerURL": "https://plot.ly"
       },
       "data": [
        {
         "line": {
          "color": "rgb(31, 119, 180)"
         },
         "name": "gemma-2-27b",
         "r": [
          88.615,
          71.335,
          66.47999999999999,
          42.533,
          79.425,
          88.615
         ],
         "theta": [
          "Agreeable",
          "Analytical",
          "Formal",
          "Dynamic",
          "Exploratory",
          "Agreeable"
         ],
         "type": "scatterpolar"
        },
        {
         "line": {
          "color": "rgb(255, 127, 14)"
         },
         "name": "qwen-3-32b",
         "r": [
          92.382,
          60.17843434343435,
          74.615,
          52.992000000000004,
          81.25,
          92.382
         ],
         "theta": [
          "Agreeable",
          "Analytical",
          "Formal",
          "Dynamic",
          "Exploratory",
          "Agreeable"
         ],
         "type": "scatterpolar"
        },
        {
         "line": {
          "color": "rgb(44, 160, 44)"
         },
         "name": "llama-3.3-70b",
         "r": [
          90.66,
          64.28999999999999,
          73.115,
          47.989999999999995,
          79.19,
          90.66
         ],
         "theta": [
          "Agreeable",
          "Analytical",
          "Formal",
          "Dynamic",
          "Exploratory",
          "Agreeable"
         ],
         "type": "scatterpolar"
        }
       ],
       "layout": {
        "height": 500,
        "polar": {
         "radialaxis": {
          "range": [
           0,
           100
          ],
          "showticklabels": false
         }
        },
        "showlegend": true,
        "template": {
         "data": {
          "bar": [
           {
            "error_x": {
             "color": "#2a3f5f"
            },
            "error_y": {
             "color": "#2a3f5f"
            },
            "marker": {
             "line": {
              "color": "#E5ECF6",
              "width": 0.5
             },
             "pattern": {
              "fillmode": "overlay",
              "size": 10,
              "solidity": 0.2
             }
            },
            "type": "bar"
           }
          ],
          "barpolar": [
           {
            "marker": {
             "line": {
              "color": "#E5ECF6",
              "width": 0.5
             },
             "pattern": {
              "fillmode": "overlay",
              "size": 10,
              "solidity": 0.2
             }
            },
            "type": "barpolar"
           }
          ],
          "carpet": [
           {
            "aaxis": {
             "endlinecolor": "#2a3f5f",
             "gridcolor": "white",
             "linecolor": "white",
             "minorgridcolor": "white",
             "startlinecolor": "#2a3f5f"
            },
            "baxis": {
             "endlinecolor": "#2a3f5f",
             "gridcolor": "white",
             "linecolor": "white",
             "minorgridcolor": "white",
             "startlinecolor": "#2a3f5f"
            },
            "type": "carpet"
           }
          ],
          "choropleth": [
           {
            "colorbar": {
             "outlinewidth": 0,
             "ticks": ""
            },
            "type": "choropleth"
           }
          ],
          "contour": [
           {
            "colorbar": {
             "outlinewidth": 0,
             "ticks": ""
            },
            "colorscale": [
             [
              0,
              "#0d0887"
             ],
             [
              0.1111111111111111,
              "#46039f"
             ],
             [
              0.2222222222222222,
              "#7201a8"
             ],
             [
              0.3333333333333333,
              "#9c179e"
             ],
             [
              0.4444444444444444,
              "#bd3786"
             ],
             [
              0.5555555555555556,
              "#d8576b"
             ],
             [
              0.6666666666666666,
              "#ed7953"
             ],
             [
              0.7777777777777778,
              "#fb9f3a"
             ],
             [
              0.8888888888888888,
              "#fdca26"
             ],
             [
              1,
              "#f0f921"
             ]
            ],
            "type": "contour"
           }
          ],
          "contourcarpet": [
           {
            "colorbar": {
             "outlinewidth": 0,
             "ticks": ""
            },
            "type": "contourcarpet"
           }
          ],
          "heatmap": [
           {
            "colorbar": {
             "outlinewidth": 0,
             "ticks": ""
            },
            "colorscale": [
             [
              0,
              "#0d0887"
             ],
             [
              0.1111111111111111,
              "#46039f"
             ],
             [
              0.2222222222222222,
              "#7201a8"
             ],
             [
              0.3333333333333333,
              "#9c179e"
             ],
             [
              0.4444444444444444,
              "#bd3786"
             ],
             [
              0.5555555555555556,
              "#d8576b"
             ],
             [
              0.6666666666666666,
              "#ed7953"
             ],
             [
              0.7777777777777778,
              "#fb9f3a"
             ],
             [
              0.8888888888888888,
              "#fdca26"
             ],
             [
              1,
              "#f0f921"
             ]
            ],
            "type": "heatmap"
           }
          ],
          "heatmapgl": [
           {
            "colorbar": {
             "outlinewidth": 0,
             "ticks": ""
            },
            "colorscale": [
             [
              0,
              "#0d0887"
             ],
             [
              0.1111111111111111,
              "#46039f"
             ],
             [
              0.2222222222222222,
              "#7201a8"
             ],
             [
              0.3333333333333333,
              "#9c179e"
             ],
             [
              0.4444444444444444,
              "#bd3786"
             ],
             [
              0.5555555555555556,
              "#d8576b"
             ],
             [
              0.6666666666666666,
              "#ed7953"
             ],
             [
              0.7777777777777778,
              "#fb9f3a"
             ],
             [
              0.8888888888888888,
              "#fdca26"
             ],
             [
              1,
              "#f0f921"
             ]
            ],
            "type": "heatmapgl"
           }
          ],
          "histogram": [
           {
            "marker": {
             "pattern": {
              "fillmode": "overlay",
              "size": 10,
              "solidity": 0.2
             }
            },
            "type": "histogram"
           }
          ],
          "histogram2d": [
           {
            "colorbar": {
             "outlinewidth": 0,
             "ticks": ""
            },
            "colorscale": [
             [
              0,
              "#0d0887"
             ],
             [
              0.1111111111111111,
              "#46039f"
             ],
             [
              0.2222222222222222,
              "#7201a8"
             ],
             [
              0.3333333333333333,
              "#9c179e"
             ],
             [
              0.4444444444444444,
              "#bd3786"
             ],
             [
              0.5555555555555556,
              "#d8576b"
             ],
             [
              0.6666666666666666,
              "#ed7953"
             ],
             [
              0.7777777777777778,
              "#fb9f3a"
             ],
             [
              0.8888888888888888,
              "#fdca26"
             ],
             [
              1,
              "#f0f921"
             ]
            ],
            "type": "histogram2d"
           }
          ],
          "histogram2dcontour": [
           {
            "colorbar": {
             "outlinewidth": 0,
             "ticks": ""
            },
            "colorscale": [
             [
              0,
              "#0d0887"
             ],
             [
              0.1111111111111111,
              "#46039f"
             ],
             [
              0.2222222222222222,
              "#7201a8"
             ],
             [
              0.3333333333333333,
              "#9c179e"
             ],
             [
              0.4444444444444444,
              "#bd3786"
             ],
             [
              0.5555555555555556,
              "#d8576b"
             ],
             [
              0.6666666666666666,
              "#ed7953"
             ],
             [
              0.7777777777777778,
              "#fb9f3a"
             ],
             [
              0.8888888888888888,
              "#fdca26"
             ],
             [
              1,
              "#f0f921"
             ]
            ],
            "type": "histogram2dcontour"
           }
          ],
          "mesh3d": [
           {
            "colorbar": {
             "outlinewidth": 0,
             "ticks": ""
            },
            "type": "mesh3d"
           }
          ],
          "parcoords": [
           {
            "line": {
             "colorbar": {
              "outlinewidth": 0,
              "ticks": ""
             }
            },
            "type": "parcoords"
           }
          ],
          "pie": [
           {
            "automargin": true,
            "type": "pie"
           }
          ],
          "scatter": [
           {
            "fillpattern": {
             "fillmode": "overlay",
             "size": 10,
             "solidity": 0.2
            },
            "type": "scatter"
           }
          ],
          "scatter3d": [
           {
            "line": {
             "colorbar": {
              "outlinewidth": 0,
              "ticks": ""
             }
            },
            "marker": {
             "colorbar": {
              "outlinewidth": 0,
              "ticks": ""
             }
            },
            "type": "scatter3d"
           }
          ],
          "scattercarpet": [
           {
            "marker": {
             "colorbar": {
              "outlinewidth": 0,
              "ticks": ""
             }
            },
            "type": "scattercarpet"
           }
          ],
          "scattergeo": [
           {
            "marker": {
             "colorbar": {
              "outlinewidth": 0,
              "ticks": ""
             }
            },
            "type": "scattergeo"
           }
          ],
          "scattergl": [
           {
            "marker": {
             "colorbar": {
              "outlinewidth": 0,
              "ticks": ""
             }
            },
            "type": "scattergl"
           }
          ],
          "scattermapbox": [
           {
            "marker": {
             "colorbar": {
              "outlinewidth": 0,
              "ticks": ""
             }
            },
            "type": "scattermapbox"
           }
          ],
          "scatterpolar": [
           {
            "marker": {
             "colorbar": {
              "outlinewidth": 0,
              "ticks": ""
             }
            },
            "type": "scatterpolar"
           }
          ],
          "scatterpolargl": [
           {
            "marker": {
             "colorbar": {
              "outlinewidth": 0,
              "ticks": ""
             }
            },
            "type": "scatterpolargl"
           }
          ],
          "scatterternary": [
           {
            "marker": {
             "colorbar": {
              "outlinewidth": 0,
              "ticks": ""
             }
            },
            "type": "scatterternary"
           }
          ],
          "surface": [
           {
            "colorbar": {
             "outlinewidth": 0,
             "ticks": ""
            },
            "colorscale": [
             [
              0,
              "#0d0887"
             ],
             [
              0.1111111111111111,
              "#46039f"
             ],
             [
              0.2222222222222222,
              "#7201a8"
             ],
             [
              0.3333333333333333,
              "#9c179e"
             ],
             [
              0.4444444444444444,
              "#bd3786"
             ],
             [
              0.5555555555555556,
              "#d8576b"
             ],
             [
              0.6666666666666666,
              "#ed7953"
             ],
             [
              0.7777777777777778,
              "#fb9f3a"
             ],
             [
              0.8888888888888888,
              "#fdca26"
             ],
             [
              1,
              "#f0f921"
             ]
            ],
            "type": "surface"
           }
          ],
          "table": [
           {
            "cells": {
             "fill": {
              "color": "#EBF0F8"
             },
             "line": {
              "color": "white"
             }
            },
            "header": {
             "fill": {
              "color": "#C8D4E3"
             },
             "line": {
              "color": "white"
             }
            },
            "type": "table"
           }
          ]
         },
         "layout": {
          "annotationdefaults": {
           "arrowcolor": "#2a3f5f",
           "arrowhead": 0,
           "arrowwidth": 1
          },
          "autotypenumbers": "strict",
          "coloraxis": {
           "colorbar": {
            "outlinewidth": 0,
            "ticks": ""
           }
          },
          "colorscale": {
           "diverging": [
            [
             0,
             "#8e0152"
            ],
            [
             0.1,
             "#c51b7d"
            ],
            [
             0.2,
             "#de77ae"
            ],
            [
             0.3,
             "#f1b6da"
            ],
            [
             0.4,
             "#fde0ef"
            ],
            [
             0.5,
             "#f7f7f7"
            ],
            [
             0.6,
             "#e6f5d0"
            ],
            [
             0.7,
             "#b8e186"
            ],
            [
             0.8,
             "#7fbc41"
            ],
            [
             0.9,
             "#4d9221"
            ],
            [
             1,
             "#276419"
            ]
           ],
           "sequential": [
            [
             0,
             "#0d0887"
            ],
            [
             0.1111111111111111,
             "#46039f"
            ],
            [
             0.2222222222222222,
             "#7201a8"
            ],
            [
             0.3333333333333333,
             "#9c179e"
            ],
            [
             0.4444444444444444,
             "#bd3786"
            ],
            [
             0.5555555555555556,
             "#d8576b"
            ],
            [
             0.6666666666666666,
             "#ed7953"
            ],
            [
             0.7777777777777778,
             "#fb9f3a"
            ],
            [
             0.8888888888888888,
             "#fdca26"
            ],
            [
             1,
             "#f0f921"
            ]
           ],
           "sequentialminus": [
            [
             0,
             "#0d0887"
            ],
            [
             0.1111111111111111,
             "#46039f"
            ],
            [
             0.2222222222222222,
             "#7201a8"
            ],
            [
             0.3333333333333333,
             "#9c179e"
            ],
            [
             0.4444444444444444,
             "#bd3786"
            ],
            [
             0.5555555555555556,
             "#d8576b"
            ],
            [
             0.6666666666666666,
             "#ed7953"
            ],
            [
             0.7777777777777778,
             "#fb9f3a"
            ],
            [
             0.8888888888888888,
             "#fdca26"
            ],
            [
             1,
             "#f0f921"
            ]
           ]
          },
          "colorway": [
           "#636efa",
           "#EF553B",
           "#00cc96",
           "#ab63fa",
           "#FFA15A",
           "#19d3f3",
           "#FF6692",
           "#B6E880",
           "#FF97FF",
           "#FECB52"
          ],
          "font": {
           "color": "#2a3f5f"
          },
          "geo": {
           "bgcolor": "white",
           "lakecolor": "white",
           "landcolor": "#E5ECF6",
           "showlakes": true,
           "showland": true,
           "subunitcolor": "white"
          },
          "hoverlabel": {
           "align": "left"
          },
          "hovermode": "closest",
          "mapbox": {
           "style": "light"
          },
          "paper_bgcolor": "white",
          "plot_bgcolor": "#E5ECF6",
          "polar": {
           "angularaxis": {
            "gridcolor": "white",
            "linecolor": "white",
            "ticks": ""
           },
           "bgcolor": "#E5ECF6",
           "radialaxis": {
            "gridcolor": "white",
            "linecolor": "white",
            "ticks": ""
           }
          },
          "scene": {
           "xaxis": {
            "backgroundcolor": "#E5ECF6",
            "gridcolor": "white",
            "gridwidth": 2,
            "linecolor": "white",
            "showbackground": true,
            "ticks": "",
            "zerolinecolor": "white"
           },
           "yaxis": {
            "backgroundcolor": "#E5ECF6",
            "gridcolor": "white",
            "gridwidth": 2,
            "linecolor": "white",
            "showbackground": true,
            "ticks": "",
            "zerolinecolor": "white"
           },
           "zaxis": {
            "backgroundcolor": "#E5ECF6",
            "gridcolor": "white",
            "gridwidth": 2,
            "linecolor": "white",
            "showbackground": true,
            "ticks": "",
            "zerolinecolor": "white"
           }
          },
          "shapedefaults": {
           "line": {
            "color": "#2a3f5f"
           }
          },
          "ternary": {
           "aaxis": {
            "gridcolor": "white",
            "linecolor": "white",
            "ticks": ""
           },
           "baxis": {
            "gridcolor": "white",
            "linecolor": "white",
            "ticks": ""
           },
           "bgcolor": "#E5ECF6",
           "caxis": {
            "gridcolor": "white",
            "linecolor": "white",
            "ticks": ""
           }
          },
          "title": {
           "x": 0.05
          },
          "xaxis": {
           "automargin": true,
           "gridcolor": "white",
           "linecolor": "white",
           "ticks": "",
           "title": {
            "standoff": 15
           },
           "zerolinecolor": "white",
           "zerolinewidth": 2
          },
          "yaxis": {
           "automargin": true,
           "gridcolor": "white",
           "linecolor": "white",
           "ticks": "",
           "title": {
            "standoff": 15
           },
           "zerolinecolor": "white",
           "zerolinewidth": 2
          }
         }
        },
        "title": {
         "subtitle": {
          "text": "Traits Selected from Llama 3.3 70B's PCs"
         },
         "text": "Default Behavior Expressing Traits from Top 5 Trait PCs"
        },
        "width": 600
       }
      },
      "text/html": [
       "<div>                            <div id=\"060f0943-9ee3-4c87-b2f0-e059d276ff0b\" class=\"plotly-graph-div\" style=\"height:500px; width:600px;\"></div>            <script type=\"text/javascript\">                require([\"plotly\"], function(Plotly) {                    window.PLOTLYENV=window.PLOTLYENV || {};                                    if (document.getElementById(\"060f0943-9ee3-4c87-b2f0-e059d276ff0b\")) {                    Plotly.newPlot(                        \"060f0943-9ee3-4c87-b2f0-e059d276ff0b\",                        [{\"line\":{\"color\":\"rgb(31, 119, 180)\"},\"name\":\"gemma-2-27b\",\"r\":[88.615,71.335,66.47999999999999,42.533,79.425,88.615],\"theta\":[\"Agreeable\",\"Analytical\",\"Formal\",\"Dynamic\",\"Exploratory\",\"Agreeable\"],\"type\":\"scatterpolar\"},{\"line\":{\"color\":\"rgb(255, 127, 14)\"},\"name\":\"qwen-3-32b\",\"r\":[92.382,60.17843434343435,74.615,52.992000000000004,81.25,92.382],\"theta\":[\"Agreeable\",\"Analytical\",\"Formal\",\"Dynamic\",\"Exploratory\",\"Agreeable\"],\"type\":\"scatterpolar\"},{\"line\":{\"color\":\"rgb(44, 160, 44)\"},\"name\":\"llama-3.3-70b\",\"r\":[90.66,64.28999999999999,73.115,47.989999999999995,79.19,90.66],\"theta\":[\"Agreeable\",\"Analytical\",\"Formal\",\"Dynamic\",\"Exploratory\",\"Agreeable\"],\"type\":\"scatterpolar\"}],                        {\"template\":{\"data\":{\"histogram2dcontour\":[{\"type\":\"histogram2dcontour\",\"colorbar\":{\"outlinewidth\":0,\"ticks\":\"\"},\"colorscale\":[[0.0,\"#0d0887\"],[0.1111111111111111,\"#46039f\"],[0.2222222222222222,\"#7201a8\"],[0.3333333333333333,\"#9c179e\"],[0.4444444444444444,\"#bd3786\"],[0.5555555555555556,\"#d8576b\"],[0.6666666666666666,\"#ed7953\"],[0.7777777777777778,\"#fb9f3a\"],[0.8888888888888888,\"#fdca26\"],[1.0,\"#f0f921\"]]}],\"choropleth\":[{\"type\":\"choropleth\",\"colorbar\":{\"outlinewidth\":0,\"ticks\":\"\"}}],\"histogram2d\":[{\"type\":\"histogram2d\",\"colorbar\":{\"outlinewidth\":0,\"ticks\":\"\"},\"colorscale\":[[0.0,\"#0d0887\"],[0.1111111111111111,\"#46039f\"],[0.2222222222222222,\"#7201a8\"],[0.3333333333333333,\"#9c179e\"],[0.4444444444444444,\"#bd3786\"],[0.5555555555555556,\"#d8576b\"],[0.6666666666666666,\"#ed7953\"],[0.7777777777777778,\"#fb9f3a\"],[0.8888888888888888,\"#fdca26\"],[1.0,\"#f0f921\"]]}],\"heatmap\":[{\"type\":\"heatmap\",\"colorbar\":{\"outlinewidth\":0,\"ticks\":\"\"},\"colorscale\":[[0.0,\"#0d0887\"],[0.1111111111111111,\"#46039f\"],[0.2222222222222222,\"#7201a8\"],[0.3333333333333333,\"#9c179e\"],[0.4444444444444444,\"#bd3786\"],[0.5555555555555556,\"#d8576b\"],[0.6666666666666666,\"#ed7953\"],[0.7777777777777778,\"#fb9f3a\"],[0.8888888888888888,\"#fdca26\"],[1.0,\"#f0f921\"]]}],\"heatmapgl\":[{\"type\":\"heatmapgl\",\"colorbar\":{\"outlinewidth\":0,\"ticks\":\"\"},\"colorscale\":[[0.0,\"#0d0887\"],[0.1111111111111111,\"#46039f\"],[0.2222222222222222,\"#7201a8\"],[0.3333333333333333,\"#9c179e\"],[0.4444444444444444,\"#bd3786\"],[0.5555555555555556,\"#d8576b\"],[0.6666666666666666,\"#ed7953\"],[0.7777777777777778,\"#fb9f3a\"],[0.8888888888888888,\"#fdca26\"],[1.0,\"#f0f921\"]]}],\"contourcarpet\":[{\"type\":\"contourcarpet\",\"colorbar\":{\"outlinewidth\":0,\"ticks\":\"\"}}],\"contour\":[{\"type\":\"contour\",\"colorbar\":{\"outlinewidth\":0,\"ticks\":\"\"},\"colorscale\":[[0.0,\"#0d0887\"],[0.1111111111111111,\"#46039f\"],[0.2222222222222222,\"#7201a8\"],[0.3333333333333333,\"#9c179e\"],[0.4444444444444444,\"#bd3786\"],[0.5555555555555556,\"#d8576b\"],[0.6666666666666666,\"#ed7953\"],[0.7777777777777778,\"#fb9f3a\"],[0.8888888888888888,\"#fdca26\"],[1.0,\"#f0f921\"]]}],\"surface\":[{\"type\":\"surface\",\"colorbar\":{\"outlinewidth\":0,\"ticks\":\"\"},\"colorscale\":[[0.0,\"#0d0887\"],[0.1111111111111111,\"#46039f\"],[0.2222222222222222,\"#7201a8\"],[0.3333333333333333,\"#9c179e\"],[0.4444444444444444,\"#bd3786\"],[0.5555555555555556,\"#d8576b\"],[0.6666666666666666,\"#ed7953\"],[0.7777777777777778,\"#fb9f3a\"],[0.8888888888888888,\"#fdca26\"],[1.0,\"#f0f921\"]]}],\"mesh3d\":[{\"type\":\"mesh3d\",\"colorbar\":{\"outlinewidth\":0,\"ticks\":\"\"}}],\"scatter\":[{\"fillpattern\":{\"fillmode\":\"overlay\",\"size\":10,\"solidity\":0.2},\"type\":\"scatter\"}],\"parcoords\":[{\"type\":\"parcoords\",\"line\":{\"colorbar\":{\"outlinewidth\":0,\"ticks\":\"\"}}}],\"scatterpolargl\":[{\"type\":\"scatterpolargl\",\"marker\":{\"colorbar\":{\"outlinewidth\":0,\"ticks\":\"\"}}}],\"bar\":[{\"error_x\":{\"color\":\"#2a3f5f\"},\"error_y\":{\"color\":\"#2a3f5f\"},\"marker\":{\"line\":{\"color\":\"#E5ECF6\",\"width\":0.5},\"pattern\":{\"fillmode\":\"overlay\",\"size\":10,\"solidity\":0.2}},\"type\":\"bar\"}],\"scattergeo\":[{\"type\":\"scattergeo\",\"marker\":{\"colorbar\":{\"outlinewidth\":0,\"ticks\":\"\"}}}],\"scatterpolar\":[{\"type\":\"scatterpolar\",\"marker\":{\"colorbar\":{\"outlinewidth\":0,\"ticks\":\"\"}}}],\"histogram\":[{\"marker\":{\"pattern\":{\"fillmode\":\"overlay\",\"size\":10,\"solidity\":0.2}},\"type\":\"histogram\"}],\"scattergl\":[{\"type\":\"scattergl\",\"marker\":{\"colorbar\":{\"outlinewidth\":0,\"ticks\":\"\"}}}],\"scatter3d\":[{\"type\":\"scatter3d\",\"line\":{\"colorbar\":{\"outlinewidth\":0,\"ticks\":\"\"}},\"marker\":{\"colorbar\":{\"outlinewidth\":0,\"ticks\":\"\"}}}],\"scattermapbox\":[{\"type\":\"scattermapbox\",\"marker\":{\"colorbar\":{\"outlinewidth\":0,\"ticks\":\"\"}}}],\"scatterternary\":[{\"type\":\"scatterternary\",\"marker\":{\"colorbar\":{\"outlinewidth\":0,\"ticks\":\"\"}}}],\"scattercarpet\":[{\"type\":\"scattercarpet\",\"marker\":{\"colorbar\":{\"outlinewidth\":0,\"ticks\":\"\"}}}],\"carpet\":[{\"aaxis\":{\"endlinecolor\":\"#2a3f5f\",\"gridcolor\":\"white\",\"linecolor\":\"white\",\"minorgridcolor\":\"white\",\"startlinecolor\":\"#2a3f5f\"},\"baxis\":{\"endlinecolor\":\"#2a3f5f\",\"gridcolor\":\"white\",\"linecolor\":\"white\",\"minorgridcolor\":\"white\",\"startlinecolor\":\"#2a3f5f\"},\"type\":\"carpet\"}],\"table\":[{\"cells\":{\"fill\":{\"color\":\"#EBF0F8\"},\"line\":{\"color\":\"white\"}},\"header\":{\"fill\":{\"color\":\"#C8D4E3\"},\"line\":{\"color\":\"white\"}},\"type\":\"table\"}],\"barpolar\":[{\"marker\":{\"line\":{\"color\":\"#E5ECF6\",\"width\":0.5},\"pattern\":{\"fillmode\":\"overlay\",\"size\":10,\"solidity\":0.2}},\"type\":\"barpolar\"}],\"pie\":[{\"automargin\":true,\"type\":\"pie\"}]},\"layout\":{\"autotypenumbers\":\"strict\",\"colorway\":[\"#636efa\",\"#EF553B\",\"#00cc96\",\"#ab63fa\",\"#FFA15A\",\"#19d3f3\",\"#FF6692\",\"#B6E880\",\"#FF97FF\",\"#FECB52\"],\"font\":{\"color\":\"#2a3f5f\"},\"hovermode\":\"closest\",\"hoverlabel\":{\"align\":\"left\"},\"paper_bgcolor\":\"white\",\"plot_bgcolor\":\"#E5ECF6\",\"polar\":{\"bgcolor\":\"#E5ECF6\",\"angularaxis\":{\"gridcolor\":\"white\",\"linecolor\":\"white\",\"ticks\":\"\"},\"radialaxis\":{\"gridcolor\":\"white\",\"linecolor\":\"white\",\"ticks\":\"\"}},\"ternary\":{\"bgcolor\":\"#E5ECF6\",\"aaxis\":{\"gridcolor\":\"white\",\"linecolor\":\"white\",\"ticks\":\"\"},\"baxis\":{\"gridcolor\":\"white\",\"linecolor\":\"white\",\"ticks\":\"\"},\"caxis\":{\"gridcolor\":\"white\",\"linecolor\":\"white\",\"ticks\":\"\"}},\"coloraxis\":{\"colorbar\":{\"outlinewidth\":0,\"ticks\":\"\"}},\"colorscale\":{\"sequential\":[[0.0,\"#0d0887\"],[0.1111111111111111,\"#46039f\"],[0.2222222222222222,\"#7201a8\"],[0.3333333333333333,\"#9c179e\"],[0.4444444444444444,\"#bd3786\"],[0.5555555555555556,\"#d8576b\"],[0.6666666666666666,\"#ed7953\"],[0.7777777777777778,\"#fb9f3a\"],[0.8888888888888888,\"#fdca26\"],[1.0,\"#f0f921\"]],\"sequentialminus\":[[0.0,\"#0d0887\"],[0.1111111111111111,\"#46039f\"],[0.2222222222222222,\"#7201a8\"],[0.3333333333333333,\"#9c179e\"],[0.4444444444444444,\"#bd3786\"],[0.5555555555555556,\"#d8576b\"],[0.6666666666666666,\"#ed7953\"],[0.7777777777777778,\"#fb9f3a\"],[0.8888888888888888,\"#fdca26\"],[1.0,\"#f0f921\"]],\"diverging\":[[0,\"#8e0152\"],[0.1,\"#c51b7d\"],[0.2,\"#de77ae\"],[0.3,\"#f1b6da\"],[0.4,\"#fde0ef\"],[0.5,\"#f7f7f7\"],[0.6,\"#e6f5d0\"],[0.7,\"#b8e186\"],[0.8,\"#7fbc41\"],[0.9,\"#4d9221\"],[1,\"#276419\"]]},\"xaxis\":{\"gridcolor\":\"white\",\"linecolor\":\"white\",\"ticks\":\"\",\"title\":{\"standoff\":15},\"zerolinecolor\":\"white\",\"automargin\":true,\"zerolinewidth\":2},\"yaxis\":{\"gridcolor\":\"white\",\"linecolor\":\"white\",\"ticks\":\"\",\"title\":{\"standoff\":15},\"zerolinecolor\":\"white\",\"automargin\":true,\"zerolinewidth\":2},\"scene\":{\"xaxis\":{\"backgroundcolor\":\"#E5ECF6\",\"gridcolor\":\"white\",\"linecolor\":\"white\",\"showbackground\":true,\"ticks\":\"\",\"zerolinecolor\":\"white\",\"gridwidth\":2},\"yaxis\":{\"backgroundcolor\":\"#E5ECF6\",\"gridcolor\":\"white\",\"linecolor\":\"white\",\"showbackground\":true,\"ticks\":\"\",\"zerolinecolor\":\"white\",\"gridwidth\":2},\"zaxis\":{\"backgroundcolor\":\"#E5ECF6\",\"gridcolor\":\"white\",\"linecolor\":\"white\",\"showbackground\":true,\"ticks\":\"\",\"zerolinecolor\":\"white\",\"gridwidth\":2}},\"shapedefaults\":{\"line\":{\"color\":\"#2a3f5f\"}},\"annotationdefaults\":{\"arrowcolor\":\"#2a3f5f\",\"arrowhead\":0,\"arrowwidth\":1},\"geo\":{\"bgcolor\":\"white\",\"landcolor\":\"#E5ECF6\",\"subunitcolor\":\"white\",\"showland\":true,\"showlakes\":true,\"lakecolor\":\"white\"},\"title\":{\"x\":0.05},\"mapbox\":{\"style\":\"light\"}}},\"polar\":{\"radialaxis\":{\"range\":[0,100],\"showticklabels\":false}},\"title\":{\"subtitle\":{\"text\":\"Traits Selected from Llama 3.3 70B's PCs\"},\"text\":\"Default Behavior Expressing Traits from Top 5 Trait PCs\"},\"height\":500,\"width\":600,\"showlegend\":true},                        {\"responsive\": true}                    ).then(function(){\n",
       "                            \n",
       "var gd = document.getElementById('060f0943-9ee3-4c87-b2f0-e059d276ff0b');\n",
       "var x = new MutationObserver(function (mutations, observer) {{\n",
       "        var display = window.getComputedStyle(gd).display;\n",
       "        if (!display || display === 'none') {{\n",
       "            console.log([gd, 'removed!']);\n",
       "            Plotly.purge(gd);\n",
       "            observer.disconnect();\n",
       "        }}\n",
       "}});\n",
       "\n",
       "// Listen for the removal of the full notebook cells\n",
       "var notebookContainer = gd.closest('#notebook-container');\n",
       "if (notebookContainer) {{\n",
       "    x.observe(notebookContainer, {childList: true});\n",
       "}}\n",
       "\n",
       "// Listen for the clearing of the current output cell\n",
       "var outputEl = gd.closest('.output');\n",
       "if (outputEl) {{\n",
       "    x.observe(outputEl, {childList: true});\n",
       "}}\n",
       "\n",
       "                        })                };                });            </script>        </div>"
      ]
     },
     "metadata": {},
     "output_type": "display_data"
    }
   ],
   "source": [
    "# Original plot with just mean behavior scores for plot1\n",
    "import plotly.graph_objects as go\n",
    "\n",
    "# Create a single polar plot\n",
    "fig = go.Figure()\n",
    "\n",
    "# Define colors for each model\n",
    "colors = ['rgb(31, 119, 180)', 'rgb(255, 127, 14)', 'rgb(44, 160, 44)']\n",
    "\n",
    "# Add traces for each model\n",
    "for idx, model in enumerate(models):\n",
    "    values1 = [pc_stats_df.loc[model, col] for col in plot1_contents]\n",
    "    values1.append(values1[0])  # Close the pentagon\n",
    "    \n",
    "    fig.add_trace(\n",
    "        go.Scatterpolar(\n",
    "            r=values1,\n",
    "            theta=plot1_labels + [plot1_labels[0]],\n",
    "            name=model,\n",
    "            line=dict(color=colors[idx])\n",
    "        )\n",
    "    )\n",
    "\n",
    "# Update polar axes\n",
    "fig.update_polars(\n",
    "    radialaxis=dict(\n",
    "        range=[0, 100],\n",
    "        showticklabels=False\n",
    "    )\n",
    ")\n",
    "\n",
    "# Update layout\n",
    "fig.update_layout(\n",
    "    title={\n",
    "        'text': \"Default Behavior Expressing Traits from Top 5 Trait PCs\",\n",
    "        'subtitle': {\n",
    "        'text': 'Traits Selected from Llama 3.3 70B\\'s PCs',\n",
    "    }},\n",
    "    height=500,\n",
    "    width=600,\n",
    "    showlegend=True\n",
    ")\n",
    "\n",
    "fig.show()\n"
   ]
  },
  {
   "cell_type": "code",
   "execution_count": null,
   "id": "3571bfce",
   "metadata": {},
   "outputs": [],
   "source": []
  }
 ],
 "metadata": {
  "kernelspec": {
   "display_name": ".venv",
   "language": "python",
   "name": "python3"
  },
  "language_info": {
   "name": "python",
   "version": "3.13.5"
  }
 },
 "nbformat": 4,
 "nbformat_minor": 5
}
